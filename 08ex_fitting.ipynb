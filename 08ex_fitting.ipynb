{
 "cells": [
  {
   "cell_type": "markdown",
   "metadata": {},
   "source": [
    "1\\. **2D minimization of a six-hump camelback function**\n",
    "\n",
    "$$f(x,y) = \\left(4-2.1x^2+\\frac{x^4}{3} \\right) x^2 +xy + (4y^2 -4)y^2$$\n",
    "\n",
    "has multiple global and local minima.\n",
    "\n",
    "- Find the global minima of this function\n",
    "- How many global minima are there, and what is the function value at those points?\n",
    "- What happens for an initial guess of $(x, y) = (0, 0)$?\n",
    "\n",
    "Hints:\n",
    "\n",
    "* Variables can be restricted to $-2 < x < 2$ and $-1 < y < 1$.\n",
    "* Use `numpy.meshgrid()` and `pylab.imshow()` to find visually the regions.\n",
    "* Use `scipy.optimize.minimize()`, optionally trying its optional arguments."
   ]
  },
  {
   "cell_type": "code",
   "execution_count": 185,
   "metadata": {},
   "outputs": [],
   "source": [
    "import numpy as np \n",
    "import pandas as pd\n",
    "import matplotlib as mpl\n",
    "import matplotlib.pyplot as plt\n",
    "import scipy as sp\n",
    "from scipy import optimize\n",
    "import pickle\n",
    "import math \n",
    "from scipy.stats import norm"
   ]
  },
  {
   "cell_type": "markdown",
   "metadata": {},
   "source": []
  },
  {
   "cell_type": "code",
   "execution_count": 186,
   "metadata": {},
   "outputs": [
    {
     "ename": "TypeError",
     "evalue": "'numpy.ndarray' object is not callable",
     "output_type": "error",
     "traceback": [
      "\u001b[0;31m---------------------------------------------------------------------------\u001b[0m",
      "\u001b[0;31mTypeError\u001b[0m                                 Traceback (most recent call last)",
      "\u001b[0;32m<ipython-input-186-23103fe6557b>\u001b[0m in \u001b[0;36m<module>\u001b[0;34m\u001b[0m\n\u001b[1;32m      6\u001b[0m \u001b[0mxv\u001b[0m\u001b[0;34m,\u001b[0m \u001b[0myv\u001b[0m \u001b[0;34m=\u001b[0m \u001b[0mnp\u001b[0m\u001b[0;34m.\u001b[0m\u001b[0mmeshgrid\u001b[0m\u001b[0;34m(\u001b[0m\u001b[0mx\u001b[0m\u001b[0;34m,\u001b[0m \u001b[0my\u001b[0m\u001b[0;34m)\u001b[0m\u001b[0;34m\u001b[0m\u001b[0;34m\u001b[0m\u001b[0m\n\u001b[1;32m      7\u001b[0m \u001b[0mF\u001b[0m\u001b[0;34m=\u001b[0m \u001b[0mfunc\u001b[0m\u001b[0;34m(\u001b[0m\u001b[0mxv\u001b[0m\u001b[0;34m,\u001b[0m\u001b[0myv\u001b[0m\u001b[0;34m)\u001b[0m\u001b[0;34m\u001b[0m\u001b[0;34m\u001b[0m\u001b[0m\n\u001b[0;32m----> 8\u001b[0;31m \u001b[0mglb_min\u001b[0m \u001b[0;34m=\u001b[0m \u001b[0msp\u001b[0m\u001b[0;34m.\u001b[0m\u001b[0moptimize\u001b[0m\u001b[0;34m.\u001b[0m\u001b[0mminimize\u001b[0m\u001b[0;34m(\u001b[0m\u001b[0mF\u001b[0m\u001b[0;34m,\u001b[0m \u001b[0mx0\u001b[0m\u001b[0;34m=\u001b[0m \u001b[0;34m[\u001b[0m\u001b[0;36m0\u001b[0m\u001b[0;34m,\u001b[0m\u001b[0;36m0\u001b[0m\u001b[0;34m]\u001b[0m\u001b[0;34m,\u001b[0m \u001b[0mbounds\u001b[0m \u001b[0;34m=\u001b[0m \u001b[0mbounds\u001b[0m\u001b[0;34m)\u001b[0m\u001b[0;34m\u001b[0m\u001b[0;34m\u001b[0m\u001b[0m\n\u001b[0m\u001b[1;32m      9\u001b[0m \u001b[0mprint\u001b[0m\u001b[0;34m(\u001b[0m\u001b[0mglb_min\u001b[0m\u001b[0;34m)\u001b[0m\u001b[0;34m\u001b[0m\u001b[0;34m\u001b[0m\u001b[0m\n\u001b[1;32m     10\u001b[0m \u001b[0;34m\u001b[0m\u001b[0m\n",
      "\u001b[0;32m/opt/anaconda3/lib/python3.8/site-packages/scipy/optimize/_minimize.py\u001b[0m in \u001b[0;36mminimize\u001b[0;34m(fun, x0, args, method, jac, hess, hessp, bounds, constraints, tol, callback, options)\u001b[0m\n\u001b[1;32m    617\u001b[0m                                   **options)\n\u001b[1;32m    618\u001b[0m     \u001b[0;32melif\u001b[0m \u001b[0mmeth\u001b[0m \u001b[0;34m==\u001b[0m \u001b[0;34m'l-bfgs-b'\u001b[0m\u001b[0;34m:\u001b[0m\u001b[0;34m\u001b[0m\u001b[0;34m\u001b[0m\u001b[0m\n\u001b[0;32m--> 619\u001b[0;31m         return _minimize_lbfgsb(fun, x0, args, jac, bounds,\n\u001b[0m\u001b[1;32m    620\u001b[0m                                 callback=callback, **options)\n\u001b[1;32m    621\u001b[0m     \u001b[0;32melif\u001b[0m \u001b[0mmeth\u001b[0m \u001b[0;34m==\u001b[0m \u001b[0;34m'tnc'\u001b[0m\u001b[0;34m:\u001b[0m\u001b[0;34m\u001b[0m\u001b[0;34m\u001b[0m\u001b[0m\n",
      "\u001b[0;32m/opt/anaconda3/lib/python3.8/site-packages/scipy/optimize/lbfgsb.py\u001b[0m in \u001b[0;36m_minimize_lbfgsb\u001b[0;34m(fun, x0, args, jac, bounds, disp, maxcor, ftol, gtol, eps, maxfun, maxiter, iprint, callback, maxls, finite_diff_rel_step, **unknown_options)\u001b[0m\n\u001b[1;32m    304\u001b[0m             \u001b[0miprint\u001b[0m \u001b[0;34m=\u001b[0m \u001b[0mdisp\u001b[0m\u001b[0;34m\u001b[0m\u001b[0;34m\u001b[0m\u001b[0m\n\u001b[1;32m    305\u001b[0m \u001b[0;34m\u001b[0m\u001b[0m\n\u001b[0;32m--> 306\u001b[0;31m     sf = _prepare_scalar_function(fun, x0, jac=jac, args=args, epsilon=eps,\n\u001b[0m\u001b[1;32m    307\u001b[0m                                   \u001b[0mbounds\u001b[0m\u001b[0;34m=\u001b[0m\u001b[0mnew_bounds\u001b[0m\u001b[0;34m,\u001b[0m\u001b[0;34m\u001b[0m\u001b[0;34m\u001b[0m\u001b[0m\n\u001b[1;32m    308\u001b[0m                                   finite_diff_rel_step=finite_diff_rel_step)\n",
      "\u001b[0;32m/opt/anaconda3/lib/python3.8/site-packages/scipy/optimize/optimize.py\u001b[0m in \u001b[0;36m_prepare_scalar_function\u001b[0;34m(fun, x0, jac, args, bounds, epsilon, finite_diff_rel_step, hess)\u001b[0m\n\u001b[1;32m    259\u001b[0m     \u001b[0;31m# ScalarFunction caches. Reuse of fun(x) during grad\u001b[0m\u001b[0;34m\u001b[0m\u001b[0;34m\u001b[0m\u001b[0;34m\u001b[0m\u001b[0m\n\u001b[1;32m    260\u001b[0m     \u001b[0;31m# calculation reduces overall function evaluations.\u001b[0m\u001b[0;34m\u001b[0m\u001b[0;34m\u001b[0m\u001b[0;34m\u001b[0m\u001b[0m\n\u001b[0;32m--> 261\u001b[0;31m     sf = ScalarFunction(fun, x0, args, grad, hess,\n\u001b[0m\u001b[1;32m    262\u001b[0m                         finite_diff_rel_step, bounds, epsilon=epsilon)\n\u001b[1;32m    263\u001b[0m \u001b[0;34m\u001b[0m\u001b[0m\n",
      "\u001b[0;32m/opt/anaconda3/lib/python3.8/site-packages/scipy/optimize/_differentiable_functions.py\u001b[0m in \u001b[0;36m__init__\u001b[0;34m(self, fun, x0, args, grad, hess, finite_diff_rel_step, finite_diff_bounds, epsilon)\u001b[0m\n\u001b[1;32m    134\u001b[0m \u001b[0;34m\u001b[0m\u001b[0m\n\u001b[1;32m    135\u001b[0m         \u001b[0mself\u001b[0m\u001b[0;34m.\u001b[0m\u001b[0m_update_fun_impl\u001b[0m \u001b[0;34m=\u001b[0m \u001b[0mupdate_fun\u001b[0m\u001b[0;34m\u001b[0m\u001b[0;34m\u001b[0m\u001b[0m\n\u001b[0;32m--> 136\u001b[0;31m         \u001b[0mself\u001b[0m\u001b[0;34m.\u001b[0m\u001b[0m_update_fun\u001b[0m\u001b[0;34m(\u001b[0m\u001b[0;34m)\u001b[0m\u001b[0;34m\u001b[0m\u001b[0;34m\u001b[0m\u001b[0m\n\u001b[0m\u001b[1;32m    137\u001b[0m \u001b[0;34m\u001b[0m\u001b[0m\n\u001b[1;32m    138\u001b[0m         \u001b[0;31m# Gradient evaluation\u001b[0m\u001b[0;34m\u001b[0m\u001b[0;34m\u001b[0m\u001b[0;34m\u001b[0m\u001b[0m\n",
      "\u001b[0;32m/opt/anaconda3/lib/python3.8/site-packages/scipy/optimize/_differentiable_functions.py\u001b[0m in \u001b[0;36m_update_fun\u001b[0;34m(self)\u001b[0m\n\u001b[1;32m    224\u001b[0m     \u001b[0;32mdef\u001b[0m \u001b[0m_update_fun\u001b[0m\u001b[0;34m(\u001b[0m\u001b[0mself\u001b[0m\u001b[0;34m)\u001b[0m\u001b[0;34m:\u001b[0m\u001b[0;34m\u001b[0m\u001b[0;34m\u001b[0m\u001b[0m\n\u001b[1;32m    225\u001b[0m         \u001b[0;32mif\u001b[0m \u001b[0;32mnot\u001b[0m \u001b[0mself\u001b[0m\u001b[0;34m.\u001b[0m\u001b[0mf_updated\u001b[0m\u001b[0;34m:\u001b[0m\u001b[0;34m\u001b[0m\u001b[0;34m\u001b[0m\u001b[0m\n\u001b[0;32m--> 226\u001b[0;31m             \u001b[0mself\u001b[0m\u001b[0;34m.\u001b[0m\u001b[0m_update_fun_impl\u001b[0m\u001b[0;34m(\u001b[0m\u001b[0;34m)\u001b[0m\u001b[0;34m\u001b[0m\u001b[0;34m\u001b[0m\u001b[0m\n\u001b[0m\u001b[1;32m    227\u001b[0m             \u001b[0mself\u001b[0m\u001b[0;34m.\u001b[0m\u001b[0mf_updated\u001b[0m \u001b[0;34m=\u001b[0m \u001b[0;32mTrue\u001b[0m\u001b[0;34m\u001b[0m\u001b[0;34m\u001b[0m\u001b[0m\n\u001b[1;32m    228\u001b[0m \u001b[0;34m\u001b[0m\u001b[0m\n",
      "\u001b[0;32m/opt/anaconda3/lib/python3.8/site-packages/scipy/optimize/_differentiable_functions.py\u001b[0m in \u001b[0;36mupdate_fun\u001b[0;34m()\u001b[0m\n\u001b[1;32m    131\u001b[0m \u001b[0;34m\u001b[0m\u001b[0m\n\u001b[1;32m    132\u001b[0m         \u001b[0;32mdef\u001b[0m \u001b[0mupdate_fun\u001b[0m\u001b[0;34m(\u001b[0m\u001b[0;34m)\u001b[0m\u001b[0;34m:\u001b[0m\u001b[0;34m\u001b[0m\u001b[0;34m\u001b[0m\u001b[0m\n\u001b[0;32m--> 133\u001b[0;31m             \u001b[0mself\u001b[0m\u001b[0;34m.\u001b[0m\u001b[0mf\u001b[0m \u001b[0;34m=\u001b[0m \u001b[0mfun_wrapped\u001b[0m\u001b[0;34m(\u001b[0m\u001b[0mself\u001b[0m\u001b[0;34m.\u001b[0m\u001b[0mx\u001b[0m\u001b[0;34m)\u001b[0m\u001b[0;34m\u001b[0m\u001b[0;34m\u001b[0m\u001b[0m\n\u001b[0m\u001b[1;32m    134\u001b[0m \u001b[0;34m\u001b[0m\u001b[0m\n\u001b[1;32m    135\u001b[0m         \u001b[0mself\u001b[0m\u001b[0;34m.\u001b[0m\u001b[0m_update_fun_impl\u001b[0m \u001b[0;34m=\u001b[0m \u001b[0mupdate_fun\u001b[0m\u001b[0;34m\u001b[0m\u001b[0;34m\u001b[0m\u001b[0m\n",
      "\u001b[0;32m/opt/anaconda3/lib/python3.8/site-packages/scipy/optimize/_differentiable_functions.py\u001b[0m in \u001b[0;36mfun_wrapped\u001b[0;34m(x)\u001b[0m\n\u001b[1;32m    128\u001b[0m         \u001b[0;32mdef\u001b[0m \u001b[0mfun_wrapped\u001b[0m\u001b[0;34m(\u001b[0m\u001b[0mx\u001b[0m\u001b[0;34m)\u001b[0m\u001b[0;34m:\u001b[0m\u001b[0;34m\u001b[0m\u001b[0;34m\u001b[0m\u001b[0m\n\u001b[1;32m    129\u001b[0m             \u001b[0mself\u001b[0m\u001b[0;34m.\u001b[0m\u001b[0mnfev\u001b[0m \u001b[0;34m+=\u001b[0m \u001b[0;36m1\u001b[0m\u001b[0;34m\u001b[0m\u001b[0;34m\u001b[0m\u001b[0m\n\u001b[0;32m--> 130\u001b[0;31m             \u001b[0;32mreturn\u001b[0m \u001b[0mfun\u001b[0m\u001b[0;34m(\u001b[0m\u001b[0mx\u001b[0m\u001b[0;34m,\u001b[0m \u001b[0;34m*\u001b[0m\u001b[0margs\u001b[0m\u001b[0;34m)\u001b[0m\u001b[0;34m\u001b[0m\u001b[0;34m\u001b[0m\u001b[0m\n\u001b[0m\u001b[1;32m    131\u001b[0m \u001b[0;34m\u001b[0m\u001b[0m\n\u001b[1;32m    132\u001b[0m         \u001b[0;32mdef\u001b[0m \u001b[0mupdate_fun\u001b[0m\u001b[0;34m(\u001b[0m\u001b[0;34m)\u001b[0m\u001b[0;34m:\u001b[0m\u001b[0;34m\u001b[0m\u001b[0;34m\u001b[0m\u001b[0m\n",
      "\u001b[0;31mTypeError\u001b[0m: 'numpy.ndarray' object is not callable"
     ]
    }
   ],
   "source": [
    "def func(x,y):\n",
    "    return (4-2.1*(x**2)+x**4/3 ) * x**2 +(4*y**2-4)*y**2\n",
    "bounds = [[-2,2],[-1,1]]\n",
    "x = np.arange(-2.0,2.0,0.05)\n",
    "y = np.arange(-1.0,1.0,0.05)\n",
    "xv, yv = np.meshgrid(x, y)\n",
    "F= func(xv,yv)\n",
    "glb_min = sp.optimize.minimize(F, x0= [0,0], bounds = bounds)\n",
    "print(glb_min)\n",
    "\n",
    "plt.imshow(glb_min['x'])"
   ]
  },
  {
   "cell_type": "markdown",
   "metadata": {},
   "source": [
    "2\\. **Curve fitting of temperature in Alaska** \n",
    "\n",
    "The temperature extremes in Alaska for each month, starting in January, are given by (in degrees Celcius):\n",
    "\n",
    "max:  `17,  19,  21,  28,  33,  38, 37,  37,  31,  23,  19,  18`\n",
    "\n",
    "min: `-62, -59, -56, -46, -32, -18, -9, -13, -25, -46, -52, -58`\n",
    "\n",
    "* Plot these temperatures.\n",
    "* Find a suitable a function that can describe min and max temperatures. \n",
    "* Fit this function to the data with `scipy.optimize.curve_fit()`.\n",
    "* Plot the result. Is the fit reasonable? If not, why?\n",
    "* Is the time offset for min and max temperatures the same within the fit accuracy?"
   ]
  },
  {
   "cell_type": "code",
   "execution_count": 187,
   "metadata": {},
   "outputs": [
    {
     "name": "stdout",
     "output_type": "stream",
     "text": [
      "[ 23.09207219   6.73581561   3.24481663 -15.77934372]\n",
      "----\n",
      "[52.64929203  7.16452598 -2.79434476 61.32093631]\n",
      "----\n",
      "0.9858796078364743\n",
      "----\n",
      "0.9946041936397227\n",
      "----\n",
      "6.039161397544484\n",
      "----\n",
      "2.7087577366805196\n"
     ]
    },
    {
     "data": {
      "image/png": "[encoded data removed]",
      "text/plain": [
       "<Figure size 432x288 with 1 Axes>"
      ]
     },
     "metadata": {
      "needs_background": "light"
     },
     "output_type": "display_data"
    }
   ],
   "source": [
    "maxtemp = [17,  19,  21,  28,  33,  38, 37,  37,  31,  23,  19,  18]\n",
    "mintemp = [-62, -59, -56, -46, -32, -18, -9, -13, -25, -46, -52, -58]\n",
    "plt.plot(maxtemp, marker = 'o')\n",
    "plt.plot(mintemp,marker ='o')\n",
    "length_max = list(range(1, len(maxtemp)+1))\n",
    "length_min = list(range(1,len(mintemp)+1))\n",
    "\n",
    "def f(x,a,b,c,d):\n",
    "   # return a * (np.sin((b*x) -c)) + d\n",
    "    return a * np.exp(-np.power(x-b,2)/(np.power(c,2)))-d\n",
    "\n",
    "\n",
    "popt, pcov = sp.optimize.curve_fit(f, length_max,maxtemp)\n",
    "print(popt)\n",
    "print(\"----\")\n",
    "popt1, pcov1 = sp.optimize.curve_fit(f, length_min,mintemp)\n",
    "print(popt1)\n",
    "print(\"----\")\n",
    "\n",
    "\n",
    "x = np.linspace(-2,20,100)\n",
    "plt.plot(x, f(x,*popt))\n",
    "plt.plot(x,f(x,*popt1))\n",
    "\n",
    "ssr_max = np.sum(( f(length_max,popt[0],popt[1], popt[2],popt[3])- maxtemp)**2)\n",
    "tss_max = np.sum((np.mean(maxtemp) - maxtemp)**2)\n",
    "\n",
    "rsq_max = 1 - ssr_max / tss_max\n",
    "print(rsq_max)\n",
    "print(\"----\")\n",
    "\n",
    "ssr_min = np.sum(( f(length_min,popt1[0],popt1[1], popt1[2],popt1[3])- mintemp)**2)\n",
    "tss_min = np.sum((np.mean(mintemp) - mintemp)**2)\n",
    "\n",
    "rsq_min = 1 - ssr_min / tss_min\n",
    "print(rsq_min)\n",
    "\n",
    "\n",
    "phi1 = popt[2]\n",
    "phi2 = popt1[2]\n",
    "var1 = ssr_max/len(maxtemp)\n",
    "var2 = ssr_min/len(maxtemp)\n",
    "print(\"----\")\n",
    "print(abs(phi1-phi2))\n",
    "print(\"----\")\n",
    "print(var1+var2)"
   ]
  },
  {
   "cell_type": "markdown",
   "metadata": {},
   "source": [
    "3\\. **Fit the residues**\n",
    "\n",
    "Read the `data/residuals_261.pkl` file. If you haven't it already, download it from here:\n",
    "\n",
    "```bash\n",
    "wget https://www.dropbox.com/s/3uqleyc3wyz52tr/residuals_261.pkl -P data/\n",
    "```\n",
    "\n",
    "The feature name \"residual\" contains the residuals (defined as $y_i - \\hat{y}_i$) of a linear regression as a function of the independent variable \"distances\".\n",
    "\n",
    "- Considering only the \"residual\" feature, create an histogram with the appropriate binning and display it.\n",
    "- Set the appropriate Poisson uncertainty for each bin (thus, for each bin, $\\sigma_i = \\sqrt{n_i}$, where $n_i$ is the number of entries in each bin)\n",
    "- By looking at the distribution of the residuals, define an appropriate function and fit it to the histogram of the residuals\n",
    "- Perform a goodness-of-fit test. Is the p-value of the fit satisfactory?"
   ]
  },
  {
   "cell_type": "code",
   "execution_count": 188,
   "metadata": {},
   "outputs": [
    {
     "name": "stdout",
     "output_type": "stream",
     "text": [
      "       residuals  distances\n",
      "0       1.100000       16.0\n",
      "1      -1.950000        6.3\n",
      "2      -7.200000        3.4\n",
      "3      -4.150000        8.4\n",
      "4      -6.590000        1.7\n",
      "...          ...        ...\n",
      "11126  -0.760000       14.4\n",
      "11127   0.380000        7.5\n",
      "11128   0.083333        1.7\n",
      "11129   0.166667       19.1\n",
      "11130   0.083333        2.6\n",
      "\n",
      "[11131 rows x 2 columns]\n",
      "p-value = 0.4954537257139111\n"
     ]
    },
    {
     "data": {
      "image/png": "[encoded data removed]",
      "text/plain": [
       "<Figure size 720x720 with 2 Axes>"
      ]
     },
     "metadata": {
      "needs_background": "light"
     },
     "output_type": "display_data"
    }
   ],
   "source": [
    "from scipy.stats import norm\n",
    "\n",
    "df = pd.DataFrame(pd.read_pickle('data/residuals_261.pkl').item())\n",
    "\n",
    "print(df)\n",
    "df = df[df['residuals']>-3]\n",
    "df = df[df['residuals']<3]\n",
    "\n",
    "bins = 25\n",
    "fig, ax = plt.subplots(ncols=1, nrows=2, figsize=(10,10))\n",
    "hist = ax[0].hist((df['residuals']), bins=bins, color='blue', edgecolor='red')\n",
    "bin_edges = hist[1]\n",
    "bin_centers = 0.5*(bin_edges[1:] + bin_edges[:-1])\n",
    "h = hist[0]\n",
    "def gauss(x, mean, std):\n",
    "    return norm.pdf(x, mean, std)\n",
    "\n",
    "\n",
    "mu, sigma = norm.fit(df['residuals'])\n",
    "\n",
    "xfit = np.linspace(bin_edges[0], bin_edges[-1], 10000)\n",
    "plt.plot(xfit, f_gauss(xfit, mu, sigma))\n",
    "\n",
    "ndof = len(df['residuals']) - 1\n",
    "chi2 = np.sum(np.square(df['residuals'] - np.mean(df['residuals'])))/np.square(sigma)\n",
    "pvalue = 1. - sp.stats.chi2.cdf(chi2, ndof)\n",
    "print(\"p-value =\", pvalue)\n",
    "\n",
    "#the fit is satisfactory since the p_value>0.05\n"
   ]
  },
  {
   "cell_type": "code",
   "execution_count": 40,
   "metadata": {},
   "outputs": [
    {
     "name": "stdout",
     "output_type": "stream",
     "text": [
      "--2022-01-07 15:02:44--  https://www.dropbox.com/s/3uqleyc3wyz52tr/residuals_261.pkl\n",
      "Resolving www.dropbox.com (www.dropbox.com)... 162.125.69.18\n",
      "Connecting to www.dropbox.com (www.dropbox.com)|162.125.69.18|:443... connected.\n",
      "HTTP request sent, awaiting response... 301 Moved Permanently\n",
      "Location: /s/raw/3uqleyc3wyz52tr/residuals_261.pkl [following]\n",
      "--2022-01-07 15:02:45--  https://www.dropbox.com/s/raw/3uqleyc3wyz52tr/residuals_261.pkl\n",
      "Reusing existing connection to www.dropbox.com:443.\n",
      "HTTP request sent, awaiting response... 302 Found\n",
      "Location: https://uc72b3be31a754e672e51e3f5f81.dl.dropboxusercontent.com/cd/0/inline/BdWa5rJQ5CgR87udC6M0YG0hsCpTJDs3xqUmmwibbking5lymczQsMUBgVPsEBvLMci1tpg3dt2F3bgx-6OX1Ue-oJ_axvhti9InamQyDUArrI9unQRVefTeugGB8b9OLOZi8336irDy7LjeWPiYP2Xg/file# [following]\n",
      "--2022-01-07 15:02:46--  https://uc72b3be31a754e672e51e3f5f81.dl.dropboxusercontent.com/cd/0/inline/BdWa5rJQ5CgR87udC6M0YG0hsCpTJDs3xqUmmwibbking5lymczQsMUBgVPsEBvLMci1tpg3dt2F3bgx-6OX1Ue-oJ_axvhti9InamQyDUArrI9unQRVefTeugGB8b9OLOZi8336irDy7LjeWPiYP2Xg/file\n",
      "Resolving uc72b3be31a754e672e51e3f5f81.dl.dropboxusercontent.com (uc72b3be31a754e672e51e3f5f81.dl.dropboxusercontent.com)... 162.125.69.15\n",
      "Connecting to uc72b3be31a754e672e51e3f5f81.dl.dropboxusercontent.com (uc72b3be31a754e672e51e3f5f81.dl.dropboxusercontent.com)|162.125.69.15|:443... connected.\n",
      "HTTP request sent, awaiting response... 302 Found\n",
      "Location: /cd/0/inline2/BdXiOA1Aqh-DxUMnUmyJ2DjsKztE8eazcg2vJyW2kDVmgIrmsXu1_U5c52H-aG4q_czKJYjlifU4TKCGgCMXF11xZvt09lagDl9SceAk6we4Fj3hIDo4UWre0-VWBjthcgXuKotopIRo_2Md90zaKoqxoASt2nG7-8imFQtUpo5oZ5Pm6_Dl9TnKE8YrA2-0zmsOYZn-YLwZPr79sZbQsOowpQe1BR3S7v_BGZaZAXsaQUKvrCM9ISOqfHYO5N7FE4EM_ahOGX8az3BY-b60MVhGycWrYW6GeMXBPCmgoFx-DfKjEo4_kyC_dvXclFUNdhV554usVBQcUSXNnQfkh4w_lybbY0O8ftlpTBeaiLSEOZqLeTlQnRe2CJvLYY8_GxM/file [following]\n",
      "--2022-01-07 15:02:46--  https://uc72b3be31a754e672e51e3f5f81.dl.dropboxusercontent.com/cd/0/inline2/BdXiOA1Aqh-DxUMnUmyJ2DjsKztE8eazcg2vJyW2kDVmgIrmsXu1_U5c52H-aG4q_czKJYjlifU4TKCGgCMXF11xZvt09lagDl9SceAk6we4Fj3hIDo4UWre0-VWBjthcgXuKotopIRo_2Md90zaKoqxoASt2nG7-8imFQtUpo5oZ5Pm6_Dl9TnKE8YrA2-0zmsOYZn-YLwZPr79sZbQsOowpQe1BR3S7v_BGZaZAXsaQUKvrCM9ISOqfHYO5N7FE4EM_ahOGX8az3BY-b60MVhGycWrYW6GeMXBPCmgoFx-DfKjEo4_kyC_dvXclFUNdhV554usVBQcUSXNnQfkh4w_lybbY0O8ftlpTBeaiLSEOZqLeTlQnRe2CJvLYY8_GxM/file\n",
      "Reusing existing connection to uc72b3be31a754e672e51e3f5f81.dl.dropboxusercontent.com:443.\n",
      "HTTP request sent, awaiting response... 200 OK\n",
      "Length: 178390 (174K) [application/octet-stream]\n",
      "Saving to: ‘data/residuals_261.pkl’\n",
      "\n",
      "residuals_261.pkl   100%[===================>] 174,21K   465KB/s    in 0,4s    \n",
      "\n",
      "2022-01-07 15:02:47 (465 KB/s) - ‘data/residuals_261.pkl’ saved [178390/178390]\n",
      "\n"
     ]
    }
   ],
   "source": [
    "!wget https://www.dropbox.com/s/3uqleyc3wyz52tr/residuals_261.pkl -P data/"
   ]
  },
  {
   "cell_type": "markdown",
   "metadata": {},
   "source": [
    "4\\. **Temperatures in Munich**\n",
    "\n",
    "Get the following data file:\n",
    "\n",
    "```bash\n",
    "https://www.dropbox.com/s/7gy9yjl00ymxb8h/munich_temperatures_average_with_bad_data.txt\n",
    "```\n",
    "\n",
    "which gives the temperature in Munich every day for several years.\n",
    "\n",
    "\n",
    "Fit the following function to the data:\n",
    "\n",
    "$$f(t) = a \\cos(2\\pi t + b)+c$$\n",
    "\n",
    "where $t$ is the time in years.\n",
    "\n",
    "- Make a plot of the data and the best-fit model in the range 2008 to 2012.\n",
    "\n",
    "   - What are the best-fit values of the parameters?\n",
    "\n",
    "   - What is the overall average temperature in Munich, and what are the typical daily average values predicted by the model for the coldest and hottest time of year?\n",
    "\n",
    "   - What is the meaning of the $b$ parameter, and what physical sense does it have?\n",
    "\n",
    "\n",
    "- Now fit the data with the function $g(x)$, which has 1 more parameter than $f(x)$.\n",
    "$$g(x) = a \\cos(2\\pi b t + c)+d$$\n",
    "   - What are the RSS for $f(x)$ and $g(x)$?\n",
    "   - Use the Fisher F-test to determine whether the additional parameter is necessary."
   ]
  },
  {
   "cell_type": "code",
   "execution_count": 194,
   "metadata": {},
   "outputs": [
    {
     "name": "stdout",
     "output_type": "stream",
     "text": [
      "6679\n",
      "___\n",
      "6679\n",
      "<class 'numpy.ndarray'>\n",
      "Best parameters after the fit are [-9.67127681 12.34271735  9.05256209]\n",
      "Average temperature in Munich is 8.941907038598593\n",
      "Average temperature predicted by the model 8.94056140020425\n",
      "Best parameters after the fit are [-9.67127681 12.34271735  9.05256209]\n",
      "The RSS for f(x) is 1336026.1369107089\n",
      "The RSS for g(x) is 1310815.8230334842\n",
      "1.1102230246251565e-16\n"
     ]
    },
    {
     "data": {
      "image/png": "[encoded data removed]",
      "text/plain": [
       "<Figure size 432x288 with 1 Axes>"
      ]
     },
     "metadata": {
      "needs_background": "light"
     },
     "output_type": "display_data"
    }
   ],
   "source": [
    "def f_temp(x, a, b, c):\n",
    "    return a * np.cos(2 * np.pi * x + b) + c\n",
    "\n",
    "def g_temp(x,a,b,c,d):\n",
    "    return a * np.cos(2 * np.pi * x * b+c) + d\n",
    "popt3, pcov3 = sp.optimize.curve_fit(g_temp, date, temperature)\n",
    "plt.plot(x, g_temp(x, *popt3), color='yellow')\n",
    "\n",
    "def Ftest(ssr_1, ssr_2, ndof_1, ndof_2, nbins, verbose=False):\n",
    "    F = ((ssr_1 - ssr_2)/(ndof_2 - ndof_1)) / (ssr_2/(nbins - ndof_2))\n",
    "    CL = 1. - sp.stats.f.cdf(F, ndof_2 - ndof_1, nbins - ndof_2)\n",
    "    if verbose: print(\"CL: %.3f\" % CL, \", additional parameter necessary:\", \"YES\" if CL < 0.10 else \"NO\")\n",
    "    return CL\n",
    "\n",
    "\n",
    "date, temperature = np.loadtxt('munich_temperatures_average_with_bad_data.txt', unpack=True)\n",
    "print(len(date))\n",
    "print('___')\n",
    "print(len(temperature))\n",
    "print(type(date))\n",
    "#df = pd.DataFrame( data = date, columns = 'date')\n",
    "#print(df)\n",
    "\n",
    "plt.plot(date,temperature, color='blue')\n",
    "\n",
    "popt2, pcov2 = sp.optimize.curve_fit(f_temp, date, temperature)\n",
    "x = np.linspace(2008, 2012, 150)\n",
    "plt.plot(x, f_temp(x, *popt2), color='red')\n",
    "print('Best parameters after the fit are', popt2)\n",
    "print('Average temperature in Munich is', np.mean(temperature))\n",
    "print('Average temperature predicted by the model', np.mean(f_temp(temperature,*popt2)))\n",
    "#print(df['date'(temperature(np.min(temperature))\n",
    "\n",
    "popt3, pcov3 = sp.optimize.curve_fit(g_temp, date, temperature)\n",
    "plt.plot(x, g_temp(x, *popt3), color='yellow', linestyle='dashed')\n",
    "print('Best parameters after the fit are', popt2)\n",
    "\n",
    "y1=f_temp(temperature,*popt2)\n",
    "y2=g_temp(temperature,*popt3)\n",
    "ssr1 = np.sum(( y1- temperature)**2)\n",
    "ssr2 = np.sum(( y2- temperature)**2)\n",
    "print('The RSS for f(x) is',ssr1)\n",
    "print('The RSS for g(x) is',ssr2)\n",
    "\n",
    "\n",
    "\n",
    "CL=Ftest(ssr1,ssr2,3,4,len(temperature))\n",
    "print(CL)\n",
    "\n",
    "\n",
    "\n",
    "\n",
    "\n",
    "#idk why it doesn't print everything. seemed to be working in the class notebook, however since CL<0.1 then the 4th parameter is not necessary \n",
    "\n",
    "\n",
    "\n",
    "\n"
   ]
  },
  {
   "cell_type": "code",
   "execution_count": 190,
   "metadata": {},
   "outputs": [
    {
     "name": "stdout",
     "output_type": "stream",
     "text": [
      "--2022-01-15 21:48:12--  https://www.dropbox.com/s/7gy9yjl00ymxb8h/munich_temperatures_average_with_bad_data.txt\n",
      "Resolving www.dropbox.com (www.dropbox.com)... 162.125.69.18\n",
      "Connecting to www.dropbox.com (www.dropbox.com)|162.125.69.18|:443... connected.\n",
      "HTTP request sent, awaiting response... 301 Moved Permanently\n",
      "Location: /s/raw/7gy9yjl00ymxb8h/munich_temperatures_average_with_bad_data.txt [following]\n",
      "--2022-01-15 21:48:12--  https://www.dropbox.com/s/raw/7gy9yjl00ymxb8h/munich_temperatures_average_with_bad_data.txt\n",
      "Reusing existing connection to www.dropbox.com:443.\n",
      "HTTP request sent, awaiting response... 302 Found\n",
      "Location: https://uc23f2a93a759707212a3f00d478.dl.dropboxusercontent.com/cd/0/inline/Bd3cvEHRm-Ada_Xsx8E6d8aO9uOKfIuzc9shs_CG8oAIQK5KNNIITXlbsBW808SPta66rGdat1kNLzqADz7QjQEqazTMXtLjfQUEDEENO-vCQC2ydkK9kXj52KYW467yPkrxayLymYWlgs_IeWuk9LsG/file# [following]\n",
      "--2022-01-15 21:48:13--  https://uc23f2a93a759707212a3f00d478.dl.dropboxusercontent.com/cd/0/inline/Bd3cvEHRm-Ada_Xsx8E6d8aO9uOKfIuzc9shs_CG8oAIQK5KNNIITXlbsBW808SPta66rGdat1kNLzqADz7QjQEqazTMXtLjfQUEDEENO-vCQC2ydkK9kXj52KYW467yPkrxayLymYWlgs_IeWuk9LsG/file\n",
      "Resolving uc23f2a93a759707212a3f00d478.dl.dropboxusercontent.com (uc23f2a93a759707212a3f00d478.dl.dropboxusercontent.com)... 162.125.69.15\n",
      "Connecting to uc23f2a93a759707212a3f00d478.dl.dropboxusercontent.com (uc23f2a93a759707212a3f00d478.dl.dropboxusercontent.com)|162.125.69.15|:443... connected.\n",
      "HTTP request sent, awaiting response... 200 OK\n",
      "Length: 125482 (123K) [text/plain]\n",
      "Saving to: ‘munich_temperatures_average_with_bad_data.txt.1’\n",
      "\n",
      "munich_temperatures 100%[===================>] 122,54K   437KB/s    in 0,3s    \n",
      "\n",
      "2022-01-15 21:48:14 (437 KB/s) - ‘munich_temperatures_average_with_bad_data.txt.1’ saved [125482/125482]\n",
      "\n"
     ]
    }
   ],
   "source": [
    "!wget https://www.dropbox.com/s/7gy9yjl00ymxb8h/munich_temperatures_average_with_bad_data.txt\n"
   ]
  },
  {
   "cell_type": "code",
   "execution_count": null,
   "metadata": {},
   "outputs": [],
   "source": []
  }
 ],
 "metadata": {
  "kernelspec": {
   "display_name": "Python 3",
   "language": "python",
   "name": "python3"
  },
  "language_info": {
   "codemirror_mode": {
    "name": "ipython",
    "version": 3
   },
   "file_extension": ".py",
   "mimetype": "text/x-python",
   "name": "python",
   "nbconvert_exporter": "python",
   "pygments_lexer": "ipython3",
   "version": "3.8.8"
  }
 },
 "nbformat": 4,
 "nbformat_minor": 2
}
