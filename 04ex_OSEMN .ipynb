{
 "cells": [
  {
   "cell_type": "markdown",
   "metadata": {},
   "source": [
    "# OSEMN Exercises"
   ]
  },
  {
   "cell_type": "code",
   "execution_count": 32,
   "metadata": {},
   "outputs": [],
   "source": [
    "import pandas as pd\n",
    "import numpy as np\n",
    "import numpy.random as npr\n",
    "import matplotlib.pyplot as plt\n",
    "\n",
    "%matplotlib inline\n",
    "npr.seed(123)"
   ]
  },
  {
   "cell_type": "markdown",
   "metadata": {},
   "source": [
    "1\\. Create a random list of number and then save it to a text file named \"simple_data.txt\""
   ]
  },
  {
   "cell_type": "code",
   "execution_count": 5,
   "metadata": {
    "scrolled": false
   },
   "outputs": [
    {
     "name": "stdout",
     "output_type": "stream",
     "text": [
      "Numbers of random numbers: 10\n",
      "Extreme of the random numbers interval: 0 12\n"
     ]
    }
   ],
   "source": [
    "n = int( input(\"Numbers of random numbers: \") )\n",
    "a, b = [int(i) for i in input(\"Extreme of the random numbers interval: \").split()] \n",
    "\n",
    "random_array = npr.uniform(low = a, high = b, size = n)     \n",
    "random_list = random_array.tolist()\n"
   ]
  },
  {
   "cell_type": "markdown",
   "metadata": {},
   "source": [
    "**Version one**"
   ]
  },
  {
   "cell_type": "code",
   "execution_count": 6,
   "metadata": {
    "scrolled": true
   },
   "outputs": [
    {
     "name": "stdout",
     "output_type": "stream",
     "text": [
      "4.118136193810432\r\n",
      "8.748596488608499\r\n",
      "5.262866936155493\r\n",
      "0.7161347593148202\r\n",
      "4.776531063965177\r\n",
      "8.855944868784428\r\n",
      "2.1899007654419997\r\n",
      "2.1054210737699104\r\n",
      "6.378616486102061\r\n",
      "6.381931045162393\r\n"
     ]
    }
   ],
   "source": [
    "with open(\"simple_data.txt\", \"w\") as file:\n",
    "    for element in random_list:\n",
    "        file.write(str(element) + \"\\n\")\n",
    "\n",
    "file.close()\n",
    "\n",
    "! cat simple_data.txt"
   ]
  },
  {
   "cell_type": "markdown",
   "metadata": {},
   "source": [
    "**Version two**"
   ]
  },
  {
   "cell_type": "code",
   "execution_count": 7,
   "metadata": {
    "scrolled": true
   },
   "outputs": [
    {
     "name": "stdout",
     "output_type": "stream",
     "text": [
      "4.1181\r\n",
      "8.7486\r\n",
      "5.2629\r\n",
      "0.7161\r\n",
      "4.7765\r\n",
      "8.8559\r\n",
      "2.1899\r\n",
      "2.1054\r\n",
      "6.3786\r\n",
      "6.3819\r\n"
     ]
    }
   ],
   "source": [
    "with open(\"simple_data2.txt\", \"w\") as file:\n",
    "    np.savetxt(file, random_array, fmt = '%.4f')\n",
    "    \n",
    "file.close()\n",
    "\n",
    "! cat simple_data2.txt"
   ]
  },
  {
   "cell_type": "markdown",
   "metadata": {},
   "source": [
    "**Version three**"
   ]
  },
  {
   "cell_type": "code",
   "execution_count": 8,
   "metadata": {},
   "outputs": [
    {
     "name": "stdout",
     "output_type": "stream",
     "text": [
      "[4.118136193810432, 8.748596488608499, 5.262866936155493, 0.7161347593148202, 4.776531063965177, 8.855944868784428, 2.1899007654419997, 2.1054210737699104, 6.378616486102061, 6.381931045162393]"
     ]
    }
   ],
   "source": [
    "with open(\"simple_data3.txt\", \"w\") as file:\n",
    "    file.write(str(random_list))\n",
    "    \n",
    "file.close()\n",
    "\n",
    "! cat simple_data3.txt"
   ]
  },
  {
   "cell_type": "markdown",
   "metadata": {},
   "source": [
    "2\\. Create a random matrix of 5x5 and then save it to a text file named \"data.txt\""
   ]
  },
  {
   "cell_type": "code",
   "execution_count": 14,
   "metadata": {},
   "outputs": [
    {
     "name": "stdout",
     "output_type": "stream",
     "text": [
      "Size of the random matrix (two integer numbers): 4 5\n",
      "Extreme of the random numbers interval: 0 9\n"
     ]
    }
   ],
   "source": [
    "s1, s2 = [int(i) for i in input(\"Size of the random matrix (two integer numbers): \").split()] \n",
    "s = (s1, s2)\n",
    "a, b = [int(i) for i in input(\"Extreme of the random numbers interval: \").split()] \n",
    "\n",
    "random_matrix = npr.uniform(low = a, high = b, size = s)"
   ]
  },
  {
   "cell_type": "code",
   "execution_count": 15,
   "metadata": {},
   "outputs": [],
   "source": [
    "with open(\"data.txt\", \"w\") as file2:\n",
    "    np.savetxt(file2, random_matrix, fmt = '%.4f')\n",
    "\n",
    "file2.close()"
   ]
  },
  {
   "cell_type": "code",
   "execution_count": 16,
   "metadata": {},
   "outputs": [
    {
     "name": "stdout",
     "output_type": "stream",
     "text": [
      "6.0238 5.2734 5.6241 6.0722 7.5811\r\n",
      "0.7488 6.8731 2.1930 1.7480 5.1521\r\n",
      "0.8614 7.9679 5.6452 6.5107 0.1452\r\n",
      "5.3499 5.0111 1.4306 1.3776 6.2598\r\n"
     ]
    }
   ],
   "source": [
    "! cat data.txt"
   ]
  },
  {
   "cell_type": "markdown",
   "metadata": {},
   "source": [
    "3\\. Load the saved txt file of point 2 and convert it to a csv file (by hand)"
   ]
  },
  {
   "cell_type": "markdown",
   "metadata": {},
   "source": [
    "**Version one**"
   ]
  },
  {
   "cell_type": "code",
   "execution_count": 17,
   "metadata": {},
   "outputs": [
    {
     "name": "stdout",
     "output_type": "stream",
     "text": [
      "6.023824046660451,5.273428973059916,5.624131518860398,6.072201458890423,7.581081938582315\r\n",
      "0.7487548949919489,6.873145572990044,2.192997370831866,1.7480066452089378,5.152112617423258\r\n",
      "0.861412649511484,7.967941436476257,5.645240748461418,6.5107472237095925,0.14516286025515146\r\n",
      "5.349886915005382,5.011066731548598,1.4306367973025047,1.377634636122958,6.259765758938198\r\n"
     ]
    }
   ],
   "source": [
    "file_csv = open(\"data_csv.data\", \"w\")\n",
    "\n",
    "\n",
    "for line in random_matrix:\n",
    "    for j in range(len(line)):\n",
    "        if j == len(line)-1: \n",
    "            file_csv.write( str(line[j]))\n",
    "        else: \n",
    "            file_csv.write( str(line[j]) + \",\" )\n",
    "    file_csv.write(\"\\n\")\n",
    "        \n",
    "        \n",
    "file_csv.close()\n",
    "! cat data_csv.data"
   ]
  },
  {
   "cell_type": "markdown",
   "metadata": {},
   "source": [
    "**Version two**"
   ]
  },
  {
   "cell_type": "code",
   "execution_count": 19,
   "metadata": {},
   "outputs": [
    {
     "name": "stdout",
     "output_type": "stream",
     "text": [
      "6.0238,5.2734,5.6241,6.0722,7.5811\r\n",
      "0.7488,6.8731,2.1930,1.7480,5.1521\r\n",
      "0.8614,7.9679,5.6452,6.5107,0.1452\r\n",
      "5.3499,5.0111,1.4306,1.3776,6.2598\r\n"
     ]
    }
   ],
   "source": [
    "import sys, fileinput\n",
    "\n",
    "\n",
    "for line in fileinput.input(\"data.txt\", inplace = True):\n",
    "    sys.stdout.write(line.replace(\" \", \",\"))  \n",
    "\n",
    "fileinput.close()\n",
    "! cat data.txt   "
   ]
  },
  {
   "cell_type": "markdown",
   "metadata": {},
   "source": [
    "4\\. load the binary file named *credit_card.dat* and convert the data into the real credit-card number.\n",
    "Each line correspond to a credit card number.\n",
    "Each character is composed by 6 bit (even the space) and the last 4 bit are just a padding\n",
    "\n",
    "**hint**: use the `chr()` function to convert a number to a char"
   ]
  },
  {
   "cell_type": "code",
   "execution_count": 22,
   "metadata": {},
   "outputs": [
    {
     "name": "stdout",
     "output_type": "stream",
     "text": [
      "7648 5673 3775 2271\r\n",
      "3257 8247 3354 2266\r\n",
      "2722 0001 4011 6652\r\n",
      "0661 3063 3742 3150\r\n",
      "0432 1608 1462 4742\r\n",
      "5827 2027 8785 7303\r\n",
      "5774 8528 2087 1117\r\n",
      "8140 1210 6352 2845\r\n",
      "5764 1133 7301 7100\r\n",
      "6456 1737 4126 6726\r\n",
      "1228 8631 7382 0000\r\n",
      "7051 0160 5374 3166\r\n",
      "0618 3587 1630 6376\r\n",
      "1545 5454 7444 5636\r\n",
      "6735 3116 3202 6834\r\n",
      "7287 5011 1547 8413\r\n",
      "7033 2607 3328 4200\r\n",
      "2568 5244 1874 5024\r\n",
      "1684 2253 7570 7118\r\n",
      "0672 2576 0575 6631\r\n",
      "6332 8353 8787 1340\r\n",
      "1813 3361 1175 4211\r\n",
      "2477 6450 8840 2368\r\n",
      "5512 3505 2563 1326\r\n",
      "3083 7882 0621 0025\r\n",
      "4521 5148 8045 0334\r\n",
      "7563 3654 8713 5787\r\n",
      "8324 2664 0476 5561\r\n",
      "0565 2504 7168 3510\r\n",
      "5107 5507 1767 0738\r\n",
      "2462 1821 2448 1443\r\n",
      "2788 0638 6861 6554\r\n",
      "5851 5873 5474 0547\r\n",
      "0670 1004 4013 2655\r\n",
      "5874 5506 3048 0806\r\n",
      "2805 5401 8462 1260\r\n",
      "5083 8406 6310 1862\r\n",
      "1076 1445 3013 2266\r\n",
      "8440 4804 4844 5277\r\n",
      "4758 6141 0686 1387\r\n",
      "7586 0675 0315 2568\r\n",
      "2544 1258 7432 5165\r\n",
      "3474 5023 4434 5626\r\n",
      "1410 0270 0434 5086\r\n",
      "7315 4446 1104 4215\r\n",
      "0224 7742 8300 0266\r\n",
      "0170 2700 3145 0640\r\n",
      "2006 2437 8054 1600\r\n",
      "8142 4055 1776 0026\r\n",
      "3026 7380 1241 1084\r\n",
      "\r\n"
     ]
    }
   ],
   "source": [
    "import re\n",
    "\n",
    "cc = open(\"creditcard_converted.txt\", \"w\")\n",
    "\n",
    "with open(\"credit_card.dat\", \"r\") as cc_bit:\n",
    "    \n",
    "    for line in cc_bit:                      \n",
    "        chonks = re.findall('......', line)    \n",
    "        \n",
    "        for j in range(len(chonks)): \n",
    "                block = chr(int(chonks[j], 2))\n",
    "                cc.write(block)  \n",
    "        cc.write(\"\\n\")       \n",
    "\n",
    "cc.close()\n",
    "cc_bit.close()\n",
    "! cat creditcard_converted.txt"
   ]
  },
  {
   "cell_type": "markdown",
   "metadata": {},
   "source": [
    "5\\. Load the file \"user_data.json\", filter the data by the \"CreditCardType\" field equals to \"American Express\". Than save the data a to CSV."
   ]
  },
  {
   "cell_type": "code",
   "execution_count": 23,
   "metadata": {},
   "outputs": [
    {
     "name": "stdout",
     "output_type": "stream",
     "text": [
      "ID,JobTitle,EmailAddress,FirstNameLastName,CreditCard,CreditCardType\r\n",
      "2,Investment  Advisor,Clint_Thorpe5003@bulaffy.com,Clint Thorpe,7083-8766-0251-2345,American Express\r\n",
      "12,Retail Trainee,Phillip_Carpenter9505@famism.biz,Phillip Carpenter,3657-0088-0820-5247,American Express\r\n",
      "28,Project Manager,Russel_Graves1378@extex.org,Russel Graves,6718-4818-8011-6024,American Express\r\n",
      "39,Stockbroker,Leanne_Newton1268@typill.biz,Leanne Newton,5438-0816-4166-4847,American Express\r\n",
      "57,Budget Analyst,Tony_Giles1960@iatim.tech,Tony Giles,8130-3425-7573-7745,American Express\r\n",
      "62,CNC Operator,Owen_Allcott5125@bauros.biz,Owen Allcott,4156-0107-7210-2630,American Express\r\n",
      "68,Project Manager,Liam_Lynn3280@kideod.biz,Liam Lynn,7152-3247-6053-2233,American Express\r\n",
      "74,Dentist,Regina_Woodcock5820@yahoo.com,Regina Woodcock,0208-1753-3870-8002,American Express\r\n",
      "81,HR Specialist,Carter_Wallace9614@atink.com,Carter Wallace,4256-7201-6717-4322,American Express\r\n",
      "92,Staffing Consultant,Maia_Stark2797@jiman.org,Maia Stark,3851-1403-1734-6321,American Express\r\n",
      "97,Stockbroker,Ciara_Lomax982@bauros.biz,Ciara Lomax,3702-3440-2472-5424,American Express\r\n",
      "116,Staffing Consultant,Isabel_Ellwood1475@fuliss.net,Isabel Ellwood,3738-0882-0066-6683,American Express\r\n",
      "148,CNC Operator,Abdul_Townend2202@infotech44.tech,Abdul Townend,4224-1226-3557-3448,American Express\r\n",
      "150,Fabricator,Caleb_Poulton1735@atink.com,Caleb Poulton,8203-6875-5225-0341,American Express\r\n",
      "151,Restaurant Manager,Ronald_Lewis6777@deavo.com,Ronald Lewis,7212-0155-5014-8471,American Express\r\n",
      "154,Bellman,Faith_Seymour3829@twace.org,Faith Seymour,4170-5186-6887-6558,American Express\r\n",
      "169,Assistant Buyer,Anthony_Hancock9083@qater.org,Anthony Hancock,0832-3357-6010-6550,American Express\r\n",
      "176,Healthcare Specialist,Isabella_Willson5478@nanoff.biz,Isabella Willson,5177-4868-4623-0384,American Express\r\n",
      "182,Pharmacist,Stephanie_Darcy3298@bauros.biz,Stephanie Darcy,0264-4020-5106-5576,American Express\r\n",
      "199,Investment  Advisor,Ryan_Kennedy5565@corti.com,Ryan Kennedy,3166-6287-6242-7207,American Express\r\n"
     ]
    }
   ],
   "source": [
    "import json\n",
    "\n",
    "data = json.load(open(\"user_data.json\"))\n",
    "output = pd.DataFrame(columns = ['ID', 'JobTitle', 'EmailAddress', 'FirstNameLastName', 'CreditCard', \n",
    "                                 'CreditCardType'])\n",
    "\n",
    "for i in range(len(data)):\n",
    "    if data[i][\"CreditCardType\"] == \"American Express\": \n",
    "        output = output.append(data[i], ignore_index = True)\n",
    "\n",
    "\n",
    "output.to_csv(\"American_Express.csv\", index = False)\n",
    "! cat American_Express.csv        \n"
   ]
  },
  {
   "cell_type": "markdown",
   "metadata": {},
   "source": [
    "6\\. Load the file from this url: [https://www.dropbox.com/s/7u3lm737ogbqsg8/mushrooms_categorized.csv?dl=1](https://www.dropbox.com/s/7u3lm737ogbqsg8/mushrooms_categorized.csv?dl=1) with Pandas. \n",
    "+ Explore the data (see the info of the data)\n",
    "+ Draw the istogram of the 'class' field. Decribe wath yuou see\n"
   ]
  },
  {
   "cell_type": "code",
   "execution_count": 28,
   "metadata": {},
   "outputs": [
    {
     "name": "stdout",
     "output_type": "stream",
     "text": [
      "<class 'pandas.core.frame.DataFrame'>\n",
      "RangeIndex: 8124 entries, 0 to 8123\n",
      "Data columns (total 23 columns):\n",
      " #   Column                    Non-Null Count  Dtype\n",
      "---  ------                    --------------  -----\n",
      " 0   class                     8124 non-null   int64\n",
      " 1   cap-shape                 8124 non-null   int64\n",
      " 2   cap-surface               8124 non-null   int64\n",
      " 3   cap-color                 8124 non-null   int64\n",
      " 4   bruises                   8124 non-null   int64\n",
      " 5   odor                      8124 non-null   int64\n",
      " 6   gill-attachment           8124 non-null   int64\n",
      " 7   gill-spacing              8124 non-null   int64\n",
      " 8   gill-size                 8124 non-null   int64\n",
      " 9   gill-color                8124 non-null   int64\n",
      " 10  stalk-shape               8124 non-null   int64\n",
      " 11  stalk-root                8124 non-null   int64\n",
      " 12  stalk-surface-above-ring  8124 non-null   int64\n",
      " 13  stalk-surface-below-ring  8124 non-null   int64\n",
      " 14  stalk-color-above-ring    8124 non-null   int64\n",
      " 15  stalk-color-below-ring    8124 non-null   int64\n",
      " 16  veil-type                 8124 non-null   int64\n",
      " 17  veil-color                8124 non-null   int64\n",
      " 18  ring-number               8124 non-null   int64\n",
      " 19  ring-type                 8124 non-null   int64\n",
      " 20  spore-print-color         8124 non-null   int64\n",
      " 21  population                8124 non-null   int64\n",
      " 22  habitat                   8124 non-null   int64\n",
      "dtypes: int64(23)\n",
      "memory usage: 1.4 MB\n"
     ]
    }
   ],
   "source": [
    "url = \"https://www.dropbox.com/s/7u3lm737ogbqsg8/mushrooms_categorized.csv?dl=1\"\n",
    "data = pd.read_csv(url, header = 0)\n",
    "\n",
    "data.info()"
   ]
  },
  {
   "cell_type": "code",
   "execution_count": 56,
   "metadata": {},
   "outputs": [
    {
     "data": {
      "image/png": "[encoded data removed]",
      "text/plain": [
       "<Figure size 432x288 with 1 Axes>"
      ]
     },
     "metadata": {
      "needs_background": "light"
     },
     "output_type": "display_data"
    }
   ],
   "source": [
    "plt.hist(data[\"class\"])\n",
    "plt.xlabel(\"Class\", fontsize = 13)\n",
    "plt.ylabel(\"Counts\", fontsize = 13)\n",
    "plt.grid(lw = 0.3)\n",
    "plt.show()\n",
    "\n",
    "\n",
    "# I see that the class feature assume only two values 0 and 1 into the dataframe"
   ]
  },
  {
   "cell_type": "markdown",
   "metadata": {},
   "source": [
    "7\\. Load the remote file [https://www.dropbox.com/s/vkl89yce7xjdq4n/regression_generated.csv?dl=1](https://www.dropbox.com/s/vkl89yce7xjdq4n/regression_generated.csv?dl=1) with Pandas and plot a scatter plot all possible combination of the following fields:\n",
    "    \n",
    "  + features_1\n",
    "  + features_2\n",
    "  + features_3"
   ]
  },
  {
   "cell_type": "code",
   "execution_count": 69,
   "metadata": {
    "scrolled": true
   },
   "outputs": [
    {
     "data": {
      "image/png": "[encoded data removed]",
      "text/plain": [
       "<Figure size 432x288 with 1 Axes>"
      ]
     },
     "metadata": {
      "needs_background": "light"
     },
     "output_type": "display_data"
    },
    {
     "data": {
      "image/png": "[encoded data removed]",
      "text/plain": [
       "<Figure size 432x288 with 1 Axes>"
      ]
     },
     "metadata": {
      "needs_background": "light"
     },
     "output_type": "display_data"
    },
    {
     "data": {
      "image/png": "[encoded data removed]",
      "text/plain": [
       "<Figure size 432x288 with 1 Axes>"
      ]
     },
     "metadata": {
      "needs_background": "light"
     },
     "output_type": "display_data"
    }
   ],
   "source": [
    "url2 = \"https://www.dropbox.com/s/vkl89yce7xjdq4n/regression_generated.csv?dl=1\"\n",
    "data2 = pd.read_csv(url2, header = 0)\n",
    "\n",
    "\n",
    "data2.plot.scatter(\"features_1\", \"features_2\", s = 3, alpha = 0.5)\n",
    "data2.plot.scatter(\"features_1\", \"features_3\", s = 3, alpha = 0.5)\n",
    "data2.plot.scatter(\"features_2\", \"features_3\", s = 3, alpha = 0.5)\n",
    "plt.show()\n"
   ]
  },
  {
   "cell_type": "markdown",
   "metadata": {},
   "source": [
    "8\\. Load the same file of point 6, and convert the file to json with Pandas."
   ]
  },
  {
   "cell_type": "markdown",
   "metadata": {},
   "source": [
    "**Version one**"
   ]
  },
  {
   "cell_type": "code",
   "execution_count": 70,
   "metadata": {},
   "outputs": [
    {
     "name": "stdout",
     "output_type": "stream",
     "text": [
      "{\"class\":1,\"cap-shape\":5,\"cap-surface\":2,\"cap-color\":4,\"bruises\":1,\"odor\":6,\"gill-attachment\":1,\"gill-spacing\":0,\"gill-size\":1,\"gill-color\":4,\"stalk-shape\":0,\"stalk-root\":3,\"stalk-surface-above-ring\":2,\"stalk-surface-below-ring\":2,\"stalk-color-above-ring\":7,\"stalk-color-below-ring\":7,\"veil-type\":0,\"veil-color\":2,\"ring-number\":1,\"ring-type\":4,\"spore-print-color\":2,\"population\":3,\"habitat\":5}\r\n",
      "{\"class\":0,\"cap-shape\":5,\"cap-surface\":2,\"cap-color\":9,\"bruises\":1,\"odor\":0,\"gill-attachment\":1,\"gill-spacing\":0,\"gill-size\":0,\"gill-color\":4,\"stalk-shape\":0,\"stalk-root\":2,\"stalk-surface-above-ring\":2,\"stalk-surface-below-ring\":2,\"stalk-color-above-ring\":7,\"stalk-color-below-ring\":7,\"veil-type\":0,\"veil-color\":2,\"ring-number\":1,\"ring-type\":4,\"spore-print-color\":3,\"population\":2,\"habitat\":1}\r\n"
     ]
    }
   ],
   "source": [
    "data.to_json(\"mushrooms.json\", orient = 'records', lines = True)\n",
    "! head -2 mushrooms.json"
   ]
  },
  {
   "cell_type": "markdown",
   "metadata": {},
   "source": [
    "**Version two**"
   ]
  },
  {
   "cell_type": "code",
   "execution_count": 77,
   "metadata": {
    "scrolled": false
   },
   "outputs": [
    {
     "name": "stdout",
     "output_type": "stream",
     "text": [
      "{\"class\": \"1\",\r\n",
      "\"cap-shape\": \"5\",\r\n",
      "\"cap-surface\": \"2\",\r\n",
      "\"cap-color\": \"4\",\r\n",
      "\"bruises\": \"1\",\r\n",
      "\"odor\": \"6\",\r\n",
      "\"gill-attachment\": \"1\",\r\n",
      "\"gill-spacing\": \"0\",\r\n",
      "\"gill-size\": \"1\",\r\n",
      "\"gill-color\": \"4\",\r\n",
      "\"stalk-shape\": \"0\",\r\n",
      "\"stalk-root\": \"3\",\r\n",
      "\"stalk-surface-above-ring\": \"2\",\r\n",
      "\"stalk-surface-below-ring\": \"2\",\r\n",
      "\"stalk-color-above-ring\": \"7\",\r\n",
      "\"stalk-color-below-ring\": \"7\",\r\n",
      "\"veil-type\": \"0\",\r\n",
      "\"veil-color\": \"2\",\r\n",
      "\"ring-number\": \"1\",\r\n",
      "\"ring-type\": \"4\",\r\n",
      "\"spore-print-color\": \"2\",\r\n",
      "\"population\": \"3\",\r\n",
      "\"habitat\": \"5\"},\r\n",
      "\r\n",
      "{\"class\": \"0\",\r\n",
      "\"cap-shape\": \"5\",\r\n",
      "\"cap-surface\": \"2\",\r\n",
      "\"cap-color\": \"9\",\r\n",
      "\"bruises\": \"1\",\r\n",
      "\"odor\": \"0\",\r\n",
      "\"gill-attachment\": \"1\",\r\n",
      "\"gill-spacing\": \"0\",\r\n",
      "\"gill-size\": \"0\",\r\n",
      "\"gill-color\": \"4\",\r\n",
      "\"stalk-shape\": \"0\",\r\n",
      "\"stalk-root\": \"2\",\r\n",
      "\"stalk-surface-above-ring\": \"2\",\r\n",
      "\"stalk-surface-below-ring\": \"2\",\r\n",
      "\"stalk-color-above-ring\": \"7\",\r\n",
      "\"stalk-color-below-ring\": \"7\",\r\n",
      "\"veil-type\": \"0\",\r\n",
      "\"veil-color\": \"2\",\r\n",
      "\"ring-number\": \"1\",\r\n",
      "\"ring-type\": \"4\",\r\n",
      "\"spore-print-color\": \"3\",\r\n",
      "\"population\": \"2\",\r\n",
      "\"habitat\": \"1\"},\r\n"
     ]
    }
   ],
   "source": [
    "def strFormat(x, y):\n",
    "    if \"class\" in x:\n",
    "        return('{' + '\"' + x + '\": ' + '\"' + y + '\"' + ',')\n",
    "    \n",
    "    elif \"habitat\" in x:\n",
    "        return('\"' + x + '\": ' + '\"' + y + '\"' + '},')\n",
    "        \n",
    "    else:\n",
    "        return('\"' + x + '\": ' + '\"' + y + '\"' + ',')\n",
    "      \n",
    "\n",
    "\n",
    "def Json(x):\n",
    "    if \"}\" in x:\n",
    "        f.write(x + '\\n\\n')\n",
    "        \n",
    "    else:\n",
    "        f.write(x + '\\n')\n",
    "\n",
    "\n",
    "vec_strFormat = np.vectorize(strFormat)\n",
    "vec_Json = np.vectorize(Json, otypes = [str])\n",
    "\n",
    "numpy_data = data.to_numpy(dtype = str, copy = True)\n",
    "names_data = data.columns\n",
    "\n",
    "M = (vec_strFormat(names_data, numpy_data)).flatten()\n",
    "M[len(M)-1] = re.sub(\",\", \"\", M[len(M)-1])\n",
    "\n",
    "f = open(\"mushrooms2.json\", \"w\")\n",
    "vec_Json(M)\n",
    "f.close()\n",
    "! head -47 mushrooms2.json"
   ]
  },
  {
   "cell_type": "code",
   "execution_count": null,
   "metadata": {
    "scrolled": false
   },
   "outputs": [],
   "source": []
  }
 ],
 "metadata": {
  "kernelspec": {
   "display_name": "Python 3",
   "language": "python",
   "name": "python3"
  },
  "language_info": {
   "codemirror_mode": {
    "name": "ipython",
    "version": 3
   },
   "file_extension": ".py",
   "mimetype": "text/x-python",
   "name": "python",
   "nbconvert_exporter": "python",
   "pygments_lexer": "ipython3",
   "version": "3.8.10"
  }
 },
 "nbformat": 4,
 "nbformat_minor": 2
}
