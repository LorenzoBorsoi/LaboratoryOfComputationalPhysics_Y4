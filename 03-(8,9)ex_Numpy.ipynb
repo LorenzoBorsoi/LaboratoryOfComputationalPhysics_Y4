{
 "cells": [
  {
   "cell_type": "markdown",
   "metadata": {},
   "source": [
    "### Numpy basics"
   ]
  },
  {
   "cell_type": "markdown",
   "metadata": {},
   "source": [
    "1\\. Find the row, column and overall means for the following matrix:\n",
    "\n",
    "```python\n",
    "m = np.arange(12).reshape((3,4))\n",
    "```"
   ]
  },
  {
   "cell_type": "markdown",
   "metadata": {},
   "source": [
    "2\\. Find the outer product of the following two vecotrs\n",
    "\n",
    "```python\n",
    "u = np.array([1,3,5,7])\n",
    "v = np.array([2,4,6,8])\n",
    "```\n",
    "\n",
    "Do this in the following ways:\n",
    "\n",
    "   * Using the function outer in numpy\n",
    "   * Using a nested for loop or list comprehension\n",
    "   * Using numpy broadcasting operatoins\n"
   ]
  },
  {
   "cell_type": "markdown",
   "metadata": {},
   "source": [
    "3\\. Create a 10 by 6 matrix of random uniform numbers. Set all rows with any entry less than 0.1 to be zero\n",
    "\n",
    "Hint: Use the following numpy functions - np.random.random, np.any as well as Boolean indexing and the axis argument."
   ]
  },
  {
   "cell_type": "markdown",
   "metadata": {},
   "source": [
    "4\\. Use np.linspace to create an array of 100 numbers between 0 and 2π (includsive).\n",
    "\n",
    "  * Extract every 10th element using slice notation\n",
    "  * Reverse the array using slice notation\n",
    "  * Extract elements where the absolute difference between the sine and cosine functions evaluated at that element is less than 0.1\n",
    "  * Make a plot showing the sin and cos functions and indicate where they are close"
   ]
  },
  {
   "cell_type": "markdown",
   "metadata": {},
   "source": [
    "5\\. Create a matrix that shows the 10 by 10 multiplication table.\n",
    "\n",
    " * Find the trace of the matrix\n",
    " * Extract the anto-diagonal (this should be ```array([10, 18, 24, 28, 30, 30, 28, 24, 18, 10])```)\n",
    " * Extract the diagnoal offset by 1 upwards (this should be ```array([ 2,  6, 12, 20, 30, 42, 56, 72, 90])```)"
   ]
  },
  {
   "cell_type": "markdown",
   "metadata": {},
   "source": [
    "6\\. Use broadcasting to create a grid of distances\n",
    "\n",
    "Route 66 crosses the following cities in the US: Chicago, Springfield, Saint-Louis, Tulsa, Oklahoma City, Amarillo, Santa Fe, Albuquerque, Flagstaff, Los Angeles\n",
    "The corresponding positions in miles are: 0, 198, 303, 736, 871, 1175, 1475, 1544, 1913, 2448\n",
    "\n",
    "  * Construct a 2D grid of distances among each city along Route 66\n",
    "  * Convert that in km (those savages...)"
   ]
  },
  {
   "cell_type": "markdown",
   "metadata": {},
   "source": [
    "7\\. Prime numbers sieve: compute the prime numbers in the 0-N (N=99 to start with) range with a sieve (mask).\n",
    "  * Constract a shape (100,) boolean array, the mask\n",
    "  * Identify the multiples of each number starting from 2 and set accordingly the corresponding mask element\n",
    "  * Apply the mask to obtain an array of ordered prime numbers\n",
    "  * Check the performances (timeit); how does it scale with N?\n",
    "  * Implement the optimization suggested in the [sieve of Eratosthenes](https://en.wikipedia.org/wiki/Sieve_of_Eratosthenes)"
   ]
  },
  {
   "cell_type": "markdown",
   "metadata": {},
   "source": [
    "**N.B. the following exercises are meant to be solved only if you are familiar with the numpy random library. If not you can skip them (postponed for one of the next exercise sessions)**\n"
   ]
  },
  {
   "cell_type": "markdown",
   "metadata": {},
   "source": [
    "8\\. Diffusion using random walk\n",
    "\n",
    "Consider a simple random walk process: at each step in time, a walker jumps right or left (+1 or -1) with equal probability. The goal is to find the typical distance from the origin of a random walker after a given amount of time. \n",
    "To do that, let's simulate many walkers and create a 2D array with each walker as a raw and the actual time evolution as columns\n",
    "\n",
    "  * Take 1000 walkers and let them walk for 200 steps\n",
    "  * Use randint to create a 2D array of size walkers x steps with values -1 or 1\n",
    "  * Build the actual walking distances for each walker (i.e. another 2D array \"summing on each raw\")\n",
    "  * Take the square of that 2D array (elementwise)\n",
    "  * Compute the mean of the squared distances at each step (i.e. the mean along the columns)\n",
    "  * Plot the average distances (sqrt(distance\\*\\*2)) as a function of time (step)\n",
    "  \n",
    "Did you get what you expected?"
   ]
  },
  {
   "cell_type": "code",
   "execution_count": 24,
   "metadata": {},
   "outputs": [
    {
     "name": "stdout",
     "output_type": "stream",
     "text": [
      "Take 1000 walkers and let them walk for 200 steps:\n",
      " [[-1 -1 1 ... -1 -1 1]\n",
      " [-1 1 1 ... 1 1 -1]\n",
      " [1 -1 1 ... -1 -1 -1]\n",
      " ...\n",
      " [1 1 1 ... -1 -1 1]\n",
      " [1 -1 1 ... 1 -1 -1]\n",
      " [1 1 -1 ... 1 1 1]] \n",
      "\n",
      "the actual walking distances for each walker:\n",
      " [[-1 -2 -1 ... 26 25 26]\n",
      " [-1 0 1 ... -4 -3 -4]\n",
      " [1 0 1 ... 40 39 38]\n",
      " ...\n",
      " [1 2 3 ... -6 -7 -6]\n",
      " [1 0 1 ... -4 -5 -6]\n",
      " [1 2 1 ... 10 11 12]] \n",
      "\n",
      " the square of that 2D array:\n",
      " [[1 4 1 ... 676 625 676]\n",
      " [1 0 1 ... 16 9 16]\n",
      " [1 0 1 ... 1600 1521 1444]\n",
      " ...\n",
      " [1 4 9 ... 36 49 36]\n",
      " [1 0 1 ... 16 25 36]\n",
      " [1 4 1 ... 100 121 144]] \n",
      "\n",
      "the mean of the squared distances at each step:\n",
      " [1.0 1.964 2.888 3.852 4.648 5.484 6.392 7.6 8.488 9.38 10.136 10.64\n",
      " 11.592 12.468 13.472 14.224 15.368 16.556 17.696 18.568 19.592 20.548\n",
      " 22.2 23.896 25.136 26.18 26.856 28.144 29.16 29.92 31.192 31.588 32.32\n",
      " 32.736 33.928 35.124 35.728 36.844 37.92 38.572 39.96 40.808 42.04 42.912\n",
      " 44.776 45.536 46.52 47.556 48.464 49.016 49.64 49.936 50.576 51.396\n",
      " 52.144 53.16 54.376 55.024 55.928 57.1 57.24 57.784 59.104 60.488 62.432\n",
      " 64.236 65.488 66.384 67.408 67.868 69.12 71.104 72.264 73.292 73.944\n",
      " 75.384 76.24 77.06 78.312 79.624 78.832 79.48 80.904 83.644 84.816 86.04\n",
      " 87.768 89.348 89.104 91.312 92.392 94.712 96.544 97.084 97.056 97.304\n",
      " 97.096 97.068 97.0 98.592 98.144 99.056 99.888 101.384 102.536 103.796\n",
      " 105.544 105.696 106.624 108.084 108.0 108.776 110.92 111.836 111.56\n",
      " 113.424 113.92 114.568 115.472 116.748 117.664 118.252 119.384 120.552\n",
      " 120.28 121.212 122.2 123.816 125.12 125.476 126.416 127.404 128.632\n",
      " 128.568 129.632 131.832 133.144 134.7 137.048 137.12 138.224 139.308\n",
      " 139.768 140.744 140.536 141.36 141.84 143.3 144.272 145.384 146.152\n",
      " 147.512 148.944 150.556 151.056 152.248 153.208 154.524 155.072 155.36\n",
      " 156.688 158.384 159.504 161.82 163.08 165.588 166.336 166.556 168.792\n",
      " 169.912 171.128 172.424 172.856 173.296 174.024 175.328 176.608 178.328\n",
      " 180.616 181.36 181.552 183.092 182.864 184.028 185.256 186.78 189.04\n",
      " 190.74 192.152 192.944 194.312 197.092 198.984 200.508 201.512 202.052\n",
      " 202.368 201.76 203.776 204.84] \n",
      "\n"
     ]
    },
    {
     "data": {
      "text/plain": [
       "[<matplotlib.lines.Line2D at 0x7fb33fc831c0>]"
      ]
     },
     "execution_count": 24,
     "metadata": {},
     "output_type": "execute_result"
    },
    {
     "data": {
      "image/png": "[encoded data removed]",
      "text/plain": [
       "<Figure size 432x288 with 1 Axes>"
      ]
     },
     "metadata": {
      "needs_background": "light"
     },
     "output_type": "display_data"
    }
   ],
   "source": [
    "import numpy as np\n",
    "import matplotlib.pyplot as plt\n",
    "\n",
    "walkers = np.empty(shape = (1000,200), dtype = \"object\")\n",
    "for i in range(1000):\n",
    "    for j in range(200):\n",
    "        walkers[i][j] = np.random.choice([-1,1])\n",
    "print(\"Take 1000 walkers and let them walk for 200 steps:\\n\",walkers,\"\\n\")\n",
    "\n",
    "sum_t = walkers.cumsum(axis=1)\n",
    "print(\"the actual walking distances for each walker:\\n\",sum_t,\"\\n\")  \n",
    "\n",
    "sum_t_2 = sum_t **2\n",
    "print(\" the square of that 2D array:\\n\",sum_t_2,\"\\n\")\n",
    "\n",
    "m = sum_t_2.mean(axis=0)\n",
    "print(\"the mean of the squared distances at each step:\\n\",m,\"\\n\")\n",
    "\n",
    "plt.plot([i for i in range(200)], (m)**(1/2))\n"
   ]
  },
  {
   "cell_type": "markdown",
   "metadata": {},
   "source": [
    "9\\. Analyze a data file \n",
    "  * Download the population of hares, lynxes and carrots at the beginning of the last century.\n",
    "    ```python\n",
    "    ! wget https://www.dropbox.com/s/3vigxoqayo389uc/populations.txt\n",
    "    ```\n",
    "\n",
    "  * Check the content by looking within the file\n",
    "  * Load the data (use an appropriate numpy method) into a 2D array\n",
    "  * Create arrays out of the columns, the arrays being (in order): *year*, *hares*, *lynxes*, *carrots* \n",
    "  * Plot the 3 populations over the years\n",
    "  * Compute the main statistical properties of the dataset (mean, std, correlations, etc.)\n",
    "  * Which species has the highest population each year?\n",
    "\n",
    "Do you feel there is some evident correlation here? [Studies](https://www.enr.gov.nt.ca/en/services/lynx/lynx-snowshoe-hare-cycle) tend to believe so."
   ]
  },
  {
   "cell_type": "code",
   "execution_count": 25,
   "metadata": {},
   "outputs": [
    {
     "name": "stdout",
     "output_type": "stream",
     "text": [
      "--2021-12-14 22:03:32--  https://www.dropbox.com/s/3vigxoqayo389uc/populations.txt\n",
      "Resolving www.dropbox.com (www.dropbox.com)... 162.125.69.18, 2620:100:6025:18::a27d:4512\n",
      "Connecting to www.dropbox.com (www.dropbox.com)|162.125.69.18|:443... connected.\n",
      "HTTP request sent, awaiting response... 301 Moved Permanently\n",
      "Location: /s/raw/3vigxoqayo389uc/populations.txt [following]\n",
      "--2021-12-14 22:03:33--  https://www.dropbox.com/s/raw/3vigxoqayo389uc/populations.txt\n",
      "Reusing existing connection to www.dropbox.com:443.\n",
      "HTTP request sent, awaiting response... 302 Found\n",
      "Location: https://uc0b8b4047503496dca3549d566c.dl.dropboxusercontent.com/cd/0/inline/Bb2bWgJ7HduXRTxs4GZ-gjp_4UBYWNCEbohv2ijtaflOQDAmm5R8Bp4TsrnFrhZxS6opi36Kr7H7l_e9IOO0fQOfSYOXoUr5Hj1L0R9EsHiKUjvEUdMPI8437MWyU0dxa1zDRb71xY-Zpt5nPpO9QUEr/file# [following]\n",
      "--2021-12-14 22:03:34--  https://uc0b8b4047503496dca3549d566c.dl.dropboxusercontent.com/cd/0/inline/Bb2bWgJ7HduXRTxs4GZ-gjp_4UBYWNCEbohv2ijtaflOQDAmm5R8Bp4TsrnFrhZxS6opi36Kr7H7l_e9IOO0fQOfSYOXoUr5Hj1L0R9EsHiKUjvEUdMPI8437MWyU0dxa1zDRb71xY-Zpt5nPpO9QUEr/file\n",
      "Resolving uc0b8b4047503496dca3549d566c.dl.dropboxusercontent.com (uc0b8b4047503496dca3549d566c.dl.dropboxusercontent.com)... 162.125.69.15, 2620:100:6025:15::a27d:450f\n",
      "Connecting to uc0b8b4047503496dca3549d566c.dl.dropboxusercontent.com (uc0b8b4047503496dca3549d566c.dl.dropboxusercontent.com)|162.125.69.15|:443... connected.\n",
      "HTTP request sent, awaiting response... 200 OK\n",
      "Length: 525 [text/plain]\n",
      "Saving to: ‘populations.txt.1’\n",
      "\n",
      "populations.txt.1   100%[===================>]     525  --.-KB/s    in 0s      \n",
      "\n",
      "2021-12-14 22:03:40 (34,5 MB/s) - ‘populations.txt.1’ saved [525/525]\n",
      "\n"
     ]
    }
   ],
   "source": [
    "! wget https://www.dropbox.com/s/3vigxoqayo389uc/populations.txt"
   ]
  },
  {
   "cell_type": "code",
   "execution_count": 29,
   "metadata": {},
   "outputs": [
    {
     "data": {
      "text/plain": [
       "array([[ 1900., 30000.,  4000., 48300.],\n",
       "       [ 1901., 47200.,  6100., 48200.],\n",
       "       [ 1902., 70200.,  9800., 41500.],\n",
       "       [ 1903., 77400., 35200., 38200.],\n",
       "       [ 1904., 36300., 59400., 40600.],\n",
       "       [ 1905., 20600., 41700., 39800.],\n",
       "       [ 1906., 18100., 19000., 38600.],\n",
       "       [ 1907., 21400., 13000., 42300.],\n",
       "       [ 1908., 22000.,  8300., 44500.],\n",
       "       [ 1909., 25400.,  9100., 42100.],\n",
       "       [ 1910., 27100.,  7400., 46000.],\n",
       "       [ 1911., 40300.,  8000., 46800.],\n",
       "       [ 1912., 57000., 12300., 43800.],\n",
       "       [ 1913., 76600., 19500., 40900.],\n",
       "       [ 1914., 52300., 45700., 39400.],\n",
       "       [ 1915., 19500., 51100., 39000.],\n",
       "       [ 1916., 11200., 29700., 36700.],\n",
       "       [ 1917.,  7600., 15800., 41800.],\n",
       "       [ 1918., 14600.,  9700., 43300.],\n",
       "       [ 1919., 16200., 10100., 41300.],\n",
       "       [ 1920., 24700.,  8600., 47300.]])"
      ]
     },
     "execution_count": 29,
     "metadata": {},
     "output_type": "execute_result"
    }
   ],
   "source": [
    "file = np.loadtxt('populations.txt.1', dtype='float', skiprows=1)\n",
    "file"
   ]
  },
  {
   "cell_type": "code",
   "execution_count": 38,
   "metadata": {},
   "outputs": [
    {
     "data": {
      "text/plain": [
       "<matplotlib.legend.Legend at 0x7fb3402a6640>"
      ]
     },
     "execution_count": 38,
     "metadata": {},
     "output_type": "execute_result"
    },
    {
     "data": {
      "image/png": "[encoded data removed]",
      "text/plain": [
       "<Figure size 432x288 with 1 Axes>"
      ]
     },
     "metadata": {
      "needs_background": "light"
     },
     "output_type": "display_data"
    }
   ],
   "source": [
    "year = file[:,0]\n",
    "hares = file[:,1]\n",
    "lynxes = file[:,2]\n",
    "carrots = file[:,3]\n",
    "\n",
    "plt.plot(year,hares)\n",
    "plt.plot(year,lynxes)\n",
    "plt.plot(year,carrots)\n",
    "plt.legend([\"Hares\",\"Lynxes\",\"Carrots\"])\n",
    "   "
   ]
  },
  {
   "cell_type": "code",
   "execution_count": 44,
   "metadata": {},
   "outputs": [
    {
     "name": "stdout",
     "output_type": "stream",
     "text": [
      "means: [1910.0, 34080.95238095238, 20166.666666666668, 42400.0] \n",
      "\n",
      "stds: [6.0553007081949835, 20897.906458089667, 16254.591536908763, 3322.5062255844787] \n",
      "\n",
      "correlate(hares, carrots): [3.032147e+10]\n",
      "correlate(carrots, lynxes): [1.718454e+10]\n",
      "correlate(hares, lynxes): [1.494612e+10]\n"
     ]
    }
   ],
   "source": [
    "means = []\n",
    "stds = []\n",
    "for i in range(4):\n",
    "    means.append(np.average(file[:,i]))\n",
    "    stds.append(np.std(file[:,i]))\n",
    "print(\"means:\",means,\"\\n\")\n",
    "print(\"stds:\",stds,\"\\n\")\n",
    "\n",
    "print(\"correlate(hares, carrots):\",np.correlate(hares, carrots))\n",
    "print(\"correlate(carrots, lynxes):\",np.correlate(carrots, lynxes))\n",
    "print(\"correlate(hares, lynxes):\",np.correlate(hares, lynxes))"
   ]
  },
  {
   "cell_type": "code",
   "execution_count": 58,
   "metadata": {},
   "outputs": [
    {
     "name": "stdout",
     "output_type": "stream",
     "text": [
      "the highest population in  1900.0 is: carrots with 48300.0 \n",
      "\n",
      "the highest population in  1901.0 is: carrots with 48200.0 \n",
      "\n",
      "the highest population in  1902.0 is: hares with 70200.0 \n",
      "\n",
      "the highest population in  1903.0 is: hares with 77400.0 \n",
      "\n",
      "the highest population in  1904.0 is: lynxes with 59400.0 \n",
      "\n",
      "the highest population in  1905.0 is: lynxes with 41700.0 \n",
      "\n",
      "the highest population in  1906.0 is: carrots with 38600.0 \n",
      "\n",
      "the highest population in  1907.0 is: carrots with 42300.0 \n",
      "\n",
      "the highest population in  1908.0 is: carrots with 44500.0 \n",
      "\n",
      "the highest population in  1909.0 is: carrots with 42100.0 \n",
      "\n",
      "the highest population in  1910.0 is: carrots with 46000.0 \n",
      "\n",
      "the highest population in  1911.0 is: carrots with 46800.0 \n",
      "\n",
      "the highest population in  1912.0 is: hares with 57000.0 \n",
      "\n",
      "the highest population in  1913.0 is: hares with 76600.0 \n",
      "\n",
      "the highest population in  1914.0 is: hares with 52300.0 \n",
      "\n",
      "the highest population in  1915.0 is: lynxes with 51100.0 \n",
      "\n",
      "the highest population in  1916.0 is: carrots with 36700.0 \n",
      "\n",
      "the highest population in  1917.0 is: carrots with 41800.0 \n",
      "\n",
      "the highest population in  1918.0 is: carrots with 43300.0 \n",
      "\n",
      "the highest population in  1919.0 is: carrots with 41300.0 \n",
      "\n",
      "the highest population in  1920.0 is: carrots with 47300.0 \n",
      "\n"
     ]
    }
   ],
   "source": [
    "a=[\"hares\", \"lynxes\", \"carrots\"]\n",
    "\n",
    "for i in range(len(file)):\n",
    "    print(\"the highest population in \",file[i,0],\"is:\",a[file[i,1:].argmax()],\"with\",file[i,1:].max(),\"\\n\")\n"
   ]
  },
  {
   "cell_type": "code",
   "execution_count": 60,
   "metadata": {},
   "outputs": [],
   "source": [
    "#they have same bihaviour but have delay. when each \n",
    "#one increase others will increase but with delay."
   ]
  },
  {
   "cell_type": "code",
   "execution_count": null,
   "metadata": {},
   "outputs": [],
   "source": []
  }
 ],
 "metadata": {
  "kernelspec": {
   "display_name": "Python 3",
   "language": "python",
   "name": "python3"
  },
  "language_info": {
   "codemirror_mode": {
    "name": "ipython",
    "version": 3
   },
   "file_extension": ".py",
   "mimetype": "text/x-python",
   "name": "python",
   "nbconvert_exporter": "python",
   "pygments_lexer": "ipython3",
   "version": "3.8.8"
  }
 },
 "nbformat": 4,
 "nbformat_minor": 2
}
