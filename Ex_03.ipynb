{
 "cells": [
  {
   "cell_type": "code",
   "execution_count": 3,
   "id": "6c14fd96",
   "metadata": {},
   "outputs": [
    {
     "name": "stdout",
     "output_type": "stream",
     "text": [
      "sum along the columns: [4. 5. 6. 7.]\n",
      "sum along the rows: [1.5 5.5 9.5]\n",
      "The overall mean is: 5.5\n"
     ]
    }
   ],
   "source": [
    "#Q1:\n",
    "\n",
    "import numpy as np\n",
    "\n",
    "m = np.arange(12).reshape((3,4))\n",
    "\n",
    "print(\"sum along the columns:\", m.mean(axis=0))\n",
    "print(\"sum along the rows:\", m.mean(axis=1))\n",
    "print(\"The overall mean is:\", m.mean())"
   ]
  },
  {
   "cell_type": "code",
   "execution_count": 21,
   "id": "aed2bfd2",
   "metadata": {},
   "outputs": [
    {
     "name": "stdout",
     "output_type": "stream",
     "text": [
      "Using function:\n",
      " [[ 2  4  6  8]\n",
      " [ 6 12 18 24]\n",
      " [10 20 30 40]\n",
      " [14 28 42 56]]\n",
      "\n",
      "Using nested list comprehension:\n",
      " [[ 2  4  6  8]\n",
      " [ 6 12 18 24]\n",
      " [10 20 30 40]\n",
      " [14 28 42 56]]\n",
      "\n",
      "Using broadcast method:\n",
      " [[ 2  4  6  8]\n",
      " [ 6 12 18 24]\n",
      " [10 20 30 40]\n",
      " [14 28 42 56]]\n"
     ]
    }
   ],
   "source": [
    "#Q2:\n",
    "\n",
    "import numpy as np\n",
    "\n",
    "u = np.array([1,3,5,7])\n",
    "v = np.array([2,4,6,8])\n",
    "\n",
    "print(\"Using function:\\n\", np.outer(u, v))\n",
    "print(\"\\nUsing nested list comprehension:\\n\", np.array([np.array([i*j for j in v]) for i in u]))\n",
    "print(\"\\nUsing broadcast method:\\n\", u.reshape(4,1) * v.reshape(1,4))"
   ]
  },
  {
   "cell_type": "code",
   "execution_count": 30,
   "id": "4f30f2bb",
   "metadata": {},
   "outputs": [
    {
     "name": "stdout",
     "output_type": "stream",
     "text": [
      "The initial Array:\n",
      "\n",
      " [[0.69646919 0.28613933 0.22685145 0.55131477 0.71946897 0.42310646\n",
      "  0.9807642  0.68482974 0.4809319  0.39211752]\n",
      " [0.34317802 0.72904971 0.43857224 0.0596779  0.39804426 0.73799541\n",
      "  0.18249173 0.17545176 0.53155137 0.53182759]\n",
      " [0.63440096 0.84943179 0.72445532 0.61102351 0.72244338 0.32295891\n",
      "  0.36178866 0.22826323 0.29371405 0.63097612]\n",
      " [0.09210494 0.43370117 0.43086276 0.4936851  0.42583029 0.31226122\n",
      "  0.42635131 0.89338916 0.94416002 0.50183668]\n",
      " [0.62395295 0.1156184  0.31728548 0.41482621 0.86630916 0.25045537\n",
      "  0.48303426 0.98555979 0.51948512 0.61289453]\n",
      " [0.12062867 0.8263408  0.60306013 0.54506801 0.34276383 0.30412079\n",
      "  0.41702221 0.68130077 0.87545684 0.51042234]]\n",
      "\n",
      "The final result:\n",
      "\n",
      " [[0.69646919 0.28613933 0.22685145 0.55131477 0.71946897 0.42310646\n",
      "  0.9807642  0.68482974 0.4809319  0.39211752]\n",
      " [0.         0.         0.         0.         0.         0.\n",
      "  0.         0.         0.         0.        ]\n",
      " [0.63440096 0.84943179 0.72445532 0.61102351 0.72244338 0.32295891\n",
      "  0.36178866 0.22826323 0.29371405 0.63097612]\n",
      " [0.         0.         0.         0.         0.         0.\n",
      "  0.         0.         0.         0.        ]\n",
      " [0.62395295 0.1156184  0.31728548 0.41482621 0.86630916 0.25045537\n",
      "  0.48303426 0.98555979 0.51948512 0.61289453]\n",
      " [0.12062867 0.8263408  0.60306013 0.54506801 0.34276383 0.30412079\n",
      "  0.41702221 0.68130077 0.87545684 0.51042234]]\n"
     ]
    }
   ],
   "source": [
    "#Q3:\n",
    "\n",
    "import numpy.random as npr\n",
    "npr.seed(123)\n",
    "\n",
    "a= npr.rand(6,10)\n",
    "print(\"The initial Array:\\n\\n\",a)\n",
    "\n",
    "mask = (a > 0.1)   #masking the elements\n",
    "\n",
    "for i in range(len(mask)):      #making all elements of a row equal to zero if there was just one element equal to zero\n",
    "    if (mask[i]==False).any() == True: a[i]=np.zeros(10)\n",
    "        \n",
    "print(\"\\nThe final result:\\n\\n\",a)"
   ]
  },
  {
   "cell_type": "code",
   "execution_count": 52,
   "id": "e4d71cc0",
   "metadata": {},
   "outputs": [
    {
     "name": "stdout",
     "output_type": "stream",
     "text": [
      "\n",
      "The initial array is:\n",
      "\n",
      " [0.         0.06346652 0.12693304 0.19039955 0.25386607 0.31733259\n",
      " 0.38079911 0.44426563 0.50773215 0.57119866 0.63466518 0.6981317\n",
      " 0.76159822 0.82506474 0.88853126 0.95199777 1.01546429 1.07893081\n",
      " 1.14239733 1.20586385 1.26933037 1.33279688 1.3962634  1.45972992\n",
      " 1.52319644 1.58666296 1.65012947 1.71359599 1.77706251 1.84052903\n",
      " 1.90399555 1.96746207 2.03092858 2.0943951  2.15786162 2.22132814\n",
      " 2.28479466 2.34826118 2.41172769 2.47519421 2.53866073 2.60212725\n",
      " 2.66559377 2.72906028 2.7925268  2.85599332 2.91945984 2.98292636\n",
      " 3.04639288 3.10985939 3.17332591 3.23679243 3.30025895 3.36372547\n",
      " 3.42719199 3.4906585  3.55412502 3.61759154 3.68105806 3.74452458\n",
      " 3.8079911  3.87145761 3.93492413 3.99839065 4.06185717 4.12532369\n",
      " 4.1887902  4.25225672 4.31572324 4.37918976 4.44265628 4.5061228\n",
      " 4.56958931 4.63305583 4.69652235 4.75998887 4.82345539 4.88692191\n",
      " 4.95038842 5.01385494 5.07732146 5.14078798 5.2042545  5.26772102\n",
      " 5.33118753 5.39465405 5.45812057 5.52158709 5.58505361 5.64852012\n",
      " 5.71198664 5.77545316 5.83891968 5.9023862  5.96585272 6.02931923\n",
      " 6.09278575 6.15625227 6.21971879 6.28318531]\n",
      "\n",
      "The 10th element: \n",
      "\n",
      " [0.         0.63466518 1.26933037 1.90399555 2.53866073 3.17332591\n",
      " 3.8079911  4.44265628 5.07732146 5.71198664]\n",
      "\n",
      "The reverse is:\n",
      "\n",
      " [6.28318531 6.21971879 6.15625227 6.09278575 6.02931923 5.96585272\n",
      " 5.9023862  5.83891968 5.77545316 5.71198664 5.64852012 5.58505361\n",
      " 5.52158709 5.45812057 5.39465405 5.33118753 5.26772102 5.2042545\n",
      " 5.14078798 5.07732146 5.01385494 4.95038842 4.88692191 4.82345539\n",
      " 4.75998887 4.69652235 4.63305583 4.56958931 4.5061228  4.44265628\n",
      " 4.37918976 4.31572324 4.25225672 4.1887902  4.12532369 4.06185717\n",
      " 3.99839065 3.93492413 3.87145761 3.8079911  3.74452458 3.68105806\n",
      " 3.61759154 3.55412502 3.4906585  3.42719199 3.36372547 3.30025895\n",
      " 3.23679243 3.17332591 3.10985939 3.04639288 2.98292636 2.91945984\n",
      " 2.85599332 2.7925268  2.72906028 2.66559377 2.60212725 2.53866073\n",
      " 2.47519421 2.41172769 2.34826118 2.28479466 2.22132814 2.15786162\n",
      " 2.0943951  2.03092858 1.96746207 1.90399555 1.84052903 1.77706251\n",
      " 1.71359599 1.65012947 1.58666296 1.52319644 1.45972992 1.3962634\n",
      " 1.33279688 1.26933037 1.20586385 1.14239733 1.07893081 1.01546429\n",
      " 0.95199777 0.88853126 0.82506474 0.76159822 0.6981317  0.63466518\n",
      " 0.57119866 0.50773215 0.44426563 0.38079911 0.31733259 0.25386607\n",
      " 0.19039955 0.12693304 0.06346652 0.        ]\n",
      "\n",
      "Distance less than 0.1:\n",
      "\n",
      " [0.76159822 0.82506474 3.87145761 3.93492413]\n",
      "\n",
      "The Plot:\n"
     ]
    },
    {
     "data": {
      "image/png": "[encoded data removed]",
      "text/plain": [
       "<Figure size 432x288 with 1 Axes>"
      ]
     },
     "metadata": {
      "needs_background": "light"
     },
     "output_type": "display_data"
    }
   ],
   "source": [
    "#Q4:\n",
    "\n",
    "import numpy as np\n",
    "import matplotlib.pyplot as plt\n",
    "\n",
    "a=np.linspace(0, 2*np.pi, 100)\n",
    "print(\"\\nThe initial array is:\\n\\n\",a)\n",
    "print(\"\\nThe 10th element: \\n\\n\",a[::10])    #slicing the 10th element\n",
    "\n",
    "print(\"\\nThe reverse is:\\n\\n\", a[::-1])\n",
    "\n",
    "mask = (np.abs(np.sin(a) - np.cos(a)) < 0.1)  #masking the elements which correspond to the desired condition\n",
    "filtered_a=a[mask]\n",
    "\n",
    "print(\"\\nDistance less than 0.1:\\n\\n\", filtered_a) \n",
    "\n",
    "#following lines are the details of plotting process\n",
    "ax = plt.subplot()\n",
    "c = np.cos(a)\n",
    "s = np.sin(a)\n",
    "line, = plt.plot(a, s, lw=2)\n",
    "line, = plt.plot(a,c, lw=2)\n",
    "\n",
    "#following lines are for better illustration\n",
    "plt.annotate('Close Value', xy=(0.79, 0.79), xytext=(0.5, 1.5), arrowprops=dict(facecolor='black', shrink=0.05))\n",
    "plt.annotate('Close Value', xy=(3.9, -0.68), xytext=(4, 1.5), arrowprops=dict(facecolor='black', shrink=0.05))\n",
    "print(\"\\nThe Plot:\")\n",
    "\n",
    "plt.ylim(-2, 2)\n",
    "plt.show()"
   ]
  },
  {
   "cell_type": "code",
   "execution_count": 39,
   "id": "be47c4ba",
   "metadata": {},
   "outputs": [
    {
     "name": "stdout",
     "output_type": "stream",
     "text": [
      "\n",
      "The 10*10 multipication table is:\n",
      "\n",
      " [[  1   2   3   4   5   6   7   8   9  10]\n",
      " [  2   4   6   8  10  12  14  16  18  20]\n",
      " [  3   6   9  12  15  18  21  24  27  30]\n",
      " [  4   8  12  16  20  24  28  32  36  40]\n",
      " [  5  10  15  20  25  30  35  40  45  50]\n",
      " [  6  12  18  24  30  36  42  48  54  60]\n",
      " [  7  14  21  28  35  42  49  56  63  70]\n",
      " [  8  16  24  32  40  48  56  64  72  80]\n",
      " [  9  18  27  36  45  54  63  72  81  90]\n",
      " [ 10  20  30  40  50  60  70  80  90 100]]\n",
      "\n",
      "The trace is:\n",
      "\n",
      " 385\n",
      "\n",
      "The Anti diagonal is:\n",
      "\n",
      " [10, 18, 24, 28, 30, 30, 28, 24, 18, 10]\n",
      "\n",
      "The offset by 1 is:\n",
      "\n",
      " [2, 6, 12, 20, 30, 42, 56, 72, 90]\n"
     ]
    }
   ],
   "source": [
    "#Q5:\n",
    "\n",
    "import numpy as np\n",
    "\n",
    "M_table= np.array([[j*i for i in range(1,11)] for j in range(1,11)])  #using nested list comprehension\n",
    "\n",
    "print(\"\\nThe 10*10 multipication table is:\\n\\n\", M_table)\n",
    "print(\"\\nThe trace is:\\n\\n\",sum([M_table[i][j] for i in range(10) for j in range(10) if i==j]))\n",
    "print(\"\\nThe Anti diagonal is:\\n\\n\", [M_table[i][j] for i in range(10) for j in range(10) if j==9-i])\n",
    "print(\"\\nThe offset by 1 is:\\n\\n\", [M_table[i][j] for i in range(10) for j in range(10) if i==j+1])"
   ]
  },
  {
   "cell_type": "code",
   "execution_count": 66,
   "id": "910ca482",
   "metadata": {},
   "outputs": [
    {
     "name": "stdout",
     "output_type": "stream",
     "text": [
      "\n",
      "The Distances Grid is :\n",
      "\n",
      " [[   0  198  303  736  871 1175 1475 1544 1913 2448]\n",
      " [ 198    0  105  538  673  977 1277 1346 1715 2250]\n",
      " [ 303  105    0  433  568  872 1172 1241 1610 2145]\n",
      " [ 736  538  433    0  135  439  739  808 1177 1712]\n",
      " [ 871  673  568  135    0  304  604  673 1042 1577]\n",
      " [1175  977  872  439  304    0  300  369  738 1273]\n",
      " [1475 1277 1172  739  604  300    0   69  438  973]\n",
      " [1544 1346 1241  808  673  369   69    0  369  904]\n",
      " [1913 1715 1610 1177 1042  738  438  369    0  535]\n",
      " [2448 2250 2145 1712 1577 1273  973  904  535    0]] \n",
      "\n"
     ]
    }
   ],
   "source": [
    "#Q6:\n",
    "\n",
    "Cities=[\"Chicago\", \"Springfield\", \"Saint-Louis\", \"Tulsa\", \"Oklahoma City\", \"Amarillo\", \n",
    "\"Santa Fe\", \"Albuquerque\", \"Flagstaff\", \"Los Angeles\"]\n",
    "\n",
    "Pos1=np.array([0, 198, 303, 736, 871, 1175, 1475, 1544, 1913, 2448])\n",
    "Pos2=Pos1.reshape(10,1)\n",
    "\n",
    "print(\"\\nThe Distances Grid is :\\n\\n\",  np.abs(Pos1 - Pos2), '\\n')  #here we use the broadcasting method"
   ]
  },
  {
   "cell_type": "code",
   "execution_count": 13,
   "id": "efd3978e",
   "metadata": {},
   "outputs": [
    {
     "name": "stdout",
     "output_type": "stream",
     "text": [
      "The prime numbers less than 100 are:\n",
      " [ 2  3  5  7 11 13 17 19 23 29 31 37 41 43 47 53 59 61 67 71 73 79 83 89\n",
      " 97]\n",
      "\n",
      "The comparison of two methods in large scale:\n"
     ]
    },
    {
     "data": {
      "image/png": "[encoded data removed]",
      "text/plain": [
       "<Figure size 432x288 with 1 Axes>"
      ]
     },
     "metadata": {
      "needs_background": "light"
     },
     "output_type": "display_data"
    }
   ],
   "source": [
    "#Q7:\n",
    "\n",
    "import matplotlib.pyplot as plt\n",
    "import numpy as np\n",
    "import time\n",
    "\n",
    "# First let's calculate the prime numbers less than 100 and then we get to the main task:\n",
    "numlist1=np.arange(0,99)\n",
    "mask1=(numlist1>1)   # we start with a all-true array\n",
    "k=99\n",
    "for i in range(2,50):\n",
    "    j=2\n",
    "    while i*j<k:\n",
    "        mask1[i*j]=False  #we make each not-prime calculated element False\n",
    "        j+=1\n",
    "print(\"The prime numbers less than 100 are:\\n\", numlist1[mask1]) #The remaining True elements are our prime numebrs\n",
    "\n",
    "\n",
    "#NOW The MAIN TASK:\n",
    "\n",
    "N=500000   #let it be a large number, some seconds to be calculated but the plot will be smooth in this scale\n",
    "step=25000\n",
    "RunTime1=[]   #storing the needed time for different N's to be run for the first method \n",
    "RunTime2=[]   #....................................................for the secnod method\n",
    "NumList=np.arange(99,N,step)\n",
    "\n",
    "\n",
    "#The normal method:\n",
    "for n in range(99, N, step):  #We consider a main loop for differnet values for N(take a look at the final graph)\n",
    "    \n",
    "    start= time.time()\n",
    "    Num= np.arange(n)   \n",
    "    mask=(Num>1) # we start with a all-true array\n",
    "\n",
    "    for i in range(2,int(n/2)):  #normal method\n",
    "        j=2                      #j starts from 2\n",
    "        while i*j<n:\n",
    "            mask[i*j]=False \n",
    "            j+=1\n",
    "            \n",
    "    end=time.time()\n",
    "    runtime=end-start\n",
    "    RunTime1.append(runtime)\n",
    "\n",
    "RunTime1=np.array(RunTime1)\n",
    "\n",
    "#Now we implement the sieve of Eratosthenes method:\n",
    "for n in range(99, N, step):\n",
    "    \n",
    "    start= time.time()\n",
    "    Num= np.arange(n)\n",
    "    mask=(Num>1)   # we start with a all-true array\n",
    "\n",
    "    for i in range(2, int(np.sqrt(n)) + 1):  #notice that the range is from 2 to sqrt(N), thanks to Eratosthenes method!\n",
    "        if mask[i]==True:\n",
    "            j=i            #j starts from i and this line is the main reason why Eratosthenes method is effective\n",
    "            while i*j<n:\n",
    "                mask[i*j]=False  #doing the same thing as we did in normal method\n",
    "                j+=1\n",
    "        else: continue\n",
    "\n",
    "    end=time.time()\n",
    "    runtime=end-start\n",
    "    RunTime2.append(runtime)\n",
    "\n",
    "RunTime2=np.array(RunTime2)\n",
    "\n",
    "#Now we plot the results in large scale\n",
    "print(\"\\nThe comparison of two methods in large scale:\")\n",
    "plt.plot(NumList, RunTime1, 'ro', label='Normal Method')\n",
    "plt.plot(NumList, RunTime2, 'g^', label='Sieve of Eratosthenes')\n",
    "plt.xlabel('N')\n",
    "plt.ylabel('Time(S)')\n",
    "plt.legend()\n",
    "plt.show()"
   ]
  },
  {
   "cell_type": "code",
   "execution_count": null,
   "id": "a2d0bf60",
   "metadata": {},
   "outputs": [],
   "source": [
    "#Q8 and Q9: its written that we can do them for the next exercises"
   ]
  }
 ],
 "metadata": {
  "kernelspec": {
   "display_name": "Python 3",
   "language": "python",
   "name": "python3"
  },
  "language_info": {
   "codemirror_mode": {
    "name": "ipython",
    "version": 3
   },
   "file_extension": ".py",
   "mimetype": "text/x-python",
   "name": "python",
   "nbconvert_exporter": "python",
   "pygments_lexer": "ipython3",
   "version": "3.8.8"
  }
 },
 "nbformat": 4,
 "nbformat_minor": 5
}
