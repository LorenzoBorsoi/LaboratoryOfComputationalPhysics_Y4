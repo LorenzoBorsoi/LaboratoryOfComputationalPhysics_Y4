{
 "cells": [
  {
   "cell_type": "code",
   "execution_count": 13,
   "id": "b9854c63",
   "metadata": {},
   "outputs": [
    {
     "name": "stdout",
     "output_type": "stream",
     "text": [
      "[(0, 0), (0, 1), (0, 2), (0, 3), (1, 0), (1, 1), (1, 2), (1, 3), (2, 0), (2, 1), (2, 2), (2, 3)]\n",
      "[0, 4, 16]\n"
     ]
    }
   ],
   "source": [
    "#Q1.a\n",
    "a=[(x,y) for x in range(3) for y in range(4)]\n",
    "print(a)\n",
    "\n",
    "#Q1.b\n",
    "ans2=[x**2 for x in range(5) if x%2==0]\n",
    "print(ans2)"
   ]
  },
  {
   "cell_type": "code",
   "execution_count": 76,
   "id": "47b6c937",
   "metadata": {},
   "outputs": [
    {
     "name": "stdout",
     "output_type": "stream",
     "text": [
      "[1, 2, 3, 0, 1, 2, 3, 4]\n",
      "[1, 2, 3]\n"
     ]
    }
   ],
   "source": [
    "#Q2\n",
    "\n",
    "def f(alist):\n",
    "    alist=[1,2,3,0,1,2,3,4]   #define a list from scratch will solve our problem\n",
    "    return alist\n",
    "\n",
    "alist = [1,2,3]\n",
    "ans = f(alist)\n",
    "print(ans)\n",
    "print(alist) "
   ]
  },
  {
   "cell_type": "code",
   "execution_count": 77,
   "id": "fd0289a2",
   "metadata": {},
   "outputs": [
    {
     "name": "stdout",
     "output_type": "stream",
     "text": [
      "The square value is: 64\n",
      "hello\n"
     ]
    }
   ],
   "source": [
    "#Q3\n",
    "\n",
    "def Decorator(F):\n",
    "    def wrapper():\n",
    "        print(\"hello\")\n",
    "        \n",
    "    return wrapper\n",
    "                            \n",
    "def square(x): print(\"The square value is:\", x**2)\n",
    "    \n",
    "say_hello = Decorator(square(8))\n",
    "say_hello()\n"
   ]
  },
  {
   "cell_type": "code",
   "execution_count": 74,
   "id": "7807ccdd",
   "metadata": {},
   "outputs": [
    {
     "name": "stdout",
     "output_type": "stream",
     "text": [
      "6\n",
      "6\n"
     ]
    }
   ],
   "source": [
    "#Q4\n",
    "number=3\n",
    "\n",
    "\n",
    "def Factorial(number):  #without recursive function\n",
    "    fact = 1\n",
    "    for i in range(1,number + 1): fact = i*fact\n",
    "    return fact\n",
    "\n",
    "def Factorial_R(number,Fact): # with recursive function\n",
    "        if number==1: print(Fact)\n",
    "        else: \n",
    "            Fact=Fact*(number-1)\n",
    "            return Factorial_R(number-1, Fact)\n",
    "        \n",
    "        \n",
    "print(Factorial(number))\n",
    "Factorial_R(number,number)\n"
   ]
  },
  {
   "cell_type": "code",
   "execution_count": 73,
   "id": "01c636a3",
   "metadata": {},
   "outputs": [
    {
     "name": "stdout",
     "output_type": "stream",
     "text": [
      "The Linear Mass values for [AL,Fe,Pb] are: [3.14, 18.84, 94.2] \n",
      "The Area Mass values for [AL,Fe,Pb] are: [12.56, 50.24, 251.20000000000002] \n",
      "The Volume Mass values for [AL,Fe,Pb] are: [226.07999999999998, 565.1999999999999, 3391.2]\n"
     ]
    }
   ],
   "source": [
    "#Q5\n",
    "import numpy as np\n",
    "\n",
    "densities, radii = {\"Al\":[0.5,1,2],\"Fe\":[3,4,5],\"Pb\": [15,20,30]}, [1,2,3]\n",
    "Circum, Area, Volume = lambda r, p: 3.14*r*p*2, lambda r,p: 3.14*r*r*p, lambda r,p: (4/3)*3.14*(r**3) * p\n",
    "\n",
    "regime=[[x,y] for x,y in zip(densities.values(),radii)] \n",
    "#Considering each radius for one of the elements (toatl 9 cases) Al(r=1), Fe(r=2), Pb(r=3)\n",
    "\n",
    "W=[[Circum(1,regime[i][0][0]) for i in range(3)], [Area(2,regime[i][0][1]) for i in range(3)], [Volume(3, regime[i][0][2]) for i in range(3)]]\n",
    "\n",
    "print(\"The Linear Mass values for [AL,Fe,Pb] are:\", W[0],\n",
    "      \"\\nThe Area Mass values for [AL,Fe,Pb] are:\", W[1],\n",
    "      \"\\nThe Volume Mass values for [AL,Fe,Pb] are:\", W[2])"
   ]
  },
  {
   "cell_type": "code",
   "execution_count": 72,
   "id": "483f9b53",
   "metadata": {},
   "outputs": [
    {
     "name": "stdout",
     "output_type": "stream",
     "text": [
      "I have 3 dogs\n",
      "Bahador is 24 years old\n",
      "Ramtin is 23 years old\n",
      "Taha is 25 years old\n",
      "And they're all mammal, of course \n",
      "My dogs are not hungry\n"
     ]
    }
   ],
   "source": [
    "#Q6\n",
    "\n",
    "class Dog:\n",
    "    species = 'mammal'\n",
    "    \n",
    "    def __init__(self, name, age):\n",
    "        self.name = name\n",
    "        self.age = age\n",
    "        self.is_hungry= True\n",
    "        \n",
    "    def eat(self):\n",
    "        self.is_hungry= False \n",
    "        \n",
    "    def description(self):\n",
    "        return \"{} is {} years old\".format(self.name, self.age)\n",
    "    \n",
    "Bahador, Ramtin , Taha = Dog(\"Bahador\", 24), Dog(\"Ramtin\", 23), Dog(\"Taha\", 25)\n",
    "dogs= [Bahador, Ramtin, Taha]\n",
    "status=\"not hungry\"\n",
    "\n",
    "#we can feed the specific dog that we want\n",
    "Ramtin.eat()\n",
    "Taha.eat()\n",
    "Bahador.eat()\n",
    "#or we can feed them all in one time\n",
    "# for i in dogs: i.eat()\n",
    "\n",
    "for i in dogs:                       #checks if all dogs have been fed\n",
    "    if i.is_hungry== True: \n",
    "        status=\"hungry\" \n",
    "        break\n",
    "\n",
    "print(\"I have {} dogs\".format(len(dogs)))\n",
    "for i in dogs: print(i.description())\n",
    "print(\"And they're all {}, of course \\nMy dogs are {}\".format(Dog.species, status))\n"
   ]
  },
  {
   "cell_type": "code",
   "execution_count": null,
   "id": "b0c263cb",
   "metadata": {},
   "outputs": [],
   "source": []
  }
 ],
 "metadata": {
  "kernelspec": {
   "display_name": "Python 3",
   "language": "python",
   "name": "python3"
  },
  "language_info": {
   "codemirror_mode": {
    "name": "ipython",
    "version": 3
   },
   "file_extension": ".py",
   "mimetype": "text/x-python",
   "name": "python",
   "nbconvert_exporter": "python",
   "pygments_lexer": "ipython3",
   "version": "3.8.8"
  }
 },
 "nbformat": 4,
 "nbformat_minor": 5
}
