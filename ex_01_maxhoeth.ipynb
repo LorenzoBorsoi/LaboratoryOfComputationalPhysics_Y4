{
 "cells": [
  {
   "cell_type": "markdown",
   "id": "7d7a763d",
   "metadata": {},
   "source": [
    "# Exercise 01\n",
    "***\n",
    "\n",
    "## 1. #1"
   ]
  },
  {
   "cell_type": "code",
   "execution_count": 3,
   "id": "2d1512de",
   "metadata": {},
   "outputs": [
    {
     "name": "stdout",
     "output_type": "stream",
     "text": [
      "[(0, 0), (0, 1), (0, 2), (0, 3), (1, 0), (1, 1), (1, 2), (1, 3), (2, 0), (2, 1), (2, 2), (2, 3)]\n"
     ]
    }
   ],
   "source": [
    "print([(i,j) for i in range(3) for j in range(4)])"
   ]
  },
  {
   "cell_type": "markdown",
   "id": "02eca2b4",
   "metadata": {},
   "source": [
    "## 1. #2"
   ]
  },
  {
   "cell_type": "code",
   "execution_count": 4,
   "id": "e8ba77b2",
   "metadata": {},
   "outputs": [
    {
     "name": "stdout",
     "output_type": "stream",
     "text": [
      "[0, 4, 16]\n"
     ]
    }
   ],
   "source": [
    "print([x **2 for x in range(5) if x % 2 == 0])"
   ]
  },
  {
   "cell_type": "markdown",
   "id": "79b55fbe",
   "metadata": {
    "pycharm": {
     "name": "#%% md\n"
    }
   },
   "source": [
    "## 2. Convert the following function into a pure function with no global variables or side effects\n"
   ]
  },
  {
   "cell_type": "code",
   "execution_count": 5,
   "id": "0b4a6dc1",
   "metadata": {},
   "outputs": [
    {
     "ename": "ValueError",
     "evalue": "invalid literal for int() with base 10: ''",
     "output_type": "error",
     "traceback": [
      "\u001B[0;31m---------------------------------------------------------------------------\u001B[0m",
      "\u001B[0;31mValueError\u001B[0m                                Traceback (most recent call last)",
      "\u001B[0;32m/var/folders/0c/s31t6sbs7x92vc54xc4x32n40000gn/T/ipykernel_5960/2933497478.py\u001B[0m in \u001B[0;36m<module>\u001B[0;34m\u001B[0m\n\u001B[1;32m      7\u001B[0m \u001B[0;34m\u001B[0m\u001B[0m\n\u001B[1;32m      8\u001B[0m \u001B[0malist\u001B[0m \u001B[0;34m=\u001B[0m \u001B[0;34m[\u001B[0m\u001B[0;36m1\u001B[0m\u001B[0;34m,\u001B[0m\u001B[0;36m2\u001B[0m\u001B[0;34m,\u001B[0m\u001B[0;36m3\u001B[0m\u001B[0;34m]\u001B[0m\u001B[0;34m\u001B[0m\u001B[0;34m\u001B[0m\u001B[0m\n\u001B[0;32m----> 9\u001B[0;31m \u001B[0mans\u001B[0m \u001B[0;34m=\u001B[0m \u001B[0mf\u001B[0m\u001B[0;34m(\u001B[0m\u001B[0malist\u001B[0m\u001B[0;34m)\u001B[0m\u001B[0;34m\u001B[0m\u001B[0;34m\u001B[0m\u001B[0m\n\u001B[0m\u001B[1;32m     10\u001B[0m \u001B[0mprint\u001B[0m\u001B[0;34m(\u001B[0m\u001B[0mans\u001B[0m\u001B[0;34m)\u001B[0m\u001B[0;34m\u001B[0m\u001B[0;34m\u001B[0m\u001B[0m\n\u001B[1;32m     11\u001B[0m \u001B[0mprint\u001B[0m\u001B[0;34m(\u001B[0m\u001B[0malist\u001B[0m\u001B[0;34m)\u001B[0m\u001B[0;34m\u001B[0m\u001B[0;34m\u001B[0m\u001B[0m\n",
      "\u001B[0;32m/var/folders/0c/s31t6sbs7x92vc54xc4x32n40000gn/T/ipykernel_5960/2933497478.py\u001B[0m in \u001B[0;36mf\u001B[0;34m(alist)\u001B[0m\n\u001B[1;32m      1\u001B[0m \u001B[0;32mdef\u001B[0m \u001B[0mf\u001B[0m\u001B[0;34m(\u001B[0m\u001B[0malist\u001B[0m\u001B[0;34m)\u001B[0m\u001B[0;34m:\u001B[0m\u001B[0;34m\u001B[0m\u001B[0;34m\u001B[0m\u001B[0m\n\u001B[1;32m      2\u001B[0m     \u001B[0mnew_list\u001B[0m \u001B[0;34m=\u001B[0m \u001B[0;34m[\u001B[0m\u001B[0;34m]\u001B[0m\u001B[0;34m\u001B[0m\u001B[0;34m\u001B[0m\u001B[0m\n\u001B[0;32m----> 3\u001B[0;31m     \u001B[0mx\u001B[0m \u001B[0;34m=\u001B[0m \u001B[0mint\u001B[0m\u001B[0;34m(\u001B[0m\u001B[0minput\u001B[0m\u001B[0;34m(\u001B[0m\u001B[0;34m)\u001B[0m\u001B[0;34m)\u001B[0m\u001B[0;34m\u001B[0m\u001B[0;34m\u001B[0m\u001B[0m\n\u001B[0m\u001B[1;32m      4\u001B[0m     \u001B[0;32mfor\u001B[0m \u001B[0mi\u001B[0m \u001B[0;32min\u001B[0m \u001B[0mrange\u001B[0m\u001B[0;34m(\u001B[0m\u001B[0mx\u001B[0m\u001B[0;34m)\u001B[0m\u001B[0;34m:\u001B[0m\u001B[0;34m\u001B[0m\u001B[0;34m\u001B[0m\u001B[0m\n\u001B[1;32m      5\u001B[0m         \u001B[0mnew_list\u001B[0m\u001B[0;34m.\u001B[0m\u001B[0mappend\u001B[0m\u001B[0;34m(\u001B[0m\u001B[0mi\u001B[0m\u001B[0;34m)\u001B[0m\u001B[0;34m\u001B[0m\u001B[0;34m\u001B[0m\u001B[0m\n",
      "\u001B[0;31mValueError\u001B[0m: invalid literal for int() with base 10: ''"
     ]
    }
   ],
   "source": [
    "def f(alist):\n",
    "    new_list = []\n",
    "    x = int(input())\n",
    "    for i in range(x):\n",
    "        new_list.append(i)\n",
    "    return alist + new_list\n",
    "\n",
    "alist = [1,2,3]\n",
    "ans = f(alist)\n",
    "print(ans)\n",
    "print(alist)\n"
   ]
  },
  {
   "cell_type": "markdown",
   "id": "7ed16498",
   "metadata": {},
   "source": [
    "## 3. Write a decorator hello that makes every wrapped function print \"Hello\"\n"
   ]
  },
  {
   "cell_type": "code",
   "execution_count": null,
   "id": "587dbd08",
   "metadata": {},
   "outputs": [],
   "source": [
    "def hello(func):\n",
    "    def wrapper():\n",
    "        print('Hello')\n",
    "        func()\n",
    "    return wrapper\n",
    "\n",
    "@hello\n",
    "def Dog():\n",
    "    print(\"I like dogs.\")\n",
    "    \n",
    "@hello\n",
    "def square():\n",
    "    print(int(input())**2)\n",
    "\n",
    "Dog()\n",
    "square()"
   ]
  },
  {
   "cell_type": "markdown",
   "id": "04fcfc59",
   "metadata": {},
   "source": [
    "## 4. Write the factorial function so that it a) does and b) does not use recursion"
   ]
  },
  {
   "cell_type": "markdown",
   "id": "86d5275e",
   "metadata": {},
   "source": [
    "### a)"
   ]
  },
  {
   "cell_type": "code",
   "execution_count": 3,
   "id": "394d7618",
   "metadata": {},
   "outputs": [
    {
     "data": {
      "text/plain": "120"
     },
     "execution_count": 3,
     "metadata": {},
     "output_type": "execute_result"
    }
   ],
   "source": [
    "def recurs(n):\n",
    "    if n == 0 or n== 1:\n",
    "        return 1\n",
    "    else:\n",
    "        return recurs(n-1) * n\n",
    "\n",
    "recurs(5)"
   ]
  },
  {
   "cell_type": "markdown",
   "id": "18c9a925",
   "metadata": {},
   "source": [
    "### b)"
   ]
  },
  {
   "cell_type": "code",
   "execution_count": 4,
   "id": "1afb2fbd",
   "metadata": {},
   "outputs": [
    {
     "data": {
      "text/plain": "120"
     },
     "execution_count": 4,
     "metadata": {},
     "output_type": "execute_result"
    }
   ],
   "source": [
    "def no_recurs(n):\n",
    "    f = 1\n",
    "    for i in range(1, n + 1):\n",
    "        f = f * i\n",
    "    return f\n",
    "\n",
    "no_recurs(5)"
   ]
  },
  {
   "cell_type": "code",
   "execution_count": 7,
   "id": "c50552c7",
   "metadata": {},
   "outputs": [
    {
     "name": "stdout",
     "output_type": "stream",
     "text": [
      "1.15 ms ± 7.07 µs per loop (mean ± std. dev. of 7 runs, 1000 loops each)\n",
      "922 µs ± 853 ns per loop (mean ± std. dev. of 7 runs, 1000 loops each)\n"
     ]
    }
   ],
   "source": [
    "%timeit recurs(2000)\n",
    "%timeit no_recurs(2000)"
   ]
  },
  {
   "cell_type": "markdown",
   "id": "62d3c3f6",
   "metadata": {},
   "source": [
    "## 5. use HOF's to compute the weight of a circle, a disk and a sphere, assuming defferent radii and densities"
   ]
  },
  {
   "cell_type": "code",
   "execution_count": null,
   "id": "47b14588",
   "metadata": {},
   "outputs": [],
   "source": [
    "densities = {\"Al\":[0.5, 1, 2], \"Fe\":[3, 4, 5], \"Pb\":[15, 20, 30]}\n",
    "radii = [1, 2, 3]\n",
    "form = ['Circle', 'Disk', 'Sphere']"
   ]
  },
  {
   "cell_type": "code",
   "execution_count": null,
   "id": "fa01f625",
   "metadata": {},
   "outputs": [],
   "source": [
    "func_lambda =[lambda x: 2*3.141*x, lambda x: 3.141*x**2, lambda x:4/3*3.141*x**3]\n",
    "                 \n",
    "alist = [[i(j) for j in radii] for i in func_lambda]\n",
    "for j in zip(densities.values(), densities.keys()):\n",
    "    print('NEW ELEMENT')\n",
    "    for i in range(len(alist)):\n",
    "        print(form[i])\n",
    "        for s in range(len(alist[i])):\n",
    "            print(f'{j[0][i]*alist[i][s]:.2f}', f'Radius :{s+1}')\n",
    "\n",
    "        "
   ]
  },
  {
   "cell_type": "markdown",
   "id": "e3d863f0",
   "metadata": {},
   "source": [
    "## 6. Edit the class defintion to add an instance attribute of is_hungry = True to the Dog class. Then add a method called eat() which changes the value of is_hungry to False when called. Figure out the best way to feed each dog and then output “My dogs are hungry.” if all are hungry or “My dogs are not hungry.” if all are not hungry. The final output should look like this:\n",
    "I have 3 dogs. \n",
    "Tom is 6. \n",
    "Fletcher is 7. \n",
    "Larry is 9. \n",
    "And they're all mammals, of course. \n",
    "My dogs are not hungry."
   ]
  },
  {
   "cell_type": "code",
   "execution_count": null,
   "id": "a406dc52",
   "metadata": {},
   "outputs": [],
   "source": [
    "\n",
    "# Parent class\n",
    "class Dog:\n",
    "\n",
    "    # Class attribute\n",
    "    species = 'mammal'\n",
    "    dogs = []\n",
    "    # Initializer / Instance attributes\n",
    "    def __init__(self, name, age, is_hungry):\n",
    "        self.name = name\n",
    "        self.age = age\n",
    "        self.is_hungry = True\n",
    "        self.dogs.append(self)\n",
    "        \n",
    "    # instance method\n",
    "    def description(self):\n",
    "        return \"{} is {} years old.\".format(self.name, self.age)\n",
    "\n",
    "    # instance method\n",
    "    def speak(self, sound):\n",
    "        return \"{} says {}\".format(self.name, sound)\n",
    "    \n",
    "    # instace method\n",
    "    def eat(self):\n",
    "        self.is_hungry = False\n",
    "        return f\"{self.name} has eaten and is not hungry anymore.\"\n",
    "    \n",
    "    # instace method\n",
    "    def eat_all():\n",
    "        for i in Dog.dogs:\n",
    "            i.is_hungry = False\n",
    "        return f\"All dogs have eaten and are not hungry anymore.\"\n",
    "    \n",
    "    \n",
    "    # instace method\n",
    "    def check_hungry(self):\n",
    "        return self.is_hungry\n",
    "    \n",
    "    # instace method\n",
    "    def check_hungry_all():\n",
    "        hungry = []\n",
    "        for i in Dog.dogs:\n",
    "            if i.check_hungry() == True:\n",
    "                hungry.append(i)\n",
    "        if len(hungry) == 0:      \n",
    "            return \"My dogs are not hungry.\"\n",
    "        elif len(hungry) > 0:\n",
    "            hung = \"\"\n",
    "            for i in hungry:\n",
    "                hung = hung + \"{} is still hungry. \".format(i.name)\n",
    "        return hung\n",
    "    \n",
    "    def check_dogs():\n",
    "        return f'I have {len(Dog.dogs)} dogs.'\n",
    "    \n",
    "    def check_species():\n",
    "        species_list = []\n",
    "        for i in Dog.dogs:\n",
    "            species_list.append(i.species)\n",
    "        if len(species_list) == len(Dog.dogs):\n",
    "            return \"And they're all mammals, of course. \"\n",
    "        else:\n",
    "            return \"They're not all mammals. \"\n",
    "            \n",
    "\n",
    "# Child class (inherits from Dog class)\n",
    "class RussellTerrier(Dog):\n",
    "    def run(self, speed):\n",
    "        return \"{} runs {}\".format(self.name, speed)\n",
    "\n",
    "# Child class (inherits from Dog class)\n",
    "class Bulldog(Dog):\n",
    "    def run(self, speed):\n",
    "        return \"{} runs {}\".format(self.name, speed)\n",
    "    \n",
    "Tom = Dog('Tom', 6, 1)\n",
    "Fletcher = Dog('Fletcher', 7, 1)\n",
    "Larry = Dog('Larry', 9, 1)\n"
   ]
  },
  {
   "cell_type": "code",
   "execution_count": null,
   "id": "e3683b4e",
   "metadata": {},
   "outputs": [],
   "source": [
    "print(Dog.check_dogs(),\n",
    "      Tom.description(),\n",
    "      Fletcher.description(),\n",
    "      Larry.description(),\n",
    "      Dog.check_species(),\n",
    "      Dog.check_hungry_all(), # check if hungry\n",
    "      Dog.eat_all(), # feed every dog\n",
    "      Dog.check_hungry_all()) # check again and every dog is not hungry anymore"
   ]
  },
  {
   "cell_type": "code",
   "execution_count": null,
   "id": "c7cd69a5",
   "metadata": {},
   "outputs": [],
   "source": []
  }
 ],
 "metadata": {
  "kernelspec": {
   "name": "python3",
   "language": "python",
   "display_name": "Python 3 (ipykernel)"
  },
  "language_info": {
   "codemirror_mode": {
    "name": "ipython",
    "version": 3
   },
   "file_extension": ".py",
   "mimetype": "text/x-python",
   "name": "python",
   "nbconvert_exporter": "python",
   "pygments_lexer": "ipython3",
   "version": "3.9.2"
  }
 },
 "nbformat": 4,
 "nbformat_minor": 5
}