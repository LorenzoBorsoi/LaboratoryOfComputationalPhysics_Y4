{
 "cells": [
  {
   "cell_type": "markdown",
   "id": "7d7a763d",
   "metadata": {},
   "source": [
    "# Exercise 01\n",
    "***\n",
    "\n",
    "## 1. #1"
   ]
  },
  {
   "cell_type": "code",
   "execution_count": 1,
   "id": "2d1512de",
   "metadata": {},
   "outputs": [
    {
     "name": "stdout",
     "output_type": "stream",
     "text": [
      "[(0, 0), (0, 1), (0, 2), (0, 3), (1, 0), (1, 1), (1, 2), (1, 3), (2, 0), (2, 1), (2, 2), (2, 3)]\n"
     ]
    }
   ],
   "source": [
    "print([(i,j) for i in range(3) for j in range(4)])"
   ]
  },
  {
   "cell_type": "markdown",
   "id": "02eca2b4",
   "metadata": {},
   "source": [
    "## 1. #2"
   ]
  },
  {
   "cell_type": "code",
   "execution_count": 7,
   "id": "e8ba77b2",
   "metadata": {},
   "outputs": [
    {
     "name": "stdout",
     "output_type": "stream",
     "text": [
      "[0, 4, 16]\n"
     ]
    }
   ],
   "source": [
    "print([x **2 for x in range(5) if x % 2 == 0])"
   ]
  },
  {
   "cell_type": "markdown",
   "id": "79b55fbe",
   "metadata": {
    "pycharm": {
     "name": "#%% md\n"
    }
   },
   "source": [
    "## 2. Convert the following function into a pure function with no global variables or side effects\n"
   ]
  },
  {
   "cell_type": "code",
   "execution_count": 37,
   "id": "0b4a6dc1",
   "metadata": {},
   "outputs": [
    {
     "name": "stdout",
     "output_type": "stream",
     "text": [
      "5\n",
      "[1, 2, 3, 0, 1, 2, 3, 4]\n",
      "[1, 2, 3]\n"
     ]
    }
   ],
   "source": [
    "def f(alist):\n",
    "    new_list = []\n",
    "    x = int(input())\n",
    "    for i in range(x):\n",
    "        new_list.append(i)\n",
    "    return alist + new_list\n",
    "\n",
    "alist = [1,2,3]\n",
    "ans = f(alist)\n",
    "print(ans)\n",
    "print(alist)\n"
   ]
  },
  {
   "cell_type": "markdown",
   "id": "7ed16498",
   "metadata": {},
   "source": [
    "## 3. Write a decorator hello that makes every wrapped function print \"Hello\"\n"
   ]
  },
  {
   "cell_type": "code",
   "execution_count": 47,
   "id": "587dbd08",
   "metadata": {},
   "outputs": [],
   "source": [
    "def hello(func):\n",
    "    def wrapper():\n",
    "        print('Hello')\n",
    "        func()\n",
    "    return wrapper\n"
   ]
  },
  {
   "cell_type": "markdown",
   "id": "04fcfc59",
   "metadata": {},
   "source": [
    "## 4. Write the factorial function so that it a) does and b) does not use recursion"
   ]
  },
  {
   "cell_type": "markdown",
   "id": "86d5275e",
   "metadata": {},
   "source": [
    "### a)"
   ]
  },
  {
   "cell_type": "code",
   "execution_count": 72,
   "id": "394d7618",
   "metadata": {},
   "outputs": [
    {
     "data": {
      "text/plain": [
       "120"
      ]
     },
     "execution_count": 72,
     "metadata": {},
     "output_type": "execute_result"
    }
   ],
   "source": [
    "def recurs(n):\n",
    "    if n == 0 or n== 1:\n",
    "        return 1\n",
    "    else:\n",
    "        return recurs(n-1) * n\n",
    "\n",
    "recurs(5)"
   ]
  },
  {
   "cell_type": "markdown",
   "id": "18c9a925",
   "metadata": {},
   "source": [
    "### b)"
   ]
  },
  {
   "cell_type": "code",
   "execution_count": 81,
   "id": "1afb2fbd",
   "metadata": {},
   "outputs": [
    {
     "data": {
      "text/plain": [
       "120"
      ]
     },
     "execution_count": 81,
     "metadata": {},
     "output_type": "execute_result"
    }
   ],
   "source": [
    "def no_recurs(n):\n",
    "    f = 1\n",
    "    for i in range(1, n + 1):\n",
    "        f = f * i\n",
    "    return f\n",
    "\n",
    "no_recurs(5)"
   ]
  },
  {
   "cell_type": "code",
   "execution_count": 79,
   "id": "c50552c7",
   "metadata": {},
   "outputs": [
    {
     "name": "stdout",
     "output_type": "stream",
     "text": [
      "545 ns ± 1.3 ns per loop (mean ± std. dev. of 7 runs, 1000000 loops each)\n",
      "375 ns ± 0.185 ns per loop (mean ± std. dev. of 7 runs, 1000000 loops each)\n"
     ]
    }
   ],
   "source": [
    "%timeit recurs(5)\n",
    "%timeit no_recurs(5)"
   ]
  },
  {
   "cell_type": "markdown",
   "id": "62d3c3f6",
   "metadata": {},
   "source": [
    "## 5. use HOF's to compute the weight of a circle, a disk and a sphere, assuming defferent radii and densities"
   ]
  },
  {
   "cell_type": "code",
   "execution_count": 299,
   "id": "47b14588",
   "metadata": {},
   "outputs": [],
   "source": [
    "densities = {\"Al\":[0.5, 1, 2], \"Fe\":[3, 4, 5], \"Pb\":[15, 20, 30]}\n",
    "radii = [1, 2, 3]\n",
    "form = ['Circle', 'Disk', 'Sphere']"
   ]
  },
  {
   "cell_type": "code",
   "execution_count": 314,
   "id": "fa01f625",
   "metadata": {},
   "outputs": [
    {
     "name": "stdout",
     "output_type": "stream",
     "text": [
      "NEW ELEMENT\n",
      "Circle\n",
      "3.14 Radius :1\n",
      "6.28 Radius :2\n",
      "9.42 Radius :3\n",
      "Disk\n",
      "3.14 Radius :1\n",
      "12.56 Radius :2\n",
      "28.27 Radius :3\n",
      "Sphere\n",
      "8.38 Radius :1\n",
      "67.01 Radius :2\n",
      "226.15 Radius :3\n",
      "NEW ELEMENT\n",
      "Circle\n",
      "18.85 Radius :1\n",
      "37.69 Radius :2\n",
      "56.54 Radius :3\n",
      "Disk\n",
      "12.56 Radius :1\n",
      "50.26 Radius :2\n",
      "113.08 Radius :3\n",
      "Sphere\n",
      "20.94 Radius :1\n",
      "167.52 Radius :2\n",
      "565.38 Radius :3\n",
      "NEW ELEMENT\n",
      "Circle\n",
      "94.23 Radius :1\n",
      "188.46 Radius :2\n",
      "282.69 Radius :3\n",
      "Disk\n",
      "62.82 Radius :1\n",
      "251.28 Radius :2\n",
      "565.38 Radius :3\n",
      "Sphere\n",
      "125.64 Radius :1\n",
      "1005.12 Radius :2\n",
      "3392.28 Radius :3\n"
     ]
    }
   ],
   "source": [
    "func_lambda =[lambda x: 2*3.141*x, lambda x: 3.141*x**2, lambda x:4/3*3.141*x**3]\n",
    "                 \n",
    "alist = [[i(j) for j in radii] for i in func_lambda]\n",
    "for j in zip(densities.values(), densities.keys()):\n",
    "    print('NEW ELEMENT')\n",
    "    for i in range(len(alist)):\n",
    "        print(form[i])\n",
    "        for s in range(len(alist[i])):\n",
    "            print(f'{j[0][i]*blist[i][s]:.2f}', f'Radius :{s+1}')\n",
    "\n",
    "        "
   ]
  },
  {
   "cell_type": "code",
   "execution_count": null,
   "id": "f1ae405b",
   "metadata": {},
   "outputs": [],
   "source": []
  }
 ],
 "metadata": {
  "kernelspec": {
   "display_name": "PyCharm (LaboratoryOfComputationalPhysics_Y4)",
   "language": "python",
   "name": "pycharm-3b6023f"
  },
  "language_info": {
   "codemirror_mode": {
    "name": "ipython",
    "version": 3
   },
   "file_extension": ".py",
   "mimetype": "text/x-python",
   "name": "python",
   "nbconvert_exporter": "python",
   "pygments_lexer": "ipython3",
   "version": "3.9.2"
  }
 },
 "nbformat": 4,
 "nbformat_minor": 5
}
