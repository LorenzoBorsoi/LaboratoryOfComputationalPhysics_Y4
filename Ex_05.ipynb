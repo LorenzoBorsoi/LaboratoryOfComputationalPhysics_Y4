{
 "cells": [
  {
   "cell_type": "code",
   "execution_count": 1,
   "id": "70f5185e",
   "metadata": {},
   "outputs": [
    {
     "ename": "ParserError",
     "evalue": "Error tokenizing data. C error: Expected 1 fields in line 3, saw 2\n",
     "output_type": "error",
     "traceback": [
      "\u001b[1;31m---------------------------------------------------------------------------\u001b[0m",
      "\u001b[1;31mParserError\u001b[0m                               Traceback (most recent call last)",
      "\u001b[1;32m<ipython-input-1-0ced898c1c0a>\u001b[0m in \u001b[0;36m<module>\u001b[1;34m\u001b[0m\n\u001b[0;32m      6\u001b[0m \u001b[0mN\u001b[0m\u001b[1;33m=\u001b[0m\u001b[1;36m50000\u001b[0m\u001b[1;33m\u001b[0m\u001b[1;33m\u001b[0m\u001b[0m\n\u001b[0;32m      7\u001b[0m \u001b[0murl\u001b[0m\u001b[1;33m=\u001b[0m \u001b[1;34m\"https://www.dropbox.com/s/xvjzaxzz3ysphme/data_000637.txt\"\u001b[0m\u001b[1;33m\u001b[0m\u001b[1;33m\u001b[0m\u001b[0m\n\u001b[1;32m----> 8\u001b[1;33m \u001b[0mdf\u001b[0m\u001b[1;33m=\u001b[0m \u001b[0mpd\u001b[0m\u001b[1;33m.\u001b[0m\u001b[0mread_csv\u001b[0m\u001b[1;33m(\u001b[0m\u001b[0murl\u001b[0m\u001b[1;33m)\u001b[0m\u001b[1;33m\u001b[0m\u001b[1;33m\u001b[0m\u001b[0m\n\u001b[0m\u001b[0;32m      9\u001b[0m \u001b[1;31m# df = pd.read_csv(\"data_000637.txt\", nrows=N)\u001b[0m\u001b[1;33m\u001b[0m\u001b[1;33m\u001b[0m\u001b[1;33m\u001b[0m\u001b[0m\n\u001b[0;32m     10\u001b[0m \u001b[0mprint\u001b[0m\u001b[1;33m(\u001b[0m\u001b[0mdf\u001b[0m\u001b[1;33m)\u001b[0m\u001b[1;33m\u001b[0m\u001b[1;33m\u001b[0m\u001b[0m\n",
      "\u001b[1;32m~\\anaconda3\\lib\\site-packages\\pandas\\io\\parsers.py\u001b[0m in \u001b[0;36mread_csv\u001b[1;34m(filepath_or_buffer, sep, delimiter, header, names, index_col, usecols, squeeze, prefix, mangle_dupe_cols, dtype, engine, converters, true_values, false_values, skipinitialspace, skiprows, skipfooter, nrows, na_values, keep_default_na, na_filter, verbose, skip_blank_lines, parse_dates, infer_datetime_format, keep_date_col, date_parser, dayfirst, cache_dates, iterator, chunksize, compression, thousands, decimal, lineterminator, quotechar, quoting, doublequote, escapechar, comment, encoding, dialect, error_bad_lines, warn_bad_lines, delim_whitespace, low_memory, memory_map, float_precision, storage_options)\u001b[0m\n\u001b[0;32m    608\u001b[0m     \u001b[0mkwds\u001b[0m\u001b[1;33m.\u001b[0m\u001b[0mupdate\u001b[0m\u001b[1;33m(\u001b[0m\u001b[0mkwds_defaults\u001b[0m\u001b[1;33m)\u001b[0m\u001b[1;33m\u001b[0m\u001b[1;33m\u001b[0m\u001b[0m\n\u001b[0;32m    609\u001b[0m \u001b[1;33m\u001b[0m\u001b[0m\n\u001b[1;32m--> 610\u001b[1;33m     \u001b[1;32mreturn\u001b[0m \u001b[0m_read\u001b[0m\u001b[1;33m(\u001b[0m\u001b[0mfilepath_or_buffer\u001b[0m\u001b[1;33m,\u001b[0m \u001b[0mkwds\u001b[0m\u001b[1;33m)\u001b[0m\u001b[1;33m\u001b[0m\u001b[1;33m\u001b[0m\u001b[0m\n\u001b[0m\u001b[0;32m    611\u001b[0m \u001b[1;33m\u001b[0m\u001b[0m\n\u001b[0;32m    612\u001b[0m \u001b[1;33m\u001b[0m\u001b[0m\n",
      "\u001b[1;32m~\\anaconda3\\lib\\site-packages\\pandas\\io\\parsers.py\u001b[0m in \u001b[0;36m_read\u001b[1;34m(filepath_or_buffer, kwds)\u001b[0m\n\u001b[0;32m    466\u001b[0m \u001b[1;33m\u001b[0m\u001b[0m\n\u001b[0;32m    467\u001b[0m     \u001b[1;32mwith\u001b[0m \u001b[0mparser\u001b[0m\u001b[1;33m:\u001b[0m\u001b[1;33m\u001b[0m\u001b[1;33m\u001b[0m\u001b[0m\n\u001b[1;32m--> 468\u001b[1;33m         \u001b[1;32mreturn\u001b[0m \u001b[0mparser\u001b[0m\u001b[1;33m.\u001b[0m\u001b[0mread\u001b[0m\u001b[1;33m(\u001b[0m\u001b[0mnrows\u001b[0m\u001b[1;33m)\u001b[0m\u001b[1;33m\u001b[0m\u001b[1;33m\u001b[0m\u001b[0m\n\u001b[0m\u001b[0;32m    469\u001b[0m \u001b[1;33m\u001b[0m\u001b[0m\n\u001b[0;32m    470\u001b[0m \u001b[1;33m\u001b[0m\u001b[0m\n",
      "\u001b[1;32m~\\anaconda3\\lib\\site-packages\\pandas\\io\\parsers.py\u001b[0m in \u001b[0;36mread\u001b[1;34m(self, nrows)\u001b[0m\n\u001b[0;32m   1055\u001b[0m     \u001b[1;32mdef\u001b[0m \u001b[0mread\u001b[0m\u001b[1;33m(\u001b[0m\u001b[0mself\u001b[0m\u001b[1;33m,\u001b[0m \u001b[0mnrows\u001b[0m\u001b[1;33m=\u001b[0m\u001b[1;32mNone\u001b[0m\u001b[1;33m)\u001b[0m\u001b[1;33m:\u001b[0m\u001b[1;33m\u001b[0m\u001b[1;33m\u001b[0m\u001b[0m\n\u001b[0;32m   1056\u001b[0m         \u001b[0mnrows\u001b[0m \u001b[1;33m=\u001b[0m \u001b[0mvalidate_integer\u001b[0m\u001b[1;33m(\u001b[0m\u001b[1;34m\"nrows\"\u001b[0m\u001b[1;33m,\u001b[0m \u001b[0mnrows\u001b[0m\u001b[1;33m)\u001b[0m\u001b[1;33m\u001b[0m\u001b[1;33m\u001b[0m\u001b[0m\n\u001b[1;32m-> 1057\u001b[1;33m         \u001b[0mindex\u001b[0m\u001b[1;33m,\u001b[0m \u001b[0mcolumns\u001b[0m\u001b[1;33m,\u001b[0m \u001b[0mcol_dict\u001b[0m \u001b[1;33m=\u001b[0m \u001b[0mself\u001b[0m\u001b[1;33m.\u001b[0m\u001b[0m_engine\u001b[0m\u001b[1;33m.\u001b[0m\u001b[0mread\u001b[0m\u001b[1;33m(\u001b[0m\u001b[0mnrows\u001b[0m\u001b[1;33m)\u001b[0m\u001b[1;33m\u001b[0m\u001b[1;33m\u001b[0m\u001b[0m\n\u001b[0m\u001b[0;32m   1058\u001b[0m \u001b[1;33m\u001b[0m\u001b[0m\n\u001b[0;32m   1059\u001b[0m         \u001b[1;32mif\u001b[0m \u001b[0mindex\u001b[0m \u001b[1;32mis\u001b[0m \u001b[1;32mNone\u001b[0m\u001b[1;33m:\u001b[0m\u001b[1;33m\u001b[0m\u001b[1;33m\u001b[0m\u001b[0m\n",
      "\u001b[1;32m~\\anaconda3\\lib\\site-packages\\pandas\\io\\parsers.py\u001b[0m in \u001b[0;36mread\u001b[1;34m(self, nrows)\u001b[0m\n\u001b[0;32m   2059\u001b[0m     \u001b[1;32mdef\u001b[0m \u001b[0mread\u001b[0m\u001b[1;33m(\u001b[0m\u001b[0mself\u001b[0m\u001b[1;33m,\u001b[0m \u001b[0mnrows\u001b[0m\u001b[1;33m=\u001b[0m\u001b[1;32mNone\u001b[0m\u001b[1;33m)\u001b[0m\u001b[1;33m:\u001b[0m\u001b[1;33m\u001b[0m\u001b[1;33m\u001b[0m\u001b[0m\n\u001b[0;32m   2060\u001b[0m         \u001b[1;32mtry\u001b[0m\u001b[1;33m:\u001b[0m\u001b[1;33m\u001b[0m\u001b[1;33m\u001b[0m\u001b[0m\n\u001b[1;32m-> 2061\u001b[1;33m             \u001b[0mdata\u001b[0m \u001b[1;33m=\u001b[0m \u001b[0mself\u001b[0m\u001b[1;33m.\u001b[0m\u001b[0m_reader\u001b[0m\u001b[1;33m.\u001b[0m\u001b[0mread\u001b[0m\u001b[1;33m(\u001b[0m\u001b[0mnrows\u001b[0m\u001b[1;33m)\u001b[0m\u001b[1;33m\u001b[0m\u001b[1;33m\u001b[0m\u001b[0m\n\u001b[0m\u001b[0;32m   2062\u001b[0m         \u001b[1;32mexcept\u001b[0m \u001b[0mStopIteration\u001b[0m\u001b[1;33m:\u001b[0m\u001b[1;33m\u001b[0m\u001b[1;33m\u001b[0m\u001b[0m\n\u001b[0;32m   2063\u001b[0m             \u001b[1;32mif\u001b[0m \u001b[0mself\u001b[0m\u001b[1;33m.\u001b[0m\u001b[0m_first_chunk\u001b[0m\u001b[1;33m:\u001b[0m\u001b[1;33m\u001b[0m\u001b[1;33m\u001b[0m\u001b[0m\n",
      "\u001b[1;32mpandas\\_libs\\parsers.pyx\u001b[0m in \u001b[0;36mpandas._libs.parsers.TextReader.read\u001b[1;34m()\u001b[0m\n",
      "\u001b[1;32mpandas\\_libs\\parsers.pyx\u001b[0m in \u001b[0;36mpandas._libs.parsers.TextReader._read_low_memory\u001b[1;34m()\u001b[0m\n",
      "\u001b[1;32mpandas\\_libs\\parsers.pyx\u001b[0m in \u001b[0;36mpandas._libs.parsers.TextReader._read_rows\u001b[1;34m()\u001b[0m\n",
      "\u001b[1;32mpandas\\_libs\\parsers.pyx\u001b[0m in \u001b[0;36mpandas._libs.parsers.TextReader._tokenize_rows\u001b[1;34m()\u001b[0m\n",
      "\u001b[1;32mpandas\\_libs\\parsers.pyx\u001b[0m in \u001b[0;36mpandas._libs.parsers.raise_parser_error\u001b[1;34m()\u001b[0m\n",
      "\u001b[1;31mParserError\u001b[0m: Error tokenizing data. C error: Expected 1 fields in line 3, saw 2\n"
     ]
    }
   ],
   "source": [
    "import pandas as pd\n",
    "import numpy as np\n",
    "\n",
    "#Q1:\n",
    "\n",
    "N=50000\n",
    "url= \"https://www.dropbox.com/s/xvjzaxzz3ysphme/data_000637.txt\"\n",
    "df= pd.read_csv(url)\n",
    "# df = pd.read_csv(\"data_000637.txt\", nrows=N)\n",
    "print(df)"
   ]
  },
  {
   "cell_type": "code",
   "execution_count": 2,
   "id": "ec8659f4",
   "metadata": {},
   "outputs": [
    {
     "name": "stdout",
     "output_type": "stream",
     "text": [
      "There are 3563 BX in an ORBIT\n"
     ]
    }
   ],
   "source": [
    "#Q2:\n",
    "\n",
    "print(\"There are {} BX in an ORBIT\".format(df['BX_COUNTER'].max()))"
   ]
  },
  {
   "cell_type": "code",
   "execution_count": 3,
   "id": "b8559839",
   "metadata": {},
   "outputs": [
    {
     "name": "stdout",
     "output_type": "stream",
     "text": [
      "It takes 0.4986279010772705 S to read all the data\n"
     ]
    }
   ],
   "source": [
    "#Q3:\n",
    "\n",
    "import time as time\n",
    "\n",
    "start = time.time()\n",
    "df0 = pd.read_csv(\"data_000637.txt\")\n",
    "end = time.time()\n",
    "print(\"It takes {} S to read all the data\".format(end-start))"
   ]
  },
  {
   "cell_type": "code",
   "execution_count": 4,
   "id": "7b3518a0",
   "metadata": {},
   "outputs": [
    {
     "name": "stdout",
     "output_type": "stream",
     "text": [
      "       HEAD  FPGA  TDC_CHANNEL   ORBIT_CNT  BX_COUNTER  TDC_MEAS           A_T\n",
      "0         1     0          123  3869200167        2374        26  3.446490e+14\n",
      "1         1     0          124  3869200167        2374        27  3.446490e+14\n",
      "2         1     0           63  3869200167        2553        28  3.446490e+14\n",
      "3         1     0           64  3869200167        2558        19  3.446490e+14\n",
      "4         1     0           64  3869200167        2760        25  3.446490e+14\n",
      "...     ...   ...          ...         ...         ...       ...           ...\n",
      "49995     1     1            2  3869200664        1103         4  3.446490e+14\n",
      "49996     1     1            4  3869200664        1105        14  3.446490e+14\n",
      "49997     1     0           59  3869200664        1191        17  3.446490e+14\n",
      "49998     1     0           32  3869200664        1191         1  3.446490e+14\n",
      "49999     1     0           60  3869200664        1190         6  3.446490e+14\n",
      "\n",
      "[50000 rows x 7 columns]\n"
     ]
    }
   ],
   "source": [
    "#Q4:\n",
    "\n",
    "# time= ORbit_CNT * 3563 * 25 + Bx_counter * 25 + tdc_meas * (25/30)\n",
    "\n",
    "Time=[25*((df['ORBIT_CNT'][i])*3563 + (df['BX_COUNTER'][i]) + (df['TDC_MEAS'][i])*(1/30))  for i in range(N)]\n",
    "\n",
    "df1 = df.assign(A_T=pd.Series(np.array(Time)).values)\n",
    "print(df1)"
   ]
  },
  {
   "cell_type": "code",
   "execution_count": 5,
   "id": "2b29d86f",
   "metadata": {},
   "outputs": [
    {
     "name": "stdout",
     "output_type": "stream",
     "text": [
      "       HEAD  FPGA  TDC_CHANNEL   ORBIT_CNT  BX_COUNTER  TDC_MEAS           A_T\n",
      "0         0     0          123  3869200167        2374        26  3.446490e+14\n",
      "1         1     0          124  3869200167        2374        27  3.446490e+14\n",
      "2         1     0           63  3869200167        2553        28  3.446490e+14\n",
      "3         0     0           64  3869200167        2558        19  3.446490e+14\n",
      "4         1     0           64  3869200167        2760        25  3.446490e+14\n",
      "...     ...   ...          ...         ...         ...       ...           ...\n",
      "49995     0     1            2  3869200664        1103         4  3.446490e+14\n",
      "49996     1     1            4  3869200664        1105        14  3.446490e+14\n",
      "49997     0     0           59  3869200664        1191        17  3.446490e+14\n",
      "49998     1     0           32  3869200664        1191         1  3.446490e+14\n",
      "49999     1     0           60  3869200664        1190         6  3.446490e+14\n",
      "\n",
      "[50000 rows x 7 columns]\n"
     ]
    }
   ],
   "source": [
    "#Q5:\n",
    "\n",
    "df2=df1\n",
    "df2['HEAD']= [np.random.choice([1,0]) for i in range(N)] \n",
    "print(df2)"
   ]
  },
  {
   "cell_type": "code",
   "execution_count": 6,
   "id": "cf0c1fc9",
   "metadata": {},
   "outputs": [
    {
     "name": "stdout",
     "output_type": "stream",
     "text": [
      "       HEAD  FPGA  TDC_CHANNEL   ORBIT_CNT  BX_COUNTER  TDC_MEAS           A_T\n",
      "1         1     0          124  3869200167        2374        27  3.446490e+14\n",
      "2         1     0           63  3869200167        2553        28  3.446490e+14\n",
      "4         1     0           64  3869200167        2760        25  3.446490e+14\n",
      "7         1     0          139  3869200167        2776         0  3.446490e+14\n",
      "8         1     0           62  3869200167        2774        21  3.446490e+14\n",
      "...     ...   ...          ...         ...         ...       ...           ...\n",
      "49990     1     1           52  3869200664        1097        12  3.446490e+14\n",
      "49991     1     1            4  3869200664        1094         4  3.446490e+14\n",
      "49996     1     1            4  3869200664        1105        14  3.446490e+14\n",
      "49998     1     0           32  3869200664        1191         1  3.446490e+14\n",
      "49999     1     0           60  3869200664        1190         6  3.446490e+14\n",
      "\n",
      "[25050 rows x 7 columns]\n"
     ]
    }
   ],
   "source": [
    "#Q6:\n",
    "\n",
    "df3 = df2.drop([i for i in range(N) if df2['HEAD'][i]==0])\n",
    "print(df3)"
   ]
  },
  {
   "cell_type": "code",
   "execution_count": 7,
   "id": "54a49660",
   "metadata": {},
   "outputs": [
    {
     "data": {
      "text/plain": [
       "<Figure size 432x288 with 0 Axes>"
      ]
     },
     "execution_count": 7,
     "metadata": {},
     "output_type": "execute_result"
    },
    {
     "data": {
      "image/png": "[encoded data removed]",
      "text/plain": [
       "<Figure size 432x288 with 1 Axes>"
      ]
     },
     "metadata": {
      "needs_background": "light"
     },
     "output_type": "display_data"
    },
    {
     "data": {
      "image/png": "[encoded data removed]",
      "text/plain": [
       "<Figure size 432x288 with 1 Axes>"
      ]
     },
     "metadata": {
      "needs_background": "light"
     },
     "output_type": "display_data"
    },
    {
     "data": {
      "text/plain": [
       "<Figure size 432x288 with 0 Axes>"
      ]
     },
     "metadata": {},
     "output_type": "display_data"
    }
   ],
   "source": [
    "#Q7:\n",
    "\n",
    "import matplotlib.pyplot as plt\n",
    "\n",
    "CH1= [df2['TDC_CHANNEL'][i] for i in range(N) if df2['FPGA'][i] == 0]\n",
    "CH1.sort()\n",
    "\n",
    "Counter1=[]\n",
    "Channels1=[]\n",
    "\n",
    "for i in range(len(CH1)):\n",
    "    if CH1[i] not in Channels1:\n",
    "        Counter1.append(CH1.count(CH1[i]))\n",
    "        Channels1.append(CH1[i])\n",
    "    else: continue\n",
    "\n",
    "\n",
    "plt.plot(Channels1, Counter1)\n",
    "plt.xlabel('TDC_CHANNEL')\n",
    "plt.ylabel('Count')\n",
    "plt.title('FPGA0')\n",
    "plt.figure()\n",
    "\n",
    "    \n",
    "CH2= [df2['TDC_CHANNEL'][i] for i in range(N) if df2['FPGA'][i] == 1]\n",
    "CH2.sort()\n",
    "\n",
    "Counter2=[]\n",
    "Channels2=[]\n",
    "\n",
    "for i in range(len(CH2)):\n",
    "    if CH2[i] not in Channels2:\n",
    "        Counter2.append(CH2.count(CH2[i]))\n",
    "        Channels2.append(CH2[i])\n",
    "    else: continue\n",
    "        \n",
    "plt.plot(Channels2, Counter2)\n",
    "plt.xlabel('TDC_CHANNEL')\n",
    "plt.ylabel('Count')\n",
    "plt.title('FPGA1')\n",
    "plt.figure()"
   ]
  },
  {
   "cell_type": "code",
   "execution_count": 8,
   "id": "38e131f4",
   "metadata": {},
   "outputs": [
    {
     "name": "stdout",
     "output_type": "stream",
     "text": [
      "TDC_CHANNEL\n",
      "1      1118\n",
      "2      1274\n",
      "3       911\n",
      "4      1065\n",
      "5       645\n",
      "       ... \n",
      "126      24\n",
      "127      47\n",
      "128      52\n",
      "130       1\n",
      "139    4175\n",
      "Name: HEAD, Length: 130, dtype: int64\n",
      "\n",
      "\n",
      "The TDC_channels with index: [129, 63, 62] have maximum number counts which are listed as [4175, 2523, 2472]\n"
     ]
    }
   ],
   "source": [
    "#Q8:\n",
    "\n",
    "\"\"\"In this exercise we use the initial unmodified data in which \n",
    "all the values of HEAD column is equal to 0. Therefore by using groupby method and \n",
    "the function sum() we can obtain the count for each TDC_Channel\"\"\"\n",
    "\n",
    "TDC_Count = df.groupby('TDC_CHANNEL').sum()\n",
    "print(TDC_Count['HEAD'])\n",
    "\n",
    "#now we should find the top 3 in the HEAD column\n",
    "print(\"\\n\")\n",
    "T_C=list(TDC_Count['HEAD'])\n",
    "temp=T_C.copy()\n",
    "temp.sort(reverse=True)\n",
    "max_TDC_count= temp[:3]\n",
    "max_TDC_index=[T_C.index(temp[i]) for i in range(3)]\n",
    "\n",
    "print(\"The TDC_channels with index: {} have maximum number counts which are listed as {}\".format(max_TDC_index,max_TDC_count))"
   ]
  },
  {
   "cell_type": "code",
   "execution_count": 9,
   "id": "d77529fe",
   "metadata": {},
   "outputs": [
    {
     "name": "stdout",
     "output_type": "stream",
     "text": [
      "Number of unique orbits is: 498\n",
      "Number of unique orbits with at least one measurement from TDC_CHANNEL=139 is: 7\n"
     ]
    }
   ],
   "source": [
    "#Q9:\n",
    "\n",
    "print(\"Number of unique orbits is:\", len(set(list(df2[\"ORBIT_CNT\"]))))\n",
    "print(\"Number of unique orbits with at least one measurement from TDC_CHANNEL=139 is:\", len(set(list(df2[df2[\"ORBIT_CNT\"]==139]))))"
   ]
  }
 ],
 "metadata": {
  "kernelspec": {
   "display_name": "Python 3",
   "language": "python",
   "name": "python3"
  },
  "language_info": {
   "codemirror_mode": {
    "name": "ipython",
    "version": 3
   },
   "file_extension": ".py",
   "mimetype": "text/x-python",
   "name": "python",
   "nbconvert_exporter": "python",
   "pygments_lexer": "ipython3",
   "version": "3.8.8"
  }
 },
 "nbformat": 4,
 "nbformat_minor": 5
}
