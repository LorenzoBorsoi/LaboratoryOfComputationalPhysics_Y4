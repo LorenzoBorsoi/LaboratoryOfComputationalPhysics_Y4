{
 "cells": [
  {
   "cell_type": "code",
   "execution_count": null,
   "source": [
    "# packages\n",
    "import numpy as np\n",
    "import matplotlib.pyplot as plt\n",
    "import seaborn as sns\n",
    "\n",
    "rng = np.random.RandomState(1234)"
   ],
   "outputs": [],
   "metadata": {}
  },
  {
   "cell_type": "markdown",
   "source": [
    "1\\. **Kernel Density Estimate**\n",
    "\n",
    "Produce a KDE for a given distribution (by hand, not using seaborn!):\n",
    "\n",
    "* Fill a numpy array, x,  of len(N) (with N=O(100)) with a variable normally distributed, with a given mean a standard deviation\n",
    "* Fill an histogram in pyplot taking properly care about the aesthetic\n",
    "   * use a meaningful number of bins\n",
    "   * set a proper y axis label\n",
    "   * set proper value of y axis major ticks labels (e.g. you want to display only integer labels)\n",
    "   * display the histograms as data points with errors (the error being the poisson uncertainty)\n",
    "* for every element of x, create a gaussian with the mean corresponding the element value and std as a parameter that can be tuned. The std default value should be:\n",
    "$$ 1.06 * x.std() * x.size ^{-\\frac{1}{5.}} $$\n",
    "you can use the scipy function `stats.norm()` for that.\n",
    "* In a separate plot (to be placed beside the original histogram), plot all the gaussian functions so obtained\n",
    "* Sum (with np.sum()) all the gaussian functions and normalize the result such that the integral matches the integral of the original histogram. For that you could use the `scipy.integrate.trapz()` method\n"
   ],
   "metadata": {}
  },
  {
   "cell_type": "code",
   "execution_count": null,
   "source": [
    "# EXERCISE 1\n",
    "\n",
    "N_samples = 100\n",
    "mean = 0\n",
    "std = 1\n",
    "values = rng.normal(loc=mean,scale=std,size=N_samples)\n",
    "fig,(ax1,ax2) = plt.subplots(1,2,sharey=True)\n",
    "samples_per_bin,bins,patches=ax1.hist(values,10,color='mediumseagreen',edgecolor=\"seagreen\")\n",
    "ax1.set_ylabel(\"Number of samples\")\n",
    "ax1.set_xlabel(\"Value\")\n",
    "\n",
    "from matplotlib.ticker import MaxNLocator # locator object determines the ticks in the axis chosen\n",
    "ax1.yaxis.set_major_locator(MaxNLocator(10,integer=True)) # MaxNLocator generater at most N=10 intervals between ticks.\n",
    "\n",
    "#get the center of each bin\n",
    "bins_center = [bins[i]+ (bins[i+1]-bins[i])/2 for i in range(len(bins)-1)]\n",
    "\n",
    "errors = [N**0.5 for N in samples_per_bin] # is this right?\n",
    "ax1.errorbar(bins_center,samples_per_bin,errors,capsize=10 ,fmt=\"+\",color=\"darkgreen\")\n",
    "\n",
    "# second plot\n",
    "from scipy.stats import norm\n",
    "from scipy.integrate import trapezoid\n",
    "\n",
    "x_grid = np.linspace(values.min(),values.max(),200)\n",
    "y_gauss = np.empty(shape=(values.size,x_grid.size))\n",
    "std=1.06*values.size**(-0.5)*values.std()\n",
    "\n",
    "for idx,x in enumerate(values):\n",
    "    y_gauss[idx]=norm.pdf(x_grid,loc=x,scale=std)\n",
    "    ax2.plot(x_grid,y_gauss[idx],color='lightcoral',alpha=0.3)\n",
    "\n",
    "y_gauss_tot = np.sum(y_gauss,axis=0)\n",
    "integral=trapezoid(y_gauss_tot,x_grid)\n",
    "integral_histogram=(np.diff(bins) @ samples_per_bin)\n",
    "normalization = integral_histogram/integral\n",
    "\n",
    "ax2.plot(x_grid,y_gauss_tot*normalization,color='brown')\n",
    "ax2.set_xlabel(\"Value\")\n",
    "\n",
    "fig.subplots_adjust(wspace=0)\n",
    "ax1.grid(True)\n",
    "ax2.grid(True)\n",
    "\n",
    "plt.show() "
   ],
   "outputs": [],
   "metadata": {}
  },
  {
   "cell_type": "markdown",
   "source": [
    "2\\. **Color-coded scatter plot**\n",
    "\n",
    "Produce a scatter plot out of a dataset with two categories\n",
    "\n",
    "* Write a function that generate a 2D datasets of 2 categories. Each category should distribute as a 2D gaussian with a given mean and std (clearly it is better to have different values means..)\n",
    "* Display the dataset in a scatter plot marking the two categories with different marker colors.\n",
    "\n",
    "An example is given below\n",
    "\n",
    "You can try to make the procedure more general by allowing a given number $n\\ge 2$ of categories"
   ],
   "metadata": {}
  },
  {
   "cell_type": "code",
   "execution_count": null,
   "source": [
    "! wget https://www.dropbox.com/s/u4y3k4kk5tc7j46/two_categories_scatter_plot.png\n",
    "from IPython.display import Image\n",
    "Image('two_categories_scatter_plot.png')"
   ],
   "outputs": [],
   "metadata": {}
  },
  {
   "cell_type": "code",
   "execution_count": null,
   "source": [
    "# EXERCISE 2\n",
    "\n",
    "N_categories = 4\n",
    "fig,ax = plt.subplots()\n",
    "\n",
    "for category in range(N_categories):\n",
    "    mean = rng.randint(10,size=2)\n",
    "    cov = np.array([[rng.uniform(0.5,1),0],[0,rng.uniform(0.5,1)]]) # selecting covariance matrix to be orthogonal and of eigenvalues between 0.5 and 1\n",
    "    cloud=rng.multivariate_normal(mean=mean,cov=cov,size=50)\n",
    "    ax.scatter(cloud[:,0],cloud[:,1],alpha=0.7,label='Category # {}'.format(category+1))\n",
    "\n",
    "ax.legend()\n",
    "plt.show()"
   ],
   "outputs": [],
   "metadata": {}
  },
  {
   "cell_type": "markdown",
   "source": [
    "3\\. **Profile plot**\n",
    "\n",
    "Produce a profile plot from a scatter plot.\n",
    "* Download the following dataset and load it as a pandas dataframe:\n",
    "```bash\n",
    "wget https://www.dropbox.com/s/hgnvyj9abatk8g6/residuals_261.npy\n",
    "```\n",
    "Note that you should use the `np.load()` function to load the file as a numpy array, call the `.item()` method, and then pass it to the `pd.DataFrame()` constructor.\n",
    "* Inspect the dataset, you'll find two variables (features)\n",
    "* Clean the sample by selecting the entries (rows) with the variable \"residual\" in absolute value smaller than 2\n",
    "* perform a linear regression of \"residuals\" versus \"distances\" using `scipy.stats.linregress()` \n",
    "* plot a seaborn jointplot of  \"residuals\" versus \"distances\", having seaborn performing a linear regression. The result of the regression should be displayed on the plot\n",
    "* Fill 3 numpy arrays\n",
    "  * x, serving as an array of bin centers for the \"distance\" variable. It should range from 0 to 20 with reasonable number of steps (bins)\n",
    "  * y, the mean values of the \"residuals\", estimated in slices (bins) of \"distance\"\n",
    "  * erry, the standard deviation of the  of the \"residuals\", estimated in slices (bins) of \"distance\"\n",
    "* Plot the profile plot on top of the scatter plot"
   ],
   "metadata": {}
  },
  {
   "cell_type": "code",
   "execution_count": null,
   "source": [
    "! wget https://www.dropbox.com/s/hgnvyj9abatk8g6/residuals_261.npy"
   ],
   "outputs": [],
   "metadata": {}
  },
  {
   "cell_type": "code",
   "execution_count": null,
   "source": [
    "# EXERCISE 3\n",
    "\n",
    "import pandas as pd\n",
    "from scipy.stats import linregress\n",
    "\n",
    "df = pd.DataFrame(np.load('residuals_261.npy',allow_pickle=True).item()) # load\n",
    "df.info() # inspect\n",
    "df = df[abs(df)[\"residuals\"]<2] #cleaning\n",
    "\n",
    "linreg = linregress(df[\"distances\"],df[\"residuals\"]) # linregression using scipy\n",
    "\n",
    "# instead of taking the easy route of simply calling the wrapper function sns.jointplot(kind='reg')\n",
    "# we will go into more detail and work directly with the JointGrid Seaborn object in order to be able to call .hist directly on the marginal axis\n",
    "# this way we can decide the number of bins and more importantly get the returning values of\n",
    "# values_per_bin and bin_edges which we will use to create the profile plot on the joint ax, that again is easily manipulated\n",
    "# if we work directly with the JointGrid object.\n",
    "# all of this in order to get the profile plot bins aligned with the marginal histogram bins\n",
    "\n",
    "g = sns.JointGrid()\n",
    "sns.scatterplot(x=df['distances'], y=df['residuals'], ax=g.ax_joint,alpha=0.3,color='mediumseagreen')\n",
    "sns.histplot(y=df['residuals'],color='seagreen',edgecolor='black', ax=g.ax_marg_y)\n",
    "values_per_bin,bin_edges,patches=g.ax_marg_x.hist(x=df['distances'],edgecolor='black',color='seagreen')\n",
    "# sns.kdeplot(y=df['residuals'], linewidth=2, ax=g.ax_marg_y) # broken\n",
    "\n",
    "\n",
    "# profile plot; we build it to be exactly the same number of bins as the distances histogram already plotted\n",
    "bins_center_ex3 = np.array([bin_edges[i]+ (bin_edges[i+1]-bin_edges[i])/2 for i in range(len(bin_edges)-1)]) # array of bin center\n",
    "bins_x = np.digitize(df[\"distances\"],bin_edges) #calling digitize like this actually labels the highest x value in its own bin. we need to fix it\n",
    "bins_x[bins_x==bins_x.max()] = bins_x.max() - 1 # fixed\n",
    "df[\"bin\"]=bins_x\n",
    "y=df.groupby('bin').mean()[\"residuals\"]\n",
    "erry=df.groupby('bin').std()['residuals'] \n",
    "g.ax_joint.errorbar(bins_center_ex3,y,erry,label='Profile Plot',color='darkgreen',ecolor='darkgreen',linewidth=2,capsize=5,alpha=0.9)\n",
    "\n",
    "# trying to call the seaborne method for regression is a just a pain at this point so why not use the scipy linear regression we've already computed\n",
    "reg_x = np.linspace(df['distances'].min(),df['distances'].max())\n",
    "g.ax_joint.plot(reg_x,(reg_x*linreg.slope + linreg.intercept),color='chartreuse',linestyle='--',linewidth=2,label='Scipy Linear Regression')\n",
    "\n",
    "for ax in g.fig.axes: ax.set_facecolor('honeydew')\n",
    "g.ax_joint.grid(True)\n",
    "g.ax_joint.legend()\n",
    "\n"
   ],
   "outputs": [],
   "metadata": {}
  },
  {
   "cell_type": "code",
   "execution_count": null,
   "source": [],
   "outputs": [],
   "metadata": {}
  }
 ],
 "metadata": {
  "kernelspec": {
   "name": "python3",
   "display_name": "Python 3.8.8 64-bit ('base': conda)"
  },
  "language_info": {
   "codemirror_mode": {
    "name": "ipython",
    "version": 3
   },
   "file_extension": ".py",
   "mimetype": "text/x-python",
   "name": "python",
   "nbconvert_exporter": "python",
   "pygments_lexer": "ipython3",
   "version": "3.8.8"
  },
  "interpreter": {
   "hash": "a3c34d53b0b4d70da62f7b5a080d8239056f030c25ec722ce0a2734d501a65c4"
  }
 },
 "nbformat": 4,
 "nbformat_minor": 2
}