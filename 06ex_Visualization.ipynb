{
 "cells": [
  {
   "cell_type": "markdown",
   "metadata": {},
   "source": [
    "1\\. **Kernel Density Estimate**\n",
    "\n",
    "Produce a KDE for a given distribution (by hand, not using seaborn!):\n",
    "\n",
    "* Fill a numpy array, x,  of len(N) (with N=O(100)) with a variable normally distributed, with a given mean a standard deviation\n",
    "* Fill an histogram in pyplot taking properly care about the aesthetic\n",
    "   * use a meaningful number of bins\n",
    "   * set a proper y axis label\n",
    "   * set proper value of y axis major ticks labels (e.g. you want to display only integer labels)\n",
    "   * display the histograms as data points with errors (the error being the poisson uncertainty)\n",
    "* for every element of x, create a gaussian with the mean corresponding the element value and std as a parameter that can be tuned. The std default value should be:\n",
    "$$ 1.06 * x.std() * x.size ^{-\\frac{1}{5.}} $$\n",
    "you can use the scipy function `stats.norm()` for that.\n",
    "* In a separate plot (to be placed beside the original histogram), plot all the gaussian functions so obtained\n",
    "* Sum (with np.sum()) all the gaussian functions and normalize the result such that the integral matches the integral of the original histogram. For that you could use the `scipy.integrate.trapz()` method\n"
   ]
  },
  {
   "cell_type": "code",
   "execution_count": null,
   "metadata": {},
   "outputs": [],
   "source": [
    "import numpy as np\n",
    "import scipy.stats as stats\n",
    "import scipy\n",
    "import matplotlib.pyplot as plt\n",
    "#first part\n",
    "mean, sigma, N = 2, 1, 100\n",
    "data = np.random.normal(mean, sigma, N)\n",
    "\n",
    "fig, ((ax0, ax1), (ax2, ax3)) = plt.subplots(2,2,figsize=(16,12))\n",
    "nbins = N\n",
    "n, bins, _ = ax0.hist(data, bins=nbins)\n",
    "bin2 = np.where(abs((np.roll(bins,-1) + bins)[:-1]/2 - mean) < 0.1)\n",
    "#try to automatically determine best number of bins\n",
    "while n[bin2[0][0] if bin2[0].size else 0] < N**0.6 or n[bin2[0][0] if bin2[0].size else 0] < n.max() and nbins > 6:\n",
    "    nbins = int(nbins/2)\n",
    "    ax0.clear()\n",
    "    n, bins, _ = ax0.hist(data, bins=nbins)\n",
    "    bin2 = np.where(abs((np.roll(bins,-1) + bins)[:-1]/2 - mean) < 0.5)\n",
    "    \n",
    "ax1.errorbar( ((np.roll(bins,-1) + bins)/2)[0:-1], n, [ x**(-0.5) if x > 0 else 0 for x in n ], fmt='r.', capsize=6, capthick=1.5, ecolor = 'black', elinewidth=2)\n",
    "ax0.set_ylabel('Counts')\n",
    "ax0.set_title('Histogram')\n",
    "maxy = ax1.get_yticks()[-1]\n",
    "ax0.set_yticks(np.arange(0, maxy, int(maxy/5) +1))\n",
    "ax1.set_ylabel('Counts')\n",
    "ax1.set_title('Errorbar with KDE')\n",
    "ax1.set_yticks(np.arange(0, maxy, int(maxy/5) +1))\n",
    "#ax.grid()\n",
    "\n",
    "#second part\n",
    "scale=1.06*data.std()*data.size**(-0.2)\n",
    "y = np.empty([100, data.size])\n",
    "x = np.linspace(data.min()-1.5, data.max()+1.5, 100)\n",
    "for i in range(data.size):\n",
    "    dist = stats.norm(loc=data[i], scale=scale)\n",
    "    #x[:,i] = np.linspace(dist.ppf(0.01), dist.ppf(0.99), 100)\n",
    "    y[:,i] = dist.pdf(x)\n",
    "\n",
    "ax2.plot(x, y)\n",
    "ax2.set_title('Set of gaussians')\n",
    "y_tot = np.sum(y, axis=1)\n",
    "y_tot *= scipy.integrate.trapezoid(n, bins[:-1])/y.shape[1]\n",
    "ax3.plot(x, y_tot)\n",
    "ax3.set_title('KDE')\n",
    "ax3.set_ylabel('Counts')\n",
    "ax1.plot(x, y_tot)\n",
    "plt.plot()"
   ]
  },
  {
   "cell_type": "markdown",
   "metadata": {},
   "source": [
    "2\\. **Color-coded scatter plot**\n",
    "\n",
    "Produce a scatter plot out of a dataset with two categories\n",
    "\n",
    "* Write a function that generate a 2D datasets of 2 categories. Each category should distribute as a 2D gaussian with a given mean and std (clearly it is better to have different values means..)\n",
    "* Display the dataset in a scatter plot marking the two categories with different marker colors.\n",
    "\n",
    "An example is given below\n",
    "\n",
    "You can try to make the procedure more general by allowing a given number $n\\ge 2$ of categories"
   ]
  },
  {
   "cell_type": "code",
   "execution_count": null,
   "metadata": {},
   "outputs": [],
   "source": [
    "! wget https://www.dropbox.com/s/u4y3k4kk5tc7j46/two_categories_scatter_plot.png\n",
    "from IPython.display import Image\n",
    "Image('two_categories_scatter_plot.png')"
   ]
  },
  {
   "cell_type": "code",
   "execution_count": null,
   "metadata": {},
   "outputs": [],
   "source": [
    "#shape of array is #categories, 2, #x\n",
    "\n",
    "cat, N = 4, 100\n",
    "data = np.empty((cat, 2, N))\n",
    "#generate data\n",
    "for i in range(cat):\n",
    "    data[i,:,:] = np.random.normal(5*i, np.random.randint(1, 5), (2, N))\n",
    "\n",
    "#plot data\n",
    "fig, ax = plt.subplots(figsize=(10,10))\n",
    "for i in range(cat):\n",
    "    ax.scatter(data[i,0,:], data[i,1,:], s=90, c='C'+str(i), alpha = 0.35, label=str(i))\n",
    "ax.set_title('Categories scatter plot')    \n",
    "ax.legend(title='Categories')\n",
    "plt.plot()"
   ]
  },
  {
   "cell_type": "markdown",
   "metadata": {},
   "source": [
    "3\\. **Profile plot**\n",
    "\n",
    "Produce a profile plot from a scatter plot.\n",
    "* Download the following dataset and load it as a pandas dataframe:\n",
    "```bash\n",
    "wget https://www.dropbox.com/s/hgnvyj9abatk8g6/residuals_261.npy\n",
    "```\n",
    "Note that you should use the `np.load()` function to load the file as a numpy array, call the `.item()` method, and then pass it to the `pd.DataFrame()` constructor.\n",
    "* Inspect the dataset, you'll find two variables (features)\n",
    "* Clean the sample by selecting the entries (rows) with the variable \"residual\" in absolute value smaller than 2\n",
    "* perform a linear regression of \"residuals\" versus \"distances\" using `scipy.stats.linregress()` \n",
    "* plot a seaborn jointplot of  \"residuals\" versus \"distances\", having seaborn performing a linear regression. The result of the regression should be displayed on the plot\n",
    "* Fill 3 numpy arrays\n",
    "  * x, serving as an array of bin centers for the \"distance\" variable. It should range from 0 to 20 with reasonable number of steps (bins)\n",
    "  * y, the mean values of the \"residuals\", estimated in slices (bins) of \"distance\"\n",
    "  * erry, the standard deviation of the  of the \"residuals\", estimated in slices (bins) of \"distance\"\n",
    "* Plot the profile plot on top of the scatter plot"
   ]
  },
  {
   "cell_type": "code",
   "execution_count": null,
   "metadata": {},
   "outputs": [],
   "source": [
    "import pandas as pd\n",
    "import seaborn as sns\n",
    "\n",
    "filename = 'residuals_261.npy'\n",
    "f = np.load(filename, allow_pickle = True)\n",
    "df = pd.DataFrame(f.item())\n",
    "print('Original dataframe:', df.describe(), '\\n', sep='\\n')\n",
    "filtered_df = df[abs(df['residuals']) < 2]\n",
    "print('Filtered dataframe:', filtered_df.describe(), sep='\\n')\n",
    "\n",
    "linreg = stats.linregress(filtered_df['distances'], filtered_df['residuals'])\n",
    "g = sns.jointplot(x='distances', y='residuals', data=filtered_df, kind='reg', line_kws={'color':'tab:purple', 'linewidth':3, 'label':'regression'}, joint_kws={'label':'scatterplot'}, height=12)\n",
    "g.ax_joint.legend()"
   ]
  },
  {
   "cell_type": "code",
   "execution_count": null,
   "metadata": {},
   "outputs": [],
   "source": [
    "x = np.linspace(0, 21, 25)\n",
    "y = np.empty(x.size-1)\n",
    "erry = np.empty(x.size-1)\n",
    "for i in range(x.size-1):\n",
    "    y[i] = (np.mean(filtered_df.loc[filtered_df['distances']>x[i]].loc[filtered_df['distances']<x[i+1]]['residuals']))\n",
    "    erry[i] = (np.std(filtered_df.loc[filtered_df['distances']>x[i]].loc[filtered_df['distances']<x[i+1]]['residuals']))\n",
    "\n",
    "#first interpretation of exercise\n",
    "g1 = sns.JointGrid(height=12)\n",
    "sns.scatterplot(x='distances', y='residuals', data=filtered_df, s=80, alpha=0.6, ax=g1.ax_joint)\n",
    "g1.ax_marg_x.errorbar(x=x[:-1], y=y, yerr=erry, fmt='or', ecolor='tab:blue', capsize=5)\n",
    "plt.plot()\n",
    "#second interpretation of exercise\n",
    "g2 = sns.jointplot(x='distances', y='residuals', data=filtered_df, kind='reg', line_kws={'color':'tab:purple', 'linewidth':3, 'label':'regression'}, height=12, marginal_ticks=True, label='scatterplot')\n",
    "g2.ax_joint.errorbar(x=x[:-1], y=y, yerr=erry, fmt='oC1', ecolor='tab:orange', capsize=6, linewidth=3, label='Errorbars')\n",
    "g2.ax_joint.legend()\n",
    "plt.plot()"
   ]
  },
  {
   "cell_type": "code",
   "execution_count": null,
   "metadata": {},
   "outputs": [],
   "source": []
  }
 ],
 "metadata": {
  "kernelspec": {
   "display_name": "Python 3 (ipykernel)",
   "language": "python",
   "name": "python3"
  },
  "language_info": {
   "codemirror_mode": {
    "name": "ipython",
    "version": 3
   },
   "file_extension": ".py",
   "mimetype": "text/x-python",
   "name": "python",
   "nbconvert_exporter": "python",
   "pygments_lexer": "ipython3",
   "version": "3.9.7"
  }
 },
 "nbformat": 4,
 "nbformat_minor": 2
}
