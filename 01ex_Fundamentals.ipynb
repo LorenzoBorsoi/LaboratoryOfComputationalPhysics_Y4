{
 "cells": [
  {
   "cell_type": "markdown",
   "metadata": {},
   "source": [
    "1\\. Write the following as a list comprehension"
   ]
  },
  {
   "cell_type": "code",
   "execution_count": 8,
   "metadata": {},
   "outputs": [
    {
     "name": "stdout",
     "output_type": "stream",
     "text": [
      "[(0, 0), (0, 1), (0, 2), (0, 3), (1, 0), (1, 1), (1, 2), (1, 3), (2, 0), (2, 1), (2, 2), (2, 3)]\n",
      "[0, 4, 16]\n",
      "[(0, 0), (0, 1), (0, 2), (0, 3), (1, 0), (1, 1), (1, 2), (1, 3), (2, 0), (2, 1), (2, 2), (2, 3)]\n",
      "[0, 4, 16]\n"
     ]
    }
   ],
   "source": [
    "# 1\n",
    "ans = []\n",
    "for i in range(3):\n",
    "    for j in range(4):\n",
    "        ans.append((i, j))\n",
    "print (ans)\n",
    "\n",
    "ans_1 = [(i,j) for i in range(3) for j in range(4)]\n",
    "\n",
    "# 2\n",
    "ans = map(lambda x: x*x, filter(lambda x: x%2 == 0, range(5)))\n",
    "print (list(ans))\n",
    "\n",
    "ans_2 = [x*x for x in range(5) if x%2==0]\n",
    "\n",
    "print(ans_1)\n",
    "print(ans_2)"
   ]
  },
  {
   "cell_type": "markdown",
   "metadata": {},
   "source": [
    "2\\. Convert the following function into a pure function with no global variables or side effects"
   ]
  },
  {
   "cell_type": "code",
   "execution_count": 7,
   "metadata": {},
   "outputs": [
    {
     "name": "stdout",
     "output_type": "stream",
     "text": [
      "[1, 2, 3, 0, 1, 2, 3, 4]\n",
      "[1, 2, 3, 0, 1, 2, 3, 4]\n",
      "\n",
      "[1, 2, 3, 0, 1, 2, 3, 4]\n",
      "[1, 2, 3]\n"
     ]
    }
   ],
   "source": [
    "x = 5\n",
    "def f(alist):\n",
    "    for i in range(x):\n",
    "         alist.append(i)\n",
    "    return alist\n",
    "\n",
    "alist = [1,2,3]\n",
    "ans = f(alist)\n",
    "print(ans)\n",
    "print(alist) # alist has been changed!\n",
    "\n",
    "def f_new(alist):\n",
    "    res = alist.copy()\n",
    "    for i in range(5):\n",
    "         res.append(i)\n",
    "    return res\n",
    "\n",
    "print()\n",
    "alist = [1,2,3]\n",
    "ans = f_new(alist)\n",
    "print(ans)\n",
    "print(alist) # alist hasn't been changed!"
   ]
  },
  {
   "cell_type": "markdown",
   "metadata": {},
   "source": [
    "3\\. Write a `decorator` hello that makes every wrapped function print “Hello!”, i.e. something like:\n",
    "\n",
    "```python\n",
    "@hello\n",
    "def square(x):\n",
    "    return x*x\n",
    "```\n",
    "\n"
   ]
  },
  {
   "cell_type": "code",
   "execution_count": 6,
   "metadata": {},
   "outputs": [
    {
     "name": "stdout",
     "output_type": "stream",
     "text": [
      "Hello!\n",
      "25\n"
     ]
    }
   ],
   "source": [
    "def hello(func):\n",
    "    def wrapper(*args, **kwargs):\n",
    "        print(\"Hello!\")\n",
    "        return func(*args, **kwargs)\n",
    "    return wrapper\n",
    "\n",
    "@hello\n",
    "def square(x):\n",
    "    return x*x\n",
    "\n",
    "print(square(5))"
   ]
  },
  {
   "cell_type": "markdown",
   "metadata": {},
   "source": [
    "4\\. Write the factorial function so that it a) does and b) does not use recursion."
   ]
  },
  {
   "cell_type": "code",
   "execution_count": 48,
   "metadata": {},
   "outputs": [
    {
     "name": "stdout",
     "output_type": "stream",
     "text": [
      "24\n",
      "24\n"
     ]
    }
   ],
   "source": [
    "#a\n",
    "def fac_a(n):\n",
    "    res = 1\n",
    "    if n>=0:\n",
    "        for i in range(2,n+1):\n",
    "            res *= i\n",
    "        return res\n",
    "    else: return \"Error\" \n",
    "    return res\n",
    "#b\n",
    "def fac_b(n):\n",
    "    if n==0 or n==1: return 1\n",
    "    elif n<0: return \"Error\"\n",
    "    else: return n*fac_b(n-1)\n",
    "\n",
    "print(fac_a(4))\n",
    "print(fac_b(4))"
   ]
  },
  {
   "cell_type": "markdown",
   "metadata": {},
   "source": [
    "5\\. Use HOFs (zip in particular) to compute the weight of a circle, a disk and a sphere, assuming different radii and different densities:\n",
    "\n",
    "```python\n",
    "densities = {\"Al\":[0.5,1,2],\"Fe\":[3,4,5],\"Pb\": [15,20,30]}\n",
    "radii = [1,2,3]\n",
    "```\n",
    "\n",
    "where the entries of the dictionary's values are the linear, superficial and volumetric densities of the materials respectively.\n",
    "\n",
    "In particular define a list of three lambda functions using a comprehension that computes the circumference, the area and the volume for a given radius.\n"
   ]
  },
  {
   "cell_type": "code",
   "execution_count": 14,
   "metadata": {},
   "outputs": [
    {
     "name": "stdout",
     "output_type": "stream",
     "text": [
      "Element: Al Density: 0.5 Weight: 3.141592653589793\n",
      "Element: Al Density: 0.5 Weight: 6.283185307179586\n",
      "Element: Al Density: 0.5 Weight: 9.42477796076938\n",
      "Element: Al Density: 1 Weight: 3.141592653589793\n",
      "Element: Al Density: 1 Weight: 12.566370614359172\n",
      "Element: Al Density: 1 Weight: 28.274333882308138\n",
      "Element: Al Density: 2 Weight: 8.377580409572781\n",
      "Element: Al Density: 2 Weight: 67.02064327658225\n",
      "Element: Al Density: 2 Weight: 226.1946710584651\n",
      "Element: Fe Density: 3 Weight: 18.84955592153876\n",
      "Element: Fe Density: 3 Weight: 37.69911184307752\n",
      "Element: Fe Density: 3 Weight: 56.548667764616276\n",
      "Element: Fe Density: 4 Weight: 12.566370614359172\n",
      "Element: Fe Density: 4 Weight: 50.26548245743669\n",
      "Element: Fe Density: 4 Weight: 113.09733552923255\n",
      "Element: Fe Density: 5 Weight: 20.94395102393195\n",
      "Element: Fe Density: 5 Weight: 167.5516081914556\n",
      "Element: Fe Density: 5 Weight: 565.4866776461628\n",
      "Element: Pb Density: 15 Weight: 94.24777960769379\n",
      "Element: Pb Density: 15 Weight: 188.49555921538757\n",
      "Element: Pb Density: 15 Weight: 282.7433388230814\n",
      "Element: Pb Density: 20 Weight: 62.83185307179586\n",
      "Element: Pb Density: 20 Weight: 251.32741228718345\n",
      "Element: Pb Density: 20 Weight: 565.4866776461628\n",
      "Element: Pb Density: 30 Weight: 125.66370614359171\n",
      "Element: Pb Density: 30 Weight: 1005.3096491487337\n",
      "Element: Pb Density: 30 Weight: 3392.9200658769764\n"
     ]
    }
   ],
   "source": [
    "import math as m\n",
    "densities = {\"Al\":[0.5,1,2],\"Fe\":[3,4,5],\"Pb\": [15,20,30]}\n",
    "radii = [1,2,3]\n",
    "func = [ lambda rad : [2*m.pi*r for r in rad ], lambda rad : [m.pi*r*r for r in rad] , lambda rad : [4/3*m.pi*r*r*r for r in rad] ]\n",
    "for i in densities: \n",
    "    for f,d in zip(func,densities[i]):\n",
    "        for a in f(radii):\n",
    "            w = d*a\n",
    "            print(\"Element:\",i,\"Density:\",d,\"Weight:\",w)"
   ]
  },
  {
   "cell_type": "markdown",
   "metadata": {},
   "source": [
    "6\\. Edit the class defintion to add an instance attribute of is_hungry = True to the Dog class. Then add a method called eat() which changes the value of is_hungry to False when called. Figure out the best way to feed each dog and then output “My dogs are hungry.” if all are hungry or “My dogs are not hungry.” if all are not hungry. The final output should look like this:\n",
    "\n",
    "`I have 3 dogs. \n",
    "Tom is 6. \n",
    "Fletcher is 7. \n",
    "Larry is 9. \n",
    "And they're all mammals, of course. \n",
    "My dogs are not hungry.\n",
    "`\n",
    "\n",
    "```python\n",
    "# Parent class\n",
    "class Dog:\n",
    "\n",
    "    # Class attribute\n",
    "    species = 'mammal'\n",
    "\n",
    "    # Initializer / Instance attributes\n",
    "    def __init__(self, name, age):\n",
    "        self.name = name\n",
    "        self.age = age\n",
    "\n",
    "    # instance method\n",
    "    def description(self):\n",
    "        return \"{} is {} years old\".format(self.name, self.age)\n",
    "\n",
    "    # instance method\n",
    "    def speak(self, sound):\n",
    "        return \"{} says {}\".format(self.name, sound)\n",
    "\n",
    "# Child class (inherits from Dog class)\n",
    "class RussellTerrier(Dog):\n",
    "    def run(self, speed):\n",
    "        return \"{} runs {}\".format(self.name, speed)\n",
    "\n",
    "# Child class (inherits from Dog class)\n",
    "class Bulldog(Dog):\n",
    "    def run(self, speed):\n",
    "        return \"{} runs {}\".format(self.name, speed)\n",
    "```"
   ]
  },
  {
   "cell_type": "code",
   "execution_count": 6,
   "metadata": {},
   "outputs": [],
   "source": [
    "class Dog:\n",
    "\n",
    "    # Class attribute\n",
    "    species = 'mammal'\n",
    "\n",
    "    # Initializer / Instance attributes\n",
    "    def __init__(self, name, age, is_hungry=True):\n",
    "        self.name = name\n",
    "        self.is_hungry = is_hungry\n",
    "        self.age = age\n",
    "\n",
    "    #eat func\n",
    "    def eat(self):\n",
    "        self.is_hungry = False\n",
    "    \n",
    "    # instance method\n",
    "    def description(self):\n",
    "        return \"{} is {} years old\".format(self.name, self.age)\n",
    "\n",
    "    # instance method\n",
    "    def speak(self, sound):\n",
    "        return \"{} says {}\".format(self.name, sound)\n",
    "\n",
    "# Child class (inherits from Dog class)\n",
    "class RussellTerrier(Dog):\n",
    "    def run(self, speed):\n",
    "        return \"{} runs {}\".format(self.name, speed)\n",
    "\n",
    "# Child class (inherits from Dog class)\n",
    "class Bulldog(Dog):\n",
    "    def run(self, speed):\n",
    "        return \"{} runs {}\".format(self.name, speed)"
   ]
  },
  {
   "cell_type": "code",
   "execution_count": 7,
   "metadata": {},
   "outputs": [
    {
     "name": "stdout",
     "output_type": "stream",
     "text": [
      "I have 3 dogs\n",
      "Tom is 6 years old\n",
      "Fletcher is 7 years old\n",
      "Larry is 9 years old\n",
      "And they're all mammals, of course.\n",
      "My dogs are hungry.\n"
     ]
    }
   ],
   "source": [
    "tom = Dog(\"Tom\",6)\n",
    "fletcher = Dog(\"Fletcher\",7)\n",
    "Larry = Dog(\"Larry\",9)\n",
    "doggos = [tom, fletcher, Larry]\n",
    "#not sure how the output should be generated as it is not in a class\n",
    "# Hence I will write this function\n",
    "def dog_lover(doggos):\n",
    "    n = len(doggos)\n",
    "    # make nicer output in case of only one dog\n",
    "    r1 = \"I have {} dogs\".format(n) if n > 1 else \"I have {} dogs\".format(n)\n",
    "    print(r1)\n",
    "    # print each dogs age and name\n",
    "    for i in doggos:\n",
    "        print(i.description())\n",
    "    # check if all are mammals\n",
    "    if any(x.species == \"mammal\" for x in doggos):\n",
    "        if n>1:\n",
    "            print(\"And they're all mammals, of course.\")\n",
    "        else:\n",
    "            print(\"And it is a mammals, of course.\")\n",
    "    # say whether dogs are hungry or not\n",
    "    if any(x.is_hungry == True for x in doggos):\n",
    "        if n>1:\n",
    "            print(\"My dogs are hungry.\")\n",
    "        else:\n",
    "            print(\"My dog is hungry\")\n",
    "    else:\n",
    "        if n>1:\n",
    "            print(\"My dogs are not hungry.\")\n",
    "        else:\n",
    "            print(\"My dog is not hungry\")\n",
    "        \n",
    "\n",
    "dog_lover(doggos)\n",
    "# easiest way of feeding dogs would be checking which are hungry\n",
    "# and feeding those something like\n",
    "# [x.eat() for x in doggos]"
   ]
  },
  {
   "cell_type": "code",
   "execution_count": null,
   "metadata": {},
   "outputs": [],
   "source": []
  }
 ],
 "metadata": {
  "kernelspec": {
   "display_name": "Python 3 (ipykernel)",
   "language": "python",
   "name": "python3"
  },
  "language_info": {
   "codemirror_mode": {
    "name": "ipython",
    "version": 3
   },
   "file_extension": ".py",
   "mimetype": "text/x-python",
   "name": "python",
   "nbconvert_exporter": "python",
   "pygments_lexer": "ipython3",
   "version": "3.8.8"
  }
 },
 "nbformat": 4,
 "nbformat_minor": 2
}
