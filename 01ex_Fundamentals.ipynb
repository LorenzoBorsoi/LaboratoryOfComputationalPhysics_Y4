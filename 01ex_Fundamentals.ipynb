{
 "cells": [
  {
   "cell_type": "markdown",
   "metadata": {},
   "source": [
    "1\\. Write the following as a list comprehension"
   ]
  },
  {
   "cell_type": "code",
   "execution_count": 38,
   "metadata": {},
   "outputs": [
    {
     "name": "stdout",
     "output_type": "stream",
     "text": [
      "[(0, 0), (0, 1), (0, 2), (0, 3), (1, 0), (1, 1), (1, 2), (1, 3), (2, 0), (2, 1), (2, 2), (2, 3)]\n",
      "[0, 4, 16]\n"
     ]
    }
   ],

   "source": [
    "# 1\n",
    "ans = []\n",
    "for i in range(3):\n",
    "    for j in range(4):\n",
    "        ans.append((i, j))\n",
    "print (ans)\n",
    "\n",
    "# 2\n",
    "ans = map(lambda x: x*x, filter(lambda x: x%2 == 0, range(5)))\n",

    "print (list(ans))\n"
   ]
  },
  {
   "cell_type": "code",
   "execution_count": 37,
   "metadata": {},
   "outputs": [
    {
     "name": "stdout",
     "output_type": "stream",
     "text": [
      "[(0, 0), (0, 1), (0, 2), (0, 3), (1, 0), (1, 1), (1, 2), (1, 3), (2, 0), (2, 1), (2, 2), (2, 3)]\n",
      "[0, 4, 16]\n"
     ]
    }
   ],
   "source": [
    "# 1\n",
    "ans = [(i, j) for i in range(3) for j in range(4)]\n",
    "print (ans)\n",
    "\n",
    "# 2\n",
    "ans = [x*x for x in range(5) if x%2==0]\n",
    "print (ans)"

   ]
  },
  {
   "cell_type": "markdown",
   "metadata": {},
   "source": [
    "2\\. Convert the following function into a pure function with no global variables or side effects"
   ]
  },
  {
   "cell_type": "code",

   "execution_count": 1,
   "metadata": {},
   "outputs": [
    {
     "name": "stdout",
     "output_type": "stream",
     "text": [
      "[1, 2, 3, 0, 1, 2, 3, 4]\n",
      "[1, 2, 3, 0, 1, 2, 3, 4]\n"
     ]
    }
   ],


   "source": [
    "x = 5\n",
    "def f(alist):\n",
    "    for i in range(x):\n",
    "         alist.append(i)\n",
    "    return alist\n",
    "\n",
    "alist = [1,2,3]\n",
    "ans = f(alist)\n",
    "print (ans)\n",
    "print (alist) # alist has been changed!"
   ]
  },
  {
   "cell_type": "code",
   "execution_count": 2,
   "metadata": {},
   "outputs": [
    {
     "name": "stdout",
     "output_type": "stream",
     "text": [
      "[1, 2, 3, 0, 1, 2, 3, 4]\n",
      "[1, 2, 3]\n"
     ]
    }
   ],
   "source": [
    "x = 5\n",
    "def f_pure(a):\n",
    "    b=[i for i in range(x)]\n",
    "    return a + b\n",
    "\n",
    "alist = [1,2,3]\n",
    "ans = f_pure(alist)\n",
    "print (ans)\n",
    "print (alist)"
   ]
  },
  {

   "cell_type": "markdown",
   "metadata": {},
   "source": [
    "3\\. Write a `decorator` hello that makes every wrapped function print “Hello!”, i.e. something like:\n",
    "\n",
    "```python\n",
    "@hello\n",
    "def square(x):\n",
    "    return x*x\n",
    "```\n",
    "\n"
   ]
  },
  {
   "cell_type": "code",
   "execution_count": 48,
   "metadata": {},
   "outputs": [
    {
     "name": "stdout",
     "output_type": "stream",
     "text": [
      "Hello!\n",
      "25\n"
     ]
    }
   ],
   "source": [
    "x=5\n",
    "\n",
    "def hello(func):\n",
    "    def wrapper(*args, **kwargs):\n",
    "        print(\"Hello!\")\n",
    "        return func(*args, **kwargs)\n",
    "    return wrapper\n",
    "\n",
    "@hello\n",
    "def square(x):\n",
    "    return x*x\n",
    "\n",
    "print(square(5))\n"
   ]
  },
  {
   "cell_type": "markdown",
   "metadata": {},
   "source": [
    "4. Write the factorial function so that it a) does and b) does not use recursion."
   ]
  },
  {
   "cell_type": "code",
   "execution_count": 4,
   "metadata": {},
   "outputs": [
    {
     "name": "stdout",
     "output_type": "stream",
     "text": [
      "5040\n"
     ]
    }
   ],
   "source": [
    "# a)\n",
    "x=7\n",
    "\n",
    "def fact_1(x):\n",
    "    n=int(x)\n",
    "    if n==0:\n",
    "        return 1\n",
    "    else:\n",
    "        return n*fact_1(n-1)\n",
    "    \n",
    "\n",
    "print(fact_1(x))\n"
   ]
  },
  {
   "cell_type": "code",
   "execution_count": 6,
   "metadata": {},
   "outputs": [
    {
     "name": "stdout",
     "output_type": "stream",
     "text": [
      "5040\n"
     ]
    }
   ],
   "source": [
    "# b)\n",
    "def fact(x):\n",
    "    n=int(x)\n",
    "    f=1\n",
    "    if n==0:\n",
    "        return 1\n",
    "    else:\n",
    "        for i in range (1, n+1):\n",
    "            f=f*i\n",
    "        return f\n",
    "\n",
    "print(fact(7))"

   ]
  },
  {
   "cell_type": "markdown",
   "metadata": {},
   "source": [
    "5\\. Use HOFs (zip in particular) to compute the weight of a circle, a disk and a sphere, assuming different radii and different densities:\n",
    "\n",
    "```python\n",
    "densities = {\"Al\":[0.5,1,2],\"Fe\":[3,4,5],\"Pb\": [15,20,30]}\n",
    "radii = [1,2,3]\n",
    "```\n",
    "\n",
    "where the entries of the dictionary's values are the linear, superficial and volumetric densities of the materials respectively.\n",
    "\n",
    "In particular define a list of three lambda functions using a comprehension that computes the circumference, the area and the volume for a given radius.\n"
   ]
  },
  {
   "cell_type": "code",
   "execution_count": 154,
   "metadata": {},
   "outputs": [
    {
     "name": "stdout",
     "output_type": "stream",
     "text": [
      "Al :\n",
      "  circle :\n",
      "   Radius equal to 1 : 3.141592653589793\n",
      "   Radius equal to 2 : 6.283185307179586\n",
      "   Radius equal to 3 : 9.42477796076938\n",
      "  disk :\n",
      "   Radius equal to 1 : 12.566370614359172\n",
      "   Radius equal to 2 : 50.26548245743669\n",
      "   Radius equal to 3 : 113.09733552923255\n",
      "  sphere :\n",
      "   Radius equal to 1 : 8.377580409572781\n",
      "   Radius equal to 2 : 67.02064327658225\n",
      "   Radius equal to 3 : 226.19467105846508\n",
      "Fe :\n",
      "  circle :\n",
      "   Radius equal to 1 : 18.84955592153876\n",
      "   Radius equal to 2 : 37.69911184307752\n",
      "   Radius equal to 3 : 56.548667764616276\n",
      "  disk :\n",
      "   Radius equal to 1 : 50.26548245743669\n",
      "   Radius equal to 2 : 201.06192982974676\n",
      "   Radius equal to 3 : 452.3893421169302\n",
      "  sphere :\n",
      "   Radius equal to 1 : 20.94395102393195\n",
      "   Radius equal to 2 : 167.5516081914556\n",
      "   Radius equal to 3 : 565.4866776461627\n",
      "Pb :\n",
      "  circle :\n",
      "   Radius equal to 1 : 94.24777960769379\n",
      "   Radius equal to 2 : 188.49555921538757\n",
      "   Radius equal to 3 : 282.7433388230814\n",
      "  disk :\n",
      "   Radius equal to 1 : 251.32741228718345\n",
      "   Radius equal to 2 : 1005.3096491487338\n",
      "   Radius equal to 3 : 2261.946710584651\n",
      "  sphere :\n",
      "   Radius equal to 1 : 125.66370614359171\n",
      "   Radius equal to 2 : 1005.3096491487337\n",
      "   Radius equal to 3 : 3392.920065876976\n"
     ]
    }
   ],
   "source": [
    "import math\n",
    "import numpy as np\n",
    "\n",
    "densities = {\"Al\":[0.5,1,2],\"Fe\":[3,4,5],\"Pb\": [15,20,30]}\n",
    "radii = [1,2,3]\n",
    "\n",
    "circle = lambda r : 2*math.pi*r\n",
    "disk   = lambda r : 4*math.pi*r**2\n",
    "sphere = lambda r : (4/3)*math.pi*r**3\n",
    "f     = [ circle, disk, sphere ]\n",
    "names = [\"circle\", \"disk\", \"sphere\"]\n",
    "for j in densities.keys():\n",
    "    print(j , \":\")\n",
    "    for t in  range (3):\n",
    "        print(\" \",names[t], \":\")\n",
    "        for k in radii:\n",
    "            print(\"   Radius equal to\", k, \":\", densities[j][t]*f[t](k))\n"
   ]
  },
  {

   "cell_type": "markdown",
   "metadata": {},
   "source": [
    "6\\. Edit the class defintion to add an instance attribute of is_hungry = True to the Dog class. Then add a method called eat() which changes the value of is_hungry to False when called. Figure out the best way to feed each dog and then output “My dogs are hungry.” if all are hungry or “My dogs are not hungry.” if all are not hungry. The final output should look like this:\n",
    "\n",
    "`I have 3 dogs. \n",
    "Tom is 6. \n",
    "Fletcher is 7. \n",
    "Larry is 9. \n",
    "And they're all mammals, of course. \n",
    "My dogs are not hungry.\n",
    "`\n",
    "\n",
    "```python\n",
    "# Parent class\n",
    "class Dog:\n",
    "\n",
    "    # Class attribute\n",
    "    species = 'mammal'\n",
    "\n",
    "    # Initializer / Instance attributes\n",
    "    def __init__(self, name, age):\n",
    "        self.name = name\n",
    "        self.age = age\n",
    "\n",
    "    # instance method\n",
    "    def description(self):\n",
    "        return \"{} is {} years old\".format(self.name, self.age)\n",
    "\n",
    "    # instance method\n",
    "    def speak(self, sound):\n",
    "        return \"{} says {}\".format(self.name, sound)\n",
    "\n",
    "# Child class (inherits from Dog class)\n",
    "class RussellTerrier(Dog):\n",
    "    def run(self, speed):\n",
    "        return \"{} runs {}\".format(self.name, speed)\n",
    "\n",
    "# Child class (inherits from Dog class)\n",
    "class Bulldog(Dog):\n",
    "    def run(self, speed):\n",
    "        return \"{} runs {}\".format(self.name, speed)\n",
    "```"
   ]
  },
  {
   "cell_type": "code",
   "execution_count": 55,
   "metadata": {},
   "outputs": [
    {
     "name": "stdout",
     "output_type": "stream",
     "text": [
      "I have 3 dogs.\n",
      "Tom is 6 years old\n",
      "Tom is not hungry\n",
      "Fletcher is 7 years old\n",
      "Fletcher is not hungry\n",
      "Larry is 9 years old\n",
      "Larry is not hungry\n",
      "And they're all  mammal , of course.\n"
     ]
    }
   ],
   "source": [
    "# Figure out the best way to feed each dog and \n",
    "#then output “My dogs are hungry.” if all are hungry or \n",
    "#“My dogs are not hungry.” if all are not hungry. T\n",
    "#he final output should look like this:\n",
    "\n",
    "# Parent class\n",
    "class Dog:\n",
    "\n",
    "    # Class attributes\n",
    "    species = 'mammal'\n",
    "    \n",
    "    # Initializer / Instance attributes\n",
    "    def __init__( self, name, age, is_hungry ):\n",
    "        self.name = name\n",
    "        self.age = age\n",
    "        self.is_hungry = True \n",
    "        \n",
    "    # instance method\n",
    "    def description(self):\n",
    "        return \"{} is {} years old\".format(self.name, self.age)\n",
    "\n",
    "    # instance method\n",
    "    def speak(self, sound):\n",
    "        return \"{} says {}\".format(self.name, sound)\n",
    "    def eat(self):\n",
    "        self.is_hungry = False\n",
    "        state = ''\n",
    "        if(self.is_hungry == False):\n",
    "            state = 'not hungry'\n",
    "        else:\n",
    "            state = 'hungry'\n",
    "        return \"{} is {}\".format(self.name, state)\n",
    "    \n",
    "# Child class (inherits from Dog class)\n",
    "class RussellTerrier(Dog):\n",
    "    def run(self, speed):\n",
    "        return \"{} runs {}\".format(self.name, speed)\n",
    "\n",
    "# Child class (inherits from Dog class)\n",
    "class Bulldog(Dog):\n",
    "    def run(self, speed):\n",
    "        return \"{} runs {}\".format(self.name, speed)\n",
    "\n",
    "# Output\n",
    "print(\"I have 3 dogs.\")\n",
    "Tom = Dog(\"Tom\", 6, True)\n",
    "print(Tom.description())\n",
    "#print(Tom.is_hungry)\n",
    "print(Tom.eat())\n",
    "Fletcher = Dog(\"Fletcher\", 7, True )\n",
    "print(Fletcher.description())\n",
    "print(Fletcher.eat())\n",
    "Larry = Dog(\"Larry\", 9, True )\n",
    "print(Larry.description())\n",
    "print(Larry.eat())\n",
    "print(\"And they're all \", Dog.species,\", of course.\")"
   ]
  }
 ],
 "metadata": {
  "kernelspec": {
   "display_name": "Python 3",
   "language": "python",
   "name": "python3"
  },
  "language_info": {
   "codemirror_mode": {
    "name": "ipython",
    "version": 3
   },
   "file_extension": ".py",
   "mimetype": "text/x-python",
   "name": "python",
   "nbconvert_exporter": "python",
   "pygments_lexer": "ipython3",
   "version": "3.8.8"
  }
 },
 "nbformat": 4,
 "nbformat_minor": 2
}
