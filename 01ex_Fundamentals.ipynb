{
 "cells": [
  {
   "cell_type": "markdown",
   "metadata": {},
   "source": [
    "1\\. Write the following as a list comprehension"
   ]
  },
  {
   "cell_type": "code",
   "execution_count": 1,
   "metadata": {},
   "outputs": [
    {
     "name": "stdout",
     "output_type": "stream",
     "text": [
      "#1 with no list comprehension: [(0, 0), (0, 1), (0, 2), (0, 3), (1, 0), (1, 1), (1, 2), (1, 3), (2, 0), (2, 1), (2, 2), (2, 3)]\n",
      "#1 with list comprehension: [(0, 0), (0, 1), (0, 2), (0, 3), (1, 0), (1, 1), (1, 2), (1, 3), (2, 0), (2, 1), (2, 2), (2, 3)]\n",
      "#2 with no list comprehension: [0, 4, 16]\n",
      "#2 with list comprehension: [0, 4, 16]\n"
     ]
    }
   ],
   "source": [
    "# 1\n",
    "ans = []\n",
    "for i in range(3):\n",
    "    for j in range(4):\n",
    "        ans.append((i, j))\n",
    "print (\"#1 with no list comprehension: {}\".format(ans))\n",
    "\n",
    "ans1=[(i,j) for i in range(3) for j in range(4)] #NB si possono mettere due for nella list comprehension\n",
    "print (\"#1 with list comprehension: {}\".format(ans1))\n",
    "\n",
    "# 2\n",
    "ans = map(lambda x: x*x, filter(lambda x: x%2 == 0, range(5)))\n",
    "print (\"#2 with no list comprehension: {}\".format(list(ans)))\n",
    "\n",
    "ans2=[x*x for x in filter(lambda x: x%2 == 0, range(5))]\n",
    "print (\"#2 with list comprehension: {}\".format(ans2))\n",
    "\n"
   ]
  },
  {
   "cell_type": "markdown",
   "metadata": {},
   "source": [
    "2\\. Convert the following function into a pure function with no global variables or side effects"
   ]
  },
  {
   "cell_type": "code",
   "execution_count": 2,
   "metadata": {},
   "outputs": [
    {
     "name": "stdout",
     "output_type": "stream",
     "text": [
      "[0, 1, 2, 3, 4, 5, 6]\n",
      "[1, 2, 3, 0, 1, 2, 3, 4, 5, 6]\n",
      "[1, 2, 3]\n"
     ]
    }
   ],
   "source": [
    "x = 7\n",
    "\"\"\"\n",
    "def f(alist):\n",
    "    for i in range(x):\n",
    "         alist.append(i)\n",
    "    return alist\n",
    "\n",
    "alist = [1,2,3]\n",
    "ans = f(alist)\n",
    "print (ans)\n",
    "print (alist) # alist has been changed!\n",
    "\"\"\"\n",
    "\n",
    "def f1(l = None):\n",
    "    if l is None:\n",
    "        l = []\n",
    "    f1l=l.copy() #aggiungere if None\n",
    "    for i in range(x):\n",
    "        f1l.append(i)\n",
    "    return f1l\n",
    "\n",
    "alist=[1,2,3]\n",
    "ans=f1(alist)\n",
    "ans0=f1()\n",
    "print(ans0)\n",
    "print (ans)\n",
    "print (alist)"
   ]
  },
  {
   "cell_type": "markdown",
   "metadata": {},
   "source": [
    "3\\. Write a `decorator` hello that makes every wrapped function print “Hello!”, i.e. something like:\n",
    "\n",
    "```python\n",
    "@hello\n",
    "def square(x):\n",
    "    return x*x\n",
    "```\n",
    "\n"
   ]
  },
  {
   "cell_type": "code",
   "execution_count": 3,
   "metadata": {},
   "outputs": [
    {
     "name": "stdout",
     "output_type": "stream",
     "text": [
      "Hello!\n",
      "4\n"
     ]
    }
   ],
   "source": [
    "def hello(func):\n",
    "    def wrapper (x):   #è stato necessario inserire un argomento x per applicarlo alla funszione square(x)\n",
    "        print(\"Hello!\")\n",
    "        print(func(x))\n",
    "    return wrapper\n",
    "    \n",
    "@hello\n",
    "def square(x):\n",
    "    return x*x\n",
    "\n",
    "square(2)\n",
    "\n"
   ]
  },
  {
   "cell_type": "markdown",
   "metadata": {},
   "source": [
    "4\\. Write the factorial function so that it a) does and b) does not use recursion."
   ]
  },
  {
   "cell_type": "code",
   "execution_count": 4,
   "metadata": {},
   "outputs": [
    {
     "ename": "KeyboardInterrupt",
     "evalue": "Interrupted by user",
     "output_type": "error",
     "traceback": [
      "\u001b[0;31m---------------------------------------------------------------------------\u001b[0m",
      "\u001b[0;31mKeyboardInterrupt\u001b[0m                         Traceback (most recent call last)",
      "\u001b[0;32m<ipython-input-4-4c3ebf4cea49>\u001b[0m in \u001b[0;36m<module>\u001b[0;34m\u001b[0m\n\u001b[0;32m----> 1\u001b[0;31m \u001b[0mn\u001b[0m\u001b[0;34m=\u001b[0m\u001b[0mint\u001b[0m\u001b[0;34m(\u001b[0m\u001b[0minput\u001b[0m\u001b[0;34m(\u001b[0m\u001b[0;34m\"Inserisci n: \"\u001b[0m\u001b[0;34m)\u001b[0m\u001b[0;34m)\u001b[0m\u001b[0;34m\u001b[0m\u001b[0;34m\u001b[0m\u001b[0m\n\u001b[0m\u001b[1;32m      2\u001b[0m \u001b[0;34m\u001b[0m\u001b[0m\n\u001b[1;32m      3\u001b[0m \u001b[0;32mdef\u001b[0m \u001b[0mfacta\u001b[0m\u001b[0;34m(\u001b[0m\u001b[0mn\u001b[0m\u001b[0;34m)\u001b[0m\u001b[0;34m:\u001b[0m\u001b[0;34m\u001b[0m\u001b[0;34m\u001b[0m\u001b[0m\n\u001b[1;32m      4\u001b[0m     \u001b[0;32mif\u001b[0m \u001b[0mn\u001b[0m\u001b[0;34m==\u001b[0m\u001b[0;36m0\u001b[0m \u001b[0;32mor\u001b[0m \u001b[0mn\u001b[0m\u001b[0;34m==\u001b[0m\u001b[0;36m1\u001b[0m\u001b[0;34m:\u001b[0m\u001b[0;34m\u001b[0m\u001b[0;34m\u001b[0m\u001b[0m\n\u001b[1;32m      5\u001b[0m         \u001b[0;32mreturn\u001b[0m \u001b[0;36m1\u001b[0m\u001b[0;34m\u001b[0m\u001b[0;34m\u001b[0m\u001b[0m\n",
      "\u001b[0;32m~/anaconda3/lib/python3.8/site-packages/ipykernel/kernelbase.py\u001b[0m in \u001b[0;36mraw_input\u001b[0;34m(self, prompt)\u001b[0m\n\u001b[1;32m    858\u001b[0m                 \u001b[0;34m\"raw_input was called, but this frontend does not support input requests.\"\u001b[0m\u001b[0;34m\u001b[0m\u001b[0;34m\u001b[0m\u001b[0m\n\u001b[1;32m    859\u001b[0m             )\n\u001b[0;32m--> 860\u001b[0;31m         return self._input_request(str(prompt),\n\u001b[0m\u001b[1;32m    861\u001b[0m             \u001b[0mself\u001b[0m\u001b[0;34m.\u001b[0m\u001b[0m_parent_ident\u001b[0m\u001b[0;34m,\u001b[0m\u001b[0;34m\u001b[0m\u001b[0;34m\u001b[0m\u001b[0m\n\u001b[1;32m    862\u001b[0m             \u001b[0mself\u001b[0m\u001b[0;34m.\u001b[0m\u001b[0m_parent_header\u001b[0m\u001b[0;34m,\u001b[0m\u001b[0;34m\u001b[0m\u001b[0;34m\u001b[0m\u001b[0m\n",
      "\u001b[0;32m~/anaconda3/lib/python3.8/site-packages/ipykernel/kernelbase.py\u001b[0m in \u001b[0;36m_input_request\u001b[0;34m(self, prompt, ident, parent, password)\u001b[0m\n\u001b[1;32m    902\u001b[0m             \u001b[0;32mexcept\u001b[0m \u001b[0mKeyboardInterrupt\u001b[0m\u001b[0;34m:\u001b[0m\u001b[0;34m\u001b[0m\u001b[0;34m\u001b[0m\u001b[0m\n\u001b[1;32m    903\u001b[0m                 \u001b[0;31m# re-raise KeyboardInterrupt, to truncate traceback\u001b[0m\u001b[0;34m\u001b[0m\u001b[0;34m\u001b[0m\u001b[0;34m\u001b[0m\u001b[0m\n\u001b[0;32m--> 904\u001b[0;31m                 \u001b[0;32mraise\u001b[0m \u001b[0mKeyboardInterrupt\u001b[0m\u001b[0;34m(\u001b[0m\u001b[0;34m\"Interrupted by user\"\u001b[0m\u001b[0;34m)\u001b[0m \u001b[0;32mfrom\u001b[0m \u001b[0;32mNone\u001b[0m\u001b[0;34m\u001b[0m\u001b[0;34m\u001b[0m\u001b[0m\n\u001b[0m\u001b[1;32m    905\u001b[0m             \u001b[0;32mexcept\u001b[0m \u001b[0mException\u001b[0m \u001b[0;32mas\u001b[0m \u001b[0me\u001b[0m\u001b[0;34m:\u001b[0m\u001b[0;34m\u001b[0m\u001b[0;34m\u001b[0m\u001b[0m\n\u001b[1;32m    906\u001b[0m                 \u001b[0mself\u001b[0m\u001b[0;34m.\u001b[0m\u001b[0mlog\u001b[0m\u001b[0;34m.\u001b[0m\u001b[0mwarning\u001b[0m\u001b[0;34m(\u001b[0m\u001b[0;34m\"Invalid Message:\"\u001b[0m\u001b[0;34m,\u001b[0m \u001b[0mexc_info\u001b[0m\u001b[0;34m=\u001b[0m\u001b[0;32mTrue\u001b[0m\u001b[0;34m)\u001b[0m\u001b[0;34m\u001b[0m\u001b[0;34m\u001b[0m\u001b[0m\n",
      "\u001b[0;31mKeyboardInterrupt\u001b[0m: Interrupted by user"
     ]
    }
   ],
   "source": [
    "n=int(input(\"Inserisci n: \"))\n",
    "\n",
    "def facta(n):\n",
    "    if n==0 or n==1:\n",
    "        return 1\n",
    "    else:\n",
    "        return n*facta(n-1)\n",
    "        \n",
    "print([facta(i) for i in range(n+1)])\n",
    "\n",
    "def factb(n):\n",
    "    x=1\n",
    "    for i in range(2,n+1):\n",
    "        x*=i\n",
    "    print(x)\n",
    "\n",
    "factb(n)"
   ]
  },
  {
   "cell_type": "markdown",
   "metadata": {},
   "source": [
    "5\\. Use HOFs (zip in particular) to compute the weight of a circle, a disk and a sphere, assuming different radii and different densities:\n",
    "\n",
    "```python\n",
    "densities = {\"Al\":[0.5,1,2],\"Fe\":[3,4,5],\"Pb\": [15,20,30]}\n",
    "radii = [1,2,3]\n",
    "```\n",
    "\n",
    "where the entries of the dictionary's values are the linear, superficial and volumetric densities of the materials respectively.\n",
    "\n",
    "In particular define a list of three lambda functions using a comprehension that computes the circumference, the area and the volume for a given radius.\n"
   ]
  },
  {
   "cell_type": "code",
   "execution_count": 39,
   "metadata": {},
   "outputs": [
    {
     "name": "stdout",
     "output_type": "stream",
     "text": [
      "4.1887902047863905\n",
      "Weight of a circle of radii=1:\n",
      " Al-> 2.0943951023931953\n",
      " Fe-> 12.566370614359172\n",
      " Pb-> 62.831853071795855\n",
      "Weight of a circle of radii=2:\n",
      " Al-> 16.755160819145562\n",
      " Fe-> 100.53096491487338\n",
      " Pb-> 502.65482457436684\n",
      "Weight of a circle of radii=3:\n",
      " Al-> 56.54866776461627\n",
      " Fe-> 339.29200658769764\n",
      " Pb-> 1696.460032938488\n",
      "Weight of a disk of radii=1:\n",
      " Al-> 4.1887902047863905\n",
      " Fe-> 16.755160819145562\n",
      " Pb-> 83.7758040957278\n",
      "Weight of a disk of radii=2:\n",
      " Al-> 33.510321638291124\n",
      " Fe-> 134.0412865531645\n",
      " Pb-> 670.2064327658225\n",
      "Weight of a disk of radii=3:\n",
      " Al-> 113.09733552923254\n",
      " Fe-> 452.38934211693015\n",
      " Pb-> 2261.9467105846506\n",
      "Weight of a sphere of radii=1:\n",
      " Al-> 8.377580409572781\n",
      " Fe-> 20.94395102393195\n",
      " Pb-> 125.66370614359171\n",
      "Weight of a sphere of radii=2:\n",
      " Al-> 67.02064327658225\n",
      " Fe-> 167.5516081914556\n",
      " Pb-> 1005.3096491487337\n",
      "Weight of a sphere of radii=3:\n",
      " Al-> 226.19467105846508\n",
      " Fe-> 565.4866776461627\n",
      " Pb-> 3392.920065876976\n"
     ]
    }
   ],
   "source": [
    "import math as m\n",
    "densities = {\"Al\":[0.5,1,2],\"Fe\":[3,4,5],\"Pb\": [15,20,30]}\n",
    "radii = [1,2,3]\n",
    "#lamf=[lambda r: 2*m.pi*r, lambda r: m.pi*r*r, lambda r: (4*m.pi*r**3)/3]\n",
    "coeff=[2, 1, 4/3]\n",
    "lamf=[(lambda r: c*m.pi*r**(y)) for c in coeff for y in range(1,4) ]\n",
    "print(lamf[0](1))\n",
    "\n",
    "\n",
    "l, s, v=zip(densities['Al'], densities['Fe'], densities['Pb'])\n",
    "li=[l, s, v]\n",
    "forme=[\"circle\", \"disk\", \"sphere\"]\n",
    "mate=[q for q in densities.keys()]\n",
    "for f in range(3):\n",
    "    for r in range(3):\n",
    "        print(\"Weight of a {} of radii={}:\".format(forme[f],radii[r]))\n",
    "        for ma in range(3):\n",
    "            print(\" {}-> {}\".format(mate[ma], li[f][ma]*lamf[f](radii[r])))"
   ]
  },
  {
   "cell_type": "markdown",
   "metadata": {},
   "source": [
    "6\\. Edit the class defintion to add an instance attribute of is_hungry = True to the Dog class. Then add a method called eat() which changes the value of is_hungry to False when called. Figure out the best way to feed each dog and then output “My dogs are hungry.” if all are hungry or “My dogs are not hungry.” if all are not hungry. The final output should look like this:\n",
    "\n",
    "`I have 3 dogs. \n",
    "Tom is 6. \n",
    "Fletcher is 7. \n",
    "Larry is 9. \n",
    "And they're all mammals, of course. \n",
    "My dogs are not hungry.\n",
    "`\n",
    "\n",
    "```python\n",
    "# Parent class\n",
    "class Dog:\n",
    "\n",
    "    # Class attribute\n",
    "    species = 'mammal'\n",
    "\n",
    "    # Initializer / Instance attributes\n",
    "    def __init__(self, name, age):\n",
    "        self.name = name\n",
    "        self.age = age\n",
    "\n",
    "    # instance method\n",
    "    def description(self):\n",
    "        return \"{} is {} years old\".format(self.name, self.age)\n",
    "\n",
    "    # instance method\n",
    "    def speak(self, sound):\n",
    "        return \"{} says {}\".format(self.name, sound)\n",
    "\n",
    "# Child class (inherits from Dog class)\n",
    "class RussellTerrier(Dog):\n",
    "    def run(self, speed):\n",
    "        return \"{} runs {}\".format(self.name, speed)\n",
    "\n",
    "# Child class (inherits from Dog class)\n",
    "class Bulldog(Dog):\n",
    "    def run(self, speed):\n",
    "        return \"{} runs {}\".format(self.name, speed)\n",
    "```"
   ]
  },
  {
   "cell_type": "code",
   "execution_count": 40,
   "metadata": {},
   "outputs": [
    {
     "name": "stdout",
     "output_type": "stream",
     "text": [
      "Feed? Enter yes or no: YES\n",
      "I have 3 dogs\n",
      "Tom is 6.\n",
      "Fletcher is 7.\n",
      "Larry is 9.\n",
      "And they are all mammals, of course\n",
      "My dogs are hungry.\n"
     ]
    }
   ],
   "source": [
    "# Parent class\n",
    "class Dog:\n",
    "\n",
    "    # Class attribute\n",
    "    species = 'mammal'\n",
    "    #is_hungry = True si poteva mettere anche qui\n",
    "    \n",
    "\n",
    "    # Initializer / Instance attributes\n",
    "    def __init__(self, name, age):    \n",
    "        self.name = name\n",
    "        self.age = age\n",
    "        self.is_hungry = True\n",
    "      \n",
    "    # feed method\n",
    "    def eat(self):\n",
    "        self.is_hungry=False\n",
    "        \n",
    "answer = input(\"Feed? Enter yes or no: \") \n",
    "\n",
    "Tom=Dog(\"Tom\", 6)\n",
    "Fletcher=Dog(\"Fletcher\", 7)\n",
    "Larry=Dog(\"Larry\", 9)    \n",
    "    \n",
    "Doglist=[]\n",
    "Doglist.append(Tom)\n",
    "Doglist.append(Fletcher)\n",
    "Doglist.append(Larry)   \n",
    "    \n",
    "print(\"I have {} dogs\".format(len(Doglist)))\n",
    "\n",
    "a=True\n",
    "\n",
    "for dog in Doglist:\n",
    "    if answer == \"yes\": dog.eat()\n",
    "    print(\"{} is {}.\".format(dog.name, dog.age))\n",
    "    if dog.is_hungry:  #vanno chiamate così le varabili definite all'interno di una classe, non serve dare == true\n",
    "        a=False\n",
    "    \n",
    "print(\"And they are all {}s, of course\".format(Dog.species))\n",
    "if a: print(\"My dogs are not hungry,\")\n",
    "else: print(\"My dogs are hungry.\")"
   ]
  },
  {
   "cell_type": "code",
   "execution_count": null,
   "metadata": {},
   "outputs": [],
   "source": []
  },
  {
   "cell_type": "code",
   "execution_count": null,
   "metadata": {},
   "outputs": [],
   "source": []
  }
 ],
 "metadata": {
  "kernelspec": {
   "display_name": "Python 3",
   "language": "python",
   "name": "python3"
  },
  "language_info": {
   "codemirror_mode": {
    "name": "ipython",
    "version": 3
   },
   "file_extension": ".py",
   "mimetype": "text/x-python",
   "name": "python",
   "nbconvert_exporter": "python",
   "pygments_lexer": "ipython3",
   "version": "3.8.8"
  }
 },
 "nbformat": 4,
 "nbformat_minor": 2
}
