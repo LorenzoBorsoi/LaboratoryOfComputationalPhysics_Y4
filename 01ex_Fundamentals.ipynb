{
 "cells": [
  {
   "cell_type": "markdown",
   "metadata": {},
   "source": [
    "1\\. Write the following as a list comprehension"
   ]
  },
  {
   "cell_type": "code",
   "execution_count": 2,
   "metadata": {},
   "outputs": [
    {
     "name": "stdout",
     "output_type": "stream",
     "text": [
      "[(0, 0), (0, 1), (0, 2), (0, 3), (1, 0), (1, 1), (1, 2), (1, 3), (2, 0), (2, 1), (2, 2), (2, 3)]\n",
      "[0, 4, 16]\n"
     ]
    }
   ],
   "source": [
    "# 1\n",
    "ans = []\n",
    "for i in range(3):\n",
    "    for j in range(4):\n",
    "        ans.append((i, j))\n",
    "print (ans)\n",
    "\n",
    "# 2\n",
    "ans = map(lambda x: x*x, filter(lambda x: x%2 == 0, range(5)))\n",
    "print (list(ans))\n",
    "\n"
   ]
  },
  {
   "cell_type": "markdown",
   "metadata": {},
   "source": [
    "### 1.1)"
   ]
  },
  {
   "cell_type": "code",
   "execution_count": 1,
   "metadata": {},
   "outputs": [
    {
     "name": "stdout",
     "output_type": "stream",
     "text": [
      "[(0, 0), (0, 1), (0, 2), (0, 3), (1, 0), (1, 1), (1, 2), (1, 3), (2, 0), (2, 1), (2, 2), (2, 3)]\n"
     ]
    }
   ],
   "source": [
    "ans1 = [(i, j) for i in range(3) for j in range(4)]\n",
    "print(ans1)"
   ]
  },
  {
   "cell_type": "markdown",
   "metadata": {},
   "source": [
    "### 1.2)"
   ]
  },
  {
   "cell_type": "code",
   "execution_count": 3,
   "metadata": {},
   "outputs": [
    {
     "name": "stdout",
     "output_type": "stream",
     "text": [
      "[0, 4, 16]\n"
     ]
    }
   ],
   "source": [
    "ans2 = [x**2 for x in range(5) if x%2 == 0]\n",
    "print(ans2)"
   ]
  },
  {
   "cell_type": "markdown",
   "metadata": {},
   "source": [
    "2\\. Convert the following function into a pure function with no global variables or side effects"
   ]
  },
  {
   "cell_type": "code",
   "execution_count": 4,
   "metadata": {},
   "outputs": [
    {
     "name": "stdout",
     "output_type": "stream",
     "text": [
      "[1, 2, 3, 0, 1, 2, 3, 4]\n",
      "[1, 2, 3, 0, 1, 2, 3, 4]\n"
     ]
    }
   ],
   "source": [
    "x = 5\n",
    "def f(alist):\n",
    "    for i in range(x):\n",
    "         alist.append(i)\n",
    "    return alist\n",
    "\n",
    "alist = [1,2,3]\n",
    "ans = f(alist)\n",
    "print (ans)\n",
    "print (alist) # alist has been changed!"
   ]
  },
  {
   "cell_type": "code",
   "execution_count": 5,
   "metadata": {},
   "outputs": [
    {
     "name": "stdout",
     "output_type": "stream",
     "text": [
      "[1, 2, 3, 0, 1, 2, 3, 4]\n",
      "[1, 2, 3]\n"
     ]
    }
   ],
   "source": [
    "def fnew(l, x=5):\n",
    "    #Takes a list l and returns the list with appended integers\n",
    "    newList = l.copy()\n",
    "    for i in range(x):\n",
    "        newList.append(i)\n",
    "    return newList\n",
    "\n",
    "blist = [1, 2, 3]\n",
    "newAns = fnew(blist)\n",
    "print(newAns)\n",
    "print(blist)"
   ]
  },
  {
   "cell_type": "markdown",
   "metadata": {},
   "source": [
    "3\\. Write a `decorator` hello that makes every wrapped function print “Hello!”, i.e. something like:\n",
    "\n",
    "```python\n",
    "@hello\n",
    "def square(x):\n",
    "    return x*x\n",
    "```\n",
    "\n"
   ]
  },
  {
   "cell_type": "code",
   "execution_count": 6,
   "metadata": {},
   "outputs": [
    {
     "name": "stdout",
     "output_type": "stream",
     "text": [
      "Hello! I am wrapping the function <function bark at 0x00000255D0088AF0>\n",
      "Woof!\n",
      "\n",
      "\n",
      "Hello! I am wrapping the function <function square at 0x00000255D0088430>\n",
      "4\n",
      "\n",
      "\n",
      "Hello! I am wrapping the function <function sumNums at 0x00000255D0088310>\n",
      "10\n",
      "\n",
      "\n"
     ]
    }
   ],
   "source": [
    "def hello(func):\n",
    "    #Takes a function func and returns a wrapped function\n",
    "    def wrapper(*args):\n",
    "        print(f\"Hello! I am wrapping the function {func}\")\n",
    "        func(*args)\n",
    "    return wrapper\n",
    "\n",
    "@hello\n",
    "def bark():\n",
    "    print('Woof!')\n",
    "    print(\"\\n\")\n",
    "    \n",
    "@hello\n",
    "def square(x):\n",
    "    print(x**2)\n",
    "    print(\"\\n\")\n",
    "    return x**2\n",
    "\n",
    "@hello\n",
    "def sumNums(a, b):\n",
    "    print(a+b)\n",
    "    print(\"\\n\")\n",
    "    return a+b\n",
    "\n",
    "bark()\n",
    "square(2)\n",
    "sumNums(7, 3)"
   ]
  },
  {
   "cell_type": "markdown",
   "metadata": {},
   "source": [
    "4\\. Write the factorial function so that it a) does and b) does not use recursion."
   ]
  },
  {
   "cell_type": "markdown",
   "metadata": {},
   "source": [
    "### 4a)"
   ]
  },
  {
   "cell_type": "code",
   "execution_count": 7,
   "metadata": {},
   "outputs": [
    {
     "name": "stdout",
     "output_type": "stream",
     "text": [
      "Test passed!\n"
     ]
    }
   ],
   "source": [
    "def recursiveFactorial(num):\n",
    "    # returns the factorial of an input number num, recursively\n",
    "    \n",
    "    #base case\n",
    "    if(num == 0):\n",
    "        return 1\n",
    "    \n",
    "    elif(num//abs(num) == -1):\n",
    "        return num * recursiveFactorial(num+1)\n",
    "    \n",
    "    else:\n",
    "        return num * recursiveFactorial(num-1)\n",
    "    \n",
    "def test4a():\n",
    "    assert(recursiveFactorial(5) == 120)\n",
    "    assert(recursiveFactorial(-5) == -120)\n",
    "    assert(recursiveFactorial(-4) == 24)\n",
    "    assert(recursiveFactorial(10) == 3628800)\n",
    "    assert(recursiveFactorial(1) == 1)\n",
    "    assert(recursiveFactorial(0) == 1)\n",
    "    print(\"Test passed!\")\n",
    "    \n",
    "test4a()  "
   ]
  },
  {
   "cell_type": "markdown",
   "metadata": {},
   "source": [
    "### 4b)"
   ]
  },
  {
   "cell_type": "code",
   "execution_count": 8,
   "metadata": {},
   "outputs": [
    {
     "name": "stdout",
     "output_type": "stream",
     "text": [
      "Test passed!\n"
     ]
    }
   ],
   "source": [
    "def nonRecursiveFactorial(num):\n",
    "    # returns the factorial of the input number num, non-recursively\n",
    "    factorial = 1\n",
    "    \n",
    "    if(num == 0): \n",
    "        return 1 #deal with the zero case first\n",
    "\n",
    "    elif(num//abs(num) == -1):\n",
    "        for i in range(num, 0, 1):\n",
    "            factorial *= i\n",
    "    else:\n",
    "        for i in range(num, 0, -1):\n",
    "            factorial *= i\n",
    "        \n",
    "    return factorial\n",
    "\n",
    "def test4b():\n",
    "    assert(nonRecursiveFactorial(5) == 120)\n",
    "    assert(nonRecursiveFactorial(-5) == -120)\n",
    "    assert(nonRecursiveFactorial(-4) == 24)\n",
    "    assert(nonRecursiveFactorial(10) == 3628800)\n",
    "    assert(nonRecursiveFactorial(1) == 1)\n",
    "    assert(nonRecursiveFactorial(0) == 1)\n",
    "    print(\"Test passed!\")\n",
    "    \n",
    "test4b()\n"
   ]
  },
  {
   "cell_type": "markdown",
   "metadata": {},
   "source": [
    "5\\. Use HOFs (zip in particular) to compute the weight of a circle, a disk and a sphere, assuming different radii and different densities:\n",
    "\n",
    "```python\n",
    "densities = {\"Al\":[0.5,1,2],\"Fe\":[3,4,5],\"Pb\": [15,20,30]}\n",
    "radii = [1,2,3]\n",
    "```\n",
    "\n",
    "where the entries of the dictionary's values are the linear, superficial and volumetric densities of the materials respectively.\n",
    "\n",
    "In particular define a list of three lambda functions using a comprehension that computes the circumference, the area and the volume for a given radius.\n"
   ]
  },
  {
   "cell_type": "code",
   "execution_count": null,
   "metadata": {},
   "outputs": [],
   "source": []
  },
  {
   "cell_type": "markdown",
   "metadata": {},
   "source": [
    "6\\. Edit the class defintion to add an instance attribute of is_hungry = True to the Dog class. Then add a method called eat() which changes the value of is_hungry to False when called. Figure out the best way to feed each dog and then output “My dogs are hungry.” if all are hungry or “My dogs are not hungry.” if all are not hungry. The final output should look like this:\n",
    "\n",
    "`I have 3 dogs. \n",
    "Tom is 6. \n",
    "Fletcher is 7. \n",
    "Larry is 9. \n",
    "And they're all mammals, of course. \n",
    "My dogs are not hungry.\n",
    "`\n",
    "\n",
    "```python\n",
    "# Parent class\n",
    "class Dog:\n",
    "\n",
    "    # Class attribute\n",
    "    species = 'mammal'\n",
    "\n",
    "    # Initializer / Instance attributes\n",
    "    def __init__(self, name, age):\n",
    "        self.name = name\n",
    "        self.age = age\n",
    "\n",
    "    # instance method\n",
    "    def description(self):\n",
    "        return \"{} is {} years old\".format(self.name, self.age)\n",
    "\n",
    "    # instance method\n",
    "    def speak(self, sound):\n",
    "        return \"{} says {}\".format(self.name, sound)\n",
    "\n",
    "# Child class (inherits from Dog class)\n",
    "class RussellTerrier(Dog):\n",
    "    def run(self, speed):\n",
    "        return \"{} runs {}\".format(self.name, speed)\n",
    "\n",
    "# Child class (inherits from Dog class)\n",
    "class Bulldog(Dog):\n",
    "    def run(self, speed):\n",
    "        return \"{} runs {}\".format(self.name, speed)\n",
    "```"
   ]
  },
  {
   "cell_type": "code",
   "execution_count": 11,
   "metadata": {},
   "outputs": [
    {
     "name": "stdout",
     "output_type": "stream",
     "text": [
      "I have 3 dogs.\n",
      "<bound method Dog.description of <__main__.Dog object at 0x00000255D006A550>>\n",
      "<bound method Dog.description of <__main__.Dog object at 0x00000255D00B1FD0>>\n",
      "<bound method Dog.description of <__main__.Dog object at 0x00000255D00BDA60>>\n",
      "And they're all mammals, of course.\n",
      "My dogs are all hungry\n"
     ]
    }
   ],
   "source": [
    "class Dog:\n",
    "\n",
    "    # Class attribute\n",
    "    species = 'mammal'\n",
    "\n",
    "    # Initializer / Instance attributes\n",
    "    def __init__(self, name, age):\n",
    "        self.name = name\n",
    "        self.age = age\n",
    "        self.hungry = True\n",
    "\n",
    "    # instance method\n",
    "    def description(self):\n",
    "        return \"{} is {}\".format(self.name, self.age)\n",
    "\n",
    "    # instance method\n",
    "    def speak(self, sound):\n",
    "        return \"{} says {}\".format(self.name, sound)\n",
    "    \n",
    "    def eat(self):\n",
    "        self.hungry = False\n",
    "        \n",
    "def allMammals(dogsList):\n",
    "    for dog in dogsList:\n",
    "        if dog.species != 'mammal': return False\n",
    "    return True\n",
    "\n",
    "def hungry(dogsList):\n",
    "    # return \n",
    "    hungryDogs = []\n",
    "    for dog in dogsList: \n",
    "        if(dog.hungry == True): hungryDogs.append(dog)\n",
    "    \n",
    "    if(len(hungryDogs) == len(dogsList)): return True\n",
    "    else: return False\n",
    "    \n",
    "    \n",
    "dogs = []\n",
    "\n",
    "# Instantiate dog objects and add to dogs list\n",
    "terry = Dog(\"Terry\", 6)\n",
    "dogs.append(terry)\n",
    "fletcher = Dog(\"Fletcher\", 7)\n",
    "dogs.append(fletcher)\n",
    "larry = Dog(\"Larry\", 9)\n",
    "dogs.append(larry)\n",
    "\n",
    "\n",
    "\n",
    "# Output\n",
    "print(f\"I have {len(dogs)} dogs.\")\n",
    "print(terry.description)\n",
    "print(fletcher.description)\n",
    "print(larry.description)\n",
    "#mammals conditional\n",
    "if(allMammals(dogs) == True): print(\"And they're all mammals, of course.\")\n",
    "else: print('They are not all mammals')\n",
    "#hungry conditional\n",
    "if(hungry(dogs) == True): print(\"My dogs are all hungry\")\n",
    "else: print('My dogs are not hungry')"
   ]
  },
  {
   "cell_type": "code",
   "execution_count": null,
   "metadata": {},
   "outputs": [],
   "source": []
  }
 ],
 "metadata": {
  "kernelspec": {
   "display_name": "Python 3",
   "language": "python",
   "name": "python3"
  },
  "language_info": {
   "codemirror_mode": {
    "name": "ipython",
    "version": 3
   },
   "file_extension": ".py",
   "mimetype": "text/x-python",
   "name": "python",
   "nbconvert_exporter": "python",
   "pygments_lexer": "ipython3",
   "version": "3.8.3"
  }
 },
 "nbformat": 4,
 "nbformat_minor": 2
}
