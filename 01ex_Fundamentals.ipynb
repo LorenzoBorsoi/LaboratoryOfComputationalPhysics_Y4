{
 "cells": [
  {
   "cell_type": "markdown",
   "metadata": {},
   "source": [
    "1\\. Write the following as a list comprehension"
   ]
  },
  {
   "cell_type": "code",
   "execution_count": 1,
   "metadata": {},
   "outputs": [
    {
     "name": "stdout",
     "output_type": "stream",
     "text": [
      "[(0, 0), (0, 1), (0, 2), (0, 3), (1, 0), (1, 1), (1, 2), (1, 3), (2, 0), (2, 1), (2, 2), (2, 3)]\n",
      "[0, 4, 16]\n"
     ]
    }
   ],
   "source": [
    "# 1\n",
    "ans = []\n",
    "for i in range(3):\n",
    "    for j in range(4):\n",
    "        ans.append((i, j))\n",
    "print (ans)\n",
    "\n",
    "# 2\n",
    "ans = map(lambda x: x*x, filter(lambda x: x%2 == 0, range(5)))\n",
    "print (list(ans))\n",
    "\n"
   ]
  },
  {
   "cell_type": "code",
   "execution_count": 10,
   "metadata": {},
   "outputs": [
    {
     "name": "stdout",
     "output_type": "stream",
     "text": [
      "[(0, 0), (0, 1), (0, 2), (0, 3), (1, 0), (1, 1), (1, 2), (1, 3), (2, 0), (2, 1), (2, 2), (2, 3)]\n",
      "[0, 4, 16]\n"
     ]
    }
   ],
   "source": [
    "#1 - lc\n",
    "\n",
    "lc = [(a,b) for a in range(3) for b in range(4)]\n",
    "print(lc)\n",
    "\n",
    "\n",
    "#2 - lc\n",
    "\n",
    "lc2 = [x**2 for x in range(0, 5 , 2)]\n",
    "print(lc2)"
   ]
  },
  {
   "cell_type": "markdown",
   "metadata": {},
   "source": [
    "2\\. Convert the following function into a pure function with no global variables or side effects"
   ]
  },
  {
   "cell_type": "code",
   "execution_count": 1,
   "metadata": {},
   "outputs": [
    {
     "name": "stdout",
     "output_type": "stream",
     "text": [
      "[1, 2, 3, 0, 1, 2, 3, 4]\n",
      "[1, 2, 3, 0, 1, 2, 3, 4]\n"
     ]
    }
   ],
   "source": [
    "x = 5\n",
    "def f(alist):\n",
    "    for i in range(x):\n",
    "         alist.append(i)\n",
    "    return alist\n",
    "\n",
    "alist = [1,2,3]\n",
    "ans = f(alist)\n",
    "print (ans)\n",
    "print (alist) # alist has been changed!"
   ]
  },
  {
   "cell_type": "code",
   "execution_count": 20,
   "metadata": {},
   "outputs": [
    {
     "name": "stdout",
     "output_type": "stream",
     "text": [
      "[1, 2, 3, 0, 1, 2, 3, 4]\n",
      "[1, 2, 3]\n"
     ]
    }
   ],
   "source": [
    "x = 5\n",
    "def f(alist):\n",
    "    temp_list = alist.copy()\n",
    "    for i in range(x):\n",
    "        temp_list.append(i)\n",
    "    return temp_list\n",
    "\n",
    "alist = [1,2,3]\n",
    "ans = f(alist)\n",
    "print (ans)\n",
    "print (alist) # alist hasn't been changed!"
   ]
  },
  {
   "cell_type": "markdown",
   "metadata": {},
   "source": [
    "3\\. Write a `decorator` hello that makes every wrapped function print “Hello!”, i.e. something like:\n",
    "\n",
    "```python\n",
    "@hello\n",
    "def square(x):\n",
    "    return x*x\n",
    "```\n",
    "\n"
   ]
  },
  {
   "cell_type": "code",
   "execution_count": 19,
   "metadata": {},
   "outputs": [
    {
     "name": "stdout",
     "output_type": "stream",
     "text": [
      "Hello!\n",
      "25\n"
     ]
    }
   ],
   "source": [
    "def hello(func):\n",
    "    def wrapper(*args , **kwargs):\n",
    "        print(\"Hello!\")\n",
    "        return (func(*args , **kwargs))\n",
    "    return wrapper \n",
    "\n",
    "@hello\n",
    "def square(x):\n",
    "    return x*x\n",
    "\n",
    "y=5\n",
    "print(square(y))"
   ]
  },
  {
   "cell_type": "markdown",
   "metadata": {},
   "source": [
    "4\\. Write the factorial function so that it a) does and b) does not use recursion."
   ]
  },
  {
   "cell_type": "code",
   "execution_count": 33,
   "metadata": {},
   "outputs": [
    {
     "name": "stdout",
     "output_type": "stream",
     "text": [
      "Factorial with recursion of  9  ->  362880\n",
      "Factorial withOUT recursion of  9  ->  362880\n"
     ]
    }
   ],
   "source": [
    "#a) - with recursion\n",
    "\n",
    "def fact1(n):\n",
    "    if (n > 1):\n",
    "        return n* fact1(n-1)\n",
    "    else:\n",
    "        return 1\n",
    "    \n",
    "    \n",
    "#b) - without recursion\n",
    "\n",
    "def fact2(n):\n",
    "    prod=1\n",
    "    for i in range(1,n+1):\n",
    "        prod*=i\n",
    "    return prod\n",
    "\n",
    "x=9\n",
    "\n",
    "print(\"Factorial with recursion of \" , x , \" -> \" , fact1(x))\n",
    "print(\"Factorial withOUT recursion of \" , x , \" -> \" , fact2(x))\n"
   ]
  },
  {
   "cell_type": "markdown",
   "metadata": {},
   "source": [
    "5\\. Use HOFs (zip in particular) to compute the weight of a circle, a disk and a sphere, assuming different radii and different densities:\n",
    "\n",
    "```python\n",
    "densities = {\"Al\":[0.5,1,2],\"Fe\":[3,4,5],\"Pb\": [15,20,30]}\n",
    "radii = [1,2,3]\n",
    "```\n",
    "\n",
    "where the entries of the dictionary's values are the linear, superficial and volumetric densities of the materials respectively.\n",
    "\n",
    "In particular define a list of three lambda functions using a comprehension that computes the circumference, the area and the volume for a given radius.\n"
   ]
  },
  {
   "cell_type": "code",
   "execution_count": 2,
   "metadata": {},
   "outputs": [
    {
     "name": "stdout",
     "output_type": "stream",
     "text": [
      "Circum  for element  Al with density  =  0.5  and with radius =  1 is 3.141592653589793\n",
      "Area    for element  Al with density  =  1.0  and with radius =  1 is 12.566370614359172\n",
      "Volum   for element  Al with density  =  2.0  and with radius =  1 is 8.377580409572781\n",
      "\n",
      "\n",
      "Circum  for element  Al with density  =  0.5  and with radius =  2 is 6.283185307179586\n",
      "Area    for element  Al with density  =  1.0  and with radius =  2 is 50.26548245743669\n",
      "Volum   for element  Al with density  =  2.0  and with radius =  2 is 67.02064327658225\n",
      "\n",
      "\n",
      "Circum  for element  Al with density  =  0.5  and with radius =  3 is 9.42477796076938\n",
      "Area    for element  Al with density  =  1.0  and with radius =  3 is 113.09733552923255\n",
      "Volum   for element  Al with density  =  2.0  and with radius =  3 is 226.19467105846508\n",
      "\n",
      "\n",
      "Circum  for element  Fe with density  =  3.0  and with radius =  1 is 18.84955592153876\n",
      "Area    for element  Fe with density  =  4.0  and with radius =  1 is 50.26548245743669\n",
      "Volum   for element  Fe with density  =  5.0  and with radius =  1 is 20.94395102393195\n",
      "\n",
      "\n",
      "Circum  for element  Fe with density  =  3.0  and with radius =  2 is 37.69911184307752\n",
      "Area    for element  Fe with density  =  4.0  and with radius =  2 is 201.06192982974676\n",
      "Volum   for element  Fe with density  =  5.0  and with radius =  2 is 167.5516081914556\n",
      "\n",
      "\n",
      "Circum  for element  Fe with density  =  3.0  and with radius =  3 is 56.548667764616276\n",
      "Area    for element  Fe with density  =  4.0  and with radius =  3 is 452.3893421169302\n",
      "Volum   for element  Fe with density  =  5.0  and with radius =  3 is 565.4866776461627\n",
      "\n",
      "\n",
      "Circum  for element  Pb with density  = 15.0  and with radius =  1 is 94.24777960769379\n",
      "Area    for element  Pb with density  = 20.0  and with radius =  1 is 251.32741228718345\n",
      "Volum   for element  Pb with density  = 30.0  and with radius =  1 is 125.66370614359171\n",
      "\n",
      "\n",
      "Circum  for element  Pb with density  = 15.0  and with radius =  2 is 188.49555921538757\n",
      "Area    for element  Pb with density  = 20.0  and with radius =  2 is 1005.3096491487338\n",
      "Volum   for element  Pb with density  = 30.0  and with radius =  2 is 1005.3096491487337\n",
      "\n",
      "\n",
      "Circum  for element  Pb with density  = 15.0  and with radius =  3 is 282.7433388230814\n",
      "Area    for element  Pb with density  = 20.0  and with radius =  3 is 2261.946710584651\n",
      "Volum   for element  Pb with density  = 30.0  and with radius =  3 is 3392.920065876976\n",
      "\n",
      "\n"
     ]
    }
   ],
   "source": [
    "import math as m\n",
    "\n",
    "densities = {\"Al\":[0.5,1,2],\"Fe\":[3,4,5],\"Pb\": [15,20,30]}\n",
    "radii = [1,2,3]\n",
    "\n",
    "form_factors=[2*m.pi , 4*m.pi , (4/3)*m.pi]\n",
    "\n",
    "F=(\"Circum\" , \"Area  \" , \"Volum \")\n",
    "\n",
    "functions = [lambda r, factor=f , exp=i : factor*(r**exp) for f,i in zip(form_factors,range(1,4)) ]  \n",
    "index=0\n",
    "\n",
    "for elem in densities:\n",
    "    for r in radii:\n",
    "        for d,fun in zip (densities[elem] , functions):\n",
    "            weight = d * fun(r) \n",
    "            print(F[index] , \" for element \", elem , \"with density  = %4.1f\"%(d) , \" and with radius = \", str(r) , \"is\", weight)\n",
    "            index+=1\n",
    "            if( index == 3):\n",
    "                index = 0\n",
    "                print(\"\\n\")\n"
   ]
  },
  {
   "cell_type": "markdown",
   "metadata": {},
   "source": [
    "6\\. Edit the class defintion to add an instance attribute of is_hungry = True to the Dog class. Then add a method called eat() which changes the value of is_hungry to False when called. Figure out the best way to feed each dog and then output “My dogs are hungry.” if all are hungry or “My dogs are not hungry.” if all are not hungry. The final output should look like this:\n",
    "\n",
    "`I have 3 dogs. \n",
    "Tom is 6. \n",
    "Fletcher is 7. \n",
    "Larry is 9. \n",
    "And they're all mammals, of course. \n",
    "My dogs are not hungry.\n",
    "`\n",
    "\n",
    "```python\n",
    "# Parent class\n",
    "class Dog:\n",
    "\n",
    "    # Class attribute\n",
    "    species = 'mammal'\n",
    "\n",
    "    # Initializer / Instance attributes\n",
    "    def __init__(self, name, age):\n",
    "        self.name = name\n",
    "        self.age = age\n",
    "\n",
    "    # instance method\n",
    "    def description(self):\n",
    "        return \"{} is {} years old\".format(self.name, self.age)\n",
    "\n",
    "    # instance method\n",
    "    def speak(self, sound):\n",
    "        return \"{} says {}\".format(self.name, sound)\n",
    "\n",
    "# Child class (inherits from Dog class)\n",
    "class RussellTerrier(Dog):\n",
    "    def run(self, speed):\n",
    "        return \"{} runs {}\".format(self.name, speed)\n",
    "\n",
    "# Child class (inherits from Dog class)\n",
    "class Bulldog(Dog):\n",
    "    def run(self, speed):\n",
    "        return \"{} runs {}\".format(self.name, speed)\n",
    "```"
   ]
  },
  {
   "cell_type": "code",
   "execution_count": 10,
   "metadata": {},
   "outputs": [
    {
     "name": "stdout",
     "output_type": "stream",
     "text": [
      "I have 3 dogs.\n",
      "Tom is 6 years old\n",
      "Fletcher is 7 years old\n",
      "Larry is 9 years old\n",
      "And they are all mammal of course.\n",
      "Tom is hungry. Give him some food.\n",
      "Fletcher is hungry. Give him some food.\n",
      "Larry is hungry. Give him some food.\n",
      "My dogs are not hungry\n"
     ]
    }
   ],
   "source": [
    "# Parent class\n",
    "class Dog:\n",
    "\n",
    "    # Class attribute\n",
    "    species = 'mammal'\n",
    "    is_hungry = True\n",
    "    \n",
    "    \n",
    "\n",
    "    # Initializer / Instance attributes\n",
    "    def __init__(self, name, age):\n",
    "        self.name = name\n",
    "        self.age = age\n",
    "\n",
    "    # instance method\n",
    "    def description(self):\n",
    "        return \"{} is {} years old\".format(self.name, self.age)\n",
    "\n",
    "    # instance method\n",
    "    def speak(self, sound):\n",
    "        return \"{} says {}\".format(self.name, sound)\n",
    "    \n",
    "    \n",
    "    \n",
    "    \n",
    "    #new method\n",
    "    def eat(self):\n",
    "        self.is_hungry = False\n",
    "        \n",
    "    #method hungry\n",
    "    def hung(self):\n",
    "        if self.is_hungry == True:\n",
    "            return \"{} is hungry\".format(self.name)\n",
    "        else:\n",
    "            return \"{} is not hungry\".format(self.name)\n",
    "        \n",
    "    \n",
    "    \n",
    "\n",
    "# Child class (inherits from Dog class)\n",
    "class RussellTerrier(Dog):\n",
    "    def run(self, speed):\n",
    "        return \"{} runs {}\".format(self.name, speed)\n",
    "\n",
    "# Child class (inherits from Dog class)\n",
    "class Bulldog(Dog):\n",
    "    def run(self, speed):\n",
    "        return \"{} runs {}\".format(self.name, speed)\n",
    "   \n",
    "\n",
    "names = [\"Tom\" , \"Fletcher\" , \"Larry\"]\n",
    "years = [6,7,9]\n",
    "pets=[]\n",
    "\n",
    "\n",
    "for n , y  in zip(names, years):\n",
    "    pets.append(Dog(n , y))\n",
    "\n",
    "print(\"I have %s dogs.\" %len(pets))\n",
    "\n",
    "for i in range (len(pets)):\n",
    "    print(pets[i].description())\n",
    "    \n",
    "print(\"And they are all %s of course.\" %Dog.species)\n",
    "\n",
    "    \n",
    "for dog in pets:\n",
    "    if (dog.is_hungry):\n",
    "        print(\"%s is hungry. Give him some food.\"%dog.name)\n",
    "        dog.eat()\n",
    "if (len(list(filter(lambda dog: dog.is_hungry, pets))) == 0):\n",
    "    print(\"My dogs are not hungry\")\n",
    "else:\n",
    "    print(\"My dogs are hungry\")"
   ]
  }
 ],
 "metadata": {
  "kernelspec": {
   "display_name": "Python 3",
   "language": "python",
   "name": "python3"
  },
  "language_info": {
   "codemirror_mode": {
    "name": "ipython",
    "version": 3
   },
   "file_extension": ".py",
   "mimetype": "text/x-python",
   "name": "python",
   "nbconvert_exporter": "python",
   "pygments_lexer": "ipython3",
   "version": "3.8.10"
  }
 },
 "nbformat": 4,
 "nbformat_minor": 2
}
