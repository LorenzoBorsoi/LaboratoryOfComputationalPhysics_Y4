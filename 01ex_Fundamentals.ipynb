{
 "cells": [
  {
   "cell_type": "markdown",
   "metadata": {},
   "source": [
    "1\\. Write the following as a list comprehension"
   ]
  },
  {
   "cell_type": "code",
   "execution_count": 41,
   "metadata": {},
   "outputs": [
    {
     "name": "stdout",
     "output_type": "stream",
     "text": [
      "[(0, 0), (0, 1), (0, 2), (0, 3), (1, 0), (1, 1), (1, 2), (1, 3), (2, 0), (2, 1), (2, 2), (2, 3)]\n",
      "[0, 4, 16]\n"
     ]
    }
   ],
   "source": [
    "# 1\n",
    "ans = []\n",
    "for i in range(3):\n",
    "    for j in range(4):\n",
    "        ans.append((i, j))\n",
    "print (ans)\n",
    "\n",
    "# 2\n",
    "ans = map(lambda x: x*x, filter(lambda x: x%2 == 0, range(5)))\n",
    "\n",
    "print (list(ans))\n",
    "\n"
   ]
  },
  {
   "cell_type": "code",
   "execution_count": 19,
   "metadata": {},
   "outputs": [
    {
     "name": "stdout",
     "output_type": "stream",
     "text": [
      "[(0, 0), (0, 1), (0, 2), (0, 3), (1, 0), (1, 1), (1, 2), (1, 3), (2, 0), (2, 1), (2, 2), (2, 3)]\n",
      "[0, 4, 16]\n"
     ]
    }
   ],
   "source": [
    "#1\n",
    "ans=[(i,j) for i in range(3) for j in range(4)]\n",
    "print(ans)\n",
    "#2\n",
    "d=[i for i in map(lambda x: x*x, filter(lambda x: x%2 == 0, range(5))) ]\n",
    "print(d)"
   ]
  },
  {
   "cell_type": "markdown",
   "metadata": {},
   "source": [
    "2\\. Convert the following function into a pure function with no global variables or side effects"
   ]
  },
  {
   "cell_type": "code",
   "execution_count": 15,
   "metadata": {},
   "outputs": [
    {
     "name": "stdout",
     "output_type": "stream",
     "text": [
      "[1, 2, 3, 0, 1, 2, 3, 4]\n",
      "[1, 2, 3, 0, 1, 2, 3, 4]\n"
     ]
    }
   ],
   "source": [
    "x = 5\n",
    "def f(alist):\n",
    "    for i in range(x):\n",
    "         alist.append(i)\n",
    "    return alist\n",
    "\n",
    "alist = [1,2,3]\n",
    "ans = f(alist)\n",
    "print (ans)\n",
    "print (alist) # alist has been changed!"
   ]
  },
  {
   "cell_type": "code",
   "execution_count": 2,
   "metadata": {},
   "outputs": [
    {
     "name": "stdout",
     "output_type": "stream",
     "text": [
      "[1, 2, 3, 0, 1, 2, 3, 4]\n",
      "[1, 2, 3]\n"
     ]
    }
   ],
   "source": [
    "def f(alist,x):\n",
    "    for i in range(x):\n",
    "        alist=alist+[i]\n",
    "    return alist\n",
    "\n",
    "alist = [1,2,3]\n",
    "ans = f(alist,5)\n",
    "print (ans)\n",
    "print (alist)"
   ]
  },
  {
   "cell_type": "markdown",
   "metadata": {},
   "source": [
    "3\\. Write a `decorator` hello that makes every wrapped function print “Hello!”, i.e. something like:\n",
    "\n",
    "```python\n",
    "@hello\n",
    "def square(x):\n",
    "    return x*x\n",
    "```\n",
    "\n"
   ]
  },
  {
   "cell_type": "code",
   "execution_count": 2,
   "metadata": {},
   "outputs": [
    {
     "name": "stdout",
     "output_type": "stream",
     "text": [
      "Hello\n",
      "0\n",
      "1\n",
      "4\n"
     ]
    }
   ],
   "source": [
    "def my_decorator(func):\n",
    "    def wrapper():\n",
    "        print(\"Hello\")\n",
    "        func()\n",
    "    return wrapper\n",
    "\n",
    "\n",
    "def square():\n",
    "    for x in range(3):\n",
    "        print(x*x)\n",
    "\n",
    "square=my_decorator(square)\n",
    "square()"
   ]
  },
  {
   "cell_type": "markdown",
   "metadata": {},
   "source": [
    "4\\. Write the factorial function so that it a) does and b) does not use recursion."
   ]
  },
  {
   "cell_type": "code",
   "execution_count": 33,
   "metadata": {},
   "outputs": [
    {
     "name": "stdout",
     "output_type": "stream",
     "text": [
      "120\n"
     ]
    }
   ],
   "source": [
    "#a\n",
    "def recur_factorial(n):  \n",
    "    if n == 1:  \n",
    "        return n  \n",
    "    else:  \n",
    "        return n*recur_factorial(n-1)\n",
    "\n",
    "#b\n",
    "def not_recur_factorial(n):\n",
    "    factorial=1\n",
    "    for i in range(1,n+1):\n",
    "        factorial=factorial*i\n",
    "    return factorial"
   ]
  },
  {
   "cell_type": "markdown",
   "metadata": {},
   "source": [
    "5\\. Use HOFs (zip in particular) to compute the weight of a circle, a disk and a sphere, assuming different radii and different densities:\n",
    "\n",
    "```python\n",
    "densities = {\"Al\":[0.5,1,2],\"Fe\":[3,4,5],\"Pb\": [15,20,30]}\n",
    "radii = [1,2,3]\n",
    "```\n",
    "\n",
    "where the entries of the dictionary's values are the linear, superficial and volumetric densities of the materials respectively.\n",
    "\n",
    "In particular define a list of three lambda functions using a comprehension that computes the circumference, the area and the volume for a given radius.\n"
   ]
  },
  {
   "cell_type": "code",
   "execution_count": 2,
   "metadata": {},
   "outputs": [
    {
     "name": "stdout",
     "output_type": "stream",
     "text": [
      "weight of Al circle 3.141592653589793 with radius of 1\n",
      "weight of Fe circle 18.84955592153876 with radius of 1\n",
      "weight of Pb circle 94.24777960769379 with radius of 1\n",
      "weight of Al disk 3.141592653589793 with radius of 1\n",
      "weight of Fe disk 12.566370614359172 with radius of 1\n",
      "weight of Pb disk 62.83185307179586 with radius of 1\n",
      "weight of Al sphere 8.377580409572781 with radius of 1\n",
      "weight of Fe sphere 20.94395102393195 with radius of 1\n",
      "weight of Pb sphere 125.66370614359172 with radius of 1\n",
      "weight of Al circle 6.283185307179586 with radius of 2\n",
      "weight of Fe circle 37.69911184307752 with radius of 2\n",
      "weight of Pb circle 188.49555921538757 with radius of 2\n",
      "weight of Al disk 12.566370614359172 with radius of 2\n",
      "weight of Fe disk 50.26548245743669 with radius of 2\n",
      "weight of Pb disk 251.32741228718345 with radius of 2\n",
      "weight of Al sphere 67.02064327658225 with radius of 2\n",
      "weight of Fe sphere 167.5516081914556 with radius of 2\n",
      "weight of Pb sphere 1005.3096491487338 with radius of 2\n",
      "weight of Al circle 9.42477796076938 with radius of 3\n",
      "weight of Fe circle 56.548667764616276 with radius of 3\n",
      "weight of Pb circle 282.7433388230814 with radius of 3\n",
      "weight of Al disk 28.274333882308138 with radius of 3\n",
      "weight of Fe disk 113.09733552923255 with radius of 3\n",
      "weight of Pb disk 565.4866776461628 with radius of 3\n",
      "weight of Al sphere 226.19467105846508 with radius of 3\n",
      "weight of Fe sphere 565.4866776461627 with radius of 3\n",
      "weight of Pb sphere 3392.9200658769764 with radius of 3\n"
     ]
    }
   ],
   "source": [
    "from math import pi\n",
    "\n",
    "circle= lambda r,den: 2*pi*r*den\n",
    "disk= lambda r,den: den*pi*r**2\n",
    "sphere = lambda r,den: den*(4/3)*pi*r**3\n",
    "\n",
    "Al_den=[0.5, 1, 2,\"Al\"]\n",
    "Fe_den=[3,4,5,\"Fe\"]\n",
    "Pb_den=[15,20,30,\"Pb\"]\n",
    "radii=[1,2,3]\n",
    "\n",
    "dn=list(zip(Al_den,Fe_den,Pb_den))\n",
    "\n",
    "for r in radii:\n",
    "    for i in range(0,3):\n",
    "        if i==0:\n",
    "            for j in range(0,3):\n",
    "                w1 = circle(r,dn[i][j])\n",
    "                print(\"weight of\",dn[-1][j], \"circle\",w1,\"with radius of\",r)\n",
    "        elif i==1:\n",
    "            for j in range(0,3):\n",
    "                w2 = disk(r,dn[i][j])\n",
    "                print(\"weight of\",dn[-1][j], \"disk\",w2,\"with radius of\",r)\n",
    "        else:\n",
    "            for j in range(0,3):\n",
    "                w3 = sphere(r,dn[i][j])\n",
    "                print(\"weight of\",dn[-1][j], \"sphere\",w3,\"with radius of\",r)"
   ]
  },
  {
   "cell_type": "markdown",
   "metadata": {},
   "source": [
    "6\\. Edit the class defintion to add an instance attribute of is_hungry = True to the Dog class. Then add a method called eat() which changes the value of is_hungry to False when called. Figure out the best way to feed each dog and then output “My dogs are hungry.” if all are hungry or “My dogs are not hungry.” if all are not hungry. The final output should look like this:\n",
    "\n",
    "`I have 3 dogs. \n",
    "Tom is 6. \n",
    "Fletcher is 7. \n",
    "Larry is 9. \n",
    "And they're all mammals, of course. \n",
    "My dogs are not hungry.\n",
    "`\n",
    "\n",
    "```python\n",
    "# Parent class\n",
    "class Dog:\n",
    "\n",
    "    # Class attribute\n",
    "    species = 'mammal'\n",
    "\n",
    "    # Initializer / Instance attributes\n",
    "    def __init__(self, name, age):\n",
    "        self.name = name\n",
    "        self.age = age\n",
    "\n",
    "    # instance method\n",
    "    def description(self):\n",
    "        return \"{} is {} years old\".format(self.name, self.age)\n",
    "\n",
    "    # instance method\n",
    "    def speak(self, sound):\n",
    "        return \"{} says {}\".format(self.name, sound)\n",
    "\n",
    "# Child class (inherits from Dog class)\n",
    "class RussellTerrier(Dog):\n",
    "    def run(self, speed):\n",
    "        return \"{} runs {}\".format(self.name, speed)\n",
    "\n",
    "# Child class (inherits from Dog class)\n",
    "class Bulldog(Dog):\n",
    "    def run(self, speed):\n",
    "        return \"{} runs {}\".format(self.name, speed)\n",
    "```"
   ]
  },
  {
   "cell_type": "code",
   "execution_count": 5,
   "metadata": {},
   "outputs": [
    {
     "name": "stdout",
     "output_type": "stream",
     "text": [
      "I have 3 dogs.\n",
      "Tom is 6.\n",
      "Fletcher is 7.\n",
      "Larry is 9.\n",
      "And they're all mammals, of course.\n",
      "My dogs are not hungry.\n"
     ]
    }
   ],
   "source": [
    "class Pets:\n",
    "    dogs = []\n",
    "    def __init__(self, dogs):\n",
    "        self.dogs = dogs\n",
    "class Dog:\n",
    "    # Class attribute\n",
    "    species = 'mammal'\n",
    "    \n",
    "    # Initializer / Instance attributes\n",
    "    def __init__(self, name, age):\n",
    "        self.name = name\n",
    "        self.age = age\n",
    "        self.is_hungry = True\n",
    "\n",
    "    # instance method\n",
    "    def description(self):\n",
    "        return \"{} is {} years old\".format(self.name, self.age)\n",
    "\n",
    "    # instance method\n",
    "    def speak(self, sound):\n",
    "        return \"{} says {}\".format(self.name, sound)\n",
    "    \n",
    "    def eat(self):\n",
    "        self.is_hungry = False\n",
    "\n",
    "# Child class (inherits from Dog class)\n",
    "class RussellTerrier(Dog):\n",
    "    def run(self, speed):\n",
    "        return \"{} runs {}\".format(self.name, speed)\n",
    "\n",
    "# Child class (inherits from Dog class)\n",
    "class Bulldog(Dog):\n",
    "    def run(self, speed):\n",
    "        return \"{} runs {}\".format(self.name, speed)\n",
    "    \n",
    "    \n",
    "    \n",
    "my_dogs = [Bulldog(\"Tom\", 6),RussellTerrier(\"Fletcher\", 7),Dog(\"Larry\", 9)]\n",
    "\n",
    "my_pets = Pets(my_dogs)\n",
    "\n",
    "\n",
    "print(\"I have {} dogs.\".format(len(my_pets.dogs)))\n",
    "for dog in my_pets.dogs:\n",
    "    dog.eat()\n",
    "    print(\"{} is {}.\".format(dog.name, dog.age))\n",
    "\n",
    "print(\"And they're all {}s, of course.\".format(dog.species))\n",
    "are_my_dogs_hungry = False\n",
    "for dog in my_pets.dogs:\n",
    "    if dog.is_hungry:\n",
    "        are_my_dogs_hungry = True\n",
    "\n",
    "if are_my_dogs_hungry:\n",
    "    print(\"My dogs are hungry.\")\n",
    "else:\n",
    "    print(\"My dogs are not hungry.\")"
   ]
  },
  {
   "cell_type": "code",
   "execution_count": null,
   "metadata": {},
   "outputs": [],
   "source": []
  }
 ],
 "metadata": {
  "kernelspec": {
   "display_name": "Python 3 (ipykernel)",
   "language": "python",
   "name": "python3"
  },
  "language_info": {
   "codemirror_mode": {
    "name": "ipython",
    "version": 3
   },
   "file_extension": ".py",
   "mimetype": "text/x-python",
   "name": "python",
   "nbconvert_exporter": "python",
   "pygments_lexer": "ipython3",
   "version": "3.8.8"
  }
 },
 "nbformat": 4,
 "nbformat_minor": 2
}
