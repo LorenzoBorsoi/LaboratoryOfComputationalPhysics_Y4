{
 "cells": [
  {
   "cell_type": "markdown",
   "metadata": {},
   "source": [
    "# 1\\. \n",
    "Write the following as a list comprehension"
   ]
  },
  {
   "cell_type": "code",
   "execution_count": 10,
   "metadata": {},
   "outputs": [
    {
     "name": "stdout",
     "output_type": "stream",
     "text": [
      "[(0, 0), (0, 1), (0, 2), (0, 3), (1, 0), (1, 1), (1, 2), (1, 3), (2, 0), (2, 1), (2, 2), (2, 3)]\n",
      "[(0, 0), (0, 1), (0, 2), (0, 3), (1, 0), (1, 1), (1, 2), (1, 3), (2, 0), (2, 1), (2, 2), (2, 3)]\n",
      "[0, 4, 16]\n",
      "[0, 4, 16]\n"
     ]
    }
   ],
   "source": [
    "# 1\n",
    "ans = []\n",
    "for i in range(3):\n",
    "    for j in range(4):\n",
    "        ans.append((i, j))\n",
    "print(ans)\n",
    "\n",
    "# sol\n",
    "ans = [(x, y) for x in range(3) for y in range(4)]\n",
    "print(ans)\n",
    "\n",
    "# 2\n",
    "ans = map(lambda x: x*x, filter(lambda x: x % 2 == 0, range(5)))\n",
    "print(list(ans))\n",
    "\n",
    "# sol\n",
    "ans = [x*x for x in range(5) if x % 2 == 0]\n",
    "print(list(ans))\n"
   ]
  },
  {
   "cell_type": "markdown",
   "metadata": {},
   "source": [
    "# 2\\. \n",
    "Convert the following function into a pure function with no global variables or side effects"
   ]
  },
  {
   "cell_type": "code",
   "execution_count": 22,
   "metadata": {},
   "outputs": [
    {
     "name": "stdout",
     "output_type": "stream",
     "text": [
      "[1, 2, 3, 0, 1, 2, 3, 4]\n",
      "[1, 2, 3, 0, 1, 2, 3, 4]\n",
      "-solution:\n",
      "[1, 2, 3, 0, 1, 2, 3, 4]\n",
      "[1, 2, 3]\n"
     ]
    }
   ],
   "source": [
    "x = 5\n",
    "\n",
    "\n",
    "def f(alist):\n",
    "    for i in range(x):\n",
    "        alist.append(i)\n",
    "    return alist\n",
    "\n",
    "\n",
    "alist = [1, 2, 3]\n",
    "ans = f(alist)\n",
    "print(ans)\n",
    "print(alist)  # alist has been changed!\n",
    "\n",
    "# sol\n",
    "alist = [1, 2, 3]\n",
    "\n",
    "\n",
    "def g(alist, x):\n",
    "    temp = []\n",
    "    for i in range(x):\n",
    "        temp.append(i)\n",
    "    return(alist+temp)\n",
    "\n",
    "\n",
    "ans = g(alist, x)\n",
    "print(\"-solution:\")\n",
    "print(ans)\n",
    "print(alist)\n"
   ]
  },
  {
   "cell_type": "markdown",
   "metadata": {},
   "source": [
    "# 3\\. \n",
    "Write a `decorator` hello that makes every wrapped function print “Hello!”, i.e. something like:\n",
    "\n",
    "```python\n",
    "@hello\n",
    "def square(x):\n",
    "    return x*x\n",
    "```\n",
    "\n"
   ]
  },
  {
   "cell_type": "code",
   "execution_count": 48,
   "metadata": {},
   "outputs": [
    {
     "name": "stdout",
     "output_type": "stream",
     "text": [
      "Hello!\n",
      "4\n"
     ]
    }
   ],
   "source": [
    "def hello(func, *x):\n",
    "    def wrapper(*x):  # unpacking all the arguments of a list\n",
    "        print(\"Hello!\")\n",
    "        return(func(*x))\n",
    "    return wrapper\n",
    "\n",
    "\n",
    "@hello\n",
    "def square(x):\n",
    "    return x*x\n",
    "\n",
    "\n",
    "print(square(2))\n"
   ]
  },
  {
   "cell_type": "markdown",
   "metadata": {},
   "source": [
    "# 4\\. \n",
    "Write the factorial function so that it a) does and b) does not use recursion."
   ]
  },
  {
   "cell_type": "code",
   "execution_count": 76,
   "metadata": {},
   "outputs": [
    {
     "data": {
      "text/plain": [
       "2"
      ]
     },
     "execution_count": 76,
     "metadata": {},
     "output_type": "execute_result"
    }
   ],
   "source": [
    "def prod(x, y):\n",
    "    return x*y\n",
    "\n",
    "\n",
    "reduce(prod, range(1, 3))\n"
   ]
  },
  {
   "cell_type": "code",
   "execution_count": 81,
   "metadata": {},
   "outputs": [
    {
     "name": "stdout",
     "output_type": "stream",
     "text": [
      "[1, 1, 2, 6, 24, 120, 720, 5040, 40320, 362880]\n",
      "[1, 1, 2, 6, 24, 120, 720, 5040, 40320, 362880]\n"
     ]
    }
   ],
   "source": [
    "# recursive solution\n",
    "from functools import reduce\n",
    "\n",
    "\n",
    "def prod(x, y):\n",
    "    return x*y\n",
    "\n",
    "\n",
    "def fac(n):\n",
    "    if n == 0 or n == 1:\n",
    "        return 1\n",
    "    else:\n",
    "        return n*fac(n-1)\n",
    "\n",
    "\n",
    "print([fac(i) for i in range(10)])\n",
    "\n",
    "\n",
    "# non recursive\n",
    "def fac(n):\n",
    "    if n == 0 or n == 1:\n",
    "        return 1\n",
    "    else:\n",
    "        return reduce(prod, range(1, n+1))\n",
    "\n",
    "\n",
    "print([fac(i) for i in range(10)])\n",
    "\n",
    "# reduce\n"
   ]
  },
  {
   "cell_type": "markdown",
   "metadata": {},
   "source": [
    "# 5\\. \n",
    "Use HOFs (zip in particular) to compute the weight of a circle, a disk and a sphere, assuming different radii and different densities:\n",
    "\n",
    "```python\n",
    "densities = {\"Al\":[0.5,1,2],\"Fe\":[3,4,5],\"Pb\": [15,20,30]}\n",
    "radii = [1,2,3]\n",
    "```\n",
    "\n",
    "where the entries of the dictionary's values are the linear, superficial and volumetric densities of the materials respectively.\n",
    "\n",
    "In particular define a list of three lambda functions using a comprehension that computes the circumference, the area and the volume for a given radius.\n"
   ]
  },
  {
   "cell_type": "code",
   "execution_count": 177,
   "metadata": {},
   "outputs": [
    {
     "data": {
      "text/plain": [
       "{'r=1': {'Al': [2.0943951023931953, 4.1887902047863905, 8.377580409572781],\n",
       "  'Fe': [12.566370614359172, 16.755160819145562, 20.94395102393195],\n",
       "  'Pb': [62.831853071795855, 83.7758040957278, 125.66370614359171]},\n",
       " 'r=2': {'Al': [16.755160819145562, 33.510321638291124, 67.02064327658225],\n",
       "  'Fe': [100.53096491487338, 134.0412865531645, 167.5516081914556],\n",
       "  'Pb': [502.65482457436684, 670.2064327658225, 1005.3096491487337]},\n",
       " 'r=3': {'Al': [56.54866776461627, 113.09733552923254, 226.19467105846508],\n",
       "  'Fe': [339.29200658769764, 452.38934211693015, 565.4866776461627],\n",
       "  'Pb': [1696.460032938488, 2261.9467105846506, 3392.920065876976]}}"
      ]
     },
     "execution_count": 177,
     "metadata": {},
     "output_type": "execute_result"
    }
   ],
   "source": [
    "from math import pi\n",
    "\n",
    "densities = {\"Al\": [0.5, 1, 2], \"Fe\": [3, 4, 5], \"Pb\": [15, 20, 30]}\n",
    "radii = [1, 2, 3]\n",
    "dimensions = [1, 2, 3]\n",
    "coeff = [2, 1, 4/3]\n",
    "# volumes =[lambda x: c[1]*pi*x**c[0] for c in enumerate(coeff,1)] it works, it's just less clear\n",
    "volumes = [lambda x: c*pi*x**d for c, d in zip(coeff, dimensions)]\n",
    "\n",
    "\n",
    "def weights(r):\n",
    "    return({material: [densities[material][i]*f(r) for i,f in enumerate(volumes)] for material in densities})\n",
    "\n",
    "\n",
    "mass = {\"r=\"+str(r): weights(r) for r in radii}\n",
    "mass\n"
   ]
  },
  {
   "cell_type": "markdown",
   "metadata": {},
   "source": [
    "# 6\\. \n",
    "Edit the class defintion to add an instance attribute of is_hungry = True to the Dog class. Then add a method called eat() which changes the value of is_hungry to False when called. Figure out the best way to feed each dog and then output “My dogs are hungry.” if all are hungry or “My dogs are not hungry.” if all are not hungry. The final output should look like this:\n",
    "\n",
    "`I have 3 dogs. \n",
    "Tom is 6. \n",
    "Fletcher is 7. \n",
    "Larry is 9. \n",
    "And they're all mammals, of course. \n",
    "My dogs are not hungry.\n",
    "`\n",
    "\n",
    "```python\n",
    "# Parent class\n",
    "class Dog:\n",
    "\n",
    "    # Class attribute\n",
    "    species = 'mammal'\n",
    "\n",
    "    # Initializer / Instance attributes\n",
    "    def __init__(self, name, age):\n",
    "        self.name = name\n",
    "        self.age = age\n",
    "\n",
    "    # instance method\n",
    "    def description(self):\n",
    "        return \"{} is {} years old\".format(self.name, self.age)\n",
    "\n",
    "    # instance method\n",
    "    def speak(self, sound):\n",
    "        return \"{} says {}\".format(self.name, sound)\n",
    "\n",
    "# Child class (inherits from Dog class)\n",
    "class RussellTerrier(Dog):\n",
    "    def run(self, speed):\n",
    "        return \"{} runs {}\".format(self.name, speed)\n",
    "\n",
    "# Child class (inherits from Dog class)\n",
    "class Bulldog(Dog):\n",
    "    def run(self, speed):\n",
    "        return \"{} runs {}\".format(self.name, speed)\n",
    "```"
   ]
  },
  {
   "cell_type": "code",
   "execution_count": 212,
   "metadata": {},
   "outputs": [
    {
     "name": "stdout",
     "output_type": "stream",
     "text": [
      "My dogs are hungry.\n",
      "feeding Tom ...\n",
      "feeding Fletcher ...\n",
      "feeding Larry ...\n",
      "My dogs are not hungry.\n"
     ]
    }
   ],
   "source": [
    "# Parent class\n",
    "class Dog:\n",
    "\n",
    "    # Class attribute\n",
    "    species = 'mammal'\n",
    "\n",
    "    # Initializer / Instance attributes\n",
    "    def __init__(self, name, age):\n",
    "        self.name = name\n",
    "        self.age = age\n",
    "        self.is_hungry = True\n",
    "    # instance method\n",
    "\n",
    "    def description(self):\n",
    "        return \"{} is {} years old\".format(self.name, self.age)\n",
    "\n",
    "    # instance method\n",
    "    def speak(self, sound):\n",
    "        return \"{} says {}\".format(self.name, sound)\n",
    "    def eat(self):\n",
    "        self.is_hungry= False\n",
    "\n",
    "# Child class (inherits from Dog class)\n",
    "class RussellTerrier(Dog):\n",
    "    def run(self, speed):\n",
    "        return \"{} runs {}\".format(self.name, speed)\n",
    "\n",
    "# Child class (inherits from Dog class)\n",
    "class Bulldog(Dog):\n",
    "    def run(self, speed):\n",
    "        return \"{} runs {}\".format(self.name, speed)\n",
    "\n",
    "dogs=[Dog(\"Tom\", 6), Dog(\"Fletcher\",7), Dog(\"Larry\",9) ]\n",
    "def sum(x,y): return x+y\n",
    "def status():\n",
    "    status=0\n",
    "    for i in range(len(dogs)):status+=dogs[i].is_hungry\n",
    "    if status==len(dogs): \n",
    "        print(\"My dogs are hungry.\")\n",
    "    elif status==0: \n",
    "        print(\"My dogs are not hungry.\")\n",
    "    for i in range(len(dogs)): dogs[i].eat()\n",
    "def feed():\n",
    "    for i in range(len(dogs)):\n",
    "        dogs[i].eat()\n",
    "        print(\"feeding\", dogs[i].name,\"...\")\n",
    "status()\n",
    "feed()\n",
    "status()\n"
   ]
  }
 ],
 "metadata": {
  "interpreter": {
   "hash": "d45e406d0e0708198588c4cd422e9b9b922df52c309efe81ad56c437167c4d05"
  },
  "kernelspec": {
   "display_name": "Python 3.7.6 64-bit ('base': conda)",
   "name": "python3"
  },
  "language_info": {
   "codemirror_mode": {
    "name": "ipython",
    "version": 3
   },
   "file_extension": ".py",
   "mimetype": "text/x-python",
   "name": "python",
   "nbconvert_exporter": "python",
   "pygments_lexer": "ipython3",
   "version": "3.7.6"
  }
 },
 "nbformat": 4,
 "nbformat_minor": 2
}
