{
 "cells": [
  {
   "cell_type": "markdown",
   "source": [
    "1\\. Write the following as a list comprehension"
   ],
   "metadata": {
    "collapsed": false
   }
  },
  {
   "cell_type": "code",
   "execution_count": 50,
   "metadata": {},
   "outputs": [
    {
     "name": "stdout",
     "output_type": "stream",
     "text": [
      "ans:\t [(0, 0), (0, 1), (0, 2), (0, 3), (1, 0), (1, 1), (1, 2), (1, 3), (2, 0), (2, 1), (2, 2), (2, 3)]\n",
      "my_ans:\t [(0, 0), (0, 1), (0, 2), (0, 3), (1, 0), (1, 1), (1, 2), (1, 3), (2, 0), (2, 1), (2, 2), (2, 3)]\n",
      "ans:\t [0, 4, 16]\n",
      "my_ans:\t [0, 4, 16]\n"
     ]
    }
   ],
   "source": [
    "# 1\n",
    "ans = []\n",
    "for i in range(3):\n",
    "    for j in range(4):\n",
    "        ans.append((i, j))\n",
    "print (\"ans:\\t\", ans)\n",
    "\n",
    "my_ans = [(i, j) for i in range(3) for j in range(4)]\n",
    "print(\"my_ans:\\t\", my_ans)\n",
    "\n",
    "# 2\n",
    "ans = map(lambda x: x*x, filter(lambda x: x%2 == 0, range(5)))\n",
    "print (\"ans:\\t\", list(ans))\n",
    "\n",
    "my_ans = [x ** 2 for x in range(5) if not x % 2]\n",
    "print(\"my_ans:\\t\", my_ans)"
   ]
  },
  {
   "cell_type": "markdown",
   "metadata": {},
   "source": [
    "2\\. Convert the following function into a pure function with no global variables or side effects"
   ]
  },
  {
   "cell_type": "code",
   "execution_count": 51,
   "metadata": {},
   "outputs": [
    {
     "name": "stdout",
     "output_type": "stream",
     "text": [
      "ans:\t [1, 2, 3, 0, 1, 2, 3, 4]\n",
      "alist:\t [1, 2, 3]\n"
     ]
    }
   ],
   "source": [
    "x = 5\n",
    "def f(lst):\n",
    "    result = list(lst)\n",
    "    for it in range(x):\n",
    "         result.append(it)\n",
    "    return result\n",
    "\n",
    "alist = [1,2,3]\n",
    "ans = f(alist)\n",
    "print (\"ans:\\t\", ans)\n",
    "print (\"alist:\\t\", alist) # alist has been changed!"
   ]
  },
  {
   "cell_type": "markdown",
   "metadata": {},
   "source": [
    "3\\. Write a `decorator` hello that makes every wrapped function print “Hello!”, i.e. something like:"
   ]
  },
  {
   "cell_type": "code",
   "execution_count": 52,
   "outputs": [
    {
     "name": "stdout",
     "output_type": "stream",
     "text": [
      "Hello!\n",
      "25\n",
      "Hello!\n",
      "36\n"
     ]
    }
   ],
   "source": [
    "def hello(foo):\n",
    "    def wrapper(*args, **kwargs):\n",
    "        print(\"Hello!\")\n",
    "        return foo(*args, **kwargs)\n",
    "    return wrapper\n",
    "\n",
    "@hello\n",
    "def square(x):\n",
    "    return x*x\n",
    "\n",
    "print(square(5))\n",
    "print(square(-6))"
   ],
   "metadata": {
    "collapsed": false,
    "pycharm": {
     "name": "#%%\n"
    }
   }
  },
  {
   "cell_type": "markdown",
   "metadata": {},
   "source": [
    "4\\. Write the factorial function so that it a) does and b) does not use recursion."
   ]
  },
  {
   "cell_type": "code",
   "execution_count": 53,
   "outputs": [
    {
     "name": "stdout",
     "output_type": "stream",
     "text": [
      "Recursive: \t1! =  1\n",
      "Not Recursive: \t1! =  1\n",
      "Recursive: \t5! =  120\n",
      "Not Recursive: \t5! =  120\n"
     ]
    }
   ],
   "source": [
    "def recursive_factorial(x):\n",
    "    if x <= 0:\n",
    "        return 1\n",
    "    else:\n",
    "        return x * recursive_factorial(x - 1)\n",
    "\n",
    "\n",
    "def not_recursive_factorial(x):\n",
    "    if not x:\n",
    "        return 1\n",
    "    y = x - 1\n",
    "    while y > 0:\n",
    "        x, y = x * y, y - 1\n",
    "    return x\n",
    "\n",
    "\n",
    "print(\"Recursive: \\t1! = \", recursive_factorial(1))\n",
    "print(\"Not Recursive: \\t1! = \", not_recursive_factorial(1))\n",
    "print(\"Recursive: \\t5! = \", recursive_factorial(5))\n",
    "print(\"Not Recursive: \\t5! = \", not_recursive_factorial(5))"
   ],
   "metadata": {
    "collapsed": false,
    "pycharm": {
     "name": "#%%\n"
    }
   }
  },
  {
   "cell_type": "markdown",
   "metadata": {},
   "source": [
    "5\\. Use HOFs (zip in particular) to compute the weight of a circle, a disk and a sphere, assuming different radii and different densities:\n",
    "\n",
    "```python\n",
    "densities = {\"Al\":[0.5,1,2],\"Fe\":[3,4,5],\"Pb\": [15,20,30]}\n",
    "radii = [1,2,3]\n",
    "```\n",
    "\n",
    "where the entries of the dictionary's values are the linear, superficial and volumetric densities of the materials respectively.\n",
    "\n",
    "In particular define a list of three lambda functions using a comprehension that computes the circumference, the area and the volume for a given radius."
   ]
  },
  {
   "cell_type": "code",
   "execution_count": 54,
   "outputs": [
    {
     "name": "stdout",
     "output_type": "stream",
     "text": [
      "Al mass in 1 dimensions is   2.094 units.  Al mass in 2 dimensions is  33.510 units.  Al mass in 3 dimensions is 226.195 units.  \n",
      "Fe mass in 1 dimensions is  12.566 units.  Fe mass in 2 dimensions is 134.041 units.  Fe mass in 3 dimensions is 565.487 units.  \n",
      "Pb mass in 1 dimensions is  62.832 units.  Pb mass in 2 dimensions is 670.206 units.  Pb mass in 3 dimensions is 3392.920 units.  \n"
     ]
    }
   ],
   "source": [
    "import math as m\n",
    "densities = {\"Al\":[0.5,1,2],\"Fe\":[3,4,5],\"Pb\": [15,20,30]}\n",
    "radii = [1,2,3]\n",
    "# Formula for the volume of a n-ball\n",
    "n_volume = [lambda radius: (m.pi ** (0.5 * n) * (radius ** n)) / m.gamma(0.5 * n + 1) for n in range(1, 4)]\n",
    "for key in densities.keys():\n",
    "    for rho, rad, dim in zip(densities[key], radii, range(3)):\n",
    "        print(f\"{key} mass in {dim + 1} dimensions is {rho * n_volume[dim](rad):7.3f} units.\", end=\"  \")\n",
    "    print()\n"
   ],
   "metadata": {
    "collapsed": false,
    "pycharm": {
     "name": "#%%\n"
    }
   }
  },
  {
   "cell_type": "markdown",
   "metadata": {},
   "source": [
    "6\\. Edit the class defintion to add an instance attribute of is_hungry = True to the Dog class. Then add a method called eat() which changes the value of is_hungry to False when called. Figure out the best way to feed each dog and then output “My dogs are hungry.” if all are hungry or “My dogs are not hungry.” if all are not hungry. The final output should look like this:\n",
    "\n",
    "`I have 3 dogs. \n",
    "Tom is 6. \n",
    "Fletcher is 7. \n",
    "Larry is 9. \n",
    "And they're all mammals, of course. \n",
    "My dogs are not hungry.\n",
    "`"
   ]
  },
  {
   "cell_type": "code",
   "execution_count": 55,
   "outputs": [
    {
     "name": "stdout",
     "output_type": "stream",
     "text": [
      "I have 3 dogs.\n",
      "Tom is 6.\n",
      "Fletcher is 7.\n",
      "Larry is 9.\n",
      "And they are all mammals, of course.\n",
      "My dogs are not hungry.\n"
     ]
    }
   ],
   "source": [
    "# Parent class\n",
    "class Dog:\n",
    "\n",
    "    # Class attribute\n",
    "    species = 'mammal'\n",
    "    is_hungry = True\n",
    "\n",
    "    # Initializer / Instance attributes\n",
    "    def __init__(self, name, age):\n",
    "        self.name = name\n",
    "        self.age = age\n",
    "\n",
    "    # instance method\n",
    "    def description(self):\n",
    "        return \"{} is {} years old\".format(self.name, self.age)\n",
    "\n",
    "    # instance method\n",
    "    def speak(self, sound):\n",
    "        return \"{} says {}\".format(self.name, sound)\n",
    "\n",
    "    def hunger(self):\n",
    "        return self.is_hungry\n",
    "\n",
    "    # instance method\n",
    "    def eat(self):\n",
    "        self.is_hungry = False\n",
    "\n",
    "# Child class (inherits from Dog class)\n",
    "class RussellTerrier(Dog):\n",
    "    def run(self, speed):\n",
    "        return \"{} runs {}\".format(self.name, speed)\n",
    "\n",
    "# Child class (inherits from Dog class)\n",
    "class Bulldog(Dog):\n",
    "    def run(self, speed):\n",
    "        return \"{} runs {}\".format(self.name, speed)\n",
    "\n",
    "# We think the right way is a function decorator, so that we don't have\n",
    "# to modify our class just for this pretty particular functionality.\n",
    "# Possible solution: https://stackoverflow.com/a/22418578\n",
    "def dog_count(foo):\n",
    "    def who_left_the_dogs_out(lst1, lst2, num):\n",
    "        print(\"I have\", num, \"dogs.\")\n",
    "        pack = foo(lst1, lst2, num)\n",
    "        for u, v in zip(lst1, lst2):\n",
    "            print(f\"{u} is {v}.\")\n",
    "        print(\"And they are all mammals, of course.\")\n",
    "        for doggo in pack:\n",
    "            doggo.eat()\n",
    "        for doggo in pack:\n",
    "            if doggo.hunger():\n",
    "                print(\"FAIL\")\n",
    "        print(\"My dogs are not hungry.\")\n",
    "        return pack\n",
    "    return who_left_the_dogs_out\n",
    "\n",
    "\n",
    "names = [\"Tom\", \"Fletcher\", \"Larry\"]\n",
    "ages = [6, 7, 9]\n",
    "@dog_count\n",
    "def dog_copies(names_lst, ages_lst, n):\n",
    "    return [Dog(names_lst[it], ages_lst[it]) for it in range(n)]\n",
    "\n",
    "\n",
    "packo = dog_copies(names, ages, len(names))"
   ],
   "metadata": {
    "collapsed": false,
    "pycharm": {
     "name": "#%%\n"
    }
   }
  },
  {
   "cell_type": "code",
   "execution_count": 55,
   "outputs": [],
   "source": [],
   "metadata": {
    "collapsed": false,
    "pycharm": {
     "name": "#%%\n"
    }
   }
  }
 ],
 "metadata": {
  "kernelspec": {
   "name": "pycharm-e992d7ce",
   "language": "python",
   "display_name": "PyCharm (Intro_Lab)"
  },
  "language_info": {
   "codemirror_mode": {
    "name": "ipython",
    "version": 3
   },
   "file_extension": ".py",
   "mimetype": "text/x-python",
   "name": "python",
   "nbconvert_exporter": "python",
   "pygments_lexer": "ipython3",
   "version": "3.5.4"
  }
 },
 "nbformat": 4,
 "nbformat_minor": 2
}