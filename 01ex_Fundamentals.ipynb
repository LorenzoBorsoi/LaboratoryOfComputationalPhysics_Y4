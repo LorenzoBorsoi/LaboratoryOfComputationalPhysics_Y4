{
 "cells": [
  {
   "cell_type": "markdown",
   "metadata": {},
   "source": [
    "1\\. Write the following as a list comprehension"
   ]
  },
  {
   "cell_type": "code",
   "execution_count": 24,
   "metadata": {},
   "outputs": [
    {
     "name": "stdout",
     "output_type": "stream",
     "text": [
      "ans1 = [(0, 0), (0, 1), (0, 2), (0, 3), (1, 0), (1, 1), (1, 2), (1, 3), (2, 0), (2, 1), (2, 2), (2, 3)]\n",
      "ans2 = [0, 4, 16]\n"
     ]
    }
   ],
   "source": [
    "# 1\n",
    "ans = [(i,j) for i in range(3) for j in range(4)]\n",
    "print (\"ans1 =\", ans)\n",
    "\n",
    "# 2\n",
    "ans = [x*x for x in range(5) if x%2 == 0]\n",
    "print (\"ans2 =\", list(ans))"
   ]
  },
  {
   "cell_type": "markdown",
   "metadata": {},
   "source": [
    "2\\. Convert the following function into a pure function with no global variables or side effects"
   ]
  },
  {
   "cell_type": "code",
   "execution_count": 26,
   "metadata": {},
   "outputs": [
    {
     "name": "stdout",
     "output_type": "stream",
     "text": [
      "ans = [1, 2, 3, 0, 1, 2, 3, 4]\n",
      "alist = [1, 2, 3]\n"
     ]
    }
   ],
   "source": [
    "def f(alist, y):\n",
    "    l = []\n",
    "    for i in range(y):\n",
    "         l.append(i)\n",
    "    return alist + l\n",
    "\n",
    "x = 5\n",
    "alist = [1,2,3]\n",
    "ans = f(alist, x)\n",
    "print (\"ans =\", ans)\n",
    "print (\"alist =\", alist) # alist has not been changed ;)"
   ]
  },
  {
   "cell_type": "markdown",
   "metadata": {},
   "source": [
    "3\\. Write a `decorator` hello that makes every wrapped function print “Hello!”, i.e. something like:\n",
    "\n",
    "```python\n",
    "@hello\n",
    "def square(x):\n",
    "    return x*x\n",
    "```\n",
    "\n"
   ]
  },
  {
   "cell_type": "code",
   "execution_count": 4,
   "metadata": {},
   "outputs": [
    {
     "name": "stdout",
     "output_type": "stream",
     "text": [
      "Hello!\n",
      "144\n"
     ]
    }
   ],
   "source": [
    "def hello(func):\n",
    "    def wrapper(*args, **kwargs):\n",
    "        print(\"Hello!\")\n",
    "        return func(*args, **kwargs)\n",
    "    return wrapper\n",
    "\n",
    "@hello\n",
    "def square(x):\n",
    "    return x*x\n",
    "\n",
    "print(square(12))"
   ]
  },
  {
   "cell_type": "markdown",
   "metadata": {},
   "source": [
    "4\\. Write the factorial function so that it a) does and b) does not use recursion."
   ]
  },
  {
   "cell_type": "code",
   "execution_count": 8,
   "metadata": {},
   "outputs": [
    {
     "name": "stdout",
     "output_type": "stream",
     "text": [
      "120\n",
      "120\n"
     ]
    }
   ],
   "source": [
    "# a)\n",
    "def rec_factorial(n):\n",
    "    if n==0: return 1\n",
    "    elif n>0: return rec_factorial(n-1) * n\n",
    "\n",
    "# b)  \n",
    "def nonrec_factorial(n):\n",
    "    fact = None\n",
    "    if n>=0: fact = 1\n",
    "    \n",
    "    for x in range(1,n+1): fact *= x\n",
    "    return fact\n",
    "\n",
    "print(rec_factorial(5))\n",
    "print(nonrec_factorial(5))"
   ]
  },
  {
   "cell_type": "markdown",
   "metadata": {},
   "source": [
    "5\\. Use HOFs (zip in particular) to compute the weight of a circle, a disk and a sphere, assuming different radii and different densities:\n",
    "\n",
    "```python\n",
    "densities = {\"Al\":[0.5,1,2],\"Fe\":[3,4,5],\"Pb\": [15,20,30]}\n",
    "radii = [1,2,3]\n",
    "```\n",
    "\n",
    "where the entries of the dictionary's values are the linear, superficial and volumetric densities of the materials respectively.\n",
    "\n",
    "In particular define a list of three lambda functions using a comprehension that computes the circumference, the area and the volume for a given radius.\n"
   ]
  },
  {
   "cell_type": "code",
   "execution_count": 10,
   "metadata": {},
   "outputs": [
    {
     "name": "stdout",
     "output_type": "stream",
     "text": [
      "{'el=Al, r=1': [3.141592653589793, 12.566370614359172, 8.377580409572781], 'el=Al, r=2': [6.283185307179586, 50.26548245743669, 67.02064327658225], 'el=Al, r=3': [9.42477796076938, 113.09733552923255, 226.19467105846508], 'el=Fe, r=1': [18.84955592153876, 50.26548245743669, 20.94395102393195], 'el=Fe, r=2': [37.69911184307752, 201.06192982974676, 167.5516081914556], 'el=Fe, r=3': [56.548667764616276, 452.3893421169302, 565.4866776461627], 'el=Pb, r=1': [94.24777960769379, 251.32741228718345, 125.66370614359171], 'el=Pb, r=2': [188.49555921538757, 1005.3096491487338, 1005.3096491487337], 'el=Pb, r=3': [282.7433388230814, 2261.946710584651, 3392.920065876976]}\n"
     ]
    }
   ],
   "source": [
    "from numpy import pi\n",
    "densities = {\"Al\":[0.5,1,2],\"Fe\":[3,4,5],\"Pb\": [15,20,30]}\n",
    "radii = [1,2,3]\n",
    "form_factors = [2*pi, 4*pi, 4*pi/3]\n",
    "\n",
    "functions = [lambda r, factor=ffs, order=i: factor*(r**order) for ffs,i in zip(form_factors,range(1,4))]\n",
    "weights = {}\n",
    "\n",
    "# iterate for every element and for every radius\n",
    "# every list contains, respectively, the weights of circumference, area, volume\n",
    "for el in densities:\n",
    "    for r in radii:\n",
    "        weights[\"el=\"+el+\", r=\"+str(r)] = [d*fun(r) for d,fun in zip(densities[el],functions)]\n",
    "    \n",
    "print(weights)"
   ]
  },
  {
   "cell_type": "markdown",
   "metadata": {},
   "source": [
    "6\\. Edit the class defintion to add an instance attribute of is_hungry = True to the Dog class. Then add a method called eat() which changes the value of is_hungry to False when called. Figure out the best way to feed each dog and then output “My dogs are hungry.” if all are hungry or “My dogs are not hungry.” if all are not hungry. The final output should look like this:\n",
    "\n",
    "`I have 3 dogs. \n",
    "Tom is 6. \n",
    "Fletcher is 7. \n",
    "Larry is 9. \n",
    "And they're all mammals, of course. \n",
    "My dogs are not hungry.\n",
    "`"
   ]
  },
  {
   "cell_type": "code",
   "execution_count": 11,
   "metadata": {},
   "outputs": [],
   "source": [
    "# Parent class\n",
    "class Dog:\n",
    "\n",
    "    # Class attribute\n",
    "    species = 'mammal'\n",
    "\n",
    "    # Initializer / Instance attributes\n",
    "    def __init__(self, name, age):\n",
    "        self.name = name\n",
    "        self.age = age\n",
    "        self.is_hungry = True\n",
    "\n",
    "    # instance method\n",
    "    def description(self):\n",
    "        return \"{} is {} years old.\".format(self.name, self.age)\n",
    "\n",
    "    # instance method\n",
    "    def speak(self, sound):\n",
    "        return \"{} says {}\".format(self.name, sound)\n",
    "    \n",
    "    # instance method\n",
    "    def eat(self):\n",
    "        self.is_hungry = False\n",
    "        return\n",
    "\n",
    "# Child class (inherits from Dog class)\n",
    "class RussellTerrier(Dog):\n",
    "    def run(self, speed):\n",
    "        return \"{} runs {}\".format(self.name, speed)\n",
    "\n",
    "# Child class (inherits from Dog class)\n",
    "class Bulldog(Dog):\n",
    "    def run(self, speed):\n",
    "        return \"{} runs {}\".format(self.name, speed)\n",
    "    \n",
    "    \n"
   ]
  },
  {
   "cell_type": "code",
   "execution_count": 12,
   "metadata": {},
   "outputs": [
    {
     "name": "stdout",
     "output_type": "stream",
     "text": [
      "Before the feeding: My dogs are hungry. \n",
      "\n",
      "Now I feed 'em... \n",
      "\n",
      "I have  3  dogs\n",
      "Tom is 6 years old.\n",
      "Fletcher is 7 years old.\n",
      "Larry is 9 years old.\n",
      "They are all mammals.\n",
      "My dogs are not hungry.\n"
     ]
    }
   ],
   "source": [
    "def are_hungry(dogs):\n",
    "    \"\"\" function that outputs if the dog are hungry \"\"\"\n",
    "    \n",
    "    all_hungry = True\n",
    "    noone_hungry = True\n",
    "    \n",
    "    for d in dogs:\n",
    "        all_hungry = all_hungry and d.is_hungry\n",
    "        noone_hungry = noone_hungry and not(d.is_hungry)\n",
    "    \n",
    "    if all_hungry == True: return \"My dogs are hungry.\"\n",
    "    elif noone_hungry == True: return \"My dogs are not hungry.\"\n",
    "    else: return \"Some of my dogs are hungry.\"\n",
    "\n",
    "    \n",
    "# instantiate the three dogs\n",
    "dogs = [Dog(\"Tom\",6), RussellTerrier(\"Fletcher\",7), Bulldog(\"Larry\",9)]\n",
    "print(\"Before the feeding:\", are_hungry(dogs), \"\\n\")\n",
    "\n",
    "# feed the dogs\n",
    "print(\"Now I feed 'em... \\n\")\n",
    "for d in dogs: d.eat()\n",
    "    \n",
    "# final output\n",
    "print(\"I have \", len(dogs), \" dogs\")\n",
    "for d in dogs: print(d.description())\n",
    "print(\"They are all \"+ dogs[0].species +\"s.\")\n",
    "print(are_hungry(dogs))"
   ]
  },
  {
   "cell_type": "code",
   "execution_count": null,
   "metadata": {},
   "outputs": [],
   "source": []
  }
 ],
 "metadata": {
  "kernelspec": {
   "display_name": "Python 3 (ipykernel)",
   "language": "python",
   "name": "python3"
  },
  "language_info": {
   "codemirror_mode": {
    "name": "ipython",
    "version": 3
   },
   "file_extension": ".py",
   "mimetype": "text/x-python",
   "name": "python",
   "nbconvert_exporter": "python",
   "pygments_lexer": "ipython3",
   "version": "3.8.12"
  }
 },
 "nbformat": 4,
 "nbformat_minor": 2
}
