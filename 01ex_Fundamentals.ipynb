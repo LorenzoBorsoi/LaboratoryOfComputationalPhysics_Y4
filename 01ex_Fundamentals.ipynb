{
 "cells": [
  {
   "cell_type": "markdown",
   "metadata": {},
   "source": [
    "1\\. Write the following as a list comprehension"
   ]
  },
  {
   "cell_type": "code",
   "execution_count": 7,
   "metadata": {},
   "outputs": [
    {
     "name": "stdout",
     "output_type": "stream",
     "text": [
      "[(0, 0), (0, 1), (0, 2), (0, 3), (1, 0), (1, 1), (1, 2), (1, 3), (2, 0), (2, 1), (2, 2), (2, 3)]\n",
      "[(0, 0), (0, 1), (0, 2), (0, 3), (1, 0), (1, 1), (1, 2), (1, 3), (2, 0), (2, 1), (2, 2), (2, 3)]\n",
      "[0, 4, 16]\n",
      "[0, 4, 16]\n"
     ]
    }
   ],
   "source": [
    "# 1\n",
    "ans = []\n",
    "for i in range(3):\n",
    "    for j in range(4):\n",
    "        ans.append((i, j))\n",
    "print (ans)\n",
    "\n",
    "ans = [(i,j) for i in range(3) for j in range(4)]\n",
    "print(ans)\n",
    "\n",
    "# 2\n",
    "ans = map(lambda x: x*x, filter(lambda x: x%2 == 0, range(5)))\n",
    "print (list(ans))\n",
    "\n",
    "ans= [x**2 for x in range(5) if x%2==0]\n",
    "print(ans)\n",
    "\n",
    "\n"
   ]
  },
  {
   "cell_type": "markdown",
   "metadata": {},
   "source": [
    "2\\. Convert the following function into a pure function with no global variables or side effects"
   ]
  },
  {
   "cell_type": "code",
   "execution_count": 14,
   "metadata": {},
   "outputs": [
    {
     "name": "stdout",
     "output_type": "stream",
     "text": [
      "[1, 2, 3, 0, 1, 2, 3, 4]\n",
      "[1, 2, 3]\n"
     ]
    }
   ],
   "source": [
    "# x = 5\n",
    "# def f(alist):\n",
    "#     for i in range(x):\n",
    "#          alist.append(i)\n",
    "#     return alist\n",
    "\n",
    "# alist = [1,2,3]\n",
    "# ans = f(alist)\n",
    "# print (ans)\n",
    "# print (alist) # alist has been changed!\n",
    "\n",
    "\n",
    "def f(alist,y):\n",
    "    copy=alist.copy()\n",
    "    for i in range(y):\n",
    "         copy.append(i)\n",
    "    return copy\n",
    "\n",
    "x = 5\n",
    "alist = [1,2,3]\n",
    "ans = f(alist,x)\n",
    "print (ans)\n",
    "print (alist) # alist has not been changed!"
   ]
  },
  {
   "cell_type": "markdown",
   "metadata": {},
   "source": [
    "3\\. Write a `decorator` hello that makes every wrapped function print “Hello!”, i.e. something like:\n",
    "\n",
    "```python\n",
    "@hello\n",
    "def square(x):\n",
    "    return x*x\n",
    "```\n",
    "\n"
   ]
  },
  {
   "cell_type": "code",
   "execution_count": 73,
   "metadata": {},
   "outputs": [],
   "source": [
    "def hello(func):\n",
    "    def function_wrapper(*args,**kwargs):\n",
    "        print(\"Hello!\")\n",
    "        return func(*args,**kwargs)\n",
    "    return function_wrapper\n",
    "\n",
    "@hello\n",
    "def square(n):\n",
    "    return n*n"
   ]
  },
  {
   "cell_type": "markdown",
   "metadata": {},
   "source": [
    "4\\. Write the factorial function so that it a) does and b) does not use recursion."
   ]
  },
  {
   "cell_type": "code",
   "execution_count": 85,
   "metadata": {},
   "outputs": [
    {
     "name": "stdout",
     "output_type": "stream",
     "text": [
      "1\n",
      "120\n"
     ]
    }
   ],
   "source": [
    "#With recursion:\n",
    "def factorial(n):\n",
    "    if n == 1 or n==0:\n",
    "        return 1\n",
    "    else:\n",
    "        return n * factorial(n-1)\n",
    "\n",
    "#Without recursion\n",
    "def factorial_2(n):\n",
    "    fact=1\n",
    "    for i in range(1,n+1): fact*=i\n",
    "    return fact"
   ]
  },
  {
   "cell_type": "markdown",
   "metadata": {},
   "source": [
    "5\\. Use HOFs (zip in particular) to compute the weight of a circle, a disk and a sphere, assuming different radii and different densities:\n",
    "\n",
    "```python\n",
    "densities = {\"Al\":[0.5,1,2],\"Fe\":[3,4,5],\"Pb\": [15,20,30]}\n",
    "radii = [1,2,3]\n",
    "```\n",
    "\n",
    "where the entries of the dictionary's values are the linear, superficial and volumetric densities of the materials respectively.\n",
    "\n",
    "In particular define a list of three lambda functions using a comprehension that computes the circumference, the area and the volume for a given radius.\n"
   ]
  },
  {
   "cell_type": "code",
   "execution_count": 219,
   "metadata": {},
   "outputs": [
    {
     "name": "stdout",
     "output_type": "stream",
     "text": [
      "Circle Weight:\n",
      "[Al, Fe, Pb]= (0.5, 3, 15) \n",
      "\n",
      "Radius = 1\n",
      "Al:  3.141592653589793\n",
      "Fe:  18.84955592153876\n",
      "Pb:  94.24777960769379\n",
      "Radius = 2\n",
      "Al:  6.283185307179586\n",
      "Fe:  37.69911184307752\n",
      "Pb:  188.49555921538757\n",
      "Radius = 3\n",
      "Al:  9.42477796076938\n",
      "Fe:  56.548667764616276\n",
      "Pb:  282.7433388230814\n",
      "\n",
      "\n",
      "Disk Weight:\n",
      "[Al, Fe, Pb]= (1, 4, 20) \n",
      "\n",
      "Radius = 1\n",
      "Al:  3.141592653589793\n",
      "Fe:  12.566370614359172\n",
      "Pb:  62.83185307179586\n",
      "Radius = 2\n",
      "Al:  12.566370614359172\n",
      "Fe:  50.26548245743669\n",
      "Pb:  251.32741228718345\n",
      "Radius = 3\n",
      "Al:  28.274333882308138\n",
      "Fe:  113.09733552923255\n",
      "Pb:  565.4866776461628\n",
      "\n",
      "\n",
      "Sphere Weight:\n",
      "[Al, Fe, Pb]= (2, 5, 30) \n",
      "\n",
      "Radius = 1\n",
      "Al:  8.377580409572781\n",
      "Fe:  20.94395102393195\n",
      "Pb:  125.66370614359171\n",
      "Radius = 2\n",
      "Al:  67.02064327658225\n",
      "Fe:  167.5516081914556\n",
      "Pb:  1005.3096491487337\n",
      "Radius = 3\n",
      "Al:  226.19467105846508\n",
      "Fe:  565.4866776461627\n",
      "Pb:  3392.920065876976\n",
      "\n",
      "\n"
     ]
    }
   ],
   "source": [
    "from math import pi\n",
    "\n",
    "densities = {\"Al\":[0.5,1,2],\"Fe\":[3,4,5],\"Pb\": [15,20,30]}\n",
    "radii = [1,2,3]\n",
    "names=['Al: ','Fe: ','Pb: ']\n",
    "\n",
    "# print(list(map(lambda x: x*x, range(5))))\n",
    "\n",
    "for j,set in enumerate(list(zip(densities['Al'], densities['Fe'], densities['Pb']))):\n",
    "    if j==0:\n",
    "        print(\"Circle Weight:\")\n",
    "        print(\"[Al, Fe, Pb]=\",set,'\\n')\n",
    "        for r in radii:\n",
    "            print(\"Radius =\",r)\n",
    "            for i,w in enumerate(map(lambda dens: 2*pi*r*dens, set)): print(names[i],w)\n",
    "        print('\\n')\n",
    "        \n",
    "    if j==1:\n",
    "        print(\"Disk Weight:\")\n",
    "        print(\"[Al, Fe, Pb]=\",set,'\\n')\n",
    "        for r in radii:\n",
    "            print(\"Radius =\",r)\n",
    "            for i,w in enumerate(map(lambda dens: pi*dens*r**2, set)): print(names[i],w)\n",
    "        print('\\n')\n",
    "    \n",
    "    if j==2:\n",
    "        print(\"Sphere Weight:\")\n",
    "        print(\"[Al, Fe, Pb]=\",set,'\\n')\n",
    "        for r in radii:\n",
    "            print(\"Radius =\",r)\n",
    "            for i,w in enumerate(map(lambda dens: 4/3*pi*dens*r**3, set)): print(names[i],w)\n",
    "        print('\\n')"
   ]
  },
  {
   "cell_type": "markdown",
   "metadata": {},
   "source": [
    "6\\. Edit the class defintion to add an instance attribute of is_hungry = True to the Dog class. Then add a method called eat() which changes the value of is_hungry to False when called. Figure out the best way to feed each dog and then output “My dogs are hungry.” if all are hungry or “My dogs are not hungry.” if all are not hungry. The final output should look like this:\n",
    "\n",
    "`I have 3 dogs. \n",
    "Tom is 6. \n",
    "Fletcher is 7. \n",
    "Larry is 9. \n",
    "And they're all mammals, of course. \n",
    "My dogs are not hungry.\n",
    "`\n",
    "\n",
    "```python\n",
    "# Parent class\n",
    "class Dog:\n",
    "\n",
    "    # Class attribute\n",
    "    species = 'mammal'\n",
    "\n",
    "    # Initializer / Instance attributes\n",
    "    def __init__(self, name, age):\n",
    "        self.name = name\n",
    "        self.age = age\n",
    "\n",
    "    # instance method\n",
    "    def description(self):\n",
    "        return \"{} is {} years old\".format(self.name, self.age)\n",
    "\n",
    "    # instance method\n",
    "    def speak(self, sound):\n",
    "        return \"{} says {}\".format(self.name, sound)\n",
    "\n",
    "# Child class (inherits from Dog class)\n",
    "class RussellTerrier(Dog):\n",
    "    def run(self, speed):\n",
    "        return \"{} runs {}\".format(self.name, speed)\n",
    "\n",
    "# Child class (inherits from Dog class)\n",
    "class Bulldog(Dog):\n",
    "    def run(self, speed):\n",
    "        return \"{} runs {}\".format(self.name, speed)\n",
    "```"
   ]
  },
  {
   "cell_type": "code",
   "execution_count": 246,
   "metadata": {},
   "outputs": [
    {
     "name": "stdout",
     "output_type": "stream",
     "text": [
      "I have 3 dogs\n",
      "Tom is 6 years old\n",
      "Fletcher is 7 years old\n",
      "Larry is 9 years old\n",
      "And they're all mammals, of course.\n",
      "My dogs are not hungry\n"
     ]
    }
   ],
   "source": [
    "# Parent class\n",
    "class Dog:\n",
    "\n",
    "    # Class attribute\n",
    "    species = 'mammal'\n",
    "\n",
    "    # Initializer / Instance attributes\n",
    "    def __init__(self, name, age, is_hungry=True):\n",
    "        self.name = name\n",
    "        self.age = age\n",
    "        self.is_hungry = is_hungry\n",
    "\n",
    "    # instance method\n",
    "    def description(self):\n",
    "        return \"{} is {} years old\".format(self.name, self.age)\n",
    "\n",
    "    # instance method\n",
    "    def speak(self, sound):\n",
    "        return \"{} says {}\".format(self.name, sound)\n",
    "    \n",
    "    # instance method\n",
    "    def eat(self):\n",
    "        self.is_hungry=False\n",
    "\n",
    "# Child class (inherits from Dog class)\n",
    "class RussellTerrier(Dog):\n",
    "    def run(self, speed):\n",
    "        return \"{} runs {}\".format(self.name, speed)\n",
    "\n",
    "# Child class (inherits from Dog class)\n",
    "class Bulldog(Dog):\n",
    "    def run(self, speed):\n",
    "        return \"{} runs {}\".format(self.name, speed)\n",
    "    \n",
    "\n",
    "    \n",
    "    \n",
    "# I have 3 dogs. \n",
    "# Tom is 6. \n",
    "# Fletcher is 7. \n",
    "# Larry is 9. \n",
    "# And they're all mammals, of course. \n",
    "# My dogs are not hungry. \n",
    "\n",
    "def presentations(list_of_dogs):\n",
    "    print(\"I have\",len(list_of_dogs),\"dogs\")\n",
    "   \n",
    "    for dog in list_of_dogs:\n",
    "        print(dog.description())\n",
    "    \n",
    "    if all(dog.species== 'mammal' for dog in list_of_dogs):\n",
    "        print(\"And they're all mammals, of course.\")\n",
    "    \n",
    "    if all(dog.is_hungry for dog in list_of_dogs): print(\"My dogs are hungry.\")\n",
    "    elif all(dog.is_hungry==False for dog in list_of_dogs): print(\"My dogs are not hungry\")\n",
    "    else: print(\"Just some dogs are hungry\")\n",
    "\n",
    "t=Dog('Tom',6)\n",
    "f=Dog('Fletcher',7)\n",
    "l=Dog('Larry',9)\n",
    "mydogs=[t,f,l]\n",
    "\n",
    "for dog in mydogs: dog.eat()\n",
    "presentations(mydogs)    \n",
    "    "
   ]
  },
  {
   "cell_type": "code",
   "execution_count": null,
   "metadata": {},
   "outputs": [],
   "source": []
  }
 ],
 "metadata": {
  "kernelspec": {
   "display_name": "Python 3",
   "language": "python",
   "name": "python3"
  },
  "language_info": {
   "codemirror_mode": {
    "name": "ipython",
    "version": 3
   },
   "file_extension": ".py",
   "mimetype": "text/x-python",
   "name": "python",
   "nbconvert_exporter": "python",
   "pygments_lexer": "ipython3",
   "version": "3.8.10"
  }
 },
 "nbformat": 4,
 "nbformat_minor": 2
}
