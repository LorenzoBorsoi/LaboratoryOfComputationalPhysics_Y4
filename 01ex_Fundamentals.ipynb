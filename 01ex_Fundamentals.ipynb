{
 "cells": [
  {
   "cell_type": "markdown",
   "metadata": {},
   "source": [
    "1\\. Write the following as a list comprehension"
   ]
  },
  {
   "cell_type": "code",
   "execution_count": 6,
   "metadata": {},
   "outputs": [
    {
     "name": "stdout",
     "output_type": "stream",
     "text": [
      "[(0, 0), (0, 1), (0, 2), (0, 3), (1, 0), (1, 1), (1, 2), (1, 3), (2, 0), (2, 1), (2, 2), (2, 3)]\n",
      "[0, 4, 16]\n",
      "[(0, 0), (0, 1), (0, 2), (0, 3), (1, 0), (1, 1), (1, 2), (1, 3), (2, 0), (2, 1), (2, 2), (2, 3)]\n",
      "[0, 4, 16]\n"
     ]
    }
   ],
   "source": [
    "# 1\n",
    "ans = []\n",
    "for i in range(3):\n",
    "    for j in range(4):\n",
    "        ans.append((i, j))\n",
    "print (ans)\n",
    "\n",
    "# 2\n",
    "ans = map(lambda x: x*x, filter(lambda x: x%2 == 0, range(5)))\n",
    "print (list(ans))\n",
    "\n",
    "# my 1\n",
    "l=[(x,y) for x in range(3) for y in range(4)]\n",
    "print(l)\n",
    "\n",
    "# my 2\n",
    "g=[z*z for z in range(5) if z%2==0]\n",
    "print(g)"
   ]
  },
  {
   "cell_type": "markdown",
   "metadata": {},
   "source": [
    "2\\. Convert the following function into a pure function with no global variables or side effects"
   ]
  },
  {
   "cell_type": "code",
   "execution_count": 11,
   "metadata": {},
   "outputs": [
    {
     "name": "stdout",
     "output_type": "stream",
     "text": [
      "[1, 2, 3, 0, 1, 2, 3, 4]\n",
      "[1, 2, 3, 0, 1, 2, 3, 4]\n",
      "[2, 3, 4, 0, 1, 2, 3, 4]\n"
     ]
    }
   ],
   "source": [
    "x = 5\n",
    "def f(alist):\n",
    "    for i in range(x):\n",
    "         alist.append(i)\n",
    "    return alist\n",
    "\n",
    "alist = [1,2,3]\n",
    "ans = f(alist)\n",
    "print (ans)\n",
    "print (alist) # alist has been changed!\n",
    "\n",
    "# my function \n",
    "def h(alist1,s):\n",
    "    for a in range(s):\n",
    "        alist1.append(a)\n",
    "    return alist1\n",
    "alist1=[2,3,4]\n",
    "print(h(alist1,5))"
   ]
  },
  {
   "cell_type": "markdown",
   "metadata": {},
   "source": [
    "3\\. Write a `decorator` hello that makes every wrapped function print “Hello!”, i.e. something like:\n",
    "\n",
    "```python\n",
    "@hello\n",
    "def square(x):\n",
    "    return x*x\n",
    "```\n",
    "\n"
   ]
  },
  {
   "cell_type": "code",
   "execution_count": 73,
   "metadata": {},
   "outputs": [
    {
     "name": "stdout",
     "output_type": "stream",
     "text": [
      "Hello!\n",
      "529\n",
      "------------------------------\n",
      "Hello!\n",
      "529\n",
      "------------------------------\n",
      "Hello!\n",
      "529\n"
     ]
    }
   ],
   "source": [
    "# modo 1\n",
    "def hello(func):\n",
    "    def wrapped(x):\n",
    "        print(\"Hello!\")\n",
    "        print(func(x))\n",
    "    return wrapped\n",
    "\n",
    "@hello\n",
    "def square(x):\n",
    "    return x*x\n",
    "square(23)\n",
    "\n",
    "print(\"------------------------------\")\n",
    "\n",
    "#modo 2\n",
    "def hello(func):\n",
    "    def wrapped(x):\n",
    "        print(\"Hello!\")\n",
    "        func(x)\n",
    "    return wrapped\n",
    "\n",
    "@hello\n",
    "def square(x):\n",
    "     print(x*x)\n",
    "square(23)\n",
    "\n",
    "print(\"------------------------------\")\n",
    "\n",
    "#modo 3\n",
    "def hello(func):\n",
    "    def wrapped(x):\n",
    "        print(\"Hello!\")\n",
    "        return (func(x))\n",
    "    return wrapped\n",
    "\n",
    "@hello\n",
    "def square(x):\n",
    "     print(x*x)\n",
    "square(23)"
   ]
  },
  {
   "cell_type": "markdown",
   "metadata": {},
   "source": [
    "4\\. Write the factorial function so that it a) does and b) does not use recursion."
   ]
  },
  {
   "cell_type": "code",
   "execution_count": 37,
   "metadata": {},
   "outputs": [
    {
     "name": "stdout",
     "output_type": "stream",
     "text": [
      "720\n",
      "720\n"
     ]
    }
   ],
   "source": [
    "#recursive function\n",
    "def factorial(a):\n",
    "    if a==1:\n",
    "        return 1\n",
    "    else:\n",
    "         return (a*factorial(a-1))\n",
    "print(factorial(6))\n",
    "\n",
    "#not recursive function\n",
    "from functools import reduce\n",
    "def factorial1(a):\n",
    "    if a==1 or a==0:\n",
    "        return 1\n",
    "    else:\n",
    "        k=[]\n",
    "        for i in range(1,a+1):\n",
    "            k.append(i)\n",
    "    return(reduce(lambda x,y:x*y,k))\n",
    "print(factorial1(6))"
   ]
  },
  {
   "cell_type": "markdown",
   "metadata": {},
   "source": [
    "5\\. Use HOFs (zip in particular) to compute the weight of a circle, a disk and a sphere, assuming different radii and different densities:\n",
    "\n",
    "```python\n",
    "densities = {\"Al\":[0.5,1,2],\"Fe\":[3,4,5],\"Pb\": [15,20,30]}\n",
    "radii = [1,2,3]\n",
    "```\n",
    "\n",
    "where the entries of the dictionary's values are the linear, superficial and volumetric densities of the materials respectively.\n",
    "\n",
    "In particular define a list of three lambda functions using a comprehension that computes the circumference, the area and the volume for a given radius."
   ]
  },
  {
   "cell_type": "code",
   "execution_count": 76,
   "metadata": {},
   "outputs": [
    {
     "name": "stdout",
     "output_type": "stream",
     "text": [
      "*Al weight (circle, disk, sphere)*:\n",
      " r=1:\n",
      "3.141592653589793\n",
      "3.141592653589793\n",
      "8.377580409572781\n",
      " r=2:\n",
      "6.283185307179586\n",
      "12.566370614359172\n",
      "67.02064327658225\n",
      " r=3:\n",
      "9.42477796076938\n",
      "28.274333882308138\n",
      "226.19467105846508\n",
      "----------------------------------------------\n",
      "*Fe weight (circle, disk, sphere)*\n",
      " r=1:\n",
      "18.84955592153876\n",
      "12.566370614359172\n",
      "20.94395102393195\n",
      " r=2:\n",
      "37.69911184307752\n",
      "50.26548245743669\n",
      "167.5516081914556\n",
      " r=3:\n",
      "56.548667764616276\n",
      "113.09733552923255\n",
      "565.4866776461627\n",
      "----------------------------------------------\n",
      "*Pb weight (circle, disk, sphere)*\n",
      " r=1:\n",
      "94.24777960769379\n",
      "62.83185307179586\n",
      "125.66370614359171\n",
      " r=2:\n",
      "188.49555921538757\n",
      "251.32741228718345\n",
      "1005.3096491487337\n",
      " r=3:\n",
      "282.7433388230814\n",
      "565.4866776461628\n",
      "3392.920065876976\n"
     ]
    }
   ],
   "source": [
    "import math as m\n",
    "\n",
    "densities = {\"Al\":[0.5,1,2],\"Fe\":[3,4,5],\"Pb\": [15,20,30]}\n",
    "\n",
    "def circ(x): return 2*m.pi*x\n",
    "def are(x): return m.pi*x**2\n",
    "def vol(x): return 4/3*m.pi*x**3\n",
    "\n",
    "r1=[circ(1),are(1),vol(1)]\n",
    "r2=[circ(2),are(2),vol(2)]\n",
    "r3=[circ(3),are(3),vol(3)]\n",
    "\n",
    "print(\"*Al weight (circle, disk, sphere)*:\")\n",
    "print(\" r=1:\")\n",
    "for x,y in zip(r1,densities[\"Al\"]):\n",
    "    print(x*y)\n",
    "print(\" r=2:\")\n",
    "for x,y in zip(r2,densities[\"Al\"]):\n",
    "    print(x*y)\n",
    "print(\" r=3:\")\n",
    "for x,y in zip(r3,densities[\"Al\"]):\n",
    "    print(x*y)\n",
    "print(\"----------------------------------------------\")\n",
    "print(\"*Fe weight (circle, disk, sphere)*\")\n",
    "print(\" r=1:\")\n",
    "for x,y in zip(r1,densities[\"Fe\"]):\n",
    "    print(x*y)\n",
    "print(\" r=2:\")\n",
    "for x,y in zip(r2,densities[\"Fe\"]):\n",
    "    print(x*y)\n",
    "print(\" r=3:\")\n",
    "for x,y in zip(r3,densities[\"Fe\"]):\n",
    "    print(x*y)\n",
    "print(\"----------------------------------------------\")\n",
    "print(\"*Pb weight (circle, disk, sphere)*\")\n",
    "print(\" r=1:\")\n",
    "for x,y in zip(r1,densities[\"Pb\"]):\n",
    "    print(x*y)\n",
    "print(\" r=2:\")\n",
    "for x,y in zip(r2,densities[\"Pb\"]):\n",
    "    print(x*y)\n",
    "print(\" r=3:\")\n",
    "for x,y in zip(r3,densities[\"Pb\"]):\n",
    "    print(x*y)\n",
    "\n"
   ]
  },
  {
   "cell_type": "markdown",
   "metadata": {},
   "source": [
    "6\\. Edit the class defintion to add an instance attribute of is_hungry = True to the Dog class. Then add a method called eat() which changes the value of is_hungry to False when called. Figure out the best way to feed each dog and then output “My dogs are hungry.” if all are hungry or “My dogs are not hungry.” if all are not hungry. The final output should look like this:\n",
    "\n",
    "`I have 3 dogs. \n",
    "Tom is 6. \n",
    "Fletcher is 7. \n",
    "Larry is 9. \n",
    "And they're all mammals, of course. \n",
    "My dogs are not hungry.\n",
    "`\n",
    "\n",
    "```python\n",
    "# Parent class\n",
    "class Dog:\n",
    "\n",
    "    # Class attribute\n",
    "    species = 'mammal'\n",
    "\n",
    "    # Initializer / Instance attributes\n",
    "    def __init__(self, name, age):\n",
    "        self.name = name\n",
    "        self.age = age\n",
    "\n",
    "    # instance method\n",
    "    def description(self):\n",
    "        return \"{} is {} years old\".format(self.name, self.age)\n",
    "\n",
    "    # instance method\n",
    "    def speak(self, sound):\n",
    "        return \"{} says {}\".format(self.name, sound)\n",
    "\n",
    "# Child class (inherits from Dog class)\n",
    "class RussellTerrier(Dog):\n",
    "    def run(self, speed):\n",
    "        return \"{} runs {}\".format(self.name, speed)\n",
    "\n",
    "# Child class (inherits from Dog class)\n",
    "class Bulldog(Dog):\n",
    "    def run(self, speed):\n",
    "        return \"{} runs {}\".format(self.name, speed)\n",
    "```"
   ]
  },
  {
   "cell_type": "code",
   "execution_count": 13,
   "metadata": {},
   "outputs": [
    {
     "name": "stdout",
     "output_type": "stream",
     "text": [
      "I have 3 dogs:\n",
      "Ermes is 13 years old.\n",
      "Poldo is 5 years old.\n",
      "Spike is 7 years old.\n",
      "They are all mammal, of course.\n",
      "My dogs are hungry!\n",
      "Let's feed them...\n",
      "My dogs are not hungry.\n"
     ]
    }
   ],
   "source": [
    "class Dog:\n",
    "    species = 'mammal'\n",
    "    \n",
    "    def __init__(self, name, age):\n",
    "        self.name = name\n",
    "        self.age = age\n",
    "        self.is_hungry= True\n",
    "        \n",
    "    def description(self):\n",
    "        return \"{} is {} years old.\".format(self.name, self.age)\n",
    "    \n",
    "    def eat(self):\n",
    "        self.is_hungry= False\n",
    "            \n",
    "class RussellTerrier(Dog):\n",
    "    def __init__(self, name, age):\n",
    "        super().__init__(name, age)\n",
    "    \n",
    "class Bulldog(Dog):\n",
    "    def __init__(self, name, age):\n",
    "        super().__init__(name, age)\n",
    "\n",
    "class Doberman(Dog):\n",
    "    def __init__(self, name, age):\n",
    "        super().__init__(name, age)\n",
    "\n",
    "def check(x):\n",
    "    a=None\n",
    "    for i in x:\n",
    "        if a==None: a=i.is_hungry\n",
    "        if a!=i.is_hungry:\n",
    "            return\n",
    "    if a: print(\"My dogs are hungry!\")\n",
    "    else: print(\"My dogs are not hungry.\")\n",
    "        \n",
    "Ermes=RussellTerrier(\"Ermes\",13)\n",
    "Poldo=Bulldog(\"Poldo\",5) \n",
    "Spike=Doberman(\"Spike\",7)\n",
    "\n",
    "my_dogs=[Ermes,Poldo,Spike]\n",
    "\n",
    "print(\"I have\",len(my_dogs),\"dogs:\")\n",
    "print(Ermes.description())\n",
    "print(Poldo.description())\n",
    "print(Spike.description())\n",
    "print(\"They are all {}, of course.\".format(Dog.species))\n",
    "\n",
    "check(my_dogs)\n",
    "\n",
    "print(\"Let's feed them...\")\n",
    "\n",
    "for x in my_dogs:\n",
    "    x.eat()\n",
    "           \n",
    "check(my_dogs)   \n"
   ]
  },
  {
   "cell_type": "code",
   "execution_count": null,
   "metadata": {},
   "outputs": [],
   "source": []
  }
 ],
 "metadata": {
  "kernelspec": {
   "display_name": "Python 3",
   "language": "python",
   "name": "python3"
  },
  "language_info": {
   "codemirror_mode": {
    "name": "ipython",
    "version": 3
   },
   "file_extension": ".py",
   "mimetype": "text/x-python",
   "name": "python",
   "nbconvert_exporter": "python",
   "pygments_lexer": "ipython3",
   "version": "3.8.8"
  }
 },
 "nbformat": 4,
 "nbformat_minor": 2
}
