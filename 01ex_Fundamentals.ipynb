{
 "cells": [
  {
   "cell_type": "markdown",
   "metadata": {},
   "source": [
    "1\\. Write the following as a list comprehension"
   ]
  },
  {
   "cell_type": "code",
   "execution_count": 83,
   "metadata": {},
   "outputs": [
    {
     "name": "stdout",
     "output_type": "stream",
     "text": [
      "[(0, 0), (0, 1), (0, 2), (0, 3), (1, 0), (1, 1), (1, 2), (1, 3), (2, 0), (2, 1), (2, 2), (2, 3)]\n",
      "My ans: [(0, 0), (0, 1), (0, 2), (0, 3), (1, 0), (1, 1), (1, 2), (1, 3), (2, 0), (2, 1), (2, 2), (2, 3)]\n",
      "[0, 4, 16]\n",
      "My ans: [0, 4, 16]\n"
     ]
    }
   ],
   "source": [
    "# 1\n",
    "ans = []\n",
    "for i in range(3):\n",
    "    for j in range(4):\n",
    "        ans.append((i, j))\n",
    "print (ans)\n",
    "\n",
    "\n",
    "ans = [(i, j) for i in range(3) for j in range(4)]\n",
    "print('My ans:', ans)\n",
    "\n",
    "\n",
    "# 2\n",
    "ans = map(lambda x: x*x, filter(lambda x: x%2 == 0, range(5)))\n",
    "print (list(ans))\n",
    "\n",
    "ans = [x*x for x in range(0, 5) if x%2==0]\n",
    "print('My ans:', ans)\n"
   ]
  },
  {
   "cell_type": "markdown",
   "metadata": {},
   "source": [
    "2\\. Convert the following function into a pure function with no global variables or side effects"
   ]
  },
  {
   "cell_type": "code",
   "execution_count": 8,
   "metadata": {},
   "outputs": [
    {
     "name": "stdout",
     "output_type": "stream",
     "text": [
      "[1, 2, 3, 0, 1, 2, 3, 4]\n",
      "[1, 2, 3, 0, 1, 2, 3, 4]\n"
     ]
    }
   ],
   "source": [
    "x = 5\n",
    "def f(alist):\n",
    "    for i in range(x):\n",
    "         alist.append(i)\n",
    "    return alist\n",
    "\n",
    "alist = [1,2,3]\n",
    "ans = f(alist)\n",
    "print (ans)\n",
    "print (alist) # alist has been changed!"
   ]
  },
  {
   "cell_type": "code",
   "execution_count": 19,
   "metadata": {},
   "outputs": [
    {
     "name": "stdout",
     "output_type": "stream",
     "text": [
      "[1, 2, 3, 0, 1, 2, 3, 4]\n",
      "[1, 2, 3]\n"
     ]
    }
   ],
   "source": [
    "def f(alist, x):\n",
    "    newlist = [i for i in alist]\n",
    "    \n",
    "    # another way is using \"\".copy\" \n",
    "    \n",
    "    for i in range(x):\n",
    "        newlist.append(i)\n",
    "    return newlist\n",
    "\n",
    "alist = [1,2,3]\n",
    "ans = f(alist, 5)\n",
    "print (ans)\n",
    "print (alist) # alist has not been changed!\n",
    "    "
   ]
  },
  {
   "cell_type": "markdown",
   "metadata": {},
   "source": [
    "3\\. Write a `decorator` hello that makes every wrapped function print “Hello!”, i.e. something like:\n",
    "\n",
    "```python\n",
    "@hello\n",
    "def square(x):\n",
    "    return x*x\n",
    "```\n",
    "\n"
   ]
  },
  {
   "cell_type": "code",
   "execution_count": 11,
   "metadata": {},
   "outputs": [
    {
     "name": "stdout",
     "output_type": "stream",
     "text": [
      "Hello!\n",
      "4\n",
      "Hello!\n",
      "[0, 1, 4]\n",
      "Hello!\n",
      "3\n",
      "Hello!\n",
      "Prova\n"
     ]
    }
   ],
   "source": [
    "def Hello_decorator(func):\n",
    "    def wrapper(*args):\n",
    "        print('Hello!')\n",
    "        return func(*args)\n",
    "    return wrapper\n",
    "\n",
    "@Hello_decorator\n",
    "def square(x):\n",
    "    return x*x\n",
    "\n",
    "@Hello_decorator\n",
    "def squareList(xlist):\n",
    "    return [i*i for i in xlist]\n",
    "\n",
    "@Hello_decorator\n",
    "def mysum(x, y): \n",
    "    return x+y\n",
    "\n",
    "@Hello_decorator\n",
    "def lasttest():\n",
    "    print('Prova')\n",
    "\n",
    "print(square(2))\n",
    "print(squareList([0, 1, 2]))\n",
    "print(mysum(1, 2))\n",
    "lasttest()\n"
   ]
  },
  {
   "cell_type": "markdown",
   "metadata": {},
   "source": [
    "4\\. Write the factorial function so that it a) does and b) does not use recursion."
   ]
  },
  {
   "cell_type": "code",
   "execution_count": 84,
   "metadata": {},
   "outputs": [
    {
     "name": "stdout",
     "output_type": "stream",
     "text": [
      "Factorial w/ recursion: [1, 1, 2, 6, 24, 120, 720, 5040, 40320, 362880, 3628800]\n",
      "Factorial w/o recursion: [1, 1, 2, 6, 24, 120, 720, 5040, 40320, 362880, 3628800]\n",
      "1.33 µs ± 167 ns per loop (mean ± std. dev. of 7 runs, 1000000 loops each)\n",
      "1.11 µs ± 113 ns per loop (mean ± std. dev. of 7 runs, 1000000 loops each)\n"
     ]
    }
   ],
   "source": [
    "# a) with recursion\n",
    "def factorial_1(n):\n",
    "    if n==0 or n==1:\n",
    "        return 1\n",
    "    return n*factorial_1(n-1)\n",
    "print('Factorial w/ recursion:', [factorial_1(i) for i in range(11)])\n",
    "\n",
    "# b) without recursion\n",
    "def factorial_2(n):\n",
    "    fact = 1\n",
    "    if n==0: return fact\n",
    "    for i in range(1, n+1):\n",
    "        fact*=i\n",
    "    return fact\n",
    "print('Factorial w/o recursion:', [factorial_2(i) for i in range(11)])\n",
    "\n",
    "# time execution\n",
    "# %timeit factorial_1(5)\n",
    "# %timeit factorial_2(5)\n",
    "         \n"
   ]
  },
  {
   "cell_type": "markdown",
   "metadata": {},
   "source": [
    "5\\. Use HOFs (zip in particular) to compute the weight of a circle, a disk and a sphere, assuming different radii and different densities:\n",
    "\n",
    "```python\n",
    "densities = {\"Al\":[0.5,1,2],\"Fe\":[3,4,5],\"Pb\": [15,20,30]}\n",
    "radii = [1,2,3]\n",
    "```\n",
    "\n",
    "where the entries of the dictionary's values are the linear, superficial and volumetric densities of the materials respectively.\n",
    "\n",
    "In particular define a list of three lambda functions using a comprehension that computes the circumference, the area and the volume for a given radius.\n"
   ]
  },
  {
   "cell_type": "code",
   "execution_count": 12,
   "metadata": {},
   "outputs": [
    {
     "name": "stdout",
     "output_type": "stream",
     "text": [
      "\n",
      "Circ (weight)\n",
      "Al: r = 1, r = 2, r= 3\n",
      "[3.141592653589793, 6.283185307179586, 9.42477796076938]\n",
      "Fe: r = 1, r = 2, r= 3\n",
      "[18.84955592153876, 37.69911184307752, 56.548667764616276]\n",
      "Pb: r = 1, r = 2, r= 3\n",
      "[94.24777960769379, 188.49555921538757, 282.7433388230814]\n",
      "\n",
      "Area (weight)\n",
      "Al: r = 1, r = 2, r= 3\n",
      "[3.141592653589793, 12.566370614359172, 28.274333882308138]\n",
      "Fe: r = 1, r = 2, r= 3\n",
      "[12.566370614359172, 50.26548245743669, 113.09733552923255]\n",
      "Pb: r = 1, r = 2, r= 3\n",
      "[62.83185307179586, 251.32741228718345, 565.4866776461628]\n",
      "\n",
      "Volume (weight)\n",
      "Al: r = 1, r = 2, r= 3\n",
      "[8.377580409572781, 67.02064327658225, 226.1946710584651]\n",
      "Fe: r = 1, r = 2, r= 3\n",
      "[20.94395102393195, 167.5516081914556, 565.4866776461628]\n",
      "Pb: r = 1, r = 2, r= 3\n",
      "[125.66370614359171, 1005.3096491487337, 3392.9200658769764]\n"
     ]
    }
   ],
   "source": [
    "from math import pi\n",
    "\n",
    "densities = {\"Al\":[0.5,1,2],\"Fe\":[3,4,5],\"Pb\": [15,20,30]}\n",
    "radii = [1,2,3]\n",
    "\n",
    "def LengthAreaVol():\n",
    "    return {'Circ': lambda r: 2*pi*r, 'Area': lambda r: pi*r**2, 'Volume': lambda r: 4*pi*r**3/3}\n",
    "\n",
    "labels = ['Circ', 'Area', 'Volume']\n",
    "for i, dal, dfe, dpb in zip(labels, densities['Al'], densities['Fe'], densities['Pb']):\n",
    "    print('\\n'+i+' (weight)')\n",
    "    rlist = list(map(LengthAreaVol()[i], radii))\n",
    "    print('Al: r = %d, r = %d, r= %d' %(radii[0], radii[1], radii[2]))\n",
    "    print([dal*x for x in rlist])\n",
    "    print('Fe: r = %d, r = %d, r= %d' %(radii[0], radii[1], radii[2]))\n",
    "    print([dfe*x for x in rlist])\n",
    "    print('Pb: r = %d, r = %d, r= %d' %(radii[0], radii[1], radii[2]))\n",
    "    print([dpb*x for x in rlist])\n"
   ]
  },
  {
   "cell_type": "code",
   "execution_count": 19,
   "metadata": {},
   "outputs": [
    {
     "name": "stdout",
     "output_type": "stream",
     "text": [
      "{'al': {'circ': {'r=1': 9.42477796076938, 'r=2': 9.42477796076938, 'r=3': 9.42477796076938}, 'area': {'r=1': 28.274333882308138, 'r=2': 28.274333882308138, 'r=3': 28.274333882308138}, 'volume': {'r=1': 226.1946710584651, 'r=2': 226.1946710584651, 'r=3': 226.1946710584651}}, 'fe': {'circ': {'r=1': 56.548667764616276, 'r=2': 56.548667764616276, 'r=3': 56.548667764616276}, 'area': {'r=1': 113.09733552923255, 'r=2': 113.09733552923255, 'r=3': 113.09733552923255}, 'volume': {'r=1': 565.4866776461628, 'r=2': 565.4866776461628, 'r=3': 565.4866776461628}}, 'pb': {'circ': {'r=1': 282.7433388230814, 'r=2': 282.7433388230814, 'r=3': 282.7433388230814}, 'area': {'r=1': 565.4866776461628, 'r=2': 565.4866776461628, 'r=3': 565.4866776461628}, 'volume': {'r=1': 3392.9200658769764, 'r=2': 3392.9200658769764, 'r=3': 3392.9200658769764}}}\n"
     ]
    }
   ],
   "source": [
    "# ANOTHER WAY \n",
    "\n",
    "# circ-area-volume dictionary\n",
    "CAVdic = {'circ':[], 'area': [], 'volume': []}\n",
    "\n",
    "# weights dictionary (materials -> CAVdic)\n",
    "weights = {'al': {'circ':[], 'area': [], 'volume': []}, 'fe': {'circ':[], 'area': [], 'volume': []}, 'pb': {'circ':[], 'area': [], 'volume': []}}\n",
    "\n",
    "# circ-area-volume for the different radii\n",
    "for i, j in zip(labels, CAVdic):\n",
    "    CAVdic[j] = list(map(LengthAreaVol()[i], radii))\n",
    "\n",
    "# weights\n",
    "for dal, dfe, dpb, CAViter in zip(densities['Al'], densities['Fe'], densities['Pb'], CAVdic):    \n",
    "    weights['al'][CAViter] = {'r='+str(j): dal*i for i in CAVdic[CAViter] for j in radii}\n",
    "    weights['fe'][CAViter] = {'r='+str(j): dfe*i for i in CAVdic[CAViter] for j in radii}\n",
    "    weights['pb'][CAViter] = {'r='+str(j): dpb*i for i in CAVdic[CAViter] for j in radii}\n",
    "    \n",
    "print(weights)\n",
    "    "
   ]
  },
  {
   "cell_type": "markdown",
   "metadata": {},
   "source": [
    "6\\. Edit the class defintion to add an instance attribute of is_hungry = True to the Dog class. Then add a method called eat() which changes the value of is_hungry to False when called. Figure out the best way to feed each dog and then output “My dogs are hungry.” if all are hungry or “My dogs are not hungry.” if all are not hungry. The final output should look like this:\n",
    "\n",
    "`I have 3 dogs. \n",
    "Tom is 6. \n",
    "Fletcher is 7. \n",
    "Larry is 9. \n",
    "And they're all mammals, of course. \n",
    "My dogs are not hungry.\n",
    "`\n",
    "\n",
    "```python\n",
    "# Parent class\n",
    "class Dog:\n",
    "\n",
    "    # Class attribute\n",
    "    species = 'mammal'\n",
    "\n",
    "    # Initializer / Instance attributes\n",
    "    def __init__(self, name, age):\n",
    "        self.name = name\n",
    "        self.age = age\n",
    "\n",
    "    # instance method\n",
    "    def description(self):\n",
    "        return \"{} is {} years old\".format(self.name, self.age)\n",
    "\n",
    "    # instance method\n",
    "    def speak(self, sound):\n",
    "        return \"{} says {}\".format(self.name, sound)\n",
    "\n",
    "# Child class (inherits from Dog class)\n",
    "class RussellTerrier(Dog):\n",
    "    def run(self, speed):\n",
    "        return \"{} runs {}\".format(self.name, speed)\n",
    "\n",
    "# Child class (inherits from Dog class)\n",
    "class Bulldog(Dog):\n",
    "    def run(self, speed):\n",
    "        return \"{} runs {}\".format(self.name, speed)\n",
    "```"
   ]
  },
  {
   "cell_type": "code",
   "execution_count": 81,
   "metadata": {},
   "outputs": [
    {
     "name": "stdout",
     "output_type": "stream",
     "text": [
      "I have 3 dogs.\n",
      "Tom is 6 years old\n",
      "Fletcher is 7 years old\n",
      "Larry is 9 years old\n",
      "And they're all mammals, of course.\n",
      "My dogs are hungry.\n",
      "\n",
      "I feed each dog.\n",
      "My dogs are not hungry.\n",
      "\n",
      "Larry is hungry.\n",
      "Some dogs are hungry, others not.\n",
      "\n"
     ]
    }
   ],
   "source": [
    "# Parent class\n",
    "class Dog:\n",
    "\n",
    "    # Class attribute\n",
    "    species = 'mammal'\n",
    "    # Number of istances\n",
    "    counter = 0\n",
    "    # Instances\n",
    "    registry = []\n",
    "\n",
    "    # Initializer / Instance attributes\n",
    "    def __init__(self, name, age):\n",
    "        self.registry.append(self)\n",
    "        self.name = name\n",
    "        self.age = age\n",
    "        self.is_Hungry = True\n",
    "        Dog.counter += 1\n",
    "\n",
    "    # instance method\n",
    "    def description(self):\n",
    "        return \"{} is {} years old\".format(self.name, self.age)\n",
    "\n",
    "    # instance method\n",
    "    def speak(self, sound):\n",
    "        return \"{} says {}\".format(self.name, sound)\n",
    "    \n",
    "    # instance method\n",
    "    def eat(self):\n",
    "        self.is_Hungry = False\n",
    "        \n",
    "# Child class (inherits from Dog class)\n",
    "class RussellTerrier(Dog):\n",
    "    def run(self, speed):\n",
    "        return \"{} runs {}\".format(self.name, speed)\n",
    "\n",
    "# Child class (inherits from Dog class)\n",
    "class Bulldog(Dog):\n",
    "    def run(self, speed):\n",
    "        return \"{} runs {}\".format(self.name, speed)\n",
    "\n",
    "    \n",
    "def areHungry():\n",
    "    def checkHungry():\n",
    "        hungrylist = []\n",
    "        for idog in Dog.registry:\n",
    "            hungrylist.append(idog.is_Hungry)\n",
    "        #'all' returns True if all elements of the iterable are true (or if the iterable is empty), False otherwise\n",
    "        if all(hungrylist):\n",
    "            return True\n",
    "        elif all(not x for x in hungrylist):\n",
    "            return False\n",
    "        else:\n",
    "            return None\n",
    "    arehungry = checkHungry()\n",
    "    if arehungry is None:\n",
    "        return 'Some dogs are hungry, others not.\\n'\n",
    "    elif arehungry:\n",
    "        return 'My dogs are hungry.\\n'\n",
    "    else:\n",
    "        return 'My dogs are not hungry.\\n' \n",
    "    \n",
    "def isheHungry(adog):\n",
    "    if adog.is_Hungry:\n",
    "        return adog.name + ' is hungry.' \n",
    "    else:\n",
    "        return adog.name + ' is not hungry.' \n",
    "    \n",
    "def feed():\n",
    "    for idog in Dog.registry:\n",
    "        idog.eat()    \n",
    "    print('I feed each dog.') \n",
    "    \n",
    "# dogs\n",
    "tom = Dog('Tom', 6)\n",
    "fletch = Dog('Fletcher', 7)\n",
    "larry = Dog('Larry', 9)\n",
    "\n",
    "print('I have', Dog.counter, 'dogs.')\n",
    "\n",
    "for idog in Dog.registry:\n",
    "    # print(idog.name + ' is ' + str(idog.age) + '.')\n",
    "    print(idog.description())\n",
    "    \n",
    "print(\"And they're all \" + Dog.species + 's, of course.')\n",
    "print(areHungry())\n",
    "\n",
    "# feed all \n",
    "feed()\n",
    "print(areHungry())\n",
    "\n",
    "larry.is_Hungry = True\n",
    "print(isheHungry(larry))\n",
    "print(areHungry())\n"
   ]
  }
 ],
 "metadata": {
  "interpreter": {
   "hash": "56cee935aa9a3f3637f03175b8d659cf88f72e32c50a44ffefdb433a8a4e1922"
  },
  "kernelspec": {
   "display_name": "Python 3.9.7 64-bit ('base': conda)",
   "name": "python3"
  },
  "language_info": {
   "codemirror_mode": {
    "name": "ipython",
    "version": 3
   },
   "file_extension": ".py",
   "mimetype": "text/x-python",
   "name": "python",
   "nbconvert_exporter": "python",
   "pygments_lexer": "ipython3",
   "version": "3.9.7"
  }
 },
 "nbformat": 4,
 "nbformat_minor": 2
}
