{
 "cells": [
  {
   "cell_type": "markdown",
   "id": "d5fd5cdc",
   "metadata": {},
   "source": [
    "1. Write the following as a list comprehension"
   ]
  },
  {
   "cell_type": "code",
   "execution_count": 7,
   "id": "7d19e7da",
   "metadata": {},
   "outputs": [
    {
     "name": "stdout",
     "output_type": "stream",
     "text": [
      "[(0, 0), (0, 1), (0, 2), (0, 3), (1, 0), (1, 1), (1, 2), (1, 3), (2, 0), (2, 1), (2, 2), (2, 3)]\n",
      "[(0, 0), (0, 1), (0, 2), (0, 3), (1, 0), (1, 1), (1, 2), (1, 3), (2, 0), (2, 1), (2, 2), (2, 3)]\n"
     ]
    }
   ],
   "source": [
    "# 1\n",
    "ans = []\n",
    "for i in range(3):\n",
    "    for j in range(4):\n",
    "        ans.append((i, j))\n",
    "print (ans)\n",
    "\n",
    "ans = [(i, j) for i in range(3) for j in range(4)]\n",
    "print(ans)"
   ]
  },
  {
   "cell_type": "code",
   "execution_count": 4,
   "id": "6c286910",
   "metadata": {},
   "outputs": [
    {
     "name": "stdout",
     "output_type": "stream",
     "text": [
      "[0, 4, 16]\n",
      "[0, 4, 16]\n"
     ]
    }
   ],
   "source": [
    "# 2\n",
    "ans = map(lambda x: x*x, filter(lambda x: x%2 == 0, range(5)))\n",
    "print (list(ans))\n",
    "\n",
    "ans = [x*x for x in range(0, 5, 2)]\n",
    "print(ans)"
   ]
  },
  {
   "cell_type": "markdown",
   "id": "94179b8e",
   "metadata": {},
   "source": [
    "2. Convert the following function into a pure function with no global variables or side effects"
   ]
  },
  {
   "cell_type": "code",
   "execution_count": 5,
   "id": "e6570ef0",
   "metadata": {},
   "outputs": [
    {
     "name": "stdout",
     "output_type": "stream",
     "text": [
      "[1, 2, 3, 0, 1, 2, 3, 4]\n",
      "[1, 2, 3, 0, 1, 2, 3, 4]\n"
     ]
    }
   ],
   "source": [
    "x = 5\n",
    "def f(alist):\n",
    "    for i in range(x):\n",
    "         alist.append(i)\n",
    "    return alist\n",
    "\n",
    "alist = [1,2,3]\n",
    "ans = f(alist)\n",
    "print (ans)\n",
    "print (alist) # alist has been changed!"
   ]
  },
  {
   "cell_type": "code",
   "execution_count": 8,
   "id": "12e291df",
   "metadata": {},
   "outputs": [
    {
     "name": "stdout",
     "output_type": "stream",
     "text": [
      "[1, 2, 3, 0, 1, 2, 3, 4]\n",
      "[1, 2, 3]\n"
     ]
    }
   ],
   "source": [
    "from copy import deepcopy\n",
    "def f(alist):\n",
    "    x = 5\n",
    "    out = deepcopy(alist)\n",
    "    for i in range(x):\n",
    "         out.append(i)\n",
    "    return out\n",
    "\n",
    "alist = [1,2,3]\n",
    "ans = f(alist)\n",
    "print (ans)\n",
    "print (alist) # alist has not been changed!"
   ]
  },
  {
   "cell_type": "markdown",
   "id": "0d14dc1b",
   "metadata": {},
   "source": [
    "3. Write a decorator hello that makes every wrapped function print “Hello!”, i.e. something like:"
   ]
  },
  {
   "cell_type": "code",
   "execution_count": 10,
   "id": "03237a2e",
   "metadata": {},
   "outputs": [
    {
     "name": "stdout",
     "output_type": "stream",
     "text": [
      "Hello!\n",
      "9\n",
      "Goodbye!\n"
     ]
    }
   ],
   "source": [
    "def hello(f):\n",
    "    def wrapper(*args):\n",
    "        print('Hello!')\n",
    "        print(f(*args))\n",
    "        print('Goodbye!')\n",
    "    return wrapper\n",
    "\n",
    "@hello\n",
    "def square(x):\n",
    "    return x*x\n",
    "\n",
    "square(3)"
   ]
  },
  {
   "cell_type": "markdown",
   "id": "1dfdc425",
   "metadata": {},
   "source": [
    "4. Write the factorial function so that it a) does and b) does not use recursion."
   ]
  },
  {
   "cell_type": "code",
   "execution_count": 11,
   "id": "bb0bcef1",
   "metadata": {},
   "outputs": [
    {
     "name": "stdout",
     "output_type": "stream",
     "text": [
      "120\n"
     ]
    }
   ],
   "source": [
    "# a) use recursion\n",
    "def factorial(x):\n",
    "    assert isinstance(x, int)\n",
    "    if x == 0:\n",
    "        return 1\n",
    "    else:\n",
    "        return x * factorial(x - 1)\n",
    "    \n",
    "print(factorial(5))"
   ]
  },
  {
   "cell_type": "code",
   "execution_count": 16,
   "id": "59bad8b8",
   "metadata": {},
   "outputs": [
    {
     "name": "stdout",
     "output_type": "stream",
     "text": [
      "120\n"
     ]
    }
   ],
   "source": [
    "# b) without recursion\n",
    "def factorialb(x):\n",
    "    assert isinstance(x, int)\n",
    "    res = 1\n",
    "    for i in range(1, x + 1):\n",
    "        res *= i\n",
    "    return res\n",
    "    \n",
    "print(factorialb(5))"
   ]
  },
  {
   "cell_type": "markdown",
   "id": "f74ca8bd",
   "metadata": {},
   "source": [
    "5. Use HOFs (zip in particular) to compute the weight of a circle, a disk and a sphere, assuming different radii and different densities:\n",
    "\n",
    "densities = {\"Al\":[0.5,1,2],\"Fe\":[3,4,5],\"Pb\": [15,20,30]}\n",
    "radii = [1,2,3]\n",
    "\n",
    "where the entries of the dictionary's values are the linear, superficial and volumetric densities of the materials respectively.\n",
    "\n",
    "In particular define a list of three lambda functions using a comprehension that computes the circumference, the area and the volume for a given radius."
   ]
  },
  {
   "cell_type": "code",
   "execution_count": 8,
   "id": "e525a413",
   "metadata": {},
   "outputs": [
    {
     "name": "stdout",
     "output_type": "stream",
     "text": [
      "{'Al': [3.141592653589793, 3.141592653589793, 8.377580409572781],\n",
      " 'Fe': [37.69911184307752, 50.26548245743669, 167.5516081914556],\n",
      " 'Pb': [282.7433388230814, 565.4866776461628, 3392.920065876976]}\n",
      "{'Al': [3.141592653589793, 3.141592653589793, 8.377580409572781],\n",
      " 'Fe': [37.69911184307752, 50.26548245743669, 167.5516081914556],\n",
      " 'Pb': [282.7433388230814, 565.4866776461628, 3392.920065876976]}\n"
     ]
    }
   ],
   "source": [
    "densities = {\"Al\":[0.5,1,2],\"Fe\":[3,4,5],\"Pb\": [15,20,30]}\n",
    "radii = [1,2,3]\n",
    "\n",
    "from math import pi\n",
    "circle = lambda r: 2 * pi * r\n",
    "disk = lambda r: pi * r ** 2\n",
    "sphere = lambda r: pi * 4 / 3 * r ** 3\n",
    "\n",
    "compute = lambda d,r : [circle(r)*d[0], disk(r)*d[1], sphere(r)*d[2]]\n",
    "\n",
    "res = {key: compute(densities[key], r) for key, r in zip(densities.keys(), radii)}\n",
    "from pprint import pprint\n",
    "pprint(res)\n",
    "\n",
    "compute = lambda i, k, r: pi * k * r ** i\n",
    "values = {key: [compute(i, k, r) * d for i, k, d in zip(range(1, 4), [2, 1, 4/3], densities[key])] for key, r in zip(densities.keys(), radii)}\n",
    "pprint(values)"
   ]
  },
  {
   "cell_type": "markdown",
   "id": "a64015fc",
   "metadata": {},
   "source": [
    "6. Edit the class defintion to add an instance attribute of is_hungry = True to the Dog class. Then add a method called eat() which changes the value of is_hungry to False when called. Figure out the best way to feed each dog and then output “My dogs are hungry.” if all are hungry or “My dogs are not hungry.” if all are not hungry. The final output should look like this:\n",
    "\n",
    "I have 3 dogs. \n",
    "Tom is 6. \n",
    "Fletcher is 7. \n",
    "Larry is 9. \n",
    "And they're all mammals, of course. \n",
    "My dogs are not hungry."
   ]
  },
  {
   "cell_type": "code",
   "execution_count": 23,
   "id": "e0030d8b",
   "metadata": {},
   "outputs": [
    {
     "name": "stdout",
     "output_type": "stream",
     "text": [
      "['Tom is 5 years old', 'Fletcher is 6 years old', 'Larry is 7 years old']\n",
      "are the Dogs hungry? True\n",
      "Are the Dogs hungry? False\n"
     ]
    }
   ],
   "source": [
    "# Parent class\n",
    "class Dog:\n",
    "\n",
    "    # Class attribute\n",
    "    species = 'mammal'\n",
    "\n",
    "    # Initializer / Instance attributes\n",
    "    def __init__(self, name, age):\n",
    "        self.name = name\n",
    "        self.age = age\n",
    "        self.is_hungry = True\n",
    "    \n",
    "    def eat(self):\n",
    "        self.is_hungry = False\n",
    "\n",
    "    # instance method\n",
    "    def description(self):\n",
    "        return \"{} is {} years old\".format(self.name, self.age)\n",
    "\n",
    "    # instance method\n",
    "    def speak(self, sound):\n",
    "        return \"{} says {}\".format(self.name, sound)\n",
    "\n",
    "# Child class (inherits from Dog class)\n",
    "class RussellTerrier(Dog):\n",
    "    def run(self, speed):\n",
    "        return \"{} runs {}\".format(self.name, speed)\n",
    "\n",
    "# Child class (inherits from Dog class)\n",
    "class Bulldog(Dog):\n",
    "    def run(self, speed):\n",
    "        return \"{} runs {}\".format(self.name, speed)\n",
    "\n",
    "dogs = [Dog(name, age) for name, age in zip(['Tom', 'Fletcher', 'Larry'], [5,6,7])]\n",
    "print([dog.description() for dog in dogs])\n",
    "\n",
    "feed = lambda dogs: [dog.eat() for dog in dogs]\n",
    "def are_hungry(dogs):\n",
    "    out = False\n",
    "    for dog in dogs:\n",
    "        out = out or dog.is_hungry\n",
    "    return out\n",
    "print(f'are the Dogs hungry? {are_hungry(dogs)}')\n",
    "feed(dogs)\n",
    "print(f'Are the Dogs hungry? {are_hungry(dogs)}')\n"
   ]
  },
  {
   "cell_type": "code",
   "execution_count": null,
   "id": "33eb128b",
   "metadata": {},
   "outputs": [],
   "source": []
  }
 ],
 "metadata": {
  "kernelspec": {
   "display_name": "Python 3 (ipykernel)",
   "language": "python",
   "name": "python3"
  },
  "language_info": {
   "codemirror_mode": {
    "name": "ipython",
    "version": 3
   },
   "file_extension": ".py",
   "mimetype": "text/x-python",
   "name": "python",
   "nbconvert_exporter": "python",
   "pygments_lexer": "ipython3",
   "version": "3.8.5"
  }
 },
 "nbformat": 4,
 "nbformat_minor": 5
}
