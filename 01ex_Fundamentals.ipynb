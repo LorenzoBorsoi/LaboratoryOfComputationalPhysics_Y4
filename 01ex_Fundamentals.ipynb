{
 "cells": [
  {
   "cell_type": "markdown",
   "metadata": {},
   "source": [
    "1\\. Write the following as a list comprehension"
   ]
  },
  {
   "cell_type": "code",
   "execution_count": 49,
   "metadata": {},
   "outputs": [
    {
     "name": "stdout",
     "output_type": "stream",
     "text": [
      "esercizio1: [(0, 0), (0, 1), (0, 2), (0, 3), (1, 0), (1, 1), (1, 2), (1, 3), (2, 0), (2, 1), (2, 2), (2, 3)] \n",
      "\n",
      "\n",
      "esercizio2: [0, 4, 16]\n"
     ]
    }
   ],
   "source": [
    "\n",
    "# 1\n",
    "ans = []\n",
    "for i in range(3):\n",
    "    for j in range(4):\n",
    "        ans.append((i, j))\n",
    "#print (ans)\n",
    "\n",
    "# 2\n",
    "ans = map(lambda x: x*x, filter(lambda x: x%2 == 0, range(5)))\n",
    "#print (list(ans))\n",
    "\n",
    "#MY CODE-----------------------------------------------------------------\n",
    "\n",
    "x = [(i,j) for i in range (3) for j in range (4)]\n",
    "print('esercizio1:',x ,'\\n\\n')\n",
    "\n",
    "y = [x*x for x in range (5) if x%2 == 0]\n",
    "print('esercizio2:',y)\n"
   ]
  },
  {
   "cell_type": "markdown",
   "metadata": {},
   "source": [
    "2\\. Convert the following function into a pure function with no global variables or side effects"
   ]
  },
  {
   "cell_type": "code",
   "execution_count": 51,
   "metadata": {},
   "outputs": [
    {
     "name": "stdout",
     "output_type": "stream",
     "text": [
      "g(blist): [4, 5, 6, 0, 1, 2, 3, 4] \n",
      "\n",
      "\n",
      "blist: [4, 5, 6]\n"
     ]
    }
   ],
   "source": [
    "\"\"\"\n",
    "x = 5\n",
    "def f(alist):\n",
    "    for i in range(x):\n",
    "         alist.append(i)\n",
    "    return alist\n",
    "\n",
    "alist = [1,2,3]\n",
    "ans = f(alist)\n",
    "print (ans)\n",
    "print (alist) # alist has been changed!\n",
    "\n",
    "\"\"\"\n",
    "#MY CODE-------------------------------------------------------------------\n",
    "\n",
    "def g(blist,y):\n",
    "    l = [*blist] #the asterisk opens blist\n",
    "    for i in range(y):\n",
    "        l.append(i)\n",
    "    return l\n",
    "    \n",
    "blist = [4,5,6]\n",
    "risp = g(blist,5)\n",
    "print('g(blist):',risp,'\\n\\n')\n",
    "print('blist:',blist)\n"
   ]
  },
  {
   "cell_type": "markdown",
   "metadata": {},
   "source": [
    "3\\. Write a `decorator` hello that makes every wrapped function print “Hello!”, i.e. something like:\n",
    "\n",
    "```python\n",
    "@hello\n",
    "def square(x):\n",
    "    return x*x\n",
    "```\n",
    "\n"
   ]
  },
  {
   "cell_type": "code",
   "execution_count": 54,
   "metadata": {},
   "outputs": [
    {
     "name": "stdout",
     "output_type": "stream",
     "text": [
      "Hello!\n",
      "4\n"
     ]
    }
   ],
   "source": [
    "def hello(func):\n",
    "    def wrapper(x):\n",
    "        print('Hello!')\n",
    "        print(func(x))\n",
    "    return wrapper\n",
    "\n",
    "@hello\n",
    "def square(x):\n",
    "    return x*x\n",
    "\n",
    "square(2)"
   ]
  },
  {
   "cell_type": "markdown",
   "metadata": {},
   "source": [
    "4\\. Write the factorial function so that it a) does and b) does not use recursion."
   ]
  },
  {
   "cell_type": "code",
   "execution_count": 64,
   "metadata": {},
   "outputs": [
    {
     "name": "stdout",
     "output_type": "stream",
     "text": [
      "fattoriale ricorsivo di 0: 1 \n",
      "fattoriale non ricorsivo di 0: 1 \n",
      "fattoriale ricorsivo di 1: 1 \n",
      "fattoriale non ricorsivo di 1: 1 \n",
      "fattoriale ricorsivo di 2: 2 \n",
      "fattoriale non ricorsivo di 2: 2 \n",
      "fattoriale ricorsivo di 3: 6 \n",
      "fattoriale non ricorsivo di 3: 6 \n",
      "fattoriale ricorsivo di 4: 24 \n",
      "fattoriale non ricorsivo di 4: 24 \n",
      "fattoriale ricorsivo di 5: 120 \n",
      "fattoriale non ricorsivo di 5: 120 \n"
     ]
    }
   ],
   "source": [
    "#factorial with recursion\n",
    "def factorial(x):\n",
    "    if x==0:\n",
    "        return 1\n",
    "    else:\n",
    "        return x*factorial(x-1)\n",
    "\n",
    "#factorial without recursion\n",
    "def factorial2(x):\n",
    "    from functools import reduce as rd\n",
    "    if x == 0:\n",
    "        a = 1\n",
    "    else:\n",
    "        b =[]\n",
    "        for i in range (1,x+1):\n",
    "            b.append(i)\n",
    "        a = rd(lambda y,z: z*y,b)\n",
    "    return a\n",
    "\n",
    "i = 0\n",
    "for i in range (6):  \n",
    "    print('fattoriale ricorsivo di %d: %d ' %(i,factorial(i)))\n",
    "    print('fattoriale non ricorsivo di %d: %d ' %(i,factorial2(i)))"
   ]
  },
  {
   "cell_type": "markdown",
   "metadata": {},
   "source": [
    "5\\. Use HOFs (zip in particular) to compute the weight of a circle, a disk and a sphere, assuming different radii and different densities:\n",
    "\n",
    "```python\n",
    "densities = {\"Al\":[0.5,1,2],\"Fe\":[3,4,5],\"Pb\": [15,20,30]}\n",
    "radii = [1,2,3]\n",
    "```\n",
    "\n",
    "where the entries of the dictionary's values are the linear, superficial and volumetric densities of the materials respectively.\n",
    "\n",
    "In particular define a list of three lambda functions using a comprehension that computes the circumference, the area and the volume for a given radius.\n"
   ]
  },
  {
   "cell_type": "code",
   "execution_count": 68,
   "metadata": {
    "scrolled": true
   },
   "outputs": [
    {
     "name": "stdout",
     "output_type": "stream",
     "text": [
      "Pesi alluminio: ['raggio:1', 30.819023931715872, 30.819023931715872, 82.18406381790899, 'raggio:2', 61.638047863431744, 123.27609572686349, 657.4725105432719, 'raggio:3', 92.45707179514761, 277.37121538544284, 2218.9697230835427] \n",
      "\n",
      "\n",
      "Pesi ferro: ['raggio:1', 554.7424307708857, 1109.4848615417714, 5547.424307708857, 'raggio:2', 554.7424307708857, 1109.4848615417714, 5547.424307708857, 'raggio:3', 554.7424307708857, 1109.4848615417714, 5547.424307708857] \n",
      "\n",
      "\n",
      "Pesi piombo: ['raggio:1', 2773.7121538544284, 5547.424307708857, 33284.54584625314, 'raggio:2', 2773.7121538544284, 5547.424307708857, 33284.54584625314, 'raggio:3', 2773.7121538544284, 5547.424307708857, 33284.54584625314]\n"
     ]
    }
   ],
   "source": [
    "from math import pi\n",
    "densities = {\"Al\":[0.5,1,2],\"Fe\":[3,4,5],\"Pb\": [15,20,30]}\n",
    "radii = [1,2,3]\n",
    "\n",
    "\n",
    "pesi_Al = []\n",
    "pesi_Fe = []\n",
    "pesi_Pb = []\n",
    "funcs = [lambda x: 2*pi*x,lambda x: pi*x**2, lambda x: 4/3*pi*x**3]\n",
    "\n",
    "for r in radii:\n",
    "    pesi_Al.append('raggio:%d' %r)\n",
    "    for i,j in list(zip(funcs,densities['Al'])):\n",
    "        pesi_Al.append(9.81*i(r)*j)\n",
    "        \n",
    "for p in radii:\n",
    "    pesi_Fe.append('raggio:%d' %p)\n",
    "    for i,j in list(zip(funcs,densities['Fe'])):\n",
    "        pesi_Fe.append(9.81*i(r)*j)\n",
    "\n",
    "for q in radii:\n",
    "    pesi_Pb.append('raggio:%d' %q)\n",
    "    for i,j in list(zip(funcs,densities['Pb'])):\n",
    "        pesi_Pb.append(9.81*i(r)*j)\n",
    "\n",
    "print('Pesi alluminio:',pesi_Al ,'\\n\\n')\n",
    "print('Pesi ferro:' ,pesi_Fe , '\\n\\n')\n",
    "print('Pesi piombo:',pesi_Pb)"
   ]
  },
  {
   "cell_type": "markdown",
   "metadata": {},
   "source": [
    "6\\. Edit the class defintion to add an instance attribute of is_hungry = True to the Dog class. Then add a method called eat() which changes the value of is_hungry to False when called. Figure out the best way to feed each dog and then output “My dogs are hungry.” if all are hungry or “My dogs are not hungry.” if all are not hungry. The final output should look like this:\n",
    "\n",
    "`I have 3 dogs. \n",
    "Tom is 6. \n",
    "Fletcher is 7. \n",
    "Larry is 9. \n",
    "And they're all mammals, of course. \n",
    "My dogs are not hungry.\n",
    "`\n",
    "\n",
    "```python\n",
    "# Parent class\n",
    "class Dog:\n",
    "\n",
    "    # Class attribute\n",
    "    species = 'mammal'\n",
    "\n",
    "    # Initializer / Instance attributes\n",
    "    def __init__(self, name, age):\n",
    "        self.name = name\n",
    "        self.age = age\n",
    "\n",
    "    # instance method\n",
    "    def description(self):\n",
    "        return \"{} is {} years old\".format(self.name, self.age)\n",
    "\n",
    "    # instance method\n",
    "    def speak(self, sound):\n",
    "        return \"{} says {}\".format(self.name, sound)\n",
    "\n",
    "# Child class (inherits from Dog class)\n",
    "class RussellTerrier(Dog):\n",
    "    def run(self, speed):\n",
    "        return \"{} runs {}\".format(self.name, speed)\n",
    "\n",
    "# Child class (inherits from Dog class)\n",
    "class Bulldog(Dog):\n",
    "    def run(self, speed):\n",
    "        return \"{} runs {}\".format(self.name, speed)\n",
    "```"
   ]
  },
  {
   "cell_type": "code",
   "execution_count": 72,
   "metadata": {},
   "outputs": [
    {
     "name": "stdout",
     "output_type": "stream",
     "text": [
      "I have 3 dogs.\n",
      "Tom is 6 years old.\n",
      "Fletcher is 7 years old.\n",
      "Larry is 9 years old.\n",
      "And they are all mammals, of course.\n",
      "My dogs are not hungry.\n"
     ]
    }
   ],
   "source": [
    "# Parent class\n",
    "class Dog:\n",
    "\n",
    "    # Class attribute\n",
    "    species = 'mammals'\n",
    "    \n",
    "    \n",
    "    # Initializer / Instance attributes\n",
    "    def __init__(self, name, age,is_hungry = True):\n",
    "        self.name = name\n",
    "        self.age = age\n",
    "        self.is_hungry = is_hungry\n",
    "\n",
    "    # instance method\n",
    "    def description(self):\n",
    "        return \"{} is {} years old.\".format(self.name, self.age)\n",
    "\n",
    "    # instance method\n",
    "    def speak(self, sound):\n",
    "        return \"{} says {}\".format(self.name, sound)\n",
    "    \n",
    "    #instance method\n",
    "    def eat(self):\n",
    "        self.is_hungry = False \n",
    "    \n",
    "    \n",
    "Tom = Dog('Tom',6)\n",
    "Fletcher = Dog('Fletcher',7)\n",
    "Larry = Dog('Larry',9)\n",
    "cani = [Tom,Fletcher,Larry]\n",
    "\n",
    "print('I have %d dogs.' %len(cani))\n",
    "for cane in cani:\n",
    "    cane.eat()\n",
    "    print(Dog.description(cane))\n",
    "   \n",
    "print('And they are all {}, of course.'.format(Dog.species))\n",
    "\n",
    "if ([Tom.is_hungry,Fletcher.is_hungry,Larry.is_hungry] == [False,False,False]):\n",
    "    print('My dogs are not hungry.')\n",
    "elif([Tom.is_hungry,Fletcher.is_hungry,Larry.is_hungry] == [True,True,True]):\n",
    "     print('My dogs are hungry.')\n",
    "\n"
   ]
  }
 ],
 "metadata": {
  "kernelspec": {
   "display_name": "Python 3",
   "language": "python",
   "name": "python3"
  },
  "language_info": {
   "codemirror_mode": {
    "name": "ipython",
    "version": 3
   },
   "file_extension": ".py",
   "mimetype": "text/x-python",
   "name": "python",
   "nbconvert_exporter": "python",
   "pygments_lexer": "ipython3",
   "version": "3.8.8"
  }
 },
 "nbformat": 4,
 "nbformat_minor": 2
}
