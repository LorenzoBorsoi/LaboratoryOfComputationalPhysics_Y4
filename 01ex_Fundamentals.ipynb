{
 "cells": [
  {
   "cell_type": "markdown",
   "metadata": {},
   "source": [
    "1\\. Write the following as a list comprehension"
   ]
  },
  {
   "cell_type": "code",
   "execution_count": 1,
   "metadata": {},
   "outputs": [
    {
     "name": "stdout",
     "output_type": "stream",
     "text": [
      "#1 with no list comprehension: [(0, 0), (0, 1), (0, 2), (0, 3), (1, 0), (1, 1), (1, 2), (1, 3), (2, 0), (2, 1), (2, 2), (2, 3)]\n",
      "#1 with list comprehension: [(0, 0), (0, 1), (0, 2), (0, 3), (1, 0), (1, 1), (1, 2), (1, 3), (2, 0), (2, 1), (2, 2), (2, 3)]\n",
      "#2 with no list comprehension: [0, 4, 16]\n",
      "#2 with list comprehension: [0, 4, 16]\n"
     ]
    }
   ],
   "source": [
    "# 1\n",
    "ans = []\n",
    "for i in range(3):\n",
    "    for j in range(4):\n",
    "        ans.append((i, j))\n",
    "print (\"#1 with no list comprehension: {}\".format(ans))\n",
    "\n",
    "ans1=[(i,j) for i in range(3) for j in range(4)] #NB si possono mettere due for nella list comprehension\n",
    "print (\"#1 with list comprehension: {}\".format(ans1))\n",
    "\n",
    "# 2\n",
    "ans = map(lambda x: x*x, filter(lambda x: x%2 == 0, range(5)))\n",
    "print (\"#2 with no list comprehension: {}\".format(list(ans)))\n",
    "\n",
    "ans2=[x*x for x in filter(lambda x: x%2 == 0, range(5))]\n",
    "print (\"#2 with list comprehension: {}\".format(ans2))\n",
    "\n"
   ]
  },
  {
   "cell_type": "markdown",
   "metadata": {},
   "source": [
    "2\\. Convert the following function into a pure function with no global variables or side effects"
   ]
  },
  {
   "cell_type": "code",
   "execution_count": 2,
   "metadata": {},
   "outputs": [
    {
     "name": "stdout",
     "output_type": "stream",
     "text": [
      "Initial list is: [1, 2, 3]\n",
      "Output of the new function: [1, 2, 3, 0, 1, 2, 3, 4, 5, 6]\n",
      "Again the initial list that is not changed: [1, 2, 3]\n",
      "Output of the new function without the argument: [0, 1, 2, 3, 4, 5, 6]\n"
     ]
    }
   ],
   "source": [
    "x = 7\n",
    "\n",
    "#initial function\n",
    "\"\"\"\n",
    "def f(alist):\n",
    "    for i in range(x):\n",
    "         alist.append(i)\n",
    "    return alist\n",
    "\n",
    "alist = [1,2,3]\n",
    "ans = f(alist)\n",
    "print (ans)\n",
    "print (alist) # alist has been changed!\n",
    "\"\"\"\n",
    "\n",
    "#new function\n",
    "\n",
    "def f1(l = None):\n",
    "    if l is None:\n",
    "        l = []\n",
    "    f1l=l.copy() #l is reassigned within the function to a new list\n",
    "    for i in range(x):\n",
    "        f1l.append(i)\n",
    "    return f1l\n",
    "\n",
    "alist=[1,2,3] #define a new list\n",
    "\n",
    "print (\"Initial list is: {}\".format(alist))\n",
    "print (\"Output of the new function: {}\".format(f1(alist)))\n",
    "print (\"Again the initial list that is not changed: {}\".format(alist))\n",
    "print (\"Output of the new function without the argument: {}\".format(f1()))\n"
   ]
  },
  {
   "cell_type": "markdown",
   "metadata": {},
   "source": [
    "3\\. Write a `decorator` hello that makes every wrapped function print “Hello!”, i.e. something like:\n",
    "\n",
    "```python\n",
    "@hello\n",
    "def square(x):\n",
    "    return x*x\n",
    "```\n",
    "\n"
   ]
  },
  {
   "cell_type": "code",
   "execution_count": 3,
   "metadata": {},
   "outputs": [
    {
     "name": "stdout",
     "output_type": "stream",
     "text": [
      "Hello!\n",
      "4\n"
     ]
    }
   ],
   "source": [
    "def hello(func):\n",
    "    def wrapper (x):   #è stato necessario inserire un argomento x per applicarlo alla funszione square(x)\n",
    "        print(\"Hello!\")\n",
    "        print(func(x))\n",
    "    return wrapper\n",
    "    \n",
    "@hello\n",
    "def square(x):\n",
    "    return x*x\n",
    "\n",
    "square(2)\n",
    "\n"
   ]
  },
  {
   "cell_type": "markdown",
   "metadata": {},
   "source": [
    "4\\. Write the factorial function so that it a) does and b) does not use recursion."
   ]
  },
  {
   "cell_type": "code",
   "execution_count": 3,
   "metadata": {},
   "outputs": [
    {
     "name": "stdout",
     "output_type": "stream",
     "text": [
      "Inserisci n: 1\n",
      "Factorial of 1 with the recursion: 1\n",
      "Factorial of 1 without the recursion: 1\n"
     ]
    }
   ],
   "source": [
    "n=int(input(\"Inserisci n: \"))\n",
    "\n",
    "def facta(n):\n",
    "    if n==0 or n==1:\n",
    "        return 1\n",
    "    else:\n",
    "        return n*facta(n-1)\n",
    "        \n",
    "#print([facta(i) for i in range(n+1)])\n",
    "\n",
    "print(\"Factorial of {} with the recursion: {}\".format(n,facta(n)))\n",
    "\n",
    "def factb(n):\n",
    "    x=1\n",
    "    for i in range(2,n+1):\n",
    "        x*=i\n",
    "    return(x)\n",
    "\n",
    "print(\"Factorial of {} without the recursion: {}\".format(n,factb(n)))"
   ]
  },
  {
   "cell_type": "markdown",
   "metadata": {},
   "source": [
    "5\\. Use HOFs (zip in particular) to compute the weight of a circle, a disk and a sphere, assuming different radii and different densities:\n",
    "\n",
    "```python\n",
    "densities = {\"Al\":[0.5,1,2],\"Fe\":[3,4,5],\"Pb\": [15,20,30]}\n",
    "radii = [1,2,3]\n",
    "```\n",
    "\n",
    "where the entries of the dictionary's values are the linear, superficial and volumetric densities of the materials respectively.\n",
    "\n",
    "In particular define a list of three lambda functions using a comprehension that computes the circumference, the area and the volume for a given radius.\n"
   ]
  },
  {
   "cell_type": "code",
   "execution_count": 4,
   "metadata": {},
   "outputs": [
    {
     "name": "stdout",
     "output_type": "stream",
     "text": [
      "Weight of a circle of radii=1:\n",
      " Al-> 3.14\n",
      " Fe-> 18.85\n",
      " Pb-> 94.25\n",
      "Weight of a circle of radii=2:\n",
      " Al-> 6.28\n",
      " Fe-> 37.70\n",
      " Pb-> 188.50\n",
      "Weight of a circle of radii=3:\n",
      " Al-> 9.42\n",
      " Fe-> 56.55\n",
      " Pb-> 282.74\n",
      "Weight of a disk of radii=1:\n",
      " Al-> 3.14\n",
      " Fe-> 12.57\n",
      " Pb-> 62.83\n",
      "Weight of a disk of radii=2:\n",
      " Al-> 12.57\n",
      " Fe-> 50.27\n",
      " Pb-> 251.33\n",
      "Weight of a disk of radii=3:\n",
      " Al-> 28.27\n",
      " Fe-> 113.10\n",
      " Pb-> 565.49\n",
      "Weight of a sphere of radii=1:\n",
      " Al-> 8.38\n",
      " Fe-> 20.94\n",
      " Pb-> 125.66\n",
      "Weight of a sphere of radii=2:\n",
      " Al-> 67.02\n",
      " Fe-> 167.55\n",
      " Pb-> 1005.31\n",
      "Weight of a sphere of radii=3:\n",
      " Al-> 226.19\n",
      " Fe-> 565.49\n",
      " Pb-> 3392.92\n"
     ]
    }
   ],
   "source": [
    "import math as m\n",
    "densities = {\"Al\":[0.5,1,2],\"Fe\":[3,4,5],\"Pb\": [15,20,30]}\n",
    "radii = [1,2,3]\n",
    "coeff=[2, 1, 4/3]\n",
    "lamf=[lambda r, c=c, y=y: c*m.pi*r**(y) for c, y in zip (coeff, range(1,4))]  #i and c are defined as local variables of lambda\n",
    "\n",
    "\n",
    "l, s, v=zip(densities['Al'], densities['Fe'], densities['Pb'])\n",
    "li=[l, s, v]\n",
    "forme=[\"circle\", \"disk\", \"sphere\"]\n",
    "mate=[q for q in densities.keys()]\n",
    "for f in range(3):\n",
    "    for r in radii:\n",
    "        print(\"Weight of a {} of radii={}:\".format(forme[f],r))\n",
    "        for ma in range(3):\n",
    "            print(\" {}-> {:.2f}\".format(mate[ma], li[f][ma]*lamf[f](r)))\n"
   ]
  },
  {
   "cell_type": "markdown",
   "metadata": {},
   "source": [
    "6\\. Edit the class defintion to add an instance attribute of is_hungry = True to the Dog class. Then add a method called eat() which changes the value of is_hungry to False when called. Figure out the best way to feed each dog and then output “My dogs are hungry.” if all are hungry or “My dogs are not hungry.” if all are not hungry. The final output should look like this:\n",
    "\n",
    "`I have 3 dogs. \n",
    "Tom is 6. \n",
    "Fletcher is 7. \n",
    "Larry is 9. \n",
    "And they're all mammals, of course. \n",
    "My dogs are not hungry.\n",
    "`\n",
    "\n",
    "```python\n",
    "# Parent class\n",
    "class Dog:\n",
    "\n",
    "    # Class attribute\n",
    "    species = 'mammal'\n",
    "\n",
    "    # Initializer / Instance attributes\n",
    "    def __init__(self, name, age):\n",
    "        self.name = name\n",
    "        self.age = age\n",
    "\n",
    "    # instance method\n",
    "    def description(self):\n",
    "        return \"{} is {} years old\".format(self.name, self.age)\n",
    "\n",
    "    # instance method\n",
    "    def speak(self, sound):\n",
    "        return \"{} says {}\".format(self.name, sound)\n",
    "\n",
    "# Child class (inherits from Dog class)\n",
    "class RussellTerrier(Dog):\n",
    "    def run(self, speed):\n",
    "        return \"{} runs {}\".format(self.name, speed)\n",
    "\n",
    "# Child class (inherits from Dog class)\n",
    "class Bulldog(Dog):\n",
    "    def run(self, speed):\n",
    "        return \"{} runs {}\".format(self.name, speed)\n",
    "```"
   ]
  },
  {
   "cell_type": "code",
   "execution_count": 9,
   "metadata": {},
   "outputs": [
    {
     "name": "stdout",
     "output_type": "stream",
     "text": [
      "I have 3 dogs\n",
      "If you want to feed all dogs enter yes or the names of the dogs you want to feed (enter the names divided by a comma): no\n",
      "Tom is 6.\n",
      "Fletcher is 7.\n",
      "Larry is 9.\n",
      "And they are all mammals, of course\n",
      "My dogs are hungry.\n"
     ]
    }
   ],
   "source": [
    "# Parent class\n",
    "class Dog:\n",
    "\n",
    "    # Class attribute\n",
    "    species = 'mammal'\n",
    "    #is_hungry = True si poteva mettere anche qui\n",
    "    \n",
    "\n",
    "    # Initializer / Instance attributes\n",
    "    def __init__(self, name, age):    \n",
    "        self.name = name\n",
    "        self.age = age\n",
    "        self.is_hungry = True\n",
    "      \n",
    "    # feed method\n",
    "    def eat(self):\n",
    "        self.is_hungry=False\n",
    "        \n",
    "Tom=Dog(\"Tom\", 6)\n",
    "Fletcher=Dog(\"Fletcher\", 7)\n",
    "Larry=Dog(\"Larry\", 9)    \n",
    "    \n",
    "Doglist=[]\n",
    "Doglist.append(Tom)\n",
    "Doglist.append(Fletcher)\n",
    "Doglist.append(Larry)   \n",
    "    \n",
    "print(\"I have {} dogs\".format(len(Doglist)))\n",
    "\n",
    "answer=[str(x) for x in input(\"If you want to feed all dogs enter yes or the names of the dogs you want to feed (enter the names divided by a comma): \").split(',')]\n",
    "#print(answer)\n",
    "\n",
    "a=True\n",
    "b=True\n",
    "\n",
    "for dog in Doglist:\n",
    "    print(\"{} is {}.\".format(dog.name, dog.age))\n",
    "    for i in range(len(answer)):\n",
    "        if answer[i] == \"yes\" or answer[i] == dog.name: dog.eat()\n",
    "        #elif answer[i] == dog.name: dog.eat()\n",
    "    if dog.is_hungry:  #vanno chiamate così le varabili definite all'interno di una classe, non serve dare == true\n",
    "        a=False\n",
    "    else:  #vanno chiamate così le varabili definite all'interno di una classe, non serve dare == true\n",
    "        b=False\n",
    "    \n",
    "print(\"And they are all {}s, of course\".format(Dog.species))\n",
    "if a: print(\"My dogs are not hungry,\")\n",
    "if b: print(\"My dogs are hungry.\")"
   ]
  },
  {
   "cell_type": "code",
   "execution_count": null,
   "metadata": {},
   "outputs": [],
   "source": []
  },
  {
   "cell_type": "code",
   "execution_count": null,
   "metadata": {},
   "outputs": [],
   "source": []
  }
 ],
 "metadata": {
  "kernelspec": {
   "display_name": "Python 3",
   "language": "python",
   "name": "python3"
  },
  "language_info": {
   "codemirror_mode": {
    "name": "ipython",
    "version": 3
   },
   "file_extension": ".py",
   "mimetype": "text/x-python",
   "name": "python",
   "nbconvert_exporter": "python",
   "pygments_lexer": "ipython3",
   "version": "3.8.8"
  }
 },
 "nbformat": 4,
 "nbformat_minor": 2
}
