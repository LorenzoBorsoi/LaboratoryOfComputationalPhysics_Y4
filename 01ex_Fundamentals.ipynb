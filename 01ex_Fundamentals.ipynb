{
 "cells": [
  {
   "cell_type": "markdown",
   "metadata": {},
   "source": [
    "1\\. Write the following as a list comprehension"
   ]
  },
  {
   "cell_type": "code",
   "execution_count": 1,
   "metadata": {},
   "outputs": [
    {
     "name": "stdout",
     "output_type": "stream",
     "text": [
      "[(0, 0), (0, 1), (0, 2), (0, 3), (1, 0), (1, 1), (1, 2), (1, 3), (2, 0), (2, 1), (2, 2), (2, 3)]\n",
      "[0, 4, 16]\n"
     ]
    }
   ],
   "source": [
    "# 1\n",
    "ans = []\n",
    "for i in range(3):\n",
    "    for j in range(4):\n",
    "        ans.append((i, j))\n",
    "print (ans)\n",
    "\n",
    "# 2\n",
    "ans = map(lambda x: x*x, filter(lambda x: x%2 == 0, range(5)))\n",
    "print (list(ans))\n",
    "\n"
   ]
  },
  {
   "cell_type": "code",
   "execution_count": 5,
   "metadata": {},
   "outputs": [
    {
     "name": "stdout",
     "output_type": "stream",
     "text": [
      "[(0, 0), (0, 1), (0, 2), (0, 3), (1, 0), (1, 1), (1, 2), (1, 3), (2, 0), (2, 1), (2, 2), (2, 3)]\n"
     ]
    }
   ],
   "source": [
    "print([(i,j) for i in range(3) for j in range(4)])"
   ]
  },
  {
   "cell_type": "code",
   "execution_count": 7,
   "metadata": {},
   "outputs": [
    {
     "name": "stdout",
     "output_type": "stream",
     "text": [
      "[0, 4, 16]\n"
     ]
    }
   ],
   "source": [
    "print([x**2 for x in range(5) if x%2 == 0])"
   ]
  },
  {
   "cell_type": "markdown",
   "metadata": {},
   "source": [
    "2\\. Convert the following function into a pure function with no global variables or side effects"
   ]
  },
  {
   "cell_type": "code",
   "execution_count": 18,
   "metadata": {},
   "outputs": [
    {
     "name": "stdout",
     "output_type": "stream",
     "text": [
      "[1, 2, 3, 0, 1, 2, 3, 4]\n",
      "[1, 2, 3, 0, 1, 2, 3, 4]\n"
     ]
    }
   ],
   "source": [
    "x = 5\n",
    "def f(alist):\n",
    "    for i in range(x):\n",
    "         alist.append(i)\n",
    "    return alist\n",
    "\n",
    "alist = [1,2,3]\n",
    "ans = f(alist)\n",
    "print (ans)\n",
    "print (alist) # alist has been changed!"
   ]
  },
  {
   "cell_type": "code",
   "execution_count": 29,
   "metadata": {},
   "outputs": [
    {
     "name": "stdout",
     "output_type": "stream",
     "text": [
      "[1, 2, 3, 0, 1, 2, 3, 4]\n",
      "[1, 2, 3]\n"
     ]
    }
   ],
   "source": [
    "x = 5\n",
    "def f(alist):\n",
    "    y = [i for i in alist]\n",
    "    for i in range(x):\n",
    "        y.append(i)\n",
    "    return y\n",
    "\n",
    "alist = [1,2,3]\n",
    "ans = f(alist)\n",
    "print (ans)\n",
    "print (alist) # alist hasn't been changed!"
   ]
  },
  {
   "cell_type": "markdown",
   "metadata": {},
   "source": [
    "3\\. Write a `decorator` hello that makes every wrapped function print “Hello!”, i.e. something like:\n",
    "\n",
    "```python\n",
    "@hello\n",
    "def square(x):\n",
    "    return x*x\n",
    "```\n",
    "\n"
   ]
  },
  {
   "cell_type": "code",
   "execution_count": 33,
   "metadata": {},
   "outputs": [
    {
     "name": "stdout",
     "output_type": "stream",
     "text": [
      "Hello!\n",
      "9\n",
      "Hello!\n"
     ]
    }
   ],
   "source": [
    "def hello(func):\n",
    "    def wrapper(x):\n",
    "        print(\"Hello!\")\n",
    "        func(x)\n",
    "        print(\"Hello!\")\n",
    "    return wrapper\n",
    "\n",
    "@hello\n",
    "def square(x):\n",
    "     print(x*x)\n",
    "\n",
    "square(3)"
   ]
  },
  {
   "cell_type": "markdown",
   "metadata": {},
   "source": [
    "4\\. Write the factorial function so that it a) does and b) does not use recursion."
   ]
  },
  {
   "cell_type": "code",
   "execution_count": 37,
   "metadata": {},
   "outputs": [
    {
     "name": "stdout",
     "output_type": "stream",
     "text": [
      "24\n",
      "24\n"
     ]
    }
   ],
   "source": [
    "def fact1(n):\n",
    "    if n==0 or n==1:\n",
    "        return 1\n",
    "    else:\n",
    "        return n * fact1(n-1)   \n",
    "print(fact1(4))\n",
    "\n",
    "def fact2(n):\n",
    "    a = n\n",
    "    for i in range(n-1):\n",
    "        b = a * (n-i-1)\n",
    "        a=b\n",
    "    return a\n",
    "\n",
    "print(fact2(4))"
   ]
  },
  {
   "cell_type": "markdown",
   "metadata": {},
   "source": [
    "5\\. Use HOFs (zip in particular) to compute the weight of a circle, a disk and a sphere, assuming different radii and different densities:\n",
    "\n",
    "```python\n",
    "densities = {\"Al\":[0.5,1,2],\"Fe\":[3,4,5],\"Pb\": [15,20,30]}\n",
    "radii = [1,2,3]\n",
    "```\n",
    "\n",
    "where the entries of the dictionary's values are the linear, superficial and volumetric densities of the materials respectively.\n",
    "\n",
    "In particular define a list of three lambda functions using a comprehension that computes the circumference, the area and the volume for a given radius.\n"
   ]
  },
  {
   "cell_type": "code",
   "execution_count": 27,
   "metadata": {},
   "outputs": [
    {
     "name": "stdout",
     "output_type": "stream",
     "text": [
      "\n",
      "Weight of a circle\n",
      "\t\tAl\t\t\tFe\t\t\tPb\n",
      "R =  1\t 3.141592653589793\t 18.84955592153876\t 94.24777960769379\n",
      "R =  2\t 6.283185307179586\t 37.69911184307752\t 188.49555921538757\n",
      "R =  3\t 9.42477796076938\t 56.548667764616276\t 282.7433388230814\n",
      "\n",
      "Weight of a disk\n",
      "\t\tAl\t\t\tFe\t\t\tPb\n",
      "R =  1\t 3.141592653589793\t 12.566370614359172\t 62.83185307179586\n",
      "R =  2\t 12.566370614359172\t 50.26548245743669\t 251.32741228718345\n",
      "R =  3\t 28.274333882308138\t 113.09733552923255\t 565.4866776461628\n",
      "\n",
      "Weight of a sphere\n",
      "\t\tAl\t\t\tFe\t\t\tPb\n",
      "R =  1\t 8.377580409572781\t 20.94395102393195\t 125.66370614359171\n",
      "R =  2\t 67.02064327658225\t 167.5516081914556\t 1005.3096491487337\n",
      "R =  3\t 226.19467105846508\t 565.4866776461627\t 3392.920065876976\n"
     ]
    }
   ],
   "source": [
    "#Another way\n",
    "'''\n",
    "from math import pi \n",
    "\n",
    "densities = {\"Al\":[0.5,1,2],\"Fe\":[3,4,5],\"Pb\": [15,20,30]}\n",
    "radii = [1,2,3]\n",
    "\n",
    "c = list(map(lambda r : 2*pi*r, radii))\n",
    "ar = list(map(lambda r : pi * (r**2),radii))\n",
    "v = list(map(lambda r : (4/3)*pi*(r**3),radii))\n",
    "\n",
    "same_dim = list(zip(densities[\"Al\"],densities[\"Fe\"],densities[\"Pb\"]))\n",
    "\n",
    "for j in range(3):\n",
    "    if j == 0:\n",
    "        print(\"\\nWeight of a circle\")\n",
    "        print(\"\\t\\tAl\\t\\t\\tFe\\t\\t\\tPb\")\n",
    "        for a,l in zip(radii,c):\n",
    "            print(\"R = \",a,end='')\n",
    "            for i in same_dim[j]:\n",
    "                print(\"\\t\", l*i,end='')\n",
    "            print()\n",
    "    elif j == 1:\n",
    "        print(\"\\nWeight of a disk\")\n",
    "        print(\"\\t\\tAl\\t\\t\\tFe\\t\\t\\tPb\")\n",
    "        for a,l in zip(radii,ar):\n",
    "            print(\"R = \",a,end='')\n",
    "            for i in same_dim[j]:\n",
    "                print(\"\\t\", l*i,end='')\n",
    "            print()\n",
    "    else: \n",
    "        print(\"\\nWeight of a sphere\")\n",
    "        print(\"\\t\\tAl\\t\\t\\tFe\\t\\t\\tPb\")\n",
    "        for a,l in zip(radii,v):\n",
    "            print(\"R = \",a,end='')\n",
    "            for i in same_dim[j]:\n",
    "                print(\"\\t\", l*i,end='')\n",
    "            print()'''"
   ]
  },
  {
   "cell_type": "code",
   "execution_count": 82,
   "metadata": {},
   "outputs": [
    {
     "name": "stdout",
     "output_type": "stream",
     "text": [
      "\n",
      "Weight of a circle\n",
      "\t\tAl\t\t\tFe\t\t\tPb\n",
      "R =  0\t 3.141592653589793 \t 18.84955592153876 \t 94.24777960769379 \n",
      "\n",
      "R =  1\t 6.283185307179586 \t 37.69911184307752 \t 188.49555921538757 \n",
      "\n",
      "R =  2\t 9.42477796076938 \t 56.548667764616276 \t 282.7433388230814 \n",
      "\n",
      "\n",
      "\n",
      "Weight of a disk\n",
      "\t\tAl\t\t\tFe\t\t\tPb\n",
      "R =  0\t 3.141592653589793 \t 12.566370614359172 \t 62.83185307179586 \n",
      "\n",
      "R =  1\t 12.566370614359172 \t 50.26548245743669 \t 251.32741228718345 \n",
      "\n",
      "R =  2\t 28.274333882308138 \t 113.09733552923255 \t 565.4866776461628 \n",
      "\n",
      "\n",
      "\n",
      "Weight of a sphere\n",
      "\t\tAl\t\t\tFe\t\t\tPb\n",
      "R =  0\t 8.377580409572781 \t 20.94395102393195 \t 125.66370614359171 \n",
      "\n",
      "R =  1\t 67.02064327658225 \t 167.5516081914556 \t 1005.3096491487337 \n",
      "\n",
      "R =  2\t 226.19467105846508 \t 565.4866776461627 \t 3392.920065876976 \n",
      "\n",
      "\n"
     ]
    }
   ],
   "source": [
    "from math import pi \n",
    "\n",
    "densities = {\"Al\":[0.5,1,2],\"Fe\":[3,4,5],\"Pb\": [15,20,30]}\n",
    "radii = [1,2,3]\n",
    "\n",
    "l = list(map(lambda r : 2*pi*r, radii)) + list(map(lambda r : pi * (r**2),radii)) + list(map(lambda r : (4/3)*pi*(r**3),radii))\n",
    "al = list([i for i in densities[\"Al\"] for a in range(3)])\n",
    "fe = list([i for i in densities[\"Fe\"] for a in range(3)])\n",
    "pb = list([i for i in densities[\"Pb\"] for a in range(3)])\n",
    "\n",
    "AL = list(a*b for a,b in zip(l,al))\n",
    "FE = list(a*b for a,b in zip(l,fe))\n",
    "PB = list(a*b for a,b in zip(l,pb))\n",
    "\n",
    "for j in range(3):\n",
    "    if j == 0:\n",
    "        print(\"\\nWeight of a circle\")\n",
    "        print(\"\\t\\tAl\\t\\t\\tFe\\t\\t\\tPb\")\n",
    "        for i in range(3*j,3+3*j):\n",
    "            print(\"R = \",i,end='')\n",
    "            print(\"\\t\",AL[i],\"\\t\",FE[i],\"\\t\",PB[i], \"\\n\")\n",
    "        print()\n",
    "    elif j == 1:\n",
    "        print(\"\\nWeight of a disk\")\n",
    "        print(\"\\t\\tAl\\t\\t\\tFe\\t\\t\\tPb\")\n",
    "        for i in range(3*j,3+3*j):\n",
    "            print(\"R = \",i-3*j,end='')\n",
    "            print(\"\\t\",AL[i],\"\\t\",FE[i],\"\\t\",PB[i], \"\\n\")\n",
    "        print()\n",
    "    else: \n",
    "        print(\"\\nWeight of a sphere\")\n",
    "        print(\"\\t\\tAl\\t\\t\\tFe\\t\\t\\tPb\")\n",
    "        for i in range(3*j,3+3*j):\n",
    "            print(\"R = \",i-3*j,end='')\n",
    "            print(\"\\t\",AL[i],\"\\t\",FE[i],\"\\t\",PB[i], \"\\n\")\n",
    "        print()"
   ]
  },
  {
   "cell_type": "markdown",
   "metadata": {},
   "source": [
    "6\\. Edit the class defintion to add an instance attribute of is_hungry = True to the Dog class. Then add a method called eat() which changes the value of is_hungry to False when called. Figure out the best way to feed each dog and then output “My dogs are hungry.” if all are hungry or “My dogs are not hungry.” if all are not hungry. The final output should look like this:\n",
    "\n",
    "`I have 3 dogs. \n",
    "Tom is 6. \n",
    "Fletcher is 7. \n",
    "Larry is 9. \n",
    "And they're all mammals, of course. \n",
    "My dogs are not hungry.\n",
    "`\n",
    "\n",
    "```python\n",
    "# Parent class\n",
    "class Dog:\n",
    "\n",
    "    # Class attribute\n",
    "    species = 'mammal'\n",
    "\n",
    "    # Initializer / Instance attributes\n",
    "    def __init__(self, name, age):\n",
    "        self.name = name\n",
    "        self.age = age\n",
    "\n",
    "    # instance method\n",
    "    def description(self):\n",
    "        return \"{} is {} years old\".format(self.name, self.age)\n",
    "\n",
    "    # instance method\n",
    "    def speak(self, sound):\n",
    "        return \"{} says {}\".format(self.name, sound)\n",
    "\n",
    "# Child class (inherits from Dog class)\n",
    "class RussellTerrier(Dog):\n",
    "    def run(self, speed):\n",
    "        return \"{} runs {}\".format(self.name, speed)\n",
    "\n",
    "# Child class (inherits from Dog class)\n",
    "class Bulldog(Dog):\n",
    "    def run(self, speed):\n",
    "        return \"{} runs {}\".format(self.name, speed)\n",
    "```"
   ]
  },
  {
   "cell_type": "code",
   "execution_count": 81,
   "metadata": {},
   "outputs": [
    {
     "name": "stdout",
     "output_type": "stream",
     "text": [
      "I have 3 dogs.\n",
      "Tom is 6\n",
      "Fletcher is 7\n",
      "Larry is 7\n",
      "And they're all mammal, of course.\n",
      "My dog aren't hungry\n"
     ]
    }
   ],
   "source": [
    "class Dog:\n",
    "\n",
    "    # Class attribute\n",
    "    species = 'mammal'\n",
    "    is_hungry = True\n",
    "\n",
    "    # Initializer / Instance attributes\n",
    "    def __init__(self, name, age):\n",
    "        self.name = name\n",
    "        self.age = age\n",
    "\n",
    "    # instance method\n",
    "    def description(self):\n",
    "        return \"{} is {} years old\".format(self.name, self.age)\n",
    "\n",
    "    # instance method\n",
    "    def speak(self, sound):\n",
    "        return \"{} says {}\".format(self.name, sound)\n",
    "    \n",
    "    #instance method\n",
    "    def eat(self):\n",
    "        self.is_hungry = False\n",
    "\n",
    "# Child class (inherits from Dog class)\n",
    "class RussellTerrier(Dog):\n",
    "    def run(self, speed):\n",
    "        return \"{} runs {}\".format(self.name, speed)\n",
    "\n",
    "# Child class (inherits from Dog class)\n",
    "class Bulldog(Dog):\n",
    "    def run(self, speed):\n",
    "        return \"{} runs {}\".format(self.name, speed)\n",
    "    \n",
    "t = Dog(\"Tom\",6)\n",
    "f = Dog(\"Fletcher\",7)\n",
    "l = Dog(\"Larry\",7)\n",
    "print(\"I have 3 dogs.\")\n",
    "print(\"{} is {}\".format(t.name,t.age))\n",
    "print(\"{} is {}\".format(f.name,f.age))\n",
    "print(\"{} is {}\".format(l.name,l.age))\n",
    "print(\"And they're all {}, of course.\".format(Dog.species))\n",
    "\n",
    "#print(t.is_hungry)\n",
    "t.eat()\n",
    "#print(t.is_hungry)\n",
    "f.eat()\n",
    "l.eat()\n",
    "\n",
    "if t.is_hungry == True and f.is_hungry == True and l.is_hungry == True:\n",
    "    print(\"My dog are hungry\")\n",
    "else: print(\"My dog aren't hungry\")\n"
   ]
  }
 ],
 "metadata": {
  "kernelspec": {
   "display_name": "Python 3",
   "language": "python",
   "name": "python3"
  },
  "language_info": {
   "codemirror_mode": {
    "name": "ipython",
    "version": 3
   },
   "file_extension": ".py",
   "mimetype": "text/x-python",
   "name": "python",
   "nbconvert_exporter": "python",
   "pygments_lexer": "ipython3",
   "version": "3.7.4"
  }
 },
 "nbformat": 4,
 "nbformat_minor": 2
}
