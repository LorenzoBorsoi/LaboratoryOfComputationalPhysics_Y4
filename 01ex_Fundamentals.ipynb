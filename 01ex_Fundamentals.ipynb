{
 "cells": [
  {
   "cell_type": "markdown",
   "metadata": {},
   "source": [
    "1\\. Write the following as a list comprehension"
   ]
  },
  {
   "cell_type": "code",
   "execution_count": 1,
   "metadata": {},
   "outputs": [
    {
     "name": "stdout",
     "output_type": "stream",
     "text": [
      "[(0, 0), (0, 1), (0, 2), (0, 3), (1, 0), (1, 1), (1, 2), (1, 3), (2, 0), (2, 1), (2, 2), (2, 3)]\n",
      "[0, 4, 16]\n"
     ]
    }
   ],
   "source": [
    "# 1\n",
    "ans = []\n",
    "for i in range(3):\n",
    "    for j in range(4):\n",
    "        ans.append((i, j))\n",
    "print (ans)\n",
    "\n",
    "# 2\n",
    "ans = map(lambda x: x*x, filter(lambda x: x%2 == 0, range(5)))\n",
    "print (list(ans))"
   ]
  },
  {
   "cell_type": "code",
   "execution_count": 3,
   "metadata": {},
   "outputs": [
    {
     "name": "stdout",
     "output_type": "stream",
     "text": [
      "[(0, 0), (0, 1), (0, 2), (0, 3), (1, 0), (1, 1), (1, 2), (1, 3), (2, 0), (2, 1), (2, 2), (2, 3)]\n",
      "[0, 4, 16]\n"
     ]
    }
   ],
   "source": [
    "# 1\n",
    "print([(x,y) for x in range(3) for y in range(4)])\n",
    "\n",
    "# 2\n",
    "print([x*x for x in range(5) if x%2 == 0])"
   ]
  },
  {
   "cell_type": "markdown",
   "metadata": {},
   "source": [
    "2\\. Convert the following function into a pure function with no global variables or side effects"
   ]
  },
  {
   "cell_type": "code",
   "execution_count": 4,
   "metadata": {},
   "outputs": [
    {
     "name": "stdout",
     "output_type": "stream",
     "text": [
      "result with pure function is [1, 2, 3, 0, 1, 2, 3, 4] and the list remain [1, 2, 3]\n",
      "result without pure function is [1, 2, 3, 0, 1, 2, 3, 4] but the list has changed to [1, 2, 3, 0, 1, 2, 3, 4]\n"
     ]
    }
   ],
   "source": [
    "x = 5\n",
    "\n",
    "#pure\n",
    "def f_p(alist):\n",
    "    return alist + list(range(0,x))\n",
    "                        \n",
    "#not pure\n",
    "def f_np(alist):\n",
    "    for i in range(x):\n",
    "         alist.append(i)\n",
    "    return alist\n",
    "\n",
    "alist = [1,2,3]\n",
    "ans_p = f_p(alist)\n",
    "print (\"result with pure function is\", ans_p, \"and the list remain\", alist)\n",
    "ans_np = f_np(alist)\n",
    "print (\"result without pure function is\", ans_np, \"but the list has changed to\", alist)"
   ]
  },
  {
   "cell_type": "markdown",
   "metadata": {},
   "source": [
    "3\\. Write a `decorator` hello that makes every wrapped function print “Hello!”, i.e. something like:\n",
    "\n",
    "```python\n",
    "@hello\n",
    "def square(x):\n",
    "    return x*x\n",
    "```\n",
    "\n"
   ]
  },
  {
   "cell_type": "code",
   "execution_count": 6,
   "metadata": {},
   "outputs": [
    {
     "name": "stdout",
     "output_type": "stream",
     "text": [
      "Hello!\n",
      "36\n"
     ]
    }
   ],
   "source": [
    "def hello(func):\n",
    "    def wrapper(*args, **kwargs): #(*args, **kwargs) <-- we don't know which and how many parameters\n",
    "        print(\"Hello!\")\n",
    "        return func(*args, **kwargs)\n",
    "    return wrapper\n",
    "\n",
    "@hello\n",
    "def square(x):\n",
    "    return(x*x)\n",
    "    \n",
    "print(square(6))"
   ]
  },
  {
   "cell_type": "markdown",
   "metadata": {},
   "source": [
    "4\\. Write the factorial function so that it a) does and b) does not use recursion."
   ]
  },
  {
   "cell_type": "code",
   "execution_count": 7,
   "metadata": {},
   "outputs": [
    {
     "name": "stdout",
     "output_type": "stream",
     "text": [
      "factorial (recursive) of 1 is: 1\n",
      "factorial (recursive) of 5 is: 120\n",
      "factorial (not recursive) of 1 is: 1\n",
      "factorial (not recursive) of 5 is: 120\n"
     ]
    }
   ],
   "source": [
    "# a)\n",
    "def rec_fact(x):\n",
    "    if x==0:\n",
    "        return 1\n",
    "    if x==1:\n",
    "        return x\n",
    "    else:\n",
    "        return x*rec_fact(x-1)\n",
    "            \n",
    "# b)\n",
    "def fact(x):\n",
    "    if x==0:\n",
    "        return 1\n",
    "    else:\n",
    "        l=list(range(1,x+1))\n",
    "        f=1\n",
    "        for n in l:\n",
    "            f*=n\n",
    "        return f\n",
    "    \n",
    "print(\"factorial (recursive) of 1 is:\", rec_fact(1))    \n",
    "print(\"factorial (recursive) of 5 is:\", rec_fact(5))\n",
    "print(\"factorial (not recursive) of 1 is:\", fact(1))    \n",
    "print(\"factorial (not recursive) of 5 is:\", fact(5))"
   ]
  },
  {
   "cell_type": "markdown",
   "metadata": {},
   "source": [
    "5\\. Use HOFs (zip in particular) to compute the weight of a circle, a disk and a sphere, assuming different radii and different densities:\n",
    "\n",
    "```python\n",
    "densities = {\"Al\":[0.5,1,2],\"Fe\":[3,4,5],\"Pb\": [15,20,30]}\n",
    "radii = [1,2,3]\n",
    "```\n",
    "\n",
    "where the entries of the dictionary's values are the linear, superficial and volumetric densities of the materials respectively.\n",
    "\n",
    "In particular define a list of three lambda functions using a comprehension that computes the circumference, the area and the volume for a given radius.\n"
   ]
  },
  {
   "cell_type": "code",
   "execution_count": 9,
   "metadata": {},
   "outputs": [
    {
     "name": "stdout",
     "output_type": "stream",
     "text": [
      "---------results for wieghts in 1D:---------\n",
      "weight of Al with radius equal to 1 is 3.142\n",
      "weight of Al with radius equal to 2 is 6.28\n",
      "weight of Al with radius equal to 3 is 9.4\n",
      "\t\n",
      "weight of Fe with radius equal to 1 is 18.850\n",
      "weight of Fe with radius equal to 2 is 37.70\n",
      "weight of Fe with radius equal to 3 is 56.5\n",
      "\t\n",
      "weight of Pb with radius equal to 1 is 94.248\n",
      "weight of Pb with radius equal to 2 is 188.50\n",
      "weight of Pb with radius equal to 3 is 282.7\n",
      "\t\n",
      "---------results for wieghts in 2D:---------\n",
      "weight of Al with radius equal to 1 is 3.142\n",
      "weight of Al with radius equal to 2 is 12.57\n",
      "weight of Al with radius equal to 3 is 28.3\n",
      "\t\n",
      "weight of Fe with radius equal to 1 is 12.566\n",
      "weight of Fe with radius equal to 2 is 50.27\n",
      "weight of Fe with radius equal to 3 is 113.1\n",
      "\t\n",
      "weight of Pb with radius equal to 1 is 62.832\n",
      "weight of Pb with radius equal to 2 is 251.33\n",
      "weight of Pb with radius equal to 3 is 565.5\n",
      "\t\n",
      "---------results for wieghts in 3D:---------\n",
      "weight of Al with radius equal to 1 is 8.378\n",
      "weight of Al with radius equal to 2 is 67.02\n",
      "weight of Al with radius equal to 3 is 226.2\n",
      "\t\n",
      "weight of Fe with radius equal to 1 is 20.944\n",
      "weight of Fe with radius equal to 2 is 167.55\n",
      "weight of Fe with radius equal to 3 is 565.5\n",
      "\t\n",
      "weight of Pb with radius equal to 1 is 125.664\n",
      "weight of Pb with radius equal to 2 is 1005.31\n",
      "weight of Pb with radius equal to 3 is 3392.9\n",
      "\t\n"
     ]
    }
   ],
   "source": [
    "densities = {\"Al\":[0.5,1,2],\"Fe\":[3,4,5],\"Pb\": [15,20,30]}\n",
    "radii = [1,2,3]\n",
    "\n",
    "from math import pi\n",
    "\n",
    "c = lambda r: 2 * pi * r\n",
    "a = lambda r: pi * r**2\n",
    "v = lambda r: 4/3 * pi * r**3\n",
    "\n",
    "circle_circumferences = [c(r) for r in radii]\n",
    "disk_areas = [a(r) for r in radii]\n",
    "sphere_volumes = [v(r) for r in radii]\n",
    "figures = [circle_circumferences, disk_areas, sphere_volumes]\n",
    "\n",
    "i=1\n",
    "for f in figures:\n",
    "    print(\"---------results for wieghts in\", str(i) + \"D:---------\")\n",
    "    for d in densities:\n",
    "        print(\"weight of\", d, \"with radius equal to\", radii[0], \"is\", \"{:.3f}\".format(densities[d][i-1]*f[0]))\n",
    "        print(\"weight of\", d, \"with radius equal to\", radii[1], \"is\", \"{:.2f}\".format(densities[d][i-1]*f[1]))\n",
    "        print(\"weight of\", d, \"with radius equal to\", radii[2], \"is\", \"{:.1f}\".format(densities[d][i-1]*f[2]))\n",
    "        print(\"\\t\")\n",
    "    i+=1\n"
   ]
  },
  {
   "cell_type": "markdown",
   "metadata": {},
   "source": [
    "6\\. Edit the class defintion to add an instance attribute of is_hungry = True to the Dog class. Then add a method called eat() which changes the value of is_hungry to False when called. Figure out the best way to feed each dog and then output “My dogs are hungry.” if all are hungry or “My dogs are not hungry.” if all are not hungry. The final output should look like this:\n",
    "\n",
    "`I have 3 dogs. \n",
    "Tom is 6. \n",
    "Fletcher is 7. \n",
    "Larry is 9. \n",
    "And they're all mammals, of course. \n",
    "My dogs are not hungry.\n",
    "`"
   ]
  },
  {
   "cell_type": "code",
   "execution_count": 10,
   "metadata": {},
   "outputs": [
    {
     "name": "stdout",
     "output_type": "stream",
     "text": [
      "I have 3 dogs.\n",
      "Tom is 6.\n",
      "Fletcher is 7.\n",
      "Larry is 9.\n",
      "And they're all mammals, of course.\n",
      "My dogs are not hungry.\n"
     ]
    }
   ],
   "source": [
    "# Parent class\n",
    "class Dog:\n",
    "\n",
    "    # Class attribute\n",
    "    species = 'mammal'\n",
    "    is_hungry = True\n",
    "    \n",
    "    # Initializer / Instance attributes\n",
    "    def __init__(self, name, age):\n",
    "        self.name = name\n",
    "        self.age = age\n",
    "\n",
    "    # instance method\n",
    "    def description(self):\n",
    "        return \"{} is {} years old\".format(self.name, self.age)\n",
    "\n",
    "    # instance method\n",
    "    def speak(self, sound):\n",
    "        return \"{} says {}\".format(self.name, sound)\n",
    "    \n",
    "    # instance method\n",
    "    def hunger(self):\n",
    "        return self.is_hungry  \n",
    "        \n",
    "    # instance method\n",
    "    def eat(self):\n",
    "        self.is_hungry = False\n",
    "\n",
    "# Child class (inherits from Dog class)\n",
    "class RussellTerrier(Dog):\n",
    "    def run(self, speed):\n",
    "        return \"{} runs {}\".format(self.name, speed)\n",
    "\n",
    "# Child class (inherits from Dog class)\n",
    "class Bulldog(Dog):\n",
    "    def run(self, speed):\n",
    "        return \"{} runs {}\".format(self.name, speed)\n",
    "    \n",
    "dog1 = Dog(\"Tom\", 6)\n",
    "dog2 = Dog(\"Fletcher\", 7)\n",
    "dog3 = Dog(\"Larry\", 9)\n",
    "dogs = (dog1, dog2, dog3)\n",
    "\n",
    "print(\"I have\", len(dogs), \"dogs.\")\n",
    "for i in dogs:\n",
    "    print(str(i.name), \"is\", str(i.age) + \".\")\n",
    "if dog1.species == dog2.species == dog3.species == \"mammal\":\n",
    "    print(\"And they're all\", dog1.species + \"s, of course.\")\n",
    "#make them eat!\n",
    "for d in dogs:\n",
    "    d.eat()\n",
    "    \n",
    "if dog1.is_hungry == dog2.is_hungry == dog3.is_hungry == False:\n",
    "    print(\"My dogs are not hungry.\")"
   ]
  },
  {
   "cell_type": "code",
   "execution_count": null,
   "metadata": {},
   "outputs": [],
   "source": []
  }
 ],
 "metadata": {
  "kernelspec": {
   "display_name": "Python 3",
   "language": "python",
   "name": "python3"
  },
  "language_info": {
   "codemirror_mode": {
    "name": "ipython",
    "version": 3
   },
   "file_extension": ".py",
   "mimetype": "text/x-python",
   "name": "python",
   "nbconvert_exporter": "python",
   "pygments_lexer": "ipython3",
   "version": "3.7.6"
  }
 },
 "nbformat": 4,
 "nbformat_minor": 4
}
