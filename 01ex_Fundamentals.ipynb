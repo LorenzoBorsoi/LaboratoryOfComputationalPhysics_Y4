{
 "cells": [
  {
   "cell_type": "markdown",
   "metadata": {},
   "source": [
    "## Exercises 01 - Carmen Martín Turrero"
   ]
  },
  {
   "cell_type": "markdown",
   "metadata": {},
   "source": [
    "1\\. Write the following as a list comprehension"
   ]
  },
  {
   "cell_type": "code",
   "execution_count": 1,
   "metadata": {},
   "outputs": [
    {
     "name": "stdout",
     "output_type": "stream",
     "text": [
      "Without using list comprehension we get: [(0, 0), (0, 1), (0, 2), (0, 3), (1, 0), (1, 1), (1, 2), (1, 3), (2, 0), (2, 1), (2, 2), (2, 3)]\n",
      "\n",
      "Using list comprehension we get: [(0, 0), (0, 1), (0, 2), (0, 3), (1, 0), (1, 1), (1, 2), (1, 3), (2, 0), (2, 1), (2, 2), (2, 3)]\n"
     ]
    }
   ],
   "source": [
    "# 1\n",
    "# Without list comprehension:\n",
    "ans = []\n",
    "for i in range(3):\n",
    "    for j in range(4):\n",
    "        ans.append((i, j))\n",
    "print (\"Without using list comprehension we get:\", ans)\n",
    "\n",
    "# With list comprehension:\n",
    "\n",
    "ans2 = [(k, l) for k in range(3) for l in range(4)]\n",
    "print()\n",
    "print(\"Using list comprehension we get:\", ans2)"
   ]
  },
  {
   "cell_type": "code",
   "execution_count": 2,
   "metadata": {
    "pycharm": {
     "name": "#%%\n"
    }
   },
   "outputs": [
    {
     "name": "stdout",
     "output_type": "stream",
     "text": [
      "Without using list comprehension we get: [0, 4, 16]\n",
      "Using list comprehension we get: [0, 4, 16]\n"
     ]
    }
   ],
   "source": [
    "# 2\n",
    "ans = list(map(lambda x: x*x, filter(lambda x: x%2 == 0, range(5))))\n",
    "print (\"Without using list comprehension we get:\", ans)\n",
    "\n",
    "# Now with list comprehension:\n",
    "ans2 = [x**2 for x in range(5) if x%2 == 0]\n",
    "print(\"Using list comprehension we get:\", ans2)\n"
   ]
  },
  {
   "cell_type": "markdown",
   "metadata": {},
   "source": [
    "2\\. Convert the following function into a pure function with no global variables or side effects"
   ]
  },
  {
   "cell_type": "code",
   "execution_count": 3,
   "metadata": {},
   "outputs": [
    {
     "name": "stdout",
     "output_type": "stream",
     "text": [
      "[1, 2, 3, 0, 1, 2, 3, 4]\n",
      "[1, 2, 3, 0, 1, 2, 3, 4]\n",
      "[3, 2, 1]\n",
      "[3, 2, 1, 0, 1, 2, 3, 4]\n"
     ]
    }
   ],
   "source": [
    "x = 5\n",
    "def f(alist):\n",
    "    for i in range(x):\n",
    "         alist.append(i)\n",
    "    return alist\n",
    "\n",
    "alist = [1,2,3]\n",
    "ans = f(alist)\n",
    "print (ans)\n",
    "print (alist) # alist has been changed!\n",
    "\n",
    "\n",
    "#We want for our list not to change:\n",
    "\n",
    "def g(n, alist):\n",
    "    a = []\n",
    "    for i in range(n):\n",
    "        a.append(i)\n",
    "    return alist+a\n",
    "\n",
    "blist = [3,2,1]\n",
    "ans2 = g(5,blist)\n",
    "print(blist)\n",
    "print(ans2)"
   ]
  },
  {
   "cell_type": "markdown",
   "metadata": {},
   "source": [
    "3\\. Write a `decorator` hello that makes every wrapped function print “Hello!”, i.e. something like:\n",
    "\n",
    "```python\n",
    "@hello\n",
    "def square(x):\n",
    "    return x*x\n",
    "```"
   ]
  },
  {
   "cell_type": "code",
   "execution_count": 4,
   "metadata": {
    "pycharm": {
     "name": "#%%\n"
    }
   },
   "outputs": [
    {
     "name": "stdout",
     "output_type": "stream",
     "text": [
      "Hello!\n",
      "9\n"
     ]
    }
   ],
   "source": [
    "def hello_decorator(function):\n",
    "    def wrapper(x):\n",
    "        print(\"Hello!\")\n",
    "        return function(x)\n",
    "    return wrapper\n",
    "\n",
    "@hello_decorator\n",
    "def square(x):\n",
    "    return x**2\n",
    "\n",
    "print(square(3))\n"
   ]
  },
  {
   "cell_type": "markdown",
   "metadata": {},
   "source": [
    "\n",
    "\n",
    "4\\. Write the factorial function so that it a) does and b) does not use recursion."
   ]
  },
  {
   "cell_type": "code",
   "execution_count": 5,
   "metadata": {
    "pycharm": {
     "name": "#%%\n"
    }
   },
   "outputs": [
    {
     "name": "stdout",
     "output_type": "stream",
     "text": [
      "120\n",
      "120\n"
     ]
    }
   ],
   "source": [
    "# Factorial function with recursion:\n",
    "\n",
    "def fact1(n):\n",
    "    f = n\n",
    "    if n == 0 or n == 1:\n",
    "        return 1\n",
    "    else:\n",
    "        return n*fact1(n-1)\n",
    "\n",
    "print(fact1(5))\n",
    "\n",
    "# Factorial function without recursion:\n",
    "\n",
    "def fact2(n):\n",
    "    f = 1\n",
    "    for i in range(1,n+1):\n",
    "        f *= i\n",
    "    return f\n",
    "\n",
    "print(fact2(5))\n"
   ]
  },
  {
   "cell_type": "markdown",
   "metadata": {},
   "source": [
    "5\\. Use HOFs (zip in particular) to compute the weight of a circle, a disk and a sphere, assuming different radii and different densities:\n",
    "\n",
    "```python\n",
    "densities = {\"Al\":[0.5,1,2],\"Fe\":[3,4,5],\"Pb\": [15,20,30]}\n",
    "radii = [1,2,3]\n",
    "```\n",
    "\n",
    "where the entries of the dictionary's values are the linear, superficial and volumetric densities of the materials respectively.\n",
    "\n",
    "In particular define a list of three lambda functions using a comprehension that computes the circumference, the area and the volume for a given radius."
   ]
  },
  {
   "cell_type": "code",
   "execution_count": 6,
   "metadata": {
    "pycharm": {
     "name": "#%%\n"
    }
   },
   "outputs": [
    {
     "name": "stdout",
     "output_type": "stream",
     "text": [
      "1  :  {'Al': [[3.14, 3.14, 8.38]], 'Fe': [[18.85, 12.57, 20.94]], 'Pb': [[94.25, 62.83, 125.66]]}\n",
      "2  :  {'Al': [[6.28, 12.57, 67.02]], 'Fe': [[37.7, 50.27, 167.55]], 'Pb': [[188.5, 251.33, 1005.31]]}\n",
      "3  :  {'Al': [[9.42, 28.27, 226.19]], 'Fe': [[56.55, 113.1, 565.49]], 'Pb': [[282.74, 565.49, 3392.92]]}\n"
     ]
    }
   ],
   "source": [
    "from math import pi\n",
    "\n",
    "ratios = [1,2,3]\n",
    "densities = {\"Al\":[0.5,1,2],\"Fe\":[3,4,5],\"Pb\": [15,20,30]}\n",
    "\n",
    "def weights(r):\n",
    "    # This function returns the 1D, 2D and 3D weights of a set of given elements, respectively.\n",
    "    \n",
    "    w = {}  # dictionary where we will store the weight values of the different elements.\n",
    "    type(w)\n",
    "    \n",
    "    A = [lambda r: 2 * pi * r, lambda r: pi * r ** 2, lambda r: 4 * pi * (r ** 3) / 3]  # list with the three lambda functions that compute the circumference, area and volume, respectively.\n",
    "    \n",
    "    for i in densities:\n",
    "        # We go over the different elements we want to study\n",
    "        w_aux = []\n",
    "        for a, d in zip(A, densities[i]):\n",
    "            # we calculate the different dimension weights\n",
    "            w_aux.append(round(a(r)*d,2))\n",
    "        w[i] = [w_aux]\n",
    "    return w\n",
    "\n",
    "Result = {r: weights(r) for r in ratios} #we use the weight function with different ratios.\n",
    "\n",
    "for key in Result:\n",
    "    print(key, ' : ', Result[key])"
   ]
  },
  {
   "cell_type": "markdown",
   "metadata": {},
   "source": [
    "6\\. Edit the class defintion to add an instance attribute of is_hungry = True to the Dog class. Then add a method called eat() which changes the value of is_hungry to False when called. Figure out the best way to feed each dog and then output “My dogs are hungry.” if all are hungry or “My dogs are not hungry.” if all are not hungry. The final output should look like this:\n"
   ]
  },
  {
   "cell_type": "code",
   "execution_count": 14,
   "metadata": {},
   "outputs": [],
   "source": [
    "# Parent class\n",
    "class Dog:\n",
    "\n",
    "    # Class attribute\n",
    "    species = 'mammal'\n",
    "    counter = 0\n",
    "    names = []\n",
    "\n",
    "    # Initializer / Instance attributes\n",
    "    def __init__(self, name, age, hungry):\n",
    "        self.name = name\n",
    "        self.age = age\n",
    "        self.is_hungry = hungry\n",
    "\n",
    "        #Each time we name a dog, we add to the counters\n",
    "        Dog.counter += 1\n",
    "        Dog.names.append(self)\n",
    "\n",
    "    # instance method\n",
    "    def description(self):\n",
    "        return \"{} is {} years old.\".format(self.name, self.age)\n",
    "\n",
    "    # instance method\n",
    "    def speak(self, sound):\n",
    "        return \"{} says {}.\".format(self.name, sound)\n",
    "\n",
    "    #instance method\n",
    "    def hungry(self):\n",
    "        if self.is_hungry == True:\n",
    "            return \"{} is hungry.\".format(self.name)\n",
    "        else:\n",
    "            return \"{} is not hungry.\".format(self.name)\n",
    "\n",
    "    #instance method\n",
    "    def eat(self):\n",
    "        self.is_hungry = False\n",
    "\n",
    "# Child class (inherits from Dog class)\n",
    "class RussellTerrier(Dog):\n",
    "    kind = 'Russell Terrier'\n",
    "    def run(self, speed):\n",
    "        return \"{} runs {}.\".format(self.name, speed)\n",
    "\n",
    "# Child class (inherits from Dog class)\n",
    "class Bulldog(Dog):\n",
    "    kind = 'bulldog'\n",
    "    def run(self, speed):\n",
    "        return \"{} runs {}.\".format(self.name, speed)\n",
    "\n",
    "# Count the number of dogs I have\n",
    "def count(counter):\n",
    "    if counter == 1:\n",
    "       return \"I have 1 dog.\"\n",
    "    else:\n",
    "       return \"I have {} dogs.\".format(counter)\n",
    "\n",
    "# See if my dogs are hungry\n",
    "def hungry_dogs(names):\n",
    "    k = 0\n",
    "    for i in names:\n",
    "        if i.is_hungry == True:\n",
    "            k += 1\n",
    "    if k == 0:\n",
    "        return \"My dogs are not hungry.\"\n",
    "    elif k == Dog.counter:\n",
    "        return \"My dogs are hungry.\"\n",
    "    else:\n",
    "        return \"Some of my dogs are hungry.\""
   ]
  },
  {
   "cell_type": "code",
   "execution_count": 15,
   "outputs": [
    {
     "name": "stdout",
     "output_type": "stream",
     "text": [
      "Are my dogs hungry? My dogs are hungry.\n"
     ]
    }
   ],
   "source": [
    "Lola = Dog('Lola', 10, True) \n",
    "Lucas = Bulldog('Lucas', 13, True)\n",
    "Pepe = Dog('Pepe', 3, True)\n",
    "Mika = RussellTerrier('Mika', 6, True)\n",
    "\n",
    "print(\"Are my dogs hungry?\", hungry_dogs(Dog.names))"
   ],
   "metadata": {
    "collapsed": false,
    "pycharm": {
     "name": "#%%\n"
    }
   }
  },
  {
   "cell_type": "code",
   "execution_count": 16,
   "outputs": [
    {
     "name": "stdout",
     "output_type": "stream",
     "text": [
      "Are my dogs hungry? Some of my dogs are hungry.\n"
     ]
    }
   ],
   "source": [
    "Lola.eat()\n",
    "Mika.eat()\n",
    "\n",
    "print(\"Are my dogs hungry?\", hungry_dogs(Dog.names))"
   ],
   "metadata": {
    "collapsed": false,
    "pycharm": {
     "name": "#%%\n"
    }
   }
  },
  {
   "cell_type": "code",
   "execution_count": 17,
   "outputs": [
    {
     "name": "stdout",
     "output_type": "stream",
     "text": [
      "Which of my dogs are still hungry? Lola is not hungry. Lucas is hungry. Pepe is hungry. Mika is not hungry.\n"
     ]
    }
   ],
   "source": [
    "print(\"Which of my dogs are still hungry?\", Lola.hungry(),Lucas.hungry(),Pepe.hungry(),Mika.hungry())"
   ],
   "metadata": {
    "collapsed": false,
    "pycharm": {
     "name": "#%%\n"
    }
   }
  },
  {
   "cell_type": "code",
   "execution_count": 19,
   "outputs": [
    {
     "name": "stdout",
     "output_type": "stream",
     "text": [
      "I have 4 dogs. Lola is 10 years old. Lucas is 13 years old. Pepe is 3 years old. Mika is 6 years old. They are all mammals, of course. My dogs are not hungry.\n"
     ]
    }
   ],
   "source": [
    "Pepe.eat()\n",
    "Lucas.eat()\n",
    "\n",
    "print(count(Dog.counter), Lola.description(), Lucas.description(), Pepe.description(), Mika.description(), \"They are all {}s, of course.\".format(Dog.species), hungry_dogs(Dog.names))"
   ],
   "metadata": {
    "collapsed": false,
    "pycharm": {
     "name": "#%%\n"
    }
   }
  }
 ],
 "metadata": {
  "kernelspec": {
   "display_name": "Python 3",
   "language": "python",
   "name": "python3"
  },
  "language_info": {
   "codemirror_mode": {
    "name": "ipython",
    "version": 3
   },
   "file_extension": ".py",
   "mimetype": "text/x-python",
   "name": "python",
   "nbconvert_exporter": "python",
   "pygments_lexer": "ipython3",
   "version": "3.8.8"
  }
 },
 "nbformat": 4,
 "nbformat_minor": 2
}