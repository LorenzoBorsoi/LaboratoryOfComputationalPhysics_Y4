{
 "cells": [
  {
   "cell_type": "markdown",
   "metadata": {},
   "source": [
    "1\\. Write the following as a list comprehension"
   ]
  },
  {
   "cell_type": "code",
   "execution_count": 1,
   "metadata": {},
   "outputs": [
    {
     "name": "stdout",
     "output_type": "stream",
     "text": [
      "[(0, 0), (0, 1), (0, 2), (0, 3), (1, 0), (1, 1), (1, 2), (1, 3), (2, 0), (2, 1), (2, 2), (2, 3)]\n",
      "[0, 4, 16]\n"
     ]
    }
   ],
   "source": [
    "#this is the question\n",
    "# 1\n",
    "ans = []\n",
    "for i in range(3):\n",
    "    for j in range(4):\n",
    "        ans.append((i, j))\n",
    "print (,ans)\n",
    "\n",
    "# 2\n",
    "ans = map(lambda x: x*x, filter(lambda x: x%2 == 0, range(5)))\n",
    "print (list(ans))\n",
    "\n"
   ]
  },
  {
   "cell_type": "code",
   "execution_count": 2,
   "metadata": {},
   "outputs": [
    {
     "name": "stdout",
     "output_type": "stream",
     "text": [
      " list comprehension of first question: \n",
      " [(0, 0), (0, 1), (0, 2), (0, 3), (1, 0), (1, 1), (1, 2), (1, 3), (2, 0), (2, 1), (2, 2), (2, 3)] \n",
      "\n",
      " list comprehension of second question: \n",
      " [0, 4, 16]\n"
     ]
    }
   ],
   "source": [
    "#this is my answers\n",
    "#the list comprehension of part 1\n",
    "\n",
    "print(\" list comprehension of first question:\",'\\n',[(i,j) for i in range(3) for j in range(4)],'\\n')\n",
    "\n",
    "#the list comprehension of prt 2\n",
    "\n",
    "print(\" list comprehension of second question:\",'\\n',[x*x for x in range(5) if x%2==0])"
   ]
  },
  {
   "cell_type": "markdown",
   "metadata": {},
   "source": [
    "2\\. Convert the following function into a pure function with no global variables or side effects"
   ]
  },
  {
   "cell_type": "code",
   "execution_count": 18,
   "metadata": {},
   "outputs": [
    {
     "name": "stdout",
     "output_type": "stream",
     "text": [
      "[1, 2, 3, 0, 1, 2, 3, 4]\n",
      "[1, 2, 3, 0, 1, 2, 3, 4]\n"
     ]
    }
   ],
   "source": [
    "#this is the question\n",
    "x = 5\n",
    "def f(alist):\n",
    "    for i in range(x):\n",
    "         alist.append(i)\n",
    "    return alist\n",
    "\n",
    "alist = [1,2,3]\n",
    "ans = f(alist)\n",
    "print (ans)\n",
    "print (alist) # alist has been changed!"
   ]
  },
  {
   "cell_type": "code",
   "execution_count": 4,
   "metadata": {},
   "outputs": [
    {
     "name": "stdout",
     "output_type": "stream",
     "text": [
      "show alist out of function: \n",
      " [1, 2, 3] \n",
      "\n",
      "we use function to show alist: \n",
      " [1, 2, 3, 0, 1, 2, 3, 4] \n",
      "\n",
      "show alist again out of function: \n",
      " [1, 2, 3] \n",
      "\n"
     ]
    }
   ],
   "source": [
    "#this is my answer\n",
    "def no_modify(alist):\n",
    "    alist=[1,2,3,0,1,2,3,4]\n",
    "        \n",
    "    return alist\n",
    "\n",
    "alist = [1,2,3]\n",
    "print(\"show alist out of function:\",'\\n',alist,'\\n')\n",
    "print(\"we use function to show alist:\",'\\n',no_modify(alist),'\\n')\n",
    "print(\"show alist again out of function:\",'\\n',alist,'\\n')\n",
    "    "
   ]
  },
  {
   "cell_type": "markdown",
   "metadata": {},
   "source": [
    "3\\. Write a `decorator` hello that makes every wrapped function print “Hello!”, i.e. something like:\n",
    "\n",
    "```python\n",
    "@hello\n",
    "def square(x):\n",
    "    return x*x\n",
    "```\n",
    "\n"
   ]
  },
  {
   "cell_type": "code",
   "execution_count": 17,
   "metadata": {},
   "outputs": [
    {
     "name": "stdout",
     "output_type": "stream",
     "text": [
      "hello\n",
      "2500\n",
      "hello\n"
     ]
    }
   ],
   "source": [
    "#writing decorator hello:\n",
    "\n",
    "def decorator_hello(func): \n",
    "    def wrapper(x):\n",
    "        print(\"hello\")\n",
    "        print(func(x))\n",
    "        print(\"hello\")\n",
    "          \n",
    "    return wrapper\n",
    "\n",
    "@decorator_hello   \n",
    "def square(x):\n",
    "    return x*x\n",
    "square(50)"
   ]
  },
  {
   "cell_type": "markdown",
   "metadata": {},
   "source": [
    "4\\. Write the factorial function so that it a) does and b) does not use recursion."
   ]
  },
  {
   "cell_type": "code",
   "execution_count": 19,
   "metadata": {},
   "outputs": [
    {
     "name": "stdout",
     "output_type": "stream",
     "text": [
      "the factorial of 5 is 120\n"
     ]
    }
   ],
   "source": [
    "# a) factorial function does use recursion\n",
    "def factorial_a(n):\n",
    "    if n<=1:\n",
    "        return 1\n",
    "    else:\n",
    "        return (n*factorial_a(n-1))\n",
    "number=5\n",
    "print(\"the factorial of\",number,\"is\",factorial_a(number))"
   ]
  },
  {
   "cell_type": "code",
   "execution_count": 3,
   "metadata": {},
   "outputs": [
    {
     "data": {
      "text/plain": [
       "6"
      ]
     },
     "execution_count": 3,
     "metadata": {},
     "output_type": "execute_result"
    }
   ],
   "source": [
    "#b) factorial function does not use recursion\n",
    "\n",
    "def factorial_b(n):\n",
    "    \n",
    "    for i in range(1,n-1):\n",
    "        result=n*(n-i)\n",
    "    return result\n",
    "factorial_b(3)    "
   ]
  },
  {
   "cell_type": "markdown",
   "metadata": {},
   "source": [
    "5\\. Use HOFs (zip in particular) to compute the weight of a circle, a disk and a sphere, assuming different radii and different densities:\n",
    "\n",
    "```python\n",
    "densities = {\"Al\":[0.5,1,2],\"Fe\":[3,4,5],\"Pb\": [15,20,30]}\n",
    "radii = [1,2,3]\n",
    "```\n",
    "\n",
    "where the entries of the dictionary's values are the linear, superficial and volumetric densities of the materials respectively.\n",
    "\n",
    "In particular define a list of three lambda functions using a comprehension that computes the circumference, the area and the volume for a given radius.\n"
   ]
  },
  {
   "cell_type": "code",
   "execution_count": 42,
   "metadata": {},
   "outputs": [
    {
     "name": "stdout",
     "output_type": "stream",
     "text": [
      "show area of circle: \n",
      " [3.141592653589793, 12.566370614359172, 28.274333882308138] \n",
      "\n",
      "show circumferences of circle: \n",
      " [6.283185307179586, 12.566370614359172, 18.84955592153876] \n",
      "\n",
      "show volume of circle:\n",
      " [4.1887902047863905, 33.510321638291124, 113.09733552923254] \n",
      "\n",
      "Al radius  1 : \n",
      "\n",
      "2.0943951023931953\n",
      "4.1887902047863905\n",
      "8.377580409572781\n",
      "Fe radius  2 : \n",
      "\n",
      "100.53096491487338\n",
      "134.0412865531645\n",
      "167.5516081914556\n",
      "Pb radius  3 : \n",
      "\n",
      "1696.460032938488\n",
      "2261.9467105846506\n",
      "3392.920065876976\n"
     ]
    }
   ],
   "source": [
    "import math\n",
    "\n",
    "densities = {\"Al\":[0.5,1,2],\"Fe\":[3,4,5],\"Pb\": [15,20,30]}\n",
    "radii = [1,2,3]\n",
    "\n",
    "\n",
    "area_of_circle=[j for j in map(lambda rad : math.pi*(rad**2),radii)]\n",
    "circumferences_of_circle=[i for i in map(lambda rad: 2*math.pi*rad,radii)]\n",
    "volume_of_circle=[z for z in map(lambda rad : 4/3*math.pi*(rad**3),radii)]\n",
    "\n",
    "print(\"show area of circle:\",'\\n',area_of_circle,'\\n')\n",
    "print(\"show circumferences of circle:\",'\\n',circumferences_of_circle,'\\n')\n",
    "print(\"show volume of circle:\"'\\n',volume_of_circle,'\\n')\n",
    "\n",
    "my_functions=[lambda r: r*2*math.pi,lambda r: math.pi*r**2,lambda r: 4/3*math.pi*r**3]\n",
    "\n",
    "for a,b in zip(['Al','Fe','Pb'],radii):\n",
    "    print(a,'radius ',b,':','\\n')\n",
    "    \n",
    "    for c,d in zip(densities[a], my_functions):\n",
    "        print(f(b)*c)\n",
    "     \n",
    "    \n"
   ]
  },
  {
   "cell_type": "markdown",
   "metadata": {},
   "source": [
    "6\\. Edit the class defintion to add an instance attribute of is_hungry = True to the Dog class. Then add a method called eat() which changes the value of is_hungry to False when called. Figure out the best way to feed each dog and then output “My dogs are hungry.” if all are hungry or “My dogs are not hungry.” if all are not hungry. The final output should look like this:\n",
    "\n",
    "`I have 3 dogs. \n",
    "Tom is 6. \n",
    "Fletcher is 7. \n",
    "Larry is 9. \n",
    "And they're all mammals, of course. \n",
    "My dogs are not hungry.\n",
    "`\n",
    "\n",
    "```python\n",
    "# Parent class\n",
    "class Dog:\n",
    "\n",
    "    # Class attribute\n",
    "    species = 'mammal'\n",
    "\n",
    "    # Initializer / Instance attributes\n",
    "    def __init__(self, name, age):\n",
    "        self.name = name\n",
    "        self.age = age\n",
    "\n",
    "    # instance method\n",
    "    def description(self):\n",
    "        return \"{} is {} years old\".format(self.name, self.age)\n",
    "\n",
    "    # instance method\n",
    "    def speak(self, sound):\n",
    "        return \"{} says {}\".format(self.name, sound)\n",
    "\n",
    "# Child class (inherits from Dog class)\n",
    "class RussellTerrier(Dog):\n",
    "    def run(self, speed):\n",
    "        return \"{} runs {}\".format(self.name, speed)\n",
    "\n",
    "# Child class (inherits from Dog class)\n",
    "class Bulldog(Dog):\n",
    "    def run(self, speed):\n",
    "        return \"{} runs {}\".format(self.name, speed)\n",
    "```"
   ]
  },
  {
   "cell_type": "code",
   "execution_count": 28,
   "metadata": {},
   "outputs": [
    {
     "name": "stdout",
     "output_type": "stream",
     "text": [
      "I have 3 dogs.\n",
      "Tom is 6.\n",
      "Fletcher is 7.\n",
      "Larryu is 9.\n",
      "And they're all mammal, of course.\n",
      "My dogs are not hungry.\n"
     ]
    }
   ],
   "source": [
    "class Dog:\n",
    "\n",
    "    # Class attribute\n",
    "    species = 'mammal'\n",
    "    number = 0\n",
    "\n",
    "    # Initializer / Instance attributes\n",
    "    def __init__(self, name, age):\n",
    "        self.name = name\n",
    "        self.age = age\n",
    "        self.is_hungry = True\n",
    "        Dog.number += 1\n",
    "\n",
    "    # instance method\n",
    "    def description(self):\n",
    "        return \"{} is {} years old\".format(self.name, self.age)\n",
    "\n",
    "    # instance method\n",
    "    def speak(self, sound):\n",
    "        return \"{} says {}\".format(self.name, sound)\n",
    "    def eat(self):\n",
    "        self.is_hungry = False\n",
    "\n",
    "# Child class (inherits from Dog class)\n",
    "class RussellTerrier(Dog):\n",
    "    def run(self, speed):\n",
    "        return \"{} runs {}\".format(self.name, speed)\n",
    "\n",
    "# Child class (inherits from Dog class)\n",
    "class Bulldog(Dog):\n",
    "    def run(self, speed):\n",
    "        return \"{} runs {}\".format(self.name, speed)\n",
    "    \n",
    "    \n",
    "dog1 = Dog(\"Tom\", 6)\n",
    "dog2 = Dog(\"Fletcher\", 7)\n",
    "dog3 = Dog(\"Larryu\", 9)\n",
    "dog1.eat()\n",
    "dog2.eat()\n",
    "dog3.eat()\n",
    "\n",
    "print(\"I have {} dogs.\".format(Dog.number))\n",
    "print(\"{} is {}.\".format(dog1.name, dog1.age))\n",
    "print(\"{} is {}.\".format(dog2.name, dog2.age))\n",
    "print(\"{} is {}.\".format(dog3.name, dog3.age))\n",
    "if (puppy1.species == puppy2.species == puppy3.species):\n",
    "    print(\"And they're all {}, of course.\".format(puppy1.species))\n",
    "if (puppy1.is_hungry and puppy2.is_hungry and puppy3.is_hungry) == False:\n",
    "    print(\"My dogs are not hungry.\")    "
   ]
  },
  {
   "cell_type": "code",
   "execution_count": null,
   "metadata": {},
   "outputs": [],
   "source": []
  }
 ],
 "metadata": {
  "kernelspec": {
   "display_name": "Python 3",
   "language": "python",
   "name": "python3"
  },
  "language_info": {
   "codemirror_mode": {
    "name": "ipython",
    "version": 3
   },
   "file_extension": ".py",
   "mimetype": "text/x-python",
   "name": "python",
   "nbconvert_exporter": "python",
   "pygments_lexer": "ipython3",
   "version": "3.8.5"
  }
 },
 "nbformat": 4,
 "nbformat_minor": 2
}
