{
 "cells": [
  {
   "cell_type": "markdown",
   "metadata": {},
   "source": [
    "1\\. Write the following as a list comprehension"
   ]
  },
  {
   "cell_type": "code",
   "execution_count": 1,
   "metadata": {},
   "outputs": [
    {
     "name": "stdout",
     "output_type": "stream",
     "text": [
      "[(0, 0), (0, 1), (0, 2), (0, 3), (1, 0), (1, 1), (1, 2), (1, 3), (2, 0), (2, 1), (2, 2), (2, 3)]\n",
      "[0, 4, 16]\n"
     ]
    }
   ],
   "source": [
    "# 1\n",
    "ans = []\n",
    "for i in range(3):\n",
    "    for j in range(4):\n",
    "        ans.append((i, j))\n",
    "print (ans)\n",
    "\n",
    "# 2\n",
    "ans = map(lambda x: x*x, filter(lambda x: x%2 == 0, range(5)))\n",
    "print (list(ans))\n",
    "\n"
   ]
  },
  {
   "cell_type": "code",
   "execution_count": 2,
   "metadata": {},
   "outputs": [
    {
     "name": "stdout",
     "output_type": "stream",
     "text": [
      "[(0, 0), (0, 1), (0, 2), (0, 3), (1, 0), (1, 1), (1, 2), (1, 3), (2, 0), (2, 1), (2, 2), (2, 3)]\n",
      "[0, 4, 16]\n"
     ]
    }
   ],
   "source": [
    "\n",
    "ans1 = []   #1\n",
    "ans1 = [(x,y) for x in range(3) for y in range(4)]\n",
    "print(ans1)\n",
    "\n",
    "ans2 = [x*x for x in range(5) if x%2==0] #2\n",
    "print(ans2)"
   ]
  },
  {
   "cell_type": "markdown",
   "metadata": {},
   "source": [
    "2\\. Convert the following function into a pure function with no global variables or side effects"
   ]
  },
  {
   "cell_type": "code",
   "execution_count": 3,
   "metadata": {},
   "outputs": [
    {
     "name": "stdout",
     "output_type": "stream",
     "text": [
      "[1, 2, 3, 0, 1, 2, 3, 4]\n",
      "[1, 2, 3, 0, 1, 2, 3, 4]\n"
     ]
    }
   ],
   "source": [
    "x = 5\n",
    "def f(alist):\n",
    "    for i in range(x):\n",
    "         alist.append(i)\n",
    "    return alist\n",
    "\n",
    "alist = [1,2,3]\n",
    "ans = f(alist)\n",
    "print (ans)\n",
    "print (alist) # alist has been changed!"
   ]
  },
  {
   "cell_type": "code",
   "execution_count": 4,
   "metadata": {},
   "outputs": [
    {
     "name": "stdout",
     "output_type": "stream",
     "text": [
      "[1, 2, 3, 0, 1, 2, 3, 4]\n",
      "[1, 2, 3]\n"
     ]
    }
   ],
   "source": [
    "alist = [1,2,3]\n",
    "def f(alist, x):\n",
    "    ans=alist.copy()\n",
    "    for i in range(x):\n",
    "        ans.append(i)\n",
    "    return ans\n",
    "\n",
    "Ans=f(alist,5)\n",
    "print(Ans)\n",
    "print(alist)"
   ]
  },
  {
   "cell_type": "markdown",
   "metadata": {},
   "source": [
    "3\\. Write a `decorator` hello that makes every wrapped function print “Hello!”, i.e. something like:\n",
    "\n",
    "```python\n",
    "@hello\n",
    "def square(x):\n",
    "    return x*x\n",
    "```\n",
    "\n"
   ]
  },
  {
   "cell_type": "code",
   "execution_count": 5,
   "metadata": {},
   "outputs": [
    {
     "name": "stdout",
     "output_type": "stream",
     "text": [
      "Hello!\n",
      "25\n",
      "Hello!\n",
      "9\n"
     ]
    }
   ],
   "source": [
    "def hello(func):\n",
    "    def wrapper(*arg):\n",
    "        print(\"Hello!\")\n",
    "        return func(*arg)\n",
    "    return wrapper\n",
    "\n",
    "@hello\n",
    "def square(x):\n",
    "    return x*x\n",
    "\n",
    "s=square(5)\n",
    "print(s)\n",
    "\n",
    "s=square(3)\n",
    "print(s)"
   ]
  },
  {
   "cell_type": "markdown",
   "metadata": {},
   "source": [
    "4\\. Write the factorial function so that it a) does and b) does not use recursion."
   ]
  },
  {
   "cell_type": "code",
   "execution_count": 7,
   "metadata": {},
   "outputs": [
    {
     "name": "stdout",
     "output_type": "stream",
     "text": [
      "24\n",
      "120\n"
     ]
    }
   ],
   "source": [
    "#   a)\n",
    "from functools import reduce\n",
    "def Factorial_a(x):\n",
    "    if x==0:\n",
    "        return 1\n",
    "    else:\n",
    "        return reduce(lambda x,y: x*y, [i for i in range(1,x+1)])\n",
    "\n",
    "f1=Factorial_a(4)\n",
    "print(f1)\n",
    "\n",
    "#   b)\n",
    "def Factorial_b(x):\n",
    "    return int(reduce(lambda x,y: x*y, [i for i in range(1,x+2)])/(x+1))\n",
    "    \n",
    "f2=Factorial_b(5)\n",
    "print(f2)"
   ]
  },
  {
   "cell_type": "markdown",
   "metadata": {},
   "source": [
    "5\\. Use HOFs (zip in particular) to compute the weight of a circle, a disk and a sphere, assuming different radii and different densities:\n",
    "\n",
    "```python\n",
    "densities = {\"Al\":[0.5,1,2],\"Fe\":[3,4,5],\"Pb\": [15,20,30]}\n",
    "radii = [1,2,3]\n",
    "```\n",
    "\n",
    "where the entries of the dictionary's values are the linear, superficial and volumetric densities of the materials respectively.\n",
    "\n",
    "In particular define a list of three lambda functions using a comprehension that computes the circumference, the area and the volume for a given radius.\n"
   ]
  },
  {
   "cell_type": "code",
   "execution_count": 8,
   "metadata": {},
   "outputs": [
    {
     "name": "stdout",
     "output_type": "stream",
     "text": [
      "\n",
      "radius=  1\n",
      "Wheight of  circles\n",
      "Al 3.141592653589793 Fe 18.84955592153876 Pb 94.24777960769379\n",
      "Wheight of  disks\n",
      "Al 3.141592653589793 Fe 12.566370614359172 Pb 62.83185307179586\n",
      "Wheight of  spheres\n",
      "Al 8.377580409572781 Fe 20.94395102393195 Pb 125.66370614359171\n",
      "\n",
      "radius=  2\n",
      "Wheight of  circles\n",
      "Al 6.283185307179586 Fe 37.69911184307752 Pb 188.49555921538757\n",
      "Wheight of  disks\n",
      "Al 12.566370614359172 Fe 50.26548245743669 Pb 251.32741228718345\n",
      "Wheight of  spheres\n",
      "Al 67.02064327658225 Fe 167.5516081914556 Pb 1005.3096491487337\n",
      "\n",
      "radius=  3\n",
      "Wheight of  circles\n",
      "Al 9.42477796076938 Fe 56.548667764616276 Pb 282.7433388230814\n",
      "Wheight of  disks\n",
      "Al 28.274333882308138 Fe 113.09733552923255 Pb 565.4866776461628\n",
      "Wheight of  spheres\n",
      "Al 226.19467105846508 Fe 565.4866776461627 Pb 3392.920065876976\n"
     ]
    }
   ],
   "source": [
    "from math import pi\n",
    "densities = {\"Al\":[0.5,1,2],\"Fe\":[3,4,5],\"Pb\": [15,20,30]}\n",
    "radii = [1,2,3]\n",
    "objects=[\"circles\", \"disks\", \"spheres\"]\n",
    "func=[lambda r: 2*pi*r, lambda r: pi*r*r, lambda r: (4/3)*pi*(r**3)]\n",
    "\n",
    "for r in radii:                  \n",
    "    print(\"\\nradius= \", r)                                                         #looping the radii\n",
    "    i=0           \n",
    "    for Al,Fe,Pb in zip(densities[\"Al\"], densities[\"Fe\"], densities[\"Pb\"]):        #looping dimensions and elements\n",
    "        print(\"Wheight of \", objects[i])\n",
    "        print(\"Al\", Al*func[i](r), \"Fe\", Fe*func[i](r), \"Pb\", Pb*func[i](r))\n",
    "        i=i+1\n"
   ]
  },
  {
   "cell_type": "markdown",
   "metadata": {},
   "source": [
    "6\\. Edit the class defintion to add an instance attribute of is_hungry = True to the Dog class. Then add a method called eat() which changes the value of is_hungry to False when called. Figure out the best way to feed each dog and then output “My dogs are hungry.” if all are hungry or “My dogs are not hungry.” if all are not hungry. The final output should look like this:\n",
    "\n",
    "`I have 3 dogs. \n",
    "Tom is 6. \n",
    "Fletcher is 7. \n",
    "Larry is 9. \n",
    "And they're all mammals, of course. \n",
    "My dogs are not hungry.\n",
    "`\n",
    "\n",
    "```python\n",
    "# Parent class\n",
    "class Dog:\n",
    "\n",
    "    # Class attribute\n",
    "    species = 'mammal'\n",
    "\n",
    "    # Initializer / Instance attributes\n",
    "    def __init__(self, name, age):\n",
    "        self.name = name\n",
    "        self.age = age\n",
    "\n",
    "    # instance method\n",
    "    def description(self):\n",
    "        return \"{} is {} years old\".format(self.name, self.age)\n",
    "\n",
    "    # instance method\n",
    "    def speak(self, sound):\n",
    "        return \"{} says {}\".format(self.name, sound)\n",
    "\n",
    "# Child class (inherits from Dog class)\n",
    "class RussellTerrier(Dog):\n",
    "    def run(self, speed):\n",
    "        return \"{} runs {}\".format(self.name, speed)\n",
    "\n",
    "# Child class (inherits from Dog class)\n",
    "class Bulldog(Dog):\n",
    "    def run(self, speed):\n",
    "        return \"{} runs {}\".format(self.name, speed)\n",
    "```"
   ]
  },
  {
   "cell_type": "code",
   "execution_count": 9,
   "metadata": {},
   "outputs": [
    {
     "name": "stdout",
     "output_type": "stream",
     "text": [
      "I have  3  dogs\n",
      "Tom  is  6\n",
      "Fletcher  is  7\n",
      "Larry  is  9\n",
      "And they are mammals for sure\n",
      "My dogs are not hungry.\n"
     ]
    }
   ],
   "source": [
    "# Parent class\n",
    "class Dog:\n",
    "\n",
    "    # Class attribute\n",
    "    species = 'mammal'\n",
    "\n",
    "    # Initializer / istance attributes\n",
    "    def __init__(self, name, age, is_hungry):\n",
    "        self.name = name\n",
    "        self.age = age\n",
    "        self.is_hungry = is_hungry\n",
    "\n",
    "    #Methods\n",
    "    def description(self):\n",
    "        return \"{} is {} years old\".format(self.name, self.age)\n",
    "\n",
    "    def speak(self, sound):\n",
    "        return \"{} says {}\".format(self.name, sound)\n",
    "    \n",
    "    def eat(self):\n",
    "        self.is_hungry=False\n",
    "        \n",
    "\n",
    "my_dogs = [ Dog(\"Tom\", 6, True), \n",
    "            Dog(\"Fletcher\", 7, False), \n",
    "            Dog(\"Larry\", 9, False)]\n",
    "\n",
    "def feed_dogs(x):       #the commented lines are used to declare if all the dogs have eaten\n",
    "    #print(\"feeding them all...\\n\")\n",
    "    for doggo in x:\n",
    "        doggo.eat()\n",
    "\n",
    "def check_hungry(x):\n",
    "    hungry=0\n",
    "    for doggo in my_dogs:\n",
    "        if doggo.is_hungry==True:\n",
    "            hungry = hungry+1\n",
    "    if hungry == len(x):\n",
    "        print(\"My dogs are hungry.\")\n",
    "    elif hungry == 0:\n",
    "        print(\"My dogs are not hungry.\")\n",
    "    # else:\n",
    "    #     print(\"some of them are still hungry: let's feed them all!\\n\")\n",
    "    \n",
    "\n",
    "print(\"I have \", len(my_dogs), \" dogs\")\n",
    "for doggo in my_dogs:\n",
    "    print(doggo.name, \" is \", doggo.age)\n",
    "    \n",
    "print(\"And they are {}s for sure\".format(Dog.species))\n",
    "\n",
    "check_hungry(my_dogs)\n",
    "\n",
    "feed_dogs(my_dogs)\n",
    "\n",
    "check_hungry(my_dogs)"
   ]
  },
  {
   "cell_type": "code",
   "execution_count": null,
   "metadata": {},
   "outputs": [],
   "source": []
  }
 ],
 "metadata": {
  "kernelspec": {
   "display_name": "Python 3",
   "language": "python",
   "name": "python3"
  },
  "language_info": {
   "codemirror_mode": {
    "name": "ipython",
    "version": 3
   },
   "file_extension": ".py",
   "mimetype": "text/x-python",
   "name": "python",
   "nbconvert_exporter": "python",
   "pygments_lexer": "ipython3",
   "version": "3.8.8"
  }
 },
 "nbformat": 4,
 "nbformat_minor": 2
}
