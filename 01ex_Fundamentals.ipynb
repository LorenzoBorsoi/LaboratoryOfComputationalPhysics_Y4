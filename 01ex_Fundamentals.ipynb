{
 "cells": [
  {
   "cell_type": "markdown",
   "metadata": {},
   "source": [
    "1\\. Write the following as a list comprehension"
   ]
  },
  {
   "cell_type": "code",
   "execution_count": 1,
   "metadata": {},
   "outputs": [
    {
     "name": "stdout",
     "output_type": "stream",
     "text": [
      "[(0, 0), (0, 1), (0, 2), (0, 3), (1, 0), (1, 1), (1, 2), (1, 3), (2, 0), (2, 1), (2, 2), (2, 3)]\n",
      "[0, 4, 16]\n"
     ]
    }
   ],
   "source": [
    "# 1\n",
    "ans = []\n",
    "for i in range(3):\n",
    "    for j in range(4):\n",
    "        ans.append((i, j))\n",
    "print (ans)\n",
    "\n",
    "# 2\n",
    "ans = map(lambda x: x*x, filter(lambda x: x%2 == 0, range(5)))\n",
    "print (list(ans))\n",
    "\n"
   ]
  },
  {
   "cell_type": "code",
   "execution_count": 10,
   "metadata": {},
   "outputs": [
    {
     "name": "stdout",
     "output_type": "stream",
     "text": [
      "[(0, 0), (0, 1), (0, 2), (0, 3), (1, 0), (1, 1), (1, 2), (1, 3), (2, 0), (2, 1), (2, 2), (2, 3), (3, 0), (3, 1), (3, 2), (3, 3)]\n",
      "[0, 4, 16]\n"
     ]
    }
   ],
   "source": [
    "print([(i,j) for i in range(4) for j in range(4)])\n",
    "print([i*i for i in range(5) if i%2==0])"
   ]
  },
  {
   "cell_type": "markdown",
   "metadata": {},
   "source": [
    "2\\. Convert the following function into a pure function with no global variables or side effects"
   ]
  },
  {
   "cell_type": "code",
   "execution_count": 11,
   "metadata": {},
   "outputs": [
    {
     "name": "stdout",
     "output_type": "stream",
     "text": [
      "[1, 2, 3, 0, 1, 2, 3, 4]\n",
      "[1, 2, 3, 0, 1, 2, 3, 4]\n"
     ]
    }
   ],
   "source": [
    "x = 5\n",
    "def f(alist):\n",
    "    for i in range(x):\n",
    "         alist.append(i)\n",
    "    return alist\n",
    "\n",
    "alist = [1,2,3]\n",
    "ans = f(alist)\n",
    "print (ans)\n",
    "print (alist) # alist has been changed!"
   ]
  },
  {
   "cell_type": "code",
   "execution_count": 20,
   "metadata": {},
   "outputs": [
    {
     "name": "stdout",
     "output_type": "stream",
     "text": [
      "[1, 2, 3]\n",
      "[1, 2, 3]\n"
     ]
    }
   ],
   "source": [
    "def f(lista=None):\n",
    "    reference=[]\n",
    "    for i in lista:\n",
    "        reference.append(i)\n",
    "    return reference\n",
    "lista=[1,2,3]\n",
    "ans=f(lista)\n",
    "print(ans)\n",
    "print(lista)"
   ]
  },
  {
   "cell_type": "markdown",
   "metadata": {},
   "source": [
    "3\\. Write a `decorator` hello that makes every wrapped function print “Hello!”, i.e. something like:\n",
    "\n",
    "```python\n",
    "@hello\n",
    "def square(x):\n",
    "    return x*x\n",
    "```\n",
    "\n"
   ]
  },
  {
   "cell_type": "code",
   "execution_count": 12,
   "metadata": {},
   "outputs": [
    {
     "name": "stdout",
     "output_type": "stream",
     "text": [
      "First layer\n",
      "27\n",
      "Second layer\n"
     ]
    }
   ],
   "source": [
    "def decorattore(funzione):\n",
    "    def wrapper(x):\n",
    "        print(\"First layer\")\n",
    "        print(funzione(x))\n",
    "        print(\"Second layer\")\n",
    "    return wrapper\n",
    "\n",
    "def cubo(x): \n",
    "    return x*x*x\n",
    "variavel=decorattore(cubo)(3)\n"
   ]
  },
  {
   "cell_type": "code",
   "execution_count": 17,
   "metadata": {},
   "outputs": [
    {
     "name": "stdout",
     "output_type": "stream",
     "text": [
      "First layer\n",
      "27\n",
      "Second layer\n"
     ]
    }
   ],
   "source": [
    "def decorattore(funzione):\n",
    "    def wrapper(x):\n",
    "        print(\"First layer\")\n",
    "        print(funzione(x))\n",
    "        print(\"Second layer\")\n",
    "    return wrapper\n",
    "\n",
    "@decorattore\n",
    "def cubo(y): \n",
    "    return y*y*y\n",
    "\n",
    "cubo(3)"
   ]
  },
  {
   "cell_type": "markdown",
   "metadata": {},
   "source": [
    "4\\. Write the factorial function so that it a) does and b) does not use recursion."
   ]
  },
  {
   "cell_type": "code",
   "execution_count": 1,
   "metadata": {},
   "outputs": [
    {
     "name": "stdout",
     "output_type": "stream",
     "text": [
      "120\n"
     ]
    }
   ],
   "source": [
    "def fattoriale(n):\n",
    "    if n==1:\n",
    "        return n\n",
    "    else:\n",
    "        return n*fattoriale(n-1)\n",
    "print(fattoriale(5))"
   ]
  },
  {
   "cell_type": "code",
   "execution_count": 8,
   "metadata": {},
   "outputs": [
    {
     "name": "stdout",
     "output_type": "stream",
     "text": [
      "tell me a positive number: 9\n",
      "362880\n"
     ]
    }
   ],
   "source": [
    "variable=int(input(\"tell me a positive number: \"))\n",
    "factorial=1\n",
    "for i in range(variable):\n",
    "    factorial=factorial*(1+i)\n",
    "print(factorial)"
   ]
  },
  {
   "cell_type": "markdown",
   "metadata": {},
   "source": [
    "5\\. Use HOFs (zip in particular) to compute the weight of a circle, a disk and a sphere, assuming different radii and different densities:\n",
    "\n",
    "```python\n",
    "densities = {\"Al\":[0.5,1,2],\"Fe\":[3,4,5],\"Pb\": [15,20,30]}\n",
    "radii = [1,2,3]\n",
    "```\n",
    "\n",
    "where the entries of the dictionary's values are the linear, superficial and volumetric densities of the materials respectively.\n",
    "\n",
    "In particular define a list of three lambda functions using a comprehension that computes the circumference, the area and the volume for a given radius.\n"
   ]
  },
  {
   "cell_type": "code",
   "execution_count": 20,
   "metadata": {},
   "outputs": [
    {
     "name": "stdout",
     "output_type": "stream",
     "text": [
      "tell me the linear density: 4\n",
      "tell me the superficial density: 4\n",
      "tell mee the volumetric density: 4\n",
      "for the radius  1 circumference, area and volume are:  [6.283185307179586, 12.566370614359172, 18.84955592153876]\n",
      "for the radius  2 circumference, area and volume are:  [3.141592653589793, 12.566370614359172, 28.274333882308138]\n",
      "for the radius  3 circumference, area and volume are:  [4.1887902047863905, 33.510321638291124, 113.09733552923255]\n",
      "These are the possible masses for Al:  <map object at 0x00000273A5ADCE50>\n",
      "These are the possible masses for Fe:  [18.84955592153876, 50.26548245743669, 94.24777960769379, 9.42477796076938, 50.26548245743669, 141.3716694115407, 12.566370614359172, 134.0412865531645, 565.4866776461628]\n",
      "These are the possible masses for Pb:  [94.24777960769379, 251.32741228718345, 565.4866776461628, 47.12388980384689, 251.32741228718345, 848.2300164692441, 62.831853071795855, 670.2064327658225, 3392.9200658769764]\n"
     ]
    }
   ],
   "source": [
    "import math\n",
    "linear_density=float(input(\"tell me the linear density: \"))\n",
    "superficial_density=float(input(\"tell me the superficial density: \"))\n",
    "volumetric_density=float(input(\"tell mee the volumetric density: \"))\n",
    "densities = {\"Al\":[0.5,1,2],\"Fe\":[3,4,5],\"Pb\": [15,20,30]}\n",
    "radii = [1,2,3]\n",
    "pee=math.pi\n",
    "dimensions=(lambda i: (i,2*pee*i), lambda i:(i,pee*i*i), lambda i:(i, (4/3)*pee*i*i*i))\n",
    "dimensioni=[]\n",
    "for i in range(len(radii)):\n",
    "    aux=[]\n",
    "    for j in radii:\n",
    "        aux.append(dimensions[i](j)[1])\n",
    "        dimensioni.append(dimensions[i](j)[1])\n",
    "    print(\"for the radius \",radii[i],\"circumference, area and volume are: \", aux)\n",
    "Al=densities[\"Al\"]*3\n",
    "Fe=densities[\"Fe\"]*3\n",
    "Pb=densities[\"Pb\"]*3\n",
    "mapaAl=list(map(lambda x:x[0]*x[1],zip(Al, dimensioni)))\n",
    "mapaFe=list(map(lambda x:x[0]*x[1],zip(Fe, dimensioni)))\n",
    "mapaPb=list(map(lambda x:x[0]*x[1],zip(Pb, dimensioni)))\n",
    "print(\"These are the possible masses for Al: \", mapaAl)\n",
    "print(\"These are the possible masses for Fe: \", mapaFe)\n",
    "print(\"These are the possible masses for Pb: \", mapaPb)\n"
   ]
  },
  {
   "cell_type": "markdown",
   "metadata": {},
   "source": [
    "### 6\\. Edit the class defintion to add an instance attribute of is_hungry = True to the Dog class. Then add a method called eat() which changes the value of is_hungry to False when called. Figure out the best way to feed each dog and then output “My dogs are hungry.” if all are hungry or “My dogs are not hungry.” if all are not hungry. The final output should look like this:\n",
    "\n",
    "`I have 3 dogs. \n",
    "Tom is 6. \n",
    "Fletcher is 7. \n",
    "Larry is 9. \n",
    "And they're all mammals, of course. \n",
    "My dogs are not hungry.\n",
    "`\n",
    "\n",
    "```python\n",
    "# Parent class\n",
    "class Dog:\n",
    "\n",
    "    # Class attribute\n",
    "    species = 'mammal'\n",
    "\n",
    "    # Initializer / Instance attributes\n",
    "    def __init__(self, name, age):\n",
    "        self.name = name\n",
    "        self.age = ag3\n",
    "        \n",
    "    # instance method\n",
    "    def description(self):\n",
    "        return \"{} is {} years old\".format(self.name, self.age)\n",
    "\n",
    "    # instance method\n",
    "    def speak(self, sound):\n",
    "        return \"{} says {}\".format(self.name, sound)\n",
    "\n",
    "# Child class (inherits from Dog class)\n",
    "class RussellTerrier(Dog):\n",
    "    def run(self, speed):\n",
    "        return \"{} runs {}\".format(self.name, speed)\n",
    "\n",
    "# Child class (inherits from Dog class)\n",
    "class Bulldog(Dog):\n",
    "    def run(self, speed):\n",
    "        return \"{} runs {}\".format(self.name, speed)\n",
    "```"
   ]
  },
  {
   "cell_type": "code",
   "execution_count": 61,
   "metadata": {},
   "outputs": [
    {
     "name": "stdout",
     "output_type": "stream",
     "text": [
      "I have 3 dogs\n",
      "Tom is 5.\n",
      "Thor is 5.\n",
      "Fabricio is 5.\n",
      "they're all mamals of course!\n",
      "All of them are well fed\n"
     ]
    }
   ],
   "source": [
    "# Parent class\n",
    "class Dog:\n",
    "    counter=0\n",
    "    def __init__(self, name, age, is_Hungry):\n",
    "        self.name = name\n",
    "        self.age = age\n",
    "        self.is_Hungry = is_Hungry\n",
    "        Dog.counter+=1\n",
    "        \n",
    "    def Ages(self):\n",
    "        return \"{} is {}.\".format(self.name, self.age)\n",
    "    def Mamal(self):\n",
    "        return \"And they are all mamals of course\"\n",
    "    \n",
    "    def change_atribute(self, value):\n",
    "        self.is_Hungry=value\n",
    "\n",
    "Tom=Dog(\"Tom\", \"5\", False)\n",
    "Thor=Dog(\"Thor\", \"5\", True)\n",
    "Fabricio=Dog(\"Fabricio\", \"5\", False)\n",
    "\n",
    "if Dog.counter==1:\n",
    "    print(\"I have 1 dog\")\n",
    "else:\n",
    "    print(\"I have {} dogs\".format(Dog.counter))\n",
    "    \n",
    "print(Tom.Ages())\n",
    "print(Thor.Ages())\n",
    "print(Fabricio.Ages())\n",
    "Fabricio.Mamal()\n",
    "\n",
    "Tom.change_atribute(False)\n",
    "Fabricio.change_atribute(False)\n",
    "Thor.change_atribute(False)\n",
    "\n",
    "print(\"they're all mamals of course!\")\n",
    "if Thor.is_Hungry==False and Fabricio.is_Hungry==False and Tom.is_Hungry==False:\n",
    "    print(\"All of them are well fed\")\n",
    "else:\n",
    "    print(\"You still need to feed at least one of them\")\n",
    "\n",
    "\n"
   ]
  },
  {
   "cell_type": "code",
   "execution_count": null,
   "metadata": {},
   "outputs": [],
   "source": []
  }
 ],
 "metadata": {
  "kernelspec": {
   "display_name": "Python 3",
   "language": "python",
   "name": "python3"
  },
  "language_info": {
   "codemirror_mode": {
    "name": "ipython",
    "version": 3
   },
   "file_extension": ".py",
   "mimetype": "text/x-python",
   "name": "python",
   "nbconvert_exporter": "python",
   "pygments_lexer": "ipython3",
   "version": "3.8.8"
  }
 },
 "nbformat": 4,
 "nbformat_minor": 2
}
