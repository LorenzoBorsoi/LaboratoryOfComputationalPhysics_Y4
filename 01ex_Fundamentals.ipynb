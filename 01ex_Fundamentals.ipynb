{
 "cells": [
  {
   "cell_type": "code",
   "execution_count": 1,
   "id": "7a52a5ae",
   "metadata": {},
   "outputs": [
    {
     "name": "stdout",
     "output_type": "stream",
     "text": [
      "[(0, 0), (0, 1), (0, 2), (0, 3), (1, 0), (1, 1), (1, 2), (1, 3), (2, 0), (2, 1), (2, 2), (2, 3)]\n"
     ]
    }
   ],
   "source": [
    "#Q1part1\n",
    "ans=[(i,j) for i in range (3) for j in range (4)]\n",
    "print (ans)\n"
   ]
  },
  {
   "cell_type": "code",
   "execution_count": 2,
   "id": "03ff4a71",
   "metadata": {},
   "outputs": [
    {
     "name": "stdout",
     "output_type": "stream",
     "text": [
      "[0, 4, 16]\n"
     ]
    }
   ],
   "source": [
    "#Q1part2\n",
    "ans=[x for x in [y*y for y in range(5)] if x%2==0]\n",
    "\n",
    "print (ans)"
   ]
  },
  {
   "cell_type": "code",
   "execution_count": 6,
   "id": "8665a812",
   "metadata": {},
   "outputs": [
    {
     "name": "stdout",
     "output_type": "stream",
     "text": [
      "[1, 2, 3]\n",
      "[1, 2, 3, 4]\n",
      "[1, 2, 3]\n"
     ]
    }
   ],
   "source": [
    "#Q2\n",
    "x = 5\n",
    "def f(alist):\n",
    "    alist = [1,2,3,4]\n",
    "    return alist\n",
    "alist = [1,2,3]\n",
    "print(alist)\n",
    "print (f(alist))\n",
    "print(alist)"
   ]
  },
  {
   "cell_type": "code",
   "execution_count": 32,
   "id": "a20babf4",
   "metadata": {},
   "outputs": [
    {
     "name": "stdout",
     "output_type": "stream",
     "text": [
      "9\n",
      "Hello!\n"
     ]
    }
   ],
   "source": [
    "#Q3\n",
    "\n",
    "def my_decorate(func):\n",
    "    def wrapper():\n",
    "        print(\"Hello!\")\n",
    "    return wrapper\n",
    "\n",
    "def square(x):\n",
    "    print(x*x) \n",
    "\n",
    "H=my_decorate(square(3))\n",
    "H()\n",
    "        \n"
   ]
  },
  {
   "cell_type": "code",
   "execution_count": 36,
   "id": "fab287a5",
   "metadata": {},
   "outputs": [
    {
     "data": {
      "text/plain": [
       "120"
      ]
     },
     "execution_count": 36,
     "metadata": {},
     "output_type": "execute_result"
    }
   ],
   "source": [
    "#Q4part1\n",
    "\n",
    "def fact(X):\n",
    "    if X<1:\n",
    "        return 1\n",
    "    else:\n",
    "        result = X * fact( X - 1 )\n",
    "        return result\n",
    "factorial(5)"
   ]
  },
  {
   "cell_type": "code",
   "execution_count": 66,
   "id": "6546f098",
   "metadata": {},
   "outputs": [
    {
     "name": "stdout",
     "output_type": "stream",
     "text": [
      "120\n"
     ]
    }
   ],
   "source": [
    "#Q4part2\n",
    "\n",
    "def fact(x):\n",
    "    Num = 5\n",
    "    Count = Num - 1\n",
    "    while Count > 0:\n",
    "        Num *= Count\n",
    "        Count -= 1\n",
    "    print(Num)\n",
    "fact(6)"
   ]
  },
  {
   "cell_type": "code",
   "execution_count": 70,
   "id": "5962a7dd",
   "metadata": {},
   "outputs": [
    {
     "name": "stdout",
     "output_type": "stream",
     "text": [
      "[[0.5, 1, 2], [3, 4, 5], [15, 20, 30]]\n"
     ]
    }
   ],
   "source": [
    "#Q5\n",
    "\n",
    "import math as m\n",
    "densities = {\"Al\":[0.5,1,2],\"Fe\":[3,4,5],\"Pb\": [15,20,30]}\n",
    "r = [1,2,3]\n",
    "def P(r,p):\n",
    "    return (2*p*r*3.14)\n",
    "def A(r,p):\n",
    "    return (p*r**2*3.14)\n",
    "def V(r,p):\n",
    "    return (4/3*p*r**2*3.14)\n",
    "S=densities.values()\n",
    "print(list(S))\n",
    "\n",
    "    "
   ]
  },
  {
   "cell_type": "code",
   "execution_count": 4,
   "id": "d9bfac53",
   "metadata": {},
   "outputs": [
    {
     "name": "stdout",
     "output_type": "stream",
     "text": [
      "The weight of a circle of Al , Fe  , Pb : [3.141592653589793, 37.69911184307752, 282.7433388230814]\n",
      "The weight of a disk of Al , Fe  , Pb : [3.141592653589793, 50.26548245743669, 565.4866776461628]\n",
      "The weight of a sphere of Al , Fe  , Pb : [8.377580409572781, 167.5516081914556, 3392.920065876976]\n"
     ]
    }
   ],
   "source": [
    "#Q5\n",
    "\n",
    "import math\n",
    "weightc=list(map(lambda r,d: 2*math.pi*r*d, [1,2,3],{0.5:'Al linear density', 3:'Fe linear density', 15:'Pb linear density'}))\n",
    "print('The weight of a circle of Al , Fe  , Pb :', weightc)\n",
    "weightd=list(map(lambda r,d:(math.pi)*(r*r)*d, [1,2,3],{1:'Al superficial density', 4:'Fe superficial density', 20:'Pb superficial density'}))\n",
    "print('The weight of a disk of Al , Fe  , Pb :' ,weightd)\n",
    "weights=list(map(lambda r,d:(4/3)*(math.pi)*(r**3)*d, [1,2,3],{2:'Al volumetric density', 5:'Fe volumetric density', 30:'Pb volumetric density'}))\n",
    "print('The weight of a sphere of Al , Fe  , Pb :' ,weights)\n",
    "\n"
   ]
  },
  {
   "cell_type": "code",
   "execution_count": null,
   "id": "4ac8e781",
   "metadata": {},
   "outputs": [],
   "source": []
  }
 ],
 "metadata": {
  "kernelspec": {
   "display_name": "Python 3",
   "language": "python",
   "name": "python3"
  },
  "language_info": {
   "codemirror_mode": {
    "name": "ipython",
    "version": 3
   },
   "file_extension": ".py",
   "mimetype": "text/x-python",
   "name": "python",
   "nbconvert_exporter": "python",
   "pygments_lexer": "ipython3",
   "version": "3.8.8"
  }
 },
 "nbformat": 4,
 "nbformat_minor": 5
}
