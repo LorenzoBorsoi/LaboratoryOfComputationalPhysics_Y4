{
 "cells": [
  {
   "cell_type": "markdown",
   "metadata": {},
   "source": [
    "1\\. Write the following as a list comprehension"
   ]
  },
  {
   "cell_type": "code",
   "execution_count": 14,
   "metadata": {},
   "outputs": [
    {
     "name": "stdout",
     "output_type": "stream",
     "text": [
      "[(0, 0), (0, 1), (0, 2), (0, 3), (1, 0), (1, 1), (1, 2), (1, 3), (2, 0), (2, 1), (2, 2), (2, 3)]\n",
      "[0, 4, 16]\n",
      "[[0, 0], [0, 1], [0, 2], [0, 3], [1, 0], [1, 1], [1, 2], [1, 3], [2, 0], [2, 1], [2, 2], [2, 3]]\n",
      "[0, 4, 16]\n"
     ]
    }
   ],
   "source": [
    "# 1\n",
    "ans = []\n",
    "for i in range(3):\n",
    "    for j in range(4):\n",
    "        ans.append((i, j))\n",
    "print (ans)\n",
    "\n",
    "# 2\n",
    "ans = map(lambda x: x*x, filter(lambda x: x%2 == 0, range(5)))\n",
    "print (list(ans))\n",
    "\n",
    "\n",
    "##Excercise 1\n",
    "\n",
    "ans = [[x,y] for x in range(3) for y in range(4)]\n",
    "print(ans)\n",
    "\n",
    "##Excercise 2\n",
    "\n",
    "ans = [ x**2 for x in range(5) if x%2 ==0]\n",
    "print(ans)\n",
    "\n"
   ]
  },
  {
   "cell_type": "markdown",
   "metadata": {},
   "source": [
    "2\\. Convert the following function into a pure function with no global variables or side effects"
   ]
  },
  {
   "cell_type": "code",
   "execution_count": 26,
   "metadata": {},
   "outputs": [
    {
     "name": "stdout",
     "output_type": "stream",
     "text": [
      "[1, 2, 3, 0, 1, 2, 3, 4]\n",
      "[1, 2, 3, 0, 1, 2, 3, 4]\n",
      "[1, 2, 3, 0, 1]\n",
      "[1, 2, 3]\n"
     ]
    }
   ],
   "source": [
    "x = 5\n",
    "def f(alist):\n",
    "    for i in range(x):\n",
    "         alist.append(i)\n",
    "    return alist\n",
    "\n",
    "alist = [1,2,3]\n",
    "ans = f(alist)\n",
    "print (ans)\n",
    "print (alist) # alist has been changed!\n",
    "\n",
    "\n",
    "def f_ans(alist_ans,num):\n",
    "    aux = list(alist_ans)\n",
    "    for i in range(num):\n",
    "        aux.append(i)\n",
    "    return aux\n",
    "\n",
    "alist = [1,2,3]\n",
    "ans = f_ans(alist,2)\n",
    "print (ans)\n",
    "print (alist) \n"
   ]
  },
  {
   "cell_type": "markdown",
   "metadata": {},
   "source": [
    "3\\. Write a `decorator` hello that makes every wrapped function print “Hello!”, i.e. something like:\n",
    "\n",
    "```python\n",
    "@hello\n",
    "def square(x):\n",
    "    return x*x\n",
    "```\n",
    "\n"
   ]
  },
  {
   "cell_type": "code",
   "execution_count": 4,
   "metadata": {},
   "outputs": [
    {
     "name": "stdout",
     "output_type": "stream",
     "text": [
      "Hello!\n",
      "5\n",
      "Hello!\n"
     ]
    }
   ],
   "source": [
    "def hello(func):\n",
    "    def wrapper(*x):\n",
    "        print(\"Hello!\")\n",
    "        func(*x)\n",
    "        print(\"Hello!\")\n",
    "    return wrapper\n",
    "\n",
    "@hello\n",
    "def square(x):\n",
    "    print(x)\n",
    "\n",
    "\n",
    "square(5)\n"
   ]
  },
  {
   "cell_type": "markdown",
   "metadata": {},
   "source": [
    "4\\. Write the factorial function so that it a) does and b) does not use recursion."
   ]
  },
  {
   "cell_type": "code",
   "execution_count": 49,
   "metadata": {},
   "outputs": [
    {
     "name": "stdout",
     "output_type": "stream",
     "text": [
      "6\n",
      "6\n"
     ]
    }
   ],
   "source": [
    "##a\n",
    "def factorial_rec(num):\n",
    "    fact_rec = 1\n",
    "    if num == 0:\n",
    "        return 1\n",
    "    else:  \n",
    "        return num*factorial_rec(num-1)\n",
    "\n",
    "##b\n",
    "def factorial(num):\n",
    "    fact = 1\n",
    "    for i in range(1,num+1):\n",
    "        fact = fact*i\n",
    "    return fact\n",
    "\n",
    "print(factorial_rec(3))\n",
    "print(factorial(3))\n"
   ]
  },
  {
   "cell_type": "code",
   "execution_count": 50,
   "metadata": {},
   "outputs": [
    {
     "name": "stdout",
     "output_type": "stream",
     "text": [
      "24.8 µs ± 27.1 ns per loop (mean ± std. dev. of 7 runs, 10000 loops each)\n",
      "11.4 µs ± 25.1 ns per loop (mean ± std. dev. of 7 runs, 100000 loops each)\n"
     ]
    }
   ],
   "source": [
    "%timeit factorial_rec(200)\n",
    "%timeit factorial(200)"
   ]
  },
  {
   "cell_type": "markdown",
   "metadata": {},
   "source": [
    "5\\. Use HOFs (zip in particular) to compute the weight of a circle, a disk and a sphere, assuming different radii and different densities:\n",
    "\n",
    "```python\n",
    "densities = {\"Al\":[0.5,1,2],\"Fe\":[3,4,5],\"Pb\": [15,20,30]}\n",
    "radii = [1,2,3]\n",
    "```\n",
    "\n",
    "where the entries of the dictionary's values are the linear, superficial and volumetric densities of the materials respectively.\n",
    "\n",
    "In particular define a list of three lambda functions using a comprehension that computes the circumference, the area and the volume for a given radius.\n"
   ]
  },
  {
   "cell_type": "code",
   "execution_count": 35,
   "metadata": {
    "scrolled": true
   },
   "outputs": [
    {
     "name": "stdout",
     "output_type": "stream",
     "text": [
      "[[[3.00e+00 1.80e+01 9.00e+01]\n",
      "  [6.50e+00 3.90e+01 1.95e+02]\n",
      "  [9.50e+00 5.70e+01 2.85e+02]]\n",
      "\n",
      " [[1.00e+00 4.00e+00 2.00e+01]\n",
      "  [3.00e+00 1.20e+01 6.00e+01]\n",
      "  [7.00e+00 2.80e+01 1.40e+02]]\n",
      "\n",
      " [[8.00e+00 2.00e+01 1.20e+02]\n",
      "  [6.80e+01 1.70e+02 1.02e+03]\n",
      "  [2.26e+02 5.65e+02 3.39e+03]]]\n"
     ]
    }
   ],
   "source": [
    "from numpy import pi\n",
    "from numpy import empty\n",
    "densities = {\"Al\":[0.5,1,2],\"Fe\":[3,4,5],\"Pb\": [15,20,30]}\n",
    "lineales = [elem[0] for elem in densities.values()]\n",
    "areas = [elem[1] for elem in densities.values()]\n",
    "volumenes = [elem[2] for elem in densities.values()]\n",
    "\n",
    "sol = empty((3, 3, 3))\n",
    "\n",
    "radii = [1,2,3]\n",
    "funciones = [lambda x: round(2*pi*x), lambda x: round(pi*x*x/4), lambda x: round((4/3)*pi*x*x*x)]\n",
    "i = 0\n",
    "for x, y in zip(ordenado, funciones):\n",
    "    j=0\n",
    "    for r in radii:\n",
    "        sol[i][j][0] = y(r)*x[0]\n",
    "        sol[i][j][1] = y(r)*x[1]\n",
    "        sol[i][j][2] = y(r)*x[2]\n",
    "        j=j+1\n",
    "    i=i+1\n",
    "\n",
    "print(sol)\n"
   ]
  },
  {
   "cell_type": "markdown",
   "metadata": {},
   "source": [
    "6\\. Edit the class defintion to add an instance attribute of is_hungry = True to the Dog class. Then add a method called eat() which changes the value of is_hungry to False when called. Figure out the best way to feed each dog and then output “My dogs are hungry.” if all are hungry or “My dogs are not hungry.” if all are not hungry. The final output should look like this:\n",
    "\n",
    "`I have 3 dogs. \n",
    "Tom is 6. \n",
    "Fletcher is 7. \n",
    "Larry is 9. \n",
    "And they're all mammals, of course. \n",
    "My dogs are not hungry.\n",
    "`\n",
    "\n",
    "```python\n",
    "# Parent class\n",
    "class Dog:\n",
    "\n",
    "    # Class attribute\n",
    "    species = 'mammal'\n",
    "\n",
    "    # Initializer / Instance attributes\n",
    "    def __init__(self, name, age):\n",
    "        self.name = name\n",
    "        self.age = age\n",
    "\n",
    "    # instance method\n",
    "    def description(self):\n",
    "        return \"{} is {} years old\".format(self.name, self.age)\n",
    "\n",
    "    # instance method\n",
    "    def speak(self, sound):\n",
    "        return \"{} says {}\".format(self.name, sound)\n",
    "\n",
    "# Child class (inherits from Dog class)\n",
    "class RussellTerrier(Dog):\n",
    "    def run(self, speed):\n",
    "        return \"{} runs {}\".format(self.name, speed)\n",
    "\n",
    "# Child class (inherits from Dog class)\n",
    "class Bulldog(Dog):\n",
    "    def run(self, speed):\n",
    "        return \"{} runs {}\".format(self.name, speed)\n",
    "```"
   ]
  },
  {
   "cell_type": "code",
   "execution_count": 118,
   "metadata": {},
   "outputs": [],
   "source": [
    "# Parent class\n",
    "class Dog:\n",
    "\n",
    "    # Class attribute\n",
    "    species = 'mammal'\n",
    "    is_hungry = True\n",
    "\n",
    "    # Initializer / Instance attributes\n",
    "    def __init__(self, name, age):\n",
    "        self.name = name\n",
    "        self.age = age\n",
    "\n",
    "    # instance method\n",
    "    def description(self):\n",
    "        return \"{} is {} years old\".format(self.name, self.age)\n",
    "    \n",
    "    # instance method new\n",
    "    def eat(self):\n",
    "        self.is_hungry = False\n",
    "        return \"{} eats\".format(self.name)\n",
    "\n",
    "    # instance method\n",
    "    def speak(self, sound):\n",
    "        return \"{} says {}\".format(self.name, sound)\n",
    "\n",
    "# Child class (inherits from Dog class)\n",
    "class RussellTerrier(Dog):\n",
    "    def run(self, speed):\n",
    "        return \"{} runs {}\".format(self.name, speed)\n",
    "\n",
    "# Child class (inherits from Dog class)\n",
    "class Bulldog(Dog):\n",
    "    def run(self, speed):\n",
    "        return \"{} runs {}\".format(self.name, speed)\n",
    "    \n",
    "class GermanShepard(Dog):\n",
    "    def run(self, speed):\n",
    "        return \"{} runs {}\".format(self.name, speed)\n",
    "    \n",
    "\n"
   ]
  },
  {
   "cell_type": "code",
   "execution_count": 142,
   "metadata": {},
   "outputs": [
    {
     "name": "stdout",
     "output_type": "stream",
     "text": [
      "I have 3 dogs\n",
      "Sombra is 9\n",
      "Fido is 2\n",
      "Rex is 7\n",
      "And they are all mammals of course\n",
      "My dogs are not hungry\n"
     ]
    }
   ],
   "source": [
    "perro1 = Bulldog(\"Sombra\",9)\n",
    "perro2 = RussellTerrier(\"Fido\",2)\n",
    "perro3 = GermanShepard(\"Rex\",7)\n",
    "\n",
    "perros = [perro1,perro2,perro3]\n",
    "\n",
    "print(\"I have\", len(perros), \"dogs\")\n",
    "for x in range(len(perros)):\n",
    "    print(perros[x].name ,\"is\",perros[x].age)\n",
    "    \n",
    "print(\"And they are all\",perro1.species + \"s\", \"of course\")\n",
    "\n",
    "for x in range(len(perros)):\n",
    "    perros[x].eat()\n",
    "\n",
    "all_hungry = False\n",
    "for x in range(len(perros)):\n",
    "    if perros[x].is_hungry == True:\n",
    "        all_hungry = True\n",
    "            \n",
    "if all_hungry == True:\n",
    "    print(\"My dogs are hungry\")\n",
    "else:\n",
    "    print(\"My dogs are not hungry\")"
   ]
  }
 ],
 "metadata": {
  "kernelspec": {
   "display_name": "Python 3 (ipykernel)",
   "language": "python",
   "name": "python3"
  },
  "language_info": {
   "codemirror_mode": {
    "name": "ipython",
    "version": 3
   },
   "file_extension": ".py",
   "mimetype": "text/x-python",
   "name": "python",
   "nbconvert_exporter": "python",
   "pygments_lexer": "ipython3",
   "version": "3.8.10"
  }
 },
 "nbformat": 4,
 "nbformat_minor": 2
}
