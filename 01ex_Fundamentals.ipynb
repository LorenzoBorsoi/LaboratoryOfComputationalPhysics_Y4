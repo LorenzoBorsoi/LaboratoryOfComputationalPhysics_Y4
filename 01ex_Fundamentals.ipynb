{
 "cells": [
  {
   "cell_type": "markdown",
   "metadata": {},
   "source": [
    "1\\. Write the following as a list comprehension"
   ]
  },
  {
   "cell_type": "code",
   "execution_count": 1,
   "metadata": {},
   "outputs": [
    {
     "name": "stdout",
     "output_type": "stream",
     "text": [
      "[(0, 0), (0, 1), (0, 2), (0, 3), (1, 0), (1, 1), (1, 2), (1, 3), (2, 0), (2, 1), (2, 2), (2, 3)]\n",
      "[0, 4, 16]\n"
     ]
    }
   ],
   "source": [
    "# 1\n",
    "ans = []\n",
    "for i in range(3):\n",
    "    for j in range(4):\n",
    "        ans.append((i, j))\n",
    "print (ans)\n",
    "\n",
    "# 2\n",
    "ans = map(lambda x: x*x, filter(lambda x: x%2 == 0, range(5)))\n",
    "print (list(ans))\n",
    "\n"
   ]
  },
  {
   "cell_type": "code",
   "execution_count": 2,
   "metadata": {},
   "outputs": [
    {
     "name": "stdout",
     "output_type": "stream",
     "text": [
      "[(0, 0), (0, 1), (0, 2), (0, 3), (1, 0), (1, 1), (1, 2), (1, 3), (2, 0), (2, 1), (2, 2), (2, 3)]\n"
     ]
    }
   ],
   "source": [
    "my_list = [(i, j) for i in range(3) for j in range(4)]\n",
    "print(my_list)"
   ]
  },
  {
   "cell_type": "code",
   "execution_count": 3,
   "metadata": {},
   "outputs": [
    {
     "name": "stdout",
     "output_type": "stream",
     "text": [
      "[0, 4, 16]\n"
     ]
    }
   ],
   "source": [
    "my_list = [i*i for i in range(5) if i%2 == 0]\n",
    "print(my_list)"
   ]
  },
  {
   "cell_type": "markdown",
   "metadata": {},
   "source": [
    "2\\. Convert the following function into a pure function with no global variables or side effects"
   ]
  },
  {
   "cell_type": "code",
   "execution_count": 4,
   "metadata": {},
   "outputs": [
    {
     "name": "stdout",
     "output_type": "stream",
     "text": [
      "[1, 2, 3, 0, 1, 2, 3, 4]\n",
      "[1, 2, 3, 0, 1, 2, 3, 4]\n"
     ]
    }
   ],
   "source": [
    "x = 5\n",
    "def f(alist):\n",
    "    for i in range(x):\n",
    "         alist.append(i)\n",
    "    return alist\n",
    "\n",
    "alist = [1,2,3]\n",
    "ans = f(alist)\n",
    "print (ans)\n",
    "print (alist) # alist has been changed!"
   ]
  },
  {
   "cell_type": "code",
   "execution_count": 5,
   "metadata": {},
   "outputs": [
    {
     "name": "stdout",
     "output_type": "stream",
     "text": [
      "[1, 2, 3, 0, 1, 2, 3, 4]\n",
      "[1, 2, 3]\n"
     ]
    }
   ],
   "source": [
    "def f(mylist):\n",
    "    x = 5\n",
    "    mylist2 = mylist.copy()\n",
    "    for i in range(x):\n",
    "         mylist2.append(i)\n",
    "    return list(mylist2)\n",
    "\n",
    "alist = [1,2,3]\n",
    "ans = f(alist)\n",
    "print (ans)\n",
    "print (alist)"
   ]
  },
  {
   "cell_type": "markdown",
   "metadata": {},
   "source": [
    "3\\. Write a `decorator` hello that makes every wrapped function print “Hello!”, i.e. something like:\n",
    "\n",
    "```python\n",
    "@hello\n",
    "def square(x):\n",
    "    return x*x\n",
    "```\n",
    "\n"
   ]
  },
  {
   "cell_type": "code",
   "execution_count": 1,
   "metadata": {},
   "outputs": [
    {
     "name": "stdout",
     "output_type": "stream",
     "text": [
      "Hello\n",
      "4\n"
     ]
    }
   ],
   "source": [
    "def hello(func):\n",
    "    def wrapper(*args, **kargs):\n",
    "        print(\"Hello\")\n",
    "        return(func(*args, **kargs))\n",
    "    return(wrapper)\n",
    "\n",
    "@hello\n",
    "def square(x):\n",
    "    return x*x\n",
    "\n",
    "print(square(2))"
   ]
  },
  {
   "cell_type": "markdown",
   "metadata": {},
   "source": [
    "4\\. Write the factorial function so that it a) does and b) does not use recursion."
   ]
  },
  {
   "cell_type": "code",
   "execution_count": 15,
   "metadata": {},
   "outputs": [
    {
     "name": "stdout",
     "output_type": "stream",
     "text": [
      "What number you wanna compute the factorial of? 5\n",
      "The factorial of 5 is 120\n"
     ]
    }
   ],
   "source": [
    "# With recursion\n",
    "try:\n",
    "    number = int(input(\"What number you wanna compute the factorial of? \"))\n",
    "    def factorial(n):\n",
    "        if n == 0:\n",
    "            return 1\n",
    "        else:\n",
    "            return factorial(n-1)*n\n",
    "\n",
    "    \n",
    "    print(f\"The factorial of {number} is {factorial(number)}\")\n",
    "except ValueError:\n",
    "    print(\"You must type a number\")"
   ]
  },
  {
   "cell_type": "code",
   "execution_count": 2,
   "metadata": {},
   "outputs": [
    {
     "name": "stdout",
     "output_type": "stream",
     "text": [
      "What is the number to compute the factorial on? 5\n",
      "The factorial of 5 is 120\n"
     ]
    }
   ],
   "source": [
    "number = int(input(\"What is the number to compute the factorial on? \"))\n",
    "def factorial(n):\n",
    "    if n == 0:\n",
    "        return 1\n",
    "    else:\n",
    "        my_factorial = 1\n",
    "        for i in range(n):\n",
    "            my_factorial *= (i+1)\n",
    "    return(my_factorial)\n",
    "\n",
    "\n",
    "print(f\"The factorial of {number} is {factorial(number)}\")"
   ]
  },
  {
   "cell_type": "code",
   "execution_count": 3,
   "metadata": {},
   "outputs": [
    {
     "name": "stdout",
     "output_type": "stream",
     "text": [
      "What is the number to compute the factorial on? 5\n",
      "The factorial of 5 is 120\n"
     ]
    }
   ],
   "source": [
    "try:\n",
    "    number = int(input(\"What is the number to compute the factorial on? \"))\n",
    "    def factorial(n):\n",
    "        if n == 0:\n",
    "            return 1\n",
    "        else:\n",
    "            my_factorial = 1\n",
    "            for i in range(n):\n",
    "                my_factorial *= (i+1)\n",
    "        return(my_factorial)\n",
    "\n",
    "\n",
    "    print(f\"The factorial of {number} is {factorial(number)}\")\n",
    "except ValueError:\n",
    "    print(\"You must type an integer number\")"
   ]
  },
  {
   "cell_type": "markdown",
   "metadata": {},
   "source": [
    "5\\. Use HOFs (zip in particular) to compute the weight of a circle, a disk and a sphere, assuming different radii and different densities:\n",
    "\n",
    "```python\n",
    "densities = {\"Al\":[0.5,1,2],\"Fe\":[3,4,5],\"Pb\": [15,20,30]}\n",
    "radii = [1,2,3]\n",
    "```\n",
    "\n",
    "where the entries of the dictionary's values are the linear, superficial and volumetric densities of the materials respectively.\n",
    "\n",
    "In particular define a list of three lambda functions using a comprehension that computes the circumference, the area and the volume for a given radius.\n"
   ]
  },
  {
   "cell_type": "code",
   "execution_count": 6,
   "metadata": {},
   "outputs": [
    {
     "name": "stdout",
     "output_type": "stream",
     "text": [
      "Every column is, respectively, aluminium, iron and lead \n",
      "each row represent, respectively, the weight of the circle, disk and sphere,\n",
      "every block is, respectively: radius = 1, 2, 3.\n",
      "\n",
      "[[[3.14159265e+00 1.88495559e+01 9.42477796e+01]\n",
      "  [3.14159265e+00 1.25663706e+01 6.28318531e+01]\n",
      "  [8.37758041e+00 2.09439510e+01 1.25663706e+02]]\n",
      "\n",
      " [[6.28318531e+00 3.76991118e+01 1.88495559e+02]\n",
      "  [1.25663706e+01 5.02654825e+01 2.51327412e+02]\n",
      "  [6.70206433e+01 1.67551608e+02 1.00530965e+03]]\n",
      "\n",
      " [[9.42477796e+00 5.65486678e+01 2.82743339e+02]\n",
      "  [2.82743339e+01 1.13097336e+02 5.65486678e+02]\n",
      "  [2.26194671e+02 5.65486678e+02 3.39292007e+03]]]\n"
     ]
    }
   ],
   "source": [
    "import math\n",
    "import numpy as np\n",
    "\n",
    "\n",
    "densities = {\"Al\":[0.5,1,2],\"Fe\":[3,4,5],\"Pb\": [15,20,30]}\n",
    "radii = [1,2,3]\n",
    "circle_weight = lambda linear_density, radius: (2*math.pi*radius)*linear_density\n",
    "disk_weight = lambda superficial_density, radius: (math.pi*radius**2)*superficial_density\n",
    "sphere_weight = lambda volumetric_density, radius: (4/3)*math.pi*(radius**3)*volumetric_density\n",
    "my_densities = [[x, y, z] for x, y, z in zip(densities[\"Al\"], densities[\"Fe\"], densities[\"Pb\"])]\n",
    "weights = []\n",
    "# Every column is a different material, each row represent, respectively, \n",
    "#the weight of the circle, disk and sphere,\n",
    "# every block is a different radius\n",
    "for r in radii:\n",
    "    weights.append([[circle_weight(x, r) for x in my_densities[0]], [disk_weight(x, r) for x in my_densities[1]], [sphere_weight(x, r) for x in my_densities[2]]])\n",
    "print(\"\"\"Every column is, respectively, aluminium, iron and lead \n",
    "each row represent, respectively, the weight of the circle, disk and sphere,\n",
    "every block is, respectively: radius = 1, 2, 3.\\n\"\"\")\n",
    "print(np.array(weights))"
   ]
  },
  {
   "cell_type": "markdown",
   "metadata": {},
   "source": [
    "6\\. Edit the class defintion to add an instance attribute of is_hungry = True to the Dog class. Then add a method called eat() which changes the value of is_hungry to False when called. Figure out the best way to feed each dog and then output “My dogs are hungry.” if all are hungry or “My dogs are not hungry.” if all are not hungry. The final output should look like this:\n",
    "\n",
    "`I have 3 dogs. \n",
    "Tom is 6. \n",
    "Fletcher is 7. \n",
    "Larry is 9. \n",
    "And they're all mammals, of course. \n",
    "My dogs are not hungry.\n",
    "`\n",
    "\n",
    "```python\n",
    "# Parent class\n",
    "class Dog:\n",
    "\n",
    "    # Class attribute\n",
    "    species = 'mammal'\n",
    "\n",
    "    # Initializer / Instance attributes\n",
    "    def __init__(self, name, age):\n",
    "        self.name = name\n",
    "        self.age = age\n",
    "\n",
    "    # instance method\n",
    "    def description(self):\n",
    "        return \"{} is {} years old\".format(self.name, self.age)\n",
    "\n",
    "    # instance method\n",
    "    def speak(self, sound):\n",
    "        return \"{} says {}\".format(self.name, sound)\n",
    "\n",
    "# Child class (inherits from Dog class)\n",
    "class RussellTerrier(Dog):\n",
    "    def run(self, speed):\n",
    "        return \"{} runs {}\".format(self.name, speed)\n",
    "\n",
    "# Child class (inherits from Dog class)\n",
    "class Bulldog(Dog):\n",
    "    def run(self, speed):\n",
    "        return \"{} runs {}\".format(self.name, speed)\n",
    "```"
   ]
  },
  {
   "cell_type": "code",
   "execution_count": 7,
   "metadata": {},
   "outputs": [
    {
     "name": "stdout",
     "output_type": "stream",
     "text": [
      "Do you wanna feed Tom?[y, n] y\n",
      "Do you wanna feed Fletcher?[y, n] y\n",
      "Do you wanna feed Larry?[y, n] 5\n"
     ]
    },
    {
     "ename": "SystemExit",
     "evalue": "You must type either \"y\" or \"n\"",
     "output_type": "error",
     "traceback": [
      "An exception has occurred, use %tb to see the full traceback.\n",
      "\u001b[0;31mSystemExit\u001b[0m\u001b[0;31m:\u001b[0m You must type either \"y\" or \"n\"\n"
     ]
    }
   ],
   "source": [
    "import sys\n",
    "class Dog:\n",
    "    # Class attribute\n",
    "    species = 'mammal'\n",
    "\n",
    "    # Initializer / Instance attributes\n",
    "    def __init__(self, name, age, is_hungry):\n",
    "        self.name = name\n",
    "        self.age = age\n",
    "        self.is_hungry = is_hungry\n",
    "\n",
    "    # instance method\n",
    "    def description(self):\n",
    "        return \"{} is {} years old\".format(self.name, self.age)\n",
    "\n",
    "    def eat(self, is_hungry = True):\n",
    "        dog_fed = input(f\"Do you wanna feed {self.name}?[y, n] \")\n",
    "        if dog_fed.lower() == \"y\":\n",
    "            self.is_hungry = False\n",
    "        elif dog_fed.lower() == \"n\":\n",
    "            pass\n",
    "        else:\n",
    "            sys.exit(\"You must type either \\\"y\\\" or \\\"n\\\"\")\n",
    "\n",
    "            # instance method\n",
    "\n",
    "\n",
    "    def speak(self, sound):\n",
    "        return \"{} says {}\".format(self.name, sound)\n",
    "\n",
    "\n",
    "# Child class (inherits from Dog class)\n",
    "class RussellTerrier(Dog):\n",
    "    def run(self, speed):\n",
    "        return \"{} runs {}\".format(self.name, speed)\n",
    "\n",
    "\n",
    "# Child class (inherits from Dog class)\n",
    "class Bulldog(Dog):\n",
    "    def run(self, speed):\n",
    "        return \"{} runs {}\".format(self.name, speed)\n",
    "\n",
    "\n",
    "first_dog = Dog(\"Tom\", 6, True)\n",
    "second_dog = Dog(\"Fletcher\", 7, True)\n",
    "third_dog = Dog(\"Larry\", 9, True)\n",
    "first_dog.eat()\n",
    "second_dog.eat()\n",
    "third_dog.eat()\n",
    "print(f\"\"\"I have 3 dogs,\n",
    "{first_dog.name} is {first_dog.age}\n",
    "{second_dog.name} is {second_dog.age}\n",
    "{third_dog.name} is {third_dog.age}\n",
    "and they are all {Dog.species}s of course.\"\"\")\n",
    "if not first_dog.is_hungry and not second_dog.is_hungry and not third_dog.is_hungry:\n",
    "    print(\"My dogs are not hungry\")\n",
    "else:\n",
    "    print(\"My dogs are hungry\")"
   ]
  },
  {
   "cell_type": "code",
   "execution_count": null,
   "metadata": {},
   "outputs": [],
   "source": []
  }
 ],
 "metadata": {
  "kernelspec": {
   "display_name": "Python 3",
   "language": "python",
   "name": "python3"
  },
  "language_info": {
   "codemirror_mode": {
    "name": "ipython",
    "version": 3
   },
   "file_extension": ".py",
   "mimetype": "text/x-python",
   "name": "python",
   "nbconvert_exporter": "python",
   "pygments_lexer": "ipython3",
   "version": "3.8.8"
  }
 },
 "nbformat": 4,
 "nbformat_minor": 2
}
