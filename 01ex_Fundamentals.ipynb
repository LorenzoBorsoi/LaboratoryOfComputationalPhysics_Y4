{
 "cells": [
  {
   "cell_type": "markdown",
   "metadata": {},
   "source": [
    "1\\. Write the following as a list comprehension"
   ]
  },
  {
   "cell_type": "code",
   "execution_count": null,
   "metadata": {},
   "outputs": [],
   "source": [
    "# 1\n",
    "ans = []\n",
    "for i in range(3):\n",
    "    for j in range(4):\n",
    "        ans.append((i, j))\n",
    "print (ans)\n",
    "\n",
    "# 2\n",
    "ans = map(lambda x: x*x, filter(lambda x: x%2 == 0, range(5)))\n",
    "print (list(ans))\n",
    "\n"
   ]
  },
  {
   "cell_type": "code",
   "execution_count": null,
   "metadata": {},
   "outputs": [],
   "source": [
    "#1\n",
    "ans=[(i,j) for i in range(3) for j in range(4)]\n",
    "print(ans)\n",
    "\n",
    "# 2\n",
    "a=[x*x for x in range(5) if x%2==0]\n",
    "print(a)"
   ]
  },
  {
   "cell_type": "markdown",
   "metadata": {},
   "source": [
    "2\\. Convert the following function into a pure function with no global variables or side effects"
   ]
  },
  {
   "cell_type": "code",
   "execution_count": null,
   "metadata": {},
   "outputs": [],
   "source": [
    "x = 5\n",
    "def f(alist):\n",
    "    for i in range(x):\n",
    "         alist.append(i)\n",
    "    return alist\n",
    "\n",
    "alist = [1,2,3]\n",
    "ans = f(alist)\n",
    "print (ans)\n",
    "print (alist) # alist has been changed!"
   ]
  },
  {
   "cell_type": "code",
   "execution_count": null,
   "metadata": {},
   "outputs": [],
   "source": [
    "\"\"\"this funciton requires as arguments\n",
    "a list and the number of how many numbers has to be passed\"\"\"\n",
    "def f(alist,x):\n",
    "    list=[i for i in alist]\n",
    "    for i in range(x):\n",
    "        list.append(i)\n",
    "    return list\n",
    "\n",
    "alist = [1,2,3]\n",
    "ans = f(alist,5)\n",
    "print (ans)\n",
    "print (alist)"
   ]
  },
  {
   "cell_type": "markdown",
   "metadata": {},
   "source": [
    "3\\. Write a `decorator` hello that makes every wrapped function print “Hello!”, i.e. something like:\n",
    "\n",
    "```python\n",
    "@hello\n",
    "def square(x):\n",
    "    return x*x\n",
    "```\n",
    "\n"
   ]
  },
  {
   "cell_type": "code",
   "execution_count": 4,
   "metadata": {},
   "outputs": [
    {
     "name": "stdout",
     "output_type": "stream",
     "text": [
      "Hello!\n",
      "225\n"
     ]
    }
   ],
   "source": [
    "def Hello(func):\n",
    "    def wrapper(*num):\n",
    "        print(\"Hello!\")\n",
    "        return func(*num)\n",
    "    return wrapper\n",
    "\n",
    "@Hello\n",
    "def square(x):\n",
    "    return x*x\n",
    "\n",
    "print(square(15))"
   ]
  },
  {
   "cell_type": "markdown",
   "metadata": {},
   "source": [
    "4\\. Write the factorial function so that it a) does and b) does not use recursion."
   ]
  },
  {
   "cell_type": "code",
   "execution_count": null,
   "metadata": {},
   "outputs": [],
   "source": [
    "#a) recursion\n",
    "def fact(x):\n",
    "    if x==1 or x==0:\n",
    "        return 1\n",
    "    else:\n",
    "        return x*fact(x-1)\n",
    "print(fact(0))\n",
    "\n",
    "#b) no recursion\n",
    "def fact2(x):\n",
    "    if(x==0): return 1\n",
    "    else:\n",
    "        fact=1\n",
    "        for i in range(1,x+1):\n",
    "            fact=i*fact\n",
    "        return fact\n",
    "print(fact2(0))"
   ]
  },
  {
   "cell_type": "markdown",
   "metadata": {},
   "source": [
    "5\\. Use HOFs (zip in particular) to compute the weight of a circle, a disk and a sphere, assuming different radii and different densities:\n",
    "\n",
    "```python\n",
    "densities = {\"Al\":[0.5,1,2],\"Fe\":[3,4,5],\"Pb\": [15,20,30]}\n",
    "radii = [1,2,3]\n",
    "```\n",
    "\n",
    "where the entries of the dictionary's values are the linear, superficial and volumetric densities of the materials respectively.\n",
    "\n",
    "In particular define a list of three lambda functions using a comprehension that computes the circumference, the area and the volume for a given radius.\n"
   ]
  },
  {
   "cell_type": "code",
   "execution_count": 5,
   "metadata": {},
   "outputs": [
    {
     "name": "stdout",
     "output_type": "stream",
     "text": [
      "{'Al_0.5': [56.54866776461627, 56.54866776461627, 56.54866776461627], 'Al_1': [113.09733552923254, 113.09733552923254, 113.09733552923254], 'Al_2': [226.19467105846508, 226.19467105846508, 226.19467105846508], 'Fe_3': [339.29200658769764, 339.29200658769764, 339.29200658769764], 'Fe_4': [452.38934211693015, 452.38934211693015, 452.38934211693015], 'Fe_5': [565.4866776461627, 565.4866776461627, 565.4866776461627], 'Pb_15': [1696.460032938488, 1696.460032938488, 1696.460032938488], 'Pb_20': [2261.9467105846506, 2261.9467105846506, 2261.9467105846506], 'Pb_30': [3392.920065876976, 3392.920065876976, 3392.920065876976]}\n"
     ]
    }
   ],
   "source": [
    "from numpy import pi\n",
    "\n",
    "densities = {\"Al\":[0.5,1,2],\"Fe\":[3,4,5],\"Pb\": [15,20,30]}\n",
    "radii = [1,2,3]\n",
    "\n",
    "fun = [lambda r: coeff*pi*r**dim for coeff, dim in zip([2, 1, 4./3.],[1,2,3])]\n",
    "\n",
    "#dictionary of weights for any material's density for any radii\n",
    "weights={}\n",
    "# print(densities.items())\n",
    "for material in densities.keys():\n",
    "    for density in densities[material]:\n",
    "        for r in radii:\n",
    "            weights[material+\"_\"+str(density)] = [density * f(r) for f in fun]\n",
    "print(weights)\n"
   ]
  },
  {
   "cell_type": "markdown",
   "metadata": {},
   "source": [
    "6\\. Edit the class defintion to add an instance attribute of is_hungry = True to the Dog class. Then add a method called eat() which changes the value of is_hungry to False when called. Figure out the best way to feed each dog and then output “My dogs are hungry.” if all are hungry or “My dogs are not hungry.” if all are not hungry. The final output should look like this:\n",
    "\n",
    "`I have 3 dogs. \n",
    "Tom is 6. \n",
    "Fletcher is 7. \n",
    "Larry is 9. \n",
    "And they're all mammals, of course. \n",
    "My dogs are not hungry.\n",
    "`\n",
    "\n",
    "```python\n",
    "# Parent class\n",
    "class Dog:\n",
    "\n",
    "    # Class attribute\n",
    "    species = 'mammal'\n",
    "\n",
    "    # Initializer / Instance attributes\n",
    "    def __init__(self, name, age):\n",
    "        self.name = name\n",
    "        self.age = age\n",
    "\n",
    "    # instance method\n",
    "    def description(self):\n",
    "        return \"{} is {} years old\".format(self.name, self.age)\n",
    "\n",
    "    # instance method\n",
    "    def speak(self, sound):\n",
    "        return \"{} says {}\".format(self.name, sound)\n",
    "\n",
    "# Child class (inherits from Dog class)\n",
    "class RussellTerrier(Dog):\n",
    "    def run(self, speed):\n",
    "        return \"{} runs {}\".format(self.name, speed)\n",
    "\n",
    "# Child class (inherits from Dog class)\n",
    "class Bulldog(Dog):\n",
    "    def run(self, speed):\n",
    "        return \"{} runs {}\".format(self.name, speed)\n",
    "```"
   ]
  },
  {
   "cell_type": "code",
   "execution_count": 6,
   "metadata": {},
   "outputs": [
    {
     "name": "stdout",
     "output_type": "stream",
     "text": [
      "I have 4 dogs\n",
      "giacomo is 10 years old\n",
      "daniele is 12 years old\n",
      "bree is 11 years old\n",
      "forma is 14 years old\n",
      "And they're all mammals, of course.\n",
      "giacomo was hungry so i feed it\n",
      "daniele was hungry so i feed it\n",
      "bree is not hungry\n",
      "forma is not hungry\n"
     ]
    }
   ],
   "source": [
    "class Dog:\n",
    "\n",
    "    # Class attribute\n",
    "    species = 'mammal'\n",
    "\n",
    "    # Initializer / Instance attributes\n",
    "    def __init__(self, name, age, is_hungry):\n",
    "        self.name = name\n",
    "        self.age = age\n",
    "        self.is_hungry = is_hungry\n",
    "\n",
    "\n",
    "    # instance method\n",
    "    def description(self):\n",
    "        return \"{} is {} years old\".format(self.name, self.age)\n",
    "\n",
    "\n",
    "    # instance method\n",
    "    def speak(self, sound):\n",
    "        return \"{} says {}\".format(self.name, sound)\n",
    "    \n",
    "    def eat(self):\n",
    "        self.is_hungry=False\n",
    "        return self.is_hungry\n",
    "    \n",
    "    def feed(self):\n",
    "        if(self.is_hungry==True):\n",
    "            self.eat()\n",
    "            return \"My dogs are not hungry.\"\n",
    "        else:\n",
    "            return \"My dogs are hungry.\"\n",
    "\n",
    "\n",
    "if __name__ == \"__main__\":\n",
    "\n",
    "    dogs=[('giacomo',10,True),('daniele',12,True),('bree',11,False),('forma',14,False)]\n",
    "\n",
    "    mydogs=[Dog(dog[0],dog[1],dog[2]) for dog in dogs]\n",
    "\n",
    "    print('I have %d dogs'%len(mydogs))\n",
    "\n",
    "    flag=True\n",
    "    for dog in mydogs:\n",
    "        print(dog.description())\n",
    "        if(dog.species != 'mammal'):\n",
    "            flag=False        \n",
    "    if flag:\n",
    "        print(\"And they're all mammals, of course.\")\n",
    "    #to feed all the dogs\n",
    "    for dog in mydogs:\n",
    "        if(dog.is_hungry==True):\n",
    "            dog.eat()\n",
    "            print(f\"{dog.name} was hungry so i feed it\")\n",
    "        else:\n",
    "            print(f\"{dog.name} is not hungry\")\n"
   ]
  },
  {
   "cell_type": "code",
   "execution_count": null,
   "metadata": {},
   "outputs": [],
   "source": []
  }
 ],
 "metadata": {
  "kernelspec": {
   "display_name": "Python 3",
   "language": "python",
   "name": "python3"
  },
  "language_info": {
   "codemirror_mode": {
    "name": "ipython",
    "version": 3
   },
   "file_extension": ".py",
   "mimetype": "text/x-python",
   "name": "python",
   "nbconvert_exporter": "python",
   "pygments_lexer": "ipython3",
   "version": "3.9.7"
  }
 },
 "nbformat": 4,
 "nbformat_minor": 2
}
