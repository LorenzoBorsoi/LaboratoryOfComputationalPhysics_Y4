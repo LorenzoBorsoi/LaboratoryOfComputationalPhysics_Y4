{
 "cells": [
  {
   "cell_type": "markdown",
   "metadata": {},
   "source": [
    "1\\. Write the following as a list comprehension"
   ]
  },
  {
   "cell_type": "code",
   "execution_count": 8,
   "metadata": {},
   "outputs": [
    {
     "name": "stdout",
     "output_type": "stream",
     "text": [
      "[(0, 0), (0, 1), (0, 2), (0, 3), (1, 0), (1, 1), (1, 2), (1, 3), (2, 0), (2, 1), (2, 2), (2, 3)]\n",
      "\n",
      " [(0, 0), (0, 1), (0, 2), (0, 3), (1, 0), (1, 1), (1, 2), (1, 3), (2, 0), (2, 1), (2, 2), (2, 3)]\n"
     ]
    }
   ],
   "source": [
    "# 1\n",
    "ans = []\n",
    "for i in range(3):\n",
    "    for j in range(4):\n",
    "        ans.append((i, j))\n",
    "print(ans)\n",
    "\n",
    "\n",
    "#my version\n",
    "ans2 = [(i,j) for i in range(3) for j in range(4)]\n",
    "print(\"\\n\", ans2)"
   ]
  },
  {
   "cell_type": "code",
   "execution_count": 160,
   "metadata": {},
   "outputs": [
    {
     "name": "stdout",
     "output_type": "stream",
     "text": [
      "[0, 4, 16]\n",
      "\n",
      " [0, 4, 16]\n"
     ]
    }
   ],
   "source": [
    "# 2\n",
    "ans = map(lambda x: x*x, filter(lambda x: x%2 == 0, range(5)))\n",
    "print (list(ans))\n",
    "\n",
    "\n",
    "#my version\n",
    "ans2 = [j**2 for j in range(5) if j%2 == 0]\n",
    "print(\"\\n\", ans3)"
   ]
  },
  {
   "cell_type": "markdown",
   "metadata": {},
   "source": [
    "2\\. Convert the following function into a pure function with no global variables or side effects"
   ]
  },
  {
   "cell_type": "code",
   "execution_count": 283,
   "metadata": {},
   "outputs": [
    {
     "name": "stdout",
     "output_type": "stream",
     "text": [
      "[1, 2, 3, 0, 1, 2, 3, 4]\n",
      "[1, 2, 3, 0, 1, 2, 3, 4]\n"
     ]
    }
   ],
   "source": [
    "x = 5\n",
    "def f(alist):\n",
    "    for i in range(x):\n",
    "         alist.append(i)\n",
    "    return alist\n",
    "\n",
    "alist = [1,2,3]\n",
    "ans = f(alist)\n",
    "print (ans)\n",
    "print (alist) # alist has been changed!"
   ]
  },
  {
   "cell_type": "code",
   "execution_count": 2,
   "metadata": {},
   "outputs": [
    {
     "name": "stdout",
     "output_type": "stream",
     "text": [
      "[1, 2, 3, 0, 1, 2, 3, 4]\n",
      "[1, 2, 3]\n"
     ]
    }
   ],
   "source": [
    "x = 5               \n",
    "def f(l):\n",
    "    newlist=[]+l\n",
    "    for i in range(x):\n",
    "         newlist.append(i)\n",
    "    return newlist\n",
    "\n",
    "alist = [1,2,3]\n",
    "ans = f(alist)\n",
    "print (ans)\n",
    "print (alist)"
   ]
  },
  {
   "cell_type": "markdown",
   "metadata": {},
   "source": [
    "3\\. Write a `decorator` hello that makes every wrapped function print “Hello!”, i.e. something like:\n",
    "\n",
    "```python\n",
    "@hello\n",
    "def square(x):\n",
    "    return x*x\n",
    "```\n",
    "\n"
   ]
  },
  {
   "cell_type": "code",
   "execution_count": 25,
   "metadata": {},
   "outputs": [
    {
     "name": "stdout",
     "output_type": "stream",
     "text": [
      "Hello!\n",
      "2.0\n"
     ]
    }
   ],
   "source": [
    "from math import sqrt\n",
    "z = 4\n",
    "\n",
    "def hello(func):\n",
    "    def wrapper(x):\n",
    "        print(\"Hello!\")\n",
    "        func(x)\n",
    "    return wrapper\n",
    "\n",
    "@hello\n",
    "def square_root(y):\n",
    "    print(sqrt(y))\n",
    "\n",
    "square_root(z)"
   ]
  },
  {
   "cell_type": "markdown",
   "metadata": {},
   "source": [
    "4\\. Write the factorial function so that it a) does and b) does not use recursion."
   ]
  },
  {
   "cell_type": "code",
   "execution_count": 157,
   "metadata": {},
   "outputs": [
    {
     "name": "stdout",
     "output_type": "stream",
     "text": [
      "Enter an integer number: 3\n",
      "\n",
      " 3 ! = 6\n"
     ]
    }
   ],
   "source": [
    "# a) version\n",
    "\n",
    "def fact1(n):\n",
    "    if n==0:\n",
    "        return 1\n",
    "    else:\n",
    "        return n*fact1(n-1)\n",
    "\n",
    "num = input(\"Enter an integer number: \")\n",
    "if num.isdigit():\n",
    "    num = int(num)\n",
    "    if (num > 0 or num == 0):\n",
    "        print(\"\\n\", num, \"! =\", fact1(num))\n",
    "    else:\n",
    "        print(\"\\nThe factorial does not exist\")\n",
    "else:\n",
    "    print(\"\\nThe factorial does not exist\")"
   ]
  },
  {
   "cell_type": "code",
   "execution_count": 158,
   "metadata": {
    "scrolled": true
   },
   "outputs": [
    {
     "name": "stdout",
     "output_type": "stream",
     "text": [
      "Enter an integer number: 5\n",
      "\n",
      " 5 ! = 120\n"
     ]
    }
   ],
   "source": [
    "# b) version\n",
    "\n",
    "def fact2(n):\n",
    "\n",
    "    factorial = 1\n",
    "    if n == 0:\n",
    "        return factorial\n",
    "    else:\n",
    "        for i in range(1, n+1):\n",
    "            factorial = factorial*i\n",
    "        return factorial\n",
    "\n",
    "    \n",
    "num = input(\"Enter an integer number: \")\n",
    "if num.isdigit():\n",
    "    num = int(num)\n",
    "    if (num > 0 or num == 0):\n",
    "        print(\"\\n\", num, \"! =\", fact2(num))\n",
    "    else:\n",
    "        print(\"\\nThe factorial does not exist\")\n",
    "else:\n",
    "    print(\"\\nThe factorial does not exist\")"
   ]
  },
  {
   "cell_type": "markdown",
   "metadata": {},
   "source": [
    "5\\. Use HOFs (zip in particular) to compute the weight of a circle, a disk and a sphere, assuming different radii and different densities:\n",
    "\n",
    "```python\n",
    "densities = {\"Al\":[0.5,1,2],\"Fe\":[3,4,5],\"Pb\": [15,20,30]}\n",
    "radii = [1,2,3]\n",
    "```\n",
    "\n",
    "where the entries of the dictionary's values are the linear, superficial and volumetric densities of the materials respectively.\n",
    "\n",
    "In particular define a list of three lambda functions using a comprehension that computes the circumference, the area and the volume for a given radius.\n"
   ]
  },
  {
   "cell_type": "code",
   "execution_count": 9,
   "metadata": {
    "scrolled": true
   },
   "outputs": [
    {
     "name": "stdout",
     "output_type": "stream",
     "text": [
      "\u001b[1m\n",
      "\n",
      "\n",
      "\t\tWeight of the Circle\u001b[0m\n",
      "\t \u001b[1mAl\u001b[0m\t\t \u001b[1mFe\u001b[0m\t\t \u001b[1mPb\u001b[0m\t\n",
      "\u001b[1m\trho =\u001b[0m 0.5 \u001b[1m\trho =\u001b[0m 3 \u001b[1m\trho =\u001b[0m 15 \u001b[1m\n",
      "R =\u001b[0m 1 \t3.14\t\t18.85\t\t94.25\t\u001b[1m\n",
      "R =\u001b[0m 2 \t6.28\t\t37.70\t\t188.50\t\u001b[1m\n",
      "R =\u001b[0m 3 \t9.42\t\t56.55\t\t282.74\t\u001b[1m\n",
      "\n",
      "\n",
      "\t\tWeight of the Disk\u001b[0m\n",
      "\t \u001b[1mAl\u001b[0m\t\t \u001b[1mFe\u001b[0m\t\t \u001b[1mPb\u001b[0m\t\n",
      "\u001b[1m\trho =\u001b[0m 1 \u001b[1m\trho =\u001b[0m 4 \u001b[1m\trho =\u001b[0m 20 \u001b[1m\n",
      "R =\u001b[0m 1 \t12.57\t\t50.27\t\t251.33\t\u001b[1m\n",
      "R =\u001b[0m 2 \t50.27\t\t201.06\t\t1005.31\t\u001b[1m\n",
      "R =\u001b[0m 3 \t113.10\t\t452.39\t\t2261.95\t\u001b[1m\n",
      "\n",
      "\n",
      "\t\tWeight of the Sphere\u001b[0m\n",
      "\t \u001b[1mAl\u001b[0m\t\t \u001b[1mFe\u001b[0m\t\t \u001b[1mPb\u001b[0m\t\n",
      "\u001b[1m\trho =\u001b[0m 2 \u001b[1m\trho =\u001b[0m 5 \u001b[1m\trho =\u001b[0m 30 \u001b[1m\n",
      "R =\u001b[0m 1 \t8.38\t\t20.94\t\t125.66\t\u001b[1m\n",
      "R =\u001b[0m 2 \t67.02\t\t167.55\t\t1005.31\t\u001b[1m\n",
      "R =\u001b[0m 3 \t226.19\t\t565.49\t\t3392.92\t"
     ]
    }
   ],
   "source": [
    "# version with \"zip\"\n",
    "\n",
    "from math import pi\n",
    "BOLD = '\\033[1m'\n",
    "END = '\\033[0m'\n",
    "\n",
    "densities = {\"Al\":[0.5,1,2],\"Fe\":[3,4,5],\"Pb\": [15,20,30]}\n",
    "radii = [1,2,3]\n",
    "\n",
    "R = [radii for i in range(1,4)]\n",
    "data = list(zip(densities.keys(), R, densities.values()))\n",
    "funcs = [lambda r,rho: rho*2*pi*r, lambda r,rho: rho*4*pi*r**2,\n",
    "                        lambda r,rho: rho*4/3*pi*r**3]\n",
    "\n",
    "#print(\"Data:\", data)\n",
    "#print(\"\\nR:\", R)\n",
    "\n",
    "for i in range(3):\n",
    "    if i==0:\n",
    "        print(BOLD + \"\\n\\n\\n\\t\\tWeight of the Circle\" + END)\n",
    "    elif i==1:\n",
    "        print(BOLD + \"\\n\\n\\n\\t\\tWeight of the Disk\" + END)\n",
    "    else:\n",
    "        print(BOLD + \"\\n\\n\\n\\t\\tWeight of the Sphere\"+ END)\n",
    "    \n",
    "    for item in data:\n",
    "        print(\"\\t\", BOLD + item[0] + END, end = \"\\t\")\n",
    "    \n",
    "    print()\n",
    "    for item in data:\n",
    "        print(BOLD + \"\\trho =\" + END, item[2][i], end = \" \")    #item[2][i]=>densities\n",
    "                                                             #i={0 linear, 1 superficial, 2 volumetric} \n",
    "    for radius in item[1]:\n",
    "        print(BOLD + \"\\nR =\" + END, radius, end = \" \")\n",
    "        for item in data:\n",
    "            #print(\"\\t\", item[2][i], radius  , end = \"\\t\")\n",
    "            print(\"\\t%.2f\"% funcs[i](radius, item[2][i]), end = \"\\t\")\n"
   ]
  },
  {
   "cell_type": "code",
   "execution_count": 10,
   "metadata": {},
   "outputs": [
    {
     "name": "stdout",
     "output_type": "stream",
     "text": [
      "\u001b[1m\n",
      "\n",
      "\n",
      "\t\t\tWeight of the Circle\u001b[0m\n",
      "\u001b[1m\t\tR =\u001b[0m 1 \u001b[1m\t\tR =\u001b[0m 2 \u001b[1m\t\tR =\u001b[0m 3 \n",
      "\u001b[1mAl rho = 0.5\u001b[0m\t3.14\t\t6.28\t\t9.42\t\n",
      "\u001b[1mFe rho = 3\u001b[0m\t18.85\t\t37.70\t\t56.55\t\n",
      "\u001b[1mPb rho = 15\u001b[0m\t94.25\t\t188.50\t\t282.74\t\u001b[1m\n",
      "\n",
      "\n",
      "\t\t\tWeight of the Disk\u001b[0m\n",
      "\u001b[1m\t\tR =\u001b[0m 1 \u001b[1m\t\tR =\u001b[0m 2 \u001b[1m\t\tR =\u001b[0m 3 \n",
      "\u001b[1mAl rho = 1\u001b[0m\t12.57\t\t50.27\t\t113.10\t\n",
      "\u001b[1mFe rho = 4\u001b[0m\t50.27\t\t201.06\t\t452.39\t\n",
      "\u001b[1mPb rho = 20\u001b[0m\t251.33\t\t1005.31\t\t2261.95\t\u001b[1m\n",
      "\n",
      "\n",
      "\t\t\tWeight of the Sphere\u001b[0m\n",
      "\u001b[1m\t\tR =\u001b[0m 1 \u001b[1m\t\tR =\u001b[0m 2 \u001b[1m\t\tR =\u001b[0m 3 \n",
      "\u001b[1mAl rho = 2\u001b[0m\t8.38\t\t67.02\t\t226.19\t\n",
      "\u001b[1mFe rho = 5\u001b[0m\t20.94\t\t167.55\t\t565.49\t\n",
      "\u001b[1mPb rho = 30\u001b[0m\t125.66\t\t1005.31\t\t3392.92\t"
     ]
    }
   ],
   "source": [
    "#version without \"zip\" - tabled result\n",
    "\n",
    "\n",
    "from math import pi\n",
    "BOLD = '\\033[1m'\n",
    "END = '\\033[0m'\n",
    "\n",
    "densities = {\"Al\":[0.5,1,2],\"Fe\":[3,4,5],\"Pb\": [15,20,30]}\n",
    "radii = [1,2,3]\n",
    "\n",
    "\n",
    "funcs = [lambda r,rho: rho*2*pi*r, lambda r,rho: rho*4*pi*r**2,\n",
    "                        lambda r,rho: rho*4/3*pi*r**3]\n",
    "\n",
    "val = list(densities.values())\n",
    "key = list(densities.keys())\n",
    "data = [[[(key[i], y, val[i][j]) for y in radii] for i in range(3)] for j in range(3)]\n",
    "#print(\"\\nData:\", data)\n",
    "\n",
    "for i in range(3):\n",
    "    if i==0:\n",
    "        print(BOLD + \"\\n\\n\\n\\t\\t\\tWeight of the Circle\" + END)\n",
    "    elif i==1:\n",
    "        print(BOLD + \"\\n\\n\\n\\t\\t\\tWeight of the Disk\" + END)\n",
    "    else:\n",
    "        print(BOLD + \"\\n\\n\\n\\t\\t\\tWeight of the Sphere\"+ END)\n",
    "    \n",
    "    for radius in radii:\n",
    "        print(BOLD + \"\\t\\tR =\" + END, radius, end = \" \")\n",
    "    \n",
    "    for item in data[i]:\n",
    "        print(\"\\n\" + BOLD + item[0][0] + \" rho = \" + str(item[0][2]) + END, end = \"\")\n",
    "        for sub_item in item:\n",
    "            #print(\"\\t\", sub_item[1], sub_item[2], end = \"\\t\")\n",
    "            print(\"\\t%.2f\"% funcs[i](sub_item[1], sub_item[2]), end = \"\\t\")\n",
    "\n"
   ]
  },
  {
   "cell_type": "code",
   "execution_count": 70,
   "metadata": {},
   "outputs": [
    {
     "name": "stdout",
     "output_type": "stream",
     "text": [
      "\u001b[1m\n",
      "\n",
      "\n",
      "\tWeight of the Circle\u001b[0m\n",
      "\u001b[1m\n",
      "Element =\u001b[0m Al \u001b[1m\tR =\u001b[0m 1 \u001b[1m\trho =\u001b[0m 0.5 : 3.14\u001b[1m\n",
      "Element =\u001b[0m Al \u001b[1m\tR =\u001b[0m 2 \u001b[1m\trho =\u001b[0m 0.5 : 6.28\u001b[1m\n",
      "Element =\u001b[0m Al \u001b[1m\tR =\u001b[0m 3 \u001b[1m\trho =\u001b[0m 0.5 : 9.42\u001b[1m\n",
      "Element =\u001b[0m Fe \u001b[1m\tR =\u001b[0m 1 \u001b[1m\trho =\u001b[0m 3 : 18.85\u001b[1m\n",
      "Element =\u001b[0m Fe \u001b[1m\tR =\u001b[0m 2 \u001b[1m\trho =\u001b[0m 3 : 37.70\u001b[1m\n",
      "Element =\u001b[0m Fe \u001b[1m\tR =\u001b[0m 3 \u001b[1m\trho =\u001b[0m 3 : 56.55\u001b[1m\n",
      "Element =\u001b[0m Pb \u001b[1m\tR =\u001b[0m 1 \u001b[1m\trho =\u001b[0m 15 : 94.25\u001b[1m\n",
      "Element =\u001b[0m Pb \u001b[1m\tR =\u001b[0m 2 \u001b[1m\trho =\u001b[0m 15 : 188.50\u001b[1m\n",
      "Element =\u001b[0m Pb \u001b[1m\tR =\u001b[0m 3 \u001b[1m\trho =\u001b[0m 15 : 282.74\u001b[1m\n",
      "\n",
      "\n",
      "\tWeight of the Disk\u001b[0m\n",
      "\u001b[1m\n",
      "Element =\u001b[0m Al \u001b[1m\tR =\u001b[0m 1 \u001b[1m\trho =\u001b[0m 1 : 12.57\u001b[1m\n",
      "Element =\u001b[0m Al \u001b[1m\tR =\u001b[0m 2 \u001b[1m\trho =\u001b[0m 1 : 50.27\u001b[1m\n",
      "Element =\u001b[0m Al \u001b[1m\tR =\u001b[0m 3 \u001b[1m\trho =\u001b[0m 1 : 113.10\u001b[1m\n",
      "Element =\u001b[0m Fe \u001b[1m\tR =\u001b[0m 1 \u001b[1m\trho =\u001b[0m 4 : 50.27\u001b[1m\n",
      "Element =\u001b[0m Fe \u001b[1m\tR =\u001b[0m 2 \u001b[1m\trho =\u001b[0m 4 : 201.06\u001b[1m\n",
      "Element =\u001b[0m Fe \u001b[1m\tR =\u001b[0m 3 \u001b[1m\trho =\u001b[0m 4 : 452.39\u001b[1m\n",
      "Element =\u001b[0m Pb \u001b[1m\tR =\u001b[0m 1 \u001b[1m\trho =\u001b[0m 20 : 251.33\u001b[1m\n",
      "Element =\u001b[0m Pb \u001b[1m\tR =\u001b[0m 2 \u001b[1m\trho =\u001b[0m 20 : 1005.31\u001b[1m\n",
      "Element =\u001b[0m Pb \u001b[1m\tR =\u001b[0m 3 \u001b[1m\trho =\u001b[0m 20 : 2261.95\u001b[1m\n",
      "\n",
      "\n",
      "\tWeight of the Sphere\u001b[0m\n",
      "\u001b[1m\n",
      "Element =\u001b[0m Al \u001b[1m\tR =\u001b[0m 1 \u001b[1m\trho =\u001b[0m 2 : 8.38\u001b[1m\n",
      "Element =\u001b[0m Al \u001b[1m\tR =\u001b[0m 2 \u001b[1m\trho =\u001b[0m 2 : 67.02\u001b[1m\n",
      "Element =\u001b[0m Al \u001b[1m\tR =\u001b[0m 3 \u001b[1m\trho =\u001b[0m 2 : 226.19\u001b[1m\n",
      "Element =\u001b[0m Fe \u001b[1m\tR =\u001b[0m 1 \u001b[1m\trho =\u001b[0m 5 : 20.94\u001b[1m\n",
      "Element =\u001b[0m Fe \u001b[1m\tR =\u001b[0m 2 \u001b[1m\trho =\u001b[0m 5 : 167.55\u001b[1m\n",
      "Element =\u001b[0m Fe \u001b[1m\tR =\u001b[0m 3 \u001b[1m\trho =\u001b[0m 5 : 565.49\u001b[1m\n",
      "Element =\u001b[0m Pb \u001b[1m\tR =\u001b[0m 1 \u001b[1m\trho =\u001b[0m 30 : 125.66\u001b[1m\n",
      "Element =\u001b[0m Pb \u001b[1m\tR =\u001b[0m 2 \u001b[1m\trho =\u001b[0m 30 : 1005.31\u001b[1m\n",
      "Element =\u001b[0m Pb \u001b[1m\tR =\u001b[0m 3 \u001b[1m\trho =\u001b[0m 30 : 3392.92"
     ]
    }
   ],
   "source": [
    "#version without \"zip\" - non tabled result\n",
    "\n",
    "\n",
    "from math import pi\n",
    "BOLD = '\\033[1m'\n",
    "END = '\\033[0m'\n",
    "\n",
    "densities = {\"Al\":[0.5,1,2],\"Fe\":[3,4,5],\"Pb\": [15,20,30]}\n",
    "radii = [1,2,3]\n",
    "\n",
    "\n",
    "funcs = [lambda r,rho: rho*2*pi*r, lambda r,rho: rho*4*pi*r**2,\n",
    "                        lambda r,rho: rho*4/3*pi*r**3]\n",
    "\n",
    "val = list(densities.values())\n",
    "key = list(densities.keys())\n",
    "data = [[(key[i], y, val[i][j]) for i in range(3) for y in radii ] for j in range(3)]\n",
    "#print(\"\\nData:\", data)\n",
    "\n",
    "\n",
    "for i in range(3):\n",
    "    if i==0:\n",
    "        print(BOLD + \"\\n\\n\\n\\tWeight of the Circle\" + END)\n",
    "    elif i==1:\n",
    "        print(BOLD + \"\\n\\n\\n\\tWeight of the Disk\" + END)\n",
    "    else:\n",
    "        print(BOLD + \"\\n\\n\\n\\tWeight of the Sphere\"+ END)\n",
    "    \n",
    "    for item in data[i]:\n",
    "        print(BOLD + \"\\nElement =\" + END, item[0], BOLD + \"\\tR =\" + END, \n",
    "              item[1], BOLD + \"\\trho =\" + END, item[2], \n",
    "              \": %.2f\"%funcs[i](item[1], item[2]), end = \"\")\n",
    "        \n",
    "        "
   ]
  },
  {
   "cell_type": "markdown",
   "metadata": {},
   "source": [
    "6\\. Edit the class defintion to add an instance attribute of is_hungry = True to the Dog class. Then add a method called eat() which changes the value of is_hungry to False when called. Figure out the best way to feed each dog and then output “My dogs are hungry.” if all are hungry or “My dogs are not hungry.” if all are not hungry. The final output should look like this:\n",
    "\n",
    "`I have 3 dogs. \n",
    "Tom is 6. \n",
    "Fletcher is 7. \n",
    "Larry is 9. \n",
    "And they're all mammals, of course. \n",
    "My dogs are not hungry.\n",
    "`\n",
    "\n",
    "```python\n",
    "# Parent class\n",
    "class Dog:\n",
    "\n",
    "    # Class attribute\n",
    "    species = 'mammal'\n",
    "\n",
    "    # Initializer / Instance attributes\n",
    "    def __init__(self, name, age):\n",
    "        self.name = name\n",
    "        self.age = age\n",
    "\n",
    "    # instance method\n",
    "    def description(self):\n",
    "        return \"{} is {} years old\".format(self.name, self.age)\n",
    "\n",
    "    # instance method\n",
    "    def speak(self, sound):\n",
    "        return \"{} says {}\".format(self.name, sound)\n",
    "\n",
    "# Child class (inherits from Dog class)\n",
    "class RussellTerrier(Dog):\n",
    "    def run(self, speed):\n",
    "        return \"{} runs {}\".format(self.name, speed)\n",
    "\n",
    "# Child class (inherits from Dog class)\n",
    "class Bulldog(Dog):\n",
    "    def run(self, speed):\n",
    "        return \"{} runs {}\".format(self.name, speed)\n",
    "```"
   ]
  },
  {
   "cell_type": "code",
   "execution_count": 25,
   "metadata": {},
   "outputs": [
    {
     "name": "stdout",
     "output_type": "stream",
     "text": [
      "I have 3 dogs.\n",
      "Tom is 6.\n",
      "Fletcher is 7.\n",
      "Larry is 9.\n",
      "And they're all mammal, of course.\n",
      "My dogs are not hungry.\n"
     ]
    }
   ],
   "source": [
    "class Dog:\n",
    "\n",
    "    species = 'mammal'\n",
    "    is_hungry = True\n",
    "\n",
    "    def __init__(self, name, age):\n",
    "        self.name = name\n",
    "        self.age = age\n",
    "\n",
    "    def eat(self):\n",
    "        self.is_hungry = False\n",
    "    \n",
    "    def description(self):\n",
    "        return \"{} is {} years old\".format(self.name, self.age)\n",
    "    \n",
    "    def speak(self, sound):\n",
    "        return \"{} says {}\".format(self.name, sound)\n",
    "    \n",
    "Tom = Dog(\"Tom\", 6)\n",
    "Fletcher = Dog(\"Fletcher\", 7)\n",
    "Larry = Dog(\"Larry\", 9)\n",
    "\n",
    "print(\"I have 3 dogs.\")\n",
    "print(\"{} is {}.\".format(Tom.name, Tom.age))\n",
    "print(\"{} is {}.\".format(Fletcher.name, Fletcher.age))\n",
    "print(\"{} is {}.\".format(Larry.name, Larry.age))\n",
    "print(\"And they're all {}, of course.\".format(Dog.species))\n",
    "\n",
    "Tom.eat()\n",
    "Fletcher.eat()\n",
    "Larry.eat()\n",
    "if Tom.is_hungry == True and Fletcher.is_hungry == True and Larry.is_hungry == True:\n",
    "    print(\"My dogs are hungry.\")\n",
    "elif Tom.is_hungry == False and Fletcher.is_hungry == False and Larry.is_hungry == False:\n",
    "    print(\"My dogs are not hungry.\")"
   ]
  },
  {
   "cell_type": "code",
   "execution_count": null,
   "metadata": {},
   "outputs": [],
   "source": []
  },
  {
   "cell_type": "code",
   "execution_count": null,
   "metadata": {},
   "outputs": [],
   "source": []
  }
 ],
 "metadata": {
  "kernelspec": {
   "display_name": "Python 3",
   "language": "python",
   "name": "python3"
  },
  "language_info": {
   "codemirror_mode": {
    "name": "ipython",
    "version": 3
   },
   "file_extension": ".py",
   "mimetype": "text/x-python",
   "name": "python",
   "nbconvert_exporter": "python",
   "pygments_lexer": "ipython3",
   "version": "3.8.10"
  }
 },
 "nbformat": 4,
 "nbformat_minor": 2
}
