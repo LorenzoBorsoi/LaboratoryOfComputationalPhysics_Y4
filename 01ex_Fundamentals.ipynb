{
 "cells": [
  {
   "cell_type": "markdown",
   "metadata": {},
   "source": [
    "1\\. Write the following as a list comprehension"
   ]
  },
  {
   "cell_type": "code",
   "execution_count": 5,
   "metadata": {},
   "outputs": [
    {
     "name": "stdout",
     "output_type": "stream",
     "text": [
      "[(0, 0), (0, 1), (0, 2), (0, 3), (1, 0), (1, 1), (1, 2), (1, 3), (2, 0), (2, 1), (2, 2), (2, 3)]\n",
      "[0, 4, 16]\n"
     ]
    }
   ],
   "source": [
    "# 1\n",
    "ans = []\n",
    "for i in range(3):\n",
    "    for j in range(4):\n",
    "        ans.append((i, j))\n",
    "print (ans)\n",
    "\n",
    "# 2\n",
    "ans = map(lambda x: x*x, filter(lambda x: x%2 == 0, range(5)))\n",
    "print (list(ans))\n",
    "\n"
   ]
  },
  {
   "cell_type": "code",
   "execution_count": 12,
   "metadata": {},
   "outputs": [
    {
     "name": "stdout",
     "output_type": "stream",
     "text": [
      "[(0, 0), (0, 1), (0, 2), (0, 3), (1, 0), (1, 1), (1, 2), (1, 3), (2, 0), (2, 1), (2, 2), (2, 3)]\n",
      "[0, 4, 16]\n"
     ]
    }
   ],
   "source": [
    "\"Exercise 1\"\n",
    "#1\n",
    "ans = [(i,j) for i in range(3) for j in range(4)]\n",
    "print(ans)\n",
    "\n",
    "#2\n",
    "ans = [x*x for x in range(5) if x%2 == 0]\n",
    "print(ans)"
   ]
  },
  {
   "cell_type": "markdown",
   "metadata": {},
   "source": [
    "2\\. Convert the following function into a pure function with no global variables or side effects"
   ]
  },
  {
   "cell_type": "code",
   "execution_count": 18,
   "metadata": {},
   "outputs": [
    {
     "name": "stdout",
     "output_type": "stream",
     "text": [
      "[1, 2, 3, 0, 1, 2, 3, 4]\n",
      "[1, 2, 3, 0, 1, 2, 3, 4]\n"
     ]
    }
   ],
   "source": [
    "x = 5\n",
    "def f(alist):\n",
    "    for i in range(x):\n",
    "         alist.append(i)\n",
    "    return alist\n",
    "\n",
    "alist = [1,2,3]\n",
    "ans = f(alist)\n",
    "print (ans)\n",
    "print (alist) # alist has been changed!"
   ]
  },
  {
   "cell_type": "code",
   "execution_count": 34,
   "metadata": {},
   "outputs": [
    {
     "name": "stdout",
     "output_type": "stream",
     "text": [
      "[1, 2, 3, 0, 1, 2, 3, 4]\n",
      "[1, 2, 3]\n"
     ]
    }
   ],
   "source": [
    "\"Exercise 2\"\n",
    "\n",
    "x = 5\n",
    "def g(alist):\n",
    "    a = [val for val in alist]\n",
    "    for i in range(x):\n",
    "        a.append(i)\n",
    "    return a\n",
    "\n",
    "alist = [1,2,3]\n",
    "ans = g(alist)\n",
    "print(ans)\n",
    "print(alist)"
   ]
  },
  {
   "cell_type": "markdown",
   "metadata": {},
   "source": [
    "3\\. Write a `decorator` hello that makes every wrapped function print “Hello!”, i.e. something like:\n",
    "\n",
    "```python\n",
    "@hello\n",
    "def square(x):\n",
    "    return x*x\n",
    "```\n",
    "\n"
   ]
  },
  {
   "cell_type": "code",
   "execution_count": 41,
   "metadata": {},
   "outputs": [
    {
     "name": "stdout",
     "output_type": "stream",
     "text": [
      "[1, 2, 3, 0, 1, 2]\n",
      "Hello!\n",
      "None\n",
      "9\n",
      "Hello!\n",
      "None\n"
     ]
    }
   ],
   "source": [
    "def hello(func):\n",
    "    def wrapper(x):\n",
    "        print(func(x))\n",
    "        print(\"Hello!\")\n",
    "    return wrapper\n",
    "\n",
    "@hello\n",
    "def square(x):\n",
    "    return x*x\n",
    "\n",
    "@hello\n",
    "def g(alist):\n",
    "    a = [val for val in alist]\n",
    "    for i in range(3):\n",
    "        a.append(i)\n",
    "    return a\n",
    "\n",
    "alist = [1,2,3]\n",
    "print(g(alist))\n",
    "\n",
    "print(square(3))"
   ]
  },
  {
   "cell_type": "markdown",
   "metadata": {},
   "source": [
    "4\\. Write the factorial function so that it a) does and b) does not use recursion."
   ]
  },
  {
   "cell_type": "code",
   "execution_count": 2,
   "metadata": {},
   "outputs": [
    {
     "name": "stdout",
     "output_type": "stream",
     "text": [
      "20\n",
      "120\n",
      "216 ns ± 25.7 ns per loop (mean ± std. dev. of 7 runs, 10000000 loops each)\n",
      "662 ns ± 6.67 ns per loop (mean ± std. dev. of 7 runs, 1000000 loops each)\n"
     ]
    }
   ],
   "source": [
    "\"Exercise 4\"\n",
    "\n",
    "#a)\n",
    "def a_fact(n):\n",
    "    def f(n):\n",
    "        return n*(n - 1)\n",
    "    for i in range(n):\n",
    "        m = f(n)\n",
    "\n",
    "\n",
    "print(a_fact(5))\n",
    "\n",
    "#b)\n",
    "def b_fact(n):\n",
    "    m = 1\n",
    "    for i in range(1, n):\n",
    "        m *= i+1\n",
    "    return m\n",
    "\n",
    "print(b_fact(5))\n",
    "\n",
    "%timeit a_fact(5)\n",
    "%timeit b_fact(5)\n",
    "\n",
    "\n"
   ]
  },
  {
   "cell_type": "markdown",
   "metadata": {},
   "source": [
    "5\\. Use HOFs (zip in particular) to compute the weight of a circle, a disk and a sphere, assuming different radii and different densities:\n",
    "\n",
    "```python\n",
    "densities = {\"Al\":[0.5,1,2],\"Fe\":[3,4,5],\"Pb\": [15,20,30]}\n",
    "radii = [1,2,3]\n",
    "```\n",
    "\n",
    "where the entries of the dictionary's values are the linear, superficial and volumetric densities of the materials respectively.\n",
    "\n",
    "In particular define a list of three lambda functions using a comprehension that computes the circumference, the area and the volume for a given radius.\n"
   ]
  },
  {
   "cell_type": "code",
   "execution_count": 71,
   "metadata": {},
   "outputs": [
    {
     "name": "stdout",
     "output_type": "stream",
     "text": [
      "Al\n",
      "radio: 1\n",
      "circle mass: 3.141592653589793\n",
      "disk mass: 12.566370614359172\n",
      "sphere mass: 8.377580409572781\n",
      "\n",
      "\n",
      "radio: 2\n",
      "circle mass: 6.283185307179586\n",
      "disk mass: 50.26548245743669\n",
      "sphere mass: 67.02064327658225\n",
      "\n",
      "\n",
      "radio: 3\n",
      "circle mass: 9.42477796076938\n",
      "disk mass: 113.09733552923255\n",
      "sphere mass: 226.19467105846508\n",
      "\n",
      "\n",
      "Fe\n",
      "radio: 1\n",
      "circle mass: 18.84955592153876\n",
      "disk mass: 50.26548245743669\n",
      "sphere mass: 20.94395102393195\n",
      "\n",
      "\n",
      "radio: 2\n",
      "circle mass: 37.69911184307752\n",
      "disk mass: 201.06192982974676\n",
      "sphere mass: 167.5516081914556\n",
      "\n",
      "\n",
      "radio: 3\n",
      "circle mass: 56.548667764616276\n",
      "disk mass: 452.3893421169302\n",
      "sphere mass: 565.4866776461627\n",
      "\n",
      "\n",
      "Pb\n",
      "radio: 1\n",
      "circle mass: 94.24777960769379\n",
      "disk mass: 251.32741228718345\n",
      "sphere mass: 125.66370614359171\n",
      "\n",
      "\n",
      "radio: 2\n",
      "circle mass: 188.49555921538757\n",
      "disk mass: 1005.3096491487338\n",
      "sphere mass: 1005.3096491487337\n",
      "\n",
      "\n",
      "radio: 3\n",
      "circle mass: 282.7433388230814\n",
      "disk mass: 2261.946710584651\n",
      "sphere mass: 3392.920065876976\n",
      "\n",
      "\n"
     ]
    }
   ],
   "source": [
    "\"Exercise 5\"\n",
    "\n",
    "import math\n",
    "\n",
    "circum = lambda r: 2*math.pi*r\n",
    "area = lambda r: 4*math.pi*r**2\n",
    "volume = lambda r: (4/3)*math.pi*r**3\n",
    "\n",
    "densities = {\"Al\":[0.5,1,2],\"Fe\":[3,4,5],\"Pb\": [15,20,30]}\n",
    "radii = [1,2,3]\n",
    "f = [circum, area, volume]\n",
    "words = [\"circle\", \"disk\", \"sphere\"]\n",
    "\n",
    "for i in densities:\n",
    "    print(i)\n",
    "\n",
    "    for j in range(len(radii)):\n",
    "        print(\"radio:\", radii[j])\n",
    "\n",
    "        for x, y, z in zip(densities[i], f, words): print(z, \"mass:\", x*y(radii[j]))\n",
    "        \n",
    "        print(\"\\n\")\n",
    "\n",
    "\n",
    "\n",
    "\n",
    "\n"
   ]
  },
  {
   "cell_type": "markdown",
   "metadata": {},
   "source": [
    "6\\. Edit the class definition to add an instance attribute of is_hungry = True to the Dog class. Then add a method called eat() which changes the value of is_hungry to False when called. Figure out the best way to feed each dog and then output “My dogs are hungry.” if all are hungry or “My dogs are not hungry.” if all are not hungry. The final output should look like this:\n",
    "\n",
    "`I have 3 dogs. \n",
    "Tom is 6. \n",
    "Fletcher is 7. \n",
    "Larry is 9. \n",
    "And they're all mammals, of course. \n",
    "My dogs are not hungry.\n",
    "`\n",
    "\n",
    "```python\n",
    "# Parent class\n",
    "class Dog:\n",
    "\n",
    "    # Class attribute\n",
    "    species = 'mammal'\n",
    "\n",
    "    # Initializer / Instance attributes\n",
    "    def __init__(self, name, age):\n",
    "        self.name = name\n",
    "        self.age = age\n",
    "\n",
    "    # instance method\n",
    "    def description(self):\n",
    "        return \"{} is {} years old\".format(self.name, self.age)\n",
    "\n",
    "    # instance method\n",
    "    def speak(self, sound):\n",
    "        return \"{} says {}\".format(self.name, sound)\n",
    "\n",
    "# Child class (inherits from Dog class)\n",
    "class RussellTerrier(Dog):\n",
    "    def run(self, speed):\n",
    "        return \"{} runs {}\".format(self.name, speed)\n",
    "\n",
    "# Child class (inherits from Dog class)\n",
    "class Bulldog(Dog):\n",
    "    def run(self, speed):\n",
    "        return \"{} runs {}\".format(self.name, speed)\n",
    "```"
   ]
  },
  {
   "cell_type": "code",
   "execution_count": null,
   "metadata": {},
   "outputs": [],
   "source": [
    "\"Exercise 6\"\n",
    "\n",
    "# Parent class\n",
    "class Dog:\n",
    "\n",
    "    # Class attribute\n",
    "    species = 'mammal'\n",
    "\n",
    "    # Initializer / Instance attributes\n",
    "    def __init__(self, name, age, hungry):\n",
    "        self.name = name\n",
    "        self.age = age\n",
    "        self.hungry = hungry\n",
    "\n",
    "    # instance method\n",
    "    def description(self):\n",
    "        return \"{} is {} years old\".format(self.name, self.age)\n",
    "\n",
    "    # instance method\n",
    "    def speak(self, sound):\n",
    "        return \"{} says {}\".format(self.name, sound)\n",
    "\n",
    "# Child class (inherits from Dog class)\n",
    "class RussellTerrier(Dog):\n",
    "    def run(self, speed):\n",
    "        return \"{} runs {}\".format(self.name, speed)\n",
    "\n",
    "# Child class (inherits from Dog class)\n",
    "class Bulldog(Dog):\n",
    "    def run(self, speed):\n",
    "        return \"{} runs {}\".format(self.name, speed)"
   ]
  }
 ],
 "metadata": {
  "interpreter": {
   "hash": "2097b8de0cf559b99a541878d948e75eb032eda4087ac9e140bfcd448ac40ac5"
  },
  "kernelspec": {
   "display_name": "Python 3.9.7 64-bit (windows store)",
   "name": "python3"
  },
  "language_info": {
   "codemirror_mode": {
    "name": "ipython",
    "version": 3
   },
   "file_extension": ".py",
   "mimetype": "text/x-python",
   "name": "python",
   "nbconvert_exporter": "python",
   "pygments_lexer": "ipython3",
   "version": "3.9.7"
  }
 },
 "nbformat": 4,
 "nbformat_minor": 2
}
