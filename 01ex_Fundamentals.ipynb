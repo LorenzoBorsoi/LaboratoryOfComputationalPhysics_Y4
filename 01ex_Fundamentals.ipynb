{
 "cells": [
  {
   "cell_type": "markdown",
   "metadata": {},
   "source": [
    "1\\. Write the following as a list comprehension"
   ]
  },
  {
   "cell_type": "code",
   "execution_count": 1,
   "metadata": {},
   "outputs": [
    {
     "name": "stdout",
     "output_type": "stream",
     "text": [
      "[(0, 0), (0, 1), (0, 2), (0, 3), (1, 0), (1, 1), (1, 2), (1, 3), (2, 0), (2, 1), (2, 2), (2, 3)]\n",
      "[0, 4, 16]\n"
     ]
    }
   ],
   "source": [
    "# 1\n",
    "ans = []\n",
    "for i in range(3):\n",
    "    for j in range(4):\n",
    "        ans.append((i, j))\n",
    "print (ans)\n",
    "\n",
    "# 2\n",
    "ans = map(lambda x: x*x, filter(lambda x: x%2 == 0, range(5)))\n",
    "print (list(ans))\n",
    "\n"
   ]
  },
  {
   "cell_type": "code",
   "execution_count": 2,
   "metadata": {},
   "outputs": [
    {
     "name": "stdout",
     "output_type": "stream",
     "text": [
      "[(0, 0), (0, 1), (0, 2), (0, 3), (1, 0), (1, 1), (1, 2), (1, 3), (2, 0), (2, 1), (2, 2), (2, 3)]\n",
      "[0, 4, 16]\n"
     ]
    }
   ],
   "source": [
    "#Exercise 1.1\n",
    "\n",
    "ans = [(i,j)  for i in range(3) for j in range(4)]\n",
    "print(ans)\n",
    "\n",
    "#Exercise 1.2\n",
    "\n",
    "ans = [i for i in map(lambda x: x*x, filter(lambda x: x%2 == 0, range(5)))]\n",
    "print(ans)\n"
   ]
  },
  {
   "cell_type": "markdown",
   "metadata": {},
   "source": [
    "2\\. Convert the following function into a pure function with no global variables or side effects"
   ]
  },
  {
   "cell_type": "code",
   "execution_count": 24,
   "metadata": {},
   "outputs": [
    {
     "name": "stdout",
     "output_type": "stream",
     "text": [
      "[1, 2, 3, 0, 1, 2, 3, 4]\n",
      "[1, 2, 3, 0, 1, 2, 3, 4]\n"
     ]
    }
   ],
   "source": [
    "x = 5\n",
    "def f(alist):\n",
    "    for i in range(x):\n",
    "         alist.append(i)\n",
    "    return alist\n",
    "\n",
    "alist = [1,2,3]\n",
    "ans = f(alist)\n",
    "print (ans)\n",
    "print (alist) # alist has been changed!"
   ]
  },
  {
   "cell_type": "code",
   "execution_count": 25,
   "metadata": {},
   "outputs": [
    {
     "name": "stdout",
     "output_type": "stream",
     "text": [
      "[1, 2, 3, 0, 1, 2, 3, 4]\n",
      "[1, 2, 3]\n"
     ]
    }
   ],
   "source": [
    "#Exercise 2\n",
    "\n",
    "\n",
    "def f(alist):\n",
    "    x = 5\n",
    "    alist = [i for i in alist]\n",
    "    for i in range(x):\n",
    "         alist.append(i)\n",
    "    return alist\n",
    "\n",
    "alist = [1,2,3]\n",
    "ans = f(alist)\n",
    "print (ans)\n",
    "print (alist)"
   ]
  },
  {
   "cell_type": "markdown",
   "metadata": {},
   "source": [
    "3\\. Write a `decorator` hello that makes every wrapped function print “Hello!”, i.e. something like:\n",
    "\n",
    "```python\n",
    "@hello\n",
    "def square(x):\n",
    "    return x*x\n",
    "```\n",
    "\n"
   ]
  },
  {
   "cell_type": "code",
   "execution_count": 33,
   "metadata": {},
   "outputs": [
    {
     "name": "stdout",
     "output_type": "stream",
     "text": [
      "Hello!\n"
     ]
    },
    {
     "data": {
      "text/plain": [
       "25"
      ]
     },
     "execution_count": 33,
     "metadata": {},
     "output_type": "execute_result"
    }
   ],
   "source": [
    "#Exercise 3\n",
    "\n",
    "def hello(func):\n",
    "    def wrapper(*args, **kwargs):\n",
    "        print(\"Hello!\")\n",
    "        func(*args, **kwargs)\n",
    "        return func(*args, **kwargs)\n",
    "    return wrapper\n",
    "\n",
    "@hello\n",
    "def square(x):\n",
    "    return x*x*\n",
    "\n",
    "\n",
    "square(5)\n"
   ]
  },
  {
   "cell_type": "markdown",
   "metadata": {},
   "source": [
    "4\\. Write the factorial function so that it a) does and b) does not use recursion."
   ]
  },
  {
   "cell_type": "code",
   "execution_count": 1,
   "metadata": {},
   "outputs": [
    {
     "data": {
      "text/plain": [
       "720"
      ]
     },
     "execution_count": 1,
     "metadata": {},
     "output_type": "execute_result"
    }
   ],
   "source": [
    "#Exercise 4 a), factorial WITH recursion\n",
    "\n",
    "def fact_rec(n):\n",
    "    if n==0 or n==1:\n",
    "        return 1\n",
    "    elif n<0:\n",
    "        print(\"Error\")\n",
    "    else:\n",
    "        return n*fact_rec(n-1)  \n",
    "\n",
    "\n",
    "fact_rec(6)"
   ]
  },
  {
   "cell_type": "code",
   "execution_count": 2,
   "metadata": {},
   "outputs": [
    {
     "data": {
      "text/plain": [
       "720"
      ]
     },
     "execution_count": 2,
     "metadata": {},
     "output_type": "execute_result"
    }
   ],
   "source": [
    "#Exercise 4 b), factorial WITHOUT recursion\n",
    "\n",
    "def fact(n):\n",
    "    res = 1\n",
    "    all_n = [i+1 for i in range(n)]\n",
    "    x_iter = iter(all_n)\n",
    "    for x in x_iter:\n",
    "        res *=x\n",
    "    return res\n",
    "\n",
    "fact(6)"
   ]
  },
  {
   "cell_type": "markdown",
   "metadata": {},
   "source": [
    "5\\. Use HOFs (zip in particular) to compute the weight of a circle, a disk and a sphere, assuming different radii and different densities:\n",
    "\n",
    "```python\n",
    "densities = {\"Al\":[0.5,1,2],\"Fe\":[3,4,5],\"Pb\": [15,20,30]}\n",
    "radii = [1,2,3]\n",
    "```\n",
    "\n",
    "where the entries of the dictionary's values are the linear, superficial and volumetric densities of the materials respectively.\n",
    "\n",
    "In particular define a list of three lambda functions using a comprehension that computes the circumference, the area and the volume for a given radius.\n"
   ]
  },
  {
   "cell_type": "code",
   "execution_count": 1,
   "metadata": {},
   "outputs": [
    {
     "name": "stdout",
     "output_type": "stream",
     "text": [
      "Radius: 1\n",
      "Element: Al\n",
      "Mass of circle 3.141592653589793\n",
      "Mass of disk 3.141592653589793\n",
      "Mass of sphere 8.377580409572781\n",
      "Element: Fe\n",
      "Mass of circle 18.84955592153876\n",
      "Mass of disk 12.566370614359172\n",
      "Mass of sphere 20.94395102393195\n",
      "Element: Pb\n",
      "Mass of circle 94.24777960769379\n",
      "Mass of disk 62.83185307179586\n",
      "Mass of sphere 125.66370614359171\n",
      "\n",
      "\n",
      "Radius: 2\n",
      "Element: Al\n",
      "Mass of circle 6.283185307179586\n",
      "Mass of disk 12.566370614359172\n",
      "Mass of sphere 67.02064327658225\n",
      "Element: Fe\n",
      "Mass of circle 37.69911184307752\n",
      "Mass of disk 50.26548245743669\n",
      "Mass of sphere 167.5516081914556\n",
      "Element: Pb\n",
      "Mass of circle 188.49555921538757\n",
      "Mass of disk 251.32741228718345\n",
      "Mass of sphere 1005.3096491487337\n",
      "\n",
      "\n",
      "Radius: 3\n",
      "Element: Al\n",
      "Mass of circle 9.42477796076938\n",
      "Mass of disk 28.274333882308138\n",
      "Mass of sphere 226.1946710584651\n",
      "Element: Fe\n",
      "Mass of circle 56.548667764616276\n",
      "Mass of disk 113.09733552923255\n",
      "Mass of sphere 565.4866776461628\n",
      "Element: Pb\n",
      "Mass of circle 282.7433388230814\n",
      "Mass of disk 565.4866776461628\n",
      "Mass of sphere 3392.9200658769764\n",
      "\n",
      "\n"
     ]
    }
   ],
   "source": [
    "#Exercise 5\n",
    "\n",
    "import math as m\n",
    "\n",
    "densities = {\"Al\":[0.5,1,2],\"Fe\":[3,4,5],\"Pb\": [15,20,30]}\n",
    "radii = [1,2,3]\n",
    "funz = [lambda r:2*m.pi*r, lambda r:m.pi*r*r, lambda r:(4/3)*m.pi*r*r*r]\n",
    "shapes = ['Mass of circle','Mass of disk','Mass of sphere']\n",
    "\n",
    "for i in radii:\n",
    "    print(\"Radius:\", i)\n",
    "    for j in densities:\n",
    "        print(\"Element:\", j)\n",
    "        for x,y,z in zip(shapes,funz,densities[j]):\n",
    "            print(x,y(i)*z)\n",
    "    print('\\n')\n"
   ]
  },
  {
   "cell_type": "markdown",
   "metadata": {},
   "source": [
    "6\\. Edit the class defintion to add an instance attribute of is_hungry = True to the Dog class. Then add a method called eat() which changes the value of is_hungry to False when called. Figure out the best way to feed each dog and then output “My dogs are hungry.” if all are hungry or “My dogs are not hungry.” if all are not hungry. The final output should look like this:\n",
    "\n",
    "`I have 3 dogs. \n",
    "Tom is 6. \n",
    "Fletcher is 7. \n",
    "Larry is 9. \n",
    "And they're all mammals, of course. \n",
    "My dogs are not hungry.\n",
    "`\n",
    "\n",
    "```python\n",
    "# Parent class\n",
    "class Dog:\n",
    "\n",
    "    # Class attribute\n",
    "    species = 'mammal'\n",
    "\n",
    "    # Initializer / Instance attributes\n",
    "    def __init__(self, name, age):\n",
    "        self.name = name\n",
    "        self.age = age\n",
    "\n",
    "    # instance method\n",
    "    def description(self):\n",
    "        return \"{} is {} years old\".format(self.name, self.age)\n",
    "\n",
    "    # instance method\n",
    "    def speak(self, sound):\n",
    "        return \"{} says {}\".format(self.name, sound)\n",
    "\n",
    "# Child class (inherits from Dog class)\n",
    "class RussellTerrier(Dog):\n",
    "    def run(self, speed):\n",
    "        return \"{} runs {}\".format(self.name, speed)\n",
    "\n",
    "# Child class (inherits from Dog class)\n",
    "class Bulldog(Dog):\n",
    "    def run(self, speed):\n",
    "        return \"{} runs {}\".format(self.name, speed)\n",
    "```"
   ]
  },
  {
   "cell_type": "code",
   "execution_count": 34,
   "metadata": {},
   "outputs": [
    {
     "name": "stdout",
     "output_type": "stream",
     "text": [
      "I have 3 dogs.\n",
      "Tom is 6 years old\n",
      "Fletcher is 7 years old\n",
      "Larry is 9 years old\n",
      "And they're all mammal of course.\n",
      "My dogs are not hungry.\n"
     ]
    }
   ],
   "source": [
    "#Exercise 6\n",
    "\n",
    "class Dog:\n",
    "    # Class attribute\n",
    "    species = 'mammal'\n",
    "    counter = 0\n",
    "\n",
    "    # Initializer / Instance attributes\n",
    "    def __init__(self, name, age, is_hungry = 'True'):\n",
    "        self.name = name\n",
    "        self.age = age\n",
    "        self.is_hungry = is_hungry\n",
    "        Dog.counter +=1\n",
    "\n",
    "    # instance method\n",
    "    def description(self):\n",
    "        return \"{} is {} years old\".format(self.name, self.age)\n",
    "\n",
    "    # instance method\n",
    "    def speak(self, sound):\n",
    "        return \"{} says {}\".format(self.name, sound)\n",
    "\n",
    "    def eat(self):\n",
    "        self.is_hungry='False'\n",
    "\n",
    "# Child class (inherits from Dog class)\n",
    "class RussellTerrier(Dog):\n",
    "    def run(self, speed):\n",
    "        return \"{} runs {}\".format(self.name, speed)\n",
    "\n",
    "# Child class (inherits from Dog class)\n",
    "class Bulldog(Dog):\n",
    "    def run(self, speed):\n",
    "        return \"{} runs {}\".format(self.name, speed)\n",
    "    \n",
    "    \n",
    "Tom = RussellTerrier(\"Tom\",6)\n",
    "Fletcher = Bulldog(\"Fletcher\",7)\n",
    "Larry = Bulldog(\"Larry\",9)\n",
    "\n",
    "print('I have', Dog.counter, 'dogs.')\n",
    "\n",
    "cani = [Tom, Fletcher, Larry]\n",
    "\n",
    "for i in range(Dog.counter): print (cani[i].description())\n",
    "\n",
    "if all([cani[i].species == 'mammal' for i in range(Dog.counter)]):\n",
    "    print('And they\\'re all mammal of course.')\n",
    "\n",
    "for i in range(Dog.counter):\n",
    "    cani[i].eat()\n",
    "\n",
    "if all([cani[i].is_hungry == 'True' for i in range(Dog.counter)]):\n",
    "    print('My dogs are hungry.')\n",
    "elif all([cani[i].is_hungry == 'False' for i in range(Dog.counter)]):\n",
    "        print('My dogs are not hungry.')\n",
    "\n"
   ]
  },
  {
   "cell_type": "code",
   "execution_count": null,
   "metadata": {},
   "outputs": [],
   "source": []
  }
 ],
 "metadata": {
  "kernelspec": {
   "display_name": "Python 3",
   "language": "python",
   "name": "python3"
  },
  "language_info": {
   "codemirror_mode": {
    "name": "ipython",
    "version": 3
   },
   "file_extension": ".py",
   "mimetype": "text/x-python",
   "name": "python",
   "nbconvert_exporter": "python",
   "pygments_lexer": "ipython3",
   "version": "3.8.10"
  }
 },
 "nbformat": 4,
 "nbformat_minor": 2
}
