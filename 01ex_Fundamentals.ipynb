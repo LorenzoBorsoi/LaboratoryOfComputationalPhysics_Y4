{
 "cells": [
  {
   "cell_type": "markdown",
   "metadata": {},
   "source": [
    "1\\. Write the following as a list comprehension"
   ]
  },
  {
   "cell_type": "code",
   "execution_count": 3,
   "metadata": {},
   "outputs": [
    {
     "name": "stdout",
     "output_type": "stream",
     "text": [
      "[(0, 0), (0, 1), (0, 2), (0, 3), (1, 0), (1, 1), (1, 2), (1, 3), (2, 0), (2, 1), (2, 2), (2, 3)]\n",
      "[(0, 0), (0, 1), (0, 2), (0, 3), (1, 0), (1, 1), (1, 2), (1, 3), (2, 0), (2, 1), (2, 2), (2, 3)]\n",
      "[0, 4, 16]\n",
      "[0, 4, 16]\n"
     ]
    }
   ],
   "source": [
    "# 1\n",
    "ans = []\n",
    "for i in range(3):\n",
    "    for j in range(4):\n",
    "        ans.append((i, j))\n",
    "print (ans)\n",
    "\n",
    "#comprehension:\n",
    "ans=[(x,y) for x in range(3) for y in range(4)]\n",
    "print(ans)\n",
    "\n",
    "# 2\n",
    "ans = map(lambda x: x*x, filter(lambda x: x%2 == 0, range(5)))\n",
    "print (list(ans))\n",
    "\n",
    "#comprehension:\n",
    "ans=[x*x for x in range(5) if x%2 == 0]\n",
    "print(ans)"
   ]
  },
  {
   "cell_type": "markdown",
   "metadata": {},
   "source": [
    "2\\. Convert the following function into a pure function with no global variables or side effects"
   ]
  },
  {
   "cell_type": "code",
   "execution_count": 1,
   "metadata": {},
   "outputs": [
    {
     "name": "stdout",
     "output_type": "stream",
     "text": [
      "[1, 2, 3, 0, 1, 2, 3, 4]\n",
      "[1, 2, 3, 0, 1, 2, 3, 4]\n",
      "[1, 2, 3, 0, 1, 2, 3, 4]\n",
      "[1, 2, 3]\n"
     ]
    }
   ],
   "source": [
    "#x = int(input(\"Choose x: \"))\n",
    "x=5\n",
    "def f(alist):\n",
    "    for i in range(x):\n",
    "         alist.append(i)\n",
    "    return alist\n",
    "\n",
    "alist = [1,2,3]\n",
    "ans = f(alist)\n",
    "print (ans)\n",
    "print (alist) # alist has been changed!\n",
    "\n",
    "#Solution\n",
    "def g(my_list):\n",
    "    my_list= my_list + []\n",
    "    for i in range(x): \n",
    "        my_list.append(i)\n",
    "    return my_list\n",
    "\n",
    "my_list=[1,2,3]\n",
    "res=g(my_list)\n",
    "print (res)\n",
    "print (my_list)"
   ]
  },
  {
   "cell_type": "markdown",
   "metadata": {},
   "source": [
    "3\\. Write a `decorator` hello that makes every wrapped function print “Hello!”, i.e. something like:\n",
    "\n",
    "```python\n",
    "@hello\n",
    "def square(x):\n",
    "    return x*x\n",
    "```\n",
    "\n"
   ]
  },
  {
   "cell_type": "code",
   "execution_count": 2,
   "metadata": {},
   "outputs": [
    {
     "name": "stdout",
     "output_type": "stream",
     "text": [
      "Hello!\n",
      "49\n"
     ]
    }
   ],
   "source": [
    "def hello(func):\n",
    "    def wrapper(x):\n",
    "        print(\"Hello!\")\n",
    "        return func(x)\n",
    "    return wrapper\n",
    "\n",
    "@hello\n",
    "def square(x):\n",
    "    return x*x\n",
    "\n",
    "print(square(7))"
   ]
  },
  {
   "cell_type": "markdown",
   "metadata": {},
   "source": [
    "4\\. Write the factorial function so that it a) does and b) does not use recursion."
   ]
  },
  {
   "cell_type": "code",
   "execution_count": 3,
   "metadata": {},
   "outputs": [
    {
     "name": "stdout",
     "output_type": "stream",
     "text": [
      "Choose the number to factorize: 5\n",
      "The factorial given by the recursive function is: 120\n",
      "The factorial given by the non recursive function is: 120\n"
     ]
    }
   ],
   "source": [
    "#factorial function\n",
    "#a. factorial function with recursion\n",
    "def rec(x):\n",
    "    if x>0:\n",
    "        fact=1\n",
    "        for i in range(1,x+1):\n",
    "            fact=fact*i\n",
    "    elif x==0:\n",
    "        fact=1\n",
    "    else:\n",
    "        print(\"Error!\")\n",
    "    return fact\n",
    "\n",
    "n=int(input(\"Choose the number to factorize: \"))\n",
    "print(\"The factorial given by the recursive function is:\", rec(n))\n",
    "\n",
    "#b. factorial without recursion\n",
    "def non_rec(x):\n",
    "    a,b=0,1\n",
    "    for i in range(1,x+1):\n",
    "        a,b=b,b*i\n",
    "    return b\n",
    "print(\"The factorial given by the non recursive function is:\", non_rec(n))\n",
    "\n"
   ]
  },
  {
   "cell_type": "markdown",
   "metadata": {},
   "source": [
    "5\\. Use HOFs (zip in particular) to compute the weight of a circle, a disk and a sphere, assuming different radii and different densities:\n",
    "\n",
    "```python\n",
    "densities = {\"Al\":[0.5,1,2],\"Fe\":[3,4,5],\"Pb\": [15,20,30]}\n",
    "radii = [1,2,3]\n",
    "```\n",
    "\n",
    "where the entries of the dictionary's values are the linear, superficial and volumetric densities of the materials respectively.\n",
    "\n",
    "In particular define a list of three lambda functions using a comprehension that computes the circumference, the area and the volume for a given radius.\n"
   ]
  },
  {
   "cell_type": "code",
   "execution_count": 9,
   "metadata": {},
   "outputs": [
    {
     "name": "stdout",
     "output_type": "stream",
     "text": [
      "Weight of Al for radius using different densities:\n",
      "(Weight, Radius)\n",
      "[(3.141592653589793, 1), (3.141592653589793, 2), (8.377580409572781, 3), 'linear density']\n",
      "[(6.283185307179586, 1), (12.566370614359172, 2), (67.02064327658225, 3), 'superficial density']\n",
      "[(9.42477796076938, 1), (28.274333882308138, 2), (226.1946710584651, 3), 'volumetric density']\n",
      "Weight of Fe for radius using different densities:\n",
      "(Weight, Radius)\n",
      "[(18.84955592153876, 1), (12.566370614359172, 2), (20.94395102393195, 3), 'linear density']\n",
      "[(37.69911184307752, 1), (50.26548245743669, 2), (167.5516081914556, 3), 'superficial density']\n",
      "[(56.548667764616276, 1), (113.09733552923255, 2), (565.4866776461628, 3), 'volumetric density']\n",
      "Weight of Pb for radius using different densities:\n",
      "(Weight, Radius)\n",
      "[(94.24777960769379, 1), (62.83185307179586, 2), (125.66370614359171, 3), 'linear density']\n",
      "[(188.49555921538757, 1), (251.32741228718345, 2), (1005.3096491487337, 3), 'superficial density']\n",
      "[(282.7433388230814, 1), (565.4866776461628, 2), (3392.9200658769764, 3), 'volumetric density']\n"
     ]
    }
   ],
   "source": [
    "import math\n",
    "import numpy as np\n",
    "\n",
    "densities = {\"Al\":[0.5,1,2],\"Fe\":[3,4,5],\"Pb\": [15,20,30]}\n",
    "#define a list of three lambda functions using a comprehension that computes circ, area, vol for given x\n",
    "\n",
    "l=[(x,y,z) for x, y, z  in zip(map(lambda r: 2*math.pi*r, range(1,4)), map(lambda r: math.pi*r*r, range(1,4)), map(lambda r: math.pi*r*r*r*4/3, range (1,4)))]\n",
    "#print(\"Numbers of triples: \",len(l))\n",
    "#print(l)\n",
    "\n",
    "for w in densities:\n",
    "    print(\"Weight of\",w,\"for radius using different densities:\")\n",
    "    print(\"(Weight, Radius)\")\n",
    "    b=[]\n",
    "    for i in l:\n",
    "        a=[]\n",
    "        for t in range(0,3):\n",
    "            q=[i[t]]\n",
    "            #i[0] print the triple of circumferences, i[1] the triple of areas, i[2] the triple of volumes\n",
    "            for j in q:\n",
    "                al= j*densities[w][t] \n",
    "                a.append(al)\n",
    "        r=[1,2,3]\n",
    "        g= [(x,y) for x,y in zip(a,r)]\n",
    "        b.append(g)\n",
    "    \n",
    "    b[0].append(\"linear density\")\n",
    "    b[1].append(\"superficial density\")\n",
    "    b[2].append(\"volumetric density\")\n",
    "    for i in b:\n",
    "        print(i)\n",
    "    "
   ]
  },
  {
   "cell_type": "markdown",
   "metadata": {},
   "source": [
    "6\\. Edit the class defintion to add an instance attribute of is_hungry = True to the Dog class. Then add a method called eat() which changes the value of is_hungry to False when called. Figure out the best way to feed each dog and then output “My dogs are hungry.” if all are hungry or “My dogs are not hungry.” if all are not hungry. The final output should look like this:\n",
    "\n",
    "`I have 3 dogs. \n",
    "Tom is 6. \n",
    "Fletcher is 7. \n",
    "Larry is 9. \n",
    "And they're all mammals, of course. \n",
    "My dogs are not hungry.\n",
    "`\n",
    "\n",
    "```python\n",
    "# Parent class\n",
    "class Dog:\n",
    "\n",
    "    # Class attribute\n",
    "    species = 'mammal'\n",
    "\n",
    "    # Initializer / Instance attributes\n",
    "    def __init__(self, name, age):\n",
    "        self.name = name\n",
    "        self.age = age\n",
    "\n",
    "    # instance method\n",
    "    def description(self):\n",
    "        return \"{} is {} years old\".format(self.name, self.age)\n",
    "\n",
    "    # instance method\n",
    "    def speak(self, sound):\n",
    "        return \"{} says {}\".format(self.name, sound)\n",
    "\n",
    "# Child class (inherits from Dog class)\n",
    "class RussellTerrier(Dog):\n",
    "    def run(self, speed):\n",
    "        return \"{} runs {}\".format(self.name, speed)\n",
    "\n",
    "# Child class (inherits from Dog class)\n",
    "class Bulldog(Dog):\n",
    "    def run(self, speed):\n",
    "        return \"{} runs {}\".format(self.name, speed)\n",
    "```"
   ]
  },
  {
   "cell_type": "code",
   "execution_count": 21,
   "metadata": {},
   "outputs": [
    {
     "name": "stdout",
     "output_type": "stream",
     "text": [
      "I have 3 dogs.\n",
      "Tom is 6 years old\n",
      "Fletcher is 7 years old\n",
      "Larry is 9 years old\n",
      "And they are all mammals, of course.\n",
      "My dogs are hungry!\n",
      "Do you wanna feed Tom? Y/N y\n",
      "Tom is feeded\n",
      "Do you wanna feed Fletcher? Y/N y\n",
      "Fletcher is feeded\n",
      "Do you wanna feed Larry? Y/N n\n",
      "Larry is sad and hungry.\n"
     ]
    }
   ],
   "source": [
    "class Dog:\n",
    "    species = 'mammals'\n",
    "    count=0\n",
    "\n",
    "    def __init__(self, name, age, is_hungry):\n",
    "        self.name = name\n",
    "        self.age = age\n",
    "        self.is_hungry = True\n",
    "        Dog.count+=1\n",
    "\n",
    "    def description(self):\n",
    "        return \"{} is {} years old\".format(self.name, self.age)\n",
    "    \n",
    "    def eat(self):\n",
    "        self.is_hungry = False\n",
    "        return \"{} is feeded\".format(self.name)\n",
    "\n",
    "dog1=Dog(\"Tom\",6,True)\n",
    "dog2=Dog(\"Fletcher\",7,True)\n",
    "dog3=Dog(\"Larry\",9,True)\n",
    "bau=[dog1, dog2, dog3]\n",
    "\n",
    "print(\"I have\", Dog.count,\"dogs.\")\n",
    "for i in bau:\n",
    "    print(i.description())\n",
    "print(\"And they are all \"+ Dog.species+ \", of course.\")\n",
    "\n",
    "if dog1.is_hungry == True and dog2.is_hungry == True and dog3.is_hungry == True:\n",
    "    print (\"My dogs are hungry!\")\n",
    "    for i in bau:\n",
    "        s=str(input(\"Do you wanna feed \"+i.name+\"? Y/N \"))\n",
    "        if s==\"Y\" or s==\"y\" or s==\"yes\" or s==\"YES\" or s==\"si\":\n",
    "            print(i.eat())\n",
    "        else:\n",
    "            print(i.name, \"is sad and hungry.\")\n",
    "\n",
    "        \n",
    "if dog1.is_hungry == False and dog2.is_hungry == False and dog3.is_hungry == False:\n",
    "    print (\"My dogs are not hungry.\")\n",
    "    "
   ]
  },
  {
   "cell_type": "code",
   "execution_count": null,
   "metadata": {},
   "outputs": [],
   "source": []
  }
 ],
 "metadata": {
  "kernelspec": {
   "display_name": "Python 3",
   "language": "python",
   "name": "python3"
  },
  "language_info": {
   "codemirror_mode": {
    "name": "ipython",
    "version": 3
   },
   "file_extension": ".py",
   "mimetype": "text/x-python",
   "name": "python",
   "nbconvert_exporter": "python",
   "pygments_lexer": "ipython3",
   "version": "3.8.8"
  }
 },
 "nbformat": 4,
 "nbformat_minor": 2
}
