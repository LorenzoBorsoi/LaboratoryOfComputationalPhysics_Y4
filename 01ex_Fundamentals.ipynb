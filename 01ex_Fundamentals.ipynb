{
 "cells": [
  {
   "cell_type": "markdown",
   "metadata": {},
   "source": [
    "1\\. Write the following as a list comprehension"
   ]
  },
  {
   "cell_type": "code",
   "execution_count": 1,
   "metadata": {},
   "outputs": [
    {
     "name": "stdout",
     "output_type": "stream",
     "text": [
      "[(0, 0), (0, 1), (0, 2), (0, 3), (1, 0), (1, 1), (1, 2), (1, 3), (2, 0), (2, 1), (2, 2), (2, 3)]\n",
      "[0, 4, 16]\n"
     ]
    }
   ],
   "source": [
    "# 1\n",
    "ans = []\n",
    "for i in range(3):\n",
    "    for j in range(4):\n",
    "        ans.append((i, j))\n",
    "print (ans)\n",
    "\n",
    "# 2\n",
    "ans = map(lambda x: x*x, filter(lambda x: x%2 == 0, range(5)))\n",
    "print (list(ans))\n",
    "\n"
   ]
  },
  {
   "cell_type": "code",
   "execution_count": 8,
   "metadata": {},
   "outputs": [
    {
     "name": "stdout",
     "output_type": "stream",
     "text": [
      "[(0, 0), (0, 1), (0, 2), (0, 3), (1, 0), (1, 1), (1, 2), (1, 3), (2, 0), (2, 1), (2, 2), (2, 3)]\n",
      "[0, 4, 16]\n"
     ]
    }
   ],
   "source": [
    "ans1 = [(i, j) for i in range(3) for j in range(4)]\n",
    "print(ans1)\n",
    "\n",
    "ans2 = [x * x for x in range(5) if x % 2 == 0]\n",
    "print(ans2)"
   ]
  },
  {
   "cell_type": "markdown",
   "metadata": {},
   "source": [
    "2\\. Convert the following function into a pure function with no global variables or side effects"
   ]
  },
  {
   "cell_type": "code",
   "execution_count": 9,
   "metadata": {},
   "outputs": [
    {
     "name": "stdout",
     "output_type": "stream",
     "text": [
      "[1, 2, 3, 0, 1, 2, 3, 4]\n",
      "[1, 2, 3, 0, 1, 2, 3, 4]\n"
     ]
    }
   ],
   "source": [
    "x = 5\n",
    "def f(alist):\n",
    "    for i in range(x):\n",
    "         alist.append(i)\n",
    "    return alist\n",
    "\n",
    "alist = [1,2,3]\n",
    "ans = f(alist)\n",
    "print (ans)\n",
    "print (alist) # alist has been changed!"
   ]
  },
  {
   "cell_type": "code",
   "execution_count": 229,
   "metadata": {},
   "outputs": [
    {
     "name": "stdout",
     "output_type": "stream",
     "text": [
      "[1, 2, 3, 0, 1, 2, 3, 4]\n",
      "[1, 2, 3]\n"
     ]
    }
   ],
   "source": [
    "def Pure_Func(a_List, x):\n",
    "    New_List = a_List.copy()\n",
    "    for i in range(x):\n",
    "         New_List.append(i)\n",
    "    return New_List\n",
    "    \n",
    "a_List = [1,2,3]\n",
    "answer = Pure_Func(a_List, 5)\n",
    "print(answer)\n",
    "print(a_List)"
   ]
  },
  {
   "cell_type": "markdown",
   "metadata": {},
   "source": [
    "3\\. Write a `decorator` hello that makes every wrapped function print “Hello!”, i.e. something like:\n",
    "\n",
    "```python\n",
    "@hello\n",
    "def square(x):\n",
    "    return x*x\n",
    "```\n",
    "\n"
   ]
  },
  {
   "cell_type": "code",
   "execution_count": 21,
   "metadata": {},
   "outputs": [
    {
     "name": "stdout",
     "output_type": "stream",
     "text": [
      "Hello!\n"
     ]
    }
   ],
   "source": [
    "def hello(func):\n",
    "    def wrapper(*args, **kwargs):\n",
    "        print(\"Hello!\")\n",
    "    return wrapper\n",
    "\n",
    "@hello\n",
    "def square(x):\n",
    "    return x**2\n",
    "\n",
    "square(2)"
   ]
  },
  {
   "cell_type": "markdown",
   "metadata": {},
   "source": [
    "4\\. Write the factorial function so that it a) does and b) does not use recursion."
   ]
  },
  {
   "cell_type": "code",
   "execution_count": 57,
   "metadata": {},
   "outputs": [
    {
     "name": "stdout",
     "output_type": "stream",
     "text": [
      "2! = 2\n",
      "3! = 6\n",
      "4! = 24\n",
      "5! = 120\n",
      "6! = 720\n"
     ]
    },
    {
     "data": {
      "text/plain": [
       "720"
      ]
     },
     "execution_count": 57,
     "metadata": {},
     "output_type": "execute_result"
    }
   ],
   "source": [
    "#factorial function using recursion\n",
    "\n",
    "def Factorial_Func_Rec(x):\n",
    "    if x < 2:   \n",
    "        return 1\n",
    "    else:\n",
    "        n = x * Factorial_Func_Rec(x - 1) \n",
    "        print(str(x) + '! = ' + str(n))\n",
    "        return n\n",
    "        \n",
    "Factorial_Func_Rec(6)"
   ]
  },
  {
   "cell_type": "code",
   "execution_count": 63,
   "metadata": {},
   "outputs": [
    {
     "name": "stdout",
     "output_type": "stream",
     "text": [
      "2! = 2\n",
      "3! = 6\n",
      "4! = 24\n",
      "5! = 120\n",
      "6! = 720\n"
     ]
    },
    {
     "data": {
      "text/plain": [
       "720"
      ]
     },
     "execution_count": 63,
     "metadata": {},
     "output_type": "execute_result"
    }
   ],
   "source": [
    "#factorial function not using recursion\n",
    "\n",
    "def Factorial_Func_noRec(x):\n",
    "    result = 1\n",
    "    for i in range(2, x + 1):\n",
    "        result = result * i\n",
    "        print(str(i) + '! = ' + str(result))\n",
    "    return result\n",
    "\n",
    "Factorial_Func_noRec(6)"
   ]
  },
  {
   "cell_type": "markdown",
   "metadata": {},
   "source": [
    "5\\. Use HOFs (zip in particular) to compute the weight of a circle, a disk and a sphere, assuming different radii and different densities:\n",
    "\n",
    "```python\n",
    "densities = {\"Al\":[0.5,1,2],\"Fe\":[3,4,5],\"Pb\": [15,20,30]}\n",
    "radii = [1,2,3]\n",
    "```\n",
    "\n",
    "where the entries of the dictionary's values are the linear, superficial and volumetric densities of the materials respectively.\n",
    "\n",
    "In particular define a list of three lambda functions using a comprehension that computes the circumference, the area and the volume for a given radius.\n"
   ]
  },
  {
   "cell_type": "code",
   "execution_count": 186,
   "metadata": {},
   "outputs": [
    {
     "name": "stdout",
     "output_type": "stream",
     "text": [
      "ELEMENT:  Al\n",
      "Index:0--------->  Weigth: 3.14\n",
      "Index:1--------->  Weigth: 12.56\n",
      "Index:2--------->  Weigth: 226.07999999999998\n",
      "ELEMENT:  Fe\n",
      "Index:0--------->  Weigth: 18.84\n",
      "Index:1--------->  Weigth: 50.24\n",
      "Index:2--------->  Weigth: 565.1999999999999\n",
      "ELEMENT:  Pb\n",
      "Index:0--------->  Weigth: 94.2\n",
      "Index:1--------->  Weigth: 251.20000000000002\n",
      "Index:2--------->  Weigth: 3391.2\n"
     ]
    }
   ],
   "source": [
    "\n",
    "pi = 3.14\n",
    "\n",
    "\n",
    "D = {\"Al\" : [0.5, 1, 2], \"Fe\" : [3, 4, 5], \"Pb\" : [15, 20, 30]}\n",
    "R = [1, 2, 3]\n",
    "\n",
    "for x in D:\n",
    "    print(\"ELEMENT: \", x)\n",
    "    for i,(d,r) in enumerate(zip(D[x],R)):\n",
    "        if i == 0:\n",
    "            W = 2 * pi * r * d\n",
    "        elif i == 1:\n",
    "            W = pi * (pow(r,2)) * d\n",
    "        elif i == 2:\n",
    "            W = (4/3) * (pi) * (pow(r,3))* d\n",
    "            \n",
    "        print('Index:'+ str(i)+ '--------->  Weigth: '+ str(W))\n",
    "    \n",
    "    "
   ]
  },
  {
   "cell_type": "code",
   "execution_count": 192,
   "metadata": {},
   "outputs": [
    {
     "name": "stdout",
     "output_type": "stream",
     "text": [
      "[6.28, 12.56, 113.03999999999999]\n"
     ]
    }
   ],
   "source": [
    "\n",
    "pi = 3.14\n",
    "\n",
    "Circle= lambda r: 2 * pi * r\n",
    "Disk= lambda r: pi * (pow(r,2))\n",
    "Sphere= lambda r: (4/3) * (pi) * (pow(r,3))\n",
    "\n",
    "\n",
    "Lambdas = [Circle,Disk,Sphere]\n",
    "Array = [circum(r) for r, circum in zip(R, Lambdas)]\n",
    "print(Array)"
   ]
  },
  {
   "cell_type": "markdown",
   "metadata": {},
   "source": [
    "6\\. Edit the class defintion to add an instance attribute of is_hungry = True to the Dog class. Then add a method called eat() which changes the value of is_hungry to False when called. Figure out the best way to feed each dog and then output “My dogs are hungry.” if all are hungry or “My dogs are not hungry.” if all are not hungry. The final output should look like this:\n",
    "\n",
    "`I have 3 dogs. \n",
    "Tom is 6. \n",
    "Fletcher is 7. \n",
    "Larry is 9. \n",
    "And they're all mammals, of course. \n",
    "My dogs are not hungry.\n",
    "`\n",
    "\n",
    "```python\n",
    "# Parent class\n",
    "class Dog:\n",
    "\n",
    "    # Class attribute\n",
    "    species = 'mammal'\n",
    "\n",
    "    # Initializer / Instance attributes\n",
    "    def __init__(self, name, age):\n",
    "        self.name = name\n",
    "        self.age = age\n",
    "\n",
    "    # instance method\n",
    "    def description(self):\n",
    "        return \"{} is {} years old\".format(self.name, self.age)\n",
    "\n",
    "    # instance method\n",
    "    def speak(self, sound):\n",
    "        return \"{} says {}\".format(self.name, sound)\n",
    "\n",
    "# Child class (inherits from Dog class)\n",
    "class RussellTerrier(Dog):\n",
    "    def run(self, speed):\n",
    "        return \"{} runs {}\".format(self.name, speed)\n",
    "\n",
    "# Child class (inherits from Dog class)\n",
    "class Bulldog(Dog):\n",
    "    def run(self, speed):\n",
    "        return \"{} runs {}\".format(self.name, speed)\n",
    "```"
   ]
  },
  {
   "cell_type": "code",
   "execution_count": 225,
   "metadata": {},
   "outputs": [
    {
     "name": "stdout",
     "output_type": "stream",
     "text": [
      "I have 3 dogs.\n",
      "Tom is 6 years old\n",
      "Fletcher is 7 years old\n",
      "Larry is 9 years old\n",
      "And they're all mammal of course.\n",
      "My dogs are not hungry.\n",
      "My dogs are not hungry.\n",
      "My dogs are not hungry.\n",
      "My dogs are hungry.\n"
     ]
    }
   ],
   "source": [
    "    \n",
    "dogs = []\n",
    "dogs.append(Dog('Tom', 6))\n",
    "dogs.append(Dog('Fletcher', 7))\n",
    "dogs.append(Dog('Larry', 9))\n",
    "\n",
    "species = 'mammal'\n",
    "\n",
    "print(f'I have {len(dogs)} dogs.')\n",
    "\n",
    "for dog in dogs:\n",
    "    print(dog.description())\n",
    "    \n",
    "print('And they\\'re all', species, 'of course.')\n",
    "    \n",
    "is_hungry = False\n",
    "\n",
    "for dog in dogs:\n",
    "    dog.eat()\n",
    "    \n",
    "for dog in dogs:\n",
    "    if dog.is_hungry == True:\n",
    "        is_hungry = True\n",
    "  \n",
    "\n",
    "    if is_hungry==False: \n",
    "        print(\"My dogs are not hungry.\")\n",
    "else: \n",
    "    print(\"My dogs are hungry.\") "
   ]
  },
  {
   "cell_type": "code",
   "execution_count": null,
   "metadata": {},
   "outputs": [],
   "source": []
  }
 ],
 "metadata": {
  "kernelspec": {
   "display_name": "Python 3",
   "language": "python",
   "name": "python3"
  },
  "language_info": {
   "codemirror_mode": {
    "name": "ipython",
    "version": 3
   },
   "file_extension": ".py",
   "mimetype": "text/x-python",
   "name": "python",
   "nbconvert_exporter": "python",
   "pygments_lexer": "ipython3",
   "version": "3.8.8"
  }
 },
 "nbformat": 4,
 "nbformat_minor": 2
}
