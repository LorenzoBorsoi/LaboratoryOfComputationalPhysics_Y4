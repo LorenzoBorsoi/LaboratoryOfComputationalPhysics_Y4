{
 "cells": [
  {
   "cell_type": "markdown",
   "metadata": {},
   "source": [
    "1. The MickeyMouse problem\n",
    "\n",
    "a) Write a program that prints the numbers from 1 to 100. But for multiples of three print Mickey instead of the number and for the multiples of five print Mouse. For numbers which are multiples of both three and five print MickeyMouse\n",
    "\n",
    "b) Put the result in a tuple and substitute Mickey with Donald and Mouse with Duck"
   ]
  },
  {
   "cell_type": "code",
   "execution_count": 3,
   "metadata": {},
   "outputs": [
    {
     "name": "stdout",
     "output_type": "stream",
     "text": [
      "1\n",
      "2\n",
      "Mickey\n",
      "4\n",
      "Mouse\n",
      "Mickey\n",
      "7\n",
      "8\n",
      "Mickey\n",
      "Mouse\n",
      "11\n",
      "Mickey\n",
      "13\n",
      "14\n",
      "MickeyMouse\n",
      "16\n",
      "17\n",
      "Mickey\n",
      "19\n",
      "Mouse\n",
      "Mickey\n",
      "22\n",
      "23\n",
      "Mickey\n",
      "Mouse\n",
      "26\n",
      "Mickey\n",
      "28\n",
      "29\n",
      "MickeyMouse\n",
      "31\n",
      "32\n",
      "Mickey\n",
      "34\n",
      "Mouse\n",
      "Mickey\n",
      "37\n",
      "38\n",
      "Mickey\n",
      "Mouse\n",
      "41\n",
      "Mickey\n",
      "43\n",
      "44\n",
      "MickeyMouse\n",
      "46\n",
      "47\n",
      "Mickey\n",
      "49\n",
      "Mouse\n",
      "Mickey\n",
      "52\n",
      "53\n",
      "Mickey\n",
      "Mouse\n",
      "56\n",
      "Mickey\n",
      "58\n",
      "59\n",
      "MickeyMouse\n",
      "61\n",
      "62\n",
      "Mickey\n",
      "64\n",
      "Mouse\n",
      "Mickey\n",
      "67\n",
      "68\n",
      "Mickey\n",
      "Mouse\n",
      "71\n",
      "Mickey\n",
      "73\n",
      "74\n",
      "MickeyMouse\n",
      "76\n",
      "77\n",
      "Mickey\n",
      "79\n",
      "Mouse\n",
      "Mickey\n",
      "82\n",
      "83\n",
      "Mickey\n",
      "Mouse\n",
      "86\n",
      "Mickey\n",
      "88\n",
      "89\n",
      "MickeyMouse\n",
      "91\n",
      "92\n",
      "Mickey\n",
      "94\n",
      "Mouse\n",
      "Mickey\n",
      "97\n",
      "98\n",
      "Mickey\n",
      "Mouse\n",
      "(1, 2, 'Donald', 4, 'Duck', 'Donald', 7, 8, 'Donald', 'Duck', 11, 'Donald', 13, 14, 'DonaldDuck', 16, 17, 'Donald', 19, 'Duck', 'Donald', 22, 23, 'Donald', 'Duck', 26, 'Donald', 28, 29, 'DonaldDuck', 31, 32, 'Donald', 34, 'Duck', 'Donald', 37, 38, 'Donald', 'Duck', 41, 'Donald', 43, 44, 'DonaldDuck', 46, 47, 'Donald', 49, 'Duck', 'Donald', 52, 53, 'Donald', 'Duck', 56, 'Donald', 58, 59, 'DonaldDuck', 61, 62, 'Donald', 64, 'Duck', 'Donald', 67, 68, 'Donald', 'Duck', 71, 'Donald', 73, 74, 'DonaldDuck', 76, 77, 'Donald', 79, 'Duck', 'Donald', 82, 83, 'Donald', 'Duck', 86, 'Donald', 88, 89, 'DonaldDuck', 91, 92, 'Donald', 94, 'Duck', 'Donald', 97, 98, 'Donald', 'Duck')\n"
     ]
    }
   ],
   "source": [
    "# a)\n",
    "\n",
    "mickey = 'Mickey'\n",
    "mouse = 'Mouse'\n",
    "\n",
    "for n in range(1, 101):\n",
    "    if n%3 == 0 and n%5 == 0:\n",
    "        print(mickey+mouse)\n",
    "    elif n%3 == 0:\n",
    "        print(mickey)\n",
    "    elif n%5 == 0:\n",
    "        print(mouse)\n",
    "    else: \n",
    "        print(n) \n",
    "\n",
    "# b)\n",
    "        \n",
    "donald = 'Donald'\n",
    "duck = 'Duck'\n",
    "\n",
    "a_list = []\n",
    "for n in range(1,101): \n",
    "    if n%3 == 0 and n%5 == 0:\n",
    "        a_list.append(donald+duck)\n",
    "    elif n%3 == 0:\n",
    "        a_list.append(donald)\n",
    "    elif n%5 == 0:\n",
    "        a_list.append(duck)\n",
    "    else: \n",
    "        a_list.append(n)\n",
    "        \n",
    "a_tuple = tuple(a_list)\n",
    "\n",
    "print(a_tuple)"
   ]
  },
  {
   "cell_type": "markdown",
   "metadata": {},
   "source": [
    "2\\. The swap function\n",
    "\n",
    "Write a function that swap the values of two input variables x and y (whatever the type). Try to do that also without a temporary variable"
   ]
  },
  {
   "cell_type": "code",
   "execution_count": 11,
   "metadata": {},
   "outputs": [
    {
     "name": "stdout",
     "output_type": "stream",
     "text": [
      "\n",
      "\n",
      "Ugly Swap Function:\n",
      "\n",
      "Initial variables\n",
      "\n",
      "x = physics\n",
      "y = [0, 1, 2, 3, 4]\n",
      "\n",
      "Swapped variables\n",
      "\n",
      "x = [0, 1, 2, 3, 4]\n",
      "y = physics\n",
      "\n",
      "\n",
      "Pythonic Swap Function:\n",
      "\n",
      "Initial variables\n",
      "\n",
      "x = physics\n",
      "y = [0, 1, 2, 3, 4]\n",
      "\n",
      "Swapped variables\n",
      "\n",
      "x = [0, 1, 2, 3, 4]\n",
      "y = physics\n"
     ]
    }
   ],
   "source": [
    "# ugly\n",
    "\n",
    "def swap_ugly(a, b):\n",
    "    c = a\n",
    "    a = b\n",
    "    b = c\n",
    "    return a, b\n",
    "\n",
    "x = 'physics'\n",
    "y = [i for i in range(5)]\n",
    "\n",
    "print('\\n\\nUgly Swap Function:\\n')\n",
    "print('Initial variables\\n')\n",
    "print(f'x = {x}')\n",
    "print(f'y = {y}')\n",
    "\n",
    "x, y = swap_ugly(x, y)\n",
    "\n",
    "print('\\nSwapped variables\\n')\n",
    "print(f'x = {x}')\n",
    "print(f'y = {y}')\n",
    "\n",
    "# pythonic\n",
    "\n",
    "def swap(a, b):\n",
    "    a, b = b, a\n",
    "    return a, b\n",
    "\n",
    "x = 'physics'\n",
    "y = [i for i in range(5)]\n",
    "\n",
    "print('\\n\\nPythonic Swap Function:\\n')\n",
    "print('Initial variables\\n')\n",
    "print(f'x = {x}')\n",
    "print(f'y = {y}')\n",
    "\n",
    "x, y = swap_ugly(x, y)\n",
    "\n",
    "print('\\nSwapped variables\\n')\n",
    "print(f'x = {x}')\n",
    "print(f'y = {y}')"
   ]
  },
  {
   "cell_type": "markdown",
   "metadata": {},
   "source": [
    "3\\. Computing the distance\n",
    "\n",
    "Write a function that calculates and returns the euclidean distance between two points *u* and *v*, where *u* and *v* are both 2-tuples *(x,y)*. For example, if *u=(3,0)* and *v=(0,4)*, the function should return 5"
   ]
  },
  {
   "cell_type": "code",
   "execution_count": 23,
   "metadata": {},
   "outputs": [
    {
     "name": "stdout",
     "output_type": "stream",
     "text": [
      "Distance = 5.0\n"
     ]
    }
   ],
   "source": [
    "def compute_distance(u: tuple, v: tuple) -> float:\n",
    "    if isinstance(u, tuple) == False or isinstance(v, tuple) == False:\n",
    "        print('Error: only 2-tuples are accepted as function arguments')\n",
    "    elif len(u) != len(v) or len(u) != 2 or len(v) != 2:\n",
    "        print('Error: only 2-tuples are accepted as function arguments')\n",
    "    else:\n",
    "        d = ( (u[0]-v[0])**2 + (u[1]-v[1])**2 )**0.5\n",
    "        return d\n",
    "\n",
    "\n",
    "point_1 = (3, 0)\n",
    "point_2 = (0, 4)\n",
    "distance = compute_distance(point_1, point_2)\n",
    "print(f'Distance = {distance}')"
   ]
  },
  {
   "cell_type": "markdown",
   "metadata": {},
   "source": [
    "4\\. Counting letters\n",
    "\n",
    "Write a program to calculate the number of times each character occurs in a given string *s*. Ignore differneces in capitalization"
   ]
  },
  {
   "cell_type": "code",
   "execution_count": 24,
   "metadata": {},
   "outputs": [
    {
     "name": "stdout",
     "output_type": "stream",
     "text": [
      "Character: l\n",
      "Occurrencies: 6\n",
      "\n",
      "Character: k\n",
      "Occurrencies: 2\n",
      "\n",
      "Character: d\n",
      "Occurrencies: 3\n",
      "\n",
      "Character: v\n",
      "Occurrencies: 2\n",
      "\n",
      "Character: g\n",
      "Occurrencies: 1\n",
      "\n",
      "Character: f\n",
      "Occurrencies: 9\n",
      "\n",
      "Character: h\n",
      "Occurrencies: 9\n",
      "\n",
      "Character: w\n",
      "Occurrencies: 1\n",
      "\n",
      "Character: b\n",
      "Occurrencies: 4\n",
      "\n",
      "Character: y\n",
      "Occurrencies: 2\n",
      "\n",
      "Character: a\n",
      "Occurrencies: 7\n",
      "\n",
      "Character: e\n",
      "Occurrencies: 22\n",
      "\n",
      "Character: .\n",
      "Occurrencies: 2\n",
      "\n",
      "Character: t\n",
      "Occurrencies: 19\n",
      "\n",
      "Character: u\n",
      "Occurrencies: 9\n",
      "\n",
      "Character: o\n",
      "Occurrencies: 13\n",
      "\n",
      "Character: c\n",
      "Occurrencies: 3\n",
      "\n",
      "Character: m\n",
      "Occurrencies: 8\n",
      "\n",
      "Character: i\n",
      "Occurrencies: 14\n",
      "\n",
      "Character: 0\n",
      "Occurrencies: 2\n",
      "\n",
      "Character: p\n",
      "Occurrencies: 8\n",
      "\n",
      "Character: n\n",
      "Occurrencies: 10\n",
      "\n",
      "Character: s\n",
      "Occurrencies: 9\n",
      "\n",
      "Character: r\n",
      "Occurrencies: 17\n",
      "\n",
      "Character: 1\n",
      "Occurrencies: 2\n",
      "\n"
     ]
    }
   ],
   "source": [
    "class CharacterCounter:\n",
    "    def __init__(self, input_string: str) -> None:\n",
    "        self.s = input_string.replace(' ', '')\n",
    "        pass\n",
    "\n",
    "    def fetch_characters(self) -> None:\n",
    "        self.character_set = set()\n",
    "        for char in self.s:\n",
    "            self.character_set.add(char.lower())\n",
    "\n",
    "    def count_occurrencies(self, char: str) -> int:\n",
    "        return self.s.count(char)\n",
    "\n",
    "\n",
    "s=\"Write a program that prints the numbers from 1 to 100. \\\n",
    "But for multiples of three print Mickey instead of the number and for the multiples of five print Mouse. \\\n",
    "For numbers which are multiples of both three and five print MickeyMouse\"\n",
    "\n",
    "counter_instance = CharacterCounter(input_string=s)\n",
    "counter_instance.fetch_characters()\n",
    "\n",
    "for char in counter_instance.character_set:\n",
    "    occ = counter_instance.count_occurrencies(char)\n",
    "    print(f'Character: {char}\\nOccurrencies: {occ}\\n')"
   ]
  },
  {
   "cell_type": "markdown",
   "metadata": {},
   "source": [
    "5\\. Isolating the unique\n",
    "\n",
    "Write a function that determines and count the unique numbers in the list *l*"
   ]
  },
  {
   "cell_type": "code",
   "execution_count": 42,
   "metadata": {},
   "outputs": [
    {
     "name": "stdout",
     "output_type": "stream",
     "text": [
      "\n",
      "\n",
      "Unique values:\n",
      "{1, 3, 5, 8, 9, 10, 16, 18, 19, 20, 24, 30, 31, 33, 34, 36, 37, 39, 41, 42, 45, 47, 50, 51, 53, 54, 55, 56, 57, 58, 63, 64, 66, 70, 72, 74, 75, 79, 81, 82, 84, 85, 86, 87, 88, 89, 90, 91, 92, 94, 95, 96, 98, 99}\n",
      "\n",
      "Total number of values: 80\n",
      "Number of unique values: 54\n",
      "\n",
      "\n",
      "Unique values:\n",
      "[58, 74, 96, 64, 10, 24, 19, 33, 86, 99, 18, 47, 88, 55, 54, 8, 79, 81, 57, 37, 1, 9, 95, 90, 98, 39, 16, 82, 92, 41, 30, 94, 5, 72, 87, 75, 53]\n",
      "\n",
      "Total number of values: 80\n",
      "Number of unique values: 37\n"
     ]
    }
   ],
   "source": [
    "list_of_values = [\n",
    "                    36, 45, 58, 3, 74, 96, 64, 45, 31, 10, 24, 19, 33, 86, 99, 18, 63, 70, 85,\n",
    "                    85, 63, 47, 56, 42, 70, 84, 88, 55, 20, 54, 8, 56, 51, 79, 81, 57, 37, 91,\n",
    "                    1, 84, 84, 36, 66, 9, 89, 50, 42, 91, 50, 95, 90, 98, 39, 16, 82, 31, 92, 41,\n",
    "                    45, 30, 66, 70, 34, 85, 94, 5, 3, 36, 72, 91, 84, 34, 87, 75, 53, 51, 20, 89, 51, 20\n",
    "                ]\n",
    "\n",
    "\n",
    "unique_values = set(list_of_values)\n",
    "\n",
    "print('\\n\\nUnique values:')\n",
    "print(unique_values)\n",
    "print(f'\\nTotal number of values: {len(list_of_values)}')\n",
    "print(f'Number of unique values: {len(unique_values)}')\n",
    "\n",
    "# or\n",
    "\n",
    "unique_values = []\n",
    "for n in list_of_values: \n",
    "    if list_of_values.count(n) == 1:\n",
    "        unique_values.append(n)\n",
    "        \n",
    "print('\\n\\nUnique values:')\n",
    "print(unique_values)\n",
    "print(f'\\nTotal number of values: {len(list_of_values)}')\n",
    "print(f'Number of unique values: {len(unique_values)}')      \n"
   ]
  },
  {
   "cell_type": "markdown",
   "metadata": {},
   "source": [
    "6\\. Combination of functions\n",
    "\n",
    "Write two functions - one that returns the square of a number, and one that returns the cube. Now write a third function that returns the number raised to the 6th power using the two previous functions."
   ]
  },
  {
   "cell_type": "code",
   "execution_count": 44,
   "metadata": {},
   "outputs": [
    {
     "name": "stdout",
     "output_type": "stream",
     "text": [
      "2^6 = 64\n"
     ]
    }
   ],
   "source": [
    "def square(x: float) -> float:\n",
    "    return x**2\n",
    "\n",
    "def cube(x: float) -> float:\n",
    "    return x**3\n",
    "\n",
    "def sixth_pow(x: float) -> float:\n",
    "    return cube(square(x))\n",
    "\n",
    "a = 2\n",
    "print(f'{a}^6 = {sixth_pow(a)}')"
   ]
  },
  {
   "cell_type": "markdown",
   "metadata": {},
   "source": [
    "7\\. Cubes\n",
    "\n",
    "Create a list of the cubes of x for x in *[0, 10]* using:\n",
    "\n",
    "a) a for loop\n",
    "\n",
    "b) a list comprehension"
   ]
  },
  {
   "cell_type": "code",
   "execution_count": 45,
   "metadata": {},
   "outputs": [
    {
     "name": "stdout",
     "output_type": "stream",
     "text": [
      "[0, 1, 8, 27, 64, 125, 216, 343, 512, 729, 1000]\n",
      "[0, 1, 8, 27, 64, 125, 216, 343, 512, 729, 1000]\n"
     ]
    }
   ],
   "source": [
    "# a)\n",
    "\n",
    "cubes = []\n",
    "for x in range(0, 11):\n",
    "    cubes.append(x**3)\n",
    "\n",
    "print(cubes)\n",
    "\n",
    "# b)\n",
    "\n",
    "cubes = [x**3 for x in range(0, 11)]\n",
    "print(cubes)"
   ]
  },
  {
   "cell_type": "markdown",
   "metadata": {},
   "source": [
    "8\\. Nested list comprehension\n",
    "\n",
    "A Pythagorean triple is an integer solution to the Pythagorean theorem $a^2+b^2=c^2$. The first Pythagorean triple is (3,4,5). Find and put in a tuple all unique Pythagorean triples for the positive integers a, b and c less than 100."
   ]
  },
  {
   "cell_type": "code",
   "execution_count": 49,
   "metadata": {},
   "outputs": [
    {
     "name": "stdout",
     "output_type": "stream",
     "text": [
      "((3, 4, 5), (6, 8, 10), (5, 12, 13), (9, 12, 15), (8, 15, 17), (12, 16, 20), (15, 20, 25), (7, 24, 25), (10, 24, 26), (20, 21, 29), (18, 24, 30), (16, 30, 34), (21, 28, 35), (12, 35, 37), (15, 36, 39), (24, 32, 40), (9, 40, 41), (27, 36, 45), (30, 40, 50), (14, 48, 50), (24, 45, 51), (20, 48, 52), (28, 45, 53), (33, 44, 55), (40, 42, 58), (36, 48, 60), (11, 60, 61), (39, 52, 65), (33, 56, 65), (25, 60, 65), (16, 63, 65), (32, 60, 68), (42, 56, 70), (48, 55, 73), (24, 70, 74), (45, 60, 75), (21, 72, 75), (30, 72, 78), (48, 64, 80), (18, 80, 82), (51, 68, 85), (40, 75, 85), (36, 77, 85), (13, 84, 85), (60, 63, 87), (39, 80, 89), (54, 72, 90), (35, 84, 91), (57, 76, 95), (65, 72, 97))\n"
     ]
    }
   ],
   "source": [
    "triplets = [(a, b, c) for c in range(2, 100) for b in range(2, c) for a in range(2, b) if a**2 + b**2 == c**2]\n",
    "triplets = tuple(triplets)\n",
    "print(triplets)"
   ]
  },
  {
   "cell_type": "markdown",
   "metadata": {},
   "source": [
    "9\\. Normalization\n",
    "\n",
    "Write a function that takes a tuple of numbers and returns it with the entries normalized to one"
   ]
  },
  {
   "cell_type": "code",
   "execution_count": 56,
   "metadata": {},
   "outputs": [
    {
     "name": "stdout",
     "output_type": "stream",
     "text": [
      "\n",
      "Input vector:\n",
      " (47, 53, 12, 100, 37, 45, 94, 40, 86, 84, 25, 66, 41, 94, 46)\n",
      "\n",
      "Normalized vector:\n",
      " (0.47, 0.53, 0.12, 1.0, 0.37, 0.45, 0.94, 0.4, 0.86, 0.84, 0.25, 0.66, 0.41, 0.94, 0.46)\n"
     ]
    }
   ],
   "source": [
    "import random\n",
    "\n",
    "def norm(x: tuple) -> tuple:\n",
    "    if isinstance(x, tuple) == False: \n",
    "        print('Error: only n-tuples are accepted as function arguments')\n",
    "    \n",
    "    max_val = max(x)\n",
    "    \n",
    "    norm_x = [y/max_val for y in x]\n",
    "    \n",
    "    return tuple(norm_x)\n",
    "\n",
    "vec = tuple(random.randint(0, 100) for _ in range(0, 15))\n",
    "norm_vec = norm(vec)\n",
    "\n",
    "print(f'\\nInput vector:\\n {vec}')\n",
    "print(f'\\nNormalized vector:\\n {norm_vec}')\n",
    "        "
   ]
  }
 ],
 "metadata": {
  "kernelspec": {
   "display_name": "Python 3",
   "language": "python",
   "name": "python3"
  },
  "language_info": {
   "codemirror_mode": {
    "name": "ipython",
    "version": 3
   },
   "file_extension": ".py",
   "mimetype": "text/x-python",
   "name": "python",
   "nbconvert_exporter": "python",
   "pygments_lexer": "ipython3",
   "version": "3.8.5"
  }
 },
 "nbformat": 4,
 "nbformat_minor": 4
}
