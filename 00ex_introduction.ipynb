{
 "cells": [
  {
   "cell_type": "markdown",
   "id": "353136f8-c5a4-4b30-ae72-cccfa04d8d58",
   "metadata": {},
   "source": [
    "\n",
    "\n",
    "1. The MickeyMouse problem\n",
    "\n",
    "a) Write a program that prints the numbers from 1 to 100. But for multiples of three print Mickey instead of the number and for the multiples of five print Mouse. For numbers which are multiples of both three and five print MickeyMouse"
   ]
  },
  {
   "cell_type": "code",
   "execution_count": 1,
   "id": "6592b849-7a0d-4d70-b689-5bd94783df67",
   "metadata": {},
   "outputs": [
    {
     "name": "stdout",
     "output_type": "stream",
     "text": [
      "[1, 2, 'Mickey', 4, 'Mouse', 'Mickey', 7, 8, 'Mickey', 'Mouse', 11, 'Mickey', 13, 14, 'MickeyMouse', 16, 17, 'Mickey', 19, 'Mouse', 'Mickey', 22, 23, 'Mickey', 'Mouse', 26, 'Mickey', 28, 29, 'MickeyMouse', 31, 32, 'Mickey', 34, 'Mouse', 'Mickey', 37, 38, 'Mickey', 'Mouse', 41, 'Mickey', 43, 44, 'MickeyMouse', 46, 47, 'Mickey', 49, 'Mouse', 'Mickey', 52, 53, 'Mickey', 'Mouse', 56, 'Mickey', 58, 59, 'MickeyMouse', 61, 62, 'Mickey', 64, 'Mouse', 'Mickey', 67, 68, 'Mickey', 'Mouse', 71, 'Mickey', 73, 74, 'MickeyMouse', 76, 77, 'Mickey', 79, 'Mouse', 'Mickey', 82, 83, 'Mickey', 'Mouse', 86, 'Mickey', 88, 89, 'MickeyMouse', 91, 92, 'Mickey', 94, 'Mouse', 'Mickey', 97, 98, 'Mickey', 'Mouse']\n"
     ]
    }
   ],
   "source": [
    "from pprint import pprint\n",
    "mickey_mouse = [f'{\"Mickey\" if i % 3 == 0 else \"\"}{\"Mouse\" if i % 5 == 0 else \"\"}' \\\n",
    "                if (i % 3 == 0) or (i % 5 == 0)  \\\n",
    "                else i for i in range(1, 101)]\n",
    "print(mickey_mouse)"
   ]
  },
  {
   "cell_type": "markdown",
   "id": "760615bd-d8ba-4ef8-b03d-cc53ab24b032",
   "metadata": {},
   "source": [
    "b) Put the result in a tuple and substitute Mickey with Donald and Mouse with Duck"
   ]
  },
  {
   "cell_type": "code",
   "execution_count": 22,
   "id": "80479807-5013-4048-aeb8-b74d7c0216eb",
   "metadata": {},
   "outputs": [
    {
     "name": "stdout",
     "output_type": "stream",
     "text": [
      "[1, 2, 'Donald', 4, 'Duck', 'Donald', 7, 8, 'Donald', 'Duck', 11, 'Donald', 13, 14, 'DonaldDuck', 16, 17, 'Donald', 19, 'Duck', 'Donald', 22, 23, 'Donald', 'Duck', 26, 'Donald', 28, 29, 'DonaldDuck', 31, 32, 'Donald', 34, 'Duck', 'Donald', 37, 38, 'Donald', 'Duck', 41, 'Donald', 43, 44, 'DonaldDuck', 46, 47, 'Donald', 49, 'Duck', 'Donald', 52, 53, 'Donald', 'Duck', 56, 'Donald', 58, 59, 'DonaldDuck', 61, 62, 'Donald', 64, 'Duck', 'Donald', 67, 68, 'Donald', 'Duck', 71, 'Donald', 73, 74, 'DonaldDuck', 76, 77, 'Donald', 79, 'Duck', 'Donald', 82, 83, 'Donald', 'Duck', 86, 'Donald', 88, 89, 'DonaldDuck', 91, 92, 'Donald', 94, 'Duck', 'Donald', 97, 98, 'Donald', 'Duck']\n",
      "[1, 2, 'Donald', 4, 'Duck', 'Donald', 7, 8, 'Donald', 'Duck', 11, 'Donald', 13, 14, 'DonaldDuck', 16, 17, 'Donald', 19, 'Duck', 'Donald', 22, 23, 'Donald', 'Duck', 26, 'Donald', 28, 29, 'DonaldDuck', 31, 32, 'Donald', 34, 'Duck', 'Donald', 37, 38, 'Donald', 'Duck', 41, 'Donald', 43, 44, 'DonaldDuck', 46, 47, 'Donald', 49, 'Duck', 'Donald', 52, 53, 'Donald', 'Duck', 56, 'Donald', 58, 59, 'DonaldDuck', 61, 62, 'Donald', 64, 'Duck', 'Donald', 67, 68, 'Donald', 'Duck', 71, 'Donald', 73, 74, 'DonaldDuck', 76, 77, 'Donald', 79, 'Duck', 'Donald', 82, 83, 'Donald', 'Duck', 86, 'Donald', 88, 89, 'DonaldDuck', 91, 92, 'Donald', 94, 'Duck', 'Donald', 97, 98, 'Donald', 'Duck']\n"
     ]
    }
   ],
   "source": [
    "mickey_mouse = tuple(mickey_mouse)\n",
    "donald_duck = []\n",
    "\n",
    "for x in mickey_mouse:\n",
    "    if isinstance(x, str):\n",
    "        x = x.replace('Mickey', 'Donald').replace('Mouse', 'Duck')\n",
    "    donald_duck.append(x)\n",
    "print(donald_duck)\n",
    "\n",
    "# In a more compact way\n",
    "\n",
    "donald_duck = [ x.replace('Mickey', 'Donald').replace('Mouse', 'Duck')\\\n",
    "               if isinstance(x, str) \\\n",
    "               else x  for x in mickey_mouse]\n",
    "print(donald_duck)"
   ]
  },
  {
   "cell_type": "markdown",
   "id": "c06138e8-db27-4358-90ee-72b1f2e9b5eb",
   "metadata": {},
   "source": [
    "2. The swap function\n",
    "\n",
    "Write a function that swap the values of two input variables x and y (whatever the type). Try to do that also without a temporary variable"
   ]
  },
  {
   "cell_type": "code",
   "execution_count": 3,
   "id": "14bc28ab-9772-4847-9113-68264226587d",
   "metadata": {},
   "outputs": [
    {
     "name": "stdout",
     "output_type": "stream",
     "text": [
      "1.0 2.0\n",
      "2.0 1.0\n"
     ]
    }
   ],
   "source": [
    "def swap(a, b):\n",
    "    return b, a\n",
    "a = 1.0\n",
    "b = 2.0\n",
    "print(f'{a} {b}')\n",
    "a, b = swap(a, b)\n",
    "print(f'{a} {b}')"
   ]
  },
  {
   "cell_type": "markdown",
   "id": "d5b3782b-c099-4881-ae6c-108cdd2eb334",
   "metadata": {},
   "source": [
    "3. Computing the distance\n",
    "\n",
    "Write a function that calculates and returns the euclidean distance between two points u and v, where u and v are both 2-tuples (x,y). For example, if u=(3,0) and v=(0,4), the function should return 5"
   ]
  },
  {
   "cell_type": "code",
   "execution_count": 4,
   "id": "7b1f0970-7297-4364-b584-fc75fd386a0b",
   "metadata": {},
   "outputs": [
    {
     "name": "stdout",
     "output_type": "stream",
     "text": [
      "5.0\n"
     ]
    }
   ],
   "source": [
    "def dist(u: tuple, v: tuple):\n",
    "    return (sum([(x1 - x2) ** 2 for x1, x2 in zip(u, v)])) ** 0.5\n",
    "u = (3., 0.)\n",
    "v = (0., 4.)\n",
    "print(dist(u, v))"
   ]
  },
  {
   "cell_type": "markdown",
   "id": "9e74070b-a161-4205-9f62-5ed5e8743d4d",
   "metadata": {},
   "source": [
    "4. Counting letters\n",
    "\n",
    "Write a program to calculate the number of times each character occurs in a given string s. Ignore differneces in capitalization"
   ]
  },
  {
   "cell_type": "code",
   "execution_count": 5,
   "id": "a5c52928-6d33-4c01-9ea9-c573e3eb110f",
   "metadata": {},
   "outputs": [
    {
     "name": "stdout",
     "output_type": "stream",
     "text": [
      "{' ': 41,\n",
      " '.': 2,\n",
      " '0': 2,\n",
      " '1': 2,\n",
      " 'a': 7,\n",
      " 'b': 5,\n",
      " 'c': 3,\n",
      " 'd': 3,\n",
      " 'e': 22,\n",
      " 'f': 10,\n",
      " 'g': 1,\n",
      " 'h': 9,\n",
      " 'i': 14,\n",
      " 'k': 2,\n",
      " 'l': 6,\n",
      " 'm': 12,\n",
      " 'n': 10,\n",
      " 'o': 13,\n",
      " 'p': 8,\n",
      " 'r': 17,\n",
      " 's': 9,\n",
      " 't': 19,\n",
      " 'u': 9,\n",
      " 'v': 2,\n",
      " 'w': 2,\n",
      " 'y': 2}\n"
     ]
    }
   ],
   "source": [
    "def count_char(s):\n",
    "    chars = {}\n",
    "    for c in s:\n",
    "        ch = c.lower() if isinstance(c, str) else c\n",
    "        if ch not in chars.keys():\n",
    "            chars[ch] = 0\n",
    "        chars[ch] += 1\n",
    "    return chars\n",
    "s=\"Write a program that prints the numbers from 1 to 100. \\\n",
    "But for multiples of three print Mickey instead of the number and for the multiples of five print Mouse. \\\n",
    "For numbers which are multiples of both three and five print MickeyMouse\"\n",
    "pprint(count_char(s))"
   ]
  },
  {
   "cell_type": "markdown",
   "id": "21c62dca-1a98-470f-961c-146e27275bce",
   "metadata": {},
   "source": [
    "5. Isolating the unique\n",
    "\n",
    "Write a function that determines and count the unique numbers in the list l"
   ]
  },
  {
   "cell_type": "code",
   "execution_count": 6,
   "id": "af4bdb4f-8e40-480c-9ec4-350fc9fc4218",
   "metadata": {},
   "outputs": [
    {
     "name": "stdout",
     "output_type": "stream",
     "text": [
      "{1: 1,\n",
      " 3: 2,\n",
      " 5: 1,\n",
      " 8: 1,\n",
      " 9: 1,\n",
      " 10: 1,\n",
      " 16: 1,\n",
      " 18: 1,\n",
      " 19: 1,\n",
      " 20: 3,\n",
      " 24: 1,\n",
      " 30: 1,\n",
      " 31: 2,\n",
      " 33: 1,\n",
      " 34: 2,\n",
      " 36: 3,\n",
      " 37: 1,\n",
      " 39: 1,\n",
      " 41: 1,\n",
      " 42: 2,\n",
      " 45: 3,\n",
      " 47: 1,\n",
      " 50: 2,\n",
      " 51: 3,\n",
      " 53: 1,\n",
      " 54: 1,\n",
      " 55: 1,\n",
      " 56: 2,\n",
      " 57: 1,\n",
      " 58: 1,\n",
      " 63: 2,\n",
      " 64: 1,\n",
      " 66: 2,\n",
      " 70: 3,\n",
      " 72: 1,\n",
      " 74: 1,\n",
      " 75: 1,\n",
      " 79: 1,\n",
      " 81: 1,\n",
      " 82: 1,\n",
      " 84: 4,\n",
      " 85: 3,\n",
      " 86: 1,\n",
      " 87: 1,\n",
      " 88: 1,\n",
      " 89: 2,\n",
      " 90: 1,\n",
      " 91: 3,\n",
      " 92: 1,\n",
      " 94: 1,\n",
      " 95: 1,\n",
      " 96: 1,\n",
      " 98: 1,\n",
      " 99: 1}\n"
     ]
    }
   ],
   "source": [
    "l = [36, 45, 58, 3, 74, 96, 64, 45, 31, 10, 24, 19, 33, 86, 99, 18, 63, 70, 85,\n",
    " 85, 63, 47, 56, 42, 70, 84, 88, 55, 20, 54, 8, 56, 51, 79, 81, 57, 37, 91,\n",
    " 1, 84, 84, 36, 66, 9, 89, 50, 42, 91, 50, 95, 90, 98, 39, 16, 82, 31, 92, 41,\n",
    " 45, 30, 66, 70, 34, 85, 94, 5, 3, 36, 72, 91, 84, 34, 87, 75, 53, 51, 20, 89, 51, 20]\n",
    "pprint(count_char(l))"
   ]
  },
  {
   "cell_type": "markdown",
   "id": "46f82f9a-5280-423f-b57c-b2564bbbbb94",
   "metadata": {},
   "source": [
    "6. Combination of functions\n",
    "\n",
    "Write two functions - one that returns the square of a number, and one that returns the cube. Now write a third function that returns the number raised to the 6th power using the two previous functions."
   ]
  },
  {
   "cell_type": "code",
   "execution_count": 15,
   "id": "33fec8d9-4c4d-4609-b12f-7110d5c00984",
   "metadata": {},
   "outputs": [
    {
     "name": "stdout",
     "output_type": "stream",
     "text": [
      "729 729\n"
     ]
    }
   ],
   "source": [
    "from typing import Callable\n",
    "\n",
    "def square(x):\n",
    "    return x ** 2\n",
    "\n",
    "def cube(x):\n",
    "    return x ** 3\n",
    "\n",
    "def combine_powers(x, *args):\n",
    "    res = x\n",
    "    for p in args:\n",
    "        assert isinstance(p, Callable)\n",
    "        res = p(res)\n",
    "    return res\n",
    "\n",
    "x = 3\n",
    "print(x ** 6, combine_powers(x, square, cube))"
   ]
  },
  {
   "cell_type": "markdown",
   "id": "a43da15b-fd71-43c0-82a8-029672c37a83",
   "metadata": {},
   "source": [
    "7. Cubes\n",
    "\n",
    "Create a list of the cubes of x for x in [0, 10] using:\n",
    "\n",
    "a) a for loop\n",
    "\n",
    "b) a list comprehension"
   ]
  },
  {
   "cell_type": "code",
   "execution_count": 8,
   "id": "e3ec7a1c-aa0e-4518-8587-cfad951879e9",
   "metadata": {},
   "outputs": [
    {
     "name": "stdout",
     "output_type": "stream",
     "text": [
      "[0, 1, 8, 27, 64, 125, 216, 343, 512, 729, 1000]\n",
      "[0, 1, 8, 27, 64, 125, 216, 343, 512, 729, 1000]\n"
     ]
    }
   ],
   "source": [
    "x3_a = []\n",
    "for x in range(11):\n",
    "    x3_a.append(x ** 3)\n",
    "    \n",
    "x3_b = [x ** 3 for x in range(11)]\n",
    "\n",
    "print(x3_a)\n",
    "print(x3_b)"
   ]
  },
  {
   "cell_type": "markdown",
   "id": "3b2ca485-dcbc-441d-bac2-191a3f3ea1f0",
   "metadata": {},
   "source": [
    "8. Nested list comprehension\n",
    "\n",
    "A Pythagorean triple is an integer solution to the Pythagorean theorem $a^2+b^2=c^2$. The first Pythagorean triple is (3,4,5). Find and put in a tuple all unique Pythagorean triples for the positive integers a, b and c less than 100."
   ]
  },
  {
   "cell_type": "code",
   "execution_count": 11,
   "id": "3d58d42a-322e-4ccb-8a94-b5b41a12bcfe",
   "metadata": {},
   "outputs": [
    {
     "name": "stdout",
     "output_type": "stream",
     "text": [
      "[(3, 4, 5),\n",
      " (5, 12, 13),\n",
      " (6, 8, 10),\n",
      " (7, 24, 25),\n",
      " (8, 15, 17),\n",
      " (9, 12, 15),\n",
      " (9, 40, 41),\n",
      " (10, 24, 26),\n",
      " (11, 60, 61),\n",
      " (12, 16, 20),\n",
      " (12, 35, 37),\n",
      " (13, 84, 85),\n",
      " (14, 48, 50),\n",
      " (15, 20, 25),\n",
      " (15, 36, 39),\n",
      " (16, 30, 34),\n",
      " (16, 63, 65),\n",
      " (18, 24, 30),\n",
      " (18, 80, 82),\n",
      " (20, 21, 29),\n",
      " (20, 48, 52),\n",
      " (21, 28, 35),\n",
      " (21, 72, 75),\n",
      " (24, 32, 40),\n",
      " (24, 45, 51),\n",
      " (24, 70, 74),\n",
      " (25, 60, 65),\n",
      " (27, 36, 45),\n",
      " (28, 45, 53),\n",
      " (30, 40, 50),\n",
      " (30, 72, 78),\n",
      " (32, 60, 68),\n",
      " (33, 44, 55),\n",
      " (33, 56, 65),\n",
      " (35, 84, 91),\n",
      " (36, 48, 60),\n",
      " (36, 77, 85),\n",
      " (39, 52, 65),\n",
      " (39, 80, 89),\n",
      " (40, 42, 58),\n",
      " (40, 75, 85),\n",
      " (42, 56, 70),\n",
      " (45, 60, 75),\n",
      " (48, 55, 73),\n",
      " (48, 64, 80),\n",
      " (51, 68, 85),\n",
      " (54, 72, 90),\n",
      " (57, 76, 95),\n",
      " (60, 63, 87),\n",
      " (65, 72, 97)]\n"
     ]
    }
   ],
   "source": [
    "c = lambda x1, x2 : (x1 ** 2  +  x2 ** 2) ** 0.5\n",
    "pit =  [ (a, b, int(c(a, b))) for a in range(1, 100) \\\n",
    "                              for b in range(a, 100) \\\n",
    "        if  c(a, b).is_integer() and c(a, b) < 100]\n",
    "pprint(pit)"
   ]
  },
  {
   "cell_type": "markdown",
   "id": "63b1544e-4950-4f94-a449-8c8e21bd1382",
   "metadata": {},
   "source": [
    "9. Normalization\n",
    "\n",
    "Write a function that takes a tuple of numbers and returns it with the entries normalized to one"
   ]
  },
  {
   "cell_type": "code",
   "execution_count": 12,
   "id": "4a1e9afd-9168-408a-8afc-16f5e9aba3b6",
   "metadata": {},
   "outputs": [
    {
     "name": "stdout",
     "output_type": "stream",
     "text": [
      "(3, 4) -> (0.6, 0.8)\n",
      "norm:  1.0\n"
     ]
    }
   ],
   "source": [
    "def norm(u: tuple):\n",
    "    f = (sum([x ** 2 for x in u])) ** 0.5\n",
    "    return tuple([x / f for x in u])\n",
    "x = (3, 4)\n",
    "print(f'{x} -> {norm(x)}')\n",
    "print('norm: ', sum([x ** 2 for x in norm(x)]) ** 0.5)"
   ]
  },
  {
   "cell_type": "code",
   "execution_count": null,
   "id": "b4a388ed-4621-488c-9338-763093b0ea37",
   "metadata": {},
   "outputs": [],
   "source": []
  },
  {
   "cell_type": "code",
   "execution_count": null,
   "id": "a498d0f9-27af-4802-a327-df70f6d7c83a",
   "metadata": {},
   "outputs": [],
   "source": []
  }
 ],
 "metadata": {
  "kernelspec": {
   "display_name": "Python 3 (ipykernel)",
   "language": "python",
   "name": "python3"
  },
  "language_info": {
   "codemirror_mode": {
    "name": "ipython",
    "version": 3
   },
   "file_extension": ".py",
   "mimetype": "text/x-python",
   "name": "python",
   "nbconvert_exporter": "python",
   "pygments_lexer": "ipython3",
   "version": "3.9.7"
  }
 },
 "nbformat": 4,
 "nbformat_minor": 5
}
