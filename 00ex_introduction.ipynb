{
 "cells": [
  {
   "cell_type": "markdown",
   "metadata": {},
   "source": [
    "1. The MickeyMouse problem\n",
    "\n",
    "a) Write a program that prints the numbers from 1 to 100. But for multiples of three print Mickey instead of the number and for the multiples of five print Mouse. For numbers which are multiples of both three and five print MickeyMouse\n",
    "\n",
    "b) Put the result in a tuple and substitute Mickey with Donald and Mouse with Duck"
   ]
  },
  {
   "cell_type": "code",
   "execution_count": 11,
   "metadata": {},
   "outputs": [
    {
     "name": "stdout",
     "output_type": "stream",
     "text": [
      "[1, 2, 'Mickey', 4, 'Mouse', 'Mickey', 7, 8, 'Mickey', 'Mouse', 11, 'Mickey', 13, 14, 'MickeyMouse', 16, 17, 'Mickey', 19, 'Mouse', 'Mickey', 22, 23, 'Mickey', 'Mouse', 26, 'Mickey', 28, 29, 'MickeyMouse', 31, 32, 'Mickey', 34, 'Mouse', 'Mickey', 37, 38, 'Mickey', 'Mouse', 41, 'Mickey', 43, 44, 'MickeyMouse', 46, 47, 'Mickey', 49, 'Mouse', 'Mickey', 52, 53, 'Mickey', 'Mouse', 56, 'Mickey', 58, 59, 'MickeyMouse', 61, 62, 'Mickey', 64, 'Mouse', 'Mickey', 67, 68, 'Mickey', 'Mouse', 71, 'Mickey', 73, 74, 'MickeyMouse', 76, 77, 'Mickey', 79, 'Mouse', 'Mickey', 82, 83, 'Mickey', 'Mouse', 86, 'Mickey', 88, 89, 'MickeyMouse', 91, 92, 'Mickey', 94, 'Mouse', 'Mickey', 97, 98, 'Mickey', 'Mouse']\n",
      "\n",
      "\n",
      "(1, 2, 'Donald', 4, 'Duck', 'Donald', 7, 8, 'Donald', 'Duck', 11, 'Donald', 13, 14, 'MickeyMouse', 16, 17, 'Donald', 19, 'Duck', 'Donald', 22, 23, 'Donald', 'Duck', 26, 'Donald', 28, 29, 'MickeyMouse', 31, 32, 'Donald', 34, 'Duck', 'Donald', 37, 38, 'Donald', 'Duck', 41, 'Donald', 43, 44, 'MickeyMouse', 46, 47, 'Donald', 49, 'Duck', 'Donald', 52, 53, 'Donald', 'Duck', 56, 'Donald', 58, 59, 'MickeyMouse', 61, 62, 'Donald', 64, 'Duck', 'Donald', 67, 68, 'Donald', 'Duck', 71, 'Donald', 73, 74, 'MickeyMouse', 76, 77, 'Donald', 79, 'Duck', 'Donald', 82, 83, 'Donald', 'Duck', 86, 'Donald', 88, 89, 'MickeyMouse', 91, 92, 'Donald', 94, 'Duck', 'Donald', 97, 98, 'Donald', 'Duck')\n"
     ]
    }
   ],
   "source": [
    "l=[]\n",
    "for x in range(1,101):\n",
    "    if x%3==0 and x%5==0:\n",
    "        l.append(\"MickeyMouse\")\n",
    "    elif x%3==0:\n",
    "        l.append(\"Mickey\")\n",
    "    elif x%5==0:\n",
    "        l.append(\"Mouse\")\n",
    "    else:\n",
    "        l.append(x)\n",
    "print(l)\n",
    "\n",
    "# b cannot be done. I should change the list and then convert it to a tuple\n",
    "for i in range(len(l)):\n",
    "    if l[i]==\"Mickey\":\n",
    "        l[i]=\"Donald\"\n",
    "    elif l[i]==\"Mouse\":\n",
    "        l[i]=\"Duck\"\n",
    "t=tuple(l)\n",
    "print(\"\\n\")\n",
    "print(t)"
   ]
  },
  {
   "cell_type": "markdown",
   "metadata": {},
   "source": [
    "2\\. The swap function\n",
    "\n",
    "Write a function that swap the values of two input variables x and y (whatever the type). Try to do that also without a temporary variable"
   ]
  },
  {
   "cell_type": "code",
   "execution_count": 12,
   "metadata": {},
   "outputs": [
    {
     "name": "stdout",
     "output_type": "stream",
     "text": [
      "x =  5\n",
      "y =  3\n"
     ]
    }
   ],
   "source": [
    "# I made it directly without a temporary variables\n",
    "x=3\n",
    "y=5\n",
    "x,y=y,x\n",
    "print(\"x = \",x)\n",
    "print(\"y = \",y)"
   ]
  },
  {
   "cell_type": "markdown",
   "metadata": {},
   "source": [
    "3\\. Computing the distance\n",
    "\n",
    "Write a function that calculates and returns the euclidean distance between two points *u* and *v*, where *u* and *v* are both 2-tuples *(x,y)*. For example, if *u=(3,0)* and *v=(0,4)*, the function should return 5"
   ]
  },
  {
   "cell_type": "code",
   "execution_count": 13,
   "metadata": {},
   "outputs": [
    {
     "name": "stdout",
     "output_type": "stream",
     "text": [
      "x = (8.49 , 1.54)\n",
      "y = (5.49 , 3.75)\n",
      "d = 3.72\n"
     ]
    }
   ],
   "source": [
    "from random import random\n",
    "from math import sqrt\n",
    "x=(random()*10,random()*10)                      # genero i valori casualmete\n",
    "y=(random()*10,random()*10)\n",
    "def distance(x,y):                               # definisco la funzione distanza\n",
    "    return sqrt((x[0]-y[0])**2+(x[1]-y[1])**2)\n",
    "print(\"x = (%.2f , %.2f)\" %(x[0],x[1]))\n",
    "print(\"y = (%.2f , %.2f)\" %(y[0],y[1]))\n",
    "print(\"d = %.2f\" %distance(x,y))"
   ]
  },
  {
   "cell_type": "markdown",
   "metadata": {},
   "source": [
    "4\\. Counting letters\n",
    "\n",
    "Write a program to calculate the number of times each character occurs in a given string *s*. Ignore differneces in capitalization"
   ]
  },
  {
   "cell_type": "code",
   "execution_count": 14,
   "metadata": {},
   "outputs": [
    {
     "name": "stdout",
     "output_type": "stream",
     "text": [
      "Character\tNumber recurrence\n",
      "a\t\t3\n",
      "c\t\t3\n",
      "d\t\t1\n",
      "e\t\t3\n",
      "h\t\t1\n",
      "n\t\t1\n",
      "o\t\t2\n",
      "r\t\t3\n",
      "s\t\t1\n",
      "t\t\t1\n",
      "ò\t\t1\n"
     ]
    }
   ],
   "source": [
    "s = s2 = \"CRedo che tornerò a casa\"      # S stringa originaria, s2 verrà utilizzata per raggiungere l'obiettivo\n",
    "s=s.lower()                              # trasformo i caratteri maiuscoli in minuscoli\n",
    "s2=s2.lower()\n",
    "s2=list(s2)\n",
    "while(' ' in s2):                        # rimuovo in anticipo gli spazi (il codice dava problemi eliminandoli alla fine)\n",
    "    s2.remove(' ')\n",
    "\n",
    "i=0\n",
    "while i<len(s2):                         # itero su tutti gli elementi di s2 eliminando quelli che sono ripetuti\n",
    "    if s2.count(s2[i])>1:\n",
    "        s2.remove(s2[i])\n",
    "        i=i-1\n",
    "    i=i+1\n",
    "\n",
    "c=[s.count(x) for x in s2]               # conto quante volte ciascuna lettera è ripetuta nella frase\n",
    "zipped_lists = zip(s2,c)                 # in queste 4 righe, ordino in ordine alfabetico\n",
    "zipped_lists=sorted(zipped_lists)\n",
    "tuples=zip(*zipped_lists)\n",
    "s2,c = [list(x) for x in tuples]\n",
    "\n",
    "print(\"Character\\tNumber recurrence\")   #output\n",
    "for i in range(len(s2)):\n",
    "    print(\"%s\\t\\t%d\" %(s2[i],c[i]))"
   ]
  },
  {
   "cell_type": "markdown",
   "metadata": {},
   "source": [
    "5\\. Isolating the unique\n",
    "\n",
    "Write a function that determines and count the unique numbers in the list *l*"
   ]
  },
  {
   "cell_type": "code",
   "execution_count": 15,
   "metadata": {},
   "outputs": [
    {
     "name": "stdout",
     "output_type": "stream",
     "text": [
      "Number repeated only one time in the list :\n",
      "[58, 74, 96, 64, 10, 24, 19, 33, 86, 99, 18, 47, 88, 55, 54, 8, 79, 81, 57, 37, 1, 9, 95, 90, 98, 39, 16, 82, 92, 41, 30, 94, 5, 72, 87, 75, 53]\n",
      "# of numbers repeated only one time: 37\n"
     ]
    }
   ],
   "source": [
    "l = [36, 45, 58, 3, 74, 96, 64, 45, 31, 10, 24, 19, 33, 86, 99, 18, 63, 70, 85,\n",
    " 85, 63, 47, 56, 42, 70, 84, 88, 55, 20, 54, 8, 56, 51, 79, 81, 57, 37, 91,\n",
    " 1, 84, 84, 36, 66, 9, 89, 50, 42, 91, 50, 95, 90, 98, 39, 16, 82, 31, 92, 41,\n",
    " 45, 30, 66, 70, 34, 85, 94, 5, 3, 36, 72, 91, 84, 34, 87, 75, 53, 51, 20, 89, 51, 20]\n",
    "c = [x for x in l if l.count(x)==1]\n",
    "print(\"Number repeated only one time in the list :\")\n",
    "print(c)\n",
    "print(f\"# of numbers repeated only one time: {len(c)}\")"
   ]
  },
  {
   "cell_type": "markdown",
   "metadata": {},
   "source": [
    "6\\. Combination of functions\n",
    "\n",
    "Write two functions - one that returns the square of a number, and one that returns the cube. Now write a third function that returns the number raised to the 6th power using the two previous functions."
   ]
  },
  {
   "cell_type": "code",
   "execution_count": 16,
   "metadata": {},
   "outputs": [
    {
     "name": "stdout",
     "output_type": "stream",
     "text": [
      "x^2 = 25\n",
      "x^3 = 125\n",
      "x^6 = 15625\n"
     ]
    }
   ],
   "source": [
    "x=5\n",
    "\n",
    "def square(x):\n",
    "    return x**2\n",
    "def cube(x):\n",
    "    return x**3\n",
    "def sixth(x):\n",
    "    return square(cube(x))\n",
    "\n",
    "print(f\"x^2 = {square(x)}\")\n",
    "print(f\"x^3 = {cube(x)}\")\n",
    "print(f\"x^6 = {sixth(x)}\")"
   ]
  },
  {
   "cell_type": "markdown",
   "metadata": {},
   "source": [
    "7\\. Cubes\n",
    "\n",
    "Create a list of the cubes of x for x in *[0, 10]* using:\n",
    "\n",
    "a) a for loop\n",
    "\n",
    "b) a list comprehension"
   ]
  },
  {
   "cell_type": "code",
   "execution_count": 18,
   "metadata": {},
   "outputs": [
    {
     "name": "stdout",
     "output_type": "stream",
     "text": [
      "[0, 1, 8, 27, 64, 125, 216, 343, 512, 729, 1000]\n",
      "[0, 1, 8, 27, 64, 125, 216, 343, 512, 729, 1000]\n"
     ]
    }
   ],
   "source": [
    "c1 = []\n",
    "for x in range(11):\n",
    "    c1.append(x**3)\n",
    "c2=[x**3 for x in range(11)]\n",
    "print(c1)\n",
    "print(c2)"
   ]
  },
  {
   "cell_type": "markdown",
   "metadata": {},
   "source": [
    "8\\. Nested list comprehension\n",
    "\n",
    "A Pythagorean triple is an integer solution to the Pythagorean theorem $a^2+b^2=c^2$. The first Pythagorean triple is (3,4,5). Find and put in a tuple all unique Pythagorean triples for the positive integers a, b and c less than 100."
   ]
  },
  {
   "cell_type": "code",
   "execution_count": 10,
   "metadata": {},
   "outputs": [
    {
     "name": "stdout",
     "output_type": "stream",
     "text": [
      "[3, 4, 5]\n",
      "[5, 12, 13]\n",
      "[15, 8, 17]\n",
      "[7, 24, 25]\n",
      "[21, 20, 29]\n",
      "[9, 40, 41]\n",
      "[35, 12, 37]\n",
      "[11, 60, 61]\n",
      "[45, 28, 53]\n",
      "[33, 56, 65]\n",
      "[13, 84, 85]\n",
      "[63, 16, 65]\n",
      "[55, 48, 73]\n",
      "[39, 80, 89]\n",
      "[77, 36, 85]\n",
      "[65, 72, 97]\n"
     ]
    }
   ],
   "source": [
    "from numpy import sqrt\n",
    "m=1\n",
    "m_saved=[]\n",
    "n_saved=[]\n",
    "\n",
    "def MCD(m,n):                                                     # algoritmo di Euclide\n",
    "    while n!=0:\n",
    "        m, n = n, m % n\n",
    "    return m\n",
    "\n",
    "for m in range(1,10):                                             # cerco due numeri che generino la terna pitagorica\n",
    "    for n in range(1,m):\n",
    "        if MCD(m,n)==1 and ( (m+n)%2==1 and n<sqrt(100-m**2) ):\n",
    "            m_saved.append(m)\n",
    "            n_saved.append(n)\n",
    "\n",
    "triple=[[m_saved[i]**2-n_saved[i]**2, 2*m_saved[i]*n_saved[i], m_saved[i]**2+n_saved[i]**2] for i in range(len(m_saved)) ]\n",
    "triple=tuple(triple)                                            # sopra genero la terna pitagorica, qui converto array in tupla\n",
    "for i in range(len(triple)):\n",
    "    print(triple[i])"
   ]
  },
  {
   "cell_type": "markdown",
   "metadata": {},
   "source": [
    "9\\. Normalization\n",
    "\n",
    "Write a function that takes a tuple of numbers and returns it with the entries normalized to one"
   ]
  },
  {
   "cell_type": "code",
   "execution_count": 14,
   "metadata": {},
   "outputs": [
    {
     "name": "stdout",
     "output_type": "stream",
     "text": [
      "[0.2672612419124244, 0.5345224838248488, 0.8017837257372732]\n"
     ]
    }
   ],
   "source": [
    "from math import sqrt\n",
    "def normalization(x):\n",
    "    x2=[i**2 for i in x]\n",
    "    norma=sqrt(sum(x2))\n",
    "    x_norm=[i/norma for i in x]\n",
    "    return x_norm\n",
    "\n",
    "vec = (1,2,3)                            # definizione tuple di prova\n",
    "print(normalization(vec))"
   ]
  }
 ],
 "metadata": {
  "kernelspec": {
   "display_name": "Python 3",
   "language": "python",
   "name": "python3"
  },
  "language_info": {
   "codemirror_mode": {
    "name": "ipython",
    "version": 3
   },
   "file_extension": ".py",
   "mimetype": "text/x-python",
   "name": "python",
   "nbconvert_exporter": "python",
   "pygments_lexer": "ipython3",
   "version": "3.7.6"
  }
 },
 "nbformat": 4,
 "nbformat_minor": 2
}
