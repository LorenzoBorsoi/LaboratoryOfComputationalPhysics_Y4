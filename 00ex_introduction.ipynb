{
 "cells": [
  {
   "cell_type": "markdown",
   "metadata": {},
   "source": [
    "1\\. The MickeyMouse problem\n",
    "\n",
    "a) Write a program that prints the numbers from 1 to 100. But for multiples of three print Mickey instead of the number and for the multiples of five print Mouse. For numbers which are multiples of both three and five print MickeyMouse\n",
    "\n",
    "b) Put the result in a tuple and substitute Mickey with Donald and Mouse with Duck"
   ]
  },
  {
   "cell_type": "code",
   "execution_count": null,
   "metadata": {},
   "outputs": [
    {
     "name": "stdout",
     "output_type": "stream",
     "text": [
      "1\n",
      "2\n",
      "Mickey\n",
      "4\n",
      "Mouse\n",
      "Mickey\n",
      "7\n",
      "8\n",
      "Mickey\n",
      "Mouse\n",
      "11\n",
      "Mickey\n",
      "13\n",
      "14\n",
      "MickeyMouse\n",
      "16\n",
      "17\n",
      "Mickey\n",
      "19\n",
      "Mouse\n",
      "Mickey\n",
      "22\n",
      "23\n",
      "Mickey\n",
      "Mouse\n",
      "26\n",
      "Mickey\n",
      "28\n",
      "29\n",
      "MickeyMouse\n",
      "31\n",
      "32\n",
      "Mickey\n",
      "34\n",
      "Mouse\n",
      "Mickey\n",
      "37\n",
      "38\n",
      "Mickey\n",
      "Mouse\n",
      "41\n",
      "Mickey\n",
      "43\n",
      "44\n",
      "MickeyMouse\n",
      "46\n",
      "47\n",
      "Mickey\n",
      "49\n",
      "Mouse\n",
      "Mickey\n",
      "52\n",
      "53\n",
      "Mickey\n",
      "Mouse\n",
      "56\n",
      "Mickey\n",
      "58\n",
      "59\n",
      "MickeyMouse\n",
      "61\n",
      "62\n",
      "Mickey\n",
      "64\n",
      "Mouse\n",
      "Mickey\n",
      "67\n",
      "68\n",
      "Mickey\n",
      "Mouse\n",
      "71\n",
      "Mickey\n",
      "73\n",
      "74\n",
      "MickeyMouse\n",
      "76\n",
      "77\n",
      "Mickey\n",
      "79\n",
      "Mouse\n",
      "Mickey\n",
      "82\n",
      "83\n",
      "Mickey\n",
      "Mouse\n",
      "86\n",
      "Mickey\n",
      "88\n",
      "89\n",
      "MickeyMouse\n",
      "91\n",
      "92\n",
      "Mickey\n",
      "94\n",
      "Mouse\n",
      "Mickey\n",
      "97\n",
      "98\n",
      "Mickey\n",
      "Mouse\n"
     ]
    }
   ],
   "source": [
    "# a)\n",
    "\n",
    "for i in range(1, 101):\n",
    "    if i%3 == 0 and i%5 == 0:\n",
    "        print('MickeyMouse')\n",
    "    elif i%3 == 0: \n",
    "        print('Mickey')\n",
    "    elif i%5 == 0:\n",
    "        print('Mouse')\n",
    "    else:\n",
    "        print(i)"
   ]
  },
  {
   "cell_type": "code",
   "execution_count": 13,
   "metadata": {},
   "outputs": [
    {
     "name": "stdout",
     "output_type": "stream",
     "text": [
      "(1, 2, 'Donald', 4, 'Duck', 'Donald', 7, 8, 'Donald', 'Duck', 11, 'Donald', 13, 14, 'MickeyMouse', 16, 17, 'Donald', 19, 'Duck', 'Donald', 22, 23, 'Donald', 'Duck', 26, 'Donald', 28, 29, 'MickeyMouse', 31, 32, 'Donald', 34, 'Duck', 'Donald', 37, 38, 'Donald', 'Duck', 41, 'Donald', 43, 44, 'MickeyMouse', 46, 47, 'Donald', 49, 'Duck', 'Donald', 52, 53, 'Donald', 'Duck', 56, 'Donald', 58, 59, 'MickeyMouse', 61, 62, 'Donald', 64, 'Duck', 'Donald', 67, 68, 'Donald', 'Duck', 71, 'Donald', 73, 74, 'MickeyMouse', 76, 77, 'Donald', 79, 'Duck', 'Donald', 82, 83, 'Donald', 'Duck', 86, 'Donald', 88, 89, 'MickeyMouse', 91, 92, 'Donald', 94, 'Duck', 'Donald', 97, 98, 'Donald', 'Duck')\n"
     ]
    }
   ],
   "source": [
    "# b)\n",
    "\n",
    "mylist = []\n",
    "\n",
    "for i in range(1, 101):\n",
    "    if i%3 == 0 and i%5 == 0:\n",
    "        mylist.append('MickeyMouse')\n",
    "    elif i%3 == 0: \n",
    "        mylist.append('Mickey')\n",
    "    elif i%5 == 0:\n",
    "        mylist.append('Mouse')\n",
    "    else:\n",
    "        mylist.append(i)\n",
    "\n",
    "for i in range(len(mylist)):\n",
    "    if mylist[i] == 'Mickey':\n",
    "        mylist[i] = 'Donald'\n",
    "    elif mylist[i] == 'Mouse':\n",
    "        mylist[i] = 'Duck'\n",
    "        \n",
    "print(tuple(mylist))"
   ]
  },
  {
   "cell_type": "code",
   "execution_count": 16,
   "metadata": {},
   "outputs": [
    {
     "name": "stdout",
     "output_type": "stream",
     "text": [
      "(1, 2, 'Donald', 4, 'Duck', 'Donald', 7, 8, 'Donald', 'Duck', 11, 'Donald', 13, 14, 'MickeyMouse', 16, 17, 'Donald', 19, 'Duck', 'Donald', 22, 23, 'Donald', 'Duck', 26, 'Donald', 28, 29, 'MickeyMouse', 31, 32, 'Donald', 34, 'Duck', 'Donald', 37, 38, 'Donald', 'Duck', 41, 'Donald', 43, 44, 'MickeyMouse', 46, 47, 'Donald', 49, 'Duck', 'Donald', 52, 53, 'Donald', 'Duck', 56, 'Donald', 58, 59, 'MickeyMouse', 61, 62, 'Donald', 64, 'Duck', 'Donald', 67, 68, 'Donald', 'Duck', 71, 'Donald', 73, 74, 'MickeyMouse', 76, 77, 'Donald', 79, 'Duck', 'Donald', 82, 83, 'Donald', 'Duck', 86, 'Donald', 88, 89, 'MickeyMouse', 91, 92, 'Donald', 94, 'Duck', 'Donald', 97, 98, 'Donald', 'Duck')\n"
     ]
    }
   ],
   "source": [
    "# b) another way:\n",
    "\n",
    "mylist = []\n",
    "\n",
    "for i in range(1, 101):\n",
    "    if i%3 == 0 and i%5 == 0:\n",
    "        mylist.append('MickeyMouse')\n",
    "    elif i%3 == 0: \n",
    "        mylist.append('Mickey')\n",
    "    elif i%5 == 0:\n",
    "        mylist.append('Mouse')\n",
    "    else:\n",
    "        mylist.append(i)\n",
    "        \n",
    "while 'Mickey' in mylist:\n",
    "    index = mylist.index('Mickey')\n",
    "    mylist[index] = 'Donald'\n",
    "    \n",
    "while 'Mouse' in mylist:\n",
    "    index = mylist.index('Mouse')\n",
    "    mylist[index] = 'Duck'\n",
    "    \n",
    "print(tuple(mylist))"
   ]
  },
  {
   "cell_type": "markdown",
   "metadata": {},
   "source": [
    "2\\. The swap function\n",
    "\n",
    "Write a function that swap the values of two input variables x and y (whatever the type). Try to do that also without a temporary variable"
   ]
  },
  {
   "cell_type": "code",
   "execution_count": 18,
   "metadata": {},
   "outputs": [
    {
     "name": "stdout",
     "output_type": "stream",
     "text": [
      "(10, 5)\n",
      "(10, 5)\n",
      "(45.12, 'test')\n",
      "(45.12, 'test')\n"
     ]
    }
   ],
   "source": [
    "# with a temporary variable\n",
    "def swapValuesTemp(x, y):\n",
    "    t = x\n",
    "    x = y\n",
    "    y = t\n",
    "    return x, y\n",
    "\n",
    "# without a temporary variable\n",
    "def swapValues(x, y):\n",
    "    return y, x\n",
    "\n",
    "print(swapValuesTemp(5, 10)) \n",
    "print(swapValues(5, 10))   \n",
    "\n",
    "print(swapValuesTemp('test', 45.12)) \n",
    "print(swapValues('test', 45.12))"
   ]
  },
  {
   "cell_type": "markdown",
   "metadata": {},
   "source": [
    "3\\. Computing the distance\n",
    "\n",
    "Write a function that calculates and returns the euclidean distance between two points *u* and *v*, where *u* and *v* are both 2-tuples *(x,y)*. For example, if *u=(3,0)* and *v=(0,4)*, the function should return 5"
   ]
  },
  {
   "cell_type": "code",
   "execution_count": 25,
   "metadata": {},
   "outputs": [
    {
     "name": "stdout",
     "output_type": "stream",
     "text": [
      "Distance between u and v: 5.0\n",
      "Distance between x and y: 13.0\n",
      "Error: the dimensions of the 2 points are not equal!\n",
      "Distance between u and x: NaN\n"
     ]
    }
   ],
   "source": [
    "import math \n",
    "\n",
    "def euclideanDistance(u, v):\n",
    "    if len(u)!=len(v):\n",
    "        print('Error: the dimensions of the 2 points are not equal!')\n",
    "        return 'NaN'\n",
    "        \n",
    "    dim = len(u)\n",
    "    distsquare = 0\n",
    "    for i in range(dim):\n",
    "        distsquare += (u[i]-v[i])**2\n",
    "    return math.sqrt(distsquare)\n",
    "\n",
    "u = (3,0)\n",
    "v = (0,4)\n",
    "print('Distance between u and v:', euclideanDistance(u, v))\n",
    "\n",
    "x = (6, 0, 0)\n",
    "y = (1, 0, 12)\n",
    "\n",
    "print('Distance between x and y:', euclideanDistance(x, y))\n",
    "\n",
    "print('Distance between u and x:', euclideanDistance(u, x))"
   ]
  },
  {
   "cell_type": "markdown",
   "metadata": {},
   "source": [
    "4\\. Counting letters\n",
    "\n",
    "Write a program to calculate the number of times each character occurs in a given string *s*. Ignore differneces in capitalization"
   ]
  },
  {
   "cell_type": "code",
   "execution_count": 26,
   "metadata": {},
   "outputs": [
    {
     "name": "stdout",
     "output_type": "stream",
     "text": [
      "Number of time w occurs in s: 2\n"
     ]
    }
   ],
   "source": [
    "def numberCharacterInString(mychar, mystr):\n",
    "    lowerstr = mystr.lower()\n",
    "    charlist = [i for i in lowerstr if i==mychar]\n",
    "    return len(charlist)\n",
    "    \n",
    "\n",
    "s = \"Write a program that prints the numbers from 1 to 100. \\\n",
    "But for multiples of three print Mickey instead of the number and for the multiples of five print Mouse. \\\n",
    "For numbers which are multiples of both three and five print MickeyMouse\"\n",
    "\n",
    "c = 'w'\n",
    "print('Number of time', c, 'occurs in s:',  numberCharacterInString(c, s))"
   ]
  },
  {
   "cell_type": "markdown",
   "metadata": {},
   "source": [
    "5\\. Isolating the unique\n",
    "\n",
    "Write a function that determines and count the unique numbers in the list *l*"
   ]
  },
  {
   "cell_type": "code",
   "execution_count": 34,
   "metadata": {},
   "outputs": [
    {
     "name": "stdout",
     "output_type": "stream",
     "text": [
      "Unique numbers in the list: [1, 5, 8, 9, 10, 16, 18, 19, 24, 30, 33, 37, 39, 41, 47, 53, 54, 55, 57, 58, 64, 72, 74, 75, 79, 81, 82, 86, 87, 88, 90, 92, 94, 95, 96, 98, 99]\n",
      "Number of unique numbers in the list 37\n"
     ]
    }
   ],
   "source": [
    "l = [36, 45, 58, 3, 74, 96, 64, 45, 31, 10, 24, 19, 33, 86, 99, 18, 63, 70, 85,\n",
    " 85, 63, 47, 56, 42, 70, 84, 88, 55, 20, 54, 8, 56, 51, 79, 81, 57, 37, 91,\n",
    " 1, 84, 84, 36, 66, 9, 89, 50, 42, 91, 50, 95, 90, 98, 39, 16, 82, 31, 92, 41,\n",
    " 45, 30, 66, 70, 34, 85, 94, 5, 3, 36, 72, 91, 84, 34, 87, 75, 53, 51, 20, 89, 51, 20]\n",
    "\n",
    "def uniqueNumbers1(nlist):\n",
    "    nlist.sort()\n",
    "    i=1\n",
    "    while i<len(nlist):\n",
    "        if nlist[i] == nlist[i-1]:  # repetition condition (the list is sorted)\n",
    "            value = nlist[i]\n",
    "            while value in nlist: nlist.remove(value)\n",
    "            i-=1                    # because I eliminated the values in positions (i) and (i-1)\n",
    "        else: i+=1\n",
    "            \n",
    "    return nlist\n",
    "\n",
    "uniques = uniqueNumbers1(l)\n",
    "print('Unique numbers in the list:', uniques)\n",
    "print('Number of unique numbers in the list', len(uniques))  "
   ]
  },
  {
   "cell_type": "code",
   "execution_count": 39,
   "metadata": {},
   "outputs": [
    {
     "name": "stdout",
     "output_type": "stream",
     "text": [
      "Unique numbers in the list: [1, 5, 8, 9, 10, 16, 18, 19, 24, 30, 33, 37, 39, 41, 47, 53, 54, 55, 57, 58, 64, 72, 74, 75, 79, 81, 82, 86, 87, 88, 90, 92, 94, 95, 96, 98, 99]\n",
      "Number of unique numbers in l: 37\n"
     ]
    }
   ],
   "source": [
    "# another way:\n",
    "\n",
    "def uniqueNumbers2(nlist):\n",
    "    uniqueList = []\n",
    "    for i in nlist:\n",
    "        if nlist.count(i)==1:\n",
    "            uniqueList.append(i)\n",
    "    uniqueList.sort()\n",
    "    return uniqueList\n",
    "\n",
    "uniqueList = uniqueNumbers2(l)\n",
    "\n",
    "print('Unique numbers in the list:', uniqueList)\n",
    "print('Number of unique numbers in l:', len(uniqueList))      \n"
   ]
  },
  {
   "cell_type": "markdown",
   "metadata": {},
   "source": [
    "6\\. Combination of functions\n",
    "\n",
    "Write two functions - one that returns the square of a number, and one that returns the cube. Now write a third function that returns the number raised to the 6th power using the two previous functions."
   ]
  },
  {
   "cell_type": "code",
   "execution_count": 9,
   "metadata": {},
   "outputs": [
    {
     "name": "stdout",
     "output_type": "stream",
     "text": [
      "Square: 4\n",
      "Cube: 8\n",
      "Sixth power: 64\n"
     ]
    }
   ],
   "source": [
    "def squarePower(n):\n",
    "    return n**2\n",
    "\n",
    "def cubePower(n):\n",
    "    return n**3\n",
    "\n",
    "def sixthPower(n):\n",
    "    return squarePower(cubePower(n))\n",
    "\n",
    "test = 2\n",
    "\n",
    "print('Square:', squarePower(test))\n",
    "print('Cube:', cubePower(test))\n",
    "print('Sixth power:', sixthPower(test))"
   ]
  },
  {
   "cell_type": "markdown",
   "metadata": {},
   "source": [
    "7\\. Cubes\n",
    "\n",
    "Create a list of the cubes of x for x in *[0, 10]* using:\n",
    "\n",
    "a) a for loop\n",
    "\n",
    "b) a list comprehension"
   ]
  },
  {
   "cell_type": "code",
   "execution_count": 24,
   "metadata": {},
   "outputs": [
    {
     "name": "stdout",
     "output_type": "stream",
     "text": [
      "List of the cubes: [0, 1, 8, 27, 64, 125, 216, 343, 512, 729, 1000]\n"
     ]
    }
   ],
   "source": [
    "# a) \n",
    "\n",
    "def cubeList1(l):\n",
    "    cubel = []\n",
    "    for i in range(len(l)):\n",
    "        cubel.append(l[i]**3)\n",
    "    return cubel\n",
    "\n",
    "testList = range(11)\n",
    "print('List of the cubes:', cubeList1(testList))"
   ]
  },
  {
   "cell_type": "code",
   "execution_count": 22,
   "metadata": {},
   "outputs": [
    {
     "name": "stdout",
     "output_type": "stream",
     "text": [
      "List of the cubes: [0, 1, 8, 27, 64, 125, 216, 343, 512, 729, 1000]\n"
     ]
    }
   ],
   "source": [
    "# b)\n",
    "\n",
    "def cubeList2(l):\n",
    "    return [i**3 for i in l]\n",
    "\n",
    "testList = range(11)\n",
    "print('List of the cubes:', cubeList2(testList))"
   ]
  },
  {
   "cell_type": "markdown",
   "metadata": {},
   "source": [
    "8\\. Nested list comprehension\n",
    "\n",
    "A Pythagorean triple is an integer solution to the Pythagorean theorem $a^2+b^2=c^2$. The first Pythagorean triple is (3,4,5). Find and put in a tuple all unique Pythagorean triples for the positive integers a, b and c less than 100."
   ]
  },
  {
   "cell_type": "code",
   "execution_count": 51,
   "metadata": {},
   "outputs": [
    {
     "name": "stdout",
     "output_type": "stream",
     "text": [
      "((3, 4, 5), (5, 12, 13), (6, 8, 10), (7, 24, 25), (8, 15, 17), (9, 12, 15), (9, 40, 41), (10, 24, 26), (11, 60, 61), (12, 16, 20), (12, 35, 37), (13, 84, 85), (14, 48, 50), (15, 20, 25), (15, 36, 39), (16, 30, 34), (16, 63, 65), (18, 24, 30), (18, 80, 82), (20, 21, 29), (20, 48, 52), (21, 28, 35), (21, 72, 75), (24, 32, 40), (24, 45, 51), (24, 70, 74), (25, 60, 65), (27, 36, 45), (28, 45, 53), (28, 96, 100), (30, 40, 50), (30, 72, 78), (32, 60, 68), (33, 44, 55), (33, 56, 65), (35, 84, 91), (36, 48, 60), (36, 77, 85), (39, 52, 65), (39, 80, 89), (40, 42, 58), (40, 75, 85), (42, 56, 70), (45, 60, 75), (48, 55, 73), (48, 64, 80), (51, 68, 85), (54, 72, 90), (57, 76, 95), (60, 63, 87), (60, 80, 100), (65, 72, 97))\n"
     ]
    }
   ],
   "source": [
    "# I assume a<b<c\n",
    "\n",
    "import math\n",
    "\n",
    "def pythagoreanTriples(nmax):\n",
    "    triples = []\n",
    "    for i in range(1, nmax):\n",
    "        for j in range(i+1, nmax):\n",
    "            k = math.sqrt(i**2+j**2)\n",
    "            if k<=nmax and k%1 == 0:\n",
    "                triples.append((i, j, int(k)))\n",
    "    return tuple(triples)\n",
    "\n",
    "print(pythagoreanTriples(100))"
   ]
  },
  {
   "cell_type": "markdown",
   "metadata": {},
   "source": [
    "9\\. Normalization\n",
    "\n",
    "Write a function that takes a tuple of numbers and returns it with the entries normalized to one"
   ]
  },
  {
   "cell_type": "code",
   "execution_count": 12,
   "metadata": {},
   "outputs": [
    {
     "name": "stdout",
     "output_type": "stream",
     "text": [
      "(0.35714285714285715, 0.4489795918367347, 0.5816326530612245, 0.02040816326530612, 0.7448979591836735, 0.9693877551020408, 0.6428571428571429, 0.4489795918367347, 0.30612244897959184, 0.09183673469387756, 0.23469387755102042, 0.1836734693877551, 0.32653061224489793, 0.8673469387755102, 1.0, 0.17346938775510204, 0.6326530612244898, 0.7040816326530612, 0.8571428571428571, 0.8571428571428571, 0.6326530612244898, 0.46938775510204084, 0.5612244897959183, 0.41836734693877553, 0.7040816326530612, 0.8469387755102041, 0.8877551020408163, 0.5510204081632653, 0.19387755102040816, 0.5408163265306123, 0.07142857142857142, 0.5612244897959183, 0.5102040816326531, 0.7959183673469388, 0.8163265306122449, 0.5714285714285714, 0.3673469387755102, 0.9183673469387755, 0.0, 0.8469387755102041, 0.8469387755102041, 0.35714285714285715, 0.6632653061224489, 0.08163265306122448, 0.8979591836734694, 0.5, 0.41836734693877553, 0.9183673469387755, 0.5, 0.9591836734693877, 0.9081632653061225, 0.9897959183673469, 0.3877551020408163, 0.15306122448979592, 0.826530612244898, 0.30612244897959184, 0.9285714285714286, 0.40816326530612246, 0.4489795918367347, 0.29591836734693877, 0.6632653061224489, 0.7040816326530612, 0.336734693877551, 0.8571428571428571, 0.9489795918367347, 0.04081632653061224, 0.02040816326530612, 0.35714285714285715, 0.7244897959183674, 0.9183673469387755, 0.8469387755102041, 0.336734693877551, 0.8775510204081632, 0.7551020408163265, 0.5306122448979592, 0.5102040816326531, 0.19387755102040816, 0.8979591836734694, 0.5102040816326531, 0.19387755102040816)\n"
     ]
    }
   ],
   "source": [
    "# using a for loop:\n",
    "\n",
    "test = (36, 45, 58, 3, 74, 96, 64, 45, 31, 10, 24, 19, 33, 86, 99, 18, 63, 70, 85,\n",
    " 85, 63, 47, 56, 42, 70, 84, 88, 55, 20, 54, 8, 56, 51, 79, 81, 57, 37, 91,\n",
    " 1, 84, 84, 36, 66, 9, 89, 50, 42, 91, 50, 95, 90, 98, 39, 16, 82, 31, 92, 41,\n",
    " 45, 30, 66, 70, 34, 85, 94, 5, 3, 36, 72, 91, 84, 34, 87, 75, 53, 51, 20, 89, 51, 20)\n",
    "\n",
    "def normalization1(nlist):\n",
    "    nmax = max(nlist)\n",
    "    nmin = min(nlist)\n",
    "    \n",
    "    normalizedList = []\n",
    "    \n",
    "    for i in range(len(nlist)):\n",
    "        normalizedList.append((nlist[i] - nmin)/(nmax-nmin))  \n",
    "    \n",
    "    return tuple(normalizedList)\n",
    "\n",
    "print(normalization1(test))"
   ]
  },
  {
   "cell_type": "code",
   "execution_count": 46,
   "metadata": {},
   "outputs": [
    {
     "name": "stdout",
     "output_type": "stream",
     "text": [
      "(0.35714285714285715, 0.4489795918367347, 0.5816326530612245, 0.02040816326530612, 0.7448979591836735, 0.9693877551020408, 0.6428571428571429, 0.4489795918367347, 0.30612244897959184, 0.09183673469387756, 0.23469387755102042, 0.1836734693877551, 0.32653061224489793, 0.8673469387755102, 1.0, 0.17346938775510204, 0.6326530612244898, 0.7040816326530612, 0.8571428571428571, 0.8571428571428571, 0.6326530612244898, 0.46938775510204084, 0.5612244897959183, 0.41836734693877553, 0.7040816326530612, 0.8469387755102041, 0.8877551020408163, 0.5510204081632653, 0.19387755102040816, 0.5408163265306123, 0.07142857142857142, 0.5612244897959183, 0.5102040816326531, 0.7959183673469388, 0.8163265306122449, 0.5714285714285714, 0.3673469387755102, 0.9183673469387755, 0.0, 0.8469387755102041, 0.8469387755102041, 0.35714285714285715, 0.6632653061224489, 0.08163265306122448, 0.8979591836734694, 0.5, 0.41836734693877553, 0.9183673469387755, 0.5, 0.9591836734693877, 0.9081632653061225, 0.9897959183673469, 0.3877551020408163, 0.15306122448979592, 0.826530612244898, 0.30612244897959184, 0.9285714285714286, 0.40816326530612246, 0.4489795918367347, 0.29591836734693877, 0.6632653061224489, 0.7040816326530612, 0.336734693877551, 0.8571428571428571, 0.9489795918367347, 0.04081632653061224, 0.02040816326530612, 0.35714285714285715, 0.7244897959183674, 0.9183673469387755, 0.8469387755102041, 0.336734693877551, 0.8775510204081632, 0.7551020408163265, 0.5306122448979592, 0.5102040816326531, 0.19387755102040816, 0.8979591836734694, 0.5102040816326531, 0.19387755102040816)\n"
     ]
    }
   ],
   "source": [
    "# using list comprehension:\n",
    "\n",
    "def normalization2(nlist):\n",
    "    nmax = max(nlist)\n",
    "    nmin = min(nlist)\n",
    "    \n",
    "    return tuple([(x - nmin)/(nmax-nmin) for x in nlist])\n",
    "\n",
    "print(normalization2(test))\n"
   ]
  }
 ],
 "metadata": {
  "interpreter": {
   "hash": "56cee935aa9a3f3637f03175b8d659cf88f72e32c50a44ffefdb433a8a4e1922"
  },
  "kernelspec": {
   "display_name": "Python 3.9.7 64-bit ('base': conda)",
   "name": "python3"
  },
  "language_info": {
   "codemirror_mode": {
    "name": "ipython",
    "version": 3
   },
   "file_extension": ".py",
   "mimetype": "text/x-python",
   "name": "python",
   "nbconvert_exporter": "python",
   "pygments_lexer": "ipython3",
   "version": "3.9.7"
  }
 },
 "nbformat": 4,
 "nbformat_minor": 2
}
