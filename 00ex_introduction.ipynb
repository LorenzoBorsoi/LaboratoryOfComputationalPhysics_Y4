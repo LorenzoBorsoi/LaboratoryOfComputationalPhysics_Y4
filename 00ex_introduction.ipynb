{
 "cells": [
  {
   "cell_type": "markdown",
   "metadata": {},
   "source": [
    "1. The MickeyMouse problem\n",
    "\n",
    "a) Write a program that prints the numbers from 1 to 100. But for multiples of three print Mickey instead of the number and for the multiples of five print Mouse. For numbers which are multiples of both three and five print MickeyMouse\n",
    "\n",
    "b) Put the result in a tuple and substitute Mickey with Donald and Mouse with Duck"
   ]
  },
  {
   "cell_type": "code",
   "execution_count": null,
   "metadata": {},
   "outputs": [],
   "source": [
    "\n",
    "def ex1(num,str1,str2):\n",
    "    if ((num % 3) == 0 and (num % 5) == 0) : return str1+str2\n",
    "    elif (num % 3) ==0:return str1\n",
    "    elif (num % 5) ==0:return str2\n",
    "    else:return num\n",
    "\n",
    "    \n",
    "str1 = \"Mickey\"\n",
    "str2 = \"Mouse\"\n",
    "tm = ()\n",
    "for nums in range(1,101): \n",
    "    k = ex1(nums,str1,str2)\n",
    "    tm = tm+(k,)\n",
    "    print(k)\n",
    "    \n",
    "str1 = \"Donald\"\n",
    "str2 = \"Duck\"\n",
    "td = ()\n",
    "for nums in range(1,101): \n",
    "    k = ex1(nums,str1,str2)\n",
    "    td = td+(k,)\n",
    "    print(k)\n",
    "\n"
   ]
  },
  {
   "cell_type": "markdown",
   "metadata": {},
   "source": [
    "2\\. The swap function\n",
    "\n",
    "Write a function that swap the values of two input variables x and y (whatever the type). Try to do that also without a temporary variable"
   ]
  },
  {
   "cell_type": "code",
   "execution_count": null,
   "metadata": {},
   "outputs": [],
   "source": [
    "x = input(\"Enter youe value for x: \")\n",
    "y = input(\"Enter youe value for y: \")\n",
    "\n",
    "print(\"this is x: \", x)\n",
    "print(\"this is y: \", y)\n",
    "\n",
    "x,y = y,x\n",
    "\n",
    "print(\"now this is x: \", x)\n",
    "print(\"now this is y: \", y)\n",
    "\n",
    "def swap(x,y):\n",
    "    x,y = y,x\n",
    "    return(x,y)\n",
    "\n",
    "print(swap(x,y))"
   ]
  },
  {
   "cell_type": "markdown",
   "metadata": {},
   "source": [
    "3\\. Computing the distance\n",
    "\n",
    "Write a function that calculates and returns the euclidean distance between two points *u* and *v*, where *u* and *v* are both 2-tuples *(x,y)*. For example, if *u=(3,0)* and *v=(0,4)*, the function should return 5"
   ]
  },
  {
   "cell_type": "code",
   "execution_count": null,
   "metadata": {},
   "outputs": [],
   "source": [
    "from numpy import sqrt\n",
    "u = (3,0)\n",
    "v = (0,4)\n",
    "d = sqrt((u[0]-v[0])**2 + (u[1]-v[1])**2)\n",
    "print(d)"
   ]
  },
  {
   "cell_type": "markdown",
   "metadata": {},
   "source": [
    "4\\. Counting letters\n",
    "\n",
    "Write a program to calculate the number of times each character occurs in a given string *s*. Ignore differneces in capitalization"
   ]
  },
  {
   "cell_type": "code",
   "execution_count": 57,
   "metadata": {},
   "outputs": [
    {
     "name": "stdout",
     "output_type": "stream",
     "text": [
      "['W 2', 'R 17', 'I 14', 'T 19', 'E 22', '  41', 'A 7', 'P 8', 'O 13', 'G 1', 'M 12', 'H 9', 'N 10', 'S 9', 'U 9', 'B 5', 'F 10', '1 2', '0 2', '. 2', 'L 6', 'C 3', 'K 2', 'Y 2', 'D 3', 'V 2']\n"
     ]
    }
   ],
   "source": [
    "s=\"Write a program that prints the numbers from 1 to 100. \\\n",
    "But for multiples of three print Mickey instead of the number and for the multiples of five print Mouse. \\\n",
    "For numbers which are multiples of both three and five print MickeyMouse\"\n",
    "\n",
    "n = []\n",
    "nc = []\n",
    "for letra in s:\n",
    "    if nc.count(letra.upper()) == 0:\n",
    "        k = s.upper().count(letra.upper())\n",
    "        nc.append(letra.upper())\n",
    "        n.append(letra.upper() + \" \" + str(k))\n",
    "        \n",
    "print (n)  \n"
   ]
  },
  {
   "cell_type": "markdown",
   "metadata": {},
   "source": [
    "5\\. Isolating the unique\n",
    "\n",
    "Write a function that determines and count the unique numbers in the list *l*"
   ]
  },
  {
   "cell_type": "code",
   "execution_count": 38,
   "metadata": {},
   "outputs": [
    {
     "name": "stdout",
     "output_type": "stream",
     "text": [
      "Number of elements in the original array: 80\n",
      "\n",
      "New array elminating duplicates: \n",
      "{1, 3, 5, 8, 9, 10, 16, 18, 19, 20, 24, 30, 31, 33, 34, 36, 37, 39, 41, 42, 45, 47, 50, 51, 53, 54, 55, 56, 57, 58, 63, 64, 66, 70, 72, 74, 75, 79, 81, 82, 84, 85, 86, 87, 88, 89, 90, 91, 92, 94, 95, 96, 98, 99}\n",
      "\n",
      "Number of unique elements: 54\n"
     ]
    }
   ],
   "source": [
    "l = [36, 45, 58, 3, 74, 96, 64, 45, 31, 10, 24, 19, 33, 86, 99, 18, 63, 70, 85,\n",
    " 85, 63, 47, 56, 42, 70, 84, 88, 55, 20, 54, 8, 56, 51, 79, 81, 57, 37, 91,\n",
    " 1, 84, 84, 36, 66, 9, 89, 50, 42, 91, 50, 95, 90, 98, 39, 16, 82, 31, 92, 41,\n",
    " 45, 30, 66, 70, 34, 85, 94, 5, 3, 36, 72, 91, 84, 34, 87, 75, 53, 51, 20, 89, 51, 20]\n",
    "print(\"Number of elements in the original array:\",len(l))\n",
    "print(\"\\nNew array elminating duplicates: \")\n",
    "print(set(l))\n",
    "print(\"\\nNumber of unique elements:\",len(set(l)))"
   ]
  },
  {
   "cell_type": "markdown",
   "metadata": {},
   "source": [
    "6\\. Combination of functions\n",
    "\n",
    "Write two functions - one that returns the square of a number, and one that returns the cube. Now write a third function that returns the number raised to the 6th power using the two previous functions."
   ]
  },
  {
   "cell_type": "code",
   "execution_count": null,
   "metadata": {},
   "outputs": [],
   "source": [
    "def cuadrado(num):\n",
    "    return num*num\n",
    "def cubo(num):\n",
    "    return num*num*num\n",
    "\n",
    "print(cubo(cuadrado(2)))"
   ]
  },
  {
   "cell_type": "markdown",
   "metadata": {},
   "source": [
    "7\\. Cubes\n",
    "\n",
    "Create a list of the cubes of x for x in *[0, 10]* using:\n",
    "\n",
    "a) a for loop\n",
    "\n",
    "b) a list comprehension"
   ]
  },
  {
   "cell_type": "code",
   "execution_count": 37,
   "metadata": {},
   "outputs": [
    {
     "name": "stdout",
     "output_type": "stream",
     "text": [
      "0\n",
      "1\n",
      "8\n",
      "27\n",
      "64\n",
      "125\n",
      "216\n",
      "343\n",
      "512\n",
      "729\n",
      "1000\n",
      "[0, 1, 8, 27, 64, 125, 216, 343, 512, 729, 1000]\n"
     ]
    }
   ],
   "source": [
    "k = []\n",
    "for nums in range(0,11):\n",
    "    k.append(nums*nums*nums)\n",
    "    print(nums*nums*nums)\n",
    "\n",
    "print(k)"
   ]
  },
  {
   "cell_type": "markdown",
   "metadata": {},
   "source": [
    "8\\. Nested list comprehension\n",
    "\n",
    "A Pythagorean triple is an integer solution to the Pythagorean theorem $a^2+b^2=c^2$. The first Pythagorean triple is (3,4,5). Find and put in a tuple all unique Pythagorean triples for the positive integers a, b and c less than 100."
   ]
  },
  {
   "cell_type": "code",
   "execution_count": 35,
   "metadata": {},
   "outputs": [
    {
     "name": "stdout",
     "output_type": "stream",
     "text": [
      "((4, 3, 5), (12, 5, 13), (8, 6, 10), (24, 7, 25), (15, 8, 17), (12, 9, 15), (40, 9, 41), (24, 10, 26), (60, 11, 61), (16, 12, 20), (35, 12, 37), (84, 13, 85), (48, 14, 50), (20, 15, 25), (36, 15, 39), (30, 16, 34), (63, 16, 65), (24, 18, 30), (80, 18, 82), (21, 20, 29), (48, 20, 52), (28, 21, 35), (72, 21, 75), (32, 24, 40), (45, 24, 51), (70, 24, 74), (60, 25, 65), (36, 27, 45), (45, 28, 53), (40, 30, 50), (72, 30, 78), (60, 32, 68), (44, 33, 55), (56, 33, 65), (84, 35, 91), (48, 36, 60), (77, 36, 85), (52, 39, 65), (80, 39, 89), (42, 40, 58), (75, 40, 85), (56, 42, 70), (60, 45, 75), (55, 48, 73), (64, 48, 80), (68, 51, 85), (72, 54, 90), (76, 57, 95), (63, 60, 87), (72, 65, 97))\n",
      "50\n"
     ]
    }
   ],
   "source": [
    "from numpy import sqrt\n",
    "\n",
    "tpy = ()\n",
    "awnsers = []\n",
    "for b in range(1,100):\n",
    "    for a in range(b,100):\n",
    "        c = a*a+b*b\n",
    "        if sqrt(c) == int(sqrt(c)) and sqrt(c)<100 and awnsers.count(sqrt(c)) == 0: \n",
    "            tpy = tpy+((a,b,int(sqrt(c))),)\n",
    "            ##awnsers = awnsers + [sqrt(c)]\n",
    "            \n",
    "print(tpy)\n",
    "print(len(tpy))"
   ]
  },
  {
   "cell_type": "markdown",
   "metadata": {},
   "source": [
    "9\\. Normalization\n",
    "\n",
    "Write a function that takes a tuple of numbers and returns it with the entries normalized to one"
   ]
  },
  {
   "cell_type": "code",
   "execution_count": 36,
   "metadata": {},
   "outputs": [
    {
     "name": "stdout",
     "output_type": "stream",
     "text": [
      "(0.6804138174397717, 0.2721655269759087, 0.408248290463863, 0.5443310539518174)\n"
     ]
    }
   ],
   "source": [
    "from numpy import sqrt\n",
    "tn = (5,2,3,4)\n",
    "tn2 = ()\n",
    "prod = 0\n",
    "for a in tn:\n",
    "    prod = prod + a*a\n",
    "    \n",
    "for a in range(0,len(tn)):\n",
    "    tn2 = tn2+(tn[a]/sqrt(prod),)\n",
    "    \n",
    "\n",
    "print(tn2)"
   ]
  },
  {
   "cell_type": "code",
   "execution_count": null,
   "metadata": {},
   "outputs": [],
   "source": []
  }
 ],
 "metadata": {
  "kernelspec": {
   "display_name": "Python 3 (ipykernel)",
   "language": "python",
   "name": "python3"
  },
  "language_info": {
   "codemirror_mode": {
    "name": "ipython",
    "version": 3
   },
   "file_extension": ".py",
   "mimetype": "text/x-python",
   "name": "python",
   "nbconvert_exporter": "python",
   "pygments_lexer": "ipython3",
   "version": "3.8.10"
  }
 },
 "nbformat": 4,
 "nbformat_minor": 2
}
