{
 "cells": [
  {
   "cell_type": "markdown",
   "metadata": {},
   "source": [
    "Esercizi"
   ]
  },
  {
   "cell_type": "markdown",
   "metadata": {},
   "source": [
    "1. The MickeyMouse problem\n",
    "\n",
    "a) Write a program that prints the numbers from 1 to 100. But for multiples of three print Mickey instead of the number and for the multiples of five print Mouse. For numbers which are multiples of both three and five print MickeyMouse\n",
    "\n",
    "b) Put the result in a tuple and substitute Mickey with Donald and Mouse with Duck"
   ]
  },
  {
   "cell_type": "code",
   "execution_count": 10,
   "metadata": {},
   "outputs": [
    {
     "name": "stdout",
     "output_type": "stream",
     "text": [
      "[1, 2, 'Mickey', 3, 4, 'Mouse', 5, 'Mickey', 6, 7, 8, 'Mickey', 9, 'Mouse', 10, 11, 'Mickey', 12, 13, 14, 'Mickey', 'MickeyMouse', 16, 17, 'Mickey', 18, 19, 'Mouse', 20, 'Mickey', 21, 22, 23, 'Mickey', 24, 'Mouse', 25, 26, 'Mickey', 27, 28, 29, 'Mickey', 'MickeyMouse', 31, 32, 'Mickey', 33, 34, 'Mouse', 35, 'Mickey', 36, 37, 38, 'Mickey', 39, 'Mouse', 40, 41, 'Mickey', 42, 43, 44, 'Mickey', 'MickeyMouse', 46, 47, 'Mickey', 48, 49, 'Mouse', 50, 'Mickey', 51, 52, 53, 'Mickey', 54, 'Mouse', 55, 56, 'Mickey', 57, 58, 59, 'Mickey', 'MickeyMouse', 61, 62, 'Mickey', 63, 64, 'Mouse', 65, 'Mickey', 66, 67, 68, 'Mickey', 69, 'Mouse', 70, 71, 'Mickey', 72, 73, 74, 'Mickey', 'MickeyMouse', 76, 77, 'Mickey', 78, 79, 'Mouse', 80, 'Mickey', 81, 82, 83, 'Mickey', 84, 'Mouse', 85, 86, 'Mickey', 87, 88, 89, 'Mickey', 'MickeyMouse', 91, 92, 'Mickey', 93, 94, 'Mouse', 95, 'Mickey', 96, 97, 98, 'Mickey', 99, 'Mouse', 100]\n"
     ]
    }
   ],
   "source": [
    "#creo una listaa per il punto b\n",
    "lista = []\n",
    "for i in range (1,101):\n",
    "    if (i%3 == 0):\n",
    "        lista.append(\"Mickey\")\n",
    "    elif(i%5 == 0):\n",
    "        lista.append(\"Mouse\")\n",
    "    if (i%3 == 0 and i%5 ==0):\n",
    "        lista.append(\"MickeyMouse\")        \n",
    "    else:\n",
    "        lista.append(i)\n",
    "\n",
    "print (lista)\n",
    "    "
   ]
  },
  {
   "cell_type": "code",
   "execution_count": 2,
   "metadata": {},
   "outputs": [],
   "source": [
    "#creo una lista la riempio con gli elementi modificati e la trasformo in tupla\n",
    "list1 = lista.copy()\n",
    "\n",
    "for i in range (100):\n",
    "    if list1[i] == \"Mickey\":\n",
    "        list1[i] = \"Donald\"\n",
    "    elif list1[i] == \"Mouse\":\n",
    "        list1[i] = \"Duck\"\n",
    "    "
   ]
  },
  {
   "cell_type": "markdown",
   "metadata": {},
   "source": [
    "2\\. The swap function\n",
    "\n",
    "Write a function that swap the values of two input variables x and y (whatever the type). Try to do that also without a temporary variable"
   ]
  },
  {
   "cell_type": "markdown",
   "metadata": {},
   "source": [
    "3\\. Computing the distance\n",
    "\n",
    "Write a function that calculates and returns the euclidean distance between two points *u* and *v*, where *u* and *v* are both 2-tuples *(x,y)*. For example, if *u=(3,0)* and *v=(0,4)*, the function should return 5"
   ]
  },
  {
   "cell_type": "markdown",
   "metadata": {},
   "source": [
    "4\\. Counting letters\n",
    "\n",
    "Write a program to calculate the number of times each character occurs in a given string *s*. Ignore differneces in capitalization"
   ]
  },
  {
   "cell_type": "code",
   "execution_count": null,
   "metadata": {},
   "outputs": [],
   "source": [
    "s=\"Write a program that prints the numbers from 1 to 100. \\\n",
    "But for multiples of three print Mickey instead of the number and for the multiples of five print Mouse. \\\n",
    "For numbers which are multiples of both three and five print MickeyMouse\""
   ]
  },
  {
   "cell_type": "markdown",
   "metadata": {},
   "source": [
    "5\\. Isolating the unique\n",
    "\n",
    "Write a function that determines and count the unique numbers in the list *l*"
   ]
  },
  {
   "cell_type": "code",
   "execution_count": null,
   "metadata": {},
   "outputs": [],
   "source": [
    "l = [36, 45, 58, 3, 74, 96, 64, 45, 31, 10, 24, 19, 33, 86, 99, 18, 63, 70, 85,\n",
    " 85, 63, 47, 56, 42, 70, 84, 88, 55, 20, 54, 8, 56, 51, 79, 81, 57, 37, 91,\n",
    " 1, 84, 84, 36, 66, 9, 89, 50, 42, 91, 50, 95, 90, 98, 39, 16, 82, 31, 92, 41,\n",
    " 45, 30, 66, 70, 34, 85, 94, 5, 3, 36, 72, 91, 84, 34, 87, 75, 53, 51, 20, 89, 51, 20]"
   ]
  },
  {
   "cell_type": "markdown",
   "metadata": {},
   "source": [
    "6\\. Combination of functions\n",
    "\n",
    "Write two functions - one that returns the square of a number, and one that returns the cube. Now write a third function that returns the number raised to the 6th power using the two previous functions."
   ]
  },
  {
   "cell_type": "markdown",
   "metadata": {},
   "source": [
    "7\\. Cubes\n",
    "\n",
    "Create a list of the cubes of x for x in *[0, 10]* using:\n",
    "\n",
    "a) a for loop\n",
    "\n",
    "b) a list comprehension"
   ]
  },
  {
   "cell_type": "markdown",
   "metadata": {},
   "source": [
    "8\\. Nested list comprehension\n",
    "\n",
    "A Pythagorean triple is an integer solution to the Pythagorean theorem $a^2+b^2=c^2$. The first Pythagorean triple is (3,4,5). Find and put in a tuple all unique Pythagorean triples for the positive integers a, b and c less than 100."
   ]
  },
  {
   "cell_type": "markdown",
   "metadata": {},
   "source": [
    "9\\. Normalization\n",
    "\n",
    "Write a function that takes a tuple of numbers and returns it with the entries normalized to one"
   ]
  },
  {
   "cell_type": "code",
   "execution_count": null,
   "metadata": {},
   "outputs": [],
   "source": []
  }
 ],
 "metadata": {
  "interpreter": {
   "hash": "916dbcbb3f70747c44a77c7bcd40155683ae19c65e1c03b4aa3499c5328201f1"
  },
  "kernelspec": {
   "display_name": "Python 3",
   "language": "python",
   "name": "python3"
  },
  "language_info": {
   "codemirror_mode": {
    "name": "ipython",
    "version": 3
   },
   "file_extension": ".py",
   "mimetype": "text/x-python",
   "name": "python",
   "nbconvert_exporter": "python",
   "pygments_lexer": "ipython3",
   "version": "3.8.10"
  }
 },
 "nbformat": 4,
 "nbformat_minor": 2
}
