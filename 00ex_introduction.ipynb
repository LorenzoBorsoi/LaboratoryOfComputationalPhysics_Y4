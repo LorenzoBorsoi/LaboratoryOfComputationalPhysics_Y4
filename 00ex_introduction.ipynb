{
 "cells": [
  {
   "cell_type": "markdown",
   "metadata": {},
   "source": [
    "1. The MickeyMouse problem\n",
    "\n",
    "a) Write a program that prints the numbers from 1 to 100. But for multiples of three print Mickey instead of the number and for the multiples of five print Mouse. For numbers which are multiples of both three and five print MickeyMouse\n",
    "\n",
    "b) Put the result in a tuple and substitute Mickey with Donald and Mouse with Duck"
   ]
  },
  {
   "cell_type": "code",
   "execution_count": 1,
   "metadata": {},
   "outputs": [
    {
     "name": "stdout",
     "output_type": "stream",
     "text": [
      "1\n",
      "2\n",
      "Mickey\n",
      "4\n",
      "Mouse\n",
      "Mickey\n",
      "7\n",
      "8\n",
      "Mickey\n",
      "Mouse\n",
      "11\n",
      "Mickey\n",
      "13\n",
      "14\n",
      "MickeyMouse\n",
      "16\n",
      "17\n",
      "Mickey\n",
      "19\n",
      "Mouse\n",
      "Mickey\n",
      "22\n",
      "23\n",
      "Mickey\n",
      "Mouse\n",
      "26\n",
      "Mickey\n",
      "28\n",
      "29\n",
      "MickeyMouse\n",
      "31\n",
      "32\n",
      "Mickey\n",
      "34\n",
      "Mouse\n",
      "Mickey\n",
      "37\n",
      "38\n",
      "Mickey\n",
      "Mouse\n",
      "41\n",
      "Mickey\n",
      "43\n",
      "44\n",
      "MickeyMouse\n",
      "46\n",
      "47\n",
      "Mickey\n",
      "49\n",
      "Mouse\n",
      "Mickey\n",
      "52\n",
      "53\n",
      "Mickey\n",
      "Mouse\n",
      "56\n",
      "Mickey\n",
      "58\n",
      "59\n",
      "MickeyMouse\n",
      "61\n",
      "62\n",
      "Mickey\n",
      "64\n",
      "Mouse\n",
      "Mickey\n",
      "67\n",
      "68\n",
      "Mickey\n",
      "Mouse\n",
      "71\n",
      "Mickey\n",
      "73\n",
      "74\n",
      "MickeyMouse\n",
      "76\n",
      "77\n",
      "Mickey\n",
      "79\n",
      "Mouse\n",
      "Mickey\n",
      "82\n",
      "83\n",
      "Mickey\n",
      "Mouse\n",
      "86\n",
      "Mickey\n",
      "88\n",
      "89\n",
      "MickeyMouse\n",
      "91\n",
      "92\n",
      "Mickey\n",
      "94\n",
      "Mouse\n",
      "Mickey\n",
      "97\n",
      "98\n",
      "Mickey\n",
      "Mouse\n",
      "(1, 2, 'Donald', 4, 'Duck', 'Donald', 7, 8, 'Donald', 'Duck', 11, 'Donald', 13, 14, 'DonaldDuck', 16, 17, 'Donald', 19, 'Duck', 'Donald', 22, 23, 'Donald', 'Duck', 26, 'Donald', 28, 29, 'DonaldDuck', 31, 32, 'Donald', 34, 'Duck', 'Donald', 37, 38, 'Donald', 'Duck', 41, 'Donald', 43, 44, 'DonaldDuck', 46, 47, 'Donald', 49, 'Duck', 'Donald', 52, 53, 'Donald', 'Duck', 56, 'Donald', 58, 59, 'DonaldDuck', 61, 62, 'Donald', 64, 'Duck', 'Donald', 67, 68, 'Donald', 'Duck', 71, 'Donald', 73, 74, 'DonaldDuck', 76, 77, 'Donald', 79, 'Duck', 'Donald', 82, 83, 'Donald', 'Duck', 86, 'Donald', 88, 89, 'DonaldDuck', 91, 92, 'Donald', 94, 'Duck', 'Donald', 97, 98, 'Donald', 'Duck')\n"
     ]
    }
   ],
   "source": [
    "# a)\n",
    "for i in range(1,100+1):\n",
    "    if i%15==0: print(\"MickeyMouse\")\n",
    "    elif i%3==0: print(\"Mickey\")\n",
    "    elif i%5==0: print(\"Mouse\")\n",
    "    else: print(i)\n",
    "        \n",
    "# b)\n",
    "L = []\n",
    "for i in range(1,100+1):\n",
    "    if i%15==0: L.append(\"DonaldDuck\")\n",
    "    elif i%3==0: L.append(\"Donald\")\n",
    "    elif i%5==0: L.append(\"Duck\")\n",
    "    else: L.append(i)\n",
    "        \n",
    "T = tuple(L)\n",
    "print(T)"
   ]
  },
  {
   "cell_type": "markdown",
   "metadata": {},
   "source": [
    "2\\. The swap function\n",
    "\n",
    "Write a function that swap the values of two input variables x and y (whatever the type). Try to do that also without a temporary variable"
   ]
  },
  {
   "cell_type": "code",
   "execution_count": 65,
   "metadata": {},
   "outputs": [
    {
     "name": "stdout",
     "output_type": "stream",
     "text": [
      "Before the swap: a = 1 , b = 2\n",
      "After the swap: a = 2 , b = 1\n"
     ]
    }
   ],
   "source": [
    "def swap(x, y):\n",
    "    return y,x\n",
    "\n",
    "a = 1\n",
    "b = 2\n",
    "print(\"Before the swap:\", \"a =\", a, \", b =\", b)\n",
    "a,b = swap(a,b)\n",
    "print(\"After the swap:\", \"a =\", a, \", b =\", b)"
   ]
  },
  {
   "cell_type": "markdown",
   "metadata": {},
   "source": [
    "3\\. Computing the distance\n",
    "\n",
    "Write a function that calculates and returns the euclidean distance between two points *u* and *v*, where *u* and *v* are both 2-tuples *(x,y)*. For example, if *u=(3,0)* and *v=(0,4)*, the function should return 5"
   ]
  },
  {
   "cell_type": "code",
   "execution_count": 16,
   "metadata": {},
   "outputs": [
    {
     "name": "stdout",
     "output_type": "stream",
     "text": [
      "Distance =  5.00\n"
     ]
    }
   ],
   "source": [
    "def dist(u, v):\n",
    "    try:\n",
    "        d = pow((u[0]-v[0])**2 + (u[1]-v[1])**2, 0.5)\n",
    "        return d\n",
    "    except:\n",
    "        print(\"Format not valid\")\n",
    "\n",
    "\n",
    "v1 = (3,0)\n",
    "v2 = (0,4)\n",
    "print(\"Distance = %5.2f\"% (dist(v1,v2)))"
   ]
  },
  {
   "cell_type": "markdown",
   "metadata": {},
   "source": [
    "4\\. Counting letters\n",
    "\n",
    "Write a program to calculate the number of times each character occurs in a given string *s*. Ignore differneces in capitalization"
   ]
  },
  {
   "cell_type": "code",
   "execution_count": 57,
   "metadata": {},
   "outputs": [
    {
     "name": "stdout",
     "output_type": "stream",
     "text": [
      "occurences =  {' ': 41, '.': 2, '0': 2, '1': 2, 'a': 7, 'b': 5, 'c': 3, 'd': 3, 'e': 22, 'f': 10, 'g': 1, 'h': 9, 'i': 14, 'k': 2, 'l': 6, 'm': 12, 'n': 10, 'o': 13, 'p': 8, 'r': 17, 's': 9, 't': 19, 'u': 9, 'v': 2, 'w': 2, 'y': 2}\n"
     ]
    }
   ],
   "source": [
    "s=\"Write a program that prints the numbers from 1 to 100. \\\n",
    "But for multiples of three print Mickey instead of the number and for the multiples of five print Mouse. \\\n",
    "For numbers which are multiples of both three and five print MickeyMouse\"\n",
    "\n",
    "# transform the string into a sorted list\n",
    "s = s.lower()\n",
    "ch = [x for x in s]\n",
    "ch.sort()\n",
    "\n",
    "\n",
    "# count the occurences and then delete the counted elements\n",
    "occur = {}\n",
    "while(len(ch)>0):\n",
    "    x = ch[0]\n",
    "    occur[x] = ch.count(x)\n",
    "    ch = ch[ch.count(x):]\n",
    "     \n",
    "print(\"occurences = \",occur)"
   ]
  },
  {
   "cell_type": "markdown",
   "metadata": {},
   "source": [
    "5\\. Isolating the unique\n",
    "\n",
    "Write a function that determines and count the unique numbers in the list *l*"
   ]
  },
  {
   "cell_type": "code",
   "execution_count": 67,
   "metadata": {},
   "outputs": [
    {
     "name": "stdout",
     "output_type": "stream",
     "text": [
      "uniques =  [1, 5, 8, 9, 10, 16, 18, 19, 24, 30, 33, 37, 39, 41, 47, 53, 54, 55, 57, 58, 64, 72, 74, 75, 79, 81, 82, 86, 87, 88, 90, 92, 94, 95, 96, 98, 99]\n"
     ]
    }
   ],
   "source": [
    "l = [36, 45, 58, 3, 74, 96, 64, 45, 31, 10, 24, 19, 33, 86, 99, 18, 63,\n",
    "     70, 85, 85, 63, 47, 56, 42, 70, 84, 88, 55, 20, 54, 8, 56, 51, 79,\n",
    "     81, 57, 37, 91, 1, 84, 84, 36, 66, 9, 89, 50, 42, 91, 50, 95, 90,\n",
    "     98, 39, 16, 82, 31, 92, 41, 45, 30, 66, 70, 34, 85, 94, 5, 3, 36,\n",
    "     72, 91, 84, 34, 87, 75, 53, 51, 20, 89, 51, 20]\n",
    "uniq = []\n",
    "l.sort()\n",
    "\n",
    "while(len(l) > 0):\n",
    "    \n",
    "    # select the first element and count how many times it occurs\n",
    "    x = l[0]\n",
    "    N = l.count(x)\n",
    "    \n",
    "    if N==1: uniq.append(x)\n",
    "    \n",
    "    # delete the counted elements\n",
    "    l = l[N:]\n",
    "\n",
    "print(\"uniques = \", uniq)"
   ]
  },
  {
   "cell_type": "markdown",
   "metadata": {},
   "source": [
    "6\\. Combination of functions\n",
    "\n",
    "Write two functions - one that returns the square of a number, and one that returns the cube. Now write a third function that returns the number raised to the 6th power using the two previous functions."
   ]
  },
  {
   "cell_type": "code",
   "execution_count": 73,
   "metadata": {},
   "outputs": [
    {
     "name": "stdout",
     "output_type": "stream",
     "text": [
      "a = 2\n",
      "square(a) = 4\n",
      "cube(a) = 8\n",
      "sixth(a) = 64\n"
     ]
    }
   ],
   "source": [
    "def square(x):\n",
    "    return x**2\n",
    "\n",
    "def cube(x):\n",
    "    return x**3\n",
    "\n",
    "def sixth(x):\n",
    "    return cube(square(x))\n",
    "\n",
    "\n",
    "a = 2\n",
    "print(\"a =\", a)\n",
    "print(\"square(a) =\", square(a))\n",
    "print(\"cube(a) =\", cube(a))\n",
    "print(\"sixth(a) =\", sixth(a))"
   ]
  },
  {
   "cell_type": "markdown",
   "metadata": {},
   "source": [
    "7\\. Cubes\n",
    "\n",
    "Create a list of the cubes of x for x in *[0, 10]* using:\n",
    "\n",
    "a) a for loop\n",
    "\n",
    "b) a list comprehension"
   ]
  },
  {
   "cell_type": "code",
   "execution_count": 77,
   "metadata": {},
   "outputs": [
    {
     "name": "stdout",
     "output_type": "stream",
     "text": [
      "a_cubes = [0, 1, 8, 27, 64, 125, 216, 343, 512, 729, 1000]\n",
      "b_cubes = [0, 1, 8, 27, 64, 125, 216, 343, 512, 729, 1000]\n"
     ]
    }
   ],
   "source": [
    "# a)\n",
    "a_cubes = []\n",
    "for x in range(10+1):\n",
    "    a_cubes.append(x**3)\n",
    "print(\"a_cubes =\", a_cubes)\n",
    "\n",
    "# b)\n",
    "b_cubes = [x**3 for x in range(10+1)]\n",
    "print(\"b_cubes =\", b_cubes)"
   ]
  },
  {
   "cell_type": "markdown",
   "metadata": {},
   "source": [
    "8\\. Nested list comprehension\n",
    "\n",
    "A Pythagorean triple is an integer solution to the Pythagorean theorem $a^2+b^2=c^2$. The first Pythagorean triple is (3,4,5). Find and put in a tuple all unique Pythagorean triples for the positive integers a, b and c less than 100."
   ]
  },
  {
   "cell_type": "code",
   "execution_count": 123,
   "metadata": {},
   "outputs": [
    {
     "name": "stdout",
     "output_type": "stream",
     "text": [
      "Pythagorean triples = [(3, 4, 5), (5, 12, 13), (6, 8, 10), (7, 24, 25), (8, 15, 17), (9, 12, 15), (9, 40, 41), (10, 24, 26), (11, 60, 61), (12, 16, 20), (12, 35, 37), (13, 84, 85), (14, 48, 50), (15, 20, 25), (15, 36, 39), (16, 30, 34), (16, 63, 65), (18, 24, 30), (18, 80, 82), (20, 21, 29), (20, 48, 52), (21, 28, 35), (21, 72, 75), (24, 32, 40), (24, 45, 51), (24, 70, 74), (25, 60, 65), (27, 36, 45), (28, 45, 53), (28, 96, 100), (30, 40, 50), (30, 72, 78), (32, 60, 68), (33, 44, 55), (33, 56, 65), (35, 84, 91), (36, 48, 60), (36, 77, 85), (39, 52, 65), (39, 80, 89), (40, 42, 58), (40, 75, 85), (42, 56, 70), (45, 60, 75), (48, 55, 73), (48, 64, 80), (51, 68, 85), (54, 72, 90), (57, 76, 95), (60, 63, 87), (60, 80, 100), (65, 72, 97)]\n"
     ]
    }
   ],
   "source": [
    "N_max = 100\n",
    "Pythag_triples = [(a,b,c) for a in range(3,(N_max-2)+1)\n",
    "                          for b in range(a+1,(N_max-1)+1)\n",
    "                          for c in range(b+1,N_max+1)\n",
    "                          if a**2 + b**2 == c**2]\n",
    "\n",
    "print(\"Pythagorean triples =\", Pythag_triples)"
   ]
  },
  {
   "cell_type": "markdown",
   "metadata": {},
   "source": [
    "9\\. Normalization\n",
    "\n",
    "Write a function that takes a tuple of numbers and returns it with the entries normalized to one"
   ]
  },
  {
   "cell_type": "code",
   "execution_count": 133,
   "metadata": {},
   "outputs": [
    {
     "name": "stdout",
     "output_type": "stream",
     "text": [
      "Normalized T = (0.016, 0.019, 0.005, 0.018, 0.014, 0.013, 0.011, 0.007, 0.017, 0.006, 0.012, 0.005, 0.012, 0.009, 0.0, 0.007, 0.018, 0.012, 0.004, 0.007, 0.014, 0.01, 0.011, 0.017, 0.01, 0.002, 0.011, 0.015, 0.007, 0.01, 0.003, 0.015, 0.0, 0.009, 0.004, 0.017, 0.008, 0.006, 0.016, 0.0, 0.007, 0.007, 0.012, 0.017, 0.009, 0.001, 0.014, 0.017, 0.004, 0.003, 0.007, 0.018, 0.011, 0.008, 0.016, 0.011, 0.011, 0.017, 0.009, 0.018, 0.018, 0.006, 0.002, 0.009, 0.009, 0.016, 0.016, 0.005, 0.007, 0.009, 0.002, 0.012, 0.017, 0.015, 0.015, 0.015, 0.005, 0.012, 0.014, 0.009, 0.016, 0.004, 0.016, 0.003, 0.007, 0.002, 0.011, 0.017, 0.005, 0.014, 0.007, 0.007, 0.006, 0.006, 0.016, 0.008, 0.011, 0.003, 0.003, 0.011)\n"
     ]
    }
   ],
   "source": [
    "# number rounded to the 3rd deciaml digits\n",
    "def normalize(T):\n",
    "    N = sum(T)\n",
    "    return tuple([round(i/N, 3) for i in T])\n",
    "\n",
    "\n",
    "T = (844, 989, 276, 944, 764, 674, 575, 368, 899, 302, 667,\n",
    "       260, 629, 473,  10, 356, 961, 635, 220, 382, 742, 542,\n",
    "       583, 894, 529, 122, 600, 821, 358, 545, 186, 823,  10,\n",
    "       489, 240, 891, 436, 340, 842,  13, 387, 374, 660, 908,\n",
    "       483,  31, 744, 915, 192, 182, 369, 963, 579, 439, 868,\n",
    "       612, 582, 901, 455, 947, 957, 312, 130, 459, 489, 869,\n",
    "       879, 241, 381, 462, 120, 650, 905, 778, 817, 777, 254,\n",
    "       650, 754, 468, 878, 236, 868, 168, 366,  85, 614, 912,\n",
    "       292, 747, 350, 350, 320, 345, 847, 436, 591, 157, 140,\n",
    "       562)\n",
    "\n",
    "normalized_T = normalize(T)\n",
    "print(\"Normalized T =\", normalized_T)"
   ]
  },
  {
   "cell_type": "code",
   "execution_count": null,
   "metadata": {},
   "outputs": [],
   "source": []
  }
 ],
 "metadata": {
  "kernelspec": {
   "display_name": "Python 3",
   "language": "python",
   "name": "python3"
  },
  "language_info": {
   "codemirror_mode": {
    "name": "ipython",
    "version": 3
   },
   "file_extension": ".py",
   "mimetype": "text/x-python",
   "name": "python",
   "nbconvert_exporter": "python",
   "pygments_lexer": "ipython3",
   "version": "3.8.3"
  }
 },
 "nbformat": 4,
 "nbformat_minor": 2
}
