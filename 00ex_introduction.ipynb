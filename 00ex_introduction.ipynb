{
 "cells": [
  {
   "cell_type": "markdown",
   "metadata": {},
   "source": [
    "1. The MickeyMouse problem\n",
    "\n",
    "a) Write a program that prints the numbers from 1 to 100. But for multiples of three print Mickey instead of the number and for the multiples of five print Mouse. For numbers which are multiples of both three and five print MickeyMouse\n",
    "\n",
    "b) Put the result in a tuple and substitute Mickey with Donald and Mouse with Duck"
   ]
  },
  {
   "cell_type": "code",
   "execution_count": 14,
   "metadata": {},
   "outputs": [
    {
     "name": "stdout",
     "output_type": "stream",
     "text": [
      "1\n",
      "2\n",
      "Mickey\n",
      "4\n",
      "Mouse\n",
      "Mickey\n",
      "7\n",
      "8\n",
      "Mickey\n",
      "Mouse\n",
      "11\n",
      "Mickey\n",
      "13\n",
      "14\n",
      "MickeyMouse\n",
      "16\n",
      "17\n",
      "Mickey\n",
      "19\n",
      "Mouse\n",
      "Mickey\n",
      "22\n",
      "23\n",
      "Mickey\n",
      "Mouse\n",
      "26\n",
      "Mickey\n",
      "28\n",
      "29\n",
      "MickeyMouse\n",
      "31\n",
      "32\n",
      "Mickey\n",
      "34\n",
      "Mouse\n",
      "Mickey\n",
      "37\n",
      "38\n",
      "Mickey\n",
      "Mouse\n",
      "41\n",
      "Mickey\n",
      "43\n",
      "44\n",
      "MickeyMouse\n",
      "46\n",
      "47\n",
      "Mickey\n",
      "49\n",
      "Mouse\n",
      "Mickey\n",
      "52\n",
      "53\n",
      "Mickey\n",
      "Mouse\n",
      "56\n",
      "Mickey\n",
      "58\n",
      "59\n",
      "MickeyMouse\n",
      "61\n",
      "62\n",
      "Mickey\n",
      "64\n",
      "Mouse\n",
      "Mickey\n",
      "67\n",
      "68\n",
      "Mickey\n",
      "Mouse\n",
      "71\n",
      "Mickey\n",
      "73\n",
      "74\n",
      "MickeyMouse\n",
      "76\n",
      "77\n",
      "Mickey\n",
      "79\n",
      "Mouse\n",
      "Mickey\n",
      "82\n",
      "83\n",
      "Mickey\n",
      "Mouse\n",
      "86\n",
      "Mickey\n",
      "88\n",
      "89\n",
      "MickeyMouse\n",
      "91\n",
      "92\n",
      "Mickey\n",
      "94\n",
      "Mouse\n",
      "Mickey\n",
      "97\n",
      "98\n",
      "Mickey\n",
      "Mouse\n",
      "\n",
      "\n",
      "[1, 2, 'Donald', 4, 'Duck', 'Donald', 7, 8, 'Donald', 'Duck', 11, 'Donald', 13, 14, 'DonaldDuck', 16, 17, 'Donald', 19, 'Duck', 'Donald', 22, 23, 'Donald', 'Duck', 26, 'Donald', 28, 29, 'DonaldDuck', 31, 32, 'Donald', 34, 'Duck', 'Donald', 37, 38, 'Donald', 'Duck', 41, 'Donald', 43, 44, 'DonaldDuck', 46, 47, 'Donald', 49, 'Duck', 'Donald', 52, 53, 'Donald', 'Duck', 56, 'Donald', 58, 59, 'DonaldDuck', 61, 62, 'Donald', 64, 'Duck', 'Donald', 67, 68, 'Donald', 'Duck', 71, 'Donald', 73, 74, 'DonaldDuck', 76, 77, 'Donald', 79, 'Duck', 'Donald', 82, 83, 'Donald', 'Duck', 86, 'Donald', 88, 89, 'DonaldDuck', 91, 92, 'Donald', 94, 'Duck', 'Donald', 97, 98, 'Donald', 'Duck']\n"
     ]
    }
   ],
   "source": [
    "a = [x for x in range(1,101)]\n",
    "for i in range(1,101):\n",
    "    if i%3==0 and i%5!=0: \n",
    "        print(\"Mickey\")\n",
    "        a.remove(i)\n",
    "        a.insert(i-1,\"Mickey\")\n",
    "    elif i%5==0 and i%3!=0: \n",
    "        print(\"Mouse\")\n",
    "        a.remove(i)\n",
    "        a.insert(i-1,\"Mouse\")\n",
    "    elif i%5==0 and i%3==0: \n",
    "        print(\"MickeyMouse\")\n",
    "        a.remove(i)\n",
    "        a.insert(i-1,\"MickeyMouse\")\n",
    "    else: print(i)\n",
    "#print(a)\n",
    "print(\"\\n\")\n",
    "for i in range(0,100):\n",
    "    if a[i]==\"Mickey\":\n",
    "        a.remove(a[i])\n",
    "        a.insert(i,\"Donald\")\n",
    "    elif a[i]==\"Mouse\":\n",
    "        a.remove(a[i])\n",
    "        a.insert(i,\"Duck\")\n",
    "    elif a[i]==\"MickeyMouse\":\n",
    "        a.remove(a[i])\n",
    "        a.insert(i,\"DonaldDuck\")\n",
    "print(a)"
   ]
  },
  {
   "cell_type": "markdown",
   "metadata": {},
   "source": [
    "2\\. The swap function\n",
    "\n",
    "Write a function that swap the values of two input variables x and y (whatever the type). Try to do that also without a temporary variable"
   ]
  },
  {
   "cell_type": "code",
   "execution_count": 4,
   "metadata": {},
   "outputs": [
    {
     "name": "stdout",
     "output_type": "stream",
     "text": [
      "Inserisci x:a\n",
      "Inserisci y:ciao\n",
      "ciao a\n",
      "a ciao\n"
     ]
    }
   ],
   "source": [
    "x=input(\"Inserisci x:\")\n",
    "y=input(\"Inserisci y:\")\n",
    "def scambia(a,b):\n",
    "    temp=a\n",
    "    a=b\n",
    "    b=temp\n",
    "    return a,b\n",
    "def scambia2(a,b):\n",
    "    return b,a\n",
    "x,y=scambia(x,y)\n",
    "print(x,y)\n",
    "x,y=scambia2(x,y)\n",
    "print(x,y)"
   ]
  },
  {
   "cell_type": "markdown",
   "metadata": {},
   "source": [
    "3\\. Computing the distance\n",
    "\n",
    "Write a function that calculates and returns the euclidean distance between two points *u* and *v*, where *u* and *v* are both 2-tuples *(x,y)*. For example, if *u=(3,0)* and *v=(0,4)*, the function should return 5"
   ]
  },
  {
   "cell_type": "code",
   "execution_count": 3,
   "metadata": {},
   "outputs": [
    {
     "name": "stdout",
     "output_type": "stream",
     "text": [
      "ux:3\n",
      "uy:0\n",
      "vx:0\n",
      "vy:4\n",
      "Distance: 5.0\n"
     ]
    }
   ],
   "source": [
    "import math\n",
    "u = (input(\"ux:\"),input(\"uy:\"))\n",
    "v = (input(\"vx:\"),input(\"vy:\"))\n",
    "#u[0]=input(\"ux:\")\n",
    "#u[1]=input(\"uy:\")\n",
    "#v[0]=input(\"vx:\")\n",
    "#v[1]=input(\"vy:\")\n",
    "\n",
    "def distance(a,b):\n",
    "    m = (math.pow(float(a[0])-float(b[0]),2)+math.pow(float(a[1])-float(b[1]),2))\n",
    "    return math.sqrt(m)\n",
    "print(\"Distance:\",distance(u,v))"
   ]
  },
  {
   "cell_type": "markdown",
   "metadata": {},
   "source": [
    "#### 4\\. Counting letters\n",
    "\n",
    "Write a program to calculate the number of times each character occurs in a given string *s*. Ignore differneces in capitalization"
   ]
  },
  {
   "cell_type": "code",
   "execution_count": 53,
   "metadata": {},
   "outputs": [
    {
     "name": "stdout",
     "output_type": "stream",
     "text": [
      "Message:  Write a program that prints the numbers from 1 to 100. But for multiples of three print Mickey instead of the number and for the multiples of five print Mouse. For numbers which are multiples of both three and five print MickeyMouse \n",
      "\n",
      "Character:  w     count:  2\n",
      "Character:  r     count:  17\n",
      "Character:  i     count:  14\n",
      "Character:  t     count:  19\n",
      "Character:  e     count:  22\n",
      "Character:        count:  41\n",
      "Character:  a     count:  7\n",
      "Character:  p     count:  8\n",
      "Character:  o     count:  13\n",
      "Character:  g     count:  1\n",
      "Character:  m     count:  12\n",
      "Character:  h     count:  9\n",
      "Character:  n     count:  10\n",
      "Character:  s     count:  9\n",
      "Character:  u     count:  9\n",
      "Character:  b     count:  5\n",
      "Character:  f     count:  10\n",
      "Character:  1     count:  2\n",
      "Character:  0     count:  2\n",
      "Character:  .     count:  2\n",
      "Character:  l     count:  6\n",
      "Character:  c     count:  3\n",
      "Character:  k     count:  2\n",
      "Character:  y     count:  2\n",
      "Character:  d     count:  3\n",
      "Character:  v     count:  2\n"
     ]
    }
   ],
   "source": [
    "s = \"Write a program that prints the numbers from 1 to 100. \\\n",
    "But for multiples of three print Mickey instead of the number and for the multiples of five print Mouse. \\\n",
    "For numbers which are multiples of both three and five print MickeyMouse\"\n",
    "print(\"Message: \", s, \"\\n\")\n",
    "char = [str(x) for x in s.lower()]  #creates a list of the characters in lowercase\n",
    "#print(char)\n",
    "count = [[]]               #creates a tab with [char,count]\n",
    "count[0] = [str(char[0]),1]#sets the first character of the strings with a counter of 1\n",
    "for i in range(1,len(char)): #selects each character of the string\n",
    "    check=0                    #checks if the character has already been found, initialazied to 0 \n",
    "    check_len = len(count)     #gets the lenght of the counter list (rows)\n",
    "    for j in range(0,check_len):    #selects each character already found\n",
    "        if count[j][0] == char[i]:    #if the characters are the same increase the counter for that character\n",
    "            check=1\n",
    "            count[j][1] += 1\n",
    "            #print(count[j])\n",
    "    if check == 0:                    #if no correspondance has been found, add a row with the new char and set the counter to 1\n",
    "            k=len(count)\n",
    "            count.append([str(char[i]),1])\n",
    "            #print(char[i])\n",
    "            #count[k][0]=char[i]\n",
    "            #count[k][1]=1\n",
    "\n",
    "#print(count)\n",
    "for j in range(0,len(count)): print(\"Character: \",count[j][0],\"    count: \",count[j][1])"
   ]
  },
  {
   "cell_type": "markdown",
   "metadata": {},
   "source": [
    "5\\. Isolating the unique\n",
    "\n",
    "Write a function that determines and count the unique numbers in the list *l*"
   ]
  },
  {
   "cell_type": "code",
   "execution_count": 30,
   "metadata": {},
   "outputs": [
    {
     "name": "stdout",
     "output_type": "stream",
     "text": [
      "[58, 74, 96, 64, 10, 24, 19, 33, 86, 99, 18, 47, 88, 55, 54, 8, 79, 81, 57, 37, 1, 9, 95, 90, 98, 39, 16, 82, 92, 41, 30, 94, 5, 72, 87, 75, 53]\n",
      "[45, 85, 63, 70, 56, 84, 36, 42, 91, 50, 31, 66, 3, 34, 51, 20, 89]\n"
     ]
    }
   ],
   "source": [
    "l = [36, 45, 58, 3, 74, 96, 64, 45, 31, 10, 24, 19, 33, 86, 99, 18, 63, 70, 85,\n",
    " 85, 63, 47, 56, 42, 70, 84, 88, 55, 20, 54, 8, 56, 51, 79, 81, 57, 37, 91,\n",
    " 1, 84, 84, 36, 66, 9, 89, 50, 42, 91, 50, 95, 90, 98, 39, 16, 82, 31, 92, 41,\n",
    " 45, 30, 66, 70, 34, 85, 94, 5, 3, 36, 72, 91, 84, 34, 87, 75, 53, 51, 20, 89, 51, 20]\n",
    "unique = []\n",
    "n_unique = []\n",
    "\n",
    "for val in l:\n",
    "    check = 0\n",
    "    for un in unique:\n",
    "        if val == un:\n",
    "            n_unique.append(val)\n",
    "            unique.remove(val)\n",
    "            check = 1\n",
    "    for n_un in n_unique:\n",
    "        if val == n_un:\n",
    "            check = 1\n",
    "    if check == 0:\n",
    "        unique.append(val)\n",
    "\n",
    "print(unique)\n",
    "print(n_unique)\n",
    "    "
   ]
  },
  {
   "cell_type": "markdown",
   "metadata": {},
   "source": [
    "6\\. Combination of functions\n",
    "\n",
    "Write two functions - one that returns the square of a number, and one that returns the cube. Now write a third function that returns the number raised to the 6th power using the two previous functions."
   ]
  },
  {
   "cell_type": "code",
   "execution_count": 9,
   "metadata": {},
   "outputs": [
    {
     "name": "stdout",
     "output_type": "stream",
     "text": [
      "Num:23.5\n",
      "168425239.515625\n"
     ]
    }
   ],
   "source": [
    "import math\n",
    "def square(x):\n",
    "    return math.pow(x,2)\n",
    "\n",
    "def cube(x):\n",
    "    return math.pow(x,3)\n",
    "\n",
    "def f():\n",
    "    y = input(\"Num:\")\n",
    "    x = float(y)\n",
    "    return square(x) * cube(x) * x\n",
    "print(f())"
   ]
  },
  {
   "cell_type": "markdown",
   "metadata": {},
   "source": [
    "7\\. Cubes\n",
    "\n",
    "Create a list of the cubes of x for x in *[0, 10]* using:\n",
    "\n",
    "a) a for loop\n",
    "\n",
    "b) a list comprehension"
   ]
  },
  {
   "cell_type": "code",
   "execution_count": 3,
   "metadata": {},
   "outputs": [
    {
     "name": "stdout",
     "output_type": "stream",
     "text": [
      "[0, 1, 8, 27, 64, 125, 216, 343, 512, 729, 1000]\n"
     ]
    }
   ],
   "source": [
    "cubes = [pow(x,3) for x in range(11)]\n",
    "print(cubes)"
   ]
  },
  {
   "cell_type": "markdown",
   "metadata": {},
   "source": [
    "8\\. Nested list comprehension\n",
    "\n",
    "A Pythagorean triple is an integer solution to the Pythagorean theorem $a^2+b^2=c^2$. The first Pythagorean triple is (3,4,5). Find and put in a tuple all unique Pythagorean triples for the positive integers a, b and c less than 100."
   ]
  },
  {
   "cell_type": "code",
   "execution_count": 28,
   "metadata": {},
   "outputs": [
    {
     "name": "stdout",
     "output_type": "stream",
     "text": [
      "[[3, 4, 5], [8, 15, 17], [12, 35, 37], [16, 63, 65], [5, 12, 13], [20, 21, 29], [28, 45, 53], [36, 77, 85], [7, 24, 25], [48, 55, 73], [9, 40, 41], [33, 56, 65], [65, 72, 97], [11, 60, 61], [39, 80, 89], [13, 84, 85]]\n",
      "[[3, 4, 5], [6, 8, 10], [9, 12, 15], [12, 16, 20], [15, 20, 25], [18, 24, 30], [21, 28, 35], [24, 32, 40], [27, 36, 45], [30, 40, 50], [33, 44, 55], [36, 48, 60], [39, 52, 65], [42, 56, 70], [45, 60, 75], [48, 64, 80], [51, 68, 85], [54, 72, 90], [57, 76, 95], [8, 15, 17], [16, 30, 34], [24, 45, 51], [32, 60, 68], [40, 75, 85], [12, 35, 37], [24, 70, 74], [16, 63, 65], [5, 12, 13], [10, 24, 26], [15, 36, 39], [20, 48, 52], [25, 60, 65], [30, 72, 78], [35, 84, 91], [20, 21, 29], [40, 42, 58], [60, 63, 87], [28, 45, 53], [36, 77, 85], [7, 24, 25], [14, 48, 50], [21, 72, 75], [48, 55, 73], [9, 40, 41], [18, 80, 82], [33, 56, 65], [65, 72, 97], [11, 60, 61], [39, 80, 89], [13, 84, 85]]\n"
     ]
    }
   ],
   "source": [
    "import math\n",
    "\n",
    "def primitive():\n",
    "    pyt = []\n",
    "    for i in range(1,100):\n",
    "        for j in range(i+1,100):\n",
    "            check = 0\n",
    "            if (i%2 != 0 and j%2 != 0):\n",
    "                check = 1\n",
    "            else:\n",
    "                for k in range (2,i+1):\n",
    "                    if (i%k == 0 and j%k == 0):\n",
    "                        check = 1\n",
    "            if check == 0:\n",
    "                a = int(pow(j,2) - pow(i,2))\n",
    "                b = int(2 * i * j)\n",
    "                c = int(pow(j,2) + pow(i,2))\n",
    "                if c < 100:\n",
    "                    pyt.append([min(a,b),max(a,b),c])\n",
    "    print(pyt)\n",
    "    \n",
    "def all_pyt():\n",
    "    pyt = []\n",
    "    for i in range(1,100):\n",
    "        for j in range(i+1,100):\n",
    "            check = 0\n",
    "            if (i%2 != 0 and j%2 != 0):\n",
    "                check = 1\n",
    "            else:\n",
    "                for k in range (2,i+1):\n",
    "                    if (i%k == 0 and j%k == 0):\n",
    "                        check = 1\n",
    "            if check == 0:\n",
    "                for k in range(1,100):\n",
    "                    a = k*(int(pow(j,2) - pow(i,2)))\n",
    "                    b = k*(int(2 * i * j))\n",
    "                    c = k*(int(pow(j,2) + pow(i,2)))\n",
    "                    if c < 100:\n",
    "                        pyt.append([min(a,b),max(a,b),c])\n",
    "    print(pyt)\n",
    "    \n",
    "primitive()\n",
    "all_pyt()"
   ]
  },
  {
   "cell_type": "markdown",
   "metadata": {},
   "source": [
    "9\\. Normalization\n",
    "\n",
    "Write a function that takes a tuple of numbers and returns it with the entries normalized to one"
   ]
  },
  {
   "cell_type": "code",
   "execution_count": 23,
   "metadata": {},
   "outputs": [
    {
     "name": "stdout",
     "output_type": "stream",
     "text": [
      "t1:1\n",
      "t2:2\n",
      "t3:3\n",
      "t4:4\n",
      "(1.0, 2.0, 3.0, 4.0)\n",
      "Tuple with entries 1:  (1.0, 1.0, 1.0, 1.0)\n",
      "Tuple normalized:  (0.18257418583505536, 0.3651483716701107, 0.5477225575051661, 0.7302967433402214)\n"
     ]
    }
   ],
   "source": [
    "#Solution using tuples (4 elements)\n",
    "import math\n",
    "t = (float(input(\"t1:\")),float(input(\"t2:\")),float(input(\"t3:\")),float(input(\"t4:\")))\n",
    "print(t)\n",
    "def norm(t):\n",
    "    return t[0]/t[0],t[1]/t[1],t[2]/t[2],t[3]/t[3]\n",
    "def norm1(t):\n",
    "    norm = math.sqrt(pow(t[0],2)+pow(t[1],2)+pow(t[2],2)+pow(t[3],2))\n",
    "    return t[0]/norm,t[1]/norm,t[2]/norm,t[3]/norm\n",
    "a = norm(t)\n",
    "print(\"Tuple with entries 1: \",a)\n",
    "b = norm1(t)\n",
    "print(\"Tuple normalized: \",b)"
   ]
  },
  {
   "cell_type": "code",
   "execution_count": 37,
   "metadata": {},
   "outputs": [
    {
     "name": "stdout",
     "output_type": "stream",
     "text": [
      "Insert vector dimension:4\n",
      "1\n",
      "2\n",
      "3\n",
      "4\n",
      "[1.0, 2.0, 3.0, 4.0]\n",
      "[1.0, 1.0, 1.0, 1.0]\n",
      "Vector t normalized:  [0.18257418583505536, 0.3651483716701107, 0.5477225575051661, 0.7302967433402214]\n"
     ]
    }
   ],
   "source": [
    "#More general solution using lists\n",
    "import math\n",
    "r=int(input(\"Insert vector dimension:\"))\n",
    "t=[float(input(\"\")) for x in range(r)]\n",
    "print(t)\n",
    "def norm(q,r):\n",
    "    t=[]\n",
    "    for i in range(r): t.append(q[i]/q[i])\n",
    "    return t\n",
    "def norm1(w,r):\n",
    "    norm=0\n",
    "    l=[]\n",
    "    for i in range(r): norm += pow(w[i],2)\n",
    "    norm1 = math.sqrt(norm)\n",
    "    for i in range(r): l.append(w[i]/norm1)\n",
    "    return l\n",
    "print(norm(t,r))\n",
    "#print(\"Vector with entries 1: \",a)\n",
    "b = norm1(t,r)\n",
    "print(\"Vector t normalized: \",b)"
   ]
  }
 ],
 "metadata": {
  "kernelspec": {
   "display_name": "Python 3",
   "language": "python",
   "name": "python3"
  },
  "language_info": {
   "codemirror_mode": {
    "name": "ipython",
    "version": 3
   },
   "file_extension": ".py",
   "mimetype": "text/x-python",
   "name": "python",
   "nbconvert_exporter": "python",
   "pygments_lexer": "ipython3",
   "version": "3.7.4"
  }
 },
 "nbformat": 4,
 "nbformat_minor": 2
}
