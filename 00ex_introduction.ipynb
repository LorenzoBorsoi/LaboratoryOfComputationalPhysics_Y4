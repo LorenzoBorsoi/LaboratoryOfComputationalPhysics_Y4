{
 "cells": [
  {
   "cell_type": "markdown",
   "metadata": {
    "tags": []
   },
   "source": [
    "1. The MickeyMouse problem\n",
    "\n",
    "a) Write a program that prints the numbers from 1 to 100. But for multiples of three print Mickey instead of the number and for the multiples of five print Mouse. For numbers which are multiples of both three and five print MickeyMouse\n",
    "\n",
    "\n",
    "\n",
    "b) Put the result in a tuple and substitute Mickey with Donald and Mouse with Duck"
   ]
  },
  {
   "cell_type": "code",
   "execution_count": 33,
   "metadata": {
    "collapsed": true,
    "jupyter": {
     "outputs_hidden": true
    },
    "tags": []
   },
   "outputs": [
    {
     "name": "stdout",
     "output_type": "stream",
     "text": [
      "1\n",
      "2\n",
      "3 Mickey\n",
      "4\n",
      "5 Mouse\n",
      "6 Mickey\n",
      "7\n",
      "8\n",
      "9 Mickey\n",
      "10 Mouse\n",
      "11\n",
      "12 Mickey\n",
      "13\n",
      "14\n",
      "15 MickeyMouse\n",
      "16\n",
      "17\n",
      "18 Mickey\n",
      "19\n",
      "20 Mouse\n",
      "21 Mickey\n",
      "22\n",
      "23\n",
      "24 Mickey\n",
      "25 Mouse\n",
      "26\n",
      "27 Mickey\n",
      "28\n",
      "29\n",
      "30 MickeyMouse\n",
      "31\n",
      "32\n",
      "33 Mickey\n",
      "34\n",
      "35 Mouse\n",
      "36 Mickey\n",
      "37\n",
      "38\n",
      "39 Mickey\n",
      "40 Mouse\n",
      "41\n",
      "42 Mickey\n",
      "43\n",
      "44\n",
      "45 MickeyMouse\n",
      "46\n",
      "47\n",
      "48 Mickey\n",
      "49\n",
      "50 Mouse\n",
      "51 Mickey\n",
      "52\n",
      "53\n",
      "54 Mickey\n",
      "55 Mouse\n",
      "56\n",
      "57 Mickey\n",
      "58\n",
      "59\n",
      "60 MickeyMouse\n",
      "61\n",
      "62\n",
      "63 Mickey\n",
      "64\n",
      "65 Mouse\n",
      "66 Mickey\n",
      "67\n",
      "68\n",
      "69 Mickey\n",
      "70 Mouse\n",
      "71\n",
      "72 Mickey\n",
      "73\n",
      "74\n",
      "75 MickeyMouse\n",
      "76\n",
      "77\n",
      "78 Mickey\n",
      "79\n",
      "80 Mouse\n",
      "81 Mickey\n",
      "82\n",
      "83\n",
      "84 Mickey\n",
      "85 Mouse\n",
      "86\n",
      "87 Mickey\n",
      "88\n",
      "89\n",
      "90 MickeyMouse\n",
      "91\n",
      "92\n",
      "93 Mickey\n",
      "94\n",
      "95 Mouse\n",
      "96 Mickey\n",
      "97\n",
      "98\n",
      "99 Mickey\n",
      "100 Mouse\n",
      "(1, 2, 'Donald', 4, 'Duck', 'Donald', 7, 8, 'Donald', 'Duck', 11, 'Donald', 13, 14, 'MickeyMouse', 16, 17, 'Donald', 19, 'Duck', 'Donald', 22, 23, 'Donald', 'Duck', 26, 'Donald', 28, 29, 'MickeyMouse', 31, 32, 'Donald', 34, 'Duck', 'Donald', 37, 38, 'Donald', 'Duck', 41, 'Donald', 43, 44, 'MickeyMouse', 46, 47, 'Donald', 49, 'Duck', 'Donald', 52, 53, 'Donald', 'Duck', 56, 'Donald', 58, 59, 'MickeyMouse', 61, 62, 'Donald', 64, 'Duck', 'Donald', 67, 68, 'Donald', 'Duck', 71, 'Donald', 73, 74, 'MickeyMouse', 76, 77, 'Donald', 79, 'Duck', 'Donald', 82, 83, 'Donald', 'Duck', 86, 'Donald', 88, 89, 'MickeyMouse', 91, 92, 'Donald', 94, 'Duck', 'Donald', 97, 98, 'Donald', 'Duck')\n"
     ]
    }
   ],
   "source": [
    "l=list()\n",
    "#a\n",
    "for i in range(1,101):  \n",
    "    if i%3==0 and i%5!=0:\n",
    "        print(i,'Mickey')\n",
    "        l+= ['Mickey',]\n",
    "    elif i%5==0 and i%3!=0:\n",
    "        print(i,'Mouse')\n",
    "        l+= ['Mouse',]\n",
    "    elif i%3==0 and i%5==0:\n",
    "        print(i,'Mickey''Mouse')\n",
    "        l+= ['Mickey' 'Mouse',]\n",
    "    else:\n",
    "        l+=[i,]\n",
    "        print(i)\n",
    "#b\n",
    "for i in range(0,100):\n",
    "    if l[i]=='Mickey':\n",
    "        l[i]=l[i].replace('Mickey','Donald')\n",
    "    elif l[i]=='Mouse':\n",
    "        l[i]=l[i].replace('Mouse','Duck')\n",
    "\n",
    "print(tuple(l))"
   ]
  },
  {
   "cell_type": "markdown",
   "metadata": {
    "tags": []
   },
   "source": [
    "2\\. The swap function\n",
    "\n",
    "Write a function that swap the values of two input variables x and y (whatever the type). Try to do that also without a temporary variable\n"
   ]
  },
  {
   "cell_type": "code",
   "execution_count": 41,
   "metadata": {},
   "outputs": [
    {
     "data": {
      "text/plain": [
       "('2', '1')"
      ]
     },
     "execution_count": 41,
     "metadata": {},
     "output_type": "execute_result"
    }
   ],
   "source": [
    "\n",
    "def swap_function(x,y):\n",
    "    r=(y,x)\n",
    "    return r\n",
    "swap_function('1','2')"
   ]
  },
  {
   "cell_type": "markdown",
   "metadata": {},
   "source": [
    "3\\. Computing the distance\n",
    "\n",
    "Write a function that calculates and returns the euclidean distance between two points *u* and *v*, where *u* and *v* are both 2-tuples *(x,y)*. For example, if *u=(3,0)* and *v=(0,4)*, the function should return 5\n"
   ]
  },
  {
   "cell_type": "code",
   "execution_count": 44,
   "metadata": {},
   "outputs": [
    {
     "data": {
      "text/plain": [
       "5.0"
      ]
     },
     "execution_count": 44,
     "metadata": {},
     "output_type": "execute_result"
    }
   ],
   "source": [
    "import math\n",
    "def euclidean_distance(u,v):\n",
    "    d=math.sqrt(pow(u[0]-v[0],2)+pow(u[1]-v[1],2))\n",
    "    return d\n",
    "euclidean_distance((3,0),(0,4))"
   ]
  },
  {
   "cell_type": "markdown",
   "metadata": {},
   "source": [
    "4\\. Counting letters\n",
    "\n",
    "Write a program to calculate the number of times each character occurs in a given string *s*. Ignore differneces in capitalization"
   ]
  },
  {
   "cell_type": "code",
   "execution_count": 49,
   "metadata": {},
   "outputs": [
    {
     "name": "stdout",
     "output_type": "stream",
     "text": [
      "b 4\n",
      "c 3\n",
      "d 3\n",
      "e 22\n",
      "f 9\n",
      "g 1\n",
      "h 9\n",
      "i 14\n",
      "j 0\n",
      "k 2\n",
      "l 6\n",
      "m 8\n",
      "n 10\n",
      "o 13\n",
      "p 8\n",
      "q 0\n",
      "r 17\n",
      "s 9\n",
      "t 19\n",
      "u 9\n",
      "v 2\n",
      "w 1\n",
      "x 0\n",
      "y 2\n",
      "z 0\n"
     ]
    }
   ],
   "source": [
    "import string\n",
    "alfabeto=list(string.ascii_lowercase)\n",
    "l=len(alfabeto)\n",
    "for i in range(1,l):\n",
    "    n=s.count(alfabeto[i])\n",
    "    print(alfabeto[i],n)\n",
    "s=\"Write a program that prints the numbers from 1 to 100. \\\n",
    "But for multiples of three print Mickey instead of the number and for the multiples of five print Mouse. \\\n",
    "For numbers which are multiples of both three and five print MickeyMouse\"\n",
    "\n",
    "            "
   ]
  },
  {
   "cell_type": "markdown",
   "metadata": {},
   "source": [
    "5\\. Isolating the unique\n",
    "\n",
    "Write a function that determines and count the unique numbers in the list *l*"
   ]
  },
  {
   "cell_type": "code",
   "execution_count": 67,
   "metadata": {},
   "outputs": [
    {
     "name": "stdout",
     "output_type": "stream",
     "text": [
      "58\n",
      "74\n",
      "96\n",
      "64\n",
      "10\n",
      "24\n",
      "19\n",
      "33\n",
      "86\n",
      "99\n",
      "18\n",
      "47\n",
      "88\n",
      "55\n",
      "54\n",
      "8\n",
      "79\n",
      "81\n",
      "57\n",
      "37\n",
      "1\n",
      "9\n",
      "95\n",
      "90\n",
      "98\n",
      "39\n",
      "16\n",
      "82\n",
      "92\n",
      "41\n",
      "30\n",
      "94\n",
      "5\n",
      "72\n",
      "87\n",
      "75\n",
      "53\n",
      "quantity of unique numbers 37\n"
     ]
    }
   ],
   "source": [
    "l = [36, 45, 58, 3, 74, 96, 64, 45, 31, 10, 24, 19, 33, 86, 99, 18, 63, 70, 85,\n",
    " 85, 63, 47, 56, 42, 70, 84, 88, 55, 20, 54, 8, 56, 51, 79, 81, 57, 37, 91,\n",
    " 1, 84, 84, 36, 66, 9, 89, 50, 42, 91, 50, 95, 90, 98, 39, 16, 82, 31, 92, 41,\n",
    " 45, 30, 66, 70, 34, 85, 94, 5, 3, 36, 72, 91, 84, 34, 87, 75, 53, 51, 20, 89, 51, 20]\n",
    "def determines_count(x):\n",
    "    g=0\n",
    "    for i in range(0,len(x)):\n",
    "        f=l.count(x[i])\n",
    "        if f==1:\n",
    "            print(x[i])\n",
    "            g+=1\n",
    "    print('quantity of unique numbers:',g)\n",
    "            \n",
    "determines_count(l)"
   ]
  },
  {
   "cell_type": "markdown",
   "metadata": {},
   "source": [
    "6\\. Combination of functions\n",
    "\n",
    "Write two functions - one that returns the square of a number, and one that returns the cube. Now write a third function that returns the number raised to the 6th power using the two previous functions."
   ]
  },
  {
   "cell_type": "code",
   "execution_count": 2,
   "metadata": {},
   "outputs": [
    {
     "data": {
      "text/plain": [
       "64"
      ]
     },
     "execution_count": 2,
     "metadata": {},
     "output_type": "execute_result"
    }
   ],
   "source": [
    "def square_function(x):\n",
    "    z=pow(x,2)\n",
    "    return z\n",
    "def cube_function(x):\n",
    "    z=pow(x,3)\n",
    "    return z\n",
    "def sixth_power_f(x):\n",
    "    z=cube_function(square_function(x))\n",
    "    return z\n",
    "sixth_power_f(2)"
   ]
  },
  {
   "cell_type": "markdown",
   "metadata": {},
   "source": [
    "7\\. Cubes\n",
    "\n",
    "Create a list of the cubes of x for x in *[0, 10]* using:\n",
    "\n",
    "a) a for loop\n",
    "\n",
    "b) a list comprehension"
   ]
  },
  {
   "cell_type": "code",
   "execution_count": 6,
   "metadata": {},
   "outputs": [
    {
     "name": "stdout",
     "output_type": "stream",
     "text": [
      "0 cubes: 0\n",
      "1 cubes: 1\n",
      "2 cubes: 8\n",
      "3 cubes: 27\n",
      "4 cubes: 64\n",
      "5 cubes: 125\n",
      "6 cubes: 216\n",
      "7 cubes: 343\n",
      "8 cubes: 512\n",
      "9 cubes: 729\n",
      "10 cubes: 1000\n",
      "[0, 1, 8, 27, 64, 125, 216, 343, 512, 729, 1000]\n"
     ]
    }
   ],
   "source": [
    "for i in range(0,11):\n",
    "    print(i,'cubes:',pow(i,3))\n",
    "\n",
    "cubes=[pow(n,3) for n in range(11)]\n",
    "print(cubes)"
   ]
  },
  {
   "cell_type": "markdown",
   "metadata": {},
   "source": [
    "8\\. Nested list comprehension\n",
    "\n",
    "A Pythagorean triple is an integer solution to the Pythagorean theorem $a^2+b^2=c^2$. The first Pythagorean triple is (3,4,5). Find and put in a tuple all unique Pythagorean triples for the positive integers a, b and c less than 100."
   ]
  },
  {
   "cell_type": "code",
   "execution_count": 12,
   "metadata": {},
   "outputs": [
    {
     "name": "stdout",
     "output_type": "stream",
     "text": [
      "((3, 4, 5), (4, 3, 5), (5, 12, 13), (6, 8, 10), (7, 24, 25), (8, 6, 10), (8, 15, 17), (9, 12, 15), (9, 40, 41), (10, 24, 26), (11, 60, 61), (12, 5, 13), (12, 9, 15), (12, 16, 20), (12, 35, 37), (13, 84, 85), (14, 48, 50), (15, 8, 17), (15, 20, 25), (15, 36, 39), (16, 12, 20), (16, 30, 34), (16, 63, 65), (18, 24, 30), (18, 80, 82), (20, 15, 25), (20, 21, 29), (20, 48, 52), (21, 20, 29), (21, 28, 35), (21, 72, 75), (24, 7, 25), (24, 10, 26), (24, 18, 30), (24, 32, 40), (24, 45, 51), (24, 70, 74), (25, 60, 65), (27, 36, 45), (28, 21, 35), (28, 45, 53), (30, 16, 34), (30, 40, 50), (30, 72, 78), (32, 24, 40), (32, 60, 68), (33, 44, 55), (33, 56, 65), (35, 12, 37), (35, 84, 91), (36, 15, 39), (36, 27, 45), (36, 48, 60), (36, 77, 85), (39, 52, 65), (39, 80, 89), (40, 9, 41), (40, 30, 50), (40, 42, 58), (40, 75, 85), (42, 40, 58), (42, 56, 70), (44, 33, 55), (45, 24, 51), (45, 28, 53), (45, 60, 75), (48, 14, 50), (48, 20, 52), (48, 36, 60), (48, 55, 73), (48, 64, 80), (51, 68, 85), (52, 39, 65), (54, 72, 90), (55, 48, 73), (56, 33, 65), (56, 42, 70), (57, 76, 95), (60, 11, 61), (60, 25, 65), (60, 32, 68), (60, 45, 75), (60, 63, 87), (63, 16, 65), (63, 60, 87), (64, 48, 80), (65, 72, 97), (68, 51, 85), (70, 24, 74), (72, 21, 75), (72, 30, 78), (72, 54, 90), (72, 65, 97), (75, 40, 85), (76, 57, 95), (77, 36, 85), (80, 18, 82), (80, 39, 89), (84, 13, 85), (84, 35, 91))\n"
     ]
    }
   ],
   "source": [
    "triple=[(a,b,c) for a in range(1,100) for b in range(1,100) for c in range(1,100) if a**2+b**2==c**2]\n",
    "\n",
    "print(tuple(triple))"
   ]
  },
  {
   "cell_type": "markdown",
   "metadata": {},
   "source": [
    "9\\. Normalization\n",
    "\n",
    "Write a function that takes a tuple of numbers and returns it with the entries normalized to one"
   ]
  },
  {
   "cell_type": "code",
   "execution_count": 20,
   "metadata": {},
   "outputs": [
    {
     "data": {
      "text/plain": [
       "[0.25, 0.5, 0.25]"
      ]
     },
     "execution_count": 20,
     "metadata": {},
     "output_type": "execute_result"
    }
   ],
   "source": [
    "def normalization(x):\n",
    "    nor=[float(i)/sum(x) for i in x]\n",
    "    return nor\n",
    "y=(0.07, 0.14, 0.07)\n",
    "normalization(y)\n"
   ]
  },
  {
   "cell_type": "code",
   "execution_count": null,
   "metadata": {},
   "outputs": [],
   "source": []
  }
 ],
 "metadata": {
  "kernelspec": {
   "display_name": "Python 3",
   "language": "python",
   "name": "python3"
  },
  "language_info": {
   "codemirror_mode": {
    "name": "ipython",
    "version": 3
   },
   "file_extension": ".py",
   "mimetype": "text/x-python",
   "name": "python",
   "nbconvert_exporter": "python",
   "pygments_lexer": "ipython3",
   "version": "3.8.8"
  }
 },
 "nbformat": 4,
 "nbformat_minor": 4
}
