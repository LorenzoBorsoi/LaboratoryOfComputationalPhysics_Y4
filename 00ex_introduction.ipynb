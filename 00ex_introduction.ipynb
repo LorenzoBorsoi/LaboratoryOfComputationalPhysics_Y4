{
 "cells": [
  {
   "cell_type": "markdown",
   "metadata": {},
   "source": [
    "1. The MickeyMouse problem\n",
    "\n",
    "a) Write a program that prints the numbers from 1 to 100. But for multiples of three print Mickey instead of the number and for the multiples of five print Mouse. For numbers which are multiples of both three and five print MickeyMouse\n",
    "\n",
    "b) Put the result in a tuple and substitute Mickey with Donald and Mouse with Duck"
   ]
  },
  {
   "cell_type": "code",
   "execution_count": 7,
   "metadata": {},
   "outputs": [
    {
     "name": "stdout",
     "output_type": "stream",
     "text": [
      "1, 2, Mickey3, 4, MouseMickey6, 7, 8, Mickey9, Mouse11, Mickey12, 13, 14, MickeyMouse16, 17, Mickey18, 19, MouseMickey21, 22, 23, Mickey24, Mouse26, Mickey27, 28, 29, MickeyMouse31, 32, Mickey33, 34, MouseMickey36, 37, 38, Mickey39, Mouse41, Mickey42, 43, 44, MickeyMouse46, 47, Mickey48, 49, MouseMickey51, 52, 53, Mickey54, Mouse56, Mickey57, 58, 59, MickeyMouse61, 62, Mickey63, 64, MouseMickey66, 67, 68, Mickey69, Mouse71, Mickey72, 73, 74, MickeyMouse76, 77, Mickey78, 79, MouseMickey81, 82, 83, Mickey84, Mouse86, Mickey87, 88, 89, MickeyMouse91, 92, Mickey93, 94, MouseMickey96, 97, 98, Mickey99, Mou\n",
      "('1', '2', 'Mickey3', '4', 'MouseMickey6', '7', '8', 'Mickey9', 'Mouse11', 'Mickey12', '13', '14', 'MickeyMouse16', '17', 'Mickey18', '19', 'MouseMickey21', '22', '23', 'Mickey24', 'Mouse26', 'Mickey27', '28', '29', 'MickeyMouse31', '32', 'Mickey33', '34', 'MouseMickey36', '37', '38', 'Mickey39', 'Mouse41', 'Mickey42', '43', '44', 'MickeyMouse46', '47', 'Mickey48', '49', 'MouseMickey51', '52', '53', 'Mickey54', 'Mouse56', 'Mickey57', '58', '59', 'MickeyMouse61', '62', 'Mickey63', '64', 'MouseMickey66', '67', '68', 'Mickey69', 'Mouse71', 'Mickey72', '73', '74', 'MickeyMouse76', '77', 'Mickey78', '79', 'MouseMickey81', '82', '83', 'Mickey84', 'Mouse86', 'Mickey87', '88', '89', 'MickeyMouse91', '92', 'Mickey93', '94', 'MouseMickey96', '97', '98', 'Mickey99', 'Duck')\n"
     ]
    }
   ],
   "source": [
    "s1=\"Write a program that prints the numbers from 1 to 100. \\\n",
    "But for multiples of three print Mickey instead of the number and for the multiples of five print Mouse. \\\n",
    "For numbers which are multiples of both three and five print MickeyMouse\"\n",
    " #Sarebbe meglio togliere MickeyMouse come opzione\n",
    "s=\"\"\n",
    "\n",
    "for i in range (1,101): #va specificato il range\n",
    "\n",
    "    \n",
    "    #if i%3 == 0  and i%5 == 0:  #ricordarsi i :\n",
    "     #   s+=\"MickeyMouse, \"  #sarebbe un pushback\n",
    "    if i%3==0:\n",
    "        s+=\"Mickey\"\n",
    "    if i%5==0:\n",
    "        s+=\"Mouse\"\n",
    "    else:\n",
    "        s+=\"{}, \".format(i)\n",
    "        \n",
    "print(s[:-2])\n",
    "\n",
    "\n",
    "t=list(s.split(\", \"))\n",
    "tup=tuple(t)\n",
    "\n",
    "\n",
    "t=['Donald' if x=='Mickey' else x for x in t]\n",
    "t=['Duck' if x=='Mouse' else x for x in t]\n",
    "t=['DonaldDuck' if x=='MickeyMouse' else x for x in t]\n",
    "\n",
    "tup=tuple(t)\n",
    "print(tup)"
   ]
  },
  {
   "cell_type": "markdown",
   "metadata": {},
   "source": [
    "2\\. The swap function\n",
    "\n",
    "Write a function that swap the values of two input variables x and y (whatever the type). Try to do that also without a temporary variable"
   ]
  },
  {
   "cell_type": "code",
   "execution_count": null,
   "metadata": {},
   "outputs": [],
   "source": [
    "x1=input(\"Enter x:\")  #Enter va bene?\n",
    "y1=input(\"Enter y:\")\n",
    "\n",
    "def swap (x1, y1):\n",
    "    return y1, x1\n",
    "\n",
    "x,y=swap(x1, y1)\n",
    "\n",
    "print(\"The swapped values are: {}, {}\".format(x, y))\n",
    "\n",
    "def swap1 (x1, y1):\n",
    "    ch=x1\n",
    "    x1=y1\n",
    "    y1=ch\n",
    "    return x1, y1\n",
    "\n",
    "x,y=swap1(x,y)\n",
    "\n",
    "print(\"The swapped again values are: {}, {}\".format(x, y))"
   ]
  },
  {
   "cell_type": "markdown",
   "metadata": {},
   "source": [
    "3\\. Computing the distance\n",
    "\n",
    "Write a function that calculates and returns the euclidean distance between two points *u* and *v*, where *u* and *v* are both 2-tuples *(x,y)*. For example, if *u=(3,0)* and *v=(0,4)*, the function should return 5"
   ]
  },
  {
   "cell_type": "code",
   "execution_count": null,
   "metadata": {},
   "outputs": [],
   "source": [
    "import math\n",
    "\n",
    "def dist(a,b):\n",
    "    distance=math.sqrt((a[0]-b[0])**2+(a[1]-b[1])**2) #radice quadrata\n",
    "    return distance\n",
    "\n",
    "\n",
    "a=[float(x) for x in input(\"Enter the cordinates x,y of the first point:\").split(',')] #modo per inserire come input più valori che vengano letti come int, oppure per uno solo si mette int(input...)\n",
    "b=[float(x) for x in input(\"Enter the cordinates x,y of the second point:\").split(',')] #split(',') invece ci dice come dividere i due valori, in questo caso con la virgola\n",
    "\n",
    "at=tuple(a)  #va bene anche fare così?\n",
    "bt=tuple(b)\n",
    "\n",
    "\n",
    "c=dist(a,b)\n",
    "print(\"The euclidean distance between the 2 points is: {}\".format(c))"
   ]
  },
  {
   "cell_type": "markdown",
   "metadata": {},
   "source": [
    "4\\. Counting letters\n",
    "\n",
    "Write a program to calculate the number of times each character occurs in a given string *s*. Ignore differneces in capitalization"
   ]
  },
  {
   "cell_type": "code",
   "execution_count": null,
   "metadata": {},
   "outputs": [],
   "source": [
    "sentence = input(\"Write a sentence: \")\n",
    "def chcounter(sentence):\n",
    "    sentence=sentence.upper()\n",
    "    c=list()\n",
    "    characters = [x for x in sorted(sentence)]\n",
    "    for i in range(0,len(characters)):\n",
    "        if characters[i]!=\" \" and characters[i] not in c :    #modo per verificare la presenza di un valore in una lista\n",
    "            print(\"Number of {} in the sentence is {}\".format(characters[i], characters.count(characters[i])))\n",
    "        c+=characters[i]\n",
    "        \n",
    "chcounter(sentence)"
   ]
  },
  {
   "cell_type": "markdown",
   "metadata": {},
   "source": [
    "5\\. Isolating the unique\n",
    "\n",
    "Write a function that determines and count the unique numbers in the list *l*"
   ]
  },
  {
   "cell_type": "code",
   "execution_count": null,
   "metadata": {},
   "outputs": [],
   "source": [
    "l = [36, 45, 58, 3, 74, 96, 64, 45, 31, 10, 24, 19, 33, 86, 99, 18, 63, 70, 85,\n",
    " 85, 63, 47, 56, 42, 70, 84, 88, 55, 20, 54, 8, 56, 51, 79, 81, 57, 37, 91,\n",
    " 1, 84, 84, 36, 66, 9, 89, 50, 42, 91, 50, 95, 90, 98, 39, 16, 82, 31, 92, 41,\n",
    " 45, 30, 66, 70, 34, 85, 94, 5, 3, 36, 72, 91, 84, 34, 87, 75, 53, 51, 20, 89, 51, 20]\n",
    "\n",
    "def uniquen(l):\n",
    "    c=list()\n",
    "    s=\"\"\n",
    "    for i in range(0,len(l)):  #andrebbe meglio for x in l\n",
    "        if l.count(l[i])==1 and l[i] not in c:\n",
    "            c.append(l[i]) #funziona meglio di +=\n",
    "            s+=\"{}, \".format(l[i])\n",
    "    return(s)\n",
    "\n",
    "print(\"The unique number of the list are: {}\".format(uniquen(l)[:-2]))"
   ]
  },
  {
   "cell_type": "markdown",
   "metadata": {},
   "source": [
    "6\\. Combination of functions\n",
    "\n",
    "Write two functions - one that returns the square of a number, and one that returns the cube. Now write a third function that returns the number raised to the 6th power using the two previous functions."
   ]
  },
  {
   "cell_type": "code",
   "execution_count": null,
   "metadata": {},
   "outputs": [],
   "source": [
    "def sec(a):\n",
    "    b=a**2\n",
    "    return b\n",
    "\n",
    "def ter(a):\n",
    "    b=a**3\n",
    "    return b\n",
    "\n",
    "def ses(a):\n",
    "    b=sec(ter(a))\n",
    "    return b\n",
    "\n",
    "x=float(input(\"Enter a number: \"))\n",
    "c=ses(x)\n",
    "print(\"The 6th power of the number is = {}\".format(c))"
   ]
  },
  {
   "cell_type": "markdown",
   "metadata": {},
   "source": [
    "7\\. Cubes\n",
    "\n",
    "Create a list of the cubes of x for x in *[0, 10]* using:\n",
    "\n",
    "a) a for loop\n",
    "\n",
    "b) a list comprehension"
   ]
  },
  {
   "cell_type": "code",
   "execution_count": null,
   "metadata": {},
   "outputs": [],
   "source": [
    "a=list()\n",
    "for x in range(0,11):\n",
    "    a.append(x**3)\n",
    "print(\"List of cubes with a)= {}\".format(a))\n",
    "\n",
    "b=[x**3 for x in range(0,11)]\n",
    "print(\"List of cubes with b)= {}\".format(b))"
   ]
  },
  {
   "cell_type": "markdown",
   "metadata": {},
   "source": [
    "8\\. Nested list comprehension\n",
    "\n",
    "A Pythagorean triple is an integer solution to the Pythagorean theorem $a^2+b^2=c^2$. The first Pythagorean triple is (3,4,5). Find and put in a tuple all unique Pythagorean triples for the positive integers a, b and c less than 100."
   ]
  },
  {
   "cell_type": "code",
   "execution_count": null,
   "metadata": {},
   "outputs": [],
   "source": [
    "import math\n",
    "l=list()\n",
    "for a in range(1,101):\n",
    "    for b in range(1,101):\n",
    "        c2=a**2+b**2\n",
    "        c=math.sqrt(c2)\n",
    "        if c%1==0 and c<=100:\n",
    "            li=tuple(sorted((a, b, int(c))))\n",
    "            if li not in l:\n",
    "                l.append(li)\n",
    "                \n",
    "l=tuple(l)\n",
    "\n",
    "print(\"The {} Pythagorean triples for positive integer a, b and c less than 100 are:\".format(len(l)))\n",
    "for tup in l:\n",
    "    print(tup)\n"
   ]
  },
  {
   "cell_type": "markdown",
   "metadata": {},
   "source": [
    "9\\. Normalization\n",
    "\n",
    "Write a function that takes a tuple of numbers and returns it with the entries normalized to one"
   ]
  },
  {
   "cell_type": "code",
   "execution_count": null,
   "metadata": {},
   "outputs": [],
   "source": [
    "a=[float(x) for x in input(\"Enter a tupla of numbers: \").split(',')]\n",
    "a=tuple(a)  #va messa ogni volta?\n",
    "\n",
    "def norma(a):\n",
    "    b=0\n",
    "    for x in a:\n",
    "        b+=x\n",
    "    c=[x/b for x in a] #giusto cosiì?\n",
    "    return tuple(c)\n",
    "\n",
    "print(\"The normalized tupla is: {}\".format(norma(a)))"
   ]
  },
  {
   "cell_type": "code",
   "execution_count": null,
   "metadata": {},
   "outputs": [],
   "source": []
  }
 ],
 "metadata": {
  "kernelspec": {
   "display_name": "Python 3",
   "language": "python",
   "name": "python3"
  },
  "language_info": {
   "codemirror_mode": {
    "name": "ipython",
    "version": 3
   },
   "file_extension": ".py",
   "mimetype": "text/x-python",
   "name": "python",
   "nbconvert_exporter": "python",
   "pygments_lexer": "ipython3",
   "version": "3.8.8"
  }
 },
 "nbformat": 4,
 "nbformat_minor": 2
}
