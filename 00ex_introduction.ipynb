{
 "cells": [
  {
   "cell_type": "markdown",
   "metadata": {},
   "source": [
    "1. The MickeyMouse problem\n",
    "\n",
    "a) Write a program that prints the numbers from 1 to 100. But for multiples of three print Mickey instead of the number and for the multiples of five print Mouse. For numbers which are multiples of both three and five print MickeyMouse\n",
    "\n",
    "b) Put the result in a tuple and substitute Mickey with Donald and Mouse with Duck"
   ]
  },
  {
   "cell_type": "code",
   "execution_count": 2,
   "metadata": {},
   "outputs": [
    {
     "name": "stdout",
     "output_type": "stream",
     "text": [
      "1\n",
      "2\n",
      "Mickey\n",
      "4\n",
      "Mouse\n",
      "Mickey\n",
      "7\n",
      "8\n",
      "Mickey\n",
      "Mouse\n",
      "11\n",
      "Mickey\n",
      "13\n",
      "14\n",
      "MickeyMouse\n",
      "16\n",
      "17\n",
      "Mickey\n",
      "19\n",
      "Mouse\n",
      "Mickey\n",
      "22\n",
      "23\n",
      "Mickey\n",
      "Mouse\n",
      "26\n",
      "Mickey\n",
      "28\n",
      "29\n",
      "MickeyMouse\n",
      "31\n",
      "32\n",
      "Mickey\n",
      "34\n",
      "Mouse\n",
      "Mickey\n",
      "37\n",
      "38\n",
      "Mickey\n",
      "Mouse\n",
      "41\n",
      "Mickey\n",
      "43\n",
      "44\n",
      "MickeyMouse\n",
      "46\n",
      "47\n",
      "Mickey\n",
      "49\n",
      "Mouse\n",
      "Mickey\n",
      "52\n",
      "53\n",
      "Mickey\n",
      "Mouse\n",
      "56\n",
      "Mickey\n",
      "58\n",
      "59\n",
      "MickeyMouse\n",
      "61\n",
      "62\n",
      "Mickey\n",
      "64\n",
      "Mouse\n",
      "Mickey\n",
      "67\n",
      "68\n",
      "Mickey\n",
      "Mouse\n",
      "71\n",
      "Mickey\n",
      "73\n",
      "74\n",
      "MickeyMouse\n",
      "76\n",
      "77\n",
      "Mickey\n",
      "79\n",
      "Mouse\n",
      "Mickey\n",
      "82\n",
      "83\n",
      "Mickey\n",
      "Mouse\n",
      "86\n",
      "Mickey\n",
      "88\n",
      "89\n",
      "MickeyMouse\n",
      "91\n",
      "92\n",
      "Mickey\n",
      "94\n",
      "Mouse\n",
      "Mickey\n",
      "97\n",
      "98\n",
      "Mickey\n",
      "Mouse\n"
     ]
    }
   ],
   "source": [
    "# Exercise 1 \n",
    "# point a)\n",
    "\n",
    "def funzione(i):\n",
    "    topo = ''\n",
    "    if (i%3 == 0) and (i%5==0):\n",
    "        topo = 'MickeyMouse'\n",
    "\n",
    "    elif (i%5 == 0):\n",
    "        topo = 'Mouse'\n",
    "\n",
    "    elif (i%3==0):\n",
    "        topo = 'Mickey'\n",
    "\n",
    "    if topo:\n",
    "       return(topo)\n",
    "    else:\n",
    "        return(i)\n",
    "\n",
    "\n",
    "for i in range(1,101):\n",
    "    print(funzione(i))"
   ]
  },
  {
   "cell_type": "code",
   "execution_count": 3,
   "metadata": {},
   "outputs": [
    {
     "name": "stdout",
     "output_type": "stream",
     "text": [
      "(1, 2, 'Donald', 4, 'Duck', 'Donald', 7, 8, 'Donald', 'Duck', 11, 'Donald', 13, 14, 'DonaldDuck', 16, 17, 'Donald', 19, 'Duck', 'Donald', 22, 23, 'Donald', 'Duck', 26, 'Donald', 28, 29, 'DonaldDuck', 31, 32, 'Donald', 34, 'Duck', 'Donald', 37, 38, 'Donald', 'Duck', 41, 'Donald', 43, 44, 'DonaldDuck', 46, 47, 'Donald', 49, 'Duck', 'Donald', 52, 53, 'Donald', 'Duck', 56, 'Donald', 58, 59, 'DonaldDuck', 61, 62, 'Donald', 64, 'Duck', 'Donald', 67, 68, 'Donald', 'Duck', 71, 'Donald', 73, 74, 'DonaldDuck', 76, 77, 'Donald', 79, 'Duck', 'Donald', 82, 83, 'Donald', 'Duck', 86, 'Donald', 88, 89, 'DonaldDuck', 91, 92, 'Donald', 94, 'Duck', 'Donald', 97, 98, 'Donald', 'Duck')\n"
     ]
    }
   ],
   "source": [
    "# Exercise 1 \n",
    "# point b)\n",
    "\n",
    "la_tupla = (funzione(i) for i in range (1,101))\n",
    "lista = list(la_tupla)\n",
    "for i, a in enumerate(lista):\n",
    "    if a == 'Mickey':\n",
    "        lista[i] = 'Donald'\n",
    "    elif a == 'Mouse':\n",
    "        lista[i] = 'Duck'\n",
    "    elif a == 'MickeyMouse':\n",
    "        lista[i] = 'DonaldDuck'\n",
    "\n",
    "la_tupla = tuple((lista))\n",
    "print(la_tupla)\n",
    "\n",
    "\n"
   ]
  },
  {
   "cell_type": "markdown",
   "metadata": {},
   "source": [
    "2\\. The swap function\n",
    "\n",
    "Write a function that swap the values of two input variables x and y (whatever the type). Try to do that also without a temporary variable"
   ]
  },
  {
   "cell_type": "code",
   "execution_count": 4,
   "metadata": {},
   "outputs": [
    {
     "name": "stdout",
     "output_type": "stream",
     "text": [
      "pizza\n",
      "5\n",
      "5\n",
      "pizza\n",
      "pizza\n",
      "7\n",
      "7\n",
      "pizza\n"
     ]
    }
   ],
   "source": [
    "# Exercise 2\n",
    "\n",
    "#With temporary variable, (print statements inserted for verification)\n",
    "def swappo(x,y):\n",
    "    print(x)\n",
    "    print(y)\n",
    "    t = x\n",
    "    x = y\n",
    "    y = t\n",
    "    print(x)\n",
    "    print(y)\n",
    "    \n",
    "swappo('pizza', 5)\n",
    "\n",
    "#Without temporary variable, (print statements inserted for verification)\n",
    "\n",
    "def swappo_senzat(x,y):\n",
    "    print(x)\n",
    "    print(y)\n",
    "    x, y = y,x \n",
    "    print(x)\n",
    "    print(y)\n",
    "\n",
    "swappo_senzat('pizza', 7)\n",
    "    "
   ]
  },
  {
   "cell_type": "markdown",
   "metadata": {},
   "source": [
    "3\\. Computing the distance\n",
    "\n",
    "Write a function that calculates and returns the euclidean distance between two points *u* and *v*, where *u* and *v* are both 2-tuples *(x,y)*. For example, if *u=(3,0)* and *v=(0,4)*, the function should return 5"
   ]
  },
  {
   "cell_type": "code",
   "execution_count": 5,
   "metadata": {},
   "outputs": [
    {
     "name": "stdout",
     "output_type": "stream",
     "text": [
      "Insert x coordinate and y coordinate of first point, separated by comma: 3,0\n",
      "Insert x coordinate and y coordinate of second point, separated by comma: 0,4\n"
     ]
    },
    {
     "data": {
      "text/plain": [
       "5.0"
      ]
     },
     "execution_count": 5,
     "metadata": {},
     "output_type": "execute_result"
    }
   ],
   "source": [
    "#Exercise 3\n",
    "\n",
    "import math as m\n",
    "\n",
    "def distance(a,b):\n",
    "    return m.sqrt(((a[0]-b[0])**2) + ((a[1]-b[1])**2) )\n",
    "\n",
    "\n",
    "first = input('Insert x coordinate and y coordinate of first point, separated by comma: ')\n",
    "u = tuple(float(x) for x in first.split(\",\"))\n",
    "second = input('Insert x coordinate and y coordinate of second point, separated by comma: ')\n",
    "v = tuple(float(x) for x in second.split(\",\"))\n",
    "\n",
    "    \n",
    "distance(u,v)\n"
   ]
  },
  {
   "cell_type": "markdown",
   "metadata": {},
   "source": [
    "4\\. Counting letters\n",
    "\n",
    "Write a program to calculate the number of times each character occurs in a given string *s*. Ignore differneces in capitalization"
   ]
  },
  {
   "cell_type": "code",
   "execution_count": 6,
   "metadata": {},
   "outputs": [
    {
     "name": "stdout",
     "output_type": "stream",
     "text": [
      "{'w': 2, 'r': 17, 'i': 14, 't': 19, 'e': 22, ' ': 41, 'a': 7, 'p': 8, 'o': 13, 'g': 1, 'm': 12, 'h': 9, 'n': 10, 's': 9, 'u': 9, 'b': 5, 'f': 10, '1': 2, '0': 2, '.': 2, 'l': 6, 'c': 3, 'k': 2, 'y': 2, 'd': 3, 'v': 2}\n"
     ]
    }
   ],
   "source": [
    "#Exercise 4\n",
    "\n",
    "s=\"Write a program that prints the numbers from 1 to 100. \\\n",
    "But for multiples of three print Mickey instead of the number and for the multiples of five print Mouse. \\\n",
    "For numbers which are multiples of both three and five print MickeyMouse\"\n",
    "\n",
    "dizio = {}\n",
    "  \n",
    "for i in s.lower():\n",
    "    if i in dizio:\n",
    "        dizio[i] += 1\n",
    "    else:\n",
    "        dizio[i] = 1\n",
    "\n",
    "print(dizio)"
   ]
  },
  {
   "cell_type": "markdown",
   "metadata": {},
   "source": [
    "5\\. Isolating the unique\n",
    "\n",
    "Write a function that determines and count the unique numbers in the list *l*"
   ]
  },
  {
   "cell_type": "code",
   "execution_count": 7,
   "metadata": {},
   "outputs": [
    {
     "name": "stdout",
     "output_type": "stream",
     "text": [
      "The list is long: 80\n",
      "The unique numbers in list are: 54\n",
      "The original list contains these numbers: [36, 45, 58, 3, 74, 96, 64, 45, 31, 10, 24, 19, 33, 86, 99, 18, 63, 70, 85, 85, 63, 47, 56, 42, 70, 84, 88, 55, 20, 54, 8, 56, 51, 79, 81, 57, 37, 91, 1, 84, 84, 36, 66, 9, 89, 50, 42, 91, 50, 95, 90, 98, 39, 16, 82, 31, 92, 41, 45, 30, 66, 70, 34, 85, 94, 5, 3, 36, 72, 91, 84, 34, 87, 75, 53, 51, 20, 89, 51, 20]\n",
      "The non-repeated numbers in target list are: [36, 45, 58, 3, 74, 96, 64, 31, 10, 24, 19, 33, 86, 99, 18, 63, 70, 85, 47, 56, 42, 84, 88, 55, 20, 54, 8, 51, 79, 81, 57, 37, 91, 1, 66, 9, 89, 50, 95, 90, 98, 39, 16, 82, 92, 41, 30, 34, 94, 5, 72, 87, 75, 53]\n"
     ]
    }
   ],
   "source": [
    "# Exercise 5\n",
    "\n",
    "\n",
    "l = [36, 45, 58, 3, 74, 96, 64, 45, 31, 10, 24, 19, 33, 86, 99, 18, 63, 70, 85,\n",
    " 85, 63, 47, 56, 42, 70, 84, 88, 55, 20, 54, 8, 56, 51, 79, 81, 57, 37, 91,\n",
    " 1, 84, 84, 36, 66, 9, 89, 50, 42, 91, 50, 95, 90, 98, 39, 16, 82, 31, 92, 41,\n",
    " 45, 30, 66, 70, 34, 85, 94, 5, 3, 36, 72, 91, 84, 34, 87, 75, 53, 51, 20, 89, 51, 20]\n",
    "\n",
    "# Create list with unique numbers in target list\n",
    "def unique(l):\n",
    "  u = []\n",
    "  for i in l:\n",
    "    if i not in u:\n",
    "      u.append(i)\n",
    "  print('The list is long:', len(l))\n",
    "  print('The unique numbers in list are:', len(u))  \n",
    "  print('The original list contains these numbers:', l)\n",
    "  print('The non-repeated numbers in target list are:', u)\n",
    "\n",
    "unique(l)"
   ]
  },
  {
   "cell_type": "markdown",
   "metadata": {},
   "source": [
    "6\\. Combination of functions\n",
    "\n",
    "Write two functions - one that returns the square of a number, and one that returns the cube. Now write a third function that returns the number raised to the 6th power using the two previous functions."
   ]
  },
  {
   "cell_type": "code",
   "execution_count": 9,
   "metadata": {},
   "outputs": [],
   "source": [
    "# Exercise 6 \n",
    "\n",
    "def square(n):\n",
    "    return n*n\n",
    "\n",
    "def cube(n):\n",
    "    return n*n*n\n",
    "\n",
    "\n",
    "def sixthpow(n):\n",
    "    return cube(square(n))\n",
    "\n"
   ]
  },
  {
   "cell_type": "markdown",
   "metadata": {},
   "source": [
    "7\\. Cubes\n",
    "\n",
    "Create a list of the cubes of x for x in *[0, 10]* using:\n",
    "\n",
    "a) a for loop\n",
    "\n",
    "b) a list comprehension"
   ]
  },
  {
   "cell_type": "code",
   "execution_count": 10,
   "metadata": {},
   "outputs": [
    {
     "name": "stdout",
     "output_type": "stream",
     "text": [
      "[0, 1, 8, 27, 64, 125, 216, 343, 512, 729, 1000]\n"
     ]
    }
   ],
   "source": [
    "#Exercise 7\n",
    "#Part a)\n",
    "\n",
    "def cube(n):\n",
    "    return n*n*n\n",
    "\n",
    "a = [0]*11\n",
    "for i in range(11):\n",
    "    a[i] = cube(i)\n",
    "    \n",
    "print(a)"
   ]
  },
  {
   "cell_type": "code",
   "execution_count": 11,
   "metadata": {},
   "outputs": [
    {
     "name": "stdout",
     "output_type": "stream",
     "text": [
      "[0, 1, 8, 27, 64, 125, 216, 343, 512, 729, 1000]\n"
     ]
    }
   ],
   "source": [
    "#Exercise 7\n",
    "#Part b)\n",
    "\n",
    "b = [cube(i) for i in range(11)]\n",
    "\n",
    "print(b)\n",
    "\n"
   ]
  },
  {
   "cell_type": "markdown",
   "metadata": {},
   "source": [
    "8\\. Nested list comprehension\n",
    "\n",
    "A Pythagorean triple is an integer solution to the Pythagorean theorem $a^2+b^2=c^2$. The first Pythagorean triple is (3,4,5). Find and put in a tuple all unique Pythagorean triples for the positive integers a, b and c less than 100."
   ]
  },
  {
   "cell_type": "code",
   "execution_count": 12,
   "metadata": {},
   "outputs": [
    {
     "name": "stdout",
     "output_type": "stream",
     "text": [
      "Number of unique triplets with a,b,c < 100 is : 50\n"
     ]
    },
    {
     "data": {
      "text/plain": [
       "{(3, 4, 5),\n",
       " (5, 12, 13),\n",
       " (6, 8, 10),\n",
       " (7, 24, 25),\n",
       " (8, 15, 17),\n",
       " (9, 12, 15),\n",
       " (9, 40, 41),\n",
       " (10, 24, 26),\n",
       " (11, 60, 61),\n",
       " (12, 16, 20),\n",
       " (12, 35, 37),\n",
       " (13, 84, 85),\n",
       " (14, 48, 50),\n",
       " (15, 20, 25),\n",
       " (15, 36, 39),\n",
       " (16, 30, 34),\n",
       " (16, 63, 65),\n",
       " (18, 24, 30),\n",
       " (18, 80, 82),\n",
       " (20, 21, 29),\n",
       " (20, 48, 52),\n",
       " (21, 28, 35),\n",
       " (21, 72, 75),\n",
       " (24, 32, 40),\n",
       " (24, 45, 51),\n",
       " (24, 70, 74),\n",
       " (25, 60, 65),\n",
       " (27, 36, 45),\n",
       " (28, 45, 53),\n",
       " (30, 40, 50),\n",
       " (30, 72, 78),\n",
       " (32, 60, 68),\n",
       " (33, 44, 55),\n",
       " (33, 56, 65),\n",
       " (35, 84, 91),\n",
       " (36, 48, 60),\n",
       " (36, 77, 85),\n",
       " (39, 52, 65),\n",
       " (39, 80, 89),\n",
       " (40, 42, 58),\n",
       " (40, 75, 85),\n",
       " (42, 56, 70),\n",
       " (45, 60, 75),\n",
       " (48, 55, 73),\n",
       " (48, 64, 80),\n",
       " (51, 68, 85),\n",
       " (54, 72, 90),\n",
       " (57, 76, 95),\n",
       " (60, 63, 87),\n",
       " (65, 72, 97)}"
      ]
     },
     "execution_count": 12,
     "metadata": {},
     "output_type": "execute_result"
    }
   ],
   "source": [
    "# Exercise 8. \n",
    "# Assuming \"less than 100\" to be < and not <=.\n",
    "\n",
    "def Pytha(k):\n",
    "    tripl = []\n",
    "    for a in range(1,k):\n",
    "        for b in range(1,k):\n",
    "            for c in range(1,k):\n",
    "                if (a**2 + b**2 == c**2):\n",
    "                    x = (a,b,c)\n",
    "                    tripl.append(x)\n",
    "                    A = set(tuple(sorted(i)) for i in tripl)\n",
    "    \n",
    "    print('Number of unique triplets with a,b,c <', k, 'is :', len(A))\n",
    "    return A\n",
    "\n",
    "Pytha(100)\n",
    "\n",
    "\n",
    "    \n",
    "\n",
    "                \n",
    "    \n",
    "\n",
    "    "
   ]
  },
  {
   "cell_type": "markdown",
   "metadata": {},
   "source": [
    "9\\. Normalization\n",
    "\n",
    "Write a function that takes a tuple of numbers and returns it with the entries normalized to one"
   ]
  },
  {
   "cell_type": "code",
   "execution_count": 14,
   "metadata": {},
   "outputs": [
    {
     "name": "stdout",
     "output_type": "stream",
     "text": [
      "Insert the numbers which must be normalized, separated by a comma (for decimal separation use point):2.5,5,2.5\n"
     ]
    },
    {
     "data": {
      "text/plain": [
       "[0.25, 0.5, 0.25]"
      ]
     },
     "execution_count": 14,
     "metadata": {},
     "output_type": "execute_result"
    }
   ],
   "source": [
    "# Exercise 9. Works for positive numbers (so ok for relative frequencies). \n",
    "\n",
    "def NormalizeTuples(X):\n",
    "    norm = sum(X)\n",
    "    nuovatupla = ([float(i)/norm for i in X])\n",
    "    return nuovatupla\n",
    "    \n",
    "\n",
    "\n",
    "\n",
    "nums = input('Insert the numbers which must be normalized, separated by a comma (for decimal separation use point):')\n",
    "X = tuple(float(x) for x in nums.split(\",\"))\n",
    "\n",
    "NormalizeTuples(X)\n",
    "\n"
   ]
  },
  {
   "cell_type": "code",
   "execution_count": 15,
   "metadata": {},
   "outputs": [
    {
     "name": "stdout",
     "output_type": "stream",
     "text": [
      "Insert the numbers which must be normalized, separated by a comma (for decimal separation use point):2.5,-5,2.5\n"
     ]
    },
    {
     "data": {
      "text/plain": [
       "[0.25, -0.5, 0.25]"
      ]
     },
     "execution_count": 15,
     "metadata": {},
     "output_type": "execute_result"
    }
   ],
   "source": [
    "# Exercise 9bis. Works also for negative numbers.\n",
    "# Not sure if this second version is useful for statistics, but it might be useful to \"calibrate\" something (?)\n",
    "# For example: \n",
    "# We have the inputs collected by 'something' in a tuple, with this code we normalize the response of \n",
    "# the 'something' and we keep the sign distinction.\n",
    "\n",
    "def NormalizeTuples1(X):\n",
    "    norm = sum(abs(i) for i in X)\n",
    "    nuovatupla = ([float(i)/norm for i in X])\n",
    "    return nuovatupla\n",
    "    \n",
    "\n",
    "\n",
    "\n",
    "nums = input('Insert the numbers which must be normalized, separated by a comma (for decimal separation use point):')\n",
    "X = tuple(float(x) for x in nums.split(\",\"))\n",
    "\n",
    "NormalizeTuples1(X)\n",
    "\n"
   ]
  },
  {
   "cell_type": "markdown",
   "metadata": {},
   "source": []
  }
 ],
 "metadata": {
  "kernelspec": {
   "display_name": "Python 3",
   "language": "python",
   "name": "python3"
  },
  "language_info": {
   "codemirror_mode": {
    "name": "ipython",
    "version": 3
   },
   "file_extension": ".py",
   "mimetype": "text/x-python",
   "name": "python",
   "nbconvert_exporter": "python",
   "pygments_lexer": "ipython3",
   "version": "3.8.10"
  }
 },
 "nbformat": 4,
 "nbformat_minor": 2
}
