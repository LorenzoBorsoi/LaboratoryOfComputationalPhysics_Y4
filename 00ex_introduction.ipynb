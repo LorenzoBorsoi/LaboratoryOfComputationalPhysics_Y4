{
 "cells": [
  {
   "cell_type": "markdown",
   "metadata": {},
   "source": [
    "1. The MickeyMouse problem\n",
    "\n",
    "a) Write a program that prints the numbers from 1 to 100. But for multiples of three print Mickey instead of the number and for the multiples of five print Mouse. For numbers which are multiples of both three and five print MickeyMouse\n",
    "\n",
    "b) Put the result in a tuple and substitute Mickey with Donald and Mouse with Duck"
   ]
  },
  {
   "cell_type": "code",
   "execution_count": 27,
   "metadata": {},
   "outputs": [
    {
     "name": "stdout",
     "output_type": "stream",
     "text": [
      "  1\n",
      "\n",
      "  2\n",
      "\n",
      "Mickey\n",
      "\n",
      "  4\n",
      "\n",
      "Mouse\n",
      "\n",
      "Mickey\n",
      "\n",
      "  7\n",
      "\n",
      "  8\n",
      "\n",
      "Mickey\n",
      "\n",
      "Mouse\n",
      "\n",
      " 11\n",
      "\n",
      "Mickey\n",
      "\n",
      " 13\n",
      "\n",
      " 14\n",
      "\n",
      "MickeyMouse\n",
      "\n",
      " 16\n",
      "\n",
      " 17\n",
      "\n",
      "Mickey\n",
      "\n",
      " 19\n",
      "\n",
      "Mouse\n",
      "\n",
      "Mickey\n",
      "\n",
      " 22\n",
      "\n",
      " 23\n",
      "\n",
      "Mickey\n",
      "\n",
      "Mouse\n",
      "\n",
      " 26\n",
      "\n",
      "Mickey\n",
      "\n",
      " 28\n",
      "\n",
      " 29\n",
      "\n",
      "MickeyMouse\n",
      "\n",
      " 31\n",
      "\n",
      " 32\n",
      "\n",
      "Mickey\n",
      "\n",
      " 34\n",
      "\n",
      "Mouse\n",
      "\n",
      "Mickey\n",
      "\n",
      " 37\n",
      "\n",
      " 38\n",
      "\n",
      "Mickey\n",
      "\n",
      "Mouse\n",
      "\n",
      " 41\n",
      "\n",
      "Mickey\n",
      "\n",
      " 43\n",
      "\n",
      " 44\n",
      "\n",
      "MickeyMouse\n",
      "\n",
      " 46\n",
      "\n",
      " 47\n",
      "\n",
      "Mickey\n",
      "\n",
      " 49\n",
      "\n",
      "Mouse\n",
      "\n",
      "Mickey\n",
      "\n",
      " 52\n",
      "\n",
      " 53\n",
      "\n",
      "Mickey\n",
      "\n",
      "Mouse\n",
      "\n",
      " 56\n",
      "\n",
      "Mickey\n",
      "\n",
      " 58\n",
      "\n",
      " 59\n",
      "\n",
      "MickeyMouse\n",
      "\n",
      " 61\n",
      "\n",
      " 62\n",
      "\n",
      "Mickey\n",
      "\n",
      " 64\n",
      "\n",
      "Mouse\n",
      "\n",
      "Mickey\n",
      "\n",
      " 67\n",
      "\n",
      " 68\n",
      "\n",
      "Mickey\n",
      "\n",
      "Mouse\n",
      "\n",
      " 71\n",
      "\n",
      "Mickey\n",
      "\n",
      " 73\n",
      "\n",
      " 74\n",
      "\n",
      "MickeyMouse\n",
      "\n",
      " 76\n",
      "\n",
      " 77\n",
      "\n",
      "Mickey\n",
      "\n",
      " 79\n",
      "\n",
      "Mouse\n",
      "\n",
      "Mickey\n",
      "\n",
      " 82\n",
      "\n",
      " 83\n",
      "\n",
      "Mickey\n",
      "\n",
      "Mouse\n",
      "\n",
      " 86\n",
      "\n",
      "Mickey\n",
      "\n",
      " 88\n",
      "\n",
      " 89\n",
      "\n",
      "MickeyMouse\n",
      "\n",
      " 91\n",
      "\n",
      " 92\n",
      "\n",
      "Mickey\n",
      "\n",
      " 94\n",
      "\n",
      "Mouse\n",
      "\n",
      "Mickey\n",
      "\n",
      " 97\n",
      "\n",
      " 98\n",
      "\n",
      "Mickey\n",
      "\n",
      "Mouse\n",
      "\n",
      "[1, 2, 'Donald', 4, 'Duck', 'Donald', 7, 8, 'Donald', 'Duck', 11, 'Donald', 13, 14, 'DonaldDuck', 16, 17, 'Donald', 19, 'Duck', 'Donald', 22, 23, 'Donald', 'Duck', 26, 'Donald', 28, 29, 'DonaldDuck', 31, 32, 'Donald', 34, 'Duck', 'Donald', 37, 38, 'Donald', 'Duck', 41, 'Donald', 43, 44, 'DonaldDuck', 46, 47, 'Donald', 49, 'Duck', 'Donald', 52, 53, 'Donald', 'Duck', 56, 'Donald', 58, 59, 'DonaldDuck', 61, 62, 'Donald', 64, 'Duck', 'Donald', 67, 68, 'Donald', 'Duck', 71, 'Donald', 73, 74, 'DonaldDuck', 76, 77, 'Donald', 79, 'Duck', 'Donald', 82, 83, 'Donald', 'Duck', 86, 'Donald', 88, 89, 'DonaldDuck', 91, 92, 'Donald', 94, 'Duck', 'Donald', 97, 98, 'Donald', 'Duck']\n"
     ]
    }
   ],
   "source": [
    "a = []\n",
    "for i in range(1,101):\n",
    "    if not i % 15:\n",
    "        print('MickeyMouse\\n')\n",
    "        a.append('MickeyMouse')\n",
    "    elif not i % 3:\n",
    "        print('Mickey\\n')\n",
    "        a.append('Mickey')\n",
    "    elif not i % 5:\n",
    "        print('Mouse\\n')\n",
    "        a.append('Mouse')\n",
    "    else:\n",
    "        print( '{:3}\\n'.format(i) )\n",
    "        a.append(i)\n",
    "        \n",
    "for i in range(0,100):\n",
    "    if a[i]=='Mickey':\n",
    "        a[i]='Donald'\n",
    "    elif a[i]=='Mouse':\n",
    "        a[i]='Duck'\n",
    "    elif a[i]=='MickeyMouse':\n",
    "        a[i]='DonaldDuck'\n",
    "        \n",
    "print(a)"
   ]
  },
  {
   "cell_type": "markdown",
   "metadata": {},
   "source": [
    "2\\. The swap function\n",
    "\n",
    "Write a function that swap the values of two input variables x and y (whatever the type). Try to do that also without a temporary variable"
   ]
  },
  {
   "cell_type": "code",
   "execution_count": 15,
   "metadata": {},
   "outputs": [
    {
     "name": "stdout",
     "output_type": "stream",
     "text": [
      "  2 \t   1\n"
     ]
    }
   ],
   "source": [
    "def swap(x,y):\n",
    "    return y,x\n",
    "\n",
    "x,y = 1,2\n",
    "x,y=swap(x,y)\n",
    "print('{:3} \\t {:3}'.format(x,y))"
   ]
  },
  {
   "cell_type": "markdown",
   "metadata": {},
   "source": [
    "3\\. Computing the distance\n",
    "\n",
    "Write a function that calculates and returns the euclidean distance between two points *u* and *v*, where *u* and *v* are both 2-tuples *(x,y)*. For example, if *u=(3,0)* and *v=(0,4)*, the function should return 5"
   ]
  },
  {
   "cell_type": "code",
   "execution_count": 40,
   "metadata": {},
   "outputs": [
    {
     "name": "stdout",
     "output_type": "stream",
     "text": [
      "5.0\n"
     ]
    }
   ],
   "source": [
    "def length(x,y):\n",
    "    return ((x[0]-y[0])**2+(x[1]-y[1])**2)**0.5\n",
    "\n",
    "print( length( (3,0), (0,4) ) )"
   ]
  },
  {
   "cell_type": "markdown",
   "metadata": {},
   "source": [
    "4\\. Counting letters\n",
    "\n",
    "Write a program to calculate the number of times each character occurs in a given string *s*. Ignore differneces in capitalization"
   ]
  },
  {
   "cell_type": "code",
   "execution_count": 23,
   "metadata": {},
   "outputs": [
    {
     "name": "stdout",
     "output_type": "stream",
     "text": [
      "the string \"s\" has:\n",
      "\n",
      "2 character \"0\"\n",
      "\n",
      "2 character \"1\"\n",
      "\n",
      "7 character \"a\"\n",
      "\n",
      "5 character \"b\"\n",
      "\n",
      "3 character \"c\"\n",
      "\n",
      "3 character \"d\"\n",
      "\n",
      "22 character \"e\"\n",
      "\n",
      "10 character \"f\"\n",
      "\n",
      "1 character \"g\"\n",
      "\n",
      "9 character \"h\"\n",
      "\n",
      "14 character \"i\"\n",
      "\n",
      "2 character \"k\"\n",
      "\n",
      "6 character \"l\"\n",
      "\n",
      "12 character \"m\"\n",
      "\n",
      "10 character \"n\"\n",
      "\n",
      "13 character \"o\"\n",
      "\n",
      "8 character \"p\"\n",
      "\n",
      "17 character \"r\"\n",
      "\n",
      "9 character \"s\"\n",
      "\n",
      "19 character \"t\"\n",
      "\n",
      "9 character \"u\"\n",
      "\n",
      "2 character \"v\"\n",
      "\n",
      "2 character \"w\"\n",
      "\n",
      "2 character \"y\"\n",
      "\n",
      "2 character \".\"\n",
      "\n",
      "41 character \" \"\n",
      "\n"
     ]
    }
   ],
   "source": [
    "import string\n",
    "s=\"Write a program that prints the numbers from 1 to 100. \\\n",
    "But for multiples of three print Mickey instead of the number and for the multiples of five print Mouse. \\\n",
    "For numbers which are multiples of both three and five print MickeyMouse\"\n",
    "\n",
    "results = []\n",
    "s = s.lower()\n",
    "print('the string \"s\" has:\\n')\n",
    "for c in string.printable:\n",
    "    n = s.count(c)\n",
    "    if n: print('{:1} character \"{}\"\\n'.format(n,c))"
   ]
  },
  {
   "cell_type": "markdown",
   "metadata": {},
   "source": [
    "5\\. Isolating the unique\n",
    "\n",
    "Write a function that determines and count the unique numbers in the list *l*"
   ]
  },
  {
   "cell_type": "code",
   "execution_count": 26,
   "metadata": {},
   "outputs": [
    {
     "name": "stdout",
     "output_type": "stream",
     "text": [
      "The unique numbers in the list are:\n",
      "\n",
      "58\n",
      "74\n",
      "96\n",
      "64\n",
      "10\n",
      "24\n",
      "19\n",
      "33\n",
      "86\n",
      "99\n",
      "18\n",
      "47\n",
      "88\n",
      "55\n",
      "54\n",
      "8\n",
      "79\n",
      "81\n",
      "57\n",
      "37\n",
      "1\n",
      "9\n",
      "95\n",
      "90\n",
      "98\n",
      "39\n",
      "16\n",
      "82\n",
      "92\n",
      "41\n",
      "30\n",
      "94\n",
      "5\n",
      "72\n",
      "87\n",
      "75\n",
      "53\n"
     ]
    }
   ],
   "source": [
    "l = [36, 45, 58, 3, 74, 96, 64, 45, 31, 10, 24, 19, 33, 86, 99, 18, 63, 70, 85,\n",
    " 85, 63, 47, 56, 42, 70, 84, 88, 55, 20, 54, 8, 56, 51, 79, 81, 57, 37, 91,\n",
    " 1, 84, 84, 36, 66, 9, 89, 50, 42, 91, 50, 95, 90, 98, 39, 16, 82, 31, 92, 41,\n",
    " 45, 30, 66, 70, 34, 85, 94, 5, 3, 36, 72, 91, 84, 34, 87, 75, 53, 51, 20, 89, 51, 20]\n",
    "\n",
    "print('The unique numbers in the list are:\\n')\n",
    "for i in l:\n",
    "    if l.count(i)==1:\n",
    "        print(i)"
   ]
  },
  {
   "cell_type": "markdown",
   "metadata": {},
   "source": [
    "6\\. Combination of functions\n",
    "\n",
    "Write two functions - one that returns the square of a number, and one that returns the cube. Now write a third function that returns the number raised to the 6th power using the two previous functions."
   ]
  },
  {
   "cell_type": "code",
   "execution_count": 28,
   "metadata": {},
   "outputs": [
    {
     "name": "stdout",
     "output_type": "stream",
     "text": [
      "64\n"
     ]
    }
   ],
   "source": [
    "def square(x):\n",
    "    return x**2\n",
    "def cube(x):\n",
    "    return x**3\n",
    "\n",
    "def sixth(x):\n",
    "    return cube(square(x))\n",
    "\n",
    "print(sixth(2))"
   ]
  },
  {
   "cell_type": "markdown",
   "metadata": {},
   "source": [
    "7\\. Cubes\n",
    "\n",
    "Create a list of the cubes of x for x in *[0, 10]* using:\n",
    "\n",
    "a) a for loop\n",
    "\n",
    "b) a list comprehension"
   ]
  },
  {
   "cell_type": "code",
   "execution_count": 30,
   "metadata": {},
   "outputs": [
    {
     "name": "stdout",
     "output_type": "stream",
     "text": [
      "[0, 1, 8, 27, 64, 125, 216, 343, 512, 729, 1000]\n",
      "[0, 1, 8, 27, 64, 125, 216, 343, 512, 729, 1000]\n"
     ]
    }
   ],
   "source": [
    "a = []\n",
    "for i in range(0,11):\n",
    "    a.append(cube(i))\n",
    "    \n",
    "b = [cube(i) for i in range(0,11)]\n",
    "\n",
    "print(a)\n",
    "print(b)"
   ]
  },
  {
   "cell_type": "markdown",
   "metadata": {},
   "source": [
    "8\\. Nested list comprehension\n",
    "\n",
    "A Pythagorean triple is an integer solution to the Pythagorean theorem $a^2+b^2=c^2$. The first Pythagorean triple is (3,4,5). Find and put in a tuple all unique Pythagorean triples for the positive integers a, b and c less than 100."
   ]
  },
  {
   "cell_type": "code",
   "execution_count": 34,
   "metadata": {},
   "outputs": [
    {
     "name": "stdout",
     "output_type": "stream",
     "text": [
      "[(3, 4, 5), (4, 3, 5), (5, 12, 13), (6, 8, 10), (7, 24, 25), (8, 6, 10), (8, 15, 17), (9, 12, 15), (9, 40, 41), (10, 24, 26), (11, 60, 61), (12, 5, 13), (12, 9, 15), (12, 16, 20), (12, 35, 37), (13, 84, 85), (14, 48, 50), (15, 8, 17), (15, 20, 25), (15, 36, 39), (16, 12, 20), (16, 30, 34), (16, 63, 65), (18, 24, 30), (18, 80, 82), (20, 15, 25), (20, 21, 29), (20, 48, 52), (21, 20, 29), (21, 28, 35), (21, 72, 75), (24, 7, 25), (24, 10, 26), (24, 18, 30), (24, 32, 40), (24, 45, 51), (24, 70, 74), (25, 60, 65), (27, 36, 45), (28, 21, 35), (28, 45, 53), (28, 96, 100), (30, 16, 34), (30, 40, 50), (30, 72, 78), (32, 24, 40), (32, 60, 68), (33, 44, 55), (33, 56, 65), (35, 12, 37), (35, 84, 91), (36, 15, 39), (36, 27, 45), (36, 48, 60), (36, 77, 85), (39, 52, 65), (39, 80, 89), (40, 9, 41), (40, 30, 50), (40, 42, 58), (40, 75, 85), (42, 40, 58), (42, 56, 70), (44, 33, 55), (45, 24, 51), (45, 28, 53), (45, 60, 75), (48, 14, 50), (48, 20, 52), (48, 36, 60), (48, 55, 73), (48, 64, 80), (51, 68, 85), (52, 39, 65), (54, 72, 90), (55, 48, 73), (56, 33, 65), (56, 42, 70), (57, 76, 95), (60, 11, 61), (60, 25, 65), (60, 32, 68), (60, 45, 75), (60, 63, 87), (60, 80, 100), (63, 16, 65), (63, 60, 87), (64, 48, 80), (65, 72, 97), (68, 51, 85), (70, 24, 74), (72, 21, 75), (72, 30, 78), (72, 54, 90), (72, 65, 97), (75, 40, 85), (76, 57, 95), (77, 36, 85), (80, 18, 82), (80, 39, 89), (80, 60, 100), (84, 13, 85), (84, 35, 91), (96, 28, 100)]\n"
     ]
    }
   ],
   "source": [
    "a = [(x,y,z) for x in range(1,101) for y in range(1,101) for z in range(1,101) if (x**2+y**2)==z**2]\n",
    "\n",
    "print(a)"
   ]
  },
  {
   "cell_type": "markdown",
   "metadata": {},
   "source": [
    "9\\. Normalization\n",
    "\n",
    "Write a function that takes a tuple of numbers and returns it with the entries normalized to one"
   ]
  },
  {
   "cell_type": "code",
   "execution_count": 9,
   "metadata": {},
   "outputs": [
    {
     "name": "stdout",
     "output_type": "stream",
     "text": [
      "<generator object norm.<locals>.<genexpr> at 0x7face484ed00>\n"
     ]
    }
   ],
   "source": [
    "\n",
    "def norm(x):\n",
    "    n=0\n",
    "    for i in x:\n",
    "        n += i\n",
    "    y = (j/n for j in x)\n",
    "    return y\n",
    "\n",
    "x = (1,2,3,4)\n",
    "\n",
    "print(norm(x))"
   ]
  },
  {
   "cell_type": "code",
   "execution_count": null,
   "metadata": {},
   "outputs": [],
   "source": []
  }
 ],
 "metadata": {
  "kernelspec": {
   "display_name": "Python 3",
   "language": "python",
   "name": "python3"
  },
  "language_info": {
   "codemirror_mode": {
    "name": "ipython",
    "version": 3
   },
   "file_extension": ".py",
   "mimetype": "text/x-python",
   "name": "python",
   "nbconvert_exporter": "python",
   "pygments_lexer": "ipython3",
   "version": "3.6.8"
  }
 },
 "nbformat": 4,
 "nbformat_minor": 2
}
