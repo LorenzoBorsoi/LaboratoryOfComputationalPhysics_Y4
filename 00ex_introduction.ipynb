{
 "cells": [
  {
   "cell_type": "markdown",
   "metadata": {},
   "source": [
    "1. The MickeyMouse problem\n",
    "\n",
    "a) Write a program that prints the numbers from 1 to 100. But for multiples of three print Mickey instead of the number and for the multiples of five print Mouse. For numbers which are multiples of both three and five print MickeyMouse\n",
    "\n",
    "b) Put the result in a tuple and substitute Mickey with Donald and Mouse with Duck"
   ]
  },
  {
   "cell_type": "code",
   "execution_count": 18,
   "metadata": {},
   "outputs": [
    {
     "name": "stdout",
     "output_type": "stream",
     "text": [
      "mickymouse\n",
      "1\n",
      "2\n",
      "micky\n",
      "4\n",
      "mouse\n",
      "micky\n",
      "7\n",
      "8\n",
      "micky\n",
      "mouse\n",
      "11\n",
      "micky\n",
      "13\n",
      "14\n",
      "mickymouse\n",
      "16\n",
      "17\n",
      "micky\n",
      "19\n",
      "mouse\n",
      "micky\n",
      "22\n",
      "23\n",
      "micky\n",
      "mouse\n",
      "26\n",
      "micky\n",
      "28\n",
      "29\n",
      "mickymouse\n",
      "31\n",
      "32\n",
      "micky\n",
      "34\n",
      "mouse\n",
      "micky\n",
      "37\n",
      "38\n",
      "micky\n",
      "mouse\n",
      "41\n",
      "micky\n",
      "43\n",
      "44\n",
      "mickymouse\n",
      "46\n",
      "47\n",
      "micky\n",
      "49\n",
      "mouse\n",
      "micky\n",
      "52\n",
      "53\n",
      "micky\n",
      "mouse\n",
      "56\n",
      "micky\n",
      "58\n",
      "59\n",
      "mickymouse\n",
      "61\n",
      "62\n",
      "micky\n",
      "64\n",
      "mouse\n",
      "micky\n",
      "67\n",
      "68\n",
      "micky\n",
      "mouse\n",
      "71\n",
      "micky\n",
      "73\n",
      "74\n",
      "mickymouse\n",
      "76\n",
      "77\n",
      "micky\n",
      "79\n",
      "mouse\n",
      "micky\n",
      "82\n",
      "83\n",
      "micky\n",
      "mouse\n",
      "86\n",
      "micky\n",
      "88\n",
      "89\n",
      "mickymouse\n",
      "91\n",
      "92\n",
      "micky\n",
      "94\n",
      "mouse\n",
      "micky\n",
      "97\n",
      "98\n",
      "micky\n",
      "mouse\n"
     ]
    }
   ],
   "source": [
    "size=100\n",
    "str1=\"mickymouse\"\n",
    "str2=\"mouse\"\n",
    "str3=\"micky\"\n",
    "mult1=3\n",
    "mult2=5\n",
    "for num in range(size+1):\n",
    "    if (num % mult1 == 0 and num % mult2 == 0 ):\n",
    "        print(str1)\n",
    "    elif (num % mult2 == 0):\n",
    "        print(str2)\n",
    "    elif (num % mult1 == 0 ): \n",
    "        print(str3)\n",
    "    else :\n",
    "        print(num)"
   ]
  },
  {
   "cell_type": "code",
   "execution_count": 19,
   "metadata": {},
   "outputs": [
    {
     "name": "stdout",
     "output_type": "stream",
     "text": [
      "['mickymouse', 1, 2, 'donald', 4, 'duck', 'donald', 7, 8, 'donald', 'duck', 11, 'donald', 13, 14, 'mickymouse', 16, 17, 'donald', 19, 'duck', 'donald', 22, 23, 'donald', 'duck', 26, 'donald', 28, 29, 'mickymouse', 31, 32, 'donald', 34, 'duck', 'donald', 37, 38, 'donald', 'duck', 41, 'donald', 43, 44, 'mickymouse', 46, 47, 'donald', 49, 'duck', 'donald', 52, 53, 'donald', 'duck', 56, 'donald', 58, 59, 'mickymouse', 61, 62, 'donald', 64, 'duck', 'donald', 67, 68, 'donald', 'duck', 71, 'donald', 73, 74, 'mickymouse', 76, 77, 'donald', 79, 'duck', 'donald', 82, 83, 'donald', 'duck', 86, 'donald', 88, 89, 'mickymouse', 91, 92, 'donald', 94, 'duck', 'donald', 97, 98, 'donald', 'duck']\n"
     ]
    }
   ],
   "source": [
    "\n",
    "str1=\"mickymouse\"\n",
    "str2=\"mouse\"\n",
    "str3=\"micky\"\n",
    "mult1=3\n",
    "mult2=5\n",
    "out=[]\n",
    "for num in range(size+1):\n",
    "    if (num % mult1 == 0 and num % mult2 == 0 ):\n",
    "        out.append(str1)\n",
    "    elif (num % mult2 == 0):\n",
    "        out.append(str2)\n",
    "    elif (num % mult1 == 0 ): \n",
    "        out.append(str3)\n",
    "    else :\n",
    "        out.append(num)\n",
    "\n",
    "#print(out) \n",
    "newout=[]\n",
    "for array in out:\n",
    "    if (array==\"micky\"):\n",
    "#         newout.append(array.replace(\"micky\",\"donald\"))\n",
    "        newout.append(\"donald\")\n",
    "        \n",
    "    elif (array==\"mouse\"):\n",
    "#         newout.append(array.replace(\"mouse\",\"duck\"))\n",
    "        newout.append(\"duck\")\n",
    "        \n",
    "    else :\n",
    "        newout.append(array)\n",
    "        \n",
    "print(newout)        \n",
    "\n"
   ]
  },
  {
   "cell_type": "markdown",
   "metadata": {},
   "source": [
    "2\\. The swap function\n",
    "\n",
    "Write a function that swap the values of two input variables x and y (whatever the type). Try to do that also without a temporary variable"
   ]
  },
  {
   "cell_type": "code",
   "execution_count": 16,
   "metadata": {},
   "outputs": [
    {
     "data": {
      "text/plain": [
       "(1, 2)"
      ]
     },
     "execution_count": 16,
     "metadata": {},
     "output_type": "execute_result"
    }
   ],
   "source": [
    "#the swap function\n",
    "\n",
    "def swap(x,y):\n",
    "    x,y=y,x\n",
    "    return(x,y)\n",
    "\n",
    "  \n",
    "swap(2,1)"
   ]
  },
  {
   "cell_type": "markdown",
   "metadata": {},
   "source": [
    "3\\. Computing the distance\n",
    "\n",
    "Write a function that calculates and returns the euclidean distance between two points *u* and *v*, where *u* and *v* are both 2-tuples *(x,y)*. For example, if *u=(3,0)* and *v=(0,4)*, the function should return 5"
   ]
  },
  {
   "cell_type": "code",
   "execution_count": 15,
   "metadata": {},
   "outputs": [
    {
     "data": {
      "text/plain": [
       "5.0"
      ]
     },
     "execution_count": 15,
     "metadata": {},
     "output_type": "execute_result"
    }
   ],
   "source": [
    "#computing the distance/def\n",
    "\n",
    "import math\n",
    "def distance(a,b):\n",
    "    \"a,b are 2D inputs(x,y)\"\n",
    "    result=math.sqrt(((a[0]-b[0])**2)+((a[1]-b[1])**2))\n",
    "    return(result)\n",
    "distance((3,0),(0,4))"
   ]
  },
  {
   "cell_type": "markdown",
   "metadata": {},
   "source": [
    "4\\. Counting letters\n",
    "\n",
    "Write a program to calculate the number of times each character occurs in a given string *s*. Ignore differneces in capitalization"
   ]
  },
  {
   "cell_type": "code",
   "execution_count": 3,
   "metadata": {},
   "outputs": [
    {
     "name": "stdout",
     "output_type": "stream",
     "text": [
      "{'w': 2, 'r': 17, 'i': 14, 't': 19, 'e': 22, ' ': 41, 'a': 7, 'p': 8, 'o': 13, 'g': 1, 'm': 12, 'h': 9, 'n': 10, 's': 9, 'u': 9, 'b': 5, 'f': 10, '1': 2, '0': 2, '.': 2, 'l': 6, 'c': 3, 'k': 2, 'y': 2, 'd': 3, 'v': 2}\n"
     ]
    }
   ],
   "source": [
    "s=\"Write a program that prints the numbers from 1 to 100. \\\n",
    "But for multiples of three print Mickey instead of the number and for the multiples of five print Mouse. \\\n",
    "For numbers which are multiples of both three and five print MickeyMouse\"\n",
    "\n",
    "\n",
    "\n",
    "\n",
    "character_occurs= {}\n",
    "\n",
    "for i in s:\n",
    "    \n",
    "    if i.lower() in character_occurs:\n",
    "        \n",
    "        character_occurs[i.lower()] += 1\n",
    "    else:\n",
    "        \n",
    "        character_occurs[i.lower()] = 1\n",
    "        \n",
    "print(character_occurs)\n"
   ]
  },
  {
   "cell_type": "markdown",
   "metadata": {},
   "source": [
    "5\\. Isolating the unique\n",
    "\n",
    "Write a function that determines and count the unique numbers in the list *l*"
   ]
  },
  {
   "cell_type": "code",
   "execution_count": 14,
   "metadata": {},
   "outputs": [
    {
     "name": "stdout",
     "output_type": "stream",
     "text": [
      "isolating unique: [0, 1, 2, 3, 4, 5, 6, 7, 8, 9, 10]\n"
     ]
    }
   ],
   "source": [
    "l = [36, 45, 58, 3, 74, 96, 64, 45, 31, 10, 24, 19, 33, 86, 99, 18, 63, 70, 85,\n",
    " 85, 63, 47, 56, 42, 70, 84, 88, 55, 20, 54, 8, 56, 51, 79, 81, 57, 37, 91,\n",
    " 1, 84, 84, 36, 66, 9, 89, 50, 42, 91, 50, 95, 90, 98, 39, 16, 82, 31, 92, 41,\n",
    " 45, 30, 66, 70, 34, 85, 94, 5, 3, 36, 72, 91, 84, 34, 87, 75, 53, 51, 20, 89, 51, 20]\n",
    "\n",
    "a=list(set(A)) #set just have unique numbers!\n",
    "print(\"isolating unique:\",a)"
   ]
  },
  {
   "cell_type": "markdown",
   "metadata": {},
   "source": [
    "6\\. Combination of functions\n",
    "\n",
    "Write two functions - one that returns the square of a number, and one that returns the cube. Now write a third function that returns the number raised to the 6th power using the two previous functions."
   ]
  },
  {
   "cell_type": "code",
   "execution_count": 13,
   "metadata": {},
   "outputs": [
    {
     "name": "stdout",
     "output_type": "stream",
     "text": [
      "square of x: 4 \n",
      "\n",
      "cube of x: 8 \n",
      "\n",
      "power of x: 64 \n",
      "\n"
     ]
    }
   ],
   "source": [
    "\n",
    "def square(x):\n",
    "    result=x**2\n",
    "    return(result)\n",
    "def cube(y):\n",
    "    result=y**3\n",
    "    return(result)\n",
    "def power(z):\n",
    "    result=cube(square(z))\n",
    "    return(result)\n",
    "print(\"square of x:\",square(2),'\\n')\n",
    "print(\"cube of x:\",cube(2),'\\n')\n",
    "print(\"power of x:\",power(2),'\\n')"
   ]
  },
  {
   "cell_type": "markdown",
   "metadata": {},
   "source": [
    "7\\. Cubes\n",
    "\n",
    "Create a list of the cubes of x for x in *[0, 10]* using:\n",
    "\n",
    "a) a for loop\n",
    "\n",
    "b) a list comprehension"
   ]
  },
  {
   "cell_type": "code",
   "execution_count": 9,
   "metadata": {},
   "outputs": [
    {
     "name": "stdout",
     "output_type": "stream",
     "text": [
      "for loop: [0, 1, 8, 27, 64, 125, 216, 343, 512, 729, 1000] \n",
      "\n",
      "list comprehension: [0, 1, 8, 27, 64, 125, 216, 343, 512, 729, 1000]\n"
     ]
    }
   ],
   "source": [
    "#cube(a)\n",
    "\n",
    "size=10\n",
    "A=[]\n",
    "for x in range(size+1):\n",
    "    A.append(x**3)\n",
    "print(\"for loop:\",A,'\\n')\n",
    "\n",
    "#cube(b)\n",
    "\n",
    "A=[0,1,2,3,4,5,6,7,8,9,10]\n",
    "size=10\n",
    "A=range(0,size+1)\n",
    "B=[x**3 for x in A]\n",
    "print(\"list comprehension:\",B)"
   ]
  },
  {
   "cell_type": "markdown",
   "metadata": {},
   "source": [
    "8\\. Nested list comprehension\n",
    "\n",
    "A Pythagorean triple is an integer solution to the Pythagorean theorem $a^2+b^2=c^2$. The first Pythagorean triple is (3,4,5). Find and put in a tuple all unique Pythagorean triples for the positive integers a, b and c less than 100."
   ]
  },
  {
   "cell_type": "code",
   "execution_count": 7,
   "metadata": {},
   "outputs": [
    {
     "name": "stdout",
     "output_type": "stream",
     "text": [
      "Pythagorean triples 1 : (3, 4, 5)\n",
      "Pythagorean triples 2 : (5, 12, 13)\n",
      "Pythagorean triples 3 : (6, 8, 10)\n",
      "Pythagorean triples 4 : (7, 24, 25)\n",
      "Pythagorean triples 5 : (8, 15, 17)\n",
      "Pythagorean triples 6 : (9, 12, 15)\n",
      "Pythagorean triples 7 : (9, 40, 41)\n",
      "Pythagorean triples 8 : (10, 24, 26)\n",
      "Pythagorean triples 9 : (11, 60, 61)\n",
      "Pythagorean triples 10 : (12, 16, 20)\n",
      "Pythagorean triples 11 : (12, 35, 37)\n",
      "Pythagorean triples 12 : (13, 84, 85)\n",
      "Pythagorean triples 13 : (14, 48, 50)\n",
      "Pythagorean triples 14 : (15, 20, 25)\n",
      "Pythagorean triples 15 : (15, 36, 39)\n",
      "Pythagorean triples 16 : (16, 30, 34)\n",
      "Pythagorean triples 17 : (16, 63, 65)\n",
      "Pythagorean triples 18 : (18, 24, 30)\n",
      "Pythagorean triples 19 : (18, 80, 82)\n",
      "Pythagorean triples 20 : (20, 21, 29)\n",
      "Pythagorean triples 21 : (20, 48, 52)\n",
      "Pythagorean triples 22 : (21, 28, 35)\n",
      "Pythagorean triples 23 : (21, 72, 75)\n",
      "Pythagorean triples 24 : (24, 32, 40)\n",
      "Pythagorean triples 25 : (24, 45, 51)\n",
      "Pythagorean triples 26 : (24, 70, 74)\n",
      "Pythagorean triples 27 : (25, 60, 65)\n",
      "Pythagorean triples 28 : (27, 36, 45)\n",
      "Pythagorean triples 29 : (28, 45, 53)\n",
      "Pythagorean triples 30 : (28, 96, 100)\n",
      "Pythagorean triples 31 : (30, 40, 50)\n",
      "Pythagorean triples 32 : (30, 72, 78)\n",
      "Pythagorean triples 33 : (32, 60, 68)\n",
      "Pythagorean triples 34 : (33, 44, 55)\n",
      "Pythagorean triples 35 : (33, 56, 65)\n",
      "Pythagorean triples 36 : (35, 84, 91)\n",
      "Pythagorean triples 37 : (36, 48, 60)\n",
      "Pythagorean triples 38 : (36, 77, 85)\n",
      "Pythagorean triples 39 : (39, 52, 65)\n",
      "Pythagorean triples 40 : (39, 80, 89)\n",
      "Pythagorean triples 41 : (40, 42, 58)\n",
      "Pythagorean triples 42 : (40, 75, 85)\n",
      "Pythagorean triples 43 : (42, 56, 70)\n",
      "Pythagorean triples 44 : (45, 60, 75)\n",
      "Pythagorean triples 45 : (48, 55, 73)\n",
      "Pythagorean triples 46 : (48, 64, 80)\n",
      "Pythagorean triples 47 : (51, 68, 85)\n",
      "Pythagorean triples 48 : (54, 72, 90)\n",
      "Pythagorean triples 49 : (57, 76, 95)\n",
      "Pythagorean triples 50 : (60, 63, 87)\n",
      "Pythagorean triples 51 : (60, 80, 100)\n",
      "Pythagorean triples 52 : (65, 72, 97)\n",
      "\n",
      " my result is in list of tuple: \n",
      " [(3, 4, 5), (5, 12, 13), (6, 8, 10), (7, 24, 25), (8, 15, 17), (9, 12, 15), (9, 40, 41), (10, 24, 26), (11, 60, 61), (12, 16, 20), (12, 35, 37), (13, 84, 85), (14, 48, 50), (15, 20, 25), (15, 36, 39), (16, 30, 34), (16, 63, 65), (18, 24, 30), (18, 80, 82), (20, 21, 29), (20, 48, 52), (21, 28, 35), (21, 72, 75), (24, 32, 40), (24, 45, 51), (24, 70, 74), (25, 60, 65), (27, 36, 45), (28, 45, 53), (28, 96, 100), (30, 40, 50), (30, 72, 78), (32, 60, 68), (33, 44, 55), (33, 56, 65), (35, 84, 91), (36, 48, 60), (36, 77, 85), (39, 52, 65), (39, 80, 89), (40, 42, 58), (40, 75, 85), (42, 56, 70), (45, 60, 75), (48, 55, 73), (48, 64, 80), (51, 68, 85), (54, 72, 90), (57, 76, 95), (60, 63, 87), (60, 80, 100), (65, 72, 97)]\n"
     ]
    }
   ],
   "source": [
    "#Pythagorean triple\n",
    "\n",
    "size=100\n",
    "cnt=1\n",
    "pythagorean_triples=()\n",
    "list_of_tuple=[]\n",
    "for a in range(1,size+1):\n",
    "    for b in range(a,size+1):\n",
    "        for c in range(b,size+1):\n",
    "            if (c*c==a*a+b*b):\n",
    "                print(\"Pythagorean triples\",cnt,\":\",(a,b,c),)\n",
    "                pythagorean_triples=pythagorean_triples+(a,b,c)\n",
    "                list_of_tuple.append((a,b,c))\n",
    "                cnt+=1\n",
    "            c+=1\n",
    "        b+=1\n",
    "    a+=1\n",
    "    \n",
    "#print(pythagorean_triples)\n",
    "print('\\n',\"my result is in list of tuple:\",'\\n',list_of_tuple)"
   ]
  },
  {
   "cell_type": "markdown",
   "metadata": {},
   "source": [
    "9\\. Normalization\n",
    "\n",
    "Write a function that takes a tuple of numbers and returns it with the entries normalized to one"
   ]
  },
  {
   "cell_type": "code",
   "execution_count": 1,
   "metadata": {},
   "outputs": [
    {
     "name": "stdout",
     "output_type": "stream",
     "text": [
      "normalized to one: \n",
      " [0.16666666666666666, 0.3333333333333333, 0.5, 0.6666666666666666, 0.8333333333333334, 1.0]\n"
     ]
    }
   ],
   "source": [
    "#Normalization\n",
    "def norm(input_tuple):\n",
    "    max_num=max(input_tuple)\n",
    "    output_tuple = [i/max_num for i in input_tuple]\n",
    "    return output_tuple\n",
    "\n",
    "inp_tuple =(1,2,3,4,5,6)\n",
    "print(\"normalized to one:\",'\\n',norm(inp_tuple))"
   ]
  },
  {
   "cell_type": "code",
   "execution_count": null,
   "metadata": {},
   "outputs": [],
   "source": []
  }
 ],
 "metadata": {
  "kernelspec": {
   "display_name": "Python 3",
   "language": "python",
   "name": "python3"
  },
  "language_info": {
   "codemirror_mode": {
    "name": "ipython",
    "version": 3
   },
   "file_extension": ".py",
   "mimetype": "text/x-python",
   "name": "python",
   "nbconvert_exporter": "python",
   "pygments_lexer": "ipython3",
   "version": "3.8.5"
  }
 },
 "nbformat": 4,
 "nbformat_minor": 2
}
