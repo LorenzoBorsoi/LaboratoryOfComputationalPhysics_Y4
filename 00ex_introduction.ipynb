{
 "cells": [
  {
   "cell_type": "markdown",
   "metadata": {},
   "source": [
    "1. The MickeyMouse problem\n",
    "\n",
    "a) Write a program that prints the numbers from 1 to 100. But for multiples of three print Mickey instead of the number and for the multiples of five print Mouse. For numbers which are multiples of both three and five print MickeyMouse\n",
    "\n",
    "b) Put the result in a tuple and substitute Mickey with Donald and Mouse with Duck"
   ]
  },
  {
   "cell_type": "code",
   "execution_count": 1,
   "metadata": {},
   "outputs": [
    {
     "name": "stdout",
     "output_type": "stream",
     "text": [
      "MickeyMouse\n",
      "1\n",
      "2\n",
      "Mickey\n",
      "4\n",
      "Mouse\n",
      "Mickey\n",
      "7\n",
      "8\n",
      "Mickey\n",
      "Mouse\n",
      "11\n",
      "Mickey\n",
      "13\n",
      "14\n",
      "MickeyMouse\n",
      "16\n",
      "17\n",
      "Mickey\n",
      "19\n",
      "Mouse\n",
      "Mickey\n",
      "22\n",
      "23\n",
      "Mickey\n",
      "Mouse\n",
      "26\n",
      "Mickey\n",
      "28\n",
      "29\n",
      "MickeyMouse\n",
      "31\n",
      "32\n",
      "Mickey\n",
      "34\n",
      "Mouse\n",
      "Mickey\n",
      "37\n",
      "38\n",
      "Mickey\n",
      "Mouse\n",
      "41\n",
      "Mickey\n",
      "43\n",
      "44\n",
      "MickeyMouse\n",
      "46\n",
      "47\n",
      "Mickey\n",
      "49\n",
      "Mouse\n",
      "Mickey\n",
      "52\n",
      "53\n",
      "Mickey\n",
      "Mouse\n",
      "56\n",
      "Mickey\n",
      "58\n",
      "59\n",
      "MickeyMouse\n",
      "61\n",
      "62\n",
      "Mickey\n",
      "64\n",
      "Mouse\n",
      "Mickey\n",
      "67\n",
      "68\n",
      "Mickey\n",
      "Mouse\n",
      "71\n",
      "Mickey\n",
      "73\n",
      "74\n",
      "MickeyMouse\n",
      "76\n",
      "77\n",
      "Mickey\n",
      "79\n",
      "Mouse\n",
      "Mickey\n",
      "82\n",
      "83\n",
      "Mickey\n",
      "Mouse\n",
      "86\n",
      "Mickey\n",
      "88\n",
      "89\n",
      "MickeyMouse\n",
      "91\n",
      "92\n",
      "Mickey\n",
      "94\n",
      "Mouse\n",
      "Mickey\n",
      "97\n",
      "98\n",
      "Mickey\n",
      "Mouse\n",
      "('DonaldDuck', 1, 2, 'Donald', 4, 'Duck', 'Donald', 7, 8, 'Donald', 'Duck', 11, 'Donald', 13, 14, 'DonaldDuck', 16, 17, 'Donald', 19, 'Duck', 'Donald', 22, 23, 'Donald', 'Duck', 26, 'Donald', 28, 29, 'DonaldDuck', 31, 32, 'Donald', 34, 'Duck', 'Donald', 37, 38, 'Donald', 'Duck', 41, 'Donald', 43, 44, 'DonaldDuck', 46, 47, 'Donald', 49, 'Duck', 'Donald', 52, 53, 'Donald', 'Duck', 56, 'Donald', 58, 59, 'DonaldDuck', 61, 62, 'Donald', 64, 'Duck', 'Donald', 67, 68, 'Donald', 'Duck', 71, 'Donald', 73, 74, 'DonaldDuck', 76, 77, 'Donald', 79, 'Duck', 'Donald', 82, 83, 'Donald', 'Duck', 86, 'Donald', 88, 89, 'DonaldDuck', 91, 92, 'Donald', 94, 'Duck', 'Donald', 97, 98, 'Donald', 'Duck')\n"
     ]
    }
   ],
   "source": [
    "a=()\n",
    "for i in range (0,101):\n",
    "    if i%3 == 0 and i%5 !=0:\n",
    "        print(\"Mickey\")\n",
    "        a= a + (\"Mickey\",)\n",
    "    elif i%5==0 and i%3 !=0:\n",
    "        print(\"Mouse\")\n",
    "        a= a + (\"Mouse\",)\n",
    "    elif i%3==0 and i%5==0:\n",
    "        print(\"MickeyMouse\")\n",
    "        a= a + (\"MickeyMouse\",)\n",
    "    else:\n",
    "        print(i)\n",
    "        a = a + (i,)\n",
    "    \n",
    "b=list(a)\n",
    "\n",
    "dic={'Mickey':'Donald', 'Mouse':'Duck', 'MickeyMouse':'DonaldDuck'}\n",
    "c=[dic.get(n,n) for n in b]\n",
    "a=tuple(c)\n",
    "print(a)\n",
    "\n"
   ]
  },
  {
   "cell_type": "markdown",
   "metadata": {},
   "source": [
    "2\\. The swap function\n",
    "\n",
    "Write a function that swap the values of two input variables x and y (whatever the type). Try to do that also without a temporary variable"
   ]
  },
  {
   "cell_type": "code",
   "execution_count": 2,
   "metadata": {},
   "outputs": [
    {
     "name": "stdout",
     "output_type": "stream",
     "text": [
      "This program swap the values of two input variables\n",
      "Choose x: 6\n",
      "Choose y: 9\n",
      "Swapping in action...\n",
      "x is 9\n",
      "y is 6\n"
     ]
    }
   ],
   "source": [
    "print(\"This program swap the values of two input variables\")\n",
    "x=input(\"Choose x: \")\n",
    "y=input(\"Choose y: \")\n",
    "x,y=y,x\n",
    "print(\"Swapping in action...\")\n",
    "print(\"x is\",x)\n",
    "print(\"y is\",y)\n"
   ]
  },
  {
   "cell_type": "markdown",
   "metadata": {},
   "source": [
    "3\\. Computing the distance\n",
    "\n",
    "Write a function that calculates and returns the euclidean distance between two points *u* and *v*, where *u* and *v* are both 2-tuples *(x,y)*. For example, if *u=(3,0)* and *v=(0,4)*, the function should return 5"
   ]
  },
  {
   "cell_type": "code",
   "execution_count": 3,
   "metadata": {},
   "outputs": [
    {
     "name": "stdout",
     "output_type": "stream",
     "text": [
      "This program calculate the distance between two bidimensional vectors\n",
      "Please choose u components\n",
      "Choose u1: 1\n",
      "Choose u2: 2\n",
      "Please choose v components\n",
      "Choose v1: 2\n",
      "Choose v2: 1\n",
      "The distance between [1, 2] and [2, 1] is 1.4142135623730951\n"
     ]
    }
   ],
   "source": [
    "print(\"This program calculate the distance between two bidimensional vectors\")\n",
    "a=[]\n",
    "print(\"Please choose u components\")\n",
    "x1=int(input(\"Choose u1: \"))\n",
    "a.append(x1)\n",
    "x2=int(input(\"Choose u2: \"))\n",
    "a.append(x2)\n",
    "u=(a)\n",
    "b=[]\n",
    "print(\"Please choose v components\")\n",
    "y1=int(input(\"Choose v1: \"))\n",
    "b.append(y1)\n",
    "y2=int(input(\"Choose v2: \"))\n",
    "b.append(y2)\n",
    "v=(b)\n",
    "\n",
    "def distance(u,v):\n",
    "  result=((u[0]-v[0])**2+(u[1]-v[1])**2)**0.5\n",
    "  return result\n",
    "\n",
    "print(\"The distance between\", u , \"and\", v, \"is\", distance(u,v))"
   ]
  },
  {
   "cell_type": "markdown",
   "metadata": {},
   "source": [
    "4\\. Counting letters\n",
    "\n",
    "Write a program to calculate the number of times each character occurs in a given string *s*. Ignore differneces in capitalization"
   ]
  },
  {
   "cell_type": "code",
   "execution_count": 4,
   "metadata": {},
   "outputs": [
    {
     "name": "stdout",
     "output_type": "stream",
     "text": [
      "This program will calculate the numbers of time each character occurs in a given string.\n",
      "The string is: Write a program that prints the numbers from 1 to 100. But for multiples of three print Mickey instead of the number and for the multiples of five print Mouse. For numbers which are multiples of both three and five print MickeyMouse\n",
      "{'W': 2, 'R': 17, 'I': 14, 'T': 19, 'E': 22, 'A': 7, 'P': 8, 'O': 13, 'G': 1, 'M': 12, 'H': 9, 'N': 10, 'S': 9, 'U': 9, 'B': 5, 'F': 10, '1': 2, '0': 2, '.': 2, 'L': 6, 'C': 3, 'K': 2, 'Y': 2, 'D': 3, 'V': 2}\n"
     ]
    }
   ],
   "source": [
    "print(\"This program will calculate the numbers of time each character occurs in a given string.\")\n",
    "s=\"Write a program that prints the numbers from 1 to 100. \\\n",
    "But for multiples of three print Mickey instead of the number and for the multiples of five print Mouse. \\\n",
    "For numbers which are multiples of both three and five print MickeyMouse\"\n",
    "print(\"The string is:\", s)\n",
    "s=s.upper()\n",
    "s=s.replace(\" \",\"\")\n",
    "characters=[x for x in s]\n",
    "count={} #dizionario\n",
    "for i in characters:\n",
    "    if not i in count:\n",
    "        count[i]=1\n",
    "    else:\n",
    "        count[i]+=1\n",
    "print(count)"
   ]
  },
  {
   "cell_type": "markdown",
   "metadata": {},
   "source": [
    "5\\. Isolating the unique\n",
    "\n",
    "Write a function that determines and count the unique numbers in the list *l*"
   ]
  },
  {
   "cell_type": "code",
   "execution_count": 5,
   "metadata": {},
   "outputs": [
    {
     "name": "stdout",
     "output_type": "stream",
     "text": [
      "This program count the unique numbers of a given list.\n",
      "The unique numbers of the list are: [58, 74, 96, 64, 10, 24, 19, 33, 86, 99, 18, 47, 88, 55, 54, 8, 79, 81, 57, 37, 1, 9, 95, 90, 98, 39, 16, 82, 92, 41, 30, 94, 5, 72, 87, 75, 53]\n",
      "In l there are 37 out of 80 unique numbers.\n"
     ]
    }
   ],
   "source": [
    "print(\"This program count the unique numbers of a given list.\")\n",
    "l = [36, 45, 58, 3, 74, 96, 64, 45, 31, 10, 24, 19, 33, 86, 99, 18, 63, 70, 85,\n",
    " 85, 63, 47, 56, 42, 70, 84, 88, 55, 20, 54, 8, 56, 51, 79, 81, 57, 37, 91,\n",
    " 1, 84, 84, 36, 66, 9, 89, 50, 42, 91, 50, 95, 90, 98, 39, 16, 82, 31, 92, 41,\n",
    " 45, 30, 66, 70, 34, 85, 94, 5, 3, 36, 72, 91, 84, 34, 87, 75, 53, 51, 20, 89, 51, 20]\n",
    "#print(\"The list is:\", l)\n",
    "s=[]\n",
    "r=[]\n",
    "for i in l:\n",
    "    if not i in s:\n",
    "        s.append(i)\n",
    "    else:\n",
    "        r.append(i)\n",
    "    if i in s and i in r:\n",
    "        s.remove(i)\n",
    "        \n",
    "print(\"The unique numbers of the list are:\", s)\n",
    "print(\"In l there are\", len(s),\"out of\", len(l) ,\"unique numbers.\")"
   ]
  },
  {
   "cell_type": "markdown",
   "metadata": {},
   "source": [
    "6\\. Combination of functions\n",
    "\n",
    "Write two functions - one that returns the square of a number, and one that returns the cube. Now write a third function that returns the number raised to the 6th power using the two previous functions."
   ]
  },
  {
   "cell_type": "code",
   "execution_count": 6,
   "metadata": {},
   "outputs": [
    {
     "name": "stdout",
     "output_type": "stream",
     "text": [
      "Insert a number: 8\n",
      "The sixth power of 8.0 is 262144.0000000001\n"
     ]
    }
   ],
   "source": [
    "def square(x):\n",
    "    r=x**0.5\n",
    "    return r\n",
    "def cube(x):\n",
    "    res=x**3\n",
    "    return res\n",
    "def sixth(x):\n",
    "    result=cube(abs(x))*(square(abs(x))**6)\n",
    "    return result\n",
    "                    \n",
    "a=float(input(\"Insert a number: \"))\n",
    "print(\"The sixth power of\",a,\"is\",sixth(a))"
   ]
  },
  {
   "cell_type": "markdown",
   "metadata": {},
   "source": [
    "7\\. Cubes\n",
    "\n",
    "Create a list of the cubes of x for x in *[0, 10]* using:\n",
    "\n",
    "a) a for loop\n",
    "\n",
    "b) a list comprehension"
   ]
  },
  {
   "cell_type": "code",
   "execution_count": 7,
   "metadata": {},
   "outputs": [
    {
     "name": "stdout",
     "output_type": "stream",
     "text": [
      "[0, 1, 8, 27, 64, 125, 216, 343, 512, 729, 1000]\n",
      "[0, 1, 8, 27, 64, 125, 216, 343, 512, 729, 1000]\n"
     ]
    }
   ],
   "source": [
    "#1. for loop method\n",
    "l=[]\n",
    "for x in range (0,11):\n",
    "    l.append(x**3)\n",
    "print(l)\n",
    "#2. list comprehension method\n",
    "c=[x**3 for x in range(11)]\n",
    "print(c)"
   ]
  },
  {
   "cell_type": "markdown",
   "metadata": {},
   "source": [
    "8\\. Nested list comprehension\n",
    "\n",
    "A Pythagorean triple is an integer solution to the Pythagorean theorem $a^2+b^2=c^2$. The first Pythagorean triple is (3,4,5). Find and put in a tuple all unique Pythagorean triples for the positive integers a, b and c less than 100."
   ]
  },
  {
   "cell_type": "code",
   "execution_count": 8,
   "metadata": {},
   "outputs": [
    {
     "name": "stdout",
     "output_type": "stream",
     "text": [
      "This program lists all unique Pythagorean triples:\n",
      "There are 50 Pythagorean triples.\n",
      "[(3, 4, 5), (5, 12, 13), (6, 8, 10), (7, 24, 25), (8, 15, 17), (9, 12, 15), (9, 40, 41), (10, 24, 26), (11, 60, 61), (12, 16, 20), (12, 35, 37), (13, 84, 85), (14, 48, 50), (15, 20, 25), (15, 36, 39), (16, 30, 34), (16, 63, 65), (18, 24, 30), (18, 80, 82), (20, 21, 29), (20, 48, 52), (21, 28, 35), (21, 72, 75), (24, 32, 40), (24, 45, 51), (24, 70, 74), (25, 60, 65), (27, 36, 45), (28, 45, 53), (30, 40, 50), (30, 72, 78), (32, 60, 68), (33, 44, 55), (33, 56, 65), (35, 84, 91), (36, 48, 60), (36, 77, 85), (39, 52, 65), (39, 80, 89), (40, 42, 58), (40, 75, 85), (42, 56, 70), (45, 60, 75), (48, 55, 73), (48, 64, 80), (51, 68, 85), (54, 72, 90), (57, 76, 95), (60, 63, 87), (65, 72, 97)]\n"
     ]
    }
   ],
   "source": [
    "print(\"This program lists all unique Pythagorean triples:\")\n",
    "pyt=[(x,y,z) for x in range (1,100) for y in range (x+1,100) for z in range (y+1,100) if x**2+y**2==z**2]\n",
    "\n",
    "print(\"There are\",len(pyt),\"Pythagorean triples.\")\n",
    "print(pyt)\n",
    "    "
   ]
  },
  {
   "cell_type": "markdown",
   "metadata": {},
   "source": [
    "9\\. Normalization\n",
    "\n",
    "Write a function that takes a tuple of numbers and returns it with the entries normalized to one"
   ]
  },
  {
   "cell_type": "code",
   "execution_count": 9,
   "metadata": {},
   "outputs": [
    {
     "name": "stdout",
     "output_type": "stream",
     "text": [
      "Choose the lenght of the tuple: 7\n",
      "Entrie: 7\n",
      "Entrie: 2\n",
      "Entrie: w\n",
      "Invalid number\n",
      "Entrie: 2\n",
      "Entrie: 3\n",
      "Entrie: 4\n",
      "Entrie: 2\n",
      "Entrie: 1\n",
      "The tuple is:  (7, 2, 2, 3, 4, 2, 1)\n",
      "Its normalization is  [0.3333333333333333, 0.09523809523809523, 0.09523809523809523, 0.14285714285714285, 0.19047619047619047, 0.09523809523809523, 0.047619047619047616]\n"
     ]
    }
   ],
   "source": [
    "l=()\n",
    "d=int(input('Choose the lenght of the tuple: '))\n",
    "for i in range (0,d):\n",
    "    while(True):\n",
    "        try:\n",
    "            i=int((input('Entrie: ')))\n",
    "            l=l + (i,)\n",
    "            break\n",
    "        except ValueError:\n",
    "            print('Invalid number')\n",
    "print('The tuple is: ',l)\n",
    "norm=[i/sum(l) for i in l]\n",
    "print('Its normalization is ', norm)"
   ]
  },
  {
   "cell_type": "code",
   "execution_count": null,
   "metadata": {},
   "outputs": [],
   "source": []
  }
 ],
 "metadata": {
  "kernelspec": {
   "display_name": "Python 3",
   "language": "python",
   "name": "python3"
  },
  "language_info": {
   "codemirror_mode": {
    "name": "ipython",
    "version": 3
   },
   "file_extension": ".py",
   "mimetype": "text/x-python",
   "name": "python",
   "nbconvert_exporter": "python",
   "pygments_lexer": "ipython3",
   "version": "3.8.8"
  }
 },
 "nbformat": 4,
 "nbformat_minor": 2
}
