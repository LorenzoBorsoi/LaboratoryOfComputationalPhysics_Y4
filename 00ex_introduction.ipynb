{
 "cells": [
  {
   "cell_type": "code",
   "execution_count": null,
   "metadata": {},
   "outputs": [],
   "source": []
  },
  {
   "cell_type": "markdown",
   "metadata": {},
   "source": [
    "1. The MickeyMouse problem\n",
    "\n",
    "a) Write a program that prints the numbers from 1 to 100. But for multiples of three print Mickey instead of the number and for the multiples of five print Mouse. For numbers which are multiples of both three and five print MickeyMouse\n",
    "\n",
    "b) Put the result in a tuple and substitute Mickey with Donald and Mouse with Duck"
   ]
  },
  {
   "cell_type": "code",
   "execution_count": 1,
   "metadata": {},
   "outputs": [
    {
     "name": "stdout",
     "output_type": "stream",
     "text": [
      "1\n",
      "2\n",
      "Mickey\n",
      "4\n",
      "Mouse\n",
      "Mickey\n",
      "7\n",
      "8\n",
      "Mickey\n",
      "Mouse\n",
      "11\n",
      "Mickey\n",
      "13\n",
      "14\n",
      "MickeyMouse\n",
      "16\n",
      "17\n",
      "Mickey\n",
      "19\n",
      "Mouse\n",
      "Mickey\n",
      "22\n",
      "23\n",
      "Mickey\n",
      "Mouse\n",
      "26\n",
      "Mickey\n",
      "28\n",
      "29\n",
      "MickeyMouse\n",
      "31\n",
      "32\n",
      "Mickey\n",
      "34\n",
      "Mouse\n",
      "Mickey\n",
      "37\n",
      "38\n",
      "Mickey\n",
      "Mouse\n",
      "41\n",
      "Mickey\n",
      "43\n",
      "44\n",
      "MickeyMouse\n",
      "46\n",
      "47\n",
      "Mickey\n",
      "49\n",
      "Mouse\n",
      "Mickey\n",
      "52\n",
      "53\n",
      "Mickey\n",
      "Mouse\n",
      "56\n",
      "Mickey\n",
      "58\n",
      "59\n",
      "MickeyMouse\n",
      "61\n",
      "62\n",
      "Mickey\n",
      "64\n",
      "Mouse\n",
      "Mickey\n",
      "67\n",
      "68\n",
      "Mickey\n",
      "Mouse\n",
      "71\n",
      "Mickey\n",
      "73\n",
      "74\n",
      "MickeyMouse\n",
      "76\n",
      "77\n",
      "Mickey\n",
      "79\n",
      "Mouse\n",
      "Mickey\n",
      "82\n",
      "83\n",
      "Mickey\n",
      "Mouse\n",
      "86\n",
      "Mickey\n",
      "88\n",
      "89\n",
      "MickeyMouse\n",
      "91\n",
      "92\n",
      "Mickey\n",
      "94\n",
      "Mouse\n",
      "Mickey\n",
      "97\n",
      "98\n",
      "Mickey\n",
      "Mouse\n",
      "[1, 2, 'Mickey', 4, 'Mouse', 'Mickey', 7, 8, 'Mickey', 'Mouse', 11, 'Mickey', 13, 14, 'MickeyMouse', 16, 17, 'Mickey', 19, 'Mouse', 'Mickey', 22, 23, 'Mickey', 'Mouse', 26, 'Mickey', 28, 29, 'MickeyMouse', 31, 32, 'Mickey', 34, 'Mouse', 'Mickey', 37, 38, 'Mickey', 'Mouse', 41, 'Mickey', 43, 44, 'MickeyMouse', 46, 47, 'Mickey', 49, 'Mouse', 'Mickey', 52, 53, 'Mickey', 'Mouse', 56, 'Mickey', 58, 59, 'MickeyMouse', 61, 62, 'Mickey', 64, 'Mouse', 'Mickey', 67, 68, 'Mickey', 'Mouse', 71, 'Mickey', 73, 74, 'MickeyMouse', 76, 77, 'Mickey', 79, 'Mouse', 'Mickey', 82, 83, 'Mickey', 'Mouse', 86, 'Mickey', 88, 89, 'MickeyMouse', 91, 92, 'Mickey', 94, 'Mouse', 'Mickey', 97, 98, 'Mickey', 'Mouse']\n"
     ]
    }
   ],
   "source": [
    "mickey=[]\n",
    "\n",
    "\n",
    "for i in range (1,101):\n",
    "    if i%3==0 and i%5==0:\n",
    "        print('MickeyMouse')\n",
    "        mickey.append('MickeyMouse')\n",
    "        \n",
    "    elif i%3==0:\n",
    "        print('Mickey')\n",
    "        mickey.append('Mickey')\n",
    "        \n",
    "    elif i%5==0:\n",
    "        print('Mouse')\n",
    "        mickey.append('Mouse')\n",
    "    else: \n",
    "        print(i)\n",
    "        mickey.append(i)\n",
    "print(mickey)"
   ]
  },
  {
   "cell_type": "code",
   "execution_count": 2,
   "metadata": {},
   "outputs": [],
   "source": [
    "donald=[]\n",
    "for i in range(len(mickey)):\n",
    "    if mickey[i]=='Mickey':\n",
    "        donald.append('Donald')\n",
    "        \n",
    "    elif mickey[i]=='Mouse':\n",
    "        donald.append('Duck')\n",
    "        \n",
    "    elif mickey[i]=='MickeyMouse':\n",
    "        donald.append('DonaldDuck')\n",
    "    else:\n",
    "        donald.append(mickey[i])\n",
    "    \n",
    "DONALD=tuple(donald)"
   ]
  },
  {
   "cell_type": "markdown",
   "metadata": {},
   "source": [
    "2\\. The swap function\n",
    "\n",
    "Write a function that swap the values of two input variables x and y (whatever the type). Try to do that also without a temporary variable"
   ]
  },
  {
   "cell_type": "code",
   "execution_count": 3,
   "metadata": {},
   "outputs": [
    {
     "name": "stdout",
     "output_type": "stream",
     "text": [
      "(5, 1)\n"
     ]
    }
   ],
   "source": [
    "def swap1(x,y):\n",
    "    a=x\n",
    "    x=y\n",
    "    y=a\n",
    "    return x,y\n",
    "\n",
    "def swap2(a,b):    \n",
    "    return(b,a)\n",
    "\n",
    "print(swap2(1,5))\n"
   ]
  },
  {
   "cell_type": "markdown",
   "metadata": {},
   "source": [
    "3\\. Computing the distance\n",
    "\n",
    "Write a function that calculates and returns the euclidean distance between two points *u* and *v*, where *u* and *v* are both 2-tuples *(x,y)*. For example, if *u=(3,0)* and *v=(0,4)*, the function should return 5"
   ]
  },
  {
   "cell_type": "code",
   "execution_count": 4,
   "metadata": {},
   "outputs": [],
   "source": [
    "def distance(d1,d2):\n",
    "    a=d1[0]**2+d2[0]**2\n",
    "    b=d1[1]**2+d2[1]**2\n",
    "    return (a+b)**(1/2)"
   ]
  },
  {
   "cell_type": "markdown",
   "metadata": {},
   "source": [
    "4\\. Counting letters\n",
    "\n",
    "Write a program to calculate the number of times each character occurs in a given string *s*. Ignore differneces in capitalization"
   ]
  },
  {
   "cell_type": "code",
   "execution_count": 5,
   "metadata": {},
   "outputs": [
    {
     "name": "stdout",
     "output_type": "stream",
     "text": [
      "W appear 1 times\n",
      "r appear 17 times\n",
      "i appear 14 times\n",
      "t appear 19 times\n",
      "e appear 22 times\n",
      "  appear 41 times\n",
      "a appear 7 times\n",
      "p appear 8 times\n",
      "o appear 13 times\n",
      "g appear 1 times\n",
      "m appear 8 times\n",
      "h appear 9 times\n",
      "n appear 10 times\n",
      "s appear 9 times\n",
      "u appear 9 times\n",
      "b appear 4 times\n",
      "f appear 9 times\n",
      "1 appear 2 times\n",
      "0 appear 2 times\n",
      ". appear 2 times\n",
      "B appear 1 times\n",
      "l appear 6 times\n",
      "M appear 4 times\n",
      "c appear 3 times\n",
      "k appear 2 times\n",
      "y appear 2 times\n",
      "d appear 3 times\n",
      "v appear 2 times\n",
      "F appear 1 times\n",
      "w appear 1 times\n"
     ]
    }
   ],
   "source": [
    "s=\"Write a program that prints the numbers from 1 to 100. \\\n",
    "But for multiples of three print Mickey instead of the number and for the multiples of five print Mouse. \\\n",
    "For numbers which are multiples of both three and five print MickeyMouse\"\n",
    "\n",
    "alredyappeared=[]\n",
    "\n",
    "for i in s:\n",
    "    if alredyappeared.count(i)==0:\n",
    "        print(i,'appear', s.count(i) ,'times')\n",
    "        alredyappeared.append(i)\n",
    "           \n",
    "        "
   ]
  },
  {
   "cell_type": "markdown",
   "metadata": {},
   "source": [
    "5\\. Isolating the unique\n",
    "\n",
    "Write a function that determines and count the unique numbers in the list *l*"
   ]
  },
  {
   "cell_type": "code",
   "execution_count": 6,
   "metadata": {},
   "outputs": [],
   "source": [
    "l = [36, 45, 58, 3, 74, 96, 64, 45, 31, 10, 24, 19, 33, 86, 99, 18, 63, 70, 85,\n",
    " 85, 63, 47, 56, 42, 70, 84, 88, 55, 20, 54, 8, 56, 51, 79, 81, 57, 37, 91,\n",
    " 1, 84, 84, 36, 66, 9, 89, 50, 42, 91, 50, 95, 90, 98, 39, 16, 82, 31, 92, 41,\n",
    " 45, 30, 66, 70, 34, 85, 94, 5, 3, 36, 72, 91, 84, 34, 87, 75, 53, 51, 20, 89, 51, 20]\n",
    "\n",
    "cont=0\n",
    "uniques=[]\n",
    "for i in l:\n",
    "    if l.count(i)==1:\n",
    "        cont+=1\n",
    "        uniques.append(i)"
   ]
  },
  {
   "cell_type": "markdown",
   "metadata": {},
   "source": [
    "6\\. Combination of functions\n",
    "\n",
    "Write two functions - one that returns the square of a number, and one that returns the cube. Now write a third function that returns the number raised to the 6th power using the two previous functions."
   ]
  },
  {
   "cell_type": "code",
   "execution_count": 7,
   "metadata": {},
   "outputs": [],
   "source": [
    "def sq(a):\n",
    "    return a**(2)\n",
    "def cube(a):\n",
    "    return a**3\n",
    "\n",
    "def six(a):\n",
    "    b=sq(a)\n",
    "    return cube(b)\n"
   ]
  },
  {
   "cell_type": "markdown",
   "metadata": {},
   "source": [
    "7\\. Cubes\n",
    "\n",
    "Create a list of the cubes of x for x in *[0, 10]* using:\n",
    "\n",
    "a) a for loop\n",
    "\n",
    "b) a list comprehension"
   ]
  },
  {
   "cell_type": "code",
   "execution_count": 8,
   "metadata": {},
   "outputs": [],
   "source": [
    "cub1=[]\n",
    "cub2=[]\n",
    "#a)\n",
    "for i in range(10):\n",
    "    cub1.append(i**3)\n",
    "    \n",
    "#b)\n",
    "cub2=[i**3 for i in range(10)]\n"
   ]
  },
  {
   "cell_type": "code",
   "execution_count": null,
   "metadata": {},
   "outputs": [],
   "source": []
  },
  {
   "cell_type": "markdown",
   "metadata": {},
   "source": [
    "8\\. Nested list comprehension\n",
    "\n",
    "A Pythagorean triple is an integer solution to the Pythagorean theorem $a^2+b^2=c^2$. The first Pythagorean triple is (3,4,5). Find and put in a tuple all unique Pythagorean triples for the positive integers a, b and c less than 100."
   ]
  },
  {
   "cell_type": "code",
   "execution_count": 9,
   "metadata": {},
   "outputs": [
    {
     "name": "stdout",
     "output_type": "stream",
     "text": [
      "['/', 3, 4, 5.0, '/', '/', 5, 12, 13.0, '/', '/', 6, 8, 10.0, '/', '/', 7, 24, 25.0, '/', '/', 8, 15, 17.0, '/', '/', 9, 12, 15.0, '/', '/', 9, 40, 41.0, '/', '/', 10, 24, 26.0, '/', '/', 11, 60, 61.0, '/', '/', 12, 16, 20.0, '/', '/', 12, 35, 37.0, '/', '/', 13, 84, 85.0, '/', '/', 14, 48, 50.0, '/', '/', 15, 20, 25.0, '/', '/', 15, 36, 39.0, '/', '/', 16, 30, 34.0, '/', '/', 16, 63, 65.0, '/', '/', 18, 24, 30.0, '/', '/', 18, 80, 82.0, '/', '/', 20, 21, 29.0, '/', '/', 20, 48, 52.0, '/', '/', 21, 28, 35.0, '/', '/', 21, 72, 75.0, '/', '/', 24, 32, 40.0, '/', '/', 24, 45, 51.0, '/', '/', 24, 70, 74.0, '/', '/', 25, 60, 65.0, '/', '/', 27, 36, 45.0, '/', '/', 28, 45, 53.0, '/', '/', 28, 96, 100.0, '/', '/', 30, 40, 50.0, '/', '/', 30, 72, 78.0, '/', '/', 32, 60, 68.0, '/', '/', 33, 44, 55.0, '/', '/', 33, 56, 65.0, '/', '/', 35, 84, 91.0, '/', '/', 36, 48, 60.0, '/', '/', 36, 77, 85.0, '/', '/', 39, 52, 65.0, '/', '/', 39, 80, 89.0, '/', '/', 40, 42, 58.0, '/', '/', 40, 75, 85.0, '/', '/', 42, 56, 70.0, '/', '/', 45, 60, 75.0, '/', '/', 48, 55, 73.0, '/', '/', 48, 64, 80.0, '/', '/', 51, 68, 85.0, '/', '/', 54, 72, 90.0, '/', '/', 57, 76, 95.0, '/', '/', 60, 63, 87.0, '/', '/', 60, 80, 100.0, '/', '/', 65, 72, 97.0, '/']\n"
     ]
    }
   ],
   "source": [
    "pyt=[]\n",
    "\n",
    "for i in range(1,100):\n",
    "    for j in range(i+1,101):\n",
    "        k=(i**2+j**2)**0.5\n",
    "        if k%int(k)==0 and k<=100:\n",
    "            pyt.append('/')\n",
    "            pyt.append(i)\n",
    "            pyt.append(j)\n",
    "            pyt.append(k)\n",
    "            pyt.append('/')\n",
    "print(pyt)\n",
    "                        "
   ]
  },
  {
   "cell_type": "markdown",
   "metadata": {},
   "source": [
    "9\\. Normalization\n",
    "\n",
    "Write a function that takes a tuple of numbers and returns it with the entries normalized to one"
   ]
  },
  {
   "cell_type": "code",
   "execution_count": 10,
   "metadata": {},
   "outputs": [
    {
     "name": "stdout",
     "output_type": "stream",
     "text": [
      "(0.0, 0.16666666666666666, 0.3333333333333333)\n"
     ]
    }
   ],
   "source": [
    "def normalized(tup):\n",
    "    lista=[]\n",
    "    \n",
    "    \n",
    "    lista=[lista.append(tup[i]) for i in range(len(tup))]\n",
    "    \n",
    "    lista=[float(i)/sum(tup) for i in range(len(lista))]\n",
    "    \n",
    "    return tuple(lista)\n",
    "a=(1,2,3)\n",
    "print(normalized(a))"
   ]
  },
  {
   "cell_type": "code",
   "execution_count": null,
   "metadata": {},
   "outputs": [],
   "source": []
  }
 ],
 "metadata": {
  "kernelspec": {
   "display_name": "Python 3 (ipykernel)",
   "language": "python",
   "name": "python3"
  },
  "language_info": {
   "codemirror_mode": {
    "name": "ipython",
    "version": 3
   },
   "file_extension": ".py",
   "mimetype": "text/x-python",
   "name": "python",
   "nbconvert_exporter": "python",
   "pygments_lexer": "ipython3",
   "version": "3.8.8"
  }
 },
 "nbformat": 4,
 "nbformat_minor": 2
}
