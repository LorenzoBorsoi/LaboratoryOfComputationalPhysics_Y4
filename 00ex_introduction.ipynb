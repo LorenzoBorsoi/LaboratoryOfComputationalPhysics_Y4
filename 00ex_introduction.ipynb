{
 "cells": [
  {
   "cell_type": "markdown",
   "metadata": {},
   "source": [
    "1. The MickeyMouse problem\n",
    "\n",
    "a) Write a program that prints the numbers from 1 to 100. But for multiples of three print Mickey instead of the number and for the multiples of five print Mouse. For numbers which are multiples of both three and five print MickeyMouse\n",
    "\n",
    "b) Put the result in a tuple and substitute Mickey with Donald and Mouse with Duck"
   ]
  },
  {
   "cell_type": "code",
   "execution_count": 7,
   "metadata": {},
   "outputs": [
    {
     "name": "stdout",
     "output_type": "stream",
     "text": [
      "1\n",
      "2\n",
      "Mickey\n",
      "4\n",
      "Mouse\n",
      "Mickey\n",
      "7\n",
      "8\n",
      "Mickey\n",
      "Mouse\n",
      "11\n",
      "Mickey\n",
      "13\n",
      "14\n",
      "Mickey Mouse\n",
      "16\n",
      "17\n",
      "Mickey\n",
      "19\n",
      "Mouse\n",
      "Mickey\n",
      "22\n",
      "23\n",
      "Mickey\n",
      "Mouse\n",
      "26\n",
      "Mickey\n",
      "28\n",
      "29\n",
      "Mickey Mouse\n",
      "31\n",
      "32\n",
      "Mickey\n",
      "34\n",
      "Mouse\n",
      "Mickey\n",
      "37\n",
      "38\n",
      "Mickey\n",
      "Mouse\n",
      "41\n",
      "Mickey\n",
      "43\n",
      "44\n",
      "Mickey Mouse\n",
      "46\n",
      "47\n",
      "Mickey\n",
      "49\n",
      "Mouse\n",
      "Mickey\n",
      "52\n",
      "53\n",
      "Mickey\n",
      "Mouse\n",
      "56\n",
      "Mickey\n",
      "58\n",
      "59\n",
      "Mickey Mouse\n",
      "61\n",
      "62\n",
      "Mickey\n",
      "64\n",
      "Mouse\n",
      "Mickey\n",
      "67\n",
      "68\n",
      "Mickey\n",
      "Mouse\n",
      "71\n",
      "Mickey\n",
      "73\n",
      "74\n",
      "Mickey Mouse\n",
      "76\n",
      "77\n",
      "Mickey\n",
      "79\n",
      "Mouse\n",
      "Mickey\n",
      "82\n",
      "83\n",
      "Mickey\n",
      "Mouse\n",
      "86\n",
      "Mickey\n",
      "88\n",
      "89\n",
      "Mickey Mouse\n",
      "91\n",
      "92\n",
      "Mickey\n",
      "94\n",
      "Mouse\n",
      "Mickey\n",
      "97\n",
      "98\n",
      "Mickey\n",
      "Mouse\n",
      "[1, 2, 'Donald', 4, 'Duck', 'Donald', 7, 8, 'Donald', 'Duck', 11, 'Donald', 13, 14, 'Donald Duck', 16, 17, 'Donald', 19, 'Duck', 'Donald', 22, 23, 'Donald', 'Duck', 26, 'Donald', 28, 29, 'Donald Duck', 31, 32, 'Donald', 34, 'Duck', 'Donald', 37, 38, 'Donald', 'Duck', 41, 'Donald', 43, 44, 'Donald Duck', 46, 47, 'Donald', 49, 'Duck', 'Donald', 52, 53, 'Donald', 'Duck', 56, 'Donald', 58, 59, 'Donald Duck', 61, 62, 'Donald', 64, 'Duck', 'Donald', 67, 68, 'Donald', 'Duck', 71, 'Donald', 73, 74, 'Donald Duck', 76, 77, 'Donald', 79, 'Duck', 'Donald', 82, 83, 'Donald', 'Duck', 86, 'Donald', 88, 89, 'Donald Duck', 91, 92, 'Donald', 94, 'Duck', 'Donald', 97, 98, 'Donald', 'Duck']\n"
     ]
    }
   ],
   "source": [
    "\"Exercise 1\"\n",
    "\n",
    "res = []\n",
    "\n",
    "for i in range(0,100):\n",
    "    if (i+1)%3 == 0 and (i+1)%5 != 0:\n",
    "        print(\"Mickey\")\n",
    "        res.insert(i,\"Mickey\")\n",
    "    elif (i+1)%5 == 0 and (i+1)%3 != 0:\n",
    "        print(\"Mouse\")\n",
    "        res.insert(i,\"Mouse\")\n",
    "    elif (i+1)%3 == 0 and (i+1)%5 == 0:\n",
    "        print(\"Mickey Mouse\")\n",
    "        res.insert(i,\"Mickey Mouse\")\n",
    "    else:\n",
    "        print(i+1)\n",
    "        res.insert(i,i+1)\n",
    "    \n",
    "a, b, c = \"Mickey\", \"Mouse\", \"Mickey Mouse\"\n",
    "\n",
    "for i in range(0,100):\n",
    "    if res[i] == a:\n",
    "        res[i] = \"Donald\"\n",
    "    elif res[i] == b:\n",
    "        res[i] = \"Duck\"\n",
    "    elif res[i] == c:\n",
    "        res[i] = \"Donald Duck\"\n",
    "\n",
    "print(res)\n"
   ]
  },
  {
   "cell_type": "markdown",
   "metadata": {},
   "source": [
    "2\\. The swap function\n",
    "\n",
    "Write a function that swap the values of two input variables x and y (whatever the type). Try to do that also without a temporary variable"
   ]
  },
  {
   "cell_type": "code",
   "execution_count": 56,
   "metadata": {},
   "outputs": [
    {
     "name": "stdout",
     "output_type": "stream",
     "text": [
      "2 1\n",
      "1 2\n"
     ]
    }
   ],
   "source": [
    "\"Exercise 2\"\n",
    "\n",
    "x = input()\n",
    "y = input()\n",
    "\n",
    "def swap_1(a,b):\n",
    "    global x, y\n",
    "    c = [a,b]\n",
    "    x = c[1]\n",
    "    y = c[0]\n",
    "\n",
    "swap_1(x,y)\n",
    "print(x,y)\n",
    "\n",
    "def swap_2(a,b):\n",
    "    return b, a\n",
    "\n",
    "x, y = swap_2(x,y)\n",
    "print(x, y)\n"
   ]
  },
  {
   "cell_type": "markdown",
   "metadata": {},
   "source": [
    "3\\. Computing the distance\n",
    "\n",
    "Write a function that calculates and returns the euclidean distance between two points *u* and *v*, where *u* and *v* are both 2-tuples *(x,y)*. For example, if *u=(3,0)* and *v=(0,4)*, the function should return 5"
   ]
  },
  {
   "cell_type": "code",
   "execution_count": 18,
   "metadata": {},
   "outputs": [
    {
     "name": "stdout",
     "output_type": "stream",
     "text": [
      "5.0\n"
     ]
    }
   ],
   "source": [
    "\"Exercise 3\"\n",
    "\n",
    "x1 = 3\n",
    "y1 = 0\n",
    "x2 = 0\n",
    "y2 = 4\n",
    "u = (x1, y1)\n",
    "v = (x2, y2)\n",
    "\n",
    "def dist(a,b):\n",
    "    d = ((a[0] - b[0])**2 + (a[1] - b[1])**2)**(1/2)\n",
    "    return d\n",
    "\n",
    "d = dist(u,v)\n",
    "print(d)"
   ]
  },
  {
   "cell_type": "markdown",
   "metadata": {},
   "source": [
    "4\\. Counting letters\n",
    "\n",
    "Write a program to calculate the number of times each character occurs in a given string *s*. Ignore differences in capitalization"
   ]
  },
  {
   "cell_type": "code",
   "execution_count": 46,
   "metadata": {},
   "outputs": [
    {
     "name": "stdout",
     "output_type": "stream",
     "text": [
      "w  counts:  2\n",
      "r  counts:  17\n",
      "i  counts:  14\n",
      "t  counts:  19\n",
      "e  counts:  22\n",
      "   counts:  41\n",
      "a  counts:  7\n",
      "p  counts:  8\n",
      "o  counts:  13\n",
      "g  counts:  1\n",
      "m  counts:  12\n",
      "h  counts:  9\n",
      "n  counts:  10\n",
      "s  counts:  9\n",
      "u  counts:  9\n",
      "b  counts:  5\n",
      "f  counts:  10\n",
      "1  counts:  2\n",
      "0  counts:  2\n",
      ".  counts:  2\n",
      "l  counts:  6\n",
      "c  counts:  3\n",
      "k  counts:  2\n",
      "y  counts:  2\n",
      "d  counts:  3\n",
      "v  counts:  2\n"
     ]
    }
   ],
   "source": [
    "\"Exercise 4\"\n",
    "\n",
    "s = \"Write a program that prints the numbers from 1 to 100. \\\n",
    "But for multiples of three print Mickey instead of the number and for the multiples of five print Mouse. \\\n",
    "For numbers which are multiples of both three and five print MickeyMouse\"\n",
    "\n",
    "s = s.lower()\n",
    "l = [x for x in s]\n",
    "m = []\n",
    "\n",
    "for i in range(len(l)):\n",
    "    a = 0\n",
    "    for j in range(0,i):\n",
    "        if l[i] == l[j] and i != j:\n",
    "            a +=1\n",
    "    if a == 0:\n",
    "        m.append(l[i])\n",
    "        \n",
    "for val in m:\n",
    "    print(val, \" counts: \", l.count(val))   \n",
    "\n",
    "\n"
   ]
  },
  {
   "cell_type": "markdown",
   "metadata": {},
   "source": [
    "5\\. Isolating the unique\n",
    "\n",
    "Write a function that determines and count the unique numbers in the list *l*"
   ]
  },
  {
   "cell_type": "code",
   "execution_count": 39,
   "metadata": {},
   "outputs": [
    {
     "name": "stdout",
     "output_type": "stream",
     "text": [
      "[58, 74, 96, 64, 10, 24, 19, 33, 86, 99, 18, 47, 88, 55, 54, 8, 79, 81, 57, 37, 1, 9, 95, 90, 98, 39, 16, 82, 92, 41, 30, 94, 5, 72, 87, 75, 53]\n",
      "37\n"
     ]
    }
   ],
   "source": [
    "l = [36, 45, 58, 3, 74, 96, 64, 45, 31, 10, 24, 19, 33, 86, 99, 18, 63, 70, 85,\n",
    " 85, 63, 47, 56, 42, 70, 84, 88, 55, 20, 54, 8, 56, 51, 79, 81, 57, 37, 91,\n",
    " 1, 84, 84, 36, 66, 9, 89, 50, 42, 91, 50, 95, 90, 98, 39, 16, 82, 31, 92, 41,\n",
    " 45, 30, 66, 70, 34, 85, 94, 5, 3, 36, 72, 91, 84, 34, 87, 75, 53, 51, 20, 89, 51, 20]\n",
    "\n",
    "b = 0\n",
    "unique = []\n",
    "for i in range(len(l)):\n",
    "    a = 0\n",
    "    for j in range(len(l)):\n",
    "        if l[i] == l[j] and i != j:\n",
    "            a += 1\n",
    "    if a == 0:\n",
    "        b += 1\n",
    "        unique.append(l[i])\n",
    "\n",
    "print(unique)\n",
    "print(b)\n",
    "    "
   ]
  },
  {
   "cell_type": "markdown",
   "metadata": {},
   "source": [
    "6\\. Combination of functions\n",
    "\n",
    "Write two functions - one that returns the square of a number, and one that returns the cube. Now write a third function that returns the number raised to the 6th power using the two previous functions."
   ]
  },
  {
   "cell_type": "code",
   "execution_count": 1,
   "metadata": {},
   "outputs": [
    {
     "name": "stdout",
     "output_type": "stream",
     "text": [
      "64\n"
     ]
    }
   ],
   "source": [
    "\"Exercise 6\"\n",
    "\n",
    "def square(a):\n",
    "    return a**2\n",
    "\n",
    "def cube(a):\n",
    "    return a**3\n",
    "\n",
    "def sixth(a):\n",
    "    return square(a)*cube(a)*a\n",
    "\n",
    "print(sixth(2))"
   ]
  },
  {
   "cell_type": "markdown",
   "metadata": {},
   "source": [
    "7\\. Cubes\n",
    "\n",
    "Create a list of the cubes of x for x in *[0, 10]* using:\n",
    "\n",
    "a) a for loop\n",
    "\n",
    "b) a list comprehension"
   ]
  },
  {
   "cell_type": "code",
   "execution_count": 52,
   "metadata": {},
   "outputs": [
    {
     "name": "stdout",
     "output_type": "stream",
     "text": [
      "[0, 1, 8, 27, 64, 125, 216, 343, 512, 729, 1000]\n",
      "[0, 1, 8, 27, 64, 125, 216, 343, 512, 729, 1000]\n"
     ]
    }
   ],
   "source": [
    "\"Exercise 7\"\n",
    "\n",
    "cube_a = []\n",
    "for i in range(0,11):\n",
    "    cube_a.append(i**3)\n",
    "print(cube_a)\n",
    "\n",
    "cube_b = [x**3 for x in range(0,11)]\n",
    "print(cube_b)"
   ]
  },
  {
   "cell_type": "markdown",
   "metadata": {},
   "source": [
    "8\\. Nested list comprehension\n",
    "\n",
    "A Pythagorean triple is an integer solution to the Pythagorean theorem $a^2+b^2=c^2$. The first Pythagorean triple is (3,4,5). Find and put in a tuple all unique Pythagorean triples for the positive integers a, b and c less than 100."
   ]
  },
  {
   "cell_type": "code",
   "execution_count": 51,
   "metadata": {},
   "outputs": [
    {
     "name": "stdout",
     "output_type": "stream",
     "text": [
      "(4, 3, 5)\n",
      "(8, 6, 10)\n",
      "(12, 5, 13)\n",
      "(12, 9, 15)\n",
      "(15, 8, 17)\n",
      "(16, 12, 20)\n",
      "(20, 15, 25)\n",
      "(21, 20, 29)\n",
      "(24, 7, 25)\n",
      "(24, 10, 26)\n",
      "(24, 18, 30)\n",
      "(28, 21, 35)\n",
      "(30, 16, 34)\n",
      "(32, 24, 40)\n",
      "(35, 12, 37)\n",
      "(36, 15, 39)\n",
      "(36, 27, 45)\n",
      "(40, 9, 41)\n",
      "(40, 30, 50)\n",
      "(42, 40, 58)\n",
      "(44, 33, 55)\n",
      "(45, 24, 51)\n",
      "(45, 28, 53)\n",
      "(48, 14, 50)\n",
      "(48, 20, 52)\n",
      "(48, 36, 60)\n",
      "(52, 39, 65)\n",
      "(55, 48, 73)\n",
      "(56, 33, 65)\n",
      "(56, 42, 70)\n",
      "(60, 11, 61)\n",
      "(60, 25, 65)\n",
      "(60, 32, 68)\n",
      "(60, 45, 75)\n",
      "(63, 16, 65)\n",
      "(63, 60, 87)\n",
      "(64, 48, 80)\n",
      "(68, 51, 85)\n",
      "(70, 24, 74)\n",
      "(72, 21, 75)\n",
      "(72, 30, 78)\n",
      "(72, 54, 90)\n",
      "(72, 65, 97)\n",
      "(75, 40, 85)\n",
      "(76, 57, 95)\n",
      "(77, 36, 85)\n",
      "(80, 18, 82)\n",
      "(80, 39, 89)\n",
      "(84, 13, 85)\n",
      "(84, 35, 91)\n"
     ]
    }
   ],
   "source": [
    "\"Exercise 8\"\n",
    "\n",
    "d = []\n",
    "for i in range(0,100):\n",
    "    d.insert(i,i)\n",
    "\n",
    "for i in range(1,100):\n",
    "    for j in range (1,i):\n",
    "        a = i\n",
    "        b = j\n",
    "        c = (a**2 + b**2)**(1/2)\n",
    "        \n",
    "        for l in range(len(d)):\n",
    "            if c == d[l]:\n",
    "                print((a,b,int(c)))"
   ]
  },
  {
   "cell_type": "markdown",
   "metadata": {},
   "source": [
    "9\\. Normalization\n",
    "\n",
    "Write a function that takes a tuple of numbers and returns it with the entries normalized to one"
   ]
  },
  {
   "cell_type": "code",
   "execution_count": 13,
   "metadata": {},
   "outputs": [
    {
     "name": "stdout",
     "output_type": "stream",
     "text": [
      "[0.5, 0.5, 0.5, 0.5]\n"
     ]
    }
   ],
   "source": [
    "\"Exercise 9\"\n",
    "\n",
    "v = (1, 1, 1, 1)\n",
    "\n",
    "def normalize(a):\n",
    "    norm = 0\n",
    "    for i in range(len(a)):\n",
    "        norm += a[i]**2\n",
    "    norm = norm**(1/2)\n",
    "\n",
    "    b = [a[i]/norm for i in range(len(a))]\n",
    "\n",
    "    return b\n",
    "\n",
    "print(normalize(v))\n",
    "\n",
    "\n"
   ]
  }
 ],
 "metadata": {
  "interpreter": {
   "hash": "2097b8de0cf559b99a541878d948e75eb032eda4087ac9e140bfcd448ac40ac5"
  },
  "kernelspec": {
   "display_name": "Python 3.9.7 64-bit (windows store)",
   "name": "python3"
  },
  "language_info": {
   "codemirror_mode": {
    "name": "ipython",
    "version": 3
   },
   "file_extension": ".py",
   "mimetype": "text/x-python",
   "name": "python",
   "nbconvert_exporter": "python",
   "pygments_lexer": "ipython3",
   "version": "3.9.7"
  }
 },
 "nbformat": 4,
 "nbformat_minor": 2
}
