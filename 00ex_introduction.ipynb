{
 "cells": [
  {
   "cell_type": "markdown",
   "metadata": {},
   "source": [
    "1. The MickeyMouse problem\n",
    "\n",
    "a) Write a program that prints the numbers from 1 to 100. But for multiples of three print Mickey instead of the number and for the multiples of five print Mouse. For numbers which are multiples of both three and five print MickeyMouse\n",
    "\n",
    "b) Put the result in a tuple and substitute Mickey with Donald and Mouse with Duck"
   ]
  },
  {
   "cell_type": "code",
   "execution_count": 1,
   "metadata": {},
   "outputs": [],
   "source": [
    "import numpy as np"
   ]
  },
  {
   "cell_type": "code",
   "execution_count": 75,
   "metadata": {},
   "outputs": [
    {
     "data": {
      "text/plain": [
       "('DonaldDuck',\n",
       " 1,\n",
       " 2,\n",
       " 'Donald',\n",
       " 4,\n",
       " 'Duck',\n",
       " 'Donald',\n",
       " 7,\n",
       " 8,\n",
       " 'Donald',\n",
       " 'Duck',\n",
       " 11,\n",
       " 'Donald',\n",
       " 13,\n",
       " 14,\n",
       " 'DonaldDuck',\n",
       " 16,\n",
       " 17,\n",
       " 'Donald',\n",
       " 19,\n",
       " 'Duck',\n",
       " 'Donald',\n",
       " 22,\n",
       " 23,\n",
       " 'Donald',\n",
       " 'Duck',\n",
       " 26,\n",
       " 'Donald',\n",
       " 28,\n",
       " 29,\n",
       " 'DonaldDuck',\n",
       " 31,\n",
       " 32,\n",
       " 'Donald',\n",
       " 34,\n",
       " 'Duck',\n",
       " 'Donald',\n",
       " 37,\n",
       " 38,\n",
       " 'Donald',\n",
       " 'Duck',\n",
       " 41,\n",
       " 'Donald',\n",
       " 43,\n",
       " 44,\n",
       " 'DonaldDuck',\n",
       " 46,\n",
       " 47,\n",
       " 'Donald',\n",
       " 49,\n",
       " 'Duck',\n",
       " 'Donald',\n",
       " 52,\n",
       " 53,\n",
       " 'Donald',\n",
       " 'Duck',\n",
       " 56,\n",
       " 'Donald',\n",
       " 58,\n",
       " 59,\n",
       " 'DonaldDuck',\n",
       " 61,\n",
       " 62,\n",
       " 'Donald',\n",
       " 64,\n",
       " 'Duck',\n",
       " 'Donald',\n",
       " 67,\n",
       " 68,\n",
       " 'Donald',\n",
       " 'Duck',\n",
       " 71,\n",
       " 'Donald',\n",
       " 73,\n",
       " 74,\n",
       " 'DonaldDuck',\n",
       " 76,\n",
       " 77,\n",
       " 'Donald',\n",
       " 79,\n",
       " 'Duck',\n",
       " 'Donald',\n",
       " 82,\n",
       " 83,\n",
       " 'Donald',\n",
       " 'Duck',\n",
       " 86,\n",
       " 'Donald',\n",
       " 88,\n",
       " 89,\n",
       " 'DonaldDuck',\n",
       " 91,\n",
       " 92,\n",
       " 'Donald',\n",
       " 94,\n",
       " 'Duck',\n",
       " 'Donald',\n",
       " 97,\n",
       " 98,\n",
       " 'Donald')"
      ]
     },
     "execution_count": 75,
     "metadata": {},
     "output_type": "execute_result"
    }
   ],
   "source": [
    "#a\n",
    "l=[]\n",
    "for i in range(100): \n",
    "    if i%3==0: \n",
    "        if i%5==0: l.append(\"MickeyMouse\")\n",
    "        else: l.append(\"Mickey\")\n",
    "    elif i%5==0: l.append(\"Mouse\")   \n",
    "    else: l.append(i)\n",
    "    print(l[i])\n",
    "t=tuple(l)\n",
    "\n",
    "for i in range(len(l)):\n",
    "    if l[i]=='Mickey': l[i]='Donald'\n",
    "    elif l[i]=='Mouse': l[i]='Duck'\n",
    "    elif l[i]=='MickeyMouse': l[i]='DonaldDuck'\n",
    "t=tuple(l)\n"
   ]
  },
  {
   "cell_type": "markdown",
   "metadata": {},
   "source": [
    "2\\. The swap function\n",
    "\n",
    "Write a function that swap the values of two input variables x and y (whatever the type). Try to do that also without a temporary variable"
   ]
  },
  {
   "cell_type": "code",
   "execution_count": 59,
   "metadata": {},
   "outputs": [
    {
     "name": "stdout",
     "output_type": "stream",
     "text": [
      "5 3\n"
     ]
    }
   ],
   "source": [
    "a=3; b=5\n",
    "def g(x,y):\n",
    "    return y,x\n",
    "a,b= g(a,b)\n",
    "print(a,b)\n"
   ]
  },
  {
   "cell_type": "markdown",
   "metadata": {},
   "source": [
    "3\\. Computing the distance\n",
    "\n",
    "Write a function that calculates and returns the euclidean distance between two points *u* and *v*, where *u* and *v* are both 2-tuples *(x,y)*. For example, if *u=(3,0)* and *v=(0,4)*, the function should return 5"
   ]
  },
  {
   "cell_type": "code",
   "execution_count": 76,
   "metadata": {},
   "outputs": [
    {
     "name": "stdout",
     "output_type": "stream",
     "text": [
      "5.0\n"
     ]
    }
   ],
   "source": [
    "def distance(u,v):\n",
    "    d=0\n",
    "    for i in range(len(u)):\n",
    "        d+=(u[i]-v[i])**2\n",
    "    return d**0.5\n",
    "\n",
    "u=(3,0); v=(0,4)\n",
    "print(distance(u,v))"
   ]
  },
  {
   "cell_type": "markdown",
   "metadata": {},
   "source": [
    "4\\. Counting letters\n",
    "\n",
    "Write a program to calculate the number of times each character occurs in a given string *s*. Ignore differneces in capitalization"
   ]
  },
  {
   "cell_type": "code",
   "execution_count": 77,
   "metadata": {},
   "outputs": [],
   "source": [
    "s=\"Write a program that prints the numbers from 1 to 100. \\\n",
    "But for multiples of three print Mickey instead of the number and for the multiples of five print Mouse. \\\n",
    "For numbers which are multiples of both three and five print MickeyMouse\""
   ]
  },
  {
   "cell_type": "code",
   "execution_count": 84,
   "metadata": {},
   "outputs": [
    {
     "data": {
      "text/plain": [
       "{'w': 2,\n",
       " 'r': 17,\n",
       " 'i': 14,\n",
       " 't': 19,\n",
       " 'e': 22,\n",
       " ' ': 41,\n",
       " 'a': 7,\n",
       " 'p': 8,\n",
       " 'o': 13,\n",
       " 'g': 1,\n",
       " 'm': 12,\n",
       " 'h': 9,\n",
       " 'n': 10,\n",
       " 's': 9,\n",
       " 'u': 9,\n",
       " 'b': 5,\n",
       " 'f': 10,\n",
       " '1': 2,\n",
       " '0': 2,\n",
       " '.': 2,\n",
       " 'l': 6,\n",
       " 'c': 3,\n",
       " 'k': 2,\n",
       " 'y': 2,\n",
       " 'd': 3,\n",
       " 'v': 2}"
      ]
     },
     "execution_count": 84,
     "metadata": {},
     "output_type": "execute_result"
    }
   ],
   "source": [
    "s=s.lower()\n",
    "d={}\n",
    "for element in s:\n",
    "    if element not in d: d[element]=1\n",
    "    else: d[element]+=1\n",
    "    \n",
    "d"
   ]
  },
  {
   "cell_type": "markdown",
   "metadata": {},
   "source": [
    "5\\. Isolating the unique\n",
    "\n",
    "Write a function that determines and count the unique numbers in the list *l*"
   ]
  },
  {
   "cell_type": "code",
   "execution_count": 28,
   "metadata": {},
   "outputs": [],
   "source": [
    "l = [36, 45, 58, 3, 74, 96, 64, 45, 31, 10, 24, 19, 33, 86, 99, 18, 63, 70, 85,\n",
    " 85, 63, 47, 56, 42, 70, 84, 88, 55, 20, 54, 8, 56, 51, 79, 81, 57, 37, 91,\n",
    " 1, 84, 84, 36, 66, 9, 89, 50, 42, 91, 50, 95, 90, 98, 39, 16, 82, 31, 92, 41,\n",
    " 45, 30, 66, 70, 34, 85, 94, 5, 3, 36, 72, 91, 84, 34, 87, 75, 53, 51, 20, 89, 51, 20]"
   ]
  },
  {
   "cell_type": "code",
   "execution_count": 35,
   "metadata": {},
   "outputs": [
    {
     "name": "stdout",
     "output_type": "stream",
     "text": [
      "[0, 2, 4, 6, 7, 11, 12, 13, 14, 15, 17, 21, 22, 23, 25, 26, 27, 28, 29, 32, 35, 38, 40, 43, 44, 46, 48, 49, 52, 59, 60, 61, 62, 65, 67, 68, 69, 71, 73, 76, 77, 78, 80, 83, 93, 97] 46\n"
     ]
    }
   ],
   "source": [
    "def unique(l):\n",
    "    counter=[]; u=[]\n",
    "    for i in range(max(l)):\n",
    "        a=0\n",
    "        for j in range(len(l)):\n",
    "            if l[j]==i: a+=1\n",
    "        counter.append(a)\n",
    "        if a==0: u.append(i)\n",
    "    return u, len(u)  \n",
    "\n",
    "numbers, count = unique(l)\n",
    "print(numbers, count)"
   ]
  },
  {
   "cell_type": "markdown",
   "metadata": {},
   "source": [
    "6\\. Combination of functions\n",
    "\n",
    "Write two functions - one that returns the square of a number, and one that returns the cube. Now write a third function that returns the number raised to the 6th power using the two previous functions."
   ]
  },
  {
   "cell_type": "code",
   "execution_count": 38,
   "metadata": {},
   "outputs": [
    {
     "name": "stdout",
     "output_type": "stream",
     "text": [
      "64\n"
     ]
    }
   ],
   "source": [
    "def square(x):\n",
    "    return x**2\n",
    "def cube(x):\n",
    "    return x**3\n",
    "\n",
    "def sixthpow(x):\n",
    "    return cube(square(x))\n",
    "\n",
    "print(sixthpow(2))"
   ]
  },
  {
   "cell_type": "markdown",
   "metadata": {},
   "source": [
    "7\\. Cubes\n",
    "\n",
    "Create a list of the cubes of x for x in *[0, 10]* using:\n",
    "\n",
    "a) a for loop\n",
    "\n",
    "b) a list comprehension"
   ]
  },
  {
   "cell_type": "code",
   "execution_count": 42,
   "metadata": {},
   "outputs": [
    {
     "data": {
      "text/plain": [
       "[0, 1, 8, 27, 64, 125, 216, 343, 512, 729]"
      ]
     },
     "execution_count": 42,
     "metadata": {},
     "output_type": "execute_result"
    }
   ],
   "source": [
    "\n",
    "a=[]\n",
    "for i in range(10):\n",
    "    a.append(cube(i))\n",
    "    \n",
    "b=[cube(x) for x in range(10)]\n"
   ]
  },
  {
   "cell_type": "markdown",
   "metadata": {},
   "source": [
    "8\\. Nested list comprehension\n",
    "\n",
    "A Pythagorean triple is an integer solution to the Pythagorean theorem $a^2+b^2=c^2$. The first Pythagorean triple is (3,4,5). Find and put in a tuple all unique Pythagorean triples for the positive integers a, b and c less than 100."
   ]
  },
  {
   "cell_type": "code",
   "execution_count": 87,
   "metadata": {},
   "outputs": [],
   "source": [
    "x=[]\n",
    "for a in range(100):\n",
    "    for b in range(100):\n",
    "        for c in range (100):\n",
    "            if (square(a)+square(b)-square(c))==0:\n",
    "                x.append((a,b,c))\n",
    "#with a nested list comprehension\n",
    "y=[ (a,b,c) for a in range(100) for b in range(100) for c in range(100) if (square(a)+square(b)-square(c))==0]"
   ]
  },
  {
   "cell_type": "markdown",
   "metadata": {},
   "source": [
    "9\\. Normalization\n",
    "\n",
    "Write a function that takes a tuple of numbers and returns it with the entries normalized to one"
   ]
  },
  {
   "cell_type": "code",
   "execution_count": 94,
   "metadata": {},
   "outputs": [
    {
     "data": {
      "text/plain": [
       "(0.5, 0.5)"
      ]
     },
     "execution_count": 94,
     "metadata": {},
     "output_type": "execute_result"
    }
   ],
   "source": [
    "def norm(x):\n",
    "    n=0\n",
    "    temp=[]\n",
    "    for i in range(len(x)): n+=square(x[i]) ; \n",
    "    for i in range(len(x)): temp.append(x[i]/n)\n",
    "    return tuple(temp)\n",
    "\n",
    "x=(1,1)\n",
    "norm(x)"
   ]
  }
 ],
 "metadata": {
  "kernelspec": {
   "display_name": "Python 3",
   "language": "python",
   "name": "python3"
  },
  "language_info": {
   "codemirror_mode": {
    "name": "ipython",
    "version": 3
   },
   "file_extension": ".py",
   "mimetype": "text/x-python",
   "name": "python",
   "nbconvert_exporter": "python",
   "pygments_lexer": "ipython3",
   "version": "3.7.6"
  }
 },
 "nbformat": 4,
 "nbformat_minor": 2
}
