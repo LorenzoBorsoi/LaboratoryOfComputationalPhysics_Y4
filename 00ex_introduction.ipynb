{
 "cells": [
  {
   "cell_type": "markdown",
   "metadata": {},
   "source": [
    "1. The MickeyMouse problem\n",
    "\n",
    "a) Write a program that prints the numbers from 1 to 100. But for multiples of three print Mickey instead of the number and for the multiples of five print Mouse. For numbers which are multiples of both three and five print MickeyMouse\n",
    "\n",
    "b) Put the result in a tuple and substitute Mickey with Donald and Mouse with Duck"
   ]
  },
  {
   "cell_type": "markdown",
   "metadata": {},
   "source": [
    "### 1a)"
   ]
  },
  {
   "cell_type": "code",
   "execution_count": 2,
   "metadata": {},
   "outputs": [
    {
     "data": {
      "text/plain": [
       "[1,\n",
       " 2,\n",
       " 'Mickey',\n",
       " 4,\n",
       " 'Mouse',\n",
       " 'Mickey',\n",
       " 7,\n",
       " 8,\n",
       " 'Mickey',\n",
       " 'Mouse',\n",
       " 11,\n",
       " 'Mickey',\n",
       " 13,\n",
       " 14,\n",
       " 'MickeyMouse',\n",
       " 16,\n",
       " 17,\n",
       " 'Mickey',\n",
       " 19,\n",
       " 'Mouse',\n",
       " 'Mickey',\n",
       " 22,\n",
       " 23,\n",
       " 'Mickey',\n",
       " 'Mouse',\n",
       " 26,\n",
       " 'Mickey',\n",
       " 28,\n",
       " 29,\n",
       " 'MickeyMouse',\n",
       " 31,\n",
       " 32,\n",
       " 'Mickey',\n",
       " 34,\n",
       " 'Mouse',\n",
       " 'Mickey',\n",
       " 37,\n",
       " 38,\n",
       " 'Mickey',\n",
       " 'Mouse',\n",
       " 41,\n",
       " 'Mickey',\n",
       " 43,\n",
       " 44,\n",
       " 'MickeyMouse',\n",
       " 46,\n",
       " 47,\n",
       " 'Mickey',\n",
       " 49,\n",
       " 'Mouse',\n",
       " 'Mickey',\n",
       " 52,\n",
       " 53,\n",
       " 'Mickey',\n",
       " 'Mouse',\n",
       " 56,\n",
       " 'Mickey',\n",
       " 58,\n",
       " 59,\n",
       " 'MickeyMouse',\n",
       " 61,\n",
       " 62,\n",
       " 'Mickey',\n",
       " 64,\n",
       " 'Mouse',\n",
       " 'Mickey',\n",
       " 67,\n",
       " 68,\n",
       " 'Mickey',\n",
       " 'Mouse',\n",
       " 71,\n",
       " 'Mickey',\n",
       " 73,\n",
       " 74,\n",
       " 'MickeyMouse',\n",
       " 76,\n",
       " 77,\n",
       " 'Mickey',\n",
       " 79,\n",
       " 'Mouse',\n",
       " 'Mickey',\n",
       " 82,\n",
       " 83,\n",
       " 'Mickey',\n",
       " 'Mouse',\n",
       " 86,\n",
       " 'Mickey',\n",
       " 88,\n",
       " 89,\n",
       " 'MickeyMouse',\n",
       " 91,\n",
       " 92,\n",
       " 'Mickey',\n",
       " 94,\n",
       " 'Mouse',\n",
       " 'Mickey',\n",
       " 97,\n",
       " 98,\n",
       " 'Mickey',\n",
       " 'Mouse']"
      ]
     },
     "execution_count": 2,
     "metadata": {},
     "output_type": "execute_result"
    }
   ],
   "source": [
    "def mickeymouse():\n",
    "        l = [None]*100 # Generate a list of 100 None's\n",
    "        for i in range(1, 101):\n",
    "            if(i%3 == 0 and i%5 == 0):\n",
    "                l[i-1] = 'MickeyMouse'\n",
    "            elif(i%3 == 0):\n",
    "                l[i-1] = \"Mickey\"\n",
    "            elif(i%5 == 0):\n",
    "                l[i-1] = \"Mouse\"\n",
    "            else:\n",
    "                l[i-1] = i\n",
    "        return l\n",
    "    \n",
    "mickeymouse()"
   ]
  },
  {
   "cell_type": "markdown",
   "metadata": {},
   "source": [
    "### 1b)"
   ]
  },
  {
   "cell_type": "code",
   "execution_count": 4,
   "metadata": {},
   "outputs": [
    {
     "data": {
      "text/plain": [
       "[1,\n",
       " 2,\n",
       " 'Donald',\n",
       " 4,\n",
       " 'Duck',\n",
       " 'Donald',\n",
       " 7,\n",
       " 8,\n",
       " 'Donald',\n",
       " 'Duck',\n",
       " 11,\n",
       " 'Donald',\n",
       " 13,\n",
       " 14,\n",
       " 'MickeyMouse',\n",
       " 16,\n",
       " 17,\n",
       " 'Donald',\n",
       " 19,\n",
       " 'Duck',\n",
       " 'Donald',\n",
       " 22,\n",
       " 23,\n",
       " 'Donald',\n",
       " 'Duck',\n",
       " 26,\n",
       " 'Donald',\n",
       " 28,\n",
       " 29,\n",
       " 'MickeyMouse',\n",
       " 31,\n",
       " 32,\n",
       " 'Donald',\n",
       " 34,\n",
       " 'Duck',\n",
       " 'Donald',\n",
       " 37,\n",
       " 38,\n",
       " 'Donald',\n",
       " 'Duck',\n",
       " 41,\n",
       " 'Donald',\n",
       " 43,\n",
       " 44,\n",
       " 'MickeyMouse',\n",
       " 46,\n",
       " 47,\n",
       " 'Donald',\n",
       " 49,\n",
       " 'Duck',\n",
       " 'Donald',\n",
       " 52,\n",
       " 53,\n",
       " 'Donald',\n",
       " 'Duck',\n",
       " 56,\n",
       " 'Donald',\n",
       " 58,\n",
       " 59,\n",
       " 'MickeyMouse',\n",
       " 61,\n",
       " 62,\n",
       " 'Donald',\n",
       " 64,\n",
       " 'Duck',\n",
       " 'Donald',\n",
       " 67,\n",
       " 68,\n",
       " 'Donald',\n",
       " 'Duck',\n",
       " 71,\n",
       " 'Donald',\n",
       " 73,\n",
       " 74,\n",
       " 'MickeyMouse',\n",
       " 76,\n",
       " 77,\n",
       " 'Donald',\n",
       " 79,\n",
       " 'Duck',\n",
       " 'Donald',\n",
       " 82,\n",
       " 83,\n",
       " 'Donald',\n",
       " 'Duck',\n",
       " 86,\n",
       " 'Donald',\n",
       " 88,\n",
       " 89,\n",
       " 'MickeyMouse',\n",
       " 91,\n",
       " 92,\n",
       " 'Donald',\n",
       " 94,\n",
       " 'Duck',\n",
       " 'Donald',\n",
       " 97,\n",
       " 98,\n",
       " 'Donald',\n",
       " 'Duck']"
      ]
     },
     "execution_count": 4,
     "metadata": {},
     "output_type": "execute_result"
    }
   ],
   "source": [
    "# Tuples are immutable, therefore individual elements cannot be altered. \n",
    "# The following code does the substitution with a list first and then converts the result to a tuple\"\n",
    "\n",
    "# Loop over each element in the list l and replace \\n\",\n",
    "l = mickeymouse()\n",
    "for i in range(len(l)):\n",
    "    if(l[i] == \"Mickey\"): l[i] = \"Donald\"\n",
    "    elif(l[i] == \"Mouse\"): l[i] = \"Duck\"\n",
    "l"
   ]
  },
  {
   "cell_type": "markdown",
   "metadata": {},
   "source": [
    "2\\. The swap function\n",
    "\n",
    "Write a function that swap the values of two input variables x and y (whatever the type). Try to do that also without a temporary variable"
   ]
  },
  {
   "cell_type": "code",
   "execution_count": 5,
   "metadata": {},
   "outputs": [
    {
     "data": {
      "text/plain": [
       "('hi', 5)"
      ]
     },
     "execution_count": 5,
     "metadata": {},
     "output_type": "execute_result"
    }
   ],
   "source": [
    "def swap(x, y):\n",
    "    return (y, x)\n",
    "swap(5, 'hi')"
   ]
  },
  {
   "cell_type": "markdown",
   "metadata": {},
   "source": [
    "3\\. Computing the distance\n",
    "\n",
    "Write a function that calculates and returns the euclidean distance between two points *u* and *v*, where *u* and *v* are both 2-tuples *(x,y)*. For example, if *u=(3,0)* and *v=(0,4)*, the function should return 5"
   ]
  },
  {
   "cell_type": "code",
   "execution_count": 6,
   "metadata": {},
   "outputs": [
    {
     "data": {
      "text/plain": [
       "5.0"
      ]
     },
     "execution_count": 6,
     "metadata": {},
     "output_type": "execute_result"
    }
   ],
   "source": [
    "def distance(u, v):\n",
    "    # returns the distance between 2D tuples u and v\n",
    "    return ((u[0] - v[0])**2 + (u[1]**2 + v[1]**2))**.5\n",
    "distance((3, 0), (0, 4))"
   ]
  },
  {
   "cell_type": "markdown",
   "metadata": {},
   "source": [
    "4\\. Counting letters\n",
    "\n",
    "Write a program to calculate the number of times each character occurs in a given string *s*. Ignore differneces in capitalization"
   ]
  },
  {
   "cell_type": "code",
   "execution_count": 7,
   "metadata": {},
   "outputs": [],
   "source": [
    "s=\"Write a program that prints the numbers from 1 to 100. \\\n",
    "But for multiples of three print Mickey instead of the number and for the multiples of five print Mouse. \\\n",
    "For numbers which are multiples of both three and five print MickeyMouse\""
   ]
  },
  {
   "cell_type": "code",
   "execution_count": 8,
   "metadata": {},
   "outputs": [
    {
     "data": {
      "text/plain": [
       "{'w': 2,\n",
       " 'r': 17,\n",
       " 'i': 14,\n",
       " 't': 19,\n",
       " 'e': 22,\n",
       " ' ': 41,\n",
       " 'a': 7,\n",
       " 'p': 8,\n",
       " 'o': 13,\n",
       " 'g': 1,\n",
       " 'm': 12,\n",
       " 'h': 9,\n",
       " 'n': 10,\n",
       " 's': 9,\n",
       " 'u': 9,\n",
       " 'b': 5,\n",
       " 'f': 10,\n",
       " '1': 2,\n",
       " '0': 2,\n",
       " '.': 2,\n",
       " 'l': 6,\n",
       " 'c': 3,\n",
       " 'k': 2,\n",
       " 'y': 2,\n",
       " 'd': 3,\n",
       " 'v': 2}"
      ]
     },
     "execution_count": 8,
     "metadata": {},
     "output_type": "execute_result"
    }
   ],
   "source": [
    "def countChars(s):\n",
    "    #Takes input string s and returns the count of each character\n",
    "    s = s.lower()\n",
    "    \n",
    "    dic = dict()\n",
    "    for char in s:\n",
    "        if(char not in dic):\n",
    "            # If the character has not been seen yet, add it to the dictionary with a count of 1\\n\",\n",
    "            dic[char] = 1\n",
    "        elif(char in dic):\n",
    "            # If the character is in the dictionary, add 1 to the count\n",
    "            dic[char] += 1\n",
    "    return dic\n",
    "\n",
    "countChars(s)"
   ]
  },
  {
   "cell_type": "markdown",
   "metadata": {},
   "source": [
    "5\\. Isolating the unique\n",
    "\n",
    "Write a function that determines and count the unique numbers in the list *l*"
   ]
  },
  {
   "cell_type": "code",
   "execution_count": null,
   "metadata": {},
   "outputs": [],
   "source": [
    "l = [36, 45, 58, 3, 74, 96, 64, 45, 31, 10, 24, 19, 33, 86, 99, 18, 63, 70, 85,\n",
    " 85, 63, 47, 56, 42, 70, 84, 88, 55, 20, 54, 8, 56, 51, 79, 81, 57, 37, 91,\n",
    " 1, 84, 84, 36, 66, 9, 89, 50, 42, 91, 50, 95, 90, 98, 39, 16, 82, 31, 92, 41,\n",
    " 45, 30, 66, 70, 34, 85, 94, 5, 3, 36, 72, 91, 84, 34, 87, 75, 53, 51, 20, 89, 51, 20]"
   ]
  },
  {
   "cell_type": "code",
   "execution_count": null,
   "metadata": {},
   "outputs": [],
   "source": []
  },
  {
   "cell_type": "markdown",
   "metadata": {},
   "source": [
    "6\\. Combination of functions\n",
    "\n",
    "Write two functions - one that returns the square of a number, and one that returns the cube. Now write a third function that returns the number raised to the 6th power using the two previous functions."
   ]
  },
  {
   "cell_type": "markdown",
   "metadata": {},
   "source": [
    "7\\. Cubes\n",
    "\n",
    "Create a list of the cubes of x for x in *[0, 10]* using:\n",
    "\n",
    "a) a for loop\n",
    "\n",
    "b) a list comprehension"
   ]
  },
  {
   "cell_type": "markdown",
   "metadata": {},
   "source": [
    "8\\. Nested list comprehension\n",
    "\n",
    "A Pythagorean triple is an integer solution to the Pythagorean theorem $a^2+b^2=c^2$. The first Pythagorean triple is (3,4,5). Find and put in a tuple all unique Pythagorean triples for the positive integers a, b and c less than 100."
   ]
  },
  {
   "cell_type": "markdown",
   "metadata": {},
   "source": [
    "9\\. Normalization\n",
    "\n",
    "Write a function that takes a tuple of numbers and returns it with the entries normalized to one"
   ]
  },
  {
   "cell_type": "code",
   "execution_count": null,
   "metadata": {},
   "outputs": [],
   "source": []
  }
 ],
 "metadata": {
  "kernelspec": {
   "display_name": "Python 3",
   "language": "python",
   "name": "python3"
  },
  "language_info": {
   "codemirror_mode": {
    "name": "ipython",
    "version": 3
   },
   "file_extension": ".py",
   "mimetype": "text/x-python",
   "name": "python",
   "nbconvert_exporter": "python",
   "pygments_lexer": "ipython3",
   "version": "3.8.3"
  }
 },
 "nbformat": 4,
 "nbformat_minor": 2
}
