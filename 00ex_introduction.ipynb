{
 "cells": [
  {
   "cell_type": "markdown",
   "metadata": {},
   "source": [
    "1. The MickeyMouse problem\n",
    "\n",
    "a) Write a program that prints the numbers from 1 to 100. But for multiples of three print Mickey instead of the number and for the multiples of five print Mouse. For numbers which are multiples of both three and five print MickeyMouse\n",
    "\n",
    "b) Put the result in a tuple and substitute Mickey with Donald and Mouse with Duck"
   ]
  },
  {
   "cell_type": "code",
   "execution_count": 9,
   "metadata": {},
   "outputs": [
    {
     "name": "stdout",
     "output_type": "stream",
     "text": [
      "1\n",
      "2\n",
      "Mickey\n",
      "4\n",
      "Mouse\n",
      "Mickey\n",
      "7\n",
      "8\n",
      "Mickey\n",
      "Mouse\n",
      "11\n",
      "Mickey\n",
      "13\n",
      "14\n",
      "MickeyMouse\n",
      "16\n",
      "17\n",
      "Mickey\n",
      "19\n",
      "Mouse\n",
      "Mickey\n",
      "22\n",
      "23\n",
      "Mickey\n",
      "Mouse\n",
      "26\n",
      "Mickey\n",
      "28\n",
      "29\n",
      "MickeyMouse\n",
      "31\n",
      "32\n",
      "Mickey\n",
      "34\n",
      "Mouse\n",
      "Mickey\n",
      "37\n",
      "38\n",
      "Mickey\n",
      "Mouse\n",
      "41\n",
      "Mickey\n",
      "43\n",
      "44\n",
      "MickeyMouse\n",
      "46\n",
      "47\n",
      "Mickey\n",
      "49\n",
      "Mouse\n",
      "Mickey\n",
      "52\n",
      "53\n",
      "Mickey\n",
      "Mouse\n",
      "56\n",
      "Mickey\n",
      "58\n",
      "59\n",
      "MickeyMouse\n",
      "61\n",
      "62\n",
      "Mickey\n",
      "64\n",
      "Mouse\n",
      "Mickey\n",
      "67\n",
      "68\n",
      "Mickey\n",
      "Mouse\n",
      "71\n",
      "Mickey\n",
      "73\n",
      "74\n",
      "MickeyMouse\n",
      "76\n",
      "77\n",
      "Mickey\n",
      "79\n",
      "Mouse\n",
      "Mickey\n",
      "82\n",
      "83\n",
      "Mickey\n",
      "Mouse\n",
      "86\n",
      "Mickey\n",
      "88\n",
      "89\n",
      "MickeyMouse\n",
      "91\n",
      "92\n",
      "Mickey\n",
      "94\n",
      "Mouse\n",
      "Mickey\n",
      "97\n",
      "98\n",
      "Mickey\n",
      "Mouse\n",
      "(1, 2, 'Donald', 4, 'Duck', 'Donald', 7, 8, 'Donald', 'Duck', 11, 'Donald', 13, 14, 'DonaldDuck', 16, 17, 'Donald', 19, 'Duck', 'Donald', 22, 23, 'Donald', 'Duck', 26, 'Donald', 28, 29, 'DonaldDuck', 31, 32, 'Donald', 34, 'Duck', 'Donald', 37, 38, 'Donald', 'Duck', 41, 'Donald', 43, 44, 'DonaldDuck', 46, 47, 'Donald', 49, 'Duck', 'Donald', 52, 53, 'Donald', 'Duck', 56, 'Donald', 58, 59, 'DonaldDuck', 61, 62, 'Donald', 64, 'Duck', 'Donald', 67, 68, 'Donald', 'Duck', 71, 'Donald', 73, 74, 'DonaldDuck', 76, 77, 'Donald', 79, 'Duck', 'Donald', 82, 83, 'Donald', 'Duck', 86, 'Donald', 88, 89, 'DonaldDuck', 91, 92, 'Donald', 94, 'Duck', 'Donald', 97, 98, 'Donald', 'Duck')\n"
     ]
    }
   ],
   "source": [
    "#a)\n",
    "\n",
    "for i in range(1,101):\n",
    "    if i%15 == 0:\n",
    "        print(\"MickeyMouse\")\n",
    "    elif i%3 == 0:\n",
    "        print(\"Mickey\")\n",
    "    elif i%5==0:\n",
    "        print(\"Mouse\")\n",
    "    else:\n",
    "        print(i)\n",
    "        \n",
    "#b)\n",
    "\n",
    "list_temp = []\n",
    "for i in range(1,101):\n",
    "    if i%15 == 0:\n",
    "        list_temp.append(\"DonaldDuck\")\n",
    "    elif i%3 == 0:\n",
    "        list_temp.append(\"Donald\")\n",
    "    elif i%5==0:\n",
    "        list_temp.append(\"Duck\")\n",
    "    else:\n",
    "        list_temp.append(i)\n",
    "\n",
    "t = tuple( list_temp )\n",
    "\n",
    "print(t)"
   ]
  },
  {
   "cell_type": "markdown",
   "metadata": {},
   "source": [
    "2\\. The swap function\n",
    "\n",
    "Write a function that swap the values of two input variables x and y (whatever the type). Try to do that also without a temporary variable"
   ]
  },
  {
   "cell_type": "code",
   "execution_count": 31,
   "metadata": {},
   "outputs": [
    {
     "name": "stdout",
     "output_type": "stream",
     "text": [
      "a =  2  ,  b =  (1, 2, 3)\n",
      "a =  (1, 2, 3)  ,  b =  2\n"
     ]
    }
   ],
   "source": [
    "def swap (x,y):\n",
    "    return y, x\n",
    "    \n",
    "a=2\n",
    "b=(1,2,3)\n",
    "\n",
    "print (\"a = \", a , \" , \", \"b = \", b )\n",
    "\n",
    "a,b = swap(a,b)\n",
    "\n",
    "print (\"a = \", a, \" , \", \"b = \" , b )"
   ]
  },
  {
   "cell_type": "markdown",
   "metadata": {},
   "source": [
    "3\\. Computing the distance\n",
    "\n",
    "Write a function that calculates and returns the euclidean distance between two points *u* and *v*, where *u* and *v* are both 2-tuples *(x,y)*. For example, if *u=(3,0)* and *v=(0,4)*, the function should return 5"
   ]
  },
  {
   "cell_type": "code",
   "execution_count": 43,
   "metadata": {},
   "outputs": [
    {
     "name": "stdout",
     "output_type": "stream",
     "text": [
      "Euclidean Distance =  13.0\n"
     ]
    }
   ],
   "source": [
    "def func(p1 , p2):\n",
    "    try:\n",
    "        return ( pow( (p1[0] - p2[0])**2 + (p1[1] - p2[1])**2 , 0.5) )\n",
    "\n",
    "    except:\n",
    "        print(\"Non valid input, restart\")\n",
    "        \n",
    "u = (5,0)\n",
    "v = (0,12)\n",
    "\n",
    "print(\"Euclidean Distance = \" , func(u,v))"
   ]
  },
  {
   "cell_type": "markdown",
   "metadata": {},
   "source": [
    "4\\. Counting letters\n",
    "\n",
    "Write a program to calculate the number of times each character occurs in a given string *s*. Ignore differneces in capitalization"
   ]
  },
  {
   "cell_type": "code",
   "execution_count": 21,
   "metadata": {},
   "outputs": [
    {
     "name": "stdout",
     "output_type": "stream",
     "text": [
      "Analyzing the string ->  Niente male Python \n",
      "\n",
      "Number of  a  =  1\n",
      "Number of  b  =  0\n",
      "Number of  c  =  0\n",
      "Number of  d  =  0\n",
      "Number of  e  =  3\n",
      "Number of  f  =  0\n",
      "Number of  g  =  0\n",
      "Number of  h  =  1\n",
      "Number of  i  =  1\n",
      "Number of  j  =  0\n",
      "Number of  k  =  0\n",
      "Number of  l  =  1\n",
      "Number of  m  =  1\n",
      "Number of  n  =  3\n",
      "Number of  o  =  1\n",
      "Number of  p  =  1\n",
      "Number of  q  =  0\n",
      "Number of  r  =  0\n",
      "Number of  s  =  0\n",
      "Number of  t  =  2\n",
      "Number of  u  =  0\n",
      "Number of  v  =  0\n",
      "Number of  w  =  0\n",
      "Number of  x  =  0\n",
      "Number of  y  =  1\n",
      "Number of  z  =  0\n"
     ]
    }
   ],
   "source": [
    "s = \"Niente male Python\"\n",
    "print(\"Analyzing the string -> \" , s , \"\\n\")\n",
    "char=[\"a\",\"b\",\"c\",\"d\",\"e\",\"f\",\"g\",\"h\",\"i\",\"j\",\"k\",\"l\",\"m\",\"n\",\"o\",\"p\",\"q\",\"r\",\"s\",\"t\",\"u\",\"v\",\"w\",\"x\",\"y\",\"z\"]\n",
    "for i in range(len(char)):\n",
    "    print(\"Number of \", char[i] , \" = \" , s.lower().count(char[i]) )"
   ]
  },
  {
   "cell_type": "markdown",
   "metadata": {},
   "source": [
    "5\\. Isolating the unique\n",
    "\n",
    "Write a function that determines and count the unique numbers in the list *l*"
   ]
  },
  {
   "cell_type": "code",
   "execution_count": 30,
   "metadata": {},
   "outputs": [
    {
     "name": "stdout",
     "output_type": "stream",
     "text": [
      "Analyzing the list \n",
      " [36, 45, 58, 3, 74, 96, 64, 45, 31, 10, 24, 19, 33, 86, 99, 18, 63, 70, 85, 85, 63, 47, 56, 42, 70, 84, 88, 55, 20, 54, 8, 56, 51, 79, 81, 57, 37, 91, 1, 84, 84, 36, 66, 9, 89, 50, 42, 91, 50, 95, 90, 98, 39, 16, 82, 31, 92, 41, 45, 30, 66, 70, 34, 85, 94, 5, 3, 36, 72, 91, 84, 34, 87, 75, 53, 51, 20, 89, 51, 20] \n",
      "\n",
      "Number  58 is unique\n",
      "Number  74 is unique\n",
      "Number  96 is unique\n",
      "Number  64 is unique\n",
      "Number  10 is unique\n",
      "Number  24 is unique\n",
      "Number  19 is unique\n",
      "Number  33 is unique\n",
      "Number  86 is unique\n",
      "Number  99 is unique\n",
      "Number  18 is unique\n",
      "Number  47 is unique\n",
      "Number  88 is unique\n",
      "Number  55 is unique\n",
      "Number  54 is unique\n",
      "Number  8 is unique\n",
      "Number  79 is unique\n",
      "Number  81 is unique\n",
      "Number  57 is unique\n",
      "Number  37 is unique\n",
      "Number  1 is unique\n",
      "Number  9 is unique\n",
      "Number  95 is unique\n",
      "Number  90 is unique\n",
      "Number  98 is unique\n",
      "Number  39 is unique\n",
      "Number  16 is unique\n",
      "Number  82 is unique\n",
      "Number  92 is unique\n",
      "Number  41 is unique\n",
      "Number  30 is unique\n",
      "Number  94 is unique\n",
      "Number  5 is unique\n",
      "Number  72 is unique\n",
      "Number  87 is unique\n",
      "Number  75 is unique\n",
      "Number  53 is unique\n",
      "Number of unique numbers =  37\n"
     ]
    }
   ],
   "source": [
    "l = [36, 45, 58, 3, 74, 96, 64, 45, 31, 10, 24, 19, 33, 86, 99, 18, 63, 70, 85,\n",
    " 85, 63, 47, 56, 42, 70, 84, 88, 55, 20, 54, 8, 56, 51, 79, 81, 57, 37, 91,\n",
    " 1, 84, 84, 36, 66, 9, 89, 50, 42, 91, 50, 95, 90, 98, 39, 16, 82, 31, 92, 41,\n",
    " 45, 30, 66, 70, 34, 85, 94, 5, 3, 36, 72, 91, 84, 34, 87, 75, 53, 51, 20, 89, 51, 20]\n",
    "\n",
    "def unique(lista):\n",
    "    n_uni=0\n",
    "    for i in range(len(lista)):\n",
    "        if (l.count(lista[i]) == 1):\n",
    "            print(\"Number \", lista[i], \"is unique\")\n",
    "            n_uni+=1\n",
    "    return n_uni\n",
    "        \n",
    "print(\"Analyzing the list \\n\" , l , \"\\n\" )       \n",
    "print (\"Number of unique numbers = \" , unique(l))"
   ]
  },
  {
   "cell_type": "markdown",
   "metadata": {},
   "source": [
    "6\\. Combination of functions\n",
    "\n",
    "Write two functions - one that returns the square of a number, and one that returns the cube. Now write a third function that returns the number raised to the 6th power using the two previous functions."
   ]
  },
  {
   "cell_type": "code",
   "execution_count": 1,
   "metadata": {},
   "outputs": [
    {
     "name": "stdout",
     "output_type": "stream",
     "text": [
      "Given Number =  3\n",
      "The square of  3 is =  9\n",
      "The cube of  3 is =  27\n",
      "The 6th power of  3 is =  729\n"
     ]
    }
   ],
   "source": [
    "def square(x):\n",
    "    return x**2\n",
    "\n",
    "def cube(x):\n",
    "    return x**3\n",
    "\n",
    "def sixth(x):\n",
    "    return (cube(square(x)))\n",
    "\n",
    "y=3\n",
    "\n",
    "print(\"Given Number = \", y)\n",
    "print(\"The square of \", y , \"is = \" , square(y))\n",
    "print(\"The cube of \", y , \"is = \" , cube(y))\n",
    "print(\"The 6th power of \", y , \"is = \" , sixth(y))"
   ]
  },
  {
   "cell_type": "markdown",
   "metadata": {},
   "source": [
    "7\\. Cubes\n",
    "\n",
    "Create a list of the cubes of x for x in *[0, 10]* using:\n",
    "\n",
    "a) a for loop\n",
    "\n",
    "b) a list comprehension"
   ]
  },
  {
   "cell_type": "code",
   "execution_count": 3,
   "metadata": {},
   "outputs": [
    {
     "name": "stdout",
     "output_type": "stream",
     "text": [
      "cubes ->  [0, 1, 8, 27, 64, 125, 216, 343, 512, 729, 1000]\n",
      "cubes ->  [0, 1, 8, 27, 64, 125, 216, 343, 512, 729, 1000]\n"
     ]
    }
   ],
   "source": [
    "#a)\n",
    "l_cubes=[]\n",
    "for x in range(11):\n",
    "    l_cubes.append(x**3)\n",
    "print(\"cubes -> \", l_cubes)\n",
    "\n",
    "#b)\n",
    "l_cubes2 = [x**3 for x in range(11)]\n",
    "print (\"cubes -> \" , l_cubes2)\n"
   ]
  },
  {
   "cell_type": "markdown",
   "metadata": {},
   "source": [
    "8\\. Nested list comprehension\n",
    "\n",
    "A Pythagorean triple is an integer solution to the Pythagorean theorem $a^2+b^2=c^2$. The first Pythagorean triple is (3,4,5). Find and put in a tuple all unique Pythagorean triples for the positive integers a, b and c less than 100."
   ]
  },
  {
   "cell_type": "code",
   "execution_count": 14,
   "metadata": {},
   "outputs": [
    {
     "name": "stdout",
     "output_type": "stream",
     "text": [
      "Pitagorean Triples (a,b,c) that a^2 + b^2 = c^2   where a,b,c <= 100 \n",
      " ((3, 4, 5), (5, 12, 13), (6, 8, 10), (7, 24, 25), (8, 15, 17), (9, 12, 15), (9, 40, 41), (10, 24, 26), (11, 60, 61), (12, 16, 20), (12, 35, 37), (13, 84, 85), (14, 48, 50), (15, 20, 25), (15, 36, 39), (16, 30, 34), (16, 63, 65), (18, 24, 30), (18, 80, 82), (20, 21, 29), (20, 48, 52), (21, 28, 35), (21, 72, 75), (24, 32, 40), (24, 45, 51), (24, 70, 74), (25, 60, 65), (27, 36, 45), (28, 45, 53), (30, 40, 50), (30, 72, 78), (32, 60, 68), (33, 44, 55), (33, 56, 65), (35, 84, 91), (36, 48, 60), (36, 77, 85), (39, 52, 65), (39, 80, 89), (40, 42, 58), (40, 75, 85), (42, 56, 70), (45, 60, 75), (48, 55, 73), (48, 64, 80), (51, 68, 85), (54, 72, 90), (57, 76, 95), (60, 63, 87), (65, 72, 97))\n"
     ]
    }
   ],
   "source": [
    "n_max=100\n",
    "\n",
    "list_temp = [(a,b,c) for a in range(1,n_max)\n",
    "                     for b in range(a+1,n_max)\n",
    "                     for c in range(b+1, n_max)\n",
    "                     if (a**2 + b**2 == c**2)]\n",
    "\n",
    "t = tuple(list_temp)\n",
    "\n",
    "print(\"Pitagorean Triples (a,b,c) that a^2 + b^2 = c^2   where a,b,c <= 100 \\n\" , t)\n"
   ]
  },
  {
   "cell_type": "markdown",
   "metadata": {},
   "source": [
    "9\\. Normalization\n",
    "\n",
    "Write a function that takes a tuple of numbers and returns it with the entries normalized to one"
   ]
  },
  {
   "cell_type": "code",
   "execution_count": 15,
   "metadata": {},
   "outputs": [
    {
     "name": "stdout",
     "output_type": "stream",
     "text": [
      "[0.1, 0.2, 0.3, 0.4]\n"
     ]
    }
   ],
   "source": [
    "def normalize (t):\n",
    "    norm_t=[]\n",
    "    sum_t=0\n",
    "    for i in range(len(t)):\n",
    "        sum_t+=t[i]\n",
    "    for i in range(len(t)):\n",
    "        norm_t.append((t[i]/sum_t))\n",
    "    return norm_t\n",
    "\n",
    "tupla = (1,2,3,4)\n",
    "print(normalize(tupla))"
   ]
  }
 ],
 "metadata": {
  "kernelspec": {
   "display_name": "Python 3",
   "language": "python",
   "name": "python3"
  },
  "language_info": {
   "codemirror_mode": {
    "name": "ipython",
    "version": 3
   },
   "file_extension": ".py",
   "mimetype": "text/x-python",
   "name": "python",
   "nbconvert_exporter": "python",
   "pygments_lexer": "ipython3",
   "version": "3.8.10"
  }
 },
 "nbformat": 4,
 "nbformat_minor": 2
}
