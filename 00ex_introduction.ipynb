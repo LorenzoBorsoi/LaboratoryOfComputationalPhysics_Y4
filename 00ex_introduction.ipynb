{
 "cells": [
  {
   "cell_type": "markdown",
   "metadata": {},
   "source": [
    "1. The MickeyMouse problem\n",
    "\n",
    "a) Write a program that prints the numbers from 1 to 100. But for multiples of three print Mickey instead of the number and for the multiples of five print Mouse. For numbers which are multiples of both three and five print MickeyMouse\n",
    "\n",
    "b) Put the result in a tuple and substitute Mickey with Donald and Mouse with Duck"
   ]
  },
  {
   "cell_type": "code",
   "execution_count": null,
   "metadata": {},
   "outputs": [],
   "source": [
    "s=\"Write a program that prints the numbers from 1 to 100. \\\n",
    "But for multiples of three print Mickey instead of the number and for the multiples of five print Mouse. \\\n",
    "For numbers which are multiples of both three and five print MickeyMouse\"\n",
    "t=list()     #si può definire così una lista\n",
    "for i in range (1,100): #va specificato il range\n",
    "    if i%3 == 0  and i%5 == 0:  #ricordarsi i :\n",
    "        t+=[\"MickeyMouse\",]   #sarebbe un pushback\n",
    "    elif i%3==0:\n",
    "        t+=[\"Mickey\",]\n",
    "    elif i%5==0:\n",
    "        t+=[\"Mouse\",]\n",
    "    else:\n",
    "        t+=[i]\n",
    "\n",
    "tup=tuple(t)\n",
    "print(tup)\n",
    "\n",
    "t=['Donald' if x=='Mickey' else x for x in t]\n",
    "t=['Duck' if x=='Mouse' else x for x in t]\n",
    "t=['DonaldDuck' if x=='MickeyMouse' else x for x in t]\n",
    "\n",
    "tup=tuple(t)\n",
    "print(tup)"
   ]
  },
  {
   "cell_type": "markdown",
   "metadata": {},
   "source": [
    "2\\. The swap function\n",
    "\n",
    "Write a function that swap the values of two input variables x and y (whatever the type). Try to do that also without a temporary variable"
   ]
  },
  {
   "cell_type": "code",
   "execution_count": null,
   "metadata": {},
   "outputs": [],
   "source": [
    "x1=input(\"Inserisci x:\")\n",
    "y1=input(\"Inserisci y:\")\n",
    "\n",
    "def swap (x1, y1):\n",
    "    return y1, x1\n",
    "\n",
    "x,y=swap(x1, y1)\n",
    "\n",
    "print(x, y)\n",
    "\n",
    "def swap1 (x1, y1):\n",
    "    ch=x1\n",
    "    x1=y1\n",
    "    y1=ch\n",
    "    return x1, y1\n",
    "\n",
    "x1,y1=swap1(x1,y1)\n",
    "\n",
    "print(x1, y1)"
   ]
  },
  {
   "cell_type": "markdown",
   "metadata": {},
   "source": [
    "3\\. Computing the distance\n",
    "\n",
    "Write a function that calculates and returns the euclidean distance between two points *u* and *v*, where *u* and *v* are both 2-tuples *(x,y)*. For example, if *u=(3,0)* and *v=(0,4)*, the function should return 5"
   ]
  },
  {
   "cell_type": "code",
   "execution_count": null,
   "metadata": {},
   "outputs": [],
   "source": [
    "import math\n",
    "\n",
    "def dist(a,b):\n",
    "    distance=math.sqrt((a[0]-b[0])**2+(a[1]-b[1])**2) #radice quadrata\n",
    "    return distance\n",
    "\n",
    "\n",
    "a=[int(x) for x in input(\"inserisci a(x,y):\").split(',')] #modo per inserire come input più valori che vengano letti come int, oppure per uno solo si mette int(input...)\n",
    "b=[int(x) for x in input(\"inserisci b(x,y):\").split(',')] #split(',') invece ci dice come dividere i due valori, in questo caso con la virgola\n",
    "\n",
    "c=dist(a,b)\n",
    "print(c)"
   ]
  },
  {
   "cell_type": "markdown",
   "metadata": {},
   "source": [
    "4\\. Counting letters\n",
    "\n",
    "Write a program to calculate the number of times each character occurs in a given string *s*. Ignore differneces in capitalization"
   ]
  },
  {
   "cell_type": "code",
   "execution_count": 8,
   "metadata": {},
   "outputs": [
    {
     "name": "stdout",
     "output_type": "stream",
     "text": [
      "Scrivi una frase: kmkmka\n",
      "Number of k is 3\n",
      "Number of m is 2\n",
      "Number of a is 1\n"
     ]
    }
   ],
   "source": [
    "first_sentence = input(\"Scrivi una frase: \")\n",
    "first_sentence.lower()\n",
    "c=list()\n",
    "characters = [x for x in first_sentence.lower()]\n",
    "for i in range(0,len(characters)):\n",
    "    if characters[i] not in c:    #modo per verificare la presenza di un valore in una lista\n",
    "        print(\"Number of {} is {}\".format(characters[i], characters.count(characters[i])))\n",
    "    c+=characters[i]"
   ]
  },
  {
   "cell_type": "markdown",
   "metadata": {},
   "source": [
    "5\\. Isolating the unique\n",
    "\n",
    "Write a function that determines and count the unique numbers in the list *l*"
   ]
  },
  {
   "cell_type": "code",
   "execution_count": 15,
   "metadata": {},
   "outputs": [
    {
     "name": "stdout",
     "output_type": "stream",
     "text": [
      "[58, 74, 96, 64, 10, 24, 19, 33, 86, 99, 18, 47, 88, 55, 54, 8, 79, 81, 57, 37, 1, 9, 95, 90, 98, 39, 16, 82, 92, 41, 30, 94, 5, 72, 87, 75, 53]\n"
     ]
    }
   ],
   "source": [
    "l = [36, 45, 58, 3, 74, 96, 64, 45, 31, 10, 24, 19, 33, 86, 99, 18, 63, 70, 85,\n",
    " 85, 63, 47, 56, 42, 70, 84, 88, 55, 20, 54, 8, 56, 51, 79, 81, 57, 37, 91,\n",
    " 1, 84, 84, 36, 66, 9, 89, 50, 42, 91, 50, 95, 90, 98, 39, 16, 82, 31, 92, 41,\n",
    " 45, 30, 66, 70, 34, 85, 94, 5, 3, 36, 72, 91, 84, 34, 87, 75, 53, 51, 20, 89, 51, 20]\n",
    "\n",
    "def uniquen(l):\n",
    "    c=list()\n",
    "    for i in range(0,len(l)):  #andrebbe meglio for x in l\n",
    "        if l.count(l[i])==1 and l[i] not in c:\n",
    "            c.append(l[i]) #funziona meglio di +=\n",
    "    return(c)\n",
    "\n",
    "print(uniquen(l))"
   ]
  },
  {
   "cell_type": "markdown",
   "metadata": {},
   "source": [
    "6\\. Combination of functions\n",
    "\n",
    "Write two functions - one that returns the square of a number, and one that returns the cube. Now write a third function that returns the number raised to the 6th power using the two previous functions."
   ]
  },
  {
   "cell_type": "code",
   "execution_count": null,
   "metadata": {},
   "outputs": [],
   "source": [
    "def sec(a):\n",
    "    b=a**2\n",
    "    return b\n",
    "\n",
    "def ter(a):\n",
    "    b=a**3\n",
    "    return b\n",
    "\n",
    "def ses(a):\n",
    "    b=sec(ter(a))\n",
    "    return b\n",
    "\n",
    "x=int(input(\"Inserire valore: \"))\n",
    "c=ses(x)\n",
    "print(\"La potenza sesta è {}\".format(c))"
   ]
  },
  {
   "cell_type": "markdown",
   "metadata": {},
   "source": [
    "7\\. Cubes\n",
    "\n",
    "Create a list of the cubes of x for x in *[0, 10]* using:\n",
    "\n",
    "a) a for loop\n",
    "\n",
    "b) a list comprehension"
   ]
  },
  {
   "cell_type": "code",
   "execution_count": null,
   "metadata": {},
   "outputs": [],
   "source": [
    "a=list()\n",
    "for x in range(0,10):\n",
    "    a+=[x**3 ,]\n",
    "print(a)\n",
    "\n",
    "b=[x**3 for x in range(0,10)]\n",
    "print(b)"
   ]
  },
  {
   "cell_type": "markdown",
   "metadata": {},
   "source": [
    "8\\. Nested list comprehension\n",
    "\n",
    "A Pythagorean triple is an integer solution to the Pythagorean theorem $a^2+b^2=c^2$. The first Pythagorean triple is (3,4,5). Find and put in a tuple all unique Pythagorean triples for the positive integers a, b and c less than 100."
   ]
  },
  {
   "cell_type": "code",
   "execution_count": 3,
   "metadata": {},
   "outputs": [
    {
     "name": "stdout",
     "output_type": "stream",
     "text": [
      "['a=3, b=4, c=5', 'a=4, b=3, c=5', 'a=5, b=12, c=13', 'a=6, b=8, c=10', 'a=7, b=24, c=25', 'a=8, b=6, c=10', 'a=8, b=15, c=17', 'a=9, b=12, c=15', 'a=9, b=40, c=41', 'a=10, b=24, c=26', 'a=11, b=60, c=61', 'a=12, b=5, c=13', 'a=12, b=9, c=15', 'a=12, b=16, c=20', 'a=12, b=35, c=37', 'a=13, b=84, c=85', 'a=14, b=48, c=50', 'a=15, b=8, c=17', 'a=15, b=20, c=25', 'a=15, b=36, c=39', 'a=16, b=12, c=20', 'a=16, b=30, c=34', 'a=16, b=63, c=65', 'a=18, b=24, c=30', 'a=18, b=80, c=82', 'a=20, b=15, c=25', 'a=20, b=21, c=29', 'a=20, b=48, c=52', 'a=21, b=20, c=29', 'a=21, b=28, c=35', 'a=21, b=72, c=75', 'a=24, b=7, c=25', 'a=24, b=10, c=26', 'a=24, b=18, c=30', 'a=24, b=32, c=40', 'a=24, b=45, c=51', 'a=24, b=70, c=74', 'a=25, b=60, c=65', 'a=27, b=36, c=45', 'a=28, b=21, c=35', 'a=28, b=45, c=53', 'a=30, b=16, c=34', 'a=30, b=40, c=50', 'a=30, b=72, c=78', 'a=32, b=24, c=40', 'a=32, b=60, c=68', 'a=33, b=44, c=55', 'a=33, b=56, c=65', 'a=35, b=12, c=37', 'a=35, b=84, c=91', 'a=36, b=15, c=39', 'a=36, b=27, c=45', 'a=36, b=48, c=60', 'a=36, b=77, c=85', 'a=39, b=52, c=65', 'a=39, b=80, c=89', 'a=40, b=9, c=41', 'a=40, b=30, c=50', 'a=40, b=42, c=58', 'a=40, b=75, c=85', 'a=42, b=40, c=58', 'a=42, b=56, c=70', 'a=44, b=33, c=55', 'a=45, b=24, c=51', 'a=45, b=28, c=53', 'a=45, b=60, c=75', 'a=48, b=14, c=50', 'a=48, b=20, c=52', 'a=48, b=36, c=60', 'a=48, b=55, c=73', 'a=48, b=64, c=80', 'a=51, b=68, c=85', 'a=52, b=39, c=65', 'a=54, b=72, c=90', 'a=55, b=48, c=73', 'a=56, b=33, c=65', 'a=56, b=42, c=70', 'a=57, b=76, c=95', 'a=60, b=11, c=61', 'a=60, b=25, c=65', 'a=60, b=32, c=68', 'a=60, b=45, c=75', 'a=60, b=63, c=87', 'a=63, b=16, c=65', 'a=63, b=60, c=87', 'a=64, b=48, c=80', 'a=65, b=72, c=97', 'a=68, b=51, c=85', 'a=70, b=24, c=74', 'a=72, b=21, c=75', 'a=72, b=30, c=78', 'a=72, b=54, c=90', 'a=72, b=65, c=97', 'a=75, b=40, c=85', 'a=76, b=57, c=95', 'a=77, b=36, c=85', 'a=80, b=18, c=82', 'a=80, b=39, c=89', 'a=84, b=13, c=85', 'a=84, b=35, c=91']\n"
     ]
    }
   ],
   "source": [
    "import math\n",
    "tup=list()\n",
    "for a in range(1,100):\n",
    "    for b in range(1,100):\n",
    "        c2=a**2+b**2\n",
    "        c=math.sqrt(c2)\n",
    "        if c%1==0 and c<100:\n",
    "            tup+=[\"a={}, b={}, c={}\".format(a,b,int(c))]\n",
    "\n",
    "print(tup)"
   ]
  },
  {
   "cell_type": "markdown",
   "metadata": {},
   "source": [
    "9\\. Normalization\n",
    "\n",
    "Write a function that takes a tuple of numbers and returns it with the entries normalized to one"
   ]
  },
  {
   "cell_type": "code",
   "execution_count": 1,
   "metadata": {},
   "outputs": [
    {
     "name": "stdout",
     "output_type": "stream",
     "text": [
      "tupla: 5, 9, 7\n",
      "[0.23809523809523808, 0.42857142857142855, 0.3333333333333333]\n"
     ]
    }
   ],
   "source": [
    "a=[int(x) for x in input(\"tupla: \").split(',')]\n",
    "b=int()\n",
    "for i in range(0,len(a)):\n",
    "    b+=a[i]\n",
    "c=[x/b for x in a]\n",
    "print(c)"
   ]
  },
  {
   "cell_type": "code",
   "execution_count": null,
   "metadata": {},
   "outputs": [],
   "source": []
  }
 ],
 "metadata": {
  "kernelspec": {
   "display_name": "Python 3",
   "language": "python",
   "name": "python3"
  },
  "language_info": {
   "codemirror_mode": {
    "name": "ipython",
    "version": 3
   },
   "file_extension": ".py",
   "mimetype": "text/x-python",
   "name": "python",
   "nbconvert_exporter": "python",
   "pygments_lexer": "ipython3",
   "version": "3.8.8"
  }
 },
 "nbformat": 4,
 "nbformat_minor": 2
}
