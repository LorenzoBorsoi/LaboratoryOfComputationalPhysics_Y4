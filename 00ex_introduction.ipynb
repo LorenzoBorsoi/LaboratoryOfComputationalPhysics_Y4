{
 "cells": [
  {
   "cell_type": "markdown",
   "metadata": {},
   "source": [
    "1. The MickeyMouse problem\n",
    "\n",
    "a) Write a program that prints the numbers from 1 to 100. But for multiples of three print Mickey instead of the number and for the multiples of five print Mouse. For numbers which are multiples of both three and five print MickeyMouse\n",
    "\n",
    "b) Put the result in a tuple and substitute Mickey with Donald and Mouse with Duck"
   ]
  },
  {
   "cell_type": "code",
   "execution_count": 45,
   "metadata": {},
   "outputs": [
    {
     "name": "stdout",
     "output_type": "stream",
     "text": [
      "[1, 2, 'Mickey', 4, 'Mouse', 'Mickey', 7, 8, 'Mickey', 'Mouse', 11, 'Mickey', 13, 14, 'Mickey Mouse', 16, 17, 'Mickey', 19, 'Mouse', 'Mickey', 22, 23, 'Mickey', 'Mouse', 26, 'Mickey', 28, 29, 'Mickey Mouse', 31, 32, 'Mickey', 34, 'Mouse', 'Mickey', 37, 38, 'Mickey', 'Mouse', 41, 'Mickey', 43, 44, 'Mickey Mouse', 46, 47, 'Mickey', 49, 'Mouse', 'Mickey', 52, 53, 'Mickey', 'Mouse', 56, 'Mickey', 58, 59, 'Mickey Mouse', 61, 62, 'Mickey', 64, 'Mouse', 'Mickey', 67, 68, 'Mickey', 'Mouse', 71, 'Mickey', 73, 74, 'Mickey Mouse', 76, 77, 'Mickey', 79, 'Mouse', 'Mickey', 82, 83, 'Mickey', 'Mouse', 86, 'Mickey', 88, 89, 'Mickey Mouse', 91, 92, 'Mickey', 94, 'Mouse', 'Mickey', 97, 98, 'Mickey', 'Mouse']\n",
      "-------------------------------------------------------------------------------------------------------------------\n",
      "[1, 2, 'Donald', 4, 'Duck', 'Donald', 7, 8, 'Donald', 'Duck', 11, 'Donald', 13, 14, 'Donald Duck', 16, 17, 'Donald', 19, 'Duck', 'Donald', 22, 23, 'Donald', 'Duck', 26, 'Donald', 28, 29, 'Donald Duck', 31, 32, 'Donald', 34, 'Duck', 'Donald', 37, 38, 'Donald', 'Duck', 41, 'Donald', 43, 44, 'Donald Duck', 46, 47, 'Donald', 49, 'Duck', 'Donald', 52, 53, 'Donald', 'Duck', 56, 'Donald', 58, 59, 'Donald Duck', 61, 62, 'Donald', 64, 'Duck', 'Donald', 67, 68, 'Donald', 'Duck', 71, 'Donald', 73, 74, 'Donald Duck', 76, 77, 'Donald', 79, 'Duck', 'Donald', 82, 83, 'Donald', 'Duck', 86, 'Donald', 88, 89, 'Donald Duck', 91, 92, 'Donald', 94, 'Duck', 'Donald', 97, 98, 'Donald', 'Duck']\n"
     ]
    }
   ],
   "source": [
    "#part a\n",
    "def MickeyMouse(a):\n",
    "        if a % 3 == 0 and a % 5 == 0:\n",
    "            return \"Mickey Mouse\"\n",
    "        elif a % 3 == 0:\n",
    "            return \"Mickey\"\n",
    "        elif a % 5 == 0:\n",
    "            return \"Mouse\"\n",
    "        else: \n",
    "            return a     \n",
    "result1=[MickeyMouse(a) for a in range(1,101)] \n",
    "print(result1)\n",
    "print(\"-------------------------------------------------------------------------------------------------------------------\")\n",
    "def DonaldDuck(i):\n",
    "    if i == \"Mickey Mouse\":\n",
    "        return \"Donald Duck\"\n",
    "    elif i == \"Mickey\":\n",
    "        return \"Donald\"\n",
    "    elif i == \"Mouse\":\n",
    "        return \"Duck\"\n",
    "    else:\n",
    "        return i\n",
    "result2=[DonaldDuck(i) for i in result1]\n",
    "print(result2)"
   ]
  },
  {
   "cell_type": "code",
   "execution_count": null,
   "metadata": {},
   "outputs": [],
   "source": []
  },
  {
   "cell_type": "markdown",
   "metadata": {},
   "source": [
    "2\\. The swap function\n",
    "\n",
    "Write a function that swap the values of two input variables x and y (whatever the type). Try to do that also without a temporary variable"
   ]
  },
  {
   "cell_type": "code",
   "execution_count": 18,
   "metadata": {},
   "outputs": [
    {
     "name": "stdout",
     "output_type": "stream",
     "text": [
      "2 5\n",
      "(5, 2)\n"
     ]
    }
   ],
   "source": [
    "def swap(a,b): return b,a\n",
    "a,b=2,5\n",
    "print(a,b)\n",
    "print(swap(a,b))"
   ]
  },
  {
   "cell_type": "markdown",
   "metadata": {},
   "source": [
    "3\\. Computing the distance\n",
    "\n",
    "Write a function that calculates and returns the euclidean distance between two points *u* and *v*, where *u* and *v* are both 2-tuples *(x,y)*. For example, if *u=(3,0)* and *v=(0,4)*, the function should return 5"
   ]
  },
  {
   "cell_type": "code",
   "execution_count": 20,
   "metadata": {},
   "outputs": [
    {
     "name": "stdout",
     "output_type": "stream",
     "text": [
      "5.0\n",
      "<class 'float'>\n"
     ]
    }
   ],
   "source": [
    "def dist(a,b): return ((a[0]-b[0])**2 + (a[1]-b[1])**2 )**(0.5)\n",
    "u=(3,0)\n",
    "v=(0,4)\n",
    "print(dist(u,v))\n",
    "print(type(dist(u,v)))"
   ]
  },
  {
   "cell_type": "markdown",
   "metadata": {},
   "source": [
    "4\\. Counting letters\n",
    "\n",
    "Write a program to calculate the number of times each character occurs in a given string *s*. Ignore differneces in capitalization"
   ]
  },
  {
   "cell_type": "code",
   "execution_count": 21,
   "metadata": {},
   "outputs": [
    {
     "name": "stdout",
     "output_type": "stream",
     "text": [
      "{'w': 2, 'r': 17, 'i': 14, 't': 19, 'e': 22, ' ': 41, 'a': 7, 'p': 8, 'o': 13, 'g': 1, 'm': 12, 'h': 9, 'n': 10, 's': 9, 'u': 9, 'b': 5, 'f': 10, '1': 2, '0': 2, '.': 2, 'l': 6, 'c': 3, 'k': 2, 'y': 2, 'd': 3, 'v': 2}\n"
     ]
    }
   ],
   "source": [
    "s=\"Write a program that prints the numbers from 1 to 100. \\\n",
    "But for multiples of three print Mickey instead of the number and for the multiples of five print Mouse. \\\n",
    "For numbers which are multiples of both three and five print MickeyMouse\"\n",
    "\n",
    "dizionario={}\n",
    "for x in s.lower():\n",
    "    if x in dizionario: dizionario[x]+=1\n",
    "    else: dizionario[x]=1    \n",
    "print(dizionario)"
   ]
  },
  {
   "cell_type": "markdown",
   "metadata": {},
   "source": [
    "5\\. Isolating the unique\n",
    "\n",
    "Write a function that determines and count the unique numbers in the list *l*"
   ]
  },
  {
   "cell_type": "code",
   "execution_count": 23,
   "metadata": {},
   "outputs": [
    {
     "name": "stdout",
     "output_type": "stream",
     "text": [
      "{1, 3, 5, 8, 9, 10, 16, 18, 19, 20, 24, 30, 31, 33, 34, 36, 37, 39, 41, 42, 45, 47, 50, 51, 53, 54, 55, 56, 57, 58, 63, 64, 66, 70, 72, 74, 75, 79, 81, 82, 84, 85, 86, 87, 88, 89, 90, 91, 92, 94, 95, 96, 98, 99}\n"
     ]
    },
    {
     "data": {
      "text/plain": [
       "54"
      ]
     },
     "execution_count": 23,
     "metadata": {},
     "output_type": "execute_result"
    }
   ],
   "source": [
    "l = [36, 45, 58, 3, 74, 96, 64, 45, 31, 10, 24, 19, 33, 86, 99, 18, 63, 70, 85,\n",
    " 85, 63, 47, 56, 42, 70, 84, 88, 55, 20, 54, 8, 56, 51, 79, 81, 57, 37, 91,\n",
    " 1, 84, 84, 36, 66, 9, 89, 50, 42, 91, 50, 95, 90, 98, 39, 16, 82, 31, 92, 41,\n",
    " 45, 30, 66, 70, 34, 85, 94, 5, 3, 36, 72, 91, 84, 34, 87, 75, 53, 51, 20, 89, 51, 20]\n",
    "\n",
    "k=set(l) #i set non printano i doppioni\n",
    "print(k)\n",
    "len(k) #lunghezza dell'oggetto che si mangia"
   ]
  },
  {
   "cell_type": "markdown",
   "metadata": {},
   "source": [
    "6\\. Combination of functions\n",
    "\n",
    "Write two functions - one that returns the square of a number, and one that returns the cube. Now write a third function that returns the number raised to the 6th power using the two previous functions."
   ]
  },
  {
   "cell_type": "code",
   "execution_count": 29,
   "metadata": {},
   "outputs": [
    {
     "name": "stdout",
     "output_type": "stream",
     "text": [
      "4\n",
      "8\n",
      "64\n"
     ]
    }
   ],
   "source": [
    "def square(a): return a**2\n",
    "def cube(a): return a**3\n",
    "def pow_six(a): return square(a)*cube(a)*2\n",
    "\n",
    "x=2\n",
    "\n",
    "print(square(x))\n",
    "print(cube(x))\n",
    "print(pow_six(x))"
   ]
  },
  {
   "cell_type": "markdown",
   "metadata": {},
   "source": [
    "7\\. Cubes\n",
    "\n",
    "Create a list of the cubes of x for x in *[0, 10]* using:\n",
    "\n",
    "a) a for loop\n",
    "\n",
    "b) a list comprehension"
   ]
  },
  {
   "cell_type": "code",
   "execution_count": 38,
   "metadata": {},
   "outputs": [
    {
     "name": "stdout",
     "output_type": "stream",
     "text": [
      "[0, 1, 8, 27, 64, 125, 216, 343, 512, 729]\n",
      "[0, 1, 8, 27, 64, 125, 216, 343, 512, 729]\n"
     ]
    }
   ],
   "source": [
    "cubes1=[]\n",
    "for i in range (0,10):\n",
    "    cubes1.append(i**3)    \n",
    "print(cubes1)\n",
    "\n",
    "def cube(a): return a**3\n",
    "cubes2=[cube(x) for x in range(0,10)]\n",
    "print(cubes2)\n",
    "\n"
   ]
  },
  {
   "cell_type": "markdown",
   "metadata": {},
   "source": [
    "8\\. Nested list comprehension\n",
    "\n",
    "A Pythagorean triple is an integer solution to the Pythagorean theorem $a^2+b^2=c^2$. The first Pythagorean triple is (3,4,5). Find and put in a tuple all unique Pythagorean triples for the positive integers a, b and c less than 100."
   ]
  },
  {
   "cell_type": "code",
   "execution_count": 44,
   "metadata": {},
   "outputs": [
    {
     "name": "stdout",
     "output_type": "stream",
     "text": [
      "3 4 5\n",
      "6 8 10\n",
      "5 12 13\n",
      "9 12 15\n",
      "8 15 17\n",
      "12 16 20\n",
      "15 20 25\n",
      "20 21 29\n",
      "7 24 25\n",
      "10 24 26\n",
      "18 24 30\n",
      "21 28 35\n",
      "16 30 34\n",
      "24 32 40\n",
      "12 35 37\n",
      "15 36 39\n",
      "27 36 45\n",
      "9 40 41\n",
      "30 40 50\n",
      "40 42 58\n",
      "33 44 55\n",
      "24 45 51\n",
      "28 45 53\n",
      "14 48 50\n",
      "20 48 52\n",
      "36 48 60\n",
      "39 52 65\n",
      "48 55 73\n",
      "33 56 65\n",
      "42 56 70\n",
      "11 60 61\n",
      "25 60 65\n",
      "32 60 68\n",
      "45 60 75\n",
      "16 63 65\n",
      "60 63 87\n",
      "48 64 80\n",
      "51 68 85\n",
      "24 70 74\n",
      "21 72 75\n",
      "30 72 78\n",
      "54 72 90\n",
      "65 72 97\n",
      "40 75 85\n",
      "57 76 95\n",
      "36 77 85\n",
      "18 80 82\n",
      "39 80 89\n",
      "60 80 100\n",
      "13 84 85\n",
      "35 84 91\n",
      "63 84 105\n",
      "80 84 116\n",
      "66 88 110\n",
      "48 90 102\n",
      "56 90 106\n",
      "60 91 109\n",
      "69 92 115\n",
      "28 96 100\n",
      "40 96 104\n",
      "72 96 120\n",
      "20 99 101\n",
      "[None]\n"
     ]
    }
   ],
   "source": [
    "def pythagorean(i):\n",
    "    for b in range (i):\n",
    "        for a in range (1,b):\n",
    "            c=(a**2 + b**2)**0.5\n",
    "            if c%1==0:\n",
    "                print(a,b,int(c))\n",
    "triplets=[pythagorean(100)]\n",
    "print(triplets)"
   ]
  },
  {
   "cell_type": "markdown",
   "metadata": {},
   "source": [
    "9\\. Normalization\n",
    "\n",
    "Write a function that takes a tuple of numbers and returns it with the entries normalized to one"
   ]
  },
  {
   "cell_type": "code",
   "execution_count": 48,
   "metadata": {},
   "outputs": [
    {
     "name": "stdout",
     "output_type": "stream",
     "text": [
      "[2, 45, 12, 7, 26]\n",
      "[1, 1, 1, 1, 1]\n"
     ]
    }
   ],
   "source": [
    "def normalization(i): return int(i/i)\n",
    "a=[2,45,12,7,26]\n",
    "b=[normalization(i) for i in a]\n",
    "print(a)\n",
    "print(b)"
   ]
  },
  {
   "cell_type": "code",
   "execution_count": null,
   "metadata": {},
   "outputs": [],
   "source": []
  }
 ],
 "metadata": {
  "kernelspec": {
   "display_name": "Python 3",
   "language": "python",
   "name": "python3"
  },
  "language_info": {
   "codemirror_mode": {
    "name": "ipython",
    "version": 3
   },
   "file_extension": ".py",
   "mimetype": "text/x-python",
   "name": "python",
   "nbconvert_exporter": "python",
   "pygments_lexer": "ipython3",
   "version": "3.8.8"
  }
 },
 "nbformat": 4,
 "nbformat_minor": 2
}
