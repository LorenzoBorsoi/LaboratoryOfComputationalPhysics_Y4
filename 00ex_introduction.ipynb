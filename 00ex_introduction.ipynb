{
 "cells": [
  {
   "cell_type": "markdown",
   "metadata": {},
   "source": [
    "1\\. The MickeyMouse problem\n",
    "\n",
    "a) Write a program that prints the numbers from 1 to 100. But for multiples of three print Mickey instead of the number and for the multiples of five print Mouse. For numbers which are multiples of both three and five print MickeyMouse\n",
    "\n",
    "b) Put the result in a tuple and substitute Mickey with Donald and Mouse with Duck"
   ]
  },
  {
   "cell_type": "code",
   "execution_count": null,
   "metadata": {},
   "outputs": [],
   "source": [
    "# a)\n",
    "\n",
    "a_list = []\n",
    "\n",
    "for i in range(1,101):\n",
    "    if (i % 3 == 0 and i % 5 == 0):\n",
    "        a_list.append(\"MickeyMouse\")\n",
    "    elif (i % 3 == 0):\n",
    "        a_list.append(\"Mickey\")\n",
    "    elif (i % 5 == 0):\n",
    "        a_list.append(\"Mouse\")\n",
    "    else:\n",
    "        a_list.append(i)\n",
    "        \n",
    "print(a_list, \"\\n\")\n",
    "        \n",
    "# b)\n",
    "\n",
    "for i in range(len(a_list)):\n",
    "    if (a_list[i] == \"MickeyMouse\"):\n",
    "        a_list[i] = \"DonaldDuck\"\n",
    "    elif (a_list[i] == \"Mickey\"):\n",
    "        a_list[i] = \"Donald\"\n",
    "    elif (a_list[i] == \"Mouse\"):\n",
    "        a_list[i] = \"Duck\"\n",
    "    else:\n",
    "        pass\n",
    "    \n",
    "a_tuple = tuple(a_list)\n",
    "    \n",
    "print(a_tuple)\n"
   ]
  },
  {
   "cell_type": "markdown",
   "metadata": {},
   "source": [
    "2\\. The swap function\n",
    "\n",
    "Write a function that swap the values of two input variables x and y (whatever the type). Try to do that also without a temporary variable"
   ]
  },
  {
   "cell_type": "code",
   "execution_count": null,
   "metadata": {},
   "outputs": [],
   "source": [
    "x = \"a\"\n",
    "y = \"b\"\n",
    "\n",
    "def swap_function(x, y):\n",
    "    return y, x\n",
    "\n",
    "x, y = swap_function(x, y)\n",
    "\n",
    "print(\"x =\", x)\n",
    "print(\"y =\", y)\n"
   ]
  },
  {
   "cell_type": "markdown",
   "metadata": {},
   "source": [
    "3\\. Computing the distance\n",
    "\n",
    "Write a function that calculates and returns the euclidean distance between two points *u* and *v*, where *u* and *v* are both 2-tuples *(x,y)*. For example, if *u=(3,0)* and *v=(0,4)*, the function should return 5"
   ]
  },
  {
   "cell_type": "code",
   "execution_count": null,
   "metadata": {},
   "outputs": [],
   "source": [
    "import math\n",
    "\n",
    "u = (3,0)\n",
    "v = (0,4)\n",
    "\n",
    "def distance(u, v):\n",
    "    d = math.sqrt((u[0]+v[0])**2+(u[1]+v[1])**2)\n",
    "    return d\n",
    "\n",
    "d = distance(u, v)\n",
    "\n",
    "print(d)\n"
   ]
  },
  {
   "cell_type": "markdown",
   "metadata": {},
   "source": [
    "4\\. Counting letters\n",
    "\n",
    "Write a program to calculate the number of times each character occurs in a given string *s*. Ignore differences in capitalization"
   ]
  },
  {
   "cell_type": "code",
   "execution_count": null,
   "metadata": {},
   "outputs": [],
   "source": [
    "s = \"Write a program that prints the numbers from 1 to 100. \\\n",
    "But for multiples of three print Mickey instead of the number and for the multiples of five print Mouse. \\\n",
    "For numbers which are multiples of both three and five print MickeyMouse\"\n",
    "\n",
    "a_string = s.lower()\n",
    "\n",
    "a_dict = {}\n",
    "\n",
    "for char in a_string:\n",
    "    if char in a_dict:\n",
    "        a_dict[char] += 1\n",
    "    else:\n",
    "        a_dict[char] = 1\n",
    "    \n",
    "print(sorted(a_dict.items()))\n"
   ]
  },
  {
   "cell_type": "markdown",
   "metadata": {},
   "source": [
    "5\\. Isolating the unique\n",
    "\n",
    "Write a function that determines and count the unique numbers in the list *l*"
   ]
  },
  {
   "cell_type": "code",
   "execution_count": null,
   "metadata": {},
   "outputs": [],
   "source": [
    "l = [36, 45, 58, 3, 74, 96, 64, 45, 31, 10, 24, 19, 33, 86, 99, 18, 63, 70, 85,\n",
    " 85, 63, 47, 56, 42, 70, 84, 88, 55, 20, 54, 8, 56, 51, 79, 81, 57, 37, 91,\n",
    " 1, 84, 84, 36, 66, 9, 89, 50, 42, 91, 50, 95, 90, 98, 39, 16, 82, 31, 92, 41,\n",
    " 45, 30, 66, 70, 34, 85, 94, 5, 3, 36, 72, 91, 84, 34, 87, 75, 53, 51, 20, 89, 51, 20]\n",
    "\n",
    "def unique_numbers(l):\n",
    "    \n",
    "    a_set = set(l)\n",
    "    print(\"there are\", len(a_set), \"unique numbers:\", a_set)\n",
    "    \n",
    "unique_numbers(l)\n"
   ]
  },
  {
   "cell_type": "markdown",
   "metadata": {},
   "source": [
    "6\\. Combination of functions\n",
    "\n",
    "Write two functions - one that returns the square of a number, and one that returns the cube. Now write a third function that returns the number raised to the 6th power using the two previous functions."
   ]
  },
  {
   "cell_type": "code",
   "execution_count": null,
   "metadata": {},
   "outputs": [],
   "source": [
    "def power2(x):\n",
    "    return x**2\n",
    "\n",
    "def power3(x):\n",
    "    return x**3\n",
    "\n",
    "def power6(x):\n",
    "    return power3(power2(x))\n",
    "\n",
    "print(power6(2))\n"
   ]
  },
  {
   "cell_type": "markdown",
   "metadata": {},
   "source": [
    "7\\. Cubes\n",
    "\n",
    "Create a list of the cubes of x for x in *[0, 10]* using:\n",
    "\n",
    "a) a for loop\n",
    "\n",
    "b) a list comprehension"
   ]
  },
  {
   "cell_type": "code",
   "execution_count": null,
   "metadata": {},
   "outputs": [],
   "source": [
    "# a)\n",
    "\n",
    "a_list = []\n",
    "\n",
    "for i in range(11):\n",
    "    a_list.append(i**3)\n",
    "\n",
    "print(a_list)\n",
    "\n",
    "# b)\n",
    "\n",
    "b_list = [i**3 for i in range(11)]\n",
    "\n",
    "print(b_list)\n",
    "    "
   ]
  },
  {
   "cell_type": "markdown",
   "metadata": {},
   "source": [
    "8\\. Nested list comprehension\n",
    "\n",
    "A Pythagorean triple is an integer solution to the Pythagorean theorem $a^2+b^2=c^2$. The first Pythagorean triple is (3,4,5). Find and put in a tuple all unique Pythagorean triples for the positive integers a, b and c less than 100."
   ]
  },
  {
   "cell_type": "code",
   "execution_count": null,
   "metadata": {},
   "outputs": [],
   "source": [
    "# version 1\n",
    "import time\n",
    "\n",
    "start_time = time.time()\n",
    "\n",
    "triples = [(x,y,z) for x in range(1,100) for y in range(x+1,100) for z in range(y+1,100) if (x**2 + y**2) == z**2 ]\n",
    "\n",
    "print(triples, \"\\n\")\n",
    "\n",
    "print(\"%.4f seconds\" % (time.time() - start_time))"
   ]
  },
  {
   "cell_type": "code",
   "execution_count": null,
   "metadata": {},
   "outputs": [],
   "source": [
    "# version 2: it's about 10 times faster than version 1\n",
    "import math\n",
    "import time\n",
    "\n",
    "start_time = time.time()\n",
    "\n",
    "triples = [(x,y,int(math.sqrt(x**2 + y**2))) for x in range(1,100) for y in range(x+1,100) if (math.sqrt(x**2 + y**2)).is_integer() and math.sqrt(x**2 + y**2) < 100 ]\n",
    "\n",
    "print(triples, \"\\n\")\n",
    "\n",
    "print(\"%.4f seconds\" % (time.time() - start_time))"
   ]
  },
  {
   "cell_type": "markdown",
   "metadata": {},
   "source": [
    "9\\. Normalization\n",
    "\n",
    "Write a function that takes a tuple of numbers and returns it with the entries normalized to one"
   ]
  },
  {
   "cell_type": "code",
   "execution_count": null,
   "metadata": {},
   "outputs": [],
   "source": [
    "v = (4,12)\n",
    "\n",
    "def normalization(v):\n",
    "    \n",
    "    v_norm = [(i/sum(v)) for i in v]\n",
    "               \n",
    "    return tuple(v_norm)\n",
    "    \n",
    "v_norm = normalization(v)\n",
    "\n",
    "print(v_norm)\n",
    "        "
   ]
  }
 ],
 "metadata": {
  "kernelspec": {
   "display_name": "Python 3 (ipykernel)",
   "language": "python",
   "name": "python3"
  },
  "language_info": {
   "codemirror_mode": {
    "name": "ipython",
    "version": 3
   },
   "file_extension": ".py",
   "mimetype": "text/x-python",
   "name": "python",
   "nbconvert_exporter": "python",
   "pygments_lexer": "ipython3",
   "version": "3.8.8"
  }
 },
 "nbformat": 4,
 "nbformat_minor": 2
}
