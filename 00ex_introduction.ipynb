{
 "cells": [
  {
   "cell_type": "markdown",
   "metadata": {},
   "source": [
    "1. The MickeyMouse problem\n",
    "\n",
    "a) Write a program that prints the numbers from 1 to 100. But for multiples of three print Mickey instead of the number and for the multiples of five print Mouse. For numbers which are multiples of both three and five print MickeyMouse\n",
    "\n",
    "b) Put the result in a tuple and substitute Mickey with Donald and Mouse with Duck"
   ]
  },
  {
   "cell_type": "code",
   "execution_count": null,
   "metadata": {},
   "outputs": [],
   "source": [
    "num=[]\n",
    "for i in range (1,101):\n",
    "    if(i%3==0 and i%5==0):\n",
    "        num.append(\"MickeyMouse\")\n",
    "    elif(i%3==0):\n",
    "        num.append(\"Mickey\")\n",
    "    elif(i%5==0):\n",
    "        num.append(\"Mouse\")\n",
    "    else:\n",
    "        num.append(i)\n",
    "\n",
    "j=0\n",
    "while(j<len(num)):\n",
    "    if(num[j]==\"Mickey\"):\n",
    "        num[j]=\"Donald\"\n",
    "    elif(num[j]==\"Mouse\"):\n",
    "        num[j]=\"Duck\"\n",
    "    j+=1\n",
    "\n",
    "tupla=()\n",
    "k=0\n",
    "while(k<len(num)):\n",
    "    tupla= tupla + (num[k],)\n",
    "    k+=1\n",
    "print(tupla)"
   ]
  },
  {
   "cell_type": "markdown",
   "metadata": {},
   "source": [
    "2\\. The swap function\n",
    "\n",
    "Write a function that swap the values of two input variables x and y (whatever the type). Try to do that also without a temporary variable"
   ]
  },
  {
   "cell_type": "code",
   "execution_count": 1,
   "metadata": {},
   "outputs": [
    {
     "name": "stdout",
     "output_type": "stream",
     "text": [
      "100 ciao\n"
     ]
    }
   ],
   "source": [
    "def swap(x,y):\n",
    "    x,y=y,x\n",
    "    return print(x,y)\n",
    "\n",
    "swap(\"ciao\",100)"
   ]
  },
  {
   "cell_type": "markdown",
   "metadata": {},
   "source": [
    "3\\. Computing the distance\n",
    "\n",
    "Write a function that calculates and returns the euclidean distance between two points *u* and *v*, where *u* and *v* are both 2-tuples *(x,y)*. For example, if *u=(3,0)* and *v=(0,4)*, the function should return 5"
   ]
  },
  {
   "cell_type": "code",
   "execution_count": 4,
   "metadata": {},
   "outputs": [
    {
     "name": "stdout",
     "output_type": "stream",
     "text": [
      "5.0\n"
     ]
    }
   ],
   "source": [
    "from numpy import sqrt\n",
    "\n",
    "def distance(u,v):\n",
    "    return sqrt((u[0] -v[0])**2 + (u[1]-v[1])**2)\n",
    "u=(3,0)\n",
    "v=(0,4)\n",
    "print(distance(u,v))"
   ]
  },
  {
   "cell_type": "markdown",
   "metadata": {},
   "source": [
    "4\\. Counting letters\n",
    "\n",
    "Write a program to calculate the number of times each character occurs in a given string *s*. Ignore differneces in capitalization"
   ]
  },
  {
   "cell_type": "code",
   "execution_count": 8,
   "metadata": {},
   "outputs": [
    {
     "name": "stdout",
     "output_type": "stream",
     "text": [
      "{'a': 7, 'b': 5, 'c': 3, 'd': 3, 'e': 22, 'f': 10, 'g': 1, 'h': 9, 'i': 14, 'k': 2, 'l': 6, 'm': 12, 'n': 10, 'o': 13, 'p': 8, 'r': 17, 's': 9, 't': 19, 'u': 9, 'v': 2, 'w': 2, 'y': 2}\n"
     ]
    }
   ],
   "source": [
    "s=\"Write a program that prints the numbers from 1 to 100. \\\n",
    "But for multiples of three print Mickey instead of the number and for the multiples of five print Mouse. \\\n",
    "For numbers which are multiples of both three and five print MickeyMouse\"\n",
    "\n",
    "import string\n",
    "alph_string = string.ascii_lowercase\n",
    "alph=list(alph_string)\n",
    "\n",
    "def count(s,alphabet): \n",
    "    i=j=0\n",
    "    s = s.lower()\n",
    "    while(i<len(s)):\n",
    "        if(s[i]==alphabet):\n",
    "            j+=1\n",
    "        i+=1\n",
    "    return j\n",
    "k=0\n",
    "c={}\n",
    "while(k<len(alph)):\n",
    "    a = count(s,alph[k])\n",
    "    if a!=0: c[alph[k]] = a\n",
    "    k+=1\n",
    "print(c)"
   ]
  },
  {
   "cell_type": "markdown",
   "metadata": {},
   "source": [
    "5\\. Isolating the unique\n",
    "\n",
    "Write a function that determines and count the unique numbers in the list *l*"
   ]
  },
  {
   "cell_type": "code",
   "execution_count": 13,
   "metadata": {},
   "outputs": [
    {
     "name": "stdout",
     "output_type": "stream",
     "text": [
      "[1, 5, 8, 9, 10, 16, 18, 19, 24, 30, 33, 37, 39, 41, 47, 53, 54, 55, 57, 58, 64, 72, 74, 75, 79, 81, 82, 86, 87, 88, 90, 92, 94, 95, 96, 98, 99]\n"
     ]
    }
   ],
   "source": [
    "l = [36, 45, 58, 3, 74, 96, 64, 45, 31, 10, 24, 19, 33, 86, 99, 18, 63, 70, 85,\n",
    " 85, 63, 47, 56, 42, 70, 84, 88, 55, 20, 54, 8, 56, 51, 79, 81, 57, 37, 91,\n",
    " 1, 84, 84, 36, 66, 9, 89, 50, 42, 91, 50, 95, 90, 98, 39, 16, 82, 31, 92, 41,\n",
    " 45, 30, 66, 70, 34, 85, 94, 5, 3, 36, 72, 91, 84, 34, 87, 75, 53, 51, 20, 89, 51, 20]\n",
    "\n",
    "def unique(n):\n",
    "    flag = False\n",
    "    u = []\n",
    "    for i in range(0,len(n)):\n",
    "        flag=False\n",
    "\n",
    "        for j in range(0,len(n)):\n",
    "            if(n[i]==n[j] and i!=j):            \n",
    "                flag=True\n",
    "        \n",
    "        if(flag==False):\n",
    "            #print(\"%d è unico\" %n[i])\n",
    "            u.append(n[i])\n",
    "    u.sort()\n",
    "    return u\n",
    "print(unique(l))\n"
   ]
  },
  {
   "cell_type": "markdown",
   "metadata": {},
   "source": [
    "6\\. Combination of functions\n",
    "\n",
    "Write two functions - one that returns the square of a number, and one that returns the cube. Now write a third function that returns the number raised to the 6th power using the two previous functions."
   ]
  },
  {
   "cell_type": "code",
   "execution_count": null,
   "metadata": {},
   "outputs": [],
   "source": [
    "def sqrd(x):\n",
    "    return x**2\n",
    "def thrd(x):\n",
    "    return x**3\n",
    "def six(x):\n",
    "    return x*sqrd(x)*thrd(x)\n",
    "x=2\n",
    "print(six(x))"
   ]
  },
  {
   "cell_type": "markdown",
   "metadata": {},
   "source": [
    "7\\. Cubes\n",
    "\n",
    "Create a list of the cubes of x for x in *[0, 10]* using:\n",
    "\n",
    "a) a for loop\n",
    "\n",
    "b) a list comprehension"
   ]
  },
  {
   "cell_type": "code",
   "execution_count": 14,
   "metadata": {},
   "outputs": [
    {
     "name": "stdout",
     "output_type": "stream",
     "text": [
      "[0, 1, 8, 27, 64, 125, 216, 343, 512, 729]\n",
      "[0, 1, 8, 27, 64, 125, 216, 343, 512, 729]\n"
     ]
    }
   ],
   "source": [
    "#for loop\n",
    "c1=[]\n",
    "for i in range(10):\n",
    "    c1.append(i**3)\n",
    "print(c1)\n",
    "\n",
    "#list comprehension\n",
    "c2=[x**3 for x in range(10)]\n",
    "print(c2)"
   ]
  },
  {
   "cell_type": "markdown",
   "metadata": {},
   "source": [
    "8\\. Nested list comprehension\n",
    "\n",
    "A Pythagorean triple is an integer solution to the Pythagorean theorem $a^2+b^2=c^2$. The first Pythagorean triple is (3,4,5). Find and put in a tuple all unique Pythagorean triples for the positive integers a, b and c less than 100."
   ]
  },
  {
   "cell_type": "code",
   "execution_count": 15,
   "metadata": {},
   "outputs": [
    {
     "name": "stdout",
     "output_type": "stream",
     "text": [
      "[(3, 4, 5), (5, 12, 13), (7, 24, 25), (8, 15, 17), (9, 40, 41), (11, 60, 61), (12, 35, 37), (13, 84, 85), (16, 63, 65), (20, 21, 29), (28, 45, 53), (33, 56, 65), (36, 77, 85), (39, 80, 89), (48, 55, 73), (65, 72, 97)]\n",
      "16\n"
     ]
    }
   ],
   "source": [
    "a = [i for i in range(1,100)]\n",
    "\n",
    "terne=[(i,j,k) for i in a for j in a for k in a if(i<j<k and i**2 + j**2 == k**2)]\n",
    "terne2=[]\n",
    "\n",
    "for t in terne:\n",
    "    div=2\n",
    "    flag=True\n",
    "\n",
    "    while(flag and div<t[0]/2):\n",
    "        if(t[0]%div==0 and t[1]%div==0):\n",
    "            terne2.append(t)\n",
    "            flag=False\n",
    "        div+=1\n",
    "\n",
    "terneprime=[i for i in terne if i not in terne2]\n",
    "\n",
    "print(terneprime)\n",
    "print(len(terneprime))"
   ]
  },
  {
   "cell_type": "markdown",
   "metadata": {},
   "source": [
    "9\\. Normalization\n",
    "\n",
    "Write a function that takes a tuple of numbers and returns it with the entries normalized to one"
   ]
  },
  {
   "cell_type": "code",
   "execution_count": null,
   "metadata": {},
   "outputs": [],
   "source": [
    "#I developed 2 tipes of normalization because I didn't know what norm the ex referred to\n",
    "import numpy as np\n",
    "tupla = (1,-1,-5,-8)\n",
    "\"\"\"norma 1\"\"\"\n",
    "def norm(t):\n",
    "    n=0\n",
    "    for i in t:\n",
    "        n += np.abs(i)\n",
    "    t = t/n\n",
    "    return t \n",
    "\n",
    "\"\"\"norma 2\"\"\"\n",
    "def norm2(t):\n",
    "    n=0\n",
    "    for i in t:\n",
    "        n += i**2\n",
    "    t = t / np.sqrt(n)\n",
    "    return t\n",
    "\n",
    "print(norm(tupla))\n",
    "print(norm2(tupla))"
   ]
  }
 ],
 "metadata": {
  "kernelspec": {
   "display_name": "Python 3",
   "language": "python",
   "name": "python3"
  },
  "language_info": {
   "codemirror_mode": {
    "name": "ipython",
    "version": 3
   },
   "file_extension": ".py",
   "mimetype": "text/x-python",
   "name": "python",
   "nbconvert_exporter": "python",
   "pygments_lexer": "ipython3",
   "version": "3.9.7"
  }
 },
 "nbformat": 4,
 "nbformat_minor": 2
}
