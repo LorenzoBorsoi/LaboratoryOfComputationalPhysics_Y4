{
 "cells": [
  {
   "cell_type": "markdown",
   "metadata": {},
   "source": [
    "1. The MickeyMouse problem\n",
    "\n",
    "a) Write a program that prints the numbers from 1 to 100. But for multiples of three print Mickey instead of the number and for the multiples of five print Mouse. For numbers which are multiples of both three and five print MickeyMouse\n",
    "\n",
    "b) Put the result in a tuple and substitute Mickey with Donald and Mouse with Duck"
   ]
  },
  {
   "cell_type": "code",
   "execution_count": 150,
   "metadata": {},
   "outputs": [
    {
     "name": "stdout",
     "output_type": "stream",
     "text": [
      "MickeyMouse\n",
      "1\n",
      "2\n",
      "Mickey\n",
      "4\n",
      "Mouse\n",
      "Mickey\n",
      "7\n",
      "8\n",
      "Mickey\n",
      "Mouse\n",
      "11\n",
      "Mickey\n",
      "13\n",
      "14\n",
      "MickeyMouse\n",
      "16\n",
      "17\n",
      "Mickey\n",
      "19\n",
      "Mouse\n",
      "Mickey\n",
      "22\n",
      "23\n",
      "Mickey\n",
      "Mouse\n",
      "26\n",
      "Mickey\n",
      "28\n",
      "29\n",
      "MickeyMouse\n",
      "31\n",
      "32\n",
      "Mickey\n",
      "34\n",
      "Mouse\n",
      "Mickey\n",
      "37\n",
      "38\n",
      "Mickey\n",
      "Mouse\n",
      "41\n",
      "Mickey\n",
      "43\n",
      "44\n",
      "MickeyMouse\n",
      "46\n",
      "47\n",
      "Mickey\n",
      "49\n",
      "Mouse\n",
      "Mickey\n",
      "52\n",
      "53\n",
      "Mickey\n",
      "Mouse\n",
      "56\n",
      "Mickey\n",
      "58\n",
      "59\n",
      "MickeyMouse\n",
      "61\n",
      "62\n",
      "Mickey\n",
      "64\n",
      "Mouse\n",
      "Mickey\n",
      "67\n",
      "68\n",
      "Mickey\n",
      "Mouse\n",
      "71\n",
      "Mickey\n",
      "73\n",
      "74\n",
      "MickeyMouse\n",
      "76\n",
      "77\n",
      "Mickey\n",
      "79\n",
      "Mouse\n",
      "Mickey\n",
      "82\n",
      "83\n",
      "Mickey\n",
      "Mouse\n",
      "86\n",
      "Mickey\n",
      "88\n",
      "89\n",
      "MickeyMouse\n",
      "91\n",
      "92\n",
      "Mickey\n",
      "94\n",
      "Mouse\n",
      "Mickey\n",
      "97\n",
      "98\n",
      "Mickey\n",
      "Mouse\n"
     ]
    }
   ],
   "source": [
    "#a) print i\n",
    "\n",
    "for i in range(101):\n",
    "    if i % 3 == 0 and i % 5 == 0:\n",
    "         i=\"MickeyMouse\"\n",
    "    elif (i % 3) == 0:\n",
    "        i=\"Mickey\"\n",
    "    elif (i % 5) == 0:\n",
    "        i=\"Mouse\"\n",
    "   \n",
    "    print(i)"
   ]
  },
  {
   "cell_type": "code",
   "execution_count": 151,
   "metadata": {},
   "outputs": [
    {
     "name": "stdout",
     "output_type": "stream",
     "text": [
      "('MickeyMouse', 1, 2, 'Mouse', 4, 'Mickey', 'Mouse', 7, 8, 'Mouse', 'Mickey', 11, 'Mouse', 13, 14, 'MickeyMouse', 16, 17, 'Mouse', 19, 'Mickey', 'Mouse', 22, 23, 'Mouse', 'Mickey', 26, 'Mouse', 28, 29, 'MickeyMouse', 31, 32, 'Mouse', 34, 'Mickey', 'Mouse', 37, 38, 'Mouse', 'Mickey', 41, 'Mouse', 43, 44, 'MickeyMouse', 46, 47, 'Mouse', 49, 'Mickey', 'Mouse', 52, 53, 'Mouse', 'Mickey', 56, 'Mouse', 58, 59, 'MickeyMouse', 61, 62, 'Mouse', 64, 'Mickey', 'Mouse', 67, 68, 'Mouse', 'Mickey', 71, 'Mouse', 73, 74, 'MickeyMouse', 76, 77, 'Mouse', 79, 'Mickey', 'Mouse', 82, 83, 'Mouse', 'Mickey', 86, 'Mouse', 88, 89, 'MickeyMouse', 91, 92, 'Mouse', 94, 'Mickey', 'Mouse', 97, 98, 'Mouse', 'Mickey')\n",
      "('DonaldDuck', 1, 2, 'Duck', 4, 'Donald', 'Duck', 7, 8, 'Duck', 'Donald', 11, 'Duck', 13, 14, 'DonaldDuck', 16, 17, 'Duck', 19, 'Donald', 'Duck', 22, 23, 'Duck', 'Donald', 26, 'Duck', 28, 29, 'DonaldDuck', 31, 32, 'Duck', 34, 'Donald', 'Duck', 37, 38, 'Duck', 'Donald', 41, 'Duck', 43, 44, 'DonaldDuck', 46, 47, 'Duck', 49, 'Donald', 'Duck', 52, 53, 'Duck', 'Donald', 56, 'Duck', 58, 59, 'DonaldDuck', 61, 62, 'Duck', 64, 'Donald', 'Duck', 67, 68, 'Duck', 'Donald', 71, 'Duck', 73, 74, 'DonaldDuck', 76, 77, 'Duck', 79, 'Donald', 'Duck', 82, 83, 'Duck', 'Donald', 86, 'Duck', 88, 89, 'DonaldDuck', 91, 92, 'Duck', 94, 'Donald', 'Duck', 97, 98, 'Duck', 'Donald')\n"
     ]
    }
   ],
   "source": [
    "#b) make a tuple and put the rezult of 1.a in it\n",
    "\n",
    "List= []\n",
    "for i in range(101):\n",
    "    if i%3 == 0 and i%5 == 0:\n",
    "        List.insert(i, \"MickeyMouse\")\n",
    "    elif i%5 == 0:\n",
    "        List.insert(i, \"Mickey\")\n",
    "    elif i%3 == 0:\n",
    "        List.insert(i, \"Mouse\")\n",
    "    else:\n",
    "         List.insert(i, i)\n",
    "\n",
    "Tuple1 = tuple(List)\n",
    "print(Tuple1)\n",
    "\n",
    "#substitution of words\n",
    "\n",
    "for i in range (0, len(List)):\n",
    "    if List[i] == \"Mickey\":\n",
    "        List[i] = \"Donald\"\n",
    "    elif List[i] == \"Mouse\":\n",
    "        List[i] = \"Duck\"\n",
    "    elif List[i] == \"MickeyMouse\":\n",
    "        List[i] = \"DonaldDuck\"\n",
    "        \n",
    "Tuple2 = tuple(List)\n",
    "print(Tuple2)\n"
   ]
  },
  {
   "cell_type": "markdown",
   "metadata": {},
   "source": [
    "2\\. The swap function\n",
    "\n",
    "Write a function that swap the values of two input variables x and y (whatever the type). Try to do that also without a temporary variable"
   ]
  },
  {
   "cell_type": "code",
   "execution_count": 118,
   "metadata": {},
   "outputs": [
    {
     "data": {
      "text/plain": [
       "(3, 2)"
      ]
     },
     "execution_count": 118,
     "metadata": {},
     "output_type": "execute_result"
    }
   ],
   "source": [
    "#write a swap function\n",
    "\n",
    "def Swep_Function(x,y):\n",
    "    return (y,x)\n",
    "Swep_Function(2,3)"
   ]
  },
  {
   "cell_type": "markdown",
   "metadata": {},
   "source": [
    "3\\. Computing the distance\n",
    "\n",
    "Write a function that calculates and returns the euclidean distance between two points *u* and *v*, where *u* and *v* are both 2-tuples *(x,y)*. For example, if *u=(3,0)* and *v=(0,4)*, the function should return 5"
   ]
  },
  {
   "cell_type": "code",
   "execution_count": 148,
   "metadata": {},
   "outputs": [
    {
     "data": {
      "text/plain": [
       "5.0"
      ]
     },
     "execution_count": 148,
     "metadata": {},
     "output_type": "execute_result"
    }
   ],
   "source": [
    "#Computing the euclidean distance and import the library\n",
    "\n",
    "import math\n",
    "\n",
    "def Dist_Func(u,v):\n",
    "    result = math.sqrt(pow(u[0] - v[0],2) + pow(u[1] - v[1],2))\n",
    "    return result\n",
    "u = (3,0)\n",
    "v = (0,4)\n",
    "Dist_Func(u,v)"
   ]
  },
  {
   "cell_type": "markdown",
   "metadata": {},
   "source": [
    "4\\. Counting letters\n",
    "\n",
    "Write a program to calculate the number of times each character occurs in a given string *s*. Ignore differneces in capitalization"
   ]
  },
  {
   "cell_type": "code",
   "execution_count": 185,
   "metadata": {
    "scrolled": true
   },
   "outputs": [
    {
     "name": "stdout",
     "output_type": "stream",
     "text": [
      "a 7\n",
      "b 4\n",
      "c 3\n",
      "d 3\n",
      "e 22\n",
      "f 9\n",
      "g 1\n",
      "h 9\n",
      "i 14\n",
      "j 0\n",
      "k 2\n",
      "l 6\n",
      "m 8\n",
      "n 10\n",
      "o 13\n",
      "p 8\n",
      "q 0\n",
      "r 17\n",
      "s 9\n",
      "t 19\n",
      "u 9\n",
      "v 2\n",
      "w 1\n",
      "x 0\n",
      "y 2\n",
      "z 0\n"
     ]
    }
   ],
   "source": [
    "s = \"Write a program that prints the numbers from 1 to 100. \\\n",
    "But for multiples of three print Mickey instead of the number and for the multiples of five print Mouse. \\\n",
    "For numbers which are multiples of both three and five print MickeyMouse\"\n",
    "\n",
    "# turn all characters of s into lower case\n",
    "s_new = s.lower()\n",
    "\n",
    "#create a list of all alphabet letters\n",
    "Alph = \"abcdefghijklmnopqrstuvwxyz\"\n",
    "\n",
    "#find the repetition of each letter and print them\n",
    "for i in Alph:\n",
    "    print (i,s.count(i))"
   ]
  },
  {
   "cell_type": "markdown",
   "metadata": {},
   "source": [
    "5. Isolating the unique\n",
    "\n",
    "Write a function that determines and count the unique numbers in the list l"
   ]
  },
  {
   "cell_type": "code",
   "execution_count": 16,
   "metadata": {},
   "outputs": [
    {
     "name": "stdout",
     "output_type": "stream",
     "text": [
      "Unique Numbers:  {1, 3, 5, 8, 9, 10, 16, 18, 19, 20, 24, 30, 31, 33, 34, 36, 37, 39, 41, 42, 45, 47, 50, 51, 53, 54, 55, 56, 57, 58, 63, 64, 66, 70, 72, 74, 75, 79, 81, 82, 84, 85, 86, 87, 88, 89, 90, 91, 92, 94, 95, 96, 98, 99}\n",
      "Number of Unique Values: 54\n"
     ]
    }
   ],
   "source": [
    "a_list = [36, 45, 58, 3, 74, 96, 64, 45, 31, 10, 24, 19, 33, 86, 99, 18, 63, 70, 85,\n",
    " 85, 63, 47, 56, 42, 70, 84, 88, 55, 20, 54, 8, 56, 51, 79, 81, 57, 37, 91,\n",
    " 1, 84, 84, 36, 66, 9, 89, 50, 42, 91, 50, 95, 90, 98, 39, 16, 82, 31, 92, 41,\n",
    " 45, 30, 66, 70, 34, 85, 94, 5, 3, 36, 72, 91, 84, 34, 87, 75, 53, 51, 20, 89, 51, 20]\n",
    "\n",
    "def Unique_Func(a_list):\n",
    "    a_set = set(a_list) # convert the list to a set of unique values\n",
    "\n",
    "number_of_unique_values = len(a_set)\n",
    "\n",
    "print(\"Unique Numbers: \", a_set)\n",
    "print('Number of Unique Values:',number_of_unique_values)"
   ]
  },
  {
   "cell_type": "markdown",
   "metadata": {},
   "source": [
    "6. Combination of functions\n",
    "\n",
    "Write two functions - one that returns the square of a number, and one that returns the cube. Now write a third function that returns the number raised to the 6th power using the two previous functions."
   ]
  },
  {
   "cell_type": "code",
   "execution_count": 76,
   "metadata": {},
   "outputs": [
    {
     "data": {
      "text/plain": [
       "4"
      ]
     },
     "execution_count": 76,
     "metadata": {},
     "output_type": "execute_result"
    }
   ],
   "source": [
    "#function that returns the square of numbers\n",
    "\n",
    "def Square_Func(a):\n",
    "    result1 = pow (a ,2)\n",
    "    return result1\n",
    "a = 2\n",
    "Square_Func(a)"
   ]
  },
  {
   "cell_type": "code",
   "execution_count": 37,
   "metadata": {},
   "outputs": [
    {
     "data": {
      "text/plain": [
       "27"
      ]
     },
     "execution_count": 37,
     "metadata": {},
     "output_type": "execute_result"
    }
   ],
   "source": [
    "#function that returns the cube of numbers\n",
    "\n",
    "def Cube_Func(b):\n",
    "    result2 = pow (b ,3)\n",
    "    return result2\n",
    "b = 3\n",
    "Cube_Func(b)"
   ]
  },
  {
   "cell_type": "code",
   "execution_count": 38,
   "metadata": {},
   "outputs": [
    {
     "data": {
      "text/plain": [
       "4096"
      ]
     },
     "execution_count": 38,
     "metadata": {},
     "output_type": "execute_result"
    }
   ],
   "source": [
    "#function that returns the 6th power of numbers\n",
    "\n",
    "def Sixth_Power_Func(x):\n",
    "    result3 = pow (x ,6)\n",
    "    return result3\n",
    "x = 4\n",
    "Sixth_Power_Func(x)"
   ]
  },
  {
   "cell_type": "code",
   "execution_count": 39,
   "metadata": {},
   "outputs": [
    {
     "name": "stdout",
     "output_type": "stream",
     "text": [
      "4096\n"
     ]
    }
   ],
   "source": [
    "#function that returns the 6th power of numbers using previous functions\n",
    "\n",
    "def Sixth_Power_Func(x):\n",
    "    result3 = Cube_Func(Square_Func(x))\n",
    "    return result3\n",
    "\n",
    "print(Sixth_Power_Func(4))"
   ]
  },
  {
   "cell_type": "markdown",
   "metadata": {},
   "source": [
    "7\\. Cubes\n",
    "\n",
    "Create a list of the cubes of x for x in *[0, 10]* using:\n",
    "\n",
    "a) a for loop\n",
    "\n",
    "b) a list comprehension"
   ]
  },
  {
   "cell_type": "code",
   "execution_count": 78,
   "metadata": {},
   "outputs": [
    {
     "name": "stdout",
     "output_type": "stream",
     "text": [
      "0\n",
      "1\n",
      "8\n",
      "27\n",
      "64\n",
      "125\n",
      "216\n",
      "343\n",
      "512\n",
      "729\n"
     ]
    }
   ],
   "source": [
    "#a)using a for loop\n",
    "\n",
    "x = []\n",
    "for i in range(10):\n",
    "    x.append(pow(i,3))\n",
    "    print(x[i])\n",
    "\n"
   ]
  },
  {
   "cell_type": "code",
   "execution_count": 75,
   "metadata": {},
   "outputs": [
    {
     "name": "stdout",
     "output_type": "stream",
     "text": [
      "[0, 1, 8, 27, 64, 125, 216, 343, 512, 729]\n"
     ]
    }
   ],
   "source": [
    "#b)using a list comprehension\n",
    "\n",
    "y = [pow(i,3) for i in range(10)]\n",
    "\n",
    "print(y)"
   ]
  },
  {
   "cell_type": "markdown",
   "metadata": {},
   "source": [
    "8\\. Nested list comprehension\n",
    "\n",
    "A Pythagorean triple is an integer solution to the Pythagorean theorem $a^2+b^2=c^2$. The first Pythagorean triple is (3,4,5). Find and put in a tuple all unique Pythagorean triples for the positive integers a, b and c less than 100."
   ]
  },
  {
   "cell_type": "code",
   "execution_count": 137,
   "metadata": {},
   "outputs": [
    {
     "name": "stdout",
     "output_type": "stream",
     "text": [
      "((4, 3, 5), (8, 6, 10), (12, 5, 13), (12, 9, 15), (15, 8, 17), (16, 12, 20), (20, 15, 25), (21, 20, 29), (24, 7, 25), (24, 10, 26), (24, 18, 30), (28, 21, 35), (30, 16, 34), (32, 24, 40), (35, 12, 37), (36, 15, 39), (36, 27, 45), (40, 9, 41), (40, 30, 50), (42, 40, 58), (44, 33, 55), (45, 24, 51), (45, 28, 53), (48, 14, 50), (48, 20, 52), (48, 36, 60), (52, 39, 65), (55, 48, 73), (56, 33, 65), (56, 42, 70), (60, 11, 61), (60, 25, 65), (60, 32, 68), (60, 45, 75), (63, 16, 65), (63, 60, 87), (64, 48, 80), (68, 51, 85), (70, 24, 74), (72, 21, 75), (72, 30, 78), (72, 54, 90), (72, 65, 97), (75, 40, 85), (76, 57, 95), (77, 36, 85), (80, 18, 82), (80, 39, 89), (80, 60, 100), (84, 13, 85), (84, 35, 91), (96, 28, 100))\n"
     ]
    }
   ],
   "source": [
    "import math\n",
    "\n",
    "Pythagorean_Triples = []\n",
    "\n",
    "for a in range(101):\n",
    "    for b in range(1,a):\n",
    "        for c in range(1,101):\n",
    "            if math.sqrt(pow(a,2) + pow(b,2)) == c:\n",
    "                Pythagorean_Triples.append((a,b,c))\n",
    "               \n",
    "Pythagorean_Triples = tuple(Pythagorean_Triples)\n",
    "print(Pythagorean_Triples)\n"
   ]
  },
  {
   "cell_type": "markdown",
   "metadata": {},
   "source": [
    "9\\. Normalization\n",
    "\n",
    "Write a function that takes a tuple of numbers and returns it with the entries normalized to one"
   ]
  },
  {
   "cell_type": "code",
   "execution_count": 153,
   "metadata": {},
   "outputs": [
    {
     "data": {
      "text/plain": [
       "(0.0, 0.5, 1.0)"
      ]
     },
     "execution_count": 153,
     "metadata": {},
     "output_type": "execute_result"
    }
   ],
   "source": [
    "def Norm_Func(x):\n",
    "    List_Norm = []\n",
    "    for i in range(len(x)):\n",
    "        List_Norm.append(i/max(x))\n",
    "    return tuple(List_Norm)\n",
    "\n",
    "Norm_Func((1,2,2))\n",
    "    "
   ]
  },
  {
   "cell_type": "code",
   "execution_count": null,
   "metadata": {},
   "outputs": [],
   "source": []
  }
 ],
 "metadata": {
  "kernelspec": {
   "display_name": "Python 3",
   "language": "python",
   "name": "python3"
  },
  "language_info": {
   "codemirror_mode": {
    "name": "ipython",
    "version": 3
   },
   "file_extension": ".py",
   "mimetype": "text/x-python",
   "name": "python",
   "nbconvert_exporter": "python",
   "pygments_lexer": "ipython3",
   "version": "3.8.8"
  }
 },
 "nbformat": 4,
 "nbformat_minor": 4
}
