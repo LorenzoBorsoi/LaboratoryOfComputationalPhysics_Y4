{
 "cells": [
  {
   "cell_type": "markdown",
   "metadata": {},
   "source": [
    "1\\. The MickeyMouse problem\n",
    "\n",
    "a) Write a program that prints the numbers from 1 to 100. But for multiples of three print Mickey instead of the number and for the multiples of five print Mouse. For numbers which are multiples of both three and five print MickeyMouse"
   ]
  },
  {
   "cell_type": "code",
   "execution_count": 1,
   "metadata": {},
   "outputs": [
    {
     "name": "stdout",
     "output_type": "stream",
     "text": [
      "1\n",
      "2\n",
      "Mickey\n",
      "4\n",
      "Mouse\n",
      "Mickey\n",
      "7\n",
      "8\n",
      "Mickey\n",
      "Mouse\n",
      "11\n",
      "Mickey\n",
      "13\n",
      "14\n",
      "MickeyMouse\n",
      "16\n",
      "17\n",
      "Mickey\n",
      "19\n",
      "Mouse\n",
      "Mickey\n",
      "22\n",
      "23\n",
      "Mickey\n",
      "Mouse\n",
      "26\n",
      "Mickey\n",
      "28\n",
      "29\n",
      "MickeyMouse\n",
      "31\n",
      "32\n",
      "Mickey\n",
      "34\n",
      "Mouse\n",
      "Mickey\n",
      "37\n",
      "38\n",
      "Mickey\n",
      "Mouse\n",
      "41\n",
      "Mickey\n",
      "43\n",
      "44\n",
      "MickeyMouse\n",
      "46\n",
      "47\n",
      "Mickey\n",
      "49\n",
      "Mouse\n",
      "Mickey\n",
      "52\n",
      "53\n",
      "Mickey\n",
      "Mouse\n",
      "56\n",
      "Mickey\n",
      "58\n",
      "59\n",
      "MickeyMouse\n",
      "61\n",
      "62\n",
      "Mickey\n",
      "64\n",
      "Mouse\n",
      "Mickey\n",
      "67\n",
      "68\n",
      "Mickey\n",
      "Mouse\n",
      "71\n",
      "Mickey\n",
      "73\n",
      "74\n",
      "MickeyMouse\n",
      "76\n",
      "77\n",
      "Mickey\n",
      "79\n",
      "Mouse\n",
      "Mickey\n",
      "82\n",
      "83\n",
      "Mickey\n",
      "Mouse\n",
      "86\n",
      "Mickey\n",
      "88\n",
      "89\n",
      "MickeyMouse\n",
      "91\n",
      "92\n",
      "Mickey\n",
      "94\n",
      "Mouse\n",
      "Mickey\n",
      "97\n",
      "98\n",
      "Mickey\n",
      "Mouse\n"
     ]
    }
   ],
   "source": [
    "name_tuple = ()\n",
    "for x in range(1, 101):\n",
    "    result = \"\"\n",
    "    if not x % 3:\n",
    "        result += \"Mickey\"\n",
    "    if not x % 5:\n",
    "        result += \"Mouse\"\n",
    "    if not result:\n",
    "        result += str(x)\n",
    "    name_tuple += (result,)\n",
    "    print(result)"
   ]
  },
  {
   "cell_type": "markdown",
   "metadata": {},
   "source": [
    "b) Put the result in a tuple and substitute Mickey with Donald and Mouse with Duck"
   ]
  },
  {
   "cell_type": "code",
   "execution_count": 2,
   "metadata": {},
   "outputs": [
    {
     "name": "stdout",
     "output_type": "stream",
     "text": [
      "1\n",
      "2\n",
      "Donald\n",
      "4\n",
      "Duck\n",
      "Donald\n",
      "7\n",
      "8\n",
      "Donald\n",
      "Duck\n",
      "11\n",
      "Donald\n",
      "13\n",
      "14\n",
      "DonaldDuck\n",
      "16\n",
      "17\n",
      "Donald\n",
      "19\n",
      "Duck\n",
      "Donald\n",
      "22\n",
      "23\n",
      "Donald\n",
      "Duck\n",
      "26\n",
      "Donald\n",
      "28\n",
      "29\n",
      "DonaldDuck\n",
      "31\n",
      "32\n",
      "Donald\n",
      "34\n",
      "Duck\n",
      "Donald\n",
      "37\n",
      "38\n",
      "Donald\n",
      "Duck\n",
      "41\n",
      "Donald\n",
      "43\n",
      "44\n",
      "DonaldDuck\n",
      "46\n",
      "47\n",
      "Donald\n",
      "49\n",
      "Duck\n",
      "Donald\n",
      "52\n",
      "53\n",
      "Donald\n",
      "Duck\n",
      "56\n",
      "Donald\n",
      "58\n",
      "59\n",
      "DonaldDuck\n",
      "61\n",
      "62\n",
      "Donald\n",
      "64\n",
      "Duck\n",
      "Donald\n",
      "67\n",
      "68\n",
      "Donald\n",
      "Duck\n",
      "71\n",
      "Donald\n",
      "73\n",
      "74\n",
      "DonaldDuck\n",
      "76\n",
      "77\n",
      "Donald\n",
      "79\n",
      "Duck\n",
      "Donald\n",
      "82\n",
      "83\n",
      "Donald\n",
      "Duck\n",
      "86\n",
      "Donald\n",
      "88\n",
      "89\n",
      "DonaldDuck\n",
      "91\n",
      "92\n",
      "Donald\n",
      "94\n",
      "Duck\n",
      "Donald\n",
      "97\n",
      "98\n",
      "Donald\n",
      "Duck\n"
     ]
    }
   ],
   "source": [
    "# We use a list here, as the tuple has unmodifiable elements by definition.\n",
    "duck_list = list(name_tuple)\n",
    "length = len(duck_list)\n",
    "for i in range(length):\n",
    "    duck_list[i] = duck_list[i].replace(\"Mickey\", \"Donald\")\n",
    "    duck_list[i] = duck_list[i].replace(\"Mouse\", \"Duck\")\n",
    "print(*duck_list, sep=\"\\n\")"
   ]
  },
  {
   "cell_type": "markdown",
   "metadata": {},
   "source": [
    "2\\. The swap function\n",
    "\n",
    "Write a function that swap the values of two input variables x and y (whatever the type). Try to do that also without a temporary variable"
   ]
  },
  {
   "cell_type": "code",
   "execution_count": 3,
   "metadata": {},
   "outputs": [],
   "source": [
    "# With temp\n",
    "def swap_with_temp(x, y):\n",
    "    temp = x\n",
    "    x = y\n",
    "    y = temp\n",
    "\n",
    "\n",
    "# Without temp\n",
    "def swap_without_temp(x, y):\n",
    "    x, y = y, x"
   ]
  },
  {
   "cell_type": "markdown",
   "metadata": {},
   "source": [
    "3\\. Computing the distance\n",
    "\n",
    "Write a function that calculates and returns the euclidean distance between two points *u* and *v*, where *u* and *v* are both 2-tuples *(x,y)*. For example, if *u=(3,0)* and *v=(0,4)*, the function should return 5"
   ]
  },
  {
   "cell_type": "code",
   "execution_count": 4,
   "metadata": {},
   "outputs": [],
   "source": [
    "def euclidean_distance(p1, p2):\n",
    "    d2 = 0\n",
    "    for u, v in zip(p1, p2):\n",
    "        d2 += (u - v) ** 2\n",
    "    return d2 ** 0.5"
   ]
  },
  {
   "cell_type": "markdown",
   "metadata": {},
   "source": [
    "4\\. Counting letters\n",
    "\n",
    "Write a program to calculate the number of times each character occurs in a given string *s*. Ignore differneces in capitalization"
   ]
  },
  {
   "cell_type": "code",
   "execution_count": 5,
   "metadata": {},
   "outputs": [
    {
     "name": "stdout",
     "output_type": "stream",
     "text": [
      "' w ' : 2\n",
      "' r ' : 17\n",
      "' i ' : 14\n",
      "' t ' : 19\n",
      "' e ' : 22\n",
      "'   ' : 41\n",
      "' a ' : 7\n",
      "' p ' : 8\n",
      "' o ' : 13\n",
      "' g ' : 1\n",
      "' m ' : 12\n",
      "' h ' : 9\n",
      "' n ' : 10\n",
      "' s ' : 9\n",
      "' u ' : 9\n",
      "' b ' : 5\n",
      "' f ' : 10\n",
      "' 1 ' : 2\n",
      "' 0 ' : 2\n",
      "' . ' : 2\n",
      "' l ' : 6\n",
      "' c ' : 3\n",
      "' k ' : 2\n",
      "' y ' : 2\n",
      "' d ' : 3\n",
      "' v ' : 2\n"
     ]
    }
   ],
   "source": [
    "s=\"Write a program that prints the numbers from 1 to 100. \\\n",
    "But for multiples of three print Mickey instead of the number and for the multiples of five print Mouse. \\\n",
    "For numbers which are multiples of both three and five print MickeyMouse\"\n",
    "\n",
    "\n",
    "def char_count_and_print(string):\n",
    "    char_codes = {}\n",
    "    string = string.lower()\n",
    "    for c in string:\n",
    "        if c not in char_codes:\n",
    "            char_codes[c] = 1\n",
    "        else:\n",
    "            char_codes[c] += 1\n",
    "    for key, value in char_codes.items():\n",
    "        print(\"'\", key, \"'\", \":\", value, end=\"\\n\")\n",
    "\n",
    "\n",
    "char_count_and_print(s)"
   ]
  },
  {
   "cell_type": "markdown",
   "metadata": {},
   "source": [
    "5\\. Isolating the unique\n",
    "\n",
    "Write a function that determines and count the unique numbers in the list *l*"
   ]
  },
  {
   "cell_type": "code",
   "execution_count": 6,
   "metadata": {},
   "outputs": [
    {
     "name": "stdout",
     "output_type": "stream",
     "text": [
      "Unique number count: 54\n",
      "Unique numbers:\n",
      "36, 45, 58, 3, 74, 96, 64, 31, 10, 24, 19, 33, 86, 99, 18, 63, 70, 85, 47, 56, 42, 84, 88, 55, 20, 54, 8, 51, 79, 81, 57, 37, 91, 1, 66, 9, 89, 50, 95, 90, 98, 39, 16, 82, 92, 41, 30, 34, 94, 5, 72, 87, 75, 53\n"
     ]
    }
   ],
   "source": [
    "l = [36, 45, 58, 3, 74, 96, 64, 45, 31, 10, 24, 19, 33, 86, 99, 18, 63, 70, 85,\n",
    " 85, 63, 47, 56, 42, 70, 84, 88, 55, 20, 54, 8, 56, 51, 79, 81, 57, 37, 91,\n",
    " 1, 84, 84, 36, 66, 9, 89, 50, 42, 91, 50, 95, 90, 98, 39, 16, 82, 31, 92, 41,\n",
    " 45, 30, 66, 70, 34, 85, 94, 5, 3, 36, 72, 91, 84, 34, 87, 75, 53, 51, 20, 89, 51, 20]\n",
    "\n",
    "\n",
    "def list_count_unique_and_print(num_list):\n",
    "    num_codes = {}\n",
    "    for x in num_list:\n",
    "        if x not in num_codes:\n",
    "            num_codes[x] = 1\n",
    "    print(\"Unique number count:\", len(num_codes))\n",
    "    print(\"Unique numbers:\")\n",
    "    print(*num_codes, sep=\", \")\n",
    "\n",
    "\n",
    "list_count_unique_and_print(l)"
   ]
  },
  {
   "cell_type": "markdown",
   "metadata": {},
   "source": [
    "6\\. Combination of functions\n",
    "\n",
    "Write two functions - one that returns the square of a number, and one that returns the cube. Now write a third function that returns the number raised to the 6th power using the two previous functions."
   ]
  },
  {
   "cell_type": "code",
   "execution_count": 7,
   "metadata": {
    "scrolled": true
   },
   "outputs": [
    {
     "name": "stdout",
     "output_type": "stream",
     "text": [
      "square(3): 9, cube(3): 27, sixth: 729\n"
     ]
    }
   ],
   "source": [
    "def square(x):\n",
    "    return x ** 2\n",
    "\n",
    "\n",
    "def cube(x):\n",
    "    return x ** 3\n",
    "\n",
    "\n",
    "def sixth_power(x):\n",
    "    return cube(square(x))\n",
    "\n",
    "\n",
    "print(f\"square(3): {square(3)}, cube(3): {cube(3)}, sixth: {sixth_power(3)}\")"
   ]
  },
  {
   "cell_type": "markdown",
   "metadata": {},
   "source": [
    "7\\. Cubes\n",
    "\n",
    "Create a list of the cubes of x for x in *[0, 10]* using:\n",
    "\n",
    "a) a for loop"
   ]
  },
  {
   "cell_type": "code",
   "execution_count": 8,
   "metadata": {},
   "outputs": [
    {
     "name": "stdout",
     "output_type": "stream",
     "text": [
      "For loop: [0, 1, 8, 27, 64, 125, 216, 343, 512, 729, 1000]\n"
     ]
    }
   ],
   "source": [
    "cubes_for_list = []\n",
    "for x in range(11):\n",
    "    cubes_for_list.append(cube(x))\n",
    "print(\"For loop:\", cubes_for_list)"
   ]
  },
  {
   "cell_type": "markdown",
   "metadata": {},
   "source": [
    "b) a list comprehension"
   ]
  },
  {
   "cell_type": "code",
   "execution_count": 9,
   "metadata": {},
   "outputs": [
    {
     "name": "stdout",
     "output_type": "stream",
     "text": [
      "Cmphsion: [0, 1, 8, 27, 64, 125, 216, 343, 512, 729, 1000]\n"
     ]
    }
   ],
   "source": [
    "cubes_comprehension_list = [cube(x) for x in range(11)]\n",
    "print(\"Cmphsion:\", cubes_comprehension_list)"
   ]
  },
  {
   "cell_type": "markdown",
   "metadata": {},
   "source": [
    "8\\. Nested list comprehension\n",
    "\n",
    "A Pythagorean triple is an integer solution to the Pythagorean theorem $a^2+b^2=c^2$. The first Pythagorean triple is (3,4,5). Find and put in a tuple all unique Pythagorean triples for the positive integers a, b and c less than 100."
   ]
  },
  {
   "cell_type": "markdown",
   "metadata": {},
   "source": [
    "We understand \"unique\" Pythagorean as the \"primitive\" Pythagorean triplets, i.e., the triples that are not of the form: $(a,b,c) = k(a^{'},b^{'},c^{'})$\n",
    "With $k$ positive."
   ]
  },
  {
   "cell_type": "code",
   "execution_count": 10,
   "metadata": {},
   "outputs": [
    {
     "name": "stdout",
     "output_type": "stream",
     "text": [
      "The unique Pythagorean triplets are:\n",
      "(4, 3, 5)\n",
      "(12, 5, 13)\n",
      "(15, 8, 17)\n",
      "(21, 20, 29)\n",
      "(24, 7, 25)\n",
      "(35, 12, 37)\n",
      "(40, 9, 41)\n",
      "(45, 28, 53)\n",
      "(55, 48, 73)\n",
      "(56, 33, 65)\n",
      "(60, 11, 61)\n",
      "(63, 16, 65)\n",
      "(72, 65, 97)\n",
      "(77, 36, 85)\n",
      "(80, 39, 89)\n",
      "(84, 13, 85)\n"
     ]
    }
   ],
   "source": [
    "def is_primitive(triplet, lst):\n",
    "    for element in lst:\n",
    "        if triplet[0] > element[0] and triplet[0] / element[0] == triplet[1] / element[1] == triplet[2] / element[2]:\n",
    "            return False\n",
    "    return True\n",
    "\n",
    "\n",
    "# Because of the symmetry a <-> b, we constrain b <= a. It also follows that c > a.\n",
    "pythagorean_triplets = [(a, b, c) for a in range(1, 100) for b in range(1, a + 1) for c in range(a + 1, 100)\n",
    "                       if a ** 2 + b ** 2 == c ** 2]\n",
    "pythagorean_triplets = [triplet for triplet in pythagorean_triplets if is_primitive(triplet, pythagorean_triplets)]\n",
    "\n",
    "\n",
    "print(\"The unique Pythagorean triplets are:\")\n",
    "print(*pythagorean_triplets, sep=\"\\n\")"
   ]
  },
  {
   "cell_type": "markdown",
   "metadata": {},
   "source": [
    "9\\. Normalization\n",
    "\n",
    "Write a function that takes a tuple of numbers and returns it with the entries normalized to one"
   ]
  },
  {
   "cell_type": "code",
   "execution_count": 11,
   "metadata": {},
   "outputs": [
    {
     "name": "stdout",
     "output_type": "stream",
     "text": [
      "Normalize (0, 0, 0, 0, 1, 2):\n",
      "0.00\t0.00\t0.00\t0.00\t0.45\t0.89\t\n",
      "Normalize (3, 3, -6):\n",
      "0.41\t0.41\t-0.82\t"
     ]
    }
   ],
   "source": [
    "# We return a new list, as the original tuple is unmodifiable by definition.\n",
    "def normalize(vector):\n",
    "    modulus = 0\n",
    "    for component in vector:\n",
    "        modulus += component ** 2\n",
    "    modulus **= 0.5\n",
    "    return [component / modulus for component in vector]\n",
    "\n",
    "\n",
    "print(\"Normalize (0, 0, 0, 0, 1, 2):\")\n",
    "for element in normalize((0, 0, 0, 0, 1, 2)):\n",
    "    print ('{:.2f}'.format(element), end=\"\\t\")\n",
    "print()\n",
    "print(\"Normalize (3, 3, -6):\")\n",
    "for element in normalize((3, 3, -6)):\n",
    "    print ('{:.2f}'.format(element), end=\"\\t\")"
   ]
  },
  {
   "cell_type": "code",
   "execution_count": null,
   "metadata": {},
   "outputs": [],
   "source": []
  }
 ],
 "metadata": {
  "kernelspec": {
   "display_name": "Python 3 (ipykernel)",
   "language": "python",
   "name": "python3"
  },
  "language_info": {
   "codemirror_mode": {
    "name": "ipython",
    "version": 3
   },
   "file_extension": ".py",
   "mimetype": "text/x-python",
   "name": "python",
   "nbconvert_exporter": "python",
   "pygments_lexer": "ipython3",
   "version": "3.9.7"
  }
 },
 "nbformat": 4,
 "nbformat_minor": 2
}
