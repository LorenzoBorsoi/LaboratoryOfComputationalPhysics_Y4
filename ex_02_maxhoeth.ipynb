{
 "cells": [
  {
   "cell_type": "markdown",
   "metadata": {
    "collapsed": true,
    "pycharm": {
     "name": "#%% md\n"
    }
   },
   "source": [
    "# Exercise 2:\n",
    "***\n",
    "\n"
   ]
  },
  {
   "cell_type": "markdown",
   "source": [
    "## 1: bin <-> dec <-> hex"
   ],
   "metadata": {
    "collapsed": false,
    "pycharm": {
     "name": "#%% md\n"
    }
   }
  },
  {
   "cell_type": "code",
   "execution_count": 72,
   "outputs": [
    {
     "name": "stdout",
     "output_type": "stream",
     "text": [
      "25\n",
      "0000000000000000000001000\n"
     ]
    }
   ],
   "source": [
    "def bin_dec(bin):\n",
    "    dec = 0\n",
    "    for i in range(len(str(bin))):\n",
    "        dec += 2 ** (len(str(bin)) - i-1)*int(str(bin)[i])\n",
    "    print(dec)\n",
    "\n",
    "#def dec_bin(dec):\n",
    " #   bin_ = ''\n",
    "  #  for i in range(dec):\n",
    "   #     if dec % 2 ** (len(range(dec))- i-1) == True:\n",
    "    #        bin_ += '1'\n",
    "     #       dec -= 2 ** (len(range(dec))- i-1)\n",
    "      #  else:\n",
    "       #     bin_ += '0'\n",
    "    #print(bin_)\n",
    "\n",
    "def dec_bin2(dec):\n",
    "    bin_ = ''\n",
    "    for i in range(dec):\n",
    "        if 2 ** i+1 > dec:\n",
    "            max_expo = i\n",
    "            break\n",
    "    for i in range(max_expo):\n",
    "        if 2 ** (max_expo - i-1) <= dec:\n",
    "            bin_ += '1'\n",
    "            dec -= 2 ** (max_expo - i-1)\n",
    "        else:\n",
    "            bin_+= '0'\n",
    "    print(int(bin_))\n",
    "\n",
    "\n",
    "bin_dec(11001)\n",
    "dec_bin(25)\n",
    "\n",
    "\n",
    "def dec_hex(dec):\n",
    "    hex = 0\n",
    "    for i in range(len(str(hex))):\n",
    "        dec += 16 ** (len(str(hex)) - i-1)*int(str(hex)[i])\n",
    "    print(dec)\n",
    "\n",
    "#hex_dec(24)"
   ],
   "metadata": {
    "collapsed": false,
    "pycharm": {
     "name": "#%%\n"
    }
   }
  },
  {
   "cell_type": "markdown",
   "source": [
    "## 2:\n",
    "\n"
   ],
   "metadata": {
    "collapsed": false,
    "pycharm": {
     "name": "#%% md\n"
    }
   }
  }
 ],
 "metadata": {
  "kernelspec": {
   "display_name": "Python 3",
   "language": "python",
   "name": "python3"
  },
  "language_info": {
   "codemirror_mode": {
    "name": "ipython",
    "version": 2
   },
   "file_extension": ".py",
   "mimetype": "text/x-python",
   "name": "python",
   "nbconvert_exporter": "python",
   "pygments_lexer": "ipython2",
   "version": "2.7.6"
  }
 },
 "nbformat": 4,
 "nbformat_minor": 0
}