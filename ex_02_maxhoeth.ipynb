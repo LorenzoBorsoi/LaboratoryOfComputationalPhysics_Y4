{
 "cells": [
  {
   "cell_type": "markdown",
   "metadata": {
    "collapsed": true,
    "pycharm": {
     "name": "#%% md\n"
    }
   },
   "source": [
    "# Exercise 2:\n",
    "***\n",
    "\n"
   ]
  },
  {
   "cell_type": "markdown",
   "metadata": {
    "pycharm": {
     "name": "#%% md\n"
    }
   },
   "source": [
    "## 1: bin <-> dec <-> hex"
   ]
  },
  {
   "cell_type": "code",
   "execution_count": 13,
   "metadata": {
    "pycharm": {
     "name": "#%%\n"
    }
   },
   "outputs": [
    {
     "name": "stdout",
     "output_type": "stream",
     "text": [
      "25\n",
      "11001\n",
      "16\n"
     ]
    }
   ],
   "source": [
    "def bin_dec(bin):\n",
    "    dec = 0\n",
    "    for i in range(len(str(bin))):\n",
    "        dec += 2 ** (len(str(bin)) - i-1)*int(str(bin)[i])\n",
    "    print(dec)\n",
    "    \n",
    "\n",
    "def dec_bin(dec):\n",
    "    bin_ = ''\n",
    "    for i in range(dec):\n",
    "        if 2 ** i+1 > dec:\n",
    "            max_expo = i\n",
    "            break\n",
    "    for i in range(max_expo):\n",
    "        if 2 ** (max_expo - i-1) <= dec:\n",
    "            bin_ += '1'\n",
    "            dec -= 2 ** (max_expo - i-1)\n",
    "        else:\n",
    "            bin_+= '0'\n",
    "    print(int(bin_))\n",
    "\n",
    "\n",
    "bin_dec(11001)\n",
    "dec_bin(25)\n",
    "\n",
    "\n",
    "def dec_hex(dec):\n",
    "    hex = 0\n",
    "    for i in range(len(str(dec))):\n",
    "        hex += 16 ** (len(str(dec)) - i-1)*int(str(dec)[i])\n",
    "    print(hex)\n",
    "    \n",
    "#def hex_dec(hex):\n",
    "    \n",
    "\n",
    "dec_hex(10)"
   ]
  },
  {
   "cell_type": "markdown",
   "metadata": {
    "pycharm": {
     "name": "#%% md\n"
    }
   },
   "source": [
    "## 2: convert 32bit word in floating point\n"
   ]
  },
  {
   "cell_type": "code",
   "execution_count": null,
   "metadata": {},
   "outputs": [],
   "source": [
    "def float_word(bit):\n",
    "    "
   ]
  },
  {
   "cell_type": "markdown",
   "metadata": {},
   "source": [
    "## 5. quadratic formular:"
   ]
  },
  {
   "cell_type": "code",
   "execution_count": 30,
   "metadata": {},
   "outputs": [
    {
     "name": "stdout",
     "output_type": "stream",
     "text": [
      "(-9.094947017729282e-09, -100000000.0)\n",
      "(-1.1175870895385742e-08, -201326592.0)\n"
     ]
    }
   ],
   "source": [
    "from math import sqrt\n",
    "def quad_form(a,b,c):\n",
    "    x_plus = (-b + sqrt(b **2 - 4 * a * c))/(2 * a)\n",
    "    x_minus = (-b - sqrt(b **2 - 4 * a * c))/(2 * a)\n",
    "    return x_plus, x_minus\n",
    "\n",
    "def quad_form2(a,b,c):\n",
    "    x_plus = (b **2 - (b **2 - 4 * a * c))/((-2 * a * b) - 2 * a * sqrt(b **2 - 4 * a * c))\n",
    "    x_minus = (b **2 - (b **2 - 4 * a * c))/((-2 * a * b) + 2 * a * sqrt(b **2 - 4 * a * c))\n",
    "    return x_plus, x_minus\n",
    "\n",
    "print(quad_form(0.0001, 10000, 0.0001))\n",
    "print(quad_form2(0.0001, 10000, 0.0001))"
   ]
  },
  {
   "cell_type": "code",
   "execution_count": 42,
   "metadata": {},
   "outputs": [
    {
     "name": "stdout",
     "output_type": "stream",
     "text": [
      "0.30000000000000004\n"
     ]
    },
    {
     "data": {
      "text/plain": [
       "True"
      ]
     },
     "execution_count": 42,
     "metadata": {},
     "output_type": "execute_result"
    }
   ],
   "source": [
    "x = 0.1 + 0.1 + 0.1\n",
    "print(x)\n",
    "0.1 + 0.1 + 0.1 == 0.30000000000000004"
   ]
  },
  {
   "cell_type": "code",
   "execution_count": null,
   "metadata": {},
   "outputs": [],
   "source": []
  }
 ],
 "metadata": {
  "kernelspec": {
   "display_name": "Python 3 (ipykernel)",
   "language": "python",
   "name": "python3"
  },
  "language_info": {
   "codemirror_mode": {
    "name": "ipython",
    "version": 3
   },
   "file_extension": ".py",
   "mimetype": "text/x-python",
   "name": "python",
   "nbconvert_exporter": "python",
   "pygments_lexer": "ipython3",
   "version": "3.8.8"
  }
 },
 "nbformat": 4,
 "nbformat_minor": 1
}
