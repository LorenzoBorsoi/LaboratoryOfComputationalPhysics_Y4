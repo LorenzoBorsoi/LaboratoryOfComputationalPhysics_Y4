{
 "cells": [
  {
   "cell_type": "markdown",
   "id": "61d5c701",
   "metadata": {},
   "source": [
    "## exercise 1"
   ]
  },
  {
   "cell_type": "markdown",
   "id": "776a187d",
   "metadata": {},
   "source": [
    "Write the following as a list comprehension"
   ]
  },
  {
   "cell_type": "code",
   "execution_count": null,
   "id": "f447ae79",
   "metadata": {},
   "outputs": [],
   "source": [
    "\n",
    "# 1\n",
    "ans_1_a = [] #text of the exercise\n",
    "for i in range(3):\n",
    "    for j in range(4):\n",
    "        ans_1_a.append((i, j))\n",
    "print(f'the first list with for loop is:{ans_1_a}\\n')\n",
    "\n",
    "#Solution\n",
    "ans_1_b = [(i, j) for i in range(3) for j in range(4)] #list comprehension\n",
    "print(f'the first list with list compehension is:{ans_1_b}\\n') #result\n",
    "\n",
    "print('comparison between the two methods. Check if the elements are the same:')\n",
    "\n",
    "for i,j in zip(ans_1_a,ans_1_b):\n",
    "    print(i,j)\n",
    "    \n",
    "print('\\n')\n",
    "\n",
    "# 2\n",
    "ans_2_a = map(lambda x: x*x, filter(lambda x: x%2 == 0, range(5)))  #text of the exercise\n",
    "print (f'the first list with for loop is:{list(ans_2_a)}\\n')\n",
    "\n",
    "#Solution\n",
    "ans_2_b = [x for x in map(lambda x: x*x, filter(lambda x: x%2 == 0, range(5)))] #list comprehension\n",
    "print(f'the first list with for loop is:{ans_2_b}\\n') #result\n"
   ]
  },
  {
   "cell_type": "markdown",
   "id": "50445397",
   "metadata": {},
   "source": [
    "### explanation of the solution"
   ]
  },
  {
   "cell_type": "markdown",
   "id": "355e0719",
   "metadata": {},
   "source": [
    "1. In order to repeat the list $ans_1_a$ with a list comprehension the code uses two for loops in the [  ] brackets. \n",
    "\n",
    "2. As the previous point, the code uses a for loop in the [  ] brackets in order to iterate what is defined in the $map$ function."
   ]
  },
  {
   "cell_type": "markdown",
   "id": "abf5ca1c",
   "metadata": {},
   "source": [
    "## exercise 2"
   ]
  },
  {
   "cell_type": "markdown",
   "id": "d3ef63e4",
   "metadata": {},
   "source": [
    "Convert the following function into a pure function with no global variables or side effects"
   ]
  },
  {
   "cell_type": "code",
   "execution_count": 8,
   "id": "b1011e28",
   "metadata": {},
   "outputs": [
    {
     "name": "stdout",
     "output_type": "stream",
     "text": [
      "[1, 2, 3, 0, 1, 2, 3, 4]\n",
      "[1, 2, 3, 0, 1, 2, 3, 4]\n",
      "\n",
      "\n",
      "solution:\n",
      "alist before the call of the function:[1, 2, 3]\n",
      "\n",
      "\n",
      "ans list:[1, 2, 3, 0, 1, 2, 3, 4]\n",
      "alist after the call of the function:[1, 2, 3]\n"
     ]
    }
   ],
   "source": [
    "x = 5\n",
    "def f(alist):\n",
    "    for i in range(x):\n",
    "         alist.append(i)\n",
    "    return alist\n",
    "\n",
    "alist = [1,2,3]\n",
    "ans = f(alist)\n",
    "print (ans)\n",
    "print (alist) # alist has been changed!\n",
    "print('\\n')\n",
    "#Solution \n",
    "\n",
    "print('solution:')\n",
    "\n",
    "alist = [1,2,3] #definition of a list\n",
    "\n",
    "print(f'alist before the call of the function:{alist}')\n",
    "print('\\n')\n",
    "\n",
    "def f(y,a): #definition of the function\n",
    "    z=[i for i in y] #creating a copy of the list in order not to use a global variable\n",
    "    for i in range(a): \n",
    "         z.append(i)\n",
    "    return z\n",
    "\n",
    "alist = [1,2,3]\n",
    "ans = f(alist,x) #call of the function\n",
    "\n",
    "print (f'ans list:{ans}') #result\n",
    "print(f'alist after the call of the function:{alist}') #unmodified list\n",
    "\n",
    "\n",
    "\n"
   ]
  },
  {
   "cell_type": "markdown",
   "id": "321f75c1",
   "metadata": {},
   "source": [
    "## exercise 3"
   ]
  },
  {
   "cell_type": "markdown",
   "id": "868516fd",
   "metadata": {},
   "source": [
    "Write a decorator hello that makes every wrapped function print “Hello!”, i.e. something like:"
   ]
  },
  {
   "cell_type": "code",
   "execution_count": 7,
   "id": "45d8f3c2",
   "metadata": {},
   "outputs": [
    {
     "name": "stdout",
     "output_type": "stream",
     "text": [
      "type the value of the variable to calculate the value of:2\n",
      "\n",
      "\n",
      "the square of the variable is:4.0\n",
      "\n",
      "hello\n"
     ]
    }
   ],
   "source": [
    "a=float(input(f'type the value of the variable to calculate the value of:'))# defintion of the value of the variable\n",
    "print('\\n')\n",
    "\n",
    "def hello(func): #definition of the decorator\n",
    "    def wrapper(x):\n",
    "        func(x)\n",
    "        print(\"hello\")\n",
    "    return wrapper\n",
    "    \n",
    "\n",
    "@hello #call of the function with the decorator\n",
    "def square(x):\n",
    "    print(f'the square of the variable is:{x**2}\\n')\n",
    "\n",
    "square(a)\n",
    "\n",
    "\n"
   ]
  },
  {
   "cell_type": "markdown",
   "id": "74cbc562",
   "metadata": {},
   "source": [
    "### explanation of the solution"
   ]
  },
  {
   "cell_type": "markdown",
   "id": "22491b10",
   "metadata": {},
   "source": [
    "The program applies the definition of the decorator with a wrapped function. In this case it prints hello and it is associate with a square function. "
   ]
  },
  {
   "cell_type": "markdown",
   "id": "babbed38",
   "metadata": {},
   "source": [
    "## exercise 4"
   ]
  },
  {
   "cell_type": "markdown",
   "id": "5be1fea3",
   "metadata": {},
   "source": [
    "Write the factorial function so that it a) does and b) does not use recursion."
   ]
  },
  {
   "cell_type": "code",
   "execution_count": 16,
   "id": "94e30742",
   "metadata": {},
   "outputs": [
    {
     "name": "stdout",
     "output_type": "stream",
     "text": [
      "type the value of the variable to calculate the value of:5\n",
      "\n",
      "\n",
      "factorial calculated with the recursive function:120\n",
      "\n",
      "factorial calculated with the not recursive function:120\n",
      "\n"
     ]
    }
   ],
   "source": [
    "x=int(input(f'type the value of the variable to calculate the value of:'))# defintion of the value of the variable\n",
    "print('\\n')\n",
    "\n",
    "\n",
    "#1. Recursive\n",
    "def fact1(n):\n",
    "    # base case\n",
    "    if n==0 or n==1:\n",
    "        return 1\n",
    "    # recursive case\n",
    "    else:\n",
    "        return n*fact1(n-1)\n",
    "    \n",
    "print(f'factorial calculated with the recursive function:{fact1(x)}\\n')\n",
    "\n",
    "\n",
    "#2. Not Recursive\n",
    "def fact2(n):\n",
    "    if n!=0:\n",
    "        for i in range(1,n):\n",
    "            n=n*i\n",
    "    else:\n",
    "        n=1\n",
    "        \n",
    "    return n\n",
    "     \n",
    "print(f'factorial calculated with the not recursive function:{fact2(x)}\\n')\n",
    "\n",
    "\n",
    "\n"
   ]
  },
  {
   "cell_type": "markdown",
   "id": "a45bef2b",
   "metadata": {},
   "source": [
    "### explanation of the solution"
   ]
  },
  {
   "cell_type": "markdown",
   "id": "08ec5623",
   "metadata": {},
   "source": [
    "1. The factorial of a number $n!$ is defined as $n!=n\\cdot (n-1)\\cdot\\cdot\\cdot1$. Therefore to calculate it with a recursive function it is sufficient to set the product between $n$ and $n-1$ as the $return$ of the function. The term $n-1$ must be calculated with the function itself in order to create a loop that ends with $n = 1$.\n",
    "\n",
    "2. It is possible to calculate $n!$ with a for loop with a range from 1 to $n$ and as operation a multiplication. \n",
    "\n",
    "In both cases it is obviously present an if loop because if $n=0$ the usual method to calculate the factorial is not valid. Indeed $0!=1$"
   ]
  },
  {
   "cell_type": "markdown",
   "id": "a1ffd209",
   "metadata": {},
   "source": [
    "## exercise 5"
   ]
  },
  {
   "cell_type": "markdown",
   "id": "287898f5",
   "metadata": {},
   "source": [
    "Use HOFs (zip in particular) to compute the weight of a circle, a disk and a sphere, assuming different radii and different densities:"
   ]
  },
  {
   "cell_type": "code",
   "execution_count": 20,
   "id": "a31f0d12",
   "metadata": {},
   "outputs": [],
   "source": [
    "densities = {\"Al\":[0.5,1,2],\"Fe\":[3,4,5],\"Pb\": [15,20,30]}\n",
    "radii = [1,2,3]"
   ]
  },
  {
   "cell_type": "markdown",
   "id": "b70de102",
   "metadata": {},
   "source": [
    "where the entries of the dictionary's values are the linear, superficial and volumetric densities of the materials respectively.\n",
    "\n",
    "In particular define a list of three lambda functions using a comprehension that computes the circumference, the area and the volume for a given radius."
   ]
  },
  {
   "cell_type": "code",
   "execution_count": 19,
   "id": "06dd25d0",
   "metadata": {},
   "outputs": [
    {
     "name": "stdout",
     "output_type": "stream",
     "text": [
      "Al 1 3.141592653589793\n",
      "Al 1 12.566370614359172\n",
      "Al 1 8.377580409572781\n",
      "Al 2 6.283185307179586\n",
      "Al 2 50.26548245743669\n",
      "Al 2 67.02064327658225\n",
      "Al 3 9.42477796076938\n",
      "Al 3 113.09733552923255\n",
      "Al 3 226.1946710584651\n",
      "Fe 1 18.84955592153876\n",
      "Fe 1 50.26548245743669\n",
      "Fe 1 20.94395102393195\n",
      "Fe 2 37.69911184307752\n",
      "Fe 2 201.06192982974676\n",
      "Fe 2 167.5516081914556\n",
      "Fe 3 56.548667764616276\n",
      "Fe 3 452.3893421169302\n",
      "Fe 3 565.4866776461628\n",
      "Pb 1 94.24777960769379\n",
      "Pb 1 251.32741228718345\n",
      "Pb 1 125.66370614359171\n",
      "Pb 2 188.49555921538757\n",
      "Pb 2 1005.3096491487338\n",
      "Pb 2 1005.3096491487337\n",
      "Pb 3 282.7433388230814\n",
      "Pb 3 2261.946710584651\n",
      "Pb 3 3392.9200658769764\n"
     ]
    }
   ],
   "source": [
    "\n",
    "import math #importing the needed variable\n",
    "\n",
    "pi=math.pi #definition of pi\n",
    "\n",
    "densities = {\"Al\":[0.5,1,2],\"Fe\":[3,4,5],\"Pb\": [15,20,30]} #starting datas\n",
    "radii = [1,2,3] #starting datas\n",
    "\n",
    "fun=[lambda x: 2*pi*x, lambda x: 4*pi*x*x, lambda x:(4/3)*pi*x*x*x] #array of functions\n",
    "\n",
    "for k in densities.keys(): \n",
    "    \n",
    "    element=k #fixing the element to study the weight of it\n",
    "    \n",
    "    for i in range(len(radii)): #fixing the value of the radius to study\n",
    "\n",
    "        vol=[fun[j](radii[i]) for j in range(len(fun))] #calculating the d-dimensional (1,2,3) volumes with the function array\n",
    "        \n",
    "        for l,m in zip(vol,densities[k]): #showing the results with the zip function; weight=volume*density=l*m\n",
    "                print(element,radii[i],m*l)\n",
    "\n"
   ]
  },
  {
   "cell_type": "markdown",
   "id": "d53f13a0",
   "metadata": {},
   "source": [
    "### explanation of the solution"
   ]
  },
  {
   "cell_type": "markdown",
   "id": "74c76360",
   "metadata": {},
   "source": [
    "At first the program imports the $math$ library in order to use the number $\\pi$. Than it defines an array of $anonimus$ $functions$ in order to calculate the volumes easily. In the for loops it is fixed the element to study and than the radius. Throught the property of the $lambda$ function it is possible to create an array of d-dimensional volumes with a fixed radius (with d=(1,2,3)). At the end the program uses $zip$ to associate each volume to the corresponding density and then it calculates the weight. The process is repeated for all the elements."
   ]
  },
  {
   "cell_type": "markdown",
   "id": "beea5fd5",
   "metadata": {},
   "source": [
    "## exercise 6"
   ]
  },
  {
   "cell_type": "markdown",
   "id": "eb3dcf83",
   "metadata": {},
   "source": [
    "Edit the class defintion to add an instance attribute of is_hungry = True to the Dog class. Then add a method called eat() which changes the value of is_hungry to False when called. Figure out the best way to feed each dog and then output “My dogs are hungry.” if all are hungry or “My dogs are not hungry.” if all are not hungry. The final output should look like this:"
   ]
  },
  {
   "cell_type": "markdown",
   "id": "a51be162",
   "metadata": {},
   "source": [
    "I have 3 dogs. \n",
    "Tom is 6. \n",
    "Fletcher is 7. \n",
    "Larry is 9. \n",
    "And they're all mammals, of course. \n",
    "My dogs are not hungry."
   ]
  },
  {
   "cell_type": "code",
   "execution_count": 82,
   "id": "74397acd",
   "metadata": {},
   "outputs": [
    {
     "name": "stdout",
     "output_type": "stream",
     "text": [
      "I have 3 dogs\n",
      "Tom is 6\n",
      "Fletcher is 7\n",
      "Larry is 9\n",
      "And they are all mammals, of course\n",
      "My dogs are not hungry.\n"
     ]
    }
   ],
   "source": [
    "class Dog:\n",
    "\n",
    "    # Class attribute\n",
    "    species = 'mammal'\n",
    "    is_hungry = True # defining a new attribute\n",
    "\n",
    "\n",
    "    # Initializer / Instance attributes\n",
    "    def __init__(self, name, age):\n",
    "        self.name = name\n",
    "        self.age = age\n",
    "\n",
    "    # instance method\n",
    "    def description(self):\n",
    "        return \"{} is {} years old\".format(self.name, self.age)\n",
    "\n",
    "    # instance method\n",
    "    def speak(self, sound):\n",
    "        return \"{} says {}\".format(self.name, sound)\n",
    "    \n",
    "    def eat(self): #function that changes the value of the attribute is_hungry\n",
    "        self.is_hungry = False\n",
    "        return self.is_hungry\n",
    "         \n",
    "        \n",
    "\n",
    "# Child class (inherits from Dog class)\n",
    "class RussellTerrier(Dog):\n",
    "    def run(self, speed):\n",
    "        return \"{} runs {}\".format(self.name, speed)\n",
    "\n",
    "# Child class (inherits from Dog class)\n",
    "class Bulldog(Dog):\n",
    "    def run(self, speed):\n",
    "        return \"{} runs {}\".format(self.name, speed)\n",
    "\n",
    "\n",
    "tom=Dog('Tom',6) #definition of the objects from Dog class\n",
    "fletcher=Dog('Fletcher',7)\n",
    "larry=Dog('Larry',9)\n",
    "dogs=[tom,fletcher,larry] #definition of a list of the objects\n",
    "\n",
    "dogs_hunger=[i.is_hungry for i in dogs] # definition of lists of the objects attributes\n",
    "dogs_species=[i.species for i in dogs]\n",
    "\n",
    "\n",
    "print(f'I have {len(dogs)} dogs') #result\n",
    "\n",
    "for i in dogs:print(f'{i.name} is {i.age}') # for loop for printing the name and the age of the dogs\n",
    "\n",
    "if dogs_species==['mammal'for i in range(len(dogs))]: #if loop to check dogs species\n",
    "    print('And they are all mammals, of course') #result\n",
    "\n",
    "dogs_hunger=[Dog.eat(i) for i in dogs] # change of the objects attribute value\n",
    "\n",
    "if dogs_hunger==[True for i in range(len(dogs))]: #if loop to check if dogs are hungry or not\n",
    "    print('My dogs are hungry.') #possible result\n",
    "elif dogs_hunger[:]==[False for i in range(len(dogs))]:\n",
    "    print('My dogs are not hungry.') #possible result\n",
    "        \n",
    "\n"
   ]
  },
  {
   "cell_type": "markdown",
   "id": "e4eed17f",
   "metadata": {},
   "source": [
    "### explanation of the solution\n"
   ]
  },
  {
   "cell_type": "markdown",
   "id": "c10278a6",
   "metadata": {},
   "source": [
    "The creation of the new attribute and of the eat() function follows from the properties of the $classes$. \n",
    "\n",
    "The foundamental idea behind the program is to create a list of the objects(in this case tom, fletcher and larry) in order to have create list of the needed attributes (or of the needed variables and function objects). From that lists is it possible to print the number of dogs, their names and age and to check if the attributes respect the conditions and then print the outputs"
   ]
  }
 ],
 "metadata": {
  "kernelspec": {
   "display_name": "Python 3",
   "language": "python",
   "name": "python3"
  },
  "language_info": {
   "codemirror_mode": {
    "name": "ipython",
    "version": 3
   },
   "file_extension": ".py",
   "mimetype": "text/x-python",
   "name": "python",
   "nbconvert_exporter": "python",
   "pygments_lexer": "ipython3",
   "version": "3.8.8"
  }
 },
 "nbformat": 4,
 "nbformat_minor": 5
}
