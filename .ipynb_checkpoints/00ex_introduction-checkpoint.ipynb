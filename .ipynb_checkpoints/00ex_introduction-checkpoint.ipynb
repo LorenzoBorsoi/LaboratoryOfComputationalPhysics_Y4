{
 "cells": [
  {
   "cell_type": "markdown",
   "metadata": {},
   "source": [
    "1. The MickeyMouse problem\n",
    "\n",
    "a) Write a program that prints the numbers from 1 to 100. But for multiples of three print Mickey instead of the number and for the multiples of five print Mouse. For numbers which are multiples of both three and five print MickeyMouse\n",
    "\n",
    "b) Put the result in a tuple and substitute Mickey with Donald and Mouse with Duck"
   ]
  },
  {
   "cell_type": "code",
   "execution_count": 1,
   "metadata": {},
   "outputs": [],
   "source": [
    "import numpy as np"
   ]
  },
  {
   "cell_type": "code",
   "execution_count": 11,
   "metadata": {},
   "outputs": [
    {
     "name": "stdout",
     "output_type": "stream",
     "text": [
      "MickeyMouse\n",
      "1\n",
      "2\n",
      "Mickey\n",
      "4\n",
      "Mouse\n",
      "Mickey\n",
      "7\n",
      "8\n",
      "Mickey\n",
      "Mouse\n",
      "11\n",
      "Mickey\n",
      "13\n",
      "14\n",
      "MickeyMouse\n",
      "16\n",
      "17\n",
      "Mickey\n",
      "19\n",
      "Mouse\n",
      "Mickey\n",
      "22\n",
      "23\n",
      "Mickey\n",
      "Mouse\n",
      "26\n",
      "Mickey\n",
      "28\n",
      "29\n",
      "MickeyMouse\n",
      "31\n",
      "32\n",
      "Mickey\n",
      "34\n",
      "Mouse\n",
      "Mickey\n",
      "37\n",
      "38\n",
      "Mickey\n",
      "Mouse\n",
      "41\n",
      "Mickey\n",
      "43\n",
      "44\n",
      "MickeyMouse\n",
      "46\n",
      "47\n",
      "Mickey\n",
      "49\n",
      "Mouse\n",
      "Mickey\n",
      "52\n",
      "53\n",
      "Mickey\n",
      "Mouse\n",
      "56\n",
      "Mickey\n",
      "58\n",
      "59\n",
      "MickeyMouse\n",
      "61\n",
      "62\n",
      "Mickey\n",
      "64\n",
      "Mouse\n",
      "Mickey\n",
      "67\n",
      "68\n",
      "Mickey\n",
      "Mouse\n",
      "71\n",
      "Mickey\n",
      "73\n",
      "74\n",
      "MickeyMouse\n",
      "76\n",
      "77\n",
      "Mickey\n",
      "79\n",
      "Mouse\n",
      "Mickey\n",
      "82\n",
      "83\n",
      "Mickey\n",
      "Mouse\n",
      "86\n",
      "Mickey\n",
      "88\n",
      "89\n",
      "MickeyMouse\n",
      "91\n",
      "92\n",
      "Mickey\n",
      "94\n",
      "Mouse\n",
      "Mickey\n",
      "97\n",
      "98\n",
      "Mickey\n"
     ]
    }
   ],
   "source": [
    "#a\n",
    "l=[]\n",
    "for i in range(100): \n",
    "    if i%3==0: \n",
    "        if i%5==0: l.append(\"MickeyMouse\")\n",
    "        else: l.append(\"Mickey\")\n",
    "    elif i%5==0: l.append(\"Mouse\")   \n",
    "    else: l.append(i)\n",
    "    print(l[i])\n",
    "t=tuple(l)\n",
    "#you can't substitute items in a tuple"
   ]
  },
  {
   "cell_type": "markdown",
   "metadata": {},
   "source": [
    "2\\. The swap function\n",
    "\n",
    "Write a function that swap the values of two input variables x and y (whatever the type). Try to do that also without a temporary variable"
   ]
  },
  {
   "cell_type": "code",
   "execution_count": 14,
   "metadata": {},
   "outputs": [
    {
     "name": "stdout",
     "output_type": "stream",
     "text": [
      "7 5\n"
     ]
    },
    {
     "data": {
      "text/plain": [
       "140735858188880"
      ]
     },
     "execution_count": 14,
     "metadata": {},
     "output_type": "execute_result"
    }
   ],
   "source": [
    "def f(x,y):\n",
    "    temp=x; x=y; y=temp\n",
    "    return x,y\n",
    "\n",
    "a=5; b=7\n",
    "a,b= f(a,b)\n",
    "print(a,b)\n",
    "\n",
    "\n",
    "#without a temp variable\n",
    "def g(x,y):\n",
    "#pointers?"
   ]
  },
  {
   "cell_type": "markdown",
   "metadata": {},
   "source": [
    "3\\. Computing the distance\n",
    "\n",
    "Write a function that calculates and returns the euclidean distance between two points *u* and *v*, where *u* and *v* are both 2-tuples *(x,y)*. For example, if *u=(3,0)* and *v=(0,4)*, the function should return 5"
   ]
  },
  {
   "cell_type": "code",
   "execution_count": 16,
   "metadata": {},
   "outputs": [
    {
     "name": "stdout",
     "output_type": "stream",
     "text": [
      "5.0\n"
     ]
    }
   ],
   "source": [
    "def distance(u,v):\n",
    "    d=0\n",
    "    for i in range(len(u)):\n",
    "        d+=(u[i]-v[i])**2\n",
    "    return d**0.5\n",
    "\n",
    "u=(3,0); v=(0,4)\n",
    "print(distance(u,v))"
   ]
  },
  {
   "cell_type": "markdown",
   "metadata": {},
   "source": [
    "4\\. Counting letters\n",
    "\n",
    "Write a program to calculate the number of times each character occurs in a given string *s*. Ignore differneces in capitalization"
   ]
  },
  {
   "cell_type": "code",
   "execution_count": 18,
   "metadata": {},
   "outputs": [],
   "source": [
    "s=\"Write a program that prints the numbers from 1 to 100. \\\n",
    "But for multiples of three print Mickey instead of the number and for the multiples of five print Mouse. \\\n",
    "For numbers which are multiples of both three and five print MickeyMouse\""
   ]
  },
  {
   "cell_type": "code",
   "execution_count": 22,
   "metadata": {},
   "outputs": [
    {
     "data": {
      "text/plain": [
       "'write a program that prints the numbers from 1 to 100. but for multiples of three print mickey instead of the number and for the multiples of five print mouse. for numbers which are multiples of both three and five print mickeymouse'"
      ]
     },
     "execution_count": 22,
     "metadata": {},
     "output_type": "execute_result"
    }
   ],
   "source": [
    "s=s.lower()\n",
    "#to be continued"
   ]
  },
  {
   "cell_type": "markdown",
   "metadata": {},
   "source": [
    "5\\. Isolating the unique\n",
    "\n",
    "Write a function that determines and count the unique numbers in the list *l*"
   ]
  },
  {
   "cell_type": "code",
   "execution_count": 28,
   "metadata": {},
   "outputs": [],
   "source": [
    "l = [36, 45, 58, 3, 74, 96, 64, 45, 31, 10, 24, 19, 33, 86, 99, 18, 63, 70, 85,\n",
    " 85, 63, 47, 56, 42, 70, 84, 88, 55, 20, 54, 8, 56, 51, 79, 81, 57, 37, 91,\n",
    " 1, 84, 84, 36, 66, 9, 89, 50, 42, 91, 50, 95, 90, 98, 39, 16, 82, 31, 92, 41,\n",
    " 45, 30, 66, 70, 34, 85, 94, 5, 3, 36, 72, 91, 84, 34, 87, 75, 53, 51, 20, 89, 51, 20]"
   ]
  },
  {
   "cell_type": "code",
   "execution_count": 35,
   "metadata": {},
   "outputs": [
    {
     "name": "stdout",
     "output_type": "stream",
     "text": [
      "[0, 2, 4, 6, 7, 11, 12, 13, 14, 15, 17, 21, 22, 23, 25, 26, 27, 28, 29, 32, 35, 38, 40, 43, 44, 46, 48, 49, 52, 59, 60, 61, 62, 65, 67, 68, 69, 71, 73, 76, 77, 78, 80, 83, 93, 97] 46\n"
     ]
    }
   ],
   "source": [
    "def unique(l):\n",
    "    counter=[]; u=[]\n",
    "    for i in range(max(l)):\n",
    "        a=0\n",
    "        for j in range(len(l)):\n",
    "            if l[j]==i: a+=1\n",
    "        counter.append(a)\n",
    "        if a==0: u.append(i)\n",
    "    return u, len(u)  \n",
    "\n",
    "numbers, count = unique(l)\n",
    "print(numbers, count)"
   ]
  },
  {
   "cell_type": "markdown",
   "metadata": {},
   "source": [
    "6\\. Combination of functions\n",
    "\n",
    "Write two functions - one that returns the square of a number, and one that returns the cube. Now write a third function that returns the number raised to the 6th power using the two previous functions."
   ]
  },
  {
   "cell_type": "code",
   "execution_count": 38,
   "metadata": {},
   "outputs": [
    {
     "name": "stdout",
     "output_type": "stream",
     "text": [
      "64\n"
     ]
    }
   ],
   "source": [
    "def square(x):\n",
    "    return x**2\n",
    "def cube(x):\n",
    "    return x**3\n",
    "\n",
    "def sixthpow(x):\n",
    "    return cube(square(x))\n",
    "\n",
    "print(sixthpow(2))"
   ]
  },
  {
   "cell_type": "markdown",
   "metadata": {},
   "source": [
    "7\\. Cubes\n",
    "\n",
    "Create a list of the cubes of x for x in *[0, 10]* using:\n",
    "\n",
    "a) a for loop\n",
    "\n",
    "b) a list comprehension"
   ]
  },
  {
   "cell_type": "code",
   "execution_count": 42,
   "metadata": {},
   "outputs": [
    {
     "data": {
      "text/plain": [
       "[0, 1, 8, 27, 64, 125, 216, 343, 512, 729]"
      ]
     },
     "execution_count": 42,
     "metadata": {},
     "output_type": "execute_result"
    }
   ],
   "source": [
    "#\n",
    "a=[]\n",
    "for i in range(10):\n",
    "    a.append(cube(i))\n",
    "    \n",
    "b=[cube(x) for x in range(10)]\n"
   ]
  },
  {
   "cell_type": "markdown",
   "metadata": {},
   "source": [
    "8\\. Nested list comprehension\n",
    "\n",
    "A Pythagorean triple is an integer solution to the Pythagorean theorem $a^2+b^2=c^2$. The first Pythagorean triple is (3,4,5). Find and put in a tuple all unique Pythagorean triples for the positive integers a, b and c less than 100."
   ]
  },
  {
   "cell_type": "code",
   "execution_count": 46,
   "metadata": {},
   "outputs": [
    {
     "data": {
      "text/plain": [
       "[(0, 0, 0),\n",
       " (0, 1, 1),\n",
       " (0, 2, 2),\n",
       " (0, 3, 3),\n",
       " (0, 4, 4),\n",
       " (0, 5, 5),\n",
       " (0, 6, 6),\n",
       " (0, 7, 7),\n",
       " (0, 8, 8),\n",
       " (0, 9, 9),\n",
       " (0, 10, 10),\n",
       " (0, 11, 11),\n",
       " (0, 12, 12),\n",
       " (0, 13, 13),\n",
       " (0, 14, 14),\n",
       " (0, 15, 15),\n",
       " (0, 16, 16),\n",
       " (0, 17, 17),\n",
       " (0, 18, 18),\n",
       " (0, 19, 19),\n",
       " (0, 20, 20),\n",
       " (0, 21, 21),\n",
       " (0, 22, 22),\n",
       " (0, 23, 23),\n",
       " (0, 24, 24),\n",
       " (0, 25, 25),\n",
       " (0, 26, 26),\n",
       " (0, 27, 27),\n",
       " (0, 28, 28),\n",
       " (0, 29, 29),\n",
       " (0, 30, 30),\n",
       " (0, 31, 31),\n",
       " (0, 32, 32),\n",
       " (0, 33, 33),\n",
       " (0, 34, 34),\n",
       " (0, 35, 35),\n",
       " (0, 36, 36),\n",
       " (0, 37, 37),\n",
       " (0, 38, 38),\n",
       " (0, 39, 39),\n",
       " (0, 40, 40),\n",
       " (0, 41, 41),\n",
       " (0, 42, 42),\n",
       " (0, 43, 43),\n",
       " (0, 44, 44),\n",
       " (0, 45, 45),\n",
       " (0, 46, 46),\n",
       " (0, 47, 47),\n",
       " (0, 48, 48),\n",
       " (0, 49, 49),\n",
       " (0, 50, 50),\n",
       " (0, 51, 51),\n",
       " (0, 52, 52),\n",
       " (0, 53, 53),\n",
       " (0, 54, 54),\n",
       " (0, 55, 55),\n",
       " (0, 56, 56),\n",
       " (0, 57, 57),\n",
       " (0, 58, 58),\n",
       " (0, 59, 59),\n",
       " (0, 60, 60),\n",
       " (0, 61, 61),\n",
       " (0, 62, 62),\n",
       " (0, 63, 63),\n",
       " (0, 64, 64),\n",
       " (0, 65, 65),\n",
       " (0, 66, 66),\n",
       " (0, 67, 67),\n",
       " (0, 68, 68),\n",
       " (0, 69, 69),\n",
       " (0, 70, 70),\n",
       " (0, 71, 71),\n",
       " (0, 72, 72),\n",
       " (0, 73, 73),\n",
       " (0, 74, 74),\n",
       " (0, 75, 75),\n",
       " (0, 76, 76),\n",
       " (0, 77, 77),\n",
       " (0, 78, 78),\n",
       " (0, 79, 79),\n",
       " (0, 80, 80),\n",
       " (0, 81, 81),\n",
       " (0, 82, 82),\n",
       " (0, 83, 83),\n",
       " (0, 84, 84),\n",
       " (0, 85, 85),\n",
       " (0, 86, 86),\n",
       " (0, 87, 87),\n",
       " (0, 88, 88),\n",
       " (0, 89, 89),\n",
       " (0, 90, 90),\n",
       " (0, 91, 91),\n",
       " (0, 92, 92),\n",
       " (0, 93, 93),\n",
       " (0, 94, 94),\n",
       " (0, 95, 95),\n",
       " (0, 96, 96),\n",
       " (0, 97, 97),\n",
       " (0, 98, 98),\n",
       " (0, 99, 99),\n",
       " (1, 0, 1),\n",
       " (2, 0, 2),\n",
       " (3, 0, 3),\n",
       " (3, 4, 5),\n",
       " (4, 0, 4),\n",
       " (4, 3, 5),\n",
       " (5, 0, 5),\n",
       " (5, 12, 13),\n",
       " (6, 0, 6),\n",
       " (6, 8, 10),\n",
       " (7, 0, 7),\n",
       " (7, 24, 25),\n",
       " (8, 0, 8),\n",
       " (8, 6, 10),\n",
       " (8, 15, 17),\n",
       " (9, 0, 9),\n",
       " (9, 12, 15),\n",
       " (9, 40, 41),\n",
       " (10, 0, 10),\n",
       " (10, 24, 26),\n",
       " (11, 0, 11),\n",
       " (11, 60, 61),\n",
       " (12, 0, 12),\n",
       " (12, 5, 13),\n",
       " (12, 9, 15),\n",
       " (12, 16, 20),\n",
       " (12, 35, 37),\n",
       " (13, 0, 13),\n",
       " (13, 84, 85),\n",
       " (14, 0, 14),\n",
       " (14, 48, 50),\n",
       " (15, 0, 15),\n",
       " (15, 8, 17),\n",
       " (15, 20, 25),\n",
       " (15, 36, 39),\n",
       " (16, 0, 16),\n",
       " (16, 12, 20),\n",
       " (16, 30, 34),\n",
       " (16, 63, 65),\n",
       " (17, 0, 17),\n",
       " (18, 0, 18),\n",
       " (18, 24, 30),\n",
       " (18, 80, 82),\n",
       " (19, 0, 19),\n",
       " (20, 0, 20),\n",
       " (20, 15, 25),\n",
       " (20, 21, 29),\n",
       " (20, 48, 52),\n",
       " (21, 0, 21),\n",
       " (21, 20, 29),\n",
       " (21, 28, 35),\n",
       " (21, 72, 75),\n",
       " (22, 0, 22),\n",
       " (23, 0, 23),\n",
       " (24, 0, 24),\n",
       " (24, 7, 25),\n",
       " (24, 10, 26),\n",
       " (24, 18, 30),\n",
       " (24, 32, 40),\n",
       " (24, 45, 51),\n",
       " (24, 70, 74),\n",
       " (25, 0, 25),\n",
       " (25, 60, 65),\n",
       " (26, 0, 26),\n",
       " (27, 0, 27),\n",
       " (27, 36, 45),\n",
       " (28, 0, 28),\n",
       " (28, 21, 35),\n",
       " (28, 45, 53),\n",
       " (29, 0, 29),\n",
       " (30, 0, 30),\n",
       " (30, 16, 34),\n",
       " (30, 40, 50),\n",
       " (30, 72, 78),\n",
       " (31, 0, 31),\n",
       " (32, 0, 32),\n",
       " (32, 24, 40),\n",
       " (32, 60, 68),\n",
       " (33, 0, 33),\n",
       " (33, 44, 55),\n",
       " (33, 56, 65),\n",
       " (34, 0, 34),\n",
       " (35, 0, 35),\n",
       " (35, 12, 37),\n",
       " (35, 84, 91),\n",
       " (36, 0, 36),\n",
       " (36, 15, 39),\n",
       " (36, 27, 45),\n",
       " (36, 48, 60),\n",
       " (36, 77, 85),\n",
       " (37, 0, 37),\n",
       " (38, 0, 38),\n",
       " (39, 0, 39),\n",
       " (39, 52, 65),\n",
       " (39, 80, 89),\n",
       " (40, 0, 40),\n",
       " (40, 9, 41),\n",
       " (40, 30, 50),\n",
       " (40, 42, 58),\n",
       " (40, 75, 85),\n",
       " (41, 0, 41),\n",
       " (42, 0, 42),\n",
       " (42, 40, 58),\n",
       " (42, 56, 70),\n",
       " (43, 0, 43),\n",
       " (44, 0, 44),\n",
       " (44, 33, 55),\n",
       " (45, 0, 45),\n",
       " (45, 24, 51),\n",
       " (45, 28, 53),\n",
       " (45, 60, 75),\n",
       " (46, 0, 46),\n",
       " (47, 0, 47),\n",
       " (48, 0, 48),\n",
       " (48, 14, 50),\n",
       " (48, 20, 52),\n",
       " (48, 36, 60),\n",
       " (48, 55, 73),\n",
       " (48, 64, 80),\n",
       " (49, 0, 49),\n",
       " (50, 0, 50),\n",
       " (51, 0, 51),\n",
       " (51, 68, 85),\n",
       " (52, 0, 52),\n",
       " (52, 39, 65),\n",
       " (53, 0, 53),\n",
       " (54, 0, 54),\n",
       " (54, 72, 90),\n",
       " (55, 0, 55),\n",
       " (55, 48, 73),\n",
       " (56, 0, 56),\n",
       " (56, 33, 65),\n",
       " (56, 42, 70),\n",
       " (57, 0, 57),\n",
       " (57, 76, 95),\n",
       " (58, 0, 58),\n",
       " (59, 0, 59),\n",
       " (60, 0, 60),\n",
       " (60, 11, 61),\n",
       " (60, 25, 65),\n",
       " (60, 32, 68),\n",
       " (60, 45, 75),\n",
       " (60, 63, 87),\n",
       " (61, 0, 61),\n",
       " (62, 0, 62),\n",
       " (63, 0, 63),\n",
       " (63, 16, 65),\n",
       " (63, 60, 87),\n",
       " (64, 0, 64),\n",
       " (64, 48, 80),\n",
       " (65, 0, 65),\n",
       " (65, 72, 97),\n",
       " (66, 0, 66),\n",
       " (67, 0, 67),\n",
       " (68, 0, 68),\n",
       " (68, 51, 85),\n",
       " (69, 0, 69),\n",
       " (70, 0, 70),\n",
       " (70, 24, 74),\n",
       " (71, 0, 71),\n",
       " (72, 0, 72),\n",
       " (72, 21, 75),\n",
       " (72, 30, 78),\n",
       " (72, 54, 90),\n",
       " (72, 65, 97),\n",
       " (73, 0, 73),\n",
       " (74, 0, 74),\n",
       " (75, 0, 75),\n",
       " (75, 40, 85),\n",
       " (76, 0, 76),\n",
       " (76, 57, 95),\n",
       " (77, 0, 77),\n",
       " (77, 36, 85),\n",
       " (78, 0, 78),\n",
       " (79, 0, 79),\n",
       " (80, 0, 80),\n",
       " (80, 18, 82),\n",
       " (80, 39, 89),\n",
       " (81, 0, 81),\n",
       " (82, 0, 82),\n",
       " (83, 0, 83),\n",
       " (84, 0, 84),\n",
       " (84, 13, 85),\n",
       " (84, 35, 91),\n",
       " (85, 0, 85),\n",
       " (86, 0, 86),\n",
       " (87, 0, 87),\n",
       " (88, 0, 88),\n",
       " (89, 0, 89),\n",
       " (90, 0, 90),\n",
       " (91, 0, 91),\n",
       " (92, 0, 92),\n",
       " (93, 0, 93),\n",
       " (94, 0, 94),\n",
       " (95, 0, 95),\n",
       " (96, 0, 96),\n",
       " (97, 0, 97),\n",
       " (98, 0, 98),\n",
       " (99, 0, 99)]"
      ]
     },
     "execution_count": 46,
     "metadata": {},
     "output_type": "execute_result"
    }
   ],
   "source": [
    "x=[]\n",
    "for a in range(100):\n",
    "    for b in range(100):\n",
    "        for c in range (100):\n",
    "            if (square(a)+square(b)-square(c))==0:\n",
    "                x.append((a,b,c))\n",
    "x"
   ]
  },
  {
   "cell_type": "markdown",
   "metadata": {},
   "source": [
    "9\\. Normalization\n",
    "\n",
    "Write a function that takes a tuple of numbers and returns it with the entries normalized to one"
   ]
  },
  {
   "cell_type": "code",
   "execution_count": 52,
   "metadata": {},
   "outputs": [],
   "source": [
    "def norm(x):\n",
    "    n=0\n",
    "    for i in range(len(x)): n+=square(x[i])\n",
    "    return \n",
    "a=(1,2)\n",
    "n"
   ]
  },
  {
   "cell_type": "code",
   "execution_count": 48,
   "metadata": {},
   "outputs": [
    {
     "ename": "TypeError",
     "evalue": "unsupported operand type(s) for ** or pow(): 'list' and 'int'",
     "output_type": "error",
     "traceback": [
      "\u001b[1;31m---------------------------------------------------------------------------\u001b[0m",
      "\u001b[1;31mTypeError\u001b[0m                                 Traceback (most recent call last)",
      "\u001b[1;32m<ipython-input-48-e66859609adc>\u001b[0m in \u001b[0;36m<module>\u001b[1;34m\u001b[0m\n\u001b[0;32m      1\u001b[0m \u001b[0ma\u001b[0m\u001b[1;33m=\u001b[0m\u001b[1;33m[\u001b[0m\u001b[1;36m2\u001b[0m\u001b[1;33m,\u001b[0m\u001b[1;36m4\u001b[0m\u001b[1;33m]\u001b[0m\u001b[1;33m\u001b[0m\u001b[1;33m\u001b[0m\u001b[0m\n\u001b[1;32m----> 2\u001b[1;33m \u001b[0msquare\u001b[0m\u001b[1;33m(\u001b[0m\u001b[0ma\u001b[0m\u001b[1;33m)\u001b[0m\u001b[1;33m\u001b[0m\u001b[1;33m\u001b[0m\u001b[0m\n\u001b[0m",
      "\u001b[1;32m<ipython-input-38-1211e2719066>\u001b[0m in \u001b[0;36msquare\u001b[1;34m(x)\u001b[0m\n\u001b[0;32m      1\u001b[0m \u001b[1;32mdef\u001b[0m \u001b[0msquare\u001b[0m\u001b[1;33m(\u001b[0m\u001b[0mx\u001b[0m\u001b[1;33m)\u001b[0m\u001b[1;33m:\u001b[0m\u001b[1;33m\u001b[0m\u001b[1;33m\u001b[0m\u001b[0m\n\u001b[1;32m----> 2\u001b[1;33m     \u001b[1;32mreturn\u001b[0m \u001b[0mx\u001b[0m\u001b[1;33m**\u001b[0m\u001b[1;36m2\u001b[0m\u001b[1;33m\u001b[0m\u001b[1;33m\u001b[0m\u001b[0m\n\u001b[0m\u001b[0;32m      3\u001b[0m \u001b[1;32mdef\u001b[0m \u001b[0mcube\u001b[0m\u001b[1;33m(\u001b[0m\u001b[0mx\u001b[0m\u001b[1;33m)\u001b[0m\u001b[1;33m:\u001b[0m\u001b[1;33m\u001b[0m\u001b[1;33m\u001b[0m\u001b[0m\n\u001b[0;32m      4\u001b[0m     \u001b[1;32mreturn\u001b[0m \u001b[0mx\u001b[0m\u001b[1;33m**\u001b[0m\u001b[1;36m3\u001b[0m\u001b[1;33m\u001b[0m\u001b[1;33m\u001b[0m\u001b[0m\n\u001b[0;32m      5\u001b[0m \u001b[1;33m\u001b[0m\u001b[0m\n",
      "\u001b[1;31mTypeError\u001b[0m: unsupported operand type(s) for ** or pow(): 'list' and 'int'"
     ]
    }
   ],
   "source": [
    "a=[2,4]\n",
    "square(a)"
   ]
  }
 ],
 "metadata": {
  "kernelspec": {
   "display_name": "Python 3",
   "language": "python",
   "name": "python3"
  },
  "language_info": {
   "codemirror_mode": {
    "name": "ipython",
    "version": 3
   },
   "file_extension": ".py",
   "mimetype": "text/x-python",
   "name": "python",
   "nbconvert_exporter": "python",
   "pygments_lexer": "ipython3",
   "version": "3.7.6"
  }
 },
 "nbformat": 4,
 "nbformat_minor": 2
}
