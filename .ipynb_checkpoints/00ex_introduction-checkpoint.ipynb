{
 "cells": [
  {
   "cell_type": "markdown",
   "metadata": {},
   "source": [
    "1. The MickeyMouse problem\n",
    "\n",
    "a) Write a program that prints the numbers from 1 to 100. But for multiples of three print Mickey instead of the number and for the multiples of five print Mouse. For numbers which are multiples of both three and five print MickeyMouse\n",
    "\n",
    "b) Put the result in a tuple and substitute Mickey with Donald and Mouse with Duck"
   ]
  },
  {
   "cell_type": "code",
   "execution_count": 11,
   "metadata": {},
   "outputs": [
    {
     "data": {
      "text/plain": [
       "(1,\n",
       " 2,\n",
       " 'Mickey',\n",
       " 4,\n",
       " 'Mouse',\n",
       " 'Mickey',\n",
       " 7,\n",
       " 8,\n",
       " 'Mickey',\n",
       " 'Mouse',\n",
       " 11,\n",
       " 'Mickey',\n",
       " 13,\n",
       " 14,\n",
       " 'MickeyMouse',\n",
       " 16,\n",
       " 17,\n",
       " 'Mickey',\n",
       " 19,\n",
       " 'Mouse',\n",
       " 'Mickey',\n",
       " 22,\n",
       " 23,\n",
       " 'Mickey',\n",
       " 'Mouse',\n",
       " 26,\n",
       " 'Mickey',\n",
       " 28,\n",
       " 29,\n",
       " 'MickeyMouse',\n",
       " 31,\n",
       " 32,\n",
       " 'Mickey',\n",
       " 34,\n",
       " 'Mouse',\n",
       " 'Mickey',\n",
       " 37,\n",
       " 38,\n",
       " 'Mickey',\n",
       " 'Mouse',\n",
       " 41,\n",
       " 'Mickey',\n",
       " 43,\n",
       " 44,\n",
       " 'MickeyMouse',\n",
       " 46,\n",
       " 47,\n",
       " 'Mickey',\n",
       " 49,\n",
       " 'Mouse',\n",
       " 'Mickey',\n",
       " 52,\n",
       " 53,\n",
       " 'Mickey',\n",
       " 'Mouse',\n",
       " 56,\n",
       " 'Mickey',\n",
       " 58,\n",
       " 59,\n",
       " 'MickeyMouse',\n",
       " 61,\n",
       " 62,\n",
       " 'Mickey',\n",
       " 64,\n",
       " 'Mouse',\n",
       " 'Mickey',\n",
       " 67,\n",
       " 68,\n",
       " 'Mickey',\n",
       " 'Mouse',\n",
       " 71,\n",
       " 'Mickey',\n",
       " 73,\n",
       " 74,\n",
       " 'MickeyMouse',\n",
       " 76,\n",
       " 77,\n",
       " 'Mickey',\n",
       " 79,\n",
       " 'Mouse',\n",
       " 'Mickey',\n",
       " 82,\n",
       " 83,\n",
       " 'Mickey',\n",
       " 'Mouse',\n",
       " 86,\n",
       " 'Mickey',\n",
       " 88,\n",
       " 89,\n",
       " 'MickeyMouse',\n",
       " 91,\n",
       " 92,\n",
       " 'Mickey',\n",
       " 94,\n",
       " 'Mouse',\n",
       " 'Mickey',\n",
       " 97,\n",
       " 98,\n",
       " 'Mickey',\n",
       " 'Mouse')"
      ]
     },
     "execution_count": 11,
     "metadata": {},
     "output_type": "execute_result"
    }
   ],
   "source": [
    "# a\n",
    "\n",
    "result = []\n",
    "for i in range(1, 101):\n",
    "    if i % 15 == 0:\n",
    "        result.append('MickeyMouse')\n",
    "    elif i % 3 == 0:\n",
    "        result.append('Mickey')\n",
    "    elif i % 5 == 0:\n",
    "        result.append('Mouse')\n",
    "    else:\n",
    "        result.append(i)\n",
    "result = tuple(result)\n",
    "\n",
    "# b\n",
    "for idx, x in enumerate(result):\n",
    "    if type(x) == str:\n",
    "        result[idx] = x.replace('Mickey', 'Donald').replace('Mouse', 'Duck')\n",
    "result"
   ]
  },
  {
   "cell_type": "markdown",
   "metadata": {},
   "source": [
    "2\\. The swap function\n",
    "\n",
    "Write a function that swap the values of two input variables x and y (whatever the type). Try to do that also without a temporary variable"
   ]
  },
  {
   "cell_type": "code",
   "execution_count": 2,
   "metadata": {},
   "outputs": [
    {
     "name": "stdout",
     "output_type": "stream",
     "text": [
      "foo\n",
      "1\n"
     ]
    }
   ],
   "source": [
    "def swap(x, y):\n",
    "    return y, x\n",
    "x = 1\n",
    "y = 'foo'\n",
    "x, y = swap(x, y)\n",
    "print(x)\n",
    "print(y)"
   ]
  },
  {
   "cell_type": "markdown",
   "metadata": {},
   "source": [
    "3. Computing the distance\n",
    "\n",
    "Write a function that calculates and returns the euclidean distance between two points *u* and *v*, where *u* and *v* are both 2-tuples *(x,y)*. For example, if *u=(3,0)* and *v=(0,4)*, the function should return 5"
   ]
  },
  {
   "cell_type": "code",
   "execution_count": 3,
   "metadata": {},
   "outputs": [
    {
     "data": {
      "text/plain": [
       "5.0"
      ]
     },
     "execution_count": 3,
     "metadata": {},
     "output_type": "execute_result"
    }
   ],
   "source": [
    "u = (3, 0)\n",
    "v = (0, 4)\n",
    "import math\n",
    "math.sqrt(((u[0] - v[0]) ** 2) + ((u[1] - v[1]) ** 2))"
   ]
  },
  {
   "cell_type": "markdown",
   "metadata": {},
   "source": [
    "4\\. Counting letters\n",
    "\n",
    "Write a program to calculate the number of times each character occurs in a given string *s*. Ignore differneces in capitalization"
   ]
  },
  {
   "cell_type": "code",
   "execution_count": 4,
   "metadata": {},
   "outputs": [
    {
     "ename": "NameError",
     "evalue": "name 's' is not defined",
     "output_type": "error",
     "traceback": [
      "\u001b[1;31m---------------------------------------------------------------------------\u001b[0m",
      "\u001b[1;31mNameError\u001b[0m                                 Traceback (most recent call last)",
      "\u001b[1;32m<ipython-input-4-961af886d0bf>\u001b[0m in \u001b[0;36m<module>\u001b[1;34m\u001b[0m\n\u001b[0;32m      1\u001b[0m \u001b[0mc_dict\u001b[0m \u001b[1;33m=\u001b[0m \u001b[1;33m{\u001b[0m\u001b[1;33m}\u001b[0m\u001b[1;33m\u001b[0m\u001b[1;33m\u001b[0m\u001b[0m\n\u001b[1;32m----> 2\u001b[1;33m \u001b[1;32mfor\u001b[0m \u001b[0mc\u001b[0m \u001b[1;32min\u001b[0m \u001b[0ms\u001b[0m\u001b[1;33m:\u001b[0m\u001b[1;33m\u001b[0m\u001b[1;33m\u001b[0m\u001b[0m\n\u001b[0m\u001b[0;32m      3\u001b[0m     \u001b[0mc\u001b[0m \u001b[1;33m=\u001b[0m \u001b[0mc\u001b[0m\u001b[1;33m.\u001b[0m\u001b[0mlower\u001b[0m\u001b[1;33m(\u001b[0m\u001b[1;33m)\u001b[0m\u001b[1;33m\u001b[0m\u001b[1;33m\u001b[0m\u001b[0m\n\u001b[0;32m      4\u001b[0m     \u001b[1;32mif\u001b[0m \u001b[0mc\u001b[0m \u001b[1;32min\u001b[0m \u001b[0mc_dict\u001b[0m\u001b[1;33m.\u001b[0m\u001b[0mkeys\u001b[0m\u001b[1;33m(\u001b[0m\u001b[1;33m)\u001b[0m\u001b[1;33m:\u001b[0m\u001b[1;33m\u001b[0m\u001b[1;33m\u001b[0m\u001b[0m\n\u001b[0;32m      5\u001b[0m         \u001b[0mc_dict\u001b[0m\u001b[1;33m[\u001b[0m\u001b[0mc\u001b[0m\u001b[1;33m]\u001b[0m \u001b[1;33m+=\u001b[0m \u001b[1;36m1\u001b[0m\u001b[1;33m\u001b[0m\u001b[1;33m\u001b[0m\u001b[0m\n",
      "\u001b[1;31mNameError\u001b[0m: name 's' is not defined"
     ]
    }
   ],
   "source": [
    "c_dict = {}\n",
    "for c in s:\n",
    "    c = c.lower()\n",
    "    if c in c_dict.keys():\n",
    "        c_dict[c] += 1\n",
    "    else:\n",
    "        c_dict[c] = 1\n",
    "c_dict"
   ]
  },
  {
   "cell_type": "code",
   "execution_count": null,
   "metadata": {},
   "outputs": [],
   "source": [
    "s=\"Write a program that prints the numbers from 1 to 100. \\\n",
    "But for multiples of three print Mickey instead of the number and for the multiples of five print Mouse. \\\n",
    "For numbers which are multiples of both three and five print MickeyMouse\""
   ]
  },
  {
   "cell_type": "markdown",
   "metadata": {},
   "source": [
    "5\\. Isolating the unique\n",
    "\n",
    "Write a function that determines and count the unique numbers in the list *l*"
   ]
  },
  {
   "cell_type": "code",
   "execution_count": null,
   "metadata": {},
   "outputs": [],
   "source": [
    "unique_numbers = []\n",
    "for number in l:\n",
    "    if l.count(number) == 1:\n",
    "        unique_numbers.append(number)\n",
    "unique_numbers"
   ]
  },
  {
   "cell_type": "code",
   "execution_count": null,
   "metadata": {},
   "outputs": [],
   "source": [
    "l = [36, 45, 58, 3, 74, 96, 64, 45, 31, 10, 24, 19, 33, 86, 99, 18, 63, 70, 85,\n",
    " 85, 63, 47, 56, 42, 70, 84, 88, 55, 20, 54, 8, 56, 51, 79, 81, 57, 37, 91,\n",
    " 1, 84, 84, 36, 66, 9, 89, 50, 42, 91, 50, 95, 90, 98, 39, 16, 82, 31, 92, 41,\n",
    " 45, 30, 66, 70, 34, 85, 94, 5, 3, 36, 72, 91, 84, 34, 87, 75, 53, 51, 20, 89, 51, 20]"
   ]
  },
  {
   "cell_type": "markdown",
   "metadata": {},
   "source": [
    "6\\. Combination of functions\n",
    "\n",
    "Write two functions - one that returns the square of a number, and one that returns the cube. Now write a third function that returns the number raised to the 6th power using the two previous functions."
   ]
  },
  {
   "cell_type": "code",
   "execution_count": null,
   "metadata": {},
   "outputs": [],
   "source": [
    "def my_square(x):\n",
    "    return x ** 2\n",
    "def my_cube(x):\n",
    "    return x ** 3\n",
    "def my_sixth_power(x):\n",
    "    return my_square(my_cube(x))\n",
    "print(my_sixth_power(2))"
   ]
  },
  {
   "cell_type": "markdown",
   "metadata": {},
   "source": [
    "7\\. Cubes\n",
    "\n",
    "Create a list of the cubes of x for x in *[0, 10]* using:\n",
    "\n",
    "a) a for loop\n",
    "\n",
    "b) a list comprehension"
   ]
  },
  {
   "cell_type": "code",
   "execution_count": null,
   "metadata": {},
   "outputs": [],
   "source": [
    "cubes = []\n",
    "for x in range(0, 11):\n",
    "    cubes.append(my_cube(x))\n"
   ]
  },
  {
   "cell_type": "code",
   "execution_count": null,
   "metadata": {},
   "outputs": [],
   "source": [
    "cubes_2 = [my_cube(x) for x in range(0, 11)]\n",
    "cubes_2"
   ]
  },
  {
   "cell_type": "code",
   "execution_count": null,
   "metadata": {},
   "outputs": [],
   "source": []
  },
  {
   "cell_type": "markdown",
   "metadata": {},
   "source": [
    "8\\. Nested list comprehension\n",
    "\n",
    "A Pythagorean triple is an integer solution to the Pythagorean theorem $a^2+b^2=c^2$. The first Pythagorean triple is (3,4,5). Find and put in a tuple all unique Pythagorean triples for the positive integers a, b and c less than 100."
   ]
  },
  {
   "cell_type": "code",
   "execution_count": null,
   "metadata": {},
   "outputs": [],
   "source": [
    "for a in range(1, 100):\n",
    "    for b in range(1, 100):\n",
    "        for c in range(1, 100):\n",
    "            if a ** 2 + b ** 2 == c ** 2:\n",
    "                print(a, b, c)"
   ]
  },
  {
   "cell_type": "markdown",
   "metadata": {},
   "source": [
    "9\\. Normalization\n",
    "\n",
    "Write a function that takes a tuple of numbers and returns it with the entries normalized to one"
   ]
  },
  {
   "cell_type": "code",
   "execution_count": null,
   "metadata": {},
   "outputs": [],
   "source": [
    "def normalize(tuple_of_numbers):\n",
    "    max_number = max(tuple_of_numbers)\n",
    "    return tuple([number / max_number for number in tuple_of_numbers])\n",
    "example_tuple = (2, 4, 5, 8, 10)\n",
    "normalize(example_tuple)"
   ]
  },
  {
   "cell_type": "code",
   "execution_count": null,
   "metadata": {},
   "outputs": [],
   "source": []
  }
 ],
 "metadata": {
  "kernelspec": {
   "display_name": "Python 3",
   "language": "python",
   "name": "python3"
  },
  "language_info": {
   "codemirror_mode": {
    "name": "ipython",
    "version": 3
   },
   "file_extension": ".py",
   "mimetype": "text/x-python",
   "name": "python",
   "nbconvert_exporter": "python",
   "pygments_lexer": "ipython3",
   "version": "3.8.8"
  }
 },
 "nbformat": 4,
 "nbformat_minor": 2
}
