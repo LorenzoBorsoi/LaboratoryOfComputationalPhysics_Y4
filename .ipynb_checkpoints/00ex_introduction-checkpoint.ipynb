{
 "cells": [
  {
   "cell_type": "markdown",
   "metadata": {},
   "source": [
    "1. The MickeyMouse problem\n",
    "\n",
    "a) Write a program that prints the numbers from 1 to 100. But for multiples of three print Mickey instead of the number and for the multiples of five print Mouse. For numbers which are multiples of both three and five print MickeyMouse\n",
    "\n",
    "b) Put the result in a tuple and substitute Mickey with Donald and Mouse with Duck"
   ]
  },
  {
   "cell_type": "code",
   "execution_count": 1,
   "metadata": {},
   "outputs": [
    {
     "name": "stdout",
     "output_type": "stream",
     "text": [
      "1\n",
      "2\n",
      "Mickey\n",
      "4\n",
      "Mouse\n",
      "Mickey\n",
      "7\n",
      "8\n",
      "Mickey\n",
      "Mouse\n",
      "11\n",
      "Mickey\n",
      "13\n",
      "14\n",
      "MickeyMouse\n",
      "16\n",
      "17\n",
      "Mickey\n",
      "19\n",
      "Mouse\n",
      "Mickey\n",
      "22\n",
      "23\n",
      "Mickey\n",
      "Mouse\n",
      "26\n",
      "Mickey\n",
      "28\n",
      "29\n",
      "MickeyMouse\n",
      "31\n",
      "32\n",
      "Mickey\n",
      "34\n",
      "Mouse\n",
      "Mickey\n",
      "37\n",
      "38\n",
      "Mickey\n",
      "Mouse\n",
      "41\n",
      "Mickey\n",
      "43\n",
      "44\n",
      "MickeyMouse\n",
      "46\n",
      "47\n",
      "Mickey\n",
      "49\n",
      "Mouse\n",
      "Mickey\n",
      "52\n",
      "53\n",
      "Mickey\n",
      "Mouse\n",
      "56\n",
      "Mickey\n",
      "58\n",
      "59\n",
      "MickeyMouse\n",
      "61\n",
      "62\n",
      "Mickey\n",
      "64\n",
      "Mouse\n",
      "Mickey\n",
      "67\n",
      "68\n",
      "Mickey\n",
      "Mouse\n",
      "71\n",
      "Mickey\n",
      "73\n",
      "74\n",
      "MickeyMouse\n",
      "76\n",
      "77\n",
      "Mickey\n",
      "79\n",
      "Mouse\n",
      "Mickey\n",
      "82\n",
      "83\n",
      "Mickey\n",
      "Mouse\n",
      "86\n",
      "Mickey\n",
      "88\n",
      "89\n",
      "MickeyMouse\n",
      "91\n",
      "92\n",
      "Mickey\n",
      "94\n",
      "Mouse\n",
      "Mickey\n",
      "97\n",
      "98\n",
      "Mickey\n",
      "Mouse\n",
      "('1', '2', 'Donald', '4', 'Duck', 'Donald', '7', '8', 'Donald', 'Duck', '11', 'Donald', '13', '14', 'DonaldDuck', '16', '17', 'Donald', '19', 'Duck', 'Donald', '22', '23', 'Donald', 'Duck', '26', 'Donald', '28', '29', 'DonaldDuck', '31', '32', 'Donald', '34', 'Duck', 'Donald', '37', '38', 'Donald', 'Duck', '41', 'Donald', '43', '44', 'DonaldDuck', '46', '47', 'Donald', '49', 'Duck', 'Donald', '52', '53', 'Donald', 'Duck', '56', 'Donald', '58', '59', 'DonaldDuck', '61', '62', 'Donald', '64', 'Duck', 'Donald', '67', '68', 'Donald', 'Duck', '71', 'Donald', '73', '74', 'DonaldDuck', '76', '77', 'Donald', '79', 'Duck', 'Donald', '82', '83', 'Donald', 'Duck', '86', 'Donald', '88', '89', 'DonaldDuck', '91', '92', 'Donald', '94', 'Duck', 'Donald', '97', '98', 'Donald', 'Duck')\n"
     ]
    }
   ],
   "source": [
    "#1a\n",
    "for i in range(1,101):\n",
    "    if i%3==0 and i%5==0:\n",
    "        print(\"MickeyMouse\")\n",
    "    elif i%3==0:\n",
    "        print(\"Mickey\")\n",
    "    elif i%5==0:\n",
    "        print(\"Mouse\")\n",
    "    else:\n",
    "        print(i)\n",
    "\n",
    "#1b\n",
    "a=()\n",
    "l=list(a)\n",
    "for i in range(1,101):\n",
    "    if i%3==0 and i%5==0:\n",
    "        l.insert(i,\"MickeyMouse\")\n",
    "    elif i%3==0:\n",
    "        l.insert(i,\"Mickey\")\n",
    "    elif i%5==0:\n",
    "        l.insert(i,\"Mouse\")\n",
    "    else:\n",
    "        l.insert(i,i)\n",
    "\n",
    "def subst(x):\n",
    "    import numpy as np\n",
    "    x=np.array(x)\n",
    "    x=np.where(x==\"Mickey\",\"Donald\",x)\n",
    "    x=np.where(x==\"Mouse\",\"Duck\",x)\n",
    "    x=np.where(x==\"MickeyMouse\",\"DonaldDuck\",x)\n",
    "    return x\n",
    "\n",
    "s=subst(l)\n",
    "t=tuple(s)\n",
    "print(t)"
   ]
  },
  {
   "cell_type": "markdown",
   "metadata": {},
   "source": [
    "2\\. The swap function\n",
    "\n",
    "Write a function that swap the values of two input variables x and y (whatever the type). Try to do that also without a temporary variable"
   ]
  },
  {
   "cell_type": "code",
   "execution_count": 2,
   "metadata": {},
   "outputs": [
    {
     "name": "stdout",
     "output_type": "stream",
     "text": [
      "4\n",
      "5\n",
      "swap_t:  ('5', '4')\n",
      "swap:  ('5', '4')\n"
     ]
    }
   ],
   "source": [
    "x=input()\n",
    "y=input()\n",
    "\n",
    "#with temporary value\n",
    "def swap_t(a,b):\n",
    "    t=a\n",
    "    a=b\n",
    "    b=t\n",
    "    return(a,b)\n",
    "\n",
    "#without temporary value\n",
    "def swap(a,b):\n",
    "    a,b=b,a\n",
    "    return(a,b)\n",
    "\n",
    "print(\"swap_t: \", swap_t(x,y))\n",
    "print(\"swap: \", swap(x,y))"
   ]
  },
  {
   "cell_type": "markdown",
   "metadata": {},
   "source": [
    "3\\. Computing the distance\n",
    "\n",
    "Write a function that calculates and returns the euclidean distance between two points *u* and *v*, where *u* and *v* are both 2-tuples *(x,y)*. For example, if *u=(3,0)* and *v=(0,4)*, the function should return 5"
   ]
  },
  {
   "cell_type": "code",
   "execution_count": 3,
   "metadata": {},
   "outputs": [
    {
     "name": "stdout",
     "output_type": "stream",
     "text": [
      "5.0\n"
     ]
    }
   ],
   "source": [
    "import math\n",
    "\n",
    "def dist(a,b):\n",
    "    i=0\n",
    "    s=0\n",
    "    while (i<len(a)):\n",
    "        s+=a[i]*a[i]+b[i]*b[i]\n",
    "        i+=1\n",
    "    return math.sqrt(s)\n",
    "\n",
    "u=(3,0)\n",
    "v=(0,4)\n",
    "print(dist(u,v))"
   ]
  },
  {
   "cell_type": "markdown",
   "metadata": {},
   "source": [
    "4\\. Counting letters\n",
    "\n",
    "Write a program to calculate the number of times each character occurs in a given string *s*. Ignore differneces in capitalization"
   ]
  },
  {
   "cell_type": "code",
   "execution_count": 4,
   "metadata": {},
   "outputs": [
    {
     "name": "stdout",
     "output_type": "stream",
     "text": [
      "w :  2\n",
      "r :  17\n",
      "i :  14\n",
      "t :  19\n",
      "e :  22\n",
      "  :  41\n",
      "a :  7\n",
      "p :  8\n",
      "o :  13\n",
      "g :  1\n",
      "m :  12\n",
      "h :  9\n",
      "n :  10\n",
      "s :  9\n",
      "u :  9\n",
      "b :  5\n",
      "f :  10\n",
      "1 :  2\n",
      "0 :  2\n",
      ". :  2\n",
      "l :  6\n",
      "c :  3\n",
      "k :  2\n",
      "y :  2\n",
      "d :  3\n",
      "v :  2\n"
     ]
    }
   ],
   "source": [
    "S=\"Write a program that prints the numbers from 1 to 100. \\\n",
    "But for multiples of three print Mickey instead of the number and for the multiples of five print Mouse. \\\n",
    "For numbers which are multiples of both three and five print MickeyMouse\"\n",
    "s=S.lower()\n",
    "\n",
    "l=list()\n",
    "n=list()\n",
    "\n",
    "for i in s:\n",
    "    if i not in l:\n",
    "        l.append(i)\n",
    "        n.append(s.count(i))\n",
    "\n",
    "for j,k in zip(l,n):\n",
    "    print(j,\": \",k)"
   ]
  },
  {
   "cell_type": "markdown",
   "metadata": {},
   "source": [
    "5\\. Isolating the unique\n",
    "\n",
    "Write a function that determines and count the unique numbers in the list *l*"
   ]
  },
  {
   "cell_type": "code",
   "execution_count": 5,
   "metadata": {},
   "outputs": [
    {
     "name": "stdout",
     "output_type": "stream",
     "text": [
      "there are 37 unique elements in l: \n",
      " [58, 74, 96, 64, 10, 24, 19, 33, 86, 99, 18, 47, 88, 55, 54, 8, 79, 81, 57, 37, 1, 9, 95, 90, 98, 39, 16, 82, 92, 41, 30, 94, 5, 72, 87, 75, 53]\n"
     ]
    }
   ],
   "source": [
    "l = [36, 45, 58, 3, 74, 96, 64, 45, 31, 10, 24, 19, 33, 86, 99, 18, 63, 70, 85,\n",
    " 85, 63, 47, 56, 42, 70, 84, 88, 55, 20, 54, 8, 56, 51, 79, 81, 57, 37, 91,\n",
    " 1, 84, 84, 36, 66, 9, 89, 50, 42, 91, 50, 95, 90, 98, 39, 16, 82, 31, 92, 41,\n",
    " 45, 30, 66, 70, 34, 85, 94, 5, 3, 36, 72, 91, 84, 34, 87, 75, 53, 51, 20, 89, 51, 20]\n",
    "\n",
    "def unique(lst):\n",
    "    u=[]\n",
    "    for x in lst:\n",
    "        if lst.count(x)==1:\n",
    "            u.append(x)\n",
    "    return u\n",
    "\n",
    "print(\"there are\", len(unique(l)), \"unique elements in l: \\n\", unique(l))"
   ]
  },
  {
   "cell_type": "markdown",
   "metadata": {},
   "source": [
    "6\\. Combination of functions\n",
    "\n",
    "Write two functions - one that returns the square of a number, and one that returns the cube. Now write a third function that returns the number raised to the 6th power using the two previous functions."
   ]
  },
  {
   "cell_type": "code",
   "execution_count": 6,
   "metadata": {},
   "outputs": [
    {
     "name": "stdout",
     "output_type": "stream",
     "text": [
      "square(cube(2)): 64\n",
      "pow6th(2): 64\n"
     ]
    }
   ],
   "source": [
    "def square(x):\n",
    "    return x*x\n",
    "\n",
    "def cube(x):\n",
    "    return x*x*x\n",
    "\n",
    "def pow6th(x):\n",
    "    return square(cube(x))\n",
    "\n",
    "print(\"square(cube(2)):\", square(cube(2)))\n",
    "print(\"pow6th(2):\", pow6th(2))"
   ]
  },
  {
   "cell_type": "markdown",
   "metadata": {},
   "source": [
    "7\\. Cubes\n",
    "\n",
    "Create a list of the cubes of x for x in *[0, 10]* using:\n",
    "\n",
    "a) a for loop\n",
    "\n",
    "b) a list comprehension"
   ]
  },
  {
   "cell_type": "code",
   "execution_count": 7,
   "metadata": {},
   "outputs": [
    {
     "name": "stdout",
     "output_type": "stream",
     "text": [
      "[0, 1, 8, 27, 64, 125, 216, 343, 512, 729, 1000]\n",
      "[0, 1, 8, 27, 64, 125, 216, 343, 512, 729, 1000]\n"
     ]
    }
   ],
   "source": [
    "#7a\n",
    "list_a=[]\n",
    "for i in range(0,11):\n",
    "    list_a.append(pow(i,3))\n",
    "print(list_a)\n",
    "\n",
    "#7b\n",
    "list_b=[x*x*x for x in range(0,11)]\n",
    "print(list_b)"
   ]
  },
  {
   "cell_type": "markdown",
   "metadata": {},
   "source": [
    "8\\. Nested list comprehension\n",
    "\n",
    "A Pythagorean triple is an integer solution to the Pythagorean theorem $a^2+b^2=c^2$. The first Pythagorean triple is (3,4,5). Find and put in a tuple all unique Pythagorean triples for the positive integers a, b and c less than 100."
   ]
  },
  {
   "cell_type": "code",
   "execution_count": 10,
   "metadata": {},
   "outputs": [
    {
     "name": "stdout",
     "output_type": "stream",
     "text": [
      "pythagorean triples:\n",
      "(3, 4, 5)\n",
      "(5, 12, 13)\n",
      "(7, 24, 25)\n",
      "(8, 15, 17)\n",
      "(9, 40, 41)\n",
      "(11, 60, 61)\n",
      "(12, 35, 37)\n",
      "(13, 84, 85)\n",
      "(16, 63, 65)\n",
      "(20, 21, 29)\n",
      "(28, 45, 53)\n",
      "(33, 56, 65)\n",
      "(36, 77, 85)\n",
      "(39, 80, 89)\n",
      "(48, 55, 73)\n",
      "(65, 72, 97)\n"
     ]
    }
   ],
   "source": [
    "def pytha(a,b,c):\n",
    "    return a*a+b*b==c*c\n",
    "\n",
    "def mult(ijk,tup):\n",
    "    for trip in tup:\n",
    "        if ijk[0]>trip[0] and ijk[0]/trip[0] == ijk[1]/trip[1] == ijk[2]/trip[2]:\n",
    "            return False\n",
    "    return True\n",
    "\n",
    "pyth_trip = [(i,j,k) for i in range (1,100) for j in range (i+1,100) for k in range (j+1,100) if pytha(i,j,k)]\n",
    "pyth_trip_no_mult = [trip for trip in pyth_trip if mult(trip,pyth_trip)]\n",
    "\n",
    "print(\"pythagorean triples:\")\n",
    "for pt in pyth_trip_no_mult:\n",
    "    print(pt)"
   ]
  },
  {
   "cell_type": "markdown",
   "metadata": {},
   "source": [
    "9\\. Normalization\n",
    "\n",
    "Write a function that takes a tuple of numbers and returns it with the entries normalized to one"
   ]
  },
  {
   "cell_type": "code",
   "execution_count": 11,
   "metadata": {},
   "outputs": [
    {
     "name": "stdout",
     "output_type": "stream",
     "text": [
      "0.25\n",
      "0.3333333333333333\n",
      "0.4166666666666667\n"
     ]
    }
   ],
   "source": [
    "tup=(3,4,5)\n",
    "\n",
    "def norm(t):\n",
    "    i=0\n",
    "    j=0\n",
    "    s=0\n",
    "    while (i<len(t)):\n",
    "        s+=t[i]\n",
    "        i+=1\n",
    "    while (j<len(t)):\n",
    "        print(t[j]/s)\n",
    "        j+=1\n",
    "           \n",
    "norm(tup)"
   ]
  },
  {
   "cell_type": "code",
   "execution_count": null,
   "metadata": {},
   "outputs": [],
   "source": []
  }
 ],
 "metadata": {
  "kernelspec": {
   "display_name": "Python 3",
   "language": "python",
   "name": "python3"
  },
  "language_info": {
   "codemirror_mode": {
    "name": "ipython",
    "version": 3
   },
   "file_extension": ".py",
   "mimetype": "text/x-python",
   "name": "python",
   "nbconvert_exporter": "python",
   "pygments_lexer": "ipython3",
   "version": "3.7.6"
  }
 },
 "nbformat": 4,
 "nbformat_minor": 4
}
