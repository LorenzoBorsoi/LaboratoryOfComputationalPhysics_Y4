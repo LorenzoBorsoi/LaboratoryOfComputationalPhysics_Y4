{
 "cells": [
  {
   "cell_type": "markdown",
   "metadata": {},
   "source": [
    "1. The MickeyMouse problem\n",
    "\n",
    "a) Write a program that prints the numbers from 1 to 100. But for multiples of three print Mickey instead of the number and for the multiples of five print Mouse. For numbers which are multiples of both three and five print MickeyMouse\n",
    "\n",
    "b) Put the result in a tuple and substitute Mickey with Donald and Mouse with Duck"
   ]
  },
  {
   "cell_type": "code",
   "execution_count": 1,
   "metadata": {},
   "outputs": [
    {
     "name": "stdout",
     "output_type": "stream",
     "text": [
      "['1', '2', 'Mickey', '4', 'Mouse', 'Mickey', '7', '8', 'Mickey', 'Mouse', '11', 'Mickey', '13', '14', 'MickeyMouse', '16', '17', 'Mickey', '19', 'Mouse', 'Mickey', '22', '23', 'Mickey', 'Mouse', '26', 'Mickey', '28', '29', 'MickeyMouse', '31', '32', 'Mickey', '34', 'Mouse', 'Mickey', '37', '38', 'Mickey', 'Mouse', '41', 'Mickey', '43', '44', 'MickeyMouse', '46', '47', 'Mickey', '49', 'Mouse', 'Mickey', '52', '53', 'Mickey', 'Mouse', '56', 'Mickey', '58', '59', 'MickeyMouse', '61', '62', 'Mickey', '64', 'Mouse', 'Mickey', '67', '68', 'Mickey', 'Mouse', '71', 'Mickey', '73', '74', 'MickeyMouse', '76', '77', 'Mickey', '79', 'Mouse', 'Mickey', '82', '83', 'Mickey', 'Mouse', '86', 'Mickey', '88', '89', 'MickeyMouse', '91', '92', 'Mickey', '94', 'Mouse', 'Mickey', '97', '98', 'Mickey', 'Mouse']\n",
      "('1', '2', 'Donald', '4', 'Duck', 'Donald', '7', '8', 'Donald', 'Duck', '11', 'Donald', '13', '14', 'DonaldDuck', '16', '17', 'Donald', '19', 'Duck', 'Donald', '22', '23', 'Donald', 'Duck', '26', 'Donald', '28', '29', 'DonaldDuck', '31', '32', 'Donald', '34', 'Duck', 'Donald', '37', '38', 'Donald', 'Duck', '41', 'Donald', '43', '44', 'DonaldDuck', '46', '47', 'Donald', '49', 'Duck', 'Donald', '52', '53', 'Donald', 'Duck', '56', 'Donald', '58', '59', 'DonaldDuck', '61', '62', 'Donald', '64', 'Duck', 'Donald', '67', '68', 'Donald', 'Duck', '71', 'Donald', '73', '74', 'DonaldDuck', '76', '77', 'Donald', '79', 'Duck', 'Donald', '82', '83', 'Donald', 'Duck', '86', 'Donald', '88', '89', 'DonaldDuck', '91', '92', 'Donald', '94', 'Duck', 'Donald', '97', '98', 'Donald', 'Duck')\n"
     ]
    }
   ],
   "source": [
    "a = []\n",
    "for i in range (1,101): # from 1 to 100\n",
    "    if (i%3==0) and (i%5==0):\n",
    "        a.append(\"MickeyMouse\")\n",
    "    elif (i%3==0):\n",
    "        a.append(\"Mickey\")\n",
    "    elif (i%5==0):\n",
    "        a.append(\"Mouse\")\n",
    "    else:\n",
    "        a.append(str(i))\n",
    "\n",
    "print(a)\n",
    "\n",
    "for i in range (0,len(a)):\n",
    "    if a[i] == \"Mickey\":\n",
    "        a[i] = \"Donald\"\n",
    "    elif a[i] == \"Mouse\":\n",
    "        a[i] = \"Duck\"\n",
    "    elif a[i] == \"MickeyMouse\":\n",
    "        a[i] = \"DonaldDuck\"\n",
    "\n",
    "b = tuple(a)\n",
    "print(b)"
   ]
  },
  {
   "cell_type": "markdown",
   "metadata": {},
   "source": [
    "2\\. The swap function\n",
    "\n",
    "Write a function that swap the values of two input variables x and y (whatever the type). Try to do that also without a temporary variable"
   ]
  },
  {
   "cell_type": "code",
   "execution_count": 2,
   "metadata": {},
   "outputs": [
    {
     "name": "stdout",
     "output_type": "stream",
     "text": [
      "4\n",
      "0\n",
      "['0', '4']\n"
     ]
    }
   ],
   "source": [
    "def swap1 (x, y): # swap function with temp variable\n",
    "    temp = x\n",
    "    x = y\n",
    "    y = temp\n",
    "    return x, y\n",
    "\n",
    "def swap2 (x, y): # swap function without temp variable\n",
    "    r = []\n",
    "    r.append(x)\n",
    "    r.append(y)\n",
    "    r.reverse()\n",
    "    return r\n",
    "\n",
    "a = input()\n",
    "b = input()\n",
    "c = swap2(a,b)\n",
    "print(c)"
   ]
  },
  {
   "cell_type": "markdown",
   "metadata": {},
   "source": [
    "3\\. Computing the distance\n",
    "\n",
    "Write a function that calculates and returns the euclidean distance between two points *u* and *v*, where *u* and *v* are both 2-tuples *(x,y)*. For example, if *u=(3,0)* and *v=(0,4)*, the function should return 5"
   ]
  },
  {
   "cell_type": "code",
   "execution_count": 3,
   "metadata": {},
   "outputs": [
    {
     "name": "stdout",
     "output_type": "stream",
     "text": [
      "insert u1:\n",
      "0\n",
      "insert u2:\n",
      "3\n",
      "insert v1:\n",
      "4\n",
      "insert v2:\n",
      "0\n",
      "the distance is:  5.0\n"
     ]
    }
   ],
   "source": [
    "from math import sqrt\n",
    "def distance (p1, p2):\n",
    "    dx = p1[0]-p2[0]\n",
    "    dy = p1[1]-p2[1]\n",
    "    r = sqrt(dx**2+dy**2)\n",
    "    return r\n",
    "\n",
    "print(\"insert u1:\")\n",
    "u1 = input()\n",
    "print(\"insert u2:\")\n",
    "u2 = input()\n",
    "print(\"insert v1:\")\n",
    "v1 = input()\n",
    "print(\"insert v2:\")\n",
    "v2 = input()\n",
    "u = (float(u1),float(u2)) # input gives string type\n",
    "v = (float(v1),float(v2))\n",
    "print(\"the distance is: \", distance(u,v))"
   ]
  },
  {
   "cell_type": "markdown",
   "metadata": {},
   "source": [
    "4\\. Counting letters\n",
    "\n",
    "Write a program to calculate the number of times each character occurs in a given string *s*. Ignore differneces in capitalization"
   ]
  },
  {
   "cell_type": "code",
   "execution_count": 4,
   "metadata": {},
   "outputs": [
    {
     "name": "stdout",
     "output_type": "stream",
     "text": [
      "a 7\n",
      "b 5\n",
      "c 3\n",
      "d 3\n",
      "e 22\n",
      "f 10\n",
      "g 1\n",
      "h 9\n",
      "i 14\n",
      "j 0\n",
      "k 2\n",
      "l 6\n",
      "m 12\n",
      "n 10\n",
      "o 13\n",
      "p 8\n",
      "q 0\n",
      "r 17\n",
      "s 9\n",
      "t 19\n",
      "u 9\n",
      "v 2\n",
      "w 2\n",
      "x 0\n",
      "y 2\n",
      "z 0\n"
     ]
    }
   ],
   "source": [
    "s=\"Write a program that prints the numbers from 1 to 100. \\\n",
    "But for multiples of three print Mickey instead of the number and for the multiples of five print Mouse. \\\n",
    "For numbers which are multiples of both three and five print MickeyMouse\"\n",
    "\n",
    "alphabet = ['a','b','c','d','e','f','g','h','i','j','k','l','m','n','o','p','q','r','s','t','u','v','w','x','y','z']\n",
    "\n",
    "counts = [0]*26 # list of 26 zeros\n",
    "\n",
    "for i in range (0,len(s)):\n",
    "    if (s[i].lower()).isalpha() is True: # if an element of s is a character, the count for the specific letter increase\n",
    "        counts[alphabet.index(s[i].lower())] += 1\n",
    "for i in range (0,len(alphabet)):\n",
    "    print(alphabet[i], counts[i])"
   ]
  },
  {
   "cell_type": "markdown",
   "metadata": {},
   "source": [
    "5\\. Isolating the unique\n",
    "\n",
    "Write a function that determines and count the unique numbers in the list *l*"
   ]
  },
  {
   "cell_type": "code",
   "execution_count": 5,
   "metadata": {},
   "outputs": [
    {
     "name": "stdout",
     "output_type": "stream",
     "text": [
      "[58, 74, 96, 64, 10, 24, 19, 33, 86, 99, 18, 47, 88, 55, 54, 8, 79, 81, 57, 37, 1, 9, 95, 90, 98, 39, 16, 82, 92, 41, 30, 94, 5, 72, 87, 75, 53]\n",
      "There are 37 uniques\n"
     ]
    }
   ],
   "source": [
    "def unique (l):\n",
    "    s = l # use of an alias s for l\n",
    "    i = 0\n",
    "    while i<len(s):\n",
    "        elim = [] # list of repeated objects\n",
    "        for j in range (0,len(s)):\n",
    "            if (s[j]==s[i]) and (i!=j):\n",
    "                elim.append(j) \n",
    "        if len(elim) > 0:\n",
    "            elim.append(i) \n",
    "            elim.sort(reverse=True)\n",
    "            for k in range (0,len(elim)):\n",
    "                del s[elim[k]] # delete the i-esime object and its repeatitions from list s\n",
    "                i = 0 # restart the counting from the beginning of s\n",
    "        else:\n",
    "            i+=1\n",
    "        elim.clear()\n",
    "    return s\n",
    "\n",
    "l = [36, 45, 58, 3, 74, 96, 64, 45, 31, 10, 24, 19, 33, 86, 99, 18, 63, 70, 85, 85, 63, 47, 56, 42, 70, 84, 88,55, 20, 54, 8, 56, 51, 79, 81, 57, 37, 91, 1, 84, 84, 36, 66, 9, 89, 50, 42, 91, 50, 95, 90, 98, 39, 16, 82, 31, 92, 41, 45, 30, 66, 70, 34, 85, 94, 5, 3, 36, 72, 91, 84, 34, 87, 75, 53, 51, 20, 89, 51, 20]\n",
    "\n",
    "lista = unique(l)\n",
    "print(lista)\n",
    "print(\"There are\", len(lista), \"uniques\")"
   ]
  },
  {
   "cell_type": "markdown",
   "metadata": {},
   "source": [
    "6\\. Combination of functions\n",
    "\n",
    "Write two functions - one that returns the square of a number, and one that returns the cube. Now write a third function that returns the number raised to the 6th power using the two previous functions."
   ]
  },
  {
   "cell_type": "code",
   "execution_count": 6,
   "metadata": {},
   "outputs": [
    {
     "name": "stdout",
     "output_type": "stream",
     "text": [
      "729\n"
     ]
    }
   ],
   "source": [
    "def squared (x):\n",
    "    return x**2\n",
    "\n",
    "def cubed (x):\n",
    "    return x**3 \n",
    "\n",
    "def sixed (x):\n",
    "    return cubed(squared(x))\n",
    "\n",
    "a = 3\n",
    "print(sixed(a))"
   ]
  },
  {
   "cell_type": "markdown",
   "metadata": {},
   "source": [
    "7\\. Cubes\n",
    "\n",
    "Create a list of the cubes of x for x in *[0, 10]* using:\n",
    "\n",
    "a) a for loop\n",
    "\n",
    "b) a list comprehension"
   ]
  },
  {
   "cell_type": "code",
   "execution_count": 7,
   "metadata": {},
   "outputs": [
    {
     "name": "stdout",
     "output_type": "stream",
     "text": [
      "[0, 1, 8, 27, 64, 125, 216, 343, 512, 729, 1000]\n",
      "[0, 1, 8, 27, 64, 125, 216, 343, 512, 729, 1000]\n"
     ]
    }
   ],
   "source": [
    "a = []\n",
    "for i in range (0,11):\n",
    "    a.append(i**3)\n",
    "\n",
    "print(a)\n",
    "\n",
    "b = [x**3 for x in range (0,11)]\n",
    "\n",
    "print(b)"
   ]
  },
  {
   "cell_type": "markdown",
   "metadata": {},
   "source": [
    "8\\. Nested list comprehension\n",
    "\n",
    "A Pythagorean triple is an integer solution to the Pythagorean theorem $a^2+b^2=c^2$. The first Pythagorean triple is (3,4,5). Find and put in a tuple all unique Pythagorean triples for the positive integers a, b and c less than 100."
   ]
  },
  {
   "cell_type": "code",
   "execution_count": 8,
   "metadata": {},
   "outputs": [
    {
     "name": "stdout",
     "output_type": "stream",
     "text": [
      "([4, 3, 5], [8, 6, 10], [12, 5, 13], [12, 9, 15], [15, 8, 17], [16, 12, 20], [20, 15, 25], [21, 20, 29], [24, 7, 25], [24, 10, 26], [24, 18, 30], [28, 21, 35], [30, 16, 34], [32, 24, 40], [35, 12, 37], [36, 15, 39], [36, 27, 45], [40, 9, 41], [40, 30, 50], [42, 40, 58], [44, 33, 55], [45, 24, 51], [45, 28, 53], [48, 14, 50], [48, 20, 52], [48, 36, 60], [52, 39, 65], [55, 48, 73], [56, 33, 65], [56, 42, 70], [60, 11, 61], [60, 25, 65], [60, 32, 68], [60, 45, 75], [63, 16, 65], [63, 60, 87], [64, 48, 80], [68, 51, 85], [70, 24, 74], [72, 21, 75], [72, 30, 78], [72, 54, 90], [72, 65, 97], [75, 40, 85], [76, 57, 95], [77, 36, 85], [80, 18, 82], [80, 39, 89], [84, 13, 85], [84, 35, 91])\n"
     ]
    }
   ],
   "source": [
    "lst = []\n",
    "N = 100\n",
    "n = 2\n",
    "from math import sqrt\n",
    "for i in range (1,N):\n",
    "    for j in range (1,i):\n",
    "        c2 = i**n + j**n\n",
    "        for k in range (1,N):\n",
    "            if k**n == c2:\n",
    "                lst.append([i,j,k])\n",
    "l = tuple(lst)\n",
    "print(l)     "
   ]
  },
  {
   "cell_type": "markdown",
   "metadata": {},
   "source": [
    "9\\. Normalization\n",
    "\n",
    "Write a function that takes a tuple of numbers and returns it with the entries normalized to one"
   ]
  },
  {
   "cell_type": "code",
   "execution_count": 9,
   "metadata": {},
   "outputs": [
    {
     "name": "stdout",
     "output_type": "stream",
     "text": [
      "(0.5, 0.5, 0.5, 0.5)\n"
     ]
    }
   ],
   "source": [
    "from math import sqrt\n",
    "def normalizer (vector):\n",
    "    somma = 0\n",
    "    lst = []\n",
    "    for i in range (0,len(vector)):\n",
    "        somma += vector[i]**2\n",
    "    for i in range (0,len(vector)):\n",
    "        lst.append(vector[i]/sqrt(somma))\n",
    "    x = tuple(lst)\n",
    "    return x\n",
    "\n",
    "vett = (1,1,1,1)\n",
    "vettnorm = normalizer(vett)\n",
    "print(vettnorm)"
   ]
  }
 ],
 "metadata": {
  "kernelspec": {
   "display_name": "Python 3",
   "language": "python",
   "name": "python3"
  },
  "language_info": {
   "codemirror_mode": {
    "name": "ipython",
    "version": 3
   },
   "file_extension": ".py",
   "mimetype": "text/x-python",
   "name": "python",
   "nbconvert_exporter": "python",
   "pygments_lexer": "ipython3",
   "version": "3.8.8"
  }
 },
 "nbformat": 4,
 "nbformat_minor": 2
}
