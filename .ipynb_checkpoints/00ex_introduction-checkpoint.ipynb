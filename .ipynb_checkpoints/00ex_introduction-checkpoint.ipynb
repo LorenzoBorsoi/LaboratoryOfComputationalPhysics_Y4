{
 "cells": [
  {
   "cell_type": "markdown",
   "metadata": {},
   "source": [
    "1. The MickeyMouse problem\n",
    "\n",
    "a) Write a program that prints the numbers from 1 to 100. But for multiples of three print Mickey instead of the number and for the multiples of five print Mouse. For numbers which are multiples of both three and five print MickeyMouse\n",
    "\n",
    "b) Put the result in a tuple and substitute Mickey with Donald and Mouse with Duck"
   ]
  },
  {
   "cell_type": "code",
   "execution_count": 1,
   "metadata": {},
   "outputs": [
    {
     "name": "stdout",
     "output_type": "stream",
     "text": [
      "First tupla is: \n",
      " (1, 2, 'Mickey', 4, 'Mouse', 'Mickey', 7, 8, 'Mickey', 'Mouse', 11, 'Mickey', 13, 14, 'MickeyMouse', 16, 17, 'Mickey', 19, 'Mouse', 'Mickey', 22, 23, 'Mickey', 'Mouse', 26, 'Mickey', 28, 29, 'MickeyMouse', 31, 32, 'Mickey', 34, 'Mouse', 'Mickey', 37, 38, 'Mickey', 'Mouse', 41, 'Mickey', 43, 44, 'MickeyMouse', 46, 47, 'Mickey', 49, 'Mouse', 'Mickey', 52, 53, 'Mickey', 'Mouse', 56, 'Mickey', 58, 59, 'MickeyMouse', 61, 62, 'Mickey', 64, 'Mouse', 'Mickey', 67, 68, 'Mickey', 'Mouse', 71, 'Mickey', 73, 74, 'MickeyMouse', 76, 77, 'Mickey', 79, 'Mouse', 'Mickey', 82, 83, 'Mickey', 'Mouse', 86, 'Mickey', 88, 89, 'MickeyMouse', 91, 92, 'Mickey', 94, 'Mouse', 'Mickey', 97, 98, 'Mickey') \n",
      "\n",
      "Second tupla is: \n",
      " (1, 2, 'Donald', 4, 'Duck', 'Donald', 7, 8, 'Donald', 'Duck', 11, 'Donald', 13, 14, 'DonaldDuck', 16, 17, 'Donald', 19, 'Duck', 'Donald', 22, 23, 'Donald', 'Duck', 26, 'Donald', 28, 29, 'DonaldDuck', 31, 32, 'Donald', 34, 'Duck', 'Donald', 37, 38, 'Donald', 'Duck', 41, 'Donald', 43, 44, 'DonaldDuck', 46, 47, 'Donald', 49, 'Duck', 'Donald', 52, 53, 'Donald', 'Duck', 56, 'Donald', 58, 59, 'DonaldDuck', 61, 62, 'Donald', 64, 'Duck', 'Donald', 67, 68, 'Donald', 'Duck', 71, 'Donald', 73, 74, 'DonaldDuck', 76, 77, 'Donald', 79, 'Duck', 'Donald', 82, 83, 'Donald', 'Duck', 86, 'Donald', 88, 89, 'DonaldDuck', 91, 92, 'Donald', 94, 'Duck', 'Donald', 97, 98, 'Donald') \n",
      "\n"
     ]
    }
   ],
   "source": [
    "s1=\"Write a program that prints the numbers from 1 to 100. \\\n",
    "But for multiples of three print Mickey instead of the number and for the multiples of five print Mouse. \\\n",
    "For numbers which are multiples of both three and five print MickeyMouse\"\n",
    "t=list() \n",
    "for i in range (1,100):\n",
    "    if i%3 == 0  and i%5 == 0: \n",
    "        t+=[\"MickeyMouse\",] \n",
    "    elif i%3==0:\n",
    "        t+=[\"Mickey\",]\n",
    "    elif i%5==0:\n",
    "        t+=[\"Mouse\",]\n",
    "    else:\n",
    "        t+=[i]\n",
    "\n",
    "tup=tuple(t)\n",
    "print(\"First tupla is: \\n {} \\n\".format(tup))\n",
    "\n",
    "t=['Donald' if x=='Mickey' else x for x in t]\n",
    "t=['Duck' if x=='Mouse' else x for x in t]\n",
    "t=['DonaldDuck' if x=='MickeyMouse' else x for x in t]\n",
    "\n",
    "tup=tuple(t)\n",
    "print(\"Second tupla is: \\n {} \\n\".format(tup))"
   ]
  },
  {
   "cell_type": "markdown",
   "metadata": {},
   "source": [
    "2\\. The swap function\n",
    "\n",
    "Write a function that swap the values of two input variables x and y (whatever the type). Try to do that also without a temporary variable"
   ]
  },
  {
   "cell_type": "code",
   "execution_count": 2,
   "metadata": {},
   "outputs": [
    {
     "name": "stdout",
     "output_type": "stream",
     "text": [
      "Enter x:1\n",
      "Enter y:b\n",
      "The swapped values are: b, 1\n",
      "The swapped again values are: 1, b\n"
     ]
    }
   ],
   "source": [
    "x1=input(\"Enter x:\") \n",
    "y1=input(\"Enter y:\")\n",
    "\n",
    "def swap (x1, y1):\n",
    "    return y1, x1\n",
    "\n",
    "x,y=swap(x1, y1)\n",
    "\n",
    "print(\"The swapped values are: {}, {}\".format(x, y))\n",
    "\n",
    "def swap1 (x1, y1):\n",
    "    ch=x1\n",
    "    x1=y1\n",
    "    y1=ch\n",
    "    return x1, y1\n",
    "\n",
    "x,y=swap1(x,y)\n",
    "\n",
    "print(\"The swapped again values are: {}, {}\".format(x, y))"
   ]
  },
  {
   "cell_type": "markdown",
   "metadata": {},
   "source": [
    "3\\. Computing the distance\n",
    "\n",
    "Write a function that calculates and returns the euclidean distance between two points *u* and *v*, where *u* and *v* are both 2-tuples *(x,y)*. For example, if *u=(3,0)* and *v=(0,4)*, the function should return 5"
   ]
  },
  {
   "cell_type": "code",
   "execution_count": 3,
   "metadata": {},
   "outputs": [
    {
     "name": "stdout",
     "output_type": "stream",
     "text": [
      "Enter the cordinates x,y of the first point:3,0\n",
      "Enter the cordinates x,y of the second point:0,4\n",
      "The euclidean distance between the 2 points is: 5.0\n"
     ]
    }
   ],
   "source": [
    "import math\n",
    "\n",
    "def dist(a,b):\n",
    "    distance=math.sqrt((a[0]-b[0])**2+(a[1]-b[1])**2) \n",
    "    return distance\n",
    "\n",
    "\n",
    "a=[float(x) for x in input(\"Enter the cordinates x,y of the first point:\").split(',')] \n",
    "b=[float(x) for x in input(\"Enter the cordinates x,y of the second point:\").split(',')] \n",
    "\n",
    "at=tuple(a)  \n",
    "bt=tuple(b)\n",
    "\n",
    "\n",
    "c=dist(a,b)\n",
    "print(\"The euclidean distance between the 2 points is: {}\".format(c))"
   ]
  },
  {
   "cell_type": "markdown",
   "metadata": {},
   "source": [
    "4\\. Counting letters\n",
    "\n",
    "Write a program to calculate the number of times each character occurs in a given string *s*. Ignore differneces in capitalization"
   ]
  },
  {
   "cell_type": "code",
   "execution_count": 4,
   "metadata": {},
   "outputs": [
    {
     "name": "stdout",
     "output_type": "stream",
     "text": [
      "Write a sentence: Write a sentence\n",
      "Number of A in the sentence is 1\n",
      "Number of C in the sentence is 1\n",
      "Number of E in the sentence is 4\n",
      "Number of I in the sentence is 1\n",
      "Number of N in the sentence is 2\n",
      "Number of R in the sentence is 1\n",
      "Number of S in the sentence is 1\n",
      "Number of T in the sentence is 2\n",
      "Number of W in the sentence is 1\n"
     ]
    }
   ],
   "source": [
    "sentence = input(\"Write a sentence: \")\n",
    "def chcounter(sentence):\n",
    "    sentence=sentence.upper()\n",
    "    c=list()\n",
    "    characters = [x for x in sorted(sentence)]\n",
    "    for i in range(0,len(characters)):\n",
    "        if characters[i]!=\" \" and characters[i] not in c :  \n",
    "            print(\"Number of {} in the sentence is {}\".format(characters[i], characters.count(characters[i])))\n",
    "        c+=characters[i]\n",
    "        \n",
    "chcounter(sentence)"
   ]
  },
  {
   "cell_type": "markdown",
   "metadata": {},
   "source": [
    "5\\. Isolating the unique\n",
    "\n",
    "Write a function that determines and count the unique numbers in the list *l*"
   ]
  },
  {
   "cell_type": "code",
   "execution_count": 5,
   "metadata": {},
   "outputs": [
    {
     "name": "stdout",
     "output_type": "stream",
     "text": [
      "The 37 unique numbers of the list are: 58, 74, 96, 64, 10, 24, 19, 33, 86, 99, 18, 47, 88, 55, 54, 8, 79, 81, 57, 37, 1, 9, 95, 90, 98, 39, 16, 82, 92, 41, 30, 94, 5, 72, 87, 75, 53\n"
     ]
    }
   ],
   "source": [
    "l = [36, 45, 58, 3, 74, 96, 64, 45, 31, 10, 24, 19, 33, 86, 99, 18, 63, 70, 85,\n",
    " 85, 63, 47, 56, 42, 70, 84, 88, 55, 20, 54, 8, 56, 51, 79, 81, 57, 37, 91,\n",
    " 1, 84, 84, 36, 66, 9, 89, 50, 42, 91, 50, 95, 90, 98, 39, 16, 82, 31, 92, 41,\n",
    " 45, 30, 66, 70, 34, 85, 94, 5, 3, 36, 72, 91, 84, 34, 87, 75, 53, 51, 20, 89, 51, 20]\n",
    "\n",
    "def uniquen(l):\n",
    "    c=list()\n",
    "    s=\"\"\n",
    "    for i in range(0,len(l)): \n",
    "        if l.count(l[i])==1 and l[i] not in c:\n",
    "            c.append(l[i])\n",
    "            s+=\"{}, \".format(l[i])\n",
    "    n=len(c)\n",
    "    return(s, n)\n",
    "\n",
    "string, num = uniquen(l)\n",
    "print(\"The {} unique numbers of the list are: {}\".format(num ,string[:-2]))"
   ]
  },
  {
   "cell_type": "markdown",
   "metadata": {},
   "source": [
    "6\\. Combination of functions\n",
    "\n",
    "Write two functions - one that returns the square of a number, and one that returns the cube. Now write a third function that returns the number raised to the 6th power using the two previous functions."
   ]
  },
  {
   "cell_type": "code",
   "execution_count": 6,
   "metadata": {},
   "outputs": [
    {
     "name": "stdout",
     "output_type": "stream",
     "text": [
      "Enter a number: 5\n",
      "The 6th power of the number is = 15625.0\n"
     ]
    }
   ],
   "source": [
    "def sec(a):\n",
    "    b=a**2\n",
    "    return b\n",
    "\n",
    "def ter(a):\n",
    "    b=a**3\n",
    "    return b\n",
    "\n",
    "def ses(a):\n",
    "    b=sec(ter(a))\n",
    "    return b\n",
    "\n",
    "x=float(input(\"Enter a number: \"))\n",
    "c=ses(x)\n",
    "print(\"The 6th power of the number is = {}\".format(c))"
   ]
  },
  {
   "cell_type": "markdown",
   "metadata": {},
   "source": [
    "7\\. Cubes\n",
    "\n",
    "Create a list of the cubes of x for x in *[0, 10]* using:\n",
    "\n",
    "a) a for loop\n",
    "\n",
    "b) a list comprehension"
   ]
  },
  {
   "cell_type": "code",
   "execution_count": 7,
   "metadata": {},
   "outputs": [
    {
     "name": "stdout",
     "output_type": "stream",
     "text": [
      "List of cubes with a)= [0, 1, 8, 27, 64, 125, 216, 343, 512, 729, 1000]\n",
      "List of cubes with b)= [0, 1, 8, 27, 64, 125, 216, 343, 512, 729, 1000]\n"
     ]
    }
   ],
   "source": [
    "a=list()\n",
    "for x in range(0,11):\n",
    "    a.append(x**3)\n",
    "print(\"List of cubes with a)= {}\".format(a))\n",
    "\n",
    "b=[x**3 for x in range(0,11)]\n",
    "print(\"List of cubes with b)= {}\".format(b))"
   ]
  },
  {
   "cell_type": "markdown",
   "metadata": {},
   "source": [
    "8\\. Nested list comprehension\n",
    "\n",
    "A Pythagorean triple is an integer solution to the Pythagorean theorem $a^2+b^2=c^2$. The first Pythagorean triple is (3,4,5). Find and put in a tuple all unique Pythagorean triples for the positive integers a, b and c less than 100."
   ]
  },
  {
   "cell_type": "code",
   "execution_count": 8,
   "metadata": {},
   "outputs": [
    {
     "name": "stdout",
     "output_type": "stream",
     "text": [
      "The 50 Pythagorean triples for positive integer a, b and c less than 100 are:\n",
      "((3, 4, 5), (5, 12, 13), (6, 8, 10), (7, 24, 25), (8, 15, 17), (9, 12, 15), (9, 40, 41), (10, 24, 26), (11, 60, 61), (12, 16, 20), (12, 35, 37), (13, 84, 85), (14, 48, 50), (15, 20, 25), (15, 36, 39), (16, 30, 34), (16, 63, 65), (18, 24, 30), (18, 80, 82), (20, 21, 29), (20, 48, 52), (21, 28, 35), (21, 72, 75), (24, 32, 40), (24, 45, 51), (24, 70, 74), (25, 60, 65), (27, 36, 45), (28, 45, 53), (30, 40, 50), (30, 72, 78), (32, 60, 68), (33, 44, 55), (33, 56, 65), (35, 84, 91), (36, 48, 60), (36, 77, 85), (39, 52, 65), (39, 80, 89), (40, 42, 58), (40, 75, 85), (42, 56, 70), (45, 60, 75), (48, 55, 73), (48, 64, 80), (51, 68, 85), (54, 72, 90), (57, 76, 95), (60, 63, 87), (65, 72, 97))\n"
     ]
    }
   ],
   "source": [
    "\"\"\"import math\n",
    "import time\n",
    "l=list()\n",
    "for a in range(1,100):\n",
    "    for b in range(1,100):\n",
    "        c2=a**2+b**2\n",
    "        c=math.sqrt(c2)\n",
    "        if c%1==0 and c<100:\n",
    "            li=tuple(sorted((a, b, int(c))))\n",
    "            if li not in l:\n",
    "                l.append(li)\n",
    "l=tuple(l)\n",
    "\n",
    "print(\"The {} Pythagorean triples for positive integer a, b and c less than 100 are:\".format(len(l)))\n",
    "for tup in l:\n",
    "    print(tup)\n",
    "\"\"\"\n",
    "#with list comprehension\n",
    "d=[(a,b,c) for a in range(1,100) for b in range (a+1,100) for c in range(1,100) if c**2==a**2+b**2]\n",
    "print(\"The {} Pythagorean triples for positive integer a, b and c less than 100 are:\".format(len(d)))\n",
    "print(tuple(d))"
   ]
  },
  {
   "cell_type": "markdown",
   "metadata": {},
   "source": [
    "9\\. Normalization\n",
    "\n",
    "Write a function that takes a tuple of numbers and returns it with the entries normalized to one"
   ]
  },
  {
   "cell_type": "code",
   "execution_count": 9,
   "metadata": {},
   "outputs": [
    {
     "name": "stdout",
     "output_type": "stream",
     "text": [
      "Enter a tupla of numbers: 1,5,9,5\n",
      "The normalized tupla is: (0.05, 0.25, 0.45, 0.25)\n"
     ]
    }
   ],
   "source": [
    "a=[float(x) for x in input(\"Enter a tupla of numbers: \").split(',')]\n",
    "a=tuple(a)\n",
    "\n",
    "def norma(a):\n",
    "    b=0\n",
    "    for x in a:\n",
    "        b+=x\n",
    "    c=[x/b for x in a]\n",
    "    return tuple(c)\n",
    "\n",
    "print(\"The normalized tupla is: {}\".format(norma(a)))"
   ]
  },
  {
   "cell_type": "code",
   "execution_count": null,
   "metadata": {},
   "outputs": [],
   "source": []
  }
 ],
 "metadata": {
  "kernelspec": {
   "display_name": "Python 3",
   "language": "python",
   "name": "python3"
  },
  "language_info": {
   "codemirror_mode": {
    "name": "ipython",
    "version": 3
   },
   "file_extension": ".py",
   "mimetype": "text/x-python",
   "name": "python",
   "nbconvert_exporter": "python",
   "pygments_lexer": "ipython3",
   "version": "3.8.8"
  }
 },
 "nbformat": 4,
 "nbformat_minor": 2
}
