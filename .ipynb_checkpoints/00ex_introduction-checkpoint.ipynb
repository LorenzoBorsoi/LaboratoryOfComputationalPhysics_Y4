{
 "cells": [
  {
   "cell_type": "markdown",
   "metadata": {},
   "source": [
    "Esercizi"
   ]
  },
  {
   "cell_type": "markdown",
   "metadata": {},
   "source": [
    "1. The MickeyMouse problem\n",
    "\n",
    "a) Write a program that prints the numbers from 1 to 100. But for multiples of three print Mickey instead of the number and for the multiples of five print Mouse. For numbers which are multiples of both three and five print MickeyMouse\n",
    "\n",
    "b) Put the result in a tuple and substitute Mickey with Donald and Mouse with Duck"
   ]
  },
  {
   "cell_type": "code",
   "execution_count": 1,
   "metadata": {},
   "outputs": [
    {
     "name": "stdout",
     "output_type": "stream",
     "text": [
      "(1, 2, 'Mickey', 3, 4, 'Mouse', 5, 'Mickey', 6, 7, 8, 'Mickey', 9, 'Mouse', 10, 11, 'Mickey', 12, 13, 14, 'Mickey', 'MickeyMouse', 16, 17, 'Mickey', 18, 19, 'Mouse', 20, 'Mickey', 21, 22, 23, 'Mickey', 24, 'Mouse', 25, 26, 'Mickey', 27, 28, 29, 'Mickey', 'MickeyMouse', 31, 32, 'Mickey', 33, 34, 'Mouse', 35, 'Mickey', 36, 37, 38, 'Mickey', 39, 'Mouse', 40, 41, 'Mickey', 42, 43, 44, 'Mickey', 'MickeyMouse', 46, 47, 'Mickey', 48, 49, 'Mouse', 50, 'Mickey', 51, 52, 53, 'Mickey', 54, 'Mouse', 55, 56, 'Mickey', 57, 58, 59, 'Mickey', 'MickeyMouse', 61, 62, 'Mickey', 63, 64, 'Mouse', 65, 'Mickey', 66, 67, 68, 'Mickey', 69, 'Mouse', 70, 71, 'Mickey', 72, 73, 74, 'Mickey', 'MickeyMouse', 76, 77, 'Mickey', 78, 79, 'Mouse', 80, 'Mickey', 81, 82, 83, 'Mickey', 84, 'Mouse', 85, 86, 'Mickey', 87, 88, 89, 'Mickey', 'MickeyMouse', 91, 92, 'Mickey', 93, 94, 'Mouse', 95, 'Mickey', 96, 97, 98, 'Mickey', 99, 'Mouse', 100)\n"
     ]
    }
   ],
   "source": [
    "#creo una listaa per il punto b\n",
    "lista = []\n",
    "for i in range (1,101):\n",
    "    if (i%3 == 0):\n",
    "        lista.append(\"Mickey\")\n",
    "    elif(i%5 == 0):\n",
    "        lista.append(\"Mouse\")\n",
    "    if (i%3 == 0 and i%5 ==0):\n",
    "        lista.append(\"MickeyMouse\")        \n",
    "    else:\n",
    "        lista.append(i)\n",
    "\n",
    "tupla = tuple(lista)\n",
    "print(tupla)\n",
    "    "
   ]
  },
  {
   "cell_type": "code",
   "execution_count": 2,
   "metadata": {},
   "outputs": [
    {
     "name": "stdout",
     "output_type": "stream",
     "text": [
      "[1, 2, 'Donald', 3, 4, 'Duck', 5, 'Donald', 6, 7, 8, 'Donald', 9, 'Duck', 10, 11, 'Donald', 12, 13, 14, 'Donald', 'MickeyMouse', 16, 17, 'Donald', 18, 19, 'Duck', 20, 'Donald', 21, 22, 23, 'Donald', 24, 'Duck', 25, 26, 'Donald', 27, 28, 29, 'Donald', 'MickeyMouse', 31, 32, 'Donald', 33, 34, 'Duck', 35, 'Donald', 36, 37, 38, 'Donald', 39, 'Duck', 40, 41, 'Donald', 42, 43, 44, 'Donald', 'MickeyMouse', 46, 47, 'Donald', 48, 49, 'Duck', 50, 'Donald', 51, 52, 53, 'Donald', 54, 'Duck', 55, 56, 'Donald', 57, 58, 59, 'Donald', 'MickeyMouse', 61, 62, 'Donald', 63, 64, 'Duck', 65, 'Donald', 66, 67, 68, 'Donald', 69, 'Mouse', 70, 71, 'Mickey', 72, 73, 74, 'Mickey', 'MickeyMouse', 76, 77, 'Mickey', 78, 79, 'Mouse', 80, 'Mickey', 81, 82, 83, 'Mickey', 84, 'Mouse', 85, 86, 'Mickey', 87, 88, 89, 'Mickey', 'MickeyMouse', 91, 92, 'Mickey', 93, 94, 'Mouse', 95, 'Mickey', 96, 97, 98, 'Mickey', 99, 'Mouse', 100]\n"
     ]
    }
   ],
   "source": [
    "#creo una lista la riempio con gli elementi modificati e la trasformo in tupla\n",
    "list1 = lista.copy()\n",
    "\n",
    "for i in range (100):\n",
    "    if list1[i] == \"Mickey\":\n",
    "        list1[i] = \"Donald\"\n",
    "    elif list1[i] == \"Mouse\":\n",
    "        list1[i] = \"Duck\"\n",
    "        \n",
    "print (list1)\n",
    "    "
   ]
  },
  {
   "cell_type": "markdown",
   "metadata": {},
   "source": [
    "2\\. The swap function\n",
    "\n",
    "Write a function that swap the values of two input variables x and y (whatever the type). Try to do that also without a temporary variable"
   ]
  },
  {
   "cell_type": "code",
   "execution_count": 3,
   "metadata": {
    "scrolled": true
   },
   "outputs": [
    {
     "name": "stdout",
     "output_type": "stream",
     "text": [
      "Dammi due variabili qualsiasi e io te le swappo:\n",
      "a = ciao\n",
      "b = 7\n",
      "a =  7\n",
      "b =  ciao\n"
     ]
    }
   ],
   "source": [
    "print (\"Dammi due variabili qualsiasi e io te le swappo:\")\n",
    "\n",
    "a=input(\"a = \")\n",
    "b=input(\"b = \")\n",
    "\n",
    "a,b=b,a\n",
    "\n",
    "print(\"a = \", a)\n",
    "print(\"b = \", b)\n",
    "    \n"
   ]
  },
  {
   "cell_type": "markdown",
   "metadata": {},
   "source": [
    "3\\. Computing the distance\n",
    "\n",
    "Write a function that calculates and returns the euclidean distance between two points *u* and *v*, where *u* and *v* are both 2-tuples *(x,y)*. For example, if *u=(3,0)* and *v=(0,4)*, the function should return 5"
   ]
  },
  {
   "cell_type": "code",
   "execution_count": 4,
   "metadata": {},
   "outputs": [
    {
     "name": "stdout",
     "output_type": "stream",
     "text": [
      "Calcolo la distanza tra due punti su un piano \n",
      "Inserisci la x del primo punto 3\n",
      "Inserisci la y del primo punto 0\n",
      "Inserisci la x del secondo punto 0\n",
      "Inserisci la y del secondo punto 4\n",
      "5.0\n"
     ]
    }
   ],
   "source": [
    "print (\"Calcolo la distanza tra due punti su un piano \")\n",
    "\n",
    "#creo i punti\n",
    "\n",
    "x1 = float(input (\"Inserisci la x del primo punto \"))\n",
    "y1 = float(input (\"Inserisci la y del primo punto \"))\n",
    "x2 = float(input (\"Inserisci la x del secondo punto \"))\n",
    "y2 = float(input (\"Inserisci la y del secondo punto \"))\n",
    "\n",
    "A = (x1, y1)\n",
    "B = (x2, y2)\n",
    "\n",
    "def distanza(P1, P2):\n",
    "    import math\n",
    "    return math.sqrt ((P2[0]-P1[0])**2+(P2[1]-P1[1])**2)\n",
    "\n",
    "print (distanza(A,B))\n"
   ]
  },
  {
   "cell_type": "markdown",
   "metadata": {},
   "source": [
    "4\\. Counting letters\n",
    "\n",
    "Write a program to calculate the number of times each character occurs in a given string *s*. Ignore differneces in capitalization"
   ]
  },
  {
   "cell_type": "code",
   "execution_count": 5,
   "metadata": {},
   "outputs": [
    {
     "name": "stdout",
     "output_type": "stream",
     "text": [
      "W appare in numero 1 volte\n",
      "r appare in numero 17 volte\n",
      "i appare in numero 14 volte\n",
      "t appare in numero 19 volte\n",
      "e appare in numero 22 volte\n",
      "  appare in numero 41 volte\n",
      "a appare in numero 7 volte\n",
      "  appare in numero 41 volte\n",
      "p appare in numero 8 volte\n",
      "r appare in numero 17 volte\n",
      "o appare in numero 13 volte\n",
      "g appare in numero 1 volte\n",
      "r appare in numero 17 volte\n",
      "a appare in numero 7 volte\n",
      "m appare in numero 8 volte\n",
      "  appare in numero 41 volte\n",
      "t appare in numero 19 volte\n",
      "h appare in numero 9 volte\n",
      "a appare in numero 7 volte\n",
      "t appare in numero 19 volte\n",
      "  appare in numero 41 volte\n",
      "p appare in numero 8 volte\n",
      "r appare in numero 17 volte\n",
      "i appare in numero 14 volte\n",
      "n appare in numero 10 volte\n",
      "t appare in numero 19 volte\n",
      "s appare in numero 9 volte\n",
      "  appare in numero 41 volte\n",
      "t appare in numero 19 volte\n",
      "h appare in numero 9 volte\n",
      "e appare in numero 22 volte\n",
      "  appare in numero 41 volte\n",
      "n appare in numero 10 volte\n",
      "u appare in numero 9 volte\n",
      "m appare in numero 8 volte\n",
      "b appare in numero 4 volte\n",
      "e appare in numero 22 volte\n",
      "r appare in numero 17 volte\n",
      "s appare in numero 9 volte\n",
      "  appare in numero 41 volte\n",
      "f appare in numero 9 volte\n",
      "r appare in numero 17 volte\n",
      "o appare in numero 13 volte\n",
      "m appare in numero 8 volte\n",
      "  appare in numero 41 volte\n",
      "1 appare in numero 2 volte\n",
      "  appare in numero 41 volte\n",
      "t appare in numero 19 volte\n",
      "o appare in numero 13 volte\n",
      "  appare in numero 41 volte\n",
      "1 appare in numero 2 volte\n",
      "0 appare in numero 2 volte\n",
      "0 appare in numero 2 volte\n",
      ". appare in numero 2 volte\n",
      "  appare in numero 41 volte\n",
      "B appare in numero 1 volte\n",
      "u appare in numero 9 volte\n",
      "t appare in numero 19 volte\n",
      "  appare in numero 41 volte\n",
      "f appare in numero 9 volte\n",
      "o appare in numero 13 volte\n",
      "r appare in numero 17 volte\n",
      "  appare in numero 41 volte\n",
      "m appare in numero 8 volte\n",
      "u appare in numero 9 volte\n",
      "l appare in numero 6 volte\n",
      "t appare in numero 19 volte\n",
      "i appare in numero 14 volte\n",
      "p appare in numero 8 volte\n",
      "l appare in numero 6 volte\n",
      "e appare in numero 22 volte\n",
      "s appare in numero 9 volte\n",
      "  appare in numero 41 volte\n",
      "o appare in numero 13 volte\n",
      "f appare in numero 9 volte\n",
      "  appare in numero 41 volte\n",
      "t appare in numero 19 volte\n",
      "h appare in numero 9 volte\n",
      "r appare in numero 17 volte\n",
      "e appare in numero 22 volte\n",
      "e appare in numero 22 volte\n",
      "  appare in numero 41 volte\n",
      "p appare in numero 8 volte\n",
      "r appare in numero 17 volte\n",
      "i appare in numero 14 volte\n",
      "n appare in numero 10 volte\n",
      "t appare in numero 19 volte\n",
      "  appare in numero 41 volte\n",
      "M appare in numero 4 volte\n",
      "i appare in numero 14 volte\n",
      "c appare in numero 3 volte\n",
      "k appare in numero 2 volte\n",
      "e appare in numero 22 volte\n",
      "y appare in numero 2 volte\n",
      "  appare in numero 41 volte\n",
      "i appare in numero 14 volte\n",
      "n appare in numero 10 volte\n",
      "s appare in numero 9 volte\n",
      "t appare in numero 19 volte\n",
      "e appare in numero 22 volte\n",
      "a appare in numero 7 volte\n",
      "d appare in numero 3 volte\n",
      "  appare in numero 41 volte\n",
      "o appare in numero 13 volte\n",
      "f appare in numero 9 volte\n",
      "  appare in numero 41 volte\n",
      "t appare in numero 19 volte\n",
      "h appare in numero 9 volte\n",
      "e appare in numero 22 volte\n",
      "  appare in numero 41 volte\n",
      "n appare in numero 10 volte\n",
      "u appare in numero 9 volte\n",
      "m appare in numero 8 volte\n",
      "b appare in numero 4 volte\n",
      "e appare in numero 22 volte\n",
      "r appare in numero 17 volte\n",
      "  appare in numero 41 volte\n",
      "a appare in numero 7 volte\n",
      "n appare in numero 10 volte\n",
      "d appare in numero 3 volte\n",
      "  appare in numero 41 volte\n",
      "f appare in numero 9 volte\n",
      "o appare in numero 13 volte\n",
      "r appare in numero 17 volte\n",
      "  appare in numero 41 volte\n",
      "t appare in numero 19 volte\n",
      "h appare in numero 9 volte\n",
      "e appare in numero 22 volte\n",
      "  appare in numero 41 volte\n",
      "m appare in numero 8 volte\n",
      "u appare in numero 9 volte\n",
      "l appare in numero 6 volte\n",
      "t appare in numero 19 volte\n",
      "i appare in numero 14 volte\n",
      "p appare in numero 8 volte\n",
      "l appare in numero 6 volte\n",
      "e appare in numero 22 volte\n",
      "s appare in numero 9 volte\n",
      "  appare in numero 41 volte\n",
      "o appare in numero 13 volte\n",
      "f appare in numero 9 volte\n",
      "  appare in numero 41 volte\n",
      "f appare in numero 9 volte\n",
      "i appare in numero 14 volte\n",
      "v appare in numero 2 volte\n",
      "e appare in numero 22 volte\n",
      "  appare in numero 41 volte\n",
      "p appare in numero 8 volte\n",
      "r appare in numero 17 volte\n",
      "i appare in numero 14 volte\n",
      "n appare in numero 10 volte\n",
      "t appare in numero 19 volte\n",
      "  appare in numero 41 volte\n",
      "M appare in numero 4 volte\n",
      "o appare in numero 13 volte\n",
      "u appare in numero 9 volte\n",
      "s appare in numero 9 volte\n",
      "e appare in numero 22 volte\n",
      ". appare in numero 2 volte\n",
      "  appare in numero 41 volte\n",
      "F appare in numero 1 volte\n",
      "o appare in numero 13 volte\n",
      "r appare in numero 17 volte\n",
      "  appare in numero 41 volte\n",
      "n appare in numero 10 volte\n",
      "u appare in numero 9 volte\n",
      "m appare in numero 8 volte\n",
      "b appare in numero 4 volte\n",
      "e appare in numero 22 volte\n",
      "r appare in numero 17 volte\n",
      "s appare in numero 9 volte\n",
      "  appare in numero 41 volte\n",
      "w appare in numero 1 volte\n",
      "h appare in numero 9 volte\n",
      "i appare in numero 14 volte\n",
      "c appare in numero 3 volte\n",
      "h appare in numero 9 volte\n",
      "  appare in numero 41 volte\n",
      "a appare in numero 7 volte\n",
      "r appare in numero 17 volte\n",
      "e appare in numero 22 volte\n",
      "  appare in numero 41 volte\n",
      "m appare in numero 8 volte\n",
      "u appare in numero 9 volte\n",
      "l appare in numero 6 volte\n",
      "t appare in numero 19 volte\n",
      "i appare in numero 14 volte\n",
      "p appare in numero 8 volte\n",
      "l appare in numero 6 volte\n",
      "e appare in numero 22 volte\n",
      "s appare in numero 9 volte\n",
      "  appare in numero 41 volte\n",
      "o appare in numero 13 volte\n",
      "f appare in numero 9 volte\n",
      "  appare in numero 41 volte\n",
      "b appare in numero 4 volte\n",
      "o appare in numero 13 volte\n",
      "t appare in numero 19 volte\n",
      "h appare in numero 9 volte\n",
      "  appare in numero 41 volte\n",
      "t appare in numero 19 volte\n",
      "h appare in numero 9 volte\n",
      "r appare in numero 17 volte\n",
      "e appare in numero 22 volte\n",
      "e appare in numero 22 volte\n",
      "  appare in numero 41 volte\n",
      "a appare in numero 7 volte\n",
      "n appare in numero 10 volte\n",
      "d appare in numero 3 volte\n",
      "  appare in numero 41 volte\n",
      "f appare in numero 9 volte\n",
      "i appare in numero 14 volte\n",
      "v appare in numero 2 volte\n",
      "e appare in numero 22 volte\n",
      "  appare in numero 41 volte\n",
      "p appare in numero 8 volte\n",
      "r appare in numero 17 volte\n",
      "i appare in numero 14 volte\n",
      "n appare in numero 10 volte\n",
      "t appare in numero 19 volte\n",
      "  appare in numero 41 volte\n",
      "M appare in numero 4 volte\n",
      "i appare in numero 14 volte\n",
      "c appare in numero 3 volte\n",
      "k appare in numero 2 volte\n",
      "e appare in numero 22 volte\n",
      "y appare in numero 2 volte\n",
      "M appare in numero 4 volte\n",
      "o appare in numero 13 volte\n",
      "u appare in numero 9 volte\n",
      "s appare in numero 9 volte\n",
      "e appare in numero 22 volte\n"
     ]
    }
   ],
   "source": [
    "s=\"Write a program that prints the numbers from 1 to 100. \\\n",
    "But for multiples of three print Mickey instead of the number and for the multiples of five print Mouse. \\\n",
    "For numbers which are multiples of both three and five print MickeyMouse\"\n",
    "\n",
    "\n",
    "\n",
    "def counter(s,c):\n",
    "    a = 0\n",
    "    for i in range (0,len(s)):\n",
    "        if s[i] == c:\n",
    "            a+=1\n",
    "    return a\n",
    "\n",
    "for i in range (0,len(s)):\n",
    "    print(s[i], \"appare in numero\", counter(s,s[i]), \"volte\")"
   ]
  },
  {
   "cell_type": "markdown",
   "metadata": {},
   "source": [
    "5\\. Isolating the unique\n",
    "\n",
    "Write a function that determines and count the unique numbers in the list *l*"
   ]
  },
  {
   "cell_type": "code",
   "execution_count": 6,
   "metadata": {},
   "outputs": [
    {
     "name": "stdout",
     "output_type": "stream",
     "text": [
      "Il numero che appare una sola volta è  58\n",
      "Il numero che appare una sola volta è  74\n",
      "Il numero che appare una sola volta è  96\n",
      "Il numero che appare una sola volta è  64\n",
      "Il numero che appare una sola volta è  10\n",
      "Il numero che appare una sola volta è  24\n",
      "Il numero che appare una sola volta è  19\n",
      "Il numero che appare una sola volta è  33\n",
      "Il numero che appare una sola volta è  86\n",
      "Il numero che appare una sola volta è  99\n",
      "Il numero che appare una sola volta è  18\n",
      "Il numero che appare una sola volta è  47\n",
      "Il numero che appare una sola volta è  88\n",
      "Il numero che appare una sola volta è  55\n",
      "Il numero che appare una sola volta è  54\n",
      "Il numero che appare una sola volta è  8\n",
      "Il numero che appare una sola volta è  79\n",
      "Il numero che appare una sola volta è  81\n",
      "Il numero che appare una sola volta è  57\n",
      "Il numero che appare una sola volta è  37\n",
      "Il numero che appare una sola volta è  1\n",
      "Il numero che appare una sola volta è  9\n",
      "Il numero che appare una sola volta è  95\n",
      "Il numero che appare una sola volta è  90\n",
      "Il numero che appare una sola volta è  98\n",
      "Il numero che appare una sola volta è  39\n",
      "Il numero che appare una sola volta è  16\n",
      "Il numero che appare una sola volta è  82\n",
      "Il numero che appare una sola volta è  92\n",
      "Il numero che appare una sola volta è  41\n",
      "Il numero che appare una sola volta è  30\n",
      "Il numero che appare una sola volta è  94\n",
      "Il numero che appare una sola volta è  5\n",
      "Il numero che appare una sola volta è  72\n",
      "Il numero che appare una sola volta è  87\n",
      "Il numero che appare una sola volta è  75\n",
      "Il numero che appare una sola volta è  53\n"
     ]
    }
   ],
   "source": [
    "l = [36, 45, 58, 3, 74, 96, 64, 45, 31, 10, 24, 19, 33, 86, 99, 18, 63, 70, 85,\n",
    " 85, 63, 47, 56, 42, 70, 84, 88, 55, 20, 54, 8, 56, 51, 79, 81, 57, 37, 91,\n",
    " 1, 84, 84, 36, 66, 9, 89, 50, 42, 91, 50, 95, 90, 98, 39, 16, 82, 31, 92, 41,\n",
    " 45, 30, 66, 70, 34, 85, 94, 5, 3, 36, 72, 91, 84, 34, 87, 75, 53, 51, 20, 89, 51, 20]\n",
    "\n",
    "for i in range (0, len(l)):\n",
    "    if counter(l,l[i]) == 1:\n",
    "        print(\"Il numero che appare una sola volta è \", l[i])"
   ]
  },
  {
   "cell_type": "markdown",
   "metadata": {},
   "source": [
    "6\\. Combination of functions\n",
    "\n",
    "Write two functions - one that returns the square of a number, and one that returns the cube. Now write a third function that returns the number raised to the 6th power using the two previous functions."
   ]
  },
  {
   "cell_type": "code",
   "execution_count": 7,
   "metadata": {},
   "outputs": [
    {
     "name": "stdout",
     "output_type": "stream",
     "text": [
      "Inserisci un numero 8\n",
      "Il quadrato del numero è  64.0\n",
      "Il cubo del numero è  512.0\n",
      "L'elevamentoe alla sesta è  262144.0\n"
     ]
    }
   ],
   "source": [
    "#forse si intendeva elevato alla quinta, però lo eleviamo alla sesta lo stesso usando le due funzioni\n",
    "def square(a):\n",
    "    return a**2\n",
    "def cube(a):\n",
    "    return a**3\n",
    "\n",
    "def sixth(a):\n",
    "    return (square(a)*cube(a)*square(a)*cube(a)/square(a)/square(a)) #qui infatti si è fatto un giro inutile\n",
    "\n",
    "n = float(input(\"Inserisci un numero \"))\n",
    "print (\"Il quadrato del numero è \", square(n))\n",
    "print (\"Il cubo del numero è \", cube(n))\n",
    "print (\"L'elevamentoe alla sesta è \", sixth(n))"
   ]
  },
  {
   "cell_type": "markdown",
   "metadata": {},
   "source": [
    "7\\. Cubes\n",
    "\n",
    "Create a list of the cubes of x for x in *[0, 10]* using:\n",
    "\n",
    "a) a for loop\n",
    "\n",
    "b) a list comprehension"
   ]
  },
  {
   "cell_type": "code",
   "execution_count": 8,
   "metadata": {},
   "outputs": [
    {
     "name": "stdout",
     "output_type": "stream",
     "text": [
      "For Loop\n",
      "0\n",
      "1\n",
      "8\n",
      "27\n",
      "64\n",
      "125\n",
      "216\n",
      "343\n",
      "512\n",
      "729\n",
      "List comprehnsion\n",
      "[0, 1, 8, 27, 64, 125, 216, 343, 512, 729]\n"
     ]
    }
   ],
   "source": [
    "#for loop \n",
    "\n",
    "print(\"For Loop\")\n",
    "\n",
    "for x in range (0,10):\n",
    "    print (cube(x))\n",
    "    \n",
    "#List comprehnsion\n",
    "\n",
    "print(\"List comprehnsion\")\n",
    "\n",
    "cubes = []\n",
    "\n",
    "for i in range(0,10):\n",
    "    cubes.append(cube(i))\n",
    "    \n",
    "print (cubes)"
   ]
  },
  {
   "cell_type": "markdown",
   "metadata": {},
   "source": [
    "8\\. Nested list comprehension\n",
    "\n",
    "A Pythagorean triple is an integer solution to the Pythagorean theorem $a^2+b^2=c^2$. The first Pythagorean triple is (3,4,5). Find and put in a tuple all unique Pythagorean triples for the positive integers a, b and c less than 100."
   ]
  },
  {
   "cell_type": "code",
   "execution_count": 9,
   "metadata": {},
   "outputs": [
    {
     "name": "stdout",
     "output_type": "stream",
     "text": [
      "3 4 5\n",
      "5 12 13\n",
      "6 8 10\n",
      "7 24 25\n",
      "8 15 17\n",
      "9 12 15\n",
      "9 40 41\n",
      "10 24 26\n",
      "11 60 61\n",
      "12 16 20\n",
      "12 35 37\n",
      "13 84 85\n",
      "14 48 50\n",
      "15 20 25\n",
      "15 36 39\n",
      "16 30 34\n",
      "16 63 65\n",
      "18 24 30\n",
      "18 80 82\n",
      "20 21 29\n",
      "20 48 52\n",
      "21 28 35\n",
      "21 72 75\n",
      "24 32 40\n",
      "24 45 51\n",
      "24 70 74\n",
      "25 60 65\n",
      "27 36 45\n",
      "28 45 53\n",
      "28 96 100\n",
      "30 40 50\n",
      "30 72 78\n",
      "32 60 68\n",
      "33 44 55\n",
      "33 56 65\n",
      "35 84 91\n",
      "36 48 60\n",
      "36 77 85\n",
      "39 52 65\n",
      "39 80 89\n",
      "40 42 58\n",
      "40 75 85\n",
      "42 56 70\n",
      "45 60 75\n",
      "48 55 73\n",
      "48 64 80\n",
      "51 68 85\n",
      "54 72 90\n",
      "57 76 95\n",
      "60 63 87\n",
      "60 80 100\n",
      "65 72 97\n",
      "[3, 4, 5, 5, 12, 13, 6, 8, 10, 7, 24, 25, 8, 15, 17, 9, 12, 15, 9, 40, 41, 10, 24, 26, 11, 60, 61, 12, 16, 20, 12, 35, 37, 13, 84, 85, 14, 48, 50, 15, 20, 25, 15, 36, 39, 16, 30, 34, 16, 63, 65, 18, 24, 30, 18, 80, 82, 20, 21, 29, 20, 48, 52, 21, 28, 35, 21, 72, 75, 24, 32, 40, 24, 45, 51, 24, 70, 74, 25, 60, 65, 27, 36, 45, 28, 45, 53, 28, 96, 100, 30, 40, 50, 30, 72, 78, 32, 60, 68, 33, 44, 55, 33, 56, 65, 35, 84, 91, 36, 48, 60, 36, 77, 85, 39, 52, 65, 39, 80, 89, 40, 42, 58, 40, 75, 85, 42, 56, 70, 45, 60, 75, 48, 55, 73, 48, 64, 80, 51, 68, 85, 54, 72, 90, 57, 76, 95, 60, 63, 87, 60, 80, 100, 65, 72, 97]\n"
     ]
    }
   ],
   "source": [
    "tupla = []\n",
    "for a in range(1,101):\n",
    "    for b in range(1,101):\n",
    "        for c in range(1,101):\n",
    "            if square(a)+square(b) == square(c):\n",
    "                if a < b: #per evitare ripetizioni \n",
    "                    print(a,b,c)\n",
    "                    tupla.append(a)\n",
    "                    tupla.append(b)\n",
    "                    tupla.append(c)\n",
    "\n",
    "print(tupla)"
   ]
  },
  {
   "cell_type": "markdown",
   "metadata": {},
   "source": [
    "9\\. Normalization\n",
    "\n",
    "Write a function that takes a tuple of numbers and returns it with the entries normalized to one"
   ]
  },
  {
   "cell_type": "code",
   "execution_count": 11,
   "metadata": {},
   "outputs": [
    {
     "name": "stdout",
     "output_type": "stream",
     "text": [
      "[3, 4, 5, 5, 12, 13, 6, 8, 10, 7, 24, 25, 8, 15, 17, 9, 12, 15, 9, 40, 41, 10, 24, 26, 11, 60, 61, 12, 16, 20, 12, 35, 37, 13, 84, 85, 14, 48, 50, 15, 20, 25, 15, 36, 39, 16, 30, 34, 16, 63, 65, 18, 24, 30, 18, 80, 82, 20, 21, 29, 20, 48, 52, 21, 28, 35, 21, 72, 75, 24, 32, 40, 24, 45, 51, 24, 70, 74, 25, 60, 65, 27, 36, 45, 28, 45, 53, 28, 96, 100, 30, 40, 50, 30, 72, 78, 32, 60, 68, 33, 44, 55, 33, 56, 65, 35, 84, 91, 36, 48, 60, 36, 77, 85, 39, 52, 65, 39, 80, 89, 40, 42, 58, 40, 75, 85, 42, 56, 70, 45, 60, 75, 48, 55, 73, 48, 64, 80, 51, 68, 85, 54, 72, 90, 57, 76, 95, 60, 63, 87, 60, 80, 100, 65, 72, 97]\n",
      "Normalizzazione\n",
      "[0.030927835051546393, 0.041237113402061855, 0.05154639175257732, 0.05154639175257732, 0.12371134020618557, 0.13402061855670103, 0.061855670103092786, 0.08247422680412371, 0.10309278350515463, 0.07216494845360824, 0.24742268041237114, 0.25773195876288657, 0.08247422680412371, 0.15463917525773196, 0.17525773195876287, 0.09278350515463918, 0.12371134020618557, 0.15463917525773196, 0.09278350515463918, 0.41237113402061853, 0.422680412371134, 0.10309278350515463, 0.24742268041237114, 0.26804123711340205, 0.1134020618556701, 0.6185567010309279, 0.6288659793814433, 0.12371134020618557, 0.16494845360824742, 0.20618556701030927, 0.12371134020618557, 0.36082474226804123, 0.38144329896907214, 0.13402061855670103, 0.865979381443299, 0.8762886597938144, 0.14432989690721648, 0.4948453608247423, 0.5154639175257731, 0.15463917525773196, 0.20618556701030927, 0.25773195876288657, 0.15463917525773196, 0.3711340206185567, 0.4020618556701031, 0.16494845360824742, 0.30927835051546393, 0.35051546391752575, 0.16494845360824742, 0.6494845360824743, 0.6701030927835051, 0.18556701030927836, 0.24742268041237114, 0.30927835051546393, 0.18556701030927836, 0.8247422680412371, 0.845360824742268, 0.20618556701030927, 0.21649484536082475, 0.29896907216494845, 0.20618556701030927, 0.4948453608247423, 0.5360824742268041, 0.21649484536082475, 0.28865979381443296, 0.36082474226804123, 0.21649484536082475, 0.7422680412371134, 0.7731958762886598, 0.24742268041237114, 0.32989690721649484, 0.41237113402061853, 0.24742268041237114, 0.4639175257731959, 0.5257731958762887, 0.24742268041237114, 0.7216494845360825, 0.7628865979381443, 0.25773195876288657, 0.6185567010309279, 0.6701030927835051, 0.27835051546391754, 0.3711340206185567, 0.4639175257731959, 0.28865979381443296, 0.4639175257731959, 0.5463917525773195, 0.28865979381443296, 0.9896907216494846, 1.0309278350515463, 0.30927835051546393, 0.41237113402061853, 0.5154639175257731, 0.30927835051546393, 0.7422680412371134, 0.8041237113402062, 0.32989690721649484, 0.6185567010309279, 0.7010309278350515, 0.3402061855670103, 0.4536082474226804, 0.5670103092783505, 0.3402061855670103, 0.5773195876288659, 0.6701030927835051, 0.36082474226804123, 0.865979381443299, 0.9381443298969072, 0.3711340206185567, 0.4948453608247423, 0.6185567010309279, 0.3711340206185567, 0.7938144329896907, 0.8762886597938144, 0.4020618556701031, 0.5360824742268041, 0.6701030927835051, 0.4020618556701031, 0.8247422680412371, 0.9175257731958762, 0.41237113402061853, 0.4329896907216495, 0.5979381443298969, 0.41237113402061853, 0.7731958762886598, 0.8762886597938144, 0.4329896907216495, 0.5773195876288659, 0.7216494845360825, 0.4639175257731959, 0.6185567010309279, 0.7731958762886598, 0.4948453608247423, 0.5670103092783505, 0.7525773195876289, 0.4948453608247423, 0.6597938144329897, 0.8247422680412371, 0.5257731958762887, 0.7010309278350515, 0.8762886597938144, 0.5567010309278351, 0.7422680412371134, 0.9278350515463918, 0.5876288659793815, 0.7835051546391752, 0.979381443298969, 0.6185567010309279, 0.6494845360824743, 0.8969072164948454, 0.6185567010309279, 0.8247422680412371, 1.0309278350515463, 0.6701030927835051, 0.7422680412371134, 1.0]\n"
     ]
    }
   ],
   "source": [
    "g = []\n",
    "\n",
    "def normalization(l):\n",
    "    import math\n",
    "    \n",
    "    for i in range(0,len(l)):\n",
    "        sum = 0\n",
    "        sum = sum + (l[i])**2\n",
    "    \n",
    "    \n",
    "    sqrsum = math.sqrt(sum)\n",
    "    \n",
    "    for i in range(0,len(l)):\n",
    "        g.append(l[i]/sqrsum)\n",
    "    \n",
    "    return g\n",
    "\n",
    "\n",
    "print (tupla)\n",
    "print (\"Normalizzazione\")\n",
    "print (normalization(tupla))\n",
    "    "
   ]
  },
  {
   "cell_type": "code",
   "execution_count": null,
   "metadata": {},
   "outputs": [],
   "source": []
  }
 ],
 "metadata": {
  "interpreter": {
   "hash": "916dbcbb3f70747c44a77c7bcd40155683ae19c65e1c03b4aa3499c5328201f1"
  },
  "kernelspec": {
   "display_name": "Python 3",
   "language": "python",
   "name": "python3"
  },
  "language_info": {
   "codemirror_mode": {
    "name": "ipython",
    "version": 3
   },
   "file_extension": ".py",
   "mimetype": "text/x-python",
   "name": "python",
   "nbconvert_exporter": "python",
   "pygments_lexer": "ipython3",
   "version": "3.8.10"
  }
 },
 "nbformat": 4,
 "nbformat_minor": 2
}
