{
 "cells": [
  {
   "cell_type": "markdown",
   "metadata": {},
   "source": [
    "1. The MickeyMouse problem\n",
    "\n",
    "a) Write a program that prints the numbers from 1 to 100. But for multiples of three print Mickey instead of the number and for the multiples of five print Mouse. For numbers which are multiples of both three and five print MickeyMouse\n",
    "\n",
    "b) Put the result in a tuple and substitute Mickey with Donald and Mouse with Duck"
   ]
  },
  {
   "cell_type": "code",
   "execution_count": 60,
   "metadata": {},
   "outputs": [
    {
     "name": "stdout",
     "output_type": "stream",
     "text": [
      "LISTA_1: [1, 2, 'Mickey', 4, 'Mouse', 'Mickey', 7, 8, 'Mickey', 'Mouse', 11, 'Mickey', 13, 14, 'MickeyMouse', 16, 17, 'Mickey', 19, 'Mouse', 'Mickey', 22, 23, 'Mickey', 'Mouse', 26, 'Mickey', 28, 29, 'MickeyMouse', 31, 32, 'Mickey', 34, 'Mouse', 'Mickey', 37, 38, 'Mickey', 'Mouse', 41, 'Mickey', 43, 44, 'MickeyMouse', 46, 47, 'Mickey', 49, 'Mouse', 'Mickey', 52, 53, 'Mickey', 'Mouse', 56, 'Mickey', 58, 59, 'MickeyMouse', 61, 62, 'Mickey', 64, 'Mouse', 'Mickey', 67, 68, 'Mickey', 'Mouse', 71, 'Mickey', 73, 74, 'MickeyMouse', 76, 77, 'Mickey', 79, 'Mouse', 'Mickey', 82, 83, 'Mickey', 'Mouse', 86, 'Mickey', 88, 89, 'MickeyMouse', 91, 92, 'Mickey', 94, 'Mouse', 'Mickey', 97, 98, 'Mickey', 'Mouse']\n",
      "--------------------------------------------------------------------------------------------\n",
      "TUPLA_2: (1, 2, 'Donald', 4, 'Duck', 'Donald', 7, 8, 'Donald', 'Duck', 11, 'Donald', 13, 14, 'MickeyMouse', 16, 17, 'Donald', 19, 'Duck', 'Donald', 22, 23, 'Donald', 'Duck', 26, 'Donald', 28, 29, 'MickeyMouse', 31, 32, 'Donald', 34, 'Duck', 'Donald', 37, 38, 'Donald', 'Duck', 41, 'Donald', 43, 44, 'MickeyMouse', 46, 47, 'Donald', 49, 'Duck', 'Donald', 52, 53, 'Donald', 'Duck', 56, 'Donald', 58, 59, 'MickeyMouse', 61, 62, 'Donald', 64, 'Duck', 'Donald', 67, 68, 'Donald', 'Duck', 71, 'Donald', 73, 74, 'MickeyMouse', 76, 77, 'Donald', 79, 'Duck', 'Donald', 82, 83, 'Donald', 'Duck', 86, 'Donald', 88, 89, 'MickeyMouse', 91, 92, 'Donald', 94, 'Duck', 'Donald', 97, 98, 'Donald', 'Duck')\n"
     ]
    }
   ],
   "source": [
    "#I create a void list, named b and I fill it as requested, than I print it.\n",
    "b = []\n",
    "for i in range(1,101) :  \n",
    "    if i % 15 == 0: \n",
    "        b.append('MickeyMouse')\n",
    "    elif i % 3 == 0:\n",
    "        b.append('Mickey')\n",
    "    elif i % 5 == 0:\n",
    "        b.append('Mouse')\n",
    "    else:\n",
    "        b.append(i)  \n",
    "print(\"LISTA_1:\", b)\n",
    "print(\"--------------------------------------------------------------------------------------------\")\n",
    "# I do the substitutions on the list b, I turn it into a tuple and then I print it. Doing the substitutions directly on the tuple is not possible. \n",
    "i = 0\n",
    "while i < 100: \n",
    "    if b[i] == 'Mickey':\n",
    "        b[i] = 'Donald'\n",
    "    elif b[i] == 'Mouse':\n",
    "        b[i] = 'Duck'\n",
    "    i += 1\n",
    "b = tuple(b)\n",
    "print(\"TUPLA_2:\", b)\n",
    "\n"
   ]
  },
  {
   "cell_type": "markdown",
   "metadata": {},
   "source": [
    "2\\. The swap function\n",
    "\n",
    "Write a function that swap the values of two input variables x and y (whatever the type). Try to do that also without a temporary variable"
   ]
  },
  {
   "cell_type": "code",
   "execution_count": 61,
   "metadata": {},
   "outputs": [
    {
     "name": "stdout",
     "output_type": "stream",
     "text": [
      "('Cane', 'Gatto')\n"
     ]
    }
   ],
   "source": [
    "def swap(x,y):\n",
    "    return y,x\n",
    "\n",
    "print(swap2(\"Gatto\",\"Cane\"))\n",
    "\n"
   ]
  },
  {
   "cell_type": "markdown",
   "metadata": {},
   "source": [
    "3\\. Computing the distance\n",
    "\n",
    "Write a function that calculates and returns the euclidean distance between two points *u* and *v*, where *u* and *v* are both 2-tuples *(x,y)*. For example, if *u=(3,0)* and *v=(0,4)*, the function should return 5"
   ]
  },
  {
   "cell_type": "code",
   "execution_count": 62,
   "metadata": {},
   "outputs": [
    {
     "name": "stdout",
     "output_type": "stream",
     "text": [
      "Distance: 5.0\n"
     ]
    }
   ],
   "source": [
    "\"\"\"def distance2 (x,y,X,Y):\n",
    "    import math\n",
    "    d = math.sqrt((x-X)**2 + (y-Y)**2)\n",
    "    return d\n",
    "distance(*(3,0),*(0,4))\"\"\"\n",
    "\n",
    "def distance (arg1,arg2):\n",
    "    import math\n",
    "    x = arg1[0]\n",
    "    y = arg1[1]\n",
    "    X = arg2[0]\n",
    "    Y = arg2[1]\n",
    "    d = math.sqrt((x-X)**2 + (y-Y)**2)\n",
    "    return d\n",
    "\n",
    "print(\"Distance: %1.1f\" %distance((3,0),(0,4)))"
   ]
  },
  {
   "cell_type": "markdown",
   "metadata": {},
   "source": [
    "4\\. Counting letters\n",
    "\n",
    "Write a program to calculate the number of times each character occurs in a given string *s*. Ignore differneces in capitalization"
   ]
  },
  {
   "cell_type": "code",
   "execution_count": 63,
   "metadata": {},
   "outputs": [
    {
     "name": "stdout",
     "output_type": "stream",
     "text": [
      "number of g inside Topo Gigio : 2\n"
     ]
    }
   ],
   "source": [
    "# The function 'quante' takes as argument a character and a string, lowers them both and then counts how many times the letter is inside the given string. \n",
    "def quante(letter,string):\n",
    "    letter = letter.lower()\n",
    "    string = string.lower()\n",
    "    return string.count(letter)\n",
    "\n",
    "print('number of %s inside %s : %i' %('g', 'Topo Gigio', quante('G', 'Topo Gigio')))"
   ]
  },
  {
   "cell_type": "markdown",
   "metadata": {},
   "source": [
    "5\\. Isolating the unique\n",
    "\n",
    "Write a function that determines and count the unique numbers in the list *l*"
   ]
  },
  {
   "cell_type": "code",
   "execution_count": 64,
   "metadata": {},
   "outputs": [
    {
     "name": "stdout",
     "output_type": "stream",
     "text": [
      "There are 36 unique numbers: [1, 5, 8, 9, 10, 16, 18, 19, 24, 30, 33, 37, 39, 41, 47, 53, 54, 55, 57, 58, 64, 72, 74, 75, 79, 81, 82, 86, 87, 88, 90, 92, 94, 95, 96, 98]\n"
     ]
    }
   ],
   "source": [
    "l = [36, 45, 58, 3, 74, 96, 64, 45, 31, 10, 24, 19, 33, 86, 99, 18, 63, 70, 85,\n",
    " 85, 63, 47, 56, 42, 70, 84, 88, 55, 20, 54, 8, 56, 51, 79, 81, 57, 37, 91,\n",
    " 1, 84, 84, 36, 66, 9, 89, 50, 42, 91, 50, 95, 90, 98, 39, 16, 82, 31, 92, 41,\n",
    " 45, 30, 66, 70, 34, 85, 94, 5, 3, 36, 72, 91, 84, 34, 87, 75, 53, 51, 20, 89, 51, 20]\n",
    "\n",
    "def unique(arg):\n",
    "    n = []\n",
    "    count = 0\n",
    "    for i in range (min(arg),max(arg)):\n",
    "        if arg.count(i) == 1:\n",
    "            count +=1\n",
    "            n.append(i)\n",
    "    return count,n\n",
    "\n",
    "quanti,numeri = unique(l)\n",
    "\n",
    "# I used .format() to print the results because I found no placeholder for lists\n",
    "print('There are {} unique numbers: {}' .format(quanti,numeri))\n",
    "\n"
   ]
  },
  {
   "cell_type": "markdown",
   "metadata": {},
   "source": [
    "6\\. Combination of functions\n",
    "\n",
    "Write two functions - one that returns the square of a number, and one that returns the cube. Now write a third function that returns the number raised to the 6th power using the two previous functions."
   ]
  },
  {
   "cell_type": "code",
   "execution_count": 65,
   "metadata": {},
   "outputs": [
    {
     "name": "stdout",
     "output_type": "stream",
     "text": [
      "the square of 2 is: 4\n",
      "the cube of 2 is: 8\n",
      "the sixth power of 2 is: 64\n"
     ]
    }
   ],
   "source": [
    "def square(x):\n",
    "    return x**2\n",
    "\n",
    "def cube(y):\n",
    "    return y**3\n",
    "\n",
    "def sixth(z):\n",
    "    x = square(z)\n",
    "    y = cube (x)\n",
    "    return y\n",
    "\n",
    "print('the square of %i is: %i' %(2,square(2)))\n",
    "print('the cube of %i is: %i' %(2,cube(2)))\n",
    "print('the sixth power of %i is: %i' %(2,sixth(2)))"
   ]
  },
  {
   "cell_type": "markdown",
   "metadata": {},
   "source": [
    "7\\. Cubes\n",
    "\n",
    "Create a list of the cubes of x for x in *[0, 10]* using:\n",
    "\n",
    "a) a for loop\n",
    "\n",
    "b) a list comprehension"
   ]
  },
  {
   "cell_type": "code",
   "execution_count": 66,
   "metadata": {},
   "outputs": [
    {
     "name": "stdout",
     "output_type": "stream",
     "text": [
      "[0, 1, 8, 27, 64, 125, 216, 343, 512, 729, 1000]\n",
      "B PART------------------------------------------------------------\n",
      "[0, 1, 8, 27, 64, 125, 216, 343, 512, 729, 1000]\n"
     ]
    }
   ],
   "source": [
    "y = []\n",
    "for i in range (0,11):\n",
    "    y.append(i**3)\n",
    "print(y)\n",
    "\n",
    "print(\"B PART------------------------------------------------------------\")\n",
    "\n",
    "x = [x**3 for x in range (0,11)]\n",
    "print(x)"
   ]
  },
  {
   "cell_type": "markdown",
   "metadata": {},
   "source": [
    "8\\. Nested list comprehension\n",
    "\n",
    "A Pythagorean triple is an integer solution to the Pythagorean theorem $a^2+b^2=c^2$. The first Pythagorean triple is (3,4,5). Find and put in a tuple all unique Pythagorean triples for the positive integers a, b and c less than 100."
   ]
  },
  {
   "cell_type": "code",
   "execution_count": 67,
   "metadata": {},
   "outputs": [
    {
     "name": "stdout",
     "output_type": "stream",
     "text": [
      "Pythagorean triples:[[3, 4, 5], [5, 12, 13], [6, 8, 10], [7, 24, 25], [8, 15, 17], [9, 12, 15], [9, 40, 41], [10, 24, 26], [11, 60, 61], [12, 16, 20], [12, 35, 37], [13, 84, 85], [14, 48, 50], [15, 20, 25], [15, 36, 39], [16, 30, 34], [16, 63, 65], [18, 24, 30], [18, 80, 82], [20, 21, 29], [20, 48, 52], [21, 28, 35], [21, 72, 75], [24, 32, 40], [24, 45, 51], [24, 70, 74], [25, 60, 65], [27, 36, 45], [28, 45, 53], [30, 40, 50], [30, 72, 78], [32, 60, 68], [33, 44, 55], [33, 56, 65], [35, 84, 91], [36, 48, 60], [36, 77, 85], [39, 52, 65], [39, 80, 89], [40, 42, 58], [40, 75, 85], [42, 56, 70], [45, 60, 75], [48, 55, 73], [48, 64, 80], [51, 68, 85], [54, 72, 90], [57, 76, 95], [60, 63, 87], [65, 72, 97]]\n"
     ]
    }
   ],
   "source": [
    "def Pit(a,b):\n",
    "    import math\n",
    "    C = math.sqrt(a**2 + b**2)\n",
    "    return C\n",
    "\n",
    "l = [[a,b, int(Pit(a,b))] for a in range (1,100) for b in range (1,100) if a < b < Pit(a,b) == int(Pit(a,b)) < 100]\n",
    "print('Pythagorean triples:{}' .format(l))"
   ]
  },
  {
   "cell_type": "markdown",
   "metadata": {},
   "source": [
    "9\\. Normalization\n",
    "\n",
    "Write a function that takes a tuple of numbers and returns it with the entries normalized to one"
   ]
  },
  {
   "cell_type": "code",
   "execution_count": 68,
   "metadata": {},
   "outputs": [
    {
     "name": "stdout",
     "output_type": "stream",
     "text": [
      "The normalized tuple of (1, 1) is: (0.7071067811865475, 0.7071067811865475)\n"
     ]
    }
   ],
   "source": [
    "#I used the 'lambda' function because operations between a tuple and an integer are not allowed and the 'map' function because was faster then a loop.\n",
    "def norm(args):\n",
    "    import math\n",
    "    n = math.sqrt(sum(list(map(lambda x: x**2, args))))\n",
    "    r = map(lambda x: x/n, args)\n",
    "    return tuple(r)\n",
    "\n",
    "f = (1,1)\n",
    "F = norm(f)\n",
    "print('The normalized tuple of {} is: {}' .format(f,F))"
   ]
  }
 ],
 "metadata": {
  "kernelspec": {
   "display_name": "Python 3",
   "language": "python",
   "name": "python3"
  },
  "language_info": {
   "codemirror_mode": {
    "name": "ipython",
    "version": 3
   },
   "file_extension": ".py",
   "mimetype": "text/x-python",
   "name": "python",
   "nbconvert_exporter": "python",
   "pygments_lexer": "ipython3",
   "version": "3.8.8"
  }
 },
 "nbformat": 4,
 "nbformat_minor": 2
}
