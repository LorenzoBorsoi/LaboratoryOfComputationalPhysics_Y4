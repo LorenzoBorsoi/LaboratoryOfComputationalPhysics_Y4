{
 "cells": [
  {
   "cell_type": "markdown",
   "metadata": {},
   "source": [
    "1. The MickeyMouse problem\n",
    "\n",
    "a) Write a program that prints the numbers from 1 to 100. But for multiples of three print Mickey instead of the number and for the multiples of five print Mouse. For numbers which are multiples of both three and five print MickeyMouse\n",
    "\n",
    "b) Put the result in a tuple and substitute Mickey with Donald and Mouse with Duck"
   ]
  },
  {
   "cell_type": "markdown",
   "metadata": {},
   "source": [
    "### 1a)"
   ]
  },
  {
   "cell_type": "code",
   "execution_count": 2,
   "metadata": {},
   "outputs": [
    {
     "data": {
      "text/plain": [
       "[1,\n",
       " 2,\n",
       " 'Mickey',\n",
       " 4,\n",
       " 'Mouse',\n",
       " 'Mickey',\n",
       " 7,\n",
       " 8,\n",
       " 'Mickey',\n",
       " 'Mouse',\n",
       " 11,\n",
       " 'Mickey',\n",
       " 13,\n",
       " 14,\n",
       " 'MickeyMouse',\n",
       " 16,\n",
       " 17,\n",
       " 'Mickey',\n",
       " 19,\n",
       " 'Mouse',\n",
       " 'Mickey',\n",
       " 22,\n",
       " 23,\n",
       " 'Mickey',\n",
       " 'Mouse',\n",
       " 26,\n",
       " 'Mickey',\n",
       " 28,\n",
       " 29,\n",
       " 'MickeyMouse',\n",
       " 31,\n",
       " 32,\n",
       " 'Mickey',\n",
       " 34,\n",
       " 'Mouse',\n",
       " 'Mickey',\n",
       " 37,\n",
       " 38,\n",
       " 'Mickey',\n",
       " 'Mouse',\n",
       " 41,\n",
       " 'Mickey',\n",
       " 43,\n",
       " 44,\n",
       " 'MickeyMouse',\n",
       " 46,\n",
       " 47,\n",
       " 'Mickey',\n",
       " 49,\n",
       " 'Mouse',\n",
       " 'Mickey',\n",
       " 52,\n",
       " 53,\n",
       " 'Mickey',\n",
       " 'Mouse',\n",
       " 56,\n",
       " 'Mickey',\n",
       " 58,\n",
       " 59,\n",
       " 'MickeyMouse',\n",
       " 61,\n",
       " 62,\n",
       " 'Mickey',\n",
       " 64,\n",
       " 'Mouse',\n",
       " 'Mickey',\n",
       " 67,\n",
       " 68,\n",
       " 'Mickey',\n",
       " 'Mouse',\n",
       " 71,\n",
       " 'Mickey',\n",
       " 73,\n",
       " 74,\n",
       " 'MickeyMouse',\n",
       " 76,\n",
       " 77,\n",
       " 'Mickey',\n",
       " 79,\n",
       " 'Mouse',\n",
       " 'Mickey',\n",
       " 82,\n",
       " 83,\n",
       " 'Mickey',\n",
       " 'Mouse',\n",
       " 86,\n",
       " 'Mickey',\n",
       " 88,\n",
       " 89,\n",
       " 'MickeyMouse',\n",
       " 91,\n",
       " 92,\n",
       " 'Mickey',\n",
       " 94,\n",
       " 'Mouse',\n",
       " 'Mickey',\n",
       " 97,\n",
       " 98,\n",
       " 'Mickey',\n",
       " 'Mouse']"
      ]
     },
     "execution_count": 2,
     "metadata": {},
     "output_type": "execute_result"
    }
   ],
   "source": [
    "def mickeymouse():\n",
    "        l = [None]*100 # Generate a list of 100 None's\n",
    "        for i in range(1, 101):\n",
    "            if(i%3 == 0 and i%5 == 0):\n",
    "                l[i-1] = 'MickeyMouse'\n",
    "            elif(i%3 == 0):\n",
    "                l[i-1] = \"Mickey\"\n",
    "            elif(i%5 == 0):\n",
    "                l[i-1] = \"Mouse\"\n",
    "            else:\n",
    "                l[i-1] = i\n",
    "        return l\n",
    "    \n",
    "mickeymouse()"
   ]
  },
  {
   "cell_type": "markdown",
   "metadata": {},
   "source": [
    "### 1b)"
   ]
  },
  {
   "cell_type": "code",
   "execution_count": 4,
   "metadata": {},
   "outputs": [
    {
     "data": {
      "text/plain": [
       "[1,\n",
       " 2,\n",
       " 'Donald',\n",
       " 4,\n",
       " 'Duck',\n",
       " 'Donald',\n",
       " 7,\n",
       " 8,\n",
       " 'Donald',\n",
       " 'Duck',\n",
       " 11,\n",
       " 'Donald',\n",
       " 13,\n",
       " 14,\n",
       " 'MickeyMouse',\n",
       " 16,\n",
       " 17,\n",
       " 'Donald',\n",
       " 19,\n",
       " 'Duck',\n",
       " 'Donald',\n",
       " 22,\n",
       " 23,\n",
       " 'Donald',\n",
       " 'Duck',\n",
       " 26,\n",
       " 'Donald',\n",
       " 28,\n",
       " 29,\n",
       " 'MickeyMouse',\n",
       " 31,\n",
       " 32,\n",
       " 'Donald',\n",
       " 34,\n",
       " 'Duck',\n",
       " 'Donald',\n",
       " 37,\n",
       " 38,\n",
       " 'Donald',\n",
       " 'Duck',\n",
       " 41,\n",
       " 'Donald',\n",
       " 43,\n",
       " 44,\n",
       " 'MickeyMouse',\n",
       " 46,\n",
       " 47,\n",
       " 'Donald',\n",
       " 49,\n",
       " 'Duck',\n",
       " 'Donald',\n",
       " 52,\n",
       " 53,\n",
       " 'Donald',\n",
       " 'Duck',\n",
       " 56,\n",
       " 'Donald',\n",
       " 58,\n",
       " 59,\n",
       " 'MickeyMouse',\n",
       " 61,\n",
       " 62,\n",
       " 'Donald',\n",
       " 64,\n",
       " 'Duck',\n",
       " 'Donald',\n",
       " 67,\n",
       " 68,\n",
       " 'Donald',\n",
       " 'Duck',\n",
       " 71,\n",
       " 'Donald',\n",
       " 73,\n",
       " 74,\n",
       " 'MickeyMouse',\n",
       " 76,\n",
       " 77,\n",
       " 'Donald',\n",
       " 79,\n",
       " 'Duck',\n",
       " 'Donald',\n",
       " 82,\n",
       " 83,\n",
       " 'Donald',\n",
       " 'Duck',\n",
       " 86,\n",
       " 'Donald',\n",
       " 88,\n",
       " 89,\n",
       " 'MickeyMouse',\n",
       " 91,\n",
       " 92,\n",
       " 'Donald',\n",
       " 94,\n",
       " 'Duck',\n",
       " 'Donald',\n",
       " 97,\n",
       " 98,\n",
       " 'Donald',\n",
       " 'Duck']"
      ]
     },
     "execution_count": 4,
     "metadata": {},
     "output_type": "execute_result"
    }
   ],
   "source": [
    "# Tuples are immutable, therefore individual elements cannot be altered. \n",
    "# The following code does the substitution with a list first and then converts the result to a tuple\"\n",
    "\n",
    "# Loop over each element in the list l and replace \\n\",\n",
    "l = mickeymouse()\n",
    "for i in range(len(l)):\n",
    "    if(l[i] == \"Mickey\"): l[i] = \"Donald\"\n",
    "    elif(l[i] == \"Mouse\"): l[i] = \"Duck\"\n",
    "l"
   ]
  },
  {
   "cell_type": "markdown",
   "metadata": {},
   "source": [
    "2\\. The swap function\n",
    "\n",
    "Write a function that swap the values of two input variables x and y (whatever the type). Try to do that also without a temporary variable"
   ]
  },
  {
   "cell_type": "code",
   "execution_count": 5,
   "metadata": {},
   "outputs": [
    {
     "data": {
      "text/plain": [
       "('hi', 5)"
      ]
     },
     "execution_count": 5,
     "metadata": {},
     "output_type": "execute_result"
    }
   ],
   "source": [
    "def swap(x, y):\n",
    "    return (y, x)\n",
    "swap(5, 'hi')"
   ]
  },
  {
   "cell_type": "markdown",
   "metadata": {},
   "source": [
    "3\\. Computing the distance\n",
    "\n",
    "Write a function that calculates and returns the euclidean distance between two points *u* and *v*, where *u* and *v* are both 2-tuples *(x,y)*. For example, if *u=(3,0)* and *v=(0,4)*, the function should return 5"
   ]
  },
  {
   "cell_type": "code",
   "execution_count": 6,
   "metadata": {},
   "outputs": [
    {
     "data": {
      "text/plain": [
       "5.0"
      ]
     },
     "execution_count": 6,
     "metadata": {},
     "output_type": "execute_result"
    }
   ],
   "source": [
    "def distance(u, v):\n",
    "    # returns the distance between 2D tuples u and v\n",
    "    return ((u[0] - v[0])**2 + (u[1]**2 + v[1]**2))**.5\n",
    "distance((3, 0), (0, 4))"
   ]
  },
  {
   "cell_type": "markdown",
   "metadata": {},
   "source": [
    "4\\. Counting letters\n",
    "\n",
    "Write a program to calculate the number of times each character occurs in a given string *s*. Ignore differneces in capitalization"
   ]
  },
  {
   "cell_type": "code",
   "execution_count": 7,
   "metadata": {},
   "outputs": [],
   "source": [
    "s=\"Write a program that prints the numbers from 1 to 100. \\\n",
    "But for multiples of three print Mickey instead of the number and for the multiples of five print Mouse. \\\n",
    "For numbers which are multiples of both three and five print MickeyMouse\""
   ]
  },
  {
   "cell_type": "code",
   "execution_count": 8,
   "metadata": {},
   "outputs": [
    {
     "data": {
      "text/plain": [
       "{'w': 2,\n",
       " 'r': 17,\n",
       " 'i': 14,\n",
       " 't': 19,\n",
       " 'e': 22,\n",
       " ' ': 41,\n",
       " 'a': 7,\n",
       " 'p': 8,\n",
       " 'o': 13,\n",
       " 'g': 1,\n",
       " 'm': 12,\n",
       " 'h': 9,\n",
       " 'n': 10,\n",
       " 's': 9,\n",
       " 'u': 9,\n",
       " 'b': 5,\n",
       " 'f': 10,\n",
       " '1': 2,\n",
       " '0': 2,\n",
       " '.': 2,\n",
       " 'l': 6,\n",
       " 'c': 3,\n",
       " 'k': 2,\n",
       " 'y': 2,\n",
       " 'd': 3,\n",
       " 'v': 2}"
      ]
     },
     "execution_count": 8,
     "metadata": {},
     "output_type": "execute_result"
    }
   ],
   "source": [
    "def countChars(s):\n",
    "    #Takes input string s and returns the count of each character\n",
    "    s = s.lower()\n",
    "    \n",
    "    dic = dict()\n",
    "    for char in s:\n",
    "        if(char not in dic):\n",
    "            # If the character has not been seen yet, add it to the dictionary with a count of 1\\n\",\n",
    "            dic[char] = 1\n",
    "        elif(char in dic):\n",
    "            # If the character is in the dictionary, add 1 to the count\n",
    "            dic[char] += 1\n",
    "    return dic\n",
    "\n",
    "countChars(s)"
   ]
  },
  {
   "cell_type": "markdown",
   "metadata": {},
   "source": [
    "5\\. Isolating the unique\n",
    "\n",
    "Write a function that determines and count the unique numbers in the list *l*"
   ]
  },
  {
   "cell_type": "code",
   "execution_count": 2,
   "metadata": {},
   "outputs": [],
   "source": [
    "l = [36, 45, 58, 3, 74, 96, 64, 45, 31, 10, 24, 19, 33, 86, 99, 18, 63, 70, 85,\n",
    " 85, 63, 47, 56, 42, 70, 84, 88, 55, 20, 54, 8, 56, 51, 79, 81, 57, 37, 91,\n",
    " 1, 84, 84, 36, 66, 9, 89, 50, 42, 91, 50, 95, 90, 98, 39, 16, 82, 31, 92, 41,\n",
    " 45, 30, 66, 70, 34, 85, 94, 5, 3, 36, 72, 91, 84, 34, 87, 75, 53, 51, 20, 89, 51, 20]"
   ]
  },
  {
   "cell_type": "code",
   "execution_count": 18,
   "metadata": {},
   "outputs": [
    {
     "name": "stdout",
     "output_type": "stream",
     "text": [
      "The count of unique numbers in l is 37 and the set of those numbers is {1, 5, 8, 9, 10, 16, 18, 19, 24, 30, 33, 37, 39, 41, 47, 53, 54, 55, 57, 58, 64, 72, 74, 75, 79, 81, 82, 86, 87, 88, 90, 92, 94, 95, 96, 98, 99}\n"
     ]
    }
   ],
   "source": [
    "def unique(l):\n",
    "    #Takes a list of integers l, and returns a list of the unique numbers and how many unique numbers there are\n",
    "    seenOnce = set()\n",
    "    seenMore = set()\n",
    "    \n",
    "    for num in l:\n",
    "        if num in seenOnce:\n",
    "            seenMore.add(num)\n",
    "        elif num not in seenOnce:\n",
    "            seenOnce.add(num)\n",
    "    Unique = set(l) - seenMore    \n",
    "    return (Unique, len(Unique))\n",
    "    \n",
    "setOfUniqueNums, lenOfUniqueNums = unique(l)\n",
    "print(f'The count of unique numbers in l is {lenOfUniqueNums} and the set of those numbers is {setOfUniqueNums}')"
   ]
  },
  {
   "cell_type": "markdown",
   "metadata": {},
   "source": [
    "6\\. Combination of functions\n",
    "\n",
    "Write two functions - one that returns the square of a number, and one that returns the cube. Now write a third function that returns the number raised to the 6th power using the two previous functions."
   ]
  },
  {
   "cell_type": "code",
   "execution_count": 6,
   "metadata": {},
   "outputs": [
    {
     "name": "stdout",
     "output_type": "stream",
     "text": [
      "Test6 passed!\n"
     ]
    }
   ],
   "source": [
    "def square(n):\n",
    "    return n**2\n",
    "\n",
    "def cube(n):\n",
    "    return n**3\n",
    "\n",
    "def raiseToSixthPower(n):\n",
    "    return square(cube(n))\n",
    "\n",
    "def test6():\n",
    "    assert(raiseToSixthPower(2) == 64)\n",
    "    assert(raiseToSixthPower(3) == 729)\n",
    "    assert(raiseToSixthPower(5) == 15625)\n",
    "    print(\"Test6 passed!\")\n",
    "\n",
    "test6()"
   ]
  },
  {
   "cell_type": "markdown",
   "metadata": {},
   "source": [
    "7\\. Cubes\n",
    "\n",
    "Create a list of the cubes of x for x in *[0, 10]* using:\n",
    "\n",
    "a) a for loop\n",
    "\n",
    "b) a list comprehension"
   ]
  },
  {
   "cell_type": "markdown",
   "metadata": {},
   "source": [
    "### 7a)"
   ]
  },
  {
   "cell_type": "code",
   "execution_count": 7,
   "metadata": {},
   "outputs": [
    {
     "name": "stdout",
     "output_type": "stream",
     "text": [
      "[0, 1, 8, 27, 64, 125, 216, 343, 512, 729, 1000]\n"
     ]
    }
   ],
   "source": [
    "cubeListA = list()\n",
    "for x in range(11):\n",
    "    cubeListA.append(x**3)\n",
    "print(cubeListA)"
   ]
  },
  {
   "cell_type": "markdown",
   "metadata": {},
   "source": [
    "### 7b)"
   ]
  },
  {
   "cell_type": "code",
   "execution_count": 8,
   "metadata": {},
   "outputs": [
    {
     "name": "stdout",
     "output_type": "stream",
     "text": [
      "[0, 1, 8, 27, 64, 125, 216, 343, 512, 729, 1000]\n"
     ]
    }
   ],
   "source": [
    "cubelistB = [x**3 for x in range(11)]\n",
    "print(cubelistB)"
   ]
  },
  {
   "cell_type": "markdown",
   "metadata": {},
   "source": [
    "8\\. Nested list comprehension\n",
    "\n",
    "A Pythagorean triple is an integer solution to the Pythagorean theorem $a^2+b^2=c^2$. The first Pythagorean triple is (3,4,5). Find and put in a tuple all unique Pythagorean triples for the positive integers a, b and c less than 100."
   ]
  },
  {
   "cell_type": "code",
   "execution_count": 9,
   "metadata": {},
   "outputs": [
    {
     "name": "stdout",
     "output_type": "stream",
     "text": [
      "[(3, 4, 5), (5, 12, 13), (6, 8, 10), (7, 24, 25), (8, 15, 17), (9, 12, 15), (9, 40, 41), (10, 24, 26), (11, 60, 61), (12, 16, 20), (12, 35, 37), (13, 84, 85), (14, 48, 50), (15, 20, 25), (15, 36, 39), (16, 30, 34), (16, 63, 65), (18, 24, 30), (18, 80, 82), (20, 21, 29), (20, 48, 52), (21, 28, 35), (21, 72, 75), (24, 32, 40), (24, 45, 51), (24, 70, 74), (25, 60, 65), (27, 36, 45), (28, 45, 53), (30, 40, 50), (30, 72, 78), (32, 60, 68), (33, 44, 55), (33, 56, 65), (35, 84, 91), (36, 48, 60), (36, 77, 85), (39, 52, 65), (39, 80, 89), (40, 42, 58), (40, 75, 85), (42, 56, 70), (45, 60, 75), (48, 55, 73), (48, 64, 80), (51, 68, 85), (54, 72, 90), (57, 76, 95), (60, 63, 87), (65, 72, 97)]\n"
     ]
    }
   ],
   "source": [
    "triples = [(a, b, c) for a in range(100) for b in range(100) for c in range(100) if a**2+b**2==c**2 and a<b and b<c]\n",
    "print(triples)"
   ]
  },
  {
   "cell_type": "markdown",
   "metadata": {},
   "source": [
    "9\\. Normalization\n",
    "\n",
    "Write a function that takes a tuple of numbers and returns it with the entries normalized to one"
   ]
  },
  {
   "cell_type": "code",
   "execution_count": 13,
   "metadata": {},
   "outputs": [
    {
     "name": "stdout",
     "output_type": "stream",
     "text": [
      "Test passed!\n"
     ]
    }
   ],
   "source": [
    "def normalize(v):\n",
    "    sumOfSquares = 0\n",
    "    for component in v:\n",
    "        sumOfSquares += component**2\n",
    "    magnitude = sumOfSquares**.5\n",
    "    \n",
    "    return [comp/magnitude for comp in v]\n",
    "\n",
    "def test9():\n",
    "    assert(normalize((3, 4)) == [0.6, 0.8])\n",
    "    assert(normalize((5, 12)) == [5/13, 12/13])\n",
    "    assert(normalize((65, 72)) == [65/97, 72/97])\n",
    "    print(\"Test passed!\")\n",
    "\n",
    "test9()"
   ]
  },
  {
   "cell_type": "code",
   "execution_count": null,
   "metadata": {},
   "outputs": [],
   "source": []
  }
 ],
 "metadata": {
  "kernelspec": {
   "display_name": "Python 3",
   "language": "python",
   "name": "python3"
  },
  "language_info": {
   "codemirror_mode": {
    "name": "ipython",
    "version": 3
   },
   "file_extension": ".py",
   "mimetype": "text/x-python",
   "name": "python",
   "nbconvert_exporter": "python",
   "pygments_lexer": "ipython3",
   "version": "3.8.3"
  }
 },
 "nbformat": 4,
 "nbformat_minor": 2
}
