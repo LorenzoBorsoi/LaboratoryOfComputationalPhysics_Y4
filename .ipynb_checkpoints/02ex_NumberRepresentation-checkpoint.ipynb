{
 "cells": [
  {
   "cell_type": "markdown",
   "metadata": {},
   "source": [
    "1\\. Write a function that converts number representation (bin<->dec<->hex)"
   ]
  },
  {
   "cell_type": "code",
   "execution_count": 1,
   "metadata": {
    "scrolled": true
   },
   "outputs": [
    {
     "name": "stdout",
     "output_type": "stream",
     "text": [
      "bin2dec test. Binary number entered:  0b100111011111 \n",
      "True answer:  2527 \n",
      "Function's response:  2527\n",
      "\n",
      "\n",
      "dec2bin test. Dec number entered:  96541 \n",
      "True answer:  0b10111100100011101 \n",
      "Function's response:  [1, 0, 1, 1, 1, 1, 0, 0, 1, 0, 0, 0, 1, 1, 1, 0, 1]\n",
      "[1, 0, 1, 1, 1, 0, 0, 0, 1, 0, 0, 1, 1, 1, 1, 0, 1, 0, 0, 0]\n",
      "\n",
      "\n",
      "dec2hex test.\n",
      "Dec number entered:  96541 \n",
      "True answer:  0x1791d \n",
      "Function's response:  [1, 7, 9, 1, 'd']\n",
      "\n",
      "\n",
      "hex2dec test.\n",
      "Hex number entered:  0xab8d9 \n",
      "True answer:  702681 \n",
      "Function's response:  702681\n"
     ]
    }
   ],
   "source": [
    "#finished\n",
    "\n",
    "import math\n",
    "\n",
    "def bin2dec(b):\n",
    "    l = list(bin(b))\n",
    "    del l[:2]\n",
    "    l.reverse()\n",
    "    ans = 0\n",
    "    for i in range(0,len(l)):\n",
    "        ans = ans + int(l[i])*2**i\n",
    "    return ans\n",
    "\n",
    "b = 0b100111011111\n",
    "print('bin2dec test. Binary number entered: ',bin(b),'\\nTrue answer: ',b,\"\\nFunction's response: \",bin2dec(b))\n",
    "\n",
    "\n",
    "def dec2bin(d):\n",
    "    div = [d]\n",
    "    while d != 1:\n",
    "        div.append(math.floor(d/2))\n",
    "        d = math.floor(d/2)\n",
    "    ans = [i%2 for i in div]\n",
    "    ans.reverse()\n",
    "    return ans\n",
    "\n",
    "dec = 0b010111100100011101\n",
    "print('\\n\\ndec2bin test. Dec number entered: ',dec,'\\nTrue answer: ',bin(dec),\"\\nFunction's response: \",dec2bin(dec))\n",
    "\n",
    "\n",
    "def dec2hex(dec):\n",
    "    hexdic = {10:'a',11:'b',12:'c',13:'d',14:'e',15:'f',16:'g'}\n",
    "    binn = dec2bin(dec)\n",
    "    binn.reverse()\n",
    "    #add on 0's so the binary nimber is seperable into four bit numbers.\n",
    "    for i in range(4-(len(binn)%4)):\n",
    "        binn.append(0)\n",
    "    \n",
    "    print(binn)\n",
    "    hexa = []\n",
    "    for i in range(0,len(binn),4):\n",
    "        hexingle = 0\n",
    "        for j in range(4):\n",
    "            hexingle = hexingle + binn[i+j]*2**j\n",
    "            if hexingle > 9: hexingle = hexdic[hexingle]\n",
    "            if j == 3: hexa.append(hexingle)\n",
    "    \n",
    "    hexa.reverse()            \n",
    "    return hexa\n",
    "\n",
    "print('\\n\\ndec2hex test.\\nDec number entered: ',dec,'\\nTrue answer: ',hex(dec),\"\\nFunction's response: \",dec2hex(dec))\n",
    "\n",
    "hexx = 0xab8d9\n",
    "\n",
    "def hex2dec(hexx):\n",
    "    hexdic = {'1':1,'2':2,'3':3,'4':4,'5':5,'6':6,'7':7,'8':8,'9':9,'a':10,'b':11,'c':12,'d':13,'e':14,'f':15,'g':16}    \n",
    "    hexx = list(hex(hexx))\n",
    "    hexx = hexx[2:len(hexx)]\n",
    "    \n",
    "    hexx = list(map(lambda x: hexdic[x],hexx))\n",
    "    hexx.reverse()\n",
    "    ans = 0\n",
    "    for i in range(len(hexx)):\n",
    "        ans = ans + hexx[i]*16**i\n",
    "    return ans\n",
    "\n",
    "print('\\n\\nhex2dec test.\\nHex number entered: ',hex(hexx),'\\nTrue answer: ',hexx,\"\\nFunction's response: \",hex2dec(hexx))\n",
    "\n",
    "    \n",
    "\n"
   ]
  },
  {
   "cell_type": "markdown",
   "metadata": {},
   "source": [
    "# 2\\. Write a function that converts a 32 bit word into a single precision floating point (i.e. interprets the various bits as sign, mantissa and exponent)"
   ]
  },
  {
   "cell_type": "code",
   "execution_count": 2,
   "metadata": {},
   "outputs": [
    {
     "name": "stdout",
     "output_type": "stream",
     "text": [
      "\n",
      "word2float test.\n",
      "word entered:  0b11011101001010101001001100100101 \n",
      "True answer: -7.68200530622e+17 \n",
      "Function's response:  -7.682005306221527e+17\n"
     ]
    }
   ],
   "source": [
    "#finished\n",
    "def word2float(word):\n",
    "    b = 127\n",
    "    ft = 0b00000000011111111111111111111111\n",
    "    et = 0b01111111100000000000000000000000\n",
    "    st = 0b10000000000000000000000000000000\n",
    "    \n",
    "    f = word & ft\n",
    "    sin = 0b00000000000000000000000000000001\n",
    "    m = 1\n",
    "    for i in range(23,0,-1):\n",
    "        m = m + (f & sin)*2**-i\n",
    "        f = f >> 1\n",
    "    e = (word & et)>>23\n",
    "    s = (word & st)>>31\n",
    "   \n",
    "    return float((-1**s)*m*2**(e-b))\n",
    "    \n",
    "word = 0b11011101001010101001001100100101\n",
    "\n",
    "print('\\nword2float test.\\nword entered: ',bin(word),'\\nTrue answer: -7.68200530622e+17',\"\\nFunction's response: \",word2float(word))"
   ]
  },
  {
   "cell_type": "code",
   "execution_count": null,
   "metadata": {},
   "outputs": [],
   "source": []
  },
  {
   "cell_type": "markdown",
   "metadata": {},
   "source": [
    "3\\. Write a program to determine the underflow and overflow limits (within a factor of 2) for python on your computer. \n",
    "\n",
    "**Tips**: define two variables inizialized to 1 and halve/double them enough time to exceed the under/over-flow limits  "
   ]
  },
  {
   "cell_type": "code",
   "execution_count": 3,
   "metadata": {},
   "outputs": [
    {
     "name": "stdout",
     "output_type": "stream",
     "text": [
      "The largest number a float can represent is 8.98846567431158e+307 . Within a factor of 2.\n"
     ]
    }
   ],
   "source": [
    "#finished\n",
    "#overflow\n",
    "over=float(1)\n",
    "while over != float('inf'):\n",
    "    mem = over\n",
    "    over = over*2\n",
    "    if over == float('inf'): print('The largest number a float can represent is', mem,'. Within a factor of 2.')\n"
   ]
  },
  {
   "cell_type": "code",
   "execution_count": 4,
   "metadata": {},
   "outputs": [
    {
     "name": "stdout",
     "output_type": "stream",
     "text": [
      "The smallest number a float can represent is   5e-324 . Within a factor of 2.\n"
     ]
    }
   ],
   "source": [
    "#finished\n",
    "#underflow\n",
    "under=float(1)\n",
    "while under != 0:\n",
    "    mem = under\n",
    "    under = under*0.5\n",
    "    if under == 0: print('The smallest number a float can represent is  ', mem,'. Within a factor of 2.')\n",
    "    "
   ]
  },
  {
   "cell_type": "markdown",
   "metadata": {},
   "source": [
    "4\\. Write a program to determine the machine precision\n",
    "\n",
    "**Tips**: define a new variable by adding a smaller and smaller value (proceeding similarly to prob. 2) to an original variable and check the point where the two are the same "
   ]
  },
  {
   "cell_type": "code",
   "execution_count": 16,
   "metadata": {},
   "outputs": [
    {
     "name": "stdout",
     "output_type": "stream",
     "text": [
      "The smallest incriment to the nearest order of 10 is 1e-17\n"
     ]
    }
   ],
   "source": [
    "#finished\n",
    "value = 1\n",
    "\n",
    "almost = 0\n",
    "fin = 0\n",
    "incriment = 0.1\n",
    "while fin != 1:\n",
    "    almost = value + incriment\n",
    "    incriment = incriment/10\n",
    "    if almost == value: \n",
    "        fin = 1\n",
    "        print('The smallest incriment to the nearest order of 10 is',incriment)\n",
    "\n",
    "\n",
    "\n",
    "\n"
   ]
  },
  {
   "cell_type": "markdown",
   "metadata": {},
   "source": [
    "5\\. Write a function that takes in input three parameters $a$, $b$ and $c$ and prints out the two solutions to the quadratic equation $ax^2+bx+c=0$ using the standard formula:\n",
    "$$\n",
    "x=\\frac{-b\\pm\\sqrt{b^2-4ac}}{2a}\n",
    "$$\n",
    "\n",
    "(a) use the program to compute the solution for $a=0.001$, $b=1000$ and $c=0.001$\n",
    "\n",
    "(b) re-express the standard solution formula by multiplying top and bottom by $-b\\mp\\sqrt{b^2-4ac}$ and again find the solution for $a=0.001$, $b=1000$ and $c=0.001$. How does it compare with what previously obtained? Why?\n",
    "\n",
    "**Answer** This is because when two similar numbers are multiplied together, catastrophic collision occurs. Catastrophic collision is when the number of significant figures used to represent a quantity in a calculation is significantly reduced due to the quantity being small and the limitations of the number of bits available to store the number.\n",
    "\n",
    "(c) write a function that compute the roots of a quadratic equation accurately in all cases"
   ]
  },
  {
   "cell_type": "markdown",
   "metadata": {},
   "source": [
    "(b)$ x = \\dfrac{4ac}{2 a b \\mp 2 a \\sqrt{b^2-4ac}}$"
   ]
  },
  {
   "cell_type": "code",
   "execution_count": 14,
   "metadata": {},
   "outputs": [
    {
     "name": "stdout",
     "output_type": "stream",
     "text": [
      "\n",
      "x1 is okay but x2 suffers from catastrophic collision\n",
      "-9.999894245993346e-07 -999999.999999\n",
      "\n",
      "Now x2 is okay but x1 suffers from catastrophic colliosion\n",
      "-1.000000000001e-06 -1000010.5755125057\n",
      "\n",
      "Now neither suffer from catastrophic collision\n",
      "-9.999894245993346e-07 -1000010.5755125057\n"
     ]
    }
   ],
   "source": [
    "###finished\n",
    "\n",
    "#a\n",
    "def root1(a,b,c):\n",
    "\n",
    "    twoa = 2*a\n",
    "    bsqmin4ac = ((b**2)-(4*a*c))**(1/2)\n",
    "    \n",
    "    x1 = (-b+bsqmin4ac)/twoa\n",
    "    x2 = (-b-bsqmin4ac)/twoa\n",
    "    \n",
    "    return x1, x2\n",
    "x1, x2 = root1(0.001,1000,0.001)\n",
    "print('\\nx1 is okay but x2 suffers from catastrophic collision')\n",
    "print(x1,x2)\n",
    "\n",
    "#b\n",
    "def root2(a,b,c):\n",
    "    bsqmin4ac = ((b**2)-(4*a*c))**(1/2)\n",
    "    \n",
    "    x1 = (2*c)/(-b-bsqmin4ac)\n",
    "    x2 = (2*c)/(-b+bsqmin4ac)\n",
    "\n",
    "    return x1, x2\n",
    "x3, x4 = root2(0.001,1000,0.001)\n",
    "print('\\nNow x2 is okay but x1 suffers from catastrophic colliosion')\n",
    "print(x3,x4)\n",
    "\n",
    "#c\n",
    "def root3(a,b,c):\n",
    "    twoa = 2*a\n",
    "    bsqmin4ac = ((b**2)-(4*a*c))**(1/2)\n",
    "    \n",
    "    x1 = (-b+bsqmin4ac)/twoa\n",
    "    x2 = (2*c)/(-b+bsqmin4ac)\n",
    " \n",
    "    return x1, x2   \n",
    "x5, x6 = root3(0.001,1000,0.001)\n",
    "print('\\nNow neither suffer from catastrophic collision')\n",
    "print(x5,x6)\n"
   ]
  },
  {
   "cell_type": "markdown",
   "metadata": {},
   "source": [
    "6\\. Write a program that implements the function $f(x)=x(x−1)$\n",
    "\n",
    "(a) Calculate the derivative of the function at the point $x = 1$ using the derivative definition:\n",
    "\n",
    "$$\n",
    "\\frac{{\\rm d}f}{{\\rm d}x} = \\lim_{\\delta\\to0} \\frac{f(x+\\delta)-f(x)}{\\delta}\n",
    "$$\n",
    "\n",
    "with $\\delta = 10^{−2}$. Calculate the true value of the same derivative analytically and compare with the answer your program gives. The two will not agree perfectly. Why not?\n",
    "\n",
    "(b) Repeat the calculation for $\\delta = 10^{−4}, 10^{−6}, 10^{−8}, 10^{−10}, 10^{−12}$ and $10^{−14}$. How does the accuracy scales with $\\delta$?"
   ]
  },
  {
   "cell_type": "code",
   "execution_count": 28,
   "metadata": {},
   "outputs": [
    {
     "name": "stdout",
     "output_type": "stream",
     "text": [
      "For x=1 and delta = 10^-2 the limit differential is evaluated as: 1.010000000000001\n",
      "The true value from calculus is: 1\n",
      "They differ because the first is only true in the limit where delta approches 0, but it cannot be 0 as this would lead to the fraction becoming infinity\n",
      "\n",
      "\n",
      "[0.0001, 1e-06, 1e-08, 1e-10, 1e-12, 1e-14]\n",
      "[9.999999988985486e-05, 9.99917733279787e-07, 3.922528746258536e-09, 8.284037100736441e-08, 8.890058334132256e-05, 0.0007992778373491216]\n"
     ]
    }
   ],
   "source": [
    "import math\n",
    "\n",
    "def f(x):\n",
    "    return x*(x-1)\n",
    "\n",
    "\n",
    "\n",
    "\n",
    "def limf(x,delta):\n",
    "    return (f(x+delta)-f(x))/(delta)\n",
    "\n",
    "def difex(x):\n",
    "    return (2*x)-1\n",
    "\n",
    "print('For x=1 and delta = 10^-2 the limit differential is evaluated as:',limf(1,0.01))\n",
    "print('The true value from calculus is:',difex(1))\n",
    "print('They differ because the first is only true in the limit where delta approches 0, but it cannot be 0 as this would lead to the fraction becoming infinity\\n\\n')\n",
    "\n",
    "delist = [10**(-i) for i in range(4,15,2)]\n",
    "\n",
    "print(delist)\n",
    "\n",
    "limf = [limf(1,delta) for delta in delist]\n",
    "\n",
    "acc = [abs(li-difex(1)) for li in limf]\n",
    "\n",
    "print(acc)\n"
   ]
  },
  {
   "cell_type": "markdown",
   "metadata": {},
   "source": [
    "7\\. Consider the integral of the semicircle of radius 1:\n",
    "$$\n",
    "I=\\int_{-1}^{1} \\sqrt(1-x^2) {\\rm d}x\n",
    "$$\n",
    "which it's known to be $I=\\frac{\\pi}{2}=1.57079632679...$.\n",
    "Alternatively we can use the Riemann definition of the integral:\n",
    "$$\n",
    "I=\\lim_{N\\to\\infty} \\sum_{k=1}^{N} h y_k \n",
    "$$\n",
    "\n",
    "with $h=2/N$ the width of each of the $N$ slices the domain is divided into and where\n",
    "$y_k$ is the value of the function at the $k-$th slice.\n",
    "\n",
    "(a) Write a programe to compute the integral with $N=100$. How does the result compares to the true value?\n",
    "\n",
    "(b) How much can $N$ be increased if the computation needs to be run in less than a second? What is the gain in running it for 1 minute? \n"
   ]
  },
  {
   "cell_type": "code",
   "execution_count": null,
   "metadata": {},
   "outputs": [
    {
     "name": "stdout",
     "output_type": "stream",
     "text": [
      "The estimated value is 1.5534179294048955 This is a little smaller than the true value\n",
      "for 1 sec the answer is 1.5707959101050988 and it uses 5657635 slices. it runs for 0.871986348000064 seconds\n"
     ]
    }
   ],
   "source": [
    "import time\n",
    "import numpy as np\n",
    "from timeit import default_timer as timer\n",
    "\n",
    "def I(N):\n",
    "    k = np.linspace(-1,1,N)\n",
    "    y = (2/N)*(1 - k**2)**(1/2)\n",
    "    I = sum(y)\n",
    "    return I\n",
    "\n",
    "\n",
    "print('The estimated value is',I(100),'This is a little smaller than the true value')\n",
    "\n",
    "\n",
    "def timed(sec):\n",
    "    slices = 100\n",
    "    after = 0 \n",
    "    before = 0\n",
    "    ans = 0\n",
    "    \n",
    "    while (after - before) < sec:\n",
    "        membefore = before\n",
    "        memans = ans\n",
    "        memafter = after\n",
    "        memslices = slices\n",
    "        \n",
    "        before = timer()\n",
    "        ans = I(slices)\n",
    "        after = timer()\n",
    "        slices = int(slices * 1.5)\n",
    "    return memans, memslices, memafter-membefore\n",
    "\n",
    "#print(timed(1,100))\n",
    "secI, secSlice, t1 = timed(1)\n",
    "print('for 1 sec the answer is',secI,'and it uses',secSlice,'slices.','it runs for',t1,'seconds')\n",
    "\n",
    "\n",
    "print('for 1 min the answer is',I(secSlice*60),'and it uses',secSlice*60,'slices.')"
   ]
  },
  {
   "cell_type": "markdown",
   "metadata": {},
   "source": [
    "<h5>It won't run for a minute, the kernal dies.<h5>"
   ]
  },
  {
   "cell_type": "code",
   "execution_count": null,
   "metadata": {},
   "outputs": [],
   "source": []
  }
 ],
 "metadata": {
  "kernelspec": {
   "display_name": "Python 3",
   "language": "python",
   "name": "python3"
  },
  "language_info": {
   "codemirror_mode": {
    "name": "ipython",
    "version": 3
   },
   "file_extension": ".py",
   "mimetype": "text/x-python",
   "name": "python",
   "nbconvert_exporter": "python",
   "pygments_lexer": "ipython3",
   "version": "3.8.8"
  }
 },
 "nbformat": 4,
 "nbformat_minor": 2
}
