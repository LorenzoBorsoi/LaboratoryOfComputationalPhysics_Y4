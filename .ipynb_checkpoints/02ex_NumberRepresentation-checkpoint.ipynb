{
 "cells": [
  {
   "cell_type": "markdown",
   "metadata": {},
   "source": [
    "1\\. Write a function that converts number representation (bin<->dec<->hex)"
   ]
  },
  {
   "cell_type": "code",
   "execution_count": 137,
   "metadata": {},
   "outputs": [
    {
     "name": "stdout",
     "output_type": "stream",
     "text": [
      "101\n"
     ]
    }
   ],
   "source": [
    "#Universal base converter: takes number, starting base and resulting base as arguments. Use string type for numbers that uses letter\n",
    "def conversion(x,from_=10,to_=2):\n",
    "    digit=['0','1','2','3','4','5','6','7','8','9','a','b','c','d','e','f','g','h','i','j','k','l','m','n','o','p','q','r','s','t','u','v','w','x','y','z']\n",
    "    \n",
    "    def from10(x,to_):\n",
    "        out=[]\n",
    "        strout=\"\"\n",
    "        v=True\n",
    "        while v==True:\n",
    "            a=x%to_\n",
    "            out.insert(0,digit[a])\n",
    "            x=x//to_\n",
    "            if x==0: v=False\n",
    "        for n in range(len(out)):\n",
    "            strout=strout+out[n]\n",
    "        return(strout)\n",
    "    \n",
    "    def to10(x,from_):\n",
    "        strin=str(x)\n",
    "        tot=0\n",
    "        for n,val in enumerate(strin):\n",
    "            for j,i in enumerate(digit):\n",
    "                if i==val: \n",
    "                    tot=tot+j*from_**(len(strin)-n-1)\n",
    "        return tot\n",
    "    \n",
    "    if from_>36 or to_>36:\n",
    "        print(\"ERROR: Out of range!\")\n",
    "        \n",
    "    elif from_==10:\n",
    "        ret_val=from10(x,to_)\n",
    "        return ret_val\n",
    "             \n",
    "    elif from_!=10 and to_==10:\n",
    "        ret_val=to10(x,from_)\n",
    "        return ret_val\n",
    "    \n",
    "    else:\n",
    "        ret_val=to10(x,from_)\n",
    "        ret_val=from10(ret_val,to_)\n",
    "        return ret_val\n",
    "\n",
    "\n",
    "ciao=5\n",
    "carlo = conversion(ciao)\n",
    "print(carlo)"
   ]
  },
  {
   "cell_type": "markdown",
   "metadata": {},
   "source": [
    "2\\. Write a function that converts a 32 bit word into a single precision floating point (i.e. interprets the various bits as sign, mantissa and exponent)"
   ]
  },
  {
   "cell_type": "code",
   "execution_count": 172,
   "metadata": {},
   "outputs": [
    {
     "name": "stdout",
     "output_type": "stream",
     "text": [
      "54.8916015625\n"
     ]
    }
   ],
   "source": [
    "#La parola è sequenza di numeri as str, sia decimale che binario\n",
    "\n",
    "def make_float(x, base=2):\n",
    "    sign=+1\n",
    "    n=str(x)\n",
    "    mant_n=0\n",
    "    #Solution for decimal numbers\n",
    "    if type(x)==int and x<0:\n",
    "        x=x*-1\n",
    "        sign=-1\n",
    "    if base!=2:\n",
    "        n=str(conversion(x,base,2))\n",
    "        print(n)  \n",
    "    #Check if the lenght is correct\n",
    "    if len(n)!=32:\n",
    "        print(\"ERROR: Wrong number of bits\")\n",
    "    #Doing the conversion\n",
    "    else:\n",
    "        if   n[0]=='0': sign=1\n",
    "        elif n[0]=='1': sign=(-1)\n",
    "        expo_str=n[1:9]\n",
    "        expo_n=(conversion(expo_str,2,10))-127\n",
    "        mant='1'+str(n[9:])\n",
    "        for i, m in enumerate(mant):\n",
    "            mant_n+=2**(-i+expo_n)*int(m)\n",
    "        mant_n=mant_n*sign\n",
    "        return mant_n\n",
    "    \n",
    "\n",
    "eg='01000010010110111001000100000000'\n",
    "print(make_float(eg))\n"
   ]
  },
  {
   "cell_type": "markdown",
   "metadata": {},
   "source": [
    "3\\. Write a program to determine the underflow and overflow limits (within a factor of 2) for python on your computer. \n",
    "\n",
    "**Tips**: define two variables inizialized to 1 and halve/double them enough time to exceed the under/over-flow limits  "
   ]
  },
  {
   "cell_type": "code",
   "execution_count": 205,
   "metadata": {},
   "outputs": [
    {
     "name": "stdout",
     "output_type": "stream",
     "text": [
      "Overflow was reached using 2^ 1024.0\n",
      "Underflow was reached using 2^ 1075\n"
     ]
    }
   ],
   "source": [
    "#Determine overflow\n",
    "n=0.\n",
    "i=True\n",
    "\n",
    "while i==True:\n",
    "    try:\n",
    "        f=(2**n)\n",
    "        #if n%1000==0: \n",
    "            #print(len(str(f)))\n",
    "            #print(type(f))\n",
    "        n+=1\n",
    "    except:\n",
    "        print(\"Overflow was reached using 2^\",n)\n",
    "        i=False\n",
    "n=0\n",
    "f=1\n",
    "j=True\n",
    "while j==True:\n",
    "    if f!= 0.0:\n",
    "        f=(2**(-n))\n",
    "        n+=1\n",
    "    else:\n",
    "        print(\"Underflow was reached using 2^\",n-1)\n",
    "        j=False\n"
   ]
  },
  {
   "cell_type": "markdown",
   "metadata": {},
   "source": [
    "4\\. Write a program to determine the machine precision\n",
    "\n",
    "**Tips**: define a new variable by adding a smaller and smaller value (proceeding similarly to prob. 2) to an original variable and check the point where the two are the same "
   ]
  },
  {
   "cell_type": "code",
   "execution_count": 216,
   "metadata": {},
   "outputs": [
    {
     "name": "stdout",
     "output_type": "stream",
     "text": [
      "The machine precision is reached with 2^ 54\n"
     ]
    }
   ],
   "source": [
    "n=1\n",
    "a=1\n",
    "b=1.5\n",
    "while a!=b:\n",
    "    a+=(2**-n)\n",
    "    b+=(2**-(n+1))\n",
    "    #print(a,b)\n",
    "    n+=1\n",
    "print(\"The machine precision is reached with 2^\", n)"
   ]
  },
  {
   "cell_type": "markdown",
   "metadata": {},
   "source": [
    "5\\. Write a function that takes in input three parameters $a$, $b$ and $c$ and prints out the two solutions to the quadratic equation $ax^2+bx+c=0$ using the standard formula:\n",
    "$$\n",
    "x=\\frac{-b\\pm\\sqrt{b^2-4ac}}{2a}\n",
    "$$\n",
    "\n",
    "(a) use the program to compute the solution for $a=0.001$, $b=1000$ and $c=0.001$\n",
    "\n",
    "(b) re-express the standard solution formula by multiplying top and bottom by $-b\\mp\\sqrt{b^2-4ac}$ and again find the solution for $a=0.001$, $b=1000$ and $c=0.001$. How does it compare with what previously obtained? Why?\n",
    "\n",
    "(c) write a function that compute the roots of a quadratic equation accurately in all cases"
   ]
  },
  {
   "cell_type": "code",
   "execution_count": 241,
   "metadata": {},
   "outputs": [
    {
     "name": "stdout",
     "output_type": "stream",
     "text": [
      "(-9.999894245993346e-07, -999999.999999)\n",
      "(-1.000000000001e-06, -1000010.5755125057)\n",
      "(-1.000000000001e-06, -999999.999999)\n"
     ]
    }
   ],
   "source": [
    "#Solve a quadratic equation\n",
    "def solve_1(a,b,c):\n",
    "    x1=(-b+(b**2-4*a*c)**(0.5))/(2*a)\n",
    "    x2=(-b-(b**2-4*a*c)**(0.5))/(2*a)\n",
    "    return x1,x2\n",
    "\n",
    "def solve_2(a,b,c):\n",
    "    x1=2*c/(-b-(b**2-4*a*c)**(0.5))\n",
    "    x2=2*c/(-b+(b**2-4*a*c)**(0.5))\n",
    "    #print(\"x1=\",x1,'x2=',x2)\n",
    "    return x1,x2\n",
    "\n",
    "def solve_3 (a,b,c):\n",
    "    x1=2*c/(-b-(b**2-4*a*c)**(0.5))\n",
    "    x2=(-b-(b**2-4*a*c)**(0.5))/(2*a)\n",
    "    #print(\"x1=\",x1,'x2=',x2)\n",
    "    return x1,x2\n",
    "\n",
    "\n",
    "a=0.001\n",
    "b=1000\n",
    "c=0.001\n",
    "#Should be x1=-1e-6, x2=-10e6\n",
    "print(solve_1(a,b,c))\n",
    "print(solve_2(a,b,c))\n",
    "print(solve_3(a,b,c))\n",
    "\n",
    "# When 4ac is really small the algorithm is numerically unstable when it subtract two very close numbers: b and sqrt(b^2-4ac)\n",
    "# In particular solve_1 is less precise with the solution (-1e-6) - when it has to make a subtraction- while\n",
    "# solve_2 is less precise with the solution (1e6)\n",
    "# Solve_3 combines the best algorithms from the previous functions in order to obtain the best solutions\n"
   ]
  },
  {
   "cell_type": "markdown",
   "metadata": {},
   "source": [
    "###### 5. Comment:\n",
    "When $4ac$ is really small the algorithm is numerically unstable when it have to subtract two very close numbers: $b$ and $\\sqrt{b^2-4ac}$\n",
    "\n",
    "In particular $\\textit{solve_1}$ is less precise with the solution (-1e-6) - when it has to make a subtraction- while $\\textit{solve_2}$ is less precise with the solution (1e6).\n",
    "\n",
    "$\\textit{Solve_3}$ combines the best algorithms from the previous functions in order to obtain the best solutions\n"
   ]
  },
  {
   "cell_type": "markdown",
   "metadata": {},
   "source": [
    "6\\. Write a program that implements the function $f(x)=x(x−1)$\n",
    "\n",
    "(a) Calculate the derivative of the function at the point $x = 1$ using the derivative definition:\n",
    "\n",
    "$$\n",
    "\\frac{{\\rm d}f}{{\\rm d}x} = \\lim_{\\delta\\to0} \\frac{f(x+\\delta)-f(x)}{\\delta}\n",
    "$$\n",
    "\n",
    "with $\\delta = 10^{−2}$. Calculate the true value of the same derivative analytically and compare with the answer your program gives. The two will not agree perfectly. Why not?\n",
    "\n",
    "(b) Repeat the calculation for $\\delta = 10^{−4}, 10^{−6}, 10^{−8}, 10^{−10}, 10^{−12}$ and $10^{−14}$. How does the accuracy scales with $\\delta$?"
   ]
  },
  {
   "cell_type": "code",
   "execution_count": 27,
   "metadata": {},
   "outputs": [
    {
     "name": "stdout",
     "output_type": "stream",
     "text": [
      "df/dx= (1.010000000000001, 'with and accuracy of', -0.010000000000000897)\n",
      "df/dx= (1.0000999999998899, 'with and accuracy of', -9.999999988985486e-05)\n",
      "df/dx= (1.0000009999177333, 'with and accuracy of', -9.99917733279787e-07)\n",
      "df/dx= (1.0000000039225287, 'with and accuracy of', -3.922528746258536e-09)\n",
      "df/dx= (1.000000082840371, 'with and accuracy of', -8.284037100736441e-08)\n",
      "df/dx= (1.0000889005833413, 'with and accuracy of', -8.890058334132256e-05)\n",
      "df/dx= (0.9992007221626509, 'with and accuracy of', 0.0007992778373491216)\n"
     ]
    },
    {
     "data": {
      "image/png": "[encoded data removed]",
      "text/plain": [
       "<Figure size 432x288 with 1 Axes>"
      ]
     },
     "metadata": {
      "needs_background": "light"
     },
     "output_type": "display_data"
    }
   ],
   "source": [
    "import matplotlib.pyplot as plt\n",
    "from math import log\n",
    "\n",
    "def func(x):\n",
    "    return x*(x-1)\n",
    "\n",
    "def derivative(x,delta):\n",
    "    return (func(x+delta)-func(x))/delta\n",
    "\n",
    "x=1\n",
    "deltas=[1e-2,1e-4,1e-6,1e-8,1e-10,1e-12,1e-14]\n",
    "for j,i in enumerate(deltas):\n",
    "    accuracy=1-derivative(x,i)\n",
    "    print('df/dx=',(abs(derivative(x,i)),'with and accuracy of', accuracy))\n",
    "    plt.plot(j, abs(accuracy), marker=\".\")\n",
    "plt.xticks(range(7),['$10^{−2}$','$10^{−4}$', '$10^{−6}$', '$10^{−8}$', '$10^{−10}$', '$10^{−12}$', '$10^{−14}$'])\n",
    "plt.yscale(\"log\")\n",
    "plt.show()"
   ]
  },
  {
   "cell_type": "markdown",
   "metadata": {},
   "source": [
    "###### 6.Comment\n",
    "The accuracy is increased by two orders of magnitude at every steps from $\\delta= 10^{−2}$ to $\\delta = 10^{−8}$, then it starts to diverge due to the similarity between $f(x+\\delta)$ and $f(x)$"
   ]
  },
  {
   "cell_type": "markdown",
   "metadata": {},
   "source": [
    "7\\. Consider the integral of the semicircle of radius 1:\n",
    "$$\n",
    "I=\\int_{-1}^{1} \\sqrt{(1-x^2)} {\\rm d}x\n",
    "$$\n",
    "which it's known to be $I=\\frac{\\pi}{2}=1.57079632679...$.\n",
    "Alternatively we can use the Riemann definition of the integral:\n",
    "$$\n",
    "I=\\lim_{N\\to\\infty} \\sum_{k=1}^{N} h y_k \n",
    "$$\n",
    "\n",
    "with $h=2/N$ the width of each of the $N$ slices the domain is divided into and where\n",
    "$y_k$ is the value of the function at the $k-$th slice.\n",
    "\n",
    "(a) Write a programe to compute the integral with $N=100$. How does the result compares to the true value?\n",
    "\n",
    "(b) How much can $N$ be increased if the computation needs to be run in less than a second? What is the gain in running it for 1 minute? \n"
   ]
  },
  {
   "cell_type": "code",
   "execution_count": 88,
   "metadata": {},
   "outputs": [
    {
     "name": "stdout",
     "output_type": "stream",
     "text": [
      "1.5691342555492505\n",
      "0.0016620712456461018 \n",
      "\n",
      "3412000 1.4248198999994202 (1.5707963265309552, 2.6394131324991577e-10)\n",
      "200000000 60.45315110000047 (1.5707963267944416, 4.549693954913892e-13)\n"
     ]
    }
   ],
   "source": [
    "from math import sqrt\n",
    "from math import pi\n",
    "from time import perf_counter\n",
    "\n",
    "def int_circ(n):\n",
    "    plus=0.\n",
    "    h=2./n\n",
    "    for i in range(N):\n",
    "        j=-1+i*2./n\n",
    "        plus+=h*sqrt(1-j**2)\n",
    "    accuracy=pi/2-plus\n",
    "    return plus, accuracy\n",
    "\n",
    "\n",
    "N=100\n",
    "aha,acc=int_circ(N)\n",
    "print(aha)\n",
    "print(acc, '\\n')\n",
    "\n",
    "t=True\n",
    "N=3410000\n",
    "\n",
    "while t==True:\n",
    "    t0= perf_counter()\n",
    "    int_circ(N)\n",
    "    t1= perf_counter()\n",
    "    t1= t1 - t0\n",
    "    #print(t1, N)\n",
    "    if t1<1: N+=1000\n",
    "    else: \n",
    "        t=False\n",
    "        print(N, t1, int_circ(N))\n",
    "        \n",
    "N=200000000\n",
    "t=True\n",
    "\n",
    "while t==True:\n",
    "    t0= perf_counter()\n",
    "    int_circ(N)\n",
    "    t1= perf_counter()\n",
    "    t1= t1 - t0\n",
    "    #print(t1, N)\n",
    "    if t1<60: N+=10000000\n",
    "    else: \n",
    "        t=False\n",
    "        print(N, t1, int_circ(N))\n",
    "        "
   ]
  },
  {
   "cell_type": "markdown",
   "metadata": {},
   "source": [
    "###### 7.Comment:\n",
    "The value of N request to compute the integral in one second is around 3'429'000. The difference between the result and $\\frac{\\pi}{2}$ is $2.62\\cdot 10^{-10}$.\n",
    "\n",
    "The value of N request to compute the integral in one minute is around 220'000'000. The difference between the result and $\\frac{\\pi}{2}$ is $6.01\\cdot 10^{-13}$."
   ]
  }
 ],
 "metadata": {
  "kernelspec": {
   "display_name": "Python 3",
   "language": "python",
   "name": "python3"
  },
  "language_info": {
   "codemirror_mode": {
    "name": "ipython",
    "version": 3
   },
   "file_extension": ".py",
   "mimetype": "text/x-python",
   "name": "python",
   "nbconvert_exporter": "python",
   "pygments_lexer": "ipython3",
   "version": "3.8.10"
  }
 },
 "nbformat": 4,
 "nbformat_minor": 2
}
