{
 "cells": [
  {
   "cell_type": "markdown",
   "metadata": {},
   "source": [
    "1\\. Write the following as a list comprehension"
   ]
  },
  {
   "cell_type": "code",
   "execution_count": 1,
   "metadata": {},
   "outputs": [
    {
     "name": "stdout",
     "output_type": "stream",
     "text": [
      "[(0, 0), (0, 1), (0, 2), (0, 3), (1, 0), (1, 1), (1, 2), (1, 3), (2, 0), (2, 1), (2, 2), (2, 3)]\n",
      "[(0, 0), (0, 1), (0, 2), (0, 3), (1, 0), (1, 1), (1, 2), (1, 3), (2, 0), (2, 1), (2, 2), (2, 3)]\n",
      "[0, 4, 16]\n",
      "[0, 4, 16]\n"
     ]
    }
   ],
   "source": [
    "# 1\n",
    "ans = []\n",
    "for i in range(3):\n",
    "    for j in range(4):\n",
    "        ans.append((i, j))\n",
    "print (ans)\n",
    "\n",
    "ans = [(i, j) for i in range(3) for j in range(4)]\n",
    "print(ans)\n",
    "\n",
    "# 2\n",
    "ans = map(lambda x: x*x, filter(lambda x: x%2 == 0, range(5)))\n",
    "print (list(ans))\n",
    "\n",
    "ans=[x**2 for x in range(5) if x%2==0]\n",
    "print(ans)"
   ]
  },
  {
   "cell_type": "markdown",
   "metadata": {},
   "source": [
    "2\\. Convert the following function into a pure function with no global variables or side effects"
   ]
  },
  {
   "cell_type": "code",
   "execution_count": 2,
   "metadata": {},
   "outputs": [
    {
     "name": "stdout",
     "output_type": "stream",
     "text": [
      "[1, 2, 3, 0, 1, 2, 3, 4]\n",
      "[1, 2, 3]\n"
     ]
    }
   ],
   "source": [
    "'''\n",
    "x = 5\n",
    "def f(alist):\n",
    "    for i in range(x):\n",
    "         alist.append(i)\n",
    "    return alist\n",
    "\n",
    "alist = [1,2,3]\n",
    "ans = f(alist)\n",
    "print (ans)\n",
    "print (alist) # alist has been changed!\n",
    "'''\n",
    "\n",
    "x = 5\n",
    "def f(alist,y):\n",
    "    alist=[x+1-1 for x in alist]\n",
    "    for i in range(y):\n",
    "         alist.append(i)\n",
    "    return alist\n",
    "\n",
    "alist = [1,2,3]\n",
    "ans = f(alist,x)\n",
    "print (ans)\n",
    "print (alist)"
   ]
  },
  {
   "cell_type": "markdown",
   "metadata": {},
   "source": [
    "3\\. Write a `decorator` hello that makes every wrapped function print “Hello!”, i.e. something like:\n",
    "\n",
    "```python\n",
    "@hello\n",
    "def square(x):\n",
    "    return x*x\n",
    "```\n",
    "\n"
   ]
  },
  {
   "cell_type": "code",
   "execution_count": 3,
   "metadata": {},
   "outputs": [
    {
     "name": "stdout",
     "output_type": "stream",
     "text": [
      "Hello!\n",
      "4\n"
     ]
    }
   ],
   "source": [
    "def hello(func):\n",
    "    def wrapper(x):\n",
    "        print(\"Hello!\")\n",
    "        return func(x)\n",
    "    return wrapper\n",
    "\n",
    "@hello\n",
    "def square(x):\n",
    "    return x*2\n",
    "\n",
    "print(square(2))"
   ]
  },
  {
   "cell_type": "markdown",
   "metadata": {},
   "source": [
    "4\\. Write the factorial function so that it a) does and b) does not use recursion."
   ]
  },
  {
   "cell_type": "code",
   "execution_count": 4,
   "metadata": {},
   "outputs": [
    {
     "name": "stdout",
     "output_type": "stream",
     "text": [
      "120\n",
      "120\n"
     ]
    }
   ],
   "source": [
    "def factorial1(n):                        # without recursion\n",
    "    f=1\n",
    "    while n>1:\n",
    "        f*=n\n",
    "        n-=1\n",
    "    return f\n",
    "print(factorial1(5))\n",
    "\n",
    "def factorial2(n):                        # with recursion\n",
    "    if n>1:\n",
    "        return(n*factorial2(n-1))\n",
    "    else:\n",
    "        return(1)\n",
    "print(factorial2(5))"
   ]
  },
  {
   "cell_type": "markdown",
   "metadata": {},
   "source": [
    "5\\. Use HOFs (zip in particular) to compute the weight of a circle, a disk and a sphere, assuming different radii and different densities:\n",
    "\n",
    "```python\n",
    "densities = {\"Al\":[0.5,1,2],\"Fe\":[3,4,5],\"Pb\": [15,20,30]}\n",
    "radii = [1,2,3]\n",
    "```\n",
    "\n",
    "where the entries of the dictionary's values are the linear, superficial and volumetric densities of the materials respectively.\n",
    "\n",
    "In particular define a list of three lambda functions using a comprehension that computes the circumference, the area and the volume for a given radius.\n"
   ]
  },
  {
   "cell_type": "code",
   "execution_count": 5,
   "metadata": {},
   "outputs": [
    {
     "name": "stdout",
     "output_type": "stream",
     "text": [
      "Peso circonferenze:  r=1 <-> Al , r=2 <-> Fe, r=3 <-> Pb\n",
      "[  3.14159265  37.69911184 282.74333882]\n",
      "Peso dischi:  r=1 <-> Al , r=2 <-> Fe, r=3 <-> Pb\n",
      "[  3.14159265  50.26548246 565.48667765]\n",
      "Peso sfere:  r=1 <-> Al , r=2 <-> Fe, r=3 <-> Pb\n",
      "[   8.37758041  167.55160819 3392.92006588]\n"
     ]
    }
   ],
   "source": [
    "import numpy as np\n",
    "densities = {\"Al\":[0.5,1,2],\"Fe\":[3,4,5],\"Pb\": [15,20,30]}\n",
    "radii = [1,2,3]\n",
    "\n",
    "cav=[np.array([list(map(lambda r:2*np.pi*r,radii))]) ,np.array([list(map(lambda r:np.pi*r**2,radii))]), np.array([list(map(lambda r:4/3*np.pi*r**3,radii))])]\n",
    "den=[[densities[\"Al\"][0],densities[\"Fe\"][0],densities[\"Pb\"][0]],[densities[\"Al\"][1],densities[\"Fe\"][1],densities[\"Pb\"][1]],[densities[\"Al\"][2],densities[\"Fe\"][2],densities[\"Pb\"][2]]]\n",
    "\n",
    "result=[]\n",
    "for x, y in zip(cav,den):\n",
    "    result.append(x*y)\n",
    "\n",
    "print(\"Peso circonferenze:  r=1 <-> Al , r=2 <-> Fe, r=3 <-> Pb\")\n",
    "for x in result[:][0]:\n",
    "    print(x)\n",
    "print(\"Peso dischi:  r=1 <-> Al , r=2 <-> Fe, r=3 <-> Pb\")\n",
    "for x in result[:][1]:\n",
    "    print(x)\n",
    "print(\"Peso sfere:  r=1 <-> Al , r=2 <-> Fe, r=3 <-> Pb\")\n",
    "for x in result[:][2]:\n",
    "    print(x)"
   ]
  },
  {
   "cell_type": "markdown",
   "metadata": {},
   "source": [
    "6\\. Edit the class defintion to add an instance attribute of is_hungry = True to the Dog class. Then add a method called eat() which changes the value of is_hungry to False when called. Figure out the best way to feed each dog and then output “My dogs are hungry.” if all are hungry or “My dogs are not hungry.” if all are not hungry. The final output should look like this:\n",
    "\n",
    "`I have 3 dogs. \n",
    "Tom is 6. \n",
    "Fletcher is 7. \n",
    "Larry is 9. \n",
    "And they're all mammals, of course. \n",
    "My dogs are not hungry.\n",
    "`\n",
    "\n",
    "```python\n",
    "# Parent class\n",
    "class Dog:\n",
    "\n",
    "    # Class attribute\n",
    "    species = 'mammal'\n",
    "\n",
    "    # Initializer / Instance attributes\n",
    "    def __init__(self, name, age):\n",
    "        self.name = name\n",
    "        self.age = age\n",
    "\n",
    "    # instance method\n",
    "    def description(self):\n",
    "        return \"{} is {} years old\".format(self.name, self.age)\n",
    "\n",
    "    # instance method\n",
    "    def speak(self, sound):\n",
    "        return \"{} says {}\".format(self.name, sound)\n",
    "\n",
    "# Child class (inherits from Dog class)\n",
    "class RussellTerrier(Dog):\n",
    "    def run(self, speed):\n",
    "        return \"{} runs {}\".format(self.name, speed)\n",
    "\n",
    "# Child class (inherits from Dog class)\n",
    "class Bulldog(Dog):\n",
    "    def run(self, speed):\n",
    "        return \"{} runs {}\".format(self.name, speed)\n",
    "```"
   ]
  },
  {
   "cell_type": "code",
   "execution_count": 37,
   "metadata": {},
   "outputs": [
    {
     "name": "stdout",
     "output_type": "stream",
     "text": [
      "I have 3 dogs.\n",
      "Tobia is 7.\n",
      "Maya is 3.\n",
      "Argo is 13.\n",
      "And they are all mammal, of course.\n",
      "\n",
      " My dogs are hungry.\n",
      "2 of them are hungry, while 1 are not.\n",
      "My dogs are not hungry.\n"
     ]
    }
   ],
   "source": [
    "# Parent class\n",
    "class Dog:\n",
    "\n",
    "    # Class attribute\n",
    "    species = 'mammal'\n",
    "\n",
    "    # Initializer / Instance attributes\n",
    "    def __init__(self, name, age):\n",
    "        self.name = name\n",
    "        self.age = age\n",
    "        self.is_hungry=True\n",
    "\n",
    "    # instance method\n",
    "    def description(self):\n",
    "        return \"{} is {} years old\".format(self.name, self.age)\n",
    "\n",
    "    # instance method\n",
    "    def speak(self, sound):\n",
    "        return \"{} says {}\".format(self.name, sound)\n",
    "    \n",
    "    def eat(self):\n",
    "        self.is_hungry=False\n",
    "\n",
    "# Child class (inherits from Dog class)\n",
    "class RussellTerrier(Dog):\n",
    "    def run(self, speed):\n",
    "        return \"{} runs {}\".format(self.name, speed)\n",
    "\n",
    "# Child class (inherits from Dog class)\n",
    "class Bulldog(Dog):\n",
    "    def run(self, speed):\n",
    "        return \"{} runs {}\".format(self.name, speed)\n",
    "    \n",
    "Tobia=RussellTerrier(\"Tobia\",7)                        # definisco i miei cani\n",
    "Maya=RussellTerrier(\"Maya\",3)\n",
    "Argo=Bulldog(\"Argo\",13)\n",
    "list_dog=[Tobia, Maya, Argo]                           # tutti i miei cani devono essere inseriti nella lista\n",
    "\n",
    "def feed_all_dogs ():                                  # faccio mangiare tutti i miei cani\n",
    "    global list_dog\n",
    "    for x in list_dog:\n",
    "        x.eat()\n",
    "\n",
    "def check_status (list_dog):                           # controllo se sono tutti affamati o tutti sazi\n",
    "    n_hungry=0\n",
    "    n_not_hungry=0\n",
    "    for x in list_dog:\n",
    "        if x.is_hungry==False:\n",
    "            n_not_hungry+=1\n",
    "        else:\n",
    "            n_hungry+=1\n",
    "    \n",
    "    if n_not_hungry==len(list_dog):\n",
    "        return \"My dogs are not hungry.\"\n",
    "    elif n_hungry==len(list_dog):\n",
    "        return \"My dogs are hungry.\"\n",
    "    else:\n",
    "        return f\"{n_hungry} of them are hungry, while {n_not_hungry} are not.\"\n",
    "\n",
    "    \n",
    "print(f\"I have {len(list_dog)} dogs.\")\n",
    "for x in list_dog:\n",
    "    print(f\"{x.name} is {x.age}.\")\n",
    "print(f\"And they are all {Tobia.species}, of course.\")\n",
    "\n",
    "print(\"\\n\",check_status(list_dog))                # Sono tutti affamati di default\n",
    "Argo.eat()\n",
    "print(check_status(list_dog))                     # Ora Argo non è affamato \n",
    "feed_all_dogs()\n",
    "print(check_status(list_dog))                     # Ora nessuno è affamato"
   ]
  }
 ],
 "metadata": {
  "kernelspec": {
   "display_name": "Python 3",
   "language": "python",
   "name": "python3"
  },
  "language_info": {
   "codemirror_mode": {
    "name": "ipython",
    "version": 3
   },
   "file_extension": ".py",
   "mimetype": "text/x-python",
   "name": "python",
   "nbconvert_exporter": "python",
   "pygments_lexer": "ipython3",
   "version": "3.7.6"
  }
 },
 "nbformat": 4,
 "nbformat_minor": 2
}
