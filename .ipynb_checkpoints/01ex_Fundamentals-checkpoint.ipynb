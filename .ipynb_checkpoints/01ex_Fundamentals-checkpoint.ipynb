{
 "cells": [
  {
   "cell_type": "markdown",
   "metadata": {},
   "source": [
    "1\\. Write the following as a list comprehension"
   ]
  },
  {
   "cell_type": "code",
   "execution_count": 16,
   "metadata": {},
   "outputs": [
    {
     "name": "stdout",
     "output_type": "stream",
     "text": [
      "[(0, 0), (0, 1), (0, 2), (0, 3), (1, 0), (1, 1), (1, 2), (1, 3), (2, 0), (2, 1), (2, 2), (2, 3)]\n",
      "[0, 4, 16]\n"
     ]
    }
   ],
   "source": [
    "# 1\n",
    "ans = [(i,j) for i in range(3) for j in range(4) ]\n",
    "print (ans)\n",
    "\n",
    "# 2\n",
    "ans = map(lambda x: x*x, filter(lambda x: x%2 == 0, range(5)))\n",
    "print (list(ans))\n"
   ]
  },
  {
   "cell_type": "markdown",
   "metadata": {},
   "source": [
    "2\\. Convert the following function into a pure function with no global variables or side effects"
   ]
  },
  {
   "cell_type": "code",
   "execution_count": 4,
   "metadata": {},
   "outputs": [
    {
     "name": "stdout",
     "output_type": "stream",
     "text": [
      "[(0, 0), (0, 1), (0, 2), (0, 3), (1, 0), (1, 1), (1, 2), (1, 3), (2, 0), (2, 1), (2, 2), (2, 3)]\n"
     ]
    }
   ],
   "source": [
    "ans = []\n",
    "for i in range(3):\n",
    "    for j in range(4):\n",
    "        ans.append((i, j))\n",
    "print (ans)\n"
   ]
  },
  {
   "cell_type": "code",
   "execution_count": null,
   "metadata": {},
   "outputs": [],
   "source": [
    "x = 5\n",
    "def f(alist):\n",
    "    for i in range(x):\n",
    "         alist.append(i)\n",
    "    return alist\n",
    "\n",
    "alist = [1,2,3]\n",
    "ans = f(alist)\n",
    "print (ans)\n",
    "print (alist) # alist has been changed!"
   ]
  },
  {
   "cell_type": "markdown",
   "metadata": {},
   "source": [
    "3\\. Write a `decorator` hello that makes every wrapped function print “Hello!”, i.e. something like:\n",
    "\n",
    "```python\n",
    "@hello\n",
    "def square(x):\n",
    "    return x*x\n",
    "```\n",
    "\n"
   ]
  },
  {
   "cell_type": "code",
   "execution_count": 11,
   "metadata": {},
   "outputs": [
    {
     "name": "stdout",
     "output_type": "stream",
     "text": [
      "Hello!\n",
      "25\n"
     ]
    }
   ],
   "source": [
    "def hello(func):\n",
    "    def wrapper(x):\n",
    "        print(\"Hello!\")\n",
    "        func(x)\n",
    "    return wrapper\n",
    "\n",
    "@hello\n",
    "def square(x):\n",
    "    print(pow(x,2))\n",
    "\n",
    "\n",
    "    \n",
    "square(5)"
   ]
  },
  {
   "cell_type": "markdown",
   "metadata": {},
   "source": [
    "4\\. Write the factorial function so that it a) does and b) does not use recursion."
   ]
  },
  {
   "cell_type": "code",
   "execution_count": 14,
   "metadata": {},
   "outputs": [
    {
     "name": "stdout",
     "output_type": "stream",
     "text": [
      "5\n",
      "2\n"
     ]
    }
   ],
   "source": [
    "# Recursive\n",
    "n = input()\n",
    "def recursive_fact(n):\n",
    "    if n >= 0:\n",
    "        if n == 0:\n",
    "            return 1\n",
    "        else:\n",
    "            return n*recursive_fact(n-1)\n",
    "    else:\n",
    "        print(\"Wrong input (insert a number >= 0)\")\n",
    "\n",
    "print(recursive_fact(2))"
   ]
  },
  {
   "cell_type": "markdown",
   "metadata": {},
   "source": [
    "5\\. Use HOFs (zip in particular) to compute the weight of a circle, a disk and a sphere, assuming different radii and different densities:\n",
    "\n",
    "```python\n",
    "densities = {\"Al\":[0.5,1,2],\"Fe\":[3,4,5],\"Pb\": [15,20,30]}\n",
    "radii = [1,2,3]\n",
    "```\n",
    "\n",
    "where the entries of the dictionary's values are the linear, superficial and volumetric densities of the materials respectively.\n",
    "\n",
    "In particular define a list of three lambda functions using a comprehension that computes the circumference, the area and the volume for a given radius.\n"
   ]
  },
  {
   "cell_type": "code",
   "execution_count": 20,
   "metadata": {},
   "outputs": [
    {
     "name": "stdout",
     "output_type": "stream",
     "text": [
      "Radius: 2 \tMaterial: Wooden \tDimension: 1 \t->\tWeight [a.u.] = 163.363\n",
      "Radius: 2 \tMaterial: Wooden \tDimension: 2 \t->\tWeight [a.u.] = 62.832\n",
      "Radius: 2 \tMaterial: Wooden \tDimension: 3 \t->\tWeight [a.u.] = 238.761\n",
      "\n",
      "Radius: 2 \tMaterial: Metalic \tDimension: 1 \t->\tWeight [a.u.] = 201.062\n",
      "Radius: 2 \tMaterial: Metalic \tDimension: 2 \t->\tWeight [a.u.] = 138.23\n",
      "Radius: 2 \tMaterial: Metalic \tDimension: 3 \t->\tWeight [a.u.] = 251.327\n",
      "\n",
      "Radius: 2 \tMaterial: Fiber Glass \tDimension: 1 \t->\tWeight [a.u.] = 163.363\n",
      "Radius: 2 \tMaterial: Fiber Glass \tDimension: 2 \t->\tWeight [a.u.] = 87.965\n",
      "Radius: 2 \tMaterial: Fiber Glass \tDimension: 3 \t->\tWeight [a.u.] = 25.133\n",
      "\n",
      "\n",
      "Radius: 3 \tMaterial: Wooden \tDimension: 1 \t->\tWeight [a.u.] = 367.566\n",
      "Radius: 3 \tMaterial: Wooden \tDimension: 2 \t->\tWeight [a.u.] = 141.372\n",
      "Radius: 3 \tMaterial: Wooden \tDimension: 3 \t->\tWeight [a.u.] = 537.212\n",
      "\n",
      "Radius: 3 \tMaterial: Metalic \tDimension: 1 \t->\tWeight [a.u.] = 452.389\n",
      "Radius: 3 \tMaterial: Metalic \tDimension: 2 \t->\tWeight [a.u.] = 311.018\n",
      "Radius: 3 \tMaterial: Metalic \tDimension: 3 \t->\tWeight [a.u.] = 565.487\n",
      "\n",
      "Radius: 3 \tMaterial: Fiber Glass \tDimension: 1 \t->\tWeight [a.u.] = 367.566\n",
      "Radius: 3 \tMaterial: Fiber Glass \tDimension: 2 \t->\tWeight [a.u.] = 197.92\n",
      "Radius: 3 \tMaterial: Fiber Glass \tDimension: 3 \t->\tWeight [a.u.] = 56.549\n",
      "\n",
      "\n",
      "Radius: 4 \tMaterial: Wooden \tDimension: 1 \t->\tWeight [a.u.] = 3485.073\n",
      "Radius: 4 \tMaterial: Wooden \tDimension: 2 \t->\tWeight [a.u.] = 1340.413\n",
      "Radius: 4 \tMaterial: Wooden \tDimension: 3 \t->\tWeight [a.u.] = 5093.569\n",
      "\n",
      "Radius: 4 \tMaterial: Metalic \tDimension: 1 \t->\tWeight [a.u.] = 4289.321\n",
      "Radius: 4 \tMaterial: Metalic \tDimension: 2 \t->\tWeight [a.u.] = 2948.908\n",
      "Radius: 4 \tMaterial: Metalic \tDimension: 3 \t->\tWeight [a.u.] = 5361.651\n",
      "\n",
      "Radius: 4 \tMaterial: Fiber Glass \tDimension: 1 \t->\tWeight [a.u.] = 3485.073\n",
      "Radius: 4 \tMaterial: Fiber Glass \tDimension: 2 \t->\tWeight [a.u.] = 1876.578\n",
      "Radius: 4 \tMaterial: Fiber Glass \tDimension: 3 \t->\tWeight [a.u.] = 536.165\n",
      "\n",
      "\n"
     ]
    }
   ],
   "source": [
    "#Densities\n",
    "densities = {\"Wooden\":[13,5,19],\"Metalic\":[16,11,20],\"Fiber Glass\": [13,7,2]}\n",
    "radii = [2,3,4]\n",
    "\n",
    "#calculations\n",
    "from math import pi\n",
    "dimension = [1,2,3]\n",
    "func_list = [\n",
    "    lambda r: 2*pi*r,\n",
    "    lambda r: pi*r**2,\n",
    "    lambda r: (4/3)*pi*r**3\n",
    "]\n",
    "\n",
    "def weight(d):\n",
    "    for i,r in zip(range(3),radii):\n",
    "        for j in d:\n",
    "            for k,dim in zip(d[j],dimension):\n",
    "                print(\"Radius:\",r,\"\\tMaterial:\",j,\"\\tDimension:\",dim,\"\\t->\\tWeight [a.u.] =\",round(func_list[i](r) * k,3))\n",
    "            print()\n",
    "        print()\n",
    "\n",
    "weight(densities)"
   ]
  },
  {
   "cell_type": "markdown",
   "metadata": {},
   "source": [
    "6\\. Edit the class defintion to add an instance attribute of is_hungry = True to the Dog class. Then add a method called eat() which changes the value of is_hungry to False when called. Figure out the best way to feed each dog and then output “My dogs are hungry.” if all are hungry or “My dogs are not hungry.” if all are not hungry. The final output should look like this:\n",
    "\n",
    "`I have 3 dogs. \n",
    "Tom is 6. \n",
    "Fletcher is 7. \n",
    "Larry is 9. \n",
    "And they're all mammals, of course. \n",
    "My dogs are not hungry.\n",
    "`\n",
    "\n",
    "```python\n",
    "# Parent class\n",
    "class Dog:\n",
    "\n",
    "    # Class attribute\n",
    "    species = 'mammal'\n",
    "\n",
    "    # Initializer / Instance attributes\n",
    "    def __init__(self, name, age):\n",
    "        self.name = name\n",
    "        self.age = age\n",
    "\n",
    "    # instance method\n",
    "    def description(self):\n",
    "        return \"{} is {} years old\".format(self.name, self.age)\n",
    "\n",
    "    # instance method\n",
    "    def speak(self, sound):\n",
    "        return \"{} says {}\".format(self.name, sound)\n",
    "\n",
    "# Child class (inherits from Dog class)\n",
    "class RussellTerrier(Dog):\n",
    "    def run(self, speed):\n",
    "        return \"{} runs {}\".format(self.name, speed)\n",
    "\n",
    "# Child class (inherits from Dog class)\n",
    "class Bulldog(Dog):\n",
    "    def run(self, speed):\n",
    "        return \"{} runs {}\".format(self.name, speed)\n",
    "```"
   ]
  },
  {
   "cell_type": "code",
   "execution_count": 22,
   "metadata": {},
   "outputs": [
    {
     "name": "stdout",
     "output_type": "stream",
     "text": [
      "I have 3 dogs.\n",
      "Tom is 6 years old\n",
      "Fletcher is 7 years old\n",
      "Larry is 7 years old\n",
      "And they're all mammals, of course.\n",
      "My dogs are hungry.\n"
     ]
    }
   ],
   "source": [
    "# Parent class\n",
    "class Dog:\n",
    "\n",
    "    # Class attribute\n",
    "    species = 'mammal'\n",
    "    # is_hungry = True\n",
    "\n",
    "    # Initializer / Instance attributes\n",
    "    def __init__(self, name, age):\n",
    "        self.name = name\n",
    "        self.age = age\n",
    "        self.is_hungry = True\n",
    "        \n",
    "    # eat method\n",
    "    def is_hungry_method(self):\n",
    "        return self.is_hungry\n",
    "    \n",
    "    def eat(self):\n",
    "        self.is_hungry = False\n",
    "    \n",
    "    # instance method\n",
    "    def description(self):\n",
    "        return \"{} is {} years old\".format(self.name, self.age)\n",
    "\n",
    "    # instance method\n",
    "    def speak(self,sound):\n",
    "        return \"{} says {}\".format(self.name, sound)\n",
    "\n",
    "def feed_all(dogs):\n",
    "    for dog in dogs:\n",
    "        dog.eat()    \n",
    "\n",
    "def are_hungry(dogs):\n",
    "    if False not in [dog.is_hungry_method()==True for dog in dogs]:\n",
    "        print(\"My dogs are hungry.\")\n",
    "    elif False not in [dog.is_hungry_method()==False for dog in dogs]:\n",
    "        print(\"My dogs are not hungry.\")\n",
    "    else:\n",
    "        return None\n",
    "        \n",
    "\n",
    "        \n",
    "Tom = Dog(\"Tom\",6)\n",
    "Fletcher = Dog(\"Fletcher\",7)\n",
    "Larry = Dog(\"Larry\",7)\n",
    "\n",
    "dogs = [Tom, Fletcher, Larry]\n",
    "\n",
    "# feed_all(dogs)    \n",
    "\n",
    "print(\"I have\", len(dogs), \"dogs.\")\n",
    "print(Tom.description())\n",
    "print(Fletcher.description())\n",
    "print(Larry.description())\n",
    "print(\"And they're all mammals, of course.\")\n",
    "are_hungry(dogs)"
   ]
  }
 ],
 "metadata": {
  "kernelspec": {
   "display_name": "Python 3",
   "language": "python",
   "name": "python3"
  },
  "language_info": {
   "codemirror_mode": {
    "name": "ipython",
    "version": 3
   },
   "file_extension": ".py",
   "mimetype": "text/x-python",
   "name": "python",
   "nbconvert_exporter": "python",
   "pygments_lexer": "ipython3",
   "version": "3.8.8"
  }
 },
 "nbformat": 4,
 "nbformat_minor": 2
}
