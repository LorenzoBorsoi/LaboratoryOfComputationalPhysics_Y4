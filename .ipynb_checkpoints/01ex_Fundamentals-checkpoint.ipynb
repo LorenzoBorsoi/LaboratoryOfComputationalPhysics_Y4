{
 "cells": [
  {
   "cell_type": "markdown",
   "metadata": {},
   "source": [
    "1\\. Write the following as a list comprehension"
   ]
  },
  {
   "cell_type": "code",
   "execution_count": 32,
   "metadata": {},
   "outputs": [
    {
     "name": "stdout",
     "output_type": "stream",
     "text": [
      "[(0, 0), (0, 1), (0, 2), (0, 3), (1, 0), (1, 1), (1, 2), (1, 3), (2, 0), (2, 1), (2, 2), (2, 3)]\n",
      "[(0, 0), (0, 1), (0, 2), (0, 3), (1, 0), (1, 1), (1, 2), (1, 3), (2, 0), (2, 1), (2, 2), (2, 3)]\n",
      "[0, 4, 16]\n",
      "[0, 4, 16]\n"
     ]
    }
   ],
   "source": [
    "#**finished**\n",
    "# 1\n",
    "ans = []\n",
    "for i in range(3):\n",
    "    for j in range(4):\n",
    "        ans.append((i, j))\n",
    "\n",
    "ANS = [(i,j) for i in range(3) for j in range(4)]\n",
    "\n",
    "print(ANS)\n",
    "print (ans)\n",
    "\n",
    "# 2\n",
    "ans = map(lambda x: x*x, filter(lambda x: x%2 == 0, range(5)))\n",
    "ANS2 = [x**2 for x in range(5) if x%2==0]\n",
    "\n",
    "print (list(ans))\n",
    "print(ANS2)\n"
   ]
  },
  {
   "cell_type": "markdown",
   "metadata": {},
   "source": [
    "2\\. Convert the following function into a pure function with no global variables or side effects"
   ]
  },
  {
   "cell_type": "code",
   "execution_count": 1,
   "metadata": {},
   "outputs": [
    {
     "name": "stdout",
     "output_type": "stream",
     "text": [
      "[1, 2, 3, 0, 1, 2, 3, 4]\n",
      "[1, 2, 3]\n"
     ]
    }
   ],
   "source": [
    "#**finished**\n",
    "'''\n",
    "x=5\n",
    "def f(alist):\n",
    "    for i in range(x):\n",
    "         alist.append(i)\n",
    "    return alist\n",
    "\n",
    "alist = [1,2,3]\n",
    "ans = f(alist)\n",
    "print (ans)\n",
    "print (alist) # alist has been changed!\n",
    "'''\n",
    "\n",
    "def f(alist,x):\n",
    "    newlist = alist.copy()\n",
    "    for i in range(x):\n",
    "         newlist.append(i)\n",
    "    return newlist\n",
    "\n",
    "alist = [1,2,3]\n",
    "ans = f(alist,5)\n",
    "print (ans)\n",
    "print (alist) # alist has been changed!\n",
    "\n"
   ]
  },
  {
   "cell_type": "markdown",
   "metadata": {},
   "source": [
    "3\\. Write a `decorator` hello that makes every wrapped function print “Hello!”, i.e. something like:\n",
    "\n",
    "```python\n",
    "@hello\n",
    "def square(x):\n",
    "    return x*x\n",
    "```\n",
    "\n"
   ]
  },
  {
   "cell_type": "code",
   "execution_count": 5,
   "metadata": {},
   "outputs": [
    {
     "name": "stdout",
     "output_type": "stream",
     "text": [
      "Hello\n",
      "5\n",
      "Hello\n",
      "go\n"
     ]
    }
   ],
   "source": [
    "#**finished\n",
    "def decHello(function):\n",
    "        def wrapper(*args):\n",
    "            print('Hello')\n",
    "            return function(*args)\n",
    "        return wrapper\n",
    "\n",
    "@decHello\n",
    "def add(a,b):\n",
    "    return a+b\n",
    "\n",
    "def go():\n",
    "    print('go')\n",
    "go = decHello(go)\n",
    "    \n",
    "print(add(2,3))\n",
    "\n",
    "go()\n",
    "\n",
    "#How do I handle the variables?"
   ]
  },
  {
   "cell_type": "markdown",
   "metadata": {},
   "source": [
    "4\\. Write the factorial function so that it a) does and b) does not use recursion."
   ]
  },
  {
   "cell_type": "code",
   "execution_count": 15,
   "metadata": {},
   "outputs": [
    {
     "name": "stdout",
     "output_type": "stream",
     "text": [
      "return an\n",
      "bang is   120\n"
     ]
    },
    {
     "data": {
      "text/plain": [
       "1"
      ]
     },
     "execution_count": 15,
     "metadata": {},
     "output_type": "execute_result"
    }
   ],
   "source": [
    "#FINISHED\n",
    "from functools import reduce\n",
    "\n",
    "#with recursion\n",
    "\n",
    "def bang(a):\n",
    "    if a == 0 or a == 1: return 1\n",
    "    an = a\n",
    "    def fac(a,an):\n",
    "        a = a-1\n",
    "        an = an*a\n",
    "        \n",
    "        if a == 1: \n",
    "            print('return an')\n",
    "            return an\n",
    "        \n",
    "        return fac(a,an)\n",
    "    \n",
    "    return fac(a,an)\n",
    "\n",
    "print('bang is  ', bang(5))\n",
    "\n",
    "\n",
    "#without recursion\n",
    "def fact(a):\n",
    "    if a == 0 or a == 1: return 1\n",
    "    lis = [x for x in range(1,a+1)]\n",
    "    ans = reduce(lambda x,y: x*y, lis)        \n",
    "    print(ans)\n",
    "\n",
    "fact(1)\n"
   ]
  },
  {
   "cell_type": "markdown",
   "metadata": {},
   "source": [
    "5\\. Use HOFs (zip in particular) to compute the weight of a circle, a disk and a sphere, assuming different radii and different densities:\n",
    "\n",
    "```python\n",
    "densities = {\"Al\":[0.5,1,2],\"Fe\":[3,4,5],\"Pb\": [15,20,30]}\n",
    "radii = [1,2,3]\n",
    "```\n",
    "\n",
    "where the entries of the dictionary's values are the linear, superficial and volumetric densities of the materials respectively.\n",
    "\n",
    "In particular define a list of three lambda functions using a comprehension that computes the circumference, the area and the volume for a given radius.\n"
   ]
  },
  {
   "cell_type": "code",
   "execution_count": 38,
   "metadata": {},
   "outputs": [
    {
     "name": "stdout",
     "output_type": "stream",
     "text": [
      "Al [3.14, 12.56, 37.68]\n",
      "Fe [9.42, 50.24, 141.3]\n",
      "Pb [62.8, 669.8666666666667, 3391.2]\n"
     ]
    }
   ],
   "source": [
    "#FINISHED\n",
    "pi = 3.14\n",
    "densities = {\"Al\":[0.5,1,2],\"Fe\":[3,4,5],\"Pb\": [15,20,30]}\n",
    "radii = [1,2,3]\n",
    "\n",
    "sizelam = [lambda r: 2*pi*r , lambda r: pi*r**2, lambda r: (4/3)*pi*r**3] \n",
    "\n",
    "#sizee = [0,0,0]\n",
    "#for i in range(3):\n",
    "#    sizee[i] = list(map(sizelam[i],radii))\n",
    "\n",
    "size = [list(map(sizelam[i],radii)) for i in range(3)]\n",
    "\n",
    "weights = []\n",
    "\n",
    "for d, si in zip(densities.values(), size):\n",
    "    weights.append([d[i]*si[i] for i in range(3)])\n",
    "\n",
    "for mat, we in zip(densities.keys(), weights):\n",
    "    print(mat, we)\n"
   ]
  },
  {
   "cell_type": "markdown",
   "metadata": {},
   "source": [
    "6\\. Edit the class defintion to add an instance attribute of is_hungry = True to the Dog class. Then add a method called eat() which changes the value of is_hungry to False when called. Figure out the best way to feed each dog and then output “My dogs are hungry.” if all are hungry or “My dogs are not hungry.” if all are not hungry. The final output should look like this:\n",
    "\n",
    "`I have 3 dogs. \n",
    "Tom is 6. \n",
    "Fletcher is 7. \n",
    "Larry is 9. \n",
    "And they're all mammals, of course. \n",
    "My dogs are not hungry.\n",
    "`\n",
    "\n",
    "```python\n",
    "# Parent class\n",
    "class Dog:\n",
    "\n",
    "    # Class attribute\n",
    "    species = 'mammal'\n",
    "\n",
    "    # Initializer / Instance attributes\n",
    "    def __init__(self, name, age):\n",
    "        self.name = name\n",
    "        self.age = age\n",
    "\n",
    "    # instance method\n",
    "    def description(self):\n",
    "        return \"{} is {} years old\".format(self.name, self.age)\n",
    "\n",
    "    # instance method\n",
    "    def speak(self, sound):\n",
    "        return \"{} says {}\".format(self.name, sound)\n",
    "\n",
    "# Child class (inherits from Dog class)\n",
    "class RussellTerrier(Dog):\n",
    "    def run(self, speed):\n",
    "        return \"{} runs {}\".format(self.name, speed)\n",
    "\n",
    "# Child class (inherits from Dog class)\n",
    "class Bulldog(Dog):\n",
    "    def run(self, speed):\n",
    "        return \"{} runs {}\".format(self.name, speed)\n",
    "```"
   ]
  },
  {
   "cell_type": "code",
   "execution_count": 1,
   "metadata": {},
   "outputs": [
    {
     "name": "stdout",
     "output_type": "stream",
     "text": [
      "Hello, my name is  Jerry Smith  I have  3  dogs.\n",
      "\n",
      "Tom  is  6  years old.\n",
      "\n",
      "Fletcher  is  7  years old.\n",
      "\n",
      "Larry  is  9  years old.\n",
      "\n",
      "They are all mammals of course.\n",
      "\n",
      "Tom is hungry. I will feed Tom now.\n",
      "Tom has been fed, his hunger status is:  False \n",
      "\n",
      "Fletcher is hungry. I will feed Fletcher now.\n",
      "Fletcher has been fed, his hunger status is:  False \n",
      "\n",
      "Larry is hungry. I will feed Larry now.\n",
      "Larry has been fed, his hunger status is:  False \n",
      "\n",
      "\n",
      "None of my dogs are hungry anymore.\n"
     ]
    }
   ],
   "source": [
    "'''\n",
    "6\\. Edit the class defintion to add an instance attribute of is_hungry = True to the Dog class. Then add a method called eat() which changes the value of is_hungry to False when called. Figure out the best way to feed each dog and then output “My dogs are hungry.” if all are hungry or “My dogs are not hungry.” if all are not hungry. The final output should look like this:\n",
    "    '''\n",
    "#Finished\n",
    "# Parent class\n",
    "class Dog:\n",
    "\n",
    "    # Class attribute\n",
    "    species = 'mammal'\n",
    "    is_hungry = True \n",
    "        \n",
    "\n",
    "    # Initializer / Instance attributes\n",
    "    def __init__(self, name, age):\n",
    "        self.name = name\n",
    "        self.age = age\n",
    "    \n",
    "    def eat(self): \n",
    "        self.is_hungry = False\n",
    "\n",
    "    # instance method\n",
    "    def description(self):\n",
    "        return \"{} is {} years old\".format(self.name, self.age)\n",
    "\n",
    "    # instance method\n",
    "    def speak(self, sound):\n",
    "        return \"{} says {}\".format(self.name, sound)\n",
    "\n",
    "    \n",
    "class Owner:\n",
    "    def __init__(self, name):\n",
    "        self.myDogs = {}\n",
    "        self.name = name\n",
    "        self.noDogs = 0\n",
    "        \n",
    "    def newDog(self,name,age):\n",
    "        self.myDogs[self.noDogs] = Dog(name,age)\n",
    "        self.noDogs+=1\n",
    "        \n",
    "    def description(self):\n",
    "        print(\"Hello, my name is \", self.name,\" I have \", self.noDogs,\" dogs.\\n\")\n",
    "        for i in range(self.noDogs):\n",
    "            print(self.myDogs[i].name,\" is \",self.myDogs[i].age, \" years old.\\n\")\n",
    "    \n",
    "    def speciescheck(self):\n",
    "        count = 0\n",
    "        for i in range(self.noDogs):\n",
    "            if self.myDogs[i].species == 'mammal':\n",
    "                count += 1\n",
    "        if count == self.noDogs:\n",
    "            print(\"They are all mammals of course.\\n\")\n",
    "    \n",
    "    def feeding(self):\n",
    "        count = 0\n",
    "        for i in range(self.noDogs):\n",
    "            if self.myDogs[i].is_hungry == True:\n",
    "                print(self.myDogs[i].name, \"is hungry. I will feed\", self.myDogs[i].name ,\"now.\")\n",
    "                self.myDogs[i].eat()\n",
    "                print(self.myDogs[i].name, 'has been fed, his hunger status is: ',self.myDogs[i].is_hungry,'\\n')\n",
    "                if self.myDogs[i].is_hungry == False: count+=1\n",
    "            if count == self.noDogs: print('\\nNone of my dogs are hungry anymore.')\n",
    "            \n",
    "Jerry = Owner('Jerry Smith')\n",
    "\n",
    "Jerry.newDog('Tom','6')\n",
    "\n",
    "Jerry.newDog('Fletcher','7')\n",
    "\n",
    "Jerry.newDog('Larry','9')\n",
    "\n",
    "Jerry.description()\n",
    "Jerry.speciescheck()\n",
    "Jerry.feeding()\n",
    "\n"
   ]
  },
  {
   "cell_type": "code",
   "execution_count": null,
   "metadata": {},
   "outputs": [],
   "source": []
  }
 ],
 "metadata": {
  "kernelspec": {
   "display_name": "Python 3",
   "language": "python",
   "name": "python3"
  },
  "language_info": {
   "codemirror_mode": {
    "name": "ipython",
    "version": 3
   },
   "file_extension": ".py",
   "mimetype": "text/x-python",
   "name": "python",
   "nbconvert_exporter": "python",
   "pygments_lexer": "ipython3",
   "version": "3.8.8"
  }
 },
 "nbformat": 4,
 "nbformat_minor": 2
}
