{
 "cells": [
  {
   "cell_type": "markdown",
   "metadata": {},
   "source": [
    "1\\. Write the following as a list comprehension"
   ]
  },
  {
   "cell_type": "code",
   "execution_count": 6,
   "metadata": {},
   "outputs": [
    {
     "name": "stdout",
     "output_type": "stream",
     "text": [
      "[(0, 0), (0, 1), (0, 2), (0, 3), (1, 0), (1, 1), (1, 2), (1, 3), (2, 0), (2, 1), (2, 2), (2, 3)]\n",
      "[(0, 0), (0, 1), (0, 2), (0, 3), (1, 0), (1, 1), (1, 2), (1, 3), (2, 0), (2, 1), (2, 2), (2, 3)]\n",
      "[0, 4, 16]\n",
      "[0, 4, 16]\n"
     ]
    }
   ],
   "source": [
    "# 1\n",
    "ans = []\n",
    "for i in range(3):\n",
    "    for j in range(4):\n",
    "        ans.append((i, j))\n",
    "print (ans)\n",
    "\n",
    "ans = [(x,y) for x in range(3) for y in range(4)]\n",
    "print(ans)\n",
    "\n",
    "# 2\n",
    "ans = map(lambda x: x*x, filter(lambda x: x%2 == 0, range(5)))\n",
    "print (list(ans))\n",
    "\n",
    "ans = [x*x for x in range(5) if x%2 == 0]\n",
    "print(ans)"
   ]
  },
  {
   "cell_type": "markdown",
   "metadata": {},
   "source": [
    "2\\. Convert the following function into a pure function with no global variables or side effects"
   ]
  },
  {
   "cell_type": "code",
   "execution_count": 32,
   "metadata": {},
   "outputs": [
    {
     "name": "stdout",
     "output_type": "stream",
     "text": [
      "[1, 2, 3, 0, 1, 2, 3, 4]\n",
      "[1, 2, 3]\n"
     ]
    }
   ],
   "source": [
    "x = 5\n",
    "def f(alist):\n",
    "    appo=[]\n",
    "    for val in alist:\n",
    "        appo.append(val)\n",
    "    for i in range(x):\n",
    "         appo.append(i)\n",
    "    return appo\n",
    "\n",
    "alist = [1,2,3]\n",
    "ans = f(alist)\n",
    "print (ans)\n",
    "print (alist) # alist has NOT been changed!"
   ]
  },
  {
   "cell_type": "markdown",
   "metadata": {},
   "source": [
    "3\\. Write a `decorator` hello that makes every wrapped function print “Hello!”, i.e. something like:\n",
    "\n",
    "```python\n",
    "@hello\n",
    "def square(x):\n",
    "    return x*x\n",
    "```\n",
    "\n"
   ]
  },
  {
   "cell_type": "code",
   "execution_count": 29,
   "metadata": {},
   "outputs": [
    {
     "name": "stdout",
     "output_type": "stream",
     "text": [
      "Hello!\n",
      "9\n"
     ]
    }
   ],
   "source": [
    "def hello(func):\n",
    "    def wrapper(val):\n",
    "        print(\"Hello!\")\n",
    "        print(func(val))\n",
    "    return wrapper\n",
    "\n",
    "@hello\n",
    "def square(x):\n",
    "    return x*x\n",
    "square(3)"
   ]
  },
  {
   "cell_type": "markdown",
   "metadata": {},
   "source": [
    "4\\. Write the factorial function so that it a) does and b) does not use recursion."
   ]
  },
  {
   "cell_type": "code",
   "execution_count": 2,
   "metadata": {},
   "outputs": [
    {
     "name": "stdout",
     "output_type": "stream",
     "text": [
      "Insert x: 7\n",
      "The factorial is 5040\n",
      "Insert y: 7\n",
      "The factorial is 5040\n"
     ]
    }
   ],
   "source": [
    "def rec(n):\n",
    "    if n==1:\n",
    "        return 1\n",
    "    else:\n",
    "        return n*rec(n-1)\n",
    "    \n",
    "def nrec(n):\n",
    "    fact = 1\n",
    "    for i in range(1,n+1):\n",
    "        fact *= i\n",
    "    return(fact)\n",
    "    \n",
    "x=int(input(\"Insert x: \"))\n",
    "print(\"The factorial is {}\".format(rec(x)))\n",
    "x=int(input(\"Insert y: \"))\n",
    "print(\"The factorial is {}\".format(nrec(x)))"
   ]
  },
  {
   "cell_type": "markdown",
   "metadata": {},
   "source": [
    "5\\. Use HOFs (zip in particular) to compute the weight of a circle, a disk and a sphere, assuming different radii and different densities:\n",
    "\n",
    "```python\n",
    "densities = {\"Al\":[0.5,1,2],\"Fe\":[3,4,5],\"Pb\": [15,20,30]}\n",
    "radii = [1,2,3]\n",
    "```\n",
    "\n",
    "where the entries of the dictionary's values are the linear, superficial and volumetric densities of the materials respectively.\n",
    "\n",
    "In particular define a list of three lambda functions using a comprehension that computes the circumference, the area and the volume for a given radius.\n"
   ]
  },
  {
   "cell_type": "code",
   "execution_count": 11,
   "metadata": {},
   "outputs": [
    {
     "name": "stdout",
     "output_type": "stream",
     "text": [
      "Weight of a  circle  with radius  1 : \n",
      "Al ->  3.141592653589793 \n",
      "Fe ->  18.84955592153876 \n",
      "Pb ->  94.24777960769379\n",
      "Weight of a  circle  with radius  2 : \n",
      "Al ->  6.283185307179586 \n",
      "Fe ->  37.69911184307752 \n",
      "Pb ->  188.49555921538757\n",
      "Weight of a  circle  with radius  3 : \n",
      "Al ->  9.42477796076938 \n",
      "Fe ->  56.548667764616276 \n",
      "Pb ->  282.7433388230814\n",
      "Weight of a  disc  with radius  1 : \n",
      "Al ->  3.141592653589793 \n",
      "Fe ->  12.566370614359172 \n",
      "Pb ->  62.83185307179586\n",
      "Weight of a  disc  with radius  2 : \n",
      "Al ->  12.566370614359172 \n",
      "Fe ->  50.26548245743669 \n",
      "Pb ->  251.32741228718345\n",
      "Weight of a  disc  with radius  3 : \n",
      "Al ->  28.274333882308138 \n",
      "Fe ->  113.09733552923255 \n",
      "Pb ->  565.4866776461628\n",
      "Weight of a  sphere  with radius  1 : \n",
      "Al ->  8.377580409572781 \n",
      "Fe ->  20.94395102393195 \n",
      "Pb ->  125.66370614359171\n",
      "Weight of a  sphere  with radius  2 : \n",
      "Al ->  67.02064327658225 \n",
      "Fe ->  167.5516081914556 \n",
      "Pb ->  1005.3096491487337\n",
      "Weight of a  sphere  with radius  3 : \n",
      "Al ->  226.19467105846508 \n",
      "Fe ->  565.4866776461627 \n",
      "Pb ->  3392.920065876976\n"
     ]
    }
   ],
   "source": [
    "import math as m\n",
    "\n",
    "densities = {\"Al\":[0.5,1,2],\"Fe\":[3,4,5],\"Pb\": [15,20,30]}\n",
    "radii = [1,2,3]\n",
    "name=[\"circle\", \"disc\", \"sphere\"]\n",
    "\n",
    "vol = [lambda x: m.pi*2*x, lambda x: m.pi*pow(x,2), lambda x: (4/3)*m.pi*pow(x,3)]\n",
    "\n",
    "for al,fe,pb,i in zip(densities[\"Al\"],densities[\"Fe\"],densities[\"Pb\"],range(3)):\n",
    "    j=0\n",
    "    for r in map(vol[i], radii):\n",
    "        print(\"Weight of a \", name[i], \" with radius \",radii[j],\": \\nAl -> \", al*r,\"\\nFe -> \", fe*r,\"\\nPb -> \",pb*r)\n",
    "        j+=1"
   ]
  },
  {
   "cell_type": "markdown",
   "metadata": {},
   "source": [
    "6\\. Edit the class defintion to add an instance attribute of is_hungry = True to the Dog class. Then add a method called eat() which changes the value of is_hungry to False when called. Figure out the best way to feed each dog and then output “My dogs are hungry.” if all are hungry or “My dogs are not hungry.” if all are not hungry. The final output should look like this:\n",
    "\n",
    "`I have 3 dogs. \n",
    "Tom is 6. \n",
    "Fletcher is 7. \n",
    "Larry is 9. \n",
    "And they're all mammals, of course. \n",
    "My dogs are not hungry.\n",
    "`\n",
    "\n",
    "```python\n",
    "# Parent class\n",
    "class Dog:\n",
    "\n",
    "    # Class attribute\n",
    "    species = 'mammal'\n",
    "\n",
    "    # Initializer / Instance attributes\n",
    "    def __init__(self, name, age):\n",
    "        self.name = name\n",
    "        self.age = age\n",
    "\n",
    "    # instance method\n",
    "    def description(self):\n",
    "        return \"{} is {} years old\".format(self.name, self.age)\n",
    "\n",
    "    # instance method\n",
    "    def speak(self, sound):\n",
    "        return \"{} says {}\".format(self.name, sound)\n",
    "\n",
    "# Child class (inherits from Dog class)\n",
    "class RussellTerrier(Dog):\n",
    "    def run(self, speed):\n",
    "        return \"{} runs {}\".format(self.name, speed)\n",
    "\n",
    "# Child class (inherits from Dog class)\n",
    "class Bulldog(Dog):\n",
    "    def run(self, speed):\n",
    "        return \"{} runs {}\".format(self.name, speed)\n",
    "```"
   ]
  },
  {
   "cell_type": "code",
   "execution_count": 12,
   "metadata": {},
   "outputs": [
    {
     "name": "stdout",
     "output_type": "stream",
     "text": [
      "I have 3 dogs.\n",
      "Tom is 6.\n",
      "Fletcher is 7.\n",
      "Larry is 9.\n",
      "And they're all mammals, of course.\n",
      "My dogs are not hungry.\n"
     ]
    }
   ],
   "source": [
    "# Parent class\n",
    "class Dog:\n",
    "\n",
    "    # Class attribute\n",
    "    species = 'mammal'\n",
    "\n",
    "    # Initializer / Instance attributes\n",
    "    def __init__(self, name, age):\n",
    "        self.name = name\n",
    "        self.age = age\n",
    "        self.is_hungry=True\n",
    "\n",
    "    # instance method\n",
    "    def description(self):\n",
    "        return \"{} is {} years old\".format(self.name, self.age)\n",
    "\n",
    "    # instance method\n",
    "    def speak(self, sound):\n",
    "        return \"{} says {}\".format(self.name, sound)\n",
    "    \n",
    "    # instance method\n",
    "    def eat(self):\n",
    "        self.is_hungry=False\n",
    "\n",
    "# Child class (inherits from Dog class)\n",
    "class RussellTerrier(Dog):\n",
    "    def run(self, speed):\n",
    "        return \"{} runs {}\".format(self.name, speed)\n",
    "\n",
    "# Child class (inherits from Dog class)\n",
    "class Bulldog(Dog):\n",
    "    def run(self, speed):\n",
    "        return \"{} runs {}\".format(self.name, speed)\n",
    "    \n",
    "# Child class (inherits from Dog class)\n",
    "class Pug(Dog):\n",
    "    def run(self, speed):\n",
    "        return \"{} runs {}\".format(self.name, speed)\n",
    "    \n",
    "names = [\"Tom\", \"Fletcher\", \"Larry\"]\n",
    "dogs = [RussellTerrier(names[0],6),Bulldog(names[1],7),Pug(names[2],9)]\n",
    "\n",
    "for puppy in dogs:\n",
    "    puppy.eat()\n",
    "    \n",
    "check = 0\n",
    "check1 = 0\n",
    "\n",
    "for puppy in dogs:\n",
    "    if puppy.is_hungry == True: check += 1\n",
    "    if puppy.species == \"mammal\": check1 += 1\n",
    "        \n",
    "print(\"I have {} dogs.\".format(len(dogs)))\n",
    "\n",
    "for puppy in dogs:\n",
    "    print(\"{} is {}.\".format(puppy.name,puppy.age))\n",
    "\n",
    "if check1 == len(dogs): print(\"And they're all mammals, of course.\")\n",
    "else: print(\"Something's horribly wrong.\")\n",
    "    \n",
    "if check == len(dogs):\n",
    "    print(\"My dogs are hungry.\")\n",
    "elif check == 0:\n",
    "    print(\"My dogs are not hungry.\")\n",
    "else:\n",
    "    print(\"Some dogs are hungry.\")"
   ]
  },
  {
   "cell_type": "code",
   "execution_count": null,
   "metadata": {},
   "outputs": [],
   "source": []
  }
 ],
 "metadata": {
  "kernelspec": {
   "display_name": "Python 3",
   "language": "python",
   "name": "python3"
  },
  "language_info": {
   "codemirror_mode": {
    "name": "ipython",
    "version": 3
   },
   "file_extension": ".py",
   "mimetype": "text/x-python",
   "name": "python",
   "nbconvert_exporter": "python",
   "pygments_lexer": "ipython3",
   "version": "3.7.4"
  }
 },
 "nbformat": 4,
 "nbformat_minor": 2
}
