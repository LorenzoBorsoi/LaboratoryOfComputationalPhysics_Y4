{
 "cells": [
  {
   "cell_type": "markdown",
   "metadata": {},
   "source": [
    "1\\. **Radioactive decay chain**\n",
    "\n",
    "${\\rm Tl}^{208}$ decays to ${\\rm Pb}^{208}$ with a half-lieve of 3.052 minutes. Suppose to start with a sample of 1000 Thallium atoms and 0 of Lead atoms.\n",
    "\n",
    "* Take steps in time of 1 second and at each time-step decide whether each Tl atom has decayed or not, accordingly to the probability $p(t)=1-2^{-t/\\tau}$. Subtract the total number of Tl atoms that decayed at each step from the Tl sample and add them to the Lead one. Plot the evolution of the two sets as a function of time  \n",
    "* Repeat the exercise by means of the inverse transform method: draw 1000 random numbers from the non-uniform probability distribution $p(t)=2^{-t/\\tau}\\frac{\\ln 2}{\\tau}$ to represent the times of decay of the 1000 Tl atoms. Make a plot showing the number of atoms that have not decayed as a function of time"
   ]
  },
  {
   "cell_type": "code",
   "execution_count": 1,
   "metadata": {},
   "outputs": [
    {
     "data": {
      "text/plain": [
       "'%.4f'"
      ]
     },
     "execution_count": 1,
     "metadata": {},
     "output_type": "execute_result"
    }
   ],
   "source": [
    "import numpy as np\n",
    "import pandas as pd\n",
    "from scipy import stats\n",
    "import math as m\n",
    "import scipy.constants as sc\n",
    "\n",
    "import matplotlib.pyplot as plt\n",
    "import seaborn as sns\n",
    "%matplotlib inline\n",
    "%precision 4"
   ]
  },
  {
   "cell_type": "code",
   "execution_count": 2,
   "metadata": {},
   "outputs": [
    {
     "data": {
      "image/png": "[encoded data removed]",
      "text/plain": [
       "<Figure size 432x288 with 1 Axes>"
      ]
     },
     "metadata": {
      "needs_background": "light"
     },
     "output_type": "display_data"
    }
   ],
   "source": [
    "tau = 3.052*60\n",
    "sample_Ti_in = 1000\n",
    "sample_Pb_in = 0\n",
    "Ti = []\n",
    "Pb = []\n",
    "times = np.arange(0,1000,1)\n",
    "\n",
    "def decay_probability(t):\n",
    "    return 1. - 2.**(-t/tau)\n",
    "\n",
    "#def expon_icdf(t):\n",
    "#    return np.log(2.0)/tau*2.**(-t/tau)\n",
    "def expon_icdf(p, mu = (np.log(2)/tau)):\n",
    "    return - np.log(1 - p) / mu\n",
    "\n",
    "def lcg(m=2**32, a=1103515245, c=12345):\n",
    "    lcg.current = (a*lcg.current + c) % m\n",
    "    return lcg.current/m\n",
    "\n",
    "lcg.current = 12345\n",
    "\n",
    "array = np.array([lcg() for i in range(sample_Ti_in)])\n",
    "for t in times:\n",
    "    decayed = array[array < decay_probability(t)]\n",
    "    sample_Ti = sample_Ti_in -len(decayed) \n",
    "    sample_Pb = sample_Pb_in + len(decayed)\n",
    "    Ti.append(sample_Ti)\n",
    "    Pb.append(sample_Pb)\n",
    "            \n",
    "            \n",
    "plt.plot(times, Ti, label = 'Ti', color = 'red')\n",
    "plt.plot(times, Pb, label = 'Pb', color = 'orange')\n",
    "plt.legend()\n",
    "plt.xlabel('time [s]')\n",
    "plt.ylabel('number of atoms')\n",
    "\n",
    "plt.show()            \n"
   ]
  },
  {
   "cell_type": "code",
   "execution_count": 3,
   "metadata": {},
   "outputs": [
    {
     "data": {
      "image/png": "[encoded data removed]",
      "text/plain": [
       "<Figure size 432x288 with 1 Axes>"
      ]
     },
     "metadata": {
      "needs_background": "light"
     },
     "output_type": "display_data"
    }
   ],
   "source": [
    "u = np.random.uniform(0,1,1000)\n",
    "v = expon_icdf(u)\n",
    "not_decayed = []\n",
    "for t in range(2000):\n",
    "    v = v[v > t]\n",
    "    not_decayed.append(len(v))\n",
    "plt.plot(not_decayed)\n",
    "plt.xlabel('time [s]')\n",
    "plt.ylabel('number of atoms')\n",
    "plt.show()"
   ]
  },
  {
   "cell_type": "markdown",
   "metadata": {},
   "source": [
    "2\\. **Rutherford Scattering**\n",
    "\n",
    "The scattering angle $\\theta$ of $\\alpha$ particles hitting a positively charged nucleus of a Gold atom ($Z=79$) follows the rule:\n",
    "\n",
    "$$\n",
    "\\tan{\\frac{1}{2} \\theta} = \\frac{Z e^2} {2\\pi \\epsilon_0 E b}\n",
    "$$\n",
    "\n",
    "where $E=7.7$ MeV and $b$ beam is the impact parameter. The beam is represented by a 2D gaussian distribution with $\\sigma=a_0/100$ for both coordinates ($a_0$ being the Bohr radius). Assume 1 million $\\alpha$ particles are shot on the gold atom.\n",
    "\n",
    "Computing the fraction of particles that \"bounce back\",i.e. those particle whose scattering angle is greater than $\\pi/2$ (which set a condition on the impact parameter $b$)"
   ]
  },
  {
   "cell_type": "code",
   "execution_count": 4,
   "metadata": {},
   "outputs": [
    {
     "data": {
      "text/plain": [
       "('The fraction of particles that bounce back is:', 0.0016)"
      ]
     },
     "execution_count": 4,
     "metadata": {},
     "output_type": "execute_result"
    }
   ],
   "source": [
    "Z_Au = 79\n",
    "\n",
    "E = 7.7e6 \n",
    "a0 = 5.29177210903e-11  \n",
    "\n",
    "n_alpha = 1000000\n",
    "x = np.random.normal(0,a0/100,n_alpha)\n",
    "y = np.random.normal(0,a0/100,n_alpha)\n",
    "\n",
    "b = np.sqrt(x**2+y**2)\n",
    "theta = 2 * np.arctan((Z_Au * sc.e) / (E * b*2*np.pi*sc.epsilon_0))\n",
    "thetas_1 = theta[theta > np.pi/2]\n",
    "\n",
    "\n",
    "('The fraction of particles that bounce back is:',len(thetas_1)/n_alpha)\n",
    "\n",
    "\n"
   ]
  },
  {
   "cell_type": "markdown",
   "metadata": {},
   "source": [
    "3\\. **Monte Carlo integration: hit/miss vs mean value method**\n",
    "\n",
    "Consider the function \n",
    "\n",
    "$$f(x) =\\sin^2{\\frac{1}{x(2-x)}}$$\n",
    "\n",
    "* Compute the integral of $f(x)$ between 0 and 2 with the hit/miss method. Evaluate the error of your estimate\n",
    "* Repeat the integral with the mean value method. Evaluate the error and compare it with the previous one"
   ]
  },
  {
   "cell_type": "code",
   "execution_count": 5,
   "metadata": {},
   "outputs": [
    {
     "name": "stdout",
     "output_type": "stream",
     "text": [
      "With hit or miss method we get the integral value 1.45012 \n",
      " with an error of:  0.002823812999474292\n",
      "With mean value method we get the integral value 1.451128159107581 \n",
      " with an error of:  0.001664559076939865\n"
     ]
    },
    {
     "data": {
      "image/png": "[encoded data removed]",
      "text/plain": [
       "<Figure size 432x288 with 1 Axes>"
      ]
     },
     "metadata": {
      "needs_background": "light"
     },
     "output_type": "display_data"
    }
   ],
   "source": [
    "#hit or miss\n",
    "def f(x):\n",
    "    return (np.sin(1/(x*(2-x))))**2\n",
    "x=np.linspace(0.001,1.999,1000)\n",
    "plt.plot(x,f(x),'r-')\n",
    "N=100000\n",
    "count=0\n",
    "for i in range(N):\n",
    "    x=2*np.random.random()\n",
    "    y=np.random.random()\n",
    "    if y<f(x): count+=1\n",
    "I1=2*count/N\n",
    "p = count/N\n",
    "err1 = 2*np.sqrt(p*(1-p)/N)\n",
    "\n",
    "print(\"With hit or miss method we get the integral value\", I1, \"\\n with an error of: \", err1)\n",
    "\n",
    "#mean value\n",
    "\n",
    "x = 2*np.random.random(N)\n",
    "y = f(x)\n",
    "I2 = 2/N*y.sum()\n",
    "err2 = 2*np.std(y)/np.sqrt(N)\n",
    "\n",
    "print(\"With mean value method we get the integral value\", I2, \"\\n with an error of: \", err2)\n"
   ]
  },
  {
   "cell_type": "markdown",
   "metadata": {},
   "source": [
    "4\\. **Monte Carlo integration in high dimension**\n",
    "\n",
    "* Start of by computing the area of a circle of unit radius, by integrating the function \n",
    "\n",
    "$$\n",
    "f(x,y)=\n",
    "\\left\\{\n",
    "\\begin{array}{ll}\n",
    "      1 & x^2+y^2\\le 1 \\\\\n",
    "      0 & {\\rm elsewhere}\n",
    "\\end{array} \n",
    "\\right.\n",
    "$$\n",
    "\n",
    "* Generalize the result for a 10D sphere\n",
    "\n"
   ]
  },
  {
   "cell_type": "code",
   "execution_count": 6,
   "metadata": {},
   "outputs": [
    {
     "name": "stdout",
     "output_type": "stream",
     "text": [
      "The result of the integral for a 2D is 3.142596\n",
      "The result of the integral for a 10D sphere is 2.660352\n"
     ]
    }
   ],
   "source": [
    "N = 1000000\n",
    "def f(x,y):\n",
    "    if x**2+y**2<=1:\n",
    "        return 1\n",
    "    else: \n",
    "        return 0\n",
    "    \n",
    "def F(X):\n",
    "    X = X**2\n",
    "    if  np.sum(X)<=1:\n",
    "        return 1\n",
    "    else:\n",
    "        return 0\n",
    "\n",
    "#2D\n",
    "I = 0\n",
    "for i in range(N):\n",
    "    a = 2*np.random.random() - 1\n",
    "    b = 2*np.random.random() - 1\n",
    "    I += f(a,b)\n",
    "    \n",
    "I_value = 4*I/N\n",
    "print('The result of the integral for a 2D is',I_value)\n",
    "\n",
    "#10D\n",
    "\n",
    "D = 10\n",
    "I2 = 0\n",
    "\n",
    "for i in range(N):\n",
    "    x = np.array([2*np.random.random() - 1 for d in range(D)])\n",
    "    I2 += F(x)\n",
    "I2_value = (2**D)*I2/N\n",
    "print('The result of the integral for a 10D sphere is',I2_value)"
   ]
  },
  {
   "cell_type": "markdown",
   "metadata": {},
   "source": [
    "5\\. **Monte Carlo integration with importance sampling** \n",
    "\n",
    "Calculate the value of the integral:\n",
    "\n",
    "$$\n",
    "I=\\int_0^1 \\frac{x^{-1/2}}{e^x+1} dx\n",
    "$$\n",
    "\n",
    "using the importance sampling method with $w(x)=1/\\sqrt{x}$. You should get a result about 0.84"
   ]
  },
  {
   "cell_type": "code",
   "execution_count": 8,
   "metadata": {},
   "outputs": [
    {
     "name": "stdout",
     "output_type": "stream",
     "text": [
      "The value of the integral obtained with importance sampling is: 0.8390240885260556\n"
     ]
    }
   ],
   "source": [
    "N = 100000\n",
    "\n",
    "def w(x):\n",
    "    return 1 / np.sqrt(x)\n",
    "\n",
    "def s(x):\n",
    "    return x**2\n",
    "\n",
    "def f(x):\n",
    "    return x**(-0.5) / (np.exp(x) + 1)\n",
    "\n",
    "def imp_sampling(N,a,b):\n",
    "    x = np.random.uniform(a,b,N)\n",
    "    summ = np.sum(f(s(x)) / w(s(x)))\n",
    "    return 1 / N *summ * 2\n",
    "\n",
    "print('The value of the integral obtained with importance sampling is:',imp_sampling(N, 0, 1))\n",
    "   \n",
    "        "
   ]
  },
  {
   "cell_type": "code",
   "execution_count": null,
   "metadata": {},
   "outputs": [],
   "source": []
  }
 ],
 "metadata": {
  "kernelspec": {
   "display_name": "Python 3",
   "language": "python",
   "name": "python3"
  },
  "language_info": {
   "codemirror_mode": {
    "name": "ipython",
    "version": 3
   },
   "file_extension": ".py",
   "mimetype": "text/x-python",
   "name": "python",
   "nbconvert_exporter": "python",
   "pygments_lexer": "ipython3",
   "version": "3.7.6"
  }
 },
 "nbformat": 4,
 "nbformat_minor": 2
}
