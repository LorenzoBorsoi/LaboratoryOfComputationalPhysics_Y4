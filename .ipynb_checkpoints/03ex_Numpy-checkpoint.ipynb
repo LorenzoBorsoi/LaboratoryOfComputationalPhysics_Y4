{
 "cells": [
  {
   "cell_type": "markdown",
   "metadata": {},
   "source": [
    "### Numpy basics"
   ]
  },
  {
   "cell_type": "markdown",
   "metadata": {},
   "source": [
    "1\\. Find the row, column and overall means for the following matrix:\n",
    "\n",
    "```python\n",
    "m = np.arange(12).reshape((3,4))\n",
    "```"
   ]
  },
  {
   "cell_type": "code",
   "execution_count": 2,
   "metadata": {
    "scrolled": true
   },
   "outputs": [
    {
     "name": "stdout",
     "output_type": "stream",
     "text": [
      "row mean is: [1.5 5.5 9.5]\n",
      "columb mean is: [4. 5. 6. 7.]\n",
      "The mean of the means is 5.5\n",
      "The matrix mean is 5.5\n"
     ]
    }
   ],
   "source": [
    "import numpy as np\n",
    "\n",
    "m = np.arange(12).reshape((3,4))\n",
    "row_mean = m.mean(axis = 1)\n",
    "col_mean = m.mean(axis = 0)\n",
    "\n",
    "print('row mean is:',row_mean)\n",
    "print('columb mean is:', col_mean)\n",
    "print('The mean of the means is', (row_mean.mean()+col_mean.mean())/2)\n",
    "print('The matrix mean is',m.mean())"
   ]
  },
  {
   "cell_type": "markdown",
   "metadata": {},
   "source": [
    "2\\. Find the outer product of the following two vecotrs\n",
    "\n",
    "```python\n",
    "u = np.array([1,3,5,7])\n",
    "v = np.array([2,4,6,8])\n",
    "```\n",
    "\n",
    "outer = np.outer(u,v)\n",
    "\n",
    "print(outer)\n",
    "Do this in the following ways:\n",
    "\n",
    "   * Using the function outer in numpy\n",
    "   * Using a nested for loop or list comprehension\n",
    "   * Using numpy broadcasting operatoins\n"
   ]
  },
  {
   "cell_type": "code",
   "execution_count": 21,
   "metadata": {},
   "outputs": [
    {
     "name": "stdout",
     "output_type": "stream",
     "text": [
      "[[ 2  4  6  8]\n",
      " [ 6 12 18 24]\n",
      " [10 20 30 40]\n",
      " [14 28 42 56]]\n",
      "[[ 2.  4.  6.  8.]\n",
      " [ 6. 12. 18. 24.]\n",
      " [10. 20. 30. 40.]\n",
      " [14. 28. 42. 56.]]\n",
      "[[ 2  4  6  8]\n",
      " [ 6 12 18 24]\n",
      " [10 20 30 40]\n",
      " [14 28 42 56]]\n"
     ]
    }
   ],
   "source": [
    "\n",
    "u = np.array([1,3,5,7])\n",
    "v = np.array([2,4,6,8])\n",
    "\n",
    "\n",
    "out = np.zeros((4,4))\n",
    "for i in range(4):\n",
    "    for j in range(4):\n",
    "        out[i,j] = u[i]*v[j]\n",
    "\n",
    "outer = np.outer(u,v)\n",
    "\n",
    "ut = np.reshape(u,(4,1))\n",
    "vt = np.reshape(v,(1,4))\n",
    "\n",
    "outer2 = ut*v\n",
    "\n",
    "print(outer)\n",
    "print(out)\n",
    "\n",
    "print(outer2)"
   ]
  },
  {
   "cell_type": "code",
   "execution_count": null,
   "metadata": {},
   "outputs": [],
   "source": []
  },
  {
   "cell_type": "markdown",
   "metadata": {},
   "source": [
    "3\\. Create a 10 by 6 matrix of random uniform numbers. Set all rows with any entry less than 0.1 to be zero\n",
    "\n",
    "\n",
    "Hint: Use the following numpy functions - np.random.random, np.any as well as Boolean indexing and the axis argument."
   ]
  },
  {
   "cell_type": "code",
   "execution_count": 34,
   "metadata": {},
   "outputs": [
    {
     "name": "stdout",
     "output_type": "stream",
     "text": [
      "[[0.05794175 0.24141446 0.32858993 0.88921524 0.33576515 0.4194661 ]\n",
      " [0.37505815 0.51458329 0.53337569 0.20445955 0.90733898 0.62266361]\n",
      " [0.09555346 0.99980249 0.78060061 0.81493839 0.61905843 0.66741501]\n",
      " [0.05383673 0.2895545  0.37343381 0.19252221 0.69842645 0.78700841]\n",
      " [0.30121413 0.90163007 0.0572288  0.17344407 0.31761045 0.68944883]\n",
      " [0.72910593 0.11998264 0.24660725 0.88787233 0.22376198 0.89253856]\n",
      " [0.4446963  0.97979411 0.59645496 0.00526404 0.60442982 0.12730613]\n",
      " [0.08996018 0.74911653 0.36606884 0.03554602 0.58860884 0.00304992]\n",
      " [0.98367261 0.99773652 0.94037093 0.45982218 0.97914582 0.86652154]\n",
      " [0.86956454 0.79002368 0.05334995 0.73920121 0.01628198 0.40632105]]\n",
      "[[0.         0.         0.         0.         0.         0.        ]\n",
      " [0.37505815 0.51458329 0.53337569 0.20445955 0.90733898 0.62266361]\n",
      " [0.         0.         0.         0.         0.         0.        ]\n",
      " [0.         0.         0.         0.         0.         0.        ]\n",
      " [0.         0.         0.         0.         0.         0.        ]\n",
      " [0.72910593 0.11998264 0.24660725 0.88787233 0.22376198 0.89253856]\n",
      " [0.         0.         0.         0.         0.         0.        ]\n",
      " [0.         0.         0.         0.         0.         0.        ]\n",
      " [0.98367261 0.99773652 0.94037093 0.45982218 0.97914582 0.86652154]\n",
      " [0.         0.         0.         0.         0.         0.        ]]\n"
     ]
    }
   ],
   "source": [
    "\n",
    "\n",
    "mat = np.random.rand(10,6)\n",
    "print(mat)\n",
    "\n",
    "for i in range(mat.shape\n",
    "               [0]):\n",
    "    mask = (mat[i] < 0.1)\n",
    "    if np.any(mask):\n",
    "        mat[i]=np.zeros(mat.shape[1])\n",
    "\n",
    "print(mat)"
   ]
  },
  {
   "cell_type": "markdown",
   "metadata": {},
   "source": [
    "4\\. Use np.linspace to create an array of 100 numbers between 0 and 2π (includsive).\n",
    "\n",
    "  * Extract every 10th element using slice notation\n",
    "  * Reverse the array using slice notation\n",
    "  * Extract elements where the absolute difference between the sine and cosine functions evaluated at that element is less than 0.1\n",
    "  * Make a plot showing the sin and cos functions and indicate where they are close"
   ]
  },
  {
   "cell_type": "code",
   "execution_count": 20,
   "metadata": {},
   "outputs": [
    {
     "name": "stdout",
     "output_type": "stream",
     "text": [
      "Every tenth element [0.         0.63466518 1.26933037 1.90399555 2.53866073 3.17332591\n",
      " 3.8079911  4.44265628 5.07732146 5.71198664]\n",
      "Reversed [6.28318531 6.21971879 6.15625227 6.09278575 6.02931923 5.96585272\n",
      " 5.9023862  5.83891968 5.77545316 5.71198664 5.64852012 5.58505361\n",
      " 5.52158709 5.45812057 5.39465405 5.33118753 5.26772102 5.2042545\n",
      " 5.14078798 5.07732146 5.01385494 4.95038842 4.88692191 4.82345539\n",
      " 4.75998887 4.69652235 4.63305583 4.56958931 4.5061228  4.44265628\n",
      " 4.37918976 4.31572324 4.25225672 4.1887902  4.12532369 4.06185717\n",
      " 3.99839065 3.93492413 3.87145761 3.8079911  3.74452458 3.68105806\n",
      " 3.61759154 3.55412502 3.4906585  3.42719199 3.36372547 3.30025895\n",
      " 3.23679243 3.17332591 3.10985939 3.04639288 2.98292636 2.91945984\n",
      " 2.85599332 2.7925268  2.72906028 2.66559377 2.60212725 2.53866073\n",
      " 2.47519421 2.41172769 2.34826118 2.28479466 2.22132814 2.15786162\n",
      " 2.0943951  2.03092858 1.96746207 1.90399555 1.84052903 1.77706251\n",
      " 1.71359599 1.65012947 1.58666296 1.52319644 1.45972992 1.3962634\n",
      " 1.33279688 1.26933037 1.20586385 1.14239733 1.07893081 1.01546429\n",
      " 0.95199777 0.88853126 0.82506474 0.76159822 0.6981317  0.63466518\n",
      " 0.57119866 0.50773215 0.44426563 0.38079911 0.31733259 0.25386607\n",
      " 0.19039955 0.12693304 0.06346652 0.        ]\n",
      "array masked [0.76159822 0.82506474 3.87145761 3.93492413]\n",
      "[0.03365503 0.0560823  0.07849545 0.01121928]\n"
     ]
    },
    {
     "data": {
      "image/png": "[encoded data removed]",
      "text/plain": [
       "<Figure size 432x288 with 1 Axes>"
      ]
     },
     "metadata": {
      "needs_background": "light"
     },
     "output_type": "display_data"
    }
   ],
   "source": [
    "from matplotlib import pyplot as plt \n",
    "\n",
    "arr = np.linspace(0,2*np.pi,100)\n",
    "\n",
    "tenth = arr[::10]\n",
    "print('Every tenth element',tenth)\n",
    "\n",
    "reverse = arr[::-1]\n",
    "print('Reversed',reverse)\n",
    "\n",
    "sinAr = np.sin(arr)\n",
    "cosAr = np.cos(arr)\n",
    "dif = np.abs(sinAr - cosAr)\n",
    "\n",
    "mask = (dif < 0.1)\n",
    "\n",
    "print('array masked', arr[mask])\n",
    "print(dif[mask])\n",
    "\n",
    "plt.title('The waves of love')\n",
    "plt.xlabel('Angle')\n",
    "plt.ylabel('Sin(x),Cos(x)')\n",
    "plt.plot(arr,sinAr)\n",
    "plt.plot(arr,cosAr)\n",
    "plt.plot(arr[mask],sinAr[mask],marker='o',linestyle = 'none')\n",
    "plt.show()"
   ]
  },
  {
   "cell_type": "markdown",
   "metadata": {},
   "source": [
    "5\\. Create a matrix that shows the 10 by 10 multiplication table.\n",
    "\n",
    " * Find the trace of the matrix\n",
    " * Extract the anto-diagonal (this should be ```array([10, 18, 24, 28, 30, 30, 28, 24, 18, 10])```)\n",
    " * Extract the diagnoal offset by 1 upwards (this should be ```array([ 2,  6, 12, 20, 30, 42, 56, 72, 90])```)"
   ]
  },
  {
   "cell_type": "code",
   "execution_count": 2,
   "metadata": {},
   "outputs": [
    {
     "name": "stdout",
     "output_type": "stream",
     "text": [
      "here is the multiplication tabel\n",
      " [[  1   2   3   4   5   6   7   8   9  10]\n",
      " [  2   4   6   8  10  12  14  16  18  20]\n",
      " [  3   6   9  12  15  18  21  24  27  30]\n",
      " [  4   8  12  16  20  24  28  32  36  40]\n",
      " [  5  10  15  20  25  30  35  40  45  50]\n",
      " [  6  12  18  24  30  36  42  48  54  60]\n",
      " [  7  14  21  28  35  42  49  56  63  70]\n",
      " [  8  16  24  32  40  48  56  64  72  80]\n",
      " [  9  18  27  36  45  54  63  72  81  90]\n",
      " [ 10  20  30  40  50  60  70  80  90 100]]\n",
      "here is the anto diagonal [10 18 24 28 30 30 28 24 18 10]\n",
      "the diagonal ofset of 1 is: [ 2  6 12 20 30 42 56 72 90]\n"
     ]
    }
   ],
   "source": [
    "import numpy as np\n",
    "\n",
    "row = np.arange(1,11,1)\n",
    "col = np.arange(1,11,1)\n",
    "\n",
    "tabel = row * col.reshape(10,1)\n",
    "print('here is the multiplication tabel\\n',tabel)\n",
    "\n",
    "flip = np.fliplr(tabel)\n",
    "\n",
    "antoDiag = np.diagonal(flip)\n",
    "\n",
    "print('here is the anto diagonal', antoDiag)\n",
    "\n",
    "diagofset = np.diagonal(tabel,offset=1)\n",
    "\n",
    "print('the diagonal ofset of 1 is:',diagofset)\n"
   ]
  },
  {
   "cell_type": "markdown",
   "metadata": {},
   "source": [
    "6\\. Use broadcasting to create a grid of distances\n",
    "\n",
    "Route 66 crosses the following cities in the US: Chicago, Springfield, Saint-Louis, Tulsa, Oklahoma City, Amarillo, Santa Fe, Albuquerque, Flagstaff, Los Angeles\n",
    "The corresponding positions in miles are: 0, 198, 303, 736, 871, 1175, 1475, 1544, 1913, 2448\n",
    "\n",
    "  * Construct a 2D grid of distances among each city along Route 66\n",
    "  * Convert that in km (those savages...)"
   ]
  },
  {
   "cell_type": "code",
   "execution_count": 34,
   "metadata": {},
   "outputs": [
    {
     "name": "stdout",
     "output_type": "stream",
     "text": [
      "[[   0.  198.  303.  736.  871. 1175. 1475. 1544. 1913. 2448.]\n",
      " [ 198.    0.  105.  538.  673.  977. 1277. 1346. 1715. 2250.]\n",
      " [ 303.  105.    0.  433.  568.  872. 1172. 1241. 1610. 2145.]\n",
      " [ 736.  538.  433.    0.  135.  439.  739.  808. 1177. 1712.]\n",
      " [ 871.  673.  568.  135.    0.  304.  604.  673. 1042. 1577.]\n",
      " [1175.  977.  872.  439.  304.    0.  300.  369.  738. 1273.]\n",
      " [1475. 1277. 1172.  739.  604.  300.    0.   69.  438.  973.]\n",
      " [1544. 1346. 1241.  808.  673.  369.   69.    0.  369.  904.]\n",
      " [1913. 1715. 1610. 1177. 1042.  738.  438.  369.    0.  535.]\n",
      " [2448. 2250. 2145. 1712. 1577. 1273.  973.  904.  535.    0.]]\n",
      "[[   0.  319.  488. 1184. 1402. 1891. 2374. 2485. 3079. 3940.]\n",
      " [ 319.    0.  169.  866. 1083. 1572. 2055. 2166. 2760. 3621.]\n",
      " [ 488.  169.    0.  697.  914. 1403. 1886. 1997. 2591. 3452.]\n",
      " [1184.  866.  697.    0.  217.  706. 1189. 1300. 1894. 2755.]\n",
      " [1402. 1083.  914.  217.    0.  489.  972. 1083. 1677. 2538.]\n",
      " [1891. 1572. 1403.  706.  489.    0.  483.  594. 1188. 2049.]\n",
      " [2374. 2055. 1886. 1189.  972.  483.    0.  111.  705. 1566.]\n",
      " [2485. 2166. 1997. 1300. 1083.  594.  111.    0.  594. 1455.]\n",
      " [3079. 2760. 2591. 1894. 1677. 1188.  705.  594.    0.  861.]\n",
      " [3940. 3621. 3452. 2755. 2538. 2049. 1566. 1455.  861.    0.]]\n"
     ]
    }
   ],
   "source": [
    "dis = np.array([0,198,303,736,871,1175,1475,1544,1913,2448])\n",
    "\n",
    "grid = np.zeros((10,10))\n",
    "\n",
    "for i in range (10):\n",
    "    for j in range (10):\n",
    "        grid[j][i] = np.abs(dis[i]-dis[j])\n",
    "\n",
    "\n",
    "print(grid)\n",
    "\n",
    "km = np.round(1.6093*grid)\n",
    "print(km)"
   ]
  },
  {
   "cell_type": "markdown",
   "metadata": {},
   "source": [
    "7\\. Prime numbers sieve: compute the prime numbers in the 0-N (N=99 to start with) range with a sieve (mask).\n",
    "  * Constract a shape (100,) boolean array, the mask\n",
    "  * Identify the multiples of each number starting from 2 and set accordingly the corresponding mask element\n",
    "  * Apply the mask to obtain an array of ordered prime numbers\n",
    "  * Check the performances (timeit); how does it scale with N?\n",
    "  * Implement the optimization suggested in the [sieve of Eratosthenes](https://en.wikipedia.org/wiki/Sieve_of_Eratosthenes)"
   ]
  },
  {
   "cell_type": "code",
   "execution_count": 33,
   "metadata": {},
   "outputs": [
    {
     "name": "stdout",
     "output_type": "stream",
     "text": [
      "[0, 1, 2, 3, 5, 7, 11, 13, 17, 19, 23, 29, 31, 37, 41, 43, 47, 53, 59, 61, 67, 71, 73, 79, 83, 89, 97]\n",
      "6.4 ms ± 117 µs per loop (mean ± std. dev. of 7 runs, 100 loops each)\n",
      "12.6 ms ± 131 µs per loop (mean ± std. dev. of 7 runs, 100 loops each)\n",
      "18.8 ms ± 52.3 µs per loop (mean ± std. dev. of 7 runs, 100 loops each)\n",
      "24.9 ms ± 357 µs per loop (mean ± std. dev. of 7 runs, 10 loops each)\n"
     ]
    }
   ],
   "source": [
    "'''\n",
    "def prime(N):\n",
    "    alll = np.array(range(0,N))\n",
    "    mask = [False,True]\n",
    "    \n",
    "    anyrem = []\n",
    "    \n",
    "    for i in range(1,N):\n",
    "        anyrem = []\n",
    "        for j in range(2,i-1):\n",
    "            print('i',i,'j',j)\n",
    "            if i%j != 0: anyrem.append(False)\n",
    "        \n",
    "        if np.any(anyrem) == True: mask.append(True)\n",
    "    return mask\n",
    "'''\n",
    "#100*100 multiplication tabel\n",
    "#primes = [2, 3, 5, 7, 11, 13, 17, 19, 23, 29, 31, 37, 41, 43, 47, 53, 59, 61, 67, 71, 73, 79, 83, 89, 97]\n",
    "allNum = np.arange(1,10000)\n",
    "\n",
    "def prime(N):\n",
    "    prime = []\n",
    "    ar = np.arange(1,101,1)\n",
    "    ar2 = np.arange(1,101,1)\n",
    "    tabel = ar * ar2.reshape(100,1)\n",
    "\n",
    "    tabel = tabel[1:,1:]\n",
    "\n",
    "    for i in range(N):\n",
    "        mask = (tabel == i)\n",
    "        if mask.any() == False:\n",
    "            prime.append(i)\n",
    "    return prime\n",
    "\n",
    "print(prime(100))\n",
    "\n",
    "%timeit (prime(100))\n",
    "\n",
    "%timeit (prime(200))\n",
    "\n",
    "%timeit (prime(300))\n",
    "\n",
    "%timeit (prime(400))\n",
    "\n",
    "#it scales linearly with N\n",
    "\n",
    "#i believe I accidently already used an the sieve of Eratosthenes or something very close to it in my first attempt at finding the prime numbers. I also have an exam to study for this next week and so I have no more time to give to this probelem. "
   ]
  },
  {
   "cell_type": "markdown",
   "metadata": {},
   "source": [
    "**N.B. the following exercises are meant to be solved only if you are familiar with the numpy random library. If not you can skip them (postponed for one of the next exercise sessions)**\n"
   ]
  },
  {
   "cell_type": "markdown",
   "metadata": {},
   "source": [
    "8\\. Diffusion using random walk\n",
    "\n",
    "Consider a simple random walk process: at each step in time, a walker jumps right or left (+1 or -1) with equal probability. The goal is to find the typical distance from the origin of a random walker after a given amount of time. \n",
    "To do that, let's simulate many walkers and create a 2D array with each walker as a raw and the actual time evolution as columns\n",
    "\n",
    "  * Take 1000 walkers and let them walk for 200 steps\n",
    "  * Use randint to create a 2D array of size walkers x steps with values -1 or 1\n",
    "  * Build the actual walking distances for each walker (i.e. another 2D array \"summing on each raw\")\n",
    "  * Take the square of that 2D array (elementwise)\n",
    "  * Compute the mean of the squared distances at each step (i.e. the mean along the columns)\n",
    "  * Plot the average distances (sqrt(distance\\*\\*2)) as a function of time (step)\n",
    "  \n",
    "Did you get what you expected?"
   ]
  },
  {
   "cell_type": "markdown",
   "metadata": {},
   "source": [
    "9\\. Analyze a data file \n",
    "  * Download the population of hares, lynxes and carrots at the beginning of the last century.\n",
    "    ```python\n",
    "    ! wget https://www.dropbox.com/s/3vigxoqayo389uc/populations.txt\n",
    "    ```\n",
    "\n",
    "  * Check the content by looking within the file\n",
    "  * Load the data (use an appropriate numpy method) into a 2D array\n",
    "  * Create arrays out of the columns, the arrays being (in order): *year*, *hares*, *lynxes*, *carrots* \n",
    "  * Plot the 3 populations over the years\n",
    "  * Compute the main statistical properties of the dataset (mean, std, correlations, etc.)\n",
    "  * Which species has the highest population each year?\n",
    "\n",
    "Do you feel there is some evident correlation here? [Studies](https://www.enr.gov.nt.ca/en/services/lynx/lynx-snowshoe-hare-cycle) tend to believe so."
   ]
  },
  {
   "cell_type": "code",
   "execution_count": null,
   "metadata": {},
   "outputs": [],
   "source": []
  }
 ],
 "metadata": {
  "kernelspec": {
   "display_name": "Python 3",
   "language": "python",
   "name": "python3"
  },
  "language_info": {
   "codemirror_mode": {
    "name": "ipython",
    "version": 3
   },
   "file_extension": ".py",
   "mimetype": "text/x-python",
   "name": "python",
   "nbconvert_exporter": "python",
   "pygments_lexer": "ipython3",
   "version": "3.8.8"
  }
 },
 "nbformat": 4,
 "nbformat_minor": 2
}
