{
 "cells": [
  {
   "cell_type": "markdown",
   "metadata": {},
   "source": [
    "### Numpy basics"
   ]
  },
  {
   "cell_type": "markdown",
   "metadata": {},
   "source": [
    "1\\. Find the row, column and overall means for the following matrix:\n",
    "\n",
    "```python\n",
    "m = np.arange(12).reshape((3,4))\n",
    "```"
   ]
  },
  {
   "cell_type": "code",
   "execution_count": 68,
   "metadata": {},
   "outputs": [
    {
     "name": "stdout",
     "output_type": "stream",
     "text": [
      "[[ 0  1  2  3]\n",
      " [ 4  5  6  7]\n",
      " [ 8  9 10 11]]\n",
      "3\n",
      "the 0 row is: [0 1 2 3]\n",
      "the column 0 is [0 4 8]\n",
      "the 1 row is: [4 5 6 7]\n",
      "the column 1 is [1 5 9]\n",
      "the 2 row is: [ 8  9 10 11]\n",
      "the column 2 is [ 2  6 10]\n",
      "5.5\n"
     ]
    }
   ],
   "source": [
    "import numpy as np\n",
    "\n",
    "m = np.arange(12).reshape((3,4))\n",
    "print(m)\n",
    "print(len(m))\n",
    "for i in range(len(m)):\n",
    "    print('the',i,'row is:',m[i])\n",
    "    print('the column',i, 'is',m[:,i])\n",
    "\n",
    "print(m.mean())"
   ]
  },
  {
   "cell_type": "markdown",
   "metadata": {},
   "source": [
    "2\\. Find the outer product of the following two vecotrs\n",
    "\n",
    "```python\n",
    "u = np.array([1,3,5,7])\n",
    "v = np.array([2,4,6,8])\n",
    "```\n",
    "\n",
    "Do this in the following ways:\n",
    "\n",
    "   * Using the function outer in numpy\n",
    "   * Using a nested for loop or list comprehension\n",
    "   * Using numpy broadcasting operatoins\n"
   ]
  },
  {
   "cell_type": "code",
   "execution_count": 69,
   "metadata": {},
   "outputs": [
    {
     "name": "stdout",
     "output_type": "stream",
     "text": [
      "[1 3 5 7] [2 4 6 8]\n",
      "using the outer prodoct \n",
      " [[ 2  4  6  8]\n",
      " [ 6 12 18 24]\n",
      " [10 20 30 40]\n",
      " [14 28 42 56]] \n",
      "\n",
      "usig list comprehension \n",
      " [[ 2  4  6  8]\n",
      " [ 6 12 18 24]\n",
      " [10 20 30 40]\n",
      " [14 28 42 56]] \n",
      "\n",
      "using broadcast operations \n",
      " [[ 2  4  6  8]\n",
      " [ 6 12 18 24]\n",
      " [10 20 30 40]\n",
      " [14 28 42 56]] \n",
      "\n"
     ]
    }
   ],
   "source": [
    "u = np.array([1,3,5,7])\n",
    "v = np.array([2,4,6,8])\n",
    "print(u,v)\n",
    "p=np.outer(u,v)\n",
    "print('using the outer prodoct','\\n',p,'\\n')\n",
    "\n",
    "h=[u[i]*v for i in range(len(u))]\n",
    "print('usig list comprehension','\\n',np.array(h),'\\n')\n",
    "\n",
    "print('using broadcast operations','\\n',u[:,np.newaxis]*v,'\\n')"
   ]
  },
  {
   "cell_type": "markdown",
   "metadata": {},
   "source": [
    "3\\. Create a 10 by 6 matrix of random uniform numbers. Set all rows with any entry less than 0.1 to be zero\n",
    "\n",
    "Hint: Use the following numpy functions - np.random.random, np.any as well as Boolean indexing and the axis argument."
   ]
  },
  {
   "cell_type": "code",
   "execution_count": 78,
   "metadata": {},
   "outputs": [
    {
     "name": "stdout",
     "output_type": "stream",
     "text": [
      "original \n",
      " [[0.19538957 0.01546663 0.50364026 0.59997826 0.3088138  0.09873925]\n",
      " [0.424107   0.83466168 0.95732102 0.94547234 0.32583074 0.85238142]\n",
      " [0.71221953 0.10945037 0.12991516 0.05704    0.38665667 0.22680461]\n",
      " [0.30114088 0.85357952 0.46139058 0.61191635 0.54237332 0.95412777]\n",
      " [0.41169544 0.61638595 0.68613518 0.77889721 0.54778311 0.82743422]\n",
      " [0.21999862 0.02343294 0.71443021 0.15095738 0.84882891 0.11079221]\n",
      " [0.07489484 0.48427339 0.24629431 0.77335779 0.25169357 0.43843236]\n",
      " [0.46466107 0.05977993 0.57895222 0.65752035 0.46389787 0.69921768]\n",
      " [0.31221189 0.06679748 0.95162379 0.24518821 0.93723032 0.80518754]\n",
      " [0.622394   0.99869171 0.190491   0.93524715 0.71071691 0.59888015]] \n",
      "\n",
      "new one \n",
      " [[0.         0.         0.         0.         0.         0.        ]\n",
      " [0.424107   0.83466168 0.95732102 0.94547234 0.32583074 0.85238142]\n",
      " [0.         0.         0.         0.         0.         0.        ]\n",
      " [0.30114088 0.85357952 0.46139058 0.61191635 0.54237332 0.95412777]\n",
      " [0.41169544 0.61638595 0.68613518 0.77889721 0.54778311 0.82743422]\n",
      " [0.         0.         0.         0.         0.         0.        ]\n",
      " [0.         0.         0.         0.         0.         0.        ]\n",
      " [0.         0.         0.         0.         0.         0.        ]\n",
      " [0.         0.         0.         0.         0.         0.        ]\n",
      " [0.622394   0.99869171 0.190491   0.93524715 0.71071691 0.59888015]] \n",
      "\n"
     ]
    }
   ],
   "source": [
    "import numpy.random as npr\n",
    "m=npr.rand(10,6)\n",
    "\n",
    "print('original','\\n',m,'\\n')\n",
    "\n",
    "mask=(m<0.1)\n",
    "\n",
    "\n",
    "m[(m<0.1).any(axis=1),:]=0\n",
    "print('new one','\\n',m,'\\n')"
   ]
  },
  {
   "cell_type": "markdown",
   "metadata": {},
   "source": [
    "4\\. Use np.linspace to create an array of 100 numbers between 0 and 2π (includsive).\n",
    "\n",
    "  * Extract every 10th element using slice notation\n",
    "  * Reverse the array using slice notation\n",
    "  * Extract elements where the absolute difference between the sine and cosine functions evaluated at that element is less than 0.1\n",
    "  * Make a plot showing the sin and cos functions and indicate where they are close"
   ]
  },
  {
   "cell_type": "code",
   "execution_count": 81,
   "metadata": {},
   "outputs": [
    {
     "name": "stdout",
     "output_type": "stream",
     "text": [
      "Extracting every 10th element \n",
      " [0.         0.63466518 1.26933037 1.90399555 2.53866073 3.17332591\n",
      " 3.8079911  4.44265628 5.07732146 5.71198664] \n",
      "\n",
      "reverse \n",
      " [6.28318531 6.21971879 6.15625227 6.09278575 6.02931923 5.96585272\n",
      " 5.9023862  5.83891968 5.77545316 5.71198664 5.64852012 5.58505361\n",
      " 5.52158709 5.45812057 5.39465405 5.33118753 5.26772102 5.2042545\n",
      " 5.14078798 5.07732146 5.01385494 4.95038842 4.88692191 4.82345539\n",
      " 4.75998887 4.69652235 4.63305583 4.56958931 4.5061228  4.44265628\n",
      " 4.37918976 4.31572324 4.25225672 4.1887902  4.12532369 4.06185717\n",
      " 3.99839065 3.93492413 3.87145761 3.8079911  3.74452458 3.68105806\n",
      " 3.61759154 3.55412502 3.4906585  3.42719199 3.36372547 3.30025895\n",
      " 3.23679243 3.17332591 3.10985939 3.04639288 2.98292636 2.91945984\n",
      " 2.85599332 2.7925268  2.72906028 2.66559377 2.60212725 2.53866073\n",
      " 2.47519421 2.41172769 2.34826118 2.28479466 2.22132814 2.15786162\n",
      " 2.0943951  2.03092858 1.96746207 1.90399555 1.84052903 1.77706251\n",
      " 1.71359599 1.65012947 1.58666296 1.52319644 1.45972992 1.3962634\n",
      " 1.33279688 1.26933037 1.20586385 1.14239733 1.07893081 1.01546429\n",
      " 0.95199777 0.88853126 0.82506474 0.76159822 0.6981317  0.63466518\n",
      " 0.57119866 0.50773215 0.44426563 0.38079911 0.31733259 0.25386607\n",
      " 0.19039955 0.12693304 0.06346652 0.        ] \n",
      "\n",
      "elements where the absolute difference between the sine and cosine functions evaluated at that element is less than 0.1 \n",
      " [0.76159822 0.82506474 3.87145761 3.93492413] \n",
      "\n"
     ]
    },
    {
     "data": {
      "text/plain": [
       "<matplotlib.legend.Legend at 0x1aed35a6670>"
      ]
     },
     "execution_count": 81,
     "metadata": {},
     "output_type": "execute_result"
    },
    {
     "data": {
      "image/png": "[encoded data removed]",
      "text/plain": [
       "<Figure size 432x288 with 1 Axes>"
      ]
     },
     "metadata": {
      "needs_background": "light"
     },
     "output_type": "display_data"
    }
   ],
   "source": [
    "from math import pi\n",
    "x=np.linspace(0, 2*pi,100)\n",
    "\n",
    "#Extract every 10th element using slice notation\n",
    "print('Extracting every 10th element','\\n',x[::10],'\\n')\n",
    "\n",
    "#Reverse the array using slice notation\n",
    "print('reverse','\\n',x[::-1],'\\n')\n",
    "\n",
    "#Extract elements where the absolute difference between the sine and cosine functions evaluated at that element is less than 0.1\n",
    "mask=(abs(np.sin(x)-np.cos(x))<0.1)\n",
    "g=x[mask]\n",
    "print('elements where the absolute difference between the sine and cosine functions evaluated at that element is less than 0.1','\\n',g,'\\n')\n",
    "#Make a plot showing the sin and cos functions and indicate where they are close\n",
    "\n",
    "import matplotlib.pyplot as plt\n",
    "\n",
    "y=np.sin(x)\n",
    "z=np.cos(x)\n",
    "\n",
    "plt.plot(g,np.cos(g),ls='',marker='o',label='closer cosine')\n",
    "plt.plot(g,np.sin(g),ls='',marker='o',label='closer sine')\n",
    "plt.plot(x,y,color='red',label='sin')\n",
    "plt.plot(x,z,color='green',label='cos')\n",
    "plt.legend()"
   ]
  },
  {
   "cell_type": "markdown",
   "metadata": {},
   "source": [
    "5\\. Create a matrix that shows the 10 by 10 multiplication table.\n",
    "\n",
    " * Find the trace of the matrix\n",
    " * Extract the anto-diagonal (this should be ```array([10, 18, 24, 28, 30, 30, 28, 24, 18, 10])```)\n",
    " * Extract the diagnoal offset by 1 upwards (this should be ```array([ 2,  6, 12, 20, 30, 42, 56, 72, 90])```)"
   ]
  },
  {
   "cell_type": "code",
   "execution_count": 83,
   "metadata": {},
   "outputs": [
    {
     "name": "stdout",
     "output_type": "stream",
     "text": [
      "[[  1   2   3   4   5   6   7   8   9  10]\n",
      " [  2   4   6   8  10  12  14  16  18  20]\n",
      " [  3   6   9  12  15  18  21  24  27  30]\n",
      " [  4   8  12  16  20  24  28  32  36  40]\n",
      " [  5  10  15  20  25  30  35  40  45  50]\n",
      " [  6  12  18  24  30  36  42  48  54  60]\n",
      " [  7  14  21  28  35  42  49  56  63  70]\n",
      " [  8  16  24  32  40  48  56  64  72  80]\n",
      " [  9  18  27  36  45  54  63  72  81  90]\n",
      " [ 10  20  30  40  50  60  70  80  90 100]]\n",
      "the trace is: 385\n",
      "the anti-diagonal is: [10, 18, 24, 28, 30, 30, 28, 24, 18, 10]\n",
      "diagnoal offset by 1 upwards [2, 6, 12, 20, 30, 42, 56, 72, 90]\n"
     ]
    }
   ],
   "source": [
    "import numpy as np\n",
    "u=np.array([[i*j for j in range(1,11)] for i in range(1,11)])\n",
    "print(u)\n",
    "\n",
    "#Find the trace of the matrix\n",
    "trace=np.matrix.trace(u)\n",
    "diag=[u[i][i] for i in range(len(u))]\n",
    "print('the trace is:',sum(diag))\n",
    "\n",
    "#Extract the anto-diagonal\n",
    "u1=u[:,::-1]\n",
    "diag=[u1[i][i] for i in range(len(u))]\n",
    "print('the anti-diagonal is:',diag)\n",
    "#Extract the diagnoal offset by 1 upwards\n",
    "d1=[u[i+1][i] for i in range(len(u)-1)]\n",
    "print('diagnoal offset by 1 upwards',d1)"
   ]
  },
  {
   "cell_type": "markdown",
   "metadata": {},
   "source": [
    "6\\. Use broadcasting to create a grid of distances\n",
    "\n",
    "Route 66 crosses the following cities in the US: Chicago, Springfield, Saint-Louis, Tulsa, Oklahoma City, Amarillo, Santa Fe, Albuquerque, Flagstaff, Los Angeles\n",
    "The corresponding positions in miles are: 0, 198, 303, 736, 871, 1175, 1475, 1544, 1913, 2448\n",
    "\n",
    "  * Construct a 2D grid of distances among each city along Route 66\n",
    "  * Convert that in km (those savages...)"
   ]
  },
  {
   "cell_type": "code",
   "execution_count": 84,
   "metadata": {},
   "outputs": [
    {
     "name": "stdout",
     "output_type": "stream",
     "text": [
      "[['' 'Chic.' 'Spr.' 'S-L' 'Tul.' 'Okl.' 'Amar.' 'SF' 'Alb.' 'Flag.' 'LA']\n",
      " ['Chic.' '0' '198' '303' '736' '871' '1175' '1475' '1544' '1913' '2448']\n",
      " ['Spr.' '198' '0' '105' '538' '673' '977' '1277' '1346' '1715' '2250']\n",
      " ['S-L' '303' '105' '0' '433' '568' '872' '1172' '1241' '1610' '2145']\n",
      " ['Tul.' '736' '538' '433' '0' '135' '439' '739' '808' '1177' '1712']\n",
      " ['Okl.' '871' '673' '568' '135' '0' '304' '604' '673' '1042' '1577']\n",
      " ['Amar.' '1175' '977' '872' '439' '304' '0' '300' '369' '738' '1273']\n",
      " ['SF' '1475' '1277' '1172' '739' '604' '300' '0' '69' '438' '973']\n",
      " ['Alb.' '1544' '1346' '1241' '808' '673' '369' '69' '0' '369' '904']\n",
      " ['Flag.' '1913' '1715' '1610' '1177' '1042' '738' '438' '369' '0' '535']\n",
      " ['LA' '2448' '2250' '2145' '1712' '1577' '1273' '973' '904' '535' '0']]\n",
      "[['' 'Chic.' 'Spr.' 'S-L' 'Tul.' 'Okl.' 'Amar.' 'SF' 'Alb.' 'Flag.' 'LA']\n",
      " ['Chic.' '0.0' '316.8' '484.8' '1177.6' '1393.6' '1880.0' '2360.0'\n",
      "  '2470.4' '3060.8' '3916.8']\n",
      " ['Spr.' '316.8' '0.0' '168.0' '860.8' '1076.8' '1563.2' '2043.2'\n",
      "  '2153.6' '2744.0' '3600.0']\n",
      " ['S-L' '484.8' '168.0' '0.0' '692.8' '908.8' '1395.2' '1875.2' '1985.6'\n",
      "  '2576.0' '3432.0']\n",
      " ['Tul.' '1177.6' '860.8' '692.8' '0.0' '216.0' '702.4' '1182.4' '1292.8'\n",
      "  '1883.2' '2739.2']\n",
      " ['Okl.' '1393.6' '1076.8' '908.8' '216.0' '0.0' '486.4' '966.4' '1076.8'\n",
      "  '1667.2' '2523.2']\n",
      " ['Amar.' '1880.0' '1563.2' '1395.2' '702.4' '486.4' '0.0' '480.0'\n",
      "  '590.4' '1180.8' '2036.8']\n",
      " ['SF' '2360.0' '2043.2' '1875.2' '1182.4' '966.4' '480.0' '0.0' '110.4'\n",
      "  '700.8' '1556.8']\n",
      " ['Alb.' '2470.4' '2153.6' '1985.6' '1292.8' '1076.8' '590.4' '110.4'\n",
      "  '0.0' '590.4' '1446.4']\n",
      " ['Flag.' '3060.8' '2744.0' '2576.0' '1883.2' '1667.2' '1180.8' '700.8'\n",
      "  '590.4' '0.0' '856.0']\n",
      " ['LA' '3916.8' '3600.0' '3432.0' '2739.2' '2523.2' '2036.8' '1556.8'\n",
      "  '1446.4' '856.0' '0.0']]\n"
     ]
    }
   ],
   "source": [
    "miles=np.array([0, 198, 303, 736, 871, 1175, 1475, 1544, 1913, 2448])\n",
    "cities=np.array(['','Chic.', 'Spr.', 'S-L', 'Tul.', 'Okl.', 'Amar.', 'SF', 'Alb.', 'Flag.', 'LA'])\n",
    "dist=np.tile(miles,(10,1)).T\n",
    "miles_grid=abs(dist-miles)\n",
    "#miles grid\n",
    "c2=np.hstack((np.atleast_2d(cities[1:]).T,miles_grid))\n",
    "c1=np.vstack((cities,c2))\n",
    "print(c1)\n",
    "#km grid\n",
    "km_grid=np.round(miles_grid*1.6,2)\n",
    "c2=np.hstack((np.atleast_2d(cities[1:]).T,km_grid))\n",
    "c1=np.vstack((cities,c2))\n",
    "print(c1)"
   ]
  },
  {
   "cell_type": "markdown",
   "metadata": {},
   "source": [
    "7\\. Prime numbers sieve: compute the prime numbers in the 0-N (N=99 to start with) range with a sieve (mask).\n",
    "  * Constract a shape (100,) boolean array, the mask\n",
    "  * Identify the multiples of each number starting from 2 and set accordingly the corresponding mask element\n",
    "  * Apply the mask to obtain an array of ordered prime numbers\n",
    "  * Check the performances (timeit); how does it scale with N?\n",
    "  * Implement the optimization suggested in the [sieve of Eratosthenes](https://en.wikipedia.org/wiki/Sieve_of_Eratosthenes)"
   ]
  },
  {
   "cell_type": "code",
   "execution_count": 74,
   "metadata": {},
   "outputs": [
    {
     "name": "stdout",
     "output_type": "stream",
     "text": [
      "prime numbers between 0 and 100 [ 0  1  2  3  5  7 11 13 17 19 23 29 31 37 41 43 47 53 59 61 67 71 73 79\n",
      " 83 89 97]\n",
      "using the normal algorithm for N=1000:\n",
      "1.01 ms ± 17.8 µs per loop (mean ± std. dev. of 7 runs, 1000 loops each)\n",
      "using the sieve of Eratosthhenes for N=1000:\n",
      "284 µs ± 6.19 µs per loop (mean ± std. dev. of 7 runs, 1000 loops each)\n"
     ]
    },
    {
     "data": {
      "text/plain": [
       "<matplotlib.legend.Legend at 0x1aed1890c40>"
      ]
     },
     "execution_count": 74,
     "metadata": {},
     "output_type": "execute_result"
    },
    {
     "data": {
      "image/png": "[encoded data removed]",
      "text/plain": [
       "<Figure size 432x288 with 1 Axes>"
      ]
     },
     "metadata": {
      "needs_background": "light"
     },
     "output_type": "display_data"
    }
   ],
   "source": [
    "import numpy as np\n",
    "import matplotlib.pyplot as plt\n",
    "import time\n",
    "def prime_numbers(N):\n",
    "    a=np.array(range(N+1))\n",
    "    mask=np.full(a.size,True)\n",
    "    for i in range(2,int(N/2)):\n",
    "        n=2\n",
    "        while i*n<=N:\n",
    "            mask[i*n]=False\n",
    "            n+=1\n",
    "    return a[mask]\n",
    "f=prime_numbers(100)\n",
    "print('prime numbers between 0 and 100',f)\n",
    "def prime_optimazed(N):\n",
    "    a=np.array(range(N+1))\n",
    "    prime_matrix=np.full(a.size,True)\n",
    "    prime_matrix[0]=False\n",
    "    prime_matrix[1]=False\n",
    "    for i in range(2,int(np.sqrt(N))+1):\n",
    "        for j in range(i**2,N+1,i):\n",
    "            prime_matrix[j]=False\n",
    "    return a[prime_matrix]\n",
    "\n",
    "print('using the normal algorithm for N=1000:')  \n",
    "%timeit prime_numbers(1000)\n",
    "\n",
    "dt=[]\n",
    "dt1=[]\n",
    "for i in [100,1000,10000,100000,1000000]:\n",
    "    #i=i+100\n",
    "    t0=time.time_ns()/(10**9)\n",
    "    prime_numbers(i)\n",
    "    t1=time.time_ns()/(10**9)\n",
    "    dt.append(t1-t0)    \n",
    "    \n",
    "plt.plot([100,1000,10000,100000,1000000],dt,label='normal alg.')\n",
    "\n",
    "for i in [100,1000,10000,100000,1000000]:\n",
    "    t0=float(time.time_ns()/(10**9))\n",
    "    #i=i+100\n",
    "    prime_optimazed(i)\n",
    "    t1=float(time.time_ns()/(10**9))\n",
    "    dt1.append(t1-t0)\n",
    "print('using the sieve of Eratosthhenes for N=1000:') \n",
    "%timeit prime_optimazed(1000)\n",
    "plt.plot([100,1000,10000,100000,1000000],dt1,label='sieve of Eratosthhenes')\n",
    "plt.xscale('log')\n",
    "plt.legend()\n"
   ]
  },
  {
   "cell_type": "markdown",
   "metadata": {},
   "source": [
    "**N.B. the following exercises are meant to be solved only if you are familiar with the numpy random library. If not you can skip them (postponed for one of the next exercise sessions)**\n"
   ]
  },
  {
   "cell_type": "markdown",
   "metadata": {},
   "source": [
    "8\\. Diffusion using random walk\n",
    "\n",
    "Consider a simple random walk process: at each step in time, a walker jumps right or left (+1 or -1) with equal probability. The goal is to find the typical distance from the origin of a random walker after a given amount of time. \n",
    "To do that, let's simulate many walkers and create a 2D array with each walker as a raw and the actual time evolution as columns\n",
    "\n",
    "  * Take 1000 walkers and let them walk for 200 steps\n",
    "  * Use randint to create a 2D array of size walkers x steps with values -1 or 1\n",
    "  * Build the actual walking distances for each walker (i.e. another 2D array \"summing on each raw\")\n",
    "  * Take the square of that 2D array (elementwise)\n",
    "  * Compute the mean of the squared distances at each step (i.e. the mean along the columns)\n",
    "  * Plot the average distances (sqrt(distance\\*\\*2)) as a function of time (step)\n",
    "  \n",
    "Did you get what you expected?"
   ]
  },
  {
   "cell_type": "code",
   "execution_count": 75,
   "metadata": {},
   "outputs": [
    {
     "data": {
      "text/plain": [
       "[<matplotlib.lines.Line2D at 0x1aed2e68100>]"
      ]
     },
     "execution_count": 75,
     "metadata": {},
     "output_type": "execute_result"
    },
    {
     "data": {
      "image/png": "[encoded data removed]",
      "text/plain": [
       "<Figure size 432x288 with 1 Axes>"
      ]
     },
     "metadata": {
      "needs_background": "light"
     },
     "output_type": "display_data"
    }
   ],
   "source": [
    "import numpy.random as npr\n",
    "npr.seed(123)\n",
    "import matplotlib.pyplot as plt\n",
    "walkers=1000\n",
    "steps=200\n",
    "a=npr.randint(2,size=(walkers,steps))*2-1\n",
    "pos=np.square(np.cumsum(a,axis=1))\n",
    "mean=np.sqrt(np.mean(pos,axis=0))\n",
    "\n",
    "plt.plot(np.arange(mean.size)+1,mean)"
   ]
  },
  {
   "cell_type": "markdown",
   "metadata": {},
   "source": [
    "9\\. Analyze a data file \n",
    "  * Download the population of hares, lynxes and carrots at the beginning of the last century.\n",
    "    ```python\n",
    "    ! wget https://www.dropbox.com/s/3vigxoqayo389uc/populations.txt\n",
    "    ```\n",
    "\n",
    "  * Check the content by looking within the file\n",
    "  * Load the data (use an appropriate numpy method) into a 2D array\n",
    "  * Create arrays out of the columns, the arrays being (in order): *year*, *hares*, *lynxes*, *carrots* \n",
    "  * Plot the 3 populations over the years\n",
    "  * Compute the main statistical properties of the dataset (mean, std, correlations, etc.)\n",
    "  * Which species has the highest population each year?\n",
    "\n",
    "Do you feel there is some evident correlation here? [Studies](https://www.enr.gov.nt.ca/en/services/lynx/lynx-snowshoe-hare-cycle) tend to believe so."
   ]
  },
  {
   "cell_type": "code",
   "execution_count": 76,
   "metadata": {},
   "outputs": [
    {
     "name": "stdout",
     "output_type": "stream",
     "text": [
      "the mean for hares, lynxes and carrots are,respectively: \n",
      " [34080.95238095 20166.66666667 42400.        ] \n",
      " the std for hares, lynxes and carrots are,respectively: \n",
      " [20897.90645809 16254.59153691  3322.50622558] \n",
      " the correlation for hares, lynxes and carrots are,respectively: \n",
      " [[ 1.          0.07189206 -0.01660378]\n",
      " [ 0.07189206  1.         -0.68057717]\n",
      " [-0.01660378 -0.68057717  1.        ]] \n",
      "\n",
      "[['1900.0' 'carrots']\n",
      " ['1901.0' 'carrots']\n",
      " ['1902.0' 'hares']\n",
      " ['1903.0' 'hares']\n",
      " ['1904.0' 'lynxes']\n",
      " ['1905.0' 'lynxes']\n",
      " ['1906.0' 'carrots']\n",
      " ['1907.0' 'carrots']\n",
      " ['1908.0' 'carrots']\n",
      " ['1909.0' 'carrots']\n",
      " ['1910.0' 'carrots']\n",
      " ['1911.0' 'carrots']\n",
      " ['1912.0' 'hares']\n",
      " ['1913.0' 'hares']\n",
      " ['1914.0' 'hares']\n",
      " ['1915.0' 'lynxes']\n",
      " ['1916.0' 'carrots']\n",
      " ['1917.0' 'carrots']\n",
      " ['1918.0' 'carrots']\n",
      " ['1919.0' 'carrots']\n",
      " ['1920.0' 'carrots']]\n"
     ]
    },
    {
     "data": {
      "image/png": "[encoded data removed]",
      "text/plain": [
       "<Figure size 432x288 with 1 Axes>"
      ]
     },
     "metadata": {
      "needs_background": "light"
     },
     "output_type": "display_data"
    }
   ],
   "source": [
    "years,hares,lynxes,carrots=np.loadtxt(\"populations.txt\",skiprows=1, unpack=True)\n",
    "#plot of the three labels \n",
    "plt.plot(years,hares,label='hares')\n",
    "plt.plot(years,lynxes,label='lynxes')\n",
    "plt.plot(years,carrots,label='carrots')\n",
    "plt.legend()\n",
    "#statistical properties\n",
    "mean=np.array([hares.mean(),lynxes.mean(),carrots.mean()])\n",
    "std=np.array([hares.std(),lynxes.std(),carrots.std()])\n",
    "corr=np.corrcoef(np.array([hares,lynxes,carrots]))\n",
    "print('the mean for hares, lynxes and carrots are,respectively:','\\n',mean,'\\n','the std for hares, lynxes and carrots are,respectively:','\\n',std,'\\n','the correlation for hares, lynxes and carrots are,respectively:','\\n',corr,'\\n')\n",
    "#max for each year\n",
    "max=np.argmax(np.column_stack((hares,lynxes,carrots)),axis=1)\n",
    "labels = np.array([\"year\", \"hares\", \"lynxes\", \"carrots\"])\n",
    "print(np.column_stack((years,labels[max+1])))"
   ]
  },
  {
   "cell_type": "code",
   "execution_count": null,
   "metadata": {},
   "outputs": [],
   "source": []
  }
 ],
 "metadata": {
  "kernelspec": {
   "display_name": "Python 3 (ipykernel)",
   "language": "python",
   "name": "python3"
  },
  "language_info": {
   "codemirror_mode": {
    "name": "ipython",
    "version": 3
   },
   "file_extension": ".py",
   "mimetype": "text/x-python",
   "name": "python",
   "nbconvert_exporter": "python",
   "pygments_lexer": "ipython3",
   "version": "3.8.8"
  }
 },
 "nbformat": 4,
 "nbformat_minor": 2
}
