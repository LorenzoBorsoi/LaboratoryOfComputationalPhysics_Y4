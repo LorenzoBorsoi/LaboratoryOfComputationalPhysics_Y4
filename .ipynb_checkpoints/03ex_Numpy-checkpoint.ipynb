{
 "cells": [
  {
   "cell_type": "markdown",
   "metadata": {},
   "source": [
    "### Numpy basics"
   ]
  },
  {
   "cell_type": "markdown",
   "metadata": {},
   "source": [
    "1\\. Find the row, column and overall means for the following matrix:\n",
    "\n",
    "```python\n",
    "m = np.arange(12).reshape((3,4))\n",
    "```"
   ]
  },
  {
   "cell_type": "code",
   "execution_count": 1,
   "metadata": {},
   "outputs": [],
   "source": [
    "import numpy as np"
   ]
  },
  {
   "cell_type": "code",
   "execution_count": 2,
   "metadata": {},
   "outputs": [
    {
     "name": "stdout",
     "output_type": "stream",
     "text": [
      "[[ 0  1  2  3]\n",
      " [ 4  5  6  7]\n",
      " [ 8  9 10 11]]\n",
      "mean of the columns: [4. 5. 6. 7.]\n",
      "mean of the rows: [1.5 5.5 9.5]\n",
      "overall mean: 5.5\n"
     ]
    }
   ],
   "source": [
    "m = np.arange(12).reshape((3,4))\n",
    "print(m)\n",
    "print(\"mean of the columns:\", m.mean(axis=0))\n",
    "print(\"mean of the rows:\", m.mean(axis=1))\n",
    "print(\"overall mean:\", m.mean())"
   ]
  },
  {
   "cell_type": "markdown",
   "metadata": {},
   "source": [
    "2\\. Find the outer product of the following two vecotrs\n",
    "\n",
    "```python\n",
    "u = np.array([1,3,5,7])\n",
    "v = np.array([2,4,6,8])\n",
    "```\n",
    "\n",
    "Do this in the following ways:\n",
    "\n",
    "   * Using the function outer in numpy\n",
    "   * Using a nested for loop or list comprehension\n",
    "   * Using numpy broadcasting operatoins\n"
   ]
  },
  {
   "cell_type": "code",
   "execution_count": 3,
   "metadata": {},
   "outputs": [
    {
     "name": "stdout",
     "output_type": "stream",
     "text": [
      "[[ 2  4  6  8]\n",
      " [ 6 12 18 24]\n",
      " [10 20 30 40]\n",
      " [14 28 42 56]] \n",
      "\n",
      "[[ 2  4  6  8]\n",
      " [ 6 12 18 24]\n",
      " [10 20 30 40]\n",
      " [14 28 42 56]] \n",
      "\n",
      "[[ 2  4  6  8]\n",
      " [ 6 12 18 24]\n",
      " [10 20 30 40]\n",
      " [14 28 42 56]]\n"
     ]
    }
   ],
   "source": [
    "u = np.array([1,3,5,7])\n",
    "v = np.array([2,4,6,8])\n",
    "print(np.outer(u,v), \"\\n\") # with np.outer()\n",
    "mat = np.array([(i*j) for i in u for j in v]).reshape(4,4) \n",
    "print(mat, \"\\n\") # with list comprehension\n",
    "print(v * u.reshape(4,1)) # with broadcasting, transposing vector with reshape"
   ]
  },
  {
   "cell_type": "markdown",
   "metadata": {},
   "source": [
    "3\\. Create a 10 by 6 matrix of random uniform numbers. Set all rows with any entry less than 0.1 to be zero\n",
    "\n",
    "Hint: Use the following numpy functions - np.random.random, np.any as well as Boolean indexing and the axis argument."
   ]
  },
  {
   "cell_type": "code",
   "execution_count": 4,
   "metadata": {},
   "outputs": [
    {
     "name": "stdout",
     "output_type": "stream",
     "text": [
      "initial matrix:\n",
      "[[0.38633866 0.58492871 0.63947399 0.64063963 0.61233288 0.30112275]\n",
      " [0.86369288 0.21480945 0.53417817 0.76914956 0.06564089 0.28329006]\n",
      " [0.32225656 0.23995483 0.77917665 0.54405096 0.09136157 0.29123619]\n",
      " [0.41951015 0.39525265 0.96463375 0.21747467 0.26990186 0.47380644]\n",
      " [0.04984119 0.57619288 0.92602706 0.36065225 0.448478   0.98531318]\n",
      " [0.24775245 0.77569126 0.73221348 0.94615402 0.96540738 0.69385828]\n",
      " [0.50643091 0.34256253 0.79367099 0.82924943 0.51493327 0.21659126]\n",
      " [0.68742143 0.58127248 0.74103054 0.89898374 0.92198312 0.45471666]\n",
      " [0.69341328 0.42646619 0.86097644 0.48742027 0.28521856 0.76353887]\n",
      " [0.71814839 0.58078644 0.23320271 0.01285548 0.74668601 0.16107589]] \n",
      "\n",
      "final matrix:\n",
      "[[0.38633866 0.58492871 0.63947399 0.64063963 0.61233288 0.30112275]\n",
      " [0.         0.         0.         0.         0.         0.        ]\n",
      " [0.         0.         0.         0.         0.         0.        ]\n",
      " [0.41951015 0.39525265 0.96463375 0.21747467 0.26990186 0.47380644]\n",
      " [0.         0.         0.         0.         0.         0.        ]\n",
      " [0.24775245 0.77569126 0.73221348 0.94615402 0.96540738 0.69385828]\n",
      " [0.50643091 0.34256253 0.79367099 0.82924943 0.51493327 0.21659126]\n",
      " [0.68742143 0.58127248 0.74103054 0.89898374 0.92198312 0.45471666]\n",
      " [0.69341328 0.42646619 0.86097644 0.48742027 0.28521856 0.76353887]\n",
      " [0.         0.         0.         0.         0.         0.        ]]\n"
     ]
    }
   ],
   "source": [
    "import numpy.random as npr\n",
    "a = npr.rand(10,6)\n",
    "print(\"initial matrix:\")\n",
    "print(a, \"\\n\")\n",
    "mask = (a < 0.1).any(axis=1)\n",
    "a[mask] = 0\n",
    "print(\"final matrix:\")\n",
    "print(a)"
   ]
  },
  {
   "cell_type": "markdown",
   "metadata": {},
   "source": [
    "4\\. Use np.linspace to create an array of 100 numbers between 0 and 2π (includsive).\n",
    "\n",
    "  * Extract every 10th element using slice notation\n",
    "  * Reverse the array using slice notation\n",
    "  * Extract elements where the absolute difference between the sine and cosine functions evaluated at that element is less than 0.1\n",
    "  * Make a plot showing the sin and cos functions and indicate where they are close"
   ]
  },
  {
   "cell_type": "code",
   "execution_count": 5,
   "metadata": {},
   "outputs": [
    {
     "name": "stdout",
     "output_type": "stream",
     "text": [
      "[0.         0.06283185 0.12566371 0.18849556 0.25132741 0.31415927\n",
      " 0.37699112 0.43982297 0.50265482 0.56548668 0.62831853 0.69115038\n",
      " 0.75398224 0.81681409 0.87964594 0.9424778  1.00530965 1.0681415\n",
      " 1.13097336 1.19380521 1.25663706 1.31946891 1.38230077 1.44513262\n",
      " 1.50796447 1.57079633 1.63362818 1.69646003 1.75929189 1.82212374\n",
      " 1.88495559 1.94778745 2.0106193  2.07345115 2.136283   2.19911486\n",
      " 2.26194671 2.32477856 2.38761042 2.45044227 2.51327412 2.57610598\n",
      " 2.63893783 2.70176968 2.76460154 2.82743339 2.89026524 2.95309709\n",
      " 3.01592895 3.0787608  3.14159265 3.20442451 3.26725636 3.33008821\n",
      " 3.39292007 3.45575192 3.51858377 3.58141563 3.64424748 3.70707933\n",
      " 3.76991118 3.83274304 3.89557489 3.95840674 4.0212386  4.08407045\n",
      " 4.1469023  4.20973416 4.27256601 4.33539786 4.39822972 4.46106157\n",
      " 4.52389342 4.58672527 4.64955713 4.71238898 4.77522083 4.83805269\n",
      " 4.90088454 4.96371639 5.02654825 5.0893801  5.15221195 5.2150438\n",
      " 5.27787566 5.34070751 5.40353936 5.46637122 5.52920307 5.59203492\n",
      " 5.65486678 5.71769863 5.78053048 5.84336234 5.90619419 5.96902604\n",
      " 6.03185789 6.09468975 6.1575216  6.22035345 6.28318531] \n",
      "\n",
      "[0.         0.62831853 1.25663706 1.88495559 2.51327412 3.14159265\n",
      " 3.76991118 4.39822972 5.02654825 5.65486678 6.28318531] \n",
      "\n",
      "[6.28318531 6.22035345 6.1575216  6.09468975 6.03185789 5.96902604\n",
      " 5.90619419 5.84336234 5.78053048 5.71769863 5.65486678 5.59203492\n",
      " 5.52920307 5.46637122 5.40353936 5.34070751 5.27787566 5.2150438\n",
      " 5.15221195 5.0893801  5.02654825 4.96371639 4.90088454 4.83805269\n",
      " 4.77522083 4.71238898 4.64955713 4.58672527 4.52389342 4.46106157\n",
      " 4.39822972 4.33539786 4.27256601 4.20973416 4.1469023  4.08407045\n",
      " 4.0212386  3.95840674 3.89557489 3.83274304 3.76991118 3.70707933\n",
      " 3.64424748 3.58141563 3.51858377 3.45575192 3.39292007 3.33008821\n",
      " 3.26725636 3.20442451 3.14159265 3.0787608  3.01592895 2.95309709\n",
      " 2.89026524 2.82743339 2.76460154 2.70176968 2.63893783 2.57610598\n",
      " 2.51327412 2.45044227 2.38761042 2.32477856 2.26194671 2.19911486\n",
      " 2.136283   2.07345115 2.0106193  1.94778745 1.88495559 1.82212374\n",
      " 1.75929189 1.69646003 1.63362818 1.57079633 1.50796447 1.44513262\n",
      " 1.38230077 1.31946891 1.25663706 1.19380521 1.13097336 1.0681415\n",
      " 1.00530965 0.9424778  0.87964594 0.81681409 0.75398224 0.69115038\n",
      " 0.62831853 0.56548668 0.50265482 0.43982297 0.37699112 0.31415927\n",
      " 0.25132741 0.18849556 0.12566371 0.06283185 0.        ] \n",
      "\n",
      "[0.75398224 0.81681409 3.89557489 3.95840674]\n"
     ]
    }
   ],
   "source": [
    "from math import pi\n",
    "lattix = np.linspace(0, 2*pi, 101)\n",
    "print(lattix, \"\\n\")\n",
    "subset = lattix[::10]\n",
    "print(subset, \"\\n\")\n",
    "reverse = lattix[::-1]\n",
    "print(reverse, \"\\n\")\n",
    "extract = lattix[abs(np.sin(lattix)-np.cos(lattix)) <= 0.1]\n",
    "print(extract)"
   ]
  },
  {
   "cell_type": "code",
   "execution_count": 6,
   "metadata": {},
   "outputs": [
    {
     "data": {
      "image/png": "[encoded data removed]",
      "text/plain": [
       "<Figure size 432x288 with 1 Axes>"
      ]
     },
     "metadata": {
      "needs_background": "light"
     },
     "output_type": "display_data"
    }
   ],
   "source": [
    "import matplotlib.pyplot as plt\n",
    "plt.plot(lattix, abs(np.sin(lattix)-np.cos(lattix)), 'ro')\n",
    "plt.plot(extract, abs(np.sin(extract)-np.cos(extract)), 'bo')\n",
    "plt.ylabel('|sin(x)-cos(x)|')\n",
    "plt.show()"
   ]
  },
  {
   "cell_type": "markdown",
   "metadata": {},
   "source": [
    "5\\. Create a matrix that shows the 10 by 10 multiplication table.\n",
    "\n",
    " * Find the trace of the matrix\n",
    " * Extract the anto-diagonal (this should be ```array([10, 18, 24, 28, 30, 30, 28, 24, 18, 10])```)\n",
    " * Extract the diagnoal offset by 1 upwards (this should be ```array([ 2,  6, 12, 20, 30, 42, 56, 72, 90])```)"
   ]
  },
  {
   "cell_type": "code",
   "execution_count": 7,
   "metadata": {},
   "outputs": [
    {
     "name": "stdout",
     "output_type": "stream",
     "text": [
      "[[  1   2   3   4   5   6   7   8   9  10]\n",
      " [  2   4   6   8  10  12  14  16  18  20]\n",
      " [  3   6   9  12  15  18  21  24  27  30]\n",
      " [  4   8  12  16  20  24  28  32  36  40]\n",
      " [  5  10  15  20  25  30  35  40  45  50]\n",
      " [  6  12  18  24  30  36  42  48  54  60]\n",
      " [  7  14  21  28  35  42  49  56  63  70]\n",
      " [  8  16  24  32  40  48  56  64  72  80]\n",
      " [  9  18  27  36  45  54  63  72  81  90]\n",
      " [ 10  20  30  40  50  60  70  80  90 100]]\n",
      "trace: 385\n",
      "antidiagonal:  [10 18 24 28 30 30 28 24 18 10]\n",
      "upper diagonal:  [ 2  6 12 20 30 42 56 72 90]\n"
     ]
    }
   ],
   "source": [
    "prod_table = np.array([(i*j) for i in range(1,11) for j in range(1,11)]).reshape(10,10)\n",
    "print(prod_table)\n",
    "trace = sum(prod_table[i,i] for i in range(0,10))\n",
    "print(\"trace:\", trace)\n",
    "list1 = [i for i in range(10)] # lists used as index for np.arrays\n",
    "list2 = [9-i for i in range(10)]\n",
    "list3 = [i for i in range(9)]\n",
    "list4 = [i for i in range(1,10)]\n",
    "print(\"antidiagonal: \", prod_table[list1, list2])\n",
    "print(\"upper diagonal: \", prod_table[list3, list4])"
   ]
  },
  {
   "cell_type": "markdown",
   "metadata": {},
   "source": [
    "6\\. Use broadcasting to create a grid of distances\n",
    "\n",
    "Route 66 crosses the following cities in the US: Chicago, Springfield, Saint-Louis, Tulsa, Oklahoma City, Amarillo, Santa Fe, Albuquerque, Flagstaff, Los Angeles\n",
    "The corresponding positions in miles are: 0, 198, 303, 736, 871, 1175, 1475, 1544, 1913, 2448\n",
    "\n",
    "  * Construct a 2D grid of distances among each city along Route 66\n",
    "  * Convert that in km (those savages...)"
   ]
  },
  {
   "cell_type": "code",
   "execution_count": 8,
   "metadata": {},
   "outputs": [
    {
     "name": "stdout",
     "output_type": "stream",
     "text": [
      "[[   0  198  303  736  871 1175 1475 1544 1913 2448]\n",
      " [ 198    0  105  538  673  977 1277 1346 1715 2250]\n",
      " [ 303  105    0  433  568  872 1172 1241 1610 2145]\n",
      " [ 736  538  433    0  135  439  739  808 1177 1712]\n",
      " [ 871  673  568  135    0  304  604  673 1042 1577]\n",
      " [1175  977  872  439  304    0  300  369  738 1273]\n",
      " [1475 1277 1172  739  604  300    0   69  438  973]\n",
      " [1544 1346 1241  808  673  369   69    0  369  904]\n",
      " [1913 1715 1610 1177 1042  738  438  369    0  535]\n",
      " [2448 2250 2145 1712 1577 1273  973  904  535    0]] \n",
      "\n",
      "[[   0.    318.78  487.83 1184.96 1402.31 1891.75 2374.75 2485.84 3079.93\n",
      "  3941.28]\n",
      " [ 318.78    0.    169.05  866.18 1083.53 1572.97 2055.97 2167.06 2761.15\n",
      "  3622.5 ]\n",
      " [ 487.83  169.05    0.    697.13  914.48 1403.92 1886.92 1998.01 2592.1\n",
      "  3453.45]\n",
      " [1184.96  866.18  697.13    0.    217.35  706.79 1189.79 1300.88 1894.97\n",
      "  2756.32]\n",
      " [1402.31 1083.53  914.48  217.35    0.    489.44  972.44 1083.53 1677.62\n",
      "  2538.97]\n",
      " [1891.75 1572.97 1403.92  706.79  489.44    0.    483.    594.09 1188.18\n",
      "  2049.53]\n",
      " [2374.75 2055.97 1886.92 1189.79  972.44  483.      0.    111.09  705.18\n",
      "  1566.53]\n",
      " [2485.84 2167.06 1998.01 1300.88 1083.53  594.09  111.09    0.    594.09\n",
      "  1455.44]\n",
      " [3079.93 2761.15 2592.1  1894.97 1677.62 1188.18  705.18  594.09    0.\n",
      "   861.35]\n",
      " [3941.28 3622.5  3453.45 2756.32 2538.97 2049.53 1566.53 1455.44  861.35\n",
      "     0.  ]]\n"
     ]
    }
   ],
   "source": [
    "route66 = np.array([0, 198, 303, 736, 871, 1175, 1475, 1544, 1913, 2448])\n",
    "distances = np.array([(abs(i-j)) for i in route66 for j in route66]).reshape(10,10) \n",
    "print(distances, \"\\n\")\n",
    "print(distances*1.61) # in km, american idiot"
   ]
  },
  {
   "cell_type": "markdown",
   "metadata": {},
   "source": [
    "7\\. Prime numbers sieve: compute the prime numbers in the 0-N (N=99 to start with) range with a sieve (mask).\n",
    "  * Constract a shape (100,) boolean array, the mask\n",
    "  * Identify the multiples of each number starting from 2 and set accordingly the corresponding mask element\n",
    "  * Apply the mask to obtain an array of ordered prime numbers\n",
    "  * Check the performances (timeit); how does it scale with N?\n",
    "  * Implement the optimization suggested in the [sieve of Eratosthenes](https://en.wikipedia.org/wiki/Sieve_of_Eratosthenes)"
   ]
  },
  {
   "cell_type": "code",
   "execution_count": 9,
   "metadata": {},
   "outputs": [
    {
     "name": "stdout",
     "output_type": "stream",
     "text": [
      "80.6 ms ± 2.59 ms per loop (mean ± std. dev. of 7 runs, 10 loops each)\n",
      "7.86 s ± 34.1 ms per loop (mean ± std. dev. of 7 runs, 1 loop each)\n"
     ]
    }
   ],
   "source": [
    "def prime_numbers(N): # first algorithm for printing prime numbers\n",
    "    numbers = np.arange(N)\n",
    "    for i in range(0,N):\n",
    "        for j in range (2,int(i/2+0.5*(i%2))):\n",
    "            if numbers[i] % j == 0:\n",
    "                numbers[i] = 0\n",
    "    primes = numbers[numbers > 0]\n",
    "    return primes\n",
    "\n",
    "N = 10000\n",
    "%timeit prime_numbers(int(N/10))\n",
    "%timeit prime_numbers(N) # increasing N by a factor of 10 the time increase by a factor of 100"
   ]
  },
  {
   "cell_type": "code",
   "execution_count": 10,
   "metadata": {},
   "outputs": [
    {
     "name": "stdout",
     "output_type": "stream",
     "text": [
      "3.38 ms ± 15.5 µs per loop (mean ± std. dev. of 7 runs, 100 loops each)\n",
      "36.9 ms ± 1.17 ms per loop (mean ± std. dev. of 7 runs, 10 loops each)\n"
     ]
    }
   ],
   "source": [
    "def prime_mask(N): # implementation of Sieve of Eratosthenes\n",
    "    mask1 = [True for j in range(N)]\n",
    "    mask1[0] = False # 0 is not a prime number\n",
    "    mask1[1] = False # 1 is not a prime number\n",
    "    i = 2 # begin with number 2\n",
    "    while i<N:\n",
    "        k = 2\n",
    "        while i*k < N:\n",
    "            mask1[i*k] = False # sets all multiple of i to False\n",
    "            k += 1\n",
    "        if i < N-1:\n",
    "            i += 1\n",
    "            while mask1[i] == False and i < N-1: # push forward the i if is a multiple of other numbers\n",
    "                i += 1\n",
    "        else:\n",
    "            i += 1\n",
    "    return mask1\n",
    "\n",
    "numbers = np.arange(N)\n",
    "%timeit prime_mask(N)\n",
    "%timeit prime_mask(N*10) # increasing N by a factor of 10 the time increase by a factor of 10"
   ]
  },
  {
   "cell_type": "markdown",
   "metadata": {},
   "source": [
    "**N.B. the following exercises are meant to be solved only if you are familiar with the numpy random library. If not you can skip them (postponed for one of the next exercise sessions)**\n"
   ]
  },
  {
   "cell_type": "markdown",
   "metadata": {},
   "source": [
    "8\\. Diffusion using random walk\n",
    "\n",
    "Consider a simple random walk process: at each step in time, a walker jumps right or left (+1 or -1) with equal probability. The goal is to find the typical distance from the origin of a random walker after a given amount of time. \n",
    "To do that, let's simulate many walkers and create a 2D array with each walker as a raw and the actual time evolution as columns\n",
    "\n",
    "  * Take 1000 walkers and let them walk for 200 steps\n",
    "  * Use randint to create a 2D array of size walkers x steps with values -1 or 1\n",
    "  * Build the actual walking distances for each walker (i.e. another 2D array \"summing on each raw\")\n",
    "  * Take the square of that 2D array (elementwise)\n",
    "  * Compute the mean of the squared distances at each step (i.e. the mean along the columns)\n",
    "  * Plot the average distances (sqrt(distance\\*\\*2)) as a function of time (step)\n",
    "  \n",
    "Did you get what you expected?"
   ]
  },
  {
   "cell_type": "markdown",
   "metadata": {},
   "source": [
    "9\\. Analyze a data file \n",
    "  * Download the population of hares, lynxes and carrots at the beginning of the last century.\n",
    "    ```python\n",
    "    ! wget https://www.dropbox.com/s/3vigxoqayo389uc/populations.txt\n",
    "    ```\n",
    "\n",
    "  * Check the content by looking within the file\n",
    "  * Load the data (use an appropriate numpy method) into a 2D array\n",
    "  * Create arrays out of the columns, the arrays being (in order): *year*, *hares*, *lynxes*, *carrots* \n",
    "  * Plot the 3 populations over the years\n",
    "  * Compute the main statistical properties of the dataset (mean, std, correlations, etc.)\n",
    "  * Which species has the highest population each year?\n",
    "\n",
    "Do you feel there is some evident correlation here? [Studies](https://www.enr.gov.nt.ca/en/services/lynx/lynx-snowshoe-hare-cycle) tend to believe so."
   ]
  },
  {
   "cell_type": "code",
   "execution_count": null,
   "metadata": {},
   "outputs": [],
   "source": []
  }
 ],
 "metadata": {
  "kernelspec": {
   "display_name": "Python 3",
   "language": "python",
   "name": "python3"
  },
  "language_info": {
   "codemirror_mode": {
    "name": "ipython",
    "version": 3
   },
   "file_extension": ".py",
   "mimetype": "text/x-python",
   "name": "python",
   "nbconvert_exporter": "python",
   "pygments_lexer": "ipython3",
   "version": "3.8.8"
  }
 },
 "nbformat": 4,
 "nbformat_minor": 2
}
