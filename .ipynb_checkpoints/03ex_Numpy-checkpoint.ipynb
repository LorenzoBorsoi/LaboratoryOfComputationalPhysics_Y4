{
 "cells": [
  {
   "cell_type": "markdown",
   "metadata": {},
   "source": [
    "### Numpy basics"
   ]
  },
  {
   "cell_type": "markdown",
   "metadata": {},
   "source": [
    "1\\. Find the row, column and overall means for the following matrix:\n",
    "\n",
    "```python\n",
    "m = np.arange(12).reshape((3,4))\n",
    "```"
   ]
  },
  {
   "cell_type": "code",
   "execution_count": 1,
   "metadata": {},
   "outputs": [],
   "source": [
    "import numpy as np\n",
    "import math as m\n",
    "import matplotlib.pyplot as plt"
   ]
  },
  {
   "cell_type": "code",
   "execution_count": 2,
   "metadata": {},
   "outputs": [
    {
     "name": "stdout",
     "output_type": "stream",
     "text": [
      "[[ 0  1  2  3]\n",
      " [ 4  5  6  7]\n",
      " [ 8  9 10 11]]\n",
      "\n",
      "Row 0: [0 1 2 3]\n",
      "Mean: 1.5\n",
      "\n",
      "Row 1: [4 5 6 7]\n",
      "Mean: 5.5\n",
      "\n",
      "Row 2: [ 8  9 10 11]\n",
      "Mean: 9.5\n",
      "\n",
      "Column 0: [0 4 8]\n",
      "Mean: 4.0\n",
      "\n",
      "Column 1: [1 5 9]\n",
      "Mean: 5.0\n",
      "\n",
      "Column 2: [ 2  6 10]\n",
      "Mean: 6.0\n",
      "\n",
      "Column 3: [ 3  7 11]\n",
      "Mean: 7.0\n",
      "\n",
      "Mean of matrix: 5.5\n"
     ]
    }
   ],
   "source": [
    "m = np.arange(12).reshape((3,4))\n",
    "print(m)\n",
    "for i in range(len(m)):\n",
    "    print(\"\\nRow {}: {}\".format(i,m[i]))\n",
    "    print(\"Mean: {}\".format(np.mean(m[i])))\n",
    "for i in range(len(m[0])):\n",
    "    print(\"\\nColumn {}: {}\".format(i,m[:,i]))\n",
    "    print(\"Mean: {}\".format(np.mean(m[:,i])))\n",
    "\n",
    "print(\"\\nMean of matrix: {}\".format(np.mean(m)))"
   ]
  },
  {
   "cell_type": "markdown",
   "metadata": {},
   "source": [
    "2\\. Find the outer product of the following two vecotrs\n",
    "\n",
    "```python\n",
    "u = np.array([1,3,5,7])\n",
    "v = np.array([2,4,6,8])\n",
    "```\n",
    "\n",
    "Do this in the following ways:\n",
    "\n",
    "   * Using the function outer in numpy\n",
    "   * Using a nested for loop or list comprehension\n",
    "   * Using numpy broadcasting operatoins\n"
   ]
  },
  {
   "cell_type": "code",
   "execution_count": 3,
   "metadata": {},
   "outputs": [
    {
     "name": "stdout",
     "output_type": "stream",
     "text": [
      "Outer product with outer function: \n",
      " [[ 2  4  6  8]\n",
      " [ 6 12 18 24]\n",
      " [10 20 30 40]\n",
      " [14 28 42 56]]\n",
      "\n",
      "Outer product with list comprehension: \n",
      " [[ 2  4  6  8]\n",
      " [ 6 12 18 24]\n",
      " [10 20 30 40]\n",
      " [14 28 42 56]]\n",
      "\n",
      "Outer product with numpy broadcasting operatoins: \n",
      " [[ 2  4  6  8]\n",
      " [ 6 12 18 24]\n",
      " [10 20 30 40]\n",
      " [14 28 42 56]]\n"
     ]
    }
   ],
   "source": [
    "u = np.array([1,3,5,7])\n",
    "v = np.array([2,4,6,8])\n",
    "\n",
    "#outer function\n",
    "print(\"Outer product with outer function: \\n {}\".format(np.outer(u,v)))\n",
    "\n",
    "#list comprehension\n",
    "lc = [[u[i]*v[j] for j in range(len(v))] for i in range(len(u))]\n",
    "print(\"\\nOuter product with list comprehension: \\n {}\".format(np.array(lc)))\n",
    "\n",
    "#broadcasting operation\n",
    "print(\"\\nOuter product with numpy broadcasting operatoins: \\n {}\".format(u[:, np.newaxis] * v))"
   ]
  },
  {
   "cell_type": "markdown",
   "metadata": {},
   "source": [
    "3\\. Create a 10 by 6 matrix of random uniform numbers. Set all rows with any entry less than 0.1 to be zero\n",
    "\n",
    "Hint: Use the following numpy functions - np.random.random, np.any as well as Boolean indexing and the axis argument."
   ]
  },
  {
   "cell_type": "code",
   "execution_count": 4,
   "metadata": {},
   "outputs": [],
   "source": [
    "import numpy.random as npr\n",
    "npr.seed(205678)"
   ]
  },
  {
   "cell_type": "code",
   "execution_count": 5,
   "metadata": {},
   "outputs": [
    {
     "name": "stdout",
     "output_type": "stream",
     "text": [
      "[[0.446684 0.314525 0.883259 0.124388 0.369293 0.568558]\n",
      " [0.022448 0.637871 0.459868 0.034811 0.496636 0.564395]\n",
      " [0.378246 0.087029 0.963222 0.302693 0.300236 0.008069]\n",
      " [0.229642 0.747332 0.815886 0.826082 0.149542 0.793661]\n",
      " [0.734747 0.879986 0.172885 0.832765 0.180146 0.688919]\n",
      " [0.436083 0.381662 0.997904 0.206513 0.569185 0.029795]\n",
      " [0.308013 0.895189 0.055545 0.724579 0.449406 0.183113]\n",
      " [0.272154 0.8448   0.697147 0.479428 0.503569 0.58385 ]\n",
      " [0.424618 0.264915 0.801627 0.164399 0.251482 0.790556]\n",
      " [0.20856  0.494377 0.698666 0.77472  0.855266 0.00516 ]]\n",
      "\n",
      " [[0.446684 0.314525 0.883259 0.124388 0.369293 0.568558]\n",
      " [0.       0.       0.       0.       0.       0.      ]\n",
      " [0.       0.       0.       0.       0.       0.      ]\n",
      " [0.229642 0.747332 0.815886 0.826082 0.149542 0.793661]\n",
      " [0.734747 0.879986 0.172885 0.832765 0.180146 0.688919]\n",
      " [0.       0.       0.       0.       0.       0.      ]\n",
      " [0.       0.       0.       0.       0.       0.      ]\n",
      " [0.272154 0.8448   0.697147 0.479428 0.503569 0.58385 ]\n",
      " [0.424618 0.264915 0.801627 0.164399 0.251482 0.790556]\n",
      " [0.       0.       0.       0.       0.       0.      ]]\n"
     ]
    }
   ],
   "source": [
    "np.set_printoptions(precision = 6)\n",
    "rand = npr.rand(10,6)\n",
    "print(rand)\n",
    "mask = (rand < 0.1)\n",
    "for i in range(len(rand)):\n",
    "    if np.any(mask[i]): rand[i] = 0\n",
    "print(\"\\n\",rand)"
   ]
  },
  {
   "cell_type": "markdown",
   "metadata": {},
   "source": [
    "4\\. Use np.linspace to create an array of 100 numbers between 0 and 2π (includsive).\n",
    "\n",
    "  * Extract every 10th element using slice notation\n",
    "  * Reverse the array using slice notation\n",
    "  * Extract elements where the absolute difference between the sine and cosine functions evaluated at that element is less than 0.1\n",
    "  * Make a plot showing the sin and cos functions and indicate where they are close"
   ]
  },
  {
   "cell_type": "code",
   "execution_count": 6,
   "metadata": {
    "scrolled": false
   },
   "outputs": [
    {
     "name": "stdout",
     "output_type": "stream",
     "text": [
      "[0.       0.063467 0.126933 0.1904   0.253866 0.317333 0.380799 0.444266\n",
      " 0.507732 0.571199 0.634665 0.698132 0.761598 0.825065 0.888531 0.951998\n",
      " 1.015464 1.078931 1.142397 1.205864 1.26933  1.332797 1.396263 1.45973\n",
      " 1.523196 1.586663 1.650129 1.713596 1.777063 1.840529 1.903996 1.967462\n",
      " 2.030929 2.094395 2.157862 2.221328 2.284795 2.348261 2.411728 2.475194\n",
      " 2.538661 2.602127 2.665594 2.72906  2.792527 2.855993 2.91946  2.982926\n",
      " 3.046393 3.109859 3.173326 3.236792 3.300259 3.363725 3.427192 3.490659\n",
      " 3.554125 3.617592 3.681058 3.744525 3.807991 3.871458 3.934924 3.998391\n",
      " 4.061857 4.125324 4.18879  4.252257 4.315723 4.37919  4.442656 4.506123\n",
      " 4.569589 4.633056 4.696522 4.759989 4.823455 4.886922 4.950388 5.013855\n",
      " 5.077321 5.140788 5.204254 5.267721 5.331188 5.394654 5.458121 5.521587\n",
      " 5.585054 5.64852  5.711987 5.775453 5.83892  5.902386 5.965853 6.029319\n",
      " 6.092786 6.156252 6.219719 6.283185]\n",
      "\n",
      " [0.       0.634665 1.26933  1.903996 2.538661 3.173326 3.807991 4.442656\n",
      " 5.077321 5.711987]\n",
      "\n",
      " [6.283185 6.219719 6.156252 6.092786 6.029319 5.965853 5.902386 5.83892\n",
      " 5.775453 5.711987 5.64852  5.585054 5.521587 5.458121 5.394654 5.331188\n",
      " 5.267721 5.204254 5.140788 5.077321 5.013855 4.950388 4.886922 4.823455\n",
      " 4.759989 4.696522 4.633056 4.569589 4.506123 4.442656 4.37919  4.315723\n",
      " 4.252257 4.18879  4.125324 4.061857 3.998391 3.934924 3.871458 3.807991\n",
      " 3.744525 3.681058 3.617592 3.554125 3.490659 3.427192 3.363725 3.300259\n",
      " 3.236792 3.173326 3.109859 3.046393 2.982926 2.91946  2.855993 2.792527\n",
      " 2.72906  2.665594 2.602127 2.538661 2.475194 2.411728 2.348261 2.284795\n",
      " 2.221328 2.157862 2.094395 2.030929 1.967462 1.903996 1.840529 1.777063\n",
      " 1.713596 1.650129 1.586663 1.523196 1.45973  1.396263 1.332797 1.26933\n",
      " 1.205864 1.142397 1.078931 1.015464 0.951998 0.888531 0.825065 0.761598\n",
      " 0.698132 0.634665 0.571199 0.507732 0.444266 0.380799 0.317333 0.253866\n",
      " 0.1904   0.126933 0.063467 0.      ]\n",
      "\n",
      " [0.7615982190520711, 0.8250647373064104, 3.8714576135146945, 3.934924131769034]\n"
     ]
    },
    {
     "data": {
      "image/png": "[encoded data removed]",
      "text/plain": [
       "<Figure size 432x288 with 1 Axes>"
      ]
     },
     "metadata": {
      "needs_background": "light"
     },
     "output_type": "display_data"
    }
   ],
   "source": [
    "np.set_printoptions(precision = 6)\n",
    "a = np.linspace(0, 2*np.pi ,100)\n",
    "print(a)\n",
    "\n",
    "print(\"\\n\",a[::10])\n",
    "\n",
    "#b = a[99 - np.arange(100)]\n",
    "b = a[::-1]\n",
    "print(\"\\n\", b)\n",
    "\n",
    "c = [val for val in a if abs(np.cos(val)-np.sin(val)) < 0.1]\n",
    "print(\"\\n\", c)\n",
    "\n",
    "sin = [np.sin(val) for val in a]\n",
    "cos = [np.cos(val) for val in a]\n",
    "\n",
    "c1 = np.array([np.sin(val) for val in c])\n",
    "c2 = np.array([np.cos(val) for val in c])\n",
    "\n",
    "plt.plot(a, cos, a, sin, c, c1, 'ro', c, c2, 'ro')\n",
    "plt.show()"
   ]
  },
  {
   "cell_type": "markdown",
   "metadata": {},
   "source": [
    "5\\. Create a matrix that shows the 10 by 10 multiplication table.\n",
    "\n",
    " * Find the trace of the matrix\n",
    " * Extract the anto-diagonal (this should be ```array([10, 18, 24, 28, 30, 30, 28, 24, 18, 10])```)\n",
    " * Extract the diagnoal offset by 1 upwards (this should be ```array([ 2,  6, 12, 20, 30, 42, 56, 72, 90])```)"
   ]
  },
  {
   "cell_type": "code",
   "execution_count": 7,
   "metadata": {},
   "outputs": [
    {
     "name": "stdout",
     "output_type": "stream",
     "text": [
      "10 x 10 multiplication matrix: \n",
      "[[  1   2   3   4   5   6   7   8   9  10]\n",
      " [  2   4   6   8  10  12  14  16  18  20]\n",
      " [  3   6   9  12  15  18  21  24  27  30]\n",
      " [  4   8  12  16  20  24  28  32  36  40]\n",
      " [  5  10  15  20  25  30  35  40  45  50]\n",
      " [  6  12  18  24  30  36  42  48  54  60]\n",
      " [  7  14  21  28  35  42  49  56  63  70]\n",
      " [  8  16  24  32  40  48  56  64  72  80]\n",
      " [  9  18  27  36  45  54  63  72  81  90]\n",
      " [ 10  20  30  40  50  60  70  80  90 100]]\n",
      "\n",
      "Trace of the matrix: 385\n",
      "\n",
      "Anti-diagonal: [10 18 24 28 30 30 28 24 18 10]\n",
      "\n",
      "Offset 1 diagonal: [ 2  6 12 20 30 42 56 72 90]\n"
     ]
    }
   ],
   "source": [
    "a = np.arange(1,11)\n",
    "b = np.outer(a,a)\n",
    "print(\"10 x 10 multiplication matrix: \\n{}\".format(b))\n",
    "\n",
    "print(\"\\nTrace of the matrix: {}\".format(b.trace()))\n",
    "\n",
    "l = np.arange(10)\n",
    "print(\"\\nAnti-diagonal: {}\".format(b[l,l[::-1]]))\n",
    "\n",
    "l = np.arange(9)\n",
    "print(\"\\nOffset 1 diagonal: {}\".format(b[l,l+1]))"
   ]
  },
  {
   "cell_type": "markdown",
   "metadata": {},
   "source": [
    "6\\. Use broadcasting to create a grid of distances\n",
    "\n",
    "Route 66 crosses the following cities in the US: Chicago, Springfield, Saint-Louis, Tulsa, Oklahoma City, Amarillo, Santa Fe, Albuquerque, Flagstaff, Los Angeles\n",
    "The corresponding positions in miles are: 0, 198, 303, 736, 871, 1175, 1475, 1544, 1913, 2448\n",
    "\n",
    "  * Construct a 2D grid of distances among each city along Route 66\n",
    "  * Convert that in km (those savages...)"
   ]
  },
  {
   "cell_type": "code",
   "execution_count": 8,
   "metadata": {},
   "outputs": [
    {
     "name": "stdout",
     "output_type": "stream",
     "text": [
      "Distances in miles: \n",
      "[[   0  198  303  736  871 1175 1475 1544 1913 2448]\n",
      " [ 198    0  105  538  673  977 1277 1346 1715 2250]\n",
      " [ 303  105    0  433  568  872 1172 1241 1610 2145]\n",
      " [ 736  538  433    0  135  439  739  808 1177 1712]\n",
      " [ 871  673  568  135    0  304  604  673 1042 1577]\n",
      " [1175  977  872  439  304    0  300  369  738 1273]\n",
      " [1475 1277 1172  739  604  300    0   69  438  973]\n",
      " [1544 1346 1241  808  673  369   69    0  369  904]\n",
      " [1913 1715 1610 1177 1042  738  438  369    0  535]\n",
      " [2448 2250 2145 1712 1577 1273  973  904  535    0]]\n",
      "Distances in km: \n",
      "[[   0.   318.6  487.6 1184.5 1401.7 1891.  2373.8 2484.8 3078.7 3939.7]\n",
      " [ 318.6    0.   169.   865.8 1083.1 1572.3 2055.1 2166.2 2760.  3621. ]\n",
      " [ 487.6  169.     0.   696.8  914.1 1403.3 1886.1 1997.2 2591.  3452. ]\n",
      " [1184.5  865.8  696.8    0.   217.3  706.5 1189.3 1300.3 1894.2 2755.2]\n",
      " [1401.7 1083.1  914.1  217.3    0.   489.2  972.  1083.1 1676.9 2537.9]\n",
      " [1891.  1572.3 1403.3  706.5  489.2    0.   482.8  593.8 1187.7 2048.7]\n",
      " [2373.8 2055.1 1886.1 1189.3  972.   482.8    0.   111.   704.9 1565.9]\n",
      " [2484.8 2166.2 1997.2 1300.3 1083.1  593.8  111.     0.   593.8 1454.8]\n",
      " [3078.7 2760.  2591.  1894.2 1676.9 1187.7  704.9  593.8    0.   861. ]\n",
      " [3939.7 3621.  3452.  2755.2 2537.9 2048.7 1565.9 1454.8  861.     0. ]]\n"
     ]
    }
   ],
   "source": [
    "cities = np.array([\"Chicago\",\"Springfield\",\"Saint-Louis\",\"Tulsa\",\"Oklahoma City\",\"Amarillo\",\"Santa Fe\",\"Albuquerque\",\"Flagstaff\",\"Los Angeles\"])\n",
    "positions = np.array([0, 198, 303, 736, 871, 1175, 1475, 1544, 1913, 2448])\n",
    "distances = abs(positions[:,np.newaxis] - positions)\n",
    "print(\"Distances in miles: \\n{}\".format(distances))\n",
    "np.set_printoptions(precision = 1)\n",
    "print(\"Distances in km: \\n{}\".format(distances * 1.60934))"
   ]
  },
  {
   "cell_type": "markdown",
   "metadata": {},
   "source": [
    "7\\. Prime numbers sieve: compute the prime numbers in the 0-N (N=99 to start with) range with a sieve (mask).\n",
    "  * Constract a shape (100,) boolean array, the mask\n",
    "  * Identify the multiples of each number starting from 2 and set accordingly the corresponding mask element\n",
    "  * Apply the mask to obtain an array of ordered prime numbers\n",
    "  * Check the performances (timeit); how does it scale with N?\n",
    "  * Implement the optimization suggested in the [sieve of Eratosthenes](https://en.wikipedia.org/wiki/Sieve_of_Eratosthenes)"
   ]
  },
  {
   "cell_type": "code",
   "execution_count": 9,
   "metadata": {
    "scrolled": false
   },
   "outputs": [
    {
     "name": "stdout",
     "output_type": "stream",
     "text": [
      "[ 2  3  5  7 11 13 17 19 23 29 31 37 41 43 47 53 59 61 67 71 73 79 83 89\n",
      " 97]\n",
      "\n",
      "Time: 0.0001163482666015625\n",
      "\n",
      "[  2   3   5   7  11  13  17  19  23  29  31  37  41  43  47  53  59  61\n",
      "  67  71  73  79  83  89  97 101 103 107 109 113 127 131 137 139 149 151\n",
      " 157 163 167 173 179 181 191 193 197 199 211 223 227 229 233 239 241 251\n",
      " 257 263 269 271 277 281 283 293 307 311 313 317 331 337 347 349 353 359\n",
      " 367 373 379 383 389 397 401 409 419 421 431 433 439 443 449 457 461 463\n",
      " 467 479 487 491 499 503 509 521 523 541 547 557 563 569 571 577 587 593\n",
      " 599 601 607 613 617 619 631 641 643 647 653 659 661 673 677 683 691 701\n",
      " 709 719 727 733 739 743 751 757 761 769 773 787 797 809 811 821 823 827\n",
      " 829 839 853 857 859 863 877 881 883 887 907 911 919 929 937 941 947 953\n",
      " 967 971 977 983 991 997]\n",
      "\n",
      "Time: 0.0010602474212646484\n",
      "\n",
      "[   2    3    5 ... 9949 9967 9973]\n",
      "\n",
      "Time: 0.0073664188385009766\n",
      "\n",
      "[    2     3     5 ... 99971 99989 99991]\n",
      "\n",
      "Time: 0.06501483917236328\n",
      "\n",
      "[     2      3      5 ... 999961 999979 999983]\n",
      "\n",
      "Time: 0.4605066776275635\n",
      "\n",
      "[      2       3       5 ... 9999971 9999973 9999991]\n",
      "\n",
      "Time: 5.231364727020264\n",
      "\n"
     ]
    },
    {
     "data": {
      "image/png": "[encoded data removed]",
      "text/plain": [
       "<Figure size 432x288 with 1 Axes>"
      ]
     },
     "metadata": {
      "needs_background": "light"
     },
     "output_type": "display_data"
    },
    {
     "name": "stdout",
     "output_type": "stream",
     "text": [
      "The time scales linearly with N.\n"
     ]
    }
   ],
   "source": [
    "import time\n",
    "arr_N=[]\n",
    "arr_t=[]\n",
    "for N in [99,999,9999,99999,999999,9999999]:\n",
    "    arr_N.append(N)\n",
    "    mask = np.ones((N+1, ), dtype=bool)\n",
    "    mask[0],mask[1] = False, False\n",
    "    t0 = time.time()\n",
    "    for i in range(2,int(N+1)):\n",
    "        k = 2\n",
    "        mask[i*k::i] = False\n",
    "    t1 = time.time()\n",
    "    num = np.arange(N+1)\n",
    "    print(num[mask])\n",
    "    arr_t.append(t1-t0)\n",
    "    print(\"\\nTime: {}\\n\".format(t1-t0))\n",
    "plt.plot(arr_N,arr_t)\n",
    "plt.yscale('log')\n",
    "plt.xscale('log')\n",
    "plt.show()\n",
    "print(\"The time scales linearly with N.\")"
   ]
  },
  {
   "cell_type": "code",
   "execution_count": 10,
   "metadata": {},
   "outputs": [
    {
     "name": "stdout",
     "output_type": "stream",
     "text": [
      "[ 2  3  5  7 11 13 17 19 23 29 31 37 41 43 47 53 59 61 67 71 73 79 83 89\n",
      " 97]\n",
      "\n",
      "Time: 4.4345855712890625e-05\n",
      "\n",
      "[  2   3   5   7  11  13  17  19  23  29  31  37  41  43  47  53  59  61\n",
      "  67  71  73  79  83  89  97 101 103 107 109 113 127 131 137 139 149 151\n",
      " 157 163 167 173 179 181 191 193 197 199 211 223 227 229 233 239 241 251\n",
      " 257 263 269 271 277 281 283 293 307 311 313 317 331 337 347 349 353 359\n",
      " 367 373 379 383 389 397 401 409 419 421 431 433 439 443 449 457 461 463\n",
      " 467 479 487 491 499 503 509 521 523 541 547 557 563 569 571 577 587 593\n",
      " 599 601 607 613 617 619 631 641 643 647 653 659 661 673 677 683 691 701\n",
      " 709 719 727 733 739 743 751 757 761 769 773 787 797 809 811 821 823 827\n",
      " 829 839 853 857 859 863 877 881 883 887 907 911 919 929 937 941 947 953\n",
      " 961 967 971 977 983 991 997]\n",
      "\n",
      "Time: 4.363059997558594e-05\n",
      "\n",
      "[   2    3    5 ... 9949 9967 9973]\n",
      "\n",
      "Time: 0.00021529197692871094\n",
      "\n",
      "[    2     3     5 ... 99971 99989 99991]\n",
      "\n",
      "Time: 0.0005202293395996094\n",
      "\n",
      "[     2      3      5 ... 999961 999979 999983]\n",
      "\n",
      "Time: 0.007227182388305664\n",
      "\n",
      "[      2       3       5 ... 9999971 9999973 9999991]\n",
      "\n",
      "Time: 0.10547471046447754\n",
      "\n"
     ]
    },
    {
     "data": {
      "image/png": "[encoded data removed]",
      "text/plain": [
       "<Figure size 432x288 with 1 Axes>"
      ]
     },
     "metadata": {
      "needs_background": "light"
     },
     "output_type": "display_data"
    }
   ],
   "source": [
    "import time\n",
    "import math as m\n",
    "arr_N1=[]\n",
    "arr_t1=[]\n",
    "for N in [99,999,9999,99999,999999,9999999]:\n",
    "    arr_N1.append(N)\n",
    "    mask = np.ones((N+1, ), dtype=bool)\n",
    "    mask[0],mask[1] = False,False\n",
    "    t0 = time.time()\n",
    "    for i in range(2,int(m.sqrt(N+1))):\n",
    "        if mask[i] == True:\n",
    "            mask[i**2::i] = False\n",
    "    t1 = time.time()\n",
    "    num = np.arange(N+1)\n",
    "    print(num[mask])\n",
    "    arr_t1.append(t1-t0)\n",
    "    print(\"\\nTime: {}\\n\".format(t1-t0))\n",
    "plt.plot(arr_N,arr_t,label='First algorithm')\n",
    "plt.plot(arr_N1,arr_t1,label='Eratosthenes')\n",
    "plt.yscale('log')\n",
    "plt.xscale('log')\n",
    "plt.legend()\n",
    "plt.show()"
   ]
  },
  {
   "cell_type": "markdown",
   "metadata": {},
   "source": [
    "**N.B. the following exercises are meant to be solved only if you are familiar with the numpy random library. If not you can skip them (postponed for one of the next exercise sessions)**\n"
   ]
  },
  {
   "cell_type": "markdown",
   "metadata": {},
   "source": [
    "8\\. Diffusion using random walk\n",
    "\n",
    "Consider a simple random walk process: at each step in time, a walker jumps right or left (+1 or -1) with equal probability. The goal is to find the typical distance from the origin of a random walker after a given amount of time. \n",
    "To do that, let's simulate many walkers and create a 2D array with each walker as a raw and the actual time evolution as columns\n",
    "\n",
    "  * Take 1000 walkers and let them walk for 200 steps\n",
    "  * Use randint to create a 2D array of size walkers x steps with values -1 or 1\n",
    "  * Build the actual walking distances for each walker (i.e. another 2D array \"summing on each raw\")\n",
    "  * Take the square of that 2D array (elementwise)\n",
    "  * Compute the mean of the squared distances at each step (i.e. the mean along the columns)\n",
    "  * Plot the average distances (sqrt(distance\\*\\*2)) as a function of time (step)\n",
    "  \n",
    "Did you get what you expected?"
   ]
  },
  {
   "cell_type": "code",
   "execution_count": 11,
   "metadata": {},
   "outputs": [],
   "source": [
    "import numpy.random as npr"
   ]
  },
  {
   "cell_type": "code",
   "execution_count": 12,
   "metadata": {},
   "outputs": [
    {
     "name": "stdout",
     "output_type": "stream",
     "text": [
      "[[-1 -1 -1 ... -1  1 -1]\n",
      " [ 1 -1  1 ...  1 -1  1]\n",
      " [ 1 -1 -1 ...  1  1 -1]\n",
      " ...\n",
      " [ 1  1 -1 ...  1 -1  1]\n",
      " [ 1 -1 -1 ...  1 -1 -1]\n",
      " [ 1  1  1 ...  1 -1 -1]]\n",
      "\n",
      " [[  0  -1  -2 ... -13 -14 -13]\n",
      " [  0   1   0 ...  -9  -8  -9]\n",
      " [  0   1   0 ...   5   6   7]\n",
      " ...\n",
      " [  0   1   2 ...  -1   0  -1]\n",
      " [  0   1   0 ...  -5  -4  -5]\n",
      " [  0   1   2 ...  11  12  11]]\n",
      "\n",
      " [[  0   1   4 ... 169 196 169]\n",
      " [  0   1   0 ...  81  64  81]\n",
      " [  0   1   0 ...  25  36  49]\n",
      " ...\n",
      " [  0   1   4 ...   1   0   1]\n",
      " [  0   1   0 ...  25  16  25]\n",
      " [  0   1   4 ... 121 144 121]]\n",
      "\n",
      " [  0.    1.    2.    2.9   3.8   4.6   5.7   6.7   7.6   8.8  10.   11.\n",
      "  12.1  13.5  15.   15.8  16.8  17.8  18.8  19.6  20.7  22.   23.2  24.3\n",
      "  26.   26.6  26.9  27.7  28.4  29.3  30.1  31.   32.2  34.2  35.8  36.8\n",
      "  37.7  38.5  39.7  40.7  41.8  43.   44.3  45.1  46.3  47.   48.7  49.9\n",
      "  51.   52.4  53.5  54.4  55.8  56.1  55.8  57.2  58.8  59.   59.3  59.2\n",
      "  61.2  61.2  61.9  63.   63.9  64.9  65.9  68.2  69.3  70.   70.3  70.4\n",
      "  71.6  72.6  74.4  76.   77.1  77.3  78.2  79.5  80.8  82.   83.2  84.3\n",
      "  84.7  85.   85.7  86.3  87.2  88.   88.9  90.9  91.2  92.2  92.9  94.3\n",
      "  93.9  95.1  96.3  98.6  99.3 100.3 100.6 101.7 102.  101.9 101.8 104.\n",
      " 105.8 107.5 108.  109.7 110.1 110.7 111.9 112.6 113.7 115.5 116.9 118.4\n",
      " 119.3 120.6 122.  123.2 123.7 124.  124.4 125.1 125.8 127.1 128.4 129.3\n",
      " 132.  133.1 132.9 133.5 133.8 134.1 134.8 136.1 138.3 138.8 138.3 139.\n",
      " 138.5 140.6 142.4 142.8 143.7 145.1 146.  146.  146.6 147.7 146.8 149.2\n",
      " 151.2 152.2 153.8 153.7 155.2 156.4 158.7 159.2 160.9 162.7 164.7 165.2\n",
      " 166.6 166.5 167.8 168.5 170.  171.5 172.5 172.5 173.9 176.6 175.6 178.\n",
      " 178.8 179.2 178.8 180.7 181.9 182.1 184.8 184.8 185.4 184.2 184.3 185.3\n",
      " 185.9 187.  186.3 187.9 188.7 191.  191.6 190.9]\n"
     ]
    },
    {
     "data": {
      "image/png": "[encoded data removed]",
      "text/plain": [
       "<Figure size 432x288 with 1 Axes>"
      ]
     },
     "metadata": {
      "needs_background": "light"
     },
     "output_type": "display_data"
    }
   ],
   "source": [
    "npr.seed(30485)\n",
    "a = npr.randint(0,2,size = (1000,200))*2-1\n",
    "print(a)\n",
    "dist = np.array([[np.sum(a[i,:j]) for j in range(len(a[i]))] for i in range(len(a))])\n",
    "print(\"\\n\",dist)\n",
    "square = np.square(dist)\n",
    "print(\"\\n\",square)\n",
    "mean = np.array([np.mean(square[:,i]) for i in range(len(square[0]))])\n",
    "print(\"\\n\",mean)\n",
    "plt.plot(np.arange(len(a[0])),np.sqrt(mean))\n",
    "plt.show()"
   ]
  },
  {
   "cell_type": "markdown",
   "metadata": {},
   "source": [
    "9\\. Analyze a data file \n",
    "  * Download the population of hares, lynxes and carrots at the beginning of the last century.\n",
    "    ```python\n",
    "    ! wget https://www.dropbox.com/s/3vigxoqayo389uc/populations.txt\n",
    "    ```\n",
    "\n",
    "  * Check the content by looking within the file\n",
    "  * Load the data (use an appropriate numpy method) into a 2D array\n",
    "  * Create arrays out of the columns, the arrays being (in order): *year*, *hares*, *lynxes*, *carrots* \n",
    "  * Plot the 3 populations over the years\n",
    "  * Compute the main statistical properties of the dataset (mean, std, correlations, etc.)\n",
    "  * Which species has the highest population each year?\n",
    "\n",
    "Do you feel there is some evident correlation here? [Studies](https://www.enr.gov.nt.ca/en/services/lynx/lynx-snowshoe-hare-cycle) tend to believe so."
   ]
  },
  {
   "cell_type": "code",
   "execution_count": 13,
   "metadata": {},
   "outputs": [
    {
     "name": "stdout",
     "output_type": "stream",
     "text": [
      "--2021-11-22 12:45:43--  https://www.dropbox.com/s/3vigxoqayo389uc/populations.txt\n",
      "Risoluzione di www.dropbox.com (www.dropbox.com)... 162.125.69.18, 2620:100:6025:18::a27d:4512\n",
      "Connessione a www.dropbox.com (www.dropbox.com)|162.125.69.18|:443... connesso.\n",
      "Richiesta HTTP inviata, in attesa di risposta... 301 Moved Permanently\n",
      "Posizione: /s/raw/3vigxoqayo389uc/populations.txt [segue]\n",
      "--2021-11-22 12:45:43--  https://www.dropbox.com/s/raw/3vigxoqayo389uc/populations.txt\n",
      "Riutilizzo della connessione esistente a www.dropbox.com:443.\n",
      "Richiesta HTTP inviata, in attesa di risposta... 302 Found\n",
      "Posizione: https://uc68e77036684af1631fbf7d3739.dl.dropboxusercontent.com/cd/0/inline/Bacg8Upac3XM8ToGIEk3kTTH1FJcL2V3KdqxXqDvZP1zQBXiWozUpRk7iCWQQvYZvFablW5AZC8pnZoXswQYbpIWoPhT76fYHvfLudqITkh5VerqqftaCI8_AnV9jNxdx-B3Ixd6yOmxZx6O9Y75gjMu/file# [segue]\n",
      "--2021-11-22 12:45:43--  https://uc68e77036684af1631fbf7d3739.dl.dropboxusercontent.com/cd/0/inline/Bacg8Upac3XM8ToGIEk3kTTH1FJcL2V3KdqxXqDvZP1zQBXiWozUpRk7iCWQQvYZvFablW5AZC8pnZoXswQYbpIWoPhT76fYHvfLudqITkh5VerqqftaCI8_AnV9jNxdx-B3Ixd6yOmxZx6O9Y75gjMu/file\n",
      "Risoluzione di uc68e77036684af1631fbf7d3739.dl.dropboxusercontent.com (uc68e77036684af1631fbf7d3739.dl.dropboxusercontent.com)... 162.125.69.15, 2620:100:6025:15::a27d:450f\n",
      "Connessione a uc68e77036684af1631fbf7d3739.dl.dropboxusercontent.com (uc68e77036684af1631fbf7d3739.dl.dropboxusercontent.com)|162.125.69.15|:443... connesso.\n",
      "Richiesta HTTP inviata, in attesa di risposta... 200 OK\n",
      "Lunghezza: 525 [text/plain]\n",
      "Salvataggio in: \"populations.txt.2\"\n",
      "\n",
      "populations.txt.2   100%[===================>]     525  --.-KB/s    in 0s      \n",
      "\n",
      "2021-11-22 12:45:44 (15,8 MB/s) - \"populations.txt.2\" salvato [525/525]\n",
      "\n"
     ]
    }
   ],
   "source": [
    "! wget https://www.dropbox.com/s/3vigxoqayo389uc/populations.txt"
   ]
  },
  {
   "cell_type": "code",
   "execution_count": 19,
   "metadata": {},
   "outputs": [
    {
     "name": "stdout",
     "output_type": "stream",
     "text": [
      "[[ 1900. 30000.  4000. 48300.]\n",
      " [ 1901. 47200.  6100. 48200.]\n",
      " [ 1902. 70200.  9800. 41500.]\n",
      " [ 1903. 77400. 35200. 38200.]\n",
      " [ 1904. 36300. 59400. 40600.]\n",
      " [ 1905. 20600. 41700. 39800.]\n",
      " [ 1906. 18100. 19000. 38600.]\n",
      " [ 1907. 21400. 13000. 42300.]\n",
      " [ 1908. 22000.  8300. 44500.]\n",
      " [ 1909. 25400.  9100. 42100.]\n",
      " [ 1910. 27100.  7400. 46000.]\n",
      " [ 1911. 40300.  8000. 46800.]\n",
      " [ 1912. 57000. 12300. 43800.]\n",
      " [ 1913. 76600. 19500. 40900.]\n",
      " [ 1914. 52300. 45700. 39400.]\n",
      " [ 1915. 19500. 51100. 39000.]\n",
      " [ 1916. 11200. 29700. 36700.]\n",
      " [ 1917.  7600. 15800. 41800.]\n",
      " [ 1918. 14600.  9700. 43300.]\n",
      " [ 1919. 16200. 10100. 41300.]\n",
      " [ 1920. 24700.  8600. 47300.]]\n"
     ]
    },
    {
     "data": {
      "image/png": "[encoded data removed]",
      "text/plain": [
       "<Figure size 432x288 with 1 Axes>"
      ]
     },
     "metadata": {
      "needs_background": "light"
     },
     "output_type": "display_data"
    },
    {
     "name": "stdout",
     "output_type": "stream",
     "text": [
      "\n",
      "Mean population of hares from 1900 to 1920: 34080.95238095238\n",
      "std: 20897.906458089667\n",
      "\n",
      "Correlation between the populations of hares and lynxes: 0.07189206073535571\n",
      "\n",
      "Correlation between the populations of hares and carrots: -0.016603777709879402\n",
      "\n",
      "Mean population of lynxes from 1900 to 1920: 20166.666666666668\n",
      "std: 16254.591536908763\n",
      "\n",
      "Correlation between the populations of lynxes and carrots: -0.6805771698401617\n",
      "\n",
      "Mean population of carrots from 1900 to 1920: 42400.0\n",
      "std: 3322.5062255844787\n",
      "In 1900 the species with the most population was ['carrots'].\n",
      "In 1901 the species with the most population was ['carrots'].\n",
      "In 1902 the species with the most population was ['hares'].\n",
      "In 1903 the species with the most population was ['hares'].\n",
      "In 1904 the species with the most population was ['lynxes'].\n",
      "In 1905 the species with the most population was ['lynxes'].\n",
      "In 1906 the species with the most population was ['carrots'].\n",
      "In 1907 the species with the most population was ['carrots'].\n",
      "In 1908 the species with the most population was ['carrots'].\n",
      "In 1909 the species with the most population was ['carrots'].\n",
      "In 1910 the species with the most population was ['carrots'].\n",
      "In 1911 the species with the most population was ['carrots'].\n",
      "In 1912 the species with the most population was ['hares'].\n",
      "In 1913 the species with the most population was ['hares'].\n",
      "In 1914 the species with the most population was ['hares'].\n",
      "In 1915 the species with the most population was ['lynxes'].\n",
      "In 1916 the species with the most population was ['carrots'].\n",
      "In 1917 the species with the most population was ['carrots'].\n",
      "In 1918 the species with the most population was ['carrots'].\n",
      "In 1919 the species with the most population was ['carrots'].\n",
      "In 1920 the species with the most population was ['carrots'].\n"
     ]
    }
   ],
   "source": [
    "file_name = \"populations.txt\"\n",
    "data = np.loadtxt(file_name,comments='#')\n",
    "print(data)\n",
    "\n",
    "names = np.array([\"year\", \"hares\", \"lynxes\", \"carrots\"])\n",
    "year = data[:,0]\n",
    "hares = data[:,1]\n",
    "lynxes = data[:,2]\n",
    "carrots = data[:,3]\n",
    "plt.plot(year,hares,label = \"Hares\")\n",
    "plt.plot(year,lynxes,label = \"Lynxes\")\n",
    "plt.plot(year,carrots,label = \"Carrots\")\n",
    "plt.legend()\n",
    "plt.show()\n",
    "\n",
    "for i in range(1,4):\n",
    "    print(\"\\nMean population of {} from 1900 to 1920: {}\".format(names[i],np.mean(data[:,i])))\n",
    "    print(\"std: {}\".format(np.std(data[:,i])))\n",
    "    for j in range(i,4):\n",
    "        if not i == j:\n",
    "            print(\"\\nCorrelation between the populations of {} and {}: {}\".format(names[i],names[j],np.corrcoef(data[:,i],data[:,j])[0,1]))\n",
    "            \n",
    "for line in data:\n",
    "    mass = max(line[1],line[2],line[3])\n",
    "    index = np.where(line == mass)\n",
    "    print(\"In {} the species with the most population was {}.\".format(int(line[0]),names[index]))\n",
    "    "
   ]
  },
  {
   "cell_type": "code",
   "execution_count": null,
   "metadata": {},
   "outputs": [],
   "source": []
  }
 ],
 "metadata": {
  "kernelspec": {
   "display_name": "Python 3",
   "language": "python",
   "name": "python3"
  },
  "language_info": {
   "codemirror_mode": {
    "name": "ipython",
    "version": 3
   },
   "file_extension": ".py",
   "mimetype": "text/x-python",
   "name": "python",
   "nbconvert_exporter": "python",
   "pygments_lexer": "ipython3",
   "version": "3.7.4"
  }
 },
 "nbformat": 4,
 "nbformat_minor": 2
}
