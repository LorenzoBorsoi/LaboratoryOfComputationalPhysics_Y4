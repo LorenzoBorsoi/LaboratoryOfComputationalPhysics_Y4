{
 "cells": [
  {
   "cell_type": "markdown",
   "metadata": {},
   "source": [
    "### Numpy basics"
   ]
  },
  {
   "cell_type": "markdown",
   "metadata": {},
   "source": [
    "1\\. Find the row, column and overall means for the following matrix:\n",
    "\n",
    "```python\n",
    "m = np.arange(12).reshape((3,4))\n",
    "```"
   ]
  },
  {
   "cell_type": "code",
   "execution_count": 2,
   "metadata": {},
   "outputs": [
    {
     "name": "stdout",
     "output_type": "stream",
     "text": [
      "matrix m:\n",
      " [[ 0  1  2  3]\n",
      " [ 4  5  6  7]\n",
      " [ 8  9 10 11]]\n",
      "number of rows: 3\n",
      "number of columns: 4 \n",
      "\n",
      "line 0 is: [0 1 2 3]\n",
      "line 1 is: [4 5 6 7]\n",
      "line 2 is: [ 8  9 10 11]\n",
      "column 0 is: [0 4 8]\n",
      "column 1 is: [1 5 9]\n",
      "column 2 is: [ 2  6 10]\n",
      "column 3 is: [ 3  7 11]\n",
      "\n",
      " overall mean is: 5.5\n"
     ]
    }
   ],
   "source": [
    "import numpy as np\n",
    "m = np.arange(12).reshape((3,4))\n",
    "print(\"matrix m:\\n\", m)\n",
    "print(\"number of rows:\", m.shape[0])\n",
    "print(\"number of columns:\", m.shape[1], \"\\n\")\n",
    "\n",
    "for i in range(m.shape[0]):\n",
    "    print(\"line\", i, \"is:\", m[i])\n",
    "for j in range(m.shape[1]):\n",
    "    print(\"column\", j, \"is:\", m[:,j])\n",
    "    \n",
    "f = m.flatten()\n",
    "sum = 0\n",
    "for value in f:\n",
    "    sum += value\n",
    "print(\"\\n overall mean is:\", sum/len(f))"
   ]
  },
  {
   "cell_type": "markdown",
   "metadata": {},
   "source": [
    "2\\. Find the outer product of the following two vecotrs\n",
    "\n",
    "```python\n",
    "u = np.array([1,3,5,7])\n",
    "v = np.array([2,4,6,8])\n",
    "```\n",
    "\n",
    "Do this in the following ways:\n",
    "\n",
    "   * Using the function outer in numpy\n",
    "   * Using a nested for loop or list comprehension\n",
    "   * Using numpy broadcasting operatoins\n"
   ]
  },
  {
   "cell_type": "code",
   "execution_count": 2,
   "metadata": {},
   "outputs": [
    {
     "name": "stdout",
     "output_type": "stream",
     "text": [
      "[[ 2  4  6  8]\n",
      " [ 6 12 18 24]\n",
      " [10 20 30 40]\n",
      " [14 28 42 56]] \n",
      "\n",
      "[[ 2  4  6  8]\n",
      " [ 6 12 18 24]\n",
      " [10 20 30 40]\n",
      " [14 28 42 56]] \n",
      "\n",
      "[[ 2  4  6  8]\n",
      " [ 6 12 18 24]\n",
      " [10 20 30 40]\n",
      " [14 28 42 56]]\n"
     ]
    }
   ],
   "source": [
    "u = np.array([1,3,5,7])\n",
    "v = np.array([2,4,6,8])\n",
    "\n",
    "#using function outer in numpy\n",
    "out1 = np.outer(u,v)\n",
    "print(out1,\"\\n\")\n",
    "\n",
    "#using a nested for loop or list comprehension\n",
    "lst = [u[j]*v[i] for j in range(len(v)) for i in range(len(u))]\n",
    "flat = np.array(lst)\n",
    "out2 = flat.reshape(4,4)\n",
    "print(out2,\"\\n\")\n",
    "\n",
    "#using numpy broadcasting operations\n",
    "U = np.tile(np.array(u), (4,1)).T\n",
    "V = np.tile(np.array(v), (4,1))\n",
    "out3 = U*V\n",
    "print(out3)"
   ]
  },
  {
   "cell_type": "markdown",
   "metadata": {},
   "source": [
    "3\\. Create a 10 by 6 matrix of random uniform numbers. Set all rows with any entry less than 0.1 to be zero\n",
    "\n",
    "Hint: Use the following numpy functions - np.random.random, np.any as well as Boolean indexing and the axis argument."
   ]
  },
  {
   "cell_type": "code",
   "execution_count": 3,
   "metadata": {},
   "outputs": [
    {
     "name": "stdout",
     "output_type": "stream",
     "text": [
      "[[0.348 0.696 0.491 0.206 0.319 0.791]\n",
      " [0.    0.675 0.681 0.481 0.    0.258]\n",
      " [0.497 0.929 0.81  0.117 0.126 0.763]\n",
      " [0.296 0.871 0.87  0.264 0.321 0.206]\n",
      " [0.164 0.503 0.93  0.91  0.212 0.757]\n",
      " [0.449 0.564 0.622 0.439 0.447 0.   ]\n",
      " [0.918 0.731 0.189 0.    0.586 0.991]\n",
      " [0.916 0.185 0.801 0.335 0.233 0.446]\n",
      " [0.904 0.4   0.452 0.    0.46  0.782]\n",
      " [0.436 0.391 0.906 0.165 0.919 0.516]]\n"
     ]
    }
   ],
   "source": [
    "randoms = np.arange(1.0,61.0,1)\n",
    "for i in range(len(randoms)):\n",
    "    randoms[i] = \"{:.3f}\".format(np.random.random())\n",
    "    if randoms[i] < 0.1:\n",
    "        randoms[i] = 0\n",
    "matrix = randoms.reshape(10,6)\n",
    "\n",
    "print(matrix)"
   ]
  },
  {
   "cell_type": "markdown",
   "metadata": {},
   "source": [
    "4\\. Use np.linspace to create an array of 100 numbers between 0 and 2π (includsive).\n",
    "\n",
    "  * Extract every 10th element using slice notation\n",
    "  * Reverse the array using slice notation\n",
    "  * Extract elements where the absolute difference between the sine and cosine functions evaluated at that element is less than 0.1\n",
    "  * Make a plot showing the sin and cos functions and indicate where they are close"
   ]
  },
  {
   "cell_type": "code",
   "execution_count": 12,
   "metadata": {},
   "outputs": [
    {
     "name": "stdout",
     "output_type": "stream",
     "text": [
      "extract every 10th element: \n",
      " [0.57119866 1.20586385 1.84052903 2.47519421 3.10985939 3.74452458\n",
      " 4.37918976 5.01385494 5.64852012 6.28318531]\n",
      "extract elements with |sin-cos| < 0.1: \n",
      " [0.7615982190520711, 0.8250647373064104, 3.8714576135146945, 3.934924131769034]\n"
     ]
    },
    {
     "data": {
      "text/plain": [
       "[<matplotlib.lines.Line2D at 0x7f9f25f7fc10>,\n",
       " <matplotlib.lines.Line2D at 0x7f9f25f7f950>]"
      ]
     },
     "execution_count": 12,
     "metadata": {},
     "output_type": "execute_result"
    },
    {
     "data": {
      "image/png": "[encoded data removed]",
      "text/plain": [
       "<Figure size 432x288 with 1 Axes>"
      ]
     },
     "metadata": {
      "needs_background": "light"
     },
     "output_type": "display_data"
    }
   ],
   "source": [
    "from math import pi,sin,cos\n",
    "import matplotlib.pyplot as plt\n",
    "\n",
    "array = np.linspace(0,2*pi,100)\n",
    "\n",
    "el10s = array[9::10]\n",
    "print(\"extract every 10th element: \\n\", el10s)\n",
    "\n",
    "rever = array[::-1]\n",
    "\n",
    "abdif = [i for i in array if abs(sin(i)-cos(i)) < 0.1]\n",
    "print(\"extract elements with |sin-cos| < 0.1: \\n\",abdif)\n",
    "\n",
    "x = np.arange(0,2*np.pi,0.1)   # start,stop,step\n",
    "sin = np.sin(x)\n",
    "cos = np.cos(x)\n",
    "plt.plot(x,sin,x,cos)"
   ]
  },
  {
   "cell_type": "markdown",
   "metadata": {},
   "source": [
    "5\\. Create a matrix that shows the 10 by 10 multiplication table.\n",
    "\n",
    " * Find the trace of the matrix\n",
    " * Extract the anto-diagonal (this should be ```array([10, 18, 24, 28, 30, 30, 28, 24, 18, 10])```)\n",
    " * Extract the diagnoal offset by 1 upwards (this should be ```array([ 2,  6, 12, 20, 30, 42, 56, 72, 90])```)"
   ]
  },
  {
   "cell_type": "code",
   "execution_count": 15,
   "metadata": {},
   "outputs": [
    {
     "name": "stdout",
     "output_type": "stream",
     "text": [
      "10x10 multiplication table:\n",
      " [[  1   2   3   4   5   6   7   8   9  10]\n",
      " [  2   4   6   8  10  12  14  16  18  20]\n",
      " [  3   6   9  12  15  18  21  24  27  30]\n",
      " [  4   8  12  16  20  24  28  32  36  40]\n",
      " [  5  10  15  20  25  30  35  40  45  50]\n",
      " [  6  12  18  24  30  36  42  48  54  60]\n",
      " [  7  14  21  28  35  42  49  56  63  70]\n",
      " [  8  16  24  32  40  48  56  64  72  80]\n",
      " [  9  18  27  36  45  54  63  72  81  90]\n",
      " [ 10  20  30  40  50  60  70  80  90 100]] \n",
      "\n",
      "trace: 385\n",
      "anti-diagonal: [10, 18, 24, 28, 30, 30, 28, 24, 18, 10]\n",
      "offset 1 diagonal: [2, 6, 12, 20, 30, 42, 56, 72, 90]\n"
     ]
    }
   ],
   "source": [
    "a = np.arange(1,11)\n",
    "m = np.outer(a.T,a)\n",
    "print(\"10x10 multiplication table:\\n\", m, \"\\n\")\n",
    "\n",
    "trace = 0\n",
    "for i in range(len(a)):\n",
    "    for j in range(len(a)):\n",
    "        if i == j:\n",
    "            trace += m[i][j]\n",
    "print(\"trace:\", trace)\n",
    "\n",
    "anti_diag = [m[i][j] for i in reversed(range(len(a))) for j in range(len(a)) if i + j == 9]\n",
    "print(\"anti-diagonal:\", anti_diag)\n",
    "\n",
    "diag_off1 = [m[i][j] for i in range(len(a)) for j in range(len(a)) if i == j+1]\n",
    "print(\"offset 1 diagonal:\", diag_off1)"
   ]
  },
  {
   "cell_type": "markdown",
   "metadata": {},
   "source": [
    "6\\. Use broadcasting to create a grid of distances\n",
    "\n",
    "Route 66 crosses the following cities in the US: Chicago, Springfield, Saint-Louis, Tulsa, Oklahoma City, Amarillo, Santa Fe, Albuquerque, Flagstaff, Los Angeles\n",
    "The corresponding positions in miles are: 0, 198, 303, 736, 871, 1175, 1475, 1544, 1913, 2448\n",
    "\n",
    "  * Construct a 2D grid of distances among each city along Route 66\n",
    "  * Convert that in km (those savages...)"
   ]
  },
  {
   "cell_type": "code",
   "execution_count": 16,
   "metadata": {},
   "outputs": [
    {
     "name": "stdout",
     "output_type": "stream",
     "text": [
      "['chi', 'spring', 'st-lou', 'tulsa', 'okc', 'amar', 'st fe', 'albuq', 'flag', 'la']\n",
      "[[   0.   316.8  484.8 1177.6 1393.6 1880.  2360.  2470.4 3060.8 3916.8]\n",
      " [ 316.8    0.   168.   860.8 1076.8 1563.2 2043.2 2153.6 2744.  3600. ]\n",
      " [ 484.8  168.     0.   692.8  908.8 1395.2 1875.2 1985.6 2576.  3432. ]\n",
      " [1177.6  860.8  692.8    0.   216.   702.4 1182.4 1292.8 1883.2 2739.2]\n",
      " [1393.6 1076.8  908.8  216.     0.   486.4  966.4 1076.8 1667.2 2523.2]\n",
      " [1880.  1563.2 1395.2  702.4  486.4    0.   480.   590.4 1180.8 2036.8]\n",
      " [2360.  2043.2 1875.2 1182.4  966.4  480.     0.   110.4  700.8 1556.8]\n",
      " [2470.4 2153.6 1985.6 1292.8 1076.8  590.4  110.4    0.   590.4 1446.4]\n",
      " [3060.8 2744.  2576.  1883.2 1667.2 1180.8  700.8  590.4    0.   856. ]\n",
      " [3916.8 3600.  3432.  2739.2 2523.2 2036.8 1556.8 1446.4  856.     0. ]]\n"
     ]
    }
   ],
   "source": [
    "route66 = {\n",
    "  \"chi\": 0,\n",
    "  \"spring\": 198,\n",
    "  \"st-lou\": 303,\n",
    "  \"tulsa\": 736,\n",
    "  \"okc\": 871,\n",
    "  \"amar\": 1175,\n",
    "  \"st fe\": 1475,\n",
    "  \"albuq\": 1544,\n",
    "  \"flag\": 1913,\n",
    "  \"la\": 2448\n",
    "}\n",
    "\n",
    "miles = list(route66.values())\n",
    "cities = list(route66)\n",
    "Lin = np.tile(np.array(miles), (10,1))\n",
    "Col = np.tile(np.array(miles), (10,1)).T\n",
    "dist_miles = abs(Lin-Col)\n",
    "dist_km = dist_miles * 1.6 #more on less... to visualize grid better\n",
    "print(cities)\n",
    "print(dist_km)"
   ]
  },
  {
   "cell_type": "markdown",
   "metadata": {},
   "source": [
    "7\\. Prime numbers sieve: compute the prime numbers in the 0-N (N=99 to start with) range with a sieve (mask).\n",
    "  * Constract a shape (100,) boolean array, the mask\n",
    "  * Identify the multiples of each number starting from 2 and set accordingly the corresponding mask element\n",
    "  * Apply the mask to obtain an array of ordered prime numbers\n",
    "  * Check the performances (timeit); how does it scale with N?\n",
    "  * Implement the optimization suggested in the [sieve of Eratosthenes](https://en.wikipedia.org/wiki/Sieve_of_Eratosthenes)"
   ]
  },
  {
   "cell_type": "code",
   "execution_count": 16,
   "metadata": {},
   "outputs": [
    {
     "name": "stdout",
     "output_type": "stream",
     "text": [
      "boolean mask: \n",
      " [0, 1, 2, 3, 5, 7, 11, 13, 17, 19, 23, 29, 31, 37, 41, 43, 47, 53, 59, 61, 67, 71, 73, 79, 83, 89, 97]\n",
      "336 µs ± 14.7 µs per loop (mean ± std. dev. of 7 runs, 1000 loops each)\n",
      "runtime increase exponentially with the length of the array\n",
      "\n",
      "\n",
      "sieve of Eratosthenes: \n",
      " [0, 1, 2, 3, 5, 7, 11, 13, 17, 19, 23, 29, 31, 37, 41, 43, 47, 53, 59, 61, 67, 71, 73, 79, 83, 89, 97]\n",
      "158 µs ± 3.41 µs per loop (mean ± std. dev. of 7 runs, 10000 loops each)\n"
     ]
    }
   ],
   "source": [
    "#boolean mask\n",
    "def boolmask(x):\n",
    "    bool_mask = np.full(x, True, dtype = bool)\n",
    "    p = 2\n",
    "    while (p<x):\n",
    "        for n in range(p+1,x):\n",
    "            if n%p == 0:\n",
    "                bool_mask[n] = False\n",
    "        p += 1\n",
    "    primes = [i for i in range(0,100) if bool_mask[i] == True]\n",
    "    return primes\n",
    "    \n",
    "primes = boolmask(100)\n",
    "print(\"boolean mask: \\n\", primes)\n",
    "%timeit boolmask(100)\n",
    "print(\"runtime increase exponentially with the length of the array\")\n",
    "print(\"\\n\")\n",
    "\n",
    "#sieve of Eratosthenes\n",
    "def eratomask(x):\n",
    "    from math import sqrt\n",
    "    erato_mask = np.full(x, True, dtype = bool)\n",
    "    p = 2\n",
    "    while (p < sqrt(x)):\n",
    "        if erato_mask[p]==True:\n",
    "            f = 0\n",
    "            while (p**2 + f*p < 100):\n",
    "                erato_mask[p**2 + f*p] = False\n",
    "                f += 1 \n",
    "        p += 1\n",
    "    erato = [i for i in range(0,100) if erato_mask[i] == True]\n",
    "    return erato\n",
    "\n",
    "erato = eratomask(100)\n",
    "print(\"sieve of Eratosthenes: \\n\", erato)\n",
    "%timeit eratomask(100)"
   ]
  },
  {
   "cell_type": "markdown",
   "metadata": {},
   "source": [
    "**N.B. the following exercises are meant to be solved only if you are familiar with the numpy random library. If not you can skip them (postponed for one of the next exercise sessions)**\n"
   ]
  },
  {
   "cell_type": "markdown",
   "metadata": {},
   "source": [
    "8\\. Diffusion using random walk\n",
    "\n",
    "Consider a simple random walk process: at each step in time, a walker jumps right or left (+1 or -1) with equal probability. The goal is to find the typical distance from the origin of a random walker after a given amount of time. \n",
    "To do that, let's simulate many walkers and create a 2D array with each walker as a raw and the actual time evolution as columns\n",
    "\n",
    "  * Take 1000 walkers and let them walk for 200 steps\n",
    "  * Use randint to create a 2D array of size walkers x steps with values -1 or 1\n",
    "  * Build the actual walking distances for each walker (i.e. another 2D array \"summing on each raw\")\n",
    "  * Take the square of that 2D array (elementwise)\n",
    "  * Compute the mean of the squared distances at each step (i.e. the mean along the columns)\n",
    "  * Plot the average distances (sqrt(distance\\*\\*2)) as a function of time (step)\n",
    "  \n",
    "Did you get what you expected?"
   ]
  },
  {
   "cell_type": "code",
   "execution_count": 30,
   "metadata": {},
   "outputs": [
    {
     "data": {
      "image/png": "[encoded data removed]",
      "text/plain": [
       "<Figure size 432x288 with 1 Axes>"
      ]
     },
     "metadata": {
      "needs_background": "light"
     },
     "output_type": "display_data"
    }
   ],
   "source": [
    "import numpy as np\n",
    "import matplotlib.pyplot as plt\n",
    "\n",
    "def random_walkers(walkers, steps):\n",
    "    walk0 = np.random.randint(-1, 1, size=(walkers, steps))\n",
    "    walk1 = np.where(walk0==0, 1, walk0) #substitute 0 with 1\n",
    "    walks = np.zeros((walkers, steps))\n",
    "    for i in range(steps):\n",
    "        walks[:,i] = walk1[:,:i].sum(axis = 1) #sum\n",
    "    return walks\n",
    "\n",
    "walks = random_walkers(1000, 200)\n",
    "walks_sq = np.square(walks)\n",
    "std_dev = np.sqrt(walks_sq.mean(axis = 0))\n",
    "\n",
    "time = np.linspace(1, 200, 200)\n",
    "plt.plot(time, std_dev)\n",
    "plt.show()"
   ]
  },
  {
   "cell_type": "markdown",
   "metadata": {},
   "source": [
    "9\\. Analyze a data file \n",
    "  * Download the population of hares, lynxes and carrots at the beginning of the last century.\n",
    "    ```python\n",
    "    ! wget https://www.dropbox.com/s/3vigxoqayo389uc/populations.txt\n",
    "    ```\n",
    "\n",
    "  * Check the content by looking within the file\n",
    "  * Load the data (use an appropriate numpy method) into a 2D array\n",
    "  * Create arrays out of the columns, the arrays being (in order): *year*, *hares*, *lynxes*, *carrots* \n",
    "  * Plot the 3 populations over the years\n",
    "  * Compute the main statistical properties of the dataset (mean, std, correlations, etc.)\n",
    "  * Which species has the highest population each year?\n",
    "\n",
    "Do you feel there is some evident correlation here? [Studies](https://www.enr.gov.nt.ca/en/services/lynx/lynx-snowshoe-hare-cycle) tend to believe so."
   ]
  },
  {
   "cell_type": "code",
   "execution_count": 31,
   "metadata": {},
   "outputs": [
    {
     "name": "stdout",
     "output_type": "stream",
     "text": [
      "--2021-12-14 21:11:53--  https://www.dropbox.com/s/3vigxoqayo389uc/populations.txt\n",
      "Risoluzione di www.dropbox.com (www.dropbox.com)... 2620:100:6025:18::a27d:4512, 162.125.69.18\n",
      "Connessione a www.dropbox.com (www.dropbox.com)|2620:100:6025:18::a27d:4512|:443... connesso.\n",
      "Richiesta HTTP inviata, in attesa di risposta... 301 Moved Permanently\n",
      "Posizione: /s/raw/3vigxoqayo389uc/populations.txt [segue]\n",
      "--2021-12-14 21:11:53--  https://www.dropbox.com/s/raw/3vigxoqayo389uc/populations.txt\n",
      "Riutilizzo della connessione esistente a [www.dropbox.com]:443.\n",
      "Richiesta HTTP inviata, in attesa di risposta... 302 Found\n",
      "Posizione: https://ucde6ae109b326c0d945d1a8f23b.dl.dropboxusercontent.com/cd/0/inline/Bb2DuXvIhLuqhGZYD6MqESLu3pqcRR8Z1LINi3xL-FBWmlFVKxY1CXF_6v_DgMaiapR14KAHjxzb-Z_EIiBKDiN-zH8qwdoGreCWS4rB1JZaosRPIZQ5hba1vNhS9NVdC03MTX24X6ZahbB62Uj43C5x/file# [segue]\n",
      "--2021-12-14 21:11:53--  https://ucde6ae109b326c0d945d1a8f23b.dl.dropboxusercontent.com/cd/0/inline/Bb2DuXvIhLuqhGZYD6MqESLu3pqcRR8Z1LINi3xL-FBWmlFVKxY1CXF_6v_DgMaiapR14KAHjxzb-Z_EIiBKDiN-zH8qwdoGreCWS4rB1JZaosRPIZQ5hba1vNhS9NVdC03MTX24X6ZahbB62Uj43C5x/file\n",
      "Risoluzione di ucde6ae109b326c0d945d1a8f23b.dl.dropboxusercontent.com (ucde6ae109b326c0d945d1a8f23b.dl.dropboxusercontent.com)... 2620:100:6025:15::a27d:450f, 162.125.69.15\n",
      "Connessione a ucde6ae109b326c0d945d1a8f23b.dl.dropboxusercontent.com (ucde6ae109b326c0d945d1a8f23b.dl.dropboxusercontent.com)|2620:100:6025:15::a27d:450f|:443... connesso.\n",
      "Richiesta HTTP inviata, in attesa di risposta... 200 OK\n",
      "Lunghezza: 525 [text/plain]\n",
      "Salvataggio in: \"populations.txt.1\"\n",
      "\n",
      "populations.txt.1   100%[===================>]     525  --.-KB/s    in 0s      \n",
      "\n",
      "2021-12-14 21:11:54 (63,8 MB/s) - \"populations.txt.1\" salvato [525/525]\n",
      "\n"
     ]
    }
   ],
   "source": [
    "    ! wget https://www.dropbox.com/s/3vigxoqayo389uc/populations.txt\n"
   ]
  },
  {
   "cell_type": "code",
   "execution_count": 51,
   "metadata": {},
   "outputs": [
    {
     "name": "stdout",
     "output_type": "stream",
     "text": [
      "['year', 'hare', 'lynx', 'carrot']\n",
      "[ 1900. 30000.  4000. 48300.]\n",
      "[ 1901. 47200.  6100. 48200.]\n",
      "[ 1902. 70200.  9800. 41500.]\n",
      "[ 1903. 77400. 35200. 38200.]\n",
      "[ 1904. 36300. 59400. 40600.]\n",
      "[ 1905. 20600. 41700. 39800.]\n",
      "[ 1906. 18100. 19000. 38600.]\n",
      "[ 1907. 21400. 13000. 42300.]\n",
      "[ 1908. 22000.  8300. 44500.]\n",
      "[ 1909. 25400.  9100. 42100.]\n",
      "[ 1910. 27100.  7400. 46000.]\n",
      "[ 1911. 40300.  8000. 46800.]\n",
      "[ 1912. 57000. 12300. 43800.]\n",
      "[ 1913. 76600. 19500. 40900.]\n",
      "[ 1914. 52300. 45700. 39400.]\n",
      "[ 1915. 19500. 51100. 39000.]\n",
      "[ 1916. 11200. 29700. 36700.]\n",
      "[ 1917.  7600. 15800. 41800.]\n",
      "[ 1918. 14600.  9700. 43300.]\n",
      "[ 1919. 16200. 10100. 41300.]\n",
      "[ 1920. 24700.  8600. 47300.]\n"
     ]
    }
   ],
   "source": [
    "#load file with numpy method loadtxt and print it\n",
    "file = np.loadtxt('populations.txt')\n",
    "index = ['year', 'hare', 'lynx', 'carrot']\n",
    "print(index)\n",
    "for line in file:\n",
    "    print(line)"
   ]
  },
  {
   "cell_type": "code",
   "execution_count": 54,
   "metadata": {},
   "outputs": [],
   "source": [
    "#arrays of columns\n",
    "years = []\n",
    "hares = []\n",
    "lynxes = []\n",
    "carrots = []\n",
    "\n",
    "for line in file:\n",
    "    years.append(line[0])\n",
    "    hares.append(line[1])\n",
    "    lynxes.append(line[2])\n",
    "    carrots.append(line[3])  "
   ]
  },
  {
   "cell_type": "code",
   "execution_count": 55,
   "metadata": {},
   "outputs": [
    {
     "data": {
      "image/png": "[encoded data removed]",
      "text/plain": [
       "<Figure size 432x288 with 1 Axes>"
      ]
     },
     "metadata": {
      "needs_background": "light"
     },
     "output_type": "display_data"
    }
   ],
   "source": [
    "#plot populations over years\n",
    "plt.plot(years, hares, label='hares')\n",
    "plt.plot(years, lynxes, label='lynxes')\n",
    "plt.plot(years, carrots, label='carrots')\n",
    "plt.xlabel('year')\n",
    "plt.ylabel('population')\n",
    "plt.legend()\n",
    "plt.show()"
   ]
  },
  {
   "cell_type": "code",
   "execution_count": 60,
   "metadata": {},
   "outputs": [
    {
     "name": "stdout",
     "output_type": "stream",
     "text": [
      "hares: mean 34080.95238095238 , std-dev 20897.906458089667 , median 25400.0\n",
      "lynxes: mean 20166.666666666668 , std-dev 16254.591536908763 , median 12300.0\n",
      "carrots: mean 42400.0 , std-dev 3322.5062255844787 , median 41800.0\n"
     ]
    }
   ],
   "source": [
    "#main statistical properties (mean, std, correlations, median) of the dataset\n",
    "mean_hares = np.mean(hares)\n",
    "mean_lynxes = np.mean(lynxes)\n",
    "mean_carrots = np.mean(carrots)\n",
    "\n",
    "std_hares = np.std(hares)\n",
    "std_lynxes = np.std(lynxes)\n",
    "std_carrots = np.std(carrots)\n",
    "\n",
    "rho_hares = np.corrcoef(hares)\n",
    "rho_lynxes = np.corrcoef(lynxes)\n",
    "rho_carrots = np.corrcoef(carrots)\n",
    "\n",
    "med_hares = np.median(hares)\n",
    "med_lynxes = np.median(lynxes)\n",
    "med_carrots = np.median(carrots)\n",
    "\n",
    "print('hares: mean', mean_hares, ', std-dev', std_hares, ', median', med_hares)\n",
    "print('lynxes: mean', mean_lynxes, ', std-dev', std_lynxes, ', median', med_lynxes)\n",
    "print('carrots: mean', mean_carrots, ', std-dev', std_carrots, ', median', med_carrots)"
   ]
  },
  {
   "cell_type": "code",
   "execution_count": 67,
   "metadata": {},
   "outputs": [
    {
     "name": "stdout",
     "output_type": "stream",
     "text": [
      "year 1900 : carrots wins with 48300\n",
      "year 1901 : carrots wins with 48200\n",
      "year 1902 : hares wins with 70200\n",
      "year 1903 : hares wins with 77400\n",
      "year 1904 : lynxes wins with 59400\n",
      "year 1905 : lynxes wins with 41700\n",
      "year 1906 : carrots wins with 38600\n",
      "year 1907 : carrots wins with 42300\n",
      "year 1908 : carrots wins with 44500\n",
      "year 1909 : carrots wins with 42100\n",
      "year 1910 : carrots wins with 46000\n",
      "year 1911 : carrots wins with 46800\n",
      "year 1912 : hares wins with 57000\n",
      "year 1913 : hares wins with 76600\n",
      "year 1914 : hares wins with 52300\n",
      "year 1915 : lynxes wins with 51100\n",
      "year 1916 : carrots wins with 36700\n",
      "year 1917 : carrots wins with 41800\n",
      "year 1918 : carrots wins with 43300\n",
      "year 1919 : carrots wins with 41300\n",
      "year 1920 : carrots wins with 47300\n"
     ]
    }
   ],
   "source": [
    "#highest population for each year\n",
    "i = 0\n",
    "for year in years:\n",
    "    if hares[i]>lynxes[i] and hares[i]>carrots[i]:\n",
    "        name = 'hares'\n",
    "        value = hares[i]\n",
    "        i += 1\n",
    "    elif lynxes[i]>hares[i] and lynxes[i]>carrots[i]:\n",
    "        name = 'lynxes'\n",
    "        value = lynxes[i]\n",
    "        i += 1\n",
    "    elif carrots[i]>lynxes[i] and carrots[i]>hares[i]:\n",
    "        name = 'carrots'\n",
    "        value = carrots[i]\n",
    "        i += 1\n",
    "    print('year', int(year), ':', name, 'wins with', int(value))"
   ]
  },
  {
   "cell_type": "code",
   "execution_count": null,
   "metadata": {},
   "outputs": [],
   "source": []
  }
 ],
 "metadata": {
  "kernelspec": {
   "display_name": "Python 3",
   "language": "python",
   "name": "python3"
  },
  "language_info": {
   "codemirror_mode": {
    "name": "ipython",
    "version": 3
   },
   "file_extension": ".py",
   "mimetype": "text/x-python",
   "name": "python",
   "nbconvert_exporter": "python",
   "pygments_lexer": "ipython3",
   "version": "3.7.6"
  }
 },
 "nbformat": 4,
 "nbformat_minor": 2
}
