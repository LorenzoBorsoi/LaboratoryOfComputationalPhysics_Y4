{
 "cells": [
  {
   "cell_type": "markdown",
   "metadata": {},
   "source": [
    "### Numpy basics"
   ]
  },
  {
   "cell_type": "code",
   "execution_count": 104,
   "metadata": {},
   "outputs": [],
   "source": [
    "%matplotlib inline\n",
    "import numpy as np\n",
    "import math\n",
    "import matplotlib.pyplot as plt"
   ]
  },
  {
   "cell_type": "markdown",
   "metadata": {},
   "source": [
    "1\\. Find the row, column and overall means for the following matrix:\n",
    "\n",
    "```python\n",
    "m = np.arange(12).reshape((3,4))\n",
    "```"
   ]
  },
  {
   "cell_type": "code",
   "execution_count": 13,
   "metadata": {},
   "outputs": [
    {
     "name": "stdout",
     "output_type": "stream",
     "text": [
      "[[ 0  1  2  3]\n",
      " [ 4  5  6  7]\n",
      " [ 8  9 10 11]]\n",
      "\n",
      " Row Mean:\n",
      "1.5\n",
      "5.5\n",
      "9.5\n",
      "\n",
      " Columns Mean:\n",
      "4.0\n",
      "5.0\n",
      "6.0\n",
      "7.0\n",
      "\n",
      " Overall Mean:\n",
      "5.5\n"
     ]
    }
   ],
   "source": [
    "m = np.arange(12).reshape((3,4))\n",
    "\n",
    "print('\\n Row Mean:')\n",
    "for i in range(m.shape[0]): print(m[i,:].mean())\n",
    "print('\\n Columns Mean:')\n",
    "for i in range(m.shape[1]): print(m[:,i].mean())\n",
    "print('\\n Overall Mean:')\n",
    "print(m.mean())"
   ]
  },
  {
   "cell_type": "markdown",
   "metadata": {},
   "source": [
    "2\\. Find the outer product of the following two vecotrs\n",
    "\n",
    "```python\n",
    "u = np.array([1,3,5,7])\n",
    "v = np.array([2,4,6,8])\n",
    "```\n",
    "\n",
    "Do this in the following ways:\n",
    "\n",
    "   * Using the function outer in numpy\n",
    "   * Using a nested for loop or list comprehension\n",
    "   * Using numpy broadcasting operatoins\n"
   ]
  },
  {
   "cell_type": "code",
   "execution_count": 32,
   "metadata": {},
   "outputs": [
    {
     "name": "stdout",
     "output_type": "stream",
     "text": [
      "[[ 2  4  6  8]\n",
      " [ 6 12 18 24]\n",
      " [10 20 30 40]\n",
      " [14 28 42 56]] \n",
      "\n",
      "[[ 2  4  6  8]\n",
      " [ 6 12 18 24]\n",
      " [10 20 30 40]\n",
      " [14 28 42 56]] \n",
      "\n",
      "[[ 2  4  6  8]\n",
      " [ 6 12 18 24]\n",
      " [10 20 30 40]\n",
      " [14 28 42 56]]\n"
     ]
    }
   ],
   "source": [
    "# np.outer function:\n",
    "u = np.array([1,3,5,7])\n",
    "v = np.array([2,4,6,8])\n",
    "z = np.outer(u,v)\n",
    "print(z,'\\n')\n",
    "\n",
    "# List comprehension:\n",
    "z=[[x*y for x in v] for y in u]\n",
    "z=np.array(z)\n",
    "print(z,'\\n')\n",
    "\n",
    "# Broadcasting operation:\n",
    "u=u.reshape(4,1)\n",
    "z = u*v\n",
    "print(z)"
   ]
  },
  {
   "cell_type": "markdown",
   "metadata": {},
   "source": [
    "3\\. Create a 10 by 6 matrix of random uniform numbers. Set all rows with any entry less than 0.1 to be zero\n",
    "\n",
    "Hint: Use the following numpy functions - np.random.random, np.any as well as Boolean indexing and the axis argument."
   ]
  },
  {
   "cell_type": "code",
   "execution_count": 90,
   "metadata": {},
   "outputs": [
    {
     "name": "stdout",
     "output_type": "stream",
     "text": [
      "[[0.         0.         0.         0.         0.         0.        ]\n",
      " [0.         0.         0.         0.         0.         0.        ]\n",
      " [0.50592079 0.41363613 0.34740397 0.01507506 0.69028081 0.69108543]\n",
      " [0.32015829 0.71452612 0.19965887 0.10878786 0.70607932 0.0987818 ]\n",
      " [0.         0.         0.         0.         0.         0.        ]\n",
      " [0.34714368 0.02111823 0.05488085 0.5599579  0.49790231 0.23937041]\n",
      " [0.         0.         0.         0.         0.         0.        ]\n",
      " [0.         0.         0.         0.         0.         0.        ]\n",
      " [0.         0.         0.         0.         0.         0.        ]\n",
      " [0.08391478 0.64470999 0.56502089 0.21595784 0.40920954 0.38026172]]\n"
     ]
    }
   ],
   "source": [
    "a=np.random.random((10,6))\n",
    "mask=(a<0.1)\n",
    "for i in range(a.shape[0]):\n",
    "    if mask[i,:].any()==True:\n",
    "        pass\n",
    "    else:\n",
    "        a[i,:]=0\n",
    "print(a)"
   ]
  },
  {
   "cell_type": "markdown",
   "metadata": {},
   "source": [
    "4\\. Use np.linspace to create an array of 100 numbers between 0 and 2π (includsive).\n",
    "\n",
    "  * Extract every 10th element using slice notation\n",
    "  * Reverse the array using slice notation\n",
    "  * Extract elements where the absolute difference between the sine and cosine functions evaluated at that element is less than 0.1\n",
    "  * Make a plot showing the sin and cos functions and indicate where they are close"
   ]
  },
  {
   "cell_type": "code",
   "execution_count": 121,
   "metadata": {},
   "outputs": [
    {
     "data": {
      "image/png": "[encoded data removed]",
      "text/plain": [
       "<Figure size 432x288 with 1 Axes>"
      ]
     },
     "metadata": {
      "needs_background": "light"
     },
     "output_type": "display_data"
    }
   ],
   "source": [
    "vec=np.linspace(0,2*math.pi,100)\n",
    "# Extract every 10th element using slice notation\n",
    "print(vec[::10],'\\n')\n",
    "\n",
    "# Reverse the array using slice notation\n",
    "print(vec[::-1],'\\n')\n",
    "\n",
    "# Extract elements where the absolute difference between the sine and cosine \n",
    "# functions evaluated at that element is less than 0.1\n",
    "vec_mask=vec[np.abs(np.sin(vec)-np.cos(vec))<0.1]\n",
    "print(vec_mask)\n",
    "\n",
    "#Make a plot showing the sin and cos functions and indicate where they are close\n",
    "plt.plot(vec, np.sin(vec),'b-')\n",
    "plt.plot(vec, np.cos(vec),'b-')\n",
    "plt.plot(vec_mask, np.sin(vec_mask), 'r.' )\n",
    "plt.plot(vec_mask, np.cos(vec_mask), 'r.' )\n",
    "plt.show()\n"
   ]
  },
  {
   "cell_type": "markdown",
   "metadata": {},
   "source": [
    "5\\. Create a matrix that shows the 10 by 10 multiplication table.\n",
    "\n",
    " * Find the trace of the matrix\n",
    " * Extract the anto-diagonal (this should be ```array([10, 18, 24, 28, 30, 30, 28, 24, 18, 10])```)\n",
    " * Extract the diagnoal offset by 1 upwards (this should be ```array([ 2,  6, 12, 20, 30, 42, 56, 72, 90])```)"
   ]
  },
  {
   "cell_type": "code",
   "execution_count": 147,
   "metadata": {},
   "outputs": [
    {
     "name": "stdout",
     "output_type": "stream",
     "text": [
      "[[  1   2   3   4   5   6   7   8   9  10]\n",
      " [  2   4   6   8  10  12  14  16  18  20]\n",
      " [  3   6   9  12  15  18  21  24  27  30]\n",
      " [  4   8  12  16  20  24  28  32  36  40]\n",
      " [  5  10  15  20  25  30  35  40  45  50]\n",
      " [  6  12  18  24  30  36  42  48  54  60]\n",
      " [  7  14  21  28  35  42  49  56  63  70]\n",
      " [  8  16  24  32  40  48  56  64  72  80]\n",
      " [  9  18  27  36  45  54  63  72  81  90]\n",
      " [ 10  20  30  40  50  60  70  80  90 100]]\n",
      "\n",
      "trace: 385\n",
      "[[100  90  80  70  60  50  40  30  20  10]\n",
      " [ 90  81  72  63  54  45  36  27  18   9]\n",
      " [ 80  72  64  56  48  40  32  24  16   8]\n",
      " [ 70  63  56  49  42  35  28  21  14   7]\n",
      " [ 60  54  48  42  36  30  24  18  12   6]\n",
      " [ 50  45  40  35  30  25  20  15  10   5]\n",
      " [ 40  36  32  28  24  20  16  12   8   4]\n",
      " [ 30  27  24  21  18  15  12   9   6   3]\n",
      " [ 20  18  16  14  12  10   8   6   4   2]\n",
      " [ 10   9   8   7   6   5   4   3   2   1]]\n"
     ]
    }
   ],
   "source": [
    "mult=np.array([[x*y for x in range(1,11)]for y in range(1,11)])\n",
    "print(mult)\n",
    "print('\\ntrace:',np.trace(mult))\n",
    "\n",
    "print(mult[::-1,::-1])"
   ]
  },
  {
   "cell_type": "markdown",
   "metadata": {},
   "source": [
    "6\\. Use broadcasting to create a grid of distances\n",
    "\n",
    "Route 66 crosses the following cities in the US: Chicago, Springfield, Saint-Louis, Tulsa, Oklahoma City, Amarillo, Santa Fe, Albuquerque, Flagstaff, Los Angeles\n",
    "The corresponding positions in miles are: 0, 198, 303, 736, 871, 1175, 1475, 1544, 1913, 2448\n",
    "\n",
    "  * Construct a 2D grid of distances among each city along Route 66\n",
    "  * Convert that in km (those savages...)"
   ]
  },
  {
   "cell_type": "markdown",
   "metadata": {},
   "source": [
    "7\\. Prime numbers sieve: compute the prime numbers in the 0-N (N=99 to start with) range with a sieve (mask).\n",
    "  * Constract a shape (100,) boolean array, the mask\n",
    "  * Identify the multiples of each number starting from 2 and set accordingly the corresponding mask element\n",
    "  * Apply the mask to obtain an array of ordered prime numbers\n",
    "  * Check the performances (timeit); how does it scale with N?\n",
    "  * Implement the optimization suggested in the [sieve of Eratosthenes](https://en.wikipedia.org/wiki/Sieve_of_Eratosthenes)"
   ]
  },
  {
   "cell_type": "markdown",
   "metadata": {},
   "source": [
    "**N.B. the following exercises are meant to be solved only if you are familiar with the numpy random library. If not you can skip them (postponed for one of the next exercise sessions)**\n"
   ]
  },
  {
   "cell_type": "markdown",
   "metadata": {},
   "source": [
    "8\\. Diffusion using random walk\n",
    "\n",
    "Consider a simple random walk process: at each step in time, a walker jumps right or left (+1 or -1) with equal probability. The goal is to find the typical distance from the origin of a random walker after a given amount of time. \n",
    "To do that, let's simulate many walkers and create a 2D array with each walker as a raw and the actual time evolution as columns\n",
    "\n",
    "  * Take 1000 walkers and let them walk for 200 steps\n",
    "  * Use randint to create a 2D array of size walkers x steps with values -1 or 1\n",
    "  * Build the actual walking distances for each walker (i.e. another 2D array \"summing on each raw\")\n",
    "  * Take the square of that 2D array (elementwise)\n",
    "  * Compute the mean of the squared distances at each step (i.e. the mean along the columns)\n",
    "  * Plot the average distances (sqrt(distance\\*\\*2)) as a function of time (step)\n",
    "  \n",
    "Did you get what you expected?"
   ]
  },
  {
   "cell_type": "markdown",
   "metadata": {},
   "source": [
    "9\\. Analyze a data file \n",
    "  * Download the population of hares, lynxes and carrots at the beginning of the last century.\n",
    "    ```python\n",
    "    ! wget https://www.dropbox.com/s/3vigxoqayo389uc/populations.txt\n",
    "    ```\n",
    "\n",
    "  * Check the content by looking within the file\n",
    "  * Load the data (use an appropriate numpy method) into a 2D array\n",
    "  * Create arrays out of the columns, the arrays being (in order): *year*, *hares*, *lynxes*, *carrots* \n",
    "  * Plot the 3 populations over the years\n",
    "  * Compute the main statistical properties of the dataset (mean, std, correlations, etc.)\n",
    "  * Which species has the highest population each year?\n",
    "\n",
    "Do you feel there is some evident correlation here? [Studies](https://www.enr.gov.nt.ca/en/services/lynx/lynx-snowshoe-hare-cycle) tend to believe so."
   ]
  },
  {
   "cell_type": "code",
   "execution_count": null,
   "metadata": {},
   "outputs": [],
   "source": []
  }
 ],
 "metadata": {
  "kernelspec": {
   "display_name": "Python 3",
   "language": "python",
   "name": "python3"
  },
  "language_info": {
   "codemirror_mode": {
    "name": "ipython",
    "version": 3
   },
   "file_extension": ".py",
   "mimetype": "text/x-python",
   "name": "python",
   "nbconvert_exporter": "python",
   "pygments_lexer": "ipython3",
   "version": "3.8.10"
  }
 },
 "nbformat": 4,
 "nbformat_minor": 2
}
