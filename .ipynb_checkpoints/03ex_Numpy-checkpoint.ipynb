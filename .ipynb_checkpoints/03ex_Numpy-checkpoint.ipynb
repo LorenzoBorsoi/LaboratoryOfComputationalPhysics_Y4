{
 "cells": [
  {
   "cell_type": "markdown",
   "metadata": {},
   "source": [
    "### Numpy basics"
   ]
  },
  {
   "cell_type": "code",
   "execution_count": 3,
   "metadata": {},
   "outputs": [],
   "source": [
    "import numpy as np\n",
    "import math as ma\n",
    "import matplotlib.pyplot as plt"
   ]
  },
  {
   "cell_type": "markdown",
   "metadata": {},
   "source": [
    "1\\. Find the row, column and overall means for the following matrix:\n",
    "\n",
    "```python\n",
    "m = np.arange(12).reshape((3,4))\n",
    "```"
   ]
  },
  {
   "cell_type": "code",
   "execution_count": 2,
   "metadata": {},
   "outputs": [
    {
     "name": "stdout",
     "output_type": "stream",
     "text": [
      "[[ 0  1  2  3]\n",
      " [ 4  5  6  7]\n",
      " [ 8  9 10 11]] \n",
      "\n",
      "The mean of the row [0 1 2 3] is: 1.5\n",
      "The mean of the row [4 5 6 7] is: 5.5\n",
      "The mean of the row [ 8  9 10 11] is: 9.5\n",
      "\n",
      "\n",
      "The mean of the column [0 4 8] is: 4.0\n",
      "The mean of the column [1 5 9] is: 5.0\n",
      "The mean of the column [ 2  6 10] is: 6.0\n",
      "The mean of the column [ 3  7 11] is: 7.0\n",
      "\n",
      "\n",
      "The overall mean is: 5.5\n"
     ]
    }
   ],
   "source": [
    "m = np.arange(12).reshape((3,4))\n",
    "print(m, \"\\n\")\n",
    "\n",
    "for i in range(m.shape[0]):\n",
    "    print(\"The mean of the row {} is: {}\".format( m[i,:], m[i,:].mean()))\n",
    "    \n",
    "print(\"\\n\")\n",
    "\n",
    "for i in range(m.shape[1]):\n",
    "    print(\"The mean of the column {} is: {}\".format( m[:,i], m[:,i].mean()))\n",
    "    \n",
    "print(\"\\n\")\n",
    "    \n",
    "print(\"The overall mean is: {}\".format(m.mean()))"
   ]
  },
  {
   "cell_type": "markdown",
   "metadata": {},
   "source": [
    "2\\. Find the outer product of the following two vecotrs\n",
    "\n",
    "```python\n",
    "u = np.array([1,3,5,7])\n",
    "v = np.array([2,4,6,8])\n",
    "```\n",
    "\n",
    "Do this in the following ways:\n",
    "\n",
    "   * Using the function outer in numpy\n",
    "   * Using a nested for loop or list comprehension\n",
    "   * Using numpy broadcasting operatoins\n"
   ]
  },
  {
   "cell_type": "code",
   "execution_count": 3,
   "metadata": {},
   "outputs": [
    {
     "name": "stdout",
     "output_type": "stream",
     "text": [
      "Using the function outer: \n",
      " [[ 2  4  6  8]\n",
      " [ 6 12 18 24]\n",
      " [10 20 30 40]\n",
      " [14 28 42 56]] \n",
      "\n",
      "Using a nested for loop or list comprehension: \n",
      " [[ 2  4  6  8]\n",
      " [ 6 12 18 24]\n",
      " [10 20 30 40]\n",
      " [14 28 42 56]] \n",
      "\n",
      "Using numpy broadcasting operatoins: \n",
      " [[ 2  4  6  8]\n",
      " [ 6 12 18 24]\n",
      " [10 20 30 40]\n",
      " [14 28 42 56]] \n",
      "\n"
     ]
    }
   ],
   "source": [
    "u = np.array([1,3,5,7])\n",
    "v = np.array([2,4,6,8])\n",
    "\n",
    "#a) Using the function outer\n",
    "\n",
    "a=np.outer(u,v)\n",
    "print(\"Using the function outer: \\n {} \\n\".format(a))\n",
    "\n",
    "#b) Using a nested for loop or list comprehension\n",
    "\n",
    "b=np.array([u[iu]*v[iv] for iu in range(len(u)) for iv in range(len(v))])\n",
    "print(\"Using a nested for loop or list comprehension: \\n {} \\n\".format(b.reshape(4,4)))\n",
    "\n",
    "\n",
    "#c) Using numpy broadcasting operatoins\n",
    "\n",
    "c=np.tile(u, (4,1)).T\n",
    "print(\"Using numpy broadcasting operatoins: \\n {} \\n\".format(c*v))\n",
    "\n",
    "\n"
   ]
  },
  {
   "cell_type": "markdown",
   "metadata": {},
   "source": [
    "3\\. Create a 10 by 6 matrix of random uniform numbers. Set all rows with any entry less than 0.1 to be zero\n",
    "\n",
    "Hint: Use the following numpy functions - np.random.random, np.any as well as Boolean indexing and the axis argument."
   ]
  },
  {
   "cell_type": "code",
   "execution_count": 4,
   "metadata": {},
   "outputs": [
    {
     "name": "stdout",
     "output_type": "stream",
     "text": [
      "10 by 6 matrix of random uniform numbers: \n",
      " [[0.92954788 0.41166171 0.3609324  0.8057837  0.78295977 0.30986069]\n",
      " [0.76709832 0.83520097 0.69208922 0.67203132 0.56955987 0.04263292]\n",
      " [0.46763725 0.89053584 0.06445492 0.16669243 0.44567601 0.37148923]\n",
      " [0.15022266 0.30609143 0.07731639 0.31138892 0.05974683 0.41908951]\n",
      " [0.38201812 0.36052739 0.36442492 0.83885637 0.65125511 0.14499972]\n",
      " [0.80601544 0.70708652 0.07119071 0.00873208 0.97330422 0.18493383]\n",
      " [0.34591914 0.27232214 0.1243109  0.89428543 0.2129218  0.9858259 ]\n",
      " [0.85413497 0.80855157 0.96252341 0.39458947 0.65344245 0.72373665]\n",
      " [0.27689934 0.32817261 0.88505314 0.50804776 0.33559324 0.42582681]\n",
      " [0.72221985 0.49635624 0.88069298 0.52363994 0.10086801 0.03802316]] \n",
      "\n",
      "Setting all rows with any entry less than 0.1 to be zero: \n",
      " [[0.92954788 0.41166171 0.3609324  0.8057837  0.78295977 0.30986069]\n",
      " [0.         0.         0.         0.         0.         0.        ]\n",
      " [0.         0.         0.         0.         0.         0.        ]\n",
      " [0.         0.         0.         0.         0.         0.        ]\n",
      " [0.38201812 0.36052739 0.36442492 0.83885637 0.65125511 0.14499972]\n",
      " [0.         0.         0.         0.         0.         0.        ]\n",
      " [0.34591914 0.27232214 0.1243109  0.89428543 0.2129218  0.9858259 ]\n",
      " [0.85413497 0.80855157 0.96252341 0.39458947 0.65344245 0.72373665]\n",
      " [0.27689934 0.32817261 0.88505314 0.50804776 0.33559324 0.42582681]\n",
      " [0.         0.         0.         0.         0.         0.        ]] \n",
      "\n"
     ]
    }
   ],
   "source": [
    "m=np.random.random((10,6))\n",
    "print(\"10 by 6 matrix of random uniform numbers: \\n {} \\n\".format(m))\n",
    "m[np.any(abs(m) < 0.1, axis=1)]=0    \n",
    "print(\"Setting all rows with any entry less than 0.1 to be zero: \\n {} \\n\".format(m))"
   ]
  },
  {
   "cell_type": "markdown",
   "metadata": {},
   "source": [
    "4\\. Use np.linspace to create an array of 100 numbers between 0 and 2π (includsive).\n",
    "\n",
    "  * Extract every 10th element using slice notation\n",
    "  * Reverse the array using slice notation\n",
    "  * Extract elements where the absolute difference between the sine and cosine functions evaluated at that element is less than 0.1\n",
    "  * Make a plot showing the sin and cos functions and indicate where they are close"
   ]
  },
  {
   "cell_type": "code",
   "execution_count": 5,
   "metadata": {},
   "outputs": [
    {
     "name": "stdout",
     "output_type": "stream",
     "text": [
      "Array of 100 numbers between 0 and 2π: \n",
      " [0.         0.06346652 0.12693304 0.19039955 0.25386607 0.31733259\n",
      " 0.38079911 0.44426563 0.50773215 0.57119866 0.63466518 0.6981317\n",
      " 0.76159822 0.82506474 0.88853126 0.95199777 1.01546429 1.07893081\n",
      " 1.14239733 1.20586385 1.26933037 1.33279688 1.3962634  1.45972992\n",
      " 1.52319644 1.58666296 1.65012947 1.71359599 1.77706251 1.84052903\n",
      " 1.90399555 1.96746207 2.03092858 2.0943951  2.15786162 2.22132814\n",
      " 2.28479466 2.34826118 2.41172769 2.47519421 2.53866073 2.60212725\n",
      " 2.66559377 2.72906028 2.7925268  2.85599332 2.91945984 2.98292636\n",
      " 3.04639288 3.10985939 3.17332591 3.23679243 3.30025895 3.36372547\n",
      " 3.42719199 3.4906585  3.55412502 3.61759154 3.68105806 3.74452458\n",
      " 3.8079911  3.87145761 3.93492413 3.99839065 4.06185717 4.12532369\n",
      " 4.1887902  4.25225672 4.31572324 4.37918976 4.44265628 4.5061228\n",
      " 4.56958931 4.63305583 4.69652235 4.75998887 4.82345539 4.88692191\n",
      " 4.95038842 5.01385494 5.07732146 5.14078798 5.2042545  5.26772102\n",
      " 5.33118753 5.39465405 5.45812057 5.52158709 5.58505361 5.64852012\n",
      " 5.71198664 5.77545316 5.83891968 5.9023862  5.96585272 6.02931923\n",
      " 6.09278575 6.15625227 6.21971879 6.28318531] \n",
      "\n",
      "Extract every 10th element: \n",
      " [0.         0.63466518 1.26933037 1.90399555 2.53866073 3.17332591\n",
      " 3.8079911  4.44265628 5.07732146 5.71198664] \n",
      "\n",
      "Reverse the array : \n",
      " [6.28318531 6.21971879 6.15625227 6.09278575 6.02931923 5.96585272\n",
      " 5.9023862  5.83891968 5.77545316 5.71198664 5.64852012 5.58505361\n",
      " 5.52158709 5.45812057 5.39465405 5.33118753 5.26772102 5.2042545\n",
      " 5.14078798 5.07732146 5.01385494 4.95038842 4.88692191 4.82345539\n",
      " 4.75998887 4.69652235 4.63305583 4.56958931 4.5061228  4.44265628\n",
      " 4.37918976 4.31572324 4.25225672 4.1887902  4.12532369 4.06185717\n",
      " 3.99839065 3.93492413 3.87145761 3.8079911  3.74452458 3.68105806\n",
      " 3.61759154 3.55412502 3.4906585  3.42719199 3.36372547 3.30025895\n",
      " 3.23679243 3.17332591 3.10985939 3.04639288 2.98292636 2.91945984\n",
      " 2.85599332 2.7925268  2.72906028 2.66559377 2.60212725 2.53866073\n",
      " 2.47519421 2.41172769 2.34826118 2.28479466 2.22132814 2.15786162\n",
      " 2.0943951  2.03092858 1.96746207 1.90399555 1.84052903 1.77706251\n",
      " 1.71359599 1.65012947 1.58666296 1.52319644 1.45972992 1.3962634\n",
      " 1.33279688 1.26933037 1.20586385 1.14239733 1.07893081 1.01546429\n",
      " 0.95199777 0.88853126 0.82506474 0.76159822 0.6981317  0.63466518\n",
      " 0.57119866 0.50773215 0.44426563 0.38079911 0.31733259 0.25386607\n",
      " 0.19039955 0.12693304 0.06346652 0.        ] \n",
      "\n",
      "Extract elements where the absolute difference between the sine and cosine functions evaluated at that element is less than 0.1: \n",
      " [0.76159822 0.82506474 3.87145761 3.93492413] \n",
      "\n"
     ]
    },
    {
     "data": {
      "image/png": "[encoded data removed]",
      "text/plain": [
       "<Figure size 576x396 with 1 Axes>"
      ]
     },
     "metadata": {},
     "output_type": "display_data"
    }
   ],
   "source": [
    "m=np.linspace(0, 2*ma.pi, 100)\n",
    "print(\"Array of 100 numbers between 0 and 2π: \\n {} \\n\".format(m))\n",
    "\n",
    "\n",
    "#1\n",
    "print(\"Extract every 10th element: \\n {} \\n\".format(m[::10]))\n",
    "\n",
    "#2\n",
    "print(\"Reverse the array : \\n {} \\n\".format(m[::-1]))\n",
    "\n",
    "#3\n",
    "mask = (abs(np.sin(m)-np.cos(m))<=0.1)\n",
    "print(\"Extract elements where the absolute difference between the sine and cosine functions evaluated at that element is less than 0.1: \\n {} \\n\".format(m[mask]))\n",
    "\n",
    "#4\n",
    "plt.style.use('seaborn')\n",
    "cos=np.cos(m)\n",
    "sin=np.sin(m)\n",
    "sincos=np.sin(m[mask])\n",
    "plt.plot(m, cos, label=\"cos(x)\")\n",
    "plt.plot(m, sin, label=\"sin(x)\")\n",
    "\n",
    "for i in range(len(m[mask])):\n",
    "    if i==0:\n",
    "        plt.vlines(m[mask][i], -1.25, ma.sin(m[mask][i]), linestyles='dotted', label=\"|sin(x)-cos(x)|<0.1\")\n",
    "    if i==3:\n",
    "        plt.vlines(m[mask][i], -1.25, ma.sin(m[mask][i]), linestyles='dotted')\n",
    "    else:\n",
    "        plt.vlines(m[mask][i], -1.25, ma.cos(m[mask][i]), linestyles='dotted')\n",
    "\n",
    "plt.xlabel(\"x\")\n",
    "plt.ylabel('f(x)')\n",
    "plt.ylim(-1.25,1.25)\n",
    "plt.legend(loc=\"upper center\")\n",
    "plt.show()"
   ]
  },
  {
   "cell_type": "markdown",
   "metadata": {},
   "source": [
    "5\\. Create a matrix that shows the 10 by 10 multiplication table.\n",
    "\n",
    " * Find the trace of the matrix\n",
    " * Extract the anto-diagonal (this should be ```array([10, 18, 24, 28, 30, 30, 28, 24, 18, 10])```)\n",
    " * Extract the diagnoal offset by 1 upwards (this should be ```array([ 2,  6, 12, 20, 30, 42, 56, 72, 90])```)"
   ]
  },
  {
   "cell_type": "code",
   "execution_count": 6,
   "metadata": {},
   "outputs": [
    {
     "name": "stdout",
     "output_type": "stream",
     "text": [
      "10 by 10 multiplication table: \n",
      " [[  1   2   3   4   5   6   7   8   9  10]\n",
      " [  2   4   6   8  10  12  14  16  18  20]\n",
      " [  3   6   9  12  15  18  21  24  27  30]\n",
      " [  4   8  12  16  20  24  28  32  36  40]\n",
      " [  5  10  15  20  25  30  35  40  45  50]\n",
      " [  6  12  18  24  30  36  42  48  54  60]\n",
      " [  7  14  21  28  35  42  49  56  63  70]\n",
      " [  8  16  24  32  40  48  56  64  72  80]\n",
      " [  9  18  27  36  45  54  63  72  81  90]\n",
      " [ 10  20  30  40  50  60  70  80  90 100]] \n",
      "\n",
      "The trace of the matrix is: 385 \n",
      "\n",
      "The anto-diagonal is: [10 18 24 28 30 30 28 24 18 10] \n",
      "\n",
      "The diagnoal offset by 1 upwards is: [ 2  6 12 20 30 42 56 72 90] \n",
      "\n"
     ]
    }
   ],
   "source": [
    "m=np.array([i*j for i in range(1,11) for j in range (1,11)]).reshape(10,10)\n",
    "print(\"10 by 10 multiplication table: \\n {} \\n\".format(m))\n",
    "#1\n",
    "trace=np.sum(m[[*range(10)],[*range(10)]])\n",
    "print(\"The trace of the matrix is: {} \\n\".format(trace))\n",
    "#2\n",
    "print(\"The anto-diagonal is: {} \\n\".format(m[[*range(10)],[*range(9,-1,-1)]]))\n",
    "#3\n",
    "print(\"The diagnoal offset by 1 upwards is: {} \\n\".format(m[[*range(9)],[*range(1,10)]]))"
   ]
  },
  {
   "cell_type": "markdown",
   "metadata": {},
   "source": [
    "6\\. Use broadcasting to create a grid of distances\n",
    "\n",
    "Route 66 crosses the following cities in the US: Chicago, Springfield, Saint-Louis, Tulsa, Oklahoma City, Amarillo, Santa Fe, Albuquerque, Flagstaff, Los Angeles\n",
    "The corresponding positions in miles are: 0, 198, 303, 736, 871, 1175, 1475, 1544, 1913, 2448\n",
    "\n",
    "  * Construct a 2D grid of distances among each city along Route 66\n",
    "  * Convert that in km (those savages...)"
   ]
  },
  {
   "cell_type": "code",
   "execution_count": 7,
   "metadata": {},
   "outputs": [
    {
     "name": "stdout",
     "output_type": "stream",
     "text": [
      "Grid of distances (in miles): \n",
      " [[   0  198  303  736  871 1175 1475 1544 1913 2448]\n",
      " [ 198    0  105  538  673  977 1277 1346 1715 2250]\n",
      " [ 303  105    0  433  568  872 1172 1241 1610 2145]\n",
      " [ 736  538  433    0  135  439  739  808 1177 1712]\n",
      " [ 871  673  568  135    0  304  604  673 1042 1577]\n",
      " [1175  977  872  439  304    0  300  369  738 1273]\n",
      " [1475 1277 1172  739  604  300    0   69  438  973]\n",
      " [1544 1346 1241  808  673  369   69    0  369  904]\n",
      " [1913 1715 1610 1177 1042  738  438  369    0  535]\n",
      " [2448 2250 2145 1712 1577 1273  973  904  535    0]] \n",
      "\n",
      "Grid of distances (in km): \n",
      " [[   0.   318.6  487.6 1184.5 1401.7 1891.  2373.8 2484.8 3078.7 3939.7]\n",
      " [ 318.6    0.   169.   865.8 1083.1 1572.3 2055.1 2166.2 2760.  3621. ]\n",
      " [ 487.6  169.     0.   696.8  914.1 1403.3 1886.1 1997.2 2591.  3452. ]\n",
      " [1184.5  865.8  696.8    0.   217.3  706.5 1189.3 1300.3 1894.2 2755.2]\n",
      " [1401.7 1083.1  914.1  217.3    0.   489.2  972.  1083.1 1676.9 2537.9]\n",
      " [1891.  1572.3 1403.3  706.5  489.2    0.   482.8  593.8 1187.7 2048.7]\n",
      " [2373.8 2055.1 1886.1 1189.3  972.   482.8    0.   111.   704.9 1565.9]\n",
      " [2484.8 2166.2 1997.2 1300.3 1083.1  593.8  111.     0.   593.8 1454.8]\n",
      " [3078.7 2760.  2591.  1894.2 1676.9 1187.7  704.9  593.8    0.   861. ]\n",
      " [3939.7 3621.  3452.  2755.2 2537.9 2048.7 1565.9 1454.8  861.     0. ]] \n",
      "\n"
     ]
    }
   ],
   "source": [
    "d=np.array([0,198,303,736,871,1175,1475,1544,1913,2448])\n",
    "l=np.tile(d,(10,1)).T\n",
    "m=abs(l-d)\n",
    "print(\"Grid of distances (in miles): \\n {} \\n\".format(m))\n",
    "print(\"Grid of distances (in km): \\n {} \\n\".format(np.round(m*1.60934,1)))"
   ]
  },
  {
   "cell_type": "markdown",
   "metadata": {},
   "source": [
    "7\\. Prime numbers sieve: compute the prime numbers in the 0-N (N=99 to start with) range with a sieve (mask).\n",
    "  * Constract a shape (100,) boolean array, the mask\n",
    "  * Identify the multiples of each number starting from 2 and set accordingly the corresponding mask element\n",
    "  * Apply the mask to obtain an array of ordered prime numbers\n",
    "  * Check the performances (timeit); how does it scale with N?\n",
    "  * Implement the optimization suggested in the [sieve of Eratosthenes](https://en.wikipedia.org/wiki/Sieve_of_Eratosthenes)"
   ]
  },
  {
   "cell_type": "code",
   "execution_count": 8,
   "metadata": {},
   "outputs": [
    {
     "name": "stdout",
     "output_type": "stream",
     "text": [
      "Prime numbers from 0 to 100 with first method: \n",
      "[ 0  1  2  3  5  7 11 13 17 19 23 29 31 37 41 43 47 53 59 61 67 71 73 79\n",
      " 83 89 97] \n",
      "Prime numbers from 0 to 100 with the sieve of Eratosthenes: \n",
      "[ 0  1  2  3  5  7 11 13 17 19 23 29 31 37 41 43 47 53 59 61 67 71 73 79\n",
      " 83 89 97] \n"
     ]
    },
    {
     "data": {
      "image/png": "[encoded data removed]",
      "text/plain": [
       "<Figure size 576x396 with 1 Axes>"
      ]
     },
     "metadata": {},
     "output_type": "display_data"
    }
   ],
   "source": [
    "import time\n",
    "import matplotlib.pyplot as plt\n",
    "\n",
    "def prime(N):\n",
    "    l=np.ones(N,'bool')\n",
    "    for i in range(2,N):\n",
    "        n=i*2\n",
    "        if l[i]:\n",
    "            while n<N:\n",
    "                l[n]=False\n",
    "                n+=i\n",
    "    return l\n",
    "\n",
    "test=np.arange(100)\n",
    "print(\"Prime numbers from 0 to 100 with first method: \\n{} \".format(test[prime(100)]))\n",
    "\n",
    "\n",
    "def prime_erat(N):\n",
    "    l=np.ones(N,'bool')\n",
    "    for i in range(2,int(ma.sqrt(N))):\n",
    "        n=i**2\n",
    "        if l[i]:\n",
    "            while n<N:\n",
    "                l[n]=False\n",
    "                n+=i\n",
    "    return l\n",
    "\n",
    "\n",
    "test=np.arange(100)\n",
    "print(\"Prime numbers from 0 to 100 with the sieve of Eratosthenes: \\n{} \".format(test[prime_erat(100)]))\n",
    "\n",
    "#check the performances\n",
    "\n",
    "times=[]\n",
    "times_e=[]\n",
    "x=[]\n",
    "n=1\n",
    "\n",
    "while n<10**8:\n",
    "    n*=10\n",
    "    test=np.arange(n)\n",
    "    \n",
    "    start=time.time()\n",
    "    prime(n)\n",
    "    end=time.time()\n",
    "    delta=end-start\n",
    "    times.append(delta)\n",
    "    \n",
    "    start_e=time.time()\n",
    "    prime_erat(n)\n",
    "    end_e=time.time()\n",
    "    delta_e=end_e-start_e\n",
    "    times_e.append(delta_e)\n",
    "    \n",
    "    x.append(n)\n",
    "    \n",
    "\n",
    "\n",
    "\n",
    "\n",
    "plt.xscale('log', base=10)\n",
    "plt.plot(x, times, linestyle='--', marker='o', label=\"time with first method\", color='r')\n",
    "plt.plot(x, times_e, linestyle='--', marker='o', label=\"time with the sieve of Eratosthenes\", color='b')\n",
    "plt.legend(loc=\"upper center\")\n",
    "plt.xlabel(\"Number considered\")\n",
    "plt.ylabel(\"Time (s)\")\n",
    "plt.show()"
   ]
  },
  {
   "cell_type": "markdown",
   "metadata": {},
   "source": [
    "**N.B. the following exercises are meant to be solved only if you are familiar with the numpy random library. If not you can skip them (postponed for one of the next exercise sessions)**\n"
   ]
  },
  {
   "cell_type": "markdown",
   "metadata": {},
   "source": [
    "8\\. Diffusion using random walk\n",
    "\n",
    "Consider a simple random walk process: at each step in time, a walker jumps right or left (+1 or -1) with equal probability. The goal is to find the typical distance from the origin of a random walker after a given amount of time. \n",
    "To do that, let's simulate many walkers and create a 2D array with each walker as a raw and the actual time evolution as columns\n",
    "\n",
    "  * Take 1000 walkers and let them walk for 200 steps\n",
    "  * Use randint to create a 2D array of size walkers x steps with values -1 or 1\n",
    "  * Build the actual walking distances for each walker (i.e. another 2D array \"summing on each raw\")\n",
    "  * Take the square of that 2D array (elementwise)\n",
    "  * Compute the mean of the squared distances at each step (i.e. the mean along the columns)\n",
    "  * Plot the average distances (sqrt(distance\\*\\*2)) as a function of time (step)\n",
    "  \n",
    "Did you get what you expected?"
   ]
  },
  {
   "cell_type": "code",
   "execution_count": 107,
   "metadata": {},
   "outputs": [
    {
     "name": "stdout",
     "output_type": "stream",
     "text": [
      "We get what we expected, in fact the shape is comparable to the square root of the step\n"
     ]
    },
    {
     "data": {
      "image/png": "[encoded data removed]",
      "text/plain": [
       "<Figure size 432x288 with 1 Axes>"
      ]
     },
     "metadata": {
      "needs_background": "light"
     },
     "output_type": "display_data"
    }
   ],
   "source": [
    "import numpy.random as npr\n",
    "npr.seed(123)\n",
    "#1 and 2\n",
    "r1=npr.randint(0,2,size=(1000,200))\n",
    "r1=np.where(r1==0, -1, r1)\n",
    "\n",
    "#3\n",
    "for r in range(1000):\n",
    "    for c in range(1,200):\n",
    "        r1[r,c]=r1[r,c-1]+r1[r,c]\n",
    "\n",
    "#4      \n",
    "r1=r1**2\n",
    "\n",
    "#5\n",
    "r2=[]\n",
    "for c in range(200):\n",
    "    r2.append(r1[:,c].mean())\n",
    "r2=np.array(r2)\n",
    "\n",
    "#6\n",
    "fig, ax=plt.subplots()\n",
    "ax.plot(np.arange(0,200,1), np.sqrt(r2), label=\"from data\")\n",
    "ax.plot(np.arange(0,200,1), np.sqrt(np.arange(0,200,1)), label=\"from theory\")\n",
    "ax.set_xlabel(\"steps\")\n",
    "ax.set_ylabel(\"$\\sqrt{mean(distances^{2})}$\")\n",
    "ax.legend()\n",
    "\n",
    "print(\"We get what we expected, in fact the shape is comparable to the square root of the step\")"
   ]
  },
  {
   "cell_type": "markdown",
   "metadata": {},
   "source": [
    "9\\. Analyze a data file \n",
    "  * Download the population of hares, lynxes and carrots at the beginning of the last century.\n",
    "    ```python\n",
    "    ! wget https://www.dropbox.com/s/3vigxoqayo389uc/populations.txt\n",
    "    ```\n",
    "\n",
    "  * Check the content by looking within the file\n",
    "  * Load the data (use an appropriate numpy method) into a 2D array\n",
    "  * Create arrays out of the columns, the arrays being (in order): *year*, *hares*, *lynxes*, *carrots* \n",
    "  * Plot the 3 populations over the years\n",
    "  * Compute the main statistical properties of the dataset (mean, std, correlations, etc.)\n",
    "  * Which species has the highest population each year?\n",
    "\n",
    "Do you feel there is some evident correlation here? [Studies](https://www.enr.gov.nt.ca/en/services/lynx/lynx-snowshoe-hare-cycle) tend to believe so."
   ]
  },
  {
   "cell_type": "code",
   "execution_count": 49,
   "metadata": {},
   "outputs": [
    {
     "name": "stdout",
     "output_type": "stream",
     "text": [
      "--2021-12-12 11:03:47--  https://www.dropbox.com/s/3vigxoqayo389uc/populations.txt\n",
      "Risoluzione di www.dropbox.com (www.dropbox.com)... 162.125.69.18, 2620:100:6025:18::a27d:4512\n",
      "Connessione a www.dropbox.com (www.dropbox.com)|162.125.69.18|:443... connesso.\n",
      "Richiesta HTTP inviata, in attesa di risposta... 301 Moved Permanently\n",
      "Posizione: /s/raw/3vigxoqayo389uc/populations.txt [segue]\n",
      "--2021-12-12 11:03:48--  https://www.dropbox.com/s/raw/3vigxoqayo389uc/populations.txt\n",
      "Riutilizzo della connessione esistente a www.dropbox.com:443.\n",
      "Richiesta HTTP inviata, in attesa di risposta... 302 Found\n",
      "Posizione: https://uca691baa8802cbd3e027ba7ebab.dl.dropboxusercontent.com/cd/0/inline/BbvbsMnSvZPaJTK26XchiOzb1LvpznnlxMCPz4atdZLBkRnnrYD1yWje72pYgNXaqg5glfEwv1m_xOFIqaeeDsQnczCunv8upkD9Y9ORQ-YV3T0UVzUuSPujSEc_Zh2r4N_Mllb6MeKaT5LrZOtrShRk/file# [segue]\n",
      "--2021-12-12 11:03:48--  https://uca691baa8802cbd3e027ba7ebab.dl.dropboxusercontent.com/cd/0/inline/BbvbsMnSvZPaJTK26XchiOzb1LvpznnlxMCPz4atdZLBkRnnrYD1yWje72pYgNXaqg5glfEwv1m_xOFIqaeeDsQnczCunv8upkD9Y9ORQ-YV3T0UVzUuSPujSEc_Zh2r4N_Mllb6MeKaT5LrZOtrShRk/file\n",
      "Risoluzione di uca691baa8802cbd3e027ba7ebab.dl.dropboxusercontent.com (uca691baa8802cbd3e027ba7ebab.dl.dropboxusercontent.com)... 162.125.69.15, 2620:100:6025:15::a27d:450f\n",
      "Connessione a uca691baa8802cbd3e027ba7ebab.dl.dropboxusercontent.com (uca691baa8802cbd3e027ba7ebab.dl.dropboxusercontent.com)|162.125.69.15|:443... connesso.\n",
      "Richiesta HTTP inviata, in attesa di risposta... 200 OK\n",
      "Lunghezza: 525 [text/plain]\n",
      "Salvataggio in: \"populations.txt.1\"\n",
      "\n",
      "populations.txt.1   100%[===================>]     525  --.-KB/s    in 0s      \n",
      "\n",
      "2021-12-12 11:03:49 (82,3 MB/s) - \"populations.txt.1\" salvato [525/525]\n",
      "\n"
     ]
    }
   ],
   "source": [
    "#1\n",
    "! wget https://www.dropbox.com/s/3vigxoqayo389uc/populations.txt"
   ]
  },
  {
   "cell_type": "code",
   "execution_count": 111,
   "metadata": {},
   "outputs": [
    {
     "name": "stdout",
     "output_type": "stream",
     "text": [
      "# year\thare\tlynx\tcarrot\n",
      "\n",
      "1900\t30e3\t4e3\t48300\n",
      "\n",
      "1901\t47.2e3\t6.1e3\t48200\n",
      "\n",
      "1902\t70.2e3\t9.8e3\t41500\n",
      "\n",
      "1903\t77.4e3\t35.2e3\t38200\n",
      "\n",
      "1904\t36.3e3\t59.4e3\t40600\n",
      "\n",
      "1905\t20.6e3\t41.7e3\t39800\n",
      "\n",
      "1906\t18.1e3\t19e3\t38600\n",
      "\n",
      "1907\t21.4e3\t13e3\t42300\n",
      "\n",
      "1908\t22e3\t8.3e3\t44500\n",
      "\n",
      "1909\t25.4e3\t9.1e3\t42100\n",
      "\n",
      "1910\t27.1e3\t7.4e3\t46000\n",
      "\n",
      "1911\t40.3e3\t8e3\t46800\n",
      "\n",
      "1912\t57e3\t12.3e3\t43800\n",
      "\n",
      "1913\t76.6e3\t19.5e3\t40900\n",
      "\n",
      "1914\t52.3e3\t45.7e3\t39400\n",
      "\n",
      "1915\t19.5e3\t51.1e3\t39000\n",
      "\n",
      "1916\t11.2e3\t29.7e3\t36700\n",
      "\n",
      "1917\t7.6e3\t15.8e3\t41800\n",
      "\n",
      "1918\t14.6e3\t9.7e3\t43300\n",
      "\n",
      "1919\t16.2e3\t10.1e3\t41300\n",
      "\n",
      "1920\t24.7e3\t8.6e3\t47300\n",
      "\n",
      "Hares:\n",
      "Mean: 34080.95\n",
      "Std: 20897.91\n",
      "\n",
      "Lynxes:\n",
      "Mean: 20166.67\n",
      "Std: 16254.59\n",
      "\n",
      "Carrots:\n",
      "Mean: 42400.00\n",
      "Std: 3322.51\n",
      "\n",
      "Correlation between hares and lynxes: 0.07\n",
      "Correlation between hares and carrots: -0.02\n",
      "Correlation between carrots and lynxes: -0.68\n",
      "\n",
      "In 1900.0 the highest population was of: Carrot\n",
      "In 1901.0 the highest population was of: Carrot\n",
      "In 1902.0 the highest population was of: Hare\n",
      "In 1903.0 the highest population was of: Hare\n",
      "In 1904.0 the highest population was of: Lynx\n",
      "In 1905.0 the highest population was of: Lynx\n",
      "In 1906.0 the highest population was of: Carrot\n",
      "In 1907.0 the highest population was of: Carrot\n",
      "In 1908.0 the highest population was of: Carrot\n",
      "In 1909.0 the highest population was of: Carrot\n",
      "In 1910.0 the highest population was of: Carrot\n",
      "In 1911.0 the highest population was of: Carrot\n",
      "In 1912.0 the highest population was of: Hare\n",
      "In 1913.0 the highest population was of: Hare\n",
      "In 1914.0 the highest population was of: Hare\n",
      "In 1915.0 the highest population was of: Lynx\n",
      "In 1916.0 the highest population was of: Carrot\n",
      "In 1917.0 the highest population was of: Carrot\n",
      "In 1918.0 the highest population was of: Carrot\n",
      "In 1919.0 the highest population was of: Carrot\n",
      "In 1920.0 the highest population was of: Carrot\n",
      "\n",
      " The most evident correlation that is possible to see is between hares and linxes, where there is the typical correlation between pray and predator\n"
     ]
    },
    {
     "data": {
      "image/png": "[encoded data removed]",
      "text/plain": [
       "<Figure size 432x288 with 1 Axes>"
      ]
     },
     "metadata": {
      "needs_background": "light"
     },
     "output_type": "display_data"
    }
   ],
   "source": [
    "#2\n",
    "with open(\"populations.txt\", mode=\"r\") as d:\n",
    "    for line in d:\n",
    "        print(line) #check the content\n",
    "\n",
    "#3\n",
    "data = np.loadtxt('populations.txt')\n",
    "#4\n",
    "year, hares, lynxes, carrots = data.T\n",
    "#5\n",
    "fig, ax=plt.subplots()\n",
    "ax.plot(year, hares, year, lynxes, year, carrots)\n",
    "ax.legend(('Hare', 'Lynx', 'Carrot'), loc=(1.05, 0.5)) \n",
    "ax.set_xlabel('Year')\n",
    "\n",
    "#6\n",
    "print(\"Hares:\\nMean: {:.2f}\\nStd: {:.2f}\\n\".format(hares.mean(),hares.std()))\n",
    "print(\"Lynxes:\\nMean: {:.2f}\\nStd: {:.2f}\\n\".format(lynxes.mean(),lynxes.std()))\n",
    "print(\"Carrots:\\nMean: {:.2f}\\nStd: {:.2f}\\n\".format(carrots.mean(),carrots.std()))\n",
    "print(\"Correlation between hares and lynxes: {:.2f}\".format(np.corrcoef(hares, lynxes)[1,0]))\n",
    "print(\"Correlation between hares and carrots: {:.2f}\".format(np.corrcoef(hares, carrots)[1,0]))\n",
    "print(\"Correlation between carrots and lynxes: {:.2f}\\n\".format(np.corrcoef(carrots, lynxes)[1,0]))\n",
    "\n",
    "\n",
    "#7\n",
    "maxx=np.argmax(data, axis=1)\n",
    "variab=['Hare', 'Lynx', 'Carrot']\n",
    "for i in range(len(year)):\n",
    "    mm=variab[maxx[i]-1]\n",
    "    print(\"In {} the highest population was of: {}\".format(year[i],mm))\n",
    "    \n",
    "print(\"\\n The most evident correlation that is possible to see is between hares and linxes, where there is the typical correlation between pray and predator\")"
   ]
  },
  {
   "cell_type": "code",
   "execution_count": null,
   "metadata": {},
   "outputs": [],
   "source": []
  }
 ],
 "metadata": {
  "kernelspec": {
   "display_name": "Python 3",
   "language": "python",
   "name": "python3"
  },
  "language_info": {
   "codemirror_mode": {
    "name": "ipython",
    "version": 3
   },
   "file_extension": ".py",
   "mimetype": "text/x-python",
   "name": "python",
   "nbconvert_exporter": "python",
   "pygments_lexer": "ipython3",
   "version": "3.8.8"
  }
 },
 "nbformat": 4,
 "nbformat_minor": 2
}
