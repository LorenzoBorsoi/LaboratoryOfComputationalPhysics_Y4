{
 "cells": [
  {
   "cell_type": "markdown",
   "metadata": {},
   "source": [
    "### Numpy basics"
   ]
  },
  {
   "cell_type": "markdown",
   "metadata": {},
   "source": [
    "1\\. Find the row, column and overall means for the following matrix:\n",
    "\n",
    "```python\n",
    "m = np.arange(12).reshape((3,4))\n",
    "```"
   ]
  },
  {
   "cell_type": "code",
   "execution_count": 4,
   "metadata": {},
   "outputs": [
    {
     "name": "stdout",
     "output_type": "stream",
     "text": [
      "[[ 0  1  2  3]\n",
      " [ 4  5  6  7]\n",
      " [ 8  9 10 11]]\n",
      "[4. 5. 6. 7.]\n",
      "[1.5 5.5 9.5]\n",
      "5.5\n"
     ]
    }
   ],
   "source": [
    "import numpy as np\n",
    "m = np.arange(12).reshape((3,4))\n",
    "\n",
    "print(m)\n",
    "print(np.mean(m, axis=0))\n",
    "print(np.mean(m, axis=1))\n",
    "print(np.mean(m))\n"
   ]
  },
  {
   "cell_type": "markdown",
   "metadata": {},
   "source": [
    "2\\. Find the outer product of the following two vecotrs\n",
    "\n",
    "```python\n",
    "u = np.array([1,3,5,7])\n",
    "v = np.array([2,4,6,8])\n",
    "```\n",
    "\n",
    "Do this in the following ways:\n",
    "\n",
    "   * Using the function outer in numpy\n",
    "   * Using a nested for loop or list comprehension\n",
    "   * Using numpy broadcasting operatoins\n"
   ]
  },
  {
   "cell_type": "code",
   "execution_count": 6,
   "metadata": {},
   "outputs": [
    {
     "name": "stdout",
     "output_type": "stream",
     "text": [
      "[[ 2  4  6  8]\n",
      " [ 6 12 18 24]\n",
      " [10 20 30 40]\n",
      " [14 28 42 56]]\n",
      "[[ 2  4  6  8]\n",
      " [ 6 12 18 24]\n",
      " [10 20 30 40]\n",
      " [14 28 42 56]]\n",
      "[[ 2  4  6  8]\n",
      " [ 6 12 18 24]\n",
      " [10 20 30 40]\n",
      " [14 28 42 56]]\n"
     ]
    }
   ],
   "source": [
    "#outer function\n",
    "u = np.array([1,3,5,7])\n",
    "v = np.array([2,4,6,8])\n",
    "print(np.outer(u,v))\n",
    "\n",
    "#nested for loops using list comprehension\n",
    "u = np.array([1,3,5,7])\n",
    "v = np.array([2,4,6,8])\n",
    "uv_op = np.array([i*j for i in u for j in v ]).reshape(4,4)\n",
    "print((uv_op))\n",
    "\n",
    "#numpy broadcasting operations\n",
    "u = np.array([1,3,5,7])\n",
    "v = np.array([2,4,6,8])\n",
    "x = np.tile(u,(4,1)).T\n",
    "uv_bc = x*v\n",
    "print(uv_bc)"
   ]
  },
  {
   "cell_type": "markdown",
   "metadata": {},
   "source": [
    "3\\. Create a 10 by 6 matrix of random uniform numbers. Set all rows with any entry less than 0.1 to be zero\n",
    "\n",
    "Hint: Use the following numpy functions - np.random.random, np.any as well as Boolean indexing and the axis argument."
   ]
  },
  {
   "cell_type": "code",
   "execution_count": 11,
   "metadata": {},
   "outputs": [
    {
     "name": "stdout",
     "output_type": "stream",
     "text": [
      "[[0.30406486 0.91987243 0.3709541  0.95942289 0.07542903 0.6964238 ]\n",
      " [0.28593404 0.53583421 0.06960624 0.70813398 0.99616516 0.45502102]\n",
      " [0.58237116 0.38845367 0.55164294 0.94409669 0.1782259  0.93738262]\n",
      " [0.17160434 0.15882653 0.68581191 0.39272443 0.04598389 0.8570654 ]\n",
      " [0.53448486 0.46689994 0.25502226 0.06918414 0.0278132  0.84936879]\n",
      " [0.7585824  0.92671125 0.56461902 0.52294355 0.7327607  0.49088253]\n",
      " [0.9206716  0.16223614 0.72627724 0.68882528 0.40554171 0.11374345]\n",
      " [0.38531361 0.21975535 0.41832065 0.35708478 0.4440869  0.13063495]\n",
      " [0.01908069 0.63993822 0.92103105 0.39844232 0.32139938 0.23844935]\n",
      " [0.66930685 0.88427508 0.38220271 0.89123492 0.33020516 0.2849612 ]] \n",
      "\n",
      "[[False False False False  True False]\n",
      " [False False  True False False False]\n",
      " [False False False False False False]\n",
      " [False False False False  True False]\n",
      " [False False False  True  True False]\n",
      " [False False False False False False]\n",
      " [False False False False False False]\n",
      " [False False False False False False]\n",
      " [ True False False False False False]\n",
      " [False False False False False False]] \n",
      "\n",
      "[[0.         0.         0.         0.         0.         0.        ]\n",
      " [0.         0.         0.         0.         0.         0.        ]\n",
      " [0.58237116 0.38845367 0.55164294 0.94409669 0.1782259  0.93738262]\n",
      " [0.         0.         0.         0.         0.         0.        ]\n",
      " [0.         0.         0.         0.         0.         0.        ]\n",
      " [0.7585824  0.92671125 0.56461902 0.52294355 0.7327607  0.49088253]\n",
      " [0.9206716  0.16223614 0.72627724 0.68882528 0.40554171 0.11374345]\n",
      " [0.38531361 0.21975535 0.41832065 0.35708478 0.4440869  0.13063495]\n",
      " [0.         0.         0.         0.         0.         0.        ]\n",
      " [0.66930685 0.88427508 0.38220271 0.89123492 0.33020516 0.2849612 ]]\n"
     ]
    }
   ],
   "source": [
    "m=np.random.random((10,6))\n",
    "print(m,\"\\n\")\n",
    "m_f=m<0.1\n",
    "print(m_f,\"\\n\")\n",
    "m_new=np.any(m_f,1)\n",
    "m[m_new]=0\n",
    "print(m)"
   ]
  },
  {
   "cell_type": "markdown",
   "metadata": {},
   "source": [
    "4\\. Use np.linspace to create an array of 100 numbers between 0 and 2π (includsive).\n",
    "\n",
    "  * Extract every 10th element using slice notation\n",
    "  * Reverse the array using slice notation\n",
    "  * Extract elements where the absolute difference between the sine and cosine functions evaluated at that element is less than 0.1\n",
    "  * Make a plot showing the sin and cos functions and indicate where they are close"
   ]
  },
  {
   "cell_type": "code",
   "execution_count": 7,
   "metadata": {},
   "outputs": [
    {
     "data": {
      "image/png": "[encoded data removed]",
      "text/plain": [
       "<Figure size 432x288 with 1 Axes>"
      ]
     },
     "metadata": {
      "needs_background": "light"
     },
     "output_type": "display_data"
    },
    {
     "name": "stdout",
     "output_type": "stream",
     "text": [
      "[0.76159822 0.82506474 3.87145761 3.93492413]\n"
     ]
    }
   ],
   "source": [
    "array=np.linspace(0,2*np.pi,100)\n",
    "ten=array[::10-1]\n",
    "rev_array=array[::-1]\n",
    "extract_array=array[abs(np.sin(array)-np.cos(array))<0.1]  \n",
    "import matplotlib.pyplot as plt\n",
    "x=array\n",
    "f1=np.sin(array)\n",
    "f2=np.cos(array)\n",
    "plt.plot(x,f1)\n",
    "plt.plot(x,f2)\n",
    "plt.show()\n",
    "print(extract_array)\n"
   ]
  },
  {
   "cell_type": "markdown",
   "metadata": {},
   "source": [
    "5\\. Create a matrix that shows the 10 by 10 multiplication table.\n",
    "\n",
    " * Find the trace of the matrix\n",
    " * Extract the anto-diagonal (this should be ```array([10, 18, 24, 28, 30, 30, 28, 24, 18, 10])```)\n",
    " * Extract the diagnoal offset by 1 upwards (this should be ```array([ 2,  6, 12, 20, 30, 42, 56, 72, 90])```)"
   ]
  },
  {
   "cell_type": "code",
   "execution_count": 21,
   "metadata": {},
   "outputs": [
    {
     "name": "stdout",
     "output_type": "stream",
     "text": [
      "[10 18 24 28 30 30 28 24 18 10] \n",
      "\n",
      "[ 2  6 12 20 30 42 56 72 90]\n"
     ]
    }
   ],
   "source": [
    "array_x=np.arange(1,11,1)\n",
    "matrix_x=np.outer(array_x,array_x)\n",
    "matrix_flip=np.fliplr(matrix_x)\n",
    "anti_diagonal=np.diag(matrix_flip)\n",
    "print(anti_diagonal,'\\n')\n",
    "print(np.diag(matrix_x,1))"
   ]
  },
  {
   "cell_type": "markdown",
   "metadata": {},
   "source": [
    "6\\. Use broadcasting to create a grid of distances\n",
    "\n",
    "Route 66 crosses the following cities in the US: Chicago, Springfield, Saint-Louis, Tulsa, Oklahoma City, Amarillo, Santa Fe, Albuquerque, Flagstaff, Los Angeles\n",
    "The corresponding positions in miles are: 0, 198, 303, 736, 871, 1175, 1475, 1544, 1913, 2448\n",
    "\n",
    "  * Construct a 2D grid of distances among each city along Route 66\n",
    "  * Convert that in km (those savages...)"
   ]
  },
  {
   "cell_type": "code",
   "execution_count": 24,
   "metadata": {},
   "outputs": [
    {
     "name": "stdout",
     "output_type": "stream",
     "text": [
      "Miles \n",
      "\n",
      "[[   0  198  303  736  871 1175 1475 1544 1913 2448]\n",
      " [ 198    0  105  538  673  977 1277 1346 1715 2250]\n",
      " [ 303  105    0  433  568  872 1172 1241 1610 2145]\n",
      " [ 736  538  433    0  135  439  739  808 1177 1712]\n",
      " [ 871  673  568  135    0  304  604  673 1042 1577]\n",
      " [1175  977  872  439  304    0  300  369  738 1273]\n",
      " [1475 1277 1172  739  604  300    0   69  438  973]\n",
      " [1544 1346 1241  808  673  369   69    0  369  904]\n",
      " [1913 1715 1610 1177 1042  738  438  369    0  535]\n",
      " [2448 2250 2145 1712 1577 1273  973  904  535    0]] \n",
      "\n",
      "Kilometers \n",
      "\n",
      "[[   0.   316.8  484.8 1177.6 1393.6 1880.  2360.  2470.4 3060.8 3916.8]\n",
      " [ 316.8    0.   168.   860.8 1076.8 1563.2 2043.2 2153.6 2744.  3600. ]\n",
      " [ 484.8  168.     0.   692.8  908.8 1395.2 1875.2 1985.6 2576.  3432. ]\n",
      " [1177.6  860.8  692.8    0.   216.   702.4 1182.4 1292.8 1883.2 2739.2]\n",
      " [1393.6 1076.8  908.8  216.     0.   486.4  966.4 1076.8 1667.2 2523.2]\n",
      " [1880.  1563.2 1395.2  702.4  486.4    0.   480.   590.4 1180.8 2036.8]\n",
      " [2360.  2043.2 1875.2 1182.4  966.4  480.     0.   110.4  700.8 1556.8]\n",
      " [2470.4 2153.6 1985.6 1292.8 1076.8  590.4  110.4    0.   590.4 1446.4]\n",
      " [3060.8 2744.  2576.  1883.2 1667.2 1180.8  700.8  590.4    0.   856. ]\n",
      " [3916.8 3600.  3432.  2739.2 2523.2 2036.8 1556.8 1446.4  856.     0. ]]\n"
     ]
    }
   ],
   "source": [
    "array=np.array([0, 198, 303, 736, 871, 1175, 1475, 1544, 1913, 2448])\n",
    "grid_array=np.tile(array,(len(array),1)).T\n",
    "d=abs(grid_array-array)\n",
    "print(\"Miles \\n\")\n",
    "print(d, '\\n')\n",
    "print(\"Kilometers \\n\")\n",
    "print(d*8/5)"
   ]
  },
  {
   "cell_type": "markdown",
   "metadata": {},
   "source": [
    "7\\. Prime numbers sieve: compute the prime numbers in the 0-N (N=99 to start with) range with a sieve (mask).\n",
    "  * Constract a shape (100,) boolean array, the mask\n",
    "  * Identify the multiples of each number starting from 2 and set accordingly the corresponding mask element\n",
    "  * Apply the mask to obtain an array of ordered prime numbers\n",
    "  * Check the performances (timeit); how does it scale with N?\n",
    "  * Implement the optimization suggested in the [sieve of Eratosthenes](https://en.wikipedia.org/wiki/Sieve_of_Eratosthenes)"
   ]
  },
  {
   "cell_type": "code",
   "execution_count": 32,
   "metadata": {},
   "outputs": [
    {
     "data": {
      "text/plain": [
       "array([ 0,  1,  2,  3,  5,  7, 11, 13, 17, 19, 23, 29, 31, 37, 41, 43, 47,\n",
       "       53, 59, 61, 67, 71, 73, 79, 83, 89, 97])"
      ]
     },
     "execution_count": 32,
     "metadata": {},
     "output_type": "execute_result"
    }
   ],
   "source": [
    "def sieve(N):\n",
    "    n=np.arange(N)\n",
    "    boolean_array=np.array([True]*N)\n",
    "    for i in range(len(boolean_array)):\n",
    "        if i==0 or i==1 or i==2:\n",
    "            continue\n",
    "        for j in range(i):\n",
    "            if j==0 or j==1:\n",
    "                continue\n",
    "            if i%j==0:\n",
    "                boolean_array[i]=False\n",
    "                break\n",
    "    return (n[boolean_array])\n",
    "sieve(100)\n",
    "\n"
   ]
  },
  {
   "cell_type": "code",
   "execution_count": 33,
   "metadata": {},
   "outputs": [
    {
     "name": "stdout",
     "output_type": "stream",
     "text": [
      "397 µs ± 24.2 µs per loop (mean ± std. dev. of 7 runs, 1000 loops each)\n",
      "1.31 ms ± 19.8 µs per loop (mean ± std. dev. of 7 runs, 1000 loops each)\n",
      "2.53 ms ± 175 µs per loop (mean ± std. dev. of 7 runs, 100 loops each)\n"
     ]
    }
   ],
   "source": [
    "%timeit sieve(100)\n",
    "%timeit sieve(200)\n",
    "%timeit sieve(300)"
   ]
  },
  {
   "cell_type": "code",
   "execution_count": 37,
   "metadata": {},
   "outputs": [
    {
     "data": {
      "text/plain": [
       "array([ 0,  1,  2,  3,  5,  7, 11, 13, 17, 19, 23, 29, 31, 37, 41, 43, 47,\n",
       "       53, 59, 61, 67, 71, 73, 79, 83, 89, 97])"
      ]
     },
     "execution_count": 37,
     "metadata": {},
     "output_type": "execute_result"
    }
   ],
   "source": [
    "def sieve_Eratosthenes(N):\n",
    "    n=np.arange(0,N,1)\n",
    "    boolean_array=np.array([True]*N)\n",
    "    for i in np.arange(2,np.sqrt(N),1):\n",
    "        i=int(i)\n",
    "        if boolean_array[i]==True:\n",
    "            list=[((i)**2)+(j*i) for j in range(N)]\n",
    "            for y in list:\n",
    "                if y<N:\n",
    "                    boolean_array[y]=False\n",
    "    return(n[boolean_array])\n",
    "sieve_Eratosthenes(100)"
   ]
  },
  {
   "cell_type": "markdown",
   "metadata": {},
   "source": [
    "**N.B. the following exercises are meant to be solved only if you are familiar with the numpy random library. If not you can skip them (postponed for one of the next exercise sessions)**\n"
   ]
  },
  {
   "cell_type": "markdown",
   "metadata": {},
   "source": [
    "8\\. Diffusion using random walk\n",
    "\n",
    "Consider a simple random walk process: at each step in time, a walker jumps right or left (+1 or -1) with equal probability. The goal is to find the typical distance from the origin of a random walker after a given amount of time. \n",
    "To do that, let's simulate many walkers and create a 2D array with each walker as a raw and the actual time evolution as columns\n",
    "\n",
    "  * Take 1000 walkers and let them walk for 200 steps\n",
    "  * Use randint to create a 2D array of size walkers x steps with values -1 or 1\n",
    "  * Build the actual walking distances for each walker (i.e. another 2D array \"summing on each raw\")\n",
    "  * Take the square of that 2D array (elementwise)\n",
    "  * Compute the mean of the squared distances at each step (i.e. the mean along the columns)\n",
    "  * Plot the average distances (sqrt(distance\\*\\*2)) as a function of time (step)\n",
    "  \n",
    "Did you get what you expected?"
   ]
  },
  {
   "cell_type": "code",
   "execution_count": 9,
   "metadata": {},
   "outputs": [
    {
     "name": "stdout",
     "output_type": "stream",
     "text": [
      "[[ 1  1 -1 ... -1  1 -1]\n",
      " [-1 -1 -1 ... -1 -1 -1]\n",
      " [ 1  1 -1 ...  1 -1  1]\n",
      " ...\n",
      " [-1  1 -1 ...  1  1  1]\n",
      " [-1 -1 -1 ...  1  1 -1]\n",
      " [-1 -1  1 ...  1 -1  1]] \n",
      "\n",
      "[[  1   2   1 ...   0   1   0]\n",
      " [ -1  -2  -3 ... -18 -19 -20]\n",
      " [  1   2   1 ...   4   3   4]\n",
      " ...\n",
      " [ -1   0  -1 ... -28 -27 -26]\n",
      " [ -1  -2  -3 ...   6   7   6]\n",
      " [ -1  -2  -1 ...   4   3   4]] \n",
      "\n",
      "[  1.      2.084   3.008   3.924   5.128   6.448   7.568   8.752   9.808\n",
      "  10.608  11.728  12.692  13.776  14.92   15.768  17.08   18.312  18.972\n",
      "  20.032  20.96   21.872  22.596  23.448  24.312  24.688  24.8    25.768\n",
      "  26.864  27.64   28.52   28.744  29.596  30.264  31.34   32.304  33.02\n",
      "  33.968  34.608  35.8    37.072  37.68   38.656  38.84   39.42   40.816\n",
      "  41.36   42.752  44.088  45.32   46.584  47.776  48.72   49.84   49.392\n",
      "  50.608  51.872  52.744  53.628  55.28   56.06   57.248  57.2    58.224\n",
      "  59.104  60.64   61.74   61.808  63.3    64.808  65.784  66.288  67.94\n",
      "  68.672  69.396  70.192  71.564  71.768  73.128  73.944  74.108  76.216\n",
      "  78.192  78.688  79.948  81.688  81.812  81.72   82.1    82.672  83.972\n",
      "  84.32   85.544  86.936  87.64   89.112  90.392  91.656  93.34   95.136\n",
      "  96.196  96.704  96.192  96.84   97.212  98.472  97.904  99.048  99.18\n",
      " 101.56  101.336 101.968 103.336 104.84  105.752 107.376 107.34  108.096\n",
      " 108.3   109.368 111.18  111.464 113.148 114.368 114.868 115.936 116.816\n",
      " 117.624 119.008 120.496 121.332 122.432 123.08  123.4   124.192 123.512\n",
      " 124.444 125.288 126.288 128.392 131.02  130.696 131.796 133.072 133.512\n",
      " 134.784 134.276 135.68  136.116 137.472 138.244 138.072 139.356 140.496\n",
      " 140.612 141.384 142.164 142.672 144.208 145.184 145.564 145.84  147.32\n",
      " 146.968 148.804 150.864 151.232 151.816 152.748 154.256 155.408 157.608\n",
      " 157.644 157.712 158.892 159.776 159.568 160.568 161.4   160.816 162.608\n",
      " 165.128 166.28  167.824 168.356 170.688 172.224 172.472 173.496 175.816\n",
      " 177.972 178.336 179.344 180.08  180.676 182.224 184.192 185.24  187.36\n",
      " 189.072 191.332] \n",
      "\n"
     ]
    },
    {
     "data": {
      "text/plain": [
       "[<matplotlib.lines.Line2D at 0x2793d538a60>]"
      ]
     },
     "execution_count": 9,
     "metadata": {},
     "output_type": "execute_result"
    },
    {
     "data": {
      "image/png": "[encoded data removed]",
      "text/plain": [
       "<Figure size 432x288 with 1 Axes>"
      ]
     },
     "metadata": {
      "needs_background": "light"
     },
     "output_type": "display_data"
    }
   ],
   "source": [
    "random_walker =  np.random.choice([-1,+1],(1000,200))\n",
    "print(random_walker,'\\n')\n",
    "\n",
    "walker_distance = np.cumsum(random_walker,axis=1)\n",
    "print(walker_distance,'\\n')\n",
    "\n",
    "distance_squared = np.square(walker_distance)\n",
    "mean_squared = np.mean(distance_squared,axis=0)\n",
    "print(mean_squared,'\\n')\n",
    "\n",
    "rms_values = np.sqrt(mean_squared)\n",
    "steps = range(200)\n",
    "plt.plot(steps,rms_values)\n"
   ]
  },
  {
   "cell_type": "markdown",
   "metadata": {},
   "source": [
    "9\\. Analyze a data file \n",
    "  * Download the population of hares, lynxes and carrots at the beginning of the last century.\n",
    "    ```python\n",
    "    ! wget https://www.dropbox.com/s/3vigxoqayo389uc/populations.txt\n",
    "    ```\n",
    "\n",
    "  * Check the content by looking within the file\n",
    "  * Load the data (use an appropriate numpy method) into a 2D array\n",
    "  * Create arrays out of the columns, the arrays being (in order): *year*, *hares*, *lynxes*, *carrots* \n",
    "  * Plot the 3 populations over the years\n",
    "  * Compute the main statistical properties of the dataset (mean, std, correlations, etc.)\n",
    "  * Which species has the highest population each year?\n",
    "\n",
    "Do you feel there is some evident correlation here? [Studies](https://www.enr.gov.nt.ca/en/services/lynx/lynx-snowshoe-hare-cycle) tend to believe so."
   ]
  },
  {
   "cell_type": "code",
   "execution_count": 17,
   "metadata": {},
   "outputs": [
    {
     "name": "stdout",
     "output_type": "stream",
     "text": [
      "[[ 1900 30000  4000 48300]\n",
      " [ 1901 47200  6100 48200]\n",
      " [ 1902 70200  9800 41500]\n",
      " [ 1903 77400 35200 38200]\n",
      " [ 1904 36300 59400 40600]\n",
      " [ 1905 20600 41700 39800]\n",
      " [ 1906 18100 19000 38600]\n",
      " [ 1907 21400 13000 42300]\n",
      " [ 1908 22000  8300 44500]\n",
      " [ 1909 25400  9100 42100]\n",
      " [ 1910 27100  7400 46000]\n",
      " [ 1911 40300  8000 46800]\n",
      " [ 1912 57000 12300 43800]\n",
      " [ 1913 76600 19500 40900]\n",
      " [ 1914 52300 45700 39400]\n",
      " [ 1915 19500 51100 39000]\n",
      " [ 1916 11200 29700 36700]\n",
      " [ 1917  7600 15800 41800]\n",
      " [ 1918 14600  9700 43300]\n",
      " [ 1919 16200 10100 41300]\n",
      " [ 1920 24700  8600 47300]]\n",
      "correlation coefficient\n",
      "H -0.3891766206264165\n",
      "L -0.025448059625029933\n",
      "C -0.13633321304036863\n",
      "P values\n",
      "H 0.08120591933941333\n",
      "L 0.9128106746672549\n",
      "C 0.5556843861735965\n",
      "mean\n",
      "H 34080.95238095238\n",
      "L 20166.666666666668\n",
      "C 42400.0\n",
      "Standard deviation\n",
      "H 20897.906458089667\n",
      "L 16254.591536908763\n",
      "C 3322.5062255844787\n",
      "Maximum population for each year\n",
      "1900 : Carrots\n",
      "1901 : Carrots\n",
      "1902 : Hares\n",
      "1903 : Hares\n",
      "1904 : Lynxes\n",
      "1905 : Lynxes\n",
      "1906 : Carrots\n",
      "1907 : Carrots\n",
      "1908 : Carrots\n",
      "1909 : Carrots\n",
      "1910 : Carrots\n",
      "1911 : Carrots\n",
      "1912 : Hares\n",
      "1913 : Hares\n",
      "1914 : Hares\n",
      "1915 : Lynxes\n",
      "1916 : Carrots\n",
      "1917 : Carrots\n",
      "1918 : Carrots\n",
      "1919 : Carrots\n",
      "1920 : Carrots\n"
     ]
    },
    {
     "data": {
      "image/png": "[encoded data removed]",
      "text/plain": [
       "<Figure size 432x288 with 1 Axes>"
      ]
     },
     "metadata": {
      "needs_background": "light"
     },
     "output_type": "display_data"
    }
   ],
   "source": [
    "import scipy.stats as sp\n",
    "\n",
    "file = \"C:\\\\Users\\\\Walter\\\\LaboratoryOfComputationalPhysics_Y4\\\\populations.txt\"\n",
    "my_data = np.loadtxt(file,comments='#').astype(int)\n",
    "print((my_data))\n",
    "year = my_data[:,0]\n",
    "hares = my_data[:,1]\n",
    "lynxes = my_data[:,2]\n",
    "carrots = my_data[:,3]\n",
    "plt.plot(year,hares,label='hares')\n",
    "plt.plot(year,lynxes,label='lynxes')\n",
    "plt.plot(year,carrots,label='carrots')\n",
    "plt.xlabel(\"Years\")\n",
    "plt.legend()\n",
    "plt.show\n",
    "\n",
    "\n",
    "corr1,p_value1=sp.pearsonr(year, hares)\n",
    "corr2,p_value2=sp.pearsonr(year, lynxes)\n",
    "corr3,p_value3=sp.pearsonr(year, carrots)\n",
    "print('correlation coefficient')\n",
    "print('H',corr1)\n",
    "print('L',corr2)\n",
    "print('C',corr3)\n",
    "print('P values')\n",
    "print('H',p_value1)\n",
    "print('L',p_value2)\n",
    "print('C',p_value3)\n",
    "print('mean')\n",
    "print('H',np.mean(hares))\n",
    "print('L',np.mean(lynxes))\n",
    "print('C',np.mean(carrots))\n",
    "print('Standard deviation')\n",
    "print('H',np.std(hares))\n",
    "print('L',np.std(lynxes))\n",
    "print('C',np.std(carrots))\n",
    "\n",
    "print(\"Maximum population for each year\")\n",
    "data_noYears = my_data[:,1:]\n",
    "for i in range(len(data_noYears)):\n",
    "    j = np.argmax(data_noYears[i,:])\n",
    "    if j==0:\n",
    "        print(my_data[i,0],': Hares')\n",
    "    elif j==1:\n",
    "        print(my_data[i,0],': Lynxes')\n",
    "    else:\n",
    "        print(my_data[i,0],': Carrots')"
   ]
  },
  {
   "cell_type": "code",
   "execution_count": null,
   "metadata": {},
   "outputs": [],
   "source": []
  }
 ],
 "metadata": {
  "kernelspec": {
   "display_name": "Python 3",
   "language": "python",
   "name": "python3"
  },
  "language_info": {
   "codemirror_mode": {
    "name": "ipython",
    "version": 3
   },
   "file_extension": ".py",
   "mimetype": "text/x-python",
   "name": "python",
   "nbconvert_exporter": "python",
   "pygments_lexer": "ipython3",
   "version": "3.8.8"
  }
 },
 "nbformat": 4,
 "nbformat_minor": 2
}
