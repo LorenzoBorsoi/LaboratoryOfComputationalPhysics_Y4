{
 "cells": [
  {
   "cell_type": "markdown",
   "metadata": {},
   "source": [
    "1. The MickeyMouse problem\n",
    "\n",
    "a) Write a program that prints the numbers from 1 to 100. But for multiples of three print Mickey instead of the number and for the multiples of five print Mouse. For numbers which are multiples of both three and five print MickeyMouse\n",
    "\n",
    "b) Put the result in a tuple and substitute Mickey with Donald and Mouse with Duck"
   ]
  },
  {
   "cell_type": "code",
   "execution_count": 10,
   "metadata": {},
   "outputs": [
    {
     "name": "stdout",
     "output_type": "stream",
     "text": [
      "1\n",
      "2\n",
      "Mickey\n",
      "4\n",
      "Mouse\n",
      "Mickey\n",
      "7\n",
      "8\n",
      "Mickey\n",
      "Mouse\n",
      "11\n",
      "Mickey\n",
      "13\n",
      "14\n",
      "Mickey\n",
      "16\n",
      "17\n",
      "Mickey\n",
      "19\n",
      "Mouse\n",
      "Mickey\n",
      "22\n",
      "23\n",
      "Mickey\n",
      "Mouse\n",
      "26\n",
      "Mickey\n",
      "28\n",
      "29\n",
      "Mickey\n",
      "31\n",
      "32\n",
      "Mickey\n",
      "34\n",
      "Mouse\n",
      "Mickey\n",
      "37\n",
      "38\n",
      "Mickey\n",
      "Mouse\n",
      "41\n",
      "Mickey\n",
      "43\n",
      "44\n",
      "Mickey\n",
      "46\n",
      "47\n",
      "Mickey\n",
      "49\n",
      "Mouse\n",
      "Mickey\n",
      "52\n",
      "53\n",
      "Mickey\n",
      "Mouse\n",
      "56\n",
      "Mickey\n",
      "58\n",
      "59\n",
      "Mickey\n",
      "61\n",
      "62\n",
      "Mickey\n",
      "64\n",
      "Mouse\n",
      "Mickey\n",
      "67\n",
      "68\n",
      "Mickey\n",
      "Mouse\n",
      "71\n",
      "Mickey\n",
      "73\n",
      "74\n",
      "Mickey\n",
      "76\n",
      "77\n",
      "Mickey\n",
      "79\n",
      "Mouse\n",
      "Mickey\n",
      "82\n",
      "83\n",
      "Mickey\n",
      "Mouse\n",
      "86\n",
      "Mickey\n",
      "88\n",
      "89\n",
      "Mickey\n",
      "91\n",
      "92\n",
      "Mickey\n",
      "94\n",
      "Mouse\n",
      "Mickey\n",
      "97\n",
      "98\n",
      "Mickey\n",
      "Mouse\n"
     ]
    }
   ],
   "source": [
    "t=[]\n",
    "\n",
    "for i in range(1,101): \n",
    "    if i % 3 == 0:\n",
    "        print(\"Mickey\")\n",
    "        t.insert(i-1, \"Donald\")\n",
    "    elif i % 5 == 0:\n",
    "        print(\"Mouse\")\n",
    "        t.insert(i-1, \"Duck\")\n",
    "    else:\n",
    "        print(i)\n",
    "        t.insert(i-1, i)\n",
    "        \n",
    "t=tuple(t)"
   ]
  },
  {
   "cell_type": "markdown",
   "metadata": {},
   "source": [
    "2\\. The swap function\n",
    "\n",
    "Write a function that swap the values of two input variables x and y (whatever the type). Try to do that also without a temporary variable"
   ]
  },
  {
   "cell_type": "code",
   "execution_count": 2,
   "metadata": {},
   "outputs": [
    {
     "name": "stdout",
     "output_type": "stream",
     "text": [
      "\n",
      "a value after swapping: Gianni\n",
      "\n",
      "b value after swapping: 2 \n",
      "\n"
     ]
    }
   ],
   "source": [
    "a = 2\n",
    "b = \"Gianni\"\n",
    "\n",
    "\n",
    "def swapTemporary(x, y):\n",
    "    temp = x\n",
    "    x = y\n",
    "    y = temp\n",
    "    return x, y\n",
    "\n",
    "a,b = swapTemporary(a,b)\n",
    "print(\"\\na value after swapping:\", a)\n",
    "print(\"\\nb value after swapping:\", b, \"\\n\")"
   ]
  },
  {
   "cell_type": "code",
   "execution_count": 3,
   "metadata": {},
   "outputs": [
    {
     "name": "stdout",
     "output_type": "stream",
     "text": [
      "\n",
      "a value after swapping: Babbuino\n",
      "\n",
      "b value after swapping: 7\n"
     ]
    }
   ],
   "source": [
    "a = 7\n",
    "b = \"Babbuino\"\n",
    "\n",
    "def swap(w, z):\n",
    "    w, z = z, w\n",
    "    return w, z\n",
    "\n",
    "a,b = swap(a,b)\n",
    "print(\"\\na value after swapping:\", a)\n",
    "print(\"\\nb value after swapping:\", b)"
   ]
  },
  {
   "cell_type": "markdown",
   "metadata": {},
   "source": [
    "3\\. Computing the distance\n",
    "\n",
    "Write a function that calculates and returns the euclidean distance between two points *u* and *v*, where *u* and *v* are both 2-tuples *(x,y)*. For example, if *u=(3,0)* and *v=(0,4)*, the function should return 5"
   ]
  },
  {
   "cell_type": "code",
   "execution_count": 4,
   "metadata": {},
   "outputs": [
    {
     "name": "stdout",
     "output_type": "stream",
     "text": [
      "Distance:1.73\n"
     ]
    }
   ],
   "source": [
    "import math\n",
    "u=(3,0)\n",
    "v=(1,4)\n",
    "\n",
    "def Euclide(x,y):\n",
    "    d = u[0]*v[0]+u[1]*v[1]\n",
    "    return math.sqrt(d)\n",
    "\n",
    "dist = Euclide(u,v)\n",
    "print(\"Distance:%.2f\" % dist)"
   ]
  },
  {
   "cell_type": "markdown",
   "metadata": {},
   "source": [
    "4\\. Counting letters\n",
    "\n",
    "Write a program to calculate the number of times each character occurs in a given string *s*. Ignore differneces in capitalization"
   ]
  },
  {
   "cell_type": "code",
   "execution_count": 11,
   "metadata": {},
   "outputs": [
    {
     "name": "stdout",
     "output_type": "stream",
     "text": [
      "Character w occours 2 times\n",
      "Character r occours 17 times\n",
      "Character i occours 14 times\n",
      "Character t occours 19 times\n",
      "Character e occours 22 times\n",
      "Character   occours 41 times\n",
      "Character a occours 7 times\n",
      "Character p occours 8 times\n",
      "Character o occours 13 times\n",
      "Character g occours 1 times\n",
      "Character m occours 12 times\n",
      "Character h occours 9 times\n",
      "Character n occours 10 times\n",
      "Character s occours 9 times\n",
      "Character u occours 9 times\n",
      "Character b occours 5 times\n",
      "Character f occours 10 times\n",
      "Character 1 occours 2 times\n",
      "Character 0 occours 2 times\n",
      "Character . occours 2 times\n",
      "Character l occours 6 times\n",
      "Character c occours 3 times\n",
      "Character k occours 2 times\n",
      "Character y occours 2 times\n",
      "Character d occours 3 times\n",
      "Character v occours 2 times\n"
     ]
    }
   ],
   "source": [
    "s = \"Write a program that prints the numbers from 1 to 100. \\\n",
    "But for multiples of three print Mickey instead of the number and for the multiples of five print Mouse. \\\n",
    "For numbers which are multiples of both three and five print MickeyMouse\"\n",
    "\n",
    "\n",
    "def countstr(string):\n",
    "    dictionary = {}\n",
    "    string = string.lower()\n",
    "    \n",
    "    for char in string:\n",
    "        if char in dictionary:\n",
    "           dictionary[char] += 1\n",
    "        else:\n",
    "           dictionary[char] = 1\n",
    "    return(dictionary)\n",
    "\n",
    "a = countstr(s)\n",
    "for i in a: print(\"Character\", i, \"occours\", a[i], \"times\")\n"
   ]
  },
  {
   "cell_type": "markdown",
   "metadata": {},
   "source": [
    "5\\. Isolating the unique\n",
    "\n",
    "Write a function that determines and count the unique numbers in the list *l*"
   ]
  },
  {
   "cell_type": "code",
   "execution_count": 37,
   "metadata": {},
   "outputs": [
    {
     "name": "stdout",
     "output_type": "stream",
     "text": [
      "The unique numbers in the list l are: [58, 74, 96, 64, 10, 24, 19, 33, 86, 99, 18, 47, 88, 55, 54, 8, 79, 81, 57, 37, 1, 9, 95, 90, 98, 39, 16, 82, 92, 41, 30, 94, 5, 72, 87, 75, 53]\n"
     ]
    }
   ],
   "source": [
    "l = [36, 45, 58, 3, 74, 96, 64, 45, 31, 10, 24, 19, 33, 86, 99, 18, 63, 70, 85,\n",
    " 85, 63, 47, 56, 42, 70, 84, 88, 55, 20, 54, 8, 56, 51, 79, 81, 57, 37, 91,\n",
    " 1, 84, 84, 36, 66, 9, 89, 50, 42, 91, 50, 95, 90, 98, 39, 16, 82, 31, 92, 41,\n",
    " 45, 30, 66, 70, 34, 85, 94, 5, 3, 36, 72, 91, 84, 34, 87, 75, 53, 51, 20, 89, 51, 20]\n",
    "\n",
    "from collections import Counter\n",
    "K = Counter(l).keys()\n",
    "V = Counter(l).values()\n",
    "zipped = dict(zip(K,V))\n",
    "\n",
    "unique = [i for i in zipped if zipped[i] == 1]\n",
    "print(\"The unique numbers in the list l are:\", unique)\n"
   ]
  },
  {
   "cell_type": "markdown",
   "metadata": {},
   "source": [
    "6\\. Combination of functions\n",
    "\n",
    "Write two functions - one that returns the square of a number, and one that returns the cube. Now write a third function that returns the number raised to the 6th power using the two previous functions."
   ]
  },
  {
   "cell_type": "code",
   "execution_count": 12,
   "metadata": {},
   "outputs": [
    {
     "name": "stdout",
     "output_type": "stream",
     "text": [
      "Square: 25\n",
      "Cube: 125\n",
      "6th power: 15625\n"
     ]
    }
   ],
   "source": [
    "def square(x):\n",
    "    return(x**2)\n",
    "\n",
    "def cube(x):\n",
    "    return(x**3)\n",
    "\n",
    "def expsix(x):\n",
    "    return square(cube(x))\n",
    "\n",
    "a=5\n",
    "print(\"Square:\",square(a))\n",
    "print(\"Cube:\", cube(a))\n",
    "print(\"6th power:\" ,expsix(a))"
   ]
  },
  {
   "cell_type": "markdown",
   "metadata": {},
   "source": [
    "7\\. Cubes\n",
    "\n",
    "Create a list of the cubes of x for x in *[0, 10]* using:\n",
    "\n",
    "a) a for loop\n",
    "\n",
    "b) a list comprehension"
   ]
  },
  {
   "cell_type": "code",
   "execution_count": 16,
   "metadata": {},
   "outputs": [
    {
     "name": "stdout",
     "output_type": "stream",
     "text": [
      "[0, 1, 8, 27, 64, 125, 216, 343, 512, 729, 1000]\n",
      "[0, 1, 8, 27, 64, 125, 216, 343, 512, 729, 1000]\n"
     ]
    }
   ],
   "source": [
    "l2=[]\n",
    "for x in range(0,11):\n",
    "    l2.append(x**3)\n",
    "print(l2)\n",
    "\n",
    "l1=[x**3 for x in range(0,11)]\n",
    "print(l1)"
   ]
  },
  {
   "cell_type": "markdown",
   "metadata": {},
   "source": [
    "8\\. Nested list comprehension\n",
    "\n",
    "A Pythagorean triple is an integer solution to the Pythagorean theorem $a^2+b^2=c^2$. The first Pythagorean triple is (3,4,5). Find and put in a tuple all unique Pythagorean triples for the positive integers a, b and c less than 100."
   ]
  },
  {
   "cell_type": "code",
   "execution_count": 2,
   "metadata": {},
   "outputs": [],
   "source": [
    "triple = tuple([x,y,z] for x in range(1,101) for y in range(1,101)\n",
    "    for z in range(1,101) if x*x + y*y == z*z)"
   ]
  },
  {
   "cell_type": "markdown",
   "metadata": {},
   "source": [
    "9\\. Normalization\n",
    "\n",
    "Write a function that takes a tuple of numbers and returns it with the entries normalized to one"
   ]
  },
  {
   "cell_type": "code",
   "execution_count": 42,
   "metadata": {},
   "outputs": [],
   "source": [
    "import math\n",
    "def normalization(vector):\n",
    "    lenght = math.sqrt(sum([x**2 for x in vector]))\n",
    "    normVector = tuple([x/lenght for x in vector]) \n",
    "    \n",
    "    return normVector\n",
    "\n",
    "#v = (0, 3, 4, 9, 0, 0, 2, 5)\n",
    "#print(normalization(v))\n",
    "\n",
    "\n",
    "#l = math.sqrt(sum([x**2 for x in normalization(v)]))\n",
    "#print(\"\\n\" ,l)"
   ]
  },
  {
   "cell_type": "code",
   "execution_count": null,
   "metadata": {},
   "outputs": [],
   "source": []
  }
 ],
 "metadata": {
  "kernelspec": {
   "display_name": "Python 3",
   "language": "python",
   "name": "python3"
  },
  "language_info": {
   "codemirror_mode": {
    "name": "ipython",
    "version": 3
   },
   "file_extension": ".py",
   "mimetype": "text/x-python",
   "name": "python",
   "nbconvert_exporter": "python",
   "pygments_lexer": "ipython3",
   "version": "3.8.10"
  }
 },
 "nbformat": 4,
 "nbformat_minor": 2
}
