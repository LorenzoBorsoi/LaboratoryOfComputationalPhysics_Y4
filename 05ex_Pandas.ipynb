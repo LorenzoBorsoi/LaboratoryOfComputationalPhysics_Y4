{
 "cells": [
  {
   "cell_type": "markdown",
   "metadata": {},
   "source": [
    "## Pandas analysis\n",
    "\n",
    "This exercise consists in analyzing a dataset containg timing information from a series of Time-to-Digital-Converters (TDC) implemented in a couple of FPGAs. Each measurement (i.e. each row of the input file) consists of a flag that specifies the type of message ('HEAD', which in this case is always 1), two addresses of the TDC providing the signal ('FPGA' and 'TDC_CHANNEL'), and the timing information ('ORBIT_CNT', 'BX_COUNTER', and 'TDC_MEAS'). Each TDC count corresponds to 25/30 ns, whereas a unit of BX_COUNTER corresponds to 25 ns, and the ORBIT_CNT is increased every 'x' BX_COUNTER. This allows to store the time in a similar way to hours, minutes and seconds."
   ]
  },
  {
   "cell_type": "code",
   "execution_count": 1,
   "metadata": {},
   "outputs": [
    {
     "name": "stdout",
     "output_type": "stream",
     "text": [
      "--2021-11-24 15:12:55--  https://www.dropbox.com/s/xvjzaxzz3ysphme/data_000637.txt\n",
      "Resolving www.dropbox.com (www.dropbox.com)... 162.125.69.18, 2620:100:6025:18::a27d:4512\n",
      "Connecting to www.dropbox.com (www.dropbox.com)|162.125.69.18|:443... connected.\n",
      "HTTP request sent, awaiting response... 301 Moved Permanently\n",
      "Location: /s/raw/xvjzaxzz3ysphme/data_000637.txt [following]\n",
      "--2021-11-24 15:12:56--  https://www.dropbox.com/s/raw/xvjzaxzz3ysphme/data_000637.txt\n",
      "Reusing existing connection to www.dropbox.com:443.\n",
      "HTTP request sent, awaiting response... 302 Found\n",
      "Location: https://ucc0e6af5e997520605e0d2e3543.dl.dropboxusercontent.com/cd/0/inline/Baka1CvYyLWY5q82UYPDOK4MMVccTNbcFn17VpDzHWlqbrlwv7VHOjcBJc0m8qGvCWMcIljDl3_w82uBUXmQf4yjWNjnHvTmcfP84DVaPTe1-YUWNwAL8oj7fbmYqQyb2HpptSYpZscA6O7qBVLzqNfx/file# [following]\n",
      "--2021-11-24 15:12:57--  https://ucc0e6af5e997520605e0d2e3543.dl.dropboxusercontent.com/cd/0/inline/Baka1CvYyLWY5q82UYPDOK4MMVccTNbcFn17VpDzHWlqbrlwv7VHOjcBJc0m8qGvCWMcIljDl3_w82uBUXmQf4yjWNjnHvTmcfP84DVaPTe1-YUWNwAL8oj7fbmYqQyb2HpptSYpZscA6O7qBVLzqNfx/file\n",
      "Resolving ucc0e6af5e997520605e0d2e3543.dl.dropboxusercontent.com (ucc0e6af5e997520605e0d2e3543.dl.dropboxusercontent.com)... 162.125.69.15, 2620:100:6025:15::a27d:450f\n",
      "Connecting to ucc0e6af5e997520605e0d2e3543.dl.dropboxusercontent.com (ucc0e6af5e997520605e0d2e3543.dl.dropboxusercontent.com)|162.125.69.15|:443... connected.\n",
      "HTTP request sent, awaiting response... 200 OK\n",
      "Length: 33179236 (32M) [text/plain]\n",
      "Saving to: ‘/home/kabo/data/data_000637.txt’\n",
      "\n",
      "data_000637.txt     100%[===================>]  31,64M   856KB/s    in 51s     \n",
      "\n",
      "2021-11-24 15:13:48 (639 KB/s) - ‘/home/kabo/data/data_000637.txt’ saved [33179236/33179236]\n",
      "\n"
     ]
    }
   ],
   "source": [
    "# If you didn't download it yet, please get the relevant file now!\n",
    "#!wget https://www.dropbox.com/s/xvjzaxzz3ysphme/data_000637.txt -P ~/data/"
   ]
  },
  {
   "cell_type": "markdown",
   "metadata": {},
   "source": [
    "1\\. Create a Pandas DataFrame reading N rows of the 'data_000637.txt' dataset. Choose N to be smaller than or equal to the maximum number of rows and larger that 10k.\n",
    "\n",
    "2\\. Find out the number of BX in a ORBIT (the value 'x').\n",
    "\n",
    "3\\. Find out how much the data taking lasted. You can either make an estimate based on the fraction of the measurements (rows) you read, or perform this check precisely by reading out the whole dataset.\n",
    "\n",
    "4\\. Create a new column with the absolute time in ns (as a combination of the other three columns with timing information).\n",
    "\n",
    "5\\. Replace the values (all 1) of the HEAD column randomly with 0 or 1.\n",
    "\n",
    "6\\. Create a new DataFrame that contains only the rows with HEAD=1.\n",
    "\n",
    "7\\. Make two occupancy plots (one for each FPGA), i.e. plot the number of counts per TDC channel\n",
    "\n",
    "8\\. Use the groupby method to find out the noisy channels, i.e. the TDC channels with most counts (say the top 3)\n",
    "\n",
    "9\\. Count the number of unique orbits. Count the number of unique orbits with at least one measurement from TDC_CHANNEL=139"
   ]
  },
  {
   "cell_type": "code",
   "execution_count": 2,
   "metadata": {},
   "outputs": [],
   "source": [
    "import pandas as pd\n",
    "import numpy as np\n",
    "import matplotlib.pyplot as plt\n",
    "import math as m"
   ]
  },
  {
   "cell_type": "code",
   "execution_count": 4,
   "metadata": {},
   "outputs": [
    {
     "name": "stdout",
     "output_type": "stream",
     "text": [
      "         HEAD  FPGA  TDC_CHANNEL   ORBIT_CNT  BX_COUNTER  TDC_MEAS\n",
      "0           1     0          123  3869200167        2374        26\n",
      "1           1     0          124  3869200167        2374        27\n",
      "2           1     0           63  3869200167        2553        28\n",
      "3           1     0           64  3869200167        2558        19\n",
      "4           1     0           64  3869200167        2760        25\n",
      "...       ...   ...          ...         ...         ...       ...\n",
      "1100601     1     0           63  3869209710         124        13\n",
      "1100602     1     0           89  3869209710         134         1\n",
      "1100603     1     1           15  3869209710         150        26\n",
      "1100604     1     0           20  3869209710         154        26\n",
      "1100605     1     0           56  3869209710         152        23\n",
      "\n",
      "[1100606 rows x 6 columns]\n",
      "Number of BX in an ORBIT is 3564\n",
      "Time taken for the whole data acquisition is 0.9804564 s\n",
      "Estimation of daq time from 83.97 % of dataset is 1.0126064236756842 s\n",
      "         HEAD  FPGA  TDC_CHANNEL   ORBIT_CNT  BX_COUNTER  TDC_MEAS  T_STAMP(s)\n",
      "0           1     0          123  3869200167        2374        26    0.000059\n",
      "1           1     0          124  3869200167        2374        27    0.000059\n",
      "2           1     0           63  3869200167        2553        28    0.000064\n",
      "3           1     0           64  3869200167        2558        19    0.000064\n",
      "4           1     0           64  3869200167        2760        25    0.000069\n",
      "...       ...   ...          ...         ...         ...       ...         ...\n",
      "1310715     1     0           62  3869211171         762        14    0.980475\n",
      "1310716     1     1            4  3869211171         763        11    0.980475\n",
      "1310717     1     0           64  3869211171         764         0    0.980476\n",
      "1310718     1     0          139  3869211171         769         0    0.980476\n",
      "1310719     1     0           61  3869211171         762        18    0.980475\n",
      "\n",
      "[1310720 rows x 7 columns]\n"
     ]
    },
    {
     "data": {
      "image/png": "[encoded data removed]",
      "text/plain": [
       "<Figure size 432x288 with 1 Axes>"
      ]
     },
     "metadata": {
      "needs_background": "light"
     },
     "output_type": "display_data"
    },
    {
     "data": {
      "image/png": "[encoded data removed]",
      "text/plain": [
       "<Figure size 432x288 with 1 Axes>"
      ]
     },
     "metadata": {
      "needs_background": "light"
     },
     "output_type": "display_data"
    },
    {
     "name": "stdout",
     "output_type": "stream",
     "text": [
      "FPGA  TDC_CHANNEL\n",
      "0     139            75617\n",
      "      64             64581\n",
      "      63             63724\n",
      "Name: TDC_MEAS, dtype: int64\n",
      "FPGA  TDC_CHANNEL\n",
      "1     2              32669\n",
      "      139            32442\n",
      "      1              28438\n",
      "Name: TDC_MEAS, dtype: int64\n",
      "Unique orbits:  11001\n",
      "Unique orbits in channel 139:  10976\n"
     ]
    }
   ],
   "source": [
    "#1. Create a Pandas DataFrame reading N rows of the 'data_000637.txt' dataset\n",
    "df_fpga = pd.read_csv('./data/data_000637.txt')\n",
    "df1 = df_fpga.head(np.random.randint(10000, df_fpga.shape[0])) # I select a random sample of the rows starting from the beginning of DAQ process\n",
    "print(df1)\n",
    "\n",
    "\n",
    "#2. Find out the number of BX in a ORBIT \n",
    "x = df1['BX_COUNTER'].max() + 1\n",
    "print('Number of BX in an ORBIT is', x)\n",
    "\n",
    "\n",
    "#3. Find out how much the data taking lasted\n",
    "#First with the whole dataset: \n",
    "daq_time = (df_fpga['ORBIT_CNT'].max()-df_fpga['ORBIT_CNT'].min())*x*25*m.pow(10,-9)\n",
    "print('Time taken for the whole data acquisition is', daq_time, 's')\n",
    "#Then estimating from the fraction of dataset I took\n",
    "daq_time_estimate = (df1['ORBIT_CNT'].max()-df1['ORBIT_CNT'].min())*x*25*m.pow(10,-9)*(df_fpga.shape[0]/df1.shape[0])\n",
    "print('Estimation of daq time from', np.round((df1.shape[0]*100/df_fpga.shape[0]),2), '% of dataset is', daq_time_estimate,'s')\n",
    "\n",
    "\n",
    "#4. Create a new column with the absolute time in ns\n",
    "df_fpga['T_STAMP(s)'] = ((df_fpga['ORBIT_CNT']-df_fpga['ORBIT_CNT'].min())*x*25.+df_fpga['BX_COUNTER']*25+df_fpga['TDC_MEAS']*5/6)*1e-9\n",
    "print(df_fpga)\n",
    "\n",
    "\n",
    "#5. Replace the values (all 1) of the HEAD column randomly with 0 or 1\n",
    "df2 = df_fpga.copy()\n",
    "df2['HEAD'] = np.random.randint(0,2, size = df2.shape[0])\n",
    "\n",
    "\n",
    "#6. Create a new DataFrame that contains only the rows with HEAD=1\n",
    "df_allHEAD1 = df2[df2['HEAD'] == 1]\n",
    "\n",
    "\n",
    "#7. Make two occupancy plots (one for each FPGA), i.e. plot the number of counts per TDC channel\n",
    "fpga0 = df_fpga[df_fpga['FPGA']==0]\n",
    "fpga0.hist('TDC_CHANNEL')\n",
    "plt.title('FPGA=0')\n",
    "fpga1 = df_fpga[df_fpga['FPGA']==1]\n",
    "fpga1.hist('TDC_CHANNEL')\n",
    "plt.title('FPGA=1')\n",
    "plt.show()\n",
    "\n",
    "\n",
    "#8. Use the groupby method to find out the noisy channels\n",
    "print(fpga0.groupby(['FPGA', 'TDC_CHANNEL'])['TDC_MEAS'].count().sort_values(ascending = False).head(3))\n",
    "print(fpga1.groupby(['FPGA', 'TDC_CHANNEL'])['TDC_MEAS'].count().sort_values(ascending = False).head(3))\n",
    "\n",
    "\n",
    "\n",
    "#9. Count the number of unique orbits.\n",
    "#Unique orbits\n",
    "print('Unique orbits: ', df_fpga['ORBIT_CNT'].nunique())\n",
    "#Unique orbits afferenti al canale 139\n",
    "df_ch139 = df_fpga[df_fpga['TDC_CHANNEL']==139]\n",
    "print('Unique orbits in channel 139: ', df_ch139['ORBIT_CNT'].nunique())\n"
   ]
  },
  {
   "cell_type": "code",
   "execution_count": null,
   "metadata": {},
   "outputs": [],
   "source": []
  }
 ],
 "metadata": {
  "kernelspec": {
   "display_name": "Python 3",
   "language": "python",
   "name": "python3"
  },
  "language_info": {
   "codemirror_mode": {
    "name": "ipython",
    "version": 3
   },
   "file_extension": ".py",
   "mimetype": "text/x-python",
   "name": "python",
   "nbconvert_exporter": "python",
   "pygments_lexer": "ipython3",
   "version": "3.8.10"
  }
 },
 "nbformat": 4,
 "nbformat_minor": 2
}
