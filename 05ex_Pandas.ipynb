{
 "cells": [
  {
   "cell_type": "markdown",
   "metadata": {},
   "source": [
    "## Pandas analysis\n",
    "\n",
    "This exercise consists in analyzing a dataset containg timing information from a series of Time-to-Digital-Converters (TDC) implemented in a couple of FPGAs. Each measurement (i.e. each row of the input file) consists of a flag that specifies the type of message ('HEAD', which in this case is always 1), two addresses of the TDC providing the signal ('FPGA' and 'TDC_CHANNEL'), and the timing information ('ORBIT_CNT', 'BX_COUNTER', and 'TDC_MEAS'). Each TDC count corresponds to 25/30 ns, whereas a unit of BX_COUNTER corresponds to 25 ns, and the ORBIT_CNT is increased every 'x' BX_COUNTER. This allows to store the time in a similar way to hours, minutes and seconds."
   ]
  },
  {
   "cell_type": "code",
   "execution_count": 18,
   "metadata": {},
   "outputs": [],
   "source": [
    "import numpy as np\n",
    "import pandas as pd\n",
    "import matplotlib.pyplot as plt\n",
    "import seaborn as sns"
   ]
  },
  {
   "cell_type": "code",
   "execution_count": null,
   "metadata": {},
   "outputs": [],
   "source": [
    "# If you didn't download it yet, please get the relevant file now!\n",
    "!wget https://www.dropbox.com/s/xvjzaxzz3ysphme/data_000637.txt -P ~/data/"
   ]
  },
  {
   "cell_type": "markdown",
   "metadata": {},
   "source": [
    "1\\. Create a Pandas DataFrame reading N rows of the 'data_000637.txt' dataset. Choose N to be smaller than or equal to the maximum number of rows and larger that 10k.\n",
    "\n",
    "2\\. Find out the number of BX in a ORBIT (the value 'x').\n",
    "\n",
    "3\\. Find out how much the data taking lasted. You can either make an estimate based on the fraction of the measurements (rows) you read, or perform this check precisely by reading out the whole dataset.\n",
    "\n",
    "4\\. Create a new column with the absolute time in ns (as a combination of the other three columns with timing information).\n",
    "\n",
    "5\\. Replace the values (all 1) of the HEAD column randomly with 0 or 1.\n",
    "\n",
    "6\\. Create a new DataFrame that contains only the rows with HEAD=1.\n",
    "\n",
    "7\\. Make two occupancy plots (one for each FPGA), i.e. plot the number of counts per TDC channel\n",
    "\n",
    "8\\. Use the groupby method to find out the noisy channels, i.e. the TDC channels with most counts (say the top 3)\n",
    "\n",
    "9\\. Count the number of unique orbits. Count the number of unique orbits with at least one measurement from TDC_CHANNEL=139"
   ]
  },
  {
   "cell_type": "markdown",
   "metadata": {},
   "source": [
    "### Task 1"
   ]
  },
  {
   "cell_type": "code",
   "execution_count": 39,
   "metadata": {
    "scrolled": false
   },
   "outputs": [
    {
     "data": {
      "text/html": [
       "<div>\n",
       "<style scoped>\n",
       "    .dataframe tbody tr th:only-of-type {\n",
       "        vertical-align: middle;\n",
       "    }\n",
       "\n",
       "    .dataframe tbody tr th {\n",
       "        vertical-align: top;\n",
       "    }\n",
       "\n",
       "    .dataframe thead th {\n",
       "        text-align: right;\n",
       "    }\n",
       "</style>\n",
       "<table border=\"1\" class=\"dataframe\">\n",
       "  <thead>\n",
       "    <tr style=\"text-align: right;\">\n",
       "      <th></th>\n",
       "      <th>HEAD</th>\n",
       "      <th>FPGA</th>\n",
       "      <th>TDC_CHANNEL</th>\n",
       "      <th>ORBIT_CNT</th>\n",
       "      <th>BX_COUNTER</th>\n",
       "      <th>TDC_MEAS</th>\n",
       "    </tr>\n",
       "  </thead>\n",
       "  <tbody>\n",
       "    <tr>\n",
       "      <th>0</th>\n",
       "      <td>1</td>\n",
       "      <td>0</td>\n",
       "      <td>123</td>\n",
       "      <td>3869200167</td>\n",
       "      <td>2374</td>\n",
       "      <td>26</td>\n",
       "    </tr>\n",
       "    <tr>\n",
       "      <th>1</th>\n",
       "      <td>1</td>\n",
       "      <td>0</td>\n",
       "      <td>124</td>\n",
       "      <td>3869200167</td>\n",
       "      <td>2374</td>\n",
       "      <td>27</td>\n",
       "    </tr>\n",
       "    <tr>\n",
       "      <th>2</th>\n",
       "      <td>1</td>\n",
       "      <td>0</td>\n",
       "      <td>63</td>\n",
       "      <td>3869200167</td>\n",
       "      <td>2553</td>\n",
       "      <td>28</td>\n",
       "    </tr>\n",
       "    <tr>\n",
       "      <th>3</th>\n",
       "      <td>1</td>\n",
       "      <td>0</td>\n",
       "      <td>64</td>\n",
       "      <td>3869200167</td>\n",
       "      <td>2558</td>\n",
       "      <td>19</td>\n",
       "    </tr>\n",
       "    <tr>\n",
       "      <th>4</th>\n",
       "      <td>1</td>\n",
       "      <td>0</td>\n",
       "      <td>64</td>\n",
       "      <td>3869200167</td>\n",
       "      <td>2760</td>\n",
       "      <td>25</td>\n",
       "    </tr>\n",
       "    <tr>\n",
       "      <th>...</th>\n",
       "      <td>...</td>\n",
       "      <td>...</td>\n",
       "      <td>...</td>\n",
       "      <td>...</td>\n",
       "      <td>...</td>\n",
       "      <td>...</td>\n",
       "    </tr>\n",
       "    <tr>\n",
       "      <th>1310715</th>\n",
       "      <td>1</td>\n",
       "      <td>0</td>\n",
       "      <td>62</td>\n",
       "      <td>3869211171</td>\n",
       "      <td>762</td>\n",
       "      <td>14</td>\n",
       "    </tr>\n",
       "    <tr>\n",
       "      <th>1310716</th>\n",
       "      <td>1</td>\n",
       "      <td>1</td>\n",
       "      <td>4</td>\n",
       "      <td>3869211171</td>\n",
       "      <td>763</td>\n",
       "      <td>11</td>\n",
       "    </tr>\n",
       "    <tr>\n",
       "      <th>1310717</th>\n",
       "      <td>1</td>\n",
       "      <td>0</td>\n",
       "      <td>64</td>\n",
       "      <td>3869211171</td>\n",
       "      <td>764</td>\n",
       "      <td>0</td>\n",
       "    </tr>\n",
       "    <tr>\n",
       "      <th>1310718</th>\n",
       "      <td>1</td>\n",
       "      <td>0</td>\n",
       "      <td>139</td>\n",
       "      <td>3869211171</td>\n",
       "      <td>769</td>\n",
       "      <td>0</td>\n",
       "    </tr>\n",
       "    <tr>\n",
       "      <th>1310719</th>\n",
       "      <td>1</td>\n",
       "      <td>0</td>\n",
       "      <td>61</td>\n",
       "      <td>3869211171</td>\n",
       "      <td>762</td>\n",
       "      <td>18</td>\n",
       "    </tr>\n",
       "  </tbody>\n",
       "</table>\n",
       "<p>1310720 rows × 6 columns</p>\n",
       "</div>"
      ],
      "text/plain": [
       "         HEAD  FPGA  TDC_CHANNEL   ORBIT_CNT  BX_COUNTER  TDC_MEAS\n",
       "0           1     0          123  3869200167        2374        26\n",
       "1           1     0          124  3869200167        2374        27\n",
       "2           1     0           63  3869200167        2553        28\n",
       "3           1     0           64  3869200167        2558        19\n",
       "4           1     0           64  3869200167        2760        25\n",
       "...       ...   ...          ...         ...         ...       ...\n",
       "1310715     1     0           62  3869211171         762        14\n",
       "1310716     1     1            4  3869211171         763        11\n",
       "1310717     1     0           64  3869211171         764         0\n",
       "1310718     1     0          139  3869211171         769         0\n",
       "1310719     1     0           61  3869211171         762        18\n",
       "\n",
       "[1310720 rows x 6 columns]"
      ]
     },
     "execution_count": 39,
     "metadata": {},
     "output_type": "execute_result"
    }
   ],
   "source": [
    "# data file\n",
    "file_name = \"./data_000637.txt\"\n",
    "\n",
    "# load data into a dataframe\n",
    "df_tot = pd.read_csv(file_name)\n",
    "\n",
    "df_tot"
   ]
  },
  {
   "cell_type": "markdown",
   "metadata": {},
   "source": [
    "### Task 2"
   ]
  },
  {
   "cell_type": "code",
   "execution_count": 40,
   "metadata": {},
   "outputs": [
    {
     "name": "stdout",
     "output_type": "stream",
     "text": [
      "One ORBIT_CNT corresponds to 3564 BX_COUNTERs\n"
     ]
    }
   ],
   "source": [
    "# let's assume that every BX value is present in the dataset (at least, let's assume its maximum is)\n",
    "# then we simply get the maximum BX value and add 1 to it (as it starts from 0)\n",
    "x = df_tot[\"BX_COUNTER\"].max() + 1\n",
    "\n",
    "print(f\"One ORBIT_CNT corresponds to {x} BX_COUNTERs\")"
   ]
  },
  {
   "cell_type": "markdown",
   "metadata": {},
   "source": [
    "### Task 3 & 4"
   ]
  },
  {
   "cell_type": "code",
   "execution_count": 37,
   "metadata": {},
   "outputs": [
    {
     "name": "stdout",
     "output_type": "stream",
     "text": [
      "Data have been collected for 0.9804162533125 seconds\n"
     ]
    }
   ],
   "source": [
    "# let's convert the \"(h:m:s)\" format into a single time value in nanoseconds\n",
    "df_tot[\"TIME\"] = df_tot[\"ORBIT_CNT\"]*x*25 + df_tot[\"BX_COUNTER\"]*25 + df_tot[\"TDC_MEAS\"]*25/30\n",
    "df_tot.sort_values(by=\"TIME\", ascending=True, inplace=True) # make sure data is ordered\n",
    "\n",
    "# to find out how much the data taking lasted we simply subtract the initial time stamp from the last one\n",
    "run_time = df_tot[\"TIME\"].iloc[-1] - df_tot[\"TIME\"].iloc[0]\n",
    "\n",
    "print(f\"Data have been collected for {run_time*1e-9} seconds\")"
   ]
  },
  {
   "cell_type": "markdown",
   "metadata": {},
   "source": [
    "Data collection time seems a bit too low......"
   ]
  },
  {
   "cell_type": "markdown",
   "metadata": {},
   "source": [
    "### Task 5"
   ]
  },
  {
   "cell_type": "code",
   "execution_count": 50,
   "metadata": {},
   "outputs": [
    {
     "data": {
      "text/plain": [
       "array([1, 0])"
      ]
     },
     "execution_count": 50,
     "metadata": {},
     "output_type": "execute_result"
    }
   ],
   "source": [
    "# replace the \"HEAD\" column with either 0 or 1 chosen at random\n",
    "df_tot[\"HEAD\"] = np.random.randint(low=0, high=2, size=len(df_tot))\n",
    "\n",
    "# check the unique values in the \"HEAD\" columns: they should be 0 and 1\n",
    "df_tot[\"HEAD\"].unique()"
   ]
  },
  {
   "cell_type": "markdown",
   "metadata": {},
   "source": [
    "### Task 6"
   ]
  },
  {
   "cell_type": "code",
   "execution_count": 53,
   "metadata": {
    "scrolled": true
   },
   "outputs": [
    {
     "data": {
      "text/plain": [
       "array([1])"
      ]
     },
     "execution_count": 53,
     "metadata": {},
     "output_type": "execute_result"
    }
   ],
   "source": [
    "# select only the rows with \"HEAD\" equal to 1\n",
    "df_head_1 = df_tot[df_tot[\"HEAD\"]==1]\n",
    "\n",
    "# check the unique values in the \"HEAD\" columns: it should be just 1\n",
    "df_head_1[\"HEAD\"].unique()"
   ]
  },
  {
   "cell_type": "markdown",
   "metadata": {},
   "source": [
    "### Task 7"
   ]
  },
  {
   "cell_type": "code",
   "execution_count": 104,
   "metadata": {
    "scrolled": false
   },
   "outputs": [
    {
     "data": {
      "image/png": "[encoded data removed]",
      "text/plain": [
       "<Figure size 1400x800 with 1 Axes>"
      ]
     },
     "metadata": {},
     "output_type": "display_data"
    }
   ],
   "source": [
    "fig, ax = plt.subplots(figsize=(14, 8))\n",
    "\n",
    "sns.histplot(\n",
    "    data=df_head_1, \n",
    "    x=\"TDC_CHANNEL\", \n",
    "    hue=\"FPGA\",\n",
    "    stat=\"count\", \n",
    "    element=\"bars\", \n",
    "    fill=True, \n",
    "    color=[\"#009cff\", \"#FF6300\"], \n",
    "    edgecolor=\"white\", \n",
    "    alpha=0.6,\n",
    "    ax=ax\n",
    ")\n",
    "\n",
    "ax.set_xlim(df_head_1[\"TDC_CHANNEL\"].min()-1, df_head_1[\"TDC_CHANNEL\"].max()+1)\n",
    "plt.show()"
   ]
  },
  {
   "cell_type": "markdown",
   "metadata": {},
   "source": [
    "Data is quite pathological.... should not look like this! I would've expected an almost flat distribution!!"
   ]
  },
  {
   "cell_type": "markdown",
   "metadata": {},
   "source": [
    "### Task 8"
   ]
  },
  {
   "cell_type": "code",
   "execution_count": 121,
   "metadata": {},
   "outputs": [
    {
     "name": "stdout",
     "output_type": "stream",
     "text": [
      "Overall top 3:\n",
      "\n",
      "   FPGA  TDC_CHANNEL  COUNTS\n",
      "0     0          139   75617\n",
      "1     0           64   64581\n",
      "2     0           63   63724\n",
      "\n",
      "******************************\n",
      "\n",
      "FPGA==0 top 3:\n",
      "\n",
      "   FPGA  TDC_CHANNEL  COUNTS\n",
      "0     0          139   75617\n",
      "1     0           64   64581\n",
      "2     0           63   63724\n",
      "\n",
      "******************************\n",
      "\n",
      "FPGA==1 top 3:\n",
      "\n",
      "    FPGA  TDC_CHANNEL  COUNTS\n",
      "8      1            2   32669\n",
      "9      1          139   32442\n",
      "12     1            1   28438\n"
     ]
    }
   ],
   "source": [
    "# group by FPGA and TDC_CHANNEL\n",
    "df_grouped = df_tot.groupby([\"FPGA\", \"TDC_CHANNEL\"], as_index=False).count()\n",
    "# select relevant columns\n",
    "df_grouped = df_grouped.loc[:, [\"FPGA\", \"TDC_CHANNEL\", \"HEAD\"]].rename(columns={\"HEAD\": \"COUNTS\"})\n",
    "# sort the dataframe based on the TDC_CHANNEL counts\n",
    "df_grouped.sort_values([\"COUNTS\"], ascending=False, inplace=True, ignore_index=True)\n",
    "\n",
    "print(\"Overall top 3:\\n\")\n",
    "print(df_grouped.iloc[:3])\n",
    "print(\"\\n\"+\"*\"*30+\"\\n\")\n",
    "print(\"FPGA==0 top 3:\\n\")\n",
    "print(df_grouped[df_grouped[\"FPGA\"]==0].iloc[:3])\n",
    "print(\"\\n\"+\"*\"*30+\"\\n\")\n",
    "print(\"FPGA==1 top 3:\\n\")\n",
    "print(df_grouped[df_grouped[\"FPGA\"]==1].iloc[:3])"
   ]
  },
  {
   "cell_type": "markdown",
   "metadata": {},
   "source": [
    "### Task 9"
   ]
  },
  {
   "cell_type": "code",
   "execution_count": 123,
   "metadata": {},
   "outputs": [
    {
     "name": "stdout",
     "output_type": "stream",
     "text": [
      "Number of unique orbits: 11001\n",
      "Number of unique orbits with at least one measurement from TDC_CHANNEL==139: 10976\n"
     ]
    }
   ],
   "source": [
    "# count the number of unique ORBIT_CNT values\n",
    "n_orbits = df_tot[\"ORBIT_CNT\"].nunique()\n",
    "# count the number of unique ORBIT_CNT values (considering only those in which a scintillator signal is present)\n",
    "n_orbits_tdc_139 = df_tot[(df_tot[\"TDC_CHANNEL\"]==139)][\"ORBIT_CNT\"].nunique()\n",
    "\n",
    "print(f\"Number of unique orbits: {n_orbits}\")\n",
    "print(f\"Number of unique orbits with at least one measurement from TDC_CHANNEL==139: {n_orbits_tdc_139}\")"
   ]
  }
 ],
 "metadata": {
  "kernelspec": {
   "display_name": "Python 3",
   "language": "python",
   "name": "python3"
  },
  "language_info": {
   "codemirror_mode": {
    "name": "ipython",
    "version": 3
   },
   "file_extension": ".py",
   "mimetype": "text/x-python",
   "name": "python",
   "nbconvert_exporter": "python",
   "pygments_lexer": "ipython3",
   "version": "3.8.5"
  }
 },
 "nbformat": 4,
 "nbformat_minor": 2
}
