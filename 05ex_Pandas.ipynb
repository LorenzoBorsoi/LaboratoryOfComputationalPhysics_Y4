{
 "cells": [
  {
   "cell_type": "markdown",
   "metadata": {},
   "source": [
    "## Pandas analysis\n",
    "\n",
    "This exercise consists in analyzing a dataset containg timing information from a series of Time-to-Digital-Converters (TDC) implemented in a couple of FPGAs. Each measurement (i.e. each row of the input file) consists of a flag that specifies the type of message ('HEAD', which in this case is always 1), two addresses of the TDC providing the signal ('FPGA' and 'TDC_CHANNEL'), and the timing information ('ORBIT_CNT', 'BX_COUNTER', and 'TDC_MEAS'). Each TDC count corresponds to 25/30 ns, whereas a unit of BX_COUNTER corresponds to 25 ns, and the ORBIT_CNT is increased every 'x' BX_COUNTER. This allows to store the time in a similar way to hours, minutes and seconds."
   ]
  },
  {
   "cell_type": "code",
   "execution_count": 1,
   "metadata": {},
   "outputs": [],
   "source": [
    "#import wget\n",
    "#file = wget.download('https://www.dropbox.com/s/xvjzaxzz3ysphme/data_000637.txt')\n",
    "#print(file)\n",
    "# If you didn't download it yet, please get the relevant file now!\n",
    "#!pip install wget\n",
    "#!wget https://www.dropbox.com/s/xvjzaxzz3ysphme/data_000637.txt -P ~/data/"
   ]
  },
  {
   "cell_type": "code",
   "execution_count": 42,
   "metadata": {},
   "outputs": [],
   "source": [
    "import pandas as pd\n",
    "import numpy as np\n",
    "import matplotlib.pyplot as plt"
   ]
  },
  {
   "cell_type": "markdown",
   "metadata": {},
   "source": [
    "1\\. Create a Pandas DataFrame reading N rows of the 'data_000637.txt' dataset. Choose N to be smaller than or equal to the maximum number of rows and larger that 10k."
   ]
  },
  {
   "cell_type": "code",
   "execution_count": 17,
   "metadata": {},
   "outputs": [
    {
     "data": {
      "text/html": [
       "<div>\n",
       "<style scoped>\n",
       "    .dataframe tbody tr th:only-of-type {\n",
       "        vertical-align: middle;\n",
       "    }\n",
       "\n",
       "    .dataframe tbody tr th {\n",
       "        vertical-align: top;\n",
       "    }\n",
       "\n",
       "    .dataframe thead th {\n",
       "        text-align: right;\n",
       "    }\n",
       "</style>\n",
       "<table border=\"1\" class=\"dataframe\">\n",
       "  <thead>\n",
       "    <tr style=\"text-align: right;\">\n",
       "      <th></th>\n",
       "      <th>HEAD</th>\n",
       "      <th>FPGA</th>\n",
       "      <th>TDC_CHANNEL</th>\n",
       "      <th>ORBIT_CNT</th>\n",
       "      <th>BX_COUNTER</th>\n",
       "      <th>TDC_MEAS</th>\n",
       "    </tr>\n",
       "  </thead>\n",
       "  <tbody>\n",
       "    <tr>\n",
       "      <th>0</th>\n",
       "      <td>1</td>\n",
       "      <td>0</td>\n",
       "      <td>123</td>\n",
       "      <td>3869200167</td>\n",
       "      <td>2374</td>\n",
       "      <td>26</td>\n",
       "    </tr>\n",
       "    <tr>\n",
       "      <th>1</th>\n",
       "      <td>1</td>\n",
       "      <td>0</td>\n",
       "      <td>124</td>\n",
       "      <td>3869200167</td>\n",
       "      <td>2374</td>\n",
       "      <td>27</td>\n",
       "    </tr>\n",
       "    <tr>\n",
       "      <th>2</th>\n",
       "      <td>1</td>\n",
       "      <td>0</td>\n",
       "      <td>63</td>\n",
       "      <td>3869200167</td>\n",
       "      <td>2553</td>\n",
       "      <td>28</td>\n",
       "    </tr>\n",
       "    <tr>\n",
       "      <th>3</th>\n",
       "      <td>1</td>\n",
       "      <td>0</td>\n",
       "      <td>64</td>\n",
       "      <td>3869200167</td>\n",
       "      <td>2558</td>\n",
       "      <td>19</td>\n",
       "    </tr>\n",
       "    <tr>\n",
       "      <th>4</th>\n",
       "      <td>1</td>\n",
       "      <td>0</td>\n",
       "      <td>64</td>\n",
       "      <td>3869200167</td>\n",
       "      <td>2760</td>\n",
       "      <td>25</td>\n",
       "    </tr>\n",
       "  </tbody>\n",
       "</table>\n",
       "</div>"
      ],
      "text/plain": [
       "   HEAD  FPGA  TDC_CHANNEL   ORBIT_CNT  BX_COUNTER  TDC_MEAS\n",
       "0     1     0          123  3869200167        2374        26\n",
       "1     1     0          124  3869200167        2374        27\n",
       "2     1     0           63  3869200167        2553        28\n",
       "3     1     0           64  3869200167        2558        19\n",
       "4     1     0           64  3869200167        2760        25"
      ]
     },
     "execution_count": 17,
     "metadata": {},
     "output_type": "execute_result"
    }
   ],
   "source": [
    "filename = '/Users/Nico/Documents/LaboratoryOfComputationalPhysics_Y4/data_000637.txt'\n",
    "N = 100000\n",
    "data = pd.read_csv(filename, nrows=N)\n",
    "data.head()"
   ]
  },
  {
   "cell_type": "code",
   "execution_count": 10,
   "metadata": {},
   "outputs": [
    {
     "data": {
      "text/html": [
       "<div>\n",
       "<style scoped>\n",
       "    .dataframe tbody tr th:only-of-type {\n",
       "        vertical-align: middle;\n",
       "    }\n",
       "\n",
       "    .dataframe tbody tr th {\n",
       "        vertical-align: top;\n",
       "    }\n",
       "\n",
       "    .dataframe thead th {\n",
       "        text-align: right;\n",
       "    }\n",
       "</style>\n",
       "<table border=\"1\" class=\"dataframe\">\n",
       "  <thead>\n",
       "    <tr style=\"text-align: right;\">\n",
       "      <th></th>\n",
       "      <th>HEAD</th>\n",
       "      <th>FPGA</th>\n",
       "      <th>TDC_CHANNEL</th>\n",
       "      <th>ORBIT_CNT</th>\n",
       "      <th>BX_COUNTER</th>\n",
       "      <th>TDC_MEAS</th>\n",
       "    </tr>\n",
       "  </thead>\n",
       "  <tbody>\n",
       "    <tr>\n",
       "      <th>count</th>\n",
       "      <td>100000.0</td>\n",
       "      <td>100000.000000</td>\n",
       "      <td>100000.000000</td>\n",
       "      <td>1.000000e+05</td>\n",
       "      <td>100000.000000</td>\n",
       "      <td>100000.000000</td>\n",
       "    </tr>\n",
       "    <tr>\n",
       "      <th>mean</th>\n",
       "      <td>1.0</td>\n",
       "      <td>0.294840</td>\n",
       "      <td>56.031850</td>\n",
       "      <td>3.869201e+09</td>\n",
       "      <td>1792.946820</td>\n",
       "      <td>13.360150</td>\n",
       "    </tr>\n",
       "    <tr>\n",
       "      <th>std</th>\n",
       "      <td>0.0</td>\n",
       "      <td>0.455973</td>\n",
       "      <td>39.118372</td>\n",
       "      <td>2.868888e+02</td>\n",
       "      <td>1025.768294</td>\n",
       "      <td>9.190047</td>\n",
       "    </tr>\n",
       "    <tr>\n",
       "      <th>min</th>\n",
       "      <td>1.0</td>\n",
       "      <td>0.000000</td>\n",
       "      <td>1.000000</td>\n",
       "      <td>3.869200e+09</td>\n",
       "      <td>0.000000</td>\n",
       "      <td>0.000000</td>\n",
       "    </tr>\n",
       "    <tr>\n",
       "      <th>25%</th>\n",
       "      <td>1.0</td>\n",
       "      <td>0.000000</td>\n",
       "      <td>26.000000</td>\n",
       "      <td>3.869200e+09</td>\n",
       "      <td>897.000000</td>\n",
       "      <td>5.000000</td>\n",
       "    </tr>\n",
       "    <tr>\n",
       "      <th>50%</th>\n",
       "      <td>1.0</td>\n",
       "      <td>0.000000</td>\n",
       "      <td>57.000000</td>\n",
       "      <td>3.869201e+09</td>\n",
       "      <td>1794.000000</td>\n",
       "      <td>13.000000</td>\n",
       "    </tr>\n",
       "    <tr>\n",
       "      <th>75%</th>\n",
       "      <td>1.0</td>\n",
       "      <td>1.000000</td>\n",
       "      <td>64.000000</td>\n",
       "      <td>3.869201e+09</td>\n",
       "      <td>2679.000000</td>\n",
       "      <td>21.000000</td>\n",
       "    </tr>\n",
       "    <tr>\n",
       "      <th>max</th>\n",
       "      <td>1.0</td>\n",
       "      <td>1.000000</td>\n",
       "      <td>139.000000</td>\n",
       "      <td>3.869201e+09</td>\n",
       "      <td>3563.000000</td>\n",
       "      <td>29.000000</td>\n",
       "    </tr>\n",
       "  </tbody>\n",
       "</table>\n",
       "</div>"
      ],
      "text/plain": [
       "           HEAD           FPGA    TDC_CHANNEL     ORBIT_CNT     BX_COUNTER  \\\n",
       "count  100000.0  100000.000000  100000.000000  1.000000e+05  100000.000000   \n",
       "mean        1.0       0.294840      56.031850  3.869201e+09    1792.946820   \n",
       "std         0.0       0.455973      39.118372  2.868888e+02    1025.768294   \n",
       "min         1.0       0.000000       1.000000  3.869200e+09       0.000000   \n",
       "25%         1.0       0.000000      26.000000  3.869200e+09     897.000000   \n",
       "50%         1.0       0.000000      57.000000  3.869201e+09    1794.000000   \n",
       "75%         1.0       1.000000      64.000000  3.869201e+09    2679.000000   \n",
       "max         1.0       1.000000     139.000000  3.869201e+09    3563.000000   \n",
       "\n",
       "            TDC_MEAS  \n",
       "count  100000.000000  \n",
       "mean       13.360150  \n",
       "std         9.190047  \n",
       "min         0.000000  \n",
       "25%         5.000000  \n",
       "50%        13.000000  \n",
       "75%        21.000000  \n",
       "max        29.000000  "
      ]
     },
     "execution_count": 10,
     "metadata": {},
     "output_type": "execute_result"
    }
   ],
   "source": [
    "data.describe()"
   ]
  },
  {
   "cell_type": "markdown",
   "metadata": {},
   "source": [
    "2\\. Find out the number of BX in a ORBIT (the value 'x')."
   ]
  },
  {
   "cell_type": "code",
   "execution_count": 15,
   "metadata": {},
   "outputs": [
    {
     "name": "stdout",
     "output_type": "stream",
     "text": [
      "Every orbit corresponds to 3.584507042253521 BX, or 89.61267605633803 ns\n"
     ]
    }
   ],
   "source": [
    "orbits = data['ORBIT_CNT'].max() - data['ORBIT_CNT'].min() # total amount of orbits over entire dataset\n",
    "bxTotal = data['BX_COUNTER'].max() - data['BX_COUNTER'].min() # total amount of time in \"bx\" units over entire dataset\n",
    "tdcTotal = data['TDC_MEAS'].max() - data['TDC_MEAS'].min() # total amount of time in \"tdc\" units\n",
    "\n",
    "orbitTime = (bxTotal/orbits)*25 # time taken for 1 orbit in ns\n",
    "\n",
    "print(f'Every orbit corresponds to {(bxTotal/orbits)} BX, or {orbitTime} ns')"
   ]
  },
  {
   "cell_type": "markdown",
   "metadata": {},
   "source": [
    "3\\. Find out how much the data taking lasted. You can either make an estimate based on the fraction of the measurements (rows) you read, or perform this check precisely by reading out the whole dataset."
   ]
  },
  {
   "cell_type": "code",
   "execution_count": 21,
   "metadata": {},
   "outputs": [
    {
     "name": "stdout",
     "output_type": "stream",
     "text": [
      "Estimate of the total amount of time taken is 2335366.219075 ns or 0.0023353662190749996 s\n"
     ]
    }
   ],
   "source": [
    "totalMeasurementsTaken = 1310721 # obtained by looking directly at number of rows in txt file\n",
    "totalTime = orbits*orbitTime + bxTotal*25 + tdcTotal*(25/30)# total time in ns\n",
    "fractionOfMeasurements = N/totalMeasurementsTaken # fraction of the measurements being taken into account\n",
    "\n",
    "print(f'Estimate of the total amount of time taken is {totalTime/fractionOfMeasurements} ns or {(totalTime/1e9)/fractionOfMeasurements} s')"
   ]
  },
  {
   "cell_type": "markdown",
   "metadata": {},
   "source": [
    "4\\. Create a new column with the absolute time in ns (as a combination of the other three columns with timing information)."
   ]
  },
  {
   "cell_type": "code",
   "execution_count": 13,
   "metadata": {},
   "outputs": [
    {
     "data": {
      "text/html": [
       "<div>\n",
       "<style scoped>\n",
       "    .dataframe tbody tr th:only-of-type {\n",
       "        vertical-align: middle;\n",
       "    }\n",
       "\n",
       "    .dataframe tbody tr th {\n",
       "        vertical-align: top;\n",
       "    }\n",
       "\n",
       "    .dataframe thead th {\n",
       "        text-align: right;\n",
       "    }\n",
       "</style>\n",
       "<table border=\"1\" class=\"dataframe\">\n",
       "  <thead>\n",
       "    <tr style=\"text-align: right;\">\n",
       "      <th></th>\n",
       "      <th>HEAD</th>\n",
       "      <th>FPGA</th>\n",
       "      <th>TDC_CHANNEL</th>\n",
       "      <th>ORBIT_CNT</th>\n",
       "      <th>BX_COUNTER</th>\n",
       "      <th>TDC_MEAS</th>\n",
       "      <th>timens</th>\n",
       "    </tr>\n",
       "  </thead>\n",
       "  <tbody>\n",
       "    <tr>\n",
       "      <th>count</th>\n",
       "      <td>100000.0</td>\n",
       "      <td>100000.000000</td>\n",
       "      <td>100000.000000</td>\n",
       "      <td>1.000000e+05</td>\n",
       "      <td>100000.000000</td>\n",
       "      <td>100000.000000</td>\n",
       "      <td>1.000000e+05</td>\n",
       "    </tr>\n",
       "    <tr>\n",
       "      <th>mean</th>\n",
       "      <td>1.0</td>\n",
       "      <td>0.294840</td>\n",
       "      <td>56.031850</td>\n",
       "      <td>3.869201e+09</td>\n",
       "      <td>1792.946820</td>\n",
       "      <td>13.360150</td>\n",
       "      <td>3.467295e+11</td>\n",
       "    </tr>\n",
       "    <tr>\n",
       "      <th>std</th>\n",
       "      <td>0.0</td>\n",
       "      <td>0.455973</td>\n",
       "      <td>39.118372</td>\n",
       "      <td>2.868888e+02</td>\n",
       "      <td>1025.768294</td>\n",
       "      <td>9.190047</td>\n",
       "      <td>3.634749e+04</td>\n",
       "    </tr>\n",
       "    <tr>\n",
       "      <th>min</th>\n",
       "      <td>1.0</td>\n",
       "      <td>0.000000</td>\n",
       "      <td>1.000000</td>\n",
       "      <td>3.869200e+09</td>\n",
       "      <td>0.000000</td>\n",
       "      <td>0.000000</td>\n",
       "      <td>3.467294e+11</td>\n",
       "    </tr>\n",
       "    <tr>\n",
       "      <th>25%</th>\n",
       "      <td>1.0</td>\n",
       "      <td>0.000000</td>\n",
       "      <td>26.000000</td>\n",
       "      <td>3.869200e+09</td>\n",
       "      <td>897.000000</td>\n",
       "      <td>5.000000</td>\n",
       "      <td>3.467294e+11</td>\n",
       "    </tr>\n",
       "    <tr>\n",
       "      <th>50%</th>\n",
       "      <td>1.0</td>\n",
       "      <td>0.000000</td>\n",
       "      <td>57.000000</td>\n",
       "      <td>3.869201e+09</td>\n",
       "      <td>1794.000000</td>\n",
       "      <td>13.000000</td>\n",
       "      <td>3.467295e+11</td>\n",
       "    </tr>\n",
       "    <tr>\n",
       "      <th>75%</th>\n",
       "      <td>1.0</td>\n",
       "      <td>1.000000</td>\n",
       "      <td>64.000000</td>\n",
       "      <td>3.869201e+09</td>\n",
       "      <td>2679.000000</td>\n",
       "      <td>21.000000</td>\n",
       "      <td>3.467295e+11</td>\n",
       "    </tr>\n",
       "    <tr>\n",
       "      <th>max</th>\n",
       "      <td>1.0</td>\n",
       "      <td>1.000000</td>\n",
       "      <td>139.000000</td>\n",
       "      <td>3.869201e+09</td>\n",
       "      <td>3563.000000</td>\n",
       "      <td>29.000000</td>\n",
       "      <td>3.467296e+11</td>\n",
       "    </tr>\n",
       "  </tbody>\n",
       "</table>\n",
       "</div>"
      ],
      "text/plain": [
       "           HEAD           FPGA    TDC_CHANNEL     ORBIT_CNT     BX_COUNTER  \\\n",
       "count  100000.0  100000.000000  100000.000000  1.000000e+05  100000.000000   \n",
       "mean        1.0       0.294840      56.031850  3.869201e+09    1792.946820   \n",
       "std         0.0       0.455973      39.118372  2.868888e+02    1025.768294   \n",
       "min         1.0       0.000000       1.000000  3.869200e+09       0.000000   \n",
       "25%         1.0       0.000000      26.000000  3.869200e+09     897.000000   \n",
       "50%         1.0       0.000000      57.000000  3.869201e+09    1794.000000   \n",
       "75%         1.0       1.000000      64.000000  3.869201e+09    2679.000000   \n",
       "max         1.0       1.000000     139.000000  3.869201e+09    3563.000000   \n",
       "\n",
       "            TDC_MEAS        timens  \n",
       "count  100000.000000  1.000000e+05  \n",
       "mean       13.360150  3.467295e+11  \n",
       "std         9.190047  3.634749e+04  \n",
       "min         0.000000  3.467294e+11  \n",
       "25%         5.000000  3.467294e+11  \n",
       "50%        13.000000  3.467295e+11  \n",
       "75%        21.000000  3.467295e+11  \n",
       "max        29.000000  3.467296e+11  "
      ]
     },
     "execution_count": 13,
     "metadata": {},
     "output_type": "execute_result"
    }
   ],
   "source": [
    "data['timens'] = data['ORBIT_CNT']*orbitTime + data['BX_COUNTER']*25 + data['TDC_MEAS']*(25/30)\n",
    "#print(data['timens'].max() - data['timens'].min())\n",
    "data.describe()"
   ]
  },
  {
   "cell_type": "markdown",
   "metadata": {},
   "source": [
    "5\\. Replace the values (all 1) of the HEAD column randomly with 0 or 1."
   ]
  },
  {
   "cell_type": "code",
   "execution_count": 32,
   "metadata": {},
   "outputs": [
    {
     "data": {
      "text/html": [
       "<div>\n",
       "<style scoped>\n",
       "    .dataframe tbody tr th:only-of-type {\n",
       "        vertical-align: middle;\n",
       "    }\n",
       "\n",
       "    .dataframe tbody tr th {\n",
       "        vertical-align: top;\n",
       "    }\n",
       "\n",
       "    .dataframe thead th {\n",
       "        text-align: right;\n",
       "    }\n",
       "</style>\n",
       "<table border=\"1\" class=\"dataframe\">\n",
       "  <thead>\n",
       "    <tr style=\"text-align: right;\">\n",
       "      <th></th>\n",
       "      <th>HEAD</th>\n",
       "      <th>FPGA</th>\n",
       "      <th>TDC_CHANNEL</th>\n",
       "      <th>ORBIT_CNT</th>\n",
       "      <th>BX_COUNTER</th>\n",
       "      <th>TDC_MEAS</th>\n",
       "    </tr>\n",
       "  </thead>\n",
       "  <tbody>\n",
       "    <tr>\n",
       "      <th>count</th>\n",
       "      <td>100000.000000</td>\n",
       "      <td>100000.000000</td>\n",
       "      <td>100000.000000</td>\n",
       "      <td>1.000000e+05</td>\n",
       "      <td>100000.000000</td>\n",
       "      <td>100000.000000</td>\n",
       "    </tr>\n",
       "    <tr>\n",
       "      <th>mean</th>\n",
       "      <td>0.501110</td>\n",
       "      <td>0.294840</td>\n",
       "      <td>56.031850</td>\n",
       "      <td>3.869201e+09</td>\n",
       "      <td>1792.946820</td>\n",
       "      <td>13.360150</td>\n",
       "    </tr>\n",
       "    <tr>\n",
       "      <th>std</th>\n",
       "      <td>0.500001</td>\n",
       "      <td>0.455973</td>\n",
       "      <td>39.118372</td>\n",
       "      <td>2.868888e+02</td>\n",
       "      <td>1025.768294</td>\n",
       "      <td>9.190047</td>\n",
       "    </tr>\n",
       "    <tr>\n",
       "      <th>min</th>\n",
       "      <td>0.000000</td>\n",
       "      <td>0.000000</td>\n",
       "      <td>1.000000</td>\n",
       "      <td>3.869200e+09</td>\n",
       "      <td>0.000000</td>\n",
       "      <td>0.000000</td>\n",
       "    </tr>\n",
       "    <tr>\n",
       "      <th>25%</th>\n",
       "      <td>0.000000</td>\n",
       "      <td>0.000000</td>\n",
       "      <td>26.000000</td>\n",
       "      <td>3.869200e+09</td>\n",
       "      <td>897.000000</td>\n",
       "      <td>5.000000</td>\n",
       "    </tr>\n",
       "    <tr>\n",
       "      <th>50%</th>\n",
       "      <td>1.000000</td>\n",
       "      <td>0.000000</td>\n",
       "      <td>57.000000</td>\n",
       "      <td>3.869201e+09</td>\n",
       "      <td>1794.000000</td>\n",
       "      <td>13.000000</td>\n",
       "    </tr>\n",
       "    <tr>\n",
       "      <th>75%</th>\n",
       "      <td>1.000000</td>\n",
       "      <td>1.000000</td>\n",
       "      <td>64.000000</td>\n",
       "      <td>3.869201e+09</td>\n",
       "      <td>2679.000000</td>\n",
       "      <td>21.000000</td>\n",
       "    </tr>\n",
       "    <tr>\n",
       "      <th>max</th>\n",
       "      <td>1.000000</td>\n",
       "      <td>1.000000</td>\n",
       "      <td>139.000000</td>\n",
       "      <td>3.869201e+09</td>\n",
       "      <td>3563.000000</td>\n",
       "      <td>29.000000</td>\n",
       "    </tr>\n",
       "  </tbody>\n",
       "</table>\n",
       "</div>"
      ],
      "text/plain": [
       "                HEAD           FPGA    TDC_CHANNEL     ORBIT_CNT  \\\n",
       "count  100000.000000  100000.000000  100000.000000  1.000000e+05   \n",
       "mean        0.501110       0.294840      56.031850  3.869201e+09   \n",
       "std         0.500001       0.455973      39.118372  2.868888e+02   \n",
       "min         0.000000       0.000000       1.000000  3.869200e+09   \n",
       "25%         0.000000       0.000000      26.000000  3.869200e+09   \n",
       "50%         1.000000       0.000000      57.000000  3.869201e+09   \n",
       "75%         1.000000       1.000000      64.000000  3.869201e+09   \n",
       "max         1.000000       1.000000     139.000000  3.869201e+09   \n",
       "\n",
       "          BX_COUNTER       TDC_MEAS  \n",
       "count  100000.000000  100000.000000  \n",
       "mean     1792.946820      13.360150  \n",
       "std      1025.768294       9.190047  \n",
       "min         0.000000       0.000000  \n",
       "25%       897.000000       5.000000  \n",
       "50%      1794.000000      13.000000  \n",
       "75%      2679.000000      21.000000  \n",
       "max      3563.000000      29.000000  "
      ]
     },
     "execution_count": 32,
     "metadata": {},
     "output_type": "execute_result"
    }
   ],
   "source": [
    "data.at[:, 'HEAD'] = np.random.choice(2,len(data['HEAD']))\n",
    "data.describe()"
   ]
  },
  {
   "cell_type": "markdown",
   "metadata": {},
   "source": [
    "6\\. Create a new DataFrame that contains only the rows with HEAD=1.\n"
   ]
  },
  {
   "cell_type": "code",
   "execution_count": 52,
   "metadata": {},
   "outputs": [
    {
     "data": {
      "text/html": [
       "<div>\n",
       "<style scoped>\n",
       "    .dataframe tbody tr th:only-of-type {\n",
       "        vertical-align: middle;\n",
       "    }\n",
       "\n",
       "    .dataframe tbody tr th {\n",
       "        vertical-align: top;\n",
       "    }\n",
       "\n",
       "    .dataframe thead th {\n",
       "        text-align: right;\n",
       "    }\n",
       "</style>\n",
       "<table border=\"1\" class=\"dataframe\">\n",
       "  <thead>\n",
       "    <tr style=\"text-align: right;\">\n",
       "      <th></th>\n",
       "      <th>HEAD</th>\n",
       "      <th>FPGA</th>\n",
       "      <th>TDC_CHANNEL</th>\n",
       "      <th>ORBIT_CNT</th>\n",
       "      <th>BX_COUNTER</th>\n",
       "      <th>TDC_MEAS</th>\n",
       "    </tr>\n",
       "  </thead>\n",
       "  <tbody>\n",
       "    <tr>\n",
       "      <th>count</th>\n",
       "      <td>50111.0</td>\n",
       "      <td>50111.000000</td>\n",
       "      <td>50111.000000</td>\n",
       "      <td>5.011100e+04</td>\n",
       "      <td>50111.000000</td>\n",
       "      <td>50111.000000</td>\n",
       "    </tr>\n",
       "    <tr>\n",
       "      <th>mean</th>\n",
       "      <td>1.0</td>\n",
       "      <td>0.294965</td>\n",
       "      <td>55.872802</td>\n",
       "      <td>3.869201e+09</td>\n",
       "      <td>1799.478997</td>\n",
       "      <td>13.430085</td>\n",
       "    </tr>\n",
       "    <tr>\n",
       "      <th>std</th>\n",
       "      <td>0.0</td>\n",
       "      <td>0.456032</td>\n",
       "      <td>39.091984</td>\n",
       "      <td>2.861934e+02</td>\n",
       "      <td>1025.066528</td>\n",
       "      <td>9.202831</td>\n",
       "    </tr>\n",
       "    <tr>\n",
       "      <th>min</th>\n",
       "      <td>1.0</td>\n",
       "      <td>0.000000</td>\n",
       "      <td>1.000000</td>\n",
       "      <td>3.869200e+09</td>\n",
       "      <td>0.000000</td>\n",
       "      <td>0.000000</td>\n",
       "    </tr>\n",
       "    <tr>\n",
       "      <th>25%</th>\n",
       "      <td>1.0</td>\n",
       "      <td>0.000000</td>\n",
       "      <td>26.000000</td>\n",
       "      <td>3.869200e+09</td>\n",
       "      <td>907.000000</td>\n",
       "      <td>5.000000</td>\n",
       "    </tr>\n",
       "    <tr>\n",
       "      <th>50%</th>\n",
       "      <td>1.0</td>\n",
       "      <td>0.000000</td>\n",
       "      <td>57.000000</td>\n",
       "      <td>3.869201e+09</td>\n",
       "      <td>1798.000000</td>\n",
       "      <td>13.000000</td>\n",
       "    </tr>\n",
       "    <tr>\n",
       "      <th>75%</th>\n",
       "      <td>1.0</td>\n",
       "      <td>1.000000</td>\n",
       "      <td>64.000000</td>\n",
       "      <td>3.869201e+09</td>\n",
       "      <td>2687.000000</td>\n",
       "      <td>21.000000</td>\n",
       "    </tr>\n",
       "    <tr>\n",
       "      <th>max</th>\n",
       "      <td>1.0</td>\n",
       "      <td>1.000000</td>\n",
       "      <td>139.000000</td>\n",
       "      <td>3.869201e+09</td>\n",
       "      <td>3563.000000</td>\n",
       "      <td>29.000000</td>\n",
       "    </tr>\n",
       "  </tbody>\n",
       "</table>\n",
       "</div>"
      ],
      "text/plain": [
       "          HEAD          FPGA   TDC_CHANNEL     ORBIT_CNT    BX_COUNTER  \\\n",
       "count  50111.0  50111.000000  50111.000000  5.011100e+04  50111.000000   \n",
       "mean       1.0      0.294965     55.872802  3.869201e+09   1799.478997   \n",
       "std        0.0      0.456032     39.091984  2.861934e+02   1025.066528   \n",
       "min        1.0      0.000000      1.000000  3.869200e+09      0.000000   \n",
       "25%        1.0      0.000000     26.000000  3.869200e+09    907.000000   \n",
       "50%        1.0      0.000000     57.000000  3.869201e+09   1798.000000   \n",
       "75%        1.0      1.000000     64.000000  3.869201e+09   2687.000000   \n",
       "max        1.0      1.000000    139.000000  3.869201e+09   3563.000000   \n",
       "\n",
       "           TDC_MEAS  \n",
       "count  50111.000000  \n",
       "mean      13.430085  \n",
       "std        9.202831  \n",
       "min        0.000000  \n",
       "25%        5.000000  \n",
       "50%       13.000000  \n",
       "75%       21.000000  \n",
       "max       29.000000  "
      ]
     },
     "execution_count": 52,
     "metadata": {},
     "output_type": "execute_result"
    }
   ],
   "source": [
    "newData = data[data.HEAD == 1]\n",
    "newData.describe()"
   ]
  },
  {
   "cell_type": "markdown",
   "metadata": {},
   "source": [
    "7\\. Make two occupancy plots (one for each FPGA), i.e. plot the number of counts per TDC channel\n"
   ]
  },
  {
   "cell_type": "code",
   "execution_count": 64,
   "metadata": {},
   "outputs": [],
   "source": [
    "#First create 2 new dataframes for each FPGA\n",
    "fpga0 = data[data.FPGA == 0]\n",
    "fpga1 = data[data.FPGA == 1]"
   ]
  },
  {
   "cell_type": "code",
   "execution_count": 95,
   "metadata": {},
   "outputs": [
    {
     "data": {
      "text/plain": [
       "Text(0.5, 1.0, 'Number of Counts per TDC Channel for FPGA 0')"
      ]
     },
     "execution_count": 95,
     "metadata": {},
     "output_type": "execute_result"
    },
    {
     "data": {
      "image/png": "[encoded data removed]",
      "text/plain": [
       "<Figure size 432x288 with 1 Axes>"
      ]
     },
     "metadata": {
      "needs_background": "light"
     },
     "output_type": "display_data"
    }
   ],
   "source": [
    "#Plot for FPGA 0\n",
    "plot0 = fpga0['TDC_CHANNEL'].plot.hist(bins=139)\n",
    "plot0.set_xlabel('TDC Channel')\n",
    "plot0.set_ylabel('Counts')\n",
    "plot0.set_title('Number of Counts per TDC Channel for FPGA 0')"
   ]
  },
  {
   "cell_type": "code",
   "execution_count": 110,
   "metadata": {},
   "outputs": [
    {
     "data": {
      "text/plain": [
       "Text(0.5, 1.0, 'Number of Counts per TDC Channel for FPGA 1')"
      ]
     },
     "execution_count": 110,
     "metadata": {},
     "output_type": "execute_result"
    },
    {
     "data": {
      "image/png": "[encoded data removed]",
      "text/plain": [
       "<Figure size 432x288 with 1 Axes>"
      ]
     },
     "metadata": {
      "needs_background": "light"
     },
     "output_type": "display_data"
    }
   ],
   "source": [
    "#Plot for FPGA 1\n",
    "plot1 = fpga1['TDC_CHANNEL'].plot.hist(bins=139)\n",
    "plot1.set_xlabel('TDC Channel')\n",
    "plot1.set_ylabel('Counts')\n",
    "plot1.set_title('Number of Counts per TDC Channel for FPGA 1')"
   ]
  },
  {
   "cell_type": "markdown",
   "metadata": {},
   "source": [
    "8\\. Use the groupby method to find out the noisy channels, i.e. the TDC channels with most counts (say the top 3)\n"
   ]
  },
  {
   "cell_type": "code",
   "execution_count": 111,
   "metadata": {},
   "outputs": [
    {
     "name": "stdout",
     "output_type": "stream",
     "text": [
      "TDC_CHANNEL\n",
      "139    8320\n",
      "64     5027\n",
      "63     4917\n",
      "dtype: int64\n"
     ]
    }
   ],
   "source": [
    "# top 3 bins with the most counts\n",
    "noisy = data.groupby('TDC_CHANNEL').size().nlargest(3)\n",
    "print(noisy)"
   ]
  },
  {
   "cell_type": "markdown",
   "metadata": {},
   "source": [
    "9\\. Count the number of unique orbits. Count the number of unique orbits with at least one measurement from TDC_CHANNEL=139"
   ]
  },
  {
   "cell_type": "code",
   "execution_count": 113,
   "metadata": {},
   "outputs": [
    {
     "name": "stdout",
     "output_type": "stream",
     "text": [
      "There are 995 number of unique orbits\n"
     ]
    }
   ],
   "source": [
    "uniqueOrbits = data['ORBIT_CNT'].nunique()\n",
    "print(f'There are {uniqueOrbits} number of unique orbits')"
   ]
  },
  {
   "cell_type": "code",
   "execution_count": 121,
   "metadata": {},
   "outputs": [
    {
     "name": "stdout",
     "output_type": "stream",
     "text": [
      "There are ORBIT_CNT\n",
      "3869200167     4\n",
      "3869200168     8\n",
      "3869200169    11\n",
      "3869200170     9\n",
      "3869200171     9\n",
      "              ..\n",
      "3869201157    10\n",
      "3869201158     6\n",
      "3869201159     8\n",
      "3869201160     4\n",
      "3869201161     9\n",
      "Length: 994, dtype: int64 orbits with at least one measurement from the TDC_CHANNEL 139\n"
     ]
    }
   ],
   "source": [
    "channel139 = data[data['TDC_CHANNEL'] == 139] # all measurements coming from channel 139\n",
    "result=channel139.groupby('ORBIT_CNT').size()\n",
    "print(f'There are {result} orbits with at least one measurement from the TDC_CHANNEL 139')"
   ]
  },
  {
   "cell_type": "code",
   "execution_count": null,
   "metadata": {},
   "outputs": [],
   "source": []
  }
 ],
 "metadata": {
  "kernelspec": {
   "display_name": "Python 3",
   "language": "python",
   "name": "python3"
  },
  "language_info": {
   "codemirror_mode": {
    "name": "ipython",
    "version": 3
   },
   "file_extension": ".py",
   "mimetype": "text/x-python",
   "name": "python",
   "nbconvert_exporter": "python",
   "pygments_lexer": "ipython3",
   "version": "3.8.3"
  }
 },
 "nbformat": 4,
 "nbformat_minor": 2
}
