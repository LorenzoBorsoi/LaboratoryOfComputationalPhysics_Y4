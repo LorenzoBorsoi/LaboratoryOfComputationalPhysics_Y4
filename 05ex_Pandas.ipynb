{
 "cells": [
  {
   "cell_type": "markdown",
   "metadata": {},
   "source": [
    "## Pandas analysis\n",
    "\n",
    "This exercise consists in analyzing a dataset containg timing information from a series of Time-to-Digital-Converters (TDC) implemented in a couple of FPGAs. Each measurement (i.e. each row of the input file) consists of a flag that specifies the type of message ('HEAD', which in this case is always 1), two addresses of the TDC providing the signal ('FPGA' and 'TDC_CHANNEL'), and the timing information ('ORBIT_CNT', 'BX_COUNTER', and 'TDC_MEAS'). Each TDC count corresponds to 25/30 ns, whereas a unit of BX_COUNTER corresponds to 25 ns, and the ORBIT_CNT is increased every 'x' BX_COUNTER. This allows to store the time in a similar way to hours, minutes and seconds."
   ]
  },
  {
   "cell_type": "code",
   "execution_count": 5,
   "metadata": {},
   "outputs": [
    {
     "name": "stdout",
     "output_type": "stream",
     "text": [
      "\r",
      "-1 / unknown\r",
      "-1 / unknown\r",
      "-1 / unknown\r",
      "-1 / unknown\r",
      "-1 / unknown\r",
      "-1 / unknown\r",
      "-1 / unknown\r",
      "-1 / unknown\r",
      "-1 / unknown\r",
      "-1 / unknown\r",
      "-1 / unknown\r",
      "-1 / unknown\r",
      "-1 / unknown\r",
      "-1 / unknown\r",
      "-1 / unknown\r",
      "-1 / unknown\r",
      "-1 / unknown\r",
      "-1 / unknown\r",
      "-1 / unknown\r",
      "-1 / unknown\r",
      "-1 / unknown\r",
      "-1 / unknown\r",
      "-1 / unknown\r",
      "-1 / unknown\r",
      "-1 / unknown\r",
      "-1 / unknown\r",
      "-1 / unknown\r",
      "-1 / unknown\r",
      "-1 / unknown\r",
      "-1 / unknown\r",
      "-1 / unknown\r",
      "-1 / unknown\r",
      "-1 / unknown\r",
      "-1 / unknown\r",
      "-1 / unknown\r",
      "-1 / unknown\r",
      "-1 / unknown\r",
      "-1 / unknown\r",
      "-1 / unknown\r",
      "-1 / unknown\r",
      "-1 / unknown\r",
      "-1 / unknown\r",
      "-1 / unknown\r",
      "-1 / unknown\r",
      "-1 / unknown\r",
      "-1 / unknown\r",
      "-1 / unknown\r",
      "-1 / unknown\r",
      "-1 / unknown\r",
      "-1 / unknown\r",
      "-1 / unknown\r",
      "-1 / unknown\r",
      "-1 / unknown\r",
      "-1 / unknown\r",
      "-1 / unknown\r",
      "-1 / unknown\r",
      "-1 / unknowndata_000637.txt\n"
     ]
    },
    {
     "name": "stderr",
     "output_type": "stream",
     "text": [
      "'wget' is not recognized as an internal or external command,\n",
      "operable program or batch file.\n"
     ]
    }
   ],
   "source": [
    "#import wget\n",
    "#file = wget.download('https://www.dropbox.com/s/xvjzaxzz3ysphme/data_000637.txt')\n",
    "#print(file)\n",
    "# If you didn't download it yet, please get the relevant file now!\n",
    "#!pip install wget\n",
    "#!wget https://www.dropbox.com/s/xvjzaxzz3ysphme/data_000637.txt -P ~/data/"
   ]
  },
  {
   "cell_type": "code",
   "execution_count": 7,
   "metadata": {},
   "outputs": [],
   "source": [
    "import pandas as pd"
   ]
  },
  {
   "cell_type": "markdown",
   "metadata": {},
   "source": [
    "1\\. Create a Pandas DataFrame reading N rows of the 'data_000637.txt' dataset. Choose N to be smaller than or equal to the maximum number of rows and larger that 10k."
   ]
  },
  {
   "cell_type": "code",
   "execution_count": 34,
   "metadata": {},
   "outputs": [
    {
     "data": {
      "text/html": [
       "<div>\n",
       "<style scoped>\n",
       "    .dataframe tbody tr th:only-of-type {\n",
       "        vertical-align: middle;\n",
       "    }\n",
       "\n",
       "    .dataframe tbody tr th {\n",
       "        vertical-align: top;\n",
       "    }\n",
       "\n",
       "    .dataframe thead th {\n",
       "        text-align: right;\n",
       "    }\n",
       "</style>\n",
       "<table border=\"1\" class=\"dataframe\">\n",
       "  <thead>\n",
       "    <tr style=\"text-align: right;\">\n",
       "      <th></th>\n",
       "      <th>HEAD</th>\n",
       "      <th>FPGA</th>\n",
       "      <th>TDC_CHANNEL</th>\n",
       "      <th>ORBIT_CNT</th>\n",
       "      <th>BX_COUNTER</th>\n",
       "      <th>TDC_MEAS</th>\n",
       "    </tr>\n",
       "  </thead>\n",
       "  <tbody>\n",
       "    <tr>\n",
       "      <th>0</th>\n",
       "      <td>1</td>\n",
       "      <td>0</td>\n",
       "      <td>123</td>\n",
       "      <td>3869200167</td>\n",
       "      <td>2374</td>\n",
       "      <td>26</td>\n",
       "    </tr>\n",
       "    <tr>\n",
       "      <th>1</th>\n",
       "      <td>1</td>\n",
       "      <td>0</td>\n",
       "      <td>124</td>\n",
       "      <td>3869200167</td>\n",
       "      <td>2374</td>\n",
       "      <td>27</td>\n",
       "    </tr>\n",
       "    <tr>\n",
       "      <th>2</th>\n",
       "      <td>1</td>\n",
       "      <td>0</td>\n",
       "      <td>63</td>\n",
       "      <td>3869200167</td>\n",
       "      <td>2553</td>\n",
       "      <td>28</td>\n",
       "    </tr>\n",
       "    <tr>\n",
       "      <th>3</th>\n",
       "      <td>1</td>\n",
       "      <td>0</td>\n",
       "      <td>64</td>\n",
       "      <td>3869200167</td>\n",
       "      <td>2558</td>\n",
       "      <td>19</td>\n",
       "    </tr>\n",
       "    <tr>\n",
       "      <th>4</th>\n",
       "      <td>1</td>\n",
       "      <td>0</td>\n",
       "      <td>64</td>\n",
       "      <td>3869200167</td>\n",
       "      <td>2760</td>\n",
       "      <td>25</td>\n",
       "    </tr>\n",
       "  </tbody>\n",
       "</table>\n",
       "</div>"
      ],
      "text/plain": [
       "   HEAD  FPGA  TDC_CHANNEL   ORBIT_CNT  BX_COUNTER  TDC_MEAS\n",
       "0     1     0          123  3869200167        2374        26\n",
       "1     1     0          124  3869200167        2374        27\n",
       "2     1     0           63  3869200167        2553        28\n",
       "3     1     0           64  3869200167        2558        19\n",
       "4     1     0           64  3869200167        2760        25"
      ]
     },
     "execution_count": 34,
     "metadata": {},
     "output_type": "execute_result"
    }
   ],
   "source": [
    "filename = '/Users/Nico/Documents/LaboratoryOfComputationalPhysics_Y4/data_000637.txt'\n",
    "N = 100000\n",
    "data = pd.read_csv(filename, nrows=N)\n",
    "data.head()"
   ]
  },
  {
   "cell_type": "code",
   "execution_count": 33,
   "metadata": {},
   "outputs": [
    {
     "data": {
      "text/html": [
       "<div>\n",
       "<style scoped>\n",
       "    .dataframe tbody tr th:only-of-type {\n",
       "        vertical-align: middle;\n",
       "    }\n",
       "\n",
       "    .dataframe tbody tr th {\n",
       "        vertical-align: top;\n",
       "    }\n",
       "\n",
       "    .dataframe thead th {\n",
       "        text-align: right;\n",
       "    }\n",
       "</style>\n",
       "<table border=\"1\" class=\"dataframe\">\n",
       "  <thead>\n",
       "    <tr style=\"text-align: right;\">\n",
       "      <th></th>\n",
       "      <th>HEAD</th>\n",
       "      <th>FPGA</th>\n",
       "      <th>TDC_CHANNEL</th>\n",
       "      <th>ORBIT_CNT</th>\n",
       "      <th>BX_COUNTER</th>\n",
       "      <th>TDC_MEAS</th>\n",
       "    </tr>\n",
       "  </thead>\n",
       "  <tbody>\n",
       "    <tr>\n",
       "      <th>count</th>\n",
       "      <td>100000.0</td>\n",
       "      <td>100000.000000</td>\n",
       "      <td>100000.000000</td>\n",
       "      <td>1.000000e+05</td>\n",
       "      <td>100000.000000</td>\n",
       "      <td>100000.000000</td>\n",
       "    </tr>\n",
       "    <tr>\n",
       "      <th>mean</th>\n",
       "      <td>1.0</td>\n",
       "      <td>0.294840</td>\n",
       "      <td>56.031850</td>\n",
       "      <td>3.869201e+09</td>\n",
       "      <td>1792.946820</td>\n",
       "      <td>13.360150</td>\n",
       "    </tr>\n",
       "    <tr>\n",
       "      <th>std</th>\n",
       "      <td>0.0</td>\n",
       "      <td>0.455973</td>\n",
       "      <td>39.118372</td>\n",
       "      <td>2.868888e+02</td>\n",
       "      <td>1025.768294</td>\n",
       "      <td>9.190047</td>\n",
       "    </tr>\n",
       "    <tr>\n",
       "      <th>min</th>\n",
       "      <td>1.0</td>\n",
       "      <td>0.000000</td>\n",
       "      <td>1.000000</td>\n",
       "      <td>3.869200e+09</td>\n",
       "      <td>0.000000</td>\n",
       "      <td>0.000000</td>\n",
       "    </tr>\n",
       "    <tr>\n",
       "      <th>25%</th>\n",
       "      <td>1.0</td>\n",
       "      <td>0.000000</td>\n",
       "      <td>26.000000</td>\n",
       "      <td>3.869200e+09</td>\n",
       "      <td>897.000000</td>\n",
       "      <td>5.000000</td>\n",
       "    </tr>\n",
       "    <tr>\n",
       "      <th>50%</th>\n",
       "      <td>1.0</td>\n",
       "      <td>0.000000</td>\n",
       "      <td>57.000000</td>\n",
       "      <td>3.869201e+09</td>\n",
       "      <td>1794.000000</td>\n",
       "      <td>13.000000</td>\n",
       "    </tr>\n",
       "    <tr>\n",
       "      <th>75%</th>\n",
       "      <td>1.0</td>\n",
       "      <td>1.000000</td>\n",
       "      <td>64.000000</td>\n",
       "      <td>3.869201e+09</td>\n",
       "      <td>2679.000000</td>\n",
       "      <td>21.000000</td>\n",
       "    </tr>\n",
       "    <tr>\n",
       "      <th>max</th>\n",
       "      <td>1.0</td>\n",
       "      <td>1.000000</td>\n",
       "      <td>139.000000</td>\n",
       "      <td>3.869201e+09</td>\n",
       "      <td>3563.000000</td>\n",
       "      <td>29.000000</td>\n",
       "    </tr>\n",
       "  </tbody>\n",
       "</table>\n",
       "</div>"
      ],
      "text/plain": [
       "           HEAD           FPGA    TDC_CHANNEL     ORBIT_CNT     BX_COUNTER  \\\n",
       "count  100000.0  100000.000000  100000.000000  1.000000e+05  100000.000000   \n",
       "mean        1.0       0.294840      56.031850  3.869201e+09    1792.946820   \n",
       "std         0.0       0.455973      39.118372  2.868888e+02    1025.768294   \n",
       "min         1.0       0.000000       1.000000  3.869200e+09       0.000000   \n",
       "25%         1.0       0.000000      26.000000  3.869200e+09     897.000000   \n",
       "50%         1.0       0.000000      57.000000  3.869201e+09    1794.000000   \n",
       "75%         1.0       1.000000      64.000000  3.869201e+09    2679.000000   \n",
       "max         1.0       1.000000     139.000000  3.869201e+09    3563.000000   \n",
       "\n",
       "            TDC_MEAS  \n",
       "count  100000.000000  \n",
       "mean       13.360150  \n",
       "std         9.190047  \n",
       "min         0.000000  \n",
       "25%         5.000000  \n",
       "50%        13.000000  \n",
       "75%        21.000000  \n",
       "max        29.000000  "
      ]
     },
     "execution_count": 33,
     "metadata": {},
     "output_type": "execute_result"
    }
   ],
   "source": [
    "data.describe()"
   ]
  },
  {
   "cell_type": "markdown",
   "metadata": {},
   "source": [
    "2\\. Find out the number of BX in a ORBIT (the value 'x')."
   ]
  },
  {
   "cell_type": "code",
   "execution_count": 48,
   "metadata": {},
   "outputs": [
    {
     "name": "stdout",
     "output_type": "stream",
     "text": [
      "For every orbit corresponds 3.584507042253521 BX, or 89.61267605633803 ns\n"
     ]
    }
   ],
   "source": [
    "orbits = data['ORBIT_CNT'].max() - data['ORBIT_CNT'].min() # total amount of orbits over entire dataset\n",
    "bxTotal = data['BX_COUNTER'].max() - data['BX_COUNTER'].min() # total amount of time in \"bx\" units over entire dataset\n",
    "tdcTotal = data['TDC_MEAS'].max() - data['TDC_MEAS'].min() # total amount of time in \"tdc\" units\n",
    "\n",
    "orbitTime = (bxTotal/orbits)*25 # time taken for 1 orbit in ns\n",
    "#print(orbits, bxs)\n",
    "print(f'For every orbit corresponds {(bxTotal/orbits)} BX, or {orbitTime} ns')"
   ]
  },
  {
   "cell_type": "markdown",
   "metadata": {},
   "source": [
    "3\\. Find out how much the data taking lasted. You can either make an estimate based on the fraction of the measurements (rows) you read, or perform this check precisely by reading out the whole dataset."
   ]
  },
  {
   "cell_type": "code",
   "execution_count": 42,
   "metadata": {},
   "outputs": [
    {
     "name": "stdout",
     "output_type": "stream",
     "text": [
      "The total amount of time taken is 178174.16666666666 ns or 0.00017817416666666665 s\n"
     ]
    }
   ],
   "source": [
    "# total time in ns\n",
    "totalTime = orbits*orbitTime + bxTotal*25 + tdcTotal*(25/30)\n",
    "print(f'The total amount of time taken is {totalTime} ns or {totalTime/1e9} s')"
   ]
  },
  {
   "cell_type": "markdown",
   "metadata": {},
   "source": [
    "4\\. Create a new column with the absolute time in ns (as a combination of the other three columns with timing information)."
   ]
  },
  {
   "cell_type": "code",
   "execution_count": 46,
   "metadata": {},
   "outputs": [
    {
     "data": {
      "text/html": [
       "<div>\n",
       "<style scoped>\n",
       "    .dataframe tbody tr th:only-of-type {\n",
       "        vertical-align: middle;\n",
       "    }\n",
       "\n",
       "    .dataframe tbody tr th {\n",
       "        vertical-align: top;\n",
       "    }\n",
       "\n",
       "    .dataframe thead th {\n",
       "        text-align: right;\n",
       "    }\n",
       "</style>\n",
       "<table border=\"1\" class=\"dataframe\">\n",
       "  <thead>\n",
       "    <tr style=\"text-align: right;\">\n",
       "      <th></th>\n",
       "      <th>HEAD</th>\n",
       "      <th>FPGA</th>\n",
       "      <th>TDC_CHANNEL</th>\n",
       "      <th>ORBIT_CNT</th>\n",
       "      <th>BX_COUNTER</th>\n",
       "      <th>TDC_MEAS</th>\n",
       "      <th>timens</th>\n",
       "    </tr>\n",
       "  </thead>\n",
       "  <tbody>\n",
       "    <tr>\n",
       "      <th>count</th>\n",
       "      <td>100000.0</td>\n",
       "      <td>100000.000000</td>\n",
       "      <td>100000.000000</td>\n",
       "      <td>1.000000e+05</td>\n",
       "      <td>100000.000000</td>\n",
       "      <td>100000.000000</td>\n",
       "      <td>1.000000e+05</td>\n",
       "    </tr>\n",
       "    <tr>\n",
       "      <th>mean</th>\n",
       "      <td>1.0</td>\n",
       "      <td>0.294840</td>\n",
       "      <td>56.031850</td>\n",
       "      <td>3.869201e+09</td>\n",
       "      <td>1792.946820</td>\n",
       "      <td>13.360150</td>\n",
       "      <td>3.467295e+11</td>\n",
       "    </tr>\n",
       "    <tr>\n",
       "      <th>std</th>\n",
       "      <td>0.0</td>\n",
       "      <td>0.455973</td>\n",
       "      <td>39.118372</td>\n",
       "      <td>2.868888e+02</td>\n",
       "      <td>1025.768294</td>\n",
       "      <td>9.190047</td>\n",
       "      <td>3.634749e+04</td>\n",
       "    </tr>\n",
       "    <tr>\n",
       "      <th>min</th>\n",
       "      <td>1.0</td>\n",
       "      <td>0.000000</td>\n",
       "      <td>1.000000</td>\n",
       "      <td>3.869200e+09</td>\n",
       "      <td>0.000000</td>\n",
       "      <td>0.000000</td>\n",
       "      <td>3.467294e+11</td>\n",
       "    </tr>\n",
       "    <tr>\n",
       "      <th>25%</th>\n",
       "      <td>1.0</td>\n",
       "      <td>0.000000</td>\n",
       "      <td>26.000000</td>\n",
       "      <td>3.869200e+09</td>\n",
       "      <td>897.000000</td>\n",
       "      <td>5.000000</td>\n",
       "      <td>3.467294e+11</td>\n",
       "    </tr>\n",
       "    <tr>\n",
       "      <th>50%</th>\n",
       "      <td>1.0</td>\n",
       "      <td>0.000000</td>\n",
       "      <td>57.000000</td>\n",
       "      <td>3.869201e+09</td>\n",
       "      <td>1794.000000</td>\n",
       "      <td>13.000000</td>\n",
       "      <td>3.467295e+11</td>\n",
       "    </tr>\n",
       "    <tr>\n",
       "      <th>75%</th>\n",
       "      <td>1.0</td>\n",
       "      <td>1.000000</td>\n",
       "      <td>64.000000</td>\n",
       "      <td>3.869201e+09</td>\n",
       "      <td>2679.000000</td>\n",
       "      <td>21.000000</td>\n",
       "      <td>3.467295e+11</td>\n",
       "    </tr>\n",
       "    <tr>\n",
       "      <th>max</th>\n",
       "      <td>1.0</td>\n",
       "      <td>1.000000</td>\n",
       "      <td>139.000000</td>\n",
       "      <td>3.869201e+09</td>\n",
       "      <td>3563.000000</td>\n",
       "      <td>29.000000</td>\n",
       "      <td>3.467296e+11</td>\n",
       "    </tr>\n",
       "  </tbody>\n",
       "</table>\n",
       "</div>"
      ],
      "text/plain": [
       "           HEAD           FPGA    TDC_CHANNEL     ORBIT_CNT     BX_COUNTER  \\\n",
       "count  100000.0  100000.000000  100000.000000  1.000000e+05  100000.000000   \n",
       "mean        1.0       0.294840      56.031850  3.869201e+09    1792.946820   \n",
       "std         0.0       0.455973      39.118372  2.868888e+02    1025.768294   \n",
       "min         1.0       0.000000       1.000000  3.869200e+09       0.000000   \n",
       "25%         1.0       0.000000      26.000000  3.869200e+09     897.000000   \n",
       "50%         1.0       0.000000      57.000000  3.869201e+09    1794.000000   \n",
       "75%         1.0       1.000000      64.000000  3.869201e+09    2679.000000   \n",
       "max         1.0       1.000000     139.000000  3.869201e+09    3563.000000   \n",
       "\n",
       "            TDC_MEAS        timens  \n",
       "count  100000.000000  1.000000e+05  \n",
       "mean       13.360150  3.467295e+11  \n",
       "std         9.190047  3.634749e+04  \n",
       "min         0.000000  3.467294e+11  \n",
       "25%         5.000000  3.467294e+11  \n",
       "50%        13.000000  3.467295e+11  \n",
       "75%        21.000000  3.467295e+11  \n",
       "max        29.000000  3.467296e+11  "
      ]
     },
     "execution_count": 46,
     "metadata": {},
     "output_type": "execute_result"
    }
   ],
   "source": [
    "data['timens'] = data['ORBIT_CNT']*orbitTime + data['BX_COUNTER']*25 + data['TDC_MEAS']*(25/30)\n",
    "#print(data['timens'].max() - data['timens'].min())\n",
    "data.describe()"
   ]
  },
  {
   "cell_type": "markdown",
   "metadata": {},
   "source": [
    "5\\. Replace the values (all 1) of the HEAD column randomly with 0 or 1."
   ]
  },
  {
   "cell_type": "code",
   "execution_count": null,
   "metadata": {},
   "outputs": [],
   "source": []
  },
  {
   "cell_type": "markdown",
   "metadata": {},
   "source": [
    "6\\. Create a new DataFrame that contains only the rows with HEAD=1.\n"
   ]
  },
  {
   "cell_type": "code",
   "execution_count": null,
   "metadata": {},
   "outputs": [],
   "source": []
  },
  {
   "cell_type": "markdown",
   "metadata": {},
   "source": [
    "7\\. Make two occupancy plots (one for each FPGA), i.e. plot the number of counts per TDC channel\n"
   ]
  },
  {
   "cell_type": "code",
   "execution_count": null,
   "metadata": {},
   "outputs": [],
   "source": []
  },
  {
   "cell_type": "markdown",
   "metadata": {},
   "source": [
    "8\\. Use the groupby method to find out the noisy channels, i.e. the TDC channels with most counts (say the top 3)\n"
   ]
  },
  {
   "cell_type": "code",
   "execution_count": null,
   "metadata": {},
   "outputs": [],
   "source": []
  },
  {
   "cell_type": "markdown",
   "metadata": {},
   "source": [
    "9\\. Count the number of unique orbits. Count the number of unique orbits with at least one measurement from TDC_CHANNEL=139"
   ]
  },
  {
   "cell_type": "code",
   "execution_count": null,
   "metadata": {},
   "outputs": [],
   "source": []
  }
 ],
 "metadata": {
  "kernelspec": {
   "display_name": "Python 3",
   "language": "python",
   "name": "python3"
  },
  "language_info": {
   "codemirror_mode": {
    "name": "ipython",
    "version": 3
   },
   "file_extension": ".py",
   "mimetype": "text/x-python",
   "name": "python",
   "nbconvert_exporter": "python",
   "pygments_lexer": "ipython3",
   "version": "3.8.3"
  }
 },
 "nbformat": 4,
 "nbformat_minor": 2
}
