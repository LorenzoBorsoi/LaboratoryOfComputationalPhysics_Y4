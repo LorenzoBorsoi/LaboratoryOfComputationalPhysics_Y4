{
 "cells": [
  {
   "cell_type": "markdown",
   "metadata": {},
   "source": [
    "## Pandas analysis\n",
    "\n",
    "This exercise consists in analyzing a dataset containg timing information from a series of Time-to-Digital-Converters (TDC) implemented in a couple of FPGAs. Each measurement (i.e. each row of the input file) consists of a flag that specifies the type of message ('HEAD', which in this case is always 1), two addresses of the TDC providing the signal ('FPGA' and 'TDC_CHANNEL'), and the timing information ('ORBIT_CNT', 'BX_COUNTER', and 'TDC_MEAS'). Each TDC count corresponds to 25/30 ns, whereas a unit of BX_COUNTER corresponds to 25 ns, and the ORBIT_CNT is increased every 'x' BX_COUNTER. This allows to store the time in a similar way to hours, minutes and seconds."
   ]
  },
  {
   "cell_type": "code",
   "execution_count": 2,
   "metadata": {},
   "outputs": [
    {
     "name": "stderr",
     "output_type": "stream",
     "text": [
      "      1 [main] wget 10268 find_fast_cwd: WARNING: Couldn't compute FAST_CWD pointer.  Please report this problem to\n",
      "the public mailing list cygwin@cygwin.com\n",
      "--2021-11-24 15:08:49--  https://www.dropbox.com/s/xvjzaxzz3ysphme/data_000637.txt\n",
      "Resolving www.dropbox.com (www.dropbox.com)... 162.125.69.18, 2620:100:6025:18::a27d:4512\n",
      "Connecting to www.dropbox.com (www.dropbox.com)|162.125.69.18|:443... connected.\n",
      "ERROR: cannot verify www.dropbox.com's certificate, issued by `/C=US/O=DigiCert Inc/OU=www.digicert.com/CN=DigiCert SHA2 High Assurance Server CA':\n",
      "  Unable to locally verify the issuer's authority.\n",
      "To connect to www.dropbox.com insecurely, use `--no-check-certificate'.\n"
     ]
    }
   ],
   "source": [
    "# If you didn't download it yet, please get the relevant file now!\n",
    "!wget https://www.dropbox.com/s/xvjzaxzz3ysphme/data_000637.txt -P ~/data/"
   ]
  },
  {
   "cell_type": "markdown",
   "metadata": {},
   "source": [
    "1\\. Create a Pandas DataFrame reading N rows of the 'data_000637.txt' dataset. Choose N to be smaller than or equal to the maximum number of rows and larger that 10k.\n",
    "\n",
    "2\\. Find out the number of BX in a ORBIT (the value 'x').\n",
    "\n",
    "3\\. Find out how much the data taking lasted. You can either make an estimate based on the fraction of the measurements (rows) you read, or perform this check precisely by reading out the whole dataset.\n",
    "\n",
    "4\\. Create a new column with the absolute time in ns (as a combination of the other three columns with timing information).\n",
    "\n",
    "5\\. Replace the values (all 1) of the HEAD column randomly with 0 or 1.\n",
    "\n",
    "6\\. Create a new DataFrame that contains only the rows with HEAD=1.\n",
    "\n",
    "7\\. Make two occupancy plots (one for each FPGA), i.e. plot the number of counts per TDC channel\n",
    "\n",
    "8\\. Use the groupby method to find out the noisy channels, i.e. the TDC channels with most counts (say the top 3)\n",
    "\n",
    "9\\. Count the number of unique orbits. Count the number of unique orbits with at least one measurement from TDC_CHANNEL=139"
   ]
  },
  {
   "cell_type": "code",
   "execution_count": 75,
   "metadata": {},
   "outputs": [],
   "source": [
    "import pandas as pd\n",
    "import numpy as np\n",
    "import matplotlib.pyplot as plt"
   ]
  },
  {
   "cell_type": "code",
   "execution_count": 3,
   "metadata": {},
   "outputs": [
    {
     "data": {
      "text/html": [
       "<div>\n",
       "<style scoped>\n",
       "    .dataframe tbody tr th:only-of-type {\n",
       "        vertical-align: middle;\n",
       "    }\n",
       "\n",
       "    .dataframe tbody tr th {\n",
       "        vertical-align: top;\n",
       "    }\n",
       "\n",
       "    .dataframe thead th {\n",
       "        text-align: right;\n",
       "    }\n",
       "</style>\n",
       "<table border=\"1\" class=\"dataframe\">\n",
       "  <thead>\n",
       "    <tr style=\"text-align: right;\">\n",
       "      <th></th>\n",
       "      <th>HEAD</th>\n",
       "      <th>FPGA</th>\n",
       "      <th>TDC_CHANNEL</th>\n",
       "      <th>ORBIT_CNT</th>\n",
       "      <th>BX_COUNTER</th>\n",
       "      <th>TDC_MEAS</th>\n",
       "    </tr>\n",
       "  </thead>\n",
       "  <tbody>\n",
       "    <tr>\n",
       "      <th>0</th>\n",
       "      <td>1</td>\n",
       "      <td>0</td>\n",
       "      <td>123</td>\n",
       "      <td>3869200167</td>\n",
       "      <td>2374</td>\n",
       "      <td>26</td>\n",
       "    </tr>\n",
       "    <tr>\n",
       "      <th>1</th>\n",
       "      <td>1</td>\n",
       "      <td>0</td>\n",
       "      <td>124</td>\n",
       "      <td>3869200167</td>\n",
       "      <td>2374</td>\n",
       "      <td>27</td>\n",
       "    </tr>\n",
       "    <tr>\n",
       "      <th>2</th>\n",
       "      <td>1</td>\n",
       "      <td>0</td>\n",
       "      <td>63</td>\n",
       "      <td>3869200167</td>\n",
       "      <td>2553</td>\n",
       "      <td>28</td>\n",
       "    </tr>\n",
       "    <tr>\n",
       "      <th>3</th>\n",
       "      <td>1</td>\n",
       "      <td>0</td>\n",
       "      <td>64</td>\n",
       "      <td>3869200167</td>\n",
       "      <td>2558</td>\n",
       "      <td>19</td>\n",
       "    </tr>\n",
       "    <tr>\n",
       "      <th>4</th>\n",
       "      <td>1</td>\n",
       "      <td>0</td>\n",
       "      <td>64</td>\n",
       "      <td>3869200167</td>\n",
       "      <td>2760</td>\n",
       "      <td>25</td>\n",
       "    </tr>\n",
       "    <tr>\n",
       "      <th>...</th>\n",
       "      <td>...</td>\n",
       "      <td>...</td>\n",
       "      <td>...</td>\n",
       "      <td>...</td>\n",
       "      <td>...</td>\n",
       "      <td>...</td>\n",
       "    </tr>\n",
       "    <tr>\n",
       "      <th>11995</th>\n",
       "      <td>1</td>\n",
       "      <td>0</td>\n",
       "      <td>139</td>\n",
       "      <td>3869200286</td>\n",
       "      <td>3251</td>\n",
       "      <td>0</td>\n",
       "    </tr>\n",
       "    <tr>\n",
       "      <th>11996</th>\n",
       "      <td>1</td>\n",
       "      <td>0</td>\n",
       "      <td>62</td>\n",
       "      <td>3869200286</td>\n",
       "      <td>3246</td>\n",
       "      <td>4</td>\n",
       "    </tr>\n",
       "    <tr>\n",
       "      <th>11997</th>\n",
       "      <td>1</td>\n",
       "      <td>0</td>\n",
       "      <td>58</td>\n",
       "      <td>3869200286</td>\n",
       "      <td>3246</td>\n",
       "      <td>11</td>\n",
       "    </tr>\n",
       "    <tr>\n",
       "      <th>11998</th>\n",
       "      <td>1</td>\n",
       "      <td>0</td>\n",
       "      <td>61</td>\n",
       "      <td>3869200286</td>\n",
       "      <td>3251</td>\n",
       "      <td>17</td>\n",
       "    </tr>\n",
       "    <tr>\n",
       "      <th>11999</th>\n",
       "      <td>1</td>\n",
       "      <td>0</td>\n",
       "      <td>59</td>\n",
       "      <td>3869200286</td>\n",
       "      <td>3248</td>\n",
       "      <td>16</td>\n",
       "    </tr>\n",
       "  </tbody>\n",
       "</table>\n",
       "<p>12000 rows × 6 columns</p>\n",
       "</div>"
      ],
      "text/plain": [
       "       HEAD  FPGA  TDC_CHANNEL   ORBIT_CNT  BX_COUNTER  TDC_MEAS\n",
       "0         1     0          123  3869200167        2374        26\n",
       "1         1     0          124  3869200167        2374        27\n",
       "2         1     0           63  3869200167        2553        28\n",
       "3         1     0           64  3869200167        2558        19\n",
       "4         1     0           64  3869200167        2760        25\n",
       "...     ...   ...          ...         ...         ...       ...\n",
       "11995     1     0          139  3869200286        3251         0\n",
       "11996     1     0           62  3869200286        3246         4\n",
       "11997     1     0           58  3869200286        3246        11\n",
       "11998     1     0           61  3869200286        3251        17\n",
       "11999     1     0           59  3869200286        3248        16\n",
       "\n",
       "[12000 rows x 6 columns]"
      ]
     },
     "execution_count": 3,
     "metadata": {},
     "output_type": "execute_result"
    }
   ],
   "source": [
    "# 1\n",
    "# Create a Pandas DataFrame reading N rows of the 'data_000637.txt' dataset. \n",
    "# Choose N to be smaller than or equal to the maximum number of rows and larger that 10k.\n",
    "\n",
    "N = 12000\n",
    "f = open('data_000637.txt', 'r')\n",
    "data = pd.read_csv(f, nrows=N)\n",
    "df = pd.DataFrame(data)\n",
    "df"
   ]
  },
  {
   "cell_type": "code",
   "execution_count": 4,
   "metadata": {},
   "outputs": [
    {
     "data": {
      "text/plain": [
       "3563"
      ]
     },
     "execution_count": 4,
     "metadata": {},
     "output_type": "execute_result"
    }
   ],
   "source": [
    "# 2\n",
    "# Find out the number of BX in a ORBIT (the value 'x').\n",
    "x = df[\"BX_COUNTER\"].max() - df[\"BX_COUNTER\"].min()\n",
    "x"
   ]
  },
  {
   "cell_type": "code",
   "execution_count": 23,
   "metadata": {
    "scrolled": true
   },
   "outputs": [
    {
     "name": "stdout",
     "output_type": "stream",
     "text": [
      "Total time was 980140993.3125 nanonseconds (98.01 milliseconds).\n"
     ]
    }
   ],
   "source": [
    "# 3\n",
    "# Find out how much the data taking lasted. \n",
    "# You can either make an estimate based on the fraction of the measurements (rows) you read,\n",
    "# or perform this check precisely by reading out the whole dataset.\n",
    "\n",
    "def time_ns(orbit, bx, tdc, x = 3563):\n",
    "    return (orbit * x + bx) * 25 + tdc * 25 / 30\n",
    "\n",
    "f = open('data_000637.txt', 'r')\n",
    "data = pd.read_csv(f)\n",
    "orbits = int(data[\"ORBIT_CNT\"].tail(1)) - data[\"ORBIT_CNT\"][0]\n",
    "start = time_ns(data[\"ORBIT_CNT\"][0], data[\"BX_COUNTER\"][0], data[\"TDC_MEAS\"][0])\n",
    "end = time_ns(int(data[\"ORBIT_CNT\"].tail(1)), int(data[\"BX_COUNTER\"].tail(1)), int(data[\"TDC_MEAS\"].tail(1)))\n",
    "duration = end - start\n",
    "print(f\"Total time was {duration} nanonseconds ({round(duration / 10e6, 2)} milliseconds).\")"
   ]
  },
  {
   "cell_type": "code",
   "execution_count": null,
   "metadata": {},
   "outputs": [],
   "source": [
    "# 4\n",
    "# Create a new column with the absolute time in ns (as a combination of the other three columns with timing information).\n",
    "abs_times = [time_ns(row[1]['ORBIT_CNT'], row[1]['BX_COUNTER'], row[1]['TDC_MEAS']) for row in data.iterrows()]\n",
    "data['ABS_TIME'] = abs_times"
   ]
  },
  {
   "cell_type": "code",
   "execution_count": 63,
   "metadata": {},
   "outputs": [],
   "source": [
    "# 5\n",
    "# Replace the values (all 1) of the HEAD column randomly with 0 or 1.\n",
    "for row in df.iterrows():\n",
    "    df['HEAD'][row[0]] = np.random.randint(2)\n"
   ]
  },
  {
   "cell_type": "code",
   "execution_count": 57,
   "metadata": {},
   "outputs": [],
   "source": [
    "# 6 \n",
    "# Create a new DataFrame that contains only the rows with HEAD=1.\n",
    "newdf = df[df[\"HEAD\"] == 1]\n",
    "newdf"
   ]
  },
  {
   "cell_type": "code",
   "execution_count": 153,
   "metadata": {},
   "outputs": [
    {
     "name": "stdout",
     "output_type": "stream",
     "text": [
      "0\n",
      "2\n",
      "4\n",
      "6\n",
      "8\n",
      "10\n",
      "12\n",
      "14\n",
      "16\n",
      "18\n",
      "20\n",
      "22\n",
      "24\n",
      "26\n",
      "28\n",
      "30\n",
      "32\n",
      "34\n",
      "36\n",
      "38\n",
      "40\n",
      "42\n",
      "44\n",
      "46\n",
      "48\n",
      "50\n",
      "52\n",
      "54\n",
      "56\n",
      "58\n",
      "60\n",
      "62\n",
      "64\n",
      "66\n",
      "68\n",
      "70\n",
      "72\n",
      "74\n",
      "76\n",
      "78\n",
      "80\n",
      "82\n",
      "84\n",
      "86\n",
      "88\n",
      "90\n",
      "92\n",
      "94\n",
      "96\n",
      "98\n",
      "2450\n"
     ]
    }
   ],
   "source": [
    "def sum_even_numbers():\n",
    "    sum = 0\n",
    "    for i in range(0, 100):\n",
    "        \n",
    "        if i % 2 == 0:\n",
    "            print(i)\n",
    "            sum += i\n",
    "    return sum\n",
    "\n",
    "print(sum_even_numbers())"
   ]
  },
  {
   "cell_type": "code",
   "execution_count": 151,
   "metadata": {},
   "outputs": [
    {
     "data": {
      "text/plain": [
       "Text(0.5, 0.98, 'Occurancy plots')"
      ]
     },
     "execution_count": 151,
     "metadata": {},
     "output_type": "execute_result"
    },
    {
     "data": {
      "image/png": "[encoded data removed]",
      "text/plain": [
       "<Figure size 1152x360 with 2 Axes>"
      ]
     },
     "metadata": {
      "needs_background": "light"
     },
     "output_type": "display_data"
    }
   ],
   "source": [
    "# 7\n",
    "# Make two occupancy plots (one for each FPGA), i.e. plot the number of counts per TDC channel\n",
    "df_fpga0 = data[data['FPGA'] == 0]\n",
    "df_fpga1 = data[data['FPGA'] == 1]\n",
    "%matplotlib inline\n",
    "fig, (ax0, ax1) = plt.subplots(nrows=1, ncols=2, figsize=(16, 5))\n",
    "ax0.hist(df_fpga0['TDC_CHANNEL'], label='FPGA0', color='orange')\n",
    "ax0.legend()\n",
    "ax0.grid()\n",
    "ax0.set_xlabel('TDC_CHANNEL', fontsize=16)\n",
    "ax0.set_ylabel('COUNTS', fontsize=14)\n",
    "ax0.tick_params(labelsize=14)\n",
    "ax1.hist(df_fpga1['TDC_CHANNEL'], label='FPGA1', color='green')\n",
    "ax1.legend()\n",
    "ax1.grid()\n",
    "ax1.set_xlabel('TDC_CHANNEL', fontsize=16)\n",
    "ax1.set_ylabel('COUNTS', fontsize=14)\n",
    "ax1.tick_params(labelsize=14)\n",
    "fig.suptitle('Occurancy plots', fontsize=18)"
   ]
  },
  {
   "cell_type": "code",
   "execution_count": 147,
   "metadata": {},
   "outputs": [
    {
     "data": {
      "text/html": [
       "<div>\n",
       "<style scoped>\n",
       "    .dataframe tbody tr th:only-of-type {\n",
       "        vertical-align: middle;\n",
       "    }\n",
       "\n",
       "    .dataframe tbody tr th {\n",
       "        vertical-align: top;\n",
       "    }\n",
       "\n",
       "    .dataframe thead th {\n",
       "        text-align: right;\n",
       "    }\n",
       "</style>\n",
       "<table border=\"1\" class=\"dataframe\">\n",
       "  <thead>\n",
       "    <tr style=\"text-align: right;\">\n",
       "      <th></th>\n",
       "      <th>HEAD</th>\n",
       "      <th>FPGA</th>\n",
       "      <th>ORBIT_CNT</th>\n",
       "      <th>BX_COUNTER</th>\n",
       "      <th>TDC_MEAS</th>\n",
       "      <th>ABS_TIME</th>\n",
       "    </tr>\n",
       "    <tr>\n",
       "      <th>TDC_CHANNEL</th>\n",
       "      <th></th>\n",
       "      <th></th>\n",
       "      <th></th>\n",
       "      <th></th>\n",
       "      <th></th>\n",
       "      <th></th>\n",
       "    </tr>\n",
       "  </thead>\n",
       "  <tbody>\n",
       "    <tr>\n",
       "      <th>63</th>\n",
       "      <td>64642</td>\n",
       "      <td>64642</td>\n",
       "      <td>64642</td>\n",
       "      <td>64642</td>\n",
       "      <td>64642</td>\n",
       "      <td>64642</td>\n",
       "    </tr>\n",
       "    <tr>\n",
       "      <th>64</th>\n",
       "      <td>66020</td>\n",
       "      <td>66020</td>\n",
       "      <td>66020</td>\n",
       "      <td>66020</td>\n",
       "      <td>66020</td>\n",
       "      <td>66020</td>\n",
       "    </tr>\n",
       "    <tr>\n",
       "      <th>139</th>\n",
       "      <td>108059</td>\n",
       "      <td>108059</td>\n",
       "      <td>108059</td>\n",
       "      <td>108059</td>\n",
       "      <td>108059</td>\n",
       "      <td>108059</td>\n",
       "    </tr>\n",
       "  </tbody>\n",
       "</table>\n",
       "</div>"
      ],
      "text/plain": [
       "               HEAD    FPGA  ORBIT_CNT  BX_COUNTER  TDC_MEAS  ABS_TIME\n",
       "TDC_CHANNEL                                                           \n",
       "63            64642   64642      64642       64642     64642     64642\n",
       "64            66020   66020      66020       66020     66020     66020\n",
       "139          108059  108059     108059      108059    108059    108059"
      ]
     },
     "execution_count": 147,
     "metadata": {},
     "output_type": "execute_result"
    }
   ],
   "source": [
    "# 8 \n",
    "# Use the groupby method to find out the noisy channels, i.e. the TDC channels with most counts (say the top 3)\n",
    "top3 = data.groupby(['TDC_CHANNEL']).count().sort_values('HEAD')\n",
    "top3.tail(3)"
   ]
  },
  {
   "cell_type": "code",
   "execution_count": 146,
   "metadata": {},
   "outputs": [
    {
     "name": "stdout",
     "output_type": "stream",
     "text": [
      "the number of unique orbits is 11001\n",
      "the number of unique orbits with at least one measurement from TDC_CHANNEL=139 is 10976\n"
     ]
    }
   ],
   "source": [
    "# 9 \n",
    "# Count the number of unique orbits. Count the number of unique orbits with at least one measurement from TDC_CHANNEL=139\n",
    "unique_orbits = data['ORBIT_CNT'].unique()\n",
    "print('the number of unique orbits is', len(unique_orbits))\n",
    "unique_orbits_139 = data[data['TDC_CHANNEL'] == 139]['ORBIT_CNT'].unique()\n",
    "print('the number of unique orbits with at least one measurement from TDC_CHANNEL=139 is', len(unique_orbits_139))"
   ]
  }
 ],
 "metadata": {
  "kernelspec": {
   "display_name": "Python 3",
   "language": "python",
   "name": "python3"
  },
  "language_info": {
   "codemirror_mode": {
    "name": "ipython",
    "version": 3
   },
   "file_extension": ".py",
   "mimetype": "text/x-python",
   "name": "python",
   "nbconvert_exporter": "python",
   "pygments_lexer": "ipython3",
   "version": "3.8.8"
  }
 },
 "nbformat": 4,
 "nbformat_minor": 2
}
