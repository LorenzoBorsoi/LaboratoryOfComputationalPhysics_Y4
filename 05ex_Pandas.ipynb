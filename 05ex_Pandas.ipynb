{
 "cells": [
  {
   "cell_type": "markdown",
   "metadata": {},
   "source": [
    "## Pandas analysis\n",
    "\n",
    "This exercise consists in analyzing a dataset containg timing information from a series of Time-to-Digital-Converters (TDC) implemented in a couple of FPGAs. Each measurement (i.e. each row of the input file) consists of a flag that specifies the type of message ('HEAD', which in this case is always 1), two addresses of the TDC providing the signal ('FPGA' and 'TDC_CHANNEL'), and the timing information ('ORBIT_CNT', 'BX_COUNTER', and 'TDC_MEAS'). Each TDC count corresponds to 25/30 ns, whereas a unit of BX_COUNTER corresponds to 25 ns, and the ORBIT_CNT is increased every 'x' BX_COUNTER. This allows to store the time in a similar way to hours, minutes and seconds."
   ]
  },
  {
   "cell_type": "code",
   "execution_count": 1,
   "metadata": {},
   "outputs": [],
   "source": [
    "# If you didn't download it yet, please get the relevant file now!\n",
    "#!wget https://www.dropbox.com/s/xvjzaxzz3ysphme/data_000637.txt -P ~/data/"
   ]
  },
  {
   "cell_type": "code",
   "execution_count": 3,
   "metadata": {},
   "outputs": [],
   "source": [
    "from matplotlib import pyplot as plt\n",
    "import numpy as np\n",
    "import pandas as pd"
   ]
  },
  {
   "cell_type": "markdown",
   "metadata": {},
   "source": [
    "1\\. Create a Pandas DataFrame reading N rows of the 'data_000637.txt' dataset. Choose N to be smaller than or equal to the maximum number of rows and larger that 10k.\n",
    "\n",
    "2\\. Find out the number of BX in a ORBIT (the value 'x').\n",
    "\n",
    "3\\. Find out how much the data taking lasted. You can either make an estimate based on the fraction of the measurements (rows) you read, or perform this check precisely by reading out the whole dataset.\n",
    "\n",
    "4\\. Create a new column with the absolute time in ns (as a combination of the other three columns with timing information).\n",
    "\n",
    "5\\. Replace the values (all 1) of the HEAD column randomly with 0 or 1.\n",
    "\n",
    "6\\. Create a new DataFrame that contains only the rows with HEAD=1.\n",
    "\n",
    "7\\. Make two occupancy plots (one for each FPGA), i.e. plot the number of counts per TDC channel\n",
    "\n",
    "8\\. Use the groupby method to find out the noisy channels, i.e. the TDC channels with most counts (say the top 3)\n",
    "\n",
    "9\\. Count the number of unique orbits. Count the number of unique orbits with at least one measurement from TDC_CHANNEL=139"
   ]
  },
  {
   "cell_type": "code",
   "execution_count": 13,
   "metadata": {},
   "outputs": [
    {
     "name": "stdout",
     "output_type": "stream",
     "text": [
      "BX in orbit: 3563\n",
      "fraction of lines I am using: 0.839233 percent\n"
     ]
    },
    {
     "data": {
      "image/png": "[encoded data removed]",
      "text/plain": [
       "<Figure size 432x288 with 1 Axes>"
      ]
     },
     "metadata": {
      "needs_background": "light"
     },
     "output_type": "display_data"
    },
    {
     "data": {
      "image/png": "[encoded data removed]",
      "text/plain": [
       "<Figure size 432x288 with 1 Axes>"
      ]
     },
     "metadata": {
      "needs_background": "light"
     },
     "output_type": "display_data"
    },
    {
     "name": "stdout",
     "output_type": "stream",
     "text": [
      "TDC_CHANNEL: 139 frequency: 466\n",
      "TDC_CHANNEL: 63 frequency: 287\n",
      "TDC_CHANNEL: 64 frequency: 264\n",
      "number of unique orbits: 107\n"
     ]
    }
   ],
   "source": [
    "#Creating the Data Frame\n",
    "content = pd.read_csv('C:\\\\Users\\Luca\\data\\data_000637.txt', nrows = 11000)\n",
    "df = pd.DataFrame(content)\n",
    "\n",
    "#finding 'x' value\n",
    "x = df['BX_COUNTER'].max()#- df['BX_COUNTER'].min()\n",
    "print('BX in orbit:',x)\n",
    "\n",
    "#data lasted\n",
    "l_content = pd.read_csv('C:\\\\Users\\Luca\\data\\data_000637.txt')\n",
    "print('fraction of lines I am using: %f percent' %(100  *11000/len(l_content)))\n",
    "\n",
    "#creating a new column\n",
    "time = df['BX_COUNTER']*25 + df['ORBIT_CNT']*x*25 + df['TDC_MEAS']*25/30\n",
    "df['time[ns]'] = time\n",
    "\n",
    "#replacing data\n",
    "np.random.seed(10)\n",
    "df['HEAD'] = np.random.randint(0,2,len(df))\n",
    "\n",
    "#filtering data\n",
    "ndf = df[df['HEAD'] == 1]\n",
    "#-----------------------------------------------------------------------------------------------------------------------\n",
    "#from now on, I will perform the operations on ndf dataframe\n",
    "\n",
    "#occupacy plots\n",
    "ndf[ndf.FPGA == 0].hist(column ='TDC_CHANNEL', bins = 140, label = ' filter FPGA == 0', color = 'black')\n",
    "plt.legend()\n",
    "ndf[ndf.FPGA == 1].hist('TDC_CHANNEL', bins = 140, label = 'filter FPGA == 1')\n",
    "plt.legend()\n",
    "plt.show()\n",
    "\n",
    "#noisy channels\n",
    "gndf = pd.DataFrame(ndf.groupby(by = 'TDC_CHANNEL'))\n",
    "\n",
    "noisy = []\n",
    "for i in range(0,gndf.shape[0]):\n",
    "    noisy.append([len(gndf.values[i][1]),gndf.values[i][1]['TDC_CHANNEL'].values[0]])  \n",
    "\n",
    "noisy = sorted(noisy)\n",
    "\n",
    "for i in range(0,3):\n",
    "    print('TDC_CHANNEL:', noisy[len(noisy) - 1 - i][1] ,'frequency:', noisy[len(noisy) - 1 - i][0])\n",
    "\n",
    "#unique orbits\n",
    "ndfg = pd.DataFrame(ndf.groupby('TDC_CHANNEL'))\n",
    "l_unique_orbits = np.unique(ndfg.values[-1][1]['ORBIT_CNT'])\n",
    "print('number of unique orbits:',len(l_unique_orbits))"
   ]
  },
  {
   "cell_type": "code",
   "execution_count": null,
   "metadata": {},
   "outputs": [],
   "source": []
  }
 ],
 "metadata": {
  "kernelspec": {
   "display_name": "Python 3",
   "language": "python",
   "name": "python3"
  },
  "language_info": {
   "codemirror_mode": {
    "name": "ipython",
    "version": 3
   },
   "file_extension": ".py",
   "mimetype": "text/x-python",
   "name": "python",
   "nbconvert_exporter": "python",
   "pygments_lexer": "ipython3",
   "version": "3.8.8"
  }
 },
 "nbformat": 4,
 "nbformat_minor": 4
}
