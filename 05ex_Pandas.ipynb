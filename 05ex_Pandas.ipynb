{
 "cells": [
  {
   "cell_type": "markdown",
   "metadata": {},
   "source": [
    "## Pandas analysis\n",
    "\n",
    "This exercise consists in analyzing a dataset containg timing information from a series of\n",
    "Time-to-Digital-Converters (_TDC_) implemented in a couple of FPGAs.\n",
    "\n",
    "Each measurement (i.e. each row of the input file) consists of a flag that specifies the type of message (`HEAD`,\n",
    "which in this case is always $1$), two addresses of the _TDC_ providing the signal (`FPGA` and `TDC_CHANNEL`),\n",
    "and the timing information (`ORBIT_CNT`, `BX_COUNTER`, and `TDC_MEAS`).\n",
    "\n",
    "Each _TDC_ count corresponds to $\\frac{25}{30} =\\frac{5}{6} = 8.3334$ ns, whereas a unit of `BX_COUNTER` corresponds\n",
    "to $25$ ns, and the `ORBIT_CNT` is increased every $x$ `BX_COUNTER`.\n",
    "This allows to store the time in a similar way to hours, minutes and seconds."
   ]
  },
  {
   "cell_type": "code",
   "execution_count": 115,
   "metadata": {},
   "outputs": [
    {
     "name": "stdout",
     "output_type": "stream",
     "text": [
      "zsh:1: command not found: wget\r\n"
     ]
    }
   ],
   "source": [
    "# If you didn't download it yet, please get the relevant file now!\n",
    "!wget https://www.dropbox.com/s/xvjzaxzz3ysphme/data_000637.txt -P ~/data/"
   ]
  },
  {
   "cell_type": "markdown",
   "metadata": {},
   "source": [
    "1\\. Create a Pandas DataFrame reading N rows of the 'data_000637.txt' dataset. Choose N to be smaller than or equal\n",
    "to the maximum number of rows and larger that 10k."
   ]
  },
  {
   "cell_type": "code",
   "execution_count": 116,
   "outputs": [
    {
     "name": "stdout",
     "output_type": "stream",
     "text": [
      "       HEAD  FPGA  TDC_CHANNEL   ORBIT_CNT  BX_COUNTER  TDC_MEAS\n",
      "0         1     0          123  3869200167        2374        26\n",
      "1         1     0          124  3869200167        2374        27\n",
      "2         1     0           63  3869200167        2553        28\n",
      "3         1     0           64  3869200167        2558        19\n",
      "4         1     0           64  3869200167        2760        25\n",
      "...     ...   ...          ...         ...         ...       ...\n",
      "10716     1     0           53  3869200274          25        12\n",
      "10717     1     0          139  3869200274          27         0\n",
      "10718     1     0           60  3869200274          21        27\n",
      "10719     1     0          124  3869200274          28        13\n",
      "10720     1     0           56  3869200274          20        16\n",
      "\n",
      "[10721 rows x 6 columns]\n"
     ]
    }
   ],
   "source": [
    "import pandas as pd\n",
    "import numpy as np\n",
    "\n",
    "max_num_lines = 1310721\n",
    "read_num_lines = 10721\n",
    "df = pd.read_csv(\"./data/data_000637.txt\", nrows=read_num_lines)\n",
    "print(df)"
   ],
   "metadata": {
    "collapsed": false,
    "pycharm": {
     "name": "#%%\n"
    }
   }
  },
  {
   "cell_type": "markdown",
   "source": [
    "2\\. Find out the number of _BX_ in an _ORBIT_ (the value 'x')."
   ],
   "metadata": {
    "collapsed": false,
    "pycharm": {
     "name": "#%% md\n"
    }
   }
  },
  {
   "cell_type": "code",
   "execution_count": 117,
   "outputs": [
    {
     "name": "stdout",
     "output_type": "stream",
     "text": [
      "df['BX_COUNTER'].max() + 1 = 3564 is the number of BX in an ORBIT.\n"
     ]
    }
   ],
   "source": [
    "orbit_time_s = (df['BX_COUNTER'].max() + 1) * 25 * 10 ** -9\n",
    "bx_time_s = 25 * 10 ** -9\n",
    "tdc_time_s = (25 / 30) * 10 ** -9\n",
    "print(f\"{df['BX_COUNTER'].max() + 1 = }\", \"is the number of BX in an ORBIT.\")"
   ],
   "metadata": {
    "collapsed": false,
    "pycharm": {
     "name": "#%%\n"
    }
   }
  },
  {
   "cell_type": "markdown",
   "source": [
    "3\\. Find out how much the data taking lasted. You can either make an estimate based on the fraction of the measurements\n",
    "(rows) you read, or perform this check precisely by reading out the whole dataset."
   ],
   "metadata": {
    "collapsed": false,
    "pycharm": {
     "name": "#%% md\n"
    }
   }
  },
  {
   "cell_type": "code",
   "execution_count": 118,
   "outputs": [
    {
     "name": "stdout",
     "output_type": "stream",
     "text": [
      "time_df.max() - time_df.min() = 0.009475039166666666\n"
     ]
    }
   ],
   "source": [
    "time_df = (df[\"ORBIT_CNT\"] - df[\"ORBIT_CNT\"].min()) * orbit_time_s\\\n",
    "          + df[\"BX_COUNTER\"] * bx_time_s\\\n",
    "          + df[\"TDC_MEAS\"] * tdc_time_s\n",
    "print(f\"{time_df.max() - time_df.min() = }\")"
   ],
   "metadata": {
    "collapsed": false,
    "pycharm": {
     "name": "#%%\n"
    }
   }
  },
  {
   "cell_type": "markdown",
   "source": [
    "This is the relative time that the data-taking took, from the first (temporaly) measurament, to the last, only counting\n",
    "the first ~10K rows. It took close to a milisecond."
   ],
   "metadata": {
    "collapsed": false,
    "pycharm": {
     "name": "#%% md\n"
    }
   }
  },
  {
   "cell_type": "markdown",
   "source": [
    "4\\. Create a new column with the absolute time in ns (as a combination of the other three columns with timing\n",
    "information)."
   ],
   "metadata": {
    "collapsed": false
   }
  },
  {
   "cell_type": "code",
   "execution_count": 119,
   "outputs": [
    {
     "name": "stdout",
     "output_type": "stream",
     "text": [
      "       HEAD  FPGA  TDC_CHANNEL   ORBIT_CNT  BX_COUNTER  TDC_MEAS  \\\n",
      "0         1     0          123  3869200167        2374        26   \n",
      "1         1     0          124  3869200167        2374        27   \n",
      "2         1     0           63  3869200167        2553        28   \n",
      "3         1     0           64  3869200167        2558        19   \n",
      "4         1     0           64  3869200167        2760        25   \n",
      "...     ...   ...          ...         ...         ...       ...   \n",
      "10716     1     0           53  3869200274          25        12   \n",
      "10717     1     0          139  3869200274          27         0   \n",
      "10718     1     0           60  3869200274          21        27   \n",
      "10719     1     0          124  3869200274          28        13   \n",
      "10720     1     0           56  3869200274          20        16   \n",
      "\n",
      "            ABS_TIME  \n",
      "0      344745.734939  \n",
      "1      344745.734939  \n",
      "2      344745.734944  \n",
      "3      344745.734944  \n",
      "4      344745.734949  \n",
      "...              ...  \n",
      "10716  344745.744414  \n",
      "10717  344745.744414  \n",
      "10718  344745.744414  \n",
      "10719  344745.744414  \n",
      "10720  344745.744414  \n",
      "\n",
      "[10721 rows x 7 columns]\n"
     ]
    }
   ],
   "source": [
    "df[\"ABS_TIME\"] = df[\"ORBIT_CNT\"] * orbit_time_s\\\n",
    "          + df[\"BX_COUNTER\"] * bx_time_s\\\n",
    "          + df[\"TDC_MEAS\"] * tdc_time_s\n",
    "print(df)"
   ],
   "metadata": {
    "collapsed": false,
    "pycharm": {
     "name": "#%%\n"
    }
   }
  },
  {
   "cell_type": "markdown",
   "source": [
    "5\\. Replace the values (all 1) of the HEAD column randomly with 0 or 1."
   ],
   "metadata": {
    "collapsed": false
   }
  },
  {
   "cell_type": "code",
   "execution_count": 120,
   "outputs": [
    {
     "name": "stdout",
     "output_type": "stream",
     "text": [
      "       HEAD  FPGA  TDC_CHANNEL   ORBIT_CNT  BX_COUNTER  TDC_MEAS  \\\n",
      "0         0     0          123  3869200167        2374        26   \n",
      "1         1     0          124  3869200167        2374        27   \n",
      "2         1     0           63  3869200167        2553        28   \n",
      "3         0     0           64  3869200167        2558        19   \n",
      "4         0     0           64  3869200167        2760        25   \n",
      "...     ...   ...          ...         ...         ...       ...   \n",
      "10716     1     0           53  3869200274          25        12   \n",
      "10717     1     0          139  3869200274          27         0   \n",
      "10718     1     0           60  3869200274          21        27   \n",
      "10719     1     0          124  3869200274          28        13   \n",
      "10720     1     0           56  3869200274          20        16   \n",
      "\n",
      "            ABS_TIME  \n",
      "0      344745.734939  \n",
      "1      344745.734939  \n",
      "2      344745.734944  \n",
      "3      344745.734944  \n",
      "4      344745.734949  \n",
      "...              ...  \n",
      "10716  344745.744414  \n",
      "10717  344745.744414  \n",
      "10718  344745.744414  \n",
      "10719  344745.744414  \n",
      "10720  344745.744414  \n",
      "\n",
      "[10721 rows x 7 columns]\n"
     ]
    }
   ],
   "source": [
    "for i in df.index:\n",
    "    df.at[i, \"HEAD\"] = np.random.randint(0, 2)\n",
    "print(df)"
   ],
   "metadata": {
    "collapsed": false,
    "pycharm": {
     "name": "#%%\n"
    }
   }
  },
  {
   "cell_type": "markdown",
   "source": [
    "6\\. Create a new DataFrame that contains only the rows with HEAD=1."
   ],
   "metadata": {
    "collapsed": false
   }
  },
  {
   "cell_type": "code",
   "execution_count": 121,
   "outputs": [
    {
     "name": "stdout",
     "output_type": "stream",
     "text": [
      "       HEAD  FPGA  TDC_CHANNEL   ORBIT_CNT  BX_COUNTER  TDC_MEAS  \\\n",
      "1         1     0          124  3869200167        2374        27   \n",
      "2         1     0           63  3869200167        2553        28   \n",
      "9         1     0           60  3869200167        2788         7   \n",
      "13        1     0           36  3869200167        2791        23   \n",
      "14        1     0           56  3869200167        2789         3   \n",
      "...     ...   ...          ...         ...         ...       ...   \n",
      "10716     1     0           53  3869200274          25        12   \n",
      "10717     1     0          139  3869200274          27         0   \n",
      "10718     1     0           60  3869200274          21        27   \n",
      "10719     1     0          124  3869200274          28        13   \n",
      "10720     1     0           56  3869200274          20        16   \n",
      "\n",
      "            ABS_TIME  \n",
      "1      344745.734939  \n",
      "2      344745.734944  \n",
      "9      344745.734949  \n",
      "13     344745.734949  \n",
      "14     344745.734949  \n",
      "...              ...  \n",
      "10716  344745.744414  \n",
      "10717  344745.744414  \n",
      "10718  344745.744414  \n",
      "10719  344745.744414  \n",
      "10720  344745.744414  \n",
      "\n",
      "[5422 rows x 7 columns]\n"
     ]
    }
   ],
   "source": [
    "df2 = df[df[\"HEAD\"] == 1]\n",
    "print(df2)"
   ],
   "metadata": {
    "collapsed": false,
    "pycharm": {
     "name": "#%%\n"
    }
   }
  },
  {
   "cell_type": "markdown",
   "source": [
    "7\\. Make two occupancy plots (one for each FPGA), i.e. plot the number of counts per TDC channel"
   ],
   "metadata": {
    "collapsed": false
   }
  },
  {
   "cell_type": "markdown",
   "source": [
    "From here we use the new DataFrame with `HEAD = 1`."
   ],
   "metadata": {
    "collapsed": false,
    "pycharm": {
     "name": "#%% md\n"
    }
   }
  },
  {
   "cell_type": "code",
   "execution_count": 122,
   "outputs": [
    {
     "data": {
      "text/plain": "array([<AxesSubplot:title={'center':'0'}>,\n       <AxesSubplot:title={'center':'1'}>], dtype=object)"
     },
     "execution_count": 122,
     "metadata": {},
     "output_type": "execute_result"
    },
    {
     "data": {
      "text/plain": "<Figure size 432x288 with 2 Axes>",
      "image/png": "[encoded data removed]"
     },
     "metadata": {},
     "output_type": "display_data"
    }
   ],
   "source": [
    "import matplotlib.pyplot as plt\n",
    "plt.style.use(\"dark_background\")\n",
    "\n",
    "df2.hist(column=\"TDC_CHANNEL\", by=\"FPGA\")"
   ],
   "metadata": {
    "collapsed": false,
    "pycharm": {
     "name": "#%%\n"
    }
   }
  },
  {
   "cell_type": "markdown",
   "source": [
    "8\\. Use the groupby method to find out the noisy channels, i.e. the TDC channels with most counts (say the top 3)"
   ],
   "metadata": {
    "collapsed": false
   }
  },
  {
   "cell_type": "code",
   "execution_count": 123,
   "outputs": [
    {
     "name": "stdout",
     "output_type": "stream",
     "text": [
      "TDC_CHANNEL\n",
      "139    454\n",
      "63     271\n",
      "64     260\n",
      "dtype: int64\n"
     ]
    }
   ],
   "source": [
    "print(df2.groupby(\"TDC_CHANNEL\").size().nlargest(3))"
   ],
   "metadata": {
    "collapsed": false,
    "pycharm": {
     "name": "#%%\n"
    }
   }
  },
  {
   "cell_type": "markdown",
   "source": [
    "9\\. Count the number of unique orbits. Count the number of unique orbits\n",
    "with at least one measurement from TDC_CHANNEL=139"
   ],
   "metadata": {
    "collapsed": false
   }
  },
  {
   "cell_type": "code",
   "execution_count": 124,
   "outputs": [
    {
     "name": "stdout",
     "output_type": "stream",
     "text": [
      "Unique orbits: 108\n",
      "Unique, TDC-139, orbits: 107\n"
     ]
    }
   ],
   "source": [
    "print(\"Unique orbits:\", df2[\"ORBIT_CNT\"].nunique())\n",
    "print(\"Unique, TDC-139, orbits:\", df2[df2[\"TDC_CHANNEL\"] == 139][\"ORBIT_CNT\"].nunique())\n",
    "# This also works:\n",
    "# print(\"Unique orbits:\", df2.groupby(\"ORBIT_CNT\").size().count())\n",
    "# print(\"Unique, TDC-139, orbits: \",\n",
    "#      df2[df2[\"TDC_CHANNEL\"] == 139].groupby(\"ORBIT_CNT\").size().count())\n"
   ],
   "metadata": {
    "collapsed": false,
    "pycharm": {
     "name": "#%%\n"
    }
   }
  }
 ],
 "metadata": {
  "kernelspec": {
   "name": "pycharm-e992d7ce",
   "language": "python",
   "display_name": "PyCharm (Intro_Lab)"
  },
  "language_info": {
   "codemirror_mode": {
    "name": "ipython",
    "version": 3
   },
   "file_extension": ".py",
   "mimetype": "text/x-python",
   "name": "python",
   "nbconvert_exporter": "python",
   "pygments_lexer": "ipython3",
   "version": "3.5.4"
  }
 },
 "nbformat": 4,
 "nbformat_minor": 2
}