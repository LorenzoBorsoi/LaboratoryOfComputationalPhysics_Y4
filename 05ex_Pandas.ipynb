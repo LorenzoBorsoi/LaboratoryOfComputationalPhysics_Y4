{
 "cells": [
  {
   "cell_type": "markdown",
   "metadata": {},
   "source": [
    "## Pandas analysis\n",
    "\n",
    "This exercise consists in analyzing a dataset containg timing information from a series of Time-to-Digital-Converters (TDC) implemented in a couple of FPGAs. Each measurement (i.e. each row of the input file) consists of a flag that specifies the type of message ('HEAD', which in this case is always 1), two addresses of the TDC providing the signal ('FPGA' and 'TDC_CHANNEL'), and the timing information ('ORBIT_CNT', 'BX_COUNTER', and 'TDC_MEAS'). Each TDC count corresponds to 25/30 ns, whereas a unit of BX_COUNTER corresponds to 25 ns, and the ORBIT_CNT is increased every 'x' BX_COUNTER. This allows to store the time in a similar way to hours, minutes and seconds."
   ]
  },
  {
   "cell_type": "code",
   "execution_count": 1,
   "metadata": {},
   "outputs": [
    {
     "name": "stdout",
     "output_type": "stream",
     "text": [
      "--2021-12-13 16:26:48--  https://www.dropbox.com/s/xvjzaxzz3ysphme/data_000637.txt\r\n",
      "Resolving www.dropbox.com (www.dropbox.com)... 162.125.69.18\r\n",
      "Connecting to www.dropbox.com (www.dropbox.com)|162.125.69.18|:443... connected.\r\n",
      "HTTP request sent, awaiting response... 301 Moved Permanently\r\n",
      "Location: /s/raw/xvjzaxzz3ysphme/data_000637.txt [following]\r\n",
      "--2021-12-13 16:26:48--  https://www.dropbox.com/s/raw/xvjzaxzz3ysphme/data_000637.txt\r\n",
      "Reusing existing connection to www.dropbox.com:443.\r\n",
      "HTTP request sent, awaiting response... 302 Found\r\n",
      "Location: https://uc025aaedc87c5e2335057af9874.dl.dropboxusercontent.com/cd/0/inline/BbzlS-MWsVSe9ITj9ZlH3NI3kYLk3b35Vfj0X-jy6NeVg0kNZ12BH3ImQIivfWFDy4IOeYpMpdwWfhYfgm7ztgtt2tytJhioz6-Rv2qiLXjD_yjyYjLVuBafAxtpejci61AkRe3Gx0iBLbM0P6AoMS9s/file# [following]\r\n",
      "--2021-12-13 16:26:49--  https://uc025aaedc87c5e2335057af9874.dl.dropboxusercontent.com/cd/0/inline/BbzlS-MWsVSe9ITj9ZlH3NI3kYLk3b35Vfj0X-jy6NeVg0kNZ12BH3ImQIivfWFDy4IOeYpMpdwWfhYfgm7ztgtt2tytJhioz6-Rv2qiLXjD_yjyYjLVuBafAxtpejci61AkRe3Gx0iBLbM0P6AoMS9s/file\r\n",
      "Resolving uc025aaedc87c5e2335057af9874.dl.dropboxusercontent.com (uc025aaedc87c5e2335057af9874.dl.dropboxusercontent.com)... 162.125.69.15\r\n",
      "Connecting to uc025aaedc87c5e2335057af9874.dl.dropboxusercontent.com (uc025aaedc87c5e2335057af9874.dl.dropboxusercontent.com)|162.125.69.15|:443... connected.\r\n",
      "HTTP request sent, awaiting response... 200 OK\r\n",
      "Length: 33179236 (32M) [text/plain]\r\n",
      "Saving to: ‘/Users/gianmarco/data/data_000637.txt.4’\r\n",
      "\r\n",
      "data_000637.txt.4   100%[===================>]  31.64M  7.90MB/s    in 4.1s    \r\n",
      "\r\n",
      "2021-12-13 16:26:53 (7.64 MB/s) - ‘/Users/gianmarco/data/data_000637.txt.4’ saved [33179236/33179236]\r\n",
      "\r\n"
     ]
    }
   ],
   "source": [
    "# If you didn't download it yet, please get the relevant file now!\n",
    "!wget https://www.dropbox.com/s/xvjzaxzz3ysphme/data_000637.txt -P ~/data/"
   ]
  },
  {
   "cell_type": "code",
   "execution_count": 2,
   "metadata": {},
   "outputs": [],
   "source": [
    "import pandas as pd\n",
    "import numpy as np\n"
   ]
  },
  {
   "cell_type": "markdown",
   "metadata": {},
   "source": [
    "1\\. Create a Pandas DataFrame reading N rows of the 'data_000637.txt' dataset. Choose N to be smaller than or equal to the maximum number of rows and larger that 10k."
   ]
  },
  {
   "cell_type": "code",
   "execution_count": 3,
   "metadata": {},
   "outputs": [],
   "source": [
    "df = pd.read_csv(\"/Users/gianmarco/data/data_000637.txt\", nrows=15000)"
   ]
  },
  {
   "cell_type": "markdown",
   "metadata": {},
   "source": [
    "2\\. Find out the number of BX in a ORBIT (the value 'x')."
   ]
  },
  {
   "cell_type": "code",
   "execution_count": 4,
   "metadata": {},
   "outputs": [
    {
     "data": {
      "text/plain": "          HEAD          FPGA   TDC_CHANNEL     ORBIT_CNT    BX_COUNTER  \\\ncount  15000.0  15000.000000  15000.000000  1.500000e+04  15000.000000   \nmean       1.0      0.302000     55.250333  3.869200e+09   1804.428533   \nstd        0.0      0.459141     39.093898  4.318600e+01   1062.270373   \nmin        1.0      0.000000      1.000000  3.869200e+09      0.000000   \n25%        1.0      0.000000     24.000000  3.869200e+09    839.000000   \n50%        1.0      0.000000     56.000000  3.869200e+09   1815.000000   \n75%        1.0      1.000000     64.000000  3.869200e+09   2756.000000   \nmax        1.0      1.000000    139.000000  3.869200e+09   3563.000000   \n\n           TDC_MEAS  \ncount  15000.000000  \nmean      13.396067  \nstd        9.211141  \nmin        0.000000  \n25%        5.000000  \n50%       13.000000  \n75%       21.000000  \nmax       29.000000  ",
      "text/html": "<div>\n<style scoped>\n    .dataframe tbody tr th:only-of-type {\n        vertical-align: middle;\n    }\n\n    .dataframe tbody tr th {\n        vertical-align: top;\n    }\n\n    .dataframe thead th {\n        text-align: right;\n    }\n</style>\n<table border=\"1\" class=\"dataframe\">\n  <thead>\n    <tr style=\"text-align: right;\">\n      <th></th>\n      <th>HEAD</th>\n      <th>FPGA</th>\n      <th>TDC_CHANNEL</th>\n      <th>ORBIT_CNT</th>\n      <th>BX_COUNTER</th>\n      <th>TDC_MEAS</th>\n    </tr>\n  </thead>\n  <tbody>\n    <tr>\n      <th>count</th>\n      <td>15000.0</td>\n      <td>15000.000000</td>\n      <td>15000.000000</td>\n      <td>1.500000e+04</td>\n      <td>15000.000000</td>\n      <td>15000.000000</td>\n    </tr>\n    <tr>\n      <th>mean</th>\n      <td>1.0</td>\n      <td>0.302000</td>\n      <td>55.250333</td>\n      <td>3.869200e+09</td>\n      <td>1804.428533</td>\n      <td>13.396067</td>\n    </tr>\n    <tr>\n      <th>std</th>\n      <td>0.0</td>\n      <td>0.459141</td>\n      <td>39.093898</td>\n      <td>4.318600e+01</td>\n      <td>1062.270373</td>\n      <td>9.211141</td>\n    </tr>\n    <tr>\n      <th>min</th>\n      <td>1.0</td>\n      <td>0.000000</td>\n      <td>1.000000</td>\n      <td>3.869200e+09</td>\n      <td>0.000000</td>\n      <td>0.000000</td>\n    </tr>\n    <tr>\n      <th>25%</th>\n      <td>1.0</td>\n      <td>0.000000</td>\n      <td>24.000000</td>\n      <td>3.869200e+09</td>\n      <td>839.000000</td>\n      <td>5.000000</td>\n    </tr>\n    <tr>\n      <th>50%</th>\n      <td>1.0</td>\n      <td>0.000000</td>\n      <td>56.000000</td>\n      <td>3.869200e+09</td>\n      <td>1815.000000</td>\n      <td>13.000000</td>\n    </tr>\n    <tr>\n      <th>75%</th>\n      <td>1.0</td>\n      <td>1.000000</td>\n      <td>64.000000</td>\n      <td>3.869200e+09</td>\n      <td>2756.000000</td>\n      <td>21.000000</td>\n    </tr>\n    <tr>\n      <th>max</th>\n      <td>1.0</td>\n      <td>1.000000</td>\n      <td>139.000000</td>\n      <td>3.869200e+09</td>\n      <td>3563.000000</td>\n      <td>29.000000</td>\n    </tr>\n  </tbody>\n</table>\n</div>"
     },
     "execution_count": 4,
     "metadata": {},
     "output_type": "execute_result"
    }
   ],
   "source": [
    "df.describe()"
   ]
  },
  {
   "cell_type": "markdown",
   "metadata": {},
   "source": [
    "3\\. Find out how much the data taking lasted. You can either make an estimate based on the fraction of the measurements (rows) you read, or perform this check precisely by reading out the whole dataset."
   ]
  },
  {
   "cell_type": "code",
   "execution_count": 5,
   "metadata": {},
   "outputs": [
    {
     "data": {
      "text/plain": "13305003.3125"
     },
     "execution_count": 5,
     "metadata": {},
     "output_type": "execute_result"
    }
   ],
   "source": [
    "def tiempo(a,b,c):\n",
    "    t_in = 3869200167*3564*25 + 2374*25 + 26*(25/30)\n",
    "    t_passed = ((a*3564*25)+(b*25)+c*(25/30)) - t_in\n",
    "    return t_passed\n",
    "\n",
    "\n",
    "a1 = df.iloc[14999][\"ORBIT_CNT\"]\n",
    "b1 = df.iloc[14999][\"BX_COUNTER\"]\n",
    "c1 = df.iloc[14999][\"TDC_MEAS\"]\n",
    "\n",
    "t1 = tiempo(a1,b1,c1)\n",
    "\n",
    "t1"
   ]
  },
  {
   "cell_type": "markdown",
   "metadata": {},
   "source": [
    "4\\. Create a new column with the absolute time in ns (as a combination of the other three columns with timing information)."
   ]
  },
  {
   "cell_type": "code",
   "execution_count": 6,
   "metadata": {},
   "outputs": [
    {
     "data": {
      "text/plain": "<bound method NDFrame.head of        HEAD  FPGA  TDC_CHANNEL   ORBIT_CNT  BX_COUNTER  TDC_MEAS  \\\n0         1     0          123  3869200167        2374        26   \n1         1     0          124  3869200167        2374        27   \n2         1     0           63  3869200167        2553        28   \n3         1     0           64  3869200167        2558        19   \n4         1     0           64  3869200167        2760        25   \n...     ...   ...          ...         ...         ...       ...   \n14995     1     1            4  3869200316        3399         9   \n14996     1     1           17  3869200316        3400        15   \n14997     1     1           10  3869200316        3530        16   \n14998     1     1            8  3869200316        3533        18   \n14999     1     0          139  3869200316        3539         0   \n\n       absolute time (ns)  \n0            0.000000e+00  \n1            8.125000e-01  \n2            4.476625e+03  \n3            4.594125e+03  \n4            9.649125e+03  \n...                   ...  \n14995        1.330151e+07  \n14996        1.330154e+07  \n14997        1.330479e+07  \n14998        1.330487e+07  \n14999        1.330500e+07  \n\n[15000 rows x 7 columns]>"
     },
     "execution_count": 6,
     "metadata": {},
     "output_type": "execute_result"
    }
   ],
   "source": [
    "df[\"absolute time (ns)\"] = tiempo(df[\"ORBIT_CNT\"],df[\"BX_COUNTER\"],df[\"TDC_MEAS\"])\n",
    "df.head"
   ]
  },
  {
   "cell_type": "markdown",
   "metadata": {},
   "source": [
    "5\\. Replace the values (all 1) of the HEAD column randomly with 0 or 1."
   ]
  },
  {
   "cell_type": "code",
   "execution_count": 7,
   "metadata": {},
   "outputs": [],
   "source": [
    "df['HEAD'] = np.random.randint(2, size=len(df['HEAD']))"
   ]
  },
  {
   "cell_type": "markdown",
   "metadata": {},
   "source": [
    "6\\. Create a new DataFrame that contains only the rows with HEAD=1."
   ]
  },
  {
   "cell_type": "code",
   "execution_count": 8,
   "metadata": {},
   "outputs": [],
   "source": [
    "dfn = df[(df['HEAD'] == 1)]"
   ]
  },
  {
   "cell_type": "markdown",
   "metadata": {},
   "source": [
    "7\\. Make two occupancy plots (one for each FPGA), i.e. plot the number of counts per TDC channel"
   ]
  },
  {
   "cell_type": "code",
   "execution_count": 9,
   "metadata": {},
   "outputs": [
    {
     "data": {
      "text/plain": "<Figure size 2000x400 with 1 Axes>",
      "image/png": "[encoded data removed]"
     },
     "execution_count": 9,
     "metadata": {},
     "output_type": "execute_result"
    }
   ],
   "source": [
    "pd.value_counts(df['TDC_CHANNEL']).plot.bar(figsize=(20, 4)).figure\n"
   ]
  },
  {
   "cell_type": "markdown",
   "metadata": {},
   "source": [
    "8\\. Use the groupby method to find out the noisy channels, i.e. the TDC channels with most counts (say the top 3)"
   ]
  },
  {
   "cell_type": "code",
   "execution_count": 10,
   "metadata": {},
   "outputs": [
    {
     "data": {
      "text/plain": "139    1268\n64      752\n63      749\n61      571\n62      542\nName: TDC_CHANNEL, dtype: int64"
     },
     "execution_count": 10,
     "metadata": {},
     "output_type": "execute_result"
    }
   ],
   "source": [
    "pd.value_counts(df['TDC_CHANNEL']).head(5)"
   ]
  },
  {
   "cell_type": "markdown",
   "metadata": {},
   "source": [
    "9\\. Count the number of unique orbits. Count the number of unique orbits with at least one measurement from TDC_CHANNEL=139"
   ]
  },
  {
   "cell_type": "code",
   "execution_count": 14,
   "metadata": {},
   "outputs": [
    {
     "name": "stdout",
     "output_type": "stream",
     "text": [
      "Number of unique orbits in Channel 139:  150\n",
      "Percentage of unique orbits: % 11.829652996845425\n"
     ]
    }
   ],
   "source": [
    "\n",
    "print('Number of unique orbits in Channel 139: ',\n",
    "      df[df['TDC_CHANNEL'] == 139]['ORBIT_CNT'].nunique())\n",
    "\n",
    "print(\"Percentage of unique orbits: %\", 100*150/1268)"
   ]
  },
  {
   "cell_type": "code",
   "execution_count": null,
   "outputs": [],
   "source": [],
   "metadata": {
    "collapsed": false,
    "pycharm": {
     "name": "#%%\n"
    }
   }
  }
 ],
 "metadata": {
  "kernelspec": {
   "display_name": "firstEnv",
   "language": "python",
   "name": "firstenv"
  },
  "language_info": {
   "codemirror_mode": {
    "name": "ipython",
    "version": 3
   },
   "file_extension": ".py",
   "mimetype": "text/x-python",
   "name": "python",
   "nbconvert_exporter": "python",
   "pygments_lexer": "ipython3",
   "version": "3.9.7"
  }
 },
 "nbformat": 4,
 "nbformat_minor": 2
}