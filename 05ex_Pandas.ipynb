{
 "cells": [
  {
   "cell_type": "markdown",
   "metadata": {},
   "source": [
    "## Pandas analysis\n",
    "\n",
    "This exercise consists in analyzing a dataset containg timing information from a series of Time-to-Digital-Converters (TDC) implemented in a couple of FPGAs. Each measurement (i.e. each row of the input file) consists of a flag that specifies the type of message ('HEAD', which in this case is always 1), two addresses of the TDC providing the signal ('FPGA' and 'TDC_CHANNEL'), and the timing information ('ORBIT_CNT', 'BX_COUNTER', and 'TDC_MEAS'). Each TDC count corresponds to 25/30 ns, whereas a unit of BX_COUNTER corresponds to 25 ns, and the ORBIT_CNT is increased every 'x' BX_COUNTER. This allows to store the time in a similar way to hours, minutes and seconds."
   ]
  },
  {
   "cell_type": "code",
   "execution_count": 1,
   "metadata": {},
   "outputs": [
    {
     "name": "stdout",
     "output_type": "stream",
     "text": [
      "/bin/bash: /home/giacomo/Programs/miniconda3/lib/libtinfo.so.6: no version information available (required by /bin/bash)\n",
      "--2021-12-12 22:05:05--  https://www.dropbox.com/s/xvjzaxzz3ysphme/data_000637.txt\n",
      "Resolving www.dropbox.com (www.dropbox.com)... 162.125.69.18, 2620:100:6025:18::a27d:4512\n",
      "Connecting to www.dropbox.com (www.dropbox.com)|162.125.69.18|:443... connected.\n",
      "HTTP request sent, awaiting response... 301 Moved Permanently\n",
      "Location: /s/raw/xvjzaxzz3ysphme/data_000637.txt [following]\n",
      "--2021-12-12 22:05:05--  https://www.dropbox.com/s/raw/xvjzaxzz3ysphme/data_000637.txt\n",
      "Reusing existing connection to www.dropbox.com:443.\n",
      "HTTP request sent, awaiting response... 302 Found\n",
      "Location: https://uc653cff27752781f689eb36c9d5.dl.dropboxusercontent.com/cd/0/inline/BbvvWH-joMBTx82wphKrgxsL4Y-FAIYitkMcBjYeij9Qno964UdeNt7gxClgppiX7MFDLb1ZayyRDBIuGfk9uAG-s2QUUZrQv1dA5uzfR9SSDiIrKJpn_UjtrjZaDu6mDirupS37ybpnIxbYL4q0GjEf/file# [following]\n",
      "--2021-12-12 22:05:06--  https://uc653cff27752781f689eb36c9d5.dl.dropboxusercontent.com/cd/0/inline/BbvvWH-joMBTx82wphKrgxsL4Y-FAIYitkMcBjYeij9Qno964UdeNt7gxClgppiX7MFDLb1ZayyRDBIuGfk9uAG-s2QUUZrQv1dA5uzfR9SSDiIrKJpn_UjtrjZaDu6mDirupS37ybpnIxbYL4q0GjEf/file\n",
      "Resolving uc653cff27752781f689eb36c9d5.dl.dropboxusercontent.com (uc653cff27752781f689eb36c9d5.dl.dropboxusercontent.com)... 162.125.69.15, 2620:100:6025:15::a27d:450f\n",
      "Connecting to uc653cff27752781f689eb36c9d5.dl.dropboxusercontent.com (uc653cff27752781f689eb36c9d5.dl.dropboxusercontent.com)|162.125.69.15|:443... connected.\n",
      "HTTP request sent, awaiting response... 200 OK\n",
      "Length: 33179236 (32M) [text/plain]\n",
      "Saving to: ‘/home/giacomo/data/data_000637.txt.1’\n",
      "\n",
      "data_000637.txt.1   100%[===================>]  31,64M  2,35MB/s    in 13s     \n",
      "\n",
      "2021-12-12 22:05:20 (2,39 MB/s) - ‘/home/giacomo/data/data_000637.txt.1’ saved [33179236/33179236]\n",
      "\n"
     ]
    }
   ],
   "source": [
    "# If you didn't download it yet, please get the relevant file now!\n",
    "!wget https://www.dropbox.com/s/xvjzaxzz3ysphme/data_000637.txt -P ~/data/"
   ]
  },
  {
   "cell_type": "markdown",
   "metadata": {},
   "source": [
    "1\\. Create a Pandas DataFrame reading N rows of the 'data_000637.txt' dataset. Choose N to be smaller than or equal to the maximum number of rows and larger that 10k.\n",
    "\n",
    "2\\. Find out the number of BX in a ORBIT (the value 'x').\n",
    "\n",
    "3\\. Find out how much the data taking lasted. You can either make an estimate based on the fraction of the measurements (rows) you read, or perform this check precisely by reading out the whole dataset.\n",
    "\n",
    "4\\. Create a new column with the absolute time in ns (as a combination of the other three columns with timing information).\n",
    "\n",
    "5\\. Replace the values (all 1) of the HEAD column randomly with 0 or 1.\n",
    "\n",
    "6\\. Create a new DataFrame that contains only the rows with HEAD=1.\n",
    "\n",
    "7\\. Make two occupancy plots (one for each FPGA), i.e. plot the number of counts per TDC channel\n",
    "\n",
    "8\\. Use the groupby method to find out the noisy channels, i.e. the TDC channels with most counts (say the top 3)\n",
    "\n",
    "9\\. Count the number of unique orbits. Count the number of unique orbits with at least one measurement from TDC_CHANNEL=139"
   ]
  },
  {
   "cell_type": "code",
   "execution_count": 2,
   "metadata": {},
   "outputs": [
    {
     "name": "stdout",
     "output_type": "stream",
     "text": [
      "3563\n",
      "980200549.1666666 ns\n",
      "29\n",
      "           HEAD           FPGA    TDC_CHANNEL     ORBIT_CNT     BX_COUNTER  \\\n",
      "count  655694.0  655694.000000  655694.000000  6.556940e+05  655694.000000   \n",
      "mean        1.0       0.295420      55.867771  3.869206e+09    1781.260411   \n",
      "std         0.0       0.456232      39.040948  3.182270e+03    1027.445755   \n",
      "min         1.0       0.000000       1.000000  3.869200e+09       0.000000   \n",
      "25%         1.0       0.000000      26.000000  3.869203e+09     895.000000   \n",
      "50%         1.0       0.000000      57.000000  3.869207e+09    1778.000000   \n",
      "75%         1.0       1.000000      64.000000  3.869209e+09    2668.000000   \n",
      "max         1.0       1.000000     139.000000  3.869211e+09    3563.000000   \n",
      "\n",
      "            TDC_MEAS       TIME_NS  \n",
      "count  655694.000000  6.556940e+05  \n",
      "mean       13.311253  5.369845e+08  \n",
      "std         9.202410  2.834605e+08  \n",
      "min         0.000000  6.384833e+04  \n",
      "25%         5.000000  2.926543e+08  \n",
      "50%        13.000000  5.794779e+08  \n",
      "75%        21.000000  7.784978e+08  \n",
      "max        29.000000  9.802005e+08  \n",
      "0\n",
      "129\n",
      "3869208772    183\n",
      "3869207118    179\n",
      "3869210711    172\n",
      "3869208221    169\n",
      "3869206967    165\n",
      "             ... \n",
      "3869206229      1\n",
      "3869206180      1\n",
      "3869204462      1\n",
      "3869202166      1\n",
      "3869204142      1\n",
      "Name: ORBIT_CNT, Length: 10999, dtype: int64\n",
      "10841\n"
     ]
    },
    {
     "data": {
      "image/png": "[encoded data removed]",
      "text/plain": [
       "<Figure size 432x288 with 1 Axes>"
      ]
     },
     "metadata": {
      "needs_background": "light"
     },
     "output_type": "display_data"
    },
    {
     "data": {
      "image/png": "[encoded data removed]",
      "text/plain": [
       "<Figure size 432x288 with 1 Axes>"
      ]
     },
     "metadata": {
      "needs_background": "light"
     },
     "output_type": "display_data"
    }
   ],
   "source": [
    "# 1.\n",
    "import pandas as pd\n",
    "import numpy as np\n",
    "\n",
    "df = pd.read_csv('data/data_000637.txt') #, nrows=20000) # 1310720\n",
    "\n",
    "# 2.\n",
    "x = df.BX_COUNTER.max()\n",
    "dt_ORBIT_CNT = 25 * x\n",
    "print(x)\n",
    "\n",
    "# 3.\n",
    "tot_time = (df.ORBIT_CNT.max() - df.ORBIT_CNT.min()) * dt_ORBIT_CNT + \\\n",
    "            df.BX_COUNTER[df.ORBIT_CNT == df.ORBIT_CNT.max()].max() * 25 + \\\n",
    "            df.TDC_MEAS[df.ORBIT_CNT == df.ORBIT_CNT.max()].max() * 25 / 30\n",
    "print(f'{tot_time} ns')\n",
    "print(f'{df.TDC_MEAS.max()}')\n",
    "\n",
    "# 4.\n",
    "df['TIME_NS'] = (df.ORBIT_CNT - df.ORBIT_CNT.min()) * dt_ORBIT_CNT + \\\n",
    "                 df.BX_COUNTER * 25 + \\\n",
    "                 df.TDC_MEAS * 25 / 30\n",
    "\n",
    "# 5.\n",
    "df.HEAD = np.random.randint(0, 2, int(df.HEAD.count()))\n",
    "\n",
    "# 6.\n",
    "df2 = pd.DataFrame({k: df[k][df.HEAD == 1] for k in df.columns})\n",
    "print(df2.describe())\n",
    "\n",
    "# 7.\n",
    "for i in np.unique(df2.FPGA):\n",
    "    pd.DataFrame.hist(pd.DataFrame({f'TDC{i}': df2.TDC_CHANNEL[df2.FPGA == i]}))\n",
    "    \n",
    "# 8.\n",
    "print(df2.groupby('TDC_MEAS').agg(lambda x:x.count()).mean(1).idxmax())\n",
    "\n",
    "# 9.\n",
    "print(df2['TDC_CHANNEL'].value_counts().idxmin())\n",
    "print(df2['ORBIT_CNT'].value_counts())\n",
    "print(len(df2.groupby('ORBIT_CNT').filter(lambda x: (x.TDC_CHANNEL == 139).sum() > 0)['ORBIT_CNT'].value_counts()))\n"
   ]
  },
  {
   "cell_type": "code",
   "execution_count": null,
   "metadata": {},
   "outputs": [],
   "source": []
  }
 ],
 "metadata": {
  "kernelspec": {
   "display_name": "Python 3 (ipykernel)",
   "language": "python",
   "name": "python3"
  },
  "language_info": {
   "codemirror_mode": {
    "name": "ipython",
    "version": 3
   },
   "file_extension": ".py",
   "mimetype": "text/x-python",
   "name": "python",
   "nbconvert_exporter": "python",
   "pygments_lexer": "ipython3",
   "version": "3.8.5"
  }
 },
 "nbformat": 4,
 "nbformat_minor": 2
}
