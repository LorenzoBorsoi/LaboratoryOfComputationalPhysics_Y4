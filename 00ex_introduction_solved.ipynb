{
 "cells": [
  {
   "cell_type": "markdown",
   "metadata": {},
   "source": [
    "## Exercises 00 -  Carmen Martín Turrero"
   ]
  },
  {
   "cell_type": "markdown",
   "metadata": {},
   "source": [
    "1. The MickeyMouse problem\n",
    "\n",
    "a) Write a program that prints the numbers from 1 to 100. But for multiples of three print Mickey instead of the number and for the multiples of five print Mouse. For numbers which are multiples of both three and five print MickeyMouse\n",
    "\n",
    "b) Put the result in a tuple and substitute Mickey with Donald and Mouse with Duck"
   ]
  },
  {
   "cell_type": "code",
   "execution_count": 1,
   "metadata": {
    "scrolled": true
   },
   "outputs": [
    {
     "name": "stdout",
     "output_type": "stream",
     "text": [
      "[1, 2, 'Mickey', 4, 'Mouse', 'Mickey', 7, 8, 'Mickey', 'Mouse', 11, 'Mickey', 13, 14, 'MickeyMouse', 16, 17, 'Mickey', 19, 'Mouse', 'Mickey', 22, 23, 'Mickey', 'Mouse', 26, 'Mickey', 28, 29, 'MickeyMouse', 31, 32, 'Mickey', 34, 'Mouse', 'Mickey', 37, 38, 'Mickey', 'Mouse', 41, 'Mickey', 43, 44, 'MickeyMouse', 46, 47, 'Mickey', 49, 'Mouse', 'Mickey', 52, 53, 'Mickey', 'Mouse', 56, 'Mickey', 58, 59, 'MickeyMouse', 61, 62, 'Mickey', 64, 'Mouse', 'Mickey', 67, 68, 'Mickey', 'Mouse', 71, 'Mickey', 73, 74, 'MickeyMouse', 76, 77, 'Mickey', 79, 'Mouse', 'Mickey', 82, 83, 'Mickey', 'Mouse', 86, 'Mickey', 88, 89, 'MickeyMouse', 91, 92, 'Mickey', 94, 'Mouse', 'Mickey', 97, 98, 'Mickey', 'Mouse']\n"
     ]
    }
   ],
   "source": [
    "# 1a\n",
    "\n",
    "MMlist = []\n",
    "\n",
    "for i in range(1,101):\n",
    "    if i%3 == 0 and i%5 == 0:\n",
    "        MMlist.append(\"MickeyMouse\")\n",
    "    elif i%3 == 0:\n",
    "        MMlist.append(\"Mickey\")\n",
    "    elif i%5 == 0:\n",
    "        MMlist.append(\"Mouse\")\n",
    "    else:\n",
    "        MMlist.append(i)\n",
    "\n",
    "print(MMlist)"
   ]
  },
  {
   "cell_type": "code",
   "execution_count": 2,
   "metadata": {},
   "outputs": [
    {
     "name": "stdout",
     "output_type": "stream",
     "text": [
      "The tuple with Mickey, Mouse and MickeyMouse: (1, 2, 'Mickey', 4, 'Mouse', 'Mickey', 7, 8, 'Mickey', 'Mouse', 11, 'Mickey', 13, 14, 'MickeyMouse', 16, 17, 'Mickey', 19, 'Mouse', 'Mickey', 22, 23, 'Mickey', 'Mouse', 26, 'Mickey', 28, 29, 'MickeyMouse', 31, 32, 'Mickey', 34, 'Mouse', 'Mickey', 37, 38, 'Mickey', 'Mouse', 41, 'Mickey', 43, 44, 'MickeyMouse', 46, 47, 'Mickey', 49, 'Mouse', 'Mickey', 52, 53, 'Mickey', 'Mouse', 56, 'Mickey', 58, 59, 'MickeyMouse', 61, 62, 'Mickey', 64, 'Mouse', 'Mickey', 67, 68, 'Mickey', 'Mouse', 71, 'Mickey', 73, 74, 'MickeyMouse', 76, 77, 'Mickey', 79, 'Mouse', 'Mickey', 82, 83, 'Mickey', 'Mouse', 86, 'Mickey', 88, 89, 'MickeyMouse', 91, 92, 'Mickey', 94, 'Mouse', 'Mickey', 97, 98, 'Mickey', 'Mouse')\n",
      "\n",
      "The tuple with Donald, Duck and MickeyMouse: (1, 2, 'Donald', 4, 'Duck', 'Donald', 7, 8, 'Donald', 'Duck', 11, 'Donald', 13, 14, 'MickeyMouse', 16, 17, 'Donald', 19, 'Duck', 'Donald', 22, 23, 'Donald', 'Duck', 26, 'Donald', 28, 29, 'MickeyMouse', 31, 32, 'Donald', 34, 'Duck', 'Donald', 37, 38, 'Donald', 'Duck', 41, 'Donald', 43, 44, 'MickeyMouse', 46, 47, 'Donald', 49, 'Duck', 'Donald', 52, 53, 'Donald', 'Duck', 56, 'Donald', 58, 59, 'MickeyMouse', 61, 62, 'Donald', 64, 'Duck', 'Donald', 67, 68, 'Donald', 'Duck', 71, 'Donald', 73, 74, 'MickeyMouse', 76, 77, 'Donald', 79, 'Duck', 'Donald', 82, 83, 'Donald', 'Duck', 86, 'Donald', 88, 89, 'MickeyMouse', 91, 92, 'Donald', 94, 'Duck', 'Donald', 97, 98, 'Donald', 'Duck')\n"
     ]
    }
   ],
   "source": [
    "# 1b\n",
    "\n",
    "MMtuple = tuple(MMlist)\n",
    "\n",
    "print(\"The tuple with Mickey, Mouse and MickeyMouse:\", MMtuple)\n",
    "\n",
    "# We can't change Mickey by Donald nor Mouse by Duck because it is a tuple. \n",
    "\n",
    "# We can change it using a list:\n",
    "\n",
    "DDlist = list(MMtuple)\n",
    "for i in range(len(MMlist)):\n",
    "    if MMlist[i] == \"Mickey\":\n",
    "        DDlist[i] = \"Donald\"\n",
    "    elif MMlist[i] == \"Mouse\":\n",
    "        DDlist[i] = \"Duck\"\n",
    "DDtuple = tuple(DDlist)\n",
    "\n",
    "print()\n",
    "print(\"The tuple with Donald, Duck and MickeyMouse:\",DDtuple)"
   ]
  },
  {
   "cell_type": "markdown",
   "metadata": {},
   "source": [
    "2\\. The swap function\n",
    "\n",
    "Write a function that swap the values of two input variables x and y (whatever the type). Try to do that also without a temporary variable"
   ]
  },
  {
   "cell_type": "code",
   "execution_count": 3,
   "metadata": {},
   "outputs": [
    {
     "name": "stdout",
     "output_type": "stream",
     "text": [
      "(3, 2)\n"
     ]
    }
   ],
   "source": [
    "# We define the function by using an extra variable as help.\n",
    "\n",
    "def swap1(x,y):\n",
    "    z = x\n",
    "    x = y\n",
    "    y = z\n",
    "    return x, y\n",
    "\n",
    "# We try if it works\n",
    "a = 2\n",
    "b = 3\n",
    "\n",
    "print(swap1(a,b))"
   ]
  },
  {
   "cell_type": "code",
   "execution_count": 4,
   "metadata": {},
   "outputs": [
    {
     "name": "stdout",
     "output_type": "stream",
     "text": [
      "(3, 2)\n"
     ]
    }
   ],
   "source": [
    "# Another way:\n",
    "\n",
    "def swap2(x,y):\n",
    "    u = (x,y)\n",
    "    x = u[1]\n",
    "    y = u[0]\n",
    "    return x,y\n",
    "  \n",
    "# Lets try if it works\n",
    "a = 2\n",
    "b = 3\n",
    "    \n",
    "print(swap2(a,b))"
   ]
  },
  {
   "cell_type": "code",
   "execution_count": 5,
   "metadata": {},
   "outputs": [
    {
     "name": "stdout",
     "output_type": "stream",
     "text": [
      "(3, 2)\n"
     ]
    }
   ],
   "source": [
    "# Now we define the function without using the extra variable.\n",
    "\n",
    "def swap3(x,y):\n",
    "    x, y = y, x\n",
    "    return x,y\n",
    "\n",
    "# Lets try if it works\n",
    "a = 2\n",
    "b = 3\n",
    "\n",
    "print(swap3(a,b))"
   ]
  },
  {
   "cell_type": "markdown",
   "metadata": {},
   "source": [
    "3\\. Computing the distance\n",
    "\n",
    "Write a function that calculates and returns the euclidean distance between two points *u* and *v*, where *u* and *v* are both 2-tuples *(x,y)*. For example, if *u=(3,0)* and *v=(0,4)*, the function should return 5"
   ]
  },
  {
   "cell_type": "code",
   "execution_count": 6,
   "metadata": {},
   "outputs": [
    {
     "name": "stdout",
     "output_type": "stream",
     "text": [
      "The distance between (3, 7) and (2, 4) is 3.16.\n"
     ]
    }
   ],
   "source": [
    "# We define a function that calculates the euclidean distance\n",
    "\n",
    "def distance(u,v):\n",
    "    dist = pow((u[0]-v[0])**2 + (u[1]-v[1])**2,1/2)\n",
    "    return dist\n",
    "\n",
    "u = (3,7)\n",
    "v = (2,4)\n",
    "\n",
    "print(\"The distance between {} and {} is {}.\".format(u, v, round(distance(u,v),2)))"
   ]
  },
  {
   "cell_type": "markdown",
   "metadata": {},
   "source": [
    "4\\. Counting letters\n",
    "\n",
    "Write a program to calculate the number of times each character occurs in a given string *s*. Ignore differneces in capitalization"
   ]
  },
  {
   "cell_type": "code",
   "execution_count": 7,
   "metadata": {},
   "outputs": [
    {
     "name": "stdout",
     "output_type": "stream",
     "text": [
      "w  :  2\n",
      "r  :  17\n",
      "i  :  14\n",
      "t  :  19\n",
      "e  :  22\n",
      "   :  41\n",
      "a  :  7\n",
      "p  :  8\n",
      "o  :  13\n",
      "g  :  1\n",
      "m  :  12\n",
      "h  :  9\n",
      "n  :  10\n",
      "s  :  9\n",
      "u  :  9\n",
      "b  :  5\n",
      "f  :  10\n",
      "1  :  2\n",
      "0  :  2\n",
      ".  :  2\n",
      "l  :  6\n",
      "c  :  3\n",
      "k  :  2\n",
      "y  :  2\n",
      "d  :  3\n",
      "v  :  2\n"
     ]
    }
   ],
   "source": [
    "s = \"Write a program that prints the numbers from 1 to 100. \\\n",
    "But for multiples of three print Mickey instead of the number and for the multiples of five print Mouse. \\\n",
    "For numbers which are multiples of both three and five print MickeyMouse\"\n",
    "\n",
    "s = s.lower()\n",
    "characters = [x for x in s]\n",
    "\n",
    "Counter = {}\n",
    "type(Counter)\n",
    "\n",
    "for i in range(len(characters)):\n",
    "    k = 0\n",
    "    for j in range(len(characters)):\n",
    "        if characters[i] == characters[j]:\n",
    "            k = k + 1\n",
    "        else:\n",
    "            k = k\n",
    "    Counter[characters[i]] = k\n",
    "\n",
    "for key in Counter:\n",
    "    print(key, ' : ', Counter[key])"
   ]
  },
  {
   "cell_type": "markdown",
   "metadata": {},
   "source": [
    "5\\. Isolating the unique\n",
    "\n",
    "Write a function that determines and count the unique numbers in the list *l*"
   ]
  },
  {
   "cell_type": "code",
   "execution_count": 8,
   "metadata": {},
   "outputs": [
    {
     "name": "stdout",
     "output_type": "stream",
     "text": [
      "There are 37 unique numbers, which are: [58, 74, 96, 64, 10, 24, 19, 33, 86, 99, 18, 47, 88, 55, 54, 8, 79, 81, 57, 37, 1, 9, 95, 90, 98, 39, 16, 82, 92, 41, 30, 94, 5, 72, 87, 75, 53]\n"
     ]
    }
   ],
   "source": [
    "l = [36, 45, 58, 3, 74, 96, 64, 45, 31, 10, 24, 19, 33, 86, 99, 18, 63, 70, 85,\n",
    " 85, 63, 47, 56, 42, 70, 84, 88, 55, 20, 54, 8, 56, 51, 79, 81, 57, 37, 91,\n",
    " 1, 84, 84, 36, 66, 9, 89, 50, 42, 91, 50, 95, 90, 98, 39, 16, 82, 31, 92, 41,\n",
    " 45, 30, 66, 70, 34, 85, 94, 5, 3, 36, 72, 91, 84, 34, 87, 75, 53, 51, 20, 89, 51, 20]\n",
    "\n",
    "\n",
    "#We want to determine the unique numbers\n",
    "uniques = []\n",
    "k = 0\n",
    "for i in range(len(l)):\n",
    "    for j in range(len(l)):\n",
    "        if l[i] == l[j] and i != j:\n",
    "            k = 1 \n",
    "    if k == 0:\n",
    "        uniques.append(l[i])\n",
    "    else:\n",
    "        k=0\n",
    "        \n",
    "b = len(uniques)    \n",
    "\n",
    "print(\"There are\",b, \"unique numbers, which are:\", uniques)"
   ]
  },
  {
   "cell_type": "markdown",
   "metadata": {},
   "source": [
    "6\\. Combination of functions\n",
    "\n",
    "Write two functions - one that returns the square of a number, and one that returns the cube. Now write a third function that returns the number raised to the 6th power using the two previous functions."
   ]
  },
  {
   "cell_type": "code",
   "execution_count": 9,
   "metadata": {},
   "outputs": [
    {
     "name": "stdout",
     "output_type": "stream",
     "text": [
      "3 9 27 729\n"
     ]
    }
   ],
   "source": [
    "# Function that returns square:\n",
    "\n",
    "def square(x):\n",
    "    return x**2\n",
    "\n",
    "#Function that returns cube:\n",
    "\n",
    "def cube(x):\n",
    "    return x**3\n",
    "\n",
    "#Function that combines both (x**6):\n",
    "\n",
    "def sixth(x):\n",
    "    return cube(square(x))\n",
    "\n",
    "#Test\n",
    "\n",
    "a = 3\n",
    "a2 = square(a)\n",
    "a3 = cube(a)\n",
    "a6 = sixth(a)\n",
    "print(a, a2, a3, a6)"
   ]
  },
  {
   "cell_type": "markdown",
   "metadata": {},
   "source": [
    "7\\. Cubes\n",
    "\n",
    "Create a list of the cubes of x for x in *[0, 10]* using:\n",
    "\n",
    "a) a for loop\n",
    "\n",
    "b) a list comprehension"
   ]
  },
  {
   "cell_type": "code",
   "execution_count": 10,
   "metadata": {},
   "outputs": [
    {
     "name": "stdout",
     "output_type": "stream",
     "text": [
      "[0, 1, 8, 27, 64, 125, 216, 343, 512, 729, 1000]\n"
     ]
    }
   ],
   "source": [
    "# a) List of cubes from 0 to 10 using a for loop:\n",
    "cubes = []\n",
    "for i in range(11):\n",
    "    cubes.append(i**3)\n",
    "print(cubes)"
   ]
  },
  {
   "cell_type": "code",
   "execution_count": 11,
   "metadata": {
    "scrolled": true
   },
   "outputs": [
    {
     "name": "stdout",
     "output_type": "stream",
     "text": [
      "[0, 1, 8, 27, 64, 125, 216, 343, 512, 729, 1000]\n"
     ]
    }
   ],
   "source": [
    "# b) List of cubes from 0 to 10 using a list comprehension:\n",
    "cubes = [x**3 for x in range(11)]\n",
    "print(cubes)"
   ]
  },
  {
   "cell_type": "markdown",
   "metadata": {},
   "source": [
    "8\\. Nested list comprehension\n",
    "\n",
    "A Pythagorean triple is an integer solution to the Pythagorean theorem $a^2+b^2=c^2$. The first Pythagorean triple is (3,4,5). Find and put in a tuple all unique Pythagorean triples for the positive integers a, b and c less than 100."
   ]
  },
  {
   "cell_type": "code",
   "execution_count": 12,
   "metadata": {},
   "outputs": [
    {
     "name": "stdout",
     "output_type": "stream",
     "text": [
      "Pythagorean triples below 100: [(3, 4, 5), (5, 12, 13), (6, 8, 10), (7, 24, 25), (8, 15, 17), (9, 12, 15), (9, 40, 41), (10, 24, 26), (11, 60, 61), (12, 16, 20), (12, 35, 37), (13, 84, 85), (14, 48, 50), (15, 20, 25), (15, 36, 39), (16, 30, 34), (16, 63, 65), (18, 24, 30), (18, 80, 82), (20, 21, 29), (20, 48, 52), (21, 28, 35), (21, 72, 75), (24, 32, 40), (24, 45, 51), (24, 70, 74), (25, 60, 65), (27, 36, 45), (28, 45, 53), (28, 96, 100), (30, 40, 50), (30, 72, 78), (32, 60, 68), (33, 44, 55), (33, 56, 65), (35, 84, 91), (36, 48, 60), (36, 77, 85), (39, 52, 65), (39, 80, 89), (40, 42, 58), (40, 75, 85), (42, 56, 70), (45, 60, 75), (48, 55, 73), (48, 64, 80), (51, 68, 85), (54, 72, 90), (57, 76, 95), (60, 63, 87), (60, 80, 100), (65, 72, 97)]\n",
      "\n",
      "Pythagorean unique triples below 100: [(3, 4, 5), (5, 12, 13), (7, 24, 25), (8, 15, 17), (9, 40, 41), (11, 60, 61), (12, 35, 37), (13, 84, 85), (16, 63, 65), (20, 21, 29), (28, 45, 53), (33, 56, 65), (36, 77, 85), (39, 80, 89), (48, 55, 73), (65, 72, 97)]\n"
     ]
    }
   ],
   "source": [
    "Triples = []\n",
    "for a in range(101):\n",
    "    for b in range(a+1, 101):\n",
    "        for c in range(b+1, 101):\n",
    "            if a**2 + b**2 == c**2:\n",
    "                Triples.append((a, b, c))\n",
    "\n",
    "print(\"Pythagorean triples below 100:\", Triples)\n",
    "\n",
    "#Now we want to find the unique triples, this is the primitive ones (MCD = 1):\n",
    "unique_triples = []\n",
    "\n",
    "def euclide(a, b):\n",
    "    while(b != 0):\n",
    "        a, b = b, a%b\n",
    "    return a\n",
    "\n",
    "for i in Triples:\n",
    "    if euclide(i[0],euclide(i[1],i[2])) == 1:\n",
    "        unique_triples.append(i)\n",
    "\n",
    "print()\n",
    "print(\"Pythagorean unique triples below 100:\", unique_triples)"
   ]
  },
  {
   "cell_type": "markdown",
   "metadata": {},
   "source": [
    "9\\. Normalization\n",
    "\n",
    "Write a function that takes a tuple of numbers and returns it with the entries normalized to one"
   ]
  },
  {
   "cell_type": "code",
   "execution_count": 13,
   "metadata": {},
   "outputs": [
    {
     "data": {
      "text/plain": [
       "(0.6, 0.0, 0.0, 0.8, 0.0)"
      ]
     },
     "execution_count": 13,
     "metadata": {},
     "output_type": "execute_result"
    }
   ],
   "source": [
    "#We define a function to normalize a given tuple of numbers:\n",
    "def normalize(u):\n",
    "    k = 0\n",
    "    norm = []\n",
    "    for i in range(len(u)):\n",
    "        k += u[i]**2\n",
    "    for i in range(len(u)):\n",
    "        norm.append(u[i]/(k**(1/2)))\n",
    "    return tuple(norm)\n",
    "\n",
    "# Test\n",
    "v = (3,0,0,4,0)\n",
    "normalize(v)"
   ]
  }
 ],
 "metadata": {
  "kernelspec": {
   "display_name": "Python 3",
   "language": "python",
   "name": "python3"
  },
  "language_info": {
   "codemirror_mode": {
    "name": "ipython",
    "version": 3
   },
   "file_extension": ".py",
   "mimetype": "text/x-python",
   "name": "python",
   "nbconvert_exporter": "python",
   "pygments_lexer": "ipython3",
   "version": "3.8.8"
  }
 },
 "nbformat": 4,
 "nbformat_minor": 2
}
