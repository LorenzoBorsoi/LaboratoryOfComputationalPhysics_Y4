{
 "cells": [
  {
   "cell_type": "markdown",
   "metadata": {},
   "source": [
    "# OSEMN Exercises"
   ]
  },
  {
   "cell_type": "code",
   "execution_count": null,
   "metadata": {},
   "outputs": [],
   "source": [
    "%matplotlib inline\n",
    "import pandas as pd\n",
    "import numpy as np"
   ]
  },
  {
   "cell_type": "markdown",
   "metadata": {},
   "source": [
    "1\\. Create a random list of number and then save it to a text file named \"simple_data.txt\""
   ]
  },
  {
   "cell_type": "code",
   "execution_count": null,
   "metadata": {},
   "outputs": [],
   "source": [
    "import random\n",
    "\n",
    "file_name = \"/home/atiye/Desktop/data/simple_data.txt\"\n",
    "i = [random.randint(0,1) for i in range(10)]\n",
    "with open(file_name, 'w') as file:\n",
    "    for value in i:\n",
    "        file.write(\"%i\\n\" % value)    \n",
    "file.close()"
   ]
  },
  {
   "cell_type": "markdown",
   "metadata": {},
   "source": [
    "2\\. Create a random matrix of 5x5 and then save it to a text file named \"data.txt\""
   ]
  },
  {
   "cell_type": "code",
   "execution_count": null,
   "metadata": {},
   "outputs": [],
   "source": [
    "import numpy as np\n",
    "\n",
    "file_name = \"/home/atiye/Desktop/data/data.txt\"\n",
    "matrix = np.random.rand(5,6)\n",
    "content = str(matrix)\n",
    "file = open(file_name, 'w')\n",
    "file.write(content)\n",
    "file.close()\n",
    "np.savetxt(\"/home/atiye/Desktop/data/data.txt\", matrix)"
   ]
  },
  {
   "cell_type": "markdown",
   "metadata": {},
   "source": [
    "3\\. Load the saved txt file of point 2 and convert it to a csv file (by hand)"
   ]
  },
  {
   "cell_type": "code",
   "execution_count": null,
   "metadata": {},
   "outputs": [],
   "source": [
    "import csv\n",
    "txtfile = \"/home/atiye/Desktop/data/data.txt\"\n",
    "csvfile = \"/home/atiye/Desktop/data/data.csv\"\n",
    "with open(txtfile, 'r') as in_file:\n",
    "    stripped = (line.strip() for line in in_file)\n",
    "    lines = (line.split(' ') for line in stripped if line)\n",
    "    with open(csvfile, 'w') as out_file:\n",
    "        writer = csv.writer(out_file)\n",
    "        writer.writerows(lines)"
   ]
  },
  {
   "cell_type": "markdown",
   "metadata": {},
   "source": [
    "4\\. load the binary file named *credit_card.dat* and convert the data into the real credit-card number.\n",
    "Each line correspond to a credit card number.\n",
    "Each character is composed by 6 bit (even the space) and the last 4 bit are just a padding\n",
    "\n",
    "**hint**: use the `chr()` function to convert a number to a char"
   ]
  },
  {
   "cell_type": "code",
   "execution_count": null,
   "metadata": {},
   "outputs": [],
   "source": [
    "file_name = \"/home/atiye/Desktop/data/credit_card.dat\"\n",
    "\n",
    "\n",
    "cards = []\n",
    "with open(file_name, mode='r') as f:\n",
    "    for line in f:\n",
    "        cards.append(line)\n",
    "f.close()\n",
    "\n",
    "#Converting binary elements to card number.\n",
    "for n in range(len(cards)):\n",
    "    num =''\n",
    "    j=0   \n",
    "    for i in range(6,(len(cards[n])-5)+6,6):\n",
    "        num+=chr(int(cards[n][j:i],2))\n",
    "        j=i\n",
    "    print(num)"
   ]
  },
  {
   "cell_type": "markdown",
   "metadata": {},
   "source": [
    "5\\. Load the file \"user_data.json\", filter the data by the \"CreditCardType\" field equals to \"American Express\". Than save the data a to CSV."
   ]
  },
  {
   "cell_type": "code",
   "execution_count": null,
   "metadata": {},
   "outputs": [],
   "source": [
    "import json\n",
    "import csv\n",
    "\n",
    "\n",
    "file_name = \"/home/atiye/Desktop/data/user_data.json\"\n",
    "data = json.load(open(file_name))\n",
    "\n",
    "#filtering  American Express holders \n",
    "AE_holders =[]\n",
    "for i in range(200):\n",
    "    if data[i]['CreditCardType']== 'American Express':\n",
    "        AE_holders.append(data[i])\n",
    "        \n",
    "with open('/home/atiye/Desktop/data/American_Express_holders.csv', mode='w') as AE_file:\n",
    "    fieldnames = ['ID', 'JobTitle', 'EmailAddress','FirstNameLastName','CreditCard','CreditCardType']\n",
    "    \n",
    "    writer = csv.DictWriter(AE_file, fieldnames=fieldnames)\n",
    "    writer.writeheader()\n",
    "    for i in range(len(AE_holders)):\n",
    "        writer.writerow(AE_holders[i])\n",
    "        \n"
   ]
  },
  {
   "cell_type": "markdown",
   "metadata": {},
   "source": [
    "6\\. Load the file from this url: [https://www.dropbox.com/s/7u3lm737ogbqsg8/mushrooms_categorized.csv?dl=1](https://www.dropbox.com/s/7u3lm737ogbqsg8/mushrooms_categorized.csv?dl=1) with Pandas. \n",
    "+ Explore the data (see the info of the data)\n",
    "+ Draw the istogram of the 'class' field. Decribe wath yuou see\n"
   ]
  },
  {
   "cell_type": "code",
   "execution_count": null,
   "metadata": {},
   "outputs": [],
   "source": [
    "import pandas as pd\n",
    "\n",
    "#!wget  https://www.dropbox.com/s/7u3lm737ogbqsg8/mushrooms_categorized.csv?dl=1 -P ~/data/\n",
    "file_name=\"/home/atiye/Desktop/data/mushrooms_categorized.csv\"\n",
    "data1=pd.read_csv(file_name)\n",
    "data1\n",
    "import matplotlib.pyplot as plt\n",
    "data1.hist(column ='class')\n",
    "plt.show()\n",
    "\n"
   ]
  },
  {
   "cell_type": "markdown",
   "metadata": {},
   "source": [
    "7\\. Load the remote file [https://www.dropbox.com/s/vkl89yce7xjdq4n/regression_generated.csv?dl=1](https://www.dropbox.com/s/vkl89yce7xjdq4n/regression_generated.csv?dl=1) with Pandas and plot a scatter plot all possible combination of the following fields:\n",
    "    \n",
    "  + features_1\n",
    "  + features_2\n",
    "  + features_3"
   ]
  },
  {
   "cell_type": "code",
   "execution_count": null,
   "metadata": {},
   "outputs": [],
   "source": [
    "import pandas as pd\n",
    "#!wget   https://www.dropbox.com/s/vkl89yce7xjdq4n/regression_generated.csv?dl=1  -P ~/data/\n",
    "\n",
    "file_name=\"/home/atiye/Desktop/data/regression_generated.csv\"\n",
    "data=pd.read_csv(file_name)\n",
    "data\n",
    "%matplotlib inline\n",
    "\n",
    "data.plot.scatter('features_1','features_2',s=1.5,c='black')\n",
    "\n",
    "data.plot.scatter('features_1','features_3',s=1.5,c='red')\n",
    "\n",
    "data.plot.scatter('features_2','features_3',s=1.5,c='blue')\n",
    "plt.show()"
   ]
  },
  {
   "cell_type": "markdown",
   "metadata": {},
   "source": [
    "8\\. Load the same file of point 6, and convert the file to json with Pandas."
   ]
  },
  {
   "cell_type": "code",
   "execution_count": null,
   "metadata": {},
   "outputs": [],
   "source": [
    "import json \n",
    "import pandas as pd\n",
    "\n",
    "# File paths according to my laptop \n",
    "csvFilePath = r'/home/atiye/Desktop/data/mushrooms_categorized.csv'\n",
    "jsonFilePath = r'/home/atiye/Desktop/data/mushrooms_categorized.json'\n",
    "  \n",
    "#obtain the csv and convert it to pd dataframe\n",
    "data = pd.read_csv(csvFilePath)\n",
    "\n",
    "#store the data in JSON format\n",
    "data.to_json(jsonFilePath, orient = 'records')\n",
    "\n",
    "#Just as a check I read the JSON file\n",
    "dataj = pd.read_json(jsonFilePath, orient ='records')\n",
    "\n",
    "dat = json.load(open(jsonFilePath))\n",
    "dat[0]"
   ]
  }
 ],
 "metadata": {
  "kernelspec": {
   "display_name": "Python 3 (ipykernel)",
   "language": "python",
   "name": "python3"
  },
  "language_info": {
   "codemirror_mode": {
    "name": "ipython",
    "version": 3
   },
   "file_extension": ".py",
   "mimetype": "text/x-python",
   "name": "python",
   "nbconvert_exporter": "python",
   "pygments_lexer": "ipython3",
   "version": "3.8.10"
  }
 },
 "nbformat": 4,
 "nbformat_minor": 2
}
