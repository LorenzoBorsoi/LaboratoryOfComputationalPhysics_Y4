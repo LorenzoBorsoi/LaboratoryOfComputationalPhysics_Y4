{
 "cells": [
  {
   "cell_type": "markdown",
   "metadata": {},
   "source": [
    "# OSEMN Exercises"
   ]
  },
  {
   "cell_type": "code",
   "execution_count": 2,
   "metadata": {},
   "outputs": [],
   "source": [
    "%matplotlib inline\n",
    "import pandas as pd\n",
    "import numpy as np"
   ]
  },
  {
   "cell_type": "markdown",
   "metadata": {},
   "source": [
    "1\\. Create a random list of number and then save it to a text file named \"simple_data.txt\""
   ]
  },
  {
   "cell_type": "code",
   "execution_count": 26,
   "metadata": {},
   "outputs": [],
   "source": [
    "rnd = np.random.random(10)\n",
    "\n",
    "with open(\"simple_data.txt\", \"w\") as f:\n",
    "    f.write(str(rnd))\n",
    "    f.close()"
   ]
  },
  {
   "cell_type": "markdown",
   "metadata": {},
   "source": [
    "2\\. Create a random matrix of 5x5 and then save it to a text file named \"data.txt\""
   ]
  },
  {
   "cell_type": "code",
   "execution_count": 135,
   "metadata": {},
   "outputs": [],
   "source": [
    "rnd = np.random.random((5,5))\n",
    "\n",
    "with open(\"data.txt\", 'w') as f:\n",
    "    for row in rnd:\n",
    "        f.write(str(row)+'\\n')\n",
    "    f.close()"
   ]
  },
  {
   "cell_type": "markdown",
   "metadata": {},
   "source": [
    "3\\. Load the saved txt file of point 2 and convert it to a csv file (by hand)"
   ]
  },
  {
   "cell_type": "code",
   "execution_count": 154,
   "metadata": {},
   "outputs": [
    {
     "name": "stdout",
     "output_type": "stream",
     "text": [
      "['0.96735488', '0.38184867', '0.19992112', '0.55443547', '0.17827465']\n",
      "['0.87097719', '0.04365502', '0.2055671', '0.64296668', '0.90345986']\n",
      "['0.1413737', '0.2293745', '0.02380288', '0.03580479', '0.86362831']\n",
      "['0.51494157', '0.94227058', '0.20554175', '0.63185861', '0.20426392']\n",
      "['0.32401165', '0.68550419', '0.24502279', '0.35781726', '0.3860811']\n"
     ]
    }
   ],
   "source": [
    "import csv\n",
    "\n",
    "tmp=[]\n",
    "tmp_2=[]\n",
    "\n",
    "with open(\"data.txt\", 'r') as f:\n",
    "    for line in f:\n",
    "        tmp.append(line)\n",
    "    f.close()\n",
    "\n",
    "for s in tmp: \n",
    "    while s.count('  ')!=0:     # removing double spaces\n",
    "        s=(s.replace('  ',' '))\n",
    "    s=(s.replace(' ]',''))\n",
    "    s=(s.replace(']',''))\n",
    "    s=(s.replace('[','')) \n",
    "    s=(s.replace(' ',','))     # substituting spaces with commas\n",
    "    #s=(s.replace('\\n',''))      # removing newlines\n",
    "    tmp_2.append(s)\n",
    "\n",
    "with open(\"data.cvs\", 'w') as f:\n",
    "    for line in tmp_2:\n",
    "        f.write(line)\n",
    "    f.close()\n",
    "    \n",
    "  # Veryfy  the cvs file is correct\n",
    "with open('data.cvs') as f:\n",
    "    for line in csv.reader(f, delimiter=','):\n",
    "        one, two, three, four, five = map(float, line[:])\n",
    "        print(line)"
   ]
  },
  {
   "cell_type": "markdown",
   "metadata": {},
   "source": [
    "4\\. load the binary file named *credit_card.dat* and convert the data into the real credit-card number.\n",
    "Each line correspond to a credit card number.\n",
    "Each character is composed by 6 bit (even the space) and the last 4 bit are just a padding\n",
    "\n",
    "**hint**: use the `chr()` function to convert a number to a char"
   ]
  },
  {
   "cell_type": "code",
   "execution_count": null,
   "metadata": {},
   "outputs": [],
   "source": []
  },
  {
   "cell_type": "markdown",
   "metadata": {},
   "source": [
    "5\\. Load the file \"user_data.json\", filter the data by the \"CreditCardType\" field equals to \"American Express\". Than save the data a to CSV."
   ]
  },
  {
   "cell_type": "code",
   "execution_count": null,
   "metadata": {},
   "outputs": [],
   "source": []
  },
  {
   "cell_type": "markdown",
   "metadata": {},
   "source": [
    "6\\. Load the file from this url: [https://www.dropbox.com/s/7u3lm737ogbqsg8/mushrooms_categorized.csv?dl=1](https://www.dropbox.com/s/7u3lm737ogbqsg8/mushrooms_categorized.csv?dl=1) with Pandas. \n",
    "+ Explore the data (see the info of the data)\n",
    "+ Draw the istogram of the 'class' field. Decribe wath yuou see\n"
   ]
  },
  {
   "cell_type": "code",
   "execution_count": null,
   "metadata": {},
   "outputs": [],
   "source": []
  },
  {
   "cell_type": "markdown",
   "metadata": {},
   "source": [
    "7\\. Load the remote file [https://www.dropbox.com/s/vkl89yce7xjdq4n/regression_generated.csv?dl=1](https://www.dropbox.com/s/vkl89yce7xjdq4n/regression_generated.csv?dl=1) with Pandas and plot a scatter plot all possible combination of the following fields:\n",
    "    \n",
    "  + features_1\n",
    "  + features_2\n",
    "  + features_3"
   ]
  },
  {
   "cell_type": "code",
   "execution_count": null,
   "metadata": {},
   "outputs": [],
   "source": []
  },
  {
   "cell_type": "markdown",
   "metadata": {},
   "source": [
    "8\\. Load the same file of point 6, and convert the file to json with Pandas."
   ]
  },
  {
   "cell_type": "code",
   "execution_count": null,
   "metadata": {},
   "outputs": [],
   "source": []
  }
 ],
 "metadata": {
  "kernelspec": {
   "display_name": "Python 3",
   "language": "python",
   "name": "python3"
  },
  "language_info": {
   "codemirror_mode": {
    "name": "ipython",
    "version": 3
   },
   "file_extension": ".py",
   "mimetype": "text/x-python",
   "name": "python",
   "nbconvert_exporter": "python",
   "pygments_lexer": "ipython3",
   "version": "3.8.10"
  }
 },
 "nbformat": 4,
 "nbformat_minor": 2
}
