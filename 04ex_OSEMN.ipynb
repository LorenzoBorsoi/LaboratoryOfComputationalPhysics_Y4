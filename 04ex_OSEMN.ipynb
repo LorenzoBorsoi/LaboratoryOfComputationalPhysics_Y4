{
 "cells": [
  {
   "cell_type": "markdown",
   "metadata": {},
   "source": [
    "# OSEMN Exercises"
   ]
  },
  {
   "cell_type": "code",
   "execution_count": 2,
   "metadata": {},
   "outputs": [],
   "source": [
    "%matplotlib inline\n",
    "import pandas as pd\n",
    "import numpy as np"
   ]
  },
  {
   "cell_type": "markdown",
   "metadata": {},
   "source": [
    "1\\. Create a random list of number and then save it to a text file named \"simple_data.txt\""
   ]
  },
  {
   "cell_type": "code",
   "execution_count": 63,
   "metadata": {},
   "outputs": [
    {
     "name": "stdout",
     "output_type": "stream",
     "text": [
      "0.54 0.19 0.81 0.78 0.56\n",
      "\n"
     ]
    }
   ],
   "source": [
    "np.random.seed(2044719)\n",
    "rand_list = np.random.rand(5).reshape(1,-1)\n",
    "\n",
    "file_name = \"simple_data.txt\"\n",
    "np.savetxt(file_name, rand_list, fmt='%.2f') \n",
    "    \n",
    "with open(file_name, mode='r') as f:\n",
    "    print(f.read())"
   ]
  },
  {
   "cell_type": "markdown",
   "metadata": {},
   "source": [
    "2\\. Create a random matrix of 5x5 and then save it to a text file named \"data.txt\""
   ]
  },
  {
   "cell_type": "code",
   "execution_count": 64,
   "metadata": {},
   "outputs": [
    {
     "name": "stdout",
     "output_type": "stream",
     "text": [
      "0.54 0.19 0.81 0.78 0.56\n",
      "0.04 0.15 0.53 0.57 0.88\n",
      "0.08 0.14 0.82 0.36 0.23\n",
      "0.17 0.78 0.55 0.31 0.34\n",
      "0.84 0.10 0.93 0.60 0.08\n",
      "\n"
     ]
    }
   ],
   "source": [
    "np.random.seed(2044719)\n",
    "rand_mtrx = np.random.rand(5,5)\n",
    "\n",
    "file_name = \"data.txt\"\n",
    "np.savetxt(file_name, rand_mtrx, fmt='%.2f') \n",
    "    \n",
    "with open(file_name, mode='r') as f:\n",
    "    print(f.read())"
   ]
  },
  {
   "cell_type": "markdown",
   "metadata": {},
   "source": [
    "3\\. Load the saved txt file of point 2 and convert it to a csv file (by hand)"
   ]
  },
  {
   "cell_type": "code",
   "execution_count": 80,
   "metadata": {},
   "outputs": [],
   "source": [
    "with open(\"data.txt\", mode='r') as f_in:\n",
    "    with open(\"data.csv\", mode='w') as f_out:\n",
    "        for line in f_in:\n",
    "            line = line.replace(' ', ',')\n",
    "            f_out.write(line)"
   ]
  },
  {
   "cell_type": "markdown",
   "metadata": {},
   "source": [
    "4\\. load the binary file named *credit_card.dat* and convert the data into the real credit-card number.\n",
    "Each line correspond to a credit card number.\n",
    "Each character is composed by 6 bit (even the space) and the last 4 bit are just a padding\n",
    "\n",
    "**hint**: use the `chr()` function to convert a number to a char"
   ]
  },
  {
   "cell_type": "code",
   "execution_count": 6,
   "metadata": {},
   "outputs": [
    {
     "name": "stdout",
     "output_type": "stream",
     "text": [
      "7648-5673-3775-2271\n",
      "3257-8247-3354-2266\n",
      "2722-0001-4011-6652\n",
      "0661-3063-3742-3150\n",
      "0432-1608-1462-4742\n",
      "5827-2027-8785-7303\n",
      "5774-8528-2087-1117\n",
      "8140-1210-6352-2845\n",
      "5764-1133-7301-7100\n",
      "6456-1737-4126-6726\n",
      "1228-8631-7382-0000\n",
      "7051-0160-5374-3166\n",
      "0618-3587-1630-6376\n",
      "1545-5454-7444-5636\n",
      "6735-3116-3202-6834\n",
      "7287-5011-1547-8413\n",
      "7033-2607-3328-4200\n",
      "2568-5244-1874-5024\n",
      "1684-2253-7570-7118\n",
      "0672-2576-0575-6631\n",
      "6332-8353-8787-1340\n",
      "1813-3361-1175-4211\n",
      "2477-6450-8840-2368\n",
      "5512-3505-2563-1326\n",
      "3083-7882-0621-0025\n",
      "4521-5148-8045-0334\n",
      "7563-3654-8713-5787\n",
      "8324-2664-0476-5561\n",
      "0565-2504-7168-3510\n",
      "5107-5507-1767-0738\n",
      "2462-1821-2448-1443\n",
      "2788-0638-6861-6554\n",
      "5851-5873-5474-0547\n",
      "0670-1004-4013-2655\n",
      "5874-5506-3048-0806\n",
      "2805-5401-8462-1260\n",
      "5083-8406-6310-1862\n",
      "1076-1445-3013-2266\n",
      "8440-4804-4844-5277\n",
      "4758-6141-0686-1387\n",
      "7586-0675-0315-2568\n",
      "2544-1258-7432-5165\n",
      "3474-5023-4434-5626\n",
      "1410-0270-0434-5086\n",
      "7315-4446-1104-4215\n",
      "0224-7742-8300-0266\n",
      "0170-2700-3145-0640\n",
      "2006-2437-8054-1600\n",
      "8142-4055-1776-0026\n",
      "3026-7380-1241-1084\n"
     ]
    }
   ],
   "source": [
    "credit_card_number = []\n",
    "\n",
    "with open(\"credit_card.dat\",'r') as f:\n",
    "    \n",
    "    for line in f:\n",
    "        \n",
    "        # remove the last 4 bit (padding)\n",
    "        line = line[:-4]\n",
    "        # check only the lines that correspond to a credit card number\n",
    "        if len(line) < 115: break\n",
    "            \n",
    "        for i in range(19):\n",
    "            \n",
    "            # 6 bit character\n",
    "            start = i*6\n",
    "            end = (i+1)*6\n",
    "            \n",
    "            # handle white space\n",
    "            if line[start:end] == \"100000\":\n",
    "                credit_card_number.append(\"-\")\n",
    "            # conversion 6 bit to integer between 0 and 9\n",
    "            else:\n",
    "                binary = line[start+2:end]\n",
    "                integer = int(binary, 2)\n",
    "                credit_card_number.append(integer)\n",
    "                \n",
    "        print(''.join(str(e) for e in credit_card_number))\n",
    "        \n",
    "        credit_card_number = []\n"
   ]
  },
  {
   "cell_type": "markdown",
   "metadata": {},
   "source": [
    "5\\. Load the file \"user_data.json\", filter the data by the \"CreditCardType\" field equals to \"American Express\". Than save the data a to CSV."
   ]
  },
  {
   "cell_type": "code",
   "execution_count": 4,
   "metadata": {},
   "outputs": [],
   "source": [
    "import json\n",
    "import csv\n",
    "\n",
    "data = json.load(open(\"user_data.json\"))\n",
    "    \n",
    "with open(\"user_data_filtered.csv\", 'w') as f:\n",
    "    \n",
    "    writer = csv.writer(f)\n",
    "    \n",
    "    header = data[0].keys()\n",
    "    writer.writerow(header)\n",
    "    \n",
    "    for user in data:\n",
    "        if user['CreditCardType'] == 'American Express':\n",
    "            writer.writerow(user.values())"
   ]
  },
  {
   "cell_type": "markdown",
   "metadata": {},
   "source": [
    "6\\. Load the file from this url: [https://www.dropbox.com/s/7u3lm737ogbqsg8/mushrooms_categorized.csv?dl=1](https://www.dropbox.com/s/7u3lm737ogbqsg8/mushrooms_categorized.csv?dl=1) with Pandas. \n",
    "+ Explore the data (see the info of the data)\n",
    "+ Draw the istogram of the 'class' field. Decribe wath yuou see\n"
   ]
  },
  {
   "cell_type": "markdown",
   "metadata": {},
   "source": [
    "7\\. Load the remote file [https://www.dropbox.com/s/vkl89yce7xjdq4n/regression_generated.csv?dl=1](https://www.dropbox.com/s/vkl89yce7xjdq4n/regression_generated.csv?dl=1) with Pandas and plot a scatter plot all possible combination of the following fields:\n",
    "    \n",
    "  + features_1\n",
    "  + features_2\n",
    "  + features_3"
   ]
  },
  {
   "cell_type": "markdown",
   "metadata": {},
   "source": [
    "8\\. Load the same file of point 6, and convert the file to json with Pandas."
   ]
  }
 ],
 "metadata": {
  "kernelspec": {
   "display_name": "Python 3 (ipykernel)",
   "language": "python",
   "name": "python3"
  },
  "language_info": {
   "codemirror_mode": {
    "name": "ipython",
    "version": 3
   },
   "file_extension": ".py",
   "mimetype": "text/x-python",
   "name": "python",
   "nbconvert_exporter": "python",
   "pygments_lexer": "ipython3",
   "version": "3.8.8"
  }
 },
 "nbformat": 4,
 "nbformat_minor": 2
}
