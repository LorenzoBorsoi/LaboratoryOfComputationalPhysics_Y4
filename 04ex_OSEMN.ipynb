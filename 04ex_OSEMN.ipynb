{
 "cells": [
  {
   "cell_type": "markdown",
   "metadata": {},
   "source": [
    "# OSEMN Exercises"
   ]
  },
  {
   "cell_type": "code",
   "execution_count": 1,
   "metadata": {},
   "outputs": [],
   "source": [
    "%matplotlib inline\n",
    "import pandas as pd\n",
    "import numpy as np"
   ]
  },
  {
   "cell_type": "markdown",
   "metadata": {},
   "source": [
    "1\\. Create a random list of number and then save it to a text file named \"simple_data.txt\""
   ]
  },
  {
   "cell_type": "code",
   "execution_count": 2,
   "metadata": {},
   "outputs": [
    {
     "name": "stdout",
     "output_type": "stream",
     "text": [
      "[0.08688977 0.85557706 0.14448285 0.12541817 0.05961    0.61969883\n",
      " 0.14600167 0.23450054 0.71340266 0.81718825 0.28051299 0.05694001\n",
      " 0.48439347 0.91181326 0.58031322 0.7303665  0.97977535 0.61950402\n",
      " 0.45623726 0.59550859 0.2170497  0.348253   0.99844964 0.99143992\n",
      " 0.58594727]\n"
     ]
    }
   ],
   "source": [
    "simple=np.random.rand(25)\n",
    "print(simple)\n",
    "\n",
    "np.savetxt(\"simple_data.txt\", simple, delimiter=\" \")"
   ]
  },
  {
   "cell_type": "markdown",
   "metadata": {},
   "source": [
    "2\\. Create a random matrix of 5x5 and then save it to a text file named \"data.txt\""
   ]
  },
  {
   "cell_type": "code",
   "execution_count": 3,
   "metadata": {},
   "outputs": [
    {
     "name": "stdout",
     "output_type": "stream",
     "text": [
      "[[0.08688977 0.85557706 0.14448285 0.12541817 0.05961   ]\n",
      " [0.61969883 0.14600167 0.23450054 0.71340266 0.81718825]\n",
      " [0.28051299 0.05694001 0.48439347 0.91181326 0.58031322]\n",
      " [0.7303665  0.97977535 0.61950402 0.45623726 0.59550859]\n",
      " [0.2170497  0.348253   0.99844964 0.99143992 0.58594727]]\n"
     ]
    }
   ],
   "source": [
    "simple_m=simple.reshape((5,5))\n",
    "print(simple_m)\n",
    "\n",
    "np.savetxt(\"data.txt\", simple_m, delimiter=\" \")"
   ]
  },
  {
   "cell_type": "markdown",
   "metadata": {},
   "source": [
    "3\\. Load the saved txt file of point 2 and convert it to a csv file (by hand)"
   ]
  },
  {
   "cell_type": "code",
   "execution_count": 4,
   "metadata": {},
   "outputs": [],
   "source": [
    "import csv\n",
    "\n",
    "with open('data.txt') as fin, open('data.csv', 'w') as fout:\n",
    "    o=csv.writer(fout)\n",
    "    for line in fin:\n",
    "        o.writerow(line.split())\n"
   ]
  },
  {
   "cell_type": "code",
   "execution_count": 12,
   "metadata": {},
   "outputs": [
    {
     "name": "stdout",
     "output_type": "stream",
     "text": [
      "8.688977149033594305e-02,8.555770567317307895e-01,1.444828544279418425e-01,1.254181723937707327e-01,5.960999749477724485e-02\n",
      "6.196988317557997616e-01,1.460016714621030776e-01,2.345005412408234235e-01,7.134026645584605753e-01,8.171882543064338256e-01\n",
      "2.805129910112872382e-01,5.694000674809385210e-02,4.843934725742046199e-01,9.118132635398908947e-01,5.803132228380313284e-01\n",
      "7.303665033169827181e-01,9.797753531701380858e-01,6.195040162746645596e-01,4.562372636311795571e-01,5.955085934057937624e-01\n",
      "2.170497041071095534e-01,3.482529967035136176e-01,9.984496398372456616e-01,9.914399232758969172e-01,5.859472699389897121e-01\n"
     ]
    }
   ],
   "source": [
    "with open('data.csv', newline='') as csvfile:\n",
    "        filereader = csv.reader(csvfile, delimiter=' ', quotechar='|')\n",
    "        for row in filereader:\n",
    "            print(', '.join(row))"
   ]
  },
  {
   "cell_type": "markdown",
   "metadata": {},
   "source": [
    "4\\. load the binary file named *credit_card.dat* and convert the data into the real credit-card number.\n",
    "Each line correspond to a credit card number.\n",
    "Each character is composed by 6 bit (even the space) and the last 4 bit are just a padding\n",
    "\n",
    "**hint**: use the `chr()` function to convert a number to a char"
   ]
  },
  {
   "cell_type": "code",
   "execution_count": 55,
   "metadata": {},
   "outputs": [
    {
     "name": "stdout",
     "output_type": "stream",
     "text": [
      "7648 5673 3775 2271\n",
      "3257 8247 3354 2266\n",
      "2722 0001 4011 6652\n",
      "0661 3063 3742 3150\n",
      "0432 1608 1462 4742\n",
      "5827 2027 8785 7303\n",
      "5774 8528 2087 1117\n",
      "8140 1210 6352 2845\n",
      "5764 1133 7301 7100\n",
      "6456 1737 4126 6726\n",
      "1228 8631 7382 0000\n",
      "7051 0160 5374 3166\n",
      "0618 3587 1630 6376\n",
      "1545 5454 7444 5636\n",
      "6735 3116 3202 6834\n",
      "7287 5011 1547 8413\n",
      "7033 2607 3328 4200\n",
      "2568 5244 1874 5024\n",
      "1684 2253 7570 7118\n",
      "0672 2576 0575 6631\n",
      "6332 8353 8787 1340\n",
      "1813 3361 1175 4211\n",
      "2477 6450 8840 2368\n",
      "5512 3505 2563 1326\n",
      "3083 7882 0621 0025\n",
      "4521 5148 8045 0334\n",
      "7563 3654 8713 5787\n",
      "8324 2664 0476 5561\n",
      "0565 2504 7168 3510\n",
      "5107 5507 1767 0738\n",
      "2462 1821 2448 1443\n",
      "2788 0638 6861 6554\n",
      "5851 5873 5474 0547\n",
      "0670 1004 4013 2655\n",
      "5874 5506 3048 0806\n",
      "2805 5401 8462 1260\n",
      "5083 8406 6310 1862\n",
      "1076 1445 3013 2266\n",
      "8440 4804 4844 5277\n",
      "4758 6141 0686 1387\n",
      "7586 0675 0315 2568\n",
      "2544 1258 7432 5165\n",
      "3474 5023 4434 5626\n",
      "1410 0270 0434 5086\n",
      "7315 4446 1104 4215\n",
      "0224 7742 8300 0266\n",
      "0170 2700 3145 0640\n",
      "2006 2437 8054 1600\n",
      "8142 4055 1776 0026\n",
      "3026 7380 1241 1084\n",
      "\n"
     ]
    }
   ],
   "source": [
    "def converter(line,n_bit,n_padding):\n",
    "    #pop out non-number elements \n",
    "    line.pop(0)\n",
    "    line.pop(0)\n",
    "    #pop out non-number elements \n",
    "    for i in range(0,n_padding,1):\n",
    "        line.pop()\n",
    "        \n",
    "    size = len(line)\n",
    "    n_char = size/n_bit\n",
    "    \n",
    "    card_number = ''\n",
    "    \n",
    "    for i in range(0,int(n_char),1):\n",
    "        number = 0\n",
    "        for n in range(0,n_bit,1):                          #6 bit binary conversion\n",
    "            number = number + int(line[i*n_bit+n])*2**(5-n)\n",
    "        card_number += chr(number)                          #char conversion\n",
    "    return card_number\n",
    "\n",
    "\n",
    "lines = []\n",
    "\n",
    "with  open('credit_card.dat','rb') as file:\n",
    "    for line in file:\n",
    "        lines.append(list(str(line)))\n",
    "        \n",
    "for i in lines:\n",
    "    print(converter(i,6,4))"
   ]
  },
  {
   "cell_type": "markdown",
   "metadata": {},
   "source": [
    "### 5\\. Load the file \"user_data.json\", filter the data by the \"CreditCardType\" field equals to \"American Express\". Than save the data a to CSV."
   ]
  },
  {
   "cell_type": "markdown",
   "metadata": {},
   "source": [
    "6\\. Load the file from this url: [https://www.dropbox.com/s/7u3lm737ogbqsg8/mushrooms_categorized.csv?dl=1](https://www.dropbox.com/s/7u3lm737ogbqsg8/mushrooms_categorized.csv?dl=1) with Pandas. \n",
    "+ Explore the data (see the info of the data)\n",
    "+ Draw the istogram of the 'class' field. Decribe wath yuou see\n"
   ]
  },
  {
   "cell_type": "markdown",
   "metadata": {},
   "source": [
    "7\\. Load the remote file [https://www.dropbox.com/s/vkl89yce7xjdq4n/regression_generated.csv?dl=1](https://www.dropbox.com/s/vkl89yce7xjdq4n/regression_generated.csv?dl=1) with Pandas and plot a scatter plot all possible combination of the following fields:\n",
    "    \n",
    "  + features_1\n",
    "  + features_2\n",
    "  + features_3"
   ]
  },
  {
   "cell_type": "markdown",
   "metadata": {},
   "source": [
    "8\\. Load the same file of point 6, and convert the file to json with Pandas."
   ]
  }
 ],
 "metadata": {
  "kernelspec": {
   "display_name": "Python 3.8.8 64-bit ('base': conda)",
   "language": "python",
   "name": "python388jvsc74a57bd05f4ec2f5fd34301ffb2e0e1d748520197203916c830841b9296b8d92d0741aa3"
  },
  "language_info": {
   "codemirror_mode": {
    "name": "ipython",
    "version": 3
   },
   "file_extension": ".py",
   "mimetype": "text/x-python",
   "name": "python",
   "nbconvert_exporter": "python",
   "pygments_lexer": "ipython3",
   "version": "3.8.8"
  }
 },
 "nbformat": 4,
 "nbformat_minor": 2
}
