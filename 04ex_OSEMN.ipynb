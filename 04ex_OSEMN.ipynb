{
 "cells": [
  {
   "cell_type": "markdown",
   "metadata": {},
   "source": [
    "# OSEMN Exercises"
   ]
  },
  {
   "cell_type": "code",
   "execution_count": 1,
   "metadata": {},
   "outputs": [],
   "source": [
    "%matplotlib inline\n",
    "import pandas as pd\n",
    "import numpy as np\n",
    "import csv\n",
    "import json\n",
    "from collections import OrderedDict #To maintain key value pair order\n",
    "import itertools\n",
    "import matplotlib.pyplot as plt"
   ]
  },
  {
   "cell_type": "markdown",
   "metadata": {},
   "source": [
    "1\\. Create a random list of number and then save it to a text file named \"simple_data.txt\""
   ]
  },
  {
   "cell_type": "code",
   "execution_count": 2,
   "metadata": {},
   "outputs": [
    {
     "name": "stdout",
     "output_type": "stream",
     "text": [
      "[0.03954992 0.58125758 0.77824625 0.23701563 0.41878923 0.12285505\n",
      " 0.95753857 0.78058309 0.22272382 0.24474279 0.44449032 0.34195455\n",
      " 0.28528266 0.7422103  0.91228544 0.03804462 0.81916353 0.67079432\n",
      " 0.90429764 0.8959653  0.81372646 0.61930282 0.08760171 0.15001748\n",
      " 0.95412956 0.06017506 0.98647093 0.3009057  0.12691438 0.67083773\n",
      " 0.03416882 0.08499535 0.81391164 0.5288055  0.22402438 0.3059276\n",
      " 0.10738706 0.8937512  0.85794281 0.55178941 0.51896062 0.27602926\n",
      " 0.29452462 0.1519986  0.29509576 0.653638   0.68009957 0.73168507\n",
      " 0.55927244 0.89656937 0.97817235 0.02458886 0.6302268  0.69824685\n",
      " 0.26065703 0.60309796 0.53340125 0.55221819 0.42758887 0.96399038\n",
      " 0.88258697 0.3426104  0.07031809 0.66058137 0.62067586 0.20003735\n",
      " 0.90297378 0.45839897 0.1446724  0.99853967 0.21597672 0.84523117\n",
      " 0.3125524  0.517548   0.20575433 0.28770357 0.18076682 0.44737974\n",
      " 0.05966015 0.087093   0.65533218 0.95662599 0.44328457 0.46812365\n",
      " 0.6480378  0.46018718 0.41737694 0.80994057 0.12481447 0.06287086\n",
      " 0.73490036 0.19590339 0.32054672 0.17744099 0.92592566 0.34250178\n",
      " 0.12613246 0.68470524 0.82916307 0.30261212]\n"
     ]
    }
   ],
   "source": [
    "file_name = \"simple_data.txt\"\n",
    "rand = np.random.rand(100)\n",
    "print(rand)\n",
    "\n",
    "with open(file_name, mode = \"w\") as f:\n",
    "    for i in rand:\n",
    "        f.write(str(i) + \"\\n\")"
   ]
  },
  {
   "cell_type": "markdown",
   "metadata": {},
   "source": [
    "2\\. Create a random matrix of 5x5 and then save it to a text file named \"data.txt\""
   ]
  },
  {
   "cell_type": "code",
   "execution_count": 3,
   "metadata": {},
   "outputs": [
    {
     "name": "stdout",
     "output_type": "stream",
     "text": [
      "[[0.35143874 0.5496121  0.28449197 0.67610112 0.93098708]\n",
      " [0.72265387 0.07180562 0.08204411 0.06779844 0.74788843]\n",
      " [0.99200784 0.93254308 0.24146874 0.537743   0.71208291]\n",
      " [0.30142363 0.0067543  0.47489927 0.60472842 0.99607139]\n",
      " [0.86832164 0.22109044 0.11600225 0.94949537 0.70521308]]\n"
     ]
    }
   ],
   "source": [
    "file_n = \"data.txt\"\n",
    "matrix = np.random.random(size = (5,5))\n",
    "print(matrix)\n",
    "\n",
    "np.savetxt(file_n, matrix, fmt = \"%f\")"
   ]
  },
  {
   "cell_type": "markdown",
   "metadata": {},
   "source": [
    "3\\. Load the saved txt file of point 2 and convert it to a csv file (by hand)"
   ]
  },
  {
   "cell_type": "code",
   "execution_count": 4,
   "metadata": {},
   "outputs": [
    {
     "name": "stdout",
     "output_type": "stream",
     "text": [
      "['0.351439 0.549612 0.284492 0.676101 0.930987']\n",
      "['0.722654 0.071806 0.082044 0.067798 0.747888']\n",
      "['0.992008 0.932543 0.241469 0.537743 0.712083']\n",
      "['0.301424 0.006754 0.474899 0.604728 0.996071']\n",
      "['0.868322 0.221090 0.116002 0.949495 0.705213']\n"
     ]
    }
   ],
   "source": [
    "nfile_txt = \"data.txt\"\n",
    "nfile_csv = \"data.csv\"\n",
    "\n",
    "with open(nfile_txt, mode = \"r\") as nf_txt:\n",
    "    datas = [line.strip() for line in nf_txt]\n",
    "    lines = [line.split(\",\") for line in datas if line]\n",
    "    with open(nfile_csv, mode = \"w\") as nf_csv:\n",
    "        writer = csv.writer(nf_csv)\n",
    "        writer.writerows(lines)\n",
    "\n",
    "with open(\"data.csv\") as data_file:\n",
    "    for line in csv.reader(data_file, delimiter = \",\"):\n",
    "        print (line)\n",
    "        #break"
   ]
  },
  {
   "cell_type": "markdown",
   "metadata": {},
   "source": [
    "4\\. load the binary file named *credit_card.dat* and convert the data into the real credit-card number.\n",
    "Each line correspond to a credit card number.\n",
    "Each character is composed by 6 bit (even the space) and the last 4 bit are just a padding\n",
    "\n",
    "**hint**: use the `chr()` function to convert a number to a char"
   ]
  },
  {
   "cell_type": "code",
   "execution_count": 63,
   "metadata": {},
   "outputs": [
    {
     "name": "stdout",
     "output_type": "stream",
     "text": [
      "7648 5673 3775 2271\u0001\n",
      "3257 8247 3354 2266\u0001\n",
      "2722 0001 4011 6652\u0001\n",
      "0661 3063 3742 3150\u0001\n",
      "0432 1608 1462 4742\u0001\n",
      "5827 2027 8785 7303\u0001\n",
      "5774 8528 2087 1117\u0001\n",
      "8140 1210 6352 2845\u0001\n",
      "5764 1133 7301 7100\u0001\n",
      "6456 1737 4126 6726\u0001\n",
      "1228 8631 7382 0000\u0001\n",
      "7051 0160 5374 3166\u0001\n",
      "0618 3587 1630 6376\u0001\n",
      "1545 5454 7444 5636\u0001\n",
      "6735 3116 3202 6834\u0001\n",
      "7287 5011 1547 8413\u0001\n",
      "7033 2607 3328 4200\u0001\n",
      "2568 5244 1874 5024\u0001\n",
      "1684 2253 7570 7118\u0001\n",
      "0672 2576 0575 6631\u0001\n",
      "6332 8353 8787 1340\u0001\n",
      "1813 3361 1175 4211\u0001\n",
      "2477 6450 8840 2368\u0001\n",
      "5512 3505 2563 1326\u0001\n",
      "3083 7882 0621 0025\u0001\n",
      "4521 5148 8045 0334\u0001\n",
      "7563 3654 8713 5787\u0001\n",
      "8324 2664 0476 5561\u0001\n",
      "0565 2504 7168 3510\u0001\n",
      "5107 5507 1767 0738\u0001\n",
      "2462 1821 2448 1443\u0001\n",
      "2788 0638 6861 6554\u0001\n",
      "5851 5873 5474 0547\u0001\n",
      "0670 1004 4013 2655\u0001\n",
      "5874 5506 3048 0806\u0001\n",
      "2805 5401 8462 1260\u0001\n",
      "5083 8406 6310 1862\u0001\n",
      "1076 1445 3013 2266\u0001\n",
      "8440 4804 4844 5277\u0001\n",
      "4758 6141 0686 1387\u0001\n",
      "7586 0675 0315 2568\u0001\n",
      "2544 1258 7432 5165\u0001\n",
      "3474 5023 4434 5626\u0001\n",
      "1410 0270 0434 5086\u0001\n",
      "7315 4446 1104 4215\u0001\n",
      "0224 7742 8300 0266\u0001\n",
      "0170 2700 3145 0640\u0001\n",
      "2006 2437 8054 1600\u0001\n",
      "8142 4055 1776 0026\u0001\n",
      "3026 7380 1241 1084\u0001\n",
      "\u0001\n",
      "\n"
     ]
    }
   ],
   "source": [
    "filen = \"credit_card.dat\"\n",
    "word_size = 6\n",
    "\n",
    "\n",
    "with open(filen, \"rb\") as f:\n",
    "    for line in f:\n",
    "        ch = \"\"\n",
    "        new_line = line[:-4]\n",
    "        for i in range(0, len(new_line), word_size):\n",
    "            conv = chr(int(new_line[i:i + word_size], 2))\n",
    "            ch += conv\n",
    "        print(ch)\n"
   ]
  },
  {
   "cell_type": "markdown",
   "metadata": {},
   "source": [
    "5\\. Load the file \"user_data.json\", filter the data by the \"CreditCardType\" field equals to \"American Express\". Than save the data a to CSV."
   ]
  },
  {
   "cell_type": "code",
   "execution_count": 73,
   "metadata": {},
   "outputs": [],
   "source": [
    "data = json.loads(open(\"user_data.json\", \"r\").read(), object_pairs_hook = OrderedDict)\n",
    "\n",
    "newdata = [d for d in data if d[\"CreditCardType\"] == \"American Express\"]\n",
    "\n",
    "with open(\"user_data.csv\", \"w\") as f:\n",
    "    writer = csv.writer(f)\n",
    "    writer.writerow(newdata[0].keys()) # header row\n",
    "    for row in newdata:\n",
    "        writer.writerow(row.values())\n"
   ]
  },
  {
   "cell_type": "markdown",
   "metadata": {},
   "source": [
    "6\\. Load the file from this url: [https://www.dropbox.com/s/7u3lm737ogbqsg8/mushrooms_categorized.csv?dl=1](https://www.dropbox.com/s/7u3lm737ogbqsg8/mushrooms_categorized.csv?dl=1) with Pandas. \n",
    "+ Explore the data (see the info of the data)\n",
    "+ Draw the istogram of the 'class' field. Decribe wath yuou see\n"
   ]
  },
  {
   "cell_type": "code",
   "execution_count": 3,
   "metadata": {},
   "outputs": [
    {
     "data": {
      "text/plain": [
       "array([[<AxesSubplot:title={'center':'class'}>]], dtype=object)"
      ]
     },
     "execution_count": 3,
     "metadata": {},
     "output_type": "execute_result"
    },
    {
     "data": {
      "text/plain": [
       "<Figure size 864x432 with 0 Axes>"
      ]
     },
     "metadata": {},
     "output_type": "display_data"
    },
    {
     "data": {
      "image/png": "[encoded data removed]",
      "text/plain": [
       "<Figure size 432x288 with 1 Axes>"
      ]
     },
     "metadata": {
      "needs_background": "light"
     },
     "output_type": "display_data"
    }
   ],
   "source": [
    "#! wget https://www.dropbox.com/s/7u3lm737ogbqsg8/mushrooms_categorized.csv?dl=1 -P /home/...\n",
    "#!cat\n",
    "#file_name = \"mushrooms_categorized.csv\"\n",
    "url_mushrooms = \"https://www.dropbox.com/s/7u3lm737ogbqsg8/mushrooms_categorized.csv?dl=1\"\n",
    "data = pd.read_csv(url_mushrooms)\n",
    "data\n",
    "\n",
    "data.hist(column = \"class\")"
   ]
  },
  {
   "cell_type": "markdown",
   "metadata": {},
   "source": [
    "**comment** There are only two classes and the histogam shows that the number of mushrooms corresponding to each class is approximately the same."
   ]
  },
  {
   "cell_type": "markdown",
   "metadata": {},
   "source": [
    "7\\. Load the remote file [https://www.dropbox.com/s/vkl89yce7xjdq4n/regression_generated.csv?dl=1](https://www.dropbox.com/s/vkl89yce7xjdq4n/regression_generated.csv?dl=1) with Pandas and plot a scatter plot all possible combination of the following fields:\n",
    "    \n",
    "  + features_1\n",
    "  + features_2\n",
    "  + features_3"
   ]
  },
  {
   "cell_type": "code",
   "execution_count": 121,
   "metadata": {},
   "outputs": [
    {
     "name": "stdout",
     "output_type": "stream",
     "text": [
      "Index(['label', 'features_1', 'features_2', 'features_3', 'features_4',\n",
      "       'features_5', 'features_6', 'features_7', 'features_8', 'features_9',\n",
      "       'features_10', 'features_11', 'features_12', 'features_13',\n",
      "       'features_14', 'features_15', 'features_16', 'features_17',\n",
      "       'features_18', 'features_19', 'features_20'],\n",
      "      dtype='object')\n"
     ]
    },
    {
     "data": {
      "image/png": "[encoded data removed]",
      "text/plain": [
       "<Figure size 432x288 with 1 Axes>"
      ]
     },
     "metadata": {
      "needs_background": "light"
     },
     "output_type": "display_data"
    },
    {
     "data": {
      "image/png": "[encoded data removed]",
      "text/plain": [
       "<Figure size 432x288 with 1 Axes>"
      ]
     },
     "metadata": {
      "needs_background": "light"
     },
     "output_type": "display_data"
    },
    {
     "data": {
      "image/png": "[encoded data removed]",
      "text/plain": [
       "<Figure size 432x288 with 1 Axes>"
      ]
     },
     "metadata": {
      "needs_background": "light"
     },
     "output_type": "display_data"
    }
   ],
   "source": [
    "def plotdata (data, f1, f2):\n",
    "    plt.scatter(data[f1], data[f2])\n",
    "    plt.xlabel(f1)\n",
    "    plt.ylabel(f2)\n",
    "    plt.show()\n",
    "\n",
    "#!wget  https://www.dropbox.com/s/vkl89yce7xjdq4n/regression_generated.csv?dl=1 -P /home/...\n",
    "url_regression = \"https://www.dropbox.com/s/vkl89yce7xjdq4n/regression_generated.csv?dl=1\"\n",
    "data = pd.read_csv(url_regression)\n",
    "\n",
    "header = data.columns\n",
    "print(header)\n",
    "features_list = [header[1], header[2], header[3]]\n",
    "\n",
    "for pair in itertools.combinations((0, 1, 2), 2):\n",
    "    plotdata(data, features_list[pair[0]], features_list[pair[1]])"
   ]
  },
  {
   "cell_type": "markdown",
   "metadata": {},
   "source": [
    "8\\. Load the same file of point 6, and convert the file to json with Pandas."
   ]
  },
  {
   "cell_type": "code",
   "execution_count": 123,
   "metadata": {},
   "outputs": [
    {
     "data": {
      "text/html": [
       "<div>\n",
       "<style scoped>\n",
       "    .dataframe tbody tr th:only-of-type {\n",
       "        vertical-align: middle;\n",
       "    }\n",
       "\n",
       "    .dataframe tbody tr th {\n",
       "        vertical-align: top;\n",
       "    }\n",
       "\n",
       "    .dataframe thead th {\n",
       "        text-align: right;\n",
       "    }\n",
       "</style>\n",
       "<table border=\"1\" class=\"dataframe\">\n",
       "  <thead>\n",
       "    <tr style=\"text-align: right;\">\n",
       "      <th></th>\n",
       "      <th>class</th>\n",
       "      <th>cap-shape</th>\n",
       "      <th>cap-surface</th>\n",
       "      <th>cap-color</th>\n",
       "      <th>bruises</th>\n",
       "      <th>odor</th>\n",
       "      <th>gill-attachment</th>\n",
       "      <th>gill-spacing</th>\n",
       "      <th>gill-size</th>\n",
       "      <th>gill-color</th>\n",
       "      <th>...</th>\n",
       "      <th>stalk-surface-below-ring</th>\n",
       "      <th>stalk-color-above-ring</th>\n",
       "      <th>stalk-color-below-ring</th>\n",
       "      <th>veil-type</th>\n",
       "      <th>veil-color</th>\n",
       "      <th>ring-number</th>\n",
       "      <th>ring-type</th>\n",
       "      <th>spore-print-color</th>\n",
       "      <th>population</th>\n",
       "      <th>habitat</th>\n",
       "    </tr>\n",
       "  </thead>\n",
       "  <tbody>\n",
       "    <tr>\n",
       "      <td>0</td>\n",
       "      <td>1</td>\n",
       "      <td>5</td>\n",
       "      <td>2</td>\n",
       "      <td>4</td>\n",
       "      <td>1</td>\n",
       "      <td>6</td>\n",
       "      <td>1</td>\n",
       "      <td>0</td>\n",
       "      <td>1</td>\n",
       "      <td>4</td>\n",
       "      <td>...</td>\n",
       "      <td>2</td>\n",
       "      <td>7</td>\n",
       "      <td>7</td>\n",
       "      <td>0</td>\n",
       "      <td>2</td>\n",
       "      <td>1</td>\n",
       "      <td>4</td>\n",
       "      <td>2</td>\n",
       "      <td>3</td>\n",
       "      <td>5</td>\n",
       "    </tr>\n",
       "    <tr>\n",
       "      <td>1</td>\n",
       "      <td>0</td>\n",
       "      <td>5</td>\n",
       "      <td>2</td>\n",
       "      <td>9</td>\n",
       "      <td>1</td>\n",
       "      <td>0</td>\n",
       "      <td>1</td>\n",
       "      <td>0</td>\n",
       "      <td>0</td>\n",
       "      <td>4</td>\n",
       "      <td>...</td>\n",
       "      <td>2</td>\n",
       "      <td>7</td>\n",
       "      <td>7</td>\n",
       "      <td>0</td>\n",
       "      <td>2</td>\n",
       "      <td>1</td>\n",
       "      <td>4</td>\n",
       "      <td>3</td>\n",
       "      <td>2</td>\n",
       "      <td>1</td>\n",
       "    </tr>\n",
       "    <tr>\n",
       "      <td>2</td>\n",
       "      <td>0</td>\n",
       "      <td>0</td>\n",
       "      <td>2</td>\n",
       "      <td>8</td>\n",
       "      <td>1</td>\n",
       "      <td>3</td>\n",
       "      <td>1</td>\n",
       "      <td>0</td>\n",
       "      <td>0</td>\n",
       "      <td>5</td>\n",
       "      <td>...</td>\n",
       "      <td>2</td>\n",
       "      <td>7</td>\n",
       "      <td>7</td>\n",
       "      <td>0</td>\n",
       "      <td>2</td>\n",
       "      <td>1</td>\n",
       "      <td>4</td>\n",
       "      <td>3</td>\n",
       "      <td>2</td>\n",
       "      <td>3</td>\n",
       "    </tr>\n",
       "    <tr>\n",
       "      <td>3</td>\n",
       "      <td>1</td>\n",
       "      <td>5</td>\n",
       "      <td>3</td>\n",
       "      <td>8</td>\n",
       "      <td>1</td>\n",
       "      <td>6</td>\n",
       "      <td>1</td>\n",
       "      <td>0</td>\n",
       "      <td>1</td>\n",
       "      <td>5</td>\n",
       "      <td>...</td>\n",
       "      <td>2</td>\n",
       "      <td>7</td>\n",
       "      <td>7</td>\n",
       "      <td>0</td>\n",
       "      <td>2</td>\n",
       "      <td>1</td>\n",
       "      <td>4</td>\n",
       "      <td>2</td>\n",
       "      <td>3</td>\n",
       "      <td>5</td>\n",
       "    </tr>\n",
       "    <tr>\n",
       "      <td>4</td>\n",
       "      <td>0</td>\n",
       "      <td>5</td>\n",
       "      <td>2</td>\n",
       "      <td>3</td>\n",
       "      <td>0</td>\n",
       "      <td>5</td>\n",
       "      <td>1</td>\n",
       "      <td>1</td>\n",
       "      <td>0</td>\n",
       "      <td>4</td>\n",
       "      <td>...</td>\n",
       "      <td>2</td>\n",
       "      <td>7</td>\n",
       "      <td>7</td>\n",
       "      <td>0</td>\n",
       "      <td>2</td>\n",
       "      <td>1</td>\n",
       "      <td>0</td>\n",
       "      <td>3</td>\n",
       "      <td>0</td>\n",
       "      <td>1</td>\n",
       "    </tr>\n",
       "  </tbody>\n",
       "</table>\n",
       "<p>5 rows × 23 columns</p>\n",
       "</div>"
      ],
      "text/plain": [
       "   class  cap-shape  cap-surface  cap-color  bruises  odor  gill-attachment  \\\n",
       "0      1          5            2          4        1     6                1   \n",
       "1      0          5            2          9        1     0                1   \n",
       "2      0          0            2          8        1     3                1   \n",
       "3      1          5            3          8        1     6                1   \n",
       "4      0          5            2          3        0     5                1   \n",
       "\n",
       "   gill-spacing  gill-size  gill-color  ...  stalk-surface-below-ring  \\\n",
       "0             0          1           4  ...                         2   \n",
       "1             0          0           4  ...                         2   \n",
       "2             0          0           5  ...                         2   \n",
       "3             0          1           5  ...                         2   \n",
       "4             1          0           4  ...                         2   \n",
       "\n",
       "   stalk-color-above-ring  stalk-color-below-ring  veil-type  veil-color  \\\n",
       "0                       7                       7          0           2   \n",
       "1                       7                       7          0           2   \n",
       "2                       7                       7          0           2   \n",
       "3                       7                       7          0           2   \n",
       "4                       7                       7          0           2   \n",
       "\n",
       "   ring-number  ring-type  spore-print-color  population  habitat  \n",
       "0            1          4                  2           3        5  \n",
       "1            1          4                  3           2        1  \n",
       "2            1          4                  3           2        3  \n",
       "3            1          4                  2           3        5  \n",
       "4            1          0                  3           0        1  \n",
       "\n",
       "[5 rows x 23 columns]"
      ]
     },
     "execution_count": 123,
     "metadata": {},
     "output_type": "execute_result"
    }
   ],
   "source": [
    "#file_name = \"mushrooms_categorized.csv\"\n",
    "url_mushrooms = \"https://www.dropbox.com/s/7u3lm737ogbqsg8/mushrooms_categorized.csv?dl=1\"\n",
    "data = pd.read_csv(url_mushrooms)\n",
    "data.to_json(\"mushrooms_categorized.json\")\n",
    "data.head()"
   ]
  },
  {
   "cell_type": "code",
   "execution_count": null,
   "metadata": {},
   "outputs": [],
   "source": []
  }
 ],
 "metadata": {
  "kernelspec": {
   "display_name": "Python 3",
   "language": "python",
   "name": "python3"
  },
  "language_info": {
   "codemirror_mode": {
    "name": "ipython",
    "version": 3
   },
   "file_extension": ".py",
   "mimetype": "text/x-python",
   "name": "python",
   "nbconvert_exporter": "python",
   "pygments_lexer": "ipython3",
   "version": "3.7.4"
  }
 },
 "nbformat": 4,
 "nbformat_minor": 2
}
