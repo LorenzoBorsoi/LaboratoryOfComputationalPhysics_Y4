{
 "cells": [
  {
   "cell_type": "markdown",
   "metadata": {},
   "source": [
    "## Exercises 02 - Carmen Martín Turrero"
   ]
  },
  {
   "cell_type": "markdown",
   "metadata": {},
   "source": [
    "1\\. Write a function that converts number representation (bin<->dec<->hex)"
   ]
  },
  {
   "cell_type": "code",
   "execution_count": 1,
   "metadata": {},
   "outputs": [],
   "source": [
    "def converter(number, numbertype):\n",
    "    '''\n",
    "    This function converts a given number into different representations (decimal, binary and/or hexadecimal)\n",
    "    Numbertype of the number given should be: decimal, binary or hexadecimal.\n",
    "    Binary numbers should have a first digit which function is defining the sign.\n",
    "    '''\n",
    "    # We define the different functions to convert numbers in different representations:\n",
    "\n",
    "    def dectohex(number):\n",
    "        h = []\n",
    "        if number < 0:\n",
    "            s = \"-\"\n",
    "            number = abs(number)\n",
    "        else:\n",
    "            s = \"+\"\n",
    "        while number%16 >= 1:\n",
    "            h.append(number%16)\n",
    "            number = number//16\n",
    "        h.append(s)\n",
    "        h.reverse()\n",
    "        h = ['A' if i == 10 else 'B' if i == 11 else 'C' if i==12 else 'D' if i==13 else 'E' if i==14 else 'F' if i==15 else i for i in h]\n",
    "        h = ''.join([str(it) for it in h])\n",
    "        return h\n",
    "\n",
    "    def hextodec(number):\n",
    "        d = 0\n",
    "        h = [x for x in str(number)]\n",
    "\n",
    "        #we check the sign of the number\n",
    "        if h[0] == \"-\":\n",
    "            s = -1\n",
    "            h.remove(h[0])\n",
    "        elif h[0]== \"+\":\n",
    "            s = 1\n",
    "            h.remove(h[0])\n",
    "        else:\n",
    "            s = 1\n",
    "\n",
    "        h = [10 if i == 'A' else 11 if i == 'B' else 12 if i == 'C' else 13 if i == 'D' else 14 if i == 'E' else 15 if i == 'F' else i for i in h]\n",
    "        h.reverse()\n",
    "        for i in range(len(h)):\n",
    "            d += 16**i*int(h[i])\n",
    "        return d\n",
    "\n",
    "    def dectobin(number):\n",
    "        b = []\n",
    "        if number < 0:\n",
    "            s = 1\n",
    "            number = abs(number)\n",
    "        else:\n",
    "            s = 0\n",
    "        while number//2 != 0:\n",
    "            b.append(number % 2)\n",
    "            number = number // 2\n",
    "        b.append(1)  # the last 1 is not included in the while, we have to add it\n",
    "        b.append(s)  # we add the digit of the sign\n",
    "        b.reverse()\n",
    "        b = ''.join([str(it) for it in b])\n",
    "        return b\n",
    "\n",
    "    def bintodec(number):\n",
    "        #The first digit of the binary number only defines the sign.\n",
    "        d = 0\n",
    "        b = [int(x) for x in str(number)]\n",
    "        b.reverse()\n",
    "        for i in range(len(b)-1):\n",
    "            d += 2**i*b[i]\n",
    "        d *= (-1)**b[len(b)-1]  #we calculate the sign with the first digit of the binary number\n",
    "        return d\n",
    "\n",
    "    #We combine them all to get the result of our function:\n",
    "    \n",
    "    if numbertype == 'decimal':\n",
    "        return \"Decimal = {}, Binary = {}, Hexadecimal = {}\".format(number, dectobin(number), dectohex(number))\n",
    "    elif numbertype == 'hexadecimal':\n",
    "        return \"Hexadecimal = {}, Binary = {}, Decimal = {}\".format(number, hextodec(dectobin(number)),hextodec(number))\n",
    "    elif numbertype == 'binary':\n",
    "        return \"Binary = {}, Decimal = {}, Hexadecimal = {}\".format(number, bintodec(number), dectohex(bintodec(number)))\n",
    "    else:\n",
    "        return \"This number representation is not supported.\""
   ]
  },
  {
   "cell_type": "code",
   "execution_count": 2,
   "metadata": {
    "pycharm": {
     "name": "#%%\n"
    }
   },
   "outputs": [
    {
     "name": "stdout",
     "output_type": "stream",
     "text": [
      "Binary = 11101, Decimal = -13, Hexadecimal = -D\n"
     ]
    }
   ],
   "source": [
    "print(converter('11101','binary'))"
   ]
  },
  {
   "cell_type": "markdown",
   "metadata": {},
   "source": [
    "2\\. Write a function that converts a 32 bit word into a single precision floating point (i.e. interprets the various bits as sign, mantissa and exponent)"
   ]
  },
  {
   "cell_type": "code",
   "execution_count": 3,
   "metadata": {
    "pycharm": {
     "name": "#%%\n"
    }
   },
   "outputs": [],
   "source": [
    "def bit32word_to_float(word):\n",
    "    \n",
    "    w = [int(x) for x in str(word)]\n",
    "\n",
    "    # we calculate the different parts depending on the bit position    \n",
    "    # sign\n",
    "    s = w[0]\n",
    "    \n",
    "    # exponent\n",
    "    bias = 127\n",
    "    e = ''.join([str(i) for i in w[1:9]])\n",
    "    e = int(e, 2)\n",
    "    \n",
    "    # mantissa\n",
    "    M = w[9:31]\n",
    "    f = 1\n",
    "    for i in range(len(M)):\n",
    "        f += M[i]*2**(-(i+1))\n",
    "        \n",
    "    # The complete number:\n",
    "    flo = ((-1)**s)*f*2**(e-bias)\n",
    "    return flo"
   ]
  },
  {
   "cell_type": "code",
   "execution_count": 4,
   "metadata": {
    "pycharm": {
     "name": "#%%\n"
    }
   },
   "outputs": [
    {
     "name": "stdout",
     "output_type": "stream",
     "text": [
      "-5.5\n"
     ]
    }
   ],
   "source": [
    "print(bit32word_to_float(\"11000000101100000000000000000000\"))"
   ]
  },
  {
   "cell_type": "markdown",
   "metadata": {
    "pycharm": {
     "name": "#%% md\n"
    }
   },
   "source": [
    "3\\. Write a program to determine the underflow and overflow limits (within a factor of 2) for python on your computer. \n",
    "\n",
    "**Tips**: define two variables inizialized to 1 and halve/double them enough time to exceed the under/over-flow limits  "
   ]
  },
  {
   "cell_type": "code",
   "execution_count": 5,
   "metadata": {
    "pycharm": {
     "name": "#%%\n"
    }
   },
   "outputs": [
    {
     "name": "stdout",
     "output_type": "stream",
     "text": [
      "Underflow: 5e-324\n"
     ]
    }
   ],
   "source": [
    "underflow = 1\n",
    "n = 0\n",
    "while underflow != 0.0:\n",
    "    u = underflow\n",
    "    underflow /= 2\n",
    "    n += 1\n",
    "\n",
    "print(\"Underflow:\",u)"
   ]
  },
  {
   "cell_type": "code",
   "execution_count": 6,
   "metadata": {
    "scrolled": true
   },
   "outputs": [
    {
     "name": "stdout",
     "output_type": "stream",
     "text": [
      "Overflow: 8.98846567431158e+307\n"
     ]
    }
   ],
   "source": [
    "overflow = 1\n",
    "n = 0\n",
    "while overflow != float('inf'):\n",
    "    o = overflow\n",
    "    overflow *= 2.\n",
    "    n += 1\n",
    "\n",
    "print(\"Overflow:\", o)"
   ]
  },
  {
   "cell_type": "markdown",
   "metadata": {},
   "source": [
    "4\\. Write a program to determine the machine precision\n",
    "\n",
    "**Tips**: define a new variable by adding a smaller and smaller value (proceeding similarly to prob. 2) to an original variable and check the point where the two are the same "
   ]
  },
  {
   "cell_type": "code",
   "execution_count": 7,
   "metadata": {
    "pycharm": {
     "name": "#%%\n"
    }
   },
   "outputs": [
    {
     "name": "stdout",
     "output_type": "stream",
     "text": [
      "The machine precision is 1.1102230246251565e-16\n"
     ]
    }
   ],
   "source": [
    "eps = 1\n",
    "q = 0\n",
    "while q != 1:\n",
    "    eps /= 2\n",
    "    q = 1 + eps\n",
    "print(\"The machine precision is\", eps)"
   ]
  },
  {
   "cell_type": "markdown",
   "metadata": {},
   "source": [
    "5\\. Write a function that takes in input three parameters $a$, $b$ and $c$ and prints out the two solutions to the quadratic equation $ax^2+bx+c=0$ using the standard formula:\n",
    "$$\n",
    "x=\\frac{-b\\pm\\sqrt{b^2-4ac}}{2a}\n",
    "$$"
   ]
  },
  {
   "cell_type": "code",
   "execution_count": 8,
   "metadata": {
    "pycharm": {
     "name": "#%%\n"
    }
   },
   "outputs": [],
   "source": [
    "def solve_quadratic(a,b,c):\n",
    "    # this function solves the quadratic equation a*x^2+b*x+c = 0\n",
    "    d = b**2-4*a*c\n",
    "    x1 = (-b+d**(1/2))/(2*a)\n",
    "    x2 = (-b-d**(1/2))/(2*a)\n",
    "    return x1, x2"
   ]
  },
  {
   "cell_type": "markdown",
   "metadata": {
    "pycharm": {
     "name": "#%% md\n"
    }
   },
   "source": [
    "(a) use the program to compute the solution for $a=0.001$, $b=1000$ and $c=0.001$"
   ]
  },
  {
   "cell_type": "code",
   "execution_count": 9,
   "metadata": {
    "pycharm": {
     "name": "#%%\n"
    }
   },
   "outputs": [
    {
     "name": "stdout",
     "output_type": "stream",
     "text": [
      "-9.999894245993346e-07 -999999.999999\n"
     ]
    }
   ],
   "source": [
    "x1, x2 = solve_quadratic(0.001,1000,0.001)\n",
    "print(x1,x2)"
   ]
  },
  {
   "cell_type": "markdown",
   "metadata": {
    "pycharm": {
     "name": "#%% md\n"
    }
   },
   "source": [
    "(b) re-express the standard solution formula by multiplying top and bottom by $-b\\mp\\sqrt{b^2-4ac}$ and again find the solution for $a=0.001$, $b=1000$ and $c=0.001$. How does it compare with what previously obtained? Why?"
   ]
  },
  {
   "cell_type": "code",
   "execution_count": 10,
   "metadata": {
    "pycharm": {
     "name": "#%%\n"
    }
   },
   "outputs": [
    {
     "name": "stdout",
     "output_type": "stream",
     "text": [
      "1.0000000000009999e-06 1000010.5755125057\n"
     ]
    }
   ],
   "source": [
    "def solve_quadratic_ad(a,b,c):\n",
    "    d = b**2-4*a*c\n",
    "    x1 = -(4*a*c)/(2*a*(-b-d**(1/2)))\n",
    "    x2 = -(4*a*c)/(2*a*(-b+d**(1/2)))\n",
    "    return x1, x2\n",
    "\n",
    "x1b, x2b = solve_quadratic_ad(0.001,1000,0.001)\n",
    "print(x1b,x2b)"
   ]
  },
  {
   "cell_type": "markdown",
   "metadata": {},
   "source": [
    "*Answer:* The reults for 5a and 5b are different due to the fact that the mantissa is represented by a limited amount of bits, therefore calculations can only make sense if an appropriate number of decimal digits is used. In this case, we are substracting a very big (b ** 2) and a very small number (a * c), operation that the computer cannot perform without giving back an error."
   ]
  },
  {
   "cell_type": "markdown",
   "metadata": {
    "pycharm": {
     "name": "#%% md\n"
    }
   },
   "source": [
    "(c) write a function that compute the roots of a quadratic equation accurately in all cases"
   ]
  },
  {
   "cell_type": "code",
   "execution_count": 11,
   "metadata": {
    "pycharm": {
     "name": "#%%\n"
    }
   },
   "outputs": [
    {
     "name": "stdout",
     "output_type": "stream",
     "text": [
      "-999999.999999 -1.000000000001e-06\n"
     ]
    }
   ],
   "source": [
    "from numpy import sign\n",
    "\n",
    "def solve_stable_quadratic(a,b,c):\n",
    "    x1 = (-b-sign(b)*(b**2-4*a*c)**(1/2))/(2*a)\n",
    "    x2 = c/(a*x1)\n",
    "    return x1, x2\n",
    "\n",
    "x1c, x2c = solve_stable_quadratic(0.001,1000,0.001)\n",
    "print(x1c,x2c)"
   ]
  },
  {
   "cell_type": "markdown",
   "metadata": {},
   "source": [
    "6\\. Write a program that implements the function $f(x)=x(x−1)$"
   ]
  },
  {
   "cell_type": "code",
   "execution_count": 12,
   "metadata": {
    "pycharm": {
     "name": "#%%\n"
    }
   },
   "outputs": [],
   "source": [
    "def f(x):\n",
    "    y = x*(x-1)\n",
    "    return y"
   ]
  },
  {
   "cell_type": "markdown",
   "metadata": {
    "pycharm": {
     "name": "#%% md\n"
    }
   },
   "source": [
    "(a) Calculate the derivative of the function at the point $x = 1$ using the derivative definition:\n",
    "\n",
    "$$\n",
    "\\frac{{\\rm d}f}{{\\rm d}x} = \\lim_{\\delta\\to0} \\frac{f(x+\\delta)-f(x)}{\\delta}\n",
    "$$\n",
    "\n",
    "with $\\delta = 10^{−2}$. Calculate the true value of the same derivative analytically and compare with the answer your program gives. The two will not agree perfectly. Why not?"
   ]
  },
  {
   "cell_type": "code",
   "execution_count": 13,
   "metadata": {
    "pycharm": {
     "name": "#%%\n"
    }
   },
   "outputs": [
    {
     "name": "stdout",
     "output_type": "stream",
     "text": [
      "Using the derivative definition: 1.010000000000001\n",
      "Calculating the derivative analitically: 1\n"
     ]
    }
   ],
   "source": [
    "def derivative(function,x,delta):\n",
    "    d = (function(x+delta)-function(x))/delta\n",
    "    return d\n",
    "\n",
    "d_def = derivative(f,1,10**-2)\n",
    "print(\"Using the derivative definition:\", d_def)\n",
    "\n",
    "# Now analitically, the derivative is x, so in x = 1:\n",
    "d_an = 1\n",
    "print(\"Calculating the derivative analitically:\", d_an)"
   ]
  },
  {
   "cell_type": "markdown",
   "metadata": {
    "pycharm": {
     "name": "#%% md\n"
    }
   },
   "source": [
    "(b) Repeat the calculation for $\\delta = 10^{−4}, 10^{−6}, 10^{−8}, 10^{−10}, 10^{−12}$ and $10^{−14}$. How does the accuracy scales with $\\delta$?"
   ]
  },
  {
   "cell_type": "code",
   "execution_count": 14,
   "metadata": {
    "pycharm": {
     "name": "#%%\n"
    }
   },
   "outputs": [
    {
     "name": "stdout",
     "output_type": "stream",
     "text": [
      "[1.010000000000001, 1.0000999999998899, 1.0000009999177333, 1.0000000039225287, 1.000000082840371, 1.0000889005833413, 0.9992007221626509]\n"
     ]
    }
   ],
   "source": [
    "delta  = [10**(-2*(n+2)) for n in range(6)]\n",
    "d_def = [d_def]\n",
    "for i in delta:\n",
    "    d_def.append(derivative(f,1,i))\n",
    "print(d_def)"
   ]
  },
  {
   "cell_type": "markdown",
   "metadata": {},
   "source": [
    "*Answer:* The accuracy improves at first, while the machine is able to compute the decimals correctly. However, when the deltas start being too small (near to the precision of the computer), the results become less accurate again."
   ]
  },
  {
   "cell_type": "markdown",
   "metadata": {},
   "source": [
    "7\\. Consider the integral of the semicircle of radius 1:\n",
    "$$\n",
    "I=\\int_{-1}^{1} \\sqrt(1-x^2) {\\rm d}x\n",
    "$$\n",
    "which it's known to be $I=\\frac{\\pi}{2}=1.57079632679...$.\n",
    "Alternatively we can use the Riemann definition of the integral:\n",
    "$$\n",
    "I=\\lim_{N\\to\\infty} \\sum_{k=1}^{N} h y_k \n",
    "$$\n",
    "\n",
    "with $h=2/N$ the width of each of the $N$ slices the domain is divided into and where\n",
    "$y_k$ is the value of the function at the $k-$th slice.\n",
    "\n",
    "(a) Write a program to compute the integral with $N=100$. How does the result compares to the true value?"
   ]
  },
  {
   "cell_type": "code",
   "execution_count": 15,
   "metadata": {
    "pycharm": {
     "name": "#%%\n"
    },
    "scrolled": true
   },
   "outputs": [
    {
     "name": "stdout",
     "output_type": "stream",
     "text": [
      "1.5802085158895236\n"
     ]
    }
   ],
   "source": [
    "def Riemann_int(f, N, interval):\n",
    "    I = 0\n",
    "    k = (abs(interval[0])+abs(interval[1]))/N\n",
    "    for i in range(N):\n",
    "        I += 2*f(interval[0]+i*k)/N\n",
    "    return I\n",
    "\n",
    "print(Riemann_int((lambda x:(1-x**2)**(1/2)), 100, [0,1]))"
   ]
  },
  {
   "cell_type": "code",
   "execution_count": 16,
   "metadata": {},
   "outputs": [
    {
     "name": "stdout",
     "output_type": "stream",
     "text": [
      "0.6 %\n"
     ]
    }
   ],
   "source": [
    "from math import pi\n",
    "\n",
    "sol = Riemann_int((lambda x:(1-x**2)**(1/2)), 100, [0,1])\n",
    "\n",
    "# Lets find out the relative error:\n",
    "err = abs((pi/2-sol))/(pi/2)*100\n",
    "print(round(err,2), \"%\")"
   ]
  },
  {
   "cell_type": "markdown",
   "metadata": {},
   "source": [
    "*Answer:* The result has a relative error of less than 1% with respect to the true value."
   ]
  },
  {
   "cell_type": "markdown",
   "metadata": {
    "pycharm": {
     "name": "#%% md\n"
    }
   },
   "source": [
    "(b) How much can $N$ be increased if the computation needs to be run in less than a second? What is the gain in running it for 1 minute? "
   ]
  },
  {
   "cell_type": "code",
   "execution_count": 17,
   "metadata": {
    "pycharm": {
     "name": "#%%\n"
    }
   },
   "outputs": [
    {
     "name": "stdout",
     "output_type": "stream",
     "text": [
      "I =  1.5707963239552598 , it took 1.0720168 seconds and 700000 iterations.\n",
      "N can be increased up to 700000 before it takes more than 1 second to calculate the intregral.\n"
     ]
    }
   ],
   "source": [
    "import time\n",
    "\n",
    "int = [-1, 1]\n",
    "N = 100000\n",
    "secs = 0\n",
    "\n",
    "while secs < 1:\n",
    "    N += 50000\n",
    "    t1 = time.perf_counter()\n",
    "    I = Riemann_int((lambda x:(1-x**2)**(1/2)), N, int)\n",
    "    t2 = time.perf_counter()\n",
    "    secs = t2 - t1\n",
    "\n",
    "print(\"I = \", I, \", it took {} seconds and {} iterations.\".format(secs, N))\n",
    "\n",
    "print(\"N can be increased up to {} before it takes more than 1 second to calculate the intregral.\".format(N))"
   ]
  },
  {
   "cell_type": "code",
   "execution_count": 18,
   "metadata": {},
   "outputs": [
    {
     "name": "stdout",
     "output_type": "stream",
     "text": [
      "0 %\n"
     ]
    }
   ],
   "source": [
    "sol2 = Riemann_int((lambda x:(1-x**2)**(1/2)), N, [0,1])\n",
    "\n",
    "# Lets find out the relative error:\n",
    "err = abs((pi/2-sol2))/(pi/2)*100\n",
    "print(round(err), \"%\")"
   ]
  },
  {
   "cell_type": "markdown",
   "metadata": {
    "pycharm": {
     "name": "#%%\n"
    }
   },
   "source": [
    "*Answer:* There is not going to be much gain in running it for one minute, since the decimals that are left calculating will be inaccurate due to the machine limitation when it comes to very small numbers. Therefore, the accuracy of the solution will not increase significantly with the number of iterations once it has reached a certain point."
   ]
  }
 ],
 "metadata": {
  "kernelspec": {
   "display_name": "Python 3",
   "language": "python",
   "name": "python3"
  },
  "language_info": {
   "codemirror_mode": {
    "name": "ipython",
    "version": 3
   },
   "file_extension": ".py",
   "mimetype": "text/x-python",
   "name": "python",
   "nbconvert_exporter": "python",
   "pygments_lexer": "ipython3",
   "version": "3.8.8"
  }
 },
 "nbformat": 4,
 "nbformat_minor": 2
}
