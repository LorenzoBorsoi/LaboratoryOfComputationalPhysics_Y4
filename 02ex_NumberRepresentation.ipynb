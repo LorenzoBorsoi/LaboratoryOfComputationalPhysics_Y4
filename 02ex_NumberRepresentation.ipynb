{
 "cells": [
  {
   "cell_type": "markdown",
   "metadata": {},
   "source": [
    "1\\. Write a function that converts number representation (bin<->dec<->hex)"
   ]
  },
  {
   "cell_type": "code",
   "execution_count": 166,
   "metadata": {},
   "outputs": [],
   "source": [
    "#only for positive integers\n",
    "\n",
    "def bintodec(input):\n",
    "    pos= [int(x) for x in input[2:]]\n",
    "    pos= pos[::-1] #reversing the order\n",
    "    temp=0 \n",
    "    for i in range(len(pos)): temp+=2**i * pos[i]\n",
    "    return temp\n",
    "\n",
    "def dectobin(dec, temp=[]): \n",
    "    if (dec<=1):\n",
    "        temp.insert(0,str(dec%2))\n",
    "        out=\"\".join(temp)\n",
    "        return \"0b\"+out\n",
    "    temp.insert(0, str(dec%2))\n",
    "    return dectobin(dec//2, temp)\n",
    "    \n",
    "def hextodec(input):\n",
    "    rule=\"0123456789abcdef\"\n",
    "    pos = [x for x in input[2:]]\n",
    "    pos= pos[::-1] \n",
    "    temp=0\n",
    "    for i in range(len(pos)):\n",
    "        temp += 16**i*rule.index(pos[i])\n",
    "    return temp \n",
    "\n",
    "def dectohex(input, temp=[]):\n",
    "    rule=\"0123456789abcdef\"\n",
    "    if(input<16):\n",
    "        temp.insert(0,rule[input%16])\n",
    "        out=''.join(temp)\n",
    "        return '0x'+out\n",
    "    temp.insert(0,rule[input%16])\n",
    "    return dectohex(input//16, temp)\n",
    "  \n",
    "\n",
    "def converter(x):\n",
    "    intype=type(x)\n",
    "\n",
    "    if intype==int:\n",
    "        print(\"Binary conversion: \", dectobin(x,[]))\n",
    "        print(\"Hexadecimal Conversion: \", dectohex(x,[]))\n",
    "\n",
    "    if intype== str and (x[1]=='b') == True:\n",
    "        print(\"Decimal Conversion: \", bintodec(x))\n",
    "        print(\"Hexadecimal Conversion: \", dectohex(bintodec(x)))\n",
    "        \n",
    "    if intype== str and (x[1]=='x') == True:\n",
    "        print(\"Decimal Conversion: \", hextodec(x))\n",
    "        print(\"Binary Conversion: \", dectobin(hextodec(x)))\n",
    "\n"
   ]
  },
  {
   "cell_type": "markdown",
   "metadata": {},
   "source": [
    "2\\. Write a function that converts a 32 bit word into a single precision floating point (i.e. interprets the various bits as sign, mantissa and exponent)"
   ]
  },
  {
   "cell_type": "code",
   "execution_count": 119,
   "metadata": {},
   "outputs": [],
   "source": [
    "def word_to_float(word):\n",
    "    s=int(word[0])\n",
    "    e=int(word[1:9],2)\n",
    "    m=word[9:]\n",
    "    m=m[::-1] #inverting order\n",
    "    bias = 127\n",
    "    f=1\n",
    "    for x in enumerate(m,1):\n",
    "        f+=int(x[1])*2**(-x[0])\n",
    "    return  (-1)**s*(f)*2**(e-bias)"
   ]
  },
  {
   "cell_type": "markdown",
   "metadata": {},
   "source": [
    "3\\. Write a program to determine the underflow and overflow limits (within a factor of 2) for python on your computer. \n",
    "\n",
    "**Tips**: define two variables inizialized to 1 and halve/double them enough time to exceed the under/over-flow limits  "
   ]
  },
  {
   "cell_type": "code",
   "execution_count": 122,
   "metadata": {},
   "outputs": [
    {
     "name": "stdout",
     "output_type": "stream",
     "text": [
      "underflow at: 5e-324\n"
     ]
    }
   ],
   "source": [
    "old=1.\n",
    "new=1.\n",
    "tracker=[old, new]\n",
    "condition=False\n",
    "while condition==False:\n",
    "    tracker[0]=tracker[1]\n",
    "    tracker[1]/=2\n",
    "    if tracker[1]==0:\n",
    "        condition=True\n",
    "        print(\"underflow at:\", tracker[0])"
   ]
  },
  {
   "cell_type": "code",
   "execution_count": 175,
   "metadata": {},
   "outputs": [
    {
     "name": "stdout",
     "output_type": "stream",
     "text": [
      "overflow at: 8.98846567431158e+307\n"
     ]
    }
   ],
   "source": [
    "old=1.\n",
    "new=1.\n",
    "tracker=[old, new]\n",
    "condition=False\n",
    "while condition==False:\n",
    "    tracker[0]=tracker[1]\n",
    "    tracker[1]*=2\n",
    "    if tracker[1]==float(\"inf\"):\n",
    "        condition=True\n",
    "        print(\"overflow at:\", tracker[0])"
   ]
  },
  {
   "cell_type": "markdown",
   "metadata": {},
   "source": [
    "4\\. Write a program to determine the machine precision\n",
    "\n",
    "**Tips**: define a new variable by adding a smaller and smaller value (proceeding similarly to prob. 2) to an original variable and check the point where the two are the same "
   ]
  },
  {
   "cell_type": "code",
   "execution_count": 211,
   "metadata": {},
   "outputs": [
    {
     "name": "stdout",
     "output_type": "stream",
     "text": [
      "machine precision: 5.551115123125783e-17\n"
     ]
    }
   ],
   "source": [
    "\n",
    "tracker=[0, 0]\n",
    "condition=False\n",
    "i=1\n",
    "while condition==False:\n",
    "    tracker[0]=tracker[1]\n",
    "    tracker[1]+=2**(-i)\n",
    "    if tracker[1]==tracker[0]:\n",
    "        condition=True\n",
    "        imax= i-1\n",
    "        print(\"machine precision:\", 2**(-imax))\n",
    "    i+=1\n"
   ]
  },
  {
   "cell_type": "markdown",
   "metadata": {},
   "source": [
    "5\\. Write a function that takes in input three parameters $a$, $b$ and $c$ and prints out the two solutions to the quadratic equation $ax^2+bx+c=0$ using the standard formula:\n",
    "$$\n",
    "x=\\frac{-b\\pm\\sqrt{b^2-4ac}}{2a}\n",
    "$$\n",
    "\n",
    "(a) use the program to compute the solution for $a=0.001$, $b=1000$ and $c=0.001$\n",
    "\n",
    "(b) re-express the standard solution formula by multiplying top and bottom by $-b\\mp\\sqrt{b^2-4ac}$ and again find the solution for $a=0.001$, $b=1000$ and $c=0.001$. How does it compare with what previously obtained? Why?\n",
    "\n",
    "(c) write a function that compute the roots of a quadratic equation accurately in all cases"
   ]
  },
  {
   "cell_type": "code",
   "execution_count": 212,
   "metadata": {},
   "outputs": [
    {
     "name": "stdout",
     "output_type": "stream",
     "text": [
      "[-9.999894245993346e-07, -999999.999999]\n",
      "[-1.000000000001e-06, -1000010.5755125057]\n",
      "[-1.000000000001e-06, -999999.999999]\n"
     ]
    }
   ],
   "source": [
    "import numpy as np\n",
    "\n",
    "def quadratic(a,b,c):\n",
    "    rad=np.sqrt(b**2-4*a*c)\n",
    "    return [(-b+rad)/(2*a),(-b-rad)/(2*a)]\n",
    "\n",
    "def rewriting_quadratic(a,b,c):\n",
    "    rad=np.sqrt(b**2-4*a*c)\n",
    "    return [2*c/(-b - rad), 2*c/(-b + rad)]\n",
    "\n",
    "def accurate_solution(a,b,c):\n",
    "    xplus = (-b-np.sign(b)*np.sqrt(b**2-4*a*c))/(2*a)\n",
    "    xminus = c / (a * xplus)\n",
    "    return [xminus, xplus]\n",
    "\n",
    "\n",
    "#a\n",
    "print(quadratic(0.001, 1000, 0.001))\n",
    "#b\n",
    "print(rewriting_quadratic(0.001, 1000, 0.001))\n",
    "#c\n",
    "print(accurate_solution(0.001, 1000, 0.001))\n",
    "\n",
    "#It's due to the fact subtracting very big numbers to very small ones always leads to problems.\n",
    "#We have to avoid subtractions and when possible use sums."
   ]
  },
  {
   "cell_type": "markdown",
   "metadata": {},
   "source": [
    "6\\. Write a program that implements the function $f(x)=x(x−1)$\n",
    "\n",
    "(a) Calculate the derivative of the function at the point $x = 1$ using the derivative definition:\n",
    "\n",
    "$$\n",
    "\\frac{{\\rm d}f}{{\\rm d}x} = \\lim_{\\delta\\to0} \\frac{f(x+\\delta)-f(x)}{\\delta}\n",
    "$$\n",
    "\n",
    "with $\\delta = 10^{−2}$. Calculate the true value of the same derivative analytically and compare with the answer your program gives. The two will not agree perfectly. Why not?\n",
    "\n",
    "(b) Repeat the calculation for $\\delta = 10^{−4}, 10^{−6}, 10^{−8}, 10^{−10}, 10^{−12}$ and $10^{−14}$. How does the accuracy scales with $\\delta$?"
   ]
  },
  {
   "cell_type": "code",
   "execution_count": 250,
   "metadata": {},
   "outputs": [
    {
     "data": {
      "text/plain": [
       "<matplotlib.legend.Legend at 0x1dec42a3808>"
      ]
     },
     "execution_count": 250,
     "metadata": {},
     "output_type": "execute_result"
    },
    {
     "data": {
      "image/png": "[encoded data removed]",
      "text/plain": [
       "<Figure size 432x288 with 1 Axes>"
      ]
     },
     "metadata": {
      "needs_background": "light"
     },
     "output_type": "display_data"
    }
   ],
   "source": [
    "#a\n",
    "delta= 1e-2\n",
    "def fun(x): return x*(x-1)\n",
    "def incremental_ratio(x0, delta): return (fun(x0+delta)-fun(x0))/delta\n",
    "incremental_ratio(1, delta)\n",
    "#b\n",
    "deltas=[1e-4, 1e-6, 1e-8, 1e-10, 1e-12, 1e-14]\n",
    "derivatives=[]\n",
    "error=[]\n",
    "fprime=1#real value of the derivative\n",
    "for delta in enumerate(deltas):\n",
    "    derivatives.append(incremental_ratio(1, delta[1])) \n",
    "    error.append(np.abs(fprime-derivatives[delta[0]]))\n",
    "\n",
    "\n",
    "error=np.array(error)\n",
    "accuracy= 1/error\n",
    "\n",
    "import matplotlib.pyplot as plt\n",
    "plt.plot(deltas, error, label=\"error\")\n",
    "plt.plot(deltas, accuracy, label=\"accuracy\")\n",
    "\n",
    "plt.yscale('log')\n",
    "plt.ylabel('error')\n",
    "plt.xscale('log')\n",
    "plt.xlabel('$\\delta$')\n",
    "plt.legend()\n",
    "\n",
    "#Accuracy increase exponentially with delta until it reaches it's maximum at delta=1e-8 and starts to decrease exponentially"
   ]
  },
  {
   "cell_type": "markdown",
   "metadata": {},
   "source": [
    "7\\. Consider the integral of the semicircle of radius 1:\n",
    "$$\n",
    "I=\\int_{-1}^{1} \\sqrt(1-x^2) {\\rm d}x\n",
    "$$\n",
    "which it's known to be $I=\\frac{\\pi}{2}=1.57079632679...$.\n",
    "Alternatively we can use the Riemann definition of the integral:\n",
    "$$\n",
    "I=\\lim_{N\\to\\infty} \\sum_{k=1}^{N} h y_k \n",
    "$$\n",
    "\n",
    "with $h=2/N$ the width of each of the $N$ slices the domain is divided into and where\n",
    "$y_k$ is the value of the function at the $k-$th slice.\n",
    "\n",
    "(a) Write a programe to compute the integral with $N=100$. How does the result compares to the true value?\n",
    "\n",
    "(b) How much can $N$ be increased if the computation needs to be run in less than a second? What is the gain in running it for 1 minute? \n"
   ]
  },
  {
   "cell_type": "code",
   "execution_count": null,
   "metadata": {},
   "outputs": [],
   "source": []
  }
 ],
 "metadata": {
  "interpreter": {
   "hash": "d45e406d0e0708198588c4cd422e9b9b922df52c309efe81ad56c437167c4d05"
  },
  "kernelspec": {
   "display_name": "Python 3.7.6 64-bit ('base': conda)",
   "name": "python3"
  },
  "language_info": {
   "codemirror_mode": {
    "name": "ipython",
    "version": 3
   },
   "file_extension": ".py",
   "mimetype": "text/x-python",
   "name": "python",
   "nbconvert_exporter": "python",
   "pygments_lexer": "ipython3",
   "version": "3.7.6"
  }
 },
 "nbformat": 4,
 "nbformat_minor": 2
}
