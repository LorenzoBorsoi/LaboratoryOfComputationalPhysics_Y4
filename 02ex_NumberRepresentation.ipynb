{
 "cells": [
  {
   "cell_type": "markdown",
   "metadata": {},
   "source": [
    "1\\. Write a function that converts number representation (bin<->dec<->hex)"
   ]
  },
  {
   "cell_type": "code",
   "execution_count": 35,
   "metadata": {
    "scrolled": true
   },
   "outputs": [
    {
     "name": "stdout",
     "output_type": "stream",
     "text": [
      "0b1001 (bin) to  9  (dec)\n",
      "0b1001 (bin) to  0x9  (hex)\n",
      "1a (hex) to  26  (dec)\n",
      "1a (hex) to  0b11010  (bin)\n",
      "15 (dec) to  0xf  (hex)\n",
      "15 (dec) to  0b1111  (bin)\n"
     ]
    }
   ],
   "source": [
    "def convert(x, repr_input='bin', repr_output='dec'):\n",
    "    repr_dict = {'bin': 2, 'hex': 16, 'dec': 10}\n",
    "    func_dict = {'bin': bin, 'hex': hex, 'dec': int}\n",
    "    if repr_input not in ['bin', 'hex', 'dec']:\n",
    "        raise Exception(\"Invalid number representation\")\n",
    "    else:\n",
    "        int_x = int(x, repr_dict[repr_input])\n",
    "        return func_dict[repr_output](int_x)\n",
    "            \n",
    "    \n",
    "dec_number = '15'\n",
    "bin_number = '0b1001'\n",
    "hex_number = '1a'\n",
    "print(bin_number, '(bin) to ', convert(bin_number, repr_input='bin', repr_output='dec'), ' (dec)')\n",
    "print(bin_number, '(bin) to ', convert(bin_number, repr_input='bin', repr_output='hex'), ' (hex)')\n",
    "print(hex_number, '(hex) to ', convert(hex_number, repr_input='hex', repr_output='dec'), ' (dec)')\n",
    "print(hex_number, '(hex) to ', convert(hex_number, repr_input='hex', repr_output='bin'), ' (bin)')\n",
    "print(dec_number, '(dec) to ', convert(dec_number, repr_input='dec', repr_output='hex'), ' (hex)')\n",
    "print(dec_number, '(dec) to ', convert(dec_number, repr_input='dec', repr_output='bin'), ' (bin)')"
   ]
  },
  {
   "cell_type": "markdown",
   "metadata": {},
   "source": [
    "2\\. Write a function that converts a 32 bit word into a single precision floating point (i.e. interprets the various bits as sign, mantissa and exponent)"
   ]
  },
  {
   "cell_type": "code",
   "execution_count": 76,
   "metadata": {},
   "outputs": [
    {
     "name": "stdout",
     "output_type": "stream",
     "text": [
      "32\n",
      "mantissa: 01100000000000000000000\n",
      "exponent: 10000001\n",
      "1 2 1.375\n",
      "-5.5\n"
     ]
    }
   ],
   "source": [
    "x = '11000000101100000000000000000000'\n",
    "print(len(x))\n",
    "print('mantissa:', x[-23:])\n",
    "mantissa = 1 + sum([int(m) * (2**(-n-1)) for n, m in enumerate(x[-23:])])\n",
    "print('exponent:', x[-31:-23])\n",
    "exponent = sum([int(m) * (2 ** (7 - n)) for n, m in enumerate(x[-31:-23])]) - 127\n",
    "sign = int(x[0])\n",
    "print(sign, exponent, mantissa)\n",
    "single_float = (-1 ** sign) * mantissa * (2 ** (exponent))\n",
    "print(single_float)"
   ]
  },
  {
   "cell_type": "markdown",
   "metadata": {},
   "source": [
    "3\\. Write a program to determine the underflow and overflow limits (within a factor of 2) for python on your computer. \n",
    "\n",
    "**Tips**: define two variables inizialized to 1 and halve/double them enough time to exceed the under/over-flow limits  "
   ]
  },
  {
   "cell_type": "code",
   "execution_count": 1,
   "metadata": {},
   "outputs": [
    {
     "name": "stdout",
     "output_type": "stream",
     "text": [
      "underflow limit: 5e-324\n",
      "0.0\n"
     ]
    }
   ],
   "source": [
    "# underflow\n",
    "x = 1\n",
    "limit = 0\n",
    "while x > 0.0:\n",
    "    x = x / 2\n",
    "    limit += 1\n",
    "    \n",
    "print('underflow limit:', 2 ** (-limit))\n",
    "print(2 ** (-limit - 1))"
   ]
  },
  {
   "cell_type": "code",
   "execution_count": null,
   "metadata": {},
   "outputs": [],
   "source": [
    "# overflow\n",
    "x = 1\n",
    "limit = 0\n",
    "while x < x + 1:\n",
    "    x = x * 2\n",
    "    limit += 1\n",
    "    \n",
    "print('overflow limit:', 2 ** (limit))\n",
    "print(2 ** (limit + 1))"
   ]
  },
  {
   "cell_type": "code",
   "execution_count": 4,
   "metadata": {},
   "outputs": [
    {
     "data": {
      "text/plain": [
       "1.7976931348623157e+308"
      ]
     },
     "execution_count": 4,
     "metadata": {},
     "output_type": "execute_result"
    }
   ],
   "source": [
    "import sys\n",
    "sys.float_info.max"
   ]
  },
  {
   "cell_type": "markdown",
   "metadata": {},
   "source": [
    "4\\. Write a program to determine the machine precision\n",
    "\n",
    "**Tips**: define a new variable by adding a smaller and smaller value (proceeding similarly to prob. 2) to an original variable and check the point where the two are the same "
   ]
  },
  {
   "cell_type": "code",
   "execution_count": 9,
   "metadata": {},
   "outputs": [
    {
     "name": "stdout",
     "output_type": "stream",
     "text": [
      "1.1102230246251565e-16\n"
     ]
    }
   ],
   "source": [
    "x = 1\n",
    "smaller_and_smaller_value = 1\n",
    "while x != x + smaller_and_smaller_value:\n",
    "    smaller_and_smaller_value /= 2\n",
    "print(smaller_and_smaller_value)"
   ]
  },
  {
   "cell_type": "markdown",
   "metadata": {},
   "source": [
    "5\\. Write a function that takes in input three parameters $a$, $b$ and $c$ and prints out the two solutions to the quadratic equation $ax^2+bx+c=0$ using the standard formula:\n",
    "$$\n",
    "x=\\frac{-b\\pm\\sqrt{b^2-4ac}}{2a}\n",
    "$$\n",
    "\n",
    "(a) use the program to compute the solution for $a=0.001$, $b=1000$ and $c=0.001$\n",
    "\n",
    "(b) re-express the standard solution formula by multiplying top and bottom by $-b\\mp\\sqrt{b^2-4ac}$ and again find the solution for $a=0.001$, $b=1000$ and $c=0.001$. How does it compare with what previously obtained? Why?\n",
    "\n",
    "(c) write a function that compute the roots of a quadratic equation accurately in all cases"
   ]
  },
  {
   "cell_type": "code",
   "execution_count": 9,
   "metadata": {},
   "outputs": [
    {
     "name": "stdout",
     "output_type": "stream",
     "text": [
      "(-9.999894245993346e-07, -999999.999999)\n",
      "999.999999998\n",
      "-1.999978849198669e-09\n",
      "-1999.999999998\n",
      "(-9.999894245993346e-07, 250002643378126.44)\n"
     ]
    }
   ],
   "source": [
    "# a\n",
    "from math import sqrt\n",
    "def solution(a, b, c):\n",
    "    return (-b + sqrt(b ** 2 - 4 * a * c)) / (2 * a), (-b - sqrt(b ** 2 - 4 * a * c)) / (2 * a)\n",
    "print(solution(0.001, 1000, 0.001))\n",
    "\n",
    "#b \n",
    "def solution_b(a, b, c):\n",
    "    multiplier_ = - b - sqrt(b ** 2 - 4 * a * c)\n",
    "    multiplier = - b + sqrt(b ** 2 - 4 * a * c)\n",
    "    print(sqrt(b ** 2 - 4 * a * c))\n",
    "    print(multiplier)\n",
    "    print(multiplier_)\n",
    "    return (-b + sqrt(b ** 2 - 4 * a * c)) * multiplier_ / (2 * a * multiplier_), (-b - sqrt(b ** 2 - 4 * a * c) * multiplier) / (2 * a * multiplier)\n",
    "print(solution_b(0.001, 1000, 0.001))"
   ]
  },
  {
   "cell_type": "markdown",
   "metadata": {},
   "source": [
    "6\\. Write a program that implements the function $f(x)=x(x−1)$\n",
    "\n",
    "(a) Calculate the derivative of the function at the point $x = 1$ using the derivative definition:\n",
    "\n",
    "$$\n",
    "\\frac{{\\rm d}f}{{\\rm d}x} = \\lim_{\\delta\\to0} \\frac{f(x+\\delta)-f(x)}{\\delta}\n",
    "$$\n",
    "\n",
    "with $\\delta = 10^{−2}$. Calculate the true value of the same derivative analytically and compare with the answer your program gives. The two will not agree perfectly. Why not?\n",
    "\n",
    "(b) Repeat the calculation for $\\delta = 10^{−4}, 10^{−6}, 10^{−8}, 10^{−10}, 10^{−12}$ and $10^{−14}$. How does the accuracy scales with $\\delta$?"
   ]
  },
  {
   "cell_type": "code",
   "execution_count": 16,
   "metadata": {},
   "outputs": [
    {
     "name": "stdout",
     "output_type": "stream",
     "text": [
      "Numerically derivative with $\\delta$ = 0.01 is 1.010000000000001\n",
      "analytically we got: 1\n"
     ]
    }
   ],
   "source": [
    "# a \n",
    "def func(x):\n",
    "    return x * (x - 1)\n",
    "\n",
    "def an_func(x):\n",
    "    return 2 * x - 1\n",
    "\n",
    "def derivative(func, x, delta=0.01):\n",
    "    return (func(x + delta) - func(x)) / delta\n",
    "\n",
    "x = 1\n",
    "print(r'Numerically derivative with $\\delta$ = 0.01 is', str(derivative(func, x, delta=0.01)))\n",
    "print(r'analytically we got:', str(an_func(x)))"
   ]
  },
  {
   "cell_type": "markdown",
   "metadata": {},
   "source": [
    "**Of course they are not the same as the condition $\\delta \\rightarrow 0$ is not met when calculated numerically.**\n",
    "Trying with smaller and smaller $\\delta$ we will get a more accurate result for the derivative:"
   ]
  },
  {
   "cell_type": "code",
   "execution_count": 29,
   "metadata": {},
   "outputs": [
    {
     "name": "stdout",
     "output_type": "stream",
     "text": [
      "delta= 0.001 -> 1.0009999999998895 -> relative absolute error = 0.09999999998895337 %\n",
      "delta= 1e-05 -> 1.0000100000065513 -> relative absolute error = 0.0010000006551269536 %\n",
      "delta= 1e-07 -> 1.0000001005838672 -> relative absolute error = 1.005838672352155e-05 %\n",
      "delta= 1e-09 -> 1.000000083740371 -> relative absolute error = 8.374037108183074e-06 %\n",
      "delta= 1e-11 -> 1.000000082750371 -> relative absolute error = 8.275037099991778e-06 %\n",
      "delta= 1e-13 -> 0.9992007221627407 -> relative absolute error = -0.07992778372593046 %\n"
     ]
    }
   ],
   "source": [
    "# b\n",
    "for delta in [10e-4, 10e-6, 10e-8, 10e-10, 10e-12, 10e-14]:\n",
    "    result = derivative(func, x, delta=delta)\n",
    "    print(r'delta=', delta, r'->', str(result), f'-> relative absolute error = {str((((result/an_func(x)) - 1) * 100))} %')"
   ]
  },
  {
   "cell_type": "markdown",
   "metadata": {},
   "source": [
    "7\\. Consider the integral of the semicircle of radius 1:\n",
    "$$\n",
    "I=\\int_{-1}^{1} \\sqrt(1-x^2) {\\rm d}x\n",
    "$$\n",
    "which it's known to be $I=\\frac{\\pi}{2}=1.57079632679...$.\n",
    "Alternatively we can use the Riemann definition of the integral:\n",
    "$$\n",
    "I=\\lim_{N\\to\\infty} \\sum_{k=1}^{N} h y_k \n",
    "$$\n",
    "\n",
    "with $h=2/N$ the width of each of the $N$ slices the domain is divided into and where\n",
    "$y_k$ is the value of the function at the $k-$th slice.\n",
    "\n",
    "(a) Write a programe to compute the integral with $N=100$. How does the result compares to the true value?\n",
    "\n",
    "(b) How much can $N$ be increased if the computation needs to be run in less than a second? What is the gain in running it for 1 minute? \n"
   ]
  },
  {
   "cell_type": "code",
   "execution_count": 42,
   "metadata": {},
   "outputs": [
    {
     "name": "stdout",
     "output_type": "stream",
     "text": [
      "1.5691342555492505\n",
      "0.10581074149479958 %\n"
     ]
    }
   ],
   "source": [
    "from math import sqrt\n",
    "def func(x):\n",
    "    return sqrt(1 - x ** 2)\n",
    "\n",
    "N = 100\n",
    "y = -1\n",
    "h = 2 / N\n",
    "riemann = sum([func(y + (n + 1) * h) * h for n in range(N)])\n",
    "print()\n",
    "print(riemann)\n",
    "print(abs((riemann - 1.57079632679) * 100 / 1.57079632679), '%')"
   ]
  },
  {
   "cell_type": "code",
   "execution_count": 43,
   "metadata": {},
   "outputs": [
    {
     "data": {
      "text/plain": [
       "505621"
      ]
     },
     "execution_count": 43,
     "metadata": {},
     "output_type": "execute_result"
    }
   ],
   "source": [
    "505621"
   ]
  },
  {
   "cell_type": "code",
   "execution_count": null,
   "metadata": {},
   "outputs": [],
   "source": []
  }
 ],
 "metadata": {
  "kernelspec": {
   "display_name": "Python 3",
   "language": "python",
   "name": "python3"
  },
  "language_info": {
   "codemirror_mode": {
    "name": "ipython",
    "version": 3
   },
   "file_extension": ".py",
   "mimetype": "text/x-python",
   "name": "python",
   "nbconvert_exporter": "python",
   "pygments_lexer": "ipython3",
   "version": "3.8.8"
  }
 },
 "nbformat": 4,
 "nbformat_minor": 2
}
