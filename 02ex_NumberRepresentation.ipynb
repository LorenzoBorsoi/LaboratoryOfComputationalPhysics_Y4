{
 "cells": [
  {
   "cell_type": "markdown",
   "metadata": {},
   "source": [
    "1\\. Write a function that converts number representation (bin<->dec<->hex)"
   ]
  },
  {
   "cell_type": "code",
   "execution_count": null,
   "metadata": {},
   "outputs": [],
   "source": [
    "def converter():\n",
    "    x=input(\"Inserire il numero da convertire (primo bit riferito al segno): \")\n",
    "    bi=int(input(\"Inserire la base del numero inserito: \"))\n",
    "    xl=[n for n in x]\n",
    "    for n, i in enumerate(xl):\n",
    "        if i == \"A\":\n",
    "            xl[n] = 10\n",
    "        elif i==\"B\":\n",
    "            xl[n] = 11\n",
    "        elif i==\"C\":\n",
    "            xl[n] = 12\n",
    "        elif i==\"D\":\n",
    "            xl[n]=13\n",
    "        elif i==\"E\":\n",
    "            xl[n]=14\n",
    "        elif i==\"F\":\n",
    "            xl[n]=15\n",
    "        else:\n",
    "            xl[n]=int(xl[n])\n",
    "    xl.reverse()\n",
    "    ci=int(input(\"Inserire la base in cui si vuole conertire: \"))\n",
    "    \n",
    "    d=0\n",
    "    for i in range(0,len(xl)-1): #NB range(i, f) si ferma a f-1\n",
    "        d+=xl[i]*bi**(i)\n",
    "    \n",
    "    dd=d\n",
    "    bh=[]\n",
    "    \n",
    "    \n",
    "    while dd>0:\n",
    "        r=dd%ci\n",
    "        bh.append(r)\n",
    "        dd = dd//ci\n",
    "        \n",
    "        \n",
    "    for n, i in enumerate(bh):\n",
    "        if i == 10:\n",
    "            bh[n] = \"A\"\n",
    "        elif i==11:\n",
    "            bh[n] = \"B\"\n",
    "        elif i==12:\n",
    "            bh[n] = \"C\"\n",
    "        elif i==13:\n",
    "            bh[n]=\"D\"\n",
    "        elif i==14:\n",
    "            bh[n]=\"E\"\n",
    "        elif i==15:\n",
    "            bh[n]=\"F\"\n",
    "        else:\n",
    "            bh[n]=int(bh[n])\n",
    "            \n",
    "    bh.append(xl[len(xl)-1])\n",
    "    bh.reverse()  \n",
    "    stringbh = [str(int) for int in bh]\n",
    "    \n",
    "    \n",
    "    if not ci==10:\n",
    "        print(\"Il numero convertito è: {}\".format(\"\".join(stringbh)))\n",
    "            \n",
    "    if ci==10:\n",
    "        print(\"Il numero convertito è: {}\".format(d*(-1)**xl[len(xl)-1]))\n",
    "        \n",
    "converter()"
   ]
  },
  {
   "cell_type": "markdown",
   "metadata": {},
   "source": [
    "2\\. Write a function that converts a 32 bit word into a single precision floating point (i.e. interprets the various bits as sign, mantissa and exponent)"
   ]
  },
  {
   "cell_type": "code",
   "execution_count": 22,
   "metadata": {},
   "outputs": [
    {
     "name": "stdout",
     "output_type": "stream",
     "text": [
      "Inserire il numero in 32 bit: 1\n"
     ]
    },
    {
     "ename": "IndexError",
     "evalue": "list index out of range",
     "output_type": "error",
     "traceback": [
      "\u001b[0;31m---------------------------------------------------------------------------\u001b[0m",
      "\u001b[0;31mIndexError\u001b[0m                                Traceback (most recent call last)",
      "\u001b[0;32m<ipython-input-22-97f265ff9ee5>\u001b[0m in \u001b[0;36m<module>\u001b[0;34m\u001b[0m\n\u001b[1;32m     20\u001b[0m    \u001b[0mprint\u001b[0m\u001b[0;34m(\u001b[0m\u001b[0;34m\"Il numero in precisione singola è: {}\"\u001b[0m\u001b[0;34m.\u001b[0m\u001b[0mformat\u001b[0m\u001b[0;34m(\u001b[0m\u001b[0mxfloat\u001b[0m\u001b[0;34m)\u001b[0m\u001b[0;34m)\u001b[0m\u001b[0;34m\u001b[0m\u001b[0;34m\u001b[0m\u001b[0m\n\u001b[1;32m     21\u001b[0m \u001b[0;34m\u001b[0m\u001b[0m\n\u001b[0;32m---> 22\u001b[0;31m \u001b[0mconverter32\u001b[0m\u001b[0;34m(\u001b[0m\u001b[0;34m)\u001b[0m\u001b[0;34m\u001b[0m\u001b[0;34m\u001b[0m\u001b[0m\n\u001b[0m",
      "\u001b[0;32m<ipython-input-22-97f265ff9ee5>\u001b[0m in \u001b[0;36mconverter32\u001b[0;34m()\u001b[0m\n\u001b[1;32m      7\u001b[0m    \u001b[0mm\u001b[0m\u001b[0;34m=\u001b[0m\u001b[0;36m1\u001b[0m\u001b[0;34m\u001b[0m\u001b[0;34m\u001b[0m\u001b[0m\n\u001b[1;32m      8\u001b[0m    \u001b[0;32mfor\u001b[0m \u001b[0mi\u001b[0m \u001b[0;32min\u001b[0m \u001b[0mrange\u001b[0m\u001b[0;34m(\u001b[0m\u001b[0;36m0\u001b[0m\u001b[0;34m,\u001b[0m\u001b[0;36m23\u001b[0m\u001b[0;34m)\u001b[0m\u001b[0;34m:\u001b[0m\u001b[0;34m\u001b[0m\u001b[0;34m\u001b[0m\u001b[0m\n\u001b[0;32m----> 9\u001b[0;31m        \u001b[0mm\u001b[0m\u001b[0;34m+=\u001b[0m\u001b[0mxl\u001b[0m\u001b[0;34m[\u001b[0m\u001b[0;36m22\u001b[0m\u001b[0;34m-\u001b[0m\u001b[0mi\u001b[0m\u001b[0;34m]\u001b[0m\u001b[0;34m*\u001b[0m\u001b[0;36m2\u001b[0m\u001b[0;34m**\u001b[0m\u001b[0;34m(\u001b[0m\u001b[0;34m-\u001b[0m\u001b[0mi\u001b[0m\u001b[0;34m-\u001b[0m\u001b[0;36m1\u001b[0m\u001b[0;34m)\u001b[0m\u001b[0;34m\u001b[0m\u001b[0;34m\u001b[0m\u001b[0m\n\u001b[0m\u001b[1;32m     10\u001b[0m \u001b[0;34m\u001b[0m\u001b[0m\n\u001b[1;32m     11\u001b[0m \u001b[0;34m\u001b[0m\u001b[0m\n",
      "\u001b[0;31mIndexError\u001b[0m: list index out of range"
     ]
    }
   ],
   "source": [
    " #  00000011111000000000000000000000  ->  1.316553672920962e-36\n",
    "def converter32():\n",
    "    x=input(\"Inserire il numero in 32 bit: \")\n",
    "    xl=[int(n) for n in x]\n",
    "    xl.reverse()\n",
    "    \n",
    "    m=1\n",
    "    for i in range(0,23):\n",
    "        m+=xl[22-i]*2**(-i-1)\n",
    "    \n",
    "        \n",
    "    e=0    \n",
    "    for n in range(23,31):\n",
    "        e+=xl[n]*2**(n-23)\n",
    "        \n",
    "        \n",
    "        \n",
    "    xfloat=(-1)**xl[31]*m*2**(e-127)\n",
    "    \n",
    "    print(\"Il numero in precisione singola è: {}\".format(xfloat))\n",
    "    \n",
    "converter32() "
   ]
  },
  {
   "cell_type": "markdown",
   "metadata": {},
   "source": [
    "3\\. Write a program to determine the underflow and overflow limits (within a factor of 2) for python on your computer. \n",
    "\n",
    "**Tips**: define two variables inizialized to 1 and halve/double them enough time to exceed the under/over-flow limits  "
   ]
  },
  {
   "cell_type": "code",
   "execution_count": 55,
   "metadata": {},
   "outputs": [
    {
     "name": "stdout",
     "output_type": "stream",
     "text": [
      "Dopo 1075 iterazioni si è raggiunto l'uderflow limit\n",
      "Dopo 1024 iterazioni si è raggiunto l'overflow limit pari a:\n",
      "179769313486231590772930519078902473361797697894230657273430081157732675805500963132708477322407536021120113879871393357658789768814416622492847430639474124377767893424865485276302219601246094119453082952085005768838150682342462881473913110540827237163350510684586298239947245938479716304835356329624224137216\n"
     ]
    }
   ],
   "source": [
    "u=1\n",
    "i=0\n",
    "while u>0:\n",
    "    u=u/2\n",
    "    i+=1\n",
    "    \n",
    "print(\"Dopo {} iterazioni si è raggiunto l'uderflow limit\".format(i))    \n",
    "\n",
    "\n",
    "a=True\n",
    "o=1\n",
    "n=0\n",
    "while a:\n",
    "    o=o*2\n",
    "    n+=1\n",
    "    try:\n",
    "        float(o)==float(o)\n",
    "    except:\n",
    "        print(\"Dopo {} iterazioni si è raggiunto l'overflow limit pari a:\\n{}\".format(n, o))\n",
    "        break\n",
    "\n"
   ]
  },
  {
   "cell_type": "markdown",
   "metadata": {},
   "source": [
    "4\\. Write a program to determine the machine precision\n",
    "\n",
    "**Tips**: define a new variable by adding a smaller and smaller value (proceeding similarly to prob. 2) to an original variable and check the point where the two are the same "
   ]
  },
  {
   "cell_type": "code",
   "execution_count": 11,
   "metadata": {},
   "outputs": [
    {
     "name": "stdout",
     "output_type": "stream",
     "text": [
      "55\n",
      "2.7755575615628914e-17\n",
      "1.0\n"
     ]
    }
   ],
   "source": [
    "#Rivedere meglio!\n",
    "i=0\n",
    "a=1\n",
    "b=0\n",
    "n=1\n",
    "while a!=b:\n",
    "        i+=1\n",
    "        a=b\n",
    "        n=n/2\n",
    "        b=a+n\n",
    "\n",
    "print(i)\n",
    "print(n)\n",
    "print(a)"
   ]
  },
  {
   "cell_type": "markdown",
   "metadata": {},
   "source": [
    "5\\. Write a function that takes in input three parameters $a$, $b$ and $c$ and prints out the two solutions to the quadratic equation $ax^2+bx+c=0$ using the standard formula:\n",
    "$$\n",
    "x=\\frac{-b\\pm\\sqrt{b^2-4ac}}{2a}\n",
    "$$\n",
    "\n",
    "(a) use the program to compute the solution for $a=0.001$, $b=1000$ and $c=0.001$\n",
    "\n",
    "(b) re-express the standard solution formula by multiplying top and bottom by $-b\\mp\\sqrt{b^2-4ac}$ and again find the solution for $a=0.001$, $b=1000$ and $c=0.001$. How does it compare with what previously obtained? Why?\n",
    "\n",
    "(c) write a function that compute the roots of a quadratic equation accurately in all cases"
   ]
  },
  {
   "cell_type": "code",
   "execution_count": 30,
   "metadata": {},
   "outputs": [
    {
     "name": "stdout",
     "output_type": "stream",
     "text": [
      "(-9.999894245993346e-07, -999999.999999)\n",
      "(-9.999894245993346e-07, -999999.9999990001)\n",
      "(-1.0000000000009999e-06, -1000010.5755125057)\n",
      "(-1.000000000001e-06, -999999.9999989999)\n",
      "0.0 -4.6730041503885433e-08\n"
     ]
    }
   ],
   "source": [
    "#rivedere e rispondere alle domande!\n",
    "\n",
    "import math as m\n",
    "\n",
    "def roota(a=0.001, b=1000, c=0.001):\n",
    "    x1=(-b+m.sqrt(b**2-4*a*c))/(2*a)\n",
    "    x2=(-m.sqrt(b**2-4*a*c)-b)/(2*a)\n",
    "    return(x1, x2)\n",
    "\n",
    "print(roota())\n",
    "\n",
    "\n",
    "\n",
    "def rootbb(a=0.001, b=1000, c=0.001):\n",
    "    x1=(-b+m.sqrt(b**2-4*a*c))*(-b-m.sqrt(b**2-4*a*c))/(2*a*(-b-m.sqrt(b**2-4*a*c)))\n",
    "    x2=(-b-m.sqrt(b**2-4*a*c))*(-b+m.sqrt(b**2-4*a*c))/(2*a*(-b+m.sqrt(b**2-4*a*c)))\n",
    "    return(x1, x2)\n",
    "\n",
    "print(rootbb())\n",
    "\n",
    "def rootb(a=0.001, b=1000, c=0.001):\n",
    "    x1=(b**2-b**2+4*a*c)/(2*a*(-b-m.sqrt(b**2-4*a*c)))\n",
    "    x2=(b**2-b**2+4*a*c)/(2*a*(-b+m.sqrt(b**2-4*a*c)))\n",
    "    return(x1, x2)\n",
    "\n",
    "print(rootb())\n",
    "\n",
    "def rootc(a=0.001, b=1000, c=0.001):\n",
    "    x1=(2*c)/((-m.sqrt(b**2-4*a*c)-b))\n",
    "    \n",
    "    x2=c/(a*x1)\n",
    "    return(x1, x2)\n",
    "\n",
    "print(rootc())\n",
    "\n",
    "\n",
    "a=c=0.001\n",
    "b=1000\n",
    "x1, x2=rootc()\n",
    "d2=a*x2**2+b*x2+c\n",
    "d1=a*x1**2+b*x1+c\n",
    "\n",
    "print(d1, d2)"
   ]
  },
  {
   "cell_type": "markdown",
   "metadata": {},
   "source": [
    "6\\. Write a program that implements the function $f(x)=x(x−1)$\n",
    "\n",
    "(a) Calculate the derivative of the function at the point $x = 1$ using the derivative definition:\n",
    "\n",
    "$$\n",
    "\\frac{{\\rm d}f}{{\\rm d}x} = \\lim_{\\delta\\to0} \\frac{f(x+\\delta)-f(x)}{\\delta}\n",
    "$$\n",
    "\n",
    "with $\\delta = 10^{−2}$. Calculate the true value of the same derivative analytically and compare with the answer your program gives. The two will not agree perfectly. Why not?\n",
    "\n",
    "(b) Repeat the calculation for $\\delta = 10^{−4}, 10^{−6}, 10^{−8}, 10^{−10}, 10^{−12}$ and $10^{−14}$. How does the accuracy scales with $\\delta$?"
   ]
  },
  {
   "cell_type": "code",
   "execution_count": 52,
   "metadata": {},
   "outputs": [
    {
     "name": "stdout",
     "output_type": "stream",
     "text": [
      "1.010000000000001\n",
      "1.0000999999998899\n",
      "1.0000009999177333\n",
      "1.0000000039225287\n",
      "1.000000082840371\n",
      "1.0000889005833413\n",
      "0.9992007221626509\n"
     ]
    },
    {
     "data": {
      "image/png": "[encoded data removed]",
      "text/plain": [
       "<Figure size 432x288 with 1 Axes>"
      ]
     },
     "metadata": {
      "needs_background": "light"
     },
     "output_type": "display_data"
    }
   ],
   "source": [
    "#rispondere alle domande\n",
    "\n",
    "import matplotlib.pyplot as plt\n",
    "\n",
    "def func(x):\n",
    "    f=x*(x-1)\n",
    "    return f\n",
    "\n",
    "delta=1\n",
    "delt=[]\n",
    "deri=[]\n",
    "for i in range(7):\n",
    "    delta=delta/100\n",
    "    delt.append(delta)\n",
    "    der=(func(1+delta)-func(1))/delta\n",
    "    print(der)\n",
    "    deri.append(der-1)\n",
    "    \n",
    "plt.scatter(delt, deri)\n",
    "plt.xscale('log', base=10)"
   ]
  },
  {
   "cell_type": "markdown",
   "metadata": {},
   "source": [
    "7\\. Consider the integral of the semicircle of radius 1:\n",
    "$$\n",
    "I=\\int_{-1}^{1} \\sqrt(1-x^2) {\\rm d}x\n",
    "$$\n",
    "which it's known to be $I=\\frac{\\pi}{2}=1.57079632679...$.\n",
    "Alternatively we can use the Riemann definition of the integral:\n",
    "$$\n",
    "I=\\lim_{N\\to\\infty} \\sum_{k=1}^{N} h y_k \n",
    "$$\n",
    "\n",
    "with $h=2/N$ the width of each of the $N$ slices the domain is divided into and where\n",
    "$y_k$ is the value of the function at the $k-$th slice.\n",
    "\n",
    "(a) Write a programe to compute the integral with $N=100$. How does the result compares to the true value?\n",
    "\n",
    "(b) How much can $N$ be increased if the computation needs to be run in less than a second? What is the gain in running it for 1 minute? \n"
   ]
  },
  {
   "cell_type": "code",
   "execution_count": 35,
   "metadata": {},
   "outputs": [
    {
     "name": "stdout",
     "output_type": "stream",
     "text": [
      "1.5707963266020308\n",
      "1.5707963284253852\n",
      "952 ms ± 3.17 ms per loop (mean ± std. dev. of 7 runs, 1 loop each)\n",
      "59 s ± 195 ms per loop (mean ± std. dev. of 7 runs, 1 loop each)\n"
     ]
    }
   ],
   "source": [
    "import math as m\n",
    "import time\n",
    "\n",
    "\n",
    "\n",
    "def I(N):\n",
    "    h=2/N\n",
    "    x=-1\n",
    "    i=0\n",
    "    for n in range(N):\n",
    "        i+=h*m.sqrt(1-x**2)\n",
    "        x=x+h\n",
    "    return i\n",
    "\n",
    "n1s=6500000\n",
    "n1m=400000000\n",
    "\n",
    "\"\"\"\n",
    "delta=0\n",
    "while delta<60:\n",
    "    start= time.time()\n",
    "    i=I(n)\n",
    "    end=time.time()\n",
    "    delta=end-start\n",
    "    print(n)\n",
    "    print(delta)\n",
    "    n=n*2\n",
    "\n",
    "print(n)\n",
    "print(i)\n",
    "print(delta)\n",
    "\"\"\"\n",
    "#I(100)\n",
    "\n",
    "#%timeit for x in range(1,100): I(x)\n",
    "\n",
    "print(I(n1s))\n",
    "print(I(n1m))\n",
    "\n",
    "%timeit I(n1s)\n",
    "%timeit I(n1m)\n",
    "\n",
    "#x=timeit.repeat(stmt=\"I(100)\", setup=\"from __main__ import I(N)\",number=1)\n",
    "#print(x)"
   ]
  },
  {
   "cell_type": "code",
   "execution_count": null,
   "metadata": {},
   "outputs": [],
   "source": []
  }
 ],
 "metadata": {
  "kernelspec": {
   "display_name": "Python 3",
   "language": "python",
   "name": "python3"
  },
  "language_info": {
   "codemirror_mode": {
    "name": "ipython",
    "version": 3
   },
   "file_extension": ".py",
   "mimetype": "text/x-python",
   "name": "python",
   "nbconvert_exporter": "python",
   "pygments_lexer": "ipython3",
   "version": "3.8.8"
  }
 },
 "nbformat": 4,
 "nbformat_minor": 2
}
