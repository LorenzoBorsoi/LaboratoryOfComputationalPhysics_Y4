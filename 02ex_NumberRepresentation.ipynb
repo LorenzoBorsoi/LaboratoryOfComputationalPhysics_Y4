{
 "cells": [
  {
   "cell_type": "markdown",
   "source": [
    "1\\. Write a function that converts number representation (bin<->dec<->hex)"
   ],
   "metadata": {}
  },
  {
   "cell_type": "code",
   "execution_count": 18,
   "source": [
    "# exercise solution\n",
    "# implementing a class because it's easier to ask for a specific representation\n",
    "# only works for positive integers\n",
    "\n",
    "\n",
    "class Number:\n",
    "\n",
    "    # look up tables for hexadecimal symbol conversion\n",
    "\n",
    "    lookup_table_hex2bin = {\n",
    "        \"1\" : \"0001\",\n",
    "        \"2\" : \"0010\",\n",
    "        \"3\" : \"0011\",\n",
    "        \"4\" : \"0100\",\n",
    "        \"5\" : \"0101\",\n",
    "        \"6\" : \"0110\",\n",
    "        \"7\" : \"0111\",\n",
    "        \"8\" : \"1000\",\n",
    "        \"9\" : \"1001\",\n",
    "        \"A\" : \"1010\",\n",
    "        \"B\" : \"1011\",\n",
    "        \"C\" : \"1100\",\n",
    "        \"D\" : \"1101\",\n",
    "        \"E\" : \"1110\",\n",
    "        \"F\" : \"1111\"\n",
    "    }\n",
    "\n",
    "    lookup_table_bin2hex = dict((v,k) for k,v in lookup_table_hex2bin.items())\n",
    "\n",
    "    lookup_table_hex2dec = {\n",
    "        '1' : 1,\n",
    "        '2' : 2,\n",
    "        '3' : 3,\n",
    "        '4' : 4,\n",
    "        '5' : 5,\n",
    "        '6' : 6,\n",
    "        '7' : 7,\n",
    "        '8' : 8,\n",
    "        '9' : 9,\n",
    "        'A' : 10,\n",
    "        'B' : 11,\n",
    "        'C' : 12,\n",
    "        'D' : 13,\n",
    "        'E' : 14,\n",
    "        'F' : 15\n",
    "    }\n",
    "\n",
    "    lookup_table_dec2hex = dict((v,k) for k,v in lookup_table_hex2dec.items())\n",
    "\n",
    "    def __init__(self,num: str,typen: str):\n",
    "        self.value = num\n",
    "        self.type = typen\n",
    "\n",
    "    def set_value(self,num: str,typen: str):\n",
    "        self.value = num\n",
    "        self.type = typen\n",
    "\n",
    "    # binary representation \n",
    "    def binary(self):\n",
    "        # binary to binary\n",
    "        if self.type == \"bin\":\n",
    "            print(\"Binary representation: {}\".format(self.value))\n",
    "        \n",
    "        # decimal to binary\n",
    "        elif self.type == \"dec\":\n",
    "            binary_rep = \"\"\n",
    "            temp_n = int(self.value)\n",
    "            while temp_n > 0:\n",
    "                binary_rep += str(temp_n % 2)\n",
    "                temp_n = temp_n // 2\n",
    "            \n",
    "            print(\"The binary representation of {} is {}\".format(self.value,binary_rep))\n",
    "\n",
    "        # hexadecimal to binary\n",
    "        elif self.type == \"hex\":\n",
    "            binary_rep = \"\"\n",
    "            for digit in self.value[::-1]:\n",
    "                binary_rep = self.lookup_table_hex2bin[digit] + binary_rep\n",
    "            print(\"The binary representation of {} is {}\".format(self.value,binary_rep))\n",
    "        else:\n",
    "            print(\"Invalid representation type. Specify using set_value method.\")\n",
    "    \n",
    "    # hexadecimal representation\n",
    "    def hex(self):\n",
    "        # binary to hexadecimal\n",
    "        hex_rep = \"\"\n",
    "        if self.type == \"bin\":\n",
    "            \n",
    "            #slicing up in groups of 4\n",
    "            for n in range(0,len(self.value),4):\n",
    "                # a 'nibble' is a group of 4 bits\n",
    "                nibble=self.value[::-1][n:n+4][::-1]\n",
    "                \n",
    "                # correcting short values\n",
    "                if len(nibble)<4:\n",
    "                    nibble='0'*(4-len(nibble)%4)+nibble\n",
    "\n",
    "                hex_rep=self.lookup_table_bin2hex[nibble]+hex_rep\n",
    "            \n",
    "            print(\"The hexadecimal representation of {} is {}\".format(self.value,hex_rep))\n",
    "        \n",
    "        # decimal to hexadecimal\n",
    "        elif self.type == \"dec\":\n",
    "            temp_n = int(self.value)\n",
    "            hex_rep = \"\"\n",
    "            \n",
    "            while temp_n > 0:\n",
    "                hex_rep = str(self.lookup_table_dec2hex[temp_n%16]) + hex_rep\n",
    "                temp_n = temp_n // 16\n",
    "\n",
    "            print(\"The hexadecimal representation of {} is {}\".format(self.value,hex_rep))\n",
    "\n",
    "        else:\n",
    "            print(\"Invalid representation type. Specify using set_value method.\")\n",
    "\n",
    "    def dec(self):\n",
    "        # binary to decimal\n",
    "        if self.type == \"bin\":\n",
    "            decimal = 0\n",
    "            for exp,digit in enumerate(self.value[::-1]):\n",
    "                decimal += int(digit)*2**exp\n",
    "            \n",
    "            print(\"The decimal representation of {} is {}\".format(self.value,decimal))\n",
    "\n",
    "        # hexadecimal to decimal\n",
    "        elif self.type == \"hex\":\n",
    "            decimal = 0\n",
    "            for exp,digit in enumerate(self.value[::-1]):\n",
    "                decimal += int(self.lookup_table_hex2dec[digit])*16**exp\n",
    "\n",
    "            print(\"The decimal representation of {} is {}\".format(self.value,decimal))\n",
    "\n",
    "        else:\n",
    "            print(\"Invalid representation type. Specify using set_value method.\")\n",
    "\n",
    "                \n",
    "\n",
    "# let's test this\n",
    "\n",
    "\n",
    "num = Number(\"27\",\"dec\")\n",
    "num.binary()\n",
    "num.hex()\n",
    "num.set_value(\"3A\",\"hex\")\n",
    "num.binary()\n",
    "num.dec()\n",
    "num.set_value(\"1101101101100\",\"bin\")\n",
    "num.hex()\n",
    "num.dec()\n"
   ],
   "outputs": [
    {
     "output_type": "stream",
     "name": "stdout",
     "text": [
      "The binary representation of 27 is 11011\n",
      "The hexadecimal representation of 27 is 1B\n",
      "The binary representation of 3A is 00111010\n",
      "The decimal representation of 3A is 58\n",
      "The hexadecimal representation of 1101101101100 is 1B6C\n",
      "The decimal representation of 1101101101100 is 7020\n"
     ]
    }
   ],
   "metadata": {}
  },
  {
   "cell_type": "markdown",
   "source": [
    "2\\. Write a function that converts a 32 bit word into a single precision floating point (i.e. interprets the various bits as sign, mantissa and exponent)"
   ],
   "metadata": {}
  },
  {
   "cell_type": "code",
   "execution_count": null,
   "source": [
    "def word2float(num: str):\n",
    "    "
   ],
   "outputs": [],
   "metadata": {}
  },
  {
   "cell_type": "markdown",
   "source": [
    "3\\. Write a program to determine the underflow and overflow limits (within a factor of 2) for python on your computer. \n",
    "\n",
    "**Tips**: define two variables inizialized to 1 and halve/double them enough time to exceed the under/over-flow limits  "
   ],
   "metadata": {}
  },
  {
   "cell_type": "markdown",
   "source": [
    "4\\. Write a program to determine the machine precision\n",
    "\n",
    "**Tips**: define a new variable by adding a smaller and smaller value (proceeding similarly to prob. 2) to an original variable and check the point where the two are the same "
   ],
   "metadata": {}
  },
  {
   "cell_type": "markdown",
   "source": [
    "5\\. Write a function that takes in input three parameters $a$, $b$ and $c$ and prints out the two solutions to the quadratic equation $ax^2+bx+c=0$ using the standard formula:\n",
    "$$\n",
    "x=\\frac{-b\\pm\\sqrt{b^2-4ac}}{2a}\n",
    "$$\n",
    "\n",
    "(a) use the program to compute the solution for $a=0.001$, $b=1000$ and $c=0.001$\n",
    "\n",
    "(b) re-express the standard solution formula by multiplying top and bottom by $-b\\mp\\sqrt{b^2-4ac}$ and again find the solution for $a=0.001$, $b=1000$ and $c=0.001$. How does it compare with what previously obtained? Why?\n",
    "\n",
    "(c) write a function that compute the roots of a quadratic equation accurately in all cases"
   ],
   "metadata": {}
  },
  {
   "cell_type": "markdown",
   "source": [
    "6\\. Write a program that implements the function $f(x)=x(x−1)$\n",
    "\n",
    "(a) Calculate the derivative of the function at the point $x = 1$ using the derivative definition:\n",
    "\n",
    "$$\n",
    "\\frac{{\\rm d}f}{{\\rm d}x} = \\lim_{\\delta\\to0} \\frac{f(x+\\delta)-f(x)}{\\delta}\n",
    "$$\n",
    "\n",
    "with $\\delta = 10^{−2}$. Calculate the true value of the same derivative analytically and compare with the answer your program gives. The two will not agree perfectly. Why not?\n",
    "\n",
    "(b) Repeat the calculation for $\\delta = 10^{−4}, 10^{−6}, 10^{−8}, 10^{−10}, 10^{−12}$ and $10^{−14}$. How does the accuracy scales with $\\delta$?"
   ],
   "metadata": {}
  },
  {
   "cell_type": "code",
   "execution_count": null,
   "source": [
    "def deriv(f,x,delta):\n",
    "    return (f(x+delta)-f(x))/delta\n",
    "\n",
    "print(\"Derivative of x(x-1) evaluated at 1 using finite difference 0.01: \\n\",deriv(lambda x: x*(x-1),1,0.01))\n",
    "\n",
    "\n",
    "for ex in [4,6,8,10,12,14]:\n",
    "    d = float(\"1e-{}\".format(ex))\n",
    "    print(deriv(lambda x: x*(x-1),1,d))\n",
    "    \n"
   ],
   "outputs": [
    {
     "output_type": "stream",
     "name": "stdout",
     "text": [
      "Derivative of x(x-1) evaluated at 1 using finite difference 0.01: \n",
      " 1.010000000000001\n",
      "1.0000999999998899\n",
      "1.0000009999177333\n",
      "1.0000000039225287\n",
      "1.000000082840371\n",
      "1.0000889005833413\n",
      "0.9992007221626509\n"
     ]
    }
   ],
   "metadata": {}
  },
  {
   "cell_type": "markdown",
   "source": [
    "7\\. Consider the integral of the semicircle of radius 1:\n",
    "$$\n",
    "I=\\int_{-1}^{1} \\sqrt(1-x^2) {\\rm d}x\n",
    "$$\n",
    "which it's known to be $I=\\frac{\\pi}{2}=1.57079632679...$.\n",
    "Alternatively we can use the Riemann definition of the integral:\n",
    "$$\n",
    "I=\\lim_{N\\to\\infty} \\sum_{k=1}^{N} h y_k \n",
    "$$\n",
    "\n",
    "with $h=2/N$ the width of each of the $N$ slices the domain is divided into and where\n",
    "$y_k$ is the value of the function at the $k-$th slice.\n",
    "\n",
    "(a) Write a programe to compute the integral with $N=100$. How does the result compares to the true value?\n",
    "\n",
    "(b) How much can $N$ be increased if the computation needs to be run in less than a second? What is the gain in running it for 1 minute? \n"
   ],
   "metadata": {}
  },
  {
   "cell_type": "code",
   "execution_count": null,
   "source": [],
   "outputs": [],
   "metadata": {}
  }
 ],
 "metadata": {
  "kernelspec": {
   "name": "python3",
   "display_name": "Python 3.8.8 64-bit ('base': conda)"
  },
  "language_info": {
   "codemirror_mode": {
    "name": "ipython",
    "version": 3
   },
   "file_extension": ".py",
   "mimetype": "text/x-python",
   "name": "python",
   "nbconvert_exporter": "python",
   "pygments_lexer": "ipython3",
   "version": "3.8.8"
  },
  "interpreter": {
   "hash": "a3c34d53b0b4d70da62f7b5a080d8239056f030c25ec722ce0a2734d501a65c4"
  }
 },
 "nbformat": 4,
 "nbformat_minor": 2
}