{
 "cells": [
  {
   "cell_type": "markdown",
   "metadata": {},
   "source": [
    "1\\. Write a function that converts number representation (bin<->dec<->hex)"
   ]
  },
  {
   "cell_type": "code",
   "execution_count": 46,
   "outputs": [
    {
     "name": "stdout",
     "output_type": "stream",
     "text": [
      "8 to base bin -> 1000\n",
      "8 to base dec -> 8\n",
      "8 to base hex -> 8\n",
      "-15 to base bin -> -1111\n",
      "-15 to base dec -> -15\n",
      "-15 to base hex -> -F\n",
      "1234 to base bin -> 10011010010\n",
      "1234 to base dec -> 1234\n",
      "1234 to base hex -> 4D2\n",
      "-14100 to base bin -> -11011100010100\n",
      "-14100 to base dec -> -14100\n",
      "-14100 to base hex -> -3714\n"
     ]
    }
   ],
   "source": [
    "# This converts any integer to a representation according to a list of symbols 'base' and stores it in 'result'\n",
    "def to_base(number, base, result):\n",
    "    size = len(base)\n",
    "    if number < 0:\n",
    "        result.append(\"-\")\n",
    "        number *= -1\n",
    "    if number >= size:\n",
    "        to_base(number / size, base, result)\n",
    "    result.append(base[int(number % size)])\n",
    "\n",
    "\n",
    "# Some examples\n",
    "arr = []\n",
    "operands = [8, -15, 1234, -14100]\n",
    "bases = {\"bin\": \"01\", \"dec\": \"0123456789\", \"hex\": \"0123456789ABCDEF\"}\n",
    "for num in operands:\n",
    "    for key, value in bases.items():\n",
    "        to_base(num, value, arr)\n",
    "        print(num, \"to base\", key, \"->\", end=\" \")\n",
    "        print(*arr, sep=\"\")\n",
    "        arr.clear()"
   ],
   "metadata": {
    "collapsed": false,
    "pycharm": {
     "name": "#%%\n"
    }
   }
  },
  {
   "cell_type": "markdown",
   "metadata": {},
   "source": [
    "2\\. Write a function that converts a 32 bit word into a single precision floating point (i.e. interprets the various\n",
    "bits as sign, mantissa and exponent)"
   ]
  },
  {
   "cell_type": "code",
   "execution_count": 47,
   "outputs": [
    {
     "name": "stdout",
     "output_type": "stream",
     "text": [
      "Converting ' Anda ' into a float.\n",
      "\tWord bits: 01000001 01101110 01100100 01100001 \n",
      "\tSign: 0 => +\n",
      "\tExponent: 10000010 => 3\n",
      "\tMantissa: 11011100110010001100001 => 1.8624382019042969\n",
      "' Anda ' bits into a float => 14.899505615234375\n",
      "\n",
      "Converting '  oh! ' into a float.\n",
      "\tWord bits: 00100000 01101111 01101000 00100001 \n",
      "\tSign: 0 => +\n",
      "\tExponent: 01000000 => -63\n",
      "\tMantissa: 11011110110100000100001 => 1.8703651428222656\n",
      "'  oh! ' bits into a float => 2.0278539511890612e-19\n",
      "\n",
      "Converting ' ññ ' into a float.\n",
      "\tWord bits: 11000011 10110001 11000011 10110001 \n",
      "\tSign: 1 => -\n",
      "\tExponent: 10000111 => 8\n",
      "\tMantissa: 01100011100001110110001 => 1.777569055557251\n",
      "' ññ ' bits into a float => -455.05767822265625\n",
      "\n",
      "Converting ' 🐒 ' into a float.\n",
      "\tWord bits: 11110000 10011111 10010000 10010010 \n",
      "\tSign: 1 => -\n",
      "\tExponent: 11100001 => 98\n",
      "\tMantissa: 00111111001000010010010 => 1.9863977432250977\n",
      "' 🐒 ' bits into a float => -6.2951457287282384e+29\n",
      "\n",
      "Converting ' ⚠️ ' into a float.\n",
      "\tWord bits: 11100010 10011010 10100000 11101111 10111000 10001111 \n",
      "Couldn't convert ' ⚠️ ' into a float. Size is not 32 bits.\n",
      "\n"
     ]
    }
   ],
   "source": [
    "# A 32-bit word is a string of 2 to 4 chars, because each char occupies 1 to 2 bytes in memory.\n",
    "# In particular, the ascii chars occupy 1 byte, while some utf-8 chars occupy 2 bytes or even 6 bytes.\n",
    "# To convert the word bits into a floating point we need to access the raw bytes via bytearray() and check that it's\n",
    "#   indeed a 32-bit word.\n",
    "def word_to_float(word):\n",
    "    bin_arr = 0\n",
    "    byte_array = bytearray(word, 'utf-8')\n",
    "    if len(byte_array) != 4:\n",
    "        return 0\n",
    "    for i in range(len(byte_array)):\n",
    "        bin_arr += byte_array[i]\n",
    "        if i != len(byte_array) - 1:\n",
    "            bin_arr = bin_arr << 8\n",
    "    sign = bin_arr >> 31\n",
    "    print(\"\\tSign:\", format(sign, '01b'), \"=>\", (sign == 1) * \"-\" + (sign == 0) * \"+\")\n",
    "    exponent = (bin_arr >> 23) & ~(1 << 8)\n",
    "    print(\"\\tExponent:\", format(exponent, '08b'), \"=>\", exponent - 127)\n",
    "    mantissa = bin_arr & ~((2 ** 9 - 1) << 23)\n",
    "    print(\"\\tMantissa:\", format(mantissa, '023b'), \"=>\", end= \" \")\n",
    "    mantissa_bin = []\n",
    "    to_base(mantissa, \"01\", mantissa_bin)\n",
    "    mantissa = 1.0\n",
    "    for element, i in zip(mantissa_bin, range(-1,-23,-1)):\n",
    "        mantissa += (element == '1') * (2 ** i)\n",
    "    print(mantissa)\n",
    "    return ((sign == 0) - (sign == 1)) * mantissa * (2 ** (exponent - 127))\n",
    "\n",
    "\n",
    "# Run word_to_float on several examples\n",
    "for example in [\"Anda\", \" oh!\", \"ññ\", \"🐒\", \"⚠️\"]:\n",
    "    print(\"Converting\", \"'\", example, \"'\", \"into a float.\\n\\tWord bits: \", end=\"\")\n",
    "    for plot in bytearray(example, 'utf-8'):\n",
    "        print(format(plot, '08b'), end=\" \")\n",
    "    print()\n",
    "    w_to_f = word_to_float(example)\n",
    "    if w_to_f == 0:\n",
    "        print(\"Couldn't convert '\", example, \"' into a float. Size is not 32 bits.\", end=\"\\n\\n\")\n",
    "    else:\n",
    "        print(\"'\", example,\"' bits into a float =>\", w_to_f, end=\"\\n\\n\")"
   ],
   "metadata": {
    "collapsed": false,
    "pycharm": {
     "name": "#%%\n"
    }
   }
  },
  {
   "cell_type": "markdown",
   "metadata": {},
   "source": [
    "3\\. Write a program to determine the underflow and overflow limits (within a factor of 2) for python on your computer. \n",
    "\n",
    "**Tips**: define two variables inizialized to 1 and halve/double them enough time to exceed the under/over-flow limits  "
   ]
  },
  {
   "cell_type": "code",
   "execution_count": 48,
   "outputs": [
    {
     "name": "stdout",
     "output_type": "stream",
     "text": [
      "Max float: 8.98846567431158e+307\n",
      "Min float: 5e-324\n"
     ]
    }
   ],
   "source": [
    "maxf = 1.0\n",
    "minf = 1.0\n",
    "overflow = False\n",
    "underflow = False\n",
    "while not (overflow and underflow):\n",
    "    if not overflow:\n",
    "        maxf *= 2\n",
    "        if maxf * 2 == float('inf'):\n",
    "            print(\"Max float:\", maxf)\n",
    "            overflow = True\n",
    "    if not underflow:\n",
    "        minf /= 2\n",
    "        if minf / 2 == float(0):\n",
    "            print(\"Min float:\", minf)\n",
    "            underflow = True"
   ],
   "metadata": {
    "collapsed": false,
    "pycharm": {
     "name": "#%%\n"
    }
   }
  },
  {
   "cell_type": "markdown",
   "metadata": {},
   "source": [
    "4\\. Write a program to determine the machine precision\n",
    "\n",
    "**Tips**: define a new variable by adding a smaller and smaller value (proceeding similarly to prob. 2) to an original variable and check the point where the two are the same "
   ]
  },
  {
   "cell_type": "code",
   "execution_count": 49,
   "outputs": [
    {
     "name": "stdout",
     "output_type": "stream",
     "text": [
      "Precision is: 2.220446049250313e-16\n"
     ]
    }
   ],
   "source": [
    "testf = 1.0\n",
    "addf = 1.0\n",
    "while True:\n",
    "    testf, addf = testf + addf, addf / 2\n",
    "    if testf + addf == testf:\n",
    "        print(\"Precision is:\", addf * 2)\n",
    "        break"
   ],
   "metadata": {
    "collapsed": false,
    "pycharm": {
     "name": "#%%\n"
    }
   }
  },
  {
   "cell_type": "markdown",
   "metadata": {},
   "source": [
    "5\\. Write a function that takes in input three parameters $a$, $b$ and $c$ and prints out the two solutions to the\n",
    "quadratic equation $ax^2+bx+c=0$ using the standard formula:\n",
    "$\n",
    "x=\\frac{-b\\pm\\sqrt{b^2-4ac}}{2a}\n",
    "$\n",
    "\n",
    "(a) use the program to compute the solution for $a=0.001$, $b=1000$ and $c=0.001$\n",
    "\n",
    "(b) re-express the standard solution formula by multiplying top and bottom by $-b\\mp\\sqrt{b^2-4ac}$ and again\n",
    "find the solution for $a=0.001$, $b=1000$ and $c=0.001$. How does it compare with what previously obtained? Why?\n",
    "\n",
    "(c) write a function that compute the roots of a quadratic equation accurately in all cases"
   ]
  },
  {
   "cell_type": "code",
   "execution_count": 50,
   "outputs": [
    {
     "name": "stdout",
     "output_type": "stream",
     "text": [
      "a) [-9.999894245993346e-07, -999999.999999]\n",
      "b) [-9.999785106639132e-07, -999989.0859481583]\n",
      "c) [-1.000000000001e-06, -999999.999999]\n",
      "The error on the first root is due to the size difference between the factors that causes problems in the difference operation. With the separation of the computation in c) we avoid that difference, always summing the factors.\n"
     ]
    }
   ],
   "source": [
    "def sqrts(a, b, c):\n",
    "    root = (b ** 2.0 - 4.0 * a * c) ** 0.5\n",
    "    return [(-b + root) / (2 * a), (-b - root) / (2 * a)]\n",
    "\n",
    "\n",
    "def sqrts_2(a, b, c):\n",
    "    root = (b ** 2.0 - 4.0 * a * c) ** 0.5\n",
    "    return [(b ** 2 - root ** 2) / (2 * a * (-b - root)), (b ** 2 - root ** 2) / (2 * a * (-b + root))]\n",
    "\n",
    "\n",
    "def stable_sqrt(a, b, c):\n",
    "    x1 = (-b + ((b < 0) - (b > 0)) * (b ** 2.0 - 4.0 * a * c) ** 0.5) / (2 * a)\n",
    "    x2 = c / (a * x1)\n",
    "    return [x2, x1]\n",
    "\n",
    "\n",
    "print(\"a)\", sqrts(0.001, 1000, 0.001))\n",
    "print(\"b)\", sqrts_2(0.001, 1000, 0.001))\n",
    "print(\"c)\", stable_sqrt(0.001, 1000, 0.001))\n",
    "print(\"The error on the first root is due to the size difference between the factors that causes problems in the\",\n",
    "      \"difference operation. With the separation of the computation in c) we avoid that difference, always summing the\",\n",
    "      \"factors.\")"
   ],
   "metadata": {
    "collapsed": false,
    "pycharm": {
     "name": "#%%\n"
    }
   }
  },
  {
   "cell_type": "markdown",
   "metadata": {},
   "source": [
    "6\\. Write a program that implements the function $f(x)=x(x−1)$\n",
    "\n",
    "(a) Calculate the derivative of the function at the point $x = 1$ using the derivative definition:\n",
    "\n",
    "$\n",
    "\\frac{{\\rm d}f}{{\\rm d}x} = \\lim_{\\delta\\to0} \\frac{f(x+\\delta)-f(x)}{\\delta}\n",
    "$\n",
    "\n",
    "with $\\delta = 10^{−2}$. Calculate the true value of the same derivative analytically and compare with the answer your program gives. The two will not agree perfectly. Why not?\n",
    "\n",
    "(b) Repeat the calculation for $\\delta = 10^{−4}, 10^{−6}, 10^{−8}, 10^{−10}, 10^{−12}$ and $10^{−14}$. How does the accuracy scales with $\\delta$?"
   ]
  },
  {
   "cell_type": "code",
   "execution_count": 51,
   "outputs": [],
   "source": [
    "import math as m\n",
    "import matplotlib.pyplot as plt\n",
    "plt.style.use('dark_background')\n",
    "\n",
    "\n",
    "def foo(x):\n",
    "    return x * (x - 1)\n",
    "\n",
    "\n",
    "def derivative(function, point, precision):\n",
    "    return (function(point + precision) - function(point)) / precision\n"
   ],
   "metadata": {
    "collapsed": false,
    "pycharm": {
     "name": "#%%\n"
    }
   }
  },
  {
   "cell_type": "code",
   "execution_count": 52,
   "outputs": [
    {
     "name": "stdout",
     "output_type": "stream",
     "text": [
      "Derivate at x = 1 with p = 1e-02:\t1.010000000000001\n",
      "Derivate at x = 1 with p = 1e-04:\t1.0000999999998899\n",
      "Derivate at x = 1 with p = 1e-06:\t1.0000009999177333\n",
      "Derivate at x = 1 with p = 1e-08:\t1.0000000039225287\n",
      "Derivate at x = 1 with p = 1e-10:\t1.000000082840371\n",
      "Derivate at x = 1 with p = 1e-12:\t1.0000889005833413\n"
     ]
    },
    {
     "data": {
      "text/plain": "<Figure size 432x288 with 3 Axes>",
      "image/png": "[encoded data removed]"
     },
     "metadata": {},
     "output_type": "display_data"
    }
   ],
   "source": [
    "acc = []\n",
    "for p in range(1, 17, 1):\n",
    "    der_f = derivative(foo, 1.0, 10.0 ** -p)\n",
    "    if p == 2 or p == 4 or p == 6 or p == 8 or p == 10 or p == 12:\n",
    "        print(f\"Derivate at x = 1 with p = {10 ** -p:.0e}:\\t{der_f}\")\n",
    "    #print(f\"Accuracy at x = 1 with p = {10 ** -p:.0e}:\\t{(1 - m.fabs(result - 1)) * 100:.5f}%\")\n",
    "    acc.append((1 - abs(der_f - 1)) * 100)\n",
    "fig, (ax1, ax2, ax3) = plt.subplots(3, 1, sharex=True, gridspec_kw={'height_ratios': [3, 1, 1]})\n",
    "fig.subplots_adjust(hspace=0.075)  # adjust space between axes\n",
    "ax1.plot(range(3, 15, 1), acc[2:14:1], 'o', markersize=4, label=\"Accuracy of derivative\")\n",
    "ax2.plot([1, 2, 15], [acc[0],acc[1],acc[14]], 'o', markersize=4, label=\"Accuracy of derivative\")\n",
    "ax3.plot(16, acc[15], 'o', markersize=5, label=\"Accuracy of derivative\")\n",
    "# zoom-in / limit the view to different portions of the data\n",
    "ax1.set_ylim(99.88, 100.01)   # most of the data\n",
    "ax3.set_ylim(-0.5, 0.5) # outlier\n",
    "ax2.set_ylim(88, 99.5)    # outlier\n",
    "# hide the spines between ax and ax3\n",
    "ax1.spines.bottom.set_visible(False)\n",
    "ax2.spines.top.set_visible(False)\n",
    "ax2.spines.bottom.set_visible(False)\n",
    "ax3.spines.top.set_visible(False)\n",
    "# ticks top ax1 and bottom ax3 only\n",
    "ax1.tick_params(labeltop=True)\n",
    "ax1.xaxis.tick_top()\n",
    "ax2.xaxis.set_visible(False)\n",
    "ax3.xaxis.tick_bottom()\n",
    "ax3.yaxis.tick_right()\n",
    "plt.xlabel(\"$-log_{10}$ Precision\")\n",
    "ax2.set_ylabel(\"Accuracy\")\n",
    "plt.setp(ax1, yticks=[x / 100 for x in range(9989, 10000, 5)],\n",
    "         yticklabels=[str(x / 100) + \" %\" for x in range(9989, 10000, 5)])\n",
    "plt.setp(ax2, yticks=[x for x in range(89, 99, 4)], yticklabels=[str(x) + \" %\" for x in range(89, 99, 4)])\n",
    "plt.setp(ax3, yticks=[0], yticklabels=[\"0 %\"])\n",
    "ax1.axvline(x=16, color=\"red\", label=\"max float precision\")\n",
    "ax1.axvline(x=8, color=\"gold\", label=\"max float^2 precision\")\n",
    "#ax1.axhline(y=100+1e-16, markersize=1)\n",
    "ax2.axvline(x=16, color=\"red\", label=\"max float precision\")\n",
    "ax3.axvline(x=16, color=\"red\", label=\"max float precision\")\n",
    "ax3.axvline(x=8, color=\"gold\", label=\"max float^2 precision\")\n",
    "plt.xticks(range(1, 17, 1))\n",
    "d = .6  # proportion of vertical to horizontal extent of the slanted line\n",
    "kwargs = dict(marker=[(-1, -d), (1, d)], markersize=12,\n",
    "              linestyle=\"none\", color='white', mec='white', mew=1, clip_on=False)\n",
    "ax1.plot([0, 0], transform=ax1.transAxes, **kwargs)\n",
    "ax2.plot([0, 1], [0, 1], [1, 0], transform=ax2.transAxes, **kwargs)\n",
    "ax3.plot([0, 1], [1, 1], transform=ax3.transAxes, **kwargs)\n",
    "ax3.legend(loc=\"center\")\n",
    "plt.show()\n"
   ],
   "metadata": {
    "collapsed": false,
    "pycharm": {
     "name": "#%% @hidden_cell\n"
    }
   }
  },
  {
   "cell_type": "markdown",
   "source": [
    "The numeric derivate is not exactly the analytic one, because floating points do not have infinite precision.\n",
    "\n",
    "We see that accuracy caps for $10^{-8}$, this is because if $x < 10^{-8}$, the sums using $x^2$ won't add up.\n",
    "In particular, we see that accuracy plummets as we go approach the floating point precision: at that point, no sums\n",
    "   add up.\n"
   ],
   "metadata": {
    "collapsed": false,
    "pycharm": {
     "name": "#%% md\n"
    }
   }
  },
  {
   "cell_type": "markdown",
   "metadata": {
    "pycharm": {
     "name": "#%% md\n"
    }
   },
   "source": [
    "7\\. Consider the integral of the semicircle of radius 1:\n",
    "$\n",
    "I=\\int_{-1}^{1} \\sqrt(1-x^2) {\\rm d}x\n",
    "$\n",
    "which it's known to be $I=\\frac{\\pi}{2}=1.57079632679...$.\n",
    "Alternatively we can use the Riemann definition of the integral:\n",
    "$\n",
    "I=\\lim_{N\\to\\infty} \\sum_{k=1}^{N} h y_k \n",
    "$\n",
    "\n",
    "with $h=2/N$ the width of each of the $N$ slices the domain is divided into and where\n",
    "$y_k$ is the value of the function at the $k-$th slice.\n",
    "\n",
    "(a) Write a programe to compute the integral with $N=100$. How does the result compares to the true value?\n",
    "\n",
    "(b) How much can $N$ be increased if the computation needs to be run in less than a second? What is the gain in running it for 1 minute? \n"
   ]
  },
  {
   "cell_type": "code",
   "execution_count": 53,
   "metadata": {},
   "outputs": [],
   "source": [
    "def riemann(limits, steps):\n",
    "    integral = 0.0\n",
    "    domain_point = limits[0]\n",
    "    domain_step = (limits[1] - limits[0]) / steps\n",
    "    for i in range(steps):\n",
    "        integral += m.sqrt(1.0 - domain_point ** 2.0)\n",
    "        domain_point += domain_step\n",
    "    return 2 * integral / steps"
   ]
  },
  {
   "cell_type": "code",
   "execution_count": 54,
   "outputs": [
    {
     "name": "stdout",
     "output_type": "stream",
     "text": [
      "Riemann for n = 1e+02:\t1.5691342555492493\n",
      "Accuracy for n = 1e+02:\t 99.8941892581937338 %\n",
      "Riemann for n = 1e+03:\t1.5707437385010707\n",
      "Accuracy for n = 1e+03:\t 99.9966521252355420 %\n",
      "Riemann for n = 1e+04:\t1.5707946637153933\n",
      "Accuracy for n = 1e+04:\t 99.9998941250705258 %\n",
      "Riemann for n = 1e+05:\t1.5707962742024018\n",
      "Accuracy for n = 1e+05:\t 99.9999966518577992 %\n",
      "Riemann for n = 1e+06:\t1.5707963251473536\n",
      "Accuracy for n = 1e+06:\t 99.9999998951141578 %\n",
      "Riemann for n = 1e+07:\t1.5707963267013612\n",
      "Accuracy for n = 1e+07:\t 99.9999999940453534 %\n",
      "Riemann for n = 1e+08:\t1.5707963274583725\n",
      "Accuracy for n = 1e+08:\t 99.9999999577618155 %\n",
      "Accuracy increase from 10^6 to 10^8: 6.264766483354833e-08 %\n"
     ]
    },
    {
     "data": {
      "text/plain": "'\\nfig, (ax1, ax2) = plt.subplots(2, 1, sharex=True, gridspec_kw={\\'height_ratios\\': [3, 1]})\\nfig.subplots_adjust(hspace=0.075)  # adjust space between axes\\nax1.plot(step_vector[2:], acc_results[2:], \\'o\\', markersize=4, label=\\'Accuracy vs N\\')\\nax2.plot(step_vector[0], acc_results[0], \\'o\\', markersize=4, label=\\'Accuracy vs N\\')\\nplt.xscale(\\'log\\')\\n# zoom-in / limit the view to different portions of the data\\nax1.set_ylim(99.99988, 100.00001)   # most of the data\\nax2.set_ylim(99,89, 99,90) # outlier\\n# hide the spines between ax and ax2\\nax1.spines.bottom.set_visible(False)\\nax2.spines.top.set_visible(False)\\n# ticks top ax1 and bottom ax3 only\\nax1.tick_params(labeltop=True)\\nax1.xaxis.tick_top()\\nax3.xaxis.tick_bottom()\\nplt.xlabel(\"Steps\")\\nax1.set_ylabel(\"Accuracy\")\\nd = .6  # proportion of vertical to horizontal extent of the slanted line\\nkwargs = dict(marker=[(-1, -d), (1, d)], markersize=12,\\n              linestyle=\"none\", color=\\'white\\', mec=\\'white\\', mew=1, clip_on=False)\\nax1.plot([0, 1], [0, 0], transform=ax1.transAxes, **kwargs)\\nax2.plot([0, 1], [1, 1], transform=ax2.transAxes, **kwargs)\\nplt.setp(ax1, yticks=[x / 100000 for x in range(9999999, 10000001, 2)],\\n         yticklabels=[str(x/100000) + \" %\" for x in range(9999999, 10000001, 2)])\\nplt.setp(ax2, yticks=[step_vector[0]], yticklabels=[str(format(acc_results[0], \".5f\")) + \" %\"])\\nax1.legend(loc=\"upper left\")\\n'"
     },
     "execution_count": 54,
     "metadata": {},
     "output_type": "execute_result"
    },
    {
     "data": {
      "text/plain": "<Figure size 432x288 with 2 Axes>",
      "image/png": "[encoded data removed]"
     },
     "metadata": {},
     "output_type": "display_data"
    }
   ],
   "source": [
    "import time\n",
    "\n",
    "\n",
    "n = 100\n",
    "acc_results = []\n",
    "step_vector = []\n",
    "runtime = []\n",
    "while n < 10 ** 9:\n",
    "    step_vector.append(n)\n",
    "    start_time = time.time()\n",
    "    I = riemann((-1, 1), n)\n",
    "    runtime.append(time.time() - start_time)\n",
    "    print(f\"Riemann for {n = :.0e}:\\t{I}\")\n",
    "    acc = (1 - m.fabs(I - m.pi / 2) / (m.pi / 2)) * 100\n",
    "    print(f\"Accuracy for {n = :.0e}:\\t\", format(acc, \".16f\"), \"%\")\n",
    "    acc_results.append(acc)\n",
    "    n *= 10\n",
    "fig, (ax1, ax2) = plt.subplots(2, 1, sharex=True)\n",
    "ax1.plot(step_vector, acc_results, 'o', label=\"Accuracy vs N\")\n",
    "plt.setp(ax1, yticks=[x / 100 for x in range(9989, 10001, 2)],\n",
    "         yticklabels=[str(x/100) + \" %\" for x in range(9989, 10001, 2)])\n",
    "ax2.plot(step_vector, runtime, 'o', label=\"Time vs N\")\n",
    "plt.setp(ax2, yticks=[x for x in range(0, 31, 1)],\n",
    "         yticklabels=[str(x) + \" %\" for x in range(0, 31, 1)])\n",
    "ax1.legend()\n",
    "ax2.legend()\n",
    "plt.yscale('log')\n",
    "plt.xscale('log')\n",
    "acc_inc = 100 * (acc_results[-1] / (acc_results[4]) - 1)\n",
    "print(\"Accuracy increase from 10^6 to 10^8:\", acc_inc, \"%\")\n",
    "\"\"\"\n",
    "fig, (ax1, ax2) = plt.subplots(2, 1, sharex=True, gridspec_kw={'height_ratios': [3, 1]})\n",
    "fig.subplots_adjust(hspace=0.075)  # adjust space between axes\n",
    "ax1.plot(step_vector[2:], acc_results[2:], 'o', markersize=4, label='Accuracy vs N')\n",
    "ax2.plot(step_vector[0], acc_results[0], 'o', markersize=4, label='Accuracy vs N')\n",
    "plt.xscale('log')\n",
    "# zoom-in / limit the view to different portions of the data\n",
    "ax1.set_ylim(99.99988, 100.00001)   # most of the data\n",
    "ax2.set_ylim(99,89, 99,90) # outlier\n",
    "# hide the spines between ax and ax2\n",
    "ax1.spines.bottom.set_visible(False)\n",
    "ax2.spines.top.set_visible(False)\n",
    "# ticks top ax1 and bottom ax3 only\n",
    "ax1.tick_params(labeltop=True)\n",
    "ax1.xaxis.tick_top()\n",
    "ax3.xaxis.tick_bottom()\n",
    "plt.xlabel(\"Steps\")\n",
    "ax1.set_ylabel(\"Accuracy\")\n",
    "d = .6  # proportion of vertical to horizontal extent of the slanted line\n",
    "kwargs = dict(marker=[(-1, -d), (1, d)], markersize=12,\n",
    "              linestyle=\"none\", color='white', mec='white', mew=1, clip_on=False)\n",
    "ax1.plot([0, 1], [0, 0], transform=ax1.transAxes, **kwargs)\n",
    "ax2.plot([0, 1], [1, 1], transform=ax2.transAxes, **kwargs)\n",
    "plt.setp(ax1, yticks=[x / 100000 for x in range(9999999, 10000001, 2)],\n",
    "         yticklabels=[str(x/100000) + \" %\" for x in range(9999999, 10000001, 2)])\n",
    "plt.setp(ax2, yticks=[step_vector[0]], yticklabels=[str(format(acc_results[0], \".5f\")) + \" %\"])\n",
    "ax1.legend(loc=\"upper left\")\n",
    "\"\"\""
   ],
   "metadata": {
    "collapsed": false,
    "pycharm": {
     "name": "#%% @hidden_cell\n"
    }
   }
  },
  {
   "cell_type": "markdown",
   "source": [
    "a) We see that $N=100$ has an accuracy of $99,89\\%$.\n",
    "\n",
    "b) With $N=10^6$ we have close to a second of runtime. And with a minute of runtime, i.e., $N=10^8$,\n",
    "our accuracy is pretty much the same, even with an increase of two\n",
    "orders of magnitude, we only gained a $10^{-8}\\%$ factor in accuracy."
   ],
   "metadata": {
    "collapsed": false,
    "pycharm": {
     "name": "#%% md\n"
    }
   }
  }
 ],
 "metadata": {
  "kernelspec": {
   "name": "pycharm-e992d7ce",
   "language": "python",
   "display_name": "PyCharm (Intro_Lab)"
  },
  "language_info": {
   "codemirror_mode": {
    "name": "ipython",
    "version": 3
   },
   "file_extension": ".py",
   "mimetype": "text/x-python",
   "name": "python",
   "nbconvert_exporter": "python",
   "pygments_lexer": "ipython3",
   "version": "3.5.4"
  }
 },
 "nbformat": 4,
 "nbformat_minor": 2
}