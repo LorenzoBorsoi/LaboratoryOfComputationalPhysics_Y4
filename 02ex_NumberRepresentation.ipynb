{
 "cells": [
  {
   "cell_type": "markdown",
   "metadata": {},
   "source": [
    "1\\. Write a function that converts number representation (bin<->dec<->hex)"
   ]
  },
  {
   "cell_type": "code",
   "execution_count": 21,
   "metadata": {},
   "outputs": [
    {
     "name": "stdout",
     "output_type": "stream",
     "text": [
      "write the number:5\n",
      "write the type of number(d for decimal, b for binary, h for hexadecimal):d\n",
      "5\n",
      "5 in binary is: 101\n",
      "5 in hexadecimal is: 5\n"
     ]
    }
   ],
   "source": [
    "def DecimalToBinary(n):\n",
    "    b=[]\n",
    "    while n>0:\n",
    "        if n%2==0:\n",
    "            b.append(0)\n",
    "        else:\n",
    "            b.append(1)\n",
    "        n=int(n/2)\n",
    "    b.reverse()\n",
    "    return \"\".join(str(i) for i in b)\n",
    "\n",
    "    \n",
    "def decTohex(n):\n",
    "    conversion_table = ['0', '1', '2', '3', '4', '5', '6', '7', '8', '9', 'A' , 'B', 'C', 'D', 'E', 'F']\n",
    "    if n<=0:\n",
    "        return ''\n",
    "    remainder = n%16\n",
    "    return  decTohex(n//16)+conversion_table[remainder]\n",
    "\n",
    "def hextodec(n):\n",
    "    conversion_table1 = {'0': 0, '1': 1, '2': 2, '3': 3, '4': 4, '5': 5, '6': 6, '7': 7, '8': 8, '9': 9, 'A': 10 , 'B': 11, 'C': 12, 'D': 13, 'E': 14, 'F': 15}\n",
    "    decimal=0\n",
    "    power=len(n)-1\n",
    "    for i in n:\n",
    "        decimal+=conversion_table1[i]*16**power\n",
    "        power-=1\n",
    "    return decimal\n",
    "\n",
    "def bintodec(n):\n",
    "    n1=n\n",
    "    decimal=0\n",
    "    i=0\n",
    "    while n!=0:\n",
    "        dec=n%10\n",
    "        decimal= decimal+dec*pow(2,i)\n",
    "        n=n//10\n",
    "        i+=1\n",
    "    return decimal\n",
    "n=input('write the number:')\n",
    "a=input(\"write the type of number(d for decimal, b for binary, h for hexadecimal):\")\n",
    "if a=='d':\n",
    "    n1=int(n)\n",
    "    print(n1)\n",
    "    print(n1,'in binary is:', DecimalToBinary(n1))\n",
    "    print(n,'in hexadecimal is:', decTohex(n1))\n",
    "elif a=='b':\n",
    "    n1=bintodec(int(n))\n",
    "    print(n,'in decimal is:',n1)\n",
    "    print(n,'in hexadecimal is:', decTohex(n1))\n",
    "elif a=='h':\n",
    "    n1=hextodec(n)\n",
    "    print(n,'in decimal is:',n1)\n",
    "    print(n,'in binary is:',DecimalToBinary(n1))\n",
    "else:\n",
    "    print(\"your number can't be convert\")"
   ]
  },
  {
   "cell_type": "markdown",
   "metadata": {},
   "source": [
    "2\\. Write a function that converts a 32 bit word into a single precision floating point (i.e. interprets the various bits as sign, mantissa and exponent)"
   ]
  },
  {
   "cell_type": "code",
   "execution_count": 23,
   "metadata": {},
   "outputs": [
    {
     "data": {
      "text/plain": [
       "-3.0316488252093987e-13"
      ]
     },
     "execution_count": 23,
     "metadata": {},
     "output_type": "execute_result"
    }
   ],
   "source": [
    "def convert_32(a):\n",
    "    sign=int(a[0],2)\n",
    "    exp=int(a[1:9],2)\n",
    "    mantissa_str=a[9:]\n",
    "    def mantissa(mantissa_str):\n",
    "        mantissa_int=0\n",
    "        power_count=-1\n",
    "        for i in mantissa_str:\n",
    "            mantissa_int += (int(i) * pow(2, power_count))\n",
    "            power_count -= 1\n",
    "        return (mantissa_int + 1)\n",
    "    mantissa_1=mantissa(mantissa_str)\n",
    "    mantissa_1=mantissa(mantissa_str)\n",
    "    return pow(-1,sign)*mantissa_1*pow(2,exp-127)\n",
    "\n",
    "convert_32('10101010101010101010101010101010')   "
   ]
  },
  {
   "cell_type": "markdown",
   "metadata": {},
   "source": [
    "3\\. Write a program to determine the underflow and overflow limits (within a factor of 2) for python on your computer. \n",
    "\n",
    "**Tips**: define two variables inizialized to 1 and halve/double them enough time to exceed the under/over-flow limits  "
   ]
  },
  {
   "cell_type": "code",
   "execution_count": 24,
   "metadata": {},
   "outputs": [
    {
     "name": "stdout",
     "output_type": "stream",
     "text": [
      "the under flow of the machine is: 1074\n"
     ]
    }
   ],
   "source": [
    "under =1\n",
    "N=1000000\n",
    "for i in range(N):\n",
    "    under = under/2\n",
    "    if under==0:\n",
    "        print('the under flow of the machine is:',i)\n",
    "        break\n"
   ]
  },
  {
   "cell_type": "code",
   "execution_count": 25,
   "metadata": {},
   "outputs": [
    {
     "ename": "KeyboardInterrupt",
     "evalue": "",
     "output_type": "error",
     "traceback": [
      "\u001b[1;31m---------------------------------------------------------------------------\u001b[0m",
      "\u001b[1;31mKeyboardInterrupt\u001b[0m                         Traceback (most recent call last)",
      "\u001b[1;32m~\\AppData\\Local\\Temp/ipykernel_21152/1503271614.py\u001b[0m in \u001b[0;36m<module>\u001b[1;34m\u001b[0m\n\u001b[0;32m      3\u001b[0m \u001b[1;32mfor\u001b[0m \u001b[0mi\u001b[0m \u001b[1;32min\u001b[0m \u001b[0mrange\u001b[0m\u001b[1;33m(\u001b[0m\u001b[0mN\u001b[0m\u001b[1;33m)\u001b[0m\u001b[1;33m:\u001b[0m\u001b[1;33m\u001b[0m\u001b[1;33m\u001b[0m\u001b[0m\n\u001b[0;32m      4\u001b[0m     \u001b[1;32mif\u001b[0m \u001b[0mover\u001b[0m\u001b[1;33m>=\u001b[0m \u001b[1;36m1\u001b[0m\u001b[1;33m:\u001b[0m\u001b[1;33m\u001b[0m\u001b[1;33m\u001b[0m\u001b[0m\n\u001b[1;32m----> 5\u001b[1;33m         \u001b[0mover\u001b[0m\u001b[1;33m=\u001b[0m\u001b[0mover\u001b[0m\u001b[1;33m*\u001b[0m\u001b[1;36m2\u001b[0m\u001b[1;33m\u001b[0m\u001b[1;33m\u001b[0m\u001b[0m\n\u001b[0m\u001b[0;32m      6\u001b[0m     \u001b[1;32melse\u001b[0m\u001b[1;33m:\u001b[0m\u001b[1;33m\u001b[0m\u001b[1;33m\u001b[0m\u001b[0m\n\u001b[0;32m      7\u001b[0m         \u001b[0mprint\u001b[0m\u001b[1;33m(\u001b[0m\u001b[0mi\u001b[0m\u001b[1;33m)\u001b[0m\u001b[1;33m\u001b[0m\u001b[1;33m\u001b[0m\u001b[0m\n",
      "\u001b[1;31mKeyboardInterrupt\u001b[0m: "
     ]
    }
   ],
   "source": [
    "N=10**10\n",
    "over=1\n",
    "for i in range(N):\n",
    "    if over>= 1:\n",
    "        over=over*2\n",
    "    else:\n",
    "        print(i)\n",
    "        break\n",
    "print(over)"
   ]
  },
  {
   "cell_type": "markdown",
   "metadata": {},
   "source": [
    "4\\. Write a program to determine the machine precision\n",
    "\n",
    "**Tips**: define a new variable by adding a smaller and smaller value (proceeding similarly to prob. 2) to an original variable and check the point where the two are the same "
   ]
  },
  {
   "cell_type": "code",
   "execution_count": 26,
   "metadata": {},
   "outputs": [
    {
     "name": "stdout",
     "output_type": "stream",
     "text": [
      "the machine precision is: 1.000000000000001e-16\n"
     ]
    }
   ],
   "source": [
    "d=0.1\n",
    "i=False\n",
    "while i==False:\n",
    "    n=1+d\n",
    "    if n==1:\n",
    "        print('the machine precision is:',d)\n",
    "    i= n==1\n",
    "    d=d*0.1\n",
    "    "
   ]
  },
  {
   "cell_type": "markdown",
   "metadata": {},
   "source": [
    "5\\. Write a function that takes in input three parameters $a$, $b$ and $c$ and prints out the two solutions to the quadratic equation $ax^2+bx+c=0$ using the standard formula:\n",
    "$$\n",
    "x=\\frac{-b\\pm\\sqrt{b^2-4ac}}{2a}\n",
    "$$\n",
    "\n",
    "(a) use the program to compute the solution for $a=0.001$, $b=1000$ and $c=0.001$\n",
    "\n",
    "(b) re-express the standard solution formula by multiplying top and bottom by $-b\\mp\\sqrt{b^2-4ac}$ and again find the solution for $a=0.001$, $b=1000$ and $c=0.001$. How does it compare with what previously obtained? Why?\n",
    "\n",
    "(c) write a function that compute the roots of a quadratic equation accurately in all cases"
   ]
  },
  {
   "cell_type": "code",
   "execution_count": 28,
   "metadata": {},
   "outputs": [
    {
     "name": "stdout",
     "output_type": "stream",
     "text": [
      "standard formula: -9.999894245993346e-07 and -999999.999999\n",
      "stadard formula by multipying top and bottom by a factor [-1.000000000001e-06, -1000010.5755125057]\n",
      "solution for all cases: -1.00000761449337e-06 and -999999.999999\n"
     ]
    }
   ],
   "source": [
    "from math import sqrt\n",
    "\n",
    "def ed(a,b,c):\n",
    "    s=[(-b+i*sqrt(pow(b,2)-4*a*c))/(2*a) for i in [1,-1]]\n",
    "    return s\n",
    "\n",
    "def ed1(a,b,c):\n",
    "    s=[ 2*c/(-b-i*sqrt(pow(b,2)-4*a*c)) for i in [1,-1]]\n",
    "    return s\n",
    "x1,x2=ed(0.001,1000,0.001)\n",
    "x3,x4=ed1(0.001,1000,0.001)\n",
    "print('standard formula: %s and %s' % (x1,x2))\n",
    "print('stadard formula by multipying top and bottom by a factor',ed1(0.001,1000,0.001))\n",
    "\n",
    "def eq_2(a,b,c):\n",
    "    delta=pow(b,2)-4*a*c\n",
    "    if delta<1:\n",
    "        print(\"delta hasn't real value\")\n",
    "        s=[complex(-b/(2*a),i*sqrt(abs(delta))/(2*a) ) for i in [1,-1]]\n",
    "    else:\n",
    "        s=[(-b/(2*a))+i*(sqrt(delta))/(2*a) for i in [1,-1]]\n",
    "    return s\n",
    "x1,x2=eq_2(0.001,1000,0.001)\n",
    "print('solution for all cases: %s and %s' % (x1,x2))  "
   ]
  },
  {
   "cell_type": "markdown",
   "metadata": {},
   "source": [
    "6\\. Write a program that implements the function $f(x)=x(x−1)$\n",
    "\n",
    "(a) Calculate the derivative of the function at the point $x = 1$ using the derivative definition:\n",
    "\n",
    "$$\n",
    "\\frac{{\\rm d}f}{{\\rm d}x} = \\lim_{\\delta\\to0} \\frac{f(x+\\delta)-f(x)}{\\delta}\n",
    "$$\n",
    "\n",
    "with $\\delta = 10^{−2}$. Calculate the true value of the same derivative analytically and compare with the answer your program gives. The two will not agree perfectly. Why not?\n",
    "\n",
    "(b) Repeat the calculation for $\\delta = 10^{−4}, 10^{−6}, 10^{−8}, 10^{−10}, 10^{−12}$ and $10^{−14}$. How does the accuracy scales with $\\delta$?"
   ]
  },
  {
   "cell_type": "code",
   "execution_count": 30,
   "metadata": {},
   "outputs": [
    {
     "name": "stdout",
     "output_type": "stream",
     "text": [
      "derivative value for delta 10e-2: 1.100000000000001\n",
      "with delta=0.0001 the derivative value of the function is:1.0000999999998899 with an accurancy of:0.009999999988985486\n",
      "with delta=1e-06 the derivative value of the function is:1.0000009999177333 with an accurancy of:9.99917733279787e-05\n",
      "with delta=1e-08 the derivative value of the function is:1.0000000039225287 with an accurancy of:3.9225287462585356e-07\n",
      "with delta=1e-10 the derivative value of the function is:1.000000082840371 with an accurancy of:8.284037100736441e-06\n",
      "with delta=1e-12 the derivative value of the function is:1.0000889005833413 with an accurancy of:0.008890058334132256\n",
      "with delta=1e-14 the derivative value of the function is:0.9992007221626509 with an accurancy of:-0.07992778373491216\n"
     ]
    },
    {
     "data": {
      "text/plain": [
       "Text(0.5, 0, 'delta')"
      ]
     },
     "execution_count": 30,
     "metadata": {},
     "output_type": "execute_result"
    },
    {
     "data": {
      "image/png": "[encoded data removed]",
      "text/plain": [
       "<Figure size 432x288 with 1 Axes>"
      ]
     },
     "metadata": {
      "needs_background": "light"
     },
     "output_type": "display_data"
    }
   ],
   "source": [
    "import numpy as np\n",
    "from math import pi\n",
    "import matplotlib.pyplot as plt\n",
    "def derivative(x,delta):\n",
    "    def f(y):\n",
    "        func=y*(y-1)\n",
    "        return func\n",
    "    der=(f(x+delta)-f(x))/delta\n",
    "    return der\n",
    "print('derivative value for delta 10e-2:',derivative(1,10e-02))\n",
    "delta1=[1e-04,1e-06,1e-08,1e-10,1e-12,1e-14]\n",
    "\n",
    "yd=[derivative(1,i) for i in delta1]\n",
    "for i in delta1:\n",
    "    print('with delta='+str(i),'the derivative value of the function is:'+str(derivative(1,i)),'with an accurancy of:'+str(100*(derivative(1,i)-1)/1))\n",
    "plt.plot(delta1,yd,'-')\n",
    "plt.xscale('log')\n",
    "plt.axhline(1,color='red')\n",
    "plt.ylabel('values of derivative')\n",
    "plt.xlabel('delta')\n",
    "    "
   ]
  },
  {
   "cell_type": "markdown",
   "metadata": {},
   "source": [
    "7\\. Consider the integral of the semicircle of radius 1:\n",
    "$$\n",
    "I=\\int_{-1}^{1} \\sqrt(1-x^2) {\\rm d}x\n",
    "$$\n",
    "which it's known to be $I=\\frac{\\pi}{2}=1.57079632679...$.\n",
    "Alternatively we can use the Riemann definition of the integral:\n",
    "$$\n",
    "I=\\lim_{N\\to\\infty} \\sum_{k=1}^{N} h y_k \n",
    "$$\n",
    "\n",
    "with $h=2/N$ the width of each of the $N$ slices the domain is divided into and where\n",
    "$y_k$ is the value of the function at the $k-$th slice.\n",
    "\n",
    "(a) Write a programe to compute the integral with $N=100$. How does the result compares to the true value?\n",
    "\n",
    "(b) How much can $N$ be increased if the computation needs to be run in less than a second? What is the gain in running it for 1 minute? \n"
   ]
  },
  {
   "cell_type": "code",
   "execution_count": 34,
   "metadata": {},
   "outputs": [
    {
     "name": "stdout",
     "output_type": "stream",
     "text": [
      "value of the integral with the Reimann definition: 1.5707963006113745 and N= 60000000\n",
      "% change in the integral: 1.6668947826384267e-06\n",
      "in less than a second N can be increase approximately to 60000000 , the time is: 1.0288670063018799 seconds\n",
      "value of the integral with the Reimann definition: 1.5534179294048955 and N= 100\n",
      "% change in the integral: 1.106343139053582\n"
     ]
    }
   ],
   "source": [
    "import numpy as np\n",
    "from math import pi\n",
    "import time\n",
    "\n",
    "def function(N):\n",
    "    x=np.linspace(-1,1,N)\n",
    "    x1=pow((1-pow(x,2)),0.5)\n",
    "    integral=np.sum(x1*(2/N))      \n",
    "    print('value of the integral with the Reimann definition:',integral,'and N=',N)\n",
    "    print('% change in the integral:',100*(abs(-(pi/2)+integral)/(pi/2)))\n",
    "st_time=time.time()\n",
    "n=60000000\n",
    "function(n)\n",
    "dt=time.time()-st_time\n",
    "print('in less than a second N can be increase approximately to '+str(n),', the time is:',dt,'seconds')\n",
    "function(100)\n",
    "#for 1 minutes we need to run the algorithm with nx60"
   ]
  },
  {
   "cell_type": "code",
   "execution_count": null,
   "metadata": {},
   "outputs": [],
   "source": []
  }
 ],
 "metadata": {
  "kernelspec": {
   "display_name": "Python 3 (ipykernel)",
   "language": "python",
   "name": "python3"
  },
  "language_info": {
   "codemirror_mode": {
    "name": "ipython",
    "version": 3
   },
   "file_extension": ".py",
   "mimetype": "text/x-python",
   "name": "python",
   "nbconvert_exporter": "python",
   "pygments_lexer": "ipython3",
   "version": "3.8.8"
  }
 },
 "nbformat": 4,
 "nbformat_minor": 2
}
