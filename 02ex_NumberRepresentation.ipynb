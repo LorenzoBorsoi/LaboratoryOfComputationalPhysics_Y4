{
 "cells": [
  {
   "cell_type": "markdown",
   "metadata": {},
   "source": [
    "1\\. Write a function that converts number representation (bin<->dec<->hex)"
   ]
  },
  {
   "cell_type": "code",
   "execution_count": 10,
   "metadata": {},
   "outputs": [
    {
     "name": "stdout",
     "output_type": "stream",
     "text": [
      "Inserire numero\t1f\n",
      "Inserire base utilizzata\t16\n",
      "Inserire base desiderata\t10\n",
      "Numero  1f  in base  10 :\t 31\n"
     ]
    }
   ],
   "source": [
    "def convert(x,b1,b2):\n",
    "    \n",
    "    for i in range(len(x)):       # ho tentato di utilizzare l'istruzione match/case, ma l'interprete non la riconosce\n",
    "        if x[i]==\"a\":\n",
    "            x[i]=10\n",
    "        if x[i]==\"b\":\n",
    "            x[i]=11\n",
    "        if x[i]==\"c\":\n",
    "            x[i]=12\n",
    "        if x[i]==\"d\":\n",
    "            x[i]=13\n",
    "        if x[i]==\"e\":\n",
    "            x[i]=14\n",
    "        if x[i]==\"f\":\n",
    "            x[i]=15\n",
    "    x=list(map(int,x))\n",
    "    \n",
    "    x10=0\n",
    "    for i in range(len(x)):            # conversione in base 10\n",
    "        x10+=x[i]*b1**(len(x)-i-1)\n",
    "\n",
    "    result=[]\n",
    "    x10_copy=x10\n",
    "    if b2==10:                         # ritorno il numero in base 10 se è quello desiderato\n",
    "        return x10\n",
    "    while x10_copy!=0:                    # altrimenti procedo con la conversione in un'altra base\n",
    "        result.append(x10_copy%b2)\n",
    "        x10_copy//=b2\n",
    "    \n",
    "    for i in range(len(result)):       # sostituisco i caratteri aggiuntivi del sistema esadecimale\n",
    "        if result[i]==10:\n",
    "            result[i]=\"a\"\n",
    "        if result[i]==11:\n",
    "            result[i]=\"b\"\n",
    "        if result[i]==12:\n",
    "            result[i]=\"c\"\n",
    "        if result[i]==13:\n",
    "            result[i]=\"d\"\n",
    "        if result[i]==14:\n",
    "            result[i]=\"e\"\n",
    "        if result[i]==15:\n",
    "            result[i]=\"f\"\n",
    "                            \n",
    "    result.reverse()\n",
    "    return(\"\".join([str(z) for z in result]))\n",
    "\n",
    "number=list(input(\"Inserire numero\\t\"))\n",
    "b1=int(input(\"Inserire base utilizzata\\t\"))\n",
    "b2=int(input(\"Inserire base desiderata\\t\"))\n",
    "print(\"Numero \",\"\".join([str(z) for z in number]),\" in base \",b2,\":\\t\",convert(number,b1,b2))"
   ]
  },
  {
   "cell_type": "markdown",
   "metadata": {},
   "source": [
    "2\\. Write a function that converts a 32 bit word into a single precision floating point (i.e. interprets the various bits as sign, mantissa and exponent)"
   ]
  },
  {
   "cell_type": "code",
   "execution_count": 19,
   "metadata": {},
   "outputs": [
    {
     "name": "stdout",
     "output_type": "stream",
     "text": [
      "32\n",
      "Numero in base 10:\t 1.316553672920962e-36\n"
     ]
    }
   ],
   "source": [
    "#nfpt=list('11000000101100000000000000000000')    # numeri presi dagli esempi della lezione\n",
    "nfpt=list('00000011111000000000000000000000')\n",
    "nfp=list(map(int,nfpt))\n",
    "print(len(nfp))\n",
    "\n",
    "def convert_floating_point(x):\n",
    "    s=nfp[0]\n",
    "    exp=nfp[1:9]\n",
    "    man=nfp[9:]\n",
    "    man10=1\n",
    "    exp10=convert(exp,2,10)-127              # sfrutto la funzione definita nell'esercizio precedente per calcolare l'esponente\n",
    "    for i in range(len(man)):                # itero sulla mantissa per calcolarne il valore\n",
    "        man10+=man[i]*2**(-i-1)\n",
    "    number=man10*2**exp10                    # compongo il numero in base decimale\n",
    "    if s==1:                                 # aggiungo il segno\n",
    "        number=-number\n",
    "    return number\n",
    "\n",
    "print(\"Numero in base 10:\\t\",convert_floating_point(nfp))"
   ]
  },
  {
   "cell_type": "markdown",
   "metadata": {},
   "source": [
    "3\\. Write a program to determine the underflow and overflow limits (within a factor of 2) for python on your computer. \n",
    "\n",
    "**Tips**: define two variables inizialized to 1 and halve/double them enough time to exceed the under/over-flow limits  "
   ]
  },
  {
   "cell_type": "code",
   "execution_count": 27,
   "metadata": {},
   "outputs": [
    {
     "name": "stdout",
     "output_type": "stream",
     "text": [
      "Ciclo fermato dopo 1022 interazioni\n",
      "Overflow:\t 4.494e+307\n",
      "Underflow:\t 2.225e-308\n",
      "\n",
      "Valori determinati con sys:\n",
      "Overflow:\t 1.798e+308\n",
      "Underflow:\t 2.225e-308\n"
     ]
    }
   ],
   "source": [
    "import sys\n",
    "under, over = float(1), float(1)\n",
    "N=0\n",
    "while over<=sys.float_info.max/2 and under>=sys.float_info.min*2:  #l'informazione sui veri under- e over-flow serve solo per sapere quando fermarsi\n",
    "    under/=2                                                         # tali valori vengono poi stimati senza far uso del pacchetto sys\n",
    "    over*=2\n",
    "    N+=1\n",
    "    \n",
    "print(f\"Ciclo fermato dopo {N} iterazioni\")\n",
    "print(f\"Overflow:\\t %1.3e\" % over)\n",
    "print(f\"Underflow:\\t %1.3e\" % under)\n",
    "\n",
    "print(\"\\nValori determinati con sys:\")\n",
    "print(f\"Overflow:\\t %1.3e\" % sys.float_info.max)\n",
    "print(f\"Underflow:\\t %1.3e\" % sys.float_info.min)"
   ]
  },
  {
   "cell_type": "markdown",
   "metadata": {},
   "source": [
    "4\\. Write a program to determine the machine precision\n",
    "\n",
    "**Tips**: define a new variable by adding a smaller and smaller value (proceeding similarly to prob. 2) to an original variable and check the point where the two are the same "
   ]
  },
  {
   "cell_type": "code",
   "execution_count": 11,
   "metadata": {},
   "outputs": [
    {
     "name": "stdout",
     "output_type": "stream",
     "text": [
      "Ciclo fermato dopo 54 iterazioni\n",
      "Machine precision:\t2.220e-16\n"
     ]
    }
   ],
   "source": [
    "a=1\n",
    "b=10                                           # solo per entrare nel ciclo\n",
    "N=0\n",
    "while a != b:\n",
    "    b=1+2**(-N)                                # assegno diversi valori a b\n",
    "    N+=1\n",
    "\n",
    "print(f\"Ciclo fermato dopo {N} iterazioni\")\n",
    "print(\"Machine precision:\\t%.3e\" % 2**(2-N))   # 2-N perchéN esce già dal ciclo col valore che avrebbe nell'iterazione successiva, inoltre quando il ciclo si interrompe è perche 2**(-N) ha già passato la precisione pacchina di 2^(-1)"
   ]
  },
  {
   "cell_type": "markdown",
   "metadata": {},
   "source": [
    "5\\. Write a function that takes in input three parameters $a$, $b$ and $c$ and prints out the two solutions to the quadratic equation $ax^2+bx+c=0$ using the standard formula:\n",
    "$$\n",
    "x=\\frac{-b\\pm\\sqrt{b^2-4ac}}{2a}\n",
    "$$\n",
    "\n",
    "(a) use the program to compute the solution for $a=0.001$, $b=1000$ and $c=0.001$\n",
    "\n",
    "(b) re-express the standard solution formula by multiplying top and bottom by $-b\\mp\\sqrt{b^2-4ac}$ and again find the solution for $a=0.001$, $b=1000$ and $c=0.001$. How does it compare with what previously obtained? Why?\n",
    "\n",
    "(c) write a function that compute the roots of a quadratic equation accurately in all cases"
   ]
  },
  {
   "cell_type": "code",
   "execution_count": 2,
   "metadata": {},
   "outputs": [
    {
     "name": "stdout",
     "output_type": "stream",
     "text": [
      "(a): Solutions: -9.999894245993346e-07, -999999.999999\n",
      "(b): Solutions: -1.000000000001e-06, -1000010.5755125057\n",
      "(c): Solutions: -1.00000761449337e-06, -999999.999999\n"
     ]
    }
   ],
   "source": [
    "import numpy as np\n",
    "def solquadform(a,b,c):\n",
    "    return [(-b+np.sqrt(b**2-4*a*c))/(2*a),(-b-np.sqrt(b**2-4*a*c))/(2*a)]\n",
    "\n",
    "sol1=solquadform(0.001,1000,0.001)\n",
    "print(f\"(a): Solutions: {sol1[0]}, {sol1[1]}\")\n",
    "\n",
    "def solquadform2(a,b,c):\n",
    "    return [2*c/(-b-np.sqrt(b**2-4*a*c)),2*c/(-b+np.sqrt(b**2-4*a*c))]\n",
    "\n",
    "sol2=solquadform2(0.001,1000,0.001)\n",
    "print(f\"(b): Solutions: {sol2[0]}, {sol2[1]}\")\n",
    "\n",
    "def solquadform_exact(a,b,c):\n",
    "    return [-b/(2*a)+np.sqrt((b/(2*a))**2-c/a),-b/(2*a)-np.sqrt((b/(2*a))**2-c/a)]\n",
    "\n",
    "sol3=solquadform_exact(0.001,1000,0.001)\n",
    "print(f\"(c): Solutions: {sol3[0]}, {sol3[1]}\")\n",
    "\n",
    "# non ho tagliato le cifre decimali per non introdurre approssimazioni nella visualizzazione dei valori"
   ]
  },
  {
   "cell_type": "markdown",
   "metadata": {},
   "source": [
    "6\\. Write a program that implements the function $f(x)=x(x−1)$\n",
    "\n",
    "(a) Calculate the derivative of the function at the point $x = 1$ using the derivative definition:\n",
    "\n",
    "$$\n",
    "\\frac{{\\rm d}f}{{\\rm d}x} = \\lim_{\\delta\\to0} \\frac{f(x+\\delta)-f(x)}{\\delta}\n",
    "$$\n",
    "\n",
    "with $\\delta = 10^{−2}$. Calculate the true value of the same derivative analytically and compare with the answer your program gives. The two will not agree perfectly. Why not?\n",
    "\n",
    "(b) Repeat the calculation for $\\delta = 10^{−4}, 10^{−6}, 10^{−8}, 10^{−10}, 10^{−12}$ and $10^{−14}$. How does the accuracy scales with $\\delta$?"
   ]
  },
  {
   "cell_type": "code",
   "execution_count": 3,
   "metadata": {},
   "outputs": [
    {
     "name": "stdout",
     "output_type": "stream",
     "text": [
      "(a): delta=1e-2,   df/dx =  1.010000000000001\n",
      "Manually calculated derivative =  1\n",
      "[1.01       1.0001     1.000001   1.         1.00000008 1.0000889\n",
      " 0.99920072]\n"
     ]
    },
    {
     "data": {
      "image/png": "[encoded data removed]",
      "text/plain": [
       "<Figure size 432x288 with 1 Axes>"
      ]
     },
     "metadata": {
      "needs_background": "light"
     },
     "output_type": "display_data"
    },
    {
     "data": {
      "image/png": "[encoded data removed]",
      "text/plain": [
       "<Figure size 432x288 with 1 Axes>"
      ]
     },
     "metadata": {
      "needs_background": "light"
     },
     "output_type": "display_data"
    }
   ],
   "source": [
    "import matplotlib.pyplot as plt\n",
    "def f(x):\n",
    "    return x*(x-1)\n",
    "def df(x,d):\n",
    "    return (f(x+d)-f(x))/d\n",
    "print(\"(a): delta=1e-2,   df/dx = \",df(1,1e-2))\n",
    "print(\"Manually calculated derivative = \",2*1-1)\n",
    "\n",
    "delta=[1e-2,1e-4,1e-6,1e-8,1e-10,1e-12,1e-14]\n",
    "df_list=np.array([df(1,d) for d in delta])\n",
    "print(df_list)\n",
    "\n",
    "accuracy=np.abs(1-df_list)\n",
    "plt.plot(delta,accuracy,'o')\n",
    "plt.xscale('log')\n",
    "plt.xlabel(\"x\")\n",
    "plt.ylabel(\"Accuracy\")\n",
    "plt.show()\n",
    "plt.plot(delta[1:len(delta)],accuracy[1:len(delta)],'o')\n",
    "plt.xscale('log')\n",
    "plt.title(\"Tutti i valori tranne quello a x=0.01\")\n",
    "plt.show()"
   ]
  },
  {
   "cell_type": "markdown",
   "metadata": {},
   "source": [
    "The code works exactly in the way I expect it to do. Accuracy correctly seems to decrease with lower delta_x, but when delta_x is too smaller I obtain inconsistent results due to the substraction f(x+delta_x)-f(x) caused by the finite precision of numbers encoded in the computer."
   ]
  },
  {
   "cell_type": "markdown",
   "metadata": {},
   "source": [
    "7\\. Consider the integral of the semicircle of radius 1:\n",
    "$$\n",
    "I=\\int_{-1}^{1} \\sqrt(1-x^2) {\\rm d}x\n",
    "$$\n",
    "which it's known to be $I=\\frac{\\pi}{2}=1.57079632679...$.\n",
    "Alternatively we can use the Riemann definition of the integral:\n",
    "$$\n",
    "I=\\lim_{N\\to\\infty} \\sum_{k=1}^{N} h y_k \n",
    "$$\n",
    "\n",
    "with $h=2/N$ the width of each of the $N$ slices the domain is divided into and where\n",
    "$y_k$ is the value of the function at the $k-$th slice.\n",
    "\n",
    "(a) Write a programe to compute the integral with $N=100$. How does the result compares to the true value?\n",
    "\n",
    "(b) How much can $N$ be increased if the computation needs to be run in less than a second? What is the gain in running it for 1 minute? \n"
   ]
  },
  {
   "cell_type": "code",
   "execution_count": 5,
   "metadata": {},
   "outputs": [
    {
     "name": "stdout",
     "output_type": "stream",
     "text": [
      "Risultato con N=100:  I = 1.5534179\n",
      "Execution time: 0.96152\n",
      "Risultato computazione 1 secondo:  I = 1.5707885\n",
      "Execution time: 61.19946\n",
      "Risultato computazione un minuto:  I = 1.5707962\n",
      "Gain I_1minute-I_1second : 7.752e-06\n"
     ]
    }
   ],
   "source": [
    "import numpy as np\n",
    "import time\n",
    "# a)\n",
    "N=100\n",
    "y=np.array(list(map(lambda z:np.sqrt(1-z**2),np.linspace(-1,1,N))))\n",
    "I=np.sum(2/N*y)\n",
    "print(\"Risultato con N=100:  I = %.7f\" % I)        # il risultato ci si avvicina ma non è perfetto, servirebbe aumentare il valore di N\n",
    "\n",
    "# b)\n",
    "N=200000                   # posso aumentare N fino a valori di 2e5\n",
    "time1=time.time()\n",
    "y=np.array(list(map(lambda z:np.sqrt(1-z**2),np.linspace(-1,1,N))))\n",
    "I2=np.sum(2/N*y)\n",
    "time2=time.time()\n",
    "print(\"Execution time: %.5f\" %(time2-time1))\n",
    "print(\"Risultato computazione 1 secondo:  I = %.7f\" % I2)\n",
    "\n",
    "N=13000000\n",
    "time3=time.time()\n",
    "y=np.array(list(map(lambda z:np.sqrt(1-z**2),np.linspace(-1,1,N))))\n",
    "I3=np.sum(2/N*y)\n",
    "time4=time.time()\n",
    "print(\"Execution time: %.5f\" %(time4-time3))\n",
    "print(\"Risultato computazione un minuto:  I = %.7f\" % I3)\n",
    "\n",
    "print(\"Gain I_1minute-I_1second : %.3e\" %(I3-I2))\n"
   ]
  },
  {
   "cell_type": "code",
   "execution_count": null,
   "metadata": {},
   "outputs": [],
   "source": []
  },
  {
   "cell_type": "code",
   "execution_count": null,
   "metadata": {},
   "outputs": [],
   "source": []
  }
 ],
 "metadata": {
  "kernelspec": {
   "display_name": "Python 3",
   "language": "python",
   "name": "python3"
  },
  "language_info": {
   "codemirror_mode": {
    "name": "ipython",
    "version": 3
   },
   "file_extension": ".py",
   "mimetype": "text/x-python",
   "name": "python",
   "nbconvert_exporter": "python",
   "pygments_lexer": "ipython3",
   "version": "3.7.6"
  }
 },
 "nbformat": 4,
 "nbformat_minor": 2
}
