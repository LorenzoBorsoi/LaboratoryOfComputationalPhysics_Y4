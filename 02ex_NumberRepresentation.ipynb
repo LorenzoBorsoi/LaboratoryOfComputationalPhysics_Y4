{
 "cells": [
  {
   "cell_type": "markdown",
   "metadata": {},
   "source": [
    "1\\. Write a function that converts number representation (bin<->dec<->hex)"
   ]
  },
  {
   "cell_type": "markdown",
   "metadata": {},
   "source": [
    "2\\. Write a function that converts a 32 bit word into a single precision floating point (i.e. interprets the various bits as sign, mantissa and exponent)"
   ]
  },
  {
   "cell_type": "markdown",
   "metadata": {},
   "source": [
    "3\\. Write a program to determine the underflow and overflow limits (within a factor of 2) for python on your computer. \n",
    "\n",
    "**Tips**: define two variables inizialized to 1 and halve/double them enough time to exceed the under/over-flow limits  "
   ]
  },
  {
   "cell_type": "markdown",
   "metadata": {},
   "source": [
    "4\\. Write a program to determine the machine precision\n",
    "\n",
    "**Tips**: define a new variable by adding a smaller and smaller value (proceeding similarly to prob. 2) to an original variable and check the point where the two are the same "
   ]
  },
  {
   "cell_type": "markdown",
   "metadata": {},
   "source": [
    "5\\. Write a function that takes in input three parameters $a$, $b$ and $c$ and prints out the two solutions to the quadratic equation $ax^2+bx+c=0$ using the standard formula:\n",
    "$$\n",
    "x=\\frac{-b\\pm\\sqrt{b^2-4ac}}{2a}\n",
    "$$\n",
    "\n",
    "(a) use the program to compute the solution for $a=0.001$, $b=1000$ and $c=0.001$\n",
    "\n",
    "(b) re-express the standard solution formula by multiplying top and bottom by $-b\\mp\\sqrt{b^2-4ac}$ and again find the solution for $a=0.001$, $b=1000$ and $c=0.001$. How does it compare with what previously obtained? Why?\n",
    "\n",
    "(c) write a function that compute the roots of a quadratic equation accurately in all cases"
   ]
  },
  {
   "cell_type": "markdown",
   "metadata": {},
   "source": [
    "6\\. Write a program that implements the function $f(x)=x(x−1)$\n",
    "\n",
    "(a) Calculate the derivative of the function at the point $x = 1$ using the derivative definition:\n",
    "\n",
    "$$\n",
    "\\frac{{\\rm d}f}{{\\rm d}x} = \\lim_{\\delta\\to0} \\frac{f(x+\\delta)-f(x)}{\\delta}\n",
    "$$\n",
    "\n",
    "with $\\delta = 10^{−2}$. Calculate the true value of the same derivative analytically and compare with the answer your program gives. The two will not agree perfectly. Why not?\n",
    "\n",
    "(b) Repeat the calculation for $\\delta = 10^{−4}, 10^{−6}, 10^{−8}, 10^{−10}, 10^{−12}$ and $10^{−14}$. How does the accuracy scales with $\\delta$?"
   ]
  },
  {
   "cell_type": "markdown",
   "metadata": {},
   "source": [
    "7\\. Consider the integral of the semicircle of radius 1:\n",
    "$$\n",
    "I=\\int_{-1}^{1} \\sqrt(1-x^2) {\\rm d}x\n",
    "$$\n",
    "which it's known to be $I=\\frac{\\pi}{2}=1.57079632679...$.\n",
    "Alternatively we can use the Riemann definition of the integral:\n",
    "$$\n",
    "I=\\lim_{N\\to\\infty} \\sum_{k=1}^{N} h y_k \n",
    "$$\n",
    "\n",
    "with $h=2/N$ the width of each of the $N$ slices the domain is divided into and where\n",
    "$y_k$ is the value of the function at the $k-$th slice.\n",
    "\n",
    "(a) Write a programe to compute the integral with $N=100$. How does the result compares to the true value?\n",
    "\n",
    "(b) How much can $N$ be increased if the computation needs to be run in less than a second? What is the gain in running it for 1 minute? \n"
   ]
  },
  {
   "cell_type": "code",
   "execution_count": 1,
   "metadata": {},
   "outputs": [
    {
     "name": "stdout",
     "output_type": "stream",
     "text": [
      "70\n"
     ]
    }
   ],
   "source": [
    "#es 1.\n",
    "def Dec_to_Bin(n):\n",
    "    my_string=\"\"\n",
    "    \n",
    "    while n != 0:\n",
    "        my_string=my_string+str((n%2))\n",
    "        n =int( n / 2) \n",
    "        \n",
    "    my_string = my_string[::-1]\n",
    "    return(my_string)\n",
    "            \n",
    "def Bin_to_Dec(n):            \n",
    "    x = 0 \n",
    "    n=n[::-1]\n",
    "    for i in range (len(n)):\n",
    "        x = x + int(n[i])*2**i\n",
    "    return(x)\n",
    "        \n",
    "def Bin_to_Hex(n):\n",
    "    dictionary={'0000':'0', '0001':'1', '0010':'2', '0011':'3', '0100':'4', '0101':'5', '0110':'6', '0111':'7', '1000':'8', '1001':'9', '1010':\"A\", '1011':\"B\", '1100':\"C\", '1101':\"D\", '1110':\"E\", '1111':\"F\"}\n",
    "    \n",
    "    \n",
    "    while len(n)%4 != 0:\n",
    "        n = '0'+ n\n",
    "        \n",
    "    a_list=[]\n",
    "    for i in range (int(len(n)/4)):\n",
    "        a_list.append(n[4*i:(4*i+4)])\n",
    "        \n",
    "       \n",
    "    my_string = \"\"\n",
    "    for j in range (int(len(n)/4)):\n",
    "        for i in dictionary:\n",
    "            if a_list[j] == i:\n",
    "                 my_string=my_string+dictionary[i]\n",
    "                    \n",
    "    print(my_string)\n",
    "                \n",
    "def Hex_to_Bin(n):\n",
    "    dictionary={'0000':'0', '0001':'1', '0010':'2', '0011':'3', '0100':'4', '0101':'5', '0110':'6', '0111':'7', '1000':'8', '1001':'9', '1010':\"A\", '1011':\"B\", '1100':\"C\", '1101':\"D\", '1110':\"E\", '1111':\"F\"}\n",
    "    \n",
    "    my_string=\"\"\n",
    "    \n",
    "    for i in range(len(n)):\n",
    "        for j in dictionary:\n",
    "            if n[i]==dictionary[j]:\n",
    "                my_string=my_string+j\n",
    "                \n",
    "    return(my_string)\n",
    "    \n",
    "    \n",
    "      \n",
    "def Converter (bi,n,bf):\n",
    "    \n",
    "    if bi==10 and bf==2:\n",
    "        print(Dec_to_Bin(n))\n",
    "        \n",
    "    if bi==2 and bf==10:\n",
    "        print(Bin_to_Dec(n))\n",
    "        \n",
    "    if bi==16 and bf==2:\n",
    "        print(Hex_to_Bin(n))\n",
    "        \n",
    "    if bi==2 and bf==16:\n",
    "        Bin_to_Hex(n)\n",
    "        \n",
    "    if bi==10 and bf==16:\n",
    "        #Dec_to_Bin deve ritornrmi un valore non solo fare print \n",
    "        Bin_to_Hex(Dec_to_Bin(n))\n",
    "    \n",
    "    if bi==16 and bf==10:\n",
    "        Bin_to_Dec(Hex_to_Bin(n)) #deve darmi un valore di ritorno \n",
    "         \n",
    "    \n",
    "           \n",
    "bi = 2\n",
    "n = \"01000110\"\n",
    "bf = 10\n",
    "\n",
    "Converter(bi,n,bf)"
   ]
  },
  {
   "cell_type": "code",
   "execution_count": 2,
   "metadata": {},
   "outputs": [
    {
     "name": "stdout",
     "output_type": "stream",
     "text": [
      "+ 1.316553672920962e-36\n"
     ]
    }
   ],
   "source": [
    "#es 2.\n",
    "def Bin_to_Dec(n):            \n",
    "    x = 0 \n",
    "    n=n[::-1]\n",
    "    for i in range (len(n)):\n",
    "        x = x + int(n[i])*2**i\n",
    "    return(x)\n",
    "\n",
    "\n",
    "def To_Float(x):\n",
    "    m = 1\n",
    "    j = -1\n",
    "    for i in range (9,23):\n",
    "        m = m + int(x[i])*(2**j) \n",
    "        j=j-1\n",
    "\n",
    "    f = m*(2**(Bin_to_Dec(x[1:9])-127))\n",
    "\n",
    "    if x==1:\n",
    "        print (\"-\",f)\n",
    "    else: \n",
    "        print(\"+\",f)\n",
    "        \n",
    "  \n",
    "\n",
    "x = \"10000011111000000000000000000000\"\n",
    "To_Float(x)\n",
    "\n",
    "    "
   ]
  },
  {
   "cell_type": "code",
   "execution_count": 3,
   "metadata": {},
   "outputs": [
    {
     "name": "stdout",
     "output_type": "stream",
     "text": [
      "8.98846567431158e+307 1.1125369292536007e-308\n"
     ]
    }
   ],
   "source": [
    "#es 3.\n",
    "import math\n",
    "x,y = 1,1\n",
    "max_list=[]\n",
    "min_list=[]\n",
    "\n",
    "\n",
    "while math.isinf(x)==False :\n",
    "    x=float(x*2)\n",
    "    \n",
    "    max_list.append(x)\n",
    "     \n",
    "        \n",
    "while (y != 0.0):\n",
    "    y=float(y/2)\n",
    "    \n",
    "    min_list.append(y)\n",
    "        \n",
    "print(max_list[len(max_list)-2],min_list[len(max_list)-2]) \n",
    "\n",
    "#da capire se effettivamnte è giusto cosi perchè \n",
    "#non coicidono con i valori di .sys_ info ecc, ma solo di un fattore 2 "
   ]
  },
  {
   "cell_type": "code",
   "execution_count": 4,
   "metadata": {},
   "outputs": [
    {
     "name": "stdout",
     "output_type": "stream",
     "text": [
      "1.1102230246251565e-16\n"
     ]
    }
   ],
   "source": [
    "#es 4.\n",
    "epsilon = 0.5\n",
    "x=1.0\n",
    "\n",
    "while x != x + epsilon:\n",
    "    epsilon = epsilon/2\n",
    "    \n",
    "print(epsilon)\n",
    "\n",
    "#stesso discorso di prima"
   ]
  },
  {
   "cell_type": "code",
   "execution_count": 5,
   "metadata": {},
   "outputs": [
    {
     "name": "stdout",
     "output_type": "stream",
     "text": [
      "-9.999894245993346e-07 -999999.999999\n",
      "-1000010.5755125057 -1.000000000001e-06\n",
      "-9.999894245993346e-07 -1.000000000001e-06\n"
     ]
    }
   ],
   "source": [
    "#es 5.\n",
    "import math\n",
    "\n",
    "#part a\n",
    "def Quadratic (a,b,c):\n",
    "    x1=(-b+math.sqrt(b**2-(4*a*c)))/(2*a)\n",
    "    x2=(-b-math.sqrt(b**2-(4*a*c)))/(2*a)\n",
    "    print(x1,x2)\n",
    "    \n",
    "    #print((a*x1*x1)+(b*x1)+c)\n",
    "    #print((a*x2*x2)+(b*x2)+c)\n",
    "\n",
    "Quadratic(0.001,1000,0.001)\n",
    "\n",
    "#part b\n",
    "\n",
    "def Quadratic2(a,b,c):\n",
    "    x1=(2*c)/((-b+math.sqrt(b**2-(4*a*c))))\n",
    "    x2=(2*c)/((-b-math.sqrt(b**2-(4*a*c))))\n",
    "    print(x1,x2)\n",
    "    \n",
    "    #print((a*x1*x1)+(b*x1)+c)\n",
    "    #print((a*x2*x2)+(b*x2)+c)\n",
    "    \n",
    "Quadratic2(0.001,1000,0.001)    \n",
    "\n",
    "#parte c\n",
    "\n",
    "def Quadratic3(a,b,c):\n",
    "    x1=(-b+math.sqrt(b**2-(4*a*c)))/(2*a)\n",
    "    x2=(2*c)/((-b-math.sqrt(b**2-(4*a*c))))\n",
    "    \n",
    "    print(x1,x2)\n",
    "    \n",
    "    \n",
    "Quadratic3(0.001,1000,0.001)    \n",
    "\n",
    "  "
   ]
  },
  {
   "cell_type": "code",
   "execution_count": 6,
   "metadata": {},
   "outputs": [
    {
     "name": "stdout",
     "output_type": "stream",
     "text": [
      "la derivata è: 1.010000000000001\n",
      "0.0001 produce una derivata di 1.0000999999998899\n",
      "1e-08 produce una derivata di 1.0000000039225287\n",
      "1e-10 produce una derivata di 1.000000082840371\n",
      "1e-12 produce una derivata di 1.0000889005833413\n",
      "1e-14 produce una derivata di 0.9992007221626509\n"
     ]
    }
   ],
   "source": [
    "#es 6.\n",
    "def f(x):\n",
    "    return x*(x-1)\n",
    "\n",
    "delta=10**(-2)\n",
    "\n",
    "d = (f(1+delta)-f(1))/delta \n",
    "print (\"la derivata è:\", d )\n",
    "\n",
    "#il valore corretto sarebbe 1.0, l'errore viene a crearsi quando si cerca di sotrarre due numeri molto vicini \n",
    "#tra loro nel computo della derivata f(1+delta) ed f(1) perchè delta è un numero piccolo. Si ha instabilità numerica\n",
    "\n",
    "delta1=10**(-4)\n",
    "delta2=10**(-8)\n",
    "delta3=10**(-10)\n",
    "delta4=10**(-12)\n",
    "delta5=10**(-14)\n",
    "\n",
    "\n",
    "d1 = (f(1+delta1)-f(1))/delta1 \n",
    "print (delta1, \"produce una derivata di\", d1 )\n",
    "\n",
    "d2 = (f(1+delta2)-f(1))/delta2 \n",
    "print (delta2, \"produce una derivata di\", d2 )\n",
    "\n",
    "d3 = (f(1+delta3)-f(1))/delta3 \n",
    "print (delta3, \"produce una derivata di\", d3 )\n",
    "\n",
    "d4 = (f(1+delta4)-f(1))/delta4 \n",
    "print (delta4, \"produce una derivata di\", d4 )\n",
    " \n",
    "d5 = (f(1+delta5)-f(1))/delta5 \n",
    "print (delta5, \"produce una derivata di\", d5 )\n",
    "\n"
   ]
  },
  {
   "cell_type": "code",
   "execution_count": 5,
   "metadata": {},
   "outputs": [
    {
     "name": "stdout",
     "output_type": "stream",
     "text": [
      "valore ottenuto: 1.5707947543355443\n",
      "valore reale:    1.57079632679\n",
      "errore percentuale: 0.00010010555976849229 %\n",
      "1.02 s ± 2.58 ms per loop (mean ± std. dev. of 7 runs, 1 loop each)\n",
      "performance with timeit: 56.87746579899999 sec\n",
      "valore ottenuto: 1.5707962982307755\n",
      "valore reale:    1.57079632679\n",
      "errore percentuale: 1.8181367026224292e-06 %\n"
     ]
    }
   ],
   "source": [
    "#es 7.\n",
    "import numpy as np\n",
    "\n",
    "\n",
    "intg = 0\n",
    "N = 1000000\n",
    "\n",
    "def h(x):\n",
    "    return (1-x**2)**0.5\n",
    "\n",
    "x = np.linspace(-1, 1, num=N)\n",
    "\n",
    "for i in range (1,N):\n",
    "\n",
    "    intg +=  ((2/N)*h(x[i]))\n",
    "    \n",
    "print(\"valore ottenuto:\",intg)\n",
    "print(\"valore reale:   \",1.57079632679)#il valore ottenuto è minore di quello reale, come ci si può attendere-->somma interna alla circoferenza\n",
    "err = (1.57079632679-intg)/1.57079632679\n",
    "\n",
    "print(\"errore percentuale:\",err*100,\"%\")\n",
    "\n",
    "%timeit [((2/N)*h(x[i])) for i in range(1,N)]\n",
    "\n",
    "#si vede che N può essere aumentato al più, circa di 4 ordini di grandezza per restare entro il secondo\n",
    "#invece per il minuto si deve arrivare all'ordine di N circa 5*10^7\n",
    "import timeit\n",
    "mysetup = \"import numpy as np\"\n",
    "mycode = '''\n",
    "intg = 0\n",
    "N = 55000000\n",
    "\n",
    "def h(x):\n",
    "    return (1-x**2)**0.5\n",
    "\n",
    "x = np.linspace(-1, 1, num=N)\n",
    "\n",
    "for i in range (1,N):\n",
    "\n",
    "    intg +=  ((2/N)*h(x[i]))'''\n",
    "\n",
    "print (\"performance with timeit:\", timeit.timeit(setup = mysetup,\n",
    "                     stmt = mycode,\n",
    "                     number = 1),\"sec\")\n",
    "\n",
    "intg = 0\n",
    "N = 55000000\n",
    "\n",
    "def h(x):\n",
    "    return (1-x**2)**0.5\n",
    "\n",
    "x = np.linspace(-1, 1, num=N)\n",
    "\n",
    "for i in range (1,N):\n",
    "\n",
    "    intg +=  ((2/N)*h(x[i]))\n",
    "    \n",
    "print(\"valore ottenuto:\",intg)\n",
    "print(\"valore reale:   \",1.57079632679)\n",
    "err = (1.57079632679-intg)/1.57079632679\n",
    "\n",
    "print(\"errore percentuale:\",err*100,\"%\")\n",
    "#il miglioramento che si ottiene è di due ordini di grandezza nell'errore percentuale: si passa da 10^-4 a 10^-6 \n",
    "    \n",
    "\n",
    "\n",
    "\n",
    "\n",
    "\n",
    "\n"
   ]
  },
  {
   "cell_type": "code",
   "execution_count": null,
   "metadata": {},
   "outputs": [],
   "source": []
  },
  {
   "cell_type": "code",
   "execution_count": null,
   "metadata": {},
   "outputs": [],
   "source": []
  }
 ],
 "metadata": {
  "kernelspec": {
   "display_name": "Python 3",
   "language": "python",
   "name": "python3"
  },
  "language_info": {
   "codemirror_mode": {
    "name": "ipython",
    "version": 3
   },
   "file_extension": ".py",
   "mimetype": "text/x-python",
   "name": "python",
   "nbconvert_exporter": "python",
   "pygments_lexer": "ipython3",
   "version": "3.8.8"
  }
 },
 "nbformat": 4,
 "nbformat_minor": 2
}
