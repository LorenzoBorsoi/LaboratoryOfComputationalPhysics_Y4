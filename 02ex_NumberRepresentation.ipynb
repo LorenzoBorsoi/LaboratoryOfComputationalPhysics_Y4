{
 "cells": [
  {
   "cell_type": "markdown",
   "metadata": {},
   "source": [
    "1\\. Write a function that converts number representation (bin<->dec<->hex)"
   ]
  },
  {
   "cell_type": "code",
   "execution_count": 1,
   "metadata": {},
   "outputs": [
    {
     "name": "stdout",
     "output_type": "stream",
     "text": [
      "1111111111\n",
      "127\n",
      "2578\n",
      "a12\n",
      "c\n",
      "1100\n"
     ]
    }
   ],
   "source": [
    "def dec_to_bin(N_dec):\n",
    "    N_dec = str(N_dec)\n",
    "    N_bin = \"\"\n",
    "    \n",
    "    while int(N_dec) > 0:\n",
    "        N_bin += str(int(N_dec)%2)\n",
    "        N_dec = str(int(N_dec) // 2)\n",
    "    \n",
    "    return N_bin[::-1]\n",
    "\n",
    "\n",
    "def bin_to_dec(N_bin):\n",
    "    N_dec = 0\n",
    "    pos = 0\n",
    "    \n",
    "    while len(N_bin) > 0:\n",
    "        N_dec += int(N_bin[-1])*(2**pos)\n",
    "        N_bin = N_bin[:-1]\n",
    "        pos += 1\n",
    "    \n",
    "    return str(N_dec)\n",
    "\n",
    "\n",
    "# create numbers-letters hexadecimal maps\n",
    "lett_to_num = {\"a\":10, \"b\":11, \"c\":12, \"d\":13, \"e\":14, \"f\":15}\n",
    "for n in range(10): lett_to_num[str(n)] = n\n",
    "num_to_lett = {value:key for key, value in lett_to_num.items()}\n",
    "#print(lett_to_num)\n",
    "#print(num_to_lett)\n",
    "\n",
    "\n",
    "def dec_to_hex(N_dec):\n",
    "    N_dec = str(N_dec)\n",
    "    N_hex = \"\"\n",
    "    \n",
    "    while int(N_dec) > 0:\n",
    "        N_hex += num_to_lett[int(N_dec)%16]\n",
    "        N_dec = str(int(N_dec) // 16)\n",
    "    \n",
    "    return N_hex[::-1]\n",
    "\n",
    "\n",
    "\n",
    "def hex_to_dec(N_hex):\n",
    "    N_dec = 0\n",
    "    pos = 0\n",
    "    \n",
    "    while len(N_hex) > 0:\n",
    "        N_dec += lett_to_num[N_hex[-1]]*(16**pos)\n",
    "        N_hex = N_hex[:-1]\n",
    "        pos += 1\n",
    "    \n",
    "    return str(N_dec)\n",
    "\n",
    "\n",
    "def bin_to_hex(N_bin):\n",
    "    return dec_to_hex(bin_to_dec(N_bin))\n",
    "\n",
    "\n",
    "def hex_to_bin(N_hex):\n",
    "    return dec_to_bin(hex_to_dec(N_hex))\n",
    "\n",
    "\n",
    "print(dec_to_bin(\"1023\"))\n",
    "print(bin_to_dec(\"1111111\"))\n",
    "print(hex_to_dec(\"0a12\"))\n",
    "print(dec_to_hex(\"2578\"))\n",
    "print(bin_to_hex(\"1100\"))\n",
    "print(hex_to_bin(\"c\"))"
   ]
  },
  {
   "cell_type": "markdown",
   "metadata": {},
   "source": [
    "2\\. Write a function that converts a 32 bit word into a single precision floating point (i.e. interprets the various bits as sign, mantissa and exponent)"
   ]
  },
  {
   "cell_type": "code",
   "execution_count": 2,
   "metadata": {},
   "outputs": [
    {
     "name": "stdout",
     "output_type": "stream",
     "text": [
      "01000000010010010000111111011011 in float is 3.1415927410125732\n"
     ]
    }
   ],
   "source": [
    "def bit32_to_float(s):\n",
    "    \"\"\" input is in the format: sign(0), exponent(1-8), mantissa(9-31) \"\"\"\n",
    "    \n",
    "    # mantissa\n",
    "    f = 1 + int(bin_to_dec(s[9:]))*(2**(-23))\n",
    "    \n",
    "    # exponent\n",
    "    f *= 2**(int(bin_to_dec(s[1:8+1]))-127)\n",
    "    \n",
    "    # sign\n",
    "    f *= (-1)**int(bin_to_dec(s[0]))\n",
    "    \n",
    "    return f\n",
    "\n",
    "# pi\n",
    "bit32 = \"01000000010010010000111111011011\"\n",
    "print(bit32, \"in float is\", bit32_to_float(bit32))"
   ]
  },
  {
   "cell_type": "markdown",
   "metadata": {},
   "source": [
    "3\\. Write a program to determine the underflow and overflow limits (within a factor of 2) for python on your computer. \n",
    "\n",
    "**Tips**: define two variables inizialized to 1 and halve/double them enough time to exceed the under/over-flow limits  "
   ]
  },
  {
   "cell_type": "code",
   "execution_count": 3,
   "metadata": {},
   "outputs": [
    {
     "name": "stdout",
     "output_type": "stream",
     "text": [
      "overflow = 8.98846567431158e+307\n",
      "underflow = 5e-324\n"
     ]
    }
   ],
   "source": [
    "# determine the overflow\n",
    "\n",
    "n_ov1, n_ov2 = 1.0, 2.0\n",
    "\n",
    "while n_ov2 < 2*n_ov2:\n",
    "    n_ov1 *=2\n",
    "    n_ov2 *= 2\n",
    "    \n",
    "print(\"overflow =\", n_ov1)\n",
    "\n",
    "\n",
    "\n",
    "# determine the underflow\n",
    "n_un1, n_un2 = 1.0, 0.5\n",
    "\n",
    "while n_un2 > n_un2/2:\n",
    "    n_un1 /=2\n",
    "    n_un2 /= 2\n",
    "    \n",
    "print(\"underflow =\", n_un1)"
   ]
  },
  {
   "cell_type": "markdown",
   "metadata": {},
   "source": [
    "4\\. Write a program to determine the machine precision\n",
    "\n",
    "**Tips**: define a new variable by adding a smaller and smaller value (proceeding similarly to prob. 2) to an original variable and check the point where the two are the same "
   ]
  },
  {
   "cell_type": "code",
   "execution_count": 4,
   "metadata": {},
   "outputs": [
    {
     "name": "stdout",
     "output_type": "stream",
     "text": [
      "machine precision = 5.551115123125783e-17\n"
     ]
    }
   ],
   "source": [
    "x = 1.0\n",
    "y = x + 1.0\n",
    "pos = 1\n",
    "\n",
    "while y > x:\n",
    "    y = x + 2.0**(-pos)\n",
    "    pos += 1\n",
    "    \n",
    "print(\"machine precision =\", 2.0**(-pos))"
   ]
  },
  {
   "cell_type": "markdown",
   "metadata": {},
   "source": [
    "5\\. Write a function that takes in input three parameters $a$, $b$ and $c$ and prints out the two solutions to the quadratic equation $ax^2+bx+c=0$ using the standard formula:\n",
    "$$\n",
    "x=\\frac{-b\\pm\\sqrt{b^2-4ac}}{2a}\n",
    "$$\n",
    "\n",
    "(a) use the program to compute the solution for $a=0.001$, $b=1000$ and $c=0.001$\n",
    "\n",
    "(b) re-express the standard solution formula by multiplying top and bottom by $-b\\mp\\sqrt{b^2-4ac}$ and again find the solution for $a=0.001$, $b=1000$ and $c=0.001$. How does it compare with what previously obtained? Why?\n",
    "\n",
    "(c) write a function that compute the roots of a quadratic equation accurately in all cases"
   ]
  },
  {
   "cell_type": "code",
   "execution_count": 5,
   "metadata": {},
   "outputs": [
    {
     "name": "stdout",
     "output_type": "stream",
     "text": [
      "quadsolA = (-9.999894245993346e-07, -999999.999999)\n",
      "quadsolB = (-1.000000000001e-06, -1000010.5755125057)\n",
      "The results A and B are different because of the errors that arise when you subtract two numbers that are very close. Less subtractions equals to best programming life.\n",
      "\n",
      "best quadsol = (-999999.999999, -1.000000000001e-06)\n",
      "With this third method we avoid the subtraction between similar numbers by choosing the greatest root in absolute value and by computing the least root using the analitical knowledge we have about the two roots of the qudratic equation. For example, we know that x1 * x2 = c / a.\n"
     ]
    }
   ],
   "source": [
    "# a)\n",
    "def quadsolA(a, b, c):\n",
    "    x1 = (-b + (b**2 - 4*a*c)**0.5)/(2*a)\n",
    "    x2 = (-b - (b**2 - 4*a*c)**0.5)/(2*a)\n",
    "    \n",
    "    return x1, x2\n",
    "\n",
    "print(\"quadsolA =\", quadsolA(0.001,1000,0.001))\n",
    "\n",
    "\n",
    "# b)\n",
    "def quadsolB(a, b, c):\n",
    "    x1 = (2*c)/(-b - (b**2 - 4*a*c)**0.5)\n",
    "    x2 = (2*c)/(-b + (b**2 - 4*a*c)**0.5)\n",
    "    \n",
    "    return x1, x2\n",
    "\n",
    "print(\"quadsolB =\", quadsolB(0.001,1000,0.001))\n",
    "print(\"The results A and B are different because of the errors that arise when you subtract two numbers that are very close. Less subtractions equals to best programming life.\\n\")\n",
    "\n",
    "\n",
    "# c)\n",
    "def quadsol(a, b, c):\n",
    "    \n",
    "    y1 = -(2*c)/(b + (b**2 - 4*a*c)**0.5)\n",
    "    y2 = -(b + (b**2 - 4*a*c)**0.5)/(2*a)\n",
    "    \n",
    "    # check the biggest root in absolute values\n",
    "    if abs(y1) > abs(y2):\n",
    "        x1 = y1\n",
    "    else:\n",
    "        x1 = y2\n",
    "    \n",
    "    # compute the least root using a division (to avoid the bad subtractions)\n",
    "    x2 = c / (a * x1)\n",
    "    \n",
    "    return x1, x2\n",
    "\n",
    "print(\"best quadsol =\", quadsol(0.001,1000,0.001))\n",
    "print(\"With this third method we avoid the subtraction between similar numbers by choosing the greatest root in absolute value and by computing the least root using the analitical knowledge we have about the two roots of the qudratic equation. For example, we know that x1 * x2 = c / a.\")\n"
   ]
  },
  {
   "cell_type": "markdown",
   "metadata": {},
   "source": [
    "6\\. Write a program that implements the function $f(x)=x(x−1)$\n",
    "\n",
    "(a) Calculate the derivative of the function at the point $x = 1$ using the derivative definition:\n",
    "\n",
    "$$\n",
    "\\frac{{\\rm d}f}{{\\rm d}x} = \\lim_{\\delta\\to0} \\frac{f(x+\\delta)-f(x)}{\\delta}\n",
    "$$\n",
    "\n",
    "with $\\delta = 10^{−2}$. Calculate the true value of the same derivative analytically and compare with the answer your program gives. The two will not agree perfectly. Why not?\n",
    "\n",
    "(b) Repeat the calculation for $\\delta = 10^{−4}, 10^{−6}, 10^{−8}, 10^{−10}, 10^{−12}$ and $10^{−14}$. How does the accuracy scales with $\\delta$?"
   ]
  },
  {
   "cell_type": "code",
   "execution_count": 6,
   "metadata": {},
   "outputs": [
    {
     "name": "stdout",
     "output_type": "stream",
     "text": [
      "Analitical derivative = 1 \n",
      "\n",
      "Computational derivative of a) = 1.010000000000001\n",
      "The two derivatives are different because delta = 0.01 is not small enough to obtain the analitical limit.\n",
      "\n",
      "deltas = [0.0001, 1e-06, 1e-08, 1e-10, 1e-12, 1e-14]\n",
      "Computational derivatives of b) = [1.0000999999998899, 1.0000009999177333, 1.0000000039225287, 1.000000082840371, 1.0000889005833413, 0.9992007221626509]\n",
      "\n",
      " The accuracy of the derivatives increases as delta decreases. When delta = 1e-08 the accuracy is maximum and after that the accuracy decreases even if we further decrease delta. For delta = 1e-14, for example, the accuracy of the derivative is less than the accuracy of the same derivative for delta = 1e-4. \n",
      " That behaviour can be explained by the fact that for very small deltas we are trying to compute the derivative of fun1(x) by the derivative definition, which implies a subraction between two very similar numbers.\n"
     ]
    }
   ],
   "source": [
    "def fun1(x):\n",
    "    return x * (x - 1)\n",
    "\n",
    "x = 1\n",
    "dfun1_analit = 2*x - 1\n",
    "print(\"Analitical derivative =\", dfun1_analit, \"\\n\")\n",
    "\n",
    "\n",
    "# a)\n",
    "delta = 10**(-2)\n",
    "\n",
    "dfun1a_comput = (fun1(x + delta) - fun1(x)) / delta\n",
    "\n",
    "print(\"Computational derivative of a) =\", dfun1a_comput)\n",
    "print(\"The two derivatives are different because delta = 0.01 is not small enough to obtain the analitical limit.\\n\")\n",
    "\n",
    "\n",
    "# b)\n",
    "deltas = [10**(-p) for p in range(4,15,2)]\n",
    "print(\"deltas =\", deltas)\n",
    "\n",
    "dfun1b_comput = [(fun1(x + d) - fun1(x)) / d for d in deltas]\n",
    "print(\"Computational derivatives of b) =\", dfun1b_comput)\n",
    "\n",
    "print(\"\\n The accuracy of the derivatives increases as delta decreases. When delta = 1e-08 the accuracy is maximum and after that the accuracy decreases even if we further decrease delta. For delta = 1e-14, for example, the accuracy of the derivative is less than the accuracy of the same derivative for delta = 1e-4. \\n That behaviour can be explained by the fact that for very small deltas we are trying to compute the derivative of fun1(x) by the derivative definition, which implies a subraction between two very similar numbers.\")\n"
   ]
  },
  {
   "cell_type": "markdown",
   "metadata": {},
   "source": [
    "7\\. Consider the integral of the semicircle of radius 1:\n",
    "$$\n",
    "I=\\int_{-1}^{1} \\sqrt(1-x^2) {\\rm d}x\n",
    "$$\n",
    "which it's known to be $I=\\frac{\\pi}{2}=1.57079632679...$.\n",
    "Alternatively we can use the Riemann definition of the integral:\n",
    "$$\n",
    "I=\\lim_{N\\to\\infty} \\sum_{k=1}^{N} h y_k \n",
    "$$\n",
    "\n",
    "with $h=2/N$ the width of each of the $N$ slices the domain is divided into and where\n",
    "$y_k$ is the value of the function at the $k-$th slice.\n",
    "\n",
    "(a) Write a programe to compute the integral with $N=100$. How does the result compares to the true value?\n",
    "\n",
    "(b) How much can $N$ be increased if the computation needs to be run in less than a second? What is the gain in running it for 1 minute? \n"
   ]
  },
  {
   "cell_type": "code",
   "execution_count": 7,
   "metadata": {},
   "outputs": [
    {
     "name": "stdout",
     "output_type": "stream",
     "text": [
      "Analitical integral = 1.5707963267948966 \n",
      "\n",
      "Computational integral of a) = 1.5691342555492505\n",
      "Relative errore of a) = -0.0010581074180619238\n",
      "The two integrals are different because N = 100 is not big enough to obtain the analitical limit.\n",
      "\n"
     ]
    }
   ],
   "source": [
    "import numpy as np\n",
    "\n",
    "def fun2(x):\n",
    "    return (1 - x**2)**0.5\n",
    "\n",
    "Ifun2_analit = np.pi/2\n",
    "print(\"Analitical integral =\", Ifun2_analit, \"\\n\")\n",
    "\n",
    "\n",
    "# a)\n",
    "N = 100\n",
    "h = 2 / N\n",
    "Ifun2a_comput = 0\n",
    "\n",
    "for k in range(N):\n",
    "    Ifun2a_comput += h * fun2(-1 + k * h)\n",
    "\n",
    "print(\"Computational integral of a) =\", Ifun2a_comput)\n",
    "print(\"Relative errore of a) =\", (Ifun2a_comput - Ifun2_analit) / Ifun2_analit)\n",
    "print(\"The two integrals are different because N = 100 is not big enough to obtain the analitical limit.\\n\")"
   ]
  },
  {
   "cell_type": "code",
   "execution_count": 8,
   "metadata": {},
   "outputs": [
    {
     "name": "stdout",
     "output_type": "stream",
     "text": [
      "935 ms ± 24.7 ms per loop (mean ± std. dev. of 7 runs, 1 loop each)\n"
     ]
    }
   ],
   "source": [
    "%%timeit\n",
    "\n",
    "# b) in less than a second\n",
    "\n",
    "N = 3*10**6\n",
    "h = 2 / N\n",
    "Ifun2b_1s_comput = 0\n",
    "\n",
    "for k in range(N):\n",
    "    Ifun2b_1s_comput += h * fun2(-1 + k * h)"
   ]
  },
  {
   "cell_type": "code",
   "execution_count": 9,
   "metadata": {},
   "outputs": [
    {
     "name": "stdout",
     "output_type": "stream",
     "text": [
      "To run the computation in less than a second we have to choose N < 3.00e+06\n",
      "Computational integral of b) in less than a second = 1.5707963264747942\n",
      "Relative errore of of b) in less than a second = -2.0378351004482953e-10\n"
     ]
    }
   ],
   "source": [
    "N = 3*10**6\n",
    "h = 2 / N\n",
    "Ifun2b_1s_comput = 0\n",
    "\n",
    "for k in range(N):\n",
    "    Ifun2b_1s_comput += h * fun2(-1 + k * h)\n",
    "\n",
    "print(\"To run the computation in less than a second we have to choose N < %5.2e\"% (N))\n",
    "print(\"Computational integral of b) in less than a second =\", Ifun2b_1s_comput)\n",
    "print(\"Relative errore of of b) in less than a second =\", (Ifun2b_1s_comput - Ifun2_analit) / Ifun2_analit)"
   ]
  },
  {
   "cell_type": "code",
   "execution_count": 10,
   "metadata": {},
   "outputs": [
    {
     "name": "stdout",
     "output_type": "stream",
     "text": [
      "47.2 s ± 755 ms per loop (mean ± std. dev. of 7 runs, 1 loop each)\n"
     ]
    }
   ],
   "source": [
    "%%timeit\n",
    "\n",
    "# b) in less than a minute\n",
    "\n",
    "N = 150*10**6\n",
    "h = 2 / N\n",
    "Ifun2b_1min_comput = 0\n",
    "\n",
    "for k in range(N):\n",
    "    Ifun2b_1min_comput += h * fun2(-1 + k * h)"
   ]
  },
  {
   "cell_type": "code",
   "execution_count": 13,
   "metadata": {},
   "outputs": [
    {
     "name": "stdout",
     "output_type": "stream",
     "text": [
      "To run the computation in less than a minute we have to choose N < 1.50e+08\n",
      "Computational integral of b) in less than a minute = 1.5707963267944103\n",
      "Relative errore of of b) in less than a minute = -3.095739889957823e-13\n",
      "With respect to the 1s-computation, the 1min-computation obtained a result 6.58e+02 times more accurate\n"
     ]
    }
   ],
   "source": [
    "N = 150*10**6\n",
    "h = 2 / N\n",
    "Ifun2b_1min_comput = 0\n",
    "\n",
    "for k in range(N):\n",
    "    Ifun2b_1min_comput += h * fun2(-1 + k * h)\n",
    "\n",
    "print(\"To run the computation in less than a minute we have to choose N < %5.2e\"% (N))\n",
    "print(\"Computational integral of b) in less than a minute =\", Ifun2b_1min_comput)\n",
    "print(\"Relative errore of of b) in less than a minute =\", (Ifun2b_1min_comput - Ifun2_analit) / Ifun2_analit)\n",
    "print(\"With respect to the 1s-computation, the 1min-computation obtained a result %5.2e times more accurate\"% ((Ifun2b_1s_comput - Ifun2_analit)/(Ifun2b_1min_comput - Ifun2_analit)))"
   ]
  },
  {
   "cell_type": "code",
   "execution_count": null,
   "metadata": {},
   "outputs": [],
   "source": []
  }
 ],
 "metadata": {
  "kernelspec": {
   "display_name": "Python 3 (ipykernel)",
   "language": "python",
   "name": "python3"
  },
  "language_info": {
   "codemirror_mode": {
    "name": "ipython",
    "version": 3
   },
   "file_extension": ".py",
   "mimetype": "text/x-python",
   "name": "python",
   "nbconvert_exporter": "python",
   "pygments_lexer": "ipython3",
   "version": "3.8.12"
  }
 },
 "nbformat": 4,
 "nbformat_minor": 2
}
