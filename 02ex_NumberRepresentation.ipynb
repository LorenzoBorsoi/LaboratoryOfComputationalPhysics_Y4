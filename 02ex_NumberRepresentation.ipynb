{
 "cells": [
  {
   "cell_type": "markdown",
   "metadata": {},
   "source": [
    "1\\. Write a function that converts number representation (bin<->dec<->hex)"
   ]
  },
  {
   "cell_type": "code",
   "execution_count": 1,
   "metadata": {},
   "outputs": [
    {
     "name": "stdout",
     "output_type": "stream",
     "text": [
      "Input reperesntation of number 2, 10 or 16: 16\n",
      "Input number: 0x17\n",
      "Binary representation:  0b10111 \n",
      "Decimal representation:  23 \n",
      "Hexadecimal representation 0x17\n"
     ]
    }
   ],
   "source": [
    "def conversion():\n",
    "    representation = int(input (\"Input reperesntation of number 2, 10 or 16: \"))\n",
    "    x = input (\"Input number: \")\n",
    "    x_dec = int(x, representation)\n",
    "    x_bin = bin(x_dec)\n",
    "    x_hex = hex(x_dec)\n",
    "    return x_bin, x_dec, x_hex\n",
    "\n",
    "a2, a10, a16 = conversion()\n",
    "print(\"Binary representation: \",a2,\"\\nDecimal representation: \",a10,\"\\nHexadecimal representation\",a16)"
   ]
  },
  {
   "cell_type": "markdown",
   "metadata": {},
   "source": [
    "2\\. Write a function that converts a 32 bit word into a single precision floating point (i.e. interprets the various bits as sign, mantissa and exponent)"
   ]
  },
  {
   "cell_type": "code",
   "execution_count": 2,
   "metadata": {},
   "outputs": [
    {
     "name": "stdout",
     "output_type": "stream",
     "text": [
      "1.316553672920962e-36\n",
      "-5.5\n"
     ]
    }
   ],
   "source": [
    "def convert(word):\n",
    "    bit = [x for x in word]\n",
    "    exp = int( ''.join(bit[1:9]) , 2)\n",
    "    mantissa = ''.join(bit[9:32])\n",
    "    m = 1\n",
    "    for i in range (len(mantissa)):\n",
    "        if mantissa[i]=='1':\n",
    "            m += pow(1/2,i+1)\n",
    "    x = m*pow(2,exp-127)\n",
    "    if bit[0]=='1':\n",
    "        x=x*(-1)\n",
    "    return x\n",
    "\n",
    "x = convert('00000011111000000000000000000000')\n",
    "print(x)\n",
    "y = convert('11000000101100000000000000000000')\n",
    "print(y)"
   ]
  },
  {
   "cell_type": "markdown",
   "metadata": {},
   "source": [
    "3\\. Write a program to determine the underflow and overflow limits (within a factor of 2) for python on your computer. \n",
    "\n",
    "**Tips**: define two variables inizialized to 1 and halve/double them enough time to exceed the under/over-flow limits  "
   ]
  },
  {
   "cell_type": "code",
   "execution_count": 3,
   "metadata": {},
   "outputs": [
    {
     "name": "stdout",
     "output_type": "stream",
     "text": [
      "underflow limit:  5e-324\n",
      "overflow limit:  8.98846567431158e+307\n"
     ]
    }
   ],
   "source": [
    "x=1.0\n",
    "u=0\n",
    "while(x!=x/2):\n",
    "    x=x/2\n",
    "    u+=1\n",
    "print (\"underflow limit: \",pow(1/2,u-1))\n",
    "\n",
    "y=1.0\n",
    "o=0\n",
    "while(y!=y*2):\n",
    "    y=y*2\n",
    "    o+=1\n",
    "print (\"overflow limit: \",1.0*pow(2,o-1))"
   ]
  },
  {
   "cell_type": "markdown",
   "metadata": {},
   "source": [
    "4\\. Write a program to determine the machine precision\n",
    "\n",
    "**Tips**: define a new variable by adding a smaller and smaller value (proceeding similarly to prob. 2) to an original variable and check the point where the two are the same "
   ]
  },
  {
   "cell_type": "code",
   "execution_count": 4,
   "metadata": {},
   "outputs": [
    {
     "name": "stdout",
     "output_type": "stream",
     "text": [
      "1.0 * pow(10, -15 ) =  1.00000000000111\n",
      "1.0 * pow(10, -16 ) =  1.0000000000011111\n",
      "1.0 * pow(10, -17 ) =  1.0000000000011111\n"
     ]
    }
   ],
   "source": [
    "a=1\n",
    "e=-12\n",
    "\n",
    "while (a!= a+1.0*pow(10,e)):\n",
    "    e_prev = e\n",
    "    prev = a\n",
    "    \n",
    "    a=a+1.0*pow(10,e)\n",
    "    e=e-1\n",
    "    \n",
    "    e_next = e-1\n",
    "    nex = a+1.0*pow(10,e-1)\n",
    "    \n",
    "print(\"1.0 * pow(10,\",e_prev,\") = \",prev)\n",
    "print(\"1.0 * pow(10,\",e,\") = \",a)\n",
    "print(\"1.0 * pow(10,\",e_next,\") = \",nex)"
   ]
  },
  {
   "cell_type": "markdown",
   "metadata": {},
   "source": [
    "5\\. Write a function that takes in input three parameters $a$, $b$ and $c$ and prints out the two solutions to the quadratic equation $ax^2+bx+c=0$ using the standard formula:\n",
    "$$\n",
    "x=\\frac{-b\\pm\\sqrt{b^2-4ac}}{2a}\n",
    "$$\n",
    "\n",
    "(a) use the program to compute the solution for $a=0.001$, $b=1000$ and $c=0.001$\n",
    "\n",
    "(b) re-express the standard solution formula by multiplying top and bottom by $-b\\mp\\sqrt{b^2-4ac}$ and again find the solution for $a=0.001$, $b=1000$ and $c=0.001$. How does it compare with what previously obtained? Why?\n",
    "\n",
    "(c) write a function that compute the roots of a quadratic equation accurately in all cases"
   ]
  },
  {
   "cell_type": "code",
   "execution_count": 5,
   "metadata": {},
   "outputs": [
    {
     "name": "stdout",
     "output_type": "stream",
     "text": [
      "(a): x1= -999999.999999 \tx2= -9.999894245993346e-07\n",
      "(b): x1= -1000010.5755125057 \tx2= -1.0000000000009999e-06\n",
      "(c): x1= -999999.999999 \tx2= -1.000000000001e-06\n"
     ]
    }
   ],
   "source": [
    "import math\n",
    "def quadratic_a(a,b,c):\n",
    "    x1 = ((-1)*b - math.sqrt(pow(b,2) - 4*a*c)) / (2*a)\n",
    "    x2 = ((-1)*b + math.sqrt(pow(b,2) - 4*a*c)) / (2*a)\n",
    "    return x1,x2\n",
    "\n",
    "a1,a2 = quadratic_a(0.001,1000,0.001)\n",
    "print(\"(a): x1=\",a1,\"\\tx2=\",a2)\n",
    "\n",
    "#doing this we still subtract two nearly equal numbers but in the calculation of the other root\n",
    "def quadratic_b(a,b,c):\n",
    "    x1 = (4*a*c) / ( (2*a) * ((-1)*b + math.sqrt(pow(b,2) - 4*a*c)) )\n",
    "    x2 = (4*a*c) / ( (2*a) * ((-1)*b - math.sqrt(pow(b,2) - 4*a*c)) )\n",
    "    return x1,x2\n",
    "\n",
    "b1,b2 = quadratic_b(0.001,1000,0.001)\n",
    "print(\"(b): x1=\",b1,\"\\tx2=\",b2)  \n",
    "\n",
    "\n",
    "#only numbers of the same sign are added avoiding cancellation problems between b and the square root of b*b-4ac\n",
    "def quadratic_c(a,b,c):\n",
    "    if b>0:\n",
    "        x1 = ((-1)*b - math.sqrt(pow(b,2) - 4*a*c)) / (2*a)\n",
    "        x2 = c/(a*x1)\n",
    "    else:\n",
    "        x1 = ((-1)*b + math.sqrt(pow(b,2) - 4*a*c)) / (2*a)\n",
    "        x2 = c/(a*x1)        \n",
    "    return x1,x2    \n",
    "\n",
    "c1,c2 = quadratic_c(0.001,1000,0.001)\n",
    "print(\"(c): x1=\",c1,\"\\tx2=\",c2)"
   ]
  },
  {
   "cell_type": "markdown",
   "metadata": {},
   "source": [
    "6\\. Write a program that implements the function $f(x)=x(x−1)$\n",
    "\n",
    "(a) Calculate the derivative of the function at the point $x = 1$ using the derivative definition:\n",
    "\n",
    "$$\n",
    "\\frac{{\\rm d}f}{{\\rm d}x} = \\lim_{\\delta\\to0} \\frac{f(x+\\delta)-f(x)}{\\delta}\n",
    "$$\n",
    "\n",
    "with $\\delta = 10^{−2}$. Calculate the true value of the same derivative analytically and compare with the answer your program gives. The two will not agree perfectly. Why not?\n",
    "\n",
    "(b) Repeat the calculation for $\\delta = 10^{−4}, 10^{−6}, 10^{−8}, 10^{−10}, 10^{−12}$ and $10^{−14}$. How does the accuracy scales with $\\delta$?"
   ]
  },
  {
   "cell_type": "code",
   "execution_count": 6,
   "metadata": {},
   "outputs": [
    {
     "name": "stdout",
     "output_type": "stream",
     "text": [
      "delta = 0.01 \t 1.010000000000001\n",
      "delta = 0.0001 \t 1.0000999999998899\n",
      "delta = 1e-06 \t 1.0000009999177333\n",
      "delta = 1e-08 \t 1.0000000039225287\n",
      "delta = 1e-10 \t 1.000000082840371\n",
      "delta = 1e-12 \t 1.0000889005833413\n",
      "delta = 1e-14 \t 0.9992007221626509\n"
     ]
    }
   ],
   "source": [
    "def d(F,x,delta):\n",
    "    return (F(x+delta) - F(x)) / delta\n",
    "\n",
    "f = lambda x: x*(x-1)\n",
    "\n",
    "for i in range(2,15,2):\n",
    "    delta = pow(10,-i)\n",
    "    print(\"delta =\",delta,\"\\t\",d(f,1,delta))"
   ]
  },
  {
   "cell_type": "markdown",
   "metadata": {},
   "source": [
    "7\\. Consider the integral of the semicircle of radius 1:\n",
    "$$\n",
    "I=\\int_{-1}^{1} \\sqrt(1-x^2) {\\rm d}x\n",
    "$$\n",
    "which it's known to be $I=\\frac{\\pi}{2}=1.57079632679...$.\n",
    "Alternatively we can use the Riemann definition of the integral:\n",
    "$$\n",
    "I=\\lim_{N\\to\\infty} \\sum_{k=1}^{N} h y_k \n",
    "$$\n",
    "\n",
    "with $h=2/N$ the width of each of the $N$ slices the domain is divided into and where\n",
    "$y_k$ is the value of the function at the $k-$th slice.\n",
    "\n",
    "(a) Write a programe to compute the integral with $N=100$. How does the result compares to the true value?\n",
    "\n",
    "(b) How much can $N$ be increased if the computation needs to be run in less than a second? What is the gain in running it for 1 minute? \n"
   ]
  },
  {
   "cell_type": "code",
   "execution_count": 7,
   "metadata": {},
   "outputs": [
    {
     "name": "stdout",
     "output_type": "stream",
     "text": [
      "N = 100 :  1.5691342555492505\n",
      "159 µs ± 11.1 µs per loop (mean ± std. dev. of 7 runs, 1000 loops each)\n",
      "\n",
      "N = 500400 :  1.5707963220966117\n",
      "1.02 s ± 107 ms per loop (mean ± std. dev. of 7 runs, 1 loop each)\n"
     ]
    }
   ],
   "source": [
    "import math\n",
    "import time\n",
    "\n",
    "F = lambda x: math.sqrt(1-pow(x,2))\n",
    "\n",
    "def Riemann(f,a,b,N):\n",
    "    h=(b-a)/N\n",
    "    s=0\n",
    "    for k in range(1,N):\n",
    "        s += h*f(a+(k*h))\n",
    "    return s\n",
    "\n",
    "N = 100   \n",
    "print(\"N =\",N,\": \", Riemann(F,-1,1,N))\n",
    "%timeit Riemann(F,-1,1,N)\n",
    "\n",
    "N = 500000\n",
    "while True:\n",
    "    start_time = time.time()\n",
    "    integral = Riemann(F,-1,1,N) \n",
    "    if time.time() - start_time > 1:\n",
    "        break\n",
    "    N=N+100  \n",
    "    \n",
    "print(\"\\nN =\",N,\": \",integral)\n",
    "%timeit Riemann(F,-1,1,N)"
   ]
  }
 ],
 "metadata": {
  "kernelspec": {
   "display_name": "Python 3",
   "language": "python",
   "name": "python3"
  },
  "language_info": {
   "codemirror_mode": {
    "name": "ipython",
    "version": 3
   },
   "file_extension": ".py",
   "mimetype": "text/x-python",
   "name": "python",
   "nbconvert_exporter": "python",
   "pygments_lexer": "ipython3",
   "version": "3.8.8"
  }
 },
 "nbformat": 4,
 "nbformat_minor": 2
}
