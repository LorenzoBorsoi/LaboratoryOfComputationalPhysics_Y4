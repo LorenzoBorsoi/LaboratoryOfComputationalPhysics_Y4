{
 "cells": [
  {
   "cell_type": "code",
   "execution_count": null,
   "id": "ef3d831a",
   "metadata": {},
   "outputs": [],
   "source": [
    "#Q1"
   ]
  },
  {
   "cell_type": "code",
   "execution_count": null,
   "id": "9662ec44",
   "metadata": {},
   "outputs": [],
   "source": [
    "#Q2"
   ]
  },
  {
   "cell_type": "code",
   "execution_count": 1,
   "id": "2fbefb0a",
   "metadata": {},
   "outputs": [
    {
     "name": "stdout",
     "output_type": "stream",
     "text": [
      "5e-324\n"
     ]
    }
   ],
   "source": [
    "#Q3a\n",
    "\n",
    "A=1\n",
    "B=1\n",
    "x=A\n",
    "y=B\n",
    "while (x!=0):\n",
    "    z=x\n",
    "    x=x/2\n",
    "print(z)"
   ]
  },
  {
   "cell_type": "code",
   "execution_count": 2,
   "id": "74da0c76",
   "metadata": {},
   "outputs": [
    {
     "ename": "KeyboardInterrupt",
     "evalue": "",
     "output_type": "error",
     "traceback": [
      "\u001b[1;31m---------------------------------------------------------------------------\u001b[0m",
      "\u001b[1;31mKeyboardInterrupt\u001b[0m                         Traceback (most recent call last)",
      "\u001b[1;32m<ipython-input-2-ec5b40d0dfac>\u001b[0m in \u001b[0;36m<module>\u001b[1;34m\u001b[0m\n\u001b[0;32m      7\u001b[0m \u001b[1;32mwhile\u001b[0m \u001b[1;33m(\u001b[0m\u001b[0mx\u001b[0m\u001b[1;33m!=\u001b[0m\u001b[0mmath\u001b[0m\u001b[1;33m.\u001b[0m\u001b[0minf\u001b[0m\u001b[1;33m)\u001b[0m\u001b[1;33m:\u001b[0m\u001b[1;33m\u001b[0m\u001b[1;33m\u001b[0m\u001b[0m\n\u001b[0;32m      8\u001b[0m     \u001b[0mz\u001b[0m\u001b[1;33m=\u001b[0m\u001b[0mx\u001b[0m\u001b[1;33m\u001b[0m\u001b[1;33m\u001b[0m\u001b[0m\n\u001b[1;32m----> 9\u001b[1;33m     \u001b[0mx\u001b[0m\u001b[1;33m=\u001b[0m\u001b[0mx\u001b[0m\u001b[1;33m*\u001b[0m\u001b[1;36m2\u001b[0m\u001b[1;33m\u001b[0m\u001b[1;33m\u001b[0m\u001b[0m\n\u001b[0m\u001b[0;32m     10\u001b[0m \u001b[0mprint\u001b[0m\u001b[1;33m(\u001b[0m\u001b[0mz\u001b[0m\u001b[1;33m)\u001b[0m\u001b[1;33m\u001b[0m\u001b[1;33m\u001b[0m\u001b[0m\n",
      "\u001b[1;31mKeyboardInterrupt\u001b[0m: "
     ]
    }
   ],
   "source": [
    "#Q3part3b\n",
    "import math\n",
    "A=1\n",
    "B=1\n",
    "x=A\n",
    "y=B\n",
    "while (x!=math.inf):\n",
    "    z=x\n",
    "    x=x*2\n",
    "print(z)"
   ]
  },
  {
   "cell_type": "code",
   "execution_count": null,
   "id": "0ec1fa4f",
   "metadata": {},
   "outputs": [],
   "source": [
    "#Q4\n",
    "\n",
    "d=1\n",
    "A=1\n",
    "B=2\n",
    "x=A\n",
    "while (x!=B):\n",
    "    z=x\n",
    "    d=d/2\n",
    "    x=x+d\n",
    "print(2-z)"
   ]
  },
  {
   "cell_type": "code",
   "execution_count": null,
   "id": "ada45496",
   "metadata": {},
   "outputs": [],
   "source": [
    "#Q5a\n",
    "\n",
    "import math\n",
    "def R(a,b,c):\n",
    "    x1=((-b+(math.sqrt((b**2)-(4*a*c)))))/(2*a)\n",
    "    x2=((-b-(math.sqrt((b**2)-(4*a*c)))))/(2*a)\n",
    "    return x1,x2\n",
    "\n",
    "print(R(0.001,1000,0.001))"
   ]
  },
  {
   "cell_type": "code",
   "execution_count": null,
   "id": "8bdfde19",
   "metadata": {},
   "outputs": [],
   "source": [
    "#Q5b\n",
    "\n",
    "def Z(a,b,c):\n",
    "    x1=((-b+(math.sqrt((b**2)-(4*a*c))))*(-b-(math.sqrt((b**2)-(4*a*c)))))/((2*a)*(-b-(math.sqrt((b**2)-(4*a*c)))))\n",
    "    x2=((-b-(math.sqrt((b**2)-(4*a*c))))*(-b+(math.sqrt((b**2)-(4*a*c)))))/((2*a)*(-b+(math.sqrt((b**2)-(4*a*c)))))\n",
    "    return x1,x2\n",
    "\n",
    "print(Z(0.001,1000,0.001))\n"
   ]
  },
  {
   "cell_type": "code",
   "execution_count": null,
   "id": "46ec570c",
   "metadata": {},
   "outputs": [],
   "source": [
    "#Q6a\n",
    "\n",
    "def f(x):\n",
    "    return x*(x-1)\n",
    "\n",
    "x=1\n",
    "d= 0.01\n",
    "derivate = (f(x + d) - f(x))/d\n",
    "print(derivate)"
   ]
  },
  {
   "cell_type": "code",
   "execution_count": null,
   "id": "b8f21ff8",
   "metadata": {},
   "outputs": [],
   "source": [
    "#Q6b\n",
    "\n",
    "A=[10**-4,10**-6,10**-8,10**-10,10**-12,10**-14]\n",
    "def f(x):\n",
    "    return x*(x-1)\n",
    "for d in A:\n",
    "    x=1\n",
    "    derivate = (f(x + d) - f(x))/d\n",
    "    print(\"the derivate is\", derivate)   "
   ]
  },
  {
   "cell_type": "code",
   "execution_count": null,
   "id": "b4d6241f",
   "metadata": {},
   "outputs": [],
   "source": [
    "#Q7\n"
   ]
  }
 ],
 "metadata": {
  "kernelspec": {
   "display_name": "Python 3",
   "language": "python",
   "name": "python3"
  },
  "language_info": {
   "codemirror_mode": {
    "name": "ipython",
    "version": 3
   },
   "file_extension": ".py",
   "mimetype": "text/x-python",
   "name": "python",
   "nbconvert_exporter": "python",
   "pygments_lexer": "ipython3",
   "version": "3.8.8"
  }
 },
 "nbformat": 4,
 "nbformat_minor": 5
}
