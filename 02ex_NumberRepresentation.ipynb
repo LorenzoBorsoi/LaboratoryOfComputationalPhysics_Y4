{
 "cells": [
  {
   "cell_type": "code",
   "execution_count": 105,
   "metadata": {},
   "outputs": [],
   "source": [
    "import sys"
   ]
  },
  {
   "cell_type": "markdown",
   "metadata": {},
   "source": [
    "1\\. Write a function that converts number representation (bin<->dec<->hex)"
   ]
  },
  {
   "cell_type": "code",
   "execution_count": 109,
   "metadata": {},
   "outputs": [
    {
     "data": {
      "text/plain": [
       "'0x080'"
      ]
     },
     "execution_count": 109,
     "metadata": {},
     "output_type": "execute_result"
    }
   ],
   "source": [
    "def bin_ex(binario):\n",
    "\n",
    "    binario = str(binario)\n",
    "    binario = binario[(binario.find('b')+1):]\n",
    "\n",
    "    p = 0\n",
    "    k = 0\n",
    "    \n",
    "    binario = binario[::-1]\n",
    "    for i in binario:\n",
    "        k = k + pow(int(i)*2,p) \n",
    "        p = p+1\n",
    "\n",
    "    return k\n",
    "\n",
    "def hex_ex(hexa):\n",
    "    hexa = str(hexa)\n",
    "    p = 0\n",
    "    k = 0\n",
    "    \n",
    "    hexa = hexa[::-1]\n",
    "\n",
    "    for i in hexa:\n",
    "\n",
    "        if i.upper() == \"A\":\n",
    "            i = 10\n",
    "        elif i.upper() == \"B\":\n",
    "            i = 11\n",
    "        elif i.upper() == \"C\":\n",
    "            i = 12\n",
    "        elif i.upper() == \"D\":\n",
    "            i = 13\n",
    "        elif i.upper() == \"E\":\n",
    "            i = 14\n",
    "        elif i.upper() == \"F\":\n",
    "            i = 15\n",
    "        else:\n",
    "            i = int(i)\n",
    "        k = k + pow(16,p)*i\n",
    "        p = p+1\n",
    "    return k\n",
    "\n",
    "def int_bin(intnum):\n",
    "    intnum = int(intnum)\n",
    "    salidabin = \"\"\n",
    "    while intnum > 1:\n",
    "        salidabin = salidabin + str((intnum % 2))\n",
    "        intnum = int(intnum/2)\n",
    "        \n",
    "    salidabin = salidabin + str((intnum % 2))\n",
    "    salidabin = salidabin[::-1]\n",
    "    return \"0b\" + salidabin\n",
    "\n",
    "def int_hex(intnum):\n",
    "    intnum = int(intnum)\n",
    "    salidahex = \"\"\n",
    "    \n",
    "    while intnum > 1:\n",
    "        \n",
    "        caracter = intnum % 16\n",
    "        caracter = str(caracter)\n",
    "        if caracter == \"10\":\n",
    "            caracter = \"a\"\n",
    "        elif caracter == \"11\":\n",
    "            caracter = \"B\"\n",
    "        elif caracter == \"12\":\n",
    "            caracter = \"C\"\n",
    "        elif caracter == \"13\":\n",
    "            caracter = \"D\"\n",
    "        elif caracter == \"14\":\n",
    "            caracter = \"E\"\n",
    "        elif caracter == \"15\":\n",
    "            caracter = \"F\"\n",
    "        else:\n",
    "            caracter = caracter\n",
    "        \n",
    "        salidahex = salidahex + caracter\n",
    "        intnum = int(intnum/16)\n",
    "        \n",
    "\n",
    "        \n",
    "        if caracter == \"10\":\n",
    "            caracter = \"a\"\n",
    "        elif caracter == \"11\":\n",
    "            caracter = \"B\"\n",
    "        elif caracter == \"12\":\n",
    "            caracter = \"C\"\n",
    "        elif caracter == \"13\":\n",
    "            caracter = \"D\"\n",
    "        elif caracter == \"14\":\n",
    "            caracter = \"E\"\n",
    "        elif caracter == \"15\":\n",
    "            caracter = \"F\"\n",
    "        else:\n",
    "            caracter = caracter\n",
    "            \n",
    "    salidahex = salidahex + str((intnum % 2))\n",
    "    salidahex = salidahex[::-1]\n",
    "    return \"0x\" + salidahex\n",
    "\n",
    "\n",
    "\n",
    "def convertir(num,out):\n",
    "\n",
    "    if num.find(\"b\") != -1:\n",
    "        \n",
    "        if out == \"h\":\n",
    "            num = bin_ex(num)\n",
    "            num = int_hex(num)\n",
    "        if out == \"d\":\n",
    "            num = bin_ex(num)\n",
    "            \n",
    "    if num.find(\"h\") != -1:\n",
    "        \n",
    "        if out == \"b\":\n",
    "            num = hex_ex(num)\n",
    "            num = int_bin(num)\n",
    "        if out == \"d\":\n",
    "            num = hexa_ex(num)\n",
    "            \n",
    "    else:\n",
    "  \n",
    "        if out == \"h\":\n",
    "            num = int_hex(num)\n",
    "        if out == \"b\":\n",
    "            num = int_bin(num)\n",
    "            \n",
    "    return num\n",
    "\n",
    "numero = \"128\"\n",
    "\n",
    "convertir(numero,\"h\")"
   ]
  },
  {
   "cell_type": "markdown",
   "metadata": {},
   "source": [
    "2\\. Write a function that converts a 32 bit word into a single precision floating point (i.e. interprets the various bits as sign, mantissa and exponent)"
   ]
  },
  {
   "cell_type": "code",
   "execution_count": 107,
   "metadata": {},
   "outputs": [
    {
     "name": "stdout",
     "output_type": "stream",
     "text": [
      "32\n",
      "0b1000100001001011111010011010111111\n",
      "2.1861379146575928\n"
     ]
    }
   ],
   "source": [
    "import math\n",
    "\n",
    "k = 0x2212fa6bf\n",
    "##print(sys.getsizeof(k))\n",
    "k = bin(k)\n",
    "print(k)\n",
    "\n",
    "signo=k[2]\n",
    "expon=k[3:10]\n",
    "mant=k[11:34]\n",
    "\n",
    "\n",
    "num = 1+int(mant,2)/pow(2,22)\n",
    "expon = int(expon,2)\n",
    "\n",
    "if signo == 1:\n",
    "    num = -num*pow(2,expon)\n",
    "if signo == 0:\n",
    "    num = num*pow(2,expon)\n",
    "\n",
    "print(num)\n"
   ]
  },
  {
   "cell_type": "markdown",
   "metadata": {},
   "source": [
    "3\\. Write a program to determine the underflow and overflow limits (within a factor of 2) for python on your computer. \n",
    "\n",
    "**Tips**: define two variables inizialized to 1 and halve/double them enough time to exceed the under/over-flow limits  "
   ]
  },
  {
   "cell_type": "code",
   "execution_count": 60,
   "metadata": {},
   "outputs": [
    {
     "name": "stdout",
     "output_type": "stream",
     "text": [
      "1076\n",
      "64\n"
     ]
    }
   ],
   "source": [
    "minimo = 1\n",
    "maximo = 1\n",
    "underflow = 1\n",
    "overflow = 1\n",
    "maxint = sys.maxsize+1\n",
    "\n",
    "while minimo > (1.0-1.0):\n",
    "    minimo = minimo/2\n",
    "    underflow = underflow+1\n",
    "while maximo < maxint:\n",
    "    maximo = maximo*2\n",
    "    overflow = overflow+1\n",
    "    \n",
    "\n",
    "    \n",
    "print(underflow)\n",
    "print(overflow)"
   ]
  },
  {
   "cell_type": "markdown",
   "metadata": {},
   "source": [
    "4\\. Write a program to determine the machine precision\n",
    "\n",
    "**Tips**: define a new variable by adding a smaller and smaller value (proceeding similarly to prob. 2) to an original variable and check the point where the two are the same "
   ]
  },
  {
   "cell_type": "code",
   "execution_count": 61,
   "metadata": {},
   "outputs": [
    {
     "name": "stdout",
     "output_type": "stream",
     "text": [
      "4.440892098500626e-16\n"
     ]
    }
   ],
   "source": [
    "smaller =1\n",
    "manito = 5\n",
    "\n",
    "while manito !=manito + smaller :\n",
    "    smaller=smaller/2\n",
    "\n",
    "print(smaller)"
   ]
  },
  {
   "cell_type": "markdown",
   "metadata": {},
   "source": [
    "5\\. Write a function that takes in input three parameters $a$, $b$ and $c$ and prints out the two solutions to the quadratic equation $ax^2+bx+c=0$ using the standard formula:\n",
    "$$\n",
    "x=\\frac{-b\\pm\\sqrt{b^2-4ac}}{2a}\n",
    "$$\n",
    "\n",
    "(a) use the program to compute the solution for $a=0.001$, $b=1000$ and $c=0.001$\n",
    "\n",
    "(b) re-express the standard solution formula by multiplying top and bottom by $-b\\mp\\sqrt{b^2-4ac}$ and again find the solution for $a=0.001$, $b=1000$ and $c=0.001$. How does it compare with what previously obtained? Why?\n",
    "\n",
    "(c) write a function that compute the roots of a quadratic equation accurately in all cases"
   ]
  },
  {
   "cell_type": "code",
   "execution_count": 4,
   "metadata": {},
   "outputs": [
    {
     "name": "stdout",
     "output_type": "stream",
     "text": [
      "(-9.999894245993346e-07, -999999.999999)\n",
      "(-9.999894245993346e-07, -999999.9999990001)\n",
      "(-9.999894245993346e-07, -999999.999999)\n"
     ]
    }
   ],
   "source": [
    "from numpy import sqrt\n",
    "\n",
    "def formulon(a,b,c):\n",
    "    x1 = (-b+sqrt(b*b-4*a*c))/(2*a)\n",
    "    x2 = (-b-sqrt(b*b-4*a*c))/(2*a)\n",
    "    return x1,x2\n",
    "\n",
    "def formulon_ex(a,b,c):\n",
    "    x3 = (-b+sqrt(b*b-4*a*c))*(-b+sqrt(b*b-4*a*c))/(2*a*(-b+sqrt(b*b-4*a*c)))\n",
    "    x4 = (-b-sqrt(b*b-4*a*c))*(-b+sqrt(b*b-4*a*c))/(2*a*(-b+sqrt(b*b-4*a*c)))\n",
    "    return x3,x4\n",
    "\n",
    "def formulon_full(a,b,c):\n",
    "    disc = sqrt(b*b-4*a*c)\n",
    "    xa = (-b+disc)/(2*a)\n",
    "    xb = (-b-disc)/(2*a)\n",
    "    return xa,xb\n",
    "\n",
    "print(formulon(0.001,1000,0.001))\n",
    "print(formulon_ex(0.001,1000,0.001))\n",
    "print(formulon_full(0.001,1000,0.001))"
   ]
  },
  {
   "cell_type": "markdown",
   "metadata": {},
   "source": [
    "6\\. Write a program that implements the function $f(x)=x(x−1)$\n",
    "\n",
    "(a) Calculate the derivative of the function at the point $x = 1$ using the derivative definition:\n",
    "\n",
    "$$\n",
    "\\frac{{\\rm d}f}{{\\rm d}x} = \\lim_{\\delta\\to0} \\frac{f(x+\\delta)-f(x)}{\\delta}\n",
    "$$\n",
    "\n",
    "with $\\delta = 10^{−2}$. Calculate the true value of the same derivative analytically and compare with the answer your program gives. The two will not agree perfectly. Why not?\n",
    "\n",
    "(b) Repeat the calculation for $\\delta = 10^{−4}, 10^{−6}, 10^{−8}, 10^{−10}, 10^{−12}$ and $10^{−14}$. How does the accuracy scales with $\\delta$?"
   ]
  },
  {
   "cell_type": "code",
   "execution_count": 5,
   "metadata": {},
   "outputs": [
    {
     "name": "stdout",
     "output_type": "stream",
     "text": [
      "For 10 to the power of -2 the awnser is 1.010000000000001\n",
      "For 10 to the power of -4 the awnser is 1.0000999999998899\n",
      "For 10 to the power of -6 the awnser is 1.0000009999177333\n",
      "For 10 to the power of -8 the awnser is 1.0000000039225287\n",
      "For 10 to the power of -10 the awnser is 1.000000082840371\n",
      "For 10 to the power of -12 the awnser is 1.0000889005833413\n",
      "For 10 to the power of -14 the awnser is 0.9992007221626509\n"
     ]
    }
   ],
   "source": [
    "small = -2\n",
    "num = 1\n",
    "\n",
    "def fun_ex(x): return x*(x-1)\n",
    "\n",
    "while small > -15:\n",
    "    lim = (fun_ex(num + pow(10,small))-fun_ex(num))/pow(10,small)\n",
    "    print(\"For 10 to the power of\",small ,\"the awnser is\",lim)\n",
    "    small = small -2\n"
   ]
  },
  {
   "cell_type": "markdown",
   "metadata": {},
   "source": [
    "7\\. Consider the integral of the semicircle of radius 1:\n",
    "$$\n",
    "I=\\int_{-1}^{1} \\sqrt(1-x^2) {\\rm d}x\n",
    "$$\n",
    "which it's known to be $I=\\frac{\\pi}{2}=1.57079632679...$.\n",
    "Alternatively we can use the Riemann definition of the integral:\n",
    "$$\n",
    "I=\\lim_{N\\to\\infty} \\sum_{k=1}^{N} h y_k \n",
    "$$\n",
    "\n",
    "with $h=2/N$ the width of each of the $N$ slices the domain is divided into and where\n",
    "$y_k$ is the value of the function at the $k-$th slice.\n",
    "\n",
    "(a) Write a programe to compute the integral with $N=100$. How does the result compares to the true value?\n",
    "\n",
    "(b) How much can $N$ be increased if the computation needs to be run in less than a second? What is the gain in running it for 1 minute? \n"
   ]
  },
  {
   "cell_type": "code",
   "execution_count": 103,
   "metadata": {},
   "outputs": [
    {
     "name": "stdout",
     "output_type": "stream",
     "text": [
      "The obtained awnser is 1.5707958482902764 And it was obtained in 1.0032439231872559 seconds\n"
     ]
    }
   ],
   "source": [
    "from numpy import sqrt\n",
    "from numpy import linspace\n",
    "import time as time\n",
    "\n",
    "t = time.time()\n",
    "\n",
    "def fun_cir(x): return sqrt(1-x*x)\n",
    "\n",
    "N = 1194000\n",
    "I = 0\n",
    "circle = linspace(0,1,N)\n",
    "for i in circle:\n",
    "    I = I+(2/N) * fun_cir(i)\n",
    "    \n",
    "\n",
    "\n",
    "elapsed = time.time() - t\n",
    "\n",
    "print(\"The obtained awnser is\", I,\"And it was obtained in\", elapsed, \"seconds\")"
   ]
  }
 ],
 "metadata": {
  "kernelspec": {
   "display_name": "Python 3",
   "language": "python",
   "name": "python3"
  },
  "language_info": {
   "codemirror_mode": {
    "name": "ipython",
    "version": 3
   },
   "file_extension": ".py",
   "mimetype": "text/x-python",
   "name": "python",
   "nbconvert_exporter": "python",
   "pygments_lexer": "ipython3",
   "version": "3.9.7"
  }
 },
 "nbformat": 4,
 "nbformat_minor": 2
}
