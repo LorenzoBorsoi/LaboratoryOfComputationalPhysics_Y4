{
 "cells": [
  {
   "cell_type": "markdown",
   "metadata": {},
   "source": [
    "1\\. Write a function that converts number representation (bin<->dec<->hex)"
   ]
  },
  {
   "cell_type": "code",
   "execution_count": 45,
   "metadata": {},
   "outputs": [
    {
     "name": "stdout",
     "output_type": "stream",
     "text": [
      "('0b11111111', '0xff')\n",
      "(255, '0xff')\n",
      "(255, '0b11111111')\n"
     ]
    }
   ],
   "source": [
    "def convert(x):\n",
    "    if isinstance(x,str):\n",
    "        return bin(int(x)),hex(int(x))\n",
    "    if isinstance(x,bytes):\n",
    "        try:\n",
    "            bin_=int(x.decode(),2)\n",
    "            return bin_,hex(bin_)\n",
    "        except ValueError:\n",
    "            hex_=int(x.decode(),16)\n",
    "            return hex_,bin(hex_)\n",
    "    else:\n",
    "        raise ValueError(\"Wrong input!\")\n",
    "    \n",
    "x = '255'\n",
    "print(convert(x))\n",
    "number2 = b'0b11111111'\n",
    "print(convert(number2))\n",
    "number3 = b'0xff'\n",
    "print(convert(number3))"
   ]
  },
  {
   "cell_type": "markdown",
   "metadata": {},
   "source": [
    "2\\. Write a function that converts a 32 bit word into a single precision floating point (i.e. interprets the various bits as sign, mantissa and exponent)"
   ]
  },
  {
   "cell_type": "code",
   "execution_count": 46,
   "metadata": {},
   "outputs": [
    {
     "name": "stdout",
     "output_type": "stream",
     "text": [
      "6.257318714338937e+38\n"
     ]
    }
   ],
   "source": [
    "import math\n",
    "def convert_2(word):\n",
    "    word = word.decode()\n",
    "    if len(word)!=32:\n",
    "        raise ValueError(\"Wrong input argument\")\n",
    "    sign = word[0]\n",
    "    exponent = word[1:9]\n",
    "    mantissa = word[9:]\n",
    "    res = (-1)**int(sign) * float(f'1.{int(mantissa,2)}') * math.pow(2,(int(exponent,2)-127))\n",
    "    return res\n",
    "    \n",
    "print(convert_2(b\"01111111111111111111111111111111\"))"
   ]
  },
  {
   "cell_type": "markdown",
   "metadata": {},
   "source": [
    "3\\. Write a program to determine the underflow and overflow limits (within a factor of 2) for python on your computer. \n",
    "\n",
    "**Tips**: define two variables inizialized to 1 and halve/double them enough time to exceed the under/over-flow limits  "
   ]
  },
  {
   "cell_type": "code",
   "execution_count": 47,
   "metadata": {},
   "outputs": [
    {
     "name": "stdout",
     "output_type": "stream",
     "text": [
      "8.98846567431158e+307\n",
      "5e-324\n"
     ]
    }
   ],
   "source": [
    "min_,max_ = 1.0,1.0\n",
    "c=1\n",
    "while max_!=float('inf') and c<10000:\n",
    "    if max_*2!=float('inf'):\n",
    "        max_*=2\n",
    "    c+=1\n",
    "print(max_)\n",
    "c=0\n",
    "while min_!=0 and c<10000:\n",
    "    if min_/2!=0:\n",
    "        min_/=2\n",
    "    c+=1\n",
    "print(min_)\n",
    "#8.98846567431158e+307"
   ]
  },
  {
   "cell_type": "markdown",
   "metadata": {},
   "source": [
    "4\\. Write a program to determine the machine precision\n",
    "\n",
    "**Tips**: define a new variable by adding a smaller and smaller value (proceeding similarly to prob. 2) to an original variable and check the point where the two are the same "
   ]
  },
  {
   "cell_type": "code",
   "execution_count": 48,
   "metadata": {},
   "outputs": [
    {
     "name": "stdout",
     "output_type": "stream",
     "text": [
      "4.4408920985006264e-17 1.0\n"
     ]
    }
   ],
   "source": [
    "z = 0.1\n",
    "y = 1\n",
    "x = 10\n",
    "while x != y:\n",
    "    x = y + z\n",
    "    z /=2\n",
    "\n",
    "print(z,x)"
   ]
  },
  {
   "cell_type": "markdown",
   "metadata": {},
   "source": [
    "5\\. Write a function that takes in input three parameters $a$, $b$ and $c$ and prints out the two solutions to the quadratic equation $ax^2+bx+c=0$ using the standard formula:\n",
    "$$\n",
    "x=\\frac{-b\\pm\\sqrt{b^2-4ac}}{2a}\n",
    "$$\n",
    "\n",
    "(a) use the program to compute the solution for $a=0.001$, $b=1000$ and $c=0.001$\n",
    "\n",
    "(b) re-express the standard solution formula by multiplying top and bottom by $-b\\mp\\sqrt{b^2-4ac}$ and again find the solution for $a=0.001$, $b=1000$ and $c=0.001$. How does it compare with what previously obtained? Why?\n",
    "\n",
    "(c) write a function that compute the roots of a quadratic equation accurately in all cases"
   ]
  },
  {
   "cell_type": "code",
   "execution_count": 49,
   "metadata": {},
   "outputs": [
    {
     "name": "stdout",
     "output_type": "stream",
     "text": [
      "(-9.999894245993346e-07, -999999.999999)\n",
      "(-1.00000761449437e-06, -1000029.7368713223)\n",
      "(-1.000000000001e-06, -1000010.5755125057)\n"
     ]
    }
   ],
   "source": [
    "# (a)\n",
    "import math as m\n",
    "def quad_eq(a,b,c):\n",
    "    x1 = (-b+m.sqrt(b**2-4*a*c))/(2*a)\n",
    "    x2 = (-b-m.sqrt(b**2-4*a*c))/(2*a)\n",
    "    return x1,x2\n",
    "print(quad_eq(0.001,1000,0.001))\n",
    "\n",
    "# (b)\n",
    "def quad_eq2(a,b,c):\n",
    "    x1 = (b**2 - (b**2 - 4*a*c))/((-2*a*b) - 2*a*m.sqrt(b**2-4*a*c))\n",
    "    x2 = (b**2 - (b**2 - 4*a*c))/((-2*a*b) + 2*a*m.sqrt(b**2-4*a*c))\n",
    "    return x1, x2\n",
    "print(quad_eq2(0.001,1000,0.001))\n",
    "\n",
    "# (c)\n",
    "def accurate_quad_eq(a,b,c):\n",
    "    x1 = (2*c)/(-b-m.sqrt(b**2 -4*a*c))\n",
    "    x2 = (2*c)/(-b+m.sqrt(b**2-4*a*c))\n",
    "    return x1, x2\n",
    "print(accurate_quad_eq(0.001,1000,0.001))"
   ]
  },
  {
   "cell_type": "markdown",
   "metadata": {},
   "source": [
    "6\\. Write a program that implements the function $f(x)=x(x−1)$\n",
    "\n",
    "(a) Calculate the derivative of the function at the point $x = 1$ using the derivative definition:\n",
    "\n",
    "$$\n",
    "\\frac{{\\rm d}f}{{\\rm d}x} = \\lim_{\\delta\\to0} \\frac{f(x+\\delta)-f(x)}{\\delta}\n",
    "$$\n",
    "\n",
    "with $\\delta = 10^{−2}$. Calculate the true value of the same derivative analytically and compare with the answer your program gives. The two will not agree perfectly. Why not?\n",
    "\n",
    "(b) Repeat the calculation for $\\delta = 10^{−4}, 10^{−6}, 10^{−8}, 10^{−10}, 10^{−12}$ and $10^{−14}$. How does the accuracy scales with $\\delta$?"
   ]
  },
  {
   "cell_type": "code",
   "execution_count": 50,
   "metadata": {},
   "outputs": [
    {
     "name": "stdout",
     "output_type": "stream",
     "text": [
      "[1.010000000000001, 1.0000999999998899, 1.0000009999177333, 1.0000000039225287, 1.000000082840371, 1.0000889005833413, 0.9992007221626509]\n"
     ]
    }
   ],
   "source": [
    "# (a) and (b)\n",
    "def f(x):\n",
    "    return x*(x-1)\n",
    "\n",
    "def derivative(x,f,interval):\n",
    "    derivative = (f(x+interval)-f(x))/interval\n",
    "    return derivative\n",
    "\n",
    "int_ = [1e-2,1e-4,1e-6,1e-8,1e-10,1e-12,1e-14]\n",
    "x = 1 \n",
    "derivatives = [derivative(x,f,i) for i in int_]\n",
    "print(derivatives)\n",
    "#The true value of the derivative is 1. The accuracy scales linearly with the interval."
   ]
  },
  {
   "cell_type": "markdown",
   "metadata": {},
   "source": [
    "7\\. Consider the integral of the semicircle of radius 1:\n",
    "$$\n",
    "I=\\int_{-1}^{1} \\sqrt(1-x^2) {\\rm d}x\n",
    "$$\n",
    "which it's known to be $I=\\frac{\\pi}{2}=1.57079632679...$.\n",
    "Alternatively we can use the Riemann definition of the integral:\n",
    "$$\n",
    "I=\\lim_{N\\to\\infty} \\sum_{k=1}^{N} h y_k \n",
    "$$\n",
    "\n",
    "with $h=2/N$ the width of each of the $N$ slices the domain is divided into and where\n",
    "$y_k$ is the value of the function at the $k-$th slice.\n",
    "\n",
    "(a) Write a programe to compute the integral with $N=100$. How does the result compares to the true value?\n",
    "\n",
    "(b) How much can $N$ be increased if the computation needs to be run in less than a second? What is the gain in running it for 1 minute? \n"
   ]
  },
  {
   "cell_type": "code",
   "execution_count": 77,
   "metadata": {},
   "outputs": [
    {
     "name": "stdout",
     "output_type": "stream",
     "text": [
      "1.5802085158895236\n",
      "difference between the two: 0.009412189094627044\n"
     ]
    }
   ],
   "source": [
    "# (a)\n",
    "import math as m\n",
    "\n",
    "def f(x):\n",
    "    return m.sqrt(1-x*x) \n",
    "\n",
    "def integral(N):\n",
    "    h = 2/N\n",
    "    I = 0\n",
    "    for k in range(N):\n",
    "        I += h*f(k/N)        \n",
    "    return I\n",
    "print(integral(100))\n",
    "\n",
    "true_value = m.pi/2\n",
    "print('difference between the two:',(abs(true_value-integral(100))))\n",
    "\n",
    "# (b)\n",
    "\n",
    "# %timeit integral(100)\n",
    "# %timeit integral(1000)\n",
    "# %timeit integral(20000000)\n",
    "\n",
    "# Since computation time seems to scale linearly with N, and for N = 20 000 000 it takes +/-5s.\n",
    "# Using simple arithmetic we can estimate that for 1s, N should be roughly 4 000 000. And for 1min, it's roughly 240 000 000."
   ]
  },
  {
   "cell_type": "code",
   "execution_count": null,
   "metadata": {},
   "outputs": [],
   "source": []
  }
 ],
 "metadata": {
  "kernelspec": {
   "display_name": "Python 3 (ipykernel)",
   "language": "python",
   "name": "python3"
  },
  "language_info": {
   "codemirror_mode": {
    "name": "ipython",
    "version": 3
   },
   "file_extension": ".py",
   "mimetype": "text/x-python",
   "name": "python",
   "nbconvert_exporter": "python",
   "pygments_lexer": "ipython3",
   "version": "3.8.8"
  }
 },
 "nbformat": 4,
 "nbformat_minor": 2
}
