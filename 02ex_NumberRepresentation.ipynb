{
 "cells": [
  {
   "cell_type": "markdown",
   "metadata": {},
   "source": [
    "1\\. Write a function that converts number representation (bin<->dec<->hex)"
   ]
  },
  {
   "cell_type": "code",
   "execution_count": 12,
   "metadata": {},
   "outputs": [],
   "source": [
    "def to_base(x, base1, base2):\n",
    "    \"\"\"\n",
    "    Converts x from base1 to base2\n",
    "    parameters:\n",
    "        x: string if base1 is hex or bin, int if base1 is dec\n",
    "        base1: 'dec', 'hex' or 'bin' starting base\n",
    "        base2: 'dec', 'hex' or 'bin' final base\n",
    "    \"\"\"\n",
    "    if base1 != 'dec' and base1 != 'bin' and base1 != 'hex':\n",
    "        raise ValueError (\"Invalid initial base\")\n",
    "    if base2 != 'dec' and base2 != 'bin' and base2 != 'hex':\n",
    "        raise ValueError (\"Invalid final base\")\n",
    "        \n",
    "    # from any to decimal \n",
    "    if base1 == 'bin':\n",
    "        bin_num = list(x.strip(\" \")) #convert to list\n",
    "        bin_num = [int(bin_num[i]) for i in range(2, len(bin_num))]\n",
    "        bin_num.reverse()\n",
    "        dec_num = 0\n",
    "        i = 0\n",
    "        for c in bin_num:\n",
    "            dec_num+=2**i*int(c)\n",
    "            i+=1 \n",
    "    elif base1 == 'hex':\n",
    "        hex_num = list(x.strip(\" \")) #convert to list\n",
    "        hex_num = [int(hex_num[i]) for i in range(2, len(hex_num))]\n",
    "        hex_num.reverse()\n",
    "        dec_num = 0\n",
    "        i = 0\n",
    "        for c in hex_num:\n",
    "            dec_num+=16**i*int(c)\n",
    "            i+=1 \n",
    "    else: dec_num = x\n",
    "\n",
    "    if base2 == 'dec': return dec_num\n",
    "\n",
    "    # from decimal to any \n",
    "    if base2 == 'bin':\n",
    "        r = []\n",
    "        div = int(dec_num/2)\n",
    "        r.append(dec_num%2)\n",
    "        while div !=0:\n",
    "            dec_num = div\n",
    "            div = int(dec_num/2)\n",
    "            r.append(dec_num%2)\n",
    "        r.reverse()\n",
    "        r = ''.join([str(u) for u in r])\n",
    "    elif base2 == 'hex':\n",
    "        r = []\n",
    "        div = int(dec_num/16)\n",
    "        r.append(dec_num%16)\n",
    "        while div !=0:\n",
    "            dec_num = div\n",
    "            div = int(dec_num/16)\n",
    "            r.append(dec_num%16)\n",
    "        r.reverse()\n",
    "        r = ''.join([str(u) for u in r])\n",
    "        for y in r:\n",
    "            if y == 10: y = 'a'\n",
    "            elif y == 11: y = 'b'\n",
    "            elif y == 12: y = 'c'\n",
    "            elif y == 13: y = 'd'\n",
    "            elif y == 14: y = 'e'\n",
    "            elif y == 15: y = 'f'\n",
    "    return r\n",
    "    "
   ]
  },
  {
   "cell_type": "code",
   "execution_count": 13,
   "metadata": {},
   "outputs": [
    {
     "name": "stdout",
     "output_type": "stream",
     "text": [
      "dec:  23  bin:  0b10111  hex:  0x17\n",
      "\n",
      "decimal->binary of  23 : 10111\n",
      "decimal->hex of  23 : 17\n",
      "bin->dec of  0b10111 : 23\n",
      "bin->hex of  0b10111 : 17\n",
      "hex->dec of  0x17 : 23\n",
      "hex->bin of  0x17 : 10111\n"
     ]
    }
   ],
   "source": [
    "a = 23\n",
    "abin = bin(a)\n",
    "ahex = hex(a)\n",
    "print('dec: ', a, ' bin: ', abin, ' hex: ', ahex)\n",
    "print('\\ndecimal->binary of ', a, ':', to_base(a, 'dec', 'bin'))\n",
    "print('decimal->hex of ', a, ':', to_base(a, 'dec', 'hex'))\n",
    "print('bin->dec of ', abin, ':', to_base(abin, 'bin', 'dec'))\n",
    "print('bin->hex of ', abin, ':', to_base(abin, 'bin', 'hex'))\n",
    "print('hex->dec of ', ahex, ':', to_base(ahex, 'hex', 'dec'))\n",
    "print('hex->bin of ', ahex, ':', to_base(ahex, 'hex', 'bin'))"
   ]
  },
  {
   "cell_type": "markdown",
   "metadata": {},
   "source": [
    "2\\. Write a function that converts a 32 bit word into a single precision floating point (i.e. interprets the various bits as sign, mantissa and exponent)"
   ]
  },
  {
   "cell_type": "code",
   "execution_count": 14,
   "metadata": {},
   "outputs": [
    {
     "data": {
      "text/plain": [
       "-5.5"
      ]
     },
     "execution_count": 14,
     "metadata": {},
     "output_type": "execute_result"
    }
   ],
   "source": [
    "def to_float (s):\n",
    "    sign = int(s[0],2)\n",
    "    ex = int(s[1:9],2)\n",
    "    man = s[9:]\n",
    "    bias = 127\n",
    "    i=23\n",
    "    sum=0\n",
    "    for m in man:\n",
    "        sum+=int(m)*2**(-i)\n",
    "        i-=1\n",
    "    x = (-1)**sign*(1+sum)*2**(ex-bias)\n",
    "    return x\n",
    "\n",
    "e = '10000001'\n",
    "s = '1'\n",
    "m = '00000000000000000000110'\n",
    "y = s+e+m\n",
    "to_float (y)"
   ]
  },
  {
   "cell_type": "markdown",
   "metadata": {},
   "source": [
    "3\\. Write a program to determine the underflow and overflow limits (within a factor of 2) for python on your computer. \n",
    "\n",
    "**Tips**: define two variables inizialized to 1 and halve/double them enough time to exceed the under/over-flow limits  "
   ]
  },
  {
   "cell_type": "code",
   "execution_count": 15,
   "metadata": {},
   "outputs": [
    {
     "data": {
      "text/plain": [
       "sys.float_info(max=1.7976931348623157e+308, max_exp=1024, max_10_exp=308, min=2.2250738585072014e-308, min_exp=-1021, min_10_exp=-307, dig=15, mant_dig=53, epsilon=2.220446049250313e-16, radix=2, rounds=1)"
      ]
     },
     "execution_count": 15,
     "metadata": {},
     "output_type": "execute_result"
    }
   ],
   "source": [
    "import sys\n",
    "sys.float_info"
   ]
  },
  {
   "cell_type": "code",
   "execution_count": 16,
   "metadata": {},
   "outputs": [
    {
     "name": "stdout",
     "output_type": "stream",
     "text": [
      "Underflow achieved at  5e-324\n"
     ]
    }
   ],
   "source": [
    "uf = 1.\n",
    "of = 1.\n",
    "uf_flag, of_flag = False, False\n",
    "\n",
    "while uf_flag == False:\n",
    "    old = uf\n",
    "    uf=uf/2.\n",
    "    if uf == 0:\n",
    "        print ('Underflow achieved at ', old)\n",
    "        uf_flag= True"
   ]
  },
  {
   "cell_type": "code",
   "execution_count": 17,
   "metadata": {},
   "outputs": [
    {
     "name": "stdout",
     "output_type": "stream",
     "text": [
      "Overflow achieved at  8.98846567431158e+307\n"
     ]
    }
   ],
   "source": [
    "while of_flag == False:\n",
    "    old=of\n",
    "    of=of*2.\n",
    "    if of == float('inf'):\n",
    "        print ('Overflow achieved at ', old)\n",
    "        of_flag = True"
   ]
  },
  {
   "cell_type": "markdown",
   "metadata": {},
   "source": [
    "4\\. Write a program to determine the machine precision\n",
    "\n",
    "**Tips**: define a new variable by adding a smaller and smaller value (proceeding similarly to prob. 2) to an original variable and check the point where the two are the same "
   ]
  },
  {
   "cell_type": "code",
   "execution_count": 18,
   "metadata": {},
   "outputs": [
    {
     "name": "stdout",
     "output_type": "stream",
     "text": [
      "1.1102229592290195e-16\n"
     ]
    }
   ],
   "source": [
    "eps = 1\n",
    "while eps + 1 != 1:\n",
    "    eps = eps / 1.000001\n",
    "print(eps)"
   ]
  },
  {
   "cell_type": "markdown",
   "metadata": {},
   "source": [
    "5\\. Write a function that takes in input three parameters $a$, $b$ and $c$ and prints out the two solutions to the quadratic equation $ax^2+bx+c=0$ using the standard formula:\n",
    "$$\n",
    "x=\\frac{-b\\pm\\sqrt{b^2-4ac}}{2a}\n",
    "$$\n",
    "\n",
    "(a) use the program to compute the solution for $a=0.001$, $b=1000$ and $c=0.001$\n",
    "\n",
    "(b) re-express the standard solution formula by multiplying top and bottom by $-b\\mp\\sqrt{b^2-4ac}$ and again find the solution for $a=0.001$, $b=1000$ and $c=0.001$. How does it compare with what previously obtained? Why?\n",
    "\n",
    "(c) write a function that compute the roots of a quadratic equation accurately in all cases"
   ]
  },
  {
   "cell_type": "code",
   "execution_count": 19,
   "metadata": {},
   "outputs": [
    {
     "name": "stdout",
     "output_type": "stream",
     "text": [
      "standard:  (-9.999894245993346e-07, -999999.999999)\n",
      "second strategy  (-1000010.5755125057, -1.000000000001e-06)\n",
      "stable (-999999.999999, -1.000000000001e-06)\n"
     ]
    }
   ],
   "source": [
    "a = 0.001\n",
    "b = 1000\n",
    "c = 0.001\n",
    "import numpy as np\n",
    "\n",
    "# b\n",
    "def standard_formula(a,b,c):\n",
    "    x1= (-b + np.sqrt(b**2-4*a*c))/(2*a)\n",
    "    x2= (-b - np.sqrt(b**2-4*a*c))/(2*a)\n",
    "    return x1, x2\n",
    "# b\n",
    "def weird_formula(a,b,c):\n",
    "    x1= (2*c)/(-b+np.sqrt(b**2-4*a*c))\n",
    "    x2= (2*c)/(-b-np.sqrt(b**2-4*a*c))\n",
    "    return x1, x2\n",
    "\n",
    "# c\n",
    "def stable_formula(a,b,c):\n",
    "    x1= (-b-np.sign(b)*np.sqrt(b**2-4*a*c))/(2*a)\n",
    "    x2= c/(a*x1)\n",
    "    return x1, x2\n",
    "\n",
    "print('standard: ', standard_formula(a,b,c))\n",
    "print('second strategy ', weird_formula(a,b,c))\n",
    "print('stable', stable_formula(a,b,c))\n"
   ]
  },
  {
   "cell_type": "markdown",
   "metadata": {},
   "source": [
    "The numerical error is due to the represetation of floats introduced by multiplication\n"
   ]
  },
  {
   "cell_type": "markdown",
   "metadata": {},
   "source": [
    "6\\. Write a program that implements the function $f(x)=x(x−1)$\n",
    "\n",
    "(a) Calculate the derivative of the function at the point $x = 1$ using the derivative definition:\n",
    "\n",
    "$$\n",
    "\\frac{{\\rm d}f}{{\\rm d}x} = \\lim_{\\delta\\to0} \\frac{f(x+\\delta)-f(x)}{\\delta}\n",
    "$$\n",
    "\n",
    "with $\\delta = 10^{−2}$. Calculate the true value of the same derivative analytically and compare with the answer your program gives. The two will not agree perfectly. Why not?\n",
    "\n",
    "(b) Repeat the calculation for $\\delta = 10^{−4}, 10^{−6}, 10^{−8}, 10^{−10}, 10^{−12}$ and $10^{−14}$. How does the accuracy scales with $\\delta$?"
   ]
  },
  {
   "cell_type": "code",
   "execution_count": 20,
   "metadata": {},
   "outputs": [
    {
     "name": "stdout",
     "output_type": "stream",
     "text": [
      "9.999999994736442e-05\n"
     ]
    }
   ],
   "source": [
    "def f(x):\n",
    "    return x*(x-1)\n",
    "\n",
    "delta = 1e-4\n",
    "x0=1\n",
    "\n",
    "# a real forumula\n",
    "def def_formula(f, x0, delta):\n",
    "    return (f(x0+delta)-f(x0))/delta\n",
    "\n",
    "print(def_formula(f, 0.5, delta))"
   ]
  },
  {
   "cell_type": "code",
   "execution_count": 21,
   "metadata": {},
   "outputs": [
    {
     "data": {
      "text/plain": [
       "Text(0.5, 0, '$\\\\log_{10}\\\\delta$')"
      ]
     },
     "execution_count": 21,
     "metadata": {},
     "output_type": "execute_result"
    },
    {
     "data": {
      "image/png": "[encoded data removed]",
      "text/plain": [
       "<Figure size 720x432 with 1 Axes>"
      ]
     },
     "metadata": {
      "needs_background": "light"
     },
     "output_type": "display_data"
    }
   ],
   "source": [
    "delta = [10**(-i) for i in range (1,14)]\n",
    "realx = 1.\n",
    "x0 = 1.\n",
    "acc = [np.log(1/abs(realx-def_formula(f, x0, d))) for d in delta]\n",
    "\n",
    "import seaborn as sns\n",
    "from matplotlib.pylab import plt\n",
    "fig,ax=plt.subplots(figsize=(10,6))\n",
    "sns.set_theme(palette='Dark2',font_scale=2.5)\n",
    "lw=3\n",
    "ms=13\n",
    "ls='--'\n",
    "sns.lineplot(x=np.log10(delta), y=acc, ax=ax,marker='o', markersize=ms,linewidth=lw, \n",
    "            linestyle=ls, color ='darkred')\n",
    "ax.set_ylabel(r\"Accuracy $\\log(1/\\epsilon)$\")\n",
    "ax.set_xlabel(r\"$\\log_{10}\\delta$\")\n",
    "\n"
   ]
  },
  {
   "cell_type": "markdown",
   "metadata": {},
   "source": [
    "7\\. Consider the integral of the semicircle of radius 1:\n",
    "$$\n",
    "I=\\int_{-1}^{1} \\sqrt(1-x^2) {\\rm d}x\n",
    "$$\n",
    "which it's known to be $I=\\frac{\\pi}{2}=1.57079632679...$.\n",
    "Alternatively we can use the Riemann definition of the integral:\n",
    "$$\n",
    "I=\\lim_{N\\to\\infty} \\sum_{k=1}^{N} h y_k \n",
    "$$\n",
    "\n",
    "with $h=2/N$ the width of each of the $N$ slices the domain is divided into and where\n",
    "$y_k$ is the value of the function at the $k-$th slice.\n",
    "\n",
    "(a) Write a programe to compute the integral with $N=100$. How does the result compares to the true value?\n",
    "\n",
    "(b) How much can $N$ be increased if the computation needs to be run in less than a second? What is the gain in running it for 1 minute? \n"
   ]
  },
  {
   "cell_type": "code",
   "execution_count": 22,
   "metadata": {},
   "outputs": [],
   "source": [
    "def riemann_integral(f, N, x1, x2):\n",
    "    import time\n",
    "    init = time.time()\n",
    "\n",
    "    #integral\n",
    "    h = abs(x2-x1)/N\n",
    "    if x2>x1:\n",
    "        signum = 1\n",
    "    else: \n",
    "        signum = -1\n",
    "        x2, x1 = x1, x2\n",
    "    y = [f(x) for x in np.linspace(x1, x2, N)]\n",
    "    int = [f*h for f in y]\n",
    "    \n",
    "    stop = time.time()\n",
    "    return sum(int)*signum, stop-init"
   ]
  },
  {
   "cell_type": "code",
   "execution_count": 27,
   "metadata": {},
   "outputs": [
    {
     "name": "stdout",
     "output_type": "stream",
     "text": [
      "integral test (integral, time):  (1.5534179294048955, 0.0004050731658935547)\n",
      "accuracy:  4.052527373407944\n"
     ]
    }
   ],
   "source": [
    "def f_test(x):\n",
    "    return np.sqrt(1-x**2)\n",
    "print('integral test (integral, time): ',riemann_integral(f_test, N=100, x1=-1, x2=1))\n",
    "print('accuracy: ',np.log(1/np.abs(riemann_integral(f_test, N=100, x1=-1, x2=1)[0]-np.pi/2)))"
   ]
  },
  {
   "cell_type": "code",
   "execution_count": 24,
   "metadata": {},
   "outputs": [
    {
     "name": "stdout",
     "output_type": "stream",
     "text": [
      "maximum N for less then a second simulation:  819200\n"
     ]
    }
   ],
   "source": [
    "# to run in less than a second\n",
    "N=100\n",
    "i, time = riemann_integral(f_test, N, x1=-1, x2=1)\n",
    "while time < 1:\n",
    "    N=N*2\n",
    "    i, time = riemann_integral(f_test, N, x1=-1, x2=1)\n",
    "print(\"maximum N for less then a second simulation: \", N)"
   ]
  },
  {
   "cell_type": "code",
   "execution_count": 25,
   "metadata": {},
   "outputs": [],
   "source": [
    "N = [10**(i) for i in range (1,8)]\n",
    "realint = np.pi/2\n",
    "time = []\n",
    "acc = []\n",
    "for n in N:\n",
    "    i, t = riemann_integral(f_test, n, x1=-1, x2=1)\n",
    "    time.append(t)\n",
    "    acc.append(np.log(1/(abs(realint-i))))"
   ]
  },
  {
   "cell_type": "code",
   "execution_count": 26,
   "metadata": {},
   "outputs": [
    {
     "data": {
      "text/plain": [
       "Text(0.5, 0, 'N')"
      ]
     },
     "execution_count": 26,
     "metadata": {},
     "output_type": "execute_result"
    },
    {
     "data": {
      "image/png": "[encoded data removed]",
      "text/plain": [
       "<Figure size 1440x432 with 2 Axes>"
      ]
     },
     "metadata": {},
     "output_type": "display_data"
    }
   ],
   "source": [
    "fig,ax=plt.subplots(ncols = 2, nrows = 1, figsize=(20,6))\n",
    "sns.set_theme(palette='Dark2',font_scale=2.5)\n",
    "lw=3\n",
    "ms=13\n",
    "ls='--'\n",
    "sns.lineplot(x=N, y=acc, ax=ax[0],marker='o', markersize=ms,linewidth=lw, \n",
    "            linestyle=ls, color ='darkred')\n",
    "ax[0].set_ylabel(r\"Accuracy $\\log(1/\\epsilon)$\")\n",
    "ax[0].set_xlabel(r\"N\")\n",
    "\n",
    "sns.lineplot(x=N, y=time, ax=ax[1],marker='o', markersize=ms,linewidth=lw, \n",
    "            linestyle=ls, color ='darkred')\n",
    "ax[1].set_ylabel(r\"time\")\n",
    "ax[1].set_xlabel(r\"N\")\n"
   ]
  },
  {
   "cell_type": "code",
   "execution_count": null,
   "metadata": {},
   "outputs": [],
   "source": []
  }
 ],
 "metadata": {
  "interpreter": {
   "hash": "dca0ade3e726a953b501b15e8e990130d2b7799f14cfd9f4271676035ebe5511"
  },
  "kernelspec": {
   "display_name": "Python 3.8.5 64-bit ('base': conda)",
   "name": "python3"
  },
  "language_info": {
   "codemirror_mode": {
    "name": "ipython",
    "version": 3
   },
   "file_extension": ".py",
   "mimetype": "text/x-python",
   "name": "python",
   "nbconvert_exporter": "python",
   "pygments_lexer": "ipython3",
   "version": "3.8.5"
  }
 },
 "nbformat": 4,
 "nbformat_minor": 2
}
