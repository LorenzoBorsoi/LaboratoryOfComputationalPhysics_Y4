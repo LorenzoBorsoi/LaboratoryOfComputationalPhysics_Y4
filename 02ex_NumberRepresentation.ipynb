{
 "cells": [
  {
   "cell_type": "markdown",
   "metadata": {},
   "source": [
    "I do all the imports here."
   ]
  },
  {
   "cell_type": "code",
   "execution_count": 1,
   "metadata": {},
   "outputs": [],
   "source": [
    "import math\n",
    "import matplotlib.pyplot as plt\n",
    "import numpy as np"
   ]
  },
  {
   "cell_type": "markdown",
   "metadata": {},
   "source": [
    "1\\. Write a function that converts number representation (bin<->dec<->hex)"
   ]
  },
  {
   "cell_type": "code",
   "execution_count": 2,
   "metadata": {},
   "outputs": [
    {
     "name": "stdout",
     "output_type": "stream",
     "text": [
      "Choose base of the input number, type bin, dec, or hex: dec\n",
      "Type number in the chosen base: 1001\n",
      "Choose base of the output number, type bin, dec, or hex: hex\n",
      "Hexadecimal :  3 E 9 , 0x3e9\n"
     ]
    }
   ],
   "source": [
    "def dec_to_bin(n):\n",
    "    l = []\n",
    "    while (n > 0):\n",
    "        l.append( n % 2 )\n",
    "        n = n // 2\n",
    "    if n == 1:\n",
    "        l.append(1)\n",
    "    l.reverse()\n",
    "    return l\n",
    "\n",
    "\n",
    "\n",
    "def dec_to_hex(dec):\n",
    "    hexakeys = [\"0\", \"1\", \"2\", \"3\", \"4\", \"5\", \"6\", \"7\", \"8\", \"9\", \"A\", \"B\", \"C\", \"D\", \"E\", \"F\"]\n",
    "    l = []\n",
    "    result = int(dec)\n",
    "    while result != 0:\n",
    "        l.append(hexakeys[result % 16])\n",
    "        result = result // 16\n",
    "    l.reverse()\n",
    "    return l\n",
    "\n",
    "\n",
    "def dec_to_out(dec, base_o):\n",
    "    #try:\n",
    "    if base_o == \"dec\":\n",
    "        print(\"Decimal : \", dec)\n",
    "    elif base_o == \"bin\":\n",
    "        s = dec_to_bin(dec)\n",
    "        listToStr = ' '.join([str(elem) for elem in s])\n",
    "        print(\"Binary : \", listToStr, \",\", bin(dec))\n",
    "    elif base_o == \"hex\":\n",
    "        s = dec_to_hex(dec)\n",
    "        listToStr = ' '.join([str(elem) for elem in s])\n",
    "        print(\"Hexadecimal : \", listToStr, \",\", hex(dec))\n",
    "    else:\n",
    "        print(\"conversion not recognized\")\n",
    "    return\n",
    "    #except:\n",
    "        #print(\"non valid input\")\n",
    "\n",
    "def in_to_dec(inp, base_i):\n",
    "    dec, binn, hexx = 0, 0, 0\n",
    "    if base_i == \"dec\":\n",
    "        wr = list(map(int, list(inp)))\n",
    "        lung = len(wr)\n",
    "        for i in range(0, lung):\n",
    "            dec += wr[i] * math.pow(10, (lung -1 - i))\n",
    "        return int(dec)\n",
    "        #return int(inp)\n",
    "    elif base_i == \"bin\":\n",
    "        wr = list(map(int, list(inp)))\n",
    "        lung = len(wr)\n",
    "        for i in range(0, lung):\n",
    "            binn += wr[i] * math.pow(2, (lung - 1 - i))\n",
    "        return int(binn)\n",
    "        #return int(inp, 2)\n",
    "    elif base_i == \"hex\":\n",
    "        wr = list(inp)\n",
    "        lung = len(wr)\n",
    "        hexakeys = [\"0\", \"1\", \"2\", \"3\", \"4\", \"5\", \"6\", \"7\", \"8\", \"9\", \"A\", \"B\", \"C\", \"D\", \"E\", \"F\"]\n",
    "        leng = len(hexakeys) -1\n",
    "        for i in range(0, lung):\n",
    "            val = 0\n",
    "            for j in range(0, leng):\n",
    "                if wr[i] == hexakeys[j]:\n",
    "                    val = j\n",
    "                    break\n",
    "            hexx += val * math.pow(16, (lung - 1 - i))\n",
    "        return int(hexx)\n",
    "    else:\n",
    "        print(\"conversion not recognized\")\n",
    "        return \"non valid\"\n",
    "\n",
    "bsi = input(\"Choose base of the input number, type bin, dec, or hex: \")\n",
    "nm = input(\"Type number in the chosen base: \")\n",
    "bso = input(\"Choose base of the output number, type bin, dec, or hex: \")\n",
    "dec_to_out(in_to_dec(nm, bsi), bso)"
   ]
  },
  {
   "cell_type": "markdown",
   "metadata": {},
   "source": [
    "2\\. Write a function that converts a 32 bit word into a single precision floating point (i.e. interprets the various bits as sign, mantissa and exponent)"
   ]
  },
  {
   "cell_type": "code",
   "execution_count": 3,
   "metadata": {},
   "outputs": [
    {
     "name": "stdout",
     "output_type": "stream",
     "text": [
      "01000101010011010000100110011001\n",
      "['0', '1', '0', '0', '0', '1', '0', '1', '0', '1', '0', '0', '1', '1', '0', '1', '0', '0', '0', '0', '1', '0', '0', '1', '1', '0', '0', '1', '1', '0', '0', '1']\n",
      "converted word: 3280.599853515625\n"
     ]
    }
   ],
   "source": [
    "def word_to_float(word):\n",
    "    bias = 127\n",
    "    sgn = 0\n",
    "    e = 0\n",
    "    mnt = 1.\n",
    "    wr = list(map(int, list(word)))\n",
    "\n",
    "    # sign definition\n",
    "    if int(wr[0]) == 0:\n",
    "        sgn = +1\n",
    "    else:\n",
    "        sgn = -1\n",
    "\n",
    "    #exp def\n",
    "    for i in range(1, 9):\n",
    "        e += wr[i]*math.pow(2, (8-i))\n",
    "\n",
    "    #mnt def\n",
    "    for i in range(9, 32):\n",
    "        mnt += wr[i]*math.pow(2, (8-i))\n",
    "\n",
    "    return sgn * mnt * math.pow(2,  e - bias )\n",
    "\n",
    "\n",
    "word = \"01000101010011010000100110011001\"\n",
    "print(word)\n",
    "print(list(word))\n",
    "print(\"converted word:\", word_to_float(word))"
   ]
  },
  {
   "cell_type": "markdown",
   "metadata": {},
   "source": [
    "3\\. Write a program to determine the underflow and overflow limits (within a factor of 2) for python on your computer. \n",
    "\n",
    "**Tips**: define two variables inizialized to 1 and halve/double them enough time to exceed the under/over-flow limits  "
   ]
  },
  {
   "cell_type": "code",
   "execution_count": 4,
   "metadata": {},
   "outputs": [
    {
     "name": "stdout",
     "output_type": "stream",
     "text": [
      "overflow:  8.98846567431158e+307\n",
      "underflow:  5e-324\n"
     ]
    }
   ],
   "source": [
    "def over( n ):\n",
    "    while 2*n - n == n :\n",
    "        n *= 2\n",
    "    print(\"overflow: \", n)\n",
    "    return\n",
    "\n",
    "def under( n ):\n",
    "    while  n !=  0.0 :\n",
    "        b = n\n",
    "        n /= 2\n",
    "    print(\"underflow: \", b)\n",
    "    return\n",
    "\n",
    "over(1.0)\n",
    "under(1.0)"
   ]
  },
  {
   "cell_type": "markdown",
   "metadata": {},
   "source": [
    "4\\. Write a program to determine the machine precision\n",
    "\n",
    "**Tips**: define a new variable by adding a smaller and smaller value (proceeding similarly to prob. 2) to an original variable and check the point where the two are the same "
   ]
  },
  {
   "cell_type": "code",
   "execution_count": 5,
   "metadata": {},
   "outputs": [
    {
     "name": "stdout",
     "output_type": "stream",
     "text": [
      "machine precision:  1.1102230246251565e-16\n"
     ]
    }
   ],
   "source": [
    "def mach_prec(n):\n",
    "    increment = 1.\n",
    "    while ( n != n+increment ):\n",
    "        increment /= 2\n",
    "    return increment\n",
    "\n",
    "print(\"machine precision: \", mach_prec(1.0))"
   ]
  },
  {
   "cell_type": "markdown",
   "metadata": {},
   "source": [
    "5\\. Write a function that takes in input three parameters $a$, $b$ and $c$ and prints out the two solutions to the quadratic equation $ax^2+bx+c=0$ using the standard formula:\n",
    "$$\n",
    "x=\\frac{-b\\pm\\sqrt{b^2-4ac}}{2a}\n",
    "$$\n",
    "\n",
    "(a) use the program to compute the solution for $a=0.001$, $b=1000$ and $c=0.001$\n",
    "\n",
    "(b) re-express the standard solution formula by multiplying top and bottom by $-b\\mp\\sqrt{b^2-4ac}$ and again find the solution for $a=0.001$, $b=1000$ and $c=0.001$. How does it compare with what previously obtained? Why?\n",
    "\n",
    "(c) write a function that compute the roots of a quadratic equation accurately in all cases"
   ]
  },
  {
   "cell_type": "code",
   "execution_count": 6,
   "metadata": {},
   "outputs": [
    {
     "name": "stdout",
     "output_type": "stream",
     "text": [
      "(-9.999894245993346e-07, -999999.999999)\n",
      "(-1.000000000001e-06, -1000010.5755125057)\n",
      "(-1.000000000001e-06, -999999.999999)\n"
     ]
    }
   ],
   "source": [
    "def stdsol(a, b, c):\n",
    "    sqrtdet = math.sqrt(math.pow(b, 2) - 4 * a * c)\n",
    "    x1 = (-b + sqrtdet) / (2 * a)\n",
    "    x2 = (-b - sqrtdet) / (2 * a)\n",
    "    return x1, x2\n",
    "\n",
    "\n",
    "def solmultipl(a, b, c):\n",
    "    sqrtdet = math.sqrt(math.pow(b, 2) - 4 * a * c)\n",
    "    x1 = 2 * c / (-b - sqrtdet)\n",
    "    x2 = 2 * c / (-b + sqrtdet)\n",
    "    return x1, x2\n",
    "\n",
    "\n",
    "def solforall(a, b, c):\n",
    "    sqrtdet = math.sqrt(math.pow(b, 2) - 4 * a * c)\n",
    "    x1 = 2 * c / (-b - sqrtdet)\n",
    "    x2 = (-b - sqrtdet) / (2 * a)\n",
    "    return x1, x2\n",
    "\n",
    "\n",
    "print(stdsol(0.001, 1000, 0.001))\n",
    "print(solmultipl(0.001, 1000, 0.001))\n",
    "print(solforall(0.001, 1000, 0.001))"
   ]
  },
  {
   "cell_type": "markdown",
   "metadata": {},
   "source": [
    "**comment** We have a \"catastrophic cancellation\" occurring since b^2 >> 4 ac. The problem is then that b is very close to the root of the determinant, and the sum between the terms (considering the opposite signs of b and the root of the determinant) is close to 0.\n",
    "To avoid the problem for both the solution expressions we can consider the one which gives the root summing the terms (and the other solution will then be found using the other expression in the case of opposite signs)."
   ]
  },
  {
   "cell_type": "markdown",
   "metadata": {},
   "source": [
    "6\\. Write a program that implements the function $f(x)=x(x−1)$\n",
    "\n",
    "(a) Calculate the derivative of the function at the point $x = 1$ using the derivative definition:\n",
    "\n",
    "$$\n",
    "\\frac{{\\rm d}f}{{\\rm d}x} = \\lim_{\\delta\\to0} \\frac{f(x+\\delta)-f(x)}{\\delta}\n",
    "$$\n",
    "\n",
    "with $\\delta = 10^{−2}$. Calculate the true value of the same derivative analytically and compare with the answer your program gives. The two will not agree perfectly. Why not?\n",
    "\n",
    "(b) Repeat the calculation for $\\delta = 10^{−4}, 10^{−6}, 10^{−8}, 10^{−10}, 10^{−12}$ and $10^{−14}$. How does the accuracy scales with $\\delta$?"
   ]
  },
  {
   "cell_type": "code",
   "execution_count": 17,
   "metadata": {},
   "outputs": [
    {
     "name": "stdout",
     "output_type": "stream",
     "text": [
      "increment, function(x+incr), function(x):  0.01 0.010100000000000008 0 \n",
      "\n",
      "increment, function(x+incr), function(x):  0.0001 0.00010000999999998898 0 \n",
      "\n",
      "increment, function(x+incr), function(x):  1e-06 1.0000009999177332e-06 0 \n",
      "\n",
      "increment, function(x+incr), function(x):  1e-08 1.0000000039225289e-08 0 \n",
      "\n",
      "increment, function(x+incr), function(x):  1e-10 1.000000082840371e-10 0 \n",
      "\n",
      "increment, function(x+incr), function(x):  1e-12 1.0000889005833413e-12 0 \n",
      "\n",
      "increment, function(x+incr), function(x):  1e-14 9.992007221626508e-15 0 \n",
      "\n",
      "[1.010000000000001, 1.0000999999998899, 1.0000009999177333, 1.0000000039225287, 1.000000082840371, 1.0000889005833413, 0.9992007221626509]\n"
     ]
    },
    {
     "data": {
      "image/png": "[encoded data removed]",
      "text/plain": [
       "<Figure size 432x288 with 1 Axes>"
      ]
     },
     "metadata": {
      "needs_background": "light"
     },
     "output_type": "display_data"
    }
   ],
   "source": [
    "def function(x):\n",
    "    return x*(x-1)\n",
    "\n",
    "def derivative(x, exp):\n",
    "    incr = math.pow(10, -2*exp)\n",
    "    print(\"increment, function(x+incr), function(x): \", incr, function(x+incr), function(x), \"\\n\")\n",
    "    der = ( function(x+incr) - function(x) ) / incr\n",
    "    return der\n",
    "\n",
    "l = [derivative(1, i) for i in range (1,8)]\n",
    "print(l)\n",
    "\n",
    "\n",
    "plt.plot(-2*np.arange(1, 8, 1), l)\n",
    "plt.show()\n"
   ]
  },
  {
   "cell_type": "markdown",
   "metadata": {},
   "source": [
    "**comment** We can see that the algorithm is unstable, and the computed value is different from the expected one:\n",
    "this is because we are subtracting two numbers which are very close to each other and become more similar decreasing the increment. Moreover we are dividing by an increment which is close to 0.\n",
    "We have that for a delta smaller than 10^-14 the derivative becomes 0, which means the machine cannot actually distinguish the numbers in the difference."
   ]
  },
  {
   "cell_type": "markdown",
   "metadata": {},
   "source": [
    "7\\. Consider the integral of the semicircle of radius 1:\n",
    "$$\n",
    "I=\\int_{-1}^{1} \\sqrt(1-x^2) {\\rm d}x\n",
    "$$\n",
    "which it's known to be $I=\\frac{\\pi}{2}=1.57079632679...$.\n",
    "Alternatively we can use the Riemann definition of the integral:\n",
    "$$\n",
    "I=\\lim_{N\\to\\infty} \\sum_{k=1}^{N} h y_k \n",
    "$$\n",
    "\n",
    "with $h=2/N$ the width of each of the $N$ slices the domain is divided into and where\n",
    "$y_k$ is the value of the function at the $k-$th slice.\n",
    "\n",
    "(a) Write a programe to compute the integral with $N=100$. How does the result compares to the true value?\n",
    "\n",
    "(b) How much can $N$ be increased if the computation needs to be run in less than a second? What is the gain in running it for 1 minute? \n"
   ]
  },
  {
   "cell_type": "code",
   "execution_count": 10,
   "metadata": {},
   "outputs": [
    {
     "name": "stdout",
     "output_type": "stream",
     "text": [
      "43.3 µs ± 863 ns per loop (mean ± std. dev. of 7 runs, 10000 loops each)\n",
      "N = 100 :  1.5691342555492505 1.5691342555492505\n",
      "integral - sum 0.0016620712456461018\n",
      "4.71 s ± 35.5 ms per loop (mean ± std. dev. of 7 runs, 1 loop each)\n",
      "N = 10**7 :  1.5707963267423612 1.5707963267423612\n",
      "integral - sum 5.253530943605256e-11\n"
     ]
    }
   ],
   "source": [
    "def func(x):\n",
    "    return math.sqrt(1-math.pow(x, 2))\n",
    "\n",
    "def Riemann_sum(N):\n",
    "    h = 2/N\n",
    "    points = [(-1 + h*k) for k in range(N)]\n",
    "    sumterms = [h*func(j) for j in points]\n",
    "    return sum(sumterms)\n",
    "\n",
    "def Riemann_sum_explicit(N):\n",
    "    h = 2/N\n",
    "    sm = 0\n",
    "    points = [(-1 + h*k) for k in range(N)]\n",
    "    for j in points:\n",
    "        sm += h*func(j)\n",
    "    return sm\n",
    "\n",
    "N = 100\n",
    "integral = Riemann_sum(N)\n",
    "%timeit Riemann_sum(N)\n",
    "integr = Riemann_sum_explicit(N)\n",
    "print(\"N = 100 : \", integral, integr)\n",
    "#Difference from the true value\n",
    "print(\"integral - sum\", (math.pi/2 - integral))\n",
    "\n",
    "N = 10**7\n",
    "integral = Riemann_sum(N)\n",
    "%timeit Riemann_sum(N)\n",
    "integr = Riemann_sum_explicit(N)\n",
    "print(\"N = 10**7 : \", integral, integr)\n",
    "#Difference from the true value\n",
    "print(\"integral - sum\", (math.pi/2 - integral))"
   ]
  },
  {
   "cell_type": "markdown",
   "metadata": {},
   "source": [
    "**comment** The accuracy is better, with N = 100 it is of O(10^-3) whereas with N = 10^7 it is of order O(10^-11)"
   ]
  },
  {
   "cell_type": "code",
   "execution_count": null,
   "metadata": {},
   "outputs": [],
   "source": []
  }
 ],
 "metadata": {
  "kernelspec": {
   "display_name": "Python 3",
   "language": "python",
   "name": "python3"
  },
  "language_info": {
   "codemirror_mode": {
    "name": "ipython",
    "version": 3
   },
   "file_extension": ".py",
   "mimetype": "text/x-python",
   "name": "python",
   "nbconvert_exporter": "python",
   "pygments_lexer": "ipython3",
   "version": "3.7.4"
  }
 },
 "nbformat": 4,
 "nbformat_minor": 2
}
