{
 "cells": [
  {
   "cell_type": "markdown",
   "metadata": {},
   "source": [
    "1\\. Write a function that converts number representation (bin<->dec<->hex)"
   ]
  },
  {
   "cell_type": "code",
   "execution_count": 2,
   "metadata": {},
   "outputs": [
    {
     "name": "stdout",
     "output_type": "stream",
     "text": [
      "Conversion from decimal to binary and viceversa\n",
      "Binary representation of 26 : 0b11010\n",
      "Decimal representation of 0b11010 : 26 \n",
      "\n",
      "Conversion from decimal to Hexadecimal and viceversa\n",
      "Hexadecimal representation of 26 : 0x1a\n",
      "Decimal representation of 0x1a : 26 \n",
      "\n",
      "Conversion from Hexadecimal to binary\n",
      "Binary representation of 0x1a : 0b11010 \n",
      "\n",
      "Conversion from binary to Hexadecimal\n",
      "Hexadecimal representation of 0b11010 : 0x1a \n",
      "\n"
     ]
    }
   ],
   "source": [
    "def Converter_num(x):\n",
    "    \n",
    "    #Conversion from decimal to binary and viceversa\n",
    "    bin1 = bin(x)\n",
    "    print('Conversion from decimal to binary and viceversa')\n",
    "    print('Binary representation of', x, ':', bin1)\n",
    "    print('Decimal representation of', bin1, ':', int(bin1, 2),'\\n')\n",
    "    \n",
    "    #Conversion from decimal to Hexadecimal and viceversa\n",
    "    hex1 = hex(x)\n",
    "    print('Conversion from decimal to Hexadecimal and viceversa')\n",
    "    print('Hexadecimal representation of', x,':', hex1)\n",
    "    print('Decimal representation of', hex1,':', int(hex1,16),'\\n')\n",
    "    \n",
    "    #Conversion from Hexadecimal to binary\n",
    "    bin1 = bin(int(hex1, 16))\n",
    "    print('Conversion from Hexadecimal to binary')\n",
    "    print('Binary representation of', hex1, ':', bin1,'\\n')\n",
    "    \n",
    "    #Conversion from binary to Hexadecimal\n",
    "    hex1 = hex(int(bin1, 2))\n",
    "    print('Conversion from binary to Hexadecimal')\n",
    "    print('Hexadecimal representation of', bin1, ':', hex1,'\\n')\n",
    "    \n",
    "x = 26\n",
    "Converter_num(x)"
   ]
  },
  {
   "cell_type": "markdown",
   "metadata": {},
   "source": [
    "2\\. Write a function that converts a 32 bit word into a single precision floating point (i.e. interprets the various bits as sign, mantissa and exponent)"
   ]
  },
  {
   "cell_type": "code",
   "execution_count": 1,
   "metadata": {},
   "outputs": [
    {
     "name": "stdout",
     "output_type": "stream",
     "text": [
      "Sign: 1 , Exponent: 00000001 , Mantissa: 10100000100000000001000\n",
      "Sign: -1 , Exponent: 1 , Mantissa: 1.6269540786743164\n",
      "Float Number: -1.9124753285289384e-38\n"
     ]
    }
   ],
   "source": [
    "def word_to_float32(bit):\n",
    "   \n",
    "    mantissa1 = bit[0:23]\n",
    "    exponent1 = bit[23:31]\n",
    "    sign1 = bit[31]\n",
    "    \n",
    "    mantissa = 1\n",
    "    power = -1\n",
    "    \n",
    "    #calculate mantissa\n",
    "    for x in mantissa1:\n",
    "        mantissa += (int(x) * pow(2, power))\n",
    "        power -= 1 \n",
    "    \n",
    "    #calculate exponent\n",
    "    exponent_bias = int(exponent1, 2)\n",
    "    exponent_unbias = exponent_bias - 127\n",
    "    \n",
    "    #determine the sign\n",
    "    if sign1 == '0':\n",
    "        sign = 1\n",
    "    else:\n",
    "        sign = -1\n",
    "    \n",
    "    #convert 32 bit to  a single precision floating point \n",
    "    single_prec_flo_num = sign * mantissa * pow(2, exponent_unbias)\n",
    "    \n",
    "    #print the results\n",
    "    print('Sign:',sign1, ', Exponent:',exponent1, ', Mantissa:',mantissa1)\n",
    "    print('Sign:',sign, ', Exponent:',exponent_bias, ', Mantissa:',mantissa)\n",
    "    print('Float Number:', single_prec_flo_num)\n",
    "    \n",
    "#call the function\n",
    "word_to_float32('10100000100000000001000000000011')"
   ]
  },
  {
   "cell_type": "markdown",
   "metadata": {},
   "source": [
    "3\\. Write a program to determine the underflow and overflow limits (within a factor of 2) for python on your computer. \n",
    "\n",
    "**Tips**: define two variables inizialized to 1 and halve/double them enough time to exceed the under/over-flow limits  "
   ]
  },
  {
   "cell_type": "code",
   "execution_count": 7,
   "metadata": {},
   "outputs": [
    {
     "name": "stdout",
     "output_type": "stream",
     "text": [
      "Overflow: \n",
      " 1023 \n",
      "\n",
      "Maximum: 8.98846567431158e+307 \n",
      "\n",
      "Underflow: \n",
      " 1074 \n",
      "\n",
      "Minimum: 5e-324 \n",
      "\n"
     ]
    }
   ],
   "source": [
    "import math\n",
    "\n",
    "underflow = 1.0\n",
    "overflow = 1.0\n",
    "counter_overflow = 0;\n",
    "counter_underflow = 0;\n",
    "\n",
    "#multipling overflow with power of 2 until the maximum value\n",
    "while(overflow * 2 < math.inf):\n",
    "    overflow = overflow * 2\n",
    "    counter_overflow += 1\n",
    "    \n",
    "print('Overflow:','\\n', counter_overflow,'\\n')\n",
    "print('Maximum: ' + str(overflow),'\\n')\n",
    "\n",
    "#mdeviding underflow by 2 until the minimum value\n",
    "while(underflow /2 > 0):\n",
    "    underflow = underflow / 2\n",
    "    counter_underflow += 1\n",
    "    \n",
    "print('Underflow:','\\n',counter_underflow, '\\n')\n",
    "print('Minimum: ' + str(underflow),'\\n') \n"
   ]
  },
  {
   "cell_type": "markdown",
   "metadata": {},
   "source": [
    "4\\. Write a program to determine the machine precision\n",
    "\n",
    "**Tips**: define a new variable by adding a smaller and smaller value (proceeding similarly to prob. 2) to an original variable and check the point where the two are the same "
   ]
  },
  {
   "cell_type": "code",
   "execution_count": 3,
   "metadata": {},
   "outputs": [
    {
     "name": "stdout",
     "output_type": "stream",
     "text": [
      "Sum: 47\n",
      "Final x: 152.0\n",
      "No Effect on C: 1.4210854715202004e-14\n",
      "Machine precision: 2.842170943040401e-14\n"
     ]
    }
   ],
   "source": [
    "\n",
    "x = 150\n",
    "y = 0\n",
    "c = 2.0\n",
    "counter = 0\n",
    "\n",
    "while x != y:\n",
    "    counter += 1\n",
    "    y = x + c\n",
    "    c /= 2\n",
    "    x += c\n",
    "        \n",
    "print(\"Sum:\", counter)\n",
    "print(\"Final x:\", x)\n",
    "print(\"No Effect on C:\", c)\n",
    "print(\"Machine precision: \" + str(c*2))\n"
   ]
  },
  {
   "cell_type": "markdown",
   "metadata": {},
   "source": [
    "5\\. Write a function that takes in input three parameters $a$, $b$ and $c$ and prints out the two solutions to the quadratic equation $ax^2+bx+c=0$ using the standard formula:\n",
    "$$\n",
    "x=\\frac{-b\\pm\\sqrt{b^2-4ac}}{2a}\n",
    "$$\n",
    "\n",
    "(a) use the program to compute the solution for $a=0.001$, $b=1000$ and $c=0.001$\n",
    "\n",
    "(b) re-express the standard solution formula by multiplying top and bottom by $-b\\mp\\sqrt{b^2-4ac}$ and again find the solution for $a=0.001$, $b=1000$ and $c=0.001$. How does it compare with what previously obtained? Why?\n",
    "\n",
    "(c) write a function that compute the roots of a quadratic equation accurately in all cases"
   ]
  },
  {
   "cell_type": "code",
   "execution_count": 17,
   "metadata": {},
   "outputs": [
    {
     "name": "stdout",
     "output_type": "stream",
     "text": [
      "a)\n",
      "The correct roots should be =======> x1 =  -999999.999999 x2 = -1.000000000001e-06\n",
      "The roots acquired from method 1: (-999999.999999, -9.999894245993346e-07) \n",
      "\n",
      "b)\n",
      "The roots acquired from method 2: (-1000010.5755125057, -1.000000000001e-06) \n",
      "\n",
      "c)\n",
      "The roots acquired from method 3: (-999999.999999, -1.000000000001e-06) \n",
      "\n",
      "Method 3 is the most accurate method with an optimal precision.\n"
     ]
    }
   ],
   "source": [
    "import math\n",
    "\n",
    "a = 0.001\n",
    "b = 1000\n",
    "c = 0.001\n",
    "\n",
    "\n",
    "#a) compute roots by the first method:\n",
    "\n",
    "def method1 (a, b, c):\n",
    "    x1 = (-b - math.sqrt(b*b - 4*a*c)) / (2*a)\n",
    "    x2 = (-b + math.sqrt(b*b - 4*a*c)) / (2*a)\n",
    "    return x1, x2\n",
    "\n",
    "from numpy import roots\n",
    "roots_2 = roots([0.001,1000,0.001])\n",
    "\n",
    "print ('a)')\n",
    "print ('The correct roots should be =======> x1 = ', roots_2[0], 'x2 =', roots_2[1])\n",
    "print ('The roots acquired from method 1:' , method1 (a, b, c ),'\\n')\n",
    "#in methid 1: X1 is accurate, but X2 is not accurate\n",
    "\n",
    "\n",
    "\n",
    "#b) compute solutions by the second method:\n",
    "\n",
    "def method2 (a, b, c):\n",
    "    x1 = 2*c / (-b + math.sqrt(b*b - 4*a*c))\n",
    "    x2 = 2*c / (-b - math.sqrt(b*b - 4*a*c))\n",
    "    return x1, x2\n",
    "\n",
    "print ('b)')\n",
    "print ('The roots acquired from method 2:' , method2 (a, b, c ),'\\n')\n",
    "#in method 2: X1 is not accurate, however X2 is accurate\n",
    "\n",
    "#The result of method 1 is different from the result of method 2, due to changing the order of operations that changes the result\n",
    "#So, we can take the best solution of each method and use them in the third method with an optimal precision\n",
    "\n",
    "\n",
    "\n",
    "#c) compute the more accurate roots:\n",
    "\n",
    "def method3(a, b, c):\n",
    "    x1 = (-b - math.sqrt(b*b - 4*a*c)) / (2*a)\n",
    "    x2 = 2*c / (-b - math.sqrt(b*b - 4*a*c))\n",
    "    return x1, x2\n",
    "\n",
    "print ('c)')\n",
    "print ('The roots acquired from method 3:' , method3 (a, b, c ),'\\n')\n",
    "print ('Method 3 is the most accurate method with an optimal precision.')\n"
   ]
  },
  {
   "cell_type": "markdown",
   "metadata": {},
   "source": [
    "6\\. Write a program that implements the function $f(x)=x(x−1)$\n",
    "\n",
    "(a) Calculate the derivative of the function at the point $x = 1$ using the derivative definition:\n",
    "\n",
    "$$\n",
    "\\frac{{\\rm d}f}{{\\rm d}x} = \\lim_{\\delta\\to0} \\frac{f(x+\\delta)-f(x)}{\\delta}\n",
    "$$\n",
    "\n",
    "with $\\delta = 10^{−2}$. Calculate the true value of the same derivative analytically and compare with the answer your program gives. The two will not agree perfectly. Why not?\n",
    "\n",
    "(b) Repeat the calculation for $\\delta = 10^{−4}, 10^{−6}, 10^{−8}, 10^{−10}, 10^{−12}$ and $10^{−14}$. How does the accuracy scales with $\\delta$?"
   ]
  },
  {
   "cell_type": "code",
   "execution_count": 16,
   "metadata": {},
   "outputs": [
    {
     "name": "stdout",
     "output_type": "stream",
     "text": [
      "a)\n",
      "Real Value of Derivative:  1\n",
      "Acquired Value of Derivative for i = 2 is: 1.010000000000001\n",
      "Accuracy: 1.0000000000000897 \n",
      "\n",
      "b)\n",
      "Real Value of Derivative:  1\n",
      "Acquired Value of Derivative for i = 4 is:  1.0000999999998899\n",
      "Accuracy for i = 4 is:  0.009999999988985486 \n",
      "\n",
      "Acquired Value of Derivative for i = 6 is:  1.0000009999177333\n",
      "Accuracy for i = 6 is:  9.99917733279787e-05 \n",
      "\n",
      "Acquired Value of Derivative for i = 8 is:  1.0000000039225287\n",
      "Accuracy for i = 8 is:  3.9225287462585356e-07 \n",
      "\n",
      "Acquired Value of Derivative for i = 10 is:  1.000000082840371\n",
      "Accuracy for i = 10 is:  8.284037100736441e-06 \n",
      "\n",
      "Acquired Value of Derivative for i = 12 is:  1.0000889005833413\n",
      "Accuracy for i = 12 is:  0.008890058334132256 \n",
      "\n",
      "Acquired Value of Derivative for i = 14 is:  0.9992007221626509\n",
      "Accuracy for i = 14 is:  0.07992778373491216 \n",
      "\n"
     ]
    }
   ],
   "source": [
    "#a) compute the function value:\n",
    "\n",
    "df_real = 1\n",
    "x = 1\n",
    "\n",
    "def f(x):\n",
    "    result_f = x * (x - 1)\n",
    "    return result_f\n",
    "\n",
    "def df(x, i):\n",
    "    delta = 10**(-i)\n",
    "    result_df = (f(x + delta) - f(x))/delta\n",
    "    return result_df\n",
    "\n",
    "acquired_value_2 = df(x,2)\n",
    "\n",
    "print ('a)')\n",
    "\n",
    "#print the analytical derivative value\n",
    "print('Real Value of Derivative: ', df_real)\n",
    "\n",
    "#print the acquired derivative value\n",
    "print ('Acquired Value of Derivative for i = 2 is:', acquired_value_2)\n",
    "\n",
    "# The results are not identical because we are using the a taylor expansion (incremental ratio).\n",
    "# So, this method mathematically has an error.\n",
    "\n",
    "#check the accuracy of this method\n",
    "def accuracy(df, df_real):\n",
    "    result_accuracy = (abs(df - df_real)/df_real*100)\n",
    "    return result_accuracy\n",
    "\n",
    "print('Accuracy:', accuracy(acquired_value_2, df_real),'\\n')\n",
    "\n",
    "\n",
    "#b)\n",
    "\n",
    "print ('b)')\n",
    "print('Real Value of Derivative: ', df_real)\n",
    "\n",
    "for i in range(4,15): \n",
    "    if i%2==0:\n",
    "        list = i\n",
    "        print('Acquired Value of Derivative for i =', i, 'is: ', df(x,i))\n",
    "        acquired_value_i = df(x,i)\n",
    "        print('Accuracy for i =', i, 'is: ', accuracy(acquired_value_i, df_real),'\\n')\n",
    "\n",
    "#At first, by decreasing delta the accuracy increases. But then it gets worse due to the subtraction of similiar numbers.        \n"
   ]
  },
  {
   "cell_type": "markdown",
   "metadata": {},
   "source": [
    "7\\. Consider the integral of the semicircle of radius 1:\n",
    "$$\n",
    "I=\\int_{-1}^{1} \\sqrt(1-x^2) {\\rm d}x\n",
    "$$\n",
    "which it's known to be $I=\\frac{\\pi}{2}=1.57079632679...$.\n",
    "Alternatively we can use the Riemann definition of the integral:\n",
    "$$\n",
    "I=\\lim_{N\\to\\infty} \\sum_{k=1}^{N} h y_k \n",
    "$$\n",
    "\n",
    "with $h=2/N$ the width of each of the $N$ slices the domain is divided into and where\n",
    "$y_k$ is the value of the function at the $k-$th slice.\n",
    "\n",
    "(a) Write a programe to compute the integral with $N=100$. How does the result compares to the true value?\n",
    "\n",
    "(b) How much can $N$ be increased if the computation needs to be run in less than a second? What is the gain in running it for 1 minute? \n"
   ]
  },
  {
   "cell_type": "code",
   "execution_count": 55,
   "metadata": {},
   "outputs": [
    {
     "name": "stdout",
     "output_type": "stream",
     "text": [
      "a)  For N = 100:\n",
      "The true value of semi pi is:  1.5707963267948966\n",
      "The calculated value of semi pi is:  1.5691342555492505\n",
      "The error = true_I - calculated_I  is:  0.0016620712456461018\n",
      "The accuracy =  0.10581074180619238 \n",
      "\n",
      "Time required for N = 100:  0.0007483000008505769 s\n",
      "Start time: 9367.2901138\n",
      "End time: 9367.2908621 \n",
      "\n"
     ]
    }
   ],
   "source": [
    "from math import sqrt, pi\n",
    "import timeit\n",
    "\n",
    "#a)\n",
    "\n",
    "true_I = pi/2\n",
    "N=100\n",
    "h=2/N\n",
    "\n",
    "def area_function(n):\n",
    "    b = 2 / n\n",
    "    x = -1\n",
    "    I = 0\n",
    "    \n",
    "    while(x<1):\n",
    "        I += ((1-(x**2))**.5)*b\n",
    "        x += b\n",
    "    return I\n",
    "\n",
    "calculated_I = I\n",
    "\n",
    "print('a)  For N = 100:')\n",
    "print('The true value of semi pi is: ', true_I)\n",
    "print('The calculated value of semi pi is: ', calculated_I)\n",
    "print('The error = true_I - calculated_I  is: ',true_I-calculated_I)\n",
    "print('The accuracy = ', abs((calculated_I - true_I)/true_I*100),'\\n')\n",
    "\n",
    "start_time = timeit.default_timer() #set the initial time for the evaluation\n",
    "result = area_function(N)\n",
    "end_time = timeit.default_timer() # set the time after the checking cycle\n",
    "total_time = end_time - start_time\n",
    "\n",
    "print('Time required for N = 100: ', total_time, 's')\n",
    "print ('Start time:', start_time)\n",
    "print ('End time:', end_time, '\\n')\n"
   ]
  },
  {
   "cell_type": "code",
   "execution_count": 62,
   "metadata": {},
   "outputs": [
    {
     "name": "stdout",
     "output_type": "stream",
     "text": [
      "b)  For 1 s:\n",
      "Time required for N = 522000 :  1.0177712999993673 s\n",
      "Start time: 9862.7617394\n",
      "End time: 9863.7795107 \n",
      "\n"
     ]
    }
   ],
   "source": [
    "\n",
    "#b) For 1 s\n",
    "\n",
    "from math import sqrt, pi\n",
    "import timeit\n",
    "\n",
    "# 1s\n",
    "\n",
    "def area_function(n):\n",
    "    b = 2 / n\n",
    "    x = -1\n",
    "    area = 0\n",
    "    \n",
    "    while(x<1):\n",
    "        area += ((1-(x**2))**.5)*b\n",
    "        x += b\n",
    "    return area\n",
    "\n",
    "N = 522000\n",
    "start_time = timeit.default_timer() #set the initial time for the evaluation\n",
    "result = area_function(N)\n",
    "end_time = timeit.default_timer() # set the time after the checking cycle\n",
    "total_time = end_time - start_time\n",
    "\n",
    "print('b)  For 1 s:')\n",
    "print('Time required for N = 522000 : ', total_time, 's')\n",
    "print ('Start time:', start_time)\n",
    "print ('End time:', end_time, '\\n')\n"
   ]
  },
  {
   "cell_type": "code",
   "execution_count": null,
   "metadata": {},
   "outputs": [],
   "source": [
    "\n",
    "#for 60 sec\n",
    "\n",
    "from math import sqrt, pi\n",
    "import timeit\n",
    "\n",
    "# 60s\n",
    "\n",
    "def area_function(n):\n",
    "    b = 2 / n\n",
    "    x = -1\n",
    "    area = 0\n",
    "    \n",
    "    while(x<1):\n",
    "        area += ((1-(x**2))**.5)*b\n",
    "        x += b\n",
    "    return area\n",
    "\n",
    "N = 27400000\n",
    "\n",
    "start_time = timeit.default_timer() #set the initial time for the evaluation\n",
    "result = area_function(N)\n",
    "end_time = timeit.default_timer() # set the time after the checking cycle\n",
    "total_time = end_time - start_time\n",
    "\n",
    "print('b)  For 60 s:')\n",
    "print('Time required for N = 27400000: ', total_time, 's')\n",
    "print ('Start time:', start_time)\n",
    "print ('End time:', end_time, '\\n')\n",
    "\n"
   ]
  },
  {
   "cell_type": "code",
   "execution_count": null,
   "metadata": {},
   "outputs": [],
   "source": []
  }
 ],
 "metadata": {
  "kernelspec": {
   "display_name": "Python 3",
   "language": "python",
   "name": "python3"
  },
  "language_info": {
   "codemirror_mode": {
    "name": "ipython",
    "version": 3
   },
   "file_extension": ".py",
   "mimetype": "text/x-python",
   "name": "python",
   "nbconvert_exporter": "python",
   "pygments_lexer": "ipython3",
   "version": "3.8.8"
  }
 },
 "nbformat": 4,
 "nbformat_minor": 4
}
