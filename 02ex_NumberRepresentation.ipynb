{
 "cells": [
  {
   "cell_type": "markdown",
   "metadata": {},
   "source": [
    "1\\. Write a function that converts number representation (bin<->dec<->hex)"
   ]
  },
  {
   "cell_type": "markdown",
   "metadata": {},
   "source": [
    "### binary <-> decimal functions"
   ]
  },
  {
   "cell_type": "code",
   "execution_count": 78,
   "metadata": {},
   "outputs": [
    {
     "name": "stdout",
     "output_type": "stream",
     "text": [
      "Test for binaryToDecimal passed!\n",
      "Test for decimalToBinary passed!\n"
     ]
    }
   ],
   "source": [
    "def binaryToDecimal(binary):\n",
    "    # Input is a binary number as a string and output is the decimal representation, dec\n",
    "    dec = 0\n",
    "    for i in range(1, len(binary)):\n",
    "        dec += int(binary[i])*(2**((len(binary)-1) - i))\n",
    "    dec *= (-1)**int(binary[0]) # leading number is the sign\n",
    "    return dec\n",
    "\n",
    "def testBinaryToDecimal():\n",
    "    assert(binaryToDecimal('0101') == 5)\n",
    "    assert(binaryToDecimal('01011000') == 88)\n",
    "    assert(binaryToDecimal('11011000') == -88)\n",
    "    assert(binaryToDecimal('010100011001') == 1305)\n",
    "    assert(binaryToDecimal('110100011001') == -1305)\n",
    "    print('Test for binaryToDecimal passed!')\n",
    "\n",
    "def decimalToBinary(decimal):\n",
    "    # Input a decimal number as an int and output the number in binary repsrentation as a string, bin\n",
    "    bin = ''\n",
    "    \n",
    "    #now take care of sign and zero case\n",
    "    if(decimal == 0): return '0'\n",
    "    elif(decimal//(abs(decimal)) == 1): sign = '0'\n",
    "    else: sign = '1'\n",
    "    \n",
    "    decimal = abs(decimal) #now that sign is taken care of, take absolute value for the for loop\n",
    "    possible = ['0', '1']\n",
    "    \n",
    "    while decimal != 0:\n",
    "        index = decimal%2\n",
    "        bin += possible[index]\n",
    "        decimal //= 2\n",
    "        \n",
    "    #Now reverse order and add corresponding sign\n",
    "    bin = sign + bin[::-1]\n",
    "    return bin\n",
    "\n",
    "def testDecimalToBinary():\n",
    "    assert(decimalToBinary(0) == '0')\n",
    "    assert(decimalToBinary(1) == '01')\n",
    "    assert(decimalToBinary(-1) == '11')\n",
    "    assert(decimalToBinary(10) == '01010')\n",
    "    assert(decimalToBinary(88) == '01011000')\n",
    "    assert(decimalToBinary(-88) == '11011000')\n",
    "    assert(decimalToBinary(1305) == '010100011001')\n",
    "    assert(decimalToBinary(-1305) == '110100011001')\n",
    "    print('Test for decimalToBinary passed!')\n",
    "\n",
    "# Test functions\n",
    "testBinaryToDecimal()\n",
    "testDecimalToBinary()"
   ]
  },
  {
   "cell_type": "markdown",
   "metadata": {},
   "source": [
    "### decimal <-> hexadecimal functions"
   ]
  },
  {
   "cell_type": "code",
   "execution_count": 79,
   "metadata": {},
   "outputs": [
    {
     "name": "stdout",
     "output_type": "stream",
     "text": [
      "Test for decimalToHex passed!\n"
     ]
    }
   ],
   "source": [
    "def decimalToHex(decimal):\n",
    "    #Takes a decimal int and returns a hexadecimal str\n",
    "    hexa = ''\n",
    "    possible = ['0', '1', '2', '3', '4', '5', '6', '7', '8', '9', 'a', 'b', 'c', 'd', 'e', 'f']\n",
    "    \n",
    "    #now take care of sign and zero case\n",
    "    if(decimal == 0): return '0'\n",
    "    elif(decimal//(abs(decimal)) == 1): sign = '0'\n",
    "    else: sign = '1'\n",
    "    decimal = abs(decimal)    \n",
    "    \n",
    "    while decimal != 0:\n",
    "        index = decimal%16\n",
    "        hexa += possible[index]\n",
    "        decimal //= 16\n",
    "    \n",
    "    #now reverse the order and add the sign\n",
    "    hexa = sign + hexa[::-1]\n",
    "    return hexa\n",
    "\n",
    "def testDecimalToHex():\n",
    "    assert(decimalToHex(0) == '0')\n",
    "    assert(decimalToHex(10) == '0a')\n",
    "    assert(decimalToHex(540) == '021c')\n",
    "    assert(decimalToHex(-540) == '121c')\n",
    "    assert(decimalToHex(1326) == '052e')\n",
    "    assert(decimalToHex(-1326) == '152e')\n",
    "    print('Test for decimalToHex passed!')\n",
    "\n",
    "def hexToDecimal(hex):\n",
    "    pass\n",
    "\n",
    "def testHexToDecimal():\n",
    "    pass\n",
    "\n",
    "testDecimalToHex()"
   ]
  },
  {
   "cell_type": "markdown",
   "metadata": {},
   "source": [
    "2\\. Write a function that converts a 32 bit word into a single precision floating point (i.e. interprets the various bits as sign, mantissa and exponent)"
   ]
  },
  {
   "cell_type": "markdown",
   "metadata": {},
   "source": [
    "3\\. Write a program to determine the underflow and overflow limits (within a factor of 2) for python on your computer. \n",
    "\n",
    "**Tips**: define two variables inizialized to 1 and halve/double them enough time to exceed the under/over-flow limits  "
   ]
  },
  {
   "cell_type": "markdown",
   "metadata": {},
   "source": [
    "4\\. Write a program to determine the machine precision\n",
    "\n",
    "**Tips**: define a new variable by adding a smaller and smaller value (proceeding similarly to prob. 2) to an original variable and check the point where the two are the same "
   ]
  },
  {
   "cell_type": "markdown",
   "metadata": {},
   "source": [
    "5\\. Write a function that takes in input three parameters $a$, $b$ and $c$ and prints out the two solutions to the quadratic equation $ax^2+bx+c=0$ using the standard formula:\n",
    "$$\n",
    "x=\\frac{-b\\pm\\sqrt{b^2-4ac}}{2a}\n",
    "$$\n",
    "\n",
    "(a) use the program to compute the solution for $a=0.001$, $b=1000$ and $c=0.001$\n",
    "\n",
    "(b) re-express the standard solution formula by multiplying top and bottom by $-b\\mp\\sqrt{b^2-4ac}$ and again find the solution for $a=0.001$, $b=1000$ and $c=0.001$. How does it compare with what previously obtained? Why?\n",
    "\n",
    "(c) write a function that compute the roots of a quadratic equation accurately in all cases"
   ]
  },
  {
   "cell_type": "markdown",
   "metadata": {},
   "source": [
    "6\\. Write a program that implements the function $f(x)=x(x−1)$\n",
    "\n",
    "(a) Calculate the derivative of the function at the point $x = 1$ using the derivative definition:\n",
    "\n",
    "$$\n",
    "\\frac{{\\rm d}f}{{\\rm d}x} = \\lim_{\\delta\\to0} \\frac{f(x+\\delta)-f(x)}{\\delta}\n",
    "$$\n",
    "\n",
    "with $\\delta = 10^{−2}$. Calculate the true value of the same derivative analytically and compare with the answer your program gives. The two will not agree perfectly. Why not?\n",
    "\n",
    "(b) Repeat the calculation for $\\delta = 10^{−4}, 10^{−6}, 10^{−8}, 10^{−10}, 10^{−12}$ and $10^{−14}$. How does the accuracy scales with $\\delta$?"
   ]
  },
  {
   "cell_type": "markdown",
   "metadata": {},
   "source": [
    "7\\. Consider the integral of the semicircle of radius 1:\n",
    "$$\n",
    "I=\\int_{-1}^{1} \\sqrt(1-x^2) {\\rm d}x\n",
    "$$\n",
    "which it's known to be $I=\\frac{\\pi}{2}=1.57079632679...$.\n",
    "Alternatively we can use the Riemann definition of the integral:\n",
    "$$\n",
    "I=\\lim_{N\\to\\infty} \\sum_{k=1}^{N} h y_k \n",
    "$$\n",
    "\n",
    "with $h=2/N$ the width of each of the $N$ slices the domain is divided into and where\n",
    "$y_k$ is the value of the function at the $k-$th slice.\n",
    "\n",
    "(a) Write a programe to compute the integral with $N=100$. How does the result compares to the true value?\n",
    "\n",
    "(b) How much can $N$ be increased if the computation needs to be run in less than a second? What is the gain in running it for 1 minute? \n"
   ]
  },
  {
   "cell_type": "code",
   "execution_count": null,
   "metadata": {},
   "outputs": [],
   "source": []
  }
 ],
 "metadata": {
  "kernelspec": {
   "display_name": "Python 3",
   "language": "python",
   "name": "python3"
  },
  "language_info": {
   "codemirror_mode": {
    "name": "ipython",
    "version": 3
   },
   "file_extension": ".py",
   "mimetype": "text/x-python",
   "name": "python",
   "nbconvert_exporter": "python",
   "pygments_lexer": "ipython3",
   "version": "3.8.3"
  }
 },
 "nbformat": 4,
 "nbformat_minor": 2
}
