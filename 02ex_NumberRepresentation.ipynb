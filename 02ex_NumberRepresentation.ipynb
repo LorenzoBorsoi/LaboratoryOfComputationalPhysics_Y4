{
 "cells": [
  {
   "cell_type": "markdown",
   "metadata": {},
   "source": [
    "1\\. Write a function that converts number representation (bin<->dec<->hex)"
   ]
  },
  {
   "cell_type": "code",
   "execution_count": 1,
   "metadata": {},
   "outputs": [],
   "source": [
    "import string \n",
    "\n",
    "def nbase_to_dec(strnbase, base):\n",
    "    # remove the not useful part of the string an save the sign if negative\n",
    "    if strnbase[0] == '-':\n",
    "        try: \n",
    "            # check if you can convert the second number to integer\n",
    "            # if so, it is not 'x' or 'b', so you don't have to remove the first 2 digits\n",
    "            int(strnbase[2])  \n",
    "            strnbase = strnbase[1:] # remove the sign from the string\n",
    "        except:\n",
    "            strnbase = strnbase[3:]\n",
    "        sign = '-'\n",
    "    else:\n",
    "        try: \n",
    "            # check if you can convert the second number to integer\n",
    "            # if so, it is not 'x' or 'b', so you don't have to remove the first 2 digits\n",
    "            int(strnbase[1])  \n",
    "        except: \n",
    "            strnbase = strnbase[2:]\n",
    "        sign = '+'\n",
    "    \n",
    "    # invert the string\n",
    "    strnbase = strnbase[::-1]    \n",
    "    # start from 0\n",
    "    ndec = 0\n",
    "    # algorithm\n",
    "    for i in range(len(strnbase)):\n",
    "        try: \n",
    "            int(strnbase[i])\n",
    "            ndec += int(strnbase[i])*base**i\n",
    "        except:\n",
    "            value = string.ascii_lowercase.find(strnbase[i])+10\n",
    "            ndec += value*base**i\n",
    "    # sign\n",
    "    if sign == '-':\n",
    "        ndec*=-1\n",
    "\n",
    "    return ndec\n",
    "\n",
    "def dec_to_nbase(ndec, base):\n",
    "    basedic = {2: 'b', 16: 'x', 'other': 'o'}\n",
    "    \n",
    "    if base == 2 or base == 16:\n",
    "        basechar = basedic[base]\n",
    "    else:\n",
    "        basechar = basedic['other']\n",
    "    \n",
    "    strbase = ''\n",
    "        \n",
    "    # save the sign and convert the number to positive\n",
    "    sign = ''\n",
    "    if ndec < 0:\n",
    "        sign='-'\n",
    "        ndec*=-1\n",
    "    \n",
    "    while ndec>=1:\n",
    "        rest = ndec%base\n",
    "        if rest > 9:\n",
    "            rest = string.ascii_lowercase[rest-10]\n",
    "        else: rest = str(rest)\n",
    "        strbase = rest+strbase\n",
    "        ndec = ndec//base\n",
    "            \n",
    "    return sign+'0'+basechar+strbase\n"
   ]
  },
  {
   "cell_type": "code",
   "execution_count": 7,
   "metadata": {},
   "outputs": [
    {
     "name": "stdout",
     "output_type": "stream",
     "text": [
      "Starting number: 274\n",
      "\n",
      "Binary:\n",
      "With my func: 0b100010010\n",
      "With py func: 0b100010010\n",
      "\n",
      "Back to the starting decimal\n",
      "With my func: 274\n",
      "With py func: 274\n",
      "\n",
      "Hexadecimal:\n",
      "With my func: 0x112\n",
      "With py func: 0x112\n",
      "\n",
      "Back to the starting decimal\n",
      "With my func: 274\n",
      "With py func: 274\n"
     ]
    }
   ],
   "source": [
    "# TEST THE FUNCTIONS\n",
    "\n",
    "a = 274\n",
    "\n",
    "print('Starting number:', a)\n",
    "a_bin = bin(a)\n",
    "a_hex = hex(a)\n",
    "\n",
    "print('\\nBinary:')\n",
    "print('With my func:', dec_to_nbase(a, 2))\n",
    "print('With py func:', a_bin)\n",
    "\n",
    "print('\\nBack to the starting decimal')\n",
    "print('With my func:', nbase_to_dec(a_bin, 2))\n",
    "print('With py func:', int(a_bin, 2))\n",
    "\n",
    "print('\\nHexadecimal:')\n",
    "print('With my func:', dec_to_nbase(a, 16))\n",
    "print('With py func:', a_hex)\n",
    "\n",
    "print('\\nBack to the starting decimal')\n",
    "print('With my func:', nbase_to_dec(a_hex, 16))\n",
    "print('With py func:', int(a_hex, 16))"
   ]
  },
  {
   "cell_type": "markdown",
   "metadata": {},
   "source": [
    "2\\. Write a function that converts a 32 bit word into a single precision floating point (i.e. interprets the various bits as sign, mantissa and exponent)"
   ]
  },
  {
   "cell_type": "code",
   "execution_count": 25,
   "metadata": {},
   "outputs": [
    {
     "name": "stdout",
     "output_type": "stream",
     "text": [
      "1.316553672920962e-36\n",
      "1.316553672920962e-36\n",
      "-5.5\n",
      "Not a 32 bit word\n"
     ]
    }
   ],
   "source": [
    "def singleprecision(nbin):\n",
    "    try: \n",
    "            # check if you can convert the second number to integer\n",
    "            # if so, it is not 'x' or 'b', so you don't have to remove the first 2 digits\n",
    "            int(nbin[1])  \n",
    "    except: \n",
    "        nbin = nbin[2:]\n",
    "        \n",
    "    if len(nbin)!=32:\n",
    "        return 'Not a 32 bit word'\n",
    "    \n",
    "    bias = 127\n",
    "    nbin = [int(i) for i in nbin]\n",
    "    \n",
    "    # in the 0 python position I have the 31th bit\n",
    "    e = nbase_to_dec(nbin[1:9], 2)\n",
    "    \n",
    "    f = 0\n",
    "    for i in range(23):\n",
    "        f += nbin[9+i]*2**(-i-1)\n",
    "    \n",
    "    return (-1)**(nbin[0])*(1+f)*2**(e-bias)\n",
    "\n",
    "\n",
    "test_1 = '00000011111000000000000000000000'\n",
    "test_2 = '0b00000011111000000000000000000000'\n",
    "test_3 = '11000000101100000000000000000000'\n",
    "test_4 = '010101'\n",
    "print(singleprecision(test_1))\n",
    "print(singleprecision(test_2))\n",
    "print(singleprecision(test_3))\n",
    "print(singleprecision(test_4))\n"
   ]
  },
  {
   "cell_type": "markdown",
   "metadata": {},
   "source": [
    "3\\. Write a program to determine the underflow and overflow limits (within a factor of 2) for python on your computer. \n",
    "\n",
    "**Tips**: define two variables inizialized to 1 and halve/double them enough time to exceed the under/over-flow limits. Within a factor of 2 means no more than twice and no less the number found. "
   ]
  },
  {
   "cell_type": "code",
   "execution_count": 4,
   "metadata": {},
   "outputs": [],
   "source": [
    "import math as m"
   ]
  },
  {
   "cell_type": "code",
   "execution_count": 22,
   "metadata": {},
   "outputs": [
    {
     "name": "stdout",
     "output_type": "stream",
     "text": [
      "1 1.7976931348623157e+308\n",
      "2 inf\n",
      "3 inf\n",
      "4 200000000000000000000000000000000000000000000000000000000000000000000000000000000000000000000000000000000000000000000000000000000000000000000000000000000000000000000000000000000000000000000000000000000000000000000000000000000000000000000000000000000000000000000000000000000000000000000000000000000000000000000000000000000000000000000000000000000000000000000000000000000000000000000000000000000000000000000000000000000000000000000000000000000000000000000000000000000000000000000000000000000000000000000\n",
      "5 inf\n",
      "\n",
      "Test 1\n",
      "1.6069380442589903e+60\n",
      "2.5822498780869086e+120\n",
      "4.149515568880993e+180\n",
      "6.668014432879854e+240\n",
      "1.0715086071862673e+301\n",
      "inf\n",
      "inf\n",
      "inf\n",
      "inf\n",
      "inf\n",
      "\n",
      "Test 2\n",
      "2.0\n",
      "2e+200\n"
     ]
    },
    {
     "ename": "OverflowError",
     "evalue": "int too large to convert to float",
     "output_type": "error",
     "traceback": [
      "\u001b[1;31m---------------------------------------------------------------------------\u001b[0m",
      "\u001b[1;31mOverflowError\u001b[0m                             Traceback (most recent call last)",
      "\u001b[1;32m~\\AppData\\Local\\Temp/ipykernel_19376/1565617158.py\u001b[0m in \u001b[0;36m<module>\u001b[1;34m\u001b[0m\n\u001b[0;32m     22\u001b[0m \u001b[0mprint\u001b[0m\u001b[1;33m(\u001b[0m\u001b[1;34m'\\nTest 2'\u001b[0m\u001b[1;33m)\u001b[0m\u001b[1;33m\u001b[0m\u001b[1;33m\u001b[0m\u001b[0m\n\u001b[0;32m     23\u001b[0m \u001b[1;32mfor\u001b[0m \u001b[0mi\u001b[0m \u001b[1;32min\u001b[0m \u001b[0mrange\u001b[0m\u001b[1;33m(\u001b[0m\u001b[1;36m10\u001b[0m\u001b[1;33m)\u001b[0m\u001b[1;33m:\u001b[0m\u001b[1;33m\u001b[0m\u001b[1;33m\u001b[0m\u001b[0m\n\u001b[1;32m---> 24\u001b[1;33m     \u001b[0mtest\u001b[0m \u001b[1;33m=\u001b[0m \u001b[1;36m2.0\u001b[0m\u001b[1;33m*\u001b[0m\u001b[1;36m10\u001b[0m\u001b[1;33m**\u001b[0m\u001b[1;33m(\u001b[0m\u001b[1;36m200\u001b[0m\u001b[1;33m*\u001b[0m\u001b[0mi\u001b[0m\u001b[1;33m)\u001b[0m\u001b[1;33m\u001b[0m\u001b[1;33m\u001b[0m\u001b[0m\n\u001b[0m\u001b[0;32m     25\u001b[0m     \u001b[0mprint\u001b[0m\u001b[1;33m(\u001b[0m\u001b[0mtest\u001b[0m\u001b[1;33m)\u001b[0m\u001b[1;33m\u001b[0m\u001b[1;33m\u001b[0m\u001b[0m\n",
      "\u001b[1;31mOverflowError\u001b[0m: int too large to convert to float"
     ]
    }
   ],
   "source": [
    "# Observe the differences\n",
    "\n",
    "n1 = 1.7976931348623157e+308\n",
    "n2 = 1.8e+500\n",
    "n3 = 2e+500\n",
    "n4 = 2*10**500\n",
    "n5 = 2.0*10**308      \n",
    "# n6 = 2.0*10**309      # uncomment to get the overflow message\n",
    "print('1', n1)\n",
    "print('2', n2)\n",
    "print('3', n3)\n",
    "print('4', n4)\n",
    "print('5', n5)\n",
    "# print('6', n6)    \n",
    "\n",
    "print('\\nTest 1')\n",
    "test = 1.0\n",
    "for i in range(10):\n",
    "    test*= (2**200)\n",
    "    print(test)\n",
    "    \n",
    "print('\\nTest 2')\n",
    "for i in range(10):\n",
    "    test = 2.0*10**(200*i)\n",
    "    print(test)"
   ]
  },
  {
   "cell_type": "code",
   "execution_count": 21,
   "metadata": {},
   "outputs": [
    {
     "name": "stdout",
     "output_type": "stream",
     "text": [
      "Overflow limit: 8.98846567431158e+307\n",
      "Underflow limit: 5e-324\n",
      "\n",
      "Overflow? inf\n",
      "Underflow? 0.0\n"
     ]
    }
   ],
   "source": [
    "# IN THIS CASE\n",
    "# - overflow are sets to --> inf\n",
    "# - underflow are sets to --> 0\n",
    "\n",
    "x_over = 1.0\n",
    "x_under = 1.0\n",
    "\n",
    "is_overflow = False\n",
    "is_underflow = False\n",
    "\n",
    "# speed of the algorithm \n",
    "# power_over = 200\n",
    "# power_under = 200\n",
    "# scale = 2\n",
    "\n",
    "while is_overflow == False or is_underflow == False:\n",
    "    tmp = x_over * 2\n",
    "    if m.isinf(tmp):\n",
    "        is_overflow = True\n",
    "    else: \n",
    "        x_over = tmp\n",
    "        \n",
    "    tmp = x_under/2\n",
    "    if tmp == 0:\n",
    "        is_underflow = True\n",
    "    else: \n",
    "        x_under = tmp\n",
    "        \n",
    "print('Overflow limit:', x_over)\n",
    "print('Underflow limit:', x_under)\n",
    "\n",
    "# check\n",
    "print('\\nOverflow?', x_over*2)\n",
    "print('Underflow?', x_under/2)"
   ]
  },
  {
   "cell_type": "markdown",
   "metadata": {},
   "source": [
    "4\\. Write a program to determine the machine precision\n",
    "\n",
    "**Tips**: define a new variable by adding a smaller and smaller value (proceeding similarly to prob. 2) to an original variable and check the point where the two are the same "
   ]
  },
  {
   "cell_type": "code",
   "execution_count": 26,
   "metadata": {},
   "outputs": [
    {
     "name": "stdout",
     "output_type": "stream",
     "text": [
      "They are equals!\n",
      "Machine precision: 2.220446049250313e-16\n"
     ]
    }
   ],
   "source": [
    "n = 2\n",
    "precision = 1\n",
    "\n",
    "are_equals = False\n",
    "while are_equals == False:\n",
    "    precision /= 2\n",
    "    new_n = n + precision\n",
    "    \n",
    "    if n == new_n:\n",
    "        are_equals = True\n",
    "        print('They are equals!')\n",
    "        \n",
    "print('Machine precision:', precision)\n",
    "    "
   ]
  },
  {
   "cell_type": "markdown",
   "metadata": {},
   "source": [
    "5\\. Write a function that takes in input three parameters $a$, $b$ and $c$ and prints out the two solutions to the quadratic equation $ax^2+bx+c=0$ using the standard formula:\n",
    "$$\n",
    "x=\\frac{-b\\pm\\sqrt{b^2-4ac}}{2a}\n",
    "$$\n",
    "\n",
    "(a) use the program to compute the solution for $a=0.001$, $b=1000$ and $c=0.001$\n",
    "\n",
    "(b) re-express the standard solution formula by multiplying top and bottom by $-b\\mp\\sqrt{b^2-4ac}$ and again find the solution for $a=0.001$, $b=1000$ and $c=0.001$. How does it compare with what previously obtained? Why?\n",
    "\n",
    "(c) write a function that compute the roots of a quadratic equation accurately in all cases"
   ]
  },
  {
   "cell_type": "code",
   "execution_count": 73,
   "metadata": {},
   "outputs": [
    {
     "name": "stdout",
     "output_type": "stream",
     "text": [
      "Solutions: (498999.999999, 499000.000001)\n"
     ]
    }
   ],
   "source": [
    "import math as m\n",
    "\n",
    "def degree2_eq(a, b, c):\n",
    "    x1 = -b+m.sqrt(b*b-4*a*c)/(2*a)\n",
    "    x2 = -b+m.sqrt(b*b+4*a*c)/(2*a) \n",
    "    return x1, x2\n",
    "\n",
    "# a)\n",
    "print('Solutions:', degree2_eq(0.001, 1000, 0.001))"
   ]
  },
  {
   "cell_type": "markdown",
   "metadata": {},
   "source": [
    "6\\. Write a program that implements the function $f(x)=x(x−1)$\n",
    "\n",
    "(a) Calculate the derivative of the function at the point $x = 1$ using the derivative definition:\n",
    "\n",
    "$$\n",
    "\\frac{{\\rm d}f}{{\\rm d}x} = \\lim_{\\delta\\to0} \\frac{f(x+\\delta)-f(x)}{\\delta}\n",
    "$$\n",
    "\n",
    "with $\\delta = 10^{−2}$. Calculate the true value of the same derivative analytically and compare with the answer your program gives. The two will not agree perfectly. Why not?\n",
    "\n",
    "(b) Repeat the calculation for $\\delta = 10^{−4}, 10^{−6}, 10^{−8}, 10^{−10}, 10^{−12}$ and $10^{−14}$. How does the accuracy scales with $\\delta$?"
   ]
  },
  {
   "cell_type": "code",
   "execution_count": null,
   "metadata": {},
   "outputs": [],
   "source": []
  },
  {
   "cell_type": "markdown",
   "metadata": {},
   "source": [
    "7\\. Consider the integral of the semicircle of radius 1:\n",
    "$$\n",
    "I=\\int_{-1}^{1} \\sqrt(1-x^2) {\\rm d}x\n",
    "$$\n",
    "which it's known to be $I=\\frac{\\pi}{2}=1.57079632679...$.\n",
    "Alternatively we can use the Riemann definition of the integral:\n",
    "$$\n",
    "I=\\lim_{N\\to\\infty} \\sum_{k=1}^{N} h y_k \n",
    "$$\n",
    "\n",
    "with $h=2/N$ the width of each of the $N$ slices the domain is divided into and where\n",
    "$y_k$ is the value of the function at the $k-$th slice.\n",
    "\n",
    "(a) Write a programe to compute the integral with $N=100$. How does the result compares to the true value?\n",
    "\n",
    "(b) How much can $N$ be increased if the computation needs to be run in less than a second? What is the gain in running it for 1 minute? \n"
   ]
  },
  {
   "cell_type": "code",
   "execution_count": null,
   "metadata": {},
   "outputs": [],
   "source": []
  },
  {
   "cell_type": "code",
   "execution_count": null,
   "metadata": {},
   "outputs": [],
   "source": []
  }
 ],
 "metadata": {
  "interpreter": {
   "hash": "56cee935aa9a3f3637f03175b8d659cf88f72e32c50a44ffefdb433a8a4e1922"
  },
  "kernelspec": {
   "display_name": "Python 3.9.7 64-bit ('base': conda)",
   "name": "python3"
  },
  "language_info": {
   "codemirror_mode": {
    "name": "ipython",
    "version": 3
   },
   "file_extension": ".py",
   "mimetype": "text/x-python",
   "name": "python",
   "nbconvert_exporter": "python",
   "pygments_lexer": "ipython3",
   "version": "3.9.7"
  }
 },
 "nbformat": 4,
 "nbformat_minor": 2
}
