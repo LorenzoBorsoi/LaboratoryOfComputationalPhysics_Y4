{
 "cells": [
  {
   "cell_type": "markdown",
   "metadata": {},
   "source": [
    "1\\. Write a function that converts number representation (bin<->dec<->hex)"
   ]
  },
  {
   "cell_type": "code",
   "execution_count": 40,
   "metadata": {},
   "outputs": [
    {
     "name": "stdout",
     "output_type": "stream",
     "text": [
      "[1, 0]\n",
      "21\n"
     ]
    },
    {
     "data": {
      "text/plain": [
       "'CD'"
      ]
     },
     "execution_count": 40,
     "metadata": {},
     "output_type": "execute_result"
    }
   ],
   "source": [
    "\n",
    "def decimal_to_binary(decimal_num):\n",
    "    a=[]\n",
    "    while (decimal_num>=1):\n",
    "        a.insert(0,decimal_num % 2)\n",
    "            \n",
    "        decimal_num=decimal_num //  2  \n",
    "            \n",
    "    return a\n",
    "        \n",
    "print(decimal_to_binary(2))\n",
    "\n",
    "def binary_to_decimal(binary_number):\n",
    "    decimal_number=0\n",
    "    for i in range(len(binary_number)):\n",
    "        num=int(binary_number.pop(-1))\n",
    "        \n",
    "        if num==1:\n",
    "             decimal_number +=int(num*(2**i))\n",
    "        \n",
    "    return decimal_number\n",
    "        \n",
    "print(binary_to_decimal([1,0,1,0,1]))\n",
    "\n",
    "\n",
    "\n",
    "hexadecimal_value = ['0', '1', '2', '3', '4', '5', '6', '7', '8', '9', 'A' , 'B', 'C', 'D', 'E', 'F']\n",
    "def decimal_to_hex(number):\n",
    "\n",
    "    if(number<=0):\n",
    "        return ''\n",
    "    remainder = number % 16\n",
    "    return  decimal_to_hex(number//16)+hexadecimal_value[remainder]\n",
    "\n",
    "    \n",
    "decimal_to_hex(205)\n"
   ]
  },
  {
   "cell_type": "markdown",
   "metadata": {},
   "source": [
    "\n",
    "2. Write a function that converts a 32 bit word into a single precision floating point (i.e. interprets the various bits as sign, mantissa and exponent)"
   ]
  },
  {
   "cell_type": "code",
   "execution_count": 14,
   "metadata": {},
   "outputs": [
    {
     "data": {
      "text/plain": [
       "2251799813685248.0"
      ]
     },
     "execution_count": 14,
     "metadata": {},
     "output_type": "execute_result"
    }
   ],
   "source": [
    "def floating_number(number):\n",
    "    \n",
    "    #ih this part I try to tell my function to just accept 32 bit, otherwise print false\n",
    "    \n",
    "    if len(number) != 32:\n",
    "        print( 'not true')\n",
    "        return 0\n",
    "    \n",
    "    #as we know in 32 bit word (single precision):sign=1bit,  exponent=8bit,  mantissa=23bit\n",
    "    sign = number[0]\n",
    "    exponent= number[1:9]\n",
    "    mantissa = number[9:]  \n",
    "    \n",
    "    \n",
    "    m = 1\n",
    "    for i in range(23):\n",
    "        m += int(mantissa[22-i])*2**(-i) \n",
    "        \n",
    "        formula = (-1)**int(sign) * m * 2**(int(exponent,2)-127) \n",
    "        return float(formula)\n",
    "\n",
    "floating_number(\"01011001000010010100000100001110\")"
   ]
  },
  {
   "cell_type": "markdown",
   "metadata": {},
   "source": [
    "3\\. Write a program to determine the underflow and overflow limits (within a factor of 2) for python on your computer. \n",
    "\n",
    "**Tips**: define two variables inizialized to 1 and halve/double them enough time to exceed the under/over-flow limits  "
   ]
  },
  {
   "cell_type": "code",
   "execution_count": 31,
   "metadata": {},
   "outputs": [
    {
     "name": "stdout",
     "output_type": "stream",
     "text": [
      "1 0.5 2\n",
      "2 0.25 4\n",
      "3 0.125 8\n",
      "4 0.0625 16\n",
      "5 0.03125 32\n"
     ]
    },
    {
     "data": {
      "text/plain": [
       "(0.03125, 32)"
      ]
     },
     "execution_count": 31,
     "metadata": {},
     "output_type": "execute_result"
    }
   ],
   "source": [
    "def limited(numbers,Printall=True):\n",
    "    underflow=1\n",
    "    overflow=1\n",
    "    for i in range(numbers):\n",
    "        underflow=underflow / 2\n",
    "        overflow=overflow * 2\n",
    "        if Printall:\n",
    "            print(i+1,underflow,overflow)\n",
    "    return underflow,overflow\n",
    "    \n",
    "limited(5,Printall=True)"
   ]
  },
  {
   "cell_type": "markdown",
   "metadata": {},
   "source": [
    "4\\. Write a program to determine the machine precision\n",
    "\n",
    "**Tips**: define a new variable by adding a smaller and smaller value (proceeding similarly to prob. 2) to an original variable and check the point where the two are the same "
   ]
  },
  {
   "cell_type": "code",
   "execution_count": 47,
   "metadata": {},
   "outputs": [
    {
     "data": {
      "text/plain": [
       "1.000000000000001e-16"
      ]
     },
     "execution_count": 47,
     "metadata": {},
     "output_type": "execute_result"
    }
   ],
   "source": [
    " def MachinePercision():\n",
    "        val = 10\n",
    "        coef=0.1\n",
    "        while(val!=val+coef):\n",
    "            coef = coef*0.1\n",
    "        return(coef)    \n",
    "MachinePercision()    "
   ]
  },
  {
   "cell_type": "markdown",
   "metadata": {},
   "source": [
    "5. Write a function that takes in input three parameters $a$, $b$ and $c$ and prints out the two solutions to the quadratic equation $ax^2+bx+c=0$ using the standard formula:$$\n",
    "x=\\frac{-b\\pm\\sqrt{b^2-4ac}}{2a}\n",
    "$$\n",
    "\n",
    "(a) use the program to compute the solution for $a=0.001$, $b=1000$ and $c=0.001$\n",
    "\n",
    "(b) re-express the standard solution formula by multiplying top and bottom by $-b\\mp\\sqrt{b^2-4ac}$ and again find the solution for $a=0.001$, $b=1000$ and $c=0.001$. How does it compare with what previously obtained? Why?\n",
    "\n",
    "(c) write a function that compute the roots of a quadratic equation accurately in all cases"
   ]
  },
  {
   "cell_type": "code",
   "execution_count": 23,
   "metadata": {},
   "outputs": [
    {
     "name": "stdout",
     "output_type": "stream",
     "text": [
      "(-9.999894245993346e-07, -999999.999999)\n",
      "(-1000010.5755125057, -1.000000000001e-06)\n"
     ]
    }
   ],
   "source": [
    "import math \n",
    "\n",
    "# answer of part a \n",
    "def quadratic_equation(a,b,c):\n",
    "    \n",
    "\n",
    "    delta=b**2-(4*a*c)\n",
    "    \n",
    "    if (delta >0):\n",
    "        solution_one=((-1*b)+math.sqrt(delta))/(2*a)\n",
    "    \n",
    "        solution_two=((-1*b)-math.sqrt(delta))/(2*a)\n",
    "        \n",
    "        return solution_one,solution_two\n",
    "    \n",
    "    elif (delta==0):\n",
    "        x=(-1*b)/2*a\n",
    "        \n",
    "        return x\n",
    "        \n",
    "    else:\n",
    "        print(\"my equation doas not have answer \")\n",
    "        \n",
    "    return   0\n",
    "\n",
    "\n",
    "\n",
    "print(quadratic_equation(0.001,1000,0.001))\n",
    "\n",
    "\n",
    "# answer of part b\n",
    "\n",
    "def quadratic_equation2(a,b,c):\n",
    "    \n",
    "\n",
    "    delta=b**2-(4*a*c)\n",
    "    \n",
    "    if (delta >0):\n",
    "        solution_one=(2*c)/((-1*b)+math.sqrt(delta)) \n",
    "    \n",
    "        solution_two=(2*c)/((-1*b)-math.sqrt(delta)) \n",
    "        \n",
    "        return solution_one,solution_two\n",
    "    \n",
    "    elif (delta==0):\n",
    "        x=(-1*b)/2*a\n",
    "        \n",
    "        return x\n",
    "        \n",
    "    else:\n",
    "        print(\"my equation doas not have answer \")\n",
    "        \n",
    "    return   0\n",
    "\n",
    "print(quadratic_equation2(0.001,1000,0.001))\n"
   ]
  },
  {
   "cell_type": "code",
   "execution_count": null,
   "metadata": {},
   "outputs": [],
   "source": [
    "my answer: because the parameters(a,b,c) are too big and small ,the system precision running to problem due to limitation of computation system"
   ]
  },
  {
   "cell_type": "markdown",
   "metadata": {},
   "source": [
    "6\\. Write a program that implements the function $f(x)=x(x−1)$\n",
    "\n",
    "(a) Calculate the derivative of the function at the point $x = 1$ using the derivative definition:\n",
    "\n",
    "$$\n",
    "\\frac{{\\rm d}f}{{\\rm d}x} = \\lim_{\\delta\\to0} \\frac{f(x+\\delta)-f(x)}{\\delta}\n",
    "$$\n",
    "\n",
    "with $\\delta = 10^{−2}$. Calculate the true value of the same derivative analytically and compare with the answer your program gives. The two will not agree perfectly. Why not?\n",
    "\n",
    "(b) Repeat the calculation for $\\delta = 10^{−4}, 10^{−6}, 10^{−8}, 10^{−10}, 10^{−12}$ and $10^{−14}$. How does the accuracy scales with $\\delta$?"
   ]
  },
  {
   "cell_type": "code",
   "execution_count": 19,
   "metadata": {},
   "outputs": [
    {
     "name": "stdout",
     "output_type": "stream",
     "text": [
      "show the differentiation for our deltas: \n",
      " 0.9992007221626509 \n",
      "\n",
      "show the differentiation for our deltas: \n",
      " 1.0000889005833413 \n",
      "\n",
      "show the differentiation for our deltas: \n",
      " 1.000000082840371 \n",
      "\n",
      "show the differentiation for our deltas: \n",
      " 1.0000000039225287 \n",
      "\n",
      "show the differentiation for our deltas: \n",
      " 1.0000009999177333 \n",
      "\n",
      "show the differentiation for our deltas: \n",
      " 1.0000999999998899 \n",
      "\n",
      "show the accuracy scales with different delta: \n",
      " [0.0007992778373491216, 8.890058334132256e-05, 8.284037100736441e-08, 3.922528746258536e-09, 9.99917733279787e-07, 9.999999988985486e-05] \n",
      "\n"
     ]
    }
   ],
   "source": [
    "def function(x):\n",
    "    differential= []\n",
    "    accuracy_scales = []\n",
    "    delta = [10**(-14), 10**(-12), 10**(-10), 10**(-8), 10**(-6), 10**(-4)]\n",
    "    my_function= x*(x-1)\n",
    "    \n",
    "    \n",
    "    for number in delta:\n",
    "        fx_delta = (x+number)*(x+number-1)\n",
    "        \n",
    "        differentiation_delta= (fx_delta-my_function)/number\n",
    "        \n",
    "        differential.append(differentiation_delta )\n",
    "        \n",
    "        print('show the differentiation for our deltas:','\\n',differentiation_delta,'\\n')\n",
    "        \n",
    "    for i in differential:\n",
    "        if i>1:\n",
    "             accuracy_scales.append(i-1)\n",
    "        else:\n",
    "             accuracy_scales.append(1-i)\n",
    "    print(\"show the accuracy scales with different delta:\",'\\n',accuracy_scales,'\\n')\n",
    "    \n",
    "    return\n",
    "\n",
    "#we are Calculating the derivative of the function at the point: 𝑥=1 so my function input is x\n",
    "\n",
    "function(1)"
   ]
  },
  {
   "cell_type": "markdown",
   "metadata": {},
   "source": [
    "7\\. Consider the integral of the semicircle of radius 1:\n",
    "$$\n",
    "I=\\int_{-1}^{1} \\sqrt(1-x^2) {\\rm d}x\n",
    "$$\n",
    "which it's known to be $I=\\frac{\\pi}{2}=1.57079632679...$.\n",
    "Alternatively we can use the Riemann definition of the integral:\n",
    "$$\n",
    "I=\\lim_{N\\to\\infty} \\sum_{k=1}^{N} h y_k \n",
    "$$\n",
    "\n",
    "with $h=2/N$ the width of each of the $N$ slices the domain is divided into and where\n",
    "$y_k$ is the value of the function at the $k-$th slice.\n",
    "\n",
    "(a) Write a programe to compute the integral with $N=100$. How does the result compares to the true value?\n",
    "\n",
    "(b) How much can $N$ be increased if the computation needs to be run in less than a second? What is the gain in running it for 1 minute? \n"
   ]
  },
  {
   "cell_type": "code",
   "execution_count": 29,
   "metadata": {},
   "outputs": [
    {
     "name": "stdout",
     "output_type": "stream",
     "text": [
      "result is this: \n",
      " 1.569134255549248\n"
     ]
    }
   ],
   "source": [
    "import math as m\n",
    "import numpy as np\n",
    "import timeit\n",
    "N = 100\n",
    "h = 2/N\n",
    "def  my_function(k):\n",
    "    try:\n",
    "        return m.sqrt(1-k*k)\n",
    "    except:\n",
    "        return 0\n",
    "\n",
    "I= sum([h*x for x in list(map(my_function, np.arange(-1,1+h,h)))])    \n",
    "print(\"result is this:\",'\\n', I )\n",
    "\n",
    "#I had a problem to solve other parts of question"
   ]
  },
  {
   "cell_type": "code",
   "execution_count": null,
   "metadata": {},
   "outputs": [],
   "source": []
  }
 ],
 "metadata": {
  "kernelspec": {
   "display_name": "Python 3",
   "language": "python",
   "name": "python3"
  },
  "language_info": {
   "codemirror_mode": {
    "name": "ipython",
    "version": 3
   },
   "file_extension": ".py",
   "mimetype": "text/x-python",
   "name": "python",
   "nbconvert_exporter": "python",
   "pygments_lexer": "ipython3",
   "version": "3.8.5"
  }
 },
 "nbformat": 4,
 "nbformat_minor": 2
}
