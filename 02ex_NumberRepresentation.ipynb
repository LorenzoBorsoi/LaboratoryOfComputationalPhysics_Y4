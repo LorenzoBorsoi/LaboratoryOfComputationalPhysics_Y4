{
 "cells": [
  {
   "cell_type": "markdown",
   "metadata": {},
   "source": [
    "1\\. Write a function that converts number representation (bin<->dec<->hex)"
   ]
  },
  {
   "cell_type": "code",
   "execution_count": 1,
   "metadata": {},
   "outputs": [
    {
     "name": "stdout",
     "output_type": "stream",
     "text": [
      "1f\n",
      "31\n"
     ]
    }
   ],
   "source": [
    "import math\n",
    "hex_dict = {0:'0', 1:'1', 2:'2', 3:'3', 4:'4', 5:'5', 6: '6', 7:'7', 8:'8', 9:'9', 10: 'a', 11: 'b', 12: 'c', 13: 'd', 14: 'e', 15: 'f', 16: 'g'}\n",
    "\n",
    "def conv(num, da, a):\n",
    "    num_str = str(num)\n",
    "    dec = 0\n",
    "    power = len(num_str)\n",
    "    for digit in num_str:\n",
    "        power-=1\n",
    "        dec += int(digit, da)*(da**(power))\n",
    "    result = ''\n",
    "    while(dec):\n",
    "        result = hex_dict[dec % a] + result\n",
    "        dec = math.floor(dec/a)\n",
    "    return result\n",
    "\n",
    "x = 11111\n",
    "print(conv(x, 2, 16))\n",
    "print(conv(x, 2, 10))"
   ]
  },
  {
   "cell_type": "markdown",
   "metadata": {},
   "source": [
    "2\\. Write a function that converts a 32 bit word into a single precision floating point (i.e. interprets the various bits as sign, mantissa and exponent)"
   ]
  },
  {
   "cell_type": "code",
   "execution_count": 2,
   "metadata": {},
   "outputs": [
    {
     "name": "stdout",
     "output_type": "stream",
     "text": [
      "-5.5\n"
     ]
    }
   ],
   "source": [
    "def to_float(word):\n",
    "    sign = 1 if word[0]=='0' else -1\n",
    "    bias = 127\n",
    "    power = int(conv(word[1:9], 2, 10)) - bias\n",
    "    mantissa = '1' + word[9:32]\n",
    "    result = 0\n",
    "    for digit in mantissa:\n",
    "        if digit == '1':\n",
    "            result += 2**power\n",
    "        power -= 1\n",
    "    return sign*result\n",
    "\n",
    "prova = '1100000010110000000000000000000000'\n",
    "print(to_float(prova))"
   ]
  },
  {
   "cell_type": "markdown",
   "metadata": {},
   "source": [
    "3\\. Write a program to determine the underflow and overflow limits (within a factor of 2) for python on your computer. \n",
    "\n",
    "**Tips**: define two variables inizialized to 1 and halve/double them enough time to exceed the under/over-flow limits  "
   ]
  },
  {
   "cell_type": "code",
   "execution_count": 3,
   "metadata": {},
   "outputs": [
    {
     "name": "stdout",
     "output_type": "stream",
     "text": [
      "Overflow: 1.0273702932711667e+308 Underflow: 5e-324\n"
     ]
    }
   ],
   "source": [
    "numo = 1e100\n",
    "numu = 1\n",
    "of = 0\n",
    "uf = 0\n",
    "while( numo*2 > numo ):\n",
    "    of = numo\n",
    "    numo *= 2\n",
    "while( numu/2 < numu):\n",
    "    uf = numu\n",
    "    numu /= 2\n",
    "print( \"Overflow:\", of, \"Underflow:\", uf, sep = ' ' )"
   ]
  },
  {
   "cell_type": "markdown",
   "metadata": {},
   "source": [
    "4\\. Write a program to determine the machine precision\n",
    "\n",
    "**Tips**: define a new variable by adding a smaller and smaller value (proceeding similarly to prob. 2) to an original variable and check the point where the two are the same "
   ]
  },
  {
   "cell_type": "code",
   "execution_count": 4,
   "metadata": {},
   "outputs": [
    {
     "name": "stdout",
     "output_type": "stream",
     "text": [
      "Precision: 1e-16\n"
     ]
    }
   ],
   "source": [
    "x,i = 1.0,0\n",
    "while( x+10**(-i) != x ):\n",
    "    i += 1\n",
    "    \n",
    "print(\"Precision:\", 10**(-i), sep= ' ' )"
   ]
  },
  {
   "cell_type": "markdown",
   "metadata": {},
   "source": [
    "5\\. Write a function that takes in input three parameters $a$, $b$ and $c$ and prints out the two solutions to the quadratic equation $ax^2+bx+c=0$ using the standard formula:\n",
    "$$\n",
    "x=\\frac{-b\\pm\\sqrt{b^2-4ac}}{2a}\n",
    "$$\n",
    "\n",
    "(a) use the program to compute the solution for $a=0.001$, $b=1000$ and $c=0.001$\n",
    "\n",
    "(b) re-express the standard solution formula by multiplying top and bottom by $-b\\mp\\sqrt{b^2-4ac}$ and again find the solution for $a=0.001$, $b=1000$ and $c=0.001$. How does it compare with what previously obtained? Why?\n",
    "\n",
    "(b_sol) there's an error of approximation in the sum of $b$ and $det$, the latter also is affected by an approximation error because it sums very large and very small numbers.\n",
    "\n",
    "(c) write a function that compute the roots of a quadratic equation accurately in all cases"
   ]
  },
  {
   "cell_type": "code",
   "execution_count": 12,
   "metadata": {},
   "outputs": [
    {
     "name": "stdout",
     "output_type": "stream",
     "text": [
      "999.999999998\n",
      "(-9.999894245993346e-07, -999999.999999)\n",
      "(-1.000000000001e-06, -1000010.5755125057)\n",
      "999.9999999979999\n",
      "(-1.0000462680181954e-06, -999999.999999)\n"
     ]
    }
   ],
   "source": [
    "a, b, c = 0.001, 1000, 0.001\n",
    "\n",
    "def roots2a(a, b, c):\n",
    "    det = (b**2 - 4*a*c)**0.5\n",
    "    print(det)\n",
    "    return (-b + det)/(2*a), (-b - det)/(2*a)\n",
    "\n",
    "print(roots2a(a, b, c))\n",
    "\n",
    "def roots2b(a, b, c):\n",
    "    det = (b**2 - 4*a*c)**0.5\n",
    "    return 2*c/(-b-det), 2*c/(-b+det)\n",
    "\n",
    "print(roots2b(a, b, c))\n",
    "\n",
    "def roots2c(a, b, c):\n",
    "    ac = 2*(a*c)**0.5\n",
    "    det = (b+ac)**0.5*(b-ac)**0.5\n",
    "    print(det)\n",
    "    return (-b + det)/(2*a), (-b - det)/(2*a)\n",
    "\n",
    "print(roots2c(a, b, c))"
   ]
  },
  {
   "cell_type": "markdown",
   "metadata": {},
   "source": [
    "6\\. Write a program that implements the function $f(x)=x(x−1)$\n",
    "\n",
    "(a) Calculate the derivative of the function at the point $x = 1$ using the derivative definition:\n",
    "\n",
    "$$\n",
    "\\frac{{\\rm d}f}{{\\rm d}x} = \\lim_{\\delta\\to0} \\frac{f(x+\\delta)-f(x)}{\\delta}\n",
    "$$\n",
    "\n",
    "with $\\delta = 10^{−2}$. Calculate the true value of the same derivative analytically and compare with the answer your program gives. The two will not agree perfectly. Why not?\n",
    "\n",
    "(b) Repeat the calculation for $\\delta = 10^{−4}, 10^{−6}, 10^{−8}, 10^{−10}, 10^{−12}$ and $10^{−14}$. How does the accuracy scales with $\\delta$?"
   ]
  },
  {
   "cell_type": "code",
   "execution_count": 46,
   "metadata": {},
   "outputs": [
    {
     "name": "stdout",
     "output_type": "stream",
     "text": [
      "1.010000000000001\n",
      "0.01\t1.010000000000001\n",
      "0.0001\t1.0000999999998899\n",
      "1e-06\t1.0000009999177333\n",
      "1e-08\t1.0000000039225287\n",
      "1e-10\t1.000000082840371\n",
      "1e-12\t1.0000889005833413\n",
      "1e-14\t0.9992007221626509\n"
     ]
    }
   ],
   "source": [
    "def f(x):\n",
    "    return x*(x-1)\n",
    "\n",
    "def df(x, delta):\n",
    "    return f(x+delta)/delta-f(x)/delta\n",
    "\n",
    "\n",
    "for i in [10**(-x) for x in range(2,15) if x%2==0]:\n",
    "    print(i, df(1,i), sep='\\t')"
   ]
  },
  {
   "cell_type": "markdown",
   "metadata": {},
   "source": [
    "7\\. Consider the integral of the semicircle of radius 1:\n",
    "$$\n",
    "I=\\int_{-1}^{1} \\sqrt(1-x^2) {\\rm d}x\n",
    "$$\n",
    "which it's known to be $I=\\frac{\\pi}{2}=1.57079632679...$.\n",
    "Alternatively we can use the Riemann definition of the integral:\n",
    "$$\n",
    "I=\\lim_{N\\to\\infty} \\sum_{k=1}^{N} h y_k \n",
    "$$\n",
    "\n",
    "with $h=2/N$ the width of each of the $N$ slices the domain is divided into and where\n",
    "$y_k$ is the value of the function at the $k-$th slice.\n",
    "\n",
    "(a) Write a programe to compute the integral with $N=100$. How does the result compares to the true value?\n",
    "\n",
    "(b) How much can $N$ be increased if the computation needs to be run in less than a second? What is the gain in running it for 1 minute? \n"
   ]
  },
  {
   "cell_type": "code",
   "execution_count": 47,
   "metadata": {},
   "outputs": [
    {
     "name": "stdout",
     "output_type": "stream",
     "text": [
      "1.5691342555492493\n",
      "N:\t10\ttime:\t1.2421499923220835e-05\ts\n",
      "N:\t100\ttime:\t0.00010026029995060525\ts\n",
      "N:\t1000\ttime:\t0.00046324979994096795\ts\n",
      "N:\t10000\ttime:\t0.004070423300072434\ts\n",
      "N:\t100000\ttime:\t0.02578640469982929\ts\n",
      "N:\t1000000\ttime:\t0.27851046489995496\ts\n",
      "N:\t10000000\ttime:\t2.420493887499833\ts\n",
      "Integral in less than a second:\t1.5707963251473536\tprecision:\t1.6426466231678205e-07\t%\n",
      "N:\t20000000\ttime:\t4.94761937000294\ts\n",
      "N:\t40000000\ttime:\t9.486654643998918\ts\n",
      "N:\t80000000\ttime:\t19.92467996999767\ts\n",
      "N:\t160000000\ttime:\t38.641534443002456\ts\n",
      "N:\t320000000\ttime:\t78.68312117199821\ts\n",
      "Integral in less than a minute:\t1.5707963257475368\tprecision:\t1.042463395606319e-07\t%\n"
     ]
    }
   ],
   "source": [
    "import timeit\n",
    "def f(x):\n",
    "    return (1-x**2)**0.5\n",
    "\n",
    "def integral(f, N):\n",
    "    h=2/N\n",
    "    partial = 0.\n",
    "    y = -1\n",
    "    for i in range(0,int(N)):\n",
    "        partial+=f(y)\n",
    "        y+=h\n",
    "    return partial*h\n",
    "\n",
    "print(integral(f,100))\n",
    "N=1\n",
    "time=0\n",
    "while(time < 10):\n",
    "    N*=10\n",
    "    time = timeit.timeit('integral(f,' + str(N) + ')', number=10 ,globals=globals())\n",
    "    print(\"N:\", N, \"time:\", time/10, 's',sep='\\t')\n",
    "value=integral(f, N/10)\n",
    "print(\"Integral in less than a second:\", value, \"precision:\", abs(value*100-157.079632679), \"%\",sep='\\t')\n",
    "\n",
    "while(time < 60):\n",
    "    N*=2\n",
    "    time = timeit.timeit('integral(f,' + str(N) + ')', number=1 ,globals=globals())\n",
    "    print(\"N:\", N, \"time:\", time, 's',sep='\\t')\n",
    "value=integral(f, N/2)\n",
    "print(\"Integral in less than a minute:\", value, \"precision:\", abs(value*100-157.079632679), \"%\",sep='\\t')\n",
    "\n"
   ]
  },
  {
   "cell_type": "code",
   "execution_count": null,
   "metadata": {},
   "outputs": [],
   "source": []
  }
 ],
 "metadata": {
  "kernelspec": {
   "display_name": "Python 3 (ipykernel)",
   "language": "python",
   "name": "python3"
  },
  "language_info": {
   "codemirror_mode": {
    "name": "ipython",
    "version": 3
   },
   "file_extension": ".py",
   "mimetype": "text/x-python",
   "name": "python",
   "nbconvert_exporter": "python",
   "pygments_lexer": "ipython3",
   "version": "3.9.7"
  }
 },
 "nbformat": 4,
 "nbformat_minor": 2
}
