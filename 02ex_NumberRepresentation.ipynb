{
 "cells": [
  {
   "cell_type": "markdown",
   "metadata": {},
   "source": [
    "1\\. Write a function that converts number representation (bin<->dec<->hex)"
   ]
  },
  {
   "cell_type": "code",
   "execution_count": 38,
   "metadata": {},
   "outputs": [
    {
     "name": "stdout",
     "output_type": "stream",
     "text": [
      "139\n",
      "10001011\n",
      "139\n",
      "8b\n",
      "10001011\n",
      "8b\n",
      "3145728\n"
     ]
    }
   ],
   "source": [
    "\"Exercise 1\"\n",
    "\n",
    "#singular conersion functions\n",
    "def dec_bin(a):\n",
    "    l = []\n",
    "\n",
    "    while a != 0:\n",
    "        a = int(a)\n",
    "        q = a%2\n",
    "        l.append(str(q))\n",
    "        a /= 2\n",
    "    l.reverse()\n",
    "    l.remove('0')\n",
    "    b = ''.join(l)\n",
    "    return b\n",
    "\n",
    "def bin_dec(a):\n",
    "    l = [int(x) for x in a]\n",
    "    l.reverse()\n",
    "    b = 0\n",
    "    for i in range(len(l)):\n",
    "        b += l[i]*2**i\n",
    "    return b\n",
    "\n",
    "def dec_hex(a):\n",
    "    l = []\n",
    "    while a != 0:\n",
    "        a = int(a)\n",
    "        q = a%16\n",
    "        l.append(str(q))\n",
    "        a /= 16\n",
    "    l.reverse()\n",
    "    l.remove('0')\n",
    "    for i in range(len(l)):\n",
    "        if l[i] == '10':\n",
    "            l[i] = 'a'\n",
    "        elif l[i] == '11':\n",
    "            l[i] = 'b'\n",
    "        elif l[i] == '12':\n",
    "            l[i] = 'c'\n",
    "        elif l[i] == '13':\n",
    "            l[i] = 'd'\n",
    "        elif l[i] == '14':\n",
    "            l[i] = 'e'\n",
    "        elif l[i] == '15':\n",
    "            l[i] = 'f'\n",
    "    b = ''.join(l)\n",
    "    return b\n",
    "\n",
    "def hex_dec(a):\n",
    "    l = [x for x in a]\n",
    "    l.reverse()\n",
    "    for i in range(len(l)):\n",
    "        if l[i] == 'a':\n",
    "            l[i] = 10\n",
    "        elif l[i] == 'b':\n",
    "            l[i] = 11\n",
    "        elif l[i] == 'c':\n",
    "            l[i] = 12\n",
    "        elif l[i] == 'd':\n",
    "            l[i] = 13\n",
    "        elif l[i] == 'e':\n",
    "            l[i] = 14\n",
    "        elif l[i] == 'f':\n",
    "            l[i] = 15\n",
    "        else:\n",
    "            l[i] = int(l[i])\n",
    "    \n",
    "    b = 0\n",
    "    for i in range(len(l)):\n",
    "        b += l[i]*16**i\n",
    "    \n",
    "    return b\n",
    "\n",
    "#generic conversion function\n",
    "def conversion(string1, string2, n):\n",
    "    if string1 =='bin' and string2 == 'dec':\n",
    "        z = bin_dec(n)\n",
    "    elif string1 =='dec' and string2 == 'bin':\n",
    "        z = dec_bin(n)\n",
    "    elif string1 =='hex' and string2 == 'dec':\n",
    "        z = hex_dec(n)\n",
    "    elif string1 =='dec' and string2 == 'hex':\n",
    "        z = dec_hex(n)\n",
    "    elif string1 =='hex' and string2 == 'bin':\n",
    "        z = dec_bin(hex_dec(n))\n",
    "    elif string1 =='bin' and string2 == 'hex':\n",
    "        z = dec_hex(bin_dec(n))\n",
    "    return z\n",
    "\n",
    "print(conversion('bin', 'dec', '10001011'))\n",
    "print(conversion('dec', 'bin', 139))\n",
    "print(conversion('hex', 'dec', '8b'))\n",
    "print(conversion('dec', 'hex', 139))\n",
    "print(conversion('hex', 'bin', '8b'))\n",
    "print(conversion('bin', 'hex', '10001011'))\n",
    "\n",
    "print(conversion('bin', 'dec', '01100000000000000000000'))\n",
    "\n",
    "\n"
   ]
  },
  {
   "cell_type": "markdown",
   "metadata": {},
   "source": [
    "2\\. Write a function that converts a 32 bit word into a single precision floating point (i.e. interprets the various bits as sign, mantissa and exponent)"
   ]
  },
  {
   "cell_type": "code",
   "execution_count": 51,
   "metadata": {},
   "outputs": [
    {
     "name": "stdout",
     "output_type": "stream",
     "text": [
      "-5.5\n",
      "1.316553672920962e-36\n",
      "Nan\n",
      "inf\n",
      "0\n"
     ]
    }
   ],
   "source": [
    "\"Exercise 2\"\n",
    "\n",
    "def single_precision_conv(a):\n",
    "    l = [x for x in a]\n",
    "    s = l[0]\n",
    "    e = [x for x in l[1:9]]\n",
    "    m = [x for x in l[9:32]]\n",
    "\n",
    "    S = bin_dec(s)\n",
    "    E = bin_dec(e)\n",
    "    M = bin_dec(m)\n",
    "\n",
    "    if E == 0 and M == 0:\n",
    "        b = 0\n",
    "    elif S%2 == 0 and E == 255 and M == 0:\n",
    "        b = 'inf'\n",
    "    elif S%2 == 0 and E == 255 and M == 0:\n",
    "        b = 'inf'\n",
    "    elif E == 255 and M != 0:\n",
    "        b = 'Nan'\n",
    "    else:\n",
    "        M = 1\n",
    "        for i in range(len(m)):\n",
    "            if m[i] == '1':\n",
    "                M += 2**(-(i + 1))\n",
    "\n",
    "        b = (-1)**S*2**(E - 127)*M\n",
    "\n",
    "    return b\n",
    "\n",
    "print(single_precision_conv('11000000101100000000000000000000'))\n",
    "print(single_precision_conv('00000011111000000000000000000000'))\n",
    "print(single_precision_conv('11111111100000001010000001010100'))\n",
    "print(single_precision_conv('01111111100000000000000000000000'))\n",
    "print(single_precision_conv('00000000000000000000000000000000'))"
   ]
  },
  {
   "cell_type": "markdown",
   "metadata": {},
   "source": [
    "3\\. Write a program to determine the underflow and overflow limits (within a factor of 2) for python on your computer. \n",
    "\n",
    "**Tips**: define two variables inizialized to 1 and halve/double them enough time to exceed the under/over-flow limits  "
   ]
  },
  {
   "cell_type": "code",
   "execution_count": 4,
   "metadata": {},
   "outputs": [],
   "source": [
    "\"Exercise 3\"\n",
    "\n",
    "\n",
    "\n"
   ]
  },
  {
   "cell_type": "markdown",
   "metadata": {},
   "source": [
    "4\\. Write a program to determine the machine precision\n",
    "\n",
    "**Tips**: define a new variable by adding a smaller and smaller value (proceeding similarly to prob. 2) to an original variable and check the point where the two are the same "
   ]
  },
  {
   "cell_type": "code",
   "execution_count": 58,
   "metadata": {},
   "outputs": [
    {
     "name": "stdout",
     "output_type": "stream",
     "text": [
      "0.11111111111111112\n",
      "The precision of this machine is: 1e-18\n"
     ]
    }
   ],
   "source": [
    "'Exercise 4'\n",
    "\n",
    "a, b, i = 0, 0, 0\n",
    "\n",
    "while True:\n",
    "    a = b\n",
    "    i +=1\n",
    "    b = a + 10**(-i)\n",
    "    if b == a:\n",
    "        break\n",
    "print(b)\n",
    "print('The precision of this machine is:', 10**(-i))"
   ]
  },
  {
   "cell_type": "markdown",
   "metadata": {},
   "source": [
    "5\\. Write a function that takes in input three parameters $a$, $b$ and $c$ and prints out the two solutions to the quadratic equation $ax^2+bx+c=0$ using the standard formula:\n",
    "$$\n",
    "x=\\frac{-b\\pm\\sqrt{b^2-4ac}}{2a}\n",
    "$$\n",
    "\n",
    "(a) use the program to compute the solution for $a=0.001$, $b=1000$ and $c=0.001$\n",
    "\n",
    "(b) re-express the standard solution formula by multiplying top and bottom by $-b\\mp\\sqrt{b^2-4ac}$ and again find the solution for $a=0.001$, $b=1000$ and $c=0.001$. How does it compare with what previously obtained? Why?\n",
    "\n",
    "(c) write a function that compute the roots of a quadratic equation accurately in all cases"
   ]
  },
  {
   "cell_type": "code",
   "execution_count": 46,
   "metadata": {},
   "outputs": [
    {
     "name": "stdout",
     "output_type": "stream",
     "text": [
      "(-9.999894245993346e-07, -999999.999999)\n",
      "(-1.0000000000009999e-06, -1000010.5755125057)\n",
      "False\n",
      "Because changing the order of operations also changes the result\n"
     ]
    }
   ],
   "source": [
    "\"Exercise 5\"\n",
    "\n",
    "#a)\n",
    "def second_deg_eq_1(a,b,c):\n",
    "    x1 = (-b + (b**2 - 4*a*c)**(1/2))/(2*a)\n",
    "    x2 = (-b - (b**2 - 4*a*c)**(1/2))/(2*a)\n",
    "    return x1, x2\n",
    "\n",
    "print(second_deg_eq_1(0.001,1000,0.001))\n",
    "\n",
    "#b)\n",
    "def second_deg_eq_2(a,b,c):\n",
    "    x1 = (4*a*c)/(2*a*(-b - (b**2 - 4*a*c)**(1/2)))\n",
    "    x2 = (4*a*c)/(2*a*(-b + (b**2 - 4*a*c)**(1/2)))\n",
    "    return x1, x2\n",
    "\n",
    "print(second_deg_eq_2(0.001,1000,0.001))\n",
    "print(second_deg_eq_1(0.001,1000,0.001) == second_deg_eq_2(0.001,1000,0.001))\n",
    "print('Because changing the order of operations also changes the result')\n",
    "\n",
    "#c)\n",
    "\n"
   ]
  },
  {
   "cell_type": "markdown",
   "metadata": {},
   "source": [
    "6\\. Write a program that implements the function $f(x)=x(x−1)$\n",
    "\n",
    "(a) Calculate the derivative of the function at the point $x = 1$ using the derivative definition:\n",
    "\n",
    "$$\n",
    "\\frac{{\\rm d}f}{{\\rm d}x} = \\lim_{\\delta\\to0} \\frac{f(x+\\delta)-f(x)}{\\delta}\n",
    "$$\n",
    "\n",
    "with $\\delta = 10^{−2}$. Calculate the true value of the same derivative analytically and compare with the answer your program gives. The two will not agree perfectly. Why not?\n",
    "\n",
    "(b) Repeat the calculation for $\\delta = 10^{−4}, 10^{−6}, 10^{−8}, 10^{−10}, 10^{−12}$ and $10^{−14}$. How does the accuracy scales with $\\delta$?"
   ]
  },
  {
   "cell_type": "code",
   "execution_count": 3,
   "metadata": {},
   "outputs": [
    {
     "name": "stdout",
     "output_type": "stream",
     "text": [
      "1.010000000000001\n",
      "accuracy: 0.010000000000000897\n",
      "1.0000999999998899\n",
      "accuracy: 9.999999988985486e-05\n",
      "1.0000009999177333\n",
      "accuracy: 9.99917733279787e-07\n",
      "1.0000000039225287\n",
      "accuracy: 3.922528746258536e-09\n",
      "1.000000082840371\n",
      "accuracy: 8.284037100736441e-08\n",
      "1.0000889005833413\n",
      "accuracy: 8.890058334132256e-05\n",
      "0.9992007221626509\n",
      "accuracy: 0.0007992778373491216\n"
     ]
    }
   ],
   "source": [
    "'Exercise 6'\n",
    "\n",
    "df_true = 1\n",
    "\n",
    "#a)\n",
    "d = 10**(-2)\n",
    "x = 1\n",
    "f = x*(x - 1)\n",
    "F = (x + d)*(x + d - 1)\n",
    "df = (F - f)/d\n",
    "print(df)\n",
    "print('accuracy:', abs(df - df_true))\n",
    "\n",
    "#b)\n",
    "d = 10**(-4)\n",
    "x = 1\n",
    "f = x*(x - 1)\n",
    "F = (x + d)*(x + d - 1)\n",
    "df = (F - f)/d\n",
    "print(df)\n",
    "print('accuracy:', abs(df - df_true))\n",
    "\n",
    "d = 10**(-6)\n",
    "x = 1\n",
    "f = x*(x - 1)\n",
    "F = (x + d)*(x + d - 1)\n",
    "df = (F - f)/d\n",
    "print(df)\n",
    "print('accuracy:', abs(df - df_true))\n",
    "\n",
    "d = 10**(-8)\n",
    "x = 1\n",
    "f = x*(x - 1)\n",
    "F = (x + d)*(x + d - 1)\n",
    "df = (F - f)/d\n",
    "print(df)\n",
    "print('accuracy:', abs(df - df_true))\n",
    "\n",
    "d = 10**(-10)\n",
    "x = 1\n",
    "f = x*(x - 1)\n",
    "F = (x + d)*(x + d - 1)\n",
    "df = (F - f)/d\n",
    "print(df)\n",
    "print('accuracy:', abs(df - df_true))\n",
    "\n",
    "d = 10**(-12)\n",
    "x = 1\n",
    "f = x*(x - 1)\n",
    "F = (x + d)*(x + d - 1)\n",
    "df = (F - f)/d\n",
    "print(df)\n",
    "print('accuracy:', abs(df - df_true))\n",
    "\n",
    "d = 10**(-14)\n",
    "x = 1\n",
    "f = x*(x - 1)\n",
    "F = (x + d)*(x + d - 1)\n",
    "df = (F - f)/d\n",
    "print(df)\n",
    "print('accuracy:', abs(df - df_true))\n"
   ]
  },
  {
   "cell_type": "markdown",
   "metadata": {},
   "source": [
    "7\\. Consider the integral of the semicircle of radius 1:\n",
    "$$\n",
    "I=\\int_{-1}^{1} \\sqrt(1-x^2) {\\rm d}x\n",
    "$$\n",
    "which it's known to be $I=\\frac{\\pi}{2}=1.57079632679...$.\n",
    "Alternatively we can use the Riemann definition of the integral:\n",
    "$$\n",
    "I=\\lim_{N\\to\\infty} \\sum_{k=1}^{N} h y_k \n",
    "$$\n",
    "\n",
    "with $h=2/N$ the width of each of the $N$ slices the domain is divided into and where\n",
    "$y_k$ is the value of the function at the $k-$th slice.\n",
    "\n",
    "(a) Write a programe to compute the integral with $N=100$. How does the result compares to the true value?\n",
    "\n",
    "(b) How much can $N$ be increased if the computation needs to be run in less than a second? What is the gain in running it for 1 minute? \n"
   ]
  },
  {
   "cell_type": "code",
   "execution_count": 23,
   "metadata": {},
   "outputs": [
    {
     "name": "stdout",
     "output_type": "stream",
     "text": [
      "1.3429258942062963\n",
      "53.6 µs ± 830 ns per loop (mean ± std. dev. of 7 runs, 10000 loops each)\n",
      "1.3333334333200846\n",
      "8.38 s ± 661 ms per loop (mean ± std. dev. of 7 runs, 1 loop each)\n"
     ]
    }
   ],
   "source": [
    "'Exercise 7'\n",
    "\n",
    "#a)\n",
    "def integral():\n",
    "    N, I = 100, 0\n",
    "    h = 1/N\n",
    "    x = [i*h for i in range(N)]\n",
    "    y = [(1 - x[i])**(1/2) for i in range(N)]\n",
    "    for i in range(N):\n",
    "        I += h*y[i]\n",
    "    return 2*I\n",
    "\n",
    "print(integral())\n",
    "%timeit integral()\n",
    "\n",
    "#b)\n",
    "def integral():\n",
    "    N, I = 1000000, 0\n",
    "    h = 1/N\n",
    "    x = [i*h for i in range(N)]\n",
    "    y = [(1 - x[i])**(1/2) for i in range(N)]\n",
    "    for i in range(N):\n",
    "        I += h*y[i]\n",
    "    return 2*I\n",
    "\n",
    "print(integral())\n",
    "%timeit integral()"
   ]
  },
  {
   "cell_type": "code",
   "execution_count": null,
   "metadata": {},
   "outputs": [],
   "source": []
  }
 ],
 "metadata": {
  "interpreter": {
   "hash": "2097b8de0cf559b99a541878d948e75eb032eda4087ac9e140bfcd448ac40ac5"
  },
  "kernelspec": {
   "display_name": "Python 3.9.7 64-bit (windows store)",
   "name": "python3"
  },
  "language_info": {
   "codemirror_mode": {
    "name": "ipython",
    "version": 3
   },
   "file_extension": ".py",
   "mimetype": "text/x-python",
   "name": "python",
   "nbconvert_exporter": "python",
   "pygments_lexer": "ipython3",
   "version": "3.9.7"
  }
 },
 "nbformat": 4,
 "nbformat_minor": 2
}
