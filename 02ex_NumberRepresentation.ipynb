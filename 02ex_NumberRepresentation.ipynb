{
 "cells": [
  {
   "cell_type": "markdown",
   "metadata": {},
   "source": [
    "1\\. Write a function that converts number representation (bin<->dec<->hex)"
   ]
  },
  {
   "cell_type": "code",
   "execution_count": 17,
   "metadata": {},
   "outputs": [
    {
     "name": "stdout",
     "output_type": "stream",
     "text": [
      "010111\n",
      "7F2C3\n",
      "520899\n",
      "19\n",
      "31\n",
      "011111\n",
      "From wich number representation (binary,hexa,decimal):hexa\n",
      "To wich number representation (binary,hexa,decimal):binary\n",
      "Insert the number:1F\n",
      "31\n",
      "011111\n",
      "The convertion from hexa to binary is: 011111\n"
     ]
    }
   ],
   "source": [
    "def bd (string):\n",
    "    x = [int(i) for i in string]\n",
    "    x.reverse()\n",
    "    y = int(sum(x[i]*pow(2,i) for i in range(0,len(x)-1)))\n",
    "    if x[len(x)-1] == 1:\n",
    "        bd= -y\n",
    "    else: bd = y\n",
    "    return bd\n",
    "    \n",
    "bd(\"10010111\")\n",
    "\n",
    "def db (number):\n",
    "    b = []\n",
    "    a = number\n",
    "    while a != 0:\n",
    "        if a%2 == 0:\n",
    "            b.append(0)\n",
    "            a //= 2\n",
    "        else:\n",
    "            b.append(1)\n",
    "            a //= 2\n",
    "    b.reverse()\n",
    "    if number > 0:\n",
    "        b.insert(0,0)\n",
    "    else: b.insert(0,1) \n",
    "    g = ''.join(map(str,b))\n",
    "    print(''.join(map(str,b)))\n",
    "    return g\n",
    "    \n",
    "db(23)\n",
    "\n",
    "def dh(number):\n",
    "    d = {10:'A',11:'B',12:'C',13:'D',14:'E',15:'F'}\n",
    "    x=[]\n",
    "    a = number\n",
    "    while a != 0:\n",
    "        if a%16 <= 9:\n",
    "            x.append(a%16)\n",
    "            a //= 16\n",
    "        else:\n",
    "            x.append(d[a%16])\n",
    "            a //= 16\n",
    "    x.reverse()\n",
    "    g = ''.join(map(str,x))\n",
    "    print(g)\n",
    "    return g\n",
    "\n",
    "dh(520899)\n",
    "\n",
    "def hd(hexa):\n",
    "    d = {'A':10,'B':11,'C':12,'D':13,'E':14,'F':15}\n",
    "    x=[]\n",
    "    a = [int(ele) if ele.isdigit() else ele for ele in hexa]\n",
    "    for i in range(0,len(a)):\n",
    "        if type(a[i]) is int:\n",
    "            x.append(a[i]*pow(16,(len(a)-i-1)))\n",
    "        else: \n",
    "            x.append(d[a[i]]*pow(16,(len(a)-i-1)))\n",
    "    print(int(sum(x)))\n",
    "    return int(sum(x))\n",
    "hd('7F2C3')\n",
    "\n",
    "def bh(string):\n",
    "    return dh(bd(string))\n",
    "bh(\"00011001\")\n",
    "\n",
    "def hb(string):\n",
    "    return db(hd(string))\n",
    "hb('1F')\n",
    "\n",
    "x = input('From wich number representation (binary,hexa,decimal):')\n",
    "y = input('To wich number representation (binary,hexa,decimal):')\n",
    "number = input('Insert the number:')\n",
    "def Convertion(x,y,number):\n",
    "    if x == 'binary' and y == 'hexa':\n",
    "        print(\"The convertion from {} to {} is:\".format(x,y), bh(str(number)))\n",
    "    elif x == 'binary' and y == 'decimal':\n",
    "        print(\"The convertion from {} to {} is:\".format(x,y), bd(str(number)))\n",
    "    elif x == 'decimal' and y == 'hexa':\n",
    "        print(\"The convertion from {} to {} is:\".format(x,y), dh(int(number)))\n",
    "    elif x == 'decimal' and y == 'binary':\n",
    "        print(\"The convertion from {} to {} is:\".format(x,y), db(int(number)))\n",
    "    elif x == 'hexa' and y == 'decimal':\n",
    "        print(\"The convertion from {} to {} is:\".format(x,y), hd(str(number)))\n",
    "    elif x == 'hexa' and y == 'binary':\n",
    "        print(\"The convertion from {} to {} is:\".format(x,y), hb(str(number)))\n",
    "Convertion(x,y,number)"
   ]
  },
  {
   "cell_type": "markdown",
   "metadata": {},
   "source": [
    "2\\. Write a function that converts a 32 bit word into a single precision floating point (i.e. interprets the various bits as sign, mantissa and exponent)"
   ]
  },
  {
   "cell_type": "code",
   "execution_count": 23,
   "metadata": {},
   "outputs": [
    {
     "name": "stdout",
     "output_type": "stream",
     "text": [
      "s =  1\n",
      "e =  202\n",
      "f =  0.15753459930419922\n"
     ]
    },
    {
     "data": {
      "text/plain": [
       "-4.373042075612876e+22"
      ]
     },
     "execution_count": 23,
     "metadata": {},
     "output_type": "execute_result"
    }
   ],
   "source": [
    "a = ('11100101000101000010101000011000')\n",
    "\n",
    "def bd (string):\n",
    "    x = [int(i) for i in string]\n",
    "    x.reverse()\n",
    "    y = int(sum(x[i]*pow(2,i) for i in range(0,len(x))))\n",
    "    return y\n",
    "\n",
    "def conv32(a):\n",
    "    s = int(a[0])\n",
    "    print(\"s = \",s)\n",
    "    bias = 127\n",
    "    e = bd(a[1:9])\n",
    "    print(\"e = \",e)\n",
    "    f = sum(int(a[40-i])*pow(2,-(32-i)) for i in range(9,32))\n",
    "    print(\"f = \",f)\n",
    "    num = pow(-1,s)*(1+f)*pow(2,e-bias)\n",
    "    return num\n",
    " \n",
    "conv32(a)"
   ]
  },
  {
   "cell_type": "markdown",
   "metadata": {},
   "source": [
    "3\\. Write a program to determine the underflow and overflow limits (within a factor of 2) for python on your computer. \n",
    "\n",
    "**Tips**: define two variables inizialized to 1 and halve/double them enough time to exceed the under/over-flow limits  "
   ]
  },
  {
   "cell_type": "code",
   "execution_count": 8,
   "metadata": {
    "scrolled": false
   },
   "outputs": [
    {
     "name": "stdout",
     "output_type": "stream",
     "text": [
      "After 1024 interaction overflow is reached.\n",
      "8.98846567431158e+307\n",
      "After 1075 interaction underflow is reached.\n",
      "5e-324\n"
     ]
    }
   ],
   "source": [
    "#sistemare printando iterazione e risultato\n",
    "import math\n",
    "under = 1.0\n",
    "over = 1.0\n",
    "d = 2\n",
    "e = 1200\n",
    "o=0\n",
    "u=0\n",
    "ov = []\n",
    "un = []\n",
    "for i in range(e):\n",
    "    while over != float(\"inf\"):\n",
    "        over *=2\n",
    "        o+=1\n",
    "        ov.append(over)\n",
    "        #print(o, \"\\t\", over, \"\\t\")\n",
    "\n",
    "\n",
    "for a in range(e):\n",
    "    while under != 0.0:\n",
    "        under /=2\n",
    "        u+=1\n",
    "        un.append(under)\n",
    "        #print(u, \"\\t\", under, \"\\t\")\n",
    "print(\"After {} interaction overflow is reached.\".format(o))\n",
    "print(ov[-2])\n",
    "print(\"After {} interaction underflow is reached.\".format(u))\n",
    "print(un[-2])"
   ]
  },
  {
   "cell_type": "markdown",
   "metadata": {},
   "source": [
    "4\\. Write a program to determine the machine precision\n",
    "\n",
    "**Tips**: define a new variable by adding a smaller and smaller value (proceeding similarly to prob. 2) to an original variable and check the point where the two are the same "
   ]
  },
  {
   "cell_type": "code",
   "execution_count": 1,
   "metadata": {
    "scrolled": true
   },
   "outputs": [
    {
     "name": "stdout",
     "output_type": "stream",
     "text": [
      "Machine precision is : 2.220446049250313e-16\n"
     ]
    }
   ],
   "source": [
    "i1=0\n",
    "a=1.0\n",
    "f=1.0/2\n",
    "b=a+f\n",
    "\n",
    "while a!=b:\n",
    "    a=b\n",
    "    f/=2\n",
    "    b+=f\n",
    "    i1+=1\n",
    "    \n",
    "\n",
    "#print(i1,a,b)\n",
    "print(\"Machine precision is :\", 2*2**-i1)"
   ]
  },
  {
   "cell_type": "markdown",
   "metadata": {},
   "source": [
    "5\\. Write a function that takes in input three parameters $a$, $b$ and $c$ and prints out the two solutions to the quadratic equation $ax^2+bx+c=0$ using the standard formula:\n",
    "$$\n",
    "x=\\frac{-b\\pm\\sqrt{b^2-4ac}}{2a}\n",
    "$$\n",
    "\n",
    "(a) use the program to compute the solution for $a=0.001$, $b=1000$ and $c=0.001$\n",
    "\n",
    "(b) re-express the standard solution formula by multiplying top and bottom by $-b\\mp\\sqrt{b^2-4ac}$ and again find the solution for $a=0.001$, $b=1000$ and $c=0.001$. How does it compare with what previously obtained? Why?\n",
    "\n",
    "(c) write a function that compute the roots of a quadratic equation accurately in all cases"
   ]
  },
  {
   "cell_type": "code",
   "execution_count": 2,
   "metadata": {},
   "outputs": [
    {
     "name": "stdout",
     "output_type": "stream",
     "text": [
      "Solutions of the equation (x1,x2) =  (-9.999894245993346e-07, -999999.999999)\n"
     ]
    }
   ],
   "source": [
    "import numpy as np\n",
    "def sol(a,b,c):\n",
    "    x1 = (-b + np.sqrt(pow(b,2)-4*a*c))/(2*a) \n",
    "    x2 = (-b - np.sqrt(pow(b,2)-4*a*c))/(2*a)\n",
    "    #print(x1,x2)\n",
    "    return x1,x2\n",
    "    \n",
    "print(\"Solutions of the equation (x1,x2) = \", sol(0.001,1000,0.001))"
   ]
  },
  {
   "cell_type": "code",
   "execution_count": 6,
   "metadata": {},
   "outputs": [
    {
     "name": "stdout",
     "output_type": "stream",
     "text": [
      "x2 numerator is: 3.999957698393339e-06 \n",
      "x2 denominator is:  -3.999957698397338e-12\n",
      "Solutions of the equation (x1,x2) =  (-9.999894245993346e-07, -999999.9999990001)\n"
     ]
    }
   ],
   "source": [
    "def sol(a,b,c):\n",
    "    x1 = ((-b + np.sqrt(pow(b,2)-4*a*c))*(-b - np.sqrt(pow(b,2)-4*a*c)))/((2*a)*(-b - np.sqrt(pow(b,2)-4*a*c))) \n",
    "    x2 = ((-b - np.sqrt(pow(b,2)-4*a*c))*(-b + np.sqrt(pow(b,2)-4*a*c)))/((2*a)*(-b + np.sqrt(pow(b,2)-4*a*c)))\n",
    "    den = ((2*a)*(-b + np.sqrt(pow(b,2)-4*a*c)))\n",
    "    num = ((-b - np.sqrt(pow(b,2)-4*a*c))*(-b + np.sqrt(pow(b,2)-4*a*c)))\n",
    "    #print(x1,x2)\n",
    "    print(\"x2 numerator is:\",num,\"\\nx2 denominator is: \", den)\n",
    "    return x1,x2\n",
    "    \n",
    "print(\"Solutions of the equation (x1,x2) = \", sol(0.001,1000,0.001))"
   ]
  },
  {
   "cell_type": "markdown",
   "metadata": {},
   "source": [
    "We have more decimal numbers due to new operation. In particular, x2 has more digits after the decimal point. This is caused by the fact that in $\\sqrt{b^2-4ac}$ we are subtracting a very small number (4ac) from $b^2$. Therefore the denominator of x2 $2a(-b-\\sqrt{b^2-4ac})$ is very close to zero and since the computer saves the data in binary format, unexpected digits appear after the comma during the operations (it can be noticed by sequencing all operations). \n",
    "In x1 the result does not change because instead the denominator is not close to zero and therefore no brutal operations are introduced."
   ]
  },
  {
   "cell_type": "code",
   "execution_count": 14,
   "metadata": {},
   "outputs": [
    {
     "name": "stdout",
     "output_type": "stream",
     "text": [
      "There are two roots: x1 =  -999999.999999 ; x2 =  -1.000000000001e-06\n"
     ]
    }
   ],
   "source": [
    "import math\n",
    "#math.copysign(1, b)\n",
    "def roots(a,b,c):\n",
    "    root = pow(b,2)-4*a*c\n",
    "    if root>0:\n",
    "        x1 = (-b - math.copysign(1, b) * np.sqrt(root))/(2*a) \n",
    "        x2 = c/(a*x1)\n",
    "        print(\"There are two roots: x1 = \",x1,\"; x2 = \",x2)\n",
    "    elif root == 0:\n",
    "        x12 = - b/(2*a)\n",
    "        print(\"There is a root: x12 = \", x12)\n",
    "    else:\n",
    "        x1 =complex(- b/(2*a), (np.sqrt(-pow(b,2)+4*a*c))/(2*a))\n",
    "        x2 =complex(- b/(2*a), (np.sqrt(-pow(b,2)+4*a*c))/(2*a))\n",
    "        print(\"Roots are complex\",x1,x2)\n",
    "\n",
    "roots(0.001,1000,0.001)"
   ]
  },
  {
   "cell_type": "markdown",
   "metadata": {},
   "source": [
    "6\\. Write a program that implements the function $f(x)=x(x−1)$\n",
    "\n",
    "(a) Calculate the derivative of the function at the point $x = 1$ using the derivative definition:\n",
    "\n",
    "$$\n",
    "\\frac{{\\rm d}f}{{\\rm d}x} = \\lim_{\\delta\\to0} \\frac{f(x+\\delta)-f(x)}{\\delta}\n",
    "$$\n",
    "\n",
    "with $\\delta = 10^{−2}$. Calculate the true value of the same derivative analytically and compare with the answer your program gives. The two will not agree perfectly. Why not?\n",
    "\n",
    "(b) Repeat the calculation for $\\delta = 10^{−4}, 10^{−6}, 10^{−8}, 10^{−10}, 10^{−12}$ and $10^{−14}$. How does the accuracy scales with $\\delta$?"
   ]
  },
  {
   "cell_type": "code",
   "execution_count": 18,
   "metadata": {},
   "outputs": [
    {
     "name": "stdout",
     "output_type": "stream",
     "text": [
      "Derivative of the function at the point  𝑥=1 : 1.010000000000001\n"
     ]
    }
   ],
   "source": [
    "def derivative(x,delta):\n",
    "    f1 = (x+delta)*(x+delta-1)\n",
    "    #print(x+delta,x+delta-1)\n",
    "    f2 = x*(x-1)\n",
    "    ft = (f1-f2)/delta\n",
    "    return ft\n",
    "\n",
    "print(\"Derivative of the function at the point  𝑥=1 :\",derivative(1,pow(10,-2)))"
   ]
  },
  {
   "cell_type": "markdown",
   "metadata": {},
   "source": [
    "Since the difference (x + delta-1) = 1 + delta-1 is very close and the computer saves the numbers in binary format ft = (f1-f2) / delta approximates the last digit 8 to 1 that's why you see 1 at the end. Analyzing and decomposing x + delta and multiplying by x + delta-1 gives us an unexpected 8. Finally, by analyzing all the operations we also notice an unexpected 9 which, as we said, is attributable to the store of the numbers by the computer."
   ]
  },
  {
   "cell_type": "code",
   "execution_count": 19,
   "metadata": {},
   "outputs": [
    {
     "data": {
      "text/plain": [
       "1.010000000000001"
      ]
     },
     "execution_count": 19,
     "metadata": {},
     "output_type": "execute_result"
    }
   ],
   "source": [
    "def f(x):\n",
    "    return x*(x-1)\n",
    "\n",
    "def derivative(x,delta):\n",
    "    return (f(x+delta)-f(x))/delta\n",
    "    \n",
    "derivative(1,pow(10,-2))"
   ]
  },
  {
   "cell_type": "code",
   "execution_count": 23,
   "metadata": {},
   "outputs": [
    {
     "name": "stdout",
     "output_type": "stream",
     "text": [
      "Delta =  0.0001 Derivative:  1.0000999999998899\n",
      "Delta =  1e-06 Derivative:  1.0000009999177333\n",
      "Delta =  1e-08 Derivative:  1.0000000039225287\n",
      "Delta =  1e-10 Derivative:  1.000000082840371\n",
      "Delta =  1e-12 Derivative:  1.0000889005833413\n",
      "Delta =  1e-14 Derivative:  0.9992007221626509\n"
     ]
    }
   ],
   "source": [
    "for i in [4,6,8,10,12,14]:\n",
    "    print(\"Delta = \",pow(10,-i),\"Derivative: \",derivative(1,pow(10,-i)))\n",
    "    #print(\"a=\",derivative(1,pow(10,-i+1))/derivative(1,pow(10,-i)))"
   ]
  },
  {
   "cell_type": "markdown",
   "metadata": {},
   "source": [
    "The result would seem to improve as the delta decreases. However, the last two results there is an unexpected worsening of the value of the derivative."
   ]
  },
  {
   "cell_type": "markdown",
   "metadata": {},
   "source": [
    "7\\. Consider the integral of the semicircle of radius 1:\n",
    "$$\n",
    "I=\\int_{-1}^{1} \\sqrt(1-x^2) {\\rm d}x\n",
    "$$\n",
    "which it's known to be $I=\\frac{\\pi}{2}=1.57079632679...$.\n",
    "Alternatively we can use the Riemann definition of the integral:\n",
    "$$\n",
    "I=\\lim_{N\\to\\infty} \\sum_{k=1}^{N} h y_k \n",
    "$$\n",
    "\n",
    "with $h=2/N$ the width of each of the $N$ slices the domain is divided into and where\n",
    "$y_k$ is the value of the function at the $k-$th slice.\n",
    "\n",
    "(a) Write a programe to compute the integral with $N=100$. How does the result compares to the true value?\n",
    "\n",
    "(b) How much can $N$ be increased if the computation needs to be run in less than a second? What is the gain in running it for 1 minute? \n"
   ]
  },
  {
   "cell_type": "code",
   "execution_count": 59,
   "metadata": {},
   "outputs": [
    {
     "name": "stdout",
     "output_type": "stream",
     "text": [
      "The computed value is:  1.5691342555492505\n",
      "The difference between the true and computed value is:  0.0016620712456461018\n"
     ]
    }
   ],
   "source": [
    "#(a) Write a programe to compute the integral with  𝑁=100 . How does the result compares to the true value?\n",
    "import numpy as np\n",
    "import math\n",
    "\n",
    "N=100\n",
    "h = 2./N\n",
    "integral = 0\n",
    "\n",
    "def f(x):\n",
    "    return sqrt(1-pow(x,2))\n",
    "\n",
    "for i in range(1,N+1):\n",
    "    a=-1\n",
    "    integral += f(a+(h*i))*h\n",
    "\n",
    "print(\"The computed value is: \",integral)\n",
    "print(\"The difference between the true and computed value is: \", math.pi/2 - integral)"
   ]
  },
  {
   "cell_type": "code",
   "execution_count": 69,
   "metadata": {},
   "outputs": [
    {
     "name": "stdout",
     "output_type": "stream",
     "text": [
      "N: 1181 \n",
      "Integral value is: 1.5707546123368306 \n",
      "Difference between real value:  4.1027034841656373e-05\n"
     ]
    }
   ],
   "source": [
    "#(b) How much can  𝑁  be increased if the computation needs to be run in less than a second? \n",
    "\n",
    "\n",
    "import numpy as np\n",
    "import math\n",
    "import time\n",
    "\n",
    "N=1\n",
    "\n",
    "def f(x):\n",
    "    return sqrt(1-pow(x,2))\n",
    "\n",
    "timeend = time.time() + 1 \n",
    "while time.time() <= timeend:\n",
    "    integral=0\n",
    "    for i in range(1,N+1):\n",
    "        a=-1\n",
    "        integral+=f(a+((2/N)*i))*(2/N)\n",
    "    N+=1\n",
    "    \n",
    "print(\"N:\",N,\"\\nIntegral value is:\",integral, \"\\nDifference between real value: \",math.pi/2 - integral )"
   ]
  },
  {
   "cell_type": "code",
   "execution_count": 72,
   "metadata": {},
   "outputs": [
    {
     "name": "stdout",
     "output_type": "stream",
     "text": [
      "N: 9137 \n",
      "Integral value is: 1.570794422305105 \n",
      "Difference between real value:  1.9044897916487002e-06\n",
      "The gain is: 0.002510669272087587 %\n"
     ]
    }
   ],
   "source": [
    "#What is the gain in running it for 1 minute?\n",
    "import numpy as np\n",
    "import math\n",
    "import time\n",
    "\n",
    "N=1\n",
    "\n",
    "def f(x):\n",
    "    return sqrt(1-pow(x,2))\n",
    "\n",
    "timeend = time.time() + 60 \n",
    "while time.time() <= timeend:\n",
    "    integral2=0\n",
    "    for i in range(1,N+1):\n",
    "        a=-1\n",
    "        integral2+=f(a+((2/N)*i))*(2/N)\n",
    "    N+=1\n",
    "    \n",
    "print(\"N:\",N,\"\\nIntegral value is:\",integral2, \"\\nDifference between real value: \",math.pi/2 - integral2 )\n",
    "\n",
    "gain = np.abs((integral-integral2)/integral2)*100\n",
    "print(\"The gain is:\",gain,\"%\")"
   ]
  }
 ],
 "metadata": {
  "kernelspec": {
   "display_name": "Python 3",
   "language": "python",
   "name": "python3"
  }
 },
 "nbformat": 4,
 "nbformat_minor": 2
}
