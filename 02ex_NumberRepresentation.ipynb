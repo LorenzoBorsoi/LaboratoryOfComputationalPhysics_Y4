{
 "cells": [
  {
   "cell_type": "markdown",
   "metadata": {},
   "source": [
    "1\\. Write a function that converts number representation (bin<->dec<->hex)"
   ]
  },
  {
   "cell_type": "code",
   "execution_count": 29,
   "metadata": {},
   "outputs": [
    {
     "name": "stdout",
     "output_type": "stream",
     "text": [
      "decimal to binary: 101100\n",
      "binary to decimal: 44\n",
      "decimal to hexadecimal: 2C\n",
      "hexadecimal to decimal: 44\n"
     ]
    }
   ],
   "source": [
    "#decimal to binary\n",
    "def dec_bin(x):\n",
    "    result=\"\"\n",
    "    while x>=1:\n",
    "        result=result+str(x%2)\n",
    "        x//=2\n",
    "    print(\"decimal to binary:\",int(result[::-1]))\n",
    "\n",
    "#binary to decimal\n",
    "def bin_dec(x):\n",
    "    a=[]\n",
    "    result=0\n",
    "    a[:0]=x  \n",
    "    a=[int(i) for i in a] #convert the list of strings into a list of int\n",
    "    for i in range(len(a)):\n",
    "        digit=a.pop()\n",
    "        if digit==1:\n",
    "            result=result+pow(2,i)\n",
    "    print(\"binary to decimal:\",result)\n",
    "    \n",
    "#decimal to hexadecimal\n",
    "def dec_hex(x):\n",
    "    result=''\n",
    "    conv=['0', '1', '2', '3', '4', '5', '6', '7', '8', '9', 'A' , 'B', 'C', 'D', 'E', 'F']\n",
    "    while x>0:\n",
    "        a=x%16\n",
    "        result=conv[a]+result\n",
    "        x=x//16\n",
    "    print(\"decimal to hexadecimal:\",result)   \n",
    "\n",
    "#hexadecimal to decimal\n",
    "def hex_dec(x):\n",
    "    result=0\n",
    "    conv={'0': 0, '1': 1, '2': 2, '3': 3, '4': 4, '5': 5, '6': 6, '7': 7, '8': 8, '9': 9, 'A': 10 , 'B': 11, 'C': 12, 'D': 13, 'E': 14, 'F': 15}\n",
    "    a=len(x)-1\n",
    "    for i in x:\n",
    "        result +=conv[i]*pow(16,a)\n",
    "        a -=1\n",
    "    print(\"hexadecimal to decimal:\", result)\n",
    "        \n",
    "dec_bin(44)\n",
    "bin_dec(\"101100\")\n",
    "dec_hex(44)\n",
    "hex_dec(\"2C\")       "
   ]
  },
  {
   "cell_type": "markdown",
   "metadata": {},
   "source": [
    "2\\. Write a function that converts a 32 bit word into a single precision floating point (i.e. interprets the various bits as sign, mantissa and exponent)"
   ]
  },
  {
   "cell_type": "code",
   "execution_count": 66,
   "metadata": {},
   "outputs": [
    {
     "name": "stdout",
     "output_type": "stream",
     "text": [
      "-1.316553672920962e-36\n"
     ]
    }
   ],
   "source": [
    "def converter(x):\n",
    "    sign_bit=x[0]\n",
    "    exp_bits=x[1:9]\n",
    "    mant_bits=x[9:]\n",
    "    \n",
    "    #sign\n",
    "    sign=pow(-1,int(sign_bit))\n",
    "    \n",
    "    #convert exponent\n",
    "    temp=[]\n",
    "    exp_res=0\n",
    "    temp[:0]=exp_bits\n",
    "    temp=[int(i) for i in temp]\n",
    "    for i in range(len(temp)):\n",
    "        digit=temp.pop()\n",
    "        if digit==1:\n",
    "            exp_res=exp_res+pow(2,i)\n",
    "    exponent=pow(2,(exp_res-127))\n",
    "        \n",
    "    #convert mantissa\n",
    "    temp=[]\n",
    "    mant_res=0\n",
    "    temp[:0]=mant_bits\n",
    "    temp=[int(i) for i in temp]\n",
    "    temp=temp[::-1]\n",
    "    for i in range(len(temp)):\n",
    "        digit=temp.pop()\n",
    "        if digit==1:\n",
    "            mant_res=mant_res+pow(2,-(i+1))\n",
    "    mantissa=1+mant_res\n",
    "    print(sign*exponent*mantissa)\n",
    "    \n",
    "    \n",
    "converter(\"10000011111000000000000000000000\")"
   ]
  },
  {
   "cell_type": "markdown",
   "metadata": {},
   "source": [
    "3\\. Write a program to determine the underflow and overflow limits (within a factor of 2) for python on your computer. \n",
    "\n",
    "**Tips**: define two variables inizialized to 1 and halve/double them enough time to exceed the under/over-flow limits  "
   ]
  },
  {
   "cell_type": "code",
   "execution_count": 22,
   "metadata": {},
   "outputs": [
    {
     "name": "stdout",
     "output_type": "stream",
     "text": [
      "underflow: 5e-324\n",
      "overflow: 8.98846567431158e+307\n"
     ]
    }
   ],
   "source": [
    "def under(x):\n",
    "    l=[]\n",
    "    while x!=0.0:\n",
    "        x/=2\n",
    "        if x!=0.0: \n",
    "            l.append(x)\n",
    "    print(\"underflow:\",l[-1])\n",
    "        \n",
    "def over(x):\n",
    "    l=[]\n",
    "    while x<float(\"inf\"):\n",
    "        x*=2\n",
    "        l.append(x)\n",
    "    print(\"overflow:\",l[-2])\n",
    "        \n",
    "    \n",
    "a=1.0\n",
    "under(a)\n",
    "over(a)"
   ]
  },
  {
   "cell_type": "markdown",
   "metadata": {},
   "source": [
    "4\\. Write a program to determine the machine precision\n",
    "\n",
    "**Tips**: define a new variable by adding a smaller and smaller value (proceeding similarly to prob. 2) to an original variable and check the point where the two are the same "
   ]
  },
  {
   "cell_type": "code",
   "execution_count": 41,
   "metadata": {},
   "outputs": [
    {
     "name": "stdout",
     "output_type": "stream",
     "text": [
      "machine precision: 2.220446049250313e-16\n"
     ]
    }
   ],
   "source": [
    "def epsilon(a,b):\n",
    "    l=[]\n",
    "    while b!=0.0:\n",
    "        b/=2\n",
    "        a=a+b\n",
    "        if a!=2.0:\n",
    "            l.append(a)\n",
    "    print(\"machine precision:\",2-(l[-1]))\n",
    "    \n",
    "a=1.0\n",
    "b=1.0\n",
    "epsilon(a,b)\n"
   ]
  },
  {
   "cell_type": "markdown",
   "metadata": {},
   "source": [
    "5\\. Write a function that takes in input three parameters $a$, $b$ and $c$ and prints out the two solutions to the quadratic equation $ax^2+bx+c=0$ using the standard formula:\n",
    "$$\n",
    "x=\\frac{-b\\pm\\sqrt{b^2-4ac}}{2a}\n",
    "$$\n",
    "\n",
    "(a) use the program to compute the solution for $a=0.001$, $b=1000$ and $c=0.001$\n",
    "\n",
    "(b) re-express the standard solution formula by multiplying top and bottom by $-b\\mp\\sqrt{b^2-4ac}$ and again find the solution for $a=0.001$, $b=1000$ and $c=0.001$. How does it compare with what previously obtained? Why?\n",
    "\n",
    "(c) write a function that compute the roots of a quadratic equation accurately in all cases"
   ]
  },
  {
   "cell_type": "code",
   "execution_count": 26,
   "metadata": {},
   "outputs": [
    {
     "name": "stdout",
     "output_type": "stream",
     "text": [
      "method 1\n",
      "x1, x2: (-9.999894245993346e-07, -999999.999999)\n",
      "method 2\n",
      "x1, x2: (-1.000000000001e-06, -1000010.5755125057)\n",
      "method 1+2\n",
      "x1, x2: (-9.999894245993346e-07, -1000010.5755125057)\n"
     ]
    }
   ],
   "source": [
    "def sol1(a,b,c):\n",
    "    delta=pow(pow(b,2)-(4*a*c),0.5)\n",
    "    x1=(-b+delta)/(2*a)\n",
    "    x2=(-b-delta)/(2*a)\n",
    "    return x1,x2\n",
    "\n",
    "def sol2(a,b,c):\n",
    "    delta=pow(pow(b,2)-(4*a*c),0.5)\n",
    "    x1=(2*c)/(-b-delta)\n",
    "    x2=(2*c)/(-b+delta)\n",
    "    return x1,x2\n",
    "\n",
    "def sol3(a,b,c):\n",
    "    delta=pow(pow(b,2)-(4*a*c),0.5)\n",
    "    x1=(-b+delta)/(2*a)\n",
    "    x2=(2*c)/(-b+delta)\n",
    "    return x1,x2\n",
    "\n",
    "a=0.001\n",
    "b=1000\n",
    "c=0.001\n",
    "\n",
    "print(\"method 1\")\n",
    "print(\"x1, x2:\",sol1(a,b,c))\n",
    "print(\"method 2\")\n",
    "print(\"x1, x2:\",sol2(a,b,c))\n",
    "print(\"method 1+2\")\n",
    "print(\"x1, x2:\",sol3(a,b,c))"
   ]
  },
  {
   "cell_type": "markdown",
   "metadata": {},
   "source": [
    "6\\. Write a program that implements the function $f(x)=x(x−1)$\n",
    "\n",
    "(a) Calculate the derivative of the function at the point $x = 1$ using the derivative definition:\n",
    "\n",
    "$$\n",
    "\\frac{{\\rm d}f}{{\\rm d}x} = \\lim_{\\delta\\to0} \\frac{f(x+\\delta)-f(x)}{\\delta}\n",
    "$$\n",
    "\n",
    "with $\\delta = 10^{−2}$. Calculate the true value of the same derivative analytically and compare with the answer your program gives. The two will not agree perfectly. Why not?\n",
    "\n",
    "(b) Repeat the calculation for $\\delta = 10^{−4}, 10^{−6}, 10^{−8}, 10^{−10}, 10^{−12}$ and $10^{−14}$. How does the accuracy scales with $\\delta$?"
   ]
  },
  {
   "cell_type": "code",
   "execution_count": 60,
   "metadata": {},
   "outputs": [
    {
     "name": "stdout",
     "output_type": "stream",
     "text": [
      "d=10^(-2): 1.010000000000001\n",
      "d=10^(-4): 1.0000999999998899\n",
      "d=10^(-6): 1.0000009999177333\n",
      "d=10^(-8): 1.0000000039225287\n",
      "d=10^(-10): 1.000000082840371\n",
      "d=10^(-12): 1.0000889005833413\n",
      "d=10^(-14): 0.9992007221626509\n"
     ]
    }
   ],
   "source": [
    "def derivative(x,y,f):\n",
    "    d=pow(10,-y)\n",
    "    return (f(x+d)-f(x))/d\n",
    "    \n",
    "def func(x):\n",
    "    return x*(x-1)\n",
    "    \n",
    "for y in range(2,15,2):\n",
    "    print(\"d=10^(-{}):\".format(y),derivative(1,y,func),)"
   ]
  },
  {
   "cell_type": "markdown",
   "metadata": {},
   "source": [
    "7\\. Consider the integral of the semicircle of radius 1:\n",
    "$$\n",
    "I=\\int_{-1}^{1} \\sqrt(1-x^2) {\\rm d}x\n",
    "$$\n",
    "which it's known to be $I=\\frac{\\pi}{2}=1.57079632679...$.\n",
    "Alternatively we can use the Riemann definition of the integral:\n",
    "$$\n",
    "I=\\lim_{N\\to\\infty} \\sum_{k=1}^{N} h y_k \n",
    "$$\n",
    "\n",
    "with $h=2/N$ the width of each of the $N$ slices the domain is divided into and where\n",
    "$y_k$ is the value of the function at the $k-$th slice.\n",
    "\n",
    "(a) Write a programe to compute the integral with $N=100$. How does the result compares to the true value?\n",
    "\n",
    "(b) How much can $N$ be increased if the computation needs to be run in less than a second? What is the gain in running it for 1 minute? \n"
   ]
  },
  {
   "cell_type": "code",
   "execution_count": 25,
   "metadata": {},
   "outputs": [
    {
     "name": "stdout",
     "output_type": "stream",
     "text": [
      "true value: 1.5707963267948966\n",
      "riemann value for n=100: 1.5802085158895236\n",
      "riemann value for n=100000: 1.5708063082009784\n",
      "riemann value for n=1000000: 1.5707973262069104\n",
      "riemann value for n=10000000: 1.5707964267761794\n",
      "riemann value for n=100000000: 1.5707963367946078\n"
     ]
    }
   ],
   "source": [
    "import numpy as n\n",
    "\n",
    "def riemann(n):\n",
    "    h=2/n\n",
    "    a=0.0\n",
    "    for i in range(0,n+1):\n",
    "        a=a+(h*pow(1-(i/n)**2,0.5))\n",
    "    return a\n",
    "\n",
    "print(\"true value:\",n.pi/2)\n",
    "print(\"riemann value for n=100:\",riemann(100))\n",
    "print(\"riemann value for n=100000:\",riemann(100000))\n",
    "print(\"riemann value for n=1000000:\",riemann(1000000))\n",
    "print(\"riemann value for n=10000000:\",riemann(10000000))\n",
    "print(\"riemann value for n=100000000:\",riemann(100000000))\n"
   ]
  },
  {
   "cell_type": "code",
   "execution_count": null,
   "metadata": {},
   "outputs": [],
   "source": []
  }
 ],
 "metadata": {
  "kernelspec": {
   "display_name": "Python 3",
   "language": "python",
   "name": "python3"
  },
  "language_info": {
   "codemirror_mode": {
    "name": "ipython",
    "version": 3
   },
   "file_extension": ".py",
   "mimetype": "text/x-python",
   "name": "python",
   "nbconvert_exporter": "python",
   "pygments_lexer": "ipython3",
   "version": "3.8.8"
  }
 },
 "nbformat": 4,
 "nbformat_minor": 2
}
