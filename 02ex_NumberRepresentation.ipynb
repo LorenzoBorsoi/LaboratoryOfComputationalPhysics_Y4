{
 "cells": [
  {
   "cell_type": "markdown",
   "metadata": {},
   "source": [
    "1\\. Write a function that converts number representation (bin<->dec<->hex)"
   ]
  },
  {
   "cell_type": "code",
   "execution_count": 4,
   "metadata": {},
   "outputs": [
    {
     "name": "stdout",
     "output_type": "stream",
     "text": [
      "the number 3 in 2 is 0b11\n"
     ]
    }
   ],
   "source": [
    "#in ingresso vuole il numero (x), in che base è (base_i) e in che base lo voglio (base_f)\n",
    "def convertor(x, base_i, base_f):\n",
    "    if(base_i==10 and base_f==2): #decimal-->binary\n",
    "        x_f=bin(x)\n",
    "    \n",
    "    elif(base_i==10 and base_f==16): #decimal-->hexadecimal\n",
    "        x_f=hex(x)\n",
    "        \n",
    "    elif(base_i==2 and base_f==10):#binary-->decimal\n",
    "        x_f=int(bin(x),2)\n",
    "    \n",
    "    elif(base_i==16 and base_f==10):#hexadecimal-->decimal\n",
    "        x_f=int(hex(x),16)\n",
    "\n",
    "    elif(base_i==2 and base_f==16): #binay-->hexadecimal\n",
    "        x_f=int(bin(x),2)\n",
    "        x_f=hex(x)\n",
    "\n",
    "    elif(base_i==16 and base_f==2): #hexadecimal-->binary\n",
    "        x_f=int(hex(x),16)\n",
    "        x_f=bin(x)\n",
    "    print(f\"the number {x} in {base_f} is {x_f}\")\n",
    "\n",
    "convertor(3,10,2)"
   ]
  },
  {
   "cell_type": "markdown",
   "metadata": {},
   "source": [
    "2\\. Write a function that converts a 32 bit word into a single precision floating point (i.e. interprets the various bits as sign, mantissa and exponent)"
   ]
  },
  {
   "cell_type": "code",
   "execution_count": null,
   "metadata": {},
   "outputs": [],
   "source": [
    "from decimal import Decimal\n",
    "\n",
    "def floaconverter(x): #x deve essere un numero binariodi 32 bits\n",
    "    bias=127\n",
    "    s = int(x[0])\n",
    "    e = str(x[1:9])\n",
    "    e_dec = int(e, 2)\n",
    "    i=0\n",
    "    m=0\n",
    "\n",
    "    for i in range(23):\n",
    "        m += int(x[9+i]) * pow(2,-(1+i))\n",
    "\n",
    "    mantissa = m+1\n",
    "\n",
    "    f = (-1)**s * mantissa * (pow(2, e_dec - bias))\n",
    "    return print(m, e_dec, f)\n",
    "    # return print(len(x))\n",
    "\n",
    "floaconverter('01000000110101010001111010111000')\n",
    "floaconverter('11000000100000000000000000000110')"
   ]
  },
  {
   "cell_type": "markdown",
   "metadata": {},
   "source": [
    "3\\. Write a program to determine the underflow and overflow limits (within a factor of 2) for python on your computer. \n",
    "\n",
    "**Tips**: define two variables inizialized to 1 and halve/double them enough time to exceed the under/over-flow limits  "
   ]
  },
  {
   "cell_type": "code",
   "execution_count": null,
   "metadata": {},
   "outputs": [],
   "source": [
    "import sys\n",
    "sys.float_info\n",
    "from math import inf\n",
    "under = 1.0\n",
    "over = 1.0\n",
    "flag = True\n",
    "\n",
    "while(flag):\n",
    "    old_u = under\n",
    "    under = under/2\n",
    "    if(under==0):\n",
    "        print(f'overflow reached is {old_u}')\n",
    "        flag=False\n",
    "\n",
    "flag=True\n",
    "\n",
    "while(flag):\n",
    "    old_o = over\n",
    "    over = over * 2\n",
    "    if(over==inf):\n",
    "        print(f'underflow reached is {old_o}')\n",
    "        flag=False"
   ]
  },
  {
   "cell_type": "markdown",
   "metadata": {},
   "source": [
    "4\\. Write a program to determine the machine precision\n",
    "\n",
    "**Tips**: define a new variable by adding a smaller and smaller value (proceeding similarly to prob. 2) to an original variable and check the point where the two are the same "
   ]
  },
  {
   "cell_type": "code",
   "execution_count": null,
   "metadata": {},
   "outputs": [],
   "source": [
    "import sys\n",
    "sys.float_info\n",
    "\n",
    "flag = True\n",
    "j = 1.0\n",
    "\n",
    "while(flag):\n",
    "    # j = j * 10E-5\n",
    "    j = j / 1.0000001\n",
    "\n",
    "    if(j + 1 == 1):\n",
    "        flag = False\n",
    "print(j)"
   ]
  },
  {
   "cell_type": "markdown",
   "metadata": {},
   "source": [
    "5\\. Write a function that takes in input three parameters $a$, $b$ and $c$ and prints out the two solutions to the quadratic equation $ax^2+bx+c=0$ using the standard formula:\n",
    "$$\n",
    "x=\\frac{-b\\pm\\sqrt{b^2-4ac}}{2a}\n",
    "$$\n",
    "\n",
    "(a) use the program to compute the solution for $a=0.001$, $b=1000$ and $c=0.001$\n",
    "\n",
    "(b) re-express the standard solution formula by multiplying top and bottom by $-b\\mp\\sqrt{b^2-4ac}$ and again find the solution for $a=0.001$, $b=1000$ and $c=0.001$. How does it compare with what previously obtained? Why?\n",
    "\n",
    "(c) write a function that compute the roots of a quadratic equation accurately in all cases"
   ]
  },
  {
   "cell_type": "code",
   "execution_count": null,
   "metadata": {},
   "outputs": [],
   "source": [
    "from numpy import sqrt,sign\n",
    "\n",
    "def quadsolver(a,b,c):\n",
    "    x1 = (-b - sqrt(b**2 - 4*a*c)) / (2*a)\n",
    "    x2 = (-b + sqrt(b**2 - 4*a*c)) / (2*a)\n",
    "    if(x1==x2): \n",
    "        return print(f'the two solution are equal: {x1}')\n",
    "    else:\n",
    "        return print(f'With standard formula {x1} e {x2} ')\n",
    "\n",
    "def quadsolver2(a,b,c):\n",
    "    x1 = (2*c) / (-b - sqrt(b**2 - 4*a*c))\n",
    "    x2 = (2*c) / (-b + sqrt(b**2 - 4*a*c))\n",
    "    if(x1==x2): \n",
    "        return print(f'the two solution are equal {x1}')\n",
    "    else:\n",
    "        return print(f'whith the rewritten formula {x1} e {x2} ')\n",
    "\n",
    "def quadsolver3(a,b,c):\n",
    "    x1= (-b-sign(b)*sqrt(b**2-4*a*c))/(2*a)\n",
    "    x2= c/(a*x1)\n",
    "    return print(f'whith the stable formula {x1} e {x2} ')\n",
    "\n",
    "\n",
    "quadsolver(0.001, 1000, 0.001)\n",
    "quadsolver2(0.001, 1000.0, 0.001)\n",
    "quadsolver3(0.001, 1000.0, 0.001)\n",
    "\n",
    "'''il risultato è diverso! Perché?'''"
   ]
  },
  {
   "cell_type": "markdown",
   "metadata": {},
   "source": [
    "6\\. Write a program that implements the function $f(x)=x(x−1)$\n",
    "\n",
    "(a) Calculate the derivative of the function at the point $x = 1$ using the derivative definition:\n",
    "\n",
    "$$\n",
    "\\frac{{\\rm d}f}{{\\rm d}x} = \\lim_{\\delta\\to0} \\frac{f(x+\\delta)-f(x)}{\\delta}\n",
    "$$\n",
    "\n",
    "with $\\delta = 10^{−2}$. Calculate the true value of the same derivative analytically and compare with the answer your program gives. The two will not agree perfectly. Why not?\n",
    "\n",
    "(b) Repeat the calculation for $\\delta = 10^{−4}, 10^{−6}, 10^{−8}, 10^{−10}, 10^{−12}$ and $10^{−14}$. How does the accuracy scales with $\\delta$?"
   ]
  },
  {
   "cell_type": "code",
   "execution_count": null,
   "metadata": {},
   "outputs": [],
   "source": [
    "def f(x):\n",
    "    return x*(x-1)\n",
    "\n",
    "def derivative(f, x, delta):\n",
    "    df = (f(x+delta) - f(x)) / delta\n",
    "    return df\n",
    "\n",
    "# a = derivative(f,1, 10E-2)\n",
    "# b = derivative(f, 1, 10E-4)\n",
    "# c = derivative(f, 1, 10E-6)\n",
    "# d = derivative(f, 1, 10E-8)\n",
    "# e = derivative(f, 1, 10E-10)\n",
    "# g = derivative(f, 1, 10E-12)\n",
    "# h = derivative(f, 1, 10E-14)\n",
    "'''numerically unstable'''\n",
    "# print(a,b,c,d,e,g,h)\n",
    "# print(a-b)\n",
    "\n",
    "'''plot of the accuracy scaling with delta.\n",
    "Accuracy as the residual of x analitic and x by derivative def.'''\n",
    "import matplotlib.pyplot as plt\n",
    "import numpy as np\n",
    "# from matplotlib import pyplot\n",
    "deltas = [10**(-i) for i in range(1,15) if i%2==0]\n",
    "analitic_f = 1\n",
    "accuracy = [np.log(1/abs(1-derivative(f,1,delta))) for delta in deltas]\n",
    "\n",
    "plt.plot(deltas,accuracy, 'ro')\n",
    "plt.plot(deltas,accuracy, 'go-')\n",
    "plt.xlabel('delta')\n",
    "plt.ylabel('accuracy')\n",
    "plt.show()"
   ]
  },
  {
   "cell_type": "markdown",
   "metadata": {},
   "source": [
    "7\\. Consider the integral of the semicircle of radius 1:\n",
    "$$\n",
    "I=\\int_{-1}^{1} \\sqrt(1-x^2) {\\rm d}x\n",
    "$$\n",
    "which it's known to be $I=\\frac{\\pi}{2}=1.57079632679...$.\n",
    "Alternatively we can use the Riemann definition of the integral:\n",
    "$$\n",
    "I=\\lim_{N\\to\\infty} \\sum_{k=1}^{N} h y_k \n",
    "$$\n",
    "\n",
    "with $h=2/N$ the width of each of the $N$ slices the domain is divided into and where\n",
    "$y_k$ is the value of the function at the $k-$th slice.\n",
    "\n",
    "(a) Write a programe to compute the integral with $N=100$. How does the result compares to the true value?\n",
    "\n",
    "(b) How much can $N$ be increased if the computation needs to be run in less than a second? What is the gain in running it for 1 minute? \n"
   ]
  },
  {
   "cell_type": "code",
   "execution_count": 2,
   "metadata": {},
   "outputs": [
    {
     "name": "stdout",
     "output_type": "stream",
     "text": [
      "0.01737839739000102\n",
      "1.5534179294048955 0.0\n",
      "1.5707958471454435 1.9609973430633545\n",
      "the maximum value for N for t<1 is 3276800\n",
      "the residual for 3276800 iteration is 4.796494530445727e-07\n",
      "After 1 minute 1.570796315090987\n"
     ]
    }
   ],
   "source": [
    "from math import sqrt\n",
    "import numpy as np\n",
    "import time\n",
    "\n",
    "def f(x):\n",
    "    return sqrt(1-x**2)\n",
    "\n",
    "N=100\n",
    "def Riemann(f, N, x1, x2): #where x1 < x2 are the bounds of the integral\n",
    "    start_time = time.time()\n",
    "    h = abs(x2-x1)/N\n",
    "    I = [h*f(k) for k in np.linspace(x1, x2, N)]\n",
    "    return sum(I), time.time()-start_time\n",
    "\n",
    "result = np.pi / 2\n",
    "I, t = Riemann(f, 100, -1, 1)\n",
    "print(abs(I - result))\n",
    "print(I,t)\n",
    "N=100\n",
    "while(t<=1):\n",
    "    N*=2\n",
    "    I,t = Riemann(f, N, -1, 1)\n",
    "print(I,t)\n",
    "print(f\"the maximum value for N for t<1 is {N}\")\n",
    "print(f\"the residual for {N} iteration is {abs(result-I)}\")\n",
    "N=1\n",
    "while(t<=60):\n",
    "    N*=2\n",
    "    I,t = Riemann(f, N, -1, 1)\n",
    "print(f\"After 1 minute {I}\")"
   ]
  },
  {
   "cell_type": "code",
   "execution_count": null,
   "metadata": {},
   "outputs": [],
   "source": []
  }
 ],
 "metadata": {
  "kernelspec": {
   "display_name": "Python 3",
   "language": "python",
   "name": "python3"
  },
  "language_info": {
   "codemirror_mode": {
    "name": "ipython",
    "version": 3
   },
   "file_extension": ".py",
   "mimetype": "text/x-python",
   "name": "python",
   "nbconvert_exporter": "python",
   "pygments_lexer": "ipython3",
   "version": "3.9.7"
  }
 },
 "nbformat": 4,
 "nbformat_minor": 2
}
