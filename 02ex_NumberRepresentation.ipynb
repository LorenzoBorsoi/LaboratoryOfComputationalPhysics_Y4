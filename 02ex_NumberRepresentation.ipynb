{
 "cells": [
  {
   "cell_type": "code",
   "execution_count": 1,
   "metadata": {},
   "outputs": [],
   "source": [
    "#imports\n",
    "import matplotlib.pyplot as plt\n",
    "import numpy as np\n",
    "import timeit\n",
    "import time"
   ]
  },
  {
   "cell_type": "markdown",
   "metadata": {},
   "source": [
    "1\\. Write a function that converts number representation (bin<->dec<->hex)"
   ]
  },
  {
   "cell_type": "markdown",
   "metadata": {},
   "source": [
    "### binary <-> decimal functions"
   ]
  },
  {
   "cell_type": "code",
   "execution_count": 2,
   "metadata": {},
   "outputs": [
    {
     "name": "stdout",
     "output_type": "stream",
     "text": [
      "Test for binaryToDecimal passed!\n",
      "Test for decimalToBinary passed!\n"
     ]
    }
   ],
   "source": [
    "def binaryToDecimal(binary):\n",
    "    # Input is a binary number as a string and output is the decimal representation, dec\n",
    "    dec = 0\n",
    "    for i in range(1, len(binary)):\n",
    "        dec += int(binary[i])*(2**((len(binary)-1) - i))\n",
    "    dec *= (-1)**int(binary[0]) # leading number is the sign\n",
    "    return dec\n",
    "\n",
    "def testBinaryToDecimal():\n",
    "    assert(binaryToDecimal('0') == 0)\n",
    "    assert(binaryToDecimal('0101') == 5)\n",
    "    assert(binaryToDecimal('01011000') == 88)\n",
    "    assert(binaryToDecimal('11011000') == -88)\n",
    "    assert(binaryToDecimal('010100011001') == 1305)\n",
    "    assert(binaryToDecimal('110100011001') == -1305)\n",
    "    print('Test for binaryToDecimal passed!')\n",
    "\n",
    "def decimalToBinary(decimal):\n",
    "    # Input a decimal number as an int and output the number in binary repsrentation as a string, bin\n",
    "    bin = ''\n",
    "    \n",
    "    #now take care of sign and zero case\n",
    "    if(decimal == 0): return '0'\n",
    "    elif(decimal//(abs(decimal)) == 1): sign = '0'\n",
    "    else: sign = '1'\n",
    "    \n",
    "    decimal = abs(decimal) #now that sign is taken care of, take absolute value for the for loop\n",
    "    possible = ['0', '1']\n",
    "    \n",
    "    while decimal != 0:\n",
    "        index = decimal%2\n",
    "        bin += possible[index]\n",
    "        decimal //= 2\n",
    "        \n",
    "    #Now reverse order and add corresponding sign\n",
    "    bin = sign + bin[::-1]\n",
    "    return bin\n",
    "\n",
    "def testDecimalToBinary():\n",
    "    assert(decimalToBinary(0) == '0')\n",
    "    assert(decimalToBinary(1) == '01')\n",
    "    assert(decimalToBinary(-1) == '11')\n",
    "    assert(decimalToBinary(10) == '01010')\n",
    "    assert(decimalToBinary(88) == '01011000')\n",
    "    assert(decimalToBinary(-88) == '11011000')\n",
    "    assert(decimalToBinary(1305) == '010100011001')\n",
    "    assert(decimalToBinary(-1305) == '110100011001')\n",
    "    print('Test for decimalToBinary passed!')\n",
    "\n",
    "# Test functions\n",
    "testBinaryToDecimal()\n",
    "testDecimalToBinary()"
   ]
  },
  {
   "cell_type": "markdown",
   "metadata": {},
   "source": [
    "### decimal <-> hexadecimal functions"
   ]
  },
  {
   "cell_type": "code",
   "execution_count": 3,
   "metadata": {},
   "outputs": [
    {
     "name": "stdout",
     "output_type": "stream",
     "text": [
      "Test for decimalToHex passed!\n",
      "Test for hexToDecimal passed!\n"
     ]
    }
   ],
   "source": [
    "def decimalToHex(decimal):\n",
    "    #Takes a decimal int and returns a hexadecimal str\n",
    "    hexa = ''\n",
    "    possible = ['0', '1', '2', '3', '4', '5', '6', '7', '8', '9', 'a', 'b', 'c', 'd', 'e', 'f']\n",
    "    \n",
    "    #now take care of sign and zero case\n",
    "    if(decimal == 0): return '0'\n",
    "    elif(decimal//(abs(decimal)) == 1): sign = '0'\n",
    "    else: sign = '1'\n",
    "    decimal = abs(decimal)    \n",
    "    \n",
    "    while decimal != 0:\n",
    "        index = decimal%16\n",
    "        hexa += possible[index]\n",
    "        decimal //= 16\n",
    "    \n",
    "    #now reverse the order and add the sign\n",
    "    hexa = sign + hexa[::-1]\n",
    "    return hexa\n",
    "\n",
    "def testDecimalToHex():\n",
    "    assert(decimalToHex(0) == '0')\n",
    "    assert(decimalToHex(10) == '0a')\n",
    "    assert(decimalToHex(540) == '021c')\n",
    "    assert(decimalToHex(-540) == '121c')\n",
    "    assert(decimalToHex(1326) == '052e')\n",
    "    assert(decimalToHex(-1326) == '152e')\n",
    "    print('Test for decimalToHex passed!')\n",
    "\n",
    "def hexToDecimal(hexadecimal):\n",
    "    #Takes in a hexadecimal string and returns a decimal int, dec\n",
    "    dec = 0\n",
    "    #Use a dictionary with corresponding int values to take care of alphanumeric values\n",
    "    possible = {'0':'0', '1':'1', '2':'2', '3':'3', '4':'4', '5':'5', '6':'6', '7':'7', '8':'8', '9':'9', \n",
    "                    'a':'10', 'b':'11', 'c':'12', 'd':'13', 'e':'14', 'f':'15'}\n",
    "    \n",
    "    for i in range(1, len(hexadecimal)):\n",
    "        dec += int(possible[hexadecimal[i]])*(16**((len(hexadecimal)-1) - i))\n",
    "    dec *= (-1)**int(hexadecimal[0]) # leading number is the sign\n",
    "    return dec\n",
    "\n",
    "def testHexToDecimal():\n",
    "    assert(hexToDecimal('0') == 0)\n",
    "    assert(hexToDecimal('0a') == 10)\n",
    "    assert(hexToDecimal('021c') == 540)\n",
    "    assert(hexToDecimal('121c') == -540)\n",
    "    assert(hexToDecimal('052e') == 1326)\n",
    "    assert(hexToDecimal('152e') == -1326)\n",
    "    print('Test for hexToDecimal passed!')\n",
    "\n",
    "testDecimalToHex()\n",
    "testHexToDecimal()"
   ]
  },
  {
   "cell_type": "markdown",
   "metadata": {},
   "source": [
    "2\\. Write a function that converts a 32 bit word into a single precision floating point (i.e. interprets the various bits as sign, mantissa and exponent)"
   ]
  },
  {
   "cell_type": "code",
   "execution_count": 17,
   "metadata": {},
   "outputs": [
    {
     "name": "stdout",
     "output_type": "stream",
     "text": [
      "1.1127618452062264e-67\n",
      "-5.142787784847508e-39\n"
     ]
    }
   ],
   "source": [
    "class error(Exception):\n",
    "    pass\n",
    "\n",
    "def wordToFloat(inputNum):\n",
    "    #inputNum = str(num)\n",
    "    #First check if the input is actually 32 bits long\n",
    "    if(len(inputNum) != 32): raise error('Input num is not 32 bits long')\n",
    "    \n",
    "    bias = 127\n",
    "    sign = int(inputNum[-1])\n",
    "    f = inputNum[0:23]\n",
    "    exp = binaryToDecimal(inputNum[23:31]) #use previously defined function to convert to an int\n",
    "    \n",
    "    mantissa = 1\n",
    "    for i in range(1, len(f)):\n",
    "        mantissa += int(f[22-i]) * 2**(-i)\n",
    "        \n",
    "    \n",
    "    \n",
    "    result = (-1)**sign * mantissa * 2**(exp-bias)\n",
    "    return result\n",
    "\n",
    "def testWordToFloat():\n",
    "    print(wordToFloat('00000000000000000000011111000000'))\n",
    "    print(wordToFloat('00000000000000000000110100000011'))\n",
    "    \n",
    "testWordToFloat()"
   ]
  },
  {
   "cell_type": "markdown",
   "metadata": {},
   "source": [
    "3\\. Write a program to determine the underflow and overflow limits (within a factor of 2) for python on your computer. \n",
    "\n",
    "**Tips**: define two variables inizialized to 1 and halve/double them enough time to exceed the under/over-flow limits  "
   ]
  },
  {
   "cell_type": "code",
   "execution_count": 18,
   "metadata": {},
   "outputs": [
    {
     "name": "stdout",
     "output_type": "stream",
     "text": [
      "The overflow limit is: 1.348269851146737e+308\n",
      "The underflow limit is: 5e-324\n"
     ]
    }
   ],
   "source": [
    "def overflow():\n",
    "    num = 1.5\n",
    "    while num != float('inf'):\n",
    "        if(num*2 == float('inf')): break\n",
    "        num *= 2\n",
    "    return num\n",
    "    \n",
    "def underflow():\n",
    "    num = 0.5\n",
    "    while num != 0:\n",
    "        if(num/2 == 0): break\n",
    "        num /= 2\n",
    "    return num\n",
    "        \n",
    "print('The overflow limit is:', overflow())\n",
    "print('The underflow limit is:', underflow())"
   ]
  },
  {
   "cell_type": "markdown",
   "metadata": {},
   "source": [
    "4\\. Write a program to determine the machine precision\n",
    "\n",
    "**Tips**: define a new variable by adding a smaller and smaller value (proceeding similarly to prob. 2) to an original variable and check the point where the two are the same "
   ]
  },
  {
   "cell_type": "code",
   "execution_count": 19,
   "metadata": {},
   "outputs": [
    {
     "name": "stdout",
     "output_type": "stream",
     "text": [
      "The machine presicion is: 5.684341886080802e-17\n"
     ]
    }
   ],
   "source": [
    "def precision():\n",
    "    #Adds a small value epsilon to num2 until the value is too small to make num1 and num2 different and returns\n",
    "    num1, num2 = 1, 1\n",
    "    epsilon = 1e-3\n",
    "    while(num1 != num2+epsilon):\n",
    "        epsilon/=2\n",
    "    return epsilon\n",
    "\n",
    "print('The machine presicion is:', precision())\n",
    "    "
   ]
  },
  {
   "cell_type": "markdown",
   "metadata": {},
   "source": [
    "5\\. Write a function that takes in input three parameters $a$, $b$ and $c$ and prints out the two solutions to the quadratic equation $ax^2+bx+c=0$ using the standard formula:\n",
    "$$\n",
    "x=\\frac{-b\\pm\\sqrt{b^2-4ac}}{2a}\n",
    "$$\n",
    "\n",
    "(a) use the program to compute the solution for $a=0.001$, $b=1000$ and $c=0.001$\n",
    "\n",
    "(b) re-express the standard solution formula by multiplying top and bottom by $-b\\mp\\sqrt{b^2-4ac}$ and again find the solution for $a=0.001$, $b=1000$ and $c=0.001$. How does it compare with what previously obtained? Why?\n",
    "\n",
    "(c) write a function that compute the roots of a quadratic equation accurately in all cases"
   ]
  },
  {
   "cell_type": "code",
   "execution_count": 20,
   "metadata": {},
   "outputs": [],
   "source": [
    "def quadraticSolverA(a, b, c):\n",
    "    root1 = (-b + (b**2 - 4*a*c)**.5)/(2*a)\n",
    "    root2 = (-b - (b**2 - 4*a*c)**.5)/(2*a)\n",
    "    return (root1, root2)\n",
    "\n",
    "def quadraticSolverB(a, b, c):\n",
    "    root1 = (2*c)/(-b - (b**2 - 4*a*c)**.5)\n",
    "    root2 = (2*c)/(-b + (b**2 - 4*a*c)**.5)\n",
    "    return (root1, root2)"
   ]
  },
  {
   "cell_type": "markdown",
   "metadata": {},
   "source": [
    "### 5a)"
   ]
  },
  {
   "cell_type": "code",
   "execution_count": 21,
   "metadata": {},
   "outputs": [
    {
     "name": "stdout",
     "output_type": "stream",
     "text": [
      "The roots for a=0.001, b=1000, and c=0.001 are: (-9.999894245993346e-07, -999999.999999)\n"
     ]
    }
   ],
   "source": [
    "print('The roots for a=0.001, b=1000, and c=0.001 are:', quadraticSolverA(0.001, 1000, 0.001))"
   ]
  },
  {
   "cell_type": "markdown",
   "metadata": {},
   "source": [
    "### 5b)"
   ]
  },
  {
   "cell_type": "code",
   "execution_count": 22,
   "metadata": {},
   "outputs": [
    {
     "name": "stdout",
     "output_type": "stream",
     "text": [
      "The roots for a=0.001, b=1000, and c=0.001 are: (-1.000000000001e-06, -1000010.5755125057)\n"
     ]
    }
   ],
   "source": [
    "print('The roots for a=0.001, b=1000, and c=0.001 are:', quadraticSolverB(0.001, 1000, 0.001))"
   ]
  },
  {
   "cell_type": "markdown",
   "metadata": {},
   "source": [
    "#### The different quadratic formula solver give different results because"
   ]
  },
  {
   "cell_type": "markdown",
   "metadata": {},
   "source": [
    "### 5c)"
   ]
  },
  {
   "cell_type": "code",
   "execution_count": 23,
   "metadata": {},
   "outputs": [
    {
     "name": "stdout",
     "output_type": "stream",
     "text": [
      "The roots for a=0.001, b=1000, and c=0.001 are: (-9.999894245993346e-07, -1000010.5755125057)\n"
     ]
    }
   ],
   "source": [
    "def quadraticSolverC(a, b, c):\n",
    "    #Uses the equations that avoid a loss of significant figures in both previous cases\n",
    "    root1 = (-b + (b**2 - 4*a*c)**.5)/(2*a)\n",
    "    root2 = (2*c)/(-b + (b**2 - 4*a*c)**.5)\n",
    "    return (root1, root2)\n",
    "\n",
    "print('The roots for a=0.001, b=1000, and c=0.001 are:', quadraticSolverC(0.001, 1000, 0.001))"
   ]
  },
  {
   "cell_type": "markdown",
   "metadata": {},
   "source": [
    "6\\. Write a program that implements the function $f(x)=x(x−1)$\n",
    "\n",
    "(a) Calculate the derivative of the function at the point $x = 1$ using the derivative definition:\n",
    "\n",
    "$$\n",
    "\\frac{{\\rm d}f}{{\\rm d}x} = \\lim_{\\delta\\to0} \\frac{f(x+\\delta)-f(x)}{\\delta}\n",
    "$$\n",
    "\n",
    "with $\\delta = 10^{−2}$. Calculate the true value of the same derivative analytically and compare with the answer your program gives. The two will not agree perfectly. Why not?\n",
    "\n",
    "(b) Repeat the calculation for $\\delta = 10^{−4}, 10^{−6}, 10^{−8}, 10^{−10}, 10^{−12}$ and $10^{−14}$. How does the accuracy scales with $\\delta$?"
   ]
  },
  {
   "cell_type": "markdown",
   "metadata": {},
   "source": [
    "### 6a)"
   ]
  },
  {
   "cell_type": "code",
   "execution_count": 24,
   "metadata": {},
   "outputs": [
    {
     "name": "stdout",
     "output_type": "stream",
     "text": [
      "The derivative of f(1) with delta=1e-2 is: 1.010000000000001\n"
     ]
    }
   ],
   "source": [
    "def f(x):\n",
    "    return x*(x-1)\n",
    "\n",
    "def df(x, delta):\n",
    "    #return derivative at point x with delta\n",
    "    return (f(x+delta) - f(x))/delta\n",
    "\n",
    "print('The derivative of f(1) with delta=1e-2 is:', df(1, 1e-2))"
   ]
  },
  {
   "cell_type": "markdown",
   "metadata": {},
   "source": [
    "#### The program returns a value of 1.010000000000001 and analytically the answer is just 1.01. "
   ]
  },
  {
   "cell_type": "markdown",
   "metadata": {},
   "source": [
    "### 6b)"
   ]
  },
  {
   "cell_type": "code",
   "execution_count": 25,
   "metadata": {},
   "outputs": [
    {
     "data": {
      "image/png": "[encoded data removed]",
      "text/plain": [
       "<Figure size 432x288 with 1 Axes>"
      ]
     },
     "metadata": {
      "needs_background": "light"
     },
     "output_type": "display_data"
    }
   ],
   "source": [
    "delta = 1e-2\n",
    "deltas = []\n",
    "accuracy = []\n",
    "while delta > 1e-14:\n",
    "    deltas.append(delta)\n",
    "    accuracy.append(abs(df(1, delta) - 1.01))\n",
    "    delta/=100\n",
    "\n",
    "#plot results\n",
    "plt.plot(accuracy, deltas)\n",
    "plt.title('Accuracy Over Delta')\n",
    "plt.xlabel('Delta')\n",
    "plt.ylabel('Accuracy')\n",
    "plt.show()"
   ]
  },
  {
   "cell_type": "markdown",
   "metadata": {},
   "source": [
    "7\\. Consider the integral of the semicircle of radius 1:\n",
    "$$\n",
    "I=\\int_{-1}^{1} \\sqrt(1-x^2) {\\rm d}x\n",
    "$$\n",
    "which it's known to be $I=\\frac{\\pi}{2}=1.57079632679...$.\n",
    "Alternatively we can use the Riemann definition of the integral:\n",
    "$$\n",
    "I=\\lim_{N\\to\\infty} \\sum_{k=1}^{N} h y_k \n",
    "$$\n",
    "\n",
    "with $h=2/N$ the width of each of the $N$ slices the domain is divided into and where\n",
    "$y_k$ is the value of the function at the $k-$th slice.\n",
    "\n",
    "(a) Write a programe to compute the integral with $N=100$. How does the result compares to the true value?\n",
    "\n",
    "(b) How much can $N$ be increased if the computation needs to be run in less than a second? What is the gain in running it for 1 minute? \n"
   ]
  },
  {
   "cell_type": "markdown",
   "metadata": {},
   "source": [
    "### 7a)"
   ]
  },
  {
   "cell_type": "code",
   "execution_count": 2,
   "metadata": {},
   "outputs": [
    {
     "name": "stdout",
     "output_type": "stream",
     "text": [
      "The Riemann sum of the semicircle with N=100 gives: 1.31986531986532, which has an error of 0.15974764051147497\n"
     ]
    }
   ],
   "source": [
    "trueI = np.pi/2\n",
    "def semicircle(x):\n",
    "    return 1-x**2\n",
    "    \n",
    "def riemann(N):\n",
    "    h = 2/N\n",
    "    xRange = np.linspace(-1, 1, N)\n",
    "    I = 0\n",
    "    for i in range(N):\n",
    "        I += h*semicircle(xRange[i])\n",
    "        \n",
    "    return I\n",
    "\n",
    "print(f'The Riemann sum of the semicircle with N=100 gives: {riemann(100)}, which has an error of {abs(trueI - riemann(100))/trueI}')\n"
   ]
  },
  {
   "cell_type": "code",
   "execution_count": 9,
   "metadata": {},
   "outputs": [
    {
     "name": "stdout",
     "output_type": "stream",
     "text": [
      "28.4 ms ± 2.31 ms per loop (mean ± std. dev. of 7 runs, 10 loops each)\n"
     ]
    }
   ],
   "source": [
    "%timeit riemann(20000)"
   ]
  },
  {
   "cell_type": "markdown",
   "metadata": {},
   "source": [
    "### 7b)"
   ]
  },
  {
   "cell_type": "code",
   "execution_count": null,
   "metadata": {},
   "outputs": [],
   "source": [
    "def timeRiemann(N, maxTime):\n",
    "    #print(N)\n",
    "    startTime = time.time()\n",
    "    riemann(N)\n",
    "    executionTime = time.time() - startTime\n",
    "    \n",
    "    if executionTime < maxTime:\n",
    "        timeRiemann(N+1, maxTime)\n",
    "    else:\n",
    "        print(f'The maximum number of iterations of N is {N} to keep the program running under {maxTime}')\n",
    "        return (N, executionTime)\n",
    "\n",
    "print(timeRiemann(740000, 1.0)) #pick a time near 1s so program doesn't run forever"
   ]
  },
  {
   "cell_type": "code",
   "execution_count": null,
   "metadata": {},
   "outputs": [],
   "source": [
    "#print(timeRiemann(10000000, 60.0))"
   ]
  },
  {
   "cell_type": "code",
   "execution_count": null,
   "metadata": {},
   "outputs": [],
   "source": []
  }
 ],
 "metadata": {
  "kernelspec": {
   "display_name": "Python 3",
   "language": "python",
   "name": "python3"
  },
  "language_info": {
   "codemirror_mode": {
    "name": "ipython",
    "version": 3
   },
   "file_extension": ".py",
   "mimetype": "text/x-python",
   "name": "python",
   "nbconvert_exporter": "python",
   "pygments_lexer": "ipython3",
   "version": "3.8.3"
  }
 },
 "nbformat": 4,
 "nbformat_minor": 2
}
