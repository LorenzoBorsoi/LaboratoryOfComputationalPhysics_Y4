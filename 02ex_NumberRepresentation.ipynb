{
 "cells": [
  {
   "cell_type": "markdown",
   "metadata": {},
   "source": [
    "1\\. Write a function that converts number representation (bin<->dec<->hex)"
   ]
  },
  {
   "cell_type": "code",
   "execution_count": 11,
   "metadata": {},
   "outputs": [],
   "source": [
    "#Binary to decimal\n",
    "def bin_to_dec(x):\n",
    "    y = 0\n",
    "    for i in range(0,len(x)):\n",
    "        j = len(x)-(i+1)\n",
    "        y = 2**i * int(x[j]) + y        \n",
    "    return y \n",
    "\n",
    "#Decimal to binary\n",
    "def dec_to_bin(x):\n",
    "    res = 1\n",
    "    y   = ''\n",
    "    \n",
    "    while res > 0:\n",
    "        res = x // 2\n",
    "        i   = x % 2\n",
    "        x   = res\n",
    "        y = str(i) + y\n",
    "    return y\n",
    "\n",
    "#Decimal to Hexadecimal\n",
    "def dec_to_hex(x):\n",
    "    a = {0:'0', 1:'1', 2 :'2', 3:'3', 4:'4', 5:'5', 6:'6', 7:'7', 8:'8', 9:'9', 10:'A', 11:'B', 12:'C', 13:'D', 14:'E', 15:'F'}\n",
    "    res = 1\n",
    "    y   = ''\n",
    "    \n",
    "    while res > 0:\n",
    "        res = x // 16\n",
    "        i   = x % 16\n",
    "        x   = res\n",
    "        \n",
    "        if i == 10:\n",
    "            h=1\n",
    "        y = a[i] + y\n",
    "    return y\n",
    "\n",
    "#Hexadecimal to decimal\n",
    "def hex_to_dec(x):\n",
    "    y = 0\n",
    "    a = {'0':0, '1':1, '2' :2, '3':3, '4':4, '5':5, '6':6, '7':7, '8':8, '9':9,'A':10,'B':11,'C':12,'D':13,'E':14,'F':15}\n",
    "\n",
    "    for i in range(0,len(x)):\n",
    "        j = len(x)-(i+1)\n",
    "        y = int(a[x[i]]) * 16**j +y\n",
    "    return y\n",
    "\n",
    "#Binary to hexadecimal\n",
    "def bin_to_hex(x):\n",
    "    y = dec_to_hex(bin_to_dec(x))\n",
    "    return y\n",
    "\n",
    "#Hexadecimal to binary\n",
    "def hex_to_bin(x):\n",
    "    y = dec_to_bin(hex_to_dec(x))\n",
    "    return y\n"
   ]
  },
  {
   "cell_type": "markdown",
   "metadata": {},
   "source": [
    "2\\. Write a function that converts a 32 bit word into a single precision floating point (i.e. interprets the various bits as sign, mantissa and exponent)"
   ]
  },
  {
   "cell_type": "code",
   "execution_count": 1,
   "metadata": {},
   "outputs": [
    {
     "name": "stdout",
     "output_type": "stream",
     "text": [
      "0b11111000000000000000000000\n",
      "0b11000000101100000000000000000000\n",
      "1.316553672920962e-36\n",
      "-5.5\n"
     ]
    }
   ],
   "source": [
    "import numpy as np\n",
    "\n",
    "def singleprec(w):\n",
    "    masksign = 0b10000000000000000000000000000000\n",
    "    maskexp =  0b01111111100000000000000000000000\n",
    "    maskmant = 0b00000000011111111111111111111111\n",
    "    sign = (w & masksign) >> 31\n",
    "    exp = (w & maskexp) >> 23\n",
    "    m = (w & maskmant)\n",
    "    mant = 1\n",
    "    n = 23\n",
    "    for i in range(1,24):\n",
    "        mant = mant + (((m & (2**(n-i))) >> (n-i))*(2**(-i))) #calculate mantissa\n",
    "    result = ((-1)**sign)*mant*(np.float_power(2,exp-127))\n",
    "    return result\n",
    "\n",
    "n1 = np.uint32(65011712)\n",
    "n2 = np.uint32(3232759808)\n",
    "print(bin(n1))\n",
    "print(bin(n2))\n",
    "r1 = singleprec(n1)\n",
    "print(r1)\n",
    "r2 = singleprec(n2)\n",
    "print(r2)"
   ]
  },
  {
   "cell_type": "markdown",
   "metadata": {},
   "source": [
    "3\\. Write a program to determine the underflow and overflow limits (within a factor of 2) for python on your computer. \n",
    "\n",
    "**Tips**: define two variables inizialized to 1 and halve/double them enough time to exceed the under/over-flow limits  "
   ]
  },
  {
   "cell_type": "code",
   "execution_count": 4,
   "metadata": {},
   "outputs": [
    {
     "name": "stdout",
     "output_type": "stream",
     "text": [
      "The number before the overflow is 8.98846567431158e+307\n",
      "The number before the underflow is 5e-324\n"
     ]
    }
   ],
   "source": [
    "x = 1.0\n",
    "while True:\n",
    "    y = x\n",
    "    x *= 2\n",
    "    if x == float('inf'):\n",
    "        print(\"The number before the overflow is {}\".format(y))\n",
    "        break\n",
    "        \n",
    "x = 1.0\n",
    "while True:\n",
    "    y = x\n",
    "    x /= 2\n",
    "    if x == 0:\n",
    "        print(\"The number before the underflow is {}\".format(y))\n",
    "        break"
   ]
  },
  {
   "cell_type": "markdown",
   "metadata": {},
   "source": [
    "4\\. Write a program to determine the machine precision\n",
    "\n",
    "**Tips**: define a new variable by adding a smaller and smaller value (proceeding similarly to prob. 2) to an original variable and check the point where the two are the same "
   ]
  },
  {
   "cell_type": "code",
   "execution_count": 5,
   "metadata": {},
   "outputs": [
    {
     "name": "stdout",
     "output_type": "stream",
     "text": [
      "The machine precision is 2.220446049250313e-16\n"
     ]
    }
   ],
   "source": [
    "x = 1.0\n",
    "y = 1.0\n",
    "\n",
    "while True:\n",
    "    x /= 2\n",
    "    if y + x/2 == y:\n",
    "        print(\"The machine precision is {}\".format(x))\n",
    "        break"
   ]
  },
  {
   "cell_type": "markdown",
   "metadata": {},
   "source": [
    "5\\. Write a function that takes in input three parameters $a$, $b$ and $c$ and prints out the two solutions to the quadratic equation $ax^2+bx+c=0$ using the standard formula:\n",
    "$$\n",
    "x=\\frac{-b\\pm\\sqrt{b^2-4ac}}{2a}\n",
    "$$\n",
    "\n",
    "(a) use the program to compute the solution for $a=0.001$, $b=1000$ and $c=0.001$\n",
    "\n",
    "(b) re-express the standard solution formula by multiplying top and bottom by $-b\\mp\\sqrt{b^2-4ac}$ and again find the solution for $a=0.001$, $b=1000$ and $c=0.001$. How does it compare with what previously obtained? Why?\n",
    "\n",
    "(c) write a function that compute the roots of a quadratic equation accurately in all cases"
   ]
  },
  {
   "cell_type": "code",
   "execution_count": 6,
   "metadata": {},
   "outputs": [
    {
     "name": "stdout",
     "output_type": "stream",
     "text": [
      "(-9.999894245993346e-07, -999999.999999)\n",
      "(-9.999894245993346e-07, -999999.9999990001)\n"
     ]
    }
   ],
   "source": [
    "import math\n",
    "a,b,c = 0.001,1000,0.001\n",
    "\n",
    "P = math.sqrt((b**2)-(4*a*c))\n",
    "\n",
    "# a)\n",
    "x1 = ((-b)+P)/(2*a)\n",
    "x2 = ((-b)-P)/(2*a)\n",
    "\n",
    "print(x1,x2)\n",
    "\n",
    "print(a*(x1**2)+b*x1+c)\n",
    "print(a*(x2**2)+b*x2+c)\n",
    "\n",
    "# b)\n",
    "x11 = (((-b)+P)*((-b)+P))/((2*a)*((-b)+(P)))\n",
    "x12 = (((-b)-P)*((-b)+P))/((2*a)*((-b)+(P)))\n",
    "x21 = (((-b)+P)*((-b)-P))/((2*a)*((-b)-(P)))\n",
    "x22 = (((-b)-P)*((-b)-P))/((2*a)*((-b)-(P)))\n",
    "\n",
    "print(x11,x12)\n",
    "print(x21,x22)\n",
    "\n",
    "# c)\n",
    "def quadeq(a,b,c):\n",
    "    x1 = (2*c)/((-b)-P)\n",
    "    x2 = ((-b)-P)/(2*a)\n",
    "    return x1,x2\n",
    "x3 = x1\n",
    "x4 = x2\n",
    "x1,x2 = quadeq(a,b,c)\n",
    "\n",
    "print(x3-x1, x4-x2)\n",
    "print(x1,x2)\n",
    "print(a*(x1**2)+b*x1+c)\n",
    "print(a*(x2**2)+b*x2+c)"
   ]
  },
  {
   "cell_type": "markdown",
   "metadata": {},
   "source": [
    "6\\. Write a program that implements the function $f(x)=x(x−1)$\n",
    "\n",
    "(a) Calculate the derivative of the function at the point $x = 1$ using the derivative definition:\n",
    "\n",
    "$$\n",
    "\\frac{{\\rm d}f}{{\\rm d}x} = \\lim_{\\delta\\to0} \\frac{f(x+\\delta)-f(x)}{\\delta}\n",
    "$$\n",
    "\n",
    "with $\\delta = 10^{−2}$. Calculate the true value of the same derivative analytically and compare with the answer your program gives. The two will not agree perfectly. Why not?\n",
    "\n",
    "(b) Repeat the calculation for $\\delta = 10^{−4}, 10^{−6}, 10^{−8}, 10^{−10}, 10^{−12}$ and $10^{−14}$. How does the accuracy scales with $\\delta$?"
   ]
  },
  {
   "cell_type": "code",
   "execution_count": 7,
   "metadata": {},
   "outputs": [
    {
     "name": "stdout",
     "output_type": "stream",
     "text": [
      "1.0000999999998899\n",
      "1.0000009999177333\n",
      "1.0000000039225287\n",
      "1.000000082840371\n",
      "1.0000889005833413\n",
      "0.9992007221626509\n"
     ]
    }
   ],
   "source": [
    "def function(x):\n",
    "    return x*(x-1)\n",
    "\n",
    "def derivative(func, delta, x):\n",
    "    return (func(x+delta)-func(x))/delta\n",
    "\n",
    "print(derivative(function, 10**-4, 1))\n",
    "print(derivative(function, 10**-6, 1))\n",
    "print(derivative(function, 10**-8, 1))\n",
    "print(derivative(function, 10**-10, 1))\n",
    "print(derivative(function, 10**-12, 1))\n",
    "print(derivative(function, 10**-14, 1))"
   ]
  },
  {
   "cell_type": "markdown",
   "metadata": {},
   "source": [
    "7\\. Consider the integral of the semicircle of radius 1:\n",
    "$$\n",
    "I=\\int_{-1}^{1} \\sqrt(1-x^2) {\\rm d}x\n",
    "$$\n",
    "which it's known to be $I=\\frac{\\pi}{2}=1.57079632679...$.\n",
    "Alternatively we can use the Riemann definition of the integral:\n",
    "$$\n",
    "I=\\lim_{N\\to\\infty} \\sum_{k=1}^{N} h y_k \n",
    "$$\n",
    "\n",
    "with $h=2/N$ the width of each of the $N$ slices the domain is divided into and where\n",
    "$y_k$ is the value of the function at the $k-$th slice.\n",
    "\n",
    "(a) Write a programe to compute the integral with $N=100$. How does the result compares to the true value?\n",
    "\n",
    "(b) How much can $N$ be increased if the computation needs to be run in less than a second? What is the gain in running it for 1 minute? \n"
   ]
  },
  {
   "cell_type": "code",
   "execution_count": null,
   "metadata": {},
   "outputs": [
    {
     "name": "stdout",
     "output_type": "stream",
     "text": [
      "The integral with N=100 is equal to 1.5691342555492505\n",
      "The difference with the true value is 0.0016620712407495741\n",
      "If the computation must be done in less than a seccond, then N should be around 10000000 with a difference of 1.6582726303226991e-09\n"
     ]
    }
   ],
   "source": [
    "import  math as m\n",
    "import  time\n",
    "\n",
    "def scr1(x):\n",
    "    y = m.sqrt(1-x**2)\n",
    "    return y\n",
    "    \n",
    "\n",
    "def riemann(f,x1,x2,n):\n",
    "    I = 0.\n",
    "    for k in range(1,n):\n",
    "        dx = (x2-x1)/n\n",
    "        x  = x1 + dx*k\n",
    "        I = I + dx * f(x)\n",
    "    return I\n",
    "\n",
    "print('The integral with N=100 is equal to',riemann(scr1,-1,1,100))\n",
    "print('The difference with the true value is', abs(riemann(scr1,-1,1,100)-1.57079632679))\n",
    "\n",
    "\n",
    "dt = 0.\n",
    "rmn =0.\n",
    "N=10\n",
    "while dt < 1.:\n",
    "    start =time.time()\n",
    "    N *=10\n",
    "    dprev = dt\n",
    "    rmnprev =rmn\n",
    "    rmn = riemann(scr1,-1,1,N)\n",
    "    dt = abs(start - time.time())\n",
    "print('If the computation must be done in less than a seccond, then N should be around',N, 'with a difference of',abs(rmnprev-1.57079632679))\n",
    "\n",
    "\n",
    "dt = 0.\n",
    "rmn =0.\n",
    "N=10\n",
    "while dt < 60.:\n",
    "    start =time.time()\n",
    "    N *=10\n",
    "    dprev = dt\n",
    "    rmnprev =rmn\n",
    "    rmn = riemann(scr1,-1,1,N)\n",
    "    dt = abs(start - time.time())\n",
    "print('The gain is',abs(rmnprev-1.57079632679))\n"
   ]
  },
  {
   "cell_type": "code",
   "execution_count": null,
   "metadata": {},
   "outputs": [],
   "source": []
  }
 ],
 "metadata": {
  "kernelspec": {
   "display_name": "Python 3 (ipykernel)",
   "language": "python",
   "name": "python3"
  },
  "language_info": {
   "codemirror_mode": {
    "name": "ipython",
    "version": 3
   },
   "file_extension": ".py",
   "mimetype": "text/x-python",
   "name": "python",
   "nbconvert_exporter": "python",
   "pygments_lexer": "ipython3",
   "version": "3.8.8"
  }
 },
 "nbformat": 4,
 "nbformat_minor": 2
}
