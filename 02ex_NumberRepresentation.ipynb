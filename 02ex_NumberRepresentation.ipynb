{
 "cells": [
  {
   "cell_type": "markdown",
   "metadata": {},
   "source": [
    "1\\. Write a function that converts number representation (bin<->dec<->hex)"
   ]
  },
  {
   "cell_type": "code",
   "execution_count": 1,
   "metadata": {
    "scrolled": false
   },
   "outputs": [
    {
     "name": "stdout",
     "output_type": "stream",
     "text": [
      "Binary representation of AB38 : 1010101100111000\n"
     ]
    }
   ],
   "source": [
    "def bin_dec(x):            #from binary to decimal\n",
    "    result = 0\n",
    "    iterator = len(x)-1\n",
    "    for bit in x:\n",
    "        result += int(bit)*(2**iterator)\n",
    "        iterator-=1  \n",
    "        \n",
    "    return result\n",
    "\n",
    "\n",
    "def dec_bin(x):           #from decimal to binary\n",
    "    result = \"\"\n",
    "    y = int(x)\n",
    "    while(y != 0):\n",
    "        result = str(y%2) + result\n",
    "        y=y//2 \n",
    "        \n",
    "    return result\n",
    "\n",
    "\n",
    "def dec_hex(x):                                           #from decimal to hexadecimal\n",
    "    labels = {10:'A',11:'B',12:'C',13:'D',14:'E',15:'F'}\n",
    "    \n",
    "    result = \"\"\n",
    "    y = int(x)\n",
    "    while(y != 0):\n",
    "        reminder = y%16\n",
    "        if(reminder > 9):\n",
    "            reminder=labels[reminder]\n",
    "        result = str(reminder) + result\n",
    "        y=y//16 \n",
    "\n",
    "    return result\n",
    "\n",
    "\n",
    "def hex_dec(x):                                           #from hexadecimal to decimal\n",
    "    labels = {'A':10,'B':11,'C':12,'D':13,'E':14,'F':15}\n",
    "    \n",
    "    result = 0\n",
    "    iterator = len(x)-1\n",
    "    for chrt in x:  \n",
    "        if(chrt.isdigit()):\n",
    "            chrt=int(chrt)\n",
    "        else:\n",
    "            chrt=labels[chrt]      \n",
    "        result += chrt*(16**iterator)\n",
    "        iterator-=1\n",
    "        \n",
    "    return result\n",
    "    \n",
    "\n",
    "    \n",
    "def transform_rapresentation(x,a,b):\n",
    "    \n",
    "    if(a==\"bin\" and b==\"dec\"):\n",
    "        print('Decimal representation of', x, ':', bin_dec(x))\n",
    "        \n",
    "    elif(a==\"dec\" and b==\"bin\"):        \n",
    "        print('Binary representation of', x, ':', dec_bin(x))\n",
    "        \n",
    "    elif(a==\"dec\" and b==\"hex\"):      \n",
    "        print('Hexadecimal representation of', x, ':', dec_hex(x))\n",
    "        \n",
    "    elif(a==\"hex\" and b==\"dec\"):\n",
    "        print('Decimal representation of', x, ':', hex_dec(x))\n",
    "        \n",
    "    elif(a==\"bin\" and b==\"hex\"):\n",
    "        print('Hexadecimal representation of', x, ':', dec_hex(bin_dec(x)))\n",
    "              \n",
    "    elif(a==\"hex\" and b==\"bin\"):\n",
    "        print('Binary representation of', x, ':', dec_bin(hex_dec(x)))\n",
    "        \n",
    "\n",
    "\n",
    "n = \"AB38\"\n",
    "ini = \"hex\"\n",
    "fin = \"bin\"\n",
    "transform_rapresentation(n, ini, fin)"
   ]
  },
  {
   "cell_type": "markdown",
   "metadata": {},
   "source": [
    "2\\. Write a function that converts a 32 bit word into a single precision floating point (i.e. interprets the various bits as sign, mantissa and exponent)"
   ]
  },
  {
   "cell_type": "code",
   "execution_count": 2,
   "metadata": {},
   "outputs": [
    {
     "name": "stdout",
     "output_type": "stream",
     "text": [
      "00100111001000111100000001010010\n"
     ]
    }
   ],
   "source": [
    "import numpy as np\n",
    "\n",
    "bin_array = np.random.randint(0, 2, 32)\n",
    "bin_list = list(map(str, bin_array))\n",
    "bin_str = \"\".join(bin_list)\n",
    "\n",
    "#print(bin_list)\n",
    "print(bin_str)"
   ]
  },
  {
   "cell_type": "code",
   "execution_count": 4,
   "metadata": {},
   "outputs": [
    {
     "name": "stdout",
     "output_type": "stream",
     "text": [
      "Converting 32bit 00100111001000111100000001010010 into a single precision floating point.\n",
      "\n",
      "\t32bit 00100111001000111100000001010010 => 2.272505117705036e-15 floating point\n"
     ]
    }
   ],
   "source": [
    "def singleprecision(x):\n",
    "    \n",
    "    list(x.strip(\" \"))\n",
    "\n",
    "    s = int(x[0])\n",
    "    S=(-1)**s\n",
    "    #print(\"\\tSign:\", s, \"=>\", S)\n",
    "    \n",
    "    e = int(x[1:9], 2)\n",
    "    #print(\"\\tExponent:\", x[1:9], \"=>\", e)\n",
    "    \n",
    "    f = x[9:]\n",
    "    iterator = -1\n",
    "    mantissa = 1\n",
    "    for bit in f: \n",
    "        mantissa += int(bit)*(2**iterator)\n",
    "        #print(\"iter:\", iterator, \"bit:\", int(bit))\n",
    "        iterator -= 1  \n",
    "    #print(\"\\tMantissa:\", f, \"=>\", mantissa)\n",
    "\n",
    "    bias = 127\n",
    "    return(S*mantissa*(2**(e-bias)))\n",
    "\n",
    "\n",
    "#bin_str = \"11000000101100000000000000000000\"  #\"1 00000000 11111111111111111111111\"\n",
    "print(\"Converting 32bit\", bin_str, \"into a single precision floating point.\")\n",
    "print(\"\\n\\t32bit\" ,bin_str, \"=>\", singleprecision(bin_str), \"floating point\")"
   ]
  },
  {
   "cell_type": "markdown",
   "metadata": {},
   "source": [
    "3\\. Write a program to determine the underflow and overflow limits (within a factor of 2) for python on your computer. \n",
    "\n",
    "**Tips**: define two variables inizialized to 1 and halve/double them enough time to exceed the under/over-flow limits  "
   ]
  },
  {
   "cell_type": "code",
   "execution_count": 2,
   "metadata": {},
   "outputs": [
    {
     "name": "stdout",
     "output_type": "stream",
     "text": [
      "Overflow it's reached after 1024 iteration with the number limit 8.98846567431158e+307\n"
     ]
    }
   ],
   "source": [
    "#Overflow\n",
    "\n",
    "iterator = 1\n",
    "x,y = 1.0, 1.0\n",
    "\n",
    "z = y\n",
    "y *= 2\n",
    "#print(\"\\nIteration:\", iterator,\"\\nz =\", z, \"x =\", x, \"y =\", y)\n",
    "while(x!=y):\n",
    "    z=x\n",
    "    x=y\n",
    "    y*=2\n",
    "    iterator+=1\n",
    "    #print(\"\\nIteration:\", iterator,\"\\nz =\", z, \"x =\", x, \"y =\", y)\n",
    "    \n",
    "print(\"Overflow it's reached after\", iterator-1, \"iteration with the number limit\", z)"
   ]
  },
  {
   "cell_type": "code",
   "execution_count": 4,
   "metadata": {},
   "outputs": [
    {
     "name": "stdout",
     "output_type": "stream",
     "text": [
      "Underflow it's reached after 1075 iteration with the number limit 5e-324\n"
     ]
    }
   ],
   "source": [
    "#Underflow\n",
    "\n",
    "iterator = 1\n",
    "x,y = 1,1\n",
    "\n",
    "z = x\n",
    "y /= 2\n",
    "#print(\"\\nIteration:\", iterator,\"\\nz =\", z, \"x =\", x, \"y =\", y)\n",
    "while(x!=y):\n",
    "    z=x\n",
    "    x=y\n",
    "    y/=2\n",
    "    iterator+=1\n",
    "    #print(\"\\nIteration:\", iterator,\"\\nz =\", z, \"x =\", x, \"y =\", y)\n",
    "    \n",
    "print(\"Underflow it's reached after\", iterator-1, \"iteration with the number limit\", z)"
   ]
  },
  {
   "cell_type": "markdown",
   "metadata": {},
   "source": [
    "4\\. Write a program to determine the machine precision\n",
    "\n",
    "**Tips**: define a new variable by adding a smaller and smaller value (proceeding similarly to prob. 2) to an original variable and check the point where the two are the same "
   ]
  },
  {
   "cell_type": "code",
   "execution_count": 21,
   "metadata": {},
   "outputs": [
    {
     "name": "stdout",
     "output_type": "stream",
     "text": [
      "Machine precision ε =  2.220446049250313e-16 is reached at iteration number 53\n"
     ]
    }
   ],
   "source": [
    "#Machine precision: smallest number ε such that the difference between  \n",
    "#                   1 and 1 + ε is nonzero ( => distance between 1 and the next  \n",
    "#                                                                 floating point number )\n",
    "\n",
    "\n",
    "origin=1\n",
    "eps=1\n",
    "\n",
    "iterator=1\n",
    "#print(\"\\nIteration:\", iterator, \"epsilon:\", eps)\n",
    "while(origin!=(origin+eps)):\n",
    "    eps/=2\n",
    "    iterator+=1\n",
    "    #print(\"\\nIteration:\", iterator, \"epsilon:\", eps)\n",
    "\n",
    "print(\"Machine precision ε = \", 2*eps, \"is reached at iteration number\", iterator-1)"
   ]
  },
  {
   "cell_type": "code",
   "execution_count": 35,
   "metadata": {},
   "outputs": [
    {
     "name": "stdout",
     "output_type": "stream",
     "text": [
      "Machine precision ε =  2.220446049250313e-16\n"
     ]
    }
   ],
   "source": [
    "import numpy as np\n",
    "\n",
    "print(\"Machine precision ε = \", np.finfo(float).eps)\n",
    "#print(np.finfo(np.float32).eps)                        #Idem but for 32 bit floating points"
   ]
  },
  {
   "cell_type": "markdown",
   "metadata": {},
   "source": [
    "5\\. Write a function that takes in input three parameters $a$, $b$ and $c$ and prints out the two solutions to the quadratic equation $ax^2+bx+c=0$ using the standard formula:\n",
    "$$\n",
    "x=\\frac{-b\\pm\\sqrt{b^2-4ac}}{2a}\n",
    "$$\n",
    "\n",
    "(a) use the program to compute the solution for $a=0.001$, $b=1000$ and $c=0.001$\n",
    "\n",
    "(b) re-express the standard solution formula by multiplying top and bottom by $-b\\mp\\sqrt{b^2-4ac}$ and again find the solution for $a=0.001$, $b=1000$ and $c=0.001$. How does it compare with what previously obtained? Why?\n",
    "\n",
    "(c) write a function that compute the roots of a quadratic equation accurately in all cases"
   ]
  },
  {
   "cell_type": "code",
   "execution_count": 9,
   "metadata": {},
   "outputs": [],
   "source": [
    "from math import sqrt\n",
    "\n",
    "def equationroots1(a,b,c): \n",
    "\n",
    "    discri = (b**2)-4*a*c\n",
    "    x1 = (-b+sqrt(discri))/(2*a)\n",
    "    x2 = (-b-sqrt(discri))/(2*a)\n",
    "    print(\"Quadratic equation: {}x²+{}x+{}=0\".format(a,b,c))\n",
    "    print(\"\\n=> Solutions [{},{}]\".format(x1,x2))  \n",
    "    \n",
    "    #print(\"\\n4ac:\", 4*a*c)\n",
    "    #print(\"\\n\\nNum +:\", (-b+sqrt(discri)))\n",
    "    #print(\"Denom +:\", (2*a))   \n",
    "\n",
    "    #print(\"\\n\\nNum -:\", (-b-sqrt(discri)))\n",
    "    #print(\"Denom -:\", (2*a)) "
   ]
  },
  {
   "cell_type": "code",
   "execution_count": 10,
   "metadata": {},
   "outputs": [
    {
     "name": "stdout",
     "output_type": "stream",
     "text": [
      "Quadratic equation: 0.001x²+1000x+0.001=0\n",
      "\n",
      "=> Solutions [-9.999894245993346e-07,-999999.999999]\n"
     ]
    }
   ],
   "source": [
    "# point (a)\n",
    "\n",
    "A,B,C = 0.001, 1000, 0.001\n",
    "equationroots1(A,B,C)"
   ]
  },
  {
   "cell_type": "code",
   "execution_count": 5,
   "metadata": {},
   "outputs": [
    {
     "name": "stdout",
     "output_type": "stream",
     "text": [
      "Quadratic equation: 0.001x²+1000x+0.001=0\n",
      "\n",
      "=> Solutions [-9.999894245993346e-07,-999999.9999990001]\n"
     ]
    }
   ],
   "source": [
    "# point (b)\n",
    "\n",
    "from math import sqrt\n",
    "\n",
    "def equationroots2(a,b,c): \n",
    "\n",
    "    discri = (b**2)-4*a*c\n",
    "    x1 = ((-b+sqrt(discri))*(-b-sqrt(discri)))/((2*a)*(-b-sqrt(discri)))\n",
    "    x2 = ((-b-sqrt(discri))*(-b+sqrt(discri)))/((2*a)*(-b+sqrt(discri)))\n",
    "    print(\"Quadratic equation: {}x²+{}x+{}=0\".format(a,b,c))\n",
    "    print(\"\\n=> Solutions [{},{}]\".format(x1,x2))  \n",
    "    \n",
    "    #print(\"\\n\\nNum +:\", (-b+sqrt(discri))*(-b-sqrt(discri)))\n",
    "    #print(\"Denom +:\", (2*a)*(-b-sqrt(discri)))   \n",
    "\n",
    "    #print(\"\\n\\nNum -:\", (-b-sqrt(discri))*(-b+sqrt(discri)))\n",
    "    #print(\"Denom -:\", (2*a)*(-b+sqrt(discri))) \n",
    "    \n",
    "    \n",
    "    \n",
    "    \n",
    "A,B,C = 0.001, 1000, 0.001\n",
    "equationroots2(A,B,C)"
   ]
  },
  {
   "cell_type": "markdown",
   "metadata": {},
   "source": [
    "(b) How does it compare with what previously obtained? Why?\n",
    "\n",
    "$x_2=-999999.9999990001$ has got more significant digist than the previously obtained because we are multipling and dividing the previous $x_2$ by $-b+\\sqrt{b^2-4ac}$, that is a number nearby zero. In this way the resuting numerator and denominator own more significant digits. $\\newline$\n",
    "\n",
    "$x_1=-9.999894245993346\\cdot10^{-7}$ is the same as the previously obtained because we are multipling and dividing the previous $x_1$ by $-b-\\sqrt{b^2-4ac}\\backsimeq-2000$, a number that doesn't cause any problems for the floating point precision in this case. Althought we can have some floating point precision's issues at the numerator : we have $-b+\\sqrt{b^2-4ac}$ that is a number nearby zero."
   ]
  },
  {
   "cell_type": "code",
   "execution_count": 43,
   "metadata": {},
   "outputs": [
    {
     "name": "stdout",
     "output_type": "stream",
     "text": [
      "Quadratic equation: 0.001x²+1000x+0.001=0\n",
      "\n",
      "=> Real and different roots: { -999999.999999 , -1.000000000001e-06 }\n"
     ]
    }
   ],
   "source": [
    "# point (c)\n",
    "\n",
    "from math import sqrt, copysign\n",
    "from pyfma import fma\n",
    "\n",
    "def productsDifference(a, b, c, d):    # fma(x. , y. , z.) -> computes (x.*y.) + z. with a single rounding\n",
    "    dc = d * c\n",
    "    f = fma(a, b, -dc)                 # f = ab - dc\n",
    "    return f \n",
    "\n",
    "    \n",
    "def equationroots3(x,y,z): \n",
    "    \n",
    "    print(\"Quadratic equation: {}x²+{}x+{}=0\".format(x, y, z))\n",
    "    discri = productsDifference(y, y, 4.0*x, z)   #y*y-4*x*z \n",
    "    sqrtval = sqrt(abs(discri)) \n",
    "\n",
    "    if discri > 0: \n",
    "        \n",
    "        Q = -0.5 * (y + copysign(sqrt(discri), y))\n",
    "        x1 = Q / x\n",
    "        x2 = z / Q\n",
    "        print(\"\\n=> Real and different roots: {\", x1, \",\", x2, \"}\" ) \n",
    "        \n",
    "    elif discri == 0: \n",
    "        print(\"\\n=> Real coincident roots:\", fma(-y, 1/(2*x), 0)) \n",
    "        \n",
    "    else:\n",
    "        print(\"\\n=> Complex Roots: {\", fma(-y, 1/(2*x), 0), \"+i\", sqrtval, \",\", fma(-y, 1/(2*x), 0), \n",
    "              \"-i\", sqrtval, \"}\") \n",
    "\n",
    "        \n",
    "        \n",
    "A,B,C = 0.001, 1000, 0.001\n",
    "equationroots3(A,B,C)      "
   ]
  },
  {
   "cell_type": "markdown",
   "metadata": {},
   "source": [
    "6\\. Write a program that implements the function $f(x)=x(x−1)$\n",
    "\n",
    "(a) Calculate the derivative of the function at the point $x = 1$ using the derivative definition:\n",
    "\n",
    "$$\n",
    "\\frac{{\\rm d}f}{{\\rm d}x} = \\lim_{\\delta\\to0} \\frac{f(x+\\delta)-f(x)}{\\delta}\n",
    "$$\n",
    "\n",
    "with $\\delta = 10^{−2}$. Calculate the true value of the same derivative analytically and compare with the answer your program gives. The two will not agree perfectly. Why not?\n",
    "\n",
    "(b) Repeat the calculation for $\\delta = 10^{−4}, 10^{−6}, 10^{−8}, 10^{−10}, 10^{−12}$ and $10^{−14}$. How does the accuracy scales with $\\delta$?"
   ]
  },
  {
   "cell_type": "code",
   "execution_count": 48,
   "metadata": {},
   "outputs": [],
   "source": [
    "f = lambda y: y*(y-1)\n",
    "\n",
    "def df_dy(y, delta):\n",
    "    #print(\"\\nf(y):\",f(y))\n",
    "    #print(\"\\nf(y+delta):\",f(y+delta))\n",
    "    #print(\"\\ny+delta:\", y+delta)\n",
    "    #print(\"\\ny+delta-1:\", y+delta-1)\n",
    "    #print(\"\\nf(y+delta)-f(y):\",f(y+delta)-f(y))\n",
    "    #print(\"\\n(f(y+delta)-f(y))/delta:\",(f(y+delta)-f(y))/delta)\n",
    "    return ((f(y+delta)-f(y))/delta)"
   ]
  },
  {
   "cell_type": "code",
   "execution_count": 49,
   "metadata": {},
   "outputs": [
    {
     "data": {
      "text/latex": [
       "Derivative of the function $f(x)=x(x-1)$ at the point $x=1$"
      ],
      "text/plain": [
       "<IPython.core.display.Latex object>"
      ]
     },
     "metadata": {},
     "output_type": "display_data"
    },
    {
     "data": {
      "text/latex": [
       " $\\diamond$ Computational solution with $\\delta = 10^{-2} \\Rightarrow 1.010000000000001$"
      ],
      "text/plain": [
       "<IPython.core.display.Latex object>"
      ]
     },
     "metadata": {},
     "output_type": "display_data"
    },
    {
     "data": {
      "text/latex": [
       "$\\diamond$ Analytical solution $\\Rightarrow 1$"
      ],
      "text/plain": [
       "<IPython.core.display.Latex object>"
      ]
     },
     "metadata": {},
     "output_type": "display_data"
    }
   ],
   "source": [
    "# point (a)\n",
    "\n",
    "from IPython.display import display, Latex\n",
    "\n",
    "𝛿 = 1e-2\n",
    "x = 1\n",
    "\n",
    "display(Latex(\"Derivative of the function $f(x)=x(x-1)$ at the point $x=1$\")) \n",
    "display(Latex(\" $\\diamond$ Computational solution with $\\delta = 10^{-2} \\Rightarrow %.15f$\" \n",
    "              % df_dy(x,𝛿)))\n",
    "display(Latex(\"$\\diamond$ Analytical solution $\\Rightarrow 1$\"))"
   ]
  },
  {
   "cell_type": "markdown",
   "metadata": {},
   "source": [
    "The two result do not perfectly agree for multiple reasons all related to the finite precision of floating point numbers:\n",
    "- Computing $f(x+\\delta)=f(1+10^{-2})$ we get that $x+\\delta-1=1+0.01-1=1.01-1=0.010000000000000009$ and this derives from the fact that we are subtracting two numbers really close to each other. $\\newline$\n",
    "- Computing $f(x+\\delta)=(x+\\delta)\\cdot(x+\\delta-1)=1.01\\cdot0.010000000000000009=0.010100000000000008$ \n",
    "$\\newline$This strange truncation of the result can be explained factorizing and recalling that the final sum it's done by the computer using the binary floating point rapresentation: $(1+0.01)\\cdot0.010000000000000009=0.00010000000000000009+0.010000000000000009=0.010100000000000008$  $\\newline$\n",
    "- Finally we compute $\\frac{f(x+\\delta)-f(x)}{\\delta}=1.010000000000001$, where the previous last final digit 8 has been truncated to 1: also this result can be explained noticing that the division it's done by the computer using the binary floating point rapresentation."
   ]
  },
  {
   "cell_type": "code",
   "execution_count": 63,
   "metadata": {
    "scrolled": true
   },
   "outputs": [
    {
     "data": {
      "text/latex": [
       "Derivative of the function $f(x)=x(x-1)$ at the point $x=1$:"
      ],
      "text/plain": [
       "<IPython.core.display.Latex object>"
      ]
     },
     "metadata": {},
     "output_type": "display_data"
    },
    {
     "data": {
      "text/latex": [
       "$\\diamond$ Computational solution with $\\delta = 10^{4} \\Rightarrow 1.0000999999999$"
      ],
      "text/plain": [
       "<IPython.core.display.Latex object>"
      ]
     },
     "metadata": {},
     "output_type": "display_data"
    },
    {
     "data": {
      "text/latex": [
       "$\\diamond$ Computational solution with $\\delta = 10^{6} \\Rightarrow 1.0000009999177$"
      ],
      "text/plain": [
       "<IPython.core.display.Latex object>"
      ]
     },
     "metadata": {},
     "output_type": "display_data"
    },
    {
     "data": {
      "text/latex": [
       "$\\diamond$ Computational solution with $\\delta = 10^{8} \\Rightarrow 1.0000000039225$"
      ],
      "text/plain": [
       "<IPython.core.display.Latex object>"
      ]
     },
     "metadata": {},
     "output_type": "display_data"
    },
    {
     "data": {
      "text/latex": [
       "$\\diamond$ Computational solution with $\\delta = 10^{10} \\Rightarrow 1.0000000828404$"
      ],
      "text/plain": [
       "<IPython.core.display.Latex object>"
      ]
     },
     "metadata": {},
     "output_type": "display_data"
    },
    {
     "data": {
      "text/latex": [
       "$\\diamond$ Computational solution with $\\delta = 10^{12} \\Rightarrow 1.0000889005833$"
      ],
      "text/plain": [
       "<IPython.core.display.Latex object>"
      ]
     },
     "metadata": {},
     "output_type": "display_data"
    },
    {
     "data": {
      "text/latex": [
       "$\\diamond$ Computational solution with $\\delta = 10^{14} \\Rightarrow 0.9992007221627$"
      ],
      "text/plain": [
       "<IPython.core.display.Latex object>"
      ]
     },
     "metadata": {},
     "output_type": "display_data"
    }
   ],
   "source": [
    "# point (b)\n",
    "\n",
    "from IPython.display import display, Latex\n",
    "\n",
    "l=[]\n",
    "\n",
    "display(Latex(\"Derivative of the function $f(x)=x(x-1)$ at the point $x=1$:\"))\n",
    "for i in range(4,15,2):    \n",
    "    display(Latex(\"$\\diamond$ Computational solution with $\\delta = 10^{%i} \\Rightarrow %.13f$\" \n",
    "                  %(i, df_dy(x,10**-i))))\n",
    "    l.append(df_dy(x,10**-i))\n",
    "    \n",
    "    \n",
    "scale=[]\n",
    "\n",
    "for j in range(5): \n",
    "    rapporto = abs(1-l[j])        # Distance from the true value\n",
    "    scale.append(rapporto)    "
   ]
  },
  {
   "cell_type": "markdown",
   "metadata": {},
   "source": [
    "The distances from the true value are [9.999999988985486e-05, 9.99917733279787e-07, 3.922528746258536e-09, 8.284037100736441e-08, 8.890058334132256e-05] and they scale approximately by two order of magnitude as delta changes."
   ]
  },
  {
   "cell_type": "markdown",
   "metadata": {},
   "source": [
    "7\\. Consider the integral of the semicircle of radius 1:\n",
    "$$\n",
    "I=\\int_{-1}^{1} \\sqrt(1-x^2) {\\rm d}x\n",
    "$$\n",
    "which it's known to be $I=\\frac{\\pi}{2}=1.57079632679...$.\n",
    "Alternatively we can use the Riemann definition of the integral:\n",
    "$$\n",
    "I=\\lim_{N\\to\\infty} \\sum_{k=1}^{N} h y_k \n",
    "$$\n",
    "\n",
    "with $h=2/N$ the width of each of the $N$ slices the domain is divided into and where\n",
    "$y_k$ is the value of the function at the $k-$th slice.\n",
    "\n",
    "(a) Write a programe to compute the integral with $N=100$. How does the result compares to the true value?\n",
    "\n",
    "(b) How much can $N$ be increased if the computation needs to be run in less than a second? What is the gain in running it for 1 minute? \n"
   ]
  },
  {
   "cell_type": "code",
   "execution_count": 55,
   "metadata": {},
   "outputs": [],
   "source": [
    "from math import sqrt\n",
    "\n",
    "def RiemannIntegral(a,b,N):\n",
    "    h = (b-a)/N\n",
    "    x_k = [a+h*(1/2+i) for i in range(N)]\n",
    "    y_k = [integrand(j) for j in x_k]\n",
    "    I = h*sum(y_k)\n",
    "    return(I)\n",
    "    \n",
    "integrand = lambda x: sqrt(1-x**2)\n",
    "\n",
    "\n",
    "#RiemannIntegral(-1,1,100)"
   ]
  },
  {
   "cell_type": "code",
   "execution_count": 57,
   "metadata": {},
   "outputs": [
    {
     "data": {
      "text/latex": [
       "Computational evaluation of $I=\\int_{-1}^{1}\\sqrt{1-x^2}dx \\Rightarrow I =$ 1.571283... with $N = 100$"
      ],
      "text/plain": [
       "<IPython.core.display.Latex object>"
      ]
     },
     "metadata": {},
     "output_type": "display_data"
    }
   ],
   "source": [
    "# point (a)\n",
    "\n",
    "from IPython.display import display, Latex\n",
    "\n",
    "display(Latex(\"Computational evaluation of $I=\\int_{-1}^{1}\\sqrt{1-x^2}dx \\Rightarrow I =$ %.6f... with $N = 100$\" \n",
    "      %RiemannIntegral(-1,1,100)))"
   ]
  },
  {
   "cell_type": "markdown",
   "metadata": {},
   "source": [
    "My value is 1.57128277... while the true value is $I=\\frac{\\pi}{2}=1.57079632679...$. $\\newline$My value, computed using the midpoint Riemann sum, exeeds the true value because the rectangles used for the integration overtake the shape of the integrationg function."
   ]
  },
  {
   "cell_type": "code",
   "execution_count": 45,
   "metadata": {},
   "outputs": [
    {
     "name": "stdout",
     "output_type": "stream",
     "text": [
      "\n",
      "In order to run the integration function in less than a second (Result may vary!):\n",
      "=> 𝑁 can be increased up to 159900 at most\n",
      "=> if 𝑁 = 159900 then the computational time needed is 0.880s\n"
     ]
    }
   ],
   "source": [
    "# point (b) part 1 :  How much can 𝑁 be increased if the computation needs to be run in less than a second?\n",
    "\n",
    "import timeit as t\n",
    "\n",
    "loopnum = 1                  #Increase loopnum for an higher accuracy -> the computation time increases a lot!\n",
    "prev_loop, looptime = 0, 0\n",
    "\n",
    "for n in range(150000,250000,100):\n",
    "    prev_loop = looptime\n",
    "    looptime = t.timeit(lambda: RiemannIntegral(-1,1,n), number = loopnum)\n",
    "    #print(\"\\n\\nN slices:\", n, \"\\tTime needed:\", looptime/loopnum)\n",
    "    #print(\"\\nprevious loop time:\", prev_loop)\n",
    "    \n",
    "    if(looptime/loopnum > 1):\n",
    "        break\n",
    "        \n",
    "        \n",
    "#print(\"\\n\" ,looptime/loopnum)    \n",
    "print(\"\\nIn order to run the integration function in less than a second (Result may vary!):\")\n",
    "print(\"=> 𝑁 can be increased up to\", n-100, \"at most\")\n",
    "print(\"=> if 𝑁 =\", n-100, \"then the computational time needed is %.3fs\" %prev_loop)\n"
   ]
  },
  {
   "cell_type": "code",
   "execution_count": 4,
   "metadata": {
    "scrolled": true
   },
   "outputs": [
    {
     "name": "stdout",
     "output_type": "stream",
     "text": [
      "\n",
      "\n",
      "N slices: 20000000 \tTime needed: 54.08350389700013\n",
      "\n",
      "previous loop time: 0\n",
      "\n",
      "\n",
      "N slices: 20010000 \tTime needed: 50.099642154000094\n",
      "\n",
      "previous loop time: 54.08350389700013\n",
      "\n",
      "\n",
      "N slices: 20020000 \tTime needed: 51.41744563300017\n",
      "\n",
      "previous loop time: 50.099642154000094\n",
      "\n",
      "\n",
      "N slices: 20030000 \tTime needed: 50.76832504699996\n",
      "\n",
      "previous loop time: 51.41744563300017\n",
      "\n",
      "\n",
      "N slices: 20040000 \tTime needed: 51.56855190400006\n",
      "\n",
      "previous loop time: 50.76832504699996\n",
      "\n",
      "\n",
      "N slices: 20050000 \tTime needed: 53.69690818699996\n",
      "\n",
      "previous loop time: 51.56855190400006\n",
      "\n",
      "\n",
      "N slices: 20060000 \tTime needed: 50.40315527500002\n",
      "\n",
      "previous loop time: 53.69690818699996\n",
      "\n",
      "\n",
      "N slices: 20070000 \tTime needed: 52.03341534600008\n",
      "\n",
      "previous loop time: 50.40315527500002\n",
      "\n",
      "\n",
      "N slices: 20080000 \tTime needed: 57.034074575000204\n",
      "\n",
      "previous loop time: 52.03341534600008\n",
      "\n",
      "\n",
      "N slices: 20090000 \tTime needed: 52.387049298999955\n",
      "\n",
      "previous loop time: 57.034074575000204\n",
      "\n",
      "\n",
      "N slices: 20100000 \tTime needed: 50.330687872\n",
      "\n",
      "previous loop time: 52.387049298999955\n",
      "\n",
      "\n",
      "N slices: 20110000 \tTime needed: 51.64791340399984\n",
      "\n",
      "previous loop time: 50.330687872\n",
      "\n",
      "\n",
      "N slices: 20120000 \tTime needed: 53.45285555500004\n",
      "\n",
      "previous loop time: 51.64791340399984\n",
      "\n",
      "\n",
      "N slices: 20130000 \tTime needed: 53.78441982000004\n",
      "\n",
      "previous loop time: 53.45285555500004\n",
      "\n",
      "\n",
      "N slices: 20140000 \tTime needed: 52.58383469099999\n",
      "\n",
      "previous loop time: 53.78441982000004\n",
      "\n",
      "\n",
      "N slices: 20150000 \tTime needed: 50.41363312400017\n",
      "\n",
      "previous loop time: 52.58383469099999\n",
      "\n",
      "\n",
      "N slices: 20160000 \tTime needed: 54.53297286399993\n",
      "\n",
      "previous loop time: 50.41363312400017\n",
      "\n",
      "\n",
      "N slices: 20170000 \tTime needed: 51.65015078600027\n",
      "\n",
      "previous loop time: 54.53297286399993\n",
      "\n",
      "\n",
      "N slices: 20180000 \tTime needed: 51.940946158000315\n",
      "\n",
      "previous loop time: 51.65015078600027\n",
      "\n",
      "\n",
      "N slices: 20190000 \tTime needed: 50.72198758900004\n",
      "\n",
      "previous loop time: 51.940946158000315\n",
      "\n",
      "\n",
      "N slices: 20200000 \tTime needed: 52.37659116199984\n",
      "\n",
      "previous loop time: 50.72198758900004\n",
      "\n",
      "\n",
      "N slices: 20210000 \tTime needed: 51.459460517000025\n",
      "\n",
      "previous loop time: 52.37659116199984\n",
      "\n",
      "\n",
      "N slices: 20220000 \tTime needed: 55.557670421999774\n",
      "\n",
      "previous loop time: 51.459460517000025\n",
      "\n",
      "\n",
      "N slices: 20230000 \tTime needed: 51.046264162999705\n",
      "\n",
      "previous loop time: 55.557670421999774\n",
      "\n",
      "\n",
      "N slices: 20240000 \tTime needed: 53.303723223999896\n",
      "\n",
      "previous loop time: 51.046264162999705\n",
      "\n",
      "\n",
      "N slices: 20250000 \tTime needed: 52.20340555099983\n",
      "\n",
      "previous loop time: 53.303723223999896\n",
      "\n",
      "\n",
      "N slices: 20260000 \tTime needed: 51.740518919999886\n",
      "\n",
      "previous loop time: 52.20340555099983\n",
      "\n",
      "\n",
      "N slices: 20270000 \tTime needed: 52.440335761999904\n",
      "\n",
      "previous loop time: 51.740518919999886\n",
      "\n",
      "\n",
      "N slices: 20280000 \tTime needed: 51.14952119700001\n",
      "\n",
      "previous loop time: 52.440335761999904\n",
      "\n",
      "\n",
      "N slices: 20290000 \tTime needed: 54.79524457400021\n",
      "\n",
      "previous loop time: 51.14952119700001\n",
      "\n",
      "\n",
      "N slices: 20300000 \tTime needed: 61.05558261899978\n",
      "\n",
      "previous loop time: 54.79524457400021\n",
      "\n",
      "\n",
      "time needed:54.795s with integral 1.57079632679979730447 and N = 20299000\n"
     ]
    }
   ],
   "source": [
    "# point (b) part 2 : What is the gain in running it for 1 minute? \n",
    "\n",
    "import timeit as t\n",
    "\n",
    "loopnum = 1                  #Increase loopnum for an higher accuracy -> the computation time increases a lot!\n",
    "prev_loop, looptime = 0, 0\n",
    "\n",
    "for n in range(20000000,30000000,10000):\n",
    "    prev_loop = looptime\n",
    "    looptime = t.timeit(lambda: RiemannIntegral(-1,1,n), number = loopnum)\n",
    "    print(\"\\n\\nN slices:\", n, \"\\tTime needed:\", looptime/loopnum)\n",
    "    print(\"\\nprevious loop time:\", prev_loop)\n",
    "    \n",
    "    if(looptime/loopnum > 60):\n",
    "        print(\"\\n\\n\\n=> Time needed: %.3fs with integral %.20f and N = %i\"\n",
    "              %(prev_loop, RiemannIntegral(-1,1,n-10000), n-10000))\n",
    "        break\n",
    "        "
   ]
  }
 ],
 "metadata": {
  "kernelspec": {
   "display_name": "Python 3",
   "language": "python",
   "name": "python3"
  },
  "language_info": {
   "codemirror_mode": {
    "name": "ipython",
    "version": 3
   },
   "file_extension": ".py",
   "mimetype": "text/x-python",
   "name": "python",
   "nbconvert_exporter": "python",
   "pygments_lexer": "ipython3",
   "version": "3.8.10"
  }
 },
 "nbformat": 4,
 "nbformat_minor": 2
}
