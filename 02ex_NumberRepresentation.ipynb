{
 "cells": [
  {
   "cell_type": "markdown",
   "metadata": {},
   "source": [
    "1\\. Write a function that converts number representation (bin<->dec<->hex)"
   ]
  },
  {
   "cell_type": "code",
   "execution_count": 18,
   "metadata": {},
   "outputs": [],
   "source": [
    "def rep_converter(n, conversion):\n",
    "    if conversion == \"BinToDec\":\n",
    "        dec, i = 0, 1\n",
    "        for s in str(n):\n",
    "            dec += int(s) * 2**(len(str(n)) - i)\n",
    "            i += 1\n",
    "        print(dec)\n",
    "    \n",
    "    elif conversion == \"DecToBin\":\n",
    "        if n > 1:\n",
    "            rep_converter(n//2, conversion)\n",
    "        print(n%2,end='')\n",
    "    \n",
    "    elif conversion == \"HexToDec\":\n",
    "        dec, i, val = 0, 1, 0\n",
    "        for s in str(n):\n",
    "            if s == 'a':\n",
    "                val = 10\n",
    "            elif s == 'b':\n",
    "                val = 11\n",
    "            elif s == 'c':\n",
    "                val = 12\n",
    "            elif s == 'd':\n",
    "                val = 13\n",
    "            elif s == 'e':\n",
    "                val = 14\n",
    "            elif s == 'f':\n",
    "                val = 15\n",
    "            else:\n",
    "                val = int(s)\n",
    "            dec += val * 16**(len(str(n)) - i)\n",
    "            i += 1\n",
    "        print(dec)\n",
    "\n",
    "    elif conversion == \"DecToHex\":\n",
    "        if n > 15:\n",
    "            rep_converter(n//16, conversion)\n",
    "        if n%16 == 10:\n",
    "            print('a',end='')\n",
    "        elif n%16 == 11:\n",
    "            print('b',end='')\n",
    "        elif n%16 == 12:\n",
    "            print('c',end='')\n",
    "        elif n%16 == 13:\n",
    "            print('d',end='')\n",
    "        elif n%16 == 14:\n",
    "            print('e',end='')\n",
    "        elif n%16 == 15:\n",
    "            print('f',end='')\n",
    "        else:\n",
    "            print(n%16,end='')\n",
    "    else:\n",
    "        print(\"Error on input\")"
   ]
  },
  {
   "cell_type": "code",
   "execution_count": 19,
   "metadata": {},
   "outputs": [
    {
     "name": "stdout",
     "output_type": "stream",
     "text": [
      "b/10110101 to dec:\n",
      "181\n",
      "\n",
      "57 to bin:\n",
      "111001\n",
      "\n",
      "x/e23a5 to dec:\n",
      "926629\n",
      "\n",
      "43164 to hex:\n",
      "a89c"
     ]
    }
   ],
   "source": [
    "x = 57\n",
    "print('b/10110101 to dec:')\n",
    "rep_converter('10110101',\"BinToDec\")\n",
    "print('\\n57 to bin:')\n",
    "rep_converter(x,\"DecToBin\")\n",
    "print('\\n\\nx/e23a5 to dec:')\n",
    "rep_converter('e23a5',\"HexToDec\")\n",
    "print('\\n43164 to hex:')\n",
    "rep_converter(43164,\"DecToHex\")"
   ]
  },
  {
   "cell_type": "markdown",
   "metadata": {},
   "source": [
    "2\\. Write a function that converts a 32 bit word into a single precision floating point (i.e. interprets the various bits as sign, mantissa and exponent)"
   ]
  },
  {
   "cell_type": "code",
   "execution_count": 20,
   "metadata": {},
   "outputs": [],
   "source": [
    "import math"
   ]
  },
  {
   "cell_type": "code",
   "execution_count": 21,
   "metadata": {},
   "outputs": [],
   "source": [
    "def word2float(x):\n",
    "    sign = int(x[0])\n",
    "    if sign == 1:\n",
    "        sign = -1\n",
    "    elif sign == 0:\n",
    "        sign = 1\n",
    "    \n",
    "    base = 0\n",
    "    for i in range(1,9):\n",
    "        base += int(x[i]) * 2**(8-i)\n",
    "    base = base - 127\n",
    "    \n",
    "    mantissa = 1\n",
    "    for i in range(9,32):\n",
    "        mantissa += int(x[i]) * 2**(8-i)\n",
    "    \n",
    "    # print(sign)\n",
    "    # print(base)\n",
    "    # print(mantissa)\n",
    "    \n",
    "    return sign * (2**base) * mantissa"
   ]
  },
  {
   "cell_type": "markdown",
   "metadata": {},
   "source": [
    "3\\. Write a program to determine the underflow and overflow limits (within a factor of 2) for python on your computer. \n",
    "\n",
    "**Tips**: define two variables inizialized to 1 and halve/double them enough time to exceed the under/over-flow limits  "
   ]
  },
  {
   "cell_type": "code",
   "execution_count": 22,
   "metadata": {},
   "outputs": [
    {
     "name": "stdout",
     "output_type": "stream",
     "text": [
      "Overflow limit: 8.98846567431158e+307\n",
      "Underflow limit: 5e-324\n"
     ]
    }
   ],
   "source": [
    "x = 1\n",
    "while x < float('Inf'):\n",
    "    if x*2 == float('Inf'):\n",
    "        print('Overflow limit:',x)\n",
    "    x *= 2.\n",
    "\n",
    "# print(x)\n",
    "\n",
    "x = 1\n",
    "while x != 0:\n",
    "    if x/2 == 0:\n",
    "        print('Underflow limit:',x)\n",
    "    x /= 2\n",
    "\n",
    "#print(x)"
   ]
  },
  {
   "cell_type": "markdown",
   "metadata": {},
   "source": [
    "4\\. Write a program to determine the machine precision\n",
    "\n",
    "**Tips**: define a new variable by adding a smaller and smaller value (proceeding similarly to prob. 2) to an original variable and check the point where the two are the same "
   ]
  },
  {
   "cell_type": "code",
   "execution_count": 23,
   "metadata": {},
   "outputs": [
    {
     "name": "stdout",
     "output_type": "stream",
     "text": [
      "Machine precision: 1.1102230246251565e-16 ÷ 5.551115123125783e-17\n"
     ]
    }
   ],
   "source": [
    "x = 1.0\n",
    "y = 1.1\n",
    "epsilon = x/2\n",
    "\n",
    "while x != y:\n",
    "    epsilon = epsilon/2\n",
    "    y = x + epsilon\n",
    "    # print(epsilon)\n",
    "\n",
    "print(\"Machine precision:\", epsilon,'÷',epsilon/2)"
   ]
  },
  {
   "cell_type": "markdown",
   "metadata": {},
   "source": [
    "5\\. Write a function that takes in input three parameters $a$, $b$ and $c$ and prints out the two solutions to the quadratic equation $ax^2+bx+c=0$ using the standard formula:\n",
    "$$\n",
    "x=\\frac{-b\\pm\\sqrt{b^2-4ac}}{2a}\n",
    "$$\n",
    "\n",
    "(a) use the program to compute the solution for $a=0.001$, $b=1000$ and $c=0.001$\n",
    "\n",
    "(b) re-express the standard solution formula by multiplying top and bottom by $-b\\mp\\sqrt{b^2-4ac}$ and again find the solution for $a=0.001$, $b=1000$ and $c=0.001$. How does it compare with what previously obtained? Why?\n",
    "\n",
    "(c) write a function that compute the roots of a quadratic equation accurately in all cases"
   ]
  },
  {
   "cell_type": "code",
   "execution_count": 24,
   "metadata": {},
   "outputs": [],
   "source": [
    "from math import sqrt"
   ]
  },
  {
   "cell_type": "code",
   "execution_count": 25,
   "metadata": {},
   "outputs": [],
   "source": [
    "def quad_solution_1(a, b, c):\n",
    "    sqrt_delta = sqrt(b**2 - 4*a*c)\n",
    "    \n",
    "    x_1 = (-b + sqrt_delta)/(2*a)\n",
    "    x_2 = (-b - sqrt_delta)/(2*a)\n",
    "    \n",
    "    return x_1, x_2\n",
    "\n",
    "def quad_solution_2(a, b, c):\n",
    "    sqrt_delta = sqrt(b**2 - 4*a*c)\n",
    "    \n",
    "    num = 2*c\n",
    "    x_1 = num / (-b - sqrt_delta)\n",
    "    x_2 = num / (-b + sqrt_delta)\n",
    "    \n",
    "    return x_1, x_2\n",
    "\n",
    "# Stable\n",
    "def quad_solution_3(a, b, c):\n",
    "    sqrt_delta = sqrt(b**2 - 4*a*c)\n",
    "    \n",
    "    num = 2*c\n",
    "    \n",
    "    if b>0:\n",
    "        den = -b - sqrt_delta\n",
    "    else:\n",
    "        den = -b + sqrt_delta\n",
    "    \n",
    "    return num/den, den/(2*a)"
   ]
  },
  {
   "cell_type": "code",
   "execution_count": 26,
   "metadata": {},
   "outputs": [
    {
     "name": "stdout",
     "output_type": "stream",
     "text": [
      "-9.999894245993346e-07\n",
      "-999999.999999\n",
      "\n",
      "-1.000000000001e-06\n",
      "-1000010.5755125057\n",
      "\n",
      "Stable solution\n",
      "x_1: -1.000000000001e-06\n",
      "x_2: -999999.999999\n"
     ]
    }
   ],
   "source": [
    "x_1, x_2 = quad_solution_1(0.001, 1000, 0.001)\n",
    "print(x_1)\n",
    "print(x_2)\n",
    "\n",
    "x_1, x_2 = quad_solution_2(0.001, 1000, 0.001)\n",
    "print('')\n",
    "print(x_1)\n",
    "print(x_2)\n",
    "\n",
    "# Stable\n",
    "x_1, x_2 = quad_solution_3(0.001, 1000, 0.001)\n",
    "print('')\n",
    "print('Stable solution')\n",
    "print('x_1:',x_1)\n",
    "print('x_2:',x_2)"
   ]
  },
  {
   "cell_type": "markdown",
   "metadata": {},
   "source": [
    "6\\. Write a program that implements the function $f(x)=x(x−1)$\n",
    "\n",
    "(a) Calculate the derivative of the function at the point $x = 1$ using the derivative definition:\n",
    "\n",
    "$$\n",
    "\\frac{{\\rm d}f}{{\\rm d}x} = \\lim_{\\delta\\to0} \\frac{f(x+\\delta)-f(x)}{\\delta}\n",
    "$$\n",
    "\n",
    "with $\\delta = 10^{−2}$. Calculate the true value of the same derivative analytically and compare with the answer your program gives. The two will not agree perfectly. Why not?\n",
    "\n",
    "(b) Repeat the calculation for $\\delta = 10^{−4}, 10^{−6}, 10^{−8}, 10^{−10}, 10^{−12}$ and $10^{−14}$. How does the accuracy scales with $\\delta$?"
   ]
  },
  {
   "cell_type": "code",
   "execution_count": 27,
   "metadata": {},
   "outputs": [],
   "source": [
    "import matplotlib.pyplot as plt"
   ]
  },
  {
   "cell_type": "code",
   "execution_count": 28,
   "metadata": {},
   "outputs": [
    {
     "name": "stdout",
     "output_type": "stream",
     "text": [
      "Numerically computed value (delta=10e-2): 1.100000000000001\n",
      "Analytically computed value: 1\n",
      "Numerically computed value (delta=10e-4): 1.0009999999998895\n",
      "Numerically computed value (delta=10e-6): 1.0000100000065513\n",
      "Numerically computed value (delta=10e-8): 1.0000001005838672\n",
      "Numerically computed value (delta=10e-10): 1.000000083740371\n",
      "Numerically computed value (delta=10e-12): 1.000000082750371\n",
      "Numerically computed value (delta=10e-14): 0.9992007221627407\n"
     ]
    }
   ],
   "source": [
    "def func(x):\n",
    "    return x*(x-1)\n",
    "\n",
    "def dev_func(x):\n",
    "    return 2*x-1\n",
    "\n",
    "def derivative(func,x,delta):\n",
    "    return (func(x+delta) - func(x)) / delta\n",
    "\n",
    "print(\"Numerically computed value (delta=10e-2):\", derivative(func,1,10e-2))\n",
    "print(\"Analytically computed value:\", dev_func(1))\n",
    "\n",
    "print(\"Numerically computed value (delta=10e-4):\", derivative(func,1,10e-4))\n",
    "print(\"Numerically computed value (delta=10e-6):\", derivative(func,1,10e-6))\n",
    "print(\"Numerically computed value (delta=10e-8):\", derivative(func,1,10e-8))\n",
    "print(\"Numerically computed value (delta=10e-10):\", derivative(func,1,10e-10))\n",
    "print(\"Numerically computed value (delta=10e-12):\", derivative(func,1,10e-12))\n",
    "print(\"Numerically computed value (delta=10e-14):\", derivative(func,1,10e-14))"
   ]
  },
  {
   "cell_type": "code",
   "execution_count": 29,
   "metadata": {},
   "outputs": [
    {
     "data": {
      "image/png": "[encoded data removed]",
      "text/plain": [
       "<Figure size 432x288 with 1 Axes>"
      ]
     },
     "metadata": {
      "needs_background": "light"
     },
     "output_type": "display_data"
    }
   ],
   "source": [
    "delta = [10**(-i/10) for i in range(2,150)]\n",
    "acc = [derivative(func,1,d) - dev_func(1) for d in delta]\n",
    "\n",
    "plt.clf()\n",
    "plt.plot(delta,acc)\n",
    "plt.xscale('log')\n",
    "plt.yscale('log')\n",
    "plt.xlabel(r'$\\delta$')\n",
    "plt.ylabel('Error')\n",
    "plt.title('Error in derivative computing')\n",
    "plt.show()"
   ]
  },
  {
   "cell_type": "markdown",
   "metadata": {},
   "source": [
    "7\\. Consider the integral of the semicircle of radius 1:\n",
    "$$\n",
    "I=\\int_{-1}^{1} \\sqrt(1-x^2) {\\rm d}x\n",
    "$$\n",
    "which it's known to be $I=\\frac{\\pi}{2}=1.57079632679...$.\n",
    "Alternatively we can use the Riemann definition of the integral:\n",
    "$$\n",
    "I=\\lim_{N\\to\\infty} \\sum_{k=1}^{N} h y_k \n",
    "$$\n",
    "\n",
    "with $h=2/N$ the width of each of the $N$ slices the domain is divided into and where\n",
    "$y_k$ is the value of the function at the $k-$th slice.\n",
    "\n",
    "(a) Write a programe to compute the integral with $N=100$. How does the result compares to the true value?\n",
    "\n",
    "(b) How much can $N$ be increased if the computation needs to be run in less than a second? What is the gain in running it for 1 minute? \n"
   ]
  },
  {
   "cell_type": "code",
   "execution_count": 30,
   "metadata": {},
   "outputs": [],
   "source": [
    "from math import sqrt,pi"
   ]
  },
  {
   "cell_type": "code",
   "execution_count": 32,
   "metadata": {},
   "outputs": [
    {
     "name": "stdout",
     "output_type": "stream",
     "text": [
      "Wall time: 0 ns\n",
      "I = 1.5691342555492507 \n",
      "Error = 0.0016620712456458797\n"
     ]
    }
   ],
   "source": [
    "x_min = -1\n",
    "x_max =  1\n",
    "%time\n",
    "N = 100\n",
    "integral = 0\n",
    "xs = [x_min + (x_max-x_min)*i/N for i in range(N+1)]    \n",
    "for i in range(N):\n",
    "    integral += (xs[i+1]-xs[i])*sqrt(1-xs[i]**2)\n",
    "print('I =',integral,'\\nError =',pi/2-integral)"
   ]
  },
  {
   "cell_type": "code",
   "execution_count": 33,
   "metadata": {},
   "outputs": [
    {
     "name": "stdout",
     "output_type": "stream",
     "text": [
      "Wall time: 0 ns\n",
      "I = 1.570794663715299 \n",
      "Error = 1.663079597591377e-06\n"
     ]
    }
   ],
   "source": [
    "%time\n",
    "N = 10000\n",
    "integral = 0\n",
    "xs = [x_min + (x_max-x_min)*i/N for i in range(N+1)]    \n",
    "for i in range(N):\n",
    "    integral += (xs[i+1]-xs[i])*sqrt(1-xs[i]**2)\n",
    "print('I =',integral,'\\nError =',pi/2-integral)"
   ]
  },
  {
   "cell_type": "code",
   "execution_count": 34,
   "metadata": {},
   "outputs": [
    {
     "name": "stdout",
     "output_type": "stream",
     "text": [
      "Wall time: 0 ns\n",
      "I = 1.5707963251318608 \n",
      "Error = 1.663035709142946e-09\n"
     ]
    }
   ],
   "source": [
    "\n",
    "%time\n",
    "N = 1000000\n",
    "integral = 0\n",
    "xs = [x_min + (x_max-x_min)*i/N for i in range(N+1)]    \n",
    "for i in range(N):\n",
    "    integral += (xs[i+1]-xs[i])*sqrt(1-xs[i]**2)\n",
    "print('I =',integral,'\\nError =',pi/2-integral)"
   ]
  },
  {
   "cell_type": "code",
   "execution_count": 35,
   "metadata": {},
   "outputs": [
    {
     "name": "stdout",
     "output_type": "stream",
     "text": [
      "Wall time: 0 ns\n",
      "I = 1.5707963267937544 \n",
      "Error = 1.142197447734361e-12\n"
     ]
    }
   ],
   "source": [
    "%time\n",
    "N = 100000000\n",
    "integral = 0\n",
    "xs = [x_min + (x_max-x_min)*i/N for i in range(N+1)]    \n",
    "for i in range(N):\n",
    "    integral += (xs[i+1]-xs[i])*sqrt(1-xs[i]**2)\n",
    "print('I =',integral,'\\nError =',pi/2-integral)"
   ]
  }
 ],
 "metadata": {
  "kernelspec": {
   "display_name": "Python 3",
   "language": "python",
   "name": "python3"
  },
  "language_info": {
   "codemirror_mode": {
    "name": "ipython",
    "version": 3
   },
   "file_extension": ".py",
   "mimetype": "text/x-python",
   "name": "python",
   "nbconvert_exporter": "python",
   "pygments_lexer": "ipython3",
   "version": "3.8.8"
  }
 },
 "nbformat": 4,
 "nbformat_minor": 2
}
