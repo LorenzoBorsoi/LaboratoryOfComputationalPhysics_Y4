{
 "cells": [
  {
   "cell_type": "markdown",
   "metadata": {},
   "source": [
    "1\\. Write a function that converts number representation (bin<->dec<->hex)"
   ]
  },
  {
   "cell_type": "code",
   "execution_count": 1,
   "metadata": {},
   "outputs": [
    {
     "name": "stdout",
     "output_type": "stream",
     "text": [
      "0x1d\n"
     ]
    }
   ],
   "source": [
    "def conv(n, base_i, base_f):\n",
    "    a = int(str(n),base_i)\n",
    "    if base_f==2:\n",
    "        return bin(a)\n",
    "    elif base_f==10:\n",
    "        return a\n",
    "    elif base_f==16:\n",
    "        return hex(a)\n",
    "    else:\n",
    "        return \"base no supported by the function\"\n",
    "\n",
    "x = conv(11101,2,16) #number, initial base, final base\n",
    "print(x)\n"
   ]
  },
  {
   "cell_type": "markdown",
   "metadata": {},
   "source": [
    "2\\. Write a function that converts a 32 bit word into a single precision floating point (i.e. interprets the various bits as sign, mantissa and exponent)"
   ]
  },
  {
   "cell_type": "code",
   "execution_count": 2,
   "metadata": {},
   "outputs": [
    {
     "name": "stdout",
     "output_type": "stream",
     "text": [
      "11000001100100011101111100111011 converted into a single precision floating point becomes -18.233997344970703\n"
     ]
    }
   ],
   "source": [
    "\n",
    "def convert(word):   #(s | e | m)\n",
    "    from functools import reduce\n",
    "    strB_segno = word[0]\n",
    "    strB_exp = [x for x in word[1:9]]\n",
    "    strB_mantissa = [x for x in word[9:]]\n",
    "    bias = 127\n",
    "\n",
    "    segno = (-1)**int(strB_segno)\n",
    "    B_exp = ''.join(map(str, strB_exp))\n",
    "    B_mantissa = ''.join(map(str, strB_mantissa))\n",
    "    exp = int(B_exp,2)\n",
    "\n",
    "    e = exp-bias\n",
    "    strB_INTEGER = [x for x in word[9:(9+e)]]\n",
    "    strB_INTEGER.insert(0,1)\n",
    "    strB_FRACTIONAL = [x for x in word[(9+e):]]\n",
    "    B_INTEGER = ''.join(map(str, strB_INTEGER))\n",
    "    integer = int(B_INTEGER,2)\n",
    "    f = list(range(len(strB_FRACTIONAL)))\n",
    "    for i in range (1,len(strB_FRACTIONAL)):\n",
    "        f[i] = int(strB_FRACTIONAL[i-1])*(2**(-1*i))\n",
    "\n",
    "    def my_add(x, y):\n",
    "        return x + y\n",
    "    fractional=reduce(my_add, f)\n",
    "\n",
    "    return segno*(integer+fractional)\n",
    "\n",
    "BIN_number = \"11000001100100011101111100111011\"\n",
    "DEC_number = convert(BIN_number)\n",
    "print( BIN_number, \"converted into a single precision floating point becomes\", DEC_number)"
   ]
  },
  {
   "cell_type": "markdown",
   "metadata": {},
   "source": [
    "3\\. Write a program to determine the underflow and overflow limits (within a factor of 2) for python on your computer. \n",
    "\n",
    "**Tips**: define two variables inizialized to 1 and halve/double them enough time to exceed the under/over-flow limits  "
   ]
  },
  {
   "cell_type": "code",
   "execution_count": 3,
   "metadata": {},
   "outputs": [
    {
     "name": "stdout",
     "output_type": "stream",
     "text": [
      "The overflow limit (within a factor of 2) is: 1.3407807929942597e+154\n",
      "The overflow limit (within a factor of 2) is: 7.458340731200207e-155\n"
     ]
    }
   ],
   "source": [
    "a=b=2.0\n",
    "try:\n",
    "    for i in range(1000):\n",
    "            a=a**2\n",
    "except:\n",
    "        print(\"The overflow limit (within a factor of 2) is:\", a)\n",
    "\n",
    "try:\n",
    "    for i in range(1000):\n",
    "            b=b**(-2)\n",
    "except:\n",
    "        print(\"The overflow limit (within a factor of 2) is:\", b)"
   ]
  },
  {
   "cell_type": "markdown",
   "metadata": {},
   "source": [
    "4\\. Write a program to determine the machine precision\n",
    "\n",
    "**Tips**: define a new variable by adding a smaller and smaller value (proceeding similarly to prob. 2) to an original variable and check the point where the two are the same "
   ]
  },
  {
   "cell_type": "code",
   "execution_count": 4,
   "metadata": {},
   "outputs": [
    {
     "name": "stdout",
     "output_type": "stream",
     "text": [
      "The machine precision is: 1e-16\n"
     ]
    }
   ],
   "source": [
    "y = i = 1\n",
    "x = 0\n",
    "while x!=y:\n",
    "        x = 1\n",
    "        x = x+1*(10**(-i))\n",
    "        i = i+1\n",
    "print(\"The machine precision is:\", 10**(-i+1))"
   ]
  },
  {
   "cell_type": "markdown",
   "metadata": {},
   "source": [
    "5\\. Write a function that takes in input three parameters $a$, $b$ and $c$ and prints out the two solutions to the quadratic equation $ax^2+bx+c=0$ using the standard formula:\n",
    "$$\n",
    "x=\\frac{-b\\pm\\sqrt{b^2-4ac}}{2a}\n",
    "$$\n",
    "\n",
    "(a) use the program to compute the solution for $a=0.001$, $b=1000$ and $c=0.001$\n",
    "\n",
    "(b) re-express the standard solution formula by multiplying top and bottom by $-b\\mp\\sqrt{b^2-4ac}$ and again find the solution for $a=0.001$, $b=1000$ and $c=0.001$. How does it compare with what previously obtained? Why?\n",
    "\n",
    "(c) write a function that compute the roots of a quadratic equation accurately in all cases"
   ]
  },
  {
   "cell_type": "code",
   "execution_count": 5,
   "metadata": {},
   "outputs": [
    {
     "name": "stdout",
     "output_type": "stream",
     "text": [
      "-9.999894245993346e-07 -999999.999999\n",
      "-999989.0859481583 -9.999785106639132e-07\n",
      "-36\n",
      "delta < 0, immaginary solution\n",
      "(-0.4999999999999999+1.5j) (-0.5000000000000001-1.5j)\n"
     ]
    }
   ],
   "source": [
    "#       a)\n",
    "def root1(a, b, c):\n",
    "        delta = (b**2)-4*a*c\n",
    "        x1 = (-b+delta**(1/2))/(2*a)\n",
    "        x2 = (-b-delta**(1/2))/(2*a)\n",
    "        return x1,x2\n",
    "p1,p2=root1(0.001,1000,0.001)\n",
    "print(p1, p2)\n",
    "\n",
    "#       b)\n",
    "def root2(a, b, c):\n",
    "        deltas = ((b**2)-4*a*c)**(1/2)\n",
    "        x1 = ((b**2)-(deltas**2))/(2*a*(-b+deltas))\n",
    "        x2 = ((b**2)-(deltas**2))/(2*a*(-b-deltas))\n",
    "        return x1,x2\n",
    "p1,p2=root2(0.001,1000,0.001)\n",
    "print(p1, p2)\n",
    "\n",
    "#       c)\n",
    "def root3(a, b, c):\n",
    "        delta = (b**2)-4*a*c\n",
    "        print(delta)\n",
    "        if delta>0:\n",
    "                x1 = (-b+delta**(1/2))/(2*a)\n",
    "                x2 = (-b-delta**(1/2))/(2*a)\n",
    "                return x1,x2\n",
    "        elif delta==0:\n",
    "                print(\"both points are equal\")\n",
    "                return -b/(2*a),-b/(2*a) \n",
    "        else:\n",
    "                x1 = (-b+delta**(1/2))/(2*a)\n",
    "                x2 = (-b-delta**(1/2))/(2*a)\n",
    "                print(\"delta < 0, immaginary solution\")\n",
    "                return x1,x2\n",
    "                \n",
    "\n",
    "p1,p2=root3(2, 2, 5)\n",
    "print(p1, p2)"
   ]
  },
  {
   "cell_type": "markdown",
   "metadata": {},
   "source": [
    "6\\. Write a program that implements the function $f(x)=x(x−1)$\n",
    "\n",
    "(a) Calculate the derivative of the function at the point $x = 1$ using the derivative definition:\n",
    "\n",
    "$$\n",
    "\\frac{{\\rm d}f}{{\\rm d}x} = \\lim_{\\delta\\to0} \\frac{f(x+\\delta)-f(x)}{\\delta}\n",
    "$$\n",
    "\n",
    "with $\\delta = 10^{−2}$. Calculate the true value of the same derivative analytically and compare with the answer your program gives. The two will not agree perfectly. Why not?\n",
    "\n",
    "(b) Repeat the calculation for $\\delta = 10^{−4}, 10^{−6}, 10^{−8}, 10^{−10}, 10^{−12}$ and $10^{−14}$. How does the accuracy scales with $\\delta$?"
   ]
  },
  {
   "cell_type": "code",
   "execution_count": 6,
   "metadata": {},
   "outputs": [
    {
     "name": "stdout",
     "output_type": "stream",
     "text": [
      "the derivative of the function at the point x = 1 for delta = 0.01 is: 1.010000000000001 \n",
      "\n",
      "delta= 0.0001 limit value= 1.0000999999998899\n",
      "delta= 1.0000000000000002e-06 limit value= 1.000000999917733\n",
      "delta= 1e-08 limit value= 1.0000000039225287\n",
      "delta= 1.0000000000000002e-10 limit value= 1.0000000828403708\n",
      "delta= 1.0000000000000002e-12 limit value= 1.000088900583341\n",
      "delta= 1.0000000000000002e-14 limit value= 0.9992007221626507\n"
     ]
    }
   ],
   "source": [
    "#   a)\n",
    "def lim_inc(x,d):\n",
    "        value = ((x+d)*(x+d-1)-x*(x-1))/d\n",
    "        return value\n",
    "delta,x = 0.01, 1\n",
    "l = lim_inc(x,delta)\n",
    "print(\"the derivative of the function at the point x =\", x, \"for delta =\", delta, \"is:\", l, \"\\n\")\n",
    "\n",
    "#   b)\n",
    "for i in range(2,8):\n",
    "        l = lim_inc(x,delta**i)\n",
    "        print(\"delta=\", delta**i, \"limit value=\", l)"
   ]
  },
  {
   "cell_type": "markdown",
   "metadata": {},
   "source": [
    "7\\. Consider the integral of the semicircle of radius 1:\n",
    "$$\n",
    "I=\\int_{-1}^{1} \\sqrt(1-x^2) {\\rm d}x\n",
    "$$\n",
    "which it's known to be $I=\\frac{\\pi}{2}=1.57079632679...$.\n",
    "Alternatively we can use the Riemann definition of the integral:\n",
    "$$\n",
    "I=\\lim_{N\\to\\infty} \\sum_{k=1}^{N} h y_k \n",
    "$$\n",
    "\n",
    "with $h=2/N$ the width of each of the $N$ slices the domain is divided into and where\n",
    "$y_k$ is the value of the function at the $k-$th slice.\n",
    "\n",
    "(a) Write a programe to compute the integral with $N=100$. How does the result compares to the true value?\n",
    "\n",
    "(b) How much can $N$ be increased if the computation needs to be run in less than a second? What is the gain in running it for 1 minute? \n"
   ]
  },
  {
   "cell_type": "code",
   "execution_count": 7,
   "metadata": {},
   "outputs": [
    {
     "name": "stdout",
     "output_type": "stream",
     "text": [
      "with 100 iterations the value of the integral is: 1.5691342555492498\n",
      "\n",
      "0.0 seconds passed           N = 150       value= 1.5691342555492498\n",
      "0.0 seconds passed           N = 225       value= 1.5698914250952571\n",
      "0.0 seconds passed           N = 337       value= 1.5703036936399357\n",
      "0.0 seconds passed           N = 505       value= 1.5705275499396005\n",
      "0.0 seconds passed           N = 757       value= 1.5706497970058566\n",
      "0.0 seconds passed           N = 1135       value= 1.570716483818677\n",
      "0.0 seconds passed           N = 1702       value= 1.570752835888941\n",
      "0.008000373840332031 seconds passed           N = 2553       value= 1.5707726424854869\n",
      "0.002015829086303711 seconds passed           N = 3829       value= 1.5707834345350342\n",
      "0.002900838851928711 seconds passed           N = 5743       value= 1.5707893077067159\n",
      "0.00516963005065918 seconds passed           N = 8614       value= 1.570792505567876\n",
      "0.0010056495666503906 seconds passed           N = 12921       value= 1.5707942465938554\n",
      "0.00800013542175293 seconds passed           N = 19381       value= 1.5707951944741807\n",
      "0.02400350570678711 seconds passed           N = 29071       value= 1.5707957104127466\n",
      "0.02400040626525879 seconds passed           N = 43606       value= 1.5707959912699376\n",
      "0.031556129455566406 seconds passed           N = 65409       value= 1.5707961441549791\n",
      "0.048044681549072266 seconds passed           N = 98113       value= 1.570796227378269\n",
      "0.10093879699707031 seconds passed           N = 147169       value= 1.570796272678934\n",
      "0.12582135200500488 seconds passed           N = 220753       value= 1.5707962973377136\n",
      "0.19482707977294922 seconds passed           N = 331129       value= 1.5707963107604235\n",
      "0.27979159355163574 seconds passed           N = 496693       value= 1.570796318066777\n",
      "0.45847320556640625 seconds passed           N = 745039       value= 1.5707963220438919\n",
      "0.6760954856872559 seconds passed           N = 1117558       value= 1.5707963242088083\n",
      "1.0118467807769775 seconds passed           N = 1676337       value= 1.5707963253871806\n",
      "\n",
      "in less then a second we can reach N = 1117558\n"
     ]
    }
   ],
   "source": [
    "import time\n",
    "#       a)\n",
    "def yk(k):\n",
    "        value = ((1-k**2)**(1/2))\n",
    "        return value\n",
    "N, sum = 100, 0\n",
    "h = 2/N\n",
    "\n",
    "for i in range(1,N+1):\n",
    "        j=-1+h*i\n",
    "        sum = sum+yk(j)\n",
    "v = sum*h\n",
    "print(\"with\", N, \"iterations the value of the integral is:\", v)\n",
    "print()\n",
    "#       b)\n",
    "t=0\n",
    "start_time = time.time()\n",
    "while t<1:\n",
    "        start_time = time.time()\n",
    "        sum = 0  \n",
    "        for i in range(1,N+1):\n",
    "                sum = sum+yk(-1+h*i)\n",
    "        v = sum*h\n",
    "        N = int(N*1.5)\n",
    "        h = 2/N\n",
    "        t = time.time()-start_time\n",
    "        print(t, \"seconds passed           N =\", N, \"      value=\", v)\n",
    "print(\"\\nin less then a second we can reach N =\", int(N/1.5))"
   ]
  },
  {
   "cell_type": "code",
   "execution_count": null,
   "metadata": {},
   "outputs": [],
   "source": []
  }
 ],
 "metadata": {
  "kernelspec": {
   "display_name": "Python 3",
   "language": "python",
   "name": "python3"
  },
  "language_info": {
   "codemirror_mode": {
    "name": "ipython",
    "version": 3
   },
   "file_extension": ".py",
   "mimetype": "text/x-python",
   "name": "python",
   "nbconvert_exporter": "python",
   "pygments_lexer": "ipython3",
   "version": "3.8.8"
  }
 },
 "nbformat": 4,
 "nbformat_minor": 2
}
