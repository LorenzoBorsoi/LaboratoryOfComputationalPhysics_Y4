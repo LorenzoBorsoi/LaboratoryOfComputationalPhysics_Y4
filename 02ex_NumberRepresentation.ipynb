{
 "cells": [
  {
   "cell_type": "markdown",
   "metadata": {},
   "source": [
    "1\\. Write a function that converts number representation (bin<->dec<->hex)"
   ]
  },
  {
   "cell_type": "code",
   "execution_count": 1,
   "metadata": {
    "scrolled": true
   },
   "outputs": [],
   "source": [
    "#Exercise 1 \n",
    "import math as m\n",
    "\n",
    "#Binary to decimal and decimal to binary. \n",
    "\n",
    "\n",
    "def mydectobin(x):\n",
    "#divisione standard (tra int) per due fino a 0, tengo il resto ogni volta e poi la rappresentazione\n",
    "#binaria sono i resti scritti al contrario (con davanti 0b)\n",
    "    r = []\n",
    "    while (x > 0):\n",
    "        r.append(x%2)\n",
    "        x = (x//2)\n",
    "    r.reverse()    \n",
    "    binrep = ''.join(str(i) for i in r)\n",
    "    return('0b'+binrep)\n",
    "\n",
    "\n",
    "def mybintodec(x):\n",
    "#prendo una stringa, la inverto e fino alla lunghezza della stringa -2 (salto b0) faccio la somma con la potenza \n",
    "# di 2 corrispondente\n",
    "    y = x[::-1]\n",
    "    j = 0\n",
    "    for i in range(len(y)-2):\n",
    "        j += int(y[i])*(2**i)\n",
    "    return j\n",
    "        \n",
    "        \n",
    "#Hexadecimal to decimal and decimal to hexadecimal\n",
    "\n",
    "#Stesso discorso ma creo un dizionario (e il suo \"inverso\") per avere gli ulteriori simboli ABCDEF\n",
    "\n",
    "tab = {'0':0, '1':1, '2':2, '3':3, '4':4, '5':5, '6':6, '7':7, '8':8, '9':9, \n",
    "       'A':10, 'B':11, 'C':12, 'D':13, 'E':14, 'F':15}\n",
    "inverse_tab = {v:k for k,v in tab.items()}\n",
    "\n",
    "\n",
    "def myhextodec(x):\n",
    "    y = x[::-1]\n",
    "    j = 0\n",
    "    for i in range(len(y)-2):\n",
    "        j += int(tab[y[i]])*(16**i)\n",
    "    return j\n",
    "\n",
    "\n",
    "def mydectohex(x):\n",
    "    r = []\n",
    "    while (x > 0):\n",
    "        r.append(inverse_tab[x%16])\n",
    "        x = (x//16)\n",
    "    r.reverse()    \n",
    "    hexrep = ''.join(str(i) for i in r)\n",
    "    return('0x'+hexrep)"
   ]
  },
  {
   "cell_type": "code",
   "execution_count": 2,
   "metadata": {},
   "outputs": [
    {
     "name": "stdout",
     "output_type": "stream",
     "text": [
      "('0b10000', 16, '0x10')\n",
      "('0b10000', 16, '0x10')\n",
      "('0b10000', 16, '0x10')\n"
     ]
    }
   ],
   "source": [
    "#Exercise 1 : All inclusive function. \n",
    "# User inputs a number and the program outputs representations in base 2, 10 and 16\n",
    "\n",
    "def conv(x):\n",
    "    if type(x) == str:\n",
    "        if x[1] == 'b':\n",
    "            x_bin = x\n",
    "            x_dec = mybintodec(x)\n",
    "            x_hex = mydectohex(mybintodec(x))\n",
    "        elif x[1] == 'x':\n",
    "            x_bin = mydectobin(myhextodec(x))\n",
    "            x_dec = myhextodec(x)\n",
    "            x_hex = x\n",
    "    else:\n",
    "        x_bin = mydectobin(x)\n",
    "        x_dec = x\n",
    "        x_hex = mydectohex(x)\n",
    "    return x_bin, x_dec, x_hex\n",
    "\n",
    "print(conv(16))\n",
    "print(conv('0b10000'))\n",
    "print(conv('0x10'))"
   ]
  },
  {
   "cell_type": "markdown",
   "metadata": {},
   "source": [
    "2\\. Write a function that converts a 32 bit word into a single precision floating point (i.e. interprets the various bits as sign, mantissa and exponent)"
   ]
  },
  {
   "cell_type": "code",
   "execution_count": 6,
   "metadata": {},
   "outputs": [
    {
     "name": "stdout",
     "output_type": "stream",
     "text": [
      "3.0316488252093987e-13\n"
     ]
    }
   ],
   "source": [
    "#Exercise 2\n",
    "\n",
    "def bit32tofloat(word):\n",
    "    if len(word) == 32:\n",
    "        sign = int(word[0])\n",
    "        exp = int(word[1:9],2)\n",
    "        mant = word[9:]\n",
    "        actual_mant = 1\n",
    "        mant_pow = -1\n",
    "        for i in mant:\n",
    "            actual_mant += (int(i)*(2**mant_pow)) \n",
    "            mant_pow -= 1\n",
    "        n = (-1)**(sign)* actual_mant *(2**(exp-127))\n",
    "        return n\n",
    "    else:\n",
    "        return 'Error'\n",
    "        \n",
    "print(bit32tofloat('00101010101010101010101010101010'))"
   ]
  },
  {
   "cell_type": "markdown",
   "metadata": {},
   "source": [
    "3\\. Write a program to determine the underflow and overflow limits (within a factor of 2) for python on your computer. \n",
    "\n",
    "**Tips**: define two variables inizialized to 1 and halve/double them enough time to exceed the under/over-flow limits  "
   ]
  },
  {
   "cell_type": "code",
   "execution_count": 7,
   "metadata": {},
   "outputs": [
    {
     "name": "stdout",
     "output_type": "stream",
     "text": [
      "5e-324\n",
      "8.98846567431158e+307\n"
     ]
    }
   ],
   "source": [
    "#Exercise 3 \n",
    "\n",
    "def underflow():\n",
    "    x = 1.0\n",
    "    while(x != 0):\n",
    "        x_prev = x\n",
    "        x = x/2\n",
    "    return x_prev\n",
    "\n",
    "print(underflow())\n",
    "\n",
    "\n",
    "def overflow():\n",
    "    x = 1.0\n",
    "    x_next = x*2\n",
    "    while(x_next != x):\n",
    "        x_prev = x\n",
    "        x = x_next\n",
    "        x_next = x*2\n",
    "    return x_prev\n",
    "    \n",
    "print(overflow())"
   ]
  },
  {
   "cell_type": "markdown",
   "metadata": {},
   "source": [
    "4\\. Write a program to determine the machine precision\n",
    "\n",
    "**Tips**: define a new variable by adding a smaller and smaller value (proceeding similarly to prob. 2) to an original variable and check the point where the two are the same "
   ]
  },
  {
   "cell_type": "code",
   "execution_count": 8,
   "metadata": {},
   "outputs": [
    {
     "name": "stdout",
     "output_type": "stream",
     "text": [
      "The precision is up to 1e-17\n"
     ]
    }
   ],
   "source": [
    "#Exercise 4\n",
    "\n",
    "def machineprec():\n",
    "    delta = 1\n",
    "    x = 1.0\n",
    "    x_next = x + delta\n",
    "    while(x_next != x):\n",
    "        x_prev = x\n",
    "        x = x_next\n",
    "        x_next = x + delta\n",
    "        delta = (0.1*delta)\n",
    "    return x_prev\n",
    "\n",
    "print('The precision is up to', 10**-int(len(str(machineprec()))-1))"
   ]
  },
  {
   "cell_type": "markdown",
   "metadata": {},
   "source": [
    "5\\. Write a function that takes in input three parameters $a$, $b$ and $c$ and prints out the two solutions to the quadratic equation $ax^2+bx+c=0$ using the standard formula:\n",
    "$$\n",
    "x=\\frac{-b\\pm\\sqrt{b^2-4ac}}{2a}\n",
    "$$\n",
    "\n",
    "(a) use the program to compute the solution for $a=0.001$, $b=1000$ and $c=0.001$\n",
    "\n",
    "(b) re-express the standard solution formula by multiplying top and bottom by $-b\\mp\\sqrt{b^2-4ac}$ and again find the solution for $a=0.001$, $b=1000$ and $c=0.001$. How does it compare with what previously obtained? Why?\n",
    "\n",
    "(c) write a function that compute the roots of a quadratic equation accurately in all cases"
   ]
  },
  {
   "cell_type": "code",
   "execution_count": 9,
   "metadata": {},
   "outputs": [
    {
     "name": "stdout",
     "output_type": "stream",
     "text": [
      "First solution: -999999.999999 Second solution: -9.999894245993346e-07\n",
      "First solution: -1.000000000001e-06 Second solution: -1000010.5755125057\n"
     ]
    }
   ],
   "source": [
    "#Exercise 5 a)\n",
    "\n",
    "import math as m\n",
    "\n",
    "def detfunc(a,b,c):\n",
    "    x_1 = (-b - m.sqrt(b**2 - (4*a*c) ))/(2*a)\n",
    "    x_2 = (-b + m.sqrt(b**2 - (4*a*c) ))/(2*a)\n",
    "    print('First solution:', x_1, 'Second solution:', x_2)\n",
    "\n",
    "detfunc(0.001,1000,0.001)\n",
    "\n",
    "\n",
    "#Exercise b)\n",
    "\n",
    "def detfunc1(a,b,c):\n",
    "    x_1 = (2*c)/(-b-m.sqrt(b**2 - (4*a*c) ))\n",
    "    x_2 = (2*c)/(-b+m.sqrt(b**2 - (4*a*c) ))\n",
    "    print('First solution:', x_1, 'Second solution:', x_2)\n",
    "    \n",
    "\n",
    "\n",
    "detfunc1(0.001,1000,0.001)\n",
    "\n",
    "#Catastrophic cancellation occurs because 4ac is much smaller than b**2 so sqrt(b**2) is equal to b\n",
    "# (given the limitations from our finite precision)"
   ]
  },
  {
   "cell_type": "code",
   "execution_count": 10,
   "metadata": {},
   "outputs": [
    {
     "name": "stdout",
     "output_type": "stream",
     "text": [
      "First solution: -999999.999999 Second solution: -1.000000000001e-06\n"
     ]
    }
   ],
   "source": [
    "#Exercise 5 c)\n",
    "\n",
    "# Here is a solution following this resource: https://people.csail.mit.edu/bkph/articles/Quadratics.pdf \n",
    "\n",
    "\n",
    "def detfunc2(a,b,c):\n",
    "    if b >= 0:\n",
    "        x_1 = (-b - m.sqrt(b**2 - (4*a*c) ))/(2*a)\n",
    "        x_2 = (2*c)/(-b-m.sqrt(b**2 - (4*a*c) ))\n",
    "    elif b<0:\n",
    "        x_1 = (2*c)/(-b+m.sqrt(b**2 - (4*a*c) ))\n",
    "        x_2 = (-b + m.sqrt(b**2 - (4*a*c) ))/(2*a)\n",
    "    \n",
    "    print('First solution:', x_1, 'Second solution:', x_2)\n",
    "    \n",
    "\n",
    "        \n",
    "detfunc2(0.001,1000,0.001)\n"
   ]
  },
  {
   "cell_type": "markdown",
   "metadata": {},
   "source": [
    "6\\. Write a program that implements the function $f(x)=x(x−1)$\n",
    "\n",
    "(a) Calculate the derivative of the function at the point $x = 1$ using the derivative definition:\n",
    "\n",
    "$$\n",
    "\\frac{{\\rm d}f}{{\\rm d}x} = \\lim_{\\delta\\to0} \\frac{f(x+\\delta)-f(x)}{\\delta}\n",
    "$$\n",
    "\n",
    "with $\\delta = 10^{−2}$. Calculate the true value of the same derivative analytically and compare with the answer your program gives. The two will not agree perfectly. Why not?\n",
    "\n",
    "(b) Repeat the calculation for $\\delta = 10^{−4}, 10^{−6}, 10^{−8}, 10^{−10}, 10^{−12}$ and $10^{−14}$. How does the accuracy scales with $\\delta$?"
   ]
  },
  {
   "cell_type": "code",
   "execution_count": 11,
   "metadata": {},
   "outputs": [
    {
     "name": "stdout",
     "output_type": "stream",
     "text": [
      "1.010000000000001 Accuracy: 98.99999999999991\n",
      "1.0000999999998899 Accuracy: 99.99000000001101\n",
      "1.0000009999177333 Accuracy: 99.99990000822667\n",
      "1.0000000039225287 Accuracy: 99.99999960774713\n",
      "1.000000082840371 Accuracy: 99.99999171596289\n",
      "1.0000889005833413 Accuracy: 99.99110994166587\n",
      "0.9992007221626509 Accuracy: 99.92007221626508\n"
     ]
    }
   ],
   "source": [
    "#Exercise 6\n",
    "\n",
    "def f(x):\n",
    "    return x*(x-1)\n",
    "\n",
    "def deriv(x,delta):\n",
    "    return (f(x+delta)-f(x))/delta\n",
    "\n",
    "for i in range (2,16,2):\n",
    "    print(deriv(1,1/(10**i)),'Accuracy:',100 -abs((1-deriv(1,1/(10**i)))/1 *100))\n",
    "\n",
    "\n",
    "\n"
   ]
  },
  {
   "cell_type": "markdown",
   "metadata": {},
   "source": [
    "7\\. Consider the integral of the semicircle of radius 1:\n",
    "$$\n",
    "I=\\int_{-1}^{1} \\sqrt(1-x^2) {\\rm d}x\n",
    "$$\n",
    "which it's known to be $I=\\frac{\\pi}{2}=1.57079632679...$.\n",
    "Alternatively we can use the Riemann definition of the integral:\n",
    "$$\n",
    "I=\\lim_{N\\to\\infty} \\sum_{k=1}^{N} h y_k \n",
    "$$\n",
    "\n",
    "with $h=2/N$ the width of each of the $N$ slices the domain is divided into and where\n",
    "$y_k$ is the value of the function at the $k-$th slice.\n",
    "\n",
    "(a) Write a programe to compute the integral with $N=100$. How does the result compares to the true value?\n",
    "\n",
    "(b) How much can $N$ be increased if the computation needs to be run in less than a second? What is the gain in running it for 1 minute? \n"
   ]
  },
  {
   "cell_type": "code",
   "execution_count": 2,
   "metadata": {},
   "outputs": [
    {
     "name": "stdout",
     "output_type": "stream",
     "text": [
      "Integral for N = 100, Time:  (1.5534179294048955, 0.0008225440979003906)\n"
     ]
    }
   ],
   "source": [
    "#Exercise 7\n",
    "\n",
    "import math as m\n",
    "import time\n",
    "import numpy as np\n",
    "\n",
    "def semicirc(x):\n",
    "    return m.sqrt(1-(x**2))\n",
    "\n",
    "\n",
    "def riemannsum(a,b,N):\n",
    "    t0 = time.time()\n",
    "    h = (b-a)/N\n",
    "    y = [semicirc(x) for x in np.linspace(a,b,N)]\n",
    "    res = [k*h for k in y]\n",
    "    tf = time.time()\n",
    "    return sum(res), tf-t0\n",
    "\n",
    "\n",
    "print('Integral for N = 100, Time: ', riemannsum(-1, 1, 100))\n"
   ]
  },
  {
   "cell_type": "code",
   "execution_count": 7,
   "metadata": {},
   "outputs": [
    {
     "name": "stdout",
     "output_type": "stream",
     "text": [
      "We can increase N up to 1638400 the simulation runs for 0.8563432693481445 seconds\n",
      "The result for N =  1638400.0  is :  1.570795367263933\n"
     ]
    }
   ],
   "source": [
    "#Exercise 7 b)\n",
    "N = 100\n",
    "res, t = riemannsum(-1,1,N)\n",
    "while t < 1:\n",
    "    x = t\n",
    "    N *= 2\n",
    "    res, t = riemannsum(-1,1,N)\n",
    "\n",
    "print('We can increase N up to', N//2, 'the simulation runs for', x, 'seconds')\n",
    "print('The result for N = ', N//2, ' is : ', riemannsum(-1,1,N//2)[0])\n",
    "\n",
    "\n",
    "#Given the result for the computation run in 1 second, running it for 1 minute would be futile, nevertheless\n",
    "#in the next cell we'll see the result"
   ]
  },
  {
   "cell_type": "code",
   "execution_count": 13,
   "metadata": {},
   "outputs": [
    {
     "name": "stdout",
     "output_type": "stream",
     "text": [
      "(1.5707963094138535, 59.8449604511261)\n"
     ]
    }
   ],
   "source": [
    "#By inspection I find that: \n",
    "print('We can increase N up to 90384000, the computation runs for', riemannsum(-1,1,90384000)[1],' seconds, and outputs a result of:', riemannsum(-1,1,90384000)[0])"
   ]
  },
  {
   "cell_type": "code",
   "execution_count": null,
   "metadata": {},
   "outputs": [],
   "source": []
  }
 ],
 "metadata": {
  "kernelspec": {
   "display_name": "Python 3",
   "language": "python",
   "name": "python3"
  },
  "language_info": {
   "codemirror_mode": {
    "name": "ipython",
    "version": 3
   },
   "file_extension": ".py",
   "mimetype": "text/x-python",
   "name": "python",
   "nbconvert_exporter": "python",
   "pygments_lexer": "ipython3",
   "version": "3.8.10"
  }
 },
 "nbformat": 4,
 "nbformat_minor": 2
}
