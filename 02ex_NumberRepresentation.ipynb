{
 "cells": [
  {
   "cell_type": "markdown",
   "metadata": {},
   "source": [
    "1\\. Write a function that converts number representation (bin<->dec<->hex)"
   ]
  },
  {
   "cell_type": "code",
   "execution_count": 109,
   "metadata": {},
   "outputs": [
    {
     "name": "stdout",
     "output_type": "stream",
     "text": [
      "5.0\n",
      "101\n",
      "12\n",
      "18\n"
     ]
    }
   ],
   "source": [
    "def bin2dec(x_bin):\n",
    "    x_dec = 0\n",
    "    for i, c in enumerate(str(x_bin)[::-1]):\n",
    "        x_dec += 2 ** i * float(c)\n",
    "    return x_dec\n",
    "\n",
    "def dec2bin(x_dec):\n",
    "    x_bin = ''\n",
    "    r = x_dec\n",
    "    while r >= 1:\n",
    "        x_bin += str(int(r % 2))\n",
    "        r //= 2\n",
    "        \n",
    "    return x_bin[::-1]\n",
    "\n",
    "def dec2hex(x_dec):\n",
    "    digits = \"0123456789ABCDEF\"\n",
    "    x_hex = ''\n",
    "    r = x_dec\n",
    "    while r >= 1:\n",
    "        x_hex += digits[int(r % 16)]\n",
    "        r //= 16\n",
    "        \n",
    "    return x_hex[::-1]\n",
    "\n",
    "def hex2dec(x_hex):\n",
    "    digits = \"0123456789ABCDEF\"\n",
    "    x_dec = 0\n",
    "    for i, c in enumerate(x_hex[::-1]):\n",
    "        x_dec += 16 ** i * digits.index(c)\n",
    "    return x_dec\n",
    "\n",
    "\n",
    "print(bin2dec(101))\n",
    "print(dec2bin(bin2dec(101)))\n",
    "print(dec2hex(18))\n",
    "print(hex2dec(dec2hex(18)))"
   ]
  },
  {
   "cell_type": "markdown",
   "metadata": {},
   "source": [
    "2\\. Write a function that converts a 32 bit word into a single precision floating point (i.e. interprets the various bits as sign, mantissa and exponent)"
   ]
  },
  {
   "cell_type": "code",
   "execution_count": 2,
   "metadata": {},
   "outputs": [
    {
     "name": "stdout",
     "output_type": "stream",
     "text": [
      "-5.5\n"
     ]
    }
   ],
   "source": [
    "def _32bit2float(x_32):\n",
    "    sg = 1. if int(x_32[0]) == 0 else -1.\n",
    "    exp = bin2dec(x_32[1:9])\n",
    "    mant = sum([2 ** -(i + 1) * float(c) for i, c in enumerate(x_32[9:])])\n",
    "    return sg * (1. + mant) * 2 ** (exp - 127)\n",
    "\n",
    "print(_32bit2float('11000000101100000000000000000000'))"
   ]
  },
  {
   "cell_type": "markdown",
   "metadata": {},
   "source": [
    "3\\. Write a program to determine the underflow and overflow limits (within a factor of 2) for python on your computer. \n",
    "\n",
    "**Tips**: define two variables inizialized to 1 and halve/double them enough time to exceed the under/over-flow limits  "
   ]
  },
  {
   "cell_type": "code",
   "execution_count": 5,
   "metadata": {},
   "outputs": [
    {
     "name": "stdout",
     "output_type": "stream",
     "text": [
      "sys.float_info(max=1.7976931348623157e+308, max_exp=1024, max_10_exp=308, min=2.2250738585072014e-308, min_exp=-1021, min_10_exp=-307, dig=15, mant_dig=53, epsilon=2.220446049250313e-16, radix=2, rounds=1)\n",
      "179769313486231590772930519078902473361797697894230657273430081157732675805500963132708477322407536021120113879871393357658789768814416622492847430639474124377767893424865485276302219601246094119453082952085005768838150682342462881473913110540827237163350510684586298239947245938479716304835356329624224137216 1024\n",
      "0.0 1075\n"
     ]
    }
   ],
   "source": [
    "import sys\n",
    "from math import inf, sqrt\n",
    "\n",
    "print(sys.float_info)\n",
    "\n",
    "def overflow():\n",
    "    over = 1.\n",
    "    under = 1.\n",
    "    i_u = 0\n",
    "    i_o = 0\n",
    "    while over < inf:\n",
    "        over *= 2\n",
    "        i_o += 1\n",
    "        \n",
    "    while under > 0:\n",
    "        under /= 2\n",
    "        i_u += 1\n",
    "\n",
    "    print(2 ** i_o, i_o)\n",
    "    print(2 ** -i_u, i_u)\n",
    "\n",
    "overflow()\n"
   ]
  },
  {
   "cell_type": "markdown",
   "metadata": {},
   "source": [
    "4\\. Write a program to determine the machine precision\n",
    "\n",
    "**Tips**: define a new variable by adding a smaller and smaller value (proceeding similarly to prob. 2) to an original variable and check the point where the two are the same "
   ]
  },
  {
   "cell_type": "code",
   "execution_count": 10,
   "metadata": {},
   "outputs": [
    {
     "name": "stdout",
     "output_type": "stream",
     "text": [
      "53 1.1102230246251565e-16\n"
     ]
    }
   ],
   "source": [
    "def check_precision():\n",
    "    a = 1.0\n",
    "    epsilon = 1.0\n",
    "    i = 0\n",
    "    while a != a + epsilon:\n",
    "        epsilon /= 2\n",
    "        i += 1\n",
    "\n",
    "    print(i, epsilon)\n",
    "\n",
    "check_precision()"
   ]
  },
  {
   "cell_type": "markdown",
   "metadata": {},
   "source": [
    "5\\. Write a function that takes in input three parameters $a$, $b$ and $c$ and prints out the two solutions to the quadratic equation $ax^2+bx+c=0$ using the standard formula:\n",
    "$$\n",
    "x=\\frac{-b\\pm\\sqrt{b^2-4ac}}{2a}\n",
    "$$\n",
    "\n",
    "(a) use the program to compute the solution for $a=0.001$, $b=1000$ and $c=0.001$\n",
    "\n",
    "(b) re-express the standard solution formula by multiplying top and bottom by $-b\\mp\\sqrt{b^2-4ac}$ and again find the solution for $a=0.001$, $b=1000$ and $c=0.001$. How does it compare with what previously obtained? Why?\n",
    "\n",
    "(c) write a function that compute the roots of a quadratic equation accurately in all cases"
   ]
  },
  {
   "cell_type": "code",
   "execution_count": 16,
   "metadata": {},
   "outputs": [
    {
     "name": "stdout",
     "output_type": "stream",
     "text": [
      "(-9.999894245993346e-07, -999999.999999)\n",
      "(-1.00000761449437e-06, -1000018.1900864029)\n",
      "(-999999.999999, -1.000000000001e-06)\n"
     ]
    }
   ],
   "source": [
    "zeros2a = lambda a, b, c: ((-b + sqrt(b ** 2 - 4 * a * c)) / (2 * a), (-b - sqrt(b ** 2 - 4 * a * c)) / (2 * a))\n",
    "zeros2b = lambda a, b, c: ((b ** 2 - (b ** 2 - 4 * a * c)) / (-b - sqrt(b ** 2 - 4 * a * c)) / (2 * a),\n",
    "                           (b ** 2 - (b ** 2 - 4 * a * c)) / (-b + sqrt(b ** 2 - 4 * a * c)) / (2 * a))\n",
    "sgn = lambda x: x / abs(x)\n",
    "zeros2c = lambda a, b, c: ((-b - sgn(b) * sqrt(b ** 2 - 4 * a * c)) / (2 * a), (2 * c) / (-b - sgn(b) * sqrt(b ** 2 - 4 * a * c)))\n",
    "\n",
    "# This is due to a phenomenon called catastrophic cancellation (subtraction of two nearly equal numbers)\n",
    "print(zeros2a(0.001, 1000, 0.001))\n",
    "print(zeros2b(0.001, 1000, 0.001))\n",
    "print(zeros2c(0.001, 1000, 0.001))"
   ]
  },
  {
   "cell_type": "markdown",
   "metadata": {},
   "source": [
    "6\\. Write a program that implements the function $f(x)=x(x−1)$\n",
    "\n",
    "(a) Calculate the derivative of the function at the point $x = 1$ using the derivative definition:\n",
    "\n",
    "$$\n",
    "\\frac{{\\rm d}f}{{\\rm d}x} = \\lim_{\\delta\\to0} \\frac{f(x+\\delta)-f(x)}{\\delta}\n",
    "$$\n",
    "\n",
    "with $\\delta = 10^{−2}$. Calculate the true value of the same derivative analytically and compare with the answer your program gives. The two will not agree perfectly. Why not?\n",
    "\n",
    "(b) Repeat the calculation for $\\delta = 10^{−4}, 10^{−6}, 10^{−8}, 10^{−10}, 10^{−12}$ and $10^{−14}$. How does the accuracy scales with $\\delta$?"
   ]
  },
  {
   "cell_type": "code",
   "execution_count": 110,
   "metadata": {},
   "outputs": [
    {
     "name": "stdout",
     "output_type": "stream",
     "text": [
      "1.0000000000000897\n",
      "0.009999999988985486\n",
      "9.99917733279787e-05\n",
      "3.9225287462585356e-07\n",
      "8.284037100736441e-06\n",
      "0.008890058334132256\n",
      "-0.07992778373491216\n"
     ]
    }
   ],
   "source": [
    "def derivate(f, x, delta):\n",
    "    return (f(x + delta) - f(x)) / delta\n",
    "\n",
    "f = lambda x: x * (x - 1)\n",
    "df = lambda x: 2 * x - 1\n",
    "for i in range(2, 16, 2):\n",
    "    print((derivate(f, 1, 10 ** - i) - df(1)) / df(1) * 100)\n",
    "\n",
    "# Accuracy scales linearly with delta"
   ]
  },
  {
   "cell_type": "markdown",
   "metadata": {},
   "source": [
    "7\\. Consider the integral of the semicircle of radius 1:\n",
    "$$\n",
    "I=\\int_{-1}^{1} \\sqrt(1-x^2) {\\rm d}x\n",
    "$$\n",
    "which it's known to be $I=\\frac{\\pi}{2}=1.57079632679...$.\n",
    "Alternatively we can use the Riemann definition of the integral:\n",
    "$$\n",
    "I=\\lim_{N\\to\\infty} \\sum_{k=1}^{N} h y_k \n",
    "$$\n",
    "\n",
    "with $h=2/N$ the width of each of the $N$ slices the domain is divided into and where\n",
    "$y_k$ is the value of the function at the $k-$th slice.\n",
    "\n",
    "(a) Write a programe to compute the integral with $N=100$. How does the result compares to the true value?\n",
    "\n",
    "(b) How much can $N$ be increased if the computation needs to be run in less than a second? What is the gain in running it for 1 minute? \n"
   ]
  },
  {
   "cell_type": "code",
   "execution_count": 105,
   "metadata": {},
   "outputs": [
    {
     "name": "stdout",
     "output_type": "stream",
     "text": [
      "0.10581074180619238\n",
      "4503192\n",
      "0.9378205409999282\n",
      "294250346\n",
      "59.89686578910005\n",
      "5.922899606814283e-11\n"
     ]
    }
   ],
   "source": [
    "from math import pi\n",
    "import timeit\n",
    "import numpy as np\n",
    "\n",
    "def integral(f, x_min, x_max, n):\n",
    "    res = 0\n",
    "    h = (x_max - x_min) / n\n",
    "    for i in range(0, n + 1):\n",
    "        res += f(x_min + h * i) * h\n",
    "    return res\n",
    "\n",
    "f = lambda x: sqrt(1 - x ** 2)\n",
    "print('Accuracy N=100 :', abs(integral(f, -1., 1., 100) - pi / 2) / (pi/2) * 100)\n",
    "\n",
    "n = 100\n",
    "t = 0\n",
    "time_for_step = 1000 / (timeit.timeit(lambda : integral(f, -1., 1., 1000), number=100)/100)\n",
    "n_s = 1 * time_for_step\n",
    "print('Steps for 1 sec run :', int(n_s))\n",
    "print(timeit.timeit(lambda : integral(f, -1., 1., int(n_s)), number=10)/10)\n",
    "\n",
    "n_m = 60 * time_for_step\n",
    "print('Steps for 60 sec run :', int(n_m))\n",
    "print(timeit.timeit(lambda : integral(f, -1., 1., int(n_m)), number=10)/10)\n",
    "print(f'Accuracy N={n_m} :', abs(integral(f, -1., 1., int(n_m)) - pi / 2) / (pi/2) * 100)\n"
   ]
  },
  {
   "cell_type": "code",
   "execution_count": null,
   "metadata": {},
   "outputs": [],
   "source": []
  }
 ],
 "metadata": {
  "kernelspec": {
   "display_name": "Python 3 (ipykernel)",
   "language": "python",
   "name": "python3"
  },
  "language_info": {
   "codemirror_mode": {
    "name": "ipython",
    "version": 3
   },
   "file_extension": ".py",
   "mimetype": "text/x-python",
   "name": "python",
   "nbconvert_exporter": "python",
   "pygments_lexer": "ipython3",
   "version": "3.8.5"
  }
 },
 "nbformat": 4,
 "nbformat_minor": 2
}
