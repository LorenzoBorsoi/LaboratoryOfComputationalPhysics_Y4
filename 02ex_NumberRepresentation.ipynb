{
 "cells": [
  {
   "cell_type": "markdown",
   "metadata": {},
   "source": [
    "1\\. Write a function that converts number representation (bin<->dec<->hex)"
   ]
  },
  {
   "cell_type": "code",
   "execution_count": 2,
   "metadata": {},
   "outputs": [
    {
     "name": "stdout",
     "output_type": "stream",
     "text": [
      "Dec  12  -> Bin  1100\n",
      "Bin  1100  -> Dec  12\n",
      "Dec  12  -> hex  c\n",
      "Hex  0a12  -> dec  2578\n",
      "Binary  1100  -> hex  c\n",
      "Hex  0a12  -> bin  101000010010\n"
     ]
    }
   ],
   "source": [
    "x = 12\n",
    "binary = \"1100\"\n",
    "hesa = \"0a12\"\n",
    "\n",
    "\n",
    "def bin_to_dec(x):\n",
    "    x=x[::-1]\n",
    "    num=0\n",
    "    for i in range (0,len(x)):\n",
    "        num+=int(x[i])*(2**i)\n",
    "    return num\n",
    "\n",
    "\n",
    "def dec_to_bin(x):\n",
    "    conv = \"\"\n",
    "    while (x != 0):\n",
    "        conv+= str(x % 2)\n",
    "        x = x // 2\n",
    "    return conv[::-1]\n",
    "\n",
    "\n",
    "def hex_to_dec(x):\n",
    "    Hdict={\"0\":0, \"1\":1 , \"2\":2 , \"3\":3 ,\"4\":4, \"5\":5, \"6\":6, \"7\":7 , \"8\":8, \"9\":9 , \"a\":10, \"b\":11 , \"c\":12,\"d\":13, \"e\":14 , \"f\":15}\n",
    "    x=x[::-1]\n",
    "    num=0\n",
    "    for i in range (0,len(x)):\n",
    "        num+=(Hdict[x[i]])*(16**i)\n",
    "    return num\n",
    "\n",
    "\n",
    "\n",
    "def dec_to_hex(x):\n",
    "    Hdict={\"0\":0, \"1\":1 , \"2\":2 , \"3\":3 ,\"4\":4, \"5\":5, \"6\":6, \"7\":7 , \"8\":8, \"9\":9 , \"a\":10, \"b\":11 , \"c\":12,\"d\":13, \"e\":14 , \"f\":15}\n",
    "    rev_Hdict = {value:key for (key,value) in Hdict.items()}\n",
    "    conv = \"\"\n",
    "    while (x != 0):\n",
    "        conv+= str(rev_Hdict[x % 16])\n",
    "        x = x // 16\n",
    "    return conv[::-1]\n",
    "\n",
    "\n",
    "def bin_to_hex(x):\n",
    "    return( dec_to_hex(bin_to_dec(x)))\n",
    "\n",
    "def hex_to_bin(x):\n",
    "    return( dec_to_bin(hex_to_dec(x)))\n",
    "\n",
    "\n",
    "\n",
    "\n",
    "print(\"Dec \", x ,\" -> Bin \", dec_to_bin(x))\n",
    "print(\"Bin \", binary ,\" -> Dec \", bin_to_dec(binary))\n",
    "print(\"Dec \", x ,\" -> hex \", dec_to_hex(x))\n",
    "print(\"Hex \", hesa ,\" -> dec \", hex_to_dec(hesa))\n",
    "print(\"Binary \", binary ,\" -> hex \", bin_to_hex(binary))\n",
    "print(\"Hex \", hesa ,\" -> bin \", hex_to_bin(hesa))\n"
   ]
  },
  {
   "cell_type": "markdown",
   "metadata": {},
   "source": [
    "2\\. Write a function that converts a 32 bit word into a single precision floating point (i.e. interprets the various bits as sign, mantissa and exponent)"
   ]
  },
  {
   "cell_type": "code",
   "execution_count": 3,
   "metadata": {},
   "outputs": [
    {
     "name": "stdout",
     "output_type": "stream",
     "text": [
      "The initial was  11000010111011010000000000000000 \n",
      "\n",
      "Coverting in single precision floating point ->  -118.5\n"
     ]
    }
   ],
   "source": [
    "n32 = \"11000010111011010000000000000000\"\n",
    "\n",
    "bias=127\n",
    "sign = int(n32[0])\n",
    "exp = (n32[1:9])\n",
    "mant = (n32[9:])\n",
    "frac=1\n",
    "\n",
    "for i in range(1,24):\n",
    "    frac +=  int(mant[i-1])*2**(-i)\n",
    "\n",
    "print(\"The initial was \" , n32 ,\"\\n\")\n",
    "print(\"Coverting in single precision floating point -> \", (-1)**(sign) * frac * 2**(bin_to_dec(exp) - bias))\n",
    "\n",
    "\n"
   ]
  },
  {
   "cell_type": "markdown",
   "metadata": {},
   "source": [
    "3\\. Write a program to determine the underflow and overflow limits (within a factor of 2) for python on your computer. \n",
    "\n",
    "**Tips**: define two variables inizialized to 1 and halve/double them enough time to exceed the under/over-flow limits  "
   ]
  },
  {
   "cell_type": "code",
   "execution_count": 5,
   "metadata": {},
   "outputs": [
    {
     "name": "stdout",
     "output_type": "stream",
     "text": [
      "max - overflow ->  8.98846567431158e+307\n",
      "inf\n",
      "min - underflow ->  5e-324\n",
      "0.0\n"
     ]
    }
   ],
   "source": [
    "#overflow\n",
    "\n",
    "import sys\n",
    "varA , varB = sys.maxsize/4 , 1\n",
    "previous = 0\n",
    "prevprev=0\n",
    "\n",
    "while(varA > previous):\n",
    "    prevprev=previous\n",
    "    previous=varA\n",
    "    varA *=2\n",
    "\n",
    "print(\"max - overflow -> \",prevprev)\n",
    "print(previous)\n",
    "\n",
    "\n",
    "#________________________\n",
    "\n",
    "#underflow\n",
    "\n",
    "\n",
    "varB = 1 \n",
    "prev = 2\n",
    "prev2=1\n",
    "\n",
    "while(varB < prev):\n",
    "    prev2=prev\n",
    "    prev=varB\n",
    "    varB /=2\n",
    "\n",
    "print(\"min - underflow -> \", prev2)\n",
    "print(prev)\n",
    "\n",
    "\n"
   ]
  },
  {
   "cell_type": "markdown",
   "metadata": {},
   "source": [
    "4\\. Write a program to determine the machine precision\n",
    "\n",
    "**Tips**: define a new variable by adding a smaller and smaller value (proceeding similarly to prob. 2) to an original variable and check the point where the two are the same "
   ]
  },
  {
   "cell_type": "code",
   "execution_count": 8,
   "metadata": {},
   "outputs": [
    {
     "name": "stdout",
     "output_type": "stream",
     "text": [
      "Precision  1e-16\n"
     ]
    }
   ],
   "source": [
    "import numpy as np\n",
    "\n",
    "n =0\n",
    "n_current = 1\n",
    "add =3\n",
    "\n",
    "while (n_current != n):\n",
    "    n = n_current\n",
    "    add /= 2\n",
    "    n_current+=add\n",
    "    \n",
    "print(\"Precision \", 10**(np.floor(np.log10(add))))"
   ]
  },
  {
   "cell_type": "markdown",
   "metadata": {},
   "source": [
    "5\\. Write a function that takes in input three parameters $a$, $b$ and $c$ and prints out the two solutions to the quadratic equation $ax^2+bx+c=0$ using the standard formula:\n",
    "$$\n",
    "x=\\frac{-b\\pm\\sqrt{b^2-4ac}}{2a}\n",
    "$$\n",
    "\n",
    "(a) use the program to compute the solution for $a=0.001$, $b=1000$ and $c=0.001$\n",
    "\n",
    "(b) re-express the standard solution formula by multiplying top and bottom by $-b\\mp\\sqrt{b^2-4ac}$ and again find the solution for $a=0.001$, $b=1000$ and $c=0.001$. How does it compare with what previously obtained? Why?\n",
    "\n",
    "(c) write a function that compute the roots of a quadratic equation accurately in all cases"
   ]
  },
  {
   "cell_type": "code",
   "execution_count": 4,
   "metadata": {},
   "outputs": [
    {
     "name": "stdout",
     "output_type": "stream",
     "text": [
      "Equation :  0.001 x^2 +  1000 x + 0.001\n",
      "x1 =  -9.999894245993346e-07  ,  x2 = -999999.999999\n",
      "\n",
      " \n",
      "Equation :  0.001 x^2 +  1000 x + 0.001\n",
      "x1 =  -1.000000000001e-06  ,  x2 = -1000010.5755125057\n",
      " \n",
      " Different from previous results --> Bad Accuracy/Roundoff Error\n",
      "Problems in subtracting numbers really closed by in value and also in the distributive law\n",
      "\n",
      " \n",
      "Equation :  0.001 x^2 +  1000 x + 0.001\n",
      "x1 =  -1.000000000001e-06  ,  x2 = -999999.999999\n",
      "\n",
      "First Solver : \n",
      " ax1^2 + bx1 + c =  1.0575401665491313e-08    <--- Bad Accuracy \n",
      " ax2^2 + bx2 + c =  7.247924804689582e-08\n",
      "\n",
      "Second Solver : \n",
      " ax1^2 + bx1 + c =  0.0 \n",
      " ax2^2 + bx2 + c =  10575.62534720993   <--- Bad Accuracy\n",
      "\n",
      " Stable Funct  \n",
      " ax1^2 + bx1 + c =  0.0 \n",
      " ax2^2 + bx2 + c =  7.247924804689582e-08\n",
      "\n",
      " The optimal solution use one formula of the first solver and one from the second to avoid roundoff errors\n"
     ]
    }
   ],
   "source": [
    "import math as m\n",
    "\n",
    "def quad_eq_solver(a,b,c):\n",
    "    print(\"Equation : \", a ,\"x^2 + \", b , \"x +\", c)\n",
    "    x1 = (-b + m.sqrt(b**2 - 4*a*c))/(2*a)\n",
    "    x2 = (-b - m.sqrt(b**2 - 4*a*c))/(2*a)\n",
    "    \n",
    "    return x1 , x2\n",
    "\n",
    "\n",
    "#a)\n",
    "\n",
    "sol1 , sol2 = quad_eq_solver(0.001 , 1000 , 0.001)\n",
    "print (\"x1 = \" , sol1 , \" ,  x2 =\" , sol2)\n",
    "\n",
    "\n",
    "print(\"\\n \")\n",
    "\n",
    "#b)\n",
    "\n",
    "def rex_quad_eq_solver(a,b,c):\n",
    "    print(\"Equation : \", a ,\"x^2 + \", b , \"x +\", c)\n",
    "    x1 = (2*c)/(-b - m.sqrt(b**2 - 4*a*c))\n",
    "    x2 = (2*c)/(-b + m.sqrt(b**2 - 4*a*c))\n",
    "    \n",
    "    return x1 , x2\n",
    "\n",
    "\n",
    "sol3 , sol4 = rex_quad_eq_solver(0.001 , 1000 , 0.001)\n",
    "print (\"x1 = \" , sol3 , \" ,  x2 =\" , sol4)\n",
    "\n",
    "print(\" \\n Different from previous results --> Bad Accuracy/Roundoff Error\")\n",
    "print(\"Problems in subtracting numbers really closed by in value and also in the distributive law\")\n",
    "\n",
    "print(\"\\n \")\n",
    "\n",
    "\n",
    "#c)\n",
    "\n",
    "def stable_quad_eq_solver(a,b,c):\n",
    "    print(\"Equation : \", a ,\"x^2 + \", b , \"x +\", c)\n",
    "    x1 = (2*c)/(-b - m.sqrt(b**2 - 4*a*c))\n",
    "    x2 = (-b - m.sqrt(b**2 - 4*a*c))/(2*a)\n",
    "    \n",
    "    return x1 , x2\n",
    "\n",
    "sol_st1, sol_st2 = stable_quad_eq_solver(0.001 , 1000 , 0.001)\n",
    "print (\"x1 = \" , sol_st1 , \" ,  x2 =\" , sol_st2)\n",
    "\n",
    "\n",
    "\n",
    "def VerifySol(a, b, c, x):\n",
    "    return a*x**2+b*x+c\n",
    "\n",
    "a=0.001\n",
    "b=1000\n",
    "c=0.001\n",
    "\n",
    "print(\"\\nFirst Solver : \\n ax1^2 + bx1 + c = \", VerifySol(a, b, c, sol1), \"   <--- Bad Accuracy\", \"\\n ax2^2 + bx2 + c = \", VerifySol(a, b, c,sol2) )\n",
    "\n",
    "print(\"\\nSecond Solver : \\n ax1^2 + bx1 + c = \", VerifySol(a, b, c, sol3), \"\\n ax2^2 + bx2 + c = \", VerifySol(a, b, c,sol4) , \"  <--- Bad Accuracy\" )\n",
    "\n",
    "print(\"\\n Stable Funct  \\n ax1^2 + bx1 + c = \", VerifySol(a, b, c, sol_st1), \"\\n ax2^2 + bx2 + c = \", VerifySol(a, b, c,sol_st2) )\n",
    "\n",
    "\n",
    "print(\"\\n The optimal solution use one formula of the first solver and one from the second to avoid roundoff errors\")"
   ]
  },
  {
   "cell_type": "markdown",
   "metadata": {},
   "source": [
    "6\\. Write a program that implements the function $f(x)=x(x−1)$\n",
    "\n",
    "(a) Calculate the derivative of the function at the point $x = 1$ using the derivative definition:\n",
    "\n",
    "$$\n",
    "\\frac{{\\rm d}f}{{\\rm d}x} = \\lim_{\\delta\\to0} \\frac{f(x+\\delta)-f(x)}{\\delta}\n",
    "$$\n",
    "\n",
    "with $\\delta = 10^{−2}$. Calculate the true value of the same derivative analytically and compare with the answer your program gives. The two will not agree perfectly. Why not?\n",
    "\n",
    "(b) Repeat the calculation for $\\delta = 10^{−4}, 10^{−6}, 10^{−8}, 10^{−10}, 10^{−12}$ and $10^{−14}$. How does the accuracy scales with $\\delta$?"
   ]
  },
  {
   "cell_type": "code",
   "execution_count": 15,
   "metadata": {},
   "outputs": [
    {
     "name": "stdout",
     "output_type": "stream",
     "text": [
      "Derivative with incremental ratio =  1.010000000000001\n",
      "Derivative analitically  =  1\n",
      "\n",
      "The results are different, problem in the subctraction ( f(x+delta) - f(x) )\n",
      "the two numbers are really closed by in value \n",
      "\n",
      "\n",
      "\n",
      "Derivative with incremental ratio ( delta =  0.01 ) =  1.010000000000001\n",
      "Derivative analitically  =  1\n",
      "Difference is =  0.010000000000000897\n",
      "\n",
      "\n",
      "Derivative with incremental ratio ( delta =  0.0001 ) =  1.0000999999998899\n",
      "Derivative analitically  =  1\n",
      "Difference is =  9.999999988985486e-05\n",
      "\n",
      "\n",
      "Derivative with incremental ratio ( delta =  1e-06 ) =  1.0000009999177333\n",
      "Derivative analitically  =  1\n",
      "Difference is =  9.99917733279787e-07\n",
      "\n",
      "\n",
      "Derivative with incremental ratio ( delta =  1e-08 ) =  1.0000000039225287\n",
      "Derivative analitically  =  1\n",
      "Difference is =  3.922528746258536e-09\n",
      "\n",
      "\n",
      "Derivative with incremental ratio ( delta =  1e-10 ) =  1.000000082840371\n",
      "Derivative analitically  =  1\n",
      "Difference is =  8.284037100736441e-08\n",
      "\n",
      "\n",
      "Derivative with incremental ratio ( delta =  1e-12 ) =  1.0000889005833413\n",
      "Derivative analitically  =  1\n",
      "Difference is =  8.890058334132256e-05\n",
      "\n",
      "\n",
      "Derivative with incremental ratio ( delta =  1e-14 ) =  0.9992007221626509\n",
      "Derivative analitically  =  1\n",
      "Difference is =  0.0007992778373491216\n",
      "\n",
      "\n",
      " Decreasing the value of delta, the accuracy is getting better until delta = 1e-08 and \n",
      "then getting worse for smaller values, in contrast to what expected\n"
     ]
    },
    {
     "data": {
      "image/png": "[encoded data removed]",
      "text/plain": [
       "<Figure size 432x288 with 1 Axes>"
      ]
     },
     "metadata": {
      "needs_background": "light"
     },
     "output_type": "display_data"
    }
   ],
   "source": [
    "def f(x):\n",
    "    return x*(x-1)\n",
    "\n",
    "\n",
    "\n",
    "#a)\n",
    "x=1\n",
    "delta=10**(-2)\n",
    "\n",
    "print(\"Derivative with incremental ratio = \", ((f(x+delta) - f(x))/(delta)))\n",
    "print(\"Derivative analitically  = \", (2*x -1))   \n",
    "\n",
    "print(\"\\nThe results are different, problem in the subctraction ( f(x+delta) - f(x) )\")\n",
    "print(\"the two numbers are really closed by in value \")\n",
    "\n",
    "print(\"\\n\\n\")\n",
    "#b)\n",
    "deltas=[10**y for y in range(-2, -15 , -2)]\n",
    "diff=[]\n",
    "\n",
    "for i in range (7):\n",
    "    print(\"Derivative with incremental ratio ( delta = \", deltas[i] ,\") = \", ((f(x+deltas[i]) - f(x))/(deltas[i])))\n",
    "    print(\"Derivative analitically  = \", (2*x -1))\n",
    "    diff.append(abs(((f(x+deltas[i]) - f(x))/(deltas[i])) - 1.))\n",
    "    print(\"Difference is = \" , diff[i] )\n",
    "    print(\"\\n\")\n",
    "\n",
    "    \n",
    "print(\" Decreasing the value of delta, the accuracy is getting better until delta =\", 10**(-8) ,\"and \\nthen getting worse for smaller values, in contrast to what expected\")\n",
    "\n",
    "import matplotlib.pyplot as plt\n",
    "import numpy as np\n",
    "\n",
    "plt.xscale(\"log\")\n",
    "plt.plot(deltas, diff, \"rx\")\n",
    "plt.xlabel(\" delta values \")\n",
    "plt.ylabel(\"| IncrementalRatio - Analitically |\")\n",
    "plt.show()\n",
    "\n"
   ]
  },
  {
   "cell_type": "markdown",
   "metadata": {},
   "source": [
    "7\\. Consider the integral of the semicircle of radius 1:\n",
    "$$\n",
    "I=\\int_{-1}^{1} \\sqrt(1-x^2) {\\rm d}x\n",
    "$$\n",
    "which it's known to be $I=\\frac{\\pi}{2}=1.57079632679...$.\n",
    "Alternatively we can use the Riemann definition of the integral:\n",
    "$$\n",
    "I=\\lim_{N\\to\\infty} \\sum_{k=1}^{N} h y_k \n",
    "$$\n",
    "\n",
    "with $h=2/N$ the width of each of the $N$ slices the domain is divided into and where\n",
    "$y_k$ is the value of the function at the $k-$th slice.\n",
    "\n",
    "(a) Write a programe to compute the integral with $N=100$. How does the result compares to the true value?\n",
    "\n",
    "(b) How much can $N$ be increased if the computation needs to be run in less than a second? What is the gain in running it for 1 minute? \n"
   ]
  },
  {
   "cell_type": "code",
   "execution_count": 65,
   "metadata": {},
   "outputs": [
    {
     "name": "stdout",
     "output_type": "stream",
     "text": [
      "Calculated value of the Integral is =  1.5691342555492505\n",
      "Correct value is pi/2 =  1.5707963267948966\n",
      "Comparation: % change =  0.10581074180619238 %\n",
      "\n",
      "\n",
      "879 ms ± 19.4 ms per loop (mean ± std. dev. of 7 runs, 1 loop each)\n",
      "limit to compute under 1 sec is almost for N =  2000000\n",
      "Calculated value of the Integral is =  1.5707963262069677\n",
      "Correct value is pi/2 =  1.5707963267948966\n",
      "Comparation: % change =  3.742871094826833e-08 %\n",
      "\n",
      "\n",
      "1min 28s ± 2.81 s per loop (mean ± std. dev. of 7 runs, 1 loop each)\n",
      "limit to compute over one minute is almost for N =  200000000\n",
      "Calculated value of the Integral is =  1.5707963267944416\n",
      "Correct value is pi/2 =  1.5707963267948966\n",
      "Comparation: % change =  2.8964251299194427e-11 %\n"
     ]
    }
   ],
   "source": [
    "import math as m\n",
    "\n",
    "def f(x):\n",
    "    return m.sqrt(1 - x**2)\n",
    "\n",
    "def integral(N):\n",
    "    integ=0\n",
    "    for k in range (1,N+1):\n",
    "        integ+=(2/N)*(f(-1 +(2/N)*k))\n",
    "    return integ\n",
    "\n",
    "#a)\n",
    "\n",
    "print(\"Calculated value of the Integral is = \" , integral(100))\n",
    "print(\"Correct value is pi/2 = \",  m.pi/2)\n",
    "print(\"Comparation: % change = \", 100* (m.pi/2 - integral(100))/(m.pi/2) , \"%\")\n",
    "\n",
    "\n",
    "#b)\n",
    "print(\"\\n\")\n",
    "%timeit integral(2*10**6)\n",
    "print(\"limit to compute under 1 sec is almost for N = \", 2*10**6)\n",
    "print(\"Calculated value of the Integral is = \" , integral(2*10**6))\n",
    "print(\"Correct value is pi/2 = \",  m.pi/2)\n",
    "print(\"Comparation: % change = \", 100* (m.pi/2 - integral(2*10**6))/(m.pi/2) , \"%\")\n",
    "\n",
    "print(\"\\n\")\n",
    "%timeit integral(2*10**8)\n",
    "print(\"limit to compute over one minute is almost for N = \", 2*10**8)\n",
    "print(\"Calculated value of the Integral is = \" , integral(2*10**8))\n",
    "print(\"Correct value is pi/2 = \",  m.pi/2)\n",
    "print(\"Comparation: % change = \", 100* (m.pi/2 - integral(2*10**8))/(m.pi/2) , \"%\")"
   ]
  },
  {
   "cell_type": "code",
   "execution_count": null,
   "metadata": {},
   "outputs": [],
   "source": []
  }
 ],
 "metadata": {
  "kernelspec": {
   "display_name": "Python 3",
   "language": "python",
   "name": "python3"
  },
  "language_info": {
   "codemirror_mode": {
    "name": "ipython",
    "version": 3
   },
   "file_extension": ".py",
   "mimetype": "text/x-python",
   "name": "python",
   "nbconvert_exporter": "python",
   "pygments_lexer": "ipython3",
   "version": "3.8.10"
  }
 },
 "nbformat": 4,
 "nbformat_minor": 2
}
