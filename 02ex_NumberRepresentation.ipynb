{
 "cells": [
  {
   "cell_type": "markdown",
   "metadata": {},
   "source": [
    "1\\. Write a function that converts number representation (bin<->dec<->hex)"
   ]
  },
  {
   "cell_type": "code",
   "execution_count": 33,
   "metadata": {},
   "outputs": [
    {
     "data": {
      "text/plain": [
       "195"
      ]
     },
     "execution_count": 33,
     "metadata": {},
     "output_type": "execute_result"
    }
   ],
   "source": [
    "def bin_dec(bin):\n",
    "    dec= 0\n",
    "    a=bin[::-1]\n",
    "    for i in range(len(a)):\n",
    "        dec+=int(a[i])*2**i\n",
    "    return dec\n",
    "\n",
    "def dec_bin(dec):\n",
    "    bin = ''\n",
    "    q = dec\n",
    "    while q!=0:\n",
    "        rem = q%2\n",
    "        bin = str(rem)+bin\n",
    "        q = q//2\n",
    "    return bin\n",
    "\n",
    "def dec_hex(dec):\n",
    "    hex_codex = {10:'A',11:'B',12:'C',13:'D',14:'E',15:'F'}\n",
    "    hex =''\n",
    "    q = dec\n",
    "    while q!=0:\n",
    "        rem = q%16\n",
    "        if rem>=10:\n",
    "            rem=hex_codex[rem]\n",
    "        hex = str(rem)+hex\n",
    "        q = q//16\n",
    "    return hex\n",
    "\n",
    "def hex_dec(hex):\n",
    "    hex_codex = {'A':10,'B':11,'C':12,'D':13,'E':14,'F':15}\n",
    "    dec=0\n",
    "    a=hex[::-1]\n",
    "    for i in range(len(a)):\n",
    "        n=a[i]\n",
    "        if n=='A'or n=='B'or n=='C'or n=='D'or n=='E'or n=='F':\n",
    "            n=hex_codex[n]\n",
    "        dec+=int(n)*16**i\n",
    "    return dec\n",
    "\n",
    "#bin_dec('110')\n",
    "#dec_bin(138)\n",
    "#dec_hex(163)\n",
    "#hex_dec('C3')"
   ]
  },
  {
   "cell_type": "markdown",
   "metadata": {},
   "source": [
    "2\\. Write a function that converts a 32 bit word into a single precision floating point (i.e. interprets the various bits as sign, mantissa and exponent)"
   ]
  },
  {
   "cell_type": "code",
   "execution_count": 28,
   "metadata": {},
   "outputs": [
    {
     "data": {
      "text/plain": [
       "-139.55999755859375"
      ]
     },
     "execution_count": 28,
     "metadata": {},
     "output_type": "execute_result"
    }
   ],
   "source": [
    "def bin_dec(bin):\n",
    "    dec=0\n",
    "    a=bin[::-1]\n",
    "    for i in range(len(a)):\n",
    "        dec+=int(a[i])*2**i\n",
    "    return dec\n",
    "\n",
    "def bitconv32(bi32):\n",
    "    dec = int(bi32[0])\n",
    "    exp = bin_dec(bi32[1:9])\n",
    "    bias = 127\n",
    "    man = 0\n",
    "    for i in range(len(bi32[9:])):\n",
    "        man+=int(bi32[9+i])*2**-(i+1)\n",
    "    n = (-1)**dec * (1+man) * 2**(exp-bias)\n",
    "    return n\n",
    "\n",
    "#bi32='11000011000010111000111101011100'\n",
    "#bitconv32(bi32)\n",
    "    "
   ]
  },
  {
   "cell_type": "markdown",
   "metadata": {},
   "source": [
    "3\\. Write a program to determine the underflow and overflow limits (within a factor of 2) for python on your computer. \n",
    "\n",
    "**Tips**: define two variables inizialized to 1 and halve/double them enough time to exceed the under/over-flow limits  "
   ]
  },
  {
   "cell_type": "code",
   "execution_count": 35,
   "metadata": {},
   "outputs": [
    {
     "name": "stdout",
     "output_type": "stream",
     "text": [
      "1075\n",
      "1026\n"
     ]
    }
   ],
   "source": [
    "a=0\n",
    "b=1\n",
    "c=b/2\n",
    "while b!=c:\n",
    "    b=c\n",
    "    c=c/2\n",
    "    a+=1\n",
    "    \n",
    "print(a)\n",
    "    \n",
    "a=0\n",
    "b=1\n",
    "c=b/2\n",
    "while b!=c:\n",
    "    b=c\n",
    "    c=c*2\n",
    "    a+=1\n",
    "print(a)"
   ]
  },
  {
   "cell_type": "markdown",
   "metadata": {},
   "source": [
    "4\\. Write a program to determine the machine precision\n",
    "\n",
    "**Tips**: define a new variable by adding a smaller and smaller value (proceeding similarly to prob. 2) to an original variable and check the point where the two are the same "
   ]
  },
  {
   "cell_type": "code",
   "execution_count": 38,
   "metadata": {},
   "outputs": [
    {
     "name": "stdout",
     "output_type": "stream",
     "text": [
      "2.220446049250313e-16\n",
      "2.220446049250313e-16\n"
     ]
    }
   ],
   "source": [
    "me=1\n",
    "while (1+me)>1:\n",
    "    me=me/2\n",
    "me=me*2# we are multiplying by 2 since after division by 2 the condition of (1+e)>1 breaks.\n",
    "print(me)\n",
    "\n",
    "import numpy as np\n",
    "print(np.finfo(float).eps)#easier way for machine epsilon for a float type\n"
   ]
  },
  {
   "cell_type": "markdown",
   "metadata": {},
   "source": [
    "5\\. Write a function that takes in input three parameters $a$, $b$ and $c$ and prints out the two solutions to the quadratic equation $ax^2+bx+c=0$ using the standard formula:\n",
    "$$\n",
    "x=\\frac{-b\\pm\\sqrt{b^2-4ac}}{2a}\n",
    "$$\n",
    "\n",
    "(a) use the program to compute the solution for $a=0.001$, $b=1000$ and $c=0.001$\n",
    "\n",
    "(b) re-express the standard solution formula by multiplying top and bottom by $-b\\mp\\sqrt{b^2-4ac}$ and again find the solution for $a=0.001$, $b=1000$ and $c=0.001$. How does it compare with what previously obtained? Why?\n",
    "\n",
    "(c) write a function that compute the roots of a quadratic equation accurately in all cases"
   ]
  },
  {
   "cell_type": "code",
   "execution_count": 45,
   "metadata": {},
   "outputs": [
    {
     "name": "stdout",
     "output_type": "stream",
     "text": [
      "-9.999894245993346e-07 -999999.999999\n"
     ]
    }
   ],
   "source": [
    "import cmath\n",
    "a=0.001\n",
    "b=1000\n",
    "c=0.001\n",
    "x1 = (-b+sqrt(b**2-4*a*c))/(2*a)\n",
    "x2 = (-b-sqrt(b**2-4*a*c))/(2*a)\n",
    "print(x1,x2)"
   ]
  },
  {
   "cell_type": "code",
   "execution_count": 48,
   "metadata": {},
   "outputs": [
    {
     "name": "stdout",
     "output_type": "stream",
     "text": [
      "-9.999894245993346e-07 -999999.9999990001\n",
      "Given the additional division it gets more floating points\n"
     ]
    }
   ],
   "source": [
    "import cmath\n",
    "a=0.001\n",
    "b=1000\n",
    "c=0.001\n",
    "x1 = (-b+sqrt(b**2-4*a*c))*(-b-sqrt(b**2-4*a*c))/((2*a)*(-b-sqrt(b**2-4*a*c)))\n",
    "x2 = (-b-sqrt(b**2-4*a*c))*(-b+sqrt(b**2-4*a*c))/((2*a)*(-b+sqrt(b**2-4*a*c)))\n",
    "print(x1,x2)\n",
    "#Given the additional division it gets more floating points"
   ]
  },
  {
   "cell_type": "code",
   "execution_count": 50,
   "metadata": {},
   "outputs": [],
   "source": [
    "import cmath\n",
    "a=0.001\n",
    "b=1000\n",
    "c=0.001\n",
    "def quadratic_roots(a,b,c):\n",
    "    d=b**2-4*a*c\n",
    "    if d>0:\n",
    "        print(\"2 roots\")\n",
    "        x1=(-b+sqrt(d))/(2*a)\n",
    "        x2=(-b-sqrt(d))/(2*a)\n",
    "        print(x1,x2)\n",
    "    elif d==0:\n",
    "        print(\"1 root\")\n",
    "        x1=-b/(2*a)\n",
    "        print(x1)\n",
    "    else:\n",
    "        print(\"No roots\")\n",
    "\n",
    "quadratic_roots(a,b,c)"
   ]
  },
  {
   "cell_type": "markdown",
   "metadata": {},
   "source": [
    "6\\. Write a program that implements the function $f(x)=x(x−1)$\n",
    "\n",
    "(a) Calculate the derivative of the function at the point $x = 1$ using the derivative definition:\n",
    "\n",
    "$$\n",
    "\\frac{{\\rm d}f}{{\\rm d}x} = \\lim_{\\delta\\to0} \\frac{f(x+\\delta)-f(x)}{\\delta}\n",
    "$$\n",
    "\n",
    "with $\\delta = 10^{−2}$. Calculate the true value of the same derivative analytically and compare with the answer your program gives. The two will not agree perfectly. Why not?\n",
    "\n",
    "(b) Repeat the calculation for $\\delta = 10^{−4}, 10^{−6}, 10^{−8}, 10^{−10}, 10^{−12}$ and $10^{−14}$. How does the accuracy scales with $\\delta$?"
   ]
  },
  {
   "cell_type": "code",
   "execution_count": 52,
   "metadata": {},
   "outputs": [
    {
     "data": {
      "text/plain": [
       "1.010000000000001"
      ]
     },
     "execution_count": 52,
     "metadata": {},
     "output_type": "execute_result"
    }
   ],
   "source": [
    "def f(x):\n",
    "    return x*(x-1)\n",
    "\n",
    "def derivative(x,delta): \n",
    "    return (f(x+delta)-f(x))/delta\n",
    "    \n",
    "derivative(1,1e-2)"
   ]
  },
  {
   "cell_type": "code",
   "execution_count": 53,
   "metadata": {},
   "outputs": [
    {
     "name": "stdout",
     "output_type": "stream",
     "text": [
      "1.0000999999998899\n",
      "1.0000009999177333\n",
      "1.0000000039225287\n",
      "1.000000082840371\n",
      "1.0000889005833413\n",
      "0.9992007221626509\n"
     ]
    }
   ],
   "source": [
    "def f(x):\n",
    "    return x*(x-1)\n",
    "\n",
    "def derivative(x,delta): \n",
    "    return (f(x+delta)-f(x))/delta\n",
    "    \n",
    "for delta in [1e-4,1e-6,1e-8,1e-10,1e-12,1e-14]:\n",
    "    print(derivative(1,delta))\n",
    "#taking delta as small as possible makes errors from the roundoff to be unbounded"
   ]
  },
  {
   "cell_type": "markdown",
   "metadata": {},
   "source": [
    "7\\. Consider the integral of the semicircle of radius 1:\n",
    "$$\n",
    "I=\\int_{-1}^{1} \\sqrt(1-x^2) {\\rm d}x\n",
    "$$\n",
    "which it's known to be $I=\\frac{\\pi}{2}=1.57079632679...$.\n",
    "Alternatively we can use the Riemann definition of the integral:\n",
    "$$\n",
    "I=\\lim_{N\\to\\infty} \\sum_{k=1}^{N} h y_k \n",
    "$$\n",
    "\n",
    "with $h=2/N$ the width of each of the $N$ slices the domain is divided into and where\n",
    "$y_k$ is the value of the function at the $k-$th slice.\n",
    "\n",
    "(a) Write a programe to compute the integral with $N=100$. How does the result compares to the true value?\n",
    "\n",
    "(b) How much can $N$ be increased if the computation needs to be run in less than a second? What is the gain in running it for 1 minute? \n"
   ]
  },
  {
   "cell_type": "code",
   "execution_count": 54,
   "metadata": {},
   "outputs": [
    {
     "name": "stdout",
     "output_type": "stream",
     "text": [
      "1.5691342555492505\n"
     ]
    }
   ],
   "source": [
    "import cmath\n",
    "a=-1\n",
    "b=1\n",
    "N=100\n",
    "h=2/N\n",
    "integral=0\n",
    "\n",
    "for i in range(1,N+1):\n",
    "    integral+=sqrt(1-(a+h*i)**2)*h\n",
    "print(integral)\n"
   ]
  },
  {
   "cell_type": "code",
   "execution_count": 71,
   "metadata": {},
   "outputs": [
    {
     "name": "stdout",
     "output_type": "stream",
     "text": [
      "1134 1.5707527206854388\n",
      "8837 1.570794324494992\n",
      "0.0026485841528985014\n"
     ]
    }
   ],
   "source": [
    "import cmath\n",
    "import time\n",
    "a=-1\n",
    "b=1\n",
    "N=1\n",
    "h=2/N\n",
    "\n",
    "\n",
    "tot_t = time.time() + 1 \n",
    "while time.time() <= tot_t:\n",
    "    integral=0\n",
    "    for i in range(1,N+1):\n",
    "        integral+=sqrt(1-(a+(2/N)*i)**2)*(2/N)\n",
    "    N+=1\n",
    "    \n",
    "integral1=integral\n",
    "print(N,integral1)\n",
    "\n",
    "import time\n",
    "t_end = time.time() + 60\n",
    "while time.time() <= t_end:\n",
    "    integral=0\n",
    "    for i in range(1,N+1):\n",
    "        integral+=sqrt(1-(a+(2/N)*i)**2)*(2/N)\n",
    "    N+=1\n",
    "integral2=integral\n",
    "print(N,integral2)\n",
    "g = (abs(integral1-integral2)/integral2)*100\n",
    "print(g)"
   ]
  },
  {
   "cell_type": "code",
   "execution_count": null,
   "metadata": {},
   "outputs": [],
   "source": []
  }
 ],
 "metadata": {
  "kernelspec": {
   "display_name": "Python 3",
   "language": "python",
   "name": "python3"
  },
  "language_info": {
   "codemirror_mode": {
    "name": "ipython",
    "version": 3
   },
   "file_extension": ".py",
   "mimetype": "text/x-python",
   "name": "python",
   "nbconvert_exporter": "python",
   "pygments_lexer": "ipython3",
   "version": "3.8.8"
  }
 },
 "nbformat": 4,
 "nbformat_minor": 2
}
