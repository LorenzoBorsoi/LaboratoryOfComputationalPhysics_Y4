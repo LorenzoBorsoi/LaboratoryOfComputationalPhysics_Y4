{
 "cells": [
  {
   "cell_type": "markdown",
   "metadata": {},
   "source": [
    "1\\. Write a function that converts number representation (bin<->dec<->hex)"
   ]
  },
  {
   "cell_type": "code",
   "execution_count": 200,
   "outputs": [
    {
     "name": "stdout",
     "output_type": "stream",
     "text": [
      "8 to base bin -> 1 0 0 0\n",
      "8 to base dec -> 8\n",
      "8 to base hex -> 8\n",
      "-15 to base bin -> - 1 1 1 1\n",
      "-15 to base dec -> - 1 5\n",
      "-15 to base hex -> - F\n",
      "1234 to base bin -> 1 0 0 1 1 0 1 0 0 1 0\n",
      "1234 to base dec -> 1 2 3 4\n",
      "1234 to base hex -> 4 D 2\n",
      "-14100 to base bin -> - 1 1 0 1 1 1 0 0 0 1 0 1 0 0\n",
      "-14100 to base dec -> - 1 4 1 0 0\n",
      "-14100 to base hex -> - 3 7 1 4\n"
     ]
    }
   ],
   "source": [
    "# This converts any integer 'number' to a representation according to a list of symbols 'base' and stores it in 'result'\n",
    "import sys\n",
    "\n",
    "\n",
    "def to_base(number, base, result):\n",
    "    size = len(base)\n",
    "    if number < 0:\n",
    "        result.append(\"-\")\n",
    "        number *= -1\n",
    "    if number >= size:\n",
    "        to_base(number / size, base, result)\n",
    "    result.append(base[int(number % size)])\n",
    "\n",
    "\n",
    "arr = []\n",
    "operands = [8, -15, 1234, -14100]\n",
    "bases = {\"bin\": \"01\", \"dec\": \"0123456789\", \"hex\": \"0123456789ABCDEF\"}\n",
    "for num in operands:\n",
    "    for key, value in bases.items():\n",
    "        to_base(num, value, arr)\n",
    "        print(num, \"to base\", key, \"->\", *arr)\n",
    "        arr.clear()"
   ],
   "metadata": {
    "collapsed": false,
    "pycharm": {
     "name": "#%%\n"
    }
   }
  },
  {
   "cell_type": "markdown",
   "metadata": {},
   "source": [
    "2\\. Write a function that converts a 32 bit word into a single precision floating point (i.e. interprets the various\n",
    "bits as sign, mantissa and exponent)"
   ]
  },
  {
   "cell_type": "code",
   "execution_count": 201,
   "outputs": [
    {
     "name": "stdout",
     "output_type": "stream",
     "text": [
      "Convert ' lola ' into a float -> 0b1101100 0b1101111 0b1101100 0b1100001 \n",
      "\tsign: 0b0 -> +\n",
      "\texponent: 0b11011000 -> 89\n",
      "\tmantissa: 0b11011110110110001100001 -> 1.8704948425292969\n",
      "Result for ' lola ' => 1.1577802294219095e+27.\n",
      "\n",
      "Convert ' =qed ' into a float -> 0b111101 0b1110001 0b1100101 0b1100100 \n",
      "\tsign: 0b0 -> +\n",
      "\texponent: 0b1111010 -> -5\n",
      "\tmantissa: 0b11100010110010101100100 -> 1.88590669631958\n",
      "Result for ' =qed ' => 0.05893458425998688.\n",
      "\n",
      "Convert ' çps ' into a float -> 0b11000011 0b10100111 0b1110000 0b1110011 \n",
      "\tsign: 0b1 -> -\n",
      "\texponent: 0b10000111 -> 8\n",
      "\tmantissa: 0b10000000001001110111000001110011 -> 1.5006017684936523\n",
      "Result for ' çps ' => -384.154052734375.\n",
      "\n",
      "Convert ' 02ex ' into a float -> 0b110000 0b110010 0b1100101 0b1111000 \n",
      "\tsign: 0b0 -> +\n",
      "\texponent: 0b1100000 -> -31\n",
      "\tmantissa: 0b1100100110010101111000 -> 1.7874431610107422\n",
      "Result for ' 02ex ' => 8.323430833456769e-10.\n",
      "\n"
     ]
    }
   ],
   "source": [
    "# utf-8? -> çtt es palabra\n",
    "def word_to_float(word):\n",
    "    bin_arr = 0\n",
    "    byte_array = bytearray(word, 'utf-8')\n",
    "    if len(byte_array) != 4:\n",
    "        return 0\n",
    "    for i in range(len(byte_array)):\n",
    "        bin_arr += byte_array[i]\n",
    "        if i != len(byte_array) - 1:\n",
    "            bin_arr = bin_arr << 8\n",
    "    sign = bin_arr >> 31\n",
    "    print(\"\\tsign:\", bin(sign), \"->\", (sign == 1) * \"-\" + (sign == 0) * \"+\")\n",
    "    exponent = (bin_arr >> 23) & ~(1 << 8)\n",
    "    print(\"\\texponent:\", bin(exponent), \"->\", exponent - 127)\n",
    "    mantissa = bin_arr & ~((2 ** 8 - 1) << 23)\n",
    "    print(\"\\tmantissa:\", bin(mantissa), \"->\", end= \" \")\n",
    "    mantissa_bin = []\n",
    "    to_base(mantissa, \"01\", mantissa_bin)\n",
    "    mantissa = 1.0\n",
    "    for element, i in zip(mantissa_bin, range(-1,-23,-1)):\n",
    "        mantissa += (element == '1') * (2 ** i)\n",
    "    print(mantissa)\n",
    "    return ((sign == 0) - (sign == 1)) * mantissa * (2 ** (exponent - 127))\n",
    "\n",
    "\n",
    "for example in [\"lola\", \"=qed\", \"çps\", \"02ex\"]:\n",
    "    print(\"Convert\", \"'\", example, \"'\", \"into a float ->\", end=\" \")\n",
    "    for plot in bytearray(example, 'utf-8'):\n",
    "        print(bin(plot), end=\" \")\n",
    "    print()\n",
    "    print(\"Result for '\", example,\"' =>\", word_to_float(example), end=\".\\n\\n\")\n"
   ],
   "metadata": {
    "collapsed": false,
    "pycharm": {
     "name": "#%%\n"
    }
   }
  },
  {
   "cell_type": "markdown",
   "metadata": {},
   "source": [
    "3\\. Write a program to determine the underflow and overflow limits (within a factor of 2) for python on your computer. \n",
    "\n",
    "**Tips**: define two variables inizialized to 1 and halve/double them enough time to exceed the under/over-flow limits  "
   ]
  },
  {
   "cell_type": "markdown",
   "metadata": {},
   "source": [
    "4\\. Write a program to determine the machine precision\n",
    "\n",
    "**Tips**: define a new variable by adding a smaller and smaller value (proceeding similarly to prob. 2) to an original variable and check the point where the two are the same "
   ]
  },
  {
   "cell_type": "markdown",
   "metadata": {},
   "source": [
    "5\\. Write a function that takes in input three parameters $a$, $b$ and $c$ and prints out the two solutions to the quadratic equation $ax^2+bx+c=0$ using the standard formula:\n",
    "$$\n",
    "x=\\frac{-b\\pm\\sqrt{b^2-4ac}}{2a}\n",
    "$$\n",
    "\n",
    "(a) use the program to compute the solution for $a=0.001$, $b=1000$ and $c=0.001$\n",
    "\n",
    "(b) re-express the standard solution formula by multiplying top and bottom by $-b\\mp\\sqrt{b^2-4ac}$ and again find the solution for $a=0.001$, $b=1000$ and $c=0.001$. How does it compare with what previously obtained? Why?\n",
    "\n",
    "(c) write a function that compute the roots of a quadratic equation accurately in all cases"
   ]
  },
  {
   "cell_type": "markdown",
   "metadata": {},
   "source": [
    "6\\. Write a program that implements the function $f(x)=x(x−1)$\n",
    "\n",
    "(a) Calculate the derivative of the function at the point $x = 1$ using the derivative definition:\n",
    "\n",
    "$$\n",
    "\\frac{{\\rm d}f}{{\\rm d}x} = \\lim_{\\delta\\to0} \\frac{f(x+\\delta)-f(x)}{\\delta}\n",
    "$$\n",
    "\n",
    "with $\\delta = 10^{−2}$. Calculate the true value of the same derivative analytically and compare with the answer your program gives. The two will not agree perfectly. Why not?\n",
    "\n",
    "(b) Repeat the calculation for $\\delta = 10^{−4}, 10^{−6}, 10^{−8}, 10^{−10}, 10^{−12}$ and $10^{−14}$. How does the accuracy scales with $\\delta$?"
   ]
  },
  {
   "cell_type": "markdown",
   "metadata": {},
   "source": [
    "7\\. Consider the integral of the semicircle of radius 1:\n",
    "$$\n",
    "I=\\int_{-1}^{1} \\sqrt(1-x^2) {\\rm d}x\n",
    "$$\n",
    "which it's known to be $I=\\frac{\\pi}{2}=1.57079632679...$.\n",
    "Alternatively we can use the Riemann definition of the integral:\n",
    "$$\n",
    "I=\\lim_{N\\to\\infty} \\sum_{k=1}^{N} h y_k \n",
    "$$\n",
    "\n",
    "with $h=2/N$ the width of each of the $N$ slices the domain is divided into and where\n",
    "$y_k$ is the value of the function at the $k-$th slice.\n",
    "\n",
    "(a) Write a programe to compute the integral with $N=100$. How does the result compares to the true value?\n",
    "\n",
    "(b) How much can $N$ be increased if the computation needs to be run in less than a second? What is the gain in running it for 1 minute? \n"
   ]
  },
  {
   "cell_type": "code",
   "execution_count": 201,
   "metadata": {},
   "outputs": [],
   "source": []
  }
 ],
 "metadata": {
  "kernelspec": {
   "name": "pycharm-e992d7ce",
   "language": "python",
   "display_name": "PyCharm (Intro_Lab)"
  },
  "language_info": {
   "codemirror_mode": {
    "name": "ipython",
    "version": 3
   },
   "file_extension": ".py",
   "mimetype": "text/x-python",
   "name": "python",
   "nbconvert_exporter": "python",
   "pygments_lexer": "ipython3",
   "version": "3.5.4"
  }
 },
 "nbformat": 4,
 "nbformat_minor": 2
}