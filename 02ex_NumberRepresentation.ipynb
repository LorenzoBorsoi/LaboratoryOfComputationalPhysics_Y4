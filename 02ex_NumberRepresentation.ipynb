{
 "cells": [
  {
   "cell_type": "markdown",
   "metadata": {},
   "source": [
    "1\\. Write a function that converts number representation (bin<->dec<->hex)"
   ]
  },
  {
   "cell_type": "code",
   "execution_count": 20,
   "metadata": {},
   "outputs": [
    {
     "name": "stdout",
     "output_type": "stream",
     "text": [
      "Insert a base of a representation: 2\n",
      "Insert a number in that representation: 10101100111001010010111100\n",
      "Insert the base you wish to convert the number into: 16\n"
     ]
    },
    {
     "ename": "AttributeError",
     "evalue": "'list' object has no attribute 'upper'",
     "output_type": "error",
     "traceback": [
      "\u001b[0;31m---------------------------------------------------------------------------\u001b[0m",
      "\u001b[0;31mAttributeError\u001b[0m                            Traceback (most recent call last)",
      "\u001b[0;32m<ipython-input-20-a78a1cb76e19>\u001b[0m in \u001b[0;36m<module>\u001b[0;34m\u001b[0m\n\u001b[1;32m     50\u001b[0m \u001b[0mx\u001b[0m \u001b[0;34m=\u001b[0m \u001b[0minput\u001b[0m\u001b[0;34m(\u001b[0m\u001b[0;34m\"Insert a number in that representation: \"\u001b[0m\u001b[0;34m)\u001b[0m\u001b[0;34m\u001b[0m\u001b[0;34m\u001b[0m\u001b[0m\n\u001b[1;32m     51\u001b[0m \u001b[0mconv\u001b[0m \u001b[0;34m=\u001b[0m \u001b[0mint\u001b[0m\u001b[0;34m(\u001b[0m\u001b[0minput\u001b[0m\u001b[0;34m(\u001b[0m\u001b[0;34m\"Insert the base you wish to convert the number into: \"\u001b[0m\u001b[0;34m)\u001b[0m\u001b[0;34m)\u001b[0m\u001b[0;34m\u001b[0m\u001b[0;34m\u001b[0m\u001b[0m\n\u001b[0;32m---> 52\u001b[0;31m \u001b[0mtot\u001b[0m \u001b[0;34m=\u001b[0m \u001b[0mconvert\u001b[0m\u001b[0;34m(\u001b[0m\u001b[0mx\u001b[0m\u001b[0;34m,\u001b[0m\u001b[0mrep\u001b[0m\u001b[0;34m,\u001b[0m\u001b[0mconv\u001b[0m\u001b[0;34m)\u001b[0m\u001b[0;34m\u001b[0m\u001b[0;34m\u001b[0m\u001b[0m\n\u001b[0m\u001b[1;32m     53\u001b[0m \u001b[0mprint\u001b[0m\u001b[0;34m(\u001b[0m\u001b[0mtot\u001b[0m\u001b[0;34m)\u001b[0m\u001b[0;34m\u001b[0m\u001b[0;34m\u001b[0m\u001b[0m\n",
      "\u001b[0;32m<ipython-input-20-a78a1cb76e19>\u001b[0m in \u001b[0;36mconvert\u001b[0;34m(x, rep, conv)\u001b[0m\n\u001b[1;32m     43\u001b[0m             \u001b[0;32mif\u001b[0m \u001b[0mdec\u001b[0m \u001b[0;34m==\u001b[0m \u001b[0;36m0\u001b[0m\u001b[0;34m:\u001b[0m \u001b[0;32mbreak\u001b[0m\u001b[0;34m\u001b[0m\u001b[0;34m\u001b[0m\u001b[0m\n\u001b[1;32m     44\u001b[0m         \u001b[0mres\u001b[0m\u001b[0;34m.\u001b[0m\u001b[0mreverse\u001b[0m\u001b[0;34m(\u001b[0m\u001b[0;34m)\u001b[0m\u001b[0;34m\u001b[0m\u001b[0;34m\u001b[0m\u001b[0m\n\u001b[0;32m---> 45\u001b[0;31m         \u001b[0mres\u001b[0m\u001b[0;34m.\u001b[0m\u001b[0mupper\u001b[0m\u001b[0;34m(\u001b[0m\u001b[0;34m)\u001b[0m\u001b[0;34m\u001b[0m\u001b[0;34m\u001b[0m\u001b[0m\n\u001b[0m\u001b[1;32m     46\u001b[0m         \u001b[0;32mreturn\u001b[0m\u001b[0;34m(\u001b[0m\u001b[0;34m''\u001b[0m\u001b[0;34m.\u001b[0m\u001b[0mjoin\u001b[0m\u001b[0;34m(\u001b[0m\u001b[0mres\u001b[0m\u001b[0;34m)\u001b[0m\u001b[0;34m)\u001b[0m\u001b[0;34m\u001b[0m\u001b[0;34m\u001b[0m\u001b[0m\n\u001b[1;32m     47\u001b[0m     \u001b[0;32melse\u001b[0m\u001b[0;34m:\u001b[0m \u001b[0mprint\u001b[0m\u001b[0;34m(\u001b[0m\u001b[0;34m\"This function does not support the chosen representation.\"\u001b[0m\u001b[0;34m)\u001b[0m\u001b[0;34m\u001b[0m\u001b[0;34m\u001b[0m\u001b[0m\n",
      "\u001b[0;31mAttributeError\u001b[0m: 'list' object has no attribute 'upper'"
     ]
    }
   ],
   "source": [
    "def convert(x,rep,conv):\n",
    "    switch = {'0' : \"0\", '1' : \"1\", '2' : \"2\", '3' : \"3\", '4' : \"4\", '5' : \"5\", '6' : \"6\", '7' : \"7\", '8' : \"8\", '9' : \"9\", 'a' : \"10\", 'b' : \"11\", 'c' : \"12\", 'd' : \"13\", 'e' : \"14\", 'f' : \"15\"}\n",
    "    switch1 = {'10' : \"a\", '11' : \"b\", '12' : \"c\", '13' : \"d\", '14' : \"e\", '15' : \"f\"}\n",
    "        \n",
    "    dec = 0\n",
    "    i = 1\n",
    "    for val in x:\n",
    "        base = int(switch[val])\n",
    "        dec += base*pow(rep,len(x)-i)\n",
    "        i += 1\n",
    "    if conv == 10: return(dec)\n",
    "    elif conv == 2:\n",
    "        j = 0\n",
    "        res = []\n",
    "        while j == 0:\n",
    "            res.append(str(int(dec%2)))\n",
    "            dec = (dec - dec%2)/2\n",
    "            if dec == 0: break\n",
    "        res.reverse()\n",
    "        return(''.join(res))\n",
    "    elif conv == 16:\n",
    "        j = 0\n",
    "        res = []\n",
    "        while j == 0:\n",
    "            check = dec%16\n",
    "            if check < 10:\n",
    "                res.append(str(int(check)))\n",
    "            else:\n",
    "                res.append(switch1[str(int(check))])\n",
    "            dec = (dec - dec%16)/16\n",
    "            if dec == 0: break\n",
    "        res.reverse()\n",
    "        return(''.join(res))\n",
    "    else: print(\"This function does not support the chosen representation.\")\n",
    "\n",
    "rep = int(input(\"Insert a base of a representation: \"))\n",
    "x = input(\"Insert a number in that representation: \")\n",
    "conv = int(input(\"Insert the base you wish to convert the number into: \"))\n",
    "tot = convert(x,rep,conv)\n",
    "print(tot)"
   ]
  },
  {
   "cell_type": "markdown",
   "metadata": {},
   "source": [
    "2\\. Write a function that converts a 32 bit word into a single precision floating point (i.e. interprets the various bits as sign, mantissa and exponent)"
   ]
  },
  {
   "cell_type": "code",
   "execution_count": 21,
   "metadata": {},
   "outputs": [
    {
     "name": "stdout",
     "output_type": "stream",
     "text": [
      "10001101110100101101011011100100\n",
      "The number converted is: -1.2993982262464173e-30\n"
     ]
    }
   ],
   "source": [
    "import random\n",
    "word = []\n",
    "word1 = []\n",
    "random.seed(version=2)\n",
    "for i in range(32):\n",
    "    word.append(random.randrange(0,2,1))\n",
    "    word1.append(str(word[i]))\n",
    "print(''.join(word1))\n",
    "#word = [1,1,0,0,0,0,0,0,1,0,1,1,0,0,0,0,0,0,0,0,0,0,0,0,0,0,0,0,0,0,0,0]\n",
    "exp = 0\n",
    "bias = 127\n",
    "for i in range(1,9):\n",
    "    exp += word[i] * pow(2,8-i)\n",
    "mant = 1\n",
    "for i in range(9,32):\n",
    "    mant += word[i]*pow(2,8-i)\n",
    "res = pow(-1,word[0])*mant*pow(2,exp-bias)\n",
    "print(\"The number converted is: {}\".format(res))"
   ]
  },
  {
   "cell_type": "markdown",
   "metadata": {},
   "source": [
    "3\\. Write a program to determine the underflow and overflow limits (within a factor of 2) for python on your computer. \n",
    "\n",
    "**Tips**: define two variables inizialized to 1 and halve/double them enough time to exceed the under/over-flow limits  "
   ]
  },
  {
   "cell_type": "code",
   "execution_count": 26,
   "metadata": {},
   "outputs": [
    {
     "name": "stdout",
     "output_type": "stream",
     "text": [
      "5e-324 1076\n",
      "The overflow limit exeeds the capability of the program.\n"
     ]
    }
   ],
   "source": [
    "x = 1\n",
    "xc = 0\n",
    "y = 1\n",
    "yc = 0\n",
    "yc1 = 0\n",
    "i = 0\n",
    "j = 0\n",
    "\n",
    "while i == 0:\n",
    "    yc1 = yc\n",
    "    yc = y\n",
    "    y = yc/2\n",
    "    j += 1\n",
    "    if y == yc: break\n",
    "\n",
    "print(yc1,j)\n",
    "\n",
    "for i in range(1000000):\n",
    "    xc = x\n",
    "    x = xc*2\n",
    "    if x == xc: break\n",
    "if not x == xc: \n",
    "    print(\"The overflow limit exeeds the capability of the program.\")\n",
    "else:\n",
    "    print(x,i)"
   ]
  },
  {
   "cell_type": "markdown",
   "metadata": {},
   "source": [
    "4\\. Write a program to determine the machine precision\n",
    "\n",
    "**Tips**: define a new variable by adding a smaller and smaller value (proceeding similarly to prob. 2) to an original variable and check the point where the two are the same "
   ]
  },
  {
   "cell_type": "code",
   "execution_count": 4,
   "metadata": {},
   "outputs": [
    {
     "name": "stdout",
     "output_type": "stream",
     "text": [
      "The machine precision is at 17 decimal cifers.\n"
     ]
    }
   ],
   "source": [
    "x = 1\n",
    "xc = 0\n",
    "i = 1\n",
    "while not x == xc:\n",
    "    xc = x + pow(10,-i)\n",
    "    i += 1\n",
    "print(\"The machine precision is at {} decimal cifers.\".format(i))"
   ]
  },
  {
   "cell_type": "markdown",
   "metadata": {},
   "source": [
    "5\\. Write a function that takes in input three parameters $a$, $b$ and $c$ and prints out the two solutions to the quadratic equation $ax^2+bx+c=0$ using the standard formula:\n",
    "$$\n",
    "x=\\frac{-b\\pm\\sqrt{b^2-4ac}}{2a}\n",
    "$$\n",
    "\n",
    "(a) use the program to compute the solution for $a=0.001$, $b=1000$ and $c=0.001$\n",
    "\n",
    "(b) re-express the standard solution formula by multiplying top and bottom by $-b\\mp\\sqrt{b^2-4ac}$ and again find the solution for $a=0.001$, $b=1000$ and $c=0.001$. How does it compare with what previously obtained? Why?\n",
    "\n",
    "(c) write a function that compute the roots of a quadratic equation accurately in all cases"
   ]
  },
  {
   "cell_type": "code",
   "execution_count": 30,
   "metadata": {},
   "outputs": [
    {
     "name": "stdout",
     "output_type": "stream",
     "text": [
      "(-9.999894245993346e-07, -999999.999999)\n",
      "(-1.000000000001e-06, -1000010.5755125057)\n",
      "-1.000000000001e-06 -999999.999999\n"
     ]
    }
   ],
   "source": [
    "import math\n",
    "\n",
    "\"\"\"def quadratic(a,b,c):\n",
    "    sq = math.sqrt(pow(b,2)-4*a*c)\n",
    "    p = (-b + sq)/(2*a)\n",
    "    m = (-b - sq)/(2*a)\n",
    "    return(p,m)\"\"\"\n",
    "\n",
    "def quadratic(a,b,c):\n",
    "    #sq = math.sqrt(pow(b,2)-4*a*c)\n",
    "    p = (-b + math.sqrt(pow(b,2)-4*a*c))/(2*a)\n",
    "    m = (-b - math.sqrt(pow(b,2)-4*a*c))/(2*a)\n",
    "    return(p,m)\n",
    "\n",
    "def quadratic1(a,b,c):\n",
    "    #sq = math.sqrt(pow(b,2)-4*a*c)\n",
    "    p = (2*c)/(-b-math.sqrt(pow(b,2)-4*a*c))\n",
    "    m = (2*c)/(-b+math.sqrt(pow(b,2)-4*a*c))\n",
    "    return(p,m)\n",
    "\n",
    "def quadratic_ok(a,b,c):\n",
    "    #sq = math.sqrt(pow(b,2)-4*a*c)\n",
    "    p = (2*c)/(-b-math.sqrt(pow(b,2)-4*a*c))\n",
    "    m = (-1 - math.sqrt((b-4*a*c/b)*b)/b)*b/(2*a)\n",
    "    return(p,m)\n",
    "\n",
    "print(quadratic(0.001,1000,0.001))\n",
    "print(quadratic1(0.001,1000,0.001))\n",
    "xp,xm = quadratic_ok(0.001,1000,0.001)\n",
    "print(xp,xm)"
   ]
  },
  {
   "cell_type": "markdown",
   "metadata": {},
   "source": [
    "6\\. Write a program that implements the function $f(x)=x(x−1)$\n",
    "\n",
    "(a) Calculate the derivative of the function at the point $x = 1$ using the derivative definition:\n",
    "\n",
    "$$\n",
    "\\frac{{\\rm d}f}{{\\rm d}x} = \\lim_{\\delta\\to0} \\frac{f(x+\\delta)-f(x)}{\\delta}\n",
    "$$\n",
    "\n",
    "with $\\delta = 10^{−2}$. Calculate the true value of the same derivative analytically and compare with the answer your program gives. The two will not agree perfectly. Why not?\n",
    "\n",
    "(b) Repeat the calculation for $\\delta = 10^{−4}, 10^{−6}, 10^{−8}, 10^{−10}, 10^{−12}$ and $10^{−14}$. How does the accuracy scales with $\\delta$?"
   ]
  },
  {
   "cell_type": "code",
   "execution_count": 37,
   "metadata": {},
   "outputs": [
    {
     "name": "stdout",
     "output_type": "stream",
     "text": [
      "1\n",
      "[1.010000000000001, 1.0000999999998899, 1.0000009999177333, 1.0000000039225287, 1.000000082840371, 1.0000889005833413, 0.9992007221626509]\n",
      "[-1.0000000000000897, -0.009999999988985486, -9.99917733279787e-05, -3.9225287462585356e-07, -8.284037100736441e-06, -0.008890058334132256, 0.07992778373491216]\n"
     ]
    }
   ],
   "source": [
    "import math\n",
    "\n",
    "f = lambda x: x*(x-1)\n",
    "\n",
    "def derivative(x,delta):\n",
    "    df = (f(x+delta)-f(x))/delta\n",
    "    return(df)\n",
    "\n",
    "x = 1\n",
    "delta = [pow(10,-2*i) for i in range(1,8)]\n",
    "der = [derivative(x,d) for d in delta]\n",
    "an = 2*x - 1\n",
    "acc = [100*(an-i)/an for i in der]\n",
    "print(an)\n",
    "print(der)\n",
    "print(acc)"
   ]
  },
  {
   "cell_type": "markdown",
   "metadata": {},
   "source": [
    "7\\. Consider the integral of the semicircle of radius 1:\n",
    "$$\n",
    "I=\\int_{-1}^{1} \\sqrt(1-x^2) {\\rm d}x\n",
    "$$\n",
    "which it's known to be $I=\\frac{\\pi}{2}=1.57079632679...$.\n",
    "Alternatively we can use the Riemann definition of the integral:\n",
    "$$\n",
    "I=\\lim_{N\\to\\infty} \\sum_{k=1}^{N} h y_k \n",
    "$$\n",
    "\n",
    "with $h=2/N$ the width of each of the $N$ slices the domain is divided into and where\n",
    "$y_k$ is the value of the function at the $k-$th slice.\n",
    "\n",
    "(a) Write a programe to compute the integral with $N=100$. How does the result compares to the true value?\n",
    "\n",
    "(b) How much can $N$ be increased if the computation needs to be run in less than a second? What is the gain in running it for 1 minute? \n"
   ]
  },
  {
   "cell_type": "code",
   "execution_count": null,
   "metadata": {},
   "outputs": [],
   "source": []
  }
 ],
 "metadata": {
  "kernelspec": {
   "display_name": "Python 3",
   "language": "python",
   "name": "python3"
  },
  "language_info": {
   "codemirror_mode": {
    "name": "ipython",
    "version": 3
   },
   "file_extension": ".py",
   "mimetype": "text/x-python",
   "name": "python",
   "nbconvert_exporter": "python",
   "pygments_lexer": "ipython3",
   "version": "3.7.4"
  }
 },
 "nbformat": 4,
 "nbformat_minor": 2
}
