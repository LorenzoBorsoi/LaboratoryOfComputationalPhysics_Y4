{
 "cells": [
  {
   "cell_type": "markdown",
   "metadata": {},
   "source": [
    "1\\. Write a function that converts number representation (bin<->dec<->hex)"
   ]
  },
  {
   "cell_type": "code",
   "execution_count": 19,
   "metadata": {},
   "outputs": [
    {
     "name": "stdout",
     "output_type": "stream",
     "text": [
      "write input base: 2\n",
      "write your number in input base: 010110\n",
      "write output base: 10\n",
      "decimal version:  22\n"
     ]
    }
   ],
   "source": [
    "i_base = int(input(\"write input base: \"))\n",
    "number = input(\"write your number in input base: \")\n",
    "o_base = int(input(\"write output base: \"))\n",
    "    \n",
    "#only 2 functions needed if bases taken as input\n",
    "\n",
    "def to_dec(a,bi):\n",
    "    #x = int(a)\n",
    "    if bi==2:\n",
    "        s = pow(-1,int(a[0]))\n",
    "    a = a[::-1]\n",
    "    m = 0\n",
    "    i = 0\n",
    "    while (i<len(a)):\n",
    "        if bi==2:\n",
    "            m += int(a[i])*pow(bi,i)\n",
    "            i += 1\n",
    "        else:\n",
    "            l = list(a)\n",
    "            if l[i]==\"A\": l[i]=str(10)\n",
    "            if l[i]==\"B\": l[i]=str(11)\n",
    "            if l[i]==\"C\": l[i]=str(12)\n",
    "            if l[i]==\"D\": l[i]=str(13)\n",
    "            if l[i]==\"E\": l[i]=str(14)\n",
    "            if l[i]==\"F\": l[i]=str(15)\n",
    "            m += int(l[i])*pow(bi,i)\n",
    "            i += 1\n",
    "    if bi==2:\n",
    "        return s*m\n",
    "    else:\n",
    "        return m\n",
    "    \n",
    "def dec_to(a,bo):\n",
    "    x = int(a)\n",
    "    b = list()\n",
    "    while (x/bo>=1/bo):\n",
    "        if bo==16 and x%bo>9 and x%bo<15:\n",
    "            if x%bo==10: b.append(\"A\")\n",
    "            if x%bo==11: b.append(\"B\")\n",
    "            if x%bo==12: b.append(\"C\")\n",
    "            if x%bo==13: b.append(\"D\")\n",
    "            if x%bo==14: b.append(\"E\")\n",
    "            if x%bo==15: b.append(\"F\")          \n",
    "        else:\n",
    "            b.append(x%bo)\n",
    "        x = x//bo\n",
    "    b = b[::-1]\n",
    "    f = list()\n",
    "    for element in b:\n",
    "        if type(element)==int:\n",
    "            f.append(str(element))\n",
    "        if type(element)==str:\n",
    "            f.append(element)\n",
    "    s = \"\".join(f)\n",
    "    return(s)   \n",
    "\n",
    "if i_base == 2:\n",
    "    if o_base == 10:\n",
    "        print(\"decimal version: \", to_dec(number,i_base))\n",
    "    if o_base == 16:\n",
    "        print(\"hexadecimal version: \", dec_to(to_dec(number,i_base),o_base))\n",
    "if i_base == 10:\n",
    "    if o_base == 2:\n",
    "        print(\"binary version: \", dec_to(number,o_base))\n",
    "    if o_base == 16: \n",
    "        print(\"hexadecimal version: \", dec_to(number,o_base))\n",
    "if i_base == 16:\n",
    "    if o_base == 10:\n",
    "        print(\"decimal version: \", to_dec(number,i_base))\n",
    "    if o_base == 2:\n",
    "        print(\"binary version: \", dec_to(to_dec(number,i_base),o_base))"
   ]
  },
  {
   "cell_type": "markdown",
   "metadata": {},
   "source": [
    "2\\. Write a function that converts a 32 bit word into a single precision floating point (i.e. interprets the various bits as sign, mantissa and exponent)"
   ]
  },
  {
   "cell_type": "code",
   "execution_count": 5,
   "metadata": {},
   "outputs": [
    {
     "name": "stdout",
     "output_type": "stream",
     "text": [
      "00000000000000000000110100000011 ----> -5.5\n"
     ]
    }
   ],
   "source": [
    "#examples\n",
    "ex1 = \"00000000000000000000011111000000\"\n",
    "ex2 = \"00000000000000000000110100000011\"\n",
    "n = ex2\n",
    "bias = 127\n",
    "\n",
    "#parts selection\n",
    "s = n[31:]\n",
    "e = n[23:31]\n",
    "f = n[:23]\n",
    "\n",
    "#sign determination\n",
    "sign = pow(-1,int(s))\n",
    "\n",
    "#mantissa determination\n",
    "mant = 1\n",
    "x = 1\n",
    "f = f[::-1]\n",
    "for i in f:\n",
    "    mant += int(i)*pow(2,-x)\n",
    "    x += 1\n",
    "\n",
    "#exponent determination\n",
    "expo = 0\n",
    "k = 0\n",
    "for i in e:\n",
    "    expo += int(i)*pow(2,int(k))\n",
    "    k += 1\n",
    "    \n",
    "result = sign*mant*pow(2,expo-bias)\n",
    "print(n, \"---->\", result)"
   ]
  },
  {
   "cell_type": "markdown",
   "metadata": {},
   "source": [
    "3\\. Write a program to determine the underflow and overflow limits (within a factor of 2) for python on your computer. \n",
    "\n",
    "**Tips**: define two variables inizialized to 1 and halve/double them enough time to exceed the under/over-flow limits  "
   ]
  },
  {
   "cell_type": "code",
   "execution_count": 20,
   "metadata": {},
   "outputs": [
    {
     "name": "stdout",
     "output_type": "stream",
     "text": [
      "overflow (for integers) not found after 5000 iterations\n",
      "found underflow 5e-324 after 1075 iterations\n"
     ]
    }
   ],
   "source": [
    "a = 1\n",
    "b = 1\n",
    "under = 0\n",
    "over = 0\n",
    "n = 5000 #max number of iterations\n",
    "\n",
    "while (over<n):\n",
    "    a *= 2\n",
    "    over += 1\n",
    "    \n",
    "while (b!=0):\n",
    "    b /= 2\n",
    "    under += 1\n",
    "\n",
    "print(\"overflow (for integers) not found after\", over, \"iterations\")\n",
    "print(\"found underflow\", 1/pow(2,under-1), \"after\", under, \"iterations\")"
   ]
  },
  {
   "cell_type": "markdown",
   "metadata": {},
   "source": [
    "4\\. Write a program to determine the machine precision\n",
    "\n",
    "**Tips**: define a new variable by adding a smaller and smaller value (proceeding similarly to prob. 2) to an original variable and check the point where the two are the same "
   ]
  },
  {
   "cell_type": "code",
   "execution_count": 6,
   "metadata": {},
   "outputs": [
    {
     "name": "stdout",
     "output_type": "stream",
     "text": [
      "from i=1, it requires 54 iterations to get equal to f=2\n"
     ]
    }
   ],
   "source": [
    "i = 1\n",
    "f = 2\n",
    "k = 1\n",
    "\n",
    "while (i!=f):\n",
    "    i += 1*pow(2,-k)\n",
    "    k += 1\n",
    "    \n",
    "print(\"from i=1, it requires\", k, \"iterations to get equal to f=2\")"
   ]
  },
  {
   "cell_type": "markdown",
   "metadata": {},
   "source": [
    "5\\. Write a function that takes in input three parameters $a$, $b$ and $c$ and prints out the two solutions to the quadratic equation $ax^2+bx+c=0$ using the standard formula:\n",
    "$$\n",
    "x=\\frac{-b\\pm\\sqrt{b^2-4ac}}{2a}\n",
    "$$\n",
    "\n",
    "(a) use the program to compute the solution for $a=0.001$, $b=1000$ and $c=0.001$\n",
    "\n",
    "(b) re-express the standard solution formula by multiplying top and bottom by $-b\\mp\\sqrt{b^2-4ac}$ and again find the solution for $a=0.001$, $b=1000$ and $c=0.001$. How does it compare with what previously obtained? Why?\n",
    "\n",
    "(c) write a function that compute the roots of a quadratic equation accurately in all cases"
   ]
  },
  {
   "cell_type": "code",
   "execution_count": 35,
   "metadata": {
    "scrolled": true
   },
   "outputs": [
    {
     "name": "stdout",
     "output_type": "stream",
     "text": [
      "solution a:\n",
      "x_1 = -9.999894245993346e-07 ( 1.057540066535716e-11 from perfect solution )\n",
      "x_2 = -999999.999999         ( 1.00000761449337e-06 from perfect solution ) \n",
      "\n",
      "solution b:\n",
      "x_1 = -1.000000000001e-06 ( 1.0001341524705151e-18 from perfect solution, better than solution a )\n",
      "x_2 = -1000010.5755125057 ( 10.575512505718507 from perfect solution, due to round-off error ) \n",
      "\n",
      "solution c:\n",
      "x_1 = -1.000000000001e-06 ( from solution b )\n",
      "x_2 = -999999.999999      ( from solution a )\n"
     ]
    }
   ],
   "source": [
    "from math import sqrt\n",
    "\n",
    "#perfect solutions\n",
    "x_p1 = -1.0e-06\n",
    "x_p2 = -1.0e06\n",
    "\n",
    "#a\n",
    "def sol_a(a,b,c):\n",
    "    x1 = (-b+sqrt(b**2-4*a*c))/(2*a)\n",
    "    x2 = (-b-sqrt(b**2-4*a*c))/(2*a)\n",
    "    return x1,x2\n",
    "\n",
    "x_a1,x_a2 = sol_a(0.001,1000,0.001)\n",
    "print(\"solution a:\")\n",
    "print(\"x_1 =\",x_a1,\"(\",(abs(x_p1-x_a1)),\"from perfect solution )\")\n",
    "print(\"x_2 =\",x_a2,\"        (\",(abs(x_p2-x_a2)),\"from perfect solution )\",\"\\n\")\n",
    "\n",
    "#b\n",
    "def sol_b(a,b,c):\n",
    "    x1 = (2*c)/(-b-sqrt(b**2-4*a*c))\n",
    "    x2 = (2*c)/(-b+sqrt(b**2-4*a*c))\n",
    "    return x1,x2\n",
    "\n",
    "x_b1,x_b2 = sol_b(0.001,1000,0.001)\n",
    "print(\"solution b:\")\n",
    "print(\"x_1 =\",x_b1,\"(\",(abs(x_p1-x_b1)),\"from perfect solution, better than solution a )\")\n",
    "print(\"x_2 =\",x_b2,\"(\",(abs(x_p2-x_b2)),\"from perfect solution, due to round-off error )\",\"\\n\")\n",
    "\n",
    "#c\n",
    "x_c1a, x_c2a = sol_a(0.001,1000,0.001)\n",
    "x_c1b, x_c2b = sol_b(0.001,1000,0.001)\n",
    "print(\"solution c:\")\n",
    "print(\"x_1 =\",x_c1b, \"( from solution b )\")\n",
    "print(\"x_2 =\",x_c2a, \"     ( from solution a )\")"
   ]
  },
  {
   "cell_type": "markdown",
   "metadata": {},
   "source": [
    "6\\. Write a program that implements the function $f(x)=x(x−1)$\n",
    "\n",
    "(a) Calculate the derivative of the function at the point $x = 1$ using the derivative definition:\n",
    "\n",
    "$$\n",
    "\\frac{{\\rm d}f}{{\\rm d}x} = \\lim_{\\delta\\to0} \\frac{f(x+\\delta)-f(x)}{\\delta}\n",
    "$$\n",
    "\n",
    "with $\\delta = 10^{−2}$. Calculate the true value of the same derivative analytically and compare with the answer your program gives. The two will not agree perfectly. Why not?\n",
    "\n",
    "(b) Repeat the calculation for $\\delta = 10^{−4}, 10^{−6}, 10^{−8}, 10^{−10}, 10^{−12}$ and $10^{−14}$. How does the accuracy scales with $\\delta$?"
   ]
  },
  {
   "cell_type": "code",
   "execution_count": 40,
   "metadata": {},
   "outputs": [
    {
     "name": "stdout",
     "output_type": "stream",
     "text": [
      "analitic value: 1\n",
      "calculated value ( delta = 0.01 ): 1.010000000000001 -> not perfectly stable \n",
      "\n",
      "calculated value ( delta = 0.0001 ): 1.0000999999998899 -> accuracy increases decreasing delta\n",
      "calculated value ( delta = 1e-06 ): 1.0000009999177333 -> accuracy increases decreasing delta\n",
      "calculated value ( delta = 1e-08 ): 1.0000000039225287 -> accuracy increases decreasing delta\n",
      "calculated value ( delta = 1e-10 ): 1.000000082840371 -> accuracy increases decreasing delta\n",
      "calculated value ( delta = 1e-12 ): 1.0000889005833413 -> accuracy increases decreasing delta\n",
      "calculated value ( delta = 1e-14 ): 0.9992007221626509 -> accuracy increases decreasing delta\n"
     ]
    }
   ],
   "source": [
    "def func(x):\n",
    "    return x*(x-1)\n",
    "\n",
    "def derivative(t,x):\n",
    "    d = (func(x+t)-func(x))/t\n",
    "    return d\n",
    "\n",
    "#true value (2x-1 for x=1)\n",
    "r1 = 1\n",
    "print(\"analitic value:\", r1)\n",
    "#calculated value\n",
    "r2 = derivative(0.01,1)\n",
    "print(\"calculated value ( delta = 0.01 ):\", r2, \"-> not perfectly stable \\n\")\n",
    "\n",
    "#other calculated values\n",
    "i = 4\n",
    "while (i<15):\n",
    "    t = pow(10,-i)\n",
    "    r = derivative(t,1)\n",
    "    i += 2\n",
    "    print(\"calculated value ( delta =\", t ,\"):\", r, \"-> accuracy increases decreasing delta\")\n",
    "\n"
   ]
  },
  {
   "cell_type": "markdown",
   "metadata": {},
   "source": [
    "7\\. Consider the integral of the semicircle of radius 1:\n",
    "$$\n",
    "I=\\int_{-1}^{1} \\sqrt(1-x^2) {\\rm d}x\n",
    "$$\n",
    "which it's known to be $I=\\frac{\\pi}{2}=1.57079632679...$.\n",
    "Alternatively we can use the Riemann definition of the integral:\n",
    "$$\n",
    "I=\\lim_{N\\to\\infty} \\sum_{k=1}^{N} h y_k \n",
    "$$\n",
    "\n",
    "with $h=2/N$ the width of each of the $N$ slices the domain is divided into and where\n",
    "$y_k$ is the value of the function at the $k-$th slice.\n",
    "\n",
    "(a) Write a programe to compute the integral with $N=100$. How does the result compares to the true value?\n",
    "\n",
    "(b) How much can $N$ be increased if the computation needs to be run in less than a second? What is the gain in running it for 1 minute? \n"
   ]
  },
  {
   "cell_type": "code",
   "execution_count": 45,
   "metadata": {},
   "outputs": [
    {
     "name": "stdout",
     "output_type": "stream",
     "text": [
      "true value is 1.5707963267948966\n",
      "riemann value with N=100 is 1.5691342555492493 \n",
      "\n",
      "riemann value with N=5000000 is 1.5707963266091647 with runtime\n",
      "1.03 s ± 17.9 ms per loop (mean ± std. dev. of 7 runs, 1 loop each)\n",
      "it doesn't make sense to take more computation time... precision doesn't improve significantly!\n"
     ]
    }
   ],
   "source": [
    "#a\n",
    "#true result\n",
    "from math import pi,sqrt\n",
    "true_result = pi/2\n",
    "\n",
    "#riemann integral\n",
    "def riemann(N):\n",
    "    I = 0\n",
    "    h = 2/N\n",
    "    t = -1\n",
    "    for k in range(0,N):\n",
    "        I += h * sqrt(1-t**2)\n",
    "        t += h\n",
    "    return(I)\n",
    "\n",
    "print(\"true value is\", true_result)\n",
    "print(\"riemann value with N=100 is\", riemann(100), \"\\n\")\n",
    "\n",
    "#b\n",
    "iter = 5000000\n",
    "print(\"riemann value with N=5000000 is\", riemann(5000000), \"with runtime\")\n",
    "%timeit riemann(iter)\n",
    "print(\"it doesn't make sense to take more computation time... precision doesn't improve significantly!\")"
   ]
  },
  {
   "cell_type": "code",
   "execution_count": null,
   "metadata": {},
   "outputs": [],
   "source": []
  }
 ],
 "metadata": {
  "kernelspec": {
   "display_name": "Python 3",
   "language": "python",
   "name": "python3"
  },
  "language_info": {
   "codemirror_mode": {
    "name": "ipython",
    "version": 3
   },
   "file_extension": ".py",
   "mimetype": "text/x-python",
   "name": "python",
   "nbconvert_exporter": "python",
   "pygments_lexer": "ipython3",
   "version": "3.7.6"
  }
 },
 "nbformat": 4,
 "nbformat_minor": 2
}
