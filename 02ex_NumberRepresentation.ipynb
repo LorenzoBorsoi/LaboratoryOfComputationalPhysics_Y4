{
 "cells": [
  {
   "cell_type": "markdown",
   "metadata": {},
   "source": [
    "1\\. Write a function that converts number representation (bin<->dec<->hex)"
   ]
  },
  {
   "cell_type": "code",
   "execution_count": 44,
   "outputs": [
    {
     "name": "stdout",
     "output_type": "stream",
     "text": [
      "8 to base bin -> 1000\n",
      "8 to base dec -> 8\n",
      "8 to base hex -> 8\n",
      "-15 to base bin -> -1111\n",
      "-15 to base dec -> -15\n",
      "-15 to base hex -> -F\n",
      "1234 to base bin -> 10011010010\n",
      "1234 to base dec -> 1234\n",
      "1234 to base hex -> 4D2\n",
      "-14100 to base bin -> -11011100010100\n",
      "-14100 to base dec -> -14100\n",
      "-14100 to base hex -> -3714\n"
     ]
    }
   ],
   "source": [
    "# This converts any integer 'number' to a representation according to a list of symbols 'base' and stores it in 'result'\n",
    "def to_base(number, base, result):\n",
    "    size = len(base)\n",
    "    if number < 0:\n",
    "        result.append(\"-\")\n",
    "        number *= -1\n",
    "    if number >= size:\n",
    "        to_base(number / size, base, result)\n",
    "    result.append(base[int(number % size)])\n",
    "\n",
    "arr = []\n",
    "operands = [8, -15, 1234, -14100]\n",
    "bases = {\"bin\": \"01\", \"dec\": \"0123456789\", \"hex\": \"0123456789ABCDEF\"}\n",
    "for num in operands:\n",
    "    for key, value in bases.items():\n",
    "        to_base(num, value, arr)\n",
    "        print(num, \"to base\", key, \"->\", end=\" \")\n",
    "        print(*arr, sep=\"\")\n",
    "        arr.clear()"
   ],
   "metadata": {
    "collapsed": false,
    "pycharm": {
     "name": "#%%\n"
    }
   }
  },
  {
   "cell_type": "markdown",
   "metadata": {},
   "source": [
    "2\\. Write a function that converts a 32 bit word into a single precision floating point (i.e. interprets the various\n",
    "bits as sign, mantissa and exponent)"
   ]
  },
  {
   "cell_type": "code",
   "execution_count": 45,
   "outputs": [
    {
     "name": "stdout",
     "output_type": "stream",
     "text": [
      "Converting ' Anda ' into a float.\n",
      "\tWord bits: 1000001 1101110 1100100 1100001 \n",
      "\tSign: 0 => +\n",
      "\tExponent: 10000010 => 3\n",
      "\tMantissa: 11011100110010001100001 => 1.8624382019042969\n",
      "' Anda ' bits into a float => 14.899505615234375\n",
      "\n",
      "Converting '  oh! ' into a float.\n",
      "\tWord bits: 100000 1101111 1101000 100001 \n",
      "\tSign: 0 => +\n",
      "\tExponent: 1000000 => -63\n",
      "\tMantissa: 11011110110100000100001 => 1.8703651428222656\n",
      "'  oh! ' bits into a float => 2.0278539511890612e-19\n",
      "\n",
      "Converting ' ññ ' into a float.\n",
      "\tWord bits: 11000011 10110001 11000011 10110001 \n",
      "\tSign: 1 => -\n",
      "\tExponent: 10000111 => 8\n",
      "\tMantissa: 10000000001100011100001110110001 => 1.5007591247558594\n",
      "' ññ ' bits into a float => -384.1943359375\n",
      "\n",
      "Converting ' ⚛! ' into a float.\n",
      "\tWord bits: 11100010 10011010 10011011 100001 \n",
      "\tSign: 1 => -\n",
      "\tExponent: 11000101 => 70\n",
      "\tMantissa: 10000000000110101001101100100001 => 1.5004057884216309\n",
      "' ⚛! ' bits into a float => -1.7713665014864785e+21\n",
      "\n",
      "Converting ' ⚠️ ' into a float.\n",
      "\tWord bits: 11100010 10011010 10100000 11101111 10111000 10001111 \n",
      "Couldn't convert ' ⚠️ ' into a float. Size is not 32 bits.\n",
      "\n"
     ]
    }
   ],
   "source": [
    "# A 32-bit word is a string of 2 to 4 chars, because each char occupies 1 to 2 bytes in memory.\n",
    "# In particular, the ascii chars occupy 1 byte, while some utf-8 chars occupy 2 bytes or even 6 bytes.\n",
    "# To convert the word bits into a floating point we need to access the raw bytes via bytearray() and check that it's\n",
    "#   indeed a 32-bit word.\n",
    "def word_to_float(word):\n",
    "    bin_arr = 0\n",
    "    byte_array = bytearray(word, 'utf-8')\n",
    "    if len(byte_array) != 4:\n",
    "        return 0\n",
    "    for i in range(len(byte_array)):\n",
    "        bin_arr += byte_array[i]\n",
    "        if i != len(byte_array) - 1:\n",
    "            bin_arr = bin_arr << 8\n",
    "    sign = bin_arr >> 31\n",
    "    print(\"\\tSign:\", format(sign, 'b'), \"=>\", (sign == 1) * \"-\" + (sign == 0) * \"+\")\n",
    "    exponent = (bin_arr >> 23) & ~(1 << 8)\n",
    "    print(\"\\tExponent:\", format(exponent, 'b'), \"=>\", exponent - 127)\n",
    "    mantissa = bin_arr & ~((2 ** 8 - 1) << 23)\n",
    "    print(\"\\tMantissa:\", format(mantissa, 'b'), \"=>\", end= \" \")\n",
    "    mantissa_bin = []\n",
    "    to_base(mantissa, \"01\", mantissa_bin)\n",
    "    mantissa = 1.0\n",
    "    for element, i in zip(mantissa_bin, range(-1,-23,-1)):\n",
    "        mantissa += (element == '1') * (2 ** i)\n",
    "    print(mantissa)\n",
    "    return ((sign == 0) - (sign == 1)) * mantissa * (2 ** (exponent - 127))\n",
    "\n",
    "\n",
    "for example in [\"Anda\", \" oh!\", \"ññ\", \"⚛!\", \"⚠️\"]:\n",
    "    print(\"Converting\", \"'\", example, \"'\", \"into a float.\\n\\tWord bits: \", end=\"\")\n",
    "    for plot in bytearray(example, 'utf-8'):\n",
    "        print(format(plot, 'b'), end=\" \")\n",
    "    print()\n",
    "    fres = word_to_float(example)\n",
    "    if fres == 0:\n",
    "        print(\"Couldn't convert '\", example, \"' into a float. Size is not 32 bits.\", end=\"\\n\\n\")\n",
    "    else:\n",
    "        print(\"'\", example,\"' bits into a float =>\", fres, end=\"\\n\\n\")"
   ],
   "metadata": {
    "collapsed": false,
    "pycharm": {
     "name": "#%%\n"
    }
   }
  },
  {
   "cell_type": "markdown",
   "metadata": {},
   "source": [
    "3\\. Write a program to determine the underflow and overflow limits (within a factor of 2) for python on your computer. \n",
    "\n",
    "**Tips**: define two variables inizialized to 1 and halve/double them enough time to exceed the under/over-flow limits  "
   ]
  },
  {
   "cell_type": "markdown",
   "metadata": {},
   "source": [
    "4\\. Write a program to determine the machine precision\n",
    "\n",
    "**Tips**: define a new variable by adding a smaller and smaller value (proceeding similarly to prob. 2) to an original variable and check the point where the two are the same "
   ]
  },
  {
   "cell_type": "markdown",
   "metadata": {},
   "source": [
    "5\\. Write a function that takes in input three parameters $a$, $b$ and $c$ and prints out the two solutions to the quadratic equation $ax^2+bx+c=0$ using the standard formula:\n",
    "$$\n",
    "x=\\frac{-b\\pm\\sqrt{b^2-4ac}}{2a}\n",
    "$$\n",
    "\n",
    "(a) use the program to compute the solution for $a=0.001$, $b=1000$ and $c=0.001$\n",
    "\n",
    "(b) re-express the standard solution formula by multiplying top and bottom by $-b\\mp\\sqrt{b^2-4ac}$ and again find the solution for $a=0.001$, $b=1000$ and $c=0.001$. How does it compare with what previously obtained? Why?\n",
    "\n",
    "(c) write a function that compute the roots of a quadratic equation accurately in all cases"
   ]
  },
  {
   "cell_type": "markdown",
   "metadata": {},
   "source": [
    "6\\. Write a program that implements the function $f(x)=x(x−1)$\n",
    "\n",
    "(a) Calculate the derivative of the function at the point $x = 1$ using the derivative definition:\n",
    "\n",
    "$$\n",
    "\\frac{{\\rm d}f}{{\\rm d}x} = \\lim_{\\delta\\to0} \\frac{f(x+\\delta)-f(x)}{\\delta}\n",
    "$$\n",
    "\n",
    "with $\\delta = 10^{−2}$. Calculate the true value of the same derivative analytically and compare with the answer your program gives. The two will not agree perfectly. Why not?\n",
    "\n",
    "(b) Repeat the calculation for $\\delta = 10^{−4}, 10^{−6}, 10^{−8}, 10^{−10}, 10^{−12}$ and $10^{−14}$. How does the accuracy scales with $\\delta$?"
   ]
  },
  {
   "cell_type": "markdown",
   "metadata": {},
   "source": [
    "7\\. Consider the integral of the semicircle of radius 1:\n",
    "$$\n",
    "I=\\int_{-1}^{1} \\sqrt(1-x^2) {\\rm d}x\n",
    "$$\n",
    "which it's known to be $I=\\frac{\\pi}{2}=1.57079632679...$.\n",
    "Alternatively we can use the Riemann definition of the integral:\n",
    "$$\n",
    "I=\\lim_{N\\to\\infty} \\sum_{k=1}^{N} h y_k \n",
    "$$\n",
    "\n",
    "with $h=2/N$ the width of each of the $N$ slices the domain is divided into and where\n",
    "$y_k$ is the value of the function at the $k-$th slice.\n",
    "\n",
    "(a) Write a programe to compute the integral with $N=100$. How does the result compares to the true value?\n",
    "\n",
    "(b) How much can $N$ be increased if the computation needs to be run in less than a second? What is the gain in running it for 1 minute? \n"
   ]
  },
  {
   "cell_type": "code",
   "execution_count": 45,
   "metadata": {},
   "outputs": [],
   "source": []
  }
 ],
 "metadata": {
  "kernelspec": {
   "name": "pycharm-e992d7ce",
   "language": "python",
   "display_name": "PyCharm (Intro_Lab)"
  },
  "language_info": {
   "codemirror_mode": {
    "name": "ipython",
    "version": 3
   },
   "file_extension": ".py",
   "mimetype": "text/x-python",
   "name": "python",
   "nbconvert_exporter": "python",
   "pygments_lexer": "ipython3",
   "version": "3.5.4"
  }
 },
 "nbformat": 4,
 "nbformat_minor": 2
}