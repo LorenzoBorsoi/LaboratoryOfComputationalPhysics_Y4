{
 "cells": [
  {
   "cell_type": "markdown",
   "metadata": {},
   "source": [
    "1\\. Write a function that converts number representation (bin<->dec<->hex)"
   ]
  },
  {
   "cell_type": "code",
   "execution_count": 6,
   "metadata": {},
   "outputs": [],
   "source": [
    "import string \n",
    "\n",
    "def nbase_to_dec(strnbase, base):\n",
    "    # remove the not useful part of the string an save the sign if negative\n",
    "    if strnbase[0] == '-':\n",
    "        try: \n",
    "            # check if you can convert the second number to integer\n",
    "            # if so, it is not 'x' or 'b', so you don't have to remove the first 2 digits\n",
    "            int(strnbase[2])  \n",
    "            strnbase = strnbase[1:] # remove the sign from the string\n",
    "        except:\n",
    "            strnbase = strnbase[3:]\n",
    "        sign = '-'\n",
    "    else:\n",
    "        try: \n",
    "            # check if you can convert the second number to integer\n",
    "            # if so, it is not 'x' or 'b', so you don't have to remove the first 2 digits\n",
    "            int(strnbase[1])  \n",
    "        except: \n",
    "            strnbase = strnbase[2:]\n",
    "        sign = '+'\n",
    "    \n",
    "    # invert the string\n",
    "    strnbase = strnbase[::-1]    \n",
    "    # start from 0\n",
    "    ndec = 0\n",
    "    # algorithm\n",
    "    for i in range(len(strnbase)):\n",
    "        try: \n",
    "            int(strnbase[i])\n",
    "            ndec += int(strnbase[i])*base**i\n",
    "        except:\n",
    "            value = string.ascii_lowercase.find(strnbase[i])+10\n",
    "            ndec += value*base**i\n",
    "    # sign\n",
    "    if sign == '-':\n",
    "        ndec*=-1\n",
    "\n",
    "    return ndec\n",
    "\n",
    "def dec_to_nbase(ndec, base):\n",
    "    basedic = {2: 'b', 16: 'x', 'other': 'o'}\n",
    "    \n",
    "    if base == 2 or base == 16:\n",
    "        basechar = basedic[base]\n",
    "    else:\n",
    "        basechar = basedic['other']\n",
    "    \n",
    "    strbase = ''\n",
    "        \n",
    "    # save the sign and convert the number to positive\n",
    "    sign = ''\n",
    "    if ndec < 0:\n",
    "        sign='-'\n",
    "        ndec*=-1\n",
    "    \n",
    "    while ndec>=1:\n",
    "        rest = ndec%base\n",
    "        if rest > 9:\n",
    "            rest = string.ascii_lowercase[rest-10]\n",
    "        else: rest = str(rest)\n",
    "        strbase = rest+strbase\n",
    "        ndec = ndec//base\n",
    "            \n",
    "    return sign+'0'+basechar+strbase\n"
   ]
  },
  {
   "cell_type": "code",
   "execution_count": 7,
   "metadata": {},
   "outputs": [
    {
     "name": "stdout",
     "output_type": "stream",
     "text": [
      "Starting number: 274\n",
      "\n",
      "Binary:\n",
      "With my func: 0b100010010\n",
      "With py func: 0b100010010\n",
      "\n",
      "Back to the starting decimal\n",
      "With my func: 274\n",
      "With py func: 274\n",
      "\n",
      "Hexadecimal:\n",
      "With my func: 0x112\n",
      "With py func: 0x112\n",
      "\n",
      "Back to the starting decimal\n",
      "With my func: 274\n",
      "With py func: 274\n"
     ]
    }
   ],
   "source": [
    "# TEST THE FUNCTIONS\n",
    "\n",
    "a = 274\n",
    "\n",
    "print('Starting number:', a)\n",
    "a_bin = bin(a)\n",
    "a_hex = hex(a)\n",
    "\n",
    "print('\\nBinary:')\n",
    "print('With my func:', dec_to_nbase(a, 2))\n",
    "print('With py func:', a_bin)\n",
    "\n",
    "print('\\nBack to the starting decimal')\n",
    "print('With my func:', nbase_to_dec(a_bin, 2))\n",
    "print('With py func:', int(a_bin, 2))\n",
    "\n",
    "print('\\nHexadecimal:')\n",
    "print('With my func:', dec_to_nbase(a, 16))\n",
    "print('With py func:', a_hex)\n",
    "\n",
    "print('\\nBack to the starting decimal')\n",
    "print('With my func:', nbase_to_dec(a_hex, 16))\n",
    "print('With py func:', int(a_hex, 16))"
   ]
  },
  {
   "cell_type": "markdown",
   "metadata": {},
   "source": [
    "2\\. Write a function that converts a 32 bit word into a single precision floating point (i.e. interprets the various bits as sign, mantissa and exponent)"
   ]
  },
  {
   "cell_type": "code",
   "execution_count": 8,
   "metadata": {},
   "outputs": [
    {
     "name": "stdout",
     "output_type": "stream",
     "text": [
      "1.316553672920962e-36\n",
      "1.316553672920962e-36\n",
      "-5.5\n",
      "Not a 32 bit word\n"
     ]
    }
   ],
   "source": [
    "def singleprecision(nbin):\n",
    "    try: \n",
    "            # check if you can convert the second number to integer\n",
    "            # if so, it is not 'x' or 'b', so you don't have to remove the first 2 digits\n",
    "            int(nbin[1])  \n",
    "    except: \n",
    "        nbin = nbin[2:]\n",
    "        \n",
    "    if len(nbin)!=32:\n",
    "        return 'Not a 32 bit word'\n",
    "    \n",
    "    bias = 127\n",
    "    nbin = [int(i) for i in nbin]\n",
    "    \n",
    "    # in the 0 python position I have the 31th bit\n",
    "    e = nbase_to_dec(nbin[1:9], 2)\n",
    "    \n",
    "    f = 0\n",
    "    for i in range(23):\n",
    "        f += nbin[9+i]*2**(-i-1)\n",
    "    \n",
    "    return (-1)**(nbin[0])*(1+f)*2**(e-bias)\n",
    "\n",
    "\n",
    "test_1 = '00000011111000000000000000000000'\n",
    "test_2 = '0b00000011111000000000000000000000'\n",
    "test_3 = '11000000101100000000000000000000'\n",
    "test_4 = '010101'\n",
    "print(singleprecision(test_1))\n",
    "print(singleprecision(test_2))\n",
    "print(singleprecision(test_3))\n",
    "print(singleprecision(test_4))\n"
   ]
  },
  {
   "cell_type": "markdown",
   "metadata": {},
   "source": [
    "3\\. Write a program to determine the underflow and overflow limits (within a factor of 2) for python on your computer. \n",
    "\n",
    "**Tips**: define two variables inizialized to 1 and halve/double them enough time to exceed the under/over-flow limits. Within a factor of 2 means no more than twice and no less the number found. "
   ]
  },
  {
   "cell_type": "code",
   "execution_count": 2,
   "metadata": {},
   "outputs": [],
   "source": [
    "import math as m"
   ]
  },
  {
   "cell_type": "code",
   "execution_count": 10,
   "metadata": {},
   "outputs": [
    {
     "name": "stdout",
     "output_type": "stream",
     "text": [
      "1 1.7976931348623157e+308\n",
      "2 inf\n",
      "3 inf\n",
      "4 200000000000000000000000000000000000000000000000000000000000000000000000000000000000000000000000000000000000000000000000000000000000000000000000000000000000000000000000000000000000000000000000000000000000000000000000000000000000000000000000000000000000000000000000000000000000000000000000000000000000000000000000000000000000000000000000000000000000000000000000000000000000000000000000000000000000000000000000000000000000000000000000000000000000000000000000000000000000000000000000000000000000000000000\n",
      "5 inf\n",
      "\n",
      "Test 1\n",
      "1.6069380442589903e+60\n",
      "2.5822498780869086e+120\n",
      "4.149515568880993e+180\n",
      "6.668014432879854e+240\n",
      "1.0715086071862673e+301\n",
      "inf\n",
      "inf\n",
      "inf\n",
      "inf\n",
      "inf\n"
     ]
    }
   ],
   "source": [
    "# Observe the differences:\n",
    "\n",
    "n1 = 1.7976931348623157e+308\n",
    "n2 = 1.8e+500\n",
    "n3 = 2e+500\n",
    "n4 = 2*10**500\n",
    "n5 = 2.0*10**308      \n",
    "# n6 = 2.0*10**309      # uncomment to get the overflow message\n",
    "print('1', n1)\n",
    "print('2', n2)\n",
    "print('3', n3)\n",
    "print('4', n4)\n",
    "print('5', n5)\n",
    "# print('6', n6)        # uncomment to get the overflow message\n",
    "\n",
    "print('\\nTest 1')\n",
    "test = 1.0\n",
    "for i in range(10):\n",
    "    test*= (2**200)\n",
    "    print(test)\n",
    "\n",
    "# uncomment to get the overflow message\n",
    "# print('\\nTest 2')\n",
    "# for i in range(10):\n",
    "#     test = 2.0*10**(200*i)\n",
    "#     print(test)"
   ]
  },
  {
   "cell_type": "code",
   "execution_count": 42,
   "metadata": {},
   "outputs": [
    {
     "name": "stdout",
     "output_type": "stream",
     "text": [
      "Overflow limit: 8.98846567431158e+307\n",
      "Underflow limit: 5e-324\n",
      "\n",
      "Overflow? inf\n",
      "Underflow? 0.0\n"
     ]
    }
   ],
   "source": [
    "# SOLUTION OF THE EXERCISE\n",
    "# In this case:\n",
    "# - overflow are sets to --> inf\n",
    "# - underflow are sets to --> 0\n",
    "\n",
    "x_over = 1.0\n",
    "x_under = 1.0\n",
    "\n",
    "is_overflow = False\n",
    "is_underflow = False\n",
    "\n",
    "# speed of the algorithm \n",
    "# power_over = 200\n",
    "# power_under = 200\n",
    "# scale = 2\n",
    "\n",
    "while is_overflow == False or is_underflow == False:\n",
    "    tmp = x_over * 2\n",
    "    if m.isinf(tmp):\n",
    "        is_overflow = True\n",
    "    else: \n",
    "        x_over = tmp\n",
    "        \n",
    "    tmp = x_under/2\n",
    "    if tmp == 0:\n",
    "        is_underflow = True\n",
    "    else: \n",
    "        x_under = tmp\n",
    "        \n",
    "print('Overflow limit:', x_over)\n",
    "print('Underflow limit:', x_under)\n",
    "\n",
    "# check\n",
    "print('\\nOverflow?', x_over*2)\n",
    "print('Underflow?', x_under/2)"
   ]
  },
  {
   "cell_type": "markdown",
   "metadata": {},
   "source": [
    "4\\. Write a program to determine the machine precision\n",
    "\n",
    "**Tips**: define a new variable by adding a smaller and smaller value (proceeding similarly to prob. 2) to an original variable and check the point where the two are the same "
   ]
  },
  {
   "cell_type": "code",
   "execution_count": 41,
   "metadata": {},
   "outputs": [
    {
     "name": "stdout",
     "output_type": "stream",
     "text": [
      "They are equals!\n",
      "Machine precision: 2.220446049250313e-16\n"
     ]
    }
   ],
   "source": [
    "n = 2\n",
    "precision = 1\n",
    "\n",
    "are_equals = False\n",
    "while are_equals == False:\n",
    "    precision /= 2\n",
    "    new_n = n + precision\n",
    "    \n",
    "    if n == new_n:\n",
    "        are_equals = True\n",
    "        print('They are equals!')\n",
    "        \n",
    "print('Machine precision:', precision)\n",
    "    "
   ]
  },
  {
   "cell_type": "markdown",
   "metadata": {},
   "source": [
    "5\\. Write a function that takes in input three parameters $a$, $b$ and $c$ and prints out the two solutions to the quadratic equation $ax^2+bx+c=0$ using the standard formula:\n",
    "$$\n",
    "x=\\frac{-b\\pm\\sqrt{b^2-4ac}}{2a}\n",
    "$$"
   ]
  },
  {
   "cell_type": "code",
   "execution_count": 59,
   "metadata": {},
   "outputs": [],
   "source": [
    "def quadratic_equation(a, b, c):\n",
    "    x1 = (-b+m.sqrt(b*b-4*a*c))/(2*a)\n",
    "    x2 = (-b-m.sqrt(b*b-4*a*c))/(2*a) \n",
    "    return [x1, x2]"
   ]
  },
  {
   "cell_type": "markdown",
   "metadata": {},
   "source": [
    "(a) use the program to compute the solution for $a=0.001$, $b=1000$ and $c=0.001$"
   ]
  },
  {
   "cell_type": "code",
   "execution_count": 76,
   "metadata": {},
   "outputs": [
    {
     "name": "stdout",
     "output_type": "stream",
     "text": [
      "Solutions: \n",
      "x1 = -0.000001 \n",
      "x2 = -999999.999999\n"
     ]
    }
   ],
   "source": [
    "x_12 = quadratic_equation(0.001, 1000, 0.001)\n",
    "print('Solutions: \\nx1 = %f \\nx2 = %f' %(x_12[0], x_12[1]))\n"
   ]
  },
  {
   "cell_type": "markdown",
   "metadata": {},
   "source": [
    "(b) re-express the standard solution formula by multiplying top and bottom by $-b\\mp\\sqrt{b^2-4ac}$ and again find the solution for $a=0.001$, $b=1000$ and $c=0.001$. $\n",
    "x=\\frac{-b\\pm\\sqrt{b^2-4ac}}{2a}\\cdot\\frac{-b\\mp\\sqrt{b^2-4ac}}{-b\\mp\\sqrt{b^2-4ac}} = \\frac{4ac}{2a(-b\\mp\\sqrt{b^2-4ac})} = \\frac{2c}{-b\\mp\\sqrt{b^2-4ac}}\n",
    "$"
   ]
  },
  {
   "cell_type": "code",
   "execution_count": 77,
   "metadata": {},
   "outputs": [
    {
     "name": "stdout",
     "output_type": "stream",
     "text": [
      "Solutions: \n",
      "x1 = -0.000001 \n",
      "x2 = -1000010.575513\n"
     ]
    }
   ],
   "source": [
    "def quadratic_equation_new(a, b, c):\n",
    "    x1 = 2*c/(-b-m.sqrt(b*b-4*a*c))\n",
    "    x2 = 2*c/(-b+m.sqrt(b*b-4*a*c)) \n",
    "    \n",
    "    return [x1, x2]\n",
    "\n",
    "x_12 = quadratic_equation_new(0.001, 1000, 0.001)\n",
    "print('Solutions: \\nx1 = %f \\nx2 = %f' %(x_12[0], x_12[1]))"
   ]
  },
  {
   "cell_type": "markdown",
   "metadata": {},
   "source": [
    "_How does it compare with what previously obtained? Why?_ <br>\n",
    "While for $x_1$ I get the same result with the different formulas, $x_2$ is slightly different in the two cases and the solution is correct only with the first method. This is due to the fact that, using the second formula, I'm taking the difference between 2 very close numbers $(-b+\\sqrt{b^2-4ac})$ and then divide $c$ by it. In this case the difference itself does not introduce a big error in the result ($x_1$ is correct using the first method), but the division amplifies it: $\n",
    " \\frac{1}{x+\\epsilon} \\text{ is not similar to } \\frac{1}{x}\n",
    "$\n",
    "The second algorithm implemented is not stable for $x_2$ for $b>>a, c$. On the other hand the first one could return a wrong result for $x_1$ if $a$ and $c$ are even smaller, compared to $b$, because also the problematic difference become smaller. "
   ]
  },
  {
   "cell_type": "markdown",
   "metadata": {},
   "source": [
    "(c) write a function that compute the roots of a quadratic equation accurately in all cases. <br>\n",
    "I can remove the problematic difference using the first method for $x_2$ and the second one for $x_1$:"
   ]
  },
  {
   "cell_type": "code",
   "execution_count": 78,
   "metadata": {},
   "outputs": [
    {
     "name": "stdout",
     "output_type": "stream",
     "text": [
      "Solutions: \n",
      "x1 = -0.000001 \n",
      "x2 = -999999.999999\n"
     ]
    }
   ],
   "source": [
    "def quadratic_equation_best(a, b, c):\n",
    "    x1 = 2*c/(-b-m.sqrt(b*b-4*a*c))\n",
    "    x2 = (-b-m.sqrt(b*b-4*a*c))/(2*a) \n",
    "    return [x1, x2]\n",
    "\n",
    "x_12 = quadratic_equation_best(0.001, 1000, 0.001)\n",
    "print('Solutions: \\nx1 = %f \\nx2 = %f' %(x_12[0], x_12[1]))"
   ]
  },
  {
   "cell_type": "markdown",
   "metadata": {},
   "source": [
    "6\\. Write a program that implements the function $f(x)=x(x−1)$\n",
    "\n",
    "(a) Calculate the derivative of the function at the point $x = 1$ using the derivative definition:\n",
    "\n",
    "$$\n",
    "\\frac{{\\rm d}f}{{\\rm d}x} = \\lim_{\\delta\\to0} \\frac{f(x+\\delta)-f(x)}{\\delta}\n",
    "$$\n",
    "\n",
    "with $\\delta = 10^{−2}$. Calculate the true value of the same derivative analytically and compare with the answer your program gives. The two will not agree perfectly. Why not?\n"
   ]
  },
  {
   "cell_type": "code",
   "execution_count": 81,
   "metadata": {},
   "outputs": [
    {
     "name": "stdout",
     "output_type": "stream",
     "text": [
      "\n",
      "Delta - Value - Accuracy\n",
      "[0.01 1.01 0.01]\n"
     ]
    }
   ],
   "source": [
    "import numpy as np\n",
    "import matplotlib.pyplot as plt\n",
    "\n",
    "def f(x):\n",
    "    return x*(x-1)\n",
    "\n",
    "def fprime(x, accuracy):\n",
    "    return (f(x+accuracy)-f(x))/accuracy\n",
    "\n",
    "delta = 10**-2\n",
    "derivative = fprime(1, delta)\n",
    "derivatives = np.array([delta, derivative, abs(1-derivative)])\n",
    "\n",
    "print('\\nDelta - Value - Accuracy')\n",
    "print(derivatives)"
   ]
  },
  {
   "cell_type": "markdown",
   "metadata": {},
   "source": [
    "Because $\\delta$ is too big. In this case, I think is not a problem of stability or poorly conditioned function, but simply the value of $\\delta$ considered is too big. Sure the algorithm is not stable (we are taking the difference between very close numbers and dividing it by a small number), and I expect wrong results for much smaller $\\delta$, but in this case I would said that the choice of the value of $\\delta$ is not the best one.  "
   ]
  },
  {
   "cell_type": "markdown",
   "metadata": {},
   "source": [
    "\n",
    "(b) Repeat the calculation for $\\delta = 10^{−4}, 10^{−6}, 10^{−8}, 10^{−10}, 10^{−12}$ and $10^{−14}$. How does the accuracy scales with $\\delta$?"
   ]
  },
  {
   "cell_type": "code",
   "execution_count": 82,
   "metadata": {},
   "outputs": [
    {
     "name": "stdout",
     "output_type": "stream",
     "text": [
      "\n",
      "Delta - Value - Accuracy\n",
      "[[1.00000000e-02 1.01000000e+00 1.00000000e-02]\n",
      " [1.00000000e-04 1.00010000e+00 9.99999999e-05]\n",
      " [1.00000000e-06 1.00000100e+00 9.99917733e-07]\n",
      " [1.00000000e-08 1.00000000e+00 3.92252875e-09]\n",
      " [1.00000000e-10 1.00000008e+00 8.28403710e-08]\n",
      " [1.00000000e-12 1.00008890e+00 8.89005833e-05]\n",
      " [1.00000000e-14 9.99200722e-01 7.99277837e-04]]\n"
     ]
    }
   ],
   "source": [
    "for i in range(2, 8):\n",
    "    delta = 10**(-2*i)\n",
    "    derivative = fprime(1, delta)\n",
    "    derivatives = np.vstack([derivatives, [delta, derivative, abs(1-derivative)]])\n",
    "    \n",
    "\n",
    "print('\\nDelta - Value - Accuracy')\n",
    "print(derivatives)"
   ]
  },
  {
   "cell_type": "markdown",
   "metadata": {},
   "source": [
    "The accuracy decreases a lot until $\\delta = 10^{-8}$ and then begins to increase. This is in agreement with my previous answer: a better choice of  $\\delta$, for example $\\delta = 10^{-8}$, gives a very good result and a much smaller accuracy compared to $\\delta = 10^{-2}$, but the instability of the algorithm emerges if we try to use even smaller values."
   ]
  },
  {
   "cell_type": "markdown",
   "metadata": {},
   "source": [
    "7\\. Consider the integral of the semicircle of radius 1:\n",
    "$$\n",
    "I=\\int_{-1}^{1} \\sqrt{1-x^2} {\\rm d}x\n",
    "$$\n",
    "which it's known to be $I=\\frac{\\pi}{2}=1.57079632679...$.\n",
    "Alternatively we can use the Riemann definition of the integral:\n",
    "$$\n",
    "I=\\lim_{N\\to\\infty} \\sum_{k=1}^{N} h y_k \n",
    "$$\n",
    "\n",
    "with $h=2/N$ the width of each of the $N$ slices the domain is divided into and where\n",
    "$y_k$ is the value of the function at the $k-$th slice.\n",
    "\n",
    "(a) Write a programe to compute the integral with $N=100$. How does the result compares to the true value?\n"
   ]
  },
  {
   "cell_type": "code",
   "execution_count": 85,
   "metadata": {},
   "outputs": [
    {
     "name": "stdout",
     "output_type": "stream",
     "text": [
      "Area of the semicircle of radius 1: 1.5712827762297958\n",
      "Error: 0.00048644943489928316\n"
     ]
    }
   ],
   "source": [
    "\n",
    "def Riemann_integral(f, xrange, N):\n",
    "    h = (xrange[1]-xrange[0])/N\n",
    "    I = 0\n",
    "    for i in range(N):\n",
    "        I += h*f(xrange[0]+h/2+h*i)     # f is evaluated in the middle of each slice\n",
    "    return I\n",
    "\n",
    "def func(x):\n",
    "    return m.sqrt(1-x**2)\n",
    "\n",
    "true_value = m.pi/2\n",
    "\n",
    "Int1 = Riemann_integral(func, [-1,1], 100)\n",
    "err1 = Int1-true_value\n",
    "print('Area of the semicircle of radius 1:', Int1)\n",
    "print('Error:', err1)\n"
   ]
  },
  {
   "cell_type": "markdown",
   "metadata": {},
   "source": [
    "The error is not negligible, comparing the value computed with $N=100$ and the true one. "
   ]
  },
  {
   "cell_type": "markdown",
   "metadata": {},
   "source": [
    "\n",
    "(b) How much can $N$ be increased if the computation needs to be run in less than a second? What is the gain in running it for 1 minute? \n"
   ]
  },
  {
   "cell_type": "code",
   "execution_count": 86,
   "metadata": {},
   "outputs": [
    {
     "name": "stdout",
     "output_type": "stream",
     "text": [
      "Area of the semicircle of radius 1: 1.570796327282045\n"
     ]
    }
   ],
   "source": [
    "# COMPUTATION TIME < 1 second\n",
    "Int2 = Riemann_integral(func, [-1,1], 1000000)\n",
    "print('Area of the semicircle of radius 1:', Int2)"
   ]
  },
  {
   "cell_type": "code",
   "execution_count": 31,
   "metadata": {},
   "outputs": [
    {
     "name": "stdout",
     "output_type": "stream",
     "text": [
      "Area of the semicircle of radius 1: 1.5707963267966314\n"
     ]
    }
   ],
   "source": [
    "# COMPUTATION TIME < 1 minute\n",
    "Int3 = Riemann_integral(func, [-1,1], 50000000)\n",
    "print('Area of the semicircle of radius 1:', Int3)"
   ]
  },
  {
   "cell_type": "code",
   "execution_count": 87,
   "metadata": {},
   "outputs": [
    {
     "name": "stdout",
     "output_type": "stream",
     "text": [
      "ERRORS:\n",
      "N = 100: 0.00048644943489928316\n",
      "N = 1000000: 4.871485437263345e-10\n",
      "N = 50000000: 1.7348344982792696e-12\n"
     ]
    }
   ],
   "source": [
    "# ERROR:\n",
    "err2 = Int2-true_value\n",
    "err3 = Int3-true_value\n",
    "\n",
    "print('ERRORS:')\n",
    "print('N = 100:', err1)\n",
    "print('N = 1000000:', err2)\n",
    "print('N = 50000000:', err3)"
   ]
  },
  {
   "cell_type": "markdown",
   "metadata": {},
   "source": [
    "It is not convenient to run the algorithm for 1 minute. In fact, the error is already very small using $N=1000000$, so there is no need to further increase $N$, also because the gain is not so relevant with respect to the computation time required. "
   ]
  }
 ],
 "metadata": {
  "interpreter": {
   "hash": "56cee935aa9a3f3637f03175b8d659cf88f72e32c50a44ffefdb433a8a4e1922"
  },
  "kernelspec": {
   "display_name": "Python 3.9.7 64-bit ('base': conda)",
   "name": "python3"
  },
  "language_info": {
   "codemirror_mode": {
    "name": "ipython",
    "version": 3
   },
   "file_extension": ".py",
   "mimetype": "text/x-python",
   "name": "python",
   "nbconvert_exporter": "python",
   "pygments_lexer": "ipython3",
   "version": "3.9.7"
  }
 },
 "nbformat": 4,
 "nbformat_minor": 2
}
