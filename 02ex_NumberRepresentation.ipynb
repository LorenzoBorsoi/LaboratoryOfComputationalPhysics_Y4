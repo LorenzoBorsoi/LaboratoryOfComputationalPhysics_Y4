{
 "cells": [
  {
   "cell_type": "markdown",
   "metadata": {},
   "source": [
    "1\\. Write a function that converts number representation (bin<->dec<->hex)"
   ]
  },
  {
   "cell_type": "code",
   "execution_count": 9,
   "metadata": {},
   "outputs": [
    {
     "name": "stdout",
     "output_type": "stream",
     "text": [
      "86\n",
      "1010110\n",
      "AF\n"
     ]
    }
   ],
   "source": [
    "'''an algorithm to change a number form binary to decimal base is to multiply each digit for 2**(position) counting the\n",
    "    first digit on the rifht as 0''' \n",
    "def bin_dec(x):\n",
    "    x=str(x)\n",
    "    \n",
    "    pos=len(x)-1\n",
    "    dec=0\n",
    "    for i in x:\n",
    "        dec += int(i)*2**pos\n",
    "        pos -=1\n",
    "    return dec\n",
    "    \n",
    "print(bin_dec('001010110'))\n",
    "\n",
    "'''to pass from decimal to binary we divide by 2, the rest will be the first digit starting from the right, the cocient will\n",
    "be divided by 2 again anexing each rest to the left of the previous one.'''\n",
    "def dec_bin(x):\n",
    "    ls=[]\n",
    "    \n",
    "    while x!=0:\n",
    "        m=x//2\n",
    "        ls.append(str(x%2))\n",
    "        x=m\n",
    "    ls=ls[::-1] #since the first rest is the first right digit, we invert the list.\n",
    "    b=''.join(ls) #this concatenate the elements of my list   \n",
    "    return b\n",
    "\n",
    "print(dec_bin(86))\n",
    "\n",
    "'''this code is very similar to pass from decimal to binary, we just keep in mind the hexadecimal format'''\n",
    "def dec_hex(x):\n",
    "    h=''\n",
    "    eq={10:'A', 11:'B', 12:'C', 13:'D', 14:'E', 15:'F'}\n",
    "    ls=[]\n",
    "    \n",
    "    while x!=0:\n",
    "        m=x//16\n",
    "        c=x%16\n",
    "        x=m\n",
    "        if 10<=c<=15:\n",
    "            c=eq[c]\n",
    "            ls.append(c)\n",
    "        else: \n",
    "            ls.append(str(c))\n",
    "    ls=ls[::-1]\n",
    "    b=''.join(ls)\n",
    "    return b\n",
    "\n",
    "print(dec_hex(175))\n",
    "        \n",
    "'''the algorithm to pass from hexadecimal base to decimal base is also vey similar to the one to pass from binary to decimal'''\n",
    "def hex_dec(x):\n",
    "    x=str(x)\n",
    "    #It is convenient to change the dictionary\n",
    "    eq={'A':10, 'a':10, 'B':11, 'b':11, 'C':12, 'c':12, 'D':13,'d':13, 'E':14, 'e':14, 'F':15, 'f':15}\n",
    "    pos=len(x)-1\n",
    "    dec=0\n",
    "    for i in x:\n",
    "        j=i\n",
    "        for k in eq.keys():\n",
    "            if j==k:\n",
    "                j=eq[k]\n",
    "        dec += int(j)*16**pos\n",
    "        pos -=1\n",
    "    \n",
    "    return dec        \n",
    "    \n",
    "def hex_bin(x):\n",
    "    x=hex_dec(x)\n",
    "    x=dec_bin(x)\n",
    "    return x\n",
    "\n",
    "def bin_hex(x):\n",
    "    x=bin_dec(x)\n",
    "    x=dec_hex(x)\n",
    "    return x\n",
    "        \n",
    "     \n"
   ]
  },
  {
   "cell_type": "markdown",
   "metadata": {},
   "source": [
    "2\\. Write a function that converts a 32 bit word into a single precision floating point (i.e. interprets the various bits as sign, mantissa and exponent)"
   ]
  },
  {
   "cell_type": "code",
   "execution_count": 10,
   "metadata": {},
   "outputs": [
    {
     "name": "stdout",
     "output_type": "stream",
     "text": [
      "0000011111000000000000000000000\n",
      "0\n",
      "0000111\n",
      "['1', '1', '0', '0', '0', '0', '0', '0', '0', '0', '0', '0', '0', '0', '0', '0', '0', '0', '0', '0', '0', '0', '0']\n",
      "7\n",
      "1.316553672920962e-36\n"
     ]
    }
   ],
   "source": [
    "def mant(x):\n",
    "    \n",
    "    ls=[i for i in x]\n",
    "    print(x)\n",
    "    \n",
    "    #we pull out the sign, exponent and mantisa \n",
    "    sign=ls[0]\n",
    "    print(sign)\n",
    "    ex= ls[1:8]\n",
    "    ex=''.join(ex)\n",
    "    print(ex)\n",
    "    m=ls[8:32]\n",
    "    print(m)\n",
    "    \n",
    "    #now we call the function from ex 1 to calculate the decimal value of the exponent\n",
    "    ex=bin_dec(ex)\n",
    "    print(ex)\n",
    "    #we calculate the mantisa\n",
    "    cont=1\n",
    "    mant=0\n",
    "    for i in m:\n",
    "        mant += int(i)*2**(-cont)\n",
    "        cont+=1\n",
    "    if int(sign)==1:\n",
    "        return -(1+mant)*2**(ex-127)\n",
    "    if int(sign)==0:\n",
    "        return (1+mant)*2**(ex-127)\n",
    "    \n",
    "a='0000011111000000000000000000000'\n",
    "\n",
    "print(mant(a))"
   ]
  },
  {
   "cell_type": "markdown",
   "metadata": {},
   "source": [
    "3\\. Write a program to determine the underflow and overflow limits (within a factor of 2) for python on your computer. \n",
    "\n",
    "**Tips**: define two variables inizialized to 1 and halve/double them enough time to exceed the under/over-flow limits  "
   ]
  },
  {
   "cell_type": "code",
   "execution_count": 11,
   "metadata": {},
   "outputs": [
    {
     "name": "stdout",
     "output_type": "stream",
     "text": [
      "underflow: 5e-324\n",
      "overflow 8.98846567431158e+307\n"
     ]
    }
   ],
   "source": [
    "i=1.\n",
    "\n",
    "while i>0.0:\n",
    "    j=i\n",
    "    i /= 2\n",
    "    \n",
    "    \n",
    "print('underflow:',j)\n",
    "\n",
    "import math as m\n",
    "\n",
    "i=1.\n",
    "while i<m.inf:\n",
    "    j=i\n",
    "    i *= 2\n",
    "\n",
    "print('overflow',j)"
   ]
  },
  {
   "cell_type": "markdown",
   "metadata": {},
   "source": [
    "4\\. Write a program to determine the machine precision\n",
    "\n",
    "**Tips**: define a new variable by adding a smaller and smaller value (proceeding similarly to prob. 2) to an original variable and check the point where the two are the same "
   ]
  },
  {
   "cell_type": "code",
   "execution_count": 12,
   "metadata": {},
   "outputs": [
    {
     "name": "stdout",
     "output_type": "stream",
     "text": [
      "1e-323\n"
     ]
    }
   ],
   "source": [
    "i=1.\n",
    "j=0.\n",
    "aux=[]\n",
    "cont=0\n",
    "while i!=j:\n",
    "    cont+=1\n",
    "    j=i\n",
    "    i=i*0.1\n",
    "    aux.append(j)\n",
    "    \n",
    "print(aux[cont-2])"
   ]
  },
  {
   "cell_type": "markdown",
   "metadata": {},
   "source": [
    "5\\. Write a function that takes in input three parameters $a$, $b$ and $c$ and prints out the two solutions to the quadratic equation $ax^2+bx+c=0$ using the standard formula:\n",
    "$$\n",
    "x=\\frac{-b\\pm\\sqrt{b^2-4ac}}{2a}\n",
    "$$\n",
    "\n",
    "(a) use the program to compute the solution for $a=0.001$, $b=1000$ and $c=0.001$\n",
    "\n",
    "(b) re-express the standard solution formula by multiplying top and bottom by $-b\\mp\\sqrt{b^2-4ac}$ and again find the solution for $a=0.001$, $b=1000$ and $c=0.001$. How does it compare with what previously obtained? Why?\n",
    "\n",
    "(c) write a function that compute the roots of a quadratic equation accurately in all cases"
   ]
  },
  {
   "cell_type": "code",
   "execution_count": 13,
   "metadata": {},
   "outputs": [
    {
     "name": "stdout",
     "output_type": "stream",
     "text": [
      "a) \n",
      " (-9.999894245993346e-07, -999999.999999)\n",
      "b) \n",
      " (-1.0000000000009999e-06, -1000010.5755125057)\n",
      "c) \n",
      " (-1.0000000000009999e-06, -999999.999999)\n"
     ]
    }
   ],
   "source": [
    "#a)\n",
    "def quadratic1(a,b,c):\n",
    "        return (-b+(b**2-4*a*c)**(1/2))/(2*a),(-b-(b**2-4*a*c)**(1/2))/(2*a)\n",
    "\n",
    "print('a) \\n', quadratic1(0.001,1000,0.001))\n",
    "\n",
    "#b)\n",
    "\n",
    "def quadratic2(a,b,c):\n",
    "    q1=(4*a*c)/(2*a*(-b-(b**2-4*a*c)**(1/2)))\n",
    "    q2=(4*a*c)/(2*a*(-b+(b**2-4*a*c)**(1/2)))\n",
    "    \n",
    "    return q1,q2\n",
    "\n",
    "print('b) \\n',quadratic2(0.001,1000,0.001))\n",
    "\n",
    "'''eventhough quadratic1 and quadratic2 represent the same analytical function the compute different numerical results.\n",
    "that is because of the order the operations are made on each function. The square root is the more imprecise operation \n",
    "and it is on the denominator adding enven more unprecision to the division.'''\n",
    "\n",
    "#c)\n",
    "#we can notice that quadratic1 gives the more accurate result for the second solution while quadratic2 for the first\n",
    "def quadratic3(a,b,c):\n",
    "    q1=q1=(4*a*c)/(2*a*(-b-(b**2-4*a*c)**(1/2)))\n",
    "    q2=(-b-(b**2-4*a*c)**(1/2))/(2*a)\n",
    "    return q1,q2\n",
    "print('c) \\n',quadratic3(0.001,1000,0.001))"
   ]
  },
  {
   "cell_type": "markdown",
   "metadata": {},
   "source": [
    "6\\. Write a program that implements the function $f(x)=x(x−1)$\n",
    "\n",
    "(a) Calculate the derivative of the function at the point $x = 1$ using the derivative definition:\n",
    "\n",
    "$$\n",
    "\\frac{{\\rm d}f}{{\\rm d}x} = \\lim_{\\delta\\to0} \\frac{f(x+\\delta)-f(x)}{\\delta}\n",
    "$$\n",
    "\n",
    "with $\\delta = 10^{−2}$. Calculate the true value of the same derivative analytically and compare with the answer your program gives. The two will not agree perfectly. Why not?\n",
    "\n",
    "(b) Repeat the calculation for $\\delta = 10^{−4}, 10^{−6}, 10^{−8}, 10^{−10}, 10^{−12}$ and $10^{−14}$. How does the accuracy scales with $\\delta$?"
   ]
  },
  {
   "cell_type": "code",
   "execution_count": 14,
   "metadata": {},
   "outputs": [
    {
     "name": "stdout",
     "output_type": "stream",
     "text": [
      "a)\n",
      " 1.010000000000001\n",
      "\n",
      " b)\n",
      "1.0000999999998899\n",
      "1.0000009999177333\n",
      "1.0000000039225287\n",
      "1.000000082840371\n",
      "1.0000889005833413\n",
      "0.9992007221626509\n"
     ]
    }
   ],
   "source": [
    "#a)\n",
    "def f(x):\n",
    "    return x*(x-1)\n",
    "\n",
    "d=10**(-2)\n",
    "a=1\n",
    "\n",
    "print('a)\\n',(f(a+d)-f(a))/d)\n",
    "\n",
    "#b)\n",
    "print('\\n b)')\n",
    "D=[10**(-i) for i in range(4,16,2)]\n",
    "\n",
    "for j in D:\n",
    "    print((f(a+j)-f(a))/j)\n",
    "\n"
   ]
  },
  {
   "cell_type": "raw",
   "metadata": {},
   "source": [
    "# a) \n",
    "The analytical solution for x=1 is f'(1)=1 but since by definition the derivate is a limit we can not obtain the same exact result, due to the limitations of our computers we can obtain reasonably good aproximations.\n",
    "\n",
    "b)\n",
    "As we can obserb the derivative is more preccise on each iteration until d =10^-10 , from that point on, it lose accuracy. That happens because as we increase our decimal number we lose precison on each operation."
   ]
  },
  {
   "cell_type": "markdown",
   "metadata": {},
   "source": [
    "# 7\\. Consider the integral of the semicircle of radius 1:\n",
    "$$\n",
    "I=\\int_{-1}^{1} \\sqrt(1-x^2) {\\rm d}x\n",
    "$$\n",
    "which it's known to be $I=\\frac{\\pi}{2}=1.57079632679...$.\n",
    "Alternatively we can use the Riemann definition of the integral:\n",
    "$$\n",
    "I=\\lim_{N\\to\\infty} \\sum_{k=1}^{N} h y_k \n",
    "$$\n",
    "\n",
    "with $h=2/N$ the width of each of the $N$ slices the domain is divided into and where\n",
    "$y_k$ is the value of the function at the $k-$th slice.\n",
    "\n",
    "(a) Write a programe to compute the integral with $N=100$. How does the result compares to the true value?\n",
    "\n",
    "(b) How much can $N$ be increased if the computation needs to be run in less than a second? What is the gain in running it for 1 minute? \n"
   ]
  },
  {
   "cell_type": "code",
   "execution_count": null,
   "metadata": {},
   "outputs": [
    {
     "name": "stdout",
     "output_type": "stream",
     "text": [
      "a) \n",
      " 1.569134255549249\n",
      "It differs from the real value:  0.001662071245647656\n",
      "182100 iterations on a time:  1.1369578838348389\n"
     ]
    }
   ],
   "source": [
    "#a)\n",
    "import math as m\n",
    "\n",
    "p=m.pi/2\n",
    "\n",
    "def g(x):\n",
    "    return ((1-x**2)**(1/2))\n",
    "\n",
    "N=100\n",
    "a=-1\n",
    "c=0\n",
    "def deriv(n,x,b):\n",
    "    I=0\n",
    "    for i in range(n):\n",
    "        I += (2/n)*g(x+b)\n",
    "        b += (2/n)\n",
    "    return I\n",
    "print('a) \\n',deriv(N,a,c))\n",
    "print('It differs from the real value: ',p-deriv(N,a,c))\n",
    " \n",
    "#b)\n",
    "import time\n",
    "\n",
    "s=True\n",
    "\n",
    "while s==True:\n",
    "    start=time.time()\n",
    "    deriv(N,a,c)\n",
    "    end=time.time()\n",
    "    N+=1000\n",
    "    if (end-start)>=1: \n",
    "        s=False\n",
    "    \n",
    "print(N,'iterations on a time: ', end-start) #the number of iterations have an uncertainty of 1000.\n",
    "\n",
    "#now we check how much iterations do we need to take 1 min of calculation\n",
    "s=True\n",
    "\n",
    "while s==True:\n",
    "    start=time.time()\n",
    "    deriv(N,a,c)\n",
    "    end=time.time()\n",
    "    N+=1000000\n",
    "    if (end-start)>=60: \n",
    "        s=False\n",
    "\n",
    "print ('for 1 min of calculation we need aproximately N= ',N)\n",
    "\n",
    "print('b) \\n','it differs respect to the real value: ', p-deriv(N,a,c))"
   ]
  },
  {
   "cell_type": "code",
   "execution_count": null,
   "metadata": {},
   "outputs": [],
   "source": []
  }
 ],
 "metadata": {
  "kernelspec": {
   "display_name": "Python 3 (ipykernel)",
   "language": "python",
   "name": "python3"
  },
  "language_info": {
   "codemirror_mode": {
    "name": "ipython",
    "version": 3
   },
   "file_extension": ".py",
   "mimetype": "text/x-python",
   "name": "python",
   "nbconvert_exporter": "python",
   "pygments_lexer": "ipython3",
   "version": "3.8.8"
  }
 },
 "nbformat": 4,
 "nbformat_minor": 2
}
