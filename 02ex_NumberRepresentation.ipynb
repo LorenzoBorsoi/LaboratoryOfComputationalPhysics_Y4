{
 "cells": [
  {
   "cell_type": "markdown",
   "metadata": {},
   "source": [
    "1\\. Write a function that converts number representation (bin<->dec<->hex)"
   ]
  },
  {
   "cell_type": "code",
   "execution_count": 9,
   "metadata": {},
   "outputs": [
    {
     "name": "stdout",
     "output_type": "stream",
     "text": [
      "This program will convert a number in its binary representation.\n",
      "Choose a number in decimal representation: 0\n",
      "The binary representation is:  0\n",
      "Reconversion to decimal:  0\n"
     ]
    }
   ],
   "source": [
    "from functools import reduce\n",
    "\n",
    "#decimal to binary\n",
    "print(\"This program will convert a number in its binary representation.\")\n",
    "x=int(input(\"Choose a number in decimal representation: \"))\n",
    "b=[]\n",
    "\n",
    "if x==0:\n",
    "    b.append(0)\n",
    "    \n",
    "while x>=1.0:\n",
    "    if x%2==0:\n",
    "        b.insert(0,0)\n",
    "    elif x%2!=0:\n",
    "        b.insert(0,1)\n",
    "    else:\n",
    "        print(\"Error!\")\n",
    "    x=x//2\n",
    "     \n",
    "binary=\"\".join(map(str, b))\n",
    "print(\"The binary representation is: \",binary)\n",
    "\n",
    "#binary to decimal\n",
    "\n",
    "c=[]\n",
    "loop=len(b)-1\n",
    "for i in b:\n",
    "    s=i*(2**loop)\n",
    "    c.append(s)\n",
    "    loop=loop-1\n",
    "def add(x,y):\n",
    "    return x+y\n",
    "decimal=reduce(add, c)\n",
    "print(\"Reconversion to decimal: \", decimal)"
   ]
  },
  {
   "cell_type": "code",
   "execution_count": 12,
   "metadata": {},
   "outputs": [
    {
     "name": "stdout",
     "output_type": "stream",
     "text": [
      "This program will convert a number in its hexadecimal representation.\n",
      "Choose a number in decimal representation: 88776\n",
      "The hexadecimal representation is: 15AC8\n",
      "Reconversion to decimal: 88776\n"
     ]
    }
   ],
   "source": [
    "#decimal to hexadecimal\n",
    "print(\"This program will convert a number in its hexadecimal representation.\")\n",
    "y=int(input(\"Choose a number in decimal representation: \"))\n",
    "p=[]\n",
    "\n",
    "if y==0:\n",
    "    p.append(0)\n",
    "\n",
    "h={'A':10,'B':11,'C':12,'D':13,'E':14,'F':15}\n",
    "\n",
    "while y>=1.0:\n",
    "        v=int(y%16)\n",
    "        if v<=9:\n",
    "            p.insert(0,v)\n",
    "        else:\n",
    "            for i in h:\n",
    "                if v==h[i]:\n",
    "                    p.insert(0,i)\n",
    "        y=y/16\n",
    "    \n",
    "\n",
    "hexad=\"\".join(map(str, p))\n",
    "print(\"The hexadecimal representation is:\",hexad)\n",
    "\n",
    "#back to decimal\n",
    "w=[]\n",
    "loop=len(p)-1\n",
    "for i in p:\n",
    "    if type(i)==str:\n",
    "        for j in h:\n",
    "            if i==j:\n",
    "                i=h[j]\n",
    "    s=i*(16**loop)\n",
    "    w.append(s)\n",
    "    loop=loop-1\n",
    "    \n",
    "decimal2=reduce(add, w)\n",
    "print(\"Reconversion to decimal:\", decimal2)"
   ]
  },
  {
   "cell_type": "markdown",
   "metadata": {},
   "source": [
    "2\\. Write a function that converts a 32 bit word into a single precision floating point (i.e. interprets the various bits as sign, mantissa and exponent)"
   ]
  },
  {
   "cell_type": "code",
   "execution_count": 21,
   "metadata": {},
   "outputs": [
    {
     "name": "stdout",
     "output_type": "stream",
     "text": [
      "This program converts a 32 bit word into a single precision floating point\n",
      "The 32 bit word is: [0, 0, 0, 1, 1, 1, 1, 0, 0, 1, 1, 0, 1, 0, 1, 1, 1, 1, 1, 1, 0, 0, 1, 0, 0, 0, 0, 1, 1, 1, 1, 1]\n",
      "The sign is: +\n",
      "The exponent is: 60\n",
      "The mantissa is: 1.843326449394226\n",
      "The result is:  + 1.249086588145757e-20\n"
     ]
    }
   ],
   "source": [
    "from functools import reduce\n",
    "import numpy.random as npr\n",
    "\n",
    "print(\"This program converts a 32 bit word into a single precision floating point\")\n",
    "l=np.random.choice([0, 1], size=32)\n",
    "b=l.tolist()\n",
    "print(\"The 32 bit word is:\",b)\n",
    "\n",
    "#sign\n",
    "sg=b[0]\n",
    "if sg==1:\n",
    "    sg=\"-\"\n",
    "elif sg==0:\n",
    "    sg=\"+\"\n",
    "print(\"The sign is:\", sg)\n",
    "\n",
    "#exponent\n",
    "e=[]\n",
    "for i in range(1,9):\n",
    "    e.append(b[i])\n",
    "    \n",
    "c=[]\n",
    "loop=len(e)-1\n",
    "for i in e:\n",
    "    s=i*(2**loop)\n",
    "    c.append(s)\n",
    "    loop=loop-1\n",
    "def add(x,y):\n",
    "    return x+y\n",
    "decimal=reduce(add, c)\n",
    "print(\"The exponent is:\", decimal)    \n",
    "    \n",
    "    \n",
    "m=[]\n",
    "for j in range(9,32):\n",
    "    m.append(b[j])\n",
    "v=[1]\n",
    "j=1\n",
    "while j<=23:\n",
    "    for i in m:\n",
    "        s=i*(2**(-j))\n",
    "        v.append(s)\n",
    "        j=j+1\n",
    "def add(x,y):\n",
    "    return x+y\n",
    "decimall=reduce(add, v)\n",
    "print(\"The mantissa is:\", decimall) \n",
    "\n",
    "spfp=2**(decimal-127)*decimall\n",
    "print(\"The result is: \", sg,spfp)"
   ]
  },
  {
   "cell_type": "markdown",
   "metadata": {},
   "source": [
    "3\\. Write a program to determine the underflow and overflow limits (within a factor of 2) for python on your computer. \n",
    "\n",
    "**Tips**: define two variables inizialized to 1 and halve/double them enough time to exceed the under/over-flow limits  "
   ]
  },
  {
   "cell_type": "code",
   "execution_count": 22,
   "metadata": {},
   "outputs": [
    {
     "name": "stdout",
     "output_type": "stream",
     "text": [
      "The underflow limit is:  5e-324\n",
      "The overflow limit is:  8.98846567431158e+307\n"
     ]
    }
   ],
   "source": [
    "a=1\n",
    "b=1\n",
    "\n",
    "low=[]\n",
    "while a>0:\n",
    "    low.append(a)\n",
    "    a=float(a/2)\n",
    "\n",
    "print(\"The underflow limit is: \", low[len(low)-1])\n",
    "#print(low[len(low)-1]/2) -> returns 0\n",
    "\n",
    "over=[]\n",
    "while b!=b*2:\n",
    "    over.append(b)\n",
    "    b=float(b*2)\n",
    "\n",
    "print(\"The overflow limit is: \", over[len(over)-1])\n",
    "#print(over[len(over)-1]*2) -> returns inf"
   ]
  },
  {
   "cell_type": "markdown",
   "metadata": {},
   "source": [
    "4\\. Write a program to determine the machine precision\n",
    "\n",
    "**Tips**: define a new variable by adding a smaller and smaller value (proceeding similarly to prob. 2) to an original variable and check the point where the two are the same "
   ]
  },
  {
   "cell_type": "code",
   "execution_count": 23,
   "metadata": {},
   "outputs": [
    {
     "name": "stdout",
     "output_type": "stream",
     "text": [
      "The machine precision is of the order of 1e-16\n"
     ]
    }
   ],
   "source": [
    "v=1\n",
    "delta=1\n",
    "l=[]\n",
    "while v!=v+delta:\n",
    "    delta=delta*10**(-1)\n",
    "    v=v+delta\n",
    "    l.append(v)    \n",
    "\n",
    "print(\"The machine precision is of the order of\", 10**(-len(l)))\n",
    "    "
   ]
  },
  {
   "cell_type": "markdown",
   "metadata": {},
   "source": [
    "5\\. Write a function that takes in input three parameters $a$, $b$ and $c$ and prints out the two solutions to the quadratic equation $ax^2+bx+c=0$ using the standard formula:\n",
    "$$\n",
    "x=\\frac{-b\\pm\\sqrt{b^2-4ac}}{2a}\n",
    "$$\n",
    "\n",
    "(a) use the program to compute the solution for $a=0.001$, $b=1000$ and $c=0.001$\n",
    "\n",
    "(b) re-express the standard solution formula by multiplying top and bottom by $-b\\mp\\sqrt{b^2-4ac}$ and again find the solution for $a=0.001$, $b=1000$ and $c=0.001$. How does it compare with what previously obtained? Why?\n",
    "\n",
    "(c) write a function that compute the roots of a quadratic equation accurately in all cases"
   ]
  },
  {
   "cell_type": "code",
   "execution_count": 35,
   "metadata": {},
   "outputs": [
    {
     "name": "stdout",
     "output_type": "stream",
     "text": [
      "Results with the classic formula:\n",
      "('the two solutions are: x1=', -9.999894245993346e-07, ' and x2=', -999999.999999, '. Putting these values in the equation it results:', 1.0575401665491313e-08, 'and', 7.247924804689582e-08)\n",
      "We can see that the results are not perfect. That's because the resulting delta is a number very close to b=1000, so in x1 we have a subtraction between 2 similar numbers and in x2 we have an error because of the approximation. \n",
      "\n",
      "Results with the second formula:\n",
      "('the two solutions are: x1=', -1.000000000001e-06, ' and x2=', -1000010.5755125057, '. Putting these values in the equation it returns:', 0.0, 'and', 10575.62534720993)\n",
      "We can see that this formula is perfect to find x1, that we get without error. Instead, the x2 found is very far from the true value, that's because we are subtracting of two very similar numbers at the denominator. \n",
      "\n",
      "Results with the stable formula:\n",
      "('the two solutions are: x1=', -1.000000000001e-06, ' and x2=', -999999.999999, '. Putting these values in the equation it returns:', 0.0, 'and', 7.247924804689582e-08)\n"
     ]
    }
   ],
   "source": [
    "def quad(x,y,z):\n",
    "    res1=(-y+(y**2-4*x*z)**0.5)/(2*x)\n",
    "    res2=(-y-(y**2-4*x*z)**0.5)/(2*x) \n",
    "    check1=x*(res1**2)+y*res1+z\n",
    "    check2=x*(res2**2)+y*res2+z\n",
    "    return \"the two solutions are: x1=\", res1,\" and x2=\", res2, \". Putting these values in the equation it results:\",check1,\"and\", check2\n",
    "\n",
    "\n",
    "a1=0.001\n",
    "b1=1000\n",
    "c1=0.001\n",
    "print(\"Results with the classic formula:\")\n",
    "print(quad(a1,b1,c1))\n",
    "print(\"We can see that the results are not perfect. That's because the resulting delta is a number very close to b=1000, so in x1 we have a subtraction between 2 similar numbers and in x2 we have an error because of the approximation. \\n\")\n",
    "\n",
    "#request b\n",
    "\n",
    "def res(x,y,z):\n",
    "    res1=2*z/(-y-(y**2-4*x*z)**0.5) \n",
    "    res2=2*z/(-y+(y**2-4*x*z)**0.5) \n",
    "    check1=x*(res1**2)+y*res1+z\n",
    "    check2=x*(res2**2)+y*res2+z\n",
    "    return \"the two solutions are: x1=\", res1,\" and x2=\", res2, \". Putting these values in the equation it returns:\",check1,\"and\", check2\n",
    "\n",
    "print(\"Results with the second formula:\")\n",
    "print(res(a1,b1,c1))\n",
    "print(\"We can see that this formula is perfect to find x1, that we get without error. Instead, the x2 found is very far from the true value, that's because we are subtracting of two very similar numbers at the denominator. \\n\")\n",
    "#request c \n",
    "\n",
    "def q(x,y,z):\n",
    "    res2=(-y-(y**2-4*x*z)**0.5)/(2*x) #ok because there's no subtraction of small numbers, small difference from the true value\n",
    "    res1=2*z/(-y-(y**2-4*x*z)**0.5)\n",
    "    check1=x*(res1**2)+y*res1+z\n",
    "    check2=x*(res2**2)+y*res2+z\n",
    "    return \"the two solutions are: x1=\", res1,\" and x2=\", res2, \". Putting these values in the equation it returns:\",check1,\"and\", check2\n",
    "\n",
    "print(\"Results with the stable formula:\")\n",
    "print(q(a1,b1,c1))"
   ]
  },
  {
   "cell_type": "markdown",
   "metadata": {},
   "source": [
    "6\\. Write a program that implements the function $f(x)=x(x−1)$\n",
    "\n",
    "(a) Calculate the derivative of the function at the point $x = 1$ using the derivative definition:\n",
    "\n",
    "$$\n",
    "\\frac{{\\rm d}f}{{\\rm d}x} = \\lim_{\\delta\\to0} \\frac{f(x+\\delta)-f(x)}{\\delta}\n",
    "$$\n",
    "\n",
    "with $\\delta = 10^{−2}$. Calculate the true value of the same derivative analytically and compare with the answer your program gives. The two will not agree perfectly. Why not?\n",
    "\n",
    "(b) Repeat the calculation for $\\delta = 10^{−4}, 10^{−6}, 10^{−8}, 10^{−10}, 10^{−12}$ and $10^{−14}$. How does the accuracy scales with $\\delta$?"
   ]
  },
  {
   "cell_type": "code",
   "execution_count": 38,
   "metadata": {},
   "outputs": [
    {
     "name": "stdout",
     "output_type": "stream",
     "text": [
      "Choose a number: 3\n",
      "The derivative of f(x)=x(x-1) in x = 3.0 with delta= 0.01 is 5.00999999999987\n",
      "The true value is: 5.0\n",
      "The percentual error is: 0.19999999999740226 %\n",
      "The two values don't agree perfectly. The increment chosen is not small enough to represent well the derivative.\n",
      "The derivative of f(x)=x(x-1) in x = 3.0 with delta= 0.0001 is 5.000100000014385\n",
      "The percentual error is: 0.0020000002876940925 %\n",
      "The derivative of f(x)=x(x-1) in x = 3.0 with delta= 1e-06 is 5.00000100078779\n",
      "The percentual error is: 2.0015755808344693e-05 %\n",
      "The derivative of f(x)=x(x-1) in x = 3.0 with delta= 1e-08 is 4.999999969612645\n",
      "The percentual error is: 6.07747097092215e-07 %\n",
      "The derivative of f(x)=x(x-1) in x = 3.0 with delta= 1e-10 is 5.000000413701855\n",
      "The percentual error is: 8.274037099909037e-06 %\n",
      "The derivative of f(x)=x(x-1) in x = 3.0 with delta= 1e-12 is 5.000444502911705\n",
      "The percentual error is: 0.008890058234101161 %\n",
      "The derivative of f(x)=x(x-1) in x = 3.0 with delta= 1e-14 is 5.151434834260726\n",
      "The percentual error is: 3.028696685214527 %\n",
      "We can see that until delta=10^(-8) the error decreases, so we get better results. After that the error increases again, because of the numerical instability: we are trying to subtract very similar numbers among them doing f(x+d)-f(x).\n"
     ]
    }
   ],
   "source": [
    "import numpy as np\n",
    "\n",
    "def f(x):\n",
    "    return x*(x-1)\n",
    "a=float(input(\"Choose a number: \"))\n",
    "delta=10**(-2)\n",
    "d=(f(a+delta)-f(a))/delta\n",
    "print(\"The derivative of f(x)=x(x-1) in x =\", a ,\"with delta=\",delta,\"is\", d)\n",
    "def vv(x):\n",
    "    return 2*x-1\n",
    "print(\"The true value is:\", vv(a))\n",
    "err_abs= abs(d-vv(a))\n",
    "err_p= (err_abs/vv(a))*100\n",
    "print(\"The percentual error is:\", err_p, \"%\")\n",
    "print(\"The two values don't agree perfectly. The increment chosen is not small enough to represent well the derivative.\")\n",
    "\n",
    "for i in np.arange(4,15,2, dtype=float):\n",
    "    delta1=10**(-i)\n",
    "    d1=(f(a+delta1)-f(a))/delta1\n",
    "    print(\"The derivative of f(x)=x(x-1) in x =\", a ,\"with delta=\",delta1,\"is\", d1)\n",
    "    err_abs1= abs(d1-vv(a))\n",
    "    err_p1= (err_abs1/vv(a))*100\n",
    "    print(\"The percentual error is:\", err_p1, \"%\")\n",
    "\n",
    "print(\"We can see that until delta=10^(-8) the error decreases, so we get better results. After that the error increases again, because of the numerical instability: we are trying to subtract very similar numbers among them doing f(x+d)-f(x).\")"
   ]
  },
  {
   "cell_type": "markdown",
   "metadata": {},
   "source": [
    "7\\. Consider the integral of the semicircle of radius 1:\n",
    "$$\n",
    "I=\\int_{-1}^{1} \\sqrt(1-x^2) {\\rm d}x\n",
    "$$\n",
    "which it's known to be $I=\\frac{\\pi}{2}=1.57079632679...$.\n",
    "Alternatively we can use the Riemann definition of the integral:\n",
    "$$\n",
    "I=\\lim_{N\\to\\infty} \\sum_{k=1}^{N} h y_k \n",
    "$$\n",
    "\n",
    "with $h=2/N$ the width of each of the $N$ slices the domain is divided into and where\n",
    "$y_k$ is the value of the function at the $k-$th slice.\n",
    "\n",
    "(a) Write a programe to compute the integral with $N=100$. How does the result compares to the true value?\n",
    "\n",
    "(b) How much can $N$ be increased if the computation needs to be run in less than a second? What is the gain in running it for 1 minute? \n"
   ]
  },
  {
   "cell_type": "code",
   "execution_count": 8,
   "metadata": {},
   "outputs": [
    {
     "name": "stdout",
     "output_type": "stream",
     "text": [
      "Choose N: 710000\n",
      "The integral is:  1.5707963240085996\n",
      "The absolute error with the true value is:  2.7862969709246954e-09\n",
      "The percentual error is:  1.773811743378561e-07 %\n",
      "0.9101740000000973\n"
     ]
    }
   ],
   "source": [
    "#calculate an integral through a serie\n",
    "from functools import reduce\n",
    "import math\n",
    "import numpy as np\n",
    "import timeit\n",
    "\n",
    "def f(n):\n",
    "    a=(1-(n)**2)**0.5\n",
    "    return a\n",
    "\n",
    "N=int(input(\"Choose N: \"))\n",
    "l=[]\n",
    "mini=2/N\n",
    "a=-1\n",
    "\n",
    "while a<=1:\n",
    "    l.append(f(a)*mini)\n",
    "    a=a+mini\n",
    "\n",
    "def add(x,y):\n",
    "    return x+y\n",
    "\n",
    "I=reduce(add, l)\n",
    "print(\"The integral is: \", I)\n",
    "\n",
    "trueV=math.pi/2\n",
    "err_ass=abs(I-trueV)\n",
    "err_per=err_ass/trueV*100\n",
    "print(\"The absolute error with the true value is: \", err_ass)\n",
    "print(\"The percentual error is: \", err_per, \"%\")\n",
    "\n",
    "#%timeit [mini*f(x) for x in np.arange(-1,1,mini)]\n",
    "\n",
    "code='''def f(n):\n",
    "    a=(1-(n)**2)**0.5\n",
    "    return a\n",
    "\n",
    "N=710000\n",
    "l=[]\n",
    "mini=2/N\n",
    "a=-1\n",
    "\n",
    "while a<=1:\n",
    "    l.append(f(a)*mini)\n",
    "    a=a+mini\n",
    "\n",
    "def add(x,y):\n",
    "    return x+y\n",
    "\n",
    "I=reduce(add, l)\n",
    "'''\n",
    "\n",
    "mysetup='''import numpy as np\n",
    "from functools import reduce\n",
    "import math\n",
    "'''\n",
    "\n",
    "print(timeit.timeit(stmt=code,setup=mysetup, number=1))\n",
    "\n",
    "#to stay under 1 s of running computation, N can be increased until 7,1*10^(05), with a percentual error of 1.77*10^(-07) and abs err of 2.79*10^(-09).\n",
    "#We can run the code for 1 min with N~4*10^(07) and get a percentual error of 8.63*10^(-09) and abs err of 1.35*10^(-10), \n",
    "#the gain is not so relevant compared to a time of 1 sec."
   ]
  },
  {
   "cell_type": "code",
   "execution_count": null,
   "metadata": {},
   "outputs": [],
   "source": []
  }
 ],
 "metadata": {
  "kernelspec": {
   "display_name": "Python 3",
   "language": "python",
   "name": "python3"
  },
  "language_info": {
   "codemirror_mode": {
    "name": "ipython",
    "version": 3
   },
   "file_extension": ".py",
   "mimetype": "text/x-python",
   "name": "python",
   "nbconvert_exporter": "python",
   "pygments_lexer": "ipython3",
   "version": "3.8.8"
  }
 },
 "nbformat": 4,
 "nbformat_minor": 2
}
