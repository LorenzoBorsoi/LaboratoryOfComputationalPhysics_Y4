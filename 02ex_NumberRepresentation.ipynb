{
 "cells": [
  {
   "cell_type": "markdown",
   "metadata": {},
   "source": [
    "1\\. Write a function that converts number representation (bin<->dec<->hex)"
   ]
  },
  {
   "cell_type": "code",
   "execution_count": 29,
   "metadata": {},
   "outputs": [],
   "source": [
    "#function that converts a number from a decimal representation to a binary one\n",
    "def dec_bin(n):\n",
    "    n_bin = '0' + 'b'      #the binary string must begin with 0b \n",
    "    d = n\n",
    "    s = n\n",
    "    Mexp = 0\n",
    "    while s >= 2:\n",
    "        Mexp = Mexp + 1\n",
    "        s = s/2    \n",
    "    i = Mexp \n",
    "    while i >= 0:          #I simply use the expression of a decimal number in function of its binary representation, given in the tutorial 02            \n",
    "        if d - 2**i >= 0 : \n",
    "            n_bin = n_bin + '1'\n",
    "            d = d-2**i\n",
    "        else:\n",
    "            n_bin = n_bin + '0'\n",
    "        i = i-1\n",
    "    return n_bin\n",
    "\n",
    "\n",
    "#function that converts a number from a decimal representation to a hexadecimal one\n",
    "def dec_ex(n):\n",
    "    n_ex = '0' + 'x'\n",
    "    D = n\n",
    "    S = n\n",
    "    Mexp = 0\n",
    "    while S >= 16:\n",
    "        Mexp = Mexp + 1\n",
    "        S = S//16\n",
    "    i = Mexp \n",
    "        \n",
    "    while i >= 0:             #I use the same template as above, but now there are more cases\n",
    "        if D // 16**i == 15:\n",
    "            n_ex = n_ex + 'f'\n",
    "        elif D // 16**i == 14:\n",
    "            n_ex = n_ex + 'e'\n",
    "        elif D // 16**i == 13:\n",
    "            n_ex = n_ex + 'd'\n",
    "        elif D // 16**i == 12:\n",
    "            n_ex = n_ex + 'c'\n",
    "        elif D // 16**i == 11:\n",
    "            n_ex = n_ex + 'b'\n",
    "        elif D // 16**i == 10:\n",
    "            n_ex = n_ex + 'a'\n",
    "        else:\n",
    "            n_ex = n_ex + str(D // 16**i)\n",
    "        D = D - (D // 16**i)*(16**i)\n",
    "        i = i - 1\n",
    "    return n_ex\n",
    "\n",
    "\n",
    "#function that converts one representation to another one. It uses the functions implemented above.\n",
    "def convert(n):\n",
    "    if(type(n) == int):\n",
    "        dec_n = n   \n",
    "        return dec_n, dec_bin(n), dec_ex(n)\n",
    "    \n",
    "    if (type(n) == str) and (n[1] == 'b'):\n",
    "        bin_n = n\n",
    "        bin_n_l = bin_n[2:]\n",
    "        \n",
    "        #from base 2 to base 10 \n",
    "        dec_n = 0\n",
    "        i = 1\n",
    "        for c in bin_n_l:\n",
    "            if c == '1':\n",
    "                dec_n = dec_n + 2**(len(bin_n_l) - i)\n",
    "            i = i + 1\n",
    "        return dec_n, bin_n, dec_ex(dec_n)\n",
    "    \n",
    "    if  (type(n) == str) and (n[1] == 'x'):\n",
    "            ex_n = n\n",
    "            ex_n_l = ex_n[2:]\n",
    "            \n",
    "            #from hexadecimal to decimal\n",
    "            dec_n = 0\n",
    "            i = 1\n",
    "            \n",
    "            for c in ex_n_l:\n",
    "                if c == '1':\n",
    "                    dec_n = dec_n + 16**(len(ex_n_l) - i)\n",
    "                elif c == '2':\n",
    "                     dec_n = dec_n + 2*16**(len(ex_n_l) - i)\n",
    "                elif c == '3':\n",
    "                    dec_n = dec_n + 3*16**(len(ex_n_l) - i)\n",
    "                elif c == '4':\n",
    "                    dec_n = dec_n + 4*16**(len(ex_n_l) - i)\n",
    "                elif c == '5':\n",
    "                    dec_n = dec_n + 5*16**(len(ex_n_l) - i)\n",
    "                elif c == '6':\n",
    "                    dec_n = dec_n + 6*16**(len(ex_n_l) - i)\n",
    "                elif c == '7':\n",
    "                    dec_n = dec_n + 7*16**(len(ex_n_l) - i)\n",
    "                elif c == '8':\n",
    "                    dec_n = dec_n + 8*16**(len(ex_n_l) - i)\n",
    "                elif c == '9':\n",
    "                    dec_n = dec_n + 9*16**(len(ex_n_l) - i) \n",
    "                elif c == 'a':\n",
    "                    dec_n = dec_n + 10*16**(len(ex_n_l) - i)\n",
    "                elif c == 'b':\n",
    "                    dec_n = dec_n + 11*16**(len(ex_n_l) - i)\n",
    "                elif c == 'c':\n",
    "                    dec_n = dec_n + 12*16**(len(ex_n_l) - i)\n",
    "                elif c == 'd':\n",
    "                    dec_n = dec_n + 13*16**(len(ex_n_l) - i)\n",
    "                elif c == 'e':\n",
    "                    dec_n = dec_n + 14*16**(len(ex_n_l) - i)\n",
    "                elif c == 'f':\n",
    "                    dec_n = dec_n + 15*16**(len(ex_n_l) - i)\n",
    "                i = i + 1\n",
    "            \n",
    "            return dec_n, dec_bin(dec_n), ex_n\n",
    "\n",
    "#let's test the convert function\n",
    "for i in range(0,1000):\n",
    "    if hex(i) != convert(i)[2]: print('-1')\n",
    "    elif bin(i) != convert(i)[1]: print('-2')\n",
    "    elif hex(i) != convert(bin(i))[2]: print('-3')\n",
    "    elif i != convert(bin(i))[0]: print('-4')\n",
    "    elif i != convert(hex(i))[0]: print('-5')\n",
    "    elif bin(i) != convert(hex(i))[1]: print('-6')\n",
    "\n",
    " \n",
    "\n",
    "    \n",
    "   "
   ]
  },
  {
   "cell_type": "markdown",
   "metadata": {},
   "source": [
    "2\\. Write a function that converts a 32 bit word into a single precision floating point (i.e. interprets the various bits as sign, mantissa and exponent)"
   ]
  },
  {
   "cell_type": "code",
   "execution_count": 30,
   "metadata": {},
   "outputs": [
    {
     "name": "stdout",
     "output_type": "stream",
     "text": [
      "binary code: 00000011111000000000000000000000 number: 1.316553672920962e-36\n",
      "binary code: 11000000101100000000000000000000 number: -5.5\n",
      "binary code: 00000000000000000000000000000001 number: 5.87747245476067e-39\n"
     ]
    }
   ],
   "source": [
    "def spn_num(x):\n",
    "    if len(x) != 32: return -1 #error message if the argument given to spn_num is wrong\n",
    "    else:\n",
    "        sgn = 0\n",
    "        exp = '0' + 'b'\n",
    "        mnt = 0\n",
    "        if x[0] == '1':\n",
    "            sgn = -1\n",
    "        else:\n",
    "            sgn = 1\n",
    "        exp = exp + x[1:9]\n",
    "        i = 1\n",
    "        for c in x[9:]:\n",
    "            if c == '1':\n",
    "                mnt = mnt + 2**(-i)\n",
    "            i = i + 1\n",
    "        exp = convert(exp)[0]\n",
    "        return sgn*(1 + mnt)*2**(exp - 127)\n",
    "\n",
    "#let's test spn_num function, examples prova and prova2 are the ones given in the tutorial 02\n",
    "prova = ''\n",
    "i = 0\n",
    "while i < 32:\n",
    "    if i == 6 or i == 7 or i == 8 or i == 9 or i == 10:\n",
    "        prova = prova + '1'\n",
    "    else:    \n",
    "        prova = prova + '0'\n",
    "    i = i + 1\n",
    "\n",
    "prova2 = ''\n",
    "i = 0\n",
    "while i < 32:\n",
    "    if i == 0 or i == 1 or i == 8 or i == 10 or i == 11:\n",
    "        prova2 = prova2 + '1'\n",
    "    else:    \n",
    "        prova2 = prova2 + '0'\n",
    "    i = i + 1\n",
    "\n",
    "prova3 = ''\n",
    "i = 0\n",
    "while i < 32:\n",
    "    if i == 31:\n",
    "        prova3 = prova3 + '1'\n",
    "    else:    \n",
    "        prova3 = prova3 + '0'\n",
    "    i = i + 1\n",
    "    \n",
    "print('binary code:', prova, 'number:',spn_num(prova))   \n",
    "print('binary code:', prova2, 'number:', spn_num(prova2))\n",
    "print('binary code:', prova3, 'number:', spn_num(prova3))\n",
    "\n"
   ]
  },
  {
   "cell_type": "markdown",
   "metadata": {},
   "source": [
    "3\\. Write a program to determine the underflow and overflow limits (within a factor of 2) for python on your computer. \n",
    "\n",
    "**Tips**: define two variables inizialized to 1 and halve/double them enough time to exceed the under/over-flow limits  "
   ]
  },
  {
   "cell_type": "code",
   "execution_count": 31,
   "metadata": {},
   "outputs": [
    {
     "name": "stdout",
     "output_type": "stream",
     "text": [
      "starting point 0.25 \n",
      "number of iterations: 1073 \n",
      "value before the underflow limit: 5e-324\n"
     ]
    },
    {
     "data": {
      "text/plain": [
       "\"  \\ni = 0\\nwhile i < 600000:\\n    ofl = ofl*2\\n    i = i + 1\\n    if i > 599998:\\n        print(i,ofl)\\n        print('\\n\\n')\\n\""
      ]
     },
     "execution_count": 31,
     "metadata": {},
     "output_type": "execute_result"
    }
   ],
   "source": [
    "ufl = 0.25\n",
    "ofl = 1\n",
    "\n",
    "i = 0\n",
    "while len(str(ufl)) > 3: #when python reaches the uderflow-limit it starts to print 0.0\n",
    "    ufl = ufl / 2\n",
    "    i = i + 1\n",
    "\n",
    "ufl = 0.25*0.5**(i-1)\n",
    "print('starting point', 0.25, '\\nnumber of iterations:', i, '\\nvalue before the underflow limit:',ufl)\n",
    "\n",
    "#I cannot find the over-flow limit\n",
    "'''  \n",
    "i = 0\n",
    "while i < 600000:\n",
    "    ofl = ofl*2\n",
    "    i = i + 1\n",
    "    if i > 599998:\n",
    "        print(i,ofl)\n",
    "        print('\\n\\n')\n",
    "'''"
   ]
  },
  {
   "cell_type": "markdown",
   "metadata": {},
   "source": [
    "4\\. Write a program to determine the machine precision\n",
    "\n",
    "**Tips**: define a new variable by adding a smaller and smaller value (proceeding similarly to prob. 2) to an original variable and check the point where the two are the same "
   ]
  },
  {
   "cell_type": "code",
   "execution_count": 32,
   "metadata": {},
   "outputs": [
    {
     "name": "stdout",
     "output_type": "stream",
     "text": [
      "number of iterations: 50\n",
      "min value of addendum: 2.1316282072803005e-16\n",
      "value before the limit: 1.2399999999999998 \n",
      "limit: 1.24 \n",
      "value after the limit: 1.24\n"
     ]
    }
   ],
   "source": [
    "a = 1\n",
    "b = 0.24\n",
    "\n",
    "counter = 0\n",
    "while (len(str(a)) > 4) or (a == 1.12) or (a == 1) :\n",
    "    counter += 1 \n",
    "    b = b / 2\n",
    "    a = a + b\n",
    "\n",
    "print('number of iterations:',counter)\n",
    "print('min value of addendum:', b)\n",
    "print('value before the limit:', a - b, '\\nlimit:', a, '\\nvalue after the limit:',a + b/2)\n"
   ]
  },
  {
   "cell_type": "markdown",
   "metadata": {},
   "source": [
    "5\\. Write a function that takes in input three parameters $a$, $b$ and $c$ and prints out the two solutions to the quadratic equation $ax^2+bx+c=0$ using the standard formula:\n",
    "$$\n",
    "x=\\frac{-b\\pm\\sqrt{b^2-4ac}}{2a}\n",
    "$$\n",
    "\n",
    "(a) use the program to compute the solution for $a=0.001$, $b=1000$ and $c=0.001$\n",
    "\n",
    "(b) re-express the standard solution formula by multiplying top and bottom by $-b\\mp\\sqrt{b^2-4ac}$ and again find the solution for $a=0.001$, $b=1000$ and $c=0.001$. How does it compare with what previously obtained? Why?\n",
    "\n",
    "(c) write a function that compute the roots of a quadratic equation accurately in all cases"
   ]
  },
  {
   "cell_type": "code",
   "execution_count": 33,
   "metadata": {},
   "outputs": [
    {
     "name": "stdout",
     "output_type": "stream",
     "text": [
      "SOLUTIONS:\n",
      "python built in function: ( -1.000000000001e-06 -999999.999999 )\n",
      "root version 1: (-9.999894245993346e-07, -999999.999999)\n",
      "root version 2: (-1.000000000001e-06, -1000010.5755125057)\n",
      "root version 3: (-1.000000000001e-06, -999999.999999)\n"
     ]
    }
   ],
   "source": [
    "import numpy as np\n",
    "import math\n",
    "\n",
    "def root(a,b,c):\n",
    "    return (-b + math.sqrt(b**2 - 4*a*c))/(2*a), (-b - math.sqrt(b**2 - 4*a*c))/(2*a)\n",
    "\n",
    "def root2(a,b,c):\n",
    "    return (2*c)/(-b - math.sqrt(b**2 - 4*a*c)), (2*c)/(-b + math.sqrt(b**2 - 4*a*c))\n",
    "\n",
    "#python built-in function\n",
    "coeff = [1e-3,1e3,1e-3]\n",
    "C = np.roots(coeff)\n",
    "\n",
    "print('SOLUTIONS:')\n",
    "print('python built in function:', '(', C[1], C[0], ')')\n",
    "print('root version 1:', root(1e-3, b = 1e3, c = 1e-3))\n",
    "print('root version 2:', root2(1e-3, b = 1e3, c = 1e-3))\n",
    "\n",
    "#---------------------------Comment---------------------------------------------------------------\n",
    "# The solutions are similar. \n",
    "#Supposing that the Python built-in function shows the best roots,\n",
    "#I notice that 'root' version 1 returns in a correct way the major solution, and 'root' version 2 the minor one.  \n",
    "#The issue is the sum between the coefficient '-b' and the square root of the discriminant.\n",
    "#The best function I can write is maybe a mix of the two above.\n",
    "#-----------------------------------------------------------------------------------------------------\n",
    "\n",
    "def root_mix(a,b,c):\n",
    "    return (2*c)/(-b - math.sqrt(b**2 - 4*a*c)), (-b - math.sqrt(b**2 - 4*a*c))/(2*a)\n",
    "\n",
    "print('root version 3:', root_mix(1e-3, b = 1e3, c = 1e-3))"
   ]
  },
  {
   "cell_type": "markdown",
   "metadata": {},
   "source": [
    "6\\. Write a program that implements the function $f(x)=x(x−1)$\n",
    "\n",
    "(a) Calculate the derivative of the function at the point $x = 1$ using the derivative definition:\n",
    "\n",
    "$$\n",
    "\\frac{{\\rm d}f}{{\\rm d}x} = \\lim_{\\delta\\to0} \\frac{f(x+\\delta)-f(x)}{\\delta}\n",
    "$$\n",
    "\n",
    "with $\\delta = 10^{−2}$. Calculate the true value of the same derivative analytically and compare with the answer your program gives. The two will not agree perfectly. Why not?\n",
    "\n",
    "(b) Repeat the calculation for $\\delta = 10^{−4}, 10^{−6}, 10^{−8}, 10^{−10}, 10^{−12}$ and $10^{−14}$. How does the accuracy scales with $\\delta$?"
   ]
  },
  {
   "cell_type": "code",
   "execution_count": 34,
   "metadata": {},
   "outputs": [
    {
     "name": "stdout",
     "output_type": "stream",
     "text": [
      "limit: 1.010000000000001 delta: 0.01\n",
      "limit: 1.0000999999998899 delta: 0.0001\n",
      "limit: 1.0000009999177333 delta: 1e-06\n",
      "limit: 1.0000000039225287 delta: 1e-08\n",
      "limit: 1.000000082840371 delta: 1e-10\n",
      "limit: 1.0000889005833413 delta: 1e-12\n",
      "limit: 0.9992007221626509 delta: 1e-14\n"
     ]
    }
   ],
   "source": [
    "def f(x):\n",
    "    return x*(x-1)\n",
    "\n",
    "#the right result of the derivative is 1\n",
    "i = 0\n",
    "while i<= 12:\n",
    "    d = 10**(-2-i)\n",
    "    l = (f(1+d)-f(1))/d\n",
    "    print('limit:' ,l, 'delta:', d)\n",
    "    i = i + 2\n",
    "\n",
    "#the accuracy improves until delta = 1e-8 and then get worse.  "
   ]
  },
  {
   "cell_type": "markdown",
   "metadata": {},
   "source": [
    "7\\. Consider the integral of the semicircle of radius 1:\n",
    "$$\n",
    "I=\\int_{-1}^{1} \\sqrt(1-x^2) {\\rm d}x\n",
    "$$\n",
    "which it's known to be $I=\\frac{\\pi}{2}=1.57079632679...$.\n",
    "Alternatively we can use the Riemann definition of the integral:\n",
    "$$\n",
    "I=\\lim_{N\\to\\infty} \\sum_{k=1}^{N} h y_k \n",
    "$$\n",
    "\n",
    "with $h=2/N$ the width of each of the $N$ slices the domain is divided into and where\n",
    "$y_k$ is the value of the function at the $k-$th slice.\n",
    "\n",
    "(a) Write a programe to compute the integral with $N=100$. How does the result compares to the true value?\n",
    "\n",
    "(b) How much can $N$ be increased if the computation needs to be run in less than a second? What is the gain in running it for 1 minute? \n"
   ]
  },
  {
   "cell_type": "code",
   "execution_count": 35,
   "metadata": {},
   "outputs": [
    {
     "name": "stdout",
     "output_type": "stream",
     "text": [
      "------------------------a----------------------------------\n",
      "value of the integral with 100 iterations: 1.3233000000000008\n",
      "percentage error: 15.756105522597908 %\n",
      "\n",
      "------------------------b---------------------------------------\n",
      "number of iterations: 1110000.0 \n",
      "value of the integral: 1.3333324324321278 \n",
      "time needed: 1.0011882781982422\n",
      "percentage error: 15.117421037474521 %\n",
      "\n",
      "------------------------------------------------------------------\n",
      "number of iterations: 70000000.0 \n",
      "value of the integral: 1.333333319048169 \n",
      "time needed: 63.392245054244995\n",
      "percentage error: 15.117364593744284 %\n",
      "\n"
     ]
    }
   ],
   "source": [
    "import time\n",
    "from math import pi\n",
    "'''\n",
    "import numpy as np\n",
    "import time \n",
    "k = np.arange(1,10000001)\n",
    "N = 10000000\n",
    "#print(k)\n",
    "I = (2/N)*sum(1 - (k/N)**2)\n",
    "print(I)#già la prima cifra decimale è sbagliata\n",
    "'''\n",
    "def I(N):\n",
    "    N = int(N)\n",
    "    I = 0.0\n",
    "    for k in range (1,N+1):\n",
    "        I = I + (2/N)*(1 - (k/N)**2)\n",
    "    return I\n",
    "\n",
    "print('------------------------a----------------------------------')\n",
    "print('value of the integral with 100 iterations:',I(100) )\n",
    "print('percentage error:', (((pi/2)-I(100))/(pi/2))*100,'%\\n')\n",
    "\n",
    "\n",
    "start_time = time.time()\n",
    "i = 111*1e4\n",
    "while (time.time() - start_time) <= 1:\n",
    "    start_time = time.time()\n",
    "    g = I(i)\n",
    "    i = i + 1e3\n",
    "\n",
    "print('------------------------b---------------------------------------')\n",
    "print('number of iterations:', i-1e3 , '\\nvalue of the integral:', g , '\\ntime needed:', time.time() - start_time)\n",
    "print('percentage error:', (((pi/2)-g)/(pi/2))*100,'%\\n')\n",
    "\n",
    "start_time = time.time()\n",
    "h = I(7 * 1e7)\n",
    "\n",
    "print('------------------------------------------------------------------')\n",
    "print('number of iterations:', 7*1e7 , '\\nvalue of the integral:', h , '\\ntime needed:', time.time() - start_time)\n",
    "print('percentage error:', (((pi/2)-h)/(pi/2))*100,'%\\n')\n",
    "\n",
    "#increasing the number of iterations the value of the integral get better very slowly. "
   ]
  },
  {
   "cell_type": "code",
   "execution_count": null,
   "metadata": {},
   "outputs": [],
   "source": []
  }
 ],
 "metadata": {
  "kernelspec": {
   "display_name": "Python 3",
   "language": "python",
   "name": "python3"
  },
  "language_info": {
   "codemirror_mode": {
    "name": "ipython",
    "version": 3
   },
   "file_extension": ".py",
   "mimetype": "text/x-python",
   "name": "python",
   "nbconvert_exporter": "python",
   "pygments_lexer": "ipython3",
   "version": "3.8.8"
  }
 },
 "nbformat": 4,
 "nbformat_minor": 2
}
