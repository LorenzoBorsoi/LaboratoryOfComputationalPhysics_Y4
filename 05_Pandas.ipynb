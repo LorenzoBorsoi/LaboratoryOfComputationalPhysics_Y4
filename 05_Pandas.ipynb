{
 "cells": [
  {
   "cell_type": "markdown",
   "metadata": {},
   "source": [
    "# Pandas\n",
    "\n",
    "The `numpy` module is excellent for numerical computations, but to handle missing data or arrays with mixed types takes\n",
    "more work. The `pandas` module is currently the most widely used tool for data manipulation, providing high-performance,\n",
    " easy-to-use data structures and advanced data analysis tools.\n",
    "\n",
    "In particular `pandas` features:\n",
    "\n",
    "* A fast and efficient \"DataFrame\" object for data manipulation with integrated indexing;\n",
    "* Tools for reading and writing data between in-memory data structures and different formats (CSV, Excel, SQL, HDF5);\n",
    "* Intelligent data alignment and integrated handling of missing data;\n",
    "* Intelligent label-based slicing, fancy indexing, and subsetting of large data sets;\n",
    "* Aggregating or transforming data with a powerful \"group-by\" engine; \n",
    "* High performance merging and joining of data sets;\n",
    "* Hierarchical axis indexing provides an intuitive way of working with high-dimensional data in a lower-dimensional\n",
    "data structure;\n",
    "* Time series-functionalities;\n",
    "* Highly optimized for performance, with critical code paths written in Cython or C.\n"
   ]
  },
  {
   "cell_type": "code",
   "execution_count": 74,
   "metadata": {},
   "outputs": [],
   "source": [
    "import pandas as pd\n",
    "import numpy as np"
   ]
  },
  {
   "cell_type": "markdown",
   "metadata": {},
   "source": [
    "## Series\n",
    "\n",
    "Series are completely equivalent to 1D array but with axis labels and the possibility to store heterogeneous elements.\n",
    "Of paramount importance are the time-series, used to define time evolutions of a phenomenon.\n"
   ]
  },
  {
   "cell_type": "code",
   "execution_count": 75,
   "metadata": {},
   "outputs": [
    {
     "name": "stdout",
     "output_type": "stream",
     "text": [
      "xs: a    0.0\n",
      "b    0.5\n",
      "c    1.0\n",
      "d    1.5\n",
      "e    2.0\n",
      "f    2.5\n",
      "g    3.0\n",
      "h    3.5\n",
      "i    4.0\n",
      "j    4.5\n",
      "dtype: float64 \n",
      "\n",
      "xs indexes: Index(['a', 'b', 'c', 'd', 'e', 'f', 'g', 'h', 'i', 'j'], dtype='object') \n",
      "\n",
      "xs values: [0.  0.5 1.  1.5 2.  2.5 3.  3.5 4.  4.5] <class 'numpy.ndarray'> \n",
      "\n",
      "2.5 2.5 3.5 \n",
      "\n",
      "d    1.5\n",
      "f    2.5\n",
      "h    3.5\n",
      "dtype: float64 \n",
      "\n",
      "<class 'pandas.core.series.Series'> \n",
      "\n"
     ]
    }
   ],
   "source": [
    "from string import ascii_lowercase as letters\n",
    "\n",
    "# Creating a series, accessing indexes, values and values by their index \n",
    "xs = pd.Series(np.arange(10) * 0.5, index=tuple(letters[:10]))\n",
    "print(\"xs:\", xs, '\\n')\n",
    "print(\"xs indexes:\", xs.index, '\\n')\n",
    "# Values of the Series are actually a numpy array\n",
    "print(\"xs values:\", xs.values, type(xs.values), '\\n')\n",
    "print(xs['f'], xs.f, xs.h, '\\n')\n",
    "print(xs[['d', 'f', 'h']], '\\n')\n",
    "print(type(xs[['d', 'f', 'h']]), '\\n')"
   ]
  },
  {
   "cell_type": "code",
   "execution_count": 76,
   "metadata": {},
   "outputs": [
    {
     "name": "stdout",
     "output_type": "stream",
     "text": [
      "a    0.0\n",
      "b    0.5\n",
      "c    1.0\n",
      "dtype: float64 \n",
      "\n",
      "h    3.5\n",
      "i    4.0\n",
      "j    4.5\n",
      "dtype: float64 \n",
      "\n",
      "a    0.0\n",
      "d    1.5\n",
      "g    3.0\n",
      "j    4.5\n",
      "dtype: float64 \n",
      "\n",
      "h    3.5\n",
      "i    4.0\n",
      "j    4.5\n",
      "dtype: float64 \n",
      "\n",
      "a     1.000000\n",
      "b     1.648721\n",
      "c     2.718282\n",
      "d     4.481689\n",
      "e     7.389056\n",
      "f    12.182494\n",
      "g    20.085537\n",
      "h    33.115452\n",
      "i    54.598150\n",
      "j    90.017131\n",
      "dtype: float64 \n",
      "\n",
      "2.25 1.4361406616345072 \n",
      "\n"
     ]
    }
   ],
   "source": [
    "# Extracting elements and operations: same as numpy array\n",
    "print(xs[:3], '\\n')\n",
    "print(xs[7:], '\\n')\n",
    "print(xs[::3], '\\n')\n",
    "print(xs[xs > 3], '\\n')\n",
    "print(np.exp(xs), '\\n')\n",
    "print(np.mean(xs), np.std(xs), '\\n')"
   ]
  },
  {
   "cell_type": "code",
   "execution_count": 77,
   "metadata": {},
   "outputs": [
    {
     "data": {
      "text/plain": "b         1\na       cat\nc    [2, 3]\ndtype: object"
     },
     "execution_count": 77,
     "metadata": {},
     "output_type": "execute_result"
    }
   ],
   "source": [
    "# Series can be created from python dictionary too.\n",
    "# Not that the elements can be whatever!\n",
    "d = {'b': 1, 'a': 'cat', 'c': [2, 3]}\n",
    "pd.Series(d)\n",
    "\n"
   ]
  },
  {
   "cell_type": "markdown",
   "metadata": {},
   "source": [
    "A key difference between Series and ndarray is that operations between Series automatically align the data based on\n",
    "label. Thus, you can write computations without considering whether the Series involved have the same labels."
   ]
  },
  {
   "cell_type": "code",
   "execution_count": 78,
   "metadata": {},
   "outputs": [
    {
     "name": "stdout",
     "output_type": "stream",
     "text": [
      "a    1.473966\n",
      "b    0.192361\n",
      "c   -0.760576\n",
      "d    0.508957\n",
      "e   -0.340345\n",
      "dtype: float64\n",
      "a         NaN\n",
      "b    0.384722\n",
      "c   -1.521153\n",
      "d    1.017914\n",
      "e         NaN\n",
      "dtype: float64\n"
     ]
    }
   ],
   "source": [
    "s = pd.Series(np.random.randn(5), index=tuple(letters[:5]))\n",
    "print(s)\n",
    "s = s[1:] + s[:-1]\n",
    "print(s)"
   ]
  },
  {
   "cell_type": "markdown",
   "metadata": {},
   "source": [
    "### Time series\n",
    "\n",
    "Time series are very often used to profile the behaviour of a quantity as a function of time. Pandas have a special\n",
    "index for that, `DatetimeIndex`, that can be created e.g. with the function `pd.data_range()`"
   ]
  },
  {
   "cell_type": "code",
   "execution_count": 79,
   "metadata": {},
   "outputs": [
    {
     "name": "stdout",
     "output_type": "stream",
     "text": [
      "2021-11-22\n",
      "2021-11-22 12:45:10.000015\n",
      "22/11/2021 12:45:00\n",
      "DatetimeIndex(['2021-11-22 12:45:00', '2021-11-23 12:45:00',\n",
      "               '2021-11-24 12:45:00', '2021-11-25 12:45:00',\n",
      "               '2021-11-26 12:45:00', '2021-11-27 12:45:00',\n",
      "               '2021-11-28 12:45:00'],\n",
      "              dtype='datetime64[ns]', freq='D')\n",
      "DatetimeIndex(['2021-11-22 12:45:00', '2021-11-22 12:45:01',\n",
      "               '2021-11-22 12:45:02', '2021-11-22 12:45:03',\n",
      "               '2021-11-22 12:45:04', '2021-11-22 12:45:05',\n",
      "               '2021-11-22 12:45:06', '2021-11-22 12:45:07',\n",
      "               '2021-11-22 12:45:08', '2021-11-22 12:45:09',\n",
      "               ...\n",
      "               '2021-11-22 13:44:50', '2021-11-22 13:44:51',\n",
      "               '2021-11-22 13:44:52', '2021-11-22 13:44:53',\n",
      "               '2021-11-22 13:44:54', '2021-11-22 13:44:55',\n",
      "               '2021-11-22 13:44:56', '2021-11-22 13:44:57',\n",
      "               '2021-11-22 13:44:58', '2021-11-22 13:44:59'],\n",
      "              dtype='datetime64[ns]', length=3600, freq='S')\n"
     ]
    }
   ],
   "source": [
    "# to define a date, the datetime module is very useful\n",
    "import datetime as dt\n",
    "\n",
    "date = dt.date.today()\n",
    "print(date)\n",
    "\n",
    "date = dt.datetime(2021, 11, 22, 12, 45, 10, 15)\n",
    "print(date)\n",
    "\n",
    "# otherwise, several notations are interpreted too\n",
    "date = 'Nov 22 2021'\n",
    "# or alternatively\n",
    "date = '22/11/2021 12:45:00'\n",
    "print(date)\n",
    "\n",
    "days = pd.date_range(date, periods=7, freq='D')\n",
    "print(days)\n",
    "\n",
    "seconds = pd.date_range(date, periods=3600, freq='s')\n",
    "print(seconds)\n"
   ]
  },
  {
   "cell_type": "markdown",
   "metadata": {},
   "source": [
    "To learn more about the frequency strings, please see this\n",
    "[link](http://pandas.pydata.org/pandas-docs/stable/timeseries.html#offset-aliases)\n",
    "\n",
    "\n",
    "Timestamped data is the most basic type of time series data that associates values with points in time. For pandas\n",
    "objects it means using the points in time.\n",
    "\n",
    "functions like `pd.to_datetime` can be used, for instance, when reading information as string from a dataset.\n",
    "\n",
    "Timestamp is the pandas equivalent of python’s Datetime and is interchangeable with it in most cases. "
   ]
  },
  {
   "cell_type": "code",
   "execution_count": 80,
   "metadata": {},
   "outputs": [
    {
     "name": "stdout",
     "output_type": "stream",
     "text": [
      "1604880000000000000\n",
      "<class 'pandas._libs.tslibs.timestamps.Timestamp'>\n",
      "1289520000000000000\n",
      "2010-11-12 00:00:00\n",
      "1289520000000000000\n"
     ]
    }
   ],
   "source": [
    "tstamp = pd.Timestamp(dt.datetime(2020, 11, 9))\n",
    "\n",
    "# internally it counts the nanoseconds from January 1st 19\n",
    "#tstamp = pd.Timestamp(dt.datetime(1970, 1, 1, 0, 0, 0, 1))\n",
    "print(tstamp.value)\n",
    "\n",
    "# when creating a timestamp the format can be explicitly passed\n",
    "ts = pd.to_datetime('2010/11/12', format='%Y/%m/%d')\n",
    "print(type(ts))\n",
    "print(ts.value)\n",
    "ts = pd.to_datetime('12-11-2010 00:00', format='%d-%m-%Y %H:%M')\n",
    "print(ts)\n",
    "print(ts.value)\n",
    "\n"
   ]
  },
  {
   "cell_type": "markdown",
   "metadata": {},
   "source": [
    "A standard series can be created and (range of) elements can be used as indexes"
   ]
  },
  {
   "cell_type": "code",
   "execution_count": 81,
   "metadata": {
    "scrolled": true
   },
   "outputs": [
    {
     "name": "stdout",
     "output_type": "stream",
     "text": [
      "2021-11-22 12:45:00     8.161971\n",
      "2021-11-23 12:45:00     9.365235\n",
      "2021-11-24 12:45:00    11.373849\n",
      "2021-11-25 12:45:00     8.185519\n",
      "Freq: D, dtype: float64 \n",
      "\n",
      "2021-11-22 12:45:00    8.161971\n",
      "2021-11-23 12:45:00    9.365235\n",
      "Freq: D, dtype: float64 \n",
      "\n"
     ]
    }
   ],
   "source": [
    "tseries = pd.Series(np.random.normal(10, 1, len(days)), index=days)\n",
    "# Extracting elements\n",
    "print(tseries[0:4], '\\n')\n",
    "print(tseries['2021-11-22':'2021-11-23'], '\\n')  # Note - includes end time\n"
   ]
  },
  {
   "cell_type": "markdown",
   "metadata": {},
   "source": [
    "`pd.to_datetime` can also be used to create a `DatetimeIndex`:"
   ]
  },
  {
   "cell_type": "code",
   "execution_count": 82,
   "metadata": {},
   "outputs": [
    {
     "data": {
      "text/plain": "DatetimeIndex(['1980-02-04', '1980-02-05', '1980-02-06', '1980-02-07'], dtype='datetime64[ns]', freq=None)"
     },
     "execution_count": 82,
     "metadata": {},
     "output_type": "execute_result"
    }
   ],
   "source": [
    "pd.to_datetime([1, 2, 3, 4], unit='D', origin=pd.Timestamp('1980-02-03'))"
   ]
  },
  {
   "cell_type": "markdown",
   "metadata": {},
   "source": [
    "## DataFrame\n",
    "\n",
    "A pandas DataFrame is like a simple tabular spreadsheet. For future reference (or for people already familiar with R),\n",
    "a pandas DataFrame is very similar to the R DataFrame.\n",
    "\n",
    "Each column in a DataFrame is a Series object.\n",
    "\n",
    "The element can be whatever, missing data are dealt with too (as NaN)"
   ]
  },
  {
   "cell_type": "markdown",
   "metadata": {},
   "source": [
    "### DataFrame creation\n",
    "\n",
    "A DataFrame can be created implicitly, with, e.g., a DatatimeIndex object as index:"
   ]
  },
  {
   "cell_type": "code",
   "execution_count": 83,
   "metadata": {},
   "outputs": [
    {
     "data": {
      "text/plain": "                      $T$ (K)  $P$ (mPa)  $V$ (dL)  $\\alpha$\n2021-11-22 12:45:00 -0.111842   0.230157  0.373076 -1.166709\n2021-11-22 13:45:00 -1.600364  -0.551549  1.075172  1.096175\n2021-11-22 14:45:00  0.573416  -1.016389 -1.032650  0.621485\n2021-11-22 15:45:00 -0.677026   0.980877  1.569705  0.379586\n2021-11-22 16:45:00 -0.515856  -0.745153  0.770311 -1.172578\n2021-11-22 17:45:00  1.379727   0.375625  0.154702  0.086640\n2021-11-22 18:45:00  1.206895   0.784317 -0.236255 -0.559726\n2021-11-22 19:45:00 -0.242324  -0.874111  0.206466  2.436003\n2021-11-22 20:45:00  1.374621  -1.241194  0.249091 -0.583731\n2021-11-22 21:45:00 -1.016376  -1.477057  1.255866  1.635944",
      "text/html": "<div>\n<style scoped>\n    .dataframe tbody tr th:only-of-type {\n        vertical-align: middle;\n    }\n\n    .dataframe tbody tr th {\n        vertical-align: top;\n    }\n\n    .dataframe thead th {\n        text-align: right;\n    }\n</style>\n<table border=\"1\" class=\"dataframe\">\n  <thead>\n    <tr style=\"text-align: right;\">\n      <th></th>\n      <th>$T$ (K)</th>\n      <th>$P$ (mPa)</th>\n      <th>$V$ (dL)</th>\n      <th>$\\alpha$</th>\n    </tr>\n  </thead>\n  <tbody>\n    <tr>\n      <th>2021-11-22 12:45:00</th>\n      <td>-0.111842</td>\n      <td>0.230157</td>\n      <td>0.373076</td>\n      <td>-1.166709</td>\n    </tr>\n    <tr>\n      <th>2021-11-22 13:45:00</th>\n      <td>-1.600364</td>\n      <td>-0.551549</td>\n      <td>1.075172</td>\n      <td>1.096175</td>\n    </tr>\n    <tr>\n      <th>2021-11-22 14:45:00</th>\n      <td>0.573416</td>\n      <td>-1.016389</td>\n      <td>-1.032650</td>\n      <td>0.621485</td>\n    </tr>\n    <tr>\n      <th>2021-11-22 15:45:00</th>\n      <td>-0.677026</td>\n      <td>0.980877</td>\n      <td>1.569705</td>\n      <td>0.379586</td>\n    </tr>\n    <tr>\n      <th>2021-11-22 16:45:00</th>\n      <td>-0.515856</td>\n      <td>-0.745153</td>\n      <td>0.770311</td>\n      <td>-1.172578</td>\n    </tr>\n    <tr>\n      <th>2021-11-22 17:45:00</th>\n      <td>1.379727</td>\n      <td>0.375625</td>\n      <td>0.154702</td>\n      <td>0.086640</td>\n    </tr>\n    <tr>\n      <th>2021-11-22 18:45:00</th>\n      <td>1.206895</td>\n      <td>0.784317</td>\n      <td>-0.236255</td>\n      <td>-0.559726</td>\n    </tr>\n    <tr>\n      <th>2021-11-22 19:45:00</th>\n      <td>-0.242324</td>\n      <td>-0.874111</td>\n      <td>0.206466</td>\n      <td>2.436003</td>\n    </tr>\n    <tr>\n      <th>2021-11-22 20:45:00</th>\n      <td>1.374621</td>\n      <td>-1.241194</td>\n      <td>0.249091</td>\n      <td>-0.583731</td>\n    </tr>\n    <tr>\n      <th>2021-11-22 21:45:00</th>\n      <td>-1.016376</td>\n      <td>-1.477057</td>\n      <td>1.255866</td>\n      <td>1.635944</td>\n    </tr>\n  </tbody>\n</table>\n</div>"
     },
     "execution_count": 83,
     "metadata": {},
     "output_type": "execute_result"
    }
   ],
   "source": [
    "entries = 10\n",
    "dates = pd.date_range('11/22/2021 12:45:00', freq='h', periods=entries)\n",
    "df = pd.DataFrame(np.random.randn(entries, 4), index=dates, columns=['$T$ (K)', '$P$ (mPa)', '$V$ (dL)', '$\\\\alpha$'])\n",
    "df\n"
   ]
  },
  {
   "cell_type": "markdown",
   "metadata": {},
   "source": [
    "or by means of a dictionary:\n"
   ]
  },
  {
   "cell_type": "code",
   "execution_count": 84,
   "metadata": {},
   "outputs": [
    {
     "data": {
      "text/plain": "     A                             B    C   D      E\n0  1.0 1970-01-01 00:00:00.020130102  1.0   7   test\n1  1.0 1970-01-01 00:00:00.020130102  1.0   8  train\n2  1.0 1970-01-01 00:00:00.020130102  1.0   9   test\n3  1.0 1970-01-01 00:00:00.020130102  1.0  10  train",
      "text/html": "<div>\n<style scoped>\n    .dataframe tbody tr th:only-of-type {\n        vertical-align: middle;\n    }\n\n    .dataframe tbody tr th {\n        vertical-align: top;\n    }\n\n    .dataframe thead th {\n        text-align: right;\n    }\n</style>\n<table border=\"1\" class=\"dataframe\">\n  <thead>\n    <tr style=\"text-align: right;\">\n      <th></th>\n      <th>A</th>\n      <th>B</th>\n      <th>C</th>\n      <th>D</th>\n      <th>E</th>\n    </tr>\n  </thead>\n  <tbody>\n    <tr>\n      <th>0</th>\n      <td>1.0</td>\n      <td>1970-01-01 00:00:00.020130102</td>\n      <td>1.0</td>\n      <td>7</td>\n      <td>test</td>\n    </tr>\n    <tr>\n      <th>1</th>\n      <td>1.0</td>\n      <td>1970-01-01 00:00:00.020130102</td>\n      <td>1.0</td>\n      <td>8</td>\n      <td>train</td>\n    </tr>\n    <tr>\n      <th>2</th>\n      <td>1.0</td>\n      <td>1970-01-01 00:00:00.020130102</td>\n      <td>1.0</td>\n      <td>9</td>\n      <td>test</td>\n    </tr>\n    <tr>\n      <th>3</th>\n      <td>1.0</td>\n      <td>1970-01-01 00:00:00.020130102</td>\n      <td>1.0</td>\n      <td>10</td>\n      <td>train</td>\n    </tr>\n  </tbody>\n</table>\n</div>"
     },
     "execution_count": 84,
     "metadata": {},
     "output_type": "execute_result"
    }
   ],
   "source": [
    "df2 = pd.DataFrame(\n",
    "    {'A': 1.,\n",
    "     'B': pd.Timestamp(20130102),\n",
    "     'C': pd.Series(1, index=range(4), dtype='float32'),\n",
    "     'D': np.arange(7, 11),\n",
    "     'E': pd.Categorical([\"test\", \"train\", \"test\", \"train\"]),\n",
    "     }\n",
    ")\n",
    "df2\n",
    "\n",
    "# check what happens if D and E had different lenghts "
   ]
  },
  {
   "cell_type": "markdown",
   "metadata": {},
   "source": [
    "### Viewing Data"
   ]
  },
  {
   "cell_type": "code",
   "execution_count": 85,
   "metadata": {},
   "outputs": [
    {
     "data": {
      "text/plain": "                      $T$ (K)  $P$ (mPa)  $V$ (dL)  $\\alpha$\n2021-11-22 12:45:00 -0.111842   0.230157  0.373076 -1.166709\n2021-11-22 13:45:00 -1.600364  -0.551549  1.075172  1.096175",
      "text/html": "<div>\n<style scoped>\n    .dataframe tbody tr th:only-of-type {\n        vertical-align: middle;\n    }\n\n    .dataframe tbody tr th {\n        vertical-align: top;\n    }\n\n    .dataframe thead th {\n        text-align: right;\n    }\n</style>\n<table border=\"1\" class=\"dataframe\">\n  <thead>\n    <tr style=\"text-align: right;\">\n      <th></th>\n      <th>$T$ (K)</th>\n      <th>$P$ (mPa)</th>\n      <th>$V$ (dL)</th>\n      <th>$\\alpha$</th>\n    </tr>\n  </thead>\n  <tbody>\n    <tr>\n      <th>2021-11-22 12:45:00</th>\n      <td>-0.111842</td>\n      <td>0.230157</td>\n      <td>0.373076</td>\n      <td>-1.166709</td>\n    </tr>\n    <tr>\n      <th>2021-11-22 13:45:00</th>\n      <td>-1.600364</td>\n      <td>-0.551549</td>\n      <td>1.075172</td>\n      <td>1.096175</td>\n    </tr>\n  </tbody>\n</table>\n</div>"
     },
     "execution_count": 85,
     "metadata": {},
     "output_type": "execute_result"
    }
   ],
   "source": [
    "df.head(2)"
   ]
  },
  {
   "cell_type": "code",
   "execution_count": 86,
   "metadata": {},
   "outputs": [
    {
     "data": {
      "text/plain": "                      $T$ (K)  $P$ (mPa)  $V$ (dL)  $\\alpha$\n2021-11-22 18:45:00  1.206895   0.784317 -0.236255 -0.559726\n2021-11-22 19:45:00 -0.242324  -0.874111  0.206466  2.436003\n2021-11-22 20:45:00  1.374621  -1.241194  0.249091 -0.583731\n2021-11-22 21:45:00 -1.016376  -1.477057  1.255866  1.635944",
      "text/html": "<div>\n<style scoped>\n    .dataframe tbody tr th:only-of-type {\n        vertical-align: middle;\n    }\n\n    .dataframe tbody tr th {\n        vertical-align: top;\n    }\n\n    .dataframe thead th {\n        text-align: right;\n    }\n</style>\n<table border=\"1\" class=\"dataframe\">\n  <thead>\n    <tr style=\"text-align: right;\">\n      <th></th>\n      <th>$T$ (K)</th>\n      <th>$P$ (mPa)</th>\n      <th>$V$ (dL)</th>\n      <th>$\\alpha$</th>\n    </tr>\n  </thead>\n  <tbody>\n    <tr>\n      <th>2021-11-22 18:45:00</th>\n      <td>1.206895</td>\n      <td>0.784317</td>\n      <td>-0.236255</td>\n      <td>-0.559726</td>\n    </tr>\n    <tr>\n      <th>2021-11-22 19:45:00</th>\n      <td>-0.242324</td>\n      <td>-0.874111</td>\n      <td>0.206466</td>\n      <td>2.436003</td>\n    </tr>\n    <tr>\n      <th>2021-11-22 20:45:00</th>\n      <td>1.374621</td>\n      <td>-1.241194</td>\n      <td>0.249091</td>\n      <td>-0.583731</td>\n    </tr>\n    <tr>\n      <th>2021-11-22 21:45:00</th>\n      <td>-1.016376</td>\n      <td>-1.477057</td>\n      <td>1.255866</td>\n      <td>1.635944</td>\n    </tr>\n  </tbody>\n</table>\n</div>"
     },
     "execution_count": 86,
     "metadata": {},
     "output_type": "execute_result"
    }
   ],
   "source": [
    "df.tail(4)"
   ]
  },
  {
   "cell_type": "code",
   "execution_count": 87,
   "metadata": {},
   "outputs": [
    {
     "data": {
      "text/plain": "DatetimeIndex(['2021-11-22 12:45:00', '2021-11-22 13:45:00',\n               '2021-11-22 14:45:00', '2021-11-22 15:45:00',\n               '2021-11-22 16:45:00', '2021-11-22 17:45:00',\n               '2021-11-22 18:45:00', '2021-11-22 19:45:00',\n               '2021-11-22 20:45:00', '2021-11-22 21:45:00'],\n              dtype='datetime64[ns]', freq='H')"
     },
     "execution_count": 87,
     "metadata": {},
     "output_type": "execute_result"
    }
   ],
   "source": [
    "df.index"
   ]
  },
  {
   "cell_type": "code",
   "execution_count": 88,
   "metadata": {},
   "outputs": [
    {
     "data": {
      "text/plain": "Index(['$T$ (K)', '$P$ (mPa)', '$V$ (dL)', '$\\alpha$'], dtype='object')"
     },
     "execution_count": 88,
     "metadata": {},
     "output_type": "execute_result"
    }
   ],
   "source": [
    "df.columns"
   ]
  },
  {
   "cell_type": "code",
   "execution_count": 89,
   "metadata": {},
   "outputs": [
    {
     "data": {
      "text/plain": "array([[-0.11184193,  0.23015666,  0.37307564, -1.16670871],\n       [-1.60036395, -0.55154938,  1.07517157,  1.09617474],\n       [ 0.57341556, -1.01638855, -1.03264974,  0.62148539],\n       [-0.67702561,  0.98087685,  1.56970515,  0.37958553],\n       [-0.51585592, -0.74515292,  0.77031143, -1.17257757],\n       [ 1.37972745,  0.37562505,  0.15470239,  0.08664037],\n       [ 1.20689489,  0.78431711, -0.23625495, -0.55972642],\n       [-0.24232434, -0.87411123,  0.20646557,  2.43600309],\n       [ 1.37462127, -1.24119432,  0.24909089, -0.58373056],\n       [-1.01637563, -1.47705698,  1.25586584,  1.6359444 ]])"
     },
     "execution_count": 89,
     "metadata": {},
     "output_type": "execute_result"
    }
   ],
   "source": [
    "df.values"
   ]
  },
  {
   "cell_type": "code",
   "execution_count": 90,
   "metadata": {},
   "outputs": [
    {
     "data": {
      "text/plain": "         $T$ (K)  $P$ (mPa)   $V$ (dL)   $\\alpha$\ncount  10.000000  10.000000  10.000000  10.000000\nmean    0.037087  -0.353448   0.438548   0.277309\nstd     1.051706   0.875654   0.764292   1.200511\nmin    -1.600364  -1.477057  -1.032650  -1.172578\n25%    -0.636733  -0.980819   0.167643  -0.577730\n50%    -0.177083  -0.648351   0.311083   0.233113\n75%     1.048525   0.339258   0.998957   0.977502\nmax     1.379727   0.980877   1.569705   2.436003",
      "text/html": "<div>\n<style scoped>\n    .dataframe tbody tr th:only-of-type {\n        vertical-align: middle;\n    }\n\n    .dataframe tbody tr th {\n        vertical-align: top;\n    }\n\n    .dataframe thead th {\n        text-align: right;\n    }\n</style>\n<table border=\"1\" class=\"dataframe\">\n  <thead>\n    <tr style=\"text-align: right;\">\n      <th></th>\n      <th>$T$ (K)</th>\n      <th>$P$ (mPa)</th>\n      <th>$V$ (dL)</th>\n      <th>$\\alpha$</th>\n    </tr>\n  </thead>\n  <tbody>\n    <tr>\n      <th>count</th>\n      <td>10.000000</td>\n      <td>10.000000</td>\n      <td>10.000000</td>\n      <td>10.000000</td>\n    </tr>\n    <tr>\n      <th>mean</th>\n      <td>0.037087</td>\n      <td>-0.353448</td>\n      <td>0.438548</td>\n      <td>0.277309</td>\n    </tr>\n    <tr>\n      <th>std</th>\n      <td>1.051706</td>\n      <td>0.875654</td>\n      <td>0.764292</td>\n      <td>1.200511</td>\n    </tr>\n    <tr>\n      <th>min</th>\n      <td>-1.600364</td>\n      <td>-1.477057</td>\n      <td>-1.032650</td>\n      <td>-1.172578</td>\n    </tr>\n    <tr>\n      <th>25%</th>\n      <td>-0.636733</td>\n      <td>-0.980819</td>\n      <td>0.167643</td>\n      <td>-0.577730</td>\n    </tr>\n    <tr>\n      <th>50%</th>\n      <td>-0.177083</td>\n      <td>-0.648351</td>\n      <td>0.311083</td>\n      <td>0.233113</td>\n    </tr>\n    <tr>\n      <th>75%</th>\n      <td>1.048525</td>\n      <td>0.339258</td>\n      <td>0.998957</td>\n      <td>0.977502</td>\n    </tr>\n    <tr>\n      <th>max</th>\n      <td>1.379727</td>\n      <td>0.980877</td>\n      <td>1.569705</td>\n      <td>2.436003</td>\n    </tr>\n  </tbody>\n</table>\n</div>"
     },
     "execution_count": 90,
     "metadata": {},
     "output_type": "execute_result"
    }
   ],
   "source": [
    "df.describe()"
   ]
  },
  {
   "cell_type": "code",
   "execution_count": 91,
   "metadata": {},
   "outputs": [
    {
     "data": {
      "text/plain": "           2021-11-22 12:45:00  2021-11-22 13:45:00  2021-11-22 14:45:00  \\\n$T$ (K)              -0.111842            -1.600364             0.573416   \n$P$ (mPa)             0.230157            -0.551549            -1.016389   \n$V$ (dL)              0.373076             1.075172            -1.032650   \n$\\alpha$             -1.166709             1.096175             0.621485   \n\n           2021-11-22 15:45:00  2021-11-22 16:45:00  2021-11-22 17:45:00  \\\n$T$ (K)              -0.677026            -0.515856             1.379727   \n$P$ (mPa)             0.980877            -0.745153             0.375625   \n$V$ (dL)              1.569705             0.770311             0.154702   \n$\\alpha$              0.379586            -1.172578             0.086640   \n\n           2021-11-22 18:45:00  2021-11-22 19:45:00  2021-11-22 20:45:00  \\\n$T$ (K)               1.206895            -0.242324             1.374621   \n$P$ (mPa)             0.784317            -0.874111            -1.241194   \n$V$ (dL)             -0.236255             0.206466             0.249091   \n$\\alpha$             -0.559726             2.436003            -0.583731   \n\n           2021-11-22 21:45:00  \n$T$ (K)              -1.016376  \n$P$ (mPa)            -1.477057  \n$V$ (dL)              1.255866  \n$\\alpha$              1.635944  ",
      "text/html": "<div>\n<style scoped>\n    .dataframe tbody tr th:only-of-type {\n        vertical-align: middle;\n    }\n\n    .dataframe tbody tr th {\n        vertical-align: top;\n    }\n\n    .dataframe thead th {\n        text-align: right;\n    }\n</style>\n<table border=\"1\" class=\"dataframe\">\n  <thead>\n    <tr style=\"text-align: right;\">\n      <th></th>\n      <th>2021-11-22 12:45:00</th>\n      <th>2021-11-22 13:45:00</th>\n      <th>2021-11-22 14:45:00</th>\n      <th>2021-11-22 15:45:00</th>\n      <th>2021-11-22 16:45:00</th>\n      <th>2021-11-22 17:45:00</th>\n      <th>2021-11-22 18:45:00</th>\n      <th>2021-11-22 19:45:00</th>\n      <th>2021-11-22 20:45:00</th>\n      <th>2021-11-22 21:45:00</th>\n    </tr>\n  </thead>\n  <tbody>\n    <tr>\n      <th>$T$ (K)</th>\n      <td>-0.111842</td>\n      <td>-1.600364</td>\n      <td>0.573416</td>\n      <td>-0.677026</td>\n      <td>-0.515856</td>\n      <td>1.379727</td>\n      <td>1.206895</td>\n      <td>-0.242324</td>\n      <td>1.374621</td>\n      <td>-1.016376</td>\n    </tr>\n    <tr>\n      <th>$P$ (mPa)</th>\n      <td>0.230157</td>\n      <td>-0.551549</td>\n      <td>-1.016389</td>\n      <td>0.980877</td>\n      <td>-0.745153</td>\n      <td>0.375625</td>\n      <td>0.784317</td>\n      <td>-0.874111</td>\n      <td>-1.241194</td>\n      <td>-1.477057</td>\n    </tr>\n    <tr>\n      <th>$V$ (dL)</th>\n      <td>0.373076</td>\n      <td>1.075172</td>\n      <td>-1.032650</td>\n      <td>1.569705</td>\n      <td>0.770311</td>\n      <td>0.154702</td>\n      <td>-0.236255</td>\n      <td>0.206466</td>\n      <td>0.249091</td>\n      <td>1.255866</td>\n    </tr>\n    <tr>\n      <th>$\\alpha$</th>\n      <td>-1.166709</td>\n      <td>1.096175</td>\n      <td>0.621485</td>\n      <td>0.379586</td>\n      <td>-1.172578</td>\n      <td>0.086640</td>\n      <td>-0.559726</td>\n      <td>2.436003</td>\n      <td>-0.583731</td>\n      <td>1.635944</td>\n    </tr>\n  </tbody>\n</table>\n</div>"
     },
     "execution_count": 91,
     "metadata": {},
     "output_type": "execute_result"
    }
   ],
   "source": [
    "df.T"
   ]
  },
  {
   "cell_type": "code",
   "execution_count": 92,
   "metadata": {},
   "outputs": [
    {
     "data": {
      "text/plain": "                      $T$ (K)  $P$ (mPa)  $V$ (dL)  $\\alpha$\n2021-11-22 12:45:00 -0.111842   0.230157  0.373076 -1.166709\n2021-11-22 13:45:00 -1.600364  -0.551549  1.075172  1.096175\n2021-11-22 14:45:00  0.573416  -1.016389 -1.032650  0.621485\n2021-11-22 15:45:00 -0.677026   0.980877  1.569705  0.379586\n2021-11-22 16:45:00 -0.515856  -0.745153  0.770311 -1.172578\n2021-11-22 17:45:00  1.379727   0.375625  0.154702  0.086640\n2021-11-22 18:45:00  1.206895   0.784317 -0.236255 -0.559726\n2021-11-22 19:45:00 -0.242324  -0.874111  0.206466  2.436003\n2021-11-22 20:45:00  1.374621  -1.241194  0.249091 -0.583731\n2021-11-22 21:45:00 -1.016376  -1.477057  1.255866  1.635944",
      "text/html": "<div>\n<style scoped>\n    .dataframe tbody tr th:only-of-type {\n        vertical-align: middle;\n    }\n\n    .dataframe tbody tr th {\n        vertical-align: top;\n    }\n\n    .dataframe thead th {\n        text-align: right;\n    }\n</style>\n<table border=\"1\" class=\"dataframe\">\n  <thead>\n    <tr style=\"text-align: right;\">\n      <th></th>\n      <th>$T$ (K)</th>\n      <th>$P$ (mPa)</th>\n      <th>$V$ (dL)</th>\n      <th>$\\alpha$</th>\n    </tr>\n  </thead>\n  <tbody>\n    <tr>\n      <th>2021-11-22 12:45:00</th>\n      <td>-0.111842</td>\n      <td>0.230157</td>\n      <td>0.373076</td>\n      <td>-1.166709</td>\n    </tr>\n    <tr>\n      <th>2021-11-22 13:45:00</th>\n      <td>-1.600364</td>\n      <td>-0.551549</td>\n      <td>1.075172</td>\n      <td>1.096175</td>\n    </tr>\n    <tr>\n      <th>2021-11-22 14:45:00</th>\n      <td>0.573416</td>\n      <td>-1.016389</td>\n      <td>-1.032650</td>\n      <td>0.621485</td>\n    </tr>\n    <tr>\n      <th>2021-11-22 15:45:00</th>\n      <td>-0.677026</td>\n      <td>0.980877</td>\n      <td>1.569705</td>\n      <td>0.379586</td>\n    </tr>\n    <tr>\n      <th>2021-11-22 16:45:00</th>\n      <td>-0.515856</td>\n      <td>-0.745153</td>\n      <td>0.770311</td>\n      <td>-1.172578</td>\n    </tr>\n    <tr>\n      <th>2021-11-22 17:45:00</th>\n      <td>1.379727</td>\n      <td>0.375625</td>\n      <td>0.154702</td>\n      <td>0.086640</td>\n    </tr>\n    <tr>\n      <th>2021-11-22 18:45:00</th>\n      <td>1.206895</td>\n      <td>0.784317</td>\n      <td>-0.236255</td>\n      <td>-0.559726</td>\n    </tr>\n    <tr>\n      <th>2021-11-22 19:45:00</th>\n      <td>-0.242324</td>\n      <td>-0.874111</td>\n      <td>0.206466</td>\n      <td>2.436003</td>\n    </tr>\n    <tr>\n      <th>2021-11-22 20:45:00</th>\n      <td>1.374621</td>\n      <td>-1.241194</td>\n      <td>0.249091</td>\n      <td>-0.583731</td>\n    </tr>\n    <tr>\n      <th>2021-11-22 21:45:00</th>\n      <td>-1.016376</td>\n      <td>-1.477057</td>\n      <td>1.255866</td>\n      <td>1.635944</td>\n    </tr>\n  </tbody>\n</table>\n</div>"
     },
     "execution_count": 92,
     "metadata": {},
     "output_type": "execute_result"
    }
   ],
   "source": [
    "df.sort_index(axis=0, ascending=True)"
   ]
  },
  {
   "cell_type": "code",
   "execution_count": 93,
   "metadata": {},
   "outputs": [
    {
     "ename": "KeyError",
     "evalue": "'C'",
     "output_type": "error",
     "traceback": [
      "\u001B[0;31m---------------------------------------------------------------------------\u001B[0m",
      "\u001B[0;31mKeyError\u001B[0m                                  Traceback (most recent call last)",
      "\u001B[0;32m/var/folders/2j/yj3x01td2lqbznzlbwcpz1pc0000gn/T/ipykernel_1687/2719599347.py\u001B[0m in \u001B[0;36m<module>\u001B[0;34m\u001B[0m\n\u001B[0;32m----> 1\u001B[0;31m \u001B[0mdf\u001B[0m\u001B[0;34m.\u001B[0m\u001B[0msort_values\u001B[0m\u001B[0;34m(\u001B[0m\u001B[0mby\u001B[0m\u001B[0;34m=\u001B[0m\u001B[0;34m\"C\"\u001B[0m\u001B[0;34m)\u001B[0m\u001B[0;34m\u001B[0m\u001B[0;34m\u001B[0m\u001B[0m\n\u001B[0m\u001B[1;32m      2\u001B[0m \u001B[0;34m\u001B[0m\u001B[0m\n",
      "\u001B[0;32m/Library/Frameworks/Python.framework/Versions/3.9/lib/python3.9/site-packages/pandas/util/_decorators.py\u001B[0m in \u001B[0;36mwrapper\u001B[0;34m(*args, **kwargs)\u001B[0m\n\u001B[1;32m    309\u001B[0m                     \u001B[0mstacklevel\u001B[0m\u001B[0;34m=\u001B[0m\u001B[0mstacklevel\u001B[0m\u001B[0;34m,\u001B[0m\u001B[0;34m\u001B[0m\u001B[0;34m\u001B[0m\u001B[0m\n\u001B[1;32m    310\u001B[0m                 )\n\u001B[0;32m--> 311\u001B[0;31m             \u001B[0;32mreturn\u001B[0m \u001B[0mfunc\u001B[0m\u001B[0;34m(\u001B[0m\u001B[0;34m*\u001B[0m\u001B[0margs\u001B[0m\u001B[0;34m,\u001B[0m \u001B[0;34m**\u001B[0m\u001B[0mkwargs\u001B[0m\u001B[0;34m)\u001B[0m\u001B[0;34m\u001B[0m\u001B[0;34m\u001B[0m\u001B[0m\n\u001B[0m\u001B[1;32m    312\u001B[0m \u001B[0;34m\u001B[0m\u001B[0m\n\u001B[1;32m    313\u001B[0m         \u001B[0;32mreturn\u001B[0m \u001B[0mwrapper\u001B[0m\u001B[0;34m\u001B[0m\u001B[0;34m\u001B[0m\u001B[0m\n",
      "\u001B[0;32m/Library/Frameworks/Python.framework/Versions/3.9/lib/python3.9/site-packages/pandas/core/frame.py\u001B[0m in \u001B[0;36msort_values\u001B[0;34m(self, by, axis, ascending, inplace, kind, na_position, ignore_index, key)\u001B[0m\n\u001B[1;32m   6257\u001B[0m \u001B[0;34m\u001B[0m\u001B[0m\n\u001B[1;32m   6258\u001B[0m             \u001B[0mby\u001B[0m \u001B[0;34m=\u001B[0m \u001B[0mby\u001B[0m\u001B[0;34m[\u001B[0m\u001B[0;36m0\u001B[0m\u001B[0;34m]\u001B[0m\u001B[0;34m\u001B[0m\u001B[0;34m\u001B[0m\u001B[0m\n\u001B[0;32m-> 6259\u001B[0;31m             \u001B[0mk\u001B[0m \u001B[0;34m=\u001B[0m \u001B[0mself\u001B[0m\u001B[0;34m.\u001B[0m\u001B[0m_get_label_or_level_values\u001B[0m\u001B[0;34m(\u001B[0m\u001B[0mby\u001B[0m\u001B[0;34m,\u001B[0m \u001B[0maxis\u001B[0m\u001B[0;34m=\u001B[0m\u001B[0maxis\u001B[0m\u001B[0;34m)\u001B[0m\u001B[0;34m\u001B[0m\u001B[0;34m\u001B[0m\u001B[0m\n\u001B[0m\u001B[1;32m   6260\u001B[0m \u001B[0;34m\u001B[0m\u001B[0m\n\u001B[1;32m   6261\u001B[0m             \u001B[0;31m# need to rewrap column in Series to apply key function\u001B[0m\u001B[0;34m\u001B[0m\u001B[0;34m\u001B[0m\u001B[0m\n",
      "\u001B[0;32m/Library/Frameworks/Python.framework/Versions/3.9/lib/python3.9/site-packages/pandas/core/generic.py\u001B[0m in \u001B[0;36m_get_label_or_level_values\u001B[0;34m(self, key, axis)\u001B[0m\n\u001B[1;32m   1777\u001B[0m             \u001B[0mvalues\u001B[0m \u001B[0;34m=\u001B[0m \u001B[0mself\u001B[0m\u001B[0;34m.\u001B[0m\u001B[0maxes\u001B[0m\u001B[0;34m[\u001B[0m\u001B[0maxis\u001B[0m\u001B[0;34m]\u001B[0m\u001B[0;34m.\u001B[0m\u001B[0mget_level_values\u001B[0m\u001B[0;34m(\u001B[0m\u001B[0mkey\u001B[0m\u001B[0;34m)\u001B[0m\u001B[0;34m.\u001B[0m\u001B[0m_values\u001B[0m\u001B[0;34m\u001B[0m\u001B[0;34m\u001B[0m\u001B[0m\n\u001B[1;32m   1778\u001B[0m         \u001B[0;32melse\u001B[0m\u001B[0;34m:\u001B[0m\u001B[0;34m\u001B[0m\u001B[0;34m\u001B[0m\u001B[0m\n\u001B[0;32m-> 1779\u001B[0;31m             \u001B[0;32mraise\u001B[0m \u001B[0mKeyError\u001B[0m\u001B[0;34m(\u001B[0m\u001B[0mkey\u001B[0m\u001B[0;34m)\u001B[0m\u001B[0;34m\u001B[0m\u001B[0;34m\u001B[0m\u001B[0m\n\u001B[0m\u001B[1;32m   1780\u001B[0m \u001B[0;34m\u001B[0m\u001B[0m\n\u001B[1;32m   1781\u001B[0m         \u001B[0;31m# Check for duplicates\u001B[0m\u001B[0;34m\u001B[0m\u001B[0;34m\u001B[0m\u001B[0m\n",
      "\u001B[0;31mKeyError\u001B[0m: 'C'"
     ]
    }
   ],
   "source": [
    "df.sort_values(by=\"C\")"
   ]
  },
  {
   "cell_type": "markdown",
   "metadata": {},
   "source": [
    "## Selection\n",
    "\n",
    "### Getting slices\n",
    "\n",
    "The following show how to get part of the DataFrame (i.e. not just the elements)"
   ]
  },
  {
   "cell_type": "code",
   "execution_count": null,
   "metadata": {},
   "outputs": [],
   "source": [
    "## standard and safe\n",
    "print(df['A'], '\\n')\n",
    "\n",
    "## equivalent but dangerous (imagine blank spaces in the name of the column..)\n",
    "print(df.A)"
   ]
  },
  {
   "cell_type": "code",
   "execution_count": null,
   "metadata": {},
   "outputs": [],
   "source": [
    "# selecting rows by counting\n",
    "print(df[0:3])\n",
    "\n",
    "# or by index\n",
    "print(df[\"2021-11-22 12:45:00\":\"2021-11-22 14:45:00\"])"
   ]
  },
  {
   "cell_type": "markdown",
   "metadata": {},
   "source": [
    "### Selection by label"
   ]
  },
  {
   "cell_type": "code",
   "execution_count": null,
   "metadata": {},
   "outputs": [],
   "source": [
    "# getting a cross section (part of the DataFrame) using a label\n",
    "df.loc[dates[0]]"
   ]
  },
  {
   "cell_type": "code",
   "execution_count": null,
   "metadata": {},
   "outputs": [],
   "source": [
    "# selecting on a multi-axis by label:\n",
    "df.loc[:, ['A', 'B']]\n",
    "#a=df.loc[:,['A','B']]"
   ]
  },
  {
   "cell_type": "code",
   "execution_count": null,
   "metadata": {},
   "outputs": [],
   "source": [
    "# showing label slicing, both endpoints are included:\n",
    "df.loc['2021-11-22 16:45:00':'2021-11-22 18:45:00', ['A', 'B']]"
   ]
  },
  {
   "cell_type": "code",
   "execution_count": null,
   "metadata": {},
   "outputs": [],
   "source": [
    "# getting an individual element\n",
    "print(df.loc[dates[1], 'A'])\n",
    "\n",
    "# equivalently\n",
    "print(df.at[dates[1], 'A'])"
   ]
  },
  {
   "cell_type": "markdown",
   "metadata": {},
   "source": [
    "### Selecting by position"
   ]
  },
  {
   "cell_type": "code",
   "execution_count": null,
   "metadata": {},
   "outputs": [],
   "source": [
    "# select via the position of the passed integers:\n",
    "print(df.iloc[3], '\\n')\n",
    "\n",
    "# notation similar to numpy/python\n",
    "print(df.iloc[3:5, 0:2])"
   ]
  },
  {
   "cell_type": "code",
   "execution_count": null,
   "metadata": {},
   "outputs": [],
   "source": [
    "# selecting raws 1,2 and 4 for columns 0 and 2\n",
    "df.iloc[[1, 2, 4], [0, 2]]"
   ]
  },
  {
   "cell_type": "code",
   "execution_count": null,
   "metadata": {},
   "outputs": [],
   "source": [
    "# slicing rows explicitly\n",
    "print(df.iloc[1:3, :], '\\n')\n",
    "\n",
    "# slicing columns explicitly\n",
    "print(df.iloc[:, 1:3])\n"
   ]
  },
  {
   "cell_type": "code",
   "execution_count": null,
   "metadata": {},
   "outputs": [],
   "source": [
    "# selecting an individual element by position\n",
    "print(df.iloc[1, 1])\n",
    "print(df.iat[1, 1])\n"
   ]
  },
  {
   "cell_type": "markdown",
   "metadata": {},
   "source": [
    "### Boolean index\n",
    "\n",
    "Very powerful way of filtering out data with certain features. Notation is very similar to numpy arrays."
   ]
  },
  {
   "cell_type": "code",
   "execution_count": null,
   "metadata": {},
   "outputs": [],
   "source": [
    "# Filter by a boolean condition on the values of a single column\n",
    "df[df['B'] > 0] # En paralelo, al contrario que un 'for'"
   ]
  },
  {
   "cell_type": "code",
   "execution_count": null,
   "metadata": {},
   "outputs": [],
   "source": [
    "# Selecting on the basis of boolean conditions applied to the whole DataFrame\n",
    "df[df > 0]\n",
    "\n",
    "# a DataFrame with the same shape is returned, with NaN's where condition is not met"
   ]
  },
  {
   "cell_type": "markdown",
   "metadata": {},
   "source": [
    "### Setting\n",
    "\n",
    "Combination of selection and setting of values"
   ]
  },
  {
   "cell_type": "code",
   "execution_count": null,
   "metadata": {},
   "outputs": [],
   "source": [
    "# setting values by label (same as by position)\n",
    "df.at[dates[0], 'A'] = 0\n",
    "\n",
    "# setting and assigning a numpy array\n",
    "df.loc[:, 'D'] = np.array([5] * len(df))\n",
    "\n",
    "# defining a brend new column\n",
    "df['E'] = np.arange(len(df)) * 0.5\n",
    "\n",
    "# defining a brend new column by means of a pd.Series: indexes must be the same!\n",
    "df['E prime'] = pd.Series(np.arange(len(df)) * 2, index=df.index)\n"
   ]
  },
  {
   "cell_type": "code",
   "execution_count": null,
   "metadata": {},
   "outputs": [],
   "source": [
    "def dcos(theta):\n",
    "    theta = theta * (np.pi / 180)\n",
    "    return np.cos(theta)\n",
    "\n",
    "\n",
    "df['cosine'] = pd.Series(df[\"E\"].apply(dcos), index=df.index)\n",
    "df"
   ]
  },
  {
   "cell_type": "code",
   "execution_count": null,
   "metadata": {},
   "outputs": [],
   "source": [
    "# another example of global setting\n",
    "df2 = df.copy()\n",
    "\n",
    "df2[df2 < 0] = -df2\n",
    "df2"
   ]
  },
  {
   "cell_type": "code",
   "execution_count": null,
   "metadata": {},
   "outputs": [],
   "source": [
    "df"
   ]
  },
  {
   "cell_type": "markdown",
   "metadata": {},
   "source": [
    "### Dropping\n",
    "\n",
    "N.B.: dropping doesn't act permanently on the DataFrame, i.e. to get that do :\n",
    "```\n",
    "df = df.drop(....)\n",
    "```"
   ]
  },
  {
   "cell_type": "code",
   "execution_count": null,
   "metadata": {},
   "outputs": [],
   "source": [
    "# Dropping by column\n",
    "df.drop(['E prime'], axis=1)\n",
    "\n",
    "#which is equivalent to\n",
    "new_df = df.drop(columns=['E prime'])\n",
    "new_df"
   ]
  },
  {
   "cell_type": "code",
   "execution_count": null,
   "metadata": {},
   "outputs": [],
   "source": [
    "# Dropping by raws\n",
    "# safe and always working\n",
    "df.drop(df.index[[1, 2, 3, 4]])"
   ]
  },
  {
   "cell_type": "code",
   "execution_count": null,
   "metadata": {},
   "outputs": [],
   "source": [
    "df"
   ]
  },
  {
   "cell_type": "code",
   "execution_count": null,
   "metadata": {},
   "outputs": [],
   "source": [
    "# something like df.drop('index_name') \n",
    "# would work but the type of index must be specificed, \n",
    "# in particular with DatetimeIndex\n",
    "df.drop(pd.to_datetime(\"2021-11-22 20:45:00\"))"
   ]
  },
  {
   "cell_type": "markdown",
   "metadata": {},
   "source": [
    "## Missing data\n",
    "\n",
    "pandas primarily uses the value `np.nan` to represent missing data. It is by default not included in computations."
   ]
  },
  {
   "cell_type": "code",
   "execution_count": null,
   "metadata": {},
   "outputs": [],
   "source": [
    "df_wNan = df[df > 0]\n",
    "df_wNan"
   ]
  },
  {
   "cell_type": "code",
   "execution_count": null,
   "metadata": {},
   "outputs": [],
   "source": [
    "# dropping raws with at least a Nan\n",
    "df_wNan.dropna(how='any')"
   ]
  },
  {
   "cell_type": "code",
   "execution_count": null,
   "metadata": {},
   "outputs": [],
   "source": [
    "# getting a mask\n",
    "df_wNan.isna()\n",
    "#df_wNan.notna()"
   ]
  },
  {
   "cell_type": "code",
   "execution_count": null,
   "metadata": {},
   "outputs": [],
   "source": [
    "# filling missing data\n",
    "df_wNan.fillna(value=0)"
   ]
  },
  {
   "cell_type": "markdown",
   "metadata": {},
   "source": [
    "Fill gaps forward or backward by propagating non-NA values forward or backward:"
   ]
  },
  {
   "cell_type": "code",
   "execution_count": null,
   "metadata": {},
   "outputs": [],
   "source": [
    "df_wNan.fillna(method='pad')"
   ]
  },
  {
   "cell_type": "markdown",
   "metadata": {},
   "source": [
    "## Operations\n",
    "\n",
    "Here comes the most relevant advantage of DataFrame. Operations on columns are extremly fast, almost as fast as the\n",
    "actual operation between elements in a raw"
   ]
  },
  {
   "cell_type": "code",
   "execution_count": null,
   "metadata": {},
   "outputs": [],
   "source": [
    "# Some statistics (mean() just as an example)\n",
    "# raws\n",
    "print(df.mean(axis=0), '\\n')\n",
    "# columns\n",
    "print(df.mean(axis=1), '\\n')"
   ]
  },
  {
   "cell_type": "code",
   "execution_count": null,
   "metadata": {},
   "outputs": [],
   "source": [
    "# global operations on columns\n",
    "df.apply(np.cumsum)"
   ]
  },
  {
   "cell_type": "code",
   "execution_count": null,
   "metadata": {},
   "outputs": [],
   "source": [
    "df"
   ]
  },
  {
   "cell_type": "code",
   "execution_count": null,
   "metadata": {},
   "outputs": [],
   "source": [
    "df.apply(lambda x: x.max() - x.min())"
   ]
  },
  {
   "cell_type": "code",
   "execution_count": null,
   "metadata": {},
   "outputs": [],
   "source": [
    "# syntax is as usual similar to that of numpy arrays\n",
    "df['A'] + df['B']"
   ]
  },
  {
   "cell_type": "markdown",
   "metadata": {},
   "source": [
    "Let's play it hard and load (in memory) a (relatively) large dataset"
   ]
  },
  {
   "cell_type": "code",
   "execution_count": 105,
   "metadata": {},
   "outputs": [
    {
     "data": {
      "text/plain": "         HEAD  FPGA  TDC_CHANNEL   ORBIT_CNT  BX_COUNTER  TDC_MEAS\n0           1     0          123  3869200167        2374        26\n1           1     0          124  3869200167        2374        27\n2           1     0           63  3869200167        2553        28\n3           1     0           64  3869200167        2558        19\n4           1     0           64  3869200167        2760        25\n...       ...   ...          ...         ...         ...       ...\n1310715     1     0           62  3869211171         762        14\n1310716     1     1            4  3869211171         763        11\n1310717     1     0           64  3869211171         764         0\n1310718     1     0          139  3869211171         769         0\n1310719     1     0           61  3869211171         762        18\n\n[1310720 rows x 6 columns]",
      "text/html": "<div>\n<style scoped>\n    .dataframe tbody tr th:only-of-type {\n        vertical-align: middle;\n    }\n\n    .dataframe tbody tr th {\n        vertical-align: top;\n    }\n\n    .dataframe thead th {\n        text-align: right;\n    }\n</style>\n<table border=\"1\" class=\"dataframe\">\n  <thead>\n    <tr style=\"text-align: right;\">\n      <th></th>\n      <th>HEAD</th>\n      <th>FPGA</th>\n      <th>TDC_CHANNEL</th>\n      <th>ORBIT_CNT</th>\n      <th>BX_COUNTER</th>\n      <th>TDC_MEAS</th>\n    </tr>\n  </thead>\n  <tbody>\n    <tr>\n      <th>0</th>\n      <td>1</td>\n      <td>0</td>\n      <td>123</td>\n      <td>3869200167</td>\n      <td>2374</td>\n      <td>26</td>\n    </tr>\n    <tr>\n      <th>1</th>\n      <td>1</td>\n      <td>0</td>\n      <td>124</td>\n      <td>3869200167</td>\n      <td>2374</td>\n      <td>27</td>\n    </tr>\n    <tr>\n      <th>2</th>\n      <td>1</td>\n      <td>0</td>\n      <td>63</td>\n      <td>3869200167</td>\n      <td>2553</td>\n      <td>28</td>\n    </tr>\n    <tr>\n      <th>3</th>\n      <td>1</td>\n      <td>0</td>\n      <td>64</td>\n      <td>3869200167</td>\n      <td>2558</td>\n      <td>19</td>\n    </tr>\n    <tr>\n      <th>4</th>\n      <td>1</td>\n      <td>0</td>\n      <td>64</td>\n      <td>3869200167</td>\n      <td>2760</td>\n      <td>25</td>\n    </tr>\n    <tr>\n      <th>...</th>\n      <td>...</td>\n      <td>...</td>\n      <td>...</td>\n      <td>...</td>\n      <td>...</td>\n      <td>...</td>\n    </tr>\n    <tr>\n      <th>1310715</th>\n      <td>1</td>\n      <td>0</td>\n      <td>62</td>\n      <td>3869211171</td>\n      <td>762</td>\n      <td>14</td>\n    </tr>\n    <tr>\n      <th>1310716</th>\n      <td>1</td>\n      <td>1</td>\n      <td>4</td>\n      <td>3869211171</td>\n      <td>763</td>\n      <td>11</td>\n    </tr>\n    <tr>\n      <th>1310717</th>\n      <td>1</td>\n      <td>0</td>\n      <td>64</td>\n      <td>3869211171</td>\n      <td>764</td>\n      <td>0</td>\n    </tr>\n    <tr>\n      <th>1310718</th>\n      <td>1</td>\n      <td>0</td>\n      <td>139</td>\n      <td>3869211171</td>\n      <td>769</td>\n      <td>0</td>\n    </tr>\n    <tr>\n      <th>1310719</th>\n      <td>1</td>\n      <td>0</td>\n      <td>61</td>\n      <td>3869211171</td>\n      <td>762</td>\n      <td>18</td>\n    </tr>\n  </tbody>\n</table>\n<p>1310720 rows × 6 columns</p>\n</div>"
     },
     "execution_count": 105,
     "metadata": {},
     "output_type": "execute_result"
    }
   ],
   "source": [
    "# WARNING! link in past notebook was wrong!, (if needed) get the right file from:\n",
    "#!wget https://www.dropbox.com/s/xvjzaxzz3ysphme/data_000637.txt -P ./\n",
    "\n",
    "file_name = \"./data_000637.txt\"\n",
    "data = pd.read_csv(file_name)\n",
    "data"
   ]
  },
  {
   "cell_type": "markdown",
   "metadata": {},
   "source": [
    "Let's now do some operations among (elements of) columns"
   ]
  },
  {
   "cell_type": "code",
   "execution_count": 106,
   "metadata": {},
   "outputs": [],
   "source": [
    "# the one-liner killing it all\n",
    "data['timens'] = data['TDC_MEAS'] * 25 / 30 + data['BX_COUNTER'] * 25"
   ]
  },
  {
   "cell_type": "code",
   "execution_count": 107,
   "metadata": {},
   "outputs": [
    {
     "data": {
      "text/plain": "0          59371.666667\n1          59372.500000\n2          63848.333333\n3          63965.833333\n4          69020.833333\n               ...     \n1310715    19061.666667\n1310716    19084.166667\n1310717    19100.000000\n1310718    19225.000000\n1310719    19065.000000\nName: timens, Length: 1310720, dtype: float64"
     },
     "execution_count": 107,
     "metadata": {},
     "output_type": "execute_result"
    }
   ],
   "source": [
    "data['timens']"
   ]
  },
  {
   "cell_type": "code",
   "execution_count": 102,
   "metadata": {},
   "outputs": [
    {
     "ename": "NameError",
     "evalue": "name 'data' is not defined",
     "output_type": "error",
     "traceback": [
      "\u001B[0;31m---------------------------------------------------------------------------\u001B[0m",
      "\u001B[0;31mNameError\u001B[0m                                 Traceback (most recent call last)",
      "\u001B[0;32m/var/folders/2j/yj3x01td2lqbznzlbwcpz1pc0000gn/T/ipykernel_1687/2091609146.py\u001B[0m in \u001B[0;36m<module>\u001B[0;34m\u001B[0m\n\u001B[1;32m      7\u001B[0m \u001B[0;34m\u001B[0m\u001B[0m\n\u001B[1;32m      8\u001B[0m \u001B[0;34m\u001B[0m\u001B[0m\n\u001B[0;32m----> 9\u001B[0;31m \u001B[0mdata\u001B[0m\u001B[0;34m[\u001B[0m\u001B[0;34m'timens'\u001B[0m\u001B[0;34m]\u001B[0m \u001B[0;34m=\u001B[0m \u001B[0mconversion\u001B[0m\u001B[0;34m(\u001B[0m\u001B[0mdata\u001B[0m\u001B[0;34m)\u001B[0m\u001B[0;34m\u001B[0m\u001B[0;34m\u001B[0m\u001B[0m\n\u001B[0m\u001B[1;32m     10\u001B[0m \u001B[0;34m\u001B[0m\u001B[0m\n",
      "\u001B[0;31mNameError\u001B[0m: name 'data' is not defined"
     ]
    }
   ],
   "source": [
    "# the old slooow way\n",
    "def conversion(data):\n",
    "    result = []\n",
    "    for i in range(len(data)):\n",
    "        result.append(data.loc[data.index[i], 'TDC_MEAS'] * 25 / 30. + data.loc[data.index[i], 'BX_COUNTER'] * 25)\n",
    "    return result\n",
    "\n",
    "\n",
    "data['timens'] = conversion(data)"
   ]
  },
  {
   "cell_type": "markdown",
   "metadata": {},
   "source": [
    "## Merge\n",
    "\n",
    "Pandas provide various facilities for easily combining Series, DataFrame, and Panel objects with various kinds\n",
    "of set logic for the indexes and relational algebra functionality in the case of join / merge-type operations.\n",
    "\n",
    "### Concat\n",
    "\n",
    "concatenation (adding rows) is straightforward\n"
   ]
  },
  {
   "cell_type": "code",
   "execution_count": null,
   "metadata": {},
   "outputs": [],
   "source": [
    "rdf = pd.DataFrame(np.random.randn(10, 4))\n",
    "rdf"
   ]
  },
  {
   "cell_type": "code",
   "execution_count": null,
   "metadata": {},
   "outputs": [],
   "source": [
    "# divide it into pieaces raw-wise\n",
    "pieces = [rdf[:3], rdf[3:7], rdf[7:]]\n",
    "pieces"
   ]
  },
  {
   "cell_type": "code",
   "execution_count": null,
   "metadata": {},
   "outputs": [],
   "source": [
    "# put it back together\n",
    "#pd.concat(pieces)\n",
    "\n",
    "# indexes can be ignored\n",
    "pd.concat(pieces, ignore_index=True)\n",
    "\n",
    "# in case of dimension mismatch, Nan are added where needed"
   ]
  },
  {
   "cell_type": "code",
   "execution_count": null,
   "metadata": {},
   "outputs": [],
   "source": [
    "# appending a single row (as a Series)\n",
    "s = rdf.iloc[3]\n",
    "rdf.append(s, ignore_index=True)\n",
    "rdf"
   ]
  },
  {
   "cell_type": "markdown",
   "metadata": {},
   "source": [
    "### Merge/Join\n",
    "\n",
    "SQL like operations on table can be performed on DataFrames. This is all rather sophisticated, refer to the\n",
    "[doc](https://pandas.pydata.org/pandas-docs/stable/merging.html#merging) for more info/examples"
   ]
  },
  {
   "cell_type": "code",
   "execution_count": null,
   "metadata": {},
   "outputs": [],
   "source": [
    "left = pd.DataFrame({'key': ['foo', 'bar'], 'lval': [1, 2]})\n",
    "print(left)\n",
    "right = pd.DataFrame({'key': ['foo', 'bar'], 'rval': [4, 5]})\n",
    "print(right)\n",
    "pd.merge(left, right, on=\"key\")"
   ]
  },
  {
   "cell_type": "markdown",
   "metadata": {},
   "source": [
    "## Grouping\n",
    "\n",
    "By “group by” we are referring to a process involving one or more of the following steps:\n",
    "\n",
    "* Splitting the data into groups based on some criteria\n",
    "* Applying a function to each group independently\n",
    "* Combining the results into a data structure\n"
   ]
  },
  {
   "cell_type": "code",
   "execution_count": 111,
   "metadata": {},
   "outputs": [
    {
     "data": {
      "text/plain": "     A      B         C         D\n0  foo    one -0.653846  2.548240\n1  bar    one  0.825923  1.195687\n2  foo    two  0.315150  0.344628\n3  bar  three  0.620720  0.796856\n4  foo    two  1.307338 -0.912136\n5  bar    two  0.587203 -0.019793\n6  foo    one  0.167595 -0.552469\n7  foo  three  1.067786 -1.325396",
      "text/html": "<div>\n<style scoped>\n    .dataframe tbody tr th:only-of-type {\n        vertical-align: middle;\n    }\n\n    .dataframe tbody tr th {\n        vertical-align: top;\n    }\n\n    .dataframe thead th {\n        text-align: right;\n    }\n</style>\n<table border=\"1\" class=\"dataframe\">\n  <thead>\n    <tr style=\"text-align: right;\">\n      <th></th>\n      <th>A</th>\n      <th>B</th>\n      <th>C</th>\n      <th>D</th>\n    </tr>\n  </thead>\n  <tbody>\n    <tr>\n      <th>0</th>\n      <td>foo</td>\n      <td>one</td>\n      <td>-0.653846</td>\n      <td>2.548240</td>\n    </tr>\n    <tr>\n      <th>1</th>\n      <td>bar</td>\n      <td>one</td>\n      <td>0.825923</td>\n      <td>1.195687</td>\n    </tr>\n    <tr>\n      <th>2</th>\n      <td>foo</td>\n      <td>two</td>\n      <td>0.315150</td>\n      <td>0.344628</td>\n    </tr>\n    <tr>\n      <th>3</th>\n      <td>bar</td>\n      <td>three</td>\n      <td>0.620720</td>\n      <td>0.796856</td>\n    </tr>\n    <tr>\n      <th>4</th>\n      <td>foo</td>\n      <td>two</td>\n      <td>1.307338</td>\n      <td>-0.912136</td>\n    </tr>\n    <tr>\n      <th>5</th>\n      <td>bar</td>\n      <td>two</td>\n      <td>0.587203</td>\n      <td>-0.019793</td>\n    </tr>\n    <tr>\n      <th>6</th>\n      <td>foo</td>\n      <td>one</td>\n      <td>0.167595</td>\n      <td>-0.552469</td>\n    </tr>\n    <tr>\n      <th>7</th>\n      <td>foo</td>\n      <td>three</td>\n      <td>1.067786</td>\n      <td>-1.325396</td>\n    </tr>\n  </tbody>\n</table>\n</div>"
     },
     "execution_count": 111,
     "metadata": {},
     "output_type": "execute_result"
    }
   ],
   "source": [
    "gdf = pd.DataFrame({'A': ['foo', 'bar', 'foo', 'bar',\n",
    "                          'foo', 'bar', 'foo', 'foo'],\n",
    "                    'B': ['one', 'one', 'two', 'three',\n",
    "                          'two', 'two', 'one', 'three'],\n",
    "                    'C': np.random.randn(8),\n",
    "                    'D': np.random.randn(8)})\n",
    "gdf"
   ]
  },
  {
   "cell_type": "code",
   "execution_count": 112,
   "metadata": {},
   "outputs": [
    {
     "data": {
      "text/plain": "            C         D\nA                      \nbar  2.033846  1.972751\nfoo  2.204023  0.102866",
      "text/html": "<div>\n<style scoped>\n    .dataframe tbody tr th:only-of-type {\n        vertical-align: middle;\n    }\n\n    .dataframe tbody tr th {\n        vertical-align: top;\n    }\n\n    .dataframe thead th {\n        text-align: right;\n    }\n</style>\n<table border=\"1\" class=\"dataframe\">\n  <thead>\n    <tr style=\"text-align: right;\">\n      <th></th>\n      <th>C</th>\n      <th>D</th>\n    </tr>\n    <tr>\n      <th>A</th>\n      <th></th>\n      <th></th>\n    </tr>\n  </thead>\n  <tbody>\n    <tr>\n      <th>bar</th>\n      <td>2.033846</td>\n      <td>1.972751</td>\n    </tr>\n    <tr>\n      <th>foo</th>\n      <td>2.204023</td>\n      <td>0.102866</td>\n    </tr>\n  </tbody>\n</table>\n</div>"
     },
     "execution_count": 112,
     "metadata": {},
     "output_type": "execute_result"
    }
   ],
   "source": [
    "# Grouping and then applying the sum() \n",
    "# function to the resulting groups (effective only where number are there).\n",
    "gdf.groupby('A').sum()"
   ]
  },
  {
   "cell_type": "markdown",
   "metadata": {},
   "source": [
    "## Multi-indexing\n",
    "\n",
    "\n",
    "Hierarchical / Multi-level indexing allows sophisticated data analysis on higher dimensional data. In essence, it\n",
    "enables you to store and manipulate data with an arbitrary number of dimensions in lower dimensional data structures\n",
    "like Series (1d) and DataFrame (2d)."
   ]
  },
  {
   "cell_type": "code",
   "execution_count": 94,
   "metadata": {},
   "outputs": [
    {
     "name": "stdout",
     "output_type": "stream",
     "text": [
      "MultiIndex([('bar', 'one'),\n",
      "            ('bar', 'two'),\n",
      "            ('baz', 'one'),\n",
      "            ('baz', 'two'),\n",
      "            ('foo', 'one'),\n",
      "            ('foo', 'two'),\n",
      "            ('qux', 'one'),\n",
      "            ('qux', 'two')],\n",
      "           names=['first', 'second']) \n",
      "\n",
      "first  second\n",
      "bar    one       0.852118\n",
      "       two       1.937957\n",
      "baz    one      -0.369678\n",
      "       two      -0.551857\n",
      "foo    one       0.511525\n",
      "       two       1.219510\n",
      "qux    one       0.125325\n",
      "       two      -0.247904\n",
      "dtype: float64\n"
     ]
    }
   ],
   "source": [
    "tuples = list(zip(['bar', 'bar', 'baz', 'baz', 'foo', 'foo', 'qux', 'qux'],\n",
    "                  ['one', 'two', 'one', 'two', 'one', 'two', 'one', 'two']))\n",
    "multi_index = pd.MultiIndex.from_tuples(tuples, names=['first', 'second'])\n",
    "print(multi_index, '\\n')\n",
    "\n",
    "s = pd.Series(np.random.randn(8), index=multi_index)\n",
    "print(s)\n"
   ]
  },
  {
   "cell_type": "code",
   "execution_count": 95,
   "metadata": {},
   "outputs": [
    {
     "ename": "NameError",
     "evalue": "name 'gdf' is not defined",
     "output_type": "error",
     "traceback": [
      "\u001B[0;31m---------------------------------------------------------------------------\u001B[0m",
      "\u001B[0;31mNameError\u001B[0m                                 Traceback (most recent call last)",
      "\u001B[0;32m/var/folders/2j/yj3x01td2lqbznzlbwcpz1pc0000gn/T/ipykernel_1687/2725333898.py\u001B[0m in \u001B[0;36m<module>\u001B[0;34m\u001B[0m\n\u001B[1;32m      1\u001B[0m \u001B[0;31m# it enables further features of the groupby method,\u001B[0m\u001B[0;34m\u001B[0m\u001B[0;34m\u001B[0m\u001B[0m\n\u001B[1;32m      2\u001B[0m \u001B[0;31m# e.g. when group-by by multiple columns\u001B[0m\u001B[0;34m\u001B[0m\u001B[0;34m\u001B[0m\u001B[0m\n\u001B[0;32m----> 3\u001B[0;31m \u001B[0mgdf\u001B[0m\u001B[0;34m.\u001B[0m\u001B[0mgroupby\u001B[0m\u001B[0;34m(\u001B[0m\u001B[0;34m[\u001B[0m\u001B[0;34m'A'\u001B[0m\u001B[0;34m,\u001B[0m \u001B[0;34m'B'\u001B[0m\u001B[0;34m]\u001B[0m\u001B[0;34m)\u001B[0m\u001B[0;34m.\u001B[0m\u001B[0msum\u001B[0m\u001B[0;34m(\u001B[0m\u001B[0;34m)\u001B[0m\u001B[0;34m\u001B[0m\u001B[0;34m\u001B[0m\u001B[0m\n\u001B[0m\u001B[1;32m      4\u001B[0m \u001B[0;34m\u001B[0m\u001B[0m\n",
      "\u001B[0;31mNameError\u001B[0m: name 'gdf' is not defined"
     ]
    }
   ],
   "source": [
    "# it enables further features of the groupby method,\n",
    "# e.g. when group-by by multiple columns\n",
    "gdf.groupby(['A', 'B']).sum()"
   ]
  },
  {
   "cell_type": "code",
   "execution_count": 96,
   "metadata": {},
   "outputs": [
    {
     "ename": "NameError",
     "evalue": "name 'gdf' is not defined",
     "output_type": "error",
     "traceback": [
      "\u001B[0;31m---------------------------------------------------------------------------\u001B[0m",
      "\u001B[0;31mNameError\u001B[0m                                 Traceback (most recent call last)",
      "\u001B[0;32m/var/folders/2j/yj3x01td2lqbznzlbwcpz1pc0000gn/T/ipykernel_1687/3170886138.py\u001B[0m in \u001B[0;36m<module>\u001B[0;34m\u001B[0m\n\u001B[1;32m      1\u001B[0m \u001B[0;31m# stack() method “compresses” a level in the DataFrame’s columns\u001B[0m\u001B[0;34m\u001B[0m\u001B[0;34m\u001B[0m\u001B[0m\n\u001B[0;32m----> 2\u001B[0;31m \u001B[0mgdf\u001B[0m\u001B[0;34m.\u001B[0m\u001B[0mgroupby\u001B[0m\u001B[0;34m(\u001B[0m\u001B[0;34m[\u001B[0m\u001B[0;34m'A'\u001B[0m\u001B[0;34m,\u001B[0m \u001B[0;34m'B'\u001B[0m\u001B[0;34m]\u001B[0m\u001B[0;34m)\u001B[0m\u001B[0;34m.\u001B[0m\u001B[0msum\u001B[0m\u001B[0;34m(\u001B[0m\u001B[0;34m)\u001B[0m\u001B[0;34m.\u001B[0m\u001B[0mstack\u001B[0m\u001B[0;34m(\u001B[0m\u001B[0;34m)\u001B[0m\u001B[0;34m\u001B[0m\u001B[0;34m\u001B[0m\u001B[0m\n\u001B[0m\u001B[1;32m      3\u001B[0m \u001B[0;34m\u001B[0m\u001B[0m\n",
      "\u001B[0;31mNameError\u001B[0m: name 'gdf' is not defined"
     ]
    }
   ],
   "source": [
    "# stack() method “compresses” a level in the DataFrame’s columns\n",
    "gdf.groupby(['A', 'B']).sum().stack()"
   ]
  },
  {
   "cell_type": "markdown",
   "metadata": {},
   "source": [
    "## Plotting\n",
    "\n",
    "Just a preview, more on the next lab class!"
   ]
  },
  {
   "cell_type": "code",
   "execution_count": 97,
   "metadata": {},
   "outputs": [
    {
     "data": {
      "text/plain": "<AxesSubplot:>"
     },
     "execution_count": 97,
     "metadata": {},
     "output_type": "execute_result"
    },
    {
     "data": {
      "text/plain": "<Figure size 432x288 with 1 Axes>",
      "image/png": "[encoded data removed]"
     },
     "metadata": {
      "needs_background": "light"
     },
     "output_type": "display_data"
    }
   ],
   "source": [
    "ts = pd.Series(np.random.randn(1000), index=pd.date_range('1/1/2000', periods=1000))\n",
    "ts.cumsum().plot()"
   ]
  },
  {
   "cell_type": "code",
   "execution_count": 98,
   "metadata": {},
   "outputs": [
    {
     "data": {
      "text/plain": "<matplotlib.legend.Legend at 0x7fe540421610>"
     },
     "execution_count": 98,
     "metadata": {},
     "output_type": "execute_result"
    },
    {
     "data": {
      "text/plain": "<Figure size 432x288 with 0 Axes>"
     },
     "metadata": {},
     "output_type": "display_data"
    },
    {
     "data": {
      "text/plain": "<Figure size 432x288 with 1 Axes>",
      "image/png": "[encoded data removed]"
     },
     "metadata": {
      "needs_background": "light"
     },
     "output_type": "display_data"
    }
   ],
   "source": [
    "import matplotlib.pyplot as plt\n",
    "\n",
    "pdf = pd.DataFrame(np.random.randn(1000, 4), index=ts.index, columns=['A', 'B', 'C', 'D'])\n",
    "pdf = pdf.cumsum()\n",
    "plt.figure()\n",
    "pdf.plot()\n",
    "plt.legend(loc='best')"
   ]
  },
  {
   "cell_type": "code",
   "execution_count": null,
   "metadata": {},
   "outputs": [],
   "source": []
  }
 ],
 "metadata": {
  "kernelspec": {
   "name": "pycharm-e992d7ce",
   "language": "python",
   "display_name": "PyCharm (Intro_Lab)"
  },
  "language_info": {
   "codemirror_mode": {
    "name": "ipython",
    "version": 3
   },
   "file_extension": ".py",
   "mimetype": "text/x-python",
   "name": "python",
   "nbconvert_exporter": "python",
   "pygments_lexer": "ipython3",
   "version": "3.8.8"
  }
 },
 "nbformat": 4,
 "nbformat_minor": 2
}