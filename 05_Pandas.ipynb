{
 "cells": [
  {
   "cell_type": "markdown",
   "metadata": {},
   "source": [
    "# Pandas\n",
    "\n",
    "The `numpy` module is excellent for numerical computations, but to handle missing data or arrays with mixed types takes more work. The `pandas` module is currently the most widely used tool for data manipulation, providing high-performance, easy-to-use data structures and advanced data analysis tools.\n",
    "\n",
    "In particular `pandas` features:\n",
    "\n",
    "* A fast and efficient \"DataFrame\" object for data manipulation with integrated indexing;\n",
    "* Tools for reading and writing data between in-memory data structures and different formats (CSV, Excel, SQL, HDF5);\n",
    "* Intelligent data alignment and integrated handling of missing data;\n",
    "* Intelligent label-based slicing, fancy indexing, and subsetting of large data sets;\n",
    "* Aggregating or transforming data with a powerful \"group-by\" engine; \n",
    "* High performance merging and joining of data sets;\n",
    "* Hierarchical axis indexing provides an intuitive way of working with high-dimensional data in a lower-dimensional data structure;\n",
    "* Time series-functionalities;\n",
    "* Highly optimized for performance, with critical code paths written in Cython or C.\n"
   ]
  },
  {
   "cell_type": "code",
   "execution_count": 1,
   "metadata": {},
   "outputs": [],
   "source": [
    "import pandas as pd\n",
    "import numpy as np"
   ]
  },
  {
   "cell_type": "markdown",
   "metadata": {},
   "source": [
    "## Series\n",
    "\n",
    "Series are completely equivalent to 1D array but with axis labels and the possibility to store heterogeneous elements. Of paramount importance are the time-series, used to define time evolutions of a phenomenon. \n"
   ]
  },
  {
   "cell_type": "code",
   "execution_count": 2,
   "metadata": {},
   "outputs": [
    {
     "name": "stdout",
     "output_type": "stream",
     "text": [
      "xs: a    0.0\n",
      "b    0.5\n",
      "c    1.0\n",
      "d    1.5\n",
      "e    2.0\n",
      "f    2.5\n",
      "g    3.0\n",
      "h    3.5\n",
      "i    4.0\n",
      "j    4.5\n",
      "dtype: float64 \n",
      "\n",
      "xs indexes: Index(['a', 'b', 'c', 'd', 'e', 'f', 'g', 'h', 'i', 'j'], dtype='object') \n",
      "\n",
      "xs values: [0.  0.5 1.  1.5 2.  2.5 3.  3.5 4.  4.5] <class 'numpy.ndarray'> \n",
      "\n",
      "2.5 2.5 3.5 \n",
      "\n",
      "d    1.5\n",
      "f    2.5\n",
      "h    3.5\n",
      "dtype: float64 \n",
      "\n",
      "<class 'pandas.core.series.Series'> \n",
      "\n"
     ]
    }
   ],
   "source": [
    "from string import ascii_lowercase as letters\n",
    "\n",
    "# Creating a series, accessing indexes, values and values by their index \n",
    "xs = pd.Series(np.arange(10)*0.5, index=tuple(letters[:10]))\n",
    "print (\"xs:\", xs,'\\n')\n",
    "print (\"xs indexes:\",xs.index,'\\n')\n",
    "# Values of the Series are actually a numpy array\n",
    "print (\"xs values:\", xs.values, type(xs.values),'\\n')\n",
    "print (xs['f'], xs.f, xs.h, '\\n')\n",
    "print (xs[['d', 'f', 'h']], '\\n')\n",
    "print (type(xs[['d', 'f', 'h']]), '\\n')"
   ]
  },
  {
   "cell_type": "code",
   "execution_count": 3,
   "metadata": {},
   "outputs": [
    {
     "name": "stdout",
     "output_type": "stream",
     "text": [
      "a    0.0\n",
      "b    0.5\n",
      "c    1.0\n",
      "dtype: float64 \n",
      "\n",
      "h    3.5\n",
      "i    4.0\n",
      "j    4.5\n",
      "dtype: float64 \n",
      "\n",
      "a    0.0\n",
      "d    1.5\n",
      "g    3.0\n",
      "j    4.5\n",
      "dtype: float64 \n",
      "\n",
      "h    3.5\n",
      "i    4.0\n",
      "j    4.5\n",
      "dtype: float64 \n",
      "\n",
      "a     1.000000\n",
      "b     1.648721\n",
      "c     2.718282\n",
      "d     4.481689\n",
      "e     7.389056\n",
      "f    12.182494\n",
      "g    20.085537\n",
      "h    33.115452\n",
      "i    54.598150\n",
      "j    90.017131\n",
      "dtype: float64 \n",
      "\n",
      "2.25 1.4361406616345072 \n",
      "\n"
     ]
    }
   ],
   "source": [
    "# Extracting elements and operations: same as numpy array\n",
    "print (xs[:3],'\\n')\n",
    "print (xs[7:], '\\n')\n",
    "print (xs[::3], '\\n')\n",
    "print (xs[xs>3], '\\n')\n",
    "print (np.exp(xs), '\\n')\n",
    "print (np.mean(xs), np.std(xs), '\\n')"
   ]
  },
  {
   "cell_type": "code",
   "execution_count": 4,
   "metadata": {},
   "outputs": [
    {
     "data": {
      "text/plain": [
       "b         1\n",
       "a       cat\n",
       "c    [2, 3]\n",
       "dtype: object"
      ]
     },
     "execution_count": 4,
     "metadata": {},
     "output_type": "execute_result"
    }
   ],
   "source": [
    "# Series can be created from python dictionary too.\n",
    "# Not that the elements can be whatever!\n",
    "d = {'b' : 1, 'a' : 'cat', 'c' : [2,3]}\n",
    "pd.Series(d)\n",
    "\n"
   ]
  },
  {
   "cell_type": "markdown",
   "metadata": {},
   "source": [
    "A key difference between Series and ndarray is that operations between Series automatically align the data based on label. Thus, you can write computations without considering whether the Series involved have the same labels."
   ]
  },
  {
   "cell_type": "code",
   "execution_count": 5,
   "metadata": {},
   "outputs": [
    {
     "name": "stdout",
     "output_type": "stream",
     "text": [
      "a    0.732237\n",
      "b    0.801775\n",
      "c    0.150121\n",
      "d   -1.445169\n",
      "e    1.156814\n",
      "dtype: float64\n",
      "a         NaN\n",
      "b    1.603549\n",
      "c    0.300242\n",
      "d   -2.890338\n",
      "e         NaN\n",
      "dtype: float64\n"
     ]
    }
   ],
   "source": [
    "s = pd.Series(np.random.randn(5), index=tuple(letters[:5]))\n",
    "print(s)\n",
    "s = s[1:] + s[:-1]\n",
    "print(s)"
   ]
  },
  {
   "cell_type": "markdown",
   "metadata": {},
   "source": [
    "### Time series\n",
    "\n",
    "Time series are very often used to profile the behaviour of a quantity as a function of time. Pandas has a special index for that, `DatetimeIndex`, that can be created e.g. with the function `pd.data_range()`"
   ]
  },
  {
   "cell_type": "code",
   "execution_count": 7,
   "metadata": {},
   "outputs": [
    {
     "name": "stdout",
     "output_type": "stream",
     "text": [
      "2021-11-22\n",
      "2021-11-22 12:45:10.000015\n",
      "22/11/2021 12:45:00\n",
      "DatetimeIndex(['2021-11-22 12:45:00', '2021-11-23 12:45:00',\n",
      "               '2021-11-24 12:45:00', '2021-11-25 12:45:00',\n",
      "               '2021-11-26 12:45:00', '2021-11-27 12:45:00',\n",
      "               '2021-11-28 12:45:00'],\n",
      "              dtype='datetime64[ns]', freq='D')\n",
      "DatetimeIndex(['2021-11-22 12:45:00', '2021-11-22 12:45:01',\n",
      "               '2021-11-22 12:45:02', '2021-11-22 12:45:03',\n",
      "               '2021-11-22 12:45:04', '2021-11-22 12:45:05',\n",
      "               '2021-11-22 12:45:06', '2021-11-22 12:45:07',\n",
      "               '2021-11-22 12:45:08', '2021-11-22 12:45:09',\n",
      "               ...\n",
      "               '2021-11-22 13:44:50', '2021-11-22 13:44:51',\n",
      "               '2021-11-22 13:44:52', '2021-11-22 13:44:53',\n",
      "               '2021-11-22 13:44:54', '2021-11-22 13:44:55',\n",
      "               '2021-11-22 13:44:56', '2021-11-22 13:44:57',\n",
      "               '2021-11-22 13:44:58', '2021-11-22 13:44:59'],\n",
      "              dtype='datetime64[ns]', length=3600, freq='S')\n"
     ]
    }
   ],
   "source": [
    "# to define a date, the datetime module is very useful\n",
    "import datetime as dt\n",
    "date = dt.date.today()\n",
    "print(date)\n",
    "\n",
    "date = dt.datetime(2021,11,22,12,45,10,15)\n",
    "print (date)\n",
    "\n",
    "# otherwise, several notations are interpreted too\n",
    "date = 'Nov 22 2021'\n",
    "# or alternatively\n",
    "date = '22/11/2021 12:45:00'\n",
    "print (date)\n",
    "\n",
    "days = pd.date_range(date, periods=7, freq='D')\n",
    "print (days)\n",
    "\n",
    "seconds = pd.date_range(date, periods=3600, freq='s')\n",
    "print (seconds)\n"
   ]
  },
  {
   "cell_type": "markdown",
   "metadata": {},
   "source": [
    "To learn more about the frequency strings, please see this [link](http://pandas.pydata.org/pandas-docs/stable/timeseries.html#offset-aliases)\n",
    "\n",
    "\n",
    "Timestamped data is the most basic type of time series data that associates values with points in time. For pandas objects it means using the points in time.\n",
    "\n",
    "functions like `pd.to_datetime` can be used, for instance, when reading information as string from a dataset.\n",
    "\n",
    "Timestamp is the pandas equivalent of python’s Datetime and is interchangeable with it in most cases. "
   ]
  },
  {
   "cell_type": "code",
   "execution_count": 8,
   "metadata": {},
   "outputs": [
    {
     "name": "stdout",
     "output_type": "stream",
     "text": [
      "1604880000000000000\n",
      "<class 'pandas._libs.tslibs.timestamps.Timestamp'>\n",
      "1289520000000000000\n",
      "2010-11-12 00:00:00\n",
      "1289520000000000000\n"
     ]
    }
   ],
   "source": [
    "tstamp = pd.Timestamp(dt.datetime(2020, 11, 9))\n",
    "\n",
    "# internally it counts the nanoseconds from January 1st 19\n",
    "#tstamp = pd.Timestamp(dt.datetime(1970, 1, 1, 0, 0, 0, 1))\n",
    "print(tstamp.value)\n",
    "\n",
    "# when creating a timestamp the format can be explicitly passed\n",
    "ts = pd.to_datetime('2010/11/12', format='%Y/%m/%d')\n",
    "print (type(ts))\n",
    "print (ts.value)\n",
    "ts = pd.to_datetime('12-11-2010 00:00', format='%d-%m-%Y %H:%M')\n",
    "print (ts)\n",
    "print (ts.value)\n",
    "\n"
   ]
  },
  {
   "cell_type": "markdown",
   "metadata": {},
   "source": [
    "A standard series can be created and (range of) elements can be used as indexes"
   ]
  },
  {
   "cell_type": "code",
   "execution_count": 9,
   "metadata": {
    "scrolled": true
   },
   "outputs": [
    {
     "name": "stdout",
     "output_type": "stream",
     "text": [
      "2021-11-22 12:45:00    10.055569\n",
      "2021-11-23 12:45:00     6.951294\n",
      "2021-11-24 12:45:00     9.132300\n",
      "2021-11-25 12:45:00    11.231721\n",
      "Freq: D, dtype: float64 \n",
      "\n",
      "2021-11-22 12:45:00    10.055569\n",
      "2021-11-23 12:45:00     6.951294\n",
      "Freq: D, dtype: float64 \n",
      "\n"
     ]
    }
   ],
   "source": [
    "tseries = pd.Series(np.random.normal(10, 1, len(days)), index=days)\n",
    "# Extracting elements\n",
    "print (tseries[0:4], '\\n')\n",
    "print (tseries['2021-11-22':'2021-11-23'], '\\n') # Note - includes end time\n"
   ]
  },
  {
   "cell_type": "markdown",
   "metadata": {},
   "source": [
    "`pd.to_datetime` can also be used to create a `DatetimeIndex`:"
   ]
  },
  {
   "cell_type": "code",
   "execution_count": 10,
   "metadata": {},
   "outputs": [
    {
     "data": {
      "text/plain": [
       "DatetimeIndex(['1980-02-04', '1980-02-05', '1980-02-06', '1980-02-07'], dtype='datetime64[ns]', freq=None)"
      ]
     },
     "execution_count": 10,
     "metadata": {},
     "output_type": "execute_result"
    }
   ],
   "source": [
    "pd.to_datetime([1, 2, 3, 4], unit='D', origin=pd.Timestamp('1980-02-03'))"
   ]
  },
  {
   "cell_type": "markdown",
   "metadata": {},
   "source": [
    "## DataFrame\n",
    "\n",
    "A pandas DataFrame is like a simple tabular spreadsheet. For future reference (or for people already familiar with R), a pandas DataFrame is very similar to the R DataFrame.\n",
    "\n",
    "Each column in a DataFrame is a Series object.\n",
    "\n",
    "The element can be whatever, missing data are dealt with too (as NaN)"
   ]
  },
  {
   "cell_type": "markdown",
   "metadata": {},
   "source": [
    "### DataFrame creation\n",
    "\n",
    "A DataFrame can be created implicitly, with, e.g., a DatatimeIndex object as index:"
   ]
  },
  {
   "cell_type": "code",
   "execution_count": 11,
   "metadata": {},
   "outputs": [
    {
     "data": {
      "text/html": [
       "<div>\n",
       "<style scoped>\n",
       "    .dataframe tbody tr th:only-of-type {\n",
       "        vertical-align: middle;\n",
       "    }\n",
       "\n",
       "    .dataframe tbody tr th {\n",
       "        vertical-align: top;\n",
       "    }\n",
       "\n",
       "    .dataframe thead th {\n",
       "        text-align: right;\n",
       "    }\n",
       "</style>\n",
       "<table border=\"1\" class=\"dataframe\">\n",
       "  <thead>\n",
       "    <tr style=\"text-align: right;\">\n",
       "      <th></th>\n",
       "      <th>A</th>\n",
       "      <th>B</th>\n",
       "      <th>C</th>\n",
       "      <th>D</th>\n",
       "    </tr>\n",
       "  </thead>\n",
       "  <tbody>\n",
       "    <tr>\n",
       "      <th>2021-11-22 12:45:00</th>\n",
       "      <td>0.215546</td>\n",
       "      <td>-0.331504</td>\n",
       "      <td>0.420167</td>\n",
       "      <td>1.347315</td>\n",
       "    </tr>\n",
       "    <tr>\n",
       "      <th>2021-11-22 13:45:00</th>\n",
       "      <td>-0.793141</td>\n",
       "      <td>0.561186</td>\n",
       "      <td>1.514655</td>\n",
       "      <td>0.918275</td>\n",
       "    </tr>\n",
       "    <tr>\n",
       "      <th>2021-11-22 14:45:00</th>\n",
       "      <td>-0.049417</td>\n",
       "      <td>-0.694908</td>\n",
       "      <td>0.075308</td>\n",
       "      <td>-1.668304</td>\n",
       "    </tr>\n",
       "    <tr>\n",
       "      <th>2021-11-22 15:45:00</th>\n",
       "      <td>1.120760</td>\n",
       "      <td>1.020184</td>\n",
       "      <td>-0.119975</td>\n",
       "      <td>1.031548</td>\n",
       "    </tr>\n",
       "    <tr>\n",
       "      <th>2021-11-22 16:45:00</th>\n",
       "      <td>-0.186316</td>\n",
       "      <td>0.023033</td>\n",
       "      <td>-0.215479</td>\n",
       "      <td>-0.287224</td>\n",
       "    </tr>\n",
       "    <tr>\n",
       "      <th>2021-11-22 17:45:00</th>\n",
       "      <td>-0.634260</td>\n",
       "      <td>0.302183</td>\n",
       "      <td>0.658447</td>\n",
       "      <td>0.145849</td>\n",
       "    </tr>\n",
       "    <tr>\n",
       "      <th>2021-11-22 18:45:00</th>\n",
       "      <td>0.262529</td>\n",
       "      <td>-0.875617</td>\n",
       "      <td>-1.089628</td>\n",
       "      <td>-0.603398</td>\n",
       "    </tr>\n",
       "    <tr>\n",
       "      <th>2021-11-22 19:45:00</th>\n",
       "      <td>0.762742</td>\n",
       "      <td>-0.975945</td>\n",
       "      <td>-0.937252</td>\n",
       "      <td>1.141818</td>\n",
       "    </tr>\n",
       "    <tr>\n",
       "      <th>2021-11-22 20:45:00</th>\n",
       "      <td>-0.320808</td>\n",
       "      <td>0.918337</td>\n",
       "      <td>1.015409</td>\n",
       "      <td>1.054893</td>\n",
       "    </tr>\n",
       "    <tr>\n",
       "      <th>2021-11-22 21:45:00</th>\n",
       "      <td>0.078237</td>\n",
       "      <td>0.678069</td>\n",
       "      <td>-0.309177</td>\n",
       "      <td>-0.205146</td>\n",
       "    </tr>\n",
       "  </tbody>\n",
       "</table>\n",
       "</div>"
      ],
      "text/plain": [
       "                            A         B         C         D\n",
       "2021-11-22 12:45:00  0.215546 -0.331504  0.420167  1.347315\n",
       "2021-11-22 13:45:00 -0.793141  0.561186  1.514655  0.918275\n",
       "2021-11-22 14:45:00 -0.049417 -0.694908  0.075308 -1.668304\n",
       "2021-11-22 15:45:00  1.120760  1.020184 -0.119975  1.031548\n",
       "2021-11-22 16:45:00 -0.186316  0.023033 -0.215479 -0.287224\n",
       "2021-11-22 17:45:00 -0.634260  0.302183  0.658447  0.145849\n",
       "2021-11-22 18:45:00  0.262529 -0.875617 -1.089628 -0.603398\n",
       "2021-11-22 19:45:00  0.762742 -0.975945 -0.937252  1.141818\n",
       "2021-11-22 20:45:00 -0.320808  0.918337  1.015409  1.054893\n",
       "2021-11-22 21:45:00  0.078237  0.678069 -0.309177 -0.205146"
      ]
     },
     "execution_count": 11,
     "metadata": {},
     "output_type": "execute_result"
    }
   ],
   "source": [
    "entries=10\n",
    "dates=pd.date_range('11/22/2021 12:45:00',freq='h', periods=entries)\n",
    "df = pd.DataFrame(np.random.randn(entries,4), index=dates, columns=['A','B','C','D'])\n",
    "df\n"
   ]
  },
  {
   "cell_type": "markdown",
   "metadata": {},
   "source": [
    "or by means of a dictionary:\n"
   ]
  },
  {
   "cell_type": "code",
   "execution_count": 17,
   "metadata": {},
   "outputs": [
    {
     "data": {
      "text/html": [
       "<div>\n",
       "<style scoped>\n",
       "    .dataframe tbody tr th:only-of-type {\n",
       "        vertical-align: middle;\n",
       "    }\n",
       "\n",
       "    .dataframe tbody tr th {\n",
       "        vertical-align: top;\n",
       "    }\n",
       "\n",
       "    .dataframe thead th {\n",
       "        text-align: right;\n",
       "    }\n",
       "</style>\n",
       "<table border=\"1\" class=\"dataframe\">\n",
       "  <thead>\n",
       "    <tr style=\"text-align: right;\">\n",
       "      <th></th>\n",
       "      <th>A</th>\n",
       "      <th>B</th>\n",
       "      <th>C</th>\n",
       "      <th>D</th>\n",
       "      <th>E</th>\n",
       "    </tr>\n",
       "  </thead>\n",
       "  <tbody>\n",
       "    <tr>\n",
       "      <th>0</th>\n",
       "      <td>1.0</td>\n",
       "      <td>2013-01-02</td>\n",
       "      <td>1.0</td>\n",
       "      <td>7</td>\n",
       "      <td>test</td>\n",
       "    </tr>\n",
       "    <tr>\n",
       "      <th>1</th>\n",
       "      <td>1.0</td>\n",
       "      <td>2013-01-02</td>\n",
       "      <td>1.0</td>\n",
       "      <td>8</td>\n",
       "      <td>train</td>\n",
       "    </tr>\n",
       "    <tr>\n",
       "      <th>2</th>\n",
       "      <td>1.0</td>\n",
       "      <td>2013-01-02</td>\n",
       "      <td>1.0</td>\n",
       "      <td>9</td>\n",
       "      <td>test</td>\n",
       "    </tr>\n",
       "    <tr>\n",
       "      <th>3</th>\n",
       "      <td>1.0</td>\n",
       "      <td>2013-01-02</td>\n",
       "      <td>1.0</td>\n",
       "      <td>10</td>\n",
       "      <td>train</td>\n",
       "    </tr>\n",
       "  </tbody>\n",
       "</table>\n",
       "</div>"
      ],
      "text/plain": [
       "     A          B    C   D      E\n",
       "0  1.0 2013-01-02  1.0   7   test\n",
       "1  1.0 2013-01-02  1.0   8  train\n",
       "2  1.0 2013-01-02  1.0   9   test\n",
       "3  1.0 2013-01-02  1.0  10  train"
      ]
     },
     "execution_count": 17,
     "metadata": {},
     "output_type": "execute_result"
    }
   ],
   "source": [
    "df2 = pd.DataFrame(\n",
    "    { 'A' : 1.,\n",
    "      'B' : pd.Timestamp('20130102'),\n",
    "      'C' : pd.Series(1,index=range(4),dtype='float32'),\n",
    "      'D' : np.arange(7,11),\n",
    "      'E' : pd.Categorical([\"test\",\"train\",\"test\",\"train\"]),\n",
    "    }\n",
    "    )\n",
    "df2\n",
    "\n",
    "# check what happens if D and E had different lenghts "
   ]
  },
  {
   "cell_type": "markdown",
   "metadata": {},
   "source": [
    "### Viewing Data"
   ]
  },
  {
   "cell_type": "code",
   "execution_count": 18,
   "metadata": {},
   "outputs": [
    {
     "data": {
      "text/html": [
       "<div>\n",
       "<style scoped>\n",
       "    .dataframe tbody tr th:only-of-type {\n",
       "        vertical-align: middle;\n",
       "    }\n",
       "\n",
       "    .dataframe tbody tr th {\n",
       "        vertical-align: top;\n",
       "    }\n",
       "\n",
       "    .dataframe thead th {\n",
       "        text-align: right;\n",
       "    }\n",
       "</style>\n",
       "<table border=\"1\" class=\"dataframe\">\n",
       "  <thead>\n",
       "    <tr style=\"text-align: right;\">\n",
       "      <th></th>\n",
       "      <th>A</th>\n",
       "      <th>B</th>\n",
       "      <th>C</th>\n",
       "      <th>D</th>\n",
       "    </tr>\n",
       "  </thead>\n",
       "  <tbody>\n",
       "    <tr>\n",
       "      <th>2021-11-22 12:45:00</th>\n",
       "      <td>0.215546</td>\n",
       "      <td>-0.331504</td>\n",
       "      <td>0.420167</td>\n",
       "      <td>1.347315</td>\n",
       "    </tr>\n",
       "    <tr>\n",
       "      <th>2021-11-22 13:45:00</th>\n",
       "      <td>-0.793141</td>\n",
       "      <td>0.561186</td>\n",
       "      <td>1.514655</td>\n",
       "      <td>0.918275</td>\n",
       "    </tr>\n",
       "  </tbody>\n",
       "</table>\n",
       "</div>"
      ],
      "text/plain": [
       "                            A         B         C         D\n",
       "2021-11-22 12:45:00  0.215546 -0.331504  0.420167  1.347315\n",
       "2021-11-22 13:45:00 -0.793141  0.561186  1.514655  0.918275"
      ]
     },
     "execution_count": 18,
     "metadata": {},
     "output_type": "execute_result"
    }
   ],
   "source": [
    "df.head(2)"
   ]
  },
  {
   "cell_type": "code",
   "execution_count": 19,
   "metadata": {},
   "outputs": [
    {
     "data": {
      "text/html": [
       "<div>\n",
       "<style scoped>\n",
       "    .dataframe tbody tr th:only-of-type {\n",
       "        vertical-align: middle;\n",
       "    }\n",
       "\n",
       "    .dataframe tbody tr th {\n",
       "        vertical-align: top;\n",
       "    }\n",
       "\n",
       "    .dataframe thead th {\n",
       "        text-align: right;\n",
       "    }\n",
       "</style>\n",
       "<table border=\"1\" class=\"dataframe\">\n",
       "  <thead>\n",
       "    <tr style=\"text-align: right;\">\n",
       "      <th></th>\n",
       "      <th>A</th>\n",
       "      <th>B</th>\n",
       "      <th>C</th>\n",
       "      <th>D</th>\n",
       "    </tr>\n",
       "  </thead>\n",
       "  <tbody>\n",
       "    <tr>\n",
       "      <th>2021-11-22 18:45:00</th>\n",
       "      <td>0.262529</td>\n",
       "      <td>-0.875617</td>\n",
       "      <td>-1.089628</td>\n",
       "      <td>-0.603398</td>\n",
       "    </tr>\n",
       "    <tr>\n",
       "      <th>2021-11-22 19:45:00</th>\n",
       "      <td>0.762742</td>\n",
       "      <td>-0.975945</td>\n",
       "      <td>-0.937252</td>\n",
       "      <td>1.141818</td>\n",
       "    </tr>\n",
       "    <tr>\n",
       "      <th>2021-11-22 20:45:00</th>\n",
       "      <td>-0.320808</td>\n",
       "      <td>0.918337</td>\n",
       "      <td>1.015409</td>\n",
       "      <td>1.054893</td>\n",
       "    </tr>\n",
       "    <tr>\n",
       "      <th>2021-11-22 21:45:00</th>\n",
       "      <td>0.078237</td>\n",
       "      <td>0.678069</td>\n",
       "      <td>-0.309177</td>\n",
       "      <td>-0.205146</td>\n",
       "    </tr>\n",
       "  </tbody>\n",
       "</table>\n",
       "</div>"
      ],
      "text/plain": [
       "                            A         B         C         D\n",
       "2021-11-22 18:45:00  0.262529 -0.875617 -1.089628 -0.603398\n",
       "2021-11-22 19:45:00  0.762742 -0.975945 -0.937252  1.141818\n",
       "2021-11-22 20:45:00 -0.320808  0.918337  1.015409  1.054893\n",
       "2021-11-22 21:45:00  0.078237  0.678069 -0.309177 -0.205146"
      ]
     },
     "execution_count": 19,
     "metadata": {},
     "output_type": "execute_result"
    }
   ],
   "source": [
    "df.tail(4)"
   ]
  },
  {
   "cell_type": "code",
   "execution_count": 20,
   "metadata": {},
   "outputs": [
    {
     "data": {
      "text/plain": [
       "DatetimeIndex(['2021-11-22 12:45:00', '2021-11-22 13:45:00',\n",
       "               '2021-11-22 14:45:00', '2021-11-22 15:45:00',\n",
       "               '2021-11-22 16:45:00', '2021-11-22 17:45:00',\n",
       "               '2021-11-22 18:45:00', '2021-11-22 19:45:00',\n",
       "               '2021-11-22 20:45:00', '2021-11-22 21:45:00'],\n",
       "              dtype='datetime64[ns]', freq='H')"
      ]
     },
     "execution_count": 20,
     "metadata": {},
     "output_type": "execute_result"
    }
   ],
   "source": [
    "df.index"
   ]
  },
  {
   "cell_type": "code",
   "execution_count": 21,
   "metadata": {},
   "outputs": [
    {
     "data": {
      "text/plain": [
       "Index(['A', 'B', 'C', 'D'], dtype='object')"
      ]
     },
     "execution_count": 21,
     "metadata": {},
     "output_type": "execute_result"
    }
   ],
   "source": [
    "df.columns"
   ]
  },
  {
   "cell_type": "code",
   "execution_count": 22,
   "metadata": {},
   "outputs": [
    {
     "data": {
      "text/plain": [
       "array([[ 0.21554551, -0.33150388,  0.42016692,  1.34731502],\n",
       "       [-0.79314069,  0.56118592,  1.51465528,  0.91827544],\n",
       "       [-0.04941657, -0.69490823,  0.07530757, -1.66830381],\n",
       "       [ 1.1207605 ,  1.02018432, -0.11997495,  1.03154826],\n",
       "       [-0.18631552,  0.02303272, -0.21547854, -0.28722443],\n",
       "       [-0.63426017,  0.30218326,  0.6584475 ,  0.14584928],\n",
       "       [ 0.26252871, -0.87561747, -1.08962757, -0.60339767],\n",
       "       [ 0.76274234, -0.97594532, -0.93725206,  1.14181788],\n",
       "       [-0.32080824,  0.91833732,  1.01540869,  1.05489289],\n",
       "       [ 0.07823657,  0.67806905, -0.30917667, -0.20514575]])"
      ]
     },
     "execution_count": 22,
     "metadata": {},
     "output_type": "execute_result"
    }
   ],
   "source": [
    "df.values"
   ]
  },
  {
   "cell_type": "code",
   "execution_count": 23,
   "metadata": {},
   "outputs": [
    {
     "data": {
      "text/html": [
       "<div>\n",
       "<style scoped>\n",
       "    .dataframe tbody tr th:only-of-type {\n",
       "        vertical-align: middle;\n",
       "    }\n",
       "\n",
       "    .dataframe tbody tr th {\n",
       "        vertical-align: top;\n",
       "    }\n",
       "\n",
       "    .dataframe thead th {\n",
       "        text-align: right;\n",
       "    }\n",
       "</style>\n",
       "<table border=\"1\" class=\"dataframe\">\n",
       "  <thead>\n",
       "    <tr style=\"text-align: right;\">\n",
       "      <th></th>\n",
       "      <th>A</th>\n",
       "      <th>B</th>\n",
       "      <th>C</th>\n",
       "      <th>D</th>\n",
       "    </tr>\n",
       "  </thead>\n",
       "  <tbody>\n",
       "    <tr>\n",
       "      <th>count</th>\n",
       "      <td>10.000000</td>\n",
       "      <td>10.000000</td>\n",
       "      <td>10.000000</td>\n",
       "      <td>10.000000</td>\n",
       "    </tr>\n",
       "    <tr>\n",
       "      <th>mean</th>\n",
       "      <td>0.045587</td>\n",
       "      <td>0.062502</td>\n",
       "      <td>0.101248</td>\n",
       "      <td>0.287563</td>\n",
       "    </tr>\n",
       "    <tr>\n",
       "      <th>std</th>\n",
       "      <td>0.587843</td>\n",
       "      <td>0.747111</td>\n",
       "      <td>0.820612</td>\n",
       "      <td>0.977831</td>\n",
       "    </tr>\n",
       "    <tr>\n",
       "      <th>min</th>\n",
       "      <td>-0.793141</td>\n",
       "      <td>-0.975945</td>\n",
       "      <td>-1.089628</td>\n",
       "      <td>-1.668304</td>\n",
       "    </tr>\n",
       "    <tr>\n",
       "      <th>25%</th>\n",
       "      <td>-0.287185</td>\n",
       "      <td>-0.604057</td>\n",
       "      <td>-0.285752</td>\n",
       "      <td>-0.266705</td>\n",
       "    </tr>\n",
       "    <tr>\n",
       "      <th>50%</th>\n",
       "      <td>0.014410</td>\n",
       "      <td>0.162608</td>\n",
       "      <td>-0.022334</td>\n",
       "      <td>0.532062</td>\n",
       "    </tr>\n",
       "    <tr>\n",
       "      <th>75%</th>\n",
       "      <td>0.250783</td>\n",
       "      <td>0.648848</td>\n",
       "      <td>0.598877</td>\n",
       "      <td>1.049057</td>\n",
       "    </tr>\n",
       "    <tr>\n",
       "      <th>max</th>\n",
       "      <td>1.120760</td>\n",
       "      <td>1.020184</td>\n",
       "      <td>1.514655</td>\n",
       "      <td>1.347315</td>\n",
       "    </tr>\n",
       "  </tbody>\n",
       "</table>\n",
       "</div>"
      ],
      "text/plain": [
       "               A          B          C          D\n",
       "count  10.000000  10.000000  10.000000  10.000000\n",
       "mean    0.045587   0.062502   0.101248   0.287563\n",
       "std     0.587843   0.747111   0.820612   0.977831\n",
       "min    -0.793141  -0.975945  -1.089628  -1.668304\n",
       "25%    -0.287185  -0.604057  -0.285752  -0.266705\n",
       "50%     0.014410   0.162608  -0.022334   0.532062\n",
       "75%     0.250783   0.648848   0.598877   1.049057\n",
       "max     1.120760   1.020184   1.514655   1.347315"
      ]
     },
     "execution_count": 23,
     "metadata": {},
     "output_type": "execute_result"
    }
   ],
   "source": [
    "df.describe()"
   ]
  },
  {
   "cell_type": "code",
   "execution_count": 24,
   "metadata": {},
   "outputs": [
    {
     "data": {
      "text/html": [
       "<div>\n",
       "<style scoped>\n",
       "    .dataframe tbody tr th:only-of-type {\n",
       "        vertical-align: middle;\n",
       "    }\n",
       "\n",
       "    .dataframe tbody tr th {\n",
       "        vertical-align: top;\n",
       "    }\n",
       "\n",
       "    .dataframe thead th {\n",
       "        text-align: right;\n",
       "    }\n",
       "</style>\n",
       "<table border=\"1\" class=\"dataframe\">\n",
       "  <thead>\n",
       "    <tr style=\"text-align: right;\">\n",
       "      <th></th>\n",
       "      <th>2021-11-22 12:45:00</th>\n",
       "      <th>2021-11-22 13:45:00</th>\n",
       "      <th>2021-11-22 14:45:00</th>\n",
       "      <th>2021-11-22 15:45:00</th>\n",
       "      <th>2021-11-22 16:45:00</th>\n",
       "      <th>2021-11-22 17:45:00</th>\n",
       "      <th>2021-11-22 18:45:00</th>\n",
       "      <th>2021-11-22 19:45:00</th>\n",
       "      <th>2021-11-22 20:45:00</th>\n",
       "      <th>2021-11-22 21:45:00</th>\n",
       "    </tr>\n",
       "  </thead>\n",
       "  <tbody>\n",
       "    <tr>\n",
       "      <th>A</th>\n",
       "      <td>0.215546</td>\n",
       "      <td>-0.793141</td>\n",
       "      <td>-0.049417</td>\n",
       "      <td>1.120760</td>\n",
       "      <td>-0.186316</td>\n",
       "      <td>-0.634260</td>\n",
       "      <td>0.262529</td>\n",
       "      <td>0.762742</td>\n",
       "      <td>-0.320808</td>\n",
       "      <td>0.078237</td>\n",
       "    </tr>\n",
       "    <tr>\n",
       "      <th>B</th>\n",
       "      <td>-0.331504</td>\n",
       "      <td>0.561186</td>\n",
       "      <td>-0.694908</td>\n",
       "      <td>1.020184</td>\n",
       "      <td>0.023033</td>\n",
       "      <td>0.302183</td>\n",
       "      <td>-0.875617</td>\n",
       "      <td>-0.975945</td>\n",
       "      <td>0.918337</td>\n",
       "      <td>0.678069</td>\n",
       "    </tr>\n",
       "    <tr>\n",
       "      <th>C</th>\n",
       "      <td>0.420167</td>\n",
       "      <td>1.514655</td>\n",
       "      <td>0.075308</td>\n",
       "      <td>-0.119975</td>\n",
       "      <td>-0.215479</td>\n",
       "      <td>0.658447</td>\n",
       "      <td>-1.089628</td>\n",
       "      <td>-0.937252</td>\n",
       "      <td>1.015409</td>\n",
       "      <td>-0.309177</td>\n",
       "    </tr>\n",
       "    <tr>\n",
       "      <th>D</th>\n",
       "      <td>1.347315</td>\n",
       "      <td>0.918275</td>\n",
       "      <td>-1.668304</td>\n",
       "      <td>1.031548</td>\n",
       "      <td>-0.287224</td>\n",
       "      <td>0.145849</td>\n",
       "      <td>-0.603398</td>\n",
       "      <td>1.141818</td>\n",
       "      <td>1.054893</td>\n",
       "      <td>-0.205146</td>\n",
       "    </tr>\n",
       "  </tbody>\n",
       "</table>\n",
       "</div>"
      ],
      "text/plain": [
       "   2021-11-22 12:45:00  2021-11-22 13:45:00  2021-11-22 14:45:00  \\\n",
       "A             0.215546            -0.793141            -0.049417   \n",
       "B            -0.331504             0.561186            -0.694908   \n",
       "C             0.420167             1.514655             0.075308   \n",
       "D             1.347315             0.918275            -1.668304   \n",
       "\n",
       "   2021-11-22 15:45:00  2021-11-22 16:45:00  2021-11-22 17:45:00  \\\n",
       "A             1.120760            -0.186316            -0.634260   \n",
       "B             1.020184             0.023033             0.302183   \n",
       "C            -0.119975            -0.215479             0.658447   \n",
       "D             1.031548            -0.287224             0.145849   \n",
       "\n",
       "   2021-11-22 18:45:00  2021-11-22 19:45:00  2021-11-22 20:45:00  \\\n",
       "A             0.262529             0.762742            -0.320808   \n",
       "B            -0.875617            -0.975945             0.918337   \n",
       "C            -1.089628            -0.937252             1.015409   \n",
       "D            -0.603398             1.141818             1.054893   \n",
       "\n",
       "   2021-11-22 21:45:00  \n",
       "A             0.078237  \n",
       "B             0.678069  \n",
       "C            -0.309177  \n",
       "D            -0.205146  "
      ]
     },
     "execution_count": 24,
     "metadata": {},
     "output_type": "execute_result"
    }
   ],
   "source": [
    "df.T"
   ]
  },
  {
   "cell_type": "code",
   "execution_count": 25,
   "metadata": {},
   "outputs": [
    {
     "data": {
      "text/html": [
       "<div>\n",
       "<style scoped>\n",
       "    .dataframe tbody tr th:only-of-type {\n",
       "        vertical-align: middle;\n",
       "    }\n",
       "\n",
       "    .dataframe tbody tr th {\n",
       "        vertical-align: top;\n",
       "    }\n",
       "\n",
       "    .dataframe thead th {\n",
       "        text-align: right;\n",
       "    }\n",
       "</style>\n",
       "<table border=\"1\" class=\"dataframe\">\n",
       "  <thead>\n",
       "    <tr style=\"text-align: right;\">\n",
       "      <th></th>\n",
       "      <th>A</th>\n",
       "      <th>B</th>\n",
       "      <th>C</th>\n",
       "      <th>D</th>\n",
       "    </tr>\n",
       "  </thead>\n",
       "  <tbody>\n",
       "    <tr>\n",
       "      <th>2021-11-22 12:45:00</th>\n",
       "      <td>0.215546</td>\n",
       "      <td>-0.331504</td>\n",
       "      <td>0.420167</td>\n",
       "      <td>1.347315</td>\n",
       "    </tr>\n",
       "    <tr>\n",
       "      <th>2021-11-22 13:45:00</th>\n",
       "      <td>-0.793141</td>\n",
       "      <td>0.561186</td>\n",
       "      <td>1.514655</td>\n",
       "      <td>0.918275</td>\n",
       "    </tr>\n",
       "    <tr>\n",
       "      <th>2021-11-22 14:45:00</th>\n",
       "      <td>-0.049417</td>\n",
       "      <td>-0.694908</td>\n",
       "      <td>0.075308</td>\n",
       "      <td>-1.668304</td>\n",
       "    </tr>\n",
       "    <tr>\n",
       "      <th>2021-11-22 15:45:00</th>\n",
       "      <td>1.120760</td>\n",
       "      <td>1.020184</td>\n",
       "      <td>-0.119975</td>\n",
       "      <td>1.031548</td>\n",
       "    </tr>\n",
       "    <tr>\n",
       "      <th>2021-11-22 16:45:00</th>\n",
       "      <td>-0.186316</td>\n",
       "      <td>0.023033</td>\n",
       "      <td>-0.215479</td>\n",
       "      <td>-0.287224</td>\n",
       "    </tr>\n",
       "    <tr>\n",
       "      <th>2021-11-22 17:45:00</th>\n",
       "      <td>-0.634260</td>\n",
       "      <td>0.302183</td>\n",
       "      <td>0.658447</td>\n",
       "      <td>0.145849</td>\n",
       "    </tr>\n",
       "    <tr>\n",
       "      <th>2021-11-22 18:45:00</th>\n",
       "      <td>0.262529</td>\n",
       "      <td>-0.875617</td>\n",
       "      <td>-1.089628</td>\n",
       "      <td>-0.603398</td>\n",
       "    </tr>\n",
       "    <tr>\n",
       "      <th>2021-11-22 19:45:00</th>\n",
       "      <td>0.762742</td>\n",
       "      <td>-0.975945</td>\n",
       "      <td>-0.937252</td>\n",
       "      <td>1.141818</td>\n",
       "    </tr>\n",
       "    <tr>\n",
       "      <th>2021-11-22 20:45:00</th>\n",
       "      <td>-0.320808</td>\n",
       "      <td>0.918337</td>\n",
       "      <td>1.015409</td>\n",
       "      <td>1.054893</td>\n",
       "    </tr>\n",
       "    <tr>\n",
       "      <th>2021-11-22 21:45:00</th>\n",
       "      <td>0.078237</td>\n",
       "      <td>0.678069</td>\n",
       "      <td>-0.309177</td>\n",
       "      <td>-0.205146</td>\n",
       "    </tr>\n",
       "  </tbody>\n",
       "</table>\n",
       "</div>"
      ],
      "text/plain": [
       "                            A         B         C         D\n",
       "2021-11-22 12:45:00  0.215546 -0.331504  0.420167  1.347315\n",
       "2021-11-22 13:45:00 -0.793141  0.561186  1.514655  0.918275\n",
       "2021-11-22 14:45:00 -0.049417 -0.694908  0.075308 -1.668304\n",
       "2021-11-22 15:45:00  1.120760  1.020184 -0.119975  1.031548\n",
       "2021-11-22 16:45:00 -0.186316  0.023033 -0.215479 -0.287224\n",
       "2021-11-22 17:45:00 -0.634260  0.302183  0.658447  0.145849\n",
       "2021-11-22 18:45:00  0.262529 -0.875617 -1.089628 -0.603398\n",
       "2021-11-22 19:45:00  0.762742 -0.975945 -0.937252  1.141818\n",
       "2021-11-22 20:45:00 -0.320808  0.918337  1.015409  1.054893\n",
       "2021-11-22 21:45:00  0.078237  0.678069 -0.309177 -0.205146"
      ]
     },
     "execution_count": 25,
     "metadata": {},
     "output_type": "execute_result"
    }
   ],
   "source": [
    "df.sort_index(axis=0,ascending=True)"
   ]
  },
  {
   "cell_type": "code",
   "execution_count": 26,
   "metadata": {},
   "outputs": [
    {
     "data": {
      "text/html": [
       "<div>\n",
       "<style scoped>\n",
       "    .dataframe tbody tr th:only-of-type {\n",
       "        vertical-align: middle;\n",
       "    }\n",
       "\n",
       "    .dataframe tbody tr th {\n",
       "        vertical-align: top;\n",
       "    }\n",
       "\n",
       "    .dataframe thead th {\n",
       "        text-align: right;\n",
       "    }\n",
       "</style>\n",
       "<table border=\"1\" class=\"dataframe\">\n",
       "  <thead>\n",
       "    <tr style=\"text-align: right;\">\n",
       "      <th></th>\n",
       "      <th>A</th>\n",
       "      <th>B</th>\n",
       "      <th>C</th>\n",
       "      <th>D</th>\n",
       "    </tr>\n",
       "  </thead>\n",
       "  <tbody>\n",
       "    <tr>\n",
       "      <th>2021-11-22 18:45:00</th>\n",
       "      <td>0.262529</td>\n",
       "      <td>-0.875617</td>\n",
       "      <td>-1.089628</td>\n",
       "      <td>-0.603398</td>\n",
       "    </tr>\n",
       "    <tr>\n",
       "      <th>2021-11-22 19:45:00</th>\n",
       "      <td>0.762742</td>\n",
       "      <td>-0.975945</td>\n",
       "      <td>-0.937252</td>\n",
       "      <td>1.141818</td>\n",
       "    </tr>\n",
       "    <tr>\n",
       "      <th>2021-11-22 21:45:00</th>\n",
       "      <td>0.078237</td>\n",
       "      <td>0.678069</td>\n",
       "      <td>-0.309177</td>\n",
       "      <td>-0.205146</td>\n",
       "    </tr>\n",
       "    <tr>\n",
       "      <th>2021-11-22 16:45:00</th>\n",
       "      <td>-0.186316</td>\n",
       "      <td>0.023033</td>\n",
       "      <td>-0.215479</td>\n",
       "      <td>-0.287224</td>\n",
       "    </tr>\n",
       "    <tr>\n",
       "      <th>2021-11-22 15:45:00</th>\n",
       "      <td>1.120760</td>\n",
       "      <td>1.020184</td>\n",
       "      <td>-0.119975</td>\n",
       "      <td>1.031548</td>\n",
       "    </tr>\n",
       "    <tr>\n",
       "      <th>2021-11-22 14:45:00</th>\n",
       "      <td>-0.049417</td>\n",
       "      <td>-0.694908</td>\n",
       "      <td>0.075308</td>\n",
       "      <td>-1.668304</td>\n",
       "    </tr>\n",
       "    <tr>\n",
       "      <th>2021-11-22 12:45:00</th>\n",
       "      <td>0.215546</td>\n",
       "      <td>-0.331504</td>\n",
       "      <td>0.420167</td>\n",
       "      <td>1.347315</td>\n",
       "    </tr>\n",
       "    <tr>\n",
       "      <th>2021-11-22 17:45:00</th>\n",
       "      <td>-0.634260</td>\n",
       "      <td>0.302183</td>\n",
       "      <td>0.658447</td>\n",
       "      <td>0.145849</td>\n",
       "    </tr>\n",
       "    <tr>\n",
       "      <th>2021-11-22 20:45:00</th>\n",
       "      <td>-0.320808</td>\n",
       "      <td>0.918337</td>\n",
       "      <td>1.015409</td>\n",
       "      <td>1.054893</td>\n",
       "    </tr>\n",
       "    <tr>\n",
       "      <th>2021-11-22 13:45:00</th>\n",
       "      <td>-0.793141</td>\n",
       "      <td>0.561186</td>\n",
       "      <td>1.514655</td>\n",
       "      <td>0.918275</td>\n",
       "    </tr>\n",
       "  </tbody>\n",
       "</table>\n",
       "</div>"
      ],
      "text/plain": [
       "                            A         B         C         D\n",
       "2021-11-22 18:45:00  0.262529 -0.875617 -1.089628 -0.603398\n",
       "2021-11-22 19:45:00  0.762742 -0.975945 -0.937252  1.141818\n",
       "2021-11-22 21:45:00  0.078237  0.678069 -0.309177 -0.205146\n",
       "2021-11-22 16:45:00 -0.186316  0.023033 -0.215479 -0.287224\n",
       "2021-11-22 15:45:00  1.120760  1.020184 -0.119975  1.031548\n",
       "2021-11-22 14:45:00 -0.049417 -0.694908  0.075308 -1.668304\n",
       "2021-11-22 12:45:00  0.215546 -0.331504  0.420167  1.347315\n",
       "2021-11-22 17:45:00 -0.634260  0.302183  0.658447  0.145849\n",
       "2021-11-22 20:45:00 -0.320808  0.918337  1.015409  1.054893\n",
       "2021-11-22 13:45:00 -0.793141  0.561186  1.514655  0.918275"
      ]
     },
     "execution_count": 26,
     "metadata": {},
     "output_type": "execute_result"
    }
   ],
   "source": [
    "df.sort_values(by=\"C\")"
   ]
  },
  {
   "cell_type": "markdown",
   "metadata": {},
   "source": [
    "## Selection\n",
    "\n",
    "### Getting slices\n",
    "\n",
    "The following show how to get part of the DataFrame (i.e. not just the elements)"
   ]
  },
  {
   "cell_type": "code",
   "execution_count": 27,
   "metadata": {},
   "outputs": [
    {
     "name": "stdout",
     "output_type": "stream",
     "text": [
      "2021-11-22 12:45:00    0.215546\n",
      "2021-11-22 13:45:00   -0.793141\n",
      "2021-11-22 14:45:00   -0.049417\n",
      "2021-11-22 15:45:00    1.120760\n",
      "2021-11-22 16:45:00   -0.186316\n",
      "2021-11-22 17:45:00   -0.634260\n",
      "2021-11-22 18:45:00    0.262529\n",
      "2021-11-22 19:45:00    0.762742\n",
      "2021-11-22 20:45:00   -0.320808\n",
      "2021-11-22 21:45:00    0.078237\n",
      "Freq: H, Name: A, dtype: float64 \n",
      "\n",
      "2021-11-22 12:45:00    0.215546\n",
      "2021-11-22 13:45:00   -0.793141\n",
      "2021-11-22 14:45:00   -0.049417\n",
      "2021-11-22 15:45:00    1.120760\n",
      "2021-11-22 16:45:00   -0.186316\n",
      "2021-11-22 17:45:00   -0.634260\n",
      "2021-11-22 18:45:00    0.262529\n",
      "2021-11-22 19:45:00    0.762742\n",
      "2021-11-22 20:45:00   -0.320808\n",
      "2021-11-22 21:45:00    0.078237\n",
      "Freq: H, Name: A, dtype: float64\n"
     ]
    }
   ],
   "source": [
    "## standard and safe\n",
    "print (df['A'],'\\n')\n",
    "\n",
    "## equivalent but dangerous (imagine blank spaces in the name of the column..)\n",
    "print (df.A)"
   ]
  },
  {
   "cell_type": "code",
   "execution_count": 28,
   "metadata": {},
   "outputs": [
    {
     "name": "stdout",
     "output_type": "stream",
     "text": [
      "                            A         B         C         D\n",
      "2021-11-22 12:45:00  0.215546 -0.331504  0.420167  1.347315\n",
      "2021-11-22 13:45:00 -0.793141  0.561186  1.514655  0.918275\n",
      "2021-11-22 14:45:00 -0.049417 -0.694908  0.075308 -1.668304\n",
      "                            A         B         C         D\n",
      "2021-11-22 12:45:00  0.215546 -0.331504  0.420167  1.347315\n",
      "2021-11-22 13:45:00 -0.793141  0.561186  1.514655  0.918275\n",
      "2021-11-22 14:45:00 -0.049417 -0.694908  0.075308 -1.668304\n"
     ]
    }
   ],
   "source": [
    "# selecting rows by counting\n",
    "print (df[0:3])\n",
    "\n",
    "# or by index\n",
    "print (df[\"2021-11-22 12:45:00\":\"2021-11-22 14:45:00\"])"
   ]
  },
  {
   "cell_type": "markdown",
   "metadata": {},
   "source": [
    "### Selection by label"
   ]
  },
  {
   "cell_type": "code",
   "execution_count": 29,
   "metadata": {},
   "outputs": [
    {
     "data": {
      "text/plain": [
       "A    0.215546\n",
       "B   -0.331504\n",
       "C    0.420167\n",
       "D    1.347315\n",
       "Name: 2021-11-22 12:45:00, dtype: float64"
      ]
     },
     "execution_count": 29,
     "metadata": {},
     "output_type": "execute_result"
    }
   ],
   "source": [
    "# getting a cross section (part of the DataFrame) using a label\n",
    "df.loc[dates[0]]"
   ]
  },
  {
   "cell_type": "code",
   "execution_count": 30,
   "metadata": {},
   "outputs": [
    {
     "data": {
      "text/html": [
       "<div>\n",
       "<style scoped>\n",
       "    .dataframe tbody tr th:only-of-type {\n",
       "        vertical-align: middle;\n",
       "    }\n",
       "\n",
       "    .dataframe tbody tr th {\n",
       "        vertical-align: top;\n",
       "    }\n",
       "\n",
       "    .dataframe thead th {\n",
       "        text-align: right;\n",
       "    }\n",
       "</style>\n",
       "<table border=\"1\" class=\"dataframe\">\n",
       "  <thead>\n",
       "    <tr style=\"text-align: right;\">\n",
       "      <th></th>\n",
       "      <th>A</th>\n",
       "      <th>B</th>\n",
       "    </tr>\n",
       "  </thead>\n",
       "  <tbody>\n",
       "    <tr>\n",
       "      <th>2021-11-22 12:45:00</th>\n",
       "      <td>0.215546</td>\n",
       "      <td>-0.331504</td>\n",
       "    </tr>\n",
       "    <tr>\n",
       "      <th>2021-11-22 13:45:00</th>\n",
       "      <td>-0.793141</td>\n",
       "      <td>0.561186</td>\n",
       "    </tr>\n",
       "    <tr>\n",
       "      <th>2021-11-22 14:45:00</th>\n",
       "      <td>-0.049417</td>\n",
       "      <td>-0.694908</td>\n",
       "    </tr>\n",
       "    <tr>\n",
       "      <th>2021-11-22 15:45:00</th>\n",
       "      <td>1.120760</td>\n",
       "      <td>1.020184</td>\n",
       "    </tr>\n",
       "    <tr>\n",
       "      <th>2021-11-22 16:45:00</th>\n",
       "      <td>-0.186316</td>\n",
       "      <td>0.023033</td>\n",
       "    </tr>\n",
       "    <tr>\n",
       "      <th>2021-11-22 17:45:00</th>\n",
       "      <td>-0.634260</td>\n",
       "      <td>0.302183</td>\n",
       "    </tr>\n",
       "    <tr>\n",
       "      <th>2021-11-22 18:45:00</th>\n",
       "      <td>0.262529</td>\n",
       "      <td>-0.875617</td>\n",
       "    </tr>\n",
       "    <tr>\n",
       "      <th>2021-11-22 19:45:00</th>\n",
       "      <td>0.762742</td>\n",
       "      <td>-0.975945</td>\n",
       "    </tr>\n",
       "    <tr>\n",
       "      <th>2021-11-22 20:45:00</th>\n",
       "      <td>-0.320808</td>\n",
       "      <td>0.918337</td>\n",
       "    </tr>\n",
       "    <tr>\n",
       "      <th>2021-11-22 21:45:00</th>\n",
       "      <td>0.078237</td>\n",
       "      <td>0.678069</td>\n",
       "    </tr>\n",
       "  </tbody>\n",
       "</table>\n",
       "</div>"
      ],
      "text/plain": [
       "                            A         B\n",
       "2021-11-22 12:45:00  0.215546 -0.331504\n",
       "2021-11-22 13:45:00 -0.793141  0.561186\n",
       "2021-11-22 14:45:00 -0.049417 -0.694908\n",
       "2021-11-22 15:45:00  1.120760  1.020184\n",
       "2021-11-22 16:45:00 -0.186316  0.023033\n",
       "2021-11-22 17:45:00 -0.634260  0.302183\n",
       "2021-11-22 18:45:00  0.262529 -0.875617\n",
       "2021-11-22 19:45:00  0.762742 -0.975945\n",
       "2021-11-22 20:45:00 -0.320808  0.918337\n",
       "2021-11-22 21:45:00  0.078237  0.678069"
      ]
     },
     "execution_count": 30,
     "metadata": {},
     "output_type": "execute_result"
    }
   ],
   "source": [
    "# selecting on a multi-axis by label:\n",
    "df.loc[:,['A','B']]\n",
    "#a=df.loc[:,['A','B']]"
   ]
  },
  {
   "cell_type": "code",
   "execution_count": 31,
   "metadata": {},
   "outputs": [
    {
     "data": {
      "text/html": [
       "<div>\n",
       "<style scoped>\n",
       "    .dataframe tbody tr th:only-of-type {\n",
       "        vertical-align: middle;\n",
       "    }\n",
       "\n",
       "    .dataframe tbody tr th {\n",
       "        vertical-align: top;\n",
       "    }\n",
       "\n",
       "    .dataframe thead th {\n",
       "        text-align: right;\n",
       "    }\n",
       "</style>\n",
       "<table border=\"1\" class=\"dataframe\">\n",
       "  <thead>\n",
       "    <tr style=\"text-align: right;\">\n",
       "      <th></th>\n",
       "      <th>A</th>\n",
       "      <th>B</th>\n",
       "    </tr>\n",
       "  </thead>\n",
       "  <tbody>\n",
       "    <tr>\n",
       "      <th>2021-11-22 16:45:00</th>\n",
       "      <td>-0.186316</td>\n",
       "      <td>0.023033</td>\n",
       "    </tr>\n",
       "    <tr>\n",
       "      <th>2021-11-22 17:45:00</th>\n",
       "      <td>-0.634260</td>\n",
       "      <td>0.302183</td>\n",
       "    </tr>\n",
       "    <tr>\n",
       "      <th>2021-11-22 18:45:00</th>\n",
       "      <td>0.262529</td>\n",
       "      <td>-0.875617</td>\n",
       "    </tr>\n",
       "  </tbody>\n",
       "</table>\n",
       "</div>"
      ],
      "text/plain": [
       "                            A         B\n",
       "2021-11-22 16:45:00 -0.186316  0.023033\n",
       "2021-11-22 17:45:00 -0.634260  0.302183\n",
       "2021-11-22 18:45:00  0.262529 -0.875617"
      ]
     },
     "execution_count": 31,
     "metadata": {},
     "output_type": "execute_result"
    }
   ],
   "source": [
    "# showing label slicing, both endpoints are included:\n",
    "df.loc['2021-11-22 16:45:00':'2021-11-22 18:45:00',['A','B']]"
   ]
  },
  {
   "cell_type": "code",
   "execution_count": 32,
   "metadata": {},
   "outputs": [
    {
     "name": "stdout",
     "output_type": "stream",
     "text": [
      "-0.7931406855650166\n",
      "-0.7931406855650166\n"
     ]
    }
   ],
   "source": [
    "# getting an individual element\n",
    "print (df.loc[dates[1],'A'])\n",
    "\n",
    "# equivalently\n",
    "print (df.at[dates[1],'A'])"
   ]
  },
  {
   "cell_type": "markdown",
   "metadata": {},
   "source": [
    "### Selecting by position"
   ]
  },
  {
   "cell_type": "code",
   "execution_count": 33,
   "metadata": {},
   "outputs": [
    {
     "name": "stdout",
     "output_type": "stream",
     "text": [
      "A    1.120760\n",
      "B    1.020184\n",
      "C   -0.119975\n",
      "D    1.031548\n",
      "Name: 2021-11-22 15:45:00, dtype: float64 \n",
      "\n",
      "                            A         B\n",
      "2021-11-22 15:45:00  1.120760  1.020184\n",
      "2021-11-22 16:45:00 -0.186316  0.023033\n"
     ]
    }
   ],
   "source": [
    "# select via the position of the passed integers:\n",
    "print (df.iloc[3],'\\n')\n",
    "\n",
    "# notation similar to numpy/python\n",
    "print (df.iloc[3:5,0:2])"
   ]
  },
  {
   "cell_type": "code",
   "execution_count": 34,
   "metadata": {},
   "outputs": [
    {
     "data": {
      "text/html": [
       "<div>\n",
       "<style scoped>\n",
       "    .dataframe tbody tr th:only-of-type {\n",
       "        vertical-align: middle;\n",
       "    }\n",
       "\n",
       "    .dataframe tbody tr th {\n",
       "        vertical-align: top;\n",
       "    }\n",
       "\n",
       "    .dataframe thead th {\n",
       "        text-align: right;\n",
       "    }\n",
       "</style>\n",
       "<table border=\"1\" class=\"dataframe\">\n",
       "  <thead>\n",
       "    <tr style=\"text-align: right;\">\n",
       "      <th></th>\n",
       "      <th>A</th>\n",
       "      <th>C</th>\n",
       "    </tr>\n",
       "  </thead>\n",
       "  <tbody>\n",
       "    <tr>\n",
       "      <th>2021-11-22 13:45:00</th>\n",
       "      <td>-0.793141</td>\n",
       "      <td>1.514655</td>\n",
       "    </tr>\n",
       "    <tr>\n",
       "      <th>2021-11-22 14:45:00</th>\n",
       "      <td>-0.049417</td>\n",
       "      <td>0.075308</td>\n",
       "    </tr>\n",
       "    <tr>\n",
       "      <th>2021-11-22 16:45:00</th>\n",
       "      <td>-0.186316</td>\n",
       "      <td>-0.215479</td>\n",
       "    </tr>\n",
       "  </tbody>\n",
       "</table>\n",
       "</div>"
      ],
      "text/plain": [
       "                            A         C\n",
       "2021-11-22 13:45:00 -0.793141  1.514655\n",
       "2021-11-22 14:45:00 -0.049417  0.075308\n",
       "2021-11-22 16:45:00 -0.186316 -0.215479"
      ]
     },
     "execution_count": 34,
     "metadata": {},
     "output_type": "execute_result"
    }
   ],
   "source": [
    "# selecting raws 1,2 and 4 for columns 0 and 2\n",
    "df.iloc[[1,2,4],[0,2]]"
   ]
  },
  {
   "cell_type": "code",
   "execution_count": 35,
   "metadata": {},
   "outputs": [
    {
     "name": "stdout",
     "output_type": "stream",
     "text": [
      "                            A         B         C         D\n",
      "2021-11-22 13:45:00 -0.793141  0.561186  1.514655  0.918275\n",
      "2021-11-22 14:45:00 -0.049417 -0.694908  0.075308 -1.668304 \n",
      "\n",
      "                            B         C\n",
      "2021-11-22 12:45:00 -0.331504  0.420167\n",
      "2021-11-22 13:45:00  0.561186  1.514655\n",
      "2021-11-22 14:45:00 -0.694908  0.075308\n",
      "2021-11-22 15:45:00  1.020184 -0.119975\n",
      "2021-11-22 16:45:00  0.023033 -0.215479\n",
      "2021-11-22 17:45:00  0.302183  0.658447\n",
      "2021-11-22 18:45:00 -0.875617 -1.089628\n",
      "2021-11-22 19:45:00 -0.975945 -0.937252\n",
      "2021-11-22 20:45:00  0.918337  1.015409\n",
      "2021-11-22 21:45:00  0.678069 -0.309177\n"
     ]
    }
   ],
   "source": [
    "# slicing rows explicitly\n",
    "print (df.iloc[1:3,:],'\\n')\n",
    "\n",
    "# slicing columns explicitly\n",
    "print (df.iloc[:,1:3])\n"
   ]
  },
  {
   "cell_type": "code",
   "execution_count": 36,
   "metadata": {},
   "outputs": [
    {
     "data": {
      "text/plain": [
       "0.5611859189314505"
      ]
     },
     "execution_count": 36,
     "metadata": {},
     "output_type": "execute_result"
    }
   ],
   "source": [
    "# selecting an individual element by position\n",
    "df.iloc[1,1]\n",
    "df.iat[1,1]\n"
   ]
  },
  {
   "cell_type": "markdown",
   "metadata": {},
   "source": [
    "### Boolean index\n",
    "\n",
    "Very powerful way of filtering out data with certain features. Notation is very similar to numpy arrays."
   ]
  },
  {
   "cell_type": "code",
   "execution_count": 38,
   "metadata": {},
   "outputs": [
    {
     "data": {
      "text/html": [
       "<div>\n",
       "<style scoped>\n",
       "    .dataframe tbody tr th:only-of-type {\n",
       "        vertical-align: middle;\n",
       "    }\n",
       "\n",
       "    .dataframe tbody tr th {\n",
       "        vertical-align: top;\n",
       "    }\n",
       "\n",
       "    .dataframe thead th {\n",
       "        text-align: right;\n",
       "    }\n",
       "</style>\n",
       "<table border=\"1\" class=\"dataframe\">\n",
       "  <thead>\n",
       "    <tr style=\"text-align: right;\">\n",
       "      <th></th>\n",
       "      <th>A</th>\n",
       "      <th>B</th>\n",
       "      <th>C</th>\n",
       "      <th>D</th>\n",
       "    </tr>\n",
       "  </thead>\n",
       "  <tbody>\n",
       "    <tr>\n",
       "      <th>2021-11-22 13:45:00</th>\n",
       "      <td>-0.793141</td>\n",
       "      <td>0.561186</td>\n",
       "      <td>1.514655</td>\n",
       "      <td>0.918275</td>\n",
       "    </tr>\n",
       "    <tr>\n",
       "      <th>2021-11-22 15:45:00</th>\n",
       "      <td>1.120760</td>\n",
       "      <td>1.020184</td>\n",
       "      <td>-0.119975</td>\n",
       "      <td>1.031548</td>\n",
       "    </tr>\n",
       "    <tr>\n",
       "      <th>2021-11-22 16:45:00</th>\n",
       "      <td>-0.186316</td>\n",
       "      <td>0.023033</td>\n",
       "      <td>-0.215479</td>\n",
       "      <td>-0.287224</td>\n",
       "    </tr>\n",
       "    <tr>\n",
       "      <th>2021-11-22 17:45:00</th>\n",
       "      <td>-0.634260</td>\n",
       "      <td>0.302183</td>\n",
       "      <td>0.658447</td>\n",
       "      <td>0.145849</td>\n",
       "    </tr>\n",
       "    <tr>\n",
       "      <th>2021-11-22 20:45:00</th>\n",
       "      <td>-0.320808</td>\n",
       "      <td>0.918337</td>\n",
       "      <td>1.015409</td>\n",
       "      <td>1.054893</td>\n",
       "    </tr>\n",
       "    <tr>\n",
       "      <th>2021-11-22 21:45:00</th>\n",
       "      <td>0.078237</td>\n",
       "      <td>0.678069</td>\n",
       "      <td>-0.309177</td>\n",
       "      <td>-0.205146</td>\n",
       "    </tr>\n",
       "  </tbody>\n",
       "</table>\n",
       "</div>"
      ],
      "text/plain": [
       "                            A         B         C         D\n",
       "2021-11-22 13:45:00 -0.793141  0.561186  1.514655  0.918275\n",
       "2021-11-22 15:45:00  1.120760  1.020184 -0.119975  1.031548\n",
       "2021-11-22 16:45:00 -0.186316  0.023033 -0.215479 -0.287224\n",
       "2021-11-22 17:45:00 -0.634260  0.302183  0.658447  0.145849\n",
       "2021-11-22 20:45:00 -0.320808  0.918337  1.015409  1.054893\n",
       "2021-11-22 21:45:00  0.078237  0.678069 -0.309177 -0.205146"
      ]
     },
     "execution_count": 38,
     "metadata": {},
     "output_type": "execute_result"
    }
   ],
   "source": [
    "# Filter by a boolean condition on the values of a single column\n",
    "df[df['B'] > 0]"
   ]
  },
  {
   "cell_type": "code",
   "execution_count": 39,
   "metadata": {},
   "outputs": [
    {
     "data": {
      "text/html": [
       "<div>\n",
       "<style scoped>\n",
       "    .dataframe tbody tr th:only-of-type {\n",
       "        vertical-align: middle;\n",
       "    }\n",
       "\n",
       "    .dataframe tbody tr th {\n",
       "        vertical-align: top;\n",
       "    }\n",
       "\n",
       "    .dataframe thead th {\n",
       "        text-align: right;\n",
       "    }\n",
       "</style>\n",
       "<table border=\"1\" class=\"dataframe\">\n",
       "  <thead>\n",
       "    <tr style=\"text-align: right;\">\n",
       "      <th></th>\n",
       "      <th>A</th>\n",
       "      <th>B</th>\n",
       "      <th>C</th>\n",
       "      <th>D</th>\n",
       "    </tr>\n",
       "  </thead>\n",
       "  <tbody>\n",
       "    <tr>\n",
       "      <th>2021-11-22 12:45:00</th>\n",
       "      <td>0.215546</td>\n",
       "      <td>NaN</td>\n",
       "      <td>0.420167</td>\n",
       "      <td>1.347315</td>\n",
       "    </tr>\n",
       "    <tr>\n",
       "      <th>2021-11-22 13:45:00</th>\n",
       "      <td>NaN</td>\n",
       "      <td>0.561186</td>\n",
       "      <td>1.514655</td>\n",
       "      <td>0.918275</td>\n",
       "    </tr>\n",
       "    <tr>\n",
       "      <th>2021-11-22 14:45:00</th>\n",
       "      <td>NaN</td>\n",
       "      <td>NaN</td>\n",
       "      <td>0.075308</td>\n",
       "      <td>NaN</td>\n",
       "    </tr>\n",
       "    <tr>\n",
       "      <th>2021-11-22 15:45:00</th>\n",
       "      <td>1.120760</td>\n",
       "      <td>1.020184</td>\n",
       "      <td>NaN</td>\n",
       "      <td>1.031548</td>\n",
       "    </tr>\n",
       "    <tr>\n",
       "      <th>2021-11-22 16:45:00</th>\n",
       "      <td>NaN</td>\n",
       "      <td>0.023033</td>\n",
       "      <td>NaN</td>\n",
       "      <td>NaN</td>\n",
       "    </tr>\n",
       "    <tr>\n",
       "      <th>2021-11-22 17:45:00</th>\n",
       "      <td>NaN</td>\n",
       "      <td>0.302183</td>\n",
       "      <td>0.658447</td>\n",
       "      <td>0.145849</td>\n",
       "    </tr>\n",
       "    <tr>\n",
       "      <th>2021-11-22 18:45:00</th>\n",
       "      <td>0.262529</td>\n",
       "      <td>NaN</td>\n",
       "      <td>NaN</td>\n",
       "      <td>NaN</td>\n",
       "    </tr>\n",
       "    <tr>\n",
       "      <th>2021-11-22 19:45:00</th>\n",
       "      <td>0.762742</td>\n",
       "      <td>NaN</td>\n",
       "      <td>NaN</td>\n",
       "      <td>1.141818</td>\n",
       "    </tr>\n",
       "    <tr>\n",
       "      <th>2021-11-22 20:45:00</th>\n",
       "      <td>NaN</td>\n",
       "      <td>0.918337</td>\n",
       "      <td>1.015409</td>\n",
       "      <td>1.054893</td>\n",
       "    </tr>\n",
       "    <tr>\n",
       "      <th>2021-11-22 21:45:00</th>\n",
       "      <td>0.078237</td>\n",
       "      <td>0.678069</td>\n",
       "      <td>NaN</td>\n",
       "      <td>NaN</td>\n",
       "    </tr>\n",
       "  </tbody>\n",
       "</table>\n",
       "</div>"
      ],
      "text/plain": [
       "                            A         B         C         D\n",
       "2021-11-22 12:45:00  0.215546       NaN  0.420167  1.347315\n",
       "2021-11-22 13:45:00       NaN  0.561186  1.514655  0.918275\n",
       "2021-11-22 14:45:00       NaN       NaN  0.075308       NaN\n",
       "2021-11-22 15:45:00  1.120760  1.020184       NaN  1.031548\n",
       "2021-11-22 16:45:00       NaN  0.023033       NaN       NaN\n",
       "2021-11-22 17:45:00       NaN  0.302183  0.658447  0.145849\n",
       "2021-11-22 18:45:00  0.262529       NaN       NaN       NaN\n",
       "2021-11-22 19:45:00  0.762742       NaN       NaN  1.141818\n",
       "2021-11-22 20:45:00       NaN  0.918337  1.015409  1.054893\n",
       "2021-11-22 21:45:00  0.078237  0.678069       NaN       NaN"
      ]
     },
     "execution_count": 39,
     "metadata": {},
     "output_type": "execute_result"
    }
   ],
   "source": [
    "# Selecting on the basis of boolean conditions applied to the whole DataFrame\n",
    "df[df>0]\n",
    "\n",
    "# a DataFrame with the same shape is returned, with NaN's where condition is not met"
   ]
  },
  {
   "cell_type": "markdown",
   "metadata": {},
   "source": [
    "### Setting\n",
    "\n",
    "Combination of selection and setting of values"
   ]
  },
  {
   "cell_type": "code",
   "execution_count": null,
   "metadata": {},
   "outputs": [],
   "source": [
    "# setting values by label (same as by position)\n",
    "df.at[dates[0],'A'] = 0\n",
    "\n",
    "# setting and assigning a numpy array\n",
    "df.loc[:,'D'] = np.array([5] * len(df))\n",
    "\n",
    "# defining a brend new column\n",
    "df['E'] = np.arange(len(df))*0.5\n",
    "\n",
    "# defining a brend new column by means of a pd.Series: indexes must be the same!\n",
    "df['E prime'] = pd.Series(np.arange(len(df))*2, index=df.index)\n"
   ]
  },
  {
   "cell_type": "code",
   "execution_count": null,
   "metadata": {},
   "outputs": [],
   "source": [
    "def dcos(theta):\n",
    "    theta = theta*(np.pi/180)\n",
    "    return np.cos(theta)\n",
    " \n",
    "df['cosine'] = pd.Series(df[\"E\"].apply(dcos), index=df.index)\n",
    "df"
   ]
  },
  {
   "cell_type": "code",
   "execution_count": null,
   "metadata": {},
   "outputs": [],
   "source": [
    "# another example of global setting\n",
    "df2=df.copy()\n",
    "\n",
    "df2[df2>0] = -df2\n",
    "df2"
   ]
  },
  {
   "cell_type": "code",
   "execution_count": null,
   "metadata": {},
   "outputs": [],
   "source": [
    "df"
   ]
  },
  {
   "cell_type": "markdown",
   "metadata": {},
   "source": [
    "### Dropping\n",
    "\n",
    "N.B.: dropping doesn't act permanently on the DataFrame, i.e. to get that do :\n",
    "```python\n",
    "df = df.drop(....)\n",
    "```"
   ]
  },
  {
   "cell_type": "code",
   "execution_count": null,
   "metadata": {},
   "outputs": [],
   "source": [
    "# Dropping by column\n",
    "df.drop(['E prime'], axis=1)\n",
    "\n",
    "#which is equivalent to\n",
    "new_df=df.drop(columns=['E prime'])\n",
    "new_df"
   ]
  },
  {
   "cell_type": "code",
   "execution_count": null,
   "metadata": {},
   "outputs": [],
   "source": [
    "# Dropping by raws\n",
    "# safe and always working\n",
    "df.drop(df.index[[1,2,3,4]])"
   ]
  },
  {
   "cell_type": "code",
   "execution_count": null,
   "metadata": {},
   "outputs": [],
   "source": [
    "df"
   ]
  },
  {
   "cell_type": "code",
   "execution_count": null,
   "metadata": {},
   "outputs": [],
   "source": [
    "# something like df.drop('index_name') \n",
    "# would work but the type of index must be specificed, \n",
    "# in particular with DatetimeIndex\n",
    "df.drop(pd.to_datetime(\"2021-11-22 20:45:00\"))"
   ]
  },
  {
   "cell_type": "markdown",
   "metadata": {},
   "source": [
    "## Missing data\n",
    "\n",
    "pandas primarily uses the value np.nan to represent missing data. It is by default not included in computations."
   ]
  },
  {
   "cell_type": "code",
   "execution_count": null,
   "metadata": {},
   "outputs": [],
   "source": [
    "df_wNan = df[df>0]\n",
    "df_wNan"
   ]
  },
  {
   "cell_type": "code",
   "execution_count": null,
   "metadata": {},
   "outputs": [],
   "source": [
    "# dropping raws with at least a Nan\n",
    "df_wNan.dropna(how='any')"
   ]
  },
  {
   "cell_type": "code",
   "execution_count": null,
   "metadata": {},
   "outputs": [],
   "source": [
    "# getting a mask\n",
    "df_wNan.isna()\n",
    "#df_wNan.notna()"
   ]
  },
  {
   "cell_type": "code",
   "execution_count": null,
   "metadata": {},
   "outputs": [],
   "source": [
    "# filling missing data\n",
    "df_wNan.fillna(value=0)"
   ]
  },
  {
   "cell_type": "markdown",
   "metadata": {},
   "source": [
    "Fill gaps forward or backward by propagating non-NA values forward or backward:"
   ]
  },
  {
   "cell_type": "code",
   "execution_count": null,
   "metadata": {},
   "outputs": [],
   "source": [
    "df_wNan.fillna(method='pad')"
   ]
  },
  {
   "cell_type": "markdown",
   "metadata": {},
   "source": [
    "## Operations\n",
    "\n",
    "Here comes the most relevant advantage of DataFrame. Operations on columns are extremly fast, almost as fast as the actual operation between elements in a raw"
   ]
  },
  {
   "cell_type": "code",
   "execution_count": 40,
   "metadata": {},
   "outputs": [
    {
     "name": "stdout",
     "output_type": "stream",
     "text": [
      "A    0.045587\n",
      "B    0.062502\n",
      "C    0.101248\n",
      "D    0.287563\n",
      "dtype: float64 \n",
      "\n",
      "2021-11-22 12:45:00    0.412881\n",
      "2021-11-22 13:45:00    0.550244\n",
      "2021-11-22 14:45:00   -0.584330\n",
      "2021-11-22 15:45:00    0.763130\n",
      "2021-11-22 16:45:00   -0.166496\n",
      "2021-11-22 17:45:00    0.118055\n",
      "2021-11-22 18:45:00   -0.576529\n",
      "2021-11-22 19:45:00   -0.002159\n",
      "2021-11-22 20:45:00    0.666958\n",
      "2021-11-22 21:45:00    0.060496\n",
      "Freq: H, dtype: float64 \n",
      "\n"
     ]
    }
   ],
   "source": [
    "# Some statistics (mean() just as an example)\n",
    "# raws\n",
    "print (df.mean(axis=0),'\\n')\n",
    "# columns\n",
    "print (df.mean(axis=1),'\\n')"
   ]
  },
  {
   "cell_type": "code",
   "execution_count": 41,
   "metadata": {},
   "outputs": [
    {
     "data": {
      "text/html": [
       "<div>\n",
       "<style scoped>\n",
       "    .dataframe tbody tr th:only-of-type {\n",
       "        vertical-align: middle;\n",
       "    }\n",
       "\n",
       "    .dataframe tbody tr th {\n",
       "        vertical-align: top;\n",
       "    }\n",
       "\n",
       "    .dataframe thead th {\n",
       "        text-align: right;\n",
       "    }\n",
       "</style>\n",
       "<table border=\"1\" class=\"dataframe\">\n",
       "  <thead>\n",
       "    <tr style=\"text-align: right;\">\n",
       "      <th></th>\n",
       "      <th>A</th>\n",
       "      <th>B</th>\n",
       "      <th>C</th>\n",
       "      <th>D</th>\n",
       "    </tr>\n",
       "  </thead>\n",
       "  <tbody>\n",
       "    <tr>\n",
       "      <th>2021-11-22 12:45:00</th>\n",
       "      <td>0.215546</td>\n",
       "      <td>-0.331504</td>\n",
       "      <td>0.420167</td>\n",
       "      <td>1.347315</td>\n",
       "    </tr>\n",
       "    <tr>\n",
       "      <th>2021-11-22 13:45:00</th>\n",
       "      <td>-0.577595</td>\n",
       "      <td>0.229682</td>\n",
       "      <td>1.934822</td>\n",
       "      <td>2.265590</td>\n",
       "    </tr>\n",
       "    <tr>\n",
       "      <th>2021-11-22 14:45:00</th>\n",
       "      <td>-0.627012</td>\n",
       "      <td>-0.465226</td>\n",
       "      <td>2.010130</td>\n",
       "      <td>0.597287</td>\n",
       "    </tr>\n",
       "    <tr>\n",
       "      <th>2021-11-22 15:45:00</th>\n",
       "      <td>0.493749</td>\n",
       "      <td>0.554958</td>\n",
       "      <td>1.890155</td>\n",
       "      <td>1.628835</td>\n",
       "    </tr>\n",
       "    <tr>\n",
       "      <th>2021-11-22 16:45:00</th>\n",
       "      <td>0.307433</td>\n",
       "      <td>0.577991</td>\n",
       "      <td>1.674676</td>\n",
       "      <td>1.341610</td>\n",
       "    </tr>\n",
       "    <tr>\n",
       "      <th>2021-11-22 17:45:00</th>\n",
       "      <td>-0.326827</td>\n",
       "      <td>0.880174</td>\n",
       "      <td>2.333124</td>\n",
       "      <td>1.487460</td>\n",
       "    </tr>\n",
       "    <tr>\n",
       "      <th>2021-11-22 18:45:00</th>\n",
       "      <td>-0.064298</td>\n",
       "      <td>0.004557</td>\n",
       "      <td>1.243496</td>\n",
       "      <td>0.884062</td>\n",
       "    </tr>\n",
       "    <tr>\n",
       "      <th>2021-11-22 19:45:00</th>\n",
       "      <td>0.698444</td>\n",
       "      <td>-0.971389</td>\n",
       "      <td>0.306244</td>\n",
       "      <td>2.025880</td>\n",
       "    </tr>\n",
       "    <tr>\n",
       "      <th>2021-11-22 20:45:00</th>\n",
       "      <td>0.377636</td>\n",
       "      <td>-0.053051</td>\n",
       "      <td>1.321653</td>\n",
       "      <td>3.080773</td>\n",
       "    </tr>\n",
       "    <tr>\n",
       "      <th>2021-11-22 21:45:00</th>\n",
       "      <td>0.455872</td>\n",
       "      <td>0.625018</td>\n",
       "      <td>1.012476</td>\n",
       "      <td>2.875627</td>\n",
       "    </tr>\n",
       "  </tbody>\n",
       "</table>\n",
       "</div>"
      ],
      "text/plain": [
       "                            A         B         C         D\n",
       "2021-11-22 12:45:00  0.215546 -0.331504  0.420167  1.347315\n",
       "2021-11-22 13:45:00 -0.577595  0.229682  1.934822  2.265590\n",
       "2021-11-22 14:45:00 -0.627012 -0.465226  2.010130  0.597287\n",
       "2021-11-22 15:45:00  0.493749  0.554958  1.890155  1.628835\n",
       "2021-11-22 16:45:00  0.307433  0.577991  1.674676  1.341610\n",
       "2021-11-22 17:45:00 -0.326827  0.880174  2.333124  1.487460\n",
       "2021-11-22 18:45:00 -0.064298  0.004557  1.243496  0.884062\n",
       "2021-11-22 19:45:00  0.698444 -0.971389  0.306244  2.025880\n",
       "2021-11-22 20:45:00  0.377636 -0.053051  1.321653  3.080773\n",
       "2021-11-22 21:45:00  0.455872  0.625018  1.012476  2.875627"
      ]
     },
     "execution_count": 41,
     "metadata": {},
     "output_type": "execute_result"
    }
   ],
   "source": [
    "# global operations on columns\n",
    "df.apply(np.cumsum)"
   ]
  },
  {
   "cell_type": "code",
   "execution_count": 42,
   "metadata": {},
   "outputs": [
    {
     "data": {
      "text/html": [
       "<div>\n",
       "<style scoped>\n",
       "    .dataframe tbody tr th:only-of-type {\n",
       "        vertical-align: middle;\n",
       "    }\n",
       "\n",
       "    .dataframe tbody tr th {\n",
       "        vertical-align: top;\n",
       "    }\n",
       "\n",
       "    .dataframe thead th {\n",
       "        text-align: right;\n",
       "    }\n",
       "</style>\n",
       "<table border=\"1\" class=\"dataframe\">\n",
       "  <thead>\n",
       "    <tr style=\"text-align: right;\">\n",
       "      <th></th>\n",
       "      <th>A</th>\n",
       "      <th>B</th>\n",
       "      <th>C</th>\n",
       "      <th>D</th>\n",
       "    </tr>\n",
       "  </thead>\n",
       "  <tbody>\n",
       "    <tr>\n",
       "      <th>2021-11-22 12:45:00</th>\n",
       "      <td>0.215546</td>\n",
       "      <td>-0.331504</td>\n",
       "      <td>0.420167</td>\n",
       "      <td>1.347315</td>\n",
       "    </tr>\n",
       "    <tr>\n",
       "      <th>2021-11-22 13:45:00</th>\n",
       "      <td>-0.793141</td>\n",
       "      <td>0.561186</td>\n",
       "      <td>1.514655</td>\n",
       "      <td>0.918275</td>\n",
       "    </tr>\n",
       "    <tr>\n",
       "      <th>2021-11-22 14:45:00</th>\n",
       "      <td>-0.049417</td>\n",
       "      <td>-0.694908</td>\n",
       "      <td>0.075308</td>\n",
       "      <td>-1.668304</td>\n",
       "    </tr>\n",
       "    <tr>\n",
       "      <th>2021-11-22 15:45:00</th>\n",
       "      <td>1.120760</td>\n",
       "      <td>1.020184</td>\n",
       "      <td>-0.119975</td>\n",
       "      <td>1.031548</td>\n",
       "    </tr>\n",
       "    <tr>\n",
       "      <th>2021-11-22 16:45:00</th>\n",
       "      <td>-0.186316</td>\n",
       "      <td>0.023033</td>\n",
       "      <td>-0.215479</td>\n",
       "      <td>-0.287224</td>\n",
       "    </tr>\n",
       "    <tr>\n",
       "      <th>2021-11-22 17:45:00</th>\n",
       "      <td>-0.634260</td>\n",
       "      <td>0.302183</td>\n",
       "      <td>0.658447</td>\n",
       "      <td>0.145849</td>\n",
       "    </tr>\n",
       "    <tr>\n",
       "      <th>2021-11-22 18:45:00</th>\n",
       "      <td>0.262529</td>\n",
       "      <td>-0.875617</td>\n",
       "      <td>-1.089628</td>\n",
       "      <td>-0.603398</td>\n",
       "    </tr>\n",
       "    <tr>\n",
       "      <th>2021-11-22 19:45:00</th>\n",
       "      <td>0.762742</td>\n",
       "      <td>-0.975945</td>\n",
       "      <td>-0.937252</td>\n",
       "      <td>1.141818</td>\n",
       "    </tr>\n",
       "    <tr>\n",
       "      <th>2021-11-22 20:45:00</th>\n",
       "      <td>-0.320808</td>\n",
       "      <td>0.918337</td>\n",
       "      <td>1.015409</td>\n",
       "      <td>1.054893</td>\n",
       "    </tr>\n",
       "    <tr>\n",
       "      <th>2021-11-22 21:45:00</th>\n",
       "      <td>0.078237</td>\n",
       "      <td>0.678069</td>\n",
       "      <td>-0.309177</td>\n",
       "      <td>-0.205146</td>\n",
       "    </tr>\n",
       "  </tbody>\n",
       "</table>\n",
       "</div>"
      ],
      "text/plain": [
       "                            A         B         C         D\n",
       "2021-11-22 12:45:00  0.215546 -0.331504  0.420167  1.347315\n",
       "2021-11-22 13:45:00 -0.793141  0.561186  1.514655  0.918275\n",
       "2021-11-22 14:45:00 -0.049417 -0.694908  0.075308 -1.668304\n",
       "2021-11-22 15:45:00  1.120760  1.020184 -0.119975  1.031548\n",
       "2021-11-22 16:45:00 -0.186316  0.023033 -0.215479 -0.287224\n",
       "2021-11-22 17:45:00 -0.634260  0.302183  0.658447  0.145849\n",
       "2021-11-22 18:45:00  0.262529 -0.875617 -1.089628 -0.603398\n",
       "2021-11-22 19:45:00  0.762742 -0.975945 -0.937252  1.141818\n",
       "2021-11-22 20:45:00 -0.320808  0.918337  1.015409  1.054893\n",
       "2021-11-22 21:45:00  0.078237  0.678069 -0.309177 -0.205146"
      ]
     },
     "execution_count": 42,
     "metadata": {},
     "output_type": "execute_result"
    }
   ],
   "source": [
    "df"
   ]
  },
  {
   "cell_type": "code",
   "execution_count": 43,
   "metadata": {},
   "outputs": [
    {
     "data": {
      "text/plain": [
       "A    1.913901\n",
       "B    1.996130\n",
       "C    2.604283\n",
       "D    3.015619\n",
       "dtype: float64"
      ]
     },
     "execution_count": 43,
     "metadata": {},
     "output_type": "execute_result"
    }
   ],
   "source": [
    "df.apply(lambda x: x.max() - x.min())"
   ]
  },
  {
   "cell_type": "code",
   "execution_count": 44,
   "metadata": {},
   "outputs": [
    {
     "data": {
      "text/plain": [
       "2021-11-22 12:45:00   -0.115958\n",
       "2021-11-22 13:45:00   -0.231955\n",
       "2021-11-22 14:45:00   -0.744325\n",
       "2021-11-22 15:45:00    2.140945\n",
       "2021-11-22 16:45:00   -0.163283\n",
       "2021-11-22 17:45:00   -0.332077\n",
       "2021-11-22 18:45:00   -0.613089\n",
       "2021-11-22 19:45:00   -0.213203\n",
       "2021-11-22 20:45:00    0.597529\n",
       "2021-11-22 21:45:00    0.756306\n",
       "Freq: H, dtype: float64"
      ]
     },
     "execution_count": 44,
     "metadata": {},
     "output_type": "execute_result"
    }
   ],
   "source": [
    "# syntax is as usual similar to that of numpy arrays\n",
    "df['A']+df['B']"
   ]
  },
  {
   "cell_type": "markdown",
   "metadata": {},
   "source": [
    "Let's play it hard and load (in memory) a (relatively) large dataset"
   ]
  },
  {
   "cell_type": "code",
   "execution_count": 45,
   "metadata": {},
   "outputs": [
    {
     "ename": "FileNotFoundError",
     "evalue": "[Errno 2] No such file or directory: '/home/sgorla/data/data_000637.txt'",
     "output_type": "error",
     "traceback": [
      "\u001b[0;31m---------------------------------------------------------------------------\u001b[0m",
      "\u001b[0;31mFileNotFoundError\u001b[0m                         Traceback (most recent call last)",
      "\u001b[0;32m/tmp/ipykernel_3488/2785434663.py\u001b[0m in \u001b[0;36m<module>\u001b[0;34m\u001b[0m\n\u001b[1;32m      3\u001b[0m \u001b[0;34m\u001b[0m\u001b[0m\n\u001b[1;32m      4\u001b[0m \u001b[0mfile_name\u001b[0m\u001b[0;34m=\u001b[0m\u001b[0;34m\"~/data/data_000637.txt\"\u001b[0m\u001b[0;34m\u001b[0m\u001b[0;34m\u001b[0m\u001b[0m\n\u001b[0;32m----> 5\u001b[0;31m \u001b[0mdata\u001b[0m\u001b[0;34m=\u001b[0m\u001b[0mpd\u001b[0m\u001b[0;34m.\u001b[0m\u001b[0mread_csv\u001b[0m\u001b[0;34m(\u001b[0m\u001b[0mfile_name\u001b[0m\u001b[0;34m)\u001b[0m\u001b[0;34m\u001b[0m\u001b[0;34m\u001b[0m\u001b[0m\n\u001b[0m\u001b[1;32m      6\u001b[0m \u001b[0mdata\u001b[0m\u001b[0;34m\u001b[0m\u001b[0;34m\u001b[0m\u001b[0m\n",
      "\u001b[0;32m~/anaconda3/lib/python3.8/site-packages/pandas/util/_decorators.py\u001b[0m in \u001b[0;36mwrapper\u001b[0;34m(*args, **kwargs)\u001b[0m\n\u001b[1;32m    309\u001b[0m                     \u001b[0mstacklevel\u001b[0m\u001b[0;34m=\u001b[0m\u001b[0mstacklevel\u001b[0m\u001b[0;34m,\u001b[0m\u001b[0;34m\u001b[0m\u001b[0;34m\u001b[0m\u001b[0m\n\u001b[1;32m    310\u001b[0m                 )\n\u001b[0;32m--> 311\u001b[0;31m             \u001b[0;32mreturn\u001b[0m \u001b[0mfunc\u001b[0m\u001b[0;34m(\u001b[0m\u001b[0;34m*\u001b[0m\u001b[0margs\u001b[0m\u001b[0;34m,\u001b[0m \u001b[0;34m**\u001b[0m\u001b[0mkwargs\u001b[0m\u001b[0;34m)\u001b[0m\u001b[0;34m\u001b[0m\u001b[0;34m\u001b[0m\u001b[0m\n\u001b[0m\u001b[1;32m    312\u001b[0m \u001b[0;34m\u001b[0m\u001b[0m\n\u001b[1;32m    313\u001b[0m         \u001b[0;32mreturn\u001b[0m \u001b[0mwrapper\u001b[0m\u001b[0;34m\u001b[0m\u001b[0;34m\u001b[0m\u001b[0m\n",
      "\u001b[0;32m~/anaconda3/lib/python3.8/site-packages/pandas/io/parsers/readers.py\u001b[0m in \u001b[0;36mread_csv\u001b[0;34m(filepath_or_buffer, sep, delimiter, header, names, index_col, usecols, squeeze, prefix, mangle_dupe_cols, dtype, engine, converters, true_values, false_values, skipinitialspace, skiprows, skipfooter, nrows, na_values, keep_default_na, na_filter, verbose, skip_blank_lines, parse_dates, infer_datetime_format, keep_date_col, date_parser, dayfirst, cache_dates, iterator, chunksize, compression, thousands, decimal, lineterminator, quotechar, quoting, doublequote, escapechar, comment, encoding, encoding_errors, dialect, error_bad_lines, warn_bad_lines, on_bad_lines, delim_whitespace, low_memory, memory_map, float_precision, storage_options)\u001b[0m\n\u001b[1;32m    584\u001b[0m     \u001b[0mkwds\u001b[0m\u001b[0;34m.\u001b[0m\u001b[0mupdate\u001b[0m\u001b[0;34m(\u001b[0m\u001b[0mkwds_defaults\u001b[0m\u001b[0;34m)\u001b[0m\u001b[0;34m\u001b[0m\u001b[0;34m\u001b[0m\u001b[0m\n\u001b[1;32m    585\u001b[0m \u001b[0;34m\u001b[0m\u001b[0m\n\u001b[0;32m--> 586\u001b[0;31m     \u001b[0;32mreturn\u001b[0m \u001b[0m_read\u001b[0m\u001b[0;34m(\u001b[0m\u001b[0mfilepath_or_buffer\u001b[0m\u001b[0;34m,\u001b[0m \u001b[0mkwds\u001b[0m\u001b[0;34m)\u001b[0m\u001b[0;34m\u001b[0m\u001b[0;34m\u001b[0m\u001b[0m\n\u001b[0m\u001b[1;32m    587\u001b[0m \u001b[0;34m\u001b[0m\u001b[0m\n\u001b[1;32m    588\u001b[0m \u001b[0;34m\u001b[0m\u001b[0m\n",
      "\u001b[0;32m~/anaconda3/lib/python3.8/site-packages/pandas/io/parsers/readers.py\u001b[0m in \u001b[0;36m_read\u001b[0;34m(filepath_or_buffer, kwds)\u001b[0m\n\u001b[1;32m    480\u001b[0m \u001b[0;34m\u001b[0m\u001b[0m\n\u001b[1;32m    481\u001b[0m     \u001b[0;31m# Create the parser.\u001b[0m\u001b[0;34m\u001b[0m\u001b[0;34m\u001b[0m\u001b[0;34m\u001b[0m\u001b[0m\n\u001b[0;32m--> 482\u001b[0;31m     \u001b[0mparser\u001b[0m \u001b[0;34m=\u001b[0m \u001b[0mTextFileReader\u001b[0m\u001b[0;34m(\u001b[0m\u001b[0mfilepath_or_buffer\u001b[0m\u001b[0;34m,\u001b[0m \u001b[0;34m**\u001b[0m\u001b[0mkwds\u001b[0m\u001b[0;34m)\u001b[0m\u001b[0;34m\u001b[0m\u001b[0;34m\u001b[0m\u001b[0m\n\u001b[0m\u001b[1;32m    483\u001b[0m \u001b[0;34m\u001b[0m\u001b[0m\n\u001b[1;32m    484\u001b[0m     \u001b[0;32mif\u001b[0m \u001b[0mchunksize\u001b[0m \u001b[0;32mor\u001b[0m \u001b[0miterator\u001b[0m\u001b[0;34m:\u001b[0m\u001b[0;34m\u001b[0m\u001b[0;34m\u001b[0m\u001b[0m\n",
      "\u001b[0;32m~/anaconda3/lib/python3.8/site-packages/pandas/io/parsers/readers.py\u001b[0m in \u001b[0;36m__init__\u001b[0;34m(self, f, engine, **kwds)\u001b[0m\n\u001b[1;32m    809\u001b[0m             \u001b[0mself\u001b[0m\u001b[0;34m.\u001b[0m\u001b[0moptions\u001b[0m\u001b[0;34m[\u001b[0m\u001b[0;34m\"has_index_names\"\u001b[0m\u001b[0;34m]\u001b[0m \u001b[0;34m=\u001b[0m \u001b[0mkwds\u001b[0m\u001b[0;34m[\u001b[0m\u001b[0;34m\"has_index_names\"\u001b[0m\u001b[0;34m]\u001b[0m\u001b[0;34m\u001b[0m\u001b[0;34m\u001b[0m\u001b[0m\n\u001b[1;32m    810\u001b[0m \u001b[0;34m\u001b[0m\u001b[0m\n\u001b[0;32m--> 811\u001b[0;31m         \u001b[0mself\u001b[0m\u001b[0;34m.\u001b[0m\u001b[0m_engine\u001b[0m \u001b[0;34m=\u001b[0m \u001b[0mself\u001b[0m\u001b[0;34m.\u001b[0m\u001b[0m_make_engine\u001b[0m\u001b[0;34m(\u001b[0m\u001b[0mself\u001b[0m\u001b[0;34m.\u001b[0m\u001b[0mengine\u001b[0m\u001b[0;34m)\u001b[0m\u001b[0;34m\u001b[0m\u001b[0;34m\u001b[0m\u001b[0m\n\u001b[0m\u001b[1;32m    812\u001b[0m \u001b[0;34m\u001b[0m\u001b[0m\n\u001b[1;32m    813\u001b[0m     \u001b[0;32mdef\u001b[0m \u001b[0mclose\u001b[0m\u001b[0;34m(\u001b[0m\u001b[0mself\u001b[0m\u001b[0;34m)\u001b[0m\u001b[0;34m:\u001b[0m\u001b[0;34m\u001b[0m\u001b[0;34m\u001b[0m\u001b[0m\n",
      "\u001b[0;32m~/anaconda3/lib/python3.8/site-packages/pandas/io/parsers/readers.py\u001b[0m in \u001b[0;36m_make_engine\u001b[0;34m(self, engine)\u001b[0m\n\u001b[1;32m   1038\u001b[0m             )\n\u001b[1;32m   1039\u001b[0m         \u001b[0;31m# error: Too many arguments for \"ParserBase\"\u001b[0m\u001b[0;34m\u001b[0m\u001b[0;34m\u001b[0m\u001b[0;34m\u001b[0m\u001b[0m\n\u001b[0;32m-> 1040\u001b[0;31m         \u001b[0;32mreturn\u001b[0m \u001b[0mmapping\u001b[0m\u001b[0;34m[\u001b[0m\u001b[0mengine\u001b[0m\u001b[0;34m]\u001b[0m\u001b[0;34m(\u001b[0m\u001b[0mself\u001b[0m\u001b[0;34m.\u001b[0m\u001b[0mf\u001b[0m\u001b[0;34m,\u001b[0m \u001b[0;34m**\u001b[0m\u001b[0mself\u001b[0m\u001b[0;34m.\u001b[0m\u001b[0moptions\u001b[0m\u001b[0;34m)\u001b[0m  \u001b[0;31m# type: ignore[call-arg]\u001b[0m\u001b[0;34m\u001b[0m\u001b[0;34m\u001b[0m\u001b[0m\n\u001b[0m\u001b[1;32m   1041\u001b[0m \u001b[0;34m\u001b[0m\u001b[0m\n\u001b[1;32m   1042\u001b[0m     \u001b[0;32mdef\u001b[0m \u001b[0m_failover_to_python\u001b[0m\u001b[0;34m(\u001b[0m\u001b[0mself\u001b[0m\u001b[0;34m)\u001b[0m\u001b[0;34m:\u001b[0m\u001b[0;34m\u001b[0m\u001b[0;34m\u001b[0m\u001b[0m\n",
      "\u001b[0;32m~/anaconda3/lib/python3.8/site-packages/pandas/io/parsers/c_parser_wrapper.py\u001b[0m in \u001b[0;36m__init__\u001b[0;34m(self, src, **kwds)\u001b[0m\n\u001b[1;32m     49\u001b[0m \u001b[0;34m\u001b[0m\u001b[0m\n\u001b[1;32m     50\u001b[0m         \u001b[0;31m# open handles\u001b[0m\u001b[0;34m\u001b[0m\u001b[0;34m\u001b[0m\u001b[0;34m\u001b[0m\u001b[0m\n\u001b[0;32m---> 51\u001b[0;31m         \u001b[0mself\u001b[0m\u001b[0;34m.\u001b[0m\u001b[0m_open_handles\u001b[0m\u001b[0;34m(\u001b[0m\u001b[0msrc\u001b[0m\u001b[0;34m,\u001b[0m \u001b[0mkwds\u001b[0m\u001b[0;34m)\u001b[0m\u001b[0;34m\u001b[0m\u001b[0;34m\u001b[0m\u001b[0m\n\u001b[0m\u001b[1;32m     52\u001b[0m         \u001b[0;32massert\u001b[0m \u001b[0mself\u001b[0m\u001b[0;34m.\u001b[0m\u001b[0mhandles\u001b[0m \u001b[0;32mis\u001b[0m \u001b[0;32mnot\u001b[0m \u001b[0;32mNone\u001b[0m\u001b[0;34m\u001b[0m\u001b[0;34m\u001b[0m\u001b[0m\n\u001b[1;32m     53\u001b[0m \u001b[0;34m\u001b[0m\u001b[0m\n",
      "\u001b[0;32m~/anaconda3/lib/python3.8/site-packages/pandas/io/parsers/base_parser.py\u001b[0m in \u001b[0;36m_open_handles\u001b[0;34m(self, src, kwds)\u001b[0m\n\u001b[1;32m    220\u001b[0m         \u001b[0mLet\u001b[0m \u001b[0mthe\u001b[0m \u001b[0mreaders\u001b[0m \u001b[0mopen\u001b[0m \u001b[0mIOHandles\u001b[0m \u001b[0mafter\u001b[0m \u001b[0mthey\u001b[0m \u001b[0mare\u001b[0m \u001b[0mdone\u001b[0m \u001b[0;32mwith\u001b[0m \u001b[0mtheir\u001b[0m \u001b[0mpotential\u001b[0m \u001b[0mraises\u001b[0m\u001b[0;34m.\u001b[0m\u001b[0;34m\u001b[0m\u001b[0;34m\u001b[0m\u001b[0m\n\u001b[1;32m    221\u001b[0m         \"\"\"\n\u001b[0;32m--> 222\u001b[0;31m         self.handles = get_handle(\n\u001b[0m\u001b[1;32m    223\u001b[0m             \u001b[0msrc\u001b[0m\u001b[0;34m,\u001b[0m\u001b[0;34m\u001b[0m\u001b[0;34m\u001b[0m\u001b[0m\n\u001b[1;32m    224\u001b[0m             \u001b[0;34m\"r\"\u001b[0m\u001b[0;34m,\u001b[0m\u001b[0;34m\u001b[0m\u001b[0;34m\u001b[0m\u001b[0m\n",
      "\u001b[0;32m~/anaconda3/lib/python3.8/site-packages/pandas/io/common.py\u001b[0m in \u001b[0;36mget_handle\u001b[0;34m(path_or_buf, mode, encoding, compression, memory_map, is_text, errors, storage_options)\u001b[0m\n\u001b[1;32m    700\u001b[0m         \u001b[0;32mif\u001b[0m \u001b[0mioargs\u001b[0m\u001b[0;34m.\u001b[0m\u001b[0mencoding\u001b[0m \u001b[0;32mand\u001b[0m \u001b[0;34m\"b\"\u001b[0m \u001b[0;32mnot\u001b[0m \u001b[0;32min\u001b[0m \u001b[0mioargs\u001b[0m\u001b[0;34m.\u001b[0m\u001b[0mmode\u001b[0m\u001b[0;34m:\u001b[0m\u001b[0;34m\u001b[0m\u001b[0;34m\u001b[0m\u001b[0m\n\u001b[1;32m    701\u001b[0m             \u001b[0;31m# Encoding\u001b[0m\u001b[0;34m\u001b[0m\u001b[0;34m\u001b[0m\u001b[0;34m\u001b[0m\u001b[0m\n\u001b[0;32m--> 702\u001b[0;31m             handle = open(\n\u001b[0m\u001b[1;32m    703\u001b[0m                 \u001b[0mhandle\u001b[0m\u001b[0;34m,\u001b[0m\u001b[0;34m\u001b[0m\u001b[0;34m\u001b[0m\u001b[0m\n\u001b[1;32m    704\u001b[0m                 \u001b[0mioargs\u001b[0m\u001b[0;34m.\u001b[0m\u001b[0mmode\u001b[0m\u001b[0;34m,\u001b[0m\u001b[0;34m\u001b[0m\u001b[0;34m\u001b[0m\u001b[0m\n",
      "\u001b[0;31mFileNotFoundError\u001b[0m: [Errno 2] No such file or directory: '/home/sgorla/data/data_000637.txt'"
     ]
    }
   ],
   "source": [
    "# WARNING! link in past notebook was wrong!, (if needed) get the right file from:\n",
    "#!wget https://www.dropbox.com/s/xvjzaxzz3ysphme/data_000637.txt -P ~/data/\n",
    "\n",
    "file_name=\"~/data/data_000637.txt\"\n",
    "data=pd.read_csv(file_name)\n",
    "data"
   ]
  },
  {
   "cell_type": "markdown",
   "metadata": {},
   "source": [
    "Let's now do some operations among (elements of) columns"
   ]
  },
  {
   "cell_type": "code",
   "execution_count": null,
   "metadata": {},
   "outputs": [],
   "source": [
    "# the one-liner killing it all\n",
    "data['timens']=data['TDC_MEAS']*25/30+data['BX_COUNTER']*25"
   ]
  },
  {
   "cell_type": "code",
   "execution_count": null,
   "metadata": {},
   "outputs": [],
   "source": [
    "data['timens']"
   ]
  },
  {
   "cell_type": "code",
   "execution_count": null,
   "metadata": {},
   "outputs": [],
   "source": [
    "# the old slooow way\n",
    "def conversion(data):\n",
    "    result=[]\n",
    "    for i in range(len(data)): \n",
    "        result.append(data.loc[data.index[i],'TDC_MEAS']*25/30.+data.loc[data.index[i],'BX_COUNTER']*25)\n",
    "    return result\n",
    "\n",
    "data['timens']=conversion(data)"
   ]
  },
  {
   "cell_type": "markdown",
   "metadata": {},
   "source": [
    "## Merge\n",
    "\n",
    "pandas provides various facilities for easily combining together Series, DataFrame, and Panel objects with various kinds of set logic for the indexes and relational algebra functionality in the case of join / merge-type operations.\n",
    "\n",
    "### Concat\n",
    "\n",
    "concatenation (adding rows) is straightforward\n"
   ]
  },
  {
   "cell_type": "code",
   "execution_count": null,
   "metadata": {},
   "outputs": [],
   "source": [
    "rdf = pd.DataFrame(np.random.randn(10, 4))\n",
    "rdf"
   ]
  },
  {
   "cell_type": "code",
   "execution_count": null,
   "metadata": {},
   "outputs": [],
   "source": [
    "# divide it into pieaces raw-wise\n",
    "pieces = [rdf[:3], rdf[3:7], rdf[7:]]\n",
    "pieces"
   ]
  },
  {
   "cell_type": "code",
   "execution_count": null,
   "metadata": {},
   "outputs": [],
   "source": [
    "# put it back together\n",
    "#pd.concat(pieces)\n",
    "\n",
    "# indexes can be ignored\n",
    "pd.concat(pieces, ignore_index=True)\n",
    "\n",
    "# in case of dimension mismatch, Nan are added where needed"
   ]
  },
  {
   "cell_type": "code",
   "execution_count": null,
   "metadata": {},
   "outputs": [],
   "source": [
    "# appending a single row (as a Series)\n",
    "s = rdf.iloc[3]\n",
    "rdf.append(s, ignore_index=True)\n",
    "rdf"
   ]
  },
  {
   "cell_type": "markdown",
   "metadata": {},
   "source": [
    "### Merge/Join\n",
    "\n",
    "SQL like operations on table can be performed on DataFrames. This is all rather sophisticated, refer to the [doc](https://pandas.pydata.org/pandas-docs/stable/merging.html#merging) for more info/examples"
   ]
  },
  {
   "cell_type": "code",
   "execution_count": null,
   "metadata": {},
   "outputs": [],
   "source": [
    "left = pd.DataFrame({'key': ['foo', 'bar'], 'lval': [1, 2]})\n",
    "print(left)\n",
    "right = pd.DataFrame({'key': ['foo', 'bar'], 'rval': [4, 5]})\n",
    "print(right)\n",
    "pd.merge(left,right,on=\"key\")"
   ]
  },
  {
   "cell_type": "markdown",
   "metadata": {},
   "source": [
    "## Grouping\n",
    "\n",
    "By “group by” we are referring to a process involving one or more of the following steps:\n",
    "\n",
    "* Splitting the data into groups based on some criteria\n",
    "* Applying a function to each group independently\n",
    "* Combining the results into a data structure\n"
   ]
  },
  {
   "cell_type": "code",
   "execution_count": null,
   "metadata": {},
   "outputs": [],
   "source": [
    "gdf = pd.DataFrame({'A' : ['foo', 'bar', 'foo', 'bar',\n",
    "                          'foo', 'bar', 'foo', 'foo'],\n",
    "                    'B' : ['one', 'one', 'two', 'three',\n",
    "                           'two', 'two', 'one', 'three'],\n",
    "                    'C' : np.random.randn(8),\n",
    "                    'D' : np.random.randn(8)})\n",
    "gdf"
   ]
  },
  {
   "cell_type": "code",
   "execution_count": null,
   "metadata": {},
   "outputs": [],
   "source": [
    "# Grouping and then applying the sum() \n",
    "# function to the resulting groups (effective only where number are there).\n",
    "gdf.groupby('A').sum()"
   ]
  },
  {
   "cell_type": "markdown",
   "metadata": {},
   "source": [
    "## Multi-indexing\n",
    "\n",
    "\n",
    "Hierarchical / Multi-level indexing allows sophisticated data analysis on higher dimensional data. In essence, it enables you to store and manipulate data with an arbitrary number of dimensions in lower dimensional data structures like Series (1d) and DataFrame (2d)."
   ]
  },
  {
   "cell_type": "code",
   "execution_count": null,
   "metadata": {},
   "outputs": [],
   "source": [
    "tuples = list(zip(['bar', 'bar', 'baz', 'baz', 'foo', 'foo', 'qux', 'qux'],\n",
    "          ['one', 'two', 'one', 'two', 'one', 'two', 'one', 'two']))\n",
    "multi_index = pd.MultiIndex.from_tuples(tuples, names=['first', 'second'])\n",
    "print (multi_index,'\\n')\n",
    "\n",
    "s = pd.Series(np.random.randn(8), index=multi_index)\n",
    "print (s)\n"
   ]
  },
  {
   "cell_type": "code",
   "execution_count": null,
   "metadata": {},
   "outputs": [],
   "source": [
    "# it enables further features of the groupby method,\n",
    "# e.g. when group-by by multiple columns\n",
    "gdf.groupby(['A','B']).sum()"
   ]
  },
  {
   "cell_type": "code",
   "execution_count": null,
   "metadata": {},
   "outputs": [],
   "source": [
    "# stack() method “compresses” a level in the DataFrame’s columns\n",
    "gdf.groupby(['A','B']).sum().stack()"
   ]
  },
  {
   "cell_type": "markdown",
   "metadata": {},
   "source": [
    "## Plotting\n",
    "\n",
    "Just a preview, more on the next lab class!"
   ]
  },
  {
   "cell_type": "code",
   "execution_count": null,
   "metadata": {},
   "outputs": [],
   "source": [
    "ts = pd.Series(np.random.randn(1000), index=pd.date_range('1/1/2000', periods=1000))\n",
    "ts.cumsum().plot()"
   ]
  },
  {
   "cell_type": "code",
   "execution_count": null,
   "metadata": {},
   "outputs": [],
   "source": [
    "import matplotlib.pyplot as plt\n",
    "\n",
    "pdf=pd.DataFrame(np.random.randn(1000, 4), index=ts.index,columns=['A', 'B', 'C', 'D'])\n",
    "pdf = pdf.cumsum()\n",
    "plt.figure(); pdf.plot(); plt.legend(loc='best')"
   ]
  },
  {
   "cell_type": "code",
   "execution_count": null,
   "metadata": {},
   "outputs": [],
   "source": []
  }
 ],
 "metadata": {
  "kernelspec": {
   "display_name": "Python 3 (ipykernel)",
   "language": "python",
   "name": "python3"
  },
  "language_info": {
   "codemirror_mode": {
    "name": "ipython",
    "version": 3
   },
   "file_extension": ".py",
   "mimetype": "text/x-python",
   "name": "python",
   "nbconvert_exporter": "python",
   "pygments_lexer": "ipython3",
   "version": "3.8.8"
  }
 },
 "nbformat": 4,
 "nbformat_minor": 2
}
