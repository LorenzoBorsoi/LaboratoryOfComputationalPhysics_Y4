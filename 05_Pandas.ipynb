{
 "cells": [
  {
   "cell_type": "markdown",
   "metadata": {},
   "source": [
    "# Pandas\n",
    "\n",
    "The `numpy` module is excellent for numerical computations, but to handle missing data or arrays with mixed types takes more work. The `pandas` module is currently the most widely used tool for data manipulation, providing high-performance, easy-to-use data structures and advanced data analysis tools.\n",
    "\n",
    "In particular `pandas` features:\n",
    "\n",
    "* A fast and efficient \"DataFrame\" object for data manipulation with integrated indexing;\n",
    "* Tools for reading and writing data between in-memory data structures and different formats (CSV, Excel, SQL, HDF5);\n",
    "* Intelligent data alignment and integrated handling of missing data;\n",
    "* Intelligent label-based slicing, fancy indexing, and subsetting of large data sets;\n",
    "* Aggregating or transforming data with a powerful \"group-by\" engine; \n",
    "* High performance merging and joining of data sets;\n",
    "* Hierarchical axis indexing provides an intuitive way of working with high-dimensional data in a lower-dimensional data structure;\n",
    "* Time series-functionalities;\n",
    "* Highly optimized for performance, with critical code paths written in Cython or C.\n"
   ]
  },
  {
   "cell_type": "code",
   "execution_count": 1,
   "metadata": {},
   "outputs": [],
   "source": [
    "import pandas as pd\n",
    "import numpy as np"
   ]
  },
  {
   "cell_type": "markdown",
   "metadata": {},
   "source": [
    "## Series\n",
    "\n",
    "Series are completely equivalent to 1D array but with axis labels and the possibility to store heterogeneous elements. Of paramount importance are the time-series, used to define time evolutions of a phenomenon. \n"
   ]
  },
  {
   "cell_type": "code",
   "execution_count": 2,
   "metadata": {},
   "outputs": [
    {
     "name": "stdout",
     "output_type": "stream",
     "text": [
      "xs: a    0.0\n",
      "b    0.5\n",
      "c    1.0\n",
      "d    1.5\n",
      "e    2.0\n",
      "f    2.5\n",
      "g    3.0\n",
      "h    3.5\n",
      "i    4.0\n",
      "j    4.5\n",
      "dtype: float64 \n",
      "\n",
      "xs indexes: Index(['a', 'b', 'c', 'd', 'e', 'f', 'g', 'h', 'i', 'j'], dtype='object') \n",
      "\n",
      "xs values: [0.  0.5 1.  1.5 2.  2.5 3.  3.5 4.  4.5] <class 'numpy.ndarray'> \n",
      "\n",
      "2.5 2.5 3.5 \n",
      "\n",
      "d    1.5\n",
      "f    2.5\n",
      "h    3.5\n",
      "dtype: float64 \n",
      "\n",
      "<class 'pandas.core.series.Series'> \n",
      "\n"
     ]
    }
   ],
   "source": [
    "from string import ascii_lowercase as letters\n",
    "\n",
    "# Creating a series, accessing indexes, values and values by their index \n",
    "xs = pd.Series(np.arange(10)*0.5, index=tuple(letters[:10]))\n",
    "print (\"xs:\", xs,'\\n')\n",
    "print (\"xs indexes:\",xs.index,'\\n')\n",
    "# Values of the Series are actually a numpy array\n",
    "print (\"xs values:\", xs.values, type(xs.values),'\\n')\n",
    "print (xs['f'], xs.f, xs.h, '\\n')\n",
    "print (xs[['d', 'f', 'h']], '\\n')\n",
    "print (type(xs[['d', 'f', 'h']]), '\\n')"
   ]
  },
  {
   "cell_type": "code",
   "execution_count": 3,
   "metadata": {},
   "outputs": [
    {
     "name": "stdout",
     "output_type": "stream",
     "text": [
      "a    0.0\n",
      "b    0.5\n",
      "c    1.0\n",
      "dtype: float64 \n",
      "\n",
      "h    3.5\n",
      "i    4.0\n",
      "j    4.5\n",
      "dtype: float64 \n",
      "\n",
      "a    0.0\n",
      "d    1.5\n",
      "g    3.0\n",
      "j    4.5\n",
      "dtype: float64 \n",
      "\n",
      "h    3.5\n",
      "i    4.0\n",
      "j    4.5\n",
      "dtype: float64 \n",
      "\n",
      "a     1.000000\n",
      "b     1.648721\n",
      "c     2.718282\n",
      "d     4.481689\n",
      "e     7.389056\n",
      "f    12.182494\n",
      "g    20.085537\n",
      "h    33.115452\n",
      "i    54.598150\n",
      "j    90.017131\n",
      "dtype: float64 \n",
      "\n",
      "2.25 1.4361406616345072 \n",
      "\n"
     ]
    }
   ],
   "source": [
    "# Extracting elements and operations: same as numpy array\n",
    "print (xs[:3],'\\n')\n",
    "print (xs[7:], '\\n')\n",
    "print (xs[::3], '\\n')\n",
    "print (xs[xs>3], '\\n')\n",
    "print (np.exp(xs), '\\n')\n",
    "print (np.mean(xs), np.std(xs), '\\n')"
   ]
  },
  {
   "cell_type": "code",
   "execution_count": 4,
   "metadata": {},
   "outputs": [
    {
     "data": {
      "text/plain": [
       "b         1\n",
       "a       cat\n",
       "c    [2, 3]\n",
       "dtype: object"
      ]
     },
     "execution_count": 4,
     "metadata": {},
     "output_type": "execute_result"
    }
   ],
   "source": [
    "# Series can be created from python dictionary too.\n",
    "# Note that the elements can be whatever!\n",
    "d = {'b' : 1, 'a' : 'cat', 'c' : [2,3]}\n",
    "pd.Series(d)\n",
    "\n"
   ]
  },
  {
   "cell_type": "markdown",
   "metadata": {},
   "source": [
    "A key difference between Series and ndarray is that operations between Series automatically align the data based on label. Thus, you can write computations without considering whether the Series involved have the same labels."
   ]
  },
  {
   "cell_type": "code",
   "execution_count": 5,
   "metadata": {},
   "outputs": [
    {
     "name": "stdout",
     "output_type": "stream",
     "text": [
<<<<<<< HEAD
      "a    0.375657\n",
      "b   -0.390939\n",
      "c    0.231917\n",
      "d    0.711451\n",
      "e   -2.153603\n",
      "dtype: float64\n",
      "a         NaN\n",
      "b   -0.781878\n",
      "c    0.463835\n",
      "d    1.422902\n",
=======
      "a   -0.330660\n",
      "b    1.253244\n",
      "c    0.467692\n",
      "d    0.292408\n",
      "e    0.928898\n",
      "dtype: float64\n",
      "a         NaN\n",
      "b    2.506489\n",
      "c    0.935384\n",
      "d    0.584816\n",
>>>>>>> main
      "e         NaN\n",
      "dtype: float64\n"
     ]
    }
   ],
   "source": [
    "s = pd.Series(np.random.randn(5), index=tuple(letters[:5]))\n",
    "print(s)\n",
    "s = s[1:] + s[:-1]\n",
    "print(s)"
   ]
  },
  {
   "cell_type": "markdown",
   "metadata": {},
   "source": [
    "### Time series\n",
    "\n",
    "Time series are very often used to profile the behaviour of a quantity as a function of time. Pandas has a special index for that, `DatetimeIndex`, that can be created e.g. with the function `pd.data_range()`"
   ]
  },
  {
   "cell_type": "code",
   "execution_count": 6,
   "metadata": {},
   "outputs": [
    {
     "name": "stdout",
     "output_type": "stream",
     "text": [
<<<<<<< HEAD
      "2021-11-24\n",
=======
      "2021-11-22\n",
>>>>>>> main
      "2021-11-22 12:45:10.000015\n",
      "22/11/2021 12:45:00\n",
      "DatetimeIndex(['2021-11-22 12:45:00', '2021-11-23 12:45:00',\n",
      "               '2021-11-24 12:45:00', '2021-11-25 12:45:00',\n",
      "               '2021-11-26 12:45:00', '2021-11-27 12:45:00',\n",
      "               '2021-11-28 12:45:00'],\n",
      "              dtype='datetime64[ns]', freq='D')\n",
      "DatetimeIndex(['2021-11-22 12:45:00', '2021-11-22 12:45:01',\n",
      "               '2021-11-22 12:45:02', '2021-11-22 12:45:03',\n",
      "               '2021-11-22 12:45:04', '2021-11-22 12:45:05',\n",
      "               '2021-11-22 12:45:06', '2021-11-22 12:45:07',\n",
      "               '2021-11-22 12:45:08', '2021-11-22 12:45:09',\n",
      "               ...\n",
      "               '2021-11-22 13:44:50', '2021-11-22 13:44:51',\n",
      "               '2021-11-22 13:44:52', '2021-11-22 13:44:53',\n",
      "               '2021-11-22 13:44:54', '2021-11-22 13:44:55',\n",
      "               '2021-11-22 13:44:56', '2021-11-22 13:44:57',\n",
      "               '2021-11-22 13:44:58', '2021-11-22 13:44:59'],\n",
      "              dtype='datetime64[ns]', length=3600, freq='S')\n"
     ]
    }
   ],
   "source": [
    "# to define a date, the datetime module is very useful\n",
    "import datetime as dt\n",
    "date = dt.date.today()\n",
    "print(date)\n",
    "\n",
    "date = dt.datetime(2021,11,22,12,45,10,15)\n",
    "print (date)\n",
    "\n",
    "# otherwise, several notations are interpreted too\n",
    "date = 'Nov 22 2021'\n",
    "# or alternatively\n",
    "date = '22/11/2021 12:45:00'\n",
    "print (date)\n",
    "\n",
    "days = pd.date_range(date, periods=7, freq='D')\n",
    "print (days)\n",
    "\n",
    "seconds = pd.date_range(date, periods=3600, freq='s')\n",
    "print (seconds)\n"
   ]
  },
  {
   "cell_type": "markdown",
   "metadata": {},
   "source": [
    "To learn more about the frequency strings, please see this [link](http://pandas.pydata.org/pandas-docs/stable/timeseries.html#offset-aliases)\n",
    "\n",
    "\n",
    "Timestamped data is the most basic type of time series data that associates values with points in time. For pandas objects it means using the points in time.\n",
    "\n",
    "functions like `pd.to_datetime` can be used, for instance, when reading information as string from a dataset.\n",
    "\n",
    "Timestamp is the pandas equivalent of python’s Datetime and is interchangeable with it in most cases. "
   ]
  },
  {
   "cell_type": "code",
   "execution_count": 7,
   "metadata": {},
   "outputs": [
    {
     "name": "stdout",
     "output_type": "stream",
     "text": [
      "1604880000000000000\n",
      "<class 'pandas._libs.tslibs.timestamps.Timestamp'>\n",
      "1289520000000000000\n",
      "2010-11-12 00:00:00\n",
      "1289520000000000000\n"
     ]
    }
   ],
   "source": [
    "tstamp = pd.Timestamp(dt.datetime(2020, 11, 9))\n",
    "\n",
    "# internally it counts the nanoseconds from January 1st 19\n",
    "#tstamp = pd.Timestamp(dt.datetime(1970, 1, 1, 0, 0, 0, 1))\n",
    "print(tstamp.value)\n",
    "\n",
    "# when creating a timestamp the format can be explicitly passed\n",
    "ts = pd.to_datetime('2010/11/12', format='%Y/%m/%d')\n",
    "print (type(ts))\n",
    "print (ts.value)\n",
    "ts = pd.to_datetime('12-11-2010 00:00', format='%d-%m-%Y %H:%M')\n",
    "print (ts)\n",
    "print (ts.value)\n",
    "\n"
   ]
  },
  {
   "cell_type": "markdown",
   "metadata": {},
   "source": [
    "A standard series can be created and (range of) elements can be used as indexes"
   ]
  },
  {
   "cell_type": "code",
   "execution_count": 8,
   "metadata": {
    "scrolled": true
   },
   "outputs": [
    {
     "name": "stdout",
     "output_type": "stream",
     "text": [
<<<<<<< HEAD
      "2021-11-22 12:45:00     9.857113\n",
      "2021-11-23 12:45:00    10.565422\n",
      "2021-11-24 12:45:00    11.605483\n",
      "2021-11-25 12:45:00    10.245923\n",
      "Freq: D, dtype: float64 \n",
      "\n",
      "2021-11-22 12:45:00     9.857113\n",
      "2021-11-23 12:45:00    10.565422\n",
=======
      "2021-11-22 12:45:00     8.302612\n",
      "2021-11-23 12:45:00     9.334342\n",
      "2021-11-24 12:45:00     8.122107\n",
      "2021-11-25 12:45:00    10.358022\n",
      "Freq: D, dtype: float64 \n",
      "\n",
      "2021-11-22 12:45:00    8.302612\n",
      "2021-11-23 12:45:00    9.334342\n",
>>>>>>> main
      "Freq: D, dtype: float64 \n",
      "\n"
     ]
    }
   ],
   "source": [
    "tseries = pd.Series(np.random.normal(10, 1, len(days)), index=days)\n",
    "# Extracting elements\n",
    "print (tseries[0:4], '\\n')\n",
    "print (tseries['2021-11-22':'2021-11-23'], '\\n') # Note - includes end time\n"
   ]
  },
  {
   "cell_type": "markdown",
   "metadata": {},
   "source": [
    "`pd.to_datetime` can also be used to create a `DatetimeIndex`:"
   ]
  },
  {
   "cell_type": "code",
   "execution_count": 9,
   "metadata": {},
   "outputs": [
    {
     "data": {
      "text/plain": [
       "DatetimeIndex(['1980-02-04', '1980-02-05', '1980-02-06', '1980-02-07'], dtype='datetime64[ns]', freq=None)"
      ]
     },
     "execution_count": 9,
     "metadata": {},
     "output_type": "execute_result"
    }
   ],
   "source": [
    "pd.to_datetime([1, 2, 3, 4], unit='D', origin=pd.Timestamp('1980-02-03'))"
   ]
  },
  {
   "cell_type": "markdown",
   "metadata": {},
   "source": [
    "## DataFrame\n",
    "\n",
    "A pandas DataFrame is like a simple tabular spreadsheet. For future reference (or for people already familiar with R), a pandas DataFrame is very similar to the R DataFrame.\n",
    "\n",
    "Each column in a DataFrame is a Series object.\n",
    "\n",
    "The element can be whatever, missing data are dealt with too (as NaN)"
   ]
  },
  {
   "cell_type": "markdown",
   "metadata": {},
   "source": [
    "### DataFrame creation\n",
    "\n",
    "A DataFrame can be created implicitly, with, e.g., a DatatimeIndex object as index:"
   ]
  },
  {
   "cell_type": "code",
   "execution_count": 10,
   "metadata": {},
   "outputs": [
    {
     "data": {
      "text/html": [
       "<div>\n",
       "<style scoped>\n",
       "    .dataframe tbody tr th:only-of-type {\n",
       "        vertical-align: middle;\n",
       "    }\n",
       "\n",
       "    .dataframe tbody tr th {\n",
       "        vertical-align: top;\n",
       "    }\n",
       "\n",
       "    .dataframe thead th {\n",
       "        text-align: right;\n",
       "    }\n",
       "</style>\n",
       "<table border=\"1\" class=\"dataframe\">\n",
       "  <thead>\n",
       "    <tr style=\"text-align: right;\">\n",
       "      <th></th>\n",
       "      <th>A</th>\n",
       "      <th>B</th>\n",
       "      <th>C</th>\n",
       "      <th>D</th>\n",
       "    </tr>\n",
       "  </thead>\n",
       "  <tbody>\n",
       "    <tr>\n",
       "      <th>2021-11-22 12:45:00</th>\n",
<<<<<<< HEAD
       "      <td>1.648513</td>\n",
       "      <td>-0.849147</td>\n",
       "      <td>-0.078706</td>\n",
       "      <td>-0.942707</td>\n",
       "    </tr>\n",
       "    <tr>\n",
       "      <th>2021-11-22 13:45:00</th>\n",
       "      <td>-0.631933</td>\n",
       "      <td>-1.298313</td>\n",
       "      <td>-0.034452</td>\n",
       "      <td>-0.514625</td>\n",
       "    </tr>\n",
       "    <tr>\n",
       "      <th>2021-11-22 14:45:00</th>\n",
       "      <td>-0.692474</td>\n",
       "      <td>-0.997107</td>\n",
       "      <td>-0.875579</td>\n",
       "      <td>-1.057989</td>\n",
       "    </tr>\n",
       "    <tr>\n",
       "      <th>2021-11-22 15:45:00</th>\n",
       "      <td>-1.646534</td>\n",
       "      <td>-0.377956</td>\n",
       "      <td>-1.269053</td>\n",
       "      <td>1.341731</td>\n",
       "    </tr>\n",
       "    <tr>\n",
       "      <th>2021-11-22 16:45:00</th>\n",
       "      <td>1.793438</td>\n",
       "      <td>-0.812404</td>\n",
       "      <td>0.962738</td>\n",
       "      <td>-0.256172</td>\n",
       "    </tr>\n",
       "    <tr>\n",
       "      <th>2021-11-22 17:45:00</th>\n",
       "      <td>-1.180860</td>\n",
       "      <td>0.657816</td>\n",
       "      <td>0.584254</td>\n",
       "      <td>-0.150133</td>\n",
       "    </tr>\n",
       "    <tr>\n",
       "      <th>2021-11-22 18:45:00</th>\n",
       "      <td>-0.418599</td>\n",
       "      <td>-1.268032</td>\n",
       "      <td>-0.864764</td>\n",
       "      <td>0.601635</td>\n",
       "    </tr>\n",
       "    <tr>\n",
       "      <th>2021-11-22 19:45:00</th>\n",
       "      <td>0.075597</td>\n",
       "      <td>0.405518</td>\n",
       "      <td>-0.427705</td>\n",
       "      <td>0.122531</td>\n",
       "    </tr>\n",
       "    <tr>\n",
       "      <th>2021-11-22 20:45:00</th>\n",
       "      <td>0.808515</td>\n",
       "      <td>0.324969</td>\n",
       "      <td>-0.987045</td>\n",
       "      <td>-0.774722</td>\n",
       "    </tr>\n",
       "    <tr>\n",
       "      <th>2021-11-22 21:45:00</th>\n",
       "      <td>0.382066</td>\n",
       "      <td>-1.237824</td>\n",
       "      <td>0.401625</td>\n",
       "      <td>-1.279537</td>\n",
=======
       "      <td>0.162367</td>\n",
       "      <td>0.888653</td>\n",
       "      <td>0.190292</td>\n",
       "      <td>-0.027429</td>\n",
       "    </tr>\n",
       "    <tr>\n",
       "      <th>2021-11-22 13:45:00</th>\n",
       "      <td>-0.681071</td>\n",
       "      <td>0.713753</td>\n",
       "      <td>-0.105593</td>\n",
       "      <td>0.106567</td>\n",
       "    </tr>\n",
       "    <tr>\n",
       "      <th>2021-11-22 14:45:00</th>\n",
       "      <td>0.081801</td>\n",
       "      <td>-0.161070</td>\n",
       "      <td>0.490220</td>\n",
       "      <td>-1.185352</td>\n",
       "    </tr>\n",
       "    <tr>\n",
       "      <th>2021-11-22 15:45:00</th>\n",
       "      <td>-1.566905</td>\n",
       "      <td>-0.023480</td>\n",
       "      <td>-0.209717</td>\n",
       "      <td>-0.717890</td>\n",
       "    </tr>\n",
       "    <tr>\n",
       "      <th>2021-11-22 16:45:00</th>\n",
       "      <td>-0.993451</td>\n",
       "      <td>0.660596</td>\n",
       "      <td>-0.640795</td>\n",
       "      <td>0.777044</td>\n",
       "    </tr>\n",
       "    <tr>\n",
       "      <th>2021-11-22 17:45:00</th>\n",
       "      <td>-0.502289</td>\n",
       "      <td>-1.540699</td>\n",
       "      <td>0.597723</td>\n",
       "      <td>1.132384</td>\n",
       "    </tr>\n",
       "    <tr>\n",
       "      <th>2021-11-22 18:45:00</th>\n",
       "      <td>1.027537</td>\n",
       "      <td>-1.167869</td>\n",
       "      <td>1.067255</td>\n",
       "      <td>0.464407</td>\n",
       "    </tr>\n",
       "    <tr>\n",
       "      <th>2021-11-22 19:45:00</th>\n",
       "      <td>0.818057</td>\n",
       "      <td>0.269213</td>\n",
       "      <td>0.314521</td>\n",
       "      <td>-0.136288</td>\n",
       "    </tr>\n",
       "    <tr>\n",
       "      <th>2021-11-22 20:45:00</th>\n",
       "      <td>0.786582</td>\n",
       "      <td>0.535676</td>\n",
       "      <td>-1.284995</td>\n",
       "      <td>0.268053</td>\n",
       "    </tr>\n",
       "    <tr>\n",
       "      <th>2021-11-22 21:45:00</th>\n",
       "      <td>-0.444392</td>\n",
       "      <td>1.156596</td>\n",
       "      <td>-1.391161</td>\n",
       "      <td>-0.012557</td>\n",
>>>>>>> main
       "    </tr>\n",
       "  </tbody>\n",
       "</table>\n",
       "</div>"
      ],
      "text/plain": [
       "                            A         B         C         D\n",
<<<<<<< HEAD
       "2021-11-22 12:45:00  1.648513 -0.849147 -0.078706 -0.942707\n",
       "2021-11-22 13:45:00 -0.631933 -1.298313 -0.034452 -0.514625\n",
       "2021-11-22 14:45:00 -0.692474 -0.997107 -0.875579 -1.057989\n",
       "2021-11-22 15:45:00 -1.646534 -0.377956 -1.269053  1.341731\n",
       "2021-11-22 16:45:00  1.793438 -0.812404  0.962738 -0.256172\n",
       "2021-11-22 17:45:00 -1.180860  0.657816  0.584254 -0.150133\n",
       "2021-11-22 18:45:00 -0.418599 -1.268032 -0.864764  0.601635\n",
       "2021-11-22 19:45:00  0.075597  0.405518 -0.427705  0.122531\n",
       "2021-11-22 20:45:00  0.808515  0.324969 -0.987045 -0.774722\n",
       "2021-11-22 21:45:00  0.382066 -1.237824  0.401625 -1.279537"
=======
       "2021-11-22 12:45:00  0.162367  0.888653  0.190292 -0.027429\n",
       "2021-11-22 13:45:00 -0.681071  0.713753 -0.105593  0.106567\n",
       "2021-11-22 14:45:00  0.081801 -0.161070  0.490220 -1.185352\n",
       "2021-11-22 15:45:00 -1.566905 -0.023480 -0.209717 -0.717890\n",
       "2021-11-22 16:45:00 -0.993451  0.660596 -0.640795  0.777044\n",
       "2021-11-22 17:45:00 -0.502289 -1.540699  0.597723  1.132384\n",
       "2021-11-22 18:45:00  1.027537 -1.167869  1.067255  0.464407\n",
       "2021-11-22 19:45:00  0.818057  0.269213  0.314521 -0.136288\n",
       "2021-11-22 20:45:00  0.786582  0.535676 -1.284995  0.268053\n",
       "2021-11-22 21:45:00 -0.444392  1.156596 -1.391161 -0.012557"
>>>>>>> main
      ]
     },
     "execution_count": 10,
     "metadata": {},
     "output_type": "execute_result"
    }
   ],
   "source": [
    "entries=10\n",
    "dates=pd.date_range('11/22/2021 12:45:00',freq='h', periods=entries)\n",
    "df = pd.DataFrame(np.random.randn(entries,4), index=dates, columns=['A','B','C','D'])\n",
    "df\n"
   ]
  },
  {
   "cell_type": "markdown",
   "metadata": {},
   "source": [
    "or by means of a dictionary:\n"
   ]
  },
  {
   "cell_type": "code",
<<<<<<< HEAD
   "execution_count": 11,
=======
   "execution_count": 13,
>>>>>>> main
   "metadata": {},
   "outputs": [
    {
     "data": {
      "text/html": [
       "<div>\n",
       "<style scoped>\n",
       "    .dataframe tbody tr th:only-of-type {\n",
       "        vertical-align: middle;\n",
       "    }\n",
       "\n",
       "    .dataframe tbody tr th {\n",
       "        vertical-align: top;\n",
       "    }\n",
       "\n",
       "    .dataframe thead th {\n",
       "        text-align: right;\n",
       "    }\n",
       "</style>\n",
       "<table border=\"1\" class=\"dataframe\">\n",
       "  <thead>\n",
       "    <tr style=\"text-align: right;\">\n",
       "      <th></th>\n",
       "      <th>A</th>\n",
       "      <th>B</th>\n",
       "      <th>C</th>\n",
       "      <th>D</th>\n",
       "      <th>E</th>\n",
       "    </tr>\n",
       "  </thead>\n",
       "  <tbody>\n",
       "    <tr>\n",
       "      <th>0</th>\n",
       "      <td>1.0</td>\n",
       "      <td>2013-01-02</td>\n",
       "      <td>1.0</td>\n",
       "      <td>7</td>\n",
       "      <td>test</td>\n",
       "    </tr>\n",
       "    <tr>\n",
       "      <th>1</th>\n",
       "      <td>1.0</td>\n",
       "      <td>2013-01-02</td>\n",
       "      <td>1.0</td>\n",
       "      <td>8</td>\n",
       "      <td>train</td>\n",
       "    </tr>\n",
       "    <tr>\n",
       "      <th>2</th>\n",
       "      <td>1.0</td>\n",
       "      <td>2013-01-02</td>\n",
       "      <td>1.0</td>\n",
       "      <td>9</td>\n",
       "      <td>test</td>\n",
       "    </tr>\n",
       "    <tr>\n",
       "      <th>3</th>\n",
       "      <td>1.0</td>\n",
       "      <td>2013-01-02</td>\n",
       "      <td>1.0</td>\n",
       "      <td>10</td>\n",
       "      <td>train</td>\n",
       "    </tr>\n",
       "  </tbody>\n",
       "</table>\n",
       "</div>"
      ],
      "text/plain": [
       "     A          B    C   D      E\n",
       "0  1.0 2013-01-02  1.0   7   test\n",
       "1  1.0 2013-01-02  1.0   8  train\n",
       "2  1.0 2013-01-02  1.0   9   test\n",
       "3  1.0 2013-01-02  1.0  10  train"
      ]
     },
<<<<<<< HEAD
     "execution_count": 11,
=======
     "execution_count": 13,
>>>>>>> main
     "metadata": {},
     "output_type": "execute_result"
    }
   ],
   "source": [
    "df2 = pd.DataFrame(\n",
    "    { 'A' : 1.,\n",
    "      'B' : pd.Timestamp('20130102'),\n",
    "      'C' : pd.Series(1,index=range(4),dtype='float32'),\n",
    "      'D' : np.arange(7,11),\n",
    "      'E' : pd.Categorical([\"test\",\"train\",\"test\",\"train\"]),\n",
    "    }\n",
    "    )\n",
    "df2\n",
    "\n",
    "# check what happens if D and E had different lenghts "
   ]
  },
  {
   "cell_type": "markdown",
   "metadata": {},
   "source": [
    "### Viewing Data"
   ]
  },
  {
   "cell_type": "code",
<<<<<<< HEAD
   "execution_count": 12,
=======
   "execution_count": 14,
>>>>>>> main
   "metadata": {},
   "outputs": [
    {
     "data": {
      "text/html": [
       "<div>\n",
       "<style scoped>\n",
       "    .dataframe tbody tr th:only-of-type {\n",
       "        vertical-align: middle;\n",
       "    }\n",
       "\n",
       "    .dataframe tbody tr th {\n",
       "        vertical-align: top;\n",
       "    }\n",
       "\n",
       "    .dataframe thead th {\n",
       "        text-align: right;\n",
       "    }\n",
       "</style>\n",
       "<table border=\"1\" class=\"dataframe\">\n",
       "  <thead>\n",
       "    <tr style=\"text-align: right;\">\n",
       "      <th></th>\n",
       "      <th>A</th>\n",
       "      <th>B</th>\n",
       "      <th>C</th>\n",
       "      <th>D</th>\n",
       "    </tr>\n",
       "  </thead>\n",
       "  <tbody>\n",
       "    <tr>\n",
       "      <th>2021-11-22 12:45:00</th>\n",
<<<<<<< HEAD
       "      <td>1.648513</td>\n",
       "      <td>-0.849147</td>\n",
       "      <td>-0.078706</td>\n",
       "      <td>-0.942707</td>\n",
       "    </tr>\n",
       "    <tr>\n",
       "      <th>2021-11-22 13:45:00</th>\n",
       "      <td>-0.631933</td>\n",
       "      <td>-1.298313</td>\n",
       "      <td>-0.034452</td>\n",
       "      <td>-0.514625</td>\n",
=======
       "      <td>0.162367</td>\n",
       "      <td>0.888653</td>\n",
       "      <td>0.190292</td>\n",
       "      <td>-0.027429</td>\n",
       "    </tr>\n",
       "    <tr>\n",
       "      <th>2021-11-22 13:45:00</th>\n",
       "      <td>-0.681071</td>\n",
       "      <td>0.713753</td>\n",
       "      <td>-0.105593</td>\n",
       "      <td>0.106567</td>\n",
>>>>>>> main
       "    </tr>\n",
       "  </tbody>\n",
       "</table>\n",
       "</div>"
      ],
      "text/plain": [
       "                            A         B         C         D\n",
<<<<<<< HEAD
       "2021-11-22 12:45:00  1.648513 -0.849147 -0.078706 -0.942707\n",
       "2021-11-22 13:45:00 -0.631933 -1.298313 -0.034452 -0.514625"
      ]
     },
     "execution_count": 12,
=======
       "2021-11-22 12:45:00  0.162367  0.888653  0.190292 -0.027429\n",
       "2021-11-22 13:45:00 -0.681071  0.713753 -0.105593  0.106567"
      ]
     },
     "execution_count": 14,
>>>>>>> main
     "metadata": {},
     "output_type": "execute_result"
    }
   ],
   "source": [
    "df.head(2)"
   ]
  },
  {
   "cell_type": "code",
<<<<<<< HEAD
   "execution_count": 13,
=======
   "execution_count": 15,
>>>>>>> main
   "metadata": {},
   "outputs": [
    {
     "data": {
      "text/html": [
       "<div>\n",
       "<style scoped>\n",
       "    .dataframe tbody tr th:only-of-type {\n",
       "        vertical-align: middle;\n",
       "    }\n",
       "\n",
       "    .dataframe tbody tr th {\n",
       "        vertical-align: top;\n",
       "    }\n",
       "\n",
       "    .dataframe thead th {\n",
       "        text-align: right;\n",
       "    }\n",
       "</style>\n",
       "<table border=\"1\" class=\"dataframe\">\n",
       "  <thead>\n",
       "    <tr style=\"text-align: right;\">\n",
       "      <th></th>\n",
       "      <th>A</th>\n",
       "      <th>B</th>\n",
       "      <th>C</th>\n",
       "      <th>D</th>\n",
       "    </tr>\n",
       "  </thead>\n",
       "  <tbody>\n",
       "    <tr>\n",
       "      <th>2021-11-22 18:45:00</th>\n",
<<<<<<< HEAD
       "      <td>-0.418599</td>\n",
       "      <td>-1.268032</td>\n",
       "      <td>-0.864764</td>\n",
       "      <td>0.601635</td>\n",
       "    </tr>\n",
       "    <tr>\n",
       "      <th>2021-11-22 19:45:00</th>\n",
       "      <td>0.075597</td>\n",
       "      <td>0.405518</td>\n",
       "      <td>-0.427705</td>\n",
       "      <td>0.122531</td>\n",
       "    </tr>\n",
       "    <tr>\n",
       "      <th>2021-11-22 20:45:00</th>\n",
       "      <td>0.808515</td>\n",
       "      <td>0.324969</td>\n",
       "      <td>-0.987045</td>\n",
       "      <td>-0.774722</td>\n",
       "    </tr>\n",
       "    <tr>\n",
       "      <th>2021-11-22 21:45:00</th>\n",
       "      <td>0.382066</td>\n",
       "      <td>-1.237824</td>\n",
       "      <td>0.401625</td>\n",
       "      <td>-1.279537</td>\n",
=======
       "      <td>1.027537</td>\n",
       "      <td>-1.167869</td>\n",
       "      <td>1.067255</td>\n",
       "      <td>0.464407</td>\n",
       "    </tr>\n",
       "    <tr>\n",
       "      <th>2021-11-22 19:45:00</th>\n",
       "      <td>0.818057</td>\n",
       "      <td>0.269213</td>\n",
       "      <td>0.314521</td>\n",
       "      <td>-0.136288</td>\n",
       "    </tr>\n",
       "    <tr>\n",
       "      <th>2021-11-22 20:45:00</th>\n",
       "      <td>0.786582</td>\n",
       "      <td>0.535676</td>\n",
       "      <td>-1.284995</td>\n",
       "      <td>0.268053</td>\n",
       "    </tr>\n",
       "    <tr>\n",
       "      <th>2021-11-22 21:45:00</th>\n",
       "      <td>-0.444392</td>\n",
       "      <td>1.156596</td>\n",
       "      <td>-1.391161</td>\n",
       "      <td>-0.012557</td>\n",
>>>>>>> main
       "    </tr>\n",
       "  </tbody>\n",
       "</table>\n",
       "</div>"
      ],
      "text/plain": [
       "                            A         B         C         D\n",
<<<<<<< HEAD
       "2021-11-22 18:45:00 -0.418599 -1.268032 -0.864764  0.601635\n",
       "2021-11-22 19:45:00  0.075597  0.405518 -0.427705  0.122531\n",
       "2021-11-22 20:45:00  0.808515  0.324969 -0.987045 -0.774722\n",
       "2021-11-22 21:45:00  0.382066 -1.237824  0.401625 -1.279537"
      ]
     },
     "execution_count": 13,
=======
       "2021-11-22 18:45:00  1.027537 -1.167869  1.067255  0.464407\n",
       "2021-11-22 19:45:00  0.818057  0.269213  0.314521 -0.136288\n",
       "2021-11-22 20:45:00  0.786582  0.535676 -1.284995  0.268053\n",
       "2021-11-22 21:45:00 -0.444392  1.156596 -1.391161 -0.012557"
      ]
     },
     "execution_count": 15,
>>>>>>> main
     "metadata": {},
     "output_type": "execute_result"
    }
   ],
   "source": [
    "df.tail(4)"
   ]
  },
  {
   "cell_type": "code",
<<<<<<< HEAD
   "execution_count": 14,
=======
   "execution_count": 16,
>>>>>>> main
   "metadata": {},
   "outputs": [
    {
     "data": {
      "text/plain": [
       "DatetimeIndex(['2021-11-22 12:45:00', '2021-11-22 13:45:00',\n",
       "               '2021-11-22 14:45:00', '2021-11-22 15:45:00',\n",
       "               '2021-11-22 16:45:00', '2021-11-22 17:45:00',\n",
       "               '2021-11-22 18:45:00', '2021-11-22 19:45:00',\n",
       "               '2021-11-22 20:45:00', '2021-11-22 21:45:00'],\n",
       "              dtype='datetime64[ns]', freq='H')"
      ]
     },
<<<<<<< HEAD
     "execution_count": 14,
=======
     "execution_count": 16,
>>>>>>> main
     "metadata": {},
     "output_type": "execute_result"
    }
   ],
   "source": [
    "df.index"
   ]
  },
  {
   "cell_type": "code",
<<<<<<< HEAD
   "execution_count": 15,
=======
   "execution_count": 17,
>>>>>>> main
   "metadata": {},
   "outputs": [
    {
     "data": {
      "text/plain": [
       "Index(['A', 'B', 'C', 'D'], dtype='object')"
      ]
     },
<<<<<<< HEAD
     "execution_count": 15,
=======
     "execution_count": 17,
>>>>>>> main
     "metadata": {},
     "output_type": "execute_result"
    }
   ],
   "source": [
    "df.columns"
   ]
  },
  {
   "cell_type": "code",
<<<<<<< HEAD
   "execution_count": 16,
=======
   "execution_count": 18,
>>>>>>> main
   "metadata": {},
   "outputs": [
    {
     "data": {
      "text/plain": [
<<<<<<< HEAD
       "array([[ 1.64851309, -0.8491468 , -0.07870618, -0.9427071 ],\n",
       "       [-0.6319333 , -1.29831271, -0.03445157, -0.514625  ],\n",
       "       [-0.69247402, -0.99710733, -0.87557887, -1.05798887],\n",
       "       [-1.64653449, -0.37795559, -1.26905311,  1.34173063],\n",
       "       [ 1.79343809, -0.81240359,  0.96273813, -0.25617162],\n",
       "       [-1.18086024,  0.65781599,  0.58425426, -0.15013277],\n",
       "       [-0.41859865, -1.26803193, -0.86476368,  0.60163541],\n",
       "       [ 0.07559663,  0.40551802, -0.42770546,  0.12253124],\n",
       "       [ 0.80851527,  0.32496938, -0.98704534, -0.77472197],\n",
       "       [ 0.38206562, -1.23782403,  0.4016252 , -1.27953676]])"
      ]
     },
     "execution_count": 16,
=======
       "array([[ 0.16236737,  0.88865316,  0.19029182, -0.02742945],\n",
       "       [-0.68107134,  0.7137535 , -0.10559312,  0.10656679],\n",
       "       [ 0.08180084, -0.16107013,  0.49021999, -1.18535214],\n",
       "       [-1.5669051 , -0.02347971, -0.20971729, -0.71789007],\n",
       "       [-0.99345052,  0.66059635, -0.64079499,  0.77704408],\n",
       "       [-0.50228947, -1.54069868,  0.59772329,  1.13238422],\n",
       "       [ 1.02753652, -1.16786883,  1.06725455,  0.46440706],\n",
       "       [ 0.81805671,  0.26921284,  0.31452142, -0.13628832],\n",
       "       [ 0.78658177,  0.53567613, -1.2849953 ,  0.26805287],\n",
       "       [-0.44439167,  1.15659561, -1.3911608 , -0.01255658]])"
      ]
     },
     "execution_count": 18,
>>>>>>> main
     "metadata": {},
     "output_type": "execute_result"
    }
   ],
   "source": [
    "df.values"
   ]
  },
  {
   "cell_type": "code",
<<<<<<< HEAD
   "execution_count": 17,
=======
   "execution_count": 19,
>>>>>>> main
   "metadata": {},
   "outputs": [
    {
     "data": {
      "text/html": [
       "<div>\n",
       "<style scoped>\n",
       "    .dataframe tbody tr th:only-of-type {\n",
       "        vertical-align: middle;\n",
       "    }\n",
       "\n",
       "    .dataframe tbody tr th {\n",
       "        vertical-align: top;\n",
       "    }\n",
       "\n",
       "    .dataframe thead th {\n",
       "        text-align: right;\n",
       "    }\n",
       "</style>\n",
       "<table border=\"1\" class=\"dataframe\">\n",
       "  <thead>\n",
       "    <tr style=\"text-align: right;\">\n",
       "      <th></th>\n",
       "      <th>A</th>\n",
       "      <th>B</th>\n",
       "      <th>C</th>\n",
       "      <th>D</th>\n",
       "    </tr>\n",
       "  </thead>\n",
       "  <tbody>\n",
       "    <tr>\n",
       "      <th>count</th>\n",
       "      <td>10.000000</td>\n",
       "      <td>10.000000</td>\n",
       "      <td>10.000000</td>\n",
       "      <td>10.000000</td>\n",
       "    </tr>\n",
       "    <tr>\n",
       "      <th>mean</th>\n",
<<<<<<< HEAD
       "      <td>0.013773</td>\n",
       "      <td>-0.545248</td>\n",
       "      <td>-0.258869</td>\n",
       "      <td>-0.290999</td>\n",
       "    </tr>\n",
       "    <tr>\n",
       "      <th>std</th>\n",
       "      <td>1.149739</td>\n",
       "      <td>0.750827</td>\n",
       "      <td>0.748993</td>\n",
       "      <td>0.811642</td>\n",
       "    </tr>\n",
       "    <tr>\n",
       "      <th>min</th>\n",
       "      <td>-1.646534</td>\n",
       "      <td>-1.298313</td>\n",
       "      <td>-1.269053</td>\n",
       "      <td>-1.279537</td>\n",
       "    </tr>\n",
       "    <tr>\n",
       "      <th>25%</th>\n",
       "      <td>-0.677339</td>\n",
       "      <td>-1.177645</td>\n",
       "      <td>-0.872875</td>\n",
       "      <td>-0.900711</td>\n",
       "    </tr>\n",
       "    <tr>\n",
       "      <th>50%</th>\n",
       "      <td>-0.171501</td>\n",
       "      <td>-0.830775</td>\n",
       "      <td>-0.253206</td>\n",
       "      <td>-0.385398</td>\n",
       "    </tr>\n",
       "    <tr>\n",
       "      <th>75%</th>\n",
       "      <td>0.701903</td>\n",
       "      <td>0.149238</td>\n",
       "      <td>0.292606</td>\n",
       "      <td>0.054365</td>\n",
       "    </tr>\n",
       "    <tr>\n",
       "      <th>max</th>\n",
       "      <td>1.793438</td>\n",
       "      <td>0.657816</td>\n",
       "      <td>0.962738</td>\n",
       "      <td>1.341731</td>\n",
=======
       "      <td>-0.131176</td>\n",
       "      <td>0.133137</td>\n",
       "      <td>-0.097225</td>\n",
       "      <td>0.066894</td>\n",
       "    </tr>\n",
       "    <tr>\n",
       "      <th>std</th>\n",
       "      <td>0.853783</td>\n",
       "      <td>0.883150</td>\n",
       "      <td>0.804813</td>\n",
       "      <td>0.673312</td>\n",
       "    </tr>\n",
       "    <tr>\n",
       "      <th>min</th>\n",
       "      <td>-1.566905</td>\n",
       "      <td>-1.540699</td>\n",
       "      <td>-1.391161</td>\n",
       "      <td>-1.185352</td>\n",
       "    </tr>\n",
       "    <tr>\n",
       "      <th>25%</th>\n",
       "      <td>-0.636376</td>\n",
       "      <td>-0.126673</td>\n",
       "      <td>-0.533026</td>\n",
       "      <td>-0.109074</td>\n",
       "    </tr>\n",
       "    <tr>\n",
       "      <th>50%</th>\n",
       "      <td>-0.181295</td>\n",
       "      <td>0.402444</td>\n",
       "      <td>0.042349</td>\n",
       "      <td>0.047005</td>\n",
       "    </tr>\n",
       "    <tr>\n",
       "      <th>75%</th>\n",
       "      <td>0.630528</td>\n",
       "      <td>0.700464</td>\n",
       "      <td>0.446295</td>\n",
       "      <td>0.415319</td>\n",
       "    </tr>\n",
       "    <tr>\n",
       "      <th>max</th>\n",
       "      <td>1.027537</td>\n",
       "      <td>1.156596</td>\n",
       "      <td>1.067255</td>\n",
       "      <td>1.132384</td>\n",
>>>>>>> main
       "    </tr>\n",
       "  </tbody>\n",
       "</table>\n",
       "</div>"
      ],
      "text/plain": [
       "               A          B          C          D\n",
       "count  10.000000  10.000000  10.000000  10.000000\n",
<<<<<<< HEAD
       "mean    0.013773  -0.545248  -0.258869  -0.290999\n",
       "std     1.149739   0.750827   0.748993   0.811642\n",
       "min    -1.646534  -1.298313  -1.269053  -1.279537\n",
       "25%    -0.677339  -1.177645  -0.872875  -0.900711\n",
       "50%    -0.171501  -0.830775  -0.253206  -0.385398\n",
       "75%     0.701903   0.149238   0.292606   0.054365\n",
       "max     1.793438   0.657816   0.962738   1.341731"
      ]
     },
     "execution_count": 17,
=======
       "mean   -0.131176   0.133137  -0.097225   0.066894\n",
       "std     0.853783   0.883150   0.804813   0.673312\n",
       "min    -1.566905  -1.540699  -1.391161  -1.185352\n",
       "25%    -0.636376  -0.126673  -0.533026  -0.109074\n",
       "50%    -0.181295   0.402444   0.042349   0.047005\n",
       "75%     0.630528   0.700464   0.446295   0.415319\n",
       "max     1.027537   1.156596   1.067255   1.132384"
      ]
     },
     "execution_count": 19,
>>>>>>> main
     "metadata": {},
     "output_type": "execute_result"
    }
   ],
   "source": [
    "df.describe()"
   ]
  },
  {
   "cell_type": "code",
<<<<<<< HEAD
   "execution_count": 18,
=======
   "execution_count": 20,
>>>>>>> main
   "metadata": {},
   "outputs": [
    {
     "data": {
      "text/html": [
       "<div>\n",
       "<style scoped>\n",
       "    .dataframe tbody tr th:only-of-type {\n",
       "        vertical-align: middle;\n",
       "    }\n",
       "\n",
       "    .dataframe tbody tr th {\n",
       "        vertical-align: top;\n",
       "    }\n",
       "\n",
       "    .dataframe thead th {\n",
       "        text-align: right;\n",
       "    }\n",
       "</style>\n",
       "<table border=\"1\" class=\"dataframe\">\n",
       "  <thead>\n",
       "    <tr style=\"text-align: right;\">\n",
       "      <th></th>\n",
       "      <th>2021-11-22 12:45:00</th>\n",
       "      <th>2021-11-22 13:45:00</th>\n",
       "      <th>2021-11-22 14:45:00</th>\n",
       "      <th>2021-11-22 15:45:00</th>\n",
       "      <th>2021-11-22 16:45:00</th>\n",
       "      <th>2021-11-22 17:45:00</th>\n",
       "      <th>2021-11-22 18:45:00</th>\n",
       "      <th>2021-11-22 19:45:00</th>\n",
       "      <th>2021-11-22 20:45:00</th>\n",
       "      <th>2021-11-22 21:45:00</th>\n",
       "    </tr>\n",
       "  </thead>\n",
       "  <tbody>\n",
       "    <tr>\n",
       "      <th>A</th>\n",
<<<<<<< HEAD
       "      <td>1.648513</td>\n",
       "      <td>-0.631933</td>\n",
       "      <td>-0.692474</td>\n",
       "      <td>-1.646534</td>\n",
       "      <td>1.793438</td>\n",
       "      <td>-1.180860</td>\n",
       "      <td>-0.418599</td>\n",
       "      <td>0.075597</td>\n",
       "      <td>0.808515</td>\n",
       "      <td>0.382066</td>\n",
       "    </tr>\n",
       "    <tr>\n",
       "      <th>B</th>\n",
       "      <td>-0.849147</td>\n",
       "      <td>-1.298313</td>\n",
       "      <td>-0.997107</td>\n",
       "      <td>-0.377956</td>\n",
       "      <td>-0.812404</td>\n",
       "      <td>0.657816</td>\n",
       "      <td>-1.268032</td>\n",
       "      <td>0.405518</td>\n",
       "      <td>0.324969</td>\n",
       "      <td>-1.237824</td>\n",
       "    </tr>\n",
       "    <tr>\n",
       "      <th>C</th>\n",
       "      <td>-0.078706</td>\n",
       "      <td>-0.034452</td>\n",
       "      <td>-0.875579</td>\n",
       "      <td>-1.269053</td>\n",
       "      <td>0.962738</td>\n",
       "      <td>0.584254</td>\n",
       "      <td>-0.864764</td>\n",
       "      <td>-0.427705</td>\n",
       "      <td>-0.987045</td>\n",
       "      <td>0.401625</td>\n",
       "    </tr>\n",
       "    <tr>\n",
       "      <th>D</th>\n",
       "      <td>-0.942707</td>\n",
       "      <td>-0.514625</td>\n",
       "      <td>-1.057989</td>\n",
       "      <td>1.341731</td>\n",
       "      <td>-0.256172</td>\n",
       "      <td>-0.150133</td>\n",
       "      <td>0.601635</td>\n",
       "      <td>0.122531</td>\n",
       "      <td>-0.774722</td>\n",
       "      <td>-1.279537</td>\n",
=======
       "      <td>0.162367</td>\n",
       "      <td>-0.681071</td>\n",
       "      <td>0.081801</td>\n",
       "      <td>-1.566905</td>\n",
       "      <td>-0.993451</td>\n",
       "      <td>-0.502289</td>\n",
       "      <td>1.027537</td>\n",
       "      <td>0.818057</td>\n",
       "      <td>0.786582</td>\n",
       "      <td>-0.444392</td>\n",
       "    </tr>\n",
       "    <tr>\n",
       "      <th>B</th>\n",
       "      <td>0.888653</td>\n",
       "      <td>0.713753</td>\n",
       "      <td>-0.161070</td>\n",
       "      <td>-0.023480</td>\n",
       "      <td>0.660596</td>\n",
       "      <td>-1.540699</td>\n",
       "      <td>-1.167869</td>\n",
       "      <td>0.269213</td>\n",
       "      <td>0.535676</td>\n",
       "      <td>1.156596</td>\n",
       "    </tr>\n",
       "    <tr>\n",
       "      <th>C</th>\n",
       "      <td>0.190292</td>\n",
       "      <td>-0.105593</td>\n",
       "      <td>0.490220</td>\n",
       "      <td>-0.209717</td>\n",
       "      <td>-0.640795</td>\n",
       "      <td>0.597723</td>\n",
       "      <td>1.067255</td>\n",
       "      <td>0.314521</td>\n",
       "      <td>-1.284995</td>\n",
       "      <td>-1.391161</td>\n",
       "    </tr>\n",
       "    <tr>\n",
       "      <th>D</th>\n",
       "      <td>-0.027429</td>\n",
       "      <td>0.106567</td>\n",
       "      <td>-1.185352</td>\n",
       "      <td>-0.717890</td>\n",
       "      <td>0.777044</td>\n",
       "      <td>1.132384</td>\n",
       "      <td>0.464407</td>\n",
       "      <td>-0.136288</td>\n",
       "      <td>0.268053</td>\n",
       "      <td>-0.012557</td>\n",
>>>>>>> main
       "    </tr>\n",
       "  </tbody>\n",
       "</table>\n",
       "</div>"
      ],
      "text/plain": [
       "   2021-11-22 12:45:00  2021-11-22 13:45:00  2021-11-22 14:45:00  \\\n",
<<<<<<< HEAD
       "A             1.648513            -0.631933            -0.692474   \n",
       "B            -0.849147            -1.298313            -0.997107   \n",
       "C            -0.078706            -0.034452            -0.875579   \n",
       "D            -0.942707            -0.514625            -1.057989   \n",
       "\n",
       "   2021-11-22 15:45:00  2021-11-22 16:45:00  2021-11-22 17:45:00  \\\n",
       "A            -1.646534             1.793438            -1.180860   \n",
       "B            -0.377956            -0.812404             0.657816   \n",
       "C            -1.269053             0.962738             0.584254   \n",
       "D             1.341731            -0.256172            -0.150133   \n",
       "\n",
       "   2021-11-22 18:45:00  2021-11-22 19:45:00  2021-11-22 20:45:00  \\\n",
       "A            -0.418599             0.075597             0.808515   \n",
       "B            -1.268032             0.405518             0.324969   \n",
       "C            -0.864764            -0.427705            -0.987045   \n",
       "D             0.601635             0.122531            -0.774722   \n",
       "\n",
       "   2021-11-22 21:45:00  \n",
       "A             0.382066  \n",
       "B            -1.237824  \n",
       "C             0.401625  \n",
       "D            -1.279537  "
      ]
     },
     "execution_count": 18,
=======
       "A             0.162367            -0.681071             0.081801   \n",
       "B             0.888653             0.713753            -0.161070   \n",
       "C             0.190292            -0.105593             0.490220   \n",
       "D            -0.027429             0.106567            -1.185352   \n",
       "\n",
       "   2021-11-22 15:45:00  2021-11-22 16:45:00  2021-11-22 17:45:00  \\\n",
       "A            -1.566905            -0.993451            -0.502289   \n",
       "B            -0.023480             0.660596            -1.540699   \n",
       "C            -0.209717            -0.640795             0.597723   \n",
       "D            -0.717890             0.777044             1.132384   \n",
       "\n",
       "   2021-11-22 18:45:00  2021-11-22 19:45:00  2021-11-22 20:45:00  \\\n",
       "A             1.027537             0.818057             0.786582   \n",
       "B            -1.167869             0.269213             0.535676   \n",
       "C             1.067255             0.314521            -1.284995   \n",
       "D             0.464407            -0.136288             0.268053   \n",
       "\n",
       "   2021-11-22 21:45:00  \n",
       "A            -0.444392  \n",
       "B             1.156596  \n",
       "C            -1.391161  \n",
       "D            -0.012557  "
      ]
     },
     "execution_count": 20,
>>>>>>> main
     "metadata": {},
     "output_type": "execute_result"
    }
   ],
   "source": [
    "df.T"
   ]
  },
  {
   "cell_type": "code",
<<<<<<< HEAD
   "execution_count": 19,
=======
   "execution_count": 21,
>>>>>>> main
   "metadata": {},
   "outputs": [
    {
     "data": {
      "text/html": [
       "<div>\n",
       "<style scoped>\n",
       "    .dataframe tbody tr th:only-of-type {\n",
       "        vertical-align: middle;\n",
       "    }\n",
       "\n",
       "    .dataframe tbody tr th {\n",
       "        vertical-align: top;\n",
       "    }\n",
       "\n",
       "    .dataframe thead th {\n",
       "        text-align: right;\n",
       "    }\n",
       "</style>\n",
       "<table border=\"1\" class=\"dataframe\">\n",
       "  <thead>\n",
       "    <tr style=\"text-align: right;\">\n",
       "      <th></th>\n",
       "      <th>A</th>\n",
       "      <th>B</th>\n",
       "      <th>C</th>\n",
       "      <th>D</th>\n",
       "    </tr>\n",
       "  </thead>\n",
       "  <tbody>\n",
       "    <tr>\n",
       "      <th>2021-11-22 12:45:00</th>\n",
<<<<<<< HEAD
       "      <td>1.648513</td>\n",
       "      <td>-0.849147</td>\n",
       "      <td>-0.078706</td>\n",
       "      <td>-0.942707</td>\n",
       "    </tr>\n",
       "    <tr>\n",
       "      <th>2021-11-22 13:45:00</th>\n",
       "      <td>-0.631933</td>\n",
       "      <td>-1.298313</td>\n",
       "      <td>-0.034452</td>\n",
       "      <td>-0.514625</td>\n",
       "    </tr>\n",
       "    <tr>\n",
       "      <th>2021-11-22 14:45:00</th>\n",
       "      <td>-0.692474</td>\n",
       "      <td>-0.997107</td>\n",
       "      <td>-0.875579</td>\n",
       "      <td>-1.057989</td>\n",
       "    </tr>\n",
       "    <tr>\n",
       "      <th>2021-11-22 15:45:00</th>\n",
       "      <td>-1.646534</td>\n",
       "      <td>-0.377956</td>\n",
       "      <td>-1.269053</td>\n",
       "      <td>1.341731</td>\n",
       "    </tr>\n",
       "    <tr>\n",
       "      <th>2021-11-22 16:45:00</th>\n",
       "      <td>1.793438</td>\n",
       "      <td>-0.812404</td>\n",
       "      <td>0.962738</td>\n",
       "      <td>-0.256172</td>\n",
       "    </tr>\n",
       "    <tr>\n",
       "      <th>2021-11-22 17:45:00</th>\n",
       "      <td>-1.180860</td>\n",
       "      <td>0.657816</td>\n",
       "      <td>0.584254</td>\n",
       "      <td>-0.150133</td>\n",
       "    </tr>\n",
       "    <tr>\n",
       "      <th>2021-11-22 18:45:00</th>\n",
       "      <td>-0.418599</td>\n",
       "      <td>-1.268032</td>\n",
       "      <td>-0.864764</td>\n",
       "      <td>0.601635</td>\n",
       "    </tr>\n",
       "    <tr>\n",
       "      <th>2021-11-22 19:45:00</th>\n",
       "      <td>0.075597</td>\n",
       "      <td>0.405518</td>\n",
       "      <td>-0.427705</td>\n",
       "      <td>0.122531</td>\n",
       "    </tr>\n",
       "    <tr>\n",
       "      <th>2021-11-22 20:45:00</th>\n",
       "      <td>0.808515</td>\n",
       "      <td>0.324969</td>\n",
       "      <td>-0.987045</td>\n",
       "      <td>-0.774722</td>\n",
       "    </tr>\n",
       "    <tr>\n",
       "      <th>2021-11-22 21:45:00</th>\n",
       "      <td>0.382066</td>\n",
       "      <td>-1.237824</td>\n",
       "      <td>0.401625</td>\n",
       "      <td>-1.279537</td>\n",
=======
       "      <td>0.162367</td>\n",
       "      <td>0.888653</td>\n",
       "      <td>0.190292</td>\n",
       "      <td>-0.027429</td>\n",
       "    </tr>\n",
       "    <tr>\n",
       "      <th>2021-11-22 13:45:00</th>\n",
       "      <td>-0.681071</td>\n",
       "      <td>0.713753</td>\n",
       "      <td>-0.105593</td>\n",
       "      <td>0.106567</td>\n",
       "    </tr>\n",
       "    <tr>\n",
       "      <th>2021-11-22 14:45:00</th>\n",
       "      <td>0.081801</td>\n",
       "      <td>-0.161070</td>\n",
       "      <td>0.490220</td>\n",
       "      <td>-1.185352</td>\n",
       "    </tr>\n",
       "    <tr>\n",
       "      <th>2021-11-22 15:45:00</th>\n",
       "      <td>-1.566905</td>\n",
       "      <td>-0.023480</td>\n",
       "      <td>-0.209717</td>\n",
       "      <td>-0.717890</td>\n",
       "    </tr>\n",
       "    <tr>\n",
       "      <th>2021-11-22 16:45:00</th>\n",
       "      <td>-0.993451</td>\n",
       "      <td>0.660596</td>\n",
       "      <td>-0.640795</td>\n",
       "      <td>0.777044</td>\n",
       "    </tr>\n",
       "    <tr>\n",
       "      <th>2021-11-22 17:45:00</th>\n",
       "      <td>-0.502289</td>\n",
       "      <td>-1.540699</td>\n",
       "      <td>0.597723</td>\n",
       "      <td>1.132384</td>\n",
       "    </tr>\n",
       "    <tr>\n",
       "      <th>2021-11-22 18:45:00</th>\n",
       "      <td>1.027537</td>\n",
       "      <td>-1.167869</td>\n",
       "      <td>1.067255</td>\n",
       "      <td>0.464407</td>\n",
       "    </tr>\n",
       "    <tr>\n",
       "      <th>2021-11-22 19:45:00</th>\n",
       "      <td>0.818057</td>\n",
       "      <td>0.269213</td>\n",
       "      <td>0.314521</td>\n",
       "      <td>-0.136288</td>\n",
       "    </tr>\n",
       "    <tr>\n",
       "      <th>2021-11-22 20:45:00</th>\n",
       "      <td>0.786582</td>\n",
       "      <td>0.535676</td>\n",
       "      <td>-1.284995</td>\n",
       "      <td>0.268053</td>\n",
       "    </tr>\n",
       "    <tr>\n",
       "      <th>2021-11-22 21:45:00</th>\n",
       "      <td>-0.444392</td>\n",
       "      <td>1.156596</td>\n",
       "      <td>-1.391161</td>\n",
       "      <td>-0.012557</td>\n",
>>>>>>> main
       "    </tr>\n",
       "  </tbody>\n",
       "</table>\n",
       "</div>"
      ],
      "text/plain": [
       "                            A         B         C         D\n",
<<<<<<< HEAD
       "2021-11-22 12:45:00  1.648513 -0.849147 -0.078706 -0.942707\n",
       "2021-11-22 13:45:00 -0.631933 -1.298313 -0.034452 -0.514625\n",
       "2021-11-22 14:45:00 -0.692474 -0.997107 -0.875579 -1.057989\n",
       "2021-11-22 15:45:00 -1.646534 -0.377956 -1.269053  1.341731\n",
       "2021-11-22 16:45:00  1.793438 -0.812404  0.962738 -0.256172\n",
       "2021-11-22 17:45:00 -1.180860  0.657816  0.584254 -0.150133\n",
       "2021-11-22 18:45:00 -0.418599 -1.268032 -0.864764  0.601635\n",
       "2021-11-22 19:45:00  0.075597  0.405518 -0.427705  0.122531\n",
       "2021-11-22 20:45:00  0.808515  0.324969 -0.987045 -0.774722\n",
       "2021-11-22 21:45:00  0.382066 -1.237824  0.401625 -1.279537"
      ]
     },
     "execution_count": 19,
=======
       "2021-11-22 12:45:00  0.162367  0.888653  0.190292 -0.027429\n",
       "2021-11-22 13:45:00 -0.681071  0.713753 -0.105593  0.106567\n",
       "2021-11-22 14:45:00  0.081801 -0.161070  0.490220 -1.185352\n",
       "2021-11-22 15:45:00 -1.566905 -0.023480 -0.209717 -0.717890\n",
       "2021-11-22 16:45:00 -0.993451  0.660596 -0.640795  0.777044\n",
       "2021-11-22 17:45:00 -0.502289 -1.540699  0.597723  1.132384\n",
       "2021-11-22 18:45:00  1.027537 -1.167869  1.067255  0.464407\n",
       "2021-11-22 19:45:00  0.818057  0.269213  0.314521 -0.136288\n",
       "2021-11-22 20:45:00  0.786582  0.535676 -1.284995  0.268053\n",
       "2021-11-22 21:45:00 -0.444392  1.156596 -1.391161 -0.012557"
      ]
     },
     "execution_count": 21,
>>>>>>> main
     "metadata": {},
     "output_type": "execute_result"
    }
   ],
   "source": [
    "df.sort_index(axis=0,ascending=True)"
   ]
  },
  {
   "cell_type": "code",
<<<<<<< HEAD
   "execution_count": 20,
=======
   "execution_count": 22,
>>>>>>> main
   "metadata": {},
   "outputs": [
    {
     "data": {
      "text/html": [
       "<div>\n",
       "<style scoped>\n",
       "    .dataframe tbody tr th:only-of-type {\n",
       "        vertical-align: middle;\n",
       "    }\n",
       "\n",
       "    .dataframe tbody tr th {\n",
       "        vertical-align: top;\n",
       "    }\n",
       "\n",
       "    .dataframe thead th {\n",
       "        text-align: right;\n",
       "    }\n",
       "</style>\n",
       "<table border=\"1\" class=\"dataframe\">\n",
       "  <thead>\n",
       "    <tr style=\"text-align: right;\">\n",
       "      <th></th>\n",
       "      <th>A</th>\n",
       "      <th>B</th>\n",
       "      <th>C</th>\n",
       "      <th>D</th>\n",
       "    </tr>\n",
       "  </thead>\n",
       "  <tbody>\n",
       "    <tr>\n",
<<<<<<< HEAD
       "      <th>2021-11-22 15:45:00</th>\n",
       "      <td>-1.646534</td>\n",
       "      <td>-0.377956</td>\n",
       "      <td>-1.269053</td>\n",
       "      <td>1.341731</td>\n",
       "    </tr>\n",
       "    <tr>\n",
       "      <th>2021-11-22 20:45:00</th>\n",
       "      <td>0.808515</td>\n",
       "      <td>0.324969</td>\n",
       "      <td>-0.987045</td>\n",
       "      <td>-0.774722</td>\n",
       "    </tr>\n",
       "    <tr>\n",
       "      <th>2021-11-22 14:45:00</th>\n",
       "      <td>-0.692474</td>\n",
       "      <td>-0.997107</td>\n",
       "      <td>-0.875579</td>\n",
       "      <td>-1.057989</td>\n",
       "    </tr>\n",
       "    <tr>\n",
       "      <th>2021-11-22 18:45:00</th>\n",
       "      <td>-0.418599</td>\n",
       "      <td>-1.268032</td>\n",
       "      <td>-0.864764</td>\n",
       "      <td>0.601635</td>\n",
       "    </tr>\n",
       "    <tr>\n",
       "      <th>2021-11-22 19:45:00</th>\n",
       "      <td>0.075597</td>\n",
       "      <td>0.405518</td>\n",
       "      <td>-0.427705</td>\n",
       "      <td>0.122531</td>\n",
       "    </tr>\n",
       "    <tr>\n",
       "      <th>2021-11-22 12:45:00</th>\n",
       "      <td>1.648513</td>\n",
       "      <td>-0.849147</td>\n",
       "      <td>-0.078706</td>\n",
       "      <td>-0.942707</td>\n",
       "    </tr>\n",
       "    <tr>\n",
       "      <th>2021-11-22 13:45:00</th>\n",
       "      <td>-0.631933</td>\n",
       "      <td>-1.298313</td>\n",
       "      <td>-0.034452</td>\n",
       "      <td>-0.514625</td>\n",
       "    </tr>\n",
       "    <tr>\n",
       "      <th>2021-11-22 21:45:00</th>\n",
       "      <td>0.382066</td>\n",
       "      <td>-1.237824</td>\n",
       "      <td>0.401625</td>\n",
       "      <td>-1.279537</td>\n",
       "    </tr>\n",
       "    <tr>\n",
       "      <th>2021-11-22 17:45:00</th>\n",
       "      <td>-1.180860</td>\n",
       "      <td>0.657816</td>\n",
       "      <td>0.584254</td>\n",
       "      <td>-0.150133</td>\n",
       "    </tr>\n",
       "    <tr>\n",
       "      <th>2021-11-22 16:45:00</th>\n",
       "      <td>1.793438</td>\n",
       "      <td>-0.812404</td>\n",
       "      <td>0.962738</td>\n",
       "      <td>-0.256172</td>\n",
=======
       "      <th>2021-11-22 21:45:00</th>\n",
       "      <td>-0.444392</td>\n",
       "      <td>1.156596</td>\n",
       "      <td>-1.391161</td>\n",
       "      <td>-0.012557</td>\n",
       "    </tr>\n",
       "    <tr>\n",
       "      <th>2021-11-22 20:45:00</th>\n",
       "      <td>0.786582</td>\n",
       "      <td>0.535676</td>\n",
       "      <td>-1.284995</td>\n",
       "      <td>0.268053</td>\n",
       "    </tr>\n",
       "    <tr>\n",
       "      <th>2021-11-22 16:45:00</th>\n",
       "      <td>-0.993451</td>\n",
       "      <td>0.660596</td>\n",
       "      <td>-0.640795</td>\n",
       "      <td>0.777044</td>\n",
       "    </tr>\n",
       "    <tr>\n",
       "      <th>2021-11-22 15:45:00</th>\n",
       "      <td>-1.566905</td>\n",
       "      <td>-0.023480</td>\n",
       "      <td>-0.209717</td>\n",
       "      <td>-0.717890</td>\n",
       "    </tr>\n",
       "    <tr>\n",
       "      <th>2021-11-22 13:45:00</th>\n",
       "      <td>-0.681071</td>\n",
       "      <td>0.713753</td>\n",
       "      <td>-0.105593</td>\n",
       "      <td>0.106567</td>\n",
       "    </tr>\n",
       "    <tr>\n",
       "      <th>2021-11-22 12:45:00</th>\n",
       "      <td>0.162367</td>\n",
       "      <td>0.888653</td>\n",
       "      <td>0.190292</td>\n",
       "      <td>-0.027429</td>\n",
       "    </tr>\n",
       "    <tr>\n",
       "      <th>2021-11-22 19:45:00</th>\n",
       "      <td>0.818057</td>\n",
       "      <td>0.269213</td>\n",
       "      <td>0.314521</td>\n",
       "      <td>-0.136288</td>\n",
       "    </tr>\n",
       "    <tr>\n",
       "      <th>2021-11-22 14:45:00</th>\n",
       "      <td>0.081801</td>\n",
       "      <td>-0.161070</td>\n",
       "      <td>0.490220</td>\n",
       "      <td>-1.185352</td>\n",
       "    </tr>\n",
       "    <tr>\n",
       "      <th>2021-11-22 17:45:00</th>\n",
       "      <td>-0.502289</td>\n",
       "      <td>-1.540699</td>\n",
       "      <td>0.597723</td>\n",
       "      <td>1.132384</td>\n",
       "    </tr>\n",
       "    <tr>\n",
       "      <th>2021-11-22 18:45:00</th>\n",
       "      <td>1.027537</td>\n",
       "      <td>-1.167869</td>\n",
       "      <td>1.067255</td>\n",
       "      <td>0.464407</td>\n",
>>>>>>> main
       "    </tr>\n",
       "  </tbody>\n",
       "</table>\n",
       "</div>"
      ],
      "text/plain": [
       "                            A         B         C         D\n",
<<<<<<< HEAD
       "2021-11-22 15:45:00 -1.646534 -0.377956 -1.269053  1.341731\n",
       "2021-11-22 20:45:00  0.808515  0.324969 -0.987045 -0.774722\n",
       "2021-11-22 14:45:00 -0.692474 -0.997107 -0.875579 -1.057989\n",
       "2021-11-22 18:45:00 -0.418599 -1.268032 -0.864764  0.601635\n",
       "2021-11-22 19:45:00  0.075597  0.405518 -0.427705  0.122531\n",
       "2021-11-22 12:45:00  1.648513 -0.849147 -0.078706 -0.942707\n",
       "2021-11-22 13:45:00 -0.631933 -1.298313 -0.034452 -0.514625\n",
       "2021-11-22 21:45:00  0.382066 -1.237824  0.401625 -1.279537\n",
       "2021-11-22 17:45:00 -1.180860  0.657816  0.584254 -0.150133\n",
       "2021-11-22 16:45:00  1.793438 -0.812404  0.962738 -0.256172"
      ]
     },
     "execution_count": 20,
=======
       "2021-11-22 21:45:00 -0.444392  1.156596 -1.391161 -0.012557\n",
       "2021-11-22 20:45:00  0.786582  0.535676 -1.284995  0.268053\n",
       "2021-11-22 16:45:00 -0.993451  0.660596 -0.640795  0.777044\n",
       "2021-11-22 15:45:00 -1.566905 -0.023480 -0.209717 -0.717890\n",
       "2021-11-22 13:45:00 -0.681071  0.713753 -0.105593  0.106567\n",
       "2021-11-22 12:45:00  0.162367  0.888653  0.190292 -0.027429\n",
       "2021-11-22 19:45:00  0.818057  0.269213  0.314521 -0.136288\n",
       "2021-11-22 14:45:00  0.081801 -0.161070  0.490220 -1.185352\n",
       "2021-11-22 17:45:00 -0.502289 -1.540699  0.597723  1.132384\n",
       "2021-11-22 18:45:00  1.027537 -1.167869  1.067255  0.464407"
      ]
     },
     "execution_count": 22,
>>>>>>> main
     "metadata": {},
     "output_type": "execute_result"
    }
   ],
   "source": [
    "df.sort_values(by=\"C\")"
   ]
  },
  {
   "cell_type": "markdown",
   "metadata": {},
   "source": [
    "## Selection\n",
    "\n",
    "### Getting slices\n",
    "\n",
    "The following show how to get part of the DataFrame (i.e. not just the elements)"
   ]
  },
  {
   "cell_type": "code",
<<<<<<< HEAD
   "execution_count": 21,
=======
   "execution_count": 23,
>>>>>>> main
   "metadata": {},
   "outputs": [
    {
     "name": "stdout",
     "output_type": "stream",
     "text": [
<<<<<<< HEAD
      "2021-11-22 12:45:00    1.648513\n",
      "2021-11-22 13:45:00   -0.631933\n",
      "2021-11-22 14:45:00   -0.692474\n",
      "2021-11-22 15:45:00   -1.646534\n",
      "2021-11-22 16:45:00    1.793438\n",
      "2021-11-22 17:45:00   -1.180860\n",
      "2021-11-22 18:45:00   -0.418599\n",
      "2021-11-22 19:45:00    0.075597\n",
      "2021-11-22 20:45:00    0.808515\n",
      "2021-11-22 21:45:00    0.382066\n",
      "Freq: H, Name: A, dtype: float64 \n",
      "\n",
      "2021-11-22 12:45:00    1.648513\n",
      "2021-11-22 13:45:00   -0.631933\n",
      "2021-11-22 14:45:00   -0.692474\n",
      "2021-11-22 15:45:00   -1.646534\n",
      "2021-11-22 16:45:00    1.793438\n",
      "2021-11-22 17:45:00   -1.180860\n",
      "2021-11-22 18:45:00   -0.418599\n",
      "2021-11-22 19:45:00    0.075597\n",
      "2021-11-22 20:45:00    0.808515\n",
      "2021-11-22 21:45:00    0.382066\n",
=======
      "2021-11-22 12:45:00    0.162367\n",
      "2021-11-22 13:45:00   -0.681071\n",
      "2021-11-22 14:45:00    0.081801\n",
      "2021-11-22 15:45:00   -1.566905\n",
      "2021-11-22 16:45:00   -0.993451\n",
      "2021-11-22 17:45:00   -0.502289\n",
      "2021-11-22 18:45:00    1.027537\n",
      "2021-11-22 19:45:00    0.818057\n",
      "2021-11-22 20:45:00    0.786582\n",
      "2021-11-22 21:45:00   -0.444392\n",
      "Freq: H, Name: A, dtype: float64 \n",
      "\n",
      "2021-11-22 12:45:00    0.162367\n",
      "2021-11-22 13:45:00   -0.681071\n",
      "2021-11-22 14:45:00    0.081801\n",
      "2021-11-22 15:45:00   -1.566905\n",
      "2021-11-22 16:45:00   -0.993451\n",
      "2021-11-22 17:45:00   -0.502289\n",
      "2021-11-22 18:45:00    1.027537\n",
      "2021-11-22 19:45:00    0.818057\n",
      "2021-11-22 20:45:00    0.786582\n",
      "2021-11-22 21:45:00   -0.444392\n",
>>>>>>> main
      "Freq: H, Name: A, dtype: float64\n"
     ]
    }
   ],
   "source": [
    "## standard and safe\n",
    "print (df['A'],'\\n')\n",
    "\n",
    "## equivalent but dangerous (imagine blank spaces in the name of the column.. ex. \"A is awesome\")\n",
    "## df.A is awesome would not work\n",
    "print (df.A)"
   ]
  },
  {
   "cell_type": "code",
<<<<<<< HEAD
   "execution_count": 22,
=======
   "execution_count": 24,
>>>>>>> main
   "metadata": {},
   "outputs": [
    {
     "name": "stdout",
     "output_type": "stream",
     "text": [
      "                            A         B         C         D\n",
<<<<<<< HEAD
      "2021-11-22 12:45:00  1.648513 -0.849147 -0.078706 -0.942707\n",
      "2021-11-22 13:45:00 -0.631933 -1.298313 -0.034452 -0.514625\n",
      "2021-11-22 14:45:00 -0.692474 -0.997107 -0.875579 -1.057989\n",
      "                            A         B         C         D\n",
      "2021-11-22 12:45:00  1.648513 -0.849147 -0.078706 -0.942707\n",
      "2021-11-22 13:45:00 -0.631933 -1.298313 -0.034452 -0.514625\n",
      "2021-11-22 14:45:00 -0.692474 -0.997107 -0.875579 -1.057989\n"
=======
      "2021-11-22 12:45:00  0.162367  0.888653  0.190292 -0.027429\n",
      "2021-11-22 13:45:00 -0.681071  0.713753 -0.105593  0.106567\n",
      "2021-11-22 14:45:00  0.081801 -0.161070  0.490220 -1.185352\n",
      "                            A         B         C         D\n",
      "2021-11-22 12:45:00  0.162367  0.888653  0.190292 -0.027429\n",
      "2021-11-22 13:45:00 -0.681071  0.713753 -0.105593  0.106567\n",
      "2021-11-22 14:45:00  0.081801 -0.161070  0.490220 -1.185352\n"
>>>>>>> main
     ]
    }
   ],
   "source": [
    "# selecting rows by counting\n",
    "print (df[0:3])\n",
    "\n",
    "# or by index\n",
    "print (df[\"2021-11-22 12:45:00\":\"2021-11-22 14:45:00\"])"
   ]
  },
  {
   "cell_type": "markdown",
   "metadata": {},
   "source": [
    "### Selection by label"
   ]
  },
  {
   "cell_type": "code",
<<<<<<< HEAD
   "execution_count": 23,
=======
   "execution_count": 25,
>>>>>>> main
   "metadata": {},
   "outputs": [
    {
     "data": {
      "text/plain": [
<<<<<<< HEAD
       "A    1.648513\n",
       "B   -0.849147\n",
       "C   -0.078706\n",
       "D   -0.942707\n",
       "Name: 2021-11-22 12:45:00, dtype: float64"
      ]
     },
     "execution_count": 23,
=======
       "A    0.162367\n",
       "B    0.888653\n",
       "C    0.190292\n",
       "D   -0.027429\n",
       "Name: 2021-11-22 12:45:00, dtype: float64"
      ]
     },
     "execution_count": 25,
>>>>>>> main
     "metadata": {},
     "output_type": "execute_result"
    }
   ],
   "source": [
    "# getting a cross section (part of the DataFrame) using a label\n",
    "df.loc[dates[0]]"
   ]
  },
  {
   "cell_type": "code",
<<<<<<< HEAD
   "execution_count": 24,
=======
   "execution_count": 26,
>>>>>>> main
   "metadata": {},
   "outputs": [
    {
     "data": {
      "text/html": [
       "<div>\n",
       "<style scoped>\n",
       "    .dataframe tbody tr th:only-of-type {\n",
       "        vertical-align: middle;\n",
       "    }\n",
       "\n",
       "    .dataframe tbody tr th {\n",
       "        vertical-align: top;\n",
       "    }\n",
       "\n",
       "    .dataframe thead th {\n",
       "        text-align: right;\n",
       "    }\n",
       "</style>\n",
       "<table border=\"1\" class=\"dataframe\">\n",
       "  <thead>\n",
       "    <tr style=\"text-align: right;\">\n",
       "      <th></th>\n",
       "      <th>A</th>\n",
       "      <th>B</th>\n",
       "    </tr>\n",
       "  </thead>\n",
       "  <tbody>\n",
       "    <tr>\n",
       "      <th>2021-11-22 12:45:00</th>\n",
<<<<<<< HEAD
       "      <td>1.648513</td>\n",
       "      <td>-0.849147</td>\n",
       "    </tr>\n",
       "    <tr>\n",
       "      <th>2021-11-22 13:45:00</th>\n",
       "      <td>-0.631933</td>\n",
       "      <td>-1.298313</td>\n",
       "    </tr>\n",
       "    <tr>\n",
       "      <th>2021-11-22 14:45:00</th>\n",
       "      <td>-0.692474</td>\n",
       "      <td>-0.997107</td>\n",
       "    </tr>\n",
       "    <tr>\n",
       "      <th>2021-11-22 15:45:00</th>\n",
       "      <td>-1.646534</td>\n",
       "      <td>-0.377956</td>\n",
       "    </tr>\n",
       "    <tr>\n",
       "      <th>2021-11-22 16:45:00</th>\n",
       "      <td>1.793438</td>\n",
       "      <td>-0.812404</td>\n",
       "    </tr>\n",
       "    <tr>\n",
       "      <th>2021-11-22 17:45:00</th>\n",
       "      <td>-1.180860</td>\n",
       "      <td>0.657816</td>\n",
       "    </tr>\n",
       "    <tr>\n",
       "      <th>2021-11-22 18:45:00</th>\n",
       "      <td>-0.418599</td>\n",
       "      <td>-1.268032</td>\n",
       "    </tr>\n",
       "    <tr>\n",
       "      <th>2021-11-22 19:45:00</th>\n",
       "      <td>0.075597</td>\n",
       "      <td>0.405518</td>\n",
       "    </tr>\n",
       "    <tr>\n",
       "      <th>2021-11-22 20:45:00</th>\n",
       "      <td>0.808515</td>\n",
       "      <td>0.324969</td>\n",
       "    </tr>\n",
       "    <tr>\n",
       "      <th>2021-11-22 21:45:00</th>\n",
       "      <td>0.382066</td>\n",
       "      <td>-1.237824</td>\n",
=======
       "      <td>0.162367</td>\n",
       "      <td>0.888653</td>\n",
       "    </tr>\n",
       "    <tr>\n",
       "      <th>2021-11-22 13:45:00</th>\n",
       "      <td>-0.681071</td>\n",
       "      <td>0.713753</td>\n",
       "    </tr>\n",
       "    <tr>\n",
       "      <th>2021-11-22 14:45:00</th>\n",
       "      <td>0.081801</td>\n",
       "      <td>-0.161070</td>\n",
       "    </tr>\n",
       "    <tr>\n",
       "      <th>2021-11-22 15:45:00</th>\n",
       "      <td>-1.566905</td>\n",
       "      <td>-0.023480</td>\n",
       "    </tr>\n",
       "    <tr>\n",
       "      <th>2021-11-22 16:45:00</th>\n",
       "      <td>-0.993451</td>\n",
       "      <td>0.660596</td>\n",
       "    </tr>\n",
       "    <tr>\n",
       "      <th>2021-11-22 17:45:00</th>\n",
       "      <td>-0.502289</td>\n",
       "      <td>-1.540699</td>\n",
       "    </tr>\n",
       "    <tr>\n",
       "      <th>2021-11-22 18:45:00</th>\n",
       "      <td>1.027537</td>\n",
       "      <td>-1.167869</td>\n",
       "    </tr>\n",
       "    <tr>\n",
       "      <th>2021-11-22 19:45:00</th>\n",
       "      <td>0.818057</td>\n",
       "      <td>0.269213</td>\n",
       "    </tr>\n",
       "    <tr>\n",
       "      <th>2021-11-22 20:45:00</th>\n",
       "      <td>0.786582</td>\n",
       "      <td>0.535676</td>\n",
       "    </tr>\n",
       "    <tr>\n",
       "      <th>2021-11-22 21:45:00</th>\n",
       "      <td>-0.444392</td>\n",
       "      <td>1.156596</td>\n",
>>>>>>> main
       "    </tr>\n",
       "  </tbody>\n",
       "</table>\n",
       "</div>"
      ],
      "text/plain": [
       "                            A         B\n",
<<<<<<< HEAD
       "2021-11-22 12:45:00  1.648513 -0.849147\n",
       "2021-11-22 13:45:00 -0.631933 -1.298313\n",
       "2021-11-22 14:45:00 -0.692474 -0.997107\n",
       "2021-11-22 15:45:00 -1.646534 -0.377956\n",
       "2021-11-22 16:45:00  1.793438 -0.812404\n",
       "2021-11-22 17:45:00 -1.180860  0.657816\n",
       "2021-11-22 18:45:00 -0.418599 -1.268032\n",
       "2021-11-22 19:45:00  0.075597  0.405518\n",
       "2021-11-22 20:45:00  0.808515  0.324969\n",
       "2021-11-22 21:45:00  0.382066 -1.237824"
      ]
     },
     "execution_count": 24,
=======
       "2021-11-22 12:45:00  0.162367  0.888653\n",
       "2021-11-22 13:45:00 -0.681071  0.713753\n",
       "2021-11-22 14:45:00  0.081801 -0.161070\n",
       "2021-11-22 15:45:00 -1.566905 -0.023480\n",
       "2021-11-22 16:45:00 -0.993451  0.660596\n",
       "2021-11-22 17:45:00 -0.502289 -1.540699\n",
       "2021-11-22 18:45:00  1.027537 -1.167869\n",
       "2021-11-22 19:45:00  0.818057  0.269213\n",
       "2021-11-22 20:45:00  0.786582  0.535676\n",
       "2021-11-22 21:45:00 -0.444392  1.156596"
      ]
     },
     "execution_count": 26,
>>>>>>> main
     "metadata": {},
     "output_type": "execute_result"
    }
   ],
   "source": [
    "# selecting on a multi-axis by label:\n",
    "df.loc[:,['A','B']]\n",
    "#a=df.loc[:,['A','B']]"
   ]
  },
  {
   "cell_type": "code",
<<<<<<< HEAD
   "execution_count": 25,
=======
   "execution_count": 27,
>>>>>>> main
   "metadata": {},
   "outputs": [
    {
     "data": {
      "text/html": [
       "<div>\n",
       "<style scoped>\n",
       "    .dataframe tbody tr th:only-of-type {\n",
       "        vertical-align: middle;\n",
       "    }\n",
       "\n",
       "    .dataframe tbody tr th {\n",
       "        vertical-align: top;\n",
       "    }\n",
       "\n",
       "    .dataframe thead th {\n",
       "        text-align: right;\n",
       "    }\n",
       "</style>\n",
       "<table border=\"1\" class=\"dataframe\">\n",
       "  <thead>\n",
       "    <tr style=\"text-align: right;\">\n",
       "      <th></th>\n",
       "      <th>A</th>\n",
       "      <th>B</th>\n",
       "    </tr>\n",
       "  </thead>\n",
       "  <tbody>\n",
       "    <tr>\n",
       "      <th>2021-11-22 16:45:00</th>\n",
<<<<<<< HEAD
       "      <td>1.793438</td>\n",
       "      <td>-0.812404</td>\n",
       "    </tr>\n",
       "    <tr>\n",
       "      <th>2021-11-22 17:45:00</th>\n",
       "      <td>-1.180860</td>\n",
       "      <td>0.657816</td>\n",
       "    </tr>\n",
       "    <tr>\n",
       "      <th>2021-11-22 18:45:00</th>\n",
       "      <td>-0.418599</td>\n",
       "      <td>-1.268032</td>\n",
=======
       "      <td>-0.993451</td>\n",
       "      <td>0.660596</td>\n",
       "    </tr>\n",
       "    <tr>\n",
       "      <th>2021-11-22 17:45:00</th>\n",
       "      <td>-0.502289</td>\n",
       "      <td>-1.540699</td>\n",
       "    </tr>\n",
       "    <tr>\n",
       "      <th>2021-11-22 18:45:00</th>\n",
       "      <td>1.027537</td>\n",
       "      <td>-1.167869</td>\n",
>>>>>>> main
       "    </tr>\n",
       "  </tbody>\n",
       "</table>\n",
       "</div>"
      ],
      "text/plain": [
       "                            A         B\n",
<<<<<<< HEAD
       "2021-11-22 16:45:00  1.793438 -0.812404\n",
       "2021-11-22 17:45:00 -1.180860  0.657816\n",
       "2021-11-22 18:45:00 -0.418599 -1.268032"
      ]
     },
     "execution_count": 25,
=======
       "2021-11-22 16:45:00 -0.993451  0.660596\n",
       "2021-11-22 17:45:00 -0.502289 -1.540699\n",
       "2021-11-22 18:45:00  1.027537 -1.167869"
      ]
     },
     "execution_count": 27,
>>>>>>> main
     "metadata": {},
     "output_type": "execute_result"
    }
   ],
   "source": [
    "# showing label slicing, both endpoints are included:\n",
    "df.loc['2021-11-22 16:45:00':'2021-11-22 18:45:00',['A','B']]"
   ]
  },
  {
   "cell_type": "code",
<<<<<<< HEAD
   "execution_count": 26,
=======
   "execution_count": 28,
>>>>>>> main
   "metadata": {},
   "outputs": [
    {
     "name": "stdout",
     "output_type": "stream",
     "text": [
<<<<<<< HEAD
      "-0.6319332974847347\n",
      "-0.6319332974847347\n"
=======
      "-0.6810713368232104\n",
      "-0.6810713368232104\n"
>>>>>>> main
     ]
    }
   ],
   "source": [
    "# getting an individual element\n",
    "print (df.loc[dates[1],'A'])\n",
    "\n",
    "# equivalently\n",
    "print (df.at[dates[1],'A'])"
   ]
  },
  {
   "cell_type": "markdown",
   "metadata": {},
   "source": [
    "### Selecting by position"
   ]
  },
  {
   "cell_type": "code",
<<<<<<< HEAD
   "execution_count": 27,
=======
   "execution_count": 29,
>>>>>>> main
   "metadata": {},
   "outputs": [
    {
     "name": "stdout",
     "output_type": "stream",
     "text": [
<<<<<<< HEAD
      "A   -1.646534\n",
      "B   -0.377956\n",
      "C   -1.269053\n",
      "D    1.341731\n",
      "Name: 2021-11-22 15:45:00, dtype: float64 \n",
      "\n",
      "                            A         B\n",
      "2021-11-22 15:45:00 -1.646534 -0.377956\n",
      "2021-11-22 16:45:00  1.793438 -0.812404\n"
=======
      "A   -1.566905\n",
      "B   -0.023480\n",
      "C   -0.209717\n",
      "D   -0.717890\n",
      "Name: 2021-11-22 15:45:00, dtype: float64 \n",
      "\n",
      "                            A         B\n",
      "2021-11-22 15:45:00 -1.566905 -0.023480\n",
      "2021-11-22 16:45:00 -0.993451  0.660596\n"
>>>>>>> main
     ]
    }
   ],
   "source": [
    "# select via the position of the passed integers:\n",
    "print (df.iloc[3],'\\n')\n",
    "\n",
    "# notation similar to numpy/python\n",
    "print (df.iloc[3:5,0:2])"
   ]
  },
  {
   "cell_type": "code",
<<<<<<< HEAD
   "execution_count": 28,
=======
   "execution_count": 30,
>>>>>>> main
   "metadata": {},
   "outputs": [
    {
     "data": {
      "text/html": [
       "<div>\n",
       "<style scoped>\n",
       "    .dataframe tbody tr th:only-of-type {\n",
       "        vertical-align: middle;\n",
       "    }\n",
       "\n",
       "    .dataframe tbody tr th {\n",
       "        vertical-align: top;\n",
       "    }\n",
       "\n",
       "    .dataframe thead th {\n",
       "        text-align: right;\n",
       "    }\n",
       "</style>\n",
       "<table border=\"1\" class=\"dataframe\">\n",
       "  <thead>\n",
       "    <tr style=\"text-align: right;\">\n",
       "      <th></th>\n",
       "      <th>A</th>\n",
       "      <th>C</th>\n",
       "    </tr>\n",
       "  </thead>\n",
       "  <tbody>\n",
       "    <tr>\n",
       "      <th>2021-11-22 13:45:00</th>\n",
<<<<<<< HEAD
       "      <td>-0.631933</td>\n",
       "      <td>-0.034452</td>\n",
       "    </tr>\n",
       "    <tr>\n",
       "      <th>2021-11-22 14:45:00</th>\n",
       "      <td>-0.692474</td>\n",
       "      <td>-0.875579</td>\n",
       "    </tr>\n",
       "    <tr>\n",
       "      <th>2021-11-22 16:45:00</th>\n",
       "      <td>1.793438</td>\n",
       "      <td>0.962738</td>\n",
=======
       "      <td>-0.681071</td>\n",
       "      <td>-0.105593</td>\n",
       "    </tr>\n",
       "    <tr>\n",
       "      <th>2021-11-22 14:45:00</th>\n",
       "      <td>0.081801</td>\n",
       "      <td>0.490220</td>\n",
       "    </tr>\n",
       "    <tr>\n",
       "      <th>2021-11-22 16:45:00</th>\n",
       "      <td>-0.993451</td>\n",
       "      <td>-0.640795</td>\n",
>>>>>>> main
       "    </tr>\n",
       "  </tbody>\n",
       "</table>\n",
       "</div>"
      ],
      "text/plain": [
       "                            A         C\n",
<<<<<<< HEAD
       "2021-11-22 13:45:00 -0.631933 -0.034452\n",
       "2021-11-22 14:45:00 -0.692474 -0.875579\n",
       "2021-11-22 16:45:00  1.793438  0.962738"
      ]
     },
     "execution_count": 28,
=======
       "2021-11-22 13:45:00 -0.681071 -0.105593\n",
       "2021-11-22 14:45:00  0.081801  0.490220\n",
       "2021-11-22 16:45:00 -0.993451 -0.640795"
      ]
     },
     "execution_count": 30,
>>>>>>> main
     "metadata": {},
     "output_type": "execute_result"
    }
   ],
   "source": [
    "# selecting raws 1,2 and 4 for columns 0 and 2\n",
    "df.iloc[[1,2,4],[0,2]]"
   ]
  },
  {
   "cell_type": "code",
<<<<<<< HEAD
   "execution_count": 29,
=======
   "execution_count": 31,
>>>>>>> main
   "metadata": {},
   "outputs": [
    {
     "name": "stdout",
     "output_type": "stream",
     "text": [
      "                            A         B         C         D\n",
<<<<<<< HEAD
      "2021-11-22 13:45:00 -0.631933 -1.298313 -0.034452 -0.514625\n",
      "2021-11-22 14:45:00 -0.692474 -0.997107 -0.875579 -1.057989 \n",
      "\n",
      "                            B         C\n",
      "2021-11-22 12:45:00 -0.849147 -0.078706\n",
      "2021-11-22 13:45:00 -1.298313 -0.034452\n",
      "2021-11-22 14:45:00 -0.997107 -0.875579\n",
      "2021-11-22 15:45:00 -0.377956 -1.269053\n",
      "2021-11-22 16:45:00 -0.812404  0.962738\n",
      "2021-11-22 17:45:00  0.657816  0.584254\n",
      "2021-11-22 18:45:00 -1.268032 -0.864764\n",
      "2021-11-22 19:45:00  0.405518 -0.427705\n",
      "2021-11-22 20:45:00  0.324969 -0.987045\n",
      "2021-11-22 21:45:00 -1.237824  0.401625\n"
=======
      "2021-11-22 13:45:00 -0.681071  0.713753 -0.105593  0.106567\n",
      "2021-11-22 14:45:00  0.081801 -0.161070  0.490220 -1.185352 \n",
      "\n",
      "                            B         C\n",
      "2021-11-22 12:45:00  0.888653  0.190292\n",
      "2021-11-22 13:45:00  0.713753 -0.105593\n",
      "2021-11-22 14:45:00 -0.161070  0.490220\n",
      "2021-11-22 15:45:00 -0.023480 -0.209717\n",
      "2021-11-22 16:45:00  0.660596 -0.640795\n",
      "2021-11-22 17:45:00 -1.540699  0.597723\n",
      "2021-11-22 18:45:00 -1.167869  1.067255\n",
      "2021-11-22 19:45:00  0.269213  0.314521\n",
      "2021-11-22 20:45:00  0.535676 -1.284995\n",
      "2021-11-22 21:45:00  1.156596 -1.391161\n"
>>>>>>> main
     ]
    }
   ],
   "source": [
    "# slicing rows explicitly\n",
    "print (df.iloc[1:3,:],'\\n')\n",
    "\n",
    "# slicing columns explicitly\n",
    "print (df.iloc[:,1:3])\n"
   ]
  },
  {
   "cell_type": "code",
<<<<<<< HEAD
   "execution_count": 30,
=======
   "execution_count": 32,
>>>>>>> main
   "metadata": {},
   "outputs": [
    {
     "data": {
      "text/plain": [
<<<<<<< HEAD
       "-1.2983127082677801"
      ]
     },
     "execution_count": 30,
=======
       "0.71375349863014"
      ]
     },
     "execution_count": 32,
>>>>>>> main
     "metadata": {},
     "output_type": "execute_result"
    }
   ],
   "source": [
    "# selecting an individual element by position\n",
    "df.iloc[1,1]\n",
    "df.iat[1,1]\n"
   ]
  },
  {
   "cell_type": "markdown",
   "metadata": {},
   "source": [
    "### Boolean index\n",
    "\n",
    "Very powerful way of filtering out data with certain features. Notation is very similar to numpy arrays."
   ]
  },
  {
   "cell_type": "code",
<<<<<<< HEAD
   "execution_count": 31,
=======
   "execution_count": 33,
>>>>>>> main
   "metadata": {},
   "outputs": [
    {
     "data": {
      "text/html": [
       "<div>\n",
       "<style scoped>\n",
       "    .dataframe tbody tr th:only-of-type {\n",
       "        vertical-align: middle;\n",
       "    }\n",
       "\n",
       "    .dataframe tbody tr th {\n",
       "        vertical-align: top;\n",
       "    }\n",
       "\n",
       "    .dataframe thead th {\n",
       "        text-align: right;\n",
       "    }\n",
       "</style>\n",
       "<table border=\"1\" class=\"dataframe\">\n",
       "  <thead>\n",
       "    <tr style=\"text-align: right;\">\n",
       "      <th></th>\n",
       "      <th>A</th>\n",
       "      <th>B</th>\n",
       "      <th>C</th>\n",
       "      <th>D</th>\n",
       "    </tr>\n",
       "  </thead>\n",
       "  <tbody>\n",
       "    <tr>\n",
<<<<<<< HEAD
       "      <th>2021-11-22 17:45:00</th>\n",
       "      <td>-1.180860</td>\n",
       "      <td>0.657816</td>\n",
       "      <td>0.584254</td>\n",
       "      <td>-0.150133</td>\n",
       "    </tr>\n",
       "    <tr>\n",
       "      <th>2021-11-22 19:45:00</th>\n",
       "      <td>0.075597</td>\n",
       "      <td>0.405518</td>\n",
       "      <td>-0.427705</td>\n",
       "      <td>0.122531</td>\n",
       "    </tr>\n",
       "    <tr>\n",
       "      <th>2021-11-22 20:45:00</th>\n",
       "      <td>0.808515</td>\n",
       "      <td>0.324969</td>\n",
       "      <td>-0.987045</td>\n",
       "      <td>-0.774722</td>\n",
=======
       "      <th>2021-11-22 12:45:00</th>\n",
       "      <td>0.162367</td>\n",
       "      <td>0.888653</td>\n",
       "      <td>0.190292</td>\n",
       "      <td>-0.027429</td>\n",
       "    </tr>\n",
       "    <tr>\n",
       "      <th>2021-11-22 13:45:00</th>\n",
       "      <td>-0.681071</td>\n",
       "      <td>0.713753</td>\n",
       "      <td>-0.105593</td>\n",
       "      <td>0.106567</td>\n",
       "    </tr>\n",
       "    <tr>\n",
       "      <th>2021-11-22 16:45:00</th>\n",
       "      <td>-0.993451</td>\n",
       "      <td>0.660596</td>\n",
       "      <td>-0.640795</td>\n",
       "      <td>0.777044</td>\n",
       "    </tr>\n",
       "    <tr>\n",
       "      <th>2021-11-22 19:45:00</th>\n",
       "      <td>0.818057</td>\n",
       "      <td>0.269213</td>\n",
       "      <td>0.314521</td>\n",
       "      <td>-0.136288</td>\n",
       "    </tr>\n",
       "    <tr>\n",
       "      <th>2021-11-22 20:45:00</th>\n",
       "      <td>0.786582</td>\n",
       "      <td>0.535676</td>\n",
       "      <td>-1.284995</td>\n",
       "      <td>0.268053</td>\n",
       "    </tr>\n",
       "    <tr>\n",
       "      <th>2021-11-22 21:45:00</th>\n",
       "      <td>-0.444392</td>\n",
       "      <td>1.156596</td>\n",
       "      <td>-1.391161</td>\n",
       "      <td>-0.012557</td>\n",
>>>>>>> main
       "    </tr>\n",
       "  </tbody>\n",
       "</table>\n",
       "</div>"
      ],
      "text/plain": [
       "                            A         B         C         D\n",
<<<<<<< HEAD
       "2021-11-22 17:45:00 -1.180860  0.657816  0.584254 -0.150133\n",
       "2021-11-22 19:45:00  0.075597  0.405518 -0.427705  0.122531\n",
       "2021-11-22 20:45:00  0.808515  0.324969 -0.987045 -0.774722"
      ]
     },
     "execution_count": 31,
=======
       "2021-11-22 12:45:00  0.162367  0.888653  0.190292 -0.027429\n",
       "2021-11-22 13:45:00 -0.681071  0.713753 -0.105593  0.106567\n",
       "2021-11-22 16:45:00 -0.993451  0.660596 -0.640795  0.777044\n",
       "2021-11-22 19:45:00  0.818057  0.269213  0.314521 -0.136288\n",
       "2021-11-22 20:45:00  0.786582  0.535676 -1.284995  0.268053\n",
       "2021-11-22 21:45:00 -0.444392  1.156596 -1.391161 -0.012557"
      ]
     },
     "execution_count": 33,
>>>>>>> main
     "metadata": {},
     "output_type": "execute_result"
    }
   ],
   "source": [
    "# Filter by a boolean condition on the values of a single column\n",
    "df[df['B'] > 0]"
   ]
  },
  {
   "cell_type": "code",
<<<<<<< HEAD
   "execution_count": 32,
=======
   "execution_count": 34,
>>>>>>> main
   "metadata": {},
   "outputs": [
    {
     "data": {
      "text/html": [
       "<div>\n",
       "<style scoped>\n",
       "    .dataframe tbody tr th:only-of-type {\n",
       "        vertical-align: middle;\n",
       "    }\n",
       "\n",
       "    .dataframe tbody tr th {\n",
       "        vertical-align: top;\n",
       "    }\n",
       "\n",
       "    .dataframe thead th {\n",
       "        text-align: right;\n",
       "    }\n",
       "</style>\n",
       "<table border=\"1\" class=\"dataframe\">\n",
       "  <thead>\n",
       "    <tr style=\"text-align: right;\">\n",
       "      <th></th>\n",
       "      <th>A</th>\n",
       "      <th>B</th>\n",
       "      <th>C</th>\n",
       "      <th>D</th>\n",
       "    </tr>\n",
       "  </thead>\n",
       "  <tbody>\n",
       "    <tr>\n",
       "      <th>2021-11-22 12:45:00</th>\n",
<<<<<<< HEAD
       "      <td>1.648513</td>\n",
       "      <td>NaN</td>\n",
       "      <td>NaN</td>\n",
=======
       "      <td>0.162367</td>\n",
       "      <td>0.888653</td>\n",
       "      <td>0.190292</td>\n",
>>>>>>> main
       "      <td>NaN</td>\n",
       "    </tr>\n",
       "    <tr>\n",
       "      <th>2021-11-22 13:45:00</th>\n",
       "      <td>NaN</td>\n",
<<<<<<< HEAD
       "      <td>NaN</td>\n",
       "      <td>NaN</td>\n",
       "      <td>NaN</td>\n",
       "    </tr>\n",
       "    <tr>\n",
       "      <th>2021-11-22 14:45:00</th>\n",
       "      <td>NaN</td>\n",
       "      <td>NaN</td>\n",
       "      <td>NaN</td>\n",
=======
       "      <td>0.713753</td>\n",
       "      <td>NaN</td>\n",
       "      <td>0.106567</td>\n",
       "    </tr>\n",
       "    <tr>\n",
       "      <th>2021-11-22 14:45:00</th>\n",
       "      <td>0.081801</td>\n",
       "      <td>NaN</td>\n",
       "      <td>0.490220</td>\n",
>>>>>>> main
       "      <td>NaN</td>\n",
       "    </tr>\n",
       "    <tr>\n",
       "      <th>2021-11-22 15:45:00</th>\n",
       "      <td>NaN</td>\n",
       "      <td>NaN</td>\n",
       "      <td>NaN</td>\n",
<<<<<<< HEAD
       "      <td>1.341731</td>\n",
       "    </tr>\n",
       "    <tr>\n",
       "      <th>2021-11-22 16:45:00</th>\n",
       "      <td>1.793438</td>\n",
       "      <td>NaN</td>\n",
       "      <td>0.962738</td>\n",
       "      <td>NaN</td>\n",
=======
       "      <td>NaN</td>\n",
       "    </tr>\n",
       "    <tr>\n",
       "      <th>2021-11-22 16:45:00</th>\n",
       "      <td>NaN</td>\n",
       "      <td>0.660596</td>\n",
       "      <td>NaN</td>\n",
       "      <td>0.777044</td>\n",
>>>>>>> main
       "    </tr>\n",
       "    <tr>\n",
       "      <th>2021-11-22 17:45:00</th>\n",
       "      <td>NaN</td>\n",
<<<<<<< HEAD
       "      <td>0.657816</td>\n",
       "      <td>0.584254</td>\n",
       "      <td>NaN</td>\n",
       "    </tr>\n",
       "    <tr>\n",
       "      <th>2021-11-22 18:45:00</th>\n",
       "      <td>NaN</td>\n",
       "      <td>NaN</td>\n",
       "      <td>NaN</td>\n",
       "      <td>0.601635</td>\n",
       "    </tr>\n",
       "    <tr>\n",
       "      <th>2021-11-22 19:45:00</th>\n",
       "      <td>0.075597</td>\n",
       "      <td>0.405518</td>\n",
       "      <td>NaN</td>\n",
       "      <td>0.122531</td>\n",
       "    </tr>\n",
       "    <tr>\n",
       "      <th>2021-11-22 20:45:00</th>\n",
       "      <td>0.808515</td>\n",
       "      <td>0.324969</td>\n",
       "      <td>NaN</td>\n",
       "      <td>NaN</td>\n",
       "    </tr>\n",
       "    <tr>\n",
       "      <th>2021-11-22 21:45:00</th>\n",
       "      <td>0.382066</td>\n",
       "      <td>NaN</td>\n",
       "      <td>0.401625</td>\n",
=======
       "      <td>NaN</td>\n",
       "      <td>0.597723</td>\n",
       "      <td>1.132384</td>\n",
       "    </tr>\n",
       "    <tr>\n",
       "      <th>2021-11-22 18:45:00</th>\n",
       "      <td>1.027537</td>\n",
       "      <td>NaN</td>\n",
       "      <td>1.067255</td>\n",
       "      <td>0.464407</td>\n",
       "    </tr>\n",
       "    <tr>\n",
       "      <th>2021-11-22 19:45:00</th>\n",
       "      <td>0.818057</td>\n",
       "      <td>0.269213</td>\n",
       "      <td>0.314521</td>\n",
       "      <td>NaN</td>\n",
       "    </tr>\n",
       "    <tr>\n",
       "      <th>2021-11-22 20:45:00</th>\n",
       "      <td>0.786582</td>\n",
       "      <td>0.535676</td>\n",
       "      <td>NaN</td>\n",
       "      <td>0.268053</td>\n",
       "    </tr>\n",
       "    <tr>\n",
       "      <th>2021-11-22 21:45:00</th>\n",
       "      <td>NaN</td>\n",
       "      <td>1.156596</td>\n",
       "      <td>NaN</td>\n",
>>>>>>> main
       "      <td>NaN</td>\n",
       "    </tr>\n",
       "  </tbody>\n",
       "</table>\n",
       "</div>"
      ],
      "text/plain": [
       "                            A         B         C         D\n",
<<<<<<< HEAD
       "2021-11-22 12:45:00  1.648513       NaN       NaN       NaN\n",
       "2021-11-22 13:45:00       NaN       NaN       NaN       NaN\n",
       "2021-11-22 14:45:00       NaN       NaN       NaN       NaN\n",
       "2021-11-22 15:45:00       NaN       NaN       NaN  1.341731\n",
       "2021-11-22 16:45:00  1.793438       NaN  0.962738       NaN\n",
       "2021-11-22 17:45:00       NaN  0.657816  0.584254       NaN\n",
       "2021-11-22 18:45:00       NaN       NaN       NaN  0.601635\n",
       "2021-11-22 19:45:00  0.075597  0.405518       NaN  0.122531\n",
       "2021-11-22 20:45:00  0.808515  0.324969       NaN       NaN\n",
       "2021-11-22 21:45:00  0.382066       NaN  0.401625       NaN"
      ]
     },
     "execution_count": 32,
=======
       "2021-11-22 12:45:00  0.162367  0.888653  0.190292       NaN\n",
       "2021-11-22 13:45:00       NaN  0.713753       NaN  0.106567\n",
       "2021-11-22 14:45:00  0.081801       NaN  0.490220       NaN\n",
       "2021-11-22 15:45:00       NaN       NaN       NaN       NaN\n",
       "2021-11-22 16:45:00       NaN  0.660596       NaN  0.777044\n",
       "2021-11-22 17:45:00       NaN       NaN  0.597723  1.132384\n",
       "2021-11-22 18:45:00  1.027537       NaN  1.067255  0.464407\n",
       "2021-11-22 19:45:00  0.818057  0.269213  0.314521       NaN\n",
       "2021-11-22 20:45:00  0.786582  0.535676       NaN  0.268053\n",
       "2021-11-22 21:45:00       NaN  1.156596       NaN       NaN"
      ]
     },
     "execution_count": 34,
>>>>>>> main
     "metadata": {},
     "output_type": "execute_result"
    }
   ],
   "source": [
    "# Selecting on the basis of boolean conditions applied to the whole DataFrame\n",
    "df[df>0]\n",
    "\n",
    "# a DataFrame with the same shape is returned, with NaN's where condition is not met"
   ]
  },
  {
   "cell_type": "markdown",
   "metadata": {},
   "source": [
    "### Setting\n",
    "\n",
    "Combination of selection and setting of values"
   ]
  },
  {
   "cell_type": "code",
<<<<<<< HEAD
   "execution_count": 33,
=======
   "execution_count": 36,
>>>>>>> main
   "metadata": {},
   "outputs": [
    {
     "data": {
      "text/html": [
       "<div>\n",
       "<style scoped>\n",
       "    .dataframe tbody tr th:only-of-type {\n",
       "        vertical-align: middle;\n",
       "    }\n",
       "\n",
       "    .dataframe tbody tr th {\n",
       "        vertical-align: top;\n",
       "    }\n",
       "\n",
       "    .dataframe thead th {\n",
       "        text-align: right;\n",
       "    }\n",
       "</style>\n",
       "<table border=\"1\" class=\"dataframe\">\n",
       "  <thead>\n",
       "    <tr style=\"text-align: right;\">\n",
       "      <th></th>\n",
       "      <th>A</th>\n",
       "      <th>B</th>\n",
       "      <th>C</th>\n",
       "      <th>D</th>\n",
       "      <th>E</th>\n",
       "      <th>E prime</th>\n",
       "    </tr>\n",
       "  </thead>\n",
       "  <tbody>\n",
       "    <tr>\n",
       "      <th>2021-11-22 12:45:00</th>\n",
       "      <td>0.000000</td>\n",
       "      <td>0.888653</td>\n",
       "      <td>0.190292</td>\n",
       "      <td>5</td>\n",
       "      <td>0.0</td>\n",
       "      <td>0</td>\n",
       "    </tr>\n",
       "    <tr>\n",
       "      <th>2021-11-22 13:45:00</th>\n",
       "      <td>-0.681071</td>\n",
       "      <td>0.713753</td>\n",
       "      <td>-0.105593</td>\n",
       "      <td>5</td>\n",
       "      <td>0.5</td>\n",
       "      <td>2</td>\n",
       "    </tr>\n",
       "    <tr>\n",
       "      <th>2021-11-22 14:45:00</th>\n",
       "      <td>0.081801</td>\n",
       "      <td>-0.161070</td>\n",
       "      <td>0.490220</td>\n",
       "      <td>5</td>\n",
       "      <td>1.0</td>\n",
       "      <td>4</td>\n",
       "    </tr>\n",
       "    <tr>\n",
       "      <th>2021-11-22 15:45:00</th>\n",
       "      <td>-1.566905</td>\n",
       "      <td>-0.023480</td>\n",
       "      <td>-0.209717</td>\n",
       "      <td>5</td>\n",
       "      <td>1.5</td>\n",
       "      <td>6</td>\n",
       "    </tr>\n",
       "    <tr>\n",
       "      <th>2021-11-22 16:45:00</th>\n",
       "      <td>-0.993451</td>\n",
       "      <td>0.660596</td>\n",
       "      <td>-0.640795</td>\n",
       "      <td>5</td>\n",
       "      <td>2.0</td>\n",
       "      <td>8</td>\n",
       "    </tr>\n",
       "    <tr>\n",
       "      <th>2021-11-22 17:45:00</th>\n",
       "      <td>-0.502289</td>\n",
       "      <td>-1.540699</td>\n",
       "      <td>0.597723</td>\n",
       "      <td>5</td>\n",
       "      <td>2.5</td>\n",
       "      <td>10</td>\n",
       "    </tr>\n",
       "    <tr>\n",
       "      <th>2021-11-22 18:45:00</th>\n",
       "      <td>1.027537</td>\n",
       "      <td>-1.167869</td>\n",
       "      <td>1.067255</td>\n",
       "      <td>5</td>\n",
       "      <td>3.0</td>\n",
       "      <td>12</td>\n",
       "    </tr>\n",
       "    <tr>\n",
       "      <th>2021-11-22 19:45:00</th>\n",
       "      <td>0.818057</td>\n",
       "      <td>0.269213</td>\n",
       "      <td>0.314521</td>\n",
       "      <td>5</td>\n",
       "      <td>3.5</td>\n",
       "      <td>14</td>\n",
       "    </tr>\n",
       "    <tr>\n",
       "      <th>2021-11-22 20:45:00</th>\n",
       "      <td>0.786582</td>\n",
       "      <td>0.535676</td>\n",
       "      <td>-1.284995</td>\n",
       "      <td>5</td>\n",
       "      <td>4.0</td>\n",
       "      <td>16</td>\n",
       "    </tr>\n",
       "    <tr>\n",
       "      <th>2021-11-22 21:45:00</th>\n",
       "      <td>-0.444392</td>\n",
       "      <td>1.156596</td>\n",
       "      <td>-1.391161</td>\n",
       "      <td>5</td>\n",
       "      <td>4.5</td>\n",
       "      <td>18</td>\n",
       "    </tr>\n",
       "  </tbody>\n",
       "</table>\n",
       "</div>"
      ],
      "text/plain": [
       "                            A         B         C  D    E  E prime\n",
       "2021-11-22 12:45:00  0.000000  0.888653  0.190292  5  0.0        0\n",
       "2021-11-22 13:45:00 -0.681071  0.713753 -0.105593  5  0.5        2\n",
       "2021-11-22 14:45:00  0.081801 -0.161070  0.490220  5  1.0        4\n",
       "2021-11-22 15:45:00 -1.566905 -0.023480 -0.209717  5  1.5        6\n",
       "2021-11-22 16:45:00 -0.993451  0.660596 -0.640795  5  2.0        8\n",
       "2021-11-22 17:45:00 -0.502289 -1.540699  0.597723  5  2.5       10\n",
       "2021-11-22 18:45:00  1.027537 -1.167869  1.067255  5  3.0       12\n",
       "2021-11-22 19:45:00  0.818057  0.269213  0.314521  5  3.5       14\n",
       "2021-11-22 20:45:00  0.786582  0.535676 -1.284995  5  4.0       16\n",
       "2021-11-22 21:45:00 -0.444392  1.156596 -1.391161  5  4.5       18"
      ]
     },
     "execution_count": 36,
     "metadata": {},
     "output_type": "execute_result"
    }
   ],
   "source": [
    "# setting values by label (same as by position)\n",
    "df.at[dates[0],'A'] = 0\n",
    "\n",
    "# setting and assigning a numpy array\n",
    "df.loc[:,'D'] = np.array([5] * len(df))\n",
    "\n",
    "# defining a brend new column\n",
    "df['E'] = np.arange(len(df))*0.5\n",
    "\n",
    "# defining a brend new column by means of a pd.Series: indexes must be the same!\n",
    "df['E prime'] = pd.Series(np.arange(len(df))*2, index=df.index)\n",
    "\n",
    "df"
   ]
  },
  {
   "cell_type": "code",
<<<<<<< HEAD
   "execution_count": 34,
=======
   "execution_count": 37,
>>>>>>> main
   "metadata": {},
   "outputs": [
    {
     "data": {
      "text/html": [
       "<div>\n",
       "<style scoped>\n",
       "    .dataframe tbody tr th:only-of-type {\n",
       "        vertical-align: middle;\n",
       "    }\n",
       "\n",
       "    .dataframe tbody tr th {\n",
       "        vertical-align: top;\n",
       "    }\n",
       "\n",
       "    .dataframe thead th {\n",
       "        text-align: right;\n",
       "    }\n",
       "</style>\n",
       "<table border=\"1\" class=\"dataframe\">\n",
       "  <thead>\n",
       "    <tr style=\"text-align: right;\">\n",
       "      <th></th>\n",
       "      <th>A</th>\n",
       "      <th>B</th>\n",
       "      <th>C</th>\n",
       "      <th>D</th>\n",
       "      <th>E</th>\n",
       "      <th>E prime</th>\n",
       "      <th>cosine</th>\n",
       "    </tr>\n",
       "  </thead>\n",
       "  <tbody>\n",
       "    <tr>\n",
       "      <th>2021-11-22 12:45:00</th>\n",
       "      <td>0.000000</td>\n",
<<<<<<< HEAD
       "      <td>-0.849147</td>\n",
       "      <td>-0.078706</td>\n",
=======
       "      <td>0.888653</td>\n",
       "      <td>0.190292</td>\n",
>>>>>>> main
       "      <td>5</td>\n",
       "      <td>0.0</td>\n",
       "      <td>0</td>\n",
       "      <td>1.000000</td>\n",
       "    </tr>\n",
       "    <tr>\n",
       "      <th>2021-11-22 13:45:00</th>\n",
<<<<<<< HEAD
       "      <td>-0.631933</td>\n",
       "      <td>-1.298313</td>\n",
       "      <td>-0.034452</td>\n",
=======
       "      <td>-0.681071</td>\n",
       "      <td>0.713753</td>\n",
       "      <td>-0.105593</td>\n",
>>>>>>> main
       "      <td>5</td>\n",
       "      <td>0.5</td>\n",
       "      <td>2</td>\n",
       "      <td>0.999962</td>\n",
       "    </tr>\n",
       "    <tr>\n",
       "      <th>2021-11-22 14:45:00</th>\n",
<<<<<<< HEAD
       "      <td>-0.692474</td>\n",
       "      <td>-0.997107</td>\n",
       "      <td>-0.875579</td>\n",
=======
       "      <td>0.081801</td>\n",
       "      <td>-0.161070</td>\n",
       "      <td>0.490220</td>\n",
>>>>>>> main
       "      <td>5</td>\n",
       "      <td>1.0</td>\n",
       "      <td>4</td>\n",
       "      <td>0.999848</td>\n",
       "    </tr>\n",
       "    <tr>\n",
       "      <th>2021-11-22 15:45:00</th>\n",
<<<<<<< HEAD
       "      <td>-1.646534</td>\n",
       "      <td>-0.377956</td>\n",
       "      <td>-1.269053</td>\n",
=======
       "      <td>-1.566905</td>\n",
       "      <td>-0.023480</td>\n",
       "      <td>-0.209717</td>\n",
>>>>>>> main
       "      <td>5</td>\n",
       "      <td>1.5</td>\n",
       "      <td>6</td>\n",
       "      <td>0.999657</td>\n",
       "    </tr>\n",
       "    <tr>\n",
       "      <th>2021-11-22 16:45:00</th>\n",
<<<<<<< HEAD
       "      <td>1.793438</td>\n",
       "      <td>-0.812404</td>\n",
       "      <td>0.962738</td>\n",
=======
       "      <td>-0.993451</td>\n",
       "      <td>0.660596</td>\n",
       "      <td>-0.640795</td>\n",
>>>>>>> main
       "      <td>5</td>\n",
       "      <td>2.0</td>\n",
       "      <td>8</td>\n",
       "      <td>0.999391</td>\n",
       "    </tr>\n",
       "    <tr>\n",
       "      <th>2021-11-22 17:45:00</th>\n",
<<<<<<< HEAD
       "      <td>-1.180860</td>\n",
       "      <td>0.657816</td>\n",
       "      <td>0.584254</td>\n",
=======
       "      <td>-0.502289</td>\n",
       "      <td>-1.540699</td>\n",
       "      <td>0.597723</td>\n",
>>>>>>> main
       "      <td>5</td>\n",
       "      <td>2.5</td>\n",
       "      <td>10</td>\n",
       "      <td>0.999048</td>\n",
       "    </tr>\n",
       "    <tr>\n",
       "      <th>2021-11-22 18:45:00</th>\n",
<<<<<<< HEAD
       "      <td>-0.418599</td>\n",
       "      <td>-1.268032</td>\n",
       "      <td>-0.864764</td>\n",
=======
       "      <td>1.027537</td>\n",
       "      <td>-1.167869</td>\n",
       "      <td>1.067255</td>\n",
>>>>>>> main
       "      <td>5</td>\n",
       "      <td>3.0</td>\n",
       "      <td>12</td>\n",
       "      <td>0.998630</td>\n",
       "    </tr>\n",
       "    <tr>\n",
       "      <th>2021-11-22 19:45:00</th>\n",
<<<<<<< HEAD
       "      <td>0.075597</td>\n",
       "      <td>0.405518</td>\n",
       "      <td>-0.427705</td>\n",
=======
       "      <td>0.818057</td>\n",
       "      <td>0.269213</td>\n",
       "      <td>0.314521</td>\n",
>>>>>>> main
       "      <td>5</td>\n",
       "      <td>3.5</td>\n",
       "      <td>14</td>\n",
       "      <td>0.998135</td>\n",
       "    </tr>\n",
       "    <tr>\n",
       "      <th>2021-11-22 20:45:00</th>\n",
<<<<<<< HEAD
       "      <td>0.808515</td>\n",
       "      <td>0.324969</td>\n",
       "      <td>-0.987045</td>\n",
=======
       "      <td>0.786582</td>\n",
       "      <td>0.535676</td>\n",
       "      <td>-1.284995</td>\n",
>>>>>>> main
       "      <td>5</td>\n",
       "      <td>4.0</td>\n",
       "      <td>16</td>\n",
       "      <td>0.997564</td>\n",
       "    </tr>\n",
       "    <tr>\n",
       "      <th>2021-11-22 21:45:00</th>\n",
<<<<<<< HEAD
       "      <td>0.382066</td>\n",
       "      <td>-1.237824</td>\n",
       "      <td>0.401625</td>\n",
=======
       "      <td>-0.444392</td>\n",
       "      <td>1.156596</td>\n",
       "      <td>-1.391161</td>\n",
>>>>>>> main
       "      <td>5</td>\n",
       "      <td>4.5</td>\n",
       "      <td>18</td>\n",
       "      <td>0.996917</td>\n",
       "    </tr>\n",
       "  </tbody>\n",
       "</table>\n",
       "</div>"
      ],
      "text/plain": [
       "                            A         B         C  D    E  E prime    cosine\n",
<<<<<<< HEAD
       "2021-11-22 12:45:00  0.000000 -0.849147 -0.078706  5  0.0        0  1.000000\n",
       "2021-11-22 13:45:00 -0.631933 -1.298313 -0.034452  5  0.5        2  0.999962\n",
       "2021-11-22 14:45:00 -0.692474 -0.997107 -0.875579  5  1.0        4  0.999848\n",
       "2021-11-22 15:45:00 -1.646534 -0.377956 -1.269053  5  1.5        6  0.999657\n",
       "2021-11-22 16:45:00  1.793438 -0.812404  0.962738  5  2.0        8  0.999391\n",
       "2021-11-22 17:45:00 -1.180860  0.657816  0.584254  5  2.5       10  0.999048\n",
       "2021-11-22 18:45:00 -0.418599 -1.268032 -0.864764  5  3.0       12  0.998630\n",
       "2021-11-22 19:45:00  0.075597  0.405518 -0.427705  5  3.5       14  0.998135\n",
       "2021-11-22 20:45:00  0.808515  0.324969 -0.987045  5  4.0       16  0.997564\n",
       "2021-11-22 21:45:00  0.382066 -1.237824  0.401625  5  4.5       18  0.996917"
      ]
     },
     "execution_count": 34,
=======
       "2021-11-22 12:45:00  0.000000  0.888653  0.190292  5  0.0        0  1.000000\n",
       "2021-11-22 13:45:00 -0.681071  0.713753 -0.105593  5  0.5        2  0.999962\n",
       "2021-11-22 14:45:00  0.081801 -0.161070  0.490220  5  1.0        4  0.999848\n",
       "2021-11-22 15:45:00 -1.566905 -0.023480 -0.209717  5  1.5        6  0.999657\n",
       "2021-11-22 16:45:00 -0.993451  0.660596 -0.640795  5  2.0        8  0.999391\n",
       "2021-11-22 17:45:00 -0.502289 -1.540699  0.597723  5  2.5       10  0.999048\n",
       "2021-11-22 18:45:00  1.027537 -1.167869  1.067255  5  3.0       12  0.998630\n",
       "2021-11-22 19:45:00  0.818057  0.269213  0.314521  5  3.5       14  0.998135\n",
       "2021-11-22 20:45:00  0.786582  0.535676 -1.284995  5  4.0       16  0.997564\n",
       "2021-11-22 21:45:00 -0.444392  1.156596 -1.391161  5  4.5       18  0.996917"
      ]
     },
     "execution_count": 37,
>>>>>>> main
     "metadata": {},
     "output_type": "execute_result"
    }
   ],
   "source": [
    "def dcos(theta):\n",
    "    theta = theta*(np.pi/180)\n",
    "    return np.cos(theta)\n",
    " \n",
    "df['cosine'] = pd.Series(df[\"E\"].apply(dcos), index=df.index)\n",
    "df"
   ]
  },
  {
   "cell_type": "code",
<<<<<<< HEAD
   "execution_count": 35,
=======
   "execution_count": 38,
>>>>>>> main
   "metadata": {},
   "outputs": [
    {
     "data": {
      "text/html": [
       "<div>\n",
       "<style scoped>\n",
       "    .dataframe tbody tr th:only-of-type {\n",
       "        vertical-align: middle;\n",
       "    }\n",
       "\n",
       "    .dataframe tbody tr th {\n",
       "        vertical-align: top;\n",
       "    }\n",
       "\n",
       "    .dataframe thead th {\n",
       "        text-align: right;\n",
       "    }\n",
       "</style>\n",
       "<table border=\"1\" class=\"dataframe\">\n",
       "  <thead>\n",
       "    <tr style=\"text-align: right;\">\n",
       "      <th></th>\n",
       "      <th>A</th>\n",
       "      <th>B</th>\n",
       "      <th>C</th>\n",
       "      <th>D</th>\n",
       "      <th>E</th>\n",
       "      <th>E prime</th>\n",
       "      <th>cosine</th>\n",
       "    </tr>\n",
       "  </thead>\n",
       "  <tbody>\n",
       "    <tr>\n",
       "      <th>2021-11-22 12:45:00</th>\n",
       "      <td>0.000000</td>\n",
<<<<<<< HEAD
       "      <td>-0.849147</td>\n",
       "      <td>-0.078706</td>\n",
=======
       "      <td>-0.888653</td>\n",
       "      <td>-0.190292</td>\n",
>>>>>>> main
       "      <td>-5</td>\n",
       "      <td>0.0</td>\n",
       "      <td>0</td>\n",
       "      <td>-1.000000</td>\n",
       "    </tr>\n",
       "    <tr>\n",
       "      <th>2021-11-22 13:45:00</th>\n",
<<<<<<< HEAD
       "      <td>-0.631933</td>\n",
       "      <td>-1.298313</td>\n",
       "      <td>-0.034452</td>\n",
=======
       "      <td>-0.681071</td>\n",
       "      <td>-0.713753</td>\n",
       "      <td>-0.105593</td>\n",
>>>>>>> main
       "      <td>-5</td>\n",
       "      <td>-0.5</td>\n",
       "      <td>-2</td>\n",
       "      <td>-0.999962</td>\n",
       "    </tr>\n",
       "    <tr>\n",
       "      <th>2021-11-22 14:45:00</th>\n",
<<<<<<< HEAD
       "      <td>-0.692474</td>\n",
       "      <td>-0.997107</td>\n",
       "      <td>-0.875579</td>\n",
=======
       "      <td>-0.081801</td>\n",
       "      <td>-0.161070</td>\n",
       "      <td>-0.490220</td>\n",
>>>>>>> main
       "      <td>-5</td>\n",
       "      <td>-1.0</td>\n",
       "      <td>-4</td>\n",
       "      <td>-0.999848</td>\n",
       "    </tr>\n",
       "    <tr>\n",
       "      <th>2021-11-22 15:45:00</th>\n",
<<<<<<< HEAD
       "      <td>-1.646534</td>\n",
       "      <td>-0.377956</td>\n",
       "      <td>-1.269053</td>\n",
=======
       "      <td>-1.566905</td>\n",
       "      <td>-0.023480</td>\n",
       "      <td>-0.209717</td>\n",
>>>>>>> main
       "      <td>-5</td>\n",
       "      <td>-1.5</td>\n",
       "      <td>-6</td>\n",
       "      <td>-0.999657</td>\n",
       "    </tr>\n",
       "    <tr>\n",
       "      <th>2021-11-22 16:45:00</th>\n",
<<<<<<< HEAD
       "      <td>-1.793438</td>\n",
       "      <td>-0.812404</td>\n",
       "      <td>-0.962738</td>\n",
=======
       "      <td>-0.993451</td>\n",
       "      <td>-0.660596</td>\n",
       "      <td>-0.640795</td>\n",
>>>>>>> main
       "      <td>-5</td>\n",
       "      <td>-2.0</td>\n",
       "      <td>-8</td>\n",
       "      <td>-0.999391</td>\n",
       "    </tr>\n",
       "    <tr>\n",
       "      <th>2021-11-22 17:45:00</th>\n",
<<<<<<< HEAD
       "      <td>-1.180860</td>\n",
       "      <td>-0.657816</td>\n",
       "      <td>-0.584254</td>\n",
=======
       "      <td>-0.502289</td>\n",
       "      <td>-1.540699</td>\n",
       "      <td>-0.597723</td>\n",
>>>>>>> main
       "      <td>-5</td>\n",
       "      <td>-2.5</td>\n",
       "      <td>-10</td>\n",
       "      <td>-0.999048</td>\n",
       "    </tr>\n",
       "    <tr>\n",
       "      <th>2021-11-22 18:45:00</th>\n",
<<<<<<< HEAD
       "      <td>-0.418599</td>\n",
       "      <td>-1.268032</td>\n",
       "      <td>-0.864764</td>\n",
=======
       "      <td>-1.027537</td>\n",
       "      <td>-1.167869</td>\n",
       "      <td>-1.067255</td>\n",
>>>>>>> main
       "      <td>-5</td>\n",
       "      <td>-3.0</td>\n",
       "      <td>-12</td>\n",
       "      <td>-0.998630</td>\n",
       "    </tr>\n",
       "    <tr>\n",
       "      <th>2021-11-22 19:45:00</th>\n",
<<<<<<< HEAD
       "      <td>-0.075597</td>\n",
       "      <td>-0.405518</td>\n",
       "      <td>-0.427705</td>\n",
=======
       "      <td>-0.818057</td>\n",
       "      <td>-0.269213</td>\n",
       "      <td>-0.314521</td>\n",
>>>>>>> main
       "      <td>-5</td>\n",
       "      <td>-3.5</td>\n",
       "      <td>-14</td>\n",
       "      <td>-0.998135</td>\n",
       "    </tr>\n",
       "    <tr>\n",
       "      <th>2021-11-22 20:45:00</th>\n",
<<<<<<< HEAD
       "      <td>-0.808515</td>\n",
       "      <td>-0.324969</td>\n",
       "      <td>-0.987045</td>\n",
=======
       "      <td>-0.786582</td>\n",
       "      <td>-0.535676</td>\n",
       "      <td>-1.284995</td>\n",
>>>>>>> main
       "      <td>-5</td>\n",
       "      <td>-4.0</td>\n",
       "      <td>-16</td>\n",
       "      <td>-0.997564</td>\n",
       "    </tr>\n",
       "    <tr>\n",
       "      <th>2021-11-22 21:45:00</th>\n",
<<<<<<< HEAD
       "      <td>-0.382066</td>\n",
       "      <td>-1.237824</td>\n",
       "      <td>-0.401625</td>\n",
=======
       "      <td>-0.444392</td>\n",
       "      <td>-1.156596</td>\n",
       "      <td>-1.391161</td>\n",
>>>>>>> main
       "      <td>-5</td>\n",
       "      <td>-4.5</td>\n",
       "      <td>-18</td>\n",
       "      <td>-0.996917</td>\n",
       "    </tr>\n",
       "  </tbody>\n",
       "</table>\n",
       "</div>"
      ],
      "text/plain": [
       "                            A         B         C  D    E  E prime    cosine\n",
<<<<<<< HEAD
       "2021-11-22 12:45:00  0.000000 -0.849147 -0.078706 -5  0.0        0 -1.000000\n",
       "2021-11-22 13:45:00 -0.631933 -1.298313 -0.034452 -5 -0.5       -2 -0.999962\n",
       "2021-11-22 14:45:00 -0.692474 -0.997107 -0.875579 -5 -1.0       -4 -0.999848\n",
       "2021-11-22 15:45:00 -1.646534 -0.377956 -1.269053 -5 -1.5       -6 -0.999657\n",
       "2021-11-22 16:45:00 -1.793438 -0.812404 -0.962738 -5 -2.0       -8 -0.999391\n",
       "2021-11-22 17:45:00 -1.180860 -0.657816 -0.584254 -5 -2.5      -10 -0.999048\n",
       "2021-11-22 18:45:00 -0.418599 -1.268032 -0.864764 -5 -3.0      -12 -0.998630\n",
       "2021-11-22 19:45:00 -0.075597 -0.405518 -0.427705 -5 -3.5      -14 -0.998135\n",
       "2021-11-22 20:45:00 -0.808515 -0.324969 -0.987045 -5 -4.0      -16 -0.997564\n",
       "2021-11-22 21:45:00 -0.382066 -1.237824 -0.401625 -5 -4.5      -18 -0.996917"
      ]
     },
     "execution_count": 35,
=======
       "2021-11-22 12:45:00  0.000000 -0.888653 -0.190292 -5  0.0        0 -1.000000\n",
       "2021-11-22 13:45:00 -0.681071 -0.713753 -0.105593 -5 -0.5       -2 -0.999962\n",
       "2021-11-22 14:45:00 -0.081801 -0.161070 -0.490220 -5 -1.0       -4 -0.999848\n",
       "2021-11-22 15:45:00 -1.566905 -0.023480 -0.209717 -5 -1.5       -6 -0.999657\n",
       "2021-11-22 16:45:00 -0.993451 -0.660596 -0.640795 -5 -2.0       -8 -0.999391\n",
       "2021-11-22 17:45:00 -0.502289 -1.540699 -0.597723 -5 -2.5      -10 -0.999048\n",
       "2021-11-22 18:45:00 -1.027537 -1.167869 -1.067255 -5 -3.0      -12 -0.998630\n",
       "2021-11-22 19:45:00 -0.818057 -0.269213 -0.314521 -5 -3.5      -14 -0.998135\n",
       "2021-11-22 20:45:00 -0.786582 -0.535676 -1.284995 -5 -4.0      -16 -0.997564\n",
       "2021-11-22 21:45:00 -0.444392 -1.156596 -1.391161 -5 -4.5      -18 -0.996917"
      ]
     },
     "execution_count": 38,
>>>>>>> main
     "metadata": {},
     "output_type": "execute_result"
    }
   ],
   "source": [
    "# another example of global setting\n",
    "df2=df.copy()\n",
    "\n",
    "df2[df2>0] = -df2\n",
    "df2"
   ]
  },
  {
   "cell_type": "code",
<<<<<<< HEAD
   "execution_count": 36,
=======
   "execution_count": 39,
>>>>>>> main
   "metadata": {},
   "outputs": [
    {
     "data": {
      "text/html": [
       "<div>\n",
       "<style scoped>\n",
       "    .dataframe tbody tr th:only-of-type {\n",
       "        vertical-align: middle;\n",
       "    }\n",
       "\n",
       "    .dataframe tbody tr th {\n",
       "        vertical-align: top;\n",
       "    }\n",
       "\n",
       "    .dataframe thead th {\n",
       "        text-align: right;\n",
       "    }\n",
       "</style>\n",
       "<table border=\"1\" class=\"dataframe\">\n",
       "  <thead>\n",
       "    <tr style=\"text-align: right;\">\n",
       "      <th></th>\n",
       "      <th>A</th>\n",
       "      <th>B</th>\n",
       "      <th>C</th>\n",
       "      <th>D</th>\n",
       "      <th>E</th>\n",
       "      <th>E prime</th>\n",
       "      <th>cosine</th>\n",
       "    </tr>\n",
       "  </thead>\n",
       "  <tbody>\n",
       "    <tr>\n",
       "      <th>2021-11-22 12:45:00</th>\n",
       "      <td>0.000000</td>\n",
<<<<<<< HEAD
       "      <td>-0.849147</td>\n",
       "      <td>-0.078706</td>\n",
=======
       "      <td>0.888653</td>\n",
       "      <td>0.190292</td>\n",
>>>>>>> main
       "      <td>5</td>\n",
       "      <td>0.0</td>\n",
       "      <td>0</td>\n",
       "      <td>1.000000</td>\n",
       "    </tr>\n",
       "    <tr>\n",
       "      <th>2021-11-22 13:45:00</th>\n",
<<<<<<< HEAD
       "      <td>-0.631933</td>\n",
       "      <td>-1.298313</td>\n",
       "      <td>-0.034452</td>\n",
=======
       "      <td>-0.681071</td>\n",
       "      <td>0.713753</td>\n",
       "      <td>-0.105593</td>\n",
>>>>>>> main
       "      <td>5</td>\n",
       "      <td>0.5</td>\n",
       "      <td>2</td>\n",
       "      <td>0.999962</td>\n",
       "    </tr>\n",
       "    <tr>\n",
       "      <th>2021-11-22 14:45:00</th>\n",
<<<<<<< HEAD
       "      <td>-0.692474</td>\n",
       "      <td>-0.997107</td>\n",
       "      <td>-0.875579</td>\n",
=======
       "      <td>0.081801</td>\n",
       "      <td>-0.161070</td>\n",
       "      <td>0.490220</td>\n",
>>>>>>> main
       "      <td>5</td>\n",
       "      <td>1.0</td>\n",
       "      <td>4</td>\n",
       "      <td>0.999848</td>\n",
       "    </tr>\n",
       "    <tr>\n",
       "      <th>2021-11-22 15:45:00</th>\n",
<<<<<<< HEAD
       "      <td>-1.646534</td>\n",
       "      <td>-0.377956</td>\n",
       "      <td>-1.269053</td>\n",
=======
       "      <td>-1.566905</td>\n",
       "      <td>-0.023480</td>\n",
       "      <td>-0.209717</td>\n",
>>>>>>> main
       "      <td>5</td>\n",
       "      <td>1.5</td>\n",
       "      <td>6</td>\n",
       "      <td>0.999657</td>\n",
       "    </tr>\n",
       "    <tr>\n",
       "      <th>2021-11-22 16:45:00</th>\n",
<<<<<<< HEAD
       "      <td>1.793438</td>\n",
       "      <td>-0.812404</td>\n",
       "      <td>0.962738</td>\n",
=======
       "      <td>-0.993451</td>\n",
       "      <td>0.660596</td>\n",
       "      <td>-0.640795</td>\n",
>>>>>>> main
       "      <td>5</td>\n",
       "      <td>2.0</td>\n",
       "      <td>8</td>\n",
       "      <td>0.999391</td>\n",
       "    </tr>\n",
       "    <tr>\n",
       "      <th>2021-11-22 17:45:00</th>\n",
<<<<<<< HEAD
       "      <td>-1.180860</td>\n",
       "      <td>0.657816</td>\n",
       "      <td>0.584254</td>\n",
=======
       "      <td>-0.502289</td>\n",
       "      <td>-1.540699</td>\n",
       "      <td>0.597723</td>\n",
>>>>>>> main
       "      <td>5</td>\n",
       "      <td>2.5</td>\n",
       "      <td>10</td>\n",
       "      <td>0.999048</td>\n",
       "    </tr>\n",
       "    <tr>\n",
       "      <th>2021-11-22 18:45:00</th>\n",
<<<<<<< HEAD
       "      <td>-0.418599</td>\n",
       "      <td>-1.268032</td>\n",
       "      <td>-0.864764</td>\n",
=======
       "      <td>1.027537</td>\n",
       "      <td>-1.167869</td>\n",
       "      <td>1.067255</td>\n",
>>>>>>> main
       "      <td>5</td>\n",
       "      <td>3.0</td>\n",
       "      <td>12</td>\n",
       "      <td>0.998630</td>\n",
       "    </tr>\n",
       "    <tr>\n",
       "      <th>2021-11-22 19:45:00</th>\n",
<<<<<<< HEAD
       "      <td>0.075597</td>\n",
       "      <td>0.405518</td>\n",
       "      <td>-0.427705</td>\n",
=======
       "      <td>0.818057</td>\n",
       "      <td>0.269213</td>\n",
       "      <td>0.314521</td>\n",
>>>>>>> main
       "      <td>5</td>\n",
       "      <td>3.5</td>\n",
       "      <td>14</td>\n",
       "      <td>0.998135</td>\n",
       "    </tr>\n",
       "    <tr>\n",
       "      <th>2021-11-22 20:45:00</th>\n",
<<<<<<< HEAD
       "      <td>0.808515</td>\n",
       "      <td>0.324969</td>\n",
       "      <td>-0.987045</td>\n",
=======
       "      <td>0.786582</td>\n",
       "      <td>0.535676</td>\n",
       "      <td>-1.284995</td>\n",
>>>>>>> main
       "      <td>5</td>\n",
       "      <td>4.0</td>\n",
       "      <td>16</td>\n",
       "      <td>0.997564</td>\n",
       "    </tr>\n",
       "    <tr>\n",
       "      <th>2021-11-22 21:45:00</th>\n",
<<<<<<< HEAD
       "      <td>0.382066</td>\n",
       "      <td>-1.237824</td>\n",
       "      <td>0.401625</td>\n",
=======
       "      <td>-0.444392</td>\n",
       "      <td>1.156596</td>\n",
       "      <td>-1.391161</td>\n",
>>>>>>> main
       "      <td>5</td>\n",
       "      <td>4.5</td>\n",
       "      <td>18</td>\n",
       "      <td>0.996917</td>\n",
       "    </tr>\n",
       "  </tbody>\n",
       "</table>\n",
       "</div>"
      ],
      "text/plain": [
       "                            A         B         C  D    E  E prime    cosine\n",
<<<<<<< HEAD
       "2021-11-22 12:45:00  0.000000 -0.849147 -0.078706  5  0.0        0  1.000000\n",
       "2021-11-22 13:45:00 -0.631933 -1.298313 -0.034452  5  0.5        2  0.999962\n",
       "2021-11-22 14:45:00 -0.692474 -0.997107 -0.875579  5  1.0        4  0.999848\n",
       "2021-11-22 15:45:00 -1.646534 -0.377956 -1.269053  5  1.5        6  0.999657\n",
       "2021-11-22 16:45:00  1.793438 -0.812404  0.962738  5  2.0        8  0.999391\n",
       "2021-11-22 17:45:00 -1.180860  0.657816  0.584254  5  2.5       10  0.999048\n",
       "2021-11-22 18:45:00 -0.418599 -1.268032 -0.864764  5  3.0       12  0.998630\n",
       "2021-11-22 19:45:00  0.075597  0.405518 -0.427705  5  3.5       14  0.998135\n",
       "2021-11-22 20:45:00  0.808515  0.324969 -0.987045  5  4.0       16  0.997564\n",
       "2021-11-22 21:45:00  0.382066 -1.237824  0.401625  5  4.5       18  0.996917"
      ]
     },
     "execution_count": 36,
=======
       "2021-11-22 12:45:00  0.000000  0.888653  0.190292  5  0.0        0  1.000000\n",
       "2021-11-22 13:45:00 -0.681071  0.713753 -0.105593  5  0.5        2  0.999962\n",
       "2021-11-22 14:45:00  0.081801 -0.161070  0.490220  5  1.0        4  0.999848\n",
       "2021-11-22 15:45:00 -1.566905 -0.023480 -0.209717  5  1.5        6  0.999657\n",
       "2021-11-22 16:45:00 -0.993451  0.660596 -0.640795  5  2.0        8  0.999391\n",
       "2021-11-22 17:45:00 -0.502289 -1.540699  0.597723  5  2.5       10  0.999048\n",
       "2021-11-22 18:45:00  1.027537 -1.167869  1.067255  5  3.0       12  0.998630\n",
       "2021-11-22 19:45:00  0.818057  0.269213  0.314521  5  3.5       14  0.998135\n",
       "2021-11-22 20:45:00  0.786582  0.535676 -1.284995  5  4.0       16  0.997564\n",
       "2021-11-22 21:45:00 -0.444392  1.156596 -1.391161  5  4.5       18  0.996917"
      ]
     },
     "execution_count": 39,
>>>>>>> main
     "metadata": {},
     "output_type": "execute_result"
    }
   ],
   "source": [
    "df"
   ]
  },
  {
   "cell_type": "markdown",
   "metadata": {},
   "source": [
    "### Dropping\n",
    "\n",
    "N.B.: dropping doesn't act permanently on the DataFrame, i.e. to get that do :\n",
    "```python\n",
    "df = df.drop(....)\n",
    "```"
   ]
  },
  {
   "cell_type": "code",
<<<<<<< HEAD
   "execution_count": 37,
=======
   "execution_count": 40,
>>>>>>> main
   "metadata": {},
   "outputs": [
    {
     "data": {
      "text/html": [
       "<div>\n",
       "<style scoped>\n",
       "    .dataframe tbody tr th:only-of-type {\n",
       "        vertical-align: middle;\n",
       "    }\n",
       "\n",
       "    .dataframe tbody tr th {\n",
       "        vertical-align: top;\n",
       "    }\n",
       "\n",
       "    .dataframe thead th {\n",
       "        text-align: right;\n",
       "    }\n",
       "</style>\n",
       "<table border=\"1\" class=\"dataframe\">\n",
       "  <thead>\n",
       "    <tr style=\"text-align: right;\">\n",
       "      <th></th>\n",
       "      <th>A</th>\n",
       "      <th>B</th>\n",
       "      <th>C</th>\n",
       "      <th>D</th>\n",
       "      <th>E</th>\n",
       "      <th>cosine</th>\n",
       "    </tr>\n",
       "  </thead>\n",
       "  <tbody>\n",
       "    <tr>\n",
       "      <th>2021-11-22 12:45:00</th>\n",
       "      <td>0.000000</td>\n",
<<<<<<< HEAD
       "      <td>-0.849147</td>\n",
       "      <td>-0.078706</td>\n",
=======
       "      <td>0.888653</td>\n",
       "      <td>0.190292</td>\n",
>>>>>>> main
       "      <td>5</td>\n",
       "      <td>0.0</td>\n",
       "      <td>1.000000</td>\n",
       "    </tr>\n",
       "    <tr>\n",
       "      <th>2021-11-22 13:45:00</th>\n",
<<<<<<< HEAD
       "      <td>-0.631933</td>\n",
       "      <td>-1.298313</td>\n",
       "      <td>-0.034452</td>\n",
=======
       "      <td>-0.681071</td>\n",
       "      <td>0.713753</td>\n",
       "      <td>-0.105593</td>\n",
>>>>>>> main
       "      <td>5</td>\n",
       "      <td>0.5</td>\n",
       "      <td>0.999962</td>\n",
       "    </tr>\n",
       "    <tr>\n",
       "      <th>2021-11-22 14:45:00</th>\n",
<<<<<<< HEAD
       "      <td>-0.692474</td>\n",
       "      <td>-0.997107</td>\n",
       "      <td>-0.875579</td>\n",
=======
       "      <td>0.081801</td>\n",
       "      <td>-0.161070</td>\n",
       "      <td>0.490220</td>\n",
>>>>>>> main
       "      <td>5</td>\n",
       "      <td>1.0</td>\n",
       "      <td>0.999848</td>\n",
       "    </tr>\n",
       "    <tr>\n",
       "      <th>2021-11-22 15:45:00</th>\n",
<<<<<<< HEAD
       "      <td>-1.646534</td>\n",
       "      <td>-0.377956</td>\n",
       "      <td>-1.269053</td>\n",
=======
       "      <td>-1.566905</td>\n",
       "      <td>-0.023480</td>\n",
       "      <td>-0.209717</td>\n",
>>>>>>> main
       "      <td>5</td>\n",
       "      <td>1.5</td>\n",
       "      <td>0.999657</td>\n",
       "    </tr>\n",
       "    <tr>\n",
       "      <th>2021-11-22 16:45:00</th>\n",
<<<<<<< HEAD
       "      <td>1.793438</td>\n",
       "      <td>-0.812404</td>\n",
       "      <td>0.962738</td>\n",
=======
       "      <td>-0.993451</td>\n",
       "      <td>0.660596</td>\n",
       "      <td>-0.640795</td>\n",
>>>>>>> main
       "      <td>5</td>\n",
       "      <td>2.0</td>\n",
       "      <td>0.999391</td>\n",
       "    </tr>\n",
       "    <tr>\n",
       "      <th>2021-11-22 17:45:00</th>\n",
<<<<<<< HEAD
       "      <td>-1.180860</td>\n",
       "      <td>0.657816</td>\n",
       "      <td>0.584254</td>\n",
=======
       "      <td>-0.502289</td>\n",
       "      <td>-1.540699</td>\n",
       "      <td>0.597723</td>\n",
>>>>>>> main
       "      <td>5</td>\n",
       "      <td>2.5</td>\n",
       "      <td>0.999048</td>\n",
       "    </tr>\n",
       "    <tr>\n",
       "      <th>2021-11-22 18:45:00</th>\n",
<<<<<<< HEAD
       "      <td>-0.418599</td>\n",
       "      <td>-1.268032</td>\n",
       "      <td>-0.864764</td>\n",
=======
       "      <td>1.027537</td>\n",
       "      <td>-1.167869</td>\n",
       "      <td>1.067255</td>\n",
>>>>>>> main
       "      <td>5</td>\n",
       "      <td>3.0</td>\n",
       "      <td>0.998630</td>\n",
       "    </tr>\n",
       "    <tr>\n",
       "      <th>2021-11-22 19:45:00</th>\n",
<<<<<<< HEAD
       "      <td>0.075597</td>\n",
       "      <td>0.405518</td>\n",
       "      <td>-0.427705</td>\n",
=======
       "      <td>0.818057</td>\n",
       "      <td>0.269213</td>\n",
       "      <td>0.314521</td>\n",
>>>>>>> main
       "      <td>5</td>\n",
       "      <td>3.5</td>\n",
       "      <td>0.998135</td>\n",
       "    </tr>\n",
       "    <tr>\n",
       "      <th>2021-11-22 20:45:00</th>\n",
<<<<<<< HEAD
       "      <td>0.808515</td>\n",
       "      <td>0.324969</td>\n",
       "      <td>-0.987045</td>\n",
=======
       "      <td>0.786582</td>\n",
       "      <td>0.535676</td>\n",
       "      <td>-1.284995</td>\n",
>>>>>>> main
       "      <td>5</td>\n",
       "      <td>4.0</td>\n",
       "      <td>0.997564</td>\n",
       "    </tr>\n",
       "    <tr>\n",
       "      <th>2021-11-22 21:45:00</th>\n",
<<<<<<< HEAD
       "      <td>0.382066</td>\n",
       "      <td>-1.237824</td>\n",
       "      <td>0.401625</td>\n",
=======
       "      <td>-0.444392</td>\n",
       "      <td>1.156596</td>\n",
       "      <td>-1.391161</td>\n",
>>>>>>> main
       "      <td>5</td>\n",
       "      <td>4.5</td>\n",
       "      <td>0.996917</td>\n",
       "    </tr>\n",
       "  </tbody>\n",
       "</table>\n",
       "</div>"
      ],
      "text/plain": [
       "                            A         B         C  D    E    cosine\n",
<<<<<<< HEAD
       "2021-11-22 12:45:00  0.000000 -0.849147 -0.078706  5  0.0  1.000000\n",
       "2021-11-22 13:45:00 -0.631933 -1.298313 -0.034452  5  0.5  0.999962\n",
       "2021-11-22 14:45:00 -0.692474 -0.997107 -0.875579  5  1.0  0.999848\n",
       "2021-11-22 15:45:00 -1.646534 -0.377956 -1.269053  5  1.5  0.999657\n",
       "2021-11-22 16:45:00  1.793438 -0.812404  0.962738  5  2.0  0.999391\n",
       "2021-11-22 17:45:00 -1.180860  0.657816  0.584254  5  2.5  0.999048\n",
       "2021-11-22 18:45:00 -0.418599 -1.268032 -0.864764  5  3.0  0.998630\n",
       "2021-11-22 19:45:00  0.075597  0.405518 -0.427705  5  3.5  0.998135\n",
       "2021-11-22 20:45:00  0.808515  0.324969 -0.987045  5  4.0  0.997564\n",
       "2021-11-22 21:45:00  0.382066 -1.237824  0.401625  5  4.5  0.996917"
      ]
     },
     "execution_count": 37,
=======
       "2021-11-22 12:45:00  0.000000  0.888653  0.190292  5  0.0  1.000000\n",
       "2021-11-22 13:45:00 -0.681071  0.713753 -0.105593  5  0.5  0.999962\n",
       "2021-11-22 14:45:00  0.081801 -0.161070  0.490220  5  1.0  0.999848\n",
       "2021-11-22 15:45:00 -1.566905 -0.023480 -0.209717  5  1.5  0.999657\n",
       "2021-11-22 16:45:00 -0.993451  0.660596 -0.640795  5  2.0  0.999391\n",
       "2021-11-22 17:45:00 -0.502289 -1.540699  0.597723  5  2.5  0.999048\n",
       "2021-11-22 18:45:00  1.027537 -1.167869  1.067255  5  3.0  0.998630\n",
       "2021-11-22 19:45:00  0.818057  0.269213  0.314521  5  3.5  0.998135\n",
       "2021-11-22 20:45:00  0.786582  0.535676 -1.284995  5  4.0  0.997564\n",
       "2021-11-22 21:45:00 -0.444392  1.156596 -1.391161  5  4.5  0.996917"
      ]
     },
     "execution_count": 40,
>>>>>>> main
     "metadata": {},
     "output_type": "execute_result"
    }
   ],
   "source": [
    "# Dropping by column\n",
    "df.drop(['E prime'], axis=1)\n",
    "\n",
    "#which is equivalent to\n",
    "new_df=df.drop(columns=['E prime'])\n",
    "new_df"
   ]
  },
  {
   "cell_type": "code",
<<<<<<< HEAD
   "execution_count": 38,
=======
   "execution_count": 42,
>>>>>>> main
   "metadata": {},
   "outputs": [
    {
     "data": {
      "text/html": [
       "<div>\n",
       "<style scoped>\n",
       "    .dataframe tbody tr th:only-of-type {\n",
       "        vertical-align: middle;\n",
       "    }\n",
       "\n",
       "    .dataframe tbody tr th {\n",
       "        vertical-align: top;\n",
       "    }\n",
       "\n",
       "    .dataframe thead th {\n",
       "        text-align: right;\n",
       "    }\n",
       "</style>\n",
       "<table border=\"1\" class=\"dataframe\">\n",
       "  <thead>\n",
       "    <tr style=\"text-align: right;\">\n",
       "      <th></th>\n",
       "      <th>A</th>\n",
       "      <th>B</th>\n",
       "      <th>C</th>\n",
       "      <th>D</th>\n",
       "      <th>E</th>\n",
       "      <th>E prime</th>\n",
       "      <th>cosine</th>\n",
       "    </tr>\n",
       "  </thead>\n",
       "  <tbody>\n",
       "    <tr>\n",
       "      <th>2021-11-22 12:45:00</th>\n",
       "      <td>0.000000</td>\n",
<<<<<<< HEAD
       "      <td>-0.849147</td>\n",
       "      <td>-0.078706</td>\n",
=======
       "      <td>0.888653</td>\n",
       "      <td>0.190292</td>\n",
>>>>>>> main
       "      <td>5</td>\n",
       "      <td>0.0</td>\n",
       "      <td>0</td>\n",
       "      <td>1.000000</td>\n",
       "    </tr>\n",
       "    <tr>\n",
       "      <th>2021-11-22 17:45:00</th>\n",
<<<<<<< HEAD
       "      <td>-1.180860</td>\n",
       "      <td>0.657816</td>\n",
       "      <td>0.584254</td>\n",
=======
       "      <td>-0.502289</td>\n",
       "      <td>-1.540699</td>\n",
       "      <td>0.597723</td>\n",
>>>>>>> main
       "      <td>5</td>\n",
       "      <td>2.5</td>\n",
       "      <td>10</td>\n",
       "      <td>0.999048</td>\n",
       "    </tr>\n",
       "    <tr>\n",
       "      <th>2021-11-22 18:45:00</th>\n",
<<<<<<< HEAD
       "      <td>-0.418599</td>\n",
       "      <td>-1.268032</td>\n",
       "      <td>-0.864764</td>\n",
=======
       "      <td>1.027537</td>\n",
       "      <td>-1.167869</td>\n",
       "      <td>1.067255</td>\n",
>>>>>>> main
       "      <td>5</td>\n",
       "      <td>3.0</td>\n",
       "      <td>12</td>\n",
       "      <td>0.998630</td>\n",
       "    </tr>\n",
       "    <tr>\n",
       "      <th>2021-11-22 19:45:00</th>\n",
<<<<<<< HEAD
       "      <td>0.075597</td>\n",
       "      <td>0.405518</td>\n",
       "      <td>-0.427705</td>\n",
=======
       "      <td>0.818057</td>\n",
       "      <td>0.269213</td>\n",
       "      <td>0.314521</td>\n",
>>>>>>> main
       "      <td>5</td>\n",
       "      <td>3.5</td>\n",
       "      <td>14</td>\n",
       "      <td>0.998135</td>\n",
       "    </tr>\n",
       "    <tr>\n",
       "      <th>2021-11-22 20:45:00</th>\n",
<<<<<<< HEAD
       "      <td>0.808515</td>\n",
       "      <td>0.324969</td>\n",
       "      <td>-0.987045</td>\n",
=======
       "      <td>0.786582</td>\n",
       "      <td>0.535676</td>\n",
       "      <td>-1.284995</td>\n",
>>>>>>> main
       "      <td>5</td>\n",
       "      <td>4.0</td>\n",
       "      <td>16</td>\n",
       "      <td>0.997564</td>\n",
       "    </tr>\n",
       "    <tr>\n",
       "      <th>2021-11-22 21:45:00</th>\n",
<<<<<<< HEAD
       "      <td>0.382066</td>\n",
       "      <td>-1.237824</td>\n",
       "      <td>0.401625</td>\n",
=======
       "      <td>-0.444392</td>\n",
       "      <td>1.156596</td>\n",
       "      <td>-1.391161</td>\n",
>>>>>>> main
       "      <td>5</td>\n",
       "      <td>4.5</td>\n",
       "      <td>18</td>\n",
       "      <td>0.996917</td>\n",
       "    </tr>\n",
       "  </tbody>\n",
       "</table>\n",
       "</div>"
      ],
      "text/plain": [
       "                            A         B         C  D    E  E prime    cosine\n",
<<<<<<< HEAD
       "2021-11-22 12:45:00  0.000000 -0.849147 -0.078706  5  0.0        0  1.000000\n",
       "2021-11-22 17:45:00 -1.180860  0.657816  0.584254  5  2.5       10  0.999048\n",
       "2021-11-22 18:45:00 -0.418599 -1.268032 -0.864764  5  3.0       12  0.998630\n",
       "2021-11-22 19:45:00  0.075597  0.405518 -0.427705  5  3.5       14  0.998135\n",
       "2021-11-22 20:45:00  0.808515  0.324969 -0.987045  5  4.0       16  0.997564\n",
       "2021-11-22 21:45:00  0.382066 -1.237824  0.401625  5  4.5       18  0.996917"
      ]
     },
     "execution_count": 38,
=======
       "2021-11-22 12:45:00  0.000000  0.888653  0.190292  5  0.0        0  1.000000\n",
       "2021-11-22 17:45:00 -0.502289 -1.540699  0.597723  5  2.5       10  0.999048\n",
       "2021-11-22 18:45:00  1.027537 -1.167869  1.067255  5  3.0       12  0.998630\n",
       "2021-11-22 19:45:00  0.818057  0.269213  0.314521  5  3.5       14  0.998135\n",
       "2021-11-22 20:45:00  0.786582  0.535676 -1.284995  5  4.0       16  0.997564\n",
       "2021-11-22 21:45:00 -0.444392  1.156596 -1.391161  5  4.5       18  0.996917"
      ]
     },
     "execution_count": 42,
>>>>>>> main
     "metadata": {},
     "output_type": "execute_result"
    }
   ],
   "source": [
    "# Dropping by rows\n",
    "# safe and always working\n",
    "df.drop(df.index[[1,2,3,4]])"
   ]
  },
  {
   "cell_type": "code",
<<<<<<< HEAD
   "execution_count": 39,
=======
   "execution_count": 43,
>>>>>>> main
   "metadata": {},
   "outputs": [
    {
     "data": {
      "text/html": [
       "<div>\n",
       "<style scoped>\n",
       "    .dataframe tbody tr th:only-of-type {\n",
       "        vertical-align: middle;\n",
       "    }\n",
       "\n",
       "    .dataframe tbody tr th {\n",
       "        vertical-align: top;\n",
       "    }\n",
       "\n",
       "    .dataframe thead th {\n",
       "        text-align: right;\n",
       "    }\n",
       "</style>\n",
       "<table border=\"1\" class=\"dataframe\">\n",
       "  <thead>\n",
       "    <tr style=\"text-align: right;\">\n",
       "      <th></th>\n",
       "      <th>A</th>\n",
       "      <th>B</th>\n",
       "      <th>C</th>\n",
       "      <th>D</th>\n",
       "      <th>E</th>\n",
       "      <th>E prime</th>\n",
       "      <th>cosine</th>\n",
       "    </tr>\n",
       "  </thead>\n",
       "  <tbody>\n",
       "    <tr>\n",
       "      <th>2021-11-22 12:45:00</th>\n",
       "      <td>0.000000</td>\n",
<<<<<<< HEAD
       "      <td>-0.849147</td>\n",
       "      <td>-0.078706</td>\n",
=======
       "      <td>0.888653</td>\n",
       "      <td>0.190292</td>\n",
>>>>>>> main
       "      <td>5</td>\n",
       "      <td>0.0</td>\n",
       "      <td>0</td>\n",
       "      <td>1.000000</td>\n",
       "    </tr>\n",
       "    <tr>\n",
       "      <th>2021-11-22 13:45:00</th>\n",
<<<<<<< HEAD
       "      <td>-0.631933</td>\n",
       "      <td>-1.298313</td>\n",
       "      <td>-0.034452</td>\n",
=======
       "      <td>-0.681071</td>\n",
       "      <td>0.713753</td>\n",
       "      <td>-0.105593</td>\n",
>>>>>>> main
       "      <td>5</td>\n",
       "      <td>0.5</td>\n",
       "      <td>2</td>\n",
       "      <td>0.999962</td>\n",
       "    </tr>\n",
       "    <tr>\n",
       "      <th>2021-11-22 14:45:00</th>\n",
<<<<<<< HEAD
       "      <td>-0.692474</td>\n",
       "      <td>-0.997107</td>\n",
       "      <td>-0.875579</td>\n",
=======
       "      <td>0.081801</td>\n",
       "      <td>-0.161070</td>\n",
       "      <td>0.490220</td>\n",
>>>>>>> main
       "      <td>5</td>\n",
       "      <td>1.0</td>\n",
       "      <td>4</td>\n",
       "      <td>0.999848</td>\n",
       "    </tr>\n",
       "    <tr>\n",
       "      <th>2021-11-22 15:45:00</th>\n",
<<<<<<< HEAD
       "      <td>-1.646534</td>\n",
       "      <td>-0.377956</td>\n",
       "      <td>-1.269053</td>\n",
=======
       "      <td>-1.566905</td>\n",
       "      <td>-0.023480</td>\n",
       "      <td>-0.209717</td>\n",
>>>>>>> main
       "      <td>5</td>\n",
       "      <td>1.5</td>\n",
       "      <td>6</td>\n",
       "      <td>0.999657</td>\n",
       "    </tr>\n",
       "    <tr>\n",
       "      <th>2021-11-22 16:45:00</th>\n",
<<<<<<< HEAD
       "      <td>1.793438</td>\n",
       "      <td>-0.812404</td>\n",
       "      <td>0.962738</td>\n",
=======
       "      <td>-0.993451</td>\n",
       "      <td>0.660596</td>\n",
       "      <td>-0.640795</td>\n",
>>>>>>> main
       "      <td>5</td>\n",
       "      <td>2.0</td>\n",
       "      <td>8</td>\n",
       "      <td>0.999391</td>\n",
       "    </tr>\n",
       "    <tr>\n",
       "      <th>2021-11-22 17:45:00</th>\n",
<<<<<<< HEAD
       "      <td>-1.180860</td>\n",
       "      <td>0.657816</td>\n",
       "      <td>0.584254</td>\n",
=======
       "      <td>-0.502289</td>\n",
       "      <td>-1.540699</td>\n",
       "      <td>0.597723</td>\n",
>>>>>>> main
       "      <td>5</td>\n",
       "      <td>2.5</td>\n",
       "      <td>10</td>\n",
       "      <td>0.999048</td>\n",
       "    </tr>\n",
       "    <tr>\n",
       "      <th>2021-11-22 18:45:00</th>\n",
<<<<<<< HEAD
       "      <td>-0.418599</td>\n",
       "      <td>-1.268032</td>\n",
       "      <td>-0.864764</td>\n",
=======
       "      <td>1.027537</td>\n",
       "      <td>-1.167869</td>\n",
       "      <td>1.067255</td>\n",
>>>>>>> main
       "      <td>5</td>\n",
       "      <td>3.0</td>\n",
       "      <td>12</td>\n",
       "      <td>0.998630</td>\n",
       "    </tr>\n",
       "    <tr>\n",
       "      <th>2021-11-22 19:45:00</th>\n",
<<<<<<< HEAD
       "      <td>0.075597</td>\n",
       "      <td>0.405518</td>\n",
       "      <td>-0.427705</td>\n",
=======
       "      <td>0.818057</td>\n",
       "      <td>0.269213</td>\n",
       "      <td>0.314521</td>\n",
>>>>>>> main
       "      <td>5</td>\n",
       "      <td>3.5</td>\n",
       "      <td>14</td>\n",
       "      <td>0.998135</td>\n",
       "    </tr>\n",
       "    <tr>\n",
       "      <th>2021-11-22 20:45:00</th>\n",
<<<<<<< HEAD
       "      <td>0.808515</td>\n",
       "      <td>0.324969</td>\n",
       "      <td>-0.987045</td>\n",
=======
       "      <td>0.786582</td>\n",
       "      <td>0.535676</td>\n",
       "      <td>-1.284995</td>\n",
>>>>>>> main
       "      <td>5</td>\n",
       "      <td>4.0</td>\n",
       "      <td>16</td>\n",
       "      <td>0.997564</td>\n",
       "    </tr>\n",
       "    <tr>\n",
       "      <th>2021-11-22 21:45:00</th>\n",
<<<<<<< HEAD
       "      <td>0.382066</td>\n",
       "      <td>-1.237824</td>\n",
       "      <td>0.401625</td>\n",
=======
       "      <td>-0.444392</td>\n",
       "      <td>1.156596</td>\n",
       "      <td>-1.391161</td>\n",
>>>>>>> main
       "      <td>5</td>\n",
       "      <td>4.5</td>\n",
       "      <td>18</td>\n",
       "      <td>0.996917</td>\n",
       "    </tr>\n",
       "  </tbody>\n",
       "</table>\n",
       "</div>"
      ],
      "text/plain": [
       "                            A         B         C  D    E  E prime    cosine\n",
<<<<<<< HEAD
       "2021-11-22 12:45:00  0.000000 -0.849147 -0.078706  5  0.0        0  1.000000\n",
       "2021-11-22 13:45:00 -0.631933 -1.298313 -0.034452  5  0.5        2  0.999962\n",
       "2021-11-22 14:45:00 -0.692474 -0.997107 -0.875579  5  1.0        4  0.999848\n",
       "2021-11-22 15:45:00 -1.646534 -0.377956 -1.269053  5  1.5        6  0.999657\n",
       "2021-11-22 16:45:00  1.793438 -0.812404  0.962738  5  2.0        8  0.999391\n",
       "2021-11-22 17:45:00 -1.180860  0.657816  0.584254  5  2.5       10  0.999048\n",
       "2021-11-22 18:45:00 -0.418599 -1.268032 -0.864764  5  3.0       12  0.998630\n",
       "2021-11-22 19:45:00  0.075597  0.405518 -0.427705  5  3.5       14  0.998135\n",
       "2021-11-22 20:45:00  0.808515  0.324969 -0.987045  5  4.0       16  0.997564\n",
       "2021-11-22 21:45:00  0.382066 -1.237824  0.401625  5  4.5       18  0.996917"
      ]
     },
     "execution_count": 39,
=======
       "2021-11-22 12:45:00  0.000000  0.888653  0.190292  5  0.0        0  1.000000\n",
       "2021-11-22 13:45:00 -0.681071  0.713753 -0.105593  5  0.5        2  0.999962\n",
       "2021-11-22 14:45:00  0.081801 -0.161070  0.490220  5  1.0        4  0.999848\n",
       "2021-11-22 15:45:00 -1.566905 -0.023480 -0.209717  5  1.5        6  0.999657\n",
       "2021-11-22 16:45:00 -0.993451  0.660596 -0.640795  5  2.0        8  0.999391\n",
       "2021-11-22 17:45:00 -0.502289 -1.540699  0.597723  5  2.5       10  0.999048\n",
       "2021-11-22 18:45:00  1.027537 -1.167869  1.067255  5  3.0       12  0.998630\n",
       "2021-11-22 19:45:00  0.818057  0.269213  0.314521  5  3.5       14  0.998135\n",
       "2021-11-22 20:45:00  0.786582  0.535676 -1.284995  5  4.0       16  0.997564\n",
       "2021-11-22 21:45:00 -0.444392  1.156596 -1.391161  5  4.5       18  0.996917"
      ]
     },
     "execution_count": 43,
>>>>>>> main
     "metadata": {},
     "output_type": "execute_result"
    }
   ],
   "source": [
    "df"
   ]
  },
  {
   "cell_type": "code",
<<<<<<< HEAD
   "execution_count": 40,
=======
   "execution_count": 44,
>>>>>>> main
   "metadata": {},
   "outputs": [
    {
     "data": {
      "text/html": [
       "<div>\n",
       "<style scoped>\n",
       "    .dataframe tbody tr th:only-of-type {\n",
       "        vertical-align: middle;\n",
       "    }\n",
       "\n",
       "    .dataframe tbody tr th {\n",
       "        vertical-align: top;\n",
       "    }\n",
       "\n",
       "    .dataframe thead th {\n",
       "        text-align: right;\n",
       "    }\n",
       "</style>\n",
       "<table border=\"1\" class=\"dataframe\">\n",
       "  <thead>\n",
       "    <tr style=\"text-align: right;\">\n",
       "      <th></th>\n",
       "      <th>A</th>\n",
       "      <th>B</th>\n",
       "      <th>C</th>\n",
       "      <th>D</th>\n",
       "      <th>E</th>\n",
       "      <th>E prime</th>\n",
       "      <th>cosine</th>\n",
       "    </tr>\n",
       "  </thead>\n",
       "  <tbody>\n",
       "    <tr>\n",
       "      <th>2021-11-22 12:45:00</th>\n",
       "      <td>0.000000</td>\n",
<<<<<<< HEAD
       "      <td>-0.849147</td>\n",
       "      <td>-0.078706</td>\n",
=======
       "      <td>0.888653</td>\n",
       "      <td>0.190292</td>\n",
>>>>>>> main
       "      <td>5</td>\n",
       "      <td>0.0</td>\n",
       "      <td>0</td>\n",
       "      <td>1.000000</td>\n",
       "    </tr>\n",
       "    <tr>\n",
       "      <th>2021-11-22 13:45:00</th>\n",
<<<<<<< HEAD
       "      <td>-0.631933</td>\n",
       "      <td>-1.298313</td>\n",
       "      <td>-0.034452</td>\n",
=======
       "      <td>-0.681071</td>\n",
       "      <td>0.713753</td>\n",
       "      <td>-0.105593</td>\n",
>>>>>>> main
       "      <td>5</td>\n",
       "      <td>0.5</td>\n",
       "      <td>2</td>\n",
       "      <td>0.999962</td>\n",
       "    </tr>\n",
       "    <tr>\n",
       "      <th>2021-11-22 14:45:00</th>\n",
<<<<<<< HEAD
       "      <td>-0.692474</td>\n",
       "      <td>-0.997107</td>\n",
       "      <td>-0.875579</td>\n",
=======
       "      <td>0.081801</td>\n",
       "      <td>-0.161070</td>\n",
       "      <td>0.490220</td>\n",
>>>>>>> main
       "      <td>5</td>\n",
       "      <td>1.0</td>\n",
       "      <td>4</td>\n",
       "      <td>0.999848</td>\n",
       "    </tr>\n",
       "    <tr>\n",
       "      <th>2021-11-22 15:45:00</th>\n",
<<<<<<< HEAD
       "      <td>-1.646534</td>\n",
       "      <td>-0.377956</td>\n",
       "      <td>-1.269053</td>\n",
=======
       "      <td>-1.566905</td>\n",
       "      <td>-0.023480</td>\n",
       "      <td>-0.209717</td>\n",
>>>>>>> main
       "      <td>5</td>\n",
       "      <td>1.5</td>\n",
       "      <td>6</td>\n",
       "      <td>0.999657</td>\n",
       "    </tr>\n",
       "    <tr>\n",
       "      <th>2021-11-22 16:45:00</th>\n",
<<<<<<< HEAD
       "      <td>1.793438</td>\n",
       "      <td>-0.812404</td>\n",
       "      <td>0.962738</td>\n",
=======
       "      <td>-0.993451</td>\n",
       "      <td>0.660596</td>\n",
       "      <td>-0.640795</td>\n",
>>>>>>> main
       "      <td>5</td>\n",
       "      <td>2.0</td>\n",
       "      <td>8</td>\n",
       "      <td>0.999391</td>\n",
       "    </tr>\n",
       "    <tr>\n",
       "      <th>2021-11-22 17:45:00</th>\n",
<<<<<<< HEAD
       "      <td>-1.180860</td>\n",
       "      <td>0.657816</td>\n",
       "      <td>0.584254</td>\n",
=======
       "      <td>-0.502289</td>\n",
       "      <td>-1.540699</td>\n",
       "      <td>0.597723</td>\n",
>>>>>>> main
       "      <td>5</td>\n",
       "      <td>2.5</td>\n",
       "      <td>10</td>\n",
       "      <td>0.999048</td>\n",
       "    </tr>\n",
       "    <tr>\n",
       "      <th>2021-11-22 18:45:00</th>\n",
<<<<<<< HEAD
       "      <td>-0.418599</td>\n",
       "      <td>-1.268032</td>\n",
       "      <td>-0.864764</td>\n",
=======
       "      <td>1.027537</td>\n",
       "      <td>-1.167869</td>\n",
       "      <td>1.067255</td>\n",
>>>>>>> main
       "      <td>5</td>\n",
       "      <td>3.0</td>\n",
       "      <td>12</td>\n",
       "      <td>0.998630</td>\n",
       "    </tr>\n",
       "    <tr>\n",
       "      <th>2021-11-22 19:45:00</th>\n",
<<<<<<< HEAD
       "      <td>0.075597</td>\n",
       "      <td>0.405518</td>\n",
       "      <td>-0.427705</td>\n",
=======
       "      <td>0.818057</td>\n",
       "      <td>0.269213</td>\n",
       "      <td>0.314521</td>\n",
>>>>>>> main
       "      <td>5</td>\n",
       "      <td>3.5</td>\n",
       "      <td>14</td>\n",
       "      <td>0.998135</td>\n",
       "    </tr>\n",
       "    <tr>\n",
       "      <th>2021-11-22 21:45:00</th>\n",
<<<<<<< HEAD
       "      <td>0.382066</td>\n",
       "      <td>-1.237824</td>\n",
       "      <td>0.401625</td>\n",
=======
       "      <td>-0.444392</td>\n",
       "      <td>1.156596</td>\n",
       "      <td>-1.391161</td>\n",
>>>>>>> main
       "      <td>5</td>\n",
       "      <td>4.5</td>\n",
       "      <td>18</td>\n",
       "      <td>0.996917</td>\n",
       "    </tr>\n",
       "  </tbody>\n",
       "</table>\n",
       "</div>"
      ],
      "text/plain": [
       "                            A         B         C  D    E  E prime    cosine\n",
<<<<<<< HEAD
       "2021-11-22 12:45:00  0.000000 -0.849147 -0.078706  5  0.0        0  1.000000\n",
       "2021-11-22 13:45:00 -0.631933 -1.298313 -0.034452  5  0.5        2  0.999962\n",
       "2021-11-22 14:45:00 -0.692474 -0.997107 -0.875579  5  1.0        4  0.999848\n",
       "2021-11-22 15:45:00 -1.646534 -0.377956 -1.269053  5  1.5        6  0.999657\n",
       "2021-11-22 16:45:00  1.793438 -0.812404  0.962738  5  2.0        8  0.999391\n",
       "2021-11-22 17:45:00 -1.180860  0.657816  0.584254  5  2.5       10  0.999048\n",
       "2021-11-22 18:45:00 -0.418599 -1.268032 -0.864764  5  3.0       12  0.998630\n",
       "2021-11-22 19:45:00  0.075597  0.405518 -0.427705  5  3.5       14  0.998135\n",
       "2021-11-22 21:45:00  0.382066 -1.237824  0.401625  5  4.5       18  0.996917"
      ]
     },
     "execution_count": 40,
=======
       "2021-11-22 12:45:00  0.000000  0.888653  0.190292  5  0.0        0  1.000000\n",
       "2021-11-22 13:45:00 -0.681071  0.713753 -0.105593  5  0.5        2  0.999962\n",
       "2021-11-22 14:45:00  0.081801 -0.161070  0.490220  5  1.0        4  0.999848\n",
       "2021-11-22 15:45:00 -1.566905 -0.023480 -0.209717  5  1.5        6  0.999657\n",
       "2021-11-22 16:45:00 -0.993451  0.660596 -0.640795  5  2.0        8  0.999391\n",
       "2021-11-22 17:45:00 -0.502289 -1.540699  0.597723  5  2.5       10  0.999048\n",
       "2021-11-22 18:45:00  1.027537 -1.167869  1.067255  5  3.0       12  0.998630\n",
       "2021-11-22 19:45:00  0.818057  0.269213  0.314521  5  3.5       14  0.998135\n",
       "2021-11-22 21:45:00 -0.444392  1.156596 -1.391161  5  4.5       18  0.996917"
      ]
     },
     "execution_count": 44,
>>>>>>> main
     "metadata": {},
     "output_type": "execute_result"
    }
   ],
   "source": [
    "# something like df.drop('index_name') \n",
    "# would work but the type of index must be specificed, \n",
    "# in particular with DatetimeIndex\n",
    "df.drop(pd.to_datetime(\"2021-11-22 20:45:00\"))"
   ]
  },
  {
   "cell_type": "markdown",
   "metadata": {},
   "source": [
    "## Missing data\n",
    "\n",
    "pandas primarily uses the value np.nan to represent missing data. It is by default not included in computations."
   ]
  },
  {
   "cell_type": "code",
<<<<<<< HEAD
   "execution_count": 41,
=======
   "execution_count": 45,
>>>>>>> main
   "metadata": {},
   "outputs": [
    {
     "data": {
      "text/html": [
       "<div>\n",
       "<style scoped>\n",
       "    .dataframe tbody tr th:only-of-type {\n",
       "        vertical-align: middle;\n",
       "    }\n",
       "\n",
       "    .dataframe tbody tr th {\n",
       "        vertical-align: top;\n",
       "    }\n",
       "\n",
       "    .dataframe thead th {\n",
       "        text-align: right;\n",
       "    }\n",
       "</style>\n",
       "<table border=\"1\" class=\"dataframe\">\n",
       "  <thead>\n",
       "    <tr style=\"text-align: right;\">\n",
       "      <th></th>\n",
       "      <th>A</th>\n",
       "      <th>B</th>\n",
       "      <th>C</th>\n",
       "      <th>D</th>\n",
       "      <th>E</th>\n",
       "      <th>E prime</th>\n",
       "      <th>cosine</th>\n",
       "    </tr>\n",
       "  </thead>\n",
       "  <tbody>\n",
       "    <tr>\n",
       "      <th>2021-11-22 12:45:00</th>\n",
       "      <td>NaN</td>\n",
<<<<<<< HEAD
       "      <td>NaN</td>\n",
       "      <td>NaN</td>\n",
=======
       "      <td>0.888653</td>\n",
       "      <td>0.190292</td>\n",
>>>>>>> main
       "      <td>5</td>\n",
       "      <td>NaN</td>\n",
       "      <td>NaN</td>\n",
       "      <td>1.000000</td>\n",
       "    </tr>\n",
       "    <tr>\n",
       "      <th>2021-11-22 13:45:00</th>\n",
       "      <td>NaN</td>\n",
<<<<<<< HEAD
       "      <td>NaN</td>\n",
=======
       "      <td>0.713753</td>\n",
>>>>>>> main
       "      <td>NaN</td>\n",
       "      <td>5</td>\n",
       "      <td>0.5</td>\n",
       "      <td>2.0</td>\n",
       "      <td>0.999962</td>\n",
       "    </tr>\n",
       "    <tr>\n",
       "      <th>2021-11-22 14:45:00</th>\n",
<<<<<<< HEAD
       "      <td>NaN</td>\n",
       "      <td>NaN</td>\n",
       "      <td>NaN</td>\n",
=======
       "      <td>0.081801</td>\n",
       "      <td>NaN</td>\n",
       "      <td>0.490220</td>\n",
>>>>>>> main
       "      <td>5</td>\n",
       "      <td>1.0</td>\n",
       "      <td>4.0</td>\n",
       "      <td>0.999848</td>\n",
       "    </tr>\n",
       "    <tr>\n",
       "      <th>2021-11-22 15:45:00</th>\n",
       "      <td>NaN</td>\n",
       "      <td>NaN</td>\n",
       "      <td>NaN</td>\n",
       "      <td>5</td>\n",
       "      <td>1.5</td>\n",
       "      <td>6.0</td>\n",
       "      <td>0.999657</td>\n",
       "    </tr>\n",
       "    <tr>\n",
       "      <th>2021-11-22 16:45:00</th>\n",
<<<<<<< HEAD
       "      <td>1.793438</td>\n",
       "      <td>NaN</td>\n",
       "      <td>0.962738</td>\n",
=======
       "      <td>NaN</td>\n",
       "      <td>0.660596</td>\n",
       "      <td>NaN</td>\n",
>>>>>>> main
       "      <td>5</td>\n",
       "      <td>2.0</td>\n",
       "      <td>8.0</td>\n",
       "      <td>0.999391</td>\n",
       "    </tr>\n",
       "    <tr>\n",
       "      <th>2021-11-22 17:45:00</th>\n",
       "      <td>NaN</td>\n",
<<<<<<< HEAD
       "      <td>0.657816</td>\n",
       "      <td>0.584254</td>\n",
=======
       "      <td>NaN</td>\n",
       "      <td>0.597723</td>\n",
>>>>>>> main
       "      <td>5</td>\n",
       "      <td>2.5</td>\n",
       "      <td>10.0</td>\n",
       "      <td>0.999048</td>\n",
       "    </tr>\n",
       "    <tr>\n",
       "      <th>2021-11-22 18:45:00</th>\n",
<<<<<<< HEAD
       "      <td>NaN</td>\n",
       "      <td>NaN</td>\n",
       "      <td>NaN</td>\n",
=======
       "      <td>1.027537</td>\n",
       "      <td>NaN</td>\n",
       "      <td>1.067255</td>\n",
>>>>>>> main
       "      <td>5</td>\n",
       "      <td>3.0</td>\n",
       "      <td>12.0</td>\n",
       "      <td>0.998630</td>\n",
       "    </tr>\n",
       "    <tr>\n",
       "      <th>2021-11-22 19:45:00</th>\n",
<<<<<<< HEAD
       "      <td>0.075597</td>\n",
       "      <td>0.405518</td>\n",
       "      <td>NaN</td>\n",
=======
       "      <td>0.818057</td>\n",
       "      <td>0.269213</td>\n",
       "      <td>0.314521</td>\n",
>>>>>>> main
       "      <td>5</td>\n",
       "      <td>3.5</td>\n",
       "      <td>14.0</td>\n",
       "      <td>0.998135</td>\n",
       "    </tr>\n",
       "    <tr>\n",
       "      <th>2021-11-22 20:45:00</th>\n",
<<<<<<< HEAD
       "      <td>0.808515</td>\n",
       "      <td>0.324969</td>\n",
=======
       "      <td>0.786582</td>\n",
       "      <td>0.535676</td>\n",
>>>>>>> main
       "      <td>NaN</td>\n",
       "      <td>5</td>\n",
       "      <td>4.0</td>\n",
       "      <td>16.0</td>\n",
       "      <td>0.997564</td>\n",
       "    </tr>\n",
       "    <tr>\n",
       "      <th>2021-11-22 21:45:00</th>\n",
<<<<<<< HEAD
       "      <td>0.382066</td>\n",
       "      <td>NaN</td>\n",
       "      <td>0.401625</td>\n",
=======
       "      <td>NaN</td>\n",
       "      <td>1.156596</td>\n",
       "      <td>NaN</td>\n",
>>>>>>> main
       "      <td>5</td>\n",
       "      <td>4.5</td>\n",
       "      <td>18.0</td>\n",
       "      <td>0.996917</td>\n",
       "    </tr>\n",
       "  </tbody>\n",
       "</table>\n",
       "</div>"
      ],
      "text/plain": [
       "                            A         B         C  D    E  E prime    cosine\n",
<<<<<<< HEAD
       "2021-11-22 12:45:00       NaN       NaN       NaN  5  NaN      NaN  1.000000\n",
       "2021-11-22 13:45:00       NaN       NaN       NaN  5  0.5      2.0  0.999962\n",
       "2021-11-22 14:45:00       NaN       NaN       NaN  5  1.0      4.0  0.999848\n",
       "2021-11-22 15:45:00       NaN       NaN       NaN  5  1.5      6.0  0.999657\n",
       "2021-11-22 16:45:00  1.793438       NaN  0.962738  5  2.0      8.0  0.999391\n",
       "2021-11-22 17:45:00       NaN  0.657816  0.584254  5  2.5     10.0  0.999048\n",
       "2021-11-22 18:45:00       NaN       NaN       NaN  5  3.0     12.0  0.998630\n",
       "2021-11-22 19:45:00  0.075597  0.405518       NaN  5  3.5     14.0  0.998135\n",
       "2021-11-22 20:45:00  0.808515  0.324969       NaN  5  4.0     16.0  0.997564\n",
       "2021-11-22 21:45:00  0.382066       NaN  0.401625  5  4.5     18.0  0.996917"
      ]
     },
     "execution_count": 41,
=======
       "2021-11-22 12:45:00       NaN  0.888653  0.190292  5  NaN      NaN  1.000000\n",
       "2021-11-22 13:45:00       NaN  0.713753       NaN  5  0.5      2.0  0.999962\n",
       "2021-11-22 14:45:00  0.081801       NaN  0.490220  5  1.0      4.0  0.999848\n",
       "2021-11-22 15:45:00       NaN       NaN       NaN  5  1.5      6.0  0.999657\n",
       "2021-11-22 16:45:00       NaN  0.660596       NaN  5  2.0      8.0  0.999391\n",
       "2021-11-22 17:45:00       NaN       NaN  0.597723  5  2.5     10.0  0.999048\n",
       "2021-11-22 18:45:00  1.027537       NaN  1.067255  5  3.0     12.0  0.998630\n",
       "2021-11-22 19:45:00  0.818057  0.269213  0.314521  5  3.5     14.0  0.998135\n",
       "2021-11-22 20:45:00  0.786582  0.535676       NaN  5  4.0     16.0  0.997564\n",
       "2021-11-22 21:45:00       NaN  1.156596       NaN  5  4.5     18.0  0.996917"
      ]
     },
     "execution_count": 45,
>>>>>>> main
     "metadata": {},
     "output_type": "execute_result"
    }
   ],
   "source": [
    "df_wNan = df[df>0]\n",
    "df_wNan"
   ]
  },
  {
   "cell_type": "code",
<<<<<<< HEAD
   "execution_count": 42,
=======
   "execution_count": 46,
>>>>>>> main
   "metadata": {},
   "outputs": [
    {
     "data": {
      "text/html": [
       "<div>\n",
       "<style scoped>\n",
       "    .dataframe tbody tr th:only-of-type {\n",
       "        vertical-align: middle;\n",
       "    }\n",
       "\n",
       "    .dataframe tbody tr th {\n",
       "        vertical-align: top;\n",
       "    }\n",
       "\n",
       "    .dataframe thead th {\n",
       "        text-align: right;\n",
       "    }\n",
       "</style>\n",
       "<table border=\"1\" class=\"dataframe\">\n",
       "  <thead>\n",
       "    <tr style=\"text-align: right;\">\n",
       "      <th></th>\n",
       "      <th>A</th>\n",
       "      <th>B</th>\n",
       "      <th>C</th>\n",
       "      <th>D</th>\n",
       "      <th>E</th>\n",
       "      <th>E prime</th>\n",
       "      <th>cosine</th>\n",
       "    </tr>\n",
       "  </thead>\n",
       "  <tbody>\n",
<<<<<<< HEAD
=======
       "    <tr>\n",
       "      <th>2021-11-22 19:45:00</th>\n",
       "      <td>0.818057</td>\n",
       "      <td>0.269213</td>\n",
       "      <td>0.314521</td>\n",
       "      <td>5</td>\n",
       "      <td>3.5</td>\n",
       "      <td>14.0</td>\n",
       "      <td>0.998135</td>\n",
       "    </tr>\n",
>>>>>>> main
       "  </tbody>\n",
       "</table>\n",
       "</div>"
      ],
      "text/plain": [
<<<<<<< HEAD
       "Empty DataFrame\n",
       "Columns: [A, B, C, D, E, E prime, cosine]\n",
       "Index: []"
      ]
     },
     "execution_count": 42,
=======
       "                            A         B         C  D    E  E prime    cosine\n",
       "2021-11-22 19:45:00  0.818057  0.269213  0.314521  5  3.5     14.0  0.998135"
      ]
     },
     "execution_count": 46,
>>>>>>> main
     "metadata": {},
     "output_type": "execute_result"
    }
   ],
   "source": [
    "# dropping raws with at least a Nan\n",
    "df_wNan.dropna(how='any')"
   ]
  },
  {
   "cell_type": "code",
<<<<<<< HEAD
   "execution_count": 43,
=======
   "execution_count": 47,
>>>>>>> main
   "metadata": {},
   "outputs": [
    {
     "data": {
      "text/html": [
       "<div>\n",
       "<style scoped>\n",
       "    .dataframe tbody tr th:only-of-type {\n",
       "        vertical-align: middle;\n",
       "    }\n",
       "\n",
       "    .dataframe tbody tr th {\n",
       "        vertical-align: top;\n",
       "    }\n",
       "\n",
       "    .dataframe thead th {\n",
       "        text-align: right;\n",
       "    }\n",
       "</style>\n",
       "<table border=\"1\" class=\"dataframe\">\n",
       "  <thead>\n",
       "    <tr style=\"text-align: right;\">\n",
       "      <th></th>\n",
       "      <th>A</th>\n",
       "      <th>B</th>\n",
       "      <th>C</th>\n",
       "      <th>D</th>\n",
       "      <th>E</th>\n",
       "      <th>E prime</th>\n",
       "      <th>cosine</th>\n",
       "    </tr>\n",
       "  </thead>\n",
       "  <tbody>\n",
       "    <tr>\n",
       "      <th>2021-11-22 12:45:00</th>\n",
       "      <td>True</td>\n",
<<<<<<< HEAD
       "      <td>True</td>\n",
       "      <td>True</td>\n",
=======
       "      <td>False</td>\n",
       "      <td>False</td>\n",
>>>>>>> main
       "      <td>False</td>\n",
       "      <td>True</td>\n",
       "      <td>True</td>\n",
       "      <td>False</td>\n",
       "    </tr>\n",
       "    <tr>\n",
       "      <th>2021-11-22 13:45:00</th>\n",
       "      <td>True</td>\n",
<<<<<<< HEAD
       "      <td>True</td>\n",
=======
       "      <td>False</td>\n",
>>>>>>> main
       "      <td>True</td>\n",
       "      <td>False</td>\n",
       "      <td>False</td>\n",
       "      <td>False</td>\n",
       "      <td>False</td>\n",
       "    </tr>\n",
       "    <tr>\n",
       "      <th>2021-11-22 14:45:00</th>\n",
<<<<<<< HEAD
       "      <td>True</td>\n",
       "      <td>True</td>\n",
=======
       "      <td>False</td>\n",
>>>>>>> main
       "      <td>True</td>\n",
       "      <td>False</td>\n",
       "      <td>False</td>\n",
       "      <td>False</td>\n",
       "      <td>False</td>\n",
<<<<<<< HEAD
=======
       "      <td>False</td>\n",
>>>>>>> main
       "    </tr>\n",
       "    <tr>\n",
       "      <th>2021-11-22 15:45:00</th>\n",
       "      <td>True</td>\n",
       "      <td>True</td>\n",
       "      <td>True</td>\n",
       "      <td>False</td>\n",
       "      <td>False</td>\n",
       "      <td>False</td>\n",
       "      <td>False</td>\n",
       "    </tr>\n",
       "    <tr>\n",
       "      <th>2021-11-22 16:45:00</th>\n",
<<<<<<< HEAD
       "      <td>False</td>\n",
       "      <td>True</td>\n",
       "      <td>False</td>\n",
=======
       "      <td>True</td>\n",
       "      <td>False</td>\n",
       "      <td>True</td>\n",
>>>>>>> main
       "      <td>False</td>\n",
       "      <td>False</td>\n",
       "      <td>False</td>\n",
       "      <td>False</td>\n",
       "    </tr>\n",
       "    <tr>\n",
       "      <th>2021-11-22 17:45:00</th>\n",
       "      <td>True</td>\n",
<<<<<<< HEAD
       "      <td>False</td>\n",
=======
       "      <td>True</td>\n",
>>>>>>> main
       "      <td>False</td>\n",
       "      <td>False</td>\n",
       "      <td>False</td>\n",
       "      <td>False</td>\n",
       "      <td>False</td>\n",
       "    </tr>\n",
       "    <tr>\n",
       "      <th>2021-11-22 18:45:00</th>\n",
<<<<<<< HEAD
       "      <td>True</td>\n",
       "      <td>True</td>\n",
=======
       "      <td>False</td>\n",
>>>>>>> main
       "      <td>True</td>\n",
       "      <td>False</td>\n",
       "      <td>False</td>\n",
       "      <td>False</td>\n",
       "      <td>False</td>\n",
<<<<<<< HEAD
=======
       "      <td>False</td>\n",
>>>>>>> main
       "    </tr>\n",
       "    <tr>\n",
       "      <th>2021-11-22 19:45:00</th>\n",
       "      <td>False</td>\n",
       "      <td>False</td>\n",
<<<<<<< HEAD
       "      <td>True</td>\n",
=======
       "      <td>False</td>\n",
>>>>>>> main
       "      <td>False</td>\n",
       "      <td>False</td>\n",
       "      <td>False</td>\n",
       "      <td>False</td>\n",
       "    </tr>\n",
       "    <tr>\n",
       "      <th>2021-11-22 20:45:00</th>\n",
       "      <td>False</td>\n",
       "      <td>False</td>\n",
       "      <td>True</td>\n",
       "      <td>False</td>\n",
       "      <td>False</td>\n",
       "      <td>False</td>\n",
       "      <td>False</td>\n",
       "    </tr>\n",
       "    <tr>\n",
       "      <th>2021-11-22 21:45:00</th>\n",
<<<<<<< HEAD
       "      <td>False</td>\n",
       "      <td>True</td>\n",
       "      <td>False</td>\n",
=======
       "      <td>True</td>\n",
       "      <td>False</td>\n",
       "      <td>True</td>\n",
>>>>>>> main
       "      <td>False</td>\n",
       "      <td>False</td>\n",
       "      <td>False</td>\n",
       "      <td>False</td>\n",
       "    </tr>\n",
       "  </tbody>\n",
       "</table>\n",
       "</div>"
      ],
      "text/plain": [
       "                         A      B      C      D      E  E prime  cosine\n",
<<<<<<< HEAD
       "2021-11-22 12:45:00   True   True   True  False   True     True   False\n",
       "2021-11-22 13:45:00   True   True   True  False  False    False   False\n",
       "2021-11-22 14:45:00   True   True   True  False  False    False   False\n",
       "2021-11-22 15:45:00   True   True   True  False  False    False   False\n",
       "2021-11-22 16:45:00  False   True  False  False  False    False   False\n",
       "2021-11-22 17:45:00   True  False  False  False  False    False   False\n",
       "2021-11-22 18:45:00   True   True   True  False  False    False   False\n",
       "2021-11-22 19:45:00  False  False   True  False  False    False   False\n",
       "2021-11-22 20:45:00  False  False   True  False  False    False   False\n",
       "2021-11-22 21:45:00  False   True  False  False  False    False   False"
      ]
     },
     "execution_count": 43,
=======
       "2021-11-22 12:45:00   True  False  False  False   True     True   False\n",
       "2021-11-22 13:45:00   True  False   True  False  False    False   False\n",
       "2021-11-22 14:45:00  False   True  False  False  False    False   False\n",
       "2021-11-22 15:45:00   True   True   True  False  False    False   False\n",
       "2021-11-22 16:45:00   True  False   True  False  False    False   False\n",
       "2021-11-22 17:45:00   True   True  False  False  False    False   False\n",
       "2021-11-22 18:45:00  False   True  False  False  False    False   False\n",
       "2021-11-22 19:45:00  False  False  False  False  False    False   False\n",
       "2021-11-22 20:45:00  False  False   True  False  False    False   False\n",
       "2021-11-22 21:45:00   True  False   True  False  False    False   False"
      ]
     },
     "execution_count": 47,
>>>>>>> main
     "metadata": {},
     "output_type": "execute_result"
    }
   ],
   "source": [
    "# getting a mask\n",
    "df_wNan.isna()\n",
    "#df_wNan.notna()"
   ]
  },
  {
   "cell_type": "code",
<<<<<<< HEAD
   "execution_count": 44,
=======
   "execution_count": 48,
>>>>>>> main
   "metadata": {},
   "outputs": [
    {
     "data": {
      "text/html": [
       "<div>\n",
       "<style scoped>\n",
       "    .dataframe tbody tr th:only-of-type {\n",
       "        vertical-align: middle;\n",
       "    }\n",
       "\n",
       "    .dataframe tbody tr th {\n",
       "        vertical-align: top;\n",
       "    }\n",
       "\n",
       "    .dataframe thead th {\n",
       "        text-align: right;\n",
       "    }\n",
       "</style>\n",
       "<table border=\"1\" class=\"dataframe\">\n",
       "  <thead>\n",
       "    <tr style=\"text-align: right;\">\n",
       "      <th></th>\n",
       "      <th>A</th>\n",
       "      <th>B</th>\n",
       "      <th>C</th>\n",
       "      <th>D</th>\n",
       "      <th>E</th>\n",
       "      <th>E prime</th>\n",
       "      <th>cosine</th>\n",
       "    </tr>\n",
       "  </thead>\n",
       "  <tbody>\n",
       "    <tr>\n",
       "      <th>2021-11-22 12:45:00</th>\n",
       "      <td>0.000000</td>\n",
<<<<<<< HEAD
       "      <td>0.000000</td>\n",
       "      <td>0.000000</td>\n",
=======
       "      <td>0.888653</td>\n",
       "      <td>0.190292</td>\n",
>>>>>>> main
       "      <td>5</td>\n",
       "      <td>0.0</td>\n",
       "      <td>0.0</td>\n",
       "      <td>1.000000</td>\n",
       "    </tr>\n",
       "    <tr>\n",
       "      <th>2021-11-22 13:45:00</th>\n",
       "      <td>0.000000</td>\n",
<<<<<<< HEAD
       "      <td>0.000000</td>\n",
=======
       "      <td>0.713753</td>\n",
>>>>>>> main
       "      <td>0.000000</td>\n",
       "      <td>5</td>\n",
       "      <td>0.5</td>\n",
       "      <td>2.0</td>\n",
       "      <td>0.999962</td>\n",
       "    </tr>\n",
       "    <tr>\n",
       "      <th>2021-11-22 14:45:00</th>\n",
<<<<<<< HEAD
       "      <td>0.000000</td>\n",
       "      <td>0.000000</td>\n",
       "      <td>0.000000</td>\n",
=======
       "      <td>0.081801</td>\n",
       "      <td>0.000000</td>\n",
       "      <td>0.490220</td>\n",
>>>>>>> main
       "      <td>5</td>\n",
       "      <td>1.0</td>\n",
       "      <td>4.0</td>\n",
       "      <td>0.999848</td>\n",
       "    </tr>\n",
       "    <tr>\n",
       "      <th>2021-11-22 15:45:00</th>\n",
       "      <td>0.000000</td>\n",
       "      <td>0.000000</td>\n",
       "      <td>0.000000</td>\n",
       "      <td>5</td>\n",
       "      <td>1.5</td>\n",
       "      <td>6.0</td>\n",
       "      <td>0.999657</td>\n",
       "    </tr>\n",
       "    <tr>\n",
       "      <th>2021-11-22 16:45:00</th>\n",
<<<<<<< HEAD
       "      <td>1.793438</td>\n",
       "      <td>0.000000</td>\n",
       "      <td>0.962738</td>\n",
=======
       "      <td>0.000000</td>\n",
       "      <td>0.660596</td>\n",
       "      <td>0.000000</td>\n",
>>>>>>> main
       "      <td>5</td>\n",
       "      <td>2.0</td>\n",
       "      <td>8.0</td>\n",
       "      <td>0.999391</td>\n",
       "    </tr>\n",
       "    <tr>\n",
       "      <th>2021-11-22 17:45:00</th>\n",
       "      <td>0.000000</td>\n",
<<<<<<< HEAD
       "      <td>0.657816</td>\n",
       "      <td>0.584254</td>\n",
=======
       "      <td>0.000000</td>\n",
       "      <td>0.597723</td>\n",
>>>>>>> main
       "      <td>5</td>\n",
       "      <td>2.5</td>\n",
       "      <td>10.0</td>\n",
       "      <td>0.999048</td>\n",
       "    </tr>\n",
       "    <tr>\n",
       "      <th>2021-11-22 18:45:00</th>\n",
<<<<<<< HEAD
       "      <td>0.000000</td>\n",
       "      <td>0.000000</td>\n",
       "      <td>0.000000</td>\n",
=======
       "      <td>1.027537</td>\n",
       "      <td>0.000000</td>\n",
       "      <td>1.067255</td>\n",
>>>>>>> main
       "      <td>5</td>\n",
       "      <td>3.0</td>\n",
       "      <td>12.0</td>\n",
       "      <td>0.998630</td>\n",
       "    </tr>\n",
       "    <tr>\n",
       "      <th>2021-11-22 19:45:00</th>\n",
<<<<<<< HEAD
       "      <td>0.075597</td>\n",
       "      <td>0.405518</td>\n",
       "      <td>0.000000</td>\n",
=======
       "      <td>0.818057</td>\n",
       "      <td>0.269213</td>\n",
       "      <td>0.314521</td>\n",
>>>>>>> main
       "      <td>5</td>\n",
       "      <td>3.5</td>\n",
       "      <td>14.0</td>\n",
       "      <td>0.998135</td>\n",
       "    </tr>\n",
       "    <tr>\n",
       "      <th>2021-11-22 20:45:00</th>\n",
<<<<<<< HEAD
       "      <td>0.808515</td>\n",
       "      <td>0.324969</td>\n",
=======
       "      <td>0.786582</td>\n",
       "      <td>0.535676</td>\n",
>>>>>>> main
       "      <td>0.000000</td>\n",
       "      <td>5</td>\n",
       "      <td>4.0</td>\n",
       "      <td>16.0</td>\n",
       "      <td>0.997564</td>\n",
       "    </tr>\n",
       "    <tr>\n",
       "      <th>2021-11-22 21:45:00</th>\n",
<<<<<<< HEAD
       "      <td>0.382066</td>\n",
       "      <td>0.000000</td>\n",
       "      <td>0.401625</td>\n",
=======
       "      <td>0.000000</td>\n",
       "      <td>1.156596</td>\n",
       "      <td>0.000000</td>\n",
>>>>>>> main
       "      <td>5</td>\n",
       "      <td>4.5</td>\n",
       "      <td>18.0</td>\n",
       "      <td>0.996917</td>\n",
       "    </tr>\n",
       "  </tbody>\n",
       "</table>\n",
       "</div>"
      ],
      "text/plain": [
       "                            A         B         C  D    E  E prime    cosine\n",
<<<<<<< HEAD
       "2021-11-22 12:45:00  0.000000  0.000000  0.000000  5  0.0      0.0  1.000000\n",
       "2021-11-22 13:45:00  0.000000  0.000000  0.000000  5  0.5      2.0  0.999962\n",
       "2021-11-22 14:45:00  0.000000  0.000000  0.000000  5  1.0      4.0  0.999848\n",
       "2021-11-22 15:45:00  0.000000  0.000000  0.000000  5  1.5      6.0  0.999657\n",
       "2021-11-22 16:45:00  1.793438  0.000000  0.962738  5  2.0      8.0  0.999391\n",
       "2021-11-22 17:45:00  0.000000  0.657816  0.584254  5  2.5     10.0  0.999048\n",
       "2021-11-22 18:45:00  0.000000  0.000000  0.000000  5  3.0     12.0  0.998630\n",
       "2021-11-22 19:45:00  0.075597  0.405518  0.000000  5  3.5     14.0  0.998135\n",
       "2021-11-22 20:45:00  0.808515  0.324969  0.000000  5  4.0     16.0  0.997564\n",
       "2021-11-22 21:45:00  0.382066  0.000000  0.401625  5  4.5     18.0  0.996917"
      ]
     },
     "execution_count": 44,
=======
       "2021-11-22 12:45:00  0.000000  0.888653  0.190292  5  0.0      0.0  1.000000\n",
       "2021-11-22 13:45:00  0.000000  0.713753  0.000000  5  0.5      2.0  0.999962\n",
       "2021-11-22 14:45:00  0.081801  0.000000  0.490220  5  1.0      4.0  0.999848\n",
       "2021-11-22 15:45:00  0.000000  0.000000  0.000000  5  1.5      6.0  0.999657\n",
       "2021-11-22 16:45:00  0.000000  0.660596  0.000000  5  2.0      8.0  0.999391\n",
       "2021-11-22 17:45:00  0.000000  0.000000  0.597723  5  2.5     10.0  0.999048\n",
       "2021-11-22 18:45:00  1.027537  0.000000  1.067255  5  3.0     12.0  0.998630\n",
       "2021-11-22 19:45:00  0.818057  0.269213  0.314521  5  3.5     14.0  0.998135\n",
       "2021-11-22 20:45:00  0.786582  0.535676  0.000000  5  4.0     16.0  0.997564\n",
       "2021-11-22 21:45:00  0.000000  1.156596  0.000000  5  4.5     18.0  0.996917"
      ]
     },
     "execution_count": 48,
>>>>>>> main
     "metadata": {},
     "output_type": "execute_result"
    }
   ],
   "source": [
    "# filling missing data\n",
    "df_wNan.fillna(value=0)"
   ]
  },
  {
   "cell_type": "markdown",
   "metadata": {},
   "source": [
    "Fill gaps forward or backward by propagating non-NA values forward or backward:"
   ]
  },
  {
   "cell_type": "code",
<<<<<<< HEAD
   "execution_count": 45,
=======
   "execution_count": 49,
>>>>>>> main
   "metadata": {},
   "outputs": [
    {
     "data": {
      "text/html": [
       "<div>\n",
       "<style scoped>\n",
       "    .dataframe tbody tr th:only-of-type {\n",
       "        vertical-align: middle;\n",
       "    }\n",
       "\n",
       "    .dataframe tbody tr th {\n",
       "        vertical-align: top;\n",
       "    }\n",
       "\n",
       "    .dataframe thead th {\n",
       "        text-align: right;\n",
       "    }\n",
       "</style>\n",
       "<table border=\"1\" class=\"dataframe\">\n",
       "  <thead>\n",
       "    <tr style=\"text-align: right;\">\n",
       "      <th></th>\n",
       "      <th>A</th>\n",
       "      <th>B</th>\n",
       "      <th>C</th>\n",
       "      <th>D</th>\n",
       "      <th>E</th>\n",
       "      <th>E prime</th>\n",
       "      <th>cosine</th>\n",
       "    </tr>\n",
       "  </thead>\n",
       "  <tbody>\n",
       "    <tr>\n",
       "      <th>2021-11-22 12:45:00</th>\n",
       "      <td>NaN</td>\n",
<<<<<<< HEAD
       "      <td>NaN</td>\n",
       "      <td>NaN</td>\n",
=======
       "      <td>0.888653</td>\n",
       "      <td>0.190292</td>\n",
>>>>>>> main
       "      <td>5</td>\n",
       "      <td>NaN</td>\n",
       "      <td>NaN</td>\n",
       "      <td>1.000000</td>\n",
       "    </tr>\n",
       "    <tr>\n",
       "      <th>2021-11-22 13:45:00</th>\n",
       "      <td>NaN</td>\n",
<<<<<<< HEAD
       "      <td>NaN</td>\n",
       "      <td>NaN</td>\n",
=======
       "      <td>0.713753</td>\n",
       "      <td>0.190292</td>\n",
>>>>>>> main
       "      <td>5</td>\n",
       "      <td>0.5</td>\n",
       "      <td>2.0</td>\n",
       "      <td>0.999962</td>\n",
       "    </tr>\n",
       "    <tr>\n",
       "      <th>2021-11-22 14:45:00</th>\n",
<<<<<<< HEAD
       "      <td>NaN</td>\n",
       "      <td>NaN</td>\n",
       "      <td>NaN</td>\n",
=======
       "      <td>0.081801</td>\n",
       "      <td>0.713753</td>\n",
       "      <td>0.490220</td>\n",
>>>>>>> main
       "      <td>5</td>\n",
       "      <td>1.0</td>\n",
       "      <td>4.0</td>\n",
       "      <td>0.999848</td>\n",
       "    </tr>\n",
       "    <tr>\n",
       "      <th>2021-11-22 15:45:00</th>\n",
<<<<<<< HEAD
       "      <td>NaN</td>\n",
       "      <td>NaN</td>\n",
       "      <td>NaN</td>\n",
=======
       "      <td>0.081801</td>\n",
       "      <td>0.713753</td>\n",
       "      <td>0.490220</td>\n",
>>>>>>> main
       "      <td>5</td>\n",
       "      <td>1.5</td>\n",
       "      <td>6.0</td>\n",
       "      <td>0.999657</td>\n",
       "    </tr>\n",
       "    <tr>\n",
       "      <th>2021-11-22 16:45:00</th>\n",
<<<<<<< HEAD
       "      <td>1.793438</td>\n",
       "      <td>NaN</td>\n",
       "      <td>0.962738</td>\n",
=======
       "      <td>0.081801</td>\n",
       "      <td>0.660596</td>\n",
       "      <td>0.490220</td>\n",
>>>>>>> main
       "      <td>5</td>\n",
       "      <td>2.0</td>\n",
       "      <td>8.0</td>\n",
       "      <td>0.999391</td>\n",
       "    </tr>\n",
       "    <tr>\n",
       "      <th>2021-11-22 17:45:00</th>\n",
<<<<<<< HEAD
       "      <td>1.793438</td>\n",
       "      <td>0.657816</td>\n",
       "      <td>0.584254</td>\n",
=======
       "      <td>0.081801</td>\n",
       "      <td>0.660596</td>\n",
       "      <td>0.597723</td>\n",
>>>>>>> main
       "      <td>5</td>\n",
       "      <td>2.5</td>\n",
       "      <td>10.0</td>\n",
       "      <td>0.999048</td>\n",
       "    </tr>\n",
       "    <tr>\n",
       "      <th>2021-11-22 18:45:00</th>\n",
<<<<<<< HEAD
       "      <td>1.793438</td>\n",
       "      <td>0.657816</td>\n",
       "      <td>0.584254</td>\n",
=======
       "      <td>1.027537</td>\n",
       "      <td>0.660596</td>\n",
       "      <td>1.067255</td>\n",
>>>>>>> main
       "      <td>5</td>\n",
       "      <td>3.0</td>\n",
       "      <td>12.0</td>\n",
       "      <td>0.998630</td>\n",
       "    </tr>\n",
       "    <tr>\n",
       "      <th>2021-11-22 19:45:00</th>\n",
<<<<<<< HEAD
       "      <td>0.075597</td>\n",
       "      <td>0.405518</td>\n",
       "      <td>0.584254</td>\n",
=======
       "      <td>0.818057</td>\n",
       "      <td>0.269213</td>\n",
       "      <td>0.314521</td>\n",
>>>>>>> main
       "      <td>5</td>\n",
       "      <td>3.5</td>\n",
       "      <td>14.0</td>\n",
       "      <td>0.998135</td>\n",
       "    </tr>\n",
       "    <tr>\n",
       "      <th>2021-11-22 20:45:00</th>\n",
<<<<<<< HEAD
       "      <td>0.808515</td>\n",
       "      <td>0.324969</td>\n",
       "      <td>0.584254</td>\n",
=======
       "      <td>0.786582</td>\n",
       "      <td>0.535676</td>\n",
       "      <td>0.314521</td>\n",
>>>>>>> main
       "      <td>5</td>\n",
       "      <td>4.0</td>\n",
       "      <td>16.0</td>\n",
       "      <td>0.997564</td>\n",
       "    </tr>\n",
       "    <tr>\n",
       "      <th>2021-11-22 21:45:00</th>\n",
<<<<<<< HEAD
       "      <td>0.382066</td>\n",
       "      <td>0.324969</td>\n",
       "      <td>0.401625</td>\n",
=======
       "      <td>0.786582</td>\n",
       "      <td>1.156596</td>\n",
       "      <td>0.314521</td>\n",
>>>>>>> main
       "      <td>5</td>\n",
       "      <td>4.5</td>\n",
       "      <td>18.0</td>\n",
       "      <td>0.996917</td>\n",
       "    </tr>\n",
       "  </tbody>\n",
       "</table>\n",
       "</div>"
      ],
      "text/plain": [
       "                            A         B         C  D    E  E prime    cosine\n",
<<<<<<< HEAD
       "2021-11-22 12:45:00       NaN       NaN       NaN  5  NaN      NaN  1.000000\n",
       "2021-11-22 13:45:00       NaN       NaN       NaN  5  0.5      2.0  0.999962\n",
       "2021-11-22 14:45:00       NaN       NaN       NaN  5  1.0      4.0  0.999848\n",
       "2021-11-22 15:45:00       NaN       NaN       NaN  5  1.5      6.0  0.999657\n",
       "2021-11-22 16:45:00  1.793438       NaN  0.962738  5  2.0      8.0  0.999391\n",
       "2021-11-22 17:45:00  1.793438  0.657816  0.584254  5  2.5     10.0  0.999048\n",
       "2021-11-22 18:45:00  1.793438  0.657816  0.584254  5  3.0     12.0  0.998630\n",
       "2021-11-22 19:45:00  0.075597  0.405518  0.584254  5  3.5     14.0  0.998135\n",
       "2021-11-22 20:45:00  0.808515  0.324969  0.584254  5  4.0     16.0  0.997564\n",
       "2021-11-22 21:45:00  0.382066  0.324969  0.401625  5  4.5     18.0  0.996917"
      ]
     },
     "execution_count": 45,
=======
       "2021-11-22 12:45:00       NaN  0.888653  0.190292  5  NaN      NaN  1.000000\n",
       "2021-11-22 13:45:00       NaN  0.713753  0.190292  5  0.5      2.0  0.999962\n",
       "2021-11-22 14:45:00  0.081801  0.713753  0.490220  5  1.0      4.0  0.999848\n",
       "2021-11-22 15:45:00  0.081801  0.713753  0.490220  5  1.5      6.0  0.999657\n",
       "2021-11-22 16:45:00  0.081801  0.660596  0.490220  5  2.0      8.0  0.999391\n",
       "2021-11-22 17:45:00  0.081801  0.660596  0.597723  5  2.5     10.0  0.999048\n",
       "2021-11-22 18:45:00  1.027537  0.660596  1.067255  5  3.0     12.0  0.998630\n",
       "2021-11-22 19:45:00  0.818057  0.269213  0.314521  5  3.5     14.0  0.998135\n",
       "2021-11-22 20:45:00  0.786582  0.535676  0.314521  5  4.0     16.0  0.997564\n",
       "2021-11-22 21:45:00  0.786582  1.156596  0.314521  5  4.5     18.0  0.996917"
      ]
     },
     "execution_count": 49,
>>>>>>> main
     "metadata": {},
     "output_type": "execute_result"
    }
   ],
   "source": [
    "df_wNan.fillna(method='pad')"
   ]
  },
  {
   "cell_type": "markdown",
   "metadata": {},
   "source": [
    "## Operations\n",
    "\n",
    "Here comes the most relevant advantage of DataFrame. Operations on columns are extremly fast, almost as fast as the actual operation between elements in a raw"
   ]
  },
  {
   "cell_type": "code",
<<<<<<< HEAD
   "execution_count": 46,
=======
   "execution_count": 50,
>>>>>>> main
   "metadata": {},
   "outputs": [
    {
     "name": "stdout",
     "output_type": "stream",
     "text": [
<<<<<<< HEAD
      "A         -0.151079\n",
      "B         -0.545248\n",
      "C         -0.258869\n",
=======
      "A         -0.147413\n",
      "B          0.133137\n",
      "C         -0.097225\n",
>>>>>>> main
      "D          5.000000\n",
      "E          2.250000\n",
      "E prime    9.000000\n",
      "cosine     0.998915\n",
      "dtype: float64 \n",
      "\n",
<<<<<<< HEAD
      "2021-11-22 12:45:00    0.724592\n",
      "2021-11-22 13:45:00    0.933609\n",
      "2021-11-22 14:45:00    1.204955\n",
      "2021-11-22 15:45:00    1.458016\n",
      "2021-11-22 16:45:00    2.563309\n",
      "2021-11-22 17:45:00    2.651465\n",
      "2021-11-22 18:45:00    2.635319\n",
      "2021-11-22 19:45:00    3.364506\n",
      "2021-11-22 20:45:00    3.734858\n",
      "2021-11-22 21:45:00    4.006112\n",
=======
      "2021-11-22 12:45:00    1.011278\n",
      "2021-11-22 13:45:00    1.203864\n",
      "2021-11-22 14:45:00    1.630114\n",
      "2021-11-22 15:45:00    1.671365\n",
      "2021-11-22 16:45:00    2.146535\n",
      "2021-11-22 17:45:00    2.436255\n",
      "2021-11-22 18:45:00    3.132222\n",
      "2021-11-22 19:45:00    3.557132\n",
      "2021-11-22 20:45:00    3.719261\n",
      "2021-11-22 21:45:00    3.973994\n",
>>>>>>> main
      "Freq: H, dtype: float64 \n",
      "\n"
     ]
    }
   ],
   "source": [
    "# Some statistics (mean() just as an example)\n",
    "# raws\n",
    "print (df.mean(axis=0),'\\n')\n",
    "# columns\n",
    "print (df.mean(axis=1),'\\n')"
   ]
  },
  {
   "cell_type": "code",
<<<<<<< HEAD
   "execution_count": 47,
=======
   "execution_count": 51,
>>>>>>> main
   "metadata": {},
   "outputs": [
    {
     "data": {
      "text/html": [
       "<div>\n",
       "<style scoped>\n",
       "    .dataframe tbody tr th:only-of-type {\n",
       "        vertical-align: middle;\n",
       "    }\n",
       "\n",
       "    .dataframe tbody tr th {\n",
       "        vertical-align: top;\n",
       "    }\n",
       "\n",
       "    .dataframe thead th {\n",
       "        text-align: right;\n",
       "    }\n",
       "</style>\n",
       "<table border=\"1\" class=\"dataframe\">\n",
       "  <thead>\n",
       "    <tr style=\"text-align: right;\">\n",
       "      <th></th>\n",
       "      <th>A</th>\n",
       "      <th>B</th>\n",
       "      <th>C</th>\n",
       "      <th>D</th>\n",
       "      <th>E</th>\n",
       "      <th>E prime</th>\n",
       "      <th>cosine</th>\n",
       "    </tr>\n",
       "  </thead>\n",
       "  <tbody>\n",
       "    <tr>\n",
       "      <th>2021-11-22 12:45:00</th>\n",
       "      <td>0.000000</td>\n",
<<<<<<< HEAD
       "      <td>-0.849147</td>\n",
       "      <td>-0.078706</td>\n",
=======
       "      <td>0.888653</td>\n",
       "      <td>0.190292</td>\n",
>>>>>>> main
       "      <td>5</td>\n",
       "      <td>0.0</td>\n",
       "      <td>0</td>\n",
       "      <td>1.000000</td>\n",
       "    </tr>\n",
       "    <tr>\n",
       "      <th>2021-11-22 13:45:00</th>\n",
<<<<<<< HEAD
       "      <td>-0.631933</td>\n",
       "      <td>-2.147460</td>\n",
       "      <td>-0.113158</td>\n",
=======
       "      <td>-0.681071</td>\n",
       "      <td>1.602407</td>\n",
       "      <td>0.084699</td>\n",
>>>>>>> main
       "      <td>10</td>\n",
       "      <td>0.5</td>\n",
       "      <td>2</td>\n",
       "      <td>1.999962</td>\n",
       "    </tr>\n",
       "    <tr>\n",
       "      <th>2021-11-22 14:45:00</th>\n",
<<<<<<< HEAD
       "      <td>-1.324407</td>\n",
       "      <td>-3.144567</td>\n",
       "      <td>-0.988737</td>\n",
=======
       "      <td>-0.599270</td>\n",
       "      <td>1.441337</td>\n",
       "      <td>0.574919</td>\n",
>>>>>>> main
       "      <td>15</td>\n",
       "      <td>1.5</td>\n",
       "      <td>6</td>\n",
       "      <td>2.999810</td>\n",
       "    </tr>\n",
       "    <tr>\n",
       "      <th>2021-11-22 15:45:00</th>\n",
<<<<<<< HEAD
       "      <td>-2.970942</td>\n",
       "      <td>-3.522522</td>\n",
       "      <td>-2.257790</td>\n",
=======
       "      <td>-2.166176</td>\n",
       "      <td>1.417857</td>\n",
       "      <td>0.365201</td>\n",
>>>>>>> main
       "      <td>20</td>\n",
       "      <td>3.0</td>\n",
       "      <td>12</td>\n",
       "      <td>3.999467</td>\n",
       "    </tr>\n",
       "    <tr>\n",
       "      <th>2021-11-22 16:45:00</th>\n",
<<<<<<< HEAD
       "      <td>-1.177504</td>\n",
       "      <td>-4.334926</td>\n",
       "      <td>-1.295052</td>\n",
=======
       "      <td>-3.159626</td>\n",
       "      <td>2.078453</td>\n",
       "      <td>-0.275594</td>\n",
>>>>>>> main
       "      <td>25</td>\n",
       "      <td>5.0</td>\n",
       "      <td>20</td>\n",
       "      <td>4.998858</td>\n",
       "    </tr>\n",
       "    <tr>\n",
       "      <th>2021-11-22 17:45:00</th>\n",
<<<<<<< HEAD
       "      <td>-2.358364</td>\n",
       "      <td>-3.677110</td>\n",
       "      <td>-0.710797</td>\n",
=======
       "      <td>-3.661916</td>\n",
       "      <td>0.537754</td>\n",
       "      <td>0.322130</td>\n",
>>>>>>> main
       "      <td>30</td>\n",
       "      <td>7.5</td>\n",
       "      <td>30</td>\n",
       "      <td>5.997906</td>\n",
       "    </tr>\n",
       "    <tr>\n",
       "      <th>2021-11-22 18:45:00</th>\n",
<<<<<<< HEAD
       "      <td>-2.776963</td>\n",
       "      <td>-4.945142</td>\n",
       "      <td>-1.575561</td>\n",
=======
       "      <td>-2.634379</td>\n",
       "      <td>-0.630114</td>\n",
       "      <td>1.389384</td>\n",
>>>>>>> main
       "      <td>35</td>\n",
       "      <td>10.5</td>\n",
       "      <td>42</td>\n",
       "      <td>6.996536</td>\n",
       "    </tr>\n",
       "    <tr>\n",
       "      <th>2021-11-22 19:45:00</th>\n",
<<<<<<< HEAD
       "      <td>-2.701366</td>\n",
       "      <td>-4.539624</td>\n",
       "      <td>-2.003266</td>\n",
=======
       "      <td>-1.816322</td>\n",
       "      <td>-0.360902</td>\n",
       "      <td>1.703906</td>\n",
>>>>>>> main
       "      <td>40</td>\n",
       "      <td>14.0</td>\n",
       "      <td>56</td>\n",
       "      <td>7.994670</td>\n",
       "    </tr>\n",
       "    <tr>\n",
       "      <th>2021-11-22 20:45:00</th>\n",
<<<<<<< HEAD
       "      <td>-1.892851</td>\n",
       "      <td>-4.214655</td>\n",
       "      <td>-2.990312</td>\n",
=======
       "      <td>-1.029741</td>\n",
       "      <td>0.174775</td>\n",
       "      <td>0.418910</td>\n",
>>>>>>> main
       "      <td>45</td>\n",
       "      <td>18.0</td>\n",
       "      <td>72</td>\n",
       "      <td>8.992234</td>\n",
       "    </tr>\n",
       "    <tr>\n",
       "      <th>2021-11-22 21:45:00</th>\n",
<<<<<<< HEAD
       "      <td>-1.510785</td>\n",
       "      <td>-5.452479</td>\n",
       "      <td>-2.588687</td>\n",
=======
       "      <td>-1.474132</td>\n",
       "      <td>1.331370</td>\n",
       "      <td>-0.972250</td>\n",
>>>>>>> main
       "      <td>50</td>\n",
       "      <td>22.5</td>\n",
       "      <td>90</td>\n",
       "      <td>9.989152</td>\n",
       "    </tr>\n",
       "  </tbody>\n",
       "</table>\n",
       "</div>"
      ],
      "text/plain": [
       "                            A         B         C   D     E  E prime    cosine\n",
<<<<<<< HEAD
       "2021-11-22 12:45:00  0.000000 -0.849147 -0.078706   5   0.0        0  1.000000\n",
       "2021-11-22 13:45:00 -0.631933 -2.147460 -0.113158  10   0.5        2  1.999962\n",
       "2021-11-22 14:45:00 -1.324407 -3.144567 -0.988737  15   1.5        6  2.999810\n",
       "2021-11-22 15:45:00 -2.970942 -3.522522 -2.257790  20   3.0       12  3.999467\n",
       "2021-11-22 16:45:00 -1.177504 -4.334926 -1.295052  25   5.0       20  4.998858\n",
       "2021-11-22 17:45:00 -2.358364 -3.677110 -0.710797  30   7.5       30  5.997906\n",
       "2021-11-22 18:45:00 -2.776963 -4.945142 -1.575561  35  10.5       42  6.996536\n",
       "2021-11-22 19:45:00 -2.701366 -4.539624 -2.003266  40  14.0       56  7.994670\n",
       "2021-11-22 20:45:00 -1.892851 -4.214655 -2.990312  45  18.0       72  8.992234\n",
       "2021-11-22 21:45:00 -1.510785 -5.452479 -2.588687  50  22.5       90  9.989152"
      ]
     },
     "execution_count": 47,
=======
       "2021-11-22 12:45:00  0.000000  0.888653  0.190292   5   0.0        0  1.000000\n",
       "2021-11-22 13:45:00 -0.681071  1.602407  0.084699  10   0.5        2  1.999962\n",
       "2021-11-22 14:45:00 -0.599270  1.441337  0.574919  15   1.5        6  2.999810\n",
       "2021-11-22 15:45:00 -2.166176  1.417857  0.365201  20   3.0       12  3.999467\n",
       "2021-11-22 16:45:00 -3.159626  2.078453 -0.275594  25   5.0       20  4.998858\n",
       "2021-11-22 17:45:00 -3.661916  0.537754  0.322130  30   7.5       30  5.997906\n",
       "2021-11-22 18:45:00 -2.634379 -0.630114  1.389384  35  10.5       42  6.996536\n",
       "2021-11-22 19:45:00 -1.816322 -0.360902  1.703906  40  14.0       56  7.994670\n",
       "2021-11-22 20:45:00 -1.029741  0.174775  0.418910  45  18.0       72  8.992234\n",
       "2021-11-22 21:45:00 -1.474132  1.331370 -0.972250  50  22.5       90  9.989152"
      ]
     },
     "execution_count": 51,
>>>>>>> main
     "metadata": {},
     "output_type": "execute_result"
    }
   ],
   "source": [
    "# global operations on columns\n",
    "df.apply(np.cumsum)"
   ]
  },
  {
   "cell_type": "code",
<<<<<<< HEAD
   "execution_count": 48,
=======
   "execution_count": 52,
>>>>>>> main
   "metadata": {},
   "outputs": [
    {
     "data": {
      "text/html": [
       "<div>\n",
       "<style scoped>\n",
       "    .dataframe tbody tr th:only-of-type {\n",
       "        vertical-align: middle;\n",
       "    }\n",
       "\n",
       "    .dataframe tbody tr th {\n",
       "        vertical-align: top;\n",
       "    }\n",
       "\n",
       "    .dataframe thead th {\n",
       "        text-align: right;\n",
       "    }\n",
       "</style>\n",
       "<table border=\"1\" class=\"dataframe\">\n",
       "  <thead>\n",
       "    <tr style=\"text-align: right;\">\n",
       "      <th></th>\n",
       "      <th>A</th>\n",
       "      <th>B</th>\n",
       "      <th>C</th>\n",
       "      <th>D</th>\n",
       "      <th>E</th>\n",
       "      <th>E prime</th>\n",
       "      <th>cosine</th>\n",
       "    </tr>\n",
       "  </thead>\n",
       "  <tbody>\n",
       "    <tr>\n",
       "      <th>2021-11-22 12:45:00</th>\n",
       "      <td>0.000000</td>\n",
<<<<<<< HEAD
       "      <td>-0.849147</td>\n",
       "      <td>-0.078706</td>\n",
=======
       "      <td>0.888653</td>\n",
       "      <td>0.190292</td>\n",
>>>>>>> main
       "      <td>5</td>\n",
       "      <td>0.0</td>\n",
       "      <td>0</td>\n",
       "      <td>1.000000</td>\n",
       "    </tr>\n",
       "    <tr>\n",
       "      <th>2021-11-22 13:45:00</th>\n",
<<<<<<< HEAD
       "      <td>-0.631933</td>\n",
       "      <td>-1.298313</td>\n",
       "      <td>-0.034452</td>\n",
=======
       "      <td>-0.681071</td>\n",
       "      <td>0.713753</td>\n",
       "      <td>-0.105593</td>\n",
>>>>>>> main
       "      <td>5</td>\n",
       "      <td>0.5</td>\n",
       "      <td>2</td>\n",
       "      <td>0.999962</td>\n",
       "    </tr>\n",
       "    <tr>\n",
       "      <th>2021-11-22 14:45:00</th>\n",
<<<<<<< HEAD
       "      <td>-0.692474</td>\n",
       "      <td>-0.997107</td>\n",
       "      <td>-0.875579</td>\n",
=======
       "      <td>0.081801</td>\n",
       "      <td>-0.161070</td>\n",
       "      <td>0.490220</td>\n",
>>>>>>> main
       "      <td>5</td>\n",
       "      <td>1.0</td>\n",
       "      <td>4</td>\n",
       "      <td>0.999848</td>\n",
       "    </tr>\n",
       "    <tr>\n",
       "      <th>2021-11-22 15:45:00</th>\n",
<<<<<<< HEAD
       "      <td>-1.646534</td>\n",
       "      <td>-0.377956</td>\n",
       "      <td>-1.269053</td>\n",
=======
       "      <td>-1.566905</td>\n",
       "      <td>-0.023480</td>\n",
       "      <td>-0.209717</td>\n",
>>>>>>> main
       "      <td>5</td>\n",
       "      <td>1.5</td>\n",
       "      <td>6</td>\n",
       "      <td>0.999657</td>\n",
       "    </tr>\n",
       "    <tr>\n",
       "      <th>2021-11-22 16:45:00</th>\n",
<<<<<<< HEAD
       "      <td>1.793438</td>\n",
       "      <td>-0.812404</td>\n",
       "      <td>0.962738</td>\n",
=======
       "      <td>-0.993451</td>\n",
       "      <td>0.660596</td>\n",
       "      <td>-0.640795</td>\n",
>>>>>>> main
       "      <td>5</td>\n",
       "      <td>2.0</td>\n",
       "      <td>8</td>\n",
       "      <td>0.999391</td>\n",
       "    </tr>\n",
       "    <tr>\n",
       "      <th>2021-11-22 17:45:00</th>\n",
<<<<<<< HEAD
       "      <td>-1.180860</td>\n",
       "      <td>0.657816</td>\n",
       "      <td>0.584254</td>\n",
=======
       "      <td>-0.502289</td>\n",
       "      <td>-1.540699</td>\n",
       "      <td>0.597723</td>\n",
>>>>>>> main
       "      <td>5</td>\n",
       "      <td>2.5</td>\n",
       "      <td>10</td>\n",
       "      <td>0.999048</td>\n",
       "    </tr>\n",
       "    <tr>\n",
       "      <th>2021-11-22 18:45:00</th>\n",
<<<<<<< HEAD
       "      <td>-0.418599</td>\n",
       "      <td>-1.268032</td>\n",
       "      <td>-0.864764</td>\n",
=======
       "      <td>1.027537</td>\n",
       "      <td>-1.167869</td>\n",
       "      <td>1.067255</td>\n",
>>>>>>> main
       "      <td>5</td>\n",
       "      <td>3.0</td>\n",
       "      <td>12</td>\n",
       "      <td>0.998630</td>\n",
       "    </tr>\n",
       "    <tr>\n",
       "      <th>2021-11-22 19:45:00</th>\n",
<<<<<<< HEAD
       "      <td>0.075597</td>\n",
       "      <td>0.405518</td>\n",
       "      <td>-0.427705</td>\n",
=======
       "      <td>0.818057</td>\n",
       "      <td>0.269213</td>\n",
       "      <td>0.314521</td>\n",
>>>>>>> main
       "      <td>5</td>\n",
       "      <td>3.5</td>\n",
       "      <td>14</td>\n",
       "      <td>0.998135</td>\n",
       "    </tr>\n",
       "    <tr>\n",
       "      <th>2021-11-22 20:45:00</th>\n",
<<<<<<< HEAD
       "      <td>0.808515</td>\n",
       "      <td>0.324969</td>\n",
       "      <td>-0.987045</td>\n",
=======
       "      <td>0.786582</td>\n",
       "      <td>0.535676</td>\n",
       "      <td>-1.284995</td>\n",
>>>>>>> main
       "      <td>5</td>\n",
       "      <td>4.0</td>\n",
       "      <td>16</td>\n",
       "      <td>0.997564</td>\n",
       "    </tr>\n",
       "    <tr>\n",
       "      <th>2021-11-22 21:45:00</th>\n",
<<<<<<< HEAD
       "      <td>0.382066</td>\n",
       "      <td>-1.237824</td>\n",
       "      <td>0.401625</td>\n",
=======
       "      <td>-0.444392</td>\n",
       "      <td>1.156596</td>\n",
       "      <td>-1.391161</td>\n",
>>>>>>> main
       "      <td>5</td>\n",
       "      <td>4.5</td>\n",
       "      <td>18</td>\n",
       "      <td>0.996917</td>\n",
       "    </tr>\n",
       "  </tbody>\n",
       "</table>\n",
       "</div>"
      ],
      "text/plain": [
       "                            A         B         C  D    E  E prime    cosine\n",
<<<<<<< HEAD
       "2021-11-22 12:45:00  0.000000 -0.849147 -0.078706  5  0.0        0  1.000000\n",
       "2021-11-22 13:45:00 -0.631933 -1.298313 -0.034452  5  0.5        2  0.999962\n",
       "2021-11-22 14:45:00 -0.692474 -0.997107 -0.875579  5  1.0        4  0.999848\n",
       "2021-11-22 15:45:00 -1.646534 -0.377956 -1.269053  5  1.5        6  0.999657\n",
       "2021-11-22 16:45:00  1.793438 -0.812404  0.962738  5  2.0        8  0.999391\n",
       "2021-11-22 17:45:00 -1.180860  0.657816  0.584254  5  2.5       10  0.999048\n",
       "2021-11-22 18:45:00 -0.418599 -1.268032 -0.864764  5  3.0       12  0.998630\n",
       "2021-11-22 19:45:00  0.075597  0.405518 -0.427705  5  3.5       14  0.998135\n",
       "2021-11-22 20:45:00  0.808515  0.324969 -0.987045  5  4.0       16  0.997564\n",
       "2021-11-22 21:45:00  0.382066 -1.237824  0.401625  5  4.5       18  0.996917"
      ]
     },
     "execution_count": 48,
=======
       "2021-11-22 12:45:00  0.000000  0.888653  0.190292  5  0.0        0  1.000000\n",
       "2021-11-22 13:45:00 -0.681071  0.713753 -0.105593  5  0.5        2  0.999962\n",
       "2021-11-22 14:45:00  0.081801 -0.161070  0.490220  5  1.0        4  0.999848\n",
       "2021-11-22 15:45:00 -1.566905 -0.023480 -0.209717  5  1.5        6  0.999657\n",
       "2021-11-22 16:45:00 -0.993451  0.660596 -0.640795  5  2.0        8  0.999391\n",
       "2021-11-22 17:45:00 -0.502289 -1.540699  0.597723  5  2.5       10  0.999048\n",
       "2021-11-22 18:45:00  1.027537 -1.167869  1.067255  5  3.0       12  0.998630\n",
       "2021-11-22 19:45:00  0.818057  0.269213  0.314521  5  3.5       14  0.998135\n",
       "2021-11-22 20:45:00  0.786582  0.535676 -1.284995  5  4.0       16  0.997564\n",
       "2021-11-22 21:45:00 -0.444392  1.156596 -1.391161  5  4.5       18  0.996917"
      ]
     },
     "execution_count": 52,
>>>>>>> main
     "metadata": {},
     "output_type": "execute_result"
    }
   ],
   "source": [
    "df"
   ]
  },
  {
   "cell_type": "code",
<<<<<<< HEAD
   "execution_count": 49,
=======
   "execution_count": 53,
>>>>>>> main
   "metadata": {},
   "outputs": [
    {
     "data": {
      "text/plain": [
<<<<<<< HEAD
       "A           3.439973\n",
       "B           1.956129\n",
       "C           2.231791\n",
=======
       "A           2.594442\n",
       "B           2.697294\n",
       "C           2.458415\n",
>>>>>>> main
       "D           0.000000\n",
       "E           4.500000\n",
       "E prime    18.000000\n",
       "cosine      0.003083\n",
       "dtype: float64"
      ]
     },
<<<<<<< HEAD
     "execution_count": 49,
=======
     "execution_count": 53,
>>>>>>> main
     "metadata": {},
     "output_type": "execute_result"
    }
   ],
   "source": [
    "df.apply(lambda x: x.max() - x.min())"
   ]
  },
  {
   "cell_type": "code",
<<<<<<< HEAD
   "execution_count": 50,
=======
   "execution_count": 54,
>>>>>>> main
   "metadata": {},
   "outputs": [
    {
     "data": {
      "text/plain": [
<<<<<<< HEAD
       "2021-11-22 12:45:00   -0.849147\n",
       "2021-11-22 13:45:00   -1.930246\n",
       "2021-11-22 14:45:00   -1.689581\n",
       "2021-11-22 15:45:00   -2.024490\n",
       "2021-11-22 16:45:00    0.981035\n",
       "2021-11-22 17:45:00   -0.523044\n",
       "2021-11-22 18:45:00   -1.686631\n",
       "2021-11-22 19:45:00    0.481115\n",
       "2021-11-22 20:45:00    1.133485\n",
       "2021-11-22 21:45:00   -0.855758\n",
       "Freq: H, dtype: float64"
      ]
     },
     "execution_count": 50,
=======
       "2021-11-22 12:45:00    0.888653\n",
       "2021-11-22 13:45:00    0.032682\n",
       "2021-11-22 14:45:00   -0.079269\n",
       "2021-11-22 15:45:00   -1.590385\n",
       "2021-11-22 16:45:00   -0.332854\n",
       "2021-11-22 17:45:00   -2.042988\n",
       "2021-11-22 18:45:00   -0.140332\n",
       "2021-11-22 19:45:00    1.087270\n",
       "2021-11-22 20:45:00    1.322258\n",
       "2021-11-22 21:45:00    0.712204\n",
       "Freq: H, dtype: float64"
      ]
     },
     "execution_count": 54,
>>>>>>> main
     "metadata": {},
     "output_type": "execute_result"
    }
   ],
   "source": [
    "# syntax is as usual similar to that of numpy arrays\n",
    "df['A']+df['B']"
   ]
  },
  {
   "cell_type": "markdown",
   "metadata": {},
   "source": [
    "Let's play it hard and load (in memory) a (relatively) large dataset"
   ]
  },
  {
   "cell_type": "code",
<<<<<<< HEAD
   "execution_count": 51,
   "metadata": {},
   "outputs": [
    {
     "data": {
      "text/html": [
       "<div>\n",
       "<style scoped>\n",
       "    .dataframe tbody tr th:only-of-type {\n",
       "        vertical-align: middle;\n",
       "    }\n",
       "\n",
       "    .dataframe tbody tr th {\n",
       "        vertical-align: top;\n",
       "    }\n",
       "\n",
       "    .dataframe thead th {\n",
       "        text-align: right;\n",
       "    }\n",
       "</style>\n",
       "<table border=\"1\" class=\"dataframe\">\n",
       "  <thead>\n",
       "    <tr style=\"text-align: right;\">\n",
       "      <th></th>\n",
       "      <th>HEAD</th>\n",
       "      <th>FPGA</th>\n",
       "      <th>TDC_CHANNEL</th>\n",
       "      <th>ORBIT_CNT</th>\n",
       "      <th>BX_COUNTER</th>\n",
       "      <th>TDC_MEAS</th>\n",
       "    </tr>\n",
       "  </thead>\n",
       "  <tbody>\n",
       "    <tr>\n",
       "      <th>0</th>\n",
       "      <td>1</td>\n",
       "      <td>0</td>\n",
       "      <td>123</td>\n",
       "      <td>3869200167</td>\n",
       "      <td>2374</td>\n",
       "      <td>26</td>\n",
       "    </tr>\n",
       "    <tr>\n",
       "      <th>1</th>\n",
       "      <td>1</td>\n",
       "      <td>0</td>\n",
       "      <td>124</td>\n",
       "      <td>3869200167</td>\n",
       "      <td>2374</td>\n",
       "      <td>27</td>\n",
       "    </tr>\n",
       "    <tr>\n",
       "      <th>2</th>\n",
       "      <td>1</td>\n",
       "      <td>0</td>\n",
       "      <td>63</td>\n",
       "      <td>3869200167</td>\n",
       "      <td>2553</td>\n",
       "      <td>28</td>\n",
       "    </tr>\n",
       "    <tr>\n",
       "      <th>3</th>\n",
       "      <td>1</td>\n",
       "      <td>0</td>\n",
       "      <td>64</td>\n",
       "      <td>3869200167</td>\n",
       "      <td>2558</td>\n",
       "      <td>19</td>\n",
       "    </tr>\n",
       "    <tr>\n",
       "      <th>4</th>\n",
       "      <td>1</td>\n",
       "      <td>0</td>\n",
       "      <td>64</td>\n",
       "      <td>3869200167</td>\n",
       "      <td>2760</td>\n",
       "      <td>25</td>\n",
       "    </tr>\n",
       "  </tbody>\n",
       "</table>\n",
       "</div>"
      ],
      "text/plain": [
       "   HEAD  FPGA  TDC_CHANNEL   ORBIT_CNT  BX_COUNTER  TDC_MEAS\n",
       "0     1     0          123  3869200167        2374        26\n",
       "1     1     0          124  3869200167        2374        27\n",
       "2     1     0           63  3869200167        2553        28\n",
       "3     1     0           64  3869200167        2558        19\n",
       "4     1     0           64  3869200167        2760        25"
      ]
     },
     "execution_count": 51,
     "metadata": {},
     "output_type": "execute_result"
    }
   ],
=======
   "execution_count": null,
   "metadata": {
    "scrolled": true
   },
   "outputs": [],
>>>>>>> main
   "source": [
    "# WARNING! link in past notebook was wrong!, (if needed) get the right file from:\n",
    "#!pip install wget\n",
    "import wget\n",
    "url = 'https://www.dropbox.com/s/xvjzaxzz3ysphme/data_000637.txt'\n",
    "file = wget.download(url)\n",
    "#!wget https://www.dropbox.com/s/xvjzaxzz3ysphme/data_000637.txt -P ~/LaboratoryOfComputationalPhysics_Y4/\n",
    "\n",
<<<<<<< HEAD
    "file_name=\"data_000637.txt\"\n",
    "data=pd.read_csv(file_name)\n",
    "data.head()"
=======
    "file_name=\"~/data/data_000637.txt\"\n",
    "data=pd.read_csv(file)\n",
    "data"
>>>>>>> main
   ]
  },
  {
   "cell_type": "markdown",
   "metadata": {},
   "source": [
    "Let's now do some operations among (elements of) columns"
   ]
  },
  {
   "cell_type": "code",
   "execution_count": 52,
   "metadata": {},
   "outputs": [],
   "source": [
    "# the one-liner killing it all\n",
    "data['timens']=data['TDC_MEAS']*25/30+data['BX_COUNTER']*25"
   ]
  },
  {
   "cell_type": "code",
   "execution_count": 53,
   "metadata": {},
   "outputs": [
    {
     "data": {
      "text/plain": [
       "0          59371.666667\n",
       "1          59372.500000\n",
       "2          63848.333333\n",
       "3          63965.833333\n",
       "4          69020.833333\n",
       "               ...     \n",
       "1310715    19061.666667\n",
       "1310716    19084.166667\n",
       "1310717    19100.000000\n",
       "1310718    19225.000000\n",
       "1310719    19065.000000\n",
       "Name: timens, Length: 1310720, dtype: float64"
      ]
     },
     "execution_count": 53,
     "metadata": {},
     "output_type": "execute_result"
    }
   ],
   "source": [
    "data['timens']"
   ]
  },
  {
   "cell_type": "code",
   "execution_count": 54,
   "metadata": {},
   "outputs": [],
   "source": [
    "# the old slooow way\n",
    "def conversion(data):\n",
    "    result=[]\n",
    "    for i in range(len(data)): \n",
    "        result.append(data.loc[data.index[i],'TDC_MEAS']*25/30.+data.loc[data.index[i],'BX_COUNTER']*25)\n",
    "    return result\n",
    "\n",
    "data['timens']=conversion(data)"
   ]
  },
  {
   "cell_type": "markdown",
   "metadata": {},
   "source": [
    "## Merge\n",
    "\n",
    "pandas provides various facilities for easily combining together Series, DataFrame, and Panel objects with various kinds of set logic for the indexes and relational algebra functionality in the case of join / merge-type operations.\n",
    "\n",
    "### Concat\n",
    "\n",
    "concatenation (adding rows) is straightforward\n"
   ]
  },
  {
   "cell_type": "code",
   "execution_count": 55,
   "metadata": {},
   "outputs": [
    {
     "data": {
      "text/html": [
       "<div>\n",
       "<style scoped>\n",
       "    .dataframe tbody tr th:only-of-type {\n",
       "        vertical-align: middle;\n",
       "    }\n",
       "\n",
       "    .dataframe tbody tr th {\n",
       "        vertical-align: top;\n",
       "    }\n",
       "\n",
       "    .dataframe thead th {\n",
       "        text-align: right;\n",
       "    }\n",
       "</style>\n",
       "<table border=\"1\" class=\"dataframe\">\n",
       "  <thead>\n",
       "    <tr style=\"text-align: right;\">\n",
       "      <th></th>\n",
       "      <th>0</th>\n",
       "      <th>1</th>\n",
       "      <th>2</th>\n",
       "      <th>3</th>\n",
       "    </tr>\n",
       "  </thead>\n",
       "  <tbody>\n",
       "    <tr>\n",
       "      <th>0</th>\n",
       "      <td>1.834055</td>\n",
       "      <td>-1.550840</td>\n",
       "      <td>-0.483624</td>\n",
       "      <td>1.020162</td>\n",
       "    </tr>\n",
       "    <tr>\n",
       "      <th>1</th>\n",
       "      <td>-1.439065</td>\n",
       "      <td>-1.514364</td>\n",
       "      <td>0.290852</td>\n",
       "      <td>0.932726</td>\n",
       "    </tr>\n",
       "    <tr>\n",
       "      <th>2</th>\n",
       "      <td>0.618591</td>\n",
       "      <td>-0.230916</td>\n",
       "      <td>-0.585393</td>\n",
       "      <td>0.713473</td>\n",
       "    </tr>\n",
       "    <tr>\n",
       "      <th>3</th>\n",
       "      <td>-0.162950</td>\n",
       "      <td>1.810707</td>\n",
       "      <td>1.347361</td>\n",
       "      <td>0.553474</td>\n",
       "    </tr>\n",
       "    <tr>\n",
       "      <th>4</th>\n",
       "      <td>-1.345944</td>\n",
       "      <td>-1.365813</td>\n",
       "      <td>-0.933431</td>\n",
       "      <td>-1.333054</td>\n",
       "    </tr>\n",
       "    <tr>\n",
       "      <th>5</th>\n",
       "      <td>0.113184</td>\n",
       "      <td>-0.640342</td>\n",
       "      <td>-0.873715</td>\n",
       "      <td>1.122282</td>\n",
       "    </tr>\n",
       "    <tr>\n",
       "      <th>6</th>\n",
       "      <td>-0.319036</td>\n",
       "      <td>-2.549122</td>\n",
       "      <td>-0.542204</td>\n",
       "      <td>-0.478140</td>\n",
       "    </tr>\n",
       "    <tr>\n",
       "      <th>7</th>\n",
       "      <td>0.253634</td>\n",
       "      <td>1.277117</td>\n",
       "      <td>-1.083310</td>\n",
       "      <td>-0.644030</td>\n",
       "    </tr>\n",
       "    <tr>\n",
       "      <th>8</th>\n",
       "      <td>-0.848203</td>\n",
       "      <td>-0.090617</td>\n",
       "      <td>-0.881677</td>\n",
       "      <td>-0.793040</td>\n",
       "    </tr>\n",
       "    <tr>\n",
       "      <th>9</th>\n",
       "      <td>0.424728</td>\n",
       "      <td>-2.359798</td>\n",
       "      <td>-0.222227</td>\n",
       "      <td>0.788893</td>\n",
       "    </tr>\n",
       "  </tbody>\n",
       "</table>\n",
       "</div>"
      ],
      "text/plain": [
       "          0         1         2         3\n",
       "0  1.834055 -1.550840 -0.483624  1.020162\n",
       "1 -1.439065 -1.514364  0.290852  0.932726\n",
       "2  0.618591 -0.230916 -0.585393  0.713473\n",
       "3 -0.162950  1.810707  1.347361  0.553474\n",
       "4 -1.345944 -1.365813 -0.933431 -1.333054\n",
       "5  0.113184 -0.640342 -0.873715  1.122282\n",
       "6 -0.319036 -2.549122 -0.542204 -0.478140\n",
       "7  0.253634  1.277117 -1.083310 -0.644030\n",
       "8 -0.848203 -0.090617 -0.881677 -0.793040\n",
       "9  0.424728 -2.359798 -0.222227  0.788893"
      ]
     },
     "execution_count": 55,
     "metadata": {},
     "output_type": "execute_result"
    }
   ],
   "source": [
    "rdf = pd.DataFrame(np.random.randn(10, 4))\n",
    "rdf"
   ]
  },
  {
   "cell_type": "code",
   "execution_count": 56,
   "metadata": {},
   "outputs": [
    {
     "data": {
      "text/plain": [
       "[          0         1         2         3\n",
       " 0  1.834055 -1.550840 -0.483624  1.020162\n",
       " 1 -1.439065 -1.514364  0.290852  0.932726\n",
       " 2  0.618591 -0.230916 -0.585393  0.713473,\n",
       "           0         1         2         3\n",
       " 3 -0.162950  1.810707  1.347361  0.553474\n",
       " 4 -1.345944 -1.365813 -0.933431 -1.333054\n",
       " 5  0.113184 -0.640342 -0.873715  1.122282\n",
       " 6 -0.319036 -2.549122 -0.542204 -0.478140,\n",
       "           0         1         2         3\n",
       " 7  0.253634  1.277117 -1.083310 -0.644030\n",
       " 8 -0.848203 -0.090617 -0.881677 -0.793040\n",
       " 9  0.424728 -2.359798 -0.222227  0.788893]"
      ]
     },
     "execution_count": 56,
     "metadata": {},
     "output_type": "execute_result"
    }
   ],
   "source": [
    "# divide it into pieaces raw-wise\n",
    "pieces = [rdf[:3], rdf[3:7], rdf[7:]]\n",
    "pieces"
   ]
  },
  {
   "cell_type": "code",
   "execution_count": 57,
   "metadata": {},
   "outputs": [
    {
     "data": {
      "text/html": [
       "<div>\n",
       "<style scoped>\n",
       "    .dataframe tbody tr th:only-of-type {\n",
       "        vertical-align: middle;\n",
       "    }\n",
       "\n",
       "    .dataframe tbody tr th {\n",
       "        vertical-align: top;\n",
       "    }\n",
       "\n",
       "    .dataframe thead th {\n",
       "        text-align: right;\n",
       "    }\n",
       "</style>\n",
       "<table border=\"1\" class=\"dataframe\">\n",
       "  <thead>\n",
       "    <tr style=\"text-align: right;\">\n",
       "      <th></th>\n",
       "      <th>0</th>\n",
       "      <th>1</th>\n",
       "      <th>2</th>\n",
       "      <th>3</th>\n",
       "    </tr>\n",
       "  </thead>\n",
       "  <tbody>\n",
       "    <tr>\n",
       "      <th>0</th>\n",
       "      <td>1.834055</td>\n",
       "      <td>-1.550840</td>\n",
       "      <td>-0.483624</td>\n",
       "      <td>1.020162</td>\n",
       "    </tr>\n",
       "    <tr>\n",
       "      <th>1</th>\n",
       "      <td>-1.439065</td>\n",
       "      <td>-1.514364</td>\n",
       "      <td>0.290852</td>\n",
       "      <td>0.932726</td>\n",
       "    </tr>\n",
       "    <tr>\n",
       "      <th>2</th>\n",
       "      <td>0.618591</td>\n",
       "      <td>-0.230916</td>\n",
       "      <td>-0.585393</td>\n",
       "      <td>0.713473</td>\n",
       "    </tr>\n",
       "    <tr>\n",
       "      <th>3</th>\n",
       "      <td>-0.162950</td>\n",
       "      <td>1.810707</td>\n",
       "      <td>1.347361</td>\n",
       "      <td>0.553474</td>\n",
       "    </tr>\n",
       "    <tr>\n",
       "      <th>4</th>\n",
       "      <td>-1.345944</td>\n",
       "      <td>-1.365813</td>\n",
       "      <td>-0.933431</td>\n",
       "      <td>-1.333054</td>\n",
       "    </tr>\n",
       "    <tr>\n",
       "      <th>5</th>\n",
       "      <td>0.113184</td>\n",
       "      <td>-0.640342</td>\n",
       "      <td>-0.873715</td>\n",
       "      <td>1.122282</td>\n",
       "    </tr>\n",
       "    <tr>\n",
       "      <th>6</th>\n",
       "      <td>-0.319036</td>\n",
       "      <td>-2.549122</td>\n",
       "      <td>-0.542204</td>\n",
       "      <td>-0.478140</td>\n",
       "    </tr>\n",
       "    <tr>\n",
       "      <th>7</th>\n",
       "      <td>0.253634</td>\n",
       "      <td>1.277117</td>\n",
       "      <td>-1.083310</td>\n",
       "      <td>-0.644030</td>\n",
       "    </tr>\n",
       "    <tr>\n",
       "      <th>8</th>\n",
       "      <td>-0.848203</td>\n",
       "      <td>-0.090617</td>\n",
       "      <td>-0.881677</td>\n",
       "      <td>-0.793040</td>\n",
       "    </tr>\n",
       "    <tr>\n",
       "      <th>9</th>\n",
       "      <td>0.424728</td>\n",
       "      <td>-2.359798</td>\n",
       "      <td>-0.222227</td>\n",
       "      <td>0.788893</td>\n",
       "    </tr>\n",
       "  </tbody>\n",
       "</table>\n",
       "</div>"
      ],
      "text/plain": [
       "          0         1         2         3\n",
       "0  1.834055 -1.550840 -0.483624  1.020162\n",
       "1 -1.439065 -1.514364  0.290852  0.932726\n",
       "2  0.618591 -0.230916 -0.585393  0.713473\n",
       "3 -0.162950  1.810707  1.347361  0.553474\n",
       "4 -1.345944 -1.365813 -0.933431 -1.333054\n",
       "5  0.113184 -0.640342 -0.873715  1.122282\n",
       "6 -0.319036 -2.549122 -0.542204 -0.478140\n",
       "7  0.253634  1.277117 -1.083310 -0.644030\n",
       "8 -0.848203 -0.090617 -0.881677 -0.793040\n",
       "9  0.424728 -2.359798 -0.222227  0.788893"
      ]
     },
     "execution_count": 57,
     "metadata": {},
     "output_type": "execute_result"
    }
   ],
   "source": [
    "# put it back together\n",
    "#pd.concat(pieces)\n",
    "\n",
    "# indexes can be ignored\n",
    "pd.concat(pieces, ignore_index=True)\n",
    "\n",
    "# in case of dimension mismatch, Nan are added where needed"
   ]
  },
  {
   "cell_type": "code",
   "execution_count": 58,
   "metadata": {},
   "outputs": [
    {
     "data": {
      "text/html": [
       "<div>\n",
       "<style scoped>\n",
       "    .dataframe tbody tr th:only-of-type {\n",
       "        vertical-align: middle;\n",
       "    }\n",
       "\n",
       "    .dataframe tbody tr th {\n",
       "        vertical-align: top;\n",
       "    }\n",
       "\n",
       "    .dataframe thead th {\n",
       "        text-align: right;\n",
       "    }\n",
       "</style>\n",
       "<table border=\"1\" class=\"dataframe\">\n",
       "  <thead>\n",
       "    <tr style=\"text-align: right;\">\n",
       "      <th></th>\n",
       "      <th>0</th>\n",
       "      <th>1</th>\n",
       "      <th>2</th>\n",
       "      <th>3</th>\n",
       "    </tr>\n",
       "  </thead>\n",
       "  <tbody>\n",
       "    <tr>\n",
       "      <th>0</th>\n",
       "      <td>1.834055</td>\n",
       "      <td>-1.550840</td>\n",
       "      <td>-0.483624</td>\n",
       "      <td>1.020162</td>\n",
       "    </tr>\n",
       "    <tr>\n",
       "      <th>1</th>\n",
       "      <td>-1.439065</td>\n",
       "      <td>-1.514364</td>\n",
       "      <td>0.290852</td>\n",
       "      <td>0.932726</td>\n",
       "    </tr>\n",
       "    <tr>\n",
       "      <th>2</th>\n",
       "      <td>0.618591</td>\n",
       "      <td>-0.230916</td>\n",
       "      <td>-0.585393</td>\n",
       "      <td>0.713473</td>\n",
       "    </tr>\n",
       "    <tr>\n",
       "      <th>3</th>\n",
       "      <td>-0.162950</td>\n",
       "      <td>1.810707</td>\n",
       "      <td>1.347361</td>\n",
       "      <td>0.553474</td>\n",
       "    </tr>\n",
       "    <tr>\n",
       "      <th>4</th>\n",
       "      <td>-1.345944</td>\n",
       "      <td>-1.365813</td>\n",
       "      <td>-0.933431</td>\n",
       "      <td>-1.333054</td>\n",
       "    </tr>\n",
       "    <tr>\n",
       "      <th>5</th>\n",
       "      <td>0.113184</td>\n",
       "      <td>-0.640342</td>\n",
       "      <td>-0.873715</td>\n",
       "      <td>1.122282</td>\n",
       "    </tr>\n",
       "    <tr>\n",
       "      <th>6</th>\n",
       "      <td>-0.319036</td>\n",
       "      <td>-2.549122</td>\n",
       "      <td>-0.542204</td>\n",
       "      <td>-0.478140</td>\n",
       "    </tr>\n",
       "    <tr>\n",
       "      <th>7</th>\n",
       "      <td>0.253634</td>\n",
       "      <td>1.277117</td>\n",
       "      <td>-1.083310</td>\n",
       "      <td>-0.644030</td>\n",
       "    </tr>\n",
       "    <tr>\n",
       "      <th>8</th>\n",
       "      <td>-0.848203</td>\n",
       "      <td>-0.090617</td>\n",
       "      <td>-0.881677</td>\n",
       "      <td>-0.793040</td>\n",
       "    </tr>\n",
       "    <tr>\n",
       "      <th>9</th>\n",
       "      <td>0.424728</td>\n",
       "      <td>-2.359798</td>\n",
       "      <td>-0.222227</td>\n",
       "      <td>0.788893</td>\n",
       "    </tr>\n",
       "  </tbody>\n",
       "</table>\n",
       "</div>"
      ],
      "text/plain": [
       "          0         1         2         3\n",
       "0  1.834055 -1.550840 -0.483624  1.020162\n",
       "1 -1.439065 -1.514364  0.290852  0.932726\n",
       "2  0.618591 -0.230916 -0.585393  0.713473\n",
       "3 -0.162950  1.810707  1.347361  0.553474\n",
       "4 -1.345944 -1.365813 -0.933431 -1.333054\n",
       "5  0.113184 -0.640342 -0.873715  1.122282\n",
       "6 -0.319036 -2.549122 -0.542204 -0.478140\n",
       "7  0.253634  1.277117 -1.083310 -0.644030\n",
       "8 -0.848203 -0.090617 -0.881677 -0.793040\n",
       "9  0.424728 -2.359798 -0.222227  0.788893"
      ]
     },
     "execution_count": 58,
     "metadata": {},
     "output_type": "execute_result"
    }
   ],
   "source": [
    "# appending a single row (as a Series)\n",
    "s = rdf.iloc[3]\n",
    "rdf.append(s, ignore_index=True)\n",
    "rdf"
   ]
  },
  {
   "cell_type": "markdown",
   "metadata": {},
   "source": [
    "### Merge/Join\n",
    "\n",
    "SQL like operations on table can be performed on DataFrames. This is all rather sophisticated, refer to the [doc](https://pandas.pydata.org/pandas-docs/stable/merging.html#merging) for more info/examples"
   ]
  },
  {
   "cell_type": "code",
   "execution_count": 59,
   "metadata": {},
   "outputs": [
    {
     "name": "stdout",
     "output_type": "stream",
     "text": [
      "   key  lval\n",
      "0  foo     1\n",
      "1  bar     2\n",
      "   key  rval\n",
      "0  foo     4\n",
      "1  bar     5\n"
     ]
    },
    {
     "data": {
      "text/html": [
       "<div>\n",
       "<style scoped>\n",
       "    .dataframe tbody tr th:only-of-type {\n",
       "        vertical-align: middle;\n",
       "    }\n",
       "\n",
       "    .dataframe tbody tr th {\n",
       "        vertical-align: top;\n",
       "    }\n",
       "\n",
       "    .dataframe thead th {\n",
       "        text-align: right;\n",
       "    }\n",
       "</style>\n",
       "<table border=\"1\" class=\"dataframe\">\n",
       "  <thead>\n",
       "    <tr style=\"text-align: right;\">\n",
       "      <th></th>\n",
       "      <th>key</th>\n",
       "      <th>lval</th>\n",
       "      <th>rval</th>\n",
       "    </tr>\n",
       "  </thead>\n",
       "  <tbody>\n",
       "    <tr>\n",
       "      <th>0</th>\n",
       "      <td>foo</td>\n",
       "      <td>1</td>\n",
       "      <td>4</td>\n",
       "    </tr>\n",
       "    <tr>\n",
       "      <th>1</th>\n",
       "      <td>bar</td>\n",
       "      <td>2</td>\n",
       "      <td>5</td>\n",
       "    </tr>\n",
       "  </tbody>\n",
       "</table>\n",
       "</div>"
      ],
      "text/plain": [
       "   key  lval  rval\n",
       "0  foo     1     4\n",
       "1  bar     2     5"
      ]
     },
     "execution_count": 59,
     "metadata": {},
     "output_type": "execute_result"
    }
   ],
   "source": [
    "left = pd.DataFrame({'key': ['foo', 'bar'], 'lval': [1, 2]})\n",
    "print(left)\n",
    "right = pd.DataFrame({'key': ['foo', 'bar'], 'rval': [4, 5]})\n",
    "print(right)\n",
    "pd.merge(left,right,on=\"key\")"
   ]
  },
  {
   "cell_type": "markdown",
   "metadata": {},
   "source": [
    "## Grouping\n",
    "\n",
    "By “group by” we are referring to a process involving one or more of the following steps:\n",
    "\n",
    "* Splitting the data into groups based on some criteria\n",
    "* Applying a function to each group independently\n",
    "* Combining the results into a data structure\n"
   ]
  },
  {
   "cell_type": "code",
   "execution_count": 60,
   "metadata": {},
   "outputs": [
    {
     "data": {
      "text/html": [
       "<div>\n",
       "<style scoped>\n",
       "    .dataframe tbody tr th:only-of-type {\n",
       "        vertical-align: middle;\n",
       "    }\n",
       "\n",
       "    .dataframe tbody tr th {\n",
       "        vertical-align: top;\n",
       "    }\n",
       "\n",
       "    .dataframe thead th {\n",
       "        text-align: right;\n",
       "    }\n",
       "</style>\n",
       "<table border=\"1\" class=\"dataframe\">\n",
       "  <thead>\n",
       "    <tr style=\"text-align: right;\">\n",
       "      <th></th>\n",
       "      <th>A</th>\n",
       "      <th>B</th>\n",
       "      <th>C</th>\n",
       "      <th>D</th>\n",
       "    </tr>\n",
       "  </thead>\n",
       "  <tbody>\n",
       "    <tr>\n",
       "      <th>0</th>\n",
       "      <td>foo</td>\n",
       "      <td>one</td>\n",
       "      <td>-0.975794</td>\n",
       "      <td>-0.725620</td>\n",
       "    </tr>\n",
       "    <tr>\n",
       "      <th>1</th>\n",
       "      <td>bar</td>\n",
       "      <td>one</td>\n",
       "      <td>0.196127</td>\n",
       "      <td>-0.967121</td>\n",
       "    </tr>\n",
       "    <tr>\n",
       "      <th>2</th>\n",
       "      <td>foo</td>\n",
       "      <td>two</td>\n",
       "      <td>-0.792358</td>\n",
       "      <td>-1.396689</td>\n",
       "    </tr>\n",
       "    <tr>\n",
       "      <th>3</th>\n",
       "      <td>bar</td>\n",
       "      <td>three</td>\n",
       "      <td>-0.424351</td>\n",
       "      <td>0.769606</td>\n",
       "    </tr>\n",
       "    <tr>\n",
       "      <th>4</th>\n",
       "      <td>foo</td>\n",
       "      <td>two</td>\n",
       "      <td>-1.430225</td>\n",
       "      <td>-0.809842</td>\n",
       "    </tr>\n",
       "    <tr>\n",
       "      <th>5</th>\n",
       "      <td>bar</td>\n",
       "      <td>two</td>\n",
       "      <td>1.843530</td>\n",
       "      <td>0.331518</td>\n",
       "    </tr>\n",
       "    <tr>\n",
       "      <th>6</th>\n",
       "      <td>foo</td>\n",
       "      <td>one</td>\n",
       "      <td>-0.261642</td>\n",
       "      <td>-0.409058</td>\n",
       "    </tr>\n",
       "    <tr>\n",
       "      <th>7</th>\n",
       "      <td>foo</td>\n",
       "      <td>three</td>\n",
       "      <td>-0.234834</td>\n",
       "      <td>-0.758193</td>\n",
       "    </tr>\n",
       "  </tbody>\n",
       "</table>\n",
       "</div>"
      ],
      "text/plain": [
       "     A      B         C         D\n",
       "0  foo    one -0.975794 -0.725620\n",
       "1  bar    one  0.196127 -0.967121\n",
       "2  foo    two -0.792358 -1.396689\n",
       "3  bar  three -0.424351  0.769606\n",
       "4  foo    two -1.430225 -0.809842\n",
       "5  bar    two  1.843530  0.331518\n",
       "6  foo    one -0.261642 -0.409058\n",
       "7  foo  three -0.234834 -0.758193"
      ]
     },
     "execution_count": 60,
     "metadata": {},
     "output_type": "execute_result"
    }
   ],
   "source": [
    "gdf = pd.DataFrame({'A' : ['foo', 'bar', 'foo', 'bar',\n",
    "                          'foo', 'bar', 'foo', 'foo'],\n",
    "                    'B' : ['one', 'one', 'two', 'three',\n",
    "                           'two', 'two', 'one', 'three'],\n",
    "                    'C' : np.random.randn(8),\n",
    "                    'D' : np.random.randn(8)})\n",
    "gdf"
   ]
  },
  {
   "cell_type": "code",
   "execution_count": 61,
   "metadata": {},
   "outputs": [
    {
     "data": {
      "text/html": [
       "<div>\n",
       "<style scoped>\n",
       "    .dataframe tbody tr th:only-of-type {\n",
       "        vertical-align: middle;\n",
       "    }\n",
       "\n",
       "    .dataframe tbody tr th {\n",
       "        vertical-align: top;\n",
       "    }\n",
       "\n",
       "    .dataframe thead th {\n",
       "        text-align: right;\n",
       "    }\n",
       "</style>\n",
       "<table border=\"1\" class=\"dataframe\">\n",
       "  <thead>\n",
       "    <tr style=\"text-align: right;\">\n",
       "      <th></th>\n",
       "      <th>C</th>\n",
       "      <th>D</th>\n",
       "    </tr>\n",
       "    <tr>\n",
       "      <th>A</th>\n",
       "      <th></th>\n",
       "      <th></th>\n",
       "    </tr>\n",
       "  </thead>\n",
       "  <tbody>\n",
       "    <tr>\n",
       "      <th>bar</th>\n",
       "      <td>1.615306</td>\n",
       "      <td>0.134004</td>\n",
       "    </tr>\n",
       "    <tr>\n",
       "      <th>foo</th>\n",
       "      <td>-3.694853</td>\n",
       "      <td>-4.099401</td>\n",
       "    </tr>\n",
       "  </tbody>\n",
       "</table>\n",
       "</div>"
      ],
      "text/plain": [
       "            C         D\n",
       "A                      \n",
       "bar  1.615306  0.134004\n",
       "foo -3.694853 -4.099401"
      ]
     },
     "execution_count": 61,
     "metadata": {},
     "output_type": "execute_result"
    }
   ],
   "source": [
    "# Grouping and then applying the sum() \n",
    "# function to the resulting groups (effective only where number are there).\n",
    "gdf.groupby('A').sum()"
   ]
  },
  {
   "cell_type": "markdown",
   "metadata": {},
   "source": [
    "## Multi-indexing\n",
    "\n",
    "\n",
    "Hierarchical / Multi-level indexing allows sophisticated data analysis on higher dimensional data. In essence, it enables you to store and manipulate data with an arbitrary number of dimensions in lower dimensional data structures like Series (1d) and DataFrame (2d)."
   ]
  },
  {
   "cell_type": "code",
   "execution_count": 62,
   "metadata": {},
   "outputs": [
    {
     "name": "stdout",
     "output_type": "stream",
     "text": [
      "MultiIndex([('bar', 'one'),\n",
      "            ('bar', 'two'),\n",
      "            ('baz', 'one'),\n",
      "            ('baz', 'two'),\n",
      "            ('foo', 'one'),\n",
      "            ('foo', 'two'),\n",
      "            ('qux', 'one'),\n",
      "            ('qux', 'two')],\n",
      "           names=['first', 'second']) \n",
      "\n",
      "first  second\n",
      "bar    one      -1.154736\n",
      "       two       1.641023\n",
      "baz    one      -0.168742\n",
      "       two       0.185528\n",
      "foo    one       0.400576\n",
      "       two       0.243265\n",
      "qux    one      -0.522717\n",
      "       two       0.238658\n",
      "dtype: float64\n"
     ]
    }
   ],
   "source": [
    "tuples = list(zip(['bar', 'bar', 'baz', 'baz', 'foo', 'foo', 'qux', 'qux'],\n",
    "          ['one', 'two', 'one', 'two', 'one', 'two', 'one', 'two']))\n",
    "multi_index = pd.MultiIndex.from_tuples(tuples, names=['first', 'second'])\n",
    "print (multi_index,'\\n')\n",
    "\n",
    "s = pd.Series(np.random.randn(8), index=multi_index)\n",
    "print (s)\n"
   ]
  },
  {
   "cell_type": "code",
   "execution_count": 63,
   "metadata": {},
   "outputs": [
    {
     "data": {
      "text/html": [
       "<div>\n",
       "<style scoped>\n",
       "    .dataframe tbody tr th:only-of-type {\n",
       "        vertical-align: middle;\n",
       "    }\n",
       "\n",
       "    .dataframe tbody tr th {\n",
       "        vertical-align: top;\n",
       "    }\n",
       "\n",
       "    .dataframe thead th {\n",
       "        text-align: right;\n",
       "    }\n",
       "</style>\n",
       "<table border=\"1\" class=\"dataframe\">\n",
       "  <thead>\n",
       "    <tr style=\"text-align: right;\">\n",
       "      <th></th>\n",
       "      <th></th>\n",
       "      <th>C</th>\n",
       "      <th>D</th>\n",
       "    </tr>\n",
       "    <tr>\n",
       "      <th>A</th>\n",
       "      <th>B</th>\n",
       "      <th></th>\n",
       "      <th></th>\n",
       "    </tr>\n",
       "  </thead>\n",
       "  <tbody>\n",
       "    <tr>\n",
       "      <th rowspan=\"3\" valign=\"top\">bar</th>\n",
       "      <th>one</th>\n",
       "      <td>0.196127</td>\n",
       "      <td>-0.967121</td>\n",
       "    </tr>\n",
       "    <tr>\n",
       "      <th>three</th>\n",
       "      <td>-0.424351</td>\n",
       "      <td>0.769606</td>\n",
       "    </tr>\n",
       "    <tr>\n",
       "      <th>two</th>\n",
       "      <td>1.843530</td>\n",
       "      <td>0.331518</td>\n",
       "    </tr>\n",
       "    <tr>\n",
       "      <th rowspan=\"3\" valign=\"top\">foo</th>\n",
       "      <th>one</th>\n",
       "      <td>-1.237437</td>\n",
       "      <td>-1.134678</td>\n",
       "    </tr>\n",
       "    <tr>\n",
       "      <th>three</th>\n",
       "      <td>-0.234834</td>\n",
       "      <td>-0.758193</td>\n",
       "    </tr>\n",
       "    <tr>\n",
       "      <th>two</th>\n",
       "      <td>-2.222583</td>\n",
       "      <td>-2.206530</td>\n",
       "    </tr>\n",
       "  </tbody>\n",
       "</table>\n",
       "</div>"
      ],
      "text/plain": [
       "                  C         D\n",
       "A   B                        \n",
       "bar one    0.196127 -0.967121\n",
       "    three -0.424351  0.769606\n",
       "    two    1.843530  0.331518\n",
       "foo one   -1.237437 -1.134678\n",
       "    three -0.234834 -0.758193\n",
       "    two   -2.222583 -2.206530"
      ]
     },
     "execution_count": 63,
     "metadata": {},
     "output_type": "execute_result"
    }
   ],
   "source": [
    "# it enables further features of the groupby method,\n",
    "# e.g. when group-by by multiple columns\n",
    "gdf.groupby(['A','B']).sum()"
   ]
  },
  {
   "cell_type": "code",
   "execution_count": 64,
   "metadata": {},
   "outputs": [
    {
     "data": {
      "text/plain": [
       "A    B       \n",
       "bar  one    C    0.196127\n",
       "            D   -0.967121\n",
       "     three  C   -0.424351\n",
       "            D    0.769606\n",
       "     two    C    1.843530\n",
       "            D    0.331518\n",
       "foo  one    C   -1.237437\n",
       "            D   -1.134678\n",
       "     three  C   -0.234834\n",
       "            D   -0.758193\n",
       "     two    C   -2.222583\n",
       "            D   -2.206530\n",
       "dtype: float64"
      ]
     },
     "execution_count": 64,
     "metadata": {},
     "output_type": "execute_result"
    }
   ],
   "source": [
    "# stack() method “compresses” a level in the DataFrame’s columns\n",
    "gdf.groupby(['A','B']).sum().stack()"
   ]
  },
  {
   "cell_type": "markdown",
   "metadata": {},
   "source": [
    "## Plotting\n",
    "\n",
    "Just a preview, more on the next lab class!"
   ]
  },
  {
   "cell_type": "code",
   "execution_count": 65,
   "metadata": {},
   "outputs": [
    {
     "data": {
      "text/plain": [
       "<matplotlib.axes._subplots.AxesSubplot at 0x2842ec4d430>"
      ]
     },
     "execution_count": 65,
     "metadata": {},
     "output_type": "execute_result"
    },
    {
     "data": {
      "image/png": "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\n",
      "text/plain": [
       "<Figure size 432x288 with 1 Axes>"
      ]
     },
     "metadata": {
      "needs_background": "light"
     },
     "output_type": "display_data"
    }
   ],
   "source": [
    "ts = pd.Series(np.random.randn(1000), index=pd.date_range('1/1/2000', periods=1000))\n",
    "ts.cumsum().plot()"
   ]
  },
  {
   "cell_type": "code",
   "execution_count": 66,
   "metadata": {},
   "outputs": [
    {
     "data": {
      "text/plain": [
       "<matplotlib.legend.Legend at 0x2842ed382b0>"
      ]
     },
     "execution_count": 66,
     "metadata": {},
     "output_type": "execute_result"
    },
    {
     "data": {
      "text/plain": [
       "<Figure size 432x288 with 0 Axes>"
      ]
     },
     "metadata": {},
     "output_type": "display_data"
    },
    {
     "data": {
      "image/png": "iVBORw0KGgoAAAANSUhEUgAAAXkAAAEECAYAAADNv0QiAAAABHNCSVQICAgIfAhkiAAAAAlwSFlzAAALEgAACxIB0t1+/AAAADh0RVh0U29mdHdhcmUAbWF0cGxvdGxpYiB2ZXJzaW9uMy4yLjIsIGh0dHA6Ly9tYXRwbG90bGliLm9yZy+WH4yJAAAgAElEQVR4nOydd3hUZfbHP3dK6qR3EiAQOtKkSFM6IqigoqKI2MXFtay46Fqwu5ZlddVFrLCoKII0QZQiKr33FiSQ3vskmXp/f9y5d+ZmJpWEAL/5PA/PzO13wsy573vO95wjiKKIFy9evHi5PNG09A148eLFi5fmw2vkvXjx4uUyxmvkvXjx4uUyxmvkvXjx4uUyxmvkvXjx4uUyxmvkvXjx4uUyRtfSN+BKZGSkmJiY2NK34cWLFy+XFHv37s0XRTHK07aLysgnJiayZ8+elr4NL168eLmkEAThXE3bvO4aL168eLmM8Rp5L168eLmM8Rp5L168eLmM8Rp5L168eLmMOW8jLwiCnyAIuwRBOCgIwlFBEF52rA8XBGG9IAjJjtew879dL168ePHSEJpiJG8CRoqi2AvoDYwTBGEg8AywURTFjsBGx7IXL168eLmAnLeRFyXKHYt6xz8RmAgsdKxfCEw632t58eLFi8VuaelbuKRoEp28IAhaYC/QAfhIFMWdgiDEiKKYBSCKYpYgCNE1HPsQ8BBAmzZtmuJ2vHjxchkiiiJT107lcP5hlt6wlM7hnVv6lhpNyuRbEU0m2q9e1aDjKg8dwrh9B7roaHw7JCGazZhT02o9pkmMvCiKNqC3IAihwHJBEK5owLGfAJ8A9OvXz9vBxIsXLx7ZnrWdw/mHAfj57M+XtJGvOnIEANFi4fTIUUTPnk3I9RMAMO7YSeo999D+x9X4duigOu7sbbc3+FpNqq4RRbEY2AyMA3IEQYgDcLzmNuW1vIBdtJNclNzSt+HFywXhf0f/p7z/9PCnDP12KAWVBS14R+ePNT8fa14eWc89p6wr+vZbAM5MnIStuPi8r9EU6pooxwgeQRD8gdHACWAVMN2x23Rg5fley4uad3a/w82rbubW1bdSaa1s6dvx4qXZKDWXsjVzq2pdiamEowVHAcmVc7EjiiK5775L1pyXlHWyERdNJkwpKeS8+U+sWVmOjTaKvv9edQ5dbGyDr9sU7po4YKHDL68Bloii+KMgCNuBJYIg3A+kArc2wbW8uPBD8g8AnCg8wbaMbYxqO6qF78iLl+bhVOEpAF4b8hpRAVE8vP5hAAoqC5i7dy6Ljy/mx5t+JCYwpiVvs0ZEi4UTPXq6rbcWFirvz025A1tJCQDh0++mfMtWKvfshQcflM5ht2MrKCD8vvvQRUSQ+847AAgBAbVeuynUNYdEUewjimJPURSvEEXxFcf6AlEUR4mi2NHxWljXubw0DL1Wr7y3ibYWvBMvXpqPJSeXMGPDDAAGtxpM/5j+yrZsYzYLjy6kylbFmZIzLXWLdWLJzPS43lZY5HzvMPAAgUOG4Ne9G1WnTmFOzyD9yScxJScjWiz4tG1L8HXjlH39Otcem/BmvF7C6DVOI19UVVTLnl68XLq8uuNVTDYTwT7BRAVEodfq+eHGH4j2j2Zvzl7soh2AgqqL1z9vK/L8+zTu2O5xfeCgQfi0bYs1K4uMp/5G2U/rSJkoqdB92iWii4wEQBMcjE8dqkSvkb+EMVqMyvv08vQWvBMvXpofk82kvO8Y1pGr4q5iZ/ZOZd3FHISV3TKJ339PxIMPKOtLV//otq9/794Iej0+rVsDUHXwkHp7r14IPj7EvfYqiYu/IWLGw7Ve22vkL1FKzaVUWiuZ1W8WvaJ6cTDvYEvfkhcvzYK/zh+AB3o8oFrfOkgygl3Du+Kv8yfbmH3B762+WAukB5AuIpyoJ54g8tFHARDNZnyn3abs59utK60//UTaN9o9tSjxu2/R+PoCEDp5Mr5JSfi2a1frtb1G/hLlpW0vAdIXvUNoB86V1tgzwIuXS5aThSeptFbySK9HeLinesQaHxQvvRri6RjWkROFJ1riFuuF7HvXhocjaLUYRgxXtj1vWaq8Dxo1Cm1QEAC6iAi38/j36tXga3uN/CXK+nPrAWgX0o7YwFgKqwrJLPcc3PHi5VJlc9pmACZ3mowgCKptQ+OHckvHW7jvivtICkniXOk5rHYr2zK3qTT1FwO2wgI0AQFo/PwAVElO6ZHOz+XbsaPyXuvwu58vF1X7Py/1w2a3odfouTL6StqFtCPcLxyAV3a8wsejP27hu/Pipek4WXSSNkFtiA5wd12E+4Xz0uCXANiYupG8yjz6fdVPUZrd1e0uNMLFMY61FhahdRmZa3x96XL8GOVpKRT9OlFZH9DfqRzShoYScNVVhE6+hbJNmwi54cZGXdtr5C9BMsszsdgtTGgvpUFf1+46Xt3xKjsyd1BiKiHEN6SF79CLl6YhvzKf2MC6E4DC/KRK5q5S4tyK3Hod2xzYSkup3L+fso2b0AQZsBUUoA1XV1sXBIHKSINqnTYkRLW97cIFAITccIPbNYqrignUB6qk1J64OB5zXhrE6eLTALQPbQ9AkE8Q1yVeh020MfuP2S15a168NCmFVYWKAa8NeTbrSkvGqQo+/4K0h2dQvGQJhZ9/gbWwEF24u4+93FyuPs5Uv3Qiq93K1d9dzZxtc+rc12vkL0EO5h1EJ+joGOr030X4S18gOTPQi5fLgcKqQsJ86zbyHcM6EuQTpFp3tuRsM91V3VSvOWMrLEQb4f4gKrOUqZZzKnLIq8jjdNHpWs+fWpYKwOozq+u8F6+RvwQ5WXSSDmEdCNA705n/0vsvAAyIG9Ds18+ryOPKRVdyKO9Q3Tt78dIIlpxcQo+FPSgzlxHu724cq9MlvAtbp2xl+x3beeLKJ9AIGsUQtgSu2asg6eR1Ye6fQx7J733/Xp66X0upqZTntz7PTatuqlUSeteau5T3/z3w31rvxWvkG8Enhz7hykVXttj1S02lbtPTIJ8gOoZ1pNLS/IXKdmfvxmK3sPDowrp39uKlgZhtZl7d8aqyHO5bt5EHyYdt8DFwf4/7iTfEk1eZ11y3WCfWXKnorqDXowkOBqsVbXjNI/mITj1IixZ4Y+cbbMvcBsCZYs9lGkw2k2oGMO/gvFrvxWvkG8EH+z/AYre0WIeaEnMJwT7BbusNeoMqC7Y5MNvMlFuk0YdrBqIXL01FmVntwqiPT746EX4RFFY2bbmsE4Un6hw1y9gKCgi6bhwhkyZhLy0FQB/rXjxNvkc5sets6Vllm6csdrtoZ9h3wwDqHVT2GvkG4urnM5qb16B6osRUwrnScxh8DG7bAvWBigFuLv7++9+VUVaVtapZr+Xl/ycV1grVcmOMfKR/JPmV+U11SwDcuvpW5h2cV6/vvbWoCF14BIIjOxVAHxfntt+ZkjMY9AY6hEq6+b4xfXltyGsAZBmz3PZPK0tTBnLTuk6r1317jXwDuWGFU8okG1RRFFl0bBG/pv7a7Nf/3zEpyeNA7gG3bUE+QZSYStzWNyUbUzcq76tsXiPvpempsKiNfJR/VIPPEeYXRpGpaYr2VVgqWP2nM8BZfaZRHdFiwV5aijY8DI2f08jr4lq57ZtWlkZicCJ+Oj82TN7A52M/Z2KHiUT5R3msxeP6u48zuD80POE18g3AareqluUn6qmiU7y9+20e+/UxlRFsDuTkjr/3/7vbtpiAGPIq8y5YA4Xqfw8vTcO+nH1sydjS0rfRIpwsPMnk1ZMB6BbRjQd6PEDb4LYNPk+wTzClptIm+S3M/mM2/9jyD2W51Fxa6/5WR8VJXXg4gq+fsl7nQV1Tbi4n2FdyvcYExqDVaIGaZyI7snbgo/HhvivuY3jCcD4c+SG9omovddAUnaFaC4LwqyAIxwVBOCoIwuOO9eGCIKwXBCHZ8drwOdcF5vktz9NjYQ8+Pug5a/Szw5+pluUnumvNjB2ZO5rt/kRRVO5tUKtBbtujA6Ix2Uy1juZTS5tOcSCXePXStExfN51HNjzC0fyjl0THo6biha0vKAYe4B9X/YPHr3zcrZxBfQj2DcYqWll+ejlv7377vO5rV9Yu1XJdRr5khdQEb03hFrYX7AVA8PdH0KlzT7ON2SQXJxOoD3Q7R4R/BH9k/OF2raKqIjqHd+bJvk+i1+oZ1noYX43/qtb7aYqRvBV4ShTFrsBAYKYgCN2AZ4CNoih2BDY6llscq92K2Wb2uG3ln9J/zkcHPnLb9mfxn27r5f8A16QLT+nX58NXx74iozwDkDTDtSFfe8mpJR63rzi9ggnLJ7A3Z2+9r/9Tyk888PMD2OzuTUlaKvD8/4Upa6aw4vSKJjlXhaWiyX3UTYldtLt91kCdu/GrL7IwYc62OSw6tqhBxx7KO6Qa6FWPCdSmv7dkZZE3dy4Aqwp/Y0u+9IDQeOjeNGbpGCqtlR6NvEEvxdzG/zBe9aAvM5e55QPURVN0hsoSRXGf430ZcByIByYCssZuITDpfK/VGD468JFKzz1z40z6ftXXbb+6XA9PbX4KgJGtRyrrThVJiUdFpiJ8ND71Ok9DKKgs4K3db3HbaqkUqaybvaXjLR73jwmQovcf7P/A4/afz/4M0KBCZu/sfoed2TvZlb3LTU3T3EoeL7AseVmTnGfGhhmMWDKiSc7VHMiqkln9ZjExaaJSeK+xVFefNUQJNnXtVD468JESG0gwJABwQ3spHvfithc9DnoArPlOP3ppABgd3hpBX3PpgQCd+wNAtiMlphIO5x8GIMeYQ0FVwYU38q4IgpAI9AF2AjGiKGaB9CAAmnaIWw8qLBV8fPBjpq6dSoWlgu2Z2xUNanVXQ20Gq7iqmD9L/iTYJ5j+sc4CQh8d+IgeC3vwe/rvtA5qTYAuoEnVLfLIq9Qs+RblaPvtnW/3uL9s5MHzw8Zik0beDQnOJgRJX/D9ufvJq1DrjqunZHs5f6p3+DqYd5DVf65m5JKRjRqJ/5D8A9N/ms7+3P0AF+1ofuIKqUhXx9COvDb0NVZNWuVRQVZfuoZ3VS1vOLehzmMqrZU88IuzZv3k1ZM5lHeIndk7STAk8MbVb5AYnAjULDpwzXQtDYBy2chrtTVe15Oe3/X3uyx5GRWWCkYvHU1GeUbLGXlBEAzAMuAJURRrd1qpj3tIEIQ9giDsyctr2uQF1xHr9HXTeWj9Q8ry8YLjqn1dI+byf6TM9iypRde80fMYljDM7Tq5FbmE+IZg0Bua1Mi7tjPbnLZZcdfIJQyqExngLE3qGpm3i3Z+SP6BtLI05X7ri/zw25Ozx03SVWYpU2YHXpqGsUvHuq374sgX5FXmsebMGj4//Dl7c/bWa8YoiiJzts1hX+4+ZV1KSUqT3m9TU1/FSF20Dm6tWn7mj2fqjG88t+U5dmY5O02llaUxde1UQKpZDzCtmyRbrK4AArCVG0lzNN0WZk6nLECg3N8RT9CpjbxrP1pPRntCklR88Or4q1n952qVoCNI3wJGXhAEPZKB/1oUxR8cq3MEQYhzbI8DPFoWURQ/EUWxnyiK/aKiGi6Vqo2Fx5wZmdUbCkxZM0W1LP8Qwv3C3YIda8+sJdwvnO4R3Wkd3JrD0w8zpNUQ1T6V1koMPoYmHd26+uAf+/Ux5b48JUKB1PN1Zu+ZAGRXOFOiN6dtZs62OWQapYdeTkVOva7/W9pviktqd/ZuHt/0OADfjP+GpTdIjQ5e3vZyQz6SlzqQR4htgpx9O0N9QwE4VnCM9/a9xz3r7uGtXW/Vea6TRSfd1jXkAX8hiQuMQ6/R0y6k9i5H50NdMa1jBcdq3PbBKMkFKnepqrS6Z5aXLHM2/0i/uhMAVZIXF0HndNdklWcpM5dbOt7CrH6z3M41LnEcB6YdYGrXqVjsFn48I7UJ9NH4MKrtqFo/R3WaQl0jAJ8Dx0VRnOuyaRUw3fF+OrDyfK/VUHZn7651++0/3s4vZ38BnJ2WYgNjVdIruQnB+HbjFXkTwPsj31edKy4wThnJnyg80STT4uo62bMlZ/HR+OCn86vhCBjRWvK75hidhlyeqsusTVlLj4U9uPrbq2s8j81u49FNj6rWyanU8UHxdA7vzIxeMyizlCmBYS9Nx8zeM1k8YTHgNMxrU9Yq2789+W2tx1daK7n7p7vd1ld3ubUkoigqvxOr3cqNSY2rl14TskEe3no4gDKTrc7v6b/zyvZX6BzWGYAOoR24NvFaQnxDWHL9ElZNWqWcS64XVT1hy5SSQs6b/1SWnzkkJTQVOTxOIZOcNeM/PuQM6k7qMKlG94tWo1VmNtsyt5FgSGD3XbvrlExWpylG8kOAacBIQRAOOP6NB/4JjBEEIRkY41i+YJSaS8koz+Curnep3C+P9XlMeX+s4BhP/fYUh/MOK1rc0W1GYxWtypP6XOk5zHYz3SK6qc7vq3UmOdzT/R5eHPQiBh8DJwpPcOvqW3l+6/Me78tkM9Wo7rHZbUqsINuYzdH8o+g1euXLv/LPlZjtno+Vkf3y8mjdZrex4OgCj/sWm4prnMLKbpgbk27k9aGvq7bJI8uxbSXXwr6cfXg5P2x2G1nlWQgIPNjjQa5rd52S6u4pUK7XOEeGv6b+qnRCqrBU8PD6h7lt9W1uo01/nf9513MpMZXwyIZH6l3GN7U0tUap7dO/P82IJSNIKUlpVECxLlZMXMGi6xbxaG9psFLTDHbmxpl8f+p7UkpT6BvTl+UTl/PusHfZMmULXSO6qmYXsrGv7q7JeOwx1bJJlOJfZQECVeu+IOIByddfZa3ih2TJ2RGkD6JLeJdaP0OrQGcCVZ/oPo1qgtIU6potoigKoij2FEWxt+PfWlEUC0RRHCWKYkfHa9MWkqgDeYTeL7Yfg1sNBmBM2zFuzYAB7lx7J9nGbKZ0nqIU/pJdI/LTv6aEjNjAWJ7q9xQR/hEE6gOVKeHWjK0e9x/+3XAmLJ/gcdtNq25SlDRjlo7hp7M/Ee4XrvLN10WIbwi+Wl9lJO86+gP4bKxa619sUpdEBcm9I9elv7PLndyYdCO/3CL9Pce3G6980eSgbPUfT5W1iid+fULld/RSO8uSlzF22VhERGICYhAEQTF6VtHd/67TODXXj/36GO/seQer3cr8Q/PZlrlNVQMF4KYONxHpH1nvkfyMDTM8Fr5adGwRWzK2cP3y6ymucv/uuJJtzGbC8gm8t+89t23FVcXOgcSKG7GL9iY38q0Mregd3VsZ+Mz6zd0t4kpKSQohPrU33JGVMK4P0KLFizElO0sDv36b9Pt4/ippoGfU2xSt/5/Ffyr7bbtzW62zckC1vXN451r3rYnLsjNUfmU+L2+XfMUdQzsqwSaD3oAgCHw9/mtSSlKwi3Ze3PYiIJUoSAxJVLLPJq2cRPeI7spU2ZOca/Ntm1X/CdW/pCklKW4+xnJLOeWWcjalbmJkG6ccc2PqRuU+XYNqYX5hPN7nceWh8XS/p2v97IIgEBMQoxhe2WX1/oj3yTJmcVXcVar98yrz3HTArjr6SH8pmBtniGPrHVtVMxh/nT+hvqFklUsB2QVHFvCvvf/is7GfsTF1IxtTN/L60NebfBp+OeL6QJT/5rWN2iqtldjsNtU+KSUpHM0/qtqvc1hnFl+/GK2g5d5195JbWbdP3mQzsTVjK1sztvJIr0cA2JO9h3Vn16keLu/vf585g2puWiErhb488iV/6/s31bYMo7uLLykkqc57awyundLsol31N6uuNKurTo48kjdajFjz8ij//XeyX35Ftc/BJA3XtbuOK2OuVPYFOJp/1C0W2BBc1XMN4bI08nKG2r+H/5s2wW2Up67sZugZ1ZOeUT0RRZFKayVv7noTkIJdstE2WozsypbOoxN0RPi5K1qqq1yqJzXcuOJG5l7zDiG+oQxoNVC17fFfH+fwdEn/WmIq4Ylfn1C2pZc5q89Z7Va6RnRV9q0PMYExiqb+XOk5roy+UvVA6RLeRQlE51fm0ymsk+p41wCV62f0FPCNC4zjdPFpTDYT/9r7L0BKvZZ5bstzXiNfD1zdLzWpp+7udjd20c5Xx6UMx3f2vKPK2/j00KfszN6pOubzaz9Xzh0VEOWmKvPEzI0zlfdH84/SPbI7j256FKPFyKA4Z6a1p9oqMqIo8vmRz5XloqoilQGVv586jU4Z1Ixo0zw6fkEQaBXYikxjJqWmUsXoC4LAyUJ1cLp9SPtaz5UQlICv1pd9ufvo/fshCj77XLV9xkwpbnd3t7uVhKZZv80iMThRZeCru0DrQ2MTLS/L2jVyMEfWtE9KmkTPyJ7c1e0u1X6CIDCm7RhlOSYwxuOUKDIgUhV0rQl5JC8HPwH+9vvT3L/+Qf6z7z9u5RJEUcRmt5G8/0sABldID6O5e53x68YkV0UHRHMg7wCzf5/Nvtx9iltFZuG4hSwcJymPPAWI5VnA5E6TVSM3T8QExrAvdx/T1k7DTys9IH9P/121z/+n1PzG4uo2q8nIP93/aWYPmM1dXaXv8dfHv+b+X+5Xtv909icArm9/PSBJgV1HsfGGeDKNmUq+hCeyyrNUMsLHNkm+ZtmNsTt7tyIXri235K+b/qqS17rOVP6999/KoGZMG+n3d0vHW5q16faTfZ8EpO/7B/s/YMLyCVhsFo4UHFHtJ7fUrIlAfSAdQjtwrvQclpxqs6LunSgMltwykf6Rqtn/5NWTVZ+vIQMfeXBa1wOoJi5PI1+Vj16jV0aerYNb8/WErz0+CV1HF5H+kQT7BPPsgGf517B/KetdXRS1ITc3CPIJcpNFfXr4U6UsQrS/dB8pJSkM/HoAs4/OB+C5Aml6+2uas5plY0oHyLMO2R9f3WUUoA9QAj6efLQ5xhzGth1b61S8+rWOFx5X5H/JRcnoBJ3yN2iqaoCXM65G3jXYJmdbvjfc6dee3MlZ3wWk8rSuzBk0h7/0+guvDnlVtb5LeBesdqtHaaXM2GVqnb5GI5mImEDJVWAVrfSI7MGA2AE1ShJFUeS39N9U61xLAXxx5Avl/bXtrpW2V4shNDWywU0tS+XTw5+SVpbGHWvu4N97/62aydbHZRSoD6TCUoElPR17n26027aFwB3rOPKGpKnvGt6V6IBoBEFQzXzsop0EQwKfjPmkQff+6dhPmT96PqF+oQ06TuayM/J20c6XR74kxDekXoWNXEeq8hPzzq53MjZxrGLoBepXIGlIvKSdn9BuAjckuXdXl3m0jxTtn7t3LlV2M7k6HRpRpLXVfdQ+qk3DNLHg3tR4Ugf3ihIB+gCC9EFsz9yuWi+KIjkVOcqPui4GVnNDAYiIRAZEKg+Xlmyo3FiSi5IvaHaobAQj/dWzxpWTVrJr6i6VNjopNIk+0X2UZTk3AmBIqyH46fx4pPcj9I7urbrGwLiB6DV6Xtn+ikfZq6sKZnb/2UzqMElRkbi6kxIMCVIp3yrPD29PKhZPtdHBZbbt4TvalHSN6IqPxkeV+So/7Ma3G8917a4D6teII0AfQIWpHOPxY/ysOc7nqd8yYeX1vOLos/DhqA+VUftDPR9SPbRHtx3tsbhgbXQJ78Lg+MENOsaVy87IywalIVpSWUdbfbrYJbwLAgIz+8z0cJQ7CUEJHJ5+mMHxgwn3C+fxHg8zwuieGXd1gqRPdx3txKNDAOYGSFLNnpE92XTrJmWa2RCqS9bkh1d1xiaOZV/uPmX/MyVnSC9Lp9JaWe8gz7jEcUztOtVtfXRAtNIIYeO55i2/3FhKTCUeFUBnSs5w86qbuf1Hz+UjmppScylnS8/yWJ/HWD95vWqbj9ZHCfa58v6I93lvxHscuvsQ/WP7c/8VkttmevfpbvvKhPmFER0QzfHC49y2+jZ2ZO1Q1GNGi5HZv89W9m0T3Ib2Ie0pNZey4vQKJT4FkmItzC+MgqoCPtj/gZs7TnbTXBl9JdO7TSc6IFrVr1T+PsYGxhLsE8yhuw81u5H31foyuu1oj42vO4V14vWhr7NlypZ6DQwNegMlZ06iqTJxJlZwqzzrGr/rF9uPnyf/rDyUXd1nF4rLzsjLgRRZFVAf3hv+Hvvuctd6twluw4G7DzAucVyj7uWBttfxYoFzShtviOfmjjcT6R/JnV3uVNa/bhR4ffyX0PFaxuSksH7yev47+r9EBUTV6RP3xLDW6tILNZ2jS3gXLHYL+ZX5iKLIxBUTGb98PEC9R/IAzwx4hv3T9vPG0DeU4mkxATGShC2qN/vz9tdxhpbhzjV3KpmHMiabSVmXW5Gr8k/Xxr3r7uW5Lc816j7kFnCxgbH1/v8O8wtjVJtRilGa2Wcmc4fPZWCc+8zKlVKTJA0uNZfy4C8PMv4H6f97a8ZW1p1dp+zXO7o3rQzSCPSFrS+oztE3pi9hvpKb85NDn7iN0n9KkWID88fMZ1b/WcQFxilGXhRFysxl3HvFvay9WXInNqaUcGOonusi0ye6D3qNvt4GOFAfSKgjHFEQDAfy1A18PMXvZBsiD3wuJJedukaeKjakBoZWo0WL58DqeQWDjHlE2uw8n19I2C1fMjbR6e98/MrHCfUL5Zb9K4n2sUF0H2g9AJJ/JrY4A3KPg94frvBccbI2OoV14u1r3ubvv/+91i+u/CPOLM90c0m1DWpYowadRscNSTco+QVy/KNNcBt2Zu3kXOk5liUv484ud55XdcGmJLVMqq1vspnw1foiiiJTflRL3B745YE6lU0Wu4U9OXsgp3GqCdkf35g2dzJ6jV4lIqgJ1wbQMktOLlHVtHmk1yME+wS7Bfp+ueUXDuYfJNI/UnWvxwqOKd8lkNRZE9pPUJRqsYGxipqrwlqBTbQR7huucgFdCOT6MwmGBKV/6iuDX2lwIbQAfQChRmn20q3DYI5YnSP5mh7St3e+naHxQ2kT3Mbj9ubkshjJm2wmxXeYU5GDv86/wUV8mgWjFNS8vaycsdV+gAF7FvBIlYbo3GSIdAR+IhxBn09HwsqZ8MPDjb50/9j+dArr5LEuhozsK8wyZrkFvqrLKuuLnKUpG3lZs3/98uv58siXvL6j4UawOXCtMST73vfk7OF0sZTUcu8V9yrbPWUoi6KouClcDWRdreE8Ifu25dFxc6IT3I3QqzteVWSZgBJP6hjWkX9c9Q/ahbTjq/FfETINMuIAACAASURBVGeIU0akrnGf6jVfik3FKpdFbEAs2cZsRFFk6SmpvktNCqLmpH9sf8a3G8+/hjtFFRM7TKzlCM8E+wQT4hjJj+vrHBTc1uk2nrvK82xOq9G2iIGHy2QkP+XHKWSUZ7Br6i4yyzOVjMEWx+iiXDGVgp/LqPrnZ53vWzvKFwdV6wFZRzZcbUT6R7LsxtprkatG8i5/r6HxQ+slGfVEx9CO6ASdMgqsruzZnL6ZcnP5eZWRdSWzPJNyS7nqoXS84DgzNsxg2Y3LlMSi6siVRUFyy8Qb4lVBuSeufILE4ETmbJtDXmWeMgqUGbx4MN0ju/PZ2M9U2vOCyoan58sj+caqJxrCt9d/y6miU6p2dtVx7al6R5c7uKPLHW77uP7/udZG2paxTSnWJxNniMNkM3Gq6BTv7nkXcA4GLiQhviG8dY1U2O3bCd9ytOBoo2bqrQJb4XNWpCQAerS7iiHpQ5iUNIlx7Rrn1m1uLvmRvF20c7r4NJXWSgoqCziYd5CuEV3rPvBCYHRRZxScrnk/2SUTXM3FZC4HW/P1UQ3QBxDiG8LRgqNsy5Dq7K+9aS3/GfGfRp8zzhDHulvWKSWZPeUdbE7f3OjzV+faZddyyyq1S+uTQ59QWFXo1rbNFdcCbruydiGKIpvSNtEvph8rJq5AI2iU2ciH+z9UHbszayfllnLFX++qHnp4/cMNlr0q7poLMJLvHN6ZG5Ju4IWBLzB/zHzVNrnyZV2p9iD5t6d3m84N7W/gQO4BpSnHwxscs0+XWGxsgOSecy0r0Ji+rU1J98ju3Nb5tkYd2zqoNe1yRA60Fwj0NfDx6I8vWgMPl4GRd9UXD18ynPzK/AZXaWs2yl2SJT4dCVaXab+r787XMfILaQ2D/+pyAhGMzVsatlVgK9afW8/y08ulZUMr9Nrz85XGBDpnUp3COrFg3ALV9k2pmxp8TovdQo+FPeixsAcnC08y+JvBbsZXRtZv15bfkFGegb/OnzZBbUguTmZz2mayjdncmHQjSaFJyr0D/HjmR1VS2oz1M1Tnci1NnWnM5Lc0tUa8NrZlbGPu3rloBa1HFU1zcVvn25SaTjJLbljCvmn1Kzan1+iZ1X8WQ+KHYBWtpJWmYbPb0Gv0hPuFM7WbU3Elx2Bkl+Dc4XPPK/7Q0kT+bx2RpWAMa/xM+0JyyRt5T/0We0f1dt+xJTDmQbhL8CrHJYDn6QctCDD2NXjoN7h1gbSuLNt9PwC7HXKOet7WAOIC1bOHxrppakNO1tEJOobGD21Q+0GZ/ArnrGjy6smUWcqYf8g5EnWV8clGvraGyyeLTpIUkkScIY6s8ix+S/8Nf52/opcGKa4g+1hr0oRXWispMZUoSUtQsya8OgdyDygjX5toaxEXo/x/88bQNwjUBzY4GCpXeL1p1U1SFqjdwpN9n1SVwKiecd0zsuf53XQLU/yplMw1cdD9dex5cXBJG/kN5zYwfZ1aF/z8Vc/XKJW64BjzwRALAxxT2PQ90qsoQm39UVv1hhBHkKa8hgYfW/8N8wZD1iHP2+uJqwrp7m7u9cebij9u/4PfpvxGuF94nc0bPOHaBMUTrlUB5ZoqtQVBTxaepGtEV6L9ozmUf4hlycvQaXRurgo5QOhaCbRnlNNIZZZnUmIqIdw/XKnUWd/Pt+bMmnrt15x8ce0X7Jq6q9bkvdpwDSb+kfEH4C4TDPEN4cC0A2yZsoW3r3m7QfLciw3R5uztGtfNvVf0xcglbeQ9Tftv63zbxRF03fExnNsCAeEw/m0pqJruaGJirQLRDho9jHrR8/FBjh9CWTaYyqUHgyvnHIHDEs+NEOqL7CK4p/s9PNH3iTr2bjyhfqEE+wQrRr6h9WxcfeiuRDqkr/KovcpapcgES8zuvWzTy9L57PBnlJpLaR3UWpVT4OmhIAduXStzuipDzpWeI6M8gxCfEOIMcUT6R9Y46nelwlLBj2d+dMtOvtBoBM15uYlcg8zv7nkXX62vxxorWo2WEN8Q1UzpUsS1Ubd/jx4teCf155I28vKIIN4Qz7zR83h1yKsXh4EHWOfIHpSzT2O6Q56jZohZ1l+9CVc/5fl4uV9raSa8GQ9L7oZlD4K1Wtf5ivMr0++jkfqTBfkEXRDdcqR/JCabqdZWa55wzZgEmNVvFhtHfc4zOdJ6OTbzn/3OoHH1lo8AHx74kPf3SV295GSt2rgi8griDfGqHpsVlgpFfvrunndJLUtlQnupR0CEX0Sd7qjHNj3GiCUjKLeUKxmqF4Xkt5Hc1OEm5f307tOV7kmXI1XHJBdp3D/fRBMYWMfeFwdN1eP1C0EQcgVBOOKyLlwQhPWCICQ7Xps80iIn8Hx3/XcMjR/a7KnRKkQRTv1St/qlvaMiZUQSFJ4Bm8VpmP1CuGXeNm79eJv7cXo/SUJ5ypGFeHwVHF4Cabvg2CrJ+AMUn19dmDu73snEpIlM6dL4OtcNQa7F49pcuj7kVOSoSjlP6jCJ6OJ0EqzS9DlzjTQLWXRsESC5VKqXkQWU2vdaQUuPyB51BgD1Gj0jWo/gcN5hLHYLM9bPYGvmVkUCmFaWRkxAjGLk+8f2Z3fO7lorPf6a9qvSPm5A7AAAVSnoS42XBr+kvJfLK1yulG3YgCYggODrLp0ZSVON5BcA1TVEzwAbRVHsCGx0LDcp5ZZyKTGhBepB8NNs+OZW2DXffZvJMe3vdz8MkLq3kzgUzOWIP/+D/cccxscQw95zRew+W8P0XqOD7Go+90PfwZJpkOsIuua5j1YbQohvCK8Nfa3G5uBNjRzolV0jZpu5VteNxW5hf+5+so3ZxATE0DW8KzpBJ/2fG/Np5Sjq9rg9g4LPRtJBF0zfmL70iepDTkUOI5aM4PUdryvqmExjJuMSx7Hptk20MrTCR+ujXGvlRM9tiHtF96LKVsW1S69la6bUvMVf73RxuNbuaRvcFqvdqriKjBYjY5aOYeFRqbSzzW7Dle4R3fnhxh/qVfHzYkXWmgsIl/UoHqBi+w4Ch12Dxrd+lWkvBpokGUoUxd8FQUistnoiMNzxfiGwGZhNE2G0GDFajEph/gvKkWVO4270UKmwyDG6ThwqKWYAut4AHcdSfGwTXxb60McHCIoFatHPu2RlKuxfpF4u+NN9n4sYrUZLkD6IYlMxH+7/kPmH5jO161TCfMPYk7OH14a8RoR/BOdKz5EUmsTzW55XSib3jurNZ9d+5jSUFQWE2kXCNL4U2U28ZTpLptaf/oY2BDoCqPmV+Xx78lt6GNpwY7vxFFUVERsYq/KFvzjoRTqGdqyxlvjAWKkejGt/VH+dP0NaDWFr5lbVLEh+WJaaSon0jySzPJNsYzbv7nmXWzs5e/+G+4Vzc8ebEQSBjmEdm+iv23L8cssv5y29vdgRrVYsOTkEJya29K00iOb0yceIopgF4Hj12NZEEISHBEHYIwjCnry8+vWf3JKxhYHfDGTVn6sI9GkBv9jS+1xuZi68FAJVJfD1bZLRlV0oYYnq46I6E2RMpYfmDHZR4ITR+YBasDWFWpm6FHpWq4rYaZw6q/ZiY8u/Yd8it9VBPkEsPrFYkUB+ffxrPjzwITuydvD9qe/56MBHTFo5idTSVFWP2tSyVHy1vs7RYkU+gn8om8csQCeK/GQIpEKj4aptn1B5eKnqms/tfRvrvEGYbCa30eatnW51K8vrSqhfqFvBOwGB90a8x8pJK1WBSzkQ+c9dUt961zyOFadXsP6cVGVy/pj5PH7l4zVe81JDDjpfzlgyM8Fmwyc+vu6dLyJaPPAqiuInoij2E0WxX1RUVN0HoA6ouaZgNzuWSlhbQ4/VfYsg+Wdpe9ZBaV11Ix/RAZ1o5i7tBrbYr+DXs1XKppdWewhERrhI0doMhFiXaP7Av0DMFZJ/3+4I7pakw/8mwR9zaXFMZbDhJVgl1c4n84ASv3CVO1Zn/qH5LDm5BHAWEJORNdkAlGTA7s/Ax4Am9goecjHCAyur0BVJJYRd5bQVjn69gbqGDwyqp+EH6APw0/m5KUnkHsHbs7ZTZa3i8U1OQy63mQz2CW50bSAvLUf5li0A+PfpU8eeFxfNaeRzBEGIA3C8NlnqpqvSQm4512xYTVCeJxmt5PWwy9HVJa6X2uhmOxKd/twIv70FwfHgXy2oFyFNy/0FM8fERPaeUytj3HzT9/4E496COcVSVmyoS4GjcW9CYBSINqh0+PRXPgpnfoWNL0sB2pZElosCvNMRPhkGr0ZAaRZ2nPXur46/2u1QWQ55OE9d/fGdYe84FzZKjdplCel1jsAnQKAocl9xKQ+2vZ5F1y3iMb008ipyJHpV78VbH1zjPnd1vYtHez/qcT/X7+OiY4vcqj4G+QSx+fbNzdrqzkvTI9rt5P7zLdDr8U1qnobjzUVzftNWAXKm0nTAc1SrEWQZs5SSnk1V6KpGvp0K73aANxOkgKdMj9vg4T9gymJp+dC36uM6jHb642XCncW6jtgT2XA8F1+dhrsGSsa7uKKaIsMQDQNnOM8TWq2KXYhj2vhOe7BUSS4jmc9rKDtbVQrF56etr5OKQljklNWpSjOsm43OUd5hUcTVfNTnKf64/Q+Pp9mbK2nT3x32LgfvPqhu31itpGtiSCJbx33DhlSp45FBFHksrDc+Wh/CTdLMYY+fFCxrjJGX5aVdwrswe8DsGqsodg7vrDwQZDlnh9AOSvXHyZ0mX/ASu17On7Jf1iOazWBpeDvOlqapJJSLge1AZ0EQ0gVBuB/4JzBGEIRkYIxjuUnIMmYxNH4o88fM5+l+NbhPmoLyPDi93uOmbKNdMr4uKgvaDIahjk5OV/8NgF9P5Coj9mKNs8rgGvtVAIzsEk3v1tKIv7Sqji9QaLWiTp2do1fObIbMfdBR3aPTjeUPw3tXqB8ITU3qjpq3WarQOtRHIQe/Q1g+g9AVM1k26E2W3bhM1Sptf45U3bBnZE/3ka/8d49wBi2DY3oQ45KRKCuQIqukmcFLUZJhbowCpEdkD65JuEbV+7cmhrQaoryf2nUqyycuxypKrqqOoZd+kPX/IyWr3TtKXSo0iZEXRfEOURTjRFHUi6KYIIri56IoFoiiOEoUxY6O10Zn7ZhtZpUfN7s8m7jAOAa3Gty85VlP/VTjprmbUzmWWYolvr9zZVQnGP4P+NsJCEukymLj3gW7uWWelJ2aVuw04l/cIxn5vm3DCPKTRnllVXVo7gOqZUdqNHDL59L7xY6grKsLyeyhdEKKY9Scttt9WyPILa1ydzMd/l56HeYiprpnDSBAZSF3lEqqoUirDdJ3wYkf6fTNVDoFq/3bZrs04o8KqBZ3ydwv+eMBpi33fGMhreH4ahBFBhapg9OeaqrXhcHHwEejPqpXTfC/9P6L8r5683i5+JmXSwdRFKnYsQP/vn3psHFD3QdcZFwSjsFpP03j6m8l322ZuYwyS5lbYa1m4dx2jzXd7zbPZqltGOP/8wcvrDnDvyyTpQ1Jo0Dng90Qy2d/nGFnivq5ll/uzFYd0SWadU9czd2DEgnylYxOuakeZYUfPwQzXfzt1Uf3cb1h0jzpvae6N4EOBURa/dra1UZaYQUD3tjIrO9dtPw2KyT/Av3ugxEuNcuD46HPXZC+m/tLStlzNpWg6g+HorOKft5V4ujWbefID9JrwgAIraEuedJIKfns5VB8zWW80/p6ZdPA4OY1tG2D27L25rUMjR/K8IThqm2eUv69XLwUr1jBia7dsBuNhFw/Af0lpqyBS8TIHys4hslmot9X/Vh8QvKBN6uRL06DN1vDwW8wJ7pkIj5xmKJblvC7vRd2x5/u291pfGSbxLnbN0laeGBfahGvrTnO9C+cxthstZNXbuJ602tk3ynV3OkSG4yPTkOQn+SjrXMkDxDWFqJcarT7usQkNDrocr2z8mXucdyQk39+f7vua9VCXpmJq9/+FYBl+9IxWx3B1Nyjkr6/rcNlIXe98g+V1ECAoPPH11P+U8ZeXh40hyB9ECsmruCurnfxUM+H1PuIIpxYA4lXS4Hpmojprlps026U8l5z0inLRBTd6wI1Aa2DWjNv9DxFe//x6I+ZP3p+vWq1e2k5zGlppD7wIOZ0qT2g8Y8tyjZ965bp7HS+XPRG3tUVYLKZ+GD/BwBN3idUFEUqdu/GbjRi2bNa6uQEvH/cIJX97T0VQtuQHubeKNmOhsOWOCVAqhg8F4orzJzNN3JCSCK0nVqTbXC4a7ae9pBYVReueQJDHpdcOK36gD4ANr4iBWRdcfXFH1nmlF82kOQctWoks9jhTpNVPa2ldH2mrYDr35OURn3vkQLVM7bAVR4arS9/iDF/7mDbndsI8wtj9oDZ/LXPX9X7mI1Q+Kc0UtfW4nYJcRnhzymmdfxVzmVflzox8wbDmr/V/mGbgCHxQxgcP7juHb20KLlvv4NxyxYqdkozXUHnLL2tj7s4ehM3lIveyHsq26oVtG5t5c6X0tWrOTftbk727cfpRz9QBner7YMo73ADTPovADmlktF84Xp1OeM1h7LIKpEMXZGLSmZ0V8knezSrlP9u/pM+bULx06trtocHSqPrBdvONvi+U8sFLBWO/8ZwhxtC5ws9bpVKHrjWnM/cD+XZThfP0vukSpmNILdMcj0FI/n9z2Vlk3Vok3RNvxCnkQ2Jh36Ofql6P+gyHiI7wHX/hKcc5R2GuCQFuY6yPSHLRQNrSLyRawUFuvjxBYEgnyB0gpYHi0ugypGgZCqD3GOwR6oPTs4xmDcUjv9Y18f3cglQsW8fRd9+16hjs557nuJlP2ArcfYk0MVcmiWSL3oj76miX3gz1KsxnTmjXi7R0aPqM1LFGLJLJMNut4ss3StN4667IpYusc4R4U9Hshn0puSGKayQAobfzxjEfUOkh9GLK6Xabd1bud93iL+eMd1i0AhgtdU9sjafPcvxLl1Jf+ZZXn7mC06viqUi18fpGgFndmz2IalU8VeT4ZPh0jrXgGieexGv+pBTWkUHIZ1Dfg/yif5fpHz3DHE/3IS4dwGEtXOXj3oiKBaePAajXoJ2jpK/vnXU0JGNfPUcBJlpy+HFIgh0lzjuv3MnjxWVSOc49TMsduldajXDvEFSY5fvpkLypRdg86Lm3J1TyX7ppQYdY69yznyznnuO8s2bAQi99Va0hhYoodIEXJRG/sWtL/K3zdIUOrM8g1u22Plf4t/4LEsKJA4szHT+2Gsi9wQc+t69NG9N2NSFo8xlOio0ktRu9Nzf+OyPM8z//QzrjkqJWJEGX9Y9cQ0bnxpG63CnjFIURfLKTAgC9EoIJTRAGqWbLJLxfmyUZwnduO6x2EU4kFbscbsrWS9INejLVqwgoVRSjpSm+WGu9CP1vvuwFhU5ffU/PiFp1mUp6DV/h153wAObpKBy0dl6/HHcySk10UGQHsBjtXu5Ryc1zBDsVohuQI/dkHjJxTT1eymWkL4L5g+TqnV6oi4jLwjS+QI8jPR1vpIbK+V3+OY2OOuiz/+zWm+Cr2+BasXEvFze2MrKMP7hnrMReM3VxL36SgvcUdNwURr55aeXs/7ceslgpidz+x92Aud8wVVVJr6vDOSFvHz4bHTtJ1n1V/jhASmZqR5YMjJUy9ZKLa9OdMoRX1tznPc3nkKnEXj62s746KQ/XVKUgSBfZ3JLdmkVyTlltA0PwEenITZECrTllpmID/VXXDPV6eyYFUz+eHut91m+dSsVu53yxymnpDrnNrOGwlW/YNy2naJFi8A1SSzd4Se/bREMf1Yyggl9JUNpqrlFXm3klFXxsc97HrfZk0Z5XF8rOl+n2ybrgHv1TZlKh/uuJiMvI/vd46r1+7VUSEa+OnIym8HF71qc6r6fl0sOu9lc905A5QGpHIkuOhptqFOaLVzi2ckX9d0XVBVQmCv90GzZ+Yg26DLiJfxFEQpOw7YPaj5YHvG5pPcbd+7Ckuu5uoLpjLpA2IbyPnSJUzdyqLLY+fye/swcoW5v5iqN3HmmkN1nC+keL7llXI16gE/N/VM7x9avaUTa/Q94XH/SmMBxh2/empenDi7KRHWWDLyM3h/MFfW6bnXySmueIT1zLLFR5+TK6dIMAyT/OEidseSa/SXp0v87QEiC+/GuCAI8sg3uXlW/ax9dLtUamnUS7nHEBQovrQqfXjxjN9bSatMFS7qUCd5m4QI67XAOtgQfzwOzS4WL2shnnzrIoLd+UZZzDgZLRbsSBmAq0WFf+3zN7hhZI24qAVM59ooKUqdPJ/0vM537GAvgv4MR9yzAnOI08vpAKwHlVQT76fDRqv9Eg5Pcfb2JkZLCRSPAE98dIL/czNSr3OVWFeaap/96rYbb+iUQG6yW2FltdqZ8sp3ZSw9xKjm9xuMNJZWU5UiuG9FqU4/kZaqPfvWB0si2EeSU1lxkbMmBRpYpEgSIcQS0Vz0qVfX8V2dJ/ZKxF97rCZteA0OMFNyti5juknTTE7d/5b7O4AisBTlG8+UXcYVPL/XGXu6hZLe8raoK0Waj8uhRsl+WXDI+CdIAItbhohH0l3YZiovOyLtmth5+5q8YSp1TraJTBv6cOpOq8NGc+SmazB1hkH/K/SSWSskNEdXFcWAKVcekkaE1JwfRZsO4fTvi2S2QexTL+v8imkxEPHA/MXMexS/MQqv8fAyCnbWPX82EnpImv0+bUPRa9z/ZvKlXsvjBgVzhGL1HGnwZnOT0CX/zoCTf89PX/ucO8ddTXKmeWmaXVrHjTCHf7Unj0XedqdVpbbowr4ezE1aQpZKOG6XsT1tJibrcgkz17GC9f6OMvCiKlJS5u3l+t/XgactDHo5oAK468uSfpdd9C6UEKNHxkKyeANYQZmyByV9KOQ0zd8Mjru4xR7BYVuZczGWcvdSbmox86c+/cLJ3H7LmzOHsLZOV9bJRDx43joCBA4l64tIuCX3RGXlXNU2rQvckFfO5VNLmSsauLMPPc7GtSkfwsuuNUrPsw99LtaCRXBkZT80i9d77yPr3IjJ3hGJ2aL4NI0fyW9YxdEE2/M1miq4eSEJRJv+8uQeT+yYwb6rn7uwRBl8GJUUQ7Ehqahuhro3SOkxavvnK2l0MIf56qix2TFbniF+WKgIklDmNzt97TmVXrOcAp624WBoVT/xIvUFXbdrpE9Aod83Zggr8LA4jP/J5Zf2L1nv43jYckPICGkVNqpwzm53vbY08N0hlH664WXof1Ulqyygz8jnpVXZ1rX/BO5q/DLAWeq6oUvi//wFQsnSZx+3aoCDaLvgSnzaXZhKUzEVl5AsqC3hp20sAvHv124SXwZr+AolLvkMf5pwyKR3TRQG+v8f9RLI/PqYbtOoNabtUXdbL1kl9U0u2HKXkbAA52yTli3bLLG4q/YpMnXMUXrZ+PUF+et69tZcSRK0JWf9e3b/eOjyAbc+M5C/Da0+nl5U4RUansiTXoct//8ZOPHRE8i//Z8CdFOv8Meo934+tyPH5+9wltSCsCX1AvUbyL68+yvd7pIfpvM1/MuLdzYQIDj9nREcIlh5ez08Zyf1DJcloSn79/KD1JueI9NCGph1h61zauLW7Rnp1fdBsfqPpruXlglF5WGk3jfnsWdW2qlOnKFm5El24e/Be8PcwA77EaZL2f01FdkU2B/IOADDIrxsZdphwzQP49+yJvYaU//J0MFSVqH20rjK76G5w8idsQoHH4wHMpRrQavAtlErbbrN3ZxTSe3Nq/Rtly1mfQ5Lc5XutQuv+8rQKlYx2RnGlSpUD0PPnxVQ5Co791OpKAN66ezCshc3xvVnacTjXk80dCTpKlrsU7bp+rlRDxpPkVDbyZzZD+h64ZpbbLna7yJdbzwIwrFMUb62TGraEOJKg8A+Fe9dC6nZG92pPm9gyPt+SQmphBX3anGfv9qA4KMtyLg95XGpo3v2mmo9pDNe/51YGQcFU5nm9l4sGa2Eh9vJyZcQtiiJnb71V2W6uJqrIfGoWpuRkt+Sm+A/+g3/Pamqsy4CLaiQvE6XxQ58vpd8nJPUBUUSr82zk036LwPzuSCr27eN4j55Y8/Ol6oOAxSggBkSDMRfzbmedEyEgAEGrdgUljZOMyU57Fz5pcyOH2/TEJzERa2YW9UXOeO3WqnFNsRMcbp30ogpEUWTVwUyOZ5Wi1Qj4WiRjn2ZwZnImRgcTsfZnFlwznT9DE9jYfST6uDjsRiPGHS7lfgMjIdKDPt8nQDJi/5sIm171eE+u7qIBb0hyzSAqWOz7urTSP0yqp9NL6nMa4wgcrzuSzXkz8C/q5fi+8PcUGP3y+Z/blX73OsswVMdSc4DZS8tQsX8/Nhc/e/pjj/Hn2GspXr4Cc3o6YoV6dmpOUSc6ymoba04OAf2dVWSDRo1CH+OxS+klzUVp5H1NZVgcxlUfGwM5R2g9LJ+YqcOJfeklAoddo9rfmn2OgqdvBouFit9/gVM/YQ3rw+lbZ5Dy5jpEG5QfcSpT2sz7iPbjcml9TQGJY/NIuKYAnyDJDz7F/DwfzxzJtSu/wq9nDyxZ9TfyjzsSndqEN65jfeuwALQageSccrafKeCxxftZvCsNm11EEyCd0/iysztS+6hAotu3YeeccdwxoDXpRZXoHPU1Uu+5t+4LhrdXuz6q17kBzhY43S5DNId5Xfc5U7Ub0MrdnaoFc4MddXh+OpJNleU8k4kG/xU6j5fe97tfcqMEhNdes6apaaT6yEvzULF7N+fuuJOsZ59V1lXu3QdA1rPPknb/A1gL1LN2U8pZ9Ulc3HE+iW3pvH8fSRvWI2guSnN43jT7pxIEYZwgCCcFQTgtCMIz9TlGC4px1edshI+H4mOwEX77JMKm3E7CBx/Q+pP5JC6QSuraTC4fY82TVCZnkDxPklCaMgrI2hOKaNMQ07eYmCtL8D/xT3yCbBhamfCf9CRBrZ2jeoOvD4M7RBLir0cf1wpLRoakO68H9wxpx9l/TkCrqUdKvwf8fbR0iQ3iQFoxsKVmQAAAIABJREFUu6qVKbYVFuLTti3XjulLQpg/D1/TXlUD54r4EIorLBS361L/C8ZVa16dud9tl9QCycj5aDV87fMmU3UbuS7CpYRxNYmi4PIDkjtd2e0iRcZGBEsFQWpz2Pde6fVCIjd/KW+yrpVeqlF1/Hi9E5VcjwEo/92ZmaqLdo6+LZmZFHz+hbIcNm0a1qwsZfReefiIKvFRGxqKxt9fkU1ejjSrkRcEQQt8BFwHdAPuEAShW+1Hwc1l5Vj2/Ijg74em0KXPp6P9ncbHB8M116CNlaR0NrMGa6Vk8OwWgfxj6sBnSUoAAe3DCEmsJLyTESFFKpHLjR9IiooXJCO+U+hBhMGpQJGrziVffQ3W/Hzslc0/de/TJpQDacWcznVOR9++qTvG7dvRRkUS4KPj96dH8Ox4tbJGdvXk+YcqwSO3Zh7VaTcMXGoA2T+9DtHR3uxsvpF1R7JZujcdnUbky9ilyn69Sn91nsPHPemqh0NKWuRQ2Ly8+ih9Xl2vGtlvPpnLmLm/qdb9fDSbNYey4KZP4Ib3pZVhiXDDe+oA6YVg9EvQ/0Ep6zXnaLOUI/7/jLWoiJSbbib7hRdq3KfqxAlVdjegzPBdE5RER/kJjcGAJiiI4u+komTtViwnoF8/6VyOh0PRV+r8CG1I09bAuhhp7pH8AOC0KIpnRFE0A98CE2s74OPsXKamVVC08Sg6bTnCYUcVuQ6j1QW4AG2Y1FjCVqWlqlD6Ty9OCaA80111EvefT9Hqq/1QHa6GKouNXlWfMK1yFpnFTpeFxiXSnjz0atIenlGfz3xe9GkdRrnJyi/HnKPlzlvXYisqwu6oiKfxMFMIC5DUR0UVFiJnSPcp1jVK0mgA59/k5NI40qZLAavr3v+DGV/tZdfZQnqLJxlSsLSWc6h5drw0m8gqqeR0bjkLt0vBa9cetrOXHSI5t1z1MHt40V5mfrMPet0ulSVuaVr1kfIt5g2G/R6Sp7w0GlnSXLq25p4AKZNu4ty0u7GbpLiQKIoYd0klgO3l5YhmM8e7dMWWl0/Eww8TNuV2bC5ySZ82bQgcNBCNwUDuO+9iKy6WckhccC1fcLnS3EY+HnAVsqc71tVIW4uF3APS09VucTFmdy0DjbosgCZIGkXmHnQGOivzPI/49Imdnf5dkLoKOZZXHcikBANm9JhdqkAGjR6NYdgwZbli164G+egbQ5820pfObLUzIDGcIR0iiKyQlDG1daUJU+SXZjRBUrZrbZl+Co7aNXItLuM+qSql2WJmuvZn/KkiSVPDZ66haUeIv/TAuW/BHkbP/U1ZX+bSw9Zikx4uT3wnqamOZzWuhk6z0s4l9nNqnTSad4lb/GdjMsv315yF/P8R87lznL72Wow7d9W6nzVHGsSIFgunR41WjL4nytZLFUEtGZmYjh1HFxcHoohxuzORTRcehiZYPSrXBASgDQ4mYOBVVB48SOqDD2EtKCBw6FCCxtbRC/kyormNvCfntGo4LQjCQ4Ig7BEEYU9IpUi4xQ5BkoIkYZpDzlSD1rshgRJBp4M7Fjt/uINmKgE80eWW+rZ1yv40gYEkfDxPdZ7CBQvqfc2GkvPOO9huu4Gbukj3cNegtnz9wEB8gqWHWKu336rx2DBHjZy/LzuE1VeagViy6q9wKUp3ZpEWFpfz1J/fMUf4H3N0/2NaRwtofeGZNAhwlHV4Pg/aem6C0T7Sc0nWUocMVhRFLI6H6enccr7Zmcp17zt9rPUpt3xBCG0N8dJ0nxM/wof94fUYqCyipNLC3PWnMPwwDX54uGXv8wKR++67FH23pNZ9ChYswHIulZLVtdcMsmQ7v5uWjAxOjx6jGkCJdrvikileKs0iq45I2vegkVK3NlctvDY8Am2w03UY/++5ynvfdlJ3rqrDh7EW5KOLCCf2hecxjBqlGsRdrjS3kU8HXJtwJgCqR7Yoip+IothPFMV+kcUCxtw4LEIrAoddQ8BTS6TGEtfPpT74havdE5EzZ9Jh86+0W7nSufL696DtUKl9nIP8cum4jU8NY+F9aimdUC0DU546NjWizUbh519gzcrm5Z4BLHtkEDc4yinYysvQBAaiDa5ZmhnooyXQUQBtZa50z9vmf13v6+dud46y0+6ewojD+8g9GMzQwHSu8M2VlDh+wfCXnTB9tXv2rAv+PlruGOD8b3/5RkmDXlZlwWqzc9fnOymrshLheDD9Y/lh1fEFjQnSNhf3/yK5CgEKkqXXXZ9yOrecTkIaY7T7pAqWckG1yxTRaqXgs8/JnjNHtb74h+WU/SrFaERRVNrlWdIz3M7hitUxAIl51qHFsNvJeUtqSWkrLSVz1ixEsxmfpCQqduzAkpOrCCD8e0uCgfwPP1TOp4sIV2b2AD7tnYmHEfffJx3Xqxe2gkK0EZHooqJo/dGH6KKqNYm/DGluI78b6CgIQjtBEHyAKUCtj/j8X8F04iS+7ZMkdYWjWNRPh7OUhh2uRD7mbA/n087ZLSr21VeI+uuj6GNj8evs4suPSIJ716iaSuSXmzD46kiKMmDwdZfnhUySasT4JCVhPt08lQnl6SuA/dxZ+rYNVx4w5Rs2evR9uyIIAmsflx5cr5/TkxUQQcqRZIy1NAcXRZHKEoNb2XSfU9JnrCzQk+BnkrJNIx2VNw1RajdGDcSFOOMZV8RLD6fSKitL9qSz9bQkcaveXUumXr1uLxQaLdy6EK6827nu3DaySir5xdel+cq8QVCY4n78ZYJc+wlQCRCy/vEP0h+R8hmsmZlYHL1RXb/PnrDkZKOPjyd8+nQiZ0pFA8s3bqT0l1/IefttxVcf/eQTAJjPncVWVAiCgGHECPXJdDp82rVDF+k02LoIZyN4bWgogUOGUHnwIKLJpNr2/4FmNfKiKFqBR4GfgePAElEUj9Z+lIRfN7V65JGv9zHr+4Nu+0Xc69SDR721kOAJE+i0Zw9hLhlvnrDa7Kw8kIHdLpJfblapaqoT9/prdD6wn4C+fTElJ9fn9huMtcAZMCr66ivKNm4k46lZlP+xBUtmJvayujMvXQ3rueAY2pdkciKj5iYkJStWcvanYPKsdwEQce/dqu2iXYCSNElh0uWGBn2englO/6jsvpn1/UFOZDt9720iPOcTuPruLwp8Dc7RPEDRWR79xl1uyrb/KG9d6w9d6og2G2UbNirL5jT3elHWvDxMp6Uy0Pq2bTCnpNSo7ir69ltKV61WMk6j/vooQWNGI1osZDz2uEqy7NtBGlxYs7KwFhSiDQtDawgk7E5nV68uhw6ij4vDr6tTPlw9oGrcutW5LcK9kuzlTLPr5EVRXCuKYidRFJNEUXy9vscFjfLceMK1djuoFTA+CfHE/+tdtIbA6oe5sXhXKo9/e4Bvd6dRUG4i0lCzRE/QatH4+aGLisJWUoJoa/ofsK1IMvL+ffpQdfQo6TMfpXTNGtIefBAA386d6zyHj07D27f0BGBHbHfiKgo59es2ihYvZum0v7Jhv7NEg2g2KwklhculGu7+ffuj8/s/9s47PIpq/eOfszW9VxIghBC6hKaiIFKsoKhclWvXey0/9dquBcTerwW73ou9IvaGIiBiAQuI9A4BEkgnvWf3/P44uzu7yaZvSGE+z8OzO2fOzJxkyDtn3vO+31f72aS7a3zYzFb9PO5rG871gpo6O2//qo0hIsDzwXrXNPVgL2vi7aPTCNNEqmRxBka039M9tZeqL46i6h+tyWDgXYtZvq3p2Wx3oGr7DrYNHUbB/PmuJKLajAxkTQ3FX2m1cHdOOMEVfeaXqv6vlnzjWa/XVlxMyTffkH2fylg2hmv/RywpWo2G8h9VUZfYObMxxak3+dJlyyhauNBlvMMvuABQb/LOtTl3d6Yweb6RB56guWdNkY3UB+6hdMkUr73Bsbz9Vw5JsxdRUm9Wl1fa0Cee9PHH9GnlgqhT231HTin5ZdVENTGTd+KKWmlhEYKWIuvqyLpLxQtH33ST1z5x9XyhjXHe2N4Mjg9ha4RaSA145Xmy73+AoauX8elj8139Cl5/vcGx1tRUqvtrvvS6umDN0LcyyzTYz0yIn4mjk9Sr8Qi3mf20o+K5ckI/j8zg5KhAl9ZNWVdy1ziJT1MFSKbNQ9jrSBD5rl0f2Caz3x6Nfc2bsP83HvlGxWSvzyhu5GTdh9LvvnN9DzpBuekq129g21EjOHjbbV6PibxSFbapy9ESyWRtLfsuv5wDt/zb1eYeox50nOcivrlXLyIuvRSDnwqHdkbY1DhqMVtTUhi8bSvR13pKX/R58w3ivNR17f2ipsjqN6wRnaIeSpc08rdOuJ77vlI+wMxDldjs2mtfoRcJW/9hQwk89phWXWN3ngov3JlbSn5ZTZMzeSfOQr4tCk1sBbUHDlDnqFgVMGokSQs/IOnjj/EfoYklWVO914b1RkKYHzkBymD2K9YiFoJqK8l/5RVkbS01+zxL2x0aOprUlzbyv8l3EpxYSdyYIuwVVapAeBtZc9dJLLjqWADe/od2f168YBRzpw3BYBB8fM04Pr5mHMtvPZGYYHUP3v+jC5bdEwKSJ6qiNcBgod5INoVNpgYzxQRiqCmF10+h0JEPkFvaUCbicFObm0vO4080OTE5eMcdFH3+udd9Vdu1Qu/WIYPBaKRyYyOlGR1YkpPBaMRWoj3kij75hOotWz36uRv5gLFjGbRF8+QGNfIm3xyBxx5L+KzzG7QLs5nwiy8m+pZbMIW3Uzivm9HljPzageMot2gumK82HKT/ndprn3tCTVuRUvLhGrVAtHZfEYUVNUS2wMgbgtTqva3Ut0a+Ll/NCnu/8grCbMZ/xAj8hw3FmqoWjCMuu6xVleKD/cxUm6yUB4Rglppb4dKti8l7ah4li7/DXubp43/HrBatv8qoYvkJEwmMU29MtRVGpcHeBsxC4szbcsbO12dMUgRjHLP9MEdC188789mT59vfsc8ITwJgiEEZ+WETZ7Jy9mQiRcM4/wV/ZPCJW7DA/oIKMg4dPi0ce0UF6WfO4NDrr1PmpUA1qOLVxV98SdbsOQ0kBqTNRsUfWry7wWrFFB1NzT7N5dZ/2VL6vvcu/mO0WgvGoCCMwcGuxKOizz8n+8GHGlxbWD0nEMJgIGCcmhQEjT9eu26g5n6Nf6zt8hZxc+8k6qor23x8d6VLGXlL/2RmvPciy27RYldfXuEZzeJtJt9a8tz8+pW1NqSE6Ja4a5wz+XLfGSBbWTn7LlQLn6ZoT1+hM07YGNG2aABDtKeinsG5ECbt1BVq0sM1BhProzWf6KYht2B6RIW41Y25Ha5YQmup3LiJnSeeSMbVWgz534/uzTUTG9fUD/bTHgQHirqo+mNIAnZhYpRwLMD7R5AQ5o+f8L5O8+7v+ygoq+bTtZmc8MQPTHj8B/bmlx+WXICse+5VBWSAqs3e4x3c27cfNYLsBx5wrTlV79qFvbSUiEvVmkPA6NGYExJcyqzWgQMxJyQQMHo0Se++S8j06UQ67resqaH4k0+RtbVkzZ4D9dax/IYMIWjCBOrjTPhzXzhNWaHJaISddVaDY3SapkvpyRv8/QkK8iclCJbdMtEjW9JJdnH7X4EzDjU0IBGBLXDXOHzy5b+sJGDUqHaPA6BmlxatY4ryNPJOF46ld+vEkwbEqnG6J4e4YysspNbhrgm6fTYTdnhed0BMMAaLBWNYGLWFpUqSuBWULl/uqqVbnqfNIB8956hmj/359knKEBZUMKHlHqrDRoUN8mwRTDA6EnGi1SKjRdhcaX4WowF/i5HiylrS88sZ/dAyj3Oc+OQKrp6YzJzTvFf28gWyro6Sr9XCqCEoqEF1pNLly7EkJVG5wTNHofD9BQRNnkLQ+ONdyUkhp59GzO23IYxGrMnJVP6pai0kPvuMRx5JwpOaQqq5Tx+qt21r4Abq9cTjgCD0jOlexx03Zw6Bx47zcFUag1tW5F7HO11qJu9OSkwQJi8aLbtyy/h9TwHLtrQ9ciGzUL0yX3ysluVZv2SfN5wz6vyXXmpeF6YFSCnJnfe0dv56oV1R/7qe4JNPbhgX3AxXTUjmzcvHMvjZJ1k37WIeHnuxx/6affupy8sj+qabqDlDRc3MPk0LP0txPCRM0dHU5ba+ClPl2rUe22W/rOTgnDvJfsC7Zr07CWH+JIb7s7Qd97cj+X3PIfJx+JKFweW+MaEtFu8wz+K6E1Q0TmPuxV925ntt9xW12drvzxQXi93NxSjtdjKvvY49p09zKTKGnn028Q8rl0pdvrrnzkmGKSYGYVSJdpb+ya7zuLtR6pMwTyUwZt99j0d76BlnNGrgnecMnT6t+R9Qp8V0WSMPcO4YzxnsoLhgduaWcf783/jn22uoqWv9K6+Ukhs/UHopV4zvx9H9Inh2VpqrCHdTmNyMsLtfsq3U7Nnj4fOsn13rl5pK4nPPuiIMWorJaODEgTFYevXi/Cfm8Orrd9Drp1+Yc/zVVIVHUfq9ink29ulDgSPbd2BcMK9eMob/XjSKE1NVUokpJqbFMsvu1OV5GrDyX36h+LPPKHz/fVebrajIpQzojsEgGJcc2TW1bFBhqoXSsT5y7LUuPaX3Ej3VFK8cGci2B09t9DzeCsL7ktpMFcsefcstGCxWSpcscenJOBOWQAURWPr2pdejj7jClrPm3kXuvKdd0THu/++t/TV3W1NGvrVvn82R8sNykr9Z5NNzHil0aSN//5nD+Py641lz11Qen3kUkwbFeKgWfrK29eJQv+7WCgr0iwrkw6vHMSOtSc00F87CHQAV69a1+tr1qXWrOpVcL6bYVxgMAj+zkdCYSNL7DCE3cYArG/HUb/N4eukOjAbBoLhgpg6J5dRh8a6HjSk6mqoNG8h7/gVspaVUbd/RomvW5eWCEPT74nOMoaEeaxjObMm9F15E+tnnuBad3UmODiKvtJotB9tm6Ots9g6Jtf9i3QEufPV3LM5Ze4Q2q02begEfR2vhfKIsFz+zkZcvHMUbl41l+b8ncuvJWua1xdSxf3rOhKXQaae7slX3X3opJUuWsPvkU1z9yn//3bXW5JIFsNkomD+f/BdfxBgZ6SHra03Wfuam6qEKs7a+EjtntooY++ijNv885vh4j2vrtJwubeQtJgNpvcOICrJy3tjeDIjxjDCZ8+lGMgsrqK6zsXJXfvP66cAP29XsZMGVx7ZpTMIxq86++55WFzyoj/NVOWHeU1iT+zXTu/0EWIysH6eUN0vMAeQERvLrngISwvw9smWdOF/N8198kX2XXEr6jBlIe/NvT3X5BQRNmYzfwIGY4uOp+EvLDnW+GdTsVgvqVdu2Nzi+X5SaIZ7+nPeIEHdsdknS7EW8+IPKtvxpRx4pc79l2L3fsemAb+PUnW+ABTiSbtxKBo7uG8HfjnOLv17zOpQXcNrweCYNiiE5Ooj+0dr/34qajs0FqM3IBJPJlUzk5MANN3ps2/LzXffU6ZJxJ2ymZxKcKT7e9b3+m2djhF9yiYoYGz6sRf11fEuXNvL1SYlpGEaYU1LFNxuzuPDV33nl5z1ejvJkQ2Yxab3DGNe/banNg9b9RejMcwAo+2FFm87hxDmLDT7ppHadp6UEWIxsCe/D3HFX8q8TtaQrb3o9AJGOqAr/0aOpdrhWbAWNF0R3YisrxRisDKEpMtJD72f3yad4RPZU/P5bg+OdRr4lOMsTPrlEPSxWub2prdl7yOsxbWFDpiYP8XDtRRTP/KBhaKnVTUBu3bvwoadMxPgBUSQ51n5ySzpG6M5JbWYG5oReCKORmDvu8ChabQgNpdcT2iJptRe3mZOYW2722BYGAwFjxhDmJRa9MVr6MNDpGLqtkX9ghpo1fb0hi5sXKk2bzS14vd+eU8rg+Pat1kf/S4mi1RW0b/HMVliIITTU49W2IwmwmFixPY+1sQPJDdTCMoP8vBt5YbEQOGGCxyLz7ulnNDubt5eWuVwA3sI/d47TshsLXnmVsl9WeuxPimp5NM/OHOUKklJp6btnLvsyDPOtVdoaTD6hWAd50SO31puEHPKcdAT7mVlx2ySun5RCQXmNR5Kfr6nJyMSSqLKXIy+/jAE/rmDAr6sI+/ssUpYtbXTxc9DGDa6QyeDTvK8p9H33HeK9ZJXWJ/CECQSfNLXZfjodS7cy8gEWE+vvPZn0R09n8iAVA/7Gyr2u/fsKKpBSsq/Ae3ZfZY2NoopaV6m8tuJciLIVtH2mKO12Spctw9jE4pWv8Tc3fB0HMDYx0zIGB3nM3u3FxR7FGgAq1693RQlJux17WZkr3NTURIx/5D9VnYBDb73l0W41Gbl6YnKL/NbuWaVbskrY6HDRhPqbvUpgtJXKWk/3itXb2Jzuwn4nQNqFqiCLFxdiQrg/Nrt0ZV13BLUZGZjr1S01hYcTf++9DUISo2/WZuvCbCZ2zmz6L11CfAulNBqjz/z5JD7/fLvOodN+upWRB/XHK4Qg0ktc+5asEt7+dR8Tn1jBuoyG6ovOP3pn+nxbcc688198sc368sWffkpdTk6TFXF8ja2RNYtf9zTughFmS4MxFrvr8wN7z59Fwfz5FH74IfaKSpASQ6BjJu94IIaddx4Rl19OwjPPuI4LmjSJ0LPP9hplE+JnpqbO7lED1hvuhvxAYSVfrFNj7RcV6KoT0F5+3V3ANxs9C7B4dUGEOnR/kidBzBCoKYPKQqirhg8uVLViwTVB+WlH6yOXWoKtqAhbURGWvn2b74ymt+6OpXfvI6I03pFAtzPyTvwtxgYz05o6O+//rpJ8vC26vfqLen2OCWldSKI3nAp67hKmraHGseja66kn2z2WFl/TEXL62DnDef7vI13tXmelDixJmqGIuvZajBER2A4Veu2bfc+9WpikI0TQFKPCMe1lpcTecTtB7mqAMTFYU1Kw5ee7MjOdhDhcSM0lv+WVVhMWYEYI2JatSTVEBVnJL6vGVlZO/ssvYytrm6jcGyvT+fsrat0gqblciuhUuGEdHH+TqioFUJwJWetVZakvrgcgNsSPUH8z6fm+FbpzUp2udO0t/ZKa7Gfuq2L56ys26vQsuq2RBzzqsToldp2JTrleXtV/dMychvZqvMJSS3HG7GZee53XMMDmsBUVYQwLI3Ta4Uv8qHP4gCMCLZwxohdnpfUCcBUb8UbkP//p+h5y+mn4DRlCTbpWHKN+UliRI0wuYKR6iFgcLgODYyHWEBBA8CmnYB0yGHN8PKY4tSBYPx7/mGT1BnDikyuazIfIL6smPtSfmGArmw6qB3tSZADRwRbyy6rJ/Opb8p59jsyHvWueFJbXNPq2YLdL7v9KK5Zx/4wWRIdE9FMFXkIdrpLiDKhr+KBKigp0LRr7grrCQmStSryq2aPuT3Mhh/0WLiS5mTJ9Ot2fbm3knQtX3910AjNG9kIIKHdICJdUemYa1tTZyThUwXWT+rdIcbI53F9l8+fPb6Knd5xG/nBy8hBlUJ3RNE+fn8auh0/zCO2rj/uisLl3b2r27qX2wAFKFi8GlM434BKoqs3IIHDCBFdauv/o0fT6z2PE3Har6zwJzzxN8qefIkwmVzWfunpRO6mxmt+4Kd91Xmk10cFWeoX5s9nx9nbPGUMcM/kaih9WWbZZB3K9Hj/ywaVc8pr3otM/79Ie3pcdl8TE1GieOT+NhVe1IPw21KE/X5QB5Q3dMv0iA9ib7xuxMllXx85xx5HlyC6t2ZsOZnOThd9B/R+2DuiC2hE6PqVdRl4Ica4QYrMQwi6EGFNv3xwhxC4hxHYhxCmNncMXpMYGYTUZMbj5Sesb+f2HKrBLmjRorcHdJ2uwts79Yysqovynnw+7kb9xygDe+cfRrvBRIQSmFmReJn3yMbF33YXBanVlS1auW4+UkpxHH0NYLMTNnevqb07o5fouhCB0xgwPFU33350pSo0l5zGtSHnxF19Q+MFCl+yEuzTAhswikmYvYuFq5ZbLK60mOshK34gA1wM+LMBCiJ8ZIe2Y69SbhqGsYWUtZ/WmP+qFWkopue79tVz6umb8A63KNXjWyATXW0aTBDr0gBbfAbuXO39w1+6kqEAOFlc2u+bQEmr2q8Sn4s8/p+jjj6lOT8fSp4/uhtEB2j+T3wScA/zk3iiEGIKq5zoUOBV4SQjhPbSjHSy75QQ+v+54l9FwD0n79K8DHvog2x3+2mQfGXmApA8WAA1dFk4qN20m59FHGyRpFX70EfbycgInjPfZWFqCwSCYMCC61XHL/kOHEnHRhQCEX6J0cAwBAZR88w11eXnE3XsPfoMHE/l/qjKQwb/l0UtmR7JO9bZt1DrS6A/eMZvs++7jwmPVbPhQeQ1Lt6giMme+oNZAXvk5neo6G3ll1UQFW7jaTd2yV6g/NikJrHVzkxxquLjsHqsupcRul9Ta7Hy3OYdFG7Rs5Bsmp3DdpJQGxzeJ++944yfq06Y9rPpFBSIlXqWH3/t9H899v5OckoZunsrNmxtEN7mXpMy6625q0vc264/XOXJol5GXUm6VUjZMWYQZwAdSymopZTqwCzjaS792kRITTFrvxmfDl72hZmJ1Njs/78wj1N/MMB/44534p6VhSU6mfPUfXg19xv9dw6G33qZ81SqP9pp9+zBGRhLtKGDcnYidM0epGhYeIu+ZZzHFxRHiWFfwH66SgwxNpLvXxxAYSMLzqjZqXdZBjwdiuFH54vPLqnlr1V6P4wbGBvPd5hxqbZLj+kcxOF67rzHBVi4+ti9RNmVAy0x+WIo9Z+tVW7aQ/6mmkHjpG6sZcf8SBsz91qPG7F3TBnPLyQMJsLRhVnzOK+qzzhGvX6GNoW+kCp096emfGkTZzP1sE/OW7uCYR75v4KraO/Nv7L/cMxqmft3hmt27XbVRdXQ6yiefALhX+810tDVACHGVEGKNEGJNXhvEsNz570WjuGf6EFe0SJ1d8vTSHaTM/ZYPVmfQJyKgRe6J1hB+0YVUb9nqEv0CKP/1V4o+/QybQ6ir4H/5kVvXAAAgAElEQVSaz742J5fKtX9h6d27wbm6A0IIVeu2sIi67GxCp09zCagFTZpEwrynXOXfWorzd1GbneMRZROcn018qB/fb8tFohn/sUnhFJRX8+3GLHqF+jEhRblGzh6ZQO8IfwwGQaDVxGfHqYdNTlQi1spyDxmK9HNm4vfkg5jsKv79px15lDr0bgrKtX7/nNAyvZTcp+ax94ILPRPFjjoP/N3yBMpzXXHz/SK1/IjbPl7Pks3ZHm8PTjZmalFi9iptZm+vqKB6TzoFb7xJ/gsvYAgOJuRMrdh60MSJ6OhAC/TkhRDLgDgvu+ZKKb/w0g7gzR/gNUhbSjkfmA8wZsyYdqUAnjpM6Wr0iQhg/s97+CP9EM9+r81yIltQGKS1hJ11FjkPPOjyiwIeMy1LcrJLsVJKyS7HH19rDWFXwhAQQO3Bg8jaWkwxWrq8EIKQ009v9fnMDj2Umoz9WN2kbOv2pjNpUCKf/3XAwxUXFWRlXUYRcUs+5wZRhMGg1BOfPj/N47zOeP6Dian0z96FLS8PQ73FyD4lOewJ82x77NttgHIHNoesqaGusJCCV9Ss3V5R4VnFKyACKh0zeFuNSpDyCyU0QFvQLiir4ap3lEZ7dskQj/NnuYWQ5j6hhdtuHzXao1/AmDGYwrUHin+a5+9C58il2WmtlHKqlHKYl3+NGXhQM3f3qWoicNiyfqYOieV/F41u0N5YCbr2YAgIwBge7pJ2dUeYzYTOmKGSnnJyKXj1Vdc+/9ENx9ddMAQEULNLCYK5a6K0FWNoKObevTn06msu9URQVYtSY4KoqLFR7QijNBkE0cFWsoqruHrTl4zY+JPHMe4IgwFraioFyao4R8Frr1G1w1NJM6K6hPkXj+Yih//fnZSY5uUvChcsYNfEE13b9vJ6PvZgh6CXxWH4yxq+rda5PcAe/HqLxz531dWq7dsaHYcpLpbgk5UGUvLXX+l6MTouOspd8yUwSwhhFUL0AwYA3uPUOojwQG3WPqqP8ts3lb7fHvxHjKD0hxVIm83DN9/3vXcxxarsxl0TJ3LoTS1939KnoVHpLhgCArBXKGPWmgLjTeGsCXrg1tvUdmgoFWv+JDXc4iENcNGxfYkOspJSpMlMV65b7/WcdQUFWJKTMToqbhW+v4D0M2eQv1yrOBZYW8XYpAgenDGMe8/QZtHXTWq8TKE7FWvWeGw3KJjtjJdPdASfuYVTLrvlBP57UdMVxtx98rb8xjOTo2+4gYDRoxm8bavuj9fxoL0hlGcLITKBccAiIcR3AFLKzcCHwBZgMXCdlLL9sWJt5KyR6nXcWTDa14RMm4YtP5+Sr78m3/HaDqoGpik62rXt1KM39+7dvY18oPo5REBAi1PnmyPQkQkrKyowBAYSNGkSlevWEX7OVM7csxKLrZZvR9u4e/oQ4mQlz6/Q5BGqNm30es66/HxMUVFYYj1r3eZde4123dpK/C1G6nJzGTP/YcKrSugfHcgNU5p/eFXv3EnpUs/SfvYKpZ/kWkAe9jeISoXRl6ntci1ePyUmmJOHePOEarjXNK7LzSX8ggtcmapOQqZPx+TIwNbRqU97o2s+k1ImSimtUspYKeUpbvsellL2l1IOlFJ+2/6htp4Prx7Hs7PSmDW2Dy9cMJJZYztmsTPQUWH+4B2zyX/+BQDiHnzAVd3eSW1GBgFjxpCydEm3jmEWjoeV38CBCINvXgajr7/e9d3Svz/WgQNd2+OyNvHx13fB3XdQs3ULA3M91R0PvfV2A/0be3U19tJSTFFRBMZEUx+bMDjOvRmryUD2ffdj+n0l7x9lZ9ktE7GaVMSvrayMzJtvdoV3ulO5YUODtoO3387OE05g398vUA0DpsL1q6GfYyH0w0uUlo0Dg0Ewsk/DCLE3LhvLJeP6UuzI9yj7+RfsFRXUxCcSPEUpO/o5opn8hg1tcLyOjpNunfHaHEf3i2BGWgIWk4HpR/XC4KVmrC8wRUW5DJ+T4KnqD9Havz+BE7UFvJ4Qv+ysF+o/amQzPVuOMJlcqpTxDz2Iv5vhSsvfhdnxImjLzyfRpIU4GqOVKybzOvWQsFdXU/jRR1p90qhIwkMahnSuj1IujTG52yn58kvKfvgBgBhqPPzZxZ98Qum3iznw71uwFXvqIVXvVOsSlqQkej2ukrlq9uzBlpdPZf3KYQERkOBYh3k4DpZqtU+fOncE54zSFn9/nTOZSYNiCPU3U1lWwaEPPyLjyiuxCQP/Ku1D5JX/JPrmm+n75hv0X/ytSxpYR8cbPdrIH04Grlnt+h59042u12dhNHrIrVpTBzY4trvhjIAJP+88n5435tZbGbxtK36pqfiPGEHAMcc06FP4wUKKHCJo1rNnEnnZZWqH443i0JtvkX33PRS8/joAxqgoIgI9F9x/SBzJ42MucG0fevsd1/faLM8wxrIfVZ5f5Zo/ybr3Po99VVu2YB2QQr8vPvd482iUK76D6EEg7bDyWShR10qODmLeeWlseeAU3r7iaFeVrv6bfuXzL+eQc496ILw9+BS2HqrBFB5O1NVXYQgMxJKUpC+y6jSJbuR9hLvbInTGDI99BouFwPEquzXg6LGHdVwdQdQ115Dy048+88d7Q1gs9H3rTZK//sqjveyHH6jepqJM+t1/DxGXXw5ms2ssh958E4Byh3E2x8QQFqAtwuf7h/LKsDMotgYR5aiOVLV5MyGnn46lf3/qsj2NvHuiUenixR7ZpjXp6fgNPwqD1YrfwIENwkcbFFcxmuEfS2HGiwDYctPZOmgw+6++GlD1Ek5I1VxLA+drUg9y6HA+TJ3SpuL1Okc2upHvAIyhoQ3a4u67j9g778SamurliO6FsFgwx8Q039EHWFNSSPl+GcnfLHJp07uPQxgMBI0fT11BAfbqamyO0oK1Bw+C0Yilf38iAix810clXD9+xZMU+qns2MiTtbKL1tRUzHFx1GZpuvFSSurqSSA7cyDsFRXU5eVhTtTcLGH13mxqMzMbSBDgF6Jm84AtU60tlP/4EzWZB5r8PZRceKXre0dJFOv0THQj70P6vv8eYX+f5bWKvSUxgYhLLtZfrduAOSEBa3Jyo1WmjCEh2EtLqcv2LOxhTU3FYLUSHmjhmVHncdqMJ/jvxaOZMCCKlbMnY7Ba3foOwBQfR63bOezl5VBbS8gZZ+A/Sgt1tJWWUvD6G4AmpazG4RlXn/3QQ+y//ApKV6zwHHCQekDa87X4fvuSRyFPxfAXffIptTm5CH9/FiUfxxfzPiUnWQvv9GXFK52eT/cN8eiCBIwaRcCopuOeddqB0bvGnSEwAHt5ORWr1bqIdcAAqnfuJGCsik13FiBBCBLC/HnnH26+fiFASvxHjqRqy1Zs+fnYq6sxWK2ut4LA446j/OefcFaMrdm/H3upqiccfIomsGqsF8ZY7UgYK3z3PYJPPFHbEZIIIYnYdmmzfNuahVC2ippzviRr7lz8RhyFrKykNjqOPfnlRLrJYxdV+Kbilc6RgT6T1+k2hF94gceM2okhMBB7RQWF7y/AFBdHwrynCJo6hagrlYtDCMFtpwzko2vGNTi277vvEHPbbZjCwzHHq5j1jH/8EyklGVcpX7k5Po6Q6Vrh69qMDGxlZZhiYjzeBkz1XFh1B5V/v/yXX6hc75awZTBA77HYc/a6mmw1BqgqotqRkVu1WWW++sXGsDuvzEPewF16WUenOfSZvE63Ifzccwk/91yqtm3DXqrpwxsCApA1NVRt2ULUtddiHTCA3i+84HFsY1LBAaNHE+CQmHDWpa1Ys4aaXbuoSU/H3LcPAUcfjTAYSPnxR3ZNnEjN/gzsZeUYgjxlq4Xbm4YxKgqbW8WwvGefpY8j4qcuPx+MsdiLCgC1PmCvEcjaajKvdSiT1imxtNDEePZnV7D/UAVxIX5kl1Tx4848zuugnA+dnoc+k9fpdvgNGkTAWC1KyeCWo2DykvjUUoKnTHZ933PGmQAkPDXPFTlljo3BGBVFzf592MvKMAQ3rE3Q+9VX6bvgfVf5QyfCz99V9P3ATTez884vqS7S1mdqSk3YyusanC+2XwJ1dsmyrTkMS1APhEUbsth8sGENYx0db+hGXqfbYwjUZHuN4W2XrhBmMxH/8NRqN8d5CrCZ4+OpO3iw0QLuQeOPJ2DkSMIvuoiAcccS/5iqLVu2fDm7TpxE9e7dLr2bgq3BGEMC8R+YSNlBP2xVDY18ctog13f3koiHynW/vE7L0I28TrdHuPnFDUGBTfRsHlNklMe2sV5EjykmhvJV9cIivRB4zNH0feMNws46y9VmKyxkz7TpHv0ssWGEjUumuthMaYbS5e89/3+EnXcegccfz4Be2mLu+JQoLj8+CdCNvE7L0X3yOt2eoEmTCZ0xg4q//sJvyJDmD2gCg7+jAMrkyUT93zUNtHnc3UEJT81r17UALJEWQoZHkAXkbVTuGENwMPEP3O/q89S5I9iTX8axyZEM6RXCGyv36mGUPuCOjzdwXEokM9KaLnje3dGNvE63xxgUSK//POaTczmlok2xMa5yhu44k8D8hg/Hktgy4xD971uo3radkkWLXG3WwYOp3roVS3AthtoSj/7u7ieAmaO1WPxQfzNmoyC/rAa+vhmGzYSkw1sruCewPbuUhWsyWLgmgxA/M5+szeSWk1J9WgO6q6C7a3R03Ag580wCxowh6p/eK3c5wyQNAS0vVh515ZXEP3A/prg4om++mX6ffoK1XxIAAeGlsO5dEicUENKnAmG0u0I5vSGEICrISklJEax5Hd6c1uJx6Gh8tV6rYXT5m6v5ekMWk5/6karaTlNE7zD0mbyOjhum8HD6vvtOo/uds+zWFCt3HjdgxQ+u7di5cwkIyMBfLAEgeOIJBPefDN/NAVMThmbfr/xafQ4z190L1sa76WhIKflxRx4TU6NdGefbsku89v38rwOcNCTWI/msu9PeoiFPCCG2CSE2CCE+E0KEue2bI4TYJYTYLoQ4panz6Oh0F5xCaEGTJ7XrPKbISMJPn4hL5WLakxDo8PeXZjd6HGteA+A9yyOuJnl/BHx6FdQXRNMB4NO1B7jsjdV89KdWTawx/Z/Zn25k5surDtfQDgvtddcsBYZJKY8CdgBzAIQQQ4BZwFDgVOAlIYT3nHQdnW6E3+DBpKz4gbBzz23/yYaoWHx6jYLwJIhyVKPK296wb+Fe+O942PiRGofQsl6FtMGGhZDtvQzikU5emVqk3pGtJdDlljS+cL23oIKDRZWN7u9utLcy1BIppTO49zdUwW6AGcAHUspqKWU6sAs4uj3X0tHpKpjj4nwjNBfWB27dCRd9orajUlXB782fNuz70xOQ7b3MoYsih+BZTTmU5zfd9wjC36zml2XVylTZ7JLS6jpOHx7Hk+eO8HrMcY8tZ0dOqdd93Q1fLrxeATjL/CUAGW77Mh1tOjo67gTFqKpRAJYAOOp82LkMbG6JUXY7/PWux2H7z1/G+dV3e57r0B7YuxIWzIIn+oO95y0itoWfd6oHXml1Hen55bz/+z4ARveN4G9ukUv1WbWrZzwomzXyQohlQohNXv7NcOszF6gD3nM2eTmVbOT8Vwkh1ggh1uTl5XnroqNz5NBnHNSWQ76by6Z4v2efwGj6DB7LrPNm8X6dJsXAsnvhzdMhXRVMYe1bHT/eLsif+w555BEs25oDQH5pNZOeXMHdX2wGVDgqgMVk4JyRDeeg23PKDsNoO55mo2uklFOb2i+EuBSYDkyRrhL1ZALuCkqJwMH6xzrOPx+YDzBmzBivDwIdnSOGmMHqM3crxDrq3OZu0/af9gT0V4b97JGJVO+OgU1QbIoitK7ezPPnp2GMp0zDkcDMl38lIcyflbMnu1w0APsKKjz6VdaofTseOg2AmBA//vvjbtf+nJIqegLtja45FbgDOFNK6f4b/BKYJYSwCiH6AQOAP9pzLR2dI4KoVPAPh7Vvg5RQtF/FwwNMewqOuQqiNEVNa5qqRvVcpRbAVi3N5EeOgdIsdY4jCGec+wHHwqnTUEcFWch2M9onDozmlGGe+QizTxvEfWdoGdPLt+WyNct7qKUvKCyv4Z1f9yI7+B611yf/AhAMLBVCrBNC/BdASrkZ+BDYAiwGrpNS6g5CHZ3mMFlUBmv6j3B/GDwzHHZ+B32Og7FeErRSpvD4sb+zyHasq2lQ9RukR4wHey18c9thHHznU1zpqbXvjKI5JlkrHfnfi0bz5uVHExPs1+D4v43pzYy0Xq7Q1mvfW9thY73ny83c/cVm/kg/1GHXgPZH16RIKXtLKdMc/65x2/ewlLK/lHKglPLbps6jo6PjRo2XGG5D4xHIFxzTh2wiWGYbyat1pyExUFXlmLWufqWDBtk1qW/ks0vUjH5sX03obVSfMBojyGri2VkjSeut+qTnl3u4fHxFVa3NlXXrzciXVNVSa/NN3oMua6Cj09UYerb2/ZRHIOUkGH9zo90TwwO4Z/pQwv7xKWFnP0l8qB/pdZEN+m05WEJBWc8WNnM38nM/28jNC1XuwIy0BJ6dlcZvc6YQE9JwBl+f/100musdhWZW+3imXV1nY/x/tOznVbsLPPZX1do4/tHlDL/vO5+UetSNvI5OV2PkxRA1UH2PHgQXfQwpU5o85Irx/RiTpEICB8UFs6DyWBjo0LWx1SGl5PTnfuZv/21eJrk7U+xWGvG937WopLAAMzPSEogLbd7Ag1qEdco67y3wnh3bVuYt2UG+42EbFWRhe714/K1ZJZRW11FVa2+wWNwWdCOvo9PVEAL8HS4FU8uMkjsDYoPZml1Kabyjpm11iUt/vrF0/p5CfXcNwCXj+rYpeS0i0IK/2UhmYfuyX7dmlXDLh+uoc7hf/vfTHte+sUkRHCqvcWXY7iso5+yXNFmFQn0mr6PTQ5l4OyC0kMpWkBKj5HLvWXJANVQWktFOQ9VdcBp55+/ghNRoHpgxrE3nEkKQGO5PZmH7ZtP/WvAXn649wAs/7PJ40wCYOSoRg4A3VqZTa7Pzzq/7PPbrRl5Hp6eSMhXuK9KyYVvByUNUycJiHLr0VUVkHNIMVUWN7xcSDwtbv4aSrEZ32+yS/yxWOQVPn5cGwFEJoe26pDLy6gF5sKiyTRW5aurUDP6ZZTu598tN9I0MINhqon90IMenRDFpYAzfb8vljOd/4dVf0gG4YYrSMTpU3vDNpLXoRl5Hp4cRFmDho2vGUSKV5v3StTvY5+ZX/sWR5k9lEeRsVrH4XZ2qYlh4IbxxKtR4n1mf+99VVDsM6vDEUFbPneoylm0lIdzf9YA87rHljH5oaYuPzSmp4onvtrHf7QFbWFFLebWNM9J68f2/T8TfYmRAbDB78srZ5hBQu2vaYG6aMoDIQAur0w+1e/FVN/I6Oj2Q8AAzxSiXxee/buHJJTsItKgwzJ25ZVBXDf/pCy8fp2LxKws7c7jNk79LfRbuhUfilS6PmzZPTZ2dtfuLAJhm+A0KdhMdbMViap+J6xcVRElVHQPmfgOo3LLquuZTfqSUHPPI97z4w26P9l5hfpRX17nuBUBytGclsN4RARgMgvEDoli8OZu0B5byw7bcNv8MupHX0emBhPpbKJbKeISKcszUceuJ8QyMDWbxpmz49g6P/jUvjCOruBP99rVVMG8ovDFNfa9PwU7P7edGwlMDXZuuaBWKedHyHLznAyloYEi8qrtba9OyUrOLm5c7eLueb31QXDCJ4f6UVduorLURaNUUZU4cqNUNTo4K5Lj+Kvw1yq1wybu/eZ6vNehGXkenBxIWYKYE5a65zbSQ36zXcflPJzAhJZKduSWwbZFHf0t5Fqc8/VNnDFVRtB9KMmHfL7DpY9W29h0ln1xTDssfqtd/H5TnudQ6cx2CZKMMO9T+Eq9SWa1mtFsSlZMDXhaxd+aUcsbzv7DlYAmF5TXc++Vmj/1PnjuC8ACLK4om0KIZeffM2+//PZFgPyWcFhlkcbWvyyhi4hM/8M3GxtckGkM38jo6PRCz0UAVykiEizIihfL39jXmEV6bD+W5MO56j2NKqrQF2YNFlSTNXtQwG9Nug5XPQZWPNF0y18C+VbD6Va3tr3fhUDp8eb2STf7tZSjO8H78+vcBbXYdI4oc42z/giUohcr3rzzGc8heCoqc9PRPbDxQzDPLdlDgWJzt5YjJHxgbzLCEUKKCLGw+WAx4GnB33EM9IwO1PgXlNewrqODJ77wUlGkG3cjr6PRQ0h+dRqX0NCb9qzYzxuAwFEPP4dDoG7weuyFTGaNnv9/huWPHYlh6N3z/gG8G+eoUeOM0+ON/IBzmaP+v8JyKjqFgF9gcC49jr2x4fMYfSCn5bY/KGv33scGq3V7nXR6iDSSEedbzrV81yl13fsmWHG5euA6AG6eqRd/zxipB3lB/M1W1amG4V71z/nTbJJbdcoJHW99IT189wKD44FaPXzfyOjo9FCEE/6r9l0dbQvYyLjctpkT6Y4sbwUrSXPuMwu5aVLTZlQ86Pa+eofzwUvVZ3QFVk27e0jD5q64KfvyP+n6S24Nl0lzofQwU7iX73au5eM1MAMJrc7Q+WRt8Mqze4QGu7zHBVg93TWF5DRe8+jsA/xzfD4CNB9QDsndEANsePJUrHJmzydFBruN6hXoa+T6RAaTEeBrw4Y7wz6mDY1xtAZZm1eEb0PojDjO1tbVkZmZqgktdGD8/PxITEzGbzZ09FB0dAO759638XnydUmF8+yz67llOXwNss/dmzZoD3LXSjz2mc7jR9CkBsoqsoiqSogJdSTgH3RcZc7ZobhCTd3dDq3CvXHXuWxASD9YQZdjrE9xLVc66+HOIHQZB0ZC/EzJ+J77oZzDARcf0hv1/QNIEyPgDtn4Jfce1e5gGg+CmqQNIDA9gwR/7Wb33EEmzF/HoOcOxOqJ3BsUFMyYpwhXnDkrszM+sRdFcM7E/85aqN6PYUCvNEWg1seLWE4kL9WPQ3YsBTUoZYG9+OYs2ZnHemN6NnQLoBkY+MzOT4OBgkpKSfFNXs4OQUlJQUEBmZib9+vXr7OHo6ABqhtgn0jETjRkCe5Qw1iEZzF2fbwIgS6qEq0AqySisICkq0CM2u9Zmx2w0KFeNE1+UFixxZOROfwaGnqW+X/IFvOzFMF/9o/rsP0lrC4xSC7AO/jU2ANanw4i/Q3GmWpj1ETdNTQVg1e58/tynwk3nfKpq7oYFmFl0wwTW7PVcv6g/63YP57SaGlcVdScpSrls/rhzChOfWOEy8na75MQnVwDw5qq9TZ6jy7trqqqqiIyM7NIGHtSrcWRkZLd449A5QgnSXvur0d42y6RyHQSJSlZsz2PC48tZskW5PZLFQWp/fEq5Z7I3QFhfiDsKCvfBwb/aNx5nxavoQVpb7BC4twjmZMLxN6o2a6jH2F0EeCptBuc6xhPWW+3b+BFs/qx9Y6xHn4iABm3njk7EaBCYjJ7mNNDaMkPeEmJC/BgcH8yyrbnMW7KdZ5ZpayXupQ690eVn8kCXN/BOuss4dY5Q3AxlBZq7oAxl5Acas3jN4W7IOFRJIJUst94KPwHr3wZrsNLSsdXA7uUw/0S4KxdMzbsePJASfn4Klj+otqMHeu4XQl1LOvTUpz3l/Tx+npIF1nz1ZkJIgrbvo8sgaz0ce51y8bSTWC8yxc6s2mEJIZw+PI7s4irW7i/yiIV38s0NE7C3sRKUU9f+ueW7WnVcu4y8EOJBYAZgB3KBy6SUBx375gD/AGzADVLK79pzLR0dnXYSFOv6ut3eB4DeEf5ce9zRsAz+ZfmaRXVjXX2+inwenOuuxfshOB4SRnmGM5bnQWhiy8dQVQyP9fFsa0yf54TbISIZhs1ssKvOZmdTSRBpwLN1Z3Oj6TOMq55RO6MGgPuE65enVabsuW+2fJyNEOEIa0yKDGBvQQUPnjXMFdduNRl56cLR1NTZySquJMSv4drckF4hbb62N4XNltBed80TUsqjpJRpwNfAPQBCiCHALGAocCrwkhDCd+8uncBnn32GEIJt27Y131lHpyvSR/N1/882HYC5pw/h6OOUVr3F6jkjTy5f53l8dalaGM1zi9Uuy6FV5NWL8xZNmCC/EFWI3NCwzys/p3PWsmAmVD/Nu3Unee4MjldvAu7UtV/NEXAtpI7uG8GG+07momP6NOhjMRm8hj+2lyuO70dYgOeDY/P9pzTSW6O95f/cMyICAed7yAzgAylltZQyHdgFHN2ea3U2CxYsYPz48XzwwQedPRQdnbZhCYC52XBPIdWORKkpg2OUER32NyJlE/o1RivUlCnjOeNFCHS4fsry1CJsWQu1VeonNV36dat/jN/3FDjUJgUZMlZT23QiBCSf6NlW7ZvkrfEpUdx2ykDumT6EED/zYXXRXj2xP+vuOZmlN2vx9IFWE9HBTbvL2r3wKoR4WAiRAVyIYyYPJADudzPT0ebt+KuEEGuEEGvy8ny3Gu5LysrKWLlyJa+99ppu5HW6N2Z/MBj45P/G8eucySpqBiA0keDqHATKDz7Uza1gwwA2x+KeNUhVqbpyudre/ys8EAFPDlCiZ/VZv1Atfq56AZbdDx9f4bnfr/Xui4te+91ju8ZtEZm/O/4+R13q6bOv8Cyx11aMBsF1k1IIDei8MGmnVv6NjrWAvl4Wg91p1icvhFgGxHnZNVdK+YWUci4w1+GDvx64F/D2ePO62iClnA/MBxgzZkyTKxL3f7WZLQd9lE7tYEivEO49Y2iTfT7//HNOPfVUUlNTiYiIYO3atYwaNcqn49DROZyM7lvPDx6aiEHWkSyyyDL3YdENE+BBC9hq+L+aG5lveRqA3Qdy6Q8Q6FjEXPmMdo7yfAitN5f77KqmB+LXer13d7EwJ/nTXiWq5iAMPE01CAG37oJl96lF4twtSh8nrKF7pbshhGDvY9Nc264Q2UZodiYvpZwqpRzm5d8X9bq+DzhXSDIB9wj9RMA3ikGdwIIFC5g1a0nCTyoAABZcSURBVBYAs2bNYsGCBZ08Ih0dH+OIvFlsmU2wnwkKdoPBRG7vU1liH8tDtRcC8NVmRwq/2UtZwop8z+3sTQ37hCTAZYvg7wvhn9+32uhKL5Ep7/zjaKLGnquFXDoxWeDUR2DGC2p7/+8Nju0QSg7Cn29BhW8LgDfGDZOb1sxvb3TNACmlUwP0TMC5Kvkl8L4QYh7QCxgA/NGeawHNzrg7goKCApYvX86mTZsQQmCz2RBC8Pjjj+shkzo9B8eirFnYeP+SIfC8KjsYkzKGGYG9eHXd6WTJSDYGHc9N9Y8ddz38+oJH8tGMF1cy1z6/4UKc0QxJ41s9vOKKWqrrbA3CEj+6Zhxjk5qpnhU3XC3w5u9oup8vKMuFeY6SjVnrYfq8Dr+kM2GqMdrrk39MCLFJCLEBOBm4EUBKuRn4ENgCLAauk1L6IEXu8PPxxx9zySWXsG/fPvbu3UtGRgb9+vXjl19+6eyh6ej4jqAYOO1xAPq/6lZXNmUK0UFWQLDIfiwWPzfNlat+hOv/hLH/VNuLbgVbLfll1azPKCIsb7VKZHJn6NltGt6053/m6Ee+9wgjDPEzNW/gQcXxB8XCT497XzfwJe7FV9a8phamO5n2RtfMdLhujpJSniGlPOC272EpZX8p5UAp5bftH2rnsGDBAs4+2/M/5syZM3n//fc7aUQ6Oh2EsZ4ezUWfQsIootyiN6SULNqQxard+dArDaJSIDxJ7SxMh1+eIbu4CoGdviIXBp6q9g0/F274Cybf3aahOeuspuerwP2pg2P56l+teCModeiwb/myTddvMfWVL9e927HXawHdIuO1M1mxYkWDthtu8C7PqqPTrek/2XPbkeQU4FaqbndeOde9vxZAW/wTAvpNhPQf4dBu8suqiaEIq6hVSpHH36ikCwztT5Vx6rFfMT6pdbHoJ9yuZvI1Ze0eQ5PUOuq5jroU1r6lRN06mS6vXaOjo3OYCO8Ld7uFGob0AsDkJRkJPBUR+dvr6tNWw6HyGqIdxTs2lwXw+F9G7D4yNTtzlJEOD2ilCubE29XnT0/6ZByN4pzJj7oUBpyiCqV3MrqR19HR0TC6vdw7skaPSlR+9ah61Yzyy6opLK+hvLpOKUIOOBlyt1JQVkOUUDPuu5bk8NKK3Xz8Z6ZPhvfVhoOE+JlcseItxmhWkTwlmSpyyNdkrIb/ToB9K9W2JQBih0L+dp9l27YV3cjr6Oh4IoyQqGnYDEsI5c+7pvLbnCn8fucUlxJjXmk1F732O0Pv/Q67XUJ8GjJvG9/8tIp4ocIH81APiNs/2UBJVftL8lXV2pk0KEZL4moN576lPutLK7SHfb/CEynw2lSl0rn5c9VuCYTI/qpCVcmBps/RwehGXkdHx5M7D8DlnrESkUFWTEYDsSF+vHShSgT874+72exITiwor4GQeIS081nddTxqfg2APBnmOkdxRduNvHu08klDYhvv2BROFc726szvWQG2WqWm+capnudz6tubA5WGDmiLvp2EbuR1dHQ8Mfsr90YjOF0l323WxMlySqrA3zOccau9D9VYmH6UMnZOqdzWUmuz48yBOjopgsmDvGjLt4SAKPV5aDfkt06u10XeDnh7Brx8PGSta7yfX4hK/AKVHNWJ6EZeR0enVfiZjVxYT31x6ZYcdpd5PhhSEyLZ+sCprvJ0h8rb5psucrwBPDhjKB9eM65NdU4BlaVrCYaVz8ILo9t2Dmdt2/ztSk/fySmPgJ/21qLWABxJ/59fC23UkPcFupFvAUajkbS0NEaMGMGoUaNYtWpVZw9JR6dTeXDGMMLdRLqe/X4nd36+FYAaqUIljaEJ+FuMrizVC19tm6yAs95seKAP6spa3RZsS5pxoxRlwG8ve8oTeAvBvGUbHHttQ9lkiyPE01YNpdltG68P0I18C/D392fdunWsX7+eRx99lDlz5nT2kHR0OhWDQTSokrRV9qFM+nF57e0cGn8fnPEcoApat5VFG7LYlq1mzxGtDZv0hrt/fN4gVVBkfSPKsm9Nh8Wz4bmRWpszRHLIDPUZO0wVIBcCjjpPtd24Xus/6lL1WXl4dGy8oRv5VlJSUkJ4eHhnD0NHp9OpqPFUKikhkGHVrzPzbxcRMfVmCFQ1WK2mtpmZ9HyVeHXDAlW7NcwXRv6CDz23l90Hn10NtSqjFpvbukHhXvVZVaS1OY183+PVp9VNKvnkh+HWnVoGMGhVrSqb0OrvYLpXxuu3syF7o2/PGTccTnusyS6VlZWkpaVRVVVFVlYWy5cv9+0YdHS6IZcdl8QDXzfM6Bw/IMpju29kACF+Jkqq6vhzXyGj+7ZskrRqt6ZqGRfiR/8YH1RbSj0FLvwE3qtXUjB3K2Suhm9vhyuWqBKClmCoKfXs53TXOBLFiHUTTTSaGhYc93f8rJ1o5PWZfAtwumu2bdvG4sWLueSSS7xKnuroHElcMb4f6Y+e7tH20TXjiAn2dOMIIVh49TjiQvy4/I0/qKxpqFVYXl3Hog2ePvL0PE0H5pxRCVhNPqogOmAqXLMS+k/R2nI2we4f1Pe3zoDH+3ka+NxtUJqjzeT7nQDnvwsnP9T0tZxG3r1Moq0O/nwTyn1TyKQ5utdMvpkZ9+Fg3Lhx5Ofnk5eXR0xMG0O5dHR6CEIInp2Vxo0fqHDC4Qnei4AMjg9h9mmDuGnhOg4UVTbIWL3/q818uCaTPhHjGZ4YipSSVbs1I3j68HjfDjxumAoVdfLlv7TvNjelyrA+qtjIS8eoEojH3wgIFQc/+IzmrxOSAGF9YccSTa1z44fw1Y1Kb39aB8ss0N2MfBdg27Zt2Gw2IiMjO3soOjpdghlpCUwbHk9JVZ2r0LU3YhxqlrmlVQ2M/L4CJeyVV1YFhFJcWcuWrBJuO2UgZxzVq9nqR23i6KsgIALWvt14n8gBysiDMv57Viifu7GFptNggD7HwoaFKkonIAIOOuLrV78CR18J0QPb81M0P4QOPXsPwemTT0tL4/zzz+ett97CaPTRq6OOTg/AZDQQ0UyIY0yIMvJ5pdVIKZn9yQYuff0PSqpq+T1dRZ8cKKzkpx15pD2wFIDEcP+OMfAAyRPhzOeVkFhjRKV6bmf+AfEjWncdZ1LUon+rzxy3ilkvHt0xWjpu+GQmL4S4FXgCiJZS5jva5gD/AGzADVLK73xxrc7AZuuW9U50dLoUzpDLGz9Yh5TwweoMAOYt0So2FZTXsCNHi0WPdtOy7zDOfwcecrheg3tB6UHlmrFVwzFXw+8ve/ZPu7B15z/+BvhlHuRtU0VLMldD6qmwY7Hav3Op0rnpINo9kxdC9AZOAva7tQ0BZgFDgVOBl4QQ+tRXR+cIJthPS566aaEmCfDmqr2ACjUvrqzF7hbUEObvg7DJ5jBZ4dKv1b9h56i2S79UhcAj+sE9hTDHTUUzdkjrzu8frkokHtqjdG5sNcrI31esKlZlrW/+HO3AF+6ap4HbAfdwkxnAB1LKaillOrALGpZ71NHRObJIbqQe6TkjE+gV6k9xZS37D1XQPzqQZ2elMTg++PAMrN8E9e+E21RZwz7HQlC02mcwKNnlCbcqf3xwGxaBo1Khrgp2fa+2HTLORA+Egp2NH+cD2mXkhRBnAgeklPUfRQlAhtt2pqNNR0fnCOb9K49t0JYSE8S889MI8TezO6+cn3fmM7pvODPSEhDu8pOHA/8wVdbQG1PuhhvWta3CVeIY9fmVo6qcM4nKLxSqO7ZaVbM+eSHEMiDOy665wJ2oAt4NDvPS5jWwXAhxFXAVQJ8+fbx10dHR6SHEhWox9OOSI5k4MJppjvDIUH8Tv+1RC7AnpEZ3yviapa0PnZh6Lh6nho45UMXeL38Yhv+tQyJtmjXyUsqp3tqFEMOBfsB6x9M2EVgrhDgaNXPv7dY9EfCqtymlnA/MBxgzZoyeYaSj08N55ZIx1NTZmXaUp9sjNTaY3/YcIsTPxPSjenXS6DoIIWDMFbDGUSbR6a6xBEDxflV/9o/5MHufzy/dZneNlHKjlDJGSpkkpUxCGfZRUsps4EtglhDCKoToBwwA/vDJiHV0dLo1Jw2JbWDgne2gxM96JAFuuTUW50zeLTzUXSPHh3RInLyUcjPwIbAFWAxcJ6Xs1nGI2dnZzJo1i/79+zNkyBBOP/10duzY0fyBOjo6LeKYfpFMGRTDSxeM6uyhdAzuRj7Qoe9jaWWt2jbgs4xXx2zeffth4GFfnb8zkVJy9tlnc+mll/LBB0qWdN26deTk5JCamtrM0To6Oi3BYjLw2mVjm+/YXQlN1L67u2vcsdvatrDbBLqsQQv44YcfMJvNXHPNNa62tLRGVuB1dHR0vBHWV31a3fR9zPWMfMUhLXTTR3QrI/+fP/7DtkPbfHrOQRGDuOPoO5rss2nTJkaPbmO5MB0dHR1QWa0mf5j2lNYWXC9wsSznyDbyOjo6Ot0WSyDcVa8MoFMHxz9CVY8qywaG+fSy3crINzfj7iiGDh3Kxx9/3CnX1tHR6cGE9YHz31Mz+lenwLszVc3YFY8ojZw+DZPHWouuQtkCJk+eTHV1Na+88oqrbfXq1fz444+dOCodHZ0eweDpEDNY2970sZI/XnixT06vG/kWIITgs88+Y+nSpfTv35+hQ4dy33330atXD0vY0NHR6Rwsbpo+S+5Sn+W5Wp3ZdtCt3DWdSa9evfjwww+b76ijo6PTFv6xFF47ybNt+UNqlv/HqzD9aRh4aqtPq8/kdXR0dLoC7vo2V/+sPosy4PsHlMb9F9e26bT6TF5HR0enK2ANgku/gqA4iE6FlJNg11Jtf00FSNlqkTR9Jq+jo6PTVeh3gjLwAL2P0dp7jYK6SqguafUpdSOvo6Oj0xVJmaI+Tf5w7P+p74/1URWmWoFu5HV0dHS6IvFpMPw8uGChKhPo5NvZWvHv0myorWryNLpPXkdHR6crYjDATEduTt52rX3nd5D+k8qefWogDPBWt8ntNB04xB6D0WgkLS2NoUOHMmLECObNm4fdbu/sYeno6BwpuM/kQfnniw+o7zuXNHmoPpNvAf7+/qxbp6rL5+bmcsEFF1BcXMz999/fySPT0dE5IvALhdTTYMe3WtvTQxrv74Y+k28lMTExzJ8/nxdeeAEp9WqFOjo6hwEh4IIPIO2iVh/arpm8EOI+4Eogz9F0p5TyG8e+OcA/ABtwg5Tyu/ZcCyD7kUeo3upbqWHr4EHE3Xlnq45JTk7GbreTm5tLbGxs8wfo6Ojo+IKzXlT/tn4NCy9s0SG+cNc8LaV80r1BCDEEmAUMBXoBy4QQqd29BKA7+ixeR0en0xg8HSIHQMHOZrt2lE9+BvCBlLIaSBdC7AKOBn5tz0lbO+PuKPbs2YPRaCQmJqazh6Kjo3OkctkieKr58qO+8MlfL4TYIIR4XQgR7mhLADLc+mQ62hoghLhKCLFGCLEmLy/PW5cuRV5eHtdccw3XX389opXpxTo6Ojo+IzgWTnqg2W7NzuSFEMuAOC+75gIvAw8C0vH5FHAF4M36efVvSCnnA/MBxowZ0yV9IJWVlaSlpVFbW4vJZOLiiy/mlltu6exh6ejoHOmE92u2S7NGXko5tSXXEkK8Anzt2MwEervtTgQOtuQ8XRGbrccsJejo6PQk+k8GQ9NmvF3uGiFEvNvm2cAmx/cvgVlCCKsQoh8wAPijPdfS0dHR0amHNQjuatrN3d6F18eFEGkoV8xe4GoAKeVmIcSHwBagDriuJ0XW6Ojo6HQZDE3P1dtl5KWUjRYhlFI+DDzcnvO7natbLHLqYZU6OjpdjS6f8ern50dBQUGXN6BSSgoKCvDz8+vsoejo6Oi46PLaNYmJiWRmZtIdwiv9/PxITEzs7GHo6OjouOjyRt5sNtOvX/NhQjo6Ojo6Deny7hodHR0dnbajG3kdHR2dHoxu5HV0dHR6MKIrRa0IIUqB7c12VIQCxT7o09q+ndWvp107CsjvhOt2h99NT/pZWnqfW3rO7vAzd8YYB0opg73ukVJ2mX/Amlb0ne+LPq3t21n9euC1W3Sv9fvS7X+WTvmb7kn3ryV9m/o9d2d3zVc+6tPavp3Vr6ddu7Ou2x1+Nz3pZ2kNvvyb7kn3r7V9Pehq7po1UsoxnT0OnY5Hv9dHBvp9Pjw09XvuajP5+Z09AJ3Dhn6vjwz0+3x4aPT33KVm8jo6Ojo6vqWrzeR7PEKIsmb2rxBC6K+33Rz9Ph8ZdIf7rBt5HR0dnR5Mpxj55p5+PR0hxIlCiK/dtl8QQlzWiUPqMI7ke63f5yODrn6f9Zm8jo6OTg+m04y8ECJICPG9EGKtEGKjEGKGoz1JCLFVCPGKEGKzEGKJEMK/s8ap0370e31koN/nrklnzuSrgLOllKOAScBTQiv/NAB4UUo5FCgCZnbSGDuKOjx/9z290siReq/1+6zf506nM428AB4RQmwAlgEJQKxjX7qUcp3j+59A0uEfXoeyDxjiKHQeCkzp7AF1MEfqvdbvs36fO53OLBpyIRANjJZS1goh9qI9Aavd+tmAHvFqJ4QwAdVSygxHofMNwE7gr84dWYdzRN1r/T7r97lzR+ZJZxr5UCDX8Z9hEtC3E8dyuBgK7AaQUt4O3F6/g5TyxMM8psPBkXav9fus32cc7Sce5jE14LAbeefTD3gP+EoIsQZYB2w73GM5nAghrgFuAG7q7LEcLo7Ee/3/7d1PqA1hGMfx7y+hhPwpkqvY3o38SZSNlShdSys29iyvWFhQWEiyIgtK14aiZCFZWOAuhMife2Ph5sYSKRYei3nUpNtNzMyZO+f3qbd5e868c2Z6znnPnPPOO8d5dp7bpvHbGkhaC1yIiE2NPrE1zrnuD85zuzU68JqffiPAkSaf15rnXPcH57n9fIMyM7MOq/VMXtIqSfdyIsQLSQcyvkTSHUljuVxcanNI0rik15K2l+IbcoLFuKSzpetvrQUqzvVxSe/7eap8W1WVZ0nzJN2S9Cq3c6JXx9R5f/v3U/9SgBXA+qwvAN4Ag8ApYDjjw8DJrA8CT4G5wBqKketZ+dgosIXiWtzbwI46992lp7nenNv72uvjcqknz8A8YFuuMwe47/d0PaXWM/mImIyIx1n/ArykmCAxBFzK1S4Bu7M+BFyNiO8R8Q4YBzZJWgEsjIgHUbwqLpfaWAtUlets/zAiJpvcf/s7VeU5Ir5FxL3czg/gMTDQ3JH0j8YGXiWtBtYBj4Dlv9/EuVyWq60E3peaTWRsZdb/jFsL/WeubYaoKs+SFgG7gLv17nF/aqSTlzQfuAYcjIjP0606RSymiVvLVJBrmwGqynNeYz8CnI2It9XupUEDnbyk2RQvhisRcT3DH/MnGHL5KeMTwKpS8wHgQ8YHpohbi1SUa2u5ivN8HhiLiDP17nX/qvvqGgEXgZcRcbr00E1gX9b3ATdK8T15o581FHeuG82vf18kbc5t7i21sRaoKtdN7a/9myrzLOkYxa0QWj9rdEarc1QX2Erx1ewZxTTnJ8BOYCnF729juVxSanOYYgT+NaXRdmAj8DwfO0de4+/SjlJxrk9RnAH+zOXRXh+fS7V5pjijD4qB29/b2d/r4+ti8WQoM7MO89//mZl1mDt5M7MOcydvZtZh7uTNzDrMnbyZWYe5kzcz6zB38mZmHeZO3sysw34B21dc84Rt7xkAAAAASUVORK5CYII=\n",
      "text/plain": [
       "<Figure size 432x288 with 1 Axes>"
      ]
     },
     "metadata": {
      "needs_background": "light"
     },
     "output_type": "display_data"
    }
   ],
   "source": [
    "import matplotlib.pyplot as plt\n",
    "\n",
    "pdf=pd.DataFrame(np.random.randn(1000, 4), index=ts.index,columns=['A', 'B', 'C', 'D'])\n",
    "pdf = pdf.cumsum()\n",
    "plt.figure(); pdf.plot(); plt.legend(loc='best')"
   ]
  },
  {
   "cell_type": "code",
   "execution_count": null,
   "metadata": {},
   "outputs": [],
   "source": []
  }
 ],
 "metadata": {
  "kernelspec": {
   "display_name": "Python 3",
   "language": "python",
   "name": "python3"
  },
  "language_info": {
   "codemirror_mode": {
    "name": "ipython",
    "version": 3
   },
   "file_extension": ".py",
   "mimetype": "text/x-python",
   "name": "python",
   "nbconvert_exporter": "python",
   "pygments_lexer": "ipython3",
   "version": "3.8.3"
  }
 },
 "nbformat": 4,
 "nbformat_minor": 2
}
