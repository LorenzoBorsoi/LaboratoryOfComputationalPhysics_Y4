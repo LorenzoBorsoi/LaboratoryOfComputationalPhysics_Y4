{
 "cells": [
  {
   "cell_type": "markdown",
   "metadata": {},
   "source": [
    "1\\. **PCA on 3D dataset**\n",
    "\n",
    "* Generate a dataset with 3 features each with N entries (N being ${\\cal O}(1000)$). With $N(\\mu,\\sigma)$ the normali distribution with mean $\\mu$ and $\\sigma$  standard deviation, generate the 3 variables $x_{1,2,3}$ such that:\n",
    "    * $x_1$ is distributed as $N(0,1)$\n",
    "    * $x_2$ is distributed as $x_1+N(0,3)$\n",
    "    * $x_3$ is given by $2x_1+x_2$\n",
    "* Find the eigenvectors and eigenvalues of the covariance matrix of the dataset\n",
    "* Find the eigenvectors and eigenvalues using SVD. Check that the two procedures yield to same result\n",
    "* What percent of the total dataset's variability is explained by the principal components? Given how the dataset was constructed, do these make sense? Reduce the dimensionality of the system so that at least 99% of the total variability is retained.\n",
    "* Redefine the data in the basis yielded by the PCA procedure\n",
    "* Plot the data points in the original and the new coordiantes as a set of scatter plots. Your final figure should have 2 rows of 3 plots each, where the columns show the (0,1), (0,2) and (1,2) proejctions.\n"
   ]
  },
  {
   "cell_type": "code",
   "execution_count": 6,
   "metadata": {},
   "outputs": [
    {
     "name": "stdout",
     "output_type": "stream",
     "text": [
      "        0         1         2         3         4         5         6    \\\n",
      "0 -0.716915  1.182998  0.202000  1.863662  0.812629 -0.805381  2.868426   \n",
      "1  0.813779  1.562901 -2.423943 -2.385176  1.490547  1.524557 -0.423028   \n",
      "2 -0.620051  3.928898 -2.019943  1.342147  3.115805 -0.086205  5.313824   \n",
      "\n",
      "        7         8         9    ...       990       991        992       993  \\\n",
      "0 -0.352600 -1.372902 -0.184480  ... -1.521825  0.642250   2.688355  0.236667   \n",
      "1 -4.574213  0.739088 -7.966527  ... -3.863186 -1.615504   9.776752  2.017101   \n",
      "2 -5.279412 -2.006715 -8.335487  ... -6.906836 -0.331005  15.153462  2.490435   \n",
      "\n",
      "        994       995       996       997      998       999  \n",
      "0  1.329903  0.585855  0.431724  0.064132 -0.67424 -1.860139  \n",
      "1 -1.185322 -1.535036  0.272431 -0.945297 -6.71481 -1.466209  \n",
      "2  1.474483 -0.363327  1.135880 -0.817034 -8.06329 -5.186487  \n",
      "\n",
      "[3 rows x 1000 columns]\n",
      "[[ 1.03154453  1.02583306  3.08892213]\n",
      " [ 1.02583306  9.96050473 12.01217084]\n",
      " [ 3.08892213 12.01217084 18.19001509]]\n",
      "The eigenvalues are: [ 2.7143482e+01+0.j -1.6345710e-15+0.j  2.0385824e+00+0.j] \n",
      "The corresponding eigenvector are: \n",
      "[[-0.11841388 -0.5736607  -0.81048846]\n",
      " [-0.81649658 -0.40824829  0.40824829]\n",
      " [ 0.56507653 -0.71010333  0.42004974]]\n",
      "The real part of the complex eigenvalues:\n",
      " [ 2.7143482e+01 -1.6345710e-15  2.0385824e+00]\n"
     ]
    }
   ],
   "source": [
    "import pandas as pd\n",
    "import numpy as np\n",
    "from scipy import linalg as la\n",
    "\n",
    "N=1000\n",
    "x1 = np.random.normal(0,1, size=N)\n",
    "x2 = x1 + np.random.normal(0,3,size=N)\n",
    "x3 = 2*x1 + x2\n",
    "\n",
    "data = np.array([x1,x2,x3])\n",
    "df = pd.DataFrame([x1,x2,x3])\n",
    "print(df)\n",
    "\n",
    "sigma = np.cov(data) \n",
    "l,V = la.eig(sigma)\n",
    "print(f'The eigenvalues are: {l} \\nThe corresponding eigenvector are: \\n{V.T}')\n",
    "print('The real part of the complex eigenvalues:\\n', np.real_if_close(l))\n"
   ]
  },
  {
   "cell_type": "code",
   "execution_count": 26,
   "metadata": {},
   "outputs": [
    {
     "name": "stdout",
     "output_type": "stream",
     "text": [
      "[[-0.11856036  0.56504582 -0.81649658]\n",
      " [-0.57347661 -0.710252   -0.40824829]\n",
      " [-0.81059732  0.41983963  0.40824829]]\n",
      "Spectrum [1.64902494e+02 4.51342222e+01 5.01444794e-14]\n",
      "Eigenvlues\n",
      "[-1.6345710e-15  2.0385824e+00  2.7143482e+01]\n",
      "with SVD\n",
      " [2.51698580e-30 2.03913715e+00 2.72200525e+01]\n",
      "Eigenvectures\n",
      "[[-0.11841388 -0.81649658  0.56507653]\n",
      " [-0.5736607  -0.40824829 -0.71010333]\n",
      " [-0.81048846  0.40824829  0.42004974]]\n",
      "with SVD\n",
      " [[-0.11856036  0.56504582 -0.81649658]\n",
      " [-0.57347661 -0.710252   -0.40824829]\n",
      " [-0.81059732  0.41983963  0.40824829]]\n"
     ]
    },
    {
     "data": {
      "text/plain": [
       "'Sembra che la seconda procedura sia più prescisa in termini di calcolo del determinante\\n(definizione di autovettori)'"
      ]
     },
     "execution_count": 26,
     "metadata": {},
     "output_type": "execute_result"
    }
   ],
   "source": [
    "U, spect, Vt = la.svd(df)\n",
    "print(U)\n",
    "print(f'Spectrum {spect}')\n",
    "\n",
    "#checking the results\n",
    "print('Eigenvlues')\n",
    "print(np.sort(np.real_if_close(l)))\n",
    "print('with SVD\\n',np.sort(spect**2/(N-1)))\n",
    "\n",
    "print('Eigenvectures')\n",
    "print(V)\n",
    "print('with SVD\\n', U)\n",
    "\n",
    "# spect = np.sort(spect**2/(N-1))\n",
    "#check\n",
    "# I = np.identity(3)\n",
    "# res_SVD = [la.det((sigma - i*I)) for i in spect]\n",
    "# res = [la.det((sigma - i*I)) for i in np.real_if_close(l)]\n",
    "# print('result with svd',res_SVD)\n",
    "# print(res)\n",
    "'''Sembra che la seconda procedura sia più prescisa in termini di calcolo del determinante\n",
    "(definizione di autovettori)'''"
   ]
  },
  {
   "cell_type": "code",
   "execution_count": 38,
   "metadata": {},
   "outputs": [
    {
     "name": "stdout",
     "output_type": "stream",
     "text": [
      "0-componenent variability 93.01426255284642\n",
      "1-componenent variability 5.601286394912488e-15\n",
      "2-componenent variability 6.985737447153577\n",
      "\n",
      "(1,2)-componenents variability 93.01426255284642\n",
      "(1,3)-componenents variability 100.0\n",
      "(2,3)-componenents variability 6.98573744715357\n"
     ]
    }
   ],
   "source": [
    "#3\n",
    "sigma = np.cov(data) \n",
    "l,V = la.eig(sigma)\n",
    "l=np.real_if_close(l)\n",
    "Lamba = np.diag(l)\n",
    "\n",
    "for i in range(3):\n",
    "    print(f'{i}-componenent variability',abs(Lamba[i,i]/Lamba.trace()*100))\n",
    "\n",
    "\"\"\"So se firts component conserve more variability than the other ones.\n",
    "IT's make sens because x1 was define exacly following a gaussian shape, \n",
    "while x2,x3 are defined on x1.\"\"\"\n",
    "\n",
    "\n",
    "\"\"\"If we want to reduce from 3 to 2 dimension so the variability conservation will be:\"\"\"\n",
    "print('\\n(1,2)-componenents variability',(Lamba[0,0]+Lamba[1,1])/Lamba.trace()*100)\n",
    "print('(1,3)-componenents variability',(Lamba[0,0]+Lamba[2,2])/Lamba.trace()*100)\n",
    "print('(2,3)-componenents variability',(Lamba[1,1]+Lamba[2,2])/Lamba.trace()*100)\n",
    "\n",
    "\n"
   ]
  },
  {
   "cell_type": "code",
   "execution_count": 50,
   "metadata": {},
   "outputs": [
    {
     "name": "stdout",
     "output_type": "stream",
     "text": [
      "The red scatterplot are the projection, the blu the initial\n"
     ]
    },
    {
     "data": {
      "text/plain": [
       "(-20.0, 20.0)"
      ]
     },
     "execution_count": 50,
     "metadata": {},
     "output_type": "execute_result"
    },
    {
     "data": {
      "image/png": "[encoded data removed]",
      "text/plain": [
       "<Figure size 1080x720 with 6 Axes>"
      ]
     },
     "metadata": {
      "needs_background": "light"
     },
     "output_type": "display_data"
    }
   ],
   "source": [
    "import matplotlib.pyplot as plt\n",
    "#for the reduction\n",
    "n_component = 3\n",
    "# idx = np.argsort(l)[::-1] #reverse a list\n",
    "# l = l[idx]\n",
    "# V = V[idx]\n",
    "# component = V[0:n_component]\n",
    "# new_eigenvalues = l[0:n_component]\n",
    "# print(component.shape, df.shape)\n",
    "\n",
    "new_df = np.dot(V.T, df)\n",
    "\n",
    "x1_new = new_df[0,:]\n",
    "x2_new =  new_df[1,:]\n",
    "x3_new =  new_df[2,:]\n",
    "\n",
    "print('The red scatterplot are the projection, the blu the initial')\n",
    "fig , ((ax1,ax2,ax3) , (ax4,ax5,ax6)) = plt.subplots(nrows=2, ncols=3, figsize=(15,10))\n",
    "ax1.scatter(x1_new,x2_new, c='red')\n",
    "ax1.set_xlim([-20,20])\n",
    "ax1.set_ylim([-20,20])\n",
    "\n",
    "ax4.scatter(x1,x2)\n",
    "ax4.set_xlim([-20,20])\n",
    "ax4.set_ylim([-20,20])\n",
    "\n",
    "ax2.scatter(x1_new, x3_new, c='red')\n",
    "ax2.set_xlim([-20,20])\n",
    "ax2.set_ylim([-20,20])\n",
    "\n",
    "ax5.scatter(x1,x3)\n",
    "ax5.set_xlim([-20,20])\n",
    "ax5.set_ylim([-20,20])\n",
    "\n",
    "ax3.scatter(x2_new, x3_new, c='red')\n",
    "ax3.set_xlim([-20,20])\n",
    "ax3.set_ylim([-20,20])\n",
    "\n",
    "ax6.scatter(x2,x3)\n",
    "ax6.set_xlim([-20,20])\n",
    "ax6.set_ylim([-20,20])\n"
   ]
  },
  {
   "cell_type": "markdown",
   "metadata": {},
   "source": [
    "2\\. **PCA on a nD dataset**\n",
    "\n",
    "Start from the dataset you have genereted in the previous exercise and add uncorrelated random noise. Such noise should be represented by other 10 uncorrelated variables normal distributed, with standar deviation much smaller (say, a factor 50) than those used to generate the $x_1$ and $x_2$.\n",
    "\n",
    "Repeat the PCA procedure and compare the results with what you obtained before"
   ]
  },
  {
   "cell_type": "code",
   "execution_count": 58,
   "metadata": {},
   "outputs": [
    {
     "name": "stdout",
     "output_type": "stream",
     "text": [
      "Eigenvalues of the covariant matrix of the noise dat frame are:\n",
      " [ 2.71434852e+01+0.j  2.03858762e+00+0.j -1.55165286e-15+0.j\n",
      "  4.60552872e-04+0.j  4.51210115e-04+0.j  3.20886926e-04+0.j\n",
      "  4.24407774e-04+0.j  3.42945556e-04+0.j  4.02580627e-04+0.j\n",
      "  3.62552330e-04+0.j  3.85891267e-04+0.j  3.72377826e-04+0.j\n",
      "  3.78609662e-04+0.j]\n",
      "First 2-componenents variability (99.98663051354872+0j)\n"
     ]
    },
    {
     "data": {
      "text/plain": [
       "'The noise variability is really less meaning'"
      ]
     },
     "execution_count": 58,
     "metadata": {},
     "output_type": "execute_result"
    }
   ],
   "source": [
    "df = pd.DataFrame(data)\n",
    "sd = 1/50\n",
    "mean = 0\n",
    "noise_list=[]\n",
    "for i in range(10):\n",
    "    noise_list.append(np.random.normal(mean,sd,N))\n",
    "\n",
    "noise = pd.DataFrame(noise_list, index=['r1','r2','r3','r4','r5','r6','r7','r8','r9','r10'])\n",
    "df_noise = df.append(noise)\n",
    "\n",
    "n_component = 3\n",
    "sigma_noise = np.cov(df_noise)\n",
    "ln, Vn = la.eig(sigma_noise)\n",
    "\n",
    "print('Eigenvalues of the covariant matrix of the noise dat frame are:\\n',ln)\n",
    "\n",
    "idx_n = np.argsort(ln)[::-1] #reverse a list\n",
    "ln = ln[idx_n]\n",
    "Vn = Vn[idx_n]\n",
    "\n",
    "component_n = Vn[0:n_component]\n",
    "new_eigenvalues_n = ln[0:n_component]\n",
    "\n",
    "new_df_noise = np.dot(component_n, df_noise)\n",
    "\n",
    "Lamba = np.diag(ln)\n",
    "print('First 2-componenents variability',(Lamba[0,0]+Lamba[1,1])/Lamba.trace()*100)\n",
    "\"\"\"The noise variability is really less meaning\"\"\"\n",
    "# x1n = new_df_noise[0,:]\n",
    "# x2n = new_df_noise[1,:]\n",
    "# x3n = new_df_noise[2,:]\n",
    "\n",
    "# fig, ax1= plt.subplots()\n",
    "# ax1.scatter(x1n, x2n)\n",
    "# ax1.scatter(x1,x2)\n",
    "\n",
    "# fig, ax1= plt.subplots()\n",
    "# ax1.scatter(x1n, x3n)\n",
    "# ax1.scatter(x1,x3)\n",
    "\n",
    "# fig, ax1= plt.subplots()\n",
    "# ax1.scatter(x2n, x3n)\n",
    "# ax1.scatter(x2,x3)\n"
   ]
  },
  {
   "cell_type": "markdown",
   "metadata": {},
   "source": [
    "3 \\. **Looking at an oscillating spring** (optional)\n",
    "\n",
    "Imagine you have $n$ cameras looking at a spring oscillating along the $x$ axis. Each  camera record the motion of the spring looking at it along a given direction defined by the pair $(\\theta_i, \\phi_i)$, the angles in spherical coordinates. \n",
    "\n",
    "Start from the simulation of the records (say ${\\cal O}(1000)$) of the spring's motion along the x axis, assuming a little random noise affects the measurements along the $y$. Rotate such dataset to emulate the records of each camera.\n",
    "\n",
    "Perform a Principal Component Analysis on the thus obtained dataset, aiming at finding the only one coordinate that really matters.\n"
   ]
  },
  {
   "cell_type": "code",
   "execution_count": null,
   "metadata": {},
   "outputs": [],
   "source": []
  },
  {
   "cell_type": "markdown",
   "metadata": {},
   "source": [
    "4\\. **PCA on the MAGIC dataset** (optional)\n",
    "\n",
    "Perform a PCA on the magic04.data dataset"
   ]
  },
  {
   "cell_type": "code",
   "execution_count": 7,
   "metadata": {},
   "outputs": [
    {
     "name": "stderr",
     "output_type": "stream",
     "text": [
      "\"wget\" non � riconosciuto come comando interno o esterno,\n",
      " un programma eseguibile o un file batch.\n",
      "\"wget\" non � riconosciuto come comando interno o esterno,\n",
      " un programma eseguibile o un file batch.\n"
     ]
    }
   ],
   "source": [
    "# get the dataset and its description on the proper data directory\n",
    "!wget https://archive.ics.uci.edu/ml/machine-learning-databases/magic/magic04.data -P ~/data/\n",
    "!wget https://archive.ics.uci.edu/ml/machine-learning-databases/magic/magic04.names -P ~/data/ \n"
   ]
  },
  {
   "cell_type": "code",
   "execution_count": 8,
   "metadata": {},
   "outputs": [],
   "source": [
    "# file_name = \"C:/Users/Pietro/Documents/PHISICS OF DATA I/Computational Physics/LaboratoryOfComputationalPhysics_Y4/magic04.data\"\n",
    "# data = pd.read_csv(file_name, header=None)\n",
    "# data = data.iloc[: , :-1]\n",
    "# data.shape #abbiamo 3 features e 1000 samples\n",
    "# pca2 = PCA(2)\n",
    "# pca2.fit(data)\n",
    "# data_proj = pca2.trasform(data)\n",
    "\n",
    "# print(data_proj.shape)\n",
    "# print(data.shape)"
   ]
  },
  {
   "cell_type": "code",
   "execution_count": 9,
   "metadata": {},
   "outputs": [
    {
     "ename": "ValueError",
     "evalue": "shapes (3,1000) and (3,2) not aligned: 1000 (dim 1) != 3 (dim 0)",
     "output_type": "error",
     "traceback": [
      "\u001b[1;31m---------------------------------------------------------------------------\u001b[0m",
      "\u001b[1;31mValueError\u001b[0m                                Traceback (most recent call last)",
      "\u001b[1;32m<ipython-input-9-8379a10bd0e8>\u001b[0m in \u001b[0;36m<module>\u001b[1;34m\u001b[0m\n\u001b[0;32m     31\u001b[0m \u001b[0mpca\u001b[0m \u001b[1;33m=\u001b[0m \u001b[0mPCA\u001b[0m\u001b[1;33m(\u001b[0m\u001b[1;36m2\u001b[0m\u001b[1;33m)\u001b[0m\u001b[1;33m\u001b[0m\u001b[1;33m\u001b[0m\u001b[0m\n\u001b[0;32m     32\u001b[0m \u001b[0mpca\u001b[0m\u001b[1;33m.\u001b[0m\u001b[0mfit\u001b[0m\u001b[1;33m(\u001b[0m\u001b[0mdf\u001b[0m\u001b[1;33m)\u001b[0m\u001b[1;33m\u001b[0m\u001b[1;33m\u001b[0m\u001b[0m\n\u001b[1;32m---> 33\u001b[1;33m \u001b[0mdf_proj\u001b[0m \u001b[1;33m=\u001b[0m \u001b[0mpca\u001b[0m\u001b[1;33m.\u001b[0m\u001b[0mtrasform\u001b[0m\u001b[1;33m(\u001b[0m\u001b[0mdf\u001b[0m\u001b[1;33m)\u001b[0m\u001b[1;33m\u001b[0m\u001b[1;33m\u001b[0m\u001b[0m\n\u001b[0m\u001b[0;32m     34\u001b[0m \u001b[1;33m\u001b[0m\u001b[0m\n\u001b[0;32m     35\u001b[0m \u001b[0mprint\u001b[0m\u001b[1;33m(\u001b[0m\u001b[0mdf_proj\u001b[0m\u001b[1;33m.\u001b[0m\u001b[0mshape\u001b[0m\u001b[1;33m)\u001b[0m\u001b[1;33m\u001b[0m\u001b[1;33m\u001b[0m\u001b[0m\n",
      "\u001b[1;32m<ipython-input-9-8379a10bd0e8>\u001b[0m in \u001b[0;36mtrasform\u001b[1;34m(self, X)\u001b[0m\n\u001b[0;32m     26\u001b[0m         \u001b[1;31m#projection of the sample\u001b[0m\u001b[1;33m\u001b[0m\u001b[1;33m\u001b[0m\u001b[0m\n\u001b[0;32m     27\u001b[0m         \u001b[0mX\u001b[0m \u001b[1;33m=\u001b[0m \u001b[0mX\u001b[0m \u001b[1;33m-\u001b[0m \u001b[0mself\u001b[0m\u001b[1;33m.\u001b[0m\u001b[0mmean\u001b[0m\u001b[1;33m\u001b[0m\u001b[1;33m\u001b[0m\u001b[0m\n\u001b[1;32m---> 28\u001b[1;33m         \u001b[1;32mreturn\u001b[0m \u001b[0mnp\u001b[0m\u001b[1;33m.\u001b[0m\u001b[0mdot\u001b[0m\u001b[1;33m(\u001b[0m\u001b[0mX\u001b[0m\u001b[1;33m,\u001b[0m \u001b[0mself\u001b[0m\u001b[1;33m.\u001b[0m\u001b[0mcomponents\u001b[0m\u001b[1;33m.\u001b[0m\u001b[0mT\u001b[0m\u001b[1;33m)\u001b[0m\u001b[1;33m\u001b[0m\u001b[1;33m\u001b[0m\u001b[0m\n\u001b[0m\u001b[0;32m     29\u001b[0m \u001b[1;33m\u001b[0m\u001b[0m\n\u001b[0;32m     30\u001b[0m \u001b[0mdf\u001b[0m\u001b[1;33m.\u001b[0m\u001b[0mshape\u001b[0m \u001b[1;31m#abbiamo 3 features e 1000 samples\u001b[0m\u001b[1;33m\u001b[0m\u001b[1;33m\u001b[0m\u001b[0m\n",
      "\u001b[1;32m<__array_function__ internals>\u001b[0m in \u001b[0;36mdot\u001b[1;34m(*args, **kwargs)\u001b[0m\n",
      "\u001b[1;31mValueError\u001b[0m: shapes (3,1000) and (3,2) not aligned: 1000 (dim 1) != 3 (dim 0)"
     ]
    }
   ],
   "source": [
    "class PCA:\n",
    "\n",
    "    def __init__(self,n_components):\n",
    "        self.n_components = n_components\n",
    "        self.components = None\n",
    "        self.mean = None\n",
    "    \n",
    "    def fit(self, X):\n",
    "        #mean\n",
    "        self.mean = np.mean(X,axis=0)\n",
    "        #covariance\n",
    "        #row = 1 sample, columns=feature\n",
    "        cov = np.cov(X)\n",
    "        #eigen\n",
    "        l, V = la.eig(cov)\n",
    "        #v[:,i]\n",
    "        #sort\n",
    "        V = V\n",
    "        indx = np.argsort(l)[::-1]\n",
    "        l = l[indx]\n",
    "        V = V[indx]\n",
    "        #store first\n",
    "        self.components = V[0:self.n_components]\n",
    "\n",
    "    def trasform(self, X):\n",
    "        #projection of the sample\n",
    "        X = X - self.mean\n",
    "        return np.dot(X, self.components.T)\n",
    "        \n",
    "df.shape #abbiamo 3 features e 1000 samples\n",
    "pca = PCA(2)\n",
    "pca.fit(df)\n",
    "df_proj = pca.trasform(df)\n",
    "\n",
    "print(df_proj.shape)\n",
    "print(df.shape)\n",
    "# import matplotlib.pyplot as plt\n",
    "\n",
    "# x1 = df_proj[:, 0]\n",
    "# x2 = df_proj[:, 1]\n",
    "\n",
    "# colors = np.random.rand(N)\n",
    "# plt.scatter(x1, x2, c= colors , edgecolors='none', alpha=0.8)\n",
    "# plt.xlabel('component 1')\n",
    "# plt.ylabel('component 2')\n",
    "# plt.show()\n"
   ]
  },
  {
   "cell_type": "code",
   "execution_count": null,
   "metadata": {},
   "outputs": [],
   "source": []
  }
 ],
 "metadata": {
  "kernelspec": {
   "display_name": "Python 3",
   "language": "python",
   "name": "python3"
  },
  "language_info": {
   "codemirror_mode": {
    "name": "ipython",
    "version": 3
   },
   "file_extension": ".py",
   "mimetype": "text/x-python",
   "name": "python",
   "nbconvert_exporter": "python",
   "pygments_lexer": "ipython3",
   "version": "3.9.9"
  }
 },
 "nbformat": 4,
 "nbformat_minor": 2
}
