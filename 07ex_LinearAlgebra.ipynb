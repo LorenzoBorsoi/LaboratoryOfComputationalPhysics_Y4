{
 "cells": [
  {
   "cell_type": "markdown",
   "metadata": {},
   "source": [
    "1\\. **PCA on 3D dataset**\n",
    "\n",
    "* Generate a dataset with 3 features each with N entries (N being ${\\cal O}(1000)$). With $N(\\mu,\\sigma)$ the normal\n",
    "distribution with mean $\\mu$ and $\\sigma$  standard deviation, generate the 3 variables $x_{1,2,3}$ such that:\n",
    "   * $x_1$ is distributed as $N(0,1)$\n",
    "   * $x_2$ is distributed as $x_1+N(0,3)$\n",
    "   * $x_3$ is given by $2x_1+x_2$\n",
    "* Find the eigenvectors and eigenvalues of the covariance matrix of the dataset\n",
    "* Find the eigenvectors and eigenvalues using SVD. Check that the two procedures yield to same result\n",
    "* What percent of the total dataset's variability is explained by the principal components? Given how the dataset\n",
    "was constructed, do these make sense? Reduce the dimensionality of the system so that at least 99% of\n",
    "the total variability is retained.\n",
    "* Redefine the data in the basis yielded by the PCA procedure\n",
    "* Plot the data points in the original and the new coordiantes as a set of scatter plots.\n",
    "Your final figure should have 2 rows of 3 plots each, where the columns show the (0,1), (0,2) and (1,2) proejctions."
   ]
  },
  {
   "cell_type": "code",
   "execution_count": 32,
   "outputs": [
    {
     "name": "stdout",
     "output_type": "stream",
     "text": [
      "x = array([[ 0.17813162, -0.06391786, -0.77585112, ...,  0.46680059,\n",
      "        -0.348629  , -1.02536149],\n",
      "       [ 1.68861556,  2.59775392, -6.97506355, ...,  2.20629963,\n",
      "        -1.0841628 ,  2.98755478],\n",
      "       [ 2.04487881,  2.4699182 , -8.52676579, ...,  3.13990081,\n",
      "        -1.78142079,  0.9368318 ]])\n",
      "x_cov = array([[ 1.01430372,  0.89767707,  2.92628451],\n",
      "       [ 0.89767707,  8.9165198 , 10.71187394],\n",
      "       [ 2.92628451, 10.71187394, 16.56444296]])\n",
      "eigenvalues = array([2.44757398e+01, 2.70687696e-16, 2.01952672e+00])\n",
      "eigenvectors = array([[-0.12325102, -0.81649658,  0.56404124],\n",
      "       [-0.5675556 , -0.40824829, -0.71499229],\n",
      "       [-0.81405763,  0.40824829,  0.41309019]])\n",
      "vh = array([[-0.12325102, -0.5675556 , -0.81405763],\n",
      "       [ 0.56404124, -0.71499229,  0.41309019],\n",
      "       [ 0.81649658,  0.40824829, -0.40824829]])\n"
     ]
    }
   ],
   "source": [
    "import numpy as np\n",
    "import numpy.linalg as la\n",
    "\n",
    "#\n",
    "sample_size = 1000\n",
    "x1 = np.random.normal(0.0, 1.0, size=sample_size)\n",
    "x2 = x1 + np.random.normal(0.0, 3.0, size=sample_size)\n",
    "x3 = 2 * x1 + x2\n",
    "x = np.vstack((x1, x2, x3))\n",
    "print(f\"{x = }\")\n",
    "#\n",
    "x_cov = np.cov(x)\n",
    "print(f\"{x_cov = }\")\n",
    "eigenvalues, eigenvectors = la.eig(x_cov)\n",
    "print(f\"{eigenvalues = }\")\n",
    "print(f\"{eigenvectors = }\")\n",
    "#\n",
    "u, s, vh = la.svd(x_cov)\n",
    "print(f\"{vh = }\")"
   ],
   "metadata": {
    "collapsed": false,
    "pycharm": {
     "name": "#%%\n"
    }
   }
  },
  {
   "cell_type": "markdown",
   "metadata": {},
   "source": [
    "2\\. **PCA on a nD dataset**\n",
    "\n",
    "Start from the dataset you have genereted in the previous exercise and add uncorrelated random noise.\n",
    "Such noise should be represented by other 10 uncorrelated variables normal distributed, with standar\n",
    "deviation much smaller (say, a factor 50) than those used to generate the $x_1$ and $x_2$.\n",
    "\n",
    "Repeat the PCA procedure and compare the results with what you obtained before"
   ]
  },
  {
   "cell_type": "markdown",
   "metadata": {},
   "source": [
    "3 \\. **Looking at an oscillating spring** (optional)\n",
    "\n",
    "Imagine you have $n$ cameras looking at a spring oscillating along the $x$ axis. Each  camera record\n",
    "the motion of the spring looking at it along a given direction defined by the pair $(\\theta_i, \\phi_i)$,\n",
    "the angles in spherical coordinates.\n",
    "\n",
    "Start from the simulation of the records (say ${\\cal O}(1000)$) of the spring's motion along the X axis,\n",
    "assuming a little random noise affects the measurements along the $y$. Rotate such dataset to emulate\n",
    "the records of each camera.\n",
    "\n",
    "Perform a Principal Component Analysis on the thus obtained dataset, aiming at finding\n",
    "the only one coordinate that really matters.\n"
   ]
  },
  {
   "cell_type": "markdown",
   "metadata": {},
   "source": [
    "4\\. **PCA on the MAGIC dataset** (optional)\n",
    "\n",
    "Perform a PCA on the magic04.data dataset"
   ]
  },
  {
   "cell_type": "code",
   "execution_count": null,
   "metadata": {},
   "outputs": [],
   "source": [
    "# get the dataset and its description on the proper data directory\n",
    "!wget https://archive.ics.uci.edu/ml/machine-learning-databases/magic/magic04.data -P ~/data/\n",
    "!wget https://archive.ics.uci.edu/ml/machine-learning-databases/magic/magic04.names -P ~/data/ "
   ]
  }
 ],
 "metadata": {
  "kernelspec": {
   "name": "pycharm-e992d7ce",
   "language": "python",
   "display_name": "PyCharm (Intro_Lab)"
  },
  "language_info": {
   "codemirror_mode": {
    "name": "ipython",
    "version": 3
   },
   "file_extension": ".py",
   "mimetype": "text/x-python",
   "name": "python",
   "nbconvert_exporter": "python",
   "pygments_lexer": "ipython3",
   "version": "3.5.4"
  }
 },
 "nbformat": 4,
 "nbformat_minor": 2
}