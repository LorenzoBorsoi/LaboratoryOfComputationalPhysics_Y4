{
 "cells": [
  {
   "cell_type": "markdown",
   "metadata": {},
   "source": [
    "# Modules/packages/libraries\n",
    "\n",
    "Definitions:\n",
    "\n",
    "  * Modules:\n",
    "  A module is a file which contains python functions, global variables etc. It is nothing but .py file which has python executable code / statement.\n",
    "\n",
    "  * Packages:\n",
    "  A package is a namespace which contains multiple package/modules. It is a directory which contains a special file `__init__.py`\n",
    "  \n",
    "  * Libraries:\n",
    "  A library is a collection of various packages. There is no difference between package and python library conceptually.\n",
    "  \n",
    "Modules/packages/libraries can be easily \"imported\" and made functional in your python code. A set of libriaries comes with every python installation. Others can be installed locally and then imported. Your own code sitting somewhere else in your local computer can be imported too.\n",
    "\n",
    "Further details (very important!) on packages and how to create them can be found online. We may find the need of creating our own during the course."
   ]
  },
  {
   "cell_type": "code",
   "execution_count": 1,
   "metadata": {},
   "outputs": [
    {
     "name": "stdout",
     "output_type": "stream",
     "text": [
      "3.141592653589793\n",
      "3.141592653589793\n",
      "3.141592653589793\n",
      "2.6457513110645907\n"
     ]
    }
   ],
   "source": [
    "###### all the \"stuff\" that is in the math library can be used\n",
    "import math\n",
    "print(math.pi)\n",
    "\n",
    "# you can give math a label for convenience\n",
    "import math as m\n",
    "print (m.pi)\n",
    "\n",
    "# alternatively you can import only a given \"thing\" from the library\n",
    "from math import pi    #you can add several libraries at once, just list them separated by a \", \"\n",
    "print (pi)\n",
    "\n",
    "# or just get everything (very dangerous!!!)\n",
    "from math import *\n",
    "print (sqrt(7))"
   ]
  },
  {
   "cell_type": "markdown",
   "metadata": {},
   "source": [
    "To know which modules are there for you to use just type:"
   ]
  },
  {
   "cell_type": "code",
   "execution_count": 6,
   "metadata": {
    "pycharm": {
     "is_executing": true
    }
   },
   "outputs": [
    {
     "name": "stdout",
     "output_type": "stream",
     "text": [
      "\n",
      "Please wait a moment while I gather a list of all available modules...\n",
      "\n",
      "_cffi_ext.c\n",
      "C:\\Users\\info\\anaconda3\\lib\\site-packages\\zmq\\backend\\cffi\\__pycache__\\_cffi_ext.c(268): fatal error C1083: Cannot open include file: 'zmq.h': No such file or directory\n",
      "Cython              brain_re            lzma                sndhdr\n",
      "IPython             brain_responses     mailbox             sniffio\n",
      "OpenSSL             brain_scipy_signal  mailcap             snowballstemmer\n",
      "PIL                 brain_six           markupsafe          socket\n",
      "PyQt5               brain_sqlalchemy    marshal             socketserver\n",
      "__future__          brain_ssl           math                socks\n",
      "_abc                brain_subprocess    matplotlib          sockshandler\n",
      "_ast                brain_threading     mccabe              sortedcollections\n",
      "_asyncio            brain_type          menuinst            sortedcontainers\n",
      "_bisect             brain_typing        mimetypes           soupsieve\n",
      "_black_version      brain_uuid          mistune             sphinx\n",
      "_blake2             brotli              mkl                 sphinxcontrib\n",
      "_bootlocale         bs4                 mkl_fft             sphinxify\n",
      "_bz2                builtins            mkl_random          sphinxthread\n",
      "_cffi_backend       bz2                 mmap                spyder\n",
      "_codecs             cProfile            mmapfile            spyder_kernels\n",
      "_codecs_cn          calendar            mmsystem            sqlalchemy\n",
      "_codecs_hk          certifi             mock                sqlite3\n",
      "_codecs_iso2022     cffi                modulefinder        sre_compile\n",
      "_codecs_jp          cgi                 more_itertools      sre_constants\n",
      "_codecs_kr          cgitb               mpmath              sre_parse\n",
      "_codecs_tw          chardet             msgpack             ssl\n",
      "_collections        chunk               msilib              sspi\n",
      "_collections_abc    click               msvcrt              sspicon\n",
      "_compat_pickle      cloudpickle         multipledispatch    stat\n",
      "_compression        clyent              multiprocessing     statistics\n",
      "_contextvars        cmath               mypy_extensions     statsmodels\n",
      "_csv                cmd                 nacl                storemagic\n",
      "_ctypes             code                navigator_updater   string\n",
      "_ctypes_test        codecs              nbclassic           stringprep\n",
      "_datetime           codeop              nbclient            struct\n",
      "_decimal            collections         nbconvert           subprocess\n",
      "_distutils_hack     colorama            nbformat            sunau\n",
      "_dummy_thread       colorsys            nest_asyncio        symbol\n",
      "_elementtree        commctrl            netbios             sympy\n",
      "_functools          compileall          netrc               sympyprinting\n",
      "_hashlib            comtypes            networkx            symtable\n",
      "_heapq              concurrent          nltk                sys\n",
      "_imp                conda               nntplib             sysconfig\n",
      "_io                 conda_build         nose                tables\n",
      "_json               conda_content_trust notebook            tabnanny\n",
      "_locale             conda_env           nt                  tarfile\n",
      "_lsprof             conda_package_handling ntpath              tblib\n",
      "_lzma               conda_token         ntsecuritycon       telnetlib\n",
      "_markupbase         conda_verify        nturl2path          tempfile\n",
      "_md5                conf                numba               terminado\n",
      "_msi                configparser        numbers             test\n",
      "_multibytecodec     contextlib          numexpr             test_data\n",
      "_multiprocessing    contextlib2         numpy               test_pycosat\n",
      "_nsis               contextvars         numpydoc            testpath\n",
      "_opcode             copy                odbc                tests\n",
      "_operator           copyreg             olefile             textdistance\n",
      "_osx_support        crypt               opcode              textwrap\n",
      "_overlapped         cryptography        openpyxl            this\n",
      "_pickle             csv                 operator            threading\n",
      "_py_abc             ctypes              optparse            threadpoolctl\n",
      "_pydecimal          curl                os                  three_merge\n",
      "_pyio               curses              packaging           tifffile\n",
      "_pyrsistent_version cwp                 pandas              time\n",
      "_pytest             cycler              pandocfilters       timeit\n",
      "_queue              cython              paramiko            timer\n",
      "_random             cythonmagic         parser              tkinter\n",
      "_sha1               cytoolz             parso               tlz\n",
      "_sha256             dask                partd               token\n",
      "_sha3               dataclasses         past                tokenize\n",
      "_sha512             datetime            path                toml\n",
      "_signal             dateutil            pathlib             toolz\n",
      "_sitebuiltins       dbi                 pathlib2            tornado\n",
      "_socket             dbm                 pathspec            tqdm\n",
      "_sqlite3            dde                 patsy               trace\n",
      "_sre                decimal             pdb                 traceback\n",
      "_ssl                decorator           pep8                tracemalloc\n",
      "_stat               defusedxml          perfmon             traitlets\n",
      "_statistics         diff_match_patch    pexpect             tty\n",
      "_string             difflib             pickle              turtle\n",
      "_strptime           dis                 pickleshare         turtledemo\n",
      "_struct             distributed         pickletools         typed_ast\n",
      "_symtable           distutils           pip                 types\n",
      "_system_path        doctest             pipes               typing\n",
      "_testbuffer         docutils            pkg_resources       typing_extensions\n",
      "_testcapi           dummy_threading     pkginfo             ujson\n",
      "_testconsole        email               pkgutil             unicodecsv\n",
      "_testimportmultiple encodings           platform            unicodedata\n",
      "_testinternalcapi   ensurepip           plistlib            unittest\n",
      "_testmultiphase     entrypoints         pluggy              urllib\n",
      "_thread             enum                ply                 urllib3\n",
      "_threading_local    erfa                poplib              uu\n",
      "_tkinter            errno               posixpath           uuid\n",
      "_tracemalloc        et_xmlfile          pprint              venv\n",
      "_warnings           fastcache           profile             warnings\n",
      "_weakref            faulthandler        prometheus_client   watchdog\n",
      "_weakrefset         filecmp             prompt_toolkit      wave\n",
      "_win32sysloader     fileinput           pstats              wcwidth\n",
      "_winapi             filelock            psutil              weakref\n",
      "_winxptheme         flake8              pty                 webbrowser\n",
      "_xxsubinterpreters  flask               ptyprocess          webencodings\n",
      "_yaml               fnmatch             pvectorc            werkzeug\n",
      "abc                 formatter           py                  wheel\n",
      "adodbapi            fractions           py_compile          widgetsnbextension\n",
      "afxres              fsspec              pyclbr              win2kras\n",
      "aifc                ftplib              pycodestyle         win32api\n",
      "alabaster           functools           pycosat             win32clipboard\n",
      "anaconda_navigator  future              pycparser           win32com\n",
      "anaconda_project    gc                  pycurl              win32con\n",
      "antigravity         genericpath         pydoc               win32console\n",
      "anyio               getopt              pydoc_data          win32cred\n",
      "appdirs             getpass             pydocstyle          win32crypt\n",
      "argh                gettext             pyexpat             win32cryptcon\n",
      "argon2              gevent              pyflakes            win32ctypes\n",
      "argparse            glob                pygments            win32event\n",
      "array               glob2               pylab               win32evtlog\n",
      "asn1crypto          greenlet            pylint              win32evtlogutil\n",
      "ast                 gzip                pyls                win32file\n",
      "astroid             h5py                pyls_black          win32gui\n"
     ]
    },
    {
     "name": "stdout",
     "output_type": "stream",
     "text": [
      "astropy             hashlib             pyls_jsonrpc        win32gui_struct\n",
      "async_generator     heapdict            pyls_spyder         win32help\n",
      "asynchat            heapq               pyodbc              win32inet\n",
      "asyncio             hmac                pyparsing           win32inetcon\n",
      "asyncore            html                pyreadline          win32job\n",
      "atexit              html5lib            pyrsistent          win32lz\n",
      "atomicwrites        http                pytest              win32net\n",
      "attr                idlelib             pythoncom           win32netcon\n",
      "audioop             idna                pytz                win32pdh\n",
      "autopep8            imagecodecs         pywin               win32pdhquery\n",
      "autoreload          imageio             pywin32_bootstrap   win32pdhutil\n",
      "babel               imagesize           pywin32_testutil    win32pipe\n",
      "backcall            imaplib             pywintypes          win32print\n",
      "backports           imghdr              pywt                win32process\n",
      "base64              imp                 pyximport           win32profile\n",
      "bcrypt              importlib           qdarkstyle          win32ras\n",
      "bdb                 importlib_metadata  qtawesome           win32rcparser\n",
      "binascii            iniconfig           qtconsole           win32security\n",
      "binhex              inspect             qtpy                win32service\n",
      "binstar_client      intervaltree        queue               win32serviceutil\n",
      "bisect              io                  quopri              win32timezone\n",
      "bitarray            ipaddress           random              win32trace\n",
      "bkcharts            ipykernel           rasutil             win32traceutil\n",
      "black               ipykernel_launcher  re                  win32transaction\n",
      "blackd              ipython_genutils    readline            win32ts\n",
      "bleach              ipywidgets          regcheck            win32ui\n",
      "blib2to3            isapi               regex               win32uiole\n",
      "bokeh               isort               regutil             win32verstamp\n",
      "boto                isympy              repo_cli            win32wnet\n",
      "bottleneck          itertools           reprlib             win_inet_pton\n",
      "brain_argparse      itsdangerous        requests            win_unicode_console\n",
      "brain_attrs         jdcal               rlcompleter         wincertstore\n",
      "brain_boto3         jedi                rmagic              winerror\n",
      "brain_builtin_inference jinja2              rope                winioctlcon\n",
      "brain_collections   joblib              rtree               winnt\n",
      "brain_crypt         json                ruamel_yaml         winperf\n",
      "brain_curses        json5               run                 winpty\n",
      "brain_dataclasses   jsonschema          runpy               winreg\n",
      "brain_dateutil      jupyter             sched               winsound\n",
      "brain_fstrings      jupyter_client      scipy               winxpgui\n",
      "brain_functools     jupyter_console     scripts             winxptheme\n",
      "brain_gi            jupyter_core        seaborn             wrapt\n",
      "brain_hashlib       jupyter_packaging   secrets             wsgiref\n",
      "brain_http          jupyter_server      select              xdrlib\n",
      "brain_hypothesis    jupyterlab          selectors           xlrd\n",
      "brain_io            jupyterlab_pygments send2trash          xlsxwriter\n",
      "brain_mechanize     jupyterlab_server   servicemanager      xlwings\n",
      "brain_multiprocessing jupyterlab_widgets  setuptools          xlwt\n",
      "brain_namedtuple_enum keyring             shelve              xml\n",
      "brain_nose          keyword             shlex               xmlrpc\n",
      "brain_numpy_core_fromnumeric kiwisolver          shutil              xmltodict\n",
      "brain_numpy_core_function_base lazy_object_proxy   signal              xxsubtype\n",
      "brain_numpy_core_multiarray lib2to3             simplegeneric       yaml\n",
      "brain_numpy_core_numeric libarchive          singledispatch      yapf\n",
      "brain_numpy_core_numerictypes libfuturize         sip                 yapftests\n",
      "brain_numpy_core_umath libpasteurize       sipconfig           zict\n",
      "brain_numpy_ndarray lief                sipdistutils        zipapp\n",
      "brain_numpy_random_mtrand linecache           site                zipfile\n",
      "brain_numpy_utils   llvmlite            six                 zipimport\n",
      "brain_pkg_resources locale              skimage             zipp\n",
      "brain_pytest        locket              sklearn             zlib\n",
      "brain_qt            logging             smtpd               zmq\n",
      "brain_random        lxml                smtplib             zope\n",
      "\n",
      "Enter any module name to get more help.  Or, type \"modules spam\" to search\n",
      "for modules whose name or summary contain the string \"spam\".\n",
      "\n",
      "None\n"
     ]
    }
   ],
   "source": [
    "print (help('modules') )\n"
   ]
  },
  {
   "cell_type": "markdown",
   "metadata": {},
   "source": [
    "`pip` is a special package. It is used from the command line to install properly (e.g. matching the version of the local packages) new packages. It can also be used from within python to check i.e. the set installed packages and their versions. N.B.: only the installed packages on top of the default ones will be listed "
   ]
  },
  {
   "cell_type": "code",
   "execution_count": 8,
   "metadata": {
    "pycharm": {
     "is_executing": true
    }
   },
   "outputs": [
    {
     "data": {
      "text/plain": [
       "['alabaster==0.7.12',\n",
       " 'anaconda-client==1.7.2',\n",
       " 'anaconda-navigator==2.0.3',\n",
       " 'anaconda-project==0.9.1',\n",
       " 'anyio==2.2.0',\n",
       " 'appdirs==1.4.4',\n",
       " 'argh==0.26.2',\n",
       " 'argon2-cffi==20.1.0',\n",
       " 'asn1crypto==1.4.0',\n",
       " 'astroid==2.5',\n",
       " 'astropy==4.2.1',\n",
       " 'async-generator==1.10',\n",
       " 'atomicwrites==1.4.0',\n",
       " 'attrs==20.3.0',\n",
       " 'autopep8==1.5.6',\n",
       " 'babel==2.9.0',\n",
       " 'backcall==0.2.0',\n",
       " 'backports.functools-lru-cache==1.6.4',\n",
       " 'backports.shutil-get-terminal-size==1.0.0',\n",
       " 'backports.tempfile==1.0',\n",
       " 'backports.weakref==1.0.post1',\n",
       " 'bcrypt==3.2.0',\n",
       " 'beautifulsoup4==4.9.3',\n",
       " 'bitarray==1.9.2',\n",
       " 'bkcharts==0.2',\n",
       " 'black==19.10b0',\n",
       " 'bleach==3.3.0',\n",
       " 'bokeh==2.3.2',\n",
       " 'boto==2.49.0',\n",
       " 'bottleneck==1.3.2',\n",
       " 'brotlipy==0.7.0',\n",
       " 'certifi==2020.12.5',\n",
       " 'cffi==1.14.5',\n",
       " 'chardet==4.0.0',\n",
       " 'click==7.1.2',\n",
       " 'cloudpickle==1.6.0',\n",
       " 'clyent==1.2.2',\n",
       " 'colorama==0.4.4',\n",
       " 'comtypes==1.1.9',\n",
       " 'conda-build==3.21.4',\n",
       " 'conda-content-trust==0+unknown',\n",
       " 'conda-package-handling==1.7.3',\n",
       " 'conda-repo-cli==1.0.4',\n",
       " 'conda-token==0.3.0',\n",
       " 'conda-verify==3.4.2',\n",
       " 'conda==4.10.1',\n",
       " 'contextlib2==0.6.0.post1',\n",
       " 'cryptography==3.4.7',\n",
       " 'cycler==0.10.0',\n",
       " 'cython==0.29.23',\n",
       " 'cytoolz==0.11.0',\n",
       " 'dask==2021.4.0',\n",
       " 'decorator==5.0.6',\n",
       " 'defusedxml==0.7.1',\n",
       " 'diff-match-patch==20200713',\n",
       " 'distributed==2021.4.0',\n",
       " 'docutils==0.17',\n",
       " 'entrypoints==0.3',\n",
       " 'et-xmlfile==1.0.1',\n",
       " 'fastcache==1.1.0',\n",
       " 'filelock==3.0.12',\n",
       " 'flake8==3.9.0',\n",
       " 'flask==1.1.2',\n",
       " 'fsspec==0.9.0',\n",
       " 'future==0.18.2',\n",
       " 'gevent==21.1.2',\n",
       " 'glob2==0.7',\n",
       " 'greenlet==1.0.0',\n",
       " 'h5py==2.10.0',\n",
       " 'heapdict==1.0.1',\n",
       " 'html5lib==1.1',\n",
       " 'idna==2.10',\n",
       " 'imagecodecs==2021.3.31',\n",
       " 'imageio==2.9.0',\n",
       " 'imagesize==1.2.0',\n",
       " 'importlib-metadata==3.10.0',\n",
       " 'iniconfig==1.1.1',\n",
       " 'intervaltree==3.1.0',\n",
       " 'ipykernel==5.3.4',\n",
       " 'ipython-genutils==0.2.0',\n",
       " 'ipython==7.22.0',\n",
       " 'ipywidgets==7.6.3',\n",
       " 'isort==5.8.0',\n",
       " 'itsdangerous==1.1.0',\n",
       " 'jdcal==1.4.1',\n",
       " 'jedi==0.17.2',\n",
       " 'jinja2==2.11.3',\n",
       " 'joblib==1.0.1',\n",
       " 'json5==0.9.5',\n",
       " 'jsonschema==3.2.0',\n",
       " 'jupyter-client==6.1.12',\n",
       " 'jupyter-console==6.4.0',\n",
       " 'jupyter-core==4.7.1',\n",
       " 'jupyter-packaging==0.7.12',\n",
       " 'jupyter-server==1.4.1',\n",
       " 'jupyter==1.0.0',\n",
       " 'jupyterlab-pygments==0.1.2',\n",
       " 'jupyterlab-server==2.4.0',\n",
       " 'jupyterlab-widgets==1.0.0',\n",
       " 'jupyterlab==3.0.14',\n",
       " 'keyring==22.3.0',\n",
       " 'kiwisolver==1.3.1',\n",
       " 'lazy-object-proxy==1.6.0',\n",
       " 'libarchive-c==2.9',\n",
       " 'llvmlite==0.36.0',\n",
       " 'locket==0.2.1',\n",
       " 'lxml==4.6.3',\n",
       " 'markupsafe==1.1.1',\n",
       " 'matplotlib==3.3.4',\n",
       " 'mccabe==0.6.1',\n",
       " 'menuinst==1.4.16',\n",
       " 'mistune==0.8.4',\n",
       " 'mkl-fft==1.3.0',\n",
       " 'mkl-random==1.2.1',\n",
       " 'mkl-service==2.3.0',\n",
       " 'mock==4.0.3',\n",
       " 'more-itertools==8.7.0',\n",
       " 'mpmath==1.2.1',\n",
       " 'msgpack==1.0.2',\n",
       " 'multipledispatch==0.6.0',\n",
       " 'mypy-extensions==0.4.3',\n",
       " 'navigator-updater==0.2.1',\n",
       " 'nbclassic==0.2.6',\n",
       " 'nbclient==0.5.3',\n",
       " 'nbconvert==6.0.7',\n",
       " 'nbformat==5.1.3',\n",
       " 'nest-asyncio==1.5.1',\n",
       " 'networkx==2.5',\n",
       " 'nltk==3.6.1',\n",
       " 'nose==1.3.7',\n",
       " 'notebook==6.3.0',\n",
       " 'numba==0.53.1',\n",
       " 'numexpr==2.7.3',\n",
       " 'numpy==1.20.1',\n",
       " 'numpydoc==1.1.0',\n",
       " 'olefile==0.46',\n",
       " 'openpyxl==3.0.7',\n",
       " 'packaging==20.9',\n",
       " 'pandas==1.2.4',\n",
       " 'pandocfilters==1.4.3',\n",
       " 'paramiko==2.7.2',\n",
       " 'parso==0.7.0',\n",
       " 'partd==1.2.0',\n",
       " 'path==15.1.2',\n",
       " 'pathlib2==2.3.5',\n",
       " 'pathspec==0.7.0',\n",
       " 'patsy==0.5.1',\n",
       " 'pep8==1.7.1',\n",
       " 'pexpect==4.8.0',\n",
       " 'pickleshare==0.7.5',\n",
       " 'pillow==8.2.0',\n",
       " 'pip==21.0.1',\n",
       " 'pkginfo==1.7.0',\n",
       " 'pluggy==0.13.1',\n",
       " 'ply==3.11',\n",
       " 'prometheus-client==0.10.1',\n",
       " 'prompt-toolkit==3.0.17',\n",
       " 'psutil==5.8.0',\n",
       " 'ptyprocess==0.7.0',\n",
       " 'py==1.10.0',\n",
       " 'pycodestyle==2.6.0',\n",
       " 'pycosat==0.6.3',\n",
       " 'pycparser==2.20',\n",
       " 'pycurl==7.43.0.6',\n",
       " 'pydocstyle==6.0.0',\n",
       " 'pyerfa==1.7.3',\n",
       " 'pyflakes==2.2.0',\n",
       " 'pygments==2.8.1',\n",
       " 'pylint==2.7.4',\n",
       " 'pyls-black==0.4.6',\n",
       " 'pyls-spyder==0.3.2',\n",
       " 'pynacl==1.4.0',\n",
       " 'pyodbc==4.0.0-unsupported',\n",
       " 'pyopenssl==20.0.1',\n",
       " 'pyparsing==2.4.7',\n",
       " 'pyreadline==2.1',\n",
       " 'pyrsistent==0.17.3',\n",
       " 'pysocks==1.7.1',\n",
       " 'pytest==6.2.3',\n",
       " 'python-dateutil==2.8.1',\n",
       " 'python-jsonrpc-server==0.4.0',\n",
       " 'python-language-server==0.36.2',\n",
       " 'pytz==2021.1',\n",
       " 'pywavelets==1.1.1',\n",
       " 'pywin32-ctypes==0.2.0',\n",
       " 'pywin32==227',\n",
       " 'pywinpty==0.5.7',\n",
       " 'pyyaml==5.4.1',\n",
       " 'pyzmq==20.0.0',\n",
       " 'qdarkstyle==2.8.1',\n",
       " 'qtawesome==1.0.2',\n",
       " 'qtconsole==5.0.3',\n",
       " 'qtpy==1.9.0',\n",
       " 'regex==2021.4.4',\n",
       " 'requests==2.25.1',\n",
       " 'rope==0.18.0',\n",
       " 'rtree==0.9.7',\n",
       " 'ruamel-yaml-conda==0.15.100',\n",
       " 'scikit-image==0.18.1',\n",
       " 'scikit-learn==0.24.1',\n",
       " 'scipy==1.6.2',\n",
       " 'seaborn==0.11.1',\n",
       " 'send2trash==1.5.0',\n",
       " 'setuptools==52.0.0.post20210125',\n",
       " 'simplegeneric==0.8.1',\n",
       " 'singledispatch==0.0.0',\n",
       " 'sip==4.19.13',\n",
       " 'six==1.15.0',\n",
       " 'sniffio==1.2.0',\n",
       " 'snowballstemmer==2.1.0',\n",
       " 'sortedcollections==2.1.0',\n",
       " 'sortedcontainers==2.3.0',\n",
       " 'soupsieve==2.2.1',\n",
       " 'sphinx==4.0.1',\n",
       " 'sphinxcontrib-applehelp==1.0.2',\n",
       " 'sphinxcontrib-devhelp==1.0.2',\n",
       " 'sphinxcontrib-htmlhelp==1.0.3',\n",
       " 'sphinxcontrib-jsmath==1.0.1',\n",
       " 'sphinxcontrib-qthelp==1.0.3',\n",
       " 'sphinxcontrib-serializinghtml==1.1.4',\n",
       " 'sphinxcontrib-websupport==1.2.4',\n",
       " 'spyder-kernels==1.10.2',\n",
       " 'spyder==4.2.5',\n",
       " 'sqlalchemy==1.4.7',\n",
       " 'statsmodels==0.12.2',\n",
       " 'sympy==1.8',\n",
       " 'tables==3.6.1',\n",
       " 'tblib==1.7.0',\n",
       " 'terminado==0.9.4',\n",
       " 'testpath==0.4.4',\n",
       " 'textdistance==4.2.1',\n",
       " 'threadpoolctl==2.1.0',\n",
       " 'three-merge==0.1.1',\n",
       " 'tifffile==2021.4.8',\n",
       " 'toml==0.10.2',\n",
       " 'toolz==0.11.1',\n",
       " 'tornado==6.1',\n",
       " 'tqdm==4.59.0',\n",
       " 'traitlets==5.0.5',\n",
       " 'typed-ast==1.4.2',\n",
       " 'typing-extensions==3.7.4.3',\n",
       " 'ujson==4.0.2',\n",
       " 'unicodecsv==0.14.1',\n",
       " 'urllib3==1.26.4',\n",
       " 'watchdog==1.0.2',\n",
       " 'wcwidth==0.2.5',\n",
       " 'webencodings==0.5.1',\n",
       " 'werkzeug==1.0.1',\n",
       " 'wheel==0.36.2',\n",
       " 'widgetsnbextension==3.5.1',\n",
       " 'win-inet-pton==1.1.0',\n",
       " 'win-unicode-console==0.5',\n",
       " 'wincertstore==0.2',\n",
       " 'wrapt==1.12.1',\n",
       " 'xlrd==2.0.1',\n",
       " 'xlsxwriter==1.3.8',\n",
       " 'xlwings==0.23.0',\n",
       " 'xlwt==1.3.0',\n",
       " 'xmltodict==0.12.0',\n",
       " 'yapf==0.31.0',\n",
       " 'zict==2.0.0',\n",
       " 'zipp==3.4.1',\n",
       " 'zope.event==4.5.0',\n",
       " 'zope.interface==5.3.0']"
      ]
     },
     "execution_count": 8,
     "metadata": {},
     "output_type": "execute_result"
    }
   ],
   "source": [
    "import pip\n",
    "sorted([\"%s==%s\" % (i.key, i.version) for i in pip._internal.utils.misc.get_installed_distributions()])"
   ]
  },
  {
   "cell_type": "markdown",
   "metadata": {},
   "source": [
    "# Functions"
   ]
  },
  {
   "cell_type": "code",
   "execution_count": 26,
   "metadata": {
    "pycharm": {
     "is_executing": true
    }
   },
   "outputs": [
    {
     "name": "stdout",
     "output_type": "stream",
     "text": [
      "9\n",
      "27\n",
      "cube 27\n",
      "square 9\n"
     ]
    }
   ],
   "source": [
    "def square(x):\n",
    "    \"\"\"Square of x.\"\"\"\n",
    "    return x*x\n",
    "\n",
    "def cube(x):\n",
    "    \"\"\"Cube of x.\"\"\"\n",
    "    return x*x*x\n",
    "\n",
    "# create a dictionary of functions\n",
    "funcs = {\n",
    "    'square': square,\n",
    "    'cube': cube,\n",
    "}\n",
    "\n",
    "x = 3\n",
    "print(square(x))\n",
    "print(cube(x))\n",
    "\n",
    "for func in sorted(funcs):\n",
    "    print (func, funcs[func](x))"
   ]
  },
  {
   "cell_type": "markdown",
   "metadata": {},
   "source": [
    "## Functions arguments"
   ]
  },
  {
   "cell_type": "markdown",
   "metadata": {},
   "source": [
    "What is passsed to a function is a copy of the input. Imagine we have a list *x =[1, 2, 3]*, i.e. a mutable object. If within the function the content of *x* is directly changed (e.g. *x[0] = 999*), then *x* changes outside the funciton as well. "
   ]
  },
  {
   "cell_type": "code",
   "execution_count": 27,
   "metadata": {
    "pycharm": {
     "is_executing": true
    }
   },
   "outputs": [
    {
     "name": "stdout",
     "output_type": "stream",
     "text": [
      "[1, 2, 3]\n",
      "[999, 2, 3]\n",
      "[999, 2, 3]\n"
     ]
    }
   ],
   "source": [
    "def modify(x):\n",
    "    x[0] = 999\n",
    "    return x\n",
    "\n",
    "x = [1,2,3]\n",
    "print (x)\n",
    "print (modify(x))\n",
    "print (x)"
   ]
  },
  {
   "cell_type": "markdown",
   "metadata": {},
   "source": [
    "However, if *x* is reassigned within the function to a new object (e.g. another list), then the copy of the name *x* now points to the new object, but *x* outside the function is unhcanged."
   ]
  },
  {
   "cell_type": "code",
   "execution_count": 28,
   "metadata": {
    "pycharm": {
     "is_executing": true
    }
   },
   "outputs": [
    {
     "name": "stdout",
     "output_type": "stream",
     "text": [
      "[1, 2, 3]\n",
      "[4, 5, 6]\n",
      "[1, 2, 3]\n"
     ]
    }
   ],
   "source": [
    "def no_modify(x):\n",
    "    x = [4,5,6]\n",
    "    return x\n",
    "\n",
    "x = [1,2,3]\n",
    "print (x)\n",
    "print (no_modify(x))\n",
    "print (x)\n"
   ]
  },
  {
   "cell_type": "markdown",
   "metadata": {},
   "source": [
    "What if the function tries to modify the value of an immutable object?"
   ]
  },
  {
   "cell_type": "markdown",
   "metadata": {},
   "source": [
    "Binding of default arguments occurs at function definition:"
   ]
  },
  {
   "cell_type": "code",
   "execution_count": 29,
   "metadata": {
    "pycharm": {
     "is_executing": true
    }
   },
   "outputs": [
    {
     "name": "stdout",
     "output_type": "stream",
     "text": [
      "[1]\n",
      "[1, 1]\n",
      "[9, 9, 9, 1]\n",
      "[1, 1, 1]\n",
      "[1, 1, 1, 1]\n"
     ]
    }
   ],
   "source": [
    "def f(x = []):\n",
    "    x.append(1)\n",
    "    return x\n",
    "\n",
    "print (f())\n",
    "print (f())\n",
    "print (f(x = [9,9,9]))\n",
    "print (f())\n",
    "print (f())"
   ]
  },
  {
   "cell_type": "markdown",
   "metadata": {},
   "source": [
    "Try to aviod that!!"
   ]
  },
  {
   "cell_type": "code",
   "execution_count": 30,
   "metadata": {
    "pycharm": {
     "is_executing": true
    }
   },
   "outputs": [
    {
     "name": "stdout",
     "output_type": "stream",
     "text": [
      "[1]\n",
      "[1]\n",
      "[9, 9, 9, 1]\n",
      "[1]\n",
      "[1]\n"
     ]
    }
   ],
   "source": [
    "def f(x = None):\n",
    "    if x is None:\n",
    "        x = []\n",
    "    x.append(1)\n",
    "    return x\n",
    "\n",
    "print (f())\n",
    "print (f())\n",
    "print (f(x = [9,9,9]))\n",
    "print (f())\n",
    "print (f())"
   ]
  },
  {
   "cell_type": "markdown",
   "metadata": {},
   "source": [
    "## Higher order functions\n",
    "\n",
    "A function that uses another function as an input argument or returns a function is known as a higher-order function (HOF). The most familiar examples are `map` and `filter`."
   ]
  },
  {
   "cell_type": "markdown",
   "metadata": {},
   "source": [
    "### map\n",
    "\n",
    "The map function applies a function to each member of a collection"
   ]
  },
  {
   "cell_type": "code",
   "execution_count": 31,
   "metadata": {
    "pycharm": {
     "is_executing": true
    }
   },
   "outputs": [
    {
     "name": "stdout",
     "output_type": "stream",
     "text": [
      "[0, 1, 4, 9, 16]\n",
      "0\n",
      "1\n",
      "4\n",
      "9\n",
      "16\n"
     ]
    },
    {
     "data": {
      "text/plain": [
       "[0, 1, 4, 9, 16, 25]"
      ]
     },
     "execution_count": 31,
     "metadata": {},
     "output_type": "execute_result"
    }
   ],
   "source": [
    "x = list(map(square, range(5))) \n",
    "print (x)\n",
    "\n",
    "# Note the difference w.r.t python 2. In python 3 map retuns an iterator so you can do stuff like:\n",
    "for i in map(square,range(5)): print(i)\n",
    "\n",
    "# or\n",
    "[i for i in map(square,range(6))]"
   ]
  },
  {
   "cell_type": "markdown",
   "metadata": {},
   "source": [
    "### filter\n",
    "\n",
    "The filter function applies a predicate to each member of a collection, retaining only those members where the predicate is True"
   ]
  },
  {
   "cell_type": "code",
   "execution_count": null,
   "metadata": {
    "pycharm": {
     "is_executing": true
    }
   },
   "outputs": [],
   "source": [
    "def is_even(x):\n",
    "    return x%2 == 0\n",
    "\n",
    "print (list(filter(is_even, range(5))))"
   ]
  },
  {
   "cell_type": "markdown",
   "metadata": {},
   "source": [
    "Combinations in sequence of HOF are obviously possible"
   ]
  },
  {
   "cell_type": "code",
   "execution_count": null,
   "metadata": {
    "pycharm": {
     "is_executing": true
    }
   },
   "outputs": [],
   "source": [
    "list(map(square, filter(is_even, range(5))))"
   ]
  },
  {
   "cell_type": "markdown",
   "metadata": {},
   "source": [
    "### reduce\n",
    "\n",
    "The reduce function reduces a collection using a binary operator to combine items two at a time. More often than not reduce can be substituted with a more efficient for loop. It is worth mentioning it for its key role in big-data applications together with map (the map-reduce paradigm). \n",
    "N.B.: it no loger exist as built-in function in python 3, it is now part of the `functools` library"
   ]
  },
  {
   "cell_type": "code",
   "execution_count": null,
   "metadata": {
    "pycharm": {
     "is_executing": true
    }
   },
   "outputs": [],
   "source": [
    "from functools import reduce\n",
    "\n",
    "def my_add(x, y):\n",
    "    return x + y\n",
    "\n",
    "# another implementation of the sum function\n",
    "reduce(my_add, [1,2,3,4,5])"
   ]
  },
  {
   "cell_type": "markdown",
   "metadata": {},
   "source": [
    "### zip\n",
    "\n",
    "zip is useful when you need to iterate over matched elements of multiple lists"
   ]
  },
  {
   "cell_type": "code",
   "execution_count": 32,
   "metadata": {
    "pycharm": {
     "is_executing": true
    }
   },
   "outputs": [
    {
     "name": "stdout",
     "output_type": "stream",
     "text": [
      "1 10 a\n",
      "2 20 b\n",
      "3 30 c\n",
      "4 40 d\n"
     ]
    }
   ],
   "source": [
    "xs = [1, 2, 3, 4]\n",
    "ys = [10, 20, 30, 40]\n",
    "zs = ['a', 'b', 'c', 'd', 'e']\n",
    "\n",
    "for x, y, z in zip(xs, ys, zs):\n",
    "    print (x, y, z)"
   ]
  },
  {
   "cell_type": "markdown",
   "metadata": {},
   "source": [
    "### Custom HOF"
   ]
  },
  {
   "cell_type": "code",
   "execution_count": 34,
   "metadata": {
    "pycharm": {
     "is_executing": true
    }
   },
   "outputs": [
    {
     "ename": "TypeError",
     "evalue": "<lambda>() missing 1 required positional argument: 'y'",
     "output_type": "error",
     "traceback": [
      "\u001B[1;31m---------------------------------------------------------------------------\u001B[0m",
      "\u001B[1;31mTypeError\u001B[0m                                 Traceback (most recent call last)",
      "\u001B[1;32m<ipython-input-34-e7c2fca7a474>\u001B[0m in \u001B[0;36m<module>\u001B[1;34m\u001B[0m\n\u001B[0;32m      4\u001B[0m \u001B[1;33m\u001B[0m\u001B[0m\n\u001B[0;32m      5\u001B[0m \u001B[0mxs\u001B[0m \u001B[1;33m=\u001B[0m \u001B[0mrange\u001B[0m\u001B[1;33m(\u001B[0m\u001B[1;36m5\u001B[0m\u001B[1;33m)\u001B[0m\u001B[1;33m\u001B[0m\u001B[1;33m\u001B[0m\u001B[0m\n\u001B[1;32m----> 6\u001B[1;33m \u001B[0mprint\u001B[0m \u001B[1;33m(\u001B[0m\u001B[0mcustom_sum\u001B[0m\u001B[1;33m(\u001B[0m\u001B[0mxs\u001B[0m\u001B[1;33m,\u001B[0m \u001B[0msquare\u001B[0m\u001B[1;33m)\u001B[0m\u001B[1;33m)\u001B[0m\u001B[1;33m\u001B[0m\u001B[1;33m\u001B[0m\u001B[0m\n\u001B[0m\u001B[0;32m      7\u001B[0m \u001B[0mprint\u001B[0m \u001B[1;33m(\u001B[0m\u001B[0mcustom_sum\u001B[0m\u001B[1;33m(\u001B[0m\u001B[0mxs\u001B[0m\u001B[1;33m,\u001B[0m \u001B[0mcube\u001B[0m\u001B[1;33m)\u001B[0m\u001B[1;33m)\u001B[0m\u001B[1;33m\u001B[0m\u001B[1;33m\u001B[0m\u001B[0m\n\u001B[0;32m      8\u001B[0m \u001B[1;33m\u001B[0m\u001B[0m\n",
      "\u001B[1;32m<ipython-input-34-e7c2fca7a474>\u001B[0m in \u001B[0;36mcustom_sum\u001B[1;34m(xs, transform)\u001B[0m\n\u001B[0;32m      1\u001B[0m \u001B[1;32mdef\u001B[0m \u001B[0mcustom_sum\u001B[0m\u001B[1;33m(\u001B[0m\u001B[0mxs\u001B[0m\u001B[1;33m,\u001B[0m \u001B[0mtransform\u001B[0m\u001B[1;33m)\u001B[0m\u001B[1;33m:\u001B[0m\u001B[1;33m\u001B[0m\u001B[1;33m\u001B[0m\u001B[0m\n\u001B[0;32m      2\u001B[0m     \u001B[1;34m\"\"\"Returns the sum of xs after a user specified transform.\"\"\"\u001B[0m\u001B[1;33m\u001B[0m\u001B[1;33m\u001B[0m\u001B[0m\n\u001B[1;32m----> 3\u001B[1;33m     \u001B[1;32mreturn\u001B[0m \u001B[0msum\u001B[0m\u001B[1;33m(\u001B[0m\u001B[0mmap\u001B[0m\u001B[1;33m(\u001B[0m\u001B[0mtransform\u001B[0m\u001B[1;33m,\u001B[0m \u001B[0mxs\u001B[0m\u001B[1;33m)\u001B[0m\u001B[1;33m)\u001B[0m\u001B[1;33m\u001B[0m\u001B[1;33m\u001B[0m\u001B[0m\n\u001B[0m\u001B[0;32m      4\u001B[0m \u001B[1;33m\u001B[0m\u001B[0m\n\u001B[0;32m      5\u001B[0m \u001B[0mxs\u001B[0m \u001B[1;33m=\u001B[0m \u001B[0mrange\u001B[0m\u001B[1;33m(\u001B[0m\u001B[1;36m5\u001B[0m\u001B[1;33m)\u001B[0m\u001B[1;33m\u001B[0m\u001B[1;33m\u001B[0m\u001B[0m\n",
      "\u001B[1;31mTypeError\u001B[0m: <lambda>() missing 1 required positional argument: 'y'"
     ]
    }
   ],
   "source": [
    "def custom_sum(xs, transform):\n",
    "    \"\"\"Returns the sum of xs after a user specified transform.\"\"\"\n",
    "    return sum(map(transform, xs))\n",
    "\n",
    "xs = range(5)\n",
    "print (custom_sum(xs, square))\n",
    "print (custom_sum(xs, cube))\n",
    "\n"
   ]
  },
  {
   "cell_type": "markdown",
   "metadata": {},
   "source": [
    "### Returning a function"
   ]
  },
  {
   "cell_type": "code",
   "execution_count": 35,
   "metadata": {
    "pycharm": {
     "is_executing": true
    }
   },
   "outputs": [],
   "source": [
    "def make_logger(target):\n",
    "    def logger(data):\n",
    "        with open(target, 'a') as f:\n",
    "            f.write(data + '\\n')\n",
    "    return logger\n",
    "\n",
    "foo_logger = make_logger('foo.txt') #foo.txt will be created if not there already\n",
    "foo_logger('Hello')\n",
    "foo_logger('World')"
   ]
  },
  {
   "cell_type": "code",
   "execution_count": 36,
   "metadata": {
    "pycharm": {
     "is_executing": true
    }
   },
   "outputs": [
    {
     "name": "stdout",
     "output_type": "stream",
     "text": [
      "Hello"
     ]
    },
    {
     "name": "stderr",
     "output_type": "stream",
     "text": [
      "      1 [main] cat 22700 find_fast_cwd: WARNING: Couldn't compute FAST_CWD pointer.  Please report this problem to"
     ]
    },
    {
     "name": "stdout",
     "output_type": "stream",
     "text": [
      "\n",
      "World"
     ]
    },
    {
     "name": "stderr",
     "output_type": "stream",
     "text": [
      "\n",
      "the public mailing list cygwin@cygwin.com"
     ]
    },
    {
     "name": "stdout",
     "output_type": "stream",
     "text": [
      "\n"
     ]
    },
    {
     "name": "stderr",
     "output_type": "stream",
     "text": [
      "\n"
     ]
    },
    {
     "name": "stdout",
     "output_type": "stream",
     "text": [
      "Hello\n",
      "World\n"
     ]
    }
   ],
   "source": [
    "! cat 'foo.txt'"
   ]
  },
  {
   "cell_type": "markdown",
   "metadata": {},
   "source": [
    "## Anonimous functions (lambda)\n",
    "\n",
    "When using functional style, there is often the need to create specific functions that perform a limited task as input to a HOF such as map or filter. In such cases, these functions are often written as anonymous or lambda functions. \n",
    "The syntax is as follows:\n",
    "\n",
    "lambda *arguments* : *expression*\n",
    "\n",
    "\n",
    "If you find it hard to understand what a lambda function is doing, it should probably be rewritten as a regular function."
   ]
  },
  {
   "cell_type": "code",
   "execution_count": 37,
   "metadata": {
    "pycharm": {
     "is_executing": true
    }
   },
   "outputs": [
    {
     "data": {
      "text/plain": [
       "7"
      ]
     },
     "execution_count": 37,
     "metadata": {},
     "output_type": "execute_result"
    }
   ],
   "source": [
    "sum = lambda x,y: x+y\n",
    "sum(3,4)"
   ]
  },
  {
   "cell_type": "code",
   "execution_count": 38,
   "metadata": {
    "pycharm": {
     "is_executing": true
    }
   },
   "outputs": [
    {
     "name": "stdout",
     "output_type": "stream",
     "text": [
      "0\n",
      "1\n",
      "4\n",
      "9\n",
      "16\n"
     ]
    }
   ],
   "source": [
    "for i in map(lambda x: x*x, range(5)): print (i)"
   ]
  },
  {
   "cell_type": "code",
   "execution_count": 39,
   "metadata": {
    "pycharm": {
     "is_executing": true
    }
   },
   "outputs": [
    {
     "name": "stdout",
     "output_type": "stream",
     "text": [
      "285\n"
     ]
    }
   ],
   "source": [
    "# what does this function do?\n",
    "from functools import reduce\n",
    "s1 = reduce(lambda x, y: x+y, map(lambda x: x**2, range(1,10)))\n",
    "print(s1)\n"
   ]
  },
  {
   "cell_type": "markdown",
   "metadata": {},
   "source": [
    "## Recursive functions "
   ]
  },
  {
   "cell_type": "code",
   "execution_count": 40,
   "metadata": {
    "pycharm": {
     "is_executing": true
    }
   },
   "outputs": [
    {
     "name": "stdout",
     "output_type": "stream",
     "text": [
      "[1, 1, 2, 3, 5, 8, 13, 21, 34, 55]\n"
     ]
    }
   ],
   "source": [
    "def fib1(n):\n",
    "    \"\"\"Fib with recursion.\"\"\"\n",
    "\n",
    "    # base case\n",
    "    if n==0 or n==1:\n",
    "        return 1\n",
    "    # recurssive case\n",
    "    else:\n",
    "        return fib1(n-1) + fib1(n-2)\n",
    "\n",
    "    \n",
    "print ([fib1(i) for i in range(10)])"
   ]
  },
  {
   "cell_type": "code",
   "execution_count": 41,
   "metadata": {
    "pycharm": {
     "is_executing": true
    }
   },
   "outputs": [
    {
     "name": "stdout",
     "output_type": "stream",
     "text": [
      "[1, 1, 2, 3, 5, 8, 13, 21, 34, 55]\n"
     ]
    }
   ],
   "source": [
    "# In Python, a more efficient version that does not use recursion is\n",
    "\n",
    "def fib2(n):\n",
    "    \"\"\"Fib without recursion.\"\"\"\n",
    "    a, b = 0, 1\n",
    "    for i in range(1, n+1):\n",
    "        a, b = b, a+b\n",
    "    return b\n",
    "\n",
    "print ([fib2(i) for i in range(10)])"
   ]
  },
  {
   "cell_type": "code",
   "execution_count": 42,
   "metadata": {
    "pycharm": {
     "is_executing": true
    }
   },
   "outputs": [
    {
     "name": "stdout",
     "output_type": "stream",
     "text": [
      "4.35 ms ± 114 µs per loop (mean ± std. dev. of 7 runs, 100 loops each)\n",
      "2.09 µs ± 41.7 ns per loop (mean ± std. dev. of 7 runs, 100000 loops each)\n"
     ]
    }
   ],
   "source": [
    "# check indeed the timing:\n",
    "\n",
    "%timeit fib1(20)\n",
    "%timeit fib2(20)\n"
   ]
  },
  {
   "cell_type": "markdown",
   "metadata": {},
   "source": [
    "## Iterators\n",
    "\n",
    "Iterators represent streams of values. Because only one value is consumed at a time, they use very little memory. Use of iterators is very helpful for working with data sets too large to fit into RAM."
   ]
  },
  {
   "cell_type": "code",
   "execution_count": 44,
   "metadata": {
    "pycharm": {
     "is_executing": true
    }
   },
   "outputs": [
    {
     "name": "stdout",
     "output_type": "stream",
     "text": [
      "1\n",
      "2\n",
      "3\n"
     ]
    },
    {
     "ename": "StopIteration",
     "evalue": "",
     "output_type": "error",
     "traceback": [
      "\u001B[1;31m---------------------------------------------------------------------------\u001B[0m",
      "\u001B[1;31mStopIteration\u001B[0m                             Traceback (most recent call last)",
      "\u001B[1;32m<ipython-input-44-7fd2aa3a4ecb>\u001B[0m in \u001B[0;36m<module>\u001B[1;34m\u001B[0m\n\u001B[0;32m      7\u001B[0m \u001B[0mprint\u001B[0m \u001B[1;33m(\u001B[0m\u001B[0mnext\u001B[0m\u001B[1;33m(\u001B[0m\u001B[0mx_iter\u001B[0m\u001B[1;33m)\u001B[0m\u001B[1;33m)\u001B[0m\u001B[1;33m\u001B[0m\u001B[1;33m\u001B[0m\u001B[0m\n\u001B[0;32m      8\u001B[0m \u001B[0mprint\u001B[0m \u001B[1;33m(\u001B[0m\u001B[0mnext\u001B[0m\u001B[1;33m(\u001B[0m\u001B[0mx_iter\u001B[0m\u001B[1;33m)\u001B[0m\u001B[1;33m)\u001B[0m\u001B[1;33m\u001B[0m\u001B[1;33m\u001B[0m\u001B[0m\n\u001B[1;32m----> 9\u001B[1;33m \u001B[0mprint\u001B[0m \u001B[1;33m(\u001B[0m\u001B[0mnext\u001B[0m\u001B[1;33m(\u001B[0m\u001B[0mx_iter\u001B[0m\u001B[1;33m)\u001B[0m\u001B[1;33m)\u001B[0m\u001B[1;33m\u001B[0m\u001B[1;33m\u001B[0m\u001B[0m\n\u001B[0m",
      "\u001B[1;31mStopIteration\u001B[0m: "
     ]
    }
   ],
   "source": [
    "# Iterators can be created from sequences with the built-in function iter()\n",
    "\n",
    "xs = [1,2,3]\n",
    "x_iter = iter(xs)\n",
    "\n",
    "print (next(x_iter))\n",
    "print (next(x_iter))\n",
    "print (next(x_iter))\n",
    "print (next(x_iter))"
   ]
  },
  {
   "cell_type": "code",
   "execution_count": 45,
   "metadata": {
    "pycharm": {
     "is_executing": true
    }
   },
   "outputs": [
    {
     "name": "stdout",
     "output_type": "stream",
     "text": [
      "1\n",
      "2\n",
      "3\n"
     ]
    }
   ],
   "source": [
    "# Most commonly, iterators are used (automatically) within a for loop\n",
    "# which terminates when it encouters a StopIteration exception\n",
    "\n",
    "x_iter = iter(xs)\n",
    "for x in x_iter:\n",
    "    print (x)"
   ]
  },
  {
   "cell_type": "markdown",
   "metadata": {},
   "source": [
    "## More on comprehensions"
   ]
  },
  {
   "cell_type": "code",
   "execution_count": null,
   "metadata": {
    "pycharm": {
     "is_executing": true
    }
   },
   "outputs": [],
   "source": [
    "# A generator expression\n",
    "\n",
    "print ((x for x in range(10)))\n",
    "\n",
    "# A list comprehesnnion\n",
    "\n",
    "print ([x for x in range(10)])\n",
    "\n",
    "# A set comprehension\n",
    "\n",
    "print ({x for x in range(10)})\n",
    "\n",
    "# A dictionary comprehension\n",
    "\n",
    "print ({x: x for x in range(10)})"
   ]
  },
  {
   "cell_type": "markdown",
   "metadata": {},
   "source": [
    "## Useful Modules\n",
    "\n",
    "You may want to have a look at the content of the following modules for further usage of (HO) functions:\n",
    "  - [operator](https://docs.python.org/3/library/operator.html)\n",
    "  - [functools](https://docs.python.org/3/library/functools.html)\n",
    "  - [itertools](https://docs.python.org/3/library/itertools.html)\n",
    "  - [toolz](https://pypi.org/project/toolz/)\n",
    "  - [funcy](https://pypi.org/project/funcy/)"
   ]
  },
  {
   "cell_type": "markdown",
   "metadata": {},
   "source": [
    "## Decorators\n",
    "\n",
    "Decorators are a type of HOF that take a function and return a wrapped function that provides additional useful properties.\n",
    "\n",
    "Examples:\n",
    "\n",
    "  - logging\n",
    "  - profiling\n",
    "  - Just-In-Time (JIT) compilation"
   ]
  },
  {
   "cell_type": "code",
   "execution_count": null,
   "metadata": {
    "pycharm": {
     "is_executing": true
    }
   },
   "outputs": [],
   "source": [
    "def my_decorator(func):\n",
    "    def wrapper():\n",
    "        print(\"Something is happening before the function is called.\")\n",
    "        func()\n",
    "        print(\"Something is happening after the function is called.\")\n",
    "    return wrapper\n",
    "\n",
    "def say_whee():\n",
    "    print(\"Whee!\")\n",
    "\n",
    "say_whee = my_decorator(say_whee)"
   ]
  },
  {
   "cell_type": "code",
   "execution_count": null,
   "metadata": {
    "pycharm": {
     "is_executing": true
    }
   },
   "outputs": [],
   "source": [
    "say_whee()"
   ]
  },
  {
   "cell_type": "markdown",
   "metadata": {},
   "source": [
    "Python allows you to use decorators in a simpler way with the @ symbol, sometimes called the “pie” syntax"
   ]
  },
  {
   "cell_type": "code",
   "execution_count": 46,
   "metadata": {
    "pycharm": {
     "is_executing": true
    }
   },
   "outputs": [],
   "source": [
    "def my_decorator(func):\n",
    "    def wrapper():\n",
    "        print(\"Something is happening before the function is called.\")\n",
    "        func()\n",
    "        print(\"Something is happening after the function is called.\")\n",
    "    return wrapper\n",
    "\n",
    "@my_decorator\n",
    "def say_whee():\n",
    "    print(\"Whee!\")"
   ]
  },
  {
   "cell_type": "code",
   "execution_count": 47,
   "metadata": {
    "pycharm": {
     "is_executing": true
    }
   },
   "outputs": [
    {
     "name": "stdout",
     "output_type": "stream",
     "text": [
      "Something is happening before the function is called.\n",
      "Whee!\n",
      "Something is happening after the function is called.\n"
     ]
    }
   ],
   "source": [
    "say_whee()"
   ]
  },
  {
   "cell_type": "markdown",
   "metadata": {},
   "source": [
    "# Classes and Objects\n",
    "\n",
    "Old school object-oriented programming is possible and often used in python. Classes are defined similarly to standard object-oriented languages, with similar functionalities.\n",
    "\n",
    "The main python doc [page](https://docs.python.org/3.6/tutorial/classes.html) is worth reading through "
   ]
  },
  {
   "cell_type": "code",
   "execution_count": null,
   "metadata": {
    "pycharm": {
     "is_executing": true
    }
   },
   "outputs": [],
   "source": [
    "class Pet:\n",
    "    # the \"constructor\"\n",
    "    def __init__(self, name, age):  #inizialize the elements of the class\n",
    "        self.name=name\n",
    "        self.age=age\n",
    "    # class functions take the \"self\" parameter !!!\n",
    "    def set_name(self,name):\n",
    "        self.name=name\n",
    "    def convert_age(self,factor):\n",
    "        self.age*=factor\n",
    "\n",
    "buddy=Pet(\"buddy\",12)\n",
    "print (buddy.name, buddy.age)\n",
    "buddy.age=3\n",
    "print (buddy.age)\n",
    "\n"
   ]
  },
  {
   "cell_type": "code",
   "execution_count": null,
   "metadata": {
    "pycharm": {
     "is_executing": true
    }
   },
   "outputs": [],
   "source": [
    "# ineritance is straightforward\n",
    "class Dog(Pet):\n",
    "    # the following variables is \"global\", i.e. holds for all \"Dog\" objects\n",
    "    species = \"mammal\"\n",
    "    # functions can be redefined as usual\n",
    "    def convert_age(self):\n",
    "        self.age*=7\n",
    "    def set_species(self, species):\n",
    "        self.species = species\n",
    "        \n",
    "puppy=Dog(\"tobia\",10)\n",
    "print(puppy.name)\n",
    "puppy.convert_age()\n",
    "print(puppy.age)\n",
    "\n"
   ]
  },
  {
   "cell_type": "code",
   "execution_count": null,
   "metadata": {
    "pycharm": {
     "is_executing": true
    }
   },
   "outputs": [],
   "source": []
  }
 ],
 "metadata": {
  "kernelspec": {
   "display_name": "Python 3",
   "language": "python",
   "name": "python3"
  },
  "language_info": {
   "codemirror_mode": {
    "name": "ipython",
    "version": 3
   },
   "file_extension": ".py",
   "mimetype": "text/x-python",
   "name": "python",
   "nbconvert_exporter": "python",
   "pygments_lexer": "ipython3",
   "version": "3.8.8"
  }
 },
 "nbformat": 4,
 "nbformat_minor": 2
}