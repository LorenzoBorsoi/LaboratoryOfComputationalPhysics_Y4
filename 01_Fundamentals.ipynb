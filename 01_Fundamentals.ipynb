{
 "cells": [
  {
   "cell_type": "markdown",
   "metadata": {},
   "source": [
    "# Modules/packages/libraries\n",
    "\n",
    "Definitions:\n",
    "\n",
    "  * Modules:\n",
    "  A module is a file which contains python functions, global variables etc. It is nothing but .py file which has python executable code / statement.\n",
    "\n",
    "  * Packages:\n",
    "  A package is a namespace which contains multiple package/modules. It is a directory which contains a special file `__init__.py`\n",
    "  \n",
    "  * Libraries:\n",
    "  A library is a collection of various packages. There is no difference between package and python library conceptually.\n",
    "  \n",
    "Modules/packages/libraries can be easily \"imported\" and made functional in your python code. A set of libriaries comes with every python installation. Others can be installed locally and then imported. Your own code sitting somewhere else in your local computer can be imported too.\n",
    "\n",
    "Further details (very important!) on packages and how to create them can be found online. We may find the need of creating our own during the course."
   ]
  },
  {
   "cell_type": "code",
   "execution_count": 1,
   "metadata": {},
   "outputs": [
    {
     "name": "stdout",
     "output_type": "stream",
     "text": [
      "3.141592653589793\n",
      "3.141592653589793\n",
      "3.141592653589793\n",
      "2.6457513110645907\n"
     ]
    }
   ],
   "source": [
    "###### all the \"stuff\" that is in the math library can be used\n",
    "import math\n",
    "print(math.pi)\n",
    "\n",
    "# you can give math a label for convenience\n",
    "import math as m\n",
    "print (m.pi)\n",
    "\n",
    "# alternatively you can import only a given \"thing\" from the library\n",
    "from math import pi    #you can add several libraries at once, just list them separated by a \", \"\n",
    "print (pi)\n",
    "\n",
    "# or just get everything (very dangerous!!!)\n",
    "from math import *\n",
    "print (sqrt(7))"
   ]
  },
  {
   "cell_type": "markdown",
   "metadata": {},
   "source": [
    "To know which modules are there for you to use just type:"
   ]
  },
  {
   "cell_type": "code",
   "execution_count": 2,
   "metadata": {},
   "outputs": [
    {
     "name": "stdout",
     "output_type": "stream",
     "text": [
      "\n",
      "Please wait a moment while I gather a list of all available modules...\n",
      "\n"
     ]
    },
    {
     "name": "stderr",
     "output_type": "stream",
     "text": [
      "/home/ilazza/.local/lib/python3.8/site-packages/IPython/kernel/__init__.py:12: ShimWarning: The `IPython.kernel` package has been deprecated since IPython 4.0.You should import from ipykernel or jupyter_client instead.\n",
      "  warn(\"The `IPython.kernel` package has been deprecated since IPython 4.0.\"\n",
      "/usr/lib64/python3.8/pkgutil.py:107: VisibleDeprecationWarning: zmq.eventloop.minitornado is deprecated in pyzmq 14.0 and will be removed.\n",
      "    Install tornado itself to use zmq with the tornado IOLoop.\n",
      "    \n",
      "  yield from walk_packages(path, info.name+'.', onerror)\n",
      "/usr/lib64/python3.8/pkgutil.py:92: MatplotlibDeprecationWarning: \n",
      "The matplotlib.compat module was deprecated in Matplotlib 3.3 and will be removed two minor releases later.\n",
      "  __import__(info.name)\n"
     ]
    },
    {
     "name": "stdout",
     "output_type": "stream",
     "text": [
      "IPython             base64              jsonschema          rmagic\n",
      "PIL                 bdb                 jupyter             rpm\n",
      "__future__          binascii            jupyter_client      runpy\n",
      "_abc                binhex              jupyter_core        sched\n",
      "_ast                bisect              jupyterlab          scipy\n",
      "_asyncio            bleach              jupyterlab_server   secrets\n",
      "_audit              blivet              keyword             select\n",
      "_bisect             blivetgui           kiwisolver          selectors\n",
      "_blake2             bs4                 langtable           selinux\n",
      "_bootlocale         builtins            lib2to3             semanage\n",
      "_bz2                bytesize            libcomps            send2trash\n",
      "_codecs             bz2                 libdnf              seobject\n",
      "_codecs_cn          cProfile            libxml2             sepolgen\n",
      "_codecs_hk          cairo               libxml2mod          sepolicy\n",
      "_codecs_iso2022     calendar            linecache           setools\n",
      "_codecs_jp          cgi                 locale              setproctitle\n",
      "_codecs_kr          cgitb               logging             setuptools\n",
      "_codecs_tw          chardet             lxml                shelve\n",
      "_collections        chunk               lzma                shlex\n",
      "_collections_abc    cmath               mailbox             shutil\n",
      "_compat_pickle      cmd                 mailcap             signal\n",
      "_compression        code                manatools           simpleline\n",
      "_contextvars        codecs              markupsafe          site\n",
      "_crypt              codeop              marshal             six\n",
      "_csv                collections         math                sklearn\n",
      "_ctypes             colorsys            matplotlib          slip\n",
      "_curses             compileall          meh                 smtpd\n",
      "_curses_panel       concurrent          mimetypes           smtplib\n",
      "_datetime           configparser        mistune             snack\n",
      "_dbm                contextlib          mmap                sndhdr\n",
      "_dbus_bindings      contextvars         modulefinder        socket\n",
      "_dbus_glib_bindings copy                multiprocessing     socketserver\n",
      "_decimal            copyreg             nbconvert           socks\n",
      "_dummy_thread       crypt               nbformat            sockshandler\n",
      "_elementtree        csv                 netrc               sos\n",
      "_functools          ctypes              nftables            soupsieve\n",
      "_gdbm               cups                nis                 spwd\n",
      "_hashlib            cupshelpers         nntplib             sqlite3\n",
      "_heapq              curl                notebook            sre_compile\n",
      "_imp                curses              ntpath              sre_constants\n",
      "_io                 cycler              ntplib              sre_parse\n",
      "_json               cythonmagic         nturl2path          ssl\n",
      "_locale             daemonize           numbers             stat\n",
      "_lsprof             dasbus              numpy               statistics\n",
      "_lzma               dataclasses         officehelper        storemagic\n",
      "_markupbase         datetime            opcode              string\n",
      "_md5                dateutil            openrazer           stringprep\n",
      "_multibytecodec     dbm                 openrazer_daemon    struct\n",
      "_multiprocessing    dbus                operator            subprocess\n",
      "_opcode             decimal             optparse            sunau\n",
      "_operator           decorator           ordered_set         symbol\n",
      "_osx_support        defusedxml          ortools             sympyprinting\n",
      "_ped                difflib             os                  symtable\n",
      "_pickle             dis                 ossaudiodev         sys\n",
      "_posixshmem         distro              packaging           sysconfig\n",
      "_posixsubprocess    distutils           pandocfilters       syslog\n",
      "_py_abc             dnf                 parser              systemd\n",
      "_pydecimal          dnfdaemon           parso               tabnanny\n",
      "_pyio               dnfpluginscore      parted              tarfile\n",
      "_pyrsistent_version doctest             pathlib             telnetlib\n",
      "_queue              drv_libxml2         pdb                 tempfile\n",
      "_random             dummy_threading     pexpect             terminado\n",
      "_selinux            easy_install        pickle              termios\n",
      "_semanage           email               pickleshare         testpath\n",
      "_sha1               encodings           pickletools         tests\n",
      "_sha256             ensurepip           pid                 textwrap\n",
      "_sha3               entrypoints         pip                 this\n",
      "_sha512             enum                pipes               threading\n",
      "_signal             errno               pkg_resources       threadpoolctl\n",
      "_sitebuiltins       faulthandler        pkgutil             time\n",
      "_snack              fc_solve_find_index_s2ints platform            timeit\n",
      "_socket             fcntl               plistlib            tkinter\n",
      "_sqlite3            filecmp             poplib              token\n",
      "_sre                fileinput           posix               tokenize\n",
      "_ssl                firewall            posixpath           tornado\n",
      "_stat               fnmatch             pprint              trace\n",
      "_statistics         formatter           problem             traceback\n",
      "_string             fractions           productmd           tracemalloc\n",
      "_strptime           ftplib              profile             traitlets\n",
      "_struct             functools           prometheus_client   tty\n",
      "_symtable           gc                  prompt_toolkit      turtle\n",
      "_sysconfigdata__linux_x86_64-linux-gnu genericpath         pstats              turtledemo\n",
      "_sysconfigdata_d_linux_x86_64-linux-gnu getopt              pty                 types\n",
      "_thread             getpass             ptyprocess          typing\n",
      "_threading_local    gettext             pwd                 unbound\n",
      "_tkinter            gi                  pwquality           unboundmodule\n",
      "_tracemalloc        glob                py_compile          unicodedata\n",
      "_unbound            gnome_abrt          pyanaconda          unittest\n",
      "_uuid               gpg                 pyclbr              uno\n",
      "_warnings           grp                 pycurl              unohelper\n",
      "_weakref            gzip                pydoc               urllib\n",
      "_weakrefset         hashlib             pydoc_data          urllib3\n",
      "_xxsubinterpreters  hawkey              pyexpat             uu\n",
      "_yaml               heapq               pygments            uuid\n",
      "_yui                hmac                pygtkcompat         venv\n",
      "abc                 html                pyinotify           warnings\n",
      "abrt_exception_handler3 http                pykickstart         wave\n",
      "abrtcli             humanize            pylab               wcwidth\n",
      "absl                idna                pyparsing           weakref\n",
      "aifc                imaplib             pyrsistent          webbrowser\n",
      "antigravity         imghdr              pythongettext       webencodings\n",
      "argcomplete         imp                 pytz                wsgiref\n",
      "argparse            importlib           pyudev              xdrlib\n",
      "array               initial_setup       queue               xml\n",
      "ast                 inspect             quopri              xmlrpc\n",
      "asynchat            io                  random              xxlimited\n",
      "asyncio             ipaddress           re                  xxsubtype\n",
      "asyncore            ipykernel           readline            yaml\n",
      "atexit              ipykernel_launcher  report              yui\n",
      "attr                ipython_genutils    reportclient        zipapp\n",
      "audioop             itertools           reprlib             zipfile\n",
      "audit               jedi                requests            zipimport\n",
      "augeas              jinja2              requests_file       zlib\n",
      "auparse             joblib              requests_ftp        zmq\n",
      "autoreload          json                resource            \n",
      "backcall            json5               rlcompleter         \n",
      "\n",
      "Enter any module name to get more help.  Or, type \"modules spam\" to search\n",
      "for modules whose name or summary contain the string \"spam\".\n",
      "\n",
      "None\n"
     ]
    }
   ],
   "source": [
    "print (help('modules') )"
   ]
  },
  {
   "cell_type": "markdown",
   "metadata": {},
   "source": [
    "`pip` is a special package. It is used from the command line to install properly (e.g. matching the version of the local packages) new packages. It can also be used from within python to check i.e. the set installed packages and their versions. N.B.: only the installed packages on top of the default ones will be listed "
   ]
  },
  {
   "cell_type": "code",
   "execution_count": 3,
   "metadata": {},
   "outputs": [
    {
     "data": {
      "text/plain": [
       "['absl-py==0.11.0',\n",
       " 'argcomplete==1.10.0',\n",
       " 'attrs==19.3.0',\n",
       " 'backcall==0.2.0',\n",
       " 'beautifulsoup4==4.9.3',\n",
       " 'bleach==3.1.5',\n",
       " 'blivet-gui==2.1.15',\n",
       " 'blivet==3.2.2',\n",
       " 'chardet==3.0.4',\n",
       " 'cupshelpers==1.0',\n",
       " 'cycler==0.10.0',\n",
       " 'daemonize==2.5.0',\n",
       " 'dasbus==0.2',\n",
       " 'dbus-python==1.2.16',\n",
       " 'decorator==4.4.0',\n",
       " 'defusedxml==0.6.0',\n",
       " 'distro==1.4.0',\n",
       " 'entrypoints==0.3',\n",
       " 'gpg==1.14.0',\n",
       " 'humanize==0.5.1',\n",
       " 'idna==2.8',\n",
       " 'initial-setup==0.3.80',\n",
       " 'ipykernel==5.3.4',\n",
       " 'ipython-genutils==0.2.0',\n",
       " 'ipython==7.16.1',\n",
       " 'jedi==0.17.2',\n",
       " 'jinja2==2.11.2',\n",
       " 'joblib==1.1.0',\n",
       " 'json5==0.9.5',\n",
       " 'jsonschema==3.2.0',\n",
       " 'jupyter-client==6.1.6',\n",
       " 'jupyter-core==4.6.3',\n",
       " 'jupyterlab-server==1.2.0',\n",
       " 'jupyterlab==2.2.2',\n",
       " 'kiwisolver==1.3.1',\n",
       " 'langtable==0.0.53',\n",
       " 'libcomps==0.1.15',\n",
       " 'lxml==4.4.1',\n",
       " 'markupsafe==1.1.1',\n",
       " 'matplotlib==3.4.2',\n",
       " 'mistune==0.8.4',\n",
       " 'nbconvert==5.6.1',\n",
       " 'nbformat==5.0.7',\n",
       " 'nftables==0.1',\n",
       " 'notebook==6.0.3',\n",
       " 'ntplib==0.3.3',\n",
       " 'numpy==1.21.2',\n",
       " 'openrazer-daemon==3.1.0',\n",
       " 'openrazer==3.1.0',\n",
       " 'ordered-set==3.1',\n",
       " 'ortools==8.2.8710',\n",
       " 'packaging==20.4',\n",
       " 'pandocfilters==1.4.2',\n",
       " 'parso==0.7.1',\n",
       " 'pexpect==4.8.0',\n",
       " 'pickleshare==0.7.5',\n",
       " 'pid==2.2.3',\n",
       " 'pillow==8.3.1',\n",
       " 'pip==19.3.1',\n",
       " 'productmd==1.32',\n",
       " 'prometheus-client==0.8.0',\n",
       " 'prompt-toolkit==3.0.5',\n",
       " 'protobuf==3.15.5',\n",
       " 'ptyprocess==0.6.0',\n",
       " 'pwquality==1.4.4',\n",
       " 'pycairo==1.18.2',\n",
       " 'pycups==2.0.1',\n",
       " 'pycurl==7.43.0.5',\n",
       " 'pygments==2.6.1',\n",
       " 'pygobject==3.36.1',\n",
       " 'pyinotify==0.9.6',\n",
       " 'pykickstart==3.24',\n",
       " 'pyparsing==2.4.7',\n",
       " 'pyparted==3.11.4',\n",
       " 'pyrsistent==0.16.0',\n",
       " 'pysocks==1.7.1',\n",
       " 'python-augeas==0.5.0',\n",
       " 'python-dateutil==2.8.0',\n",
       " 'python-gettext==4.0',\n",
       " 'python-manatools==0.0.3',\n",
       " 'python-meh==0.48',\n",
       " 'pytz==2020.5',\n",
       " 'pyudev==0.22.0',\n",
       " 'pyyaml==5.4.1',\n",
       " 'pyzmq==19.0.1',\n",
       " 'requests-file==1.4.3',\n",
       " 'requests-ftp==0.3.1',\n",
       " 'requests==2.22.0',\n",
       " 'rpm==4.15.1.1',\n",
       " 'scikit-learn==1.0',\n",
       " 'scipy==1.7.1',\n",
       " 'selinux==3.0',\n",
       " 'send2trash==1.5.0',\n",
       " 'sepolicy==3.0',\n",
       " 'setools==4.3.0',\n",
       " 'setproctitle==1.1.10',\n",
       " 'setuptools==41.6.0',\n",
       " 'simpleline==1.6',\n",
       " 'six==1.14.0',\n",
       " 'slip.dbus==0.6.4',\n",
       " 'slip==0.6.4',\n",
       " 'sos==3.9',\n",
       " 'soupsieve==1.9.2',\n",
       " 'systemd-python==234',\n",
       " 'terminado==0.8.3',\n",
       " 'testpath==0.4.4',\n",
       " 'threadpoolctl==3.0.0',\n",
       " 'tornado==6.0.4',\n",
       " 'traitlets==4.3.3',\n",
       " 'urllib3==1.25.7',\n",
       " 'wcwidth==0.2.5',\n",
       " 'webencodings==0.5.1']"
      ]
     },
     "execution_count": 3,
     "metadata": {},
     "output_type": "execute_result"
    }
   ],
   "source": [
    "import pip\n",
    "sorted([\"%s==%s\" % (i.key, i.version) for i in pip._internal.utils.misc.get_installed_distributions()])"
   ]
  },
  {
   "cell_type": "markdown",
   "metadata": {},
   "source": [
    "# Functions"
   ]
  },
  {
   "cell_type": "code",
   "execution_count": 4,
   "metadata": {},
   "outputs": [
    {
     "name": "stdout",
     "output_type": "stream",
     "text": [
      "9\n",
      "27\n",
      "cube 27\n",
      "square 9\n"
     ]
    }
   ],
   "source": [
    "def square(x):\n",
    "    \"\"\"Square of x.\"\"\"\n",
    "    return x*x\n",
    "\n",
    "def cube(x):\n",
    "    \"\"\"Cube of x.\"\"\"\n",
    "    return x*x*x\n",
    "\n",
    "# create a dictionary of functions\n",
    "funcs = {\n",
    "    'square': square,\n",
    "    'cube': cube,\n",
    "}\n",
    "\n",
    "x = 3\n",
    "print(square(x))\n",
    "print(cube(x))\n",
    "\n",
    "for func in sorted(funcs):\n",
    "    print (func, funcs[func](x))"
   ]
  },
  {
   "cell_type": "markdown",
   "metadata": {},
   "source": [
    "## Functions arguments"
   ]
  },
  {
   "cell_type": "markdown",
   "metadata": {},
   "source": [
    "What is passsed to a function is a copy of the input. Imagine we have a list *x =[1, 2, 3]*, i.e. a mutable object. If within the function the content of *x* is directly changed (e.g. *x[0] = 999*), then *x* changes outside the funciton as well. "
   ]
  },
  {
   "cell_type": "code",
   "execution_count": 7,
   "metadata": {},
   "outputs": [
    {
     "name": "stdout",
     "output_type": "stream",
     "text": [
      "[1, 2, 3]\n",
      "[999, 2, 3]\n",
      "[999, 2, 3]\n"
     ]
    }
   ],
   "source": [
    "def modify(x):\n",
    "    x[0] = 999\n",
    "    return x\n",
    "\n",
    "x = [1,2,3]\n",
    "print (x)\n",
    "print (modify(x))\n",
    "print (x)      #modified x"
   ]
  },
  {
   "cell_type": "markdown",
   "metadata": {},
   "source": [
    "However, if *x* is reassigned within the function to a new object (e.g. another list), then the copy of the name *x* now points to the new object, but *x* outside the function is unhcanged."
   ]
  },
  {
   "cell_type": "code",
   "execution_count": 8,
   "metadata": {},
   "outputs": [
    {
     "name": "stdout",
     "output_type": "stream",
     "text": [
      "[1, 2, 3]\n",
      "[4, 5, 6]\n",
      "[1, 2, 3]\n"
     ]
    }
   ],
   "source": [
    "def no_modify(x):\n",
    "    x = [4,5,6]\n",
    "    return x\n",
    "\n",
    "x = [1,2,3]\n",
    "print (x)\n",
    "print (no_modify(x))  #create a new object, x will remained the same\n",
    "print (x)\n"
   ]
  },
  {
   "cell_type": "markdown",
   "metadata": {},
   "source": [
    "What if the function tries to modify the value of an immutable object?"
   ]
  },
  {
   "cell_type": "markdown",
   "metadata": {},
   "source": [
    "Binding of default arguments occurs at function definition:"
   ]
  },
  {
   "cell_type": "code",
   "execution_count": 10,
   "metadata": {},
   "outputs": [
    {
     "name": "stdout",
     "output_type": "stream",
     "text": [
      "[1]\n",
      "[1, 1]\n",
      "[9, 9, 9, 1]\n",
      "[1, 1, 1]\n",
      "[1, 1, 1, 1]\n"
     ]
    }
   ],
   "source": [
    "def f(x = []):     #default argument, at every call\n",
    "    x.append(1)\n",
    "    return x\n",
    "\n",
    "print (f())      \n",
    "print (f())      #call (f ( f(x) ) ), two times\n",
    "print (f(x = [9,9,9]))\n",
    "print (f())\n",
    "print (f())"
   ]
  },
  {
   "cell_type": "markdown",
   "metadata": {},
   "source": [
    "Try to aviod that!!"
   ]
  },
  {
   "cell_type": "code",
   "execution_count": 11,
   "metadata": {},
   "outputs": [
    {
     "name": "stdout",
     "output_type": "stream",
     "text": [
      "[1]\n",
      "[1]\n",
      "[9, 9, 9, 1]\n",
      "[1]\n",
      "[1]\n"
     ]
    }
   ],
   "source": [
    "def f(x = None):\n",
    "    if x is None:\n",
    "        x = []\n",
    "    x.append(1)\n",
    "    return x\n",
    "\n",
    "print (f())\n",
    "print (f())\n",
    "print (f(x = [9,9,9]))\n",
    "print (f())\n",
    "print (f())"
   ]
  },
  {
   "cell_type": "markdown",
   "metadata": {},
   "source": [
    "## Higher order functions\n",
    "\n",
    "A function that uses another function as an input argument or returns a function is known as a higher-order function (HOF). The most familiar examples are `map` and `filter`."
   ]
  },
  {
   "cell_type": "markdown",
   "metadata": {},
   "source": [
    "### map\n",
    "\n",
    "The map function applies a function to each member of a collection"
   ]
  },
  {
   "cell_type": "code",
   "execution_count": 13,
   "metadata": {},
   "outputs": [
    {
     "name": "stdout",
     "output_type": "stream",
     "text": [
      "[0, 1, 4, 9, 16]\n",
      "0\n",
      "1\n",
      "4\n",
      "9\n",
      "16\n"
     ]
    },
    {
     "data": {
      "text/plain": [
       "[0, 1, 4, 9, 16, 25]"
      ]
     },
     "execution_count": 13,
     "metadata": {},
     "output_type": "execute_result"
    }
   ],
   "source": [
    "x = list(map(square, range(5)))      #map(function, collection_to_apply_func)\n",
    "print (x)\n",
    "\n",
    "# Note the difference w.r.t python 2. In python 3 map retuns an iterator so you can do stuff like:\n",
    "for i in map(square,range(5)): print(i)   #with list(map) you have directly the elements\n",
    "\n",
    "# or\n",
    "[i for i in map(square,range(6))]"
   ]
  },
  {
   "cell_type": "markdown",
   "metadata": {},
   "source": [
    "### filter\n",
    "\n",
    "The filter function applies a predicate to each member of a collection, retaining only those members where the predicate is True"
   ]
  },
  {
   "cell_type": "code",
   "execution_count": 14,
   "metadata": {},
   "outputs": [
    {
     "name": "stdout",
     "output_type": "stream",
     "text": [
      "[0, 2, 4]\n"
     ]
    }
   ],
   "source": [
    "def is_even(x):\n",
    "    return x%2 == 0\n",
    "\n",
    "print (list(filter(is_even, range(5))))     #filtering elements of a collection with a function\n",
    "                                            #filter(funct_filter , collection_to_filter)\n",
    "                                            #output -> funtion(x) == True (where func is verified)"
   ]
  },
  {
   "cell_type": "markdown",
   "metadata": {},
   "source": [
    "Combinations in sequence of HOF are obviously possible"
   ]
  },
  {
   "cell_type": "code",
   "execution_count": 15,
   "metadata": {},
   "outputs": [
    {
     "data": {
      "text/plain": [
       "[0, 4, 16]"
      ]
     },
     "execution_count": 15,
     "metadata": {},
     "output_type": "execute_result"
    }
   ],
   "source": [
    "list(map(square, filter(is_even, range(5))))"
   ]
  },
  {
   "cell_type": "markdown",
   "metadata": {},
   "source": [
    "### reduce\n",
    "\n",
    "The reduce function reduces a collection using a binary operator to combine items two at a time. More often than not reduce can be substituted with a more efficient for loop. It is worth mentioning it for its key role in big-data applications together with map (the map-reduce paradigm). \n",
    "N.B.: it no loger exist as built-in function in python 3, it is now part of the `functools` library"
   ]
  },
  {
   "cell_type": "code",
   "execution_count": 16,
   "metadata": {},
   "outputs": [
    {
     "data": {
      "text/plain": [
       "15"
      ]
     },
     "execution_count": 16,
     "metadata": {},
     "output_type": "execute_result"
    }
   ],
   "source": [
    "from functools import reduce\n",
    "\n",
    "def my_add(x, y):\n",
    "    return x + y\n",
    "\n",
    "# another implementation of the sum function\n",
    "reduce(my_add, [1,2,3,4,5])"
   ]
  },
  {
   "cell_type": "markdown",
   "metadata": {},
   "source": [
    "### zip\n",
    "\n",
    "zip is useful when you need to iterate over matched elements of multiple lists"
   ]
  },
  {
   "cell_type": "code",
   "execution_count": 17,
   "metadata": {},
   "outputs": [
    {
     "name": "stdout",
     "output_type": "stream",
     "text": [
      "1 10 a\n",
      "2 20 b\n",
      "3 30 c\n",
      "4 40 d\n"
     ]
    }
   ],
   "source": [
    "xs = [1, 2, 3, 4]\n",
    "ys = [10, 20, 30, 40]\n",
    "zs = ['a', 'b', 'c', 'd', 'e']        #fifth element 'e' ignored, no counter parts in xs and ys\n",
    "\n",
    "for x, y, z in zip(xs, ys, zs):       #match elements of multiple lists\n",
    "    print (x, y, z)"
   ]
  },
  {
   "cell_type": "markdown",
   "metadata": {},
   "source": [
    "### Custom HOF"
   ]
  },
  {
   "cell_type": "code",
   "execution_count": 18,
   "metadata": {},
   "outputs": [
    {
     "name": "stdout",
     "output_type": "stream",
     "text": [
      "30\n",
      "100\n"
     ]
    }
   ],
   "source": [
    "def custom_sum(xs, transform):\n",
    "    \"\"\"Returns the sum of xs after a user specified transform.\"\"\"\n",
    "    return sum(map(transform, xs))\n",
    "\n",
    "xs = range(5)\n",
    "print (custom_sum(xs, square))      #sum of squared 0,1,2,3,4,5\n",
    "print (custom_sum(xs, cube))        #sum of cubed 0,1,2,3,4,5\n"
   ]
  },
  {
   "cell_type": "markdown",
   "metadata": {},
   "source": [
    "### Returning a function"
   ]
  },
  {
   "cell_type": "code",
   "execution_count": null,
   "metadata": {},
   "outputs": [],
   "source": [
    "def make_logger(target):\n",
    "    def logger(data):\n",
    "        with open(target, 'a') as f:\n",
    "            f.write(data + '\\n')\n",
    "    return logger\n",
    "\n",
    "foo_logger = make_logger('foo.txt') #foo.txt will be created if not there already\n",
    "foo_logger('Hello')\n",
    "foo_logger('World')"
   ]
  },
  {
   "cell_type": "code",
   "execution_count": null,
   "metadata": {},
   "outputs": [],
   "source": [
    "! cat 'foo.txt'       #  !   at the beginning to use a bash command"
   ]
  },
  {
   "cell_type": "markdown",
   "metadata": {},
   "source": [
    "## Anonimous functions (lambda)\n",
    "\n",
    "When using functional style, there is often the need to create specific functions that perform a limited task as input to a HOF such as map or filter. In such cases, these functions are often written as anonymous or lambda functions. \n",
    "The syntax is as follows:\n",
    "\n",
    "lambda *arguments* : *expression*\n",
    "\n",
    "\n",
    "If you find it hard to understand what a lambda function is doing, it should probably be rewritten as a regular function."
   ]
  },
  {
   "cell_type": "code",
   "execution_count": 22,
   "metadata": {},
   "outputs": [
    {
     "data": {
      "text/plain": [
       "7"
      ]
     },
     "execution_count": 22,
     "metadata": {},
     "output_type": "execute_result"
    }
   ],
   "source": [
    "sum = lambda x,y: x+y        #lambda  arguments : expression\n",
    "sum(3,4)"
   ]
  },
  {
   "cell_type": "code",
   "execution_count": 20,
   "metadata": {},
   "outputs": [
    {
     "name": "stdout",
     "output_type": "stream",
     "text": [
      "0\n",
      "1\n",
      "4\n",
      "9\n",
      "16\n"
     ]
    }
   ],
   "source": [
    "for i in map(lambda x: x*x, range(5)): print (i)"
   ]
  },
  {
   "cell_type": "code",
   "execution_count": 19,
   "metadata": {},
   "outputs": [
    {
     "name": "stdout",
     "output_type": "stream",
     "text": [
      "285\n"
     ]
    }
   ],
   "source": [
    "# what does this function do?\n",
    "from functools import reduce\n",
    "s1 = reduce(lambda x, y: x+y, map(lambda x: x**2, range(1,10)))  #sum of squared numbers 1 to 9\n",
    "print(s1)                                                              #10 excluded\n"
   ]
  },
  {
   "cell_type": "markdown",
   "metadata": {},
   "source": [
    "## Recursive functions "
   ]
  },
  {
   "cell_type": "code",
   "execution_count": 23,
   "metadata": {},
   "outputs": [
    {
     "name": "stdout",
     "output_type": "stream",
     "text": [
      "[1, 1, 2, 3, 5, 8, 13, 21, 34, 55]\n"
     ]
    }
   ],
   "source": [
    "def fib1(n):\n",
    "    \"\"\"Fib with recursion.\"\"\"\n",
    "\n",
    "    # base case\n",
    "    if n==0 or n==1:\n",
    "        return 1\n",
    "    # recurssive case\n",
    "    else:\n",
    "        return fib1(n-1) + fib1(n-2)\n",
    "\n",
    "    \n",
    "print ([fib1(i) for i in range(10)])"
   ]
  },
  {
   "cell_type": "code",
   "execution_count": 24,
   "metadata": {},
   "outputs": [
    {
     "name": "stdout",
     "output_type": "stream",
     "text": [
      "[1, 1, 2, 3, 5, 8, 13, 21, 34, 55]\n"
     ]
    }
   ],
   "source": [
    "# In Python, a more efficient version that does not use recursion is\n",
    "\n",
    "def fib2(n):\n",
    "    \"\"\"Fib without recursion.\"\"\"\n",
    "    a, b = 0, 1\n",
    "    for i in range(1, n+1):\n",
    "        a, b = b, a+b\n",
    "    return b\n",
    "\n",
    "print ([fib2(i) for i in range(10)])"
   ]
  },
  {
   "cell_type": "code",
   "execution_count": 25,
   "metadata": {},
   "outputs": [
    {
     "name": "stdout",
     "output_type": "stream",
     "text": [
      "3.05 ms ± 688 µs per loop (mean ± std. dev. of 7 runs, 10 loops each)\n",
      "1.31 µs ± 19 ns per loop (mean ± std. dev. of 7 runs, 1000000 loops each)\n"
     ]
    }
   ],
   "source": [
    "# check indeed the timing:\n",
    "\n",
    "%timeit fib1(20)\n",
    "%timeit fib2(20)\n"
   ]
  },
  {
   "cell_type": "markdown",
   "metadata": {},
   "source": [
    "## Iterators\n",
    "\n",
    "Iterators represent streams of values. Because only one value is consumed at a time, they use very little memory. Use of iterators is very helpful for working with data sets too large to fit into RAM."
   ]
  },
  {
   "cell_type": "code",
   "execution_count": 26,
   "metadata": {},
   "outputs": [
    {
     "name": "stdout",
     "output_type": "stream",
     "text": [
      "1\n",
      "2\n",
      "3\n"
     ]
    },
    {
     "ename": "StopIteration",
     "evalue": "",
     "output_type": "error",
     "traceback": [
      "\u001b[0;31m---------------------------------------------------------------------------\u001b[0m",
      "\u001b[0;31mStopIteration\u001b[0m                             Traceback (most recent call last)",
      "\u001b[0;32m<ipython-input-26-7fd2aa3a4ecb>\u001b[0m in \u001b[0;36m<module>\u001b[0;34m\u001b[0m\n\u001b[1;32m      7\u001b[0m \u001b[0mprint\u001b[0m \u001b[0;34m(\u001b[0m\u001b[0mnext\u001b[0m\u001b[0;34m(\u001b[0m\u001b[0mx_iter\u001b[0m\u001b[0;34m)\u001b[0m\u001b[0;34m)\u001b[0m\u001b[0;34m\u001b[0m\u001b[0;34m\u001b[0m\u001b[0m\n\u001b[1;32m      8\u001b[0m \u001b[0mprint\u001b[0m \u001b[0;34m(\u001b[0m\u001b[0mnext\u001b[0m\u001b[0;34m(\u001b[0m\u001b[0mx_iter\u001b[0m\u001b[0;34m)\u001b[0m\u001b[0;34m)\u001b[0m\u001b[0;34m\u001b[0m\u001b[0;34m\u001b[0m\u001b[0m\n\u001b[0;32m----> 9\u001b[0;31m \u001b[0mprint\u001b[0m \u001b[0;34m(\u001b[0m\u001b[0mnext\u001b[0m\u001b[0;34m(\u001b[0m\u001b[0mx_iter\u001b[0m\u001b[0;34m)\u001b[0m\u001b[0;34m)\u001b[0m\u001b[0;34m\u001b[0m\u001b[0;34m\u001b[0m\u001b[0m\n\u001b[0m",
      "\u001b[0;31mStopIteration\u001b[0m: "
     ]
    }
   ],
   "source": [
    "# Iterators can be created from sequences with the built-in function iter()\n",
    "\n",
    "xs = [1,2,3]\n",
    "x_iter = iter(xs)\n",
    "\n",
    "print (next(x_iter))\n",
    "print (next(x_iter))\n",
    "print (next(x_iter))\n",
    "print (next(x_iter))        #--> fail , interate 4 times on a list of 3 elements"
   ]
  },
  {
   "cell_type": "code",
   "execution_count": 27,
   "metadata": {},
   "outputs": [
    {
     "name": "stdout",
     "output_type": "stream",
     "text": [
      "1\n",
      "2\n",
      "3\n"
     ]
    }
   ],
   "source": [
    "# Most commonly, iterators are used (automatically) within a for loop\n",
    "# which terminates when it encouters a StopIteration exception\n",
    "\n",
    "x_iter = iter(xs)\n",
    "for x in x_iter:\n",
    "    print (x)"
   ]
  },
  {
   "cell_type": "markdown",
   "metadata": {},
   "source": [
    "## More on comprehensions"
   ]
  },
  {
   "cell_type": "code",
   "execution_count": 28,
   "metadata": {},
   "outputs": [
    {
     "name": "stdout",
     "output_type": "stream",
     "text": [
      "<generator object <genexpr> at 0x7f7d08c3dc80>\n",
      "[0, 1, 2, 3, 4, 5, 6, 7, 8, 9]\n",
      "{0, 1, 2, 3, 4, 5, 6, 7, 8, 9}\n",
      "{0: 0, 1: 1, 2: 2, 3: 3, 4: 4, 5: 5, 6: 6, 7: 7, 8: 8, 9: 9}\n"
     ]
    }
   ],
   "source": [
    "# A generator expression\n",
    "\n",
    "print ((x for x in range(10)))\n",
    "\n",
    "# A list comprehesnnion\n",
    "\n",
    "print ([x for x in range(10)])\n",
    "\n",
    "# A set comprehension\n",
    "\n",
    "print ({x for x in range(10)})\n",
    "\n",
    "# A dictionary comprehension\n",
    "\n",
    "print ({x: x for x in range(10)})"
   ]
  },
  {
   "cell_type": "markdown",
   "metadata": {},
   "source": [
    "## Useful Modules\n",
    "\n",
    "You may want to have a look at the content of the following modules for further usage of (HO) functions:\n",
    "  - [operator](https://docs.python.org/3/library/operator.html)\n",
    "  - [functools](https://docs.python.org/3/library/functools.html)\n",
    "  - [itertools](https://docs.python.org/3/library/itertools.html)\n",
    "  - [toolz](https://pypi.org/project/toolz/)\n",
    "  - [funcy](https://pypi.org/project/funcy/)"
   ]
  },
  {
   "cell_type": "markdown",
   "metadata": {},
   "source": [
    "## Decorators\n",
    "\n",
    "Decorators are a type of HOF that take a function and return a wrapped function that provides additional useful properties.\n",
    "\n",
    "Examples:\n",
    "\n",
    "  - logging\n",
    "  - profiling\n",
    "  - Just-In-Time (JIT) compilation"
   ]
  },
  {
   "cell_type": "code",
   "execution_count": 29,
   "metadata": {},
   "outputs": [],
   "source": [
    "def my_decorator(func):\n",
    "    def wrapper():\n",
    "        print(\"Something is happening before the function is called.\")\n",
    "        func()\n",
    "        print(\"Something is happening after the function is called.\")\n",
    "    return wrapper\n",
    "\n",
    "def say_whee():\n",
    "    print(\"Whee!\")\n",
    "\n",
    "say_whee = my_decorator(say_whee)        #to wrap and check performances of the code"
   ]
  },
  {
   "cell_type": "code",
   "execution_count": 30,
   "metadata": {},
   "outputs": [
    {
     "name": "stdout",
     "output_type": "stream",
     "text": [
      "Something is happening before the function is called.\n",
      "Whee!\n",
      "Something is happening after the function is called.\n"
     ]
    }
   ],
   "source": [
    "say_whee()"
   ]
  },
  {
   "cell_type": "markdown",
   "metadata": {},
   "source": [
    "Python allows you to use decorators in a simpler way with the @ symbol, sometimes called the “pie” syntax"
   ]
  },
  {
   "cell_type": "code",
   "execution_count": 31,
   "metadata": {},
   "outputs": [],
   "source": [
    "def my_decorator(func):\n",
    "    def wrapper():\n",
    "        print(\"Something is happening before the function is called.\")\n",
    "        func()\n",
    "        print(\"Something is happening after the function is called.\")\n",
    "    return wrapper\n",
    "\n",
    "@my_decorator\n",
    "def say_whee():\n",
    "    print(\"Whee!\")"
   ]
  },
  {
   "cell_type": "code",
   "execution_count": 32,
   "metadata": {},
   "outputs": [
    {
     "name": "stdout",
     "output_type": "stream",
     "text": [
      "Something is happening before the function is called.\n",
      "Whee!\n",
      "Something is happening after the function is called.\n"
     ]
    }
   ],
   "source": [
    "say_whee()"
   ]
  },
  {
   "cell_type": "markdown",
   "metadata": {},
   "source": [
    "# Classes and Objects\n",
    "\n",
    "Old school object-oriented programming is possible and often used in python. Classes are defined similarly to standard object-oriented languages, with similar functionalities.\n",
    "\n",
    "The main python doc [page](https://docs.python.org/3.6/tutorial/classes.html) is worth reading through "
   ]
  },
  {
   "cell_type": "code",
   "execution_count": 33,
   "metadata": {},
   "outputs": [
    {
     "name": "stdout",
     "output_type": "stream",
     "text": [
      "buddy 12\n",
      "3\n"
     ]
    }
   ],
   "source": [
    "class Pet:\n",
    "    \n",
    "        # the \"constructor\"\n",
    "    def __init__(self, name, age):  #inizialize the elements of the class\n",
    "        self.name=name\n",
    "        self.age=age\n",
    "        \n",
    "      # class functions take the \"self\" parameter !!!\n",
    "    def set_name(self,name):\n",
    "        self.name=name\n",
    "    def convert_age(self,factor):\n",
    "        self.age*=factor\n",
    "\n",
    "        \n",
    "buddy=Pet(\"buddy\",12)\n",
    "print (buddy.name, buddy.age)\n",
    "buddy.age=3\n",
    "print (buddy.age)\n",
    "\n"
   ]
  },
  {
   "cell_type": "code",
   "execution_count": 34,
   "metadata": {},
   "outputs": [
    {
     "name": "stdout",
     "output_type": "stream",
     "text": [
      "tobia\n",
      "70\n"
     ]
    }
   ],
   "source": [
    "# ineritance is straightforward\n",
    "class Dog(Pet):\n",
    "    #name_class(ineritanced_class)\n",
    "    \n",
    "        # the following variables is \"global\", i.e. holds for all \"Dog\" objects\n",
    "    species = \"mammal\"\n",
    "    \n",
    "        # functions can be redefined as usual\n",
    "    def convert_age(self):\n",
    "        self.age*=7\n",
    "    def set_species(self, species):\n",
    "        self.species = species\n",
    " \n",
    "\n",
    "puppy=Dog(\"tobia\",10)\n",
    "print(puppy.name)\n",
    "puppy.convert_age()\n",
    "print(puppy.age)\n",
    "\n"
   ]
  }
 ],
 "metadata": {
  "kernelspec": {
   "display_name": "Python 3",
   "language": "python",
   "name": "python3"
  },
  "language_info": {
   "codemirror_mode": {
    "name": "ipython",
    "version": 3
   },
   "file_extension": ".py",
   "mimetype": "text/x-python",
   "name": "python",
   "nbconvert_exporter": "python",
   "pygments_lexer": "ipython3",
   "version": "3.8.10"
  }
 },
 "nbformat": 4,
 "nbformat_minor": 2
}
