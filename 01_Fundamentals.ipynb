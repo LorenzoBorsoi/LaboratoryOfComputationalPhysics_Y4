{
 "cells": [
  {
   "cell_type": "markdown",
   "source": [
    "# Modules/packages/libraries\n",
    "\n",
    "Definitions:\n",
    "\n",
    "  * Modules:\n",
    "  A module is a file which contains python functions, global variables etc. It is nothing but .py file which has python executable code / statement.\n",
    "\n",
    "  * Packages:\n",
    "  A package is namespace which contains multiple package/modules. It is a directory which contains a special file `__init__.py`\n",
    "  \n",
    "  * Libraries:\n",
    "  A library is a collection of various packages. There is no difference between package and python library conceptually.\n",
    "  \n",
    "Modules/packages/libraries can be easily \"imported\" and made functional in your python code. A set of libriaries comes with every python installation. Others can be installed locally and then imported. Your own code sitting somewhere else in your local computer can be imported too.\n",
    "\n",
    "Further details (very important!) on packages and how to create them can be found online. We may find the need of creating our own during the course."
   ],
   "metadata": {}
  },
  {
   "cell_type": "code",
   "execution_count": 1,
   "source": [
    "###### all the \"stuff\" that is in the math library can be used\r\n",
    "import math\r\n",
    "print(math.pi)\r\n",
    "\r\n",
    "# you can give math a label for convenience\r\n",
    "import math as m\r\n",
    "print (m.pi)\r\n",
    "\r\n",
    "# alternatively you can import only a given \"thing\" from the library\r\n",
    "from math import pi    #you can add several libraries at once, just list them separated by a \", \"\r\n",
    "print (pi)\r\n",
    "\r\n",
    "# or just get everything (very dangerous: we might give names to variables that correspond to the name of the module)\r\n",
    "from math import * \r\n",
    "print (sqrt(7))"
   ],
   "outputs": [
    {
     "output_type": "stream",
     "name": "stdout",
     "text": [
      "3.141592653589793\n",
      "3.141592653589793\n",
      "3.141592653589793\n",
      "2.6457513110645907\n"
     ]
    }
   ],
   "metadata": {}
  },
  {
   "cell_type": "markdown",
   "source": [
    "To know which modules are there for you to use just type:"
   ],
   "metadata": {}
  },
  {
   "cell_type": "code",
   "execution_count": 3,
   "source": [
    "print (help('modules') )"
   ],
   "outputs": [
    {
     "output_type": "stream",
     "name": "stdout",
     "text": [
      "\n",
      "Please wait a moment while I gather a list of all available modules...\n",
      "\n"
     ]
    },
    {
     "output_type": "stream",
     "name": "stderr",
     "text": [
      "C:\\Users\\aless\\anaconda3\\lib\\site-packages\\IPython\\kernel\\__init__.py:13: ShimWarning: The `IPython.kernel` package has been deprecated since IPython 4.0.You should import from ipykernel or jupyter_client instead.\n",
      "  \"You should import from ipykernel or jupyter_client instead.\", ShimWarning)\n",
      "distributed.dashboard.proxy - INFO - To route to workers diagnostics web server please install jupyter-server-proxy: python -m pip install jupyter-server-proxy\n",
      "C:\\Users\\aless\\anaconda3\\lib\\site-packages\\nltk\\twitter\\__init__.py:22: UserWarning: The twython library has not been installed. Some functionality from the twitter package will not be available.\n",
      "  \"The twython library has not been installed. \"\n",
      "C:\\Users\\aless\\anaconda3\\lib\\site-packages\\skimage\\viewer\\utils\\__init__.py:1: UserWarning: Recommended matplotlib backend is `Agg` for full skimage.viewer functionality.\n",
      "  from .core import *\n",
      "C:\\Users\\aless\\anaconda3\\lib\\site-packages\\sklearn\\externals\\joblib\\__init__.py:15: FutureWarning: sklearn.externals.joblib is deprecated in 0.21 and will be removed in 0.23. Please import this functionality directly from joblib, which can be installed with: pip install joblib. If this warning is raised when loading pickled models, you may need to re-serialize those models with scikit-learn 0.21+.\n",
      "  warnings.warn(msg, category=FutureWarning)\n",
      "C:\\Users\\aless\\anaconda3\\lib\\site-packages\\qtawesome\\iconic_font.py:312: UserWarning: You need to have a running QApplication to use QtAwesome!\n",
      "  warnings.warn(\"You need to have a running \"\n",
      "C:\\Users\\aless\\anaconda3\\lib\\pkgutil.py:107: VisibleDeprecationWarning: zmq.eventloop.minitornado is deprecated in pyzmq 14.0 and will be removed.\n",
      "    Install tornado itself to use zmq with the tornado IOLoop.\n",
      "    \n",
      "  yield from walk_packages(path, info.name+'.', onerror)\n"
     ]
    },
    {
     "output_type": "stream",
     "name": "stdout",
     "text": [
      "Crypto              bs4                 mistune             socket\n",
      "Cython              builtins            mkl                 socketserver\n",
      "IPython             bz2                 mkl_fft             socks\n",
      "OpenSSL             cProfile            mkl_random          sockshandler\n",
      "PIL                 calendar            mmap                sortedcollections\n",
      "PyQt5               certifi             mmapfile            sortedcontainers\n",
      "__future__          cffi                mmsystem            soupsieve\n",
      "_abc                cgi                 mock                sphinx\n",
      "_ast                cgitb               modulefinder        sphinxcontrib\n",
      "_asyncio            chardet             more_itertools      spyder\n",
      "_bisect             chunk               mpmath              spyder_kernels\n",
      "_blake2             click               msgpack             sqlalchemy\n",
      "_bootlocale         cloudpickle         msilib              sqlite3\n",
      "_bz2                clyent              msvcrt              sre_compile\n",
      "_cffi_backend       cmath               multipledispatch    sre_constants\n",
      "_codecs             cmd                 multiprocessing     sre_parse\n",
      "_codecs_cn          code                nacl                ssl\n",
      "_codecs_hk          codecs              navigator_updater   sspi\n",
      "_codecs_iso2022     codeop              nbconvert           sspicon\n",
      "_codecs_jp          collections         nbformat            stat\n",
      "_codecs_kr          colorama            netbios             statistics\n",
      "_codecs_tw          colorsys            netrc               statsmodels\n",
      "_collections        commctrl            networkx            storemagic\n",
      "_collections_abc    compileall          nltk                string\n",
      "_compat_pickle      completion          nntplib             stringprep\n",
      "_compression        comtypes            normalizeForInterpreter struct\n",
      "_contextvars        concurrent          normalizeSelection  subprocess\n",
      "_csv                conda               nose                sunau\n",
      "_ctypes             conda_build         notebook            symbol\n",
      "_ctypes_test        conda_env           nt                  symbolProvider\n",
      "_datetime           conda_package_handling ntpath              sympy\n",
      "_decimal            conda_verify        ntsecuritycon       sympyprinting\n",
      "_dummy_thread       configparser        nturl2path          symtable\n",
      "_elementtree        contextlib          numba               sys\n",
      "_functools          contextlib2         numbers             sysconfig\n",
      "_hashlib            contextvars         numexpr             tables\n",
      "_heapq              copy                numpy               tabnanny\n",
      "_imp                copyreg             numpydoc            tarfile\n",
      "_io                 crypt               odbc                tblib\n",
      "_json               cryptography        olefile             telnetlib\n",
      "_locale             csv                 opcode              tempfile\n",
      "_lsprof             ctypes              openpyxl            terminado\n",
      "_lzma               curl                operator            test\n",
      "_markupbase         curses              optparse            test_data\n",
      "_md5                cwp                 os                  test_pycosat\n",
      "_msi                cycler              packaging           testlauncher\n",
      "_multibytecodec     cython              pandas              testpath\n",
      "_multiprocessing    cythonmagic         pandocfilters       tests\n",
      "_nsis               cytoolz             paramiko            textwrap\n",
      "_opcode             dask                parser              this\n",
      "_operator           dataclasses         parso               threading\n",
      "_osx_support        datetime            partd               time\n",
      "_overlapped         dateutil            past                timeit\n",
      "_pickle             dbi                 path                timer\n",
      "_py_abc             dbm                 pathlib             tkinter\n",
      "_pydecimal          dde                 pathlib2            tlz\n",
      "_pyio               decimal             pathtools           token\n",
      "_pylief             decorator           patsy               tokenize\n",
      "_pyrsistent_version defusedxml          pdb                 toolz\n",
      "_pytest             diff_match_patch    pep8                tornado\n",
      "_queue              difflib             perfmon             tqdm\n",
      "_random             dis                 pexpect             trace\n",
      "_sha1               distributed         pickle              traceback\n",
      "_sha256             distutils           pickleshare         tracemalloc\n",
      "_sha3               doctest             pickletools         traitlets\n",
      "_sha512             docutils            pip                 trimesh\n",
      "_signal             dummy_threading     pipes               tty\n",
      "_sitebuiltins       easy_install        pkg_resources       turtle\n",
      "_socket             email               pkginfo             turtledemo\n",
      "_sqlite3            encodings           pkgutil             types\n",
      "_sre                ensurepip           platform            typing\n",
      "_ssl                entrypoints         plistlib            ujson\n",
      "_stat               enum                pluggy              unicodecsv\n",
      "_string             errno               ply                 unicodedata\n",
      "_strptime           et_xmlfile          poplib              unittest\n",
      "_struct             fastcache           posixpath           urllib\n",
      "_symtable           faulthandler        pprint              urllib3\n",
      "_system_path        filecmp             printEnvVariables   uu\n",
      "_testbuffer         fileinput           printEnvVariablesToFile uuid\n",
      "_testcapi           filelock            profile             venv\n",
      "_testconsole        flake8              prometheus_client   visualstudio_py_testlauncher\n",
      "_testimportmultiple flask               prompt_toolkit      vscode_datascience_helpers\n",
      "_testmultiphase     fnmatch             pstats              warnings\n",
      "_thread             formatter           psutil              watchdog\n",
      "_threading_local    fractions           pty                 wave\n",
      "_tkinter            fsspec              pvectorc            wcwidth\n",
      "_tracemalloc        ftplib              py                  weakref\n",
      "_warnings           functools           py_compile          webbrowser\n",
      "_weakref            future              pyclbr              webencodings\n",
      "_weakrefset         gc                  pycodestyle         werkzeug\n",
      "_win32sysloader     genericpath         pycosat             wheel\n",
      "_winapi             getopt              pycparser           widgetsnbextension\n",
      "_winxptheme         getpass             pycurl              win2kras\n",
      "_yaml               gettext             pydoc               win32api\n",
      "abc                 gevent              pydoc_data          win32clipboard\n",
      "adodbapi            glob                pydocstyle          win32com\n",
      "afxres              glob2               pyexpat             win32con\n",
      "aifc                greenlet            pyflakes            win32console\n",
      "alabaster           gzip                pygments            win32cred\n",
      "anaconda_navigator  h5py                pylab               win32crypt\n",
      "anaconda_project    hashlib             pylint              win32cryptcon\n",
      "antigravity         heapdict            pyls                win32ctypes\n",
      "argh                heapq               pyls_jsonrpc        win32event\n",
      "argparse            hmac                pyodbc              win32evtlog\n",
      "array               html                pyparsing           win32evtlogutil\n",
      "asn1crypto          html5lib            pyreadline          win32file\n",
      "ast                 http                pyrsistent          win32gui\n",
      "astroid             hypothesis          pytest              win32gui_struct\n",
      "astropy             idlelib             pytest_arraydiff    win32help\n",
      "asynchat            idna                pytest_astropy_header win32inet\n",
      "asyncio             imageio             pytest_doctestplus  win32inetcon\n",
      "asyncore            imagesize           pytest_openfiles    win32job\n",
      "atexit              imaplib             pytest_remotedata   win32lz\n",
      "atomicwrites        imghdr              pythoncom           win32net\n",
      "attr                imp                 pytz                win32netcon\n",
      "audioop             importlib           pywin               win32pdh\n",
      "autopep8            importlib_metadata  pywin32_bootstrap   win32pdhquery\n",
      "autoreload          inspect             pywin32_testutil    win32pdhutil\n",
      "babel               install_debugpy     pywintypes          win32pipe\n",
      "backcall            interpreterInfo     pywt                win32print\n",
      "backports           intervaltree        pyximport           win32process\n",
      "base64              io                  qdarkstyle          win32profile\n",
      "bcrypt              ipaddress           qtawesome           win32ras\n",
      "bdb                 ipykernel           qtconsole           win32rcparser\n",
      "binascii            ipykernel_launcher  qtpy                win32security\n",
      "binhex              ipython_genutils    queue               win32service\n",
      "binstar_client      ipywidgets          quopri              win32serviceutil\n",
      "bisect              isapi               random              win32timezone\n",
      "bitarray            isort               rasutil             win32trace\n",
      "bkcharts            isympy              re                  win32traceutil\n",
      "bleach              itertools           readline            win32transaction\n",
      "bokeh               itsdangerous        regcheck            win32ts\n",
      "boto                jdcal               regutil             win32ui\n",
      "bottleneck          jedi                reprlib             win32uiole\n",
      "brain_argparse      jinja2              requests            win32verstamp\n",
      "brain_attrs         joblib              rlcompleter         win32wnet\n",
      "brain_builtin_inference json                rmagic              win_inet_pton\n",
      "brain_collections   json5               rope                win_unicode_console\n",
      "brain_crypt         jsonschema          rtree               wincertstore\n",
      "brain_curses        jupyter             ruamel_yaml         winerror\n",
      "brain_dataclasses   jupyter_client      run                 winioctlcon\n",
      "brain_dateutil      jupyter_console     runJediLanguageServer winnt\n",
      "brain_fstrings      jupyter_core        runpy               winperf\n",
      "brain_functools     jupyter_http_over_ws sched               winpty\n",
      "brain_gi            jupyterlab          scipy               winreg\n",
      "brain_hashlib       jupyterlab_server   scripts             winsound\n",
      "brain_http          keyring             seaborn             winxpgui\n",
      "brain_io            keyword             secrets             winxptheme\n",
      "brain_mechanize     kiwisolver          select              wrapt\n",
      "brain_multiprocessing lazy_object_proxy   selectors           wsgiref\n",
      "brain_namedtuple_enum lib2to3             send2trash          xdrlib\n",
      "brain_nose          libarchive          servicemanager      xlrd\n",
      "brain_numpy_core_fromnumeric libfuturize         setuptools          xlsxwriter\n",
      "brain_numpy_core_function_base libpasteurize       shell_exec          xlwings\n",
      "brain_numpy_core_multiarray lief                shelve              xlwt\n",
      "brain_numpy_core_numeric linecache           shlex               xml\n",
      "brain_numpy_core_numerictypes llvmlite            shutil              xmlrpc\n",
      "brain_numpy_core_umath locale              signal              xmltodict\n",
      "brain_numpy_ndarray locket              simplegeneric       xxsubtype\n",
      "brain_numpy_random_mtrand logging             singledispatch      yaml\n",
      "brain_numpy_utils   lxml                singledispatch_helpers yapf\n",
      "brain_pkg_resources lzma                sip                 yapftests\n",
      "brain_pytest        macpath             sipconfig           zict\n",
      "brain_qt            mailbox             sipdistutils        zipapp\n",
      "brain_random        mailcap             site                zipfile\n",
      "brain_re            markupsafe          six                 zipimport\n",
      "brain_six           marshal             skimage             zipp\n",
      "brain_ssl           math                sklearn             zlib\n",
      "brain_subprocess    matplotlib          smtpd               zmq\n",
      "brain_threading     mccabe              smtplib             \n",
      "brain_typing        menuinst            sndhdr              \n",
      "brain_uuid          mimetypes           snowballstemmer     \n",
      "\n",
      "Enter any module name to get more help.  Or, type \"modules spam\" to search\n",
      "for modules whose name or summary contain the string \"spam\".\n",
      "\n",
      "None\n"
     ]
    }
   ],
   "metadata": {}
  },
  {
   "cell_type": "markdown",
   "source": [
    "`pip` is a special package. It is used from the command line to install properly (e.g. matching the version of the local packages) new packages. It can also be used from within python to check i.e. the set installed packages and their versions. N.B.: only the installed packages on top of the default ones will be listed "
   ],
   "metadata": {}
  },
  {
   "cell_type": "code",
   "execution_count": 4,
   "source": [
    "import pip\r\n",
    "sorted([\"%s==%s\" % (i.key, i.version) for i in pip._internal.utils.misc.get_installed_distributions()])"
   ],
   "outputs": [
    {
     "output_type": "execute_result",
     "data": {
      "text/plain": [
       "['alabaster==0.7.12',\n",
       " 'anaconda-client==1.7.2',\n",
       " 'anaconda-navigator==1.9.12',\n",
       " 'anaconda-project==0.8.3',\n",
       " 'argh==0.26.2',\n",
       " 'asn1crypto==1.3.0',\n",
       " 'astroid==2.3.3',\n",
       " 'astropy==4.0',\n",
       " 'atomicwrites==1.3.0',\n",
       " 'attrs==19.3.0',\n",
       " 'autopep8==1.4.4',\n",
       " 'babel==2.8.0',\n",
       " 'backcall==0.1.0',\n",
       " 'backports.functools-lru-cache==1.6.1',\n",
       " 'backports.shutil-get-terminal-size==1.0.0',\n",
       " 'backports.tempfile==1.0',\n",
       " 'backports.weakref==1.0.post1',\n",
       " 'bcrypt==3.1.7',\n",
       " 'beautifulsoup4==4.8.2',\n",
       " 'bitarray==1.2.1',\n",
       " 'bkcharts==0.2',\n",
       " 'bleach==3.1.0',\n",
       " 'bokeh==1.4.0',\n",
       " 'boto==2.49.0',\n",
       " 'bottleneck==1.3.2',\n",
       " 'certifi==2019.11.28',\n",
       " 'cffi==1.14.0',\n",
       " 'chardet==3.0.4',\n",
       " 'click==7.0',\n",
       " 'cloudpickle==1.3.0',\n",
       " 'clyent==1.2.2',\n",
       " 'colorama==0.4.3',\n",
       " 'comtypes==1.1.7',\n",
       " 'conda-build==3.18.11',\n",
       " 'conda-package-handling==1.6.0',\n",
       " 'conda-verify==3.4.2',\n",
       " 'conda==4.8.2',\n",
       " 'contextlib2==0.6.0.post1',\n",
       " 'cryptography==2.8',\n",
       " 'cycler==0.10.0',\n",
       " 'cython==0.29.15',\n",
       " 'cytoolz==0.10.1',\n",
       " 'dask==2.11.0',\n",
       " 'decorator==4.4.1',\n",
       " 'defusedxml==0.6.0',\n",
       " 'diff-match-patch==20181111',\n",
       " 'distributed==2.11.0',\n",
       " 'docutils==0.16',\n",
       " 'entrypoints==0.3',\n",
       " 'et-xmlfile==1.0.1',\n",
       " 'fastcache==1.1.0',\n",
       " 'filelock==3.0.12',\n",
       " 'flake8==3.7.9',\n",
       " 'flask==1.1.1',\n",
       " 'fsspec==0.6.2',\n",
       " 'future==0.18.2',\n",
       " 'gevent==1.4.0',\n",
       " 'glob2==0.7',\n",
       " 'greenlet==0.4.15',\n",
       " 'h5py==2.10.0',\n",
       " 'heapdict==1.0.1',\n",
       " 'html5lib==1.0.1',\n",
       " 'hypothesis==5.5.4',\n",
       " 'idna==2.8',\n",
       " 'imageio==2.6.1',\n",
       " 'imagesize==1.2.0',\n",
       " 'importlib-metadata==1.5.0',\n",
       " 'intervaltree==3.0.2',\n",
       " 'ipykernel==5.1.4',\n",
       " 'ipython-genutils==0.2.0',\n",
       " 'ipython==7.12.0',\n",
       " 'ipywidgets==7.5.1',\n",
       " 'isort==4.3.21',\n",
       " 'itsdangerous==1.1.0',\n",
       " 'jdcal==1.4.1',\n",
       " 'jedi==0.14.1',\n",
       " 'jinja2==2.11.1',\n",
       " 'joblib==0.14.1',\n",
       " 'json5==0.9.1',\n",
       " 'jsonschema==3.2.0',\n",
       " 'jupyter-client==5.3.4',\n",
       " 'jupyter-console==6.1.0',\n",
       " 'jupyter-core==4.6.1',\n",
       " 'jupyter-http-over-ws==0.0.8',\n",
       " 'jupyter==1.0.0',\n",
       " 'jupyterlab-server==1.0.6',\n",
       " 'jupyterlab==1.2.6',\n",
       " 'keyring==21.1.0',\n",
       " 'kiwisolver==1.1.0',\n",
       " 'lazy-object-proxy==1.4.3',\n",
       " 'libarchive-c==2.8',\n",
       " 'llvmlite==0.31.0',\n",
       " 'locket==0.2.0',\n",
       " 'lxml==4.5.0',\n",
       " 'markupsafe==1.1.1',\n",
       " 'matplotlib==3.1.3',\n",
       " 'mccabe==0.6.1',\n",
       " 'menuinst==1.4.16',\n",
       " 'mistune==0.8.4',\n",
       " 'mkl-fft==1.0.15',\n",
       " 'mkl-random==1.1.0',\n",
       " 'mkl-service==2.3.0',\n",
       " 'mock==4.0.1',\n",
       " 'more-itertools==8.2.0',\n",
       " 'mpmath==1.1.0',\n",
       " 'msgpack==0.6.1',\n",
       " 'multipledispatch==0.6.0',\n",
       " 'navigator-updater==0.2.1',\n",
       " 'nbconvert==5.6.1',\n",
       " 'nbformat==5.0.4',\n",
       " 'networkx==2.4',\n",
       " 'nltk==3.4.5',\n",
       " 'nose==1.3.7',\n",
       " 'notebook==6.0.3',\n",
       " 'numba==0.48.0',\n",
       " 'numexpr==2.7.1',\n",
       " 'numpy==1.18.1',\n",
       " 'numpydoc==0.9.2',\n",
       " 'olefile==0.46',\n",
       " 'openpyxl==3.0.3',\n",
       " 'packaging==20.1',\n",
       " 'pandas==1.0.1',\n",
       " 'pandocfilters==1.4.2',\n",
       " 'paramiko==2.7.1',\n",
       " 'parso==0.5.2',\n",
       " 'partd==1.1.0',\n",
       " 'path==13.1.0',\n",
       " 'pathlib2==2.3.5',\n",
       " 'pathtools==0.1.2',\n",
       " 'patsy==0.5.1',\n",
       " 'pep8==1.7.1',\n",
       " 'pexpect==4.8.0',\n",
       " 'pickleshare==0.7.5',\n",
       " 'pillow==7.0.0',\n",
       " 'pip==20.0.2',\n",
       " 'pkginfo==1.5.0.1',\n",
       " 'pluggy==0.13.1',\n",
       " 'ply==3.11',\n",
       " 'prometheus-client==0.7.1',\n",
       " 'prompt-toolkit==3.0.3',\n",
       " 'psutil==5.6.7',\n",
       " 'py==1.8.1',\n",
       " 'pycodestyle==2.5.0',\n",
       " 'pycosat==0.6.3',\n",
       " 'pycparser==2.19',\n",
       " 'pycrypto==2.6.1',\n",
       " 'pycurl==7.43.0.5',\n",
       " 'pydocstyle==4.0.1',\n",
       " 'pyflakes==2.1.1',\n",
       " 'pygments==2.5.2',\n",
       " 'pylint==2.4.4',\n",
       " 'pynacl==1.3.0',\n",
       " 'pyodbc==4.0.0-unsupported',\n",
       " 'pyopenssl==19.1.0',\n",
       " 'pyparsing==2.4.6',\n",
       " 'pyreadline==2.1',\n",
       " 'pyrsistent==0.15.7',\n",
       " 'pysocks==1.7.1',\n",
       " 'pytest-arraydiff==0.3',\n",
       " 'pytest-astropy-header==0.1.2',\n",
       " 'pytest-astropy==0.8.0',\n",
       " 'pytest-doctestplus==0.5.0',\n",
       " 'pytest-openfiles==0.4.0',\n",
       " 'pytest-remotedata==0.3.2',\n",
       " 'pytest==5.3.5',\n",
       " 'python-dateutil==2.8.1',\n",
       " 'python-jsonrpc-server==0.3.4',\n",
       " 'python-language-server==0.31.7',\n",
       " 'pytz==2019.3',\n",
       " 'pywavelets==1.1.1',\n",
       " 'pywin32-ctypes==0.2.0',\n",
       " 'pywin32==227',\n",
       " 'pywinpty==0.5.7',\n",
       " 'pyyaml==5.3',\n",
       " 'pyzmq==18.1.1',\n",
       " 'qdarkstyle==2.8',\n",
       " 'qtawesome==0.6.1',\n",
       " 'qtconsole==4.6.0',\n",
       " 'qtpy==1.9.0',\n",
       " 'requests==2.22.0',\n",
       " 'rope==0.16.0',\n",
       " 'rtree==0.9.3',\n",
       " 'ruamel-yaml==0.15.87',\n",
       " 'scikit-image==0.16.2',\n",
       " 'scikit-learn==0.22.1',\n",
       " 'scipy==1.4.1',\n",
       " 'seaborn==0.10.0',\n",
       " 'send2trash==1.5.0',\n",
       " 'setuptools==45.2.0.post20200210',\n",
       " 'simplegeneric==0.8.1',\n",
       " 'singledispatch==3.4.0.3',\n",
       " 'six==1.14.0',\n",
       " 'snowballstemmer==2.0.0',\n",
       " 'sortedcollections==1.1.2',\n",
       " 'sortedcontainers==2.1.0',\n",
       " 'soupsieve==1.9.5',\n",
       " 'sphinx==2.4.0',\n",
       " 'sphinxcontrib-applehelp==1.0.1',\n",
       " 'sphinxcontrib-devhelp==1.0.1',\n",
       " 'sphinxcontrib-htmlhelp==1.0.2',\n",
       " 'sphinxcontrib-jsmath==1.0.1',\n",
       " 'sphinxcontrib-qthelp==1.0.2',\n",
       " 'sphinxcontrib-serializinghtml==1.1.3',\n",
       " 'sphinxcontrib-websupport==1.2.0',\n",
       " 'spyder-kernels==1.8.1',\n",
       " 'spyder==4.0.1',\n",
       " 'sqlalchemy==1.3.13',\n",
       " 'statsmodels==0.11.0',\n",
       " 'sympy==1.5.1',\n",
       " 'tables==3.6.1',\n",
       " 'tblib==1.6.0',\n",
       " 'terminado==0.8.3',\n",
       " 'testpath==0.4.4',\n",
       " 'toolz==0.10.0',\n",
       " 'tornado==6.0.3',\n",
       " 'tqdm==4.42.1',\n",
       " 'traitlets==4.3.3',\n",
       " 'trimesh==3.9.20',\n",
       " 'ujson==1.35',\n",
       " 'unicodecsv==0.14.1',\n",
       " 'urllib3==1.25.8',\n",
       " 'watchdog==0.10.2',\n",
       " 'wcwidth==0.1.8',\n",
       " 'webencodings==0.5.1',\n",
       " 'werkzeug==1.0.0',\n",
       " 'wheel==0.34.2',\n",
       " 'widgetsnbextension==3.5.1',\n",
       " 'win-inet-pton==1.1.0',\n",
       " 'win-unicode-console==0.5',\n",
       " 'wincertstore==0.2',\n",
       " 'wrapt==1.11.2',\n",
       " 'xlrd==1.2.0',\n",
       " 'xlsxwriter==1.2.7',\n",
       " 'xlwings==0.17.1',\n",
       " 'xlwt==1.3.0',\n",
       " 'xmltodict==0.12.0',\n",
       " 'yapf==0.28.0',\n",
       " 'zict==1.0.0',\n",
       " 'zipp==2.2.0']"
      ]
     },
     "metadata": {},
     "execution_count": 4
    }
   ],
   "metadata": {}
  },
  {
   "cell_type": "markdown",
   "source": [
    "# Functions"
   ],
   "metadata": {}
  },
  {
   "cell_type": "code",
   "execution_count": 5,
   "source": [
    "def square(x):\r\n",
    "    \"\"\"Square of x.\"\"\"\r\n",
    "    return x*x\r\n",
    "\r\n",
    "def cube(x):\r\n",
    "    \"\"\"Cube of x.\"\"\"\r\n",
    "    return x*x*x\r\n",
    "\r\n",
    "# create a dictionary of functions \r\n",
    "funcs = {\r\n",
    "    'square': square,\r\n",
    "    'cube': cube,\r\n",
    "}\r\n",
    "#this way we can iterate on the dictionary of functions\r\n",
    "x = 3\r\n",
    "print(square(x))\r\n",
    "print(cube(x))\r\n",
    "\r\n",
    "for f in sorted(funcs):\r\n",
    "    print (f, funcs[f](x))"
   ],
   "outputs": [
    {
     "output_type": "stream",
     "name": "stdout",
     "text": [
      "9\n",
      "27\n",
      "cube 27\n",
      "square 9\n"
     ]
    }
   ],
   "metadata": {}
  },
  {
   "cell_type": "markdown",
   "source": [
    "# Functions arguments"
   ],
   "metadata": {}
  },
  {
   "cell_type": "markdown",
   "source": [
    "## What is passsed to a function is a copy of the input. Imagine we have a list *x =[1, 2, 3]*, i.e. a mutable object. If within the function the content of *x* is directly changed (e.g. *x[0] = 999*), then *x* changes outside the funciton as well. "
   ],
   "metadata": {}
  },
  {
   "cell_type": "code",
   "execution_count": 14,
   "source": [
    "def modify(x):\r\n",
    "    x[0] = 999\r\n",
    "    return x\r\n",
    "\r\n",
    "x = [1,2,3]\r\n",
    "print (x)\r\n",
    "print (modify(x))\r\n",
    "print (x)"
   ],
   "outputs": [
    {
     "output_type": "stream",
     "name": "stdout",
     "text": [
      "[1, 2, 3]\n",
      "[999, 2, 3]\n",
      "[999, 2, 3]\n"
     ]
    }
   ],
   "metadata": {}
  },
  {
   "cell_type": "markdown",
   "source": [
    "## However, if *x* is reassigned within the function to a new object (e.g. another list), then the copy of the name *x* now points to the new object, but *x* outside the function is unhcanged."
   ],
   "metadata": {}
  },
  {
   "cell_type": "code",
   "execution_count": 15,
   "source": [
    "def no_modify(x):\r\n",
    "    x = [4,5,6]\r\n",
    "    return x\r\n",
    "\r\n",
    "x = [1,2,3]\r\n",
    "print (x)\r\n",
    "print (no_modify(x))\r\n",
    "print (x)\r\n"
   ],
   "outputs": [
    {
     "output_type": "stream",
     "name": "stdout",
     "text": [
      "[1, 2, 3]\n",
      "[4, 5, 6]\n",
      "[1, 2, 3]\n"
     ]
    }
   ],
   "metadata": {}
  },
  {
   "cell_type": "markdown",
   "source": [
    "### What if the function tries to modify the value of an immutable object?"
   ],
   "metadata": {}
  },
  {
   "cell_type": "markdown",
   "source": [
    "## Binding of default arguments occurs at function definition:"
   ],
   "metadata": {}
  },
  {
   "cell_type": "code",
   "execution_count": 16,
   "source": [
    "def f(x = []):\r\n",
    "    x.append(1)\r\n",
    "    return x\r\n",
    "\r\n",
    "print (f())\r\n",
    "print (f())\r\n",
    "print (f(x = [9,9,9]))\r\n",
    "print (f())\r\n",
    "print (f())"
   ],
   "outputs": [
    {
     "output_type": "stream",
     "name": "stdout",
     "text": [
      "[1]\n",
      "[1, 1]\n",
      "[9, 9, 9, 1]\n",
      "[1, 1, 1]\n",
      "[1, 1, 1, 1]\n"
     ]
    }
   ],
   "metadata": {}
  },
  {
   "cell_type": "markdown",
   "source": [
    "## Try to aviod that!!"
   ],
   "metadata": {}
  },
  {
   "cell_type": "code",
   "execution_count": 18,
   "source": [
    "def f(x = None):\r\n",
    "    if x is None:\r\n",
    "        x = []\r\n",
    "    x.append(1)\r\n",
    "    return x\r\n",
    "\r\n",
    "print (f())\r\n",
    "print (f())\r\n",
    "print (f(x = [9,9,9])) #if i specify the argument the function takes it, i dont do it it takes x=None\r\n",
    "print (f())\r\n",
    "print (f())"
   ],
   "outputs": [
    {
     "output_type": "stream",
     "name": "stdout",
     "text": [
      "[1]\n",
      "[1]\n",
      "[9, 9, 9, 1]\n",
      "[1]\n",
      "[1]\n"
     ]
    }
   ],
   "metadata": {}
  },
  {
   "cell_type": "markdown",
   "source": [
    "# Higher order functions: HOF\r\n",
    "\r\n",
    "## A function that uses another function as an input argument or returns a function is known as a higher-order function (HOF). The most familiar examples are `map` and `filter`."
   ],
   "metadata": {}
  },
  {
   "cell_type": "markdown",
   "source": [
    "## map\r\n",
    "\r\n",
    "The map function applies a function to each member of a collection"
   ],
   "metadata": {}
  },
  {
   "cell_type": "code",
   "execution_count": 19,
   "source": [
    "x = list(map(square, range(5))) #map returns an iterator, if we want an array we have to list it\r\n",
    "print (x)\r\n",
    "\r\n",
    "# Note the difference w.r.t python 2. In python 3 map retuns an iterator so you can do stuff like:\r\n",
    "for i in map(square,range(5)): print(i) #remember!!"
   ],
   "outputs": [
    {
     "output_type": "stream",
     "name": "stdout",
     "text": [
      "[0, 1, 4, 9, 16]\n",
      "0\n",
      "1\n",
      "4\n",
      "9\n",
      "16\n"
     ]
    }
   ],
   "metadata": {}
  },
  {
   "cell_type": "markdown",
   "source": [
    "## filter\r\n",
    "\r\n",
    "The filter function applies a predicate to each member of a collection, retaining only those members where the predicate is True"
   ],
   "metadata": {}
  },
  {
   "cell_type": "code",
   "execution_count": 20,
   "source": [
    "def is_even(x):\r\n",
    "    return x%2 == 0 #returns True/False bc == is the comparison operator\r\n",
    "\r\n",
    "print (list(filter(is_even, range(5)))) #only True statements are returned!!!"
   ],
   "outputs": [
    {
     "output_type": "stream",
     "name": "stdout",
     "text": [
      "[0, 2, 4]\n"
     ]
    }
   ],
   "metadata": {}
  },
  {
   "cell_type": "code",
   "execution_count": 22,
   "source": [
    "list(map(square, filter(is_even, range(5))))\r\n",
    "# this means that square is applied only on those numbers filtered by the even request: gives the squares of even numbers"
   ],
   "outputs": [
    {
     "output_type": "execute_result",
     "data": {
      "text/plain": [
       "[0, 4, 16]"
      ]
     },
     "metadata": {},
     "execution_count": 22
    }
   ],
   "metadata": {}
  },
  {
   "cell_type": "markdown",
   "source": [
    "## reduce\r\n",
    "\r\n",
    "The reduce function reduces a collection using a binary operator to combine items two at a time. More often than not reduce can be substituted with a more efficient for loop. It is worth mentioning it for its key role in big-data applications together with map (the map-reduce paradigm). \r\n",
    "N.B.: it no loger exist as built-in function in python 3, it is now part of the `functools` library. \r\n",
    "link: https://www.geeksforgeeks.org/reduce-in-python/"
   ],
   "metadata": {}
  },
  {
   "cell_type": "code",
   "execution_count": 24,
   "source": [
    "from functools import reduce\r\n",
    "\r\n",
    "def my_add(x, y):\r\n",
    "    return x + y\r\n",
    "\r\n",
    "# another implementation of the sum function\r\n",
    "reduce(my_add, [1,2,3,4,5]) "
   ],
   "outputs": [
    {
     "output_type": "execute_result",
     "data": {
      "text/plain": [
       "15"
      ]
     },
     "metadata": {},
     "execution_count": 24
    }
   ],
   "metadata": {}
  },
  {
   "cell_type": "markdown",
   "source": [
    "## zip\r\n",
    "\r\n",
    "zip is useful when you need to iterate over matched elements of multiple lists"
   ],
   "metadata": {}
  },
  {
   "cell_type": "code",
   "execution_count": 31,
   "source": [
    "xs = [1, 2, 3, 4]\r\n",
    "ys = [10, 20, 30, 40]\r\n",
    "zs = ['a', 'b', 'c', 'd', 'e']\r\n",
    "\r\n",
    "for x, y, z in zip(xs, ys, zs):\r\n",
    "    print (x, y, z)"
   ],
   "outputs": [
    {
     "output_type": "stream",
     "name": "stdout",
     "text": [
      "1 10 a\n",
      "2 20 b\n",
      "3 30 c\n",
      "4 40 d\n"
     ]
    }
   ],
   "metadata": {}
  },
  {
   "cell_type": "markdown",
   "source": [
    "## Custom HOF"
   ],
   "metadata": {}
  },
  {
   "cell_type": "code",
   "execution_count": 32,
   "source": [
    "def custom_sum(xs, transform): #take a function as input\r\n",
    "    \"\"\"Returns the sum of xs after a user specified transform.\"\"\"\r\n",
    "    return sum(map(transform, xs))\r\n",
    "\r\n",
    "xs = range(5)\r\n",
    "print (custom_sum(xs, square))\r\n",
    "print (custom_sum(xs, cube))\r\n",
    "\r\n"
   ],
   "outputs": [
    {
     "output_type": "stream",
     "name": "stdout",
     "text": [
      "30\n",
      "100\n"
     ]
    }
   ],
   "metadata": {}
  },
  {
   "cell_type": "markdown",
   "source": [
    "## Returning a function"
   ],
   "metadata": {}
  },
  {
   "cell_type": "code",
   "execution_count": 27,
   "source": [
    "def make_logger(target):\r\n",
    "    def logger(data):\r\n",
    "        with open(target, 'a') as f: #capire come funziona with\r\n",
    "            f.write(data + '\\n')\r\n",
    "    return logger\r\n",
    "\r\n",
    "foo_logger = make_logger('foo.txt') #foo.txt will be created if not there already\r\n",
    "foo_logger('Hello')\r\n",
    "foo_logger('World')"
   ],
   "outputs": [],
   "metadata": {}
  },
  {
   "cell_type": "code",
   "execution_count": 30,
   "source": [
    "! cat 'foo.txt' #vale solo per linux"
   ],
   "outputs": [
    {
     "output_type": "stream",
     "name": "stderr",
     "text": [
      "\"cat\" non � riconosciuto come comando interno o esterno,\n",
      " un programma eseguibile o un file batch.\n"
     ]
    }
   ],
   "metadata": {}
  },
  {
   "cell_type": "markdown",
   "source": [
    "## Anonimous functions (lambda)\n",
    "\n",
    "When using functional style, there is often the need to create specific functions that perform a limited task as input to a HOF such as map or filter. In such cases, these functions are often written as anonymous or lambda functions. \n",
    "The syntax is as follows:\n",
    "\n",
    "lambda *arguments* : *expression*\n",
    "\n",
    "\n",
    "If you find it hard to understand what a lambda function is doing, it should probably be rewritten as a regular function."
   ],
   "metadata": {}
  },
  {
   "cell_type": "code",
   "execution_count": 35,
   "source": [
    "sum = lambda x,y: x+y\r\n",
    "sum(3,4)"
   ],
   "outputs": [
    {
     "output_type": "execute_result",
     "data": {
      "text/plain": [
       "7"
      ]
     },
     "metadata": {},
     "execution_count": 35
    }
   ],
   "metadata": {}
  },
  {
   "cell_type": "code",
   "execution_count": 66,
   "source": [
    "for i in map(lambda x: x*x, range(5)): print (i)"
   ],
   "outputs": [
    {
     "output_type": "stream",
     "name": "stdout",
     "text": [
      "0\n",
      "1\n",
      "4\n",
      "9\n",
      "16\n"
     ]
    }
   ],
   "metadata": {}
  },
  {
   "cell_type": "code",
   "execution_count": 32,
   "source": [
    "# what does this function do?\r\n",
    "from functools import reduce\r\n",
    "s1 = reduce(lambda x, y: x+y, map(lambda x: x**2, range(1,10))) #sum of all the squares of the integers from 1 to 9\r\n",
    "print(s1)\r\n"
   ],
   "outputs": [
    {
     "output_type": "stream",
     "name": "stdout",
     "text": [
      "285\n"
     ]
    }
   ],
   "metadata": {}
  },
  {
   "cell_type": "markdown",
   "source": [
    "## Recursive functions "
   ],
   "metadata": {}
  },
  {
   "cell_type": "code",
   "execution_count": 35,
   "source": [
    "def fib1(n):\r\n",
    "    \"\"\"Fib with recursion.\"\"\" \r\n",
    "\r\n",
    "    # base case\r\n",
    "    if n==0 or n==1:\r\n",
    "        return 1\r\n",
    "    # recurssive case\r\n",
    "    else:\r\n",
    "        return fib1(n-1) + fib1(n-2)\r\n",
    "\r\n",
    "    \r\n",
    "print ([fib1(i) for i in range(10)])"
   ],
   "outputs": [
    {
     "output_type": "stream",
     "name": "stdout",
     "text": [
      "[1, 1, 2, 3, 5, 8, 13, 21, 34, 55]\n"
     ]
    }
   ],
   "metadata": {}
  },
  {
   "cell_type": "code",
   "execution_count": 34,
   "source": [
    "# In Python, a more efficient version that does not use recursion is\r\n",
    "\r\n",
    "def fib2(n):\r\n",
    "    \"\"\"Fib without recursion.\"\"\"\r\n",
    "    a, b = 0, 1\r\n",
    "    for i in range(1, n+1):\r\n",
    "        a, b = b, a+b\r\n",
    "    return b\r\n",
    "\r\n",
    "print ([fib2(i) for i in range(10)])"
   ],
   "outputs": [
    {
     "output_type": "stream",
     "name": "stdout",
     "text": [
      "[1, 1, 2, 3, 5, 8, 13, 21, 34, 55]\n"
     ]
    }
   ],
   "metadata": {}
  },
  {
   "cell_type": "code",
   "execution_count": 36,
   "source": [
    "# check indeed the timing:\r\n",
    "\r\n",
    "%timeit fib1(20)\r\n",
    "%timeit fib2(20)\r\n"
   ],
   "outputs": [
    {
     "output_type": "stream",
     "name": "stdout",
     "text": [
      "4.48 ms ± 180 µs per loop (mean ± std. dev. of 7 runs, 100 loops each)\n",
      "1.96 µs ± 126 ns per loop (mean ± std. dev. of 7 runs, 100000 loops each)\n"
     ]
    }
   ],
   "metadata": {}
  },
  {
   "cell_type": "markdown",
   "source": [
    "## Iterators\r\n",
    "\r\n",
    "Iterators represent streams of values. Because only one value is consumed at a time, they use very little memory. Use of iterators is very helpful for working with data sets too large to fit into RAM."
   ],
   "metadata": {}
  },
  {
   "cell_type": "code",
   "execution_count": 55,
   "source": [
    "# Iterators can be created from sequences with the built-in function iter()\r\n",
    "\r\n",
    "xs = [1,2,3]\r\n",
    "x_iter = iter(xs)\r\n",
    "\r\n",
    "print (next(x_iter))\r\n",
    "print (next(x_iter))\r\n",
    "print (next(x_iter))\r\n",
    "print (next(x_iter))\r\n"
   ],
   "outputs": [
    {
     "output_type": "execute_result",
     "data": {
      "text/plain": [
       "'\\nprint (next(x_iter))\\nprint (next(x_iter))\\nprint (next(x_iter))\\nprint (next(x_iter))\\n'"
      ]
     },
     "metadata": {},
     "execution_count": 55
    }
   ],
   "metadata": {}
  },
  {
   "cell_type": "code",
   "execution_count": 57,
   "source": [
    "# usually very useful in order to do fot cycles:\r\n",
    "xs = [1,2,3]\r\n",
    "x_iter = iter(xs)\r\n",
    "for i in x_iter: print(i)"
   ],
   "outputs": [
    {
     "output_type": "stream",
     "name": "stdout",
     "text": [
      "1\n",
      "2\n",
      "3\n"
     ]
    }
   ],
   "metadata": {}
  },
  {
   "cell_type": "markdown",
   "source": [
    "# More on comprehension lists"
   ],
   "metadata": {}
  },
  {
   "cell_type": "code",
   "execution_count": 58,
   "source": [
    "# A generator expression\r\n",
    "\r\n",
    "print ((x for x in range(10)))\r\n",
    "\r\n",
    "# A list comprehesnnion\r\n",
    "\r\n",
    "print ([x for x in range(10)])\r\n",
    "\r\n",
    "# A set comprehension\r\n",
    "\r\n",
    "print ({x for x in range(10)})\r\n",
    "\r\n",
    "# A dictionary comprehension\r\n",
    "\r\n",
    "print ({x: x for x in range(10)})"
   ],
   "outputs": [
    {
     "output_type": "stream",
     "name": "stdout",
     "text": [
      "<generator object <genexpr> at 0x0000024400AEFAC8>\n",
      "[0, 1, 2, 3, 4, 5, 6, 7, 8, 9]\n",
      "{0, 1, 2, 3, 4, 5, 6, 7, 8, 9}\n",
      "{0: 0, 1: 1, 2: 2, 3: 3, 4: 4, 5: 5, 6: 6, 7: 7, 8: 8, 9: 9}\n"
     ]
    }
   ],
   "metadata": {}
  },
  {
   "cell_type": "markdown",
   "source": [
    "## Useful Modules\n",
    "\n",
    "You may want to have a look at the content of the following modules for further usage of (HO) functions:\n",
    "  - [operator](https://docs.python.org/3/library/operator.html)\n",
    "  - [functools](https://docs.python.org/3/library/functools.html)\n",
    "  - [itertools](https://docs.python.org/3/library/itertools.html)\n",
    "  - [toolz](https://pypi.org/project/toolz/)\n",
    "  - [funcy](https://pypi.org/project/funcy/)"
   ],
   "metadata": {}
  },
  {
   "cell_type": "markdown",
   "source": [
    "## Decorators\n",
    "\n",
    "Decorators are a type of HOF that take a function and return a wrapped function that provides additional useful properties.\n",
    "\n",
    "Examples:\n",
    "\n",
    "  - logging\n",
    "  - profiling\n",
    "  - Just-In-Time (JIT) compilation"
   ],
   "metadata": {}
  },
  {
   "cell_type": "code",
   "execution_count": 59,
   "source": [
    "def my_decorator(func):\r\n",
    "    def wrapper():\r\n",
    "        print(\"Something is happening before the function is called.\")\r\n",
    "        func()\r\n",
    "        print(\"Something is happening after the function is called.\")\r\n",
    "    return wrapper\r\n",
    "\r\n",
    "def say_whee():\r\n",
    "    print(\"Whee!\")\r\n",
    "\r\n",
    "say_whee = my_decorator(say_whee) #we wrapped the other stuff here"
   ],
   "outputs": [],
   "metadata": {}
  },
  {
   "cell_type": "code",
   "execution_count": 60,
   "source": [
    "say_whee()"
   ],
   "outputs": [
    {
     "output_type": "stream",
     "name": "stdout",
     "text": [
      "Something is happening before the function is called.\n",
      "Whee!\n",
      "Something is happening after the function is called.\n"
     ]
    }
   ],
   "metadata": {}
  },
  {
   "cell_type": "markdown",
   "source": [
    "### Python allows you to use decorators in a simpler way with the @ symbol, sometimes called the “pie” syntax"
   ],
   "metadata": {}
  },
  {
   "cell_type": "code",
   "execution_count": 63,
   "source": [
    "def my_decorator(func):\r\n",
    "    def wrapper():\r\n",
    "        print(\"Something is happening before the function is called.\")\r\n",
    "        func()\r\n",
    "        print(\"Something is happening after the function is called.\")\r\n",
    "    return wrapper\r\n",
    "\r\n",
    "@my_decorator\r\n",
    "def say_whee():\r\n",
    "    print(\"Whee!\")\r\n",
    "\r\n",
    "say_whee()"
   ],
   "outputs": [
    {
     "output_type": "stream",
     "name": "stdout",
     "text": [
      "Something is happening before the function is called.\n",
      "Whee!\n",
      "Something is happening after the function is called.\n"
     ]
    }
   ],
   "metadata": {}
  },
  {
   "cell_type": "markdown",
   "source": [
    "# Classes and Objects\n",
    "\n",
    "Old school object-oriented programming is possible and often used in python. Classes are defined similarly to standard object-oriented languages, with similar functionalities.\n",
    "\n",
    "The main python doc [page](https://docs.python.org/3.6/tutorial/classes.html) is worth reading through "
   ],
   "metadata": {}
  },
  {
   "cell_type": "code",
   "execution_count": 64,
   "source": [
    "class Pet:\r\n",
    "    # the \"constructor\"\r\n",
    "    def __init__(self, name, age):  #inizialize the elements of the class\r\n",
    "        self.name=name\r\n",
    "        self.age=age\r\n",
    "    # class functions take the \"self\" parameter !!!\r\n",
    "    def set_name(self,name):\r\n",
    "        self.name=name\r\n",
    "    def convert_age(self,factor):\r\n",
    "        self.age*=factor\r\n",
    "\r\n",
    "buddy=Pet(\"buddy\",12)\r\n",
    "print (buddy.name, buddy.age)\r\n",
    "buddy.age=3\r\n",
    "print (buddy.age)\r\n",
    "\r\n"
   ],
   "outputs": [
    {
     "output_type": "stream",
     "name": "stdout",
     "text": [
      "buddy 12\n",
      "3\n"
     ]
    }
   ],
   "metadata": {}
  },
  {
   "cell_type": "code",
   "execution_count": 65,
   "source": [
    "# ineritance is straightforward\r\n",
    "class Dog(Pet): #here we inherit the attributes of the master class Pet\r\n",
    "    # the following variables is \"global\", i.e. holds for all \"Dog\" objects\r\n",
    "    species = \"mammal\"\r\n",
    "    # functions can be redefined as usual\r\n",
    "    def convert_age(self):\r\n",
    "        self.age*=7\r\n",
    "    def set_species(self, species):\r\n",
    "        self.species = species\r\n",
    "        \r\n",
    "puppy=Dog(\"tobia\",10)\r\n",
    "print(puppy.name)\r\n",
    "puppy.convert_age()\r\n",
    "print(puppy.age)\r\n",
    "\r\n"
   ],
   "outputs": [
    {
     "output_type": "stream",
     "name": "stdout",
     "text": [
      "tobia\n",
      "70\n"
     ]
    }
   ],
   "metadata": {}
  }
 ],
 "metadata": {
  "kernelspec": {
   "name": "python3",
   "display_name": "Python 3.7.6 64-bit ('base': conda)"
  },
  "language_info": {
   "codemirror_mode": {
    "name": "ipython",
    "version": 3
   },
   "file_extension": ".py",
   "mimetype": "text/x-python",
   "name": "python",
   "nbconvert_exporter": "python",
   "pygments_lexer": "ipython3",
   "version": "3.7.6"
  },
  "interpreter": {
   "hash": "d45e406d0e0708198588c4cd422e9b9b922df52c309efe81ad56c437167c4d05"
  }
 },
 "nbformat": 4,
 "nbformat_minor": 2
}