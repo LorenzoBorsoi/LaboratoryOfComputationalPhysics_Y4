{
 "cells": [
  {
   "cell_type": "markdown",
   "metadata": {},
   "source": [
    "# Modules/packages/libraries\n",
    "\n",
    "Definitions:\n",
    "\n",
    "  * Modules:\n",
    "  A module is a file which contains python functions, global variables etc. It is nothing but .py file which has python executable code / statement.\n",
    "\n",
    "  * Packages:\n",
    "  A package is a namespace which contains multiple package/modules. It is a directory which contains a special file `__init__.py`\n",
    "  \n",
    "  * Libraries:\n",
    "  A library is a collection of various packages. There is no difference between package and python library conceptually.\n",
    "  \n",
    "Modules/packages/libraries can be easily \"imported\" and made functional in your python code. A set of libriaries comes with every python installation. Others can be installed locally and then imported. Your own code sitting somewhere else in your local computer can be imported too.\n",
    "\n",
    "Further details (very important!) on packages and how to create them can be found online. We may find the need of creating our own during the course."
   ]
  },
  {
   "cell_type": "code",
   "execution_count": 1,
   "metadata": {},
   "outputs": [
    {
     "name": "stdout",
     "output_type": "stream",
     "text": [
      "3.141592653589793\n",
      "3.141592653589793\n",
      "3.141592653589793\n",
      "2.6457513110645907\n"
     ]
    }
   ],
   "source": [
    "###### all the \"stuff\" that is in the math library can be used\n",
    "import math\n",
    "print(math.pi)\n",
    "\n",
    "# you can give math a label for convenience\n",
    "import math as m\n",
    "print (m.pi)\n",
    "\n",
    "# alternatively you can import only a given \"thing\" from the library\n",
    "from math import pi    #you can add several libraries at once, just list them separated by a \", \"\n",
    "print (pi)\n",
    "\n",
    "# or just get everything (very dangerous!!!)\n",
    "from math import *\n",
    "print (sqrt(7))"
   ]
  },
  {
   "cell_type": "markdown",
   "metadata": {},
   "source": [
    "To know which modules are there for you to use just type:"
   ]
  },
  {
   "cell_type": "code",
   "execution_count": 2,
   "metadata": {},
   "outputs": [
    {
     "name": "stdout",
     "output_type": "stream",
     "text": [
      "\n",
      "Please wait a moment while I gather a list of all available modules...\n",
      "\n"
     ]
    },
    {
     "name": "stderr",
     "output_type": "stream",
     "text": [
      "C:\\Users\\cmart\\anaconda3new\\lib\\site-packages\\IPython\\kernel\\__init__.py:12: ShimWarning: The `IPython.kernel` package has been deprecated since IPython 4.0.You should import from ipykernel or jupyter_client instead.\n",
      "  warn(\"The `IPython.kernel` package has been deprecated since IPython 4.0.\"\n",
      "WARNING: AstropyDeprecationWarning: The private astropy._erfa module has been made into its own package, pyerfa, which is a dependency of astropy and can be imported directly using \"import erfa\" [astropy._erfa]\n",
      "C:\\Users\\cmart\\anaconda3new\\lib\\pkgutil.py:92: MatplotlibDeprecationWarning: \n",
      "The matplotlib.compat module was deprecated in Matplotlib 3.3 and will be removed two minor releases later.\n",
      "  __import__(info.name)\n",
      "C:\\Users\\cmart\\anaconda3new\\lib\\site-packages\\nltk\\twitter\\__init__.py:21: UserWarning: The twython library has not been installed. Some functionality from the twitter package will not be available.\n",
      "  warnings.warn(\n",
      "C:\\Users\\cmart\\anaconda3new\\lib\\site-packages\\skimage\\viewer\\utils\\__init__.py:1: UserWarning: Recommended matplotlib backend is `Agg` for full skimage.viewer functionality.\n",
      "  from .core import *\n"
     ]
    },
    {
     "name": "stdout",
     "output_type": "stream",
     "text": [
      "Update LANGUAGE_CODES (inside config/base.py) if a new translation has been added to Spyder\n"
     ]
    },
    {
     "name": "stderr",
     "output_type": "stream",
     "text": [
      "C:\\Users\\cmart\\anaconda3new\\lib\\site-packages\\qtawesome\\iconic_font.py:313: UserWarning: You need to have a running QApplication to use QtAwesome!\n",
      "  warnings.warn(\"You need to have a running \"\n",
      "C:\\Users\\cmart\\anaconda3new\\lib\\pkgutil.py:107: VisibleDeprecationWarning: zmq.eventloop.minitornado is deprecated in pyzmq 14.0 and will be removed.\n",
      "    Install tornado itself to use zmq with the tornado IOLoop.\n",
      "    \n",
      "  yield from walk_packages(path, info.name+'.', onerror)\n"
     ]
    },
    {
     "name": "stdout",
     "output_type": "stream",
     "text": [
      "Cython              brain_re            mailbox             sniffio\n",
      "IPython             brain_responses     mailcap             snowballstemmer\n",
      "OpenSSL             brain_scipy_signal  markupsafe          socket\n",
      "PIL                 brain_six           marshal             socketserver\n",
      "PyQt5               brain_sqlalchemy    math                socks\n",
      "__future__          brain_ssl           matplotlib          sockshandler\n",
      "_abc                brain_subprocess    mccabe              sortedcollections\n",
      "_ast                brain_threading     menuinst            sortedcontainers\n",
      "_asyncio            brain_type          mimetypes           soupsieve\n",
      "_bisect             brain_typing        mistune             sphinx\n",
      "_black_version      brain_uuid          mkl                 sphinxcontrib\n",
      "_blake2             brotli              mkl_fft             spyder\n",
      "_bootlocale         bs4                 mkl_random          spyder_kernels\n",
      "_bz2                builtins            mmap                sqlalchemy\n",
      "_cffi_backend       bz2                 mmapfile            sqlite3\n",
      "_codecs             cProfile            mmsystem            sre_compile\n",
      "_codecs_cn          calendar            mock                sre_constants\n",
      "_codecs_hk          certifi             modulefinder        sre_parse\n",
      "_codecs_iso2022     cffi                more_itertools      ssl\n",
      "_codecs_jp          cgi                 mpmath              sspi\n",
      "_codecs_kr          cgitb               msgpack             sspicon\n",
      "_codecs_tw          chardet             msilib              stat\n",
      "_collections        chunk               msvcrt              statistics\n",
      "_collections_abc    click               multipledispatch    statsmodels\n",
      "_compat_pickle      cloudpickle         multiprocessing     storemagic\n",
      "_compression        clyent              mypy_extensions     string\n",
      "_contextvars        cmath               nacl                stringprep\n",
      "_csv                cmd                 navigator_updater   struct\n",
      "_ctypes             code                nbclassic           subprocess\n",
      "_ctypes_test        codecs              nbclient            sunau\n",
      "_datetime           codeop              nbconvert           symbol\n",
      "_decimal            collections         nbformat            sympy\n",
      "_distutils_hack     colorama            nest_asyncio        sympyprinting\n",
      "_dummy_thread       colorsys            netbios             symtable\n",
      "_elementtree        commctrl            netrc               sys\n",
      "_functools          compileall          networkx            sysconfig\n",
      "_hashlib            comtypes            nltk                tables\n",
      "_heapq              concurrent          nntplib             tabnanny\n",
      "_imp                conda               nose                tarfile\n",
      "_io                 conda_build         notebook            tblib\n",
      "_json               conda_content_trust nt                  telnetlib\n",
      "_locale             conda_env           ntpath              tempfile\n",
      "_lsprof             conda_package_handling ntsecuritycon       terminado\n",
      "_lzma               conda_token         nturl2path          test\n",
      "_markupbase         conda_verify        numba               test_data\n",
      "_md5                configparser        numbers             test_pycosat\n",
      "_msi                contextlib          numexpr             testpath\n",
      "_multibytecodec     contextlib2         numpy               tests\n",
      "_multiprocessing    contextvars         numpydoc            textdistance\n",
      "_nsis               copy                odbc                textwrap\n",
      "_opcode             copyreg             olefile             this\n",
      "_operator           crypt               opcode              threading\n",
      "_osx_support        cryptography        openpyxl            threadpoolctl\n",
      "_overlapped         csv                 operator            three_merge\n",
      "_pickle             ctypes              optparse            tifffile\n",
      "_py_abc             curl                os                  time\n",
      "_pydecimal          curses              packaging           timeit\n",
      "_pyio               cwp                 pandas              timer\n",
      "_pyrsistent_version cycler              pandocfilters       tkinter\n",
      "_pytest             cython              paramiko            tlz\n",
      "_queue              cythonmagic         parser              token\n",
      "_random             cytoolz             parso               tokenize\n",
      "_sha1               dask                partd               toml\n",
      "_sha256             dataclasses         past                toolz\n",
      "_sha3               datetime            path                tornado\n",
      "_sha512             dateutil            pathlib             tqdm\n",
      "_signal             dbi                 pathlib2            trace\n",
      "_sitebuiltins       dbm                 pathspec            traceback\n",
      "_socket             dde                 patsy               tracemalloc\n",
      "_sqlite3            decimal             pdb                 traitlets\n",
      "_sre                decorator           pep8                tty\n",
      "_ssl                defusedxml          perfmon             turtle\n",
      "_stat               diff_match_patch    pexpect             turtledemo\n",
      "_statistics         difflib             pickle              typed_ast\n",
      "_string             dis                 pickleshare         types\n",
      "_strptime           distributed         pickletools         typing\n",
      "_struct             distutils           pip                 typing_extensions\n",
      "_symtable           doctest             pipes               ujson\n",
      "_system_path        docutils            pkg_resources       unicodecsv\n",
      "_testbuffer         dummy_threading     pkginfo             unicodedata\n",
      "_testcapi           email               pkgutil             unittest\n",
      "_testconsole        encodings           platform            urllib\n",
      "_testimportmultiple ensurepip           plistlib            urllib3\n",
      "_testinternalcapi   entrypoints         pluggy              uu\n",
      "_testmultiphase     enum                ply                 uuid\n",
      "_thread             erfa                poplib              venv\n",
      "_threading_local    errno               posixpath           warnings\n",
      "_tkinter            et_xmlfile          pprint              watchdog\n",
      "_tracemalloc        fastcache           profile             wave\n",
      "_warnings           faulthandler        prometheus_client   wcwidth\n",
      "_weakref            filecmp             prompt_toolkit      weakref\n",
      "_weakrefset         fileinput           pstats              webbrowser\n",
      "_win32sysloader     filelock            psutil              webencodings\n",
      "_winapi             flake8              pty                 werkzeug\n",
      "_winxptheme         flask               ptyprocess          wheel\n",
      "_xxsubinterpreters  fnmatch             pvectorc            widgetsnbextension\n",
      "_yaml               formatter           py                  win2kras\n",
      "abc                 fractions           py_compile          win32api\n",
      "adodbapi            fsspec              pyclbr              win32clipboard\n",
      "afxres              ftplib              pycodestyle         win32com\n",
      "aifc                functools           pycosat             win32con\n",
      "alabaster           future              pycparser           win32console\n",
      "anaconda_navigator  gc                  pycurl              win32cred\n",
      "anaconda_project    genericpath         pydoc               win32crypt\n",
      "antigravity         getopt              pydoc_data          win32cryptcon\n",
      "anyio               getpass             pydocstyle          win32ctypes\n",
      "appdirs             gettext             pyexpat             win32event\n",
      "argh                gevent              pyflakes            win32evtlog\n",
      "argon2              glob                pygments            win32evtlogutil\n",
      "argparse            glob2               pylab               win32file\n",
      "array               greenlet            pylint              win32gui\n",
      "asn1crypto          gzip                pyls                win32gui_struct\n",
      "ast                 h5py                pyls_black          win32help\n",
      "astroid             hashlib             pyls_jsonrpc        win32inet\n",
      "astropy             heapdict            pyls_spyder         win32inetcon\n",
      "async_generator     heapq               pyodbc              win32job\n",
      "asynchat            hmac                pyparsing           win32lz\n",
      "asyncio             html                pyreadline          win32net\n"
     ]
    },
    {
     "name": "stdout",
     "output_type": "stream",
     "text": [
      "asyncore            html5lib            pyrsistent          win32netcon\n",
      "atexit              http                pytest              win32pdh\n",
      "atomicwrites        idlelib             pythoncom           win32pdhquery\n",
      "attr                idna                pytz                win32pdhutil\n",
      "audioop             imagecodecs         pywin               win32pipe\n",
      "autopep8            imageio             pywin32_bootstrap   win32print\n",
      "autoreload          imagesize           pywin32_testutil    win32process\n",
      "babel               imaplib             pywintypes          win32profile\n",
      "backcall            imghdr              pywt                win32ras\n",
      "backports           imp                 pyximport           win32rcparser\n",
      "base64              importlib           qdarkstyle          win32security\n",
      "bcrypt              importlib_metadata  qtawesome           win32service\n",
      "bdb                 iniconfig           qtconsole           win32serviceutil\n",
      "binascii            inspect             qtpy                win32timezone\n",
      "binhex              intervaltree        queue               win32trace\n",
      "binstar_client      io                  quopri              win32traceutil\n",
      "bisect              ipaddress           random              win32transaction\n",
      "bitarray            ipykernel           rasutil             win32ts\n",
      "bkcharts            ipykernel_launcher  re                  win32ui\n",
      "black               ipython_genutils    readline            win32uiole\n",
      "blackd              ipywidgets          regcheck            win32verstamp\n",
      "bleach              isapi               regex               win32wnet\n",
      "blib2to3            isort               regutil             win_inet_pton\n",
      "bokeh               isympy              repo_cli            win_unicode_console\n",
      "boto                itertools           reprlib             wincertstore\n",
      "bottleneck          itsdangerous        requests            winerror\n",
      "brain_argparse      jdcal               rlcompleter         winioctlcon\n",
      "brain_attrs         jedi                rmagic              winnt\n",
      "brain_boto3         jinja2              rope                winperf\n",
      "brain_builtin_inference joblib              rtree               winpty\n",
      "brain_collections   json                ruamel_yaml         winreg\n",
      "brain_crypt         json5               run                 winsound\n",
      "brain_curses        jsonschema          runpy               winxpgui\n",
      "brain_dataclasses   jupyter             sched               winxptheme\n",
      "brain_dateutil      jupyter_client      scipy               wrapt\n",
      "brain_fstrings      jupyter_console     scripts             wsgiref\n",
      "brain_functools     jupyter_core        seaborn             xdrlib\n",
      "brain_gi            jupyter_packaging   secrets             xlrd\n",
      "brain_hashlib       jupyter_server      select              xlsxwriter\n",
      "brain_http          jupyterlab          selectors           xlwings\n",
      "brain_hypothesis    jupyterlab_pygments send2trash          xlwt\n",
      "brain_io            jupyterlab_server   servicemanager      xml\n",
      "brain_mechanize     jupyterlab_widgets  setuptools          xmlrpc\n",
      "brain_multiprocessing keyring             shelve              xmltodict\n",
      "brain_namedtuple_enum keyword             shlex               xxsubtype\n",
      "brain_nose          kiwisolver          shutil              yaml\n",
      "brain_numpy_core_fromnumeric lazy_object_proxy   signal              yapf\n",
      "brain_numpy_core_function_base lib2to3             simplegeneric       yapftests\n",
      "brain_numpy_core_multiarray libarchive          singledispatch      zict\n",
      "brain_numpy_core_numeric libfuturize         sip                 zipapp\n",
      "brain_numpy_core_numerictypes libpasteurize       sipconfig           zipfile\n",
      "brain_numpy_core_umath lief                sipdistutils        zipimport\n",
      "brain_numpy_ndarray linecache           site                zipp\n",
      "brain_numpy_random_mtrand llvmlite            six                 zlib\n",
      "brain_numpy_utils   locale              skimage             zmq\n",
      "brain_pkg_resources locket              sklearn             zope\n",
      "brain_pytest        logging             smtpd               \n",
      "brain_qt            lxml                smtplib             \n",
      "brain_random        lzma                sndhdr              \n",
      "\n",
      "Enter any module name to get more help.  Or, type \"modules spam\" to search\n",
      "for modules whose name or summary contain the string \"spam\".\n",
      "\n",
      "None\n"
     ]
    }
   ],
   "source": [
    "print (help('modules') )\n"
   ]
  },
  {
   "cell_type": "markdown",
   "metadata": {},
   "source": [
    "`pip` is a special package. It is used from the command line to install properly (e.g. matching the version of the local packages) new packages. It can also be used from within python to check i.e. the set installed packages and their versions. N.B.: only the installed packages on top of the default ones will be listed "
   ]
  },
  {
   "cell_type": "code",
   "execution_count": 3,
   "metadata": {},
   "outputs": [
    {
     "data": {
      "text/plain": [
       "['alabaster==0.7.12',\n",
       " 'anaconda-client==1.7.2',\n",
       " 'anaconda-navigator==1.9.12',\n",
       " 'anaconda-project==0.8.3',\n",
       " 'argh==0.26.2',\n",
       " 'asn1crypto==1.3.0',\n",
       " 'astroid==2.4.2',\n",
       " 'astropy==4.0.1.post1',\n",
       " 'atomicwrites==1.4.0',\n",
       " 'attrs==19.3.0',\n",
       " 'autopep8==1.5.3',\n",
       " 'babel==2.8.0',\n",
       " 'backcall==0.2.0',\n",
       " 'backports.functools-lru-cache==1.6.3',\n",
       " 'backports.shutil-get-terminal-size==1.0.0',\n",
       " 'backports.tempfile==1.0',\n",
       " 'backports.weakref==1.0.post1',\n",
       " 'bcrypt==3.1.7',\n",
       " 'beautifulsoup4==4.9.1',\n",
       " 'bitarray==1.4.0',\n",
       " 'bkcharts==0.2',\n",
       " 'bleach==3.1.5',\n",
       " 'bokeh==2.1.1',\n",
       " 'boto==2.49.0',\n",
       " 'bottleneck==1.3.2',\n",
       " 'brotlipy==0.7.0',\n",
       " 'certifi==2020.6.20',\n",
       " 'cffi==1.14.0',\n",
       " 'chardet==3.0.4',\n",
       " 'click==7.1.2',\n",
       " 'cloudpickle==1.5.0',\n",
       " 'clyent==1.2.2',\n",
       " 'colorama==0.4.3',\n",
       " 'comtypes==1.1.7',\n",
       " 'conda-build==3.18.11',\n",
       " 'conda-package-handling==1.7.2',\n",
       " 'conda-verify==3.4.2',\n",
       " 'conda==4.10.0',\n",
       " 'contextlib2==0.6.0.post1',\n",
       " 'cryptography==2.9.2',\n",
       " 'cycler==0.10.0',\n",
       " 'cython==0.29.21',\n",
       " 'cytoolz==0.10.1',\n",
       " 'dask==2.20.0',\n",
       " 'decorator==4.4.2',\n",
       " 'defusedxml==0.6.0',\n",
       " 'diff-match-patch==20200713',\n",
       " 'distributed==2.20.0',\n",
       " 'docutils==0.16',\n",
       " 'entrypoints==0.3',\n",
       " 'et-xmlfile==1.0.1',\n",
       " 'fastcache==1.1.0',\n",
       " 'filelock==3.0.12',\n",
       " 'flake8==3.8.3',\n",
       " 'flask==1.1.2',\n",
       " 'fsspec==0.7.4',\n",
       " 'future==0.18.2',\n",
       " 'gevent==20.6.2',\n",
       " 'glob2==0.7',\n",
       " 'gmpy2==2.0.8',\n",
       " 'greenlet==0.4.16',\n",
       " 'h5py==2.10.0',\n",
       " 'heapdict==1.0.1',\n",
       " 'html5lib==1.1',\n",
       " 'idna==2.10',\n",
       " 'imageio==2.9.0',\n",
       " 'imagesize==1.2.0',\n",
       " 'importlib-metadata==1.7.0',\n",
       " 'intervaltree==3.0.2',\n",
       " 'ipykernel==5.3.2',\n",
       " 'ipython-genutils==0.2.0',\n",
       " 'ipython==7.16.1',\n",
       " 'ipywidgets==7.5.1',\n",
       " 'isort==4.3.21',\n",
       " 'itsdangerous==1.1.0',\n",
       " 'jdcal==1.4.1',\n",
       " 'jedi==0.17.1',\n",
       " 'jinja2==2.11.2',\n",
       " 'joblib==0.16.0',\n",
       " 'json5==0.9.5',\n",
       " 'jsonschema==3.2.0',\n",
       " 'jupyter-client==6.1.6',\n",
       " 'jupyter-console==6.1.0',\n",
       " 'jupyter-core==4.6.3',\n",
       " 'jupyter==1.0.0',\n",
       " 'jupyterlab-server==1.2.0',\n",
       " 'jupyterlab==2.1.5',\n",
       " 'keyring==21.2.1',\n",
       " 'kiwisolver==1.2.0',\n",
       " 'lazy-object-proxy==1.4.3',\n",
       " 'libarchive-c==2.9',\n",
       " 'llvmlite==0.33.0+1.g022ab0f',\n",
       " 'locket==0.2.0',\n",
       " 'lxml==4.5.2',\n",
       " 'markupsafe==1.1.1',\n",
       " 'matplotlib==3.2.2',\n",
       " 'mccabe==0.6.1',\n",
       " 'menuinst==1.4.16',\n",
       " 'mistune==0.8.4',\n",
       " 'mkl-fft==1.1.0',\n",
       " 'mkl-random==1.1.1',\n",
       " 'mkl-service==2.3.0',\n",
       " 'mock==4.0.2',\n",
       " 'more-itertools==8.4.0',\n",
       " 'mpmath==1.1.0',\n",
       " 'msgpack==1.0.0',\n",
       " 'multipledispatch==0.6.0',\n",
       " 'navigator-updater==0.2.1',\n",
       " 'nbconvert==5.6.1',\n",
       " 'nbformat==5.0.7',\n",
       " 'networkx==2.4',\n",
       " 'nltk==3.5',\n",
       " 'nose==1.3.7',\n",
       " 'notebook==6.0.3',\n",
       " 'numba==0.50.1',\n",
       " 'numexpr==2.7.1',\n",
       " 'numpy==1.18.5',\n",
       " 'numpydoc==1.1.0',\n",
       " 'olefile==0.46',\n",
       " 'openpyxl==3.0.4',\n",
       " 'packaging==20.4',\n",
       " 'pandas==1.0.5',\n",
       " 'pandocfilters==1.4.2',\n",
       " 'paramiko==2.7.1',\n",
       " 'parso==0.7.0',\n",
       " 'partd==1.1.0',\n",
       " 'path==13.1.0',\n",
       " 'pathlib2==2.3.5',\n",
       " 'pathtools==0.1.2',\n",
       " 'patsy==0.5.1',\n",
       " 'pep8==1.7.1',\n",
       " 'pexpect==4.8.0',\n",
       " 'physics-tenpy==0.6.1',\n",
       " 'pickleshare==0.7.5',\n",
       " 'pillow==7.2.0',\n",
       " 'pip==20.1.1',\n",
       " 'pkginfo==1.5.0.1',\n",
       " 'pluggy==0.13.1',\n",
       " 'ply==3.11',\n",
       " 'prometheus-client==0.8.0',\n",
       " 'prompt-toolkit==3.0.5',\n",
       " 'psutil==5.7.0',\n",
       " 'py==1.9.0',\n",
       " 'pycodestyle==2.6.0',\n",
       " 'pycosat==0.6.3',\n",
       " 'pycparser==2.20',\n",
       " 'pycurl==7.43.0.5',\n",
       " 'pydocstyle==5.0.2',\n",
       " 'pyflakes==2.2.0',\n",
       " 'pygments==2.6.1',\n",
       " 'pylint==2.5.3',\n",
       " 'pynacl==1.4.0',\n",
       " 'pyodbc==4.0.0-unsupported',\n",
       " 'pyopenssl==19.1.0',\n",
       " 'pyparsing==2.4.7',\n",
       " 'pyreadline==2.1',\n",
       " 'pyrsistent==0.16.0',\n",
       " 'pysocks==1.7.1',\n",
       " 'pytest==5.4.3',\n",
       " 'python-dateutil==2.8.1',\n",
       " 'python-jsonrpc-server==0.3.4',\n",
       " 'python-language-server==0.34.1',\n",
       " 'pytz==2020.1',\n",
       " 'pywavelets==1.1.1',\n",
       " 'pywin32-ctypes==0.2.0',\n",
       " 'pywin32==227',\n",
       " 'pywinpty==0.5.7',\n",
       " 'pyyaml==5.3.1',\n",
       " 'pyzmq==19.0.1',\n",
       " 'qdarkstyle==2.8.1',\n",
       " 'qtawesome==0.7.2',\n",
       " 'qtconsole==4.7.5',\n",
       " 'qtpy==1.9.0',\n",
       " 'regex==2020.6.8',\n",
       " 'requests==2.24.0',\n",
       " 'rope==0.17.0',\n",
       " 'rtree==0.9.4',\n",
       " 'ruamel-yaml==0.15.87',\n",
       " 'scikit-image==0.16.2',\n",
       " 'scikit-learn==0.23.1',\n",
       " 'scipy==1.5.0',\n",
       " 'seaborn==0.10.1',\n",
       " 'send2trash==1.5.0',\n",
       " 'setuptools==49.2.0.post20200714',\n",
       " 'simplegeneric==0.8.1',\n",
       " 'singledispatch==3.4.0.3',\n",
       " 'sip==4.19.13',\n",
       " 'six==1.15.0',\n",
       " 'snowballstemmer==2.0.0',\n",
       " 'sortedcollections==1.2.1',\n",
       " 'sortedcontainers==2.2.2',\n",
       " 'soupsieve==2.0.1',\n",
       " 'sphinx==3.1.2',\n",
       " 'sphinxcontrib-applehelp==1.0.2',\n",
       " 'sphinxcontrib-devhelp==1.0.2',\n",
       " 'sphinxcontrib-htmlhelp==1.0.3',\n",
       " 'sphinxcontrib-jsmath==1.0.1',\n",
       " 'sphinxcontrib-qthelp==1.0.3',\n",
       " 'sphinxcontrib-serializinghtml==1.1.4',\n",
       " 'sphinxcontrib-websupport==1.2.3',\n",
       " 'spyder-kernels==1.9.2',\n",
       " 'spyder==4.1.4',\n",
       " 'sqlalchemy==1.3.18',\n",
       " 'statsmodels==0.11.1',\n",
       " 'sympy==1.6.1',\n",
       " 'tables==3.6.1',\n",
       " 'tblib==1.6.0',\n",
       " 'terminado==0.8.3',\n",
       " 'testpath==0.4.4',\n",
       " 'threadpoolctl==2.1.0',\n",
       " 'toml==0.10.1',\n",
       " 'toolz==0.10.0',\n",
       " 'tornado==6.0.4',\n",
       " 'tqdm==4.47.0',\n",
       " 'traitlets==4.3.3',\n",
       " 'typing-extensions==3.7.4.2',\n",
       " 'ujson==1.35',\n",
       " 'unicodecsv==0.14.1',\n",
       " 'urllib3==1.25.9',\n",
       " 'watchdog==0.10.3',\n",
       " 'wcwidth==0.2.5',\n",
       " 'webencodings==0.5.1',\n",
       " 'werkzeug==1.0.1',\n",
       " 'wheel==0.34.2',\n",
       " 'widgetsnbextension==3.5.1',\n",
       " 'win-inet-pton==1.1.0',\n",
       " 'win-unicode-console==0.5',\n",
       " 'wincertstore==0.2',\n",
       " 'wrapt==1.11.2',\n",
       " 'xlrd==1.2.0',\n",
       " 'xlsxwriter==1.2.9',\n",
       " 'xlwings==0.19.5',\n",
       " 'xlwt==1.3.0',\n",
       " 'xmltodict==0.12.0',\n",
       " 'yapf==0.30.0',\n",
       " 'zict==2.0.0',\n",
       " 'zipp==3.1.0',\n",
       " 'zope.event==4.4',\n",
       " 'zope.interface==4.7.1']"
      ]
     },
     "execution_count": 3,
     "metadata": {},
     "output_type": "execute_result"
    }
   ],
   "source": [
    "import pip\n",
    "sorted([\"%s==%s\" % (i.key, i.version) for i in pip._internal.utils.misc.get_installed_distributions()])"
   ]
  },
  {
   "cell_type": "markdown",
   "metadata": {},
   "source": [
    "# Functions"
   ]
  },
  {
   "cell_type": "code",
   "execution_count": 4,
   "metadata": {},
   "outputs": [
    {
     "name": "stdout",
     "output_type": "stream",
     "text": [
      "9\n",
      "27\n",
      "cube 27\n",
      "square 9\n"
     ]
    }
   ],
   "source": [
    "def square(x):\n",
    "    \"\"\"Square of x.\"\"\"\n",
    "    return x*x\n",
    "\n",
    "def cube(x):\n",
    "    \"\"\"Cube of x.\"\"\"\n",
    "    return x*x*x\n",
    "\n",
    "# create a dictionary of functions\n",
    "funcs = {\n",
    "    'square': square,\n",
    "    'cube': cube,\n",
    "}\n",
    "\n",
    "x = 3\n",
    "print(square(x))\n",
    "print(cube(x))\n",
    "\n",
    "for func in sorted(funcs):\n",
    "    print (func, funcs[func](x))"
   ]
  },
  {
   "cell_type": "markdown",
   "metadata": {},
   "source": [
    "## Functions arguments"
   ]
  },
  {
   "cell_type": "markdown",
   "metadata": {},
   "source": [
    "What is passsed to a function is a copy of the input. Imagine we have a list *x =[1, 2, 3]*, i.e. a mutable object. If within the function the content of *x* is directly changed (e.g. *x[0] = 999*), then *x* changes outside the funciton as well. "
   ]
  },
  {
   "cell_type": "code",
   "execution_count": 5,
   "metadata": {},
   "outputs": [
    {
     "name": "stdout",
     "output_type": "stream",
     "text": [
      "[1, 2, 3]\n",
      "[999, 2, 3]\n",
      "[999, 2, 3]\n"
     ]
    }
   ],
   "source": [
    "def modify(x):\n",
    "    x[0] = 999\n",
    "    return x\n",
    "\n",
    "x = [1,2,3]\n",
    "print (x)\n",
    "print (modify(x))\n",
    "print (x)"
   ]
  },
  {
   "cell_type": "markdown",
   "metadata": {},
   "source": [
    "However, if *x* is reassigned within the function to a new object (e.g. another list), then the copy of the name *x* now points to the new object, but *x* outside the function is unhcanged."
   ]
  },
  {
   "cell_type": "code",
   "execution_count": 6,
   "metadata": {},
   "outputs": [
    {
     "name": "stdout",
     "output_type": "stream",
     "text": [
      "[1, 2, 3]\n",
      "[4, 5, 6]\n",
      "[1, 2, 3]\n"
     ]
    }
   ],
   "source": [
    "def no_modify(x):\n",
    "    x = [4,5,6]\n",
    "    return x\n",
    "\n",
    "x = [1,2,3]\n",
    "print (x)\n",
    "print (no_modify(x))\n",
    "print (x)\n"
   ]
  },
  {
   "cell_type": "markdown",
   "metadata": {},
   "source": [
    "What if the function tries to modify the value of an immutable object?"
   ]
  },
  {
   "cell_type": "markdown",
   "metadata": {},
   "source": [
    "Binding of default arguments occurs at function definition:"
   ]
  },
  {
   "cell_type": "code",
   "execution_count": 7,
   "metadata": {},
   "outputs": [
    {
     "name": "stdout",
     "output_type": "stream",
     "text": [
      "[1]\n",
      "[1, 1]\n",
      "[9, 9, 9, 1]\n",
      "[1, 1, 1]\n",
      "[1, 1, 1, 1]\n"
     ]
    }
   ],
   "source": [
    "def f(x = []):\n",
    "    x.append(1)\n",
    "    return x\n",
    "\n",
    "print (f())\n",
    "print (f())\n",
    "print (f(x = [9,9,9]))\n",
    "print (f())\n",
    "print (f())"
   ]
  },
  {
   "cell_type": "markdown",
   "metadata": {},
   "source": [
    "Try to aviod that!!"
   ]
  },
  {
   "cell_type": "code",
   "execution_count": 8,
   "metadata": {},
   "outputs": [
    {
     "name": "stdout",
     "output_type": "stream",
     "text": [
      "[1]\n",
      "[1]\n",
      "[9, 9, 9, 1]\n",
      "[1]\n",
      "[1]\n"
     ]
    }
   ],
   "source": [
    "def f(x = None):\n",
    "    if x is None:\n",
    "        x = []\n",
    "    x.append(1)\n",
    "    return x\n",
    "\n",
    "print (f())\n",
    "print (f())\n",
    "print (f(x = [9,9,9]))\n",
    "print (f())\n",
    "print (f())"
   ]
  },
  {
   "cell_type": "markdown",
   "metadata": {},
   "source": [
    "## Higher order functions\n",
    "\n",
    "A function that uses another function as an input argument or returns a function is known as a higher-order function (HOF). The most familiar examples are `map` and `filter`."
   ]
  },
  {
   "cell_type": "markdown",
   "metadata": {},
   "source": [
    "### map\n",
    "\n",
    "The map function applies a function to each member of a collection"
   ]
  },
  {
   "cell_type": "code",
   "execution_count": 8,
   "metadata": {},
   "outputs": [
    {
     "name": "stdout",
     "output_type": "stream",
     "text": [
      "[0, 1, 4, 9, 16]\n",
      "0\n",
      "1\n",
      "4\n",
      "9\n",
      "16\n"
     ]
    },
    {
     "data": {
      "text/plain": [
       "[0, 1, 16, 81, 256, 625]"
      ]
     },
     "execution_count": 8,
     "metadata": {},
     "output_type": "execute_result"
    }
   ],
   "source": [
    "x = list(map(square, range(5))) \n",
    "print (x)\n",
    "\n",
    "# Note the difference w.r.t python 2. In python 3 map retuns an iterator so you can do stuff like:\n",
    "for i in map(square,range(5)): print(i)\n",
    "\n",
    "# or\n",
    "[i**2 for i in map(square,range(6))]"
   ]
  },
  {
   "cell_type": "markdown",
   "metadata": {},
   "source": [
    "### filter\n",
    "\n",
    "The filter function applies a predicate to each member of a collection, retaining only those members where the predicate is True"
   ]
  },
  {
   "cell_type": "code",
   "execution_count": 9,
   "metadata": {},
   "outputs": [
    {
     "name": "stdout",
     "output_type": "stream",
     "text": [
      "[0, 2, 4]\n"
     ]
    }
   ],
   "source": [
    "def is_even(x):\n",
    "    return x%2 == 0\n",
    "\n",
    "print (list(filter(is_even, range(5))))"
   ]
  },
  {
   "cell_type": "markdown",
   "metadata": {},
   "source": [
    "Combinations in sequence of HOF are obviously possible"
   ]
  },
  {
   "cell_type": "code",
   "execution_count": 10,
   "metadata": {},
   "outputs": [
    {
     "data": {
      "text/plain": [
       "[0, 4, 16]"
      ]
     },
     "execution_count": 10,
     "metadata": {},
     "output_type": "execute_result"
    }
   ],
   "source": [
    "list(map(square, filter(is_even, range(5))))"
   ]
  },
  {
   "cell_type": "markdown",
   "metadata": {},
   "source": [
    "### reduce\n",
    "\n",
    "The reduce function reduces a collection using a binary operator to combine items two at a time. More often than not reduce can be substituted with a more efficient for loop. It is worth mentioning it for its key role in big-data applications together with map (the map-reduce paradigm). \n",
    "N.B.: it no loger exist as built-in function in python 3, it is now part of the `functools` library"
   ]
  },
  {
   "cell_type": "code",
   "execution_count": 13,
   "metadata": {},
   "outputs": [
    {
     "data": {
      "text/plain": [
       "15"
      ]
     },
     "execution_count": 13,
     "metadata": {},
     "output_type": "execute_result"
    }
   ],
   "source": [
    "from functools import reduce\n",
    "\n",
    "def my_add(x, y):\n",
    "    return x + y\n",
    "\n",
    "# another implementation of the sum function\n",
    "reduce(my_add, [1,2,3,4,5])"
   ]
  },
  {
   "cell_type": "markdown",
   "metadata": {},
   "source": [
    "### zip\n",
    "\n",
    "zip is useful when you need to iterate over matched elements of multiple lists"
   ]
  },
  {
   "cell_type": "code",
   "execution_count": 22,
   "metadata": {},
   "outputs": [
    {
     "name": "stdout",
     "output_type": "stream",
     "text": [
      "1 10 a\n",
      "2 20 b\n",
      "3 30 c\n",
      "4 40 d\n"
     ]
    }
   ],
   "source": [
    "xs = [1, 2, 3, 4]\n",
    "ys = [10, 20, 30, 40]\n",
    "zs = ['a', 'b', 'c', 'd', 'e']\n",
    "\n",
    "for x, y, z in zip(xs, ys, zs):\n",
    "    print (x, y, z)"
   ]
  },
  {
   "cell_type": "markdown",
   "metadata": {},
   "source": [
    "### Custom HOF"
   ]
  },
  {
   "cell_type": "code",
   "execution_count": 24,
   "metadata": {},
   "outputs": [
    {
     "name": "stdout",
     "output_type": "stream",
     "text": [
      "5\n",
      "9\n"
     ]
    }
   ],
   "source": [
    "def custom_sum(xs, transform):\n",
    "    \"\"\"Returns the sum of xs after a user specified transform.\"\"\"\n",
    "    return sum(map(transform, xs))\n",
    "\n",
    "xs = range(3)\n",
    "print (custom_sum(xs, square))\n",
    "print (custom_sum(xs, cube))\n",
    "\n"
   ]
  },
  {
   "cell_type": "markdown",
   "metadata": {},
   "source": [
    "### Returning a function"
   ]
  },
  {
   "cell_type": "code",
   "execution_count": 25,
   "metadata": {},
   "outputs": [],
   "source": [
    "def make_logger(target):\n",
    "    def logger(data):\n",
    "        with open(target, 'a') as f:\n",
    "            f.write(data + '\\n')\n",
    "    return logger\n",
    "\n",
    "foo_logger = make_logger('foo.txt') #foo.txt will be created if not there already\n",
    "foo_logger('Hello')\n",
    "foo_logger('World')"
   ]
  },
  {
   "cell_type": "code",
   "execution_count": 26,
   "metadata": {},
   "outputs": [
    {
     "name": "stdout",
     "output_type": "stream",
     "text": [
      "Hello\n",
      "World\n",
      "Hello\n",
      "World\n",
      "Hello\n",
      "World\n"
     ]
    }
   ],
   "source": [
    "! cat 'foo.txt'"
   ]
  },
  {
   "cell_type": "markdown",
   "metadata": {},
   "source": [
    "## Anonimous functions (lambda)\n",
    "\n",
    "When using functional style, there is often the need to create specific functions that perform a limited task as input to a HOF such as map or filter. In such cases, these functions are often written as anonymous or lambda functions. \n",
    "The syntax is as follows:\n",
    "\n",
    "lambda *arguments* : *expression*\n",
    "\n",
    "\n",
    "If you find it hard to understand what a lambda function is doing, it should probably be rewritten as a regular function."
   ]
  },
  {
   "cell_type": "code",
   "execution_count": 27,
   "metadata": {},
   "outputs": [
    {
     "data": {
      "text/plain": [
       "7"
      ]
     },
     "execution_count": 27,
     "metadata": {},
     "output_type": "execute_result"
    }
   ],
   "source": [
    "sum = lambda x,y: x+y\n",
    "sum(3,4)"
   ]
  },
  {
   "cell_type": "code",
   "execution_count": 20,
   "metadata": {},
   "outputs": [
    {
     "name": "stdout",
     "output_type": "stream",
     "text": [
      "0\n",
      "1\n",
      "4\n",
      "9\n",
      "16\n"
     ]
    }
   ],
   "source": [
    "for i in map(lambda x: x*x, range(5)): print (i)"
   ]
  },
  {
   "cell_type": "code",
   "execution_count": 21,
   "metadata": {},
   "outputs": [
    {
     "name": "stdout",
     "output_type": "stream",
     "text": [
      "285\n"
     ]
    }
   ],
   "source": [
    "# what does this function do?\n",
    "from functools import reduce\n",
    "s1 = reduce(lambda x, y: x+y, map(lambda x: x**2, range(1,10)))\n",
    "print(s1)\n"
   ]
  },
  {
   "cell_type": "markdown",
   "metadata": {},
   "source": [
    "## Recursive functions "
   ]
  },
  {
   "cell_type": "code",
   "execution_count": 22,
   "metadata": {},
   "outputs": [
    {
     "name": "stdout",
     "output_type": "stream",
     "text": [
      "[1, 1, 2, 3, 5, 8, 13, 21, 34, 55]\n"
     ]
    }
   ],
   "source": [
    "def fib1(n):\n",
    "    \"\"\"Fib with recursion.\"\"\"\n",
    "\n",
    "    # base case\n",
    "    if n==0 or n==1:\n",
    "        return 1\n",
    "    # recurssive case\n",
    "    else:\n",
    "        return fib1(n-1) + fib1(n-2)\n",
    "\n",
    "    \n",
    "print ([fib1(i) for i in range(10)])"
   ]
  },
  {
   "cell_type": "code",
   "execution_count": 23,
   "metadata": {},
   "outputs": [
    {
     "name": "stdout",
     "output_type": "stream",
     "text": [
      "[1, 1, 2, 3, 5, 8, 13, 21, 34, 55]\n"
     ]
    }
   ],
   "source": [
    "# In Python, a more efficient version that does not use recursion is\n",
    "\n",
    "def fib2(n):\n",
    "    \"\"\"Fib without recursion.\"\"\"\n",
    "    a, b = 0, 1\n",
    "    for i in range(1, n+1):\n",
    "        a, b = b, a+b\n",
    "    return b\n",
    "\n",
    "print ([fib2(i) for i in range(10)])"
   ]
  },
  {
   "cell_type": "code",
   "execution_count": 24,
   "metadata": {},
   "outputs": [
    {
     "name": "stdout",
     "output_type": "stream",
     "text": [
      "8 ms ± 305 µs per loop (mean ± std. dev. of 7 runs, 100 loops each)\n",
      "3.5 µs ± 161 ns per loop (mean ± std. dev. of 7 runs, 100000 loops each)\n"
     ]
    }
   ],
   "source": [
    "# check indeed the timing:\n",
    "\n",
    "%timeit fib1(20)\n",
    "%timeit fib2(20)\n"
   ]
  },
  {
   "cell_type": "markdown",
   "metadata": {},
   "source": [
    "## Iterators\n",
    "\n",
    "Iterators represent streams of values. Because only one value is consumed at a time, they use very little memory. Use of iterators is very helpful for working with data sets too large to fit into RAM."
   ]
  },
  {
   "cell_type": "code",
   "execution_count": 25,
   "metadata": {},
   "outputs": [
    {
     "name": "stdout",
     "output_type": "stream",
     "text": [
      "1\n",
      "2\n",
      "3\n"
     ]
    },
    {
     "ename": "StopIteration",
     "evalue": "",
     "output_type": "error",
     "traceback": [
      "\u001b[1;31m---------------------------------------------------------------------------\u001b[0m",
      "\u001b[1;31mStopIteration\u001b[0m                             Traceback (most recent call last)",
      "\u001b[1;32m<ipython-input-25-7fd2aa3a4ecb>\u001b[0m in \u001b[0;36m<module>\u001b[1;34m\u001b[0m\n\u001b[0;32m      7\u001b[0m \u001b[0mprint\u001b[0m \u001b[1;33m(\u001b[0m\u001b[0mnext\u001b[0m\u001b[1;33m(\u001b[0m\u001b[0mx_iter\u001b[0m\u001b[1;33m)\u001b[0m\u001b[1;33m)\u001b[0m\u001b[1;33m\u001b[0m\u001b[1;33m\u001b[0m\u001b[0m\n\u001b[0;32m      8\u001b[0m \u001b[0mprint\u001b[0m \u001b[1;33m(\u001b[0m\u001b[0mnext\u001b[0m\u001b[1;33m(\u001b[0m\u001b[0mx_iter\u001b[0m\u001b[1;33m)\u001b[0m\u001b[1;33m)\u001b[0m\u001b[1;33m\u001b[0m\u001b[1;33m\u001b[0m\u001b[0m\n\u001b[1;32m----> 9\u001b[1;33m \u001b[0mprint\u001b[0m \u001b[1;33m(\u001b[0m\u001b[0mnext\u001b[0m\u001b[1;33m(\u001b[0m\u001b[0mx_iter\u001b[0m\u001b[1;33m)\u001b[0m\u001b[1;33m)\u001b[0m\u001b[1;33m\u001b[0m\u001b[1;33m\u001b[0m\u001b[0m\n\u001b[0m",
      "\u001b[1;31mStopIteration\u001b[0m: "
     ]
    }
   ],
   "source": [
    "# Iterators can be created from sequences with the built-in function iter()\n",
    "\n",
    "xs = [1,2,3]\n",
    "x_iter = iter(xs)\n",
    "\n",
    "print (next(x_iter))\n",
    "print (next(x_iter))\n",
    "print (next(x_iter))\n",
    "print (next(x_iter))"
   ]
  },
  {
   "cell_type": "code",
   "execution_count": 26,
   "metadata": {},
   "outputs": [
    {
     "name": "stdout",
     "output_type": "stream",
     "text": [
      "1\n",
      "2\n",
      "3\n"
     ]
    }
   ],
   "source": [
    "# Most commonly, iterators are used (automatically) within a for loop\n",
    "# which terminates when it encouters a StopIteration exception\n",
    "\n",
    "x_iter = iter(xs)\n",
    "for x in x_iter:\n",
    "    print (x)"
   ]
  },
  {
   "cell_type": "markdown",
   "metadata": {},
   "source": [
    "## More on comprehensions"
   ]
  },
  {
   "cell_type": "code",
   "execution_count": 27,
   "metadata": {},
   "outputs": [
    {
     "name": "stdout",
     "output_type": "stream",
     "text": [
      "<generator object <genexpr> at 0x000002661FE36970>\n",
      "[0, 1, 2, 3, 4, 5, 6, 7, 8, 9]\n",
      "{0, 1, 2, 3, 4, 5, 6, 7, 8, 9}\n",
      "{0: 0, 1: 1, 2: 2, 3: 3, 4: 4, 5: 5, 6: 6, 7: 7, 8: 8, 9: 9}\n"
     ]
    }
   ],
   "source": [
    "# A generator expression\n",
    "\n",
    "print ((x for x in range(10)))\n",
    "\n",
    "# A list comprehesnnion\n",
    "\n",
    "print ([x for x in range(10)])\n",
    "\n",
    "# A set comprehension\n",
    "\n",
    "print ({x for x in range(10)})\n",
    "\n",
    "# A dictionary comprehension\n",
    "\n",
    "print ({x: x for x in range(10)})"
   ]
  },
  {
   "cell_type": "markdown",
   "metadata": {},
   "source": [
    "## Useful Modules\n",
    "\n",
    "You may want to have a look at the content of the following modules for further usage of (HO) functions:\n",
    "  - [operator](https://docs.python.org/3/library/operator.html)\n",
    "  - [functools](https://docs.python.org/3/library/functools.html)\n",
    "  - [itertools](https://docs.python.org/3/library/itertools.html)\n",
    "  - [toolz](https://pypi.org/project/toolz/)\n",
    "  - [funcy](https://pypi.org/project/funcy/)"
   ]
  },
  {
   "cell_type": "markdown",
   "metadata": {},
   "source": [
    "## Decorators\n",
    "\n",
    "Decorators are a type of HOF that take a function and return a wrapped function that provides additional useful properties.\n",
    "\n",
    "Examples:\n",
    "\n",
    "  - logging\n",
    "  - profiling\n",
    "  - Just-In-Time (JIT) compilation"
   ]
  },
  {
   "cell_type": "code",
   "execution_count": 28,
   "metadata": {},
   "outputs": [],
   "source": [
    "def my_decorator(func):\n",
    "    def wrapper():\n",
    "        print(\"Something is happening before the function is called.\")\n",
    "        func()\n",
    "        print(\"Something is happening after the function is called.\")\n",
    "    return wrapper\n",
    "\n",
    "def say_whee():\n",
    "    print(\"Whee!\")\n",
    "\n",
    "say_whee = my_decorator(say_whee)"
   ]
  },
  {
   "cell_type": "code",
   "execution_count": 29,
   "metadata": {},
   "outputs": [
    {
     "name": "stdout",
     "output_type": "stream",
     "text": [
      "Something is happening before the function is called.\n",
      "Whee!\n",
      "Something is happening after the function is called.\n"
     ]
    }
   ],
   "source": [
    "say_whee()"
   ]
  },
  {
   "cell_type": "markdown",
   "metadata": {},
   "source": [
    "Python allows you to use decorators in a simpler way with the @ symbol, sometimes called the “pie” syntax"
   ]
  },
  {
   "cell_type": "code",
   "execution_count": 34,
   "metadata": {},
   "outputs": [],
   "source": [
    "def my_decorator(func):\n",
    "    def wrapper():\n",
    "        print(\"Something is happening before the function is called.\")\n",
    "        func()\n",
    "        print(\"Something is happening after the function is called.\")\n",
    "    return wrapper\n",
    "\n",
    "@my_decorator\n",
    "def say_whee():\n",
    "    print(\"Whee!\")"
   ]
  },
  {
   "cell_type": "code",
   "execution_count": 35,
   "metadata": {},
   "outputs": [
    {
     "name": "stdout",
     "output_type": "stream",
     "text": [
      "Something is happening before the function is called.\n",
      "Whee!\n",
      "Something is happening after the function is called.\n"
     ]
    }
   ],
   "source": [
    "say_whee()"
   ]
  },
  {
   "cell_type": "markdown",
   "metadata": {},
   "source": [
    "# Classes and Objects\n",
    "\n",
    "Old school object-oriented programming is possible and often used in python. Classes are defined similarly to standard object-oriented languages, with similar functionalities.\n",
    "\n",
    "The main python doc [page](https://docs.python.org/3.6/tutorial/classes.html) is worth reading through "
   ]
  },
  {
   "cell_type": "code",
   "execution_count": 36,
   "metadata": {},
   "outputs": [
    {
     "name": "stdout",
     "output_type": "stream",
     "text": [
      "buddy 12\n",
      "3\n"
     ]
    }
   ],
   "source": [
    "class Pet:\n",
    "    # the \"constructor\"\n",
    "    def __init__(self, name, age):  #inizialize the elements of the class\n",
    "        self.name=name\n",
    "        self.age=age\n",
    "    # class functions take the \"self\" parameter !!!\n",
    "    def set_name(self,name):\n",
    "        self.name=name\n",
    "    def convert_age(self,factor):\n",
    "        self.age*=factor\n",
    "\n",
    "buddy=Pet(\"buddy\",12)\n",
    "print (buddy.name, buddy.age)\n",
    "buddy.age=3\n",
    "print (buddy.age)\n",
    "\n"
   ]
  },
  {
   "cell_type": "code",
   "execution_count": 37,
   "metadata": {},
   "outputs": [
    {
     "name": "stdout",
     "output_type": "stream",
     "text": [
      "tobia\n",
      "70\n"
     ]
    }
   ],
   "source": [
    "# ineritance is straightforward\n",
    "class Dog(Pet):\n",
    "    # the following variables is \"global\", i.e. holds for all \"Dog\" objects\n",
    "    species = \"mammal\"\n",
    "    # functions can be redefined as usual\n",
    "    def convert_age(self):\n",
    "        self.age*=7\n",
    "    def set_species(self, species):\n",
    "        self.species = species\n",
    "        \n",
    "puppy=Dog(\"tobia\",10)\n",
    "print(puppy.name)\n",
    "puppy.convert_age()\n",
    "print(puppy.age)\n",
    "\n"
   ]
  },
  {
   "cell_type": "code",
   "execution_count": null,
   "metadata": {},
   "outputs": [],
   "source": []
  }
 ],
 "metadata": {
  "kernelspec": {
   "display_name": "Python 3",
   "language": "python",
   "name": "python3"
  },
  "language_info": {
   "codemirror_mode": {
    "name": "ipython",
    "version": 3
   },
   "file_extension": ".py",
   "mimetype": "text/x-python",
   "name": "python",
   "nbconvert_exporter": "python",
   "pygments_lexer": "ipython3",
   "version": "3.8.8"
  }
 },
 "nbformat": 4,
 "nbformat_minor": 2
}
