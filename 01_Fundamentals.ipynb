{
 "cells": [
  {
   "cell_type": "markdown",
   "metadata": {},
   "source": [
    "# Modules/packages/libraries\n",
    "\n",
    "Definitions:\n",
    "\n",
    "  * Modules:\n",
    "  A module is a file which contains python functions, global variables etc. It is nothing but .py file which has python executable code / statement.\n",
    "\n",
    "  * Packages:\n",
    "  A package is a namespace which contains multiple package/modules. It is a directory which contains a special file `__init__.py`\n",
    "  \n",
    "  * Libraries:\n",
    "  A library is a collection of various packages. There is no difference between package and python library conceptually.\n",
    "  \n",
    "Modules/packages/libraries can be easily \"imported\" and made functional in your python code. A set of libriaries comes with every python installation. Others can be installed locally and then imported. Your own code sitting somewhere else in your local computer can be imported too.\n",
    "\n",
    "Further details (very important!) on packages and how to create them can be found online. We may find the need of creating our own during the course."
   ]
  },
  {
   "cell_type": "code",
   "execution_count": null,
   "metadata": {},
   "outputs": [],
   "source": [
    "###### all the \"stuff\" that is in the math library can be used\n",
    "import math\n",
    "print(math.pi)\n",
    "\n",
    "# you can give math a label for convenience\n",
    "import math as m\n",
    "print (m.pi)\n",
    "\n",
    "# alternatively you can import only a given \"thing\" from the library\n",
    "from math import pi    #you can add several libraries at once, just list them separated by a \", \"\n",
    "print (pi)\n",
    "\n",
    "# or just get everything (very dangerous!!!)\n",
    "from math import *\n",
    "print (sqrt(7))"
   ]
  },
  {
   "cell_type": "markdown",
   "metadata": {},
   "source": [
    "To know which modules are there for you to use just type:"
   ]
  },
  {
   "cell_type": "code",
   "execution_count": 1,
   "metadata": {},
   "outputs": [
    {
     "name": "stdout",
     "output_type": "stream",
     "text": [
      "\n",
      "Please wait a moment while I gather a list of all available modules...\n",
      "\n",
      "Welcome to JupyROOT 6.18/04\n"
     ]
    },
    {
     "name": "stderr",
     "output_type": "stream",
     "text": [
      "/home/riccardo/anaconda3/lib/python3.7/site-packages/IPython/kernel/__init__.py:13: ShimWarning: The `IPython.kernel` package has been deprecated since IPython 4.0.You should import from ipykernel or jupyter_client instead.\n",
      "  \"You should import from ipykernel or jupyter_client instead.\", ShimWarning)\n",
      "WARNING: AstropyDeprecationWarning: astropy.utils.compat.futures is now deprecated - use concurrent.futures instead [astropy.utils.compat.futures]\n",
      "/home/riccardo/anaconda3/lib/python3.7/site-packages/nltk/twitter/__init__.py:22: UserWarning: The twython library has not been installed. Some functionality from the twitter package will not be available.\n",
      "  \"The twython library has not been installed. \"\n"
     ]
    },
    {
     "name": "stdout",
     "output_type": "stream",
     "text": [
      "DEBUG:pip._internal.vcs.versioncontrol:Registered VCS backend: bzr\n",
      "DEBUG:pip._internal.vcs.versioncontrol:Registered VCS backend: git\n",
      "DEBUG:pip._internal.vcs.versioncontrol:Registered VCS backend: hg\n",
      "DEBUG:pip._internal.vcs.versioncontrol:Registered VCS backend: svn\n"
     ]
    },
    {
     "name": "stderr",
     "output_type": "stream",
     "text": [
      "/home/riccardo/anaconda3/lib/python3.7/site-packages/skimage/novice/__init__.py:103: UserWarning: The `skimage.novice` module was deprecated in version 0.14. It will be removed in 0.16.\n",
      "  warnings.warn(\"The `skimage.novice` module was deprecated in version 0.14. \"\n",
      "/home/riccardo/anaconda3/lib/python3.7/site-packages/skimage/viewer/utils/core.py:10: UserWarning: Recommended matplotlib backend is `Agg` for full skimage.viewer functionality.\n",
      "  warn(\"Recommended matplotlib backend is `Agg` for full \"\n",
      "/home/riccardo/anaconda3/lib/python3.7/site-packages/sklearn/externals/joblib/__init__.py:15: DeprecationWarning: sklearn.externals.joblib is deprecated in 0.21 and will be removed in 0.23. Please import this functionality directly from joblib, which can be installed with: pip install joblib. If this warning is raised when loading pickled models, you may need to re-serialize those models with scikit-learn 0.21+.\n",
      "  warnings.warn(msg, category=DeprecationWarning)\n",
      "/home/riccardo/anaconda3/lib/python3.7/pkgutil.py:107: VisibleDeprecationWarning: zmq.eventloop.minitornado is deprecated in pyzmq 14.0 and will be removed.\n",
      "    Install tornado itself to use zmq with the tornado IOLoop.\n",
      "    \n",
      "  yield from walk_packages(path, info.name+'.', onerror)\n"
     ]
    },
    {
     "name": "stdout",
     "output_type": "stream",
     "text": [
      "Crypto              builtins            libHtml             pydoc\n",
      "Cython              bz2                 libImt              pydoc_data\n",
      "IPython             cProfile            libJupyROOT         pyexpat\n",
      "JsMVA               calendar            libMLP              pyflakes\n",
      "JupyROOT            certifi             libMathCore         pygments\n",
      "OpenSSL             cffi                libMathMore         pylab\n",
      "PIL                 cgi                 libMatrix           pylint\n",
      "PyQt5               cgitb               libMinuit           pyodbc\n",
      "ROOT                chardet             libMultiProc        pyparsing\n",
      "__future__          chunk               libNet              pyrsistent\n",
      "_abc                click               libNew              pytest\n",
      "_ast                cloudpickle         libPhysics          pytest_arraydiff\n",
      "_asyncio            clyent              libPostscript       pytest_doctestplus\n",
      "_bisect             cmath               libProof            pytest_openfiles\n",
      "_blake2             cmd                 libProofBench       pytest_remotedata\n",
      "_bootlocale         cmdLineUtils        libProofDraw        pytz\n",
      "_bz2                code                libProofPlayer      pywt\n",
      "_cffi_backend       codecs              libPyMVA            pyximport\n",
      "_codecs             codeop              libPyROOT           qtawesome\n",
      "_codecs_cn          collections         libQuadp            qtconsole\n",
      "_codecs_hk          colorama            libRCsg             qtpy\n",
      "_codecs_iso2022     colorsys            libRDAVIX           queue\n",
      "_codecs_jp          compileall          libRGL              quopri\n",
      "_codecs_kr          concurrent          libRHTTP            random\n",
      "_codecs_tw          conda               libRHTTPSniff       re\n",
      "_collections        conda_build         libRIO              readline\n",
      "_collections_abc    conda_env           libRMySQL           reprlib\n",
      "_compat_pickle      conda_package_handling libROOTDataFrame    requests\n",
      "_compression        conda_verify        libROOTVecOps       resource\n",
      "_contextvars        configparser        libRecorder         rlcompleter\n",
      "_crypt              contextlib          libRint             rmagic\n",
      "_csv                contextlib2         libRooFit           rope\n",
      "_ctypes             contextvars         libRooFitCore       ruamel_yaml\n",
      "_ctypes_test        copy                libRooStats         runpy\n",
      "_curses             copyreg             libRootAuth         sched\n",
      "_curses_panel       cppyy               libSPlot            scipy\n",
      "_datetime           crypt               libSQLIO            scripts\n",
      "_decimal            cryptography        libSessionViewer    seaborn\n",
      "_dummy_thread       csv                 libSmatrix          secrets\n",
      "_elementtree        ctypes              libSpectrum         secretstorage\n",
      "_functools          curl                libSpectrumPainter  select\n",
      "_hashlib            curses              libSrvAuth          selectors\n",
      "_heapq              cycler              libTMVA             send2trash\n",
      "_imp                cython              libTMVAGui          setuptools\n",
      "_io                 cythonmagic         libThread           shelve\n",
      "_json               cytoolz             libTree             shlex\n",
      "_locale             dask                libTreePlayer       shutil\n",
      "_lsprof             dataclasses         libTreeViewer       signal\n",
      "_lzma               datetime            libUnfold           simplegeneric\n",
      "_markupbase         dateutil            libX3d              singledispatch\n",
      "_md5                dbm                 libXMLIO            singledispatch_helpers\n",
      "_multibytecodec     decimal             libXMLParser        sip\n",
      "_multiprocessing    decorator           libarchive          sipconfig\n",
      "_opcode             defusedxml          libcomplexDict      sipdistutils\n",
      "_operator           difflib             libdequeDict        site\n",
      "_osx_support        dis                 libforward_listDict six\n",
      "_pickle             distributed         libfuturize         skimage\n",
      "_posixsubprocess    distutils           liblistDict         sklearn\n",
      "_py_abc             doctest             libmap2Dict         smtpd\n",
      "_pydecimal          docutils            libmapDict          smtplib\n",
      "_pyio               dummy_threading     libmultimap2Dict    sndhdr\n",
      "_pylief             easy_install        libmultimapDict     snowballstemmer\n",
      "_pyrsistent_version email               libmultisetDict     socket\n",
      "_pytest             encodings           libpasteurize       socketserver\n",
      "_pythonization      ensurepip           libsetDict          socks\n",
      "_queue              entrypoints         libtbb              sockshandler\n",
      "_random             enum                libtbbmalloc        sortedcollections\n",
      "_sha1               errno               libtbbmalloc_proxy  sortedcontainers\n",
      "_sha256             et_xmlfile          libunordered_mapDict soupsieve\n",
      "_sha3               fastcache           libunordered_multimapDict sphinx\n",
      "_sha512             faulthandler        libunordered_multisetDict sphinxcontrib\n",
      "_signal             fcntl               libunordered_setDict spwd\n",
      "_sitebuiltins       filecmp             libvalarrayDict     spyder\n",
      "_socket             fileinput           libvdt              spyder_breakpoints\n",
      "_sqlite3            filelock            libvectorDict       spyder_io_dcm\n",
      "_sre                flask               lief                spyder_io_hdf5\n",
      "_ssl                fnmatch             linecache           spyder_kernels\n",
      "_stat               formatter           llvmlite            spyder_profiler\n",
      "_string             fractions           locale              spyder_pylint\n",
      "_strptime           fsspec              locket              sqlalchemy\n",
      "_struct             ftplib              logging             sqlite3\n",
      "_symtable           functools           lxml                sre_compile\n",
      "_sysconfigdata_i686_conda_cos6_linux_gnu future              lzma                sre_constants\n",
      "_sysconfigdata_m_linux_x86_64-linux-gnu gc                  macpath             sre_parse\n",
      "_sysconfigdata_powerpc64le_conda_cos7_linux_gnu genericpath         mailbox             ssl\n",
      "_sysconfigdata_x86_64_apple_darwin13_4_0 getopt              mailcap             stat\n",
      "_sysconfigdata_x86_64_conda_cos6_linux_gnu getpass             markupsafe          statistics\n",
      "_testbuffer         gettext             marshal             statsmodels\n",
      "_testcapi           gevent              math                storemagic\n",
      "_testimportmultiple glob                matplotlib          string\n",
      "_testmultiphase     glob2               mccabe              stringprep\n",
      "_thread             gmpy2               mimetypes           struct\n",
      "_threading_local    greenlet            mistune             subprocess\n",
      "_tkinter            grp                 mkl                 sunau\n",
      "_tracemalloc        gzip                mkl_fft             symbol\n",
      "_warnings           h5py                mkl_random          sympy\n",
      "_weakref            hashlib             mmap                sympyprinting\n",
      "_weakrefset         heapdict            mock                symtable\n",
      "_xxtestfuzz         heapq               modulefinder        sys\n",
      "_yaml               hmac                more_itertools      sysconfig\n",
      "abc                 html                mpmath              syslog\n",
      "aifc                html5lib            msgpack             tables\n",
      "alabaster           http                multipledispatch    tabnanny\n",
      "anaconda_navigator  idlelib             multiprocessing     tarfile\n",
      "anaconda_project    idna                navigator_updater   tblib\n",
      "antigravity         imageio             nbconvert           telnetlib\n",
      "argparse            imagesize           nbformat            tempfile\n",
      "array               imaplib             netrc               terminado\n",
      "asn1crypto          imghdr              networkx            termios\n",
      "ast                 imp                 nis                 test\n",
      "astroid             importlib           nltk                test_data\n",
      "astropy             importlib_metadata  nntplib             test_pycosat\n",
      "asynchat            inspect             nose                testpath\n",
      "asyncio             io                  notebook            tests\n",
      "asyncore            ipaddress           ntpath              textwrap\n",
      "atexit              ipykernel           nturl2path          this\n",
      "atomicwrites        ipykernel_launcher  numba               threading\n",
      "attr                ipython_genutils    numbers             time\n",
      "audioop             ipywidgets          numexpr             timeit\n",
      "autoreload          isort               numpy               tkinter\n",
      "babel               isympy              numpydoc            tlz\n",
      "backcall            itertools           olefile             token\n",
      "backports           itsdangerous        opcode              tokenize\n",
      "base64              jdcal               openpyxl            toolz\n",
      "bdb                 jedi                operator            tornado\n",
      "binascii            jeepney             optparse            tqdm\n",
      "binhex              jinja2              os                  trace\n",
      "binstar_client      joblib              ossaudiodev         traceback\n",
      "bisect              json                packaging           tracemalloc\n",
      "bitarray            json5               pandas              traitlets\n",
      "bkcharts            jsonschema          pandocfilters       tty\n",
      "bleach              jupyter             parser              turtle\n",
      "bokeh               jupyter_client      parso               turtledemo\n",
      "boto                jupyter_console     partd               types\n",
      "bottleneck          jupyter_core        past                typing\n",
      "brain_argparse      jupyterlab          path                unicodecsv\n",
      "brain_attrs         jupyterlab_server   pathlib             unicodedata\n",
      "brain_builtin_inference keyring             pathlib2            unittest\n",
      "brain_collections   keyword             patsy               urllib\n",
      "brain_crypt         kiwisolver          pdb                 urllib3\n",
      "brain_curses        lazy_object_proxy   pep8                uu\n",
      "brain_dataclasses   lib2to3             pexpect             uuid\n",
      "brain_dateutil      libASImage          pickle              venv\n",
      "brain_fstrings      libASImageGui       pickleshare         warnings\n",
      "brain_functools     libCling            pickletools         wave\n",
      "brain_gi            libCore             pip                 wcwidth\n",
      "brain_hashlib       libEG               pipes               weakref\n",
      "brain_http          libEve              pkg_resources       webbrowser\n",
      "brain_io            libFFTW             pkginfo             webencodings\n",
      "brain_mechanize     libFITSIO           pkgutil             werkzeug\n",
      "brain_multiprocessing libFTGL             platform            wheel\n",
      "brain_namedtuple_enum libFitPanel         plistlib            widgetsnbextension\n",
      "brain_nose          libFoam             pluggy              wrapt\n",
      "brain_numpy_core_fromnumeric libFumili           ply                 wsgiref\n",
      "brain_numpy_core_function_base libGLEW             poplib              wurlitzer\n",
      "brain_numpy_core_multiarray libGX11             posix               xdrlib\n",
      "brain_numpy_core_numeric libGX11TTF          posixpath           xlrd\n",
      "brain_numpy_core_numerictypes libGdml             pprint              xlsxwriter\n",
      "brain_numpy_core_umath libGed              profile             xlwt\n",
      "brain_numpy_ndarray libGenVector        prometheus_client   xml\n",
      "brain_numpy_random_mtrand libGenetic          prompt_toolkit      xmlrpc\n",
      "brain_numpy_utils   libGeom             pstats              xxlimited\n",
      "brain_pkg_resources libGeomBuilder      psutil              xxsubtype\n",
      "brain_pytest        libGeomPainter      pty                 yaml\n",
      "brain_qt            libGpad             ptyprocess          zict\n",
      "brain_random        libGraf             pvectorc            zipapp\n",
      "brain_re            libGraf3d           pwd                 zipfile\n",
      "brain_six           libGui              py                  zipimport\n",
      "brain_ssl           libGuiBld           py_compile          zipp\n",
      "brain_subprocess    libGuiHtml          pyclbr              zlib\n",
      "brain_threading     libGviz3d           pycodestyle         zmq\n",
      "brain_typing        libHist             pycosat             \n",
      "brain_uuid          libHistFactory      pycparser           \n",
      "bs4                 libHistPainter      pycurl              \n",
      "\n",
      "Enter any module name to get more help.  Or, type \"modules spam\" to search\n",
      "for modules whose name or summary contain the string \"spam\".\n",
      "\n",
      "None\n"
     ]
    },
    {
     "name": "stdout",
     "output_type": "stream",
     "text": [
      "DEBUG:matplotlib.pyplot:Loaded backend module://ipykernel.pylab.backend_inline version unknown.\n"
     ]
    }
   ],
   "source": [
    "print (help('modules') )\n"
   ]
  },
  {
   "cell_type": "markdown",
   "metadata": {},
   "source": [
    "`pip` is a special package. It is used from the command line to install properly (e.g. matching the version of the local packages) new packages. It can also be used from within python to check i.e. the set installed packages and their versions. N.B.: only the installed packages on top of the default ones will be listed "
   ]
  },
  {
   "cell_type": "code",
   "execution_count": 2,
   "metadata": {},
   "outputs": [
    {
     "data": {
      "text/plain": [
       "['alabaster==0.7.12',\n",
       " 'anaconda-client==1.7.2',\n",
       " 'anaconda-navigator==1.9.7',\n",
       " 'anaconda-project==0.8.3',\n",
       " 'asn1crypto==1.0.1',\n",
       " 'astroid==2.3.1',\n",
       " 'astropy==3.2.2',\n",
       " 'atomicwrites==1.3.0',\n",
       " 'attrs==19.2.0',\n",
       " 'babel==2.7.0',\n",
       " 'backcall==0.1.0',\n",
       " 'backports.functools-lru-cache==1.5',\n",
       " 'backports.os==0.1.1',\n",
       " 'backports.shutil-get-terminal-size==1.0.0',\n",
       " 'backports.tempfile==1.0',\n",
       " 'backports.weakref==1.0.post1',\n",
       " 'beautifulsoup4==4.8.0',\n",
       " 'bitarray==1.0.1',\n",
       " 'bkcharts==0.2',\n",
       " 'bleach==3.1.0',\n",
       " 'bokeh==1.3.4',\n",
       " 'boto==2.49.0',\n",
       " 'bottleneck==1.2.1',\n",
       " 'certifi==2019.9.11',\n",
       " 'cffi==1.12.3',\n",
       " 'chardet==3.0.4',\n",
       " 'click==7.0',\n",
       " 'cloudpickle==1.2.2',\n",
       " 'clyent==1.2.2',\n",
       " 'colorama==0.4.1',\n",
       " 'conda-build==3.18.9',\n",
       " 'conda-package-handling==1.6.0',\n",
       " 'conda-verify==3.4.2',\n",
       " 'conda==4.10.3',\n",
       " 'contextlib2==0.6.0',\n",
       " 'cryptography==2.7',\n",
       " 'cycler==0.10.0',\n",
       " 'cython==0.29.13',\n",
       " 'cytoolz==0.10.0',\n",
       " 'dask==2.5.2',\n",
       " 'decorator==4.4.0',\n",
       " 'defusedxml==0.6.0',\n",
       " 'distributed==2.5.2',\n",
       " 'docutils==0.15.2',\n",
       " 'entrypoints==0.3',\n",
       " 'et-xmlfile==1.0.1',\n",
       " 'fastcache==1.1.0',\n",
       " 'filelock==3.0.12',\n",
       " 'flask==1.1.1',\n",
       " 'fsspec==0.5.2',\n",
       " 'future==0.17.1',\n",
       " 'gevent==1.4.0',\n",
       " 'glob2==0.7',\n",
       " 'gmpy2==2.0.8',\n",
       " 'greenlet==0.4.15',\n",
       " 'h5py==2.9.0',\n",
       " 'heapdict==1.0.1',\n",
       " 'html5lib==1.0.1',\n",
       " 'idna==2.8',\n",
       " 'imageio==2.6.0',\n",
       " 'imagesize==1.1.0',\n",
       " 'importlib-metadata==0.23',\n",
       " 'ipykernel==5.1.2',\n",
       " 'ipython-genutils==0.2.0',\n",
       " 'ipython==7.8.0',\n",
       " 'ipywidgets==7.5.1',\n",
       " 'isort==4.3.21',\n",
       " 'itsdangerous==1.1.0',\n",
       " 'jdcal==1.4.1',\n",
       " 'jedi==0.15.1',\n",
       " 'jeepney==0.4.1',\n",
       " 'jinja2==2.10.3',\n",
       " 'joblib==0.13.2',\n",
       " 'json5==0.8.5',\n",
       " 'jsonschema==3.0.2',\n",
       " 'jupyter-client==5.3.3',\n",
       " 'jupyter-console==6.0.0',\n",
       " 'jupyter-core==4.5.0',\n",
       " 'jupyter==1.0.0',\n",
       " 'jupyterlab-server==1.0.6',\n",
       " 'jupyterlab==1.1.4',\n",
       " 'keyring==18.0.0',\n",
       " 'kiwisolver==1.1.0',\n",
       " 'lazy-object-proxy==1.4.2',\n",
       " 'libarchive-c==2.8',\n",
       " 'lief==0.9.0',\n",
       " 'llvmlite==0.29.0',\n",
       " 'locket==0.2.0',\n",
       " 'lxml==4.4.1',\n",
       " 'markupsafe==1.1.1',\n",
       " 'matplotlib==3.1.1',\n",
       " 'mccabe==0.6.1',\n",
       " 'mistune==0.8.4',\n",
       " 'mkl-fft==1.0.14',\n",
       " 'mkl-random==1.1.0',\n",
       " 'mkl-service==2.3.0',\n",
       " 'mock==3.0.5',\n",
       " 'more-itertools==7.2.0',\n",
       " 'mpmath==1.1.0',\n",
       " 'msgpack==0.6.1',\n",
       " 'multipledispatch==0.6.0',\n",
       " 'navigator-updater==0.2.1',\n",
       " 'nbconvert==5.6.0',\n",
       " 'nbformat==4.4.0',\n",
       " 'networkx==2.3',\n",
       " 'nltk==3.4.5',\n",
       " 'nose==1.3.7',\n",
       " 'notebook==6.0.1',\n",
       " 'numba==0.45.1',\n",
       " 'numexpr==2.7.0',\n",
       " 'numpy==1.17.2',\n",
       " 'numpydoc==0.9.1',\n",
       " 'olefile==0.46',\n",
       " 'openpyxl==3.0.0',\n",
       " 'packaging==19.2',\n",
       " 'pandas==0.25.1',\n",
       " 'pandocfilters==1.4.2',\n",
       " 'parso==0.5.1',\n",
       " 'partd==1.0.0',\n",
       " 'path.py==12.0.1',\n",
       " 'pathlib2==2.3.5',\n",
       " 'patsy==0.5.1',\n",
       " 'pep8==1.7.1',\n",
       " 'pexpect==4.7.0',\n",
       " 'pickleshare==0.7.5',\n",
       " 'pillow==6.2.0',\n",
       " 'pip==19.2.3',\n",
       " 'pkginfo==1.5.0.1',\n",
       " 'pluggy==0.13.0',\n",
       " 'ply==3.11',\n",
       " 'prometheus-client==0.7.1',\n",
       " 'prompt-toolkit==2.0.10',\n",
       " 'psutil==5.6.3',\n",
       " 'ptyprocess==0.6.0',\n",
       " 'py==1.8.0',\n",
       " 'pycodestyle==2.5.0',\n",
       " 'pycosat==0.6.3',\n",
       " 'pycparser==2.19',\n",
       " 'pycrypto==2.6.1',\n",
       " 'pycurl==7.43.0.3',\n",
       " 'pyflakes==2.1.1',\n",
       " 'pygments==2.4.2',\n",
       " 'pylint==2.4.2',\n",
       " 'pyodbc==4.0.27',\n",
       " 'pyopenssl==19.0.0',\n",
       " 'pyparsing==2.4.2',\n",
       " 'pyrsistent==0.15.4',\n",
       " 'pysocks==1.7.1',\n",
       " 'pytest-arraydiff==0.3',\n",
       " 'pytest-astropy==0.5.0',\n",
       " 'pytest-doctestplus==0.4.0',\n",
       " 'pytest-openfiles==0.4.0',\n",
       " 'pytest-remotedata==0.3.2',\n",
       " 'pytest==5.2.1',\n",
       " 'python-dateutil==2.8.0',\n",
       " 'pytz==2019.3',\n",
       " 'pywavelets==1.0.3',\n",
       " 'pyyaml==5.1.2',\n",
       " 'pyzmq==18.1.0',\n",
       " 'qtawesome==0.6.0',\n",
       " 'qtconsole==4.5.5',\n",
       " 'qtpy==1.9.0',\n",
       " 'requests==2.22.0',\n",
       " 'rope==0.14.0',\n",
       " 'ruamel-yaml==0.15.46',\n",
       " 'scikit-image==0.15.0',\n",
       " 'scikit-learn==0.21.3',\n",
       " 'scipy==1.3.1',\n",
       " 'seaborn==0.9.0',\n",
       " 'secretstorage==3.1.1',\n",
       " 'send2trash==1.5.0',\n",
       " 'setuptools==41.4.0',\n",
       " 'simplegeneric==0.8.1',\n",
       " 'singledispatch==3.4.0.3',\n",
       " 'six==1.12.0',\n",
       " 'snowballstemmer==2.0.0',\n",
       " 'sortedcollections==1.1.2',\n",
       " 'sortedcontainers==2.1.0',\n",
       " 'soupsieve==1.9.3',\n",
       " 'sphinx==2.2.0',\n",
       " 'sphinxcontrib-applehelp==1.0.1',\n",
       " 'sphinxcontrib-devhelp==1.0.1',\n",
       " 'sphinxcontrib-htmlhelp==1.0.2',\n",
       " 'sphinxcontrib-jsmath==1.0.1',\n",
       " 'sphinxcontrib-qthelp==1.0.2',\n",
       " 'sphinxcontrib-serializinghtml==1.1.3',\n",
       " 'sphinxcontrib-websupport==1.1.2',\n",
       " 'spyder-kernels==0.5.2',\n",
       " 'spyder==3.3.6',\n",
       " 'sqlalchemy==1.3.9',\n",
       " 'statsmodels==0.10.1',\n",
       " 'sympy==1.4',\n",
       " 'tables==3.5.2',\n",
       " 'tblib==1.4.0',\n",
       " 'terminado==0.8.2',\n",
       " 'testpath==0.4.2',\n",
       " 'toolz==0.10.0',\n",
       " 'tornado==6.0.3',\n",
       " 'tqdm==4.36.1',\n",
       " 'traitlets==4.3.3',\n",
       " 'unicodecsv==0.14.1',\n",
       " 'urllib3==1.24.2',\n",
       " 'wcwidth==0.1.7',\n",
       " 'webencodings==0.5.1',\n",
       " 'werkzeug==0.16.0',\n",
       " 'wheel==0.33.6',\n",
       " 'widgetsnbextension==3.5.1',\n",
       " 'wrapt==1.11.2',\n",
       " 'wurlitzer==1.0.3',\n",
       " 'xlrd==1.2.0',\n",
       " 'xlsxwriter==1.2.1',\n",
       " 'xlwt==1.3.0',\n",
       " 'zict==1.0.0',\n",
       " 'zipp==0.6.0']"
      ]
     },
     "execution_count": 2,
     "metadata": {},
     "output_type": "execute_result"
    }
   ],
   "source": [
    "import pip\n",
    "sorted([\"%s==%s\" % (i.key, i.version) for i in pip._internal.utils.misc.get_installed_distributions()])"
   ]
  },
  {
   "cell_type": "markdown",
   "metadata": {},
   "source": [
    "# Functions"
   ]
  },
  {
   "cell_type": "code",
   "execution_count": 9,
   "metadata": {},
   "outputs": [
    {
     "name": "stdout",
     "output_type": "stream",
     "text": [
      "9\n",
      "27\n",
      "cube 27\n",
      "square 9\n"
     ]
    }
   ],
   "source": [
    "def square(x):\n",
    "    \"\"\"Square of x.\"\"\"\n",
    "    return x*x\n",
    "\n",
    "def cube(x):\n",
    "    \"\"\"Cube of x.\"\"\"\n",
    "    return x*x*x\n",
    "\n",
    "# create a dictionary of functions\n",
    "funcs = {\n",
    "    'square': square,\n",
    "    'cube': cube,\n",
    "}\n",
    "\n",
    "x = 3\n",
    "print(square(x))\n",
    "print(cube(x))\n",
    "\n",
    "for y in sorted(funcs):\n",
    "    print (y, funcs[y](x))"
   ]
  },
  {
   "cell_type": "markdown",
   "metadata": {},
   "source": [
    "## Functions arguments"
   ]
  },
  {
   "cell_type": "markdown",
   "metadata": {},
   "source": [
    "What is passsed to a function is a copy of the input. Imagine we have a list *x =[1, 2, 3]*, i.e. a mutable object. If within the function the content of *x* is directly changed (e.g. *x[0] = 999*), then *x* changes outside the funciton as well. "
   ]
  },
  {
   "cell_type": "code",
   "execution_count": 7,
   "metadata": {},
   "outputs": [
    {
     "name": "stdout",
     "output_type": "stream",
     "text": [
      "[1, 2, 3]\n",
      "[999, 2, 3]\n",
      "[999, 2, 3]\n"
     ]
    }
   ],
   "source": [
    "def modify(x):\n",
    "    x[0] = 999\n",
    "    return x\n",
    "\n",
    "x = [1,2,3]\n",
    "print (x)\n",
    "print (modify(x))\n",
    "print (x)"
   ]
  },
  {
   "cell_type": "markdown",
   "metadata": {},
   "source": [
    "However, if *x* is reassigned within the function to a new object (e.g. another list), then the copy of the name *x* now points to the new object, but *x* outside the function is unhcanged."
   ]
  },
  {
   "cell_type": "code",
   "execution_count": 2,
   "metadata": {},
   "outputs": [
    {
     "name": "stdout",
     "output_type": "stream",
     "text": [
      "[1, 2, 3]\n",
      "[4, 5, 6]\n",
      "[1, 2, 3]\n"
     ]
    }
   ],
   "source": [
    "def no_modify(x):\n",
    "    x = [4,5,6]\n",
    "    return x\n",
    "\n",
    "x = [1,2,3]\n",
    "print (x)\n",
    "print (no_modify(x))\n",
    "print (x)\n"
   ]
  },
  {
   "cell_type": "markdown",
   "metadata": {},
   "source": [
    "What if the function tries to modify the value of an immutable object?"
   ]
  },
  {
   "cell_type": "markdown",
   "metadata": {},
   "source": [
    "Binding of default arguments occurs at function definition:"
   ]
  },
  {
   "cell_type": "code",
   "execution_count": 3,
   "metadata": {},
   "outputs": [
    {
     "name": "stdout",
     "output_type": "stream",
     "text": [
      "[1]\n",
      "[1, 1]\n",
      "[9, 9, 9, 1]\n",
      "[1, 1, 1]\n",
      "[1, 1, 1, 1]\n"
     ]
    }
   ],
   "source": [
    "def f(x = []):\n",
    "    x.append(1)\n",
    "    return x\n",
    "\n",
    "print (f())\n",
    "print (f())\n",
    "print (f(x = [9,9,9]))\n",
    "print (f())\n",
    "print (f())"
   ]
  },
  {
   "cell_type": "markdown",
   "metadata": {},
   "source": [
    "Try to aviod that!!"
   ]
  },
  {
   "cell_type": "code",
   "execution_count": 4,
   "metadata": {},
   "outputs": [
    {
     "name": "stdout",
     "output_type": "stream",
     "text": [
      "[1]\n",
      "[1]\n",
      "[9, 9, 9, 1]\n",
      "[1]\n",
      "[1]\n"
     ]
    }
   ],
   "source": [
    "def f(x = None):\n",
    "    if x is None:\n",
    "        x = []\n",
    "    x.append(1)\n",
    "    return x\n",
    "\n",
    "print (f())\n",
    "print (f())\n",
    "print (f(x = [9,9,9]))\n",
    "print (f())\n",
    "print (f())"
   ]
  },
  {
   "cell_type": "markdown",
   "metadata": {},
   "source": [
    "## Higher order functions\n",
    "\n",
    "A function that uses another function as an input argument or returns a function is known as a higher-order function (HOF). The most familiar examples are `map` and `filter`."
   ]
  },
  {
   "cell_type": "markdown",
   "metadata": {},
   "source": [
    "### map\n",
    "\n",
    "The map function applies a function to each member of a collection"
   ]
  },
  {
   "cell_type": "code",
   "execution_count": 10,
   "metadata": {},
   "outputs": [
    {
     "name": "stdout",
     "output_type": "stream",
     "text": [
      "[0, 1, 4, 9, 16]\n",
      "0\n",
      "1\n",
      "4\n",
      "9\n",
      "16\n"
     ]
    },
    {
     "data": {
      "text/plain": [
       "[0, 1, 4, 9, 16, 25]"
      ]
     },
     "execution_count": 10,
     "metadata": {},
     "output_type": "execute_result"
    }
   ],
   "source": [
    "x = list(map(square, range(5))) \n",
    "print (x)\n",
    "\n",
    "# Note the difference w.r.t python 2. In python 3 map retuns an iterator so you can do stuff like:\n",
    "for i in map(square,range(5)): print(i)\n",
    "\n",
    "# or\n",
    "[i for i in map(square,range(6))]"
   ]
  },
  {
   "cell_type": "markdown",
   "metadata": {},
   "source": [
    "### filter\n",
    "\n",
    "The filter function applies a predicate to each member of a collection, retaining only those members where the predicate is True"
   ]
  },
  {
   "cell_type": "code",
   "execution_count": 11,
   "metadata": {},
   "outputs": [
    {
     "name": "stdout",
     "output_type": "stream",
     "text": [
      "[0, 2, 4]\n"
     ]
    }
   ],
   "source": [
    "def is_even(x):\n",
    "    return x%2 == 0\n",
    "\n",
    "print (list(filter(is_even, range(5))))"
   ]
  },
  {
   "cell_type": "markdown",
   "metadata": {},
   "source": [
    "Combinations in sequence of HOF are obviously possible"
   ]
  },
  {
   "cell_type": "code",
   "execution_count": 12,
   "metadata": {},
   "outputs": [
    {
     "data": {
      "text/plain": [
       "[0, 4, 16]"
      ]
     },
     "execution_count": 12,
     "metadata": {},
     "output_type": "execute_result"
    }
   ],
   "source": [
    "list(map(square, filter(is_even, range(5))))"
   ]
  },
  {
   "cell_type": "markdown",
   "metadata": {},
   "source": [
    "### reduce\n",
    "\n",
    "The reduce function reduces a collection using a binary operator to combine items two at a time. More often than not reduce can be substituted with a more efficient for loop. It is worth mentioning it for its key role in big-data applications together with map (the map-reduce paradigm). \n",
    "N.B.: it no loger exist as built-in function in python 3, it is now part of the `functools` library"
   ]
  },
  {
   "cell_type": "code",
   "execution_count": 13,
   "metadata": {},
   "outputs": [
    {
     "data": {
      "text/plain": [
       "15"
      ]
     },
     "execution_count": 13,
     "metadata": {},
     "output_type": "execute_result"
    }
   ],
   "source": [
    "from functools import reduce\n",
    "\n",
    "def my_add(x, y):\n",
    "    return x + y\n",
    "\n",
    "# another implementation of the sum function\n",
    "reduce(my_add, [1,2,3,4,5])"
   ]
  },
  {
   "cell_type": "markdown",
   "metadata": {},
   "source": [
    "### zip\n",
    "\n",
    "zip is useful when you need to iterate over matched elements of multiple lists"
   ]
  },
  {
   "cell_type": "code",
   "execution_count": 15,
   "metadata": {},
   "outputs": [
    {
     "name": "stdout",
     "output_type": "stream",
     "text": [
      "1 10 a\n",
      "2 20 b\n",
      "3 30 c\n",
      "4 40 d\n"
     ]
    }
   ],
   "source": [
    "xs = [1, 2, 3, 4]\n",
    "ys = [10, 20, 30, 40]\n",
    "zs = ['a', 'b', 'c', 'd', 'e']\n",
    "\n",
    "for x, y, z in zip(xs, ys, zs):\n",
    "    print (x, y, z)"
   ]
  },
  {
   "cell_type": "markdown",
   "metadata": {},
   "source": [
    "### Custom HOF"
   ]
  },
  {
   "cell_type": "code",
   "execution_count": 16,
   "metadata": {},
   "outputs": [
    {
     "name": "stdout",
     "output_type": "stream",
     "text": [
      "30\n",
      "100\n"
     ]
    }
   ],
   "source": [
    "def custom_sum(xs, transform):\n",
    "    \"\"\"Returns the sum of xs after a user specified transform.\"\"\"\n",
    "    return sum(map(transform, xs))\n",
    "\n",
    "xs = range(5)\n",
    "print (custom_sum(xs, square))\n",
    "print (custom_sum(xs, cube))\n",
    "\n"
   ]
  },
  {
   "cell_type": "markdown",
   "metadata": {},
   "source": [
    "### Returning a function"
   ]
  },
  {
   "cell_type": "code",
   "execution_count": 17,
   "metadata": {},
   "outputs": [],
   "source": [
    "def make_logger(target):\n",
    "    def logger(data):\n",
    "        with open(target, 'a') as f:\n",
    "            f.write(data + '\\n')\n",
    "    return logger\n",
    "\n",
    "foo_logger = make_logger('foo.txt') #foo.txt will be created if not there already\n",
    "foo_logger('Hello')\n",
    "foo_logger('World')"
   ]
  },
  {
   "cell_type": "code",
   "execution_count": 18,
   "metadata": {},
   "outputs": [
    {
     "name": "stdout",
     "output_type": "stream",
     "text": [
      "Hello\r\n",
      "World\r\n",
      "Hello\r\n",
      "World\r\n",
      "Hello\r\n",
      "World\r\n"
     ]
    }
   ],
   "source": [
    "! cat 'foo.txt'"
   ]
  },
  {
   "cell_type": "markdown",
   "metadata": {},
   "source": [
    "## Anonimous functions (lambda)\n",
    "\n",
    "When using functional style, there is often the need to create specific functions that perform a limited task as input to a HOF such as map or filter. In such cases, these functions are often written as anonymous or lambda functions. \n",
    "The syntax is as follows:\n",
    "\n",
    "lambda *arguments* : *expression*\n",
    "\n",
    "\n",
    "If you find it hard to understand what a lambda function is doing, it should probably be rewritten as a regular function."
   ]
  },
  {
   "cell_type": "code",
   "execution_count": 19,
   "metadata": {},
   "outputs": [
    {
     "data": {
      "text/plain": [
       "7"
      ]
     },
     "execution_count": 19,
     "metadata": {},
     "output_type": "execute_result"
    }
   ],
   "source": [
    "sum = lambda x,y: x+y\n",
    "sum(3,4)"
   ]
  },
  {
   "cell_type": "code",
   "execution_count": 20,
   "metadata": {},
   "outputs": [
    {
     "name": "stdout",
     "output_type": "stream",
     "text": [
      "0\n",
      "1\n",
      "4\n",
      "9\n",
      "16\n"
     ]
    }
   ],
   "source": [
    "for i in map(lambda x: x*x, range(5)): print (i)"
   ]
  },
  {
   "cell_type": "code",
   "execution_count": 21,
   "metadata": {},
   "outputs": [
    {
     "name": "stdout",
     "output_type": "stream",
     "text": [
      "285\n"
     ]
    }
   ],
   "source": [
    "# what does this function do?\n",
    "from functools import reduce\n",
    "s1 = reduce(lambda x, y: x+y, map(lambda x: x**2, range(1,10)))\n",
    "print(s1)\n"
   ]
  },
  {
   "cell_type": "markdown",
   "metadata": {},
   "source": [
    "## Recursive functions "
   ]
  },
  {
   "cell_type": "code",
   "execution_count": 3,
   "metadata": {},
   "outputs": [
    {
     "name": "stdout",
     "output_type": "stream",
     "text": [
      "[1, 1, 2, 3, 5, 8, 13, 21, 34, 55]\n"
     ]
    }
   ],
   "source": [
    "def fib1(n):\n",
    "    \"\"\"Fib with recursion.\"\"\"\n",
    "\n",
    "    # base case\n",
    "    if n==0 or n==1:\n",
    "        return 1\n",
    "    # recurssive case\n",
    "    else:\n",
    "        return fib1(n-1) + fib1(n-2)\n",
    "\n",
    "    \n",
    "print ([fib1(i) for i in range(10)])"
   ]
  },
  {
   "cell_type": "code",
   "execution_count": 25,
   "metadata": {},
   "outputs": [
    {
     "name": "stdout",
     "output_type": "stream",
     "text": [
      "[1, 1]\n"
     ]
    }
   ],
   "source": [
    "# In Python, a more efficient version that does not use recursion is\n",
    "\n",
    "def fib2(n):\n",
    "    \"\"\"Fib without recursion.\"\"\"\n",
    "    a, b = 0, 1\n",
    "    for i in range(1, n+1):\n",
    "        a, b = b, a+b\n",
    "    return b\n",
    "\n",
    "print ([fib2(i) for i in range(10)])"
   ]
  },
  {
   "cell_type": "code",
   "execution_count": 27,
   "metadata": {},
   "outputs": [
    {
     "name": "stdout",
     "output_type": "stream",
     "text": [
      "2.01 ms ± 27.2 µs per loop (mean ± std. dev. of 7 runs, 100 loops each)\n",
      "858 ns ± 2.1 ns per loop (mean ± std. dev. of 7 runs, 1000000 loops each)\n"
     ]
    }
   ],
   "source": [
    "# check indeed the timing:\n",
    "\n",
    "%timeit fib1(20)\n",
    "%timeit fib2(20)\n"
   ]
  },
  {
   "cell_type": "markdown",
   "metadata": {},
   "source": [
    "## Iterators\n",
    "\n",
    "Iterators represent streams of values. Because only one value is consumed at a time, they use very little memory. Use of iterators is very helpful for working with data sets too large to fit into RAM."
   ]
  },
  {
   "cell_type": "code",
   "execution_count": 29,
   "metadata": {},
   "outputs": [
    {
     "name": "stdout",
     "output_type": "stream",
     "text": [
      "1\n",
      "2\n",
      "3\n"
     ]
    }
   ],
   "source": [
    "# Iterators can be created from sequences with the built-in function iter()\n",
    "\n",
    "xs = [1,2,3]\n",
    "x_iter = iter(xs)\n",
    "\n",
    "print (next(x_iter))\n",
    "print (next(x_iter))\n",
    "print (next(x_iter))\n",
    "#print (next(x_iter))"
   ]
  },
  {
   "cell_type": "code",
   "execution_count": 30,
   "metadata": {},
   "outputs": [
    {
     "name": "stdout",
     "output_type": "stream",
     "text": [
      "1\n",
      "2\n",
      "3\n"
     ]
    }
   ],
   "source": [
    "# Most commonly, iterators are used (automatically) within a for loop\n",
    "# which terminates when it encouters a StopIteration exception\n",
    "\n",
    "x_iter = iter(xs)\n",
    "for x in x_iter:\n",
    "    print (x)"
   ]
  },
  {
   "cell_type": "markdown",
   "metadata": {},
   "source": [
    "## More on comprehensions"
   ]
  },
  {
   "cell_type": "code",
   "execution_count": 31,
   "metadata": {},
   "outputs": [
    {
     "name": "stdout",
     "output_type": "stream",
     "text": [
      "<generator object <genexpr> at 0x7fd4b405ecd0>\n",
      "[0, 1, 2, 3, 4, 5, 6, 7, 8, 9]\n",
      "{0, 1, 2, 3, 4, 5, 6, 7, 8, 9}\n",
      "{0: 0, 1: 1, 2: 2, 3: 3, 4: 4, 5: 5, 6: 6, 7: 7, 8: 8, 9: 9}\n"
     ]
    }
   ],
   "source": [
    "# A generator expression\n",
    "\n",
    "print ((x for x in range(10)))\n",
    "\n",
    "# A list comprehesnnion\n",
    "\n",
    "print ([x for x in range(10)])\n",
    "\n",
    "# A set comprehension\n",
    "\n",
    "print ({x for x in range(10)})\n",
    "\n",
    "# A dictionary comprehension\n",
    "\n",
    "print ({x: x for x in range(10)})"
   ]
  },
  {
   "cell_type": "markdown",
   "metadata": {},
   "source": [
    "## Useful Modules\n",
    "\n",
    "You may want to have a look at the content of the following modules for further usage of (HO) functions:\n",
    "  - [operator](https://docs.python.org/3/library/operator.html)\n",
    "  - [functools](https://docs.python.org/3/library/functools.html)\n",
    "  - [itertools](https://docs.python.org/3/library/itertools.html)\n",
    "  - [toolz](https://pypi.org/project/toolz/)\n",
    "  - [funcy](https://pypi.org/project/funcy/)"
   ]
  },
  {
   "cell_type": "markdown",
   "metadata": {},
   "source": [
    "## Decorators\n",
    "\n",
    "Decorators are a type of HOF that take a function and return a wrapped function that provides additional useful properties.\n",
    "\n",
    "Examples:\n",
    "\n",
    "  - logging\n",
    "  - profiling\n",
    "  - Just-In-Time (JIT) compilation"
   ]
  },
  {
   "cell_type": "code",
   "execution_count": 21,
   "metadata": {},
   "outputs": [],
   "source": [
    "def my_decorator(func):\n",
    "    def wrapper():\n",
    "        print(\"Something is happening before the function is called.\")\n",
    "        func()\n",
    "        print(\"Something is happening after the function is called.\")\n",
    "    return wrapper\n",
    "\n",
    "def say_whee():\n",
    "    print(\"Whee!\")\n",
    "\n",
    "say_whee = my_decorator(say_whee)"
   ]
  },
  {
   "cell_type": "code",
   "execution_count": 22,
   "metadata": {},
   "outputs": [
    {
     "name": "stdout",
     "output_type": "stream",
     "text": [
      "Something is happening before the function is called.\n",
      "Whee!\n",
      "Something is happening after the function is called.\n"
     ]
    }
   ],
   "source": [
    "say_whee()"
   ]
  },
  {
   "cell_type": "markdown",
   "metadata": {},
   "source": [
    "Python allows you to use decorators in a simpler way with the @ symbol, sometimes called the “pie” syntax"
   ]
  },
  {
   "cell_type": "code",
   "execution_count": 1,
   "metadata": {},
   "outputs": [],
   "source": [
    "def my_decorator(func):\n",
    "    def wrapper():\n",
    "        print(\"Something is happening before the function is called.\")\n",
    "        func()\n",
    "        print(\"Something is happening after the function is called.\")\n",
    "    return wrapper\n",
    "\n",
    "@my_decorator\n",
    "def say_whee():\n",
    "    print(\"Whee!\")"
   ]
  },
  {
   "cell_type": "code",
   "execution_count": 2,
   "metadata": {},
   "outputs": [
    {
     "name": "stdout",
     "output_type": "stream",
     "text": [
      "Something is happening before the function is called.\n",
      "Whee!\n",
      "Something is happening after the function is called.\n"
     ]
    }
   ],
   "source": [
    "say_whee()"
   ]
  },
  {
   "cell_type": "markdown",
   "metadata": {},
   "source": [
    "# Classes and Objects\n",
    "\n",
    "Old school object-oriented programming is possible and often used in python. Classes are defined similarly to standard object-oriented languages, with similar functionalities.\n",
    "\n",
    "The main python doc [page](https://docs.python.org/3.6/tutorial/classes.html) is worth reading through "
   ]
  },
  {
   "cell_type": "code",
   "execution_count": 14,
   "metadata": {},
   "outputs": [
    {
     "name": "stdout",
     "output_type": "stream",
     "text": [
      "buddy 12\n",
      "3\n"
     ]
    }
   ],
   "source": [
    "class Pet:\n",
    "    # the \"constructor\"\n",
    "    def __init__(self, name, age):  #inizialize the elements of the class\n",
    "        self.name=name\n",
    "        self.age=age\n",
    "    # class functions take the \"self\" parameter !!!\n",
    "    def set_name(self,name):\n",
    "        self.name=name\n",
    "    def convert_age(self,factor):\n",
    "        self.age*=factor\n",
    "\n",
    "buddy=Pet(\"buddy\",12)\n",
    "print (buddy.name, buddy.age)\n",
    "buddy.age=3\n",
    "print (buddy.age)\n",
    "\n"
   ]
  },
  {
   "cell_type": "code",
   "execution_count": 13,
   "metadata": {},
   "outputs": [
    {
     "name": "stdout",
     "output_type": "stream",
     "text": [
      "tobia\n",
      "70\n",
      "mammal\n"
     ]
    }
   ],
   "source": [
    "# ineritance is straightforward\n",
    "class Dog(Pet):\n",
    "    # the following variables is \"global\", i.e. holds for all \"Dog\" objects\n",
    "    species = \"mammal\"\n",
    "    # functions can be redefined as usual\n",
    "    def convert_age(self):\n",
    "        self.age*=7\n",
    "    def set_species(self, species):\n",
    "        self.species = species\n",
    "        \n",
    "puppy=Dog(\"tobia\",10)\n",
    "print(puppy.name)\n",
    "puppy.convert_age()\n",
    "print(puppy.age)\n",
    "print(puppy.species)"
   ]
  },
  {
   "cell_type": "code",
   "execution_count": null,
   "metadata": {},
   "outputs": [],
   "source": []
  }
 ],
 "metadata": {
  "kernelspec": {
   "display_name": "Python 3",
   "language": "python",
   "name": "python3"
  },
  "language_info": {
   "codemirror_mode": {
    "name": "ipython",
    "version": 3
   },
   "file_extension": ".py",
   "mimetype": "text/x-python",
   "name": "python",
   "nbconvert_exporter": "python",
   "pygments_lexer": "ipython3",
   "version": "3.7.4"
  }
 },
 "nbformat": 4,
 "nbformat_minor": 2
}
