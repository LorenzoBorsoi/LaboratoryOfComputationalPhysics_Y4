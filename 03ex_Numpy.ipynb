{
 "cells": [
  {
   "cell_type": "markdown",
   "metadata": {},
   "source": [
    "### Numpy basics"
   ]
  },
  {
   "cell_type": "code",
   "execution_count": 196,
   "metadata": {},
   "outputs": [],
   "source": [
    "import numpy as np\n",
    "import matplotlib.pyplot as plt"
   ]
  },
  {
   "cell_type": "markdown",
   "metadata": {},
   "source": [
    "1\\. Find the row, column and overall means for the following matrix:\n",
    "\n",
    "```python\n",
    "m = np.arange(12).reshape((3,4))\n",
    "```"
   ]
  },
  {
   "cell_type": "code",
   "execution_count": 16,
   "metadata": {},
   "outputs": [
    {
     "name": "stdout",
     "output_type": "stream",
     "text": [
      "m =\n",
      " [[ 0  1  2  3]\n",
      " [ 4  5  6  7]\n",
      " [ 8  9 10 11]]\n",
      "column averages of m = [4. 5. 6. 7.]\n",
      "row averages of m = [1.5 5.5 9.5]\n",
      "overall average of m = 5.5\n"
     ]
    }
   ],
   "source": [
    "m = np.arange(12).reshape((3,4))\n",
    "\n",
    "print(\"m =\\n\", m)\n",
    "print(\"column averages of m =\", m.mean(axis=0))\n",
    "print(\"row averages of m =\", m.mean(axis=1))\n",
    "print(\"overall average of m =\", m.mean())"
   ]
  },
  {
   "cell_type": "markdown",
   "metadata": {},
   "source": [
    "2\\. Find the outer product of the following two vecotrs\n",
    "\n",
    "```python\n",
    "u = np.array([1,3,5,7])\n",
    "v = np.array([2,4,6,8])\n",
    "```\n",
    "\n",
    "Do this in the following ways:\n",
    "\n",
    "   * Using the function outer in numpy\n",
    "   * Using a nested for loop or list comprehension\n",
    "   * Using numpy broadcasting operatoins\n"
   ]
  },
  {
   "cell_type": "code",
   "execution_count": 41,
   "metadata": {},
   "outputs": [
    {
     "name": "stdout",
     "output_type": "stream",
     "text": [
      "Outer_1(u,v) =\n",
      " [[ 2  4  6  8]\n",
      " [ 6 12 18 24]\n",
      " [10 20 30 40]\n",
      " [14 28 42 56]] \n",
      "\n",
      "Outer_2(u,v) =\n",
      " [[ 2  4  6  8]\n",
      " [ 6 12 18 24]\n",
      " [10 20 30 40]\n",
      " [14 28 42 56]] \n",
      "\n",
      "Outer_3(u,v) =\n",
      " [[ 2  4  6  8]\n",
      " [ 6 12 18 24]\n",
      " [10 20 30 40]\n",
      " [14 28 42 56]] \n",
      "\n"
     ]
    }
   ],
   "source": [
    "u = np.array([1,3,5,7])\n",
    "v = np.array([2,4,6,8])\n",
    "\n",
    "# Using the function outer in numpy\n",
    "out1 = np.outer(u,v)\n",
    "print(\"Outer_1(u,v) =\\n\", out1, \"\\n\")\n",
    "\n",
    "# Using a nested for loop or list comprehension\n",
    "out2 = np.array([[i*j for i in v] for j in u])\n",
    "print(\"Outer_2(u,v) =\\n\", out2, \"\\n\")\n",
    "\n",
    "# Using numpy broadcasting operations\n",
    "out3 = u.reshape(4,1) * v\n",
    "print(\"Outer_3(u,v) =\\n\", out3, \"\\n\")"
   ]
  },
  {
   "cell_type": "markdown",
   "metadata": {},
   "source": [
    "3\\. Create a 10 by 6 matrix of random uniform numbers. Set all rows with any entry less than 0.1 to be zero\n",
    "\n",
    "Hint: Use the following numpy functions - np.random.random, np.any as well as Boolean indexing and the axis argument."
   ]
  },
  {
   "cell_type": "code",
   "execution_count": 73,
   "metadata": {},
   "outputs": [
    {
     "name": "stdout",
     "output_type": "stream",
     "text": [
      "Original M =\n",
      " [[0.33887489 0.76318952 0.38051698 0.70777017 0.93276523 0.31553819]\n",
      " [0.463896   0.00636316 0.73328074 0.8242992  0.10908034 0.97253379]\n",
      " [0.42590588 0.41188312 0.68902128 0.60552711 0.97235519 0.56998362]\n",
      " [0.84287724 0.40353381 0.18073294 0.38764761 0.2046617  0.57697941]\n",
      " [0.95449685 0.57171705 0.22246456 0.40817153 0.61760429 0.96097034]\n",
      " [0.00713    0.36634984 0.48233101 0.36963041 0.84599255 0.9672789 ]\n",
      " [0.0678016  0.26385857 0.70723734 0.61279786 0.04354504 0.69653326]\n",
      " [0.45374145 0.71553301 0.51840499 0.73808594 0.52798774 0.77809244]\n",
      " [0.99299436 0.56260755 0.38356793 0.7877257  0.14950287 0.8525983 ]\n",
      " [0.32194353 0.0772227  0.08475177 0.85220001 0.14080499 0.58753048]]\n",
      "\n",
      "Modified M =\n",
      " [[0.33887489 0.76318952 0.38051698 0.70777017 0.93276523 0.31553819]\n",
      " [0.         0.         0.         0.         0.         0.        ]\n",
      " [0.42590588 0.41188312 0.68902128 0.60552711 0.97235519 0.56998362]\n",
      " [0.84287724 0.40353381 0.18073294 0.38764761 0.2046617  0.57697941]\n",
      " [0.95449685 0.57171705 0.22246456 0.40817153 0.61760429 0.96097034]\n",
      " [0.         0.         0.         0.         0.         0.        ]\n",
      " [0.         0.         0.         0.         0.         0.        ]\n",
      " [0.45374145 0.71553301 0.51840499 0.73808594 0.52798774 0.77809244]\n",
      " [0.99299436 0.56260755 0.38356793 0.7877257  0.14950287 0.8525983 ]\n",
      " [0.         0.         0.         0.         0.         0.        ]]\n"
     ]
    }
   ],
   "source": [
    "M = np.random.rand(10,6)\n",
    "print(\"Original M =\\n\", M)\n",
    "\n",
    "mask = np.any(M<0.1, axis=1)\n",
    "M[mask,:] = np.zeros(M.shape[1])\n",
    "print(\"\\nModified M =\\n\", M)"
   ]
  },
  {
   "cell_type": "markdown",
   "metadata": {},
   "source": [
    "4\\. Use np.linspace to create an array of 100 numbers between 0 and 2π (includsive).\n",
    "\n",
    "  * Extract every 10th element using slice notation\n",
    "  * Reverse the array using slice notation\n",
    "  * Extract elements where the absolute difference between the sine and cosine functions evaluated at that element is less than 0.1\n",
    "  * Make a plot showing the sin and cos functions and indicate where they are close"
   ]
  },
  {
   "cell_type": "code",
   "execution_count": 39,
   "metadata": {},
   "outputs": [
    {
     "name": "stdout",
     "output_type": "stream",
     "text": [
      "Extracted elements = [0.         0.63466518 1.26933037 1.90399555 2.53866073 3.17332591\n",
      " 3.8079911  4.44265628 5.07732146 5.71198664]\n",
      "\n",
      "Inverted elements = [6.28318531 6.21971879 6.15625227 6.09278575 6.02931923 5.96585272\n",
      " 5.9023862  5.83891968 5.77545316 5.71198664 5.64852012 5.58505361\n",
      " 5.52158709 5.45812057 5.39465405 5.33118753 5.26772102 5.2042545\n",
      " 5.14078798 5.07732146 5.01385494 4.95038842 4.88692191 4.82345539\n",
      " 4.75998887 4.69652235 4.63305583 4.56958931 4.5061228  4.44265628\n",
      " 4.37918976 4.31572324 4.25225672 4.1887902  4.12532369 4.06185717\n",
      " 3.99839065 3.93492413 3.87145761 3.8079911  3.74452458 3.68105806\n",
      " 3.61759154 3.55412502 3.4906585  3.42719199 3.36372547 3.30025895\n",
      " 3.23679243 3.17332591 3.10985939 3.04639288 2.98292636 2.91945984\n",
      " 2.85599332 2.7925268  2.72906028 2.66559377 2.60212725 2.53866073\n",
      " 2.47519421 2.41172769 2.34826118 2.28479466 2.22132814 2.15786162\n",
      " 2.0943951  2.03092858 1.96746207 1.90399555 1.84052903 1.77706251\n",
      " 1.71359599 1.65012947 1.58666296 1.52319644 1.45972992 1.3962634\n",
      " 1.33279688 1.26933037 1.20586385 1.14239733 1.07893081 1.01546429\n",
      " 0.95199777 0.88853126 0.82506474 0.76159822 0.6981317  0.63466518\n",
      " 0.57119866 0.50773215 0.44426563 0.38079911 0.31733259 0.25386607\n",
      " 0.19039955 0.12693304 0.06346652 0.        ]\n",
      "\n",
      "Sine and Cosine functions are near (difference is < 0.1) in = [0.76159822 0.82506474 3.87145761 3.93492413] \n",
      "(red points in the plot below)\n"
     ]
    },
    {
     "data": {
      "image/png": "[encoded data removed]",
      "text/plain": [
       "<Figure size 432x288 with 1 Axes>"
      ]
     },
     "metadata": {
      "needs_background": "light"
     },
     "output_type": "display_data"
    }
   ],
   "source": [
    "x = np.linspace(0,2*np.pi,100)\n",
    "\n",
    "# Extract every 10th element using slice notation\n",
    "x_10th = x[::10]\n",
    "print(\"Extracted elements =\", x_10th)\n",
    "\n",
    "# Reverse the array using slice notation\n",
    "x_inverse = x[::-1]\n",
    "print(\"\\nInverted elements =\", x_inverse)\n",
    "\n",
    "# Extract elements where the absolute difference between the sine and cosine functions evaluated at that element is less than 0.1\n",
    "sincos_x = x[np.abs(np.sin(x)-np.cos(x)) < 0.1]\n",
    "print(\"\\nSine and Cosine functions are near (difference is < 0.1) in =\", sincos_x, \"\\n(red points in the plot below)\")\n",
    "\n",
    "# Make a plot showing the sin and cos functions and indicate where they are close\n",
    "plt.plot(x, np.sin(x), label='sin(x)')\n",
    "plt.plot(x, np.cos(x), label='cos(x)')\n",
    "plt.plot(sincos_x, np.sin(sincos_x), 'r.')\n",
    "plt.plot(sincos_x, np.cos(sincos_x), 'r.')\n",
    "plt.title(\"sin(x) vs cos(x)\")\n",
    "plt.show()"
   ]
  },
  {
   "cell_type": "markdown",
   "metadata": {},
   "source": [
    "5\\. Create a matrix that shows the 10 by 10 multiplication table.\n",
    "\n",
    " * Find the trace of the matrix\n",
    " * Extract the anti-diagonal (this should be ```array([10, 18, 24, 28, 30, 30, 28, 24, 18, 10])```)\n",
    " * Extract the diagonal offset by 1 upwards (this should be ```array([ 2,  6, 12, 20, 30, 42, 56, 72, 90])```)"
   ]
  },
  {
   "cell_type": "code",
   "execution_count": 40,
   "metadata": {},
   "outputs": [
    {
     "name": "stdout",
     "output_type": "stream",
     "text": [
      "Multiplication table =\n",
      " [[  1   2   3   4   5   6   7   8   9  10]\n",
      " [  2   4   6   8  10  12  14  16  18  20]\n",
      " [  3   6   9  12  15  18  21  24  27  30]\n",
      " [  4   8  12  16  20  24  28  32  36  40]\n",
      " [  5  10  15  20  25  30  35  40  45  50]\n",
      " [  6  12  18  24  30  36  42  48  54  60]\n",
      " [  7  14  21  28  35  42  49  56  63  70]\n",
      " [  8  16  24  32  40  48  56  64  72  80]\n",
      " [  9  18  27  36  45  54  63  72  81  90]\n",
      " [ 10  20  30  40  50  60  70  80  90 100]]\n",
      "\n",
      "Trace of M = 385\n",
      "\n",
      "Anti-diagonal = [10 18 24 28 30 30 28 24 18 10]\n",
      "\n",
      "Offset diagonal by 1 upwards = [ 2  6 12 20 30 42 56 72 90]\n"
     ]
    }
   ],
   "source": [
    "M = np.array([[i*j for i in range(1,10+1)] for j in range(1,10+1)])\n",
    "print(\"Multiplication table =\\n\", M)\n",
    "\n",
    "# Find the trace of the matrix\n",
    "tr_M = np.trace(M)\n",
    "print(\"\\nTrace of M =\", tr_M)\n",
    "\n",
    "# Extract the anti-diagonal\n",
    "antidiag_M = np.flipud(M).diagonal()\n",
    "print(\"\\nAnti-diagonal =\", antidiag_M)\n",
    "\n",
    "# Extract the diagonal offset by 1 upwards\n",
    "offsetdiag_M = np.diagonal(M, offset=1)\n",
    "print(\"\\nOffset diagonal by 1 upwards =\", offsetdiag_M)"
   ]
  },
  {
   "cell_type": "markdown",
   "metadata": {},
   "source": [
    "6\\. Use broadcasting to create a grid of distances\n",
    "\n",
    "Route 66 crosses the following cities in the US: Chicago, Springfield, Saint-Louis, Tulsa, Oklahoma City, Amarillo, Santa Fe, Albuquerque, Flagstaff, Los Angeles\n",
    "The corresponding positions in miles are: 0, 198, 303, 736, 871, 1175, 1475, 1544, 1913, 2448\n",
    "\n",
    "  * Construct a 2D grid of distances among each city along Route 66\n",
    "  * Convert that in km (those savages...)"
   ]
  },
  {
   "cell_type": "code",
   "execution_count": 50,
   "metadata": {},
   "outputs": [
    {
     "name": "stdout",
     "output_type": "stream",
     "text": [
      "Grid of distances in miles =\n",
      " [[   0  198  303  736  871 1175 1475 1544 1913 2448]\n",
      " [ 198    0  105  538  673  977 1277 1346 1715 2250]\n",
      " [ 303  105    0  433  568  872 1172 1241 1610 2145]\n",
      " [ 736  538  433    0  135  439  739  808 1177 1712]\n",
      " [ 871  673  568  135    0  304  604  673 1042 1577]\n",
      " [1175  977  872  439  304    0  300  369  738 1273]\n",
      " [1475 1277 1172  739  604  300    0   69  438  973]\n",
      " [1544 1346 1241  808  673  369   69    0  369  904]\n",
      " [1913 1715 1610 1177 1042  738  438  369    0  535]\n",
      " [2448 2250 2145 1712 1577 1273  973  904  535    0]]\n",
      "\n",
      "Grid of distances in km =\n",
      " [[   0.   318.7  487.6 1184.5 1401.7 1891.  2373.8 2484.8 3078.7 3939.7]\n",
      " [ 318.7    0.   169.   865.8 1083.1 1572.3 2055.1 2166.2 2760.  3621. ]\n",
      " [ 487.6  169.     0.   696.8  914.1 1403.3 1886.2 1997.2 2591.  3452. ]\n",
      " [1184.5  865.8  696.8    0.   217.3  706.5 1189.3 1300.3 1894.2 2755.2]\n",
      " [1401.7 1083.1  914.1  217.3    0.   489.2  972.  1083.1 1676.9 2537.9]\n",
      " [1891.  1572.3 1403.3  706.5  489.2    0.   482.8  593.8 1187.7 2048.7]\n",
      " [2373.8 2055.1 1886.2 1189.3  972.   482.8    0.   111.   704.9 1565.9]\n",
      " [2484.8 2166.2 1997.2 1300.3 1083.1  593.8  111.     0.   593.8 1454.8]\n",
      " [3078.7 2760.  2591.  1894.2 1676.9 1187.7  704.9  593.8    0.   861. ]\n",
      " [3939.7 3621.  3452.  2755.2 2537.9 2048.7 1565.9 1454.8  861.     0. ]]\n"
     ]
    }
   ],
   "source": [
    "pos_mile = np.array([0, 198, 303, 736, 871, 1175, 1475, 1544, 1913, 2448])\n",
    "\n",
    "dist_grid_mile = np.abs(pos_mile.reshape(len(pos_mile),1) - pos_mile)\n",
    "dist_grid_km = np.around(dist_grid_mile / 0.62137119, decimals=1)\n",
    "print(\"Grid of distances in miles =\\n\", dist_grid_mile)\n",
    "print(\"\\nGrid of distances in km =\\n\", dist_grid_km)"
   ]
  },
  {
   "cell_type": "markdown",
   "metadata": {},
   "source": [
    "7\\. Prime numbers sieve: compute the prime numbers in the 0-N (N=99 to start with) range with a sieve (mask).\n",
    "  * Constract a shape (100,) boolean array, the mask\n",
    "  * Identify the multiples of each number starting from 2 and set accordingly the corresponding mask element\n",
    "  * Apply the mask to obtain an array of ordered prime numbers\n",
    "  * Check the performances (timeit); how does it scale with N?\n",
    "  * Implement the optimization suggested in the [sieve of Eratosthenes](https://en.wikipedia.org/wiki/Sieve_of_Eratosthenes)"
   ]
  },
  {
   "cell_type": "markdown",
   "metadata": {},
   "source": [
    "### Sieve of Eratosthenes"
   ]
  },
  {
   "cell_type": "code",
   "execution_count": 112,
   "metadata": {},
   "outputs": [
    {
     "name": "stdout",
     "output_type": "stream",
     "text": [
      "263 ms ± 7.23 ms per loop (mean ± std. dev. of 7 runs, 1 loop each)\n"
     ]
    }
   ],
   "source": [
    "%%timeit\n",
    "N = 10**6\n",
    "prime_sieve = np.full(N, True)\n",
    "prime_sieve[0] = False\n",
    "prime_sieve[1] = False\n",
    "\n",
    "act_P = 2\n",
    "while(act_P < np.sqrt(N)):\n",
    "    \n",
    "    if prime_sieve[act_P] == True:\n",
    "        j = act_P**2\n",
    "        \n",
    "        while(j < N):\n",
    "            prime_sieve[j] = False\n",
    "            j += act_P\n",
    "    act_P += 1\n",
    "\n",
    "primes = np.arange(N)[prime_sieve]"
   ]
  },
  {
   "cell_type": "markdown",
   "metadata": {},
   "source": [
    "#### Performances of the sieve of Eratosthenes:\n",
    "* (36 ± 1) µs for $N = 10^2$\n",
    "* (2.24 ± 0.05) ms for $N = 10^4$\n",
    "* (263 ± 7) ms for $N = 10^6$\n",
    "\n",
    "**This algorithm scales almost linearly ($\\sim\\displaystyle{O(N)}$) with respect to the input $N$.**"
   ]
  },
  {
   "cell_type": "markdown",
   "metadata": {},
   "source": [
    "8\\. Diffusion using random walk\n",
    "\n",
    "Consider a simple random walk process: at each step in time, a walker jumps right or left (+1 or -1) with equal probability. The goal is to find the typical distance from the origin of a random walker after a given amount of time. \n",
    "To do that, let's simulate many walkers and create a 2D array with each walker as a row and the actual time evolution as columns\n",
    "\n",
    "  * Take 1000 walkers and let them walk for 200 steps\n",
    "  * Use randint to create a 2D array of size walkers x steps with values -1 or 1\n",
    "  * Build the actual walking distances for each walker (i.e. another 2D array \"summing on each raw\")\n",
    "  * Take the square of that 2D array (elementwise)\n",
    "  * Compute the mean of the squared distances at each step (i.e. the mean along the columns)\n",
    "  * Plot the average distances (sqrt(distance\\*\\*2)) as a function of time (step)\n",
    "  \n",
    "Did you get what you expected?"
   ]
  },
  {
   "cell_type": "markdown",
   "metadata": {},
   "source": [
    "**The plot resembles a square-root plot with respect to the time steps. So, yes, I got what I expected.**"
   ]
  },
  {
   "cell_type": "code",
   "execution_count": 176,
   "metadata": {
    "scrolled": true
   },
   "outputs": [
    {
     "data": {
      "image/png": "[encoded data removed]",
      "text/plain": [
       "<Figure size 432x288 with 1 Axes>"
      ]
     },
     "metadata": {
      "needs_background": "light"
     },
     "output_type": "display_data"
    }
   ],
   "source": [
    "# matrix of all the random walks\n",
    "walks = np.random.randint(2, size=(1000,200))*2 - 1\n",
    "\n",
    "# actual walking distance at each time step\n",
    "net_dist = np.cumsum(walks, axis=1)\n",
    "\n",
    "# walking distances squared and averaged on all the walkers\n",
    "mean_squared_dist = np.sum(net_dist**2, axis=0)\n",
    "\n",
    "\n",
    "# plot the average distances w.r.t time steps\n",
    "plt.plot(np.arange(walks.shape[1]), np.sqrt(mean_squared_dist))\n",
    "plt.title(\"Random walk\")\n",
    "plt.xlabel(\"Timesteps\")\n",
    "plt.ylabel(\"Average distance\")\n",
    "plt.show()"
   ]
  },
  {
   "cell_type": "markdown",
   "metadata": {},
   "source": [
    "9\\. Analyze a data file \n",
    "  * Download the population of hares, lynxes and carrots at the beginning of the last century.\n",
    "    ```python\n",
    "    ! wget https://www.dropbox.com/s/3vigxoqayo389uc/populations.txt\n",
    "    ```\n",
    "\n",
    "  * Check the content by looking within the file\n",
    "  * Load the data (use an appropriate numpy method) into a 2D array\n",
    "  * Create arrays out of the columns, the arrays being (in order): *year*, *hares*, *lynxes*, *carrots* \n",
    "  * Plot the 3 populations over the years\n",
    "  * Compute the main statistical properties of the dataset (mean, std, correlations, etc.)\n",
    "  * Which species has the highest population each year?\n",
    "\n",
    "Do you feel there is some evident correlation here? [Studies](https://www.enr.gov.nt.ca/en/services/lynx/lynx-snowshoe-hare-cycle) tend to believe so."
   ]
  },
  {
   "cell_type": "markdown",
   "metadata": {},
   "source": [
    "**It is evident that the population of linxes is high when also the number of hares is high. When there are many hares to prey, the linxes population flourishes. But that increased number of predators decreases the hares population and then also the linxes population decreases after some years. The linxes population follows the hares population with a delay of some years. Carrots have not an effect on those populations.**\n",
    "\n",
    "**The hares have the highest population every year (approximately).**"
   ]
  },
  {
   "cell_type": "code",
   "execution_count": 253,
   "metadata": {},
   "outputs": [
    {
     "name": "stdout",
     "output_type": "stream",
     "text": [
      "Hares over the years = 3.4e+04 ± 2.1e+04\n",
      "Lynxes over the years = 2.0e+04 ± 1.6e+04\n",
      "Carrots over the years = 4.2e+04 ± 3.3e+03\n",
      "\n",
      "Pearson coefficient between hares and lynxes = 0.072\n",
      "Pearson coefficient between hares and carrots = -0.017\n",
      "Pearson coefficient between lynxes and carrots = -0.681\n"
     ]
    },
    {
     "data": {
      "image/png": "[encoded data removed]",
      "text/plain": [
       "<Figure size 432x288 with 1 Axes>"
      ]
     },
     "metadata": {
      "needs_background": "light"
     },
     "output_type": "display_data"
    }
   ],
   "source": [
    "# generate data\n",
    "Data = np.genfromtxt(\"populations.txt\", dtype=float, skip_header=1)\n",
    "\n",
    "year = Data[:,0]\n",
    "hares = Data[:,1]\n",
    "lynxes = Data[:,2]\n",
    "carrots = Data[:,3]\n",
    "\n",
    "\n",
    "# statistical properties\n",
    "hares_mean = np.mean(hares)\n",
    "hares_std = np.std(hares)\n",
    "print(\"Hares over the years = %5.1e ± %5.1e\" % (np.around(hares_mean),np.around(hares_std)))\n",
    "\n",
    "lynxes_mean = np.mean(lynxes)\n",
    "lynxes_std = np.std(lynxes)\n",
    "print(\"Lynxes over the years = %5.1e ± %5.1e\" % (np.around(lynxes_mean),np.around(lynxes_std)))\n",
    "\n",
    "carrots_mean = np.mean(carrots)\n",
    "carrots_std = np.std(carrots)\n",
    "print(\"Carrots over the years = %5.1e ± %5.1e\" % (np.around(carrots_mean),np.around(carrots_std)))\n",
    "\n",
    "corrcoeffs = np.corrcoef([hares, lynxes, carrots])\n",
    "print(\"\\nPearson coefficient between hares and lynxes = %0.3f\" % corrcoeffs[0][1])\n",
    "print(\"Pearson coefficient between hares and carrots = %0.3f\" % corrcoeffs[0][2])\n",
    "print(\"Pearson coefficient between lynxes and carrots = %0.3f\" % corrcoeffs[1][2])\n",
    "\n",
    "\n",
    "# plot\n",
    "plt.plot(year, hares, label=\"hares\")\n",
    "plt.plot(year, lynxes, label=\"lynxes\")\n",
    "plt.plot(year, carrots, label=\"carrots\")\n",
    "plt.xlabel(\"year\")\n",
    "plt.ylabel(\"population\")\n",
    "plt.title(\"Populations over the years\")\n",
    "plt.legend()\n",
    "plt.show()"
   ]
  },
  {
   "cell_type": "code",
   "execution_count": null,
   "metadata": {},
   "outputs": [],
   "source": []
  }
 ],
 "metadata": {
  "kernelspec": {
   "display_name": "Python 3 (ipykernel)",
   "language": "python",
   "name": "python3"
  },
  "language_info": {
   "codemirror_mode": {
    "name": "ipython",
    "version": 3
   },
   "file_extension": ".py",
   "mimetype": "text/x-python",
   "name": "python",
   "nbconvert_exporter": "python",
   "pygments_lexer": "ipython3",
   "version": "3.8.12"
  }
 },
 "nbformat": 4,
 "nbformat_minor": 2
}
