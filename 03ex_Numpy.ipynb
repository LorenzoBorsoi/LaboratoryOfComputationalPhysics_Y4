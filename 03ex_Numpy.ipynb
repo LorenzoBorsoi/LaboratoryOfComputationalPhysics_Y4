{
 "cells": [
  {
   "cell_type": "markdown",
   "metadata": {},
   "source": [
    "### Numpy basics"
   ]
  },
  {
   "cell_type": "markdown",
   "metadata": {},
   "source": [
    "1\\. Find the row, column and overall means for the following matrix:\n",
    "\n",
    "```python\n",
    "m = np.arange(12).reshape((3,4))\n",
    "```"
   ]
  },
  {
   "cell_type": "code",
   "execution_count": 2,
   "metadata": {},
   "outputs": [
    {
     "name": "stdout",
     "output_type": "stream",
     "text": [
      "Matrix is : \n",
      " [[ 0  1  2  3]\n",
      " [ 4  5  6  7]\n",
      " [ 8  9 10 11]]\n",
      "The overall mean is:  5.5\n",
      "The column mean is :  [1.5 5.5 9.5]\n",
      "The row mean is:  [4. 5. 6. 7.]\n"
     ]
    }
   ],
   "source": [
    "import numpy as np\n",
    "m = np.arange(12).reshape((3,4))\n",
    "\n",
    "print(\"Matrix is : \\n\", m)\n",
    "print(\"The overall mean is: \", np.mean(m))\n",
    "print(\"The column mean is : \", m.mean(1))\n",
    "print(\"The row mean is: \", m.mean(0))"
   ]
  },
  {
   "cell_type": "markdown",
   "metadata": {},
   "source": [
    "2\\. Find the outer product of the following two vecotrs\n",
    "\n",
    "```python\n",
    "u = np.array([1,3,5,7])\n",
    "v = np.array([2,4,6,8])\n",
    "```\n",
    "\n",
    "Do this in the following ways:\n",
    "\n",
    "   * Using the function outer in numpy\n",
    "   * Using a nested for loop or list comprehension\n",
    "   * Using numpy broadcasting operatoins\n"
   ]
  },
  {
   "cell_type": "code",
   "execution_count": 3,
   "metadata": {},
   "outputs": [
    {
     "name": "stdout",
     "output_type": "stream",
     "text": [
      "u vector: [1 3 5 7] \n",
      "v vector: [2 4 6 8]\n",
      "\n",
      "The outer product of u and v is: \n",
      "\n",
      "\n",
      "Using the function outer in numpy: \n",
      " [[ 2  4  6  8]\n",
      " [ 6 12 18 24]\n",
      " [10 20 30 40]\n",
      " [14 28 42 56]]\n",
      "Using a nested for loop or list comprehension: \n",
      " [[ 2  4  6  8]\n",
      " [ 6 12 18 24]\n",
      " [10 20 30 40]\n",
      " [14 28 42 56]]\n",
      "Using numpy broadcasting operatoins: \n",
      " [[ 2  4  6  8]\n",
      " [ 6 12 18 24]\n",
      " [10 20 30 40]\n",
      " [14 28 42 56]]\n"
     ]
    }
   ],
   "source": [
    "u = np.array([1,3,5,7])\n",
    "v = np.array([2,4,6,8])\n",
    "\n",
    "print(\"u vector:\",u,\"\\nv vector:\",v)\n",
    "\n",
    "#Using the function outer in numpy\n",
    "print(\"\\nThe outer product of u and v is: \\n\")\n",
    "print(\"\\nUsing the function outer in numpy: \\n\", np.outer(u,v))\n",
    "\n",
    "#Using a nested for loop or list comprehension\n",
    "array = np.array([[(i*j) for i in v] for j in u])\n",
    "print(\"Using a nested for loop or list comprehension: \\n\",array)\n",
    "\n",
    "#Using numpy broadcasting operatoins\n",
    "print(\"Using numpy broadcasting operatoins: \\n\", u[:, np.newaxis] * v)"
   ]
  },
  {
   "cell_type": "markdown",
   "metadata": {},
   "source": [
    "3\\. Create a 10 by 6 matrix of random uniform numbers. Set all rows with any entry less than 0.1 to be zero\n",
    "\n",
    "Hint: Use the following numpy functions - np.random.random, np.any as well as Boolean indexing and the axis argument."
   ]
  },
  {
   "cell_type": "code",
   "execution_count": 4,
   "metadata": {},
   "outputs": [
    {
     "name": "stdout",
     "output_type": "stream",
     "text": [
      "[[0.76500837 0.41595532 0.19612387 0.23191803 0.49394297 0.50974759]\n",
      " [0.         0.         0.         0.         0.         0.        ]\n",
      " [0.         0.         0.         0.         0.         0.        ]\n",
      " [0.68806753 0.85634059 0.64602086 0.85935131 0.31473544 0.37797726]\n",
      " [0.         0.         0.         0.         0.         0.        ]\n",
      " [0.56177787 0.59294829 0.49054657 0.80761253 0.3306216  0.55729495]\n",
      " [0.84974514 0.52267233 0.14008126 0.5512903  0.54541838 0.64849808]\n",
      " [0.11560353 0.42981547 0.65517088 0.77896625 0.89610169 0.81087776]\n",
      " [0.96519429 0.89014734 0.2522294  0.50297045 0.7659727  0.54829926]\n",
      " [0.         0.         0.         0.         0.         0.        ]]\n"
     ]
    }
   ],
   "source": [
    "#Create a 10 by 6 matrix of random uniform numbers\n",
    "matrix = np.random.random((10,6))\n",
    "#Set all rows with any entry less than 0.1 to be zero\n",
    "matrix[(matrix < 0.1).any(axis=1), :] = 0\n",
    "print(matrix)"
   ]
  },
  {
   "cell_type": "markdown",
   "metadata": {},
   "source": [
    "4\\. Use np.linspace to create an array of 100 numbers between 0 and 2π (includsive).\n",
    "\n",
    "  * Extract every 10th element using slice notation\n",
    "  * Reverse the array using slice notation\n",
    "  * Extract elements where the absolute difference between the sine and cosine functions evaluated at that element is less than 0.1\n",
    "  * Make a plot showing the sin and cos functions and indicate where they are close"
   ]
  },
  {
   "cell_type": "code",
   "execution_count": 5,
   "metadata": {},
   "outputs": [
    {
     "name": "stdout",
     "output_type": "stream",
     "text": [
      "Every 10th element:\n",
      " [0.         1.28228272 2.56456543 3.84684815 5.12913086]\n",
      "Reverse array:\n",
      " [6.28318531 6.15495704 6.02672876 5.89850049 5.77027222 5.64204395\n",
      " 5.51381568 5.38558741 5.25735913 5.12913086 5.00090259 4.87267432\n",
      " 4.74444605 4.61621778 4.48798951 4.35976123 4.23153296 4.10330469\n",
      " 3.97507642 3.84684815 3.71861988 3.5903916  3.46216333 3.33393506\n",
      " 3.20570679 3.07747852 2.94925025 2.82102197 2.6927937  2.56456543\n",
      " 2.43633716 2.30810889 2.17988062 2.05165235 1.92342407 1.7951958\n",
      " 1.66696753 1.53873926 1.41051099 1.28228272 1.15405444 1.02582617\n",
      " 0.8975979  0.76936963 0.64114136 0.51291309 0.38468481 0.25645654\n",
      " 0.12822827 0.        ]\n",
      "Position:\n",
      " [0.76936963 3.97507642]\n"
     ]
    },
    {
     "data": {
      "text/plain": [
       "[<matplotlib.lines.Line2D at 0x1904dc8bc08>,\n",
       " <matplotlib.lines.Line2D at 0x1904b824c88>]"
      ]
     },
     "execution_count": 5,
     "metadata": {},
     "output_type": "execute_result"
    }
   ],
   "source": [
    "import math\n",
    "import matplotlib.pyplot as plt\n",
    "#Use np.linspace to create an array of 100 numbers between 0 and 2π\n",
    "number = np.linspace(0,2*math.pi)\n",
    "#Extract every 10th element using slice notation\n",
    "print(\"Every 10th element:\\n\", number[::10])\n",
    "#Reverse the array using slice notation\n",
    "print(\"Reverse array:\\n\",number[::-1])\n",
    "#Extract elements where the absolute difference between the sine and cosine functions evaluated at that element is less than 0.1\n",
    "position = np.abs(np.sin(number)-np.cos(number)) < 0.1\n",
    "#print(position)\n",
    "print(\"Position:\\n\",number[position])\n",
    "#Make a plot showing the sin and cos functions and indicate where they are close\n",
    "plt.scatter(number[position], np.sin(number[position]))\n",
    "plt.plot(number, np.sin(number), number, np.cos(number))"
   ]
  },
  {
   "cell_type": "markdown",
   "metadata": {},
   "source": [
    "5\\. Create a matrix that shows the 10 by 10 multiplication table.\n",
    "\n",
    " * Find the trace of the matrix\n",
    " * Extract the anto-diagonal (this should be ```array([10, 18, 24, 28, 30, 30, 28, 24, 18, 10])```)\n",
    " * Extract the diagnoal offset by 1 upwards (this should be ```array([ 2,  6, 12, 20, 30, 42, 56, 72, 90])```)"
   ]
  },
  {
   "cell_type": "code",
   "execution_count": 6,
   "metadata": {},
   "outputs": [
    {
     "name": "stdout",
     "output_type": "stream",
     "text": [
      "10 by 10 multiplication table:\n",
      " [[  1   2   3   4   5   6   7   8   9  10]\n",
      " [  2   4   6   8  10  12  14  16  18  20]\n",
      " [  3   6   9  12  15  18  21  24  27  30]\n",
      " [  4   8  12  16  20  24  28  32  36  40]\n",
      " [  5  10  15  20  25  30  35  40  45  50]\n",
      " [  6  12  18  24  30  36  42  48  54  60]\n",
      " [  7  14  21  28  35  42  49  56  63  70]\n",
      " [  8  16  24  32  40  48  56  64  72  80]\n",
      " [  9  18  27  36  45  54  63  72  81  90]\n",
      " [ 10  20  30  40  50  60  70  80  90 100]]\n",
      "Trace:  385\n",
      "The anto-diagonal:\n",
      " [10 18 24 28 30 30 28 24 18 10]\n",
      "The diagnoal offset by 1 upwards:\n",
      " [ 2  6 12 20 30 42 56 72 90]\n"
     ]
    }
   ],
   "source": [
    "#Create a matrix that shows the 10 by 10 multiplication table\n",
    "matrix = np.arange(1,11)\n",
    "#print(matrix)\n",
    "multiplication = np.outer(matrix,matrix)\n",
    "print(\"10 by 10 multiplication table:\\n\", multiplication)\n",
    "#Find the trace of the matrix\n",
    "print(\"Trace: \", multiplication.trace())\n",
    "#Extract the anto-diagonal\n",
    "print(\"The anto-diagonal:\\n\", np.fliplr(multiplication).diagonal())\n",
    "#Extract the diagnoal offset by 1 upwards\n",
    "print(\"The diagnoal offset by 1 upwards:\\n\", multiplication.diagonal(offset=1))"
   ]
  },
  {
   "cell_type": "markdown",
   "metadata": {},
   "source": [
    "6\\. Use broadcasting to create a grid of distances\n",
    "\n",
    "Route 66 crosses the following cities in the US: Chicago, Springfield, Saint-Louis, Tulsa, Oklahoma City, Amarillo, Santa Fe, Albuquerque, Flagstaff, Los Angeles\n",
    "The corresponding positions in miles are: 0, 198, 303, 736, 871, 1175, 1475, 1544, 1913, 2448\n",
    "\n",
    "  * Construct a 2D grid of distances among each city along Route 66\n",
    "  * Convert that in km (those savages...)"
   ]
  },
  {
   "cell_type": "code",
   "execution_count": 7,
   "metadata": {},
   "outputs": [
    {
     "name": "stdout",
     "output_type": "stream",
     "text": [
      "2D grid of distances among each city along Route 66:\n",
      "\n",
      " [[   0  198  303  736  871 1175 1475 1544 1913 2448]\n",
      " [ 198    0  105  538  673  977 1277 1346 1715 2250]\n",
      " [ 303  105    0  433  568  872 1172 1241 1610 2145]\n",
      " [ 736  538  433    0  135  439  739  808 1177 1712]\n",
      " [ 871  673  568  135    0  304  604  673 1042 1577]\n",
      " [1175  977  872  439  304    0  300  369  738 1273]\n",
      " [1475 1277 1172  739  604  300    0   69  438  973]\n",
      " [1544 1346 1241  808  673  369   69    0  369  904]\n",
      " [1913 1715 1610 1177 1042  738  438  369    0  535]\n",
      " [2448 2250 2145 1712 1577 1273  973  904  535    0]]\n",
      "\n",
      "Distance in km: \n",
      "\n",
      " [[   0.   316.8  484.8 1177.6 1393.6 1880.  2360.  2470.4 3060.8 3916.8]\n",
      " [ 316.8    0.   168.   860.8 1076.8 1563.2 2043.2 2153.6 2744.  3600. ]\n",
      " [ 484.8  168.     0.   692.8  908.8 1395.2 1875.2 1985.6 2576.  3432. ]\n",
      " [1177.6  860.8  692.8    0.   216.   702.4 1182.4 1292.8 1883.2 2739.2]\n",
      " [1393.6 1076.8  908.8  216.     0.   486.4  966.4 1076.8 1667.2 2523.2]\n",
      " [1880.  1563.2 1395.2  702.4  486.4    0.   480.   590.4 1180.8 2036.8]\n",
      " [2360.  2043.2 1875.2 1182.4  966.4  480.     0.   110.4  700.8 1556.8]\n",
      " [2470.4 2153.6 1985.6 1292.8 1076.8  590.4  110.4    0.   590.4 1446.4]\n",
      " [3060.8 2744.  2576.  1883.2 1667.2 1180.8  700.8  590.4    0.   856. ]\n",
      " [3916.8 3600.  3432.  2739.2 2523.2 2036.8 1556.8 1446.4  856.     0. ]]\n"
     ]
    }
   ],
   "source": [
    "position = np.array([0, 198, 303, 736, 871, 1175, 1475, 1544, 1913, 2448])\n",
    "distance = np.abs(position - position[:, np.newaxis])\n",
    "print(\"2D grid of distances among each city along Route 66:\\n\\n\", distance)\n",
    "converter = 1.6#09344\n",
    "km_dist = distance * converter\n",
    "print(\"\\nDistance in km: \\n\\n\", km_dist)"
   ]
  },
  {
   "cell_type": "markdown",
   "metadata": {},
   "source": [
    "7\\. Prime numbers sieve: compute the prime numbers in the 0-N (N=99 to start with) range with a sieve (mask).\n",
    "  * Constract a shape (100,) boolean array, the mask\n",
    "  * Identify the multiples of each number starting from 2 and set accordingly the corresponding mask element\n",
    "  * Apply the mask to obtain an array of ordered prime numbers\n",
    "  * Check the performances (timeit); how does it scale with N?\n",
    "  * Implement the optimization suggested in the [sieve of Eratosthenes](https://en.wikipedia.org/wiki/Sieve_of_Eratosthenes)"
   ]
  },
  {
   "cell_type": "code",
   "execution_count": 71,
   "metadata": {},
   "outputs": [
    {
     "data": {
      "text/plain": [
       "array([ 2,  3,  5,  7, 11, 13, 17, 19, 23, 29, 31, 37, 41, 43, 47, 53, 59,\n",
       "       61, 67, 71, 73, 79, 83, 89, 97])"
      ]
     },
     "execution_count": 71,
     "metadata": {},
     "output_type": "execute_result"
    }
   ],
   "source": [
    "def prime_sieve(N):\n",
    "    #Constract a shape (100,) boolean array, the mask\n",
    "    num_range = np.arange(N)\n",
    "    bool_arr = np.array(N*[True])\n",
    "    #print(bool_arr)\n",
    "    #Identify the multiples of each number starting from 2 and set accordingly the corresponding mask element\n",
    "    #Apply the mask to obtain an array of ordered prime numbers\n",
    "    for i in range(2, N):\n",
    "        for j in range(2, int(i ** 0.5) + 1):\n",
    "            if i%j == 0:\n",
    "                bool_arr[i]=False\n",
    "                break\n",
    "\n",
    "    filtered = num_range[bool_arr]\n",
    "    filtered = np.delete(filtered, [0,1])\n",
    "    #print (\"The prime numbers:\", filtered,'\\n')\n",
    "    return filtered\n",
    "\n",
    "prime_sieve(99)\n"
   ]
  },
  {
   "cell_type": "code",
   "execution_count": 70,
   "metadata": {},
   "outputs": [
    {
     "name": "stdout",
     "output_type": "stream",
     "text": [
      "67.3 µs ± 1.06 µs per loop (mean ± std. dev. of 7 runs, 10000 loops each)\n",
      "82.3 µs ± 672 ns per loop (mean ± std. dev. of 7 runs, 10000 loops each)\n",
      "130 µs ± 723 ns per loop (mean ± std. dev. of 7 runs, 10000 loops each)\n",
      "214 µs ± 7.11 µs per loop (mean ± std. dev. of 7 runs, 1000 loops each)\n",
      "386 µs ± 6.02 µs per loop (mean ± std. dev. of 7 runs, 1000 loops each)\n",
      "929 µs ± 7.38 µs per loop (mean ± std. dev. of 7 runs, 1000 loops each)\n"
     ]
    }
   ],
   "source": [
    "#Check the performances (timeit); how does it scale with N?\n",
    "%timeit prime_sieve(10)    \n",
    "%timeit prime_sieve(20)    \n",
    "%timeit prime_sieve(50)\n",
    "%timeit prime_sieve(100)    \n",
    "%timeit prime_sieve(200)    \n",
    "%timeit prime_sieve(500)"
   ]
  },
  {
   "cell_type": "markdown",
   "metadata": {},
   "source": [
    "Time increase linearly w.r.t the range number N. \n",
    "In particular the ratio between the next and the previous one decreases by a factor of two. "
   ]
  },
  {
   "cell_type": "code",
   "execution_count": 79,
   "metadata": {},
   "outputs": [
    {
     "name": "stdout",
     "output_type": "stream",
     "text": [
      "[ 2  3  5  7 11 13 17 19 23 29 31 37 41 43 47 53 59 61 67 71 73 79 83 89\n",
      " 97]\n",
      "101 µs ± 9.96 µs per loop (mean ± std. dev. of 7 runs, 10000 loops each)\n",
      "131 µs ± 12.3 µs per loop (mean ± std. dev. of 7 runs, 10000 loops each)\n",
      "247 µs ± 6.24 µs per loop (mean ± std. dev. of 7 runs, 1000 loops each)\n",
      "516 µs ± 7.12 µs per loop (mean ± std. dev. of 7 runs, 1000 loops each)\n",
      "1.32 ms ± 8.58 µs per loop (mean ± std. dev. of 7 runs, 1000 loops each)\n",
      "4.18 ms ± 109 µs per loop (mean ± std. dev. of 7 runs, 100 loops each)\n"
     ]
    }
   ],
   "source": [
    "#Implement the optimization suggested in the sieve of Eratosthenes\n",
    "def Eratosthenes(N):\n",
    "    \n",
    "    num_range = np.arange(N)\n",
    "    bool_arr = np.array(N*[True])\n",
    "    \n",
    "    for i in np.arange(2,int(np.sqrt(N))):\n",
    "        if bool_arr[i]==True:\n",
    "            J = [(pow(i,2) + (k*(i))) for k in range(N)]\n",
    "            for j in J:\n",
    "                if j<N:\n",
    "                    bool_arr[j]=False\n",
    "                    \n",
    "    filtered = num_range[bool_arr]\n",
    "    filtered = np.delete(filtered, [0,1])\n",
    "    return(filtered)\n",
    "print(Eratosthenes(99))\n",
    "\n",
    "\n",
    "%timeit Eratosthenes(10)    \n",
    "%timeit Eratosthenes(20)    \n",
    "%timeit Eratosthenes(50)    \n",
    "%timeit Eratosthenes(100)    \n",
    "%timeit Eratosthenes(200)\n",
    "%timeit Eratosthenes(500)"
   ]
  },
  {
   "cell_type": "markdown",
   "metadata": {},
   "source": [
    "**N.B. the following exercises are meant to be solved only if you are familiar with the numpy random library. If not you can skip them (postponed for one of the next exercise sessions)**\n"
   ]
  },
  {
   "cell_type": "markdown",
   "metadata": {},
   "source": [
    "8\\. Diffusion using random walk\n",
    "\n",
    "Consider a simple random walk process: at each step in time, a walker jumps right or left (+1 or -1) with equal probability. The goal is to find the typical distance from the origin of a random walker after a given amount of time. \n",
    "To do that, let's simulate many walkers and create a 2D array with each walker as a raw and the actual time evolution as columns\n",
    "\n",
    "  * Take 1000 walkers and let them walk for 200 steps\n",
    "  * Use randint to create a 2D array of size walkers x steps with values -1 or 1\n",
    "  * Build the actual walking distances for each walker (i.e. another 2D array \"summing on each raw\")\n",
    "  * Take the square of that 2D array (elementwise)\n",
    "  * Compute the mean of the squared distances at each step (i.e. the mean along the columns)\n",
    "  * Plot the average distances (sqrt(distance\\*\\*2)) as a function of time (step)\n",
    "  \n",
    "Did you get what you expected?"
   ]
  },
  {
   "cell_type": "code",
   "execution_count": 42,
   "metadata": {},
   "outputs": [
    {
     "name": "stdout",
     "output_type": "stream",
     "text": [
      "mean_squared\n",
      " [  0.      1.      2.      3.008   3.956   4.992   6.148   7.44    8.38\n",
      "   9.288  10.368  11.376  12.8    13.896  14.548  15.72   16.312  17.632\n",
      "  18.292  19.504  21.024  21.952  22.58   23.848  24.888  26.     27.084\n",
      "  28.552  29.208  30.616  31.476  32.36   33.548  34.832  35.176  36.016\n",
      "  36.668  37.56   39.132  39.664  40.944  42.48   43.7    44.392  46.44\n",
      "  47.304  48.528  48.968  49.72   50.64   51.504  52.112  53.564  54.64\n",
      "  55.7    56.216  57.376  58.312  59.484  60.936  61.472  63.512  64.764\n",
      "  66.256  66.796  68.024  69.24   69.712  71.36   72.936  73.988  75.672\n",
      "  76.268  77.76   79.304  80.336  81.36   82.536  83.764  84.936  86.376\n",
      "  87.624  89.064  90.384  92.72   94.384  95.516  96.96   98.256  98.576\n",
      " 100.524 101.576 102.988 103.936 104.048 104.144 104.888 106.544 106.256\n",
      " 107.896 109.552 109.864 111.9   112.48  112.508 112.84  113.684 116.376\n",
      " 116.864 118.408 119.332 119.928 122.196 122.432 125.424 125.728 125.616\n",
      " 126.728 128.36  129.168 130.688 132.616 132.656 133.528 135.544 136.136\n",
      " 137.284 138.4   139.588 141.528 143.244 143.984 145.74  146.616 145.82\n",
      " 145.496 146.72  147.384 149.368 149.448 149.2   150.92  153.576 153.832\n",
      " 154.108 155.432 156.484 157.576 158.74  159.624 160.608 159.768 160.504\n",
      " 160.656 160.456 162.72  165.424 167.616 169.156 170.96  172.124 172.72\n",
      " 173.616 175.336 177.804 177.024 178.056 178.584 179.764 182.256 183.504\n",
      " 183.96  185.476 186.792 187.184 187.896 189.44  189.616 191.98  192.424\n",
      " 194.4   195.056 196.04  197.632 198.316 198.392 200.28  200.104 201.94\n",
      " 200.952 201.74  202.68  203.356 204.008 204.26  205.984 207.244 209.264\n",
      " 210.732 211.984 214.272] \n",
      "\n"
     ]
    },
    {
     "data": {
      "text/plain": [
       "<function matplotlib.pyplot.show(*args, **kw)>"
      ]
     },
     "execution_count": 42,
     "metadata": {},
     "output_type": "execute_result"
    },
    {
     "data": {
      "image/png": "[encoded data removed]",
      "text/plain": [
       "<Figure size 432x288 with 1 Axes>"
      ]
     },
     "metadata": {
      "needs_background": "light"
     },
     "output_type": "display_data"
    }
   ],
   "source": [
    "import numpy as np\n",
    "num_step = 200\n",
    "num_walker = 1000\n",
    "step = [-1,1]\n",
    "origin = np.zeros((1,num_walker))\n",
    "#print(origin)\n",
    "\n",
    "#Take 1000 walkers and let them walk for 200 steps\n",
    "step_shape = (num_step,num_walker)\n",
    "#print(step_shape)\n",
    "#Use randint(start,end) to create a 2D array of size walkers x steps with values -1 or 1\n",
    "steps = np.random.choice(step,step_shape)\n",
    "#print(steps)\n",
    "#Build the actual walking distances for each walker (i.e. another 2D array \"summing on each raw\")\n",
    "walk_dist = np.concatenate([origin, steps]).cumsum(0)\n",
    "#print(walk_dist)\n",
    "#dists = pow(walk_dist,2)\n",
    "dists = np.square(walk_dist)\n",
    "means = np.mean(dists,axis=1)\n",
    "print(\"mean_squared\\n\", means,'\\n')\n",
    "\n",
    "#Plot the average distances (sqrt(distance**2)) as a function of time (step)\n",
    "%matplotlib inline \n",
    "avg_dist = np.sqrt(means)\n",
    "steps = range(201)\n",
    "plt.plot(steps,avg_dist)\n",
    "plt.show"
   ]
  },
  {
   "cell_type": "markdown",
   "metadata": {},
   "source": [
    "The average distance in a random walk goes like the square root of the number of steps."
   ]
  },
  {
   "cell_type": "markdown",
   "metadata": {},
   "source": [
    "9\\. Analyze a data file \n",
    "  * Download the population of hares, lynxes and carrots at the beginning of the last century.\n",
    "    ```python\n",
    "    ! wget https://www.dropbox.com/s/3vigxoqayo389uc/populations.txt\n",
    "    ```\n",
    "\n",
    "  * Check the content by looking within the file\n",
    "  * Load the data (use an appropriate numpy method) into a 2D array\n",
    "  * Create arrays out of the columns, the arrays being (in order): *year*, *hares*, *lynxes*, *carrots* \n",
    "  * Plot the 3 populations over the years\n",
    "  * Compute the main statistical properties of the dataset (mean, std, correlations, etc.)\n",
    "  * Which species has the highest population each year?\n",
    "\n",
    "Do you feel there is some evident correlation here? [Studies](https://www.enr.gov.nt.ca/en/services/lynx/lynx-snowshoe-hare-cycle) tend to believe so."
   ]
  },
  {
   "cell_type": "code",
   "execution_count": 73,
   "metadata": {
    "scrolled": true
   },
   "outputs": [
    {
     "name": "stdout",
     "output_type": "stream",
     "text": [
      "# year\thare\tlynx\tcarrot\n",
      "1900\t30e3\t4e3\t48300\n",
      "1901\t47.2e3\t6.1e3\t48200\n",
      "1902\t70.2e3\t9.8e3\t41500\n",
      "1903\t77.4e3\t35.2e3\t38200\n",
      "1904\t36.3e3\t59.4e3\t40600\n",
      "1905\t20.6e3\t41.7e3\t39800\n",
      "1906\t18.1e3\t19e3\t38600\n",
      "1907\t21.4e3\t13e3\t42300\n",
      "1908\t22e3\t8.3e3\t44500\n",
      "\n",
      " Mean (hares, lynxs, carrots): [34080.952 20166.667 42400.   ]\n",
      "\n",
      "Std (hares, lynxs, carrots): [20897.906 16254.592  3322.506] \n",
      "\n",
      "Correlation coeff between year and hares :\n",
      " [[ 1.         -0.38917662]\n",
      " [-0.38917662  1.        ]]\n",
      "Correlation coeff between year and lynxs :\n",
      " [[ 1.         -0.02544806]\n",
      " [-0.02544806  1.        ]]\n",
      "Correlation coeff between year and carrots :\n",
      " [[ 1.         -0.13633321]\n",
      " [-0.13633321  1.        ]]\n",
      "Correlation coeff between carrots and hares :\n",
      " [[ 1.         -0.01660378]\n",
      " [-0.01660378  1.        ]]\n",
      "Correlation coeff between carrots and lynxs :\n",
      " [[ 1.         -0.68057717]\n",
      " [-0.68057717  1.        ]]\n",
      "Correlation coeff between lynxs and hares :\n",
      " [[1.         0.07189206]\n",
      " [0.07189206 1.        ]]\n",
      "\n",
      "Highest population each year:\n",
      "\n",
      "[(1900.0, 'carrots'), (1901.0, 'carrots'), (1902.0, 'hares'), (1903.0, 'hares'), (1904.0, 'lynxs'), (1905.0, 'lynxs'), (1906.0, 'carrots'), (1907.0, 'carrots'), (1908.0, 'carrots'), (1909.0, 'carrots'), (1910.0, 'carrots'), (1911.0, 'carrots'), (1912.0, 'hares'), (1913.0, 'hares'), (1914.0, 'hares'), (1915.0, 'lynxs'), (1916.0, 'carrots'), (1917.0, 'carrots'), (1918.0, 'carrots'), (1919.0, 'carrots'), (1920.0, 'carrots')]\n"
     ]
    },
    {
     "data": {
      "image/png": "[encoded data removed]",
      "text/plain": [
       "<Figure size 432x288 with 1 Axes>"
      ]
     },
     "metadata": {
      "needs_background": "light"
     },
     "output_type": "display_data"
    }
   ],
   "source": [
    "#Check the content by looking within the file\n",
    "! head -n 10 populations.txt\n",
    "\n",
    "#Load the data (use an appropriate numpy method) into a 2D array\n",
    "data=np.loadtxt('populations.txt')\n",
    "#print(data)\n",
    "\n",
    "#Create arrays out of the columns, the arrays being (in order): year, hares, lynxes, carrots\n",
    "populations = data[:, 1:]\n",
    "year, hares, lynxs, carrots = data.T\n",
    "\n",
    "#Plot the 3 populations over the years\n",
    "plt.plot(year, lynxs, 'r', year, carrots, 'b', year, hares, 'y')\n",
    "plt.legend(['lynxs', 'carrots', 'hares'])\n",
    "\n",
    "print(\"\\n Mean (hares, lynxs, carrots):\", np.round(populations.mean(axis=0),3))\n",
    "print(\"\\nStd (hares, lynxs, carrots):\", np.round(populations.std(axis=0),3), \"\\n\")\n",
    "\n",
    "#Correlation\n",
    "print(\"Correlation coeff between year and hares :\\n\" ,np.corrcoef(year, hares))\n",
    "print(\"Correlation coeff between year and lynxs :\\n\" ,np.corrcoef(year, lynxs))\n",
    "print(\"Correlation coeff between year and carrots :\\n\" ,np.corrcoef(year, carrots))\n",
    "print(\"Correlation coeff between carrots and hares :\\n\" ,np.corrcoef(carrots, hares))\n",
    "print(\"Correlation coeff between carrots and lynxs :\\n\" ,np.corrcoef(carrots, lynxs))\n",
    "print(\"Correlation coeff between lynxs and hares :\\n\" ,np.corrcoef(lynxs, hares))\n",
    "\n",
    "#Which species has the highest population each year?\n",
    "print(\"\\nHighest population each year:\\n\")\n",
    "species = ['hares', 'lynxs', 'carrots']\n",
    "a = list(zip(year, np.take(species, np.argmax(populations, axis=1))))\n",
    "print(a)\n",
    "\n"
   ]
  },
  {
   "cell_type": "markdown",
   "metadata": {},
   "source": [
    "There is a recursion in the maxima: carrots,hares and lynxs. As the number of hares increases, i.e. a greater number of prey, there is a subsequent increase in the number of predators, i.e. lynxes. Thus, the number of hares will decrease and, due to lack of food, the lynxes will also decrease thereafter."
   ]
  }
 ],
 "metadata": {
  "kernelspec": {
   "display_name": "Python 3 (ipykernel)",
   "language": "python",
   "name": "python3"
  },
  "language_info": {
   "codemirror_mode": {
    "name": "ipython",
    "version": 3
   },
   "file_extension": ".py",
   "mimetype": "text/x-python",
   "name": "python",
   "nbconvert_exporter": "python",
   "pygments_lexer": "ipython3",
   "version": "3.8.10"
  }
 },
 "nbformat": 4,
 "nbformat_minor": 2
}
