{
 "cells": [
  {
   "cell_type": "markdown",
   "metadata": {},
   "source": [
    "### Numpy basics"
   ]
  },
  {
   "cell_type": "code",
   "execution_count": 7,
   "metadata": {},
   "outputs": [],
   "source": [
    "import numpy as np\n",
    "import math as m\n",
    "import matplotlib.pyplot as plt"
   ]
  },
  {
   "cell_type": "markdown",
   "metadata": {},
   "source": [
    "1\\. Find the row, column and overall means for the following matrix:\n",
    "\n",
    "```python\n",
    "m = np.arange(12).reshape((3,4))\n",
    "```"
   ]
  },
  {
   "cell_type": "code",
   "execution_count": 3,
   "metadata": {},
   "outputs": [
    {
     "name": "stdout",
     "output_type": "stream",
     "text": [
      "Matrix:\n",
      " [[ 0  1  2  3]\n",
      " [ 4  5  6  7]\n",
      " [ 8  9 10 11]]\n",
      "\n",
      "Row means: [1.5 5.5 9.5]\n",
      "\n",
      "Column means: [4. 5. 6. 7.]\n",
      "\n",
      "Overall means: 5.5\n"
     ]
    }
   ],
   "source": [
    "m = np.arange(12).reshape((3,4))\n",
    "\n",
    "print('Matrix:\\n', m)\n",
    "\n",
    "mrow_means = m.mean(axis=1)\n",
    "mcolumn_means = m.mean(axis=0)\n",
    "m_means = m.mean()\n",
    "print('\\nRow means:', mrow_means)\n",
    "print('\\nColumn means:', mcolumn_means)\n",
    "print('\\nOverall means:', m_means)\n"
   ]
  },
  {
   "cell_type": "markdown",
   "metadata": {},
   "source": [
    "2\\. Find the outer product of the following two vecotrs\n",
    "\n",
    "```python\n",
    "u = np.array([1,3,5,7])\n",
    "v = np.array([2,4,6,8])\n",
    "```\n",
    "\n",
    "Do this in the following ways:\n",
    "\n",
    "   * Using the function outer in numpy\n",
    "   * Using a nested for loop or list comprehension\n",
    "   * Using numpy broadcasting operatoins\n"
   ]
  },
  {
   "cell_type": "code",
   "execution_count": 4,
   "metadata": {},
   "outputs": [
    {
     "name": "stdout",
     "output_type": "stream",
     "text": [
      "Outer product using numpy:\n",
      " [[ 2  4  6  8]\n",
      " [ 6 12 18 24]\n",
      " [10 20 30 40]\n",
      " [14 28 42 56]]\n",
      "Outer product using a nested for loop:\n",
      " [[ 2  4  6  8]\n",
      " [ 6 12 18 24]\n",
      " [10 20 30 40]\n",
      " [14 28 42 56]]\n",
      "Outer product using broadcasting:\n",
      " [[ 2  4  6  8]\n",
      " [ 6 12 18 24]\n",
      " [10 20 30 40]\n",
      " [14 28 42 56]]\n"
     ]
    }
   ],
   "source": [
    "def outer_product(a, b):\n",
    "            \n",
    "    outer_pr = np.array([[j*i for i in b] for j in a])\n",
    "    return outer_pr\n",
    "\n",
    "u = np.array([1,3,5,7])\n",
    "v = np.array([2,4,6,8])\n",
    "\n",
    "outer_np = np.outer(u, v)\n",
    "print('Outer product using numpy:\\n', outer_np)\n",
    "\n",
    "outer_forloop = outer_product(u, v)\n",
    "print('Outer product using a nested for loop:\\n', outer_forloop)\n",
    "\n",
    "u = u[:, np.newaxis]\n",
    "outer_broadcasting = u*v\n",
    "print('Outer product using broadcasting:\\n', outer_broadcasting)\n"
   ]
  },
  {
   "cell_type": "markdown",
   "metadata": {},
   "source": [
    "3\\. Create a 10 by 6 matrix of random uniform numbers. Set all rows with any entry less than 0.1 to be zero\n",
    "\n",
    "Hint: Use the following numpy functions - np.random.random, np.any as well as Boolean indexing and the axis argument."
   ]
  },
  {
   "cell_type": "code",
   "execution_count": 5,
   "metadata": {},
   "outputs": [
    {
     "name": "stdout",
     "output_type": "stream",
     "text": [
      "Starting matrix:\n",
      " [[0.39482433 0.58804094 0.60762212 0.09267146 0.01976108 0.54712235]\n",
      " [0.20977663 0.92543494 0.5948913  0.53132093 0.60289499 0.90743095]\n",
      " [0.29815015 0.70721916 0.97910887 0.53484013 0.38494133 0.98095291]\n",
      " [0.19221533 0.31866    0.73627327 0.42019941 0.71992609 0.80433878]\n",
      " [0.6330505  0.41814003 0.12248174 0.54714504 0.84850748 0.16850085]\n",
      " [0.12299917 0.38494094 0.98727857 0.15354111 0.2870312  0.47685503]\n",
      " [0.72459804 0.38513519 0.16050707 0.30478016 0.39549304 0.56078861]\n",
      " [0.19206049 0.01775162 0.13969912 0.96691567 0.2121182  0.76300735]\n",
      " [0.32585033 0.25010703 0.32331642 0.40762659 0.41180763 0.10841455]\n",
      " [0.31078283 0.27490317 0.76007029 0.29994179 0.06160174 0.28221627]]\n",
      "\n",
      "Modified matrix:\n",
      " [[0.         0.         0.         0.         0.         0.        ]\n",
      " [0.20977663 0.92543494 0.5948913  0.53132093 0.60289499 0.90743095]\n",
      " [0.29815015 0.70721916 0.97910887 0.53484013 0.38494133 0.98095291]\n",
      " [0.19221533 0.31866    0.73627327 0.42019941 0.71992609 0.80433878]\n",
      " [0.6330505  0.41814003 0.12248174 0.54714504 0.84850748 0.16850085]\n",
      " [0.12299917 0.38494094 0.98727857 0.15354111 0.2870312  0.47685503]\n",
      " [0.72459804 0.38513519 0.16050707 0.30478016 0.39549304 0.56078861]\n",
      " [0.         0.         0.         0.         0.         0.        ]\n",
      " [0.32585033 0.25010703 0.32331642 0.40762659 0.41180763 0.10841455]\n",
      " [0.         0.         0.         0.         0.         0.        ]]\n"
     ]
    }
   ],
   "source": [
    "mymatrix = np.random.random((10, 6))\n",
    "print('Starting matrix:\\n', mymatrix)\n",
    "\n",
    "bound = 0.1\n",
    "mymatrix[np.any(mymatrix<bound, axis = 1)] = 0\n",
    "print('\\nModified matrix:\\n', mymatrix)\n"
   ]
  },
  {
   "cell_type": "markdown",
   "metadata": {},
   "source": [
    "4\\. Use np.linspace to create an array of 100 numbers between 0 and 2π (inclusive).\n",
    "\n",
    "  * Extract every 10th element using slice notation\n",
    "  * Reverse the array using slice notation\n",
    "  * Extract elements where the absolute difference between the sine and cosine functions evaluated at that element is less than 0.1\n",
    "  * Make a plot showing the sin and cos functions and indicate where they are close"
   ]
  },
  {
   "cell_type": "code",
   "execution_count": 8,
   "metadata": {},
   "outputs": [
    {
     "name": "stdout",
     "output_type": "stream",
     "text": [
      "Starting array:\n",
      " [0.         0.06346652 0.12693304 0.19039955 0.25386607 0.31733259\n",
      " 0.38079911 0.44426563 0.50773215 0.57119866 0.63466518 0.6981317\n",
      " 0.76159822 0.82506474 0.88853126 0.95199777 1.01546429 1.07893081\n",
      " 1.14239733 1.20586385 1.26933037 1.33279688 1.3962634  1.45972992\n",
      " 1.52319644 1.58666296 1.65012947 1.71359599 1.77706251 1.84052903\n",
      " 1.90399555 1.96746207 2.03092858 2.0943951  2.15786162 2.22132814\n",
      " 2.28479466 2.34826118 2.41172769 2.47519421 2.53866073 2.60212725\n",
      " 2.66559377 2.72906028 2.7925268  2.85599332 2.91945984 2.98292636\n",
      " 3.04639288 3.10985939 3.17332591 3.23679243 3.30025895 3.36372547\n",
      " 3.42719199 3.4906585  3.55412502 3.61759154 3.68105806 3.74452458\n",
      " 3.8079911  3.87145761 3.93492413 3.99839065 4.06185717 4.12532369\n",
      " 4.1887902  4.25225672 4.31572324 4.37918976 4.44265628 4.5061228\n",
      " 4.56958931 4.63305583 4.69652235 4.75998887 4.82345539 4.88692191\n",
      " 4.95038842 5.01385494 5.07732146 5.14078798 5.2042545  5.26772102\n",
      " 5.33118753 5.39465405 5.45812057 5.52158709 5.58505361 5.64852012\n",
      " 5.71198664 5.77545316 5.83891968 5.9023862  5.96585272 6.02931923\n",
      " 6.09278575 6.15625227 6.21971879 6.28318531]\n",
      "\n",
      "Extracted every 10th element:\n",
      " [0.57119866 1.20586385 1.84052903 2.47519421 3.10985939 3.74452458\n",
      " 4.37918976 5.01385494 5.64852012 6.28318531]\n",
      "\n",
      "Reversed array:\n",
      " [6.28318531 6.21971879 6.15625227 6.09278575 6.02931923 5.96585272\n",
      " 5.9023862  5.83891968 5.77545316 5.71198664 5.64852012 5.58505361\n",
      " 5.52158709 5.45812057 5.39465405 5.33118753 5.26772102 5.2042545\n",
      " 5.14078798 5.07732146 5.01385494 4.95038842 4.88692191 4.82345539\n",
      " 4.75998887 4.69652235 4.63305583 4.56958931 4.5061228  4.44265628\n",
      " 4.37918976 4.31572324 4.25225672 4.1887902  4.12532369 4.06185717\n",
      " 3.99839065 3.93492413 3.87145761 3.8079911  3.74452458 3.68105806\n",
      " 3.61759154 3.55412502 3.4906585  3.42719199 3.36372547 3.30025895\n",
      " 3.23679243 3.17332591 3.10985939 3.04639288 2.98292636 2.91945984\n",
      " 2.85599332 2.7925268  2.72906028 2.66559377 2.60212725 2.53866073\n",
      " 2.47519421 2.41172769 2.34826118 2.28479466 2.22132814 2.15786162\n",
      " 2.0943951  2.03092858 1.96746207 1.90399555 1.84052903 1.77706251\n",
      " 1.71359599 1.65012947 1.58666296 1.52319644 1.45972992 1.3962634\n",
      " 1.33279688 1.26933037 1.20586385 1.14239733 1.07893081 1.01546429\n",
      " 0.95199777 0.88853126 0.82506474 0.76159822 0.6981317  0.63466518\n",
      " 0.57119866 0.50773215 0.44426563 0.38079911 0.31733259 0.25386607\n",
      " 0.19039955 0.12693304 0.06346652 0.        ]\n",
      "\n",
      "Elements where sine is close to cosine:\n",
      " [0.76159822 0.82506474 3.87145761 3.93492413]\n"
     ]
    },
    {
     "data": {
      "image/png": "[encoded data removed]",
      "text/plain": [
       "<Figure size 432x288 with 1 Axes>"
      ]
     },
     "metadata": {
      "needs_background": "light"
     },
     "output_type": "display_data"
    }
   ],
   "source": [
    "num = np.linspace(0, 2*m.pi, 100)\n",
    "print('Starting array:\\n', num)\n",
    "\n",
    "print('\\nExtracted every 10th element:\\n', num[9::10])\n",
    "print('\\nReversed array:\\n', num[::-1])\n",
    "\n",
    "mask = [abs(m.sin(i)-m.cos(i))<0.1 for i in num]\n",
    "print('\\nElements where sine is close to cosine:\\n', num[mask])\n",
    "col1 = np.where(mask, 'red', 'b')\n",
    "col2 = np.where(mask, 'red', 'g')\n",
    "\n",
    "plt.scatter(num, np.sin(num), s=4, c=col1, label = 'Sine')\n",
    "plt.scatter(num, np.cos(num), s=4, c=col2, label = 'Cosine')\n",
    "plt.legend()\n",
    "plt.show()\n"
   ]
  },
  {
   "cell_type": "markdown",
   "metadata": {},
   "source": [
    "5\\. Create a matrix that shows the 10 by 10 multiplication table.\n",
    "\n",
    " * Find the trace of the matrix\n",
    " * Extract the anto-diagonal (this should be ```array([10, 18, 24, 28, 30, 30, 28, 24, 18, 10])```)\n",
    " * Extract the diagnoal offset by 1 upwards (this should be ```array([ 2,  6, 12, 20, 30, 42, 56, 72, 90])```)"
   ]
  },
  {
   "cell_type": "code",
   "execution_count": null,
   "metadata": {},
   "outputs": [
    {
     "name": "stdout",
     "output_type": "stream",
     "text": [
      "10 by 10 multiplication table:\n",
      " [[  1   2   3   4   5   6   7   8   9  10]\n",
      " [  2   4   6   8  10  12  14  16  18  20]\n",
      " [  3   6   9  12  15  18  21  24  27  30]\n",
      " [  4   8  12  16  20  24  28  32  36  40]\n",
      " [  5  10  15  20  25  30  35  40  45  50]\n",
      " [  6  12  18  24  30  36  42  48  54  60]\n",
      " [  7  14  21  28  35  42  49  56  63  70]\n",
      " [  8  16  24  32  40  48  56  64  72  80]\n",
      " [  9  18  27  36  45  54  63  72  81  90]\n",
      " [ 10  20  30  40  50  60  70  80  90 100]]\n",
      "\n",
      "Trace of the matrix: 385\n",
      "\n",
      "Anto-diagonal: [10 18 24 28 30 30 28 24 18 10]\n",
      "Anto-diagonal using list comprehension: [10, 18, 24, 28, 30, 30, 28, 24, 18, 10]\n",
      "\n",
      "Diagnoal offset by 1 upwards: [ 2  6 12 20 30 42 56 72 90]\n"
     ]
    }
   ],
   "source": [
    "table_line = np.arange(1, 11)\n",
    "table_column = table_line[:, np.newaxis]\n",
    "\n",
    "mult_table = table_line*table_column\n",
    "print('10 by 10 multiplication table:\\n', mult_table)\n",
    "\n",
    "print('\\nTrace of the matrix:', np.trace(mult_table))\n",
    "print('\\nAnto-diagonal:', np.fliplr(mult_table).diagonal())\n",
    "print('Anto-diagonal using list comprehension:', [mult_table[i, 9-i] for i in range(10)])\n",
    "print('\\nDiagnoal offset by 1 upwards:', np.diag(mult_table, 1))"
   ]
  },
  {
   "cell_type": "markdown",
   "metadata": {},
   "source": [
    "6\\. Use broadcasting to create a grid of distances\n",
    "\n",
    "Route 66 crosses the following cities in the US: Chicago, Springfield, Saint-Louis, Tulsa, Oklahoma City, Amarillo, Santa Fe, Albuquerque, Flagstaff, Los Angeles\n",
    "The corresponding positions in miles are: 0, 198, 303, 736, 871, 1175, 1475, 1544, 1913, 2448\n",
    "\n",
    "  * Construct a 2D grid of distances among each city along Route 66\n",
    "  * Convert that in km (those savages...)"
   ]
  },
  {
   "cell_type": "code",
   "execution_count": null,
   "metadata": {},
   "outputs": [
    {
     "name": "stdout",
     "output_type": "stream",
     "text": [
      "2D grid of distances among each city along Route 66 (IN MILES):\n",
      " [[    0  -198  -303  -736  -871 -1175 -1475 -1544 -1913 -2448]\n",
      " [  198     0  -105  -538  -673  -977 -1277 -1346 -1715 -2250]\n",
      " [  303   105     0  -433  -568  -872 -1172 -1241 -1610 -2145]\n",
      " [  736   538   433     0  -135  -439  -739  -808 -1177 -1712]\n",
      " [  871   673   568   135     0  -304  -604  -673 -1042 -1577]\n",
      " [ 1175   977   872   439   304     0  -300  -369  -738 -1273]\n",
      " [ 1475  1277  1172   739   604   300     0   -69  -438  -973]\n",
      " [ 1544  1346  1241   808   673   369    69     0  -369  -904]\n",
      " [ 1913  1715  1610  1177  1042   738   438   369     0  -535]\n",
      " [ 2448  2250  2145  1712  1577  1273   973   904   535     0]]\n",
      "\n",
      "2D grid of distances among each city along Route 66 (IN KM):\n",
      " [[    0.       -318.64932  -487.63002 -1184.47424 -1401.73514 -1890.9745\n",
      "  -2373.7765  -2484.82096 -3078.66742 -3939.66432]\n",
      " [  318.64932     0.       -168.9807   -865.82492 -1083.08582 -1572.32518\n",
      "  -2055.12718 -2166.17164 -2760.0181  -3621.015  ]\n",
      " [  487.63002   168.9807      0.       -696.84422  -914.10512 -1403.34448\n",
      "  -1886.14648 -1997.19094 -2591.0374  -3452.0343 ]\n",
      " [ 1184.47424   865.82492   696.84422     0.       -217.2609   -706.50026\n",
      "  -1189.30226 -1300.34672 -1894.19318 -2755.19008]\n",
      " [ 1401.73514  1083.08582   914.10512   217.2609      0.       -489.23936\n",
      "   -972.04136 -1083.08582 -1676.93228 -2537.92918]\n",
      " [ 1890.9745   1572.32518  1403.34448   706.50026   489.23936     0.\n",
      "   -482.802    -593.84646 -1187.69292 -2048.68982]\n",
      " [ 2373.7765   2055.12718  1886.14648  1189.30226   972.04136   482.802\n",
      "      0.       -111.04446  -704.89092 -1565.88782]\n",
      " [ 2484.82096  2166.17164  1997.19094  1300.34672  1083.08582   593.84646\n",
      "    111.04446     0.       -593.84646 -1454.84336]\n",
      " [ 3078.66742  2760.0181   2591.0374   1894.19318  1676.93228  1187.69292\n",
      "    704.89092   593.84646     0.       -860.9969 ]\n",
      " [ 3939.66432  3621.015    3452.0343   2755.19008  2537.92918  2048.68982\n",
      "   1565.88782  1454.84336   860.9969      0.     ]]\n",
      "\n",
      "Distance between Tulsa and Springfiels = \n",
      "538 in miles\n",
      "865.82492 in km\n"
     ]
    }
   ],
   "source": [
    "# Route 66 is almost straight\n",
    "cities = {'Chicago':0, 'Springfield':1, 'Saint-Louis':2, 'Tulsa':3, 'Oklahoma City':4, 'Amarillo':5, 'Santa Fe':6, 'Albuquerque':7, 'Flagstaff':8, 'Los Angeles':9}\n",
    "positions = np.array([0, 198, 303, 736, 871, 1175, 1475, 1544, 1913, 2448])\n",
    "# città in linea - città in colonna\n",
    "distances_miles = positions[:, np.newaxis] - positions \n",
    "print('2D grid of distances among each city along Route 66 (IN MILES):\\n', distances_miles)\n",
    "\n",
    "conversion_miles_km = 1.60934\n",
    "distances_km = distances_miles*conversion_miles_km\n",
    "print('\\n2D grid of distances among each city along Route 66 (IN KM):\\n', distances_km)\n",
    "\n",
    "print('\\nDistance between Tulsa and Springfiels = ')\n",
    "print(distances_miles[cities['Tulsa'], cities['Springfield']], 'in miles')\n",
    "print(distances_km[cities['Tulsa'], cities['Springfield']], 'in km')"
   ]
  },
  {
   "cell_type": "markdown",
   "metadata": {},
   "source": [
    "7\\. Prime numbers sieve: compute the prime numbers in the 0-N (N=99 to start with) range with a sieve (mask).\n",
    "  * Constract a shape (100,) boolean array, the mask\n",
    "  * Identify the multiples of each number starting from 2 and set accordingly the corresponding mask element\n",
    "  * Apply the mask to obtain an array of ordered prime numbers\n",
    "  * Check the performances (timeit); how does it scale with N?\n",
    "  * Implement the optimization suggested in the [sieve of Eratosthenes](https://en.wikipedia.org/wiki/Sieve_of_Eratosthenes)"
   ]
  },
  {
   "cell_type": "code",
   "execution_count": 38,
   "metadata": {},
   "outputs": [
    {
     "name": "stdout",
     "output_type": "stream",
     "text": [
      "[2, 3, 5, 7, 11, 13, 17, 19, 23, 29, 31, 37, 41, 43, 47, 53, 59, 61, 67, 71, 73, 79, 83, 89, 97]\n"
     ]
    }
   ],
   "source": [
    "# MY IMPLEMENTATION WITHOUT MASKS\n",
    "\n",
    "def prime_numbers_mine(n):\n",
    "    i = 5\n",
    "    prime = [2,3]\n",
    "\n",
    "    while i < n:\n",
    "        j = 0\n",
    "        isPrime = True\n",
    "        while prime[j]**2 <= i:\n",
    "            if i % prime[j] == 0:\n",
    "                isPrime = False\n",
    "                break\n",
    "            j += 1\n",
    "\n",
    "        if isPrime:\n",
    "            prime.append(i)\n",
    "        i += 2\n",
    "\n",
    "    return prime\n",
    "    \n",
    "print(prime_numbers_mine(99))"
   ]
  },
  {
   "cell_type": "code",
   "execution_count": 49,
   "metadata": {},
   "outputs": [
    {
     "name": "stdout",
     "output_type": "stream",
     "text": [
      "[ 2  3  5  7 11 13 17 19 23 29 31 37 41 43 47 53 59 61 67 71 73 79 83 89\n",
      " 97]\n"
     ]
    }
   ],
   "source": [
    "# USING MASKS and ERATOSTHENES\n",
    "\n",
    "def prime_numbers(n):\n",
    "    are_primes = np.ones((n+1,), dtype=bool)\n",
    "    are_primes[[0,1]] = False   # zero and one are not primes\n",
    "    for num in range(2, int(m.sqrt(n)+1)):\n",
    "        if are_primes[num]:\n",
    "            new_multiples = [num*i+num**2 for i in range(int((n-num**2)/num)+1)]\n",
    "            are_primes[new_multiples] = False\n",
    "    numbers = np.arange(0, n+1)\n",
    "    return numbers[are_primes]\n",
    "\n",
    "print(prime_numbers(99))           "
   ]
  },
  {
   "cell_type": "code",
   "execution_count": 50,
   "metadata": {},
   "outputs": [
    {
     "name": "stdout",
     "output_type": "stream",
     "text": [
      "91.1 µs ± 21.3 µs per loop (mean ± std. dev. of 7 runs, 10000 loops each)\n",
      "80.6 µs ± 12.9 µs per loop (mean ± std. dev. of 7 runs, 10000 loops each)\n",
      "893 µs ± 187 µs per loop (mean ± std. dev. of 7 runs, 1000 loops each)\n",
      "1.14 ms ± 183 µs per loop (mean ± std. dev. of 7 runs, 1000 loops each)\n",
      "9.76 ms ± 1.24 ms per loop (mean ± std. dev. of 7 runs, 100 loops each)\n",
      "18.2 ms ± 1.49 ms per loop (mean ± std. dev. of 7 runs, 100 loops each)\n",
      "99.3 ms ± 22.8 ms per loop (mean ± std. dev. of 7 runs, 10 loops each)\n",
      "358 ms ± 105 ms per loop (mean ± std. dev. of 7 runs, 1 loop each)\n"
     ]
    }
   ],
   "source": [
    "# PERFORMANCES\n",
    "\n",
    "# n<100\n",
    "%timeit prime_numbers(100)\n",
    "%timeit prime_numbers_mine(100)\n",
    "# n<1000\n",
    "%timeit prime_numbers(1000)\n",
    "%timeit prime_numbers_mine(1000)\n",
    "# n<10000\n",
    "%timeit prime_numbers(10000)\n",
    "%timeit prime_numbers_mine(10000)\n",
    "# n<100000\n",
    "%timeit prime_numbers(100000)\n",
    "%timeit prime_numbers_mine(100000)"
   ]
  },
  {
   "cell_type": "markdown",
   "metadata": {},
   "source": [
    "_How do they scale with N?_ <br>\n",
    "They both scale quite well with N, but the second one has a better time execution for large N (see for example what happens with N=100000). \n"
   ]
  },
  {
   "cell_type": "markdown",
   "metadata": {},
   "source": [
    "**N.B. the following exercises are meant to be solved only if you are familiar with the numpy random library. If not you can skip them (postponed for one of the next exercise sessions)**\n"
   ]
  },
  {
   "cell_type": "markdown",
   "metadata": {},
   "source": [
    "8\\. Diffusion using random walk\n",
    "\n",
    "Consider a simple random walk process: at each step in time, a walker jumps right or left (+1 or -1) with equal probability. The goal is to find the typical distance from the origin of a random walker after a given amount of time. \n",
    "To do that, let's simulate many walkers and create a 2D array with each walker as a raw and the actual time evolution as columns\n",
    "\n",
    "  * Take 1000 walkers and let them walk for 200 steps\n",
    "  * Use randint to create a 2D array of size walkers x steps with values -1 or 1\n",
    "  * Build the actual walking distances for each walker (i.e. another 2D array \"summing on each raw\")\n",
    "  * Take the square of that 2D array (elementwise)\n",
    "  * Compute the mean of the squared distances at each step (i.e. the mean along the columns)\n",
    "  * Plot the average distances (sqrt(distance\\*\\*2)) as a function of time (step)\n",
    "  \n",
    "Did you get what you expected?"
   ]
  },
  {
   "cell_type": "markdown",
   "metadata": {},
   "source": [
    "9\\. Analyze a data file \n",
    "  * Download the population of hares, lynxes and carrots at the beginning of the last century.\n",
    "    ```python\n",
    "    ! wget https://www.dropbox.com/s/3vigxoqayo389uc/populations.txt\n",
    "    ```\n",
    "\n",
    "  * Check the content by looking within the file\n",
    "  * Load the data (use an appropriate numpy method) into a 2D array\n",
    "  * Create arrays out of the columns, the arrays being (in order): *year*, *hares*, *lynxes*, *carrots* \n",
    "  * Plot the 3 populations over the years\n",
    "  * Compute the main statistical properties of the dataset (mean, std, correlations, etc.)\n",
    "  * Which species has the highest population each year?\n",
    "\n",
    "Do you feel there is some evident correlation here? [Studies](https://www.enr.gov.nt.ca/en/services/lynx/lynx-snowshoe-hare-cycle) tend to believe so."
   ]
  },
  {
   "cell_type": "code",
   "execution_count": null,
   "metadata": {},
   "outputs": [],
   "source": []
  }
 ],
 "metadata": {
  "kernelspec": {
   "display_name": "Python 3",
   "language": "python",
   "name": "python3"
  },
  "language_info": {
   "codemirror_mode": {
    "name": "ipython",
    "version": 3
   },
   "file_extension": ".py",
   "mimetype": "text/x-python",
   "name": "python",
   "nbconvert_exporter": "python",
   "pygments_lexer": "ipython3",
   "version": "3.9.7"
  }
 },
 "nbformat": 4,
 "nbformat_minor": 2
}
