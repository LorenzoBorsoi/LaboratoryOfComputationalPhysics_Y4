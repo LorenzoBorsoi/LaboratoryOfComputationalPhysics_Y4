{
 "cells": [
  {
   "cell_type": "code",
   "execution_count": 6,
   "id": "22f5983e",
   "metadata": {},
   "outputs": [
    {
     "name": "stdout",
     "output_type": "stream",
     "text": [
      "The given matrix is \n",
      " [[ 0  1  2  3]\n",
      " [ 4  5  6  7]\n",
      " [ 8  9 10 11]]\n",
      "row means are : [1.5, 5.5, 9.5]\n",
      "colum means are : [4.0, 5.0, 6.0, 7.0]\n",
      "Overall mean is : 5.5\n"
     ]
    }
   ],
   "source": [
    "#Q1\n",
    "\n",
    "import numpy as np\n",
    "m = np.arange(12).reshape((3,4))\n",
    "print(\"The given matrix is\", '\\n', m)\n",
    "\n",
    "#****\n",
    "row_means = []\n",
    "for i in range(m.shape[0]):\n",
    "    row_means.append(np.mean(m[i, :]))\n",
    "print(\"row means are :\", row_means)\n",
    "\n",
    "#****\n",
    "colum_means = []\n",
    "for i in range(m.shape[1]):\n",
    "    colum_means.append(np.mean(m[:, i]))\n",
    "print(\"colum means are :\", colum_means)\n",
    "\n",
    "#***\n",
    "print(\"Overall mean is :\", np.mean(m))"
   ]
  },
  {
   "cell_type": "code",
   "execution_count": 9,
   "id": "624c0d03",
   "metadata": {},
   "outputs": [
    {
     "name": "stdout",
     "output_type": "stream",
     "text": [
      "With Using the function outer in numpy \n",
      " [[ 2  4  6  8]\n",
      " [ 6 12 18 24]\n",
      " [10 20 30 40]\n",
      " [14 28 42 56]] \n",
      "\n",
      "With Using a nested for loop or list comprehension \n",
      " [[ 2.  4.  6.  8.]\n",
      " [ 6. 12. 18. 24.]\n",
      " [10. 20. 30. 40.]\n",
      " [14. 28. 42. 56.]] \n",
      "\n",
      "With Using numpy broadcasting operatoins \n",
      " [[ 2  4  6  8]\n",
      " [ 6 12 18 24]\n",
      " [10 20 30 40]\n",
      " [14 28 42 56]]\n"
     ]
    }
   ],
   "source": [
    "#Q2\n",
    "u = np.array([1,3,5,7])\n",
    "v = np.array([2,4,6,8])\n",
    "\n",
    "#partA\n",
    "pr1 = np.outer(u,v)\n",
    "print(\"With Using the function outer in numpy\", '\\n',  pr1, '\\n')\n",
    "\n",
    "#partB\n",
    "pr2 = np.zeros((len(u), len(v)))\n",
    "for i in range(len(u)):\n",
    "    for j in range(len(v)):\n",
    "        pr2[i,j] = u[i]*v[j]\n",
    "print(\"With Using a nested for loop or list comprehension\", '\\n',  pr2, '\\n')\n",
    "\n",
    "#partC\n",
    "vt = v.reshape((-1, 1))\n",
    "pr3 = (np.multiply(u, vt)).T\n",
    "print(\"With Using numpy broadcasting operatoins\", '\\n', pr3)"
   ]
  },
  {
   "cell_type": "code",
   "execution_count": 11,
   "id": "4020c0a2",
   "metadata": {},
   "outputs": [
    {
     "name": "stdout",
     "output_type": "stream",
     "text": [
      "[[0.69022919 0.72600602 0.69835871 0.80771333 0.71142557 0.13634374]\n",
      " [0.23477785 0.41441543 0.26997541 0.30141004 0.58261001 0.1498199 ]\n",
      " [0.72280834 0.71883466 0.93301416 0.21218743 0.34480159 0.89309917]\n",
      " [0.73421147 0.51593966 0.79416427 0.13802064 0.34898768 0.09610067]\n",
      " [0.56352089 0.05934373 0.50978751 0.18828421 0.52245518 0.3028714 ]\n",
      " [0.29502546 0.47160195 0.64989559 0.09022032 0.73860962 0.89516358]\n",
      " [0.18601963 0.05533617 0.88443567 0.07343651 0.57071763 0.32098827]\n",
      " [0.11857048 0.61425629 0.2575854  0.70043395 0.19667535 0.57323742]\n",
      " [0.33655237 0.74922368 0.99649429 0.26706989 0.63652152 0.75845123]\n",
      " [0.43755345 0.06075382 0.9322032  0.59701944 0.07029663 0.60286551]]\n",
      "[[0.69022919 0.72600602 0.69835871 0.80771333 0.71142557 0.13634374]\n",
      " [0.23477785 0.41441543 0.26997541 0.30141004 0.58261001 0.1498199 ]\n",
      " [0.72280834 0.71883466 0.93301416 0.21218743 0.34480159 0.89309917]\n",
      " [0.73421147 0.51593966 0.79416427 0.13802064 0.34898768 0.        ]\n",
      " [0.56352089 0.         0.50978751 0.18828421 0.52245518 0.3028714 ]\n",
      " [0.29502546 0.47160195 0.64989559 0.         0.73860962 0.89516358]\n",
      " [0.18601963 0.         0.88443567 0.         0.57071763 0.32098827]\n",
      " [0.11857048 0.61425629 0.2575854  0.70043395 0.19667535 0.57323742]\n",
      " [0.33655237 0.74922368 0.99649429 0.26706989 0.63652152 0.75845123]\n",
      " [0.43755345 0.         0.9322032  0.59701944 0.         0.60286551]]\n"
     ]
    }
   ],
   "source": [
    "#Q3\n",
    "\n",
    "m=np.random.random(10*6)\n",
    "print(m.reshape(10,6))\n",
    "for i in range(len(m)):\n",
    "    if m[i]<0.1:\n",
    "        m[i]=0\n",
    "print(m.reshape(10,6))"
   ]
  },
  {
   "cell_type": "code",
   "execution_count": 12,
   "id": "7ab890cd",
   "metadata": {},
   "outputs": [
    {
     "name": "stderr",
     "output_type": "stream",
     "text": [
      "Matplotlib is building the font cache; this may take a moment.\n"
     ]
    },
    {
     "data": {
      "text/plain": [
       "[<matplotlib.lines.Line2D at 0xb977430>]"
      ]
     },
     "execution_count": 12,
     "metadata": {},
     "output_type": "execute_result"
    },
    {
     "data": {
      "image/png": "[encoded data removed]",
      "text/plain": [
       "<Figure size 432x288 with 1 Axes>"
      ]
     },
     "metadata": {
      "needs_background": "light"
     },
     "output_type": "display_data"
    }
   ],
   "source": [
    "#Q4\n",
    "\n",
    "import numpy as np\n",
    "import math as m\n",
    "import matplotlib.pyplot as plt\n",
    "a = np.linspace(0, 2*m.pi, 100)\n",
    "b1 = a[0:99:10]\n",
    "b2 = a[::-1]\n",
    "mask = (abs(np.sin(a)-np.cos(a)) < 0.1)\n",
    "b3 = a[mask]\n",
    "plt.plot(a, np.cos(a))\n",
    "plt.plot(a, np.sin(a))"
   ]
  },
  {
   "cell_type": "code",
   "execution_count": 19,
   "id": "a52beb68",
   "metadata": {},
   "outputs": [
    {
     "name": "stdout",
     "output_type": "stream",
     "text": [
      "[ 1  2  3  4  5  6  7  8  9 10]\n",
      "385\n",
      "[10 18 24 28 30 30 28 24 18 10]\n",
      "[ 2  6 12 20 30 42 56 72 90]\n"
     ]
    }
   ],
   "source": [
    "#Q5\n",
    "\n",
    "import numpy as np\n",
    "U = np.array(range(10))+1\n",
    "V = np.array(range(10))+1\n",
    "A = np.outer(U,V)\n",
    "print(A.trace())\n",
    "print(A[::-1].diagonal())\n",
    "print(A.diagonal(1))"
   ]
  },
  {
   "cell_type": "code",
   "execution_count": 24,
   "id": "82b3276e",
   "metadata": {},
   "outputs": [
    {
     "name": "stdout",
     "output_type": "stream",
     "text": [
      " the distances in mile are: [[   1  197  302  735  870 1174 1474 1543 1912 2447]\n",
      " [   2  196  301  734  869 1173 1473 1542 1911 2446]\n",
      " [   3  195  300  733  868 1172 1472 1541 1910 2445]\n",
      " [   4  194  299  732  867 1171 1471 1540 1909 2444]\n",
      " [   5  193  298  731  866 1170 1470 1539 1908 2443]\n",
      " [   6  192  297  730  865 1169 1469 1538 1907 2442]\n",
      " [   7  191  296  729  864 1168 1468 1537 1906 2441]\n",
      " [   8  190  295  728  863 1167 1467 1536 1905 2440]\n",
      " [   9  189  294  727  862 1166 1466 1535 1904 2439]\n",
      " [  10  188  293  726  861 1165 1465 1534 1903 2438]]\n",
      " the distances in kilometrs are: [[1.6000e+00 3.1520e+02 4.8320e+02 1.1760e+03 1.3920e+03 1.8784e+03\n",
      "  2.3584e+03 2.4688e+03 3.0592e+03 3.9152e+03]\n",
      " [3.2000e+00 3.1360e+02 4.8160e+02 1.1744e+03 1.3904e+03 1.8768e+03\n",
      "  2.3568e+03 2.4672e+03 3.0576e+03 3.9136e+03]\n",
      " [4.8000e+00 3.1200e+02 4.8000e+02 1.1728e+03 1.3888e+03 1.8752e+03\n",
      "  2.3552e+03 2.4656e+03 3.0560e+03 3.9120e+03]\n",
      " [6.4000e+00 3.1040e+02 4.7840e+02 1.1712e+03 1.3872e+03 1.8736e+03\n",
      "  2.3536e+03 2.4640e+03 3.0544e+03 3.9104e+03]\n",
      " [8.0000e+00 3.0880e+02 4.7680e+02 1.1696e+03 1.3856e+03 1.8720e+03\n",
      "  2.3520e+03 2.4624e+03 3.0528e+03 3.9088e+03]\n",
      " [9.6000e+00 3.0720e+02 4.7520e+02 1.1680e+03 1.3840e+03 1.8704e+03\n",
      "  2.3504e+03 2.4608e+03 3.0512e+03 3.9072e+03]\n",
      " [1.1200e+01 3.0560e+02 4.7360e+02 1.1664e+03 1.3824e+03 1.8688e+03\n",
      "  2.3488e+03 2.4592e+03 3.0496e+03 3.9056e+03]\n",
      " [1.2800e+01 3.0400e+02 4.7200e+02 1.1648e+03 1.3808e+03 1.8672e+03\n",
      "  2.3472e+03 2.4576e+03 3.0480e+03 3.9040e+03]\n",
      " [1.4400e+01 3.0240e+02 4.7040e+02 1.1632e+03 1.3792e+03 1.8656e+03\n",
      "  2.3456e+03 2.4560e+03 3.0464e+03 3.9024e+03]\n",
      " [1.6000e+01 3.0080e+02 4.6880e+02 1.1616e+03 1.3776e+03 1.8640e+03\n",
      "  2.3440e+03 2.4544e+03 3.0448e+03 3.9008e+03]]\n"
     ]
    }
   ],
   "source": [
    "#Q6\n",
    "\n",
    "import numpy as np\n",
    "U = np.array([0, 198, 303, 736, 871, 1175, 1475, 1544, 1913, 2448])\n",
    "V = u.reshape(10, 1)\n",
    "\n",
    "M = abs(U-V)\n",
    "print(\" the distances in mile are:\",M)\n",
    "KM = M*1.60\n",
    "print(\" the distances in kilometrs are:\",KM)"
   ]
  },
  {
   "cell_type": "code",
   "execution_count": null,
   "id": "7cf048bd",
   "metadata": {},
   "outputs": [],
   "source": [
    "\n",
    "\n"
   ]
  }
 ],
 "metadata": {
  "kernelspec": {
   "display_name": "Python 3",
   "language": "python",
   "name": "python3"
  },
  "language_info": {
   "codemirror_mode": {
    "name": "ipython",
    "version": 3
   },
   "file_extension": ".py",
   "mimetype": "text/x-python",
   "name": "python",
   "nbconvert_exporter": "python",
   "pygments_lexer": "ipython3",
   "version": "3.8.8"
  }
 },
 "nbformat": 4,
 "nbformat_minor": 5
}
