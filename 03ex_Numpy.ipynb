{
 "cells": [
  {
   "cell_type": "markdown",
   "metadata": {},
   "source": [
    "### Numpy basics"
   ]
  },
  {
   "cell_type": "markdown",
   "metadata": {},
   "source": [
    "1\\. Find the row, column and overall means for the following matrix:\n",
    "\n",
    "```python\n",
    "m = np.arange(12).reshape((3,4))\n",
    "```"
   ]
  },
  {
   "cell_type": "code",
   "execution_count": 2,
   "metadata": {},
   "outputs": [
    {
     "name": "stdout",
     "output_type": "stream",
     "text": [
      "array: \n",
      " [[ 0  1  2  3]\n",
      " [ 4  5  6  7]\n",
      " [ 8  9 10 11]]\n",
      "\n",
      "rows: \n",
      " 3\n",
      "\n",
      "columns: \n",
      " 4\n",
      "\n",
      "overall means: \n",
      " 5.5\n"
     ]
    }
   ],
   "source": [
    "import numpy as np\n",
    "m = np.arange(12).reshape((3,4))\n",
    "print(\"array: \\n\", m)\n",
    "n_rows, n_columns= m.shape\n",
    "print(\"\\nrows: \\n\", n_rows)\n",
    "print(\"\\ncolumns: \\n\", n_columns)\n",
    "print(\"\\noverall means: \\n\", np.mean(m))\n"
   ]
  },
  {
   "cell_type": "markdown",
   "metadata": {},
   "source": [
    "#### 2\\. Find the outer product of the following two vecotrs\n",
    "\n",
    "```python\n",
    "u = np.array([1,3,5,7])\n",
    "v = np.array([2,4,6,8])\n",
    "```\n",
    "\n",
    "Do this in the following ways:\n",
    "\n",
    "   * Using the function outer in numpy\n",
    "   * Using a nested for loop or list comprehension\n",
    "   * Using numpy broadcasting operatoins\n"
   ]
  },
  {
   "cell_type": "code",
   "execution_count": 3,
   "metadata": {},
   "outputs": [
    {
     "name": "stdout",
     "output_type": "stream",
     "text": [
      "[1 3 5 7]\n",
      "[2 4 6 8]\n",
      "\n",
      "\n",
      "[[ 2  4  6  8]\n",
      " [ 6 12 18 24]\n",
      " [10 20 30 40]\n",
      " [14 28 42 56]]\n",
      "\n",
      "\n",
      "[[ 2  4  6  8]\n",
      " [ 6 12 18 24]\n",
      " [10 20 30 40]\n",
      " [14 28 42 56]]\n"
     ]
    }
   ],
   "source": [
    "#using the outer function\n",
    "u=np.arange(1,9,2)\n",
    "v=np.arange(2,10,2)\n",
    "print(u)\n",
    "print(v)\n",
    "print(\"\\n\")\n",
    "uv=np.outer(u,v)\n",
    "print(uv)\n",
    "print(\"\\n\")\n",
    "\n",
    "#using a nested for loop or list comprehension\n",
    "new_array = np.array([h*v for h in u])\n",
    "\n",
    "#using numpy broadcast operators\n",
    "u=u.reshape(4,1)\n",
    "print(u*v)"
   ]
  },
  {
   "cell_type": "markdown",
   "metadata": {},
   "source": [
    "3\\. Create a 10 by 6 matrix of random uniform numbers. Set all rows with any entry less than 0.1 to be zero\n",
    "\n",
    "Hint: Use the following numpy functions - np.random.random, np.any as well as Boolean indexing and the axis argument."
   ]
  },
  {
   "cell_type": "code",
   "execution_count": 46,
   "metadata": {},
   "outputs": [
    {
     "name": "stdout",
     "output_type": "stream",
     "text": [
      "[[0.44203289 0.94776089 0.44608821 0.22101033 0.22034713 0.00208725]\n",
      " [0.03670087 0.2178552  0.39657063 0.29901192 0.29467191 0.65438039]\n",
      " [0.70184651 0.66205579 0.19551592 0.76869796 0.37040561 0.87852316]\n",
      " [0.16837751 0.79467983 0.84979646 0.85394139 0.14909205 0.21057802]\n",
      " [0.54905293 0.63267626 0.49708878 0.18318815 0.17004949 0.69970257]\n",
      " [0.79693659 0.78556667 0.326256   0.19319888 0.17794955 0.16192895]\n",
      " [0.47413935 0.78406686 0.36491391 0.73897265 0.83149908 0.9730021 ]\n",
      " [0.34960265 0.9201322  0.28182882 0.3623688  0.62248068 0.13542406]\n",
      " [0.90384972 0.82593948 0.55730088 0.91694131 0.8871706  0.77051461]\n",
      " [0.80003435 0.05476114 0.78100739 0.67435032 0.51690923 0.01743241]]\n",
      "\n",
      "\n",
      "[[0.44203289 0.94776089 0.44608821 0.22101033 0.22034713 0.        ]\n",
      " [0.         0.2178552  0.39657063 0.29901192 0.29467191 0.65438039]\n",
      " [0.70184651 0.66205579 0.19551592 0.76869796 0.37040561 0.87852316]\n",
      " [0.16837751 0.79467983 0.84979646 0.85394139 0.14909205 0.21057802]\n",
      " [0.54905293 0.63267626 0.49708878 0.18318815 0.17004949 0.69970257]\n",
      " [0.79693659 0.78556667 0.326256   0.19319888 0.17794955 0.16192895]\n",
      " [0.47413935 0.78406686 0.36491391 0.73897265 0.83149908 0.9730021 ]\n",
      " [0.34960265 0.9201322  0.28182882 0.3623688  0.62248068 0.13542406]\n",
      " [0.90384972 0.82593948 0.55730088 0.91694131 0.8871706  0.77051461]\n",
      " [0.80003435 0.         0.78100739 0.67435032 0.51690923 0.        ]]\n"
     ]
    }
   ],
   "source": [
    "matrix=np.random.random((10,6))\n",
    "print(matrix)\n",
    "print(\"\\n\")\n",
    "for i in range(matrix.shape[0]):\n",
    "    for j in range(matrix.shape[1]):\n",
    "        if matrix[i][j] < 0.1:\n",
    "            matrix[i][j]=0\n",
    "print(matrix)"
   ]
  },
  {
   "cell_type": "markdown",
   "metadata": {},
   "source": [
    "4\\. Use np.linspace to create an array of 100 numbers between 0 and 2π (includsive).\n",
    "\n",
    "  * Extract every 10th element using slice notation\n",
    "  * Reverse the array using slice notation\n",
    "  * Extract elements where the absolute difference between the sine and cosine functions evaluated at that element is less than 0.1\n",
    "  * Make a plot showing the sin and cos functions and indicate where they are close"
   ]
  },
  {
   "cell_type": "code",
   "execution_count": 106,
   "metadata": {},
   "outputs": [
    {
     "name": "stdout",
     "output_type": "stream",
     "text": [
      "[0.         0.06346652 0.12693304 0.19039955 0.25386607 0.31733259\n",
      " 0.38079911 0.44426563 0.50773215 0.57119866 0.63466518 0.6981317\n",
      " 0.76159822 0.82506474 0.88853126 0.95199777 1.01546429 1.07893081\n",
      " 1.14239733 1.20586385 1.26933037 1.33279688 1.3962634  1.45972992\n",
      " 1.52319644 1.58666296 1.65012947 1.71359599 1.77706251 1.84052903\n",
      " 1.90399555 1.96746207 2.03092858 2.0943951  2.15786162 2.22132814\n",
      " 2.28479466 2.34826118 2.41172769 2.47519421 2.53866073 2.60212725\n",
      " 2.66559377 2.72906028 2.7925268  2.85599332 2.91945984 2.98292636\n",
      " 3.04639288 3.10985939 3.17332591 3.23679243 3.30025895 3.36372547\n",
      " 3.42719199 3.4906585  3.55412502 3.61759154 3.68105806 3.74452458\n",
      " 3.8079911  3.87145761 3.93492413 3.99839065 4.06185717 4.12532369\n",
      " 4.1887902  4.25225672 4.31572324 4.37918976 4.44265628 4.5061228\n",
      " 4.56958931 4.63305583 4.69652235 4.75998887 4.82345539 4.88692191\n",
      " 4.95038842 5.01385494 5.07732146 5.14078798 5.2042545  5.26772102\n",
      " 5.33118753 5.39465405 5.45812057 5.52158709 5.58505361 5.64852012\n",
      " 5.71198664 5.77545316 5.83891968 5.9023862  5.96585272 6.02931923\n",
      " 6.09278575 6.15625227 6.21971879 6.28318531]\n",
      "\n",
      "\n",
      "[0.         0.63466518 1.26933037 1.90399555 2.53866073 3.17332591\n",
      " 3.8079911  4.44265628 5.07732146 5.71198664]\n",
      "\n",
      "\n",
      "[0.7615982190520711, 0.8250647373064104, 3.8714576135146945, 3.934924131769034]\n",
      "[ 0.69007901  0.73459171 -0.666769   -0.71269417]\n"
     ]
    },
    {
     "data": {
      "image/png": "[encoded data removed]",
      "text/plain": [
       "<Figure size 432x288 with 1 Axes>"
      ]
     },
     "metadata": {
      "needs_background": "light"
     },
     "output_type": "display_data"
    }
   ],
   "source": [
    "import math\n",
    "vector=np.linspace(0, 2*math.pi, 100)\n",
    "print(vector)\n",
    "tenth=vector[::10]\n",
    "print(\"\\n\")\n",
    "print(tenth)\n",
    "print(\"\\n\")\n",
    "closetrigs=[]\n",
    "for i in range(len(vector)):\n",
    "    if abs(math.cos(vector[i])-math.sin(vector[i])) < 0.1 :\n",
    "        closetrigs.append(vector[i])\n",
    "print(closetrigs)\n",
    "\n",
    "closetrigc=np.sin(closetrigs)\n",
    "\n",
    "print(closetrigc)\n",
    "\n",
    "coslista=np.cos(vector)\n",
    "senlista=np.sin(vector)\n",
    "import matplotlib.pyplot as plt\n",
    "plt.title(\"sin and cos\")\n",
    "plt.xlabel(\"radians\")\n",
    "plt.ylabel(\"sin\")\n",
    "plt.plot(vector,senlista, color =\"green\")\n",
    "plt.plot(vector,coslista,color=\"red\")\n",
    "for i in range(len(closetrigc)):\n",
    "    plt.axvline(closetrigs[i], color='k', linestyle='--')\n",
    "plt.show()"
   ]
  },
  {
   "cell_type": "code",
   "execution_count": 152,
   "metadata": {},
   "outputs": [
    {
     "name": "stdout",
     "output_type": "stream",
     "text": [
      "[[  1   2   3   4   5   6   7   8   9  10]\n",
      " [  2   4   6   8  10  12  14  16  18  20]\n",
      " [  3   6   9  12  15  18  21  24  27  30]\n",
      " [  4   8  12  16  20  24  28  32  36  40]\n",
      " [  5  10  15  20  25  30  35  40  45  50]\n",
      " [  6  12  18  24  30  36  42  48  54  60]\n",
      " [  7  14  21  28  35  42  49  56  63  70]\n",
      " [  8  16  24  32  40  48  56  64  72  80]\n",
      " [  9  18  27  36  45  54  63  72  81  90]\n",
      " [ 10  20  30  40  50  60  70  80  90 100]]\n",
      "\n",
      " trace is:  385\n",
      "\n",
      "main diagonal:  [10 18 24 28 30 30 28 24 18 10]\n",
      "\n",
      "\n",
      "upper diagonal: \n",
      "[  2   6  12  20  30  42  56  72  90 100]\n"
     ]
    }
   ],
   "source": [
    "matrix=np.outer(np.arange(1,11),np.arange(1,11))\n",
    "print(matrix)\n",
    "trace=np.trace(matrix)\n",
    "print(\"\\n trace is: \", trace)\n",
    "flipped_matrix = np.fliplr(matrix)\n",
    "diag=np.diagonal(flipped_matrix)\n",
    "print(\"\\nmain diagonal: \",diag)\n",
    "\n",
    "print(\"\\n\")\n",
    "\n",
    "print(\"upper diagonal: \")\n",
    "m=matrix[1:]\n",
    "transp=np.transpose(m)\n",
    "last=transp[-1][-1]\n",
    "fm=transp[:-1]\n",
    "diag2=np.diagonal(fm)\n",
    "final=np.append(diag2,last)\n",
    "print(final)\n"
   ]
  },
  {
   "cell_type": "markdown",
   "metadata": {},
   "source": [
    "5\\. Create a matrix that shows the 10 by 10 multiplication table.\n",
    "\n",
    " * Find the trace of the matrix\n",
    " * Extract the anto-diagonal (this should be ```array([10, 18, 24, 28, 30, 30, 28, 24, 18, 10])```)\n",
    " * Extract the diagnoal offset by 1 upwards (this should be ```array([ 2,  6, 12, 20, 30, 42, 56, 72, 90])```)"
   ]
  },
  {
   "cell_type": "code",
   "execution_count": 4,
   "metadata": {},
   "outputs": [
    {
     "name": "stdout",
     "output_type": "stream",
     "text": [
      "[[  1   2   3   4   5   6   7   8   9  10]\n",
      " [  2   4   6   8  10  12  14  16  18  20]\n",
      " [  3   6   9  12  15  18  21  24  27  30]\n",
      " [  4   8  12  16  20  24  28  32  36  40]\n",
      " [  5  10  15  20  25  30  35  40  45  50]\n",
      " [  6  12  18  24  30  36  42  48  54  60]\n",
      " [  7  14  21  28  35  42  49  56  63  70]\n",
      " [  8  16  24  32  40  48  56  64  72  80]\n",
      " [  9  18  27  36  45  54  63  72  81  90]\n",
      " [ 10  20  30  40  50  60  70  80  90 100]]\n",
      "\n",
      " trace is:  385\n",
      "\n",
      "main diagonal:  [10 18 24 28 30 30 28 24 18 10]\n",
      "\n",
      "\n",
      "upper diagonal: \n",
      "[  2   6  12  20  30  42  56  72  90 100]\n"
     ]
    }
   ],
   "source": [
    "matrix=np.outer(np.arange(1,11),np.arange(1,11))\n",
    "print(matrix)\n",
    "trace=np.trace(matrix)\n",
    "print(\"\\n trace is: \", trace)\n",
    "flipped_matrix = np.fliplr(matrix)\n",
    "diag=np.diagonal(flipped_matrix)\n",
    "print(\"\\nmain diagonal: \",diag)\n",
    "\n",
    "print(\"\\n\")\n",
    "\n",
    "print(\"upper diagonal: \")\n",
    "m=matrix[1:]\n",
    "transp=np.transpose(m)\n",
    "last=transp[-1][-1]\n",
    "fm=transp[:-1]\n",
    "diag2=np.diagonal(fm)\n",
    "final=np.append(diag2,last)\n",
    "print(final)\n"
   ]
  },
  {
   "cell_type": "raw",
   "metadata": {},
   "source": []
  },
  {
   "cell_type": "markdown",
   "metadata": {},
   "source": []
  },
  {
   "cell_type": "markdown",
   "metadata": {},
   "source": [
    "6\\. Use broadcasting to create a grid of distances\n",
    "\n",
    "Route 66 crosses the following cities in the US: Chicago, Springfield, Saint-Louis, Tulsa, Oklahoma City, Amarillo, Santa Fe, Albuquerque, Flagstaff, Los Angeles\n",
    "The corresponding positions in miles are: 0, 198, 303, 736, 871, 1175, 1475, 1544, 1913, 2448\n",
    "\n",
    "  * Construct a 2D grid of distances among each city along Route 66\n",
    "  * Convert that in km (those savages...)"
   ]
  },
  {
   "cell_type": "code",
   "execution_count": null,
   "metadata": {},
   "outputs": [],
   "source": []
  },
  {
   "cell_type": "code",
   "execution_count": 161,
   "metadata": {},
   "outputs": [
    {
     "name": "stdout",
     "output_type": "stream",
     "text": [
      "[[   0]\n",
      " [ 198]\n",
      " [ 303]\n",
      " [ 736]\n",
      " [ 871]\n",
      " [1175]\n",
      " [1475]\n",
      " [1544]\n",
      " [1913]\n",
      " [2448]]\n"
     ]
    },
    {
     "data": {
      "text/plain": [
       "array([[   0,  198,  303,  736,  871, 1175, 1475, 1544, 1913, 2448],\n",
       "       [ 198,    0,  105,  538,  673,  977, 1277, 1346, 1715, 2250],\n",
       "       [ 303,  105,    0,  433,  568,  872, 1172, 1241, 1610, 2145],\n",
       "       [ 736,  538,  433,    0,  135,  439,  739,  808, 1177, 1712],\n",
       "       [ 871,  673,  568,  135,    0,  304,  604,  673, 1042, 1577],\n",
       "       [1175,  977,  872,  439,  304,    0,  300,  369,  738, 1273],\n",
       "       [1475, 1277, 1172,  739,  604,  300,    0,   69,  438,  973],\n",
       "       [1544, 1346, 1241,  808,  673,  369,   69,    0,  369,  904],\n",
       "       [1913, 1715, 1610, 1177, 1042,  738,  438,  369,    0,  535],\n",
       "       [2448, 2250, 2145, 1712, 1577, 1273,  973,  904,  535,    0]])"
      ]
     },
     "execution_count": 161,
     "metadata": {},
     "output_type": "execute_result"
    }
   ],
   "source": [
    "checkpoints = np.array([0, 198, 303, 736, 871, 1175, 1475, 1544,1913, 2448])\n",
    "print(checkpoints[:, np.newaxis])\n",
    "distances = np.abs(mileposts - checkpoints[:, np.newaxis])\n",
    "distances"
   ]
  },
  {
   "cell_type": "markdown",
   "metadata": {},
   "source": [
    "7\\. Prime numbers sieve: compute the prime numbers in the 0-N (N=99 to start with) range with a sieve (mask).\n",
    "  * Constract a shape (100,) boolean array, the mask\n",
    "  * Identify the multiples of each number starting from 2 and set accordingly the corresponding mask element\n",
    "  * Apply the mask to obtain an array of ordered prime numbers\n",
    "  * Check the performances (timeit); how does it scale with N?\n",
    "  * Implement the optimization suggested in the [sieve of Eratosthenes](https://en.wikipedia.org/wiki/Sieve_of_Eratosthenes)"
   ]
  },
  {
   "cell_type": "code",
   "execution_count": 63,
   "metadata": {},
   "outputs": [
    {
     "name": "stdout",
     "output_type": "stream",
     "text": [
      "[ 2  3  5  7 11 13 17 19 23 29 31 37 41 43 47 53 59 61 67 71 73 79 83 89\n",
      " 97]\n",
      "The first implementation takes 0.16965970000001107\n",
      "t scales with n following a linear trend\n"
     ]
    },
    {
     "data": {
      "image/png": "[encoded data removed]",
      "text/plain": [
       "<Figure size 432x288 with 1 Axes>"
      ]
     },
     "metadata": {
      "needs_background": "light"
     },
     "output_type": "display_data"
    }
   ],
   "source": [
    "import timeit\n",
    "from scipy.linalg import lstsq\n",
    "import matplotlib.pyplot as plt\n",
    "\n",
    "N=99\n",
    "def primes(N):\n",
    "    numbers = np.arange(2,N+1)\n",
    "    mask = np.ones(N+1-2,'bool')\n",
    "    for i in range(2,N+1):\n",
    "        j = i   \n",
    "        while i*j < N+1:\n",
    "            mask[i*j-2] = False\n",
    "            j+=1\n",
    "    return numbers[mask]\n",
    "print(primes(99))\n",
    "prime = lambda: get_primes(N)\n",
    "print(f'The first implementation takes {timeit.timeit(prime, number=1000)}')\n",
    "\n",
    "t = []\n",
    "n = np.arange(99,200)\n",
    "for i in n:\n",
    "    prime = lambda: get_primes(i)\n",
    "    t.append(timeit.timeit(prime,number = 1000)/1000)\n",
    "t = np.array(t)\n",
    "plt.plot(n,t, label='Experimental')\n",
    "n = n.reshape((t.size,1))\n",
    "n_d = np.hstack((np.ones((n.size,1)),n))\n",
    "p,res,rnk,s = lstsq(n_d,t)\n",
    "h = n_d@p\n",
    "plt.plot(n,h, label='Fitted')\n",
    "plt.legend('Prime mask performance')\n",
    "plt.xlabel('N')\n",
    "plt.ylabel('t (seconds)')\n",
    "print('t scales with n following a linear trend')"
   ]
  },
  {
   "cell_type": "markdown",
   "metadata": {},
   "source": [
    "**N.B. the following exercises are meant to be solved only if you are familiar with the numpy random library. If not you can skip them (postponed for one of the next exercise sessions)**\n"
   ]
  },
  {
   "cell_type": "markdown",
   "metadata": {},
   "source": [
    "8\\. Diffusion using random walk\n",
    "\n",
    "Consider a simple random walk process: at each step in time, a walker jumps right or left (+1 or -1) with equal probability. The goal is to find the typical distance from the origin of a random walker after a given amount of time. \n",
    "To do that, let's simulate many walkers and create a 2D array with each walker as a raw and the actual time evolution as columns\n",
    "\n",
    "  * Take 1000 walkers and let them walk for 200 steps\n",
    "  * Use randint to create a 2D array of size walkers x steps with values -1 or 1\n",
    "  * Build the actual walking distances for each walker (i.e. another 2D array \"summing on each raw\")\n",
    "  * Take the square of that 2D array (elementwise)\n",
    "  * Compute the mean of the squared distances at each step (i.e. the mean along the columns)\n",
    "  * Plot the average distances (sqrt(distance\\*\\*2)) as a function of time (step)\n",
    "  \n",
    "Did you get what you expected?"
   ]
  },
  {
   "cell_type": "markdown",
   "metadata": {},
   "source": [
    "9\\. Analyze a data file \n",
    "  * Download the population of hares, lynxes and carrots at the beginning of the last century.\n",
    "    ```python\n",
    "    ! wget https://www.dropbox.com/s/3vigxoqayo389uc/populations.txt\n",
    "    ```\n",
    "\n",
    "  * Check the content by looking within the file\n",
    "  * Load the data (use an appropriate numpy method) into a 2D array\n",
    "  * Create arrays out of the columns, the arrays being (in order): *year*, *hares*, *lynxes*, *carrots* \n",
    "  * Plot the 3 populations over the years\n",
    "  * Compute the main statistical properties of the dataset (mean, std, correlations, etc.)\n",
    "  * Which species has the highest population each year?\n",
    "\n",
    "Do you feel there is some evident correlation here? [Studies](https://www.enr.gov.nt.ca/en/services/lynx/lynx-snowshoe-hare-cycle) tend to believe so."
   ]
  },
  {
   "cell_type": "code",
   "execution_count": null,
   "metadata": {},
   "outputs": [],
   "source": []
  }
 ],
 "metadata": {
  "kernelspec": {
   "display_name": "Python 3",
   "language": "python",
   "name": "python3"
  },
  "language_info": {
   "codemirror_mode": {
    "name": "ipython",
    "version": 3
   },
   "file_extension": ".py",
   "mimetype": "text/x-python",
   "name": "python",
   "nbconvert_exporter": "python",
   "pygments_lexer": "ipython3",
   "version": "3.8.8"
  }
 },
 "nbformat": 4,
 "nbformat_minor": 2
}
