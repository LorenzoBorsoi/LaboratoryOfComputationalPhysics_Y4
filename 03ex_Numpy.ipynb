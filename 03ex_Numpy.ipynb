{
 "cells": [
  {
   "cell_type": "markdown",
   "metadata": {},
   "source": [
    "### Numpy basics"
   ]
  },
  {
   "cell_type": "markdown",
   "metadata": {},
   "source": [
    "1\\. Find the row, column and overall means for the following matrix:\n",
    "\n",
    "```python\n",
    "m = np.arange(12).reshape((3,4))\n",
    "```"
   ]
  },
  {
<<<<<<< HEAD
   "cell_type": "code",
   "execution_count": 1,
   "metadata": {},
   "outputs": [
    {
     "name": "stdout",
     "output_type": "stream",
     "text": [
      "[[ 0  1  2  3]\n",
      " [ 4  5  6  7]\n",
      " [ 8  9 10 11]]\n",
      "The mean of the row 0 is 1.5\n",
      "The mean of the row 1 is 5.5\n",
      "The mean of the row 2 is 9.5\n",
      "The mean of the column 0 is 4.0\n",
      "The mean of the column 1 is 5.0\n",
      "The mean of the column 2 is 6.0\n",
      "The mean of the column 3 is 7.0\n",
      "The overall mean is 5.5\n"
     ]
    }
   ],
   "source": [
    "import numpy as np\n",
    "\n",
    "m = np.arange(12).reshape((3,4))\n",
    "print(m)\n",
    "row = [0,0,0]\n",
    "column = [0,0,0,0]\n",
    "overall = 0\n",
    "\n",
    "for i in range(3):\n",
    "    for j in range(4):\n",
    "        row[i] += m[i,j]\n",
    "    row[i] /= 4\n",
    "    print('The mean of the row', i, 'is', row[i])\n",
    "\n",
    "for i in range(4):\n",
    "    for j in range(3):\n",
    "        column[i] += m[j,i]\n",
    "    column[i] /= 3\n",
    "    print('The mean of the column', i, 'is', column[i])\n",
    "\n",
    "for i in range(3):\n",
    "    for j in range(4):\n",
    "        overall += m[i,j]\n",
    "print('The overall mean is', overall/12)\n"
   ]
  },
  {
=======
>>>>>>> main
   "cell_type": "markdown",
   "metadata": {},
   "source": [
    "2\\. Find the outer product of the following two vecotrs\n",
    "\n",
    "```python\n",
    "u = np.array([1,3,5,7])\n",
    "v = np.array([2,4,6,8])\n",
    "```\n",
    "\n",
    "Do this in the following ways:\n",
    "\n",
    "   * Using the function outer in numpy\n",
    "   * Using a nested for loop or list comprehension\n",
    "   * Using numpy broadcasting operatoins\n"
   ]
  },
  {
<<<<<<< HEAD
   "cell_type": "code",
   "execution_count": 24,
   "metadata": {},
   "outputs": [
    {
     "name": "stdout",
     "output_type": "stream",
     "text": [
      "np.outer product:\n",
      " [[ 2  4  6  8]\n",
      " [ 6 12 18 24]\n",
      " [10 20 30 40]\n",
      " [14 28 42 56]]\n",
      "\n",
      "\n",
      "list comprehension:\n",
      " [[ 2  4  6  8]\n",
      " [ 6 12 18 24]\n",
      " [10 20 30 40]\n",
      " [14 28 42 56]]\n",
      "\n",
      "\n",
      "Broadcasting operation:\n",
      " [[ 2  4  6  8]\n",
      " [ 6 12 18 24]\n",
      " [10 20 30 40]\n",
      " [14 28 42 56]]\n"
     ]
    }
   ],
   "source": [
    "u = np.array([1,3,5,7])\n",
    "v = np.array([2,4,6,8])\n",
    "\n",
    "#outer product\n",
    "print('np.outer product:\\n', np.outer(u,v))\n",
    "print('\\n')\n",
    "\n",
    "#list comprehension\n",
    "w = np.array([i*j for i in u for j in v]).reshape(4,4)\n",
    "print('list comprehension:\\n', w)\n",
    "print('\\n')\n",
    "\n",
    "#broadcasting op\n",
    "print('Broadcasting operation:\\n', u[:, np.newaxis]*v)"
   ]
  },
  {
=======
>>>>>>> main
   "cell_type": "markdown",
   "metadata": {},
   "source": [
    "3\\. Create a 10 by 6 matrix of random uniform numbers. Set all rows with any entry less than 0.1 to be zero\n",
    "\n",
    "Hint: Use the following numpy functions - np.random.random, np.any as well as Boolean indexing and the axis argument."
   ]
  },
  {
<<<<<<< HEAD
   "cell_type": "code",
   "execution_count": 35,
   "metadata": {},
   "outputs": [
    {
     "name": "stdout",
     "output_type": "stream",
     "text": [
      "original matrix:\n",
      " [[0.13429366 0.59343984 0.13611106 0.29408415 0.29804237 0.27222223]\n",
      " [0.85438123 0.57334998 0.51515218 0.66954405 0.42862054 0.27483811]\n",
      " [0.33543789 0.17934607 0.20543166 0.56462057 0.05620759 0.39403011]\n",
      " [0.03970359 0.50317302 0.10393302 0.57847497 0.99515657 0.56414215]\n",
      " [0.88492489 0.85331676 0.11451971 0.18472505 0.67386716 0.66599428]\n",
      " [0.20618855 0.84768553 0.0336923  0.65484549 0.81759175 0.99259871]\n",
      " [0.89609155 0.32462759 0.20339696 0.68864543 0.49445993 0.18343661]\n",
      " [0.07986918 0.18633901 0.79179793 0.34408805 0.36672357 0.64089014]\n",
      " [0.49822427 0.47609075 0.71297471 0.62276648 0.55683328 0.61621985]\n",
      " [0.8817419  0.71761858 0.15150238 0.38375469 0.46652929 0.92583447]]\n",
      "\n",
      "modified matrix:\n",
      " [[0.13429366 0.59343984 0.13611106 0.29408415 0.29804237 0.27222223]\n",
      " [0.85438123 0.57334998 0.51515218 0.66954405 0.42862054 0.27483811]\n",
      " [0.33543789 0.17934607 0.20543166 0.56462057 0.         0.39403011]\n",
      " [0.         0.50317302 0.10393302 0.57847497 0.99515657 0.56414215]\n",
      " [0.88492489 0.85331676 0.11451971 0.18472505 0.67386716 0.66599428]\n",
      " [0.20618855 0.84768553 0.         0.65484549 0.81759175 0.99259871]\n",
      " [0.89609155 0.32462759 0.20339696 0.68864543 0.49445993 0.18343661]\n",
      " [0.         0.18633901 0.79179793 0.34408805 0.36672357 0.64089014]\n",
      " [0.49822427 0.47609075 0.71297471 0.62276648 0.55683328 0.61621985]\n",
      " [0.8817419  0.71761858 0.15150238 0.38375469 0.46652929 0.92583447]]\n"
     ]
    }
   ],
   "source": [
    "a = np.random.rand(10,6)\n",
    "print('original matrix:\\n', a)\n",
    "a[a < 0.1] = 0\n",
    "print('\\nmodified matrix:\\n', a)"
   ]
  },
  {
=======
>>>>>>> main
   "cell_type": "markdown",
   "metadata": {},
   "source": [
    "4\\. Use np.linspace to create an array of 100 numbers between 0 and 2π (includsive).\n",
    "\n",
    "  * Extract every 10th element using slice notation\n",
    "  * Reverse the array using slice notation\n",
    "  * Extract elements where the absolute difference between the sine and cosine functions evaluated at that element is less than 0.1\n",
    "  * Make a plot showing the sin and cos functions and indicate where they are close"
   ]
  },
  {
<<<<<<< HEAD
   "cell_type": "code",
   "execution_count": 40,
   "metadata": {},
   "outputs": [
    {
     "name": "stdout",
     "output_type": "stream",
     "text": [
      "[0.         0.06346652 0.12693304 0.19039955 0.25386607 0.31733259\n",
      " 0.38079911 0.44426563 0.50773215 0.57119866 0.63466518 0.6981317\n",
      " 0.76159822 0.82506474 0.88853126 0.95199777 1.01546429 1.07893081\n",
      " 1.14239733 1.20586385 1.26933037 1.33279688 1.3962634  1.45972992\n",
      " 1.52319644 1.58666296 1.65012947 1.71359599 1.77706251 1.84052903\n",
      " 1.90399555 1.96746207 2.03092858 2.0943951  2.15786162 2.22132814\n",
      " 2.28479466 2.34826118 2.41172769 2.47519421 2.53866073 2.60212725\n",
      " 2.66559377 2.72906028 2.7925268  2.85599332 2.91945984 2.98292636\n",
      " 3.04639288 3.10985939 3.17332591 3.23679243 3.30025895 3.36372547\n",
      " 3.42719199 3.4906585  3.55412502 3.61759154 3.68105806 3.74452458\n",
      " 3.8079911  3.87145761 3.93492413 3.99839065 4.06185717 4.12532369\n",
      " 4.1887902  4.25225672 4.31572324 4.37918976 4.44265628 4.5061228\n",
      " 4.56958931 4.63305583 4.69652235 4.75998887 4.82345539 4.88692191\n",
      " 4.95038842 5.01385494 5.07732146 5.14078798 5.2042545  5.26772102\n",
      " 5.33118753 5.39465405 5.45812057 5.52158709 5.58505361 5.64852012\n",
      " 5.71198664 5.77545316 5.83891968 5.9023862  5.96585272 6.02931923\n",
      " 6.09278575 6.15625227 6.21971879 6.28318531]\n",
      "\n",
      " [0.         0.63466518 1.26933037 1.90399555 2.53866073 3.17332591\n",
      " 3.8079911  4.44265628 5.07732146 5.71198664]\n",
      "\n",
      " [6.28318531 6.21971879 6.15625227 6.09278575 6.02931923 5.96585272\n",
      " 5.9023862  5.83891968 5.77545316 5.71198664 5.64852012 5.58505361\n",
      " 5.52158709 5.45812057 5.39465405 5.33118753 5.26772102 5.2042545\n",
      " 5.14078798 5.07732146 5.01385494 4.95038842 4.88692191 4.82345539\n",
      " 4.75998887 4.69652235 4.63305583 4.56958931 4.5061228  4.44265628\n",
      " 4.37918976 4.31572324 4.25225672 4.1887902  4.12532369 4.06185717\n",
      " 3.99839065 3.93492413 3.87145761 3.8079911  3.74452458 3.68105806\n",
      " 3.61759154 3.55412502 3.4906585  3.42719199 3.36372547 3.30025895\n",
      " 3.23679243 3.17332591 3.10985939 3.04639288 2.98292636 2.91945984\n",
      " 2.85599332 2.7925268  2.72906028 2.66559377 2.60212725 2.53866073\n",
      " 2.47519421 2.41172769 2.34826118 2.28479466 2.22132814 2.15786162\n",
      " 2.0943951  2.03092858 1.96746207 1.90399555 1.84052903 1.77706251\n",
      " 1.71359599 1.65012947 1.58666296 1.52319644 1.45972992 1.3962634\n",
      " 1.33279688 1.26933037 1.20586385 1.14239733 1.07893081 1.01546429\n",
      " 0.95199777 0.88853126 0.82506474 0.76159822 0.6981317  0.63466518\n",
      " 0.57119866 0.50773215 0.44426563 0.38079911 0.31733259 0.25386607\n",
      " 0.19039955 0.12693304 0.06346652 0.        ]\n",
      "\n",
      " [0.76159822 0.82506474 3.87145761 3.93492413]\n"
     ]
    },
    {
     "data": {
      "text/plain": [
       "<function matplotlib.pyplot.show(close=None, block=None)>"
      ]
     },
     "execution_count": 40,
     "metadata": {},
     "output_type": "execute_result"
    },
    {
     "data": {
      "image/png": "iVBORw0KGgoAAAANSUhEUgAAAYIAAAD4CAYAAADhNOGaAAAAOXRFWHRTb2Z0d2FyZQBNYXRwbG90bGliIHZlcnNpb24zLjMuNCwgaHR0cHM6Ly9tYXRwbG90bGliLm9yZy8QVMy6AAAACXBIWXMAAAsTAAALEwEAmpwYAABCwklEQVR4nO3dd1hUZ9rH8e9NLyqIoCKgImLvotEYW+wmURPTE2OKMSZxN8mmJ7vpxU3vRRNTzZpmEtcYu8YWC9gbgoBgB1FAenneP86QlzUgAwxzZpjnc11zMeWcOT8sc89zzlNEKYWmaZrmutzMDqBpmqaZSxcCTdM0F6cLgaZpmovThUDTNM3F6UKgaZrm4jzMDlAbwcHBqm3btmbH0DRNcypxcXEZSqmQ8593ykLQtm1bYmNjzY6haZrmVETkcGXP61NDmqZpLk4XAk3TNBenC4GmaZqL04VA0zTNxelCoGma5uJsUghEZK6InBKRPVW8LiLyjogkisguEelT4bWxIhJvee0xW+TRNE3TrGerFsHnwNgLvD4OiLbcpgMfAoiIO/C+5fUuwA0i0sVGmTRN0zQr2GQcgVJqrYi0vcAmE4EvlTHn9SYRCRSRUKAtkKiUSgIQkfmWbffZItf5Vuw7yd5j2QT4ehDg50lIIx86hzamWSPv+jic8ykphNOHIP0A5J02HpcUgLsnNGoJjVtAUDsIiAARs9NqWoNWVqZIzcwj4dQ5zuQVkZ1fTFZ+MVf3DadNM3+bHsteA8rCgLQKj49Ynqvs+YsqewMRmY7RmqB169a1CvH7wXS+2vTX8RShAT70DA9kZJcWjOrcggA/z1q9v9MpLYa0LZCwDBJXwKn9oEqr369RS4joD20HQ5eJRoHQNK3OkjNy+W3PcX6PT2ffsWxyCkv+53UR6NOmqdMWgsq+PqoLPP/XJ5WaDcwGiImJqdVqOs9P6sZTV3QhO7+Y7IISjp/NZ++xbPYey2JzciZL9p7Aw024uH0wUwe2YXjH5ri5NcBvvmdTIXYubPsK8jLAzQNaD4TB/4DgjhDSARqHgoePcSspgHMnIecEZMQbxSN1E+xfCEsehcih0OtG6Hql0XrQNM1q5wpL+D42jflb0og/mQNAt7AmTOzdim6tAugU2oRm/l408fWksbdHvXwm2asQHAEiKjwOB44BXlU8X2883d1o1sibZo28iQz25+L2wQAopdh1JIvf9pzglx1HueOLWKJC/Jk2uB1X9w3H070BdLA6uQ9Wvwjxi43HHcdDj2uh3XDwaVL1fh5exuvB0RA5GPpNM54/dQB2f2/cFtwJK5+HQX+H3lPA06f+fx9Nc2LpOYV8sj6JbzanklNQQu/WgTx1eRfGdmtJq0Bfu2YRWy1VablGsEgp1a2S1y4DZgLjMU79vKOU6i8iHsBBYARwFNgK3KiU2nuhY8XExKj6nGuouLSMxbuPM2ddEnuOZtMuxJ9/Xd6F4R2b19sx61XWUVj9Euz8BrwaQ/9p0Pc2CIyofl9rKAUJy2Hda5C22WhNjHoeul+tryVo2nkKS0r5bEMK761KJK+ohHHdQpk2OJLerZvW+7FFJE4pFfOX521RCETkP8AwIBg4CTwNeAIopT4SEQHew+hZlAfcppSKtew7HngLcAfmKqVerO549V0IyimlWLn/FC8u3k9yRi7DOobw/MRuRAT51fuxbaKsDLZ8DCueNc79958Ogx8Ev6D6OZ5SkLIelj8Fx7YZ1xAuex1COtbP8TTNyayJP8XTC/dy+HQeIzo154nLOhMV0shux6/XQmBv9ioE5YpKyvjyjxTeWpEAwDMTujK5TxjiyN92Tx+CX2ZC6kaIHg3jX4Ombexz7LJSiPscVj4HRbkw8mkYcC+4NYDTa5pWC/lFpby0eD9fbTpMVIg/T1/RlSEd/jIbdL3ThcAG0jLzePC7nWxJyWRct5bMuqqHY/Yw2vUd/Pc+cPOEcbOg5w3mnKLJzTByHFgE7UfCpA+hkZOeXtO0WtpzNIu/z99OUnou0y6J5KExHfHxdDcliy4ENlJappizLonXl8UTFujLJ1NjaN+8sSlZ/qK0GJb9EzZ/BG0GweRPoEkrczMpZfRQWvoEeDeB676G1pX2ENa0BueXHUd55IddBPl78fo1Pf/snGKWqgqBbqvXkLubMGNoFP+5cwDnCkuY9P5GVu4/aXYs49v3FxOMIjDgHrjlF/OLABgtkX53wJ2rwbsRfHEF7Pre7FSaVq9KyxQv/7af++bvoFdEIIv+donpReBCdCGopZi2QSyceQltg/2Y9mUsc9cnmxfmzGGYO8a4QHvVJzD2Zcfrz9+iC0xbCeH9YME0WP2y0VrQtAamoLiUu76K4+Pfk7h5QGu+nnaRw89eoAtBHbQK9OX7uy5mdJcWPLdoH2+tOIjdT7Wd2AOfjobcdKMV0OMa+x6/JvyCYMpP0Osm+H0WLHrA6NmkaQ1ETkExU+duYeWBkzw7oSsvTOruFGOQnHLNYkfi6+XO+zf24bEFu3lrRQJZ+cX867Iu9hmRnLYVvp4MXv5w+1Jo3rn+j1lXHl4w8X1o1ALWv2GMWp7wHrjrf4qac8vMLeLWz7aw71g2b13Xi4m9wsyOZDX9v88GPNzdeGVyDxr7ePDZhhQKS8p4cVK3+u1eeiQOvr4K/IPhloW2GxxmDyJGl1JPP1j9glEMrprjeKezNM1KZ3KLuGH2JlJO5/LxlL6M6Oxc82/pQmAjbm7CU5d3wcfTnQ/XHMLX051/Xta5forBsR3w9ZXg2xSm/hcCwm1/DHsY+rAxFcWyf4K4GcXAzZxudZpWW9kFxdwydwvJp3P57NZ+DHLgi8JV0YXAhkSER8Z0JL+olE/XJ+Pv5c4/Rtt4VO3JvfDVJPAOgFsXOW8RKHfx34wBaCueBp9AYySyIw/U07QK8opKuP2zrRw4kc3sKTFOWQRAFwKbEzFaBnlFJbyzKpHGPp7cOaSdbd486wh8fbUxI+jUhRBYu+m4Hc4l90P+GdjwltHKGfEvsxNpWrWKSsq466s4tqWe4b0b+zC8k/MOltSFoB64uQkvX9WD3MJSXly8n7CmvozvHlq3N80/axSBonNw+xIIirRJVocx8hkoOGtMXNeoOVx0l9mJNK1KSime+Gk36xIyePXqHnX//20yXQjqibub8Pq1PTmRXcAD3+6gZYAPfWo7u2BJIcy/CU4nws0/Qouutg3rCETgsjeMgXFLHoOmkdBhtNmpNK1S761K5Ie4I9w3IpprYpyoo0YVHL+DqxPz8XRnzi0xtAzw4c4vYkk9nVfzN1EK/ns/HF5vzNXTbqjNczoMN3e4aja06AY/3G5cD9E0B/Pz9qO8vvwgV/UO4/6R0WbHsQldCOpZkL8Xn93aj1KluOOLreSet/RctTZ9aKwjMOxxxx4sZite/nDjt8Z0FN9cBzkOMH2HplnsSDvLIz/s4qLIIF6e3N2xZyCuAV0I7KBdSCM+uLEPh9LP8fAPO60ffZy0xuha2elyGPJIvWZ0KE1awQ3/MU4TfT/VmExP00yWca6Qu7+Oo3kTbz66uS/eHg2nq7MuBHZycftgHhvXicW7T/Dx2qTqdziTAt/fCsEd4MqPXG8u/1a9YcK7kPoHrHjG7DSaiysuLePeedvIzC3io5v70tTfy+xINmWTTxcRGSsi8SKSKCKPVfL6wyKyw3LbIyKlIhJkeS1FRHZbXjNnbmk7uXNwOy7rEcorSw6wLiG96g1LCuG7W0CVwfXzwNtBprm2tx7XGKuq/fEe7P3J7DSaC3t58QE2J2cya3J3uoUFmB3H5upcCETEHXgfGAd0AW4QkS4Vt1FKvaqU6qWU6gU8DvyulMqssMlwy+t/mSe7IRERXpncg+jmjblv/g5OZhf8/4vz5kHbtsY3/1bNYdlWmPQRNIsyLa9DGP0ihPc3VltLjzc7jeaCluw5ztwNydx6cVuu7O3kAzirYIsWQX8gUSmVpJQqAuYDEy+w/Q3Af2xwXKfk7+3B+zf1Jr+olAe+3UFpmTKKwPTpcPiw0UsoPRt+LYG4M2bHNZ+HF1zzuTGI7vvboLig2l00zVaOnMnjkR920TM8gCfGO8GkjrVki0IQBqRVeHzE8txfiIgfxgL2P1Z4WgHLRCRORKZXdRARmS4isSISm55+gdMqTqB988Y8O7ErwQt/IDc0HG6+GfLO61paWAJPPmlOQEcTEAZXfgyn9sJyPepYs4/i0jL+/p/tKAXv3tAHL4+Ge53OFr9ZZf2nquoWcwWw4bzTQoOUUn0wTi3dKyJDKttRKTVbKRWjlIoJCbH/os+2dk38Wl5b9j5NTh2reqPUVPsFcnTRI2HAvbBlNsT/ZnYazQW8teIg21LP8tJV3WndzM/sOPXKFoXgCFBxaF04UNWn2/Wcd1pIKXXM8vMU8BPGqaYGT558Eq+iak5ztG4gcwnZysinoWUP+PkeyD5udhqtAduUdJoP1hziupgIrujpAEu+1jNbFIKtQLSIRIqIF8aH/cLzNxKRAGAo8EuF5/xFpHH5fWA0sMcGmRxfdd/2/fzgxRftk8VZeHjD1XON9Qt+vlsvdanVi5yCYh78bidtgvx4ekKX6ndoAOpcCJRSJcBMYCmwH/hOKbVXRGaIyIwKm14JLFNK5VZ4rgWwXkR2AluAX5VSS+qaySkEBVX9mrs7TJ0KN91kvzzOIjgaRr8ASashdq7ZabQG6PlF+zielc/r1/bCz8s1pmMTu6+xawMxMTEqNtbJhxwEB8Pp01W/7ucHs2frYlAZpeCrKyFtC9y9oeHNxKqZZvm+k9z5ZSz3Do/i4TGdzI5jcyISV1k3/YZ7GdzRZWZe+PW8PN1rqCoiMPE9Y5K6X+6FsjKzE2kNQGZuEY8v2EXn0CbcN6KD2XHsShcCs0RYMTBF9xqqWkA4jJ0FhzfA5o/MTqM1AM/9dy9Z+cW8eV3PBt1VtDKu9ds6kut6QnVrteteQxfW60boMBZWPgeZyWan0ZzYqgMn+XnHMe4d3p5OLZuYHcfudCEwQ+om8FsH942HNm2M586bzrbIy0f3GqpO+WI2bh6w6AHdi0irlZyCYp78aQ8dWzTmnmHtzY5jCl0I7K2k0Jg3JzACXvgWUlIsFz+/MoqCCNnNW/HQ6HtZ3XeU2WkdX0CYMb4gaTXsnG92Gs0JzfrtACezC/j31T1c7pRQOdf8rc20/i04nQCXvWksvlLuppuMolBWhvfRVPYPv4Inf9pd84VsXFHMHRBxESx9HM459/Qjmn1tSc5k3uZUbh8USa+IQLPjmEYXAnvKSDQWZ+822ZgyoQreHu7MmtydY1kFvLXioB0DOik3N7jiHSjKNdY71jQrFJWU8eRPuwkL9OUfo12rl9D5dCGwF6Xg1wfAwxfGvFzt5n3bBHF9vwjmbkhh//FsOwR0cs07wSX/gD0/GCu7aVo1Pl2fTMKpczw7oavLDByrii4E9rLrW0hea5zPbtzCql0eHduJAF9PnvxpN2Vl+kJotS55AJpGwq8PGddiNK0KaZl5vL3yIKO7tGBkF+v+PzZkuhDYQ/4ZWPokhPeDvrdZvVtTfy+eGN+Zbaln+TY2rfodXJ2nD4x/1bgGs/Fds9NoDkopxTML9+ImwtMTupodxyHoQmAPq1+G/ExLV8ea/ZFP7hNG/8ggZv12gMzconoK2IBEj4LOE2Dtq8a6z5p2nuX7TrLywCnuHxlNWKCv2XEcgi4E9e3EHtg6B2Juh9AeNd5dRHhhUjfOFZbw2jK9VKNVxr4M4g6/6QvH2v8qKC7l+V/3Ed28EbcN0nNUldOFoD4pBYsfBt+mMLz28wZ1aNGYWwa24T9bUtlzNMuGARuogHAY+ggc/A0SVpidRnMgs9cmkZaZz7MTuuLprj/+yuk/ifq0+wdI3Qgjnga/C0w7bYX7R3YgyM+LpxfuxRlnjLW7AfdAUJTRnbREn1LTjPWHP1iTyPjuLbm4fbDZcRyKLgT1pfAcLPsntOoDvafU+e0CfD15dGwn4g6f4ecdR20QsIHz8DJOEZ1OMJa31Fzey4sPADToRehrSxeC+rL+TTh3Asa9UuMLxFW5um84PcMDeGnxAc7pEcfV6zAG2o+C3/8N506ZnUYz0cZDGfy6+zh3D21PeNOGvf5wbdjkE0pExopIvIgkishfrtCJyDARyRKRHZbbU9bu65TOphrdF7tfCxH9bPa2bm7CMxO6kp5TyIdrEm32vg3a2JehON+YoVRzSaVliucX7Scs0Je7hrYzO45DqnMhEBF34H1gHNAFuEFEKlvoc51Sqpfl9lwN93Uuy58GcTMGj9lY79ZNmdirFXPWJXPkTJ7N37/BCY6GATNg+9dwfKfZaTQT/BCXxv7j2Tw2rhM+nu5mx3FItmgR9AcSlVJJSqkiYD4w0Q77OqbUTbB3AQy6z+i9Ug8eGdsJAV5ZoruTWmXwQ8bF+qVP6qmqXcy5whJeXXqQvm2acnmPULPjOCxbFIIwoOKw1yOW5843UER2ishvIlI+nM/afRGR6SISKyKx6ekOOsNkWZnRS6VJmFEI6klYoC/Th7Rj4c5jbEs9U2/HaTB8A2HY45CyDg4uMTuNZkcfrkkk41wh/7q8C3Lemh/a/7NFIajsT/f8r13bgDZKqZ7Au8DPNdjXeFKp2UqpGKVUTEhISG2z1q89P8Cx7TDiKfCq3wtSM4ZG0byxN88v2qe7k1qj760Q3MHoyVVabHYazQ6OnMljzrpkJvVq5dJTTFvDFoXgCBBR4XE4cKziBkqpbKXUOcv9xYCniARbs6/TKC4wLkiG9jQuEtczf28PHhrTke2pZ1m063i9H8/puXvCqOfhdCLEzjU7jWYHry2NRzBOpWoXZotCsBWIFpFIEfECrgcWVtxARFqKpV0mIv0txz1tzb5OY8vHkJVmfNjYqLtodSb3CadTy8a8svQAhSWldjmmU+swBiKHwpqXIf+s2Wm0erTnaBY/7zjGtMGRtNLzCVWrzp9YSqkSYCawFNgPfKeU2isiM0RkhmWzq4E9IrITeAe4Xhkq3beumewuLxPWvg7RY6DdULsd1t1NeHx8Z9Iy85m3KdVux3VaIjD6BaMIrH/T7DRaPVFK8dLi/QT5e3HX0Ciz4zgFm6zGYDnds/i85z6qcP894D1r93U6v78CRTkwyv591YdEB3NJ+2DeXZXA5L7hBPh62j2DUwntAT2uhc0fQf87661nl2aeNQfT2XjoNM9c0YUmPvr/gzX0yOK6ykyGrZ8Y00g0t/+5SBHhsXGdOJNXzEe/H7L78Z3S8CdBlRnTg2sNSmmZYtbiA7Rp5seNF7UxO47T0IWgrla/CG4eRvdEk3QLC+DK3mHMXZ/MsbP5puVwGk3bQP/psPMbOLnP7DSaDf247QjxJ3N4ZEwnvDz0x5u19J9UXRzfBbu/hwF3QxNzB6s8OLoDSsHbKxJMzeE0Bj8IXo1h5bNmJ9FspKC4lDeXH6RneADju7c0O45T0YWgLlY+Cz6B9Tp4zFrhTf24aUBrvo9LI/HUObPjOD6/IBj8gDHA7PBGs9NoNvD1psMczyrg0bGd9OCxGtKFoLaS10HiCuObpW+g2WkAmDm8Pb6e7ryuVzKzTv+7oFFLWPGsnnrCyWUXFPP+6kQGRwfrtQZqQReC2lAKVjxjTCXRf7rZaf7UrJE3dw5px297TrAz7azZcRyfl5+xklnaJkhYZnYarQ4+WZvEmbxiHhmjB4/Vhi4EtRG/GI7GwrDHwNPH7DT/Y9rgdgT5e/HK0gNmR3EOfW6BppGw8nljrijN6aTnFPLJ+mQu6xFK9/AAs+M4JV0IaqqsFFa9AM2ioeeNZqf5i0beHswc3p4NiadZn5BhdhzH5+5pdCc9uduYNVZzOu+vTqSwpIwHR3UwO4rT0oWgpvb8CKf2wfDHwd0m4/Fs7qYBrWkV4MOry+L1hHTW6DYZWnQzCryekM6pHD2bzzebU7mmbzjtQhqZHcdp6UJQE6XFsPolaNEdulxpdpoqeXu48/cR0exMO8uK/XqJxmq5uRkzxp5Jhh3zzE6j1cC7K43u0n8bEW1yEuemC0FNbP/a+LC49J92m1iutib3DadtMz9eXxZPWZluFVQrejSE9zOmCykuMDuNZoXkjFy+jzvCjRe1JkxPLFcnjv1p5kiKC4wPifD+xiyWDs7T3Y37R3bgwIkcft2tp6mulghc+i/IPgpxn5udRrPCWysO4uku3DNcTyxXV7oQWCt2LuQcgxH/Mj40nMAVPVvRoUUj3lx+kJJS3SOmWu2GQtvBsO51KMo1O412AfEncli48xi3XhxJ88aO1XPPGelCYI2iXFj/hvEhETnE7DRWc3cT/jGqI0kZuSzYftTsOM7h0n9C7inYMsfsJNoFvLn8II28PJgxtJ3ZURoEXQissfUTyE03PiSczJiuLegeFsC7qxIo1q2C6rUeAO1HwYa3oCDb7DRaJfYczWLJ3hPcfkkkgX5eZsdpEGxSCERkrIjEi0iiiDxWyes3icguy22jiPSs8FqKiOwWkR0iEmuLPDZVmAPr34KoEcaHhJMRER4YFU1aZj4/xh0xO45zuPRJyD9jrFmgOZy3VhykiY8HdwyONDtKg1HnQiAi7sD7wDigC3CDiHQ5b7NkYKhSqgfwPDD7vNeHK6V6KaVi6prH5jZ/BPmZxqAjJzW8Y3N6RQTy7qpEikp0q6BarXpDx/Hwx3t6SUsHU94levqQdnrRGRuyRYugP5ColEpSShUB84GJFTdQSm1USp2xPNyEsUi94yvIgo3vQodxEN7X7DS1JiL8Y1QHjp7N59vYNLPjOIdhjxl//5s+NDuJVsGbKw4S6OfJrYN0a8CWbFEIwoCKny5HLM9V5Q7gtwqPFbBMROJEpMoZ3ERkuojEikhsenp6nQJbbdOHxofBcPMWnbGVwdHBxLRpyvurEiko1gvdVyu0J3S6HDZ9YJwm0kwXd/gMa+LTuWtIFI28HXNUv7OyRSGorC9lpSOYRGQ4RiF4tMLTg5RSfTBOLd0rIpV2y1FKzVZKxSilYkJCQuqauXr5Z+GPD4wPg9Ce1W7u6MpbBSeyC5i/RS90b5Vhj0NhNvzxvtlJNIyeQs38vZh6sV6C0tZsUQiOABEVHocDx87fSER6AJ8AE5VSp8ufV0ods/w8BfyEcarJfJs+gMIs4xRBA3Fx+2AuigzigzWHdKvAGi27QZeJsOkjyMs0O41L25qSyfrEDO4a2g4/L90asDVbFIKtQLSIRIqIF3A9sLDiBiLSGlgATFFKHazwvL+INC6/D4wG9tggU93knzFOC3W+Alp2NzuNTd0/sgOncgp1q8Bawx6HonPGhWPNNG+vSCC4kRc3D9CtgfpQ50KglCoBZgJLgf3Ad0qpvSIyQ0RmWDZ7CmgGfHBeN9EWwHoR2QlsAX5VSi2pa6Y6++MD45TA0IbTGig3MKqZbhXURPPO0HUSbP5YtwpM8mdrYEiUbg3UE5uMI1BKLVZKdVBKRSmlXrQ895FS6iPL/WlKqaaWLqJ/dhO19DTqabl1Ld/XVHmZRpfRzhOMUwMNUHmr4D+6VWCdIY8Yo8t1q8AUb604qFsD9UyPLD7fpg+N1kADujZwvvJWwYe6VWCdFl10q8AkW5Iz2ZB4mhlDo/D1cjc7ToOlC0FF5aNJO0+AFl3NTlOvylsF32zWrQKr/Nkq0D2I7OntlUZr4KaLdGugPulCUFF5a2Doo9Vv6+TKWwUf/a5bBVbRrQK725qiWwP2ogtBufyzRjfBTpc32GsD57tvZDSncgr5dqsebWyVoY9aehDpVoE9vLMyQbcG7EQXgnKbPzLGDbhAa6DcwHbN6N/WuFZQWKJbBdVq3tkYV7D5Yz3auJ7FHT7DuoQMpg9pp1sDdqALAVjmlPkAOl4GoT3MTmM3IsLfR0RzIruA73SrwDpDH4GiHD0HUT17e2UCQf66p5C96EIAsHm2UQyGPmJ2Ersb1L4Zfds05QPdKrBOi67GQMNNH+mZSevJ9tQzrD2Yzp2D9Shie9GFoDDH6B/eYRy06mV2GrsTEe4bEc3xrAJ+0OsVWGfII8ZpxM0fm52kQXpnZQJN/Ty5ZaBuDdiLLgRb5kDBWRj6sNlJTDM4OpjerQP5YPUhvV6BNUJ7GKcRN72vVzGzsV1HzrI6Pp1pg9vhr2cYtRvXLgSFljlk2o+CMOddb6Cuyq8VHD2bz0/bdavAKkMfNk4nbtGtAlt6Z2UiAb66NWBvrl0IYudC3mmX6ilUlWEdQugRHsB7qxP12sbWaNUboscYXUkLc8xO0yDsOZrFiv0nueOSSBrr1cfsynULQVEebHwHoi6FiH5mpzGdiPD3S421jX/Z8ZdZxLXKDH3E6Ea69VOzkzQI761KpLG3B1Mvbmt2FJfjuoUg7nPITdetgQpGdG5Ol9AmvL86kdKyStcW0ioKj4GoEcZypkV5ZqdxavEncliy9wS3DWpLgK9uDdibaxaC4gLY8Da0HQytB5idxmGUXytIzshl0S7dKrDK0EchLwPiPjM7iVN7d1UC/l7u3H6JXovYDK5ZCLZ/BedO6NZAJUZ3aUGnlo15Z2WCbhVYo/VFEDnE+GJRnG92GqeUeCqHX3cf55aL2xLo52V2HJfkeoWgpBDWvwmtB0LbS8xO43Dc3ISZl7bnUHouv+05bnYc5zD0UTh3ErZ9aXYSp/TeqkR8PNyZplsDprFJIRCRsSISLyKJIvKXifzF8I7l9V0i0sfafW1uxzzIPmpc6BOp98M5o3HdQokK8ee9VYmU6VZB9dpeAm0Gwfq3jC8amtWSM3JZuPMYUwa2oVkjb7PjuKw6FwIRcQfeB8YBXYAbRKTLeZuNA6Itt+nAhzXY13ZKi2HdmxAWA+2G19thnJ27m/C3S6M5cCKH5ftPmh3HOQx5GHKOwfavzU7iVD5YnYinuxvTBuvWgJls0SLoDyRalp0sAuYDE8/bZiLwpTJsAgJFJNTKfW1n53zISjWa8ro1cEGX9wilbTM/3lmZgFK6VVCtdsMgvL9x2rGkyOw0TiEtM48F249y40Wtad7Yx+w4ji8vE766Eo7tsPlb26IQhAEVp648YnnOmm2s2RcAEZkuIrEiEpuenl67pDnHjf+s0aNqt78L8XB3497h7dl7LJvV8afMjuP4RIzTjVlpsGu+2WmcwgdrDuHuJswYGmV2FOew6QM4tArcbX9B3RaFoLKv1ud/haxqG2v2NZ5UarZSKkYpFRMSElLDiBZDH4Hbl+jWgJUm9Q4jIsiXt1cm6laBNdqPNEYcr3sdSkvMTuPQjp3N54e4NK6LiaBFE90aqFb+WWOSw84TjNXybMwWheAIEFHhcThwfif0qraxZl/bctOLXFjL092Ne4a1Z2faWdYlZJgdx/GJGDOTnkmB3d+bncahffT7IQBmDNOtAats/thYRndI/UyOaYtCsBWIFpFIEfECrgcWnrfNQuAWS++hAUCWUuq4lftqJprcJ5xWAT68ra8VWKfjOGjZHda9BmV6fYfKnMgqYP6WNK7uG0FYoK/ZcRxfQbZl4azx9bZwVp0LgVKqBJgJLAX2A98ppfaKyAwRmWHZbDGQBCQCc4B7LrRvXTNptuPl4cbdw6KIO3yGPw6dNjuO4ytvFZxOhL0/mZ3GIX289hClSnGPbg1YZ6tlqvx6ag0AiDN+y4uJiVGxsbFmx3AZBcWlDH11NZHB/syfPtDsOI6vrAw+GmS0CO7ZBG6uN26zKqdyChj879VM6NmKV6/paXYcx1d4Dt7uAa36wM0/1PntRCROKRVz/vP6X6hWLR9Pd+4aEsWmpEy2JGeaHcfxubnBkIcgIx72/2J2GofyybpkikvLuHd4e7OjOIc/p8qv32V0dSHQrHJD/9YEN/LmnZUJZkdxDl0mQXAHWPua0ULQyMwt4utNh5nYK4y2wf5mx3F85VPltxsOEf3r9VC6EGhW8fVy564h7VifmEHc4TNmx3F8bu4w+CE4uQfiF5udxiHMWZdEfnGpbg1Yy45T5etCoFntpgGtCfL30q0Ca3WbDEHt4Pd/gxNei7OlM7lFfLkxhct7tKJ980Zmx3F8xfmw4S1jqvw29X9dThcCzWp+Xh7cObgdvx9MZ0faWbPjOD53D6NVcGIXHFxidhpTzd2QTF5xKX+7VLcGrLLtK2NGWztNla8LgVYjtwxsQ1M/T90qsFaPa6FpW5duFWTlFfP5hhTGdwulQ4vGZsdxfH9OlX+x3abK14VAqxF/bw+mDW7HqgOn2H0ky+w4js/dEwY/CMe2Q8Jys9OYYu6GZHIKS5ipWwPW2f6VMZPt0IftNh2OLgRajd0ysA1NfDx4W7cKrNPzBgho7ZKtguyCYuZuSGZM1xZ0Dm1idhzHV1JoTJUf3t+uU+XrQqDVWGMfT+64pB0r9p9kz1HdKqiWuycM/gccjYVDK81OY1efb0ghp6CEv10abXYU57BjHmQfgWH2nSpfFwKtVm4d1JYmPh76WoG1et0ETcJhjeu0CrILivlkXRKjurSgW1iA2XEcX0kRrHvDWDgraoRdD60LgVYrAb6e3H5JJMv2nWTvMd0qqJaHl9EqOLIFklabncYuvtiQQnZBCfeN0K0Bq+z8xljPYthjdp8qXxcCrdZuGxRJY90qsF7vmy2tglkNvlWQU1DMJ+uTGdm5uW4NWKO02FjHolUfY10LO9OFQKu1AF9Pbh8UydK9J9l3LNvsOI7Pw9toFaRtbvCtgi82ppCVX8x9IzqYHcU57PwPnE01pTUAuhBodXT7JbpVUCO9b4YmYQ26VZBTUMycdcmM6NSc7uG6NVCtkiJY+6qxul30aFMi6EKg1Ul5q2DJ3hO6VWANF2gVlLcG/q6vDVjnz9bAE6Yto6sLgVZn5a2Ct1ceNDuKc+g9pcG2CrIrtAZ6RgSaHcfxlRQZM9SG9YXoUabFqFMhEJEgEVkuIgmWn00r2SZCRFaLyH4R2Ssi91V47RkROSoiOyy38XXJo5kjwNeTOy4xrhXoHkRWqNgqOLTK7DQ29fkGozVw/0h9bcAqO+ZBVioMe9y01gDUvUXwGLBSKRUNrLQ8Pl8J8KBSqjMwALhXRLpUeP1NpVQvy03P1+ukbr8kkiY+Hry1Ql8rsErvKRAQAatfajCtgqx8Y9zAyM4t9LUBa5QUGT2FwmJM6SlUUV0LwUTgC8v9L4BJ52+glDqulNpmuZ+DsTZxWB2PqzmYJj6eTBvcjuX79Ghjq3h4G3MQHY2FxBVmp7GJzzYkk11Qwv0j9bUBq+z42hg3MNzc1gDUvRC0UEodB+MDH2h+oY1FpC3QG9hc4emZIrJLROZWdmqpwr7TRSRWRGLT09PrGFurD7cNakuArydvrdDXCqzS6yYIbA2rX3T6VkFWfjGfrjfmFNLjBqxQXGBcGwjvZ/dRxJWpthCIyAoR2VPJbWJNDiQijYAfgfuVUuXdSz4EooBewHHg9ar2V0rNVkrFKKViQkJCanJozU4a+3hy5+BIVuw/pdcrsIaHFwx5xJiZ9OBSs9PUyafrksgpKNHjBqy17UvIPgrDnzS9NQBWFAKl1EilVLdKbr8AJ0UkFMDy81Rl7yEinhhFYJ5SakGF9z6plCpVSpUBc4D6XZhTq3e3DoqkqZ8nbyzXrQKr9LzeWK/AiVsFmblFfLo+mcu6h9KllZ5htFrF+ca1gTaDoN0ws9MAdT81tBCYark/Ffjl/A1ERIBPgf1KqTfOey20wsMrgT11zKOZrJG3BzOGRrH2YDpbUzLNjuP43D2NVahO7IIDi8xOUysfrz1EXnGpvjZgra2fwrkTMNy8cQPnq2shmAWMEpEEYJTlMSLSSkTKewANAqYAl1bSTfQVEdktIruA4cADdcyjOYBbBrYluJE3ry+LNzuKc+h+LTSLhlUvQlmp2Wlq5FROAV9sTGFSrzCi9epj1Ss8Z6w+FjnUbquPWcOjLjsrpU4Df7nSoZQ6Boy33F8PVFr2lFJT6nJ8zTH5erlz7/Aonv3vPjYmZnBx+2CzIzk2dw/j2+EPt8GeBdDjGrMTWe3DNYcoLlV6hlFrbZkNeRlw6T/NTvI/9MhirV7c0L81oQE+vLYsHuWk577tqsskaNEN1rwEpSVmp7HK8ax85m1KZXKfMNoG+5sdx/Hln4UNb0P7URDhWJdDdSHQ6oWPpzszL23PttSzrI6vtA+BVpGbm9GDJDPJmHvGCby7KhGF0quPWeuP96HgLIz4l9lJ/kIXAq3eXBsTQesgP15depCyMt0qqFbHccZ89L//21i71oGlZOTy3dY0buzfmoggP7PjOL7cDNj0gdHyC+1pdpq/0IVAqzee7m78Y1QH9h/P5tfdx82O4/hEjG+LWWkQ+5nZaS7ozRUH8XAX7r20vdlRnMP6N6E4z2j1OSBdCLR6dUXPVnRs0Zg3lh+kpLTM7DiOr91waDvYmJ++8JzZaSq1/3g2C3ce47ZBkTRv7GN2HMeXdRS2zIGeN0CIYw6404VAq1fubsJDYzqSnJHLD3FHzI7j+ERgxNNGz5JNH5qdplKvL4s3xosMiTI7inNY+wqoMmO8iIPShUCrdyM7N6d360DeXplAQbFz9ZM3RUQ/6HgZbHwH8hxrUF7c4TOs2H+KGUOjCPDzNDuO48tIgG1fQcxt0LSN2WmqpAuBVu9EhIfHdOR4VgFfbzpsdhzncOk/oTAH1r9R/bZ2opTi30sOENzIi9sGtTU7jnNY9Tx4+MCQh81OckG6EGh2cXFUMEM6hPDe6kSy8ovNjuP4WnSBHtcZ55azHOOU2pr4dLYkZ3LfiGj8vOo0FtU1HI2Dfb/AxTOh0QUnZjadLgSa3Tw6tiNn84r5+PdDZkdxDsOfMM4tr3nZ7CSUlhmtgbbN/Li+f2uz4zg+pWDFM+DXDAbONDtNtXQh0Oyma6sAJvVqxdwNyZzIKjA7juNr2gb63Qk7voFT+02N8vP2oxw4kcNDYzri6a4/Nqp1aBUkrzVOCfk4/oys+m9Us6sHR3ektEzphe6tNeQh8GpsfLs0SUFxKW8sP0iP8ADGdwutfgdXV1Zm/H0FtIaY281OYxVdCDS7igjy4+YBbfh2axqJp3LMjuP4/ILgkvvh4BJI2WBKhK/+OMzRs/k8NrYTbm6OMW2yQ9v9nTGt+Ih/GUuSOgFdCDS7mzm8Pf5eHsz67YDZUZzDRTOgcStY/pTdF685m1fEu6sSGNIhRM8ia43ifFj5vDGNRLerzU5jNV0INLtr1sibu4dHsWL/KTYeyjA7juPz8jMuHB+Nhb0Lqt/eht5dlci5whKeGN/Jrsd1Wps/guwjMPoFYyJBJ1GnpCISJCLLRSTB8rPSxedFJMWyAM0OEYmt6f5aw3P7oEjCAn15afF+PSGdNXrdaExTveIZY+FzO0jJyOXLP1K4NiaCTi0d/4Kn6XIzYN0b0GEsRA4xO02N1LVkPQasVEpFAystj6syXCnVSykVU8v9tQbEx9Odh8d0ZM/RbH7ecdTsOI7Pzd34lnk2FbZ8bJdDvrL0AB5uxsSBmhV+fwWKzsHIZ81OUmN1LQQTgS8s978AJtl5f82JTejZiu5hAby6NF5PPWGNqOEQPQbWvmZ8+6xHcYczWbz7BHcNbUfzJnpiuWqlH4TYT6HPVGjufKfR6loIWiiljgNYflY1fE4By0QkTkSm12J/rQFycxOevKwzx7MKmLM2yew4zmH081CUC2tm1dshysoUzy/aT/PG3kwf0q7ejtOgLPsnePo57DTT1am2EIjIChHZU8ltYg2OM0gp1QcYB9wrIjU+gSYi00UkVkRi09PTa7q75qAGtGvG2K4t+WDNIT3IzBohHY0JzGLnQnp8vRzi5x1H2ZF2lkfGdtJTSVgjcQUkLDUGjzUKMTtNrVRbCJRSI5VS3Sq5/QKcFJFQAMvPStcktCxmj1LqFPATUL5gp1X7W/adrZSKUUrFhIQ45x+2Vrknxnem1DKhmWaFYY+DdyNY8pjNu5PmFpYw67cD9AwP4KreYTZ97waptASWPglNI+Giu8xOU2t1PTW0EJhquT8V+OX8DUTEX0Qal98HRgN7rN1fa/haN/PjzsGR/LT9KNtSz5gdx/H5BxvF4NAqiP/Npm/9wZpETuUU8tQVXfXgMWvEfQbpB4wL+U4yeKwydS0Es4BRIpIAjLI8RkRaichiyzYtgPUishPYAvyqlFpyof0113PPsPY0b+zNs//dp7uTWqPfNAjpBEufsNn6xmmZecxZl8ykXq3o20b35K5WXiasftFYUa7TZWanqZM6FQKl1Gml1AilVLTlZ6bl+WNKqfGW+0lKqZ6WW1el1IvV7a+5Hn9vDx4d24mdaWdZsF13J62WuyeMnQVnkuGP923yli/+uh93ER4d53y9Xkyx8jkoyIZxrxgryzkx5xn6pjV4V/YOo3frQGb9tl+vWWCNqOHQ6XKjO2n28Tq91e8H01my9wT3Do8iNMDXRgEbsGPbIe5z47pAiy5mp6kzXQg0h+HmJjw/sRuZuUW8uVzPTmqV0S9AWQksq323xcKSUp5ZuJfIYH/u1N1Fq1dWBosftlyraRhjYHUh0BxKt7AAbh7Qhi//SGHP0Syz4zi+oEgY/CDs+REOra7VW8xZm0RyRi7PTOiKt4e7jQM2QDu/gSNbYdRz4BNgdhqb0IVAczgPjupIUz8vnvplj75wbI1B90FQO1j8UI0vHKdl5vHe6kTGdWvJ0A66W3a18jJh+dMQcRH0uN7sNDajC4HmcAL8PHlsXCe2pZ7lhzjHWK/XoXn6wPjX4HQibHynRrs+t2gfgvDPy53/PLddrHgG8s8Yf95ONLtodRrOb6I1KJP7hNOvbVNe+m0/Geds0z2yQWs/ArpMMi4cn0mxapcle06wfN9J/j4imrBAfYG4Wof/gG1fwMB7ILSH2WlsShcCzSG5uQkvXdmd3MISXli0z+w4zmHMS+DmAYv+Ue2I45yCYp5ZuJdOLRszbXCknQI6sZIiWHQ/BEQYg/kaGF0INIcV3aIxdw+N4ucdx1h7UM8vVa2AMBj5DBxaCbu+u+Cmry2N52ROAbMm99CL0Vvjj3eNEcTjXwMvf7PT2Jz+F6A5tHuGt6ddsD9P/ryb/CI9VXW1Yu6A8P7w8kxoHWGcx27bFubN+3OT7aln+HLTYaYObEuviEDTojqNjERjrYHOE6DjWLPT1AtdCDSH5uPpzktXdSctM583V+ixBdVyc4Pi0bAgA9KOGKeIDh+G6dNh3jyKSsp4fMFuWjbx4aExHc1O6/jKymDhTGMeoXGvmJ2m3uhCoDm8Ae2acUP/CD5Zl6QnpbPGv9+H8wdm5+XBk0/y3qoEDpzI4fmJ3WjkraeYrtbWTyD1DxjzMjQJNTtNvdGFQHMKT4zvbHyL/X6nXs2sOqmplT6tDh/mumsG80LuTkZ2aWHnUE7oTIrRXbT9SGPN6AZMFwLNKTT28WTW5B4kpefq6Seq07p1pU8LEJadzk2fvvg/1wy0SigFC/8O4gaXv+X0k8pVRxcCzWkM6RDCDf0jmLMuibjD+hRRlV58Efz8qnxZ8o3TRNoFbJkDyb/D6OcgMMLsNPVOFwLNqTwxvjOhAb489P1OcgtLzI7jmG66CWbPhjZtqt7m8GH75XE26fGw/F/QfhT0vc3sNHahC4HmVBr7ePLaNT1JOZ3L83qgWdVuuglSUlDuVUwiV9Xzrq6kCBbcaSxEP/G9Bn9KqFydCoGIBInIchFJsPz8y7JGItJRRHZUuGWLyP2W154RkaMVXhtflzyaaxgY1YwZQ6OYvzWNJXtOmB3HMc2bZ4wfKK3iwnpVz7u632fB8Z0w4R1o3NLsNHZT1xbBY8BKpVQ0sNLy+H8opeKVUr2UUr2AvkAexgL25d4sf10ptfj8/TWtMg+M7ED3sAAeW7CLk9kFZsdxLPPmGeMGDh+myu+zFzpt5KpSNsD6N6HXzdD5CrPT2FVdC8FE4AvL/S+ASdVsPwI4pJTSJyi1OvHycOOt63tRWFzGA9/uoFRPV/3/nnzSGDdQFU83eO4Ze6VxDufS4cc7oGkkjHO9pdPrWghaKKWOA1h+Nq9m++uB/5z33EwR2SUicys7tVRORKaLSKyIxKan63lnNIgKacSzE7uy8dBp3tajjv+kqhhHAECr5nCFFwTtsl8gR1dWBj9NN9YauPYL8G5sdiK7q7YQiMgKEdlTyW1iTQ4kIl7ABOD7Ck9/CEQBvYDjwOtV7a+Umq2UilFKxYSE6AU0NMO1MRFc0zecd1cnsib+lNlxHEJWcBXnttu0gaMn4a4HIfZT2PmtfYM5qvVvwKFVMO7f0LK72WlMUW0hUEqNVEp1q+T2C3BSREIBLD8v9D9xHLBNKXWywnufVEqVKqXKgDlA/7r9Oporem5iNzq2aMwD3+7g2Nl8s+OY6r87j/HURTdS5O3zvy/4+RnjCwBGPANtBsF/74MTe+ye0aEkr4XVL0K3ydD3VrPTmKaup4YWAlMt96cCv1xg2xs477RQeRGxuBJw8X+VWm34ernzwU19KC5V3D1vm8tOQXHwZA6P/biLo+Ovwm3OHKMFIGL8nD3b6FIK4O4BV39mrLf73RTIP2tqbtOcOQzfTYVm0S4xevhC6loIZgGjRCQBGGV5jIi0EpE/ewCJiJ/l9QXn7f+KiOwWkV3AcOCBOubRXFS7kEa8dk0Pdqad5YkFu1HVLMzS0GTmFjHti1j8vD1478beeEy5GVJSjPPfKSn/XwTKNW5hnA8/mwo/3QVlLlY8i3Jh/k3G7339N+DTxOxEpqpTIVBKnVZKjVBKRVt+ZlqeP6aUGl9huzylVDOlVNZ5+09RSnVXSvVQSk0ov/CsabUxtlso/xjVgQXbj/Lx2iSz49hNUUkZd38dx4nsAmZP6UtogJXLTrYeAGNnwcElsPyp+g3pSJSCX2bCqb1w9VwIbm92ItPpeWi1BuVvl7bn4Mkc/r3kAO1DGjX4WTaVUjy9cC+bkzN587qe9G5dZce7yvW/EzIS4I/3oFl7iHGBKRXWzIK9C2DksxA90uw0DkFPMaE1KCLCq1f3pFurAP4+fzs7086aHalefbw2if9sSWXG0Ciu7B1euzcZ85Ixr87ihyBpjU3zOZxtXxqjh3vdBIPuMzuNw9CFQGtwfL3c+XRqDEH+Xtz2+VaS0s+ZHalefB+bxqzfDnB5j1AeqctqY+4eximSZtHw7RQ4tsNmGR3KwWXw3/shagRc8bZLXxw+ny4EWoPUvIkPX91xEQJM+XRLg5uGYtWBkzy2YDeXtA/m9Wt74uZWxw81nyZw84/gEwhfXwXpDWyA3pE4+H4qtOxmXCR39zQ7kUPRhUBrsCKD/fnstn6cySvilk+3kJlbZHYkm9icdJp75m2jS2gTPprSF28PG80kGhAGt/xsLMby1ZVwNs0272u2Yzvg6yvBPwRu/N4lRw5XRxcCrUHrER7I7CkxpJzO5cY5mzh9rtDsSHWyKek0t362lbBAX+be2s/26w43i4KbF0BhDnw5wfmLwYnd8OVE8A6AWxcZ3Wa1v9CFQGvwLokO5tOp/UjOyOXGOZvJcNJisPFQBrd9tpXwpr7Mnz6QkMbe9XOg0B7GaaLcDPhsPGQm189x6tuJPUYR8PKHqQshsPIlPDVdCDQXcUl0MHNv7cfhzFxumL2J41nONRXF6vhT3P75ViKCfPnmzgH1VwTKRfQzPjyLcoxikJFQv8eztcMbjdzuXjD1vxAUaXYih6YLgeYyBrUP5rNb+3M8q4Ar39/I/uPZZkeyyvwtqUz7IpZ2wY3sUwTKteoNUxdBWTHMHQupm+1z3Lravwi+nASNmsMdy4zTXdoF6UKguZSBUc34fsZAAK756A/WJTjulOZKKV5fFv9n76DvZgwkuJGdikC5lt3gtiXGBdYvroBd31e/j1mUgs2zjfmTWnaH25fq00FW0oVAczmdQ5vw070XE97Ul9s+28on65Icbm6i7IJi7v56G++uSuS6mAg+mRpj+wvD1gpuD3eugvAYWDANVr3oeHMTFefDz3fDbw9D9BjjtJZ/M7NTOQ1dCDSXFBrgy3czBjKic3Ne+HU/07+KIyuv2OxYAOw5msUV765n+f6TPDm+M7Mmd8fT3eT/qn5BMOUnY0Tu2leMi7DZDjI1WGYyfDoKds6HYU8Yk8h5+ZudyqmIo30TskZMTIyKjY01O4bWACilmLshhZcX76dlgA+vXN2Di6OCTclSWqb4bEMyryyNJ8jPi/du7E1M2yBTslRJKdj+Nfz2CHj4wKQPoeNY87LEzjUmzHNzh6vmQIcx5mRxEiISp5SK+cvzuhBoGmxLPcP983eQmpnHtTHhPDG+M4F+XnY7/t5jWTy+YDe7jmQxolNzXrm6B83sfT2gJtIPwg+3w8nd0PVKY76iJq3sd/wzKbDw75D8O7QbBhPe1dcDrKALgaZVI7+olLdXJjBnXRJN/Ty5b0Q01/aLsN3I3Uqcyi7ggzWH+GrTYZr6efL0FV25vEco4gzz4BQXwIa3jaUe3Txg6KPGbKaeVk6DXRt5mbDuddgy2+gaOvoFY2UxZ/jzcgC6EGialfYey+KZhXvZmnKGsEBf/nZpe67sE2bTgpCeU8icdUl8+UcKxaWK6/pF8MiYjnZthdhMZjL89igkLAX/5nDxTIi53bZTOZxLh7jP4Y93oSDbuFYx/AljWgzNavVSCETkGuAZoDPQXylV6aeziIwF3gbcgU+UUuUrmQUB3wJtgRTgWqXUmeqOqwuBVt+UUqxLyOD15QfZmXaWQD9PJvUK49qYCLq0qt1qViWlZfx+MJ1vt6ax6sApypRiUu8w7hsRTZtmTn5xUyk4vAHWvgZJq41lMLteBT2uhYgB4FaLi92lxZC6CbZ9AXt/NsYzRI+BkU9Di642/xVcQX0Vgs5AGfAx8FBlhUBE3IGDGEtVHgG2AjcopfaJyCtAplJqlog8BjRVSj1a3XF1IdDsRSnFhsTTzN+ayrK9JykqLSMs0JeLo5pxcftmdGrZhIggv7907VRKkXGuiNTMPHamnWXjoQw2J2WSU1hCcCMvJvcJ5/r+rYkMdvICUJkjcbD5QzjwKxTnQZNwiBwMEf0hvB80bQtejf56Oif/DKTHw6n9xrn/xFVQmAXeTaDnDdBvGoR0MOVXaijq9dSQiKyh6kIwEHhGKTXG8vhxAKXUyyISDwxTSh23LGS/RilV7cTquhBoZjiTW8Si3cfZkJDBH0mnycr//+6mTf088bcUA6WMNYTzi/+/r33bZn4MjApmeMcQhndqbn53UHsoPAfxi2HfL5C2GXIrDN7z9DNG/gKUFBoFo6DCSraNWkD0KKMFEHUpeDeyb/YGqqpCYI8RKmFAxSkMjwAXWe63KF+n2FIMmlf1JiIyHZgO0Lq17h2g2V9Tfy+mDGjDlAFtKC1TxJ/IISnjHGmZ+Rw5k/c/H/xN/byIaOpLRJAfnUKbEBZYjxdQHZV3I+PUUI9rjep4JhmOboPso5BzEnJPGVNee3gbXVEDIiCkIwR3MFoN+gKw3VRbCERkBdCykpeeVEr9YsUxKvvbrHEzRCk1G5gNRougpvtrmi25uwldWjWp9fUClyMCQe2Mm+Zwqi0ESqm6ru58BIio8DgcOGa5f1JEQiucGjpVx2NpmqZpNWSPE5VbgWgRiRQRL+B6YKHltYXAVMv9qYA1LQxN0zTNhupUCETkShE5AgwEfhWRpZbnW4nIYgClVAkwE1gK7Ae+U0rttbzFLGCUiCRg9CqaVZc8mqZpWs3pAWWapmkuoqpeQy7Qh03TNE27EF0INE3TXJwuBJqmaS5OFwJN0zQX55QXi0UkHThcy92DgQwbxjGDs/8OOr/5nP13cPb8YM7v0EYpFXL+k05ZCOpCRGIru2ruTJz9d9D5zefsv4Oz5wfH+h30qSFN0zQXpwuBpmmai3PFQjDb7AA24Oy/g85vPmf/HZw9PzjQ7+By1wg0TdO0/+WKLQJN0zStAl0INE3TXJxLFQIRGSsi8SKSaFkj2amIyFwROSUie8zOUhsiEiEiq0Vkv4jsFZH7zM5UEyLiIyJbRGSnJf+zZmeqDRFxF5HtIrLI7Cy1ISIpIrJbRHaIiNPNPikigSLyg4gcsPxfGGh6Jle5RiAi7sBBjOmuj2Csk3CDUmqfqcFqQESGAOeAL5VS3czOU1OWxYdClVLbRKQxEAdMcpa/AxERwF8pdU5EPIH1wH1KqU0mR6sREfkHEAM0UUpdbnaemhKRFCBGKeWUA8pE5AtgnVLqE8saLX5KqbNmZnKlFkF/IFEplaSUKgLmAxNNzlQjSqm1QKbZOWpLKXVcKbXNcj8HY32KMHNTWU8ZzlkeelpuTvVNSkTCgcuAT8zO4opEpAkwBPgUQClVZHYRANcqBGFAWoXHR3CiD6GGRkTaAr2BzSZHqRHLaZUdGMuqLldKOVV+4C3gEaDM5Bx1oYBlIhInItPNDlND7YB04DPL6blPRMTf7FCuVAikkuec6ttcQyEijYAfgfuVUtlm56kJpVSpUqoXxtrb/UXEaU7RicjlwCmlVJzZWepokFKqDzAOuNdyytRZeAB9gA+VUr2BXMD065WuVAiOABEVHocDx0zK4rIs59Z/BOYppRaYnae2LM35NcBYc5PUyCBgguUc+3zgUhH52txINaeUOmb5eQr4CeO0r7M4Ahyp0JL8AaMwmMqVCsFWIFpEIi0XaK4HFpqcyaVYLrZ+CuxXSr1hdp6aEpEQEQm03PcFRgIHTA1VA0qpx5VS4Uqpthj//lcppW42OVaNiIi/paMBllMqowGn6UWnlDoBpIlIR8tTIwDTO0t4mB3AXpRSJSIyE1gKuANzlVJ7TY5VIyLyH2AYECwiR4CnlVKfmpuqRgYBU4DdlvPsAE8opRabF6lGQoEvLD3Q3IDvlFJO2QXTibUAfjK+U+ABfKOUWmJupBr7GzDP8oU0CbjN5Dyu031U0zRNq5wrnRrSNE3TKqELgaZpmovThUDTNM3F6UKgaZrm4nQh0DRNc3G6EGiaprk4XQg0TdNc3P8BhV9Vhrrq+m8AAAAASUVORK5CYII=",
      "text/plain": [
       "<Figure size 432x288 with 1 Axes>"
      ]
     },
     "metadata": {
      "needs_background": "light"
     },
     "output_type": "display_data"
    }
   ],
   "source": [
    "import matplotlib.pyplot as plt\n",
    "\n",
    "a = np.linspace(0,2*np.pi,100)\n",
    "print(a)\n",
    "\n",
    "tenth = np.array(a[::10])\n",
    "print('\\n', tenth)\n",
    "\n",
    "reverse = np.array(a[::-1])\n",
    "print('\\n', reverse)\n",
    "\n",
    "j = np.array([val for val in a if abs(np.sin(val) - np.cos(val)) < 0.1])\n",
    "print('\\n', j)\n",
    "\n",
    "sin = np.array([np.sin(val) for val in a])\n",
    "cos = np.array([np.cos(val) for val in a])\n",
    "f = np.array([np.sin(val) for val in j])\n",
    "g = np.array([np.cos(val) for val in j])\n",
    "\n",
    "plt.plot(a, cos, a, sin, j, f, 'ro', j, g, 'ro')\n",
    "plt.show\n",
    "\n",
    "\n"
   ]
  },
  {
=======
>>>>>>> main
   "cell_type": "markdown",
   "metadata": {},
   "source": [
    "5\\. Create a matrix that shows the 10 by 10 multiplication table.\n",
    "\n",
    " * Find the trace of the matrix\n",
    " * Extract the anto-diagonal (this should be ```array([10, 18, 24, 28, 30, 30, 28, 24, 18, 10])```)\n",
    " * Extract the diagnoal offset by 1 upwards (this should be ```array([ 2,  6, 12, 20, 30, 42, 56, 72, 90])```)"
   ]
  },
  {
<<<<<<< HEAD
   "cell_type": "code",
   "execution_count": 48,
   "metadata": {},
   "outputs": [
    {
     "name": "stdout",
     "output_type": "stream",
     "text": [
      "[[  1   2   3   4   5   6   7   8   9  10]\n",
      " [  2   4   6   8  10  12  14  16  18  20]\n",
      " [  3   6   9  12  15  18  21  24  27  30]\n",
      " [  4   8  12  16  20  24  28  32  36  40]\n",
      " [  5  10  15  20  25  30  35  40  45  50]\n",
      " [  6  12  18  24  30  36  42  48  54  60]\n",
      " [  7  14  21  28  35  42  49  56  63  70]\n",
      " [  8  16  24  32  40  48  56  64  72  80]\n",
      " [  9  18  27  36  45  54  63  72  81  90]\n",
      " [ 10  20  30  40  50  60  70  80  90 100]]\n",
      "\n",
      "The trace is: 385\n",
      "\n",
      "The anti-trace is: 385\n",
      "\n",
      "the offset diagonal is: [ 2  6 12 20 30 42 56 72 90]\n"
     ]
    }
   ],
   "source": [
    "a = np.arange(1,11)\n",
    "b = a*a[:,np.newaxis]\n",
    "print(b)\n",
    "\n",
    "trace = 0\n",
    "l = np.arange(10)\n",
    "for i in l:\n",
    "    trace += b[i,i]\n",
    "print('\\nThe trace is:', trace)\n",
    "\n",
    "anti_trace = 0\n",
    "for i in l:\n",
    "    anti_trace += b[9-i,9-i]\n",
    "print('\\nThe anti-trace is:', anti_trace)\n",
    "\n",
    "up_diag = np.array([b[i,j] for i in range(10) for j in range(10) if j == i+1])\n",
    "print('\\nthe offset diagonal is:', up_diag)\n",
    "\n"
   ]
  },
  {
=======
>>>>>>> main
   "cell_type": "markdown",
   "metadata": {},
   "source": [
    "6\\. Use broadcasting to create a grid of distances\n",
    "\n",
    "Route 66 crosses the following cities in the US: Chicago, Springfield, Saint-Louis, Tulsa, Oklahoma City, Amarillo, Santa Fe, Albuquerque, Flagstaff, Los Angeles\n",
    "The corresponding positions in miles are: 0, 198, 303, 736, 871, 1175, 1475, 1544, 1913, 2448\n",
    "\n",
    "  * Construct a 2D grid of distances among each city along Route 66\n",
    "  * Convert that in km (those savages...)"
   ]
  },
  {
<<<<<<< HEAD
   "cell_type": "code",
   "execution_count": 49,
   "metadata": {},
   "outputs": [
    {
     "name": "stdout",
     "output_type": "stream",
     "text": [
      "Distance (miles): \n",
      " [[   0  198  303  736  871 1175 1475 1544 1913 2448]\n",
      " [ 198    0  105  538  673  977 1277 1346 1715 2250]\n",
      " [ 303  105    0  433  568  872 1172 1241 1610 2145]\n",
      " [ 736  538  433    0  135  439  739  808 1177 1712]\n",
      " [ 871  673  568  135    0  304  604  673 1042 1577]\n",
      " [1175  977  872  439  304    0  300  369  738 1273]\n",
      " [1475 1277 1172  739  604  300    0   69  438  973]\n",
      " [1544 1346 1241  808  673  369   69    0  369  904]\n",
      " [1913 1715 1610 1177 1042  738  438  369    0  535]\n",
      " [2448 2250 2145 1712 1577 1273  973  904  535    0]]\n",
      "\n",
      "Distance (km):\n",
      " [[   0.    318.78  487.83 1184.96 1402.31 1891.75 2374.75 2485.84 3079.93\n",
      "  3941.28]\n",
      " [ 318.78    0.    169.05  866.18 1083.53 1572.97 2055.97 2167.06 2761.15\n",
      "  3622.5 ]\n",
      " [ 487.83  169.05    0.    697.13  914.48 1403.92 1886.92 1998.01 2592.1\n",
      "  3453.45]\n",
      " [1184.96  866.18  697.13    0.    217.35  706.79 1189.79 1300.88 1894.97\n",
      "  2756.32]\n",
      " [1402.31 1083.53  914.48  217.35    0.    489.44  972.44 1083.53 1677.62\n",
      "  2538.97]\n",
      " [1891.75 1572.97 1403.92  706.79  489.44    0.    483.    594.09 1188.18\n",
      "  2049.53]\n",
      " [2374.75 2055.97 1886.92 1189.79  972.44  483.      0.    111.09  705.18\n",
      "  1566.53]\n",
      " [2485.84 2167.06 1998.01 1300.88 1083.53  594.09  111.09    0.    594.09\n",
      "  1455.44]\n",
      " [3079.93 2761.15 2592.1  1894.97 1677.62 1188.18  705.18  594.09    0.\n",
      "   861.35]\n",
      " [3941.28 3622.5  3453.45 2756.32 2538.97 2049.53 1566.53 1455.44  861.35\n",
      "     0.  ]]\n"
     ]
    }
   ],
   "source": [
    "city = np.array(['Chicago','Springflied', 'Saint-Louis', 'Tulsa', 'Oklahoma City', 'Amarillo', 'Santa Fe', 'Albuquerque', 'Flagstaff', 'Los Angeles' ])\n",
    "distance = np.array([0, 198, 303, 736, 871, 1175, 1475, 1544, 1913, 2448])\n",
    "relative_dist = abs(distance[:,np.newaxis] - distance)\n",
    "print('Distance (miles): \\n', relative_dist)\n",
    "print('\\nDistance (km):\\n', relative_dist*1.61)"
   ]
  },
  {
=======
>>>>>>> main
   "cell_type": "markdown",
   "metadata": {},
   "source": [
    "7\\. Prime numbers sieve: compute the prime numbers in the 0-N (N=99 to start with) range with a sieve (mask).\n",
    "  * Constract a shape (100,) boolean array, the mask\n",
    "  * Identify the multiples of each number starting from 2 and set accordingly the corresponding mask element\n",
    "  * Apply the mask to obtain an array of ordered prime numbers\n",
    "  * Check the performances (timeit); how does it scale with N?\n",
    "  * Implement the optimization suggested in the [sieve of Eratosthenes](https://en.wikipedia.org/wiki/Sieve_of_Eratosthenes)"
   ]
  },
  {
<<<<<<< HEAD
   "cell_type": "code",
   "execution_count": 54,
   "metadata": {},
   "outputs": [
    {
     "name": "stdout",
     "output_type": "stream",
     "text": [
      "Method one\n",
      "\n",
      "[ 2  3  5  7 11 13 17 19 23 29 31 37 41 43 47 53 59 61 67 71 73 79 83 89\n",
      " 97]\n",
      "Time passed: 0.0\n",
      "\n",
      "\n",
      "[  2   3   5   7  11  13  17  19  23  29  31  37  41  43  47  53  59  61\n",
      "  67  71  73  79  83  89  97 101 103 107 109 113 127 131 137 139 149 151\n",
      " 157 163 167 173 179 181 191 193 197 199 211 223 227 229 233 239 241 251\n",
      " 257 263 269 271 277 281 283 293 307 311 313 317 331 337 347 349 353 359\n",
      " 367 373 379 383 389 397 401 409 419 421 431 433 439 443 449 457 461 463\n",
      " 467 479 487 491 499 503 509 521 523 541 547 557 563 569 571 577 587 593\n",
      " 599 601 607 613 617 619 631 641 643 647 653 659 661 673 677 683 691 701\n",
      " 709 719 727 733 739 743 751 757 761 769 773 787 797 809 811 821 823 827\n",
      " 829 839 853 857 859 863 877 881 883 887 907 911 919 929 937 941 947 953\n",
      " 967 971 977 983 991 997]\n",
      "Time passed: 0.0\n",
      "\n",
      "\n",
      "[   2    3    5 ... 9949 9967 9973]\n",
      "Time passed: 0.005003213882446289\n",
      "\n",
      "\n",
      "[    2     3     5 ... 99971 99989 99991]\n",
      "Time passed: 0.06401681900024414\n",
      "\n",
      "\n",
      "Erathostene\n",
      "\n",
      "[ 2  3  5  7 11 13 17 19 23 29 31 37 41 43 47 53 59 61 67 71 73 79 83 89\n",
      " 97]\n",
      "Time passed: 0.0\n",
      "\n",
      "\n",
      "[  2   3   5   7  11  13  17  19  23  29  31  37  41  43  47  53  59  61\n",
      "  67  71  73  79  83  89  97 101 103 107 109 113 127 131 137 139 149 151\n",
      " 157 163 167 173 179 181 191 193 197 199 211 223 227 229 233 239 241 251\n",
      " 257 263 269 271 277 281 283 293 307 311 313 317 331 337 347 349 353 359\n",
      " 367 373 379 383 389 397 401 409 419 421 431 433 439 443 449 457 461 463\n",
      " 467 479 487 491 499 503 509 521 523 541 547 557 563 569 571 577 587 593\n",
      " 599 601 607 613 617 619 631 641 643 647 653 659 661 673 677 683 691 701\n",
      " 709 719 727 733 739 743 751 757 761 769 773 787 797 809 811 821 823 827\n",
      " 829 839 853 857 859 863 877 881 883 887 907 911 919 929 937 941 947 953\n",
      " 961 967 971 977 983 991 997]\n",
      "Time passed: 0.0009992122650146484\n",
      "\n",
      "\n",
      "[   2    3    5 ... 9949 9967 9973]\n",
      "Time passed: 0.0060062408447265625\n",
      "\n",
      "\n",
      "[    2     3     5 ... 99971 99989 99991]\n",
      "Time passed: 0.06401801109313965\n",
      "\n",
      "\n"
     ]
    }
   ],
   "source": [
    "import time\n",
    "\n",
    "#method one\n",
    "print('Method one\\n')\n",
    "for n in [10**k for k in range(2,6)]:\n",
    "    mask = np.full(n, True )\n",
    "    mask[0], mask[1] = False, False\n",
    "    t0 = time.time()\n",
    "\n",
    "    for i in range(2,int(n/2)):\n",
    "        mask[i*2::i] = False\n",
    "    \n",
    "    t1 = time.time()\n",
    "    num = np.arange(n)\n",
    "    print(num[mask])\n",
    "    print('Time passed:', t1 - t0)\n",
    "    print('\\n')\n",
    "\n",
    "#Erathostene\n",
    "print('Erathostene\\n')\n",
    "for n in [10**k for k in range(2,6)]:\n",
    "    mask = np.full(n, True )\n",
    "    mask[0], mask[1] = False, False\n",
    "    t0 = time.time()\n",
    "\n",
    "    for i in range(2,int(n**(1/2))):\n",
    "        if mask[i] == True:\n",
    "            for j in range(i**2, n, i):\n",
    "                mask[j] = False\n",
    "\n",
    "    \n",
    "    t1 = time.time()\n",
    "    num = np.arange(n)\n",
    "    print(num[mask])\n",
    "    print('Time passed:', t1 - t0)\n",
    "    print('\\n')\n"
   ]
  },
  {
=======
>>>>>>> main
   "cell_type": "markdown",
   "metadata": {},
   "source": [
    "**N.B. the following exercises are meant to be solved only if you are familiar with the numpy random library. If not you can skip them (postponed for one of the next exercise sessions)**\n"
   ]
  },
  {
   "cell_type": "markdown",
   "metadata": {},
   "source": [
    "8\\. Diffusion using random walk\n",
    "\n",
    "Consider a simple random walk process: at each step in time, a walker jumps right or left (+1 or -1) with equal probability. The goal is to find the typical distance from the origin of a random walker after a given amount of time. \n",
    "To do that, let's simulate many walkers and create a 2D array with each walker as a raw and the actual time evolution as columns\n",
    "\n",
    "  * Take 1000 walkers and let them walk for 200 steps\n",
    "  * Use randint to create a 2D array of size walkers x steps with values -1 or 1\n",
    "  * Build the actual walking distances for each walker (i.e. another 2D array \"summing on each raw\")\n",
    "  * Take the square of that 2D array (elementwise)\n",
    "  * Compute the mean of the squared distances at each step (i.e. the mean along the columns)\n",
    "  * Plot the average distances (sqrt(distance\\*\\*2)) as a function of time (step)\n",
    "  \n",
    "Did you get what you expected?"
   ]
  },
  {
<<<<<<< HEAD
   "cell_type": "code",
   "execution_count": 12,
   "metadata": {},
   "outputs": [
    {
     "name": "stdout",
     "output_type": "stream",
     "text": [
      "[-14  -8  -6  -2  12  12  14 -12  -4 -10  -2   2  -8 -12  -2 -14  -4  20\n",
      "  12 -32  14  -4  22  16 -14  -2  10   6   0  -2  26   6  -4  -8  10  -4\n",
      "   4 -24   2   4  -4 -12  10  28 -22 -18  -4   2  -6 -20   2  22   8  -4\n",
      "  24  -2 -10 -20  -4  40  -8  -4   0   2  28   4  14  -8  10 -14  18 -10\n",
      "   0  16 -12   4  10  10  16 -22  14   2   8  -2   4  -8  14  18  -8  12\n",
      " -14   2  10  10   0   2  -4  -4  10  18  -2  14   2  14   4  -8 -14   2\n",
      "   0   2 -12   2  10  -8 -34  12  -4   6  -2 -22  12   2 -22  22   8   2\n",
      "  16  12   4 -28   4   4  20   4  28   4   2  -2  -2 -18  22 -36   6  -8\n",
      " -24  18  30 -10  -8  -6   4 -26  20 -36  38  26  -4  -6  10  20 -18  10\n",
      "  -2  -4   4   8  -4  20   6  24  12   0  14 -18  -8   0  -8 -32  -6  -2\n",
      "  16 -14  -4  12  14  -8 -18 -22  12   2  -6  12   0 -20  16  16   6   6\n",
      "  10  -6  10  14 -20  -8 -30   8 -22  18  12   2 -22  10  -2  -6  24 -16\n",
      "  20   8  10   8 -24 -18   2 -24   0 -10  -2 -14  12   8   4  12 -12   2\n",
      " -12  -2   8 -28   8  14   0  -6  26 -14 -10 -10  14  10   6  -8 -16 -10\n",
      "  10 -28 -16  20   4   6  -6   8 -10  14  18 -14  -6   6  -2 -14  12 -10\n",
      "  -2  -6 -36   2 -28  -6  16  -4 -12 -12   8   8 -18   2 -18  14  12 -24\n",
      "  -4   2  -8   6  14 -26  -8  18  24   2   8  16  14  -4  16  -2  -2   2\n",
      " -18  16 -22   6 -22   6   0  -8  20  -6 -10  -4 -20 -16  10   4 -20   8\n",
      "  -4 -18  12  34 -12   4  26  -8   0  20 -18  20  -4  -6  -6  -6   2  16\n",
      "  38 -14   2  14 -10 -20  28 -10  10 -12   2  -8   0   2  28 -14  -8   4\n",
      "  22   0  20   4  12  -6   8 -14 -14  16 -18  16  -8  -4  -2  28 -12   4\n",
      "  -8  10  -4 -10   4   2  -2   2  -8 -20  -6  -8   0 -20  28  20  12 -20\n",
      "   0   4 -22   0 -24  -6  12   2  -4 -14  12  12 -12 -22  14 -16   6 -10\n",
      "   4 -18 -12  22 -12  12   0  -8  -4 -14  12   4 -20  -2 -16  22  -6  12\n",
      " -10  32  26 -10   2   0   2  16  22  -8  20 -14   6  10  14 -10  -8   2\n",
      " -14  -6   0  10 -20  -6   4  26   6  -6   0  16 -20   6  -8  -8   8  18\n",
      "   6 -12  -2 -16   4   2   0   6   0  10 -10   0 -30  -6 -14  12 -12 -36\n",
      "  -6  14  -6  12   2  14  16  -6 -22  -6  -6  -4  16   2  20 -14   6  -2\n",
      "   0  -4  24   4   8  -8  12 -22   8 -18  -2 -24   8  14  -6   4  36  -4\n",
      "  16  -2  -4  12  16 -20  10  10  16  -8   0   2 -20  -2  -2 -10   4 -12\n",
      "  -2 -18  14   6 -12   6  16  12  18 -10  -6 -16 -16  -4 -10  -6   6 -22\n",
      " -18  14   0   4   4 -22  22  -2  -4  -6   6   4   6  -8   0  -4  -6  14\n",
      "  -4  -6  14 -32   0 -10  -6  -6  -6  -8   2   2 -12  -6  -4  12   4 -10\n",
      "  -8   8  10   6 -26  -6 -26 -10  -6  22 -10 -10  -8  -6   4   0   6  -2\n",
      " -12   6 -22 -26  -4 -20   0   2  -2   2  -8  -6   6  14  20   6  -4  10\n",
      "   2  -4  -8  -4 -24   8 -12  14 -10  -6  12 -24   2 -18  12 -20 -12  -8\n",
      "  16  10  -2   0 -10 -26 -10  -8 -16  18  -6  28  -8  18   6 -10 -26   2\n",
      "  -2 -28   0 -10  14  -2  -6  -6 -14  -2 -14 -30   4  14 -14 -22  18 -24\n",
      "   4 -20 -26 -18   6 -22  24   0 -18  14   6   8   4 -18   0  16 -16   6\n",
      " -16   4 -18  10  -4 -14 -10  20 -12 -26 -18 -34 -12  -8  36  22  -2  -4\n",
      " -28 -12 -20  -2  16  18  -8  18   0 -14   2 -26  -2   2 -14  16 -12  28\n",
      "  -2 -14  10 -10  14 -16  -2  18 -14  -2  -6   4 -16 -16   8  -6  -6   4\n",
      "  10  -6  -6  24  34  -8  12  -8  20   4   8  16  10 -22  12  -4  -8  -4\n",
      "  -8  14   8  14   2  -4  16  -8  -4  -8  18 -18  -4  -2  -2 -26 -22   8\n",
      "   0  12  22  -2   6 -12   0  10  18  -4 -30  18  -8  34  -2   8  16 -10\n",
      "  10 -12   0  16  14 -18   6 -12 -18   2  -6   4 -24   6 -10  -8  12 -12\n",
      " -10  16   4  -6   6 -16   2   2 -16  -4  -4  12  12  14   8 -12  -2   6\n",
      "  28   8  -2 -10 -14  16  -8 -18 -12  10   0  -4  26 -10  -8   6  -6  16\n",
      "  16  -4   6  18  -2  -8 -10  28 -10   4 -20 -12  20  16  26   4   8 -26\n",
      "  10  -2 -10   4 -10  -4 -16  28   0  14   8   0  -2  -4   2 -14   4 -12\n",
      "  26  12 -10   2  -8  -6  12   2  20 -14  30   8   0  26 -14  20  -4  -2\n",
      "  20  10  12 -26  -4  -8   2  -4   0 -14  18   2   2   6  20   8   8   4\n",
      "  14   6   0  -6 -20  -8  18  -4   8  -2   2  -8 -26  16   6 -10  -6   8\n",
      "   2  18   6  -6 -10  42   2  10 -28 -10   8  -8   0 -30 -24  -8  14   4\n",
      "  22 -10  14 -14   2  14  14  20   6   0  -2 -10  -4  -4  -6   8  24  -8\n",
      "   2 -42 -16  18  -6  -2  -8  -8   0  -6]\n"
     ]
    }
   ],
   "source": [
    "import numpy as np\n",
    "import numpy.random as npr\n",
    "\n",
    "W, s = 1000, 200\n",
    "\n",
    "jump = npr.randint(-1,1,size=(W,s))\n",
    "jump[jump == 0] = 1\n",
    "distances = np.array([]).reshape(W,s)\n",
    "    \n",
    "print(distances)"
   ]
  },
  {
=======
>>>>>>> main
   "cell_type": "markdown",
   "metadata": {},
   "source": [
    "9\\. Analyze a data file \n",
    "  * Download the population of hares, lynxes and carrots at the beginning of the last century.\n",
    "    ```python\n",
    "    ! wget https://www.dropbox.com/s/3vigxoqayo389uc/populations.txt\n",
    "    ```\n",
    "\n",
    "  * Check the content by looking within the file\n",
    "  * Load the data (use an appropriate numpy method) into a 2D array\n",
    "  * Create arrays out of the columns, the arrays being (in order): *year*, *hares*, *lynxes*, *carrots* \n",
    "  * Plot the 3 populations over the years\n",
    "  * Compute the main statistical properties of the dataset (mean, std, correlations, etc.)\n",
    "  * Which species has the highest population each year?\n",
    "\n",
    "Do you feel there is some evident correlation here? [Studies](https://www.enr.gov.nt.ca/en/services/lynx/lynx-snowshoe-hare-cycle) tend to believe so."
   ]
  },
  {
   "cell_type": "code",
   "execution_count": null,
   "metadata": {},
   "outputs": [],
   "source": []
  }
 ],
 "metadata": {
  "kernelspec": {
   "display_name": "Python 3",
   "language": "python",
   "name": "python3"
  },
  "language_info": {
   "codemirror_mode": {
    "name": "ipython",
    "version": 3
   },
   "file_extension": ".py",
   "mimetype": "text/x-python",
   "name": "python",
   "nbconvert_exporter": "python",
   "pygments_lexer": "ipython3",
   "version": "3.8.8"
  }
 },
 "nbformat": 4,
 "nbformat_minor": 2
}
