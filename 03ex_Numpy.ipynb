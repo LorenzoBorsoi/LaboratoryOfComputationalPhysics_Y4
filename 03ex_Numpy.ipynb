{
 "cells": [
  {
   "cell_type": "code",
   "execution_count": 25,
   "metadata": {},
   "outputs": [
    {
     "name": "stdout",
     "output_type": "stream",
     "text": [
      "[[ 0  1  2  3]\n",
      " [ 4  5  6  7]\n",
      " [ 8  9 10 11]]\n",
      "the means of the rows are: [1.5, 5.5, 9.5]\n",
      "the means of the columns are: [4.0, 5.0, 6.0, 7.0]\n",
      "the means are: 5.5\n"
     ]
    }
   ],
   "source": [
    "#1\n",
    "import numpy as np\n",
    "m = np.arange(12).reshape((3,4))\n",
    "print(m)\n",
    "\n",
    "def mean(x):\n",
    "\n",
    "    return\n",
    "\n",
    "\n",
    "m_row = [sum(m[column,:])/m.shape[1] for column in range(m.shape[0])]\n",
    "m_column = [sum(m[:,row])/m.shape[0] for row in range(m.shape[1])]\n",
    "m_overall = np.average(m)\n",
    "\n",
    "print(f'the means of the rows are: {m_row}')\n",
    "print(f'the means of the columns are: {m_column}')\n",
    "print(f'the means are: {m_overall}')\n"
   ]
  },
  {
   "cell_type": "code",
   "execution_count": 52,
   "metadata": {},
   "outputs": [
    {
     "name": "stdout",
     "output_type": "stream",
     "text": [
      "[[ 2  4  6  8]\n",
      " [ 6 12 18 24]\n",
      " [10 20 30 40]\n",
      " [14 28 42 56]]\n",
      "[[ 2  4  6  8]\n",
      " [ 6 12 18 24]\n",
      " [10 20 30 40]\n",
      " [14 28 42 56]]\n"
     ]
    }
   ],
   "source": [
    "#2\n",
    "u = np.array([1,3,5,7])\n",
    "v = np.array([2,4,6,8])\n",
    "\n",
    "uxv = np.outer(u,v)\n",
    "print(uxv)\n",
    "\n",
    "A = np.zeros((4,4), dtype=int)\n",
    "\n",
    "for i in range(A.shape[0]):\n",
    "    for j in range(A.shape[1]): A[i,j] = u[i] * v[j]\n",
    "print(A)\n",
    "\n",
    "# v_new = np.reshape(v, () )\n",
    "# u_new = np.reshape(u, () )\n",
    "# a = u_new * v_new\n",
    "# print(a)"
   ]
  },
  {
   "cell_type": "code",
   "execution_count": 64,
   "metadata": {},
   "outputs": [
    {
     "name": "stdout",
     "output_type": "stream",
     "text": [
      "[[0.71267882 0.16122454 0.93145372 0.25896709 0.63844966 0.33533543]\n",
      " [0.36859229 0.12607887 0.36397183 0.87046762 0.95182273 0.48063249]\n",
      " [0.04178704 0.68831499 0.27370008 0.92892381 0.54824435 0.04464405]\n",
      " [0.15681279 0.57347291 0.25079499 0.67959926 0.16505278 0.03819498]\n",
      " [0.11944942 0.87183455 0.44294632 0.72798708 0.90963793 0.64781682]\n",
      " [0.11796549 0.99185453 0.60366892 0.06674099 0.93126125 0.6089266 ]\n",
      " [0.49849033 0.76404047 0.32547107 0.17891539 0.43994154 0.84561238]\n",
      " [0.19846097 0.3955451  0.0358102  0.73596054 0.69792459 0.85690246]\n",
      " [0.01023303 0.74030033 0.20087356 0.36679889 0.24383176 0.51977435]\n",
      " [0.85163847 0.43161341 0.59402898 0.18618296 0.10010774 0.22197799]]\n",
      "[[0.71267882 0.16122454 0.93145372 0.25896709 0.63844966 0.33533543]\n",
      " [0.36859229 0.12607887 0.36397183 0.87046762 0.95182273 0.48063249]\n",
      " [0.         0.68831499 0.27370008 0.92892381 0.54824435 0.        ]\n",
      " [0.15681279 0.57347291 0.25079499 0.67959926 0.16505278 0.        ]\n",
      " [0.11944942 0.87183455 0.44294632 0.72798708 0.90963793 0.64781682]\n",
      " [0.11796549 0.99185453 0.60366892 0.         0.93126125 0.6089266 ]\n",
      " [0.49849033 0.76404047 0.32547107 0.17891539 0.43994154 0.84561238]\n",
      " [0.19846097 0.3955451  0.         0.73596054 0.69792459 0.85690246]\n",
      " [0.         0.74030033 0.20087356 0.36679889 0.24383176 0.51977435]\n",
      " [0.85163847 0.43161341 0.59402898 0.18618296 0.10010774 0.22197799]]\n"
     ]
    }
   ],
   "source": [
    "#3\n",
    "import numpy as np\n",
    "\n",
    "R = np.asarray([[np.random.random() for col in range(6)] for row in range(10)])\n",
    "print(R)\n",
    "for row in range(R.shape[0]):\n",
    "    for column in range(R.shape[1]):\n",
    "        if(R[row,column] < 0.1):\n",
    "            R[row,column] = 0\n",
    "print(R)"
   ]
  },
  {
   "cell_type": "code",
   "execution_count": 17,
   "metadata": {},
   "outputs": [
    {
     "name": "stdout",
     "output_type": "stream",
     "text": [
      "True\n",
      "[0.7615982190520711, 0.8250647373064104, 3.8714576135146945, 3.934924131769034]\n"
     ]
    },
    {
     "data": {
      "image/png": "[encoded data removed]",
      "text/plain": [
       "<Figure size 432x288 with 1 Axes>"
      ]
     },
     "metadata": {
      "needs_background": "light"
     },
     "output_type": "display_data"
    }
   ],
   "source": [
    "#4\n",
    "import numpy as np\n",
    "from numpy import pi,cos, sin\n",
    "x = np.linspace(0,2*pi, num=100)\n",
    "# print(x)\n",
    "#a)\n",
    "y = x[slice(0, len(x), 10)]\n",
    "y1 = x[0 : len(x) : 10]\n",
    "print(np.may_share_memory(y, y1))\n",
    "\n",
    "#b)\n",
    "z = x[::-1]\n",
    "# print(z)\n",
    "\n",
    "#c)\n",
    "sincos = [i for i in x if( abs(sin(i) - cos(i) ) < 0.1 ) ]\n",
    "print(sincos)\n",
    "\n",
    "#d)\n",
    "import matplotlib.pyplot as plt\n",
    "\n",
    "ay_sin = np.sin(x)\n",
    "ay_cos = np.cos(x)\n",
    "\n",
    "xs = sincos\n",
    "ys = [sin(i) for i in sincos]\n",
    "\n",
    "plt.scatter(xs,ys)\n",
    "plt.plot(x, ay_sin)\n",
    "plt.plot(x,ay_cos)\n",
    "plt.legend(['sin(x)', 'cos(x)'])\n",
    "plt.show()\n",
    "\n",
    "\n"
   ]
  },
  {
   "cell_type": "code",
   "execution_count": 60,
   "metadata": {},
   "outputs": [
    {
     "name": "stdout",
     "output_type": "stream",
     "text": [
      "[[  1   2   3   4   5   6   7   8   9  10]\n",
      " [  2   4   6   8  10  12  14  16  18  20]\n",
      " [  3   6   9  12  15  18  21  24  27  30]\n",
      " [  4   8  12  16  20  24  28  32  36  40]\n",
      " [  5  10  15  20  25  30  35  40  45  50]\n",
      " [  6  12  18  24  30  36  42  48  54  60]\n",
      " [  7  14  21  28  35  42  49  56  63  70]\n",
      " [  8  16  24  32  40  48  56  64  72  80]\n",
      " [  9  18  27  36  45  54  63  72  81  90]\n",
      " [ 10  20  30  40  50  60  70  80  90 100]]\n",
      "385\n",
      "385\n",
      "[10, 18, 24, 28, 30, 30, 28, 24, 18, 10]\n",
      "[10 18 24 28 30 30 28 24 18 10]\n",
      "[2, 6, 12, 20, 30, 42, 56, 72, 90]\n",
      "[ 2  6 12 20 30 42 56 72 90]\n"
     ]
    }
   ],
   "source": [
    "#5\n",
    "x = np.arange(1,11)\n",
    "A = x * x[:,None] #vettore x per il suo trasposto\n",
    "print(A)\n",
    "\n",
    "#a)\n",
    "trace = np.trace(A)\n",
    "print(trace)\n",
    "tr = 0\n",
    "for row in range(A.shape[0]):\n",
    "    for column in range(A.shape[1]):\n",
    "        if(row == column): tr += A[row,column]\n",
    "print(tr)\n",
    "        \n",
    "#b)\n",
    "anti = []\n",
    "trans = np.fliplr(A)\n",
    "diago = np.diagonal(trans)\n",
    "for row in range(0, A.shape[0]):\n",
    "    for column in range(0, A.shape[1]):\n",
    "        if(row == column): anti.append(trans[row ,column])\n",
    "print(anti)\n",
    "print(diago)\n",
    "\n",
    "#c)\n",
    "offset_diag = []\n",
    "off_diago = np.diagonal(A, offset=1)\n",
    "for row in range(0, A.shape[0]):\n",
    "    for column in range(0, A.shape[1]):\n",
    "        if(row == (column+1)): offset_diag.append(A[row ,column])\n",
    "print(offset_diag)\n",
    "print(off_diago)\n",
    "\n",
    "\n"
   ]
  },
  {
   "cell_type": "code",
   "execution_count": 105,
   "metadata": {},
   "outputs": [
    {
     "name": "stdout",
     "output_type": "stream",
     "text": [
      "[[   0  198  303  736  871 1175 1475 1544 1913 2448]\n",
      " [ 198    0  105  538  673  977 1277 1346 1715 2250]\n",
      " [ 303  105    0  433  568  872 1172 1241 1610 2145]\n",
      " [ 736  538  433    0  135  439  739  808 1177 1712]\n",
      " [ 871  673  568  135    0  304  604  673 1042 1577]\n",
      " [1175  977  872  439  304    0  300  369  738 1273]\n",
      " [1475 1277 1172  739  604  300    0   69  438  973]\n",
      " [1544 1346 1241  808  673  369   69    0  369  904]\n",
      " [1913 1715 1610 1177 1042  738  438  369    0  535]\n",
      " [2448 2250 2145 1712 1577 1273  973  904  535    0]]\n"
     ]
    }
   ],
   "source": [
    "#6\n",
    "cities = ['Chicago', 'Springfield', 'Saint-Louis', 'Tulsa', 'Oklahoma City', 'Amarillo', 'Santa Fe', 'Albuquerque', 'Flagstaff', 'Los Angeles']\n",
    "r = np.array([ 0, 198, 303, 736, 871, 1175, 1475, 1544, 1913, 2448])\n",
    "c = np.reshape(r, (r.shape[0], 1) )\n",
    "# print(c)\n",
    "\n",
    "miles = abs(r-c)\n",
    "print(miles)\n",
    "km = miles *1.60934\n",
    "# print(km)\n",
    "\n",
    "\n",
    "# import pandas as pd\n",
    "\n",
    "# city_miles = pd.DataFrame(miles , columns=cities)\n",
    "# # city = {'Chicago', 'Springfield', 'Saint-Louis', 'Tulsa', 'Oklahoma City', 'Amarillo', 'Santa Fe', 'Albuquerque', 'Flagstaff', 'Los Angeles'}\n",
    "# # city_miles = city_miles.append(city ,ignore_index=True)\n",
    "\n",
    "\n",
    "# print(city_miles)\n",
    "\n",
    "\n",
    "\n",
    "\n"
   ]
  },
  {
   "cell_type": "code",
   "execution_count": 1,
   "metadata": {},
   "outputs": [
    {
     "name": "stdout",
     "output_type": "stream",
     "text": [
      "[ 1  2  3  5  7 11 13 17 19 23 29 31 37 41 43 47 53 59 61 67 71 73 79 83\n",
      " 89 97]\n"
     ]
    }
   ],
   "source": [
    "#7\n",
    "import numpy as np\n",
    "\n",
    "numb = np.arange(1,101)\n",
    "mask = np.zeros((100, ), dtype=bool)\n",
    "\n",
    "mask[:2]=True\n",
    "\n",
    "for n in range(3,100):\n",
    "    div=2\n",
    "    flag=False\n",
    "    while(div<=n/2 and flag==False):\n",
    "        if(n%div == 0):\n",
    "            flag=True\n",
    "        div+=1\n",
    "    if(flag==False): mask[n-1]=True\n",
    "# print(mask)\n",
    "primi = numb[mask]\n",
    "print(primi)"
   ]
  },
  {
   "cell_type": "code",
   "execution_count": 1,
   "metadata": {},
   "outputs": [
    {
     "name": "stdout",
     "output_type": "stream",
     "text": [
      "(1000, 200)\n",
      "2\n"
     ]
    },
    {
     "data": {
      "image/png": "[encoded data removed]",
      "text/plain": [
       "<Figure size 432x288 with 1 Axes>"
      ]
     },
     "metadata": {
      "needs_background": "light"
     },
     "output_type": "display_data"
    }
   ],
   "source": [
    "#8\n",
    "'''I tried to do it but this is not he official solution'''\n",
    "import numpy as np\n",
    "import numpy.random as npr\n",
    "npr.seed(131121)\n",
    "\n",
    "rand = npr.randint(-1,1,size=(1000,200))\n",
    "print(rand.shape)\n",
    "for row in range(rand.shape[0]):\n",
    "    for column in range(rand.shape[1]):\n",
    "        if(rand[row,column] == 0): \n",
    "            rand[row,column] = 1\n",
    "# print(rand)\n",
    "print(rand.ndim)\n",
    "\n",
    "walk = np.zeros((1000,1))\n",
    "for row in range(rand.shape[0]):\n",
    "    walk[row,0] = (sum(rand[row,:]))**2\n",
    "\n",
    "# print(walk)\n",
    "\n",
    "distance = np.zeros((1000,201))\n",
    "for row in range(rand.shape[0]):\n",
    "    for column in range(rand.shape[1]):\n",
    "        distance[row,column+1] = distance[row,column] + rand[row,column]\n",
    "sqrd_distance = distance**2\n",
    "# print(sqrd_distance)\n",
    "\n",
    "means =np.zeros((1,200))\n",
    "for column in range(means.shape[1]):\n",
    "    means[:column] = (sum(sqrd_distance[:,column])) / sqrd_distance.shape[0]\n",
    "# print(means)\n",
    "\n",
    "\n",
    "import matplotlib.pyplot as plt\n",
    " \n",
    "y = np.sqrt(means)\n",
    "x = np.arange(0,200)\n",
    "\n",
    "plt.scatter(x,y)\n",
    "plt.show()\n",
    "\n"
   ]
  },
  {
   "cell_type": "code",
   "execution_count": 96,
   "metadata": {},
   "outputs": [
    {
     "data": {
      "image/png": "[encoded data removed]",
      "text/plain": [
       "<Figure size 432x288 with 1 Axes>"
      ]
     },
     "metadata": {
      "needs_background": "light"
     },
     "output_type": "display_data"
    }
   ],
   "source": [
    "#9\n",
    "population = np.loadtxt('populations.txt', dtype=int, comments='#')\n",
    "\n",
    "year = population[:,0]\n",
    "hares = population[:,1]\n",
    "lynxes = population[:,2]\n",
    "carrots = population[:,3]\n",
    "\n",
    "# plt.scatter(year,hares)\n",
    "# plt.scatter(year,lynxes)\n",
    "# plt.scatter(year,carrots)\n",
    "\n",
    "plt.plot(year,hares, '-r', label='hares')\n",
    "plt.plot(year,lynxes, '-b', label='lynxes')\n",
    "plt.plot(year,carrots, '-g', label='carrots')\n",
    "\n",
    "plt.legend()\n",
    "plt.xlabel('year')\n",
    "plt.show()\n"
   ]
  },
  {
   "cell_type": "code",
   "execution_count": 100,
   "metadata": {},
   "outputs": [
    {
     "name": "stdout",
     "output_type": "stream",
     "text": [
      "The haxes were (mean \\pm std): 34080.95238095238 \\pm 20897.906458089667\n",
      "The haxes were (mean \\pm std): 20166.666666666668 \\pm 16254.591536908763 \n",
      "The haxes were (mean \\pm std): 42400.0 \\pm 3322.5062255844787 \n"
     ]
    }
   ],
   "source": [
    "hares_mean = np.mean(hares)\n",
    "lynxes_mean = np.mean(lynxes)\n",
    "carrots_mean = np.mean(carrots)\n",
    "\n",
    "hares_mean = np.std(hares)\n",
    "lynxes_mean = np.std(lynxes)\n",
    "carrots_mean = np.std(carrots)\n",
    "\n",
    "print(f'The haxes were (mean \\pm std): {np.mean(hares)} \\pm {np.std(hares)}')\n",
    "print(f'The haxes were (mean \\pm std): {np.mean(lynxes)} \\pm {np.std(lynxes)} ')\n",
    "print(f'The haxes were (mean \\pm std): {np.mean(carrots)} \\pm {np.std(carrots)} ')\n"
   ]
  },
  {
   "cell_type": "code",
   "execution_count": 102,
   "metadata": {},
   "outputs": [
    {
     "name": "stdout",
     "output_type": "stream",
     "text": [
      "[2061218112]\n"
     ]
    }
   ],
   "source": [
    "print(np.correlate(lynxes,hares))"
   ]
  },
  {
   "cell_type": "code",
   "execution_count": null,
   "metadata": {},
   "outputs": [],
   "source": []
  }
 ],
 "metadata": {
  "kernelspec": {
   "display_name": "Python 3",
   "language": "python",
   "name": "python3"
  },
  "language_info": {
   "codemirror_mode": {
    "name": "ipython",
    "version": 3
   },
   "file_extension": ".py",
   "mimetype": "text/x-python",
   "name": "python",
   "nbconvert_exporter": "python",
   "pygments_lexer": "ipython3",
   "version": "3.9.8"
  }
 },
 "nbformat": 4,
 "nbformat_minor": 2
}
