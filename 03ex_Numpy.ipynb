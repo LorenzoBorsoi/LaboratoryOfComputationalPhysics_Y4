{
 "cells": [
  {
   "cell_type": "code",
   "execution_count": 2,
   "metadata": {},
   "outputs": [],
   "source": [
    "import numpy as np\n",
    "import sys\n",
    "np.set_printoptions(threshold=sys.maxsize)"
   ]
  },
  {
   "cell_type": "markdown",
   "metadata": {},
   "source": [
    "### Numpy basics"
   ]
  },
  {
   "cell_type": "markdown",
   "metadata": {},
   "source": [
    "1\\. Find the row, column and overall means for the following matrix:\n",
    "\n",
    "```python\n",
    "m = np.arange(12).reshape((3,4))\n",
    "```"
   ]
  },
  {
   "cell_type": "code",
   "execution_count": 3,
   "metadata": {
    "scrolled": true
   },
   "outputs": [
    {
     "name": "stdout",
     "output_type": "stream",
     "text": [
      "\n",
      "Global mean: 5.5\n",
      "\n",
      "Means for colums [4. 5. 6. 7.]\n",
      "\n",
      "Means for rows: [1.5 5.5 9.5]\n"
     ]
    }
   ],
   "source": [
    "m = np.arange(12).reshape((3,4))\n",
    "#print(\"m:\\n\", m)\n",
    "\n",
    "print(\"\\nGlobal mean:\", m.mean())\n",
    "print(\"\\nMeans for colums\", m.mean(0))\n",
    "print(\"\\nMeans for rows:\", m.mean(1))"
   ]
  },
  {
   "cell_type": "markdown",
   "metadata": {},
   "source": [
    "2\\. Find the outer product of the following two vecotrs\n",
    "\n",
    "```python\n",
    "u = np.array([1,3,5,7])\n",
    "v = np.array([2,4,6,8])\n",
    "```\n",
    "\n",
    "Do this in the following ways:\n",
    "\n",
    "   * Using the function outer in numpy\n",
    "   * Using a nested for loop or list comprehension\n",
    "   * Using numpy broadcasting operatoins\n"
   ]
  },
  {
   "cell_type": "code",
   "execution_count": 4,
   "metadata": {},
   "outputs": [
    {
     "name": "stdout",
     "output_type": "stream",
     "text": [
      "u: [1 3 5 7] \n",
      "v: [2 4 6 8]\n",
      "\n",
      "Outer product with the function outer in numpy:\n",
      " [[ 2  4  6  8]\n",
      " [ 6 12 18 24]\n",
      " [10 20 30 40]\n",
      " [14 28 42 56]]\n",
      "\n",
      "Outer product with list comprehension:\n",
      " [[ 2  4  6  8]\n",
      " [ 6 12 18 24]\n",
      " [10 20 30 40]\n",
      " [14 28 42 56]]\n",
      "\n",
      "Outer product with numpy broadcasting operatoins:\n",
      " [[ 2  4  6  8]\n",
      " [ 6 12 18 24]\n",
      " [10 20 30 40]\n",
      " [14 28 42 56]]\n"
     ]
    }
   ],
   "source": [
    "u = np.array([1,3,5,7])\n",
    "v = np.array([2,4,6,8])\n",
    "\n",
    "print(\"u:\", u, \"\\nv:\", v)\n",
    "\n",
    "outer1 = np.outer(u, v)\n",
    "outer2 = np.array([[i*j for i in v] for j in u])\n",
    "outer3 = u[:, np.newaxis]*v\n",
    "\n",
    "print(\"\\nOuter product with the function outer in numpy:\\n\", outer1)\n",
    "print(\"\\nOuter product with list comprehension:\\n\", outer2)\n",
    "print(\"\\nOuter product with numpy broadcasting operatoins:\\n\", outer3)"
   ]
  },
  {
   "cell_type": "markdown",
   "metadata": {},
   "source": [
    "3\\. Create a 10 by 6 matrix of random uniform numbers. Set all rows with any entry less than 0.1 to be zero\n",
    "\n",
    "Hint: Use the following numpy functions - np.random.random, np.any as well as Boolean indexing and the axis argument."
   ]
  },
  {
   "cell_type": "code",
   "execution_count": 5,
   "metadata": {},
   "outputs": [
    {
     "name": "stdout",
     "output_type": "stream",
     "text": [
      "10 by 6 matrix of random uniform numbers:\n",
      " [[0.45348414 0.49136958 0.95050602 0.18258777 0.91920214 0.98166704]\n",
      " [0.78443996 0.61973151 0.08864191 0.48577379 0.98042201 0.59672416]\n",
      " [0.16194136 0.68530406 0.76868694 0.51739994 0.14510048 0.54981021]\n",
      " [0.64201155 0.38023914 0.28046858 0.38955252 0.99953552 0.77499834]\n",
      " [0.47307266 0.40133796 0.95437191 0.34117863 0.75815385 0.23615495]\n",
      " [0.41813389 0.47917973 0.21669126 0.04131687 0.34179715 0.14542235]\n",
      " [0.25911241 0.44275135 0.8969636  0.10070162 0.32411349 0.3207538 ]\n",
      " [0.1794379  0.24183481 0.22163613 0.32487806 0.80716166 0.3003322 ]\n",
      " [0.32724356 0.80597985 0.02627595 0.45245726 0.28659797 0.38676345]\n",
      " [0.16995535 0.7174353  0.45974024 0.02411047 0.51806099 0.89722943]]\n",
      "\n",
      "Final filterd Matrix:\n",
      " [[0.45348414 0.49136958 0.95050602 0.18258777 0.91920214 0.98166704]\n",
      " [0.78443996 0.61973151 0.         0.48577379 0.98042201 0.59672416]\n",
      " [0.16194136 0.68530406 0.76868694 0.51739994 0.14510048 0.54981021]\n",
      " [0.64201155 0.38023914 0.28046858 0.38955252 0.99953552 0.77499834]\n",
      " [0.47307266 0.40133796 0.95437191 0.34117863 0.75815385 0.23615495]\n",
      " [0.41813389 0.47917973 0.21669126 0.         0.34179715 0.14542235]\n",
      " [0.25911241 0.44275135 0.8969636  0.10070162 0.32411349 0.3207538 ]\n",
      " [0.1794379  0.24183481 0.22163613 0.32487806 0.80716166 0.3003322 ]\n",
      " [0.32724356 0.80597985 0.         0.45245726 0.28659797 0.38676345]\n",
      " [0.16995535 0.7174353  0.45974024 0.         0.51806099 0.89722943]]\n"
     ]
    }
   ],
   "source": [
    "M = np.random.random((10, 6))\n",
    "print(\"10 by 6 matrix of random uniform numbers:\\n\", M)\n",
    "\n",
    "M[M<0.1] = 0\n",
    "print(\"\\nFinal filterd Matrix:\\n\", M)"
   ]
  },
  {
   "cell_type": "markdown",
   "metadata": {},
   "source": [
    "4\\. Use np.linspace to create an array of 100 numbers between 0 and 2π (includsive).\n",
    "\n",
    "  * Extract every 10th element using slice notation\n",
    "  * Reverse the array using slice notation\n",
    "  * Extract elements where the absolute difference between the sine and cosine functions evaluated at that element is less than 0.1\n",
    "  * Make a plot showing the sin and cos functions and indicate where they are close"
   ]
  },
  {
   "cell_type": "code",
   "execution_count": 6,
   "metadata": {
    "scrolled": true
   },
   "outputs": [
    {
     "name": "stdout",
     "output_type": "stream",
     "text": [
      "Linspace array:\n",
      " [0.         0.06346652 0.12693304 0.19039955 0.25386607 0.31733259\n",
      " 0.38079911 0.44426563 0.50773215 0.57119866 0.63466518 0.6981317\n",
      " 0.76159822 0.82506474 0.88853126 0.95199777 1.01546429 1.07893081\n",
      " 1.14239733 1.20586385 1.26933037 1.33279688 1.3962634  1.45972992\n",
      " 1.52319644 1.58666296 1.65012947 1.71359599 1.77706251 1.84052903\n",
      " 1.90399555 1.96746207 2.03092858 2.0943951  2.15786162 2.22132814\n",
      " 2.28479466 2.34826118 2.41172769 2.47519421 2.53866073 2.60212725\n",
      " 2.66559377 2.72906028 2.7925268  2.85599332 2.91945984 2.98292636\n",
      " 3.04639288 3.10985939 3.17332591 3.23679243 3.30025895 3.36372547\n",
      " 3.42719199 3.4906585  3.55412502 3.61759154 3.68105806 3.74452458\n",
      " 3.8079911  3.87145761 3.93492413 3.99839065 4.06185717 4.12532369\n",
      " 4.1887902  4.25225672 4.31572324 4.37918976 4.44265628 4.5061228\n",
      " 4.56958931 4.63305583 4.69652235 4.75998887 4.82345539 4.88692191\n",
      " 4.95038842 5.01385494 5.07732146 5.14078798 5.2042545  5.26772102\n",
      " 5.33118753 5.39465405 5.45812057 5.52158709 5.58505361 5.64852012\n",
      " 5.71198664 5.77545316 5.83891968 5.9023862  5.96585272 6.02931923\n",
      " 6.09278575 6.15625227 6.21971879 6.28318531]\n",
      "\n",
      "Linspace inverted array:\n",
      " [6.28318531 6.21971879 6.15625227 6.09278575 6.02931923 5.96585272\n",
      " 5.9023862  5.83891968 5.77545316 5.71198664 5.64852012 5.58505361\n",
      " 5.52158709 5.45812057 5.39465405 5.33118753 5.26772102 5.2042545\n",
      " 5.14078798 5.07732146 5.01385494 4.95038842 4.88692191 4.82345539\n",
      " 4.75998887 4.69652235 4.63305583 4.56958931 4.5061228  4.44265628\n",
      " 4.37918976 4.31572324 4.25225672 4.1887902  4.12532369 4.06185717\n",
      " 3.99839065 3.93492413 3.87145761 3.8079911  3.74452458 3.68105806\n",
      " 3.61759154 3.55412502 3.4906585  3.42719199 3.36372547 3.30025895\n",
      " 3.23679243 3.17332591 3.10985939 3.04639288 2.98292636 2.91945984\n",
      " 2.85599332 2.7925268  2.72906028 2.66559377 2.60212725 2.53866073\n",
      " 2.47519421 2.41172769 2.34826118 2.28479466 2.22132814 2.15786162\n",
      " 2.0943951  2.03092858 1.96746207 1.90399555 1.84052903 1.77706251\n",
      " 1.71359599 1.65012947 1.58666296 1.52319644 1.45972992 1.3962634\n",
      " 1.33279688 1.26933037 1.20586385 1.14239733 1.07893081 1.01546429\n",
      " 0.95199777 0.88853126 0.82506474 0.76159822 0.6981317  0.63466518\n",
      " 0.57119866 0.50773215 0.44426563 0.38079911 0.31733259 0.25386607\n",
      " 0.19039955 0.12693304 0.06346652 0.        ]\n",
      "\n",
      "Linspace filtered |cosine-sine| array:\n",
      " [0.76159822 0.82506474 3.87145761 3.93492413]\n"
     ]
    }
   ],
   "source": [
    "from math import pi\n",
    "m2 = np.linspace(0, 2*pi, 100)\n",
    "m2_inverse = m2[::-1]\n",
    "m2_filter = m2[ np.absolute(np.sin(m2)-np.cos(m2)) < 0.1]\n",
    "\n",
    "print(\"Linspace array:\\n\", m2)\n",
    "print(\"\\nLinspace inverted array:\\n\", m2_inverse)\n",
    "#print(\"\\nLinspace sine array:\\n\", np.sin(m2))\n",
    "#print(\"\\nLinspace cosine array:\\n\", np.cos(m2))\n",
    "#print(\"\\nLinspace |cosine-sine| array:\\n\", np.absolute(m2_sin-m2_cos))\n",
    "print(\"\\nLinspace filtered |cosine-sine| array:\\n\", m2_filter)"
   ]
  },
  {
   "cell_type": "code",
   "execution_count": 7,
   "metadata": {},
   "outputs": [
    {
     "data": {
      "image/png": "[encoded data removed]",
      "text/plain": [
       "<Figure size 432x288 with 1 Axes>"
      ]
     },
     "metadata": {
      "needs_background": "light"
     },
     "output_type": "display_data"
    }
   ],
   "source": [
    "import matplotlib.pylab as plt\n",
    "\n",
    "plt.plot(m2, np.sin(m2), label=\"sine\")\n",
    "plt.plot(m2, np.cos(m2), \"g\", label=\"cosine\")\n",
    "plt.legend(loc=\"lower left\")\n",
    "plt.xlabel('Angle [rad]')\n",
    "plt.ylabel('funxction')\n",
    "plt.axis('tight')\n",
    "plt.axvline(x=pi/4, c=\"r\")       # They are the same at pi/4 \n",
    "plt.axvline(x=5/4*pi, c=\"r\")     # and at 5/4*pi\n",
    "plt.grid()\n",
    "plt.show()"
   ]
  },
  {
   "cell_type": "markdown",
   "metadata": {},
   "source": [
    "5\\. Create a matrix that shows the 10 by 10 multiplication table.\n",
    "\n",
    " * Find the trace of the matrix\n",
    " * Extract the anto-diagonal (this should be ```array([10, 18, 24, 28, 30, 30, 28, 24, 18, 10])```)\n",
    " * Extract the diagnoal offset by 1 upwards (this should be ```array([ 2,  6, 12, 20, 30, 42, 56, 72, 90])```)"
   ]
  },
  {
   "cell_type": "code",
   "execution_count": 8,
   "metadata": {},
   "outputs": [
    {
     "name": "stdout",
     "output_type": "stream",
     "text": [
      "10 by 10 multiplication table's matrix:\n",
      " [[  1   2   3   4   5   6   7   8   9  10]\n",
      " [  2   4   6   8  10  12  14  16  18  20]\n",
      " [  3   6   9  12  15  18  21  24  27  30]\n",
      " [  4   8  12  16  20  24  28  32  36  40]\n",
      " [  5  10  15  20  25  30  35  40  45  50]\n",
      " [  6  12  18  24  30  36  42  48  54  60]\n",
      " [  7  14  21  28  35  42  49  56  63  70]\n",
      " [  8  16  24  32  40  48  56  64  72  80]\n",
      " [  9  18  27  36  45  54  63  72  81  90]\n",
      " [ 10  20  30  40  50  60  70  80  90 100]]\n",
      "\n",
      "Trace: 385\n",
      "\n",
      "Anti-diagonal: [10 18 24 28 30 30 28 24 18 10]\n",
      "\n",
      "Diagnoal offset by 1 upward: [ 2  6 12 20 30 42 56 72 90]\n"
     ]
    }
   ],
   "source": [
    "x = np.arange(1, 11)\n",
    "m3 = np.outer(x, x)\n",
    "\n",
    "print(\"10 by 10 multiplication table's matrix:\\n\", m3)\n",
    "print(\"\\nTrace:\", np.trace(m3))\n",
    "print(\"\\nAnti-diagonal:\", np.fliplr(m3).diagonal())\n",
    "print(\"\\nDiagnoal offset by 1 upward:\", np.diag(m3, 1))\n",
    "\n"
   ]
  },
  {
   "cell_type": "markdown",
   "metadata": {},
   "source": [
    "6\\. Use broadcasting to create a grid of distances\n",
    "\n",
    "Route 66 crosses the following cities in the US: Chicago, Springfield, Saint-Louis, Tulsa, Oklahoma City, Amarillo, Santa Fe, Albuquerque, Flagstaff, Los Angeles\n",
    "The corresponding positions in miles are: 0, 198, 303, 736, 871, 1175, 1475, 1544, 1913, 2448\n",
    "\n",
    "  * Construct a 2D grid of distances among each city along Route 66\n",
    "  * Convert that in km (those savages...)"
   ]
  },
  {
   "cell_type": "code",
   "execution_count": 9,
   "metadata": {},
   "outputs": [
    {
     "name": "stdout",
     "output_type": "stream",
     "text": [
      "2D grid of distances in miles:\n",
      " [[   0  198  303  736  871 1175 1475 1544 1913 2448]\n",
      " [2448    0  198  303  736  871 1175 1475 1544 1913]\n",
      " [1913 2448    0  198  303  736  871 1175 1475 1544]\n",
      " [1544 1913 2448    0  198  303  736  871 1175 1475]\n",
      " [1475 1544 1913 2448    0  198  303  736  871 1175]\n",
      " [1175 1475 1544 1913 2448    0  198  303  736  871]\n",
      " [ 871 1175 1475 1544 1913 2448    0  198  303  736]\n",
      " [ 736  871 1175 1475 1544 1913 2448    0  198  303]\n",
      " [ 303  736  871 1175 1475 1544 1913 2448    0  198]\n",
      " [ 198  303  736  871 1175 1475 1544 1913 2448    0]]\n",
      "\n",
      "2D grid of distances in km:\n",
      " [[   0.        318.650112  487.631232 1184.477184 1401.738624 1890.9792\n",
      "  2373.7824   2484.827136 3078.675072 3939.674112]\n",
      " [3939.674112    0.        318.650112  487.631232 1184.477184 1401.738624\n",
      "  1890.9792   2373.7824   2484.827136 3078.675072]\n",
      " [3078.675072 3939.674112    0.        318.650112  487.631232 1184.477184\n",
      "  1401.738624 1890.9792   2373.7824   2484.827136]\n",
      " [2484.827136 3078.675072 3939.674112    0.        318.650112  487.631232\n",
      "  1184.477184 1401.738624 1890.9792   2373.7824  ]\n",
      " [2373.7824   2484.827136 3078.675072 3939.674112    0.        318.650112\n",
      "   487.631232 1184.477184 1401.738624 1890.9792  ]\n",
      " [1890.9792   2373.7824   2484.827136 3078.675072 3939.674112    0.\n",
      "   318.650112  487.631232 1184.477184 1401.738624]\n",
      " [1401.738624 1890.9792   2373.7824   2484.827136 3078.675072 3939.674112\n",
      "     0.        318.650112  487.631232 1184.477184]\n",
      " [1184.477184 1401.738624 1890.9792   2373.7824   2484.827136 3078.675072\n",
      "  3939.674112    0.        318.650112  487.631232]\n",
      " [ 487.631232 1184.477184 1401.738624 1890.9792   2373.7824   2484.827136\n",
      "  3078.675072 3939.674112    0.        318.650112]\n",
      " [ 318.650112  487.631232 1184.477184 1401.738624 1890.9792   2373.7824\n",
      "  2484.827136 3078.675072 3939.674112    0.      ]]\n"
     ]
    }
   ],
   "source": [
    "dist = np.array([0, 198, 303, 736, 871, 1175, 1475, 1544, 1913, 2448])\n",
    "\n",
    "D = dist\n",
    "for i in range(1, len(dist)):\n",
    "    #print(\"\\niteration =\", i,\"\\ndist:\\n\", dist, \"\\nroll dist:\\n\", np.roll(dist, i))\n",
    "    D = np.vstack((D,  np.roll(dist, i)))\n",
    "    #print(\"\\n\", D)\n",
    "\n",
    "print(\"2D grid of distances in miles:\\n\", D)\n",
    "\n",
    "print(\"\\n2D grid of distances in km:\\n\", D*1.609344)"
   ]
  },
  {
   "cell_type": "markdown",
   "metadata": {},
   "source": [
    "7\\. Prime numbers sieve: compute the prime numbers in the 0-N (N=99 to start with) range with a sieve (mask).\n",
    "  * Constract a shape (100,) boolean array, the mask\n",
    "  * Identify the multiples of each number starting from 2 and set accordingly the corresponding mask element\n",
    "  * Apply the mask to obtain an array of ordered prime numbers\n",
    "  * Check the performances (timeit); how does it scale with N?\n",
    "  * Implement the optimization suggested in the [sieve of Eratosthenes](https://en.wikipedia.org/wiki/Sieve_of_Eratosthenes)"
   ]
  },
  {
   "cell_type": "code",
   "execution_count": 11,
   "metadata": {},
   "outputs": [
    {
     "name": "stdout",
     "output_type": "stream",
     "text": [
      "Maximum of number range: 99\n"
     ]
    },
    {
     "data": {
      "text/plain": [
       "array([ 3,  5,  7, 11, 13, 17, 19, 23, 29, 31, 37, 41, 43, 47, 53, 59, 61,\n",
       "       67, 71, 73, 79, 83, 89, 97])"
      ]
     },
     "execution_count": 11,
     "metadata": {},
     "output_type": "execute_result"
    }
   ],
   "source": [
    "def isprime(x):\n",
    "    check = False\n",
    "    for iterat in range(2, x):\n",
    "        if x%iterat != 0:\n",
    "            check = True\n",
    "        else: \n",
    "            check = False\n",
    "            break\n",
    "    return check\n",
    "\n",
    "\n",
    "N = input(\"Maximum of number range: \")\n",
    "N = int(N)+1\n",
    "\n",
    "\n",
    "def arrayprime(n):\n",
    "    \n",
    "    num = np.arange(n)\n",
    "\n",
    "    mask0 = (num!=0)\n",
    "    num = num[mask0]    \n",
    "    \n",
    "    mask1 = (num!=1)\n",
    "    num = num[mask1]\n",
    "\n",
    "    vect_isprime = np.vectorize(isprime)\n",
    "    mask3 = vect_isprime(num)\n",
    "    num = num[mask3]\n",
    "\n",
    "    return num\n",
    "\n",
    "arrayprime(N)"
   ]
  },
  {
   "cell_type": "code",
   "execution_count": 17,
   "metadata": {},
   "outputs": [
    {
     "data": {
      "text/plain": [
       "'def isprime(x):                                # Version 2\\n    check = False\\n    for iterat in range(2, x):\\n        if x%iterat != 0:\\n            check = True\\n        else: \\n            check = False\\n            break\\n    return check\\n\\n\\nN = input(\"Maximum of number range: \")\\nN = int(N)+1\\n\\n\\ndef arrayprime(n):\\n    num = np.arange(n)\\n    prime01 = []\\n\\n    mask0 = (num!=0)\\n    num = num[mask0]\\n    #print(\"\\n\", num)    \\n    \\n    \\n    mask1 = (num!=1)\\n    #print(\"\\n\", mask1)\\n    #print(np.all(mask1))\\n    if np.all(mask1) == False: prime01.append(1)    # The only change is here: in this case we consider \\n    num = num[mask1]                                # one 1 to be a prime number (it\\'s not).\\n    #print(\"\\n\", prime01)                           # -> in this way we keep it!\\n\\n\\n    vect_isprime = np.vectorize(isprime)\\n    mask3 = vect_isprime(num)\\n    num = num[mask3]\\n    #print(\"\\n\", num)\\n\\n    prime01 = np.array(prime01)\\n\\n    return np.concatenate((prime01, num))\\n\\narrayprime(N)'"
      ]
     },
     "execution_count": 17,
     "metadata": {},
     "output_type": "execute_result"
    }
   ],
   "source": [
    "'''def isprime(x):                                # Version 2\n",
    "    check = False\n",
    "    for iterat in range(2, x):\n",
    "        if x%iterat != 0:\n",
    "            check = True\n",
    "        else: \n",
    "            check = False\n",
    "            break\n",
    "    return check\n",
    "\n",
    "\n",
    "N = input(\"Maximum of number range: \")\n",
    "N = int(N)+1\n",
    "\n",
    "\n",
    "def arrayprime(n):\n",
    "    num = np.arange(n)\n",
    "    prime01 = []\n",
    "\n",
    "    mask0 = (num!=0)\n",
    "    num = num[mask0]\n",
    "    #print(\"\\n\", num)    \n",
    "    \n",
    "    \n",
    "    mask1 = (num!=1)\n",
    "    #print(\"\\n\", mask1)\n",
    "    #print(np.all(mask1))\n",
    "    if np.all(mask1) == False: prime01.append(1)    # The only change is here: in this case we consider \n",
    "    num = num[mask1]                                # one 1 to be a prime number (it's not).\n",
    "    #print(\"\\n\", prime01)                           # -> in this way we keep it!\n",
    "\n",
    "\n",
    "    vect_isprime = np.vectorize(isprime)\n",
    "    mask3 = vect_isprime(num)\n",
    "    num = num[mask3]\n",
    "    #print(\"\\n\", num)\n",
    "\n",
    "    prime01 = np.array(prime01)\n",
    "\n",
    "    return np.concatenate((prime01, num))\n",
    "\n",
    "arrayprime(N)'''"
   ]
  },
  {
   "cell_type": "code",
   "execution_count": 16,
   "metadata": {
    "scrolled": true
   },
   "outputs": [
    {
     "name": "stdout",
     "output_type": "stream",
     "text": [
      "\n",
      "Prime numbers in the 0 - 1000 range.\n",
      "Performance:\n",
      "783 µs ± 35.3 µs per loop (mean ± std. dev. of 7 runs, 1000 loops each)\n",
      "\n",
      "Prime numbers in the 0 - 2000 range.\n",
      "Performance:\n",
      "767 µs ± 17.8 µs per loop (mean ± std. dev. of 7 runs, 1000 loops each)\n",
      "\n",
      "Prime numbers in the 0 - 3000 range.\n",
      "Performance:\n",
      "764 µs ± 17.7 µs per loop (mean ± std. dev. of 7 runs, 1000 loops each)\n",
      "\n",
      "Prime numbers in the 0 - 4000 range.\n",
      "Performance:\n",
      "769 µs ± 24.4 µs per loop (mean ± std. dev. of 7 runs, 1000 loops each)\n",
      "\n",
      "Prime numbers in the 0 - 5000 range.\n",
      "Performance:\n",
      "775 µs ± 23 µs per loop (mean ± std. dev. of 7 runs, 1000 loops each)\n",
      "\n",
      "Prime numbers in the 0 - 6000 range.\n",
      "Performance:\n",
      "768 µs ± 24.7 µs per loop (mean ± std. dev. of 7 runs, 1000 loops each)\n",
      "\n",
      "Prime numbers in the 0 - 7000 range.\n",
      "Performance:\n",
      "818 µs ± 155 µs per loop (mean ± std. dev. of 7 runs, 1000 loops each)\n",
      "\n",
      "Prime numbers in the 0 - 8000 range.\n",
      "Performance:\n",
      "1.12 ms ± 138 µs per loop (mean ± std. dev. of 7 runs, 1000 loops each)\n",
      "\n",
      "Prime numbers in the 0 - 9000 range.\n",
      "Performance:\n",
      "1.02 ms ± 247 µs per loop (mean ± std. dev. of 7 runs, 1000 loops each)\n"
     ]
    }
   ],
   "source": [
    "for n in range(1000,10000,1000):\n",
    "    print(\"\\nPrime numbers in the 0 -\", n, \"range.\\nPerformance:\")\n",
    "    %timeit arrayprime(N)"
   ]
  },
  {
   "cell_type": "markdown",
   "metadata": {},
   "source": [
    "The performance (timeit) seems to scale by a 4/3 factor when we approximately octuple the N maximum of numbers range. This will surely change and result may vary in each itarations."
   ]
  },
  {
   "cell_type": "code",
   "execution_count": 14,
   "metadata": {},
   "outputs": [
    {
     "name": "stdout",
     "output_type": "stream",
     "text": [
      "Maximum of number range: 99\n"
     ]
    },
    {
     "data": {
      "text/plain": [
       "array([ 2,  3,  5,  7, 11, 13, 17, 19, 23, 29, 31, 37, 41, 43, 47, 53, 59,\n",
       "       61, 67, 71, 73, 79, 83, 89, 97])"
      ]
     },
     "execution_count": 14,
     "metadata": {},
     "output_type": "execute_result"
    }
   ],
   "source": [
    "N = input(\"Maximum of number range: \")\n",
    "N = int(N)+1\n",
    "\n",
    "def PartialEratosthenes(arr):\n",
    "    #print(arr)\n",
    "    first = arr[0]\n",
    "    #print(first)\n",
    "    mask = (arr % first != 0)\n",
    "    #print(arr[mask])\n",
    "    return(np.append(arr[mask], arr[0]))\n",
    "\n",
    "def Eratosthenes(N):\n",
    "    num = np.arange(N)\n",
    "\n",
    "    mask0 = (num!=0)\n",
    "    num = num[mask0]    \n",
    "   \n",
    "    mask1 = (num!=1)\n",
    "    num = num[mask1]\n",
    "\n",
    "    for i in range(N):\n",
    "        if len(num)==len(PartialEratosthenes(num)): break\n",
    "        num = PartialEratosthenes(num)\n",
    "    return np.sort(num)\n",
    "\n",
    "Eratosthenes(N)"
   ]
  },
  {
   "cell_type": "code",
   "execution_count": 15,
   "metadata": {},
   "outputs": [
    {
     "name": "stdout",
     "output_type": "stream",
     "text": [
      "637 µs ± 49.3 µs per loop (mean ± std. dev. of 7 runs, 1000 loops each)\n"
     ]
    }
   ],
   "source": [
    "%timeit Eratosthenes(N)"
   ]
  },
  {
   "cell_type": "code",
   "execution_count": null,
   "metadata": {},
   "outputs": [],
   "source": []
  }
 ],
 "metadata": {
  "kernelspec": {
   "display_name": "Python 3",
   "language": "python",
   "name": "python3"
  },
  "language_info": {
   "codemirror_mode": {
    "name": "ipython",
    "version": 3
   },
   "file_extension": ".py",
   "mimetype": "text/x-python",
   "name": "python",
   "nbconvert_exporter": "python",
   "pygments_lexer": "ipython3",
   "version": "3.8.10"
  }
 },
 "nbformat": 4,
 "nbformat_minor": 2
}
