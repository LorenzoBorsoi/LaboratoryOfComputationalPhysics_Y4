{
 "cells": [
  {
   "cell_type": "markdown",
   "metadata": {},
   "source": [
    "### Numpy basics"
   ]
  },
  {
   "cell_type": "markdown",
   "metadata": {},
   "source": [
    "1\\. Find the row, column and overall means for the following matrix:\n",
    "\n",
    "```python\n",
    "m = np.arange(12).reshape((3,4))\n",
    "```"
   ]
  },
  {
   "cell_type": "code",
   "execution_count": 40,
   "metadata": {},
   "outputs": [
    {
     "name": "stdout",
     "output_type": "stream",
     "text": [
      "The given matrix is: \n",
      " [[ 0  1  2  3]\n",
      " [ 4  5  6  7]\n",
      " [ 8  9 10 11]] \n",
      "\n",
      "The Row means is:\n",
      " [[1.5]\n",
      " [5.5]\n",
      " [9.5]] \n",
      "\n",
      "The Column means is:\n",
      " [4. 5. 6. 7.] \n",
      "\n",
      "The Overall mean is:\n",
      " 5.5 \n",
      "\n"
     ]
    }
   ],
   "source": [
    "import numpy as np\n",
    "\n",
    "m = np.arange(12).reshape((3,4))\n",
    "print('The given matrix is: \\n', m ,'\\n')\n",
    "\n",
    "m_row = np.mean(m, axis=1).reshape ((-1, 1))\n",
    "print('The Row means is:\\n', m_row, '\\n')\n",
    "\n",
    "m_column = np.mean(m, axis=0)\n",
    "print('The Column means is:\\n',m_column,'\\n')\n",
    "\n",
    "m_overal = m.mean()\n",
    "print('The Overall mean is:\\n', m_overal,'\\n')\n",
    "\n"
   ]
  },
  {
   "cell_type": "markdown",
   "metadata": {},
   "source": [
    "2\\. Find the outer product of the following two vecotrs\n",
    "\n",
    "```python\n",
    "u = np.array([1,3,5,7])\n",
    "v = np.array([2,4,6,8])\n",
    "```\n",
    "\n",
    "Do this in the following ways:\n",
    "\n",
    "   * Using the function outer in numpy\n",
    "   * Using a nested for loop or list comprehension\n",
    "   * Using numpy broadcasting operatoins\n"
   ]
  },
  {
   "cell_type": "code",
   "execution_count": 41,
   "metadata": {},
   "outputs": [
    {
     "name": "stdout",
     "output_type": "stream",
     "text": [
      "Using the outer function of numpy: \n",
      " [[ 2  4  6  8]\n",
      " [ 6 12 18 24]\n",
      " [10 20 30 40]\n",
      " [14 28 42 56]] \n",
      "\n",
      "Using the nested loop: \n",
      " [[ 2.  4.  6.  8.]\n",
      " [ 6. 12. 18. 24.]\n",
      " [10. 20. 30. 40.]\n",
      " [14. 28. 42. 56.]] \n",
      "\n",
      "The broadcasting operations: \n",
      " [[ 2  4  6  8]\n",
      " [ 6 12 18 24]\n",
      " [10 20 30 40]\n",
      " [14 28 42 56]] \n",
      "\n"
     ]
    }
   ],
   "source": [
    "\n",
    "import numpy as np\n",
    "\n",
    "u = np.array([1,3,5,7])\n",
    "v = np.array([2,4,6,8])\n",
    "\n",
    "#outer function\n",
    "outer_matrix = np.outer(u, v, out=None)\n",
    "print('Using the outer function of numpy: \\n', outer_matrix, '\\n')\n",
    "\n",
    "#nested loop\n",
    "loop_matrix = np.zeros((len(u), len(v)))\n",
    "for i in range (len(u)):\n",
    "    for j in range (len(v)):\n",
    "        loop_matrix[i,j] = u[i] * v[j]\n",
    "print('Using the nested loop:', '\\n', loop_matrix, '\\n')\n",
    "\n",
    "#broadcasting operations\n",
    "broadcast_matrix = u.reshape(-1,1) * v.reshape(1,-1)\n",
    "print('The broadcasting operations:', '\\n', broadcast_matrix, '\\n')\n"
   ]
  },
  {
   "cell_type": "markdown",
   "metadata": {},
   "source": [
    "3\\. Create a 10 by 6 matrix of random uniform numbers. Set all rows with any entry less than 0.1 to be zero\n",
    "\n",
    "Hint: Use the following numpy functions - np.random.random, np.any as well as Boolean indexing and the axis argument."
   ]
  },
  {
   "cell_type": "code",
   "execution_count": 57,
   "metadata": {},
   "outputs": [
    {
     "name": "stdout",
     "output_type": "stream",
     "text": [
      "Initial matrix: \n",
      " [[0.28852353 0.48699039 0.72811073 0.93923975 0.42595362 0.31133158]\n",
      " [0.62510209 0.0809459  0.92777966 0.31267222 0.65691862 0.36516854]\n",
      " [0.62257462 0.66005059 0.94270657 0.21627306 0.03174552 0.88718166]\n",
      " [0.93956887 0.77043712 0.65512285 0.53158328 0.94969959 0.64994231]\n",
      " [0.04672995 0.98535418 0.09463975 0.31735853 0.1812103  0.94447728]\n",
      " [0.88641299 0.41471682 0.39452663 0.04369492 0.23197191 0.83871498]\n",
      " [0.72819554 0.87045306 0.21788359 0.68353879 0.89320943 0.51026746]\n",
      " [0.78907317 0.71991715 0.65079384 0.73102885 0.53490821 0.31018225]\n",
      " [0.94836224 0.62167573 0.74344111 0.99229787 0.71545818 0.90004614]\n",
      " [0.5055847  0.59439943 0.14698661 0.64560464 0.91474659 0.78318538]] \n",
      "\n",
      "New matrix: \n",
      " [[0.28852353 0.48699039 0.72811073 0.93923975 0.42595362 0.31133158]\n",
      " [0.         0.         0.         0.         0.         0.        ]\n",
      " [0.         0.         0.         0.         0.         0.        ]\n",
      " [0.93956887 0.77043712 0.65512285 0.53158328 0.94969959 0.64994231]\n",
      " [0.         0.         0.         0.         0.         0.        ]\n",
      " [0.         0.         0.         0.         0.         0.        ]\n",
      " [0.72819554 0.87045306 0.21788359 0.68353879 0.89320943 0.51026746]\n",
      " [0.78907317 0.71991715 0.65079384 0.73102885 0.53490821 0.31018225]\n",
      " [0.94836224 0.62167573 0.74344111 0.99229787 0.71545818 0.90004614]\n",
      " [0.5055847  0.59439943 0.14698661 0.64560464 0.91474659 0.78318538]] \n",
      "\n"
     ]
    }
   ],
   "source": [
    "\n",
    "import numpy as np\n",
    "\n",
    "a = np.random.random((10, 6))\n",
    "print('Initial matrix:' , '\\n', a, '\\n')\n",
    "\n",
    "a[(a < 0.1).any(axis=1), :] = 0\n",
    "print('New matrix:' , '\\n', a, '\\n')\n"
   ]
  },
  {
   "cell_type": "markdown",
   "metadata": {},
   "source": [
    "4\\. Use np.linspace to create an array of 100 numbers between 0 and 2π (includsive).\n",
    "\n",
    "  * Extract every 10th element using slice notation\n",
    "  * Reverse the array using slice notation\n",
    "  * Extract elements where the absolute difference between the sine and cosine functions evaluated at that element is less than 0.1\n",
    "  * Make a plot showing the sin and cos functions and indicate where they are close"
   ]
  },
  {
   "cell_type": "code",
   "execution_count": 90,
   "metadata": {},
   "outputs": [
    {
     "name": "stdout",
     "output_type": "stream",
     "text": [
      "Initial Matrix: \n",
      " [0.         0.06346652 0.12693304 0.19039955 0.25386607 0.31733259\n",
      " 0.38079911 0.44426563 0.50773215 0.57119866 0.63466518 0.6981317\n",
      " 0.76159822 0.82506474 0.88853126 0.95199777 1.01546429 1.07893081\n",
      " 1.14239733 1.20586385 1.26933037 1.33279688 1.3962634  1.45972992\n",
      " 1.52319644 1.58666296 1.65012947 1.71359599 1.77706251 1.84052903\n",
      " 1.90399555 1.96746207 2.03092858 2.0943951  2.15786162 2.22132814\n",
      " 2.28479466 2.34826118 2.41172769 2.47519421 2.53866073 2.60212725\n",
      " 2.66559377 2.72906028 2.7925268  2.85599332 2.91945984 2.98292636\n",
      " 3.04639288 3.10985939 3.17332591 3.23679243 3.30025895 3.36372547\n",
      " 3.42719199 3.4906585  3.55412502 3.61759154 3.68105806 3.74452458\n",
      " 3.8079911  3.87145761 3.93492413 3.99839065 4.06185717 4.12532369\n",
      " 4.1887902  4.25225672 4.31572324 4.37918976 4.44265628 4.5061228\n",
      " 4.56958931 4.63305583 4.69652235 4.75998887 4.82345539 4.88692191\n",
      " 4.95038842 5.01385494 5.07732146 5.14078798 5.2042545  5.26772102\n",
      " 5.33118753 5.39465405 5.45812057 5.52158709 5.58505361 5.64852012\n",
      " 5.71198664 5.77545316 5.83891968 5.9023862  5.96585272 6.02931923\n",
      " 6.09278575 6.15625227 6.21971879 6.28318531] \n",
      "\n",
      "Extracted Matrix (every 10th element): \n",
      " [0.         0.63466518 1.26933037 1.90399555 2.53866073 3.17332591\n",
      " 3.8079911  4.44265628 5.07732146 5.71198664] \n",
      "\n",
      "Reverse Matrix: \n",
      " [6.28318531 6.21971879 6.15625227 6.09278575 6.02931923 5.96585272\n",
      " 5.9023862  5.83891968 5.77545316 5.71198664 5.64852012 5.58505361\n",
      " 5.52158709 5.45812057 5.39465405 5.33118753 5.26772102 5.2042545\n",
      " 5.14078798 5.07732146 5.01385494 4.95038842 4.88692191 4.82345539\n",
      " 4.75998887 4.69652235 4.63305583 4.56958931 4.5061228  4.44265628\n",
      " 4.37918976 4.31572324 4.25225672 4.1887902  4.12532369 4.06185717\n",
      " 3.99839065 3.93492413 3.87145761 3.8079911  3.74452458 3.68105806\n",
      " 3.61759154 3.55412502 3.4906585  3.42719199 3.36372547 3.30025895\n",
      " 3.23679243 3.17332591 3.10985939 3.04639288 2.98292636 2.91945984\n",
      " 2.85599332 2.7925268  2.72906028 2.66559377 2.60212725 2.53866073\n",
      " 2.47519421 2.41172769 2.34826118 2.28479466 2.22132814 2.15786162\n",
      " 2.0943951  2.03092858 1.96746207 1.90399555 1.84052903 1.77706251\n",
      " 1.71359599 1.65012947 1.58666296 1.52319644 1.45972992 1.3962634\n",
      " 1.33279688 1.26933037 1.20586385 1.14239733 1.07893081 1.01546429\n",
      " 0.95199777 0.88853126 0.82506474 0.76159822 0.6981317  0.63466518\n",
      " 0.57119866 0.50773215 0.44426563 0.38079911 0.31733259 0.25386607\n",
      " 0.19039955 0.12693304 0.06346652 0.        ] \n",
      "\n",
      "Reverse Extracted Matrix: \n",
      " [5.71198664 5.07732146 4.44265628 3.8079911  3.17332591 2.53866073\n",
      " 1.90399555 1.26933037 0.63466518 0.        ] \n",
      "\n",
      "Last Extracted Matrix: \n",
      " [0.76159822 0.82506474 3.87145761 3.93492413]\n"
     ]
    },
    {
     "data": {
      "image/png": "[encoded data removed]",
      "text/plain": [
       "<Figure size 432x288 with 1 Axes>"
      ]
     },
     "metadata": {
      "needs_background": "light"
     },
     "output_type": "display_data"
    }
   ],
   "source": [
    "import numpy as np\n",
    "from numpy import pi\n",
    "\n",
    "array = np.linspace(0, 2*pi, 100)\n",
    "print('Initial Matrix:', '\\n', array, '\\n')\n",
    "\n",
    "#Extracting every 10th element using slice notation\n",
    "extracted_array = array[::10]\n",
    "print('Extracted Matrix (every 10th element):', '\\n', extracted_array, '\\n')\n",
    "\n",
    "#Reversing the array using slice notation\n",
    "reverse_array = array[::-1]\n",
    "print('Reverse Matrix:','\\n',reverse_array, '\\n')\n",
    "reverse_extracted_array = extracted_array[::-1]\n",
    "print('Reverse Extracted Matrix:', '\\n', reverse_extracted_array, '\\n')\n",
    "\n",
    "#Extracting elements where the absolute difference between the sine and cosine functions is < 0.1\n",
    "extracted_array_sincos = np.abs(np.sin(array) - np.cos(array)) < 0.1\n",
    "print('Last Extracted Matrix:','\\n', array[extracted_array_sincos])\n",
    "\n",
    "#Makeing a plot showing the sin and cos functions and indicate where they are close\n",
    "import matplotlib.pyplot as plt\n",
    "\n",
    "plt.plot(array, np.sin(array), color = 'orange')\n",
    "plt.plot(array, np.cos(array), color = 'C0')  \n",
    "plt.scatter(array[extracted_array_sincos], np.sin(array[extracted_array_sincos]), color = 'green' )\n",
    "plt.scatter(array[extracted_array_sincos], np.cos(array[extracted_array_sincos]), color = 'red' )\n",
    "plt.grid()\n",
    "plt.show()  "
   ]
  },
  {
   "cell_type": "markdown",
   "metadata": {},
   "source": [
    "5\\. Create a matrix that shows the 10 by 10 multiplication table.\n",
    "\n",
    " * Find the trace of the matrix\n",
    " * Extract the anto-diagonal (this should be ```array([10, 18, 24, 28, 30, 30, 28, 24, 18, 10])```)\n",
    " * Extract the diagnoal offset by 1 upwards (this should be ```array([ 2,  6, 12, 20, 30, 42, 56, 72, 90])```)"
   ]
  },
  {
   "cell_type": "code",
   "execution_count": 112,
   "metadata": {},
   "outputs": [
    {
     "name": "stdout",
     "output_type": "stream",
     "text": [
      "Table: \n",
      " [[  1   2   3   4   5   6   7   8   9  10]\n",
      " [  2   4   6   8  10  12  14  16  18  20]\n",
      " [  3   6   9  12  15  18  21  24  27  30]\n",
      " [  4   8  12  16  20  24  28  32  36  40]\n",
      " [  5  10  15  20  25  30  35  40  45  50]\n",
      " [  6  12  18  24  30  36  42  48  54  60]\n",
      " [  7  14  21  28  35  42  49  56  63  70]\n",
      " [  8  16  24  32  40  48  56  64  72  80]\n",
      " [  9  18  27  36  45  54  63  72  81  90]\n",
      " [ 10  20  30  40  50  60  70  80  90 100]] \n",
      "\n",
      "The trace of the matrix:  385 \n",
      "\n",
      "The anti-diagonal of the matrix:  [10 18 24 28 30 30 28 24 18 10] \n",
      "\n",
      "The diagonal offset by 1 upwards:  [ 2  6 12 20 30 42 56 72 90]\n"
     ]
    }
   ],
   "source": [
    "import numpy as np\n",
    "\n",
    "#creating a 10*10 matrix\n",
    "table = np.array([i*j for i in range(1, 11) for j in range(1,11)]).reshape(10,10)\n",
    "print ('Table:', '\\n', table, '\\n')\n",
    "\n",
    "#finding the trace of the matrix\n",
    "print('The trace of the matrix: ', np.trace(table), '\\n')\n",
    "\n",
    "#extracting the anti-diagonal\n",
    "print('The anti-diagonal of the matrix: ', np.fliplr(table).diagonal(), '\\n')\n",
    "\n",
    "#extracting the diagnoal offset by 1 upwards\n",
    "print('The diagonal offset by 1 upwards: ', np.diagonal(table, offset=1))"
   ]
  },
  {
   "cell_type": "markdown",
   "metadata": {},
   "source": [
    "6\\. Use broadcasting to create a grid of distances\n",
    "\n",
    "Route 66 crosses the following cities in the US: Chicago, Springfield, Saint-Louis, Tulsa, Oklahoma City, Amarillo, Santa Fe, Albuquerque, Flagstaff, Los Angeles\n",
    "The corresponding positions in miles are: 0, 198, 303, 736, 871, 1175, 1475, 1544, 1913, 2448\n",
    "\n",
    "  * Construct a 2D grid of distances among each city along Route 66\n",
    "  * Convert that in km (those savages...)"
   ]
  },
  {
   "cell_type": "code",
   "execution_count": 130,
   "metadata": {},
   "outputs": [
    {
     "name": "stdout",
     "output_type": "stream",
     "text": [
      "The distances in mile: \n",
      " [   0  198  303  736  871 1175 1475 1544 1913 2448] \n",
      "\n",
      "The 2D grid of distances in mile: \n",
      " [[   0  198  303  736  871 1175 1475 1544 1913 2448]\n",
      " [ 198    0  105  538  673  977 1277 1346 1715 2250]\n",
      " [ 303  105    0  433  568  872 1172 1241 1610 2145]\n",
      " [ 736  538  433    0  135  439  739  808 1177 1712]\n",
      " [ 871  673  568  135    0  304  604  673 1042 1577]\n",
      " [1175  977  872  439  304    0  300  369  738 1273]\n",
      " [1475 1277 1172  739  604  300    0   69  438  973]\n",
      " [1544 1346 1241  808  673  369   69    0  369  904]\n",
      " [1913 1715 1610 1177 1042  738  438  369    0  535]\n",
      " [2448 2250 2145 1712 1577 1273  973  904  535    0]] \n",
      "\n",
      "The 2D grid of distances in KM: \n",
      " [[   0.  319.  488. 1184. 1402. 1891. 2374. 2485. 3079. 3940.]\n",
      " [ 319.    0.  169.  866. 1083. 1572. 2055. 2166. 2760. 3621.]\n",
      " [ 488.  169.    0.  697.  914. 1403. 1886. 1997. 2591. 3452.]\n",
      " [1184.  866.  697.    0.  217.  707. 1189. 1300. 1894. 2755.]\n",
      " [1402. 1083.  914.  217.    0.  489.  972. 1083. 1677. 2538.]\n",
      " [1891. 1572. 1403.  707.  489.    0.  483.  594. 1188. 2049.]\n",
      " [2374. 2055. 1886. 1189.  972.  483.    0.  111.  705. 1566.]\n",
      " [2485. 2166. 1997. 1300. 1083.  594.  111.    0.  594. 1455.]\n",
      " [3079. 2760. 2591. 1894. 1677. 1188.  705.  594.    0.  861.]\n",
      " [3940. 3621. 3452. 2755. 2538. 2049. 1566. 1455.  861.    0.]] \n",
      "\n"
     ]
    }
   ],
   "source": [
    "import numpy as np\n",
    "\n",
    "locations = ['Chicago','Springfield','Saint-Louis','Tulsa','Oklahoma-City','Amarillo','Santa-Fe','Albuquerque','Flagstaff','Los-angeles']\n",
    "distances = [0, 198, 303, 736, 871, 1175, 1475, 1544, 1913, 2448]\n",
    "dist_array = np.array(distances)\n",
    "\n",
    "print('The distances in mile:', '\\n', dist_array, '\\n')\n",
    "\n",
    "dist_grid_mile = np.abs(dist_array - dist_array[:, np.newaxis])\n",
    "print('The 2D grid of distances in mile:','\\n',dist_grid_mile, '\\n')\n",
    "\n",
    "dist_grid_km = np.around(dist_grid_mile*1.60934)\n",
    "print('The 2D grid of distances in KM:','\\n' ,dist_grid_km, '\\n')"
   ]
  },
  {
   "cell_type": "markdown",
   "metadata": {},
   "source": [
    "7\\. Prime numbers sieve: compute the prime numbers in the 0-N (N=99 to start with) range with a sieve (mask).\n",
    "  * Constract a shape (100,) boolean array, the mask\n",
    "  * Identify the multiples of each number starting from 2 and set accordingly the corresponding mask element\n",
    "  * Apply the mask to obtain an array of ordered prime numbers\n",
    "  * Check the performances (timeit); how does it scale with N?\n",
    "  * Implement the optimization suggested in the [sieve of Eratosthenes](https://en.wikipedia.org/wiki/Sieve_of_Eratosthenes)"
   ]
  },
  {
   "cell_type": "code",
   "execution_count": 187,
   "metadata": {},
   "outputs": [
    {
     "name": "stdout",
     "output_type": "stream",
     "text": [
      "The list of prime numbers: \n",
      " [ 1  2  3  5  7 11 13 17 19 23 29 31 37 41 43 47 53 59 61 67 71 73 79 83\n",
      " 89 97] \n",
      "\n",
      "Computed time for mask operation:  0.0001919999995152466\n"
     ]
    }
   ],
   "source": [
    "import numpy as np\n",
    "import math\n",
    "\n",
    "N = 100\n",
    "def numbers(x):\n",
    "    a = np.arange(1,N)\n",
    "    for i in range(2,x):\n",
    "        if x % i == 0:\n",
    "            return False\n",
    "        else:\n",
    "            continue\n",
    "    return True\n",
    "\n",
    "mask = [numbers(a[i]) for i in range(N-1)]\n",
    "prime_list = a[mask]  \n",
    "print('The list of prime numbers: \\n',prime_list, '\\n')\n",
    "\n",
    "import timeit\n",
    "\n",
    "start_time = timeit.default_timer() \n",
    "end_time = timeit.default_timer()\n",
    "total_time = end_time - start_time\n",
    "\n",
    "print(\"Computed time for mask operation: \", total_time)\n"
   ]
  },
  {
   "cell_type": "code",
   "execution_count": 186,
   "metadata": {},
   "outputs": [
    {
     "name": "stdout",
     "output_type": "stream",
     "text": [
      "The optimization in the sieve of Eratosthenes:\n",
      " [ 2  3  5  7 11 13 17 19 23 29 31 37 41 43 47 53 59 61 67 71 73 79 83 89\n",
      " 97 99]\n",
      "Computed time for Eratosthenes operatin:  0.00021660000129486434\n"
     ]
    }
   ],
   "source": [
    "import timeit\n",
    "def Eratostene(x):\n",
    "    list1 = np.array([m for m in np.arange(x)])\n",
    "    for i in range(2,x):\n",
    "        if ( list1[i]!=-1 ):\n",
    "            k = i\n",
    "            for j in range(2,int(x/i)):\n",
    "                if ( k+i<x ):\n",
    "                    list1[k+i]=-1\n",
    "                    k = k+i\n",
    "    list1[0]=-1\n",
    "    list1[1]=-1\n",
    "    return list1[list1!=-1]\n",
    "    \n",
    "print('The optimization in the sieve of Eratosthenes:\\n', Eratostene(100))\n",
    "\n",
    "start_time = timeit.default_timer()\n",
    "end_time = timeit.default_timer()\n",
    "print('Computed time for Eratosthenes operatin: ', end_time - start_time)"
   ]
  },
  {
   "cell_type": "markdown",
   "metadata": {},
   "source": [
    "**N.B. the following exercises are meant to be solved only if you are familiar with the numpy random library. If not you can skip them (postponed for one of the next exercise sessions)**\n"
   ]
  },
  {
   "cell_type": "markdown",
   "metadata": {},
   "source": [
    "8\\. Diffusion using random walk\n",
    "\n",
    "Consider a simple random walk process: at each step in time, a walker jumps right or left (+1 or -1) with equal probability. The goal is to find the typical distance from the origin of a random walker after a given amount of time. \n",
    "To do that, let's simulate many walkers and create a 2D array with each walker as a raw and the actual time evolution as columns\n",
    "\n",
    "  * Take 1000 walkers and let them walk for 200 steps\n",
    "  * Use randint to create a 2D array of size walkers x steps with values -1 or 1\n",
    "  * Build the actual walking distances for each walker (i.e. another 2D array \"summing on each raw\")\n",
    "  * Take the square of that 2D array (elementwise)\n",
    "  * Compute the mean of the squared distances at each step (i.e. the mean along the columns)\n",
    "  * Plot the average distances (sqrt(distance\\*\\*2)) as a function of time (step)\n",
    "  \n",
    "Did you get what you expected?"
   ]
  },
  {
   "cell_type": "markdown",
   "metadata": {},
   "source": [
    "9\\. Analyze a data file \n",
    "  * Download the population of hares, lynxes and carrots at the beginning of the last century.\n",
    "    ```python\n",
    "    ! wget https://www.dropbox.com/s/3vigxoqayo389uc/populations.txt\n",
    "    ```\n",
    "\n",
    "  * Check the content by looking within the file\n",
    "  * Load the data (use an appropriate numpy method) into a 2D array\n",
    "  * Create arrays out of the columns, the arrays being (in order): *year*, *hares*, *lynxes*, *carrots* \n",
    "  * Plot the 3 populations over the years\n",
    "  * Compute the main statistical properties of the dataset (mean, std, correlations, etc.)\n",
    "  * Which species has the highest population each year?\n",
    "\n",
    "Do you feel there is some evident correlation here? [Studies](https://www.enr.gov.nt.ca/en/services/lynx/lynx-snowshoe-hare-cycle) tend to believe so."
   ]
  },
  {
   "cell_type": "code",
   "execution_count": null,
   "metadata": {},
   "outputs": [],
   "source": []
  }
 ],
 "metadata": {
  "kernelspec": {
   "display_name": "Python 3",
   "language": "python",
   "name": "python3"
  },
  "language_info": {
   "codemirror_mode": {
    "name": "ipython",
    "version": 3
   },
   "file_extension": ".py",
   "mimetype": "text/x-python",
   "name": "python",
   "nbconvert_exporter": "python",
   "pygments_lexer": "ipython3",
   "version": "3.8.8"
  }
 },
 "nbformat": 4,
 "nbformat_minor": 4
}
