{
 "cells": [
  {
   "cell_type": "markdown",
   "metadata": {},
   "source": [
    "### Numpy basics"
   ]
  },
  {
   "cell_type": "markdown",
   "metadata": {},
   "source": [
    "1\\. Find the row, column and overall means for the following matrix:\n",
    "\n",
    "```python\n",
    "m = np.arange(12).reshape((3,4))\n",
    "```"
   ]
  },
  {
<<<<<<< HEAD
   "cell_type": "code",
   "execution_count": 1,
   "metadata": {},
   "outputs": [],
   "source": [
    "import numpy as np"
   ]
  },
  {
   "cell_type": "code",
   "execution_count": 2,
   "metadata": {},
   "outputs": [
    {
     "name": "stdout",
     "output_type": "stream",
     "text": [
      "Mean over rows:  [4. 5. 6. 7.]\n",
      "Mean over columns:  [1.5 5.5 9.5]\n",
      "Mean overall terms: 5.5\n"
     ]
    }
   ],
   "source": [
    "m = np.arange(12).reshape((3,4))\n",
    "\n",
    "row_mean = m.mean(axis=0)\n",
    "column_mean = m.mean(axis=1)\n",
    "overall_mean = m.mean()\n",
    "\n",
    "print(\"Mean over rows: \", row_mean)\n",
    "print(\"Mean over columns: \", column_mean)\n",
    "print(\"Mean overall terms:\", overall_mean)"
   ]
  },
  {
=======
>>>>>>> upstream/main
   "cell_type": "markdown",
   "metadata": {},
   "source": [
    "2\\. Find the outer product of the following two vecotrs\n",
    "\n",
    "```python\n",
    "u = np.array([1,3,5,7])\n",
    "v = np.array([2,4,6,8])\n",
    "```\n",
    "\n",
    "Do this in the following ways:\n",
    "\n",
    "   * Using the function outer in numpy\n",
    "   * Using a nested for loop or list comprehension\n",
    "   * Using numpy broadcasting operatoins\n"
   ]
  },
  {
<<<<<<< HEAD
   "cell_type": "code",
   "execution_count": 3,
   "metadata": {},
   "outputs": [
    {
     "name": "stdout",
     "output_type": "stream",
     "text": [
      "[[ 2  4  6  8]\n",
      " [ 6 12 18 24]\n",
      " [10 20 30 40]\n",
      " [14 28 42 56]]\n",
      "[[ 2  4  6  8]\n",
      " [ 6 12 18 24]\n",
      " [10 20 30 40]\n",
      " [14 28 42 56]]\n",
      "[[ 2  4  6  8]\n",
      " [ 6 12 18 24]\n",
      " [10 20 30 40]\n",
      " [14 28 42 56]]\n"
     ]
    }
   ],
   "source": [
    "u = np.array([1,3,5,7])\n",
    "v = np.array([2,4,6,8])\n",
    "\n",
    "#1\n",
    "matrix_1 = np.outer(u,v)\n",
    "\n",
    "#2\n",
    "matrix_2 = np.array([u[i]*v for i in range(u.shape[0])])\n",
    "\n",
    "#3\n",
    "matrix_3 = u[:,np.newaxis] * v\n",
    "\n",
    "\n",
    "print(matrix_1)\n",
    "print(matrix_2)\n",
    "print(matrix_3)"
   ]
  },
  {
=======
>>>>>>> upstream/main
   "cell_type": "markdown",
   "metadata": {},
   "source": [
    "3\\. Create a 10 by 6 matrix of random uniform numbers. Set all rows with any entry less than 0.1 to be zero\n",
    "\n",
    "Hint: Use the following numpy functions - np.random.random, np.any as well as Boolean indexing and the axis argument."
   ]
  },
  {
<<<<<<< HEAD
   "cell_type": "code",
   "execution_count": 4,
   "metadata": {},
   "outputs": [
    {
     "name": "stdout",
     "output_type": "stream",
     "text": [
      "[[0.         0.         0.         0.         0.         0.        ]\n",
      " [0.97295992 0.37212869 0.94700314 0.98353798 0.58970316 0.9472658 ]\n",
      " [0.         0.         0.         0.         0.         0.        ]\n",
      " [0.78193391 0.24006352 0.88854964 0.58800818 0.93450486 0.78014362]\n",
      " [0.54346167 0.85145779 0.61127712 0.36025694 0.59149106 0.93348437]\n",
      " [0.76832666 0.5559368  0.96145855 0.15369802 0.67615975 0.27051662]\n",
      " [0.4457402  0.26953372 0.77224857 0.39652783 0.68634921 0.38556202]\n",
      " [0.         0.         0.         0.         0.         0.        ]\n",
      " [0.         0.         0.         0.         0.         0.        ]\n",
      " [0.         0.         0.         0.         0.         0.        ]]\n"
     ]
    }
   ],
   "source": [
    "random_matrix = np.random.random((10,6))\n",
    "\n",
    "for i in range(random_matrix.shape[0]):\n",
    "    \n",
    "    if np.any(random_matrix[i] < 0.1):\n",
    "        random_matrix[i] = 0\n",
    "        \n",
    "print(random_matrix)"
   ]
  },
  {
=======
>>>>>>> upstream/main
   "cell_type": "markdown",
   "metadata": {},
   "source": [
    "4\\. Use np.linspace to create an array of 100 numbers between 0 and 2π (includsive).\n",
    "\n",
    "  * Extract every 10th element using slice notation\n",
    "  * Reverse the array using slice notation\n",
    "  * Extract elements where the absolute difference between the sine and cosine functions evaluated at that element is less than 0.1\n",
    "  * Make a plot showing the sin and cos functions and indicate where they are close"
   ]
  },
  {
<<<<<<< HEAD
   "cell_type": "code",
   "execution_count": 5,
   "metadata": {},
   "outputs": [],
   "source": [
    "import matplotlib.pyplot as plt"
   ]
  },
  {
   "cell_type": "code",
   "execution_count": 6,
   "metadata": {},
   "outputs": [
    {
     "name": "stdout",
     "output_type": "stream",
     "text": [
      "[0.         0.03173326 0.06346652 0.09519978 0.12693304 0.1586663\n",
      " 0.19039955 0.22213281 0.25386607 0.28559933 0.31733259 0.34906585\n",
      " 0.38079911 0.41253237 0.44426563 0.47599889 0.50773215 0.53946541\n",
      " 0.57119866 0.60293192 0.63466518 0.66639844 0.6981317  0.72986496\n",
      " 0.76159822 0.79333148 0.82506474 0.856798   0.88853126 0.92026451\n",
      " 0.95199777 0.98373103 1.01546429 1.04719755 1.07893081 1.11066407\n",
      " 1.14239733 1.17413059 1.20586385 1.23759711 1.26933037 1.30106362\n",
      " 1.33279688 1.36453014 1.3962634  1.42799666 1.45972992 1.49146318\n",
      " 1.52319644 1.5549297  1.58666296 1.61839622 1.65012947 1.68186273\n",
      " 1.71359599 1.74532925 1.77706251 1.80879577 1.84052903 1.87226229\n",
      " 1.90399555 1.93572881 1.96746207 1.99919533 2.03092858 2.06266184\n",
      " 2.0943951  2.12612836 2.15786162 2.18959488 2.22132814 2.2530614\n",
      " 2.28479466 2.31652792 2.34826118 2.37999443 2.41172769 2.44346095\n",
      " 2.47519421 2.50692747 2.53866073 2.57039399 2.60212725 2.63386051\n",
      " 2.66559377 2.69732703 2.72906028 2.76079354 2.7925268  2.82426006\n",
      " 2.85599332 2.88772658 2.91945984 2.9511931  2.98292636 3.01465962\n",
      " 3.04639288 3.07812614 3.10985939 3.14159265]\n"
     ]
    },
    {
     "data": {
      "text/plain": [
       "<matplotlib.legend.Legend at 0x7fb1f006af40>"
      ]
     },
     "execution_count": 6,
     "metadata": {},
     "output_type": "execute_result"
    },
    {
     "data": {
      "image/png": "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\n",
      "text/plain": [
       "<Figure size 720x432 with 1 Axes>"
      ]
     },
     "metadata": {
      "needs_background": "light"
     },
     "output_type": "display_data"
    }
   ],
   "source": [
    "arr = np.linspace(0, np.pi, 100)\n",
    "\n",
    "print(arr)\n",
    "#1\n",
    "arr_every_10 = arr[::10]\n",
    "\n",
    "#2\n",
    "reverse_indexes = list(reversed(range(100)))\n",
    "reversed_arr = arr[reverse_indexes]\n",
    "\n",
    "#3\n",
    "extract_arr = arr[np.where(np.abs(np.sin(arr)-np.cos(arr))< 0.1)]\n",
    "\n",
    "#4\n",
    "\n",
    "x = np.linspace(0,2*np.pi, 200)\n",
    "fig = plt.figure(figsize=(10,6))\n",
    "\n",
    "plt.plot(x,np.sin(x), 'r', label='Sin(x)', linewidth=3)\n",
    "plt.plot(x,np.cos(x), 'b', label='Cos(x)', linewidth=3)\n",
    "\n",
    "x_close = x[np.where(np.abs(np.sin(x)-np.cos(x))< 0.1)]\n",
    "\n",
    "\n",
    "\n",
    "plt.scatter(x_close, np.sin(x_close), marker='.', c='black', s =300, label='|Sin(x)-Cos(x)|<0.1')\n",
    "plt.scatter(x_close, np.cos(x_close), marker='.', c='black', s=300)\n",
    "\n",
    "plt.legend(fontsize=20)\n"
   ]
  },
  {
=======
>>>>>>> upstream/main
   "cell_type": "markdown",
   "metadata": {},
   "source": [
    "5\\. Create a matrix that shows the 10 by 10 multiplication table.\n",
    "\n",
    " * Find the trace of the matrix\n",
    " * Extract the anto-diagonal (this should be ```array([10, 18, 24, 28, 30, 30, 28, 24, 18, 10])```)\n",
    " * Extract the diagnoal offset by 1 upwards (this should be ```array([ 2,  6, 12, 20, 30, 42, 56, 72, 90])```)"
   ]
  },
  {
<<<<<<< HEAD
   "cell_type": "code",
   "execution_count": 7,
   "metadata": {},
   "outputs": [
    {
     "name": "stdout",
     "output_type": "stream",
     "text": [
      "Trace:  385\n",
      "Anti-diagonal:  [10 18 24 28 30 30 28 24 18 10]\n",
      "Diagonal offset 1 up:  [ 2  6 12 20 30 42 56 72 90]\n"
     ]
    }
   ],
   "source": [
    "mult_table = np.outer(np.arange(1,11), np.arange(1,11))\n",
    "\n",
    "#1\n",
    "trace = np.trace(mult_table)\n",
    "print(\"Trace: \", trace)\n",
    "\n",
    "#2\n",
    "anti_diag = np.fliplr(mult_table).diagonal()\n",
    "print(\"Anti-diagonal: \", anti_diag)\n",
    "\n",
    "#3\n",
    "off_1_diagonal = np.diagonal(mult_table, offset=1)\n",
    "print(\"Diagonal offset 1 up: \", off_1_diagonal)\n",
    "\n"
   ]
  },
  {
=======
>>>>>>> upstream/main
   "cell_type": "markdown",
   "metadata": {},
   "source": [
    "6\\. Use broadcasting to create a grid of distances\n",
    "\n",
    "Route 66 crosses the following cities in the US: Chicago, Springfield, Saint-Louis, Tulsa, Oklahoma City, Amarillo, Santa Fe, Albuquerque, Flagstaff, Los Angeles\n",
    "The corresponding positions in miles are: 0, 198, 303, 736, 871, 1175, 1475, 1544, 1913, 2448\n",
    "\n",
    "  * Construct a 2D grid of distances among each city along Route 66\n",
    "  * Convert that in km (those savages...)"
   ]
  },
  {
<<<<<<< HEAD
   "cell_type": "code",
   "execution_count": 8,
   "metadata": {},
   "outputs": [],
   "source": [
    "dist = np.array([0, 198, 303, 736, 871, 1175, 1475, 1544, 1913, 2448])\n",
    "\n",
    "grid = np.abs(dist[:,np.newaxis] - dist)\n",
    "grid_km = grid * 1.60934\n"
   ]
  },
  {
=======
>>>>>>> upstream/main
   "cell_type": "markdown",
   "metadata": {},
   "source": [
    "7\\. Prime numbers sieve: compute the prime numbers in the 0-N (N=99 to start with) range with a sieve (mask).\n",
    "  * Constract a shape (100,) boolean array, the mask\n",
    "  * Identify the multiples of each number starting from 2 and set accordingly the corresponding mask element\n",
    "  * Apply the mask to obtain an array of ordered prime numbers\n",
    "  * Check the performances (timeit); how does it scale with N?\n",
    "  * Implement the optimization suggested in the [sieve of Eratosthenes](https://en.wikipedia.org/wiki/Sieve_of_Eratosthenes)"
   ]
  },
  {
<<<<<<< HEAD
   "cell_type": "code",
   "execution_count": 15,
   "metadata": {},
   "outputs": [
    {
     "name": "stdout",
     "output_type": "stream",
     "text": [
      "57.5 µs ± 3.63 µs per loop (mean ± std. dev. of 7 runs, 10000 loops each)\n",
      "142 µs ± 1.44 µs per loop (mean ± std. dev. of 7 runs, 10000 loops each)\n",
      "[ 2  3  5  7 11 13 17 19 23 29 31 37 41 43 47 53 59 61 67 71 73 79 83 89\n",
      " 97]\n",
      "[ 2  3  5  7 11 13 17 19 23 29 31 37 41 43 47 53 59 61 67 71 73 79 83 89\n",
      " 97]\n"
     ]
    }
   ],
   "source": [
    "N = 100\n",
    "\n",
    "def first_N_prime(N):\n",
    "    the_mask = np.array([True for i in range(N)])\n",
    "    indexes = np.arange(N)\n",
    "    \n",
    "    the_mask[:2] = False\n",
    "\n",
    "    for i in range(2,N):\n",
    "        the_mask[indexes[i*2::i]] = False\n",
    "    return indexes[the_mask]\n",
    "\n",
    "%timeit primes = first_N_prime(N)\n",
    "\n",
    "def first_N_prime_Erato(N):\n",
    "    the_mask = np.array([True for i in range(2,N)])\n",
    "    indexes = np.arange(2,N)\n",
    "    \n",
    "    for i in range(2,int(N**0.5)):\n",
    "        if the_mask[i-2]==True:\n",
    "            l = [i**2+k*i for k in range(N) if i**2+k*i <N]\n",
    "            for j in l:\n",
    "                the_mask[j-2] = False\n",
    "                \n",
    "    return indexes[the_mask]\n",
    "\n",
    "%timeit primes_era = first_N_prime_Erato(N)\n",
    "\n",
    "print(first_N_prime(N))\n",
    "print(first_N_prime_Erato(N))"
   ]
  },
  {
=======
>>>>>>> upstream/main
   "cell_type": "markdown",
   "metadata": {},
   "source": [
    "**N.B. the following exercises are meant to be solved only if you are familiar with the numpy random library. If not you can skip them (postponed for one of the next exercise sessions)**\n"
   ]
  },
  {
   "cell_type": "markdown",
   "metadata": {},
   "source": [
    "8\\. Diffusion using random walk\n",
    "\n",
    "Consider a simple random walk process: at each step in time, a walker jumps right or left (+1 or -1) with equal probability. The goal is to find the typical distance from the origin of a random walker after a given amount of time. \n",
    "To do that, let's simulate many walkers and create a 2D array with each walker as a raw and the actual time evolution as columns\n",
    "\n",
    "  * Take 1000 walkers and let them walk for 200 steps\n",
    "  * Use randint to create a 2D array of size walkers x steps with values -1 or 1\n",
    "  * Build the actual walking distances for each walker (i.e. another 2D array \"summing on each raw\")\n",
    "  * Take the square of that 2D array (elementwise)\n",
    "  * Compute the mean of the squared distances at each step (i.e. the mean along the columns)\n",
    "  * Plot the average distances (sqrt(distance\\*\\*2)) as a function of time (step)\n",
    "  \n",
    "Did you get what you expected?"
   ]
  },
  {
   "cell_type": "markdown",
   "metadata": {},
   "source": [
    "9\\. Analyze a data file \n",
    "  * Download the population of hares, lynxes and carrots at the beginning of the last century.\n",
    "    ```python\n",
    "    ! wget https://www.dropbox.com/s/3vigxoqayo389uc/populations.txt\n",
    "    ```\n",
    "\n",
    "  * Check the content by looking within the file\n",
    "  * Load the data (use an appropriate numpy method) into a 2D array\n",
    "  * Create arrays out of the columns, the arrays being (in order): *year*, *hares*, *lynxes*, *carrots* \n",
    "  * Plot the 3 populations over the years\n",
    "  * Compute the main statistical properties of the dataset (mean, std, correlations, etc.)\n",
    "  * Which species has the highest population each year?\n",
    "\n",
    "Do you feel there is some evident correlation here? [Studies](https://www.enr.gov.nt.ca/en/services/lynx/lynx-snowshoe-hare-cycle) tend to believe so."
   ]
  },
  {
   "cell_type": "code",
   "execution_count": null,
   "metadata": {},
   "outputs": [],
   "source": []
  }
 ],
 "metadata": {
  "kernelspec": {
<<<<<<< HEAD
   "display_name": "Python (datascience)",
   "language": "python",
   "name": "datascience"
=======
   "display_name": "Python 3",
   "language": "python",
   "name": "python3"
>>>>>>> upstream/main
  },
  "language_info": {
   "codemirror_mode": {
    "name": "ipython",
    "version": 3
   },
   "file_extension": ".py",
   "mimetype": "text/x-python",
   "name": "python",
   "nbconvert_exporter": "python",
   "pygments_lexer": "ipython3",
<<<<<<< HEAD
   "version": "3.8.5"
=======
   "version": "3.8.8"
>>>>>>> upstream/main
  }
 },
 "nbformat": 4,
 "nbformat_minor": 2
}
