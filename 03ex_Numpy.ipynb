{
 "cells": [
  {
   "cell_type": "code",
   "execution_count": 2,
   "metadata": {},
   "outputs": [
    {
     "name": "stdout",
     "output_type": "stream",
     "text": [
      "[[ 0  1  2  3]\n",
      " [ 4  5  6  7]\n",
      " [ 8  9 10 11]]\n",
      "the means of the rows are: [1.5, 5.5, 9.5]\n",
      "the means of the columns are: [4.0, 5.0, 6.0, 7.0]\n",
      "the means are: 5.5\n"
     ]
    }
   ],
   "source": [
    "#1\n",
    "import numpy as np\n",
    "m = np.arange(12).reshape((3,4))\n",
    "print(m)\n",
    "\n",
    "m_row = [sum(m[column,:])/m.shape[1] for column in range(m.shape[0])]\n",
    "m_column = [sum(m[:,row])/m.shape[0] for row in range(m.shape[1])]\n",
    "m_overall = np.average(m)\n",
    "\n",
    "print(f'the means of the rows are: {m_row}')\n",
    "print(f'the means of the columns are: {m_column}')\n",
    "print(f'the means are: {m_overall}')\n"
   ]
  },
  {
   "cell_type": "code",
   "execution_count": 4,
   "metadata": {},
   "outputs": [
    {
     "name": "stdout",
     "output_type": "stream",
     "text": [
      "[[ 2  4  6  8]\n",
      " [ 6 12 18 24]\n",
      " [10 20 30 40]\n",
      " [14 28 42 56]]\n",
      "[[ 2  4  6  8]\n",
      " [ 6 12 18 24]\n",
      " [10 20 30 40]\n",
      " [14 28 42 56]]\n",
      "[[ 2  6 10 14]\n",
      " [ 4 12 20 28]\n",
      " [ 6 18 30 42]\n",
      " [ 8 24 40 56]]\n"
     ]
    }
   ],
   "source": [
    "#2\n",
    "u = np.array([1,3,5,7])\n",
    "v = np.array([2,4,6,8])\n",
    "\n",
    "uxv = np.outer(u,v)\n",
    "print(uxv)\n",
    "\n",
    "A = np.zeros((4,4), dtype=int)\n",
    "for i in range(A.shape[0]):\n",
    "    for j in range(A.shape[1]): A[i,j] = u[i] * v[j]\n",
    "print(A)\n",
    "\n",
    "v_new = np.reshape(v, (-1,1) )\n",
    "u_new = np.reshape(u, (1,-1) )\n",
    "a = u_new * v_new\n",
    "print(a)"
   ]
  },
  {
   "cell_type": "code",
   "execution_count": 6,
   "metadata": {},
   "outputs": [
    {
     "name": "stdout",
     "output_type": "stream",
     "text": [
      "[[0.89767023 0.99776843 0.20564417 0.42465848 0.         0.63120287]\n",
      " [0.14187282 0.62766172 0.96859807 0.83425871 0.32306027 0.        ]\n",
      " [0.         0.50123164 0.68811895 0.34704206 0.337739   0.1819448 ]\n",
      " [0.3173651  0.23974544 0.82543838 0.67233118 0.29406324 0.        ]\n",
      " [0.69913485 0.18268133 0.         0.82080123 0.19945973 0.54820004]\n",
      " [0.59656976 0.15119949 0.         0.10110011 0.86590762 0.58276298]\n",
      " [0.11682791 0.88988638 0.         0.845832   0.         0.50323169]\n",
      " [0.54670638 0.69832553 0.5084121  0.38503264 0.59702287 0.        ]\n",
      " [0.58100609 0.86151935 0.233498   0.50970414 0.21533967 0.75516036]\n",
      " [0.24475713 0.93677234 0.74482472 0.26646747 0.15867068 0.78491075]]\n"
     ]
    }
   ],
   "source": [
    "#3\n",
    "import numpy as np\n",
    "\n",
    "R = np.asarray([[np.random.random() for col in range(6)] for row in range(10)])\n",
    "# print(R)\n",
    "for row in range(R.shape[0]):\n",
    "    for column in range(R.shape[1]):\n",
    "        if(R[row,column] < 0.1):\n",
    "            R[row,column] = 0\n",
    "print(R)"
   ]
  },
  {
   "cell_type": "code",
   "execution_count": 9,
   "metadata": {},
   "outputs": [
    {
     "name": "stdout",
     "output_type": "stream",
     "text": [
      "True\n",
      "[0.7615982190520711, 0.8250647373064104, 3.8714576135146945, 3.934924131769034]\n"
     ]
    },
    {
     "data": {
      "image/png": "[encoded data removed]",
      "text/plain": [
       "<Figure size 432x288 with 1 Axes>"
      ]
     },
     "metadata": {
      "needs_background": "light"
     },
     "output_type": "display_data"
    }
   ],
   "source": [
    "#4\n",
    "import numpy as np\n",
    "from numpy import pi,cos, sin\n",
    "x = np.linspace(0,2*pi, num=100)\n",
    "# print(x)\n",
    "#a)\n",
    "y = x[slice(0, len(x), 10)]\n",
    "y1 = x[0 : len(x) : 10]\n",
    "print(np.may_share_memory(y, y1))\n",
    "\n",
    "#b)\n",
    "z = x[::-1]\n",
    "# print(z)\n",
    "\n",
    "#c)\n",
    "sincos = [i for i in x if( abs(sin(i) - cos(i) ) < 0.1 ) ]\n",
    "print(sincos)\n",
    "\n",
    "#d)\n",
    "import matplotlib.pyplot as plt\n",
    "\n",
    "ay_sin = np.sin(x)\n",
    "ay_cos = np.cos(x)\n",
    "\n",
    "xs = sincos\n",
    "ys = [sin(i) for i in sincos]\n",
    "yc = [cos(i) for i in sincos]\n",
    "\n",
    "plt.scatter(xs,ys)\n",
    "plt.scatter(xs,yc)\n",
    "plt.plot(x, ay_sin)\n",
    "plt.plot(x,ay_cos)\n",
    "plt.legend(['sin(x)', 'cos(x)'])\n",
    "plt.show()\n",
    "\n",
    "\n"
   ]
  },
  {
   "cell_type": "code",
   "execution_count": 60,
   "metadata": {},
   "outputs": [
    {
     "name": "stdout",
     "output_type": "stream",
     "text": [
      "[[  1   2   3   4   5   6   7   8   9  10]\n",
      " [  2   4   6   8  10  12  14  16  18  20]\n",
      " [  3   6   9  12  15  18  21  24  27  30]\n",
      " [  4   8  12  16  20  24  28  32  36  40]\n",
      " [  5  10  15  20  25  30  35  40  45  50]\n",
      " [  6  12  18  24  30  36  42  48  54  60]\n",
      " [  7  14  21  28  35  42  49  56  63  70]\n",
      " [  8  16  24  32  40  48  56  64  72  80]\n",
      " [  9  18  27  36  45  54  63  72  81  90]\n",
      " [ 10  20  30  40  50  60  70  80  90 100]]\n",
      "385\n",
      "385\n",
      "[10, 18, 24, 28, 30, 30, 28, 24, 18, 10]\n",
      "[10 18 24 28 30 30 28 24 18 10]\n",
      "[2, 6, 12, 20, 30, 42, 56, 72, 90]\n",
      "[ 2  6 12 20 30 42 56 72 90]\n"
     ]
    }
   ],
   "source": [
    "#5\n",
    "x = np.arange(1,11)\n",
    "A = x * x[:,None] #vettore x per il suo trasposto\n",
    "print(A)\n",
    "\n",
    "#a)\n",
    "trace = np.trace(A)\n",
    "print(trace)\n",
    "tr = 0\n",
    "for row in range(A.shape[0]):\n",
    "    for column in range(A.shape[1]):\n",
    "        if(row == column): tr += A[row,column]\n",
    "print(tr)\n",
    "        \n",
    "#b)\n",
    "anti = []\n",
    "trans = np.fliplr(A)\n",
    "diago = np.diagonal(trans)\n",
    "for row in range(0, A.shape[0]):\n",
    "    for column in range(0, A.shape[1]):\n",
    "        if(row == column): anti.append(trans[row ,column])\n",
    "print(anti)\n",
    "print(diago)\n",
    "\n",
    "#c)\n",
    "offset_diag = []\n",
    "off_diago = np.diagonal(A, offset=1)\n",
    "for row in range(0, A.shape[0]):\n",
    "    for column in range(0, A.shape[1]):\n",
    "        if(row == (column+1)): offset_diag.append(A[row ,column])\n",
    "print(offset_diag)\n",
    "print(off_diago)\n",
    "\n",
    "\n"
   ]
  },
  {
   "cell_type": "code",
   "execution_count": 105,
   "metadata": {},
   "outputs": [
    {
     "name": "stdout",
     "output_type": "stream",
     "text": [
      "[[   0  198  303  736  871 1175 1475 1544 1913 2448]\n",
      " [ 198    0  105  538  673  977 1277 1346 1715 2250]\n",
      " [ 303  105    0  433  568  872 1172 1241 1610 2145]\n",
      " [ 736  538  433    0  135  439  739  808 1177 1712]\n",
      " [ 871  673  568  135    0  304  604  673 1042 1577]\n",
      " [1175  977  872  439  304    0  300  369  738 1273]\n",
      " [1475 1277 1172  739  604  300    0   69  438  973]\n",
      " [1544 1346 1241  808  673  369   69    0  369  904]\n",
      " [1913 1715 1610 1177 1042  738  438  369    0  535]\n",
      " [2448 2250 2145 1712 1577 1273  973  904  535    0]]\n"
     ]
    }
   ],
   "source": [
    "#6\n",
    "cities = ['Chicago', 'Springfield', 'Saint-Louis', 'Tulsa', 'Oklahoma City', 'Amarillo', 'Santa Fe', 'Albuquerque', 'Flagstaff', 'Los Angeles']\n",
    "r = np.array([ 0, 198, 303, 736, 871, 1175, 1475, 1544, 1913, 2448])\n",
    "c = np.reshape(r, (r.shape[0], 1) )\n",
    "# print(c)\n",
    "\n",
    "miles = abs(r-c)\n",
    "print(miles)\n",
    "km = miles *1.60934\n",
    "# print(km)\n",
    "\n",
    "\n",
    "# import pandas as pd\n",
    "\n",
    "# city_miles = pd.DataFrame(miles , columns=cities)\n",
    "# # city = {'Chicago', 'Springfield', 'Saint-Louis', 'Tulsa', 'Oklahoma City', 'Amarillo', 'Santa Fe', 'Albuquerque', 'Flagstaff', 'Los Angeles'}\n",
    "# # city_miles = city_miles.append(city ,ignore_index=True)\n",
    "\n",
    "\n",
    "# print(city_miles)\n",
    "\n",
    "\n",
    "\n",
    "\n"
   ]
  },
  {
   "cell_type": "code",
   "execution_count": 41,
   "metadata": {},
   "outputs": [
    {
     "name": "stdout",
     "output_type": "stream",
     "text": [
      "[  1   2   3   5   7  11  13  17  19  23  29  31  37  41  43  47  53  59\n",
      "  61  67  71  73  79  83  89  97 101 103 107 109 113 127 131 137 139 149\n",
      " 151 157 163 167 173 179 181 191 193 197 199 211 223 227 229 233 239 241\n",
      " 251 257 263 269 271 277 281 283 293 307 311 313 317 331 337 347 349 353\n",
      " 359 367 373 379 383 389 397 401 409 419 421 431 433 439 443 449 457 461\n",
      " 463 467 479 487 491 499 503 509 521 523 541 547 557 563 569 571 577 587\n",
      " 593 599 601 607 613 617 619 631 641 643 647 653 659 661 673 677 683 691\n",
      " 701 709 719 727 733 739 743 751 757 761 769 773 787 797 809 811 821 823\n",
      " 827 829 839 853 857 859 863 877 881 883 887 907 911 919 929 937 941 947\n",
      " 953 967 971 977 983 991 997]\n",
      "4.31 µs ± 967 ns per loop (mean ± std. dev. of 7 runs, 100000 loops each)\n"
     ]
    }
   ],
   "source": [
    "#7\n",
    "import numpy as np\n",
    "\n",
    "numb = np.arange(1,1001)\n",
    "mask = np.zeros((1000, ), dtype=bool)\n",
    "\n",
    "mask[:2]=True\n",
    "\n",
    "for n in range(3,1000):\n",
    "    div=2\n",
    "    flag=False\n",
    "    while(div<=n/2 and flag==False):\n",
    "        if(n%div == 0):\n",
    "            flag=True\n",
    "        div+=1\n",
    "    if(flag==False): mask[n-1]=True\n",
    "# print(mask)\n",
    "primi = numb[mask]\n",
    "print(primi)\n",
    "\n",
    "%timeit primi = numb[mask]\n"
   ]
  },
  {
   "cell_type": "code",
   "execution_count": 40,
   "metadata": {},
   "outputs": [
    {
     "data": {
      "image/png": "[encoded data removed]",
      "text/plain": [
       "<Figure size 432x288 with 1 Axes>"
      ]
     },
     "metadata": {
      "needs_background": "light"
     },
     "output_type": "display_data"
    }
   ],
   "source": [
    "''' I runned the code 3 times for n=10,100,1000 each and calculated the mean for each implementation.\n",
    "the time per loop for n=10 is (65 \\pm 51.5)ns\n",
    "the time per loop for n=100 is (987 \\pm 51.5)ns\n",
    "for n=1000 is (5.37 \\pm 1.95 ) µs \n",
    "for n=2000 is (6.98 µs ± 519 ns  )  '''\n",
    "\n",
    "import matplotlib.pyplot as plt\n",
    "x=np.asarray([10,100,1000,2000])\n",
    "y=np.asarray([0.065, 0.987, 5.37, 6.98 ]) #µs!!\n",
    "plt.scatter(x,y)\n",
    "plt.show()\n",
    "\n",
    "'''So it seems that the time per loop increase with n with the logarithm of n'''"
   ]
  },
  {
   "cell_type": "code",
   "execution_count": 55,
   "metadata": {},
   "outputs": [
    {
     "name": "stdout",
     "output_type": "stream",
     "text": [
      "[2, 3, 5, 7, 11, 13, 17, 19, 23, 29, 31, 37, 41, 43, 47, 53, 59, 61, 67, 71, 73, 79, 83, 89, 97, 101, 103, 107, 109, 113, 127, 131, 137, 139, 149, 151, 157, 163, 167, 173, 179, 181, 191, 193, 197, 199, 211, 223, 227, 229, 233, 239, 241, 251, 257, 263, 269, 271, 277, 281, 283, 293, 307, 311, 313, 317, 331, 337, 347, 349, 353, 359, 367, 373, 379, 383, 389, 397, 401, 409, 419, 421, 431, 433, 439, 443, 449, 457, 461, 463, 467, 479, 487, 491, 499, 503, 509, 521, 523, 541, 547, 557, 563, 569, 571, 577, 587, 593, 599, 601, 607, 613, 617, 619, 631, 641, 643, 647, 653, 659, 661, 673, 677, 683, 691, 701, 709, 719, 727, 733, 739, 743, 751, 757, 761, 769, 773, 787, 797, 809, 811, 821, 823, 827, 829, 839, 853, 857, 859, 863, 877, 881, 883, 887, 907, 911, 919, 929, 937, 941, 947, 953, 967, 971, 977, 983, 991, 997, 1009, 1013, 1019, 1021, 1031, 1033, 1039, 1049, 1051, 1061, 1063, 1069, 1087, 1091, 1093, 1097, 1103, 1109, 1117, 1123, 1129, 1151, 1153, 1163, 1171, 1181, 1187, 1193, 1201, 1213, 1217, 1223, 1229, 1231, 1237, 1249, 1259, 1277, 1279, 1283, 1289, 1291, 1297, 1301, 1303, 1307, 1319, 1321, 1327, 1361, 1367, 1373, 1381, 1399, 1409, 1423, 1427, 1429, 1433, 1439, 1447, 1451, 1453, 1459, 1471, 1481, 1483, 1487, 1489, 1493, 1499, 1511, 1523, 1531, 1543, 1549, 1553, 1559, 1567, 1571, 1579, 1583, 1597, 1601, 1607, 1609, 1613, 1619, 1621, 1627, 1637, 1657, 1663, 1667, 1669, 1693, 1697, 1699, 1709, 1721, 1723, 1733, 1741, 1747, 1753, 1759, 1777, 1783, 1787, 1789, 1801, 1811, 1823, 1831, 1847, 1861, 1867, 1871, 1873, 1877, 1879, 1889, 1901, 1907, 1913, 1931, 1933, 1949, 1951, 1973, 1979, 1987, 1993, 1997, 1999]\n",
      "39 ns ± 3.72 ns per loop (mean ± std. dev. of 7 runs, 10000000 loops each)\n"
     ]
    }
   ],
   "source": [
    "def SieveOfEratosthenes(n):\n",
    "    # Create a boolean array \"prime[0..n]\" and initialize\n",
    "    # all entries it as true. A value in prime[i] will\n",
    "    # finally be false if i is Not a prime, else true.\n",
    "    prime = [True for i in range(n + 1)]\n",
    "    p = 2\n",
    "    while (p * p <= n):\n",
    "         \n",
    "        # If prime[p] is not changed, then it is a prime\n",
    "        if (prime[p] == True):\n",
    "             \n",
    "            # Update all multiples of p\n",
    "            for i in range(p ** 2, n + 1, p):\n",
    "                prime[i] = False\n",
    "        p += 1\n",
    "    prime[0]= False\n",
    "    prime[1]= False\n",
    "    prime_num = [p for p in range(n + 1) if prime[p]]\n",
    "    print(prime_num)\n",
    "\n",
    "SieveOfEratosthenes(2000)\n",
    "%timeit SieveOfEratosthenes"
   ]
  },
  {
   "cell_type": "code",
   "execution_count": 56,
   "metadata": {},
   "outputs": [
    {
     "data": {
      "text/plain": [
       "'I repeted the previuos idea for the time of implementation. \\nThe Eratostene method requires much less time and it seems to remain constant with n\\n'"
      ]
     },
     "execution_count": 56,
     "metadata": {},
     "output_type": "execute_result"
    }
   ],
   "source": [
    "# import matplotlib.pyplot as plt\n",
    "# x=np.asarray([10,100,1000,2000])\n",
    "# y=np.asarray([0.034, 0.034, 0.041, 0.045]) #µs!!\n",
    "# plt.scatter(x,y)\n",
    "# plt.show()\n",
    "'''I repeted the previuos idea for the time of implementation. \n",
    "The Eratostene method requires much less time and it seems to remain constant with n\n",
    "'''"
   ]
  },
  {
   "cell_type": "code",
   "execution_count": 1,
   "metadata": {},
   "outputs": [
    {
     "name": "stdout",
     "output_type": "stream",
     "text": [
      "(1000, 200)\n",
      "2\n"
     ]
    },
    {
     "data": {
      "image/png": "[encoded data removed]",
      "text/plain": [
       "<Figure size 432x288 with 1 Axes>"
      ]
     },
     "metadata": {
      "needs_background": "light"
     },
     "output_type": "display_data"
    }
   ],
   "source": [
    "#8\n",
    "'''I tried to do it but this is not he official solution'''\n",
    "import numpy as np\n",
    "import numpy.random as npr\n",
    "npr.seed(131121)\n",
    "\n",
    "rand = npr.randint(-1,1,size=(1000,200))\n",
    "print(rand.shape)\n",
    "for row in range(rand.shape[0]):\n",
    "    for column in range(rand.shape[1]):\n",
    "        if(rand[row,column] == 0): \n",
    "            rand[row,column] = 1\n",
    "# print(rand)\n",
    "print(rand.ndim)\n",
    "\n",
    "walk = np.zeros((1000,1))\n",
    "for row in range(rand.shape[0]):\n",
    "    walk[row,0] = (sum(rand[row,:]))**2\n",
    "\n",
    "# print(walk)\n",
    "\n",
    "distance = np.zeros((1000,201))\n",
    "for row in range(rand.shape[0]):\n",
    "    for column in range(rand.shape[1]):\n",
    "        distance[row,column+1] = distance[row,column] + rand[row,column]\n",
    "sqrd_distance = distance**2\n",
    "# print(sqrd_distance)\n",
    "\n",
    "means =np.zeros((1,200))\n",
    "for column in range(means.shape[1]):\n",
    "    means[:column] = (sum(sqrd_distance[:,column])) / sqrd_distance.shape[0]\n",
    "# print(means)\n",
    "\n",
    "\n",
    "import matplotlib.pyplot as plt\n",
    " \n",
    "y = np.sqrt(means)\n",
    "x = np.arange(0,200)\n",
    "\n",
    "plt.scatter(x,y)\n",
    "plt.show()\n",
    "\n"
   ]
  },
  {
   "cell_type": "code",
   "execution_count": 96,
   "metadata": {},
   "outputs": [
    {
     "data": {
      "image/png": "[encoded data removed]",
      "text/plain": [
       "<Figure size 432x288 with 1 Axes>"
      ]
     },
     "metadata": {
      "needs_background": "light"
     },
     "output_type": "display_data"
    }
   ],
   "source": [
    "#9\n",
    "population = np.loadtxt('populations.txt', dtype=int, comments='#')\n",
    "\n",
    "year = population[:,0]\n",
    "hares = population[:,1]\n",
    "lynxes = population[:,2]\n",
    "carrots = population[:,3]\n",
    "\n",
    "# plt.scatter(year,hares)\n",
    "# plt.scatter(year,lynxes)\n",
    "# plt.scatter(year,carrots)\n",
    "\n",
    "plt.plot(year,hares, '-r', label='hares')\n",
    "plt.plot(year,lynxes, '-b', label='lynxes')\n",
    "plt.plot(year,carrots, '-g', label='carrots')\n",
    "\n",
    "plt.legend()\n",
    "plt.xlabel('year')\n",
    "plt.show()\n"
   ]
  },
  {
   "cell_type": "code",
   "execution_count": 100,
   "metadata": {},
   "outputs": [
    {
     "name": "stdout",
     "output_type": "stream",
     "text": [
      "The haxes were (mean \\pm std): 34080.95238095238 \\pm 20897.906458089667\n",
      "The haxes were (mean \\pm std): 20166.666666666668 \\pm 16254.591536908763 \n",
      "The haxes were (mean \\pm std): 42400.0 \\pm 3322.5062255844787 \n"
     ]
    }
   ],
   "source": [
    "hares_mean = np.mean(hares)\n",
    "lynxes_mean = np.mean(lynxes)\n",
    "carrots_mean = np.mean(carrots)\n",
    "\n",
    "hares_mean = np.std(hares)\n",
    "lynxes_mean = np.std(lynxes)\n",
    "carrots_mean = np.std(carrots)\n",
    "\n",
    "print(f'The haxes were (mean \\pm std): {np.mean(hares)} \\pm {np.std(hares)}')\n",
    "print(f'The haxes were (mean \\pm std): {np.mean(lynxes)} \\pm {np.std(lynxes)} ')\n",
    "print(f'The haxes were (mean \\pm std): {np.mean(carrots)} \\pm {np.std(carrots)} ')\n"
   ]
  },
  {
   "cell_type": "code",
   "execution_count": 102,
   "metadata": {},
   "outputs": [
    {
     "name": "stdout",
     "output_type": "stream",
     "text": [
      "[2061218112]\n"
     ]
    }
   ],
   "source": [
    "print(np.correlate(lynxes,hares))"
   ]
  },
  {
   "cell_type": "code",
   "execution_count": null,
   "metadata": {},
   "outputs": [],
   "source": []
  }
 ],
 "metadata": {
  "kernelspec": {
   "display_name": "Python 3",
   "language": "python",
   "name": "python3"
  },
  "language_info": {
   "codemirror_mode": {
    "name": "ipython",
    "version": 3
   },
   "file_extension": ".py",
   "mimetype": "text/x-python",
   "name": "python",
   "nbconvert_exporter": "python",
   "pygments_lexer": "ipython3",
   "version": "3.9.8"
  }
 },
 "nbformat": 4,
 "nbformat_minor": 2
}
