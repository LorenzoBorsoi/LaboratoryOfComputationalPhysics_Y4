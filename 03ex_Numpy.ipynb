{
 "cells": [
  {
   "cell_type": "markdown",
   "metadata": {},
   "source": [
    "### Numpy basics"
   ]
  },
  {
   "cell_type": "markdown",
   "metadata": {},
   "source": [
    "1\\. Find the row, column and overall means for the following matrix:\n",
    "\n",
    "```python\n",
    "m = np.arange(12).reshape((3,4))\n",
    "```"
   ]
  },
  {
   "cell_type": "code",
   "execution_count": 76,
   "metadata": {},
   "outputs": [
    {
     "name": "stdout",
     "output_type": "stream",
     "text": [
      "Our array is:\n",
      " [[ 0  1  2  3]\n",
      " [ 4  5  6  7]\n",
      " [ 8  9 10 11]]\n",
      "The number of rows is: 3\n",
      "The number of columns is: 4 \n",
      "\n",
      "the mean of 1 row is: 1.5\n",
      "the mean of 2 row is: 7.0\n",
      "the mean of 3 row is: 16.5\n",
      "the mean of 1 column is: 4.0\n",
      "the mean of 2 column is: 5.0\n",
      "the mean of 3 column is: 6.0\n",
      "the mean of 4 column is: 7.0\n",
      "\n",
      "The overall mean of the matrix is: 5.5\n"
     ]
    }
   ],
   "source": [
    "import numpy as np\n",
    "\n",
    "m = np.arange(12).reshape((3,4))\n",
    "rows,col = np.shape(m)\n",
    "print(\"Our array is:\\n\", m)\n",
    "print(\"The number of rows is:\", rows)\n",
    "print(\"The number of columns is:\", col,\"\\n\")\n",
    "\n",
    "s=0\n",
    "index=0\n",
    "q=0\n",
    "for i in m:\n",
    "    for j in i:\n",
    "        s=s+j\n",
    "    m_r=s/col\n",
    "    index=index+1\n",
    "    print(\"the mean of\",index,\"row is:\", m_r)\n",
    "\n",
    "for i in range (col):\n",
    "    print(\"the mean of\", i+1, \"column is:\", np.sum(m[:,i])/rows)\n",
    "    \n",
    "mean=s/(rows*col)\n",
    "print(\"\\nThe overall mean of the matrix is:\", mean)\n",
    "\n",
    "\n",
    "\n"
   ]
  },
  {
   "cell_type": "markdown",
   "metadata": {},
   "source": [
    "2\\. Find the outer product of the following two vecotrs\n",
    "\n",
    "```python\n",
    "u = np.array([1,3,5,7])\n",
    "v = np.array([2,4,6,8])\n",
    "```\n",
    "\n",
    "Do this in the following ways:\n",
    "\n",
    "   * Using the function outer in numpy\n",
    "   * Using a nested for loop or list comprehension\n",
    "   * Using numpy broadcasting operatoins\n"
   ]
  },
  {
   "cell_type": "code",
   "execution_count": 20,
   "metadata": {},
   "outputs": [
    {
     "name": "stdout",
     "output_type": "stream",
     "text": [
      "[[ 2  4  6  8]\n",
      " [ 6 12 18 24]\n",
      " [10 20 30 40]\n",
      " [14 28 42 56]]\n",
      "[[ 2  4  6  8]\n",
      " [ 6 12 18 24]\n",
      " [10 20 30 40]\n",
      " [14 28 42 56]]\n",
      "[[ 2  4  6  8]\n",
      " [ 6 12 18 24]\n",
      " [10 20 30 40]\n",
      " [14 28 42 56]]\n"
     ]
    }
   ],
   "source": [
    "import numpy as np\n",
    "\n",
    "u = np.array([1,3,5,7])\n",
    "v = np.array([2,4,6,8])\n",
    "\n",
    "#1: using the function outer\n",
    "\n",
    "print(np.outer(u,v))\n",
    "\n",
    "#2: using a list comprehension\n",
    "\n",
    "out=[j*i for i in u for j in v]\n",
    "s=np.array(out)\n",
    "s=s.reshape(4,4)\n",
    "\n",
    "print(s)\n",
    "\n",
    "#3: using numpy broadcasting operations\n",
    "\n",
    "b=np.array([u[0]*v,u[1]*v,u[2]*v,u[3]*v])\n",
    "print(b)"
   ]
  },
  {
   "cell_type": "markdown",
   "metadata": {},
   "source": [
    "3\\. Create a 10 by 6 matrix of random uniform numbers. Set all rows with any entry less than 0.1 to be zero\n",
    "\n",
    "Hint: Use the following numpy functions - np.random.random, np.any as well as Boolean indexing and the axis argument."
   ]
  },
  {
   "cell_type": "code",
   "execution_count": 45,
   "metadata": {},
   "outputs": [
    {
     "name": "stdout",
     "output_type": "stream",
     "text": [
      "The matrix of random uniform numbers is: \n",
      " [[0.19952903 0.         0.32688722 0.47739894 0.67799992 0.58990009]\n",
      " [0.         0.98514431 0.54156992 0.3216679  0.58251509 0.42639405]\n",
      " [0.14516513 0.97693114 0.53692991 0.74452611 0.9058111  0.72741473]\n",
      " [0.68806117 0.29986156 0.95087437 0.40210452 0.98672704 0.12220839]\n",
      " [0.67920237 0.96481122 0.30533594 0.2974452  0.         0.61845544]\n",
      " [0.94320977 0.64887105 0.79619387 0.61198298 0.60855953 0.87388468]\n",
      " [0.68912986 0.11376117 0.7776047  0.24518789 0.         0.78105213]\n",
      " [0.81589034 0.37191796 0.1608817  0.7039364  0.81111443 0.22418945]\n",
      " [0.76979017 0.60292832 0.70100664 0.         0.         0.75809307]\n",
      " [0.743915   0.96712732 0.80951331 0.13083152 0.63709974 0.26287667]]\n"
     ]
    }
   ],
   "source": [
    "import numpy as np\n",
    "\n",
    "import numpy.random as npr\n",
    "\n",
    "x=npr.rand(10,6)\n",
    "x[x<0.1]=0\n",
    "\n",
    "print(\"The matrix of random uniform numbers is: \\n\",x)"
   ]
  },
  {
   "cell_type": "markdown",
   "metadata": {},
   "source": [
    "4\\. Use np.linspace to create an array of 100 numbers between 0 and 2π (includsive).\n",
    "\n",
    "  * Extract every 10th element using slice notation\n",
    "  * Reverse the array using slice notation\n",
    "  * Extract elements where the absolute difference between the sine and cosine functions evaluated at that element is less than 0.1\n",
    "  * Make a plot showing the sin and cos functions and indicate where they are close"
   ]
  },
  {
   "cell_type": "code",
   "execution_count": 51,
   "metadata": {},
   "outputs": [
    {
     "name": "stdout",
     "output_type": "stream",
     "text": [
      "the array is: \n",
      " [0.         0.06346652 0.12693304 0.19039955 0.25386607 0.31733259\n",
      " 0.38079911 0.44426563 0.50773215 0.57119866 0.63466518 0.6981317\n",
      " 0.76159822 0.82506474 0.88853126 0.95199777 1.01546429 1.07893081\n",
      " 1.14239733 1.20586385 1.26933037 1.33279688 1.3962634  1.45972992\n",
      " 1.52319644 1.58666296 1.65012947 1.71359599 1.77706251 1.84052903\n",
      " 1.90399555 1.96746207 2.03092858 2.0943951  2.15786162 2.22132814\n",
      " 2.28479466 2.34826118 2.41172769 2.47519421 2.53866073 2.60212725\n",
      " 2.66559377 2.72906028 2.7925268  2.85599332 2.91945984 2.98292636\n",
      " 3.04639288 3.10985939 3.17332591 3.23679243 3.30025895 3.36372547\n",
      " 3.42719199 3.4906585  3.55412502 3.61759154 3.68105806 3.74452458\n",
      " 3.8079911  3.87145761 3.93492413 3.99839065 4.06185717 4.12532369\n",
      " 4.1887902  4.25225672 4.31572324 4.37918976 4.44265628 4.5061228\n",
      " 4.56958931 4.63305583 4.69652235 4.75998887 4.82345539 4.88692191\n",
      " 4.95038842 5.01385494 5.07732146 5.14078798 5.2042545  5.26772102\n",
      " 5.33118753 5.39465405 5.45812057 5.52158709 5.58505361 5.64852012\n",
      " 5.71198664 5.77545316 5.83891968 5.9023862  5.96585272 6.02931923\n",
      " 6.09278575 6.15625227 6.21971879 6.28318531]\n",
      "\n",
      " 10th elements are: \n",
      " [0.57119866 1.20586385 1.84052903 2.47519421 3.10985939 3.74452458\n",
      " 4.37918976 5.01385494 5.64852012 6.28318531]\n",
      "\n",
      " reverse array is: \n",
      " [6.28318531 6.21971879 6.15625227 6.09278575 6.02931923 5.96585272\n",
      " 5.9023862  5.83891968 5.77545316 5.71198664 5.64852012 5.58505361\n",
      " 5.52158709 5.45812057 5.39465405 5.33118753 5.26772102 5.2042545\n",
      " 5.14078798 5.07732146 5.01385494 4.95038842 4.88692191 4.82345539\n",
      " 4.75998887 4.69652235 4.63305583 4.56958931 4.5061228  4.44265628\n",
      " 4.37918976 4.31572324 4.25225672 4.1887902  4.12532369 4.06185717\n",
      " 3.99839065 3.93492413 3.87145761 3.8079911  3.74452458 3.68105806\n",
      " 3.61759154 3.55412502 3.4906585  3.42719199 3.36372547 3.30025895\n",
      " 3.23679243 3.17332591 3.10985939 3.04639288 2.98292636 2.91945984\n",
      " 2.85599332 2.7925268  2.72906028 2.66559377 2.60212725 2.53866073\n",
      " 2.47519421 2.41172769 2.34826118 2.28479466 2.22132814 2.15786162\n",
      " 2.0943951  2.03092858 1.96746207 1.90399555 1.84052903 1.77706251\n",
      " 1.71359599 1.65012947 1.58666296 1.52319644 1.45972992 1.3962634\n",
      " 1.33279688 1.26933037 1.20586385 1.14239733 1.07893081 1.01546429\n",
      " 0.95199777 0.88853126 0.82506474 0.76159822 0.6981317  0.63466518\n",
      " 0.57119866 0.50773215 0.44426563 0.38079911 0.31733259 0.25386607\n",
      " 0.19039955 0.12693304 0.06346652 0.        ]\n",
      "\n",
      " elements where the absolute difference between sine and cosine is less than 0.1: \n",
      " [0.76159822 0.82506474 3.87145761 3.93492413]\n"
     ]
    },
    {
     "data": {
      "text/plain": [
       "Text(0.5, 1.0, 'Plot of sin and cos and points where they are close:')"
      ]
     },
     "execution_count": 51,
     "metadata": {},
     "output_type": "execute_result"
    },
    {
     "data": {
      "image/png": "[encoded data removed]",
      "text/plain": [
       "<Figure size 432x288 with 1 Axes>"
      ]
     },
     "metadata": {
      "needs_background": "light"
     },
     "output_type": "display_data"
    }
   ],
   "source": [
    "import numpy as np\n",
    "import math\n",
    "import matplotlib.pyplot as plt\n",
    "\n",
    "y=np.linspace(0,2*math.pi, num=100)\n",
    "print(\"the array is: \\n\",y)\n",
    "a=y[9::10].copy()\n",
    "print(\"\\n 10th elements are: \\n\",a)\n",
    "b=y[::-1].copy()\n",
    "print(\"\\n reverse array is: \\n\",b)\n",
    "mask=(abs(np.sin(y)-np.cos(y))<0.1)\n",
    "c=y[mask]\n",
    "print(\"\\n elements where the absolute difference between sine and cosine is less than 0.1: \\n\", c)\n",
    "C, S = np.cos(y), np.sin(y)\n",
    "plt.plot(y,C)\n",
    "plt.plot(y,S)\n",
    "cos, sin = np.cos(c), np.sin(c)\n",
    "plt.plot(c, cos, 'ro')\n",
    "plt.plot(c, sin, 'bs')\n",
    "plt.xlabel('x')\n",
    "plt.ylabel('sin(x), cos(x)')\n",
    "plt.title('Plot of sin and cos and points where they are close:')"
   ]
  },
  {
   "cell_type": "markdown",
   "metadata": {},
   "source": [
    "5\\. Create a matrix that shows the 10 by 10 multiplication table.\n",
    "\n",
    " * Find the trace of the matrix\n",
    " * Extract the anto-diagonal (this should be ```array([10, 18, 24, 28, 30, 30, 28, 24, 18, 10])```)\n",
    " * Extract the diagnoal offset by 1 upwards (this should be ```array([ 2,  6, 12, 20, 30, 42, 56, 72, 90])```)"
   ]
  },
  {
   "cell_type": "code",
   "execution_count": 2,
   "metadata": {},
   "outputs": [
    {
     "name": "stdout",
     "output_type": "stream",
     "text": [
      "The multiplication table is: \n",
      " [[  1   2   3   4   5   6   7   8   9  10]\n",
      " [  2   4   6   8  10  12  14  16  18  20]\n",
      " [  3   6   9  12  15  18  21  24  27  30]\n",
      " [  4   8  12  16  20  24  28  32  36  40]\n",
      " [  5  10  15  20  25  30  35  40  45  50]\n",
      " [  6  12  18  24  30  36  42  48  54  60]\n",
      " [  7  14  21  28  35  42  49  56  63  70]\n",
      " [  8  16  24  32  40  48  56  64  72  80]\n",
      " [  9  18  27  36  45  54  63  72  81  90]\n",
      " [ 10  20  30  40  50  60  70  80  90 100]]\n",
      "The trace of the matrix is:  385\n",
      "The anti-diagonal is: \n",
      " [10 18 24 28 30 30 28 24 18 10]\n",
      "The diagonal offset by 1 upwards is: \n",
      " [ 2  6 12 20 30 42 56 72 90]\n"
     ]
    }
   ],
   "source": [
    "import numpy as np\n",
    "from functools import reduce\n",
    "m=np.arange(101)\n",
    "v=[]\n",
    "for i in range(1,11):\n",
    "    a=m[i:i*10+1:i]\n",
    "    l=a.tolist()\n",
    "    v.append(l)\n",
    "tab=np.array(v)\n",
    "print(\"The multiplication table is: \\n\", tab)\n",
    "\n",
    "#find the trace of the matrix\n",
    "s=[]\n",
    "for i in range(0,10):\n",
    "    s.append(tab[i][i])\n",
    "def add(x,y):\n",
    "    return x+y\n",
    "trace=reduce(add,s)\n",
    "print(\"The trace of the matrix is: \", trace)\n",
    "\n",
    "#extract the anti-diagonal\n",
    "d=[]\n",
    "for i in range(0,10):\n",
    "    d.append(tab[i][9-i])\n",
    "print(\"The anti-diagonal is: \\n\", np.array(d))\n",
    "\n",
    "#extract the diagonal offset by 1 upwards\n",
    "k=[]\n",
    "for i in range(0,9):\n",
    "    k.append(tab[i][i+1])\n",
    "print(\"The diagonal offset by 1 upwards is: \\n\", np.array(k))"
   ]
  },
  {
   "cell_type": "markdown",
   "metadata": {},
   "source": [
    "6\\. Use broadcasting to create a grid of distances\n",
    "\n",
    "Route 66 crosses the following cities in the US: Chicago, Springfield, Saint-Louis, Tulsa, Oklahoma City, Amarillo, Santa Fe, Albuquerque, Flagstaff, Los Angeles\n",
    "The corresponding positions in miles are: 0, 198, 303, 736, 871, 1175, 1475, 1544, 1913, 2448\n",
    "\n",
    "  * Construct a 2D grid of distances among each city along Route 66\n",
    "  * Convert that in km (those savages...)"
   ]
  },
  {
   "cell_type": "code",
   "execution_count": 16,
   "metadata": {},
   "outputs": [
    {
     "name": "stdout",
     "output_type": "stream",
     "text": [
      "The grid of distances is: \n",
      " [[   0  198  303  736  871 1175 1475 1544 1913 2448]\n",
      " [ 198    0  105  538  673  977 1277 1346 1715 2250]\n",
      " [ 303  105    0  433  568  872 1172 1241 1610 2145]\n",
      " [ 736  538  433    0  135  439  739  808 1177 1712]\n",
      " [ 871  673  568  135    0  304  604  673 1042 1577]\n",
      " [1175  977  872  439  304    0  300  369  738 1273]\n",
      " [1475 1277 1172  739  604  300    0   69  438  973]\n",
      " [1544 1346 1241  808  673  369   69    0  369  904]\n",
      " [1913 1715 1610 1177 1042  738  438  369    0  535]\n",
      " [2448 2250 2145 1712 1577 1273  973  904  535    0]]\n",
      "\n",
      " The grid converted in km is: \n",
      " [[   0.   318.6  487.6 1184.4 1401.7 1890.9 2373.7 2484.8 3078.6 3939.6]\n",
      " [ 318.6    0.   169.   865.8 1083.1 1572.3 2055.1 2166.1 2759.9 3620.9]\n",
      " [ 487.6  169.     0.   696.8  914.1 1403.3 1886.1 1997.1 2591.  3451.9]\n",
      " [1184.4  865.8  696.8    0.   217.3  706.5 1189.3 1300.3 1894.1 2755.1]\n",
      " [1401.7 1083.1  914.1  217.3    0.   489.2  972.  1083.1 1676.9 2537.9]\n",
      " [1890.9 1572.3 1403.3  706.5  489.2    0.   482.8  593.8 1187.7 2048.6]\n",
      " [2373.7 2055.1 1886.1 1189.3  972.   482.8    0.   111.   704.9 1565.8]\n",
      " [2484.8 2166.1 1997.1 1300.3 1083.1  593.8  111.     0.   593.8 1454.8]\n",
      " [3078.6 2759.9 2591.  1894.1 1676.9 1187.7  704.9  593.8    0.   861. ]\n",
      " [3939.6 3620.9 3451.9 2755.1 2537.9 2048.6 1565.8 1454.8  861.     0. ]]\n"
     ]
    }
   ],
   "source": [
    "import numpy as np\n",
    "import matplotlib.pyplot as plt\n",
    "chic=np.array([0,198,303,736,871,1175,1475,1544,1913,2448])\n",
    "p=[]\n",
    "for i in range(0,10):\n",
    "    l=[]\n",
    "    for j in range(0,10):\n",
    "        a=abs(chic[j]-chic[i])\n",
    "        l.append(a)\n",
    "    p.append(l)\n",
    "#p=p.insert(0,cities)\n",
    "grid=np.array(p).reshape(10,10)\n",
    "print(\"The grid of distances is: \\n\",grid)\n",
    "\n",
    "#conversion in km\n",
    "a=grid*1.6093\n",
    "print(\"\\n The grid converted in km is: \\n\",np.around(a, decimals=1))"
   ]
  },
  {
   "cell_type": "markdown",
   "metadata": {},
   "source": [
    "7\\. Prime numbers sieve: compute the prime numbers in the 0-N (N=99 to start with) range with a sieve (mask).\n",
    "  * Constract a shape (100,) boolean array, the mask\n",
    "  * Identify the multiples of each number starting from 2 and set accordingly the corresponding mask element\n",
    "  * Apply the mask to obtain an array of ordered prime numbers\n",
    "  * Check the performances (timeit); how does it scale with N?\n",
    "  * Implement the optimization suggested in the [sieve of Eratosthenes](https://en.wikipedia.org/wiki/Sieve_of_Eratosthenes)"
   ]
  },
  {
   "cell_type": "code",
   "execution_count": 14,
   "metadata": {},
   "outputs": [
    {
     "name": "stdout",
     "output_type": "stream",
     "text": [
      "This program will return the prime numbers between 0 and a given N.\n",
      "Choose N: 1000\n",
      "The prime numbers in 0 - 1000 are: \n",
      " [  2   3   5   7  11  13  17  19  23  29  31  37  41  43  47  53  59  61\n",
      "  67  71  73  79  83  89  97 101 103 107 109 113 127 131 137 139 149 151\n",
      " 157 163 167 173 179 181 191 193 197 199 211 223 227 229 233 239 241 251\n",
      " 257 263 269 271 277 281 283 293 307 311 313 317 331 337 347 349 353 359\n",
      " 367 373 379 383 389 397 401 409 419 421 431 433 439 443 449 457 461 463\n",
      " 467 479 487 491 499 503 509 521 523 541 547 557 563 569 571 577 587 593\n",
      " 599 601 607 613 617 619 631 641 643 647 653 659 661 673 677 683 691 701\n",
      " 709 719 727 733 739 743 751 757 761 769 773 787 797 809 811 821 823 827\n",
      " 829 839 853 857 859 863 877 881 883 887 907 911 919 929 937 941 947 953\n",
      " 967 971 977 983 991 997]\n",
      "There are 168 prime numbers.\n",
      "0.0010392000000365442\n",
      "A statistical analysis of the computational time t(N) returns that the performance for bigger numbers scales as N^2 modulated by a~10^(-10) as a coefficient.\n"
     ]
    },
    {
     "data": {
      "text/plain": [
       "[<matplotlib.lines.Line2D at 0x1da5ab73d30>]"
      ]
     },
     "execution_count": 14,
     "metadata": {},
     "output_type": "execute_result"
    },
    {
     "data": {
      "image/png": "[encoded data removed]",
      "text/plain": [
       "<Figure size 432x288 with 1 Axes>"
      ]
     },
     "metadata": {
      "needs_background": "light"
     },
     "output_type": "display_data"
    }
   ],
   "source": [
    "import timeit\n",
    "import numpy as np\n",
    "import matplotlib.pyplot as plt\n",
    "print(\"This program will return the prime numbers between 0 and a given N.\")\n",
    "N=int(input(\"Choose N: \"))\n",
    "en=np.arange(2,N+1,1)\n",
    "for i in en:\n",
    "    mask= np.logical_or(en %i != 0, en ==i)\n",
    "    en= en[mask]\n",
    "print(\"The prime numbers in 0 -\",N,\"are: \\n\", en)\n",
    "print(\"There are\",len(en),\"prime numbers.\")\n",
    "code='''\n",
    "N=100\n",
    "en=np.arange(2,N+1,1)\n",
    "for i in en:\n",
    "    mask= np.logical_or(en %i != 0, en ==i)\n",
    "    en= en[mask]\n",
    "'''\n",
    "mysetup='''import numpy as np'''\n",
    "print(timeit.timeit(stmt=code,setup=mysetup, number=1))\n",
    "\n",
    "\n",
    "def quad(x):\n",
    "    a=8.176*10**(-10)\n",
    "    b=2.409*10**(-5)\n",
    "    c=0.312\n",
    "    return a*(x**2)+b*x+c\n",
    "    \n",
    "print(\"A statistical analysis of the computational time t(N) returns that the performance for bigger numbers scales as N^2 modulated by a~10^(-10) as a coefficient.\")\n",
    "Nu=[0, 1000, 2000, 10000, 100000, 200000, 300000, 400000, 500000, 600000, 700000, 800000, 900000, 1000000]\n",
    "t=[0, 0.0095, 0.21, 0.2267, 10.8, 37.39, 83.73, 146.3, 216.17, 302.74, 409.58, 558.27, 675.04, 845.1132]\n",
    "a=zip(Nu,t)\n",
    "for x,y in a:\n",
    "    plt.plot(x,y, 'ro')\n",
    "plt.xlabel('N')\n",
    "plt.ylabel('t')\n",
    "plt.title('Plot of t(N):')\n",
    "r=np.linspace(0,1000000,1000)\n",
    "plt.plot(r, quad(r))"
   ]
  },
  {
   "cell_type": "code",
   "execution_count": 13,
   "metadata": {},
   "outputs": [
    {
     "name": "stdout",
     "output_type": "stream",
     "text": [
      "Choose a N:1000\n",
      "Using the sieve of Eratosthenes, the primes numbers between 0 and 1000 are:\n",
      " [2, 3, 5, 7, 11, 13, 17, 19, 23, 29, 31, 37, 41, 43, 47, 53, 59, 61, 67, 71, 73, 79, 83, 89, 97, 101, 103, 107, 109, 113, 127, 131, 137, 139, 149, 151, 157, 163, 167, 173, 179, 181, 191, 193, 197, 199, 211, 223, 227, 229, 233, 239, 241, 251, 257, 263, 269, 271, 277, 281, 283, 293, 307, 311, 313, 317, 331, 337, 347, 349, 353, 359, 367, 373, 379, 383, 389, 397, 401, 409, 419, 421, 431, 433, 439, 443, 449, 457, 461, 463, 467, 479, 487, 491, 499, 503, 509, 521, 523, 541, 547, 557, 563, 569, 571, 577, 587, 593, 599, 601, 607, 613, 617, 619, 631, 641, 643, 647, 653, 659, 661, 673, 677, 683, 691, 701, 709, 719, 727, 733, 739, 743, 751, 757, 761, 769, 773, 787, 797, 809, 811, 821, 823, 827, 829, 839, 853, 857, 859, 863, 877, 881, 883, 887, 907, 911, 919, 929, 937, 941, 947, 953, 967, 971, 977, 983, 991, 997]\n",
      "There are 168 numbers.\n"
     ]
    }
   ],
   "source": [
    "#sieve of Eratosthenes\n",
    "\n",
    "N=int(input(\"Choose a N:\"))\n",
    "num = [True for i in range(N+1)]\n",
    "n = 2\n",
    "while (n * n <= N):\n",
    "    if (num[n] == True):\n",
    "        for i in range(n * n, N+1, n):\n",
    "            num[i] = False\n",
    "    n = n+1\n",
    "    \n",
    "l=[]\n",
    "for n in range(2, N+1):\n",
    "    if num[n]:\n",
    "        l.append(n)\n",
    "\n",
    "print(\"Using the sieve of Eratosthenes, the primes numbers between 0 and\",N,\"are:\\n\",l)\n",
    "print(\"There are\",len(l),\"prime numbers.\")\n",
    "\n",
    " "
   ]
  },
  {
   "cell_type": "markdown",
   "metadata": {},
   "source": [
    "**N.B. the following exercises are meant to be solved only if you are familiar with the numpy random library. If not you can skip them (postponed for one of the next exercise sessions)**\n"
   ]
  },
  {
   "cell_type": "markdown",
   "metadata": {},
   "source": [
    "8\\. Diffusion using random walk\n",
    "\n",
    "Consider a simple random walk process: at each step in time, a walker jumps right or left (+1 or -1) with equal probability. The goal is to find the typical distance from the origin of a random walker after a given amount of time. \n",
    "To do that, let's simulate many walkers and create a 2D array with each walker as a raw and the actual time evolution as columns\n",
    "\n",
    "  * Take 1000 walkers and let them walk for 200 steps\n",
    "  * Use randint to create a 2D array of size walkers x steps with values -1 or 1\n",
    "  * Build the actual walking distances for each walker (i.e. another 2D array \"summing on each raw\")\n",
    "  * Take the square of that 2D array (elementwise)\n",
    "  * Compute the mean of the squared distances at each step (i.e. the mean along the columns)\n",
    "  * Plot the average distances (sqrt(distance\\*\\*2)) as a function of time (step)\n",
    "  \n",
    "Did you get what you expected?"
   ]
  },
  {
   "cell_type": "markdown",
   "metadata": {},
   "source": [
    "9\\. Analyze a data file \n",
    "  * Download the population of hares, lynxes and carrots at the beginning of the last century.\n",
    "    ```python\n",
    "    ! wget https://www.dropbox.com/s/3vigxoqayo389uc/populations.txt\n",
    "    ```\n",
    "\n",
    "  * Check the content by looking within the file\n",
    "  * Load the data (use an appropriate numpy method) into a 2D array\n",
    "  * Create arrays out of the columns, the arrays being (in order): *year*, *hares*, *lynxes*, *carrots* \n",
    "  * Plot the 3 populations over the years\n",
    "  * Compute the main statistical properties of the dataset (mean, std, correlations, etc.)\n",
    "  * Which species has the highest population each year?\n",
    "\n",
    "Do you feel there is some evident correlation here? [Studies](https://www.enr.gov.nt.ca/en/services/lynx/lynx-snowshoe-hare-cycle) tend to believe so."
   ]
  },
  {
   "cell_type": "code",
   "execution_count": null,
   "metadata": {},
   "outputs": [],
   "source": []
  }
 ],
 "metadata": {
  "kernelspec": {
   "display_name": "Python 3",
   "language": "python",
   "name": "python3"
  },
  "language_info": {
   "codemirror_mode": {
    "name": "ipython",
    "version": 3
   },
   "file_extension": ".py",
   "mimetype": "text/x-python",
   "name": "python",
   "nbconvert_exporter": "python",
   "pygments_lexer": "ipython3",
   "version": "3.8.8"
  }
 },
 "nbformat": 4,
 "nbformat_minor": 2
}
