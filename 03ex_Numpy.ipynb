{
 "cells": [
  {
   "cell_type": "markdown",
   "metadata": {},
   "source": [
    "### Numpy basics"
   ]
  },
  {
   "cell_type": "markdown",
   "metadata": {},
   "source": [
    "1\\. Find the row, column and overall means for the following matrix:\n",
    "\n",
    "```python\n",
    "m = np.arange(12).reshape((3,4))\n",
    "```"
   ]
  },
  {
   "cell_type": "code",
   "execution_count": 1,
   "metadata": {},
   "outputs": [
    {
     "name": "stdout",
     "output_type": "stream",
     "text": [
      "[[ 0  1  2  3]\n",
      " [ 4  5  6  7]\n",
      " [ 8  9 10 11]]\n",
      "The mean of the row 0 is 1.5\n",
      "The mean of the row 1 is 5.5\n",
      "The mean of the row 2 is 9.5\n",
      "The mean of the column 0 is 4.0\n",
      "The mean of the column 1 is 5.0\n",
      "The mean of the column 2 is 6.0\n",
      "The mean of the column 3 is 7.0\n",
      "The overall mean is 5.5\n"
     ]
    }
   ],
   "source": [
    "import numpy as np\n",
    "\n",
    "m = np.arange(12).reshape((3,4))\n",
    "print(m)\n",
    "row = [0,0,0]\n",
    "column = [0,0,0,0]\n",
    "overall = 0\n",
    "\n",
    "for i in range(3):\n",
    "    for j in range(4):\n",
    "        row[i] += m[i,j]\n",
    "    row[i] /= 4\n",
    "    print('The mean of the row', i, 'is', row[i])\n",
    "\n",
    "for i in range(4):\n",
    "    for j in range(3):\n",
    "        column[i] += m[j,i]\n",
    "    column[i] /= 3\n",
    "    print('The mean of the column', i, 'is', column[i])\n",
    "\n",
    "for i in range(3):\n",
    "    for j in range(4):\n",
    "        overall += m[i,j]\n",
    "print('The overall mean is', overall/12)\n"
   ]
  },
  {
   "cell_type": "markdown",
   "metadata": {},
   "source": [
    "2\\. Find the outer product of the following two vecotrs\n",
    "\n",
    "```python\n",
    "u = np.array([1,3,5,7])\n",
    "v = np.array([2,4,6,8])\n",
    "```\n",
    "\n",
    "Do this in the following ways:\n",
    "\n",
    "   * Using the function outer in numpy\n",
    "   * Using a nested for loop or list comprehension\n",
    "   * Using numpy broadcasting operatoins\n"
   ]
  },
  {
   "cell_type": "code",
   "execution_count": 24,
   "metadata": {},
   "outputs": [
    {
     "name": "stdout",
     "output_type": "stream",
     "text": [
      "np.outer product:\n",
      " [[ 2  4  6  8]\n",
      " [ 6 12 18 24]\n",
      " [10 20 30 40]\n",
      " [14 28 42 56]]\n",
      "\n",
      "\n",
      "list comprehension:\n",
      " [[ 2  4  6  8]\n",
      " [ 6 12 18 24]\n",
      " [10 20 30 40]\n",
      " [14 28 42 56]]\n",
      "\n",
      "\n",
      "Broadcasting operation:\n",
      " [[ 2  4  6  8]\n",
      " [ 6 12 18 24]\n",
      " [10 20 30 40]\n",
      " [14 28 42 56]]\n"
     ]
    }
   ],
   "source": [
    "u = np.array([1,3,5,7])\n",
    "v = np.array([2,4,6,8])\n",
    "\n",
    "#outer product\n",
    "print('np.outer product:\\n', np.outer(u,v))\n",
    "print('\\n')\n",
    "\n",
    "#list comprehension\n",
    "w = np.array([i*j for i in u for j in v]).reshape(4,4)\n",
    "print('list comprehension:\\n', w)\n",
    "print('\\n')\n",
    "\n",
    "#broadcasting op\n",
    "print('Broadcasting operation:\\n', u[:, np.newaxis]*v)"
   ]
  },
  {
   "cell_type": "markdown",
   "metadata": {},
   "source": [
    "3\\. Create a 10 by 6 matrix of random uniform numbers. Set all rows with any entry less than 0.1 to be zero\n",
    "\n",
    "Hint: Use the following numpy functions - np.random.random, np.any as well as Boolean indexing and the axis argument."
   ]
  },
  {
   "cell_type": "code",
   "execution_count": 35,
   "metadata": {},
   "outputs": [
    {
     "name": "stdout",
     "output_type": "stream",
     "text": [
      "original matrix:\n",
      " [[0.13429366 0.59343984 0.13611106 0.29408415 0.29804237 0.27222223]\n",
      " [0.85438123 0.57334998 0.51515218 0.66954405 0.42862054 0.27483811]\n",
      " [0.33543789 0.17934607 0.20543166 0.56462057 0.05620759 0.39403011]\n",
      " [0.03970359 0.50317302 0.10393302 0.57847497 0.99515657 0.56414215]\n",
      " [0.88492489 0.85331676 0.11451971 0.18472505 0.67386716 0.66599428]\n",
      " [0.20618855 0.84768553 0.0336923  0.65484549 0.81759175 0.99259871]\n",
      " [0.89609155 0.32462759 0.20339696 0.68864543 0.49445993 0.18343661]\n",
      " [0.07986918 0.18633901 0.79179793 0.34408805 0.36672357 0.64089014]\n",
      " [0.49822427 0.47609075 0.71297471 0.62276648 0.55683328 0.61621985]\n",
      " [0.8817419  0.71761858 0.15150238 0.38375469 0.46652929 0.92583447]]\n",
      "\n",
      "modified matrix:\n",
      " [[0.13429366 0.59343984 0.13611106 0.29408415 0.29804237 0.27222223]\n",
      " [0.85438123 0.57334998 0.51515218 0.66954405 0.42862054 0.27483811]\n",
      " [0.33543789 0.17934607 0.20543166 0.56462057 0.         0.39403011]\n",
      " [0.         0.50317302 0.10393302 0.57847497 0.99515657 0.56414215]\n",
      " [0.88492489 0.85331676 0.11451971 0.18472505 0.67386716 0.66599428]\n",
      " [0.20618855 0.84768553 0.         0.65484549 0.81759175 0.99259871]\n",
      " [0.89609155 0.32462759 0.20339696 0.68864543 0.49445993 0.18343661]\n",
      " [0.         0.18633901 0.79179793 0.34408805 0.36672357 0.64089014]\n",
      " [0.49822427 0.47609075 0.71297471 0.62276648 0.55683328 0.61621985]\n",
      " [0.8817419  0.71761858 0.15150238 0.38375469 0.46652929 0.92583447]]\n"
     ]
    }
   ],
   "source": [
    "a = np.random.rand(10,6)\n",
    "print('original matrix:\\n', a)\n",
    "a[a < 0.1] = 0\n",
    "print('\\nmodified matrix:\\n', a)"
   ]
  },
  {
   "cell_type": "markdown",
   "metadata": {},
   "source": [
    "4\\. Use np.linspace to create an array of 100 numbers between 0 and 2π (includsive).\n",
    "\n",
    "  * Extract every 10th element using slice notation\n",
    "  * Reverse the array using slice notation\n",
    "  * Extract elements where the absolute difference between the sine and cosine functions evaluated at that element is less than 0.1\n",
    "  * Make a plot showing the sin and cos functions and indicate where they are close"
   ]
  },
  {
   "cell_type": "code",
   "execution_count": 40,
   "metadata": {},
   "outputs": [
    {
     "name": "stdout",
     "output_type": "stream",
     "text": [
      "[0.         0.06346652 0.12693304 0.19039955 0.25386607 0.31733259\n",
      " 0.38079911 0.44426563 0.50773215 0.57119866 0.63466518 0.6981317\n",
      " 0.76159822 0.82506474 0.88853126 0.95199777 1.01546429 1.07893081\n",
      " 1.14239733 1.20586385 1.26933037 1.33279688 1.3962634  1.45972992\n",
      " 1.52319644 1.58666296 1.65012947 1.71359599 1.77706251 1.84052903\n",
      " 1.90399555 1.96746207 2.03092858 2.0943951  2.15786162 2.22132814\n",
      " 2.28479466 2.34826118 2.41172769 2.47519421 2.53866073 2.60212725\n",
      " 2.66559377 2.72906028 2.7925268  2.85599332 2.91945984 2.98292636\n",
      " 3.04639288 3.10985939 3.17332591 3.23679243 3.30025895 3.36372547\n",
      " 3.42719199 3.4906585  3.55412502 3.61759154 3.68105806 3.74452458\n",
      " 3.8079911  3.87145761 3.93492413 3.99839065 4.06185717 4.12532369\n",
      " 4.1887902  4.25225672 4.31572324 4.37918976 4.44265628 4.5061228\n",
      " 4.56958931 4.63305583 4.69652235 4.75998887 4.82345539 4.88692191\n",
      " 4.95038842 5.01385494 5.07732146 5.14078798 5.2042545  5.26772102\n",
      " 5.33118753 5.39465405 5.45812057 5.52158709 5.58505361 5.64852012\n",
      " 5.71198664 5.77545316 5.83891968 5.9023862  5.96585272 6.02931923\n",
      " 6.09278575 6.15625227 6.21971879 6.28318531]\n",
      "\n",
      " [0.         0.63466518 1.26933037 1.90399555 2.53866073 3.17332591\n",
      " 3.8079911  4.44265628 5.07732146 5.71198664]\n",
      "\n",
      " [6.28318531 6.21971879 6.15625227 6.09278575 6.02931923 5.96585272\n",
      " 5.9023862  5.83891968 5.77545316 5.71198664 5.64852012 5.58505361\n",
      " 5.52158709 5.45812057 5.39465405 5.33118753 5.26772102 5.2042545\n",
      " 5.14078798 5.07732146 5.01385494 4.95038842 4.88692191 4.82345539\n",
      " 4.75998887 4.69652235 4.63305583 4.56958931 4.5061228  4.44265628\n",
      " 4.37918976 4.31572324 4.25225672 4.1887902  4.12532369 4.06185717\n",
      " 3.99839065 3.93492413 3.87145761 3.8079911  3.74452458 3.68105806\n",
      " 3.61759154 3.55412502 3.4906585  3.42719199 3.36372547 3.30025895\n",
      " 3.23679243 3.17332591 3.10985939 3.04639288 2.98292636 2.91945984\n",
      " 2.85599332 2.7925268  2.72906028 2.66559377 2.60212725 2.53866073\n",
      " 2.47519421 2.41172769 2.34826118 2.28479466 2.22132814 2.15786162\n",
      " 2.0943951  2.03092858 1.96746207 1.90399555 1.84052903 1.77706251\n",
      " 1.71359599 1.65012947 1.58666296 1.52319644 1.45972992 1.3962634\n",
      " 1.33279688 1.26933037 1.20586385 1.14239733 1.07893081 1.01546429\n",
      " 0.95199777 0.88853126 0.82506474 0.76159822 0.6981317  0.63466518\n",
      " 0.57119866 0.50773215 0.44426563 0.38079911 0.31733259 0.25386607\n",
      " 0.19039955 0.12693304 0.06346652 0.        ]\n",
      "\n",
      " [0.76159822 0.82506474 3.87145761 3.93492413]\n"
     ]
    },
    {
     "data": {
      "text/plain": [
       "<function matplotlib.pyplot.show(close=None, block=None)>"
      ]
     },
     "execution_count": 40,
     "metadata": {},
     "output_type": "execute_result"
    },
    {
     "data": {
      "image/png": "[encoded data removed]",
      "text/plain": [
       "<Figure size 432x288 with 1 Axes>"
      ]
     },
     "metadata": {
      "needs_background": "light"
     },
     "output_type": "display_data"
    }
   ],
   "source": [
    "import matplotlib.pyplot as plt\n",
    "\n",
    "a = np.linspace(0,2*np.pi,100)\n",
    "print(a)\n",
    "\n",
    "tenth = np.array(a[::10])\n",
    "print('\\n', tenth)\n",
    "\n",
    "reverse = np.array(a[::-1])\n",
    "print('\\n', reverse)\n",
    "\n",
    "j = np.array([val for val in a if abs(np.sin(val) - np.cos(val)) < 0.1])\n",
    "print('\\n', j)\n",
    "\n",
    "sin = np.array([np.sin(val) for val in a])\n",
    "cos = np.array([np.cos(val) for val in a])\n",
    "f = np.array([np.sin(val) for val in j])\n",
    "g = np.array([np.cos(val) for val in j])\n",
    "\n",
    "plt.plot(a, cos, a, sin, j, f, 'ro', j, g, 'ro')\n",
    "plt.show\n",
    "\n",
    "\n"
   ]
  },
  {
   "cell_type": "markdown",
   "metadata": {},
   "source": [
    "5\\. Create a matrix that shows the 10 by 10 multiplication table.\n",
    "\n",
    " * Find the trace of the matrix\n",
    " * Extract the anto-diagonal (this should be ```array([10, 18, 24, 28, 30, 30, 28, 24, 18, 10])```)\n",
    " * Extract the diagnoal offset by 1 upwards (this should be ```array([ 2,  6, 12, 20, 30, 42, 56, 72, 90])```)"
   ]
  },
  {
   "cell_type": "code",
   "execution_count": 48,
   "metadata": {},
   "outputs": [
    {
     "name": "stdout",
     "output_type": "stream",
     "text": [
      "[[  1   2   3   4   5   6   7   8   9  10]\n",
      " [  2   4   6   8  10  12  14  16  18  20]\n",
      " [  3   6   9  12  15  18  21  24  27  30]\n",
      " [  4   8  12  16  20  24  28  32  36  40]\n",
      " [  5  10  15  20  25  30  35  40  45  50]\n",
      " [  6  12  18  24  30  36  42  48  54  60]\n",
      " [  7  14  21  28  35  42  49  56  63  70]\n",
      " [  8  16  24  32  40  48  56  64  72  80]\n",
      " [  9  18  27  36  45  54  63  72  81  90]\n",
      " [ 10  20  30  40  50  60  70  80  90 100]]\n",
      "\n",
      "The trace is: 385\n",
      "\n",
      "The anti-trace is: 385\n",
      "\n",
      "the offset diagonal is: [ 2  6 12 20 30 42 56 72 90]\n"
     ]
    }
   ],
   "source": [
    "a = np.arange(1,11)\n",
    "b = a*a[:,np.newaxis]\n",
    "print(b)\n",
    "\n",
    "trace = 0\n",
    "l = np.arange(10)\n",
    "for i in l:\n",
    "    trace += b[i,i]\n",
    "print('\\nThe trace is:', trace)\n",
    "\n",
    "anti_trace = 0\n",
    "for i in l:\n",
    "    anti_trace += b[9-i,9-i]\n",
    "print('\\nThe anti-trace is:', anti_trace)\n",
    "\n",
    "up_diag = np.array([b[i,j] for i in range(10) for j in range(10) if j == i+1])\n",
    "print('\\nthe offset diagonal is:', up_diag)\n",
    "\n"
   ]
  },
  {
   "cell_type": "markdown",
   "metadata": {},
   "source": [
    "6\\. Use broadcasting to create a grid of distances\n",
    "\n",
    "Route 66 crosses the following cities in the US: Chicago, Springfield, Saint-Louis, Tulsa, Oklahoma City, Amarillo, Santa Fe, Albuquerque, Flagstaff, Los Angeles\n",
    "The corresponding positions in miles are: 0, 198, 303, 736, 871, 1175, 1475, 1544, 1913, 2448\n",
    "\n",
    "  * Construct a 2D grid of distances among each city along Route 66\n",
    "  * Convert that in km (those savages...)"
   ]
  },
  {
   "cell_type": "code",
   "execution_count": 49,
   "metadata": {},
   "outputs": [
    {
     "name": "stdout",
     "output_type": "stream",
     "text": [
      "Distance (miles): \n",
      " [[   0  198  303  736  871 1175 1475 1544 1913 2448]\n",
      " [ 198    0  105  538  673  977 1277 1346 1715 2250]\n",
      " [ 303  105    0  433  568  872 1172 1241 1610 2145]\n",
      " [ 736  538  433    0  135  439  739  808 1177 1712]\n",
      " [ 871  673  568  135    0  304  604  673 1042 1577]\n",
      " [1175  977  872  439  304    0  300  369  738 1273]\n",
      " [1475 1277 1172  739  604  300    0   69  438  973]\n",
      " [1544 1346 1241  808  673  369   69    0  369  904]\n",
      " [1913 1715 1610 1177 1042  738  438  369    0  535]\n",
      " [2448 2250 2145 1712 1577 1273  973  904  535    0]]\n",
      "\n",
      "Distance (km):\n",
      " [[   0.    318.78  487.83 1184.96 1402.31 1891.75 2374.75 2485.84 3079.93\n",
      "  3941.28]\n",
      " [ 318.78    0.    169.05  866.18 1083.53 1572.97 2055.97 2167.06 2761.15\n",
      "  3622.5 ]\n",
      " [ 487.83  169.05    0.    697.13  914.48 1403.92 1886.92 1998.01 2592.1\n",
      "  3453.45]\n",
      " [1184.96  866.18  697.13    0.    217.35  706.79 1189.79 1300.88 1894.97\n",
      "  2756.32]\n",
      " [1402.31 1083.53  914.48  217.35    0.    489.44  972.44 1083.53 1677.62\n",
      "  2538.97]\n",
      " [1891.75 1572.97 1403.92  706.79  489.44    0.    483.    594.09 1188.18\n",
      "  2049.53]\n",
      " [2374.75 2055.97 1886.92 1189.79  972.44  483.      0.    111.09  705.18\n",
      "  1566.53]\n",
      " [2485.84 2167.06 1998.01 1300.88 1083.53  594.09  111.09    0.    594.09\n",
      "  1455.44]\n",
      " [3079.93 2761.15 2592.1  1894.97 1677.62 1188.18  705.18  594.09    0.\n",
      "   861.35]\n",
      " [3941.28 3622.5  3453.45 2756.32 2538.97 2049.53 1566.53 1455.44  861.35\n",
      "     0.  ]]\n"
     ]
    }
   ],
   "source": [
    "city = np.array(['Chicago','Springflied', 'Saint-Louis', 'Tulsa', 'Oklahoma City', 'Amarillo', 'Santa Fe', 'Albuquerque', 'Flagstaff', 'Los Angeles' ])\n",
    "distance = np.array([0, 198, 303, 736, 871, 1175, 1475, 1544, 1913, 2448])\n",
    "relative_dist = abs(distance[:,np.newaxis] - distance)\n",
    "print('Distance (miles): \\n', relative_dist)\n",
    "print('\\nDistance (km):\\n', relative_dist*1.61)"
   ]
  },
  {
   "cell_type": "markdown",
   "metadata": {},
   "source": [
    "7\\. Prime numbers sieve: compute the prime numbers in the 0-N (N=99 to start with) range with a sieve (mask).\n",
    "  * Constract a shape (100,) boolean array, the mask\n",
    "  * Identify the multiples of each number starting from 2 and set accordingly the corresponding mask element\n",
    "  * Apply the mask to obtain an array of ordered prime numbers\n",
    "  * Check the performances (timeit); how does it scale with N?\n",
    "  * Implement the optimization suggested in the [sieve of Eratosthenes](https://en.wikipedia.org/wiki/Sieve_of_Eratosthenes)"
   ]
  },
  {
   "cell_type": "code",
   "execution_count": 54,
   "metadata": {},
   "outputs": [
    {
     "name": "stdout",
     "output_type": "stream",
     "text": [
      "Method one\n",
      "\n",
      "[ 2  3  5  7 11 13 17 19 23 29 31 37 41 43 47 53 59 61 67 71 73 79 83 89\n",
      " 97]\n",
      "Time passed: 0.0\n",
      "\n",
      "\n",
      "[  2   3   5   7  11  13  17  19  23  29  31  37  41  43  47  53  59  61\n",
      "  67  71  73  79  83  89  97 101 103 107 109 113 127 131 137 139 149 151\n",
      " 157 163 167 173 179 181 191 193 197 199 211 223 227 229 233 239 241 251\n",
      " 257 263 269 271 277 281 283 293 307 311 313 317 331 337 347 349 353 359\n",
      " 367 373 379 383 389 397 401 409 419 421 431 433 439 443 449 457 461 463\n",
      " 467 479 487 491 499 503 509 521 523 541 547 557 563 569 571 577 587 593\n",
      " 599 601 607 613 617 619 631 641 643 647 653 659 661 673 677 683 691 701\n",
      " 709 719 727 733 739 743 751 757 761 769 773 787 797 809 811 821 823 827\n",
      " 829 839 853 857 859 863 877 881 883 887 907 911 919 929 937 941 947 953\n",
      " 967 971 977 983 991 997]\n",
      "Time passed: 0.0\n",
      "\n",
      "\n",
      "[   2    3    5 ... 9949 9967 9973]\n",
      "Time passed: 0.005003213882446289\n",
      "\n",
      "\n",
      "[    2     3     5 ... 99971 99989 99991]\n",
      "Time passed: 0.06401681900024414\n",
      "\n",
      "\n",
      "Erathostene\n",
      "\n",
      "[ 2  3  5  7 11 13 17 19 23 29 31 37 41 43 47 53 59 61 67 71 73 79 83 89\n",
      " 97]\n",
      "Time passed: 0.0\n",
      "\n",
      "\n",
      "[  2   3   5   7  11  13  17  19  23  29  31  37  41  43  47  53  59  61\n",
      "  67  71  73  79  83  89  97 101 103 107 109 113 127 131 137 139 149 151\n",
      " 157 163 167 173 179 181 191 193 197 199 211 223 227 229 233 239 241 251\n",
      " 257 263 269 271 277 281 283 293 307 311 313 317 331 337 347 349 353 359\n",
      " 367 373 379 383 389 397 401 409 419 421 431 433 439 443 449 457 461 463\n",
      " 467 479 487 491 499 503 509 521 523 541 547 557 563 569 571 577 587 593\n",
      " 599 601 607 613 617 619 631 641 643 647 653 659 661 673 677 683 691 701\n",
      " 709 719 727 733 739 743 751 757 761 769 773 787 797 809 811 821 823 827\n",
      " 829 839 853 857 859 863 877 881 883 887 907 911 919 929 937 941 947 953\n",
      " 961 967 971 977 983 991 997]\n",
      "Time passed: 0.0009992122650146484\n",
      "\n",
      "\n",
      "[   2    3    5 ... 9949 9967 9973]\n",
      "Time passed: 0.0060062408447265625\n",
      "\n",
      "\n",
      "[    2     3     5 ... 99971 99989 99991]\n",
      "Time passed: 0.06401801109313965\n",
      "\n",
      "\n"
     ]
    }
   ],
   "source": [
    "import time\n",
    "\n",
    "#method one\n",
    "print('Method one\\n')\n",
    "for n in [10**k for k in range(2,6)]:\n",
    "    mask = np.full(n, True )\n",
    "    mask[0], mask[1] = False, False\n",
    "    t0 = time.time()\n",
    "\n",
    "    for i in range(2,int(n/2)):\n",
    "        mask[i*2::i] = False\n",
    "    \n",
    "    t1 = time.time()\n",
    "    num = np.arange(n)\n",
    "    print(num[mask])\n",
    "    print('Time passed:', t1 - t0)\n",
    "    print('\\n')\n",
    "\n",
    "#Erathostene\n",
    "print('Erathostene\\n')\n",
    "for n in [10**k for k in range(2,6)]:\n",
    "    mask = np.full(n, True )\n",
    "    mask[0], mask[1] = False, False\n",
    "    t0 = time.time()\n",
    "\n",
    "    for i in range(2,int(n**(1/2))):\n",
    "        if mask[i] == True:\n",
    "            for j in range(i**2, n, i):\n",
    "                mask[j] = False\n",
    "\n",
    "    \n",
    "    t1 = time.time()\n",
    "    num = np.arange(n)\n",
    "    print(num[mask])\n",
    "    print('Time passed:', t1 - t0)\n",
    "    print('\\n')\n"
   ]
  },
  {
   "cell_type": "markdown",
   "metadata": {},
   "source": [
    "**N.B. the following exercises are meant to be solved only if you are familiar with the numpy random library. If not you can skip them (postponed for one of the next exercise sessions)**\n"
   ]
  },
  {
   "cell_type": "markdown",
   "metadata": {},
   "source": [
    "8\\. Diffusion using random walk\n",
    "\n",
    "Consider a simple random walk process: at each step in time, a walker jumps right or left (+1 or -1) with equal probability. The goal is to find the typical distance from the origin of a random walker after a given amount of time. \n",
    "To do that, let's simulate many walkers and create a 2D array with each walker as a raw and the actual time evolution as columns\n",
    "\n",
    "  * Take 1000 walkers and let them walk for 200 steps\n",
    "  * Use randint to create a 2D array of size walkers x steps with values -1 or 1\n",
    "  * Build the actual walking distances for each walker (i.e. another 2D array \"summing on each raw\")\n",
    "  * Take the square of that 2D array (elementwise)\n",
    "  * Compute the mean of the squared distances at each step (i.e. the mean along the columns)\n",
    "  * Plot the average distances (sqrt(distance\\*\\*2)) as a function of time (step)\n",
    "  \n",
    "Did you get what you expected?"
   ]
  },
  {
   "cell_type": "code",
   "execution_count": 44,
   "metadata": {},
   "outputs": [
    {
     "name": "stdout",
     "output_type": "stream",
     "text": [
      "[[ 1  1 -1 ...  1  1 -1]\n",
      " [-1 -1 -1 ... -1  1  1]\n",
      " [-1 -1  1 ... -1 -1 -1]\n",
      " ...\n",
      " [ 1 -1 -1 ...  1  1 -1]\n",
      " [ 1  1 -1 ...  1 -1 -1]\n",
      " [-1  1 -1 ... -1 -1  1]]\n",
      "[[  1   2   1 ...   2   3   2]\n",
      " [ -1  -2  -3 ...  -8  -7  -6]\n",
      " [ -1  -2  -1 ... -18 -19 -20]\n",
      " ...\n",
      " [  1   0  -1 ...  -6  -5  -6]\n",
      " [  1   2   1 ...  28  27  26]\n",
      " [ -1   0  -1 ...  22  21  22]]\n",
      "[[  1   4   1 ...   4   9   4]\n",
      " [  1   4   9 ...  64  49  36]\n",
      " [  1   4   1 ... 324 361 400]\n",
      " ...\n",
      " [  1   0   1 ...  36  25  36]\n",
      " [  1   4   1 ... 784 729 676]\n",
      " [  1   0   1 ... 484 441 484]]\n",
      "[  1.      2.02    3.048   4.004   5.072   6.124   7.416   8.204   9.232\n",
      "  10.296  11.36   12.284  13.2    14.18   15.344  16.208  17.56   18.688\n",
      "  20.064  21.216  22.48   23.264  24.592  25.744  27.208  28.144  29.36\n",
      "  30.124  30.376  31.26   31.936  32.664  34.44   35.004  36.2    36.904\n",
      "  37.968  38.52   40.408  41.232  42.264  43.352  44.16   44.888  46.424\n",
      "  47.716  48.888  49.532  51.416  52.812  54.064  55.42   55.848  56.824\n",
      "  58.112  60.14   62.024  63.444  63.816  64.844  66.048  67.064  68.224\n",
      "  68.768  69.     70.504  71.944  73.276  74.28   75.064  76.208  77.356\n",
      "  78.56   80.184  81.392  82.94   83.928  84.664  85.4    87.324  88.576\n",
      "  90.104  90.096  92.308  92.904  94.236  93.752  93.88   95.232  96.084\n",
      "  96.704  98.892  99.984 100.136 100.536 101.292 103.176 104.78  104.592\n",
      " 105.46  106.712 107.984 109.28  109.92  110.96  111.116 112.848 113.984\n",
      " 114.728 115.436 117.28  118.076 117.984 118.996 120.72  120.712 121.072\n",
      " 122.596 122.512 124.348 125.776 125.764 126.632 126.984 127.696 130.14\n",
      " 130.624 132.304 132.128 131.708 133.032 133.98  134.752 136.42  137.128\n",
      " 138.1   139.4   141.224 142.936 144.588 146.088 147.312 146.84  148.552\n",
      " 150.144 150.38  152.568 154.136 156.008 155.992 156.192 157.604 158.128\n",
      " 158.716 159.832 160.94  162.152 162.332 163.688 165.944 167.664 168.54\n",
      " 170.368 171.748 171.36  173.076 175.04  175.84  177.328 178.188 180.144\n",
      " 182.592 183.304 184.872 186.    186.54  185.792 187.3   187.624 189.084\n",
      " 189.752 190.868 190.432 190.572 190.656 190.956 192.56  194.208 195.944\n",
      " 197.2   199.104 200.936 200.696 201.836 202.44  203.896 204.84  205.576\n",
      " 206.112 205.672]\n"
     ]
    },
    {
     "data": {
      "text/plain": [
       "[<matplotlib.lines.Line2D at 0x25d6c494850>]"
      ]
     },
     "execution_count": 44,
     "metadata": {},
     "output_type": "execute_result"
    },
    {
     "data": {
      "image/png": "[encoded data removed]",
      "text/plain": [
       "<Figure size 432x288 with 1 Axes>"
      ]
     },
     "metadata": {
      "needs_background": "light"
     },
     "output_type": "display_data"
    }
   ],
   "source": [
    "#Exercise 8\n",
    "\n",
    "import numpy as np\n",
    "import matplotlib.pyplot as plt\n",
    "\n",
    "W, s = 1000, 200\n",
    "np.random.seed(1)\n",
    "\n",
    "jump = np.random.randint(-1,1,size=(W,s))\n",
    "jump[jump == 0] = 1\n",
    "print(jump)\n",
    "walk = np.array([np.cumsum(jump[i]) for i in range(1000)])\n",
    "print(walk)\n",
    "walk_sqr = walk**2\n",
    "print(walk_sqr)\n",
    "mean = np.mean(walk_sqr, axis=0)\n",
    "print(mean)\n",
    "\n",
    "plt.plot(np.arange(200),mean**(1/2))\n",
    "\n",
    "\n"
   ]
  },
  {
   "cell_type": "markdown",
   "metadata": {},
   "source": [
    "9\\. Analyze a data file \n",
    "  * Download the population of hares, lynxes and carrots at the beginning of the last century.\n",
    "    ```python\n",
    "    ! wget https://www.dropbox.com/s/3vigxoqayo389uc/populations.txt\n",
    "    ```\n",
    "\n",
    "  * Check the content by looking within the file\n",
    "  * Load the data (use an appropriate numpy method) into a 2D array\n",
    "  * Create arrays out of the columns, the arrays being (in order): *year*, *hares*, *lynxes*, *carrots* \n",
    "  * Plot the 3 populations over the years\n",
    "  * Compute the main statistical properties of the dataset (mean, std, correlations, etc.)\n",
    "  * Which species has the highest population each year?\n",
    "\n",
    "Do you feel there is some evident correlation here? [Studies](https://www.enr.gov.nt.ca/en/services/lynx/lynx-snowshoe-hare-cycle) tend to believe so."
   ]
  },
  {
   "cell_type": "code",
   "execution_count": 93,
   "metadata": {},
   "outputs": [
    {
     "name": "stdout",
     "output_type": "stream",
     "text": [
      "The mean for the 1 column is: 34080.95238095238\n",
      "The standard deviation for the 1 column is: 20897.906458089667\n",
      "The correlation for the 1 column is: 1.0\n",
      "The mean for the 2 column is: 20166.666666666668\n",
      "The standard deviation for the 2 column is: 16254.591536908763\n",
      "The correlation for the 2 column is: 1.0\n",
      "The mean for the 3 column is: 42400.0\n",
      "The standard deviation for the 3 column is: 3322.5062255844787\n",
      "The correlation for the 3 column is: 1.0\n",
      "1900.0 carrots\n",
      "1901.0 carrots\n",
      "1902.0 hares\n",
      "1903.0 hares\n",
      "1904.0 lynxes\n",
      "1905.0 lynxes\n",
      "1906.0 carrots\n",
      "1907.0 carrots\n",
      "1908.0 carrots\n",
      "1909.0 carrots\n",
      "1910.0 carrots\n",
      "1911.0 carrots\n",
      "1912.0 hares\n",
      "1913.0 hares\n",
      "1914.0 hares\n",
      "1915.0 lynxes\n",
      "1916.0 carrots\n",
      "1917.0 carrots\n",
      "1918.0 carrots\n",
      "1919.0 carrots\n",
      "1920.0 carrots\n"
     ]
    },
    {
     "data": {
      "image/png": "[encoded data removed]",
      "text/plain": [
       "<Figure size 432x288 with 1 Axes>"
      ]
     },
     "metadata": {
      "needs_background": "light"
     },
     "output_type": "display_data"
    }
   ],
   "source": [
    "#Exercise 9\n",
    "\n",
    "import numpy as np\n",
    "import matplotlib.pyplot as plt\n",
    "\n",
    "data = np.loadtxt('populations.txt')\n",
    "year = []\n",
    "hares = []\n",
    "lynxes = []\n",
    "carrots = []\n",
    "for row in range(len(data)):\n",
    "    year.append(data[row,0])\n",
    "    hares.append(data[row,1])\n",
    "    lynxes.append(data[row,2])\n",
    "    carrots.append(data[row,3])\n",
    "\n",
    "plt.plot(year,hares)\n",
    "plt.plot(year,lynxes)\n",
    "plt.plot(year,carrots);\n",
    "\n",
    "for i in range(1,4):  \n",
    "    print('The mean for the', i, 'column is:', np.mean(data[:,i]))\n",
    "    print('The standard deviation for the', i, 'column is:', np.std(data[:,i]))\n",
    "    print('The correlation for the', i, 'column is:', np.corrcoef(data[:,i]))\n",
    "\n",
    "for i in range(len(data)):\n",
    "    if np.argmax(data[i]) == 1:\n",
    "        print(data[i,0], 'hares')\n",
    "    elif np.argmax(data[i]) == 2:\n",
    "        print(data[i,0], 'lynxes')\n",
    "    elif np.argmax(data[i]) == 3:\n",
    "        print(data[i,0], 'carrots')\n",
    "\n"
   ]
  },
  {
   "cell_type": "code",
   "execution_count": null,
   "metadata": {},
   "outputs": [],
   "source": []
  }
 ],
 "metadata": {
  "kernelspec": {
   "display_name": "Python 3",
   "language": "python",
   "name": "python3"
  },
  "language_info": {
   "codemirror_mode": {
    "name": "ipython",
    "version": 3
   },
   "file_extension": ".py",
   "mimetype": "text/x-python",
   "name": "python",
   "nbconvert_exporter": "python",
   "pygments_lexer": "ipython3",
   "version": "3.8.8"
  }
 },
 "nbformat": 4,
 "nbformat_minor": 2
}
