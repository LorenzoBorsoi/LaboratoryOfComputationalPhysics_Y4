{
 "cells": [
  {
   "cell_type": "markdown",
   "metadata": {},
   "source": [
    "### Numpy basics"
   ]
  },
  {
   "cell_type": "code",
   "execution_count": null,
   "metadata": {},
   "outputs": [],
   "source": [
    "import numpy as np # import naming convention"
   ]
  },
  {
   "cell_type": "markdown",
   "metadata": {},
   "source": [
    "1\\. Find the row, column and overall means for the following matrix:\n",
    "\n",
    "```python\n",
    "m = np.arange(12).reshape((3,4))\n",
    "```"
   ]
  },
  {
   "cell_type": "code",
   "execution_count": 179,
   "metadata": {},
   "outputs": [
    {
     "name": "stdout",
     "output_type": "stream",
     "text": [
      "[[ 0  1  2  3]\n",
      " [ 4  5  6  7]\n",
      " [ 8  9 10 11]]\n",
      "Row  0  :  [0 1 2 3]     Mean : 1.5\n",
      "Row  1  :  [4 5 6 7]     Mean : 5.5\n",
      "Row  2  :  [ 8  9 10 11]     Mean : 9.5\n",
      "Column  0  :  [0 4 8]     Mean : 4.0\n",
      "Column  1  :  [1 5 9]     Mean : 5.0\n",
      "Column  2  :  [ 2  6 10]     Mean : 6.0\n",
      "Column  3  :  [ 3  7 11]     Mean : 7.0\n"
     ]
    }
   ],
   "source": [
    "m = np.arange(12).reshape((3,4))\n",
    "print(m)\n",
    "\n",
    "#for i,j in zip (range(m.shape[0]), range(m.shape[1]) ) :\n",
    "for i in range(m.shape[0]):\n",
    "    print(\"Row \", i, \" : \", m[i,:], \"    Mean :\" ,m[i,:].mean() )\n",
    "\n",
    "for j in range(m.shape[1]) :\n",
    "        print(\"Column \", j , \" : \", m[:,j],\"    Mean :\" , m[:,j].mean())"
   ]
  },
  {
   "cell_type": "markdown",
   "metadata": {},
   "source": [
    "2\\. Find the outer product of the following two vecotrs\n",
    "\n",
    "```python\n",
    "u = np.array([1,3,5,7])\n",
    "v = np.array([2,4,6,8])\n",
    "```\n",
    "\n",
    "Do this in the following ways:\n",
    "\n",
    "   * Using the function outer in numpy\n",
    "   * Using a nested for loop or list comprehension\n",
    "   * Using numpy broadcasting operatoins\n"
   ]
  },
  {
   "cell_type": "code",
   "execution_count": 227,
   "metadata": {},
   "outputs": [
    {
     "name": "stdout",
     "output_type": "stream",
     "text": [
      "[[ 2  4  6  8]\n",
      " [ 6 12 18 24]\n",
      " [10 20 30 40]\n",
      " [14 28 42 56]]\n",
      "[[ 2  4  6  8]\n",
      " [ 6 12 18 24]\n",
      " [10 20 30 40]\n",
      " [14 28 42 56]]\n",
      "[[ 2  4  6  8]\n",
      " [ 6 12 18 24]\n",
      " [10 20 30 40]\n",
      " [14 28 42 56]]\n",
      "[[[ 2  4  6  8]\n",
      "  [ 6 12 18 24]\n",
      "  [10 20 30 40]\n",
      "  [14 28 42 56]]]\n"
     ]
    }
   ],
   "source": [
    "u = np.array([1,3,5,7])\n",
    "v = np.array([2,4,6,8])\n",
    "\n",
    "# Using the function outer in numpy\n",
    "w_1 = np.outer(u,v)\n",
    "print(w_1)\n",
    "\n",
    "# Using a nested for loop or list comprehension\n",
    "w_2 = np.array([(u[i]*v[j]) for i in range  (u.shape[0]) for j in range (v.shape[0])]).reshape(4,4)\n",
    "print(w_2)\n",
    "w_3 = np.array([(u[i]*v) for i in range  (u.shape[0])])\n",
    "print(w_3)\n",
    "\n",
    "# Using numpy broadcasting operations\n",
    "w_4 = np.array([u.reshape(4,1)*v])\n",
    "print(w_4)"
   ]
  },
  {
   "cell_type": "markdown",
   "metadata": {},
   "source": [
    "3\\. Create a 10 by 6 matrix of random uniform numbers. Set all rows with any entry less than 0.1 to be zero\n",
    "\n",
    "Hint: Use the following numpy functions - np.random.random, np.any as well as Boolean indexing and the axis argument."
   ]
  },
  {
   "cell_type": "code",
   "execution_count": 263,
   "metadata": {},
   "outputs": [
    {
     "name": "stdout",
     "output_type": "stream",
     "text": [
      "[[0.90289568 0.83504654 0.2805172  0.94738684 0.49476611 0.71496448]\n",
      " [0.32559815 0.18764457 0.27915055 0.11919295 0.43813401 0.2717756 ]\n",
      " [0.35272445 0.51342678 0.48708525 0.55338673 0.33173152 0.29497715]\n",
      " [0.40781093 0.47576524 0.41348843 0.13329271 0.59796011 0.82536782]\n",
      " [0.47925185 0.31210968 0.3583516  0.58480827 0.73690462 0.99677581]\n",
      " [0.95780056 0.03924757 0.58609793 0.52193661 0.29628439 0.41802201]\n",
      " [0.88385718 0.5193612  0.11161858 0.24894469 0.53653114 0.26689676]\n",
      " [0.22775229 0.11406573 0.11445137 0.08227739 0.2818996  0.68463802]\n",
      " [0.20484749 0.97524085 0.38364031 0.34444226 0.24437187 0.4809169 ]\n",
      " [0.16748979 0.99119605 0.49226433 0.65978379 0.89708933 0.41419559]]\n",
      "Set all rows with any entry less than 0.1 to be zero:\n",
      "[[0.90289568 0.83504654 0.2805172  0.94738684 0.49476611 0.71496448]\n",
      " [0.32559815 0.18764457 0.27915055 0.11919295 0.43813401 0.2717756 ]\n",
      " [0.35272445 0.51342678 0.48708525 0.55338673 0.33173152 0.29497715]\n",
      " [0.40781093 0.47576524 0.41348843 0.13329271 0.59796011 0.82536782]\n",
      " [0.47925185 0.31210968 0.3583516  0.58480827 0.73690462 0.99677581]\n",
      " [0.         0.         0.         0.         0.         0.        ]\n",
      " [0.88385718 0.5193612  0.11161858 0.24894469 0.53653114 0.26689676]\n",
      " [0.         0.         0.         0.         0.         0.        ]\n",
      " [0.20484749 0.97524085 0.38364031 0.34444226 0.24437187 0.4809169 ]\n",
      " [0.16748979 0.99119605 0.49226433 0.65978379 0.89708933 0.41419559]]\n"
     ]
    }
   ],
   "source": [
    "#u=np.random.uniform(0,1,60).reshape(10,6)\n",
    "u=np.random.random(60).reshape(10,6)\n",
    "print(u)\n",
    "\n",
    "print(\"Set all rows with any entry less than 0.1 to be zero:\")\n",
    "for i in range (u.shape[0]):\n",
    "    if (np.any(u[i]<=0.1, axis =0)):\n",
    "        u[i]=0\n",
    "print(u)"
   ]
  },
  {
   "cell_type": "markdown",
   "metadata": {},
   "source": [
    "4\\. Use np.linspace to create an array of 100 numbers between 0 and 2π (includsive).\n",
    "\n",
    "  * Extract every 10th element using slice notation\n",
    "  * Reverse the array using slice notation\n",
    "  * Extract elements where the absolute difference between the sine and cosine functions evaluated at that element is less than 0.1\n",
    "  * Make a plot showing the sin and cos functions and indicate where they are close"
   ]
  },
  {
   "cell_type": "code",
   "execution_count": 276,
   "metadata": {
    "scrolled": false
   },
   "outputs": [
    {
     "name": "stdout",
     "output_type": "stream",
     "text": [
      "Extract every 10th element using slice notation:\n",
      "[0.57119866 1.20586385 1.84052903 2.47519421 3.10985939 3.74452458\n",
      " 4.37918976 5.01385494 5.64852012 6.28318531]\n",
      "Reverse the array using slice notation:\n",
      "[6.28318531 6.21971879 6.15625227 6.09278575 6.02931923 5.96585272\n",
      " 5.9023862  5.83891968 5.77545316 5.71198664 5.64852012 5.58505361\n",
      " 5.52158709 5.45812057 5.39465405 5.33118753 5.26772102 5.2042545\n",
      " 5.14078798 5.07732146 5.01385494 4.95038842 4.88692191 4.82345539\n",
      " 4.75998887 4.69652235 4.63305583 4.56958931 4.5061228  4.44265628\n",
      " 4.37918976 4.31572324 4.25225672 4.1887902  4.12532369 4.06185717\n",
      " 3.99839065 3.93492413 3.87145761 3.8079911  3.74452458 3.68105806\n",
      " 3.61759154 3.55412502 3.4906585  3.42719199 3.36372547 3.30025895\n",
      " 3.23679243 3.17332591 3.10985939 3.04639288 2.98292636 2.91945984\n",
      " 2.85599332 2.7925268  2.72906028 2.66559377 2.60212725 2.53866073\n",
      " 2.47519421 2.41172769 2.34826118 2.28479466 2.22132814 2.15786162\n",
      " 2.0943951  2.03092858 1.96746207 1.90399555 1.84052903 1.77706251\n",
      " 1.71359599 1.65012947 1.58666296 1.52319644 1.45972992 1.3962634\n",
      " 1.33279688 1.26933037 1.20586385 1.14239733 1.07893081 1.01546429\n",
      " 0.95199777 0.88853126 0.82506474 0.76159822 0.6981317  0.63466518\n",
      " 0.57119866 0.50773215 0.44426563 0.38079911 0.31733259 0.25386607\n",
      " 0.19039955 0.12693304 0.06346652 0.        ]\n",
      "Extract elements where the absolute difference between the sine\n",
      "and cosine functions evaluated at that element is less than 0.1:\n",
      "[0.76159822 0.82506474 3.87145761 3.93492413]\n",
      "Make a plot showing the sin and cos functions and indicate where they are close:\n"
     ]
    },
    {
     "data": {
      "image/png": "[encoded data removed]",
      "text/plain": [
       "<Figure size 432x288 with 1 Axes>"
      ]
     },
     "metadata": {
      "needs_background": "light"
     },
     "output_type": "display_data"
    }
   ],
   "source": [
    "import math\n",
    "import matplotlib.pyplot as plt\n",
    "\n",
    "z= np.linspace(0.0, 2*math.pi, num=100)\n",
    "#print(z)\n",
    "\n",
    "print(\"Extract every 10th element using slice notation:\")\n",
    "a=z.reshape(10,10)[:,9]\n",
    "print(a)\n",
    "\n",
    "print(\"Reverse the array using slice notation:\")\n",
    "b = z[::-1]\n",
    "print(b)\n",
    "\n",
    "print(\"Extract elements where the absolute difference between the sine\")\n",
    "print(\"and cosine functions evaluated at that element is less than 0.1:\")\n",
    "c = np.array([z[i] for i in range (z.shape[0]) if abs(math.sin(z[i]) - math.cos(z[i])) <= 0.1])\n",
    "print(c)\n",
    "    \n",
    "print(\"Make a plot showing the sin and cos functions and indicate where they are close:\")\n",
    "y_1=np.array([math.sin(z[i]) for i in range (z.shape[0])])\n",
    "y_2=np.array([math.cos(z[i]) for i in range (z.shape[0])])\n",
    "plt.plot(z, y_1)\n",
    "plt.plot(z, y_2)\n",
    "for i in range (c.shape[0]):\n",
    "    y= math.sin(c[i])\n",
    "    plt.plot(c[i], y, marker=\"o\", color=\"red\")\n",
    "plt.xlabel('x - axis')\n",
    "plt.ylabel('y - axis')\n",
    "#mettere la legenda\n",
    "plt.show()\n",
    "#plt.title('')"
   ]
  },
  {
   "cell_type": "markdown",
   "metadata": {},
   "source": [
    "5\\. Create a matrix that shows the 10 by 10 multiplication table.\n",
    "\n",
    " * Find the trace of the matrix\n",
    " * Extract the anto-diagonal (this should be ```array([10, 18, 24, 28, 30, 30, 28, 24, 18, 10])```)\n",
    " * Extract the diagnoal offset by 1 upwards (this should be ```array([ 2,  6, 12, 20, 30, 42, 56, 72, 90])```)"
   ]
  },
  {
   "cell_type": "code",
   "execution_count": 282,
   "metadata": {},
   "outputs": [
    {
     "name": "stdout",
     "output_type": "stream",
     "text": [
      "[[  1   2   3   4   5   6   7   8   9  10]\n",
      " [  2   4   6   8  10  12  14  16  18  20]\n",
      " [  3   6   9  12  15  18  21  24  27  30]\n",
      " [  4   8  12  16  20  24  28  32  36  40]\n",
      " [  5  10  15  20  25  30  35  40  45  50]\n",
      " [  6  12  18  24  30  36  42  48  54  60]\n",
      " [  7  14  21  28  35  42  49  56  63  70]\n",
      " [  8  16  24  32  40  48  56  64  72  80]\n",
      " [  9  18  27  36  45  54  63  72  81  90]\n",
      " [ 10  20  30  40  50  60  70  80  90 100]]\n",
      "Find the trace of the matrix:\n",
      "385\n",
      "Extract the anto-diagonal:\n",
      "[10 18 24 28 30 30 28 24 18 10]\n",
      "Extract the diagnoal offset by 1 upwards:\n",
      "[ 2  6 12 20 30 42 56 72 90]\n"
     ]
    }
   ],
   "source": [
    "m = np.array([i*j for i in range (1,11) for j in range (1,11)]).reshape(10,10)\n",
    "print(m)\n",
    "\n",
    "print(\"Find the trace of the matrix:\")\n",
    "print(m.trace())\n",
    "\n",
    "print(\"Extract the anto-diagonal:\")\n",
    "print(np.diag(np.fliplr(m)))\n",
    "\n",
    "print(\"Extract the diagnoal offset by 1 upwards:\")\n",
    "print(np.diag(m,1))"
   ]
  },
  {
   "cell_type": "markdown",
   "metadata": {},
   "source": [
    "6\\. Use broadcasting to create a grid of distances\n",
    "\n",
    "Route 66 crosses the following cities in the US: Chicago, Springfield, Saint-Louis, Tulsa, Oklahoma City, Amarillo, Santa Fe, Albuquerque, Flagstaff, Los Angeles\n",
    "The corresponding positions in miles are: 0, 198, 303, 736, 871, 1175, 1475, 1544, 1913, 2448\n",
    "\n",
    "  * Construct a 2D grid of distances among each city along Route 66\n",
    "  * Convert that in km (those savages...)"
   ]
  },
  {
   "cell_type": "code",
   "execution_count": 292,
   "metadata": {},
   "outputs": [
    {
     "name": "stdout",
     "output_type": "stream",
     "text": [
      "Construct a 2D grid of distances among each city along Route 66:\n",
      "[[   0  198  303  736  871 1175 1475 1544 1913 2448]\n",
      " [ 198    0  105  538  673  977 1277 1346 1715 2250]\n",
      " [ 303  105    0  433  568  872 1172 1241 1610 2145]\n",
      " [ 736  538  433    0  135  439  739  808 1177 1712]\n",
      " [ 871  673  568  135    0  304  604  673 1042 1577]\n",
      " [1175  977  872  439  304    0  300  369  738 1273]\n",
      " [1475 1277 1172  739  604  300    0   69  438  973]\n",
      " [1544 1346 1241  808  673  369   69    0  369  904]\n",
      " [1913 1715 1610 1177 1042  738  438  369    0  535]\n",
      " [2448 2250 2145 1712 1577 1273  973  904  535    0]]\n",
      "Convert that in km:\n",
      "[[   0.    318.78  487.83 1184.96 1402.31 1891.75 2374.75 2485.84 3079.93\n",
      "  3941.28]\n",
      " [ 318.78    0.    169.05  866.18 1083.53 1572.97 2055.97 2167.06 2761.15\n",
      "  3622.5 ]\n",
      " [ 487.83  169.05    0.    697.13  914.48 1403.92 1886.92 1998.01 2592.1\n",
      "  3453.45]\n",
      " [1184.96  866.18  697.13    0.    217.35  706.79 1189.79 1300.88 1894.97\n",
      "  2756.32]\n",
      " [1402.31 1083.53  914.48  217.35    0.    489.44  972.44 1083.53 1677.62\n",
      "  2538.97]\n",
      " [1891.75 1572.97 1403.92  706.79  489.44    0.    483.    594.09 1188.18\n",
      "  2049.53]\n",
      " [2374.75 2055.97 1886.92 1189.79  972.44  483.      0.    111.09  705.18\n",
      "  1566.53]\n",
      " [2485.84 2167.06 1998.01 1300.88 1083.53  594.09  111.09    0.    594.09\n",
      "  1455.44]\n",
      " [3079.93 2761.15 2592.1  1894.97 1677.62 1188.18  705.18  594.09    0.\n",
      "   861.35]\n",
      " [3941.28 3622.5  3453.45 2756.32 2538.97 2049.53 1566.53 1455.44  861.35\n",
      "     0.  ]]\n"
     ]
    }
   ],
   "source": [
    "print(\"Construct a 2D grid of distances among each city along Route 66:\")\n",
    "miles =np.array([0, 198, 303, 736, 871, 1175, 1475, 1544, 1913, 2448])\n",
    "grid = (abs(miles-miles.reshape(10,1)))\n",
    "print(grid)\n",
    "print(\"Convert that in km:\")\n",
    "grid_km = grid*1.61\n",
    "print(grid_km)"
   ]
  },
  {
   "cell_type": "markdown",
   "metadata": {},
   "source": [
    "7\\. Prime numbers sieve: compute the prime numbers in the 0-N (N=99 to start with) range with a sieve (mask).\n",
    "  * Constract a shape (100,) boolean array, the mask\n",
    "  * Identify the multiples of each number starting from 2 and set accordingly the corresponding mask element\n",
    "  * Apply the mask to obtain an array of ordered prime numbers\n",
    "  * Check the performances (timeit); how does it scale with N?\n",
    "  * Implement the optimization suggested in the [sieve of Eratosthenes](https://en.wikipedia.org/wiki/Sieve_of_Eratosthenes)"
   ]
  },
  {
   "cell_type": "code",
   "execution_count": 359,
   "metadata": {},
   "outputs": [
    {
     "name": "stdout",
     "output_type": "stream",
     "text": [
      "[0, 1, 2, 3, 5, 7, 11, 13, 17, 19, 23, 29, 31, 37, 41, 43, 47, 53, 59, 61, 67, 71, 73, 79, 83, 89, 97]\n"
     ]
    }
   ],
   "source": [
    "primes=[]\n",
    "\n",
    "for i in range(0, 100):\n",
    "    for j in range(2, i):\n",
    "        if ( i % j) == 0: \n",
    "            break\n",
    "    else: \n",
    "        primes.append(i)\n",
    "        \n",
    "print(primes)"
   ]
  },
  {
   "cell_type": "markdown",
   "metadata": {},
   "source": [
    "**N.B. the following exercises are meant to be solved only if you are familiar with the numpy random library. If not you can skip them (postponed for one of the next exercise sessions)**\n"
   ]
  },
  {
   "cell_type": "markdown",
   "metadata": {},
   "source": [
    "8\\. Diffusion using random walk\n",
    "\n",
    "Consider a simple random walk process: at each step in time, a walker jumps right or left (+1 or -1) with equal probability. The goal is to find the typical distance from the origin of a random walker after a given amount of time. \n",
    "To do that, let's simulate many walkers and create a 2D array with each walker as a raw and the actual time evolution as columns\n",
    "\n",
    "  * Take 1000 walkers and let them walk for 200 steps\n",
    "  * Use randint to create a 2D array of size walkers x steps with values -1 or 1\n",
    "  * Build the actual walking distances for each walker (i.e. another 2D array \"summing on each raw\")\n",
    "  * Take the square of that 2D array (elementwise)\n",
    "  * Compute the mean of the squared distances at each step (i.e. the mean along the columns)\n",
    "  * Plot the average distances (sqrt(distance\\*\\*2)) as a function of time (step)\n",
    "  \n",
    "Did you get what you expected?"
   ]
  },
  {
   "cell_type": "markdown",
   "metadata": {},
   "source": [
    "9\\. Analyze a data file \n",
    "  * Download the population of hares, lynxes and carrots at the beginning of the last century.\n",
    "    ```python\n",
    "    ! wget https://www.dropbox.com/s/3vigxoqayo389uc/populations.txt\n",
    "    ```\n",
    "\n",
    "  * Check the content by looking within the file\n",
    "  * Load the data (use an appropriate numpy method) into a 2D array\n",
    "  * Create arrays out of the columns, the arrays being (in order): *year*, *hares*, *lynxes*, *carrots* \n",
    "  * Plot the 3 populations over the years\n",
    "  * Compute the main statistical properties of the dataset (mean, std, correlations, etc.)\n",
    "  * Which species has the highest population each year?\n",
    "\n",
    "Do you feel there is some evident correlation here? [Studies](https://www.enr.gov.nt.ca/en/services/lynx/lynx-snowshoe-hare-cycle) tend to believe so."
   ]
  },
  {
   "cell_type": "code",
   "execution_count": 302,
   "metadata": {},
   "outputs": [
    {
     "name": "stdout",
     "output_type": "stream",
     "text": [
      "i=0\n",
      "i=1\n",
      "i=2\n",
      "i=4\n"
     ]
    }
   ],
   "source": [
    "i=0\n",
    "while i<5:\n",
    "    try:\n",
    "        assert(i!=3) #Raises an AssertionError if i==3\n",
    "        print(\"i={0}\".format(i))\n",
    "    except:\n",
    "        continue\n",
    "    finally:\n",
    "        i+= 1; #Increment i"
   ]
  },
  {
   "cell_type": "code",
   "execution_count": null,
   "metadata": {},
   "outputs": [],
   "source": []
  }
 ],
 "metadata": {
  "kernelspec": {
   "display_name": "Python 3",
   "language": "python",
   "name": "python3"
  },
  "language_info": {
   "codemirror_mode": {
    "name": "ipython",
    "version": 3
   },
   "file_extension": ".py",
   "mimetype": "text/x-python",
   "name": "python",
   "nbconvert_exporter": "python",
   "pygments_lexer": "ipython3",
   "version": "3.8.8"
  }
 },
 "nbformat": 4,
 "nbformat_minor": 2
}
