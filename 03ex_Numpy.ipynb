{
 "cells": [
  {
   "cell_type": "markdown",
   "metadata": {},
   "source": [
    "### Numpy basics"
   ]
  },
  {
   "cell_type": "markdown",
   "metadata": {},
   "source": [
    "1\\. Find the row, column and overall means for the following matrix:\n",
    "\n",
    "```python\n",
    "m = np.arange(12).reshape((3,4))\n",
    "```"
   ]
  },
  {
   "cell_type": "code",
   "execution_count": 1,
   "metadata": {},
   "outputs": [
    {
     "name": "stdout",
     "output_type": "stream",
     "text": [
      "[[ 0  1  2  3]\n",
      " [ 4  5  6  7]\n",
      " [ 8  9 10 11]]\n",
      "The column number 0 is [0 4 8] and its mean is: 4.0\n",
      "The column number 1 is [1 5 9] and its mean is: 5.0\n",
      "The column number 2 is [ 2  6 10] and its mean is: 6.0\n",
      "The column number 3 is [ 3  7 11] and its mean is: 7.0\n",
      "The row number 0 is [0 1 2 3] and its mean is: 1.5\n",
      "The row number 1 is [4 5 6 7] and its mean is: 5.5\n",
      "The row number 2 is [ 8  9 10 11] and its mean is: 9.5\n",
      "The overall mean is 5.5\n"
     ]
    }
   ],
   "source": [
    "import numpy as np\n",
    "m = np.arange(12).reshape((3,4))\n",
    "print(m)\n",
    "for i in range(4):\n",
    "    print(\"The column number\", i, \"is\", m[:,i], \"and its mean is:\",m[:,i].mean())\n",
    "    \n",
    "for i in range(3):\n",
    "    print(\"The row number\", i, \"is\", m[i,:], \"and its mean is:\",m[i,:].mean())\n",
    "print(\"The overall mean is\", m.mean())\n"
   ]
  },
  {
   "cell_type": "markdown",
   "metadata": {},
   "source": [
    "2\\. Find the outer product of the following two vecotrs\n",
    "\n",
    "```python\n",
    "u = np.array([1,3,5,7])\n",
    "v = np.array([2,4,6,8])\n",
    "```\n",
    "\n",
    "Do this in the following ways:\n",
    "\n",
    "   * Using the function outer in numpy\n",
    "   * Using a nested for loop or list comprehension\n",
    "   * Using numpy broadcasting operatoins\n"
   ]
  },
  {
   "cell_type": "code",
   "execution_count": 2,
   "metadata": {},
   "outputs": [
    {
     "name": "stdout",
     "output_type": "stream",
     "text": [
      "Method 1: \n",
      " [[ 2  4  6  8]\n",
      " [ 6 12 18 24]\n",
      " [10 20 30 40]\n",
      " [14 28 42 56]]\n",
      "Method 2: \n",
      " [[ 2  4  6  8]\n",
      " [ 6 12 18 24]\n",
      " [10 20 30 40]\n",
      " [14 28 42 56]]\n",
      "Method 3: \n",
      " [[ 2  6 10 14]\n",
      " [ 4 12 20 28]\n",
      " [ 6 18 30 42]\n",
      " [ 8 24 40 56]]\n"
     ]
    }
   ],
   "source": [
    "import numpy as np\n",
    "#1\n",
    "u = np.array([1,3,5,7])\n",
    "v = np.array([2,4,6,8])\n",
    "outer1 = np.outer(u,v)\n",
    "print('Method 1: \\n',outer1)\n",
    "#2\n",
    "outer2 = np.array([i*j for i in u for j in v]).reshape(len(u),len(v))\n",
    "print('Method 2: \\n',outer2)\n",
    "#3\n",
    "outer3 = u*v[:,np.newaxis]\n",
    "print('Method 3: \\n',outer3)"
   ]
  },
  {
   "cell_type": "markdown",
   "metadata": {},
   "source": [
    "3\\. Create a 10 by 6 matrix of random uniform numbers. Set all rows with any entry less than 0.1 to be zero\n",
    "\n",
    "Hint: Use the following numpy functions - np.random.random, np.any as well as Boolean indexing and the axis argument."
   ]
  },
  {
   "cell_type": "code",
   "execution_count": 3,
   "metadata": {},
   "outputs": [
    {
     "name": "stdout",
     "output_type": "stream",
     "text": [
      "[[0.96240028 0.16371678 0.50318284 0.25095249 0.59467126 0.19259002]\n",
      " [0.         0.         0.         0.         0.         0.        ]\n",
      " [0.91448471 0.87982489 0.86294842 0.58995676 0.80848925 0.91505704]\n",
      " [0.60033217 0.50287878 0.58016317 0.85065733 0.16345607 0.70549296]\n",
      " [0.72246497 0.73427025 0.31287345 0.36906136 0.29569561 0.60494242]\n",
      " [0.62805083 0.76701034 0.56695684 0.7953652  0.68127973 0.46799553]\n",
      " [0.9288669  0.15012253 0.21749245 0.52484626 0.94139872 0.15382154]\n",
      " [0.         0.         0.         0.         0.         0.        ]\n",
      " [0.80842672 0.70671756 0.88756611 0.11433875 0.88194522 0.21328085]\n",
      " [0.86838686 0.46799098 0.51400998 0.33855132 0.63561621 0.82469001]]\n"
     ]
    }
   ],
   "source": [
    "\n",
    "m = np.random.random(60).reshape(10,6)\n",
    "mask = (m < 0.1)\n",
    "m[mask.any(axis = 1)] = 0\n",
    "print(m)\n"
   ]
  },
  {
   "cell_type": "markdown",
   "metadata": {},
   "source": [
    "4\\. Use np.linspace to create an array of 100 numbers between 0 and 2π (includsive).\n",
    "\n",
    "  * Extract every 10th element using slice notation\n",
    "  * Reverse the array using slice notation\n",
    "  * Extract elements where the absolute difference between the sine and cosine functions evaluated at that element is less than 0.1\n",
    "  * Make a plot showing the sin and cos functions and indicate where they are close"
   ]
  },
  {
   "cell_type": "code",
   "execution_count": 4,
   "metadata": {},
   "outputs": [
    {
     "name": "stdout",
     "output_type": "stream",
     "text": [
      "[0.         0.63466518 1.26933037 1.90399555 2.53866073 3.17332591\n",
      " 3.8079911  4.44265628 5.07732146 5.71198664]\n",
      "[6.28318531 6.21971879 6.15625227 6.09278575 6.02931923 5.96585272\n",
      " 5.9023862  5.83891968 5.77545316 5.71198664 5.64852012 5.58505361\n",
      " 5.52158709 5.45812057 5.39465405 5.33118753 5.26772102 5.2042545\n",
      " 5.14078798 5.07732146 5.01385494 4.95038842 4.88692191 4.82345539\n",
      " 4.75998887 4.69652235 4.63305583 4.56958931 4.5061228  4.44265628\n",
      " 4.37918976 4.31572324 4.25225672 4.1887902  4.12532369 4.06185717\n",
      " 3.99839065 3.93492413 3.87145761 3.8079911  3.74452458 3.68105806\n",
      " 3.61759154 3.55412502 3.4906585  3.42719199 3.36372547 3.30025895\n",
      " 3.23679243 3.17332591 3.10985939 3.04639288 2.98292636 2.91945984\n",
      " 2.85599332 2.7925268  2.72906028 2.66559377 2.60212725 2.53866073\n",
      " 2.47519421 2.41172769 2.34826118 2.28479466 2.22132814 2.15786162\n",
      " 2.0943951  2.03092858 1.96746207 1.90399555 1.84052903 1.77706251\n",
      " 1.71359599 1.65012947 1.58666296 1.52319644 1.45972992 1.3962634\n",
      " 1.33279688 1.26933037 1.20586385 1.14239733 1.07893081 1.01546429\n",
      " 0.95199777 0.88853126 0.82506474 0.76159822 0.6981317  0.63466518\n",
      " 0.57119866 0.50773215 0.44426563 0.38079911 0.31733259 0.25386607\n",
      " 0.19039955 0.12693304 0.06346652 0.        ]\n",
      "[0.76159822 0.82506474 3.87145761 3.93492413]\n"
     ]
    },
    {
     "data": {
      "text/plain": [
       "<matplotlib.legend.Legend at 0x7f40e40f0b90>"
      ]
     },
     "execution_count": 4,
     "metadata": {},
     "output_type": "execute_result"
    },
    {
     "data": {
      "image/png": "[encoded data removed]",
      "text/plain": [
       "<Figure size 432x288 with 1 Axes>"
      ]
     },
     "metadata": {
      "needs_background": "light"
     },
     "output_type": "display_data"
    }
   ],
   "source": [
    "import matplotlib.pyplot as plt\n",
    "import math as m\n",
    "%matplotlib inline\n",
    "\n",
    "x = np.linspace(0, 2*m.pi, num=100) \n",
    "#tenth elements\n",
    "tenth = x[::10]\n",
    "print(tenth)\n",
    "#reversed array with slice notation\n",
    "x_reverse = x[::-1]\n",
    "print(x_reverse)\n",
    "#\n",
    "mask = np.abs(np.sin(x)-np.cos(x)) < 0.1\n",
    "a = x[mask]\n",
    "print(a)\n",
    "plt.xlabel('x')\n",
    "plt.ylabel('')\n",
    "plt.plot(a, np.cos(a),ls='',marker='o')\n",
    "plt.plot(a, np.sin(a),ls='',marker='o')\n",
    "plt.plot(x, np.cos(x), 'r', label = 'cos(x)')\n",
    "plt.plot(x, np.sin(x), 'g', label = 'sen(x)')\n",
    "plt.legend(loc='lower left')"
   ]
  },
  {
   "cell_type": "markdown",
   "metadata": {},
   "source": [
    "5\\. Create a matrix that shows the 10 by 10 multiplication table.\n",
    "\n",
    " * Find the trace of the matrix\n",
    " * Extract the anto-diagonal (this should be ```array([10, 18, 24, 28, 30, 30, 28, 24, 18, 10])```)\n",
    " * Extract the diagnoal offset by 1 upwards (this should be ```array([ 2,  6, 12, 20, 30, 42, 56, 72, 90])```)"
   ]
  },
  {
   "cell_type": "code",
   "execution_count": 5,
   "metadata": {},
   "outputs": [
    {
     "name": "stdout",
     "output_type": "stream",
     "text": [
      "[[  1   2   3   4   5   6   7   8   9  10]\n",
      " [  2   4   6   8  10  12  14  16  18  20]\n",
      " [  3   6   9  12  15  18  21  24  27  30]\n",
      " [  4   8  12  16  20  24  28  32  36  40]\n",
      " [  5  10  15  20  25  30  35  40  45  50]\n",
      " [  6  12  18  24  30  36  42  48  54  60]\n",
      " [  7  14  21  28  35  42  49  56  63  70]\n",
      " [  8  16  24  32  40  48  56  64  72  80]\n",
      " [  9  18  27  36  45  54  63  72  81  90]\n",
      " [ 10  20  30  40  50  60  70  80  90 100]]\n",
      "The trace of the matrix is: 385\n",
      "The anti-diagonal of the matrix is: [10 18 24 28 30 30 28 24 18 10]\n",
      "The diagonal offset by 1 upwards is:  [ 2  6 12 20 30 42 56 72 90]\n"
     ]
    }
   ],
   "source": [
    "import numpy as np\n",
    "mult_table = np.array([i*j for i in range(1,11) for j in range(1,11)]).reshape(10,10)\n",
    "print(mult_table)\n",
    "#1\n",
    "trace = np.trace(mult_table)\n",
    "print(\"The trace of the matrix is:\",trace)\n",
    "#2\n",
    "anti_diag = np.array([mult_table[i,9-i] for i in range(0,10)])\n",
    "print(\"The anti-diagonal of the matrix is:\",anti_diag)\n",
    "#3\n",
    "diagonal_1 = np.diagonal(mult_table,1)\n",
    "print('The diagonal offset by 1 upwards is: ', diagonal_1)"
   ]
  },
  {
   "cell_type": "markdown",
   "metadata": {},
   "source": [
    "6\\. Use broadcasting to create a grid of distances\n",
    "\n",
    "Route 66 crosses the following cities in the US: Chicago, Springfield, Saint-Louis, Tulsa, Oklahoma City, Amarillo, Santa Fe, Albuquerque, Flagstaff, Los Angeles\n",
    "The corresponding positions in miles are: 0, 198, 303, 736, 871, 1175, 1475, 1544, 1913, 2448\n",
    "\n",
    "  * Construct a 2D grid of distances among each city along Route 66\n",
    "  * Convert that in km (those savages...)"
   ]
  },
  {
   "cell_type": "code",
   "execution_count": 6,
   "metadata": {},
   "outputs": [
    {
     "name": "stdout",
     "output_type": "stream",
     "text": [
      "Grid of distances: \n",
      " [[   0  198  303  736  871 1175 1475 1544 1913 2448]\n",
      " [ 198    0  105  538  673  977 1277 1346 1715 2250]\n",
      " [ 303  105    0  433  568  872 1172 1241 1610 2145]\n",
      " [ 736  538  433    0  135  439  739  808 1177 1712]\n",
      " [ 871  673  568  135    0  304  604  673 1042 1577]\n",
      " [1175  977  872  439  304    0  300  369  738 1273]\n",
      " [1475 1277 1172  739  604  300    0   69  438  973]\n",
      " [1544 1346 1241  808  673  369   69    0  369  904]\n",
      " [1913 1715 1610 1177 1042  738  438  369    0  535]\n",
      " [2448 2250 2145 1712 1577 1273  973  904  535    0]]\n",
      "Converted in km: \n",
      " [[   0.   318.7  487.6 1184.5 1401.7 1891.  2373.8 2484.8 3078.7 3939.7]\n",
      " [ 318.7    0.   169.   865.8 1083.1 1572.3 2055.1 2166.2 2760.  3621. ]\n",
      " [ 487.6  169.     0.   696.8  914.1 1403.4 1886.2 1997.2 2591.  3452. ]\n",
      " [1184.5  865.8  696.8    0.   217.3  706.5 1189.3 1300.4 1894.2 2755.2]\n",
      " [1401.7 1083.1  914.1  217.3    0.   489.2  972.  1083.1 1676.9 2537.9]\n",
      " [1891.  1572.3 1403.4  706.5  489.2    0.   482.8  593.8 1187.7 2048.7]\n",
      " [2373.8 2055.1 1886.2 1189.3  972.   482.8    0.   111.   704.9 1565.9]\n",
      " [2484.8 2166.2 1997.2 1300.4 1083.1  593.8  111.     0.   593.8 1454.8]\n",
      " [3078.7 2760.  2591.  1894.2 1676.9 1187.7  704.9  593.8    0.   861. ]\n",
      " [3939.7 3621.  3452.  2755.2 2537.9 2048.7 1565.9 1454.8  861.     0. ]]\n"
     ]
    }
   ],
   "source": [
    "import numpy as np\n",
    "dist = np.array([0, 198, 303, 736, 871, 1175, 1475, 1544, 1913, 2448])\n",
    "distance = dist[:,np.newaxis]\n",
    "grid = np.abs(distance - dist)\n",
    "print('Grid of distances: \\n', grid)\n",
    "np.set_printoptions(precision = 1) #set the precision to 1 in order to have a matrix more compact\n",
    "print('Converted in km: \\n', grid/0.62137)"
   ]
  },
  {
   "cell_type": "markdown",
   "metadata": {},
   "source": [
    "7\\. Prime numbers sieve: compute the prime numbers in the 0-N (N=99 to start with) range with a sieve (mask).\n",
    "  * Constract a shape (100,) boolean array, the mask\n",
    "  * Identify the multiples of each number starting from 2 and set accordingly the corresponding mask element\n",
    "  * Apply the mask to obtain an array of ordered prime numbers\n",
    "  * Check the performances (timeit); how does it scale with N?\n",
    "  * Implement the optimization suggested in the [sieve of Eratosthenes](https://en.wikipedia.org/wiki/Sieve_of_Eratosthenes)"
   ]
  },
  {
   "cell_type": "code",
   "execution_count": 7,
   "metadata": {},
   "outputs": [
    {
     "name": "stdout",
     "output_type": "stream",
     "text": [
      "[ 2  3  5  7 11 13 17 19 23 29 31 37 41 43 47 53 59 61 67 71 73 79 83 89\n",
      " 97]\n",
      "[ 2  3  5  7 11 13 17 19 23 29 31 37 41 43 47 53 59 61 67 71 73 79 83 89\n",
      " 97]\n",
      "142 µs ± 3.24 µs per loop (mean ± std. dev. of 7 runs, 10000 loops each)\n",
      "388 µs ± 16.6 µs per loop (mean ± std. dev. of 7 runs, 1000 loops each)\n",
      "How we can se from the plot, the time of the performances scales approximately linearly\n"
     ]
    },
    {
     "data": {
      "image/png": "[encoded data removed]",
      "text/plain": [
       "<Figure size 432x288 with 1 Axes>"
      ]
     },
     "metadata": {
      "needs_background": "light"
     },
     "output_type": "display_data"
    }
   ],
   "source": [
    "import numpy as np\n",
    "import matplotlib.pyplot as plt\n",
    "import time\n",
    "\n",
    "%matplotlib inline\n",
    "N = 100\n",
    "mask = np.ones((N,),bool)\n",
    "numbers = np.arange(0,N)  \n",
    "mask[0] = mask[1] = False\n",
    "\n",
    "def prime(N):\n",
    "    for i in range(2,N):\n",
    "        mask[2*i::i] = False #parte da 2*i con step di i \n",
    "    return(numbers[mask])\n",
    "\n",
    "print(prime(99)) \n",
    "def Eratosthenes(N):\n",
    "    for i in range(2,int(pow(N,0.5))):\n",
    "        if mask[i] == True:\n",
    "            for j in [(pow(i,2) + z*i) for z in range(100)]:\n",
    "                if j < 100:\n",
    "                    mask[j] = False\n",
    "    return(numbers[mask])\n",
    "\n",
    "print(Eratosthenes(100))\n",
    "\n",
    "array_Times_1 = []\n",
    "array_N = []\n",
    "array_Times_2 = []  \n",
    "\n",
    "for N in range(100,10000,100): \n",
    "    t0 = time.time()\n",
    "    prime(N)\n",
    "    t1 = time.time()\n",
    "    array_Times_1.append(t1-t0)\n",
    "    array_N.append(N)\n",
    "    t0 = time.time()\n",
    "    Eratosthenes(N)\n",
    "    t1 = time.time()\n",
    "    array_Times_2.append(t1-t0)\n",
    "\n",
    "%timeit prime(100)\n",
    "%timeit Eratosthenes(100)\n",
    "\n",
    "plt.xlabel('N')\n",
    "plt.ylabel('time [s]')\n",
    "plt.plot(array_N, array_Times_1, 'r', label = 'My method')\n",
    "plt.plot(array_N, array_Times_2, 'g', label = 'Eratosthenes')\n",
    "plt.legend(loc='upper left')\n",
    "print(\"How we can se from the plot, the time of the performances scales approximately linearly\")"
   ]
  },
  {
   "cell_type": "markdown",
   "metadata": {},
   "source": [
    "**N.B. the following exercises are meant to be solved only if you are familiar with the numpy random library. If not you can skip them (postponed for one of the next exercise sessions)**\n"
   ]
  },
  {
   "cell_type": "markdown",
   "metadata": {},
   "source": [
    "8\\. Diffusion using random walk\n",
    "\n",
    "Consider a simple random walk process: at each step in time, a walker jumps right or left (+1 or -1) with equal probability. The goal is to find the typical distance from the origin of a random walker after a given amount of time. \n",
    "To do that, let's simulate many walkers and create a 2D array with each walker as a raw and the actual time evolution as columns\n",
    "\n",
    "  * Take 1000 walkers and let them walk for 200 steps\n",
    "  * Use randint to create a 2D array of size walkers x steps with values -1 or 1\n",
    "  * Build the actual walking distances for each walker (i.e. another 2D array \"summing on each raw\")\n",
    "  * Take the square of that 2D array (elementwise)\n",
    "  * Compute the mean of the squared distances at each step (i.e. the mean along the columns)\n",
    "  * Plot the average distances (sqrt(distance\\*\\*2)) as a function of time (step)\n",
    "  \n",
    "Did you get what you expected?"
   ]
  },
  {
   "cell_type": "code",
   "execution_count": 80,
   "metadata": {},
   "outputs": [],
   "source": [
    "import pandas as pd\n",
    "import numpy as np\n",
    "import math\n",
    "import matplotlib.pyplot as plt"
   ]
  },
  {
   "cell_type": "code",
   "execution_count": null,
   "metadata": {},
   "outputs": [],
   "source": []
  },
  {
   "cell_type": "code",
   "execution_count": 44,
   "metadata": {},
   "outputs": [
    {
     "name": "stdout",
     "output_type": "stream",
     "text": [
      "[[-1 -1 -1 ...  1  1 -1]\n",
      " [ 1 -1 -1 ...  1 -1  1]\n",
      " [-1  1 -1 ...  1  1 -1]\n",
      " ...\n",
      " [-1 -1  1 ...  1 -1  1]\n",
      " [ 1  1  1 ...  1  1 -1]\n",
      " [ 1 -1  1 ...  1  1 -1]]\n",
      "[[ 0. -1. -2. ...  3.  4.  5.]\n",
      " [ 0.  1.  0. ...  1.  2.  1.]\n",
      " [ 0. -1.  0. ...  5.  6.  7.]\n",
      " ...\n",
      " [ 0. -1. -2. ...  3.  4.  3.]\n",
      " [ 0.  1.  2. ...  9. 10. 11.]\n",
      " [ 0.  1.  0. ... -5. -4. -3.]]\n",
      "[[  0.   1.   4. ... 361. 324. 289.]\n",
      " [  0.   1.   4. ...  81.  64.  49.]\n",
      " [  0.   1.   4. ...   9.  16.  25.]\n",
      " ...\n",
      " [  0.   1.   0. ...  49.  36.  49.]\n",
      " [  0.   1.   0. ... 121. 100.  81.]\n",
      " [  0.   1.   0. ...  25.  16.  25.]]\n"
     ]
    },
    {
     "data": {
      "text/plain": [
       "[<matplotlib.lines.Line2D at 0x7f7cf035cb50>]"
      ]
     },
     "execution_count": 44,
     "metadata": {},
     "output_type": "execute_result"
    },
    {
     "data": {
      "image/png": "[encoded data removed]",
      "text/plain": [
       "<Figure size 432x288 with 1 Axes>"
      ]
     },
     "metadata": {
      "needs_background": "light"
     },
     "output_type": "display_data"
    }
   ],
   "source": [
    "walkers = 1000\n",
    "steps = 200\n",
    "array = np.random.randint(0, 2, (walkers, steps))\n",
    "array[array == 0] = -1 \n",
    "print(array)\n",
    "distances = np.zeros((walkers,steps))\n",
    "for i in range(walkers):\n",
    "    for j in range(steps):\n",
    "        distances[i,j] = sum(array[i,:j])\n",
    "print(distances)\n",
    "distances_squared = array2**2\n",
    "print(distances_squared)\n",
    "x = np.sqrt(distances_squared.mean(axis = 0))\n",
    "steps = np.linspace(1,200,200)\n",
    "plt.xlabel('steps')\n",
    "plt.ylabel('sqrt(distances_squared)')\n",
    "plt.plot(steps, x, 'r')\n"
   ]
  },
  {
   "cell_type": "markdown",
   "metadata": {},
   "source": [
    "9\\. Analyze a data file \n",
    "  * Download the population of hares, lynxes and carrots at the beginning of the last century.\n",
    "    ```python\n",
    "    ! wget https://www.dropbox.com/s/3vigxoqayo389uc/populations.txt\n",
    "    ```\n",
    "\n",
    "  * Check the content by looking within the file\n",
    "  * Load the data (use an appropriate numpy method) into a 2D array\n",
    "  * Create arrays out of the columns, the arrays being (in order): *year*, *hares*, *lynxes*, *carrots* \n",
    "  * Plot the 3 populations over the years\n",
    "  * Compute the main statistical properties of the dataset (mean, std, correlations, etc.)\n",
    "  * Which species has the highest population each year?\n",
    "\n",
    "Do you feel there is some evident correlation here? [Studies](https://www.enr.gov.nt.ca/en/services/lynx/lynx-snowshoe-hare-cycle) tend to believe so."
   ]
  },
  {
   "cell_type": "code",
   "execution_count": 1,
   "metadata": {},
   "outputs": [
    {
     "name": "stdout",
     "output_type": "stream",
     "text": [
      "--2021-12-13 16:17:44--  https://www.dropbox.com/s/3vigxoqayo389uc/populations.txt\n",
      "Resolving www.dropbox.com (www.dropbox.com)... 162.125.69.18, 2620:100:6025:18::a27d:4512\n",
      "Connecting to www.dropbox.com (www.dropbox.com)|162.125.69.18|:443... connected.\n",
      "HTTP request sent, awaiting response... 301 Moved Permanently\n",
      "Location: /s/raw/3vigxoqayo389uc/populations.txt [following]\n",
      "--2021-12-13 16:17:46--  https://www.dropbox.com/s/raw/3vigxoqayo389uc/populations.txt\n",
      "Reusing existing connection to www.dropbox.com:443.\n",
      "HTTP request sent, awaiting response... 302 Found\n",
      "Location: https://uc1dce4efe3fc9c95e846e9175d3.dl.dropboxusercontent.com/cd/0/inline/BbwqZPmA-GBuCaSgejQqMG-lmvRHoSOaVUH0TlqXu1-OA--CfLpJcYtsV3srszNhyLgMlTcTi-2FytYB51HXd5rWFNp2mtuBQry-acdbJfbyA2hiwJ9sojsLOQrhaQP-0j3AWpIMHa6Qmrxbnyn0xt3S/file# [following]\n",
      "--2021-12-13 16:17:49--  https://uc1dce4efe3fc9c95e846e9175d3.dl.dropboxusercontent.com/cd/0/inline/BbwqZPmA-GBuCaSgejQqMG-lmvRHoSOaVUH0TlqXu1-OA--CfLpJcYtsV3srszNhyLgMlTcTi-2FytYB51HXd5rWFNp2mtuBQry-acdbJfbyA2hiwJ9sojsLOQrhaQP-0j3AWpIMHa6Qmrxbnyn0xt3S/file\n",
      "Resolving uc1dce4efe3fc9c95e846e9175d3.dl.dropboxusercontent.com (uc1dce4efe3fc9c95e846e9175d3.dl.dropboxusercontent.com)... 162.125.69.15, 2620:100:6025:15::a27d:450f\n",
      "Connecting to uc1dce4efe3fc9c95e846e9175d3.dl.dropboxusercontent.com (uc1dce4efe3fc9c95e846e9175d3.dl.dropboxusercontent.com)|162.125.69.15|:443... connected.\n",
      "HTTP request sent, awaiting response... 200 OK\n",
      "Length: 525 [text/plain]\n",
      "Saving to: ‘populations.txt.1’\n",
      "\n",
      "populations.txt.1   100%[===================>]     525  --.-KB/s    in 0s      \n",
      "\n",
      "2021-12-13 16:17:51 (5,46 MB/s) - ‘populations.txt.1’ saved [525/525]\n",
      "\n"
     ]
    }
   ],
   "source": [
    "#! wget https://www.dropbox.com/s/3vigxoqayo389uc/populations.txt"
   ]
  },
  {
   "cell_type": "code",
   "execution_count": 9,
   "metadata": {},
   "outputs": [],
   "source": [
    "import numpy as np\n",
    "import matplotlib.pyplot as plt"
   ]
  },
  {
   "cell_type": "code",
   "execution_count": 40,
   "metadata": {},
   "outputs": [
    {
     "data": {
      "image/png": "[encoded data removed]",
      "text/plain": [
       "<Figure size 432x288 with 1 Axes>"
      ]
     },
     "metadata": {
      "needs_background": "light"
     },
     "output_type": "display_data"
    },
    {
     "name": "stdout",
     "output_type": "stream",
     "text": [
      "The correlation coefficient hares-carrots is: -0.016603777709879416\n",
      "The correlation coefficient lynxes-carrots is: -0.6805771698401616\n",
      "The correlation coefficient lynxes-hares is: 0.0718920607353557\n",
      "The correlation coefficient lynxes-hares with a shift of two years is: 0.9273333019188926 \n",
      "\n",
      "The average of carrots population is: 42400.0 with standard deviation: 3322.5062255844787\n",
      "The average of hares population is: 34080.95238095238 with standard deviation: 20897.906458089667\n",
      "The average of lynxes population is: 20166.666666666668 with standard deviation: 16254.591536908763 \n",
      "\n",
      "In 1900.0 carrots have the highest poulation of: 48300.0\n",
      "In 1901.0 carrots have the highest poulation of: 48200.0\n",
      "In 1902.0 hares have the highest poulation of: 70200.0\n",
      "In 1903.0 hares have the highest poulation of: 77400.0\n",
      "In 1904.0 hares have the highest poulation of: 59400.0\n",
      "In 1905.0 hares have the highest poulation of: 41700.0\n",
      "In 1906.0 carrots have the highest poulation of: 38600.0\n",
      "In 1907.0 carrots have the highest poulation of: 42300.0\n",
      "In 1908.0 carrots have the highest poulation of: 44500.0\n",
      "In 1909.0 carrots have the highest poulation of: 42100.0\n",
      "In 1910.0 carrots have the highest poulation of: 46000.0\n",
      "In 1911.0 carrots have the highest poulation of: 46800.0\n",
      "In 1912.0 hares have the highest poulation of: 57000.0\n",
      "In 1913.0 hares have the highest poulation of: 76600.0\n",
      "In 1914.0 hares have the highest poulation of: 52300.0\n",
      "In 1915.0 hares have the highest poulation of: 51100.0\n",
      "In 1916.0 carrots have the highest poulation of: 36700.0\n",
      "In 1917.0 carrots have the highest poulation of: 41800.0\n",
      "In 1918.0 carrots have the highest poulation of: 43300.0\n",
      "In 1919.0 carrots have the highest poulation of: 41300.0\n",
      "In 1920.0 carrots have the highest poulation of: 47300.0\n"
     ]
    }
   ],
   "source": [
    "np.loadtxt('populations.txt',comments = \"#\")\n",
    "years, hares, lynxes, carrots = np.loadtxt('populations.txt',unpack = True)\n",
    "plt.xlabel('Year')\n",
    "plt.ylabel('Population')\n",
    "plt.plot(years, hares, 'brown', label = 'hares')\n",
    "plt.plot(years, lynxes, 'b', label = 'lynxes')\n",
    "plt.plot(years, carrots, 'orange', label = 'carrots')\n",
    "plt.legend(loc='upper right')\n",
    "plt.show()\n",
    "\n",
    "hares_par = [hares.mean(),hares.std()]\n",
    "lynxes_par = [lynxes.mean(), lynxes.std()]\n",
    "carrots_par = [carrots.mean(), carrots.std()]\n",
    "\n",
    "corrcoeff_hc = np.corrcoef(hares,carrots)\n",
    "corrcoeff_lc = np.corrcoef(lynxes,carrots)\n",
    "corrcoeff_lh = np.corrcoef(lynxes,hares)\n",
    "#correlation coeff lynxes-hares with a shift of two years\n",
    "corrcoeff_lh_twoyears = np.corrcoef(hares[:(len(hares)-2)], lynxes[2:]) \n",
    "print(\"The correlation coefficient hares-carrots is:\",corrcoeff_hc[0,1])\n",
    "print(\"The correlation coefficient lynxes-carrots is:\",corrcoeff_lc[0,1])\n",
    "print(\"The correlation coefficient lynxes-hares is:\",corrcoeff_lh[0,1])\n",
    "print(\"The correlation coefficient lynxes-hares with a shift of two years is:\",corrcoeff_lh_twoyears[0,1],\"\\n\")\n",
    "\n",
    "\n",
    "\n",
    "print(\"The average of carrots population is:\", carrots_par[0],\"with standard deviation:\",carrots_par[1])\n",
    "print(\"The average of hares population is:\", hares_par[0],\"with standard deviation:\",hares_par[1])\n",
    "print(\"The average of lynxes population is:\", lynxes_par[0],\"with standard deviation:\",lynxes_par[1],\"\\n\")\n",
    "\n",
    "for year,i in zip(years,range(len(years))):\n",
    "    max_=np.max([hares[i],lynxes[i],carrots[i]])\n",
    "    if max_ == hares[i]:\n",
    "        print(\"In\", year,\"hares have the highest poulation of:\", hares[i])\n",
    "    if max_ == carrots[i]:\n",
    "        print(\"In\", year,\"carrots have the highest poulation of:\", carrots[i])\n",
    "    if max_ == lynxes[i]:\n",
    "        print(\"In\",year,\"hares have the highest poulation of:\", lynxes[i])\n",
    "    \n",
    "    "
   ]
  },
  {
   "cell_type": "code",
   "execution_count": null,
   "metadata": {},
   "outputs": [],
   "source": []
  }
 ],
 "metadata": {
  "kernelspec": {
   "display_name": "Python 3",
   "language": "python",
   "name": "python3"
  },
  "language_info": {
   "codemirror_mode": {
    "name": "ipython",
    "version": 3
   },
   "file_extension": ".py",
   "mimetype": "text/x-python",
   "name": "python",
   "nbconvert_exporter": "python",
   "pygments_lexer": "ipython3",
   "version": "3.7.6"
  }
 },
 "nbformat": 4,
 "nbformat_minor": 2
}
