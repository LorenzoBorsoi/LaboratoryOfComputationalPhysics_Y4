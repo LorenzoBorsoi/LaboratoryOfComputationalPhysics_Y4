{
 "cells": [
  {
   "cell_type": "markdown",
   "metadata": {},
   "source": [
    "### Numpy basics"
   ]
  },
  {
   "cell_type": "markdown",
   "metadata": {},
   "source": [
    "1\\. Find the row, column and overall means for the following matrix:\n",
    "\n",
    "```python\n",
    "m = np.arange(12).reshape((3,4))\n",
    "```"
   ]
  },
  {
   "cell_type": "code",
   "execution_count": 1,
   "metadata": {},
   "outputs": [
    {
     "name": "stdout",
     "output_type": "stream",
     "text": [
      "[[ 0  1  2  3]\n",
      " [ 4  5  6  7]\n",
      " [ 8  9 10 11]] \n",
      "\n",
      "Row means are:  [1.5 5.5 9.5]\n",
      "Column means are:  [4. 5. 6. 7.]\n",
      "Overall mean is:  5.5\n"
     ]
    }
   ],
   "source": [
    "#Exercise 1\n",
    "\n",
    "import numpy as np\n",
    "\n",
    "\n",
    "m = np.arange(12).reshape((3,4))\n",
    "print(m,'\\n')\n",
    "\n",
    "\n",
    "# See comment at the end of exercise.\n",
    "\n",
    "row_mean = m.mean(axis = 1) \n",
    "column_mean = m.mean(axis = 0)\n",
    "\n",
    "print('Row means are: ', row_mean)\n",
    "print('Column means are: ', column_mean)\n",
    "\n",
    "overall_mean = m.flatten().mean()\n",
    "\n",
    "print('Overall mean is: ', overall_mean)\n",
    "\n",
    "# This could confuse you (me) because axis 1 is actually the columns. \n",
    "# The reason why a mean on axis 1 is actually the mean of the rows is that we \n",
    "# \"lock in\" on a row and we do things ALONG each column (axis 1)"
   ]
  },
  {
   "cell_type": "markdown",
   "metadata": {},
   "source": [
    "2\\. Find the outer product of the following two vecotrs\n",
    "\n",
    "```python\n",
    "u = np.array([1,3,5,7])\n",
    "v = np.array([2,4,6,8])\n",
    "```\n",
    "\n",
    "Do this in the following ways:\n",
    "\n",
    "   * Using the function outer in numpy\n",
    "   * Using a nested for loop or list comprehension\n",
    "   * Using numpy broadcasting operatoins\n"
   ]
  },
  {
   "cell_type": "code",
   "execution_count": 2,
   "metadata": {},
   "outputs": [
    {
     "name": "stdout",
     "output_type": "stream",
     "text": [
      "[[ 2  4  6  8]\n",
      " [ 6 12 18 24]\n",
      " [10 20 30 40]\n",
      " [14 28 42 56]] \n",
      "\n",
      "[[ 2  4  6  8]\n",
      " [ 6 12 18 24]\n",
      " [10 20 30 40]\n",
      " [14 28 42 56]] \n",
      "\n",
      "[[ 2  4  6  8]\n",
      " [ 6 12 18 24]\n",
      " [10 20 30 40]\n",
      " [14 28 42 56]]\n"
     ]
    }
   ],
   "source": [
    "#Exercise 2\n",
    "\n",
    "u = np.array([1,3,5,7])\n",
    "v = np.array([2,4,6,8])\n",
    "\n",
    "\n",
    "#Outer function\n",
    "uXv = np.outer(u,v)\n",
    "print(uXv,'\\n')\n",
    "\n",
    "\n",
    "#List comprehension\n",
    "uXv_listcomp = np.array([[u[i]*v[j] for j in range(4)]for i in range(4)])\n",
    "print(uXv_listcomp,'\\n')\n",
    "\n",
    "\n",
    "#Broadcasting operations\n",
    "# We go from 'u' being a single line, to a (4,1) matrix by using newaxis command, \n",
    "#so now we have a (4,1) and a (1,4) (thanks to broadcasting). \n",
    "\n",
    "uXv_broad = u[:,np.newaxis] * v\n",
    "\n",
    "print(uXv_broad)"
   ]
  },
  {
   "cell_type": "markdown",
   "metadata": {},
   "source": [
    "3\\. Create a 10 by 6 matrix of random uniform numbers. Set all rows with any entry less than 0.1 to be zero\n",
    "\n",
    "Hint: Use the following numpy functions - np.random.random, np.any as well as Boolean indexing and the axis argument."
   ]
  },
  {
   "cell_type": "code",
   "execution_count": 3,
   "metadata": {},
   "outputs": [
    {
     "name": "stdout",
     "output_type": "stream",
     "text": [
      "[[0.18025493 0.92323134 0.38775544 0.05544047 0.47124577 0.89269489]\n",
      " [0.53907112 0.53875308 0.86455406 0.47024617 0.87788444 0.33199766]\n",
      " [0.37431853 0.54296839 0.27207141 0.78650584 0.16999032 0.76303889]\n",
      " [0.51068601 0.75610105 0.18836745 0.16278622 0.7500637  0.69078498]\n",
      " [0.06782709 0.71740076 0.44250982 0.2947183  0.07391077 0.54152054]\n",
      " [0.09767562 0.14557824 0.94794296 0.80781163 0.49678442 0.05795014]\n",
      " [0.55150341 0.82662088 0.94796849 0.9477571  0.45409859 0.32524094]\n",
      " [0.74662423 0.91689552 0.08531015 0.45763866 0.48434661 0.26821832]\n",
      " [0.09316878 0.20310769 0.98613809 0.65469294 0.05362364 0.20560416]\n",
      " [0.11513586 0.32734571 0.67052767 0.41583228 0.06624732 0.13192094]] \n",
      "\n",
      "[[0.         0.         0.         0.         0.         0.        ]\n",
      " [0.53907112 0.53875308 0.86455406 0.47024617 0.87788444 0.33199766]\n",
      " [0.37431853 0.54296839 0.27207141 0.78650584 0.16999032 0.76303889]\n",
      " [0.51068601 0.75610105 0.18836745 0.16278622 0.7500637  0.69078498]\n",
      " [0.         0.         0.         0.         0.         0.        ]\n",
      " [0.         0.         0.         0.         0.         0.        ]\n",
      " [0.55150341 0.82662088 0.94796849 0.9477571  0.45409859 0.32524094]\n",
      " [0.         0.         0.         0.         0.         0.        ]\n",
      " [0.         0.         0.         0.         0.         0.        ]\n",
      " [0.         0.         0.         0.         0.         0.        ]] \n",
      "\n",
      "[[0.         0.         0.         0.         0.         0.        ]\n",
      " [0.53907112 0.53875308 0.86455406 0.47024617 0.87788444 0.33199766]\n",
      " [0.37431853 0.54296839 0.27207141 0.78650584 0.16999032 0.76303889]\n",
      " [0.51068601 0.75610105 0.18836745 0.16278622 0.7500637  0.69078498]\n",
      " [0.         0.         0.         0.         0.         0.        ]\n",
      " [0.         0.         0.         0.         0.         0.        ]\n",
      " [0.55150341 0.82662088 0.94796849 0.9477571  0.45409859 0.32524094]\n",
      " [0.         0.         0.         0.         0.         0.        ]\n",
      " [0.         0.         0.         0.         0.         0.        ]\n",
      " [0.         0.         0.         0.         0.         0.        ]]\n"
     ]
    }
   ],
   "source": [
    "#Exercise 3\n",
    "\n",
    "a = np.random.uniform(0,1,(10,6))\n",
    "print(a,'\\n')\n",
    "b = a.copy() #Make a copy so that I can use 'a' also for the other solution\n",
    "\n",
    "#First solution that came to mind:\n",
    "\n",
    "for i in range(b.shape[0]):\n",
    "    for j in range(b.shape[1]):\n",
    "        if  b[i,j] < 0.1: \n",
    "            b[i] = 0\n",
    "print(b,'\\n')\n",
    "\n",
    "\n",
    "#Solution using np.any:\n",
    "\n",
    "for i in range(0,10):\n",
    "    if np.any(a[i,:]<0.1):\n",
    "        a[i,:]=0\n",
    "print(a)"
   ]
  },
  {
   "cell_type": "markdown",
   "metadata": {},
   "source": [
    "4\\. Use np.linspace to create an array of 100 numbers between 0 and 2π (includsive).\n",
    "\n",
    "  * Extract every 10th element using slice notation\n",
    "  * Reverse the array using slice notation\n",
    "  * Extract elements where the absolute difference between the sine and cosine functions evaluated at that element is less than 0.1\n",
    "  * Make a plot showing the sin and cos functions and indicate where they are close"
   ]
  },
  {
   "cell_type": "code",
   "execution_count": 4,
   "metadata": {},
   "outputs": [
    {
     "name": "stdout",
     "output_type": "stream",
     "text": [
      "Regular matrix: \n",
      "  [0.         0.06346652 0.12693304 0.19039955 0.25386607 0.31733259\n",
      " 0.38079911 0.44426563 0.50773215 0.57119866 0.63466518 0.6981317\n",
      " 0.76159822 0.82506474 0.88853126 0.95199777 1.01546429 1.07893081\n",
      " 1.14239733 1.20586385 1.26933037 1.33279688 1.3962634  1.45972992\n",
      " 1.52319644 1.58666296 1.65012947 1.71359599 1.77706251 1.84052903\n",
      " 1.90399555 1.96746207 2.03092858 2.0943951  2.15786162 2.22132814\n",
      " 2.28479466 2.34826118 2.41172769 2.47519421 2.53866073 2.60212725\n",
      " 2.66559377 2.72906028 2.7925268  2.85599332 2.91945984 2.98292636\n",
      " 3.04639288 3.10985939 3.17332591 3.23679243 3.30025895 3.36372547\n",
      " 3.42719199 3.4906585  3.55412502 3.61759154 3.68105806 3.74452458\n",
      " 3.8079911  3.87145761 3.93492413 3.99839065 4.06185717 4.12532369\n",
      " 4.1887902  4.25225672 4.31572324 4.37918976 4.44265628 4.5061228\n",
      " 4.56958931 4.63305583 4.69652235 4.75998887 4.82345539 4.88692191\n",
      " 4.95038842 5.01385494 5.07732146 5.14078798 5.2042545  5.26772102\n",
      " 5.33118753 5.39465405 5.45812057 5.52158709 5.58505361 5.64852012\n",
      " 5.71198664 5.77545316 5.83891968 5.9023862  5.96585272 6.02931923\n",
      " 6.09278575 6.15625227 6.21971879 6.28318531] \n",
      "\n",
      "Every 10th element: \n",
      " [0.57119866 1.20586385 1.84052903 2.47519421 3.10985939 3.74452458\n",
      " 4.37918976 5.01385494 5.64852012 6.28318531] \n",
      "\n",
      "Reversed array: \n",
      " [6.28318531 6.21971879 6.15625227 6.09278575 6.02931923 5.96585272\n",
      " 5.9023862  5.83891968 5.77545316 5.71198664 5.64852012 5.58505361\n",
      " 5.52158709 5.45812057 5.39465405 5.33118753 5.26772102 5.2042545\n",
      " 5.14078798 5.07732146 5.01385494 4.95038842 4.88692191 4.82345539\n",
      " 4.75998887 4.69652235 4.63305583 4.56958931 4.5061228  4.44265628\n",
      " 4.37918976 4.31572324 4.25225672 4.1887902  4.12532369 4.06185717\n",
      " 3.99839065 3.93492413 3.87145761 3.8079911  3.74452458 3.68105806\n",
      " 3.61759154 3.55412502 3.4906585  3.42719199 3.36372547 3.30025895\n",
      " 3.23679243 3.17332591 3.10985939 3.04639288 2.98292636 2.91945984\n",
      " 2.85599332 2.7925268  2.72906028 2.66559377 2.60212725 2.53866073\n",
      " 2.47519421 2.41172769 2.34826118 2.28479466 2.22132814 2.15786162\n",
      " 2.0943951  2.03092858 1.96746207 1.90399555 1.84052903 1.77706251\n",
      " 1.71359599 1.65012947 1.58666296 1.52319644 1.45972992 1.3962634\n",
      " 1.33279688 1.26933037 1.20586385 1.14239733 1.07893081 1.01546429\n",
      " 0.95199777 0.88853126 0.82506474 0.76159822 0.6981317  0.63466518\n",
      " 0.57119866 0.50773215 0.44426563 0.38079911 0.31733259 0.25386607\n",
      " 0.19039955 0.12693304 0.06346652 0.        ] \n",
      "\n",
      "Values for which the difference between sin and cos is less than 0.1 are: \n",
      " [0.76159822 0.82506474 3.87145761 3.93492413]\n"
     ]
    },
    {
     "data": {
      "image/png": "[encoded data removed]",
      "text/plain": [
       "<Figure size 432x288 with 1 Axes>"
      ]
     },
     "metadata": {
      "needs_background": "light"
     },
     "output_type": "display_data"
    }
   ],
   "source": [
    "#Exercise 4\n",
    "\n",
    "import matplotlib\n",
    "import matplotlib.pyplot as plt\n",
    "\n",
    "a = np.linspace(0,2*np.pi,100)\n",
    "print('Regular matrix: \\n ', a,'\\n')\n",
    "\n",
    "#Extract every 10th element\n",
    "print('Every 10th element: \\n', a[9::10],'\\n')\n",
    "\n",
    "#Reverse array\n",
    "print('Reversed array: \\n', a[::-1], '\\n')\n",
    "\n",
    "#Extract elements where the absolute difference between sin and cos...\n",
    "# I converted list to array at the end just because it fit into the vibe of the exercises\n",
    "b = np.array([i for i in a if np.abs(np.sin(i)-np.cos(i))<0.1])\n",
    "print('Values for which the difference between sin and cos is less than 0.1 are: \\n', b)\n",
    "\n",
    "\n",
    "#Plot\n",
    "plt.plot(a,np.sin(a),label='sin')\n",
    "plt.plot(a,np.cos(a),label='cos')\n",
    "for x_c in b:\n",
    "    plt.axvline(x=x_c,color='black',linestyle='dotted')\n",
    "matplotlib.style.use('ggplot')\n",
    "plt.legend()\n",
    "plt.show()"
   ]
  },
  {
   "cell_type": "markdown",
   "metadata": {},
   "source": [
    "5\\. Create a matrix that shows the 10 by 10 multiplication table.\n",
    "\n",
    " * Find the trace of the matrix\n",
    " * Extract the anto-diagonal (this should be ```array([10, 18, 24, 28, 30, 30, 28, 24, 18, 10])```)\n",
    " * Extract the diagnoal offset by 1 upwards (this should be ```array([ 2,  6, 12, 20, 30, 42, 56, 72, 90])```)"
   ]
  },
  {
   "cell_type": "code",
   "execution_count": 5,
   "metadata": {},
   "outputs": [
    {
     "name": "stdout",
     "output_type": "stream",
     "text": [
      "[[  1   2   3   4   5   6   7   8   9  10]\n",
      " [  2   4   6   8  10  12  14  16  18  20]\n",
      " [  3   6   9  12  15  18  21  24  27  30]\n",
      " [  4   8  12  16  20  24  28  32  36  40]\n",
      " [  5  10  15  20  25  30  35  40  45  50]\n",
      " [  6  12  18  24  30  36  42  48  54  60]\n",
      " [  7  14  21  28  35  42  49  56  63  70]\n",
      " [  8  16  24  32  40  48  56  64  72  80]\n",
      " [  9  18  27  36  45  54  63  72  81  90]\n",
      " [ 10  20  30  40  50  60  70  80  90 100]]\n",
      "Trace of matrix is:  385\n",
      "Antidiagonal is:  [10 18 24 28 30 30 28 24 18 10]\n",
      "Offset diagonal is:  [ 2  6 12 20 30 42 56 72 90]\n"
     ]
    }
   ],
   "source": [
    "#Exercise 5\n",
    "\n",
    "a = np.array([i*j for i in range(1,11) for j in range(1,11)]).reshape(10,10)\n",
    "\n",
    "print(a)\n",
    "\n",
    "print('Trace of matrix is: ', np.trace(a))\n",
    "anti_d =  np.array(np.diag(np.fliplr(a)))\n",
    "print('Antidiagonal is: ', anti_d)\n",
    "offset_d = np.array(np.diag(a, k=1))\n",
    "print('Offset diagonal is: ', offset_d)"
   ]
  },
  {
   "cell_type": "markdown",
   "metadata": {},
   "source": [
    "6\\. Use broadcasting to create a grid of distances\n",
    "\n",
    "Route 66 crosses the following cities in the US: Chicago, Springfield, Saint-Louis, Tulsa, Oklahoma City, Amarillo, Santa Fe, Albuquerque, Flagstaff, Los Angeles\n",
    "The corresponding positions in miles are: 0, 198, 303, 736, 871, 1175, 1475, 1544, 1913, 2448\n",
    "\n",
    "  * Construct a 2D grid of distances among each city along Route 66\n",
    "  * Convert that in km (those savages...)"
   ]
  },
  {
   "cell_type": "code",
   "execution_count": 6,
   "metadata": {},
   "outputs": [
    {
     "name": "stdout",
     "output_type": "stream",
     "text": [
      "2d grid of distances in miles is: \n",
      " [[   0  198  303  736  871 1175 1475 1544 1913 2448]\n",
      " [ 198    0  105  538  673  977 1277 1346 1715 2250]\n",
      " [ 303  105    0  433  568  872 1172 1241 1610 2145]\n",
      " [ 736  538  433    0  135  439  739  808 1177 1712]\n",
      " [ 871  673  568  135    0  304  604  673 1042 1577]\n",
      " [1175  977  872  439  304    0  300  369  738 1273]\n",
      " [1475 1277 1172  739  604  300    0   69  438  973]\n",
      " [1544 1346 1241  808  673  369   69    0  369  904]\n",
      " [1913 1715 1610 1177 1042  738  438  369    0  535]\n",
      " [2448 2250 2145 1712 1577 1273  973  904  535    0]] \n",
      "\n",
      "2d grid of distances in km is: \n",
      " [[   0.    318.65  487.63 1184.47 1401.74 1890.97 2373.78 2484.82 3078.67\n",
      "  3939.66]\n",
      " [ 318.65    0.    168.98  865.82 1083.09 1572.33 2055.13 2166.17 2760.02\n",
      "  3621.02]\n",
      " [ 487.63  168.98    0.    696.84  914.11 1403.34 1886.15 1997.19 2591.04\n",
      "  3452.03]\n",
      " [1184.47  865.82  696.84    0.    217.26  706.5  1189.3  1300.35 1894.19\n",
      "  2755.19]\n",
      " [1401.74 1083.09  914.11  217.26    0.    489.24  972.04 1083.09 1676.93\n",
      "  2537.93]\n",
      " [1890.97 1572.33 1403.34  706.5   489.24    0.    482.8   593.85 1187.69\n",
      "  2048.69]\n",
      " [2373.78 2055.13 1886.15 1189.3   972.04  482.8     0.    111.04  704.89\n",
      "  1565.89]\n",
      " [2484.82 2166.17 1997.19 1300.35 1083.09  593.85  111.04    0.    593.85\n",
      "  1454.84]\n",
      " [3078.67 2760.02 2591.04 1894.19 1676.93 1187.69  704.89  593.85    0.\n",
      "   861.  ]\n",
      " [3939.66 3621.02 3452.03 2755.19 2537.93 2048.69 1565.89 1454.84  861.\n",
      "     0.  ]] \n",
      "\n"
     ]
    }
   ],
   "source": [
    "#Exercise 6\n",
    "\n",
    "#Without broadcasting, next cell is WITH broadcasting\n",
    "\n",
    "cities = ['Chicago', 'Springfield', 'Saint-Louis', 'Tulsa', 'Oklahoma City', 'Amarillo', 'Santa Fe', 'Albuquerque', 'Flagstaff', 'Los Angeles']\n",
    "miles_from_origin = np.array([0, 198, 303, 736, 871, 1175, 1475, 1544, 1913, 2448])\n",
    "\n",
    "dist = []\n",
    "for j in miles_from_origin:\n",
    "    for i in miles_from_origin:\n",
    "        dist.append(abs(j-i))\n",
    "        \n",
    "grid_route_66 = np.array(dist).reshape(len(miles_from_origin),len(miles_from_origin))\n",
    "\n",
    "print('2d grid of distances in miles is: \\n', grid_route_66,'\\n')\n",
    "\n",
    "print('2d grid of distances in km is: \\n', np.round(grid_route_66* 1.60934,2),'\\n')"
   ]
  },
  {
   "cell_type": "code",
   "execution_count": 7,
   "metadata": {},
   "outputs": [
    {
     "name": "stdout",
     "output_type": "stream",
     "text": [
      "2d grid of distances in miles is: \n",
      " [[   0  198  303  736  871 1175 1475 1544 1913 2448]\n",
      " [ 198    0  105  538  673  977 1277 1346 1715 2250]\n",
      " [ 303  105    0  433  568  872 1172 1241 1610 2145]\n",
      " [ 736  538  433    0  135  439  739  808 1177 1712]\n",
      " [ 871  673  568  135    0  304  604  673 1042 1577]\n",
      " [1175  977  872  439  304    0  300  369  738 1273]\n",
      " [1475 1277 1172  739  604  300    0   69  438  973]\n",
      " [1544 1346 1241  808  673  369   69    0  369  904]\n",
      " [1913 1715 1610 1177 1042  738  438  369    0  535]\n",
      " [2448 2250 2145 1712 1577 1273  973  904  535    0]] \n",
      "\n",
      "2d grid of distances in km is: \n",
      " [[   0.    318.65  487.63 1184.47 1401.74 1890.97 2373.78 2484.82 3078.67\n",
      "  3939.66]\n",
      " [ 318.65    0.    168.98  865.82 1083.09 1572.33 2055.13 2166.17 2760.02\n",
      "  3621.02]\n",
      " [ 487.63  168.98    0.    696.84  914.11 1403.34 1886.15 1997.19 2591.04\n",
      "  3452.03]\n",
      " [1184.47  865.82  696.84    0.    217.26  706.5  1189.3  1300.35 1894.19\n",
      "  2755.19]\n",
      " [1401.74 1083.09  914.11  217.26    0.    489.24  972.04 1083.09 1676.93\n",
      "  2537.93]\n",
      " [1890.97 1572.33 1403.34  706.5   489.24    0.    482.8   593.85 1187.69\n",
      "  2048.69]\n",
      " [2373.78 2055.13 1886.15 1189.3   972.04  482.8     0.    111.04  704.89\n",
      "  1565.89]\n",
      " [2484.82 2166.17 1997.19 1300.35 1083.09  593.85  111.04    0.    593.85\n",
      "  1454.84]\n",
      " [3078.67 2760.02 2591.04 1894.19 1676.93 1187.69  704.89  593.85    0.\n",
      "   861.  ]\n",
      " [3939.66 3621.02 3452.03 2755.19 2537.93 2048.69 1565.89 1454.84  861.\n",
      "     0.  ]] \n",
      "\n"
     ]
    }
   ],
   "source": [
    "#Exercise 6\n",
    "\n",
    "#With broadcasting\n",
    "\n",
    "cities = ['Chicago', 'Springfield', 'Saint-Louis', 'Tulsa', 'Oklahoma City', 'Amarillo', 'Santa Fe', 'Albuquerque', 'Flagstaff', 'Los Angeles']\n",
    "miles_from_origin = np.array([0, 198, 303, 736, 871, 1175, 1475, 1544, 1913, 2448])\n",
    "\n",
    "miles_from_origin_row = miles_from_origin[np.newaxis, :]\n",
    "\n",
    "miles_from_origin_column = miles_from_origin[:, np.newaxis] \n",
    "\n",
    "        \n",
    "grid_route_66 = abs(miles_from_origin_row - miles_from_origin_column)\n",
    "\n",
    "print('2d grid of distances in miles is: \\n', grid_route_66,'\\n')\n",
    "\n",
    "print('2d grid of distances in km is: \\n', np.round(grid_route_66* 1.60934,2),'\\n')"
   ]
  },
  {
   "cell_type": "markdown",
   "metadata": {},
   "source": [
    "7\\. Prime numbers sieve: compute the prime numbers in the 0-N (N=99 to start with) range with a sieve (mask).\n",
    "  * Constract a shape (100,) boolean array, the mask\n",
    "  * Identify the multiples of each number starting from 2 and set accordingly the corresponding mask element\n",
    "  * Apply the mask to obtain an array of ordered prime numbers\n",
    "  * Check the performances (timeit); how does it scale with N?\n",
    "  * Implement the optimization suggested in the [sieve of Eratosthenes](https://en.wikipedia.org/wiki/Sieve_of_Eratosthenes)"
   ]
  },
  {
   "cell_type": "code",
   "execution_count": 8,
   "metadata": {},
   "outputs": [
    {
     "name": "stdout",
     "output_type": "stream",
     "text": [
      "Prime numbers (0-99) are with homemade method: [ 2  3  5  7 11 13 17 19 23 29 31 37 41 43 47 53 59 61 67 71 73 79 83 89\n",
      " 97]\n",
      "Prime numbers (0-99) are with sieve of Eratosthenes: [ 2  3  5  7 11 13 17 19 23 29 31 37 41 43 47 53 59 61 67 71 73 79 83 89\n",
      " 97]\n"
     ]
    },
    {
     "data": {
      "image/png": "[encoded data removed]",
      "text/plain": [
       "<Figure size 432x288 with 1 Axes>"
      ]
     },
     "metadata": {},
     "output_type": "display_data"
    }
   ],
   "source": [
    "#Exercise 7\n",
    "\n",
    "import time #Doubts regarding the accuracy of time library...\n",
    "\n",
    "\n",
    "\n",
    "def primes(N):\n",
    "    t_0 = time.time()\n",
    "    num = np.arange(N)\n",
    "    mask = np.array(num, dtype = bool)\n",
    "    mask[:2] = 0\n",
    "    for i in range(0,N):\n",
    "        for j in range(2,(i//2)+1):\n",
    "            if (num[i] % j == 0 ):\n",
    "                mask[i]=False\n",
    "    t_f = time.time()\n",
    "    return num[mask], t_f-t_0\n",
    "\n",
    "\n",
    "def era(N):\n",
    "    t_0 = time.time()\n",
    "    num = np.arange(N)\n",
    "    mask = np.array(num, dtype = bool)\n",
    "    mask[:2] = 0\n",
    "    for i in range(2,int(np.sqrt(N))+1):\n",
    "        if mask[i] == True: \n",
    "            for j in range(i**2, N, i): \n",
    "                mask[j] = False\n",
    "    t_f = time.time()\n",
    "    return num[mask], t_f-t_0\n",
    "\n",
    "print('Prime numbers (0-99) are with homemade method:',primes(100)[0])\n",
    "print('Prime numbers (0-99) are with sieve of Eratosthenes:', era(100)[0])\n",
    "\n",
    "\n",
    "ex_time_homemade = []\n",
    "for i in range(100,5000,300):\n",
    "    ex_time_homemade.append(primes(i)[1])\n",
    "\n",
    "ex_time_era = []\n",
    "for i in range(100,5000,300):\n",
    "    ex_time_era.append(era(i)[1])\n",
    "\n",
    "\n",
    "n_array = np.array([j for j in range(100,5000,300)])\n",
    "\n",
    "\n",
    "fig = plt.figure()\n",
    "ax1 = fig.add_subplot()\n",
    "ax1.set_xlabel('N')\n",
    "ax1.set_ylabel('time(s)')\n",
    "ax1.set_title('Time performance of different prime locators up to N')\n",
    "plt.plot(n_array, ex_time_homemade,label='Homemade')\n",
    "plt.plot(n_array, ex_time_era, label = 'Eratosthenes')\n",
    "plt.legend()\n",
    "plt.show()\n"
   ]
  },
  {
   "cell_type": "markdown",
   "metadata": {},
   "source": [
    "**N.B. the following exercises are meant to be solved only if you are familiar with the numpy random library. If not you can skip them (postponed for one of the next exercise sessions)**\n"
   ]
  },
  {
   "cell_type": "markdown",
   "metadata": {},
   "source": [
    "8\\. Diffusion using random walk\n",
    "\n",
    "Consider a simple random walk process: at each step in time, a walker jumps right or left (+1 or -1) with equal probability. The goal is to find the typical distance from the origin of a random walker after a given amount of time. \n",
    "To do that, let's simulate many walkers and create a 2D array with each walker as a raw and the actual time evolution as columns\n",
    "\n",
    "  * Take 1000 walkers and let them walk for 200 steps\n",
    "  * Use randint to create a 2D array of size walkers x steps with values -1 or 1\n",
    "  * Build the actual walking distances for each walker (i.e. another 2D array \"summing on each raw\")\n",
    "  * Take the square of that 2D array (elementwise)\n",
    "  * Compute the mean of the squared distances at each step (i.e. the mean along the columns)\n",
    "  * Plot the average distances (sqrt(distance\\*\\*2)) as a function of time (step)\n",
    "  \n",
    "Did you get what you expected?"
   ]
  },
  {
   "cell_type": "code",
   "execution_count": 9,
   "metadata": {},
   "outputs": [
    {
     "data": {
      "image/png": "[encoded data removed]",
      "text/plain": [
       "<Figure size 432x288 with 1 Axes>"
      ]
     },
     "metadata": {},
     "output_type": "display_data"
    },
    {
     "name": "stdout",
     "output_type": "stream",
     "text": [
      "Result is consistent with the theory of random walks in 1D.\n",
      " Avg_distance goes like sqrt(NumSteps)\n"
     ]
    }
   ],
   "source": [
    "#Exercise 8\n",
    "\n",
    "w = 1000\n",
    "num_step = 200\n",
    "\n",
    "a = np.random.choice([-1,1],size=(w, num_step))\n",
    "#Each walker is a row so we calculate how much he moved from the starting position by summing\n",
    "#on the row, we want to use 'cumsum' not sum (this way we know step by step how much each walker has walked)\n",
    "\n",
    "#Remember from exercise 1 the trickyness of axis 0 and axis 1.\n",
    "\n",
    "\n",
    "#Cumulative distance of walker(row)\n",
    "#-->We look at each row and do \"things\" on all its columns (axis 1)\n",
    "step_dist = np.cumsum(a, axis = 1)\n",
    "square_step_dist = step_dist**2\n",
    "\n",
    "#Mean square distance of all the walkers at each step\n",
    "#--> we look at each column and do things on all its rows (axis 0)\n",
    "meansquare = np.mean(square_step_dist, axis = 0)\n",
    "avg_dist = np.sqrt(meansquare) #root mean square, aka 'standard deviation'\n",
    "\n",
    "plt.plot(np.arange(num_step),avg_dist, label = 'Walker average distance')\n",
    "plt.plot(np.arange(num_step), np.sqrt(np.arange(num_step)), label = 'sqrt(NumSteps)',linestyle = 'dotted')\n",
    "matplotlib.style.use('ggplot')\n",
    "plt.legend()\n",
    "plt.show()\n",
    "\n",
    "print('Result is consistent with the theory of random walks in 1D.\\n Avg_distance goes like sqrt(NumSteps)')"
   ]
  },
  {
   "cell_type": "markdown",
   "metadata": {},
   "source": [
    "9\\. Analyze a data file \n",
    "  * Download the population of hares, lynxes and carrots at the beginning of the last century.\n",
    "    ```python\n",
    "    ! wget https://www.dropbox.com/s/3vigxoqayo389uc/populations.txt\n",
    "    ```\n",
    "\n",
    "  * Check the content by looking within the file\n",
    "  * Load the data (use an appropriate numpy method) into a 2D array\n",
    "  * Create arrays out of the columns, the arrays being (in order): *year*, *hares*, *lynxes*, *carrots* \n",
    "  * Plot the 3 populations over the years\n",
    "  * Compute the main statistical properties of the dataset (mean, std, correlations, etc.)\n",
    "  * Which species has the highest population each year?\n",
    "\n",
    "Do you feel there is some evident correlation here? [Studies](https://www.enr.gov.nt.ca/en/services/lynx/lynx-snowshoe-hare-cycle) tend to believe so."
   ]
  },
  {
   "cell_type": "code",
   "execution_count": 10,
   "metadata": {},
   "outputs": [
    {
     "data": {
      "image/png": "[encoded data removed]",
      "text/plain": [
       "<Figure size 432x288 with 1 Axes>"
      ]
     },
     "metadata": {},
     "output_type": "display_data"
    }
   ],
   "source": [
    "#Exercise 9\n",
    "\n",
    "a = np.loadtxt(\"./populations.txt\").astype('int')\n",
    "year = np.array(a[:,0])\n",
    "hares = np.array(a[:,1])\n",
    "lynxes = np.array(a[:,2])\n",
    "carrots = np.array(a[:,3])\n",
    "\n",
    "plt.plot(year, hares, color = 'brown', label = 'hares')\n",
    "plt.plot(year, lynxes, color = 'blue', label = 'lynxes')\n",
    "plt.plot(year, carrots, color = 'orange', label = 'carrots')\n",
    "matplotlib.style.use('ggplot')\n",
    "plt.legend()\n",
    "plt.show()"
   ]
  },
  {
   "cell_type": "code",
   "execution_count": 11,
   "metadata": {},
   "outputs": [
    {
     "name": "stdout",
     "output_type": "stream",
     "text": [
      "Mean population of hares, lynxes, and carrots respectively:  [34081. 20167. 42400.] \n",
      "\n",
      "Standard deviation in population of hares, lynxes, and carrots respectively:  [20898. 16255.  3323.] \n",
      "\n",
      "The correlation matrix between the populations (entry 0 is Hares, entry 1 is Lynxes, entry 2 is Carrots) is:\n",
      " [[ 1.          0.07189206 -0.01660378]\n",
      " [ 0.07189206  1.         -0.68057717]\n",
      " [-0.01660378 -0.68057717  1.        ]] \n",
      "\n",
      "Highest population each year:  (in a numpy array format because of the vibe of these exercises)\n",
      "[['1900' 'Carrots']\n",
      " ['1901' 'Carrots']\n",
      " ['1902' 'Hares']\n",
      " ['1903' 'Hares']\n",
      " ['1904' 'Lynxes']\n",
      " ['1905' 'Lynxes']\n",
      " ['1906' 'Carrots']\n",
      " ['1907' 'Carrots']\n",
      " ['1908' 'Carrots']\n",
      " ['1909' 'Carrots']\n",
      " ['1910' 'Carrots']\n",
      " ['1911' 'Carrots']\n",
      " ['1912' 'Hares']\n",
      " ['1913' 'Hares']\n",
      " ['1914' 'Hares']\n",
      " ['1915' 'Lynxes']\n",
      " ['1916' 'Carrots']\n",
      " ['1917' 'Carrots']\n",
      " ['1918' 'Carrots']\n",
      " ['1919' 'Carrots']\n",
      " ['1920' 'Carrots']]\n"
     ]
    }
   ],
   "source": [
    "#Exercise 9\n",
    "\n",
    "#statistical properties\n",
    "\n",
    "pop_matrix = np.delete(a,0,axis = 1) #We drop the year column\n",
    "mean = np.mean(pop_matrix,axis = 0)\n",
    "std = np.std(pop_matrix, axis = 0)\n",
    "#We use np.round to approximate to nearest integer --> You can't have HALF a hare (not while it's alive)\n",
    "print('Mean population of hares, lynxes, and carrots respectively: ', np.round(mean, 0), '\\n')\n",
    "print('Standard deviation in population of hares, lynxes, and carrots respectively: ', np.round(std, 0), '\\n')\n",
    "\n",
    "print('The correlation matrix between the populations (entry 0 is Hares, entry 1 is Lynxes, entry 2 is Carrots) is:\\n', np.corrcoef([hares,lynxes,carrots]),'\\n')\n",
    "\n",
    "\n",
    "\n",
    "\n",
    "\n",
    "#Max population each year: we loop over the rows and get the maximum\n",
    "#max_val = np.amax(pop_matrix, axis = 1)\n",
    "#print(max_val)                ---> This is fine but i don't know the correspondence max_pop <-> type_of_pop\n",
    "\n",
    "#So my next idea is kind of \"brute force\"\n",
    "\n",
    "print('Highest population each year: ','(in a numpy array format because of the vibe of these exercises)')\n",
    "max_pop = []\n",
    "for i in range(len(year)):\n",
    "    if hares[i] > lynxes[i] and hares[i] > carrots[i]: \n",
    "        max_pop.append('Hares')\n",
    "    elif lynxes[i] > hares[i] and lynxes[i] > carrots[i]: \n",
    "        max_pop.append('Lynxes')\n",
    "    else:\n",
    "        max_pop.append('Carrots')\n",
    "        \n",
    "print(np.column_stack((year,np.array(max_pop))))"
   ]
  },
  {
   "cell_type": "code",
   "execution_count": null,
   "metadata": {},
   "outputs": [],
   "source": []
  }
 ],
 "metadata": {
  "kernelspec": {
   "display_name": "Python 3",
   "language": "python",
   "name": "python3"
  },
  "language_info": {
   "codemirror_mode": {
    "name": "ipython",
    "version": 3
   },
   "file_extension": ".py",
   "mimetype": "text/x-python",
   "name": "python",
   "nbconvert_exporter": "python",
   "pygments_lexer": "ipython3",
   "version": "3.8.10"
  }
 },
 "nbformat": 4,
 "nbformat_minor": 2
}
