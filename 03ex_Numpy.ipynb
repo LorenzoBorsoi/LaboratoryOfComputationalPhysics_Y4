{
 "cells": [
  {
   "cell_type": "markdown",
   "metadata": {},
   "source": [
    "### Numpy basics"
   ]
  },
  {
   "cell_type": "markdown",
   "metadata": {},
   "source": [
    "1\\. Find the row, column and overall means for the following matrix:\n",
    "\n",
    "```python\n",
    "m = np.arange(12).reshape((3,4))\n",
    "```"
   ]
  },
  {
   "cell_type": "code",
   "execution_count": 1,
   "metadata": {},
   "outputs": [],
   "source": [
    "import numpy as np"
   ]
  },
  {
   "cell_type": "code",
   "execution_count": 2,
   "metadata": {},
   "outputs": [
    {
     "name": "stdout",
     "output_type": "stream",
     "text": [
      "[[ 0  1  2  3]\n",
      " [ 4  5  6  7]\n",
      " [ 8  9 10 11]]\n",
      "Row mean: [4. 5. 6. 7.]\n",
      "Col mena: [1.5 5.5 9.5]\n",
      "All mean: 5.5\n"
     ]
    }
   ],
   "source": [
    "m = np.arange(12).reshape((3,4))\n",
    "print(m)\n",
    "\n",
    "row_mean = np.mean(m, axis=0)\n",
    "col_mean = np.mean(m, axis=1)\n",
    "all_mean = np.mean(m)\n",
    "\n",
    "print('Row mean:',row_mean)\n",
    "print('Col mena:',col_mean)\n",
    "print('All mean:',all_mean)"
   ]
  },
  {
   "cell_type": "markdown",
   "metadata": {},
   "source": [
    "2\\. Find the outer product of the following two vecotrs\n",
    "\n",
    "```python\n",
    "u = np.array([1,3,5,7])\n",
    "v = np.array([2,4,6,8])\n",
    "```\n",
    "\n",
    "Do this in the following ways:\n",
    "\n",
    "   * Using the function outer in numpy\n",
    "   * Using a nested for loop or list comprehension\n",
    "   * Using numpy broadcasting operatoins\n"
   ]
  },
  {
   "cell_type": "code",
   "execution_count": 24,
   "metadata": {},
   "outputs": [
    {
     "name": "stdout",
     "output_type": "stream",
     "text": [
      "[[ 2  4  6  8]\n",
      " [ 6 12 18 24]\n",
      " [10 20 30 40]\n",
      " [14 28 42 56]]\n",
      "[[ 2  4  6  8]\n",
      " [ 6 12 18 24]\n",
      " [10 20 30 40]\n",
      " [14 28 42 56]]\n",
      "[[ 2  4  6  8]\n",
      " [ 6 12 18 24]\n",
      " [10 20 30 40]\n",
      " [14 28 42 56]]\n"
     ]
    }
   ],
   "source": [
    "u = np.array([1,3,5,7])\n",
    "v = np.array([2,4,6,8])\n",
    "\n",
    "outer_prod_1 = np.outer(u,v)\n",
    "outer_prod_2 = np.array([[u[i]*v[j] for j in range(4)] for i in range(4)])\n",
    "outer_prod_3 = np.reshape(u,(4,1))*np.reshape(v,(1,4))\n",
    "\n",
    "print(outer_prod_1)\n",
    "print(outer_prod_2)\n",
    "print(outer_prod_3)"
   ]
  },
  {
   "cell_type": "markdown",
   "metadata": {},
   "source": [
    "3\\. Create a 10 by 6 matrix of random uniform numbers. Set all rows with any entry less than 0.1 to be zero\n",
    "\n",
    "Hint: Use the following numpy functions - np.random.random, np.any as well as Boolean indexing and the axis argument."
   ]
  },
  {
   "cell_type": "code",
   "execution_count": 25,
   "metadata": {},
   "outputs": [
    {
     "name": "stdout",
     "output_type": "stream",
     "text": [
      "Matrix m:\n",
      "[[0.82904596 0.84970306 0.88706415 0.22652169 0.62821493 0.62818579]\n",
      " [0.5238859  0.09196016 0.0156363  0.01770526 0.40549168 0.03037448]\n",
      " [0.72213332 0.43795341 0.92377293 0.26077838 0.70923298 0.3663908 ]\n",
      " [0.15168726 0.78854442 0.48641696 0.13593932 0.05352769 0.4340829 ]\n",
      " [0.59873519 0.79658656 0.96366071 0.56784536 0.12782049 0.99466251]\n",
      " [0.12412674 0.47258465 0.82265174 0.97746326 0.73505465 0.48444588]\n",
      " [0.57731233 0.04770902 0.00581421 0.15465051 0.81564408 0.76987993]\n",
      " [0.51534992 0.99661606 0.76585454 0.63808647 0.28024503 0.50753738]\n",
      " [0.70099056 0.23171238 0.10458659 0.18802688 0.12532189 0.58481528]\n",
      " [0.83565767 0.48011835 0.50630316 0.9846161  0.5720964  0.30133648]]\n",
      "\n",
      "Matrix m after manipulation:\n",
      "[[0.82904596 0.84970306 0.88706415 0.22652169 0.62821493 0.62818579]\n",
      " [0.5238859  0.         0.         0.         0.40549168 0.        ]\n",
      " [0.72213332 0.43795341 0.92377293 0.26077838 0.70923298 0.3663908 ]\n",
      " [0.15168726 0.78854442 0.48641696 0.13593932 0.         0.4340829 ]\n",
      " [0.59873519 0.79658656 0.96366071 0.56784536 0.12782049 0.99466251]\n",
      " [0.12412674 0.47258465 0.82265174 0.97746326 0.73505465 0.48444588]\n",
      " [0.57731233 0.         0.         0.15465051 0.81564408 0.76987993]\n",
      " [0.51534992 0.99661606 0.76585454 0.63808647 0.28024503 0.50753738]\n",
      " [0.70099056 0.23171238 0.10458659 0.18802688 0.12532189 0.58481528]\n",
      " [0.83565767 0.48011835 0.50630316 0.9846161  0.5720964  0.30133648]]\n"
     ]
    }
   ],
   "source": [
    "m = np.random.rand(10, 6)\n",
    "print('Matrix m:')\n",
    "print(m)\n",
    "m[(m < 0.1)] = 0\n",
    "print('\\nMatrix m after manipulation:')\n",
    "print(m)"
   ]
  },
  {
   "cell_type": "markdown",
   "metadata": {},
   "source": [
    "4\\. Use np.linspace to create an array of 100 numbers between 0 and 2π (includsive).\n",
    "\n",
    "  * Extract every 10th element using slice notation\n",
    "  * Reverse the array using slice notation\n",
    "  * Extract elements where the absolute difference between the sine and cosine functions evaluated at that element is less than 0.1\n",
    "  * Make a plot showing the sin and cos functions and indicate where they are close"
   ]
  },
  {
   "cell_type": "code",
   "execution_count": 26,
   "metadata": {},
   "outputs": [],
   "source": [
    "import matplotlib.pyplot as plt"
   ]
  },
  {
   "cell_type": "code",
   "execution_count": 27,
   "metadata": {},
   "outputs": [
    {
     "name": "stdout",
     "output_type": "stream",
     "text": [
      "[0.         0.06346652 0.12693304 0.19039955 0.25386607 0.31733259\n",
      " 0.38079911 0.44426563 0.50773215 0.57119866 0.63466518 0.6981317\n",
      " 0.76159822 0.82506474 0.88853126 0.95199777 1.01546429 1.07893081\n",
      " 1.14239733 1.20586385 1.26933037 1.33279688 1.3962634  1.45972992\n",
      " 1.52319644 1.58666296 1.65012947 1.71359599 1.77706251 1.84052903\n",
      " 1.90399555 1.96746207 2.03092858 2.0943951  2.15786162 2.22132814\n",
      " 2.28479466 2.34826118 2.41172769 2.47519421 2.53866073 2.60212725\n",
      " 2.66559377 2.72906028 2.7925268  2.85599332 2.91945984 2.98292636\n",
      " 3.04639288 3.10985939 3.17332591 3.23679243 3.30025895 3.36372547\n",
      " 3.42719199 3.4906585  3.55412502 3.61759154 3.68105806 3.74452458\n",
      " 3.8079911  3.87145761 3.93492413 3.99839065 4.06185717 4.12532369\n",
      " 4.1887902  4.25225672 4.31572324 4.37918976 4.44265628 4.5061228\n",
      " 4.56958931 4.63305583 4.69652235 4.75998887 4.82345539 4.88692191\n",
      " 4.95038842 5.01385494 5.07732146 5.14078798 5.2042545  5.26772102\n",
      " 5.33118753 5.39465405 5.45812057 5.52158709 5.58505361 5.64852012\n",
      " 5.71198664 5.77545316 5.83891968 5.9023862  5.96585272 6.02931923\n",
      " 6.09278575 6.15625227 6.21971879 6.28318531]\n",
      "[0.57119866 1.20586385 1.84052903 2.47519421 3.10985939 3.74452458\n",
      " 4.37918976 5.01385494 5.64852012 6.28318531]\n",
      "[6.28318531 6.21971879 6.15625227 6.09278575 6.02931923 5.96585272\n",
      " 5.9023862  5.83891968 5.77545316 5.71198664 5.64852012 5.58505361\n",
      " 5.52158709 5.45812057 5.39465405 5.33118753 5.26772102 5.2042545\n",
      " 5.14078798 5.07732146 5.01385494 4.95038842 4.88692191 4.82345539\n",
      " 4.75998887 4.69652235 4.63305583 4.56958931 4.5061228  4.44265628\n",
      " 4.37918976 4.31572324 4.25225672 4.1887902  4.12532369 4.06185717\n",
      " 3.99839065 3.93492413 3.87145761 3.8079911  3.74452458 3.68105806\n",
      " 3.61759154 3.55412502 3.4906585  3.42719199 3.36372547 3.30025895\n",
      " 3.23679243 3.17332591 3.10985939 3.04639288 2.98292636 2.91945984\n",
      " 2.85599332 2.7925268  2.72906028 2.66559377 2.60212725 2.53866073\n",
      " 2.47519421 2.41172769 2.34826118 2.28479466 2.22132814 2.15786162\n",
      " 2.0943951  2.03092858 1.96746207 1.90399555 1.84052903 1.77706251\n",
      " 1.71359599 1.65012947 1.58666296 1.52319644 1.45972992 1.3962634\n",
      " 1.33279688 1.26933037 1.20586385 1.14239733 1.07893081 1.01546429\n",
      " 0.95199777 0.88853126 0.82506474 0.76159822 0.6981317  0.63466518\n",
      " 0.57119866 0.50773215 0.44426563 0.38079911 0.31733259 0.25386607\n",
      " 0.19039955 0.12693304 0.06346652 0.        ]\n",
      "[0.76159822 0.82506474 3.87145761 3.93492413]\n"
     ]
    }
   ],
   "source": [
    "\n",
    "a = np.linspace(0, 2*np.pi, 100, endpoint=True)\n",
    "print(a)\n",
    "\n",
    "a_1 = a[9::10]\n",
    "print(a_1)\n",
    "\n",
    "a_2 = a[::-1]\n",
    "print(a_2)\n",
    "\n",
    "a_bool = (np.abs(np.sin(a)-np.cos(a)) < 0.1)\n",
    "a_3 = a[a_bool]\n",
    "print(a_3)"
   ]
  },
  {
   "cell_type": "code",
   "execution_count": 28,
   "metadata": {},
   "outputs": [
    {
     "data": {
      "image/png": "[encoded data removed]",
      "text/plain": [
       "<Figure size 432x288 with 1 Axes>"
      ]
     },
     "metadata": {
      "needs_background": "light"
     },
     "output_type": "display_data"
    }
   ],
   "source": [
    "sin_pi4 = np.sin(np.pi/4)\n",
    "plt.clf()\n",
    "plt.plot(a,np.sin(a),'o',markersize=0.5,label='sin(x)')\n",
    "plt.plot(a,np.cos(a),'o',markersize=0.5,label='cos(x)')\n",
    "plt.plot((0,2*np.pi),(sin_pi4+0.05,sin_pi4+0.05))\n",
    "plt.plot((0,2*np.pi),(sin_pi4-0.05,sin_pi4-0.05))\n",
    "plt.plot((0,2*np.pi),(-sin_pi4+0.05,-sin_pi4+0.05))\n",
    "plt.plot((0,2*np.pi),(-sin_pi4-0.05,-sin_pi4-0.05))\n",
    "plt.ylim(-1.5,1.5)\n",
    "plt.grid()\n",
    "plt.legend()\n",
    "plt.show()"
   ]
  },
  {
   "cell_type": "markdown",
   "metadata": {},
   "source": [
    "5\\. Create a matrix that shows the 10 by 10 multiplication table.\n",
    "\n",
    " * Find the trace of the matrix\n",
    " * Extract the anto-diagonal (this should be ```array([10, 18, 24, 28, 30, 30, 28, 24, 18, 10])```)\n",
    " * Extract the diagnoal offset by 1 upwards (this should be ```array([ 2,  6, 12, 20, 30, 42, 56, 72, 90])```)"
   ]
  },
  {
   "cell_type": "code",
   "execution_count": 29,
   "metadata": {},
   "outputs": [
    {
     "name": "stdout",
     "output_type": "stream",
     "text": [
      "[[  1   2   3   4   5   6   7   8   9  10]\n",
      " [  2   4   6   8  10  12  14  16  18  20]\n",
      " [  3   6   9  12  15  18  21  24  27  30]\n",
      " [  4   8  12  16  20  24  28  32  36  40]\n",
      " [  5  10  15  20  25  30  35  40  45  50]\n",
      " [  6  12  18  24  30  36  42  48  54  60]\n",
      " [  7  14  21  28  35  42  49  56  63  70]\n",
      " [  8  16  24  32  40  48  56  64  72  80]\n",
      " [  9  18  27  36  45  54  63  72  81  90]\n",
      " [ 10  20  30  40  50  60  70  80  90 100]]\n",
      "385\n",
      "[10 18 24 28 30 30 28 24 18 10]\n",
      "[[ 2  3  4  5  6  7  8  9 10]\n",
      " [ 4  6  8 10 12 14 16 18 20]\n",
      " [ 6  9 12 15 18 21 24 27 30]\n",
      " [ 8 12 16 20 24 28 32 36 40]\n",
      " [10 15 20 25 30 35 40 45 50]\n",
      " [12 18 24 30 36 42 48 54 60]\n",
      " [14 21 28 35 42 49 56 63 70]\n",
      " [16 24 32 40 48 56 64 72 80]\n",
      " [18 27 36 45 54 63 72 81 90]]\n",
      "[ 2  6 12 20 30 42 56 72 90]\n"
     ]
    }
   ],
   "source": [
    "vector = np.linspace(1,10,10,endpoint=True,dtype=np.int32)\n",
    "matrix = np.outer(vector,vector)\n",
    "\n",
    "print(matrix)\n",
    "\n",
    "trace = np.trace(matrix)\n",
    "print(trace)\n",
    "\n",
    "diag = np.diag(np.fliplr(matrix))\n",
    "print(diag)\n",
    "\n",
    "matrix_2 = matrix[:-1,1:]\n",
    "print(matrix_2)\n",
    "diag_2 = np.diag(matrix_2)\n",
    "print(diag_2)"
   ]
  },
  {
   "cell_type": "markdown",
   "metadata": {},
   "source": [
    "6\\. Use broadcasting to create a grid of distances\n",
    "\n",
    "Route 66 crosses the following cities in the US: Chicago, Springfield, Saint-Louis, Tulsa, Oklahoma City, Amarillo, Santa Fe, Albuquerque, Flagstaff, Los Angeles\n",
    "The corresponding positions in miles are: 0, 198, 303, 736, 871, 1175, 1475, 1544, 1913, 2448\n",
    "\n",
    "  * Construct a 2D grid of distances among each city along Route 66\n",
    "  * Convert that in km (those savages...)"
   ]
  },
  {
   "cell_type": "code",
   "execution_count": 30,
   "metadata": {},
   "outputs": [
    {
     "name": "stdout",
     "output_type": "stream",
     "text": [
      "[[    0.   198.   501.  1237.  2108.  3283.  4758.  6302.  8215. 10663.]\n",
      " [  198.     0.   501.  1237.  2108.  3283.  4758.  6302.  8215. 10663.]\n",
      " [  501.   501.     0.  1039.  1910.  3085.  4560.  6104.  8017. 10465.]\n",
      " [ 1237.  1237.  1039.     0.  1607.  2782.  4257.  5801.  7714. 10162.]\n",
      " [ 2108.  2108.  1910.  1607.     0.  2046.  3521.  5065.  6978.  9426.]\n",
      " [ 3283.  3283.  3085.  2782.  2046.     0.  2650.  4194.  6107.  8555.]\n",
      " [ 4758.  4758.  4560.  4257.  3521.  2650.     0.  3019.  4932.  7380.]\n",
      " [ 6302.  6302.  6104.  5801.  5065.  4194.  3019.     0.  3457.  5905.]\n",
      " [ 8215.  8215.  8017.  7714.  6978.  6107.  4932.  3457.     0.  4361.]\n",
      " [10663. 10663. 10465. 10162.  9426.  8555.  7380.  5905.  4361.     0.]]\n",
      "[[    0.           318.6507234    806.28289103  1990.76234772\n",
      "   3392.50366126  5283.48648953  7657.27344416 10142.10534786\n",
      "  13220.78632699 17160.46799813]\n",
      " [  318.6507234      0.           806.28289103  1990.76234772\n",
      "   3392.50366126  5283.48648953  7657.27344416 10142.10534786\n",
      "  13220.78632699 17160.46799813]\n",
      " [  806.28289103   806.28289103     0.          1672.11162431\n",
      "   3073.85293786  4964.83576613  7338.62272076  9823.45462446\n",
      "  12902.13560359 16841.81727473]\n",
      " [ 1990.76234772  1990.76234772  1672.11162431     0.\n",
      "   2586.22077023  4477.2035985   6850.99055313  9335.82245683\n",
      "  12414.50343596 16354.1851071 ]\n",
      " [ 3392.50366126  3392.50366126  3073.85293786  2586.22077023\n",
      "      0.          3292.72414182  5666.51109645  8151.34300014\n",
      "  11230.02397927 15169.70565042]\n",
      " [ 5283.48648953  5283.48648953  4964.83576613  4477.2035985\n",
      "   3292.72414182     0.          4264.7697829   6749.6016866\n",
      "   9828.28266572 13767.96433687]\n",
      " [ 7657.27344416  7657.27344416  7338.62272076  6850.99055313\n",
      "   5666.51109645  4264.7697829      0.          4858.61885833\n",
      "   7937.29983746 11876.9815086 ]\n",
      " [10142.10534786 10142.10534786  9823.45462446  9335.82245683\n",
      "   8151.34300014  6749.6016866   4858.61885833     0.\n",
      "   5563.51288282  9503.19455397]\n",
      " [13220.78632699 13220.78632699 12902.13560359 12414.50343596\n",
      "  11230.02397927  9828.28266572  7937.29983746  5563.51288282\n",
      "      0.          7018.36265027]\n",
      " [17160.46799813 17160.46799813 16841.81727473 16354.1851071\n",
      "  15169.70565042 13767.96433687 11876.9815086   9503.19455397\n",
      "   7018.36265027     0.        ]]\n"
     ]
    }
   ],
   "source": [
    "d = np.array([0, 198, 303, 736, 871, 1175, 1475, 1544, 1913, 2448])\n",
    "distance = np.ones((len(d),len(d)))\n",
    "\n",
    "for i in range(len(d)):\n",
    "    for j in range(len(d)):\n",
    "        if i > j:\n",
    "            distance[i,j] = np.sum(d[j:i+1])\n",
    "        if i < j:\n",
    "            distance[i,j] = np.sum(d[i:j+1])\n",
    "        if i == j:\n",
    "            distance[i,j] = 0\n",
    "print(distance)\n",
    "\n",
    "ml2km = 1/0.62137\n",
    "distance_km = ml2km*distance\n",
    "print(distance_km)"
   ]
  },
  {
   "cell_type": "markdown",
   "metadata": {},
   "source": [
    "7\\. Prime numbers sieve: compute the prime numbers in the 0-N (N=99 to start with) range with a sieve (mask).\n",
    "  * Constract a shape (100,) boolean array, the mask\n",
    "  * Identify the multiples of each number starting from 2 and set accordingly the corresponding mask element\n",
    "  * Apply the mask to obtain an array of ordered prime numbers\n",
    "  * Check the performances (timeit); how does it scale with N?\n",
    "  * Implement the optimization suggested in the [sieve of Eratosthenes](https://en.wikipedia.org/wiki/Sieve_of_Eratosthenes)"
   ]
  },
  {
   "cell_type": "code",
   "execution_count": 31,
   "metadata": {},
   "outputs": [],
   "source": [
    "import time\n",
    "import matplotlib.pyplot as plt"
   ]
  },
  {
   "cell_type": "code",
   "execution_count": 11,
   "metadata": {},
   "outputs": [],
   "source": [
    "def prime_finder(N):\n",
    "    is_prime = np.array([True for i in range(N+1)])\n",
    "    nums = np.linspace(0,N,N+1,endpoint=True,dtype=np.int32)\n",
    "\n",
    "    for n in nums:\n",
    "        if n > 1:\n",
    "            for m in nums:\n",
    "                if m//n>1 and m%n==0:\n",
    "                    is_prime[m] = False\n",
    "\n",
    "    prime = nums[is_prime]\n",
    "    return prime"
   ]
  },
  {
   "cell_type": "code",
   "execution_count": 12,
   "metadata": {},
   "outputs": [],
   "source": [
    "ts = []\n",
    "xs = []\n",
    "for i in range(99,1000,10):\n",
    "    start = time.time()\n",
    "    prime_finder(i)\n",
    "    ts.append(time.time() - start)\n",
    "    xs.append(i)"
   ]
  },
  {
   "cell_type": "code",
   "execution_count": 13,
   "metadata": {},
   "outputs": [
    {
     "data": {
      "image/png": "[encoded data removed]",
      "text/plain": [
       "<Figure size 432x288 with 1 Axes>"
      ]
     },
     "metadata": {
      "needs_background": "light"
     },
     "output_type": "display_data"
    }
   ],
   "source": [
    "plt.clf()\n",
    "plt.plot(xs,ts,'o',markersize=2)\n",
    "plt.xlabel('n')\n",
    "plt.ylabel('t')\n",
    "plt.show()"
   ]
  },
  {
   "cell_type": "code",
   "execution_count": 14,
   "metadata": {},
   "outputs": [],
   "source": [
    "def erat_sieve(N):\n",
    "    is_prime = np.array([True for i in range(N+1)])\n",
    "    sqrt_N = int(np.ceil(np.sqrt(N)))\n",
    "    nums = np.arange(0,N+1,1)\n",
    "    \n",
    "    for i in range(2,sqrt_N):\n",
    "        if is_prime[i] == True:\n",
    "            for j in range(i**2,N+1,i):\n",
    "                is_prime[j] = False\n",
    "                #print(is_prime)\n",
    "    return nums[is_prime]"
   ]
  },
  {
   "cell_type": "code",
   "execution_count": 15,
   "metadata": {},
   "outputs": [
    {
     "name": "stdout",
     "output_type": "stream",
     "text": [
      "[ 0  1  2  3  5  7 11 13 17 19 23 29 31 37 41 43 47 53 59 61 67 71 73 79\n",
      " 83 89 97]\n"
     ]
    }
   ],
   "source": [
    "print(erat_sieve(100))\n",
    "\n",
    "ts = []\n",
    "xs = []\n",
    "for i in range(99999,1000000,50000):\n",
    "    start = time.time()\n",
    "    erat_sieve(i)\n",
    "    t = time.time() - start\n",
    "    ts.append(t)\n",
    "    xs.append(i)"
   ]
  },
  {
   "cell_type": "code",
   "execution_count": 17,
   "metadata": {},
   "outputs": [
    {
     "data": {
      "image/png": "[encoded data removed]",
      "text/plain": [
       "<Figure size 432x288 with 1 Axes>"
      ]
     },
     "metadata": {
      "needs_background": "light"
     },
     "output_type": "display_data"
    }
   ],
   "source": [
    "plt.clf()\n",
    "plt.plot(xs,ts,'o')\n",
    "plt.xlabel('n')\n",
    "plt.ylabel('t')\n",
    "plt.show()"
   ]
  },
  {
   "cell_type": "markdown",
   "metadata": {},
   "source": [
    "**N.B. the following exercises are meant to be solved only if you are familiar with the numpy random library. If not you can skip them (postponed for one of the next exercise sessions)**\n"
   ]
  },
  {
   "cell_type": "markdown",
   "metadata": {},
   "source": [
    "8\\. Diffusion using random walk\n",
    "\n",
    "Consider a simple random walk process: at each step in time, a walker jumps right or left (+1 or -1) with equal probability. The goal is to find the typical distance from the origin of a random walker after a given amount of time. \n",
    "To do that, let's simulate many walkers and create a 2D array with each walker as a raw and the actual time evolution as columns\n",
    "\n",
    "  * Take 1000 walkers and let them walk for 200 steps\n",
    "  * Use randint to create a 2D array of size walkers x steps with values -1 or 1\n",
    "  * Build the actual walking distances for each walker (i.e. another 2D array \"summing on each raw\")\n",
    "  * Take the square of that 2D array (elementwise)\n",
    "  * Compute the mean of the squared distances at each step (i.e. the mean along the columns)\n",
    "  * Plot the average distances (sqrt(distance\\*\\*2)) as a function of time (step)\n",
    "  \n",
    "Did you get what you expected?"
   ]
  },
  {
   "cell_type": "markdown",
   "metadata": {},
   "source": [
    "9\\. Analyze a data file \n",
    "  * Download the population of hares, lynxes and carrots at the beginning of the last century.\n",
    "    ```python\n",
    "    ! wget https://www.dropbox.com/s/3vigxoqayo389uc/populations.txt\n",
    "    ```\n",
    "\n",
    "  * Check the content by looking within the file\n",
    "  * Load the data (use an appropriate numpy method) into a 2D array\n",
    "  * Create arrays out of the columns, the arrays being (in order): *year*, *hares*, *lynxes*, *carrots* \n",
    "  * Plot the 3 populations over the years\n",
    "  * Compute the main statistical properties of the dataset (mean, std, correlations, etc.)\n",
    "  * Which species has the highest population each year?\n",
    "\n",
    "Do you feel there is some evident correlation here? [Studies](https://www.enr.gov.nt.ca/en/services/lynx/lynx-snowshoe-hare-cycle) tend to believe so."
   ]
  }
 ],
 "metadata": {
  "kernelspec": {
   "display_name": "Python 3",
   "language": "python",
   "name": "python3"
  },
  "language_info": {
   "codemirror_mode": {
    "name": "ipython",
    "version": 3
   },
   "file_extension": ".py",
   "mimetype": "text/x-python",
   "name": "python",
   "nbconvert_exporter": "python",
   "pygments_lexer": "ipython3",
   "version": "3.8.8"
  }
 },
 "nbformat": 4,
 "nbformat_minor": 2
}
