{
 "cells": [
  {
   "cell_type": "markdown",
   "metadata": {},
   "source": [
    "### Numpy basics"
   ]
  },
  {
   "cell_type": "markdown",
   "metadata": {},
   "source": [
    "1\\. Find the row, column and overall means for the following matrix:\n",
    "\n",
    "```python\n",
    "m = np.arange(12).reshape((3,4))\n",
    "```"
   ]
  },
  {
   "cell_type": "code",
   "execution_count": null,
   "metadata": {},
   "outputs": [],
   "source": [
    "import numpy as np\n",
    "\n",
    "m = np.arange(12).reshape((3,4))\n",
    "print(m)\n",
    "\n",
    "row_means = [np.average(m[i,:]) for i in range(m.shape[0])]\n",
    "col_means = [np.average(m[:,i]) for i in range(m.shape[1])]\n",
    "mean = np.average(m)\n",
    "\n",
    "print(\"Row means:\", row_means)\n",
    "print(\"col_means:\", col_means)\n",
    "print(\"tot_mean:\", mean)"
   ]
  },
  {
   "cell_type": "markdown",
   "metadata": {},
   "source": [
    "2\\. Find the outer product of the following two vecotrs\n",
    "\n",
    "```python\n",
    "u = np.array([1,3,5,7])\n",
    "v = np.array([2,4,6,8])\n",
    "```\n",
    "\n",
    "Do this in the following ways:\n",
    "\n",
    "   * Using the function outer in numpy\n",
    "   * Using a nested for loop or list comprehension\n",
    "   * Using numpy broadcasting operatoins\n"
   ]
  },
  {
   "cell_type": "code",
   "execution_count": null,
   "metadata": {},
   "outputs": [],
   "source": [
    "u = np.array([1,3,5,7])\n",
    "v = np.array([2,4,6,8])\n",
    "\n",
    "print(\"Outer product from numpy:\", np.outer(u,v), sep='\\n')\n",
    "\n",
    "outer = [ [u[i]*v[j] for j in range(v.shape[0])] for i in range(u.shape[0]) ]\n",
    "print(\"Outer product by list compr:\", np.array(outer), sep='\\n')\n",
    "\n",
    "print(\"Outer product with broadcast:\", u.reshape(-1,1)*v.reshape(1,-1), sep='\\n')"
   ]
  },
  {
   "cell_type": "markdown",
   "metadata": {},
   "source": [
    "3\\. Create a 10 by 6 matrix of random uniform numbers. Set all rows with any entry less than 0.1 to be zero\n",
    "\n",
    "Hint: Use the following numpy functions - np.random.random, np.any as well as Boolean indexing and the axis argument."
   ]
  },
  {
   "cell_type": "code",
   "execution_count": null,
   "metadata": {},
   "outputs": [],
   "source": [
    "\n",
    "a = np.random.rand(10, 6)\n",
    "print(\"Original matrix:\", a, sep='\\n')\n",
    "\n",
    "mask = ( a < 0.1 )\n",
    "print(\"Rows to change:\", a[np.any(mask, axis=1)], sep='\\n')\n",
    "\n",
    "a[np.any(mask, axis=1)] = np.zeros(6)\n",
    "print(\"Modified matrix:\", a, sep='\\n')"
   ]
  },
  {
   "cell_type": "markdown",
   "metadata": {},
   "source": [
    "4\\. Use np.linspace to create an array of 100 numbers between 0 and 2π (includsive).\n",
    "\n",
    "  * Extract every 10th element using slice notation\n",
    "  * Reverse the array using slice notation\n",
    "  * Extract elements where the absolute difference between the sine and cosine functions evaluated at that element is less than 0.1\n",
    "  * Make a plot showing the sin and cos functions and indicate where they are close"
   ]
  },
  {
   "cell_type": "code",
   "execution_count": null,
   "metadata": {},
   "outputs": [],
   "source": [
    "a = np.linspace(0, 2*np.pi, 100)\n",
    "print(\"Original:\", a, sep='\\n')\n",
    "tenth = a[::10]\n",
    "print(\"Every 10:\", tenth, sep='\\n')\n",
    "reverse = a[::-1]\n",
    "print(\"Reverse:\", reverse, sep='\\n')\n",
    "mask = (abs(np.sin(a)-np.cos(a)) < 0.1)\n",
    "print(\"Less than 0.1:\", a[mask], sep='\\n' )\n",
    "\n",
    "import matplotlib.pyplot as plt\n",
    "\n",
    "fig, ax = plt.subplots()\n",
    "ax.plot(a, np.sin(a))\n",
    "ax.plot(a, np.cos(a))\n",
    "ax.scatter(a[mask], np.sin(a[mask]))\n",
    "ax.scatter(a[mask], np.cos(a[mask]))"
   ]
  },
  {
   "cell_type": "markdown",
   "metadata": {},
   "source": [
    "5\\. Create a matrix that shows the 10 by 10 multiplication table.\n",
    "\n",
    " * Find the trace of the matrix\n",
    " * Extract the anto-diagonal (this should be ```array([10, 18, 24, 28, 30, 30, 28, 24, 18, 10])```)\n",
    " * Extract the diagnoal offset by 1 upwards (this should be ```array([ 2,  6, 12, 20, 30, 42, 56, 72, 90])```)"
   ]
  },
  {
   "cell_type": "code",
   "execution_count": null,
   "metadata": {},
   "outputs": [],
   "source": [
    "mult = np.array([x*y for x in range(1,11) for y in range(1,11)]).reshape(10,10)\n",
    "print(\"Table:\", mult, sep='\\n')\n",
    "print(\"Trace:\", np.trace(mult))\n",
    "print(\"anto-diagonal:\", np.diagonal(mult[::-1,:]))\n",
    "print(\"diagonal offset:\", np.diagonal(mult, offset=1))"
   ]
  },
  {
   "cell_type": "markdown",
   "metadata": {},
   "source": [
    "6\\. Use broadcasting to create a grid of distances\n",
    "\n",
    "Route 66 crosses the following cities in the US: Chicago, Springfield, Saint-Louis, Tulsa, Oklahoma City, Amarillo, Santa Fe, Albuquerque, Flagstaff, Los Angeles\n",
    "The corresponding positions in miles are: 0, 198, 303, 736, 871, 1175, 1475, 1544, 1913, 2448\n",
    "\n",
    "  * Construct a 2D grid of distances among each city along Route 66\n",
    "  * Convert that in km (those savages...)"
   ]
  },
  {
   "cell_type": "code",
   "execution_count": null,
   "metadata": {},
   "outputs": [],
   "source": [
    "pos = np.array([0, 198, 303, 736, 871, 1175, 1475, 1544, 1913, 2448]).reshape(1,-1)\n",
    "dist = pos - pos.T\n",
    "print(\"Distances in miles :(\", dist, sep='\\n')\n",
    "print(\"Distances in km :)\", np.around(dist*1.61), sep='\\n')"
   ]
  },
  {
   "cell_type": "markdown",
   "metadata": {},
   "source": [
    "7\\. Prime numbers sieve: compute the prime numbers in the 0-N (N=99 to start with) range with a sieve (mask).\n",
    "  * Constract a shape (100,) boolean array, the mask\n",
    "  * Identify the multiples of each number starting from 2 and set accordingly the corresponding mask element\n",
    "  * Apply the mask to obtain an array of ordered prime numbers\n",
    "  * Check the performances (timeit); how does it scale with N?\n",
    "  * Implement the optimization suggested in the [sieve of Eratosthenes](https://en.wikipedia.org/wiki/Sieve_of_Eratosthenes)"
   ]
  },
  {
   "cell_type": "code",
   "execution_count": null,
   "metadata": {},
   "outputs": [],
   "source": [
    "import timeit\n",
    "def prime(N):\n",
    "    numbers = np.arange(N)\n",
    "    mask = np.empty(numbers.shape[0], dtype=bool)\n",
    "    for i in range(mask.shape[0]):\n",
    "        if np.any(i % numbers[2:i] == 0):\n",
    "            mask[i] = False\n",
    "        else:\n",
    "            mask[i] = True\n",
    "    #print(\"Prime numbers from 0 to\", numbers.shape[0], ':')\n",
    "    #print(numbers[mask])\n",
    "    mask[0], mask[1]= False, False\n",
    "    return numbers[mask]\n",
    "\n",
    "def erat(N):\n",
    "    numbers = np.arange(2,N)\n",
    "    mask = np.ones(numbers.shape[0], dtype=bool)\n",
    "    i=2\n",
    "    while(np.any(mask[2*i-2::i])):\n",
    "        mask[2*i-2::i] = False\n",
    "        filtered = numbers[mask]\n",
    "        i = int(filtered[np.argwhere(filtered==i)+1])\n",
    "    return numbers[mask]\n",
    "print(prime(100))\n",
    "print(erat(100))\n",
    "\n",
    "Ns = np.linspace(10,1000,100)\n",
    "y_p = [ timeit.timeit('prime('+str(i)+')', globals=globals(), number=10)/10 for i in Ns]\n",
    "y_e = [timeit.timeit('erat('+str(i)+')', globals=globals(), number=10)/10 for i in Ns]\n",
    "\n",
    "fig, ax = plt.subplots()\n",
    "ax.plot(Ns, y_p, label=\"non optimized\")\n",
    "ax.plot(Ns, y_e, label=\"optimized\")\n",
    "ax.legend()\n",
    "%timeit prime(1000)\n",
    "%timeit erat(1000)\n"
   ]
  },
  {
   "cell_type": "markdown",
   "metadata": {},
   "source": [
    "**N.B. the following exercises are meant to be solved only if you are familiar with the numpy random library. If not you can skip them (postponed for one of the next exercise sessions)**\n"
   ]
  },
  {
   "cell_type": "markdown",
   "metadata": {},
   "source": [
    "8\\. Diffusion using random walk\n",
    "\n",
    "Consider a simple random walk process: at each step in time, a walker jumps right or left (+1 or -1) with equal probability. The goal is to find the typical distance from the origin of a random walker after a given amount of time. \n",
    "To do that, let's simulate many walkers and create a 2D array with each walker as a raw and the actual time evolution as columns\n",
    "\n",
    "  * Take 1000 walkers and let them walk for 200 steps\n",
    "  * Use randint to create a 2D array of size walkers x steps with values -1 or 1\n",
    "  * Build the actual walking distances for each walker (i.e. another 2D array \"summing on each raw\")\n",
    "  * Take the square of that 2D array (elementwise)\n",
    "  * Compute the mean of the squared distances at each step (i.e. the mean along the columns)\n",
    "  * Plot the average distances (sqrt(distance\\*\\*2)) as a function of time (step)\n",
    "  \n",
    "Did you get what you expected?\n",
    "quite, I expected the mean position to be steady around zero while the mean distance to grow with steps, as I applied a function to the position distribution, but i didn't expect this type of evolution."
   ]
  },
  {
   "cell_type": "code",
   "execution_count": null,
   "metadata": {},
   "outputs": [],
   "source": [
    "walkers = 2*np.random.randint(0, 2, (1000, 200))-1\n",
    "print(\"Walkers:\", walkers, sep='\\n')\n",
    "distances=np.array([np.sum(walkers[:,:i], axis=1) for i in range(1,201)]).T\n",
    "print(\"Distances:\", distances, distances.shape, sep='\\n')\n",
    "dist_square=distances**2\n",
    "print(\"Squared:\", dist_square, sep='\\n')\n",
    "mean_step=np.sum(dist_square, axis=0)/1000\n",
    "print(\"mean dist per step:\", mean_step, sep='\\n')\n",
    "\n",
    "fig, ax = plt.subplots()\n",
    "ax.plot(range(1,201), np.sum(abs(distances), axis=0)/1000, label=\"mean distance\")\n",
    "ax.plot(range(1,201), np.sum(distances, axis=0)/1000, label=\"mean position\")\n",
    "ax.legend()"
   ]
  },
  {
   "cell_type": "markdown",
   "metadata": {},
   "source": [
    "9\\. Analyze a data file \n",
    "  * Download the population of hares, lynxes and carrots at the beginning of the last century.\n",
    "    ```python\n",
    "    ! wget https://www.dropbox.com/s/3vigxoqayo389uc/populations.txt\n",
    "    ```\n",
    "\n",
    "  * Check the content by looking within the file\n",
    "  * Load the data (use an appropriate numpy method) into a 2D array\n",
    "  * Create arrays out of the columns, the arrays being (in order): *year*, *hares*, *lynxes*, *carrots* \n",
    "  * Plot the 3 populations over the years\n",
    "  * Compute the main statistical properties of the dataset (mean, std, correlations, etc.)\n",
    "  * Which species has the highest population each year?\n",
    "\n",
    "Do you feel there is some evident correlation here? [Studies](https://www.enr.gov.nt.ca/en/services/lynx/lynx-snowshoe-hare-cycle) tend to believe so. there's a clear correlation between hares and lynxes"
   ]
  },
  {
   "cell_type": "code",
   "execution_count": null,
   "metadata": {},
   "outputs": [],
   "source": [
    "! wget https://www.dropbox.com/s/3vigxoqayo389uc/populations.txt"
   ]
  },
  {
   "cell_type": "code",
   "execution_count": null,
   "metadata": {},
   "outputs": [],
   "source": [
    "data = np.genfromtxt(\"populations.txt\", delimiter='\\t')\n",
    "print(data)\n",
    "year, hares, lynxes, carrots = [data[:,i] for i in range(data.shape[1])]\n",
    "\n",
    "fig, ax = plt.subplots()\n",
    "ax.plot(year, hares, label=\"hares\")\n",
    "ax.plot(year, lynxes, label=\"lynxes\")\n",
    "ax.plot(year, carrots, label=\"carrots\")\n",
    "ax.legend()\n",
    "\n",
    "import pandas as pd\n",
    "print(\"Mean and std:\",pd.DataFrame(data[:,1:]).describe(), \"Covariance matrix:\", np.cov(data[:,1:], rowvar=False), sep = '\\n')\n",
    "\n",
    "diction={0:\"hares\", 1:\"lynxes\", 2:\"carrots\"}\n",
    "print(\"species with highest population each year:\", np.hstack((year.reshape(-1,1),np.array([diction[i] for i in np.argmax(data[:,1:], axis=1)]).reshape(-1,1))), sep='\\n')"
   ]
  },
  {
   "cell_type": "code",
   "execution_count": null,
   "metadata": {},
   "outputs": [],
   "source": []
  }
 ],
 "metadata": {
  "kernelspec": {
   "display_name": "Python 3 (ipykernel)",
   "language": "python",
   "name": "python3"
  },
  "language_info": {
   "codemirror_mode": {
    "name": "ipython",
    "version": 3
   },
   "file_extension": ".py",
   "mimetype": "text/x-python",
   "name": "python",
   "nbconvert_exporter": "python",
   "pygments_lexer": "ipython3",
   "version": "3.9.7"
  }
 },
 "nbformat": 4,
 "nbformat_minor": 2
}
