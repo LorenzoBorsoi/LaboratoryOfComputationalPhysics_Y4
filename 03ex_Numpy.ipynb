{
 "cells": [
  {
   "cell_type": "markdown",
   "metadata": {},
   "source": [
    "### Numpy basics"
   ]
  },
  {
   "cell_type": "markdown",
   "metadata": {},
   "source": [
    "1\\. Find the row, column and overall means for the following matrix:\n",
    "\n",
    "```python\n",
    "m = np.arange(12).reshape((3,4))\n",
    "```"
   ]
  },
  {
   "cell_type": "code",
   "execution_count": 2,
   "metadata": {},
   "outputs": [
    {
     "name": "stdout",
     "output_type": "stream",
     "text": [
      "[[ 0  1  2  3]\n",
      " [ 4  5  6  7]\n",
      " [ 8  9 10 11]]\n",
      "[4. 5. 6. 7.]\n",
      "[1.5 5.5 9.5]\n",
      "5.5\n"
     ]
    }
   ],
   "source": [
    "import numpy as np\n",
    "m = np.arange(12).reshape((3,4))\n",
    "print(m)\n",
    "print(m.mean(axis=0))\n",
    "print(m.mean(axis=1))\n",
    "print(m.mean())"
   ]
  },
  {
   "cell_type": "markdown",
   "metadata": {},
   "source": [
    "2\\. Find the outer product of the following two vecotrs\n",
    "\n",
    "```python\n",
    "u = np.array([1,3,5,7])\n",
    "v = np.array([2,4,6,8])\n",
    "```\n",
    "\n",
    "Do this in the following ways:\n",
    "\n",
    "   * Using the function outer in numpy\n",
    "   * Using a nested for loop or list comprehension\n",
    "   * Using numpy broadcasting operatoins\n"
   ]
  },
  {
   "cell_type": "code",
   "execution_count": 16,
   "metadata": {},
   "outputs": [
    {
     "name": "stdout",
     "output_type": "stream",
     "text": [
      "[[ 2  4  6  8]\n",
      " [ 6 12 18 24]\n",
      " [10 20 30 40]\n",
      " [14 28 42 56]]\n",
      "\n",
      "[[ 2  4  6  8]\n",
      " [ 6 12 18 24]\n",
      " [10 20 30 40]\n",
      " [14 28 42 56]]\n",
      "\n",
      "[[ 2  4  6  8]\n",
      " [ 6 12 18 24]\n",
      " [10 20 30 40]\n",
      " [14 28 42 56]]\n"
     ]
    }
   ],
   "source": [
    "u = np.array([1,3,5,7])\n",
    "v = np.array([2,4,6,8])\n",
    "r1 = np.outer(u,v)\n",
    "print(r1,)\n",
    "\n",
    "print(\"\")\n",
    "\n",
    "r2 = np.transpose(np.array([[i * j for i in u] for j in v]))\n",
    "print(r2)\n",
    "\n",
    "print(\"\")\n",
    "\n",
    "r3 = np.transpose(u*v.reshape(-1,1))\n",
    "print(r3)"
   ]
  },
  {
   "cell_type": "markdown",
   "metadata": {},
   "source": [
    "3\\. Create a 10 by 6 matrix of random uniform numbers. Set all rows with any entry less than 0.1 to be zero\n",
    "\n",
    "Hint: Use the following numpy functions - np.random.random, np.any as well as Boolean indexing and the axis argument."
   ]
  },
  {
   "cell_type": "code",
   "execution_count": 33,
   "metadata": {},
   "outputs": [
    {
     "name": "stdout",
     "output_type": "stream",
     "text": [
      "[[0.57014392 0.67151897 0.789298   0.16771059 0.99074827 0.22207131]\n",
      " [0.332086   0.58734466 0.15641086 0.31618627 0.33759646 0.2322732 ]\n",
      " [0.57790163 0.15724717 0.16565031 0.3335156  0.35466353 0.59119702]\n",
      " [0.42729638 0.55559126 0.66084518 0.19583064 0.31276043 0.97594411]\n",
      " [0.34424133 0.1868725  0.60321476 0.0591214  0.02244278 0.76976057]\n",
      " [0.83789835 0.69199147 0.35683912 0.69580839 0.66472933 0.7112493 ]\n",
      " [0.84204677 0.63190441 0.70561055 0.96701417 0.14226639 0.46455821]\n",
      " [0.35727603 0.1424484  0.45434857 0.02626074 0.40689247 0.02336545]\n",
      " [0.96734659 0.37809944 0.09804816 0.92819306 0.3999407  0.20522446]\n",
      " [0.83863434 0.30490296 0.31304253 0.37420697 0.22999919 0.50834901]]\n",
      "\n",
      "[[0.57014392 0.67151897 0.789298   0.16771059 0.99074827 0.22207131]\n",
      " [0.332086   0.58734466 0.15641086 0.31618627 0.33759646 0.2322732 ]\n",
      " [0.57790163 0.15724717 0.16565031 0.3335156  0.35466353 0.59119702]\n",
      " [0.42729638 0.55559126 0.66084518 0.19583064 0.31276043 0.97594411]\n",
      " [0.         0.         0.         0.         0.         0.        ]\n",
      " [0.83789835 0.69199147 0.35683912 0.69580839 0.66472933 0.7112493 ]\n",
      " [0.84204677 0.63190441 0.70561055 0.96701417 0.14226639 0.46455821]\n",
      " [0.         0.         0.         0.         0.         0.        ]\n",
      " [0.         0.         0.         0.         0.         0.        ]\n",
      " [0.83863434 0.30490296 0.31304253 0.37420697 0.22999919 0.50834901]]\n"
     ]
    }
   ],
   "source": [
    "a = np.random.random((10,6))\n",
    "print(a)\n",
    "print(\"\")\n",
    "a[np.any(a<0.1,axis=1),:]=0\n",
    "print(a)"
   ]
  },
  {
   "cell_type": "markdown",
   "metadata": {},
   "source": [
    "4\\. Use np.linspace to create an array of 100 numbers between 0 and 2π (includsive).\n",
    "\n",
    "  * Extract every 10th element using slice notation\n",
    "  * Reverse the array using slice notation\n",
    "  * Extract elements where the absolute difference between the sine and cosine functions evaluated at that element is less than 0.1\n",
    "  * Make a plot showing the sin and cos functions and indicate where they are close"
   ]
  },
  {
   "cell_type": "code",
   "execution_count": 51,
   "metadata": {},
   "outputs": [
    {
     "name": "stdout",
     "output_type": "stream",
     "text": [
      "[0.         0.06346652 0.12693304 0.19039955 0.25386607 0.31733259\n",
      " 0.38079911 0.44426563 0.50773215 0.57119866 0.63466518 0.6981317\n",
      " 0.76159822 0.82506474 0.88853126 0.95199777 1.01546429 1.07893081\n",
      " 1.14239733 1.20586385 1.26933037 1.33279688 1.3962634  1.45972992\n",
      " 1.52319644 1.58666296 1.65012947 1.71359599 1.77706251 1.84052903\n",
      " 1.90399555 1.96746207 2.03092858 2.0943951  2.15786162 2.22132814\n",
      " 2.28479466 2.34826118 2.41172769 2.47519421 2.53866073 2.60212725\n",
      " 2.66559377 2.72906028 2.7925268  2.85599332 2.91945984 2.98292636\n",
      " 3.04639288 3.10985939 3.17332591 3.23679243 3.30025895 3.36372547\n",
      " 3.42719199 3.4906585  3.55412502 3.61759154 3.68105806 3.74452458\n",
      " 3.8079911  3.87145761 3.93492413 3.99839065 4.06185717 4.12532369\n",
      " 4.1887902  4.25225672 4.31572324 4.37918976 4.44265628 4.5061228\n",
      " 4.56958931 4.63305583 4.69652235 4.75998887 4.82345539 4.88692191\n",
      " 4.95038842 5.01385494 5.07732146 5.14078798 5.2042545  5.26772102\n",
      " 5.33118753 5.39465405 5.45812057 5.52158709 5.58505361 5.64852012\n",
      " 5.71198664 5.77545316 5.83891968 5.9023862  5.96585272 6.02931923\n",
      " 6.09278575 6.15625227 6.21971879 6.28318531]\n",
      "\n",
      "[0.57119866 1.20586385 1.84052903 2.47519421 3.10985939 3.74452458\n",
      " 4.37918976 5.01385494 5.64852012 6.28318531]\n",
      "\n",
      "[6.28318531 6.21971879 6.15625227 6.09278575 6.02931923 5.96585272\n",
      " 5.9023862  5.83891968 5.77545316 5.71198664 5.64852012 5.58505361\n",
      " 5.52158709 5.45812057 5.39465405 5.33118753 5.26772102 5.2042545\n",
      " 5.14078798 5.07732146 5.01385494 4.95038842 4.88692191 4.82345539\n",
      " 4.75998887 4.69652235 4.63305583 4.56958931 4.5061228  4.44265628\n",
      " 4.37918976 4.31572324 4.25225672 4.1887902  4.12532369 4.06185717\n",
      " 3.99839065 3.93492413 3.87145761 3.8079911  3.74452458 3.68105806\n",
      " 3.61759154 3.55412502 3.4906585  3.42719199 3.36372547 3.30025895\n",
      " 3.23679243 3.17332591 3.10985939 3.04639288 2.98292636 2.91945984\n",
      " 2.85599332 2.7925268  2.72906028 2.66559377 2.60212725 2.53866073\n",
      " 2.47519421 2.41172769 2.34826118 2.28479466 2.22132814 2.15786162\n",
      " 2.0943951  2.03092858 1.96746207 1.90399555 1.84052903 1.77706251\n",
      " 1.71359599 1.65012947 1.58666296 1.52319644 1.45972992 1.3962634\n",
      " 1.33279688 1.26933037 1.20586385 1.14239733 1.07893081 1.01546429\n",
      " 0.95199777 0.88853126 0.82506474 0.76159822 0.6981317  0.63466518\n",
      " 0.57119866 0.50773215 0.44426563 0.38079911 0.31733259 0.25386607\n",
      " 0.19039955 0.12693304 0.06346652 0.        ]\n",
      "\n",
      "[0.76159822 0.82506474 3.87145761 3.93492413]\n"
     ]
    },
    {
     "data": {
      "image/png": "[encoded data removed]",
      "text/plain": [
       "<Figure size 432x288 with 1 Axes>"
      ]
     },
     "metadata": {
      "needs_background": "light"
     },
     "output_type": "display_data"
    }
   ],
   "source": [
    "import matplotlib.pyplot as plt\n",
    "q4 = np.linspace(0,2*np.pi,100)\n",
    "print(q4)\n",
    "print(\"\")\n",
    "\n",
    "q4_1 = q4[9::10]\n",
    "print(q4_1)\n",
    "print(\"\")\n",
    "\n",
    "q4_2 = q4[::-1]\n",
    "print(q4_2)\n",
    "print(\"\")\n",
    "\n",
    "a = (np.abs(np.sin(q4)-np.cos(q4)) < 0.1)\n",
    "q4_3 = q4[a]\n",
    "print(q4_3)\n",
    "\n",
    "sin_pi4 = np.sin(np.pi/4)\n",
    "plt.clf()\n",
    "plt.plot(q4,np.sin(q4),'o',markersize=1,label='sin(x)')\n",
    "plt.plot(q4,np.cos(q4),'o',markersize=1,label='cos(x)')\n",
    "plt.plot((0,2*np.pi),(sin_pi4,sin_pi4))\n",
    "plt.plot((0,2*np.pi),(-sin_pi4,-sin_pi4))\n",
    "plt.ylim(-1.25,1.25)\n",
    "plt.grid()\n",
    "plt.legend()\n",
    "plt.show()"
   ]
  },
  {
   "cell_type": "markdown",
   "metadata": {},
   "source": [
    "5\\. Create a matrix that shows the 10 by 10 multiplication table.\n",
    "\n",
    " * Find the trace of the matrix\n",
    " * Extract the anto-diagonal (this should be ```array([10, 18, 24, 28, 30, 30, 28, 24, 18, 10])```)\n",
    " * Extract the diagnoal offset by 1 upwards (this should be ```array([ 2,  6, 12, 20, 30, 42, 56, 72, 90])```)"
   ]
  },
  {
   "cell_type": "code",
   "execution_count": 59,
   "metadata": {},
   "outputs": [
    {
     "name": "stdout",
     "output_type": "stream",
     "text": [
      "[[  1   2   3   4   5   6   7   8   9  10]\n",
      " [  2   4   6   8  10  12  14  16  18  20]\n",
      " [  3   6   9  12  15  18  21  24  27  30]\n",
      " [  4   8  12  16  20  24  28  32  36  40]\n",
      " [  5  10  15  20  25  30  35  40  45  50]\n",
      " [  6  12  18  24  30  36  42  48  54  60]\n",
      " [  7  14  21  28  35  42  49  56  63  70]\n",
      " [  8  16  24  32  40  48  56  64  72  80]\n",
      " [  9  18  27  36  45  54  63  72  81  90]\n",
      " [ 10  20  30  40  50  60  70  80  90 100]]\n",
      "\n",
      "385\n",
      "\n",
      "[10 18 24 28 30 30 28 24 18 10]\n",
      "\n",
      "[[ 2  3  4  5  6  7  8  9 10]\n",
      " [ 4  6  8 10 12 14 16 18 20]\n",
      " [ 6  9 12 15 18 21 24 27 30]\n",
      " [ 8 12 16 20 24 28 32 36 40]\n",
      " [10 15 20 25 30 35 40 45 50]\n",
      " [12 18 24 30 36 42 48 54 60]\n",
      " [14 21 28 35 42 49 56 63 70]\n",
      " [16 24 32 40 48 56 64 72 80]\n",
      " [18 27 36 45 54 63 72 81 90]]\n",
      "\n",
      "[ 2  6 12 20 30 42 56 72 90]\n"
     ]
    }
   ],
   "source": [
    "a = np.linspace(1,10,10,dtype=np.int32)\n",
    "m = np.outer(a,a)\n",
    "\n",
    "print(m)\n",
    "print(\"\")\n",
    "\n",
    "trace = np.trace(m)\n",
    "print(trace)\n",
    "print(\"\")\n",
    "\n",
    "anto_diag = np.diag(np.fliplr(m))\n",
    "print(anto_diag)\n",
    "print(\"\")\n",
    "\n",
    "m2 = m[:-1,1:]\n",
    "print(m2)\n",
    "print(\"\")\n",
    "diag_ = np.diag(m2)\n",
    "print(diag_)"
   ]
  },
  {
   "cell_type": "markdown",
   "metadata": {},
   "source": [
    "6\\. Use broadcasting to create a grid of distances\n",
    "\n",
    "Route 66 crosses the following cities in the US: Chicago, Springfield, Saint-Louis, Tulsa, Oklahoma City, Amarillo, Santa Fe, Albuquerque, Flagstaff, Los Angeles\n",
    "The corresponding positions in miles are: 0, 198, 303, 736, 871, 1175, 1475, 1544, 1913, 2448\n",
    "\n",
    "  * Construct a 2D grid of distances among each city along Route 66\n",
    "  * Convert that in km (those savages...)"
   ]
  },
  {
   "cell_type": "code",
   "execution_count": 69,
   "metadata": {},
   "outputs": [
    {
     "name": "stdout",
     "output_type": "stream",
     "text": [
      "[[    0.   198.   501.  1237.  2108.  3283.  4758.  6302.  8215. 10663.]\n",
      " [  198.     0.   501.  1237.  2108.  3283.  4758.  6302.  8215. 10663.]\n",
      " [  501.   501.     0.  1039.  1910.  3085.  4560.  6104.  8017. 10465.]\n",
      " [ 1237.  1237.  1039.     0.  1607.  2782.  4257.  5801.  7714. 10162.]\n",
      " [ 2108.  2108.  1910.  1607.     0.  2046.  3521.  5065.  6978.  9426.]\n",
      " [ 3283.  3283.  3085.  2782.  2046.     0.  2650.  4194.  6107.  8555.]\n",
      " [ 4758.  4758.  4560.  4257.  3521.  2650.     0.  3019.  4932.  7380.]\n",
      " [ 6302.  6302.  6104.  5801.  5065.  4194.  3019.     0.  3457.  5905.]\n",
      " [ 8215.  8215.  8017.  7714.  6978.  6107.  4932.  3457.     0.  4361.]\n",
      " [10663. 10663. 10465. 10162.  9426.  8555.  7380.  5905.  4361.     0.]]\n",
      "\n",
      "[[    0.           318.68662482   806.3737325   1990.98664091\n",
      "   3392.88588444  5284.08176404  7658.1361661  10143.24802833\n",
      "  13222.27587317 17162.40141639]\n",
      " [  318.68662482     0.           806.3737325   1990.98664091\n",
      "   3392.88588444  5284.08176404  7658.1361661  10143.24802833\n",
      "  13222.27587317 17162.40141639]\n",
      " [  806.3737325    806.3737325      0.          1672.3000161\n",
      "   3074.19925962  4965.39513922  7339.44954128  9824.56140351\n",
      "  12903.58924835 16843.71479157]\n",
      " [ 1990.98664091  1990.98664091  1672.3000161      0.\n",
      "   2586.51215194  4477.70803155  6851.76243361  9336.87429583\n",
      "  12415.90214067 16356.02768389]\n",
      " [ 3392.88588444  3392.88588444  3074.19925962  2586.51215194\n",
      "      0.          3293.09512313  5667.14952519  8152.26138741\n",
      "  11231.28923225 15171.41477547]\n",
      " [ 5284.08176404  5284.08176404  4965.39513922  4477.70803155\n",
      "   3293.09512313     0.          4265.25028167  6750.36214389\n",
      "   9829.38998873 13769.51553195]\n",
      " [ 7658.1361661   7658.1361661   7339.44954128  6851.76243361\n",
      "   5667.14952519  4265.25028167     0.          4859.16626428\n",
      "   7938.19410913 11878.31965234]\n",
      " [10143.24802833 10143.24802833  9824.56140351  9336.87429583\n",
      "   8152.26138741  6750.36214389  4859.16626428     0.\n",
      "   5564.13970707  9504.26525028]\n",
      " [13222.27587317 13222.27587317 12903.58924835 12415.90214067\n",
      "  11231.28923225  9829.38998873  7938.19410913  5564.13970707\n",
      "      0.          7019.15338806]\n",
      " [17162.40141639 17162.40141639 16843.71479157 16356.02768389\n",
      "  15171.41477547 13769.51553195 11878.31965234  9504.26525028\n",
      "   7019.15338806     0.        ]]\n"
     ]
    }
   ],
   "source": [
    "d = np.array([0, 198, 303, 736, 871, 1175, 1475, 1544, 1913, 2448])\n",
    "distance_miles = np.ones((len(d),len(d)))\n",
    "\n",
    "for i in range(len(d)):\n",
    "    for j in range(len(d)):\n",
    "        if i > j:\n",
    "            distance_miles[i,j] = np.sum(d[j:i+1])\n",
    "        if i < j:\n",
    "            distance_miles[i,j] = np.sum(d[i:j+1])\n",
    "        if i == j:\n",
    "            distance_miles[i,j] = 0\n",
    "print(distance_miles)\n",
    "print(\"\")\n",
    "\n",
    "conversion_fact = 1/0.6213\n",
    "distance_km = conversion_fact*distance_miles\n",
    "print(distance_km)"
   ]
  },
  {
   "cell_type": "markdown",
   "metadata": {},
   "source": [
    "7\\. Prime numbers sieve: compute the prime numbers in the 0-N (N=99 to start with) range with a sieve (mask).\n",
    "  * Constract a shape (100,) boolean array, the mask\n",
    "  * Identify the multiples of each number starting from 2 and set accordingly the corresponding mask element\n",
    "  * Apply the mask to obtain an array of ordered prime numbers\n",
    "  * Check the performances (timeit); how does it scale with N?\n",
    "  * Implement the optimization suggested in the [sieve of Eratosthenes](https://en.wikipedia.org/wiki/Sieve_of_Eratosthenes)"
   ]
  },
  {
   "cell_type": "code",
   "execution_count": 110,
   "metadata": {},
   "outputs": [
    {
     "data": {
      "image/png": "[encoded data removed]",
      "text/plain": [
       "<Figure size 432x288 with 1 Axes>"
      ]
     },
     "metadata": {
      "needs_background": "light"
     },
     "output_type": "display_data"
    }
   ],
   "source": [
    "import matplotlib.pyplot as plt\n",
    "import time\n",
    "\n",
    "def primer(N):\n",
    "    is_prime = np.array([True for i in range(N+1)])\n",
    "    nums = np.linspace(0,N,N+1,endpoint=True,dtype=np.int32)\n",
    "\n",
    "    for n in nums:\n",
    "        if n > 1:\n",
    "            for m in nums:\n",
    "                if m//n>1 and m%n==0:\n",
    "                    is_prime[m] = False\n",
    "\n",
    "    prime = nums[is_prime]\n",
    "    return prime\n",
    "\n",
    "ts = []\n",
    "xs = []\n",
    "for i in range(100,1000,10):\n",
    "    start = time.time()\n",
    "    primer(i)\n",
    "    ts.append(time.time() - start)\n",
    "    xs.append(i)\n",
    "\n",
    "\n",
    "plt.clf()\n",
    "plt.plot(xs,ts,'o',markersize=2)\n",
    "plt.xlabel('N')\n",
    "plt.ylabel('time')\n",
    "plt.show()\n"
   ]
  },
  {
   "cell_type": "code",
   "execution_count": 115,
   "metadata": {},
   "outputs": [
    {
     "name": "stdout",
     "output_type": "stream",
     "text": [
      "[ 0  1  2  3  5  7 11 13 17 19 23 29 31 37 41 43 47 53 59 61 67 71 73 79\n",
      " 83 89 97]\n"
     ]
    },
    {
     "data": {
      "image/png": "[encoded data removed]",
      "text/plain": [
       "<Figure size 432x288 with 1 Axes>"
      ]
     },
     "metadata": {
      "needs_background": "light"
     },
     "output_type": "display_data"
    }
   ],
   "source": [
    "# sieve of eratosthenes\n",
    "\n",
    "def sieve(N):\n",
    "    is_prime = np.array([True for i in range(N+1)])\n",
    "    sqrt_N = int(np.ceil(np.sqrt(N)))\n",
    "    nums = np.arange(0,N+1,1)\n",
    "    \n",
    "    for i in range(2,sqrt_N):\n",
    "        if is_prime[i] == True:\n",
    "            for j in range(i**2,N+1,i):\n",
    "                is_prime[j] = False\n",
    "                #print(is_prime)\n",
    "    return nums[is_prime]\n",
    "\n",
    "\n",
    "print(sieve(100))\n",
    "\n",
    "ts = []\n",
    "xs = []\n",
    "for i in range(100000,1000000,50000):\n",
    "    start = time.time()\n",
    "    sieve(i)\n",
    "    t = time.time() - start\n",
    "    ts.append(t)\n",
    "    xs.append(i)\n",
    "\n",
    "plt.clf()\n",
    "plt.plot(xs,ts,'o')\n",
    "plt.xlabel('N')\n",
    "plt.ylabel('time')\n",
    "plt.show()\n"
   ]
  },
  {
   "cell_type": "markdown",
   "metadata": {},
   "source": [
    "**N.B. the following exercises are meant to be solved only if you are familiar with the numpy random library. If not you can skip them (postponed for one of the next exercise sessions)**\n"
   ]
  },
  {
   "cell_type": "markdown",
   "metadata": {},
   "source": [
    "8\\. Diffusion using random walk\n",
    "\n",
    "Consider a simple random walk process: at each step in time, a walker jumps right or left (+1 or -1) with equal probability. The goal is to find the typical distance from the origin of a random walker after a given amount of time. \n",
    "To do that, let's simulate many walkers and create a 2D array with each walker as a raw and the actual time evolution as columns\n",
    "\n",
    "  * Take 1000 walkers and let them walk for 200 steps\n",
    "  * Use randint to create a 2D array of size walkers x steps with values -1 or 1\n",
    "  * Build the actual walking distances for each walker (i.e. another 2D array \"summing on each raw\")\n",
    "  * Take the square of that 2D array (elementwise)\n",
    "  * Compute the mean of the squared distances at each step (i.e. the mean along the columns)\n",
    "  * Plot the average distances (sqrt(distance\\*\\*2)) as a function of time (step)\n",
    "  \n",
    "Did you get what you expected?"
   ]
  },
  {
   "cell_type": "markdown",
   "metadata": {},
   "source": [
    "9\\. Analyze a data file \n",
    "  * Download the population of hares, lynxes and carrots at the beginning of the last century.\n",
    "    ```python\n",
    "    ! wget https://www.dropbox.com/s/3vigxoqayo389uc/populations.txt\n",
    "    ```\n",
    "\n",
    "  * Check the content by looking within the file\n",
    "  * Load the data (use an appropriate numpy method) into a 2D array\n",
    "  * Create arrays out of the columns, the arrays being (in order): *year*, *hares*, *lynxes*, *carrots* \n",
    "  * Plot the 3 populations over the years\n",
    "  * Compute the main statistical properties of the dataset (mean, std, correlations, etc.)\n",
    "  * Which species has the highest population each year?\n",
    "\n",
    "Do you feel there is some evident correlation here? [Studies](https://www.enr.gov.nt.ca/en/services/lynx/lynx-snowshoe-hare-cycle) tend to believe so."
   ]
  },
  {
   "cell_type": "code",
   "execution_count": null,
   "metadata": {},
   "outputs": [],
   "source": []
  }
 ],
 "metadata": {
  "kernelspec": {
   "display_name": "Python 3 (ipykernel)",
   "language": "python",
   "name": "python3"
  },
  "language_info": {
   "codemirror_mode": {
    "name": "ipython",
    "version": 3
   },
   "file_extension": ".py",
   "mimetype": "text/x-python",
   "name": "python",
   "nbconvert_exporter": "python",
   "pygments_lexer": "ipython3",
   "version": "3.8.8"
  }
 },
 "nbformat": 4,
 "nbformat_minor": 2
}
