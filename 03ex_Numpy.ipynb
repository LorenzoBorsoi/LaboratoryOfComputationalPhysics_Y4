{
 "cells": [
  {
   "cell_type": "markdown",
   "metadata": {},
   "source": [
    "### Numpy basics"
   ]
  },
  {
   "cell_type": "code",
   "execution_count": 2,
   "metadata": {},
   "outputs": [],
   "source": [
    "import numpy as np"
   ]
  },
  {
   "cell_type": "markdown",
   "metadata": {},
   "source": [
    "1\\. Find the row, column and overall means for the following matrix:\n",
    "\n",
    "```python\n",
    "m = np.arange(12).reshape((3,4))\n",
    "```"
   ]
  },
  {
   "cell_type": "code",
   "execution_count": 7,
   "metadata": {},
   "outputs": [
    {
     "name": "stdout",
     "output_type": "stream",
     "text": [
      "[[ 0  1  2  3]\n",
      " [ 4  5  6  7]\n",
      " [ 8  9 10 11]]\n",
      "[array([0, 1, 2, 3]), array([4, 5, 6, 7]), array([ 8,  9, 10, 11])]\n",
      "[[ 0  1  2  3]\n",
      " [ 4  5  6  7]\n",
      " [ 8  9 10 11]]\n",
      "[array([0, 4, 8]), array([1, 5, 9]), array([ 2,  6, 10]), array([ 3,  7, 11])]\n",
      "5.5\n"
     ]
    }
   ],
   "source": [
    "m = np.arange(12).reshape((3,4))\n",
    "print(m)\n",
    "\n",
    "\n",
    "rows=[m[i,:] for i in range(m.shape[0])]\n",
    "print(rows)\n",
    "columns=[m[:,i] for i in range(m.shape[1])]\n",
    "print(columns)\n",
    "mean=m.mean()\n",
    "print(mean)"
   ]
  },
  {
   "cell_type": "markdown",
   "metadata": {},
   "source": [
    "2\\. Find the outer product of the following two vecotrs\n",
    "\n",
    "```python\n",
    "u = np.array([1,3,5,7])\n",
    "v = np.array([2,4,6,8])\n",
    "```\n",
    "\n",
    "Do this in the following ways:\n",
    "\n",
    "   * Using the function outer in numpy\n",
    "   * Using a nested for loop or list comprehension\n",
    "   * Using numpy broadcasting operatoins\n"
   ]
  },
  {
   "cell_type": "code",
   "execution_count": 8,
   "metadata": {},
   "outputs": [
    {
     "name": "stdout",
     "output_type": "stream",
     "text": [
      "[[ 2  4  6  8]\n",
      " [ 6 12 18 24]\n",
      " [10 20 30 40]\n",
      " [14 28 42 56]]\n",
      "[[ 2  4  6  8]\n",
      " [ 6 12 18 24]\n",
      " [10 20 30 40]\n",
      " [14 28 42 56]]\n",
      "[[ 2  4  6  8]\n",
      " [ 6 12 18 24]\n",
      " [10 20 30 40]\n",
      " [14 28 42 56]]\n"
     ]
    }
   ],
   "source": [
    "u = np.array([1,3,5,7])\n",
    "v = np.array([2,4,6,8])\n",
    "\n",
    "#a\n",
    "a=np.outer(u,v)\n",
    "print(a)\n",
    "\n",
    "#b\n",
    "\n",
    "\n",
    "#o=np.array([(u[i]*v[j],u[i]*v[j]) for i in u.shape for j in v.shape])\n",
    "b=np.array([u[iu]*v[iv] for iu in range(len(u)) for iv in range(len(v))])\n",
    "print(b.reshape(4,4))\n",
    "#c\n",
    "\n",
    "c=np.tile(u, (4,1)).T\n",
    "print(c*v)\n",
    "\n"
   ]
  },
  {
   "cell_type": "markdown",
   "metadata": {},
   "source": [
    "3\\. Create a 10 by 6 matrix of random uniform numbers. Set all rows with any entry less than 0.1 to be zero\n",
    "\n",
    "Hint: Use the following numpy functions - np.random.random, np.any as well as Boolean indexing and the axis argument."
   ]
  },
  {
   "cell_type": "code",
   "execution_count": 26,
   "metadata": {},
   "outputs": [
    {
     "name": "stdout",
     "output_type": "stream",
     "text": [
      "[[ 0.51408229  0.51186514  0.91220107  1.38240946 -0.78290241 -1.06273848]\n",
      " [ 0.82139922  0.17057473 -0.92800445  0.19133359  0.03995686 -0.32217955]\n",
      " [-0.36168596  0.5931457  -0.01886602 -0.42029714  0.25061144  0.17897484]\n",
      " [-1.42091204  2.51573718  0.33402896 -1.2132297   0.57808608  0.50574387]\n",
      " [ 1.38685069  2.3519178   0.96763913  0.6122585  -1.25554095  1.5144874 ]\n",
      " [ 0.41623424  0.88125967  2.02623546  0.06403935 -0.69015182 -0.92720436]\n",
      " [-0.73869275 -0.93356988 -0.50458561  1.15780128  0.70134955  0.47453356]\n",
      " [-0.13088135 -0.8702104   1.12487581 -0.72149859  0.87920838  0.06396197]\n",
      " [ 1.60590979 -0.02054169  0.1503693   0.04031093  0.63382316 -1.93539945]\n",
      " [ 0.08691486  0.07561834  2.11102444  1.0735449   1.95303692 -0.7046477 ]] \n",
      "\n",
      "[[ 0.51408229  0.51186514  0.91220107  1.38240946 -0.78290241 -1.06273848]\n",
      " [ 0.          0.          0.          0.          0.          0.        ]\n",
      " [ 0.          0.          0.          0.          0.          0.        ]\n",
      " [-1.42091204  2.51573718  0.33402896 -1.2132297   0.57808608  0.50574387]\n",
      " [ 1.38685069  2.3519178   0.96763913  0.6122585  -1.25554095  1.5144874 ]\n",
      " [ 0.          0.          0.          0.          0.          0.        ]\n",
      " [-0.73869275 -0.93356988 -0.50458561  1.15780128  0.70134955  0.47453356]\n",
      " [ 0.          0.          0.          0.          0.          0.        ]\n",
      " [ 0.          0.          0.          0.          0.          0.        ]\n",
      " [ 0.          0.          0.          0.          0.          0.        ]]\n"
     ]
    }
   ],
   "source": [
    "m=np.random.randn(10,6)\n",
    "print(m, \"\\n\")\n",
    "for i in range(len(m)):\n",
    "    if np.any(abs(m) < 0.1, axis=1)[i]:\n",
    "        m[i,:]=0\n",
    "    \n",
    "print(m)"
   ]
  },
  {
   "cell_type": "markdown",
   "metadata": {},
   "source": [
    "4\\. Use np.linspace to create an array of 100 numbers between 0 and 2π (includsive).\n",
    "\n",
    "  * Extract every 10th element using slice notation\n",
    "  * Reverse the array using slice notation\n",
    "  * Extract elements where the absolute difference between the sine and cosine functions evaluated at that element is less than 0.1\n",
    "  * Make a plot showing the sin and cos functions and indicate where they are close"
   ]
  },
  {
   "cell_type": "code",
   "execution_count": 3,
   "metadata": {},
   "outputs": [
    {
     "name": "stdout",
     "output_type": "stream",
     "text": [
      "[0.         0.06346652 0.12693304 0.19039955 0.25386607 0.31733259\n",
      " 0.38079911 0.44426563 0.50773215 0.57119866 0.63466518 0.6981317\n",
      " 0.76159822 0.82506474 0.88853126 0.95199777 1.01546429 1.07893081\n",
      " 1.14239733 1.20586385 1.26933037 1.33279688 1.3962634  1.45972992\n",
      " 1.52319644 1.58666296 1.65012947 1.71359599 1.77706251 1.84052903\n",
      " 1.90399555 1.96746207 2.03092858 2.0943951  2.15786162 2.22132814\n",
      " 2.28479466 2.34826118 2.41172769 2.47519421 2.53866073 2.60212725\n",
      " 2.66559377 2.72906028 2.7925268  2.85599332 2.91945984 2.98292636\n",
      " 3.04639288 3.10985939 3.17332591 3.23679243 3.30025895 3.36372547\n",
      " 3.42719199 3.4906585  3.55412502 3.61759154 3.68105806 3.74452458\n",
      " 3.8079911  3.87145761 3.93492413 3.99839065 4.06185717 4.12532369\n",
      " 4.1887902  4.25225672 4.31572324 4.37918976 4.44265628 4.5061228\n",
      " 4.56958931 4.63305583 4.69652235 4.75998887 4.82345539 4.88692191\n",
      " 4.95038842 5.01385494 5.07732146 5.14078798 5.2042545  5.26772102\n",
      " 5.33118753 5.39465405 5.45812057 5.52158709 5.58505361 5.64852012\n",
      " 5.71198664 5.77545316 5.83891968 5.9023862  5.96585272 6.02931923\n",
      " 6.09278575 6.15625227 6.21971879 6.28318531]\n",
      "[0.         0.63466518 1.26933037 1.90399555 2.53866073 3.17332591\n",
      " 3.8079911  4.44265628 5.07732146 5.71198664]\n",
      "[6.28318531 6.21971879 6.15625227 6.09278575 6.02931923 5.96585272\n",
      " 5.9023862  5.83891968 5.77545316 5.71198664 5.64852012 5.58505361\n",
      " 5.52158709 5.45812057 5.39465405 5.33118753 5.26772102 5.2042545\n",
      " 5.14078798 5.07732146 5.01385494 4.95038842 4.88692191 4.82345539\n",
      " 4.75998887 4.69652235 4.63305583 4.56958931 4.5061228  4.44265628\n",
      " 4.37918976 4.31572324 4.25225672 4.1887902  4.12532369 4.06185717\n",
      " 3.99839065 3.93492413 3.87145761 3.8079911  3.74452458 3.68105806\n",
      " 3.61759154 3.55412502 3.4906585  3.42719199 3.36372547 3.30025895\n",
      " 3.23679243 3.17332591 3.10985939 3.04639288 2.98292636 2.91945984\n",
      " 2.85599332 2.7925268  2.72906028 2.66559377 2.60212725 2.53866073\n",
      " 2.47519421 2.41172769 2.34826118 2.28479466 2.22132814 2.15786162\n",
      " 2.0943951  2.03092858 1.96746207 1.90399555 1.84052903 1.77706251\n",
      " 1.71359599 1.65012947 1.58666296 1.52319644 1.45972992 1.3962634\n",
      " 1.33279688 1.26933037 1.20586385 1.14239733 1.07893081 1.01546429\n",
      " 0.95199777 0.88853126 0.82506474 0.76159822 0.6981317  0.63466518\n",
      " 0.57119866 0.50773215 0.44426563 0.38079911 0.31733259 0.25386607\n",
      " 0.19039955 0.12693304 0.06346652 0.        ]\n",
      "[0.76159822 0.82506474 3.87145761 3.93492413]\n"
     ]
    },
    {
     "data": {
      "image/png": "[encoded data removed]",
      "text/plain": [
       "<Figure size 576x396 with 1 Axes>"
      ]
     },
     "metadata": {},
     "output_type": "display_data"
    }
   ],
   "source": [
    "import math as ma\n",
    "import matplotlib.pyplot as plt\n",
    "m=np.linspace(0, 2*ma.pi, 100)\n",
    "print(m)\n",
    "\n",
    "\n",
    "#1\n",
    "print(m[::10])\n",
    "\n",
    "#2\n",
    "print(m[::-1])\n",
    "\n",
    "#3\n",
    "mask = (abs(np.sin(m)-np.cos(m))<=0.1)\n",
    "print(m[mask])\n",
    "\n",
    "#4\n",
    "plt.style.use('seaborn')\n",
    "cos=np.cos(m)\n",
    "sin=np.sin(m)\n",
    "sincos=np.sin(m[mask])\n",
    "plt.plot(m, cos, label=\"cos(x)\")\n",
    "plt.plot(m, sin, label=\"sin(x)\")\n",
    "#plt.fill_betweenx(np.sin(m[mask]),m[mask][0], m[mask][1])\n",
    "for i in range(len(m[mask])):\n",
    "    if i==0 or i==3:\n",
    "        plt.vlines(m[mask][i], -1.25, ma.sin(m[mask][i]), linestyles='dotted', label=\"|sin(x)-cos(x)|<0.1\")\n",
    "    else:\n",
    "        plt.vlines(m[mask][i], -1.25, ma.cos(m[mask][i]), linestyles='dotted')\n",
    "#plt.fill_betweenx(np.sin(m[mask]),m[mask][2], m[mask][3])\n",
    "plt.xlabel(\"x\")\n",
    "plt.ylabel('f(x)')\n",
    "plt.legend()\n",
    "plt.show()"
   ]
  },
  {
   "cell_type": "markdown",
   "metadata": {},
   "source": [
    "5\\. Create a matrix that shows the 10 by 10 multiplication table.\n",
    "\n",
    " * Find the trace of the matrix\n",
    " * Extract the anto-diagonal (this should be ```array([10, 18, 24, 28, 30, 30, 28, 24, 18, 10])```)\n",
    " * Extract the diagnoal offset by 1 upwards (this should be ```array([ 2,  6, 12, 20, 30, 42, 56, 72, 90])```)"
   ]
  },
  {
   "cell_type": "code",
   "execution_count": 54,
   "metadata": {},
   "outputs": [
    {
     "name": "stdout",
     "output_type": "stream",
     "text": [
      "[[  1   2   3   4   5   6   7   8   9  10]\n",
      " [  2   4   6   8  10  12  14  16  18  20]\n",
      " [  3   6   9  12  15  18  21  24  27  30]\n",
      " [  4   8  12  16  20  24  28  32  36  40]\n",
      " [  5  10  15  20  25  30  35  40  45  50]\n",
      " [  6  12  18  24  30  36  42  48  54  60]\n",
      " [  7  14  21  28  35  42  49  56  63  70]\n",
      " [  8  16  24  32  40  48  56  64  72  80]\n",
      " [  9  18  27  36  45  54  63  72  81  90]\n",
      " [ 10  20  30  40  50  60  70  80  90 100]]\n",
      "385\n",
      "[10 18 24 28 30 30 28 24 18 10]\n",
      "[ 2  6 12 20 30 42 56 72 90]\n"
     ]
    }
   ],
   "source": [
    "m=np.array([i*j for i in range(1,11) for j in range (1,11)]).reshape(10,10)\n",
    "print(m)\n",
    "#1\n",
    "trace=np.sum(m[[*range(10)],[*range(10)]])\n",
    "print(trace)\n",
    "#2\n",
    "print(m[[*range(10)],[*range(9,-1,-1)]])\n",
    "#3\n",
    "print(m[[*range(9)],[*range(1,10)]])"
   ]
  },
  {
   "cell_type": "markdown",
   "metadata": {},
   "source": [
    "6\\. Use broadcasting to create a grid of distances\n",
    "\n",
    "Route 66 crosses the following cities in the US: Chicago, Springfield, Saint-Louis, Tulsa, Oklahoma City, Amarillo, Santa Fe, Albuquerque, Flagstaff, Los Angeles\n",
    "The corresponding positions in miles are: 0, 198, 303, 736, 871, 1175, 1475, 1544, 1913, 2448\n",
    "\n",
    "  * Construct a 2D grid of distances among each city along Route 66\n",
    "  * Convert that in km (those savages...)"
   ]
  },
  {
   "cell_type": "code",
   "execution_count": 65,
   "metadata": {},
   "outputs": [
    {
     "name": "stdout",
     "output_type": "stream",
     "text": [
      "[[   0  198  303  736  871 1175 1475 1544 1913 2448]\n",
      " [ 198    0  105  538  673  977 1277 1346 1715 2250]\n",
      " [ 303  105    0  433  568  872 1172 1241 1610 2145]\n",
      " [ 736  538  433    0  135  439  739  808 1177 1712]\n",
      " [ 871  673  568  135    0  304  604  673 1042 1577]\n",
      " [1175  977  872  439  304    0  300  369  738 1273]\n",
      " [1475 1277 1172  739  604  300    0   69  438  973]\n",
      " [1544 1346 1241  808  673  369   69    0  369  904]\n",
      " [1913 1715 1610 1177 1042  738  438  369    0  535]\n",
      " [2448 2250 2145 1712 1577 1273  973  904  535    0]]\n",
      "[[   0.       318.64932  487.63002 1184.47424 1401.73514 1890.9745\n",
      "  2373.7765  2484.82096 3078.66742 3939.66432]\n",
      " [ 318.64932    0.       168.9807   865.82492 1083.08582 1572.32518\n",
      "  2055.12718 2166.17164 2760.0181  3621.015  ]\n",
      " [ 487.63002  168.9807     0.       696.84422  914.10512 1403.34448\n",
      "  1886.14648 1997.19094 2591.0374  3452.0343 ]\n",
      " [1184.47424  865.82492  696.84422    0.       217.2609   706.50026\n",
      "  1189.30226 1300.34672 1894.19318 2755.19008]\n",
      " [1401.73514 1083.08582  914.10512  217.2609     0.       489.23936\n",
      "   972.04136 1083.08582 1676.93228 2537.92918]\n",
      " [1890.9745  1572.32518 1403.34448  706.50026  489.23936    0.\n",
      "   482.802    593.84646 1187.69292 2048.68982]\n",
      " [2373.7765  2055.12718 1886.14648 1189.30226  972.04136  482.802\n",
      "     0.       111.04446  704.89092 1565.88782]\n",
      " [2484.82096 2166.17164 1997.19094 1300.34672 1083.08582  593.84646\n",
      "   111.04446    0.       593.84646 1454.84336]\n",
      " [3078.66742 2760.0181  2591.0374  1894.19318 1676.93228 1187.69292\n",
      "   704.89092  593.84646    0.       860.9969 ]\n",
      " [3939.66432 3621.015   3452.0343  2755.19008 2537.92918 2048.68982\n",
      "  1565.88782 1454.84336  860.9969     0.     ]]\n"
     ]
    }
   ],
   "source": [
    "d=np.array([0,198,303,736,871,1175,1475,1544,1913,2448])\n",
    "l=np.tile(d,(10,1)).T\n",
    "m=abs(l-d)\n",
    "print(m)\n",
    "print(m*1.60934)"
   ]
  },
  {
   "cell_type": "markdown",
   "metadata": {},
   "source": [
    "7\\. Prime numbers sieve: compute the prime numbers in the 0-N (N=99 to start with) range with a sieve (mask).\n",
    "  * Constract a shape (100,) boolean array, the mask\n",
    "  * Identify the multiples of each number starting from 2 and set accordingly the corresponding mask element\n",
    "  * Apply the mask to obtain an array of ordered prime numbers\n",
    "  * Check the performances (timeit); how does it scale with N?\n",
    "  * Implement the optimization suggested in the [sieve of Eratosthenes](https://en.wikipedia.org/wiki/Sieve_of_Eratosthenes)"
   ]
  },
  {
   "cell_type": "code",
   "execution_count": 90,
   "metadata": {},
   "outputs": [
    {
     "name": "stdout",
     "output_type": "stream",
     "text": [
      "[ 0  1  2  3  5  7 11 13 17 19 23 29 31 37 41 43 47 53 59 61 67 71 73 79\n",
      " 83 89 97]\n",
      "19 µs ± 3.01 µs per loop (mean ± std. dev. of 7 runs, 100000 loops each)\n",
      "37 µs ± 3.48 µs per loop (mean ± std. dev. of 7 runs, 10000 loops each)\n",
      "65.9 µs ± 11.4 µs per loop (mean ± std. dev. of 7 runs, 10000 loops each)\n",
      "80.8 µs ± 6.22 µs per loop (mean ± std. dev. of 7 runs, 10000 loops each)\n"
     ]
    }
   ],
   "source": [
    "def mask(N):\n",
    "    l=np.ones(N,'bool')\n",
    "    for i in range(2,N):\n",
    "        n1=2\n",
    "        n=i*n1\n",
    "        if l[i]:\n",
    "            while n<N:\n",
    "                l[n]=False\n",
    "                n1+=1\n",
    "                n=i*n1\n",
    "    return l\n",
    "\n",
    "test=np.arange(100)\n",
    "print(test[mask(100)])\n",
    "\n",
    "for i in range(1,5):\n",
    "    test=np.arange(100*i)\n",
    "    %timeit test[mask(100*i)]\n",
    "\n",
    "            "
   ]
  },
  {
   "cell_type": "markdown",
   "metadata": {},
   "source": [
    "**N.B. the following exercises are meant to be solved only if you are familiar with the numpy random library. If not you can skip them (postponed for one of the next exercise sessions)**\n"
   ]
  },
  {
   "cell_type": "markdown",
   "metadata": {},
   "source": [
    "8\\. Diffusion using random walk\n",
    "\n",
    "Consider a simple random walk process: at each step in time, a walker jumps right or left (+1 or -1) with equal probability. The goal is to find the typical distance from the origin of a random walker after a given amount of time. \n",
    "To do that, let's simulate many walkers and create a 2D array with each walker as a raw and the actual time evolution as columns\n",
    "\n",
    "  * Take 1000 walkers and let them walk for 200 steps\n",
    "  * Use randint to create a 2D array of size walkers x steps with values -1 or 1\n",
    "  * Build the actual walking distances for each walker (i.e. another 2D array \"summing on each raw\")\n",
    "  * Take the square of that 2D array (elementwise)\n",
    "  * Compute the mean of the squared distances at each step (i.e. the mean along the columns)\n",
    "  * Plot the average distances (sqrt(distance\\*\\*2)) as a function of time (step)\n",
    "  \n",
    "Did you get what you expected?"
   ]
  },
  {
   "cell_type": "markdown",
   "metadata": {},
   "source": [
    "9\\. Analyze a data file \n",
    "  * Download the population of hares, lynxes and carrots at the beginning of the last century.\n",
    "    ```python\n",
    "    ! wget https://www.dropbox.com/s/3vigxoqayo389uc/populations.txt\n",
    "    ```\n",
    "\n",
    "  * Check the content by looking within the file\n",
    "  * Load the data (use an appropriate numpy method) into a 2D array\n",
    "  * Create arrays out of the columns, the arrays being (in order): *year*, *hares*, *lynxes*, *carrots* \n",
    "  * Plot the 3 populations over the years\n",
    "  * Compute the main statistical properties of the dataset (mean, std, correlations, etc.)\n",
    "  * Which species has the highest population each year?\n",
    "\n",
    "Do you feel there is some evident correlation here? [Studies](https://www.enr.gov.nt.ca/en/services/lynx/lynx-snowshoe-hare-cycle) tend to believe so."
   ]
  },
  {
   "cell_type": "code",
   "execution_count": null,
   "metadata": {},
   "outputs": [],
   "source": []
  }
 ],
 "metadata": {
  "kernelspec": {
   "display_name": "Python 3",
   "language": "python",
   "name": "python3"
  },
  "language_info": {
   "codemirror_mode": {
    "name": "ipython",
    "version": 3
   },
   "file_extension": ".py",
   "mimetype": "text/x-python",
   "name": "python",
   "nbconvert_exporter": "python",
   "pygments_lexer": "ipython3",
   "version": "3.8.8"
  }
 },
 "nbformat": 4,
 "nbformat_minor": 2
}
