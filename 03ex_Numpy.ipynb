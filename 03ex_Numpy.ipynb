{
 "cells": [
  {
   "cell_type": "markdown",
   "metadata": {},
   "source": [
    "### Numpy basics"
   ]
  },
  {
   "cell_type": "code",
   "execution_count": 1,
   "metadata": {},
   "outputs": [],
   "source": [
    "import numpy as np\n",
    "from math import pi\n",
    "from matplotlib import pyplot as plt\n",
    "import time\n",
    "import numpy.random as npr"
   ]
  },
  {
   "cell_type": "markdown",
   "metadata": {},
   "source": [
    "1\\. Find the row, column and overall means for the following matrix:\n",
    "\n",
    "```python\n",
    "m = np.arange(12).reshape((3,4))\n",
    "```"
   ]
  },
  {
   "cell_type": "code",
   "execution_count": 5,
   "metadata": {},
   "outputs": [
    {
     "name": "stdout",
     "output_type": "stream",
     "text": [
      "mean of the raw 0: 1.5\n",
      "mean of the raw 1: 5.5\n",
      "mean of the raw 2: 9.5\n",
      "mean of the column 0: 4.0\n",
      "mean of the column 1: 5.0\n",
      "mean of the column 2: 6.0\n",
      "mean of the column 3: 7.0\n",
      "mean of the matrix: 5.5\n"
     ]
    }
   ],
   "source": [
    "m = np.arange(12).reshape((3,4))\n",
    "\n",
    "i = 0\n",
    "for i in range (3):\n",
    "    print('mean of the raw %d: %1.1f' %(i,m[i,:].mean()))\n",
    "    \n",
    "i = 0\n",
    "for i in range (4):\n",
    "    print('mean of the column %d: %1.1f' %(i,m[:,i].mean()))\n",
    "\n",
    "print('mean of the matrix: %1.1f' %(m.mean()))    "
   ]
  },
  {
   "cell_type": "markdown",
   "metadata": {},
   "source": [
    "2\\. Find the outer product of the following two vecotrs\n",
    "\n",
    "```python\n",
    "u = np.array([1,3,5,7])\n",
    "v = np.array([2,4,6,8])\n",
    "```\n",
    "\n",
    "Do this in the following ways:\n",
    "\n",
    "   * Using the function outer in numpy\n",
    "   * Using a nested for loop or list comprehension\n",
    "   * Using numpy broadcasting operatoins\n"
   ]
  },
  {
   "cell_type": "code",
   "execution_count": 6,
   "metadata": {
    "scrolled": false
   },
   "outputs": [
    {
     "name": "stdout",
     "output_type": "stream",
     "text": [
      "[[ 2  4  6  8]\n",
      " [ 6 12 18 24]\n",
      " [10 20 30 40]\n",
      " [14 28 42 56]] \n",
      "\n",
      "[[ 2  4  6  8]\n",
      " [ 6 12 18 24]\n",
      " [10 20 30 40]\n",
      " [14 28 42 56]] \n",
      "\n",
      "[[ 2  4  6  8]\n",
      " [ 6 12 18 24]\n",
      " [10 20 30 40]\n",
      " [14 28 42 56]]\n"
     ]
    }
   ],
   "source": [
    "u = np.array([1,3,5,7])\n",
    "v = np.array([2,4,6,8])\n",
    "\n",
    "m0 = np.outer(u,v)\n",
    "print(m0,'\\n')\n",
    "m1 = [[i*j for i in v] for j in u]\n",
    "m1 = np.array(m1)\n",
    "print(m1,'\\n')\n",
    "m2 = u.reshape(-1,1)*v \n",
    "print(m2)"
   ]
  },
  {
   "cell_type": "markdown",
   "metadata": {},
   "source": [
    "3\\. Create a 10 by 6 matrix of random uniform numbers. Set all rows with any entry less than 0.1 to be zero\n",
    "\n",
    "Hint: Use the following numpy functions - np.random.random, np.any as well as Boolean indexing and the axis argument."
   ]
  },
  {
   "cell_type": "code",
   "execution_count": 8,
   "metadata": {},
   "outputs": [
    {
     "name": "stdout",
     "output_type": "stream",
     "text": [
      "[[0.19151945 0.62210877 0.43772774 0.78535858 0.77997581 0.27259261]\n",
      " [0.27646426 0.80187218 0.95813935 0.87593263 0.35781727 0.50099513]\n",
      " [0.68346294 0.71270203 0.37025075 0.56119619 0.50308317 0.01376845]\n",
      " [0.77282662 0.88264119 0.36488598 0.61539618 0.07538124 0.36882401]\n",
      " [0.9331401  0.65137814 0.39720258 0.78873014 0.31683612 0.56809865]\n",
      " [0.86912739 0.43617342 0.80214764 0.14376682 0.70426097 0.70458131]\n",
      " [0.21879211 0.92486763 0.44214076 0.90931596 0.05980922 0.18428708]\n",
      " [0.04735528 0.67488094 0.59462478 0.53331016 0.04332406 0.56143308]\n",
      " [0.32966845 0.50296683 0.11189432 0.60719371 0.56594464 0.00676406]\n",
      " [0.61744171 0.91212289 0.79052413 0.99208147 0.95880176 0.79196414]] \n",
      "\n",
      "\n",
      "[[0.19151945 0.62210877 0.43772774 0.78535858 0.77997581 0.27259261]\n",
      " [0.27646426 0.80187218 0.95813935 0.87593263 0.35781727 0.50099513]\n",
      " [0.68346294 0.71270203 0.37025075 0.56119619 0.50308317 0.01376845]\n",
      " [0.77282662 0.88264119 0.36488598 0.61539618 0.07538124 0.36882401]\n",
      " [0.9331401  0.65137814 0.39720258 0.78873014 0.31683612 0.56809865]\n",
      " [0.86912739 0.43617342 0.80214764 0.14376682 0.70426097 0.70458131]\n",
      " [0.21879211 0.92486763 0.44214076 0.90931596 0.05980922 0.18428708]\n",
      " [0.         0.         0.         0.         0.         0.        ]\n",
      " [0.32966845 0.50296683 0.11189432 0.60719371 0.56594464 0.00676406]\n",
      " [0.61744171 0.91212289 0.79052413 0.99208147 0.95880176 0.79196414]]\n"
     ]
    }
   ],
   "source": [
    "npr.seed(1234)\n",
    "\n",
    "m = npr.rand(10,6)\n",
    "print(m ,'\\n\\n')\n",
    "\n",
    "for i in range (np.shape(m)[0]):\n",
    "    if m[i,0] < 0.1: m[i,:] = np.zeros(np.shape(m)[1])\n",
    "   \n",
    "print(m)"
   ]
  },
  {
   "cell_type": "markdown",
   "metadata": {},
   "source": [
    "4\\. Use np.linspace to create an array of 100 numbers between 0 and 2π (includsive).\n",
    "\n",
    "  * Extract every 10th element using slice notation\n",
    "  * Reverse the array using slice notation\n",
    "  * Extract elements where the absolute difference between the sine and cosine functions evaluated at that element is less than 0.1\n",
    "  * Make a plot showing the sin and cos functions and indicate where they are close"
   ]
  },
  {
   "cell_type": "code",
   "execution_count": 54,
   "metadata": {},
   "outputs": [
    {
     "name": "stdout",
     "output_type": "stream",
     "text": [
      "10th elements: [0.57119866 1.20586385 1.84052903 2.47519421 3.10985939 3.74452458\n",
      " 4.37918976 5.01385494 5.64852012 6.28318531] \n",
      "\n",
      "reverted aray: [6.28318531 6.21971879 6.15625227 6.09278575 6.02931923 5.96585272\n",
      " 5.9023862  5.83891968 5.77545316 5.71198664 5.64852012 5.58505361\n",
      " 5.52158709 5.45812057 5.39465405 5.33118753 5.26772102 5.2042545\n",
      " 5.14078798 5.07732146 5.01385494 4.95038842 4.88692191 4.82345539\n",
      " 4.75998887 4.69652235 4.63305583 4.56958931 4.5061228  4.44265628\n",
      " 4.37918976 4.31572324 4.25225672 4.1887902  4.12532369 4.06185717\n",
      " 3.99839065 3.93492413 3.87145761 3.8079911  3.74452458 3.68105806\n",
      " 3.61759154 3.55412502 3.4906585  3.42719199 3.36372547 3.30025895\n",
      " 3.23679243 3.17332591 3.10985939 3.04639288 2.98292636 2.91945984\n",
      " 2.85599332 2.7925268  2.72906028 2.66559377 2.60212725 2.53866073\n",
      " 2.47519421 2.41172769 2.34826118 2.28479466 2.22132814 2.15786162\n",
      " 2.0943951  2.03092858 1.96746207 1.90399555 1.84052903 1.77706251\n",
      " 1.71359599 1.65012947 1.58666296 1.52319644 1.45972992 1.3962634\n",
      " 1.33279688 1.26933037 1.20586385 1.14239733 1.07893081 1.01546429\n",
      " 0.95199777 0.88853126 0.82506474 0.76159822 0.6981317  0.63466518\n",
      " 0.57119866 0.50773215 0.44426563 0.38079911 0.31733259 0.25386607\n",
      " 0.19039955 0.12693304 0.06346652 0.        ] \n",
      "\n",
      "trigonometric condition: [0.76159822 0.82506474 3.87145761 3.93492413] \n",
      "\n"
     ]
    },
    {
     "data": {
      "image/png": "[encoded data removed]",
      "text/plain": [
       "<Figure size 432x288 with 2 Axes>"
      ]
     },
     "metadata": {
      "needs_background": "light"
     },
     "output_type": "display_data"
    }
   ],
   "source": [
    "l = np.linspace(0,2*pi,100)#original array\n",
    "s = l.reshape(10,10)\n",
    "d = s[:,9]\n",
    "r = l[::-1]\n",
    "\n",
    "mask = (abs(np.cos(l) - np.sin(l)) < 0.1)\n",
    "l_f = l[mask]\n",
    "\n",
    "print('10th elements:',d,'\\n')\n",
    "print('reverted aray:', r, '\\n') \n",
    "print('trigonometric condition:',l_f, '\\n')\n",
    "\n",
    "#plot \n",
    "fig, axs = plt.subplots(2)\n",
    "\n",
    "axs[0].scatter(l_f, np.sin(l_f), marker='.', color = 'blue', linewidths = 3)\n",
    "axs[0].scatter(l_f, np.cos(l_f), marker='.', color = 'black', linewidths = 3)\n",
    "axs[0].plot(l,np.cos(l),color = 'black', alpha = 0.7, label = 'cosine')\n",
    "axs[0].plot(l,np.sin(l), color = 'blue', alpha = 0.7, label = 'sine')\n",
    "axs[0].set_ylim(0.5,1)\n",
    "axs[0].set_xlim(0.5,1.2)\n",
    "axs[0].legend(loc = \"lower left\")\n",
    "axs[0].set_title('trigonometric condition')\n",
    "\n",
    "axs[1].plot(l,np.cos(l),color = 'black', label = 'cosine')\n",
    "axs[1].plot(l,np.sin(l), color = 'blue', label = 'sine')\n",
    "axs[1].set_title('sin and cos')\n",
    "axs[1].legend(loc = \"lower left\")\n",
    "plt.tight_layout()\n",
    "plt.show()"
   ]
  },
  {
   "cell_type": "markdown",
   "metadata": {},
   "source": [
    "5\\. Create a matrix that shows the 10 by 10 multiplication table.\n",
    "\n",
    " * Find the trace of the matrix\n",
    " * Extract the anto-diagonal (this should be ```array([10, 18, 24, 28, 30, 30, 28, 24, 18, 10])```)\n",
    " * Extract the diagnoal offset by 1 upwards (this should be ```array([ 2,  6, 12, 20, 30, 42, 56, 72, 90])```)"
   ]
  },
  {
   "cell_type": "code",
   "execution_count": 55,
   "metadata": {},
   "outputs": [
    {
     "name": "stdout",
     "output_type": "stream",
     "text": [
      "anto-diagonal: [10 18 24 28 30 30 28 24 18 10]\n",
      "trace: 385\n",
      "offset-diagonal: [ 2  6 12 20 30 42 56 72 90]\n"
     ]
    }
   ],
   "source": [
    "r = np.arange(1,11)\n",
    "c = r.copy()\n",
    "c = c.reshape(-1,1)\n",
    "tn = c*r\n",
    "\n",
    "trace = tn.trace()\n",
    "d = tn[::-1,:].diagonal()\n",
    "d1 = tn[1:,:9].diagonal()\n",
    "\n",
    "print('anto-diagonal:',d)\n",
    "print('trace:',trace)\n",
    "print('offset-diagonal:',d1)\n"
   ]
  },
  {
   "cell_type": "markdown",
   "metadata": {},
   "source": [
    "6\\. Use broadcasting to create a grid of distances\n",
    "\n",
    "Route 66 crosses the following cities in the US: Chicago, Springfield, Saint-Louis, Tulsa, Oklahoma City, Amarillo, Santa Fe, Albuquerque, Flagstaff, Los Angeles\n",
    "The corresponding positions in miles are: 0, 198, 303, 736, 871, 1175, 1475, 1544, 1913, 2448\n",
    "\n",
    "  * Construct a 2D grid of distances among each city along Route 66\n",
    "  * Convert that in km (those savages...)"
   ]
  },
  {
   "cell_type": "code",
   "execution_count": 56,
   "metadata": {},
   "outputs": [
    {
     "name": "stdout",
     "output_type": "stream",
     "text": [
      "distance in miles:\n",
      " [['' 'Ch' 'Spr' 'Snt-L' 'Tul' 'O.C' 'Am' 'Snt Fe' 'Al' 'Fl' 'L.A']\n",
      " ['Ch' '0' '198' '303' '736' '871' '1175' '1475' '1544' '1913' '2448']\n",
      " ['Spr' '198' '0' '105' '538' '673' '977' '1277' '1346' '1715' '2250']\n",
      " ['Snt-L' '303' '105' '0' '433' '568' '872' '1172' '1241' '1610' '2145']\n",
      " ['Tul' '736' '538' '433' '0' '135' '439' '739' '808' '1177' '1712']\n",
      " ['O.C' '871' '673' '568' '135' '0' '304' '604' '673' '1042' '1577']\n",
      " ['Am' '1175' '977' '872' '439' '304' '0' '300' '369' '738' '1273']\n",
      " ['Snt Fe' '1475' '1277' '1172' '739' '604' '300' '0' '69' '438' '973']\n",
      " ['Al' '1544' '1346' '1241' '808' '673' '369' '69' '0' '369' '904']\n",
      " ['Fl' '1913' '1715' '1610' '1177' '1042' '738' '438' '369' '0' '535']\n",
      " ['L.A' '2448' '2250' '2145' '1712' '1577' '1273' '973' '904' '535' '0']] \n",
      "\n",
      "distance in km:\n",
      " [['' 'Ch' 'Spr' 'Snt-L' 'Tul' 'O.C' 'Am' 'Snt Fe' 'Al' 'Fl' 'L.A']\n",
      " ['Ch' '0.0' '319.35' '488.71' '1187.1' '1404.84' '1895.16' '2379.03'\n",
      "  '2490.32' '3085.48' '3948.39']\n",
      " ['Spr' '319.35' '0.0' '169.35' '867.74' '1085.48' '1575.81' '2059.68'\n",
      "  '2170.97' '2766.13' '3629.03']\n",
      " ['Snt-L' '488.71' '169.35' '0.0' '698.39' '916.13' '1406.45' '1890.32'\n",
      "  '2001.61' '2596.77' '3459.68']\n",
      " ['Tul' '1187.1' '867.74' '698.39' '0.0' '217.74' '708.06' '1191.94'\n",
      "  '1303.23' '1898.39' '2761.29']\n",
      " ['O.C' '1404.84' '1085.48' '916.13' '217.74' '0.0' '490.32' '974.19'\n",
      "  '1085.48' '1680.65' '2543.55']\n",
      " ['Am' '1895.16' '1575.81' '1406.45' '708.06' '490.32' '0.0' '483.87'\n",
      "  '595.16' '1190.32' '2053.23']\n",
      " ['Snt Fe' '2379.03' '2059.68' '1890.32' '1191.94' '974.19' '483.87'\n",
      "  '0.0' '111.29' '706.45' '1569.35']\n",
      " ['Al' '2490.32' '2170.97' '2001.61' '1303.23' '1085.48' '595.16'\n",
      "  '111.29' '0.0' '595.16' '1458.06']\n",
      " ['Fl' '3085.48' '2766.13' '2596.77' '1898.39' '1680.65' '1190.32'\n",
      "  '706.45' '595.16' '0.0' '862.9']\n",
      " ['L.A' '3948.39' '3629.03' '3459.68' '2761.29' '2543.55' '2053.23'\n",
      "  '1569.35' '1458.06' '862.9' '0.0']] \n",
      "\n"
     ]
    }
   ],
   "source": [
    "lr = np.array(['Ch','Spr','Snt-L','Tul','O.C','Am','Snt Fe','Al','Fl','L.A']) #labels on the first row\n",
    "\n",
    "lc = lr.copy() # array of labels on the first column\n",
    "lc = np.concatenate((np.array(['']),lc)) #I add a space to fit the dimensions of the grid\n",
    "lc = lc.reshape(-1,1)\n",
    "\n",
    "r = np.array([0,198,303,736,871,1175,1475,1544,1913,2448])\n",
    "c = r.reshape(-1,1).copy()\n",
    "d = abs(c-r)\n",
    "\n",
    "d_l = np.vstack((lr,d))\n",
    "d_l = np.hstack((lc,d_l))\n",
    "\n",
    "print('distance in miles:\\n',d_l,'\\n')\n",
    "\n",
    "d_km = np.round(d/0.62,2)\n",
    "d_l_km = np.vstack((lr,d_km))\n",
    "d_l_km = np.hstack((lc,d_l_km))\n",
    "\n",
    "print('distance in km:\\n',d_l_km,'\\n')\n"
   ]
  },
  {
   "cell_type": "markdown",
   "metadata": {},
   "source": [
    "7\\. Prime numbers sieve: compute the prime numbers in the 0-N (N=99 to start with) range with a sieve (mask).\n",
    "  * Constract a shape (100,) boolean array, the mask\n",
    "  * Identify the multiples of each number starting from 2 and set accordingly the corresponding mask element\n",
    "  * Apply the mask to obtain an array of ordered prime numbers\n",
    "  * Check the performances (timeit); how does it scale with N?\n",
    "  * Implement the optimization suggested in the [sieve of Eratosthenes](https://en.wikipedia.org/wiki/Sieve_of_Eratosthenes)"
   ]
  },
  {
   "cell_type": "code",
   "execution_count": 5,
   "metadata": {},
   "outputs": [
    {
     "name": "stdout",
     "output_type": "stream",
     "text": [
      "time needed in seconds : 0.0029973983764648438\n",
      "\n",
      "prime numbers from  1 to 100: [ 1  2  3  5  7 11 13 17 19 23 29 31 37 41 43 47 53 59 61 67 71 73 79 83\n",
      " 89 97]\n"
     ]
    },
    {
     "data": {
      "image/png": "[encoded data removed]",
      "text/plain": [
       "<Figure size 432x288 with 1 Axes>"
      ]
     },
     "metadata": {
      "needs_background": "light"
     },
     "output_type": "display_data"
    }
   ],
   "source": [
    "N = 100\n",
    "start_time = time.time()\n",
    "L = np.arange(1,N+1)\n",
    "mask = np.array([False for i in range (N)])\n",
    "mask[0] = True\n",
    "mask[1] = True\n",
    "\n",
    "for n in range(3,N+1):\n",
    "    state = 'prime'\n",
    "    for d in range(2,n): \n",
    "        if n % d == 0:\n",
    "            state = 'composite'       \n",
    "    if state == 'prime':\n",
    "        mask[n-1] = True\n",
    "primi = L[mask]\n",
    "\n",
    "print('time needed in seconds :', time.time() - start_time)\n",
    "print('\\nprime numbers from  1 to %d:' %(N), primi)\n",
    "\n",
    "#Performances\n",
    "#N = 101  dt = 0.003 s \n",
    "#N = 1001 dt = 0.15 s\n",
    "#N = 10001 dt = 16,17 s\n",
    "#N = 20001 dt = 66 s\n",
    "#N = 100001 dt = 1616,23\n",
    "\n",
    "N = np.array([101,1001,10001,20001,40001,100001])\n",
    "plt.xlabel('N')\n",
    "plt.ylabel('dt')\n",
    "dt = np.array([0.003,0.15,16.17,67.49,290.94,1616.23])\n",
    "plt.scatter(N, dt, marker='.', color = 'red')\n",
    "plt.show()\n",
    "#there is an exponential relation between N and dt"
   ]
  },
  {
   "cell_type": "code",
   "execution_count": 7,
   "metadata": {},
   "outputs": [
    {
     "name": "stdout",
     "output_type": "stream",
     "text": [
      "time needed: 0.008000373840332031\n"
     ]
    },
    {
     "data": {
      "image/png": "[encoded data removed]",
      "text/plain": [
       "<Figure size 432x288 with 1 Axes>"
      ]
     },
     "metadata": {
      "needs_background": "light"
     },
     "output_type": "display_data"
    }
   ],
   "source": [
    "#sieve of Eratosthenes\n",
    "\n",
    "def step(l,p = 2):\n",
    "    \n",
    "    M = np.array([i*p for i in range(2,len(l)) if i*p in l])\n",
    "   \n",
    "    if len(M) == 0: return l\n",
    "    \n",
    "    mask = np.array([True for i in range(len(l))])\n",
    "    \n",
    "    for i in range (len(l)):\n",
    "        if any(l[i] == M): mask[i] = False\n",
    "   \n",
    "    l = l[mask]\n",
    "\n",
    "    if l[l.tolist().index(p) + 1] < max(l):\n",
    "        return step(l, p = l[l.tolist().index(p) + 1])\n",
    "    else: return l\n",
    "\n",
    "start_time = time.time()\n",
    "N = 100\n",
    "l = np.arange(2,N+1)\n",
    "step(l,2)\n",
    "print('time needed:', time.time() - start_time)\n",
    "\n",
    "\n",
    "#performances:\n",
    "# N = 100 dt = 0.008\n",
    "# N = 1000 dt = 0.122\n",
    "# N = 10000 dt = 3.973\n",
    "# N = 20000 dt = 13.221\n",
    "# N = 40000 dt = 49.825\n",
    "# N = 100000 dt = 269.666\n",
    "\n",
    "N = np.array([100,1000,10000,20000,40000,100000])\n",
    "dt = np.array([0.008,0.122,3.973,13.221,49.825,269.666])\n",
    "plt.xlabel('N')\n",
    "plt.ylabel('dt')\n",
    "plt.scatter(N, dt, marker='.', color = 'red')\n",
    "plt.show()\n",
    "#this relation is also exponential"
   ]
  },
  {
   "cell_type": "markdown",
   "metadata": {},
   "source": [
    "**N.B. the following exercises are meant to be solved only if you are familiar with the numpy random library. If not you can skip them (postponed for one of the next exercise sessions)**\n"
   ]
  },
  {
   "cell_type": "markdown",
   "metadata": {},
   "source": [
    "8\\. Diffusion using random walk\n",
    "\n",
    "Consider a simple random walk process: at each step in time, a walker jumps right or left (+1 or -1) with equal probability. The goal is to find the typical distance from the origin of a random walker after a given amount of time. \n",
    "To do that, let's simulate many walkers and create a 2D array with each walker as a raw and the actual time evolution as columns\n",
    "\n",
    "  * Take 1000 walkers and let them walk for 200 steps\n",
    "  * Use randint to create a 2D array of size walkers x steps with values -1 or 1\n",
    "  * Build the actual walking distances for each walker (i.e. another 2D array \"summing on each raw\")\n",
    "  * Take the square of that 2D array (elementwise)\n",
    "  * Compute the mean of the squared distances at each step (i.e. the mean along the columns)\n",
    "  * Plot the average distances (sqrt(distance\\*\\*2)) as a function of time (step)\n",
    "  \n",
    "Did you get what you expected?"
   ]
  },
  {
   "cell_type": "markdown",
   "metadata": {},
   "source": [
    "9\\. Analyze a data file \n",
    "  * Download the population of hares, lynxes and carrots at the beginning of the last century.\n",
    "    ```python\n",
    "    ! wget https://www.dropbox.com/s/3vigxoqayo389uc/populations.txt\n",
    "    ```\n",
    "\n",
    "  * Check the content by looking within the file\n",
    "  * Load the data (use an appropriate numpy method) into a 2D array\n",
    "  * Create arrays out of the columns, the arrays being (in order): *year*, *hares*, *lynxes*, *carrots* \n",
    "  * Plot the 3 populations over the years\n",
    "  * Compute the main statistical properties of the dataset (mean, std, correlations, etc.)\n",
    "  * Which species has the highest population each year?\n",
    "\n",
    "Do you feel there is some evident correlation here? [Studies](https://www.enr.gov.nt.ca/en/services/lynx/lynx-snowshoe-hare-cycle) tend to believe so."
   ]
  }
 ],
 "metadata": {
  "kernelspec": {
   "display_name": "Python 3",
   "language": "python",
   "name": "python3"
  },
  "language_info": {
   "codemirror_mode": {
    "name": "ipython",
    "version": 3
   },
   "file_extension": ".py",
   "mimetype": "text/x-python",
   "name": "python",
   "nbconvert_exporter": "python",
   "pygments_lexer": "ipython3",
   "version": "3.8.8"
  }
 },
 "nbformat": 4,
 "nbformat_minor": 2
}
