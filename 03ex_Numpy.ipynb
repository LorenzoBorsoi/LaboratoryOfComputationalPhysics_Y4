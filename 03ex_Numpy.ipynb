{
 "cells": [
  {
   "cell_type": "code",
   "execution_count": 4,
   "metadata": {},
   "outputs": [],
   "source": [
    "import numpy as np"
   ]
  },
  {
   "cell_type": "markdown",
   "metadata": {},
   "source": [
    "### Numpy basics"
   ]
  },
  {
   "cell_type": "markdown",
   "metadata": {},
   "source": [
    "1\\. Find the row, column and overall means for the following matrix:\n",
    "\n",
    "```python\n",
    "m = np.arange(12).reshape((3,4))\n",
    "```"
   ]
  },
  {
   "cell_type": "code",
   "execution_count": 2,
   "metadata": {},
   "outputs": [
    {
     "name": "stdout",
     "output_type": "stream",
     "text": [
      "Matrix is: \n",
      " [[ 0  1  2  3]\n",
      " [ 4  5  6  7]\n",
      " [ 8  9 10 11]]\n",
      "Mean of the row number  0   [0 1 2 3] is  1.5\n",
      "Mean of the row number  1   [4 5 6 7] is  5.5\n",
      "Mean of the row number  2   [ 8  9 10 11] is  9.5\n",
      "Mean of the column number  0   [0 4 8] is  4.0\n",
      "Mean of the column number  1   [1 5 9] is  5.0\n",
      "Mean of the column number  2   [ 2  6 10] is  6.0\n",
      "Mean of the column number  3   [ 3  7 11] is  7.0\n"
     ]
    }
   ],
   "source": [
    "m = np.arange(12).reshape((3,4))\n",
    "print (\"Matrix is: \\n\", m)\n",
    "\n",
    "for i in range(3):\n",
    "    print(\"Mean of the row number \", i ,\" \" ,m[i,:], \"is \", np.mean(m[i,:]))\n",
    "\n",
    "for i in range(4):\n",
    "    print(\"Mean of the column number \", i ,\" \" ,m[:,i], \"is \", np.mean(m[:,i]))\n"
   ]
  },
  {
   "cell_type": "markdown",
   "metadata": {},
   "source": [
    "2\\. Find the outer product of the following two vecotrs\n",
    "\n",
    "```python\n",
    "u = np.array([1,3,5,7])\n",
    "v = np.array([2,4,6,8])\n",
    "```\n",
    "\n",
    "Do this in the following ways:\n",
    "\n",
    "   * Using the function outer in numpy\n",
    "   * Using a nested for loop or list comprehension\n",
    "   * Using numpy broadcasting operatoins\n"
   ]
  },
  {
   "cell_type": "code",
   "execution_count": 3,
   "metadata": {},
   "outputs": [
    {
     "name": "stdout",
     "output_type": "stream",
     "text": [
      "Input vectors are : \n",
      " u = [1 3 5 7] \n",
      " v = [2 4 6 8]\n",
      "\n",
      "Outer product with numpy = \n",
      " [[ 2  4  6  8]\n",
      " [ 6 12 18 24]\n",
      " [10 20 30 40]\n",
      " [14 28 42 56]]\n",
      "\n",
      "Outer product with list comprehension = \n",
      " [[ 2  4  6  8]\n",
      " [ 6 12 18 24]\n",
      " [10 20 30 40]\n",
      " [14 28 42 56]]\n",
      "\n",
      "Outer product with numpy broadcasting operations = \n",
      " [[ 2  4  6  8]\n",
      " [ 6 12 18 24]\n",
      " [10 20 30 40]\n",
      " [14 28 42 56]]\n"
     ]
    }
   ],
   "source": [
    "u = np.array([1,3,5,7])\n",
    "v = np.array([2,4,6,8])\n",
    "\n",
    "print(\"Input vectors are : \\n u =\", u , \"\\n v =\", v)\n",
    "\n",
    "print(\"\\nOuter product with numpy = \\n\", np.outer(u,v))\n",
    "\n",
    "\n",
    "out = np.array([ x*y    for x in u    for y in v ]).reshape(len(u),len(v))\n",
    "print(\"\\nOuter product with list comprehension = \\n\", out)\n",
    "\n",
    "mat=np.ones((len(u), len(v)), dtype=int)* u.reshape(-1,1)*v\n",
    "\n",
    "print(\"\\nOuter product with numpy broadcasting operations = \\n\", mat)"
   ]
  },
  {
   "cell_type": "markdown",
   "metadata": {},
   "source": [
    "3\\. Create a 10 by 6 matrix of random uniform numbers. Set all rows with any entry less than 0.1 to be zero\n",
    "\n",
    "Hint: Use the following numpy functions - np.random.random, np.any as well as Boolean indexing and the axis argument."
   ]
  },
  {
   "cell_type": "code",
   "execution_count": 27,
   "metadata": {},
   "outputs": [
    {
     "name": "stdout",
     "output_type": "stream",
     "text": [
      "Matrix with random uniform: \n",
      " [[0.17061425 0.44696919 0.85073748 0.76062178 0.85299987 0.72819539]\n",
      " [0.23881888 0.91667071 0.16300231 0.49769239 0.22702038 0.9638514 ]\n",
      " [0.85433092 0.06972896 0.64751995 0.13499154 0.26258059 0.64233871]\n",
      " [0.64045432 0.48795331 0.63716115 0.72123167 0.98281312 0.56123491]\n",
      " [0.02787596 0.3398087  0.1786193  0.88717648 0.73598201 0.41464445]\n",
      " [0.32661543 0.4990138  0.6880387  0.20830948 0.07707598 0.79239427]\n",
      " [0.0086234  0.31244895 0.25393695 0.09433346 0.57372333 0.4190225 ]\n",
      " [0.1921483  0.7868919  0.96891706 0.22354161 0.56664839 0.6545416 ]\n",
      " [0.79898322 0.37097486 0.291686   0.06725304 0.78092008 0.36214169]\n",
      " [0.43378001 0.09689167 0.85378759 0.30057449 0.18489773 0.9004124 ]]\n",
      "\n",
      " [False False  True False  True  True  True False  True  True]\n",
      "\n",
      " [[0.17061425 0.44696919 0.85073748 0.76062178 0.85299987 0.72819539]\n",
      " [0.23881888 0.91667071 0.16300231 0.49769239 0.22702038 0.9638514 ]\n",
      " [0.         0.         0.         0.         0.         0.        ]\n",
      " [0.64045432 0.48795331 0.63716115 0.72123167 0.98281312 0.56123491]\n",
      " [0.         0.         0.         0.         0.         0.        ]\n",
      " [0.         0.         0.         0.         0.         0.        ]\n",
      " [0.         0.         0.         0.         0.         0.        ]\n",
      " [0.1921483  0.7868919  0.96891706 0.22354161 0.56664839 0.6545416 ]\n",
      " [0.         0.         0.         0.         0.         0.        ]\n",
      " [0.         0.         0.         0.         0.         0.        ]]\n"
     ]
    }
   ],
   "source": [
    "m = np.random.random((10,6))\n",
    "print (\"Matrix with random uniform: \\n\", m)\n",
    "\n",
    "bol_mat= np.any(m < 0.1 , axis=1)\n",
    "print(\"\\n\", bol_mat)\n",
    "\n",
    "m[bol_mat, :] = 0,\n",
    "\n",
    "print(\"\\n\", m)"
   ]
  },
  {
   "cell_type": "markdown",
   "metadata": {},
   "source": [
    "4\\. Use np.linspace to create an array of 100 numbers between 0 and 2π (includsive).\n",
    "\n",
    "  * Extract every 10th element using slice notation\n",
    "  * Reverse the array using slice notation\n",
    "  * Extract elements where the absolute difference between the sine and cosine functions evaluated at that element is less than 0.1\n",
    "  * Make a plot showing the sin and cos functions and indicate where they are close"
   ]
  },
  {
   "cell_type": "code",
   "execution_count": 24,
   "metadata": {},
   "outputs": [
    {
     "name": "stdout",
     "output_type": "stream",
     "text": [
      "[0.         0.06346652 0.12693304 0.19039955 0.25386607 0.31733259\n",
      " 0.38079911 0.44426563 0.50773215 0.57119866 0.63466518 0.6981317\n",
      " 0.76159822 0.82506474 0.88853126 0.95199777 1.01546429 1.07893081\n",
      " 1.14239733 1.20586385 1.26933037 1.33279688 1.3962634  1.45972992\n",
      " 1.52319644 1.58666296 1.65012947 1.71359599 1.77706251 1.84052903\n",
      " 1.90399555 1.96746207 2.03092858 2.0943951  2.15786162 2.22132814\n",
      " 2.28479466 2.34826118 2.41172769 2.47519421 2.53866073 2.60212725\n",
      " 2.66559377 2.72906028 2.7925268  2.85599332 2.91945984 2.98292636\n",
      " 3.04639288 3.10985939 3.17332591 3.23679243 3.30025895 3.36372547\n",
      " 3.42719199 3.4906585  3.55412502 3.61759154 3.68105806 3.74452458\n",
      " 3.8079911  3.87145761 3.93492413 3.99839065 4.06185717 4.12532369\n",
      " 4.1887902  4.25225672 4.31572324 4.37918976 4.44265628 4.5061228\n",
      " 4.56958931 4.63305583 4.69652235 4.75998887 4.82345539 4.88692191\n",
      " 4.95038842 5.01385494 5.07732146 5.14078798 5.2042545  5.26772102\n",
      " 5.33118753 5.39465405 5.45812057 5.52158709 5.58505361 5.64852012\n",
      " 5.71198664 5.77545316 5.83891968 5.9023862  5.96585272 6.02931923\n",
      " 6.09278575 6.15625227 6.21971879 6.28318531]\n",
      "(100,)\n",
      "\n",
      " [0.         0.63466518 1.26933037 1.90399555 2.53866073 3.17332591\n",
      " 3.8079911  4.44265628 5.07732146 5.71198664]\n",
      "(10,)\n",
      "\n",
      " [6.28318531 6.21971879 6.15625227 6.09278575 6.02931923 5.96585272\n",
      " 5.9023862  5.83891968 5.77545316 5.71198664 5.64852012 5.58505361\n",
      " 5.52158709 5.45812057 5.39465405 5.33118753 5.26772102 5.2042545\n",
      " 5.14078798 5.07732146 5.01385494 4.95038842 4.88692191 4.82345539\n",
      " 4.75998887 4.69652235 4.63305583 4.56958931 4.5061228  4.44265628\n",
      " 4.37918976 4.31572324 4.25225672 4.1887902  4.12532369 4.06185717\n",
      " 3.99839065 3.93492413 3.87145761 3.8079911  3.74452458 3.68105806\n",
      " 3.61759154 3.55412502 3.4906585  3.42719199 3.36372547 3.30025895\n",
      " 3.23679243 3.17332591 3.10985939 3.04639288 2.98292636 2.91945984\n",
      " 2.85599332 2.7925268  2.72906028 2.66559377 2.60212725 2.53866073\n",
      " 2.47519421 2.41172769 2.34826118 2.28479466 2.22132814 2.15786162\n",
      " 2.0943951  2.03092858 1.96746207 1.90399555 1.84052903 1.77706251\n",
      " 1.71359599 1.65012947 1.58666296 1.52319644 1.45972992 1.3962634\n",
      " 1.33279688 1.26933037 1.20586385 1.14239733 1.07893081 1.01546429\n",
      " 0.95199777 0.88853126 0.82506474 0.76159822 0.6981317  0.63466518\n",
      " 0.57119866 0.50773215 0.44426563 0.38079911 0.31733259 0.25386607\n",
      " 0.19039955 0.12693304 0.06346652 0.        ]\n",
      "(100,)\n",
      "\n",
      " [0.76159822 0.82506474 3.87145761 3.93492413]\n",
      "(4,)\n"
     ]
    },
    {
     "data": {
      "image/png": "[encoded data removed]",
      "text/plain": [
       "<Figure size 432x288 with 1 Axes>"
      ]
     },
     "metadata": {
      "needs_background": "light"
     },
     "output_type": "display_data"
    }
   ],
   "source": [
    "import matplotlib.pyplot as plt\n",
    "\n",
    "arr=np.linspace(0, 2*np.pi , 100 , endpoint=True)\n",
    "print(arr)\n",
    "print(arr.shape)\n",
    "\n",
    "\n",
    "sli=arr[::10]\n",
    "print(\"\\n\",sli)\n",
    "print(sli.shape)\n",
    "\n",
    "rev=arr[::-1]\n",
    "print(\"\\n\",rev)\n",
    "print(rev.shape)\n",
    "\n",
    "\n",
    "ex_ele=arr[abs(np.sin(arr) - np.cos(arr)) <= 0.1]\n",
    "print(\"\\n\",ex_ele)\n",
    "print(ex_ele.shape)\n",
    "\n",
    "\n",
    "plt.plot(arr , np.sin(arr), label=\"sin(x)\")\n",
    "plt.plot(arr , np.cos(arr), label=\"cos(x)\")\n",
    "plt.plot(ex_ele, np.sin(ex_ele), \"or\")\n",
    "plt.show()"
   ]
  },
  {
   "cell_type": "markdown",
   "metadata": {},
   "source": [
    "5\\. Create a matrix that shows the 10 by 10 multiplication table.\n",
    "\n",
    " * Find the trace of the matrix\n",
    " * Extract the anto-diagonal (this should be ```array([10, 18, 24, 28, 30, 30, 28, 24, 18, 10])```)\n",
    " * Extract the diagnoal offset by 1 upwards (this should be ```array([ 2,  6, 12, 20, 30, 42, 56, 72, 90])```)"
   ]
  },
  {
   "cell_type": "code",
   "execution_count": 5,
   "metadata": {},
   "outputs": [
    {
     "name": "stdout",
     "output_type": "stream",
     "text": [
      "10 by 10 mutiplication table: \n",
      " [[  1   2   3   4   5   6   7   8   9  10]\n",
      " [  2   4   6   8  10  12  14  16  18  20]\n",
      " [  3   6   9  12  15  18  21  24  27  30]\n",
      " [  4   8  12  16  20  24  28  32  36  40]\n",
      " [  5  10  15  20  25  30  35  40  45  50]\n",
      " [  6  12  18  24  30  36  42  48  54  60]\n",
      " [  7  14  21  28  35  42  49  56  63  70]\n",
      " [  8  16  24  32  40  48  56  64  72  80]\n",
      " [  9  18  27  36  45  54  63  72  81  90]\n",
      " [ 10  20  30  40  50  60  70  80  90 100]]\n",
      "\n",
      "The trace of the Matrix is  385\n",
      "\n",
      "Anti-diagonal: \n",
      " [10 18 24 28 30 30 28 24 18 10]\n",
      "\n",
      "Diagonal Offset by 1 updwards: \n",
      " [ 2  6 12 20 30 42 56 72 90]\n"
     ]
    }
   ],
   "source": [
    "a= np.arange(1,11)\n",
    "m_table=a*a.reshape(10,1)\n",
    "print(\"10 by 10 mutiplication table: \\n\" , m_table)\n",
    "\n",
    "print(\"\\nThe trace of the Matrix is \", np.trace(m_table))\n",
    "\n",
    "flipped=np.fliplr(m_table)\n",
    "print(\"\\nAnti-diagonal: \\n\", flipped.diagonal())\n",
    "\n",
    "b = np.tril(m_table, 1)\n",
    "c = np.triu(b, 1)\n",
    "print(\"\\nDiagonal Offset by 1 updwards: \\n\",c[c != 0])"
   ]
  },
  {
   "cell_type": "markdown",
   "metadata": {},
   "source": [
    "6\\. Use broadcasting to create a grid of distances\n",
    "\n",
    "Route 66 crosses the following cities in the US: Chicago, Springfield, Saint-Louis, Tulsa, Oklahoma City, Amarillo, Santa Fe, Albuquerque, Flagstaff, Los Angeles\n",
    "The corresponding positions in miles are: 0, 198, 303, 736, 871, 1175, 1475, 1544, 1913, 2448\n",
    "\n",
    "  * Construct a 2D grid of distances among each city along Route 66\n",
    "  * Convert that in km (those savages...)"
   ]
  },
  {
   "cell_type": "code",
   "execution_count": 3,
   "metadata": {},
   "outputs": [
    {
     "name": "stdout",
     "output_type": "stream",
     "text": [
      "Cities of Route 66 : \n",
      "  ['Chicago' 'Springfield' 'Saint-Louis' 'Tulsa' 'Oklahoma City' 'Amarillo'\n",
      " 'Santa Fe' 'Albuquerque' 'Flagstaff' 'Los Angeles']\n",
      "\n",
      "Corresponding position (in miles) : \n",
      "  [   0  198  303  736  871 1175 1475 1544 1913 2448]\n",
      "\n",
      "\n",
      " SAVAGE grid of distances among each city along Route 66 (MILES): \n",
      "\n",
      " [[   0.  198.  303.  736.  871. 1175. 1475. 1544. 1913. 2448.]\n",
      " [ 198.    0.  105.  538.  673.  977. 1277. 1346. 1715. 2250.]\n",
      " [ 303.  105.    0.  433.  568.  872. 1172. 1241. 1610. 2145.]\n",
      " [ 736.  538.  433.    0.  135.  439.  739.  808. 1177. 1712.]\n",
      " [ 871.  673.  568.  135.    0.  304.  604.  673. 1042. 1577.]\n",
      " [1175.  977.  872.  439.  304.    0.  300.  369.  738. 1273.]\n",
      " [1475. 1277. 1172.  739.  604.  300.    0.   69.  438.  973.]\n",
      " [1544. 1346. 1241.  808.  673.  369.   69.    0.  369.  904.]\n",
      " [1913. 1715. 1610. 1177. 1042.  738.  438.  369.    0.  535.]\n",
      " [2448. 2250. 2145. 1712. 1577. 1273.  973.  904.  535.    0.]]\n",
      "\n",
      "\n",
      " USEFUL grid of distances among each city along Route 66 (Km): \n",
      "\n",
      " [[   0.   316.8  484.8 1177.6 1393.6 1880.  2360.  2470.4 3060.8 3916.8]\n",
      " [ 316.8    0.   168.   860.8 1076.8 1563.2 2043.2 2153.6 2744.  3600. ]\n",
      " [ 484.8  168.     0.   692.8  908.8 1395.2 1875.2 1985.6 2576.  3432. ]\n",
      " [1177.6  860.8  692.8    0.   216.   702.4 1182.4 1292.8 1883.2 2739.2]\n",
      " [1393.6 1076.8  908.8  216.     0.   486.4  966.4 1076.8 1667.2 2523.2]\n",
      " [1880.  1563.2 1395.2  702.4  486.4    0.   480.   590.4 1180.8 2036.8]\n",
      " [2360.  2043.2 1875.2 1182.4  966.4  480.     0.   110.4  700.8 1556.8]\n",
      " [2470.4 2153.6 1985.6 1292.8 1076.8  590.4  110.4    0.   590.4 1446.4]\n",
      " [3060.8 2744.  2576.  1883.2 1667.2 1180.8  700.8  590.4    0.   856. ]\n",
      " [3916.8 3600.  3432.  2739.2 2523.2 2036.8 1556.8 1446.4  856.     0. ]]\n"
     ]
    }
   ],
   "source": [
    "cities_list = [\"Chicago\", \"Springfield\", \"Saint-Louis\", \"Tulsa\", \"Oklahoma City\", \"Amarillo\", \"Santa Fe\", \"Albuquerque\", \"Flagstaff\", \"Los Angeles\"]\n",
    "cities=np.array(cities_list)\n",
    "print(\"Cities of Route 66 : \\n \", cities)\n",
    "\n",
    "miles_list = [0, 198, 303, 736, 871, 1175, 1475, 1544, 1913, 2448]\n",
    "miles =np.array(miles_list)\n",
    "print(\"\\nCorresponding position (in miles) : \\n \", miles)\n",
    "\n",
    "\n",
    "grid=np.ones((10,10))\n",
    "\n",
    "for i in range (10):\n",
    "    for j in range(10):\n",
    "        grid[i,j]= abs(miles[j]-miles[i])\n",
    "             \n",
    "print(\"\\n\\n SAVAGE grid of distances among each city along Route 66 (MILES): \\n\\n\",grid)\n",
    "\n",
    "\n",
    "\n",
    "print(\"\\n\\n USEFUL grid of distances among each city along Route 66 (Km): \\n\\n\",grid*1.6)"
   ]
  },
  {
   "cell_type": "markdown",
   "metadata": {},
   "source": [
    "7\\. Prime numbers sieve: compute the prime numbers in the 0-N (N=99 to start with) range with a sieve (mask).\n",
    "  * Constract a shape (100,) boolean array, the mask\n",
    "  * Identify the multiples of each number starting from 2 and set accordingly the corresponding mask element\n",
    "  * Apply the mask to obtain an array of ordered prime numbers\n",
    "  * Check the performances (timeit); how does it scale with N?\n",
    "  * Implement the optimization suggested in the [sieve of Eratosthenes](https://en.wikipedia.org/wiki/Sieve_of_Eratosthenes)"
   ]
  },
  {
   "cell_type": "code",
   "execution_count": 30,
   "metadata": {},
   "outputs": [
    {
     "name": "stdout",
     "output_type": "stream",
     "text": [
      "The prime numbers between 0 and  100 : \n",
      " [ 2  3  5  7 11 13 17 19 23 29 31 37 41 43 47 53 59 61 67 71 73 79 83 89\n",
      " 97]\n",
      "Time (in UTC) to find them -->  0.0006356239318847656\n",
      "\n",
      "The growth seems to scale as O(N^2)\n"
     ]
    },
    {
     "data": {
      "image/png": "[encoded data removed]",
      "text/plain": [
       "<Figure size 432x288 with 1 Axes>"
      ]
     },
     "metadata": {
      "needs_background": "light"
     },
     "output_type": "display_data"
    }
   ],
   "source": [
    "import time\n",
    "import matplotlib.pyplot as plt\n",
    "\n",
    "def prime(N):\n",
    "    start_time = time.time()\n",
    "    mask=np.ones(N,bool)\n",
    "    mask[0], mask[1] = 0, 0\n",
    "\n",
    "    for i in range(2,N):\n",
    "        for j in range (i-2):\n",
    "            if (i % (2+j) == 0):\n",
    "                mask[i] = False\n",
    "    return mask , (time.time() - start_time)\n",
    "\n",
    "N_star=100\n",
    "arr=np.arange(100)\n",
    "\n",
    "print(\"The prime numbers between 0 and \", N_star , \": \\n\", arr[prime(N_star)[0]])\n",
    "print(\"Time (in UTC) to find them --> \" , prime(N_star)[1])\n",
    "\n",
    "\n",
    "\n",
    "N_list=[10*x for x in range(1,200)]\n",
    "timing = []\n",
    "\n",
    "for N in N_list:\n",
    "    timing.append(prime(N)[1])\n",
    "    \n",
    "\n",
    "plt.plot(N_list, timing)\n",
    "plt.show\n",
    "\n",
    "print(\"\\nThe growth seems to scale as O(N^2)\")\n",
    "\n",
    "\n"
   ]
  },
  {
   "cell_type": "code",
   "execution_count": 43,
   "metadata": {},
   "outputs": [
    {
     "name": "stdout",
     "output_type": "stream",
     "text": [
      "The prime numbers between 0 and  100 : \n",
      " [ 2  3  5  7 11 13 17 19 23 29 31 37 41 43 47 53 59 61 67 71 73 79 83 89\n",
      " 97]\n",
      "Time (in UTC) to find them -->  0.00022554397583007812\n",
      "\n",
      "The growth seems to scale linearly, as O(N)\n"
     ]
    },
    {
     "data": {
      "image/png": "[encoded data removed]",
      "text/plain": [
       "<Figure size 432x288 with 1 Axes>"
      ]
     },
     "metadata": {
      "needs_background": "light"
     },
     "output_type": "display_data"
    }
   ],
   "source": [
    "import time\n",
    "import matplotlib.pyplot as plt\n",
    "\n",
    "def Erat_prime(N):\n",
    "    start_time = time.time()\n",
    "    mask=np.ones(N,bool)\n",
    "    mask[0], mask[1] = 0, 0\n",
    "\n",
    "    for i in range(2,N):\n",
    "        if (mask[i] == True):\n",
    "            mask[i**2::i] = False\n",
    "    return mask , (time.time() - start_time)\n",
    "\n",
    "\n",
    "\n",
    "N_star=100\n",
    "arr=np.arange(100)\n",
    "print(\"The prime numbers between 0 and \", N_star , \": \\n\", arr[Erat_prime(N_star)[0]])\n",
    "print(\"Time (in UTC) to find them --> \" , Erat_prime(N_star)[1])\n",
    "\n",
    "\n",
    "\n",
    "\n",
    "N_list=[10*x for x in range(1,200)]\n",
    "timing = []\n",
    "\n",
    "for N in N_list:\n",
    "    timing.append(Erat_prime(N)[1])\n",
    "    \n",
    "\n",
    "\n",
    "plt.plot(N_list, timing)\n",
    "plt.show\n",
    "\n",
    "\n",
    "print(\"\\nThe growth seems to scale linearly, as O(N)\")\n"
   ]
  },
  {
   "cell_type": "markdown",
   "metadata": {},
   "source": [
    "**N.B. the following exercises are meant to be solved only if you are familiar with the numpy random library. If not you can skip them (postponed for one of the next exercise sessions)**\n"
   ]
  },
  {
   "cell_type": "markdown",
   "metadata": {},
   "source": [
    "8\\. Diffusion using random walk\n",
    "\n",
    "Consider a simple random walk process: at each step in time, a walker jumps right or left (+1 or -1) with equal probability. The goal is to find the typical distance from the origin of a random walker after a given amount of time. \n",
    "To do that, let's simulate many walkers and create a 2D array with each walker as a raw and the actual time evolution as columns\n",
    "\n",
    "  * Take 1000 walkers and let them walk for 200 steps\n",
    "  * Use randint to create a 2D array of size walkers x steps with values -1 or 1\n",
    "  * Build the actual walking distances for each walker (i.e. another 2D array \"summing on each raw\")\n",
    "  * Take the square of that 2D array (elementwise)\n",
    "  * Compute the mean of the squared distances at each step (i.e. the mean along the columns)\n",
    "  * Plot the average distances (sqrt(distance\\*\\*2)) as a function of time (step)\n",
    "  \n",
    "Did you get what you expected?"
   ]
  },
  {
   "cell_type": "code",
   "execution_count": 60,
   "metadata": {},
   "outputs": [
    {
     "data": {
      "image/png": "[encoded data removed]",
      "text/plain": [
       "<Figure size 432x288 with 1 Axes>"
      ]
     },
     "metadata": {
      "needs_background": "light"
     },
     "output_type": "display_data"
    },
    {
     "name": "stdout",
     "output_type": "stream",
     "text": [
      "\n",
      "Simulation and Expectation are corresponding\n"
     ]
    }
   ],
   "source": [
    "walkers = 1000\n",
    "steps = 200\n",
    "\n",
    "#Use randint to create a 2D array of size walkers x steps with values -1 or 1\n",
    "\n",
    "mat =  np.random.randint(0,2 , size =(walkers , steps))\n",
    "mat[mat==0]=-1\n",
    "\n",
    "\n",
    "\n",
    "#Build the actual walking distances for each walker (i.e. another 2D array \"summing on each raw\")\n",
    "\n",
    "walking_dist = np.empty_like(mat)\n",
    "for i in range(0,steps):\n",
    "    walking_dist[:,i] = mat[:,:i].sum(axis = 1)\n",
    "  \n",
    "\n",
    "\n",
    " #Take the square of that 2D array (elementwise)\n",
    "#Compute the mean of the squared distances at each step (i.e. the mean along the columns)\n",
    "\n",
    "mean_sq_dist = (walking_dist**2).mean(axis=0)\n",
    "\n",
    "\n",
    "\n",
    "#Plot the average distances (sqrt(distance**2)) as a function of time (step)\n",
    "\n",
    "import matplotlib.pyplot as plt\n",
    "\n",
    "plt.plot(range(steps), np.sqrt(mean_sq_dist), label = \"Simulation\")\n",
    "plt.plot(range(steps), np.sqrt(range(steps)), label = \"Expectation\")\n",
    "plt.legend()\n",
    "plt.show()\n",
    "\n",
    "print(\"\\nSimulation and Expectation are corresponding\")"
   ]
  },
  {
   "cell_type": "markdown",
   "metadata": {},
   "source": [
    "9\\. Analyze a data file \n",
    "  * Download the population of hares, lynxes and carrots at the beginning of the last century.\n",
    "    ```python\n",
    "    ! wget https://www.dropbox.com/s/3vigxoqayo389uc/populations.txt\n",
    "    ```\n",
    "\n",
    "  * Check the content by looking within the file\n",
    "  * Load the data (use an appropriate numpy method) into a 2D array\n",
    "  * Create arrays out of the columns, the arrays being (in order): *year*, *hares*, *lynxes*, *carrots* \n",
    "  * Plot the 3 populations over the years\n",
    "  * Compute the main statistical properties of the dataset (mean, std, correlations, etc.)\n",
    "  * Which species has the highest population each year?\n",
    "\n",
    "Do you feel there is some evident correlation here? [Studies](https://www.enr.gov.nt.ca/en/services/lynx/lynx-snowshoe-hare-cycle) tend to believe so."
   ]
  },
  {
   "cell_type": "code",
   "execution_count": 6,
   "metadata": {},
   "outputs": [
    {
     "name": "stdout",
     "output_type": "stream",
     "text": [
      "--2021-11-16 15:08:05--  https://www.dropbox.com/s/3vigxoqayo389uc/populations.txt\n",
      "Risoluzione di www.dropbox.com (www.dropbox.com)... 162.125.69.18, 2620:100:6025:18::a27d:4512\n",
      "Connessione a www.dropbox.com (www.dropbox.com)|162.125.69.18|:443... connesso.\n",
      "Richiesta HTTP inviata, in attesa di risposta... 301 Moved Permanently\n",
      "Posizione: /s/raw/3vigxoqayo389uc/populations.txt [segue]\n",
      "--2021-11-16 15:08:05--  https://www.dropbox.com/s/raw/3vigxoqayo389uc/populations.txt\n",
      "Riutilizzo della connessione esistente a www.dropbox.com:443.\n",
      "Richiesta HTTP inviata, in attesa di risposta... 302 Found\n",
      "Posizione: https://uc4dc760c023a86598201f0a611d.dl.dropboxusercontent.com/cd/0/inline/BaFHCdIuH4ulnQb_Ew3SYZZd0wxicKak2bTuq4P_nVyGbzdxc429rNrKX7JqsPIuGpnn6pGnrVzTXCuuaR2czj1KntozxemwHGP4HOe-2bXmjAcpwDjjh3QRLlQpAW_aFN77426Kw-t8HUqfalPCRu5-/file# [segue]\n",
      "--2021-11-16 15:08:06--  https://uc4dc760c023a86598201f0a611d.dl.dropboxusercontent.com/cd/0/inline/BaFHCdIuH4ulnQb_Ew3SYZZd0wxicKak2bTuq4P_nVyGbzdxc429rNrKX7JqsPIuGpnn6pGnrVzTXCuuaR2czj1KntozxemwHGP4HOe-2bXmjAcpwDjjh3QRLlQpAW_aFN77426Kw-t8HUqfalPCRu5-/file\n",
      "Risoluzione di uc4dc760c023a86598201f0a611d.dl.dropboxusercontent.com (uc4dc760c023a86598201f0a611d.dl.dropboxusercontent.com)... 162.125.69.15, 2620:100:6025:15::a27d:450f\n",
      "Connessione a uc4dc760c023a86598201f0a611d.dl.dropboxusercontent.com (uc4dc760c023a86598201f0a611d.dl.dropboxusercontent.com)|162.125.69.15|:443... connesso.\n",
      "Richiesta HTTP inviata, in attesa di risposta... 200 OK\n",
      "Lunghezza: 525 [text/plain]\n",
      "Salvataggio in: «populations.txt.2»\n",
      "\n",
      "populations.txt.2   100%[===================>]     525  --.-KB/s    in 0s      \n",
      "\n",
      "2021-11-16 15:08:06 (11,7 MB/s) - «populations.txt.2» salvato [525/525]\n",
      "\n"
     ]
    }
   ],
   "source": [
    "# download the population of hares, lynxes and carrots at the beginning of the last century.\n",
    "! wget https://www.dropbox.com/s/3vigxoqayo389uc/populations.txt\n",
    "    \n",
    "# load the data (use an appropriate numpy method) into a 2D array\n",
    "populations = np.loadtxt('populations.txt')"
   ]
  },
  {
   "cell_type": "code",
   "execution_count": 25,
   "metadata": {},
   "outputs": [
    {
     "data": {
      "image/png": "[encoded data removed]",
      "text/plain": [
       "<Figure size 432x288 with 1 Axes>"
      ]
     },
     "metadata": {
      "needs_background": "light"
     },
     "output_type": "display_data"
    },
    {
     "name": "stdout",
     "output_type": "stream",
     "text": [
      "\n",
      "Hares mean =  34080.95  |  Hares Std.Dev. =  20897.91\n",
      "Lynxes mean =  20166.67  |  Lynxes Std.Dev. =  16254.59\n",
      "Carrots mean =  42400.0  |  Carrots Std.Dev. =  3322.51\n",
      "\n",
      "Hares   - Lynxes   coef of correlation 0.07189\n",
      "Hares   - Carrots  coef of correlation -0.01660\n",
      "Carrots - Lynxes   coef of correlation -0.68058\n"
     ]
    }
   ],
   "source": [
    "# create arrays out of the columns, the arrays being (in order): \n",
    "#year, hares, lynxes, carrots\n",
    "\n",
    "year = populations[:,0]\n",
    "hares = populations[:,1]\n",
    "lynxes = populations[:,2]\n",
    "carrots = populations[:,3]\n",
    "\n",
    "\n",
    "#Plot the 3 populations over the years\n",
    "\n",
    "import matplotlib.pyplot as plt\n",
    "\n",
    "plt.plot(year, hares, \"r\", label = \"hares\")\n",
    "plt.plot(year, lynxes, \"g\" ,  label = \"lynxes\")\n",
    "plt.plot(year, carrots, \"b\" , label = \"carrots\")\n",
    "plt.legend()\n",
    "plt.show()\n",
    "\n",
    "\n",
    "# compute the main statistical properties of the dataset \n",
    "#(mean, std, correlations, etc.)\n",
    "\n",
    "print(\"\\nHares mean = \" , round(hares.mean(),2) , \" |  Hares Std.Dev. = \" , round(hares.std(),2) )\n",
    "print(\"Lynxes mean = \" , round(lynxes.mean(),2) , \" |  Lynxes Std.Dev. = \" , round(lynxes.std(),2) )\n",
    "print(\"Carrots mean = \" , round(carrots.mean(),2) , \" |  Carrots Std.Dev. = \" , round(carrots.std(),2) )\n",
    "\n",
    "\n",
    "# look at the correlations\n",
    "print(\"\\nHares   - Lynxes   coef of correlation %4.5f\"%(np.corrcoef(hares, lynxes)[0,1]))\n",
    "print(\"Hares   - Carrots  coef of correlation %4.5f\"%(np.corrcoef(hares, carrots)[0,1]))\n",
    "print(\"Carrots - Lynxes   coef of correlation %4.5f\"%(np.corrcoef(carrots, lynxes)[0,1]))"
   ]
  },
  {
   "cell_type": "markdown",
   "metadata": {},
   "source": [
    "\n",
    "Looking at the coeffiecients of correlation the populations seem not correlated; looking at the plot hares and linxes seem correlated but with a kind of delay due to the grows of populations of prey and predator.\n",
    "\n",
    "From the reference article in fact, low lynx population levels last for three or four years instead hares, that have a \"rapidly growing\" population."
   ]
  },
  {
   "cell_type": "code",
   "execution_count": 14,
   "metadata": {},
   "outputs": [
    {
     "name": "stdout",
     "output_type": "stream",
     "text": [
      "\n",
      " Carrots  had the Max population of year  1900\n",
      "\n",
      " Carrots  had the Max population of year  1901\n",
      "\n",
      " Hares  had the Max population of year  1902\n",
      "\n",
      " Hares  had the Max population of year  1903\n",
      "\n",
      " Lynxes  had the Max population of year  1904\n",
      "\n",
      " Lynxes  had the Max population of year  1905\n",
      "\n",
      " Carrots  had the Max population of year  1906\n",
      "\n",
      " Carrots  had the Max population of year  1907\n",
      "\n",
      " Carrots  had the Max population of year  1908\n",
      "\n",
      " Carrots  had the Max population of year  1909\n",
      "\n",
      " Carrots  had the Max population of year  1910\n",
      "\n",
      " Carrots  had the Max population of year  1911\n",
      "\n",
      " Hares  had the Max population of year  1912\n",
      "\n",
      " Hares  had the Max population of year  1913\n",
      "\n",
      " Hares  had the Max population of year  1914\n",
      "\n",
      " Lynxes  had the Max population of year  1915\n",
      "\n",
      " Carrots  had the Max population of year  1916\n",
      "\n",
      " Carrots  had the Max population of year  1917\n",
      "\n",
      " Carrots  had the Max population of year  1918\n",
      "\n",
      " Carrots  had the Max population of year  1919\n",
      "\n",
      " Carrots  had the Max population of year  1920\n"
     ]
    }
   ],
   "source": [
    "#Which species has the highest population each year?\n",
    "\n",
    "\n",
    "classes=[\"Hares\" , \"Lynxes\" , \"Carrots\"]\n",
    "\n",
    "for y in range (len(year)):\n",
    "    print(\"\\n\" , classes[np.array([hares[y], lynxes[y], carrots[y]]).argmax()] , \" had the Max population of year \", 1900+y )\n"
   ]
  },
  {
   "cell_type": "code",
   "execution_count": null,
   "metadata": {},
   "outputs": [],
   "source": []
  }
 ],
 "metadata": {
  "kernelspec": {
   "display_name": "Python 3",
   "language": "python",
   "name": "python3"
  },
  "language_info": {
   "codemirror_mode": {
    "name": "ipython",
    "version": 3
   },
   "file_extension": ".py",
   "mimetype": "text/x-python",
   "name": "python",
   "nbconvert_exporter": "python",
   "pygments_lexer": "ipython3",
   "version": "3.8.10"
  }
 },
 "nbformat": 4,
 "nbformat_minor": 2
}
