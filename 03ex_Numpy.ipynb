{
 "cells": [
  {
   "cell_type": "code",
   "execution_count": 1,
   "metadata": {},
   "outputs": [],
   "source": [
    "import numpy as np"
   ]
  },
  {
   "cell_type": "markdown",
   "metadata": {},
   "source": [
    "### Numpy basics"
   ]
  },
  {
   "cell_type": "markdown",
   "metadata": {},
   "source": [
    "1\\. Find the row, column and overall means for the following matrix:\n",
    "\n",
    "```python\n",
    "m = np.arange(12).reshape((3,4))\n",
    "```"
   ]
  },
  {
   "cell_type": "code",
   "execution_count": 2,
   "metadata": {},
   "outputs": [
    {
     "name": "stdout",
     "output_type": "stream",
     "text": [
      "[[ 0  1  2  3]\n",
      " [ 4  5  6  7]\n",
      " [ 8  9 10 11]]\n",
      "column means:  [4. 5. 6. 7.]\n",
      "row means:  [1.5 5.5 9.5]\n",
      "overall mean:  5.5\n"
     ]
    }
   ],
   "source": [
    "m = np.arange(12).reshape((3,4))\n",
    "print (m)\n",
    "print(\"column means: \",np.mean(m, axis = 0))\n",
    "print(\"row means: \",np.mean(m, axis = 1))\n",
    "print(\"overall mean: \",np.mean(m))"
   ]
  },
  {
   "cell_type": "markdown",
   "metadata": {},
   "source": [
    "2\\. Find the outer product of the following two vecotrs\n",
    "\n",
    "```python\n",
    "u = np.array([1,3,5,7])\n",
    "v = np.array([2,4,6,8])\n",
    "```\n",
    "\n",
    "Do this in the following ways:\n",
    "\n",
    "   * Using the function outer in numpy\n",
    "   * Using a nested for loop or list comprehension\n",
    "   * Using numpy broadcasting operatoins\n"
   ]
  },
  {
   "cell_type": "code",
   "execution_count": 3,
   "metadata": {},
   "outputs": [
    {
     "name": "stdout",
     "output_type": "stream",
     "text": [
      "[[ 2  4  6  8]\n",
      " [ 6 12 18 24]\n",
      " [10 20 30 40]\n",
      " [14 28 42 56]]\n",
      "[[ 2  4  6  8]\n",
      " [ 6 12 18 24]\n",
      " [10 20 30 40]\n",
      " [14 28 42 56]]\n",
      "[[ 2  4  6  8]\n",
      " [ 6 12 18 24]\n",
      " [10 20 30 40]\n",
      " [14 28 42 56]]\n"
     ]
    }
   ],
   "source": [
    "u = np.array([1,3,5,7])\n",
    "v = np.array([2,4,6,8])\n",
    "\n",
    "print(np.outer(u,v))\n",
    "\n",
    "op_for = np.array([i*j for i in u for j in v]).reshape(4,4)\n",
    "print(op_for)\n",
    "\n",
    "op_broadcast = np.tile(u,4).reshape(4,4).T * np.tile(v,4).reshape(4,4)\n",
    "print(op_broadcast)"
   ]
  },
  {
   "cell_type": "markdown",
   "metadata": {},
   "source": [
    "3\\. Create a 10 by 6 matrix of random uniform numbers. Set all rows with any entry less than 0.1 to be zero\n",
    "\n",
    "Hint: Use the following numpy functions - np.random.random, np.any as well as Boolean indexing and the axis argument."
   ]
  },
  {
   "cell_type": "code",
   "execution_count": 4,
   "metadata": {},
   "outputs": [
    {
     "name": "stdout",
     "output_type": "stream",
     "text": [
      "[[0.4059718  0.55816146 0.10662693 0.31821962 0.48734554 0.17656747]\n",
      " [0.77945965 0.97542461 0.95039616 0.07500368 0.87115204 0.70933933]\n",
      " [0.35609147 0.9577542  0.43055117 0.75874338 0.26267635 0.66829127]\n",
      " [0.34543358 0.12776186 0.01962471 0.6836235  0.29065217 0.01173858]\n",
      " [0.84820863 0.86751269 0.09131131 0.81992243 0.46960267 0.48929366]\n",
      " [0.6211774  0.5414648  0.45445562 0.68026821 0.72652622 0.73128439]\n",
      " [0.52165035 0.91728651 0.77377012 0.64998019 0.27517717 0.59044693]\n",
      " [0.617817   0.68150584 0.40348303 0.47532028 0.35783721 0.60548023]\n",
      " [0.69293249 0.15466927 0.43306813 0.21067502 0.93986168 0.5506849 ]\n",
      " [0.15003998 0.83288691 0.54579447 0.82402415 0.10136337 0.82320686]]\n",
      "\n",
      " [[0.4059718  0.55816146 0.10662693 0.31821962 0.48734554 0.17656747]\n",
      " [0.         0.         0.         0.         0.         0.        ]\n",
      " [0.35609147 0.9577542  0.43055117 0.75874338 0.26267635 0.66829127]\n",
      " [0.         0.         0.         0.         0.         0.        ]\n",
      " [0.         0.         0.         0.         0.         0.        ]\n",
      " [0.6211774  0.5414648  0.45445562 0.68026821 0.72652622 0.73128439]\n",
      " [0.52165035 0.91728651 0.77377012 0.64998019 0.27517717 0.59044693]\n",
      " [0.617817   0.68150584 0.40348303 0.47532028 0.35783721 0.60548023]\n",
      " [0.69293249 0.15466927 0.43306813 0.21067502 0.93986168 0.5506849 ]\n",
      " [0.15003998 0.83288691 0.54579447 0.82402415 0.10136337 0.82320686]]\n"
     ]
    }
   ],
   "source": [
    "m = np.random.random((10, 6))\n",
    "print(m)\n",
    "\n",
    "m[np.any(m<0.1,1)]=0\n",
    "print(\"\\n\",m)"
   ]
  },
  {
   "cell_type": "markdown",
   "metadata": {},
   "source": [
    "4\\. Use np.linspace to create an array of 100 numbers between 0 and 2π (includsive).\n",
    "\n",
    "  * Extract every 10th element using slice notation\n",
    "  * Reverse the array using slice notation\n",
    "  * Extract elements where the absolute difference between the sine and cosine functions evaluated at that element is less than 0.1\n",
    "  * Make a plot showing the sin and cos functions and indicate where they are close"
   ]
  },
  {
   "cell_type": "code",
   "execution_count": 5,
   "metadata": {},
   "outputs": [
    {
     "name": "stdout",
     "output_type": "stream",
     "text": [
      "[0.         0.06346652 0.12693304 0.19039955 0.25386607 0.31733259\n",
      " 0.38079911 0.44426563 0.50773215 0.57119866 0.63466518 0.6981317\n",
      " 0.76159822 0.82506474 0.88853126 0.95199777 1.01546429 1.07893081\n",
      " 1.14239733 1.20586385 1.26933037 1.33279688 1.3962634  1.45972992\n",
      " 1.52319644 1.58666296 1.65012947 1.71359599 1.77706251 1.84052903\n",
      " 1.90399555 1.96746207 2.03092858 2.0943951  2.15786162 2.22132814\n",
      " 2.28479466 2.34826118 2.41172769 2.47519421 2.53866073 2.60212725\n",
      " 2.66559377 2.72906028 2.7925268  2.85599332 2.91945984 2.98292636\n",
      " 3.04639288 3.10985939 3.17332591 3.23679243 3.30025895 3.36372547\n",
      " 3.42719199 3.4906585  3.55412502 3.61759154 3.68105806 3.74452458\n",
      " 3.8079911  3.87145761 3.93492413 3.99839065 4.06185717 4.12532369\n",
      " 4.1887902  4.25225672 4.31572324 4.37918976 4.44265628 4.5061228\n",
      " 4.56958931 4.63305583 4.69652235 4.75998887 4.82345539 4.88692191\n",
      " 4.95038842 5.01385494 5.07732146 5.14078798 5.2042545  5.26772102\n",
      " 5.33118753 5.39465405 5.45812057 5.52158709 5.58505361 5.64852012\n",
      " 5.71198664 5.77545316 5.83891968 5.9023862  5.96585272 6.02931923\n",
      " 6.09278575 6.15625227 6.21971879 6.28318531]\n",
      "\n",
      " [0.57119866 1.20586385 1.84052903 2.47519421 3.10985939 3.74452458\n",
      " 4.37918976 5.01385494 5.64852012 6.28318531]\n",
      "\n",
      " [6.28318531 6.21971879 6.15625227 6.09278575 6.02931923 5.96585272\n",
      " 5.9023862  5.83891968 5.77545316 5.71198664 5.64852012 5.58505361\n",
      " 5.52158709 5.45812057 5.39465405 5.33118753 5.26772102 5.2042545\n",
      " 5.14078798 5.07732146 5.01385494 4.95038842 4.88692191 4.82345539\n",
      " 4.75998887 4.69652235 4.63305583 4.56958931 4.5061228  4.44265628\n",
      " 4.37918976 4.31572324 4.25225672 4.1887902  4.12532369 4.06185717\n",
      " 3.99839065 3.93492413 3.87145761 3.8079911  3.74452458 3.68105806\n",
      " 3.61759154 3.55412502 3.4906585  3.42719199 3.36372547 3.30025895\n",
      " 3.23679243 3.17332591 3.10985939 3.04639288 2.98292636 2.91945984\n",
      " 2.85599332 2.7925268  2.72906028 2.66559377 2.60212725 2.53866073\n",
      " 2.47519421 2.41172769 2.34826118 2.28479466 2.22132814 2.15786162\n",
      " 2.0943951  2.03092858 1.96746207 1.90399555 1.84052903 1.77706251\n",
      " 1.71359599 1.65012947 1.58666296 1.52319644 1.45972992 1.3962634\n",
      " 1.33279688 1.26933037 1.20586385 1.14239733 1.07893081 1.01546429\n",
      " 0.95199777 0.88853126 0.82506474 0.76159822 0.6981317  0.63466518\n",
      " 0.57119866 0.50773215 0.44426563 0.38079911 0.31733259 0.25386607\n",
      " 0.19039955 0.12693304 0.06346652 0.        ]\n",
      "\n",
      " [0.76159822 0.82506474 3.87145761 3.93492413]\n"
     ]
    },
    {
     "data": {
      "image/png": "[encoded data removed]",
      "text/plain": [
       "<Figure size 432x288 with 1 Axes>"
      ]
     },
     "metadata": {
      "needs_background": "light"
     },
     "output_type": "display_data"
    }
   ],
   "source": [
    "a = np.linspace(0, 2*np.pi, 100)\n",
    "print(a)\n",
    "\n",
    "a_10 = a[9::10]\n",
    "print(\"\\n\",a_10)\n",
    "\n",
    "a_reverse = a[::-1]\n",
    "print(\"\\n\",a_reverse)\n",
    "\n",
    "a_extract = np.extract(abs(np.sin(a)-np.cos(a)) < 0.1, a)\n",
    "print (\"\\n\",a_extract)\n",
    "\n",
    "import matplotlib.pyplot as plt\n",
    "plt.plot(a,np.sin(a),label=\"sin(x)\")\n",
    "plt.plot(a,np.cos(a),label=\"cos(x)\")\n",
    "plt.legend()\n",
    "plt.xlabel(\"x\")\n",
    "plt.show()"
   ]
  },
  {
   "cell_type": "markdown",
   "metadata": {},
   "source": [
    "5\\. Create a matrix that shows the 10 by 10 multiplication table.\n",
    "\n",
    " * Find the trace of the matrix\n",
    " * Extract the anto-diagonal (this should be ```array([10, 18, 24, 28, 30, 30, 28, 24, 18, 10])```)\n",
    " * Extract the diagnoal offset by 1 upwards (this should be ```array([ 2,  6, 12, 20, 30, 42, 56, 72, 90])```)"
   ]
  },
  {
   "cell_type": "code",
   "execution_count": 6,
   "metadata": {},
   "outputs": [
    {
     "name": "stdout",
     "output_type": "stream",
     "text": [
      "[[  1   2   3   4   5   6   7   8   9  10]\n",
      " [  2   4   6   8  10  12  14  16  18  20]\n",
      " [  3   6   9  12  15  18  21  24  27  30]\n",
      " [  4   8  12  16  20  24  28  32  36  40]\n",
      " [  5  10  15  20  25  30  35  40  45  50]\n",
      " [  6  12  18  24  30  36  42  48  54  60]\n",
      " [  7  14  21  28  35  42  49  56  63  70]\n",
      " [  8  16  24  32  40  48  56  64  72  80]\n",
      " [  9  18  27  36  45  54  63  72  81  90]\n",
      " [ 10  20  30  40  50  60  70  80  90 100]]\n",
      "\n",
      "trace:  385\n",
      "\n",
      "anti-diagonal:  [10 18 24 28 30 30 28 24 18 10]\n",
      "\n",
      "diagnoal offset by 1 upwards:  [ 2  6 12 20 30 42 56 72 90]\n"
     ]
    }
   ],
   "source": [
    "table = np.outer(np.arange(1,11),np.arange(1,11))\n",
    "print(table)\n",
    "\n",
    "print(\"\\ntrace: \",np.trace(table))\n",
    "\n",
    "print(\"\\nanti-diagonal: \",np.fliplr(table).diagonal())\n",
    "\n",
    "print(\"\\ndiagnoal offset by 1 upwards: \",np.diag(table,1))"
   ]
  },
  {
   "cell_type": "markdown",
   "metadata": {},
   "source": [
    "6\\. Use broadcasting to create a grid of distances\n",
    "\n",
    "Route 66 crosses the following cities in the US: Chicago, Springfield, Saint-Louis, Tulsa, Oklahoma City, Amarillo, Santa Fe, Albuquerque, Flagstaff, Los Angeles\n",
    "The corresponding positions in miles are: 0, 198, 303, 736, 871, 1175, 1475, 1544, 1913, 2448\n",
    "\n",
    "  * Construct a 2D grid of distances among each city along Route 66\n",
    "  * Convert that in km (those savages...)"
   ]
  },
  {
   "cell_type": "code",
   "execution_count": 7,
   "metadata": {},
   "outputs": [
    {
     "name": "stdout",
     "output_type": "stream",
     "text": [
      "[[   0  198  303  736  871 1175 1475 1544 1913 2448]\n",
      " [ 198    0  105  538  673  977 1277 1346 1715 2250]\n",
      " [ 303  105    0  433  568  872 1172 1241 1610 2145]\n",
      " [ 736  538  433    0  135  439  739  808 1177 1712]\n",
      " [ 871  673  568  135    0  304  604  673 1042 1577]\n",
      " [1175  977  872  439  304    0  300  369  738 1273]\n",
      " [1475 1277 1172  739  604  300    0   69  438  973]\n",
      " [1544 1346 1241  808  673  369   69    0  369  904]\n",
      " [1913 1715 1610 1177 1042  738  438  369    0  535]\n",
      " [2448 2250 2145 1712 1577 1273  973  904  535    0]]\n",
      "\n",
      " [[   0.        318.650112  487.631232 1184.477184 1401.738624 1890.9792\n",
      "  2373.7824   2484.827136 3078.675072 3939.674112]\n",
      " [ 318.650112    0.        168.98112   865.827072 1083.088512 1572.329088\n",
      "  2055.132288 2166.177024 2760.02496  3621.024   ]\n",
      " [ 487.631232  168.98112     0.        696.845952  914.107392 1403.347968\n",
      "  1886.151168 1997.195904 2591.04384  3452.04288 ]\n",
      " [1184.477184  865.827072  696.845952    0.        217.26144   706.502016\n",
      "  1189.305216 1300.349952 1894.197888 2755.196928]\n",
      " [1401.738624 1083.088512  914.107392  217.26144     0.        489.240576\n",
      "   972.043776 1083.088512 1676.936448 2537.935488]\n",
      " [1890.9792   1572.329088 1403.347968  706.502016  489.240576    0.\n",
      "   482.8032    593.847936 1187.695872 2048.694912]\n",
      " [2373.7824   2055.132288 1886.151168 1189.305216  972.043776  482.8032\n",
      "     0.        111.044736  704.892672 1565.891712]\n",
      " [2484.827136 2166.177024 1997.195904 1300.349952 1083.088512  593.847936\n",
      "   111.044736    0.        593.847936 1454.846976]\n",
      " [3078.675072 2760.02496  2591.04384  1894.197888 1676.936448 1187.695872\n",
      "   704.892672  593.847936    0.        860.99904 ]\n",
      " [3939.674112 3621.024    3452.04288  2755.196928 2537.935488 2048.694912\n",
      "  1565.891712 1454.846976  860.99904     0.      ]]\n"
     ]
    }
   ],
   "source": [
    "distances = np.array([0, 198, 303, 736, 871, 1175, 1475, 1544, 1913, 2448])\n",
    "n = distances.shape[0]\n",
    "d_miles = abs(np.tile(distances,n).reshape(n,n).T - distances)\n",
    "print(d_miles)\n",
    "\n",
    "d_km = d_miles*1.609344\n",
    "print(\"\\n\",d_km)"
   ]
  },
  {
   "cell_type": "markdown",
   "metadata": {},
   "source": [
    "7\\. Prime numbers sieve: compute the prime numbers in the 0-N (N=99 to start with) range with a sieve (mask).\n",
    "  * Constract a shape (100,) boolean array, the mask\n",
    "  * Identify the multiples of each number starting from 2 and set accordingly the corresponding mask element\n",
    "  * Apply the mask to obtain an array of ordered prime numbers\n",
    "  * Check the performances (timeit); how does it scale with N?\n",
    "  * Implement the optimization suggested in the [sieve of Eratosthenes](https://en.wikipedia.org/wiki/Sieve_of_Eratosthenes)"
   ]
  },
  {
   "cell_type": "code",
   "execution_count": 8,
   "metadata": {},
   "outputs": [
    {
     "name": "stdout",
     "output_type": "stream",
     "text": [
      "prime numbers from 1 to 100: \n",
      " [ 2  3  5  7 11 13 17 19 23 29 31 37 41 43 47 53 59 61 67 71 73 79 83 89\n",
      " 97]\n",
      "609 µs ± 23.6 µs per loop (mean ± std. dev. of 7 runs, 1000 loops each)\n",
      "4.14 ms ± 119 µs per loop (mean ± std. dev. of 7 runs, 100 loops each)\n",
      "9.91 ms ± 412 µs per loop (mean ± std. dev. of 7 runs, 100 loops each)\n",
      "\n",
      "prime numbers from 1 to 100 using Eratosthenes algorithm:\n",
      "  [ 2  3  5  7 11 13 17 19 23 29 31 37 41 43 47 53 59 61 67 71 73 79 83 89\n",
      " 97]\n",
      "111 µs ± 2.96 µs per loop (mean ± std. dev. of 7 runs, 10000 loops each)\n"
     ]
    }
   ],
   "source": [
    "import math\n",
    "\n",
    "def is_prime_number(n):\n",
    "    if n<2:\n",
    "        return False\n",
    "    \n",
    "    for i in range(2,int(math.sqrt(n)) + 1):\n",
    "        if n%i==0:\n",
    "            return False\n",
    "        \n",
    "    return True\n",
    "\n",
    "\n",
    "def prime_numbers(N):\n",
    "    a = np.arange(1,N)\n",
    "    mask = np.array([is_prime_number(i) for i in a])\n",
    "    return a[mask]\n",
    "    \n",
    "print(\"prime numbers from 1 to 100: \\n\",prime_numbers(100))\n",
    "\n",
    "%timeit prime_numbers(100)   \n",
    "%timeit prime_numbers(500)   \n",
    "%timeit prime_numbers(1000)   \n",
    "\n",
    "\n",
    "def sieve_Eratosthenes(N):\n",
    "    a = np.arange(0,N)\n",
    "    A = [True]*N\n",
    "    A[0] = False\n",
    "    A[1] = False\n",
    "    for i in range (2,int(math.sqrt(N)) + 1):\n",
    "        j=2\n",
    "        while (i*j<N):\n",
    "            A[i*j] = False\n",
    "            j=j+1\n",
    "    return a[A]\n",
    "\n",
    "print(\"\\nprime numbers from 1 to 100 using Eratosthenes algorithm:\\n \",sieve_Eratosthenes(100))\n",
    "%timeit sieve_Eratosthenes(100) "
   ]
  },
  {
   "cell_type": "markdown",
   "metadata": {},
   "source": [
    "**N.B. the following exercises are meant to be solved only if you are familiar with the numpy random library. If not you can skip them (postponed for one of the next exercise sessions)**\n"
   ]
  },
  {
   "cell_type": "markdown",
   "metadata": {},
   "source": [
    "8\\. Diffusion using random walk\n",
    "\n",
    "Consider a simple random walk process: at each step in time, a walker jumps right or left (+1 or -1) with equal probability. The goal is to find the typical distance from the origin of a random walker after a given amount of time. \n",
    "To do that, let's simulate many walkers and create a 2D array with each walker as a raw and the actual time evolution as columns\n",
    "\n",
    "  * Take 1000 walkers and let them walk for 200 steps\n",
    "  * Use randint to create a 2D array of size walkers x steps with values -1 or 1\n",
    "  * Build the actual walking distances for each walker (i.e. another 2D array \"summing on each raw\")\n",
    "  * Take the square of that 2D array (elementwise)\n",
    "  * Compute the mean of the squared distances at each step (i.e. the mean along the columns)\n",
    "  * Plot the average distances (sqrt(distance\\*\\*2)) as a function of time (step)\n",
    "  \n",
    "Did you get what you expected?"
   ]
  },
  {
   "cell_type": "markdown",
   "metadata": {},
   "source": [
    "9\\. Analyze a data file \n",
    "  * Download the population of hares, lynxes and carrots at the beginning of the last century.\n",
    "    ```python\n",
    "    ! wget https://www.dropbox.com/s/3vigxoqayo389uc/populations.txt\n",
    "    ```\n",
    "\n",
    "  * Check the content by looking within the file\n",
    "  * Load the data (use an appropriate numpy method) into a 2D array\n",
    "  * Create arrays out of the columns, the arrays being (in order): *year*, *hares*, *lynxes*, *carrots* \n",
    "  * Plot the 3 populations over the years\n",
    "  * Compute the main statistical properties of the dataset (mean, std, correlations, etc.)\n",
    "  * Which species has the highest population each year?\n",
    "\n",
    "Do you feel there is some evident correlation here? [Studies](https://www.enr.gov.nt.ca/en/services/lynx/lynx-snowshoe-hare-cycle) tend to believe so."
   ]
  },
  {
   "cell_type": "code",
   "execution_count": null,
   "metadata": {},
   "outputs": [],
   "source": []
  }
 ],
 "metadata": {
  "kernelspec": {
   "display_name": "Python 3",
   "language": "python",
   "name": "python3"
  },
  "language_info": {
   "codemirror_mode": {
    "name": "ipython",
    "version": 3
   },
   "file_extension": ".py",
   "mimetype": "text/x-python",
   "name": "python",
   "nbconvert_exporter": "python",
   "pygments_lexer": "ipython3",
   "version": "3.8.8"
  }
 },
 "nbformat": 4,
 "nbformat_minor": 2
}
