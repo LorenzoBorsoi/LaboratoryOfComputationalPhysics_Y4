{
 "cells": [
  {
   "cell_type": "markdown",
   "metadata": {},
   "source": [
    "### Numpy basics"
   ]
  },
  {
   "cell_type": "markdown",
   "metadata": {},
   "source": [
    "1\\. Find the row, column and overall means for the following matrix:\n",
    "\n",
    "```python\n",
    "m = np.arange(12).reshape((3,4))\n",
    "```"
   ]
  },
  {
   "cell_type": "code",
   "execution_count": 4,
   "metadata": {},
   "outputs": [
    {
     "name": "stdout",
     "output_type": "stream",
     "text": [
      "[[ 0  1  2  3]\n",
      " [ 4  5  6  7]\n",
      " [ 8  9 10 11]]\n",
      "Row means\n",
      " [[1.5]\n",
      " [5.5]\n",
      " [9.5]]\n",
      "Column means\n",
      " [4. 5. 6. 7.]\n",
      "Overall mean\n",
      " 5.5\n"
     ]
    }
   ],
   "source": [
    "import numpy as np\n",
    "m = np.arange(12).reshape((3,4))\n",
    "print(m)\n",
    "\n",
    "mrow = np.array([np.average(m[i]) for i in range(m.shape[0])]).reshape(-1,1)\n",
    "print('Row means\\n', mrow)\n",
    "\n",
    "mcol = np.array([np.average(m[:,i]) for i in range(m.shape[1])])\n",
    "print('Column means\\n',mcol)\n",
    "\n",
    "mtot = np.average(m)\n",
    "print('Overall mean\\n', mtot)"
   ]
  },
  {
   "cell_type": "markdown",
   "metadata": {},
   "source": [
    "2\\. Find the outer product of the following two vecotrs\n",
    "\n",
    "```python\n",
    "u = np.array([1,3,5,7])\n",
    "v = np.array([2,4,6,8])\n",
    "```\n",
    "\n",
    "Do this in the following ways:\n",
    "\n",
    "   * Using the function outer in numpy\n",
    "   * Using a nested for loop or list comprehension\n",
    "   * Using numpy broadcasting operatoins\n"
   ]
  },
  {
   "cell_type": "code",
   "execution_count": 5,
   "metadata": {},
   "outputs": [
    {
     "name": "stdout",
     "output_type": "stream",
     "text": [
      "Outer function of numpy\n",
      " [[ 2  4  6  8]\n",
      " [ 6 12 18 24]\n",
      " [10 20 30 40]\n",
      " [14 28 42 56]]\n",
      "List comprehension method\n",
      " [[ 2  4  6  8]\n",
      " [ 6 12 18 24]\n",
      " [10 20 30 40]\n",
      " [14 28 42 56]]\n",
      "Broadcasting operation method\n",
      " [[ 2  4  6  8]\n",
      " [ 6 12 18 24]\n",
      " [10 20 30 40]\n",
      " [14 28 42 56]]\n"
     ]
    }
   ],
   "source": [
    "u = np.array([1,3,5,7])\n",
    "v = np.array([2,4,6,8])\n",
    "\n",
    "\n",
    "print('Outer function of numpy\\n', np.outer(u, v))\n",
    "print('List comprehension method\\n', np.array([u[i] * v[j] for i in range(len(u)) for j in range(len(v))]).reshape(4,4))\n",
    "print('Broadcasting operation method\\n', u.reshape(-1, 1) * v.reshape(1, -1))\n"
   ]
  },
  {
   "cell_type": "markdown",
   "metadata": {},
   "source": [
    "3\\. Create a 10 by 6 matrix of random uniform numbers. Set all rows with any entry less than 0.1 to be zero\n",
    "\n",
    "Hint: Use the following numpy functions - np.random.random, np.any as well as Boolean indexing and the axis argument."
   ]
  },
  {
   "cell_type": "code",
   "execution_count": 6,
   "metadata": {},
   "outputs": [
    {
     "name": "stdout",
     "output_type": "stream",
     "text": [
      "[[0.97505701 0.35593395 0.17673457 0.68976429 0.95657998 0.18120012]\n",
      " [0.38732636 0.58754144 0.67523783 0.29216449 0.53609496 0.        ]\n",
      " [0.         0.42932377 0.4939162  0.70021003 0.88616368 0.46427093]\n",
      " [0.93709462 0.         0.57419935 0.6394964  0.         0.76555213]\n",
      " [0.6104476  0.68672608 0.         0.1221149  0.73757226 0.        ]\n",
      " [0.13830602 0.31602321 0.74823823 0.50441309 0.52739942 0.50664432]\n",
      " [0.64846743 0.44330006 0.86909362 0.38534967 0.72096516 0.37416468]\n",
      " [0.35127459 0.4291552  0.88318904 0.40573897 0.48475727 0.46129087]\n",
      " [0.1719605  0.73840079 0.23709276 0.66325573 0.21863971 0.13270997]\n",
      " [0.54535703 0.         0.72495027 0.23064962 0.94338227 0.40523188]]\n"
     ]
    }
   ],
   "source": [
    "a = np.random.random_sample((10, 6))\n",
    "for i in range(a.shape[0]):\n",
    "    for j in range(a.shape[1]):\n",
    "        if a[i, j] < 0.1:\n",
    "            a[i, j] = 0\n",
    "print(a)"
   ]
  },
  {
   "cell_type": "markdown",
   "metadata": {},
   "source": [
    "4\\. Use np.linspace to create an array of 100 numbers between 0 and 2π (includsive).\n",
    "\n",
    "  * Extract every 10th element using slice notation\n",
    "  * Reverse the array using slice notation\n",
    "  * Extract elements where the absolute difference between the sine and cosine functions evaluated at that element is less than 0.1\n",
    "  * Make a plot showing the sin and cos functions and indicate where they are close"
   ]
  },
  {
   "cell_type": "code",
   "execution_count": 7,
   "metadata": {},
   "outputs": [
    {
     "name": "stdout",
     "output_type": "stream",
     "text": [
      "[0.         0.06346652 0.12693304 0.19039955 0.25386607 0.31733259\n",
      " 0.38079911 0.44426563 0.50773215 0.57119866 0.63466518 0.6981317\n",
      " 0.76159822 0.82506474 0.88853126 0.95199777 1.01546429 1.07893081\n",
      " 1.14239733 1.20586385 1.26933037 1.33279688 1.3962634  1.45972992\n",
      " 1.52319644 1.58666296 1.65012947 1.71359599 1.77706251 1.84052903\n",
      " 1.90399555 1.96746207 2.03092858 2.0943951  2.15786162 2.22132814\n",
      " 2.28479466 2.34826118 2.41172769 2.47519421 2.53866073 2.60212725\n",
      " 2.66559377 2.72906028 2.7925268  2.85599332 2.91945984 2.98292636\n",
      " 3.04639288 3.10985939 3.17332591 3.23679243 3.30025895 3.36372547\n",
      " 3.42719199 3.4906585  3.55412502 3.61759154 3.68105806 3.74452458\n",
      " 3.8079911  3.87145761 3.93492413 3.99839065 4.06185717 4.12532369\n",
      " 4.1887902  4.25225672 4.31572324 4.37918976 4.44265628 4.5061228\n",
      " 4.56958931 4.63305583 4.69652235 4.75998887 4.82345539 4.88692191\n",
      " 4.95038842 5.01385494 5.07732146 5.14078798 5.2042545  5.26772102\n",
      " 5.33118753 5.39465405 5.45812057 5.52158709 5.58505361 5.64852012\n",
      " 5.71198664 5.77545316 5.83891968 5.9023862  5.96585272 6.02931923\n",
      " 6.09278575 6.15625227 6.21971879 6.28318531]\n",
      "[0.         0.63466518 1.26933037 1.90399555 2.53866073 3.17332591\n",
      " 3.8079911  4.44265628 5.07732146 5.71198664]\n",
      "[6.28318531 6.21971879 6.15625227 6.09278575 6.02931923 5.96585272\n",
      " 5.9023862  5.83891968 5.77545316 5.71198664 5.64852012 5.58505361\n",
      " 5.52158709 5.45812057 5.39465405 5.33118753 5.26772102 5.2042545\n",
      " 5.14078798 5.07732146 5.01385494 4.95038842 4.88692191 4.82345539\n",
      " 4.75998887 4.69652235 4.63305583 4.56958931 4.5061228  4.44265628\n",
      " 4.37918976 4.31572324 4.25225672 4.1887902  4.12532369 4.06185717\n",
      " 3.99839065 3.93492413 3.87145761 3.8079911  3.74452458 3.68105806\n",
      " 3.61759154 3.55412502 3.4906585  3.42719199 3.36372547 3.30025895\n",
      " 3.23679243 3.17332591 3.10985939 3.04639288 2.98292636 2.91945984\n",
      " 2.85599332 2.7925268  2.72906028 2.66559377 2.60212725 2.53866073\n",
      " 2.47519421 2.41172769 2.34826118 2.28479466 2.22132814 2.15786162\n",
      " 2.0943951  2.03092858 1.96746207 1.90399555 1.84052903 1.77706251\n",
      " 1.71359599 1.65012947 1.58666296 1.52319644 1.45972992 1.3962634\n",
      " 1.33279688 1.26933037 1.20586385 1.14239733 1.07893081 1.01546429\n",
      " 0.95199777 0.88853126 0.82506474 0.76159822 0.6981317  0.63466518\n",
      " 0.57119866 0.50773215 0.44426563 0.38079911 0.31733259 0.25386607\n",
      " 0.19039955 0.12693304 0.06346652 0.        ]\n",
      "[0.76159822 0.82506474 3.87145761 3.93492413]\n"
     ]
    },
    {
     "data": {
      "image/png": "[encoded data removed]",
      "text/plain": [
       "<Figure size 432x288 with 1 Axes>"
      ]
     },
     "metadata": {
      "needs_background": "light"
     },
     "output_type": "display_data"
    }
   ],
   "source": [
    "a = np.linspace(0, 2*np.pi, 100)\n",
    "print(a)\n",
    "print(a[::10])\n",
    "print(a[::-1])\n",
    "b = np.abs(np.sin(a) - np.cos(a)) < 0.1\n",
    "print(a[b])\n",
    "\n",
    "\n",
    "import matplotlib.pyplot as plt\n",
    "plt.plot(a, np.sin(a), color = 'C0')\n",
    "plt.plot(a, np.cos(a), color = 'purple')\n",
    "plt.scatter(a[b], np.sin(a[b]), color = 'orange' )\n",
    "plt.scatter(a[b], np.cos(a[b]), color = 'red' )\n",
    "plt.grid()\n",
    "plt.show()"
   ]
  },
  {
   "cell_type": "markdown",
   "metadata": {},
   "source": [
    "5\\. Create a matrix that shows the 10 by 10 multiplication table.\n",
    "\n",
    " * Find the trace of the matrix\n",
    " * Extract the anto-diagonal (this should be ```array([10, 18, 24, 28, 30, 30, 28, 24, 18, 10])```)\n",
    " * Extract the diagnoal offset by 1 upwards (this should be ```array([ 2,  6, 12, 20, 30, 42, 56, 72, 90])```)"
   ]
  },
  {
   "cell_type": "code",
   "execution_count": 8,
   "metadata": {},
   "outputs": [
    {
     "name": "stdout",
     "output_type": "stream",
     "text": [
      "[[  1   2   3   4   5   6   7   8   9  10]\n",
      " [  2   4   6   8  10  12  14  16  18  20]\n",
      " [  3   6   9  12  15  18  21  24  27  30]\n",
      " [  4   8  12  16  20  24  28  32  36  40]\n",
      " [  5  10  15  20  25  30  35  40  45  50]\n",
      " [  6  12  18  24  30  36  42  48  54  60]\n",
      " [  7  14  21  28  35  42  49  56  63  70]\n",
      " [  8  16  24  32  40  48  56  64  72  80]\n",
      " [  9  18  27  36  45  54  63  72  81  90]\n",
      " [ 10  20  30  40  50  60  70  80  90 100]]\n",
      "trace of the matrix:  385\n",
      "antidiagonal of the matrix:  [10 18 24 28 30 30 28 24 18 10]\n",
      "diagonal offset by 1 upwards:  [ 2  6 12 20 30 42 56 72 90]\n"
     ]
    }
   ],
   "source": [
    "tab = np.outer(np.arange(1, 11), np.arange(1, 11))\n",
    "print(tab)\n",
    "\n",
    "print('trace of the matrix: ', np.trace(tab))\n",
    "print('antidiagonal of the matrix: ', np.fliplr(tab).diagonal())\n",
    "print('diagonal offset by 1 upwards: ', np.diagonal(tab, offset=1))\n"
   ]
  },
  {
   "cell_type": "markdown",
   "metadata": {},
   "source": [
    "6\\. Use broadcasting to create a grid of distances\n",
    "\n",
    "Route 66 crosses the following cities in the US: Chicago, Springfield, Saint-Louis, Tulsa, Oklahoma City, Amarillo, Santa Fe, Albuquerque, Flagstaff, Los Angeles\n",
    "The corresponding positions in miles are: 0, 198, 303, 736, 871, 1175, 1475, 1544, 1913, 2448\n",
    "\n",
    "  * Construct a 2D grid of distances among each city along Route 66\n",
    "  * Convert that in km (those savages...)"
   ]
  },
  {
   "cell_type": "code",
   "execution_count": 9,
   "metadata": {},
   "outputs": [
    {
     "name": "stdout",
     "output_type": "stream",
     "text": [
      "[[   0.    318.65  487.63 1184.47 1401.74 1890.97 2373.78 2484.82 3078.67\n",
      "  3939.66]\n",
      " [ 318.65    0.    168.98  865.82 1083.09 1572.33 2055.13 2166.17 2760.02\n",
      "  3621.02]\n",
      " [ 487.63  168.98    0.    696.84  914.11 1403.34 1886.15 1997.19 2591.04\n",
      "  3452.03]\n",
      " [1184.47  865.82  696.84    0.    217.26  706.5  1189.3  1300.35 1894.19\n",
      "  2755.19]\n",
      " [1401.74 1083.09  914.11  217.26    0.    489.24  972.04 1083.09 1676.93\n",
      "  2537.93]\n",
      " [1890.97 1572.33 1403.34  706.5   489.24    0.    482.8   593.85 1187.69\n",
      "  2048.69]\n",
      " [2373.78 2055.13 1886.15 1189.3   972.04  482.8     0.    111.04  704.89\n",
      "  1565.89]\n",
      " [2484.82 2166.17 1997.19 1300.35 1083.09  593.85  111.04    0.    593.85\n",
      "  1454.84]\n",
      " [3078.67 2760.02 2591.04 1894.19 1676.93 1187.69  704.89  593.85    0.\n",
      "   861.  ]\n",
      " [3939.66 3621.02 3452.03 2755.19 2537.93 2048.69 1565.89 1454.84  861.\n",
      "     0.  ]]\n"
     ]
    }
   ],
   "source": [
    "positions = np.array([0, 198, 303, 736, 871, 1175, 1475, 1544, 1913, 2448])\n",
    "distances = np.abs( positions.reshape(1, 10) - positions.reshape(10,1) )\n",
    "print(np.around(distances*1.60934, 2))\n"
   ]
  },
  {
   "cell_type": "markdown",
   "metadata": {},
   "source": [
    "7\\. Prime numbers sieve: compute the prime numbers in the 0-N (N=99 to start with) range with a sieve (mask).\n",
    "  * Constract a shape (100,) boolean array, the mask\n",
    "  * Identify the multiples of each number starting from 2 and set accordingly the corresponding mask element\n",
    "  * Apply the mask to obtain an array of ordered prime numbers\n",
    "  * Check the performances (timeit); how does it scale with N?\n",
    "  * Implement the optimization suggested in the [sieve of Eratosthenes](https://en.wikipedia.org/wiki/Sieve_of_Eratosthenes)"
   ]
  },
  {
   "cell_type": "code",
   "execution_count": 10,
   "metadata": {},
   "outputs": [
    {
     "name": "stdout",
     "output_type": "stream",
     "text": [
      "[0.00021707700216211379, 0.0008933939971029758, 0.0030183810013113543, 0.005437296997115482, 0.0172523410001304, 0.03997042399714701, 0.041956511995522305, 0.08509973600303056, 0.12431116500374628, 0.2543493370030774, 0.7367390299987164, 2.1110313050012337, 3.301944052000181, 6.8967471919968375, 10.520665013995313]\n",
      "[3.627100522862747e-05, 0.00013816600403515622, 0.00027220899937674403, 0.0004226629971526563, 0.0007361480020335875, 0.0012335620049270801, 0.0015478780042030849, 0.00241213299887022, 0.0031868170044617727, 0.0063013840044732206, 0.009121066999796312, 0.014141487998131197, 0.018282794000697322, 0.027221738004300278, 0.03713506900385255]\n"
     ]
    },
    {
     "data": {
      "text/plain": [
       "[<matplotlib.lines.Line2D at 0x7f63682fe6d0>]"
      ]
     },
     "execution_count": 10,
     "metadata": {},
     "output_type": "execute_result"
    },
    {
     "data": {
      "image/png": "[encoded data removed]",
      "text/plain": [
       "<Figure size 432x288 with 1 Axes>"
      ]
     },
     "metadata": {
      "needs_background": "light"
     },
     "output_type": "display_data"
    }
   ],
   "source": [
    "def primes(N):\n",
    "    mask = np.ones([N,], dtype=bool)\n",
    "    for j in range(2, N):\n",
    "        mul = [i for i in range(j + 1, N) if i%j == 0]\n",
    "        #print(mul)\n",
    "        mask[mul] = False\n",
    "    return np.arange(N)[mask]\n",
    "\n",
    "#a = primes(100)\n",
    "\n",
    "'''%timeit primes(   10)\n",
    "%timeit primes(  100)\n",
    "%timeit primes( 1000)\n",
    "%timeit primes(10000)\n",
    "'''\n",
    "\n",
    "import timeit\n",
    "#start_time = timeit.default_timer()\n",
    "primes_time = []\n",
    "iter = [10, 100, 200, 300, 500, 800, 1000, 1500, 2000, 3000, 5000, 8000, 10000, 15000, 20000]\n",
    "for i in iter:\n",
    "    #foo = %timeit -o primes(i)\n",
    "    start_time = timeit.default_timer()\n",
    "    primes(i)\n",
    "    primes_time.append(timeit.default_timer() - start_time)\n",
    "print(primes_time)\n",
    "plt.plot(iter, primes_time)\n",
    "\n",
    "def eratosthenes(N):\n",
    "    mask = np.ones([N,], dtype=bool)\n",
    "    for j in range(2, N):\n",
    "        if j*2 < N:\n",
    "            mul = range(j*2, N, j)\n",
    "            mask[mul] = False\n",
    "        else:\n",
    "            break\n",
    "    return np.arange(N)[mask]\n",
    "\n",
    "eratosthenes_time = []\n",
    "for i in iter:\n",
    "    #foo = %timeit -o primes(i)\n",
    "    start_time = timeit.default_timer()\n",
    "    eratosthenes(i)\n",
    "    eratosthenes_time.append(timeit.default_timer() - start_time)\n",
    "print(eratosthenes_time)\n",
    "plt.plot(iter, eratosthenes_time)"
   ]
  },
  {
   "cell_type": "markdown",
   "metadata": {},
   "source": [
    "**N.B. the following exercises are meant to be solved only if you are familiar with the numpy random library. If not you can skip them (postponed for one of the next exercise sessions)**\n"
   ]
  },
  {
   "cell_type": "markdown",
   "metadata": {},
   "source": [
    "8\\. Diffusion using random walk\n",
    "\n",
    "Consider a simple random walk process: at each step in time, a walker jumps right or left (+1 or -1) with equal probability. The goal is to find the typical distance from the origin of a random walker after a given amount of time. \n",
    "To do that, let's simulate many walkers and create a 2D array with each walker as a raw and the actual time evolution as columns\n",
    "\n",
    "  * Take 1000 walkers and let them walk for 200 steps\n",
    "  * Use randint to create a 2D array of size walkers x steps with values -1 or 1\n",
    "  * Build the actual walking distances for each walker (i.e. another 2D array \"summing on each raw\")\n",
    "  * Take the square of that 2D array (elementwise)\n",
    "  * Compute the mean of the squared distances at each step (i.e. the mean along the columns)\n",
    "  * Plot the average distances (sqrt(distance\\*\\*2)) as a function of time (step)\n",
    "  \n",
    "Did you get what you expected?"
   ]
  },
  {
   "cell_type": "code",
   "execution_count": 27,
   "metadata": {},
   "outputs": [
    {
     "data": {
      "image/png": "[encoded data removed]",
      "text/plain": [
       "<Figure size 432x288 with 1 Axes>"
      ]
     },
     "metadata": {
      "needs_background": "light"
     },
     "output_type": "display_data"
    }
   ],
   "source": [
    "import numpy.random as npr\n",
    "npr.seed(123546464)\n",
    "walkers = 1000\n",
    "steps   =  200\n",
    "grid = npr.randint(2, size=(walkers, steps))\n",
    "grid[grid == 0] = -1\n",
    "\n",
    "position = np.cumsum(grid, axis=1)\n",
    "pos2     = np.square(position)\n",
    "mean2    = np.mean(pos2, axis=0)\n",
    "sqmean2  = np.sqrt(mean2)\n",
    "\n",
    "plt.plot(np.arange(steps), sqmean2, label = 'ditance from the origin')\n",
    "plt.plot(np.arange(steps), np.sqrt(np.arange(0, steps)), linestyle = 'dashed', color = 'red', label = 'expected behaviour')\n",
    "plt.xlabel('time')\n",
    "plt.ylabel('distance')\n",
    "plt.legend(loc = 'best')\n",
    "plt.show()"
   ]
  },
  {
   "cell_type": "markdown",
   "metadata": {},
   "source": [
    "The behaviour respect the predicions: the average distance from the origin grows as $\\sqrt{t}$."
   ]
  },
  {
   "cell_type": "markdown",
   "metadata": {},
   "source": [
    "9\\. Analyze a data file \n",
    "  * Download the population of hares, lynxes and carrots at the beginning of the last century.\n",
    "    ```python\n",
    "    ! wget https://www.dropbox.com/s/3vigxoqayo389uc/populations.txt\n",
    "    ```\n",
    "\n",
    "  * Check the content by looking within the file\n",
    "  * Load the data (use an appropriate numpy method) into a 2D array\n",
    "  * Create arrays out of the columns, the arrays being (in order): *year*, *hares*, *lynxes*, *carrots* \n",
    "  * Plot the 3 populations over the years\n",
    "  * Compute the main statistical properties of the dataset (mean, std, correlations, etc.)\n",
    "  * Which species has the highest population each year?\n",
    "\n",
    "Do you feel there is some evident correlation here? [Studies](https://www.enr.gov.nt.ca/en/services/lynx/lynx-snowshoe-hare-cycle) tend to believe so."
   ]
  },
  {
   "cell_type": "code",
   "execution_count": 28,
   "metadata": {},
   "outputs": [
    {
     "name": "stdout",
     "output_type": "stream",
     "text": [
      "--2021-12-02 17:39:47--  https://www.dropbox.com/s/3vigxoqayo389uc/populations.txt\n",
      "Resolving www.dropbox.com (www.dropbox.com)... 162.125.69.18, 2620:100:6025:18::a27d:4512\n",
      "Connecting to www.dropbox.com (www.dropbox.com)|162.125.69.18|:443... connected.\n",
      "HTTP request sent, awaiting response... 301 Moved Permanently\n",
      "Location: /s/raw/3vigxoqayo389uc/populations.txt [following]\n",
      "--2021-12-02 17:39:47--  https://www.dropbox.com/s/raw/3vigxoqayo389uc/populations.txt\n",
      "Reusing existing connection to www.dropbox.com:443.\n",
      "HTTP request sent, awaiting response... 302 Found\n",
      "Location: https://ucb64ef740c34699e7e659bf6417.dl.dropboxusercontent.com/cd/0/inline/BbGWomnd7PKSzLoO2iMFiWY1EO2F-JUZAUZRdAmJtjd-2tGmLKLJl_lzdx9LDS6eGpeJQ8D0KNVCDBNcbKi590KJ5SW8YH-ZrcSO0Q8vi4CBp-SoUDcjfby5jjxaQ2IZldCl9zp5EdYblily6dWoyhLA/file# [following]\n",
      "--2021-12-02 17:39:48--  https://ucb64ef740c34699e7e659bf6417.dl.dropboxusercontent.com/cd/0/inline/BbGWomnd7PKSzLoO2iMFiWY1EO2F-JUZAUZRdAmJtjd-2tGmLKLJl_lzdx9LDS6eGpeJQ8D0KNVCDBNcbKi590KJ5SW8YH-ZrcSO0Q8vi4CBp-SoUDcjfby5jjxaQ2IZldCl9zp5EdYblily6dWoyhLA/file\n",
      "Resolving ucb64ef740c34699e7e659bf6417.dl.dropboxusercontent.com (ucb64ef740c34699e7e659bf6417.dl.dropboxusercontent.com)... 162.125.69.15, 2620:100:6025:15::a27d:450f\n",
      "Connecting to ucb64ef740c34699e7e659bf6417.dl.dropboxusercontent.com (ucb64ef740c34699e7e659bf6417.dl.dropboxusercontent.com)|162.125.69.15|:443... connected.\n",
      "HTTP request sent, awaiting response... 200 OK\n",
      "Length: 525 [text/plain]\n",
      "Saving to: ‘populations.txt.1’\n",
      "\n",
      "populations.txt.1   100%[===================>]     525  --.-KB/s    in 0s      \n",
      "\n",
      "2021-12-02 17:39:48 (123 MB/s) - ‘populations.txt.1’ saved [525/525]\n",
      "\n"
     ]
    }
   ],
   "source": [
    "!wget https://www.dropbox.com/s/3vigxoqayo389uc/populations.txt"
   ]
  },
  {
   "cell_type": "code",
   "execution_count": 30,
   "metadata": {},
   "outputs": [
    {
     "data": {
      "text/html": [
       "<div>\n",
       "<style scoped>\n",
       "    .dataframe tbody tr th:only-of-type {\n",
       "        vertical-align: middle;\n",
       "    }\n",
       "\n",
       "    .dataframe tbody tr th {\n",
       "        vertical-align: top;\n",
       "    }\n",
       "\n",
       "    .dataframe thead th {\n",
       "        text-align: right;\n",
       "    }\n",
       "</style>\n",
       "<table border=\"1\" class=\"dataframe\">\n",
       "  <thead>\n",
       "    <tr style=\"text-align: right;\">\n",
       "      <th></th>\n",
       "      <th># year</th>\n",
       "      <th>hare</th>\n",
       "      <th>lynx</th>\n",
       "      <th>carrot</th>\n",
       "    </tr>\n",
       "  </thead>\n",
       "  <tbody>\n",
       "    <tr>\n",
       "      <th>0</th>\n",
       "      <td>1900</td>\n",
       "      <td>30000.0</td>\n",
       "      <td>4000.0</td>\n",
       "      <td>48300</td>\n",
       "    </tr>\n",
       "    <tr>\n",
       "      <th>1</th>\n",
       "      <td>1901</td>\n",
       "      <td>47200.0</td>\n",
       "      <td>6100.0</td>\n",
       "      <td>48200</td>\n",
       "    </tr>\n",
       "    <tr>\n",
       "      <th>2</th>\n",
       "      <td>1902</td>\n",
       "      <td>70200.0</td>\n",
       "      <td>9800.0</td>\n",
       "      <td>41500</td>\n",
       "    </tr>\n",
       "    <tr>\n",
       "      <th>3</th>\n",
       "      <td>1903</td>\n",
       "      <td>77400.0</td>\n",
       "      <td>35200.0</td>\n",
       "      <td>38200</td>\n",
       "    </tr>\n",
       "    <tr>\n",
       "      <th>4</th>\n",
       "      <td>1904</td>\n",
       "      <td>36300.0</td>\n",
       "      <td>59400.0</td>\n",
       "      <td>40600</td>\n",
       "    </tr>\n",
       "    <tr>\n",
       "      <th>5</th>\n",
       "      <td>1905</td>\n",
       "      <td>20600.0</td>\n",
       "      <td>41700.0</td>\n",
       "      <td>39800</td>\n",
       "    </tr>\n",
       "    <tr>\n",
       "      <th>6</th>\n",
       "      <td>1906</td>\n",
       "      <td>18100.0</td>\n",
       "      <td>19000.0</td>\n",
       "      <td>38600</td>\n",
       "    </tr>\n",
       "    <tr>\n",
       "      <th>7</th>\n",
       "      <td>1907</td>\n",
       "      <td>21400.0</td>\n",
       "      <td>13000.0</td>\n",
       "      <td>42300</td>\n",
       "    </tr>\n",
       "    <tr>\n",
       "      <th>8</th>\n",
       "      <td>1908</td>\n",
       "      <td>22000.0</td>\n",
       "      <td>8300.0</td>\n",
       "      <td>44500</td>\n",
       "    </tr>\n",
       "    <tr>\n",
       "      <th>9</th>\n",
       "      <td>1909</td>\n",
       "      <td>25400.0</td>\n",
       "      <td>9100.0</td>\n",
       "      <td>42100</td>\n",
       "    </tr>\n",
       "    <tr>\n",
       "      <th>10</th>\n",
       "      <td>1910</td>\n",
       "      <td>27100.0</td>\n",
       "      <td>7400.0</td>\n",
       "      <td>46000</td>\n",
       "    </tr>\n",
       "    <tr>\n",
       "      <th>11</th>\n",
       "      <td>1911</td>\n",
       "      <td>40300.0</td>\n",
       "      <td>8000.0</td>\n",
       "      <td>46800</td>\n",
       "    </tr>\n",
       "    <tr>\n",
       "      <th>12</th>\n",
       "      <td>1912</td>\n",
       "      <td>57000.0</td>\n",
       "      <td>12300.0</td>\n",
       "      <td>43800</td>\n",
       "    </tr>\n",
       "    <tr>\n",
       "      <th>13</th>\n",
       "      <td>1913</td>\n",
       "      <td>76600.0</td>\n",
       "      <td>19500.0</td>\n",
       "      <td>40900</td>\n",
       "    </tr>\n",
       "    <tr>\n",
       "      <th>14</th>\n",
       "      <td>1914</td>\n",
       "      <td>52300.0</td>\n",
       "      <td>45700.0</td>\n",
       "      <td>39400</td>\n",
       "    </tr>\n",
       "    <tr>\n",
       "      <th>15</th>\n",
       "      <td>1915</td>\n",
       "      <td>19500.0</td>\n",
       "      <td>51100.0</td>\n",
       "      <td>39000</td>\n",
       "    </tr>\n",
       "    <tr>\n",
       "      <th>16</th>\n",
       "      <td>1916</td>\n",
       "      <td>11200.0</td>\n",
       "      <td>29700.0</td>\n",
       "      <td>36700</td>\n",
       "    </tr>\n",
       "    <tr>\n",
       "      <th>17</th>\n",
       "      <td>1917</td>\n",
       "      <td>7600.0</td>\n",
       "      <td>15800.0</td>\n",
       "      <td>41800</td>\n",
       "    </tr>\n",
       "    <tr>\n",
       "      <th>18</th>\n",
       "      <td>1918</td>\n",
       "      <td>14600.0</td>\n",
       "      <td>9700.0</td>\n",
       "      <td>43300</td>\n",
       "    </tr>\n",
       "    <tr>\n",
       "      <th>19</th>\n",
       "      <td>1919</td>\n",
       "      <td>16200.0</td>\n",
       "      <td>10100.0</td>\n",
       "      <td>41300</td>\n",
       "    </tr>\n",
       "    <tr>\n",
       "      <th>20</th>\n",
       "      <td>1920</td>\n",
       "      <td>24700.0</td>\n",
       "      <td>8600.0</td>\n",
       "      <td>47300</td>\n",
       "    </tr>\n",
       "  </tbody>\n",
       "</table>\n",
       "</div>"
      ],
      "text/plain": [
       "    # year     hare     lynx  carrot\n",
       "0     1900  30000.0   4000.0   48300\n",
       "1     1901  47200.0   6100.0   48200\n",
       "2     1902  70200.0   9800.0   41500\n",
       "3     1903  77400.0  35200.0   38200\n",
       "4     1904  36300.0  59400.0   40600\n",
       "5     1905  20600.0  41700.0   39800\n",
       "6     1906  18100.0  19000.0   38600\n",
       "7     1907  21400.0  13000.0   42300\n",
       "8     1908  22000.0   8300.0   44500\n",
       "9     1909  25400.0   9100.0   42100\n",
       "10    1910  27100.0   7400.0   46000\n",
       "11    1911  40300.0   8000.0   46800\n",
       "12    1912  57000.0  12300.0   43800\n",
       "13    1913  76600.0  19500.0   40900\n",
       "14    1914  52300.0  45700.0   39400\n",
       "15    1915  19500.0  51100.0   39000\n",
       "16    1916  11200.0  29700.0   36700\n",
       "17    1917   7600.0  15800.0   41800\n",
       "18    1918  14600.0   9700.0   43300\n",
       "19    1919  16200.0  10100.0   41300\n",
       "20    1920  24700.0   8600.0   47300"
      ]
     },
     "execution_count": 30,
     "metadata": {},
     "output_type": "execute_result"
    }
   ],
   "source": [
    "import pandas as pd\n",
    "df = pd.read_csv('populations.txt', delimiter = '\\t')\n",
    "df"
   ]
  },
  {
   "cell_type": "code",
   "execution_count": 47,
   "metadata": {},
   "outputs": [
    {
     "data": {
      "image/png": "[encoded data removed]",
      "text/plain": [
       "<Figure size 504x504 with 1 Axes>"
      ]
     },
     "metadata": {
      "needs_background": "light"
     },
     "output_type": "display_data"
    }
   ],
   "source": [
    "data = np.loadtxt('populations.txt')\n",
    "year   = np.hsplit(data, 4)[0]\n",
    "hare   = np.hsplit(data, 4)[1]\n",
    "lynx   = np.hsplit(data, 4)[2]\n",
    "carrot = np.hsplit(data, 4)[3]\n",
    "\n",
    "from matplotlib.ticker import AutoMinorLocator, MultipleLocator, FuncFormatter\n",
    "fig, ax = plt.subplots(figsize= (7,7))\n",
    "ax.plot(year,   hare, label =   'hare')\n",
    "ax.plot(year,   lynx, label =   'lynx')\n",
    "ax.plot(year, carrot, label = 'carrot')\n",
    "ax.legend()\n",
    "plt.xlabel('year')\n",
    "plt.ylabel('populations')\n",
    "ax.xaxis.set_major_locator(MultipleLocator(5))\n",
    "plt.show()"
   ]
  },
  {
   "cell_type": "code",
   "execution_count": 48,
   "metadata": {},
   "outputs": [
    {
     "name": "stdout",
     "output_type": "stream",
     "text": [
      "\n",
      "Mean vector:\n",
      "[34080.95238095 20166.66666667 42400.        ]\n",
      "\n",
      "Std vector:\n",
      "[20897.90645809 16254.59153691  3322.50622558]\n",
      "\n",
      "Correlation Matrix:\n",
      "[[ 1.          0.07189206 -0.01660378]\n",
      " [ 0.07189206  1.         -0.68057717]\n",
      " [-0.01660378 -0.68057717  1.        ]]\n"
     ]
    }
   ],
   "source": [
    "X = data[:, 1:]\n",
    "Mean = np.mean(X, axis=0)\n",
    "print(\"\\nMean vector:\")\n",
    "print(Mean)\n",
    "Std = np.std(X, axis = 0)\n",
    "print(\"\\nStd vector:\")\n",
    "print(Std)\n",
    "\n",
    "#Covariance matrix\n",
    "n = X.shape[0]\n",
    "H = np.eye(n)-1/n*np.ones((n,1)).dot(np.ones((1,n)))\n",
    "S = 1/n*X.T.dot(H.dot(X))\n",
    "D = np.diag(np.diag(S)**(-0.5))\n",
    "\n",
    "#Correlation Matrix\n",
    "R = D.dot(S.dot(D))\n",
    "print(\"\\nCorrelation Matrix:\")\n",
    "#Direct computation\n",
    "#R = np.corrcoef(X.T)\n",
    "print(R)"
   ]
  },
  {
   "cell_type": "code",
   "execution_count": 50,
   "metadata": {},
   "outputs": [
    {
     "name": "stdout",
     "output_type": "stream",
     "text": [
      "In 1900 the species with the highest population was carrots.\n",
      "In 1901 the species with the highest population was carrots.\n",
      "In 1902 the species with the highest population was hares.\n",
      "In 1903 the species with the highest population was hares.\n",
      "In 1904 the species with the highest population was lynxes.\n",
      "In 1905 the species with the highest population was lynxes.\n",
      "In 1906 the species with the highest population was carrots.\n",
      "In 1907 the species with the highest population was carrots.\n",
      "In 1908 the species with the highest population was carrots.\n",
      "In 1909 the species with the highest population was carrots.\n",
      "In 1910 the species with the highest population was carrots.\n",
      "In 1911 the species with the highest population was carrots.\n",
      "In 1912 the species with the highest population was hares.\n",
      "In 1913 the species with the highest population was hares.\n",
      "In 1914 the species with the highest population was hares.\n",
      "In 1915 the species with the highest population was lynxes.\n",
      "In 1916 the species with the highest population was carrots.\n",
      "In 1917 the species with the highest population was carrots.\n",
      "In 1918 the species with the highest population was carrots.\n",
      "In 1919 the species with the highest population was carrots.\n",
      "In 1920 the species with the highest population was carrots.\n"
     ]
    }
   ],
   "source": [
    "\n",
    "for i in range(len(year)):\n",
    "    ca = max(hare[i], lynx[i], carrot[i])\n",
    "    if ca == hare[i]:\n",
    "        print(\"In\", int(year[i]), \"the species with the highest population was hares.\")\n",
    "    elif ca == lynx[i]:\n",
    "        print(\"In\", int(year[i]), \"the species with the highest population was lynxes.\")\n",
    "    elif ca == carrot[i]:\n",
    "        print(\"In\", int(year[i]), \"the species with the highest population was carrots.\")"
   ]
  },
  {
   "cell_type": "markdown",
   "metadata": {},
   "source": [
    "The graph shows correlation coefficients for different shifted-years, in particular between hare and lynx."
   ]
  },
  {
   "cell_type": "markdown",
   "metadata": {},
   "source": []
  }
 ],
 "metadata": {
  "kernelspec": {
   "display_name": "Python 3 (ipykernel)",
   "language": "python",
   "name": "python3"
  },
  "language_info": {
   "codemirror_mode": {
    "name": "ipython",
    "version": 3
   },
   "file_extension": ".py",
   "mimetype": "text/x-python",
   "name": "python",
   "nbconvert_exporter": "python",
   "pygments_lexer": "ipython3",
   "version": "3.8.12"
  }
 },
 "nbformat": 4,
 "nbformat_minor": 2
}
