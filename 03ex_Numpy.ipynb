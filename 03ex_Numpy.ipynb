{
 "cells": [
  {
   "cell_type": "markdown",
   "source": [
    "### Numpy basics"
   ],
   "metadata": {}
  },
  {
   "cell_type": "code",
   "execution_count": 2,
   "source": [
    "import numpy as np"
   ],
   "outputs": [],
   "metadata": {}
  },
  {
   "cell_type": "markdown",
   "source": [
    "1\\. Find the row, column and overall means for the following matrix:\n",
    "\n",
    "```python\n",
    "m = np.arange(12).reshape((3,4))\n",
    "```"
   ],
   "metadata": {}
  },
  {
   "cell_type": "code",
   "execution_count": 7,
   "source": [
    "m = np.arange(12).reshape((3,4))\n",
    "print(m)\n",
    "print(np.mean(m,axis=0)) # mean of every column\n",
    "print(np.mean(m,axis=1)) # mean of every row\n",
    "print(np.mean(m)) # mean of all values"
   ],
   "outputs": [
    {
     "output_type": "stream",
     "name": "stdout",
     "text": [
      "[[ 0  1  2  3]\n",
      " [ 4  5  6  7]\n",
      " [ 8  9 10 11]]\n",
      "[4. 5. 6. 7.]\n",
      "[1.5 5.5 9.5]\n",
      "5.5\n"
     ]
    }
   ],
   "metadata": {}
  },
  {
   "cell_type": "markdown",
   "source": [
    "2\\. Find the outer product of the following two vecotrs\n",
    "\n",
    "```python\n",
    "u = np.array([1,3,5,7])\n",
    "v = np.array([2,4,6,8])\n",
    "```\n",
    "\n",
    "Do this in the following ways:\n",
    "\n",
    "   * Using the function outer in numpy\n",
    "   * Using a nested for loop or list comprehension\n",
    "   * Using numpy broadcasting operatoins\n"
   ],
   "metadata": {}
  },
  {
   "cell_type": "code",
   "execution_count": 13,
   "source": [
    "u = np.array([1,3,5,7])\n",
    "v = np.array([2,4,6,8])\n",
    "# np.outer function\n",
    "print(np.outer(u,v))\n",
    "# list comprehension\n",
    "print(np.array([[i*j for j in v] for i in u]))\n",
    "# broadcasting\n",
    "print(u.reshape((-1,1))*v)\n"
   ],
   "outputs": [
    {
     "output_type": "stream",
     "name": "stdout",
     "text": [
      "[[ 2  4  6  8]\n",
      " [ 6 12 18 24]\n",
      " [10 20 30 40]\n",
      " [14 28 42 56]]\n",
      "[[ 2  4  6  8]\n",
      " [ 6 12 18 24]\n",
      " [10 20 30 40]\n",
      " [14 28 42 56]]\n",
      "[[ 2  4  6  8]\n",
      " [ 6 12 18 24]\n",
      " [10 20 30 40]\n",
      " [14 28 42 56]]\n"
     ]
    }
   ],
   "metadata": {}
  },
  {
   "cell_type": "markdown",
   "source": [
    "3\\. Create a 10 by 6 matrix of random uniform numbers. Set all rows with any entry less than 0.1 to be zero\n",
    "\n",
    "Hint: Use the following numpy functions - np.random.random, np.any as well as Boolean indexing and the axis argument."
   ],
   "metadata": {}
  },
  {
   "cell_type": "code",
   "execution_count": 15,
   "source": [
    "random_matrix = np.random.rand(10,6)\n",
    "print(random_matrix)\n",
    "random_matrix[random_matrix<0.1]=0\n",
    "print(random_matrix)"
   ],
   "outputs": [
    {
     "output_type": "stream",
     "name": "stdout",
     "text": [
      "[[0.7011395  0.36867997 0.91367503 0.87663313 0.7448035  0.32860801]\n",
      " [0.498231   0.13018058 0.50146715 0.58019512 0.52439775 0.57836664]\n",
      " [0.39975303 0.08189018 0.67335032 0.81468351 0.97491569 0.68984329]\n",
      " [0.50958126 0.20185806 0.92647347 0.32836065 0.22481172 0.60531849]\n",
      " [0.76632897 0.43596672 0.08626927 0.00887468 0.37288942 0.62908905]\n",
      " [0.0158666  0.00404189 0.57293962 0.81411817 0.07228776 0.78962337]\n",
      " [0.23932957 0.84941395 0.44141622 0.14853989 0.39502376 0.28613334]\n",
      " [0.40427549 0.84061146 0.83309784 0.57889077 0.61689527 0.88121859]\n",
      " [0.48609823 0.36813691 0.40264036 0.7758916  0.36578533 0.77996507]\n",
      " [0.1947819  0.93076317 0.75460548 0.05734142 0.87383198 0.43013684]]\n",
      "[[0.7011395  0.36867997 0.91367503 0.87663313 0.7448035  0.32860801]\n",
      " [0.498231   0.13018058 0.50146715 0.58019512 0.52439775 0.57836664]\n",
      " [0.39975303 0.         0.67335032 0.81468351 0.97491569 0.68984329]\n",
      " [0.50958126 0.20185806 0.92647347 0.32836065 0.22481172 0.60531849]\n",
      " [0.76632897 0.43596672 0.         0.         0.37288942 0.62908905]\n",
      " [0.         0.         0.57293962 0.81411817 0.         0.78962337]\n",
      " [0.23932957 0.84941395 0.44141622 0.14853989 0.39502376 0.28613334]\n",
      " [0.40427549 0.84061146 0.83309784 0.57889077 0.61689527 0.88121859]\n",
      " [0.48609823 0.36813691 0.40264036 0.7758916  0.36578533 0.77996507]\n",
      " [0.1947819  0.93076317 0.75460548 0.         0.87383198 0.43013684]]\n"
     ]
    }
   ],
   "metadata": {}
  },
  {
   "cell_type": "markdown",
   "source": [
    "4\\. Use np.linspace to create an array of 100 numbers between 0 and 2π (includsive).\n",
    "\n",
    "  * Extract every 10th element using slice notation\n",
    "  * Reverse the array using slice notation\n",
    "  * Extract elements where the absolute difference between the sine and cosine functions evaluated at that element is less than 0.1\n",
    "  * Make a plot showing the sin and cos functions and indicate where they are close"
   ],
   "metadata": {}
  },
  {
   "cell_type": "code",
   "execution_count": 24,
   "source": [
    "zero2pi = np.linspace(0,np.pi,100)\n",
    "print(zero2pi[::10])\n",
    "print(zero2pi[::-1])\n",
    "close_points = zero2pi[np.abs(np.sin(zero2pi)-np.cos(zero2pi))<0.1]\n",
    "print(close_points)\n",
    "\n",
    "import matplotlib.pyplot as plt\n",
    "%matplotlib inline\n",
    "fig,ax = plt.subplots()\n",
    "ax.plot(zero2pi,np.sin(zero2pi),color='red',label='Sine function')\n",
    "ax.plot(zero2pi,np.cos(zero2pi),color='blue',label='Cosine function')\n",
    "ax.scatter(close_points,np.sin(close_points),marker='d',color='darkred')\n",
    "ax.scatter(close_points,np.cos(close_points),marker='d',color='navy')\n",
    "ax.legend()\n",
    "plt.show()"
   ],
   "outputs": [
    {
     "output_type": "stream",
     "name": "stdout",
     "text": [
      "[0.         0.31733259 0.63466518 0.95199777 1.26933037 1.58666296\n",
      " 1.90399555 2.22132814 2.53866073 2.85599332]\n",
      "[3.14159265 3.10985939 3.07812614 3.04639288 3.01465962 2.98292636\n",
      " 2.9511931  2.91945984 2.88772658 2.85599332 2.82426006 2.7925268\n",
      " 2.76079354 2.72906028 2.69732703 2.66559377 2.63386051 2.60212725\n",
      " 2.57039399 2.53866073 2.50692747 2.47519421 2.44346095 2.41172769\n",
      " 2.37999443 2.34826118 2.31652792 2.28479466 2.2530614  2.22132814\n",
      " 2.18959488 2.15786162 2.12612836 2.0943951  2.06266184 2.03092858\n",
      " 1.99919533 1.96746207 1.93572881 1.90399555 1.87226229 1.84052903\n",
      " 1.80879577 1.77706251 1.74532925 1.71359599 1.68186273 1.65012947\n",
      " 1.61839622 1.58666296 1.5549297  1.52319644 1.49146318 1.45972992\n",
      " 1.42799666 1.3962634  1.36453014 1.33279688 1.30106362 1.26933037\n",
      " 1.23759711 1.20586385 1.17413059 1.14239733 1.11066407 1.07893081\n",
      " 1.04719755 1.01546429 0.98373103 0.95199777 0.92026451 0.88853126\n",
      " 0.856798   0.82506474 0.79333148 0.76159822 0.72986496 0.6981317\n",
      " 0.66639844 0.63466518 0.60293192 0.57119866 0.53946541 0.50773215\n",
      " 0.47599889 0.44426563 0.41253237 0.38079911 0.34906585 0.31733259\n",
      " 0.28559933 0.25386607 0.22213281 0.19039955 0.1586663  0.12693304\n",
      " 0.09519978 0.06346652 0.03173326 0.        ]\n",
      "[0.72986496 0.76159822 0.79333148 0.82506474]\n"
     ]
    },
    {
     "output_type": "display_data",
     "data": {
      "image/png": "[encoded data removed]",
      "text/plain": [
       "<Figure size 432x288 with 1 Axes>"
      ]
     },
     "metadata": {
      "needs_background": "light"
     }
    }
   ],
   "metadata": {}
  },
  {
   "cell_type": "markdown",
   "source": [
    "5\\. Create a matrix that shows the 10 by 10 multiplication table.\n",
    "\n",
    " * Find the trace of the matrix\n",
    " * Extract the anto-diagonal (this should be ```array([10, 18, 24, 28, 30, 30, 28, 24, 18, 10])```)\n",
    " * Extract the diagnoal offset by 1 upwards (this should be ```array([ 2,  6, 12, 20, 30, 42, 56, 72, 90])```)"
   ],
   "metadata": {}
  },
  {
   "cell_type": "code",
   "execution_count": 63,
   "source": [
    "multiplication_table=np.array([[i*j for i in range(1,11)] for j in range(1,11)])\n",
    "print(multiplication_table)\n",
    "#trace\n",
    "trace=np.sum(multiplication_table[(np.arange(0,10),np.arange(0,10))])\n",
    "print(\"Trace = {}\".format(trace))\n",
    "\n",
    "print(\"Anti-diagonal:\")\n",
    "print(multiplication_table[(np.arange(0,10),np.arange(9,-1,-1))])\n",
    "\n",
    "print(\"Diagonal with 1 step upwards offset: \")\n",
    "print(multiplication_table[(np.arange(0,9),np.arange(1,10))])\n",
    "\n"
   ],
   "outputs": [
    {
     "output_type": "stream",
     "name": "stdout",
     "text": [
      "[[  1   2   3   4   5   6   7   8   9  10]\n",
      " [  2   4   6   8  10  12  14  16  18  20]\n",
      " [  3   6   9  12  15  18  21  24  27  30]\n",
      " [  4   8  12  16  20  24  28  32  36  40]\n",
      " [  5  10  15  20  25  30  35  40  45  50]\n",
      " [  6  12  18  24  30  36  42  48  54  60]\n",
      " [  7  14  21  28  35  42  49  56  63  70]\n",
      " [  8  16  24  32  40  48  56  64  72  80]\n",
      " [  9  18  27  36  45  54  63  72  81  90]\n",
      " [ 10  20  30  40  50  60  70  80  90 100]]\n",
      "Trace = 385\n",
      "Anti-diagonal:\n",
      "[10 18 24 28 30 30 28 24 18 10]\n",
      "Diagonal with 1 step upwards offset: \n",
      "[ 2  6 12 20 30 42 56 72 90]\n"
     ]
    }
   ],
   "metadata": {}
  },
  {
   "cell_type": "markdown",
   "source": [
    "6\\. Use broadcasting to create a grid of distances\n",
    "\n",
    "Route 66 crosses the following cities in the US: Chicago, Springfield, Saint-Louis, Tulsa, Oklahoma City, Amarillo, Santa Fe, Albuquerque, Flagstaff, Los Angeles\n",
    "The corresponding positions in miles are: 0, 198, 303, 736, 871, 1175, 1475, 1544, 1913, 2448\n",
    "\n",
    "  * Construct a 2D grid of distances among each city along Route 66\n",
    "  * Convert that in km (those savages...)"
   ],
   "metadata": {}
  },
  {
   "cell_type": "code",
   "execution_count": 65,
   "source": [
    "miles = np.array([0,198,303,736,871,1175,1475,1544,1913,2448])\n",
    "distances_mi = abs(miles.reshape((-1,1)) - miles)\n",
    "distances_km = distances_mi * 1.60934\n",
    "print(distances_km)"
   ],
   "outputs": [
    {
     "output_type": "stream",
     "name": "stdout",
     "text": [
      "[[   0.       318.64932  487.63002 1184.47424 1401.73514 1890.9745\n",
      "  2373.7765  2484.82096 3078.66742 3939.66432]\n",
      " [ 318.64932    0.       168.9807   865.82492 1083.08582 1572.32518\n",
      "  2055.12718 2166.17164 2760.0181  3621.015  ]\n",
      " [ 487.63002  168.9807     0.       696.84422  914.10512 1403.34448\n",
      "  1886.14648 1997.19094 2591.0374  3452.0343 ]\n",
      " [1184.47424  865.82492  696.84422    0.       217.2609   706.50026\n",
      "  1189.30226 1300.34672 1894.19318 2755.19008]\n",
      " [1401.73514 1083.08582  914.10512  217.2609     0.       489.23936\n",
      "   972.04136 1083.08582 1676.93228 2537.92918]\n",
      " [1890.9745  1572.32518 1403.34448  706.50026  489.23936    0.\n",
      "   482.802    593.84646 1187.69292 2048.68982]\n",
      " [2373.7765  2055.12718 1886.14648 1189.30226  972.04136  482.802\n",
      "     0.       111.04446  704.89092 1565.88782]\n",
      " [2484.82096 2166.17164 1997.19094 1300.34672 1083.08582  593.84646\n",
      "   111.04446    0.       593.84646 1454.84336]\n",
      " [3078.66742 2760.0181  2591.0374  1894.19318 1676.93228 1187.69292\n",
      "   704.89092  593.84646    0.       860.9969 ]\n",
      " [3939.66432 3621.015   3452.0343  2755.19008 2537.92918 2048.68982\n",
      "  1565.88782 1454.84336  860.9969     0.     ]]\n"
     ]
    }
   ],
   "metadata": {}
  },
  {
   "cell_type": "markdown",
   "source": [
    "7\\. Prime numbers sieve: compute the prime numbers in the 0-N (N=99 to start with) range with a sieve (mask).\n",
    "  * Constract a shape (100,) boolean array, the mask\n",
    "  * Identify the multiples of each number starting from 2 and set accordingly the corresponding mask element\n",
    "  * Apply the mask to obtain an array of ordered prime numbers\n",
    "  * Check the performances (timeit); how does it scale with N?\n",
    "  * Implement the optimization suggested in the [sieve of Eratosthenes](https://en.wikipedia.org/wiki/Sieve_of_Eratosthenes)"
   ],
   "metadata": {}
  },
  {
   "cell_type": "code",
   "execution_count": null,
   "source": [
    "def prime_numbers(N):\n",
    "    nums = np.arange(0,N)\n",
    "    "
   ],
   "outputs": [],
   "metadata": {}
  },
  {
   "cell_type": "markdown",
   "source": [
    "**N.B. the following exercises are meant to be solved only if you are familiar with the numpy random library. If not you can skip them (postponed for one of the next exercise sessions)**\n"
   ],
   "metadata": {}
  },
  {
   "cell_type": "markdown",
   "source": [
    "8\\. Diffusion using random walk\n",
    "\n",
    "Consider a simple random walk process: at each step in time, a walker jumps right or left (+1 or -1) with equal probability. The goal is to find the typical distance from the origin of a random walker after a given amount of time. \n",
    "To do that, let's simulate many walkers and create a 2D array with each walker as a raw and the actual time evolution as columns\n",
    "\n",
    "  * Take 1000 walkers and let them walk for 200 steps\n",
    "  * Use randint to create a 2D array of size walkers x steps with values -1 or 1\n",
    "  * Build the actual walking distances for each walker (i.e. another 2D array \"summing on each raw\")\n",
    "  * Take the square of that 2D array (elementwise)\n",
    "  * Compute the mean of the squared distances at each step (i.e. the mean along the columns)\n",
    "  * Plot the average distances (sqrt(distance\\*\\*2)) as a function of time (step)\n",
    "  \n",
    "Did you get what you expected?"
   ],
   "metadata": {}
  },
  {
   "cell_type": "markdown",
   "source": [
    "9\\. Analyze a data file \n",
    "  * Download the population of hares, lynxes and carrots at the beginning of the last century.\n",
    "    ```python\n",
    "    ! wget https://www.dropbox.com/s/3vigxoqayo389uc/populations.txt\n",
    "    ```\n",
    "\n",
    "  * Check the content by looking within the file\n",
    "  * Load the data (use an appropriate numpy method) into a 2D array\n",
    "  * Create arrays out of the columns, the arrays being (in order): *year*, *hares*, *lynxes*, *carrots* \n",
    "  * Plot the 3 populations over the years\n",
    "  * Compute the main statistical properties of the dataset (mean, std, correlations, etc.)\n",
    "  * Which species has the highest population each year?\n",
    "\n",
    "Do you feel there is some evident correlation here? [Studies](https://www.enr.gov.nt.ca/en/services/lynx/lynx-snowshoe-hare-cycle) tend to believe so."
   ],
   "metadata": {}
  },
  {
   "cell_type": "code",
   "execution_count": null,
   "source": [],
   "outputs": [],
   "metadata": {}
  }
 ],
 "metadata": {
  "kernelspec": {
   "name": "python3",
   "display_name": "Python 3.8.8 64-bit ('base': conda)"
  },
  "language_info": {
   "codemirror_mode": {
    "name": "ipython",
    "version": 3
   },
   "file_extension": ".py",
   "mimetype": "text/x-python",
   "name": "python",
   "nbconvert_exporter": "python",
   "pygments_lexer": "ipython3",
   "version": "3.8.8"
  },
  "interpreter": {
   "hash": "a3c34d53b0b4d70da62f7b5a080d8239056f030c25ec722ce0a2734d501a65c4"
  }
 },
 "nbformat": 4,
 "nbformat_minor": 2
}