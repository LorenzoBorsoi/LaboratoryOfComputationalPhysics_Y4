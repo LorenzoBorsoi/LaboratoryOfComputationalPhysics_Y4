{
 "cells": [
  {
   "cell_type": "markdown",
   "metadata": {},
   "source": [
    "### Numpy basics"
   ]
  },
  {
   "cell_type": "markdown",
   "metadata": {},
   "source": [
    "1\\. Find the row, column and overall means for the following matrix:\n",
    "\n",
    "```python\n",
    "m = np.arange(12).reshape((3,4))\n",
    "```"
   ]
  },
  {
   "cell_type": "code",
   "execution_count": 2,
   "metadata": {},
   "outputs": [
    {
     "name": "stdout",
     "output_type": "stream",
     "text": [
      "3 4\n",
      "5.5\n",
      "[4. 5. 6. 7.]\n",
      "[1.5 5.5 9.5]\n"
     ]
    }
   ],
   "source": [
    "import numpy as np\n",
    "m = np.arange(12).reshape((3,4))\n",
    "num_rows, num_cols = m.shape\n",
    "print (num_rows, num_cols)\n",
    "\n",
    "print(np.mean(m))\n",
    "print(np.mean(m, axis=0))\n",
    "print(np.mean(m, axis=1))\n"
   ]
  },
  {
   "cell_type": "markdown",
   "metadata": {},
   "source": [
    "2\\. Find the outer product of the following two vecotrs\n",
    "\n",
    "```python\n",
    "u = np.array([1,3,5,7])\n",
    "v = np.array([2,4,6,8])\n",
    "```\n",
    "\n",
    "Do this in the following ways:\n",
    "\n",
    "   * Using the function outer in numpy\n",
    "   * Using a nested for loop or list comprehension\n",
    "   * Using numpy broadcasting operatoins\n"
   ]
  },
  {
   "cell_type": "code",
   "execution_count": 13,
   "metadata": {},
   "outputs": [
    {
     "name": "stdout",
     "output_type": "stream",
     "text": [
      "METODO 1\n",
      "[[ 2  4  6  8]\n",
      " [ 6 12 18 24]\n",
      " [10 20 30 40]\n",
      " [14 28 42 56]]\n",
      "METODO 2\n",
      "[[ 2  4  6  8]\n",
      " [ 6 12 18 24]\n",
      " [10 20 30 40]\n",
      " [14 28 42 56]]\n",
      "METODO 3\n"
     ]
    },
    {
     "data": {
      "text/plain": [
       "array([[ 2,  4,  6,  8],\n",
       "       [ 6, 12, 18, 24],\n",
       "       [10, 20, 30, 40],\n",
       "       [14, 28, 42, 56]])"
      ]
     },
     "execution_count": 13,
     "metadata": {},
     "output_type": "execute_result"
    }
   ],
   "source": [
    "u = np.array([1,3,5,7])\n",
    "v = np.array([2,4,6,8])\n",
    "\n",
    "#metodo 1\n",
    "print(\"METODO 1\")\n",
    "print(np.outer(u,v))\n",
    "\n",
    "#metodo 2\n",
    "print(\"METODO 2\")\n",
    "print(np.array([u[i]*v[j] for i in range(4) for j in range(4)]).reshape(4,4))\n",
    "\n",
    "#metodo 3\n",
    "print(\"METODO 3\")\n",
    "u[:, np.newaxis]*v"
   ]
  },
  {
   "cell_type": "markdown",
   "metadata": {},
   "source": [
    "3\\. Create a 10 by 6 matrix of random uniform numbers. Set all rows with any entry less than 0.1 to be zero\n",
    "\n",
    "Hint: Use the following numpy functions - np.random.random, np.any as well as Boolean indexing and the axis argument."
   ]
  },
  {
   "cell_type": "code",
   "execution_count": 25,
   "metadata": {},
   "outputs": [
    {
     "name": "stdout",
     "output_type": "stream",
     "text": [
      "[[0.0960928  0.00188031 0.03825251 0.0203169  0.08030583 0.09209656]\n",
      " [0.00678269 0.061743   0.02736932 0.04387245 0.02486363 0.01714702]\n",
      " [0.0966156  0.09574259 0.01493757 0.01345472 0.01744405 0.0064845 ]\n",
      " [0.08162502 0.03451926 0.06803807 0.00911094 0.09559956 0.03544831]\n",
      " [0.05267233 0.09375406 0.02188056 0.0983771  0.09585683 0.00546726]\n",
      " [0.04725779 0.06452232 0.03557215 0.07524224 0.06710025 0.07780731]\n",
      " [0.04496669 0.00216967 0.09355734 0.01741871 0.06103935 0.00128067]\n",
      " [0.05770663 0.04846947 0.0780159  0.072292   0.09287582 0.0558309 ]\n",
      " [0.05201474 0.04255758 0.03380604 0.01227389 0.04837992 0.09653172]\n",
      " [0.06976135 0.09663125 0.05465343 0.09743378 0.03371431 0.01067697]]\n"
     ]
    }
   ],
   "source": [
    "matrix=np.random.uniform(low=0, high=0.1, size=(60)).reshape(10,6)\n",
    "\n",
    "print(matrix)\n",
    "\n"
   ]
  },
  {
   "cell_type": "markdown",
   "metadata": {},
   "source": [
    "4\\. Use np.linspace to create an array of 100 numbers between 0 and 2π (includsive).\n",
    "\n",
    "  * Extract every 10th element using slice notation\n",
    "  * Reverse the array using slice notation\n",
    "  * Extract elements where the absolute difference between the sine and cosine functions evaluated at that element is less than 0.1\n",
    "  * Make a plot showing the sin and cos functions and indicate where they are close"
   ]
  },
  {
   "cell_type": "code",
   "execution_count": 4,
   "metadata": {},
   "outputs": [
    {
     "name": "stdout",
     "output_type": "stream",
     "text": [
      "[0.         0.06346652 0.12693304 0.19039955 0.25386607 0.31733259\n",
      " 0.38079911 0.44426563 0.50773215 0.57119866 0.63466518 0.6981317\n",
      " 0.76159822 0.82506474 0.88853126 0.95199777 1.01546429 1.07893081\n",
      " 1.14239733 1.20586385 1.26933037 1.33279688 1.3962634  1.45972992\n",
      " 1.52319644 1.58666296 1.65012947 1.71359599 1.77706251 1.84052903\n",
      " 1.90399555 1.96746207 2.03092858 2.0943951  2.15786162 2.22132814\n",
      " 2.28479466 2.34826118 2.41172769 2.47519421 2.53866073 2.60212725\n",
      " 2.66559377 2.72906028 2.7925268  2.85599332 2.91945984 2.98292636\n",
      " 3.04639288 3.10985939 3.17332591 3.23679243 3.30025895 3.36372547\n",
      " 3.42719199 3.4906585  3.55412502 3.61759154 3.68105806 3.74452458\n",
      " 3.8079911  3.87145761 3.93492413 3.99839065 4.06185717 4.12532369\n",
      " 4.1887902  4.25225672 4.31572324 4.37918976 4.44265628 4.5061228\n",
      " 4.56958931 4.63305583 4.69652235 4.75998887 4.82345539 4.88692191\n",
      " 4.95038842 5.01385494 5.07732146 5.14078798 5.2042545  5.26772102\n",
      " 5.33118753 5.39465405 5.45812057 5.52158709 5.58505361 5.64852012\n",
      " 5.71198664 5.77545316 5.83891968 5.9023862  5.96585272 6.02931923\n",
      " 6.09278575 6.15625227 6.21971879 6.28318531]\n",
      "\n",
      " [0.         0.63466518 1.26933037 1.90399555 2.53866073 3.17332591\n",
      " 3.8079911  4.44265628 5.07732146 5.71198664]\n",
      "\n",
      " [6.28318531 6.21971879 6.15625227 6.09278575 6.02931923 5.96585272\n",
      " 5.9023862  5.83891968 5.77545316 5.71198664 5.64852012 5.58505361\n",
      " 5.52158709 5.45812057 5.39465405 5.33118753 5.26772102 5.2042545\n",
      " 5.14078798 5.07732146 5.01385494 4.95038842 4.88692191 4.82345539\n",
      " 4.75998887 4.69652235 4.63305583 4.56958931 4.5061228  4.44265628\n",
      " 4.37918976 4.31572324 4.25225672 4.1887902  4.12532369 4.06185717\n",
      " 3.99839065 3.93492413 3.87145761 3.8079911  3.74452458 3.68105806\n",
      " 3.61759154 3.55412502 3.4906585  3.42719199 3.36372547 3.30025895\n",
      " 3.23679243 3.17332591 3.10985939 3.04639288 2.98292636 2.91945984\n",
      " 2.85599332 2.7925268  2.72906028 2.66559377 2.60212725 2.53866073\n",
      " 2.47519421 2.41172769 2.34826118 2.28479466 2.22132814 2.15786162\n",
      " 2.0943951  2.03092858 1.96746207 1.90399555 1.84052903 1.77706251\n",
      " 1.71359599 1.65012947 1.58666296 1.52319644 1.45972992 1.3962634\n",
      " 1.33279688 1.26933037 1.20586385 1.14239733 1.07893081 1.01546429\n",
      " 0.95199777 0.88853126 0.82506474 0.76159822 0.6981317  0.63466518\n",
      " 0.57119866 0.50773215 0.44426563 0.38079911 0.31733259 0.25386607\n",
      " 0.19039955 0.12693304 0.06346652 0.        ]\n",
      "[0.         0.06346652 0.12693304 0.19039955 0.25386607 0.31733259\n",
      " 0.38079911 0.44426563 0.50773215 0.57119866 0.63466518 0.6981317\n",
      " 0.         0.         0.88853126 0.95199777 1.01546429 1.07893081\n",
      " 1.14239733 1.20586385 1.26933037 1.33279688 1.3962634  1.45972992\n",
      " 1.52319644 1.58666296 1.65012947 1.71359599 1.77706251 1.84052903\n",
      " 1.90399555 1.96746207 2.03092858 2.0943951  2.15786162 2.22132814\n",
      " 2.28479466 2.34826118 2.41172769 2.47519421 2.53866073 2.60212725\n",
      " 2.66559377 2.72906028 2.7925268  2.85599332 2.91945984 2.98292636\n",
      " 3.04639288 3.10985939 3.17332591 3.23679243 3.30025895 3.36372547\n",
      " 3.42719199 3.4906585  3.55412502 3.61759154 3.68105806 3.74452458\n",
      " 3.8079911  0.         0.         3.99839065 4.06185717 4.12532369\n",
      " 4.1887902  4.25225672 4.31572324 4.37918976 4.44265628 4.5061228\n",
      " 4.56958931 4.63305583 4.69652235 4.75998887 4.82345539 4.88692191\n",
      " 4.95038842 5.01385494 5.07732146 5.14078798 5.2042545  5.26772102\n",
      " 5.33118753 5.39465405 5.45812057 5.52158709 5.58505361 5.64852012\n",
      " 5.71198664 5.77545316 5.83891968 5.9023862  5.96585272 6.02931923\n",
      " 6.09278575 6.15625227 6.21971879 6.28318531]\n"
     ]
    },
    {
     "data": {
      "text/plain": [
       "[<matplotlib.lines.Line2D at 0x7f8f74973400>,\n",
       " <matplotlib.lines.Line2D at 0x7f8f749733d0>,\n",
       " <matplotlib.lines.Line2D at 0x7f8f74973670>]"
      ]
     },
     "execution_count": 4,
     "metadata": {},
     "output_type": "execute_result"
    },
    {
     "data": {
      "image/png": "[encoded data removed]",
      "text/plain": [
       "<Figure size 432x288 with 1 Axes>"
      ]
     },
     "metadata": {
      "needs_background": "light"
     },
     "output_type": "display_data"
    }
   ],
   "source": [
    "import math\n",
    "import matplotlib.pyplot as plt\n",
    "\n",
    "m=np.linspace(0,2*math.pi,100)\n",
    "print(m)\n",
    "m1=m[::10]\n",
    "print(\"\\n\",m1)\n",
    "m2=m[::-1]\n",
    "print(\"\\n\",m2)\n",
    "\n",
    "\n",
    "filt=(abs(np.sin(m)-np.cos(m)))<0.1\n",
    "m3=m.copy()\n",
    "m3[filt]=0\n",
    "print(m3)\n",
    "\n",
    "plt.plot(m,np.sin(m),m,np.cos(m),m-m3,np.sin(m-m3),\"^\")"
   ]
  },
  {
   "cell_type": "markdown",
   "metadata": {},
   "source": [
    "5\\. Create a matrix that shows the 10 by 10 multiplication table.\n",
    "\n",
    " * Find the trace of the matrix\n",
    " * Extract the anto-diagonal (this should be ```array([10, 18, 24, 28, 30, 30, 28, 24, 18, 10])```)\n",
    " * Extract the diagnoal offset by 1 upwards (this should be ```array([ 2,  6, 12, 20, 30, 42, 56, 72, 90])```)"
   ]
  },
  {
   "cell_type": "code",
   "execution_count": 12,
   "metadata": {},
   "outputs": [
    {
     "name": "stdout",
     "output_type": "stream",
     "text": [
      "tabellina del dieci:\n",
      " [[  1   2   3   4   5   6   7   8   9  10]\n",
      " [  2   4   6   8  10  12  14  16  18  20]\n",
      " [  3   6   9  12  15  18  21  24  27  30]\n",
      " [  4   8  12  16  20  24  28  32  36  40]\n",
      " [  5  10  15  20  25  30  35  40  45  50]\n",
      " [  6  12  18  24  30  36  42  48  54  60]\n",
      " [  7  14  21  28  35  42  49  56  63  70]\n",
      " [  8  16  24  32  40  48  56  64  72  80]\n",
      " [  9  18  27  36  45  54  63  72  81  90]\n",
      " [ 10  20  30  40  50  60  70  80  90 100]] \n",
      "\n",
      "traccia 385\n",
      "antidiagonale [10 18 24 28 30 30 28 24 18 10]\n",
      "diagonal + 1 [ 2  6 12 20 30 42 56 72 90]\n"
     ]
    }
   ],
   "source": [
    "r=np.arange(1,11)\n",
    "c=np.arange(1,11)\n",
    "\n",
    "matrice=np.outer(r,c)\n",
    "print(\"tabellina del dieci:\\n\",matrice,\"\\n\")\n",
    "\n",
    "traccia = np.trace(matrice)\n",
    "print (\"traccia\", traccia)\n",
    "\n",
    "antidiag = np.fliplr(matrice).diagonal()\n",
    "print (\"antidiagonale\", antidiag)\n",
    "\n",
    "diagoffset = matrice.diagonal(1)\n",
    "print (\"diagonal + 1\", diagoffset)"
   ]
  },
  {
   "cell_type": "markdown",
   "metadata": {},
   "source": [
    "6\\. Use broadcasting to create a grid of distances\n",
    "\n",
    "Route 66 crosses the following cities in the US: Chicago, Springfield, Saint-Louis, Tulsa, Oklahoma City, Amarillo, Santa Fe, Albuquerque, Flagstaff, Los Angeles\n",
    "The corresponding positions in miles are: 0, 198, 303, 736, 871, 1175, 1475, 1544, 1913, 2448\n",
    "\n",
    "  * Construct a 2D grid of distances among each city along Route 66\n",
    "  * Convert that in km (those savages...)"
   ]
  },
  {
   "cell_type": "code",
   "execution_count": null,
   "metadata": {},
   "outputs": [],
   "source": [
    "dis=np.array([0, 198, 303, 736, 871, 1175, 1475, 1544, 1913, 2448])\n",
    "dist=np.reshape(dis,(len(dis),1))\n",
    "mdist=np.tile(dist,(1,len(dis)))\n",
    "\n",
    "tab=abs(dis-mdist)\n",
    "print(tab)\n",
    "\n",
    "print(tab*1.0934)"
   ]
  },
  {
   "cell_type": "markdown",
   "metadata": {},
   "source": [
    "7\\. Prime numbers sieve: compute the prime numbers in the 0-N (N=99 to start with) range with a sieve (mask).\n",
    "  * Constract a shape (100,) boolean array, the mask\n",
    "  * Identify the multiples of each number starting from 2 and set accordingly the corresponding mask element\n",
    "  * Apply the mask to obtain an array of ordered prime numbers\n",
    "  * Check the performances (timeit); how does it scale with N?\n",
    "  * Implement the optimization suggested in the [sieve of Eratosthenes](https://en.wikipedia.org/wiki/Sieve_of_Eratosthenes)"
   ]
  },
  {
   "cell_type": "code",
   "execution_count": 12,
   "metadata": {},
   "outputs": [
    {
     "name": "stdout",
     "output_type": "stream",
     "text": [
      "Funzione:  [  1   2   3   5   7  11  13  17  19  23  29  31  37  41  43  47  53  59\n",
      "  61  67  71  73  79  83  89  97 101 103 107 109 113 127 131 137 139 149\n",
      " 151 157 163 167 173 179 181 191 193 197 199 211 223 227 229 233 239 241\n",
      " 251 257 263 269 271 277 281 283 293 307 311 313 317 331 337 347 349 353\n",
      " 359 367 373 379 383 389 397 401 409 419 421 431 433 439 443 449 457 461\n",
      " 463 467 479 487 491 499 503 509 521 523 541 547 557 563 569 571 577 587\n",
      " 593 599 601 607 613 617 619 631 641 643 647 653 659 661 673 677 683 691\n",
      " 701 709 719 727 733 739 743 751 757 761 769 773 787 797 809 811 821 823\n",
      " 827 829 839 853 857 859 863 877 881 883 887 907 911 919 929 937 941 947\n",
      " 953 967 971 977 983 991 997]\n",
      "61.3 ms ± 829 µs per loop (mean ± std. dev. of 7 runs, 10 loops each)\n",
      "Mask:  [  1   2   3   5   7  11  13  17  19  23  29  31  37  41  43  47  53  59\n",
      "  61  67  71  73  79  83  89  97 101 103 107 109 113 127 131 137 139 149\n",
      " 151 157 163 167 173 179 181 191 193 197 199 211 223 227 229 233 239 241\n",
      " 251 257 263 269 271 277 281 283 293 307 311 313 317 331 337 347 349 353\n",
      " 359 367 373 379 383 389 397 401 409 419 421 431 433 439 443 449 457 461\n",
      " 463 467 479 487 491 499 503 509 521 523 541 547 557 563 569 571 577 587\n",
      " 593 599 601 607 613 617 619 631 641 643 647 653 659 661 673 677 683 691\n",
      " 701 709 719 727 733 739 743 751 757 761 769 773 787 797 809 811 821 823\n",
      " 827 829 839 853 857 859 863 877 881 883 887 907 911 919 929 937 941 947\n",
      " 953 961 967 971 977 983 991 997]\n",
      "384 µs ± 6.81 µs per loop (mean ± std. dev. of 7 runs, 1000 loops each)\n",
      "Eratostene:  [  1   2   3   5   7  11  13  17  19  23  29  31  37  41  43  47  53  59\n",
      "  61  67  71  73  79  83  89  97 101 103 107 109 113 127 131 137 139 149\n",
      " 151 157 163 167 173 179 181 191 193 197 199 211 223 227 229 233 239 241\n",
      " 251 257 263 269 271 277 281 283 293 307 311 313 317 331 337 347 349 353\n",
      " 359 367 373 379 383 389 397 401 409 419 421 431 433 439 443 449 457 461\n",
      " 463 467 479 487 491 499 503 509 521 523 541 547 557 563 569 571 577 587\n",
      " 593 599 601 607 613 617 619 631 641 643 647 653 659 661 673 677 683 691\n",
      " 701 709 719 727 733 739 743 751 757 761 769 773 787 797 809 811 821 823\n",
      " 827 829 839 853 857 859 863 877 881 883 887 907 911 919 929 937 941 947\n",
      " 953 967 971 977 983 991 997]\n",
      "248 µs ± 3.92 µs per loop (mean ± std. dev. of 7 runs, 1000 loops each)\n",
      "\n",
      " Constant: time = 9.2E-05 (sec)\n"
     ]
    }
   ],
   "source": [
    "\n",
    "\n",
    "numbers=np.arange(1,100)\n",
    "\n",
    "def prime(x):\n",
    "    if x==1: return True\n",
    "    for i in range(1,x):\n",
    "        t=x-i\n",
    "        if t==1:\n",
    "            return True\n",
    "        elif x%t==0:\n",
    "            return False\n",
    "\n",
    "            \n",
    "foo = np.vectorize(prime)\n",
    "mask=(foo(numbers))\n",
    "f_a=numbers[mask]\n",
    "\n",
    "print('Funzione: ',f_a)\n",
    "%timeit numbers[foo(numbers)]\n",
    "loop=numbers.copy()\n",
    "def maschera(loopn):\n",
    "    for n in range(2,int(pow(len(loopn),1/2))):\n",
    "        mask_n=(np.logical_or(loopn%n!=0,loopn==n))\n",
    "        loopn=loopn[mask_n]\n",
    "    return loopn\n",
    "    \n",
    "print('Mask: ',maschera(loop))\n",
    "%timeit maschera(loop)\n",
    "def eratostene(erat):\n",
    "    i=1\n",
    "    while erat[i]<pow(len(numbers),1/2):\n",
    "        masker=(np.logical_or(erat%erat[i]!=0,erat==erat[i]))\n",
    "        erat=erat[masker]\n",
    "        i+=1\n",
    "    return(erat)\n",
    "\n",
    "print('Eratostene: ',eratostene(numbers))    \n",
    "%timeit eratostene(numbers)\n",
    "\n",
    "\n",
    "#Timeit scala linearmente con N provandone alcuni\n",
    "\n",
    "\n",
    "\n"
   ]
  },
  {
   "cell_type": "markdown",
   "metadata": {},
   "source": [
    "**N.B. the following exercises are meant to be solved only if you are familiar with the numpy random library. If not you can skip them (postponed for one of the next exercise sessions)**\n"
   ]
  },
  {
   "cell_type": "markdown",
   "metadata": {},
   "source": [
    "8\\. Diffusion using random walk\n",
    "\n",
    "Consider a simple random walk process: at each step in time, a walker jumps right or left (+1 or -1) with equal probability. The goal is to find the typical distance from the origin of a random walker after a given amount of time. \n",
    "To do that, let's simulate many walkers and create a 2D array with each walker as a raw and the actual time evolution as columns\n",
    "\n",
    "  * Take 1000 walkers and let them walk for 200 steps\n",
    "  * Use randint to create a 2D array of size walkers x steps with values -1 or 1\n",
    "  * Build the actual walking distances for each walker (i.e. another 2D array \"summing on each raw\")\n",
    "  * Take the square of that 2D array (elementwise)\n",
    "  * Compute the mean of the squared distances at each step (i.e. the mean along the columns)\n",
    "  * Plot the average distances (sqrt(distance\\*\\*2)) as a function of time (step)\n",
    "  \n",
    "Did you get what you expected?"
   ]
  },
  {
   "cell_type": "markdown",
   "metadata": {},
   "source": [
    "9\\. Analyze a data file \n",
    "  * Download the population of hares, lynxes and carrots at the beginning of the last century.\n",
    "    ```python\n",
    "    ! wget https://www.dropbox.com/s/3vigxoqayo389uc/populations.txt\n",
    "    ```\n",
    "\n",
    "  * Check the content by looking within the file\n",
    "  * Load the data (use an appropriate numpy method) into a 2D array\n",
    "  * Create arrays out of the columns, the arrays being (in order): *year*, *hares*, *lynxes*, *carrots* \n",
    "  * Plot the 3 populations over the years\n",
    "  * Compute the main statistical properties of the dataset (mean, std, correlations, etc.)\n",
    "  * Which species has the highest population each year?\n",
    "\n",
    "Do you feel there is some evident correlation here? [Studies](https://www.enr.gov.nt.ca/en/services/lynx/lynx-snowshoe-hare-cycle) tend to believe so."
   ]
  },
  {
   "cell_type": "code",
   "execution_count": null,
   "metadata": {},
   "outputs": [],
   "source": []
  }
 ],
 "metadata": {
  "kernelspec": {
   "display_name": "Python 3",
   "language": "python",
   "name": "python3"
  },
  "language_info": {
   "codemirror_mode": {
    "name": "ipython",
    "version": 3
   },
   "file_extension": ".py",
   "mimetype": "text/x-python",
   "name": "python",
   "nbconvert_exporter": "python",
   "pygments_lexer": "ipython3",
   "version": "3.8.10"
  }
 },
 "nbformat": 4,
 "nbformat_minor": 2
}
