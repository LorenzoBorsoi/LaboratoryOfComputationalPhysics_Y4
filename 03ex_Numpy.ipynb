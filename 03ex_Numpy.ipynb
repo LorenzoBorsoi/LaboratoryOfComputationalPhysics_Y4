{
 "cells": [
  {
   "cell_type": "markdown",
   "metadata": {},
   "source": [
    "### Numpy basics"
   ]
  },
  {
   "cell_type": "markdown",
   "metadata": {},
   "source": [
    "1\\. Find the row, column and overall means for the following matrix:\n",
    "\n",
    "```python\n",
    "m = np.arange(12).reshape((3,4))\n",
    "```"
   ]
  },
  {
   "cell_type": "markdown",
   "metadata": {},
   "source": [
    "2\\. Find the outer product of the following two vecotrs\n",
    "\n",
    "```python\n",
    "u = np.array([1,3,5,7])\n",
    "v = np.array([2,4,6,8])\n",
    "```\n",
    "\n",
    "Do this in the following ways:\n",
    "\n",
    "   * Using the function outer in numpy\n",
    "   * Using a nested for loop or list comprehension\n",
    "   * Using numpy broadcasting operatoins\n"
   ]
  },
  {
   "cell_type": "markdown",
   "metadata": {},
   "source": [
    "3\\. Create a 10 by 6 matrix of random uniform numbers. Set all rows with any entry less than 0.1 to be zero\n",
    "\n",
    "Hint: Use the following numpy functions - np.random.random, np.any as well as Boolean indexing and the axis argument."
   ]
  },
  {
   "cell_type": "markdown",
   "metadata": {},
   "source": [
    "4\\. Use np.linspace to create an array of 100 numbers between 0 and 2π (includsive).\n",
    "\n",
    "  * Extract every 10th element using slice notation\n",
    "  * Reverse the array using slice notation\n",
    "  * Extract elements where the absolute difference between the sine and cosine functions evaluated at that element is less than 0.1\n",
    "  * Make a plot showing the sin and cos functions and indicate where they are close"
   ]
  },
  {
   "cell_type": "markdown",
   "metadata": {},
   "source": [
    "5\\. Create a matrix that shows the 10 by 10 multiplication table.\n",
    "\n",
    " * Find the trace of the matrix\n",
    " * Extract the anto-diagonal (this should be ```array([10, 18, 24, 28, 30, 30, 28, 24, 18, 10])```)\n",
    " * Extract the diagnoal offset by 1 upwards (this should be ```array([ 2,  6, 12, 20, 30, 42, 56, 72, 90])```)"
   ]
  },
  {
   "cell_type": "markdown",
   "metadata": {},
   "source": [
    "6\\. Use broadcasting to create a grid of distances\n",
    "\n",
    "Route 66 crosses the following cities in the US: Chicago, Springfield, Saint-Louis, Tulsa, Oklahoma City, Amarillo, Santa Fe, Albuquerque, Flagstaff, Los Angeles\n",
    "The corresponding positions in miles are: 0, 198, 303, 736, 871, 1175, 1475, 1544, 1913, 2448\n",
    "\n",
    "  * Construct a 2D grid of distances among each city along Route 66\n",
    "  * Convert that in km (those savages...)"
   ]
  },
  {
   "cell_type": "markdown",
   "metadata": {},
   "source": [
    "7\\. Prime numbers sieve: compute the prime numbers in the 0-N (N=99 to start with) range with a sieve (mask).\n",
    "  * Constract a shape (100,) boolean array, the mask\n",
    "  * Identify the multiples of each number starting from 2 and set accordingly the corresponding mask element\n",
    "  * Apply the mask to obtain an array of ordered prime numbers\n",
    "  * Check the performances (timeit); how does it scale with N?-->a prima vista sembrerebbe lineare(?)\n",
    "  * Implement the optimization suggested in the [sieve of Eratosthenes](https://en.wikipedia.org/wiki/Sieve_of_Eratosthenes)"
   ]
  },
  {
   "cell_type": "markdown",
   "metadata": {},
   "source": [
    "**N.B. the following exercises are meant to be solved only if you are familiar with the numpy random library. If not you can skip them (postponed for one of the next exercise sessions)**\n"
   ]
  },
  {
   "cell_type": "markdown",
   "metadata": {},
   "source": [
    "8\\. Diffusion using random walk\n",
    "\n",
    "Consider a simple random walk process: at each step in time, a walker jumps right or left (+1 or -1) with equal probability. The goal is to find the typical distance from the origin of a random walker after a given amount of time. \n",
    "To do that, let's simulate many walkers and create a 2D array with each walker as a raw and the actual time evolution as columns\n",
    "\n",
    "  * Take 1000 walkers and let them walk for 200 steps\n",
    "  * Use randint to create a 2D array of size walkers x steps with values -1 or 1\n",
    "  * Build the actual walking distances for each walker (i.e. another 2D array \"summing on each raw\")\n",
    "  * Take the square of that 2D array (elementwise)\n",
    "  * Compute the mean of the squared distances at each step (i.e. the mean along the columns)\n",
    "  * Plot the average distances (sqrt(distance\\*\\*2)) as a function of time (step)\n",
    "  \n",
    "Did you get what you expected?"
   ]
  },
  {
   "cell_type": "code",
   "execution_count": 1,
   "metadata": {},
   "outputs": [
    {
     "data": {
      "image/png": "[encoded data removed]",
      "text/plain": [
       "<Figure size 1080x504 with 1 Axes>"
      ]
     },
     "metadata": {
      "needs_background": "light"
     },
     "output_type": "display_data"
    }
   ],
   "source": [
    "import numpy as np\n",
    "import random as rd \n",
    "import matplotlib.pyplot as plt\n",
    "\n",
    "tot_walkers = 1000\n",
    "steps = 200\n",
    "\n",
    "walkers = np.random.choice([-1, 1],(tot_walkers,steps))\n",
    "\n",
    "\n",
    "#getting the distance by every walker for each step\n",
    "distance = np.c_[np.zeros(tot_walkers), np.cumsum(walkers,1)] # np.c_ is concatenation using different shapes, cumsum= cumulative sum along rows--> 0= columns, 1=rows \n",
    "\n",
    "distance = distance**2 \n",
    "\n",
    "mean = np.mean(distance, axis=0)\n",
    "\n",
    "fig=plt.figure(figsize=(15,7))\n",
    "plt.plot(np.sqrt(mean))        #average distances  (sqrt(mean_distances**2))  (?)\n",
    "plt.xlabel('steps')\n",
    "plt.ylabel('average distances')\n",
    "plt.title('random walk', fontsize=15)\n",
    "plt.grid(True)"
   ]
  },
  {
   "cell_type": "markdown",
   "metadata": {},
   "source": [
    "9\\. Analyze a data file \n",
    "  * Download the population of hares, lynxes and carrots at the beginning of the last century.\n",
    "    ```python\n",
    "    ! wget https://www.dropbox.com/s/3vigxoqayo389uc/populations.txt\n",
    "    ```\n",
    "\n",
    "  * Check the content by looking within the file\n",
    "  * Load the data (use an appropriate numpy method) into a 2D array\n",
    "  * Create arrays out of the columns, the arrays being (in order): *year*, *hares*, *lynxes*, *carrots* \n",
    "  * Plot the 3 populations over the years\n",
    "  * Compute the main statistical properties of the dataset (mean, std, correlations, etc.)\n",
    "  * Which species has the highest population each year?\n",
    "\n",
    "Do you feel there is some evident correlation here? [Studies](https://www.enr.gov.nt.ca/en/services/lynx/lynx-snowshoe-hare-cycle) tend to believe so."
   ]
  },
  {
   "cell_type": "code",
   "execution_count": 2,
   "metadata": {},
   "outputs": [
    {
     "name": "stdout",
     "output_type": "stream",
     "text": [
      "\n",
      "statistical properties for hares: \n",
      "sum 715700.0\n",
      "min 7600.0\n",
      "argmin 17\n",
      "mean 34080.95238095238\n",
      "std 20897.906458089667\n",
      "\n",
      "statistical properties for lynxes:\n",
      "sum 423500.0\n",
      "min 4000.0\n",
      "argmin 0\n",
      "mean 20166.666666666668\n",
      "std 16254.591536908763\n",
      "\n",
      "statistical properties for carrots:\n",
      "sum 890400.0\n",
      "min 36700.0\n",
      "argmin 16\n",
      "mean 42400.0\n",
      "std 3322.5062255844787\n",
      "hares species has the highest population each year \n"
     ]
    },
    {
     "data": {
      "image/png": "[encoded data removed]",
      "text/plain": [
       "<Figure size 864x504 with 1 Axes>"
      ]
     },
     "metadata": {
      "needs_background": "light"
     },
     "output_type": "display_data"
    }
   ],
   "source": [
    "from scipy import fftpack\n",
    "import pandas as pd\n",
    "\n",
    "data = np.loadtxt('populations.txt') #data is the 2D array\n",
    "year, hare, lynx, carrot = data.T    #arrays out the columns\n",
    "\n",
    "\n",
    "fig = plt.figure(figsize=(12,7))\n",
    "plt.plot(year,hare,'*-',color='brown',label='hares')\n",
    "plt.plot(year,lynx,'*-',color='darkblue',label='lynxes')\n",
    "plt.plot(year,carrot,'*-',color='orange',label='carrots')\n",
    "plt.legend()\n",
    "plt.grid(True)\n",
    "plt.xlabel('Time [y]')\n",
    "plt.ylabel('Frequency')\n",
    "plt.title('Dataset of three population', fontsize=15)\n",
    "\n",
    "\n",
    "functions=['sum','min','argmin','mean','std']\n",
    "print(\"\\nstatistical properties for hares: \")\n",
    "for func in functions:\n",
    "    print (func, getattr(np, func)(hare)) #getattr from numpy (np) get the attribute which name is in functions array this is applied to a particular population\n",
    "print(\"\\nstatistical properties for lynxes:\")\n",
    "for func in functions:\n",
    "    print (func, getattr(np, func)(lynx))\n",
    "print(\"\\nstatistical properties for carrots:\")\n",
    "for func in functions:\n",
    "    print (func, getattr(np, func)(carrot))\n",
    "\n",
    "print(\"hares species has the highest population each year \")\n",
    "\n"
   ]
  },
  {
   "cell_type": "code",
   "execution_count": 3,
   "metadata": {},
   "outputs": [
    {
     "name": "stdout",
     "output_type": "stream",
     "text": [
      "number of rows: 3\n",
      "number of columns: 4\n",
      "[[ 0  1  2  3]\n",
      " [ 4  5  6  7]\n",
      " [ 8  9 10 11]]\n",
      "mean of 1 row: 1.5\n",
      "mean of 2 row: 5.5\n",
      "mean of 3 row: 9.5\n",
      "mean of 1 column 4.0\n",
      "mean of 2 column 5.0\n",
      "mean of 3 column 6.0\n",
      "mean of 4 column 7.0\n"
     ]
    }
   ],
   "source": [
    "#ex 1. \n",
    "import numpy as np\n",
    "\n",
    "m = np.arange(12).reshape((3,4))\n",
    "num_rows,num_col = np.shape(m)\n",
    "print(\"number of rows:\", num_rows)\n",
    "print(\"number of columns:\", num_col)\n",
    "\n",
    "\n",
    "print(m)\n",
    "    \n",
    "el_rows=[]\n",
    "    \n",
    "for i in range(num_col-1):\n",
    "    el_rows.append(m[i])\n",
    "    print(\"mean of\", i+1,\"row:\", np.sum(el_rows)/num_col)\n",
    "    el_rows = []\n",
    "\n",
    "\n",
    "for i in range (num_col):\n",
    "    print(\"mean of\", i+1, \"column\", np.sum(m[:,i])/num_rows)\n",
    "    \n",
    "\n"
   ]
  },
  {
   "cell_type": "code",
   "execution_count": 4,
   "metadata": {},
   "outputs": [
    {
     "name": "stdout",
     "output_type": "stream",
     "text": [
      "[[ 2  4  6  8]\n",
      " [ 6 12 18 24]\n",
      " [10 20 30 40]\n",
      " [14 28 42 56]] \n",
      "\n",
      "[[2, 4, 6, 8], [6, 12, 18, 24], [10, 20, 30, 40], [14, 28, 42, 56]] \n",
      "\n",
      "[[ 2  6 10 14]\n",
      " [ 4 12 20 28]\n",
      " [ 6 18 30 42]\n",
      " [ 8 24 40 56]]\n"
     ]
    }
   ],
   "source": [
    "#es 2.\n",
    "u = np.array([1,3,5,7])\n",
    "v = np.array([2,4,6,8])\n",
    "\n",
    "prod = np.outer(u,v)\n",
    "print(prod,\"\\n\")\n",
    "\n",
    "\n",
    "prod2 = []\n",
    "for i in range(len(u)):\n",
    "    rowi=[]\n",
    "    for j in range (len(v)):\n",
    "        rowi.append(u[i]*v[j])\n",
    "    prod2.append(rowi)       \n",
    "print(prod2,\"\\n\")\n",
    "\n",
    "\n",
    "v = v.reshape((-1, 1))\n",
    "print(v*u)\n"
   ]
  },
  {
   "cell_type": "code",
   "execution_count": 5,
   "metadata": {},
   "outputs": [
    {
     "name": "stdout",
     "output_type": "stream",
     "text": [
      "[[0.22277147 0.07934913 0.4904329  0.10811988 0.70230157 0.31343262]\n",
      " [0.40178422 0.62453292 0.61639884 0.60190527 0.72288473 0.69772552]\n",
      " [0.48547818 0.80934364 0.27723682 0.14415429 0.00498084 0.9409571 ]\n",
      " [0.24094476 0.83801469 0.01404737 0.42897009 0.96129623 0.18942083]\n",
      " [0.97751152 0.68766878 0.61547421 0.39862961 0.61736641 0.13904031]\n",
      " [0.73275322 0.93156733 0.97153748 0.19281894 0.45562046 0.4130064 ]\n",
      " [0.14572088 0.9929546  0.74266178 0.18385483 0.96779876 0.04863371]\n",
      " [0.10800496 0.81566608 0.75709898 0.55434028 0.36227197 0.64334297]\n",
      " [0.20576468 0.35703521 0.93280568 0.49336889 0.38299302 0.95805791]\n",
      " [0.24548359 0.75977457 0.10563542 0.77190341 0.90369472 0.77106811]] \n",
      "\n",
      "[[0.         0.         0.         0.         0.         0.        ]\n",
      " [0.40178422 0.62453292 0.61639884 0.60190527 0.72288473 0.69772552]\n",
      " [0.         0.         0.         0.         0.         0.        ]\n",
      " [0.         0.         0.         0.         0.         0.        ]\n",
      " [0.97751152 0.68766878 0.61547421 0.39862961 0.61736641 0.13904031]\n",
      " [0.73275322 0.93156733 0.97153748 0.19281894 0.45562046 0.4130064 ]\n",
      " [0.         0.         0.         0.         0.         0.        ]\n",
      " [0.10800496 0.81566608 0.75709898 0.55434028 0.36227197 0.64334297]\n",
      " [0.20576468 0.35703521 0.93280568 0.49336889 0.38299302 0.95805791]\n",
      " [0.24548359 0.75977457 0.10563542 0.77190341 0.90369472 0.77106811]]\n"
     ]
    }
   ],
   "source": [
    "#es 3.\n",
    "\n",
    "A = np.random.random_sample((10,6))\n",
    "x,y=np.shape(A)\n",
    "\n",
    "print(A,\"\\n\")\n",
    "\n",
    "for i in range(x):        \n",
    "    for j in range(y):\n",
    "        if A[i][j]<=0.1:\n",
    "            A[i]=0\n",
    "            \n",
    "print(A)\n"
   ]
  },
  {
   "cell_type": "code",
   "execution_count": 6,
   "metadata": {},
   "outputs": [
    {
     "name": "stdout",
     "output_type": "stream",
     "text": [
      "[0.         0.63466518 1.26933037 1.90399555 2.53866073 3.17332591\n",
      " 3.8079911  4.44265628 5.07732146 5.71198664] \n",
      "\n",
      "[6.28318531 6.21971879 6.15625227 6.09278575 6.02931923 5.96585272\n",
      " 5.9023862  5.83891968 5.77545316 5.71198664 5.64852012 5.58505361\n",
      " 5.52158709 5.45812057 5.39465405 5.33118753 5.26772102 5.2042545\n",
      " 5.14078798 5.07732146 5.01385494 4.95038842 4.88692191 4.82345539\n",
      " 4.75998887 4.69652235 4.63305583 4.56958931 4.5061228  4.44265628\n",
      " 4.37918976 4.31572324 4.25225672 4.1887902  4.12532369 4.06185717\n",
      " 3.99839065 3.93492413 3.87145761 3.8079911  3.74452458 3.68105806\n",
      " 3.61759154 3.55412502 3.4906585  3.42719199 3.36372547 3.30025895\n",
      " 3.23679243 3.17332591 3.10985939 3.04639288 2.98292636 2.91945984\n",
      " 2.85599332 2.7925268  2.72906028 2.66559377 2.60212725 2.53866073\n",
      " 2.47519421 2.41172769 2.34826118 2.28479466 2.22132814 2.15786162\n",
      " 2.0943951  2.03092858 1.96746207 1.90399555 1.84052903 1.77706251\n",
      " 1.71359599 1.65012947 1.58666296 1.52319644 1.45972992 1.3962634\n",
      " 1.33279688 1.26933037 1.20586385 1.14239733 1.07893081 1.01546429\n",
      " 0.95199777 0.88853126 0.82506474 0.76159822 0.6981317  0.63466518\n",
      " 0.57119866 0.50773215 0.44426563 0.38079911 0.31733259 0.25386607\n",
      " 0.19039955 0.12693304 0.06346652 0.        ] \n",
      "\n",
      "[0.76159822 0.82506474 3.87145761 3.93492413]\n"
     ]
    },
    {
     "data": {
      "text/plain": [
       "[<matplotlib.lines.Line2D at 0x7f0ec9a6d460>]"
      ]
     },
     "execution_count": 6,
     "metadata": {},
     "output_type": "execute_result"
    },
    {
     "data": {
      "image/png": "[encoded data removed]",
      "text/plain": [
       "<Figure size 432x288 with 1 Axes>"
      ]
     },
     "metadata": {
      "needs_background": "light"
     },
     "output_type": "display_data"
    }
   ],
   "source": [
    "#es 4.\n",
    "\n",
    "import math\n",
    "import matplotlib.pyplot as plt\n",
    "\n",
    "a = np.linspace(0, 2*math.pi, num=100) #create an array of 100 numbers between 0 and 2π\n",
    "\n",
    "#print(a,\"\\n\")\n",
    "\n",
    "print(a[::10],\"\\n\") #Extract every 10th element using slice notation\n",
    "\n",
    "print(a[::-1],\"\\n\") #Reverse the array using slice notation\n",
    "\n",
    "b = a[abs(np.sin(a)-np.cos(a))<=0.1]\n",
    "print(b) \n",
    "\n",
    "plt.plot(a,np.sin(a))\n",
    "plt.plot(a,np.cos(a))\n",
    "plt.plot(b,np.sin(b),'or')        \n",
    "\n",
    "\n",
    "\n",
    "\n"
   ]
  },
  {
   "cell_type": "code",
   "execution_count": 7,
   "metadata": {},
   "outputs": [
    {
     "name": "stdout",
     "output_type": "stream",
     "text": [
      "the matrix is:\n",
      " [[  1   2   3   4   5   6   7   8   9  10]\n",
      " [  2   4   6   8  10  12  14  16  18  20]\n",
      " [  3   6   9  12  15  18  21  24  27  30]\n",
      " [  4   8  12  16  20  24  28  32  36  40]\n",
      " [  5  10  15  20  25  30  35  40  45  50]\n",
      " [  6  12  18  24  30  36  42  48  54  60]\n",
      " [  7  14  21  28  35  42  49  56  63  70]\n",
      " [  8  16  24  32  40  48  56  64  72  80]\n",
      " [  9  18  27  36  45  54  63  72  81  90]\n",
      " [ 10  20  30  40  50  60  70  80  90 100]]\n",
      "\n",
      " the trace is: 385\n",
      "\n",
      " the anti-diagonal is: [10 18 24 28 30 30 28 24 18 10]\n",
      "\n",
      " the diagnoal offset by 1 upwards is: [ 2  6 12 20 30 42 56 72 90]\n"
     ]
    }
   ],
   "source": [
    "#ex 5. \n",
    "\n",
    "a=np.arange(1,11)\n",
    "\n",
    "matrix=a.reshape((-1,1))*a\n",
    "\n",
    "print(\"the matrix is:\\n\",matrix) \n",
    "\n",
    "print(\"\\n the trace is:\",np.sum(matrix[np.arange(10),np.arange(10)]))\n",
    "\n",
    "b=np.arange(10)\n",
    "b=b[::-1]\n",
    "print(\"\\n the anti-diagonal is:\",matrix[b,np.arange(10)])\n",
    "\n",
    "print(\"\\n the diagnoal offset by 1 upwards is:\",matrix[np.arange(9),np.arange(1,10)])\n"
   ]
  },
  {
   "cell_type": "code",
   "execution_count": 8,
   "metadata": {},
   "outputs": [
    {
     "name": "stdout",
     "output_type": "stream",
     "text": [
      "Grid of distances:\n",
      " [[   0  198  303  736  871 1175 1475 1544 1913 2448]\n",
      " [ 198    0  105  538  673  977 1277 1346 1715 2250]\n",
      " [ 303  105    0  433  568  872 1172 1241 1610 2145]\n",
      " [ 736  538  433    0  135  439  739  808 1177 1712]\n",
      " [ 871  673  568  135    0  304  604  673 1042 1577]\n",
      " [1175  977  872  439  304    0  300  369  738 1273]\n",
      " [1475 1277 1172  739  604  300    0   69  438  973]\n",
      " [1544 1346 1241  808  673  369   69    0  369  904]\n",
      " [1913 1715 1610 1177 1042  738  438  369    0  535]\n",
      " [2448 2250 2145 1712 1577 1273  973  904  535    0]]\n",
      "\n",
      " in Km:\n",
      " [[   0  318  487 1184 1401 1890 2373 2484 3078 3939]\n",
      " [ 318    0  168  865 1083 1572 2055 2166 2760 3621]\n",
      " [ 487  168    0  696  914 1403 1886 1997 2591 3452]\n",
      " [1184  865  696    0  217  706 1189 1300 1894 2755]\n",
      " [1401 1083  914  217    0  489  972 1083 1676 2537]\n",
      " [1890 1572 1403  706  489    0  482  593 1187 2048]\n",
      " [2373 2055 1886 1189  972  482    0  111  704 1565]\n",
      " [2484 2166 1997 1300 1083  593  111    0  593 1454]\n",
      " [3078 2760 2591 1894 1676 1187  704  593    0  860]\n",
      " [3939 3621 3452 2755 2537 2048 1565 1454  860    0]]\n"
     ]
    }
   ],
   "source": [
    "#es 6.\n",
    "\n",
    "p = np.array([ 0, 198, 303, 736, 871, 1175, 1475, 1544, 1913, 2448 ])\n",
    "\n",
    "matrix =abs( p.reshape((-1,1))-p )\n",
    "\n",
    "print(\"Grid of distances:\\n\",matrix)\n",
    "\n",
    "print(\"\\n in Km:\\n\",(matrix*1.60934).astype(int))\n"
   ]
  },
  {
   "cell_type": "code",
   "execution_count": 9,
   "metadata": {},
   "outputs": [
    {
     "name": "stdout",
     "output_type": "stream",
     "text": [
      "[ 1  2  3  5  7 11 13 17 19 23 29 31 37 41 43 47 53 59 61 67 71 73 79 83\n",
      " 89 97]\n",
      "performance with timeit: 0.03239885699986189 sec\n",
      "2\n",
      "3\n",
      "5\n",
      "7\n",
      "11\n",
      "13\n",
      "17\n",
      "19\n",
      "23\n",
      "29\n",
      "31\n",
      "37\n",
      "41\n",
      "43\n",
      "47\n",
      "53\n",
      "59\n",
      "61\n",
      "67\n",
      "71\n",
      "73\n",
      "79\n",
      "83\n",
      "89\n",
      "97\n",
      "2\n",
      "3\n",
      "5\n",
      "7\n",
      "11\n",
      "13\n",
      "17\n",
      "19\n",
      "23\n",
      "29\n",
      "31\n",
      "37\n",
      "41\n",
      "43\n",
      "47\n",
      "53\n",
      "59\n",
      "61\n",
      "67\n",
      "71\n",
      "73\n",
      "79\n",
      "83\n",
      "89\n",
      "97\n",
      "performance with timeit: 0.0013007229999857373 sec\n"
     ]
    }
   ],
   "source": [
    "\n",
    "import timeit\n",
    " \n",
    "N=100\n",
    "a = np.arange(1,N+1)\n",
    "\n",
    "\n",
    "alist=[]\n",
    "\n",
    "for i in range(1,N):\n",
    "    \n",
    "    mask = (a%a[i]==0) \n",
    "    \n",
    "    filtered_a = a[mask]\n",
    "    alist.append(np.delete(filtered_a,0))\n",
    "     \n",
    "    \n",
    "    \n",
    "j=0\n",
    "while a[j]!=a[-1]:\n",
    "    \n",
    "    indices = np.argwhere(np.isin(a,alist[j]))\n",
    "    a = np.delete(a,indices)\n",
    "    j+=1\n",
    "    \n",
    "print(a)\n",
    "\n",
    "mysetup = \"import numpy as np\"\n",
    "mycode = '''\n",
    "N=600\n",
    "a = np.arange(1,N+1)\n",
    "\n",
    "\n",
    "alist=[]\n",
    "\n",
    "for i in range(1,N):\n",
    "    \n",
    "    mask = (a%a[i]==0) \n",
    "    \n",
    "    filtered_a = a[mask]\n",
    "    alist.append(np.delete(filtered_a,0))\n",
    "     \n",
    "    \n",
    "    \n",
    "j=0\n",
    "while a[j]!=a[-1]:\n",
    "    \n",
    "    indices = np.argwhere(np.isin(a,alist[j]))\n",
    "    a = np.delete(a,indices)\n",
    "    j+=1\n",
    "'''\n",
    " \n",
    "# timeit statement\n",
    "print (\"performance with timeit:\", timeit.timeit(setup = mysetup,\n",
    "                     stmt = mycode,\n",
    "                     number = 1), \"sec\")\n",
    "\n",
    "\n",
    "n = 100    \n",
    "mask = [True for i in range(n+1)]\n",
    "#print(mask)\n",
    "p = 2\n",
    "while p*p <= n:\n",
    "         \n",
    "    if mask[p] == True:\n",
    "             \n",
    "        for i in range(p**2,n+1,p):\n",
    "            mask[i] = False\n",
    "    p += 1\n",
    "mask[0]= False\n",
    "mask[1]= False\n",
    "\n",
    "# Print all prime numbers\n",
    "for p in range(n+1):\n",
    "    if mask[p]:\n",
    "        print(p)\n",
    "        \n",
    "mysetup2 = \"import numpy as np\"\n",
    "mycode2 = '''\n",
    "n = 100    \n",
    "mask = [True for i in range(n+1)]\n",
    "#print(mask)\n",
    "p = 2\n",
    "while p*p <= n:\n",
    "         \n",
    "    if mask[p] == True:\n",
    "             \n",
    "        for i in range(p**2,n+1,p):\n",
    "            mask[i] = False\n",
    "    p += 1\n",
    "mask[0]= False\n",
    "mask[1]= False\n",
    "\n",
    "# Print all prime numbers\n",
    "for p in range(n+1):\n",
    "    if mask[p]:\n",
    "        print(p)'''\n",
    "\n",
    "print (\"performance with timeit:\", timeit.timeit(setup = mysetup2,\n",
    "                     stmt = mycode2,\n",
    "                     number = 1), \"sec\")\n",
    "\n",
    "#il miglioramento che si ottiene è di un ordine di grandezza sul risultato.\n",
    "        "
   ]
  },
  {
   "cell_type": "code",
   "execution_count": null,
   "metadata": {},
   "outputs": [],
   "source": []
  },
  {
   "cell_type": "code",
   "execution_count": null,
   "metadata": {},
   "outputs": [],
   "source": []
  },
  {
   "cell_type": "code",
   "execution_count": null,
   "metadata": {},
   "outputs": [],
   "source": []
  }
 ],
 "metadata": {
  "kernelspec": {
   "display_name": "Python 3",
   "language": "python",
   "name": "python3"
  },
  "language_info": {
   "codemirror_mode": {
    "name": "ipython",
    "version": 3
   },
   "file_extension": ".py",
   "mimetype": "text/x-python",
   "name": "python",
   "nbconvert_exporter": "python",
   "pygments_lexer": "ipython3",
   "version": "3.8.8"
  }
 },
 "nbformat": 4,
 "nbformat_minor": 2
}
