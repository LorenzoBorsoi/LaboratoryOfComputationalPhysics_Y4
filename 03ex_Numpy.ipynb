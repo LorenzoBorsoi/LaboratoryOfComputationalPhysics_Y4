{
 "cells": [
  {
   "cell_type": "markdown",
   "metadata": {},
   "source": [
    "### Numpy basics"
   ]
  },
  {
   "cell_type": "code",
   "execution_count": 103,
   "outputs": [],
   "source": [
    "import numpy as np"
   ],
   "metadata": {
    "collapsed": false,
    "pycharm": {
     "name": "#%%\n"
    }
   }
  },
  {
   "cell_type": "markdown",
   "metadata": {},
   "source": [
    "1\\. Find the row, column and overall means for the following matrix:\n",
    "\n",
    "```python\n",
    "m = np.arange(12).reshape((3,4))\n",
    "```"
   ]
  },
  {
   "cell_type": "code",
   "source": [
    "m = np.arange(12).reshape((3,4))\n",
    "print(f\"Row mean:\\t{np.mean(m, 1) = }\\nColumn mean:\\t{np.mean(m, 0) = }\\nOverall mean:\\t{m.mean() = }\")"
   ],
   "metadata": {
    "collapsed": false,
    "pycharm": {
     "name": "#%%\n"
    }
   },
   "execution_count": 104,
   "outputs": [
    {
     "name": "stdout",
     "output_type": "stream",
     "text": [
      "Row mean:\tnp.mean(m, 1) = array([1.5, 5.5, 9.5])\n",
      "Column mean:\tnp.mean(m, 0) = array([4., 5., 6., 7.])\n",
      "Overall mean:\tm.mean() = 5.5\n"
     ]
    }
   ]
  },
  {
   "cell_type": "markdown",
   "metadata": {},
   "source": [
    "2\\. Find the outer product of the following two vecotrs\n",
    "\n",
    "```python\n",
    "u = np.array([1,3,5,7])\n",
    "v = np.array([2,4,6,8])\n",
    "```\n",
    "\n",
    "Do this in the following ways:\n",
    "\n",
    "   * Using the function outer in numpy\n",
    "   * Using a nested for loop or list comprehension\n",
    "   * Using numpy broadcasting operations"
   ]
  },
  {
   "cell_type": "code",
   "execution_count": 105,
   "outputs": [
    {
     "name": "stdout",
     "output_type": "stream",
     "text": [
      "Numpy outer:\n",
      "np.outer(u, v) = array([[ 2,  4,  6,  8],\n",
      "       [ 6, 12, 18, 24],\n",
      "       [10, 20, 30, 40],\n",
      "       [14, 28, 42, 56]])\n",
      "Comprehension:\n",
      "[x1 * x2 for x1 in u[0,:] for x2 in v[0,:]] = [2, 4, 6, 8, 6, 12, 18, 24, 10, 20, 30, 40, 14, 28, 42, 56]\n",
      "Broadcast:\n",
      "u.T * v = array([[ 2,  4,  6,  8],\n",
      "       [ 6, 12, 18, 24],\n",
      "       [10, 20, 30, 40],\n",
      "       [14, 28, 42, 56]])\n"
     ]
    }
   ],
   "source": [
    "u = np.array([1,3,5,7]).reshape(1, 4)\n",
    "v = np.array([2,4,6,8]).reshape(1, 4)\n",
    "print(f\"Numpy outer:\\n{np.outer(u, v) = }\")\n",
    "print(f\"Comprehension:\\n[x1 * x2 for x1 in u[0,:] for x2 in v[0,:]] = {[x1 * x2 for x1 in u[0,:] for x2 in v[0,:]]}\")\n",
    "print(f\"Broadcast:\\n{u.T * v = }\")"
   ],
   "metadata": {
    "collapsed": false,
    "pycharm": {
     "name": "#%%\n"
    }
   }
  },
  {
   "cell_type": "markdown",
   "metadata": {},
   "source": [
    "3\\. Create a 10 by 6 matrix of random uniform numbers. Set all rows with any entry less than 0.1 to be zero\n",
    "\n",
    "Hint: Use the following numpy functions - np.random.random, np.any as well as Boolean indexing and the axis argument."
   ]
  },
  {
   "cell_type": "code",
   "execution_count": 106,
   "outputs": [
    {
     "name": "stdout",
     "output_type": "stream",
     "text": [
      "m = array([[0.77395605, 0.43887844, 0.85859792, 0.69736803, 0.        ,\n",
      "        0.97562235],\n",
      "       [0.7611397 , 0.78606431, 0.12811363, 0.45038594, 0.37079802,\n",
      "        0.92676499],\n",
      "       [0.64386512, 0.82276161, 0.4434142 , 0.22723872, 0.55458479,\n",
      "        0.        ],\n",
      "       [0.82763117, 0.6316644 , 0.75808774, 0.35452597, 0.97069802,\n",
      "        0.89312112],\n",
      "       [0.7783835 , 0.19463871, 0.466721  , 0.        , 0.15428949,\n",
      "        0.68304895],\n",
      "       [0.74476216, 0.96750973, 0.32582536, 0.37045971, 0.46955581,\n",
      "        0.18947136],\n",
      "       [0.12992151, 0.47570493, 0.22690935, 0.66981399, 0.43715192,\n",
      "        0.8326782 ],\n",
      "       [0.7002651 , 0.31236664, 0.8322598 , 0.80476436, 0.38747838,\n",
      "        0.2883281 ],\n",
      "       [0.6824955 , 0.13975248, 0.1999082 , 0.        , 0.78692438,\n",
      "        0.66485086],\n",
      "       [0.70516538, 0.78072903, 0.45891578, 0.5687412 , 0.139797  ,\n",
      "        0.11453007]])\n"
     ]
    }
   ],
   "source": [
    "import numpy.random as npr\n",
    "\n",
    "\n",
    "m = npr.default_rng(42).random((10,6))\n",
    "m[m < 0.1] = 0.0\n",
    "print(f\"{m = }\")"
   ],
   "metadata": {
    "collapsed": false,
    "pycharm": {
     "name": "#%%\n"
    }
   }
  },
  {
   "cell_type": "markdown",
   "metadata": {},
   "source": [
    "4\\. Use np.linspace to create an array of 100 numbers between 0 and 2π (includsive).\n",
    "\n",
    "  * Extract every 10th element using slice notation\n",
    "  * Reverse the array using slice notation\n",
    "  * Extract elements where the absolute difference between the sine and cosine functions evaluated at that element is less than 0.1\n",
    "  * Make a plot showing the sin and cos functions and indicate where they are close"
   ]
  },
  {
   "cell_type": "code",
   "execution_count": 107,
   "outputs": [
    {
     "name": "stdout",
     "output_type": "stream",
     "text": [
      "Slice: [0.         0.06346652 0.12693304 0.19039955 0.25386607 0.31733259\n",
      " 0.38079911 0.44426563 0.50773215 0.57119866]\n",
      "Reversed: [6.28318531 6.21971879 6.15625227 6.09278575 6.02931923 5.96585272\n",
      " 5.9023862  5.83891968 5.77545316 5.71198664 5.64852012 5.58505361\n",
      " 5.52158709 5.45812057 5.39465405 5.33118753 5.26772102 5.2042545\n",
      " 5.14078798 5.07732146 5.01385494 4.95038842 4.88692191 4.82345539\n",
      " 4.75998887 4.69652235 4.63305583 4.56958931 4.5061228  4.44265628\n",
      " 4.37918976 4.31572324 4.25225672 4.1887902  4.12532369 4.06185717\n",
      " 3.99839065 3.93492413 3.87145761 3.8079911  3.74452458 3.68105806\n",
      " 3.61759154 3.55412502 3.4906585  3.42719199 3.36372547 3.30025895\n",
      " 3.23679243 3.17332591 3.10985939 3.04639288 2.98292636 2.91945984\n",
      " 2.85599332 2.7925268  2.72906028 2.66559377 2.60212725 2.53866073\n",
      " 2.47519421 2.41172769 2.34826118 2.28479466 2.22132814 2.15786162\n",
      " 2.0943951  2.03092858 1.96746207 1.90399555 1.84052903 1.77706251\n",
      " 1.71359599 1.65012947 1.58666296 1.52319644 1.45972992 1.3962634\n",
      " 1.33279688 1.26933037 1.20586385 1.14239733 1.07893081 1.01546429\n",
      " 0.95199777 0.88853126 0.82506474 0.76159822 0.6981317  0.63466518\n",
      " 0.57119866 0.50773215 0.44426563 0.38079911 0.31733259 0.25386607\n",
      " 0.19039955 0.12693304 0.06346652 0.        ]\n",
      "Small trig diff: [0.76159822 0.82506474 3.87145761 3.93492413]\n"
     ]
    },
    {
     "data": {
      "text/plain": "<matplotlib.collections.PathCollection at 0x7fd354c7b9d0>"
     },
     "execution_count": 107,
     "metadata": {},
     "output_type": "execute_result"
    },
    {
     "data": {
      "text/plain": "<Figure size 432x288 with 1 Axes>",
      "image/png": "[encoded data removed]"
     },
     "metadata": {},
     "output_type": "display_data"
    }
   ],
   "source": [
    "import math\n",
    "import matplotlib.pyplot as plt\n",
    "plt.style.use('dark_background')\n",
    "\n",
    "m = np.linspace(0, 2 * math.pi, 100)\n",
    "print(\"Slice:\", m[:10])\n",
    "print(f\"Reversed: {m[-1::-1]}\")\n",
    "small_diff = np.array([x for x in m if math.fabs(math.sin(x) - math.cos(x)) < 0.1])\n",
    "print(\"Small trig diff:\", small_diff)\n",
    "plt.plot(m, [math.cos(x) for x in m])\n",
    "plt.plot(m, [math.sin(x) for x in m])\n",
    "plt.scatter(small_diff, [math.cos(x) for x in small_diff], c=\"red\", marker=\"*\")\n",
    "plt.scatter(small_diff, [math.sin(x) for x in small_diff], c=\"red\", marker=\"*\")"
   ],
   "metadata": {
    "collapsed": false,
    "pycharm": {
     "name": "#%%\n"
    }
   }
  },
  {
   "cell_type": "markdown",
   "metadata": {},
   "source": [
    "5\\. Create a matrix that shows the 10 by 10 multiplication table.\n",
    "\n",
    " * Find the trace of the matrix\n",
    " * Extract the anto-diagonal (this should be ```array([10, 18, 24, 28, 30, 30, 28, 24, 18, 10])```)\n",
    " * Extract the diagnoal offset by 1 upwards (this should be ```array([ 2,  6, 12, 20, 30, 42, 56, 72, 90])```)"
   ]
  },
  {
   "cell_type": "code",
   "execution_count": 108,
   "outputs": [
    {
     "name": "stdout",
     "output_type": "stream",
     "text": [
      "m = array([[  1,   2,   3,   4,   5,   6,   7,   8,   9,  10],\n",
      "       [  2,   4,   6,   8,  10,  12,  14,  16,  18,  20],\n",
      "       [  3,   6,   9,  12,  15,  18,  21,  24,  27,  30],\n",
      "       [  4,   8,  12,  16,  20,  24,  28,  32,  36,  40],\n",
      "       [  5,  10,  15,  20,  25,  30,  35,  40,  45,  50],\n",
      "       [  6,  12,  18,  24,  30,  36,  42,  48,  54,  60],\n",
      "       [  7,  14,  21,  28,  35,  42,  49,  56,  63,  70],\n",
      "       [  8,  16,  24,  32,  40,  48,  56,  64,  72,  80],\n",
      "       [  9,  18,  27,  36,  45,  54,  63,  72,  81,  90],\n",
      "       [ 10,  20,  30,  40,  50,  60,  70,  80,  90, 100]])\n",
      "np.fliplr(m).diagonal() = array([10, 18, 24, 28, 30, 30, 28, 24, 18, 10])\n",
      "m[1:,:].diagonal() = array([ 2,  6, 12, 20, 30, 42, 56, 72, 90]) \n"
     ]
    }
   ],
   "source": [
    "m = np.array(np.linspace(1, 10, 10).reshape(1, 10).T * np.linspace(1, 10, 10).reshape(1, 10), int)\n",
    "print(f\"{m = }\\n{np.fliplr(m).diagonal() = }\\n{m[1:,:].diagonal() = } \")"
   ],
   "metadata": {
    "collapsed": false,
    "pycharm": {
     "name": "#%%\n"
    }
   }
  },
  {
   "cell_type": "markdown",
   "metadata": {},
   "source": [
    "6\\. Use broadcasting to create a grid of distances\n",
    "\n",
    "Route 66 crosses the following cities in the US: Chicago, Springfield, Saint-Louis, Tulsa, Oklahoma City, Amarillo, Santa Fe, Albuquerque, Flagstaff, Los Angeles\n",
    "The corresponding positions in miles are: 0, 198, 303, 736, 871, 1175, 1475, 1544, 1913, 2448\n",
    "\n",
    "  * Construct a 2D grid of distances among each city along Route 66\n",
    "  * Convert that in km (those savages...)"
   ]
  },
  {
   "cell_type": "code",
   "execution_count": 109,
   "outputs": [
    {
     "name": "stdout",
     "output_type": "stream",
     "text": [
      "Miles:\n",
      " [[   0  198  303  736  871 1175 1475 1544 1913 2448]\n",
      " [ 198    0  105  538  673  977 1277 1346 1715 2250]\n",
      " [ 303  105    0  433  568  872 1172 1241 1610 2145]\n",
      " [ 736  538  433    0  135  439  739  808 1177 1712]\n",
      " [ 871  673  568  135    0  304  604  673 1042 1577]\n",
      " [1175  977  872  439  304    0  300  369  738 1273]\n",
      " [1475 1277 1172  739  604  300    0   69  438  973]\n",
      " [1544 1346 1241  808  673  369   69    0  369  904]\n",
      " [1913 1715 1610 1177 1042  738  438  369    0  535]\n",
      " [2448 2250 2145 1712 1577 1273  973  904  535    0]]\n",
      "Kms:\n",
      " [[   0.       318.64932  487.63002 1184.47424 1401.73514 1890.9745\n",
      "  2373.7765  2484.82096 3078.66742 3939.66432]\n",
      " [ 318.64932    0.       168.9807   865.82492 1083.08582 1572.32518\n",
      "  2055.12718 2166.17164 2760.0181  3621.015  ]\n",
      " [ 487.63002  168.9807     0.       696.84422  914.10512 1403.34448\n",
      "  1886.14648 1997.19094 2591.0374  3452.0343 ]\n",
      " [1184.47424  865.82492  696.84422    0.       217.2609   706.50026\n",
      "  1189.30226 1300.34672 1894.19318 2755.19008]\n",
      " [1401.73514 1083.08582  914.10512  217.2609     0.       489.23936\n",
      "   972.04136 1083.08582 1676.93228 2537.92918]\n",
      " [1890.9745  1572.32518 1403.34448  706.50026  489.23936    0.\n",
      "   482.802    593.84646 1187.69292 2048.68982]\n",
      " [2373.7765  2055.12718 1886.14648 1189.30226  972.04136  482.802\n",
      "     0.       111.04446  704.89092 1565.88782]\n",
      " [2484.82096 2166.17164 1997.19094 1300.34672 1083.08582  593.84646\n",
      "   111.04446    0.       593.84646 1454.84336]\n",
      " [3078.66742 2760.0181  2591.0374  1894.19318 1676.93228 1187.69292\n",
      "   704.89092  593.84646    0.       860.9969 ]\n",
      " [3939.66432 3621.015   3452.0343  2755.19008 2537.92918 2048.68982\n",
      "  1565.88782 1454.84336  860.9969     0.     ]]\n"
     ]
    }
   ],
   "source": [
    "distances = np.array([0, 198, 303, 736, 871, 1175, 1475, 1544, 1913, 2448]).reshape(1, 10)\n",
    "m = distances.T - distances\n",
    "m = np.abs(m)\n",
    "print(\"Miles:\\n\", m)\n",
    "print(\"Kms:\\n\", m * 1.60934)"
   ],
   "metadata": {
    "collapsed": false,
    "pycharm": {
     "name": "#%%\n"
    }
   }
  },
  {
   "cell_type": "markdown",
   "metadata": {},
   "source": [
    "7\\. Prime numbers sieve: compute the prime numbers in the 0-N (N=99 to start with) range with a sieve (mask).\n",
    "  * Constract a shape (100,) boolean array, the mask\n",
    "  * Identify the multiples of each number starting from 2 and set accordingly the corresponding mask element\n",
    "  * Apply the mask to obtain an array of ordered prime numbers\n",
    "  * Check the performances (timeit); how does it scale with N?\n",
    "  * Implement the optimization suggested in the [sieve of Eratosthenes](https://en.wikipedia.org/wiki/Sieve_of_Eratosthenes)"
   ]
  },
  {
   "cell_type": "code",
   "execution_count": 113,
   "outputs": [
    {
     "name": "stdout",
     "output_type": "stream",
     "text": [
      "mask_method_primes(100) = array([ 2,  3,  5,  7, 11, 13, 17, 19, 23, 29, 31, 37, 41, 43, 47, 53, 59,\n",
      "       61, 67, 71, 73, 79, 83, 89, 97])\n",
      "eratosthenes_primes(100) = array([ 2,  3,  5,  7, 11, 13, 17, 19, 23, 29, 31, 37, 41, 43, 47, 53, 59,\n",
      "       61, 67, 71, 73, 79, 83, 89, 97])\n"
     ]
    },
    {
     "data": {
      "text/plain": "<matplotlib.legend.Legend at 0x7fd354ddee20>"
     },
     "execution_count": 113,
     "metadata": {},
     "output_type": "execute_result"
    },
    {
     "data": {
      "text/plain": "<Figure size 432x288 with 1 Axes>",
      "image/png": "[encoded data removed]"
     },
     "metadata": {},
     "output_type": "display_data"
    }
   ],
   "source": [
    "import time\n",
    "\n",
    "\n",
    "def mask_method_primes(max_num):\n",
    "    nums = np.array(np.linspace(2, max_num, max_num - 1), int)\n",
    "    i = 0\n",
    "    while nums[i] != nums[-1]:\n",
    "        mask = ((nums % nums[i] != 0) + (nums == nums[i]))\n",
    "        nums = nums[mask]\n",
    "        i += 1\n",
    "    return nums\n",
    "\n",
    "\n",
    "def eratosthenes_primes(max_num):\n",
    "    nums = np.array(np.linspace(2, max_num, max_num - 1), int)\n",
    "    marked = np.ones(nums.shape, bool)\n",
    "    p = 2\n",
    "    while p < max_num:\n",
    "        for it in range(2 * p, max_num + 1, p):\n",
    "            marked[it - 2] = False\n",
    "        new_nums = nums[p - 1:][marked[p - 1:]]\n",
    "        if new_nums.shape != (0,):\n",
    "            p = new_nums[0]\n",
    "        else:\n",
    "            p = nums[p - 1]\n",
    "    return nums[marked]\n",
    "\n",
    "\n",
    "print(f\"{mask_method_primes(100) = }\")\n",
    "print(f\"{eratosthenes_primes(100) = }\")\n",
    "\n",
    "iterations = 10\n",
    "steps = [10 ** x for x in range(1, 6)]\n",
    "runtime = np.array([[], []])\n",
    "temp = np.empty((2,))\n",
    "runtime_mask = np.empty((iterations - 1, len(steps)))\n",
    "runtime_erato = np.empty((iterations - 1, len(steps)))\n",
    "for i in range(iterations - 1):\n",
    "    for n in steps:\n",
    "        start_time = time.time()\n",
    "        mask_method_primes(n)\n",
    "        temp[0] = time.time() - start_time\n",
    "        start_time = time.time()\n",
    "        eratosthenes_primes(n)\n",
    "        temp[1] = time.time() - start_time\n",
    "        runtime = np.hstack((runtime, [[temp[0]], [temp[1]]]))\n",
    "    runtime_mask[i, :] = runtime[0, :]\n",
    "    runtime_erato[i, :] = runtime[1, :]\n",
    "    runtime = np.array([[], []])\n",
    "runtime_mask_error = np.std(runtime_mask, 0, ddof=1) / np.sqrt(np.size(runtime_mask))\n",
    "runtime_mask = np.mean(runtime_mask, 0)\n",
    "runtime_erato_error = np.std(runtime_erato, 0, ddof=1) / np.sqrt(np.size(runtime_erato))\n",
    "runtime_erato = np.mean(runtime_erato, 0)\n",
    "plt.errorbar(steps, runtime_mask, runtime_mask_error, color=\"yellow\", label=\"Mask method\", fmt='.')\n",
    "plt.errorbar(steps, runtime_erato, runtime_erato_error, color=\"red\", label=\"Eratosthenes\", fmt='.')\n",
    "plt.ylabel(\"Run Time (s)\")\n",
    "plt.yscale(\"log\")\n",
    "plt.xlabel(\"Max number\")\n",
    "plt.xscale(\"log\")\n",
    "plt.legend()"
   ],
   "metadata": {
    "collapsed": false,
    "pycharm": {
     "name": "#%%\n"
    }
   }
  },
  {
   "cell_type": "markdown",
   "metadata": {
    "pycharm": {
     "name": "#%% md\n"
    }
   },
   "source": [
    "**N.B. the following exercises are meant to be solved only if you are familiar with the numpy random library.\n",
    "If not you can skip them (postponed for one of the next exercise sessions)**\n"
   ]
  },
  {
   "cell_type": "markdown",
   "metadata": {},
   "source": [
    "8\\. Diffusion using random walk\n",
    "\n",
    "Consider a simple random walk process: at each step in time, a walker jumps right or left (+1 or -1) with equal probability. The goal is to find the typical distance from the origin of a random walker after a given amount of time. \n",
    "To do that, let's simulate many walkers and create a 2D array with each walker as a raw and the actual time evolution as columns\n",
    "\n",
    "  * Take 1000 walkers and let them walk for 200 steps\n",
    "  * Use randint to create a 2D array of size walkers x steps with values -1 or 1\n",
    "  * Build the actual walking distances for each walker (i.e. another 2D array \"summing on each raw\")\n",
    "  * Take the square of that 2D array (elementwise)\n",
    "  * Compute the mean of the squared distances at each step (i.e. the mean along the columns)\n",
    "  * Plot the average distances (sqrt(distance\\*\\*2)) as a function of time (step)\n",
    "  \n",
    "Did you get what you expected?"
   ]
  },
  {
   "cell_type": "markdown",
   "metadata": {},
   "source": [
    "9\\. Analyze a data file \n",
    "  * Download the population of hares, lynxes and carrots at the beginning of the last century.\n",
    "    ```python\n",
    "    ! wget https://www.dropbox.com/s/3vigxoqayo389uc/populations.txt\n",
    "    ```\n",
    "\n",
    "  * Check the content by looking within the file\n",
    "  * Load the data (use an appropriate numpy method) into a 2D array\n",
    "  * Create arrays out of the columns, the arrays being (in order): *year*, *hares*, *lynxes*, *carrots* \n",
    "  * Plot the 3 populations over the years\n",
    "  * Compute the main statistical properties of the dataset (mean, std, correlations, etc.)\n",
    "  * Which species has the highest population each year?\n",
    "\n",
    "Do you feel there is some evident correlation here? [Studies](https://www.enr.gov.nt.ca/en/services/lynx/lynx-snowshoe-hare-cycle) tend to believe so."
   ]
  },
  {
   "cell_type": "code",
   "execution_count": 110,
   "metadata": {},
   "outputs": [],
   "source": []
  }
 ],
 "metadata": {
  "kernelspec": {
   "name": "pycharm-e992d7ce",
   "language": "python",
   "display_name": "PyCharm (Intro_Lab)"
  },
  "language_info": {
   "codemirror_mode": {
    "name": "ipython",
    "version": 3
   },
   "file_extension": ".py",
   "mimetype": "text/x-python",
   "name": "python",
   "nbconvert_exporter": "python",
   "pygments_lexer": "ipython3",
   "version": "3.8.8"
  }
 },
 "nbformat": 4,
 "nbformat_minor": 2
}