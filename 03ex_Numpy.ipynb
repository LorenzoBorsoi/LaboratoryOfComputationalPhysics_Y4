{
 "cells": [
  {
   "cell_type": "markdown",
   "metadata": {},
   "source": [
    "### Numpy basics"
   ]
  },
  {
   "cell_type": "code",
   "execution_count": 17,
   "metadata": {},
   "outputs": [],
   "source": [
    "import numpy as np\n",
    "from math import sin, cos\n",
    "import matplotlib.pyplot as plt\n",
    "import time"
   ]
  },
  {
   "cell_type": "markdown",
   "metadata": {},
   "source": [
    "1\\. Find the row, column and overall means for the following matrix:\n",
    "\n",
    "```python\n",
    "m = np.arange(12).reshape((3,4))\n",
    "```"
   ]
  },
  {
   "cell_type": "code",
   "execution_count": 3,
   "metadata": {},
   "outputs": [
    {
     "name": "stdout",
     "output_type": "stream",
     "text": [
      "Row mean: 1.5\n",
      "Row mean: 5.5\n",
      "Row mean: 9.5\n",
      "\n",
      "\n",
      "Col mean: 4.0\n",
      "Col mean: 5.0\n",
      "Col mean: 6.0\n",
      "\n",
      "\n",
      "Overall mean: 5.5\n"
     ]
    }
   ],
   "source": [
    "m = np.arange(12).reshape((3,4))\n",
    "\n",
    "#print(m)\n",
    "# Row means\n",
    "for row in m:\n",
    "    print('Row mean:', np.mean(row))\n",
    "print('\\n')\n",
    "\n",
    "# Col means\n",
    "for colIndex in range(len(m)):\n",
    "    print('Col mean:', np.mean(m[:,colIndex]))\n",
    "print('\\n')\n",
    "\n",
    "# Overall means\n",
    "print('Overall mean:', np.mean(m))"
   ]
  },
  {
   "cell_type": "markdown",
   "metadata": {},
   "source": [
    "2\\. Find the outer product of the following two vecotrs\n",
    "\n",
    "```python\n",
    "u = np.array([1,3,5,7])\n",
    "v = np.array([2,4,6,8])\n",
    "```\n",
    "\n",
    "Do this in the following ways:\n",
    "\n",
    "   * Using the function outer in numpy\n",
    "   * Using a nested for loop or list comprehension\n",
    "   * Using numpy broadcasting operatoins\n"
   ]
  },
  {
   "cell_type": "code",
   "execution_count": 4,
   "metadata": {},
   "outputs": [],
   "source": [
    "u = np.array([1,3,5,7])\n",
    "v = np.array([2,4,6,8])"
   ]
  },
  {
   "cell_type": "markdown",
   "metadata": {},
   "source": [
    "### 2a) numpy outer product"
   ]
  },
  {
   "cell_type": "code",
   "execution_count": 5,
   "metadata": {},
   "outputs": [
    {
     "name": "stdout",
     "output_type": "stream",
     "text": [
      "[[ 2  4  6  8]\n",
      " [ 6 12 18 24]\n",
      " [10 20 30 40]\n",
      " [14 28 42 56]]\n"
     ]
    }
   ],
   "source": [
    "product1 = np.outer(u, v)\n",
    "print(product1)"
   ]
  },
  {
   "cell_type": "markdown",
   "metadata": {},
   "source": [
    "### 2b)"
   ]
  },
  {
   "cell_type": "code",
   "execution_count": 6,
   "metadata": {},
   "outputs": [
    {
     "name": "stdout",
     "output_type": "stream",
     "text": [
      "[[ 2.  4.  6.  8.]\n",
      " [ 6. 12. 18. 24.]\n",
      " [10. 20. 30. 40.]\n",
      " [14. 28. 42. 56.]]\n"
     ]
    }
   ],
   "source": [
    "product2 = np.zeros((len(u), len(v)))\n",
    "for i in range(len(u)):\n",
    "    for j in range(len(v)):\n",
    "        product2[i, j] = u[i] * v[j]\n",
    "print(product2)"
   ]
  },
  {
   "cell_type": "markdown",
   "metadata": {},
   "source": [
    "### 2c)"
   ]
  },
  {
   "cell_type": "code",
   "execution_count": 12,
   "metadata": {},
   "outputs": [
    {
     "name": "stdout",
     "output_type": "stream",
     "text": [
      "[[ 2  6 10 14]\n",
      " [ 4 12 20 28]\n",
      " [ 6 18 30 42]\n",
      " [ 8 24 40 56]]\n"
     ]
    }
   ],
   "source": [
    "#first reshape v to have dimensions 4x1 and then multiply\n",
    "vprime = v.reshape(4, 1)\n",
    "product3 = u * vprime\n",
    "print(product3)"
   ]
  },
  {
   "cell_type": "markdown",
   "metadata": {},
   "source": [
    "3\\. Create a 10 by 6 matrix of random uniform numbers. Set all rows with any entry less than 0.1 to be zero\n",
    "\n",
    "Hint: Use the following numpy functions - np.random.random, np.any as well as Boolean indexing and the axis argument."
   ]
  },
  {
   "cell_type": "code",
   "execution_count": 13,
   "metadata": {},
   "outputs": [
    {
     "name": "stdout",
     "output_type": "stream",
     "text": [
      "[[0.63825262 0.59292239 0.54076754 0.16167064 0.2443044  0.93263713]\n",
      " [0.84533105 0.92583314 0.3769608  0.15147605 0.03345543 0.09552055]\n",
      " [0.8078167  0.21420706 0.64477138 0.37574047 0.10743553 0.02035805]\n",
      " [0.65282396 0.08629087 0.98843271 0.51161511 0.94528876 0.44961131]\n",
      " [0.53361578 0.01864037 0.58057586 0.18428935 0.48470212 0.45011704]\n",
      " [0.76275983 0.38761465 0.64159794 0.61510689 0.20458803 0.04345955]\n",
      " [0.07060557 0.13088744 0.44205126 0.30651015 0.1691652  0.85882132]\n",
      " [0.29734975 0.48113838 0.79853405 0.17257298 0.22672606 0.67938726]\n",
      " [0.45935926 0.86240759 0.019957   0.91985439 0.13711591 0.55045017]\n",
      " [0.22323172 0.80429127 0.58651777 0.35330818 0.80033802 0.55275011]] \n",
      "\n",
      "[[0.63825262 0.59292239 0.54076754 0.16167064 0.2443044  0.93263713]\n",
      " [0.         0.         0.         0.         0.         0.        ]\n",
      " [0.         0.         0.         0.         0.         0.        ]\n",
      " [0.         0.         0.         0.         0.         0.        ]\n",
      " [0.         0.         0.         0.         0.         0.        ]\n",
      " [0.         0.         0.         0.         0.         0.        ]\n",
      " [0.         0.         0.         0.         0.         0.        ]\n",
      " [0.29734975 0.48113838 0.79853405 0.17257298 0.22672606 0.67938726]\n",
      " [0.         0.         0.         0.         0.         0.        ]\n",
      " [0.22323172 0.80429127 0.58651777 0.35330818 0.80033802 0.55275011]]\n"
     ]
    }
   ],
   "source": [
    "matrix = np.random.random((10, 6))\n",
    "print(matrix, '\\n')\n",
    "#for axis in range(len(matrix)):\n",
    "#    if matrix[axis].any() < 0.1:\n",
    "#        matrix[axis] = [0, 0, 0, 0, 0, 0]\n",
    "\n",
    "matrix[(matrix<0.1).any(axis=-1)] = 0\n",
    "print(matrix)"
   ]
  },
  {
   "cell_type": "markdown",
   "metadata": {},
   "source": [
    "4\\. Use np.linspace to create an array of 100 numbers between 0 and 2π (includsive).\n",
    "\n",
    "  * Extract every 10th element using slice notation\n",
    "  * Reverse the array using slice notation\n",
    "  * Extract elements where the absolute difference between the sine and cosine functions evaluated at that element is less than 0.1\n",
    "  * Make a plot showing the sin and cos functions and indicate where they are close"
   ]
  },
  {
   "cell_type": "code",
   "execution_count": 27,
   "metadata": {},
   "outputs": [
    {
     "name": "stdout",
     "output_type": "stream",
     "text": [
      "Initial array a: [0.         0.12822827 0.25645654 0.38468481 0.51291309 0.64114136\n",
      " 0.76936963 0.8975979  1.02582617 1.15405444 1.28228272 1.41051099\n",
      " 1.53873926 1.66696753 1.7951958  1.92342407 2.05165235 2.17988062\n",
      " 2.30810889 2.43633716 2.56456543 2.6927937  2.82102197 2.94925025\n",
      " 3.07747852 3.20570679 3.33393506 3.46216333 3.5903916  3.71861988\n",
      " 3.84684815 3.97507642 4.10330469 4.23153296 4.35976123 4.48798951\n",
      " 4.61621778 4.74444605 4.87267432 5.00090259 5.12913086 5.25735913\n",
      " 5.38558741 5.51381568 5.64204395 5.77027222 5.89850049 6.02672876\n",
      " 6.15495704 6.28318531] \n",
      "\n",
      "Every 10th element of a: [0.         1.28228272 2.56456543 3.84684815 5.12913086] \n",
      "\n",
      "Reverse of a: [6.28318531 6.15495704 6.02672876 5.89850049 5.77027222 5.64204395\n",
      " 5.51381568 5.38558741 5.25735913 5.12913086 5.00090259 4.87267432\n",
      " 4.74444605 4.61621778 4.48798951 4.35976123 4.23153296 4.10330469\n",
      " 3.97507642 3.84684815 3.71861988 3.5903916  3.46216333 3.33393506\n",
      " 3.20570679 3.07747852 2.94925025 2.82102197 2.6927937  2.56456543\n",
      " 2.43633716 2.30810889 2.17988062 2.05165235 1.92342407 1.7951958\n",
      " 1.66696753 1.53873926 1.41051099 1.28228272 1.15405444 1.02582617\n",
      " 0.8975979  0.76936963 0.64114136 0.51291309 0.38468481 0.25645654\n",
      " 0.12822827 0.        ] \n",
      "\n",
      "sin and cos difference: [0.76936963 3.97507642] \n",
      "\n",
      " actual, reverse: [0.76936963 3.97507642] [3.97507642 0.76936963]\n"
     ]
    },
    {
     "data": {
      "image/png": "[encoded data removed]",
      "text/plain": [
       "<Figure size 432x288 with 1 Axes>"
      ]
     },
     "metadata": {
      "needs_background": "light"
     },
     "output_type": "display_data"
    }
   ],
   "source": [
    "# Init array\n",
    "a = np.linspace(0, 2*np.pi)\n",
    "print('Initial array a:', a, '\\n')\n",
    "\n",
    "#Extract every 10th element\n",
    "everyTenthElement = a[::10]\n",
    "print('Every 10th element of a:', everyTenthElement, '\\n')\n",
    "\n",
    "#reverse the array a\n",
    "reverseA = a[::-1]\n",
    "print('Reverse of a:', reverseA, '\\n')\n",
    "\n",
    "#extract elements where |sin(a[i])-cos(a[i])| < 0.1\n",
    "sinCosDiff = a[abs(np.sin(a) - np.cos(a)) < 0.1]\n",
    "print('sin and cos difference:', sinCosDiff, '\\n')\n",
    "print(' actual, reverse:', sinCosDiff, sinCosDiff[::-1])\n",
    "\n",
    "#plot sin and cos functions\n",
    "plt.plot(a, np.sin(a), label='sin(a)')\n",
    "plt.plot(a, np.cos(a), label='cos(a)')\n",
    "plt.scatter(sinCosDiff, np.sin(sinCosDiff), label='|sin(a) - cos(a)| < 0.1')\n",
    "plt.scatter(sinCosDiff, np.cos(sinCosDiff), label='|sin(a) - cos(a)| < 0.1')\n",
    "plt.title(r'Functions sin(a) & cos(a) over interval [0, 2$\\pi$]')\n",
    "plt.xlabel(r'Interval [0, 2$\\pi$]')\n",
    "plt.ylabel('f(x)')\n",
    "plt.legend()\n",
    "plt.show()"
   ]
  },
  {
   "cell_type": "markdown",
   "metadata": {},
   "source": [
    "5\\. Create a matrix that shows the 10 by 10 multiplication table.\n",
    "\n",
    " * Find the trace of the matrix\n",
    " * Extract the anto-diagonal (this should be ```array([10, 18, 24, 28, 30, 30, 28, 24, 18, 10])```)\n",
    " * Extract the diagnoal offset by 1 upwards (this should be ```array([ 2,  6, 12, 20, 30, 42, 56, 72, 90])```)"
   ]
  },
  {
   "cell_type": "code",
   "execution_count": 45,
   "metadata": {},
   "outputs": [
    {
     "name": "stdout",
     "output_type": "stream",
     "text": [
      "[[  1.   2.   3.   4.   5.   6.   7.   8.   9.  10.]\n",
      " [  2.   4.   6.   8.  10.  12.  14.  16.  18.  20.]\n",
      " [  3.   6.   9.  12.  15.  18.  21.  24.  27.  30.]\n",
      " [  4.   8.  12.  16.  20.  24.  28.  32.  36.  40.]\n",
      " [  5.  10.  15.  20.  25.  30.  35.  40.  45.  50.]\n",
      " [  6.  12.  18.  24.  30.  36.  42.  48.  54.  60.]\n",
      " [  7.  14.  21.  28.  35.  42.  49.  56.  63.  70.]\n",
      " [  8.  16.  24.  32.  40.  48.  56.  64.  72.  80.]\n",
      " [  9.  18.  27.  36.  45.  54.  63.  72.  81.  90.]\n",
      " [ 10.  20.  30.  40.  50.  60.  70.  80.  90. 100.]] \n",
      "\n",
      "The trace is = 385.0 \n",
      "\n",
      "The anti-diagonal is: [10. 18. 24. 28. 30. 30. 28. 24. 18. 10.]\n",
      "Matrix with anti-diagonal extracted\n",
      "[[  1.   2.   3.   4.   5.   6.   7.   8.   9.   0.]\n",
      " [  2.   4.   6.   8.  10.  12.  14.  16.   0.  20.]\n",
      " [  3.   6.   9.  12.  15.  18.  21.   0.  27.  30.]\n",
      " [  4.   8.  12.  16.  20.  24.   0.  32.  36.  40.]\n",
      " [  5.  10.  15.  20.  25.   0.  35.  40.  45.  50.]\n",
      " [  6.  12.  18.  24.   0.  36.  42.  48.  54.  60.]\n",
      " [  7.  14.  21.   0.  35.  42.  49.  56.  63.  70.]\n",
      " [  8.  16.   0.  32.  40.  48.  56.  64.  72.  80.]\n",
      " [  9.   0.  27.  36.  45.  54.  63.  72.  81.  90.]\n",
      " [  0.  20.  30.  40.  50.  60.  70.  80.  90. 100.]] \n",
      "\n",
      "The diagonal is: [ 2.  6. 12. 20. 30. 42. 56. 72. 90.]\n",
      "Matrix with specified diagonal extracted\n",
      "[[  1.   0.   3.   4.   5.   6.   7.   8.   9.  10.]\n",
      " [  2.   4.   0.   8.  10.  12.  14.  16.  18.  20.]\n",
      " [  3.   6.   9.   0.  15.  18.  21.  24.  27.  30.]\n",
      " [  4.   8.  12.  16.   0.  24.  28.  32.  36.  40.]\n",
      " [  5.  10.  15.  20.  25.   0.  35.  40.  45.  50.]\n",
      " [  6.  12.  18.  24.  30.  36.   0.  48.  54.  60.]\n",
      " [  7.  14.  21.  28.  35.  42.  49.   0.  63.  70.]\n",
      " [  8.  16.  24.  32.  40.  48.  56.  64.   0.  80.]\n",
      " [  9.  18.  27.  36.  45.  54.  63.  72.  81.   0.]\n",
      " [ 10.  20.  30.  40.  50.  60.  70.  80.  90. 100.]]\n"
     ]
    }
   ],
   "source": [
    "matrix = np.fromfunction(lambda i, j: (i+1) * (j+1), (10, 10))\n",
    "n = len(matrix)\n",
    "print(matrix, '\\n')\n",
    "\n",
    "# Find the trace of the matrix\n",
    "trace = 0\n",
    "for i in range(len(matrix)):\n",
    "    trace += matrix[i, i] # works since the matrix is nxn\n",
    "print('The trace is =', trace, '\\n')\n",
    "\n",
    "# Extract anti-diagonal\n",
    "#mask1 = np.fromfunction(lambda i, j: (i+1)*(j+1) if ((i+j)==n+1) else 0, (10, 10))\n",
    "mask1 = np.zeros((10, 10))\n",
    "array1 = np.zeros(10)\n",
    "for i in range(len(matrix)):\n",
    "    for j in range(len(matrix[0])):\n",
    "        if((i+1)+(j+1) == n+1):\n",
    "            array1[i] = (i+1)*(j+1)\n",
    "            mask1[i, j] = (i+1)*(j+1)\n",
    "print(\"The anti-diagonal is:\", array1)\n",
    "print(\"Matrix with anti-diagonal extracted\")\n",
    "print(matrix - mask1, '\\n')\n",
    "\n",
    "\n",
    "#Exract diagonal offset by 1 upwards \n",
    "mask2 = np.zeros((10, 10))\n",
    "array2 = np.zeros(9)\n",
    "for i in range(len(matrix)):\n",
    "    for j in range(len(matrix[0])):\n",
    "        if(i==j and i!=n-1): #if not at the end, modifiy the value to the right of the diagonal\n",
    "            mask2[i, j+1] = (i+1)*(j+2)\n",
    "            array2[i] = (i+1)*(j+2)\n",
    "print(\"The diagonal is:\", array2)\n",
    "print(\"Matrix with specified diagonal extracted\")\n",
    "print(matrix - mask2)"
   ]
  },
  {
   "cell_type": "markdown",
   "metadata": {},
   "source": [
    "6\\. Use broadcasting to create a grid of distances\n",
    "\n",
    "Route 66 crosses the following cities in the US: Chicago, Springfield, Saint-Louis, Tulsa, Oklahoma City, Amarillo, Santa Fe, Albuquerque, Flagstaff, Los Angeles\n",
    "The corresponding positions in miles are: 0, 198, 303, 736, 871, 1175, 1475, 1544, 1913, 2448\n",
    "\n",
    "  * Construct a 2D grid of distances among each city along Route 66\n",
    "  * Convert that in km (those savages...)"
   ]
  },
  {
   "cell_type": "code",
   "execution_count": 63,
   "metadata": {},
   "outputs": [
    {
     "name": "stdout",
     "output_type": "stream",
     "text": [
      "[[   0.   316.8  484.8 1177.6 1393.6 1880.  2360.  2470.4 3060.8 3916.8]\n",
      " [ 316.8    0.   168.   860.8 1076.8 1563.2 2043.2 2153.6 2744.  3600. ]\n",
      " [ 484.8  168.     0.   692.8  908.8 1395.2 1875.2 1985.6 2576.  3432. ]\n",
      " [1177.6  860.8  692.8    0.   216.   702.4 1182.4 1292.8 1883.2 2739.2]\n",
      " [1393.6 1076.8  908.8  216.     0.   486.4  966.4 1076.8 1667.2 2523.2]\n",
      " [1880.  1563.2 1395.2  702.4  486.4    0.   480.   590.4 1180.8 2036.8]\n",
      " [2360.  2043.2 1875.2 1182.4  966.4  480.     0.   110.4  700.8 1556.8]\n",
      " [2470.4 2153.6 1985.6 1292.8 1076.8  590.4  110.4    0.   590.4 1446.4]\n",
      " [3060.8 2744.  2576.  1883.2 1667.2 1180.8  700.8  590.4    0.   856. ]\n",
      " [3916.8 3600.  3432.  2739.2 2523.2 2036.8 1556.8 1446.4  856.     0. ]]\n"
     ]
    }
   ],
   "source": [
    "cityPositions = np.array([0, 198, 303, 736, 871, 1175, 1475, 1544, 1913, 2448])\n",
    "#cityDistances = np.array([abs(cityPositions[i] - cityPositions[j]) for i in range(len(cityPositions)) for j in range(len(cityPositions))])\n",
    "#cityDistances = np.fromfunction(lambda i, j: abs(cityPositions[i] - cityPositions[j]), (10, 10))\n",
    "cityDistances = np.zeros((10, 10))\n",
    "for i in range(len(cityPositions)):\n",
    "    for j in range(len(cityPositions)):\n",
    "        cityDistances[i, j] = abs(cityPositions[i] - cityPositions[j])\n",
    "\n",
    "# now convert to kilometers\n",
    "cityDistances *= 1.6\n",
    "print(cityDistances)"
   ]
  },
  {
   "cell_type": "markdown",
   "metadata": {},
   "source": [
    "7\\. Prime numbers sieve: compute the prime numbers in the 0-N (N=99 to start with) range with a sieve (mask).\n",
    "  * Constract a shape (100,) boolean array, the mask\n",
    "  * Identify the multiples of each number starting from 2 and set accordingly the corresponding mask element\n",
    "  * Apply the mask to obtain an array of ordered prime numbers\n",
    "  * Check the performances (timeit); how does it scale with N?\n",
    "  * Implement the optimization suggested in the [sieve of Eratosthenes](https://en.wikipedia.org/wiki/Sieve_of_Eratosthenes)"
   ]
  },
  {
   "cell_type": "code",
   "execution_count": 38,
   "metadata": {},
   "outputs": [
    {
     "data": {
      "text/plain": [
       "array([ 2,  3,  5,  7, 11, 13, 17, 19, 23, 29, 31, 37, 41, 43, 47, 53, 59,\n",
       "       61, 67, 71, 73, 79, 83, 89, 97])"
      ]
     },
     "execution_count": 38,
     "metadata": {},
     "output_type": "execute_result"
    }
   ],
   "source": [
    "def primeNums(N):\n",
    "    # init sieve as N, array with all True values\n",
    "   \n",
    "    sieve, matrix = np.ones(N, dtype=bool), np.array([num for num in range(N)])\n",
    "\n",
    "    #manually set 0 and 1 to False so that they can be removed later\n",
    "    sieve[0], sieve[1] = False, False\n",
    "\n",
    "    # Iterate through from 2 and find all multiples\n",
    "    for i in range(2, N): # iterate throguh all numbers\n",
    "        for j in range(i+1, N): # determine if multiple or not\n",
    "            if j%i == 0:\n",
    "                sieve[j] = False\n",
    "\n",
    "    # apply sieve\n",
    "    primeNums = matrix[sieve]\n",
    "\n",
    "    return primeNums\n",
    "\n",
    "primeNums(100)"
   ]
  },
  {
   "cell_type": "code",
   "execution_count": 39,
   "metadata": {},
   "outputs": [
    {
     "data": {
      "text/plain": [
       "array([ 2,  3,  5,  7, 11, 13, 17, 19, 23, 29, 31, 37, 41, 43, 47, 53, 59,\n",
       "       61, 67, 71, 73, 79, 83, 89, 97])"
      ]
     },
     "execution_count": 39,
     "metadata": {},
     "output_type": "execute_result"
    }
   ],
   "source": [
    "def optimizedPrimeNums(N):\n",
    "    # init the boolean array\n",
    "    sieve, matrix = np.ones(N, dtype=bool), np.array([num for num in range(N)])\n",
    "    \n",
    "    #set 0 and 1 to False\n",
    "    sieve[0], sieve[1] = False, False\n",
    "\n",
    "    # init p as first element, 2\n",
    "    for i in range(2, int(N**.5)):\n",
    "        if sieve[i] == True:\n",
    "            for j in range(i**2, N, i):\n",
    "                #print('(i,j)', (i, j))\n",
    "                sieve[j] = False\n",
    "    \n",
    "    primeNums = matrix[sieve]\n",
    "    #print(primeNums)\n",
    "    return primeNums\n",
    "\n",
    "optimizedPrimeNums(100)        "
   ]
  },
  {
   "cell_type": "code",
   "execution_count": 43,
   "metadata": {},
   "outputs": [
    {
     "data": {
      "image/png": "[encoded data removed]",
      "text/plain": [
       "<Figure size 432x288 with 1 Axes>"
      ]
     },
     "metadata": {
      "needs_background": "light"
     },
     "output_type": "display_data"
    }
   ],
   "source": [
    "def timePrimes(func, N):\n",
    "    t0 = time.time()\n",
    "    primes = func(int(N))\n",
    "    t1 = time.time()\n",
    "    return t1-t0\n",
    "\n",
    "steps = np.array([x for x in range(100, 10000, 250)])\n",
    "times1, times2 = np.zeros(len(steps)), np.zeros(len(steps))\n",
    "\n",
    "\n",
    "for n in range(len(steps)):\n",
    "    times1[n] = timePrimes(primeNums, steps[n])\n",
    "    times2[n] = timePrimes(optimizedPrimeNums, steps[n])\n",
    "\n",
    "\n",
    "plt.plot(steps, times1, label='regular sieves')\n",
    "plt.plot(steps, times2, label='optimized sieves')\n",
    "plt.title('Time [s] of Prime Number Function Over Steps [N]')\n",
    "plt.xlabel('Steps [N]')\n",
    "plt.ylabel('Time [s]')\n",
    "plt.legend()\n",
    "plt.show()\n",
    "\n",
    "#The optimized functions has times in the realm of a few ms for the same N!"
   ]
  },
  {
   "cell_type": "markdown",
   "metadata": {},
   "source": [
    "\n",
    "**N.B. the following exercises are meant to be solved only if you are familiar with the numpy random library. If not you can skip them (postponed for one of the next exercise sessions)**\n"
   ]
  },
  {
   "cell_type": "markdown",
   "metadata": {},
   "source": [
    "8\\. Diffusion using random walk\n",
    "\n",
    "Consider a simple random walk process: at each step in time, a walker jumps right or left (+1 or -1) with equal probability. The goal is to find the typical distance from the origin of a random walker after a given amount of time. \n",
    "To do that, let's simulate many walkers and create a 2D array with each walker as a raw and the actual time evolution as columns\n",
    "\n",
    "  * Take 1000 walkers and let them walk for 200 steps\n",
    "  * Use randint to create a 2D array of size walkers x steps with values -1 or 1\n",
    "  * Build the actual walking distances for each walker (i.e. another 2D array \"summing on each raw\")\n",
    "  * Take the square of that 2D array (elementwise)\n",
    "  * Compute the mean of the squared distances at each step (i.e. the mean along the columns)\n",
    "  * Plot the average distances (sqrt(distance\\*\\*2)) as a function of time (step)\n",
    "  \n",
    "Did you get what you expected?"
   ]
  },
  {
   "cell_type": "markdown",
   "metadata": {},
   "source": [
    "9\\. Analyze a data file \n",
    "  * Download the population of hares, lynxes and carrots at the beginning of the last century.\n",
    "    ```python\n",
    "    ! wget https://www.dropbox.com/s/3vigxoqayo389uc/populations.txt\n",
    "    ```\n",
    "\n",
    "  * Check the content by looking within the file\n",
    "  * Load the data (use an appropriate numpy method) into a 2D array\n",
    "  * Create arrays out of the columns, the arrays being (in order): *year*, *hares*, *lynxes*, *carrots* \n",
    "  * Plot the 3 populations over the years\n",
    "  * Compute the main statistical properties of the dataset (mean, std, correlations, etc.)\n",
    "  * Which species has the highest population each year?\n",
    "\n",
    "Do you feel there is some evident correlation here? [Studies](https://www.enr.gov.nt.ca/en/services/lynx/lynx-snowshoe-hare-cycle) tend to believe so."
   ]
  },
  {
   "cell_type": "code",
   "execution_count": null,
   "metadata": {},
   "outputs": [],
   "source": []
  }
 ],
 "metadata": {
  "kernelspec": {
   "display_name": "Python 3",
   "language": "python",
   "name": "python3"
  },
  "language_info": {
   "codemirror_mode": {
    "name": "ipython",
    "version": 3
   },
   "file_extension": ".py",
   "mimetype": "text/x-python",
   "name": "python",
   "nbconvert_exporter": "python",
   "pygments_lexer": "ipython3",
   "version": "3.8.3"
  }
 },
 "nbformat": 4,
 "nbformat_minor": 2
}
