{
 "cells": [
  {
   "cell_type": "markdown",
   "metadata": {},
   "source": [
    "### Numpy basics"
   ]
  },
  {
   "cell_type": "markdown",
   "metadata": {},
   "source": [
    "1\\. Find the row, column and overall means for the following matrix:\n",
    "\n",
    "```python\n",
    "m = np.arange(12).reshape((3,4))\n",
    "```"
   ]
  },
  {
   "cell_type": "code",
   "execution_count": 1,
   "metadata": {},
   "outputs": [
    {
     "name": "stdout",
     "output_type": "stream",
     "text": [
      "m =  [[ 0  1  2  3]\n",
      " [ 4  5  6  7]\n",
      " [ 8  9 10 11]]\n",
      "Row mean = [1.5 5.5 9.5]\n",
      "Column mean = [4. 5. 6. 7.]\n",
      "Row mean = 5.5\n"
     ]
    }
   ],
   "source": [
    "import numpy as np\n",
    "m=np.arange(12).reshape((3,4))\n",
    "dim_m=len(m)*len(m[0])\n",
    "mean_row=np.sum(m,axis=1)/m.shape[1]\n",
    "mean_column=np.sum(m,axis=0)/m.shape[0]\n",
    "mean=np.sum(m)/dim_m\n",
    "print(\"m = \",m)\n",
    "print(f\"Row mean = {mean_row}\")\n",
    "print(f\"Column mean = {mean_column}\")\n",
    "print(f\"Row mean = {mean}\")"
   ]
  },
  {
   "cell_type": "markdown",
   "metadata": {},
   "source": [
    "2\\. Find the outer product of the following two vecotrs\n",
    "\n",
    "```python\n",
    "u = np.array([1,3,5,7])\n",
    "v = np.array([2,4,6,8])\n",
    "```\n",
    "\n",
    "Do this in the following ways:\n",
    "\n",
    "   * Using the function outer in numpy\n",
    "   * Using a nested for loop or list comprehension\n",
    "   * Using numpy broadcasting operatoins\n"
   ]
  },
  {
   "cell_type": "code",
   "execution_count": 2,
   "metadata": {},
   "outputs": [
    {
     "name": "stdout",
     "output_type": "stream",
     "text": [
      "Metodo a :\n",
      " [[ 2  4  6  8]\n",
      " [ 6 12 18 24]\n",
      " [10 20 30 40]\n",
      " [14 28 42 56]]\n",
      "\n",
      "Metodo b :\n",
      " [[ 2  4  6  8]\n",
      " [ 6 12 18 24]\n",
      " [10 20 30 40]\n",
      " [14 28 42 56]]\n",
      "\n",
      "Metodo c :\n",
      " [[ 2  4  6  8]\n",
      " [ 6 12 18 24]\n",
      " [10 20 30 40]\n",
      " [14 28 42 56]]\n"
     ]
    }
   ],
   "source": [
    "u = np.array([1,3,5,7])\n",
    "v = np.array([2,4,6,8])\n",
    "out_a=np.outer(u,v)\n",
    "out_b=np.array([i*j for i in u for j in v]).reshape((len(u),len(v)))\n",
    "u=u[:,np.newaxis]\n",
    "out_c=u*v\n",
    "print(\"Metodo a :\\n\",out_a)\n",
    "print(\"\\nMetodo b :\\n\",out_b)\n",
    "print(\"\\nMetodo c :\\n\",out_c)"
   ]
  },
  {
   "cell_type": "markdown",
   "metadata": {},
   "source": [
    "3\\. Create a 10 by 6 matrix of random uniform numbers. Set all rows with any entry less than 0.1 to be zero\n",
    "\n",
    "Hint: Use the following numpy functions - np.random.random, np.any as well as Boolean indexing and the axis argument."
   ]
  },
  {
   "cell_type": "code",
   "execution_count": 3,
   "metadata": {},
   "outputs": [
    {
     "name": "stdout",
     "output_type": "stream",
     "text": [
      "[0.80212807 0.14599515 0.74343611 0.1784807  0.33896099 0.86546574\n",
      " 0.25451985 0.85570991 0.8872607  0.40954661 0.98473136 0.74515338\n",
      " 0.35068455 0.84318604 0.20607304 0.98868184 0.57039195 0.40056436\n",
      " 0.46234409 0.43191826 0.8817146  0.87508252 0.87127907 0.60756581\n",
      " 0.1804886  0.         0.14183642 0.94035404 0.65069767 0.7679492\n",
      " 0.53591545 0.62210276 0.43786991 0.28215285 0.20732092 0.6027373\n",
      " 0.80578367 0.73533321 0.44323011 0.37633925 0.86620797 0.98366832\n",
      " 0.40515849 0.49609028 0.35248834 0.42226429 0.47323707 0.39143533\n",
      " 0.92930627 0.73084122 0.9993314  0.83444629 0.88996585 0.52990449\n",
      " 0.         0.         0.82460286 0.43782204 0.42756103 0.34106753]\n"
     ]
    }
   ],
   "source": [
    "mat=np.array([np.random.random() for i in range(60)])\n",
    "mat.reshape(10,6)\n",
    "mat[mat<0.1]=0\n",
    "print(mat)"
   ]
  },
  {
   "cell_type": "markdown",
   "metadata": {},
   "source": [
    "4\\. Use np.linspace to create an array of 100 numbers between 0 and 2π (includsive).\n",
    "\n",
    "  * Extract every 10th element using slice notation\n",
    "  * Reverse the array using slice notation\n",
    "  * Extract elements where the absolute difference between the sine and cosine functions evaluated at that element is less than 0.1\n",
    "  * Make a plot showing the sin and cos functions and indicate where they are close"
   ]
  },
  {
   "cell_type": "code",
   "execution_count": 5,
   "metadata": {},
   "outputs": [
    {
     "name": "stdout",
     "output_type": "stream",
     "text": [
      "task a :  [0.         0.63466518 1.26933037 1.90399555 2.53866073 3.17332591\n",
      " 3.8079911  4.44265628 5.07732146 5.71198664]\n",
      "\n",
      "task b :  [6.28318531 6.21971879 6.15625227 6.09278575 6.02931923 5.96585272\n",
      " 5.9023862  5.83891968 5.77545316 5.71198664 5.64852012 5.58505361\n",
      " 5.52158709 5.45812057 5.39465405 5.33118753 5.26772102 5.2042545\n",
      " 5.14078798 5.07732146 5.01385494 4.95038842 4.88692191 4.82345539\n",
      " 4.75998887 4.69652235 4.63305583 4.56958931 4.5061228  4.44265628\n",
      " 4.37918976 4.31572324 4.25225672 4.1887902  4.12532369 4.06185717\n",
      " 3.99839065 3.93492413 3.87145761 3.8079911  3.74452458 3.68105806\n",
      " 3.61759154 3.55412502 3.4906585  3.42719199 3.36372547 3.30025895\n",
      " 3.23679243 3.17332591 3.10985939 3.04639288 2.98292636 2.91945984\n",
      " 2.85599332 2.7925268  2.72906028 2.66559377 2.60212725 2.53866073\n",
      " 2.47519421 2.41172769 2.34826118 2.28479466 2.22132814 2.15786162\n",
      " 2.0943951  2.03092858 1.96746207 1.90399555 1.84052903 1.77706251\n",
      " 1.71359599 1.65012947 1.58666296 1.52319644 1.45972992 1.3962634\n",
      " 1.33279688 1.26933037 1.20586385 1.14239733 1.07893081 1.01546429\n",
      " 0.95199777 0.88853126 0.82506474 0.76159822 0.6981317  0.63466518\n",
      " 0.57119866 0.50773215 0.44426563 0.38079911 0.31733259 0.25386607\n",
      " 0.19039955 0.12693304 0.06346652 0.        ]\n",
      "\n",
      "task c :  [0.76159822 0.82506474 3.87145761 3.93492413]\n"
     ]
    },
    {
     "data": {
      "text/plain": [
       "<matplotlib.legend.Legend at 0x1ec2f41ab88>"
      ]
     },
     "execution_count": 5,
     "metadata": {},
     "output_type": "execute_result"
    },
    {
     "data": {
      "image/png": "[encoded data removed]",
      "text/plain": [
       "<Figure size 432x288 with 1 Axes>"
      ]
     },
     "metadata": {
      "needs_background": "light"
     },
     "output_type": "display_data"
    }
   ],
   "source": [
    "import matplotlib.pyplot as plt\n",
    "\n",
    "vec=np.linspace(0,2*np.pi,100)\n",
    "print(\"task a : \",vec[::10])\n",
    "print(\"\\ntask b : \",vec[::-1])\n",
    "vec2=vec[np.abs(np.cos(vec)-np.sin(vec))<0.1]\n",
    "print(\"\\ntask c : \",vec2)\n",
    "\n",
    "plt.plot(vec,np.sin(vec),label=\"Sin\")\n",
    "plt.plot(vec,np.cos(vec),label=\"Cos\")\n",
    "plt.plot(vec2,(np.cos(vec2)+np.sin(vec2))/2,'x',label=\"Proximity\")\n",
    "plt.legend(loc='best')"
   ]
  },
  {
   "cell_type": "markdown",
   "metadata": {},
   "source": [
    "5\\. Create a matrix that shows the 10 by 10 multiplication table.\n",
    "\n",
    " * Find the trace of the matrix\n",
    " * Extract the anto-diagonal (this should be ```array([10, 18, 24, 28, 30, 30, 28, 24, 18, 10])```)\n",
    " * Extract the diagnoal offset by 1 upwards (this should be ```array([ 2,  6, 12, 20, 30, 42, 56, 72, 90])```)"
   ]
  },
  {
   "cell_type": "code",
   "execution_count": 6,
   "metadata": {},
   "outputs": [
    {
     "name": "stdout",
     "output_type": "stream",
     "text": [
      "Trace = 385\n",
      "Anto-diagonal = [10, 18, 24, 28, 30, 30, 28, 24, 18, 10]\n",
      "Diagonal offset by 1 upwards = [2, 6, 12, 20, 30, 42, 56, 72, 90]\n"
     ]
    }
   ],
   "source": [
    "u=np.arange(1,11)\n",
    "v=np.copy(u)\n",
    "u=u[:,np.newaxis]\n",
    "mt=u*v\n",
    "\n",
    "print(f\"Trace = {np.trace(mt)}\")\n",
    "ad=[mt[i,len(mt)-1-i] for i in range(len(mt))]\n",
    "print(f\"Anto-diagonal = {ad}\")\n",
    "do=[mt[i,i+1] for i in range(len(mt)-1)]\n",
    "print(f\"Diagonal offset by 1 upwards = {do}\")"
   ]
  },
  {
   "cell_type": "markdown",
   "metadata": {},
   "source": [
    "6\\. Use broadcasting to create a grid of distances\n",
    "\n",
    "Route 66 crosses the following cities in the US: Chicago, Springfield, Saint-Louis, Tulsa, Oklahoma City, Amarillo, Santa Fe, Albuquerque, Flagstaff, Los Angeles\n",
    "The corresponding positions in miles are: 0, 198, 303, 736, 871, 1175, 1475, 1544, 1913, 2448\n",
    "\n",
    "  * Construct a 2D grid of distances among each city along Route 66\n",
    "  * Convert that in km (those savages...)"
   ]
  },
  {
   "cell_type": "code",
   "execution_count": 7,
   "metadata": {},
   "outputs": [
    {
     "name": "stdout",
     "output_type": "stream",
     "text": [
      "[['0' 'Chicago' 'Springfield' 'Saint-Louis' 'Tulsa' 'Oklahoma City'\n",
      "  'Amarillo' 'Santa Fe' 'Albuquerque' 'Flagstaff' 'Los Angeles']\n",
      " ['Chicago' '0' '198' '303' '736' '871' '1175' '1475' '1544' '1913'\n",
      "  '2448']\n",
      " ['Springfield' '198' '0' '105' '538' '673' '977' '1277' '1346' '1715'\n",
      "  '2250']\n",
      " ['Saint-Louis' '303' '105' '0' '433' '568' '872' '1172' '1241' '1610'\n",
      "  '2145']\n",
      " ['Tulsa' '736' '538' '433' '0' '135' '439' '739' '808' '1177' '1712']\n",
      " ['Oklahoma City' '871' '673' '568' '135' '0' '304' '604' '673' '1042'\n",
      "  '1577']\n",
      " ['Amarillo' '1175' '977' '872' '439' '304' '0' '300' '369' '738' '1273']\n",
      " ['Santa Fe' '1475' '1277' '1172' '739' '604' '300' '0' '69' '438' '973']\n",
      " ['Albuquerque' '1544' '1346' '1241' '808' '673' '369' '69' '0' '369'\n",
      "  '904']\n",
      " ['Flagstaff' '1913' '1715' '1610' '1177' '1042' '738' '438' '369' '0'\n",
      "  '535']\n",
      " ['Los Angeles' '2448' '2250' '2145' '1712' '1577' '1273' '973' '904'\n",
      "  '535' '0']]\n",
      "\n",
      " [[   0  198  303  736  871 1175 1475 1544 1913 2448]\n",
      " [ 198    0  105  538  673  977 1277 1346 1715 2250]\n",
      " [ 303  105    0  433  568  872 1172 1241 1610 2145]\n",
      " [ 736  538  433    0  135  439  739  808 1177 1712]\n",
      " [ 871  673  568  135    0  304  604  673 1042 1577]\n",
      " [1175  977  872  439  304    0  300  369  738 1273]\n",
      " [1475 1277 1172  739  604  300    0   69  438  973]\n",
      " [1544 1346 1241  808  673  369   69    0  369  904]\n",
      " [1913 1715 1610 1177 1042  738  438  369    0  535]\n",
      " [2448 2250 2145 1712 1577 1273  973  904  535    0]]\n"
     ]
    }
   ],
   "source": [
    "cities=[['Chicago','Springfield','Saint-Louis','Tulsa','Oklahoma City','Amarillo','Santa Fe','Albuquerque','Flagstaff','Los Angeles']]\n",
    "cities2=[['0'],['Chicago'],['Springfield'],['Saint-Louis'],['Tulsa'],['Oklahoma City'],['Amarillo'],['Santa Fe'],['Albuquerque'],['Flagstaff'],['Los Angeles']]\n",
    "r66=np.array([0,198,303,736,871,1175,1475,1544,1913,2448])\n",
    "r66_2=np.copy(r66)\n",
    "r66_2=r66_2[:,np.newaxis]\n",
    "r66_3=np.concatenate((cities,np.abs(r66-r66_2)),axis=0)\n",
    "r66_4=np.concatenate((cities2,r66_3),axis=1)\n",
    "print(r66_4)\n",
    "\n",
    "# Other visualization, without city's names\n",
    "print(\"\\n\",np.abs(r66-r66_2))"
   ]
  },
  {
   "cell_type": "markdown",
   "metadata": {},
   "source": [
    "7\\. Prime numbers sieve: compute the prime numbers in the 0-N (N=99 to start with) range with a sieve (mask).\n",
    "  * Constract a shape (100,) boolean array, the mask\n",
    "  * Identify the multiples of each number starting from 2 and set accordingly the corresponding mask element\n",
    "  * Apply the mask to obtain an array of ordered prime numbers\n",
    "  * Check the performances (timeit); how does it scale with N?\n",
    "  * Implement the optimization suggested in the [sieve of Eratosthenes](https://en.wikipedia.org/wiki/Sieve_of_Eratosthenes)"
   ]
  },
  {
   "cell_type": "code",
   "execution_count": 8,
   "metadata": {},
   "outputs": [
    {
     "name": "stdout",
     "output_type": "stream",
     "text": [
      "[ 1  2  3  5  7 11 13 17 19 23 29 31 37 41 43 47 53 59 61 67 71 73 79 83\n",
      " 89 97]\n"
     ]
    },
    {
     "data": {
      "text/plain": [
       "Text(0, 0.5, 'Execution time')"
      ]
     },
     "execution_count": 8,
     "metadata": {},
     "output_type": "execute_result"
    },
    {
     "data": {
      "image/png": "[encoded data removed]",
      "text/plain": [
       "<Figure size 432x288 with 1 Axes>"
      ]
     },
     "metadata": {
      "needs_background": "light"
     },
     "output_type": "display_data"
    }
   ],
   "source": [
    "import time\n",
    "numbers=np.arange(100)\n",
    "times=[]\n",
    "for k in range(1,30):\n",
    "    bool_list=np.array([False for i in range(100)])\n",
    "    time1=time.time()\n",
    "    for i in range(2,100*k):\n",
    "        for j in numbers:\n",
    "            if j%i==0 and j!=i:\n",
    "                bool_list[j]=True\n",
    "    time2=time.time()\n",
    "    times.append(time2-time1)\n",
    "print(numbers[bool_list==False])\n",
    "\n",
    "plt.plot([k*100 for k in range(1,30)], times, 'x')\n",
    "plt.xlabel(\"N\")\n",
    "plt.ylabel(\"Execution time\")\n",
    "\n",
    "#Execution time scales linearly with N\n",
    "#It turns out that the algorithm I wrote is the sieve of Eratosthenes"
   ]
  },
  {
   "cell_type": "markdown",
   "metadata": {},
   "source": [
    "**N.B. the following exercises are meant to be solved only if you are familiar with the numpy random library. If not you can skip them (postponed for one of the next exercise sessions)**\n"
   ]
  },
  {
   "cell_type": "markdown",
   "metadata": {},
   "source": [
    "8\\. Diffusion using random walk\n",
    "\n",
    "Consider a simple random walk process: at each step in time, a walker jumps right or left (+1 or -1) with equal probability. The goal is to find the typical distance from the origin of a random walker after a given amount of time. \n",
    "To do that, let's simulate many walkers and create a 2D array with each walker as a raw and the actual time evolution as columns\n",
    "\n",
    "  * Take 1000 walkers and let them walk for 200 steps\n",
    "  * Use randint to create a 2D array of size walkers x steps with values -1 or 1\n",
    "  * Build the actual walking distances for each walker (i.e. another 2D array \"summing on each raw\")\n",
    "  * Take the square of that 2D array (elementwise)\n",
    "  * Compute the mean of the squared distances at each step (i.e. the mean along the columns)\n",
    "  * Plot the average distances (sqrt(distance\\*\\*2)) as a function of time (step)\n",
    "  \n",
    "Did you get what you expected?"
   ]
  },
  {
   "cell_type": "code",
   "execution_count": 9,
   "metadata": {},
   "outputs": [
    {
     "name": "stdout",
     "output_type": "stream",
     "text": [
      "14.209011225275317\n",
      "14.588351517563593\n"
     ]
    }
   ],
   "source": [
    "rw=np.zeros((1000,200))\n",
    "for i in range(1,rw.shape[1]):\n",
    "    for j in range(rw.shape[0]):\n",
    "        q=np.random.randint(2)*2-1\n",
    "        rw[j,i]=rw[j,i-1]+q\n",
    "distancies_walkers_2=rw[:,-1]**2\n",
    "mean_dist=np.sqrt(np.mean(distancies_walkers_2))\n",
    "print(mean_dist)\n",
    "\n",
    "rw_random=np.random.randint(2,size=(1000,200))\n",
    "rw_random=rw_random*2-1\n",
    "distancies=np.sum(rw_random,axis=1)\n",
    "mean_random_dist=np.sqrt(np.mean(distancies**2))\n",
    "print(mean_random_dist)"
   ]
  },
  {
   "cell_type": "code",
   "execution_count": 10,
   "metadata": {},
   "outputs": [
    {
     "data": {
      "text/plain": [
       "Text(0, 0.5, 'mean distance')"
      ]
     },
     "execution_count": 10,
     "metadata": {},
     "output_type": "execute_result"
    },
    {
     "data": {
      "image/png": "[encoded data removed]",
      "text/plain": [
       "<Figure size 432x288 with 1 Axes>"
      ]
     },
     "metadata": {
      "needs_background": "light"
     },
     "output_type": "display_data"
    }
   ],
   "source": [
    "def average_distance(rw,ad):\n",
    "    for i in range(rw.shape[1]):\n",
    "        distancies_walkers_2=rw[:,i]**2\n",
    "        mean_dist=np.sqrt(np.mean(distancies_walkers_2))\n",
    "        ad.append(mean_dist)\n",
    "\n",
    "ad=[]\n",
    "average_distance(rw,ad)\n",
    "plt.plot(range(200),ad,'.')\n",
    "plt.xlabel(\"time\")\n",
    "plt.ylabel(\"mean distance\")"
   ]
  },
  {
   "cell_type": "markdown",
   "metadata": {},
   "source": [
    "Yes, I get what I expected. Firstly because the computation from the evaluation of the particle position and the one using randint() method gives the same results. Then also the plot is satisfying, because what I computed was a diffusion process, in which the mean of the distance of the particle is linearly dependent from a constant D. This is exactly what is shown in the plot."
   ]
  },
  {
   "cell_type": "markdown",
   "metadata": {},
   "source": [
    "9\\. Analyze a data file \n",
    "  * Download the population of hares, lynxes and carrots at the beginning of the last century.\n",
    "    ```python\n",
    "    ! wget https://www.dropbox.com/s/3vigxoqayo389uc/populations.txt\n",
    "    ```\n",
    "\n",
    "  * Check the content by looking within the file\n",
    "  * Load the data (use an appropriate numpy method) into a 2D array\n",
    "  * Create arrays out of the columns, the arrays being (in order): *year*, *hares*, *lynxes*, *carrots* \n",
    "  * Plot the 3 populations over the years\n",
    "  * Compute the main statistical properties of the dataset (mean, std, correlations, etc.)\n",
    "  * Which species has the highest population each year?\n",
    "\n",
    "Do you feel there is some evident correlation here? [Studies](https://www.enr.gov.nt.ca/en/services/lynx/lynx-snowshoe-hare-cycle) tend to believe so."
   ]
  },
  {
   "cell_type": "code",
   "execution_count": 13,
   "metadata": {},
   "outputs": [
    {
     "data": {
      "image/png": "[encoded data removed]",
      "text/plain": [
       "<Figure size 432x288 with 1 Axes>"
      ]
     },
     "metadata": {
      "needs_background": "light"
     },
     "output_type": "display_data"
    },
    {
     "data": {
      "image/png": "[encoded data removed]",
      "text/plain": [
       "<Figure size 432x288 with 1 Axes>"
      ]
     },
     "metadata": {
      "needs_background": "light"
     },
     "output_type": "display_data"
    },
    {
     "data": {
      "image/png": "[encoded data removed]",
      "text/plain": [
       "<Figure size 432x288 with 1 Axes>"
      ]
     },
     "metadata": {
      "needs_background": "light"
     },
     "output_type": "display_data"
    },
    {
     "data": {
      "image/png": "[encoded data removed]",
      "text/plain": [
       "<Figure size 432x288 with 1 Axes>"
      ]
     },
     "metadata": {
      "needs_background": "light"
     },
     "output_type": "display_data"
    },
    {
     "name": "stdout",
     "output_type": "stream",
     "text": [
      "mean population of hares : 34081.0\n",
      "std of population of hares : 20897.9\n",
      "mean population of lynxes : 20166.7\n",
      "std of population of lynxes : 16254.6\n",
      "mean population of carrots : 42400.0\n",
      "std of population of carrots : 3322.5\n",
      "\n",
      "Correlation hares-lynxes : 0.07\n",
      "Correlation hares-carrots : -0.02\n",
      "Correlation lynxes-carrots : -0.68\n"
     ]
    }
   ],
   "source": [
    "data=np.loadtxt(\"populations.txt\")#,allow_pickle=True)\n",
    "year, hares, lynxes, carrots = data[:,0], data[:,1], data[:,2], data[:,3]\n",
    "\n",
    "plt.plot(year,hares,'x')\n",
    "plt.xlabel(\"year\")\n",
    "plt.ylabel(\"hares\")\n",
    "plt.show()\n",
    "plt.plot(year,lynxes,'x')\n",
    "plt.xlabel(\"year\")\n",
    "plt.ylabel(\"lynxes\")\n",
    "plt.show()\n",
    "plt.plot(year,carrots,'x')\n",
    "plt.xlabel(\"year\")\n",
    "plt.ylabel(\"carrots\")\n",
    "plt.show()\n",
    "\n",
    "# here is shown a (little confusing) plot which however shows well the delay from hares-population increase and lynxes-population increase\n",
    "plt.plot(year,hares,'x',label='hares')\n",
    "plt.plot(year,lynxes,'o',label='lynxes')\n",
    "plt.plot(year,carrots,'s',label='carrots')\n",
    "plt.xlabel(\"year\")\n",
    "plt.legend(loc='best')\n",
    "plt.show()\n",
    "\n",
    "print(\"mean population of hares : %.1f\" %np.mean(hares))\n",
    "print(\"std of population of hares : %.1f\" %np.std(hares))\n",
    "print(\"mean population of lynxes : %.1f\" %np.mean(lynxes))\n",
    "print(\"std of population of lynxes : %.1f\" %np.std(lynxes))\n",
    "print(\"mean population of carrots : %.1f\" %np.mean(carrots))\n",
    "print(\"std of population of carrots : %.1f\" %np.std(carrots))\n",
    "\n",
    "corr_matrix_hl=np.corrcoef(hares,lynxes)\n",
    "corr_matrix_hc=np.corrcoef(hares,carrots)\n",
    "corr_matrix_lc=np.corrcoef(lynxes,carrots)\n",
    "print(\"\\nCorrelation hares-lynxes : %.2f\" %corr_matrix_hl[1,0])\n",
    "print(\"Correlation hares-carrots : %.2f\" %corr_matrix_hc[1,0])\n",
    "print(\"Correlation lynxes-carrots : %.2f\" %corr_matrix_lc[1,0])"
   ]
  },
  {
   "cell_type": "markdown",
   "metadata": {},
   "source": [
    "From the plots we observe a clear dependency from hares and lynxes population, and also a less clear dependence from carrots and the two species of animals population. However, when we compute the Pearson correlation coefficient between hares and lynxes population, it does not show a strong dependency. This may be due to the fact that lynxes population increase approximately when hares population has come to his maximum, so the two trends are a little out of phase. Instead, lynxes and carrots population show a high negative correlation coefficient. This is due to the fact that lynxes number increase when there are lots of hares, which eat lots of carrots and this has the effect of decreasing the carrots population right when it's increasing the number of lynxes."
   ]
  }
 ],
 "metadata": {
  "kernelspec": {
   "display_name": "Python 3",
   "language": "python",
   "name": "python3"
  },
  "language_info": {
   "codemirror_mode": {
    "name": "ipython",
    "version": 3
   },
   "file_extension": ".py",
   "mimetype": "text/x-python",
   "name": "python",
   "nbconvert_exporter": "python",
   "pygments_lexer": "ipython3",
   "version": "3.7.6"
  }
 },
 "nbformat": 4,
 "nbformat_minor": 2
}
