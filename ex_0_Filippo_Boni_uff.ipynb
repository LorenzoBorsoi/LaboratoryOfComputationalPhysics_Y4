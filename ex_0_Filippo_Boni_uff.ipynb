{
 "cells": [
  {
   "cell_type": "markdown",
   "id": "5f98c5c7",
   "metadata": {},
   "source": [
    "## 1. The MickeyMouse problem"
   ]
  },
  {
   "cell_type": "markdown",
   "id": "89e71409",
   "metadata": {},
   "source": [
    "a) Write a program that prints the numbers from 1 to 100. But for multiples of three print Mickey instead of the number and for the multiples of five print Mouse. For numbers which are multiples of both three and five print MickeyMouse\n",
    "\n",
    "b) Put the result in a tuple and substitute Mickey with Donald and Mouse with Duck"
   ]
  },
  {
   "cell_type": "code",
   "execution_count": 3,
   "id": "e97e8daf",
   "metadata": {},
   "outputs": [
    {
     "name": "stdout",
     "output_type": "stream",
     "text": [
      "<class 'tuple'>\n",
      "Numbers from 1 to 100:\n",
      "1\n",
      "2\n",
      "mickey\n",
      "4\n",
      "mouse\n",
      "mickey\n",
      "7\n",
      "8\n",
      "mickey\n",
      "mouse\n",
      "11\n",
      "mickey\n",
      "13\n",
      "14\n",
      "mickey mouse\n",
      "16\n",
      "17\n",
      "mickey\n",
      "19\n",
      "mouse\n",
      "mickey\n",
      "22\n",
      "23\n",
      "mickey\n",
      "mouse\n",
      "26\n",
      "mickey\n",
      "28\n",
      "29\n",
      "mickey mouse\n",
      "31\n",
      "32\n",
      "mickey\n",
      "34\n",
      "mouse\n",
      "mickey\n",
      "37\n",
      "38\n",
      "mickey\n",
      "mouse\n",
      "41\n",
      "mickey\n",
      "43\n",
      "44\n",
      "mickey mouse\n",
      "46\n",
      "47\n",
      "mickey\n",
      "49\n",
      "mouse\n",
      "mickey\n",
      "52\n",
      "53\n",
      "mickey\n",
      "mouse\n",
      "56\n",
      "mickey\n",
      "58\n",
      "59\n",
      "mickey mouse\n",
      "61\n",
      "62\n",
      "mickey\n",
      "64\n",
      "mouse\n",
      "mickey\n",
      "67\n",
      "68\n",
      "mickey\n",
      "mouse\n",
      "71\n",
      "mickey\n",
      "73\n",
      "74\n",
      "mickey mouse\n",
      "76\n",
      "77\n",
      "mickey\n",
      "79\n",
      "mouse\n",
      "mickey\n",
      "82\n",
      "83\n",
      "mickey\n",
      "mouse\n",
      "86\n",
      "mickey\n",
      "88\n",
      "89\n",
      "mickey mouse\n",
      "91\n",
      "92\n",
      "mickey\n",
      "94\n",
      "mouse\n",
      "mickey\n",
      "97\n",
      "98\n",
      "mickey\n",
      "mouse\n",
      "\n",
      "\n",
      "First Tuple:\n",
      "(1, 2, 'mickey', 4, 'mouse', 'mickey', 7, 8, 'mickey', 'mouse', 11, 'mickey', 13, 14, 'mickey mouse', 16, 17, 'mickey', 19, 'mouse', 'mickey', 22, 23, 'mickey', 'mouse', 26, 'mickey', 28, 29, 'mickey mouse', 31, 32, 'mickey', 34, 'mouse', 'mickey', 37, 38, 'mickey', 'mouse', 41, 'mickey', 43, 44, 'mickey mouse', 46, 47, 'mickey', 49, 'mouse', 'mickey', 52, 53, 'mickey', 'mouse', 56, 'mickey', 58, 59, 'mickey mouse', 61, 62, 'mickey', 64, 'mouse', 'mickey', 67, 68, 'mickey', 'mouse', 71, 'mickey', 73, 74, 'mickey mouse', 76, 77, 'mickey', 79, 'mouse', 'mickey', 82, 83, 'mickey', 'mouse', 86, 'mickey', 88, 89, 'mickey mouse', 91, 92, 'mickey', 94, 'mouse', 'mickey', 97, 98, 'mickey', 'mouse')\n",
      "\n",
      "\n",
      "<class 'list'>\n",
      "\n",
      "\n",
      "Second Tuple:\n",
      "(1, 2, 'donald', 4, 'duck', 'donald', 7, 8, 'donald', 'duck', 11, 'donald', 13, 14, 'donald duck', 16, 17, 'donald', 19, 'duck', 'donald', 22, 23, 'donald', 'duck', 26, 'donald', 28, 29, 'donald duck', 31, 32, 'donald', 34, 'duck', 'donald', 37, 38, 'donald', 'duck', 41, 'donald', 43, 44, 'donald duck', 46, 47, 'donald', 49, 'duck', 'donald', 52, 53, 'donald', 'duck', 56, 'donald', 58, 59, 'donald duck', 61, 62, 'donald', 64, 'duck', 'donald', 67, 68, 'donald', 'duck', 71, 'donald', 73, 74, 'donald duck', 76, 77, 'donald', 79, 'duck', 'donald', 82, 83, 'donald', 'duck', 86, 'donald', 88, 89, 'donald duck', 91, 92, 'donald', 94, 'duck', 'donald', 97, 98, 'donald', 'duck')\n"
     ]
    }
   ],
   "source": [
    "a=() #definition of the tuple\n",
    "print(type(a))\n",
    "\n",
    "print(\"Numbers from 1 to 100:\")\n",
    "\n",
    "for i in range(1,101): \n",
    "    \n",
    "    if i%3==0 and i%5==0: #condition of divisibility for 3 and for 5\n",
    "        print(\"mickey mouse\") #result\n",
    "        b=(\"mickey mouse\",)   \n",
    "        a=a+b #putting the result in a tuple throught the definition of b\n",
    "        \n",
    "    elif i%3==0: #condition of divisibility for 3 \n",
    "        print(\"mickey\") #result\n",
    "        b=(\"mickey\",)\n",
    "        a=a+b #putting the result in a tuple throught the definition of b\n",
    "        \n",
    "    elif i%5==0: #condition of divisibility for 3 \n",
    "        print(\"mouse\") #result\n",
    "        b=(\"mouse\",)\n",
    "        a=a+b  #putting the result in a tuple throught the definition of b\n",
    "        \n",
    "    else:\n",
    "        print(i) #result\n",
    "        b=(i,) \n",
    "        a=a+b   #putting the result in a tuple throught the definition of b\n",
    "\n",
    "print('\\n')\n",
    "print('First Tuple:')  \n",
    "\n",
    "print(a)\n",
    "\n",
    "print('\\n')\n",
    "lst=list(a)  #trasformation of the tuple in a list\n",
    "\n",
    "print(type(lst))\n",
    "\n",
    "print('\\n')\n",
    "for i in range(0,len(lst)): #substituting the elements of the list with the required ones\n",
    "    \n",
    "    if lst[i]==\"mickey\": \n",
    "        lst[i]=\"donald\"\n",
    "        \n",
    "    elif lst[i]==\"mouse\":\n",
    "        lst[i]=\"duck\"\n",
    "        \n",
    "    elif lst[i]==\"mickey mouse\":\n",
    "        lst[i]=\"donald duck\"\n",
    "\n",
    "\n",
    "print('Second Tuple:')\n",
    "\n",
    "a=tuple(lst)  #retrasformation in tuple\n",
    "\n",
    "print(a)"
   ]
  },
  {
   "cell_type": "markdown",
   "id": "9a540352",
   "metadata": {},
   "source": [
    "### Explnation of the solution"
   ]
  },
  {
   "cell_type": "markdown",
   "id": "5a976d69",
   "metadata": {},
   "source": [
    "1. By definition, if $a\\in N$ is multiple of $b\\in N$ we have that $\\frac{a}{b}$ has rest $r=0$. So I used this fact in the condition to recognize the numbers to substitute with the required words. If none of the conditions is satisfied than the code prints a number. The firts condition is the one which finds numbers multiples of 3 and 5 because in the opposite case the code would recognize as multiple of 3 OR 5 numbers that are multiples of 3 AND 5.  \n",
    "\n",
    "\n",
    "2. The for uses the tuple converted to a list and substitutes the elements of the list with the requi"
   ]
  },
  {
   "cell_type": "markdown",
   "id": "3f5e5d59",
   "metadata": {},
   "source": [
    "## 2. The swap function"
   ]
  },
  {
   "cell_type": "markdown",
   "id": "4e57cad2",
   "metadata": {},
   "source": [
    "Write a function that swap the values of two input variables x and y (whatever the type). Try to do that also without a temporary variable"
   ]
  },
  {
   "cell_type": "code",
   "execution_count": 4,
   "id": "0fdbd68f",
   "metadata": {},
   "outputs": [
    {
     "name": "stdout",
     "output_type": "stream",
     "text": [
      "insert the value of x:1\n",
      "insert the value of y:2\n",
      "the values of x and y are:1,2\n",
      "\n",
      "\n",
      "the swapping function has been activated\n",
      "the values of x and y are:2,1\n",
      "\n",
      "\n",
      "insert the value of x:3\n",
      "insert the value of y:4\n",
      "\n",
      "\n",
      "the swapping function has been activated\n",
      "the values of x and y are:4,3\n"
     ]
    }
   ],
   "source": [
    "x=input('insert the value of x:') #insert the values of the variables\n",
    "y=input('insert the value of y:')\n",
    "\n",
    "print(f'the values of x and y are:{x},{y}')\n",
    "print('\\n')\n",
    "def swap(x,y): #definition of the function\n",
    "    z=x  \n",
    "    x=y\n",
    "    y=z\n",
    "    return x,y\n",
    "\n",
    "x,y=swap(x,y) #call of the function\n",
    "\n",
    "print('the swapping function has been activated')      \n",
    "      \n",
    "print(f'the values of x and y are:{x},{y}')\n",
    "print('\\n')\n",
    "\n",
    "##WITH A GLOBAL VARIABLES\n",
    "\n",
    "x=int(input('insert the value of x:')) #insert the values of the variables\n",
    "y=int(input('insert the value of y:'))\n",
    "\n",
    "def swap(x,y): #definition of the function\n",
    "    x=x+y  \n",
    "    y=x-y\n",
    "    x=x-y\n",
    "    return x,y\n",
    "\n",
    "x,y=swap(x,y) #call of the function\n",
    "print('\\n')\n",
    "print('the swapping function has been activated')      \n",
    "      \n",
    "print(f'the values of x and y are:{x},{y}')\n",
    "\n",
    "\n",
    "\n"
   ]
  },
  {
   "cell_type": "markdown",
   "id": "d03a412a",
   "metadata": {},
   "source": [
    "### Explanation of the solution"
   ]
  },
  {
   "cell_type": "markdown",
   "id": "a8069363",
   "metadata": {},
   "source": [
    "At first the code asks to type the variables that we want to swap. The function definies internally a new variable $z$ which stores the value of $x$. Then it assigns the value of $y$ to $x$ and the value of $z$ to $y$. \n",
    "\n",
    "In order to use global variables the function uses a series of adding and substracting operations without defining variables that are defined only within the function. It is easy to see that with that series."
   ]
  },
  {
   "cell_type": "markdown",
   "id": "a7cfad64",
   "metadata": {},
   "source": [
    "## 3. Computing the distance"
   ]
  },
  {
   "cell_type": "markdown",
   "id": "c47868d4",
   "metadata": {},
   "source": [
    "Write a function that calculates and returns the euclidean distance between two points u and v, where u and v are both 2-tuples (x,y). For example, if u=(3,0) and v=(0,4), the function should return 5"
   ]
  },
  {
   "cell_type": "code",
   "execution_count": null,
   "id": "96a9dc6f",
   "metadata": {},
   "outputs": [],
   "source": [
    "u1=input('insert the first component of u:') #insert the components\n",
    "u2=input('insert the second component of u:')\n",
    "v1=input('insert the first component of v:')\n",
    "v2=input('insert the second component of v:')\n",
    "\n",
    "u=(int(u1),int(u2)) #definition of the vectors using tuples\n",
    "v=(int(v1),int(v2))\n",
    "\n",
    "def euclid(u,v): #definition of the function\n",
    "    u_ls=list(u) #trasformation of tuples into lists\n",
    "    v_ls=list(v)\n",
    "    eu=(((u_ls[0]-v_ls[0])**2)+((u_ls[1]-v_ls[1])**2))**(1/2) #euclidian distance definition\n",
    "    return eu\n",
    "\n",
    "print(f'the euclidian distance between u and v is: {euclid(u,v)}') #call of the function\n"
   ]
  },
  {
   "cell_type": "markdown",
   "id": "a88e1fa4",
   "metadata": {},
   "source": [
    "### Explanation of the solution "
   ]
  },
  {
   "cell_type": "markdown",
   "id": "50bbf09e",
   "metadata": {},
   "source": [
    "At first the code asks to type the components of the vectors we want to use. Than it put them in two tuples, turning them from string into integers. The function turns the tuples into lists. Using the elements of the lists the functions applies the definition of the euclidian distance."
   ]
  },
  {
   "cell_type": "markdown",
   "id": "13233c48",
   "metadata": {},
   "source": [
    "## 4. Counting letters"
   ]
  },
  {
   "cell_type": "markdown",
   "id": "38214125",
   "metadata": {},
   "source": [
    "Write a program to calculate the number of times each character occurs in a given string s. Ignore differneces in capitalization"
   ]
  },
  {
   "cell_type": "code",
   "execution_count": null,
   "id": "ae98c01b",
   "metadata": {
    "scrolled": false
   },
   "outputs": [],
   "source": [
    "s=\"Write a program that prints the numbers from 1 to 100. \\\n",
    "But for multiples of three print Mickey instead of the number and for the multiples of five print Mouse. \\\n",
    "For numbers which are multiples of both three and five print MickeyMouse\"\n",
    "\n",
    "characters = [x for x in s] #definition of the list of the character of the sentence\n",
    "print(characters) #check the list values\n",
    "\n",
    "for i in range(len(characters)): #for loop to fix \n",
    "    n=0 #definition of the variable needed to count\n",
    "    x=len(characters) \n",
    "    \n",
    "    for j in range(len(characters)): #for loop to find the repetitions\n",
    "        if characters[j]==characters[i] or characters[j].upper()==characters[i] or characters[j].lower()==characters[i]: #condition to update the counter\n",
    "            n=n+1\n",
    "            if j<x: #if loop to find the position in which a character appears for the first time\n",
    "                x=j \n",
    "                \n",
    "    if i==x: #printing the character and how many time it appears (the condition permits to print it when it is at the position in which it appears for the first time)\n",
    "            print(characters[i],n)\n",
    "      \n",
    "    "
   ]
  },
  {
   "cell_type": "markdown",
   "id": "a51e4123",
   "metadata": {},
   "source": [
    "### explanation of the solution"
   ]
  },
  {
   "cell_type": "markdown",
   "id": "9e610d9b",
   "metadata": {},
   "source": [
    "The first thing to do is creating a list of the characters of the sentence in order to acces to each element of it separately. Concateneting two for loops permits to fix a character, check if there are repetitions of it in the sentence and update the value that counts the repetitions. The first if statement permits also to ignore differneces in capitalization. The if statement in it permits to find the position in which a character appears for the first time and with the last if statement it is possible to not print multiple time the same solution."
   ]
  },
  {
   "cell_type": "markdown",
   "id": "bb3fcab9",
   "metadata": {},
   "source": [
    "## 5. Isolating the unique"
   ]
  },
  {
   "cell_type": "markdown",
   "id": "650090a5",
   "metadata": {},
   "source": [
    "Write a function that determines and count the unique numbers in the list l\n",
    "\n",
    "l = [36, 45, 58, 3, 74, 96, 64, 45, 31, 10, 24, 19, 33, 86, 99, 18, 63, 70, 85,\n",
    " 85, 63, 47, 56, 42, 70, 84, 88, 55, 20, 54, 8, 56, 51, 79, 81, 57, 37, 91,\n",
    " 1, 84, 84, 36, 66, 9, 89, 50, 42, 91, 50, 95, 90, 98, 39, 16, 82, 31, 92, 41,\n",
    " 45, 30, 66, 70, 34, 85, 94, 5, 3, 36, 72, 91, 84, 34, 87, 75, 53, 51, 20, 89, 51, 20]\n"
   ]
  },
  {
   "cell_type": "code",
   "execution_count": 11,
   "id": "eed01550",
   "metadata": {},
   "outputs": [
    {
     "name": "stdout",
     "output_type": "stream",
     "text": [
      "numbers and how many times they appear:\n",
      "36 3\n",
      "45 3\n",
      "58 1\n",
      "3 2\n",
      "74 1\n",
      "96 1\n",
      "64 1\n",
      "31 2\n",
      "10 1\n",
      "24 1\n",
      "19 1\n",
      "33 1\n",
      "86 1\n",
      "99 1\n",
      "18 1\n",
      "63 2\n",
      "70 3\n",
      "85 3\n",
      "47 1\n",
      "56 2\n",
      "42 2\n",
      "84 4\n",
      "88 1\n",
      "55 1\n",
      "20 3\n",
      "54 1\n",
      "8 1\n",
      "51 3\n",
      "79 1\n",
      "81 1\n",
      "57 1\n",
      "37 1\n",
      "91 3\n",
      "1 1\n",
      "66 2\n",
      "9 1\n",
      "89 2\n",
      "50 2\n",
      "95 1\n",
      "90 1\n",
      "98 1\n",
      "39 1\n",
      "16 1\n",
      "82 1\n",
      "92 1\n",
      "41 1\n",
      "30 1\n",
      "34 2\n",
      "94 1\n",
      "5 1\n",
      "72 1\n",
      "87 1\n",
      "75 1\n",
      "53 1\n",
      "\n",
      "\n",
      "the unique numbers are:[58, 74, 96, 64, 10, 24, 19, 33, 86, 99, 18, 47, 88, 55, 54, 8, 79, 81, 57, 37, 1, 9, 95, 90, 98, 39, 16, 82, 92, 41, 30, 94, 5, 72, 87, 75, 53] and they are:37\n",
      "\n",
      "\n",
      "the unique numbers are:[36, 45, 58, 3, 74, 96, 64, 31, 10, 24, 19, 33, 86, 99, 18, 63, 70, 85, 47, 56, 42, 84, 88, 55, 20, 54, 8, 51, 79, 81, 57, 37, 91, 1, 66, 9, 89, 50, 95, 90, 98, 39, 16, 82, 92, 41, 30, 34, 94, 5, 72, 87, 75, 53] and they are:54\n"
     ]
    }
   ],
   "source": [
    "l = [36, 45, 58, 3, 74, 96, 64, 45, 31, 10, 24, 19, 33, 86, 99, 18, 63, 70, 85,\n",
    " 85, 63, 47, 56, 42, 70, 84, 88, 55, 20, 54, 8, 56, 51, 79, 81, 57, 37, 91,\n",
    " 1, 84, 84, 36, 66, 9, 89, 50, 42, 91, 50, 95, 90, 98, 39, 16, 82, 31, 92, 41,\n",
    " 45, 30, 66, 70, 34, 85, 94, 5, 3, 36, 72, 91, 84, 34, 87, 75, 53, 51, 20, 89, 51, 20]\n",
    "\n",
    "def unique(l): #definition of the function\n",
    "    \n",
    "    m=[]\n",
    "    print('numbers and how many times they appear:')\n",
    "    \n",
    "    for i in range(len(l)):\n",
    "        n=0\n",
    "        x=len(l)\n",
    "        \n",
    "        for j in range(len(l)):\n",
    "            if l[j]==l[i]:\n",
    "                n=n+1\n",
    "                if j<x: #if loop to find the position in which a character appears for the first time\n",
    "                    x=j \n",
    "        \n",
    "        if i==x: #printing the character and how many time it appears (the condition permits to print it when it is at the position in which it appears for the first time)\n",
    "            print(l[i],n)\n",
    "      \n",
    "        if n==1:\n",
    "            m.append(l[i])\n",
    "    print('\\n')\n",
    "    print(f'the unique numbers are:{m} and they are:{len(m)}')\n",
    "\n",
    "    \n",
    "unique(l) # call of the function\n",
    "\n",
    "print('\\n')\n",
    "\n",
    "def unique(l): #definition of the function\n",
    "    n=[]\n",
    "    \n",
    "    for i in range (len(l)): #appending an element of l to n\n",
    "        n.append(l[i])\n",
    "        \n",
    "        for j in range(len(n)-1): \n",
    "            if l[i]==n[j]: #checking \n",
    "                n.pop()\n",
    "    \n",
    "    print(f'the unique numbers are:{n} and they are:{len(n)}')\n",
    "                \n",
    "unique(l)    \n"
   ]
  },
  {
   "cell_type": "markdown",
   "id": "c9514e87",
   "metadata": {},
   "source": [
    "### explanation of the solution"
   ]
  },
  {
   "cell_type": "markdown",
   "id": "07358402",
   "metadata": {},
   "source": [
    "Since the test of the exercise is not explicit, the program offers two solutions:\n",
    "\n",
    "1.Prints the numbers with just one repetition.\n",
    "The program counts how many times a number appears(n), using the algorithm presented in the previous exercise. It creates a list with numbers characterized by n=1 and then it prints the list and its length.\n",
    "\n",
    "2.Prints numbers of the list just once.\n",
    "The program append the elements of the list in a new list in the first for loop. The second for loop checks if the element added in the new list is a repetition in it. If so, it deletes the element.\n"
   ]
  },
  {
   "cell_type": "markdown",
   "id": "ad633a6f",
   "metadata": {},
   "source": [
    "## 6. Combination of functions"
   ]
  },
  {
   "cell_type": "markdown",
   "id": "4974d838",
   "metadata": {},
   "source": [
    "Write two functions - one that returns the square of a number, and one that returns the cube. Now write a third function that returns the number raised to the 6th power using the two previous functions."
   ]
  },
  {
   "cell_type": "code",
   "execution_count": null,
   "id": "003d904a",
   "metadata": {},
   "outputs": [],
   "source": [
    "x=int(input('type the value of the variable x:'))#insert the value of the variable\n",
    "\n",
    "def square(x): #definition of square function\n",
    "    return x**2\n",
    "\n",
    "def cube(x):   #definition of cube function\n",
    "    return x**3\n",
    "\n",
    "def ses(x): #definition of the function as cobination of the previous ones\n",
    "    return square(cube(x))\n",
    "\n",
    "print(f'the square of x:{square(x)}') #results\n",
    "print(f'the cube of x:{cube(x)}')\n",
    "print(f'the 6th power of x:{ses(x)}')\n",
    "\n"
   ]
  },
  {
   "cell_type": "markdown",
   "id": "a734e827",
   "metadata": {},
   "source": [
    "### explanation of the solution"
   ]
  },
  {
   "cell_type": "markdown",
   "id": "5a9f9494",
   "metadata": {},
   "source": [
    "At first the program asks to type the value of the variable. The definition of the first two functions is obvious. The third function is the combination of the firt ones and it uses the properties of the power."
   ]
  },
  {
   "cell_type": "markdown",
   "id": "1def2e83",
   "metadata": {},
   "source": [
    "## 7. Cubes"
   ]
  },
  {
   "cell_type": "markdown",
   "id": "8e474cd6",
   "metadata": {},
   "source": [
    "Create a list of the cubes of x for x in [0, 10] using:"
   ]
  },
  {
   "cell_type": "code",
   "execution_count": null,
   "id": "0855460d",
   "metadata": {},
   "outputs": [],
   "source": [
    "ls1=[] #definition of the first list\n",
    "\n",
    "for i in range(0,11): #list with for loop\n",
    "    ls1.append(i**3)\n",
    "\n",
    "ls2=[i**3 for i in range(0,11)] #definition of the second list, with list comprehension\n",
    "\n",
    "\n",
    "print(f'the list created with the for loop is:{ls1}') #results\n",
    "print(f'the list created with the list comprehension:{ls2}')"
   ]
  },
  {
   "cell_type": "markdown",
   "id": "4d5db36d",
   "metadata": {},
   "source": [
    "## 8. Nested list comprehension"
   ]
  },
  {
   "cell_type": "markdown",
   "id": "aec06aa4",
   "metadata": {},
   "source": [
    "A Pythagorean triple is an integer solution to the Pythagorean theorem $a^2+b^2=c^2$. The first Pythagorean triple is (3,4,5). Find and put in a tuple all unique Pythagorean triples for the positive integers a, b and c less than 100."
   ]
  },
  {
   "cell_type": "code",
   "execution_count": null,
   "id": "e2b31daf",
   "metadata": {},
   "outputs": [],
   "source": [
    "pitagoric_tuple=(()) # definition of the tuple which will contain the triples\n",
    "\n",
    "for a in range(1,100): #for loop with a range of values\n",
    "    for b in range(1,100): #for loop with b range of values\n",
    "        if b>a: #condition to order the elements of the triples \n",
    "            s=a*a+b*b\n",
    "            c=s**(1/2) #calculation of the element c\n",
    "            r=c*10\n",
    "            if r%10==0 and c<100: #condition made to choose just whole number c values\n",
    "                pitagoric_triplet=((a,b,int(c)),) #creation of the triples\n",
    "                pitagoric_tuple=pitagoric_tuple+pitagoric_triplet #addind triples to tuples\n",
    "\n",
    "print(pitagoric_tuple)\n",
    "                "
   ]
  },
  {
   "cell_type": "markdown",
   "id": "eafae767",
   "metadata": {},
   "source": [
    "### explantion of the solution"
   ]
  },
  {
   "cell_type": "markdown",
   "id": "5d37154f",
   "metadata": {},
   "source": [
    "Organizing the triples in tuples is better in term of organisation of the output. The loops of $a$ and $b$ fixes the range of their permitted values ($a,b<100$). The program uses the definition to compute $c$. The second if loop is a way to recognasize the whole numbers. Indeed if $x\\in N$ we have that $(x\\cdot10)/10$ has rest $0$. This is not true for numbers with comma. This condition is possible also because we are working with numbers $<100$. The last lines of the code create a tuple which represents the triples and they add it to the main tuple."
   ]
  },
  {
   "cell_type": "markdown",
   "id": "9f22760d",
   "metadata": {},
   "source": [
    "## 9. Normalization"
   ]
  },
  {
   "cell_type": "code",
   "execution_count": 4,
   "id": "45f2d480",
   "metadata": {},
   "outputs": [
    {
     "name": "stdout",
     "output_type": "stream",
     "text": [
      "the norm of the tuple is:180.68204116624318\n",
      "the normalized tuple is:(0.049811259281265355, 0.19371045276047638, 0.4870434240834835, 0.3486788149688575, 0.553458436458504, 0.2877983869584221, 0.11622627165628584, 0.06641501237502048, 0.2379871276771567, 0.37081715242719765)\n"
     ]
    }
   ],
   "source": [
    "u=(9,35,88,63,100,52,21,12,43,67) #starting tuple\n",
    "\n",
    "def norm(x): #definition of the normalisation fun\n",
    "    y=list(x) #trasforming the tuple into a list\n",
    "    M=0 #initializing the variable \n",
    "    for i in range(len(y)): \n",
    "        M=M+y[i]*y[i]\n",
    "    \n",
    "    M=M**(1/2)\n",
    "    print(f'the norm of the tuple is:{M}') \n",
    "    y=[i/M for i in y] #normalizing the values of the list\n",
    "    t=tuple(y) # conversion of the list into a tuple\n",
    "    return t\n",
    "\n",
    "print(f'the normalized tuple is:{norm(u)}') #result\n"
   ]
  },
  {
   "cell_type": "markdown",
   "id": "8cea088f",
   "metadata": {},
   "source": [
    "### Explanation of the solution"
   ]
  },
  {
   "cell_type": "markdown",
   "id": "07465dac",
   "metadata": {},
   "source": [
    "The program defines a tuple at first, and than a function of normalization. Throught a for loop and an if loop is easy to find the maximum value $M$ of the tuple (after turning it into a list). The last thing to do is dividing the elements of the tuple by $M$."
   ]
  }
 ],
 "metadata": {
  "kernelspec": {
   "display_name": "Python 3",
   "language": "python",
   "name": "python3"
  },
  "language_info": {
   "codemirror_mode": {
    "name": "ipython",
    "version": 3
   },
   "file_extension": ".py",
   "mimetype": "text/x-python",
   "name": "python",
   "nbconvert_exporter": "python",
   "pygments_lexer": "ipython3",
   "version": "3.8.8"
  }
 },
 "nbformat": 4,
 "nbformat_minor": 5
}
