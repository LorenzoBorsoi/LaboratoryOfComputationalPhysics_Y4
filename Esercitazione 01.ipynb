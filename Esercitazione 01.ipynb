{
 "cells": [
  {
   "cell_type": "markdown",
   "id": "ef1d8caa",
   "metadata": {},
   "source": [
    "# Esercizio 1\n",
    "\n",
    "### Write the following as a list comprehension\n",
    "\n"
   ]
  },
  {
   "cell_type": "code",
   "execution_count": 1,
   "id": "bd5befc1",
   "metadata": {},
   "outputs": [
    {
     "name": "stdout",
     "output_type": "stream",
     "text": [
      "[(0, 0), (0, 1), (0, 2), (0, 3), (1, 0), (1, 1), (1, 2), (1, 3), (2, 0), (2, 1), (2, 2), (2, 3)]\n"
     ]
    }
   ],
   "source": [
    "#1) exercise\n",
    "ans = []\n",
    "for i in range(3):\n",
    "    for j in range(4):\n",
    "        ans.append((i, j))\n",
    "print (ans)\n",
    "\n"
   ]
  },
  {
   "cell_type": "code",
   "execution_count": 2,
   "id": "28196c6a",
   "metadata": {},
   "outputs": [
    {
     "name": "stdout",
     "output_type": "stream",
     "text": [
      "[(0, 0), (0, 1), (0, 2), (0, 3), (1, 0), (1, 1), (1, 2), (1, 3), (2, 0), (2, 1), (2, 2), (2, 3)]\n"
     ]
    }
   ],
   "source": [
    "# 1) answer\n",
    "ans1_comprhension = [(i, j) for i in range(3) for j in range(4)]\n",
    "print(ans1_comprhension)"
   ]
  },
  {
   "cell_type": "code",
   "execution_count": 3,
   "id": "d328cfc9",
   "metadata": {},
   "outputs": [
    {
     "name": "stdout",
     "output_type": "stream",
     "text": [
      "[0, 4, 16]\n"
     ]
    }
   ],
   "source": [
    "#2) exercise\n",
    "ans = map(lambda x: x*x, filter(lambda x: x%2 == 0, range(5)))\n",
    "print (list(ans))"
   ]
  },
  {
   "cell_type": "code",
   "execution_count": 4,
   "id": "250d9e46",
   "metadata": {},
   "outputs": [
    {
     "name": "stdout",
     "output_type": "stream",
     "text": [
      "[0, 4, 16]\n"
     ]
    }
   ],
   "source": [
    "# 2) answer\n",
    "ans2_comprhension = [x**2 for x in range(5) if x%2 == 0]\n",
    "print(ans2_comprhension)"
   ]
  },
  {
   "cell_type": "markdown",
   "id": "4bca151d",
   "metadata": {},
   "source": [
    "# Esercizio 2\n",
    "### Convert the following function into a pure function with no global variables or side effects"
   ]
  },
  {
   "cell_type": "code",
   "execution_count": 6,
   "id": "3ed4d8a4",
   "metadata": {},
   "outputs": [
    {
     "name": "stdout",
     "output_type": "stream",
     "text": [
      "alist(before function):  [1, 2, 3]\n",
      "return of the function:  [1, 2, 3, 0, 1, 2, 3, 4]\n",
      "alist(after function):  [1, 2, 3, 0, 1, 2, 3, 4]\n"
     ]
    }
   ],
   "source": [
    "# exercise\n",
    "x = 5\n",
    "def f(alist):\n",
    "    for i in range(x):\n",
    "         alist.append(i)\n",
    "    return alist\n",
    "\n",
    "alist = [1,2,3]\n",
    "print(\"alist(before function): \",alist)\n",
    "ans = f(alist)\n",
    "print (\"return of the function: \",ans)\n",
    "print (\"alist(after function): \",alist) # alist has been changed!"
   ]
  },
  {
   "cell_type": "code",
   "execution_count": 7,
   "id": "01c86baa",
   "metadata": {},
   "outputs": [
    {
     "name": "stdout",
     "output_type": "stream",
     "text": [
      "alist(before):  [1, 2, 3]\n",
      "return of the function:  [1, 2, 3, 0, 1, 2, 3, 4]\n",
      "alist(after):  [1, 2, 3]\n"
     ]
    }
   ],
   "source": [
    "# answer\n",
    "alist = [1,2,3]\n",
    "print(\"alist(before): \",alist)\n",
    "\n",
    "def function(x,lista):\n",
    "    copia = lista[:]\n",
    "    for i in range(x):\n",
    "        copia.append(i)\n",
    "    return copia\n",
    "\n",
    "+2\n",
    "print(\"return of the function: \",function(5,alist))\n",
    "print(\"alist(after): \",alist)"
   ]
  },
  {
   "cell_type": "markdown",
   "id": "664d8aa0",
   "metadata": {},
   "source": [
    "# Esercizo 3\n",
    "### Write a decorator hello that makes every wrapped function print “Hello!”"
   ]
  },
  {
   "cell_type": "code",
   "execution_count": 16,
   "id": "b3d39167",
   "metadata": {},
   "outputs": [
    {
     "name": "stdout",
     "output_type": "stream",
     "text": [
      "Inserisci un numero intero: 44\n",
      "hello\n",
      "1936\n"
     ]
    }
   ],
   "source": [
    "def decorator(parameter_function):\n",
    "    def wrapper(x):\n",
    "        print(\"hello\")\n",
    "        print(parameter_function(x))\n",
    "    return wrapper\n",
    "\n",
    "@decorator\n",
    "def square(x):\n",
    "    return x*x\n",
    "\n",
    "number = int(input(\"Inserisci un numero intero: \"))\n",
    "square(number)"
   ]
  },
  {
   "cell_type": "markdown",
   "id": "4f1ce4d1",
   "metadata": {},
   "source": [
    "# Esercizio 4\n",
    "###  Write the factorial function so that it a) does and b) does not use recursion"
   ]
  },
  {
   "cell_type": "code",
   "execution_count": 17,
   "id": "df7cc700",
   "metadata": {},
   "outputs": [
    {
     "name": "stdout",
     "output_type": "stream",
     "text": [
      "Inserisci il numero intero d cui calcolare il fattoriale 4\n",
      "Il fattoriale (ricorsivo) del numero inserito è:  24\n"
     ]
    }
   ],
   "source": [
    "#a) factorial with recursion\n",
    "\n",
    "num = int(input(\"Inserisci il numero intero d cui calcolare il fattoriale \"))\n",
    "def fattoriale_ricorsivo(n):\n",
    "    if n == 0 or n==1:\n",
    "        return 1\n",
    "    else:\n",
    "        return (n * fattoriale_ricorsivo(n - 1))\n",
    "\n",
    "print(\"Il fattoriale (ricorsivo) del numero inserito è: \",fattoriale_ricorsivo(num))\n"
   ]
  },
  {
   "cell_type": "code",
   "execution_count": 18,
   "id": "315f256f",
   "metadata": {},
   "outputs": [
    {
     "name": "stdout",
     "output_type": "stream",
     "text": [
      "Inserisci il numero intero d cui calcolare il fattoriale 4\n",
      "Il fattoriale (non ricorsivo) del numero inserito è:  24\n"
     ]
    }
   ],
   "source": [
    "#b) factorial without recursion\n",
    "\n",
    "num = int(input(\"Inserisci il numero intero d cui calcolare il fattoriale \"))\n",
    "def fattoriale_non_ricorsivo(n):\n",
    "    ris = 1\n",
    "    if n==0 or n==1:\n",
    "        return 1\n",
    "    else:\n",
    "        for i in range(n,1,-1):\n",
    "            ris *= i\n",
    "        return ris\n",
    "    \n",
    "print(\"Il fattoriale (non ricorsivo) del numero inserito è: \",fattoriale_non_ricorsivo(num))"
   ]
  },
  {
   "cell_type": "markdown",
   "id": "3f7c082a",
   "metadata": {},
   "source": [
    "# Esercizio 5  \n",
    "### Use HOFs (zip in particular) to compute the weight of a circle, a disk and a sphere, assuming different radii and different densities:"
   ]
  },
  {
   "cell_type": "code",
   "execution_count": null,
   "id": "4dabbd3f",
   "metadata": {},
   "outputs": [],
   "source": [
    "densities = {\"Al\":[0.5,1,2],\"Fe\":[3,4,5],\"Pb\": [15,20,30]}\n",
    "radii = [1,2,3]"
   ]
  },
  {
   "cell_type": "markdown",
   "id": "7ed63f03",
   "metadata": {},
   "source": [
    "### where the entries of the dictionary's values are the linear, superficial and volumetric densities of the materials respectively.\n",
    "\n",
    "### In particular define a list of three lambda functions using a comprehension that computes the circumference, the area and the volume for a given radius."
   ]
  },
  {
   "cell_type": "code",
   "execution_count": 19,
   "id": "1d9472fe",
   "metadata": {},
   "outputs": [
    {
     "name": "stdout",
     "output_type": "stream",
     "text": [
      "\n",
      "\n",
      "Element:  Al\n",
      "\n",
      "Radius = 1\n",
      "circle weight =  3.142\n",
      "disk weight =  3.142\n",
      "sphere weight =  8.378\n",
      "\n",
      "Radius = 2\n",
      "circle weight =  6.283\n",
      "disk weight =  12.566\n",
      "sphere weight =  67.021\n",
      "\n",
      "Radius = 3\n",
      "circle weight =  9.425\n",
      "disk weight =  28.274\n",
      "sphere weight =  226.195\n",
      "\n",
      "\n",
      "Element:  Fe\n",
      "\n",
      "Radius = 1\n",
      "circle weight =  18.85\n",
      "disk weight =  12.566\n",
      "sphere weight =  20.944\n",
      "\n",
      "Radius = 2\n",
      "circle weight =  37.699\n",
      "disk weight =  50.265\n",
      "sphere weight =  167.552\n",
      "\n",
      "Radius = 3\n",
      "circle weight =  56.549\n",
      "disk weight =  113.097\n",
      "sphere weight =  565.487\n",
      "\n",
      "\n",
      "Element:  Pb\n",
      "\n",
      "Radius = 1\n",
      "circle weight =  94.248\n",
      "disk weight =  62.832\n",
      "sphere weight =  125.664\n",
      "\n",
      "Radius = 2\n",
      "circle weight =  188.496\n",
      "disk weight =  251.327\n",
      "sphere weight =  1005.31\n",
      "\n",
      "Radius = 3\n",
      "circle weight =  282.743\n",
      "disk weight =  565.487\n",
      "sphere weight =  3392.92\n"
     ]
    }
   ],
   "source": [
    "import math as m\n",
    "densities = {\"Al\":[0.5,1,2],\"Fe\":[3,4,5],\"Pb\": [15,20,30]}\n",
    "radii = [1,2,3]\n",
    "\n",
    "nvol = list(map(lambda x: [2*m.pi*x, m.pi*x*x, (4/3)*m.pi*x*x*x], iter(radii))) #per ciascun valore del raggio calcolo rispettivamente lunghezza della circonferenza, area del cerchio e volume della sfera\n",
    "#nvol è una lista di 3 velori, e ogni elemnto di questa lista è una lista con 3 valori \n",
    "\n",
    "\n",
    "shapes = [\"circle\",\"disk\",\"sphere\"]\n",
    "\n",
    "for i in densities:\n",
    "    element = i\n",
    "    print(\"\\n\\nElement: \",element) \n",
    "    for j in range(len(nvol)):\n",
    "        print(\"\\nRadius =\",j+1)\n",
    "        if j == 0:\n",
    "            radius = 1\n",
    "        elif j == 1:\n",
    "            radius = 2\n",
    "        elif j == 2:\n",
    "            radius = 3\n",
    "        for shape, d, nV in zip(shapes, densities[i], nvol[j]):\n",
    "            print (shape,\"weight = \", round(d*nV, 3))"
   ]
  },
  {
   "cell_type": "markdown",
   "id": "a405ca55",
   "metadata": {},
   "source": [
    "# Esercizio 6\n",
    "\n",
    "### Edit the class defintion to add an instance attribute of is_hungry = True to the Dog class. Then add a method called eat() which changes the value of is_hungry to False when called. Figure out the best way to feed each dog and then output “My dogs are hungry.” if all are hungry or “My dogs are not hungry.” if all are not hungry. The final output should look like this:"
   ]
  },
  {
   "cell_type": "markdown",
   "id": "26f09df4",
   "metadata": {},
   "source": [
    "If you call the method eat() of the class, on an element (in this case a dog), it won't be hungry anymore.\n",
    "If yoou don't call the method, at the end it will be hungry!"
   ]
  },
  {
   "cell_type": "code",
   "execution_count": 25,
   "id": "84861aa5",
   "metadata": {},
   "outputs": [
    {
     "name": "stdout",
     "output_type": "stream",
     "text": [
      "I have 3 dogs\n",
      "\n",
      "Tom is 6 years old\n",
      "Fletcher is 7 years old\n",
      "Larry is 9 years old\n",
      "\n",
      "\n",
      "And they're all mammals, of course.\n",
      "\n",
      "\n",
      "Tom is not hungry\n",
      "Fletcher is not hungry\n",
      "Larry is not hungry\n",
      "My dogs are not hungry\n"
     ]
    }
   ],
   "source": [
    "class Dog:\n",
    "\n",
    "    # Class attribute\n",
    "    species = 'mammal'\n",
    "\n",
    "    # Initializer / Instance attributes\n",
    "    def __init__(self, name, age):\n",
    "        self.name = name\n",
    "        self.age = age\n",
    "        self.hungry = True\n",
    "\n",
    "\n",
    "    # instance method\n",
    "    def description(self):\n",
    "        return \"{} is {} years old\".format(self.name, self.age)\n",
    "\n",
    "    # instance method\n",
    "    def speak(self, sound):\n",
    "        return \"{} says {}\".format(self.name, sound)\n",
    "\n",
    "    # Instance method\n",
    "    def eat(self):\n",
    "        self.hungry = False #una volta applicato questo metodo ad hungry viene assegnato il valore booleano False\n",
    "\n",
    "# Child class (inherits from Dog class)\n",
    "class RussellTerrier(Dog):\n",
    "    def run(self, speed):\n",
    "        return \"{} runs {}\".format(self.name, speed)\n",
    "\n",
    "# Child class (inherits from Dog class)\n",
    "class Bulldog(Dog):\n",
    "    def run(self, speed):\n",
    "        return \"{} runs {}\".format(self.name, speed)\n",
    "    \n",
    "#istance dogs\n",
    "Tom = Bulldog(\"Tom\", 6)\n",
    "Fletcher = RussellTerrier(\"Fletcher\", 7)\n",
    "Larry =Dog(\"Larry\", 9)\n",
    "\n",
    "#list with all dogs istantiated\n",
    "my_dogs = [Tom,Fletcher,Larry]\n",
    "\n",
    "#using eat() method you can change the value of is_hungry to False when the mothod is called, and \"the dog isn't hungry anymore\"\n",
    "#if you don't use eat() method, is_hungry remains setted at True, and \"the dog is still hungry\".\n",
    "#You can modify it.\n",
    "\n",
    "Tom.eat()\n",
    "Fletcher.eat()\n",
    "Larry.eat()\n",
    "\n",
    "\n",
    "print(\"I have {number} dogs\\n\".format(number = len(my_dogs)))\n",
    "for dog in my_dogs:\n",
    "    print(f'{dog.name} is {dog.age} years old')\n",
    "\n",
    "print(\"\\n\")\n",
    "print(f'And they\\'re all {dog.species}s, of course.')\n",
    "print(\"\\n\")\n",
    "\n",
    "hungry_dogs = 0\n",
    "for dog in my_dogs:\n",
    "    if dog.hungry == True:\n",
    "        print(dog.name,\"is hungry\")\n",
    "        hungry_dogs += 1\n",
    "    else:\n",
    "        print(dog.name,\"is not hungry\")\n",
    "\n",
    "\n",
    "if hungry_dogs == len(my_dogs):\n",
    "    print(\"My dogs are hungry\")\n",
    "elif hungry_dogs == 0:\n",
    "    print(\"My dogs are not hungry\")\n",
    "else:\n",
    "    print(\"Some dogs are hungry, others are not hungry\")"
   ]
  },
  {
   "cell_type": "code",
   "execution_count": null,
   "id": "c91e3eb7",
   "metadata": {},
   "outputs": [],
   "source": []
  }
 ],
 "metadata": {
  "kernelspec": {
   "display_name": "Python 3",
   "language": "python",
   "name": "python3"
  },
  "language_info": {
   "codemirror_mode": {
    "name": "ipython",
    "version": 3
   },
   "file_extension": ".py",
   "mimetype": "text/x-python",
   "name": "python",
   "nbconvert_exporter": "python",
   "pygments_lexer": "ipython3",
   "version": "3.8.8"
  }
 },
 "nbformat": 4,
 "nbformat_minor": 5
}
