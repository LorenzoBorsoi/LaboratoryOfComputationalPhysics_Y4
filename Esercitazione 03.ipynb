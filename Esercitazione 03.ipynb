{
 "cells": [
  {
   "cell_type": "code",
   "execution_count": 1,
   "id": "872a5704",
   "metadata": {},
   "outputs": [],
   "source": [
    "import numpy as np\n",
    "import matplotlib.pyplot as plt\n",
    "np.set_printoptions(threshold=np.inf)"
   ]
  },
  {
   "cell_type": "markdown",
   "id": "cfbecce4",
   "metadata": {},
   "source": [
    "# Esercizio 1"
   ]
  },
  {
   "cell_type": "markdown",
   "id": "da15cee2",
   "metadata": {},
   "source": [
    "Find the row, column and overall means for the following matrix:"
   ]
  },
  {
   "cell_type": "code",
   "execution_count": 2,
   "id": "b516e6c1",
   "metadata": {},
   "outputs": [
    {
     "name": "stdout",
     "output_type": "stream",
     "text": [
      "Matrix:\n",
      " [[ 0  1  2  3]\n",
      " [ 4  5  6  7]\n",
      " [ 8  9 10 11]] \n",
      "\n"
     ]
    }
   ],
   "source": [
    "m = np.arange(12).reshape((3,4))\n",
    "print(\"Matrix:\\n\",m,\"\\n\")"
   ]
  },
  {
   "cell_type": "code",
   "execution_count": 3,
   "id": "64111965",
   "metadata": {},
   "outputs": [
    {
     "name": "stdout",
     "output_type": "stream",
     "text": [
      "Mean of 0 -th row:  1.5\n",
      "Mean of 1 -th row:  5.5\n",
      "Mean of 2 -th row:  9.5\n",
      "\n",
      "\n",
      "Mean of 0 -th column:  4.0\n",
      "Mean of 1 -th column:  5.0\n",
      "Mean of 2 -th column:  6.0\n",
      "Mean of 3 -th column:  7.0\n",
      "\n",
      "\n",
      "overall mean:  5.5\n"
     ]
    }
   ],
   "source": [
    "row_mean = m.mean(axis=1)\n",
    "for i in range(len(row_mean)):\n",
    "    print(\"Mean of\",i,\"-th row: \",row_mean[i])\n",
    "print(\"\\n\")\n",
    "\n",
    "column_mean = m.mean(axis=0)\n",
    "for i in range(len(column_mean)):\n",
    "    print(\"Mean of\",i,\"-th column: \",column_mean[i])\n",
    "print(\"\\n\")\n",
    "\n",
    "print(\"overall mean: \",m.mean())\n",
    "\n",
    "#print(\"row mean: \", m.mean(axis=1))\n",
    "#print(\"column mean: \", m.mean(axis=0))"
   ]
  },
  {
   "cell_type": "markdown",
   "id": "cc51ebb7",
   "metadata": {},
   "source": [
    "# Esercizio 2\n",
    "Find the outer product of the following two vecotrs"
   ]
  },
  {
   "cell_type": "code",
   "execution_count": 4,
   "id": "28228c2d",
   "metadata": {},
   "outputs": [],
   "source": [
    "u = np.array([1,3,5,7])\n",
    "v = np.array([2,4,6,8])"
   ]
  },
  {
   "cell_type": "markdown",
   "id": "f8217c5f",
   "metadata": {},
   "source": [
    "### a) Using the function outer in numpy"
   ]
  },
  {
   "cell_type": "code",
   "execution_count": 5,
   "id": "972ff3e7",
   "metadata": {},
   "outputs": [
    {
     "data": {
      "text/plain": [
       "array([[ 2,  4,  6,  8],\n",
       "       [ 6, 12, 18, 24],\n",
       "       [10, 20, 30, 40],\n",
       "       [14, 28, 42, 56]])"
      ]
     },
     "execution_count": 5,
     "metadata": {},
     "output_type": "execute_result"
    }
   ],
   "source": [
    "np.outer(u,v)"
   ]
  },
  {
   "cell_type": "markdown",
   "id": "d9ce2b53",
   "metadata": {},
   "source": [
    "### b) Using a nested for loop or list comprehension"
   ]
  },
  {
   "cell_type": "code",
   "execution_count": 6,
   "id": "1b216541",
   "metadata": {},
   "outputs": [
    {
     "name": "stdout",
     "output_type": "stream",
     "text": [
      "[[ 2  4  6  8]\n",
      " [ 6 12 18 24]\n",
      " [10 20 30 40]\n",
      " [14 28 42 56]]\n"
     ]
    }
   ],
   "source": [
    "matrix = []\n",
    "matrix = np.array([i * j for i in u for j in v])\n",
    "\n",
    "#matrix = np.array(matrix)\n",
    "matrix.resize(4,4)\n",
    "print(matrix)"
   ]
  },
  {
   "cell_type": "markdown",
   "id": "d125fe00",
   "metadata": {},
   "source": [
    "### c) Using numpy broadcasting operatoins"
   ]
  },
  {
   "cell_type": "code",
   "execution_count": 7,
   "id": "4d4db19c",
   "metadata": {},
   "outputs": [
    {
     "name": "stdout",
     "output_type": "stream",
     "text": [
      "[[ 2  4  6  8]\n",
      " [ 6 12 18 24]\n",
      " [10 20 30 40]\n",
      " [14 28 42 56]]\n"
     ]
    }
   ],
   "source": [
    "outer_product = u[:,np.newaxis]*v\n",
    "print(outer_product)"
   ]
  },
  {
   "cell_type": "markdown",
   "id": "64efca1e",
   "metadata": {},
   "source": [
    "# Esercizio 3 "
   ]
  },
  {
   "cell_type": "markdown",
   "id": "9ae2c920",
   "metadata": {},
   "source": [
    " Create a 10 by 6 matrix of random uniform numbers. Set all rows with any entry less than 0.1 to be zero"
   ]
  },
  {
   "cell_type": "code",
   "execution_count": 8,
   "id": "5996c378",
   "metadata": {},
   "outputs": [
    {
     "name": "stdout",
     "output_type": "stream",
     "text": [
      "[[0.32201505 0.53763747 0.52885653 0.66604384 0.28972281 0.20211951]\n",
      " [0.03378875 0.97839453 0.52536647 0.95248988 0.27049995 0.97998634]\n",
      " [0.57873061 0.57117795 0.8492357  0.14367051 0.46021359 0.75910444]\n",
      " [0.29596171 0.00794387 0.13040304 0.71950241 0.77400743 0.78678461]\n",
      " [0.87627242 0.88281097 0.37543974 0.37228084 0.48304511 0.33760886]\n",
      " [0.32984513 0.29222509 0.07699457 0.96061767 0.32443532 0.79177509]\n",
      " [0.9433654  0.70249545 0.61537286 0.47279957 0.54903127 0.21306345]\n",
      " [0.39062756 0.84864636 0.90178267 0.98639609 0.684837   0.77900124]\n",
      " [0.12583791 0.15455258 0.54704205 0.8580108  0.27303743 0.26524782]\n",
      " [0.05333717 0.06000209 0.54596285 0.89351509 0.67466502 0.21786476]]\n"
     ]
    }
   ],
   "source": [
    "matrix = np.random.random((10,6))\n",
    "print(matrix)"
   ]
  },
  {
   "cell_type": "code",
   "execution_count": 9,
   "id": "fd1e9927",
   "metadata": {},
   "outputs": [
    {
     "name": "stdout",
     "output_type": "stream",
     "text": [
      "[[0.32201505 0.53763747 0.52885653 0.66604384 0.28972281 0.20211951]\n",
      " [0.         0.         0.         0.         0.         0.        ]\n",
      " [0.57873061 0.57117795 0.8492357  0.14367051 0.46021359 0.75910444]\n",
      " [0.         0.         0.         0.         0.         0.        ]\n",
      " [0.87627242 0.88281097 0.37543974 0.37228084 0.48304511 0.33760886]\n",
      " [0.         0.         0.         0.         0.         0.        ]\n",
      " [0.9433654  0.70249545 0.61537286 0.47279957 0.54903127 0.21306345]\n",
      " [0.39062756 0.84864636 0.90178267 0.98639609 0.684837   0.77900124]\n",
      " [0.12583791 0.15455258 0.54704205 0.8580108  0.27303743 0.26524782]\n",
      " [0.         0.         0.         0.         0.         0.        ]]\n"
     ]
    }
   ],
   "source": [
    "matrix[(matrix < 0.1).any(axis=1), :] = 0 \n",
    "print(matrix)"
   ]
  },
  {
   "cell_type": "markdown",
   "id": "ad50422b",
   "metadata": {},
   "source": [
    "# Esercizio 4"
   ]
  },
  {
   "cell_type": "markdown",
   "id": "dcb2a8cb",
   "metadata": {},
   "source": [
    "Use np.linspace to create an array of 100 numbers between 0 and 2π (includsive)."
   ]
  },
  {
   "cell_type": "code",
   "execution_count": 10,
   "id": "c7b007c1",
   "metadata": {},
   "outputs": [
    {
     "name": "stdout",
     "output_type": "stream",
     "text": [
      "[0.         0.06346652 0.12693304 0.19039955 0.25386607 0.31733259\n",
      " 0.38079911 0.44426563 0.50773215 0.57119866 0.63466518 0.6981317\n",
      " 0.76159822 0.82506474 0.88853126 0.95199777 1.01546429 1.07893081\n",
      " 1.14239733 1.20586385 1.26933037 1.33279688 1.3962634  1.45972992\n",
      " 1.52319644 1.58666296 1.65012947 1.71359599 1.77706251 1.84052903\n",
      " 1.90399555 1.96746207 2.03092858 2.0943951  2.15786162 2.22132814\n",
      " 2.28479466 2.34826118 2.41172769 2.47519421 2.53866073 2.60212725\n",
      " 2.66559377 2.72906028 2.7925268  2.85599332 2.91945984 2.98292636\n",
      " 3.04639288 3.10985939 3.17332591 3.23679243 3.30025895 3.36372547\n",
      " 3.42719199 3.4906585  3.55412502 3.61759154 3.68105806 3.74452458\n",
      " 3.8079911  3.87145761 3.93492413 3.99839065 4.06185717 4.12532369\n",
      " 4.1887902  4.25225672 4.31572324 4.37918976 4.44265628 4.5061228\n",
      " 4.56958931 4.63305583 4.69652235 4.75998887 4.82345539 4.88692191\n",
      " 4.95038842 5.01385494 5.07732146 5.14078798 5.2042545  5.26772102\n",
      " 5.33118753 5.39465405 5.45812057 5.52158709 5.58505361 5.64852012\n",
      " 5.71198664 5.77545316 5.83891968 5.9023862  5.96585272 6.02931923\n",
      " 6.09278575 6.15625227 6.21971879 6.28318531]\n"
     ]
    }
   ],
   "source": [
    "array = np.linspace(0, 2*np.pi,100)\n",
    "print(array)"
   ]
  },
  {
   "cell_type": "markdown",
   "id": "4368d838",
   "metadata": {},
   "source": [
    "Extract every 10th element using slice notation"
   ]
  },
  {
   "cell_type": "code",
   "execution_count": 11,
   "id": "3a2826df",
   "metadata": {},
   "outputs": [
    {
     "name": "stdout",
     "output_type": "stream",
     "text": [
      "[0.         0.63466518 1.26933037 1.90399555 2.53866073 3.17332591\n",
      " 3.8079911  4.44265628 5.07732146 5.71198664]\n"
     ]
    }
   ],
   "source": [
    "new_array = array[::10] #it means 'nothing for the first argument, nothing for the second, and jump by ten'.\n",
    "print(new_array)"
   ]
  },
  {
   "cell_type": "markdown",
   "id": "76d2e2ff",
   "metadata": {},
   "source": [
    "Reverse the array using slice notation"
   ]
  },
  {
   "cell_type": "code",
   "execution_count": 12,
   "id": "5fd1899c",
   "metadata": {},
   "outputs": [
    {
     "name": "stdout",
     "output_type": "stream",
     "text": [
      "[5.71198664 5.07732146 4.44265628 3.8079911  3.17332591 2.53866073\n",
      " 1.90399555 1.26933037 0.63466518 0.        ]\n"
     ]
    }
   ],
   "source": [
    "reversed_array = new_array[::-1]\n",
    "print(reversed_array)"
   ]
  },
  {
   "cell_type": "markdown",
   "id": "49b5cdb8",
   "metadata": {},
   "source": [
    "Extract elements where the absolute difference between the sine and cosine functions evaluated at that element is less than 0.1"
   ]
  },
  {
   "cell_type": "code",
   "execution_count": 13,
   "id": "67b4bffe",
   "metadata": {},
   "outputs": [
    {
     "name": "stdout",
     "output_type": "stream",
     "text": [
      "elements:  [0.76159822 0.82506474 3.87145761 3.93492413]\n"
     ]
    }
   ],
   "source": [
    "idx = np.abs(np.sin(array)-np.cos(array)) < 0.1\n",
    "print(\"elements: \",array[idx])\n"
   ]
  },
  {
   "cell_type": "markdown",
   "id": "c967156c",
   "metadata": {},
   "source": [
    "Make a plot showing the sin and cos functions and indicate where they are close"
   ]
  },
  {
   "cell_type": "code",
   "execution_count": 14,
   "id": "de7e1f3b",
   "metadata": {},
   "outputs": [
    {
     "data": {
      "text/plain": [
       "<matplotlib.legend.Legend at 0x19c47d18460>"
      ]
     },
     "execution_count": 14,
     "metadata": {},
     "output_type": "execute_result"
    },
    {
     "data": {
      "image/png": "[encoded data removed]",
      "text/plain": [
       "<Figure size 432x288 with 1 Axes>"
      ]
     },
     "metadata": {
      "needs_background": "light"
     },
     "output_type": "display_data"
    }
   ],
   "source": [
    "plt.scatter(array[idx], np.sin(array[idx]),color=\"red\")\n",
    "plt.plot(array, np.sin(array),label=\"sin\")\n",
    "plt.plot(array, np.cos(array),label=\"cos\")\n",
    "plt.legend(loc=\"best\")"
   ]
  },
  {
   "cell_type": "markdown",
   "id": "0ccd59a5",
   "metadata": {},
   "source": [
    "# Esercizio 5"
   ]
  },
  {
   "cell_type": "markdown",
   "id": "520a7863",
   "metadata": {},
   "source": [
    "Create a matrix that shows the 10 by 10 multiplication table."
   ]
  },
  {
   "cell_type": "code",
   "execution_count": 15,
   "id": "4c528724",
   "metadata": {},
   "outputs": [
    {
     "name": "stdout",
     "output_type": "stream",
     "text": [
      "[[  1   2   3   4   5   6   7   8   9  10]\n",
      " [  2   4   6   8  10  12  14  16  18  20]\n",
      " [  3   6   9  12  15  18  21  24  27  30]\n",
      " [  4   8  12  16  20  24  28  32  36  40]\n",
      " [  5  10  15  20  25  30  35  40  45  50]\n",
      " [  6  12  18  24  30  36  42  48  54  60]\n",
      " [  7  14  21  28  35  42  49  56  63  70]\n",
      " [  8  16  24  32  40  48  56  64  72  80]\n",
      " [  9  18  27  36  45  54  63  72  81  90]\n",
      " [ 10  20  30  40  50  60  70  80  90 100]]\n"
     ]
    }
   ],
   "source": [
    "def multiplication_table(n): #n is the dimension of \n",
    "    array = np.arange(1, n+1)\n",
    "    return array[:,np.newaxis] * array #using broadcasting\n",
    "\n",
    "multiplication_table = multiplication_table(10)\n",
    "print(multiplication_table)"
   ]
  },
  {
   "cell_type": "markdown",
   "id": "1c756d71",
   "metadata": {},
   "source": [
    "Find the trace of the matrix"
   ]
  },
  {
   "cell_type": "code",
   "execution_count": 16,
   "id": "12849336",
   "metadata": {},
   "outputs": [
    {
     "name": "stdout",
     "output_type": "stream",
     "text": [
      "Trace of the matrix = 385\n"
     ]
    }
   ],
   "source": [
    "trace = multiplication_table.trace()\n",
    "print(\"Trace of the matrix =\",trace)"
   ]
  },
  {
   "cell_type": "markdown",
   "id": "b952f510",
   "metadata": {},
   "source": [
    "Extract the anto-diagonal (this should be array([10, 18, 24, 28, 30, 30, 28, 24, 18, 10]))"
   ]
  },
  {
   "cell_type": "code",
   "execution_count": 17,
   "id": "f2eab4d8",
   "metadata": {},
   "outputs": [
    {
     "name": "stdout",
     "output_type": "stream",
     "text": [
      "The anto-diagonal:  [10 18 24 28 30 30 28 24 18 10]\n"
     ]
    }
   ],
   "source": [
    "anto_diagonal = np.flipud(multiplication_table).diagonal() #np.flipud reverse the order of rows. So the anto-diagonal of the \"real matrix\" is the diagonal of the one that has been reversed \n",
    "print(\"The anto-diagonal: \",anto_diagonal)"
   ]
  },
  {
   "cell_type": "markdown",
   "id": "42440266",
   "metadata": {},
   "source": [
    "Extract the diagnoal offset by 1 upwards (this should be array([ 2,  6, 12, 20, 30, 42, 56, 72, 90]))"
   ]
  },
  {
   "cell_type": "code",
   "execution_count": 18,
   "id": "fc246ad6",
   "metadata": {},
   "outputs": [
    {
     "name": "stdout",
     "output_type": "stream",
     "text": [
      "diagnoal offset by 1 upwards:  [2, 6, 12, 20, 30, 42, 56, 72, 90]\n"
     ]
    }
   ],
   "source": [
    "diagonal1 = [multiplication_table[i][i+1] for i in range(9)]\n",
    "print(\"diagnoal offset by 1 upwards: \",diagonal1)"
   ]
  },
  {
   "cell_type": "markdown",
   "id": "a383ea33",
   "metadata": {},
   "source": [
    "another way to compute this exercise is using the method diagonal, passing it \"offset = 1\""
   ]
  },
  {
   "cell_type": "code",
   "execution_count": 19,
   "id": "6c5f1bb9",
   "metadata": {},
   "outputs": [
    {
     "name": "stdout",
     "output_type": "stream",
     "text": [
      "diagnoal offset by 1 upwards:  [ 2  6 12 20 30 42 56 72 90]\n"
     ]
    }
   ],
   "source": [
    "diagonal = multiplication_table.diagonal(offset=1)\n",
    "print(\"diagnoal offset by 1 upwards: \",diagonal)"
   ]
  },
  {
   "cell_type": "markdown",
   "id": "05d90f1c",
   "metadata": {},
   "source": [
    "# Esercizio 6"
   ]
  },
  {
   "cell_type": "markdown",
   "id": "e24ebd35",
   "metadata": {},
   "source": [
    " Use broadcasting to create a grid of distances"
   ]
  },
  {
   "cell_type": "markdown",
   "id": "621c0037",
   "metadata": {},
   "source": [
    "Route 66 crosses the following cities in the US: Chicago, Springfield, Saint-Louis, Tulsa, Oklahoma City, Amarillo, Santa Fe, Albuquerque, Flagstaff, Los Angeles The corresponding positions in miles are: 0, 198, 303, 736, 871, 1175, 1475, 1544, 1913, 2448"
   ]
  },
  {
   "cell_type": "code",
   "execution_count": 20,
   "id": "e7cb990c",
   "metadata": {},
   "outputs": [],
   "source": [
    "Route66 = {\"Chicago\":1, \"Springfield\":198 , \"Saint-Louis\":303, \"Tulsa\":736, \"Oklahoma City\":871, \"Amarillo\":1175, \"Santa Fe\":1475, \"Albuquerque\":1544, \"Flagstaff\":1913, \"Los Angeles\":2448}"
   ]
  },
  {
   "cell_type": "markdown",
   "id": "b92b0748",
   "metadata": {},
   "source": [
    "Construct a 2D grid of distances among each city along Route 66"
   ]
  },
  {
   "cell_type": "code",
   "execution_count": 21,
   "id": "2de7a825",
   "metadata": {},
   "outputs": [],
   "source": [
    "miles = np.array(list(Route66.values()))"
   ]
  },
  {
   "cell_type": "code",
   "execution_count": 22,
   "id": "71e505f4",
   "metadata": {},
   "outputs": [
    {
     "name": "stdout",
     "output_type": "stream",
     "text": [
      " distances (miles) among each city along Route 66: \n",
      "\n",
      "    CHI SPR  SNTL TLS  OKC  AMR SNTF ALBQ FLG   LA\n",
      "[[   0  197  302  735  870 1174 1474 1543 1912 2447]\n",
      " [ 197    0  105  538  673  977 1277 1346 1715 2250]\n",
      " [ 302  105    0  433  568  872 1172 1241 1610 2145]\n",
      " [ 735  538  433    0  135  439  739  808 1177 1712]\n",
      " [ 870  673  568  135    0  304  604  673 1042 1577]\n",
      " [1174  977  872  439  304    0  300  369  738 1273]\n",
      " [1474 1277 1172  739  604  300    0   69  438  973]\n",
      " [1543 1346 1241  808  673  369   69    0  369  904]\n",
      " [1912 1715 1610 1177 1042  738  438  369    0  535]\n",
      " [2447 2250 2145 1712 1577 1273  973  904  535    0]]\n"
     ]
    }
   ],
   "source": [
    "distances = np.abs(miles[:,np.newaxis] - miles)\n",
    "list = ['    CHI','SPR', ' SNTL' ,'TLS' ,' OKC' ,' AMR','SNTF' ,'ALBQ' ,'FLG' ,'  LA']\n",
    "print(\" distances (miles) among each city along Route 66: \\n\")\n",
    "print('    CHI','SPR', ' SNTL' ,'TLS' ,' OKC' ,' AMR','SNTF' ,'ALBQ' ,'FLG' ,'  LA')\n",
    "print(distances)\n"
   ]
  },
  {
   "cell_type": "code",
   "execution_count": 23,
   "id": "16e7b254",
   "metadata": {},
   "outputs": [
    {
     "name": "stdout",
     "output_type": "stream",
     "text": [
      " distances (km) among each city along Route 66: \n",
      "\n",
      "    CHI  SPR  SNTL  TLS   OKC   AMR   SNTF  ALBQ   FLG   LA\n",
      "[[   0.  317.  486. 1183. 1400. 1889. 2372. 2483. 3077. 3938.]\n",
      " [ 317.    0.  169.  866. 1083. 1572. 2055. 2166. 2760. 3621.]\n",
      " [ 486.  169.    0.  697.  914. 1403. 1886. 1997. 2591. 3452.]\n",
      " [1183.  866.  697.    0.  217.  707. 1189. 1300. 1894. 2755.]\n",
      " [1400. 1083.  914.  217.    0.  489.  972. 1083. 1677. 2538.]\n",
      " [1889. 1572. 1403.  707.  489.    0.  483.  594. 1188. 2049.]\n",
      " [2372. 2055. 1886. 1189.  972.  483.    0.  111.  705. 1566.]\n",
      " [2483. 2166. 1997. 1300. 1083.  594.  111.    0.  594. 1455.]\n",
      " [3077. 2760. 2591. 1894. 1677. 1188.  705.  594.    0.  861.]\n",
      " [3938. 3621. 3452. 2755. 2538. 2049. 1566. 1455.  861.    0.]]\n"
     ]
    }
   ],
   "source": [
    "def miles_to_km(x):\n",
    "    return np.round(1.60934*x)\n",
    "\n",
    "\n",
    "print(\" distances (km) among each city along Route 66: \\n\")\n",
    "print('    CHI',' SPR', ' SNTL' ,' TLS' ,'  OKC' ,'  AMR','  SNTF' ,' ALBQ' ,'  FLG' ,'  LA')\n",
    "print(miles_to_km(distances))\n"
   ]
  },
  {
   "cell_type": "markdown",
   "id": "b28574af",
   "metadata": {},
   "source": [
    "# Esercizio 7 "
   ]
  },
  {
   "cell_type": "markdown",
   "id": "98cc0306",
   "metadata": {},
   "source": [
    " Prime numbers sieve: compute the prime numbers in the 0-N (N=99 to start with) range with a sieve (mask)."
   ]
  },
  {
   "cell_type": "markdown",
   "id": "43be70e5",
   "metadata": {},
   "source": [
    "Constract a shape (100,) boolean array, the mask\n",
    "Identify the multiples of each number starting from 2 and set accordingly the corresponding mask element\n",
    "Apply the mask to obtain an array of ordered prime numbers"
   ]
  },
  {
   "cell_type": "code",
   "execution_count": 24,
   "id": "fb230060",
   "metadata": {},
   "outputs": [
    {
     "name": "stdout",
     "output_type": "stream",
     "text": [
      "(100,)\n"
     ]
    }
   ],
   "source": [
    "array = np.arange(100)\n",
    "print(array.shape)"
   ]
  },
  {
   "cell_type": "code",
   "execution_count": 25,
   "id": "4810c1ea",
   "metadata": {},
   "outputs": [],
   "source": [
    "def prime_number(N):\n",
    "    prime_list = []\n",
    "    prime_list.append(False)\n",
    "    prime_list.append(False)\n",
    "    for num in range(2,N):\n",
    "        count=0\n",
    "        for i in range(2, num):\n",
    "            if num % i == 0:\n",
    "                count +=1\n",
    "        if count == 0:\n",
    "            prime_list.append(True)\n",
    "        else:\n",
    "            prime_list.append(False)\n",
    "    return prime_list"
   ]
  },
  {
   "cell_type": "code",
   "execution_count": 26,
   "id": "8da7d27f",
   "metadata": {},
   "outputs": [
    {
     "name": "stdout",
     "output_type": "stream",
     "text": [
      "Prime numbers in 0-99 range:  [ 2  3  5  7 11 13 17 19 23 29 31 37 41 43 47 53 59 61 67 71 73 79 83 89\n",
      " 97]\n"
     ]
    }
   ],
   "source": [
    "mask = prime_number(100)\n",
    "prime_numbers = array[mask]\n",
    "print(\"Prime numbers in 0-99 range: \",prime_numbers)"
   ]
  },
  {
   "cell_type": "markdown",
   "id": "4d37df8e",
   "metadata": {},
   "source": [
    "Check the performances (timeit); how does it scale with N?"
   ]
  },
  {
   "cell_type": "code",
   "execution_count": 27,
   "id": "4ca68fde",
   "metadata": {},
   "outputs": [
    {
     "name": "stdout",
     "output_type": "stream",
     "text": [
      "Time used to find prime numbers in 0 - 0 range\n",
      "378 ns ± 7.78 ns per loop (mean ± std. dev. of 7 runs, 1000000 loops each)\n",
      "\n",
      "\n",
      "Time used to find prime numbers in 0 - 9 range\n",
      "4.34 µs ± 11 ns per loop (mean ± std. dev. of 7 runs, 100000 loops each)\n",
      "\n",
      "\n",
      "Time used to find prime numbers in 0 - 99 range\n",
      "241 µs ± 1.61 µs per loop (mean ± std. dev. of 7 runs, 1000 loops each)\n",
      "\n",
      "\n",
      "Time used to find prime numbers in 0 - 999 range\n",
      "23.6 ms ± 179 µs per loop (mean ± std. dev. of 7 runs, 10 loops each)\n",
      "\n",
      "\n",
      "Time used to find prime numbers in 0 - 9999 range\n",
      "2.72 s ± 30.4 ms per loop (mean ± std. dev. of 7 runs, 1 loop each)\n",
      "\n",
      "\n"
     ]
    }
   ],
   "source": [
    "for i in range(5):\n",
    "    print(\"Time used to find prime numbers in 0 -\",(10**i)-1,\"range\")\n",
    "    %timeit mask = prime_number(10**i)\n",
    "    print(\"\\n\")"
   ]
  },
  {
   "cell_type": "markdown",
   "id": "7b1e3db9",
   "metadata": {},
   "source": [
    "The time used to find if 0 is a prime number is of the order of $ns$.  Time used to find prime numbers in a range of order between $10^1 - 10^2$ is of the order of $µs$.   Time used to find prime numbers in a range of order $10^3$ is of the order of $ms$.   Time used to find prime numbers in a range of order $10^4$ is of the order of $s$. "
   ]
  },
  {
   "cell_type": "markdown",
   "id": "9a2b03ef",
   "metadata": {},
   "source": [
    "Implement the optimization suggested in the sieve of Eratosthenes"
   ]
  },
  {
   "cell_type": "code",
   "execution_count": 28,
   "id": "17b375a1",
   "metadata": {},
   "outputs": [
    {
     "name": "stdout",
     "output_type": "stream",
     "text": [
      "Prime numbers in 0-99 range using sieve of Eratosthenes:\n",
      "  [ 2  3  5  7 11 13 17 19 23 29 31 37 41 43 47 53 59 61 67 71 73 79 83 89\n",
      " 97]\n"
     ]
    }
   ],
   "source": [
    "from math import isqrt\n",
    "def sieve_of_Eratosthenes(n):\n",
    "    is_prime = [True]*n\n",
    "    is_prime[0] = False\n",
    "    is_prime[1] = False\n",
    "    \n",
    "    for i in range(2,isqrt(n)):\n",
    "        if is_prime[i]:\n",
    "            for x in range(i*i,n,i):\n",
    "                is_prime[x] = False\n",
    "    return is_prime\n",
    "    \n",
    "mask_Eratosthenes = sieve_of_Eratosthenes(100) \n",
    "prime_numbers_Eratosthenes = array[mask_Eratosthenes]\n",
    "print(\"Prime numbers in 0-99 range using sieve of Eratosthenes:\\n \",prime_numbers_Eratosthenes)"
   ]
  },
  {
   "cell_type": "code",
   "execution_count": null,
   "id": "b2c2e311",
   "metadata": {},
   "outputs": [],
   "source": []
  }
 ],
 "metadata": {
  "kernelspec": {
   "display_name": "Python 3",
   "language": "python",
   "name": "python3"
  },
  "language_info": {
   "codemirror_mode": {
    "name": "ipython",
    "version": 3
   },
   "file_extension": ".py",
   "mimetype": "text/x-python",
   "name": "python",
   "nbconvert_exporter": "python",
   "pygments_lexer": "ipython3",
   "version": "3.8.8"
  }
 },
 "nbformat": 4,
 "nbformat_minor": 5
}
