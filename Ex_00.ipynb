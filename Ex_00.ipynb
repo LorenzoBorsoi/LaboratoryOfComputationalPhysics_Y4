{
 "cells": [
  {
   "cell_type": "code",
   "execution_count": 119,
   "id": "afe8a87c",
   "metadata": {},
   "outputs": [
    {
     "name": "stdout",
     "output_type": "stream",
     "text": [
      "1\n",
      "2\n",
      "Mickey\n",
      "4\n",
      "Mouse\n",
      "Mickey\n",
      "7\n",
      "8\n",
      "Mickey\n",
      "Mouse\n",
      "11\n",
      "Mickey\n",
      "13\n",
      "14\n",
      "MickeyMouse\n",
      "16\n",
      "17\n",
      "Mickey\n",
      "19\n",
      "Mouse\n",
      "Mickey\n",
      "22\n",
      "23\n",
      "Mickey\n",
      "Mouse\n",
      "26\n",
      "Mickey\n",
      "28\n",
      "29\n",
      "MickeyMouse\n",
      "31\n",
      "32\n",
      "Mickey\n",
      "34\n",
      "Mouse\n",
      "Mickey\n",
      "37\n",
      "38\n",
      "Mickey\n",
      "Mouse\n",
      "41\n",
      "Mickey\n",
      "43\n",
      "44\n",
      "MickeyMouse\n",
      "46\n",
      "47\n",
      "Mickey\n",
      "49\n",
      "Mouse\n",
      "Mickey\n",
      "52\n",
      "53\n",
      "Mickey\n",
      "Mouse\n",
      "56\n",
      "Mickey\n",
      "58\n",
      "59\n",
      "MickeyMouse\n",
      "61\n",
      "62\n",
      "Mickey\n",
      "64\n",
      "Mouse\n",
      "Mickey\n",
      "67\n",
      "68\n",
      "Mickey\n",
      "Mouse\n",
      "71\n",
      "Mickey\n",
      "73\n",
      "74\n",
      "MickeyMouse\n",
      "76\n",
      "77\n",
      "Mickey\n",
      "79\n",
      "Mouse\n",
      "Mickey\n",
      "82\n",
      "83\n",
      "Mickey\n",
      "Mouse\n",
      "86\n",
      "Mickey\n",
      "88\n",
      "89\n",
      "MickeyMouse\n",
      "91\n",
      "92\n",
      "Mickey\n",
      "94\n",
      "Mouse\n",
      "Mickey\n",
      "97\n",
      "98\n",
      "Mickey\n",
      "Mouse\n",
      "Replaced list is: [1, 2, 'Donald', 4, 'Duck', 'Donald', 7, 8, 'Donald', 'Duck', 11, 'Donald', 13, 14, 'MickeyMouse', 16, 17, 'Donald', 19, 'Duck', 'Donald', 22, 23, 'Donald', 'Duck', 26, 'Donald', 28, 29, 'MickeyMouse', 31, 32, 'Donald', 34, 'Duck', 'Donald', 37, 38, 'Donald', 'Duck', 41, 'Donald', 43, 44, 'MickeyMouse', 46, 47, 'Donald', 49, 'Duck', 'Donald', 52, 53, 'Donald', 'Duck', 56, 'Donald', 58, 59, 'MickeyMouse', 61, 62, 'Donald', 64, 'Duck', 'Donald', 67, 68, 'Donald', 'Duck', 71, 'Donald', 73, 74, 'MickeyMouse', 76, 77, 'Donald', 79, 'Duck', 'Donald', 82, 83, 'Donald', 'Duck', 86, 'Donald', 88, 89, 'MickeyMouse', 91, 92, 'Donald', 94, 'Duck', 'Donald', 97, 98, 'Donald', 'Duck']\n"
     ]
    }
   ],
   "source": [
    "#1.a\n",
    "l=[]\n",
    "for i in range(1,101):\n",
    "    x=0\n",
    "    if i%15 == 0: x= \"MickeyMouse\"\n",
    "    elif i%3 == 0: x= \"Mickey\"\n",
    "    elif i%5 == 0: x= \"Mouse\"\n",
    "    else: x=i\n",
    "    \n",
    "    print(x)\n",
    "    l.append(x)\n",
    "\n",
    "#1.b (now with the list obtained before we do the replacement)\n",
    "a=[\"Donald\" if x==\"Mickey\" else x for x in l] #first we replace mickey with donald\n",
    "a=[\"Duck\" if x==\"Mouse\" else x for x in a] #then we replace mouse with duck\n",
    "\n",
    "print(\"Replaced list is:\", a)"
   ]
  },
  {
   "cell_type": "code",
   "execution_count": 110,
   "id": "b06544a9",
   "metadata": {},
   "outputs": [
    {
     "name": "stdout",
     "output_type": "stream",
     "text": [
      "enter a value for x:2\n",
      "enter a value for y:5\n",
      "\n",
      "\n",
      "x is 5 and y is 2\n",
      "\n",
      "x is 5 and y is 2\n",
      "\n"
     ]
    }
   ],
   "source": [
    "#Q2:\n",
    "\n",
    "x= input(\"enter a value for x:\")\n",
    "y= input(\"enter a value for y:\")\n",
    "print(\"\\n\")\n",
    "\n",
    "def Swap1(x,y):  #function with temporary variable\n",
    "    temp=y\n",
    "    y=x\n",
    "    x=temp\n",
    "    print(\"x is {} and y is {}\\n\".format(x,y))\n",
    "    \n",
    "def Swap2(x,y): print(\"x is {} and y is {}\\n\".format(y,x)) #Without temp paramter\n",
    "\n",
    "Swap1(x,y)\n",
    "Swap2(x,y)"
   ]
  },
  {
   "cell_type": "code",
   "execution_count": 111,
   "id": "0db93de8",
   "metadata": {},
   "outputs": [
    {
     "data": {
      "text/plain": [
       "5.0"
      ]
     },
     "execution_count": 111,
     "metadata": {},
     "output_type": "execute_result"
    }
   ],
   "source": [
    "#Q3:\n",
    "\n",
    "import numpy as np\n",
    "\n",
    "def Distance(u,v): return np.sqrt((u[0] - v[0])**2 + (u[1] - v[1])**2)\n",
    "\n",
    "u, v =[3,0], [0,4]\n",
    "Distance(u,v)"
   ]
  },
  {
   "cell_type": "code",
   "execution_count": 112,
   "id": "4900523e",
   "metadata": {},
   "outputs": [
    {
     "name": "stdout",
     "output_type": "stream",
     "text": [
      "[['w', 2], ['r', 17], ['i', 14], ['t', 19], ['e', 22], [' ', 41], ['a', 7], ['p', 8], ['o', 13], ['g', 1], ['m', 12], ['h', 9], ['n', 10], ['s', 9], ['u', 9], ['b', 5], ['f', 10], ['1', 2], ['0', 2], ['.', 2], ['l', 6], ['c', 3], ['k', 2], ['y', 2], ['d', 3], ['v', 2]]\n"
     ]
    }
   ],
   "source": [
    "#Q4:\n",
    "\n",
    "first_sentence = \"Write a program that prints the numbers from 1 to 100. \\\n",
    "But for multiples of three print Mickey instead of the number and for the multiples of five print Mouse. \\\n",
    "For numbers which are multiples of both three and five print MickeyMouse\"\n",
    "\n",
    "lower_first_sentence= first_sentence.lower()   #ignoring the capitalization\n",
    "char=[x for x in lower_first_sentence]         #first we charactrize the whole sentence\n",
    "\n",
    "counter, W =[0 for x in char], []                #then we make a counter for each letter in the above list\n",
    "\n",
    "for i in range(len(char)):               #we first fix an element \n",
    "    for j in range(len(char)):                                             #then search for its similar items in the list\n",
    "        if char[j]==char[i]: counter[i]+= 1                       #checking if there is a repeated element\n",
    "    if [char[i], counter[i]] not in W: W.append([char[i], counter[i]])     #deleting the repeated items\n",
    "        \n",
    "print(W)    "
   ]
  },
  {
   "cell_type": "code",
   "execution_count": 113,
   "id": "55368c3f",
   "metadata": {},
   "outputs": [
    {
     "name": "stdout",
     "output_type": "stream",
     "text": [
      "There is 37 unique numbers in the list which are listed as: [58, 74, 96, 64, 10, 24, 19, 33, 86, 99, 18, 47, 88, 55, 54, 8, 79, 81, 57, 37, 1, 9, 95, 90, 98, 39, 16, 82, 92, 41, 30, 94, 5, 72, 87, 75, 53]\n"
     ]
    }
   ],
   "source": [
    "#Q5:\n",
    "\n",
    "def Unique(l):\n",
    "    \n",
    "    unique_num=[]\n",
    "    for i in range(len(l)): #first we fix a number, then check to see whether it is repeated or not \n",
    "        temp=l[i]           #fixed number\n",
    "        counter,c = 0,0     \n",
    "        for j in range(len(l)): #here we check if the fixed number is repeated or not\n",
    "            if l[j]==temp: counter=counter + 1\n",
    "            if counter>1: break       #if the number is not unique we overlook it\n",
    "            elif j==(len(l)-1): c=1   #but if unique we mark it with the help of c parameter\n",
    "        if c==1: \n",
    "            unique_num.append(temp)    #now we append the unique number to the list\n",
    "            \n",
    "    print(\"There is {} unique numbers in the list which are listed as:\".format(len(unique_num)), unique_num)\n",
    "    \n",
    "l = [36, 45, 58, 3, 74, 96, 64, 45, 31, 10, 24, 19, 33, 86, 99, 18, 63, 70, 85,\n",
    " 85, 63, 47, 56, 42, 70, 84, 88, 55, 20, 54, 8, 56, 51, 79, 81, 57, 37, 91,\n",
    " 1, 84, 84, 36, 66, 9, 89, 50, 42, 91, 50, 95, 90, 98, 39, 16, 82, 31, 92, 41,\n",
    " 45, 30, 66, 70, 34, 85, 94, 5, 3, 36, 72, 91, 84, 34, 87, 75, 53, 51, 20, 89, 51, 20]\n",
    "\n",
    "Unique(l)"
   ]
  },
  {
   "cell_type": "code",
   "execution_count": 114,
   "id": "b05bf60b",
   "metadata": {},
   "outputs": [
    {
     "data": {
      "text/plain": [
       "64"
      ]
     },
     "execution_count": 114,
     "metadata": {},
     "output_type": "execute_result"
    }
   ],
   "source": [
    "#Q6:\n",
    "\n",
    "def sq(x): return x**2\n",
    "def qb(x): return x**3\n",
    "def Sixth(x): return sq(qb(x))\n",
    "    \n",
    "Sixth(2) "
   ]
  },
  {
   "cell_type": "code",
   "execution_count": 115,
   "id": "0e4a7fcb",
   "metadata": {
    "scrolled": true
   },
   "outputs": [
    {
     "name": "stdout",
     "output_type": "stream",
     "text": [
      "[0, 1, 8, 27, 64, 125, 216, 343, 512, 729, 1000]\n"
     ]
    }
   ],
   "source": [
    "#Q7.a\n",
    "\n",
    "cube=[]\n",
    "for i in range(11): cube.append(i**3)\n",
    "print(cube)"
   ]
  },
  {
   "cell_type": "code",
   "execution_count": 116,
   "id": "5d3e7ac0",
   "metadata": {},
   "outputs": [
    {
     "name": "stdout",
     "output_type": "stream",
     "text": [
      "[0, 1, 8, 27, 64, 125, 216, 343, 512, 729, 1000]\n"
     ]
    }
   ],
   "source": [
    "#Q7.b\n",
    "\n",
    "cubed=[i**3 for i in range(11)]\n",
    "print(cubed)"
   ]
  },
  {
   "cell_type": "code",
   "execution_count": 117,
   "id": "b7721dcb",
   "metadata": {},
   "outputs": [
    {
     "name": "stdout",
     "output_type": "stream",
     "text": [
      "[[3, 4, 5], [4, 3, 5], [5, 12, 13], [6, 8, 10], [7, 24, 25], [8, 6, 10], [8, 15, 17], [9, 12, 15], [9, 40, 41], [10, 24, 26], [11, 60, 61], [12, 5, 13], [12, 9, 15], [12, 16, 20], [12, 35, 37], [13, 84, 85], [14, 48, 50], [15, 8, 17], [15, 20, 25], [15, 36, 39], [16, 12, 20], [16, 30, 34], [16, 63, 65], [18, 24, 30], [18, 80, 82], [20, 15, 25], [20, 21, 29], [20, 48, 52], [21, 20, 29], [21, 28, 35], [21, 72, 75], [24, 7, 25], [24, 10, 26], [24, 18, 30], [24, 32, 40], [24, 45, 51], [24, 70, 74], [25, 60, 65], [27, 36, 45], [28, 21, 35], [28, 45, 53], [30, 16, 34], [30, 40, 50], [30, 72, 78], [32, 24, 40], [32, 60, 68], [33, 44, 55], [33, 56, 65], [35, 12, 37], [35, 84, 91], [36, 15, 39], [36, 27, 45], [36, 48, 60], [36, 77, 85], [39, 52, 65], [39, 80, 89], [40, 9, 41], [40, 30, 50], [40, 42, 58], [40, 75, 85], [42, 40, 58], [42, 56, 70], [44, 33, 55], [45, 24, 51], [45, 28, 53], [45, 60, 75], [48, 14, 50], [48, 20, 52], [48, 36, 60], [48, 55, 73], [48, 64, 80], [51, 68, 85], [52, 39, 65], [54, 72, 90], [55, 48, 73], [56, 33, 65], [56, 42, 70], [57, 76, 95], [60, 11, 61], [60, 25, 65], [60, 32, 68], [60, 45, 75], [60, 63, 87], [63, 16, 65], [63, 60, 87], [64, 48, 80], [65, 72, 97], [68, 51, 85], [70, 24, 74], [72, 21, 75], [72, 30, 78], [72, 54, 90], [72, 65, 97], [75, 40, 85], [76, 57, 95], [77, 36, 85], [80, 18, 82], [80, 39, 89], [84, 13, 85], [84, 35, 91]]\n"
     ]
    }
   ],
   "source": [
    "#Q8:\n",
    "\n",
    "import numpy as np\n",
    "\n",
    "W=[[a,b,int(np.sqrt(a**2 + b**2))] for a in range(1,100) for b in range(1,100) if np.sqrt(a**2 + b**2) in [i for i in range(1,100)]]\n",
    "\n",
    "print(W)"
   ]
  },
  {
   "cell_type": "code",
   "execution_count": 118,
   "id": "2bd4da63",
   "metadata": {},
   "outputs": [
    {
     "name": "stdout",
     "output_type": "stream",
     "text": [
      "the normalized values for x and y is: (0.6, 0.4)\n"
     ]
    }
   ],
   "source": [
    "#Q9:\n",
    "\n",
    "a=(3,2)\n",
    "\n",
    "def norm(a): return (a[0]/(a[1] + a[0]) , a[1]/(a[0] + a[1])) \n",
    "\n",
    "print(\"the normalized values for x and y is:\", norm(a))"
   ]
  }
 ],
 "metadata": {
  "kernelspec": {
   "display_name": "Python 3",
   "language": "python",
   "name": "python3"
  },
  "language_info": {
   "codemirror_mode": {
    "name": "ipython",
    "version": 3
   },
   "file_extension": ".py",
   "mimetype": "text/x-python",
   "name": "python",
   "nbconvert_exporter": "python",
   "pygments_lexer": "ipython3",
   "version": "3.8.8"
  }
 },
 "nbformat": 4,
 "nbformat_minor": 5
}
