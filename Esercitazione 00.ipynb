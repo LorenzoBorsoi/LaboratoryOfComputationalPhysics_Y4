{
 "cells": [
  {
   "cell_type": "markdown",
   "id": "8403b5f0",
   "metadata": {},
   "source": [
    "# Esercizio1\n",
    "\n",
    "### The MickeyMouse problem\n",
    "\n"
   ]
  },
  {
   "cell_type": "markdown",
   "id": "8a1054f5",
   "metadata": {},
   "source": [
    "a) Write a program that prints the numbers from 1 to 100. But for multiples of three print Mickey instead of the number and for the multiples of five print Mouse. For numbers which are multiples of both three and five print MickeyMouse\n",
    "\n",
    "b) Put the result in a tuple and substitute Mickey with Donald and Mouse with Duck"
   ]
  },
  {
   "cell_type": "code",
   "execution_count": 1,
   "id": "bbefe0ae",
   "metadata": {},
   "outputs": [],
   "source": [
    "#a)\n",
    "MickeyMouse = [x for x in range(101)]\n",
    "print(\"Numeri da 1 a 100\")\n",
    "print(MickeyMouse)\n",
    "\n",
    "def sostituzione(lista):\n",
    "    for i in range(0,len(lista)):\n",
    "        if lista[i]%3 == 0:\n",
    "            lista[i] =\"Mickey\"\n",
    "        elif lista[i]%5 == 0:\n",
    "            lista[i] =\"Mouse\"\n",
    "        elif lista[i]%3==0 and lista[i]%5==0:\n",
    "            lista[i] =\"MickeyMouse\"\n",
    "\n",
    "    return lista\n",
    "\n",
    "new_Mickey_Mouse = sostituzione(MickeyMouse)\n",
    "print(\"\\nlista con numeri da 1 a 100 con modifica MickeyMouse:\")\n",
    "print(new_Mickey_Mouse)\n",
    "\n",
    "\n",
    "\n",
    "#b)\n",
    "#trasformiamo la lista in una tupla\n",
    "new_Mickey_Mouse_tuple = tuple(new_Mickey_Mouse)\n",
    "print(\"\\ntupla con numeri da 1 a 100 con modifica MickeyMouse:\")\n",
    "print(new_Mickey_Mouse_tuple)\n",
    "\n",
    "def cambionome(lista):\n",
    "    for i in range(0,len(lista)):\n",
    "        if lista[i] == \"Mickey\":\n",
    "            lista[i] =\"Donald\"\n",
    "        elif lista[i] == \"Mouse\":\n",
    "            lista[i] =\"Duck\"\n",
    "\n",
    "    return lista\n",
    "\n",
    "Donald_Duck = cambionome(new_Mickey_Mouse)\n",
    "print(\"\\nlista MickeyMouse con modifica DonaldDuck:\")\n",
    "print(Donald_Duck)\n",
    "#trasformiamo la lista in una tupla\n",
    "Donald_Duck_tuple = tuple(Donald_Duck)\n",
    "print(\"\\ntupla MickeyMouse con modifica DonaldDuck:\")\n",
    "print(Donald_Duck_tuple)\n"
   ]
  },
  {
   "cell_type": "markdown",
   "id": "e8f08de1",
   "metadata": {},
   "source": [
    "# Esercizio 2\n",
    "### The swap function\n",
    "Write a function that swap the values of two input variables x and y (whatever the type). Try to do that also without a temporary variable"
   ]
  },
  {
   "cell_type": "code",
   "execution_count": 2,
   "id": "2b198d43",
   "metadata": {},
   "outputs": [
    {
     "name": "stdout",
     "output_type": "stream",
     "text": [
      "Inserisci il primo input: l\n",
      "Inserisci il secondo input: s\n",
      "Hai inserito i seguenti input:  ['l', 's']\n",
      "Gli input scambiati sono:  ['s', 'l']\n"
     ]
    }
   ],
   "source": [
    "#swap function with temporary variable\n",
    "\n",
    "a = input(\"Inserisci il primo input: \")\n",
    "b =  input(\"Inserisci il secondo input: \")\n",
    "\n",
    "inputs=[a,b]\n",
    "print(\"Hai inserito i seguenti input: \",inputs)\n",
    "\n",
    "def swap_temp(a,b):\n",
    "    temp=a\n",
    "    a=b\n",
    "    b=temp\n",
    "    return [a,b]\n",
    "\n",
    "print(\"Gli input scambiati sono: \",swap_temp(a,b))"
   ]
  },
  {
   "cell_type": "code",
   "execution_count": 1,
   "id": "dc61f937",
   "metadata": {},
   "outputs": [
    {
     "name": "stdout",
     "output_type": "stream",
     "text": [
      "Inserisci il primo input: l\n",
      "Inserisci il secondo input: s\n",
      "Hai inserito i seguenti input:  ['l', 's']\n",
      "Gli input scambiati sono:  ['s', 'l']\n"
     ]
    }
   ],
   "source": [
    "#swap function without temporary variable\n",
    "\n",
    "a = input(\"Inserisci il primo input: \")\n",
    "b = input(\"Inserisci il secondo input: \")\n",
    "\n",
    "inputs=[a,b]\n",
    "print(\"Hai inserito i seguenti input: \",inputs)\n",
    "\n",
    "def swap_no_temp(a,b):\n",
    "    a,b = b,a\n",
    "    return [a,b]\n",
    "\n",
    "print(\"Gli input scambiati sono: \",swap_no_temp(a,b))"
   ]
  },
  {
   "cell_type": "markdown",
   "id": "238c44af",
   "metadata": {},
   "source": [
    "# Esercizio 3\n",
    "### Computing the distance\n",
    "Write a function that calculates and returns the euclidean distance between two points u and v, where u and v are both 2-tuples (x,y). For example, if u=(3,0) and v=(0,4), the function should return 5"
   ]
  },
  {
   "cell_type": "code",
   "execution_count": 2,
   "id": "72338e81",
   "metadata": {},
   "outputs": [
    {
     "name": "stdout",
     "output_type": "stream",
     "text": [
      "Inserisci primo valore tupla u: 3.7\n",
      "Inserisci secondo valore tupla u: 4.8\n",
      "Inserisci primo valore tupla v: 2.7\n",
      "Inserisci secondo valore tupla v: 5.9\n",
      "PUNTO 1:  (3.7, 4.8)\n",
      "PUNTO 2:  (2.7, 5.9)\n",
      "DISTANZA EUCLIDEA:  1.487\n"
     ]
    }
   ],
   "source": [
    "from math import sqrt\n",
    "#warning\n",
    "x_u = float(input(\"Inserisci primo valore tupla u: \"))\n",
    "y_u = float(input(\"Inserisci secondo valore tupla u: \"))\n",
    "\n",
    "x_v = float(input(\"Inserisci primo valore tupla v: \"))\n",
    "y_v = float(input(\"Inserisci secondo valore tupla v: \"))\n",
    "\n",
    "u = (x_u, y_u)\n",
    "v = (x_v, y_v)\n",
    "\n",
    "print(\"PUNTO 1: \",u)\n",
    "print(\"PUNTO 2: \",v)\n",
    "\n",
    "def distance(tuple_1, tuple_2):\n",
    "    sum=0\n",
    "    for k in range(2):\n",
    "        sum += ((tuple_1[k]) - tuple_2[k])**2\n",
    "        r = sqrt(sum)\n",
    "\n",
    "    return r\n",
    "\n",
    "euclidean_distance = distance(u,v)\n",
    "print(\"DISTANZA EUCLIDEA: \",round(euclidean_distance,3))"
   ]
  },
  {
   "cell_type": "markdown",
   "id": "74b66eb5",
   "metadata": {},
   "source": [
    "# Esercizio 4\n",
    "### Counting letters\n",
    "Write a program to calculate the number of times each character occurs in a given string s. Ignore differneces in capitalization"
   ]
  },
  {
   "cell_type": "code",
   "execution_count": 9,
   "id": "b2c00c69",
   "metadata": {},
   "outputs": [
    {
     "name": "stdout",
     "output_type": "stream",
     "text": [
      "{'w': 2, 'r': 17, 'i': 14, 't': 19, 'e': 22, ' ': 39, 'a': 7, 'p': 8, 'o': 13, 'g': 1, 'm': 12, 'h': 9, 'n': 10, 's': 9, 'u': 9, 'b': 5, 'f': 10, '1': 2, '0': 2, '.': 2, 'l': 6, 'c': 3, 'k': 2, 'y': 2, 'd': 3, 'v': 2}\n"
     ]
    }
   ],
   "source": [
    "s=\"Write a program that prints the numbers from 1 to 100.\" \\\n",
    "  \"But for multiples of three print Mickey instead of the number and for the multiples of five print Mouse.\" \\\n",
    "  \"For numbers which are multiples of both three and five print MickeyMouse\"\n",
    "\n",
    "def contatore(stringa):\n",
    "    dizionario = {} #item è una lettera\n",
    "    for item in stringa.lower(): #siccome non c'è differenza tra lettere maiuscole e minuscole, trasformo tutte le maiuscole in minuscole\n",
    "        dizionario[item] = dizionario.get(item, 0) + 1\n",
    "\n",
    "    return dizionario\n",
    "\n",
    "print(contatore(s))"
   ]
  },
  {
   "cell_type": "markdown",
   "id": "5f2dac38",
   "metadata": {},
   "source": [
    "# Esercizio 5\n",
    "### Isolating the unique\n",
    "Write a function that determines and count the unique numbers in the list l"
   ]
  },
  {
   "cell_type": "code",
   "execution_count": 14,
   "id": "257a7438",
   "metadata": {},
   "outputs": [
    {
     "name": "stdout",
     "output_type": "stream",
     "text": [
      "list of values:  [36, 45, 58, 3, 74, 96, 64, 45, 31, 10, 24, 19, 33, 86, 99, 18, 63, 70, 85, 85, 63, 47, 56, 42, 70, 84, 88, 55, 20, 54, 8, 56, 51, 79, 81, 57, 37, 91, 1, 84, 84, 36, 66, 9, 89, 50, 42, 91, 50, 95, 90, 98, 39, 16, 82, 31, 92, 41, 45, 30, 66, 70, 34, 85, 94, 5, 3, 36, 72, 91, 84, 34, 87, 75, 53, 51, 20, 89, 51, 20]\n",
      "\n",
      "Number of values in list l:  80\n",
      "\n",
      "Number of unique values in list l:  37\n",
      "\n",
      "The unique values in list l are: [58, 74, 96, 64, 10, 24, 19, 33, 86, 99, 18, 47, 88, 55, 54, 8, 79, 81, 57, 37, 1, 9, 95, 90, 98, 39, 16, 82, 92, 41, 30, 94, 5, 72, 87, 75, 53]\n"
     ]
    }
   ],
   "source": [
    "l = [36, 45, 58, 3, 74, 96, 64, 45, 31, 10, 24, 19, 33, 86, 99, 18, 63, 70, 85,\n",
    " 85, 63, 47, 56, 42, 70, 84, 88, 55, 20, 54, 8, 56, 51, 79, 81, 57, 37, 91,\n",
    " 1, 84, 84, 36, 66, 9, 89, 50, 42, 91, 50, 95, 90, 98, 39, 16, 82, 31, 92, 41,\n",
    " 45, 30, 66, 70, 34, 85, 94, 5, 3, 36, 72, 91, 84, 34, 87, 75, 53, 51, 20, 89, 51, 20]\n",
    "\n",
    "print(\"list of values: \",l)\n",
    "print(\"\\nNumber of values in list l: \",len(l))\n",
    "#CON QUESTA FUNZIONE CONTO QUANTE VOLTE CIASCUN NUMERO COMPARE.\n",
    "def contatore(lista):\n",
    "    dizionario = {}  #istanzio il mio dizionario\n",
    "    for item in lista:\n",
    "        dizionario[item] = dizionario.get(item, 0) + 1 #ciascun numero è una chiave, e il valore associato è il numero di volte che compare nella lista.\n",
    "    return dizionario\n",
    "\n",
    "\n",
    "dizionario  = contatore(l)\n",
    "#print(dizionario)\n",
    "\n",
    "#INDIVIDUO I VALORI LE CUI KEYS SONO PARI AD 1 (significa che il valore è comparso una sola volta\n",
    "unique = []\n",
    "for number, count in dizionario.items():\n",
    "    if count == 1:\n",
    "        unique.append(number)\n",
    "\n",
    "print(\"\\nNumber of unique values in list l: \",len(unique))\n",
    "print(\"\\nThe unique values in list l are:\",unique)\n"
   ]
  },
  {
   "cell_type": "markdown",
   "id": "5a26321b",
   "metadata": {},
   "source": [
    "# Esercizio 6\n",
    "### Combination of functions\n",
    "\n",
    "Write two functions - one that returns the square of a number, and one that returns the cube. Now write a third function that returns the number raised to the 6th power using the two previous functions."
   ]
  },
  {
   "cell_type": "code",
   "execution_count": 15,
   "id": "a1a9efaf",
   "metadata": {},
   "outputs": [
    {
     "name": "stdout",
     "output_type": "stream",
     "text": [
      "inserisci un numero: 45\n",
      "Numero inserito:  45.0\n",
      "la sesta potenza del numero inserito è:  8303765625.0\n"
     ]
    }
   ],
   "source": [
    "number = float(input(\"inserisci un numero: \"))\n",
    "print(\"Numero inserito: \",number)\n",
    "\n",
    "def square(a):\n",
    "    return a**2\n",
    "\n",
    "def cube(a):\n",
    "    return a**3\n",
    "\n",
    "def sixth(a):\n",
    "    return a*cube(a)*square(a)\n",
    "\n",
    "print(\"la sesta potenza del numero inserito è: \",round(sixth(number),3))"
   ]
  },
  {
   "cell_type": "markdown",
   "id": "6c1486a4",
   "metadata": {},
   "source": [
    "# Esercizo 7 \n",
    "### Cubes\n",
    "Create a list of the cubes of x for x in [0, 10] using:\n",
    "\n",
    "a) a for loop"
   ]
  },
  {
   "cell_type": "code",
   "execution_count": 16,
   "id": "ea0587c6",
   "metadata": {},
   "outputs": [
    {
     "name": "stdout",
     "output_type": "stream",
     "text": [
      "list of the cubes using loop:  [0, 1, 8, 27, 64, 125, 216, 343, 512, 729, 1000]\n"
     ]
    }
   ],
   "source": [
    "cubes_loop = []\n",
    "for x in range(11):\n",
    "    cubes_loop.append(x**3)\n",
    "print(\"list of the cubes using loop: \",cubes_loop)"
   ]
  },
  {
   "cell_type": "markdown",
   "id": "43fe655c",
   "metadata": {},
   "source": [
    "b) a list comprehension"
   ]
  },
  {
   "cell_type": "code",
   "execution_count": 17,
   "id": "58cde53c",
   "metadata": {},
   "outputs": [
    {
     "name": "stdout",
     "output_type": "stream",
     "text": [
      "list of the cubes using comprhension:  [0, 1, 8, 27, 64, 125, 216, 343, 512, 729, 1000]\n"
     ]
    }
   ],
   "source": [
    "#Create a list of the cubes of x for x in [0, 10] using list comprhension\n",
    "cubes_comprhension = [x**3 for x in range(11)]\n",
    "print(\"list of the cubes using comprhension: \",cubes_comprhension)\n"
   ]
  },
  {
   "cell_type": "markdown",
   "id": "626caea5",
   "metadata": {},
   "source": [
    "# Esercizio 8\n",
    "### Nested list comprehension\n",
    "A Pythagorean triple is an integer solution to the Pythagorean theorem $a^2+b^2=c^2$. The first Pythagorean triple is (3,4,5). Find and put in a tuple all unique Pythagorean triples for the positive integers a, b and c less than 100."
   ]
  },
  {
   "cell_type": "code",
   "execution_count": 32,
   "id": "4fd00f7f",
   "metadata": {},
   "outputs": [
    {
     "name": "stdout",
     "output_type": "stream",
     "text": [
      "((3, 4, 5), (4, 3, 5), (5, 12, 13), (6, 8, 10), (7, 24, 25), (8, 6, 10), (8, 15, 17), (9, 12, 15), (9, 40, 41), (10, 24, 26), (11, 60, 61), (12, 5, 13), (12, 9, 15), (12, 16, 20), (12, 35, 37), (13, 84, 85), (14, 48, 50), (15, 8, 17), (15, 20, 25), (15, 36, 39), (16, 12, 20), (16, 30, 34), (16, 63, 65), (18, 24, 30), (18, 80, 82), (20, 15, 25), (20, 21, 29), (20, 48, 52), (21, 20, 29), (21, 28, 35), (21, 72, 75), (24, 7, 25), (24, 10, 26), (24, 18, 30), (24, 32, 40), (24, 45, 51), (24, 70, 74), (25, 60, 65), (27, 36, 45), (28, 21, 35), (28, 45, 53), (30, 16, 34), (30, 40, 50), (30, 72, 78), (32, 24, 40), (32, 60, 68), (33, 44, 55), (33, 56, 65), (35, 12, 37), (35, 84, 91), (36, 15, 39), (36, 27, 45), (36, 48, 60), (36, 77, 85), (39, 52, 65), (39, 80, 89), (40, 9, 41), (40, 30, 50), (40, 42, 58), (40, 75, 85), (42, 40, 58), (42, 56, 70), (44, 33, 55), (45, 24, 51), (45, 28, 53), (45, 60, 75), (48, 14, 50), (48, 20, 52), (48, 36, 60), (48, 55, 73), (48, 64, 80), (51, 68, 85), (52, 39, 65), (54, 72, 90), (55, 48, 73), (56, 33, 65), (56, 42, 70), (57, 76, 95), (60, 11, 61), (60, 25, 65), (60, 32, 68), (60, 45, 75), (60, 63, 87), (63, 16, 65), (63, 60, 87), (64, 48, 80), (65, 72, 97), (68, 51, 85), (70, 24, 74), (72, 21, 75), (72, 30, 78), (72, 54, 90), (72, 65, 97), (75, 40, 85), (76, 57, 95), (77, 36, 85), (80, 18, 82), (80, 39, 89), (84, 13, 85), (84, 35, 91))\n"
     ]
    }
   ],
   "source": [
    "Pythagorean_list = [(a,b,c) for a in range(1,100) for b in range(1,100) for c in range(1,100) if a**2 + b**2 == c**2]\n",
    "print(tuple(Pythagorean_list))\n"
   ]
  },
  {
   "cell_type": "markdown",
   "id": "a3bfaf7c",
   "metadata": {},
   "source": [
    "# Esercizio 9\n",
    "### Normalization\n",
    "Write a function that takes a tuple of numbers and returns it with the entries normalized to one"
   ]
  },
  {
   "cell_type": "code",
   "execution_count": 18,
   "id": "3b101777",
   "metadata": {},
   "outputs": [
    {
     "name": "stdout",
     "output_type": "stream",
     "text": [
      "Quanti valori vuoi inserire?(Inserire un numero intero) 5\n",
      "Inserisci valore(intero o decimale): 2\n",
      "Inserisci valore(intero o decimale): 4\n",
      "Inserisci valore(intero o decimale): 6\n",
      "Inserisci valore(intero o decimale): 7\n",
      "Inserisci valore(intero o decimale): 5\n",
      "Valori inseriti:  (2.0, 4.0, 6.0, 7.0, 5.0)\n",
      "Valori normalizzati:  (0.083, 0.167, 0.25, 0.292, 0.208)\n"
     ]
    }
   ],
   "source": [
    "dim = int(input(\"Quanti valori vuoi inserire?(Inserire un numero intero) \"))\n",
    "\n",
    "\n",
    "values= []\n",
    "for i in range(1,dim+1):\n",
    "    element = float(input(\"Inserisci valore(intero o decimale): \"))\n",
    "    values.append(element)\n",
    "values = tuple(values)\n",
    "print(\"Valori inseriti: \",values)\n",
    "\n",
    "normalized_values =  [round(i/sum(values),3) for i in values]\n",
    "normalized_values = tuple(normalized_values)\n",
    "print(\"Valori normalizzati: \",normalized_values )"
   ]
  }
 ],
 "metadata": {
  "kernelspec": {
   "display_name": "Python 3",
   "language": "python",
   "name": "python3"
  },
  "language_info": {
   "codemirror_mode": {
    "name": "ipython",
    "version": 3
   },
   "file_extension": ".py",
   "mimetype": "text/x-python",
   "name": "python",
   "nbconvert_exporter": "python",
   "pygments_lexer": "ipython3",
   "version": "3.8.8"
  }
 },
 "nbformat": 4,
 "nbformat_minor": 5
}
