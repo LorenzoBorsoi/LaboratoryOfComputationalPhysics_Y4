{
 "cells": [
  {
   "cell_type": "markdown",
   "metadata": {},
   "source": [
    "1\\. **Radioactive decay chain**\n",
    "\n",
    "${\\rm Tl}^{208}$ decays to ${\\rm Pb}^{208}$ with a half-lieve of 3.052 minutes. Suppose to start with a sample of 1000 Thallium atoms and 0 of Lead atoms.\n",
    "\n",
    "* Take steps in time of 1 second and at each time-step decide whether each Tl atom has decayed or not, accordingly to the probability $p(t)=1-2^{-t/\\tau}$. Subtract the total number of Tl atoms that decayed at each step from the Tl sample and add them to the Lead one. Plot the evolution of the two sets as a function of time  \n",
    "* Repeat the exercise by means of the inverse transform method: draw 1000 random numbers from the non-uniform probability distribution $p(t)=2^{-t/\\tau}\\frac{\\ln 2}{\\tau}$ to represent the times of decay of the 1000 Tl atoms. Make a plot showing the number of atoms that have not decayed as a function of time"
   ]
  },
  {
   "cell_type": "code",
   "execution_count": 1,
   "metadata": {},
   "outputs": [
    {
     "data": {
      "image/png": "[encoded data removed]",
      "text/plain": [
       "<Figure size 432x288 with 1 Axes>"
      ]
     },
     "metadata": {
      "needs_background": "light"
     },
     "output_type": "display_data"
    }
   ],
   "source": [
    "import numpy as np\n",
    "import matplotlib.pyplot as plt\n",
    "\n",
    "def p(t):\n",
    "    return 1-2**(-t/Tau)\n",
    "\n",
    "# task 1\n",
    "Tau=3.052*60                         # Tau in seconds\n",
    "nT=[1000]                            # array with TI population per every step in time\n",
    "nP=[0]                               # array with Pb population per every step in time\n",
    "ts=range(40*60)\n",
    "for t in ts[1:]:\n",
    "    q=np.random.rand(nT[t-1])        # similar to accept/reject method\n",
    "    n_decaded=q[q<p(1)]              # p(1) because I evaluate the number of atom decayed every 1 min\n",
    "    nT.append(nT[t-1]-len(n_decaded))\n",
    "    nP.append(nP[t-1]+len(n_decaded))\n",
    "plt.plot(np.array(ts)/60,nT,'.',label=r'$\\rm TI^{208}$')\n",
    "plt.plot(np.array(ts)/60,nP,'.',label=r'$\\rm Pb^{208}$ - task 1')\n",
    "plt.xlabel('t  [min]')\n",
    "plt.ylabel('Number of atoms')\n",
    "\n",
    "# task 2\n",
    "z=np.random.rand(1000)\n",
    "t=-Tau*np.log2(1-z)\n",
    "nd=[]\n",
    "for i in ts:                         # using the same time-grid of the previous task\n",
    "    nd.append(len(t[t<i]))\n",
    "plt.plot(np.array(ts)/60,nd,'.',label=r'$\\rm Pb^{208}$ - task 2')\n",
    "plt.legend(loc='best')\n",
    "plt.grid()\n",
    "plt.show()"
   ]
  },
  {
   "cell_type": "markdown",
   "metadata": {},
   "source": [
    "2\\. **Rutherford Scattering**\n",
    "\n",
    "The scattering angle $\\theta$ of $\\alpha$ particles hitting a positively charged nucleus of a Gold atom ($Z=79$) follows the rule:\n",
    "\n",
    "$$\n",
    "\\tan{\\frac{1}{2} \\theta} = \\frac{Z e^2} {2\\pi \\epsilon_0 E b}\n",
    "$$\n",
    "\n",
    "where $E=7.7$ MeV and $b$ beam is the impact parameter. The beam is represented by a 2D gaussian distribution with $\\sigma=a_0/100$ for both coordinates ($a_0$ being the Bohr radius). Assume 1 million $\\alpha$ particles are shot on the gold atom.\n",
    "\n",
    "Computing the fraction of particles that \"bounce back\",i.e. those particle whose scattering angle is greater than $\\pi/2$ (which set a condition on the impact parameter $b$)"
   ]
  },
  {
   "cell_type": "code",
   "execution_count": 2,
   "metadata": {},
   "outputs": [
    {
     "name": "stdout",
     "output_type": "stream",
     "text": [
      "Fraction of particles that bounce back: 0.00130 %\n"
     ]
    }
   ],
   "source": [
    "# setting the parameters\n",
    "Z=79\n",
    "e=1.6e-19\n",
    "eps_0=8.85e-12\n",
    "E=1.23e-11\n",
    "a0=5.29e-11\n",
    "\n",
    "xy=np.random.normal(scale=a0/100,size=(1000000,2))      # coordinates x and y of the alpha particles\n",
    "b=np.sqrt(xy[:,0]**2+xy[:,1]**2)                        # radial coordinate r of the alpha particles (= impact parameter)\n",
    "tan=Z*e**2/(2*np.pi*eps_0*E*b)                          # evaluating tan(theta/2)\n",
    "frac=len(tan[tan>1])/1e6\n",
    "print('Fraction of particles that bounce back: %.5f %%' %(100*frac))"
   ]
  },
  {
   "cell_type": "markdown",
   "metadata": {},
   "source": [
    "3\\. **Monte Carlo integration: hit/miss vs mean value method**\n",
    "\n",
    "Consider the function \n",
    "\n",
    "$$f(x) =\\sin^2{\\frac{1}{x(2-x)}}$$\n",
    "\n",
    "* Compute the integral of $f(x)$ between 0 and 2 with the hit/miss method. Evaluate the error of your estimate\n",
    "* Repeat the integral with the mean value method. Evaluate the error and compare it with the previous one"
   ]
  },
  {
   "cell_type": "code",
   "execution_count": 3,
   "metadata": {},
   "outputs": [
    {
     "name": "stdout",
     "output_type": "stream",
     "text": [
      "Integral (hit/miss method) = 1.4512 +/- 0.0025\n",
      "Integral (mean value method) = 1.4514 +/- 0.0017\n"
     ]
    }
   ],
   "source": [
    "def f(x):\n",
    "    return np.sin(1/(x*(2-x)))**2\n",
    "\n",
    "# first task\n",
    "N=100000\n",
    "count=0\n",
    "results=[]\n",
    "for j in range(50):                 # evaluating the integral 50 times to determine the error on the estimation\n",
    "    count=0\n",
    "    for i in range(N):\n",
    "        x=np.random.uniform(high=2)\n",
    "        y=np.random.rand()\n",
    "        if y<f(x): count+=1\n",
    "    I=2*count/N\n",
    "    results.append(I)\n",
    "mean=np.mean(results)               # mean of the various estimations\n",
    "std=np.std(results)                 # std of the various estimations\n",
    "print('Integral (hit/miss method) = %.4f +/- %.4f' %(mean,std))\n",
    "\n",
    "# second task\n",
    "x=np.random.uniform(high=2,size=N)\n",
    "fx=f(x)\n",
    "I=2/N*sum(fx)\n",
    "sigma=2*np.std(fx)/np.sqrt(N)\n",
    "print('Integral (mean value method) = %.4f +/- %.4f' %(I,sigma))\n",
    "# comparing the two error, we observe that the error of the mean value method is usually a half of the one of the hit/miss method"
   ]
  },
  {
   "cell_type": "markdown",
   "metadata": {},
   "source": [
    "4\\. **Monte Carlo integration in high dimension**\n",
    "\n",
    "* Start of by computing the area of a circle of unit radius, by integrating the function \n",
    "\n",
    "$$\n",
    "f(x,y)=\n",
    "\\left\\{\n",
    "\\begin{array}{ll}\n",
    "      1 & x^2+y^2\\le 1 \\\\\n",
    "      0 & {\\rm elsewhere}\n",
    "\\end{array} \n",
    "\\right.\n",
    "$$\n",
    "\n",
    "* Generalize the result for a 10D sphere\n",
    "\n"
   ]
  },
  {
   "cell_type": "code",
   "execution_count": 4,
   "metadata": {},
   "outputs": [
    {
     "name": "stdout",
     "output_type": "stream",
     "text": [
      "Area of the cirle = 3.134\n",
      "Ipervolume of the 10D sphere = 2.652\n"
     ]
    }
   ],
   "source": [
    "# here, the mean value method is perfecty equal to the hit/miss method. I will use the former.\n",
    "# task 1\n",
    "N=100000\n",
    "x, y = np.random.uniform(low=-1,size=N), np.random.uniform(low=-1,size=N)\n",
    "k=0\n",
    "for i in range(N):\n",
    "    if x[i]**2+y[i]**2<1:\n",
    "        k+=1\n",
    "I=k*4/N\n",
    "print('Area of the cirle = %.3f' %I)\n",
    "\n",
    "# task 2\n",
    "N=100000\n",
    "dim=10\n",
    "xndim=np.random.uniform(low=-1,size=(N,dim))\n",
    "k=0\n",
    "for i in range(N):\n",
    "    if sum(xndim[i,:]**2)<1:\n",
    "        k+=1\n",
    "Indim=k*np.exp2(dim)/N\n",
    "print('Ipervolume of the 10D sphere = %.3f' %Indim)\n",
    "# comparing the result with the one theoretically expected (~2.5502) we note that the result is less accurate. So we declare\n",
    "    # that with higher dimension we observe less accurate results (at least using the hit/miss method)"
   ]
  },
  {
   "cell_type": "markdown",
   "metadata": {},
   "source": [
    "5\\. **Monte Carlo integration with importance sampling** \n",
    "\n",
    "Calculate the value of the integral:\n",
    "\n",
    "$$\n",
    "I=\\int_0^1 \\frac{x^{-1/2}}{e^x+1} dx\n",
    "$$\n",
    "\n",
    "using the importance sampling method with $w(x)=1/\\sqrt{x}$. You should get a result about 0.84"
   ]
  },
  {
   "cell_type": "code",
   "execution_count": 5,
   "metadata": {},
   "outputs": [
    {
     "name": "stdout",
     "output_type": "stream",
     "text": [
      "Integral = 0.839\n"
     ]
    }
   ],
   "source": [
    "# the integral of 1/sqrt(x) in [0,1] is 2 (computed analitically)\n",
    "def f(x):\n",
    "    return x**(-1/2)/(np.exp(x)+1)\n",
    "def w(x):\n",
    "    return 1/np.sqrt(x)\n",
    "\n",
    "N=100000\n",
    "x=np.random.rand(N)**2\n",
    "fx=f(x)\n",
    "wx=w(x)\n",
    "I=2/N*sum(f(x)/w(x))\n",
    "print('Integral = %.3f' %I)"
   ]
  }
 ],
 "metadata": {
  "kernelspec": {
   "display_name": "Python 3",
   "language": "python",
   "name": "python3"
  },
  "language_info": {
   "codemirror_mode": {
    "name": "ipython",
    "version": 3
   },
   "file_extension": ".py",
   "mimetype": "text/x-python",
   "name": "python",
   "nbconvert_exporter": "python",
   "pygments_lexer": "ipython3",
   "version": "3.7.6"
  }
 },
 "nbformat": 4,
 "nbformat_minor": 2
}
