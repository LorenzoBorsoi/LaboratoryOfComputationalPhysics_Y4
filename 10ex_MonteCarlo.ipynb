{
 "cells": [
  {
   "cell_type": "code",
   "execution_count": 2,
   "metadata": {},
   "outputs": [],
   "source": [
    "import numpy as np\n",
    "import matplotlib.pyplot as plt\n",
    "from scipy import stats\n",
    "import numpy.random as npr"
   ]
  },
  {
   "cell_type": "markdown",
   "metadata": {},
   "source": [
    "1\\. **Radioactive decay chain**\n",
    "\n",
    "${\\rm Tl}^{208}$ decays to ${\\rm Pb}^{208}$ with a half-lieve of 3.052 minutes. Suppose to start with a sample of 1000 Thallium atoms and 0 of Lead atoms.\n",
    "\n",
    "* Take steps in time of 1 second and at each time-step decide whether each Tl atom has decayed or not, accordingly to the probability $p(t)=1-2^{-t/\\tau}$. Subtract the total number of Tl atoms that decayed at each step from the Tl sample and add them to the Lead one. Plot the evolution of the two sets as a function of time  \n",
    "* Repeat the exercise by means of the inverse transform method: draw 1000 random numbers from the non-uniform probability distribution $p(t)=2^{-t/\\tau}\\frac{\\ln 2}{\\tau}$ to represent the times of decay of the 1000 Tl atoms. Make a plot showing the number of atoms that have not decayed as a function of time"
   ]
  },
  {
   "cell_type": "code",
   "execution_count": 42,
   "metadata": {},
   "outputs": [
    {
     "name": "stdout",
     "output_type": "stream",
     "text": [
      "1.4426950408889634\n",
      "264.186315887587\n",
      "[0.         0.00262027 0.00523367 0.00784022 0.01043994 0.01303286\n",
      " 0.01561897 0.01819831 0.0207709  0.02333674 0.02589586 0.02844827\n",
      " 0.030994   0.03353305 0.03606545 0.03859122 0.04111036 0.04362291\n",
      " 0.04612887 0.04862827 0.05112112 0.05360744 0.05608724 0.05856054\n",
      " 0.06102736 0.06348772 0.06594163 0.06838912 0.07083019 0.07326486\n",
      " 0.07569315 0.07811508 0.08053067 0.08293992 0.08534286 0.08773951\n",
      " 0.09012988 0.09251398 0.09489183 0.09726346 0.09962887 0.10198808\n",
      " 0.10434111 0.10668798 0.10902869 0.11136328 0.11369174 0.11601411\n",
      " 0.11833039 0.1206406  0.12294475 0.12524287 0.12753497 0.12982106\n",
      " 0.13210116 0.13437529 0.13664345 0.13890568 0.14116198 0.14341236\n",
      " 0.14565685 0.14789546 0.1501282  0.15235509 0.15457615 0.15679138\n",
      " 0.15900081 0.16120446 0.16340232 0.16559443 0.1677808  0.16996143\n",
      " 0.17213636 0.17430558 0.17646912 0.17862699 0.18077921 0.18292579\n",
      " 0.18506674 0.18720208 0.18933183 0.19145599 0.1935746  0.19568765\n",
      " 0.19779516 0.19989715 0.20199363 0.20408462 0.20617013 0.20825018\n",
      " 0.21032478 0.21239394 0.21445767 0.216516   0.21856894 0.2206165\n",
      " 0.22265869 0.22469553 0.22672704 0.22875322] [1.         0.99622195 0.99245817 0.98870861 0.98497322 0.98125194\n",
      " 0.97754471 0.9738515  0.97017224 0.96650688 0.96285536 0.95921764\n",
      " 0.95559367 0.95198339 0.94838674 0.94480369 0.94123417 0.93767814\n",
      " 0.93413554 0.93060633 0.92709045 0.92358785 0.92009849 0.91662231\n",
      " 0.91315926 0.9097093  0.90627237 0.90284842 0.89943741 0.89603929\n",
      " 0.89265401 0.88928151 0.88592176 0.8825747  0.87924029 0.87591847\n",
      " 0.87260921 0.86931244 0.86602814 0.86275624 0.8594967  0.85624947\n",
      " 0.85301452 0.84979178 0.84658123 0.8433828  0.84019645 0.83702215\n",
      " 0.83385983 0.83070947 0.827571   0.8244444  0.8213296  0.81822658\n",
      " 0.81513527 0.81205565 0.80898766 0.80593126 0.80288641 0.79985306\n",
      " 0.79683118 0.79382071 0.79082161 0.78783385 0.78485737 0.78189214\n",
      " 0.77893811 0.77599524 0.77306349 0.77014281 0.76723317 0.76433452\n",
      " 0.76144683 0.75857004 0.75570413 0.75284904 0.75000473 0.74717117\n",
      " 0.74434832 0.74153614 0.73873457 0.7359436  0.73316316 0.73039323\n",
      " 0.72763377 0.72488473 0.72214608 0.71941777 0.71669977 0.71399204\n",
      " 0.71129454 0.70860724 0.70593008 0.70326304 0.70060608 0.69795915\n",
      " 0.69532222 0.69269526 0.69007822 0.68747107]\n",
      "[1000.  997.  995.  992.  985.  973.  951.  926.  910.  892.  871.  843.\n",
      "  814.  794.  759.  724.  694.  664.  627.  601.  568.  543.  511.  485.\n",
      "  454.  420.  396.  363.  338.  320.  288.  259.  238.  218.  200.  184.\n",
      "  170.  154.  145.  135.  123.  109.   96.   90.   75.   67.   61.   53.\n",
      "   49.   45.   36.   30.   29.   28.   25.   22.   19.   16.   11.   10.\n",
      "    8.    8.    7.    5.    4.    4.    3.    3.    2.    2.    2.    2.\n",
      "    2.    1.    1.    1.    1.    0.    0.    0.    0.    0.    0.    0.\n",
      "    0.    0.    0.    0.    0.    0.    0.    0.    0.    0.    0.    0.\n",
      "    0.    0.    0.    0.]\n"
     ]
    },
    {
     "data": {
      "text/plain": [
       "[<matplotlib.lines.Line2D at 0x7fea8f09d940>]"
      ]
     },
     "execution_count": 42,
     "metadata": {},
     "output_type": "execute_result"
    },
    {
     "data": {
      "image/png": "[encoded data removed]",
      "text/plain": [
       "<Figure size 864x504 with 1 Axes>"
      ]
     },
     "metadata": {
      "needs_background": "light"
     },
     "output_type": "display_data"
    }
   ],
   "source": [
    "t=np.arange(0,100,1)\n",
    "t_2=3.052*60\n",
    "print(1/np.log(2))\n",
    "tau=t_2/np.log(2)\n",
    "print(tau)\n",
    "p_Tl=1-2**(-t/tau)\n",
    "p_Tlw=(1./2.)**(t/t_2)\n",
    "print(p_Tl, p_Tlw)\n",
    "n_Tl = np.zeros(len(t))\n",
    "n_Pb = np.zeros(len(t))\n",
    "n_Tl[0]=1000\n",
    "n_Pb[0]=0\n",
    "n_dec=0\n",
    "\n",
    "\n",
    "for i in range(1,len(t)):\n",
    "    n_dec=npr.binomial(n_Tl[i-1], p_Tl[i])\n",
    "    #n_dec=n_Tl[i-1]-n_Tl[i-1]*p_Tlw[i]\n",
    "    #n_dec=n_Tl[i-1]*p_Tl[i]\n",
    "    n_Tl[i]=n_Tl[i-1]-n_dec\n",
    "    n_Pb[i]=n_Pb[i-1]+n_dec\n",
    "\n",
    "print(n_Tl)\n",
    "    \n",
    "    \n",
    "    \n",
    "fig, ax = plt.subplots(figsize=(12,7))\n",
    "\n",
    "ax.plot(t, n_Tl)\n",
    "ax.plot(t, n_Pb)\n"
   ]
  },
  {
   "cell_type": "markdown",
   "metadata": {},
   "source": [
    "2\\. **Rutherford Scattering**\n",
    "\n",
    "The scattering angle $\\theta$ of $\\alpha$ particles hitting a positively charged nucleus of a Gold atom ($Z=79$) follows the rule:\n",
    "\n",
    "$$\n",
    "\\tan{\\frac{1}{2} \\theta} = \\frac{Z e^2} {2\\pi \\epsilon_0 E b}\n",
    "$$\n",
    "\n",
    "where $E=7.7$ MeV and $b$ beam is the impact parameter. The beam is represented by a 2D gaussian distribution with $\\sigma=a_0/100$ for both coordinates ($a_0$ being the Bohr radius). Assume 1 million $\\alpha$ particles are shot on the gold atom.\n",
    "\n",
    "Computing the fraction of particles that \"bounce back\",i.e. those particle whose scattering angle is greater than $\\pi/2$ (which set a condition on the impact parameter $b$)"
   ]
  },
  {
   "cell_type": "markdown",
   "metadata": {},
   "source": [
    "3\\. **Monte Carlo integration: hit/miss vs mean value method**\n",
    "\n",
    "Consider the function \n",
    "\n",
    "$$f(x) =\\sin^2{\\frac{1}{x(2-x)}}$$\n",
    "\n",
    "* Compute the integral of $f(x)$ between 0 and 2 with the hit/miss method. Evaluate the error of your estimate\n",
    "* Repeat the integral with the mean value method. Evaluate the error and compare it with the previous one"
   ]
  },
  {
   "cell_type": "markdown",
   "metadata": {},
   "source": [
    "4\\. **Monte Carlo integration in high dimension**\n",
    "\n",
    "* Start of by computing the area of a circle of unit radius, by integrating the function \n",
    "\n",
    "$$\n",
    "f(x,y)=\n",
    "\\left\\{\n",
    "\\begin{array}{ll}\n",
    "      1 & x^2+y^2\\le 1 \\\\\n",
    "      0 & {\\rm elsewhere}\n",
    "\\end{array} \n",
    "\\right.\n",
    "$$\n",
    "\n",
    "* Generalize the result for a 10D sphere\n",
    "\n"
   ]
  },
  {
   "cell_type": "markdown",
   "metadata": {},
   "source": [
    "5\\. **Monte Carlo integration with importance sampling** \n",
    "\n",
    "Calculate the value of the integral:\n",
    "\n",
    "$$\n",
    "I=\\int_0^1 \\frac{x^{-1/2}}{e^x+1} dx\n",
    "$$\n",
    "\n",
    "using the importance sampling method with $w(x)=1/\\sqrt{x}$. You should get a result about 0.84"
   ]
  },
  {
   "cell_type": "code",
   "execution_count": null,
   "metadata": {},
   "outputs": [],
   "source": []
  }
 ],
 "metadata": {
  "kernelspec": {
   "display_name": "Python 3",
   "language": "python",
   "name": "python3"
  },
  "language_info": {
   "codemirror_mode": {
    "name": "ipython",
    "version": 3
   },
   "file_extension": ".py",
   "mimetype": "text/x-python",
   "name": "python",
   "nbconvert_exporter": "python",
   "pygments_lexer": "ipython3",
   "version": "3.8.8"
  }
 },
 "nbformat": 4,
 "nbformat_minor": 2
}
