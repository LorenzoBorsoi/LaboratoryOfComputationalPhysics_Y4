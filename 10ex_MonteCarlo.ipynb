{
 "cells": [
  {
   "cell_type": "markdown",
   "metadata": {},
   "source": [
    "1\\. **Radioactive decay chain**\n",
    "\n",
    "${\\rm Tl}^{208}$ decays to ${\\rm Pb}^{208}$ with a half-lieve of 3.052 minutes. Suppose to start with a sample of 1000 Thallium atoms and 0 of Lead atoms.\n",
    "\n",
    "* Take steps in time of 1 second and at each time-step decide whether each Tl atom has decayed or not, accordingly to the probability $p(t)=1-2^{-t/\\tau}$. Subtract the total number of Tl atoms that decayed at each step from the Tl sample and add them to the Lead one. Plot the evolution of the two sets as a function of time  \n",
    "* Repeat the exercise by means of the inverse transform method: draw 1000 random numbers from the non-uniform probability distribution $p(t)=2^{-t/\\tau}\\frac{\\ln 2}{\\tau}$ to represent the times of decay of the 1000 Tl atoms. Make a plot showing the number of atoms that have not decayed as a function of time"
   ]
  },
  {
   "cell_type": "code",
   "execution_count": 40,
   "metadata": {},
   "outputs": [],
   "source": [
    "import numpy as np\n",
    "import matplotlib.pyplot as plt\n",
    "import seaborn as sns\n",
    "\n",
    "half_lieve = 3.052*60\n",
    "N0_Tl = 1000\n",
    "N0_Pb = 0\n",
    "\n",
    "time = np.arange(0, half_lieve*10, 1)\n",
    "\n",
    "N_Tl = []\n",
    "N_Pb = []\n",
    "\n",
    "for t in time:\n",
    "    for j in range(N0_Tl):\n",
    "        extraction = np.random.uniform()\n",
    "        if extraction < 1-2**(-1./half_lieve):\n",
    "            N0_Tl -= 1\n",
    "            N0_Pb += 1 \n",
    "\n",
    "    N_Tl.append(N0_Tl)\n",
    "    N_Pb.append(N0_Pb)"
   ]
  },
  {
   "cell_type": "code",
   "execution_count": 43,
   "metadata": {},
   "outputs": [
    {
     "name": "stderr",
     "output_type": "stream",
     "text": [
      "/opt/anaconda3/envs/myenv/lib/python3.8/site-packages/seaborn/_decorators.py:36: FutureWarning: Pass the following variables as keyword args: x, y. From version 0.12, the only valid positional argument will be `data`, and passing other arguments without an explicit keyword will result in an error or misinterpretation.\n",
      "  warnings.warn(\n",
      "/opt/anaconda3/envs/myenv/lib/python3.8/site-packages/seaborn/_decorators.py:36: FutureWarning: Pass the following variables as keyword args: x, y. From version 0.12, the only valid positional argument will be `data`, and passing other arguments without an explicit keyword will result in an error or misinterpretation.\n",
      "  warnings.warn(\n"
     ]
    },
    {
     "data": {
      "text/plain": [
       "Text(0, 0.5, 'Atoms')"
      ]
     },
     "execution_count": 43,
     "metadata": {},
     "output_type": "execute_result"
    },
    {
     "data": {
      "image/png": "[encoded data removed]",
      "text/plain": [
       "<Figure size 504x360 with 1 Axes>"
      ]
     },
     "metadata": {},
     "output_type": "display_data"
    }
   ],
   "source": [
    "fig, ax = plt.subplots( figsize=(7, 5))\n",
    "lw=3\n",
    "sns.set_theme(style=\"white\", font_scale=1.5, palette='Dark2')\n",
    "sns.lineplot(time, N_Tl, label='Tl', ax=ax, lw=lw)\n",
    "sns.lineplot(time, N_Pb, label='Pb', ax=ax, lw=lw)\n",
    "ax.set_xlabel('Time')\n",
    "ax.set_ylabel('Atoms')"
   ]
  },
  {
   "cell_type": "markdown",
   "metadata": {},
   "source": [
    "2\\. **Rutherford Scattering**\n",
    "\n",
    "The scattering angle $\\theta$ of $\\alpha$ particles hitting a positively charged nucleus of a Gold atom ($Z=79$) follows the rule:\n",
    "\n",
    "$$\n",
    "\\tan{\\frac{1}{2} \\theta} = \\frac{Z e^2} {2\\pi \\epsilon_0 E b}\n",
    "$$\n",
    "\n",
    "where $E=7.7$ MeV and $b$ beam is the impact parameter. The beam is represented by a 2D gaussian distribution with $\\sigma=a_0/100$ for both coordinates ($a_0$ being the Bohr radius). Assume 1 million $\\alpha$ particles are shot on the gold atom.\n",
    "\n",
    "Computing the fraction of particles that \"bounce back\",i.e. those particle whose scattering angle is greater than $\\pi/2$ (which set a condition on the impact parameter $b$)"
   ]
  },
  {
   "cell_type": "code",
   "execution_count": 11,
   "metadata": {},
   "outputs": [
    {
     "name": "stdout",
     "output_type": "stream",
     "text": [
      "fraction Accepted:  0.9993\n",
      "fraction rejected:  0.0007\n"
     ]
    }
   ],
   "source": [
    "#natuaral units\n",
    "a_0 = 5.29e4 \n",
    "sigma = a_0/100.\n",
    "N = int(1e4)\n",
    "x = np.random.normal(0, sigma, N)\n",
    "y = np.random.normal(0, sigma, N)\n",
    "epsilon_0 = 1\n",
    "\n",
    "def theta(x,y):\n",
    "    Z = 79\n",
    "    e =  1\n",
    "    E = 7.7 \n",
    "    b = np.sqrt(x**2 + y**2)\n",
    "    return 2*np.arctan((2*Z*e**2)/(E*b))\n",
    "\n",
    "angles = theta(x, y)\n",
    "accepted = angles[np.where(angles < np.pi/2)]\n",
    "rejected = angles[np.where(angles >= np.pi/2)]\n",
    "\n",
    "print('fraction Accepted: ', len(accepted)/N)\n",
    "print('fraction rejected: ', len(rejected)/N)\n"
   ]
  },
  {
   "cell_type": "markdown",
   "metadata": {},
   "source": [
    "3\\. **Monte Carlo integration: hit/miss vs mean value method**\n",
    "\n",
    "Consider the function \n",
    "\n",
    "$$f(x) =\\sin^2{\\frac{1}{x(2-x)}}$$\n",
    "\n",
    "* Compute the integral of $f(x)$ between 0 and 2 with the hit/miss method. Evaluate the error of your estimate\n",
    "* Repeat the integral with the mean value method. Evaluate the error and compare it with the previous one"
   ]
  },
  {
   "cell_type": "code",
   "execution_count": 12,
   "metadata": {},
   "outputs": [
    {
     "name": "stdout",
     "output_type": "stream",
     "text": [
      "integral: 0.14436\n",
      "error: 1.30704\n",
      "the error should scale with 1/sqrt(N_samples)\n"
     ]
    }
   ],
   "source": [
    "ybounds = [0,1]\n",
    "xbounds = [0,2]\n",
    "real_value = 1.4514\n",
    "\n",
    "def f (x):\n",
    "    return np.sin(1./(x*(2-x)))**2\n",
    "\n",
    "N_samples =  100000\n",
    "accepted = []\n",
    "integral = []\n",
    "for n in range(N):\n",
    "    x = np.random.uniform(xbounds[0], xbounds[1])\n",
    "    y = np.random.uniform(ybounds[0], ybounds[1])\n",
    "    if y<f(x): accepted.append([x, y])\n",
    "\n",
    "int = len(accepted)/N_samples*2\n",
    "print('integral:', int)\n",
    "print('error:', abs(real_value-int))\n",
    "print('the error should scale with 1/sqrt(N_samples)')\n"
   ]
  },
  {
   "cell_type": "code",
   "execution_count": 13,
   "metadata": {},
   "outputs": [
    {
     "name": "stdout",
     "output_type": "stream",
     "text": [
      "integral: 1.4509321556111257\n",
      "error: 0.0004678443888743722\n"
     ]
    }
   ],
   "source": [
    "x_rand = np.random.uniform(low=xbounds[0], high=xbounds[1], size=N_samples)\n",
    "int_mean = (xbounds[1]-xbounds[0])/N_samples * np.sum(f(x_rand))\n",
    "print('integral:', int_mean)\n",
    "print('error:', abs(real_value-int_mean))"
   ]
  },
  {
   "cell_type": "markdown",
   "metadata": {},
   "source": [
    "4\\. **Monte Carlo integration in high dimension**\n",
    "\n",
    "* Start of by computing the area of a circle of unit radius, by integrating the function \n",
    "\n",
    "$$\n",
    "f(x,y)=\n",
    "\\left\\{\n",
    "\\begin{array}{ll}\n",
    "      1 & x^2+y^2\\le 1 \\\\\n",
    "      0 & {\\rm elsewhere}\n",
    "\\end{array} \n",
    "\\right.\n",
    "$$\n",
    "\n",
    "* Generalize the result for a 10D sphere\n",
    "\n"
   ]
  },
  {
   "cell_type": "code",
   "execution_count": 14,
   "metadata": {},
   "outputs": [
    {
     "name": "stdout",
     "output_type": "stream",
     "text": [
      "integral: 3.14428\n",
      "real value: 4.1887902047863905\n",
      "error: 1.0445102047863903\n"
     ]
    }
   ],
   "source": [
    "# area \n",
    "N = 100000\n",
    "\n",
    "xbound, ybound = [-1,1], [-1,1]\n",
    "xrand = np.random.uniform(low=xbound[0], high=xbound[1], size=N)\n",
    "yrand = np.random.uniform(low=ybound[0], high=ybound[1], size=N)\n",
    "\n",
    "def sphere (x, y):\n",
    "    if x**2+y**2 <= 1: return 1\n",
    "    else: return 0\n",
    "\n",
    "f_eval = [sphere(x, y) for x,y in zip(xrand, yrand)]\n",
    "int_mean = (xbound[1]-xbound[0])*(ybound[1]-ybound[0])/N * np.sum(f_eval)\n",
    "\n",
    "real_value = 4./3.*np.pi\n",
    "print('integral:', int_mean)\n",
    "print('real value:', real_value)\n",
    "print('error:', abs(real_value-int_mean))"
   ]
  },
  {
   "cell_type": "code",
   "execution_count": 15,
   "metadata": {},
   "outputs": [
    {
     "name": "stdout",
     "output_type": "stream",
     "text": [
      "dim 10 sphere: 2.541568\n"
     ]
    }
   ],
   "source": [
    "# area \n",
    "N = 1000000\n",
    "dim = 10\n",
    "bounds = [-1,1]\n",
    "rand = np.random.uniform(low=bounds[0], high=bounds[1], size=(N, dim))\n",
    "\n",
    "def dsphere (x):\n",
    "    if np.sum([i**2 for i in x])<= 1: return 1\n",
    "    else: return 0\n",
    "\n",
    "f_eval = [dsphere(x) for x in rand]\n",
    "int_mean = (bounds[1]-bounds[0])**dim/N * np.sum(f_eval)\n",
    "print('dim 10 sphere:', int_mean)"
   ]
  },
  {
   "cell_type": "markdown",
   "metadata": {},
   "source": [
    "5\\. **Monte Carlo integration with importance sampling** \n",
    "\n",
    "Calculate the value of the integral:\n",
    "\n",
    "$$\n",
    "I=\\int_0^1 \\frac{x^{-1/2}}{e^x+1} dx\n",
    "$$\n",
    "\n",
    "using the importance sampling method with $w(x)=1/\\sqrt{x}$. You should get a result about 0.84"
   ]
  },
  {
   "cell_type": "code",
   "execution_count": 16,
   "metadata": {},
   "outputs": [
    {
     "data": {
      "text/plain": [
       "0.8385805609553357"
      ]
     },
     "execution_count": 16,
     "metadata": {},
     "output_type": "execute_result"
    }
   ],
   "source": [
    "N_samples = 100000\n",
    "interval = (0,1)\n",
    "xrand = np.random.uniform(low=interval[0], high=interval[1], size=N_samples)\n",
    "\n",
    "def function (x):\n",
    "    return x**(-0.5)/(np.exp(x) + 1)\n",
    "\n",
    "def w (x): return 1/np.sqrt(x)\n",
    "def inv_w(x): return x**2\n",
    "\n",
    "ws = inv_w(xrand)\n",
    "integral = (1./N_samples)*np.sum(np.divide(function(ws),w(ws)))*2.\n",
    "integral"
   ]
  }
 ],
 "metadata": {
  "kernelspec": {
   "display_name": "Python 3",
   "language": "python",
   "name": "python3"
  },
  "language_info": {
   "codemirror_mode": {
    "name": "ipython",
    "version": 3
   },
   "file_extension": ".py",
   "mimetype": "text/x-python",
   "name": "python",
   "nbconvert_exporter": "python",
   "pygments_lexer": "ipython3",
   "version": "3.8.5"
  }
 },
 "nbformat": 4,
 "nbformat_minor": 2
}
