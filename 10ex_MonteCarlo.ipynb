{
 "cells": [
  {
   "cell_type": "code",
   "execution_count": 2,
   "metadata": {},
   "outputs": [],
   "source": [
    "import numpy as np\n",
    "import numpy.random as npr\n",
    "import matplotlib.pyplot as plt"
   ]
  },
  {
   "cell_type": "markdown",
   "metadata": {},
   "source": [
    "1\\. **Radioactive decay chain**\n",
    "\n",
    "${\\rm Tl}^{208}$ decays to ${\\rm Pb}^{208}$ with a half-lieve of 3.052 minutes. Suppose to start with a sample of 1000 Thallium atoms and 0 of Lead atoms.\n",
    "\n",
    "* Take steps in time of 1 second and at each time-step decide whether each Tl atom has decayed or not, accordingly to the probability $p(t)=1-2^{-t/\\tau}$. Subtract the total number of Tl atoms that decayed at each step from the Tl sample and add them to the Lead one. Plot the evolution of the two sets as a function of time  \n",
    "* Repeat the exercise by means of the inverse transform method: draw 1000 random numbers from the non-uniform probability distribution $p(t)=2^{-t/\\tau}\\frac{\\ln 2}{\\tau}$ to represent the times of decay of the 1000 Tl atoms. Make a plot showing the number of atoms that have not decayed as a function of time"
   ]
  },
  {
   "cell_type": "code",
   "execution_count": 47,
   "metadata": {},
   "outputs": [
    {
     "data": {
      "image/png": "[encoded data removed]",
      "text/plain": [
       "<Figure size 1080x360 with 2 Axes>"
      ]
     },
     "metadata": {
      "needs_background": "light"
     },
     "output_type": "display_data"
    }
   ],
   "source": [
    "#Exercise 1\n",
    "\n",
    "tau=3.052*60\n",
    "time = 1800\n",
    "\n",
    "#First method\n",
    "def p(t):\n",
    "    return 1 - 2**(-t/tau)\n",
    "\n",
    "Tl, Pb = 1000, 0\n",
    "y_Tl, y_Pb = [], []\n",
    "\n",
    "'''for t in range(time):\n",
    "    y_Tl.append(Tl*(1-p(t)))\n",
    "    y_Pb.append(Tl*p(t))'''\n",
    "\n",
    "for t in range(time):\n",
    "    dec = npr.binomial(Tl,p(t))\n",
    "    Tl -= dec\n",
    "    Pb += dec\n",
    "    y_Tl.append(Tl)\n",
    "    y_Pb.append(Pb)\n",
    "\n",
    "fig, (ax1,ax2) = plt.subplots(nrows=1,ncols=2,figsize=(15,5))\n",
    "\n",
    "ax1.title.set_text('Each Decay Method')\n",
    "ax1.set_xlabel('t [s]')\n",
    "ax1.set_ylabel('number of atoms')\n",
    "ax1.plot(y_Tl, label = 'Tl')\n",
    "ax1.plot(y_Pb, label = 'Pb')\n",
    "ax1.legend()\n",
    "\n",
    "#Inverse Transfor Method\n",
    "def p2(x):\n",
    "    return -tau/np.log(2)*np.log(1 - x)\n",
    "\n",
    "Tl, Pb = 1000, 0\n",
    "y_Tl, y_Pb = [], []\n",
    "\n",
    "prob = [p2(npr.rand()) for j in range(Tl)]\n",
    "for t in range(time):\n",
    "    non_dec = len([prob[j] for j in range(len(prob)) if prob[j]>t])\n",
    "    y_Tl.append(non_dec)\n",
    "    y_Pb.append(Tl - non_dec)\n",
    "\n",
    "ax2.title.set_text('Inverse Transform Method')\n",
    "ax2.set_xlabel('t [s]')\n",
    "ax2.set_ylabel('number of atoms')\n",
    "ax2.plot(y_Tl, label = 'Tl')\n",
    "ax2.plot(y_Pb, label = 'Pb')\n",
    "ax2.legend()\n",
    "\n",
    "plt.show()"
   ]
  },
  {
   "cell_type": "markdown",
   "metadata": {},
   "source": [
    "2\\. **Rutherford Scattering**\n",
    "\n",
    "The scattering angle $\\theta$ of $\\alpha$ particles hitting a positively charged nucleus of a Gold atom ($Z=79$) follows the rule:\n",
    "\n",
    "$$\n",
    "\\tan{\\frac{1}{2} \\theta} = \\frac{Z e^2} {2\\pi \\epsilon_0 E b}\n",
    "$$\n",
    "\n",
    "where $E=7.7$ MeV and $b$ beam is the impact parameter. The beam is represented by a 2D gaussian distribution with $\\sigma=a_0/100$ for both coordinates ($a_0$ being the Bohr radius). Assume 1 million $\\alpha$ particles are shot on the gold atom.\n",
    "\n",
    "Computing the fraction of particles that \"bounce back\",i.e. those particle whose scattering angle is greater than $\\pi/2$ (which set a condition on the impact parameter $b$)"
   ]
  },
  {
   "cell_type": "code",
   "execution_count": 5,
   "metadata": {},
   "outputs": [
    {
     "name": "stdout",
     "output_type": "stream",
     "text": [
      "The number of bounce back particles is: 0\n"
     ]
    }
   ],
   "source": [
    "#Exercise 2\n",
    "\n",
    "Z, E, e, ep0, a0 = 79, 7.7E+7, 1.602e-19, 8.85e-12, 5.29e-11\n",
    "N = 1000000\n",
    "tan_theta = []\n",
    "\n",
    "for i in range(N):\n",
    "    b = npr.normal(0,a0/100)\n",
    "    tan_theta.append(Z*e/(2*np.pi*ep0*E*b)) \n",
    "\n",
    "bbp = [tan_theta[i] for i in range(N) if tan_theta[i]>1]\n",
    "\n",
    "print('The number of bounce back particles is:', len(bbp))"
   ]
  },
  {
   "cell_type": "markdown",
   "metadata": {},
   "source": [
    "3\\. **Monte Carlo integration: hit/miss vs mean value method**\n",
    "\n",
    "Consider the function \n",
    "\n",
    "$$f(x) =\\sin^2{\\frac{1}{x(2-x)}}$$\n",
    "\n",
    "* Compute the integral of $f(x)$ between 0 and 2 with the hit/miss method. Evaluate the error of your estimate\n",
    "* Repeat the integral with the mean value method. Evaluate the error and compare it with the previous one"
   ]
  },
  {
   "cell_type": "code",
   "execution_count": 115,
   "metadata": {},
   "outputs": [
    {
     "name": "stdout",
     "output_type": "stream",
     "text": [
      "I = 1.45068\n",
      "I = 1.47600 +- 0.00408\n"
     ]
    }
   ],
   "source": [
    "#Exercise 3\n",
    "\n",
    "def f(x):\n",
    "    return (np.sin(1/(x*(2-x))))**2\n",
    "\n",
    "#hit-miss method\n",
    "N=100000\n",
    "count=0\n",
    "for i in range(N):\n",
    "    x=2*npr.random()\n",
    "    y=npr.random()\n",
    "    if y<f(x): count+=1\n",
    "I=2*count/N\n",
    "print('I =',I)\n",
    "\n",
    "#mean value method\n",
    "N = 1000\n",
    "I = 0\n",
    "y = []\n",
    "for i in range(N):\n",
    "    x = 2*npr.random()\n",
    "    y.append(f(x))\n",
    "    I += 2/N*f(x)\n",
    "\n",
    "print('I = %.5f +- %.5f' %(I,2/N**(1/2)*np.var(y)))\n"
   ]
  },
  {
   "cell_type": "markdown",
   "metadata": {},
   "source": [
    "4\\. **Monte Carlo integration in high dimension**\n",
    "\n",
    "* Start of by computing the area of a circle of unit radius, by integrating the function \n",
    "\n",
    "$$\n",
    "f(x,y)=\n",
    "\\left\\{\n",
    "\\begin{array}{ll}\n",
    "      1 & x^2+y^2\\le 1 \\\\\n",
    "      0 & {\\rm elsewhere}\n",
    "\\end{array} \n",
    "\\right.\n",
    "$$\n",
    "\n",
    "* Generalize the result for a 10D sphere\n",
    "\n"
   ]
  },
  {
   "cell_type": "code",
   "execution_count": 104,
   "metadata": {},
   "outputs": [
    {
     "name": "stdout",
     "output_type": "stream",
     "text": [
      "I = 3.1351999999962707\n",
      "I = 2.5425920000000053\n"
     ]
    }
   ],
   "source": [
    "#Exercise 4\n",
    "\n",
    "#2-dim\n",
    "def f(x,y):\n",
    "    if x**2 + y**2 <= 1: return 1\n",
    "    else: return 0\n",
    "\n",
    "N = 1000000\n",
    "I = 0\n",
    "for i in range(N):\n",
    "    I += 4/N*f(2*npr.random()-1,2*npr.random()-1)\n",
    "print('I =', I)\n",
    "\n",
    "#10-dim\n",
    "def f(v):\n",
    "    R = 0\n",
    "    for i in range(len(v)):\n",
    "        R += v[i]**2\n",
    "    if R**(1/2) <= 1: return 1\n",
    "    else: return 0\n",
    "\n",
    "N = 1000000\n",
    "I = 0\n",
    "for i in range(N):\n",
    "    v = [2*npr.random()-1 for i in range(10)]\n",
    "    I += 2**10/N*f(v)\n",
    "print('I =', I)\n"
   ]
  },
  {
   "cell_type": "markdown",
   "metadata": {},
   "source": [
    "5\\. **Monte Carlo integration with importance sampling** \n",
    "\n",
    "Calculate the value of the integral:\n",
    "\n",
    "$$\n",
    "I=\\int_0^1 \\frac{x^{-1/2}}{e^x+1} dx\n",
    "$$\n",
    "\n",
    "using the importance sampling method with $w(x)=1/\\sqrt{x}$. You should get a result about 0.84"
   ]
  },
  {
   "cell_type": "code",
   "execution_count": 114,
   "metadata": {},
   "outputs": [
    {
     "name": "stdout",
     "output_type": "stream",
     "text": [
      "Iw = 1.993539974255912\n",
      "I = 0.7574971521706766\n",
      "0.9018\n"
     ]
    }
   ],
   "source": [
    "#Exercise 5\n",
    "\n",
    "def w(x):\n",
    "    return x**(-1/2)\n",
    "def f(x):\n",
    "    return x**(-1/2)/(np.exp(x)+1)\n",
    "\n",
    "N = 1000000\n",
    "I, Iw= 0, 0\n",
    "\n",
    "for i in range(N):\n",
    "    Iw += 1/N*w(npr.random())\n",
    "\n",
    "for i in range(N):\n",
    "    x = npr.random()\n",
    "    I += 1/N*f(x)/w(x)*Iw\n",
    "\n",
    "print('Iw =',Iw)\n",
    "print('I =',I)\n",
    "print(round(1-I/0.84,4))\n"
   ]
  },
  {
   "cell_type": "code",
   "execution_count": null,
   "metadata": {},
   "outputs": [],
   "source": []
  }
 ],
 "metadata": {
  "kernelspec": {
   "display_name": "Python 3",
   "language": "python",
   "name": "python3"
  },
  "language_info": {
   "codemirror_mode": {
    "name": "ipython",
    "version": 3
   },
   "file_extension": ".py",
   "mimetype": "text/x-python",
   "name": "python",
   "nbconvert_exporter": "python",
   "pygments_lexer": "ipython3",
   "version": "3.8.8"
  }
 },
 "nbformat": 4,
 "nbformat_minor": 2
}
