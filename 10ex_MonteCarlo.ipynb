{
 "cells": [
  {
   "cell_type": "code",
   "execution_count": 17,
   "metadata": {},
   "outputs": [],
   "source": [
    "import numpy as np\n",
    "import matplotlib.pyplot as plt"
   ]
  },
  {
   "cell_type": "markdown",
   "metadata": {},
   "source": [
    "1\\. **Radioactive decay chain**\n",
    "\n",
    "${\\rm Tl}^{208}$ decays to ${\\rm Pb}^{208}$ with a half-lieve of 3.052 minutes. Suppose to start with a sample of 1000 Thallium atoms and 0 of Lead atoms.\n",
    "\n",
    "* Take steps in time of 1 second and at each time-step decide whether each Tl atom has decayed or not, accordingly to the probability $p(t)=\\frac{1}{\\tau}2^{-t/\\tau}$. Subtract the total number of Tl atoms that decayed at each step from the Tl sample and add them to the Lead one. Plot the evolution of the two sets as a function of time  \n",
    "* Repeat the exercise by means of the inverse transform method: draw 1000 random numbers from the non-uniform probability distribution $p(t)=\\frac{ 1}{\\tau}2^{-t/\\tau}$ to represent the times of decay of the 1000 Tl atoms. Make a plot showing the number of atoms that have not decayed as a function of time"
   ]
  },
  {
   "cell_type": "code",
   "execution_count": 98,
   "metadata": {},
   "outputs": [],
   "source": [
    "tau=3.052*60 #seconds      \n",
    "NThallium=[1000]\n",
    "NLead=[0]\n",
    "\n",
    "def p(t):\n",
    "    return (2**(-t/tau))/tau\n",
    "\n",
    "for t in range(1,5*int(tau)):\n",
    "    x=p(t)\n",
    "    decayed=0\n",
    "    for j in range(NThallium[-1]):\n",
    "        y=np.random.rand()\n",
    "        if (y < x) : decayed+=1\n",
    "    NThallium.append(NThallium[-1]-decayed)\n",
    "    NLead.append(NLead[-1]+decayed)"
   ]
  },
  {
   "cell_type": "code",
   "execution_count": 99,
   "metadata": {},
   "outputs": [
    {
     "data": {
      "text/plain": [
       "<matplotlib.legend.Legend at 0x7fe9c97cbee0>"
      ]
     },
     "execution_count": 99,
     "metadata": {},
     "output_type": "execute_result"
    },
    {
     "data": {
      "image/png": "[encoded data removed]",
      "text/plain": [
       "<Figure size 432x288 with 1 Axes>"
      ]
     },
     "metadata": {
      "needs_background": "light"
     },
     "output_type": "display_data"
    }
   ],
   "source": [
    "T=range(int(5*tau))\n",
    "plt.plot(T,NThallium, label=\"Thallium Population\")\n",
    "plt.plot(T,NLead, label= \"Lead Population\")\n",
    "plt.xlabel(\"t(s)\")\n",
    "plt.ylabel(\"N\")\n",
    "plt.axvline(x=tau, c=\"red\")\n",
    "plt.plot(np.linspace(0,tau,2),NThallium[0]/2*np.ones(2), c=\"red\")\n",
    "plt.legend()"
   ]
  },
  {
   "cell_type": "markdown",
   "metadata": {},
   "source": [
    "Using the inverse transform method we get that:\n",
    "- if z is uniformly distributed in [0,1]\n",
    "- if t distributed as $p(t)=\\frac{ 1}{\\tau}2^{-t/\\tau}$\n",
    "\n",
    "$\\rightarrow t(z)=- \\tau log_2(1-z)$"
   ]
  },
  {
   "cell_type": "code",
   "execution_count": 100,
   "metadata": {},
   "outputs": [
    {
     "data": {
      "image/png": "[encoded data removed]",
      "text/plain": [
       "<Figure size 432x288 with 1 Axes>"
      ]
     },
     "metadata": {
      "needs_background": "light"
     },
     "output_type": "display_data"
    }
   ],
   "source": [
    "def t(z):\n",
    "    return -tau*np.log2(1-z)\n",
    "\n",
    "times=t(np.random.rand(1000))\n",
    "plt.scatter(times, NThallium[0]*(1-2**(-times/tau)), s=1)\n",
    "plt.title(\"Number of not decayed Samples\")\n",
    "plt.xlabel(\"t(s)\")\n",
    "plt.ylabel(\"N of Thallium\")\n",
    "plt.axvline(x=tau, c=\"red\")\n",
    "plt.axvline(x=tau, c=\"red\")\n",
    "plt.plot(np.linspace(0,tau,2),NThallium[0]/2*np.ones(2), c=\"red\")\n",
    "plt.show()\n"
   ]
  },
  {
   "cell_type": "markdown",
   "metadata": {},
   "source": [
    "2\\. **Rutherford Scattering**\n",
    "\n",
    "The scattering angle $\\theta$ of $\\alpha$ particles hitting a positively charged nucleus of a Gold atom ($Z=79$) follows the rule:\n",
    "\n",
    "$$\n",
    "\\tan{\\frac{1}{2} \\theta} = \\frac{Z e^2} {2\\pi \\epsilon_0 E b}\n",
    "$$\n",
    "\n",
    "where $E=7.7$ MeV and $b$ beam is the impact parameter. The beam is represented by a 2D gaussian distribution with $\\sigma=a_0/100$ for both coordinates ($a_0$ being the Bohr radius). Assume 1 million $\\alpha$ particles are shot on the gold atom.\n",
    "\n",
    "Computing the fraction of particles that \"bounce back\",i.e. those particle whose scattering angle is greater than $\\pi/2$ (which set a condition on the impact parameter $b$)"
   ]
  },
  {
   "cell_type": "code",
   "execution_count": 27,
   "metadata": {},
   "outputs": [
    {
     "name": "stdout",
     "output_type": "stream",
     "text": [
      "Percentage of bounced back particles: 2.0 %\n"
     ]
    }
   ],
   "source": [
    "E = 7.7*1.6*10**(-13) #J\n",
    "Z = 79 \n",
    "N = 1000000\n",
    "a_0 = 5.29 * 10**(-11)  # m\n",
    "sigma = a_0/100\n",
    "\n",
    "# beam in radial coordinates\n",
    "b = np.random.normal(0, sigma, size=N)\n",
    "\n",
    "e = 1.6*10**(-19) #C\n",
    "eps_0 = 8.85*10**(-12) #C^2/(Nm^2)\n",
    "\n",
    "def angle(Z,E,b): return np.arctan((Z*e**2)/(2*np.pi*eps_0*E*b))*2\n",
    "\n",
    "back = 0\n",
    "for r in b:\n",
    "    if angle(Z,E,r) > np.pi/2:\n",
    "        back += 1\n",
    "\n",
    "print(\"Percentage of bounced back particles:\", np.round(back/N*100), \"%\")\n"
   ]
  },
  {
   "cell_type": "markdown",
   "metadata": {},
   "source": [
    "3\\. **Monte Carlo integration: hit/miss vs mean value method**\n",
    "\n",
    "Consider the function \n",
    "\n",
    "$$f(x) =\\sin^2{\\frac{1}{x(2-x)}}$$\n",
    "\n",
    "* Compute the integral of $f(x)$ between 0 and 2 with the hit/miss method. Evaluate the error of your estimate\n",
    "* Repeat the integral with the mean value method. Evaluate the error and compare it with the previous one"
   ]
  },
  {
   "cell_type": "code",
   "execution_count": 102,
   "metadata": {},
   "outputs": [
    {
     "name": "stdout",
     "output_type": "stream",
     "text": [
      "Area= 1.4517839999999995 +- 0.008463837427550231\n"
     ]
    }
   ],
   "source": [
    "# hit/miss method\n",
    "def f(x):  \n",
    "    return (np.sin(1/(x*(2-x))))**2\n",
    "I=[]\n",
    "N=10000\n",
    "boxArea=2\n",
    "for n in range(100):\n",
    "    count=0\n",
    "    for i in range(N):\n",
    "        x=2*np.random.random()\n",
    "        y=np.random.random()\n",
    "        if y<f(x): count+=1\n",
    "    I.append(count*boxArea/N)\n",
    "print(\"Area=\",np.mean(I), \"+-\", np.std(I))\n"
   ]
  },
  {
   "cell_type": "code",
   "execution_count": 105,
   "metadata": {},
   "outputs": [
    {
     "name": "stdout",
     "output_type": "stream",
     "text": [
      "Area with the mean value method: 1.4501716462158256 +- 0.0053103603030968186\n"
     ]
    }
   ],
   "source": [
    "#mean value methdod\n",
    "N=10000\n",
    "collection=[f(x) for x in np.random.rand(N)]\n",
    "I=2/N*np.sum(collection)\n",
    "sigma=2*np.std(collection)/np.sqrt(N)\n",
    "print(\"Area with the mean value method:\", I, \"+-\", sigma)\n"
   ]
  },
  {
   "cell_type": "markdown",
   "metadata": {},
   "source": [
    "4\\. **Monte Carlo integration in high dimension**\n",
    "\n",
    "* Start of by computing the area of a circle of unit radius, by integrating the function \n",
    "\n",
    "$$\n",
    "f(x,y)=\n",
    "\\left\\{\n",
    "\\begin{array}{ll}\n",
    "      1 & x^2+y^2\\le 1 \\\\\n",
    "      0 & {\\rm elsewhere}\n",
    "\\end{array} \n",
    "\\right.\n",
    "$$\n",
    "\n",
    "* Generalize the result for a 10D sphere\n",
    "\n"
   ]
  },
  {
   "cell_type": "code",
   "execution_count": 106,
   "metadata": {},
   "outputs": [
    {
     "name": "stdout",
     "output_type": "stream",
     "text": [
      "3.1418188000000002 +- 0.005672497735565887\n"
     ]
    }
   ],
   "source": [
    "def circle(x):\n",
    "    return np.dot(x,x)\n",
    "I=[]\n",
    "\n",
    "N=100000\n",
    "Area_box=4\n",
    "for n in range(100):\n",
    "    count=0\n",
    "    for i in range(N):\n",
    "        x=2*np.random.random(2)-1\n",
    "        if circle(x)<1 : count+=1\n",
    "    I.append(count*Area_box/N)\n",
    "print(np.mean(I), \"+-\", np.std(I))\n"
   ]
  },
  {
   "cell_type": "code",
   "execution_count": 107,
   "metadata": {},
   "outputs": [
    {
     "name": "stdout",
     "output_type": "stream",
     "text": [
      "2.5378815999999995 +- 0.037521461600529354\n",
      "Real Value: 2.550164039877345\n"
     ]
    }
   ],
   "source": [
    "def sphere_10d(x): \n",
    "    return np.dot(x,x)\n",
    "N=1000000\n",
    "Area_box=2**10\n",
    "I=[]\n",
    "for n in range(10):\n",
    "    count=0\n",
    "    for i in range(N):\n",
    "        x=2*np.random.rand(10)-1\n",
    "        if sphere_10d(x)<1 : count+=1\n",
    "    I.append(count*Area_box/N)\n",
    "print(np.mean(I), \"+-\", np.std(I))\n",
    "print(\"Real Value:\", np.pi**5/(5*4*3*2))"
   ]
  },
  {
   "cell_type": "markdown",
   "metadata": {},
   "source": [
    "5\\. **Monte Carlo integration with importance sampling** \n",
    "\n",
    "Calculate the value of the integral:\n",
    "\n",
    "$$\n",
    "I=\\int_0^1 \\frac{x^{-1/2}}{e^x+1} dx\n",
    "$$\n",
    "\n",
    "using the importance sampling method with $w(x)=1/\\sqrt{x}$. You should get a result about 0.84"
   ]
  },
  {
   "cell_type": "code",
   "execution_count": 120,
   "metadata": {},
   "outputs": [
    {
     "name": "stdout",
     "output_type": "stream",
     "text": [
      "Area with the mean value method: 0.8389998763835071 +- 0.0001408751007378566\n"
     ]
    }
   ],
   "source": [
    "N=1000000\n",
    "def w(x): return 1./np.sqrt(x)\n",
    "def f(x): return 1/(np.e**x+1)\n",
    "Z=2 #integral of w(x)\n",
    "z=np.random.rand(N)\n",
    "x= z**2 #I used the inverse transfrom\n",
    "collection=f(x)\n",
    "I=Z/N*np.sum(collection)\n",
    "sigma=2*np.std(collection)/np.sqrt(N)\n",
    "print(\"Area with the mean value method:\", I, \"+-\", sigma)"
   ]
  }
 ],
 "metadata": {
  "kernelspec": {
   "display_name": "Python 3",
   "language": "python",
   "name": "python3"
  },
  "language_info": {
   "codemirror_mode": {
    "name": "ipython",
    "version": 3
   },
   "file_extension": ".py",
   "mimetype": "text/x-python",
   "name": "python",
   "nbconvert_exporter": "python",
   "pygments_lexer": "ipython3",
   "version": "3.9.7"
  }
 },
 "nbformat": 4,
 "nbformat_minor": 2
}
