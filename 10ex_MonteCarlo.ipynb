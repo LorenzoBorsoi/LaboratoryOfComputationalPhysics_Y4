{
 "cells": [
  {
   "cell_type": "code",
   "execution_count": 2,
   "metadata": {},
   "outputs": [],
   "source": [
    "import numpy as np\n",
    "import pandas as pd\n",
    "from scipy import stats\n",
    "import matplotlib.pyplot as plt\n"
   ]
  },
  {
   "cell_type": "markdown",
   "metadata": {},
   "source": [
    "1\\. **Radioactive decay chain**\n",
    "\n",
    "${\\rm Tl}^{208}$ decays to ${\\rm Pb}^{208}$ with a half-lieve of 3.052 minutes. Suppose to start with a sample of 1000 Thallium atoms and 0 of Lead atoms.\n",
    "\n",
    "* Take steps in time of 1 second and at each time-step decide whether each Tl atom has decayed or not, accordingly to the probability $p(t)=1-2^{-t/\\tau}$. Subtract the total number of Tl atoms that decayed at each step from the Tl sample and add them to the Lead one. Plot the evolution of the two sets as a function of time  \n",
    "* Repeat the exercise by means of the inverse transform method: draw 1000 random numbers from the non-uniform probability distribution $p(t)=2^{-t/\\tau}\\frac{\\ln 2}{\\tau}$ to represent the times of decay of the 1000 Tl atoms. Make a plot showing the number of atoms that have not decayed as a function of time"
   ]
  },
  {
   "cell_type": "code",
   "execution_count": 52,
   "metadata": {},
   "outputs": [],
   "source": [
    "sec = 3052*60\n",
    "N = N0 = 1000\n",
    "Pb = []\n",
    "Tl = []\n",
    "time=2000\n",
    "\n",
    "def p(t):\n",
    "    return 1-2**(-t/sec)\n",
    "#obtained with the inverse transform method\n",
    "def inv_p(z):\n",
    "    return (-sec/np.log(2)*np.log(1-z))\n",
    "\n",
    "for i in range(time): \n",
    "    for j in range(N):\n",
    "        if np.random.uniform(0,1) < p(i): N -= 1\n",
    "    \n",
    "    Tl.append(N)\n",
    "    Pb.append(N0 - N)\n",
    "    \n",
    "Tl_2 = [inv_p(np.random.uniform(0,1)) for i in range(N0)]\n",
    "Tl_2 = np.sort(np.array((Tl_2)))\n"
   ]
  },
  {
   "cell_type": "code",
   "execution_count": 51,
   "metadata": {},
   "outputs": [
    {
     "data": {
      "text/plain": [
       "<matplotlib.legend.Legend at 0x203153b4bb0>"
      ]
     },
     "execution_count": 51,
     "metadata": {},
     "output_type": "execute_result"
    },
    {
     "data": {
      "image/png": "[encoded data removed]",
      "text/plain": [
       "<Figure size 864x432 with 2 Axes>"
      ]
     },
     "metadata": {
      "needs_background": "light"
     },
     "output_type": "display_data"
    }
   ],
   "source": [
    "fig, ax = plt.subplots(nrows=1, ncols=2, figsize=(12,6))\n",
    "ax[0].plot(Tl)\n",
    "ax[0].plot(Pb)\n",
    "ax[0].legend(['Tl', 'Pb'])\n",
    "ax[0].set_xlabel('t[s]')\n",
    "ax[0].set_ylabel('atoms')\n",
    "\n",
    "ax[1].plot(Tl_2, np.arange(len(Tl_2), 0, -1))\n",
    "ax[1].set_xlabel('time')\n",
    "ax[1].set_ylabel('atoms')\n",
    "ax[1].legend(['Tl'])"
   ]
  },
  {
   "cell_type": "markdown",
   "metadata": {},
   "source": [
    "2\\. **Rutherford Scattering**\n",
    "\n",
    "The scattering angle $\\theta$ of $\\alpha$ particles hitting a positively charged nucleus of a Gold atom ($Z=79$) follows the rule:\n",
    "\n",
    "$$\n",
    "\\tan{\\frac{1}{2} \\theta} = \\frac{Z e^2} {2\\pi \\epsilon_0 E b}\n",
    "$$\n",
    "\n",
    "where $E=7.7$ MeV and $b$ beam is the impact parameter. The beam is represented by a 2D gaussian distribution with $\\sigma=a_0/100$ for both coordinates ($a_0$ being the Bohr radius). Assume 1 million $\\alpha$ particles are shot on the gold atom.\n",
    "\n",
    "Computing the fraction of particles that \"bounce back\",i.e. those particle whose scattering angle is greater than $\\pi/2$ (which set a condition on the impact parameter $b$)"
   ]
  },
  {
   "cell_type": "code",
   "execution_count": 69,
   "metadata": {},
   "outputs": [
    {
     "name": "stdout",
     "output_type": "stream",
     "text": [
      "Particles bounced:  0.1581\n"
     ]
    }
   ],
   "source": [
    "Z = 79\n",
    "a0 = 5.29e-11 \n",
    "sig = a0/100\n",
    "alpha = int(1e6)\n",
    "e = -1.6e-19\n",
    "E = 7.7e6 * e\n",
    "ep0 = 8.85e-12\n",
    "\n",
    "#box-muller\n",
    "z = np.random.random(alpha)\n",
    "th = 2*np.pi*np.random.random(alpha)\n",
    "r = np.sqrt(-2*sig**2*np.log(1-z))\n",
    "x, y = r*np.cos(th), r*np.sin(th)\n",
    "b = np.sqrt(x**2 + y**2)\n",
    "theta = 2 * np.arctan((Z*e**2)/(2*np.pi*ep0*E*b))\n",
    "\n",
    "bounced = np.sum(abs(theta) > np.pi/2)/alpha\n",
    "print('Particles bounced: ', bounced*100)"
   ]
  },
  {
   "cell_type": "markdown",
   "metadata": {},
   "source": [
    "3\\. **Monte Carlo integration: hit/miss vs mean value method**\n",
    "\n",
    "Consider the function \n",
    "\n",
    "$$f(x) =\\sin^2{\\frac{1}{x(2-x)}}$$\n",
    "\n",
    "* Compute the integral of $f(x)$ between 0 and 2 with the hit/miss method. Evaluate the error of your estimate\n",
    "* Repeat the integral with the mean value method. Evaluate the error and compare it with the previous one"
   ]
  },
  {
   "cell_type": "code",
   "execution_count": 10,
   "metadata": {},
   "outputs": [
    {
     "name": "stdout",
     "output_type": "stream",
     "text": [
      "hit-miss:  1.45422\n",
      "error:  0.2632563813548645\n",
      "\n",
      "mean:  1.451112603442475\n",
      "error:  0.003245035478110305\n",
      "\n",
      "As we can see the error with the mean method is two order of magnitude lower than the error for hit-miss method\n"
     ]
    }
   ],
   "source": [
    "from scipy.integrate import quad\n",
    "def f(x):\n",
    "    return np.sin(1/(x*(2-x)))**2\n",
    "\n",
    "N = 100000\n",
    "\n",
    "#hit-miss method\n",
    "x = 2*np.random.random(N)\n",
    "y = np.random.random(N)\n",
    "\n",
    "Ih = 2*np.sum(y < f(x))/N\n",
    "sig_h = np.std(f(x))\n",
    "print('hit-miss: ', Ih)\n",
    "print('error: ', sig_h)\n",
    "#mean.method\n",
    "Im = 2*np.sum(f(2*np.random.random(N)))/N\n",
    "sig_m = 2*(np.sqrt(np.std(f(x))))/np.sqrt(N)\n",
    "print('\\nmean: ', Im)\n",
    "print('error: ', sig_m)\n",
    "\n",
    "print('\\nAs we can see the error with the mean method is two order of magnitude lower than the error for hit-miss method')"
   ]
  },
  {
   "cell_type": "markdown",
   "metadata": {},
   "source": [
    "4\\. **Monte Carlo integration in high dimension**\n",
    "\n",
    "* Start of by computing the area of a circle of unit radius, by integrating the function \n",
    "\n",
    "$$\n",
    "f(x,y)=\n",
    "\\left\\{\n",
    "\\begin{array}{ll}\n",
    "      1 & x^2+y^2\\le 1 \\\\\n",
    "      0 & {\\rm elsewhere}\n",
    "\\end{array} \n",
    "\\right.\n",
    "$$\n",
    "\n",
    "* Generalize the result for a 10D sphere\n",
    "\n"
   ]
  },
  {
   "cell_type": "code",
   "execution_count": 30,
   "metadata": {},
   "outputs": [
    {
     "name": "stdout",
     "output_type": "stream",
     "text": [
      "2-D:  3.13632\n",
      "10-D:  2.43712\n"
     ]
    }
   ],
   "source": [
    "def f(x, y):\n",
    "    if x**2 + y**2 <=1:\n",
    "        return 1\n",
    "    else:\n",
    "        return 0\n",
    "def fd(params):\n",
    "    z = 0\n",
    "    for i in params:\n",
    "        z += i*i\n",
    "    if z <= 1: \n",
    "        return 1\n",
    "    else: \n",
    "        return 0\n",
    "N = 100000\n",
    "count = 0\n",
    "x = np.random.uniform(-1,1,(N))\n",
    "y = np.random.uniform(-1,1,N)\n",
    "\n",
    "values = [f(x,y) for x,y in zip(x,y)]\n",
    "\n",
    "I2 = 2**2*np.sum(values)/N\n",
    "\n",
    "dim = 10\n",
    "\n",
    "p = np.random.uniform(-1,1, (N, dim))\n",
    "val = [fd(i) for i in p]\n",
    "\n",
    "I_d=2**dim*np.sum(val)/N\n",
    "\n",
    "print('2-D: ',I2)\n",
    "print('10-D: ',I_d)"
   ]
  },
  {
   "cell_type": "markdown",
   "metadata": {},
   "source": [
    "5\\. **Monte Carlo integration with importance sampling** \n",
    "\n",
    "Calculate the value of the integral:\n",
    "\n",
    "$$\n",
    "I=\\int_0^1 \\frac{x^{-1/2}}{e^x+1} dx\n",
    "$$\n",
    "\n",
    "using the importance sampling method with $w(x)=1/\\sqrt{x}$. You should get a result about 0.84"
   ]
  },
  {
   "cell_type": "code",
   "execution_count": 18,
   "metadata": {},
   "outputs": [
    {
     "name": "stdout",
     "output_type": "stream",
     "text": [
      "1.9954377110314556\n",
      "332672.42615612317\n",
      "0.8374717523165764\n"
     ]
    }
   ],
   "source": [
    "def f(x):\n",
    "    return x**(-1/2)/(((np.exp(x)+1)))\n",
    "\n",
    "def w(x):\n",
    "    return 1/np.sqrt(x)\n",
    "\n",
    "N = 100000\n",
    "Im = np.sum(w(np.random.random(N)))/N\n",
    "\n",
    "print(Im)\n",
    "a = np.random.uniform(0,1, (N))**2\n",
    "print(np.sum(g))\n",
    "I = (Im/N)*np.sum(f(a)/w(a))\n",
    "\n",
    "print(I)"
   ]
  },
  {
   "cell_type": "code",
   "execution_count": null,
   "metadata": {},
   "outputs": [],
   "source": []
  }
 ],
 "metadata": {
  "kernelspec": {
   "display_name": "Python 3 (ipykernel)",
   "language": "python",
   "name": "python3"
  },
  "language_info": {
   "codemirror_mode": {
    "name": "ipython",
    "version": 3
   },
   "file_extension": ".py",
   "mimetype": "text/x-python",
   "name": "python",
   "nbconvert_exporter": "python",
   "pygments_lexer": "ipython3",
   "version": "3.8.8"
  }
 },
 "nbformat": 4,
 "nbformat_minor": 2
}
