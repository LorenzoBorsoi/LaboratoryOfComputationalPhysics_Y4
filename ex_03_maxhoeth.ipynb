{
 "cells": [
  {
   "cell_type": "markdown",
   "id": "d9aa8daf",
   "metadata": {},
   "source": [
    "# Exercise 3:\n",
    "***"
   ]
  },
  {
   "cell_type": "markdown",
   "id": "b162fb87",
   "metadata": {},
   "source": [
    "## 1. Find the mean for row, column and all "
   ]
  },
  {
   "cell_type": "code",
   "execution_count": 25,
   "id": "f55e3192",
   "metadata": {},
   "outputs": [
    {
     "name": "stdout",
     "output_type": "stream",
     "text": [
      "[[ 0  1  2  3]\n",
      " [ 4  5  6  7]\n",
      " [ 8  9 10 11]]\n",
      "column means [4. 5. 6. 7.]\n",
      "row means [1.5 5.5 9.5]\n",
      "all mean 5.5\n"
     ]
    }
   ],
   "source": [
    "import numpy as np\n",
    "\n",
    "m = np.arange(12).reshape((3, 4))\n",
    "print(m)\n",
    "print('column means {}'.format(np.mean(m, 0)))\n",
    "print('row means {}'.format(np.mean(m, 1)))\n",
    "print('all mean {}'.format(np.mean(m)))"
   ]
  },
  {
   "cell_type": "markdown",
   "id": "c9c8d78c",
   "metadata": {},
   "source": [
    "## 2. product of two vectors"
   ]
  },
  {
   "cell_type": "code",
   "execution_count": 49,
   "id": "3dd77551",
   "metadata": {},
   "outputs": [
    {
     "name": "stdout",
     "output_type": "stream",
     "text": [
      "[[ 2  4  6  8]\n",
      " [ 6 12 18 24]\n",
      " [10 20 30 40]\n",
      " [14 28 42 56]] \n",
      "\n",
      "[[ 2  4  6  8]\n",
      " [ 6 12 18 24]\n",
      " [10 20 30 40]\n",
      " [14 28 42 56]] \n",
      "\n",
      "[[ 2  4  6  8]\n",
      " [ 6 12 18 24]\n",
      " [10 20 30 40]\n",
      " [14 28 42 56]]\n"
     ]
    }
   ],
   "source": [
    "u = np.array([1,3,5,7])\n",
    "v = np.array([2,4,6,8])\n",
    "\n",
    "print(np.outer(u,v),'\\n')\n",
    "print(np.array([[i * j for i in v] for j in u]), '\\n')\n",
    "print(u.reshape(4, 1)*v)"
   ]
  },
  {
   "cell_type": "markdown",
   "id": "f6c8901b",
   "metadata": {},
   "source": [
    "## 3. Create a 10 by 6 matrix of random uniform numbers. Set all rows with any entry less than 0.1 to be zero"
   ]
  },
  {
   "cell_type": "code",
   "execution_count": 96,
   "id": "8bb85838",
   "metadata": {},
   "outputs": [
    {
     "name": "stdout",
     "output_type": "stream",
     "text": [
      "[[0.96730227 0.82798877 0.6559455  0.61905554 0.47500313 0.42341601]\n",
      " [0.36974502 0.39227908 0.51233255 0.3503884  0.19905078 0.61159623]\n",
      " [0.25502682 0.96496408 0.45458737 0.0213886  0.60288857 0.94105056]\n",
      " [0.32640492 0.32748302 0.82360542 0.687699   0.34067508 0.66980159]\n",
      " [0.33468081 0.33669556 0.72034966 0.11975334 0.83225303 0.058514  ]\n",
      " [0.95785125 0.804295   0.26312142 0.73283158 0.23378724 0.39037812]\n",
      " [0.40794575 0.50435717 0.25849405 0.94044781 0.7706023  0.26549794]\n",
      " [0.05603527 0.43138746 0.01278542 0.66112283 0.12624372 0.26570743]\n",
      " [0.55581561 0.88238261 0.92174853 0.06540542 0.14755314 0.52520853]\n",
      " [0.32739752 0.62856953 0.14353037 0.14899539 0.59728957 0.4652224 ]]\n",
      "True\n"
     ]
    }
   ],
   "source": [
    "x = np.random.uniform(0, 1, (10, 6))\n",
    "print(x)\n",
    "print(np.any(x))"
   ]
  },
  {
   "cell_type": "markdown",
   "id": "39828990",
   "metadata": {},
   "source": [
    "## 4. Use np.linspace to create an array of 100 numbers between 0 and 2π (includsive).\n"
   ]
  },
  {
   "cell_type": "code",
   "execution_count": 126,
   "id": "fa485688",
   "metadata": {},
   "outputs": [
    {
     "ename": "ModuleNotFoundError",
     "evalue": "No module named 'matplotlib'",
     "output_type": "error",
     "traceback": [
      "\u001b[0;31m---------------------------------------------------------------------------\u001b[0m",
      "\u001b[0;31mModuleNotFoundError\u001b[0m                       Traceback (most recent call last)",
      "\u001b[0;32m/var/folders/0c/s31t6sbs7x92vc54xc4x32n40000gn/T/ipykernel_5215/3243917741.py\u001b[0m in \u001b[0;36m<module>\u001b[0;34m\u001b[0m\n\u001b[1;32m      1\u001b[0m \u001b[0;32mfrom\u001b[0m \u001b[0mmath\u001b[0m \u001b[0;32mimport\u001b[0m \u001b[0mpi\u001b[0m\u001b[0;34m,\u001b[0m \u001b[0msin\u001b[0m\u001b[0;34m,\u001b[0m \u001b[0mcos\u001b[0m\u001b[0;34m\u001b[0m\u001b[0;34m\u001b[0m\u001b[0m\n\u001b[0;32m----> 2\u001b[0;31m \u001b[0;32mimport\u001b[0m \u001b[0mmatplotlib\u001b[0m\u001b[0;34m.\u001b[0m\u001b[0mpyplot\u001b[0m \u001b[0;32mas\u001b[0m \u001b[0mplt\u001b[0m\u001b[0;34m\u001b[0m\u001b[0;34m\u001b[0m\u001b[0m\n\u001b[0m\u001b[1;32m      3\u001b[0m \u001b[0mw\u001b[0m \u001b[0;34m=\u001b[0m \u001b[0mnp\u001b[0m\u001b[0;34m.\u001b[0m\u001b[0mlinspace\u001b[0m\u001b[0;34m(\u001b[0m\u001b[0;36m0\u001b[0m\u001b[0;34m,\u001b[0m \u001b[0;36m2\u001b[0m\u001b[0;34m*\u001b[0m\u001b[0mpi\u001b[0m\u001b[0;34m,\u001b[0m \u001b[0;36m100\u001b[0m\u001b[0;34m)\u001b[0m\u001b[0;34m\u001b[0m\u001b[0;34m\u001b[0m\u001b[0m\n\u001b[1;32m      4\u001b[0m \u001b[0mprint\u001b[0m\u001b[0;34m(\u001b[0m\u001b[0mw\u001b[0m\u001b[0;34m,\u001b[0m \u001b[0;34m'\\n'\u001b[0m\u001b[0;34m)\u001b[0m\u001b[0;34m\u001b[0m\u001b[0;34m\u001b[0m\u001b[0m\n\u001b[1;32m      5\u001b[0m \u001b[0mprint\u001b[0m\u001b[0;34m(\u001b[0m\u001b[0mw\u001b[0m\u001b[0;34m[\u001b[0m\u001b[0;34m:\u001b[0m\u001b[0;34m:\u001b[0m\u001b[0;36m9\u001b[0m\u001b[0;34m]\u001b[0m\u001b[0;34m,\u001b[0m \u001b[0;34m'\\n'\u001b[0m\u001b[0;34m)\u001b[0m\u001b[0;34m\u001b[0m\u001b[0;34m\u001b[0m\u001b[0m\n",
      "\u001b[0;31mModuleNotFoundError\u001b[0m: No module named 'matplotlib'"
     ]
    }
   ],
   "source": [
    "from math import pi, sin, cos\n",
    "import matplotlib.pyplot as plt\n",
    "w = np.linspace(0, 2*pi, 100)\n",
    "print(w, '\\n')\n",
    "print(w[::9], '\\n')\n",
    "print(w[::-1], '\\n')\n",
    "\n",
    "def sin_cos(x):\n",
    "    return abs(sin(x)-cos(x)) < 0.1\n",
    "\n",
    "w_out = list((filter(sin_cos, w)))\n",
    "print(w_out)\n",
    "\n",
    "%matplotlib inline\n",
    "x = np.arange(0,4*np.pi,0.1)\n",
    "y = np.sin(x)\n",
    "z = np.cos(x)\n",
    "plt.plot(x, y)\n",
    "plt.plot(x, z)\n",
    "plt.show()"
   ]
  },
  {
   "cell_type": "code",
   "execution_count": null,
   "id": "b0e07936",
   "metadata": {},
   "outputs": [],
   "source": []
  }
 ],
 "metadata": {
  "kernelspec": {
   "display_name": "Python 3 (ipykernel)",
   "language": "python",
   "name": "python3"
  },
  "language_info": {
   "codemirror_mode": {
    "name": "ipython",
    "version": 3
   },
   "file_extension": ".py",
   "mimetype": "text/x-python",
   "name": "python",
   "nbconvert_exporter": "python",
   "pygments_lexer": "ipython3",
   "version": "3.8.8"
  }
 },
 "nbformat": 4,
 "nbformat_minor": 5
}
