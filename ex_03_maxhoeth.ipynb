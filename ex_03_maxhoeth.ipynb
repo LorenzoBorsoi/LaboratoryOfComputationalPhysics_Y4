{
 "cells": [
  {
   "cell_type": "markdown",
   "id": "d9aa8daf",
   "metadata": {},
   "source": [
    "# Exercise 3:\n",
    "***"
   ]
  },
  {
   "cell_type": "markdown",
   "id": "b162fb87",
   "metadata": {},
   "source": [
    "## 1. Find the mean for row, column and all "
   ]
  },
  {
   "cell_type": "code",
   "execution_count": 1,
   "id": "f55e3192",
   "metadata": {},
   "outputs": [
    {
     "name": "stdout",
     "output_type": "stream",
     "text": [
      "[[ 0  1  2  3]\n",
      " [ 4  5  6  7]\n",
      " [ 8  9 10 11]]\n",
      "column means [4. 5. 6. 7.]\n",
      "row means [1.5 5.5 9.5]\n",
      "all mean 5.5\n"
     ]
    }
   ],
   "source": [
    "import numpy as np\n",
    "\n",
    "m = np.arange(12).reshape((3, 4))\n",
    "print(m)\n",
    "print('column means {}'.format(np.mean(m, 0)))\n",
    "print('row means {}'.format(np.mean(m, 1)))\n",
    "print('all mean {}'.format(np.mean(m)))"
   ]
  },
  {
   "cell_type": "markdown",
   "id": "c9c8d78c",
   "metadata": {},
   "source": [
    "## 2. product of two vectors"
   ]
  },
  {
   "cell_type": "code",
   "execution_count": 2,
   "id": "3dd77551",
   "metadata": {},
   "outputs": [
    {
     "name": "stdout",
     "output_type": "stream",
     "text": [
      "[[ 2  4  6  8]\n",
      " [ 6 12 18 24]\n",
      " [10 20 30 40]\n",
      " [14 28 42 56]] \n",
      "\n",
      "[[ 2  4  6  8]\n",
      " [ 6 12 18 24]\n",
      " [10 20 30 40]\n",
      " [14 28 42 56]] \n",
      "\n",
      "[[ 2  4  6  8]\n",
      " [ 6 12 18 24]\n",
      " [10 20 30 40]\n",
      " [14 28 42 56]]\n"
     ]
    }
   ],
   "source": [
    "u = np.array([1,3,5,7])\n",
    "v = np.array([2,4,6,8])\n",
    "\n",
    "print(np.outer(u,v),'\\n')\n",
    "print(np.array([[i * j for i in v] for j in u]), '\\n')\n",
    "print(u.reshape(4, 1)*v)"
   ]
  },
  {
   "cell_type": "markdown",
   "id": "f6c8901b",
   "metadata": {},
   "source": [
    "## 3. Create a 10 by 6 matrix of random uniform numbers. Set all rows with any entry less than 0.1 to be zero"
   ]
  },
  {
   "cell_type": "code",
   "execution_count": 3,
   "id": "8bb85838",
   "metadata": {},
   "outputs": [
    {
     "name": "stdout",
     "output_type": "stream",
     "text": [
      "[[0.2786026  0.44568078 0.40702867 0.85425284 0.93378953 0.48941861]\n",
      " [0.30467212 0.175471   0.21018661 0.09382653 0.73214803 0.51244895]\n",
      " [0.55459295 0.92279143 0.40589659 0.01364594 0.14400485 0.96020026]\n",
      " [0.08039338 0.72767233 0.38606024 0.94059452 0.35421946 0.68143841]\n",
      " [0.34540102 0.7957195  0.95068335 0.95699315 0.61364953 0.05489331]\n",
      " [0.17427349 0.15602848 0.01949895 0.6746571  0.32340072 0.14107973]\n",
      " [0.01512852 0.38023008 0.17807381 0.18225389 0.2723503  0.92752549]\n",
      " [0.79345479 0.86797425 0.15140104 0.07058772 0.17276325 0.0335564 ]\n",
      " [0.24691818 0.11065216 0.31605115 0.04713539 0.68867206 0.0846584 ]\n",
      " [0.83420914 0.92776392 0.17265807 0.04337181 0.52311404 0.8683151 ]]\n",
      "True\n"
     ]
    }
   ],
   "source": [
    "x = np.random.uniform(0, 1, (10, 6))\n",
    "print(x)\n",
    "print(np.any(x))"
   ]
  },
  {
   "cell_type": "markdown",
   "id": "39828990",
   "metadata": {},
   "source": [
    "## 4. Use np.linspace to create an array of 100 numbers between 0 and 2π (includsive).\n"
   ]
  },
  {
   "cell_type": "code",
   "execution_count": 34,
   "id": "fa485688",
   "metadata": {},
   "outputs": [
    {
     "name": "stdout",
     "output_type": "stream",
     "text": [
      "[0.         0.06346652 0.12693304 0.19039955 0.25386607 0.31733259\n",
      " 0.38079911 0.44426563 0.50773215 0.57119866 0.63466518 0.6981317\n",
      " 0.76159822 0.82506474 0.88853126 0.95199777 1.01546429 1.07893081\n",
      " 1.14239733 1.20586385 1.26933037 1.33279688 1.3962634  1.45972992\n",
      " 1.52319644 1.58666296 1.65012947 1.71359599 1.77706251 1.84052903\n",
      " 1.90399555 1.96746207 2.03092858 2.0943951  2.15786162 2.22132814\n",
      " 2.28479466 2.34826118 2.41172769 2.47519421 2.53866073 2.60212725\n",
      " 2.66559377 2.72906028 2.7925268  2.85599332 2.91945984 2.98292636\n",
      " 3.04639288 3.10985939 3.17332591 3.23679243 3.30025895 3.36372547\n",
      " 3.42719199 3.4906585  3.55412502 3.61759154 3.68105806 3.74452458\n",
      " 3.8079911  3.87145761 3.93492413 3.99839065 4.06185717 4.12532369\n",
      " 4.1887902  4.25225672 4.31572324 4.37918976 4.44265628 4.5061228\n",
      " 4.56958931 4.63305583 4.69652235 4.75998887 4.82345539 4.88692191\n",
      " 4.95038842 5.01385494 5.07732146 5.14078798 5.2042545  5.26772102\n",
      " 5.33118753 5.39465405 5.45812057 5.52158709 5.58505361 5.64852012\n",
      " 5.71198664 5.77545316 5.83891968 5.9023862  5.96585272 6.02931923\n",
      " 6.09278575 6.15625227 6.21971879 6.28318531] \n",
      "\n",
      "[0.         0.57119866 1.14239733 1.71359599 2.28479466 2.85599332\n",
      " 3.42719199 3.99839065 4.56958931 5.14078798 5.71198664 6.28318531] \n",
      "\n",
      "[6.28318531 6.21971879 6.15625227 6.09278575 6.02931923 5.96585272\n",
      " 5.9023862  5.83891968 5.77545316 5.71198664 5.64852012 5.58505361\n",
      " 5.52158709 5.45812057 5.39465405 5.33118753 5.26772102 5.2042545\n",
      " 5.14078798 5.07732146 5.01385494 4.95038842 4.88692191 4.82345539\n",
      " 4.75998887 4.69652235 4.63305583 4.56958931 4.5061228  4.44265628\n",
      " 4.37918976 4.31572324 4.25225672 4.1887902  4.12532369 4.06185717\n",
      " 3.99839065 3.93492413 3.87145761 3.8079911  3.74452458 3.68105806\n",
      " 3.61759154 3.55412502 3.4906585  3.42719199 3.36372547 3.30025895\n",
      " 3.23679243 3.17332591 3.10985939 3.04639288 2.98292636 2.91945984\n",
      " 2.85599332 2.7925268  2.72906028 2.66559377 2.60212725 2.53866073\n",
      " 2.47519421 2.41172769 2.34826118 2.28479466 2.22132814 2.15786162\n",
      " 2.0943951  2.03092858 1.96746207 1.90399555 1.84052903 1.77706251\n",
      " 1.71359599 1.65012947 1.58666296 1.52319644 1.45972992 1.3962634\n",
      " 1.33279688 1.26933037 1.20586385 1.14239733 1.07893081 1.01546429\n",
      " 0.95199777 0.88853126 0.82506474 0.76159822 0.6981317  0.63466518\n",
      " 0.57119866 0.50773215 0.44426563 0.38079911 0.31733259 0.25386607\n",
      " 0.19039955 0.12693304 0.06346652 0.        ] \n",
      "\n",
      "[0.7615982190520711, 0.8250647373064104, 3.8714576135146945, 3.934924131769034]\n"
     ]
    },
    {
     "name": "stderr",
     "output_type": "stream",
     "text": [
      "/var/folders/0c/s31t6sbs7x92vc54xc4x32n40000gn/T/ipykernel_5459/247717448.py:19: RuntimeWarning: invalid value encountered in true_divide\n",
      "  plt.plot(x, x/x*0.1, color='g')\n",
      "/var/folders/0c/s31t6sbs7x92vc54xc4x32n40000gn/T/ipykernel_5459/247717448.py:20: RuntimeWarning: invalid value encountered in true_divide\n",
      "  plt.plot(x, x/x*-0.1, color='g')\n"
     ]
    },
    {
     "data": {
      "text/plain": "<Figure size 432x288 with 1 Axes>",
      "image/png": "[encoded data removed]"
     },
     "metadata": {
      "needs_background": "light"
     },
     "output_type": "display_data"
    }
   ],
   "source": [
    "from math import pi, sin, cos\n",
    "import matplotlib.pyplot as plt\n",
    "w = np.linspace(0, 2*pi, 100)\n",
    "print(w, '\\n')\n",
    "print(w[::9], '\\n')\n",
    "print(w[::-1], '\\n')\n",
    "\n",
    "def sin_cos(x):\n",
    "    return abs(sin(x)-cos(x)) < 0.1\n",
    "\n",
    "w_out = list((filter(sin_cos, w)))\n",
    "print(w_out)\n",
    "\n",
    "%matplotlib inline\n",
    "x = np.arange(0,2*np.pi ,0.1)\n",
    "y = np.sin(x)\n",
    "z = np.cos(x)\n",
    "#plt.plot(x, y-z)\n",
    "plt.plot(x, x/x*0.1, color='g')\n",
    "plt.plot(x, x/x*-0.1, color='g')\n",
    "plt.scatter(w, np.sin(w)-np.cos(w))\n",
    "plt.scatter(w_out, np.sin(w_out)-np.cos(w_out), color='r')\n",
    "plt.show()\n"
   ]
  },
  {
   "cell_type": "code",
   "execution_count": 4,
   "id": "b0e07936",
   "metadata": {},
   "outputs": [],
   "source": []
  }
 ],
 "metadata": {
  "kernelspec": {
   "display_name": "Python 3 (ipykernel)",
   "language": "python",
   "name": "python3"
  },
  "language_info": {
   "codemirror_mode": {
    "name": "ipython",
    "version": 3
   },
   "file_extension": ".py",
   "mimetype": "text/x-python",
   "name": "python",
   "nbconvert_exporter": "python",
   "pygments_lexer": "ipython3",
   "version": "3.8.8"
  }
 },
 "nbformat": 4,
 "nbformat_minor": 5
}