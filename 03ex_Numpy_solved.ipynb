{
 "cells": [
  {
   "cell_type": "markdown",
   "metadata": {},
   "source": [
    "## Numpy basics"
   ]
  },
  {
   "cell_type": "markdown",
   "metadata": {
    "pycharm": {
     "name": "#%% md\n"
    }
   },
   "source": [
    "### Exercises 03 - Carmen Martín Turrero"
   ]
  },
  {
   "cell_type": "code",
   "execution_count": 1,
   "metadata": {
    "pycharm": {
     "name": "#%%\n"
    }
   },
   "outputs": [],
   "source": [
    "import numpy as np\n",
    "import numpy.random as npr\n",
    "from math import pi\n",
    "import pandas as pd  #we will use it to visualize some of the solutions\n",
    "from matplotlib.pyplot import show, plot, xlabel, figure, legend, ylabel"
   ]
  },
  {
   "cell_type": "markdown",
   "metadata": {},
   "source": [
    "1\\. Find the row, column and overall means for the following matrix:\n",
    "\n",
    "```python\n",
    "m = np.arange(12).reshape((3,4))\n",
    "```"
   ]
  },
  {
   "cell_type": "code",
   "execution_count": 2,
   "metadata": {
    "pycharm": {
     "name": "#%%\n"
    }
   },
   "outputs": [
    {
     "name": "stdout",
     "output_type": "stream",
     "text": [
      "[[ 0  1  2  3]\n",
      " [ 4  5  6  7]\n",
      " [ 8  9 10 11]]\n",
      "The means of each column are [4. 5. 6. 7.].\n",
      "The means of each row are [1.5 5.5 9.5].\n",
      "And the overall mean is 5.5.\n"
     ]
    }
   ],
   "source": [
    "m = np.arange(12).reshape((3,4))\n",
    "\n",
    "print(m)\n",
    "\n",
    "mean_columns = np.mean(m, axis = 0)\n",
    "mean_rows = np.mean(m, axis = 1)\n",
    "mean_m = np.mean(m)\n",
    "\n",
    "print(\"The means of each column are {}.\" '\\n'\n",
    "      \"The means of each row are {}.\" '\\n'\n",
    "      \"And the overall mean is {}.\".format(mean_columns, mean_rows, mean_m))"
   ]
  },
  {
   "cell_type": "markdown",
   "metadata": {},
   "source": [
    "2\\. Find the outer product of the following two vectors\n",
    "\n",
    "```python\n",
    "u = np.array([1,3,5,7])\n",
    "v = np.array([2,4,6,8])\n",
    "```\n",
    "\n",
    "Do this in the following ways:\n",
    "\n",
    "   * Using the function outer in numpy\n",
    "   * Using a nested for loop or list comprehension\n",
    "   * Using numpy broadcasting operations"
   ]
  },
  {
   "cell_type": "code",
   "execution_count": 3,
   "metadata": {
    "pycharm": {
     "name": "#%%\n"
    }
   },
   "outputs": [
    {
     "name": "stdout",
     "output_type": "stream",
     "text": [
      "Outer product by using the numpy function:\n",
      " [[ 2  4  6  8]\n",
      " [ 6 12 18 24]\n",
      " [10 20 30 40]\n",
      " [14 28 42 56]]\n",
      "Using a list comprehension:\n",
      " [[ 2  4  6  8]\n",
      " [ 6 12 18 24]\n",
      " [10 20 30 40]\n",
      " [14 28 42 56]]\n",
      "Using broadcasting operations:\n",
      " [[ 2  4  6  8]\n",
      " [ 6 12 18 24]\n",
      " [10 20 30 40]\n",
      " [14 28 42 56]]\n"
     ]
    }
   ],
   "source": [
    "u = np.array([1,3,5,7])\n",
    "v = np.array([2,4,6,8])\n",
    "\n",
    "# Outer product by using the numpy function\n",
    "O1 = np.outer(u,v)\n",
    "\n",
    "# Outer product using the a list comprehension\n",
    "O2 = np.mat([i*v for i in u])\n",
    "\n",
    "# Outer product using broadcasting operations\n",
    "O3 = np.multiply(u.reshape(4,1),v)\n",
    "\n",
    "print(\"Outer product by using the numpy function:\" '\\n', O1)\n",
    "print(\"Using a list comprehension:\" '\\n', O2)\n",
    "print(\"Using broadcasting operations:\" '\\n', O3)"
   ]
  },
  {
   "cell_type": "markdown",
   "metadata": {},
   "source": [
    "3\\. Create a 10 by 6 matrix of random uniform numbers. Set all rows with any entry less than 0.1 to be zero\n",
    "\n",
    "Hint: Use the following numpy functions - np.random.random, np.any as well as Boolean indexing and the axis argument."
   ]
  },
  {
   "cell_type": "code",
   "execution_count": 15,
   "metadata": {
    "pycharm": {
     "name": "#%%\n"
    }
   },
   "outputs": [
    {
     "name": "stdout",
     "output_type": "stream",
     "text": [
      "Matrix of random numbers after modification:\n",
      " (we round the numbers to see clearly that everything is correct)\n",
      " [[0.7  0.29 0.23 0.55 0.72 0.42]\n",
      " [0.98 0.68 0.48 0.39 0.34 0.73]\n",
      " [0.44 0.   0.4  0.74 0.18 0.18]\n",
      " [0.53 0.53 0.63 0.85 0.72 0.61]\n",
      " [0.72 0.32 0.36 0.23 0.29 0.63]\n",
      " [0.   0.43 0.43 0.49 0.43 0.31]\n",
      " [0.43 0.89 0.94 0.5  0.62 0.12]\n",
      " [0.32 0.41 0.87 0.25 0.48 0.99]\n",
      " [0.52 0.61 0.12 0.83 0.6  0.55]\n",
      " [0.34 0.3  0.42 0.68 0.88 0.51]]\n"
     ]
    }
   ],
   "source": [
    "npr.seed(123)\n",
    "\n",
    "R = npr.rand(10,6)\n",
    "\n",
    "mask = R < 0.1\n",
    "R[mask] = 0\n",
    "\n",
    "print('Matrix of random numbers after modification:\\n',\n",
    "      '(we round the numbers to see clearly that everything is correct)\\n',\n",
    "      np.round(R,2))"
   ]
  },
  {
   "cell_type": "markdown",
   "metadata": {},
   "source": [
    "4\\. Use np.linspace to create an array of 100 numbers between 0 and 2π (inclusive).\n",
    "\n",
    "  * Extract every 10th element using slice notation\n",
    "  * Reverse the array using slice notation\n",
    "  * Extract elements where the absolute difference between the sine and cosine functions evaluated at that element is less than 0.1\n",
    "  * Make a plot showing the sin and cos functions and indicate where they are close"
   ]
  },
  {
   "cell_type": "code",
   "execution_count": 5,
   "metadata": {
    "pycharm": {
     "name": "#%%\n"
    }
   },
   "outputs": [
    {
     "name": "stdout",
     "output_type": "stream",
     "text": [
      "Extraction of every tenth element:\n",
      " [0.57119866 1.20586385 1.84052903 2.47519421 3.10985939 3.74452458\n",
      " 4.37918976 5.01385494 5.64852012 6.28318531]\n",
      "Reversing the array we get:\n",
      " [6.28318531 5.64852012 5.01385494 4.37918976 3.74452458 3.10985939\n",
      " 2.47519421 1.84052903 1.20586385 0.57119866]\n",
      "Elements which sine-cosine difference is smaller than 0.1\n",
      " [0.7615982190520711, 0.8250647373064104, 3.8714576135146945, 3.934924131769034]\n"
     ]
    },
    {
     "data": {
      "image/png": "[encoded data removed]",
      "text/plain": [
       "<Figure size 720x432 with 1 Axes>"
      ]
     },
     "metadata": {
      "needs_background": "light"
     },
     "output_type": "display_data"
    }
   ],
   "source": [
    "# Extraction of every tenth element with slice notation\n",
    "a = np.linspace(0, 2*pi, 100)\n",
    "a = a.reshape(10,10)\n",
    "b = a[0:, 9]\n",
    "print(\"Extraction of every tenth element:\\n\", b)\n",
    "\n",
    "# Reverse array with slice notation\n",
    "r = b[::-1]\n",
    "print('Reversing the array we get:\\n', r)\n",
    "\n",
    "# Elements which sine-cosine difference is smaller than 0.1\n",
    "e = []\n",
    "for i in range(len(a)):\n",
    "      for j in range(len(a)):\n",
    "            if abs(np.sin(a[i,j])-np.cos(a[i,j])) < 0.1:\n",
    "                  e.append(a[i,j])\n",
    "print('Elements which sine-cosine difference is smaller than 0.1\\n', e)\n",
    "\n",
    "\n",
    "# plot of sine and cosine functions\n",
    "figure(figsize=(10, 6))\n",
    "a = np.linspace(0, 2*pi, 100)\n",
    "plot(a,np.sin(a),\"b-\", label = 'sin(x)')\n",
    "plot(a, np.cos(a), 'y-', label = 'cos(x)')\n",
    "plot(e, np.cos(e), \"r*\", label = 'Points where sin(x) and cos(x) are close')  #we use stars to mark points where sine and cosine are near\n",
    "legend()\n",
    "xlabel( \"x\", fontsize = 12, color=\"black\")\n",
    "\n",
    "show()"
   ]
  },
  {
   "cell_type": "markdown",
   "metadata": {},
   "source": [
    "5\\. Create a matrix that shows the 10 by 10 multiplication table.\n",
    "\n",
    " * Find the trace of the matrix\n",
    " * Extract the anti-diagonal (this should be ```array([10, 18, 24, 28, 30, 30, 28, 24, 18, 10])```)\n",
    " * Extract the diagonal offset by 1 upwards (this should be ```array([ 2,  6, 12, 20, 30, 42, 56, 72, 90])```)"
   ]
  },
  {
   "cell_type": "code",
   "execution_count": 6,
   "metadata": {
    "pycharm": {
     "name": "#%%\n"
    }
   },
   "outputs": [
    {
     "name": "stdout",
     "output_type": "stream",
     "text": [
      "The 10x10 multiplication table:\n",
      " [[  1.   2.   3.   4.   5.   6.   7.   8.   9.  10.]\n",
      " [  2.   4.   6.   8.  10.  12.  14.  16.  18.  20.]\n",
      " [  3.   6.   9.  12.  15.  18.  21.  24.  27.  30.]\n",
      " [  4.   8.  12.  16.  20.  24.  28.  32.  36.  40.]\n",
      " [  5.  10.  15.  20.  25.  30.  35.  40.  45.  50.]\n",
      " [  6.  12.  18.  24.  30.  36.  42.  48.  54.  60.]\n",
      " [  7.  14.  21.  28.  35.  42.  49.  56.  63.  70.]\n",
      " [  8.  16.  24.  32.  40.  48.  56.  64.  72.  80.]\n",
      " [  9.  18.  27.  36.  45.  54.  63.  72.  81.  90.]\n",
      " [ 10.  20.  30.  40.  50.  60.  70.  80.  90. 100.]]\n",
      "Trace of the above matrix: 385.0\n",
      "Anti-diagonal of the above matrix: [[10. 18. 24. 28. 30. 30. 28. 24. 18. 10.]]\n",
      "Diagonal off set by 1 upwards of the above matrix: [[ 2.  6. 12. 20. 30. 42. 56. 72. 90.]]\n"
     ]
    }
   ],
   "source": [
    "#Create a 10x10 matrix with multiplication tables.\n",
    "numbers = np.linspace(1,10,10)\n",
    "multi_table = np.mat([i*numbers for i in numbers])\n",
    "print('The 10x10 multiplication table:\\n', multi_table)\n",
    "\n",
    "# Trace of the matrix\n",
    "Trace = np.trace(multi_table)\n",
    "print('Trace of the above matrix:', Trace)\n",
    "\n",
    "# Extract the anti-diagonal\n",
    "anti_diag = np.fliplr(multi_table).diagonal()\n",
    "print('Anti-diagonal of the above matrix:', anti_diag)\n",
    "\n",
    "# Extract diagonal off set by 1 upwards\n",
    "diag_1 = multi_table.diagonal(1)\n",
    "print('Diagonal off set by 1 upwards of the above matrix:', diag_1)"
   ]
  },
  {
   "cell_type": "markdown",
   "metadata": {},
   "source": [
    "6\\. Use broadcasting to create a grid of distances\n",
    "\n",
    "Route 66 crosses the following cities in the US: Chicago, Springfield, Saint-Louis, Tulsa, Oklahoma City, Amarillo, Santa Fe, Albuquerque, Flagstaff, Los Angeles\n",
    "The corresponding positions in miles are: 0, 198, 303, 736, 871, 1175, 1475, 1544, 1913, 2448\n",
    "\n",
    "  * Construct a 2D grid of distances among each city along Route 66\n",
    "  * Convert that in km (those savages...)"
   ]
  },
  {
   "cell_type": "code",
   "execution_count": 7,
   "metadata": {},
   "outputs": [
    {
     "name": "stdout",
     "output_type": "stream",
     "text": [
      "[[   0  198  303  736  871 1175 1475 1544 1913 2448]\n",
      " [ 198    0  105  538  673  977 1277 1346 1715 2250]\n",
      " [ 303  105    0  433  568  872 1172 1241 1610 2145]\n",
      " [ 736  538  433    0  135  439  739  808 1177 1712]\n",
      " [ 871  673  568  135    0  304  604  673 1042 1577]\n",
      " [1175  977  872  439  304    0  300  369  738 1273]\n",
      " [1475 1277 1172  739  604  300    0   69  438  973]\n",
      " [1544 1346 1241  808  673  369   69    0  369  904]\n",
      " [1913 1715 1610 1177 1042  738  438  369    0  535]\n",
      " [2448 2250 2145 1712 1577 1273  973  904  535    0]]\n",
      "\n",
      "The distances between the cities in kilometers are:\n",
      "                Chicago  Springfield  Saint-Louis    Tulsa  Oklahoma City  \\\n",
      "Chicago           0.00       317.20       485.41  1179.07        1395.34   \n",
      "Springfield     317.20         0.00       168.21   861.88        1078.15   \n",
      "Saint-Louis     485.41       168.21         0.00   693.67         909.94   \n",
      "Tulsa          1179.07       861.88       693.67     0.00         216.27   \n",
      "Oklahoma City  1395.34      1078.15       909.94   216.27           0.00   \n",
      "Amarillo       1882.35      1565.15      1396.94   703.28         487.01   \n",
      "Santa Fe       2362.95      2045.75      1877.54  1183.88         967.61   \n",
      "Albuquerque    2473.49      2156.29      1988.08  1294.42        1078.15   \n",
      "Flagstaff      3064.63      2747.43      2579.22  1885.55        1669.28   \n",
      "Los Angeles    3921.70      3604.50      3436.29  2742.62        2526.35   \n",
      "\n",
      "               Amarillo  Santa Fe  Albuquerque  Flagstaff  Los Angeles  \n",
      "Chicago         1882.35   2362.95      2473.49    3064.63      3921.70  \n",
      "Springfield     1565.15   2045.75      2156.29    2747.43      3604.50  \n",
      "Saint-Louis     1396.94   1877.54      1988.08    2579.22      3436.29  \n",
      "Tulsa            703.28   1183.88      1294.42    1885.55      2742.62  \n",
      "Oklahoma City    487.01    967.61      1078.15    1669.28      2526.35  \n",
      "Amarillo           0.00    480.60       591.14    1182.28      2039.35  \n",
      "Santa Fe         480.60      0.00       110.54     701.68      1558.75  \n",
      "Albuquerque      591.14    110.54         0.00     591.14      1448.21  \n",
      "Flagstaff       1182.28    701.68       591.14       0.00       857.07  \n",
      "Los Angeles     2039.35   1558.75      1448.21     857.07         0.00  \n"
     ]
    }
   ],
   "source": [
    "Cities = np.array(['Chicago', 'Springfield', 'Saint-Louis', 'Tulsa', 'Oklahoma City', 'Amarillo', 'Santa Fe', 'Albuquerque', 'Flagstaff', 'Los Angeles'])\n",
    "miles = np.array([0, 198, 303, 736, 871, 1175, 1475, 1544, 1913, 2448])\n",
    "\n",
    "Distances = abs(miles - miles.reshape(10,1))\n",
    "Distances_km = np.round(Distances*1.602,2)\n",
    "\n",
    "print(Distances)\n",
    "print()\n",
    "\n",
    "D_km = pd.DataFrame(Distances_km, Cities, Cities)\n",
    "\n",
    "print('The distances between the cities in kilometers are:\\n', D_km)"
   ]
  },
  {
   "cell_type": "markdown",
   "metadata": {},
   "source": [
    "7\\. Prime numbers sieve: compute the prime numbers in the 0-N (N=99 to start with) range with a sieve (mask).\n",
    "  * Construct a shape (100,) boolean array, the mask\n",
    "  * Identify the multiples of each number starting from 2 and set accordingly the corresponding mask element\n",
    "  * Apply the mask to obtain an array of ordered prime numbers\n",
    "  * Check the performances (timeit); how does it scale with N?\n",
    "  * Implement the optimization suggested in the [sieve of Eratosthenes](https://en.wikipedia.org/wiki/Sieve_of_Eratosthenes)"
   ]
  },
  {
   "cell_type": "code",
   "execution_count": 8,
   "metadata": {
    "pycharm": {
     "name": "#%%\n"
    }
   },
   "outputs": [
    {
     "name": "stdout",
     "output_type": "stream",
     "text": [
      "The prime numbers from 1 to 99 are: [ 1  2  3  5  7 11 13 17 19 23 29 31 37 41 43 47 53 59 61 67 71 73 79 83\n",
      " 89 97]\n"
     ]
    }
   ],
   "source": [
    "# we define a function that computes the prime numbers up to a given number (N) using sieve:\n",
    "def sieve_primes(N):\n",
    "      numbers = np.arange(1, N, 1)\n",
    "      i = 1\n",
    "      while numbers[i] < N**(1/2):\n",
    "            mask = numbers % numbers[i] != 0\n",
    "            mask[i] = True\n",
    "            numbers = numbers[mask]\n",
    "            i += 1\n",
    "      return numbers\n",
    "\n",
    "\n",
    "print('The prime numbers from 1 to 99 are:', sieve_primes(99))"
   ]
  },
  {
   "cell_type": "code",
   "execution_count": 16,
   "metadata": {
    "pycharm": {
     "name": "#%%\n"
    }
   },
   "outputs": [
    {
     "data": {
      "image/png": "[encoded data removed]",
      "text/plain": [
       "<Figure size 720x432 with 1 Axes>"
      ]
     },
     "metadata": {
      "needs_background": "light"
     },
     "output_type": "display_data"
    }
   ],
   "source": [
    "import time\n",
    "# Lets check now the performances and how the time scales with N:\n",
    "N = np.linspace(99, 99999, 100)\n",
    "t = []\n",
    "\n",
    "for n in N:\n",
    "      t0 = time.time()\n",
    "      sieve_primes(n)\n",
    "      t1 = time.time()\n",
    "      t.append(t1-t0)\n",
    "\n",
    "\n",
    "#Lets see how the time increases with N\n",
    "\n",
    "figure(figsize=(10, 6))\n",
    "plot(N, t)\n",
    "xlabel( \"Quantity of numbers\", fontsize = 12, color=\"black\")\n",
    "ylabel( \"Time (s)\", fontsize = 12, color=\"black\")\n",
    "show()"
   ]
  },
  {
   "cell_type": "markdown",
   "metadata": {},
   "source": [
    "**N.B. the following exercises are meant to be solved only if you are familiar with the numpy random library. If not you can skip them (postponed for one of the next exercise sessions)**\n"
   ]
  },
  {
   "cell_type": "markdown",
   "metadata": {},
   "source": [
    "8\\. Diffusion using random walk\n",
    "\n",
    "Consider a simple random walk process: at each step in time, a walker jumps right or left (+1 or -1) with equal probability. The goal is to find the typical distance from the origin of a random walker after a given amount of time. \n",
    "To do that, let's simulate many walkers and create a 2D array with each walker as a raw and the actual time evolution as columns\n",
    "\n",
    "  * Take 1000 walkers and let them walk for 200 steps\n",
    "  * Use randint to create a 2D array of size walkers x steps with values -1 or 1\n",
    "  * Build the actual walking distances for each walker (i.e. another 2D array \"summing on each raw\")\n",
    "  * Take the square of that 2D array (elementwise)\n",
    "  * Compute the mean of the squared distances at each step (i.e. the mean along the columns)\n",
    "  * Plot the average distances (sqrt(distance\\*\\*2)) as a function of time (step)\n",
    "  \n",
    "Did you get what you expected?"
   ]
  },
  {
   "cell_type": "code",
   "execution_count": 10,
   "metadata": {
    "pycharm": {
     "name": "#%%\n"
    }
   },
   "outputs": [
    {
     "data": {
      "image/png": "[encoded data removed]",
      "text/plain": [
       "<Figure size 432x288 with 1 Axes>"
      ]
     },
     "metadata": {
      "needs_background": "light"
     },
     "output_type": "display_data"
    }
   ],
   "source": [
    "walkers = 1000\n",
    "steps = 200\n",
    "\n",
    "# We arrange the steps each walker takes in an array\n",
    "grid = npr.randint(0,2,size=(walkers,steps))\n",
    "\n",
    "mask = grid == 0\n",
    "grid[mask] = -1   # -1 is a step to the left and +1, to the right\n",
    "\n",
    "# We find the walking distance of each of the walkers\n",
    "individual_distance = grid.sum(axis = 1)\n",
    "\n",
    "# Square of the array (elementwise):\n",
    "ind_dist_squared = individual_distance**2\n",
    "\n",
    "# Mean along the columns of the grid:\n",
    "mean_columns = np.mean(grid, axis = 0)\n",
    "\n",
    "# Average distance each step\n",
    "av_step = (mean_columns**2)**(1/2)\n",
    "\n",
    "# Plot the average distance with each step\n",
    "\n",
    "figure(figsize=(6, 4))\n",
    "plot(np.linspace(0,steps, steps), av_step, 'b.')\n",
    "xlabel( \"Steps\", fontsize = 12, color=\"black\")\n",
    "ylabel( \"Average distance\", fontsize = 12, color=\"black\")\n",
    "show()"
   ]
  },
  {
   "cell_type": "markdown",
   "metadata": {},
   "source": [
    "The result is reasonable. Being 0.5 the probability of taking one step right or left, the average distance for each step should be close to zero. In the graph we can see how there is more density of average distances near zero. Moreover, as the distance increases there are fewer steps that reach those numbers."
   ]
  },
  {
   "cell_type": "markdown",
   "metadata": {},
   "source": [
    "9\\. Analyze a data file \n",
    "  * Download the population of hares, lynxes and carrots at the beginning of the last century.\n",
    "    ```python\n",
    "    ! wget https://www.dropbox.com/s/3vigxoqayo389uc/populations.txt\n",
    "    ```\n",
    "\n",
    "  * Check the content by looking within the file\n",
    "  * Load the data (use an appropriate numpy method) into a 2D array\n",
    "  * Create arrays out of the columns, the arrays being (in order): *year*, *hares*, *lynxes*, *carrots* \n",
    "  * Plot the 3 populations over the years\n",
    "  * Compute the main statistical properties of the dataset (mean, std, correlations, etc.)\n",
    "  * Which species has the highest population each year?\n",
    "\n",
    "Do you feel there is some evident correlation here? [Studies](https://www.enr.gov.nt.ca/en/services/lynx/lynx-snowshoe-hare-cycle) tend to believe so."
   ]
  },
  {
   "cell_type": "code",
   "execution_count": 11,
   "metadata": {},
   "outputs": [
    {
     "data": {
      "image/png": "[encoded data removed]",
      "text/plain": [
       "<Figure size 720x432 with 1 Axes>"
      ]
     },
     "metadata": {
      "needs_background": "light"
     },
     "output_type": "display_data"
    }
   ],
   "source": [
    "# Load the dat into an array\n",
    "file = np.loadtxt('populations.txt')\n",
    "\n",
    "#Create an array of each column\n",
    "year = file[:,0]\n",
    "hares = file[:,1]\n",
    "lynxes = file[:,2]\n",
    "carrots = file[:,3]\n",
    "\n",
    "# Plot populations over the years\n",
    "figure(figsize=(10, 6))\n",
    "\n",
    "plot(year, hares, 'b--', label = 'Hares')\n",
    "plot(year, lynxes, 'y--', label = 'Lynxes')\n",
    "plot(year, carrots, 'r--', label = 'Carrots') \n",
    "legend()\n",
    "xlabel( \"Years\", fontsize = 12, color=\"black\")\n",
    "ylabel( \"Population\", fontsize = 12, color=\"black\")\n",
    "\n",
    "show()"
   ]
  },
  {
   "cell_type": "code",
   "execution_count": 12,
   "metadata": {},
   "outputs": [
    {
     "data": {
      "text/html": [
       "<div>\n",
       "<style scoped>\n",
       "    .dataframe tbody tr th:only-of-type {\n",
       "        vertical-align: middle;\n",
       "    }\n",
       "\n",
       "    .dataframe tbody tr th {\n",
       "        vertical-align: top;\n",
       "    }\n",
       "\n",
       "    .dataframe thead th {\n",
       "        text-align: right;\n",
       "    }\n",
       "</style>\n",
       "<table border=\"1\" class=\"dataframe\">\n",
       "  <thead>\n",
       "    <tr style=\"text-align: right;\">\n",
       "      <th></th>\n",
       "      <th>Hares</th>\n",
       "      <th>Lynxes</th>\n",
       "      <th>Carrots</th>\n",
       "    </tr>\n",
       "  </thead>\n",
       "  <tbody>\n",
       "    <tr>\n",
       "      <th>count</th>\n",
       "      <td>21.000000</td>\n",
       "      <td>21.000000</td>\n",
       "      <td>21.000000</td>\n",
       "    </tr>\n",
       "    <tr>\n",
       "      <th>mean</th>\n",
       "      <td>34080.952381</td>\n",
       "      <td>20166.666667</td>\n",
       "      <td>42400.000000</td>\n",
       "    </tr>\n",
       "    <tr>\n",
       "      <th>std</th>\n",
       "      <td>21413.981859</td>\n",
       "      <td>16655.999920</td>\n",
       "      <td>3404.555771</td>\n",
       "    </tr>\n",
       "    <tr>\n",
       "      <th>min</th>\n",
       "      <td>7600.000000</td>\n",
       "      <td>4000.000000</td>\n",
       "      <td>36700.000000</td>\n",
       "    </tr>\n",
       "    <tr>\n",
       "      <th>25%</th>\n",
       "      <td>19500.000000</td>\n",
       "      <td>8600.000000</td>\n",
       "      <td>39800.000000</td>\n",
       "    </tr>\n",
       "    <tr>\n",
       "      <th>50%</th>\n",
       "      <td>25400.000000</td>\n",
       "      <td>12300.000000</td>\n",
       "      <td>41800.000000</td>\n",
       "    </tr>\n",
       "    <tr>\n",
       "      <th>75%</th>\n",
       "      <td>47200.000000</td>\n",
       "      <td>29700.000000</td>\n",
       "      <td>44500.000000</td>\n",
       "    </tr>\n",
       "    <tr>\n",
       "      <th>max</th>\n",
       "      <td>77400.000000</td>\n",
       "      <td>59400.000000</td>\n",
       "      <td>48300.000000</td>\n",
       "    </tr>\n",
       "  </tbody>\n",
       "</table>\n",
       "</div>"
      ],
      "text/plain": [
       "              Hares        Lynxes       Carrots\n",
       "count     21.000000     21.000000     21.000000\n",
       "mean   34080.952381  20166.666667  42400.000000\n",
       "std    21413.981859  16655.999920   3404.555771\n",
       "min     7600.000000   4000.000000  36700.000000\n",
       "25%    19500.000000   8600.000000  39800.000000\n",
       "50%    25400.000000  12300.000000  41800.000000\n",
       "75%    47200.000000  29700.000000  44500.000000\n",
       "max    77400.000000  59400.000000  48300.000000"
      ]
     },
     "execution_count": 12,
     "metadata": {},
     "output_type": "execute_result"
    }
   ],
   "source": [
    "# We use pandas to visualize the stats\n",
    "\n",
    "Population = pd.DataFrame(file[:,1:], year, ['Hares', 'Lynxes', 'Carrots'])\n",
    "Population.describe()"
   ]
  },
  {
   "cell_type": "code",
   "execution_count": 17,
   "metadata": {},
   "outputs": [
    {
     "name": "stdout",
     "output_type": "stream",
     "text": [
      "            Hares    Lynxes   Carrots\n",
      "Hares    1.000000  0.071892 -0.016604\n",
      "Lynxes   0.071892  1.000000 -0.680577\n",
      "Carrots -0.016604 -0.680577  1.000000\n"
     ]
    },
    {
     "data": {
      "image/png": "[encoded data removed]",
      "text/plain": [
       "<Figure size 432x288 with 1 Axes>"
      ]
     },
     "metadata": {
      "needs_background": "light"
     },
     "output_type": "display_data"
    }
   ],
   "source": [
    "# We can see the correlation data\n",
    "print(Population.corr())\n",
    "\n",
    "# Plot one of them\n",
    "Population.plot.scatter(x = 'Lynxes', y = 'Carrots')\n",
    "show()"
   ]
  },
  {
   "cell_type": "code",
   "execution_count": 18,
   "metadata": {},
   "outputs": [
    {
     "name": "stdout",
     "output_type": "stream",
     "text": [
      "1900.0    Carrots\n",
      "1901.0    Carrots\n",
      "1902.0      Hares\n",
      "1903.0      Hares\n",
      "1904.0     Lynxes\n",
      "1905.0     Lynxes\n",
      "1906.0    Carrots\n",
      "1907.0    Carrots\n",
      "1908.0    Carrots\n",
      "1909.0    Carrots\n",
      "1910.0    Carrots\n",
      "1911.0    Carrots\n",
      "1912.0      Hares\n",
      "1913.0      Hares\n",
      "1914.0      Hares\n",
      "1915.0     Lynxes\n",
      "1916.0    Carrots\n",
      "1917.0    Carrots\n",
      "1918.0    Carrots\n",
      "1919.0    Carrots\n",
      "1920.0    Carrots\n",
      "dtype: object\n"
     ]
    }
   ],
   "source": [
    "# We can see which species has the highest population each year\n",
    "Highest = Population.idxmax(axis = 1)\n",
    "print(Highest)"
   ]
  }
 ],
 "metadata": {
  "kernelspec": {
   "display_name": "Python 3",
   "language": "python",
   "name": "python3"
  },
  "language_info": {
   "codemirror_mode": {
    "name": "ipython",
    "version": 3
   },
   "file_extension": ".py",
   "mimetype": "text/x-python",
   "name": "python",
   "nbconvert_exporter": "python",
   "pygments_lexer": "ipython3",
   "version": "3.8.8"
  }
 },
 "nbformat": 4,
 "nbformat_minor": 2
}
