{
 "cells": [
  {
   "cell_type": "code",
   "execution_count": 49,
   "id": "dfb07b2c",
   "metadata": {},
   "outputs": [
    {
     "name": "stdout",
     "output_type": "stream",
     "text": [
      "Enter a value for x:1100101\n",
      "Enter the origin type (bin,dec,hex):dec\n",
      "Enter the destination type (bin,dec,hex):hex\n",
      "The output is: 10C945\n"
     ]
    }
   ],
   "source": [
    "#Q1:\n",
    "\n",
    "def Converter():\n",
    "    \n",
    "    x=input(\"Enter a value for x:\")  \n",
    "    origin_type=input(\"Enter the origin type (bin,dec,hex):\") #here we specify the type of converstion that we want\n",
    "    destination_type=input(\"Enter the destination type (bin,dec,hex):\") #...\n",
    "    \n",
    "    #We have total number of four conditions which are as below:\n",
    "\n",
    "    if origin_type==\"bin\" and destination_type==\"dec\":   #converting bin to dec\n",
    "        x_list=[int(x) for x in str(x)]\n",
    "        print(\"The output is:\", sum([((2**(len(x_list)-1-i)))*x_list[i] for i in range(len(x_list))]))\n",
    "        \n",
    "    elif origin_type==\"dec\" and destination_type==\"bin\":  #converting dec to bin \n",
    "        x=int(x)\n",
    "        temp, remain= x,0\n",
    "        x_dec=[]\n",
    "        while temp!=0:\n",
    "            remain= temp%2\n",
    "            temp= int(temp/2)\n",
    "            x_dec.append(str(remain))\n",
    "        x_dec.reverse()\n",
    "        print(\"The output is:\", int(\"\".join(x_dec)))\n",
    "    \n",
    "    elif origin_type==\"dec\" and destination_type==\"hex\":   #coverting dec to hex\n",
    "        hex_dict = {10:\"A\",11:\"B\",12:\"C\",13:\"D\", 14:\"E\",15: \"F\"}  #I made a dictionary for hex numebrs\n",
    "        x=int(x)\n",
    "        temp, remain= x,0\n",
    "        x_dec=[]\n",
    "        \n",
    "        while temp!=0:\n",
    "            remain= temp%16\n",
    "            temp= int(temp/16)\n",
    "            \n",
    "            if remain<10: x_dec.append(str(remain))\n",
    "            else: x_dec.append(hex_dict.get(remain))\n",
    "        x_dec.reverse()\n",
    "        print(\"The output is:\", \"\".join(x_dec))\n",
    "        \n",
    "    elif origin_type==\"hex\" and destination_type==\"dec\":  #converting hex to dec\n",
    "        \n",
    "        hex_to_dec= {'1':1,'2':2,'3':3,'4':4,'5':5,'6':6,'7':7,'8':8,'9':9,'A':10,'B':11,'C':12,'D':13,'E':14,'F':15}\n",
    "        x_list=[str(x) for x in x]\n",
    "        print(\"The output is:\",sum([((16**(len(x_list)-1-i)))*(hex_to_dec.get(x_list[i])) for i in range(len(x_list))])) \n",
    "    \n",
    "    \n",
    "Converter()"
   ]
  },
  {
   "cell_type": "code",
   "execution_count": 50,
   "id": "fbc023c0",
   "metadata": {},
   "outputs": [
    {
     "name": "stdout",
     "output_type": "stream",
     "text": [
      "Please enter a 32 digit binary number:00000011111000000000000000000000\n",
      "The number is: 1.316553672920962e-36\n"
     ]
    }
   ],
   "source": [
    "#Q2\n",
    "\n",
    "def converter():\n",
    "    x=input(\"Please enter a 32 digit binary number:\") \n",
    "    #You can copy from here or enter an arbitrary 32 bits number\n",
    "    #00000011111000000000000000000000\n",
    "    bits= [int(x) for x in list(x)]       \n",
    "\n",
    "    #We dedicate the first bit to the sign, the secnod 8 bits to the exponent, and the remaining ones to the mantissa\n",
    "    sign=[+1 if bits[0]==0 else -1]      #list for sign\n",
    "    exponent = bits[1:9]                 #list for exponent  \n",
    "    mantissa= bits[9:]                   #list for mantissa \n",
    "\n",
    "    ex=sum([((2**(len(exponent)-1-i)))*exponent[i] for i in range(len(exponent))])  #value for exponent\n",
    "    mant= 1+ sum([mantissa[i]*(2**(-i-1)) for i in range(len(mantissa))])           #value for mantissa\n",
    "    Number= sign[0] * (2**(ex-127)) * mant      #our final number\n",
    " \n",
    "    print(\"The number is:\", Number)\n",
    "\n",
    "converter()    \n",
    "    "
   ]
  },
  {
   "cell_type": "code",
   "execution_count": 14,
   "id": "f4d61641",
   "metadata": {},
   "outputs": [
    {
     "ename": "SyntaxError",
     "evalue": "invalid syntax (<ipython-input-14-6cac8d619f02>, line 14)",
     "output_type": "error",
     "traceback": [
      "\u001b[1;36m  File \u001b[1;32m\"<ipython-input-14-6cac8d619f02>\"\u001b[1;36m, line \u001b[1;32m14\u001b[0m\n\u001b[1;33m    while(x2=1):\u001b[0m\n\u001b[1;37m            ^\u001b[0m\n\u001b[1;31mSyntaxError\u001b[0m\u001b[1;31m:\u001b[0m invalid syntax\n"
     ]
    }
   ],
   "source": [
    "#Q3:\n",
    "\n",
    "import math \n",
    "\n",
    "x1,x2=1,1             #initial values for our variables\n",
    "\n",
    "while(x1!=0):\n",
    "    last_one=x1\n",
    "    x1=x1/2                                       #we divide our varibale by 2 until it reaches the limit\n",
    "print(\"The underflow Limit is:\", last_one)\n",
    "\n",
    "while(x2!=math.inf):\n",
    "    last_one=x2                                #we multiply our varibale by 2 until it reaches the limit\n",
    "    x2=x2*2\n",
    "print(\"The overflow Limit is:\",last_one)\n"
   ]
  },
  {
   "cell_type": "code",
   "execution_count": 51,
   "id": "5ec1c409",
   "metadata": {},
   "outputs": [
    {
     "name": "stdout",
     "output_type": "stream",
     "text": [
      "The Machine Precision is: 2.220446049250313e-16\n"
     ]
    }
   ],
   "source": [
    "#Q4:\n",
    "\n",
    "step=0.5\n",
    "x1,x2=1,2\n",
    "\n",
    "while(x1!=x2):                   #we start with x=1 and add (1/2)*n for n=1,2,3,... \n",
    "    last_one = x1                #consequently our variable approches x=2\n",
    "    x1=x1+step                   #and finally we reach a point in which machine cannot detect the differnce between x1 & x2\n",
    "    step=step/2\n",
    "\n",
    "print(\"The Machine Precision is:\", x2-last_one)"
   ]
  },
  {
   "cell_type": "code",
   "execution_count": 53,
   "id": "dc059432",
   "metadata": {},
   "outputs": [
    {
     "name": "stdout",
     "output_type": "stream",
     "text": [
      "The first answewr: (-9.999894245993346e-07, -999999.999999)\n",
      "The seocnd one: (-9.999894245993346e-07, -999999.9999990001)\n"
     ]
    }
   ],
   "source": [
    "#Q5:\n",
    "\n",
    "#5.a\n",
    "import numpy as np \n",
    "\n",
    "def Quadra_a(a,b,c):\n",
    "    x1= (-b + np.sqrt(b**2 - 4*a*c))/(2*a)\n",
    "    x2= (-b - np.sqrt(b**2 - 4*a*c))/(2*a)\n",
    "    return x1,x2\n",
    "\n",
    "print(\"The first answewr:\", Quadra_a(0.001, 1000, 0.001))\n",
    "\n",
    "#5.b\n",
    "def Quadra_b(a,b,c):\n",
    "    x1 = ((-b + np.sqrt(b**2 - 4*a*c)) * (-b - np.sqrt(b**2-4*a*c)))/((-b - np.sqrt(b**2 - 4*a*c))*(2*a))\n",
    "    x2 = ((-b - np.sqrt(b**2 - 4*a*c)) * (-b + np.sqrt(b**2-4*a*c)))/((-b + np.sqrt(b**2 - 4*a*c))*(2*a))\n",
    "    return x1,x2\n",
    "\n",
    "print(\"The seocnd one:\", Quadra_b(0.001, 1000, 0.001))\n",
    "\n",
    "#I think the problem happens beacuse -b approxiametly equals to -np.sqrt(...)"
   ]
  },
  {
   "cell_type": "code",
   "execution_count": 4,
   "id": "0d6216c6",
   "metadata": {},
   "outputs": [
    {
     "name": "stdout",
     "output_type": "stream",
     "text": [
      "The derivate using definition is:\n",
      " 1.0099999999999998\n",
      "The analytic derivative is:\n",
      " 1.0000000000000009\n",
      "\n",
      "The Accuracy for each delta graph:\n"
     ]
    },
    {
     "data": {
      "text/plain": [
       "Text(0, 0.5, 'Accuracy')"
      ]
     },
     "execution_count": 4,
     "metadata": {},
     "output_type": "execute_result"
    },
    {
     "data": {
      "image/png": "[encoded data removed]",
      "text/plain": [
       "<Figure size 432x288 with 1 Axes>"
      ]
     },
     "metadata": {
      "needs_background": "light"
     },
     "output_type": "display_data"
    }
   ],
   "source": [
    "#Q6:\n",
    "\n",
    "import numpy as np\n",
    "import matplotlib.pyplot as plt \n",
    "from scipy.misc import derivative\n",
    "\n",
    "\n",
    "def der(f,x,delta):    #defining a function according to our definition\n",
    "    return (f(x+delta) - f(x))/delta\n",
    "f= lambda x: x**2 - x\n",
    "\n",
    "print(\"The derivate using definition is:\\n\", der(f,1, 0.01))          #with derivate defintion\n",
    "print(\"The analytic derivative is:\\n\",derivative(f,1, 0.01))    # analytic solution\n",
    "\n",
    "#For the next part we should define the accuracy parameter:\n",
    "def accuracy(f,x,delta): \n",
    "    #we define the accuracy parameter assuming that the true value is the one from analytic method\n",
    "    #which is the 1-[differnce between analytic and calculated derivatives divided by the calculated derivative]\n",
    "    return (1-(np.abs((der(f,x,delta)- derivative(f,x,delta))/der(f,x,delta))))\n",
    "\n",
    "delta_list=[10**-4, 10**-6, 10**-8, 10**-10, 10**-12, 10**-14] \n",
    "acc_list= [accuracy(f,1,delta) for delta in delta_list]    #we calculate the accuracy for each value of delta\n",
    "\n",
    "print(\"\\nThe Accuracy for each delta graph:\")  \n",
    "plt.plot(delta_list, acc_list)       #finally we plot delta for each accuracy\n",
    "plt.xlabel('delta')\n",
    "plt.ylabel('Accuracy')\n",
    "\n",
    "#As we it can be seen, the accuracy decreases with increasing of delta"
   ]
  },
  {
   "cell_type": "code",
   "execution_count": 5,
   "id": "e3f7f3a8",
   "metadata": {},
   "outputs": [
    {
     "name": "stdout",
     "output_type": "stream",
     "text": [
      "Calculated value for N=100:\n",
      " 1.5691342555492493\n",
      "True value:\n",
      " 1.5707963267948966\n",
      "\n",
      "less than 1 second approxiamte corresponding n:\n",
      " 921000\n",
      "\n",
      "\n",
      "one minute gain corresponds to n:\n",
      " 35000000\n",
      "It takes 62.26023459434509 seconds for the calculations\n"
     ]
    }
   ],
   "source": [
    "#Q7:\n",
    "\n",
    "import time\n",
    "import numpy as np\n",
    "\n",
    "#7.a\n",
    "\n",
    "y= lambda x: np.sqrt(1-x**2)\n",
    "N=100\n",
    "h=2/N          #dx\n",
    "I=0            #initial value for the Integral\n",
    "x=-1           #starting point of the Integral\n",
    "    \n",
    "for i in range(N): \n",
    "    I+= h*y(x)\n",
    "    x+= h\n",
    "    \n",
    "print(\"Calculated value for N=100:\\n\",I)\n",
    "print(\"True value:\\n\", np.pi/2)\n",
    "\n",
    "# 7.b\n",
    "\n",
    "n=900000 #we strat from this point and add 1000 in each step to have a more precise estimation\n",
    "t=0      #our timer\n",
    "\n",
    "while(t<1):   #we go up to the point which exceeds one second\n",
    "    h=2/n\n",
    "    I=0\n",
    "    x=-1\n",
    "    start = time.time()\n",
    "    \n",
    "    for i in range(n): \n",
    "        I+= h*y(x)          #area of each rectangle\n",
    "        x+= 2/n\n",
    "        \n",
    "    end = time.time()\n",
    "    t=end - start\n",
    "    n+=1000                 #our step in increasing the number of rectangles\n",
    "\n",
    "print(\"\\nless than 1 second approxiamte corresponding n:\\n\",n)\n",
    "\n",
    "# Now we should see what's the gain when running for 1 min:\n",
    "\n",
    "start = time.time()\n",
    "y= lambda x: np.sqrt(np.abs(1-x**2))\n",
    "\n",
    "N=35000000   \n",
    "#This number is calculated through try and fail method, calculating in a analytic way takes to much time!\n",
    "#But we confirm the amount of time this number takes to be calculated:\n",
    "\n",
    "h=2/N\n",
    "I=0\n",
    "x=-1\n",
    "for i in range(N): \n",
    "    I+= h*y(x)\n",
    "    x+= h\n",
    "\n",
    "print(\"\\n\")\n",
    "end = time.time()\n",
    "\n",
    "print(\"one minute gain corresponds to n:\\n\",N)\n",
    "print(\"It takes {} seconds for the calculations\".format(end-start))"
   ]
  },
  {
   "cell_type": "code",
   "execution_count": null,
   "id": "d9f619a0",
   "metadata": {},
   "outputs": [],
   "source": []
  }
 ],
 "metadata": {
  "kernelspec": {
   "display_name": "Python 3",
   "language": "python",
   "name": "python3"
  },
  "language_info": {
   "codemirror_mode": {
    "name": "ipython",
    "version": 3
   },
   "file_extension": ".py",
   "mimetype": "text/x-python",
   "name": "python",
   "nbconvert_exporter": "python",
   "pygments_lexer": "ipython3",
   "version": "3.8.8"
  }
 },
 "nbformat": 4,
 "nbformat_minor": 5
}
