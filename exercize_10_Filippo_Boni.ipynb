{
 "cells": [
  {
   "cell_type": "code",
   "execution_count": 1,
   "id": "454cd328",
   "metadata": {},
   "outputs": [],
   "source": [
    "import numpy as np\n",
    "import pandas as pd\n",
    "from scipy import stats\n",
    "\n",
    "import matplotlib.pyplot as plt\n",
    "import seaborn as sns\n",
    "%matplotlib inline\n",
    "\n"
   ]
  },
  {
   "cell_type": "markdown",
   "id": "39e25e54",
   "metadata": {},
   "source": [
    "## exercize 1"
   ]
  },
  {
   "cell_type": "markdown",
   "id": "cb2ca93d",
   "metadata": {},
   "source": [
    "**Radioactive decay chain**\n",
    "\n",
    "${\\rm Tl}^{208}$ decays to ${\\rm Pb}^{208}$ with a half-lieve of 3.052 minutes. Suppose to start with a sample of 1000 Thallium atoms and 0 of Lead atoms.\n",
    "\n",
    "* Take steps in time of 1 second and at each time-step decide whether each Tl atom has decayed or not, accordingly to the probability $p(t)=1-2^{-t/\\tau}$. Subtract the total number of Tl atoms that decayed at each step from the Tl sample and add them to the Lead one. Plot the evolution of the two sets as a function of time  \n",
    "* Repeat the exercise by means of the inverse transform method: draw 1000 random numbers from the non-uniform probability distribution $p(t)=2^{-t/\\tau}\\frac{\\ln 2}{\\tau}$ to represent the times of decay of the 1000 Tl atoms. Make a plot showing the number of atoms that have not decayed as a function of time"
   ]
  },
  {
   "cell_type": "markdown",
   "id": "b11e3e1b",
   "metadata": {},
   "source": [
    "The alghoritm used is based on the fact that the probability for an atom to decay is equivalent to the percentage of a given number of atoms to decay. Considering the structure of the law that calculates the survived number of atoms, it is easy to see that the number of atoms decaied in certain time is $N_{0}\\cdot p(t)$ (where $N_{0}$ is the initial number of atoms and $p(t)$ is the probability to decay at a certain time $t$)"
   ]
  },
  {
   "cell_type": "code",
   "execution_count": 2,
   "id": "6362816b",
   "metadata": {},
   "outputs": [
    {
     "name": "stdout",
     "output_type": "stream",
     "text": [
      "for how many seconds do you want to run the simulation? 200\n",
      "[[  1   4 996   4]\n",
      " [  2   8 992   8]\n",
      " [  3  11 989  11]\n",
      " [  4  15 985  15]\n",
      " [  5  19 981  19]\n",
      " [  6  22 978  22]\n",
      " [  7  26 974  26]\n",
      " [  8  30 970  30]\n",
      " [  9  33 967  33]\n",
      " [ 10  37 963  37]\n",
      " [ 11  41 959  41]\n",
      " [ 12  44 956  44]\n",
      " [ 13  48 952  48]\n",
      " [ 14  52 948  52]\n",
      " [ 15  55 945  55]\n",
      " [ 16  59 941  59]\n",
      " [ 17  62 938  62]\n",
      " [ 18  66 934  66]\n",
      " [ 19  69 931  69]\n",
      " [ 20  73 927  73]\n",
      " [ 21  76 924  76]\n",
      " [ 22  80 920  80]\n",
      " [ 23  83 917  83]\n",
      " [ 24  87 913  87]\n",
      " [ 25  90 910  90]\n",
      " [ 26  94 906  94]\n",
      " [ 27  97 903  97]\n",
      " [ 28 101 899 101]\n",
      " [ 29 104 896 104]\n",
      " [ 30 107 893 107]\n",
      " [ 31 111 889 111]\n",
      " [ 32 114 886 114]\n",
      " [ 33 117 883 117]\n",
      " [ 34 121 879 121]\n",
      " [ 35 124 876 124]\n",
      " [ 36 127 873 127]\n",
      " [ 37 131 869 131]\n",
      " [ 38 134 866 134]\n",
      " [ 39 137 863 137]\n",
      " [ 40 141 859 141]\n",
      " [ 41 144 856 144]\n",
      " [ 42 147 853 147]\n",
      " [ 43 150 850 150]\n",
      " [ 44 153 847 153]\n",
      " [ 45 157 843 157]\n",
      " [ 46 160 840 160]\n",
      " [ 47 163 837 163]\n",
      " [ 48 166 834 166]\n",
      " [ 49 169 831 169]\n",
      " [ 50 172 828 172]\n",
      " [ 51 176 824 176]\n",
      " [ 52 179 821 179]\n",
      " [ 53 182 818 182]\n",
      " [ 54 185 815 185]\n",
      " [ 55 188 812 188]\n",
      " [ 56 191 809 191]\n",
      " [ 57 194 806 194]\n",
      " [ 58 197 803 197]\n",
      " [ 59 200 800 200]\n",
      " [ 60 203 797 203]\n",
      " [ 61 206 794 206]\n",
      " [ 62 209 791 209]\n",
      " [ 63 212 788 212]\n",
      " [ 64 215 785 215]\n",
      " [ 65 218 782 218]\n",
      " [ 66 221 779 221]\n",
      " [ 67 224 776 224]\n",
      " [ 68 227 773 227]\n",
      " [ 69 230 770 230]\n",
      " [ 70 233 767 233]\n",
      " [ 71 236 764 236]\n",
      " [ 72 239 761 239]\n",
      " [ 73 241 759 241]\n",
      " [ 74 244 756 244]\n",
      " [ 75 247 753 247]\n",
      " [ 76 250 750 250]\n",
      " [ 77 253 747 253]\n",
      " [ 78 256 744 256]\n",
      " [ 79 258 742 258]\n",
      " [ 80 261 739 261]\n",
      " [ 81 264 736 264]\n",
      " [ 82 267 733 267]\n",
      " [ 83 270 730 270]\n",
      " [ 84 272 728 272]\n",
      " [ 85 275 725 275]\n",
      " [ 86 278 722 278]\n",
      " [ 87 281 719 281]\n",
      " [ 88 283 717 283]\n",
      " [ 89 286 714 286]\n",
      " [ 90 289 711 289]\n",
      " [ 91 291 709 291]\n",
      " [ 92 294 706 294]\n",
      " [ 93 297 703 297]\n",
      " [ 94 299 701 299]\n",
      " [ 95 302 698 302]\n",
      " [ 96 305 695 305]\n",
      " [ 97 307 693 307]\n",
      " [ 98 310 690 310]\n",
      " [ 99 313 687 313]\n",
      " [100 315 685 315]\n",
      " [101 318 682 318]\n",
      " [102 320 680 320]\n",
      " [103 323 677 323]\n",
      " [104 325 675 325]\n",
      " [105 328 672 328]\n",
      " [106 331 669 331]\n",
      " [107 333 667 333]\n",
      " [108 336 664 336]\n",
      " [109 338 662 338]\n",
      " [110 341 659 341]\n",
      " [111 343 657 343]\n",
      " [112 346 654 346]\n",
      " [113 348 652 348]\n",
      " [114 350 650 350]\n",
      " [115 353 647 353]\n",
      " [116 355 645 355]\n",
      " [117 358 642 358]\n",
      " [118 360 640 360]\n",
      " [119 363 637 363]\n",
      " [120 365 635 365]\n",
      " [121 367 633 367]\n",
      " [122 370 630 370]\n",
      " [123 372 628 372]\n",
      " [124 375 625 375]\n",
      " [125 377 623 377]\n",
      " [126 379 621 379]\n",
      " [127 382 618 382]\n",
      " [128 384 616 384]\n",
      " [129 386 614 386]\n",
      " [130 389 611 389]\n",
      " [131 391 609 391]\n",
      " [132 393 607 393]\n",
      " [133 396 604 396]\n",
      " [134 398 602 398]\n",
      " [135 400 600 400]\n",
      " [136 402 598 402]\n",
      " [137 405 595 405]\n",
      " [138 407 593 407]\n",
      " [139 409 591 409]\n",
      " [140 411 589 411]\n",
      " [141 414 586 414]\n",
      " [142 416 584 416]\n",
      " [143 418 582 418]\n",
      " [144 420 580 420]\n",
      " [145 422 578 422]\n",
      " [146 425 575 425]\n",
      " [147 427 573 427]\n",
      " [148 429 571 429]\n",
      " [149 431 569 431]\n",
      " [150 433 567 433]\n",
      " [151 435 565 435]\n",
      " [152 437 563 437]\n",
      " [153 440 560 440]\n",
      " [154 442 558 442]\n",
      " [155 444 556 444]\n",
      " [156 446 554 446]\n",
      " [157 448 552 448]\n",
      " [158 450 550 450]\n",
      " [159 452 548 452]\n",
      " [160 454 546 454]\n",
      " [161 456 544 456]\n",
      " [162 458 542 458]\n",
      " [163 460 540 460]\n",
      " [164 462 538 462]\n",
      " [165 465 535 465]\n",
      " [166 467 533 467]\n",
      " [167 469 531 469]\n",
      " [168 471 529 471]\n",
      " [169 473 527 473]\n",
      " [170 475 525 475]\n",
      " [171 477 523 477]\n",
      " [172 479 521 479]\n",
      " [173 480 520 480]\n",
      " [174 482 518 482]\n",
      " [175 484 516 484]\n",
      " [176 486 514 486]\n",
      " [177 488 512 488]\n",
      " [178 490 510 490]\n",
      " [179 492 508 492]\n",
      " [180 494 506 494]\n",
      " [181 496 504 496]\n",
      " [182 498 502 498]\n",
      " [183 500 500 500]\n",
      " [184 502 498 502]\n",
      " [185 504 496 504]\n",
      " [186 505 495 505]\n",
      " [187 507 493 507]\n",
      " [188 509 491 509]\n",
      " [189 511 489 511]\n",
      " [190 513 487 513]\n",
      " [191 515 485 515]\n",
      " [192 517 483 517]\n",
      " [193 518 482 518]\n",
      " [194 520 480 520]\n",
      " [195 522 478 522]\n",
      " [196 524 476 524]\n",
      " [197 526 474 526]\n",
      " [198 527 473 527]\n",
      " [199 529 471 529]]\n"
     ]
    },
    {
     "data": {
      "image/png": "[encoded data removed]",
      "text/plain": [
       "<Figure size 432x288 with 1 Axes>"
      ]
     },
     "metadata": {
      "needs_background": "light"
     },
     "output_type": "display_data"
    }
   ],
   "source": [
    "N=input(f'for how many seconds do you want to run the simulation? ')\n",
    "#print(f'for how many seconds do yiu want to run the simulation:'+N)\n",
    "\n",
    "Tl=1000 #fix the initial number of Tl atoms\n",
    "Pb=0    #fix the initial number of Pb atoms\n",
    "tau=3.052*60 #defining the half-lieve\n",
    "\n",
    "t=np.arange(1,int(N)) #defining the t steps\n",
    "ev=[]\n",
    "\n",
    "def p(x): #defining the probability for an atom to decay\n",
    "    return (1-2**(-x/tau))\n",
    "\n",
    "\n",
    "for i in t: # applying the algorithm\n",
    "    prob=p(i)\n",
    "    delta=round(prob*1000) #rounding the number of atoms decaied\n",
    "    \n",
    "    Pb=delta #calculating the numbers of atoms for each species\n",
    "    Tl=1000-delta\n",
    "    \n",
    "    ev.append([i,delta,Tl,Pb]) #registering the evolution of the system putting the results in an array\n",
    "    \n",
    "    \n",
    "ev=np.asarray(ev)\n",
    "print(ev)\n",
    "#plotting the results\n",
    "plt.plot(ev[:,0],ev[:,2])\n",
    "plt.plot(ev[:,0],ev[:,3])\n",
    "plt.xlabel('time [s]', fontsize=15, labelpad=5)\n",
    "plt.ylabel('number of atoms', fontsize=15, labelpad=5)\n",
    "plt.title('Evolution of the number of atoms in time', fontsize=17, pad=15)\n",
    "plt.yticks(np.arange(0,1100,100), size=12)\n",
    "plt.xticks(np.arange(min(t)-1,max(t)+int(N)/10,int(N)/10), size=12)\n",
    "\n",
    "\n",
    "\n",
    "if int(N)>=183: plt.axvline(tau, linestyle='--',color='green')\n",
    "if int(N)>=183: plt.legend(['Tl atoms','Pb atoms','half-lieve'])\n",
    "if int(N)<183: plt.legend(['Tl atoms','Pb atoms'])"
   ]
  },
  {
   "cell_type": "markdown",
   "id": "ee9dac9a",
   "metadata": {},
   "source": [
    "Another possible method is to generate random number ($y$) from a uniform distribution and compare it to $p(t)$. This must be done for each atom and if $y$ is smaller or equal to $p(t)$ the atom is considered decaied."
   ]
  },
  {
   "cell_type": "code",
   "execution_count": 3,
   "id": "f1e17c80",
   "metadata": {},
   "outputs": [
    {
     "name": "stdout",
     "output_type": "stream",
     "text": [
      "[[  1   2 998   2]\n",
      " [  2  11 989  11]\n",
      " [  3  13 987  13]\n",
      " [  4   9 991   9]\n",
      " [  5  22 978  22]\n",
      " [  6  26 974  26]\n",
      " [  7  23 977  23]\n",
      " [  8  28 972  28]\n",
      " [  9  31 969  31]\n",
      " [ 10  39 961  39]\n",
      " [ 11  41 959  41]\n",
      " [ 12  48 952  48]\n",
      " [ 13  50 950  50]\n",
      " [ 14  48 952  48]\n",
      " [ 15  57 943  57]\n",
      " [ 16  57 943  57]\n",
      " [ 17  56 944  56]\n",
      " [ 18  67 933  67]\n",
      " [ 19  77 923  77]\n",
      " [ 20  71 929  71]\n",
      " [ 21  72 928  72]\n",
      " [ 22  78 922  78]\n",
      " [ 23  88 912  88]\n",
      " [ 24  88 912  88]\n",
      " [ 25  98 902  98]\n",
      " [ 26 116 884 116]\n",
      " [ 27  92 908  92]\n",
      " [ 28  95 905  95]\n",
      " [ 29 109 891 109]\n",
      " [ 30  98 902  98]\n",
      " [ 31 131 869 131]\n",
      " [ 32 118 882 118]\n",
      " [ 33 121 879 121]\n",
      " [ 34 120 880 120]\n",
      " [ 35 104 896 104]\n",
      " [ 36 119 881 119]\n",
      " [ 37 126 874 126]\n",
      " [ 38 142 858 142]\n",
      " [ 39 144 856 144]\n",
      " [ 40 141 859 141]\n",
      " [ 41 150 850 150]\n",
      " [ 42 151 849 151]\n",
      " [ 43 157 843 157]\n",
      " [ 44 140 860 140]\n",
      " [ 45 160 840 160]\n",
      " [ 46 169 831 169]\n",
      " [ 47 161 839 161]\n",
      " [ 48 153 847 153]\n",
      " [ 49 179 821 179]\n",
      " [ 50 141 859 141]\n",
      " [ 51 204 796 204]\n",
      " [ 52 195 805 195]\n",
      " [ 53 210 790 210]\n",
      " [ 54 183 817 183]\n",
      " [ 55 194 806 194]\n",
      " [ 56 228 772 228]\n",
      " [ 57 176 824 176]\n",
      " [ 58 198 802 198]\n",
      " [ 59 199 801 199]\n",
      " [ 60 206 794 206]\n",
      " [ 61 196 804 196]\n",
      " [ 62 220 780 220]\n",
      " [ 63 203 797 203]\n",
      " [ 64 214 786 214]\n",
      " [ 65 206 794 206]\n",
      " [ 66 230 770 230]\n",
      " [ 67 217 783 217]\n",
      " [ 68 239 761 239]\n",
      " [ 69 233 767 233]\n",
      " [ 70 252 748 252]\n",
      " [ 71 222 778 222]\n",
      " [ 72 260 740 260]\n",
      " [ 73 267 733 267]\n",
      " [ 74 256 744 256]\n",
      " [ 75 231 769 231]\n",
      " [ 76 246 754 246]\n",
      " [ 77 247 753 247]\n",
      " [ 78 271 729 271]\n",
      " [ 79 269 731 269]\n",
      " [ 80 303 697 303]\n",
      " [ 81 260 740 260]\n",
      " [ 82 258 742 258]\n",
      " [ 83 252 748 252]\n",
      " [ 84 279 721 279]\n",
      " [ 85 315 685 315]\n",
      " [ 86 301 699 301]\n",
      " [ 87 298 702 298]\n",
      " [ 88 312 688 312]\n",
      " [ 89 283 717 283]\n",
      " [ 90 301 699 301]\n",
      " [ 91 297 703 297]\n",
      " [ 92 298 702 298]\n",
      " [ 93 294 706 294]\n",
      " [ 94 284 716 284]\n",
      " [ 95 289 711 289]\n",
      " [ 96 309 691 309]\n",
      " [ 97 310 690 310]\n",
      " [ 98 306 694 306]\n",
      " [ 99 321 679 321]\n",
      " [100 339 661 339]\n",
      " [101 311 689 311]\n",
      " [102 299 701 299]\n",
      " [103 312 688 312]\n",
      " [104 318 682 318]\n",
      " [105 321 679 321]\n",
      " [106 326 674 326]\n",
      " [107 320 680 320]\n",
      " [108 321 679 321]\n",
      " [109 356 644 356]\n",
      " [110 329 671 329]\n",
      " [111 350 650 350]\n",
      " [112 346 654 346]\n",
      " [113 372 628 372]\n",
      " [114 367 633 367]\n",
      " [115 319 681 319]\n",
      " [116 345 655 345]\n",
      " [117 378 622 378]\n",
      " [118 368 632 368]\n",
      " [119 365 635 365]\n",
      " [120 368 632 368]\n",
      " [121 371 629 371]\n",
      " [122 351 649 351]\n",
      " [123 335 665 335]\n",
      " [124 379 621 379]\n",
      " [125 373 627 373]\n",
      " [126 384 616 384]\n",
      " [127 388 612 388]\n",
      " [128 382 618 382]\n",
      " [129 372 628 372]\n",
      " [130 397 603 397]\n",
      " [131 394 606 394]\n",
      " [132 386 614 386]\n",
      " [133 394 606 394]\n",
      " [134 374 626 374]\n",
      " [135 410 590 410]\n",
      " [136 394 606 394]\n",
      " [137 427 573 427]\n",
      " [138 412 588 412]\n",
      " [139 414 586 414]\n",
      " [140 400 600 400]\n",
      " [141 413 587 413]\n",
      " [142 400 600 400]\n",
      " [143 417 583 417]\n",
      " [144 420 580 420]\n",
      " [145 449 551 449]\n",
      " [146 448 552 448]\n",
      " [147 409 591 409]\n",
      " [148 398 602 398]\n",
      " [149 438 562 438]\n",
      " [150 411 589 411]\n",
      " [151 445 555 445]\n",
      " [152 432 568 432]\n",
      " [153 442 558 442]\n",
      " [154 446 554 446]\n",
      " [155 441 559 441]\n",
      " [156 417 583 417]\n",
      " [157 454 546 454]\n",
      " [158 472 528 472]\n",
      " [159 462 538 462]\n",
      " [160 436 564 436]\n",
      " [161 422 578 422]\n",
      " [162 435 565 435]\n",
      " [163 468 532 468]\n",
      " [164 468 532 468]\n",
      " [165 460 540 460]\n",
      " [166 450 550 450]\n",
      " [167 478 522 478]\n",
      " [168 473 527 473]\n",
      " [169 492 508 492]\n",
      " [170 439 561 439]\n",
      " [171 455 545 455]\n",
      " [172 499 501 499]\n",
      " [173 487 513 487]\n",
      " [174 475 525 475]\n",
      " [175 493 507 493]\n",
      " [176 496 504 496]\n",
      " [177 503 497 503]\n",
      " [178 494 506 494]\n",
      " [179 490 510 490]\n",
      " [180 458 542 458]\n",
      " [181 505 495 505]\n",
      " [182 512 488 512]\n",
      " [183 497 503 497]\n",
      " [184 505 495 505]\n",
      " [185 515 485 515]\n",
      " [186 486 514 486]\n",
      " [187 532 468 532]\n",
      " [188 498 502 498]\n",
      " [189 522 478 522]\n",
      " [190 534 466 534]\n",
      " [191 500 500 500]\n",
      " [192 518 482 518]\n",
      " [193 511 489 511]\n",
      " [194 519 481 519]\n",
      " [195 537 463 537]\n",
      " [196 528 472 528]\n",
      " [197 545 455 545]\n",
      " [198 516 484 516]\n",
      " [199 526 474 526]]\n"
     ]
    },
    {
     "data": {
      "image/png": "[encoded data removed]",
      "text/plain": [
       "<Figure size 432x288 with 1 Axes>"
      ]
     },
     "metadata": {
      "needs_background": "light"
     },
     "output_type": "display_data"
    }
   ],
   "source": [
    "ev=[]\n",
    "Tl=1000\n",
    "Pb=0\n",
    "\n",
    "for i in t: #applying the algorithm\n",
    "    delta=0\n",
    "    \n",
    "    for j in range (0,1000):\n",
    "        \n",
    "        y=np.random.random() #generating a random uniformally distributed number\n",
    "        if y<=p(i):   #compare it with the probability at the fixe\n",
    "            delta=delta+1\n",
    "    \n",
    "    Tl=1000-delta\n",
    "    Pb=delta\n",
    "    ev.append([i,delta,Tl,Pb])\n",
    "    \n",
    "ev=np.asarray(ev)\n",
    "print(ev)\n",
    "plt.plot(ev[:,0],ev[:,2])\n",
    "plt.plot(ev[:,0],ev[:,3])\n",
    "if int(N)>=183: plt.axvline(tau, linestyle='--',color='green')"
   ]
  },
  {
   "cell_type": "code",
   "execution_count": 4,
   "id": "9405befa",
   "metadata": {},
   "outputs": [],
   "source": [
    "def inverse_cdf(z): #defining the inverse of cdf\n",
    "    k=(np.log(2)/(tau**2))\n",
    "    \n",
    "    return np.log2(1/(1-k*z*np.log(2)))/k"
   ]
  },
  {
   "cell_type": "code",
   "execution_count": 5,
   "id": "d4849ed5",
   "metadata": {},
   "outputs": [],
   "source": [
    "x=np.random.randint(1,N,1000)#creating 1000 numbers uniformally distributed \n",
    "\n",
    "t=inverse_cdf(x) #generating the time array using the inverse transform method"
   ]
  },
  {
   "cell_type": "code",
   "execution_count": 6,
   "id": "ac6354de",
   "metadata": {},
   "outputs": [],
   "source": [
    "t=np.sort(t) #ordering the time array from the smallest to the largest "
   ]
  },
  {
   "cell_type": "code",
   "execution_count": 7,
   "id": "b5ece85a",
   "metadata": {},
   "outputs": [],
   "source": [
    "Tl=1000*(2**(-t/tau)) #calculating the evolution of the number of atoms of the two species\n",
    "Pb=1000-Tl"
   ]
  },
  {
   "cell_type": "code",
   "execution_count": 8,
   "id": "a16662b3",
   "metadata": {},
   "outputs": [
    {
     "data": {
      "image/png": "[encoded data removed]",
      "text/plain": [
       "<Figure size 432x288 with 1 Axes>"
      ]
     },
     "metadata": {
      "needs_background": "light"
     },
     "output_type": "display_data"
    }
   ],
   "source": [
    "#plotting the result\n",
    "plt.plot(t,Tl)\n",
    "plt.plot(t,Pb)\n",
    "plt.xlabel('time [s]', fontsize=15, labelpad=5)\n",
    "plt.ylabel('number of atoms', fontsize=15, labelpad=5)\n",
    "plt.title('Evolution of the number of atoms in time', fontsize=17, pad=15)\n",
    "plt.yticks(np.arange(0,1100,100), size=12)\n",
    "plt.xticks(np.arange(min(t)-1,max(t)+int(N)/10,int(N)/10), size=12)\n",
    "\n",
    "if int(N)>=183: plt.axvline(tau, linestyle='--',color='green')\n",
    "if int(N)>=183: plt.legend(['Tl atoms','Pb atoms','half-lieve'])\n",
    "if int(N)<183: plt.legend(['Tl atoms','Pb atoms'])"
   ]
  },
  {
   "cell_type": "markdown",
   "id": "3a336a4c",
   "metadata": {},
   "source": [
    "## exercize 2"
   ]
  },
  {
   "cell_type": "markdown",
   "id": "27f3cbc6",
   "metadata": {},
   "source": [
    "**Rutherford Scattering**\n",
    "\n",
    "The scattering angle $\\theta$ of $\\alpha$ particles hitting a positively charged nucleus of a Gold atom ($Z=79$) follows the rule:\n",
    "\n",
    "$$\n",
    "\\tan{\\frac{1}{2} \\theta} = \\frac{Z e^2} {2\\pi \\epsilon_0 E b}\n",
    "$$\n",
    "\n",
    "where $E=7.7$ MeV and $b$ beam is the impact parameter. The beam is represented by a 2D gaussian distribution with $\\sigma=a_0/100$ for both coordinates ($a_0$ being the Bohr radius). Assume 1 million $\\alpha$ particles are shot on the gold atom.\n",
    "\n",
    "Computing the fraction of particles that \"bounce back\",i.e. those particle whose scattering angle is greater than $\\pi/2$ (which set a condition on the impact parameter $b$)"
   ]
  },
  {
   "cell_type": "code",
   "execution_count": 9,
   "id": "b91b7567",
   "metadata": {},
   "outputs": [],
   "source": [
    "def teta(b,Z=79, e= -1.602176634*(10**(-19)) , E=7.7, eps=8.854*(10**(-12))): #defining the function to calculate the scattering angle\n",
    "    E=E*(10**(6))*(1.602176565*(10**(-19)))\n",
    "    \n",
    "    return 2*np.arctan((Z*e*e)/(2*np.pi*eps*E*b))\n",
    "   "
   ]
  },
  {
   "cell_type": "code",
   "execution_count": 10,
   "id": "11c5dfc9",
   "metadata": {},
   "outputs": [],
   "source": [
    "n=10**6 #number of particles\n",
    "a=5.29*(10**(-11)) #Bohr radius \n",
    "sigma_sq=(a/100)**2 #square of the sigma\n",
    "\n",
    "z=np.random.random(n) #generating n uniformally distributed random numbers\n",
    "r_squared=-2*sigma_sq*np.log(z) #calculating the radius from the Box-Muller method \n",
    "angles= 2*np.pi*np.random.random(n)"
   ]
  },
  {
   "cell_type": "code",
   "execution_count": 11,
   "id": "10e016e9",
   "metadata": {},
   "outputs": [
    {
     "name": "stdout",
     "output_type": "stream",
     "text": [
      "[4.60876351e-13 5.43970786e-13 1.19918169e-12 ... 4.63334997e-13\n",
      " 6.74831961e-13 1.11867993e-12]\n"
     ]
    }
   ],
   "source": [
    "b=np.sqrt(r_squared) #generating the array of the impact parameter\n",
    "print(b)"
   ]
  },
  {
   "cell_type": "code",
   "execution_count": 12,
   "id": "5848c472",
   "metadata": {},
   "outputs": [
    {
     "data": {
      "image/png": "[encoded data removed]",
      "text/plain": [
       "<Figure size 432x432 with 3 Axes>"
      ]
     },
     "metadata": {
      "needs_background": "light"
     },
     "output_type": "display_data"
    }
   ],
   "source": [
    "#plotting b\n",
    "data=pd.DataFrame({'x':b*np.cos(angles), 'y':b*np.sin(angles)})\n",
    "g=sns.jointplot(data=data, x='x',y='y', kind=\"hist\", color='red', marginal_kws={'color': 'y', 'edgecolor':\"black\", 'linewidth':0.2})\n",
    "\n",
    "g.set_axis_labels(\"x coordinate of b\", \"y coordinate of b\", fontsize=16)\n",
    "g.ax_joint.tick_params(axis='x', labelsize=14)\n",
    "g.ax_joint.tick_params(axis='y', labelsize=14)"
   ]
  },
  {
   "cell_type": "code",
   "execution_count": 13,
   "id": "49c5f3fe",
   "metadata": {},
   "outputs": [],
   "source": [
    "ang=np.asarray(teta(b)) #calculating the angles for each b value"
   ]
  },
  {
   "cell_type": "code",
   "execution_count": 14,
   "id": "86f32592",
   "metadata": {},
   "outputs": [
    {
     "name": "stdout",
     "output_type": "stream",
     "text": [
      "the percentage of particles bouncing back is: 0.1635 %\n"
     ]
    }
   ],
   "source": [
    "print(f'the percentage of particles bouncing back is: {len(ang[ang>(np.pi/2)])*100/n} %') "
   ]
  },
  {
   "cell_type": "markdown",
   "id": "b72845c4",
   "metadata": {},
   "source": [
    "## exercize 3 "
   ]
  },
  {
   "cell_type": "markdown",
   "id": "002a0976",
   "metadata": {},
   "source": [
    "**Monte Carlo integration: hit/miss vs mean value method**\n",
    "\n",
    "Consider the function \n",
    "\n",
    "$$f(x) =\\sin^2{\\frac{1}{x(2-x)}}$$\n",
    "\n",
    "* Compute the integral of $f(x)$ between 0 and 2 with the hit/miss method. Evaluate the error of your estimate\n",
    "* Repeat the integral with the mean value method. Evaluate the error and compare it with the previous one"
   ]
  },
  {
   "cell_type": "code",
   "execution_count": 15,
   "id": "d59fcc99",
   "metadata": {},
   "outputs": [],
   "source": [
    "def f(x): #defining the needed function\n",
    "    return (np.sin(1/(x*(2-x))))**2 "
   ]
  },
  {
   "cell_type": "code",
   "execution_count": 16,
   "id": "109fefc5",
   "metadata": {},
   "outputs": [
    {
     "data": {
      "text/plain": [
       "(array([-0.25,  0.  ,  0.25,  0.5 ,  0.75,  1.  ,  1.25,  1.5 ,  1.75,\n",
       "         2.  ,  2.25]),\n",
       " [Text(0, 0, ''),\n",
       "  Text(0, 0, ''),\n",
       "  Text(0, 0, ''),\n",
       "  Text(0, 0, ''),\n",
       "  Text(0, 0, ''),\n",
       "  Text(0, 0, ''),\n",
       "  Text(0, 0, ''),\n",
       "  Text(0, 0, ''),\n",
       "  Text(0, 0, ''),\n",
       "  Text(0, 0, ''),\n",
       "  Text(0, 0, '')])"
      ]
     },
     "execution_count": 16,
     "metadata": {},
     "output_type": "execute_result"
    },
    {
     "data": {
      "image/png": "[encoded data removed]",
      "text/plain": [
       "<Figure size 432x288 with 1 Axes>"
      ]
     },
     "metadata": {
      "needs_background": "light"
     },
     "output_type": "display_data"
    }
   ],
   "source": [
    "x=np.linspace(0.001,1.999,1000)  \n",
    "plt.plot(x,f(x),'r-')\n",
    "plt.xlabel('x', fontsize=15, labelpad=5)\n",
    "plt.ylabel('f(x)', fontsize=15, labelpad=5)\n",
    "plt.yticks(np.arange(0,1.1,0.1), size=12)\n",
    "plt.xticks(size=12)"
   ]
  },
  {
   "cell_type": "code",
   "execution_count": 17,
   "id": "7d1049de",
   "metadata": {},
   "outputs": [],
   "source": [
    "N=100000\n",
    "count=0 \n",
    "\n",
    "#calculating the integral with the hit and miss method\n",
    "for i in range(N):\n",
    "    x=2*np.random.random() #generating the needed x array\n",
    "    y=np.random.random()\n",
    "    if y<f(x): count+=1\n",
    "        \n",
    "I=2*count/N #calculating the integral  "
   ]
  },
  {
   "cell_type": "markdown",
   "id": "c44d007b",
   "metadata": {},
   "source": [
    "the error is computed using binomial variance equal to $n\\cdot p\\cdot q$. In this case $n=N$, $p=count/N$, $q=1-p$. This is the variance of the variable count.\n",
    "In order to calculate the error on the integral I need to permorm the propagation of errors."
   ]
  },
  {
   "cell_type": "code",
   "execution_count": 18,
   "id": "c707a1d1",
   "metadata": {},
   "outputs": [
    {
     "name": "stdout",
     "output_type": "stream",
     "text": [
      "the integral calculated with the hit and miss method is 1.4546 +- 0.0028166271318724465\n"
     ]
    }
   ],
   "source": [
    "# the error is computed using binomial variance=n*p*q in this case n=N, p=count/N, q=1-p \n",
    "# this is the variance of the variable count\n",
    "# in order to calculate the error on the integral I need to permorm the propagation of errors\n",
    "\n",
    "p=count/N\n",
    "q=1-p\n",
    "\n",
    "err_hm=(2/N)*np.sqrt(N*p*q) #calcolo dell'errore\n",
    "print(f'the integral calculated with the hit and miss method is {I} +- {err_hm}')\n"
   ]
  },
  {
   "cell_type": "code",
   "execution_count": 19,
   "id": "891e9b6f",
   "metadata": {},
   "outputs": [
    {
     "name": "stdout",
     "output_type": "stream",
     "text": [
      " the integral calculated with the mean value method: 1.451749788011742+-0.0016618235089822192\n"
     ]
    }
   ],
   "source": [
    "#calculating the integral with the mean value method\n",
    "\n",
    "x=2*np.random.random(N) #generating the x array and calculating the corresponding value of f(x)\n",
    "F=f(x) \n",
    "\n",
    "I=2*np.sum(F)/N #calculating the integral \n",
    "\n",
    "varf=np.sum(F*F)/N-(I/2)**2 #calculating the variance of the function\n",
    "\n",
    "err_mv=2*np.sqrt(varf)/np.sqrt(N) #calculating the error\n",
    "\n",
    "print(f' the integral calculated with the mean value method: {I}+-{err_mv}') #"
   ]
  },
  {
   "cell_type": "markdown",
   "id": "5d54af24",
   "metadata": {},
   "source": [
    "The error on the integral is smaller in the mean value method (with N=100000)"
   ]
  },
  {
   "cell_type": "markdown",
   "id": "8907b2d7",
   "metadata": {},
   "source": [
    "## exercize 4"
   ]
  },
  {
   "cell_type": "markdown",
   "id": "2e4b6b7f",
   "metadata": {},
   "source": [
    "**Monte Carlo integration in high dimension**\n",
    "\n",
    "* Start of by computing the area of a circle of unit radius, by integrating the function \n",
    "\n",
    "$$\n",
    "f(x,y)=\n",
    "\\left\\{\n",
    "\\begin{array}{ll}\n",
    "      1 & x^2+y^2\\le 1 \\\\\n",
    "      0 & {\\rm elsewhere}\n",
    "\\end{array} \n",
    "\\right.\n",
    "$$\n",
    "\n",
    "* Generalize the result for a 10D sphere\n",
    "\n"
   ]
  },
  {
   "cell_type": "code",
   "execution_count": 20,
   "id": "d9de2a15",
   "metadata": {},
   "outputs": [],
   "source": [
    "def fun(x,y): #defining the function that will permit to find the points in the circle\n",
    "    \n",
    "    if x**2+y**2<=1:\n",
    "        r=1\n",
    "    else:\n",
    "        r=0\n",
    "    \n",
    "    return r"
   ]
  },
  {
   "cell_type": "code",
   "execution_count": 21,
   "id": "e6e325a5",
   "metadata": {},
   "outputs": [
    {
     "name": "stdout",
     "output_type": "stream",
     "text": [
      "how many points do you want to generate? (more they are more precise the integral will be) 100000\n"
     ]
    }
   ],
   "source": [
    "N=int(input(f'how many points do you want to generate? (more they are more precise the integral will be) ') )\n",
    "\n",
    "x=np.random.uniform(-1,1,N) #generating the needed uniformly distributed random numbers in the proper range\n",
    "y=np.random.uniform(-1,1,N)\n"
   ]
  },
  {
   "cell_type": "code",
   "execution_count": 22,
   "id": "9e771d2f",
   "metadata": {},
   "outputs": [
    {
     "name": "stdout",
     "output_type": "stream",
     "text": [
      "the integral is: 3.1408 +- 0.005194781381348015\n"
     ]
    }
   ],
   "source": [
    "F=np.asarray([fun(x[i],y[i]) for i in range(0,len(x))]) #applying the function to the generated point and generating an array with the results \n",
    "\n",
    "I=4*np.sum(F)/N\n",
    "varf=np.sum(F*F)/N-(I/4)**2\n",
    "err=4*np.sqrt(varf)/np.sqrt(N)\n",
    "\n",
    "print(f'the integral is: {I} +- {err}')"
   ]
  },
  {
   "cell_type": "code",
   "execution_count": 23,
   "id": "82a93f68",
   "metadata": {},
   "outputs": [],
   "source": [
    "#repeating the process for 10 D sphere\n",
    "\n",
    "def gun(a,b,c,d,e,f,g,h,k,l):\n",
    "    \n",
    "    if a**2+b**2+c**2+d**2+e**2+f**2+g**2+h**2+k**2+l**2<=1:\n",
    "        r=1\n",
    "    else:\n",
    "        r=0\n",
    "    \n",
    "    return r"
   ]
  },
  {
   "cell_type": "code",
   "execution_count": 24,
   "id": "405950c4",
   "metadata": {},
   "outputs": [],
   "source": [
    "a=np.random.uniform(-1,1,N)\n",
    "b=np.random.uniform(-1,1,N)\n",
    "c=np.random.uniform(-1,1,N)\n",
    "d=np.random.uniform(-1,1,N)\n",
    "e=np.random.uniform(-1,1,N)\n",
    "f=np.random.uniform(-1,1,N)\n",
    "g=np.random.uniform(-1,1,N)\n",
    "h=np.random.uniform(-1,1,N)\n",
    "k=np.random.uniform(-1,1,N)\n",
    "l=np.random.uniform(-1,1,N)"
   ]
  },
  {
   "cell_type": "code",
   "execution_count": 25,
   "id": "b5b479f3",
   "metadata": {},
   "outputs": [
    {
     "name": "stdout",
     "output_type": "stream",
     "text": [
      "the integral is: 2.49856 +- 0.15975865040511575\n"
     ]
    }
   ],
   "source": [
    "\n",
    "F=np.asarray([gun(a[i],b[i],c[i],d[i],e[i],f[i],g[i],h[i],k[i],l[i]) for i in range(0,len(a))])\n",
    "\n",
    "I=(2**10)*np.sum(F)/N\n",
    "varf=np.sum(F*F)/N-(I/(2**10))**2\n",
    "err=(2**10)*np.sqrt(varf)/np.sqrt(N)\n",
    "\n",
    "print(f'the integral is: {I} +- {err}')"
   ]
  },
  {
   "cell_type": "markdown",
   "id": "f8a85f06",
   "metadata": {},
   "source": [
    "## exercize 5"
   ]
  },
  {
   "cell_type": "markdown",
   "id": "ded85ff1",
   "metadata": {},
   "source": [
    "**Monte Carlo integration with importance sampling** \n",
    "\n",
    "Calculate the value of the integral:\n",
    "\n",
    "$$\n",
    "I=\\int_0^1 \\frac{x^{-1/2}}{e^x+1} dx\n",
    "$$\n",
    "\n",
    "using the importance sampling method with $w(x)=1/\\sqrt{x}$. You should get a result about 0.84"
   ]
  },
  {
   "cell_type": "code",
   "execution_count": 26,
   "id": "07bfe701",
   "metadata": {},
   "outputs": [],
   "source": [
    "%precision 10 \n",
    "\n",
    "def hun(arg):\n",
    "    e=np.exp(arg)\n",
    "    rad=np.sqrt(arg)\n",
    "    \n",
    "    return 1/(rad*(e+1))"
   ]
  },
  {
   "cell_type": "markdown",
   "id": "fb269823",
   "metadata": {},
   "source": [
    "The importance sampling method requires to use a weighting function $w(x)$. The randomly generated variables used to calculate the integral should follow a pdf equal to $w(x)$. In order to define it as a pdf it must be normalized. The integral of $w(x)=\\frac{1}{\\sqrt{x}}$ is: \n",
    "\n",
    "$$\\int_0^1 w(x) \\, dx = 2 $$\n",
    "\n",
    "So the weighting function becomes $w(x)=\\frac{1}{2\\sqrt{x}}$. It's obvious that the integral of $w(x)$ in the final formula is $1$."
   ]
  },
  {
   "cell_type": "code",
   "execution_count": 27,
   "id": "fc96cb1b",
   "metadata": {},
   "outputs": [],
   "source": [
    "def w(arg): #defining the weighting function\n",
    "    rad=np.sqrt(arg)\n",
    "    return 1/(2*rad)"
   ]
  },
  {
   "cell_type": "code",
   "execution_count": 28,
   "id": "03c267bf",
   "metadata": {},
   "outputs": [],
   "source": [
    "def inverse_cdf_w(arg): #defining the needed function to generate random numbers with the inverse trasformation method\n",
    "    \n",
    "    return (arg**2)"
   ]
  },
  {
   "cell_type": "code",
   "execution_count": 29,
   "id": "6c630f07",
   "metadata": {},
   "outputs": [
    {
     "name": "stdout",
     "output_type": "stream",
     "text": [
      "how many points do you want to generate? (more they are more precise the integral will be) 100000\n"
     ]
    }
   ],
   "source": [
    "N=int(input(f'how many points do you want to generate? (more they are more precise the integral will be) ') )\n",
    "x=np.random.uniform(0,1,N) #generating the required uniformally distributed numbers "
   ]
  },
  {
   "cell_type": "code",
   "execution_count": 30,
   "id": "6bc22b11",
   "metadata": {},
   "outputs": [],
   "source": [
    "t=inverse_cdf_w(x) #generating random numbers that follows the pdf"
   ]
  },
  {
   "cell_type": "code",
   "execution_count": 31,
   "id": "408a60c2",
   "metadata": {},
   "outputs": [
    {
     "name": "stdout",
     "output_type": "stream",
     "text": [
      "the integral calculated with the importance sampling method is: 0.8396460722078397\n"
     ]
    }
   ],
   "source": [
    "I=(1/N)*np.sum(hun(t)/w(t)) #calculting the integral\n",
    "\n",
    "print(f'the integral calculated with the importance sampling method is: {I}')"
   ]
  }
 ],
 "metadata": {
  "kernelspec": {
   "display_name": "Python 3",
   "language": "python",
   "name": "python3"
  },
  "language_info": {
   "codemirror_mode": {
    "name": "ipython",
    "version": 3
   },
   "file_extension": ".py",
   "mimetype": "text/x-python",
   "name": "python",
   "nbconvert_exporter": "python",
   "pygments_lexer": "ipython3",
   "version": "3.8.8"
  }
 },
 "nbformat": 4,
 "nbformat_minor": 5
}
