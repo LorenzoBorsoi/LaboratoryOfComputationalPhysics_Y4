{
 "cells": [
  {
   "cell_type": "code",
   "execution_count": 2,
   "id": "7b5d480c",
   "metadata": {},
   "outputs": [],
   "source": [
    "import numpy as np "
   ]
  },
  {
   "cell_type": "markdown",
   "id": "3f4aa93d",
   "metadata": {},
   "source": [
    "## exercise 1\n",
    "Find the row, column and overall means for the following matrix:"
   ]
  },
  {
   "cell_type": "code",
   "execution_count": 3,
   "id": "79f4f528",
   "metadata": {},
   "outputs": [],
   "source": [
    "m = np.arange(12).reshape((3,4)) "
   ]
  },
  {
   "cell_type": "code",
   "execution_count": 4,
   "id": "763ea5b5",
   "metadata": {},
   "outputs": [
    {
     "name": "stdout",
     "output_type": "stream",
     "text": [
      "[[ 0  1  2  3]\n",
      " [ 4  5  6  7]\n",
      " [ 8  9 10 11]]\n",
      "mean along the coloumns: [4. 5. 6. 7.]\n",
      "mean along the rows: [1.5 5.5 9.5]\n",
      "mean: 5.5\n"
     ]
    }
   ],
   "source": [
    "print(m)\n",
    "print(\"mean along the coloumns:\", m.mean(axis=0))  \n",
    "print(\"mean along the rows:\", m.mean(axis=1))\n",
    "print(\"mean:\", m.mean())"
   ]
  },
  {
   "cell_type": "markdown",
   "id": "4509f67c",
   "metadata": {},
   "source": [
    "## exercise 2\n",
    " Find the outer product of the following two vecotrs"
   ]
  },
  {
   "cell_type": "code",
   "execution_count": 6,
   "id": "49a44300",
   "metadata": {},
   "outputs": [],
   "source": [
    "u = np.array([1,3,5,7])\n",
    "v = np.array([2,4,6,8])"
   ]
  },
  {
   "cell_type": "markdown",
   "id": "985688aa",
   "metadata": {},
   "source": [
    "Do this in the following ways:\n",
    "\n",
    "Using the function outer in numpy+\n",
    "\n",
    "Using a nested for loop or list comprehension\n",
    "\n",
    "Using numpy broadcasting operatoins"
   ]
  },
  {
   "cell_type": "code",
   "execution_count": 7,
   "id": "c531972c",
   "metadata": {},
   "outputs": [
    {
     "name": "stdout",
     "output_type": "stream",
     "text": [
      "Outer product, u column array, v row array:\n",
      "\n",
      "\n",
      "result with outer function:\n",
      "[[ 2  4  6  8]\n",
      " [ 6 12 18 24]\n",
      " [10 20 30 40]\n",
      " [14 28 42 56]]\n",
      "result with list comprehension:\n",
      "[[ 2  4  6  8]\n",
      " [ 6 12 18 24]\n",
      " [10 20 30 40]\n",
      " [14 28 42 56]]\n",
      "result with broadcasting operations:\n",
      "(4,)\n",
      "[[1]\n",
      " [3]\n",
      " [5]\n",
      " [7]]\n",
      "[[ 2  4  6  8]\n",
      " [ 6 12 18 24]\n",
      " [10 20 30 40]\n",
      " [14 28 42 56]]\n",
      "\n",
      "\n",
      "Outer product, v column array, u row array:\n",
      "\n",
      "\n",
      "result with outer function:\n",
      "[[ 2  6 10 14]\n",
      " [ 4 12 20 28]\n",
      " [ 6 18 30 42]\n",
      " [ 8 24 40 56]]\n",
      "result with list comprehension:\n",
      "[[ 2  6 10 14]\n",
      " [ 4 12 20 28]\n",
      " [ 6 18 30 42]\n",
      " [ 8 24 40 56]]\n",
      "result with broadcasting operations:\n",
      "(4,)\n",
      "[[2]\n",
      " [4]\n",
      " [6]\n",
      " [8]]\n",
      "[[ 2  6 10 14]\n",
      " [ 4 12 20 28]\n",
      " [ 6 18 30 42]\n",
      " [ 8 24 40 56]]\n"
     ]
    }
   ],
   "source": [
    "\n",
    "print('Outer product, u column array, v row array:')\n",
    "print('\\n')\n",
    "\n",
    "print('result with outer function:')\n",
    "print(np.outer(u,v)) #use of function outer\n",
    "\n",
    "print('result with list comprehension:')\n",
    "outer = np.array([[i*j for i in v] for j in u]) #use of the list comprehension\n",
    "print(outer)\n",
    "\n",
    "print('result with broadcasting operations:') #use of broadcasting\n",
    "print(u.shape)\n",
    "print(u.reshape(4,1)) #reshaping of u\n",
    "print(u.reshape(4,1)*v)\n",
    "\n",
    "print('\\n')\n",
    "print('Outer product, v column array, u row array:')\n",
    "print('\\n')\n",
    "\n",
    "print('result with outer function:')\n",
    "print(np.outer(v,u)) #use of function outer\n",
    "\n",
    "print('result with list comprehension:')\n",
    "outer = np.array([[i*j for i in u] for j in v]) #use of the list comprehension\n",
    "print(outer)\n",
    "\n",
    "print('result with broadcasting operations:') #use of broadcasting\n",
    "print(v.shape)\n",
    "print(v.reshape(4,1)) #reshaping of v\n",
    "print(v.reshape(4,1)*u) "
   ]
  },
  {
   "cell_type": "markdown",
   "id": "23319bd7",
   "metadata": {},
   "source": [
    "### explanation of the solution\n",
    "\n",
    "1. Use of the definition of the function outer.\n",
    "2. The list comprehension is composed by two arrays, one in the other, in order to fix a value in the external for loop and multiplicate that value to get the rows with a value of the internal for loop. \n",
    "3. The broadcasting operations are possible between vectors or matrix of different dimension and in the outer product there are vectors of different dimension by definition. Using the definition of outer product we reshape the $u$ vector to get a column array and multiplicate it for $v$ which is a row array. THe process is the same for the second case but with $v$ and $u$ inverted. "
   ]
  },
  {
   "cell_type": "markdown",
   "id": "b31049ee",
   "metadata": {},
   "source": [
    "# exercise 3\n",
    "Create a 10 by 6 matrix of random uniform numbers. Set all rows with any entry less than 0.1 to be zero\n",
    "\n",
    "Hint: Use the following numpy functions - np.random.random, np.any as well as Boolean indexing and the axis argument."
   ]
  },
  {
   "cell_type": "code",
   "execution_count": 7,
   "id": "eba59a5e",
   "metadata": {},
   "outputs": [
    {
     "name": "stdout",
     "output_type": "stream",
     "text": [
      "flat array a:\n",
      "[0.09666085 0.6982385  0.71864582 0.80054563 0.21450402 0.19140171\n",
      " 0.54043824 0.40120056 0.48464196 0.91870298 0.77013674 0.69635543\n",
      " 0.91198395 0.85049452 0.42750761 0.52737093 0.89193223 0.71431043\n",
      " 0.08218663 0.35980339 0.91157565 0.51593264 0.62879395 0.18690493\n",
      " 0.28208732 0.91173647 0.81903204 0.16475879 0.32626889 0.27121171\n",
      " 0.43595546 0.73938117 0.97366912 0.92946807 0.42444506 0.58230238\n",
      " 0.99196379 0.27649364 0.8240887  0.2720938  0.48521168 0.71857593\n",
      " 0.88912549 0.97514251 0.00167699 0.3617151  0.39065813 0.3181711\n",
      " 0.52867039 0.01486969 0.07568437 0.89419435 0.65005275 0.83313479\n",
      " 0.82657163 0.08975547 0.65155816 0.26040433 0.01484319 0.2144055 ] \n",
      "\n",
      "array a 10x6:\n",
      "[[0.09666085 0.6982385  0.71864582 0.80054563 0.21450402 0.19140171]\n",
      " [0.54043824 0.40120056 0.48464196 0.91870298 0.77013674 0.69635543]\n",
      " [0.91198395 0.85049452 0.42750761 0.52737093 0.89193223 0.71431043]\n",
      " [0.08218663 0.35980339 0.91157565 0.51593264 0.62879395 0.18690493]\n",
      " [0.28208732 0.91173647 0.81903204 0.16475879 0.32626889 0.27121171]\n",
      " [0.43595546 0.73938117 0.97366912 0.92946807 0.42444506 0.58230238]\n",
      " [0.99196379 0.27649364 0.8240887  0.2720938  0.48521168 0.71857593]\n",
      " [0.88912549 0.97514251 0.00167699 0.3617151  0.39065813 0.3181711 ]\n",
      " [0.52867039 0.01486969 0.07568437 0.89419435 0.65005275 0.83313479]\n",
      " [0.82657163 0.08975547 0.65155816 0.26040433 0.01484319 0.2144055 ]] \n",
      "\n",
      "array with values less of 0.1 rounded to 0\n",
      "[[0.         0.6982385  0.71864582 0.80054563 0.21450402 0.19140171]\n",
      " [0.54043824 0.40120056 0.48464196 0.91870298 0.77013674 0.69635543]\n",
      " [0.91198395 0.85049452 0.42750761 0.52737093 0.89193223 0.71431043]\n",
      " [0.         0.35980339 0.91157565 0.51593264 0.62879395 0.18690493]\n",
      " [0.28208732 0.91173647 0.81903204 0.16475879 0.32626889 0.27121171]\n",
      " [0.43595546 0.73938117 0.97366912 0.92946807 0.42444506 0.58230238]\n",
      " [0.99196379 0.27649364 0.8240887  0.2720938  0.48521168 0.71857593]\n",
      " [0.88912549 0.97514251 0.         0.3617151  0.39065813 0.3181711 ]\n",
      " [0.52867039 0.         0.         0.89419435 0.65005275 0.83313479]\n",
      " [0.82657163 0.         0.65155816 0.26040433 0.         0.2144055 ]] \n",
      "\n"
     ]
    }
   ],
   "source": [
    "print('flat array a:')\n",
    "a=np.array(np.random.random(60)) #flat array of 60 random numbers\n",
    "print(a,'\\n')\n",
    "\n",
    "print('array a 10x6:')\n",
    "a=a.reshape(10,6) # reshaping of a\n",
    "print(a,'\\n')\n",
    "\n",
    "print('array with values less of 0.1 rounded to 0')\n",
    "a[a < 0.1] = 0 #use of the mask\n",
    "print(a,'\\n')\n"
   ]
  },
  {
   "cell_type": "markdown",
   "id": "1c5ba0bb",
   "metadata": {},
   "source": [
    "### explanation of the solution\n",
    "\n",
    "The programs is based in:\n",
    "1. creating a flat array of random numbers\n",
    "2. reshaping the array\n",
    "3. using a mask it sets all array elements less then 0.1 to 0"
   ]
  },
  {
   "cell_type": "markdown",
   "id": "a1bd9074",
   "metadata": {},
   "source": [
    "## exercise 4\n",
    "Use np.linspace to create an array of 100 numbers between 0 and 2π (includsive).\n",
    "\n",
    "Extract every 10th element using slice notation\n",
    "\n",
    "Reverse the array using slice notation\n",
    "\n",
    "Extract elements where the absolute difference between the sine and cosine functions evaluated at that element is less than 0.1\n",
    "\n",
    "Make a plot showing the sin and cos functions and indicate where they are close\n",
    "\n"
   ]
  },
  {
   "cell_type": "code",
   "execution_count": 8,
   "id": "d3b32d93",
   "metadata": {},
   "outputs": [
    {
     "name": "stdout",
     "output_type": "stream",
     "text": [
      "the array:\n",
      "[0.         0.06346652 0.12693304 0.19039955 0.25386607 0.31733259\n",
      " 0.38079911 0.44426563 0.50773215 0.57119866 0.63466518 0.6981317\n",
      " 0.76159822 0.82506474 0.88853126 0.95199777 1.01546429 1.07893081\n",
      " 1.14239733 1.20586385 1.26933037 1.33279688 1.3962634  1.45972992\n",
      " 1.52319644 1.58666296 1.65012947 1.71359599 1.77706251 1.84052903\n",
      " 1.90399555 1.96746207 2.03092858 2.0943951  2.15786162 2.22132814\n",
      " 2.28479466 2.34826118 2.41172769 2.47519421 2.53866073 2.60212725\n",
      " 2.66559377 2.72906028 2.7925268  2.85599332 2.91945984 2.98292636\n",
      " 3.04639288 3.10985939 3.17332591 3.23679243 3.30025895 3.36372547\n",
      " 3.42719199 3.4906585  3.55412502 3.61759154 3.68105806 3.74452458\n",
      " 3.8079911  3.87145761 3.93492413 3.99839065 4.06185717 4.12532369\n",
      " 4.1887902  4.25225672 4.31572324 4.37918976 4.44265628 4.5061228\n",
      " 4.56958931 4.63305583 4.69652235 4.75998887 4.82345539 4.88692191\n",
      " 4.95038842 5.01385494 5.07732146 5.14078798 5.2042545  5.26772102\n",
      " 5.33118753 5.39465405 5.45812057 5.52158709 5.58505361 5.64852012\n",
      " 5.71198664 5.77545316 5.83891968 5.9023862  5.96585272 6.02931923\n",
      " 6.09278575 6.15625227 6.21971879 6.28318531]\n",
      "\n",
      "\n",
      "the array size is:100\n",
      "\n",
      "every 10th element:\n",
      "[0.         0.63466518 1.26933037 1.90399555 2.53866073 3.17332591\n",
      " 3.8079911  4.44265628 5.07732146 5.71198664]\n",
      "\n",
      "\n",
      "reversed array:\n",
      "[6.28318531 6.21971879 6.15625227 6.09278575 6.02931923 5.96585272\n",
      " 5.9023862  5.83891968 5.77545316 5.71198664 5.64852012 5.58505361\n",
      " 5.52158709 5.45812057 5.39465405 5.33118753 5.26772102 5.2042545\n",
      " 5.14078798 5.07732146 5.01385494 4.95038842 4.88692191 4.82345539\n",
      " 4.75998887 4.69652235 4.63305583 4.56958931 4.5061228  4.44265628\n",
      " 4.37918976 4.31572324 4.25225672 4.1887902  4.12532369 4.06185717\n",
      " 3.99839065 3.93492413 3.87145761 3.8079911  3.74452458 3.68105806\n",
      " 3.61759154 3.55412502 3.4906585  3.42719199 3.36372547 3.30025895\n",
      " 3.23679243 3.17332591 3.10985939 3.04639288 2.98292636 2.91945984\n",
      " 2.85599332 2.7925268  2.72906028 2.66559377 2.60212725 2.53866073\n",
      " 2.47519421 2.41172769 2.34826118 2.28479466 2.22132814 2.15786162\n",
      " 2.0943951  2.03092858 1.96746207 1.90399555 1.84052903 1.77706251\n",
      " 1.71359599 1.65012947 1.58666296 1.52319644 1.45972992 1.3962634\n",
      " 1.33279688 1.26933037 1.20586385 1.14239733 1.07893081 1.01546429\n",
      " 0.95199777 0.88853126 0.82506474 0.76159822 0.6981317  0.63466518\n",
      " 0.57119866 0.50773215 0.44426563 0.38079911 0.31733259 0.25386607\n",
      " 0.19039955 0.12693304 0.06346652 0.        ]\n",
      "\n",
      "\n",
      "[0.76159822 0.82506474 3.87145761 3.93492413]\n"
     ]
    },
    {
     "data": {
      "text/plain": [
       "<matplotlib.legend.Legend at 0x7f831cd4dcd0>"
      ]
     },
     "execution_count": 8,
     "metadata": {},
     "output_type": "execute_result"
    },
    {
     "data": {
      "image/png": "[encoded data removed]",
      "text/plain": [
       "<Figure size 432x288 with 1 Axes>"
      ]
     },
     "metadata": {
      "needs_background": "light"
     },
     "output_type": "display_data"
    }
   ],
   "source": [
    "import matplotlib.pyplot as plt\n",
    "\n",
    "pi=np.pi #definition of pi\n",
    "\n",
    "a=np.linspace(0, 2*pi, 100) #creation of the array with linespace\n",
    "print('the array:')\n",
    "print(a)\n",
    "print( '\\n')\n",
    "\n",
    "print(f'the array size is:{a.size}\\n')\n",
    "print( 'every 10th element:')\n",
    "print(a[0:100:10])#Extracting every 10th element using slice notation\n",
    "print('\\n')\n",
    "\n",
    "print('reversed array:')\n",
    "print(a[::-1]) #revearsing array\n",
    "print( '\\n')\n",
    "\n",
    "print('the elements of the array where the absolute difference between the sine and cosine functions evaluated at that element is less than 0.1: ')\n",
    "mask = (np.abs(np.sin(a)-np.cos(a)) < 0.1) #definition of the mask\n",
    "print(a[mask]) #extracting element which respects the condition of the mask\n",
    " \n",
    "#plot\n",
    "plt.scatter(a[mask], np.sin(a[mask]), color='green')\n",
    "plt.plot(a, np.sin(a), label='sin')\n",
    "plt.plot(a, np.cos(a), label='cos')\n",
    "plt.legend(loc='best')"
   ]
  },
  {
   "cell_type": "markdown",
   "id": "e4b2b39a",
   "metadata": {},
   "source": [
    "## exercise 5\n",
    "Create a matrix that shows the 10 by 10 multiplication table.\n",
    "\n",
    "Find the trace of the matrix\n",
    "\n",
    "Extract the anto-diagonal (this should be array([10, 18, 24, 28, 30, 30, 28, 24, 18, 10]))\n",
    "\n",
    "Extract the diagnoal offset by 1 upwards (this should be array([ 2,  6, 12, 20, 30, 42, 56, 72, 90]))"
   ]
  },
  {
   "cell_type": "code",
   "execution_count": 9,
   "id": "f9bab9a6",
   "metadata": {},
   "outputs": [
    {
     "name": "stdout",
     "output_type": "stream",
     "text": [
      "the array is:\n",
      "[[  1   2   3   4   5   6   7   8   9  10]\n",
      " [  2   4   6   8  10  12  14  16  18  20]\n",
      " [  3   6   9  12  15  18  21  24  27  30]\n",
      " [  4   8  12  16  20  24  28  32  36  40]\n",
      " [  5  10  15  20  25  30  35  40  45  50]\n",
      " [  6  12  18  24  30  36  42  48  54  60]\n",
      " [  7  14  21  28  35  42  49  56  63  70]\n",
      " [  8  16  24  32  40  48  56  64  72  80]\n",
      " [  9  18  27  36  45  54  63  72  81  90]\n",
      " [ 10  20  30  40  50  60  70  80  90 100]]\n",
      "\n",
      "\n",
      "the diagonal of the matrix, and the corresponding diagonal matrix are:\n",
      "[  1   4   9  16  25  36  49  64  81 100]\n",
      "[[  1   0   0   0   0   0   0   0   0   0]\n",
      " [  0   4   0   0   0   0   0   0   0   0]\n",
      " [  0   0   9   0   0   0   0   0   0   0]\n",
      " [  0   0   0  16   0   0   0   0   0   0]\n",
      " [  0   0   0   0  25   0   0   0   0   0]\n",
      " [  0   0   0   0   0  36   0   0   0   0]\n",
      " [  0   0   0   0   0   0  49   0   0   0]\n",
      " [  0   0   0   0   0   0   0  64   0   0]\n",
      " [  0   0   0   0   0   0   0   0  81   0]\n",
      " [  0   0   0   0   0   0   0   0   0 100]]\n",
      "\n",
      "\n",
      "the trace is:385\n",
      "\n",
      "\n",
      "the antidiagonal is:\n",
      "[10 18 24 28 30 30 28 24 18 10]\n",
      "\n",
      "\n",
      "the diagnoal offset by 1 upwards is:\n",
      "[2, 6, 12, 20, 30, 42, 56, 72, 90]\n"
     ]
    }
   ],
   "source": [
    "a=np.array([[i*j for i in range(1,11)] for j in range(1,11)])#creation of the array with list comprehension\n",
    "\n",
    "print('the array is:')\n",
    "print(a) \n",
    "print('\\n')\n",
    "\n",
    "print('the diagonal of the matrix, and the corresponding diagonal matrix are:')\n",
    "print(np.diag(a)) #diagonal of the matrix using diag\n",
    "print(np.diag(np.diag(a))) #diagonal matrix using diag\n",
    "print('\\n')\n",
    "print(f'the trace is:{sum(np.diag(a))}') #summing the elements of the diagonal to find the trace\n",
    "print('\\n')\n",
    "\n",
    "print('the antidiagonal is:')\n",
    "print(np.diag(a[::-1])) #extract the antidiagonal using the slicing\n",
    "print('\\n')\n",
    "\n",
    "\n",
    "print('the diagnoal offset by 1 upwards is:')\n",
    "print([a[i][i+1] for i in range(0,9)])"
   ]
  },
  {
   "cell_type": "markdown",
   "id": "22f6e135",
   "metadata": {},
   "source": [
    "### exeplanation of the solution\n",
    "\n",
    "1. the trace is the sum of the element of the diagonal. Using $diag$ it is posssible to get the array of the elements of the matrix. Then it is simple to sum them.\n",
    "\n",
    "2. Using a simple command of slicing it is possible to round the matrix and then get the diagonal using $diag$. The result is the antidiagonal.\n",
    "\n",
    "3. It is simple to get it by using a for loop and managing the indexes"
   ]
  },
  {
   "cell_type": "markdown",
   "id": "eeb6703c",
   "metadata": {},
   "source": [
    "## exercise 6\n",
    "Use broadcasting to create a grid of distances\n",
    "\n",
    "Route 66 crosses the following cities in the US: Chicago, Springfield, Saint-Louis, Tulsa, Oklahoma City, Amarillo, Santa Fe, Albuquerque, Flagstaff, Los Angeles The corresponding positions in miles are: 0, 198, 303, 736, 871, 1175, 1475, 1544, 1913, 2448\n",
    "\n",
    "Construct a 2D grid of distances among each city along Route 66\n",
    "\n",
    "Convert that in km (those savages...)\n"
   ]
  },
  {
   "cell_type": "code",
   "execution_count": 10,
   "id": "b87402e4",
   "metadata": {},
   "outputs": [
    {
     "name": "stdout",
     "output_type": "stream",
     "text": [
      "(10,)\n",
      "the array is:\n",
      "[   0  198  303  736  871 1175 1475 1544 1913 2448]\n",
      "n\n",
      "the grid of the distances(miles):\n",
      "[[   0  198  303  736  871 1175 1475 1544 1913 2448]\n",
      " [ 198    0  105  538  673  977 1277 1346 1715 2250]\n",
      " [ 303  105    0  433  568  872 1172 1241 1610 2145]\n",
      " [ 736  538  433    0  135  439  739  808 1177 1712]\n",
      " [ 871  673  568  135    0  304  604  673 1042 1577]\n",
      " [1175  977  872  439  304    0  300  369  738 1273]\n",
      " [1475 1277 1172  739  604  300    0   69  438  973]\n",
      " [1544 1346 1241  808  673  369   69    0  369  904]\n",
      " [1913 1715 1610 1177 1042  738  438  369    0  535]\n",
      " [2448 2250 2145 1712 1577 1273  973  904  535    0]]\n",
      "the grid of the distances(km):\n",
      "[[   0.     366.696  561.156 1363.072 1613.092 2176.1   2731.7   2859.488\n",
      "  3542.876 4533.696]\n",
      " [ 366.696    0.     194.46   996.376 1246.396 1809.404 2365.004 2492.792\n",
      "  3176.18  4167.   ]\n",
      " [ 561.156  194.46     0.     801.916 1051.936 1614.944 2170.544 2298.332\n",
      "  2981.72  3972.54 ]\n",
      " [1363.072  996.376  801.916    0.     250.02   813.028 1368.628 1496.416\n",
      "  2179.804 3170.624]\n",
      " [1613.092 1246.396 1051.936  250.02     0.     563.008 1118.608 1246.396\n",
      "  1929.784 2920.604]\n",
      " [2176.1   1809.404 1614.944  813.028  563.008    0.     555.6    683.388\n",
      "  1366.776 2357.596]\n",
      " [2731.7   2365.004 2170.544 1368.628 1118.608  555.6      0.     127.788\n",
      "   811.176 1801.996]\n",
      " [2859.488 2492.792 2298.332 1496.416 1246.396  683.388  127.788    0.\n",
      "   683.388 1674.208]\n",
      " [3542.876 3176.18  2981.72  2179.804 1929.784 1366.776  811.176  683.388\n",
      "     0.     990.82 ]\n",
      " [4533.696 4167.    3972.54  3170.624 2920.604 2357.596 1801.996 1674.208\n",
      "   990.82     0.   ]]\n"
     ]
    }
   ],
   "source": [
    "\n",
    "a=np.array([ 0, 198, 303, 736, 871, 1175, 1475, 1544, 1913, 2448]) #definition of the array\n",
    "\n",
    "print(a.shape)\n",
    "print('the array is:')\n",
    "print(a)\n",
    "print('n')\n",
    "\n",
    "print('the grid of the distances(miles):')\n",
    "a=np.abs(a-a.reshape(10,1)) #building the grid\n",
    "print(a)\n",
    "\n",
    "print('the grid of the distances(km):')\n",
    "a=1.852*a #multiplicating every element of the array with a costant\n",
    "print(a)"
   ]
  },
  {
   "cell_type": "markdown",
   "id": "761e0bce",
   "metadata": {},
   "source": [
    "### explnation of the solution\n",
    "\n",
    "Tee basic idea is using the broadcasting substruction between the array and the reshaped array(as column) to build the grid.\n",
    "At the end it is easy to convert the miles to km by simply multiplicating to the factor 1.852."
   ]
  },
  {
   "cell_type": "markdown",
   "id": "6b13dd33",
   "metadata": {},
   "source": [
    "## exercise 7\n",
    "\n",
    "Prime numbers sieve: compute the prime numbers in the 0-N (N=99 to start with) range with a sieve (mask).\n",
    "\n",
    "\n",
    " \n",
    "\n",
    "- Constract a shape (100,) boolean array, the mask\n",
    "\n",
    "- Identify the multiples of each number starting from 2 and set accordingly the corresponding mask elementù\n",
    "\n",
    "- Apply the mask to obtain an array of ordered prime numbers\n",
    "\n",
    "- Check the performances (timeit); how does it scale with N?\n",
    "\n",
    "- Implement the optimization suggested in the sieve of Eratosthenes"
   ]
  },
  {
   "cell_type": "code",
   "execution_count": 12,
   "id": "ea075ce3",
   "metadata": {},
   "outputs": [
    {
     "name": "stdout",
     "output_type": "stream",
     "text": [
      "[ 0  1  2  3  5  7 11 13 17 19 23 29 31 37 41 43 47 53 59 61 67 71 73 79\n",
      " 83 89 97]\n"
     ]
    },
    {
     "data": {
      "text/plain": [
       "Text(0, 0.5, 'time(s)')"
      ]
     },
     "execution_count": 12,
     "metadata": {},
     "output_type": "execute_result"
    },
    {
     "data": {
      "image/png": "[encoded data removed]",
      "text/plain": [
       "<Figure size 432x288 with 1 Axes>"
      ]
     },
     "metadata": {
      "needs_background": "light"
     },
     "output_type": "display_data"
    }
   ],
   "source": [
    "import time\n",
    "\n",
    "def prime(N): #definition of the function\n",
    "    \n",
    "    prime_num=[] \n",
    "    \n",
    "    for i in range(N):\n",
    "        \n",
    "        if i==0 or i==1 or i==2: #condition which consider 0,1 and 2 as prime numbers\n",
    "            prime_num.append(True)\n",
    "        else:\n",
    "            prime_num.append(False) #appending the False value to the array\n",
    "            \n",
    "            for j in range(2,i): # for loop to verify if j is multiple of i\n",
    "                \n",
    "                if i%j==0 and j!=i-1: #condition of j to be multiple of i\n",
    "                    break\n",
    "                if j==i-1 and i%j!=0: #conditon of j to be a prime number\n",
    "                    prime_num.pop() #eliminating the False value and turning it to True\n",
    "                    prime_num.append(True) \n",
    "                \n",
    "    return prime_num\n",
    "\n",
    "mask=prime(100) #definition of the mask\n",
    "a=np.arange(100) #definition of the array\n",
    "a=a[mask] #application of the mask\n",
    "print(a)\n",
    "\n",
    "\n",
    "list_t=[]#definition of useful lists\n",
    "list_i=[]\n",
    "N=1000 #limit of the range where the program finds the prime numbers\n",
    "\n",
    "for i in range (0,N,10):#loop for fixing the range where the program finds the prime numbers. At each loop the limit is increased by 10\n",
    "    now = time.time() #fixing the time\n",
    "    \n",
    "    a=np.arange(i)# algorithm to find ptime numbers\n",
    "    a=a[prime(i)]\n",
    "    \n",
    "    list_t.append(time.time()-now) #calculating the performance opf the process and saving it in a list for each loop\n",
    "    list_i.append(i) #saving the limit in a list for each loop\n",
    "    \n",
    "    \n",
    "#plotting the result\n",
    "plt.plot(list_i,list_t,'o')\n",
    "plt.xlabel('N')\n",
    "plt.ylabel('time(s)')"
   ]
  },
  {
   "cell_type": "code",
   "execution_count": null,
   "id": "7d747ec7",
   "metadata": {},
   "outputs": [],
   "source": [
    "\n",
    "a=np.arange(0,100) #initialization of the array\n",
    "print(a)\n",
    "\n",
    "def era(N): #definition of the sieve of Eratosthenes by using a function\n",
    "    \n",
    "    mask=[True for i in range(N)] #filling an array with n True values\n",
    "    m=int(np.sqrt(N)) # defining the limit for the sieve of Eratosthenes\n",
    "    \n",
    "    for i in range(N): #loop to find numbers multiples of other numbers\n",
    "        for j in range(i*i,N,i): #condition to be a multiple in the sieve of Eratosthenes\n",
    "            mask[j]=False #setting to False the mask values corresponding to multiples\n",
    "               \n",
    "    return mask #final result\n",
    "        \n",
    "print(a[era(100)]) #application of the mask\n",
    "\n"
   ]
  },
  {
   "cell_type": "markdown",
   "id": "7278a280",
   "metadata": {},
   "source": [
    "### explanation of the solution\n",
    "\n",
    "1. The mask is created by defining a function. The function creates a list of True and False values with N elements. It sets to True the first three values of the list corresponding to the numbers 0,1,2. For the other numbers, the function firstly append a False value and it verifies if a number is a multiple of one of the numbers smaller then it. If it is the loop stops and restart with a new number to analize. If it is not the function substitute the value False with the value True. The result is a mask which is applied to the array. The preformances scale as shown by the plot. As expected, they time needed increase with N.\n",
    "\n",
    "\n",
    "2. As before, the mask is created by defining function. This function is based on the sieve of Eratosthenes. The idea  is to create a list with N True values. With a first for loop the program fixes a number and it calculates the 'marked' numbers corresponding to it. Found them, the program sets to False their corresponding mask values.The result is a mask which is applied to the array."
   ]
  }
 ],
 "metadata": {
  "kernelspec": {
   "display_name": "Python 3",
   "language": "python",
   "name": "python3"
  },
  "language_info": {
   "codemirror_mode": {
    "name": "ipython",
    "version": 3
   },
   "file_extension": ".py",
   "mimetype": "text/x-python",
   "name": "python",
   "nbconvert_exporter": "python",
   "pygments_lexer": "ipython3",
   "version": "3.8.8"
  }
 },
 "nbformat": 4,
 "nbformat_minor": 5
}
